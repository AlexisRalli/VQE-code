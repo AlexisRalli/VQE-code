{
 "cells": [
  {
   "cell_type": "code",
   "execution_count": 1,
   "metadata": {},
   "outputs": [
    {
     "name": "stderr",
     "output_type": "stream",
     "text": [
      "Building Graph Edges: 100%|##########| 15/15 [00:00<00:00, 1744.72it/s]\n"
     ]
    },
    {
     "data": {
      "text/plain": [
       "{0: [(0.1686889816869329+0j) [Z0 Z1]],\n",
       " 1: [(0.12062523481381837+0j) [Z1 Z3]],\n",
       " 2: [(0.12062523481381837+0j) [Z0 Z2]],\n",
       " 3: [(0.16592785032250768+0j) [Z1 Z2]],\n",
       " 4: [(0.16592785032250768+0j) [Z0 Z3]],\n",
       " 5: [(-0.09706626861762624+0j) []],\n",
       " 6: [(0.174412876106516+0j) [Z2 Z3]],\n",
       " 7: [(0.171412826394024+0j) [Z1], (-0.04530261550868928+0j) [X0 X1 Y2 Y3]],\n",
       " 8: [(0.17141282639402405+0j) [Z0], (0.04530261550868928+0j) [Y0 X1 X2 Y3]],\n",
       " 9: [(-0.04530261550868928+0j) [Y0 Y1 X2 X3], (-0.2234315367466397+0j) [Z3]],\n",
       " 10: [(-0.2234315367466397+0j) [Z2], (0.04530261550868928+0j) [X0 Y1 Y2 X3]]}"
      ]
     },
     "execution_count": 1,
     "metadata": {},
     "output_type": "execute_result"
    }
   ],
   "source": [
    "from quchem.Hamiltonian_Generator_Functions import *\n",
    "from quchem.Graph import *\n",
    "### HAMILTONIAN start\n",
    "Molecule = 'H2'#'LiH'\n",
    "geometry = [('H', (0., 0., 0.)), ('H', (0., 0., 0.74))]#[('Li', (0., 0., 0.)), ('H', (0., 0., 1.45))]\n",
    "num_shots = 10000\n",
    "basis = 'sto-3g'\n",
    "\n",
    "\n",
    "### Get Hamiltonian\n",
    "Hamilt = Hamiltonian(Molecule,\n",
    "                     run_scf=1, run_mp2=1, run_cisd=1, run_ccsd=1, run_fci=1,\n",
    "                     basis=basis,\n",
    "                     multiplicity=1,\n",
    "                     geometry=geometry)  # normally None!\n",
    "QubitHamiltonian = Hamilt.Get_Qubit_Hamiltonian(threshold=None, transformation='JW')\n",
    "### HAMILTONIAN end\n",
    "\n",
    "#####################################\n",
    "\n",
    "Hamiltonian_graph_obj = Openfermion_Hamiltonian_Graph(QubitHamiltonian)\n",
    "\n",
    "commutativity_flag = 'AC' ## <- defines relationship between sets!!!\n",
    "plot_graph = False\n",
    "Graph_colouring_strategy='largest_first'\n",
    "anit_commuting_sets = Hamiltonian_graph_obj.Get_Clique_Cover_as_QubitOp(commutativity_flag, Graph_colouring_strategy=Graph_colouring_strategy, plot_graph=plot_graph)\n",
    "anit_commuting_sets"
   ]
  },
  {
   "cell_type": "markdown",
   "metadata": {},
   "source": [
    "The Hamiltonian is a sum of PauliWords:\n",
    "\n",
    "$$H=\\sum_{j=1}^{m} \\alpha_{j} P_{j}$$\n",
    "\n",
    "In this there are completely anti-commuting sets, denoted as $H_{S}$:\n",
    "\n",
    "$$H_{S}=\\sum_{P_{j} \\in S} \\alpha_{j} P_{j}$$\n",
    "\n",
    "where:\n",
    "- $\\left\\{P_{j}, P_{k}\\right\\}=0$ for $\\forall P_{j} \\neq P_{k} \\in S$\n",
    "- $H=\\sum_{S} H_{S}$\n",
    "\n",
    "We want **want** the sum of the sqaures of the cofactors to be 1:\n",
    "\n",
    "$$H_{S}=\\sum_{P_{j} \\in S} \\alpha_{j} P_{j}=\\gamma_{l} \\sum_{P_{j} \\in S} \\beta_{j} P_{j}$$\n",
    "\n",
    "- aka: $\\sum_{j} \\beta_{j}^{2}=1$\n",
    "- and $\\gamma_{l}$ is the correction factor\n",
    "\n",
    "SO overall we can turn our Hamiltonian into $l$ anti_commutings sets as:\n",
    "\n",
    "$$H=\\sum_{j=1}^{m} \\alpha_{j} P_{j}=\\sum_{l=1}^{m_{c}} \\gamma_{l} H_{S_{l}}$$"
   ]
  },
  {
   "cell_type": "markdown",
   "metadata": {},
   "source": [
    "////////////////"
   ]
  },
  {
   "cell_type": "markdown",
   "metadata": {},
   "source": [
    "1. re-write set $H_{S}$ ($=\\gamma_{l} \\sum_{P_{j} \\in S} \\beta_{j} P_{j}$) with $\\beta_{n} P_{n}$ outside sum :\n",
    "\n",
    "\n",
    "$$\\frac{H_{S}}{\\gamma_{l}}= \\beta_{n} P_{n} + \\sum_{P_{j} \\in S, j \\neq n} \\beta_{j} P_{j}$$\n",
    "\n",
    "- $\\sum_{j} \\beta_{j}^{2}=1$\n",
    "- $\\alpha_{j} =  \\gamma_{l} \\beta_{j}$\n",
    "\n",
    "$$\\frac{H_{S}}{\\gamma_{l}}= \\beta_{n} P_{n} + \\Omega_{l} \\sum_{P_{j} \\in S, j \\neq n} \\delta_{j} P_{j}$$\n",
    "\n",
    "where:\n",
    "- $\\sum_{j} \\delta_{j}^{2}=1$\n",
    "- $\\beta_{j} =  \\Omega_{l} \\delta_{j}$"
   ]
  },
  {
   "cell_type": "markdown",
   "metadata": {},
   "source": [
    "2. The definition of $H_{n-1}$ is:\n",
    "\n",
    "$$H_{n-1}=\\sum_{k=1}^{n-1} \\delta_{k} P_{k}$$\n",
    "\n",
    "therefore:\n",
    "\n",
    "$$\\frac{H_{S}}{\\gamma_{l}}= \\beta_{n} P_{n} + \\Omega_{l} \\sum_{P_{j} \\in S, j \\neq n} \\delta_{j} P_{j}= \\beta_{n} P_{n} + \\Omega_{l} H_{n-1}$$\n",
    "\n",
    "$$\\frac{H_{S}}{\\gamma_{l} \\Omega_{l}}= \\frac{\\beta_{n}}{ \\Omega_{l}}  P_{n} +  \\sum_{P_{j} \\in S, j \\neq n} \\delta_{j} P_{j}= \\frac{\\beta_{n}}{ \\Omega_{l}} P_{n} + H_{n-1}$$"
   ]
  },
  {
   "cell_type": "markdown",
   "metadata": {},
   "source": [
    "OVERALL:\n",
    "\n",
    "if $H_{n}$ is defined as:\n",
    "\n",
    "$$H_{n}=\\sin \\phi_{n-1} H_{n-1}+\\cos \\phi_{n-1} P_{n}$$\n"
   ]
  },
  {
   "cell_type": "markdown",
   "metadata": {},
   "source": [
    "WRITING EVERYTHING OUT!\n",
    "\n",
    "$$H_{S}=\\sum_{P_{j} \\in S} \\alpha_{j} P_{j}$$\n",
    "\n",
    "$$\\frac{H_{S}}{\\gamma_{l}}= \\frac{\\alpha_{n}}{\\gamma_{l}} P_{n} + \\sum_{P_{j} \\in S, j \\neq n} \\bigg( \\frac{\\alpha_{j}}{\\gamma_{l}}\\mathbin{/}\\Omega_{l}\\bigg) P_{j}$$\n",
    "\n",
    "\n",
    "$$ \\frac{H_{S}}{\\gamma_{l}}= \\beta_{n} P_{n} +\\sum_{P_{j} \\in S, j \\neq n} \\bigg( \\frac{\\beta_{j}}{\\Omega_{l}}\\bigg) P_{j}$$\n",
    "\n",
    "$$ \\frac{H_{S}}{\\gamma_{l}}= \\beta_{n} P_{n} + \\Omega_{l} \\sum_{P_{j} \\in S, j \\neq n} \\delta{j} P_{j} = H_{n}$$"
   ]
  },
  {
   "cell_type": "markdown",
   "metadata": {},
   "source": [
    "THEN from $H_{n}$ definition:\n",
    "\n",
    "$$\\cos \\phi_{n-1}= {\\beta_{n}} $$\n",
    "\n",
    "or\n",
    "- $\\phi_{n-1} = \\arccos\\big(\\beta_{n}\\big)$"
   ]
  },
  {
   "cell_type": "markdown",
   "metadata": {},
   "source": [
    "$$ \\frac{H_{S}}{\\gamma_{l}}= \\beta_{n} P_{n} + \\Omega_{l} \\sum_{P_{j} \\in S, j \\neq n} \\delta{j} P_{j} = H_{n}$$"
   ]
  },
  {
   "cell_type": "markdown",
   "metadata": {},
   "source": [
    "$$H_{n}= \\Omega_{l} \\sin \\phi_{n-1} H_{n-1}+\\cos \\phi_{n-1} P_{n}$$"
   ]
  },
  {
   "cell_type": "markdown",
   "metadata": {},
   "source": [
    "## we are measuring $P_{n}R$"
   ]
  },
  {
   "cell_type": "markdown",
   "metadata": {},
   "source": [
    "$$H_{n}= \\Omega_{l} \\sin \\phi_{n-1} H_{n-1}+\\cos \\phi_{n-1} P_{n}$$\n",
    "\n",
    "- $R=\\exp (-i \\alpha \\mathcal{X} / 2)=\\cos (\\alpha / 2) \\mathbb{1}-i \\sin (\\alpha / 2) \\mathcal{X}$\n",
    "- $H_{n} =  \\beta_{n} P_{n} + \\Omega_{l} \\sum_{P_{j} \\in S, j \\neq n} \\delta{j} P_{j} $\n",
    "\n",
    "$$RH_{n}= \\cos \\big(\\frac{\\alpha}{2} \\big) \\bigg( H_{n} \\bigg) - i \\sin \\big(\\frac{\\alpha}{2} \\big) \\bigg( \\mathcal{X} H_{n}  \\bigg)$$"
   ]
  },
  {
   "cell_type": "markdown",
   "metadata": {},
   "source": [
    "expanding:\n",
    "\n",
    "$$RH_{n}= \\cos \\big(\\frac{\\alpha}{2} \\big) \\bigg( \\Omega_{l} \\sin \\phi_{n-1} H_{n-1}+\\cos \\phi_{n-1} P_{n} \\bigg) - i \\sin \\big(\\frac{\\alpha}{2} \\big) \\bigg(  \\Omega_{l} \\sin \\phi_{n-1} \\mathcal{X} H_{n-1}+\\cos \\phi_{n-1} \\mathcal{X} P_{n}  \\bigg)$$"
   ]
  },
  {
   "cell_type": "markdown",
   "metadata": {},
   "source": [
    "- $\\mathcal{X} H_{n} = i \\big(-sin(\\phi_{n-1}) P_{n} + cos(\\phi_{n-1}) H_{n-1} \\big)$\n",
    "\n",
    "$$RH_{n}= \\cos \\big(\\frac{\\alpha}{2} \\big) \\bigg( \\Omega_{l} \\sin \\phi_{n-1} H_{n-1}+\\cos \\phi_{n-1} P_{n} \\bigg) - i \\sin \\big(\\frac{\\alpha}{2} \\big) \\bigg(  \\Omega_{l} \\sin \\phi_{n-1} \\mathcal{X} H_{n-1}+\\cos \\phi_{n-1} \\mathcal{X} P_{n}  \\bigg)$$"
   ]
  },
  {
   "cell_type": "markdown",
   "metadata": {},
   "source": [
    "NOW $\\alpha = \\phi_{n-1}$"
   ]
  },
  {
   "cell_type": "markdown",
   "metadata": {},
   "source": [
    "$$RH_{n}= \\cos \\big(\\frac{\\alpha}{2} \\big) \\bigg( \\Omega_{l} \\sin (\\alpha) H_{n-1}+\\cos (\\alpha) P_{n} \\bigg) - i \\sin \\big(\\frac{\\alpha}{2} \\big) \\bigg(  \\Omega_{l} \\sin (\\alpha) \\mathcal{X} H_{n-1}+\\cos (\\alpha) \\mathcal{X} P_{n}  \\bigg)$$"
   ]
  },
  {
   "cell_type": "code",
   "execution_count": 85,
   "metadata": {},
   "outputs": [
    {
     "data": {
      "text/plain": [
       "(1-0j)"
      ]
     },
     "execution_count": 85,
     "metadata": {},
     "output_type": "execute_result"
    }
   ],
   "source": [
    "-1j*1j"
   ]
  },
  {
   "cell_type": "markdown",
   "metadata": {},
   "source": [
    "- $\\mathcal{X} H_{n} = ??$\n",
    "\n",
    "normally: $\\mathcal{X} H_{n} = i \\big(-sin(\\phi_{n-1}) P_{n} + cos(\\phi_{n-1}) H_{n-1} \\big)$\n",
    "\n",
    "BUT no omega term"
   ]
  },
  {
   "cell_type": "markdown",
   "metadata": {},
   "source": [
    "- $ \\mathcal{X} =i \\sum_{k=1}^{n-1} \\delta_{k} P_{k} P_{n}$\n",
    "- $H_{n} = \\beta_{n} P_{n} + \\Omega_{l} \\sum_{P_{j} \\in S, j \\neq n} \\delta_{j} P_{j}$"
   ]
  },
  {
   "cell_type": "markdown",
   "metadata": {},
   "source": [
    "$$\\mathcal{X} H_{n}= \\bigg( i \\sum_{k=1}^{n-1} \\delta_{k} P_{k} P_{n} \\bigg) \\bigg( \\beta_{n} P_{n} + \\Omega_{l} \\sum_{P_{j} \\in S, j \\neq n} \\delta_{j} P_{j} \\bigg)$$\n",
    "\n",
    "\n",
    "$$\\mathcal{X} H_{n}= i  \\sum_{k=1}^{n-1} \\delta_{k} P_{k} P_{n} \\big( \\beta_{n} P_{n} \\big) +  i  \\sum_{k=1}^{n-1} \\delta_{k} P_{k} P_{n}\\big(  \\Omega_{l} \\sum_{j=1}^{n-1} \\delta_{j} P_{j} \\big)$$\n",
    "\n",
    "$$\\mathcal{X} H_{n}= i \\beta_{n} \\sum_{k=1}^{n-1} \\delta_{k} P_{k} P_{n} \\big(  P_{n} \\big) +  i \\Omega_{l}  \\sum_{j,k=1}^{n-1} \\delta_{k} P_{k} P_{n}\\big( \\delta_{j} P_{j} \\big)$$\n",
    "\n",
    "$$\\mathcal{X} H_{n}= i \\beta_{n} \\sum_{k=1}^{n-1} \\delta_{k} P_{k} +  i \\Omega_{l}  \\sum_{j,k=1}^{n-1} \\delta_{k}\\delta_{j} P_{k} P_{n}P_{j}$$\n"
   ]
  },
  {
   "cell_type": "markdown",
   "metadata": {},
   "source": [
    "$$\\mathcal{X} H_{n}= i \\beta_{n} \\sum_{k=1}^{n-1} \\delta_{k} P_{k} P_{n} \\big(  P_{n} \\big) +  i \\Omega_{l}  \\sum_{j,k=1}^{n-1} \\delta_{k} P_{k} P_{n}\\big( \\delta_{j} P_{j} \\big)$$"
   ]
  },
  {
   "cell_type": "code",
   "execution_count": null,
   "metadata": {},
   "outputs": [],
   "source": []
  },
  {
   "cell_type": "code",
   "execution_count": null,
   "metadata": {},
   "outputs": [],
   "source": []
  },
  {
   "cell_type": "code",
   "execution_count": null,
   "metadata": {},
   "outputs": [],
   "source": []
  },
  {
   "cell_type": "markdown",
   "metadata": {},
   "source": [
    "## Step 1 Get Hn set"
   ]
  },
  {
   "cell_type": "code",
   "execution_count": null,
   "metadata": {},
   "outputs": [],
   "source": []
  },
  {
   "cell_type": "code",
   "execution_count": 2,
   "metadata": {},
   "outputs": [],
   "source": [
    "from openfermion.ops import QubitOperator\n",
    "from quchem.Unitary_partitioning import Get_beta_j_cofactors\n",
    "\n",
    "def Get_Hn_set(anti_commuting_set, N_index):\n",
    "    \n",
    "    H_n ={}\n",
    "    \n",
    "    # 𝛾_𝑙 ∑ 𝛽_𝑗 𝑃_𝑗\n",
    "    normalised_FULL_set = Get_beta_j_cofactors(anti_commuting_set)\n",
    "    gamma_l = normalised_FULL_set['gamma_l']\n",
    "    H_n['gamma_l']=gamma_l\n",
    "    \n",
    "    norm_FULL_set = normalised_FULL_set['PauliWords'].copy()\n",
    "    \n",
    "    #𝛽_n 𝑃_n\n",
    "    qubitOp_Pn_beta_n = norm_FULL_set.pop(N_index)\n",
    "    \n",
    "    # Ω_𝑙 ∑ 𝛿_𝑗 𝑃_𝑗  ... note this doesn't contain 𝛽_n 𝑃_n\n",
    "    H_n_1 = Get_beta_j_cofactors(norm_FULL_set) \n",
    "    Omega_l = H_n_1['gamma_l']\n",
    "    H_n['Omega_l']=Omega_l\n",
    "    \n",
    "    H_n['H_n_1'] = H_n_1['PauliWords']\n",
    "    \n",
    "    # cos(𝜙_{𝑛−1}) =𝛽_𝑛\n",
    "    phi_n_1 = np.arccos(list(qubitOp_Pn_beta_n.terms.values())[0]) \n",
    "    \n",
    "#     phi_n_1 = np.arcsin(Omega_l) \n",
    "    \n",
    "    \n",
    "    H_n['H_n'] = [QubitOperator(qubitOp, const*np.sin(phi_n_1)) \n",
    "              for operator in H_n['H_n_1'] for qubitOp, const in operator.terms.items()]+ [QubitOperator(list(qubitOp_Pn_beta_n.terms.keys())[0], np.cos(phi_n_1))]\n",
    "\n",
    "    \n",
    "    if not np.isclose(sum(abs(list(qubitOp.terms.values())[0])**2 for qubitOp in H_n['H_n_1']), 1):\n",
    "        raise ValueError('normalisation of H_n_1 operator incorrect: {}'.format(sum(list(qubitOp.terms.values())[0]**2 for qubitOp in H_n['H_n_1'])))\n",
    "\n",
    "    if not np.isclose(sum(abs(list(qubitOp.terms.values())[0])**2 for qubitOp in H_n['H_n']), 1):\n",
    "        raise ValueError('normalisation of H_n operator incorrect: {}'.format(sum(list(qubitOp.terms.values())[0]**2 for qubitOp in H_n['H_n'])))\n",
    "    \n",
    "    return H_n"
   ]
  },
  {
   "cell_type": "code",
   "execution_count": 3,
   "metadata": {},
   "outputs": [
    {
     "data": {
      "text/plain": [
       "{'gamma_l': (0.17729829109248613+0j),\n",
       " 'Omega_l': (0.25551636865500055+0j),\n",
       " 'H_n_1': [(-1+0j) [X0 X1 Y2 Y3]],\n",
       " 'H_n': [(-0.2555163686550009+0j) [X0 X1 Y2 Y3], (0.9668047296891765+0j) [Z1]]}"
      ]
     },
     "execution_count": 3,
     "metadata": {},
     "output_type": "execute_result"
    }
   ],
   "source": [
    "Get_Hn_set(anit_commuting_sets[7], 0)"
   ]
  },
  {
   "cell_type": "code",
   "execution_count": 4,
   "metadata": {},
   "outputs": [
    {
     "data": {
      "text/plain": [
       "[(0.171412826394024+0j) [Z1], (-0.04530261550868928+0j) [X0 X1 Y2 Y3]]"
      ]
     },
     "execution_count": 4,
     "metadata": {},
     "output_type": "execute_result"
    }
   ],
   "source": [
    "anit_commuting_sets[7]"
   ]
  },
  {
   "cell_type": "markdown",
   "metadata": {},
   "source": [
    "NOW\n",
    "\n",
    "$H_{n}$ is defined as:\n",
    "\n",
    "$$H_{n}=\\sin \\phi_{n-1} H_{n-1}+\\cos \\phi_{n-1} P_{n}$$\n",
    "\n",
    "as:\n",
    "- $H_{n}=\\frac{H_{S}}{\\gamma_{l}}= \\beta_{n} P_{n} + \\Omega_{l} H_{n-1}$\n",
    "\n",
    "**THEREFORE**\n",
    "\n",
    "- $\\cos \\phi_{n-1} = \\beta_{n}$\n",
    "- OR $\\phi_{n-1} = arccos\\big(\\beta_{n}\\big)$\n",
    "\n",
    "\n"
   ]
  },
  {
   "cell_type": "markdown",
   "metadata": {},
   "source": [
    "## Step 2 getting X"
   ]
  },
  {
   "cell_type": "markdown",
   "metadata": {},
   "source": [
    "NOW\n",
    "\n",
    "$\\mathcal{X}$ is defined as:\n",
    "\n",
    "$$\\begin{aligned} \\mathcal{X} &=\\frac{i}{2}\\left[H_{n-1}, P_{n}\\right] \\\\ &=\\frac{i}{2} \\sum_{k=1}^{n-1} \\delta_{k}\\left[P_{k}, P_{n}\\right] \\\\ &=i \\sum_{k=1}^{n-1} \\delta_{k} P_{k} P_{n} \\\\ &=i \\sum_{k=1}^{n-1} \\delta_{k} P_{kn} \\end{aligned}$$\n",
    "\n",
    "where:\n",
    "- $H_{n-1}=\\sum_{k=1}^{n-1} \\delta_{k} P_{k}$\n",
    "- $\\sum_{k=1}^{n-1} \\delta_{k}^{2}=1$"
   ]
  },
  {
   "cell_type": "code",
   "execution_count": 14,
   "metadata": {},
   "outputs": [
    {
     "data": {
      "text/plain": [
       "(1+0j) [Y1 Z3 Z4]"
      ]
     },
     "execution_count": 14,
     "metadata": {},
     "output_type": "execute_result"
    }
   ],
   "source": [
    "from openfermion.ops import QubitOperator\n",
    "import numpy as np\n",
    "\n",
    "def Multiply_PauliQubitOps(qubitOp_1, qubitOp_2, mulitplying_const=1):\n",
    "    \"\"\"\n",
    "\n",
    "    TODO\n",
    "    \n",
    "    NOTE this function does NOT!!! repeat not multiply by the qubitOp_2 constnat!\n",
    "    \n",
    "    Args:\n",
    "        qubitOp_1 ():\n",
    "        qubitOp_2 ():\n",
    "\n",
    "    Returns:\n",
    "        tuple: \n",
    "\n",
    "\n",
    "    \"\"\"\n",
    "    convert_term ={\n",
    "        'II': (1,'I'),\n",
    "        'IX': (1,'X'),\n",
    "        'IY': (1,'Y'),\n",
    "        'IZ': (1,'Z'),\n",
    "\n",
    "        'XI': (1,'X'),\n",
    "        'XX': (1,'I'),\n",
    "        'XY': (1j,'Z'),\n",
    "        'XZ': (-1j,'Y'),\n",
    "\n",
    "        'YI': (1,'Y'),\n",
    "        'YX': (-1j,'Z'),\n",
    "        'YY': (1,'I'),\n",
    "        'YZ': (1j,'X'),\n",
    "\n",
    "        'ZI': (1,'Z'),\n",
    "        'ZX': (1j,'Y'),\n",
    "        'ZY': (-1j,'X'),\n",
    "        'ZZ': (1,'I')\n",
    "    }\n",
    "    \n",
    "    \n",
    "    PauliStr_1_tuples_P1 = [tup for PauliStrs, const in qubitOp_1.terms.items() for tup in PauliStrs]\n",
    "    qubitNo_P1, PauliStr_P1 = zip(*PauliStr_1_tuples_P1)\n",
    "    qubitNo_P1 = np.array(qubitNo_P1)\n",
    "    qubitNo_P1_CONST = list(qubitOp_1.terms.values())[0]\n",
    "\n",
    "    PauliStr_tuples_P2 = [tup for PauliStrs, const in qubitOp_2.terms.items() for tup in PauliStrs]\n",
    "    qubitNo_P2, PauliStr_P2 = zip(*PauliStr_tuples_P2)\n",
    "    qubitNo_P2 = np.array(qubitNo_P2)\n",
    "    qubitNo_P2_CONST = list(qubitOp_2.terms.values())[0]\n",
    "    \n",
    "    common_qubits = np.intersect1d(qubitNo_P1, qubitNo_P2)\n",
    "    \n",
    "    PauliStr_P1_common = np.take(PauliStr_P1, np.where(np.isin(qubitNo_P1, common_qubits) == True)).flatten()\n",
    "    PauliStr_P2_common = np.take(PauliStr_P2, np.where(np.isin(qubitNo_P2, common_qubits) == True)).flatten()\n",
    "        \n",
    "    new_paulistr_list=[]\n",
    "    new_factor =[]\n",
    "    for index, pauli_str_P1 in enumerate(PauliStr_P1_common):\n",
    "        \n",
    "        pauli_str_P2 = PauliStr_P2_common[index]\n",
    "        qubitNo = common_qubits[index]\n",
    "        \n",
    "        combined_pauli_str = pauli_str_P1+pauli_str_P2\n",
    "        \n",
    "        if convert_term[combined_pauli_str][1] != 'I':\n",
    "            new_pauli_str = convert_term[combined_pauli_str][1] + str(qubitNo)\n",
    "            new_paulistr_list.append(new_pauli_str)\n",
    "\n",
    "            new_factor.append(convert_term[combined_pauli_str][0])\n",
    "       \n",
    "    new_constant = np.prod(new_factor) * qubitNo_P1_CONST * mulitplying_const # * qubitNo_P2_CONST\n",
    "    \n",
    "    for index, qubitNo in enumerate(qubitNo_P1):\n",
    "        if qubitNo not in common_qubits:\n",
    "            Paulistring_P1 = PauliStr_P1[index]\n",
    "            new_paulistr_list.append(Paulistring_P1+str(qubitNo))\n",
    "    \n",
    "\n",
    "    for index, qubitNo in enumerate(qubitNo_P2):\n",
    "        if qubitNo not in common_qubits:\n",
    "            Paulistring_P2 = PauliStr_P2[index]\n",
    "            new_paulistr_list.append(Paulistring_P2+str(qubitNo))\n",
    "    \n",
    "    seperator=' '\n",
    "    pauliStr_list = seperator.join(new_paulistr_list)\n",
    "    \n",
    "    \n",
    "    New_P = QubitOperator(pauliStr_list, new_constant)\n",
    "            \n",
    "    return New_P\n",
    "\n",
    "a = QubitOperator('Z1 X2 Y3', 0.5)\n",
    "b= QubitOperator('X1 X2 X3 Z4', 10000000000000000)\n",
    "Multiply_PauliQubitOps(a,b, mulitplying_const=2)"
   ]
  },
  {
   "cell_type": "code",
   "execution_count": 100,
   "metadata": {},
   "outputs": [],
   "source": [
    "from quchem.Unitary_partitioning import *\n",
    "\n",
    "def Get_X_SET(anti_commuting_set, N_index):\n",
    "    \"\"\"\n",
    "    X = i ( ∑_{k=1}^{n-1} B_{k} P_{k} ) P_{n}\n",
    "\n",
    "    X =  i( ∑_{k=1}^{n-1} B_{k} P_{kn}\n",
    "\n",
    "        where P_{ks} = P_{k} * P_{n}\n",
    "\n",
    "    note ∑_{k=1}^{n-1} B_{k}^{2} = 1\n",
    "\n",
    "    therefore have:\n",
    "    X =  gamma_l * i( ∑_{k=1}^{n-1} B_{k} P_{kn}\n",
    "\n",
    "\n",
    "    Args:\n",
    "        anti_commuting_set (list):\n",
    "        S_index (int):\n",
    "        no_qubits (int):\n",
    "    Returns:\n",
    "        LCU_dict (dict): A dictionary containing the linear combination of terms required to perform R ('R_LCU')\n",
    "                         the correction fsinactors to make all real and positive ('LCU_correction')\n",
    "                         the angle to perform R gate ('alpha')\n",
    "                         the PauliS term ('P_s')\n",
    "     \"\"\"\n",
    "\n",
    "    \n",
    "    # 𝛾_𝑙 ∑ 𝛽_𝑗 𝑃_𝑗\n",
    "    normalised_FULL_set = Get_beta_j_cofactors(anti_commuting_set)\n",
    "    gamma_l = normalised_FULL_set['gamma_l']\n",
    "    \n",
    "    norm_FULL_set = normalised_FULL_set['PauliWords'].copy()\n",
    "    \n",
    "    # 𝛽_n 𝑃_n\n",
    "    qubitOp_Pn_beta_n = norm_FULL_set.pop(N_index)\n",
    "    \n",
    "    # Ω_𝑙 ∑ 𝛿_𝑗 𝑃_𝑗  ... note this doesn't contain 𝛽_n 𝑃_n\n",
    "    H_n_1 = Get_beta_j_cofactors(norm_FULL_set) \n",
    "    Omega_l = H_n_1['gamma_l']\n",
    "    \n",
    "    # cos(𝜙_{𝑛−1}) =𝛽_𝑛 / Ω\n",
    "    phi_n_1 = np.arccos(list(qubitOp_Pn_beta_n.terms.values())[0]/Omega_l) \n",
    "#     print(np.sin(phi_n_1))\n",
    "    phi_n_1 = np.arcsin(Omega_l) \n",
    "\n",
    "#     print(list(qubitOp_Pn_beta_n.terms.values())[0]/Omega_l)\n",
    "\n",
    "    \n",
    "    # 𝑖 ∑ 𝛿_{𝑘} 𝑃_{𝑘𝑛}\n",
    "    X_set={}\n",
    "    X_set['X_PauliWords'] =[]\n",
    "    for qubitOp_Pk in H_n_1['PauliWords']:\n",
    "        new_PauliWord= Multiply_PauliQubitOps(qubitOp_Pk, qubitOp_Pn_beta_n, mulitplying_const=1j) # here we times by 1j due to defintion of X also we divided by B_n (as we only want to multiply by P_n B#NOT B_n P_n)\n",
    "        X_set['X_PauliWords'].append(new_PauliWord)\n",
    "\n",
    "    if not np.isclose(sum(list(qubitOp.terms.values())[0]**2 for qubitOp in X_set['X_PauliWords']), 1):\n",
    "        raise ValueError('normalisation of X operator incorrect: {}'.format(sum(list(qubitOp.terms.values())[0]**2 for qubitOp in X_set['X_PauliWords'])))\n",
    "\n",
    "    # THIS IS NOT NEED BUT I AM USING TO CHECK\n",
    "    X_set['H_n'] = [QubitOperator(qubitOp, const*np.sin(phi_n_1)) \n",
    "          for operator in H_n_1['PauliWords'] for qubitOp, const in operator.terms.items()]+ [QubitOperator(list(qubitOp_Pn_beta_n.terms.keys())[0], np.cos(phi_n_1))]\n",
    "\n",
    "    if not np.isclose(sum(abs(list(qubitOp.terms.values())[0])**2 for qubitOp in X_set['H_n']), 1):\n",
    "        raise ValueError('normalisation of H_n operator incorrect: {}'.format(sum(abs(list(qubitOp.terms.values())[0])**2 for qubitOp in X_set['H_n'])))\n",
    "    # THIS IS NOT NEED BUT I AM USING TO CHECK\n",
    "\n",
    "\n",
    "    \n",
    "#     if list(qubitOp_Pn_beta_n.terms.values())[0]<0:\n",
    "#         X_set['P_n'] = QubitOperator(list(qubitOp_Pn_beta_n.terms.keys())[0], -1) \n",
    "#     else:\n",
    "#         X_set['P_n'] = QubitOperator(list(qubitOp_Pn_beta_n.terms.keys())[0], 1) \n",
    "    \n",
    "    X_set['P_n'] = QubitOperator(list(qubitOp_Pn_beta_n.terms.keys())[0], 1) \n",
    "   \n",
    "    \n",
    "\n",
    "#     if list(qubitOp_Pn_beta_n.terms.values())[0]<0:\n",
    "#         X_set['gamma_l'] = gamma_l *-1\n",
    "#     else:\n",
    "#          X_set['gamma_l'] = gamma_l\n",
    "    \n",
    "            \n",
    "    X_set['gamma_l'] = gamma_l\n",
    "    X_set['H_n_1'] = H_n_1['PauliWords']\n",
    "    X_set['Omega_l'] = Omega_l\n",
    "    X_set['phi_n_1'] = phi_n_1\n",
    "    return X_set"
   ]
  },
  {
   "cell_type": "code",
   "execution_count": 467,
   "metadata": {},
   "outputs": [
    {
     "data": {
      "text/plain": [
       "[(0.17141282639402405+0j) [Z0], (-0.04530261550868928+0j) [Y0 Y1 X2 X3]]"
      ]
     },
     "execution_count": 467,
     "metadata": {},
     "output_type": "execute_result"
    }
   ],
   "source": [
    "anit_commuting_sets[7]"
   ]
  },
  {
   "cell_type": "code",
   "execution_count": 101,
   "metadata": {},
   "outputs": [
    {
     "data": {
      "text/plain": [
       "{'X_PauliWords': [(-1+0j) [X0 Y1 Y2 Y3]],\n",
       " 'H_n': [(0.9668047296891765+0j) [Z1], (0.2555163686550008-0j) [X0 X1 Y2 Y3]],\n",
       " 'P_n': 1 [X0 X1 Y2 Y3],\n",
       " 'gamma_l': (0.17729829109248613+0j),\n",
       " 'H_n_1': [(1+0j) [Z1]],\n",
       " 'Omega_l': (0.9668047296891765+0j),\n",
       " 'phi_n_1': (1.3124145630640955+0j)}"
      ]
     },
     "execution_count": 101,
     "metadata": {},
     "output_type": "execute_result"
    }
   ],
   "source": [
    "Get_X_SET(anit_commuting_sets[7], 1)"
   ]
  },
  {
   "cell_type": "code",
   "execution_count": 22,
   "metadata": {},
   "outputs": [
    {
     "data": {
      "text/plain": [
       "-2.005919008945367j"
      ]
     },
     "execution_count": 22,
     "metadata": {},
     "output_type": "execute_result"
    }
   ],
   "source": [
    "np.arccos(3.783729139460968+0j)"
   ]
  },
  {
   "cell_type": "code",
   "execution_count": null,
   "metadata": {},
   "outputs": [],
   "source": [
    "# check with H_n = sin(omega_l)*H_n_1 + cos(omega_l)*Pn"
   ]
  },
  {
   "cell_type": "code",
   "execution_count": 472,
   "metadata": {},
   "outputs": [
    {
     "name": "stdout",
     "output_type": "stream",
     "text": [
      "[(-0.9800573521796645+0j) [Z2], (0.19871483698653453+0j) [X0 Y1 Y2 X3]]\n",
      "should equal\n",
      "(0.9800573521796645-0j) * [(-1+0j) [Z2]]  +  (0.19871483698653453+0j) * 1 [X0 Y1 Y2 X3]\n"
     ]
    }
   ],
   "source": [
    "test = Get_X_SET(anit_commuting_sets[9], 1)\n",
    "print(test['H_n'])\n",
    "print('should equal')\n",
    "print(np.sin(test['phi_n_1']), '*',test['H_n_1'],' + ', np.cos(test['phi_n_1']),  '*',test['P_n'])"
   ]
  },
  {
   "cell_type": "code",
   "execution_count": null,
   "metadata": {},
   "outputs": [],
   "source": []
  },
  {
   "cell_type": "code",
   "execution_count": 396,
   "metadata": {},
   "outputs": [
    {
     "name": "stdout",
     "output_type": "stream",
     "text": [
      "{'X_PauliWords': [(0.5547001962252293+0j) [Z0], (-0.8320502943378437+0j) [Y0]], 'H_n': [0.5345224838248488 [Y0], 0.8017837257372732 [Z0], 0.26726124191242445 [X0]], 'P_n': 1 [X0], 'H_n_1': [0.5547001962252291 [Y0], 0.8320502943378437 [Z0]], 'gamma_l': 0.9354143466934853, 'Omega_l': 0.9636241116594315, 'phi_n_1': 1.3002465638163236}\n",
      "\n",
      "\n",
      "\n",
      "[0.5345224838248488 [Y0], 0.8017837257372732 [Z0], 0.26726124191242445 [X0]]\n",
      "should equal\n",
      "0.9636241116594315 *( [0.5547001962252291 [Y0], 0.8320502943378437 [Z0]] ) +  0.26726124191242445 * 1 [X0]\n"
     ]
    }
   ],
   "source": [
    "# new = [QubitOperator('X0', 0.25), QubitOperator('Y0', 0.5), QubitOperator('Z0', 0.75)]\n",
    "# bb = Get_X_SET(new, 0)\n",
    "# print(bb)\n",
    "\n",
    "# print('')\n",
    "# print('')\n",
    "# print('')\n",
    "\n",
    "# print(bb['H_n'])\n",
    "# print('should equal')\n",
    "# print(np.sin(bb['phi_n_1']), '*(',bb['H_n_1'],') + ', np.cos(bb['phi_n_1']),  '*',bb['P_n'])"
   ]
  },
  {
   "cell_type": "code",
   "execution_count": null,
   "metadata": {},
   "outputs": [],
   "source": [
    "# new = [QubitOperator('X0 X1', -0.25), QubitOperator('Z0 X1', 0.75)]\n",
    "# bb = Get_X_SET(new, 0)\n",
    "# print(bb)\n",
    "\n",
    "# print('')\n",
    "# print('')\n",
    "# print('')\n",
    "\n",
    "# print(bb['H_n'])\n",
    "# print('should equal')\n",
    "# print(np.sin(bb['phi_n_1']), '*(',bb['H_n_1'],') + ', np.cos(bb['phi_n_1']),  '*',bb['P_n'])"
   ]
  },
  {
   "cell_type": "code",
   "execution_count": null,
   "metadata": {},
   "outputs": [],
   "source": []
  },
  {
   "cell_type": "markdown",
   "metadata": {},
   "source": [
    "Now $\\mathcal{X}$ acts on $H_{n}$ as follows:\n",
    "\n",
    "$$\\mathcal{X} H_{n}=i\\left(-\\sin \\phi_{n-1} P_{n}+\\cos \\phi_{n-1} H_{n-1}\\right)$$\n",
    "\n",
    "where:\n",
    "- $H_{n}=\\sin \\phi_{n-1} H_{n-1}+\\cos \\phi_{n-1} P_{n}$\n",
    "\n",
    "remember:\n",
    "\n",
    "- $H_{n}=\\frac{H_{S}}{\\gamma_{l}}= \\beta_{n} P_{n} + \\Omega_{l} H_{n-1}$... which defines what $\\phi_{n-1}$ is!\n",
    "\n",
    "\n",
    "We let:\n",
    "$$R=\\exp (-i \\alpha \\mathcal{X} / 2)=\\cos (\\alpha / 2) \\mathbb{1}-i \\sin (\\alpha / 2) \\mathcal{X}$$\n",
    "\n",
    "then the following:\n",
    "$$R H_{n} R^{\\dagger}=\\sin \\left(\\phi_{n-1}-\\alpha\\right) H_{n-1}+\\cos \\left(\\phi_{n-1}-\\alpha\\right) P_{n}$$\n",
    "\n",
    "by **choosing**: $\\alpha=\\phi_{n-1}$\n",
    "we get:\n",
    "\n",
    "$$R H_{n} R^{\\dagger}=P_{n}$$\n",
    "\n",
    "- note $\\alpha = arccos(\\beta_{n})$ "
   ]
  },
  {
   "cell_type": "markdown",
   "metadata": {},
   "source": [
    "NOW!\n",
    "let us take a closer look at:\n",
    "$$R=\\exp (-i \\alpha \\mathcal{X} / 2)=\\cos (\\alpha / 2) \\mathbb{1}-i \\sin (\\alpha / 2) \\mathcal{X}$$\n",
    "\n",
    "this is just a **LINEAR COMBINATION OF PAULIWORDS!**\n",
    "\n",
    "- $\\mathcal{X}=i \\sum_{k=0}^{n-1} \\delta_{k} P_{kn}$ (index starts at 0 with identity term included!)\n",
    "\n",
    "$$R=\\exp (-i \\alpha \\mathcal{X} / 2)=\\cos (\\alpha / 2) \\mathbb{1}-i \\sin (\\alpha / 2) \\bigg( i \\sum_{k=1}^{n-1} \\delta_{k} P_{kn}\\bigg)$$\n",
    "\n",
    "my code has $\\bigg( i \\sum_{k=1}^{n-1} \\delta_{k} P_{kn}\\bigg)$ in code!\n",
    "\n",
    "\n",
    "$$R=\\exp (-i \\alpha \\mathcal{X} / 2)=\\cos (\\alpha / 2) \\mathbb{1}+ \\sin (\\alpha / 2) \\bigg( \\sum_{k=1}^{n-1} \\delta_{k} P_{kn}\\bigg)$$"
   ]
  },
  {
   "cell_type": "code",
   "execution_count": 107,
   "metadata": {},
   "outputs": [],
   "source": [
    "def Get_R_linear_combination(anti_commuting_set, N_index):\n",
    "    \"\"\"\n",
    "    \"\"\"\n",
    "    X_set = Get_X_SET(anti_commuting_set, N_index)\n",
    "    \n",
    "    # χ = 𝑖 ∑ 𝛿_𝑘 𝑃_𝑘𝑛\n",
    "    X_terms = X_set['X_PauliWords']\n",
    "    \n",
    "    # 𝛼 = 𝜙_{𝑛−1} * Omega\n",
    "    alpha = X_set['phi_n_1'] * X_set['Omega_l']\n",
    "\n",
    "    # 𝑅=cos(𝛼/2)𝟙−𝑖sin(𝛼/2)χ = cos(𝛼/2)𝟙−𝑖sin(𝛼/2)*(𝑖 ∑ 𝛿_𝑘 𝑃_𝑘𝑛)\n",
    "    \n",
    "    # cos(𝛼/2)𝟙 term\n",
    "    I_term = QubitOperator('', np.cos(alpha / 2))\n",
    "    R_linear_comb_list = [I_term]\n",
    "    \n",
    "    # −𝑖 sin(𝛼/2) * (𝑖 ∑ 𝛿_𝑘 𝑃_𝑘𝑛) terms!\n",
    "    sin_term = np.sin(alpha / 2)*-1j\n",
    "    for qubitOp_P_kn in X_terms:\n",
    "        for P_kn_word, constant in qubitOp_P_kn.terms.items():\n",
    "            new_constant = sin_term*constant\n",
    "            R_linear_comb_list.append(QubitOperator(P_kn_word, new_constant))\n",
    "    \n",
    "    if not np.isclose(sum(abs(list(qubitOp.terms.values())[0])**2 for qubitOp in R_linear_comb_list), 1):\n",
    "        raise ValueError('normalisation of R operator incorrect: {}'.format(sum(list(qubitOp.terms.values())[0]**2 for qubitOp in R_linear_comb_list)))\n",
    "\n",
    "    \n",
    "    return R_linear_comb_list, X_set['P_n'], X_set['gamma_l'] #, X_set['Omega_l']"
   ]
  },
  {
   "cell_type": "code",
   "execution_count": 112,
   "metadata": {},
   "outputs": [
    {
     "data": {
      "text/plain": [
       "[(0.171412826394024+0j) [Z1], (-0.04530261550868928+0j) [X0 X1 Y2 Y3]]"
      ]
     },
     "execution_count": 112,
     "metadata": {},
     "output_type": "execute_result"
    }
   ],
   "source": [
    "anit_commuting_sets[7]"
   ]
  },
  {
   "cell_type": "code",
   "execution_count": 114,
   "metadata": {},
   "outputs": [
    {
     "data": {
      "text/plain": [
       "([(0.9998024768857828-0j) [], 0.019874788377579868j [X0 Y1 X2 X3]],\n",
       " 1 [Z2],\n",
       " (0.22797802215321797+0j))"
      ]
     },
     "execution_count": 114,
     "metadata": {},
     "output_type": "execute_result"
    }
   ],
   "source": [
    "Get_R_linear_combination(anit_commuting_sets[10], 0)"
   ]
  },
  {
   "cell_type": "code",
   "execution_count": 30,
   "metadata": {},
   "outputs": [
    {
     "name": "stderr",
     "output_type": "stream",
     "text": [
      "/home/lex/anaconda3/envs/QuantumUpdated/lib/python3.7/site-packages/ipykernel_launcher.py:43: RuntimeWarning: invalid value encountered in arccos\n"
     ]
    },
    {
     "data": {
      "text/plain": [
       "([0.9870874576374967 [], 0.1601822430069672j [Y0]],\n",
       " 1 [Z0 X1],\n",
       " 0.7905694150420949)"
      ]
     },
     "execution_count": 30,
     "metadata": {},
     "output_type": "execute_result"
    }
   ],
   "source": [
    "new = [QubitOperator('X0 X1', -0.25), QubitOperator('Z0 X1', 0.75)]\n",
    "bb = Get_R_linear_combination(new, 1)\n",
    "bb"
   ]
  },
  {
   "cell_type": "code",
   "execution_count": null,
   "metadata": {},
   "outputs": [],
   "source": []
  },
  {
   "cell_type": "markdown",
   "metadata": {},
   "source": [
    "## linear combination of unitaries method!"
   ]
  },
  {
   "cell_type": "markdown",
   "metadata": {},
   "source": [
    "https://arxiv.org/pdf/1610.06546.pdf\n",
    "\n",
    "- for any operator $\\hat{O}$ that is a sum of **unitary** operators $\\hat{U}_{j}$:\n",
    "\n",
    "$$\\hat{O}=\\sum_{j=1}^{d} \\alpha_{j} \\hat{U}_{j}$$\n",
    "\n",
    "- where $\\|\\hat{O}\\| \\leq\\|\\vec{\\alpha}\\|_{1}=\\sum_{j=1}^{d}\\left|\\alpha_{j}\\right|$\n",
    "\n",
    "and\n",
    "\n",
    "- **IMPORTANT** $\\forall \\alpha_{j}$ we have  $\\alpha_{j} \\geq 0$ AKA absorbing complex phases into $\\hat{U}_{j}$"
   ]
  },
  {
   "cell_type": "code",
   "execution_count": 40,
   "metadata": {},
   "outputs": [],
   "source": [
    "def absorb_complex_phases(R_linear_comb_list):\n",
    "    \n",
    "    R_linear_comb_corrected_phase=[]\n",
    "    R_linear_comb_correction_values=[]\n",
    "    ancilla_amplitudes=[]\n",
    "    \n",
    "    for qubitOp in R_linear_comb_list:\n",
    "        for pauliword, const in qubitOp.terms.items():\n",
    "            if (isinstance(const, complex)) and (const.imag<0):\n",
    "                R_linear_comb_corrected_phase.append(QubitOperator(pauliword, np.sqrt(const.imag**2)))\n",
    "                R_linear_comb_correction_values.append(-1j)\n",
    "                ancilla_amplitudes.append(np.sqrt(const.imag**2))\n",
    "            elif (isinstance(const, complex)) and (const.imag!=0):\n",
    "                R_linear_comb_corrected_phase.append(QubitOperator(pauliword, np.sqrt(const.imag**2)))\n",
    "                R_linear_comb_correction_values.append(1j)\n",
    "                ancilla_amplitudes.append(np.sqrt(const.imag**2))\n",
    "            elif const<0:\n",
    "                R_linear_comb_corrected_phase.append(QubitOperator(pauliword, np.sqrt(const**2)))\n",
    "                R_linear_comb_correction_values.append(-1)\n",
    "                ancilla_amplitudes.append(np.sqrt(const**2))\n",
    "            else:\n",
    "                R_linear_comb_corrected_phase.append(QubitOperator(pauliword, const))\n",
    "                R_linear_comb_correction_values.append(1)\n",
    "                ancilla_amplitudes.append(np.sqrt(const**2))\n",
    "    return R_linear_comb_corrected_phase, R_linear_comb_correction_values, ancilla_amplitudes"
   ]
  },
  {
   "cell_type": "code",
   "execution_count": 605,
   "metadata": {},
   "outputs": [
    {
     "data": {
      "text/plain": [
       "[(-0.2234315367466397+0j) [Z3], (0.04530261550868928+0j) [Y0 X1 X2 Y3]]"
      ]
     },
     "execution_count": 605,
     "metadata": {},
     "output_type": "execute_result"
    }
   ],
   "source": [
    "anit_commuting_sets[10]"
   ]
  },
  {
   "cell_type": "code",
   "execution_count": 33,
   "metadata": {},
   "outputs": [
    {
     "name": "stdout",
     "output_type": "stream",
     "text": [
      "[(0.7741817735475739-0j) [], 0.6329633334615308j [X0 Y1 X2 X3]]\n",
      "\n",
      "1 [X0 Y1 Y2 X3] (0.22797802215321797+0j)\n"
     ]
    },
    {
     "data": {
      "text/plain": [
       "([(0.7741817735475739-0j) [], 0.6329633334615308 [X0 Y1 X2 X3]],\n",
       " [1, 1j],\n",
       " [(0.7741817735475739-0j), 0.6329633334615308])"
      ]
     },
     "execution_count": 33,
     "metadata": {},
     "output_type": "execute_result"
    }
   ],
   "source": [
    "test, Pn, gamma_l = Get_R_linear_combination(anit_commuting_sets[10],1)\n",
    "print(test)\n",
    "\n",
    "print('')\n",
    "print(Pn, gamma_l)\n",
    "absorb_complex_phases(test)"
   ]
  },
  {
   "cell_type": "code",
   "execution_count": 522,
   "metadata": {},
   "outputs": [
    {
     "data": {
      "text/plain": [
       "([0.16018224300696726 [], 0.9870874576374967 [Y0]],\n",
       " [1, (-0-1j)],\n",
       " [0.16018224300696726, 0.9870874576374967])"
      ]
     },
     "execution_count": 522,
     "metadata": {},
     "output_type": "execute_result"
    }
   ],
   "source": [
    "new = [QubitOperator('X0 X1', 0.25), QubitOperator('Z0 X1', -0.75)]\n",
    "R_lin, Pn_new, gamma_l_new = Get_R_linear_combination(new, 1)\n",
    "absorb_complex_phases(R_lin)"
   ]
  },
  {
   "cell_type": "code",
   "execution_count": 523,
   "metadata": {},
   "outputs": [
    {
     "data": {
      "text/plain": [
       "(-1+0j)"
      ]
     },
     "execution_count": 523,
     "metadata": {},
     "output_type": "execute_result"
    }
   ],
   "source": [
    "R_COB, R_COR, A_AMPs= absorb_complex_phases(R_lin)\n",
    "np.prod([i**2 for i in R_COR])"
   ]
  },
  {
   "cell_type": "code",
   "execution_count": 41,
   "metadata": {},
   "outputs": [],
   "source": [
    "class Perform_modified_Pauligate(cirq.SingleQubitGate):\n",
    "    \"\"\"\n",
    "    \n",
    "\n",
    "    The function finds eigenvalue of operator and THEN gives corresponding operator to change to Z basis for measurement!\n",
    "\n",
    "    Args:\n",
    "        LCU_PauliWord_and_cofactor (tuple): Tuple of PauliWord (str) and constant (complex) ... (PauliWord, constant)\n",
    "        LCU_correction_value (complex):\n",
    "\n",
    "    Returns\n",
    "        A cirq circuit object to be used by cirq.Circuit\n",
    "\n",
    "    \"\"\"\n",
    "\n",
    "    def __init__(self, PauliStr, correction_value):\n",
    "\n",
    "        self.PauliStr = PauliStr\n",
    "        self.correction_value = correction_value\n",
    "\n",
    "    def _unitary_(self):\n",
    "\n",
    "        from scipy.linalg import eig\n",
    "\n",
    "        if self.PauliStr == 'Z':\n",
    "            return cirq.Z._unitary_() * self.correction_value\n",
    "\n",
    "        elif self.PauliStr == 'Y':\n",
    "            return cirq.Y._unitary_() * self.correction_value\n",
    "\n",
    "        elif self.PauliStr == 'X':\n",
    "            return cirq.X._unitary_() * self.correction_value\n",
    "\n",
    "        elif self.PauliStr == 'I':\n",
    "            return cirq.I._unitary_() * self.correction_value\n",
    "\n",
    "        else:\n",
    "            raise TypeError('not a Pauli operation')\n",
    "\n",
    "    def num_qubits(self):\n",
    "        return 1\n",
    "\n",
    "    def _circuit_diagram_info_(self, args):\n",
    "        return 'PauliMod : {} gate times {}'.format(self.PauliStr, self.correction_value)"
   ]
  },
  {
   "cell_type": "code",
   "execution_count": 42,
   "metadata": {},
   "outputs": [
    {
     "name": "stdout",
     "output_type": "stream",
     "text": [
      "1: ───PauliMod : X gate times (-0-1j)───\n"
     ]
    },
    {
     "data": {
      "text/plain": [
       "array([[0.-0.j, 0.-1.j],\n",
       "       [0.-1.j, 0.-0.j]])"
      ]
     },
     "execution_count": 42,
     "metadata": {},
     "output_type": "execute_result"
    }
   ],
   "source": [
    "Pauli_str = 'X'\n",
    "Correction_value = -1j\n",
    "\n",
    "test_gate = Perform_modified_Pauligate(Pauli_str, Correction_value)\n",
    "circ = test_gate.on(cirq.LineQubit(1))\n",
    "print(cirq.Circuit(circ))\n",
    "\n",
    "circ._unitary_()"
   ]
  },
  {
   "cell_type": "code",
   "execution_count": 43,
   "metadata": {},
   "outputs": [],
   "source": [
    "class Perform_Modified_PauliWord(cirq.Gate):\n",
    "    \"\"\"\n",
    "    Class to generate cirq circuit as gate that performs a modified PauliWord\n",
    "\n",
    "    Args:\n",
    "        LCU_PauliWord_and_cofactor (tuple): Tuple of PauliWord (str) and constant (complex) ... (PauliWord, constant)\n",
    "        LCU_correction_value (complex):\n",
    "\n",
    "    Returns\n",
    "        A cirq circuit object to be used by cirq.Circuit\n",
    "\n",
    "    e.g.\n",
    "        test_case = ('Y0 Z1 X2 I3', 0.00070859248123462)\n",
    "        correction_val = (-0 - 1j)\n",
    "        dag = False\n",
    "\n",
    "        P_circ_mod = Perform_Modified_PauliWord(test_case, correction_val, dag)\n",
    "        print(cirq.Circuit(\n",
    "        cirq.decompose_once((P_circ_mod(*cirq.LineQubit.range(P_circ_mod.num_qubits()))))))\n",
    "        >>\n",
    "                0: ───change to Z basis for modified PauliMod : Y times -1j───\n",
    "                1: ───change to Z basis for modified PauliMod : Z times -1j───\n",
    "                2: ───change to Z basis for modified PauliMod : X times -1j───\n",
    "                3: ───change to Z basis for modified PauliMod : I times -1j───\n",
    "\n",
    "    \"\"\"\n",
    "\n",
    "    def __init__(self, PauliQubitOp, correction_val):\n",
    "\n",
    "        self.PauliQubitOp = PauliQubitOp\n",
    "        self.correction_val = correction_val\n",
    "\n",
    "    def _decompose_(self, qubits):\n",
    "        \n",
    "        if list(self.PauliQubitOp.terms.keys())[0] == ():\n",
    "            #identity operations\n",
    "            pass\n",
    "        else:\n",
    "            qubitNos_list, P_strs_list = zip(*list(self.PauliQubitOp.terms.keys())[0])\n",
    "            \n",
    "            for index, P_str in enumerate(P_strs_list):\n",
    "                yield Perform_modified_Pauligate(P_str, self.correction_val).on(qubits[qubitNos_list[index]])\n",
    "            \n",
    "        \n",
    "\n",
    "    def _circuit_diagram_info_(self, args):\n",
    "        string_list = []\n",
    "        for _ in range(self.num_qubits()):\n",
    "            string_list.append('modified P_Word gate')\n",
    "        return string_list\n",
    "\n",
    "    def num_qubits(self):\n",
    "        if list(self.PauliQubitOp.terms.keys())[0] == ():\n",
    "            #identity operations\n",
    "            return 0\n",
    "        else:\n",
    "            qubitNos_list, P_strs_list = zip(*list(self.PauliQubitOp.terms.keys())[0])\n",
    "            return max(qubitNos_list)+1\n"
   ]
  },
  {
   "cell_type": "code",
   "execution_count": 117,
   "metadata": {},
   "outputs": [
    {
     "name": "stdout",
     "output_type": "stream",
     "text": [
      "[(0.9994552067149639-0j) [], 0.033004390167806694 [X0 Y1 Y2 Y3]]\n",
      "[1, 1j]\n",
      "1 [Z1]\n"
     ]
    }
   ],
   "source": [
    "R_uncorrected, Pn, gamma_l = Get_R_linear_combination(anit_commuting_sets[7], 0)\n",
    "\n",
    "R_corrected_Op_list, R_corr_list, ancilla_amplitudes = absorb_complex_phases(R_uncorrected)\n",
    "print(R_corrected_Op_list)\n",
    "print(R_corr_list)\n",
    "print(Pn)"
   ]
  },
  {
   "cell_type": "code",
   "execution_count": 118,
   "metadata": {},
   "outputs": [
    {
     "name": "stdout",
     "output_type": "stream",
     "text": [
      "0: ───modified P_Word gate───\n",
      "      │\n",
      "1: ───modified P_Word gate───\n",
      "      │\n",
      "2: ───modified P_Word gate───\n",
      "      │\n",
      "3: ───modified P_Word gate───\n",
      "0: ───PauliMod : X gate times 1j───\n",
      "\n",
      "1: ───PauliMod : Y gate times 1j───\n",
      "\n",
      "2: ───PauliMod : Y gate times 1j───\n",
      "\n",
      "3: ───PauliMod : Y gate times 1j───\n"
     ]
    }
   ],
   "source": [
    "R_circ = Perform_Modified_PauliWord(R_corrected_Op_list[1], R_corr_list[1])\n",
    "\n",
    "print(cirq.Circuit((R_circ(*cirq.LineQubit.range(R_circ.num_qubits())))))\n",
    "print(\n",
    "    cirq.Circuit(\n",
    "        cirq.decompose_once((R_circ(*cirq.LineQubit.range(R_circ.num_qubits()))))))"
   ]
  },
  {
   "cell_type": "code",
   "execution_count": null,
   "metadata": {},
   "outputs": [],
   "source": []
  },
  {
   "cell_type": "code",
   "execution_count": 46,
   "metadata": {},
   "outputs": [],
   "source": [
    "class LCU_R_gate(cirq.Gate):\n",
    "    \"\"\"\n",
    "    Function to build cirq Circuit that performs controlled modified pauligate for LCU method\n",
    "\n",
    "\n",
    "    Args:\n",
    "        circuit_param_dict (dict): A Dictionary of Tuples (qubit, control_val(int)) value is angle\n",
    "\n",
    "    Returns\n",
    "        A cirq circuit object to be used by cirq.Circuit.from_ops to generate arbitrary state\n",
    "\n",
    "    \"\"\"\n",
    "\n",
    "    def __init__(self, No_control_qubits, No_system_qubits, R_corrected_Op_list, R_correction_list):\n",
    "\n",
    "\n",
    "        self.No_control_qubits = No_control_qubits\n",
    "        self.No_system_qubits = No_system_qubits\n",
    "        self.R_corrected_Op_list = R_corrected_Op_list\n",
    "        self.R_correction_list = R_correction_list\n",
    "\n",
    "    def _decompose_(self, qubits):\n",
    "            \n",
    "            for control_state_index, R_qubitOp_corrected in enumerate(self.R_corrected_Op_list):\n",
    "                \n",
    "                if list(R_qubitOp_corrected.terms.keys())[0] != ():\n",
    "                \n",
    "                    control_str = Get_state_as_str(self.No_control_qubits, control_state_index)\n",
    "                    control_values = [int(bit) for bit in control_str]\n",
    "\n",
    "#                     qubit_list = cirq.LineQubit.range(self.No_system_qubits, self.No_system_qubits + self.No_control_qubits)  # note control qubits first!\n",
    "                    qubit_list = cirq.LineQubit.range(self.No_system_qubits, self.No_system_qubits + self.No_control_qubits) \\\n",
    "                             + cirq.LineQubit.range(self.No_system_qubits)  # note control qubits first!\n",
    "\n",
    "                    mod_p_word_gate = Perform_Modified_PauliWord(R_qubitOp_corrected, self.R_correction_list[control_state_index])\n",
    "\n",
    "                    yield mod_p_word_gate.controlled(num_controls=self.No_control_qubits, control_values=control_values).on(\n",
    "                        *qubit_list)  # *qubit_list\n",
    "        \n",
    "\n",
    "    def _circuit_diagram_info_(self, args):\n",
    "\n",
    "        string_list = []\n",
    "        \n",
    "        for _ in range(self.No_system_qubits):\n",
    "                string_list.append('Pauli_Mod_Cirq_LCU')\n",
    "                \n",
    "        for _ in range(self.No_control_qubits):\n",
    "            string_list.append('control_LCU')\n",
    "        \n",
    "        return string_list\n",
    "\n",
    "    def num_qubits(self):\n",
    "        return self.No_control_qubits + self.No_system_qubits\n"
   ]
  },
  {
   "cell_type": "code",
   "execution_count": 47,
   "metadata": {},
   "outputs": [
    {
     "name": "stdout",
     "output_type": "stream",
     "text": [
      "0: ───Pauli_Mod_Cirq_LCU───\n",
      "      │\n",
      "1: ───Pauli_Mod_Cirq_LCU───\n",
      "      │\n",
      "2: ───Pauli_Mod_Cirq_LCU───\n",
      "      │\n",
      "3: ───Pauli_Mod_Cirq_LCU───\n",
      "      │\n",
      "4: ───control_LCU──────────\n",
      "\n",
      "0: ───modified P_Word gate───\n",
      "      │\n",
      "1: ───modified P_Word gate───\n",
      "      │\n",
      "2: ───modified P_Word gate───\n",
      "      │\n",
      "3: ───modified P_Word gate───\n",
      "      │\n",
      "4: ───@──────────────────────\n",
      "\n",
      "[(0.7741817735475739-0j) [], 0.6329633334615308 [X0 Y1 X2 X3]]\n",
      "[1, 1j]\n",
      "\n",
      "0                          1                          2                          3                          4\n",
      "│                          │                          │                          │                          │\n",
      "PauliMod : X gate times 1j─┼──────────────────────────┼──────────────────────────┼──────────────────────────@\n",
      "│                          │                          │                          │                          │\n",
      "│                          PauliMod : Y gate times 1j─┼──────────────────────────┼──────────────────────────@\n",
      "│                          │                          │                          │                          │\n",
      "│                          │                          PauliMod : X gate times 1j─┼──────────────────────────@\n",
      "│                          │                          │                          │                          │\n",
      "│                          │                          │                          PauliMod : X gate times 1j─@\n",
      "│                          │                          │                          │                          │\n"
     ]
    }
   ],
   "source": [
    "R_uncorrected, Pn, gamma_l = Get_R_linear_combination(anit_commuting_sets[10], 1)\n",
    "\n",
    "R_corrected_Op_list, R_corr_list, ancilla_amplitudes = absorb_complex_phases(R_uncorrected)\n",
    "\n",
    "N_control_qubits = int(np.ceil(np.log2(len(ancilla_amplitudes)))) \n",
    "\n",
    "GATE = LCU_R_gate(N_control_qubits, Hamilt.molecule.n_qubits, R_corrected_Op_list, R_corr_list)\n",
    "\n",
    "\n",
    "print(cirq.Circuit((GATE(*cirq.LineQubit.range(GATE.num_qubits())))))\n",
    "\n",
    "print('')\n",
    "print(\n",
    "    cirq.Circuit(\n",
    "        cirq.decompose_once((GATE(*cirq.LineQubit.range(GATE.num_qubits()))))))\n",
    "\n",
    "# print('')\n",
    "# print(\n",
    "#     cirq.Circuit(\n",
    "#         cirq.decompose((GATE(*cirq.LineQubit.range(GATE.num_qubits()))))))\n",
    "print('')\n",
    "print(R_corrected_Op_list)\n",
    "print(R_corr_list)\n",
    "print('')\n",
    "\n",
    "full_circuit = cirq.Circuit(\n",
    "                             cirq.decompose((GATE(*cirq.LineQubit.range(GATE.num_qubits())))))\n",
    "print(full_circuit.to_text_diagram(transpose=True))"
   ]
  },
  {
   "cell_type": "code",
   "execution_count": null,
   "metadata": {},
   "outputs": [],
   "source": []
  },
  {
   "cell_type": "code",
   "execution_count": null,
   "metadata": {},
   "outputs": [],
   "source": []
  },
  {
   "cell_type": "code",
   "execution_count": 50,
   "metadata": {},
   "outputs": [
    {
     "name": "stdout",
     "output_type": "stream",
     "text": [
      "3: ─── U = (0.1292+0j) rad ───\n",
      "[[0.992+0.j]\n",
      " [0.129+0.j]]\n",
      "\n",
      "[(0.9916664584650366-0j), 0.1288318095635224]\n"
     ]
    }
   ],
   "source": [
    "R_uncorrected, Pn, gamma_l = Get_R_linear_combination(anit_commuting_sets[7], 0)\n",
    "R_corrected_Op_list, R_corr_list, ancilla_amplitudes = absorb_complex_phases(R_uncorrected)\n",
    "\n",
    "from quchem.quantum_circuit_functions import *\n",
    "\n",
    "N_System_qubits = 3\n",
    "\n",
    "ancilla_obj = prepare_arb_state(ancilla_amplitudes, N_System_qubits)\n",
    "ancilla_prep_circ = ancilla_obj.Get_state_prep_Circuit()\n",
    "\n",
    "print(ancilla_prep_circ)\n",
    "\n",
    "print(ancilla_obj.get_wave_function())\n",
    "print('')\n",
    "print(ancilla_amplitudes)"
   ]
  },
  {
   "cell_type": "code",
   "execution_count": null,
   "metadata": {},
   "outputs": [],
   "source": []
  },
  {
   "cell_type": "code",
   "execution_count": 51,
   "metadata": {},
   "outputs": [],
   "source": [
    "class Measure_system_and_ancilla(cirq.Gate):\n",
    "    \"\"\"\n",
    "    Class to generate cirq circuit that measures PauliWord in Z BASIS AND ancilla line!!!!\n",
    "\n",
    "    e.g.: PauliWord_and_cofactor = ('X0 Y1 Z2 I3 Y4', -0.28527408634774526j)\n",
    "          n_ancilla_qubits = 2\n",
    "\n",
    "        gives :\n",
    "                0: ───M───\n",
    "                      │\n",
    "                1: ───M───\n",
    "                      │\n",
    "                2: ───M───\n",
    "                      │\n",
    "                4: ───M───\n",
    "                      │\n",
    "                5: ───M───\n",
    "                      │\n",
    "                6: ───M───\n",
    "\n",
    "    Args:\n",
    "        PauliWord_and_cofactor (tuple): Tuple of PauliWord (str) and constant (complex) ... (PauliWord, constant)\n",
    "        n_ancilla_qubits (int): Number of ancilla qubits\n",
    "\n",
    "    Returns\n",
    "        A cirq circuit object to be used by cirq.Circuit\n",
    "\n",
    "    \"\"\"\n",
    "    def __init__(self, PauliQubitOp, N_ancilla_qubits, N_system_qubits):\n",
    "\n",
    "        self.PauliQubitOp = PauliQubitOp\n",
    "        self.N_ancilla_qubits = N_ancilla_qubits\n",
    "        self.N_system_qubits = N_system_qubits\n",
    "\n",
    "    def _decompose_(self, qubits):\n",
    "        \n",
    "        qubit_system_list, _ = zip(*list(*self.PauliQubitOp.terms.keys()))\n",
    "        qubit_ancilla_list = [i for i in range(self.N_system_qubits, self.N_ancilla_qubits + self.N_system_qubits)]\n",
    "        \n",
    "        qubits_to_measure = (qubits[q_No] for q_No in list(qubit_system_list)+qubit_ancilla_list)\n",
    "        if qubit_system_list != []:\n",
    "            yield cirq.measure(*qubits_to_measure)\n",
    "        else:\n",
    "            return None\n",
    "         \n",
    "    def _circuit_diagram_info_(self, args):\n",
    "        string_list = []\n",
    "        for _ in range(self.N_system_qubits):\n",
    "            string_list.append(' Measuring system qubits')\n",
    "            \n",
    "        for _ in range(self.N_ancilla_qubits):\n",
    "            string_list.append(' Measuring ancilla qubits')\n",
    "            \n",
    "        return string_list\n",
    "\n",
    "    def num_qubits(self):\n",
    "        return N_ancilla_qubits + N_system_qubits"
   ]
  },
  {
   "cell_type": "code",
   "execution_count": 52,
   "metadata": {},
   "outputs": [
    {
     "name": "stdout",
     "output_type": "stream",
     "text": [
      "0: ────M───\n",
      "       │\n",
      "2: ────M───\n",
      "       │\n",
      "3: ────M───\n",
      "       │\n",
      "10: ───M───\n",
      "       │\n",
      "11: ───M───\n"
     ]
    }
   ],
   "source": [
    "x = QubitOperator('X0 Z2 Y3', 0.25j)\n",
    "N_ancilla_qubits = 2\n",
    "N_system_qubits = 10\n",
    "\n",
    "measure_circ_obj = Measure_system_and_ancilla(x, N_ancilla_qubits, N_system_qubits)\n",
    "# print(cirq.Circuit((measure_circ_obj(*cirq.LineQubit.range(measure_circ_obj.num_qubits())))))\n",
    "# print('####')\n",
    "print(\n",
    "    cirq.Circuit(cirq.decompose_once((measure_circ_obj(*cirq.LineQubit.range(measure_circ_obj.num_qubits()))))))"
   ]
  },
  {
   "cell_type": "code",
   "execution_count": 119,
   "metadata": {},
   "outputs": [],
   "source": [
    "def Full_Q_Circuit(Pn, R_corrected_Op_list, R_correction_list, ancilla_amplitudes, N_system_qubits, Pauli_N, ansatz_circ):\n",
    "    \n",
    "    ancilla_obj = prepare_arb_state(ancilla_amplitudes, N_system_qubits)\n",
    "    ancilla_circ = ancilla_obj.Get_state_prep_Circuit()\n",
    "    \n",
    "    N_ancilla_qubits = ancilla_obj.Get_max_no_ancilla_qubits()\n",
    "    ancilla_prep_circ = ancilla_obj.Get_state_prep_Circuit()\n",
    "    R_circ_obj = LCU_R_gate(N_ancilla_qubits, N_system_qubits, R_corrected_Op_list, R_correction_list)\n",
    "    R_circ_circ = cirq.Circuit(\n",
    "        cirq.decompose_once((R_circ_obj(*cirq.LineQubit.range(R_circ_obj.num_qubits())))))\n",
    "    \n",
    "    \n",
    "    change_to_Z_basis_obj = Change_PauliWord_measurement_to_Z_basis(Pn)\n",
    "    change_to_Z_basis_circ = cirq.Circuit(\n",
    "        cirq.decompose_once((change_to_Z_basis_obj(*cirq.LineQubit.range(change_to_Z_basis_obj.num_qubits())))))\n",
    "    \n",
    "    measure_obj = Measure_system_and_ancilla(Pauli_N, N_ancilla_qubits, N_system_qubits)\n",
    "    \n",
    "    measure_obj_circ = cirq.Circuit(\n",
    "        cirq.decompose_once((measure_obj(*cirq.LineQubit.range(measure_obj.num_qubits())))))\n",
    "    \n",
    "    full_Q_circ = cirq.Circuit([\n",
    "        *ansatz_circ.all_operations(),\n",
    "        *ancilla_circ.all_operations(),\n",
    "        *R_circ_circ.all_operations(),\n",
    "        *list(ancilla_circ.all_operations())[::-1],\n",
    "        *change_to_Z_basis_circ.all_operations(),\n",
    "        *measure_obj_circ\n",
    "    ])\n",
    "    return full_Q_circ"
   ]
  },
  {
   "cell_type": "code",
   "execution_count": 120,
   "metadata": {},
   "outputs": [],
   "source": [
    "from quchem.Ansatz_Generator_Functions import *\n",
    "\n",
    "ansatz_obj = Ansatz(Hamilt.molecule.n_electrons, Hamilt.molecule.n_qubits)\n",
    "\n",
    "Sec_Quant_CC_ia_ops, Sec_Quant_CC_ijab_ops, theta_parameters_ia, theta_parameters_ijab = ansatz_obj.Get_ia_and_ijab_terms()\n",
    "\n",
    "Qubit_Op_list_Second_Quant_CC_Ops_ia, Qubit_Op_list_Second_Quant_CC_Ops_ijab = ansatz_obj.UCCSD_single_trotter_step(Sec_Quant_CC_ia_ops, Sec_Quant_CC_ijab_ops,\n",
    "                                                                                                                    transformation='JW')\n",
    "\n",
    "full_ansatz_Q_Circ = Ansatz_Circuit(Qubit_Op_list_Second_Quant_CC_Ops_ia, Qubit_Op_list_Second_Quant_CC_Ops_ijab,\n",
    "             Hamilt.molecule.n_qubits, Hamilt.molecule.n_electrons)\n",
    "\n",
    "ansatz_cirq_circuit = full_ansatz_Q_Circ.Get_Full_HF_UCCSD_QC(theta_parameters_ia, theta_parameters_ijab)"
   ]
  },
  {
   "cell_type": "code",
   "execution_count": 121,
   "metadata": {
    "scrolled": true
   },
   "outputs": [
    {
     "data": {
      "text/html": [
       "<pre style=\"overflow: auto; white-space: pre;\">0: ───X───────────────────────Rx(0.5π)───@───────────────────────@───Rx(-0.5π)───H───@──────────────────────@───────────H──────────H─────────────────────────────────────────────────────────────────────────────────────────────@───────────────────────────────@───────────H──────────Rx(0.5π)───@──────────────────────────────@───────────Rx(-0.5π)───Rx(0.5π)───@──────────────────────────────@───Rx(-0.5π)───H──────────@──────────────────────────────@──────────H───────────Rx(0.5π)───@───────────────────────────────────────@───────────Rx(-0.5π)───H──────────@───────────────────────────────────────@───────────H───────────H───@───────────────────────────────────────@──────────H───Rx(0.5π)───@──────────────────────────────────────@───Rx(-0.5π)───modified P_Word gate───Ry(-0.5π)───────────────M───\n",
       "                                         │                       │                   │                      │                                                                                                                    │                               │                                 │                              │                                  │                              │                          │                              │                                 │                                       │                                  │                                       │                           │                                       │                         │                                      │               │                                              │\n",
       "1: ───X──────────────────────────────────X───@───────────────@───X───────────────────X───@──────────────@───X───────────Rx(0.5π)───@───────────────────────@───Rx(-0.5π)───H───@──────────────────────@───────────H──────────H───X───@───────────────────────@───X───────────H──────────Rx(0.5π)───X───@──────────────────────@───X───────────Rx(-0.5π)───H──────────X───@──────────────────────@───X───H───────────Rx(0.5π)───X───@──────────────────────@───X──────────Rx(-0.5π)───H──────────X───@───────────────────────@───────────X───────────H───────────Rx(0.5π)───X───@───────────────────────@───────────X───────────Rx(-0.5π)───H───X───@───────────────────────@───────────X──────────H───Rx(0.5π)───X───@──────────────────────@───────────X───Rx(-0.5π)───modified P_Word gate───Ry(-0.5π)───────────────M───\n",
       "                                             │               │                           │              │                          │                       │                   │                      │                              │                       │                                         │                      │                                          │                      │                                  │                      │                                         │                       │                                                  │                       │                                           │                       │                                         │                      │                           │                                              │\n",
       "2: ───H──────────────────────────────────────X───Rz(-0.0π)───X───H───Rx(0.5π)────────────X───Rz(0.0π)───X───Rx(-0.5π)──────────────X───@───────────────@───X───────────────────X───@──────────────@───X───────────Rx(0.5π)───────────X───@───────────────@───X───Rx(-0.5π)───Rx(0.5π)──────────────────X───@──────────────@───X───Rx(-0.5π)───H──────────────────────────X───@──────────────@───X───H───H──────────────────────────X───@──────────────@───X───H──────────Rx(0.5π)───────────────────X───@───────────────@───X───────────Rx(-0.5π)───Rx(0.5π)───────────────────X───@───────────────@───X───────────Rx(-0.5π)───H───────────────────X───@───────────────@───X───────────H──────────H──────────────────X───@──────────────@───X───────────H───────────────modified P_Word gate───Rx(0.5π)────────────────M───\n",
       "                                                                                                                                       │               │                           │              │                                      │               │                                                 │              │                                                  │              │                                          │              │                                                 │               │                                                          │               │                                                   │               │                                                 │              │                               │                                              │\n",
       "3: ───H────────────────────────────────────────────────────────────────────────────────────────────────────────────────────────────────X───Rz(-0.0π)───X───H───Rx(0.5π)────────────X───Rz(0.0π)───X───Rx(-0.5π)───H──────────────────────X───Rz(-0.0π)───X───H───H─────────────────────────────────────────X───Rz(0.0π)───X───H───H──────────────────────────────────────────X───Rz(0.0π)───X───H───H──────────────────────────────────X───Rz(0.0π)───X───H───Rx(0.5π)──────────────────────────────────X───Rz(-0.0π)───X───Rx(-0.5π)───Rx(0.5π)───────────────────────────────────X───Rz(-0.0π)───X───Rx(-0.5π)───Rx(0.5π)────────────────────────────X───Rz(-0.0π)───X───Rx(-0.5π)───Rx(0.5π)──────────────────────────X───Rz(0.0π)───X───Rx(-0.5π)───────────────────modified P_Word gate───Rx(0.5π)────────────────M───\n",
       "                                                                                                                                                                                                                                                                                                                                                                                                                                                                                                                                                                                                                                                                                                                                                                        │                                              │\n",
       "4: ─── U = (0.6344+0j) rad ─────────────────────────────────────────────────────────────────────────────────────────────────────────────────────────────────────────────────────────────────────────────────────────────────────────────────────────────────────────────────────────────────────────────────────────────────────────────────────────────────────────────────────────────────────────────────────────────────────────────────────────────────────────────────────────────────────────────────────────────────────────────────────────────────────────────────────────────────────────────────────────────────────────────────────────────────────────────────────────────────────────────────────────────────────────────────────────────────────────────@────────────────────── U = (0.6344+0j) rad ───M───</pre>"
      ],
      "text/plain": [
       "0: ───X───────────────────────Rx(0.5π)───@───────────────────────@───Rx(-0.5π)───H───@──────────────────────@───────────H──────────H─────────────────────────────────────────────────────────────────────────────────────────────@───────────────────────────────@───────────H──────────Rx(0.5π)───@──────────────────────────────@───────────Rx(-0.5π)───Rx(0.5π)───@──────────────────────────────@───Rx(-0.5π)───H──────────@──────────────────────────────@──────────H───────────Rx(0.5π)───@───────────────────────────────────────@───────────Rx(-0.5π)───H──────────@───────────────────────────────────────@───────────H───────────H───@───────────────────────────────────────@──────────H───Rx(0.5π)───@──────────────────────────────────────@───Rx(-0.5π)───modified P_Word gate───Ry(-0.5π)───────────────M───\n",
       "                                         │                       │                   │                      │                                                                                                                    │                               │                                 │                              │                                  │                              │                          │                              │                                 │                                       │                                  │                                       │                           │                                       │                         │                                      │               │                                              │\n",
       "1: ───X──────────────────────────────────X───@───────────────@───X───────────────────X───@──────────────@───X───────────Rx(0.5π)───@───────────────────────@───Rx(-0.5π)───H───@──────────────────────@───────────H──────────H───X───@───────────────────────@───X───────────H──────────Rx(0.5π)───X───@──────────────────────@───X───────────Rx(-0.5π)───H──────────X───@──────────────────────@───X───H───────────Rx(0.5π)───X───@──────────────────────@───X──────────Rx(-0.5π)───H──────────X───@───────────────────────@───────────X───────────H───────────Rx(0.5π)───X───@───────────────────────@───────────X───────────Rx(-0.5π)───H───X───@───────────────────────@───────────X──────────H───Rx(0.5π)───X───@──────────────────────@───────────X───Rx(-0.5π)───modified P_Word gate───Ry(-0.5π)───────────────M───\n",
       "                                             │               │                           │              │                          │                       │                   │                      │                              │                       │                                         │                      │                                          │                      │                                  │                      │                                         │                       │                                                  │                       │                                           │                       │                                         │                      │                           │                                              │\n",
       "2: ───H──────────────────────────────────────X───Rz(-0.0π)───X───H───Rx(0.5π)────────────X───Rz(0.0π)───X───Rx(-0.5π)──────────────X───@───────────────@───X───────────────────X───@──────────────@───X───────────Rx(0.5π)───────────X───@───────────────@───X───Rx(-0.5π)───Rx(0.5π)──────────────────X───@──────────────@───X───Rx(-0.5π)───H──────────────────────────X───@──────────────@───X───H───H──────────────────────────X───@──────────────@───X───H──────────Rx(0.5π)───────────────────X───@───────────────@───X───────────Rx(-0.5π)───Rx(0.5π)───────────────────X───@───────────────@───X───────────Rx(-0.5π)───H───────────────────X───@───────────────@───X───────────H──────────H──────────────────X───@──────────────@───X───────────H───────────────modified P_Word gate───Rx(0.5π)────────────────M───\n",
       "                                                                                                                                       │               │                           │              │                                      │               │                                                 │              │                                                  │              │                                          │              │                                                 │               │                                                          │               │                                                   │               │                                                 │              │                               │                                              │\n",
       "3: ───H────────────────────────────────────────────────────────────────────────────────────────────────────────────────────────────────X───Rz(-0.0π)───X───H───Rx(0.5π)────────────X───Rz(0.0π)───X───Rx(-0.5π)───H──────────────────────X───Rz(-0.0π)───X───H───H─────────────────────────────────────────X───Rz(0.0π)───X───H───H──────────────────────────────────────────X───Rz(0.0π)───X───H───H──────────────────────────────────X───Rz(0.0π)───X───H───Rx(0.5π)──────────────────────────────────X───Rz(-0.0π)───X───Rx(-0.5π)───Rx(0.5π)───────────────────────────────────X───Rz(-0.0π)───X───Rx(-0.5π)───Rx(0.5π)────────────────────────────X───Rz(-0.0π)───X───Rx(-0.5π)───Rx(0.5π)──────────────────────────X───Rz(0.0π)───X───Rx(-0.5π)───────────────────modified P_Word gate───Rx(0.5π)────────────────M───\n",
       "                                                                                                                                                                                                                                                                                                                                                                                                                                                                                                                                                                                                                                                                                                                                                                        │                                              │\n",
       "4: ─── U = (0.6344+0j) rad ─────────────────────────────────────────────────────────────────────────────────────────────────────────────────────────────────────────────────────────────────────────────────────────────────────────────────────────────────────────────────────────────────────────────────────────────────────────────────────────────────────────────────────────────────────────────────────────────────────────────────────────────────────────────────────────────────────────────────────────────────────────────────────────────────────────────────────────────────────────────────────────────────────────────────────────────────────────────────────────────────────────────────────────────────────────────────────────────────────────────@────────────────────── U = (0.6344+0j) rad ───M───"
      ]
     },
     "execution_count": 121,
     "metadata": {},
     "output_type": "execute_result"
    }
   ],
   "source": [
    "R_uncorrected, Pn, gamma_l = Get_R_linear_combination(anit_commuting_sets[7], 1)\n",
    "R_corrected_Op_list, R_corr_list, ancilla_amplitudes = absorb_complex_phases(R_uncorrected)\n",
    "\n",
    "\n",
    "aa = Full_Q_Circuit(Pn, R_corrected_Op_list, R_corr_list, ancilla_amplitudes, Hamilt.molecule.n_qubits, Pn, ansatz_cirq_circuit)\n",
    "aa"
   ]
  },
  {
   "cell_type": "code",
   "execution_count": null,
   "metadata": {},
   "outputs": [],
   "source": []
  },
  {
   "cell_type": "code",
   "execution_count": 122,
   "metadata": {},
   "outputs": [
    {
     "data": {
      "text/plain": [
       "'0,2,3,5,6'"
      ]
     },
     "execution_count": 122,
     "metadata": {},
     "output_type": "execute_result"
    }
   ],
   "source": [
    "def Get_Histogram_key_ancilla_system(qubitOperator, N_system_qubits, N_ancilla_qubits):\n",
    "\n",
    "    qubit_No, PauliStr = zip(*list(*qubitOperator.terms.keys()))\n",
    "\n",
    "    histogram_string = ','.join([str(i) for i in (qubit_No)] + [str(i) for i in range(N_system_qubits, N_system_qubits + N_ancilla_qubits)]) \n",
    "    return histogram_string\n",
    "\n",
    "\n",
    "x = QubitOperator('X0 Z2 Y3', 0.25j)\n",
    "N_ancilla_qubits = 2\n",
    "N_system_qubits = 5\n",
    "\n",
    "Get_Histogram_key_ancilla_system(x, N_system_qubits, N_ancilla_qubits)"
   ]
  },
  {
   "cell_type": "code",
   "execution_count": null,
   "metadata": {},
   "outputs": [],
   "source": []
  },
  {
   "cell_type": "code",
   "execution_count": 123,
   "metadata": {},
   "outputs": [],
   "source": [
    "def simulate_probabilistic_Q_circuit(probability_of_success, Quantum_circuit, n_shots):\n",
    "\n",
    "    simulator = cirq.Simulator()\n",
    "    raw_result = simulator.run(Quantum_circuit, repetitions=n_shots*int(np.ceil(1/probability_of_success)))\n",
    "    return raw_result"
   ]
  },
  {
   "cell_type": "code",
   "execution_count": 124,
   "metadata": {},
   "outputs": [],
   "source": [
    "def Get_binary_dict_project(Quantum_circuit, qubitOperator, n_shots, N_system_qubits, ancilla_amplitudes):\n",
    "\n",
    "    N_system_terms_measured = len(list(qubitOperator.terms.keys())[0])\n",
    "    N_ancilla_qubits = int(np.ceil(np.log2(len(ancilla_amplitudes)))) \n",
    "    correct_ancilla_state = np.zeros([N_ancilla_qubits])\n",
    "    \n",
    "    l1_norm = sum(abs(i) for i in ancilla_amplitudes)\n",
    "    P_success = (1/l1_norm)**2\n",
    "    \n",
    "    n_success_shots=0\n",
    "    binary_results_dict = {}\n",
    "    while n_success_shots != n_shots:\n",
    "        hist_key = Get_Histogram_key_ancilla_system(qubitOperator, N_system_qubits, N_ancilla_qubits)\n",
    "        raw_result = simulate_probabilistic_Q_circuit(P_success, Quantum_circuit, n_shots)\n",
    "        \n",
    "        M_results = raw_result.measurements[hist_key]\n",
    "        for result in M_results:\n",
    "\n",
    "            print(result)\n",
    "            print(correct_ancilla_state)\n",
    "            print(N_ancilla_qubits)\n",
    "\n",
    "            if np.array_equal(result[N_system_terms_measured::], correct_ancilla_state): # Checks if all zero ancilla measured!\n",
    "                seperator = ''\n",
    "                state_key_binary = seperator.join(map(str, result[:N_system_terms_measured])) #Gets rid of ancilla part!!!\n",
    "                if state_key_binary not in binary_results_dict.keys():\n",
    "                    binary_results_dict[state_key_binary] = 1\n",
    "                else:\n",
    "                    binary_results_dict[state_key_binary] += 1\n",
    "                n_success_shots += 1\n",
    "\n",
    "#                 print(binary_results_dict)\n",
    "            if n_success_shots == n_shots:\n",
    "                break\n",
    "    return binary_results_dict"
   ]
  },
  {
   "cell_type": "code",
   "execution_count": 125,
   "metadata": {},
   "outputs": [],
   "source": [
    "R_uncorrected, Pn, gamma_l = Get_R_linear_combination(anit_commuting_sets[7], 1)\n",
    "R_corrected_Op_list, R_corr_list, ancilla_amplitudes = absorb_complex_phases(R_uncorrected)\n",
    "\n",
    "aa = Full_Q_Circuit(Pn, R_corrected_Op_list, R_corr_list, ancilla_amplitudes, Hamilt.molecule.n_qubits, Pn, ansatz_cirq_circuit)\n",
    "# Get_binary_dict_project(aa, Pn, 100, 4, ancilla_amplitudes)"
   ]
  },
  {
   "cell_type": "code",
   "execution_count": 126,
   "metadata": {},
   "outputs": [],
   "source": [
    "from quchem.Simulating_Quantum_Circuit import *\n",
    "\n",
    "class VQE_Experiment_LCU_UP():\n",
    "    def __init__(self, \n",
    "                 anti_commting_sets,\n",
    "                 ansatz_circuit,\n",
    "                 n_shots,\n",
    "                 ancilla_amplitudes,\n",
    "                 N_system_qubits,\n",
    "                 N_indices_dict=None):\n",
    "        \n",
    "        self.anti_commting_sets = anti_commting_sets\n",
    "        self.ansatz_circuit = ansatz_circuit\n",
    "        self.n_shots = n_shots\n",
    "\n",
    "        self.ancilla_amplitudes = ancilla_amplitudes\n",
    "        self.N_system_qubits = N_system_qubits\n",
    "        self.N_indices_dict = N_indices_dict\n",
    "        self.N_ancilla_qubits = int(np.ceil(np.log2(len(self.ancilla_amplitudes)))) \n",
    "    \n",
    "    \n",
    "    def Get_Histogram_key_ancilla_system(self, qubitOperator):\n",
    "\n",
    "        \n",
    "        qubit_No, PauliStr = zip(*list(*qubitOperator.terms.keys()))\n",
    "\n",
    "        histogram_string = ','.join([str(i) for i in (qubit_No)] + [str(i) for i in range(self.N_system_qubits , self.N_system_qubits  + self.N_ancilla_qubits)]) \n",
    "        return histogram_string\n",
    "    \n",
    "    def simulate_probabilistic_Q_circuit(self, probability_of_success, Quantum_circuit):\n",
    "\n",
    "        simulator = cirq.Simulator()\n",
    "        raw_result = simulator.run(Quantum_circuit, repetitions=self.n_shots*int(np.ceil(1/probability_of_success)))\n",
    "        return raw_result\n",
    "    \n",
    "    \n",
    "    def Get_binary_dict_project(self, Quantum_circuit, qubitOperator):\n",
    "\n",
    "        correct_ancilla_state = np.zeros([self.N_ancilla_qubits])\n",
    "        N_system_terms_measured = len(list(qubitOperator.terms.keys())[0])\n",
    "        \n",
    "        l1_norm = sum(abs(i) for i in self.ancilla_amplitudes)\n",
    "        P_success = (1/l1_norm)**2\n",
    "\n",
    "        n_success_shots=0\n",
    "        binary_results_dict = {}\n",
    "        while n_success_shots != self.n_shots:\n",
    "            hist_key = self.Get_Histogram_key_ancilla_system(qubitOperator)\n",
    "            raw_result = self.simulate_probabilistic_Q_circuit(P_success, Quantum_circuit)\n",
    "\n",
    "            M_results = raw_result.measurements[hist_key]\n",
    "            for result in M_results:\n",
    "\n",
    "                if np.array_equal(result[N_system_terms_measured::], correct_ancilla_state): # Checks if all zero ancilla measured!\n",
    "                    seperator = ''\n",
    "                    state_key_binary = seperator.join(map(str, result[:N_system_terms_measured])) #Gets rid of ancilla part!!!\n",
    "                    if state_key_binary not in binary_results_dict.keys():\n",
    "                        binary_results_dict[state_key_binary] = 1\n",
    "                    else:\n",
    "                        binary_results_dict[state_key_binary] += 1\n",
    "                    n_success_shots += 1\n",
    "\n",
    "    #                 print(binary_results_dict)\n",
    "                if n_success_shots == self.n_shots:\n",
    "                    break\n",
    "        return binary_results_dict\n",
    "    \n",
    "    \n",
    "   \n",
    "    def Calc_Energy(self):\n",
    "        \n",
    "        E_list = []\n",
    "        for set_key in self.anti_commting_sets:\n",
    "            if len(self.anti_commting_sets[set_key])>1:\n",
    "                \n",
    "                if self.N_indices_dict is None:\n",
    "                    R_uncorrected, Pn, gamma_l = Get_R_linear_combination(self.anti_commting_sets[set_key], 0)\n",
    "                    R_corrected_Op_list, R_corr_list, ancilla_amplitudes = absorb_complex_phases(R_uncorrected)\n",
    "                else:\n",
    "                    R_uncorrected, Pn, gamma_l = Get_R_linear_combination(self.anti_commting_sets[set_key], self.N_indices_dict[set_key])\n",
    "                    R_corrected_Op_list, R_corr_list, ancilla_amplitudes = absorb_complex_phases(R_uncorrected)\n",
    "                \n",
    "                Q_circuit = Full_Q_Circuit(Pn, R_corrected_Op_list,\n",
    "                                           R_corr_list, ancilla_amplitudes,\n",
    "                                           self.N_system_qubits,\n",
    "                                           Pn,\n",
    "                                           self.ansatz_circuit)\n",
    "\n",
    "                binary_state_counter = self.Get_binary_dict_project(Q_circuit, Pn)\n",
    "                exp_result = expectation_value_by_parity(binary_state_counter)\n",
    "#                 E_list.append(exp_result*gamma_l)\n",
    "                E_list.append(exp_result*list(Pn.terms.values())[0]*gamma_l)\n",
    "#                 E_list.append(exp_result*list(Pn.terms.values())[0])\n",
    "#                 E_list.append(exp_result)\n",
    "#                 print(Pn, list(Pn.terms.values())[0])\n",
    "                print(Pn, gamma_l, exp_result )\n",
    "#                 print(np.prod([i**2 for i in R_corr_list]), gamma_l, exp_result)\n",
    "        \n",
    "            else:\n",
    "                single_PauliOp = self.anti_commting_sets[set_key][0]\n",
    "                if list(single_PauliOp.terms.keys())[0] == ():\n",
    "                    E_list.append(list(single_PauliOp.terms.values())[0])\n",
    "                else:\n",
    "                    Q_circuit = Generate_Full_Q_Circuit(self.ansatz_circuit, single_PauliOp)\n",
    "                    hist_key_str = Get_Histogram_key(single_PauliOp)\n",
    "                    int_state_counter = Simulate_Quantum_Circuit(Q_circuit, self.n_shots, hist_key_str)\n",
    "                    binary_state_counter = Return_as_binary(int_state_counter, hist_key_str)\n",
    "                    exp_result = expectation_value_by_parity(binary_state_counter)\n",
    "                    E_list.append(exp_result*list(single_PauliOp.terms.values())[0])\n",
    "                    print(single_PauliOp, exp_result*list(single_PauliOp.terms.values())[0])\n",
    "                    \n",
    "#         print(Q_circuit.to_text_diagram(transpose=True))            \n",
    "        return sum(E_list)\n",
    "        \n",
    "    def Get_wavefunction_of_state(self, sig_figs=3):\n",
    "        return Get_wavefunction(self.ansatz_circuit, sig_figs=sig_figs)\n"
   ]
  },
  {
   "cell_type": "code",
   "execution_count": 127,
   "metadata": {},
   "outputs": [
    {
     "data": {
      "text/plain": [
       "{0: [(0.1686889816869329+0j) [Z0 Z1]],\n",
       " 1: [(0.12062523481381837+0j) [Z1 Z3]],\n",
       " 2: [(0.12062523481381837+0j) [Z0 Z2]],\n",
       " 3: [(0.16592785032250768+0j) [Z1 Z2]],\n",
       " 4: [(0.16592785032250768+0j) [Z0 Z3]],\n",
       " 5: [(-0.09706626861762624+0j) []],\n",
       " 6: [(0.174412876106516+0j) [Z2 Z3]],\n",
       " 7: [(0.171412826394024+0j) [Z1], (-0.04530261550868928+0j) [X0 X1 Y2 Y3]],\n",
       " 8: [(0.17141282639402405+0j) [Z0], (0.04530261550868928+0j) [Y0 X1 X2 Y3]],\n",
       " 9: [(-0.04530261550868928+0j) [Y0 Y1 X2 X3], (-0.2234315367466397+0j) [Z3]],\n",
       " 10: [(-0.2234315367466397+0j) [Z2], (0.04530261550868928+0j) [X0 Y1 Y2 X3]]}"
      ]
     },
     "execution_count": 127,
     "metadata": {},
     "output_type": "execute_result"
    }
   ],
   "source": [
    "anit_commuting_sets"
   ]
  },
  {
   "cell_type": "code",
   "execution_count": 129,
   "metadata": {},
   "outputs": [
    {
     "name": "stdout",
     "output_type": "stream",
     "text": [
      "(0.1686889816869329+0j) [Z0 Z1] (0.1686889816869329+0j)\n",
      "(0.12062523481381837+0j) [Z1 Z3] (-0.12062523481381837+0j)\n",
      "(0.12062523481381837+0j) [Z0 Z2] (-0.12062523481381837+0j)\n",
      "(0.16592785032250768+0j) [Z1 Z2] (-0.16592785032250768+0j)\n",
      "(0.16592785032250768+0j) [Z0 Z3] (-0.16592785032250768+0j)\n",
      "(0.174412876106516+0j) [Z2 Z3] (0.174412876106516+0j)\n",
      "1 [X0 X1 Y2 Y3] (0.17729829109248613+0j) 0.0\n",
      "1 [Y0 X1 X2 Y3] (0.17729829109248618+0j) -0.0074\n",
      "1 [Z3] (0.22797802215321797+0j) 1.0\n",
      "1 [X0 Y1 Y2 X3] (0.22797802215321797+0j) 0.0016\n"
     ]
    },
    {
     "data": {
      "text/plain": [
       "(-0.10003980146225067+0j)"
      ]
     },
     "execution_count": 129,
     "metadata": {},
     "output_type": "execute_result"
    }
   ],
   "source": [
    "n_shots=10000\n",
    "\n",
    "testing =  VQE_Experiment_LCU_UP(anit_commuting_sets,\n",
    "                 ansatz_cirq_circuit,\n",
    "                 n_shots,\n",
    "                 ancilla_amplitudes,\n",
    "                 Hamilt.molecule.n_qubits,\n",
    "                 N_indices_dict={7:1, 8:1, 9:1, 10:1})\n",
    "testing.Calc_Energy()"
   ]
  },
  {
   "cell_type": "code",
   "execution_count": 358,
   "metadata": {},
   "outputs": [
    {
     "data": {
      "text/plain": [
       "[(0.171412826394024+0j) [Z1], (-0.04530261550868928+0j) [X0 X1 Y2 Y3]]"
      ]
     },
     "execution_count": 358,
     "metadata": {},
     "output_type": "execute_result"
    }
   ],
   "source": []
  },
  {
   "cell_type": "code",
   "execution_count": 119,
   "metadata": {},
   "outputs": [
    {
     "data": {
      "text/plain": [
       "(-1+0j)"
      ]
     },
     "execution_count": 119,
     "metadata": {},
     "output_type": "execute_result"
    }
   ],
   "source": [
    "R_corr_list = [1j, 1j]\n",
    "np.prod(R_corr_list)"
   ]
  },
  {
   "cell_type": "code",
   "execution_count": null,
   "metadata": {},
   "outputs": [],
   "source": []
  },
  {
   "cell_type": "code",
   "execution_count": null,
   "metadata": {},
   "outputs": [],
   "source": []
  },
  {
   "cell_type": "code",
   "execution_count": 130,
   "metadata": {},
   "outputs": [],
   "source": [
    "from quchem.Simulating_Quantum_Circuit import *\n",
    "from quchem.Ansatz_Generator_Functions import *\n",
    "from openfermion.ops import QubitOperator\n",
    "\n",
    "def H2_ansatz(theta):\n",
    "    HF_circ = [cirq.X.on(cirq.LineQubit(0)), cirq.X.on(cirq.LineQubit(1))]\n",
    "    \n",
    "    full_exp_circ_obj = full_exponentiated_PauliWord_circuit(QubitOperator('Y0 X1 X2 X3', -1j), theta)\n",
    "    UCCSD_circ = cirq.Circuit(cirq.decompose_once((full_exp_circ_obj(*cirq.LineQubit.range(full_exp_circ_obj.num_qubits())))))\n",
    "    full_circuit = cirq.Circuit([*HF_circ, *UCCSD_circ.all_operations()])\n",
    "    \n",
    "    return full_circuit\n"
   ]
  },
  {
   "cell_type": "code",
   "execution_count": 131,
   "metadata": {},
   "outputs": [
    {
     "name": "stdout",
     "output_type": "stream",
     "text": [
      "(0.1686889816869329+0j) [Z0 Z1] (0.1686889816869329+0j)\n",
      "(0.12062523481381837+0j) [Z1 Z3] (-0.12062523481381837+0j)\n",
      "(0.12062523481381837+0j) [Z0 Z2] (-0.12062523481381837+0j)\n",
      "(0.16592785032250768+0j) [Z1 Z2] (-0.16592785032250768+0j)\n",
      "(0.16592785032250768+0j) [Z0 Z3] (-0.16592785032250768+0j)\n",
      "(0.174412876106516+0j) [Z2 Z3] (0.174412876106516+0j)\n",
      "1 [Z1] (0.17729829109248613+0j) 0.99\n",
      "1 [Z0] (0.17729829109248618+0j) 0.994\n",
      "1 [Y0 Y1 X2 X3] (0.22797802215321797+0j) -0.004\n",
      "1 [Z2] (0.22797802215321797+0j) -0.998\n"
     ]
    },
    {
     "data": {
      "text/plain": [
       "(-0.2037447497668613+0j)"
      ]
     },
     "execution_count": 131,
     "metadata": {},
     "output_type": "execute_result"
    }
   ],
   "source": [
    "n_shots=1000\n",
    "def GIVE_ENERGY(THETA):\n",
    "   \n",
    "    ansatz_cirq_circuit = H2_ansatz(THETA)\n",
    "\n",
    "    VQE_exp_LCU =  VQE_Experiment_LCU_UP(anit_commuting_sets,\n",
    "                     ansatz_cirq_circuit,\n",
    "                     n_shots,\n",
    "                     ancilla_amplitudes,\n",
    "                     Hamilt.molecule.n_qubits,\n",
    "                     N_indices_dict=None)#{7:0, 8:1, 9:0, 10:1})\n",
    "    return VQE_exp_LCU.Calc_Energy()\n",
    "\n",
    "GIVE_ENERGY(1.5)#np.pi/5)"
   ]
  },
  {
   "cell_type": "code",
   "execution_count": 136,
   "metadata": {},
   "outputs": [
    {
     "name": "stdout",
     "output_type": "stream",
     "text": [
      "(0.1686889816869329+0j) [Z0 Z1] (0.1686889816869329+0j)\n",
      "(0.12062523481381837+0j) [Z1 Z3] (-0.12062523481381837+0j)\n",
      "(0.12062523481381837+0j) [Z0 Z2] (-0.12062523481381837+0j)\n",
      "(0.16592785032250768+0j) [Z1 Z2] (-0.16592785032250768+0j)\n",
      "(0.16592785032250768+0j) [Z0 Z3] (-0.16592785032250768+0j)\n",
      "(0.174412876106516+0j) [Z2 Z3] (0.174412876106516+0j)\n",
      "1 [Z1] (0.17729829109248613+0j) -1.0\n",
      "1 [Z0] (0.17729829109248618+0j) -1.0\n",
      "1 [Z3] (0.22797802215321797+0j) 1.0\n",
      "1 [Z2] (0.22797802215321797+0j) 1.0\n"
     ]
    },
    {
     "data": {
      "text/plain": [
       "(-0.22571111897536586+0j)"
      ]
     },
     "execution_count": 136,
     "metadata": {},
     "output_type": "execute_result"
    }
   ],
   "source": [
    "n_shots=1000\n",
    "def GIVE_ENERGY(THETA):\n",
    "   \n",
    "    ansatz_cirq_circuit = H2_ansatz(THETA)\n",
    "\n",
    "    VQE_exp_LCU =  VQE_Experiment_LCU_UP(anit_commuting_sets,\n",
    "                     ansatz_cirq_circuit,\n",
    "                     n_shots,\n",
    "                     ancilla_amplitudes,\n",
    "                     Hamilt.molecule.n_qubits,\n",
    "                     N_indices_dict={7:0, 8:0, 9:1, 10:0})\n",
    "    return VQE_exp_LCU.Calc_Energy()\n",
    "\n",
    "GIVE_ENERGY(np.pi)"
   ]
  },
  {
   "cell_type": "code",
   "execution_count": 137,
   "metadata": {},
   "outputs": [
    {
     "name": "stdout",
     "output_type": "stream",
     "text": [
      "(0.1686889816869329+0j) [Z0 Z1] (0.1686889816869329+0j)\n",
      "(0.12062523481381837+0j) [Z1 Z3] (-0.12062523481381837+0j)\n",
      "(0.12062523481381837+0j) [Z0 Z2] (-0.12062523481381837+0j)\n",
      "(0.16592785032250768+0j) [Z1 Z2] (-0.16592785032250768+0j)\n",
      "(0.16592785032250768+0j) [Z0 Z3] (-0.16592785032250768+0j)\n",
      "(0.174412876106516+0j) [Z2 Z3] (0.174412876106516+0j)\n",
      "1 [Z1] (0.17729829109248613+0j) -1.0\n",
      "1 [Z0] (0.17729829109248618+0j) -1.0\n",
      "1 [Z3] (0.22797802215321797+0j) 1.0\n",
      "1 [Z2] (0.22797802215321797+0j) 1.0\n",
      "(0.1686889816869329+0j) [Z0 Z1] (0.1686889816869329+0j)\n",
      "(0.12062523481381837+0j) [Z1 Z3] (-0.12062523481381837+0j)\n",
      "(0.12062523481381837+0j) [Z0 Z2] (-0.12062523481381837+0j)\n",
      "(0.16592785032250768+0j) [Z1 Z2] (-0.16592785032250768+0j)\n",
      "(0.16592785032250768+0j) [Z0 Z3] (-0.16592785032250768+0j)\n",
      "(0.174412876106516+0j) [Z2 Z3] (0.174412876106516+0j)\n",
      "1 [Z1] (0.17729829109248613+0j) -0.984\n",
      "1 [Z0] (0.17729829109248618+0j) -0.976\n",
      "1 [Z3] (0.22797802215321797+0j) 0.988\n",
      "1 [Z2] (0.22797802215321797+0j) 0.988\n",
      "(0.1686889816869329+0j) [Z0 Z1] (0.1686889816869329+0j)\n",
      "(0.12062523481381837+0j) [Z1 Z3] (-0.12062523481381837+0j)\n",
      "(0.12062523481381837+0j) [Z0 Z2] (-0.12062523481381837+0j)\n",
      "(0.16592785032250768+0j) [Z1 Z2] (-0.16592785032250768+0j)\n",
      "(0.16592785032250768+0j) [Z0 Z3] (-0.16592785032250768+0j)\n",
      "(0.174412876106516+0j) [Z2 Z3] (0.174412876106516+0j)\n",
      "1 [Z1] (0.17729829109248613+0j) -0.926\n",
      "1 [Z0] (0.17729829109248618+0j) -0.918\n",
      "1 [Z3] (0.22797802215321797+0j) 0.92\n",
      "1 [Z2] (0.22797802215321797+0j) 0.916\n",
      "(0.1686889816869329+0j) [Z0 Z1] (0.1686889816869329+0j)\n",
      "(0.12062523481381837+0j) [Z1 Z3] (-0.12062523481381837+0j)\n",
      "(0.12062523481381837+0j) [Z0 Z2] (-0.12062523481381837+0j)\n",
      "(0.16592785032250768+0j) [Z1 Z2] (-0.16592785032250768+0j)\n",
      "(0.16592785032250768+0j) [Z0 Z3] (-0.16592785032250768+0j)\n",
      "(0.174412876106516+0j) [Z2 Z3] (0.174412876106516+0j)\n",
      "1 [Z1] (0.17729829109248613+0j) -0.848\n",
      "1 [Z0] (0.17729829109248618+0j) -0.81\n",
      "1 [Z3] (0.22797802215321797+0j) 0.806\n",
      "1 [Z2] (0.22797802215321797+0j) 0.852\n",
      "(0.1686889816869329+0j) [Z0 Z1] (0.1686889816869329+0j)\n",
      "(0.12062523481381837+0j) [Z1 Z3] (-0.12062523481381837+0j)\n",
      "(0.12062523481381837+0j) [Z0 Z2] (-0.12062523481381837+0j)\n",
      "(0.16592785032250768+0j) [Z1 Z2] (-0.16592785032250768+0j)\n",
      "(0.16592785032250768+0j) [Z0 Z3] (-0.16592785032250768+0j)\n",
      "(0.174412876106516+0j) [Z2 Z3] (0.174412876106516+0j)\n",
      "1 [Z1] (0.17729829109248613+0j) -0.696\n",
      "1 [Z0] (0.17729829109248618+0j) -0.722\n",
      "1 [Z3] (0.22797802215321797+0j) 0.702\n",
      "1 [Z2] (0.22797802215321797+0j) 0.7\n",
      "(0.1686889816869329+0j) [Z0 Z1] (0.1686889816869329+0j)\n",
      "(0.12062523481381837+0j) [Z1 Z3] (-0.12062523481381837+0j)\n",
      "(0.12062523481381837+0j) [Z0 Z2] (-0.12062523481381837+0j)\n",
      "(0.16592785032250768+0j) [Z1 Z2] (-0.16592785032250768+0j)\n",
      "(0.16592785032250768+0j) [Z0 Z3] (-0.16592785032250768+0j)\n",
      "(0.174412876106516+0j) [Z2 Z3] (0.174412876106516+0j)\n",
      "1 [Z1] (0.17729829109248613+0j) -0.574\n",
      "1 [Z0] (0.17729829109248618+0j) -0.522\n",
      "1 [Z3] (0.22797802215321797+0j) 0.558\n",
      "1 [Z2] (0.22797802215321797+0j) 0.542\n",
      "(0.1686889816869329+0j) [Z0 Z1] (0.1686889816869329+0j)\n",
      "(0.12062523481381837+0j) [Z1 Z3] (-0.12062523481381837+0j)\n",
      "(0.12062523481381837+0j) [Z0 Z2] (-0.12062523481381837+0j)\n",
      "(0.16592785032250768+0j) [Z1 Z2] (-0.16592785032250768+0j)\n",
      "(0.16592785032250768+0j) [Z0 Z3] (-0.16592785032250768+0j)\n",
      "(0.174412876106516+0j) [Z2 Z3] (0.174412876106516+0j)\n",
      "1 [Z1] (0.17729829109248613+0j) -0.308\n",
      "1 [Z0] (0.17729829109248618+0j) -0.39\n",
      "1 [Z3] (0.22797802215321797+0j) 0.356\n",
      "1 [Z2] (0.22797802215321797+0j) 0.312\n",
      "(0.1686889816869329+0j) [Z0 Z1] (0.1686889816869329+0j)\n",
      "(0.12062523481381837+0j) [Z1 Z3] (-0.12062523481381837+0j)\n",
      "(0.12062523481381837+0j) [Z0 Z2] (-0.12062523481381837+0j)\n",
      "(0.16592785032250768+0j) [Z1 Z2] (-0.16592785032250768+0j)\n",
      "(0.16592785032250768+0j) [Z0 Z3] (-0.16592785032250768+0j)\n",
      "(0.174412876106516+0j) [Z2 Z3] (0.174412876106516+0j)\n",
      "1 [Z1] (0.17729829109248613+0j) -0.172\n",
      "1 [Z0] (0.17729829109248618+0j) -0.196\n",
      "1 [Z3] (0.22797802215321797+0j) 0.208\n",
      "1 [Z2] (0.22797802215321797+0j) 0.146\n",
      "(0.1686889816869329+0j) [Z0 Z1] (0.1686889816869329+0j)\n",
      "(0.12062523481381837+0j) [Z1 Z3] (-0.12062523481381837+0j)\n",
      "(0.12062523481381837+0j) [Z0 Z2] (-0.12062523481381837+0j)\n",
      "(0.16592785032250768+0j) [Z1 Z2] (-0.16592785032250768+0j)\n",
      "(0.16592785032250768+0j) [Z0 Z3] (-0.16592785032250768+0j)\n",
      "(0.174412876106516+0j) [Z2 Z3] (0.174412876106516+0j)\n",
      "1 [Z1] (0.17729829109248613+0j) 0.014\n",
      "1 [Z0] (0.17729829109248618+0j) -0.014\n",
      "1 [Z3] (0.22797802215321797+0j) -0.034\n",
      "1 [Z2] (0.22797802215321797+0j) -0.03\n",
      "(0.1686889816869329+0j) [Z0 Z1] (0.1686889816869329+0j)\n",
      "(0.12062523481381837+0j) [Z1 Z3] (-0.12062523481381837+0j)\n",
      "(0.12062523481381837+0j) [Z0 Z2] (-0.12062523481381837+0j)\n",
      "(0.16592785032250768+0j) [Z1 Z2] (-0.16592785032250768+0j)\n",
      "(0.16592785032250768+0j) [Z0 Z3] (-0.16592785032250768+0j)\n",
      "(0.174412876106516+0j) [Z2 Z3] (0.174412876106516+0j)\n",
      "1 [Z1] (0.17729829109248613+0j) 0.184\n",
      "1 [Z0] (0.17729829109248618+0j) 0.184\n",
      "1 [Z3] (0.22797802215321797+0j) -0.22\n",
      "1 [Z2] (0.22797802215321797+0j) -0.258\n",
      "(0.1686889816869329+0j) [Z0 Z1] (0.1686889816869329+0j)\n",
      "(0.12062523481381837+0j) [Z1 Z3] (-0.12062523481381837+0j)\n",
      "(0.12062523481381837+0j) [Z0 Z2] (-0.12062523481381837+0j)\n",
      "(0.16592785032250768+0j) [Z1 Z2] (-0.16592785032250768+0j)\n",
      "(0.16592785032250768+0j) [Z0 Z3] (-0.16592785032250768+0j)\n",
      "(0.174412876106516+0j) [Z2 Z3] (0.174412876106516+0j)\n",
      "1 [Z1] (0.17729829109248613+0j) 0.402\n",
      "1 [Z0] (0.17729829109248618+0j) 0.392\n",
      "1 [Z3] (0.22797802215321797+0j) -0.396\n",
      "1 [Z2] (0.22797802215321797+0j) -0.414\n",
      "(0.1686889816869329+0j) [Z0 Z1] (0.1686889816869329+0j)\n",
      "(0.12062523481381837+0j) [Z1 Z3] (-0.12062523481381837+0j)\n",
      "(0.12062523481381837+0j) [Z0 Z2] (-0.12062523481381837+0j)\n",
      "(0.16592785032250768+0j) [Z1 Z2] (-0.16592785032250768+0j)\n",
      "(0.16592785032250768+0j) [Z0 Z3] (-0.16592785032250768+0j)\n",
      "(0.174412876106516+0j) [Z2 Z3] (0.174412876106516+0j)\n",
      "1 [Z1] (0.17729829109248613+0j) 0.596\n",
      "1 [Z0] (0.17729829109248618+0j) 0.578\n",
      "1 [Z3] (0.22797802215321797+0j) -0.6\n",
      "1 [Z2] (0.22797802215321797+0j) -0.584\n",
      "(0.1686889816869329+0j) [Z0 Z1] (0.1686889816869329+0j)\n",
      "(0.12062523481381837+0j) [Z1 Z3] (-0.12062523481381837+0j)\n",
      "(0.12062523481381837+0j) [Z0 Z2] (-0.12062523481381837+0j)\n",
      "(0.16592785032250768+0j) [Z1 Z2] (-0.16592785032250768+0j)\n",
      "(0.16592785032250768+0j) [Z0 Z3] (-0.16592785032250768+0j)\n",
      "(0.174412876106516+0j) [Z2 Z3] (0.174412876106516+0j)\n",
      "1 [Z1] (0.17729829109248613+0j) 0.718\n",
      "1 [Z0] (0.17729829109248618+0j) 0.71\n",
      "1 [Z3] (0.22797802215321797+0j) -0.722\n",
      "1 [Z2] (0.22797802215321797+0j) -0.734\n",
      "(0.1686889816869329+0j) [Z0 Z1] (0.1686889816869329+0j)\n",
      "(0.12062523481381837+0j) [Z1 Z3] (-0.12062523481381837+0j)\n",
      "(0.12062523481381837+0j) [Z0 Z2] (-0.12062523481381837+0j)\n",
      "(0.16592785032250768+0j) [Z1 Z2] (-0.16592785032250768+0j)\n",
      "(0.16592785032250768+0j) [Z0 Z3] (-0.16592785032250768+0j)\n",
      "(0.174412876106516+0j) [Z2 Z3] (0.174412876106516+0j)\n",
      "1 [Z1] (0.17729829109248613+0j) 0.852\n",
      "1 [Z0] (0.17729829109248618+0j) 0.87\n",
      "1 [Z3] (0.22797802215321797+0j) -0.854\n",
      "1 [Z2] (0.22797802215321797+0j) -0.852\n",
      "(0.1686889816869329+0j) [Z0 Z1] (0.1686889816869329+0j)\n",
      "(0.12062523481381837+0j) [Z1 Z3] (-0.12062523481381837+0j)\n",
      "(0.12062523481381837+0j) [Z0 Z2] (-0.12062523481381837+0j)\n",
      "(0.16592785032250768+0j) [Z1 Z2] (-0.16592785032250768+0j)\n",
      "(0.16592785032250768+0j) [Z0 Z3] (-0.16592785032250768+0j)\n",
      "(0.174412876106516+0j) [Z2 Z3] (0.174412876106516+0j)\n",
      "1 [Z1] (0.17729829109248613+0j) 0.924\n",
      "1 [Z0] (0.17729829109248618+0j) 0.936\n",
      "1 [Z3] (0.22797802215321797+0j) -0.93\n",
      "1 [Z2] (0.22797802215321797+0j) -0.958\n",
      "(0.1686889816869329+0j) [Z0 Z1] (0.1686889816869329+0j)\n",
      "(0.12062523481381837+0j) [Z1 Z3] (-0.12062523481381837+0j)\n",
      "(0.12062523481381837+0j) [Z0 Z2] (-0.12062523481381837+0j)\n",
      "(0.16592785032250768+0j) [Z1 Z2] (-0.16592785032250768+0j)\n",
      "(0.16592785032250768+0j) [Z0 Z3] (-0.16592785032250768+0j)\n",
      "(0.174412876106516+0j) [Z2 Z3] (0.174412876106516+0j)\n",
      "1 [Z1] (0.17729829109248613+0j) 0.986\n",
      "1 [Z0] (0.17729829109248618+0j) 0.996\n",
      "1 [Z3] (0.22797802215321797+0j) -0.99\n",
      "1 [Z2] (0.22797802215321797+0j) -0.986\n",
      "(0.1686889816869329+0j) [Z0 Z1] (0.1686889816869329+0j)\n",
      "(0.12062523481381837+0j) [Z1 Z3] (-0.12062523481381837+0j)\n",
      "(0.12062523481381837+0j) [Z0 Z2] (-0.12062523481381837+0j)\n",
      "(0.16592785032250768+0j) [Z1 Z2] (-0.16592785032250768+0j)\n",
      "(0.16592785032250768+0j) [Z0 Z3] (-0.16592785032250768+0j)\n",
      "(0.174412876106516+0j) [Z2 Z3] (0.174412876106516+0j)\n",
      "1 [Z1] (0.17729829109248613+0j) 1.0\n",
      "1 [Z0] (0.17729829109248618+0j) 1.0\n",
      "1 [Z3] (0.22797802215321797+0j) -1.0\n",
      "1 [Z2] (0.22797802215321797+0j) -1.0\n",
      "(0.1686889816869329+0j) [Z0 Z1] (0.1686889816869329+0j)\n",
      "(0.12062523481381837+0j) [Z1 Z3] (-0.12062523481381837+0j)\n",
      "(0.12062523481381837+0j) [Z0 Z2] (-0.12062523481381837+0j)\n",
      "(0.16592785032250768+0j) [Z1 Z2] (-0.16592785032250768+0j)\n",
      "(0.16592785032250768+0j) [Z0 Z3] (-0.16592785032250768+0j)\n",
      "(0.174412876106516+0j) [Z2 Z3] (0.174412876106516+0j)\n",
      "1 [Z1] (0.17729829109248613+0j) 0.97\n",
      "1 [Z0] (0.17729829109248618+0j) 0.972\n",
      "1 [Z3] (0.22797802215321797+0j) -0.968\n"
     ]
    },
    {
     "name": "stdout",
     "output_type": "stream",
     "text": [
      "1 [Z2] (0.22797802215321797+0j) -0.96\n",
      "(0.1686889816869329+0j) [Z0 Z1] (0.1686889816869329+0j)\n",
      "(0.12062523481381837+0j) [Z1 Z3] (-0.12062523481381837+0j)\n",
      "(0.12062523481381837+0j) [Z0 Z2] (-0.12062523481381837+0j)\n",
      "(0.16592785032250768+0j) [Z1 Z2] (-0.16592785032250768+0j)\n",
      "(0.16592785032250768+0j) [Z0 Z3] (-0.16592785032250768+0j)\n",
      "(0.174412876106516+0j) [Z2 Z3] (0.174412876106516+0j)\n",
      "1 [Z1] (0.17729829109248613+0j) 0.898\n",
      "1 [Z0] (0.17729829109248618+0j) 0.882\n",
      "1 [Z3] (0.22797802215321797+0j) -0.896\n",
      "1 [Z2] (0.22797802215321797+0j) -0.888\n",
      "(0.1686889816869329+0j) [Z0 Z1] (0.1686889816869329+0j)\n",
      "(0.12062523481381837+0j) [Z1 Z3] (-0.12062523481381837+0j)\n",
      "(0.12062523481381837+0j) [Z0 Z2] (-0.12062523481381837+0j)\n",
      "(0.16592785032250768+0j) [Z1 Z2] (-0.16592785032250768+0j)\n",
      "(0.16592785032250768+0j) [Z0 Z3] (-0.16592785032250768+0j)\n",
      "(0.174412876106516+0j) [Z2 Z3] (0.174412876106516+0j)\n",
      "1 [Z1] (0.17729829109248613+0j) 0.788\n",
      "1 [Z0] (0.17729829109248618+0j) 0.794\n",
      "1 [Z3] (0.22797802215321797+0j) -0.818\n",
      "1 [Z2] (0.22797802215321797+0j) -0.784\n",
      "(0.1686889816869329+0j) [Z0 Z1] (0.1686889816869329+0j)\n",
      "(0.12062523481381837+0j) [Z1 Z3] (-0.12062523481381837+0j)\n",
      "(0.12062523481381837+0j) [Z0 Z2] (-0.12062523481381837+0j)\n",
      "(0.16592785032250768+0j) [Z1 Z2] (-0.16592785032250768+0j)\n",
      "(0.16592785032250768+0j) [Z0 Z3] (-0.16592785032250768+0j)\n",
      "(0.174412876106516+0j) [Z2 Z3] (0.174412876106516+0j)\n",
      "1 [Z1] (0.17729829109248613+0j) 0.624\n",
      "1 [Z0] (0.17729829109248618+0j) 0.628\n",
      "1 [Z3] (0.22797802215321797+0j) -0.652\n",
      "1 [Z2] (0.22797802215321797+0j) -0.674\n",
      "(0.1686889816869329+0j) [Z0 Z1] (0.1686889816869329+0j)\n",
      "(0.12062523481381837+0j) [Z1 Z3] (-0.12062523481381837+0j)\n",
      "(0.12062523481381837+0j) [Z0 Z2] (-0.12062523481381837+0j)\n",
      "(0.16592785032250768+0j) [Z1 Z2] (-0.16592785032250768+0j)\n",
      "(0.16592785032250768+0j) [Z0 Z3] (-0.16592785032250768+0j)\n",
      "(0.174412876106516+0j) [Z2 Z3] (0.174412876106516+0j)\n",
      "1 [Z1] (0.17729829109248613+0j) 0.476\n",
      "1 [Z0] (0.17729829109248618+0j) 0.496\n",
      "1 [Z3] (0.22797802215321797+0j) -0.446\n",
      "1 [Z2] (0.22797802215321797+0j) -0.48\n",
      "(0.1686889816869329+0j) [Z0 Z1] (0.1686889816869329+0j)\n",
      "(0.12062523481381837+0j) [Z1 Z3] (-0.12062523481381837+0j)\n",
      "(0.12062523481381837+0j) [Z0 Z2] (-0.12062523481381837+0j)\n",
      "(0.16592785032250768+0j) [Z1 Z2] (-0.16592785032250768+0j)\n",
      "(0.16592785032250768+0j) [Z0 Z3] (-0.16592785032250768+0j)\n",
      "(0.174412876106516+0j) [Z2 Z3] (0.174412876106516+0j)\n",
      "1 [Z1] (0.17729829109248613+0j) 0.288\n",
      "1 [Z0] (0.17729829109248618+0j) 0.374\n",
      "1 [Z3] (0.22797802215321797+0j) -0.264\n",
      "1 [Z2] (0.22797802215321797+0j) -0.288\n",
      "(0.1686889816869329+0j) [Z0 Z1] (0.1686889816869329+0j)\n",
      "(0.12062523481381837+0j) [Z1 Z3] (-0.12062523481381837+0j)\n",
      "(0.12062523481381837+0j) [Z0 Z2] (-0.12062523481381837+0j)\n",
      "(0.16592785032250768+0j) [Z1 Z2] (-0.16592785032250768+0j)\n",
      "(0.16592785032250768+0j) [Z0 Z3] (-0.16592785032250768+0j)\n",
      "(0.174412876106516+0j) [Z2 Z3] (0.174412876106516+0j)\n",
      "1 [Z1] (0.17729829109248613+0j) 0.098\n",
      "1 [Z0] (0.17729829109248618+0j) 0.106\n",
      "1 [Z3] (0.22797802215321797+0j) -0.12\n",
      "1 [Z2] (0.22797802215321797+0j) -0.148\n",
      "(0.1686889816869329+0j) [Z0 Z1] (0.1686889816869329+0j)\n",
      "(0.12062523481381837+0j) [Z1 Z3] (-0.12062523481381837+0j)\n",
      "(0.12062523481381837+0j) [Z0 Z2] (-0.12062523481381837+0j)\n",
      "(0.16592785032250768+0j) [Z1 Z2] (-0.16592785032250768+0j)\n",
      "(0.16592785032250768+0j) [Z0 Z3] (-0.16592785032250768+0j)\n",
      "(0.174412876106516+0j) [Z2 Z3] (0.174412876106516+0j)\n",
      "1 [Z1] (0.17729829109248613+0j) -0.128\n",
      "1 [Z0] (0.17729829109248618+0j) -0.134\n",
      "1 [Z3] (0.22797802215321797+0j) 0.062\n",
      "1 [Z2] (0.22797802215321797+0j) 0.054\n",
      "(0.1686889816869329+0j) [Z0 Z1] (0.1686889816869329+0j)\n",
      "(0.12062523481381837+0j) [Z1 Z3] (-0.12062523481381837+0j)\n",
      "(0.12062523481381837+0j) [Z0 Z2] (-0.12062523481381837+0j)\n",
      "(0.16592785032250768+0j) [Z1 Z2] (-0.16592785032250768+0j)\n",
      "(0.16592785032250768+0j) [Z0 Z3] (-0.16592785032250768+0j)\n",
      "(0.174412876106516+0j) [Z2 Z3] (0.174412876106516+0j)\n",
      "1 [Z1] (0.17729829109248613+0j) -0.284\n",
      "1 [Z0] (0.17729829109248618+0j) -0.292\n",
      "1 [Z3] (0.22797802215321797+0j) 0.272\n",
      "1 [Z2] (0.22797802215321797+0j) 0.282\n",
      "(0.1686889816869329+0j) [Z0 Z1] (0.1686889816869329+0j)\n",
      "(0.12062523481381837+0j) [Z1 Z3] (-0.12062523481381837+0j)\n",
      "(0.12062523481381837+0j) [Z0 Z2] (-0.12062523481381837+0j)\n",
      "(0.16592785032250768+0j) [Z1 Z2] (-0.16592785032250768+0j)\n",
      "(0.16592785032250768+0j) [Z0 Z3] (-0.16592785032250768+0j)\n",
      "(0.174412876106516+0j) [Z2 Z3] (0.174412876106516+0j)\n",
      "1 [Z1] (0.17729829109248613+0j) -0.514\n",
      "1 [Z0] (0.17729829109248618+0j) -0.502\n",
      "1 [Z3] (0.22797802215321797+0j) 0.45\n",
      "1 [Z2] (0.22797802215321797+0j) 0.46\n",
      "(0.1686889816869329+0j) [Z0 Z1] (0.1686889816869329+0j)\n",
      "(0.12062523481381837+0j) [Z1 Z3] (-0.12062523481381837+0j)\n",
      "(0.12062523481381837+0j) [Z0 Z2] (-0.12062523481381837+0j)\n",
      "(0.16592785032250768+0j) [Z1 Z2] (-0.16592785032250768+0j)\n",
      "(0.16592785032250768+0j) [Z0 Z3] (-0.16592785032250768+0j)\n",
      "(0.174412876106516+0j) [Z2 Z3] (0.174412876106516+0j)\n",
      "1 [Z1] (0.17729829109248613+0j) -0.62\n",
      "1 [Z0] (0.17729829109248618+0j) -0.622\n",
      "1 [Z3] (0.22797802215321797+0j) 0.628\n",
      "1 [Z2] (0.22797802215321797+0j) 0.658\n",
      "(0.1686889816869329+0j) [Z0 Z1] (0.1686889816869329+0j)\n",
      "(0.12062523481381837+0j) [Z1 Z3] (-0.12062523481381837+0j)\n",
      "(0.12062523481381837+0j) [Z0 Z2] (-0.12062523481381837+0j)\n",
      "(0.16592785032250768+0j) [Z1 Z2] (-0.16592785032250768+0j)\n",
      "(0.16592785032250768+0j) [Z0 Z3] (-0.16592785032250768+0j)\n",
      "(0.174412876106516+0j) [Z2 Z3] (0.174412876106516+0j)\n",
      "1 [Z1] (0.17729829109248613+0j) -0.762\n",
      "1 [Z0] (0.17729829109248618+0j) -0.772\n",
      "1 [Z3] (0.22797802215321797+0j) 0.754\n",
      "1 [Z2] (0.22797802215321797+0j) 0.76\n",
      "(0.1686889816869329+0j) [Z0 Z1] (0.1686889816869329+0j)\n",
      "(0.12062523481381837+0j) [Z1 Z3] (-0.12062523481381837+0j)\n",
      "(0.12062523481381837+0j) [Z0 Z2] (-0.12062523481381837+0j)\n",
      "(0.16592785032250768+0j) [Z1 Z2] (-0.16592785032250768+0j)\n",
      "(0.16592785032250768+0j) [Z0 Z3] (-0.16592785032250768+0j)\n",
      "(0.174412876106516+0j) [Z2 Z3] (0.174412876106516+0j)\n",
      "1 [Z1] (0.17729829109248613+0j) -0.91\n",
      "1 [Z0] (0.17729829109248618+0j) -0.89\n",
      "1 [Z3] (0.22797802215321797+0j) 0.888\n",
      "1 [Z2] (0.22797802215321797+0j) 0.9\n",
      "(0.1686889816869329+0j) [Z0 Z1] (0.1686889816869329+0j)\n",
      "(0.12062523481381837+0j) [Z1 Z3] (-0.12062523481381837+0j)\n",
      "(0.12062523481381837+0j) [Z0 Z2] (-0.12062523481381837+0j)\n",
      "(0.16592785032250768+0j) [Z1 Z2] (-0.16592785032250768+0j)\n",
      "(0.16592785032250768+0j) [Z0 Z3] (-0.16592785032250768+0j)\n",
      "(0.174412876106516+0j) [Z2 Z3] (0.174412876106516+0j)\n",
      "1 [Z1] (0.17729829109248613+0j) -0.968\n",
      "1 [Z0] (0.17729829109248618+0j) -0.954\n",
      "1 [Z3] (0.22797802215321797+0j) 0.948\n",
      "1 [Z2] (0.22797802215321797+0j) 0.946\n",
      "(0.1686889816869329+0j) [Z0 Z1] (0.1686889816869329+0j)\n",
      "(0.12062523481381837+0j) [Z1 Z3] (-0.12062523481381837+0j)\n",
      "(0.12062523481381837+0j) [Z0 Z2] (-0.12062523481381837+0j)\n",
      "(0.16592785032250768+0j) [Z1 Z2] (-0.16592785032250768+0j)\n",
      "(0.16592785032250768+0j) [Z0 Z3] (-0.16592785032250768+0j)\n",
      "(0.174412876106516+0j) [Z2 Z3] (0.174412876106516+0j)\n",
      "1 [Z1] (0.17729829109248613+0j) -0.996\n",
      "1 [Z0] (0.17729829109248618+0j) -1.0\n",
      "1 [Z3] (0.22797802215321797+0j) 0.998\n",
      "1 [Z2] (0.22797802215321797+0j) 0.992\n",
      "(0.1686889816869329+0j) [Z0 Z1] (0.1686889816869329+0j)\n",
      "(0.12062523481381837+0j) [Z1 Z3] (-0.12062523481381837+0j)\n",
      "(0.12062523481381837+0j) [Z0 Z2] (-0.12062523481381837+0j)\n",
      "(0.16592785032250768+0j) [Z1 Z2] (-0.16592785032250768+0j)\n",
      "(0.16592785032250768+0j) [Z0 Z3] (-0.16592785032250768+0j)\n",
      "(0.174412876106516+0j) [Z2 Z3] (0.174412876106516+0j)\n",
      "1 [Z1] (0.17729829109248613+0j) -0.994\n",
      "1 [Z0] (0.17729829109248618+0j) -0.992\n",
      "1 [Z3] (0.22797802215321797+0j) 0.992\n",
      "1 [Z2] (0.22797802215321797+0j) 0.992\n",
      "(0.1686889816869329+0j) [Z0 Z1] (0.1686889816869329+0j)\n",
      "(0.12062523481381837+0j) [Z1 Z3] (-0.12062523481381837+0j)\n",
      "(0.12062523481381837+0j) [Z0 Z2] (-0.12062523481381837+0j)\n",
      "(0.16592785032250768+0j) [Z1 Z2] (-0.16592785032250768+0j)\n",
      "(0.16592785032250768+0j) [Z0 Z3] (-0.16592785032250768+0j)\n",
      "(0.174412876106516+0j) [Z2 Z3] (0.174412876106516+0j)\n",
      "1 [Z1] (0.17729829109248613+0j) -0.948\n",
      "1 [Z0] (0.17729829109248618+0j) -0.954\n",
      "1 [Z3] (0.22797802215321797+0j) 0.95\n",
      "1 [Z2] (0.22797802215321797+0j) 0.944\n",
      "(0.1686889816869329+0j) [Z0 Z1] (0.1686889816869329+0j)\n",
      "(0.12062523481381837+0j) [Z1 Z3] (-0.12062523481381837+0j)\n",
      "(0.12062523481381837+0j) [Z0 Z2] (-0.12062523481381837+0j)\n",
      "(0.16592785032250768+0j) [Z1 Z2] (-0.16592785032250768+0j)\n",
      "(0.16592785032250768+0j) [Z0 Z3] (-0.16592785032250768+0j)\n",
      "(0.174412876106516+0j) [Z2 Z3] (0.174412876106516+0j)\n",
      "1 [Z1] (0.17729829109248613+0j) -0.872\n",
      "1 [Z0] (0.17729829109248618+0j) -0.848\n",
      "1 [Z3] (0.22797802215321797+0j) 0.862\n",
      "1 [Z2] (0.22797802215321797+0j) 0.868\n",
      "(0.1686889816869329+0j) [Z0 Z1] (0.1686889816869329+0j)\n",
      "(0.12062523481381837+0j) [Z1 Z3] (-0.12062523481381837+0j)\n",
      "(0.12062523481381837+0j) [Z0 Z2] (-0.12062523481381837+0j)\n",
      "(0.16592785032250768+0j) [Z1 Z2] (-0.16592785032250768+0j)\n",
      "(0.16592785032250768+0j) [Z0 Z3] (-0.16592785032250768+0j)\n",
      "(0.174412876106516+0j) [Z2 Z3] (0.174412876106516+0j)\n"
     ]
    },
    {
     "name": "stdout",
     "output_type": "stream",
     "text": [
      "1 [Z1] (0.17729829109248613+0j) -0.77\n",
      "1 [Z0] (0.17729829109248618+0j) -0.766\n",
      "1 [Z3] (0.22797802215321797+0j) 0.748\n",
      "1 [Z2] (0.22797802215321797+0j) 0.736\n",
      "(0.1686889816869329+0j) [Z0 Z1] (0.1686889816869329+0j)\n",
      "(0.12062523481381837+0j) [Z1 Z3] (-0.12062523481381837+0j)\n",
      "(0.12062523481381837+0j) [Z0 Z2] (-0.12062523481381837+0j)\n",
      "(0.16592785032250768+0j) [Z1 Z2] (-0.16592785032250768+0j)\n",
      "(0.16592785032250768+0j) [Z0 Z3] (-0.16592785032250768+0j)\n",
      "(0.174412876106516+0j) [Z2 Z3] (0.174412876106516+0j)\n",
      "1 [Z1] (0.17729829109248613+0j) -0.648\n",
      "1 [Z0] (0.17729829109248618+0j) -0.646\n",
      "1 [Z3] (0.22797802215321797+0j) 0.598\n",
      "1 [Z2] (0.22797802215321797+0j) 0.628\n",
      "(0.1686889816869329+0j) [Z0 Z1] (0.1686889816869329+0j)\n",
      "(0.12062523481381837+0j) [Z1 Z3] (-0.12062523481381837+0j)\n",
      "(0.12062523481381837+0j) [Z0 Z2] (-0.12062523481381837+0j)\n",
      "(0.16592785032250768+0j) [Z1 Z2] (-0.16592785032250768+0j)\n",
      "(0.16592785032250768+0j) [Z0 Z3] (-0.16592785032250768+0j)\n",
      "(0.174412876106516+0j) [Z2 Z3] (0.174412876106516+0j)\n",
      "1 [Z1] (0.17729829109248613+0j) -0.486\n",
      "1 [Z0] (0.17729829109248618+0j) -0.4\n",
      "1 [Z3] (0.22797802215321797+0j) 0.452\n",
      "1 [Z2] (0.22797802215321797+0j) 0.432\n",
      "(0.1686889816869329+0j) [Z0 Z1] (0.1686889816869329+0j)\n",
      "(0.12062523481381837+0j) [Z1 Z3] (-0.12062523481381837+0j)\n",
      "(0.12062523481381837+0j) [Z0 Z2] (-0.12062523481381837+0j)\n",
      "(0.16592785032250768+0j) [Z1 Z2] (-0.16592785032250768+0j)\n",
      "(0.16592785032250768+0j) [Z0 Z3] (-0.16592785032250768+0j)\n",
      "(0.174412876106516+0j) [Z2 Z3] (0.174412876106516+0j)\n",
      "1 [Z1] (0.17729829109248613+0j) -0.28\n",
      "1 [Z0] (0.17729829109248618+0j) -0.256\n",
      "1 [Z3] (0.22797802215321797+0j) 0.202\n",
      "1 [Z2] (0.22797802215321797+0j) 0.288\n",
      "(0.1686889816869329+0j) [Z0 Z1] (0.1686889816869329+0j)\n",
      "(0.12062523481381837+0j) [Z1 Z3] (-0.12062523481381837+0j)\n",
      "(0.12062523481381837+0j) [Z0 Z2] (-0.12062523481381837+0j)\n",
      "(0.16592785032250768+0j) [Z1 Z2] (-0.16592785032250768+0j)\n",
      "(0.16592785032250768+0j) [Z0 Z3] (-0.16592785032250768+0j)\n",
      "(0.174412876106516+0j) [Z2 Z3] (0.174412876106516+0j)\n",
      "1 [Z1] (0.17729829109248613+0j) -0.028\n",
      "1 [Z0] (0.17729829109248618+0j) -0.04\n",
      "1 [Z3] (0.22797802215321797+0j) 0.036\n",
      "1 [Z2] (0.22797802215321797+0j) 0.056\n",
      "(0.1686889816869329+0j) [Z0 Z1] (0.1686889816869329+0j)\n",
      "(0.12062523481381837+0j) [Z1 Z3] (-0.12062523481381837+0j)\n",
      "(0.12062523481381837+0j) [Z0 Z2] (-0.12062523481381837+0j)\n",
      "(0.16592785032250768+0j) [Z1 Z2] (-0.16592785032250768+0j)\n",
      "(0.16592785032250768+0j) [Z0 Z3] (-0.16592785032250768+0j)\n",
      "(0.174412876106516+0j) [Z2 Z3] (0.174412876106516+0j)\n",
      "1 [Z1] (0.17729829109248613+0j) 0.14\n",
      "1 [Z0] (0.17729829109248618+0j) 0.16\n",
      "1 [Z3] (0.22797802215321797+0j) -0.11\n",
      "1 [Z2] (0.22797802215321797+0j) -0.156\n",
      "(0.1686889816869329+0j) [Z0 Z1] (0.1686889816869329+0j)\n",
      "(0.12062523481381837+0j) [Z1 Z3] (-0.12062523481381837+0j)\n",
      "(0.12062523481381837+0j) [Z0 Z2] (-0.12062523481381837+0j)\n",
      "(0.16592785032250768+0j) [Z1 Z2] (-0.16592785032250768+0j)\n",
      "(0.16592785032250768+0j) [Z0 Z3] (-0.16592785032250768+0j)\n",
      "(0.174412876106516+0j) [Z2 Z3] (0.174412876106516+0j)\n",
      "1 [Z1] (0.17729829109248613+0j) 0.314\n",
      "1 [Z0] (0.17729829109248618+0j) 0.374\n",
      "1 [Z3] (0.22797802215321797+0j) -0.344\n",
      "1 [Z2] (0.22797802215321797+0j) -0.354\n",
      "(0.1686889816869329+0j) [Z0 Z1] (0.1686889816869329+0j)\n",
      "(0.12062523481381837+0j) [Z1 Z3] (-0.12062523481381837+0j)\n",
      "(0.12062523481381837+0j) [Z0 Z2] (-0.12062523481381837+0j)\n",
      "(0.16592785032250768+0j) [Z1 Z2] (-0.16592785032250768+0j)\n",
      "(0.16592785032250768+0j) [Z0 Z3] (-0.16592785032250768+0j)\n",
      "(0.174412876106516+0j) [Z2 Z3] (0.174412876106516+0j)\n",
      "1 [Z1] (0.17729829109248613+0j) 0.454\n",
      "1 [Z0] (0.17729829109248618+0j) 0.542\n",
      "1 [Z3] (0.22797802215321797+0j) -0.536\n",
      "1 [Z2] (0.22797802215321797+0j) -0.53\n",
      "(0.1686889816869329+0j) [Z0 Z1] (0.1686889816869329+0j)\n",
      "(0.12062523481381837+0j) [Z1 Z3] (-0.12062523481381837+0j)\n",
      "(0.12062523481381837+0j) [Z0 Z2] (-0.12062523481381837+0j)\n",
      "(0.16592785032250768+0j) [Z1 Z2] (-0.16592785032250768+0j)\n",
      "(0.16592785032250768+0j) [Z0 Z3] (-0.16592785032250768+0j)\n",
      "(0.174412876106516+0j) [Z2 Z3] (0.174412876106516+0j)\n",
      "1 [Z1] (0.17729829109248613+0j) 0.682\n",
      "1 [Z0] (0.17729829109248618+0j) 0.682\n",
      "1 [Z3] (0.22797802215321797+0j) -0.65\n",
      "1 [Z2] (0.22797802215321797+0j) -0.624\n",
      "(0.1686889816869329+0j) [Z0 Z1] (0.1686889816869329+0j)\n",
      "(0.12062523481381837+0j) [Z1 Z3] (-0.12062523481381837+0j)\n",
      "(0.12062523481381837+0j) [Z0 Z2] (-0.12062523481381837+0j)\n",
      "(0.16592785032250768+0j) [Z1 Z2] (-0.16592785032250768+0j)\n",
      "(0.16592785032250768+0j) [Z0 Z3] (-0.16592785032250768+0j)\n",
      "(0.174412876106516+0j) [Z2 Z3] (0.174412876106516+0j)\n",
      "1 [Z1] (0.17729829109248613+0j) 0.804\n",
      "1 [Z0] (0.17729829109248618+0j) 0.818\n",
      "1 [Z3] (0.22797802215321797+0j) -0.812\n",
      "1 [Z2] (0.22797802215321797+0j) -0.798\n",
      "(0.1686889816869329+0j) [Z0 Z1] (0.1686889816869329+0j)\n",
      "(0.12062523481381837+0j) [Z1 Z3] (-0.12062523481381837+0j)\n",
      "(0.12062523481381837+0j) [Z0 Z2] (-0.12062523481381837+0j)\n",
      "(0.16592785032250768+0j) [Z1 Z2] (-0.16592785032250768+0j)\n",
      "(0.16592785032250768+0j) [Z0 Z3] (-0.16592785032250768+0j)\n",
      "(0.174412876106516+0j) [Z2 Z3] (0.174412876106516+0j)\n",
      "1 [Z1] (0.17729829109248613+0j) 0.92\n",
      "1 [Z0] (0.17729829109248618+0j) 0.908\n",
      "1 [Z3] (0.22797802215321797+0j) -0.926\n",
      "1 [Z2] (0.22797802215321797+0j) -0.912\n",
      "(0.1686889816869329+0j) [Z0 Z1] (0.1686889816869329+0j)\n",
      "(0.12062523481381837+0j) [Z1 Z3] (-0.12062523481381837+0j)\n",
      "(0.12062523481381837+0j) [Z0 Z2] (-0.12062523481381837+0j)\n",
      "(0.16592785032250768+0j) [Z1 Z2] (-0.16592785032250768+0j)\n",
      "(0.16592785032250768+0j) [Z0 Z3] (-0.16592785032250768+0j)\n",
      "(0.174412876106516+0j) [Z2 Z3] (0.174412876106516+0j)\n",
      "1 [Z1] (0.17729829109248613+0j) 0.962\n",
      "1 [Z0] (0.17729829109248618+0j) 0.99\n",
      "1 [Z3] (0.22797802215321797+0j) -0.974\n",
      "1 [Z2] (0.22797802215321797+0j) -0.98\n",
      "(0.1686889816869329+0j) [Z0 Z1] (0.1686889816869329+0j)\n",
      "(0.12062523481381837+0j) [Z1 Z3] (-0.12062523481381837+0j)\n",
      "(0.12062523481381837+0j) [Z0 Z2] (-0.12062523481381837+0j)\n",
      "(0.16592785032250768+0j) [Z1 Z2] (-0.16592785032250768+0j)\n",
      "(0.16592785032250768+0j) [Z0 Z3] (-0.16592785032250768+0j)\n",
      "(0.174412876106516+0j) [Z2 Z3] (0.174412876106516+0j)\n",
      "1 [Z1] (0.17729829109248613+0j) 1.0\n",
      "1 [Z0] (0.17729829109248618+0j) 0.998\n",
      "1 [Z3] (0.22797802215321797+0j) -0.996\n",
      "1 [Z2] (0.22797802215321797+0j) -1.0\n",
      "(0.1686889816869329+0j) [Z0 Z1] (0.1686889816869329+0j)\n",
      "(0.12062523481381837+0j) [Z1 Z3] (-0.12062523481381837+0j)\n",
      "(0.12062523481381837+0j) [Z0 Z2] (-0.12062523481381837+0j)\n",
      "(0.16592785032250768+0j) [Z1 Z2] (-0.16592785032250768+0j)\n",
      "(0.16592785032250768+0j) [Z0 Z3] (-0.16592785032250768+0j)\n",
      "(0.174412876106516+0j) [Z2 Z3] (0.174412876106516+0j)\n",
      "1 [Z1] (0.17729829109248613+0j) 0.98\n",
      "1 [Z0] (0.17729829109248618+0j) 0.986\n",
      "1 [Z3] (0.22797802215321797+0j) -0.982\n",
      "1 [Z2] (0.22797802215321797+0j) -0.972\n",
      "(0.1686889816869329+0j) [Z0 Z1] (0.1686889816869329+0j)\n",
      "(0.12062523481381837+0j) [Z1 Z3] (-0.12062523481381837+0j)\n",
      "(0.12062523481381837+0j) [Z0 Z2] (-0.12062523481381837+0j)\n",
      "(0.16592785032250768+0j) [Z1 Z2] (-0.16592785032250768+0j)\n",
      "(0.16592785032250768+0j) [Z0 Z3] (-0.16592785032250768+0j)\n",
      "(0.174412876106516+0j) [Z2 Z3] (0.174412876106516+0j)\n",
      "1 [Z1] (0.17729829109248613+0j) 0.926\n",
      "1 [Z0] (0.17729829109248618+0j) 0.914\n",
      "1 [Z3] (0.22797802215321797+0j) -0.944\n",
      "1 [Z2] (0.22797802215321797+0j) -0.924\n",
      "(0.1686889816869329+0j) [Z0 Z1] (0.1686889816869329+0j)\n",
      "(0.12062523481381837+0j) [Z1 Z3] (-0.12062523481381837+0j)\n",
      "(0.12062523481381837+0j) [Z0 Z2] (-0.12062523481381837+0j)\n",
      "(0.16592785032250768+0j) [Z1 Z2] (-0.16592785032250768+0j)\n",
      "(0.16592785032250768+0j) [Z0 Z3] (-0.16592785032250768+0j)\n",
      "(0.174412876106516+0j) [Z2 Z3] (0.174412876106516+0j)\n",
      "1 [Z1] (0.17729829109248613+0j) 0.826\n",
      "1 [Z0] (0.17729829109248618+0j) 0.828\n",
      "1 [Z3] (0.22797802215321797+0j) -0.818\n",
      "1 [Z2] (0.22797802215321797+0j) -0.84\n",
      "(0.1686889816869329+0j) [Z0 Z1] (0.1686889816869329+0j)\n",
      "(0.12062523481381837+0j) [Z1 Z3] (-0.12062523481381837+0j)\n",
      "(0.12062523481381837+0j) [Z0 Z2] (-0.12062523481381837+0j)\n",
      "(0.16592785032250768+0j) [Z1 Z2] (-0.16592785032250768+0j)\n",
      "(0.16592785032250768+0j) [Z0 Z3] (-0.16592785032250768+0j)\n",
      "(0.174412876106516+0j) [Z2 Z3] (0.174412876106516+0j)\n",
      "1 [Z1] (0.17729829109248613+0j) 0.724\n",
      "1 [Z0] (0.17729829109248618+0j) 0.696\n",
      "1 [Z3] (0.22797802215321797+0j) -0.732\n",
      "1 [Z2] (0.22797802215321797+0j) -0.706\n",
      "(0.1686889816869329+0j) [Z0 Z1] (0.1686889816869329+0j)\n",
      "(0.12062523481381837+0j) [Z1 Z3] (-0.12062523481381837+0j)\n",
      "(0.12062523481381837+0j) [Z0 Z2] (-0.12062523481381837+0j)\n",
      "(0.16592785032250768+0j) [Z1 Z2] (-0.16592785032250768+0j)\n",
      "(0.16592785032250768+0j) [Z0 Z3] (-0.16592785032250768+0j)\n",
      "(0.174412876106516+0j) [Z2 Z3] (0.174412876106516+0j)\n",
      "1 [Z1] (0.17729829109248613+0j) 0.59\n",
      "1 [Z0] (0.17729829109248618+0j) 0.516\n",
      "1 [Z3] (0.22797802215321797+0j) -0.612\n",
      "1 [Z2] (0.22797802215321797+0j) -0.568\n",
      "(0.1686889816869329+0j) [Z0 Z1] (0.1686889816869329+0j)\n",
      "(0.12062523481381837+0j) [Z1 Z3] (-0.12062523481381837+0j)\n",
      "(0.12062523481381837+0j) [Z0 Z2] (-0.12062523481381837+0j)\n",
      "(0.16592785032250768+0j) [Z1 Z2] (-0.16592785032250768+0j)\n",
      "(0.16592785032250768+0j) [Z0 Z3] (-0.16592785032250768+0j)\n",
      "(0.174412876106516+0j) [Z2 Z3] (0.174412876106516+0j)\n"
     ]
    },
    {
     "name": "stdout",
     "output_type": "stream",
     "text": [
      "1 [Z1] (0.17729829109248613+0j) 0.368\n",
      "1 [Z0] (0.17729829109248618+0j) 0.444\n",
      "1 [Z3] (0.22797802215321797+0j) -0.374\n",
      "1 [Z2] (0.22797802215321797+0j) -0.338\n",
      "(0.1686889816869329+0j) [Z0 Z1] (0.1686889816869329+0j)\n",
      "(0.12062523481381837+0j) [Z1 Z3] (-0.12062523481381837+0j)\n",
      "(0.12062523481381837+0j) [Z0 Z2] (-0.12062523481381837+0j)\n",
      "(0.16592785032250768+0j) [Z1 Z2] (-0.16592785032250768+0j)\n",
      "(0.16592785032250768+0j) [Z0 Z3] (-0.16592785032250768+0j)\n",
      "(0.174412876106516+0j) [Z2 Z3] (0.174412876106516+0j)\n",
      "1 [Z1] (0.17729829109248613+0j) 0.224\n",
      "1 [Z0] (0.17729829109248618+0j) 0.204\n",
      "1 [Z3] (0.22797802215321797+0j) -0.21\n",
      "1 [Z2] (0.22797802215321797+0j) -0.228\n",
      "(0.1686889816869329+0j) [Z0 Z1] (0.1686889816869329+0j)\n",
      "(0.12062523481381837+0j) [Z1 Z3] (-0.12062523481381837+0j)\n",
      "(0.12062523481381837+0j) [Z0 Z2] (-0.12062523481381837+0j)\n",
      "(0.16592785032250768+0j) [Z1 Z2] (-0.16592785032250768+0j)\n",
      "(0.16592785032250768+0j) [Z0 Z3] (-0.16592785032250768+0j)\n",
      "(0.174412876106516+0j) [Z2 Z3] (0.174412876106516+0j)\n",
      "1 [Z1] (0.17729829109248613+0j) -0.074\n",
      "1 [Z0] (0.17729829109248618+0j) -0.024\n",
      "1 [Z3] (0.22797802215321797+0j) -0.02\n",
      "1 [Z2] (0.22797802215321797+0j) -0.01\n",
      "(0.1686889816869329+0j) [Z0 Z1] (0.1686889816869329+0j)\n",
      "(0.12062523481381837+0j) [Z1 Z3] (-0.12062523481381837+0j)\n",
      "(0.12062523481381837+0j) [Z0 Z2] (-0.12062523481381837+0j)\n",
      "(0.16592785032250768+0j) [Z1 Z2] (-0.16592785032250768+0j)\n",
      "(0.16592785032250768+0j) [Z0 Z3] (-0.16592785032250768+0j)\n",
      "(0.174412876106516+0j) [Z2 Z3] (0.174412876106516+0j)\n",
      "1 [Z1] (0.17729829109248613+0j) -0.234\n",
      "1 [Z0] (0.17729829109248618+0j) -0.174\n",
      "1 [Z3] (0.22797802215321797+0j) 0.212\n",
      "1 [Z2] (0.22797802215321797+0j) 0.208\n",
      "(0.1686889816869329+0j) [Z0 Z1] (0.1686889816869329+0j)\n",
      "(0.12062523481381837+0j) [Z1 Z3] (-0.12062523481381837+0j)\n",
      "(0.12062523481381837+0j) [Z0 Z2] (-0.12062523481381837+0j)\n",
      "(0.16592785032250768+0j) [Z1 Z2] (-0.16592785032250768+0j)\n",
      "(0.16592785032250768+0j) [Z0 Z3] (-0.16592785032250768+0j)\n",
      "(0.174412876106516+0j) [Z2 Z3] (0.174412876106516+0j)\n",
      "1 [Z1] (0.17729829109248613+0j) -0.324\n",
      "1 [Z0] (0.17729829109248618+0j) -0.376\n",
      "1 [Z3] (0.22797802215321797+0j) 0.318\n",
      "1 [Z2] (0.22797802215321797+0j) 0.37\n",
      "(0.1686889816869329+0j) [Z0 Z1] (0.1686889816869329+0j)\n",
      "(0.12062523481381837+0j) [Z1 Z3] (-0.12062523481381837+0j)\n",
      "(0.12062523481381837+0j) [Z0 Z2] (-0.12062523481381837+0j)\n",
      "(0.16592785032250768+0j) [Z1 Z2] (-0.16592785032250768+0j)\n",
      "(0.16592785032250768+0j) [Z0 Z3] (-0.16592785032250768+0j)\n",
      "(0.174412876106516+0j) [Z2 Z3] (0.174412876106516+0j)\n",
      "1 [Z1] (0.17729829109248613+0j) -0.578\n",
      "1 [Z0] (0.17729829109248618+0j) -0.584\n",
      "1 [Z3] (0.22797802215321797+0j) 0.566\n",
      "1 [Z2] (0.22797802215321797+0j) 0.578\n",
      "(0.1686889816869329+0j) [Z0 Z1] (0.1686889816869329+0j)\n",
      "(0.12062523481381837+0j) [Z1 Z3] (-0.12062523481381837+0j)\n",
      "(0.12062523481381837+0j) [Z0 Z2] (-0.12062523481381837+0j)\n",
      "(0.16592785032250768+0j) [Z1 Z2] (-0.16592785032250768+0j)\n",
      "(0.16592785032250768+0j) [Z0 Z3] (-0.16592785032250768+0j)\n",
      "(0.174412876106516+0j) [Z2 Z3] (0.174412876106516+0j)\n",
      "1 [Z1] (0.17729829109248613+0j) -0.73\n",
      "1 [Z0] (0.17729829109248618+0j) -0.742\n",
      "1 [Z3] (0.22797802215321797+0j) 0.736\n",
      "1 [Z2] (0.22797802215321797+0j) 0.712\n",
      "(0.1686889816869329+0j) [Z0 Z1] (0.1686889816869329+0j)\n",
      "(0.12062523481381837+0j) [Z1 Z3] (-0.12062523481381837+0j)\n",
      "(0.12062523481381837+0j) [Z0 Z2] (-0.12062523481381837+0j)\n",
      "(0.16592785032250768+0j) [Z1 Z2] (-0.16592785032250768+0j)\n",
      "(0.16592785032250768+0j) [Z0 Z3] (-0.16592785032250768+0j)\n",
      "(0.174412876106516+0j) [Z2 Z3] (0.174412876106516+0j)\n",
      "1 [Z1] (0.17729829109248613+0j) -0.856\n",
      "1 [Z0] (0.17729829109248618+0j) -0.846\n",
      "1 [Z3] (0.22797802215321797+0j) 0.868\n",
      "1 [Z2] (0.22797802215321797+0j) 0.884\n",
      "(0.1686889816869329+0j) [Z0 Z1] (0.1686889816869329+0j)\n",
      "(0.12062523481381837+0j) [Z1 Z3] (-0.12062523481381837+0j)\n",
      "(0.12062523481381837+0j) [Z0 Z2] (-0.12062523481381837+0j)\n",
      "(0.16592785032250768+0j) [Z1 Z2] (-0.16592785032250768+0j)\n",
      "(0.16592785032250768+0j) [Z0 Z3] (-0.16592785032250768+0j)\n",
      "(0.174412876106516+0j) [Z2 Z3] (0.174412876106516+0j)\n",
      "1 [Z1] (0.17729829109248613+0j) -0.942\n",
      "1 [Z0] (0.17729829109248618+0j) -0.948\n",
      "1 [Z3] (0.22797802215321797+0j) 0.946\n",
      "1 [Z2] (0.22797802215321797+0j) 0.926\n",
      "(0.1686889816869329+0j) [Z0 Z1] (0.1686889816869329+0j)\n",
      "(0.12062523481381837+0j) [Z1 Z3] (-0.12062523481381837+0j)\n",
      "(0.12062523481381837+0j) [Z0 Z2] (-0.12062523481381837+0j)\n",
      "(0.16592785032250768+0j) [Z1 Z2] (-0.16592785032250768+0j)\n",
      "(0.16592785032250768+0j) [Z0 Z3] (-0.16592785032250768+0j)\n",
      "(0.174412876106516+0j) [Z2 Z3] (0.174412876106516+0j)\n",
      "1 [Z1] (0.17729829109248613+0j) -0.984\n",
      "1 [Z0] (0.17729829109248618+0j) -0.988\n",
      "1 [Z3] (0.22797802215321797+0j) 0.984\n",
      "1 [Z2] (0.22797802215321797+0j) 0.984\n",
      "(-0.42843004321829303+0j)\n"
     ]
    },
    {
     "name": "stderr",
     "output_type": "stream",
     "text": [
      "/home/lex/anaconda3/envs/QuantumUpdated/lib/python3.7/site-packages/numpy/core/_asarray.py:85: ComplexWarning: Casting complex values to real discards the imaginary part\n",
      "  return array(a, dtype, copy=False, order=order)\n"
     ]
    },
    {
     "data": {
      "image/png": "[encoded data removed]",
      "text/plain": [
       "<Figure size 432x288 with 1 Axes>"
      ]
     },
     "metadata": {
      "needs_background": "light"
     },
     "output_type": "display_data"
    }
   ],
   "source": [
    "### full angle scan\n",
    "import matplotlib.pyplot as plt\n",
    "%matplotlib inline\n",
    "\n",
    "theta_list = np.arange(0,2*np.pi, 0.1)\n",
    "\n",
    "E_list = [GIVE_ENERGY(theta) for theta in theta_list]\n",
    "\n",
    "plt.plot(E_list)\n",
    "print(min(E_list))"
   ]
  },
  {
   "cell_type": "code",
   "execution_count": 89,
   "metadata": {},
   "outputs": [
    {
     "data": {
      "text/plain": [
       "array(-1.13728383)"
      ]
     },
     "execution_count": 89,
     "metadata": {},
     "output_type": "execute_result"
    }
   ],
   "source": [
    "Hamilt.molecule.fci_energy"
   ]
  }
 ],
 "metadata": {
  "kernelspec": {
   "display_name": "Python 3",
   "language": "python",
   "name": "python3"
  },
  "language_info": {
   "codemirror_mode": {
    "name": "ipython",
    "version": 3
   },
   "file_extension": ".py",
   "mimetype": "text/x-python",
   "name": "python",
   "nbconvert_exporter": "python",
   "pygments_lexer": "ipython3",
   "version": "3.7.6"
  }
 },
 "nbformat": 4,
 "nbformat_minor": 4
}
