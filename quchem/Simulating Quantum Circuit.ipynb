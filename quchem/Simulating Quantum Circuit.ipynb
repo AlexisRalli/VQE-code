{
 "cells": [
  {
   "cell_type": "code",
   "execution_count": 1,
   "metadata": {},
   "outputs": [
    {
     "name": "stdout",
     "output_type": "stream",
     "text": [
      "0: ───X──────────H──────────@───────────────────────────────────────X───────────H───────────H───M───\n",
      "                            │                                       │                           │\n",
      "1: ───X──────────Rx(0.5π)───X───@───────────────────────X───────────@───────────Rx(-0.5π)───H───M───\n",
      "                                │                       │                                       │\n",
      "2: ─────────────────────────────X───@───────────────X───@───────────────────────────────────────┼───\n",
      "                                    │               │                                           │\n",
      "3: ───Rx(0.5π)──────────────────────X───Rz(-0.5π)───@───Rx(-0.5π)───Rx(-0.5π)───────────────────M───\n"
     ]
    }
   ],
   "source": [
    "from quchem.Simulating_Quantum_Circuit import *\n",
    "from quchem.Ansatz_Generator_Functions import *\n",
    "from openfermion.ops import QubitOperator\n",
    "HF_circ = [cirq.X.on(cirq.LineQubit(0)), cirq.X.on(cirq.LineQubit(1))]\n",
    "x = QubitOperator('X0 Y1 Z2 Y3', 0.25j)\n",
    "theta = np.pi\n",
    "full_exp_circ_obj = full_exponentiated_PauliWord_circuit(x, theta)\n",
    "UCCSD_circ = cirq.Circuit(cirq.decompose_once((full_exp_circ_obj(*cirq.LineQubit.range(full_exp_circ_obj.num_qubits())))))\n",
    "YY = QubitOperator('X0 X1 Y3', 0.25j)\n",
    "pauliword_change_and_measure_obj = change_pauliword_to_Z_basis_then_measure(YY)\n",
    "P_measure = cirq.Circuit(cirq.decompose_once((pauliword_change_and_measure_obj(*cirq.LineQubit.range(pauliword_change_and_measure_obj.num_qubits())))))\n",
    "\n",
    "full_circuit = cirq.Circuit([*HF_circ, *UCCSD_circ.all_operations(), *P_measure.all_operations()])\n",
    "print(full_circuit)"
   ]
  },
  {
   "cell_type": "markdown",
   "metadata": {},
   "source": [
    "## Get_Histogram_key"
   ]
  },
  {
   "cell_type": "code",
   "execution_count": 2,
   "metadata": {},
   "outputs": [
    {
     "data": {
      "text/plain": [
       "'0,1,3'"
      ]
     },
     "execution_count": 2,
     "metadata": {},
     "output_type": "execute_result"
    }
   ],
   "source": [
    "YY = QubitOperator('X0 X1 Y3', 0.25j)\n",
    "Get_Histogram_key(YY)"
   ]
  },
  {
   "cell_type": "code",
   "execution_count": null,
   "metadata": {},
   "outputs": [],
   "source": []
  },
  {
   "cell_type": "markdown",
   "metadata": {},
   "source": [
    "## Simulate_Quantum_Circuit"
   ]
  },
  {
   "cell_type": "code",
   "execution_count": 3,
   "metadata": {},
   "outputs": [
    {
     "data": {
      "text/plain": [
       "Counter({7: 140, 1: 153, 5: 113, 2: 135, 4: 114, 0: 102, 3: 122, 6: 121})"
      ]
     },
     "execution_count": 3,
     "metadata": {},
     "output_type": "execute_result"
    }
   ],
   "source": [
    "num_shots = 1000\n",
    "YY = QubitOperator('X0 X1 Y3', 0.25j)\n",
    "\n",
    "histogram_string= Get_Histogram_key(YY)\n",
    "Simulate_Quantum_Circuit(full_circuit, num_shots, histogram_string)"
   ]
  },
  {
   "cell_type": "markdown",
   "metadata": {},
   "source": [
    "## Get_wavefunction"
   ]
  },
  {
   "cell_type": "code",
   "execution_count": 4,
   "metadata": {},
   "outputs": [],
   "source": [
    "def Get_wavefunction(quantum_circuit, sig_figs=3):\n",
    "    \"\"\"\n",
    "     Function to simulate quantum circuit and wavefunction\n",
    "\n",
    "    \"\"\"\n",
    "    quantum_circuit_M_gates_removed = quantum_circuit.moments[\n",
    "                                      :-1]  # removes last moment (aka measurement step - which collapses wavefunction)\n",
    "    quantum_circuit_new = cirq.Circuit(quantum_circuit_M_gates_removed)\n",
    "    simulator = cirq.Simulator()\n",
    "    result = simulator.simulate(quantum_circuit_new, qubit_order=quantum_circuit_new.all_qubits())\n",
    "    print(np.around(result.final_state, sig_figs))\n",
    "    return result.final_state"
   ]
  },
  {
   "cell_type": "code",
   "execution_count": 5,
   "metadata": {},
   "outputs": [
    {
     "name": "stdout",
     "output_type": "stream",
     "text": [
      "[-0.25+0.j    0.  +0.25j  0.  -0.25j  0.25+0.j   -0.25+0.j    0.  +0.25j\n",
      "  0.  -0.25j  0.25+0.j    0.  +0.25j  0.25+0.j   -0.25+0.j    0.  -0.25j\n",
      "  0.  -0.25j -0.25+0.j    0.25+0.j    0.  +0.25j]\n"
     ]
    },
    {
     "data": {
      "text/plain": [
       "array([-0.24999997+0.j        ,  0.        +0.24999997j,\n",
       "        0.        -0.24999997j,  0.24999997+0.j        ,\n",
       "       -0.24999997+0.j        ,  0.        +0.24999997j,\n",
       "        0.        -0.24999997j,  0.24999997+0.j        ,\n",
       "        0.        +0.24999997j,  0.24999997+0.j        ,\n",
       "       -0.24999997+0.j        ,  0.        -0.24999997j,\n",
       "        0.        -0.24999997j, -0.24999997+0.j        ,\n",
       "        0.24999997+0.j        ,  0.        +0.24999997j], dtype=complex64)"
      ]
     },
     "execution_count": 5,
     "metadata": {},
     "output_type": "execute_result"
    }
   ],
   "source": [
    "YY = QubitOperator('X0 X1 Y3', 0.25j)\n",
    "\n",
    "histogram_string= Get_Histogram_key(YY)\n",
    "Get_wavefunction(full_circuit, sig_figs=3)"
   ]
  },
  {
   "cell_type": "markdown",
   "metadata": {},
   "source": [
    "## Return_as_binary"
   ]
  },
  {
   "cell_type": "code",
   "execution_count": 6,
   "metadata": {},
   "outputs": [
    {
     "data": {
      "text/plain": [
       "{'110': 124,\n",
       " '010': 132,\n",
       " '000': 124,\n",
       " '101': 116,\n",
       " '100': 126,\n",
       " '001': 127,\n",
       " '111': 134,\n",
       " '011': 117}"
      ]
     },
     "execution_count": 6,
     "metadata": {},
     "output_type": "execute_result"
    }
   ],
   "source": [
    "num_shots = 1000\n",
    "YY = QubitOperator('X0 X1 Y3', 0.25j)\n",
    "\n",
    "histogram_string= Get_Histogram_key(YY)\n",
    "c_result = Simulate_Quantum_Circuit(full_circuit, num_shots, histogram_string)\n",
    "Return_as_binary(c_result, histogram_string)"
   ]
  },
  {
   "cell_type": "code",
   "execution_count": null,
   "metadata": {},
   "outputs": [],
   "source": []
  },
  {
   "cell_type": "markdown",
   "metadata": {},
   "source": [
    "## expectation_value_by_parity"
   ]
  },
  {
   "cell_type": "code",
   "execution_count": 7,
   "metadata": {},
   "outputs": [
    {
     "data": {
      "text/plain": [
       "0.0068"
      ]
     },
     "execution_count": 7,
     "metadata": {},
     "output_type": "execute_result"
    }
   ],
   "source": [
    "num_shots = 10000\n",
    "YY = QubitOperator('X0 X1 Y3', 0.25j)\n",
    "\n",
    "histogram_string= Get_Histogram_key(YY)\n",
    "c_result = Simulate_Quantum_Circuit(full_circuit, num_shots, histogram_string)\n",
    "b_result = Return_as_binary(c_result, histogram_string)\n",
    "\n",
    "expectation_value_by_parity(b_result)"
   ]
  },
  {
   "cell_type": "code",
   "execution_count": null,
   "metadata": {},
   "outputs": [],
   "source": []
  },
  {
   "cell_type": "code",
   "execution_count": null,
   "metadata": {},
   "outputs": [],
   "source": []
  },
  {
   "cell_type": "code",
   "execution_count": 28,
   "metadata": {},
   "outputs": [],
   "source": [
    "## wrong method!\n",
    "\n",
    "# def expectation_value_by_parity(binary_counter_result):\n",
    "#     \"\"\"\n",
    "\n",
    "#     < Z >  = (num_0 - num_1) / total_num_measurements = (num_0 - num_1) / (num_0 + num_1)\n",
    "\n",
    "#     note that for multiple qubits one multiplies <Z> on each line. Therefore can calculate value from parity\n",
    "#     of output bit string\n",
    "\n",
    "#     :param binary_counter_result:\n",
    "#     :type binary_counter_result: dict\n",
    "#     e.g.\n",
    "#         {\n",
    "#             1: {'11': 10000},\n",
    "#             2: {'10': 9998, '01': 2},\n",
    "#             3: {'10': 10000},\n",
    "#             4: {'10': 10000},\n",
    "#             5: {'10': 10000},\n",
    "#             6: {'00': 9995, '01': 4, '10': 1},\n",
    "#             7: {'1': 9334, '0': 666},\n",
    "#             8: {'1': 9351, '0': 649},\n",
    "#             9: {'0': 9606, '1': 394},\n",
    "#             10: {'0': 9594, '1': 406}\n",
    "#         }\n",
    "\n",
    "#     :return: expectation value <Z>\n",
    "#     :rtype: float\n",
    "#     \"\"\"\n",
    "#     n_0 =0\n",
    "#     n_1 =0\n",
    "#     for state in binary_counter_result:\n",
    "#         for bit in state:\n",
    "#             if int(bit) == 0:\n",
    "#                 n_0 += binary_counter_result[state]\n",
    "#             elif int(bit) == 1:\n",
    "#                 n_1 += binary_counter_result[state]\n",
    "#             else:\n",
    "#                 raise ValueError('{} is not a bit'.format(bit))\n",
    "            \n",
    "#     expectation_value = (n_0-n_1) / (n_0+n_1)\n",
    "#     return expectation_value"
   ]
  },
  {
   "cell_type": "code",
   "execution_count": 35,
   "metadata": {},
   "outputs": [],
   "source": [
    "class VQE_Experiment():\n",
    "    def __init__(self, qubitHamiltonian, ansatz_circuit, n_shots):\n",
    "        self.qubitHamiltonian = qubitHamiltonian\n",
    "        self.ansatz_circuit = ansatz_circuit\n",
    "        self.n_shots = n_shots\n",
    "\n",
    "    def Calc_Energy(self):\n",
    "\n",
    "        E_list=[]\n",
    "        for qubitOp in self.qubitHamiltonian:\n",
    "            for PauliWord, const in qubitOp.terms.items():\n",
    "                if PauliWord is not ():\n",
    "                    Q_circuit = Generate_Full_Q_Circuit(self.ansatz_circuit, qubitOp)\n",
    "                    hist_key_str = Get_Histogram_key(qubitOp)\n",
    "                    int_state_counter = Simulate_Quantum_Circuit(Q_circuit, self.n_shots, hist_key_str)\n",
    "                    binary_state_counter = Return_as_binary(int_state_counter, hist_key_str)\n",
    "                    exp_result = expectation_value_by_parity(binary_state_counter)\n",
    "                    E_list.append(exp_result*const)\n",
    "                else:\n",
    "                    E_list.append(const)\n",
    "        return sum(E_list).real\n",
    "\n",
    "    def Get_wavefunction_of_state(self, sig_figs=3):\n",
    "        return Get_wavefunction(self.ansatz_circuit, sig_figs=sig_figs)"
   ]
  },
  {
   "cell_type": "code",
   "execution_count": null,
   "metadata": {},
   "outputs": [],
   "source": []
  },
  {
   "cell_type": "code",
   "execution_count": 11,
   "metadata": {},
   "outputs": [],
   "source": [
    "from quchem.Hamiltonian_Generator_Functions import *\n",
    "### Parameters\n",
    "Molecule = 'H2'\n",
    "geometry = [('H', (0., 0., 0.)), ('H', (0., 0., 0.74))]\n",
    "basis = 'sto-3g'\n",
    "\n",
    "### Get Hamiltonian\n",
    "Hamilt = Hamiltonian(Molecule,\n",
    "                     run_scf=1, run_mp2=1, run_cisd=1, run_ccsd=1, run_fci=1,\n",
    "                     basis=basis,\n",
    "                     multiplicity=1,\n",
    "                     geometry=geometry)  # normally None!\n",
    "\n",
    "Hamilt.Get_Molecular_Hamiltonian(Get_H_matrix=False)\n",
    "QubitHam = Hamilt.Get_Qubit_Hamiltonian(transformation='JW')\n",
    "\n",
    "ansatz_obj = Ansatz(Hamilt.molecule.n_electrons, Hamilt.molecule.n_qubits)\n",
    "\n",
    "Sec_Quant_CC_ia_ops, Sec_Quant_CC_ijab_ops, theta_parameters_ia, theta_parameters_ijab = ansatz_obj.Get_ia_and_ijab_terms()\n",
    "\n",
    "Qubit_Op_list_Second_Quant_CC_Ops_ia, Qubit_Op_list_Second_Quant_CC_Ops_ijab = ansatz_obj.UCCSD_single_trotter_step(Sec_Quant_CC_ia_ops, Sec_Quant_CC_ijab_ops,\n",
    "                                                                                                                    transformation='JW')\n",
    "\n",
    "full_ansatz_Q_Circ = Ansatz_Circuit(Qubit_Op_list_Second_Quant_CC_Ops_ia, Qubit_Op_list_Second_Quant_CC_Ops_ijab,\n",
    "             Hamilt.molecule.n_qubits, Hamilt.molecule.n_electrons)\n",
    "\n",
    "ansatz_cirq_circuit = full_ansatz_Q_Circ.Get_Full_HF_UCCSD_QC(theta_parameters_ia, theta_parameters_ijab)"
   ]
  },
  {
   "cell_type": "code",
   "execution_count": 12,
   "metadata": {},
   "outputs": [
    {
     "data": {
      "text/plain": [
       "-0.11006665036999236"
      ]
     },
     "execution_count": 12,
     "metadata": {},
     "output_type": "execute_result"
    }
   ],
   "source": [
    "n_shots= 1000\n",
    "\n",
    "VQE_exp = VQE_Experiment(QubitHam, ansatz_cirq_circuit, n_shots)\n",
    "VQE_exp.Calc_Energy()"
   ]
  },
  {
   "cell_type": "code",
   "execution_count": 36,
   "metadata": {},
   "outputs": [
    {
     "name": "stdout",
     "output_type": "stream",
     "text": [
      "0: Input_to_Funct: [3.025      2.01666667 3.075     ]: Output: -0.09521239785672486\n",
      "1: Input_to_Funct: [3.025      2.01666667 3.075     ]: Output: -0.07867714591222703\n",
      "2: Input_to_Funct: [3.025      2.01666667 3.075     ]: Output: -0.0869946974923097\n",
      "3: Input_to_Funct: [3.025      2.01666667 3.075     ]: Output: -0.1164892398390727\n",
      "4: Input_to_Funct: [3.025      2.01666667 3.075     ]: Output: -0.08523888263702713\n",
      "5: Input_to_Funct: [3.025      2.01666667 3.075     ]: Output: -0.10880188283337273\n",
      "6: Input_to_Funct: [3.025      2.01666667 3.075     ]: Output: -0.11000990130122026\n",
      "7: Input_to_Funct: [3.025      2.01666667 3.075     ]: Output: -0.10424327005533776\n",
      "8: Input_to_Funct: [3.02604167 2.02569444 3.059375  ]: Output: -0.10963569758571909\n",
      "9: Input_to_Funct: [3.02604167 2.02569444 3.059375  ]: Output: -0.11138419876887126\n"
     ]
    },
    {
     "ename": "KeyboardInterrupt",
     "evalue": "",
     "output_type": "error",
     "traceback": [
      "\u001b[0;31m---------------------------------------------------------------------------\u001b[0m",
      "\u001b[0;31mKeyboardInterrupt\u001b[0m                         Traceback (most recent call last)",
      "\u001b[0;32m<ipython-input-36-706effe0a3ae>\u001b[0m in \u001b[0;36m<module>\u001b[0;34m\u001b[0m\n\u001b[1;32m     18\u001b[0m                \u001b[0mtol\u001b[0m\u001b[0;34m=\u001b[0m\u001b[0;36m1e-5\u001b[0m\u001b[0;34m,\u001b[0m\u001b[0;34m\u001b[0m\u001b[0;34m\u001b[0m\u001b[0m\n\u001b[1;32m     19\u001b[0m                display_convergence_message=True)\n\u001b[0;32m---> 20\u001b[0;31m \u001b[0mGG\u001b[0m\u001b[0;34m.\u001b[0m\u001b[0mget_env\u001b[0m\u001b[0;34m(\u001b[0m\u001b[0;36m50\u001b[0m\u001b[0;34m)\u001b[0m\u001b[0;34m\u001b[0m\u001b[0;34m\u001b[0m\u001b[0m\n\u001b[0m\u001b[1;32m     21\u001b[0m \u001b[0mGG\u001b[0m\u001b[0;34m.\u001b[0m\u001b[0mplot_convergence\u001b[0m\u001b[0;34m(\u001b[0m\u001b[0;34m)\u001b[0m\u001b[0;34m\u001b[0m\u001b[0;34m\u001b[0m\u001b[0m\n\u001b[1;32m     22\u001b[0m \u001b[0mplt\u001b[0m\u001b[0;34m.\u001b[0m\u001b[0mshow\u001b[0m\u001b[0;34m(\u001b[0m\u001b[0;34m)\u001b[0m\u001b[0;34m\u001b[0m\u001b[0;34m\u001b[0m\u001b[0m\n",
      "\u001b[0;32m~/Documents/PhD/VQE-code/quchem/Scipy_Optimizer.py\u001b[0m in \u001b[0;36mget_env\u001b[0;34m(self, max_iter)\u001b[0m\n\u001b[1;32m    101\u001b[0m                   'callback': self.callback_store_values if self.store_values or self.display_iter_steps is True else None}\n\u001b[1;32m    102\u001b[0m \u001b[0;34m\u001b[0m\u001b[0m\n\u001b[0;32m--> 103\u001b[0;31m         \u001b[0mself\u001b[0m\u001b[0;34m.\u001b[0m\u001b[0moptimized_result\u001b[0m \u001b[0;34m=\u001b[0m \u001b[0mminimize\u001b[0m\u001b[0;34m(\u001b[0m\u001b[0;34m**\u001b[0m\u001b[0mkwargs\u001b[0m\u001b[0;34m)\u001b[0m  \u001b[0;31m# scipy.optimize.minimize\u001b[0m\u001b[0;34m\u001b[0m\u001b[0;34m\u001b[0m\u001b[0m\n\u001b[0m\u001b[1;32m    104\u001b[0m         \u001b[0;32mif\u001b[0m \u001b[0mself\u001b[0m\u001b[0;34m.\u001b[0m\u001b[0mdisplay_convergence_message\u001b[0m\u001b[0;34m:\u001b[0m\u001b[0;34m\u001b[0m\u001b[0;34m\u001b[0m\u001b[0m\n\u001b[1;32m    105\u001b[0m             \u001b[0mprint\u001b[0m\u001b[0;34m(\u001b[0m\u001b[0;34mf'Reason for termination is {self.optimized_result.message}'\u001b[0m\u001b[0;34m)\u001b[0m\u001b[0;34m\u001b[0m\u001b[0;34m\u001b[0m\u001b[0m\n",
      "\u001b[0;32m~/anaconda3/envs/QuantumUpdated/lib/python3.7/site-packages/scipy/optimize/_minimize.py\u001b[0m in \u001b[0;36mminimize\u001b[0;34m(fun, x0, args, method, jac, hess, hessp, bounds, constraints, tol, callback, options)\u001b[0m\n\u001b[1;32m    596\u001b[0m \u001b[0;34m\u001b[0m\u001b[0m\n\u001b[1;32m    597\u001b[0m     \u001b[0;32mif\u001b[0m \u001b[0mmeth\u001b[0m \u001b[0;34m==\u001b[0m \u001b[0;34m'nelder-mead'\u001b[0m\u001b[0;34m:\u001b[0m\u001b[0;34m\u001b[0m\u001b[0;34m\u001b[0m\u001b[0m\n\u001b[0;32m--> 598\u001b[0;31m         \u001b[0;32mreturn\u001b[0m \u001b[0m_minimize_neldermead\u001b[0m\u001b[0;34m(\u001b[0m\u001b[0mfun\u001b[0m\u001b[0;34m,\u001b[0m \u001b[0mx0\u001b[0m\u001b[0;34m,\u001b[0m \u001b[0margs\u001b[0m\u001b[0;34m,\u001b[0m \u001b[0mcallback\u001b[0m\u001b[0;34m,\u001b[0m \u001b[0;34m**\u001b[0m\u001b[0moptions\u001b[0m\u001b[0;34m)\u001b[0m\u001b[0;34m\u001b[0m\u001b[0;34m\u001b[0m\u001b[0m\n\u001b[0m\u001b[1;32m    599\u001b[0m     \u001b[0;32melif\u001b[0m \u001b[0mmeth\u001b[0m \u001b[0;34m==\u001b[0m \u001b[0;34m'powell'\u001b[0m\u001b[0;34m:\u001b[0m\u001b[0;34m\u001b[0m\u001b[0;34m\u001b[0m\u001b[0m\n\u001b[1;32m    600\u001b[0m         \u001b[0;32mreturn\u001b[0m \u001b[0m_minimize_powell\u001b[0m\u001b[0;34m(\u001b[0m\u001b[0mfun\u001b[0m\u001b[0;34m,\u001b[0m \u001b[0mx0\u001b[0m\u001b[0;34m,\u001b[0m \u001b[0margs\u001b[0m\u001b[0;34m,\u001b[0m \u001b[0mcallback\u001b[0m\u001b[0;34m,\u001b[0m \u001b[0;34m**\u001b[0m\u001b[0moptions\u001b[0m\u001b[0;34m)\u001b[0m\u001b[0;34m\u001b[0m\u001b[0;34m\u001b[0m\u001b[0m\n",
      "\u001b[0;32m~/anaconda3/envs/QuantumUpdated/lib/python3.7/site-packages/scipy/optimize/optimize.py\u001b[0m in \u001b[0;36m_minimize_neldermead\u001b[0;34m(func, x0, args, callback, maxiter, maxfev, disp, return_all, initial_simplex, xatol, fatol, adaptive, **unknown_options)\u001b[0m\n\u001b[1;32m    648\u001b[0m         \u001b[0mfsim\u001b[0m \u001b[0;34m=\u001b[0m \u001b[0mnumpy\u001b[0m\u001b[0;34m.\u001b[0m\u001b[0mtake\u001b[0m\u001b[0;34m(\u001b[0m\u001b[0mfsim\u001b[0m\u001b[0;34m,\u001b[0m \u001b[0mind\u001b[0m\u001b[0;34m,\u001b[0m \u001b[0;36m0\u001b[0m\u001b[0;34m)\u001b[0m\u001b[0;34m\u001b[0m\u001b[0;34m\u001b[0m\u001b[0m\n\u001b[1;32m    649\u001b[0m         \u001b[0;32mif\u001b[0m \u001b[0mcallback\u001b[0m \u001b[0;32mis\u001b[0m \u001b[0;32mnot\u001b[0m \u001b[0;32mNone\u001b[0m\u001b[0;34m:\u001b[0m\u001b[0;34m\u001b[0m\u001b[0;34m\u001b[0m\u001b[0m\n\u001b[0;32m--> 650\u001b[0;31m             \u001b[0mcallback\u001b[0m\u001b[0;34m(\u001b[0m\u001b[0msim\u001b[0m\u001b[0;34m[\u001b[0m\u001b[0;36m0\u001b[0m\u001b[0;34m]\u001b[0m\u001b[0;34m)\u001b[0m\u001b[0;34m\u001b[0m\u001b[0;34m\u001b[0m\u001b[0m\n\u001b[0m\u001b[1;32m    651\u001b[0m         \u001b[0miterations\u001b[0m \u001b[0;34m+=\u001b[0m \u001b[0;36m1\u001b[0m\u001b[0;34m\u001b[0m\u001b[0;34m\u001b[0m\u001b[0m\n\u001b[1;32m    652\u001b[0m         \u001b[0;32mif\u001b[0m \u001b[0mretall\u001b[0m\u001b[0;34m:\u001b[0m\u001b[0;34m\u001b[0m\u001b[0;34m\u001b[0m\u001b[0m\n",
      "\u001b[0;32m~/Documents/PhD/VQE-code/quchem/Scipy_Optimizer.py\u001b[0m in \u001b[0;36mcallback_store_values\u001b[0;34m(self, xk)\u001b[0m\n\u001b[1;32m     47\u001b[0m         \u001b[0;31m# Called after each iteration if set to store_values set too True\u001b[0m\u001b[0;34m\u001b[0m\u001b[0;34m\u001b[0m\u001b[0;34m\u001b[0m\u001b[0m\n\u001b[1;32m     48\u001b[0m         \u001b[0;32mif\u001b[0m \u001b[0mself\u001b[0m\u001b[0;34m.\u001b[0m\u001b[0margs\u001b[0m \u001b[0;34m==\u001b[0m \u001b[0;34m(\u001b[0m\u001b[0;34m)\u001b[0m\u001b[0;34m:\u001b[0m\u001b[0;34m\u001b[0m\u001b[0;34m\u001b[0m\u001b[0m\n\u001b[0;32m---> 49\u001b[0;31m             \u001b[0mval\u001b[0m \u001b[0;34m=\u001b[0m \u001b[0mself\u001b[0m\u001b[0;34m.\u001b[0m\u001b[0mfunct\u001b[0m\u001b[0;34m(\u001b[0m\u001b[0mxk\u001b[0m\u001b[0;34m)\u001b[0m\u001b[0;34m\u001b[0m\u001b[0;34m\u001b[0m\u001b[0m\n\u001b[0m\u001b[1;32m     50\u001b[0m         \u001b[0;32melse\u001b[0m\u001b[0;34m:\u001b[0m\u001b[0;34m\u001b[0m\u001b[0;34m\u001b[0m\u001b[0m\n\u001b[1;32m     51\u001b[0m             \u001b[0mval\u001b[0m \u001b[0;34m=\u001b[0m \u001b[0mself\u001b[0m\u001b[0;34m.\u001b[0m\u001b[0mfunct\u001b[0m\u001b[0;34m(\u001b[0m\u001b[0mxk\u001b[0m\u001b[0;34m,\u001b[0m \u001b[0;34m*\u001b[0m\u001b[0mself\u001b[0m\u001b[0;34m.\u001b[0m\u001b[0margs\u001b[0m\u001b[0;34m)\u001b[0m\u001b[0;34m\u001b[0m\u001b[0;34m\u001b[0m\u001b[0m\n",
      "\u001b[0;32m<ipython-input-36-706effe0a3ae>\u001b[0m in \u001b[0;36mGIVE_ENERGY\u001b[0;34m(theta_ia_theta_jab_list)\u001b[0m\n\u001b[1;32m     10\u001b[0m \u001b[0;34m\u001b[0m\u001b[0m\n\u001b[1;32m     11\u001b[0m \u001b[0;34m\u001b[0m\u001b[0m\n\u001b[0;32m---> 12\u001b[0;31m     \u001b[0;32mreturn\u001b[0m \u001b[0mVQE_exp\u001b[0m\u001b[0;34m.\u001b[0m\u001b[0mCalc_Energy\u001b[0m\u001b[0;34m(\u001b[0m\u001b[0;34m)\u001b[0m\u001b[0;34m\u001b[0m\u001b[0;34m\u001b[0m\u001b[0m\n\u001b[0m\u001b[1;32m     13\u001b[0m \u001b[0;34m\u001b[0m\u001b[0m\n\u001b[1;32m     14\u001b[0m \u001b[0;32mfrom\u001b[0m \u001b[0mquchem\u001b[0m\u001b[0;34m.\u001b[0m\u001b[0mScipy_Optimizer\u001b[0m \u001b[0;32mimport\u001b[0m \u001b[0;34m*\u001b[0m\u001b[0;34m\u001b[0m\u001b[0;34m\u001b[0m\u001b[0m\n",
      "\u001b[0;32m<ipython-input-35-3ff0852958d6>\u001b[0m in \u001b[0;36mCalc_Energy\u001b[0;34m(self)\u001b[0m\n\u001b[1;32m     13\u001b[0m                     \u001b[0mQ_circuit\u001b[0m \u001b[0;34m=\u001b[0m \u001b[0mGenerate_Full_Q_Circuit\u001b[0m\u001b[0;34m(\u001b[0m\u001b[0mself\u001b[0m\u001b[0;34m.\u001b[0m\u001b[0mansatz_circuit\u001b[0m\u001b[0;34m,\u001b[0m \u001b[0mqubitOp\u001b[0m\u001b[0;34m)\u001b[0m\u001b[0;34m\u001b[0m\u001b[0;34m\u001b[0m\u001b[0m\n\u001b[1;32m     14\u001b[0m                     \u001b[0mhist_key_str\u001b[0m \u001b[0;34m=\u001b[0m \u001b[0mGet_Histogram_key\u001b[0m\u001b[0;34m(\u001b[0m\u001b[0mqubitOp\u001b[0m\u001b[0;34m)\u001b[0m\u001b[0;34m\u001b[0m\u001b[0;34m\u001b[0m\u001b[0m\n\u001b[0;32m---> 15\u001b[0;31m                     \u001b[0mint_state_counter\u001b[0m \u001b[0;34m=\u001b[0m \u001b[0mSimulate_Quantum_Circuit\u001b[0m\u001b[0;34m(\u001b[0m\u001b[0mQ_circuit\u001b[0m\u001b[0;34m,\u001b[0m \u001b[0mself\u001b[0m\u001b[0;34m.\u001b[0m\u001b[0mn_shots\u001b[0m\u001b[0;34m,\u001b[0m \u001b[0mhist_key_str\u001b[0m\u001b[0;34m)\u001b[0m\u001b[0;34m\u001b[0m\u001b[0;34m\u001b[0m\u001b[0m\n\u001b[0m\u001b[1;32m     16\u001b[0m                     \u001b[0mbinary_state_counter\u001b[0m \u001b[0;34m=\u001b[0m \u001b[0mReturn_as_binary\u001b[0m\u001b[0;34m(\u001b[0m\u001b[0mint_state_counter\u001b[0m\u001b[0;34m,\u001b[0m \u001b[0mhist_key_str\u001b[0m\u001b[0;34m)\u001b[0m\u001b[0;34m\u001b[0m\u001b[0;34m\u001b[0m\u001b[0m\n\u001b[1;32m     17\u001b[0m                     \u001b[0mexp_result\u001b[0m \u001b[0;34m=\u001b[0m \u001b[0mexpectation_value_by_parity\u001b[0m\u001b[0;34m(\u001b[0m\u001b[0mbinary_state_counter\u001b[0m\u001b[0;34m)\u001b[0m\u001b[0;34m\u001b[0m\u001b[0;34m\u001b[0m\u001b[0m\n",
      "\u001b[0;32m~/Documents/PhD/VQE-code/quchem/Simulating_Quantum_Circuit.py\u001b[0m in \u001b[0;36mSimulate_Quantum_Circuit\u001b[0;34m(quantum_circuit, num_shots, histogram_string)\u001b[0m\n\u001b[1;32m     56\u001b[0m \u001b[0;34m\u001b[0m\u001b[0m\n\u001b[1;32m     57\u001b[0m     \u001b[0msimulator\u001b[0m \u001b[0;34m=\u001b[0m \u001b[0mcirq\u001b[0m\u001b[0;34m.\u001b[0m\u001b[0mSimulator\u001b[0m\u001b[0;34m(\u001b[0m\u001b[0;34m)\u001b[0m\u001b[0;34m\u001b[0m\u001b[0;34m\u001b[0m\u001b[0m\n\u001b[0;32m---> 58\u001b[0;31m     \u001b[0mraw_result\u001b[0m \u001b[0;34m=\u001b[0m \u001b[0msimulator\u001b[0m\u001b[0;34m.\u001b[0m\u001b[0mrun\u001b[0m\u001b[0;34m(\u001b[0m\u001b[0mquantum_circuit\u001b[0m\u001b[0;34m,\u001b[0m \u001b[0mrepetitions\u001b[0m\u001b[0;34m=\u001b[0m\u001b[0mnum_shots\u001b[0m\u001b[0;34m)\u001b[0m\u001b[0;34m\u001b[0m\u001b[0;34m\u001b[0m\u001b[0m\n\u001b[0m\u001b[1;32m     59\u001b[0m     \u001b[0mhist_result\u001b[0m \u001b[0;34m=\u001b[0m \u001b[0mraw_result\u001b[0m\u001b[0;34m.\u001b[0m\u001b[0mhistogram\u001b[0m\u001b[0;34m(\u001b[0m\u001b[0mkey\u001b[0m\u001b[0;34m=\u001b[0m\u001b[0mhistogram_string\u001b[0m\u001b[0;34m)\u001b[0m\u001b[0;34m\u001b[0m\u001b[0;34m\u001b[0m\u001b[0m\n\u001b[1;32m     60\u001b[0m \u001b[0;34m\u001b[0m\u001b[0m\n",
      "\u001b[0;32m~/.local/lib/python3.7/site-packages/cirq/work/sampler.py\u001b[0m in \u001b[0;36mrun\u001b[0;34m(self, program, param_resolver, repetitions)\u001b[0m\n\u001b[1;32m     48\u001b[0m         \"\"\"\n\u001b[1;32m     49\u001b[0m         return self.run_sweep(program, study.ParamResolver(param_resolver),\n\u001b[0;32m---> 50\u001b[0;31m                               repetitions)[0]\n\u001b[0m\u001b[1;32m     51\u001b[0m \u001b[0;34m\u001b[0m\u001b[0m\n\u001b[1;32m     52\u001b[0m     def sample(\n",
      "\u001b[0;32m~/.local/lib/python3.7/site-packages/cirq/sim/simulator.py\u001b[0m in \u001b[0;36mrun_sweep\u001b[0;34m(self, program, params, repetitions)\u001b[0m\n\u001b[1;32m     85\u001b[0m             measurements = self._run(circuit=program,\n\u001b[1;32m     86\u001b[0m                                      \u001b[0mparam_resolver\u001b[0m\u001b[0;34m=\u001b[0m\u001b[0mparam_resolver\u001b[0m\u001b[0;34m,\u001b[0m\u001b[0;34m\u001b[0m\u001b[0;34m\u001b[0m\u001b[0m\n\u001b[0;32m---> 87\u001b[0;31m                                      repetitions=repetitions)\n\u001b[0m\u001b[1;32m     88\u001b[0m             trial_results.append(\n\u001b[1;32m     89\u001b[0m                 study.TrialResult.from_single_parameter_set(\n",
      "\u001b[0;32m~/.local/lib/python3.7/site-packages/cirq/sim/sparse_simulator.py\u001b[0m in \u001b[0;36m_run\u001b[0;34m(self, circuit, param_resolver, repetitions)\u001b[0m\n\u001b[1;32m    166\u001b[0m             \u001b[0;32mreturn\u001b[0m \u001b[0mprotocols\u001b[0m\u001b[0;34m.\u001b[0m\u001b[0mis_measurement\u001b[0m\u001b[0;34m(\u001b[0m\u001b[0mop\u001b[0m\u001b[0;34m)\u001b[0m \u001b[0;32mor\u001b[0m \u001b[0mprotocols\u001b[0m\u001b[0;34m.\u001b[0m\u001b[0mhas_mixture\u001b[0m\u001b[0;34m(\u001b[0m\u001b[0mop\u001b[0m\u001b[0;34m)\u001b[0m\u001b[0;34m\u001b[0m\u001b[0;34m\u001b[0m\u001b[0m\n\u001b[1;32m    167\u001b[0m         \u001b[0;32mif\u001b[0m \u001b[0mcircuit\u001b[0m\u001b[0;34m.\u001b[0m\u001b[0mare_all_matches_terminal\u001b[0m\u001b[0;34m(\u001b[0m\u001b[0mmeasure_or_mixture\u001b[0m\u001b[0;34m)\u001b[0m\u001b[0;34m:\u001b[0m\u001b[0;34m\u001b[0m\u001b[0;34m\u001b[0m\u001b[0m\n\u001b[0;32m--> 168\u001b[0;31m             \u001b[0;32mreturn\u001b[0m \u001b[0mself\u001b[0m\u001b[0;34m.\u001b[0m\u001b[0m_run_sweep_sample\u001b[0m\u001b[0;34m(\u001b[0m\u001b[0mresolved_circuit\u001b[0m\u001b[0;34m,\u001b[0m \u001b[0mrepetitions\u001b[0m\u001b[0;34m)\u001b[0m\u001b[0;34m\u001b[0m\u001b[0;34m\u001b[0m\u001b[0m\n\u001b[0m\u001b[1;32m    169\u001b[0m         \u001b[0;32mreturn\u001b[0m \u001b[0mself\u001b[0m\u001b[0;34m.\u001b[0m\u001b[0m_run_sweep_repeat\u001b[0m\u001b[0;34m(\u001b[0m\u001b[0mresolved_circuit\u001b[0m\u001b[0;34m,\u001b[0m \u001b[0mrepetitions\u001b[0m\u001b[0;34m)\u001b[0m\u001b[0;34m\u001b[0m\u001b[0;34m\u001b[0m\u001b[0m\n\u001b[1;32m    170\u001b[0m \u001b[0;34m\u001b[0m\u001b[0m\n",
      "\u001b[0;32m~/.local/lib/python3.7/site-packages/cirq/sim/sparse_simulator.py\u001b[0m in \u001b[0;36m_run_sweep_sample\u001b[0;34m(self, circuit, repetitions)\u001b[0m\n\u001b[1;32m    177\u001b[0m                 \u001b[0mqubit_order\u001b[0m\u001b[0;34m=\u001b[0m\u001b[0mops\u001b[0m\u001b[0;34m.\u001b[0m\u001b[0mQubitOrder\u001b[0m\u001b[0;34m.\u001b[0m\u001b[0mDEFAULT\u001b[0m\u001b[0;34m,\u001b[0m\u001b[0;34m\u001b[0m\u001b[0;34m\u001b[0m\u001b[0m\n\u001b[1;32m    178\u001b[0m                 \u001b[0minitial_state\u001b[0m\u001b[0;34m=\u001b[0m\u001b[0;36m0\u001b[0m\u001b[0;34m,\u001b[0m\u001b[0;34m\u001b[0m\u001b[0;34m\u001b[0m\u001b[0m\n\u001b[0;32m--> 179\u001b[0;31m                 perform_measurements=False):\n\u001b[0m\u001b[1;32m    180\u001b[0m             \u001b[0;32mpass\u001b[0m\u001b[0;34m\u001b[0m\u001b[0;34m\u001b[0m\u001b[0m\n\u001b[1;32m    181\u001b[0m         \u001b[0;31m# We can ignore the mixtures since this is a run method which\u001b[0m\u001b[0;34m\u001b[0m\u001b[0;34m\u001b[0m\u001b[0;34m\u001b[0m\u001b[0m\n",
      "\u001b[0;32m~/.local/lib/python3.7/site-packages/cirq/sim/sparse_simulator.py\u001b[0m in \u001b[0;36m_base_iterator\u001b[0;34m(self, circuit, qubit_order, initial_state, perform_measurements)\u001b[0m\n\u001b[1;32m    278\u001b[0m                     \u001b[0mself\u001b[0m\u001b[0;34m.\u001b[0m\u001b[0m_simulate_reset\u001b[0m\u001b[0;34m(\u001b[0m\u001b[0mop\u001b[0m\u001b[0;34m,\u001b[0m \u001b[0mdata\u001b[0m\u001b[0;34m,\u001b[0m \u001b[0mindices\u001b[0m\u001b[0;34m)\u001b[0m\u001b[0;34m\u001b[0m\u001b[0;34m\u001b[0m\u001b[0m\n\u001b[1;32m    279\u001b[0m                 \u001b[0;32melif\u001b[0m \u001b[0mprotocols\u001b[0m\u001b[0;34m.\u001b[0m\u001b[0mhas_unitary\u001b[0m\u001b[0;34m(\u001b[0m\u001b[0mop\u001b[0m\u001b[0;34m)\u001b[0m\u001b[0;34m:\u001b[0m\u001b[0;34m\u001b[0m\u001b[0;34m\u001b[0m\u001b[0m\n\u001b[0;32m--> 280\u001b[0;31m                     \u001b[0mself\u001b[0m\u001b[0;34m.\u001b[0m\u001b[0m_simulate_unitary\u001b[0m\u001b[0;34m(\u001b[0m\u001b[0mop\u001b[0m\u001b[0;34m,\u001b[0m \u001b[0mdata\u001b[0m\u001b[0;34m,\u001b[0m \u001b[0mindices\u001b[0m\u001b[0;34m)\u001b[0m\u001b[0;34m\u001b[0m\u001b[0;34m\u001b[0m\u001b[0m\n\u001b[0m\u001b[1;32m    281\u001b[0m                 \u001b[0;32melif\u001b[0m \u001b[0mprotocols\u001b[0m\u001b[0;34m.\u001b[0m\u001b[0mis_measurement\u001b[0m\u001b[0;34m(\u001b[0m\u001b[0mop\u001b[0m\u001b[0;34m)\u001b[0m\u001b[0;34m:\u001b[0m\u001b[0;34m\u001b[0m\u001b[0;34m\u001b[0m\u001b[0m\n\u001b[1;32m    282\u001b[0m                     \u001b[0;31m# Do measurements second, since there may be mixtures that\u001b[0m\u001b[0;34m\u001b[0m\u001b[0;34m\u001b[0m\u001b[0;34m\u001b[0m\u001b[0m\n",
      "\u001b[0;32m~/.local/lib/python3.7/site-packages/cirq/sim/sparse_simulator.py\u001b[0m in \u001b[0;36m_simulate_unitary\u001b[0;34m(self, op, data, indices)\u001b[0m\n\u001b[1;32m    303\u001b[0m                         \u001b[0mdata\u001b[0m\u001b[0;34m.\u001b[0m\u001b[0mstate\u001b[0m\u001b[0;34m,\u001b[0m\u001b[0;34m\u001b[0m\u001b[0;34m\u001b[0m\u001b[0m\n\u001b[1;32m    304\u001b[0m                         \u001b[0mdata\u001b[0m\u001b[0;34m.\u001b[0m\u001b[0mbuffer\u001b[0m\u001b[0;34m,\u001b[0m\u001b[0;34m\u001b[0m\u001b[0;34m\u001b[0m\u001b[0m\n\u001b[0;32m--> 305\u001b[0;31m                         indices))\n\u001b[0m\u001b[1;32m    306\u001b[0m         \u001b[0;32mif\u001b[0m \u001b[0mresult\u001b[0m \u001b[0;32mis\u001b[0m \u001b[0mdata\u001b[0m\u001b[0;34m.\u001b[0m\u001b[0mbuffer\u001b[0m\u001b[0;34m:\u001b[0m\u001b[0;34m\u001b[0m\u001b[0;34m\u001b[0m\u001b[0m\n\u001b[1;32m    307\u001b[0m             \u001b[0mdata\u001b[0m\u001b[0;34m.\u001b[0m\u001b[0mbuffer\u001b[0m \u001b[0;34m=\u001b[0m \u001b[0mdata\u001b[0m\u001b[0;34m.\u001b[0m\u001b[0mstate\u001b[0m\u001b[0;34m\u001b[0m\u001b[0;34m\u001b[0m\u001b[0m\n",
      "\u001b[0;32m~/.local/lib/python3.7/site-packages/cirq/protocols/apply_unitary_protocol.py\u001b[0m in \u001b[0;36mapply_unitary\u001b[0;34m(unitary_value, args, default)\u001b[0m\n\u001b[1;32m    345\u001b[0m     \u001b[0;31m# Try each strategy, stopping if one works.\u001b[0m\u001b[0;34m\u001b[0m\u001b[0;34m\u001b[0m\u001b[0;34m\u001b[0m\u001b[0m\n\u001b[1;32m    346\u001b[0m     \u001b[0;32mfor\u001b[0m \u001b[0mstrat\u001b[0m \u001b[0;32min\u001b[0m \u001b[0mstrats\u001b[0m\u001b[0;34m:\u001b[0m\u001b[0;34m\u001b[0m\u001b[0;34m\u001b[0m\u001b[0m\n\u001b[0;32m--> 347\u001b[0;31m         \u001b[0mresult\u001b[0m \u001b[0;34m=\u001b[0m \u001b[0mstrat\u001b[0m\u001b[0;34m(\u001b[0m\u001b[0munitary_value\u001b[0m\u001b[0;34m,\u001b[0m \u001b[0margs\u001b[0m\u001b[0;34m)\u001b[0m\u001b[0;34m\u001b[0m\u001b[0;34m\u001b[0m\u001b[0m\n\u001b[0m\u001b[1;32m    348\u001b[0m         \u001b[0;32mif\u001b[0m \u001b[0mresult\u001b[0m \u001b[0;32mis\u001b[0m \u001b[0;32mNone\u001b[0m\u001b[0;34m:\u001b[0m\u001b[0;34m\u001b[0m\u001b[0;34m\u001b[0m\u001b[0m\n\u001b[1;32m    349\u001b[0m             \u001b[0;32mbreak\u001b[0m\u001b[0;34m\u001b[0m\u001b[0;34m\u001b[0m\u001b[0m\n",
      "\u001b[0;32m~/.local/lib/python3.7/site-packages/cirq/protocols/apply_unitary_protocol.py\u001b[0m in \u001b[0;36m_strat_apply_unitary_from_apply_unitary\u001b[0;34m(unitary_value, args)\u001b[0m\n\u001b[1;32m    379\u001b[0m         \u001b[0;32mreturn\u001b[0m \u001b[0mNotImplemented\u001b[0m\u001b[0;34m\u001b[0m\u001b[0;34m\u001b[0m\u001b[0m\n\u001b[1;32m    380\u001b[0m     op_qid_shape = qid_shape_protocol.qid_shape(unitary_value,\n\u001b[0;32m--> 381\u001b[0;31m                                                 (2,) * len(args.axes))\n\u001b[0m\u001b[1;32m    382\u001b[0m     sub_args = args._for_operation_with_qid_shape(range(len(op_qid_shape)),\n\u001b[1;32m    383\u001b[0m                                                   op_qid_shape)\n",
      "\u001b[0;32m~/.local/lib/python3.7/site-packages/cirq/protocols/qid_shape_protocol.py\u001b[0m in \u001b[0;36mqid_shape\u001b[0;34m(val, default)\u001b[0m\n\u001b[1;32m    104\u001b[0m     \"\"\"\n\u001b[1;32m    105\u001b[0m     \u001b[0mgetter\u001b[0m \u001b[0;34m=\u001b[0m \u001b[0mgetattr\u001b[0m\u001b[0;34m(\u001b[0m\u001b[0mval\u001b[0m\u001b[0;34m,\u001b[0m \u001b[0;34m'_qid_shape_'\u001b[0m\u001b[0;34m,\u001b[0m \u001b[0;32mNone\u001b[0m\u001b[0;34m)\u001b[0m\u001b[0;34m\u001b[0m\u001b[0;34m\u001b[0m\u001b[0m\n\u001b[0;32m--> 106\u001b[0;31m     \u001b[0mresult\u001b[0m \u001b[0;34m=\u001b[0m \u001b[0mNotImplemented\u001b[0m \u001b[0;32mif\u001b[0m \u001b[0mgetter\u001b[0m \u001b[0;32mis\u001b[0m \u001b[0;32mNone\u001b[0m \u001b[0;32melse\u001b[0m \u001b[0mgetter\u001b[0m\u001b[0;34m(\u001b[0m\u001b[0;34m)\u001b[0m\u001b[0;34m\u001b[0m\u001b[0;34m\u001b[0m\u001b[0m\n\u001b[0m\u001b[1;32m    107\u001b[0m     \u001b[0;32mif\u001b[0m \u001b[0mresult\u001b[0m \u001b[0;32mis\u001b[0m \u001b[0;32mnot\u001b[0m \u001b[0mNotImplemented\u001b[0m\u001b[0;34m:\u001b[0m\u001b[0;34m\u001b[0m\u001b[0;34m\u001b[0m\u001b[0m\n\u001b[1;32m    108\u001b[0m         \u001b[0;32mreturn\u001b[0m \u001b[0mresult\u001b[0m\u001b[0;34m\u001b[0m\u001b[0;34m\u001b[0m\u001b[0m\n",
      "\u001b[0;32m~/.local/lib/python3.7/site-packages/cirq/ops/gate_operation.py\u001b[0m in \u001b[0;36m_qid_shape_\u001b[0;34m(self)\u001b[0m\n\u001b[1;32m     96\u001b[0m \u001b[0;34m\u001b[0m\u001b[0m\n\u001b[1;32m     97\u001b[0m     \u001b[0;32mdef\u001b[0m \u001b[0m_qid_shape_\u001b[0m\u001b[0;34m(\u001b[0m\u001b[0mself\u001b[0m\u001b[0;34m)\u001b[0m\u001b[0;34m:\u001b[0m\u001b[0;34m\u001b[0m\u001b[0;34m\u001b[0m\u001b[0m\n\u001b[0;32m---> 98\u001b[0;31m         \u001b[0;32mreturn\u001b[0m \u001b[0mprotocols\u001b[0m\u001b[0;34m.\u001b[0m\u001b[0mqid_shape\u001b[0m\u001b[0;34m(\u001b[0m\u001b[0mself\u001b[0m\u001b[0;34m.\u001b[0m\u001b[0mgate\u001b[0m\u001b[0;34m)\u001b[0m\u001b[0;34m\u001b[0m\u001b[0;34m\u001b[0m\u001b[0m\n\u001b[0m\u001b[1;32m     99\u001b[0m \u001b[0;34m\u001b[0m\u001b[0m\n\u001b[1;32m    100\u001b[0m     \u001b[0;32mdef\u001b[0m \u001b[0m_num_qubits_\u001b[0m\u001b[0;34m(\u001b[0m\u001b[0mself\u001b[0m\u001b[0;34m)\u001b[0m\u001b[0;34m:\u001b[0m\u001b[0;34m\u001b[0m\u001b[0;34m\u001b[0m\u001b[0m\n",
      "\u001b[0;32m~/.local/lib/python3.7/site-packages/cirq/protocols/qid_shape_protocol.py\u001b[0m in \u001b[0;36mqid_shape\u001b[0;34m(val, default)\u001b[0m\n\u001b[1;32m    104\u001b[0m     \"\"\"\n\u001b[1;32m    105\u001b[0m     \u001b[0mgetter\u001b[0m \u001b[0;34m=\u001b[0m \u001b[0mgetattr\u001b[0m\u001b[0;34m(\u001b[0m\u001b[0mval\u001b[0m\u001b[0;34m,\u001b[0m \u001b[0;34m'_qid_shape_'\u001b[0m\u001b[0;34m,\u001b[0m \u001b[0;32mNone\u001b[0m\u001b[0;34m)\u001b[0m\u001b[0;34m\u001b[0m\u001b[0;34m\u001b[0m\u001b[0m\n\u001b[0;32m--> 106\u001b[0;31m     \u001b[0mresult\u001b[0m \u001b[0;34m=\u001b[0m \u001b[0mNotImplemented\u001b[0m \u001b[0;32mif\u001b[0m \u001b[0mgetter\u001b[0m \u001b[0;32mis\u001b[0m \u001b[0;32mNone\u001b[0m \u001b[0;32melse\u001b[0m \u001b[0mgetter\u001b[0m\u001b[0;34m(\u001b[0m\u001b[0;34m)\u001b[0m\u001b[0;34m\u001b[0m\u001b[0;34m\u001b[0m\u001b[0m\n\u001b[0m\u001b[1;32m    107\u001b[0m     \u001b[0;32mif\u001b[0m \u001b[0mresult\u001b[0m \u001b[0;32mis\u001b[0m \u001b[0;32mnot\u001b[0m \u001b[0mNotImplemented\u001b[0m\u001b[0;34m:\u001b[0m\u001b[0;34m\u001b[0m\u001b[0;34m\u001b[0m\u001b[0m\n\u001b[1;32m    108\u001b[0m         \u001b[0;32mreturn\u001b[0m \u001b[0mresult\u001b[0m\u001b[0;34m\u001b[0m\u001b[0;34m\u001b[0m\u001b[0m\n",
      "\u001b[0;32m~/.local/lib/python3.7/site-packages/cirq/value/abc_alt.py\u001b[0m in \u001b[0;36mimpl_of_abstract\u001b[0;34m(*args, **kwargs)\u001b[0m\n\u001b[1;32m    133\u001b[0m \u001b[0;34m\u001b[0m\u001b[0m\n\u001b[1;32m    134\u001b[0m                 \u001b[0;32mdef\u001b[0m \u001b[0mimpl_of_abstract\u001b[0m\u001b[0;34m(\u001b[0m\u001b[0;34m*\u001b[0m\u001b[0margs\u001b[0m\u001b[0;34m,\u001b[0m \u001b[0;34m**\u001b[0m\u001b[0mkwargs\u001b[0m\u001b[0;34m)\u001b[0m\u001b[0;34m:\u001b[0m\u001b[0;34m\u001b[0m\u001b[0;34m\u001b[0m\u001b[0m\n\u001b[0;32m--> 135\u001b[0;31m                     \u001b[0;32mreturn\u001b[0m \u001b[0mimpl\u001b[0m\u001b[0;34m(\u001b[0m\u001b[0;34m*\u001b[0m\u001b[0margs\u001b[0m\u001b[0;34m,\u001b[0m \u001b[0;34m**\u001b[0m\u001b[0mkwargs\u001b[0m\u001b[0;34m)\u001b[0m\u001b[0;34m\u001b[0m\u001b[0;34m\u001b[0m\u001b[0m\n\u001b[0m\u001b[1;32m    136\u001b[0m \u001b[0;34m\u001b[0m\u001b[0m\n\u001b[1;32m    137\u001b[0m                 \u001b[0mfunctools\u001b[0m\u001b[0;34m.\u001b[0m\u001b[0mupdate_wrapper\u001b[0m\u001b[0;34m(\u001b[0m\u001b[0mimpl_of_abstract\u001b[0m\u001b[0;34m,\u001b[0m \u001b[0mabstract_method\u001b[0m\u001b[0;34m)\u001b[0m\u001b[0;34m\u001b[0m\u001b[0;34m\u001b[0m\u001b[0m\n",
      "\u001b[0;31mKeyboardInterrupt\u001b[0m: "
     ]
    }
   ],
   "source": [
    "n_shots=1000\n",
    "\n",
    "def GIVE_ENERGY(theta_ia_theta_jab_list):\n",
    "    theta_ia = theta_ia_theta_jab_list[:len(theta_parameters_ia)]\n",
    "    theta_ijab = theta_ia_theta_jab_list[len(theta_parameters_ia):]\n",
    "    \n",
    "    ansatz_cirq_circuit = full_ansatz_Q_Circ.Get_Full_HF_UCCSD_QC(theta_parameters_ia, theta_parameters_ijab)\n",
    "\n",
    "    VQE_exp = VQE_Experiment(QubitHam, ansatz_cirq_circuit, n_shots)\n",
    "    \n",
    "\n",
    "    return VQE_exp.Calc_Energy()\n",
    "\n",
    "from quchem.Scipy_Optimizer import *\n",
    "# THETA_params = [*theta_parameters_ia, *theta_parameters_ijab]\n",
    "THETA_params=[3,2,3]\n",
    "GG = Optimizer(GIVE_ENERGY, THETA_params, 'Nelder-Mead', store_values=True, display_iter_steps=True,\n",
    "               tol=1e-5,\n",
    "               display_convergence_message=True)\n",
    "GG.get_env(50)\n",
    "GG.plot_convergence()\n",
    "plt.show()"
   ]
  },
  {
   "cell_type": "code",
   "execution_count": 14,
   "metadata": {},
   "outputs": [
    {
     "data": {
      "text/plain": [
       "[-0.5j [X0 Z1 Y2] +\n",
       " 0.5j [Y0 Z1 X2],\n",
       " -0.5j [X1 Z2 Y3] +\n",
       " 0.5j [Y1 Z2 X3]]"
      ]
     },
     "execution_count": 14,
     "metadata": {},
     "output_type": "execute_result"
    }
   ],
   "source": [
    "Qubit_Op_list_Second_Quant_CC_Ops_ia"
   ]
  },
  {
   "cell_type": "code",
   "execution_count": 15,
   "metadata": {},
   "outputs": [],
   "source": [
    "# from quchem.quantum_circuit_functions import Generate_Full_Q_Circuit\n",
    "\n",
    "\n",
    "# class VQE_Experiment():\n",
    "#     def __init__(self, qubitHamiltonian, ansatz_circuit, n_shots):\n",
    "#         self.qubitHamiltonian = qubitHamiltonian\n",
    "#         self.ansatz_circuit = ansatz_circuit\n",
    "#         self.n_shots = n_shots\n",
    "\n",
    "#     def Calc_Energy(self):\n",
    "#         t_results=[]\n",
    "#         E_list=[]\n",
    "#         for qubitOp in self.qubitHamiltonian:\n",
    "#             for PauliWord, const in qubitOp.terms.items():\n",
    "#                 if PauliWord is not ():\n",
    "                    \n",
    "#                     Q_circuit = Generate_Full_Q_Circuit(self.ansatz_circuit, qubitOp)\n",
    "#                     hist_key_str = Get_Histogram_key(qubitOp)\n",
    "#                     int_state_counter = Simulate_Quantum_Circuit(Q_circuit, self.n_shots, hist_key_str)\n",
    "#                     binary_state_counter = Return_as_binary(int_state_counter, hist_key_str)\n",
    "#                     exp_result = expectation_value_by_parity(binary_state_counter)\n",
    "#                     E_list.append(exp_result*const)\n",
    "                    \n",
    "#                     t_results.append((exp_result, const))\n",
    "#                 else:\n",
    "#                     E_list.append(const)\n",
    "#                     t_results.append((1, const))\n",
    "                    \n",
    "                    \n",
    "#         return sum(E_list).real, t_results\n",
    "\n",
    "#     def Get_wavefunction_of_state(self, sig_figs=3):\n",
    "#         return Get_wavefunction(self.ansatz_circuit, sig_figs=sig_figs)\n"
   ]
  },
  {
   "cell_type": "code",
   "execution_count": 16,
   "metadata": {},
   "outputs": [
    {
     "data": {
      "text/html": [
       "<pre style=\"overflow: auto; white-space: pre;\">0: ───X───Rx(0.5π)───@───────────────────────────────X───Rx(-0.5π)───\n",
       "                     │                               │\n",
       "1: ───X───H──────────X───@───────────────────────X───@───H───────────\n",
       "                         │                       │\n",
       "2: ───H──────────────────X───@───────────────X───@───H───────────────\n",
       "                             │               │\n",
       "3: ───H──────────────────────X───Rz(-0.5π)───@───H───────────────────</pre>"
      ],
      "text/plain": [
       "0: ───X───Rx(0.5π)───@───────────────────────────────X───Rx(-0.5π)───\n",
       "                     │                               │\n",
       "1: ───X───H──────────X───@───────────────────────X───@───H───────────\n",
       "                         │                       │\n",
       "2: ───H──────────────────X───@───────────────X───@───H───────────────\n",
       "                             │               │\n",
       "3: ───H──────────────────────X───Rz(-0.5π)───@───H───────────────────"
      ]
     },
     "execution_count": 16,
     "metadata": {},
     "output_type": "execute_result"
    }
   ],
   "source": [
    "from quchem.Simulating_Quantum_Circuit import *\n",
    "from quchem.Ansatz_Generator_Functions import *\n",
    "from openfermion.ops import QubitOperator\n",
    "\n",
    "def H2_ansatz(theta):\n",
    "    HF_circ = [cirq.X.on(cirq.LineQubit(0)), cirq.X.on(cirq.LineQubit(1))]\n",
    "    \n",
    "    full_exp_circ_obj = full_exponentiated_PauliWord_circuit(QubitOperator('Y0 X1 X2 X3', 0.25j), theta)\n",
    "    UCCSD_circ = cirq.Circuit(cirq.decompose_once((full_exp_circ_obj(*cirq.LineQubit.range(full_exp_circ_obj.num_qubits())))))\n",
    "    full_circuit = cirq.Circuit([*HF_circ, *UCCSD_circ.all_operations()])\n",
    "    \n",
    "    return full_circuit\n",
    "    \n",
    "H2_ansatz(np.pi)               "
   ]
  },
  {
   "cell_type": "code",
   "execution_count": 37,
   "metadata": {},
   "outputs": [
    {
     "name": "stdout",
     "output_type": "stream",
     "text": [
      "0: Input_to_Funct: [2.15]: Output: -0.0986436631766118\n",
      "1: Input_to_Funct: [2.15]: Output: -0.12175254906730307\n",
      "2: Input_to_Funct: [2.15]: Output: -0.1160101736302532\n",
      "3: Input_to_Funct: [2.15]: Output: -0.09293229602263614\n",
      "4: Input_to_Funct: [2.15]: Output: -0.0789768105078713\n",
      "5: Input_to_Funct: [2.15]: Output: -0.08734183320031416\n",
      "6: Input_to_Funct: [2.15]: Output: -0.1097757665175724\n",
      "7: Input_to_Funct: [2.15]: Output: -0.08507364271659842\n",
      "8: Input_to_Funct: [2.15]: Output: -0.09318681735206893\n",
      "9: Input_to_Funct: [2.15]: Output: -0.09987859860828453\n",
      "10: Input_to_Funct: [2.15]: Output: -0.11370448443981102\n",
      "11: Input_to_Funct: [2.15]: Output: -0.0932696300281047\n",
      "12: Input_to_Funct: [2.14998779]: Output: -0.1231236989933294\n",
      "13: Input_to_Funct: [2.14998779]: Output: -0.06748287644760673\n",
      "14: Input_to_Funct: [2.14998779]: Output: -0.0895866900296069\n",
      "15: Input_to_Funct: [2.14998779]: Output: -0.10000979457424397\n",
      "16: Input_to_Funct: [2.14998779]: Output: -0.08764809418848404\n",
      "17: Input_to_Funct: [2.14998779]: Output: -0.10730652634873775\n",
      "18: Input_to_Funct: [2.14998779]: Output: -0.10560079800989622\n",
      "19: Input_to_Funct: [2.14998779]: Output: -0.11214651721367616\n",
      "20: Input_to_Funct: [2.14998779]: Output: -0.10413289175869121\n",
      "21: Input_to_Funct: [2.14998779]: Output: -0.0987994177273199\n",
      "22: Input_to_Funct: [2.14998779]: Output: -0.09686651684580355\n",
      "23: Input_to_Funct: [2.14998779]: Output: -0.09626172950976776\n",
      "24: Input_to_Funct: [2.14998779]: Output: -0.09405212164863092\n",
      "25: Input_to_Funct: [2.14998779]: Output: -0.10947307728840956\n",
      "26: Input_to_Funct: [2.14998779]: Output: -0.09877319445995557\n",
      "27: Input_to_Funct: [2.14998779]: Output: -0.11367823376426192\n",
      "28: Input_to_Funct: [2.14998779]: Output: -0.0784545056491771\n",
      "29: Input_to_Funct: [2.14998779]: Output: -0.07742329734520234\n",
      "30: Input_to_Funct: [2.14998779]: Output: -0.10338176050832437\n",
      "31: Input_to_Funct: [2.14998779]: Output: -0.11424413492642492\n",
      "32: Input_to_Funct: [2.14998779]: Output: -0.09851722645200643\n",
      "33: Input_to_Funct: [2.14998779]: Output: -0.09582829842134971\n",
      "34: Input_to_Funct: [2.14998779]: Output: -0.1119797257123939\n",
      "35: Input_to_Funct: [2.14998779]: Output: -0.09380110106055725\n",
      "36: Input_to_Funct: [2.14998779]: Output: -0.10620180466121246\n",
      "37: Input_to_Funct: [2.14998779]: Output: -0.09761062340525004\n",
      "38: Input_to_Funct: [2.14998779]: Output: -0.08832783458674952\n",
      "39: Input_to_Funct: [2.14998779]: Output: -0.10685264450057495\n",
      "40: Input_to_Funct: [2.14998779]: Output: -0.11546033195702404\n",
      "41: Input_to_Funct: [2.14998779]: Output: -0.10390384999805688\n",
      "42: Input_to_Funct: [2.14998779]: Output: -0.1223443856678082\n",
      "43: Input_to_Funct: [2.14998779]: Output: -0.0976911060120157\n",
      "44: Input_to_Funct: [2.14998779]: Output: -0.0740937717656317\n",
      "45: Input_to_Funct: [2.14998779]: Output: -0.10996445340629517\n",
      "46: Input_to_Funct: [2.14998779]: Output: -0.098394804040482\n",
      "47: Input_to_Funct: [2.14998779]: Output: -0.12637765732149375\n",
      "48: Input_to_Funct: [2.14998779]: Output: -0.10407067804270326\n",
      "Warning: Maximum number of iterations has been exceeded.\n",
      "Reason for termination is Maximum number of iterations has been exceeded.\n"
     ]
    },
    {
     "data": {
      "image/png": "[encoded data removed]",
      "text/plain": [
       "<Figure size 432x288 with 1 Axes>"
      ]
     },
     "metadata": {
      "needs_background": "light"
     },
     "output_type": "display_data"
    }
   ],
   "source": [
    "n_shots=1000\n",
    "\n",
    "def GIVE_ENERGY(THETA):\n",
    "   \n",
    "    ansatz_cirq_circuit = H2_ansatz(THETA)\n",
    "\n",
    "    VQE_exp = VQE_Experiment(QubitHam, ansatz_cirq_circuit, n_shots)\n",
    "\n",
    "    return VQE_exp.Calc_Energy()\n",
    "\n",
    "from quchem.Scipy_Optimizer import *\n",
    "THETA_params=[2]\n",
    "GG = Optimizer(GIVE_ENERGY, THETA_params, 'Nelder-Mead', store_values=True, display_iter_steps=True,\n",
    "               tol=1e-5,\n",
    "               display_convergence_message=True)\n",
    "GG.get_env(50)\n",
    "GG.plot_convergence()\n",
    "plt.show()"
   ]
  },
  {
   "cell_type": "code",
   "execution_count": 38,
   "metadata": {},
   "outputs": [],
   "source": [
    "def expectation_value_by_parityWRONG(binary_counter_result):\n",
    "    \"\"\"\n",
    "\n",
    "    < Z >  = (num_0 - num_1) / total_num_measurements = (num_0 - num_1) / (num_0 + num_1)\n",
    "\n",
    "    note that for multiple qubits one multiplies <Z> on each line. Therefore can calculate value from parity\n",
    "    of output bit string\n",
    "\n",
    "    :param binary_counter_result:\n",
    "    :type binary_counter_result: dict\n",
    "    e.g.\n",
    "        {\n",
    "            1: {'11': 10000},\n",
    "            2: {'10': 9998, '01': 2},\n",
    "            3: {'10': 10000},\n",
    "            4: {'10': 10000},\n",
    "            5: {'10': 10000},\n",
    "            6: {'00': 9995, '01': 4, '10': 1},\n",
    "            7: {'1': 9334, '0': 666},\n",
    "            8: {'1': 9351, '0': 649},\n",
    "            9: {'0': 9606, '1': 394},\n",
    "            10: {'0': 9594, '1': 406}\n",
    "        }\n",
    "\n",
    "    :return: expectation value <Z>\n",
    "    :rtype: float\n",
    "    \"\"\"\n",
    "    n_0 =0\n",
    "    n_1 =0\n",
    "    for state in binary_counter_result:\n",
    "        for bit in state:\n",
    "            if int(bit) == 0:\n",
    "                n_0 += binary_counter_result[state]\n",
    "            elif int(bit) == 1:\n",
    "                n_1 += binary_counter_result[state]\n",
    "            else:\n",
    "                raise ValueError('{} is not a bit'.format(bit))\n",
    "            \n",
    "    expectation_value = (n_0-n_1) / (n_0+n_1)\n",
    "    return expectation_value"
   ]
  },
  {
   "cell_type": "code",
   "execution_count": 39,
   "metadata": {},
   "outputs": [],
   "source": [
    "class VQE_Experiment():\n",
    "    def __init__(self, qubitHamiltonian, ansatz_circuit, n_shots):\n",
    "        self.qubitHamiltonian = qubitHamiltonian\n",
    "        self.ansatz_circuit = ansatz_circuit\n",
    "        self.n_shots = n_shots\n",
    "\n",
    "    def Calc_Energy(self):\n",
    "\n",
    "        E_list=[]\n",
    "        for qubitOp in self.qubitHamiltonian:\n",
    "            for PauliWord, const in qubitOp.terms.items():\n",
    "                if PauliWord is not ():\n",
    "                    Q_circuit = Generate_Full_Q_Circuit(self.ansatz_circuit, qubitOp)\n",
    "                    \n",
    "                    print(Q_circuit)\n",
    "                    print(qubitOp)\n",
    "                    print('')\n",
    "                    \n",
    "                    hist_key_str = Get_Histogram_key(qubitOp)\n",
    "                    int_state_counter = Simulate_Quantum_Circuit(Q_circuit, self.n_shots, hist_key_str)\n",
    "                    binary_state_counter = Return_as_binary(int_state_counter, hist_key_str)\n",
    "                    exp_result = expectation_value_by_parityWRONG(binary_state_counter)\n",
    "                    print(exp_result)\n",
    "                    E_list.append(exp_result*const)\n",
    "                    \n",
    "                    print(binary_state_counter)\n",
    "                    \n",
    "                    print('')\n",
    "                    print('')\n",
    "                    print('###')\n",
    "                else:\n",
    "                    E_list.append(const)\n",
    "        print(E_list)\n",
    "        return sum(E_list).real\n",
    "\n",
    "    def Get_wavefunction_of_state(self, sig_figs=3):\n",
    "        return Get_wavefunction(self.ansatz_circuit, sig_figs=sig_figs)\n"
   ]
  },
  {
   "cell_type": "code",
   "execution_count": 40,
   "metadata": {},
   "outputs": [
    {
     "name": "stdout",
     "output_type": "stream",
     "text": [
      "0: ───X───Rx(0.5π)───@────────────────────────────X───Rx(-0.5π)───M───\n",
      "                     │                            │\n",
      "1: ───X───H──────────X───@────────────────────X───@───H───────────────\n",
      "                         │                    │\n",
      "2: ───H──────────────────X───@────────────X───@───H───────────────────\n",
      "                             │            │\n",
      "3: ───H──────────────────────X───Rz(-π)───@───H───────────────────────\n",
      "(0.17141282639402405+0j) [Z0]\n",
      "\n",
      "0.0088\n",
      "{'1': 4956, '0': 5044}\n",
      "\n",
      "\n",
      "###\n",
      "0: ───X───Rx(0.5π)───@────────────────────────────X───Rx(-0.5π)───────\n",
      "                     │                            │\n",
      "1: ───X───H──────────X───@────────────────────X───@───H───────────M───\n",
      "                         │                    │\n",
      "2: ───H──────────────────X───@────────────X───@───H───────────────────\n",
      "                             │            │\n",
      "3: ───H──────────────────────X───Rz(-π)───@───H───────────────────────\n",
      "(0.171412826394024+0j) [Z1]\n",
      "\n",
      "-0.0104\n",
      "{'1': 5052, '0': 4948}\n",
      "\n",
      "\n",
      "###\n",
      "0: ───X───Rx(0.5π)───@────────────────────────────X───Rx(-0.5π)───\n",
      "                     │                            │\n",
      "1: ───X───H──────────X───@────────────────────X───@───H───────────\n",
      "                         │                    │\n",
      "2: ───H──────────────────X───@────────────X───@───H───M───────────\n",
      "                             │            │\n",
      "3: ───H──────────────────────X───Rz(-π)───@───H───────────────────\n",
      "(-0.2234315367466397+0j) [Z2]\n",
      "\n",
      "-1.0\n",
      "{'1': 10000}\n",
      "\n",
      "\n",
      "###\n",
      "0: ───X───Rx(0.5π)───@────────────────────────────X───Rx(-0.5π)───\n",
      "                     │                            │\n",
      "1: ───X───H──────────X───@────────────────────X───@───H───────────\n",
      "                         │                    │\n",
      "2: ───H──────────────────X───@────────────X───@───H───────────────\n",
      "                             │            │\n",
      "3: ───H──────────────────────X───Rz(-π)───@───H───M───────────────\n",
      "(-0.2234315367466397+0j) [Z3]\n",
      "\n",
      "-1.0\n",
      "{'1': 10000}\n",
      "\n",
      "\n",
      "###\n",
      "0: ───X───Rx(0.5π)───@────────────────────────────X───Rx(-0.5π)───M───\n",
      "                     │                            │               │\n",
      "1: ───X───H──────────X───@────────────────────X───@───H───────────M───\n",
      "                         │                    │\n",
      "2: ───H──────────────────X───@────────────X───@───H───────────────────\n",
      "                             │            │\n",
      "3: ───H──────────────────────X───Rz(-π)───@───H───────────────────────\n",
      "(0.1686889816869329+0j) [Z0 Z1]\n",
      "\n",
      "0.0066\n",
      "{'10': 2556, '01': 2510, '00': 2500, '11': 2434}\n",
      "\n",
      "\n",
      "###\n",
      "0: ───X───Rx(0.5π)───@────────────────────────────X───────────Rx(-0.5π)───Rx(-0.5π)───M───\n",
      "                     │                            │                                   │\n",
      "1: ───X───H──────────X───@────────────────────X───@───────────H───────────H───────────M───\n",
      "                         │                    │                                       │\n",
      "2: ───H──────────────────X───@────────────X───@───H───────────H───────────────────────M───\n",
      "                             │            │                                           │\n",
      "3: ───H──────────────────────X───Rz(-π)───@───H───Rx(-0.5π)───────────────────────────M───\n",
      "(0.04530261550868928+0j) [Y0 X1 X2 Y3]\n",
      "\n",
      "-0.00375\n",
      "{'1001': 652, '1010': 643, '0111': 621, '1101': 672, '0100': 637, '0001': 623, '0011': 666, '1011': 597, '0110': 644, '1000': 579, '1100': 581, '0010': 666, '1110': 598, '0101': 599, '1111': 634, '0000': 588}\n",
      "\n",
      "\n",
      "###\n",
      "0: ───X───Rx(0.5π)───@────────────────────────────X───Rx(-0.5π)───Rx(-0.5π)───M───\n",
      "                     │                            │                           │\n",
      "1: ───X───H──────────X───@────────────────────X───@───H───────────Rx(-0.5π)───M───\n",
      "                         │                    │                               │\n",
      "2: ───H──────────────────X───@────────────X───@───H───H───────────────────────M───\n",
      "                             │            │                                   │\n",
      "3: ───H──────────────────────X───Rz(-π)───@───H───H───────────────────────────M───\n",
      "(-0.04530261550868928+0j) [Y0 Y1 X2 X3]\n",
      "\n",
      "0.00455\n",
      "{'1010': 1244, '0100': 1256, '1011': 1192, '1000': 1281, '0101': 1242, '1001': 1267, '0111': 1254, '0110': 1264}\n",
      "\n",
      "\n",
      "###\n",
      "0: ───X───Rx(0.5π)───@────────────────────────────X───────────Rx(-0.5π)───H───M───\n",
      "                     │                            │                           │\n",
      "1: ───X───H──────────X───@────────────────────X───@───────────H───────────H───M───\n",
      "                         │                    │                               │\n",
      "2: ───H──────────────────X───@────────────X───@───H───────────Rx(-0.5π)───────M───\n",
      "                             │            │                                   │\n",
      "3: ───H──────────────────────X───Rz(-π)───@───H───Rx(-0.5π)───────────────────M───\n",
      "(-0.04530261550868928+0j) [X0 X1 Y2 Y3]\n",
      "\n",
      "-0.00195\n",
      "{'0110': 636, '1101': 617, '1001': 638, '0111': 632, '1011': 622, '1000': 673, '0010': 672, '0000': 602, '1010': 638, '0100': 611, '1110': 681, '1100': 595, '0011': 634, '0101': 602, '1111': 598, '0001': 549}\n",
      "\n",
      "\n",
      "###\n",
      "0: ───X───Rx(0.5π)───@────────────────────────────X───Rx(-0.5π)───H───────────M───\n",
      "                     │                            │                           │\n",
      "1: ───X───H──────────X───@────────────────────X───@───H───────────Rx(-0.5π)───M───\n",
      "                         │                    │                               │\n",
      "2: ───H──────────────────X───@────────────X───@───H───Rx(-0.5π)───────────────M───\n",
      "                             │            │                                   │\n",
      "3: ───H──────────────────────X───Rz(-π)───@───H───H───────────────────────────M───\n",
      "(0.04530261550868928+0j) [X0 Y1 Y2 X3]\n",
      "\n",
      "0.0006\n",
      "{'0000': 654, '1011': 612, '0001': 639, '1000': 620, '0011': 649, '1100': 632, '0010': 606, '1111': 620, '0111': 609, '0100': 596, '0101': 637, '0110': 595, '1001': 610, '1010': 625, '1101': 673, '1110': 623}\n",
      "\n",
      "\n",
      "###\n",
      "0: ───X───Rx(0.5π)───@────────────────────────────X───Rx(-0.5π)───M───\n",
      "                     │                            │               │\n",
      "1: ───X───H──────────X───@────────────────────X───@───H───────────┼───\n",
      "                         │                    │                   │\n",
      "2: ───H──────────────────X───@────────────X───@───H───────────────M───\n",
      "                             │            │\n",
      "3: ───H──────────────────────X───Rz(-π)───@───H───────────────────────\n",
      "(0.12062523481381837+0j) [Z0 Z2]\n",
      "\n",
      "-0.5047\n",
      "{'01': 4953, '11': 5047}\n",
      "\n",
      "\n",
      "###\n",
      "0: ───X───Rx(0.5π)───@────────────────────────────X───Rx(-0.5π)───M───\n",
      "                     │                            │               │\n",
      "1: ───X───H──────────X───@────────────────────X───@───H───────────┼───\n",
      "                         │                    │                   │\n",
      "2: ───H──────────────────X───@────────────X───@───H───────────────┼───\n",
      "                             │            │                       │\n",
      "3: ───H──────────────────────X───Rz(-π)───@───H───────────────────M───\n",
      "(0.16592785032250768+0j) [Z0 Z3]\n",
      "\n",
      "-0.4966\n",
      "{'11': 4966, '01': 5034}\n",
      "\n",
      "\n",
      "###\n",
      "0: ───X───Rx(0.5π)───@────────────────────────────X───Rx(-0.5π)───────\n",
      "                     │                            │\n",
      "1: ───X───H──────────X───@────────────────────X───@───H───────────M───\n",
      "                         │                    │                   │\n",
      "2: ───H──────────────────X───@────────────X───@───H───────────────M───\n",
      "                             │            │\n",
      "3: ───H──────────────────────X───Rz(-π)───@───H───────────────────────\n",
      "(0.16592785032250768+0j) [Z1 Z2]\n",
      "\n",
      "-0.4973\n",
      "{'01': 5027, '11': 4973}\n",
      "\n",
      "\n",
      "###\n",
      "0: ───X───Rx(0.5π)───@────────────────────────────X───Rx(-0.5π)───────\n",
      "                     │                            │\n",
      "1: ───X───H──────────X───@────────────────────X───@───H───────────M───\n",
      "                         │                    │                   │\n",
      "2: ───H──────────────────X───@────────────X───@───H───────────────┼───\n",
      "                             │            │                       │\n",
      "3: ───H──────────────────────X───Rz(-π)───@───H───────────────────M───\n",
      "(0.12062523481381837+0j) [Z1 Z3]\n",
      "\n",
      "-0.491\n",
      "{'11': 4910, '01': 5090}\n",
      "\n",
      "\n",
      "###\n",
      "0: ───X───Rx(0.5π)───@────────────────────────────X───Rx(-0.5π)───\n",
      "                     │                            │\n",
      "1: ───X───H──────────X───@────────────────────X───@───H───────────\n",
      "                         │                    │\n",
      "2: ───H──────────────────X───@────────────X───@───H───M───────────\n",
      "                             │            │           │\n",
      "3: ───H──────────────────────X───Rz(-π)───@───H───────M───────────\n",
      "(0.174412876106516+0j) [Z2 Z3]\n",
      "\n"
     ]
    },
    {
     "name": "stdout",
     "output_type": "stream",
     "text": [
      "-1.0\n",
      "{'11': 10000}\n",
      "\n",
      "\n",
      "###\n",
      "[(-0.09706626861762624+0j), (0.0015084328722674118+0j), (-0.0017826933944978494+0j), (0.2234315367466397-0j), (0.2234315367466397-0j), (0.0011133472791337571+0j), (-0.0001698848081575848+0j), (-0.00020612690056453624+0j), (8.83401002419441e-05-0j), (2.7181569305213567e-05+0j), (-0.06087955601053414+0j), (-0.08239977047015731+0j), (-0.08251591996538307+0j), (-0.059226990293584816+0j), (-0.174412876106516+0j)]\n"
     ]
    },
    {
     "data": {
      "text/plain": [
       "-0.1090597112527938"
      ]
     },
     "execution_count": 40,
     "metadata": {},
     "output_type": "execute_result"
    }
   ],
   "source": [
    "ansatz = H2_ansatz(2*np.pi) \n",
    "xx = VQE_Experiment(QubitHam, ansatz, 10000)\n",
    "xx.Calc_Energy()"
   ]
  },
  {
   "cell_type": "code",
   "execution_count": 20,
   "metadata": {},
   "outputs": [],
   "source": [
    "#TODO\n",
    "# write maths of PauliMeasurement!\n",
    "# something is off!!!"
   ]
  },
  {
   "cell_type": "markdown",
   "metadata": {},
   "source": [
    "$$ U_{UCCSD}|HF\\rangle = |\\psi_{UCCSD}\\rangle$$ "
   ]
  },
  {
   "cell_type": "markdown",
   "metadata": {},
   "source": [
    "$$ E =  \\langle \\psi_{UCCSD}| H |\\psi_{UCCSD}\\rangle$$ \n",
    "\n",
    "$$H = \\sum_{i} \\alpha_{i} P_{i}$$ \n",
    "\n",
    "$$ E_{i} =  \\langle \\psi_{UCCSD}| P_{i} |\\psi_{UCCSD}\\rangle$$ "
   ]
  },
  {
   "cell_type": "markdown",
   "metadata": {},
   "source": [
    "$$ E_{i} =  \\langle \\psi_{UCCSD}| P_{i} |\\psi_{UCCSD}\\rangle = M_{z} U_{i}|\\psi_{UCCSD}\\rangle$$ \n",
    "\n",
    "- where : $ U_{i}$ is a change of basis of $P_{i}$ to Z basis\n",
    "\n",
    "AKA requires the following **single** qubit transforms:\n",
    "\n",
    "$$X|\\pm\\rangle = ZH|\\pm\\rangle = Z|0/1\\rangle$$ \n",
    "\n",
    "$$Y|i\\pm \\rangle = ZR_{x}\\big(-\\frac{\\pi}{2} \\big)|i\\pm\\rangle = Z|0/1\\rangle$$ \n",
    "\n",
    "- note $Z$ here is a measurement in Z basis!"
   ]
  },
  {
   "cell_type": "markdown",
   "metadata": {},
   "source": [
    "overall we are doing\n",
    "\n",
    "$$ E_{i} =  P_{i} |\\psi_{UCCSD}\\rangle = M_{z} U_{i}|\\psi_{UCCSD}\\rangle = M_{z}|\\psi_{P_{i}}\\rangle = \\langle\\psi_{P_{i}}|M_{z}^{\\dagger} M_{z}|\\psi_{P_{i}}\\rangle $$ "
   ]
  },
  {
   "cell_type": "code",
   "execution_count": null,
   "metadata": {},
   "outputs": [],
   "source": []
  },
  {
   "cell_type": "code",
   "execution_count": null,
   "metadata": {},
   "outputs": [],
   "source": []
  },
  {
   "cell_type": "code",
   "execution_count": null,
   "metadata": {},
   "outputs": [],
   "source": []
  },
  {
   "cell_type": "markdown",
   "metadata": {},
   "source": [
    "$$P|\\psi_{UCCSD}\\rangle$$ "
   ]
  },
  {
   "cell_type": "markdown",
   "metadata": {},
   "source": [
    "$$X|\\pm\\rangle = ZH|\\pm\\rangle = Z|0/1\\rangle$$ \n",
    "\n",
    "$$Y|i\\pm \\rangle = ZR_{x}\\big(\\frac{\\pi}{2} \\big)|i\\pm\\rangle = Z|0/1\\rangle$$ "
   ]
  },
  {
   "cell_type": "code",
   "execution_count": null,
   "metadata": {},
   "outputs": [],
   "source": []
  },
  {
   "cell_type": "code",
   "execution_count": 21,
   "metadata": {},
   "outputs": [
    {
     "data": {
      "text/plain": [
       "Counter({0: 47, 1: 53})"
      ]
     },
     "execution_count": 21,
     "metadata": {},
     "output_type": "execute_result"
    }
   ],
   "source": [
    "circuit = cirq.Circuit(cirq.H(cirq.LineQubit(1)),cirq.X(cirq.LineQubit(1)), cirq.measure(cirq.LineQubit(1)))\n",
    "\n",
    "simulator = cirq.Simulator()\n",
    "raw_result = simulator.run(circuit, repetitions=100)\n",
    "hist_result = raw_result.histogram(key='1')\n",
    "hist_result"
   ]
  },
  {
   "cell_type": "code",
   "execution_count": null,
   "metadata": {},
   "outputs": [],
   "source": []
  },
  {
   "cell_type": "code",
   "execution_count": 22,
   "metadata": {},
   "outputs": [
    {
     "name": "stdout",
     "output_type": "stream",
     "text": [
      "Counter({0: 61, 3: 39})\n",
      "{'00': 61, '11': 39}\n",
      "1.0\n",
      "[ 0.707+0.j -0.   +0.j  0.   +0.j  0.707+0.j]\n"
     ]
    },
    {
     "data": {
      "text/plain": [
       "array([ 0.70710677+0.j, -0.        +0.j,  0.        +0.j,  0.70710677+0.j],\n",
       "      dtype=complex64)"
      ]
     },
     "execution_count": 22,
     "metadata": {},
     "output_type": "execute_result"
    }
   ],
   "source": [
    "circuit = cirq.Circuit(cirq.H(cirq.LineQubit(1)),\n",
    "                       cirq.CNOT(cirq.LineQubit(1),cirq.LineQubit(2)),\n",
    "                       cirq.measure(cirq.LineQubit(1),cirq.LineQubit(2)))\n",
    "simulator = cirq.Simulator()\n",
    "raw_result = simulator.run(circuit, repetitions=100)\n",
    "hist_result = raw_result.histogram(key='1,2')\n",
    "print(hist_result)\n",
    "\n",
    "bin_dict = Return_as_binary(hist_result, '1,2')\n",
    "\n",
    "print(bin_dict)\n",
    "\n",
    "print(expectation_value_by_parity(bin_dict))\n",
    "\n",
    "Get_wavefunction(circuit, sig_figs=3)"
   ]
  },
  {
   "cell_type": "code",
   "execution_count": 23,
   "metadata": {},
   "outputs": [
    {
     "name": "stdout",
     "output_type": "stream",
     "text": [
      "Counter({0: 512, 2: 488})\n",
      "{'00': 512, '10': 488}\n",
      "0.024\n",
      "[0.707+0.j 0.707+0.j]\n"
     ]
    },
    {
     "data": {
      "text/plain": [
       "array([0.70710677+0.j, 0.70710677+0.j], dtype=complex64)"
      ]
     },
     "execution_count": 23,
     "metadata": {},
     "output_type": "execute_result"
    }
   ],
   "source": [
    "circuit = cirq.Circuit(cirq.H(cirq.LineQubit(1)),\n",
    "                       cirq.X(cirq.LineQubit(1)),\n",
    "                       cirq.measure(cirq.LineQubit(1),cirq.LineQubit(2)))\n",
    "simulator = cirq.Simulator()\n",
    "raw_result = simulator.run(circuit, repetitions=1000)\n",
    "hist_result = raw_result.histogram(key='1,2')\n",
    "print(hist_result)\n",
    "\n",
    "bin_dict = Return_as_binary(hist_result, '1,2')\n",
    "\n",
    "print(bin_dict)\n",
    "\n",
    "print(expectation_value_by_parity(bin_dict))\n",
    "\n",
    "Get_wavefunction(circuit, sig_figs=3)"
   ]
  },
  {
   "cell_type": "code",
   "execution_count": 24,
   "metadata": {},
   "outputs": [
    {
     "data": {
      "text/plain": [
       "0.474"
      ]
     },
     "execution_count": 24,
     "metadata": {},
     "output_type": "execute_result"
    }
   ],
   "source": [
    "((526+474*2)-526)/((526+474*2)+526)"
   ]
  },
  {
   "cell_type": "code",
   "execution_count": 25,
   "metadata": {},
   "outputs": [
    {
     "data": {
      "text/plain": [
       "-0.052"
      ]
     },
     "execution_count": 25,
     "metadata": {},
     "output_type": "execute_result"
    }
   ],
   "source": [
    "(474-526)/(474+526)"
   ]
  }
 ],
 "metadata": {
  "kernelspec": {
   "display_name": "Python 3",
   "language": "python",
   "name": "python3"
  },
  "language_info": {
   "codemirror_mode": {
    "name": "ipython",
    "version": 3
   },
   "file_extension": ".py",
   "mimetype": "text/x-python",
   "name": "python",
   "nbconvert_exporter": "python",
   "pygments_lexer": "ipython3",
   "version": "3.7.6"
  }
 },
 "nbformat": 4,
 "nbformat_minor": 2
}
