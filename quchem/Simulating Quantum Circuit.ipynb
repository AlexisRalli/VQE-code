{
 "cells": [
  {
   "cell_type": "code",
   "execution_count": 1,
   "metadata": {},
   "outputs": [
    {
     "name": "stdout",
     "output_type": "stream",
     "text": [
      "0: ───X──────────H──────────@───────────────────────────────────────@──────────H───────────Ry(-0.5π)───M───\n",
      "                            │                                       │                                  │\n",
      "1: ───X──────────Rx(0.5π)───X───@───────────────────────@───────────X──────────Rx(-0.5π)───Ry(-0.5π)───M───\n",
      "                                │                       │                                              │\n",
      "2: ─────────────────────────────X───@───────────────@───X──────────────────────────────────────────────┼───\n",
      "                                    │               │                                                  │\n",
      "3: ───Rx(0.5π)──────────────────────X───Rz(-0.5π)───X───Rx(-0.5π)───Rx(0.5π)───────────────────────────M───\n"
     ]
    }
   ],
   "source": [
    "from quchem.Simulating_Quantum_Circuit import *\n",
    "from quchem.Ansatz_Generator_Functions import *\n",
    "from openfermion.ops import QubitOperator\n",
    "HF_circ = [cirq.X.on(cirq.LineQubit(0)), cirq.X.on(cirq.LineQubit(1))]\n",
    "x = QubitOperator('X0 Y1 Z2 Y3', 0.25j)\n",
    "theta = np.pi\n",
    "full_exp_circ_obj = full_exponentiated_PauliWord_circuit(x, theta)\n",
    "UCCSD_circ = cirq.Circuit(cirq.decompose_once((full_exp_circ_obj(*cirq.LineQubit.range(full_exp_circ_obj.num_qubits())))))\n",
    "YY = QubitOperator('X0 X1 Y3', 0.25j)\n",
    "pauliword_change_and_measure_obj = change_pauliword_to_Z_basis_then_measure(YY)\n",
    "P_measure = cirq.Circuit(cirq.decompose_once((pauliword_change_and_measure_obj(*cirq.LineQubit.range(pauliword_change_and_measure_obj.num_qubits())))))\n",
    "\n",
    "full_circuit = cirq.Circuit([*HF_circ, *UCCSD_circ.all_operations(), *P_measure.all_operations()])\n",
    "print(full_circuit)"
   ]
  },
  {
   "cell_type": "markdown",
   "metadata": {},
   "source": [
    "## Get_Histogram_key"
   ]
  },
  {
   "cell_type": "code",
   "execution_count": 2,
   "metadata": {},
   "outputs": [
    {
     "data": {
      "text/plain": [
       "'0,1,3'"
      ]
     },
     "execution_count": 2,
     "metadata": {},
     "output_type": "execute_result"
    }
   ],
   "source": [
    "YY = QubitOperator('X0 X1 Y3', 0.25j)\n",
    "Get_Histogram_key(YY)"
   ]
  },
  {
   "cell_type": "code",
   "execution_count": null,
   "metadata": {},
   "outputs": [],
   "source": []
  },
  {
   "cell_type": "markdown",
   "metadata": {},
   "source": [
    "## Simulate_Quantum_Circuit"
   ]
  },
  {
   "cell_type": "code",
   "execution_count": 3,
   "metadata": {},
   "outputs": [
    {
     "data": {
      "text/plain": [
       "Counter({0: 256, 5: 244, 6: 245, 3: 255})"
      ]
     },
     "execution_count": 3,
     "metadata": {},
     "output_type": "execute_result"
    }
   ],
   "source": [
    "num_shots = 1000\n",
    "YY = QubitOperator('X0 X1 Y3', 0.25j)\n",
    "\n",
    "histogram_string= Get_Histogram_key(YY)\n",
    "Simulate_Quantum_Circuit(full_circuit, num_shots, histogram_string)"
   ]
  },
  {
   "cell_type": "markdown",
   "metadata": {},
   "source": [
    "## Get_wavefunction"
   ]
  },
  {
   "cell_type": "code",
   "execution_count": 4,
   "metadata": {},
   "outputs": [
    {
     "data": {
      "text/plain": [
       "array([[ 0.   +0.j   ],\n",
       "       [ 0.   +0.707j],\n",
       "       [ 0.   +0.j   ],\n",
       "       [ 0.   +0.j   ],\n",
       "       [ 0.   +0.j   ],\n",
       "       [ 0.   +0.j   ],\n",
       "       [ 0.   +0.j   ],\n",
       "       [ 0.   +0.j   ],\n",
       "       [ 0.   +0.j   ],\n",
       "       [-0.   +0.j   ],\n",
       "       [-0.   +0.j   ],\n",
       "       [-0.   +0.j   ],\n",
       "       [ 0.707+0.j   ],\n",
       "       [-0.   +0.j   ],\n",
       "       [-0.   +0.j   ],\n",
       "       [-0.   +0.j   ]], dtype=complex64)"
      ]
     },
     "execution_count": 4,
     "metadata": {},
     "output_type": "execute_result"
    }
   ],
   "source": [
    "YY = QubitOperator('X0 X1 Y3', 0.25j)\n",
    "\n",
    "cirq_NO_M = cirq.Circuit([*HF_circ, *UCCSD_circ.all_operations()])\n",
    "\n",
    "histogram_string= Get_Histogram_key(YY)\n",
    "Get_wavefunction(cirq_NO_M, sig_figs=3)"
   ]
  },
  {
   "cell_type": "markdown",
   "metadata": {},
   "source": [
    "## Return_as_binary"
   ]
  },
  {
   "cell_type": "code",
   "execution_count": 5,
   "metadata": {},
   "outputs": [
    {
     "data": {
      "text/plain": [
       "{'011': 224, '101': 268, '000': 266, '110': 242}"
      ]
     },
     "execution_count": 5,
     "metadata": {},
     "output_type": "execute_result"
    }
   ],
   "source": [
    "num_shots = 1000\n",
    "YY = QubitOperator('X0 X1 Y3', 0.25j)\n",
    "\n",
    "histogram_string= Get_Histogram_key(YY)\n",
    "c_result = Simulate_Quantum_Circuit(full_circuit, num_shots, histogram_string)\n",
    "Return_as_binary(c_result, histogram_string)"
   ]
  },
  {
   "cell_type": "code",
   "execution_count": null,
   "metadata": {},
   "outputs": [],
   "source": []
  },
  {
   "cell_type": "markdown",
   "metadata": {},
   "source": [
    "## expectation_value_by_parity"
   ]
  },
  {
   "cell_type": "code",
   "execution_count": 6,
   "metadata": {},
   "outputs": [
    {
     "data": {
      "text/plain": [
       "1.0"
      ]
     },
     "execution_count": 6,
     "metadata": {},
     "output_type": "execute_result"
    }
   ],
   "source": [
    "num_shots = 10000\n",
    "YY = QubitOperator('X0 X1 Y3', 0.25j)\n",
    "\n",
    "histogram_string= Get_Histogram_key(YY)\n",
    "c_result = Simulate_Quantum_Circuit(full_circuit, num_shots, histogram_string)\n",
    "b_result = Return_as_binary(c_result, histogram_string)\n",
    "\n",
    "expectation_value_by_parity(b_result)"
   ]
  },
  {
   "cell_type": "code",
   "execution_count": 7,
   "metadata": {},
   "outputs": [
    {
     "name": "stdout",
     "output_type": "stream",
     "text": [
      "1: ───H───@───M───\n",
      "          │   │\n",
      "2: ───────X───M───\n",
      "\n",
      "state = (1/2^0.5)|00〉+ (1/2^0.5)|11〉\n",
      "\n",
      "{'11': 488, '00': 512}\n",
      "\n",
      "<ZZ> =  1.0\n"
     ]
    }
   ],
   "source": [
    "circuit = cirq.Circuit(cirq.H(cirq.LineQubit(1)),\n",
    "                       cirq.CNOT(cirq.LineQubit(1),cirq.LineQubit(2)),\n",
    "                       cirq.measure(cirq.LineQubit(1),cirq.LineQubit(2)))\n",
    "print(circuit)\n",
    "\n",
    "print('')\n",
    "print('state = (1/2^0.5)|00〉+ (1/2^0.5)|11〉')\n",
    "\n",
    "simulator = cirq.Simulator()\n",
    "raw_result = simulator.run(circuit, repetitions=1000)\n",
    "hist_result = raw_result.histogram(key='1,2')\n",
    "print('')\n",
    "#print(hist_result)\n",
    "bin_dict = Return_as_binary(hist_result, '1,2')\n",
    "print(bin_dict)\n",
    "\n",
    "print('')\n",
    "print('<ZZ> = ', expectation_value_by_parity(bin_dict))\n",
    "#Get_wavefunction(circuit, sig_figs=3)"
   ]
  },
  {
   "cell_type": "code",
   "execution_count": 8,
   "metadata": {},
   "outputs": [
    {
     "name": "stdout",
     "output_type": "stream",
     "text": [
      "1: ───H───@───X───M───\n",
      "          │   │   │\n",
      "2: ───────X───@───M───\n",
      "\n",
      "state = (1/2^0.5)|00〉+ (1/2^0.5)|01〉\n",
      "\n",
      "{'00': 482, '01': 518}\n",
      "\n",
      "<ZZ> =  -0.036\n"
     ]
    }
   ],
   "source": [
    "circuit = cirq.Circuit(cirq.H(cirq.LineQubit(1)),\n",
    "                       cirq.CNOT(cirq.LineQubit(1),cirq.LineQubit(2)),\n",
    "                       cirq.CNOT(cirq.LineQubit(2),cirq.LineQubit(1)),\n",
    "                       cirq.measure(cirq.LineQubit(1),cirq.LineQubit(2)))\n",
    "print(circuit)\n",
    "\n",
    "print('')\n",
    "print('state = (1/2^0.5)|00〉+ (1/2^0.5)|01〉')\n",
    "\n",
    "simulator = cirq.Simulator()\n",
    "raw_result = simulator.run(circuit, repetitions=1000)\n",
    "hist_result = raw_result.histogram(key='1,2')\n",
    "print('')\n",
    "#print(hist_result)\n",
    "bin_dict = Return_as_binary(hist_result, '1,2')\n",
    "print(bin_dict)\n",
    "\n",
    "print('')\n",
    "print('<ZZ> = ', expectation_value_by_parity(bin_dict))\n",
    "#Get_wavefunction(circuit, sig_figs=3)"
   ]
  },
  {
   "cell_type": "code",
   "execution_count": 9,
   "metadata": {},
   "outputs": [
    {
     "name": "stdout",
     "output_type": "stream",
     "text": [
      "1: ───H───M───\n",
      "          │\n",
      "2: ───H───M───\n",
      "          │\n",
      "3: ───X───M───\n",
      "\n",
      "state = (1/2)|001〉+ (1/2)|011〉+ (1/2)|101〉+ (1/2)|111〉\n",
      "\n",
      "{'111': 24795, '001': 25127, '011': 25022, '101': 25056}\n",
      "\n",
      "<ZZ> =  0.00156\n"
     ]
    }
   ],
   "source": [
    "circuit = cirq.Circuit(cirq.H(cirq.LineQubit(1)),\n",
    "                       cirq.H(cirq.LineQubit(2)),\n",
    "                       cirq.X(cirq.LineQubit(3)),\n",
    "                       cirq.measure(cirq.LineQubit(1),cirq.LineQubit(2),cirq.LineQubit(3)))\n",
    "print(circuit)\n",
    "\n",
    "print('')\n",
    "print('state = (1/2)|001〉+ (1/2)|011〉+ (1/2)|101〉+ (1/2)|111〉')\n",
    "\n",
    "simulator = cirq.Simulator()\n",
    "raw_result = simulator.run(circuit, repetitions=100000)\n",
    "hist_result = raw_result.histogram(key='1,2,3')\n",
    "print('')\n",
    "#print(hist_result)\n",
    "bin_dict = Return_as_binary(hist_result, '1,2,3')\n",
    "print(bin_dict)\n",
    "\n",
    "print('')\n",
    "print('<ZZ> = ', expectation_value_by_parity(bin_dict))\n",
    "#Get_wavefunction(circuit, sig_figs=3)"
   ]
  },
  {
   "cell_type": "code",
   "execution_count": null,
   "metadata": {},
   "outputs": [],
   "source": [
    "# # wrong method!\n",
    "\n",
    "# def expectation_value_by_parityWRONG(binary_counter_result, constant):\n",
    "#     \"\"\"\n",
    "\n",
    "#     < Z >  = (num_0 - num_1) / total_num_measurements = (num_0 - num_1) / (num_0 + num_1)\n",
    "\n",
    "#     note that for multiple qubits one multiplies <Z> on each line. Therefore can calculate value from parity\n",
    "#     of output bit string\n",
    "\n",
    "#     :param binary_counter_result:\n",
    "#     :type binary_counter_result: dict\n",
    "#     e.g.\n",
    "#         {'000': 1295,\n",
    "#          '101': 1216,\n",
    "#          '100': 1270,\n",
    "#          '110': 1247,\n",
    "#          '001': 1263,\n",
    "#          '011': 1211,\n",
    "#          '010': 1226,\n",
    "#          '111': 1272\n",
    "#          }\n",
    "\n",
    "#     :return: expectation value <Z>\n",
    "#     :rtype: float\n",
    "#     \"\"\"\n",
    "    \n",
    "#     qubit_expectation_dict = {}\n",
    "    \n",
    "#     for state in binary_counter_result:\n",
    "#         for qubit_index, bit in enumerate(state):\n",
    "#             if qubit_index in qubit_expectation_dict:\n",
    "#                 if int(bit) == 0:\n",
    "#                     qubit_expectation_dict[qubit_index]['No_zeros']+= binary_counter_result[state]\n",
    "#                 elif int(bit) == 1:\n",
    "#                     qubit_expectation_dict[qubit_index]['No_ones']+= binary_counter_result[state]\n",
    "#                 else:\n",
    "#                     raise ValueError('{} is not a bit'.format(bit))\n",
    "                    \n",
    "#             else:\n",
    "#                 qubit_expectation_dict[qubit_index]= {'No_zeros':0, 'No_ones':0}\n",
    "                \n",
    "#                 if int(bit) == 0:\n",
    "#                     qubit_expectation_dict[qubit_index]['No_zeros']+= binary_counter_result[state]\n",
    "#                 elif int(bit) == 1:\n",
    "#                     qubit_expectation_dict[qubit_index]['No_ones']+= binary_counter_result[state]\n",
    "#                 else:\n",
    "#                     raise ValueError('{} is not a bit'.format(bit))\n",
    "                    \n",
    "                    \n",
    "#     #print(qubit_expectation_dict)\n",
    "#     exp_list=[]\n",
    "#     for qubit_index in qubit_expectation_dict:\n",
    "#         expectation_value = (qubit_expectation_dict[qubit_index]['No_zeros']-qubit_expectation_dict[qubit_index]['No_ones'])/(qubit_expectation_dict[qubit_index]['No_zeros']+qubit_expectation_dict[qubit_index]['No_ones'])\n",
    "        \n",
    "#         E_i = expectation_value * constant\n",
    "#         exp_list.append(E_i)\n",
    "#     print(exp_list)\n",
    "#     return sum(exp_list)\n",
    "\n",
    "\n",
    "# b_result_test = {'000': 1000,\n",
    "#          '100': 1000,\n",
    "#          }\n",
    "\n",
    "# expectation_value_by_parityWRONG(b_result_test,0.5)"
   ]
  },
  {
   "cell_type": "code",
   "execution_count": null,
   "metadata": {},
   "outputs": [],
   "source": [
    "# wrong method!\n",
    "from functools import reduce \n",
    "def expectation_value_by_parityWRONG(binary_counter_result):\n",
    "    \"\"\"\n",
    "\n",
    "    < Z >  = (num_0 - num_1) / total_num_measurements = (num_0 - num_1) / (num_0 + num_1)\n",
    "\n",
    "    note that for multiple qubits one multiplies <Z> on each line. Therefore can calculate value from parity\n",
    "    of output bit string\n",
    "\n",
    "    :param binary_counter_result:\n",
    "    :type binary_counter_result: dict\n",
    "    e.g.\n",
    "        {'000': 1295,\n",
    "         '101': 1216,\n",
    "         '100': 1270,\n",
    "         '110': 1247,\n",
    "         '001': 1263,\n",
    "         '011': 1211,\n",
    "         '010': 1226,\n",
    "         '111': 1272\n",
    "         }\n",
    "\n",
    "    :return: expectation value <Z>\n",
    "    :rtype: float\n",
    "    \"\"\"\n",
    "    \n",
    "    qubit_expectation_dict = {}\n",
    "    \n",
    "    for state in binary_counter_result:\n",
    "        for qubit_index, bit in enumerate(state):\n",
    "            if qubit_index in qubit_expectation_dict:\n",
    "                if int(bit) == 0:\n",
    "                    qubit_expectation_dict[qubit_index]['No_zeros']+= binary_counter_result[state]\n",
    "                elif int(bit) == 1:\n",
    "                    qubit_expectation_dict[qubit_index]['No_ones']+= binary_counter_result[state]\n",
    "                else:\n",
    "                    raise ValueError('{} is not a bit'.format(bit))\n",
    "                    \n",
    "            else:\n",
    "                qubit_expectation_dict[qubit_index]= {'No_zeros':0, 'No_ones':0}\n",
    "                \n",
    "                if int(bit) == 0:\n",
    "                    qubit_expectation_dict[qubit_index]['No_zeros']+= binary_counter_result[state]\n",
    "                elif int(bit) == 1:\n",
    "                    qubit_expectation_dict[qubit_index]['No_ones']+= binary_counter_result[state]\n",
    "                else:\n",
    "                    raise ValueError('{} is not a bit'.format(bit))\n",
    "                    \n",
    "                    \n",
    "    #print(qubit_expectation_dict)\n",
    "    exp_list=[]\n",
    "    for qubit_index in qubit_expectation_dict:\n",
    "        expectation_value = (qubit_expectation_dict[qubit_index]['No_zeros']-qubit_expectation_dict[qubit_index]['No_ones'])/(qubit_expectation_dict[qubit_index]['No_zeros']+qubit_expectation_dict[qubit_index]['No_ones'])\n",
    "        \n",
    "        E_i = expectation_value\n",
    "        exp_list.append(E_i)\n",
    "    print(exp_list)\n",
    "    return reduce(lambda x, y: x * y, exp_list)\n",
    "\n",
    "\n",
    "b_result_test = {'000': 1000,\n",
    "         '010': 800,\n",
    "         }\n",
    "\n",
    "expectation_value_by_parityWRONG(b_result_test)"
   ]
  },
  {
   "cell_type": "code",
   "execution_count": null,
   "metadata": {},
   "outputs": [],
   "source": []
  },
  {
   "cell_type": "code",
   "execution_count": null,
   "metadata": {},
   "outputs": [],
   "source": [
    "# class VQE_Experiment():\n",
    "#     def __init__(self, qubitHamiltonian, ansatz_circuit, n_shots):\n",
    "#         self.qubitHamiltonian = qubitHamiltonian\n",
    "#         self.ansatz_circuit = ansatz_circuit\n",
    "#         self.n_shots = n_shots\n",
    "\n",
    "#     def Calc_Energy(self):\n",
    "\n",
    "#         E_list=[]\n",
    "#         for qubitOp in self.qubitHamiltonian:\n",
    "#             for PauliWord, const in qubitOp.terms.items():\n",
    "#                 if PauliWord is not ():\n",
    "#                     Q_circuit = Generate_Full_Q_Circuit(self.ansatz_circuit, qubitOp)\n",
    "#                     hist_key_str = Get_Histogram_key(qubitOp)\n",
    "#                     int_state_counter = Simulate_Quantum_Circuit(Q_circuit, self.n_shots, hist_key_str)\n",
    "#                     binary_state_counter = Return_as_binary(int_state_counter, hist_key_str)\n",
    "#                     exp_result = expectation_value_by_parityWRONG(binary_state_counter,const) #CHANGE HERE\n",
    "#                     E_list.append(exp_result)\n",
    "                    \n",
    "# #                     print(binary_state_counter)\n",
    "# #                     print(const)\n",
    "                    \n",
    "# #                     print(exp_result)\n",
    "# #                     print('###')\n",
    "# #                     print('')\n",
    "                    \n",
    "#                 else:\n",
    "#                     E_list.append(const)\n",
    "#         return sum(E_list).real\n",
    "\n",
    "#     def Get_wavefunction_of_state(self, sig_figs=3):\n",
    "#         return Get_wavefunction(self.ansatz_circuit, sig_figs=sig_figs)"
   ]
  },
  {
   "cell_type": "code",
   "execution_count": 10,
   "metadata": {},
   "outputs": [],
   "source": [
    "from quchem.quantum_circuit_functions import Generate_Full_Q_Circuit\n",
    "class VQE_Experiment():\n",
    "    def __init__(self, qubitHamiltonian, ansatz_circuit, n_shots):\n",
    "        self.qubitHamiltonian = qubitHamiltonian\n",
    "        self.ansatz_circuit = ansatz_circuit\n",
    "        self.n_shots = n_shots\n",
    "\n",
    "    def Calc_Energy(self):\n",
    "\n",
    "        E_list=[]\n",
    "        for qubitOp in self.qubitHamiltonian:\n",
    "            for PauliWord, const in qubitOp.terms.items():\n",
    "                if PauliWord is not ():\n",
    "                    Q_circuit = Generate_Full_Q_Circuit(self.ansatz_circuit, qubitOp)\n",
    "                    hist_key_str = Get_Histogram_key(qubitOp)\n",
    "                    int_state_counter = Simulate_Quantum_Circuit(Q_circuit, self.n_shots, hist_key_str)\n",
    "                    binary_state_counter = Return_as_binary(int_state_counter, hist_key_str)\n",
    "                    exp_result = expectation_value_by_parity(binary_state_counter)\n",
    "                    \n",
    "                    print(qubitOp)\n",
    "                    term_to_add = (exp_result*const)\n",
    "                    print(exp_result, const, '==>', term_to_add)\n",
    "                    print('')\n",
    "                    E_list.append(term_to_add)\n",
    "                else:\n",
    "                    E_list.append(const)\n",
    "        return sum(E_list).real\n",
    "\n",
    "    def Get_wavefunction_of_state(self, sig_figs=3):\n",
    "        return Get_wavefunction(self.ansatz_circuit, sig_figs=sig_figs)\n",
    "\n"
   ]
  },
  {
   "cell_type": "markdown",
   "metadata": {},
   "source": [
    "|ΨH2g〉= 0.9939|0011〉−0.1106|1100〉\n",
    "\n",
    "<Z0> = (0.9939**2)*1+(0.1106**2)*-1"
   ]
  },
  {
   "cell_type": "code",
   "execution_count": null,
   "metadata": {},
   "outputs": [],
   "source": [
    "(0.9939**2)*1+(0.1106**2)*-1"
   ]
  },
  {
   "cell_type": "code",
   "execution_count": null,
   "metadata": {},
   "outputs": [],
   "source": []
  },
  {
   "cell_type": "code",
   "execution_count": null,
   "metadata": {},
   "outputs": [],
   "source": [
    "Coefficient_list = [1/np.sqrt(2), 0, 1/np.sqrt(2), 0]\n",
    "num_qub = 2\n",
    "alpha_j = Get_state_prep_dict(num_qub, Coefficient_list=Coefficient_list)\n",
    "state_circ = State_Prep_Circuit(alpha_j)\n",
    "circuit = (cirq.Circuit(cirq.decompose_once((state_circ(*cirq.LineQubit.range(state_circ.num_qubits()))))))\n",
    "VQE_exp = VQE_Experiment(QubitHam, circuit, n_shots)\n",
    "VQE_exp.Get_wavefunction_of_state()\n",
    "alpha_j"
   ]
  },
  {
   "cell_type": "code",
   "execution_count": null,
   "metadata": {},
   "outputs": [],
   "source": [
    "THETA=np.pi/2\n",
    "n_shots=10000\n",
    "\n",
    "ansatz_cirq_circuit = H2_ansatz(THETA)\n",
    "VQE_exp = VQE_Experiment(QubitHam, circuit, n_shots)\n",
    "VQE_exp.Calc_Energy()"
   ]
  },
  {
   "cell_type": "code",
   "execution_count": null,
   "metadata": {},
   "outputs": [],
   "source": [
    "THETA=np.pi/2\n",
    "n_shots=10000\n",
    "\n",
    "ansatz_cirq_circuit = H2_ansatz(THETA)\n",
    "VQE_exp = VQE_Experiment(QubitHam, ansatz_cirq_circuit, n_shots)\n",
    "VQE_exp.Calc_Energy()"
   ]
  },
  {
   "cell_type": "code",
   "execution_count": null,
   "metadata": {},
   "outputs": [],
   "source": [
    "\n",
    "n_shots=1000\n",
    "\n",
    "def GIVE_ENERGY(THETA):\n",
    "   \n",
    "    ansatz_cirq_circuit = H2_ansatz(THETA)\n",
    "\n",
    "    VQE_exp = VQE_Experiment(QubitHam, ansatz_cirq_circuit, n_shots)\n",
    "\n",
    "    return VQE_exp.Calc_Energy()\n",
    "### full angle scan\n",
    "\n",
    "import matplotlib.pyplot as plt\n",
    "%matplotlib inline\n",
    "\n",
    "theta_list = np.arange(0,2*np.pi, 0.1)\n",
    "\n",
    "E_list = [GIVE_ENERGY(theta) for theta in theta_list]\n",
    "\n",
    "plt.plot(E_list)\n",
    "print(min(E_list))"
   ]
  },
  {
   "cell_type": "code",
   "execution_count": 11,
   "metadata": {},
   "outputs": [],
   "source": [
    "from quchem.Hamiltonian_Generator_Functions import *\n",
    "### Parameters\n",
    "Molecule = 'H2'\n",
    "geometry = [('H', (0., 0., 0.)), ('H', (0., 0., 0.74))]\n",
    "basis = 'sto-3g'\n",
    "\n",
    "### Get Hamiltonian\n",
    "Hamilt = Hamiltonian(Molecule,\n",
    "                     run_scf=1, run_mp2=1, run_cisd=1, run_ccsd=1, run_fci=1,\n",
    "                     basis=basis,\n",
    "                     multiplicity=1,\n",
    "                     geometry=geometry)  # normally None!\n",
    "\n",
    "Hamilt.Get_Molecular_Hamiltonian(Get_H_matrix=False)\n",
    "QubitHam = Hamilt.Get_Qubit_Hamiltonian(transformation='JW')\n",
    "\n",
    "ansatz_obj = Ansatz(Hamilt.molecule.n_electrons, Hamilt.molecule.n_qubits)\n",
    "\n",
    "Sec_Quant_CC_ia_ops, Sec_Quant_CC_ijab_ops, theta_parameters_ia, theta_parameters_ijab = ansatz_obj.Get_ia_and_ijab_terms()\n",
    "\n",
    "Qubit_Op_list_Second_Quant_CC_Ops_ia, Qubit_Op_list_Second_Quant_CC_Ops_ijab = ansatz_obj.UCCSD_single_trotter_step(Sec_Quant_CC_ia_ops, Sec_Quant_CC_ijab_ops,\n",
    "                                                                                                                    transformation='JW')\n",
    "\n",
    "full_ansatz_Q_Circ = Ansatz_Circuit(Qubit_Op_list_Second_Quant_CC_Ops_ia, Qubit_Op_list_Second_Quant_CC_Ops_ijab,\n",
    "             Hamilt.molecule.n_qubits, Hamilt.molecule.n_electrons)\n",
    "\n",
    "ansatz_cirq_circuit = full_ansatz_Q_Circ.Get_Full_HF_UCCSD_QC(theta_parameters_ia, theta_parameters_ijab)"
   ]
  },
  {
   "cell_type": "code",
   "execution_count": null,
   "metadata": {},
   "outputs": [],
   "source": [
    "QubitHam"
   ]
  },
  {
   "cell_type": "markdown",
   "metadata": {},
   "source": [
    "$$\\begin{aligned} H &=h_{0} I+h_{1} Z_{0}+h_{2} Z_{1}+h_{3} Z_{2}+h_{4} Z_{3} \\\\ &+h_{5} Z_{0} Z_{1}+h_{6} Z_{0} Z_{2}+h_{7} Z_{1} Z_{2}+h_{8} Z_{0} Z_{3}+h_{9} Z_{1} Z_{3} \\\\ &+h_{10} Z_{2} Z_{3}+h_{11} Y_{0} Y_{1} X_{2} X_{3}+h_{12} X_{0} Y_{1} Y_{2} X_{3} \\\\ &+h_{13} Y_{0} X_{1} X_{2} Y_{3}+h_{14} X_{0} X_{1} Y_{2} Y_{3} \\end{aligned}$$"
   ]
  },
  {
   "cell_type": "code",
   "execution_count": null,
   "metadata": {},
   "outputs": [],
   "source": []
  },
  {
   "cell_type": "code",
   "execution_count": null,
   "metadata": {},
   "outputs": [],
   "source": []
  },
  {
   "cell_type": "code",
   "execution_count": null,
   "metadata": {},
   "outputs": [],
   "source": []
  },
  {
   "cell_type": "code",
   "execution_count": null,
   "metadata": {},
   "outputs": [],
   "source": []
  },
  {
   "cell_type": "code",
   "execution_count": null,
   "metadata": {},
   "outputs": [],
   "source": []
  },
  {
   "cell_type": "code",
   "execution_count": null,
   "metadata": {},
   "outputs": [],
   "source": []
  },
  {
   "cell_type": "code",
   "execution_count": null,
   "metadata": {},
   "outputs": [],
   "source": [
    "Sec_Quant_CC_ijab_ops"
   ]
  },
  {
   "cell_type": "code",
   "execution_count": null,
   "metadata": {},
   "outputs": [],
   "source": [
    "from openfermion.transforms import jordan_wigner\n",
    "\n",
    "Second_Quant_CC_single_Trot_list_ijab=[]\n",
    "\n",
    "for OP in Sec_Quant_CC_ijab_ops:\n",
    "    JW_OP = jordan_wigner(OP)\n",
    "    Second_Quant_CC_single_Trot_list_ijab.append(JW_OP)\n",
    "Second_Quant_CC_single_Trot_list_ijab"
   ]
  },
  {
   "cell_type": "code",
   "execution_count": null,
   "metadata": {},
   "outputs": [],
   "source": [
    "ansatz_obj.Get_JW_HF_state()"
   ]
  },
  {
   "cell_type": "code",
   "execution_count": null,
   "metadata": {},
   "outputs": [],
   "source": [
    "from numpy import kron\n",
    "import numpy as np\n",
    "from functools import reduce\n",
    "zero = np.array([[1], [0]])\n",
    "one = np.array([[0], [1]])\n",
    "STATE=[one,one,zero,zero]\n",
    "reduce(kron, STATE)"
   ]
  },
  {
   "cell_type": "code",
   "execution_count": null,
   "metadata": {},
   "outputs": [],
   "source": [
    "HF_reference_ket= reduce(kron, STATE)\n",
    "\n",
    "\n",
    "from openfermion.transforms import get_sparse_operator\n",
    "UCCSD_QubitOp = QubitOperator('Y0 X1 X2 X3', -1j)\n",
    "UCCSD_operator = get_sparse_operator(UCCSD_QubitOp)"
   ]
  },
  {
   "cell_type": "code",
   "execution_count": null,
   "metadata": {},
   "outputs": [],
   "source": [
    "pauliDict={'X':np.array([[0,1],[1,0]]),\n",
    "          'Y':np.array([[0,-1j],[1j,0]]),\n",
    "          'Z':np.array([[1,0],[0,-1]]),\n",
    "          'I': np.eye(2)}\n",
    "pauliDict"
   ]
  },
  {
   "cell_type": "code",
   "execution_count": null,
   "metadata": {},
   "outputs": [],
   "source": [
    "list_of_ops = [pauliDict[term[0]] for term in 'Y0 X1 X2 X3'.split(' ')]\n",
    "matrix = reduce(kron, list_of_ops) *-1j\n",
    "\n",
    "np.array_equal(UCCSD_operator.todense(), matrix)"
   ]
  },
  {
   "cell_type": "code",
   "execution_count": null,
   "metadata": {},
   "outputs": [],
   "source": []
  },
  {
   "cell_type": "code",
   "execution_count": null,
   "metadata": {},
   "outputs": [],
   "source": [
    "theta=np.pi/2\n",
    "ansatz_state_ket = scipy.sparse.linalg.expm_multiply(theta*UCCSD_operator, HF_reference_ket)\n",
    "ansatz_state_ket"
   ]
  },
  {
   "cell_type": "code",
   "execution_count": null,
   "metadata": {},
   "outputs": [],
   "source": [
    "pauliDict_convert={'X':cirq.ry(-np.pi/2)._unitary_(),\n",
    "          'Y':cirq.rx(np.pi/2)._unitary_(),\n",
    "          'Z':np.eye(2),\n",
    "          'I': np.zeros([2,2])}\n",
    "pauliDict_convert"
   ]
  },
  {
   "cell_type": "code",
   "execution_count": null,
   "metadata": {},
   "outputs": [],
   "source": [
    "reference_ket= reduce(kron, STATE)\n",
    "new_state = scipy.sparse.linalg.expm_multiply(generator, reference_ket)"
   ]
  },
  {
   "cell_type": "code",
   "execution_count": null,
   "metadata": {},
   "outputs": [],
   "source": []
  },
  {
   "cell_type": "code",
   "execution_count": null,
   "metadata": {},
   "outputs": [],
   "source": []
  },
  {
   "cell_type": "code",
   "execution_count": null,
   "metadata": {},
   "outputs": [],
   "source": []
  },
  {
   "cell_type": "code",
   "execution_count": null,
   "metadata": {},
   "outputs": [],
   "source": []
  },
  {
   "cell_type": "code",
   "execution_count": null,
   "metadata": {},
   "outputs": [],
   "source": []
  },
  {
   "cell_type": "code",
   "execution_count": null,
   "metadata": {},
   "outputs": [],
   "source": [
    "n_shots= 1000\n",
    "\n",
    "VQE_exp = VQE_Experiment(QubitHam, ansatz_cirq_circuit, n_shots)\n",
    "VQE_exp.Calc_Energy()"
   ]
  },
  {
   "cell_type": "code",
   "execution_count": null,
   "metadata": {},
   "outputs": [],
   "source": [
    "n_shots=1000\n",
    "\n",
    "def GIVE_ENERGY(theta_ia_theta_jab_list):\n",
    "    theta_ia = theta_ia_theta_jab_list[:len(theta_parameters_ia)]\n",
    "    theta_ijab = theta_ia_theta_jab_list[len(theta_parameters_ia):]\n",
    "    \n",
    "    ansatz_cirq_circuit = full_ansatz_Q_Circ.Get_Full_HF_UCCSD_QC(theta_parameters_ia, theta_parameters_ijab)\n",
    "\n",
    "    VQE_exp = VQE_Experiment(QubitHam, ansatz_cirq_circuit, n_shots)\n",
    "    \n",
    "\n",
    "    return VQE_exp.Calc_Energy()\n",
    "\n",
    "### optimizer\n",
    "from quchem.Scipy_Optimizer import *\n",
    "# THETA_params = [*theta_parameters_ia, *theta_parameters_ijab]\n",
    "THETA_params=[1,2,3]\n",
    "GG = Optimizer(GIVE_ENERGY, THETA_params, 'Nelder-Mead', store_values=True, display_iter_steps=True,\n",
    "               tol=1e-5,\n",
    "               display_convergence_message=True)\n",
    "GG.get_env(50)\n",
    "GG.plot_convergence()\n",
    "plt.show()"
   ]
  },
  {
   "cell_type": "code",
   "execution_count": null,
   "metadata": {},
   "outputs": [],
   "source": [
    "Qubit_Op_list_Second_Quant_CC_Ops_ia"
   ]
  },
  {
   "cell_type": "code",
   "execution_count": null,
   "metadata": {},
   "outputs": [],
   "source": [
    "# from quchem.quantum_circuit_functions import Generate_Full_Q_Circuit\n",
    "\n",
    "\n",
    "# class VQE_Experiment():\n",
    "#     def __init__(self, qubitHamiltonian, ansatz_circuit, n_shots):\n",
    "#         self.qubitHamiltonian = qubitHamiltonian\n",
    "#         self.ansatz_circuit = ansatz_circuit\n",
    "#         self.n_shots = n_shots\n",
    "\n",
    "#     def Calc_Energy(self):\n",
    "#         t_results=[]\n",
    "#         E_list=[]\n",
    "#         for qubitOp in self.qubitHamiltonian:\n",
    "#             for PauliWord, const in qubitOp.terms.items():\n",
    "#                 if PauliWord is not ():\n",
    "                    \n",
    "#                     Q_circuit = Generate_Full_Q_Circuit(self.ansatz_circuit, qubitOp)\n",
    "#                     hist_key_str = Get_Histogram_key(qubitOp)\n",
    "#                     int_state_counter = Simulate_Quantum_Circuit(Q_circuit, self.n_shots, hist_key_str)\n",
    "#                     binary_state_counter = Return_as_binary(int_state_counter, hist_key_str)\n",
    "#                     exp_result = expectation_value_by_parity(binary_state_counter)\n",
    "#                     E_list.append(exp_result*const)\n",
    "                    \n",
    "#                     t_results.append((exp_result, const))\n",
    "#                 else:\n",
    "#                     E_list.append(const)\n",
    "#                     t_results.append((1, const))\n",
    "                    \n",
    "                    \n",
    "#         return sum(E_list).real, t_results\n",
    "\n",
    "#     def Get_wavefunction_of_state(self, sig_figs=3):\n",
    "#         return Get_wavefunction(self.ansatz_circuit, sig_figs=sig_figs)\n"
   ]
  },
  {
   "cell_type": "code",
   "execution_count": null,
   "metadata": {},
   "outputs": [],
   "source": [
    "from quchem.Simulating_Quantum_Circuit import *\n",
    "from quchem.Ansatz_Generator_Functions import *\n",
    "from openfermion.ops import QubitOperator\n",
    "\n",
    "def H2_ansatz(theta):\n",
    "    HF_circ = [cirq.X.on(cirq.LineQubit(0)), cirq.X.on(cirq.LineQubit(1))]\n",
    "    \n",
    "    full_exp_circ_obj = full_exponentiated_PauliWord_circuit(QubitOperator('Y0 X1 X2 X3', -1j), theta)\n",
    "    UCCSD_circ = cirq.Circuit(cirq.decompose_once((full_exp_circ_obj(*cirq.LineQubit.range(full_exp_circ_obj.num_qubits())))))\n",
    "    full_circuit = cirq.Circuit([*HF_circ, *UCCSD_circ.all_operations()])\n",
    "    \n",
    "    return full_circuit\n",
    "    \n",
    "H2_ansatz(np.pi)               "
   ]
  },
  {
   "cell_type": "code",
   "execution_count": null,
   "metadata": {},
   "outputs": [],
   "source": []
  },
  {
   "cell_type": "code",
   "execution_count": null,
   "metadata": {},
   "outputs": [],
   "source": [
    "n_shots=1000\n",
    "\n",
    "def GIVE_ENERGY(THETA):\n",
    "   \n",
    "    ansatz_cirq_circuit = H2_ansatz(THETA)\n",
    "\n",
    "    VQE_exp = VQE_Experiment(QubitHam, ansatz_cirq_circuit, n_shots)\n",
    "\n",
    "    return VQE_exp.Calc_Energy()\n"
   ]
  },
  {
   "cell_type": "code",
   "execution_count": null,
   "metadata": {},
   "outputs": [],
   "source": [
    "### full angle scan\n",
    "\n",
    "import matplotlib.pyplot as plt\n",
    "%matplotlib inline\n",
    "\n",
    "theta_list = np.arange(0,2*np.pi, 0.01)\n",
    "\n",
    "E_list = [GIVE_ENERGY(theta) for theta in theta_list]\n",
    "\n",
    "plt.plot(E_list)\n",
    "print(min(E_list))"
   ]
  },
  {
   "cell_type": "code",
   "execution_count": null,
   "metadata": {},
   "outputs": [],
   "source": [
    "## optimzer\n",
    "\n",
    "from quchem.Scipy_Optimizer import *\n",
    "THETA_params=[2]\n",
    "GG = Optimizer(GIVE_ENERGY, THETA_params, 'Nelder-Mead', store_values=True, display_iter_steps=True,\n",
    "               tol=1e-5,\n",
    "               display_convergence_message=True)\n",
    "GG.get_env(50)\n",
    "GG.plot_convergence()\n",
    "plt.show()"
   ]
  },
  {
   "cell_type": "code",
   "execution_count": null,
   "metadata": {},
   "outputs": [],
   "source": [
    "def expectation_value_by_parityWRONG(binary_counter_result):\n",
    "    \"\"\"\n",
    "\n",
    "    < Z >  = (num_0 - num_1) / total_num_measurements = (num_0 - num_1) / (num_0 + num_1)\n",
    "\n",
    "    note that for multiple qubits one multiplies <Z> on each line. Therefore can calculate value from parity\n",
    "    of output bit string\n",
    "\n",
    "    :param binary_counter_result:\n",
    "    :type binary_counter_result: dict\n",
    "    e.g.\n",
    "        {\n",
    "            1: {'11': 10000},\n",
    "            2: {'10': 9998, '01': 2},\n",
    "            3: {'10': 10000},\n",
    "            4: {'10': 10000},\n",
    "            5: {'10': 10000},\n",
    "            6: {'00': 9995, '01': 4, '10': 1},\n",
    "            7: {'1': 9334, '0': 666},\n",
    "            8: {'1': 9351, '0': 649},\n",
    "            9: {'0': 9606, '1': 394},\n",
    "            10: {'0': 9594, '1': 406}\n",
    "        }\n",
    "\n",
    "    :return: expectation value <Z>\n",
    "    :rtype: float\n",
    "    \"\"\"\n",
    "    n_0 =0\n",
    "    n_1 =0\n",
    "    for state in binary_counter_result:\n",
    "        for bit in state:\n",
    "            if int(bit) == 0:\n",
    "                n_0 += binary_counter_result[state]\n",
    "            elif int(bit) == 1:\n",
    "                n_1 += binary_counter_result[state]\n",
    "            else:\n",
    "                raise ValueError('{} is not a bit'.format(bit))\n",
    "            \n",
    "    expectation_value = (n_0-n_1) / (n_0+n_1)\n",
    "    return expectation_value"
   ]
  },
  {
   "cell_type": "code",
   "execution_count": null,
   "metadata": {},
   "outputs": [],
   "source": [
    "class VQE_Experiment():\n",
    "    def __init__(self, qubitHamiltonian, ansatz_circuit, n_shots):\n",
    "        self.qubitHamiltonian = qubitHamiltonian\n",
    "        self.ansatz_circuit = ansatz_circuit\n",
    "        self.n_shots = n_shots\n",
    "\n",
    "    def Calc_Energy(self):\n",
    "\n",
    "        E_list=[]\n",
    "        for qubitOp in self.qubitHamiltonian:\n",
    "            for PauliWord, const in qubitOp.terms.items():\n",
    "                if PauliWord is not ():\n",
    "                    Q_circuit = Generate_Full_Q_Circuit(self.ansatz_circuit, qubitOp)\n",
    "                    \n",
    "                    print(Q_circuit)\n",
    "                    print(qubitOp)\n",
    "                    print('')\n",
    "                    \n",
    "                    hist_key_str = Get_Histogram_key(qubitOp)\n",
    "                    int_state_counter = Simulate_Quantum_Circuit(Q_circuit, self.n_shots, hist_key_str)\n",
    "                    binary_state_counter = Return_as_binary(int_state_counter, hist_key_str)\n",
    "                    exp_result = expectation_value_by_parity(binary_state_counter)\n",
    "                    print(exp_result)\n",
    "                    E_list.append(exp_result*const)\n",
    "                    \n",
    "                    print(binary_state_counter)\n",
    "                    \n",
    "                    print('')\n",
    "                    print('')\n",
    "                    print('###')\n",
    "                else:\n",
    "                    E_list.append(const)\n",
    "        print(E_list)\n",
    "        return sum(E_list).real\n",
    "\n",
    "    def Get_wavefunction_of_state(self, sig_figs=3):\n",
    "        return Get_wavefunction(self.ansatz_circuit, sig_figs=sig_figs)\n"
   ]
  },
  {
   "cell_type": "code",
   "execution_count": null,
   "metadata": {},
   "outputs": [],
   "source": [
    "ansatz = H2_ansatz(np.pi) \n",
    "xx = VQE_Experiment(QubitHam, ansatz, 1000)\n",
    "xx.Calc_Energy()"
   ]
  },
  {
   "cell_type": "code",
   "execution_count": null,
   "metadata": {},
   "outputs": [],
   "source": [
    "#TODO\n",
    "# write maths of PauliMeasurement!\n",
    "# something is off!!!"
   ]
  },
  {
   "cell_type": "markdown",
   "metadata": {},
   "source": [
    "$$ U_{UCCSD}|HF\\rangle = |\\psi_{UCCSD}\\rangle$$ "
   ]
  },
  {
   "cell_type": "markdown",
   "metadata": {},
   "source": [
    "$$ E =  \\langle \\psi_{UCCSD}| H |\\psi_{UCCSD}\\rangle$$ \n",
    "\n",
    "$$H = \\sum_{i} \\alpha_{i} P_{i}$$ \n",
    "\n",
    "$$ E_{i} =  \\langle \\psi_{UCCSD}| P_{i} |\\psi_{UCCSD}\\rangle$$ "
   ]
  },
  {
   "cell_type": "markdown",
   "metadata": {},
   "source": [
    "$$ E_{i} =  \\langle \\psi_{UCCSD}| P_{i} |\\psi_{UCCSD}\\rangle = M_{z} U_{i}|\\psi_{UCCSD}\\rangle$$ \n",
    "\n",
    "- where : $ U_{i}$ is a change of basis of $P_{i}$ to Z basis\n",
    "\n",
    "AKA requires the following **single** qubit transforms:\n",
    "\n",
    "$$X|\\pm\\rangle = ZH|\\pm\\rangle = Z|0/1\\rangle$$ \n",
    "\n",
    "$$Y|i\\pm \\rangle = ZR_{x}\\big(-\\frac{\\pi}{2} \\big)|i\\pm\\rangle = Z|0/1\\rangle$$ \n",
    "\n",
    "- note $Z$ here is a measurement in Z basis!"
   ]
  },
  {
   "cell_type": "markdown",
   "metadata": {},
   "source": [
    "overall we are doing\n",
    "\n",
    "$$ E_{i} =  P_{i} |\\psi_{UCCSD}\\rangle = M_{z} U_{i}|\\psi_{UCCSD}\\rangle = M_{z}|\\psi_{P_{i}}\\rangle = \\langle\\psi_{P_{i}}|M_{z}^{\\dagger} M_{z}|\\psi_{P_{i}}\\rangle $$ "
   ]
  },
  {
   "cell_type": "code",
   "execution_count": null,
   "metadata": {},
   "outputs": [],
   "source": []
  },
  {
   "cell_type": "code",
   "execution_count": null,
   "metadata": {},
   "outputs": [],
   "source": []
  },
  {
   "cell_type": "code",
   "execution_count": null,
   "metadata": {},
   "outputs": [],
   "source": []
  },
  {
   "cell_type": "markdown",
   "metadata": {},
   "source": [
    "$$P|\\psi_{UCCSD}\\rangle$$ "
   ]
  },
  {
   "cell_type": "markdown",
   "metadata": {},
   "source": [
    "$$X|\\pm\\rangle = ZH|\\pm\\rangle = Z|0/1\\rangle$$ \n",
    "\n",
    "$$Y|i\\pm \\rangle = ZR_{x}\\big(\\frac{\\pi}{2} \\big)|i\\pm\\rangle = Z|0/1\\rangle$$ "
   ]
  },
  {
   "cell_type": "code",
   "execution_count": null,
   "metadata": {},
   "outputs": [],
   "source": []
  },
  {
   "cell_type": "code",
   "execution_count": null,
   "metadata": {},
   "outputs": [],
   "source": [
    "circuit = cirq.Circuit(cirq.H(cirq.LineQubit(1)),cirq.X(cirq.LineQubit(1)), cirq.measure(cirq.LineQubit(1)))\n",
    "\n",
    "simulator = cirq.Simulator()\n",
    "raw_result = simulator.run(circuit, repetitions=100)\n",
    "hist_result = raw_result.histogram(key='1')\n",
    "hist_result"
   ]
  },
  {
   "cell_type": "code",
   "execution_count": null,
   "metadata": {},
   "outputs": [],
   "source": []
  },
  {
   "cell_type": "code",
   "execution_count": null,
   "metadata": {},
   "outputs": [],
   "source": [
    "circuit = cirq.Circuit(cirq.H(cirq.LineQubit(1)),\n",
    "                       cirq.CNOT(cirq.LineQubit(1),cirq.LineQubit(2)),\n",
    "                       cirq.measure(cirq.LineQubit(1),cirq.LineQubit(2)))\n",
    "simulator = cirq.Simulator()\n",
    "raw_result = simulator.run(circuit, repetitions=100)\n",
    "hist_result = raw_result.histogram(key='1,2')\n",
    "print(hist_result)\n",
    "\n",
    "bin_dict = Return_as_binary(hist_result, '1,2')\n",
    "\n",
    "print(bin_dict)\n",
    "\n",
    "print(expectation_value_by_parity(bin_dict))\n",
    "\n",
    "Get_wavefunction(circuit, sig_figs=3)"
   ]
  },
  {
   "cell_type": "code",
   "execution_count": null,
   "metadata": {},
   "outputs": [],
   "source": [
    "circuit = cirq.Circuit(cirq.H(cirq.LineQubit(1)),\n",
    "                       cirq.X(cirq.LineQubit(1)),\n",
    "                       cirq.measure(cirq.LineQubit(1),cirq.LineQubit(2)))\n",
    "simulator = cirq.Simulator()\n",
    "raw_result = simulator.run(circuit, repetitions=1000)\n",
    "hist_result = raw_result.histogram(key='1,2')\n",
    "print(hist_result)\n",
    "\n",
    "bin_dict = Return_as_binary(hist_result, '1,2')\n",
    "\n",
    "print(bin_dict)\n",
    "\n",
    "print(expectation_value_by_parity(bin_dict))\n",
    "\n",
    "Get_wavefunction(circuit, sig_figs=3)"
   ]
  },
  {
   "cell_type": "code",
   "execution_count": null,
   "metadata": {},
   "outputs": [],
   "source": [
    "((526+474*2)-526)/((526+474*2)+526)"
   ]
  },
  {
   "cell_type": "code",
   "execution_count": null,
   "metadata": {},
   "outputs": [],
   "source": [
    "(474-526)/(474+526)"
   ]
  },
  {
   "cell_type": "code",
   "execution_count": null,
   "metadata": {},
   "outputs": [],
   "source": []
  },
  {
   "cell_type": "code",
   "execution_count": null,
   "metadata": {},
   "outputs": [],
   "source": []
  },
  {
   "cell_type": "code",
   "execution_count": null,
   "metadata": {},
   "outputs": [],
   "source": []
  },
  {
   "cell_type": "code",
   "execution_count": null,
   "metadata": {},
   "outputs": [],
   "source": []
  },
  {
   "cell_type": "code",
   "execution_count": null,
   "metadata": {},
   "outputs": [],
   "source": [
    "QubitHam"
   ]
  },
  {
   "cell_type": "code",
   "execution_count": null,
   "metadata": {},
   "outputs": [],
   "source": [
    "P_words =[]\n",
    "P_Nos=[]\n",
    "for term in [list(op.terms.keys())[0] for op in QubitHam]:\n",
    "    if term:\n",
    "        P_word=[]\n",
    "        N_list=[]\n",
    "        for N, P in term:\n",
    "            P_word.append(P)\n",
    "            N_list.append(N)\n",
    "        P_Nos.append(N_list)\n",
    "        P_words.append(P_word)\n",
    "\n",
    "print(P_Nos)\n",
    "P_words"
   ]
  },
  {
   "cell_type": "code",
   "execution_count": null,
   "metadata": {},
   "outputs": [],
   "source": [
    "P_Nos"
   ]
  },
  {
   "cell_type": "code",
   "execution_count": null,
   "metadata": {},
   "outputs": [],
   "source": []
  },
  {
   "cell_type": "code",
   "execution_count": null,
   "metadata": {},
   "outputs": [],
   "source": [
    "P_words= [ ['Z', 'I', 'I', 'I'],\n",
    "            ['I', 'Z', 'I', 'I'],\n",
    "            ['I', 'I', 'Z', 'I'],\n",
    "            ['I', 'I', 'I', 'Z'],\n",
    "            ['Z', 'Z', 'I', 'I'],\n",
    "            ['Y', 'X', 'X', 'Y'],\n",
    "            ['Y', 'Y', 'X', 'X'],\n",
    "            ['X', 'X', 'Y', 'Y'],\n",
    "            ['X', 'Y', 'Y', 'X'],\n",
    "            ['Z', 'I', 'Z', 'I'],\n",
    "            ['Z', 'I', 'I', 'Z'],\n",
    "            ['I', 'Z', 'Z', 'I'],\n",
    "            ['I', 'Z', 'I', 'Z'],\n",
    "            ['I', 'I', 'Z', 'Z']]"
   ]
  },
  {
   "cell_type": "code",
   "execution_count": null,
   "metadata": {},
   "outputs": [],
   "source": [
    "pauliDict_convert={'X':cirq.ry(-np.pi/2)._unitary_(),\n",
    "          'Y':cirq.rx(np.pi/2)._unitary_(),\n",
    "          'Z':np.eye(2),\n",
    "          'I': np.zeros([2,2])}\n",
    "pauliDict_convert"
   ]
  },
  {
   "cell_type": "code",
   "execution_count": null,
   "metadata": {},
   "outputs": [],
   "source": [
    "sig_figs =5\n",
    "theta = 3\n",
    "CONSTANT=100\n",
    "i=8\n",
    "\n",
    "### ansatz\n",
    "anastz_circ = H2_ansatz(theta)    \n",
    "simulator = cirq.Simulator()\n",
    "result = simulator.simulate(anastz_circ, qubit_order=anastz_circ.all_qubits())\n",
    "ket_ansatz_state = np.around(result.final_state, sig_figs)\n",
    "\n",
    "bra_ansatz_state = ket_ansatz_state.conj()\n",
    "\n",
    "\n",
    "### term to measure\n",
    "\n",
    "print(P_words[i])\n",
    "from numpy import kron\n",
    "from functools import reduce\n",
    "operator = reduce(kron,[pauliDict_convert[P] for P in P_words[i]])\n",
    "\n",
    "\n",
    "## energy\n",
    "energy = bra_ansatz_state.dot(operator.dot(ket_ansatz_state))*CONSTANT\n",
    "energy"
   ]
  },
  {
   "cell_type": "code",
   "execution_count": null,
   "metadata": {},
   "outputs": [],
   "source": [
    "sig_figs =5\n",
    "theta = 3\n",
    "\n",
    "### ansatz\n",
    "anastz_circ = H2_ansatz(theta)    \n",
    "simulator = cirq.Simulator()\n",
    "result = simulator.simulate(anastz_circ, qubit_order=anastz_circ.all_qubits())\n",
    "ket_ansatz_state = np.around(result.final_state, sig_figs)\n",
    "\n",
    "bra_ansatz_state = ket_ansatz_state.conj()\n",
    "\n",
    "E_list=[]\n",
    "\n",
    "consts = [list(op.terms.values())[0] for op in QubitHam]\n",
    "for const in consts[1:]:\n",
    "    operator = reduce(kron,[pauliDict_convert[P] for P in P_words[i]])\n",
    "    energy = bra_ansatz_state.dot(operator.dot(ket_ansatz_state))*const\n",
    "    E_list.append(energy.real)\n",
    "    print(energy.real)\n",
    "E_list\n",
    "sum(E_list)+[consts[0]]"
   ]
  },
  {
   "cell_type": "code",
   "execution_count": null,
   "metadata": {},
   "outputs": [],
   "source": []
  },
  {
   "cell_type": "code",
   "execution_count": null,
   "metadata": {},
   "outputs": [],
   "source": []
  },
  {
   "cell_type": "code",
   "execution_count": null,
   "metadata": {},
   "outputs": [],
   "source": []
  },
  {
   "cell_type": "code",
   "execution_count": null,
   "metadata": {},
   "outputs": [],
   "source": [
    "circuit = cirq.Circuit(cirq.H(cirq.LineQubit(1)),\n",
    "                       cirq.CNOT(cirq.LineQubit(1),cirq.LineQubit(2)),\n",
    "                       cirq.measure(cirq.LineQubit(2)),\n",
    "                      cirq.X(cirq.LineQubit(1)))\n",
    "\n",
    "print(circuit)\n",
    "\n",
    "simulator = cirq.Simulator()\n",
    "raw_result = simulator.run(circuit, repetitions=1000)\n",
    "hist_result = raw_result.histogram(key='2')\n",
    "print(hist_result)"
   ]
  },
  {
   "cell_type": "code",
   "execution_count": null,
   "metadata": {},
   "outputs": [],
   "source": []
  },
  {
   "cell_type": "code",
   "execution_count": null,
   "metadata": {},
   "outputs": [],
   "source": []
  },
  {
   "cell_type": "code",
   "execution_count": null,
   "metadata": {},
   "outputs": [],
   "source": [
    "class VQE_Experiment():\n",
    "    def __init__(self, qubitHamiltonian, ansatz_circuit, n_shots):\n",
    "        self.qubitHamiltonian = qubitHamiltonian\n",
    "        self.ansatz_circuit = ansatz_circuit\n",
    "        self.n_shots = n_shots\n",
    "\n",
    "    def Calc_Energy(self):\n",
    "\n",
    "        E_list=[]\n",
    "        for qubitOp in self.qubitHamiltonian:\n",
    "            for PauliWord, const in qubitOp.terms.items():\n",
    "                if PauliWord is not ():\n",
    "                    Q_circuit = Generate_Full_Q_Circuit(self.ansatz_circuit, qubitOp)\n",
    "                    \n",
    "                    print(Q_circuit)\n",
    "                    print(qubitOp)\n",
    "                    print('')\n",
    "                    \n",
    "                    hist_key_str = Get_Histogram_key(qubitOp)\n",
    "                    int_state_counter = Simulate_Quantum_Circuit(Q_circuit, self.n_shots, hist_key_str)\n",
    "                    binary_state_counter = Return_as_binary(int_state_counter, hist_key_str)\n",
    "                    exp_result = expectation_value_by_parity(binary_state_counter)\n",
    "                    print(exp_result)\n",
    "                    E_list.append(exp_result*const)\n",
    "                    \n",
    "                    print(binary_state_counter)\n",
    "                    \n",
    "                    print('')\n",
    "                    print('')\n",
    "                    print('###')\n",
    "                else:\n",
    "                    E_list.append(const)\n",
    "        print(E_list)\n",
    "        return sum(E_list).real\n",
    "\n",
    "    def Get_wavefunction_of_state(self, sig_figs=3):\n",
    "        return Get_wavefunction(self.ansatz_circuit, sig_figs=sig_figs)\n"
   ]
  },
  {
   "cell_type": "code",
   "execution_count": null,
   "metadata": {},
   "outputs": [],
   "source": []
  },
  {
   "cell_type": "code",
   "execution_count": null,
   "metadata": {},
   "outputs": [],
   "source": [
    "from quchem.quantum_circuit_functions import *\n",
    "# |Ψ H2〉= 0.9939|0011〉−0.1106|1100〉\n",
    "# |0011〉 = |3〉\n",
    "# |1100〉= |12〉\n",
    "\n",
    "coef = [0., 0., 0., 0.11028503978328148, 0., 0., 0., 0., 0., 0., 0., 0., 0.9939, 0., 0., 0.]\n",
    "n_qubits=4\n",
    "\n",
    "alpha_j = Get_control_parameters(n_qubits, coef) \n",
    "\n",
    "state_circ_obj = State_Prep_Circuit(alpha_j)\n",
    "\n",
    "circuit = (cirq.Circuit(cirq.decompose_once((state_circ_obj(*cirq.LineQubit.range(state_circ_obj.num_qubits()))))))\n",
    "\n",
    "\n",
    "from quchem.Simulating_Quantum_Circuit import Get_wavefunction\n",
    "state= Get_wavefunction(circuit,6)"
   ]
  },
  {
   "cell_type": "code",
   "execution_count": null,
   "metadata": {},
   "outputs": [],
   "source": [
    "from quchem.Ansatz_Generator_Functions import *\n",
    "xx = Ansatz(2,4)\n",
    "# xx.Convert_occ_num_basis_to_basis_state([1,1,0,0])\n",
    "xx.Convert_occ_num_basis_to_basis_state([0,0,1,1])"
   ]
  },
  {
   "cell_type": "code",
   "execution_count": null,
   "metadata": {},
   "outputs": [],
   "source": [
    "n_shots=10000\n",
    "VQE_exp = VQE_Experiment(QubitHam, circuit, n_shots)\n",
    "VQE_exp.Calc_Energy()"
   ]
  },
  {
   "cell_type": "code",
   "execution_count": null,
   "metadata": {},
   "outputs": [],
   "source": [
    "from quchem.quantum_circuit_functions import *\n",
    "# |Ψ H2〉= 0.9939|0011〉−0.1106|1100〉\n",
    "# |0011〉 = |3〉\n",
    "# |1100〉= |12〉\n",
    "\n",
    "coef = [1, 0, 0, 0, 0, 0, 0, 0, 0, 0, 0, 0, 0, 0, 0, 0]\n",
    "n_qubits=4\n",
    "\n",
    "alpha_j = Get_control_parameters(n_qubits, coef) \n",
    "\n",
    "state_circ_obj = State_Prep_Circuit(alpha_j)\n",
    "\n",
    "circuit = (cirq.Circuit(cirq.decompose_once((state_circ_obj(*cirq.LineQubit.range(state_circ_obj.num_qubits()))))))\n",
    "\n",
    "\n",
    "from quchem.Simulating_Quantum_Circuit import Get_wavefunction\n",
    "state= Get_wavefunction(circuit,6)"
   ]
  },
  {
   "cell_type": "code",
   "execution_count": null,
   "metadata": {},
   "outputs": [],
   "source": [
    "xx.Convert_basis_state_to_occ_num_basis(np.array([1., 0., 0., 0, 0., 0., 0., 0., 0., 0., 0., 0., 0., 0., 0., 0.]))"
   ]
  }
 ],
 "metadata": {
  "kernelspec": {
   "display_name": "Python 3",
   "language": "python",
   "name": "python3"
  },
  "language_info": {
   "codemirror_mode": {
    "name": "ipython",
    "version": 3
   },
   "file_extension": ".py",
   "mimetype": "text/x-python",
   "name": "python",
   "nbconvert_exporter": "python",
   "pygments_lexer": "ipython3",
   "version": "3.7.6"
  }
 },
 "nbformat": 4,
 "nbformat_minor": 2
}
