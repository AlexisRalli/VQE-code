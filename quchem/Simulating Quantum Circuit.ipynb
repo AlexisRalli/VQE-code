{
 "cells": [
  {
   "cell_type": "code",
   "execution_count": 86,
   "metadata": {},
   "outputs": [
    {
     "name": "stdout",
     "output_type": "stream",
     "text": [
      "0: ───X──────────H──────────@───────────────────────────────────────X───────────H───────────H───M───\n",
      "                            │                                       │                           │\n",
      "1: ───X──────────Rx(0.5π)───X───@───────────────────────X───────────@───────────Rx(-0.5π)───H───M───\n",
      "                                │                       │                                       │\n",
      "2: ─────────────────────────────X───@───────────────X───@───────────────────────────────────────┼───\n",
      "                                    │               │                                           │\n",
      "3: ───Rx(0.5π)──────────────────────X───Rz(-0.5π)───@───Rx(-0.5π)───Rx(-0.5π)───────────────────M───\n"
     ]
    }
   ],
   "source": [
    "from quchem.Simulating_Quantum_Circuit import *\n",
    "from quchem.Ansatz_Generator_Functions import *\n",
    "from openfermion.ops import QubitOperator\n",
    "HF_circ = [cirq.X.on(cirq.LineQubit(0)), cirq.X.on(cirq.LineQubit(1))]\n",
    "x = QubitOperator('X0 Y1 Z2 Y3', 0.25j)\n",
    "theta = np.pi\n",
    "full_exp_circ_obj = full_exponentiated_PauliWord_circuit(x, theta)\n",
    "UCCSD_circ = cirq.Circuit(cirq.decompose_once((full_exp_circ_obj(*cirq.LineQubit.range(full_exp_circ_obj.num_qubits())))))\n",
    "YY = QubitOperator('X0 X1 Y3', 0.25j)\n",
    "pauliword_change_and_measure_obj = change_pauliword_to_Z_basis_then_measure(YY)\n",
    "P_measure = cirq.Circuit(cirq.decompose_once((pauliword_change_and_measure_obj(*cirq.LineQubit.range(pauliword_change_and_measure_obj.num_qubits())))))\n",
    "\n",
    "full_circuit = cirq.Circuit([*HF_circ, *UCCSD_circ.all_operations(), *P_measure.all_operations()])\n",
    "print(full_circuit)"
   ]
  },
  {
   "cell_type": "markdown",
   "metadata": {},
   "source": [
    "## Get_Histogram_key"
   ]
  },
  {
   "cell_type": "code",
   "execution_count": 87,
   "metadata": {},
   "outputs": [
    {
     "data": {
      "text/plain": [
       "'0,1,3'"
      ]
     },
     "execution_count": 87,
     "metadata": {},
     "output_type": "execute_result"
    }
   ],
   "source": [
    "YY = QubitOperator('X0 X1 Y3', 0.25j)\n",
    "Get_Histogram_key(YY)"
   ]
  },
  {
   "cell_type": "code",
   "execution_count": null,
   "metadata": {},
   "outputs": [],
   "source": []
  },
  {
   "cell_type": "markdown",
   "metadata": {},
   "source": [
    "## Simulate_Quantum_Circuit"
   ]
  },
  {
   "cell_type": "code",
   "execution_count": 105,
   "metadata": {},
   "outputs": [
    {
     "data": {
      "text/plain": [
       "Counter({1: 118, 3: 123, 7: 129, 0: 130, 4: 121, 5: 114, 6: 147, 2: 118})"
      ]
     },
     "execution_count": 105,
     "metadata": {},
     "output_type": "execute_result"
    }
   ],
   "source": [
    "num_shots = 1000\n",
    "YY = QubitOperator('X0 X1 Y3', 0.25j)\n",
    "\n",
    "histogram_string= Get_Histogram_key(YY)\n",
    "Simulate_Quantum_Circuit(full_circuit, num_shots, histogram_string)"
   ]
  },
  {
   "cell_type": "markdown",
   "metadata": {},
   "source": [
    "## Get_wavefunction"
   ]
  },
  {
   "cell_type": "code",
   "execution_count": 106,
   "metadata": {},
   "outputs": [],
   "source": [
    "def Get_wavefunction(quantum_circuit, sig_figs=3):\n",
    "    \"\"\"\n",
    "     Function to simulate quantum circuit and wavefunction\n",
    "\n",
    "    \"\"\"\n",
    "    quantum_circuit_M_gates_removed = quantum_circuit.moments[\n",
    "                                      :-1]  # removes last moment (aka measurement step - which collapses wavefunction)\n",
    "    quantum_circuit_new = cirq.Circuit(quantum_circuit_M_gates_removed)\n",
    "    simulator = cirq.Simulator()\n",
    "    result = simulator.simulate(quantum_circuit_new, qubit_order=quantum_circuit_new.all_qubits())\n",
    "    print(np.around(result.final_state, sig_figs))\n",
    "    return result.final_state"
   ]
  },
  {
   "cell_type": "code",
   "execution_count": 107,
   "metadata": {},
   "outputs": [
    {
     "name": "stdout",
     "output_type": "stream",
     "text": [
      "[-0.25+0.j    0.  +0.25j  0.  -0.25j  0.25+0.j   -0.25+0.j    0.  +0.25j\n",
      "  0.  -0.25j  0.25+0.j    0.  +0.25j  0.25+0.j   -0.25+0.j    0.  -0.25j\n",
      "  0.  -0.25j -0.25+0.j    0.25+0.j    0.  +0.25j]\n"
     ]
    },
    {
     "data": {
      "text/plain": [
       "array([-0.24999997+0.j        ,  0.        +0.24999997j,\n",
       "        0.        -0.24999997j,  0.24999997+0.j        ,\n",
       "       -0.24999997+0.j        ,  0.        +0.24999997j,\n",
       "        0.        -0.24999997j,  0.24999997+0.j        ,\n",
       "        0.        +0.24999997j,  0.24999997+0.j        ,\n",
       "       -0.24999997+0.j        ,  0.        -0.24999997j,\n",
       "        0.        -0.24999997j, -0.24999997+0.j        ,\n",
       "        0.24999997+0.j        ,  0.        +0.24999997j], dtype=complex64)"
      ]
     },
     "execution_count": 107,
     "metadata": {},
     "output_type": "execute_result"
    }
   ],
   "source": [
    "YY = QubitOperator('X0 X1 Y3', 0.25j)\n",
    "\n",
    "histogram_string= Get_Histogram_key(YY)\n",
    "Get_wavefunction(full_circuit, sig_figs=3)"
   ]
  },
  {
   "cell_type": "markdown",
   "metadata": {},
   "source": [
    "## Return_as_binary"
   ]
  },
  {
   "cell_type": "code",
   "execution_count": 110,
   "metadata": {},
   "outputs": [
    {
     "data": {
      "text/plain": [
       "{'110': 131,\n",
       " '101': 128,\n",
       " '011': 129,\n",
       " '001': 128,\n",
       " '000': 116,\n",
       " '010': 130,\n",
       " '100': 116,\n",
       " '111': 122}"
      ]
     },
     "execution_count": 110,
     "metadata": {},
     "output_type": "execute_result"
    }
   ],
   "source": [
    "num_shots = 1000\n",
    "YY = QubitOperator('X0 X1 Y3', 0.25j)\n",
    "\n",
    "histogram_string= Get_Histogram_key(YY)\n",
    "c_result = Simulate_Quantum_Circuit(full_circuit, num_shots, histogram_string)\n",
    "Return_as_binary(c_result, histogram_string)"
   ]
  },
  {
   "cell_type": "code",
   "execution_count": null,
   "metadata": {},
   "outputs": [],
   "source": []
  },
  {
   "cell_type": "markdown",
   "metadata": {},
   "source": [
    "## expectation_value_by_parity"
   ]
  },
  {
   "cell_type": "code",
   "execution_count": 115,
   "metadata": {},
   "outputs": [
    {
     "data": {
      "text/plain": [
       "-0.0023"
      ]
     },
     "execution_count": 115,
     "metadata": {},
     "output_type": "execute_result"
    }
   ],
   "source": [
    "num_shots = 10000\n",
    "YY = QubitOperator('X0 X1 Y3', 0.25j)\n",
    "\n",
    "histogram_string= Get_Histogram_key(YY)\n",
    "c_result = Simulate_Quantum_Circuit(full_circuit, num_shots, histogram_string)\n",
    "b_result = Return_as_binary(c_result, histogram_string)\n",
    "\n",
    "expectation_value_by_parity(b_result)"
   ]
  },
  {
   "cell_type": "code",
   "execution_count": null,
   "metadata": {},
   "outputs": [],
   "source": []
  },
  {
   "cell_type": "code",
   "execution_count": null,
   "metadata": {},
   "outputs": [],
   "source": []
  },
  {
   "cell_type": "code",
   "execution_count": null,
   "metadata": {},
   "outputs": [],
   "source": [
    "def expectation_value_by_parity(binary_counter_result):\n",
    "    \"\"\"\n",
    "\n",
    "    < Z >  = (num_0 - num_1) / total_num_measurements = (num_0 - num_1) / (num_0 + num_1)\n",
    "\n",
    "    note that for multiple qubits one multiplies <Z> on each line. Therefore can calculate value from parity\n",
    "    of output bit string\n",
    "\n",
    "    :param binary_counter_result:\n",
    "    :type binary_counter_result: dict\n",
    "    e.g.\n",
    "        {\n",
    "            1: {'11': 10000},\n",
    "            2: {'10': 9998, '01': 2},\n",
    "            3: {'10': 10000},\n",
    "            4: {'10': 10000},\n",
    "            5: {'10': 10000},\n",
    "            6: {'00': 9995, '01': 4, '10': 1},\n",
    "            7: {'1': 9334, '0': 666},\n",
    "            8: {'1': 9351, '0': 649},\n",
    "            9: {'0': 9606, '1': 394},\n",
    "            10: {'0': 9594, '1': 406}\n",
    "        }\n",
    "\n",
    "    :return: expectation value <Z>\n",
    "    :rtype: float\n",
    "    \"\"\"\n",
    "    Total = 0\n",
    "    total_no_measurements = 0\n",
    "    for state in binary_counter_result:\n",
    "        parity = calc_parity(state)\n",
    "        if parity == 0:\n",
    "            Total += binary_counter_result[state]\n",
    "            total_no_measurements += binary_counter_result[state]\n",
    "        elif parity == 1:\n",
    "            Total -= binary_counter_result[state]\n",
    "            total_no_measurements += binary_counter_result[state]\n",
    "        else:\n",
    "            raise ValueError('state {} not allowed'.format(state))\n",
    "    #print(binary_counter_result, total_no_measurements, Total)\n",
    "    expectation_value = Total / total_no_measurements\n",
    "    return expectation_value"
   ]
  },
  {
   "cell_type": "code",
   "execution_count": 121,
   "metadata": {},
   "outputs": [
    {
     "data": {
      "text/plain": [
       "0.05263157894736842"
      ]
     },
     "execution_count": 121,
     "metadata": {},
     "output_type": "execute_result"
    }
   ],
   "source": [
    "expectation_value_by_parity({'110': 10,\n",
    "                            '111': 90,\n",
    "                            '0': 90})\n"
   ]
  },
  {
   "cell_type": "code",
   "execution_count": 120,
   "metadata": {},
   "outputs": [
    {
     "data": {
      "text/plain": [
       "-0.8947368421052632"
      ]
     },
     "execution_count": 120,
     "metadata": {},
     "output_type": "execute_result"
    }
   ],
   "source": [
    "(10-180)/190"
   ]
  },
  {
   "cell_type": "code",
   "execution_count": 8,
   "metadata": {},
   "outputs": [],
   "source": [
    "from quchem.Hamiltonian_Generator_Functions import *\n",
    "### Parameters\n",
    "Molecule = 'H2'\n",
    "geometry = [('H', (0., 0., 0.)), ('H', (0., 0., 0.74))]\n",
    "basis = 'sto-3g'\n",
    "\n",
    "### Get Hamiltonian\n",
    "Hamilt = Hamiltonian(Molecule,\n",
    "                     run_scf=1, run_mp2=1, run_cisd=1, run_ccsd=1, run_fci=1,\n",
    "                     basis=basis,\n",
    "                     multiplicity=1,\n",
    "                     geometry=geometry)  # normally None!\n",
    "\n",
    "Hamilt.Get_Molecular_Hamiltonian(Get_H_matrix=False)\n",
    "QubitHam = Hamilt.Get_Qubit_Hamiltonian(transformation='JW')\n",
    "\n",
    "ansatz_obj = Ansatz(Hamilt.molecule.n_electrons, Hamilt.molecule.n_qubits)\n",
    "\n",
    "Sec_Quant_CC_ia_ops, Sec_Quant_CC_ijab_ops, theta_parameters_ia, theta_parameters_ijab = ansatz_obj.Get_ia_and_ijab_terms()\n",
    "\n",
    "Qubit_Op_list_Second_Quant_CC_Ops_ia, Qubit_Op_list_Second_Quant_CC_Ops_ijab = ansatz_obj.UCCSD_single_trotter_step(Sec_Quant_CC_ia_ops, Sec_Quant_CC_ijab_ops,\n",
    "                                                                                                                    transformation='JW')\n",
    "\n",
    "full_ansatz_Q_Circ = Ansatz_Circuit(Qubit_Op_list_Second_Quant_CC_Ops_ia, Qubit_Op_list_Second_Quant_CC_Ops_ijab,\n",
    "             Hamilt.molecule.n_qubits, Hamilt.molecule.n_electrons)\n",
    "\n",
    "ansatz_cirq_circuit = full_ansatz_Q_Circ.Get_Full_HF_UCCSD_QC(theta_parameters_ia, theta_parameters_ijab)"
   ]
  },
  {
   "cell_type": "code",
   "execution_count": 9,
   "metadata": {},
   "outputs": [
    {
     "data": {
      "text/plain": [
       "-0.06689197512157967"
      ]
     },
     "execution_count": 9,
     "metadata": {},
     "output_type": "execute_result"
    }
   ],
   "source": [
    "n_shots= 1000\n",
    "\n",
    "VQE_exp = VQE_Experiment(QubitHam, ansatz_cirq_circuit, n_shots)\n",
    "VQE_exp.Calc_Energy()"
   ]
  },
  {
   "cell_type": "code",
   "execution_count": null,
   "metadata": {},
   "outputs": [],
   "source": [
    "n_shots=1000\n",
    "\n",
    "def GIVE_ENERGY(theta_ia_theta_jab_list):\n",
    "    theta_ia = theta_ia_theta_jab_list[:len(theta_parameters_ia)]\n",
    "    theta_ijab = theta_ia_theta_jab_list[len(theta_parameters_ia):]\n",
    "    \n",
    "    ansatz_cirq_circuit = full_ansatz_Q_Circ.Get_Full_HF_UCCSD_QC(theta_parameters_ia, theta_parameters_ijab)\n",
    "\n",
    "    VQE_exp = VQE_Experiment(QubitHam, ansatz_cirq_circuit, n_shots)\n",
    "    \n",
    "\n",
    "    return VQE_exp.Calc_Energy()\n",
    "\n",
    "from quchem.Scipy_Optimizer import *\n",
    "# THETA_params = [*theta_parameters_ia, *theta_parameters_ijab]\n",
    "THETA_params=[3,2,3]\n",
    "GG = Optimizer(GIVE_ENERGY, THETA_params, 'Nelder-Mead', store_values=True, display_iter_steps=True,\n",
    "               tol=1e-5,\n",
    "               display_convergence_message=True)\n",
    "GG.get_env(50)\n",
    "GG.plot_convergence()\n",
    "plt.show()"
   ]
  },
  {
   "cell_type": "code",
   "execution_count": 34,
   "metadata": {},
   "outputs": [
    {
     "data": {
      "text/plain": [
       "[-0.5j [X0 Z1 Y2] +\n",
       " 0.5j [Y0 Z1 X2],\n",
       " -0.5j [X1 Z2 Y3] +\n",
       " 0.5j [Y1 Z2 X3]]"
      ]
     },
     "execution_count": 34,
     "metadata": {},
     "output_type": "execute_result"
    }
   ],
   "source": [
    "Qubit_Op_list_Second_Quant_CC_Ops_ia"
   ]
  },
  {
   "cell_type": "code",
   "execution_count": 10,
   "metadata": {},
   "outputs": [],
   "source": [
    "# from quchem.quantum_circuit_functions import Generate_Full_Q_Circuit\n",
    "\n",
    "\n",
    "# class VQE_Experiment():\n",
    "#     def __init__(self, qubitHamiltonian, ansatz_circuit, n_shots):\n",
    "#         self.qubitHamiltonian = qubitHamiltonian\n",
    "#         self.ansatz_circuit = ansatz_circuit\n",
    "#         self.n_shots = n_shots\n",
    "\n",
    "#     def Calc_Energy(self):\n",
    "#         t_results=[]\n",
    "#         E_list=[]\n",
    "#         for qubitOp in self.qubitHamiltonian:\n",
    "#             for PauliWord, const in qubitOp.terms.items():\n",
    "#                 if PauliWord is not ():\n",
    "                    \n",
    "#                     Q_circuit = Generate_Full_Q_Circuit(self.ansatz_circuit, qubitOp)\n",
    "#                     hist_key_str = Get_Histogram_key(qubitOp)\n",
    "#                     int_state_counter = Simulate_Quantum_Circuit(Q_circuit, self.n_shots, hist_key_str)\n",
    "#                     binary_state_counter = Return_as_binary(int_state_counter, hist_key_str)\n",
    "#                     exp_result = expectation_value_by_parity(binary_state_counter)\n",
    "#                     E_list.append(exp_result*const)\n",
    "                    \n",
    "#                     t_results.append((exp_result, const))\n",
    "#                 else:\n",
    "#                     E_list.append(const)\n",
    "#                     t_results.append((1, const))\n",
    "                    \n",
    "                    \n",
    "#         return sum(E_list).real, t_results\n",
    "\n",
    "#     def Get_wavefunction_of_state(self, sig_figs=3):\n",
    "#         return Get_wavefunction(self.ansatz_circuit, sig_figs=sig_figs)\n"
   ]
  },
  {
   "cell_type": "code",
   "execution_count": 146,
   "metadata": {},
   "outputs": [
    {
     "data": {
      "text/html": [
       "<pre style=\"overflow: auto; white-space: pre;\">0: ───X───Rx(0.5π)───@───────────────────────────────X───Rx(-0.5π)───\n",
       "                     │                               │\n",
       "1: ───X───H──────────X───@───────────────────────X───@───H───────────\n",
       "                         │                       │\n",
       "2: ───H──────────────────X───@───────────────X───@───H───────────────\n",
       "                             │               │\n",
       "3: ───H──────────────────────X───Rz(-0.5π)───@───H───────────────────</pre>"
      ],
      "text/plain": [
       "0: ───X───Rx(0.5π)───@───────────────────────────────X───Rx(-0.5π)───\n",
       "                     │                               │\n",
       "1: ───X───H──────────X───@───────────────────────X───@───H───────────\n",
       "                         │                       │\n",
       "2: ───H──────────────────X───@───────────────X───@───H───────────────\n",
       "                             │               │\n",
       "3: ───H──────────────────────X───Rz(-0.5π)───@───H───────────────────"
      ]
     },
     "execution_count": 146,
     "metadata": {},
     "output_type": "execute_result"
    }
   ],
   "source": [
    "from quchem.Simulating_Quantum_Circuit import *\n",
    "from quchem.Ansatz_Generator_Functions import *\n",
    "from openfermion.ops import QubitOperator\n",
    "\n",
    "def H2_ansatz(theta):\n",
    "    HF_circ = [cirq.X.on(cirq.LineQubit(0)), cirq.X.on(cirq.LineQubit(1))]\n",
    "    \n",
    "    full_exp_circ_obj = full_exponentiated_PauliWord_circuit(QubitOperator('Y0 X1 X2 X3', 0.25j), theta)\n",
    "    UCCSD_circ = cirq.Circuit(cirq.decompose_once((full_exp_circ_obj(*cirq.LineQubit.range(full_exp_circ_obj.num_qubits())))))\n",
    "    full_circuit = cirq.Circuit([*HF_circ, *UCCSD_circ.all_operations()])\n",
    "    \n",
    "    return full_circuit\n",
    "    \n",
    "H2_ansatz(np.pi)               "
   ]
  },
  {
   "cell_type": "code",
   "execution_count": 147,
   "metadata": {},
   "outputs": [
    {
     "name": "stdout",
     "output_type": "stream",
     "text": [
      "0: Input_to_Funct: [2.1]: Output: -0.08443212406548904\n",
      "1: Input_to_Funct: [2.1]: Output: -0.06894576600712284\n",
      "2: Input_to_Funct: [2.1]: Output: -0.05645621710188135\n",
      "3: Input_to_Funct: [2.1]: Output: -0.07234518868906484\n",
      "4: Input_to_Funct: [2.10625]: Output: -0.050239834759196515\n",
      "5: Input_to_Funct: [2.10625]: Output: -0.0626222898421704\n",
      "6: Input_to_Funct: [2.10625]: Output: -0.07910659741417245\n",
      "7: Input_to_Funct: [2.10625]: Output: -0.07821044477738552\n",
      "8: Input_to_Funct: [2.10625]: Output: -0.07782123027279887\n",
      "9: Input_to_Funct: [2.10625]: Output: -0.08599602064416463\n",
      "10: Input_to_Funct: [2.10615234]: Output: -0.08339626950865478\n",
      "11: Input_to_Funct: [2.10615234]: Output: -0.09795216585004893\n",
      "12: Input_to_Funct: [2.10615234]: Output: -0.04731392732456891\n",
      "13: Input_to_Funct: [2.10615234]: Output: -0.09480376716404962\n",
      "14: Input_to_Funct: [2.10615845]: Output: -0.04927654026011423\n",
      "15: Input_to_Funct: [2.10615845]: Output: -0.08501857359207324\n",
      "16: Input_to_Funct: [2.10615845]: Output: -0.08062571920755089\n",
      "17: Input_to_Funct: [2.10615845]: Output: -0.08644717533769435\n",
      "18: Input_to_Funct: [2.10615845]: Output: -0.07335647916543514\n",
      "19: Input_to_Funct: [2.10615845]: Output: -0.06128029449218403\n",
      "20: Input_to_Funct: [2.10615845]: Output: -0.06356455844187896\n",
      "21: Input_to_Funct: [2.10615845]: Output: -0.08257359703397242\n",
      "22: Input_to_Funct: [2.10615845]: Output: -0.036422068852411144\n",
      "23: Input_to_Funct: [2.10615845]: Output: -0.05366178351726132\n",
      "24: Input_to_Funct: [2.10615845]: Output: -0.07680007827906699\n",
      "25: Input_to_Funct: [2.10615845]: Output: -0.06073386983100293\n",
      "26: Input_to_Funct: [2.10615845]: Output: -0.10487253861482004\n",
      "27: Input_to_Funct: [2.10615845]: Output: -0.09056106218333249\n",
      "28: Input_to_Funct: [2.10615845]: Output: -0.04010947555296474\n",
      "29: Input_to_Funct: [2.10615845]: Output: -0.05991801168667596\n",
      "30: Input_to_Funct: [2.10615845]: Output: -0.06774315480657349\n",
      "31: Input_to_Funct: [2.10615845]: Output: -0.06240314113206405\n",
      "32: Input_to_Funct: [2.10615845]: Output: -0.07590467131313107\n",
      "33: Input_to_Funct: [2.10615845]: Output: -0.06624513152929953\n",
      "34: Input_to_Funct: [2.10615845]: Output: -0.07483439579086276\n",
      "35: Input_to_Funct: [2.10615845]: Output: -0.07887057757503416\n",
      "36: Input_to_Funct: [2.10615845]: Output: -0.08471970980004288\n",
      "37: Input_to_Funct: [2.10615845]: Output: -0.09663916893619735\n",
      "38: Input_to_Funct: [2.10615845]: Output: -0.05738018615585273\n",
      "39: Input_to_Funct: [2.10615845]: Output: -0.061669195277468634\n",
      "40: Input_to_Funct: [2.10615845]: Output: -0.08092935831664999\n",
      "41: Input_to_Funct: [2.10615845]: Output: -0.08310792252943688\n",
      "42: Input_to_Funct: [2.10615845]: Output: -0.059367873313360214\n",
      "43: Input_to_Funct: [2.10615845]: Output: -0.06674457497051925\n",
      "44: Input_to_Funct: [2.10615845]: Output: -0.06800097756900217\n",
      "45: Input_to_Funct: [2.10615845]: Output: -0.07266489796421256\n",
      "46: Input_to_Funct: [2.10615845]: Output: -0.07421178900551215\n",
      "47: Input_to_Funct: [2.10615845]: Output: -0.08739165161036992\n",
      "48: Input_to_Funct: [2.10615845]: Output: -0.06075451110824468\n",
      "Warning: Maximum number of iterations has been exceeded.\n",
      "Reason for termination is Maximum number of iterations has been exceeded.\n"
     ]
    },
    {
     "data": {
      "image/png": "[encoded data removed]",
      "text/plain": [
       "<Figure size 432x288 with 1 Axes>"
      ]
     },
     "metadata": {
      "needs_background": "light"
     },
     "output_type": "display_data"
    }
   ],
   "source": [
    "n_shots=1000\n",
    "\n",
    "def GIVE_ENERGY(THETA):\n",
    "   \n",
    "    ansatz_cirq_circuit = H2_ansatz(THETA)\n",
    "\n",
    "    VQE_exp = VQE_Experiment(QubitHam, ansatz_cirq_circuit, n_shots)\n",
    "\n",
    "    return VQE_exp.Calc_Energy()\n",
    "\n",
    "from quchem.Scipy_Optimizer import *\n",
    "THETA_params=[2]\n",
    "GG = Optimizer(GIVE_ENERGY, THETA_params, 'Nelder-Mead', store_values=True, display_iter_steps=True,\n",
    "               tol=1e-5,\n",
    "               display_convergence_message=True)\n",
    "GG.get_env(50)\n",
    "GG.plot_convergence()\n",
    "plt.show()"
   ]
  },
  {
   "cell_type": "code",
   "execution_count": 180,
   "metadata": {},
   "outputs": [],
   "source": [
    "class VQE_Experiment():\n",
    "    def __init__(self, qubitHamiltonian, ansatz_circuit, n_shots):\n",
    "        self.qubitHamiltonian = qubitHamiltonian\n",
    "        self.ansatz_circuit = ansatz_circuit\n",
    "        self.n_shots = n_shots\n",
    "\n",
    "    def Calc_Energy(self):\n",
    "\n",
    "        E_list=[]\n",
    "        for qubitOp in self.qubitHamiltonian:\n",
    "            for PauliWord, const in qubitOp.terms.items():\n",
    "                if PauliWord is not ():\n",
    "                    Q_circuit = Generate_Full_Q_Circuit(self.ansatz_circuit, qubitOp)\n",
    "                    \n",
    "                    print(Q_circuit)\n",
    "                    print(qubitOp)\n",
    "                    print('')\n",
    "                    \n",
    "                    hist_key_str = Get_Histogram_key(qubitOp)\n",
    "                    int_state_counter = Simulate_Quantum_Circuit(Q_circuit, self.n_shots, hist_key_str)\n",
    "                    binary_state_counter = Return_as_binary(int_state_counter, hist_key_str)\n",
    "                    exp_result = expectation_value_by_parity(binary_state_counter)\n",
    "                    print(exp_result)\n",
    "                    E_list.append(exp_result*const)\n",
    "                    \n",
    "                    print(binary_state_counter)\n",
    "                    \n",
    "                    print('')\n",
    "                    print('')\n",
    "                    print('###')\n",
    "                else:\n",
    "                    E_list.append(const)\n",
    "        print(E_list)\n",
    "        return sum(E_list).real\n",
    "\n",
    "    def Get_wavefunction_of_state(self, sig_figs=3):\n",
    "        return Get_wavefunction(self.ansatz_circuit, sig_figs=sig_figs)\n"
   ]
  },
  {
   "cell_type": "code",
   "execution_count": 181,
   "metadata": {},
   "outputs": [
    {
     "name": "stdout",
     "output_type": "stream",
     "text": [
      "0: ───X───Rx(0.5π)───@────────────────────────────X───Rx(-0.5π)───M───\n",
      "                     │                            │\n",
      "1: ───X───H──────────X───@────────────────────X───@───H───────────────\n",
      "                         │                    │\n",
      "2: ───H──────────────────X───@────────────X───@───H───────────────────\n",
      "                             │            │\n",
      "3: ───H──────────────────────X───Rz(-π)───@───H───────────────────────\n",
      "(0.17141282639402405+0j) [Z0]\n",
      "\n",
      "-0.0054\n",
      "{'0': 4973, '1': 5027}\n",
      "\n",
      "\n",
      "###\n",
      "0: ───X───Rx(0.5π)───@────────────────────────────X───Rx(-0.5π)───────\n",
      "                     │                            │\n",
      "1: ───X───H──────────X───@────────────────────X───@───H───────────M───\n",
      "                         │                    │\n",
      "2: ───H──────────────────X───@────────────X───@───H───────────────────\n",
      "                             │            │\n",
      "3: ───H──────────────────────X───Rz(-π)───@───H───────────────────────\n",
      "(0.171412826394024+0j) [Z1]\n",
      "\n",
      "-0.0204\n",
      "{'1': 5102, '0': 4898}\n",
      "\n",
      "\n",
      "###\n",
      "0: ───X───Rx(0.5π)───@────────────────────────────X───Rx(-0.5π)───\n",
      "                     │                            │\n",
      "1: ───X───H──────────X───@────────────────────X───@───H───────────\n",
      "                         │                    │\n",
      "2: ───H──────────────────X───@────────────X───@───H───M───────────\n",
      "                             │            │\n",
      "3: ───H──────────────────────X───Rz(-π)───@───H───────────────────\n",
      "(-0.2234315367466397+0j) [Z2]\n",
      "\n",
      "-1.0\n",
      "{'1': 10000}\n",
      "\n",
      "\n",
      "###\n",
      "0: ───X───Rx(0.5π)───@────────────────────────────X───Rx(-0.5π)───\n",
      "                     │                            │\n",
      "1: ───X───H──────────X───@────────────────────X───@───H───────────\n",
      "                         │                    │\n",
      "2: ───H──────────────────X───@────────────X───@───H───────────────\n",
      "                             │            │\n",
      "3: ───H──────────────────────X───Rz(-π)───@───H───M───────────────\n",
      "(-0.2234315367466397+0j) [Z3]\n",
      "\n",
      "-1.0\n",
      "{'1': 10000}\n",
      "\n",
      "\n",
      "###\n",
      "0: ───X───Rx(0.5π)───@────────────────────────────X───Rx(-0.5π)───M───\n",
      "                     │                            │               │\n",
      "1: ───X───H──────────X───@────────────────────X───@───H───────────M───\n",
      "                         │                    │\n",
      "2: ───H──────────────────X───@────────────X───@───H───────────────────\n",
      "                             │            │\n",
      "3: ───H──────────────────────X───Rz(-π)───@───H───────────────────────\n",
      "(0.1686889816869329+0j) [Z0 Z1]\n",
      "\n",
      "-0.0146\n",
      "{'11': 2485, '01': 2547, '10': 2526, '00': 2442}\n",
      "\n",
      "\n",
      "###\n",
      "0: ───X───Rx(0.5π)───@────────────────────────────X───────────Rx(-0.5π)───Rx(-0.5π)───M───\n",
      "                     │                            │                                   │\n",
      "1: ───X───H──────────X───@────────────────────X───@───────────H───────────H───────────M───\n",
      "                         │                    │                                       │\n",
      "2: ───H──────────────────X───@────────────X───@───H───────────H───────────────────────M───\n",
      "                             │            │                                           │\n",
      "3: ───H──────────────────────X───Rz(-π)───@───H───Rx(-0.5π)───────────────────────────M───\n",
      "(0.04530261550868928+0j) [Y0 X1 X2 Y3]\n",
      "\n",
      "-0.0108\n",
      "{'1010': 586, '1110': 592, '0100': 640, '0010': 635, '1111': 670, '0110': 609, '0000': 628, '0011': 641, '1100': 578, '1000': 647, '0001': 637, '0101': 607, '1011': 651, '1101': 608, '1001': 627, '0111': 644}\n",
      "\n",
      "\n",
      "###\n",
      "0: ───X───Rx(0.5π)───@────────────────────────────X───Rx(-0.5π)───Rx(-0.5π)───M───\n",
      "                     │                            │                           │\n",
      "1: ───X───H──────────X───@────────────────────X───@───H───────────Rx(-0.5π)───M───\n",
      "                         │                    │                               │\n",
      "2: ───H──────────────────X───@────────────X───@───H───H───────────────────────M───\n",
      "                             │            │                                   │\n",
      "3: ───H──────────────────────X───Rz(-π)───@───H───H───────────────────────────M───\n",
      "(-0.04530261550868928+0j) [Y0 Y1 X2 X3]\n",
      "\n",
      "-0.0066\n",
      "{'0110': 1243, '1010': 1193, '0101': 1287, '0111': 1244, '1001': 1244, '1011': 1272, '1000': 1266, '0100': 1251}\n",
      "\n",
      "\n",
      "###\n",
      "0: ───X───Rx(0.5π)───@────────────────────────────X───────────Rx(-0.5π)───H───M───\n",
      "                     │                            │                           │\n",
      "1: ───X───H──────────X───@────────────────────X───@───────────H───────────H───M───\n",
      "                         │                    │                               │\n",
      "2: ───H──────────────────X───@────────────X───@───H───────────Rx(-0.5π)───────M───\n",
      "                             │            │                                   │\n",
      "3: ───H──────────────────────X───Rz(-π)───@───H───Rx(-0.5π)───────────────────M───\n",
      "(-0.04530261550868928+0j) [X0 X1 Y2 Y3]\n",
      "\n",
      "0.005\n",
      "{'0000': 624, '0101': 622, '1001': 631, '0001': 617, '1111': 627, '1100': 607, '1011': 584, '0110': 636, '1110': 630, '0100': 606, '1101': 641, '0111': 599, '0011': 670, '1010': 608, '0010': 658, '1000': 640}\n",
      "\n",
      "\n",
      "###\n",
      "0: ───X───Rx(0.5π)───@────────────────────────────X───Rx(-0.5π)───H───────────M───\n",
      "                     │                            │                           │\n",
      "1: ───X───H──────────X───@────────────────────X───@───H───────────Rx(-0.5π)───M───\n",
      "                         │                    │                               │\n",
      "2: ───H──────────────────X───@────────────X───@───H───Rx(-0.5π)───────────────M───\n",
      "                             │            │                                   │\n",
      "3: ───H──────────────────────X───Rz(-π)───@───H───H───────────────────────────M───\n",
      "(0.04530261550868928+0j) [X0 Y1 Y2 X3]\n",
      "\n",
      "0.0076\n",
      "{'1001': 646, '1000': 638, '1010': 667, '0010': 607, '1110': 634, '1011': 614, '0100': 609, '0110': 588, '0111': 611, '0011': 659, '0101': 641, '1101': 624, '0000': 575, '0001': 625, '1100': 618, '1111': 644}\n",
      "\n",
      "\n",
      "###\n",
      "0: ───X───Rx(0.5π)───@────────────────────────────X───Rx(-0.5π)───M───\n",
      "                     │                            │               │\n",
      "1: ───X───H──────────X───@────────────────────X───@───H───────────┼───\n",
      "                         │                    │                   │\n",
      "2: ───H──────────────────X───@────────────X───@───H───────────────M───\n",
      "                             │            │\n",
      "3: ───H──────────────────────X───Rz(-π)───@───H───────────────────────\n",
      "(0.12062523481381837+0j) [Z0 Z2]\n",
      "\n",
      "-0.0014\n",
      "{'11': 4993, '01': 5007}\n",
      "\n",
      "\n",
      "###\n",
      "0: ───X───Rx(0.5π)───@────────────────────────────X───Rx(-0.5π)───M───\n",
      "                     │                            │               │\n",
      "1: ───X───H──────────X───@────────────────────X───@───H───────────┼───\n",
      "                         │                    │                   │\n",
      "2: ───H──────────────────X───@────────────X───@───H───────────────┼───\n",
      "                             │            │                       │\n",
      "3: ───H──────────────────────X───Rz(-π)───@───H───────────────────M───\n",
      "(0.16592785032250768+0j) [Z0 Z3]\n",
      "\n",
      "-0.0092\n",
      "{'01': 5046, '11': 4954}\n",
      "\n",
      "\n",
      "###\n",
      "0: ───X───Rx(0.5π)───@────────────────────────────X───Rx(-0.5π)───────\n",
      "                     │                            │\n",
      "1: ───X───H──────────X───@────────────────────X───@───H───────────M───\n",
      "                         │                    │                   │\n",
      "2: ───H──────────────────X───@────────────X───@───H───────────────M───\n",
      "                             │            │\n",
      "3: ───H──────────────────────X───Rz(-π)───@───H───────────────────────\n",
      "(0.16592785032250768+0j) [Z1 Z2]\n",
      "\n",
      "0.022\n",
      "{'11': 5110, '01': 4890}\n",
      "\n",
      "\n",
      "###\n",
      "0: ───X───Rx(0.5π)───@────────────────────────────X───Rx(-0.5π)───────\n",
      "                     │                            │\n",
      "1: ───X───H──────────X───@────────────────────X───@───H───────────M───\n",
      "                         │                    │                   │\n",
      "2: ───H──────────────────X───@────────────X───@───H───────────────┼───\n",
      "                             │            │                       │\n",
      "3: ───H──────────────────────X───Rz(-π)───@───H───────────────────M───\n",
      "(0.12062523481381837+0j) [Z1 Z3]\n",
      "\n",
      "0.0092\n",
      "{'01': 4954, '11': 5046}\n",
      "\n",
      "\n",
      "###\n",
      "0: ───X───Rx(0.5π)───@────────────────────────────X───Rx(-0.5π)───\n",
      "                     │                            │\n",
      "1: ───X───H──────────X───@────────────────────X───@───H───────────\n",
      "                         │                    │\n",
      "2: ───H──────────────────X───@────────────X───@───H───M───────────\n",
      "                             │            │           │\n",
      "3: ───H──────────────────────X───Rz(-π)───@───H───────M───────────\n",
      "(0.174412876106516+0j) [Z2 Z3]\n",
      "\n",
      "1.0\n",
      "{'11': 10000}\n",
      "\n",
      "\n",
      "###\n",
      "[(-0.09706626861762624+0j), (-0.0009256292625277299+0j), (-0.00349682165843809+0j), (0.2234315367466397-0j), (0.2234315367466397-0j), (-0.00246285913262922+0j), (-0.0004892682474938443+0j), (0.0002989972623573493-0j), (-0.00022651307754344643+0j), (0.00034429987786603855+0j), (-0.00016887532873934572+0j), (-0.0015265362229670706+0j), (0.0036504127070951685+0j), (0.001109752160287129+0j), (0.174412876106516+0j)]\n"
     ]
    },
    {
     "data": {
      "text/plain": [
       "0.5203166400594361"
      ]
     },
     "execution_count": 181,
     "metadata": {},
     "output_type": "execute_result"
    }
   ],
   "source": [
    "ansatz = H2_ansatz(2*np.pi) \n",
    "xx = VQE_Experiment(QubitHam, ansatz, 10000)\n",
    "xx.Calc_Energy()"
   ]
  },
  {
   "cell_type": "code",
   "execution_count": null,
   "metadata": {},
   "outputs": [],
   "source": [
    "#TODO\n",
    "# write maths of PauliMeasurement!\n",
    "# something is off!!!"
   ]
  },
  {
   "cell_type": "markdown",
   "metadata": {},
   "source": [
    "$$ U_{UCCSD}|HF\\rangle = |\\psi_{UCCSD}\\rangle$$ "
   ]
  },
  {
   "cell_type": "markdown",
   "metadata": {},
   "source": [
    "$$ \\langle \\psi_{UCCSD}| H |\\psi_{UCCSD}\\rangle$$ "
   ]
  },
  {
   "cell_type": "markdown",
   "metadata": {},
   "source": [
    "$$P|\\psi_{UCCSD}\\rangle$$ "
   ]
  },
  {
   "cell_type": "markdown",
   "metadata": {},
   "source": [
    "$$X|\\pm\\rangle = ZH|\\pm\\rangle = Z|0/1\\rangle$$ \n",
    "\n",
    "$$Y|i\\pm \\rangle = ZR_{x}\\big(\\frac{\\pi}{2} \\big)|i\\pm\\rangle = Z|0/1\\rangle$$ "
   ]
  },
  {
   "cell_type": "code",
   "execution_count": null,
   "metadata": {},
   "outputs": [],
   "source": []
  },
  {
   "cell_type": "code",
   "execution_count": 152,
   "metadata": {},
   "outputs": [
    {
     "data": {
      "text/plain": [
       "Counter({0: 47, 1: 53})"
      ]
     },
     "execution_count": 152,
     "metadata": {},
     "output_type": "execute_result"
    }
   ],
   "source": [
    "circuit = cirq.Circuit(cirq.H(cirq.LineQubit(1)),cirq.X(cirq.LineQubit(1)), cirq.measure(cirq.LineQubit(1)))\n",
    "\n",
    "simulator = cirq.Simulator()\n",
    "raw_result = simulator.run(circuit, repetitions=100)\n",
    "hist_result = raw_result.histogram(key='1')\n",
    "hist_result"
   ]
  },
  {
   "cell_type": "code",
   "execution_count": null,
   "metadata": {},
   "outputs": [],
   "source": []
  },
  {
   "cell_type": "code",
   "execution_count": 166,
   "metadata": {},
   "outputs": [
    {
     "name": "stdout",
     "output_type": "stream",
     "text": [
      "Counter({0: 51, 3: 49})\n",
      "{'00': 51, '11': 49}\n",
      "1.0\n",
      "[ 0.707+0.j -0.   +0.j  0.   +0.j  0.707+0.j]\n"
     ]
    },
    {
     "data": {
      "text/plain": [
       "array([ 0.70710677+0.j, -0.        +0.j,  0.        +0.j,  0.70710677+0.j],\n",
       "      dtype=complex64)"
      ]
     },
     "execution_count": 166,
     "metadata": {},
     "output_type": "execute_result"
    }
   ],
   "source": [
    "circuit = cirq.Circuit(cirq.H(cirq.LineQubit(1)),\n",
    "                       cirq.CNOT(cirq.LineQubit(1),cirq.LineQubit(2)),\n",
    "                       cirq.measure(cirq.LineQubit(1),cirq.LineQubit(2)))\n",
    "simulator = cirq.Simulator()\n",
    "raw_result = simulator.run(circuit, repetitions=100)\n",
    "hist_result = raw_result.histogram(key='1,2')\n",
    "print(hist_result)\n",
    "\n",
    "bin_dict = Return_as_binary(hist_result, '1,2')\n",
    "\n",
    "print(bin_dict)\n",
    "\n",
    "print(expectation_value_by_parity(bin_dict))\n",
    "\n",
    "Get_wavefunction(circuit, sig_figs=3)"
   ]
  },
  {
   "cell_type": "code",
   "execution_count": 170,
   "metadata": {},
   "outputs": [
    {
     "name": "stdout",
     "output_type": "stream",
     "text": [
      "Counter({2: 526, 0: 474})\n",
      "{'00': 474, '10': 526}\n",
      "-0.052\n",
      "[0.707+0.j 0.707+0.j]\n"
     ]
    },
    {
     "data": {
      "text/plain": [
       "array([0.70710677+0.j, 0.70710677+0.j], dtype=complex64)"
      ]
     },
     "execution_count": 170,
     "metadata": {},
     "output_type": "execute_result"
    }
   ],
   "source": [
    "circuit = cirq.Circuit(cirq.H(cirq.LineQubit(1)),\n",
    "                       cirq.X(cirq.LineQubit(1)),\n",
    "                       cirq.measure(cirq.LineQubit(1),cirq.LineQubit(2)))\n",
    "simulator = cirq.Simulator()\n",
    "raw_result = simulator.run(circuit, repetitions=1000)\n",
    "hist_result = raw_result.histogram(key='1,2')\n",
    "print(hist_result)\n",
    "\n",
    "bin_dict = Return_as_binary(hist_result, '1,2')\n",
    "\n",
    "print(bin_dict)\n",
    "\n",
    "print(expectation_value_by_parity(bin_dict))\n",
    "\n",
    "Get_wavefunction(circuit, sig_figs=3)"
   ]
  },
  {
   "cell_type": "code",
   "execution_count": 172,
   "metadata": {},
   "outputs": [
    {
     "data": {
      "text/plain": [
       "0.474"
      ]
     },
     "execution_count": 172,
     "metadata": {},
     "output_type": "execute_result"
    }
   ],
   "source": [
    "((526+474*2)-526)/((526+474*2)+526)"
   ]
  },
  {
   "cell_type": "code",
   "execution_count": 173,
   "metadata": {},
   "outputs": [
    {
     "data": {
      "text/plain": [
       "-0.052"
      ]
     },
     "execution_count": 173,
     "metadata": {},
     "output_type": "execute_result"
    }
   ],
   "source": [
    "(474-526)/(474+526)"
   ]
  }
 ],
 "metadata": {
  "kernelspec": {
   "display_name": "Python 3",
   "language": "python",
   "name": "python3"
  },
  "language_info": {
   "codemirror_mode": {
    "name": "ipython",
    "version": 3
   },
   "file_extension": ".py",
   "mimetype": "text/x-python",
   "name": "python",
   "nbconvert_exporter": "python",
   "pygments_lexer": "ipython3",
   "version": "3.7.6"
  }
 },
 "nbformat": 4,
 "nbformat_minor": 2
}
