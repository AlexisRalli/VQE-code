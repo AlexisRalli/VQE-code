{
 "cells": [
  {
   "cell_type": "code",
   "execution_count": 1,
   "metadata": {},
   "outputs": [
    {
     "name": "stdout",
     "output_type": "stream",
     "text": [
      "0: ───X──────────H──────────@───────────────────────────────────────@──────────H───────────Ry(-0.5π)───M───\n",
      "                            │                                       │                                  │\n",
      "1: ───X──────────Rx(0.5π)───X───@───────────────────────@───────────X──────────Rx(-0.5π)───Ry(-0.5π)───M───\n",
      "                                │                       │                                              │\n",
      "2: ─────────────────────────────X───@───────────────@───X──────────────────────────────────────────────┼───\n",
      "                                    │               │                                                  │\n",
      "3: ───Rx(0.5π)──────────────────────X───Rz(-0.5π)───X───Rx(-0.5π)───Rx(0.5π)───────────────────────────M───\n"
     ]
    }
   ],
   "source": [
    "from quchem.Simulating_Quantum_Circuit import *\n",
    "from quchem.Ansatz_Generator_Functions import *\n",
    "from openfermion.ops import QubitOperator\n",
    "HF_circ = [cirq.X.on(cirq.LineQubit(0)), cirq.X.on(cirq.LineQubit(1))]\n",
    "x = QubitOperator('X0 Y1 Z2 Y3', 0.25j)\n",
    "theta = np.pi\n",
    "full_exp_circ_obj = full_exponentiated_PauliWord_circuit(x, theta)\n",
    "UCCSD_circ = cirq.Circuit(cirq.decompose_once((full_exp_circ_obj(*cirq.LineQubit.range(full_exp_circ_obj.num_qubits())))))\n",
    "YY = QubitOperator('X0 X1 Y3', 0.25j)\n",
    "pauliword_change_and_measure_obj = change_pauliword_to_Z_basis_then_measure(YY)\n",
    "P_measure = cirq.Circuit(cirq.decompose_once((pauliword_change_and_measure_obj(*cirq.LineQubit.range(pauliword_change_and_measure_obj.num_qubits())))))\n",
    "\n",
    "full_circuit = cirq.Circuit([*HF_circ, *UCCSD_circ.all_operations(), *P_measure.all_operations()])\n",
    "print(full_circuit)"
   ]
  },
  {
   "cell_type": "markdown",
   "metadata": {},
   "source": [
    "## Get_Histogram_key"
   ]
  },
  {
   "cell_type": "code",
   "execution_count": 8,
   "metadata": {},
   "outputs": [
    {
     "data": {
      "text/plain": [
       "'0,1,3'"
      ]
     },
     "execution_count": 8,
     "metadata": {},
     "output_type": "execute_result"
    }
   ],
   "source": [
    "YY = QubitOperator('X0 X1 Y3', 0.25j)\n",
    "Get_Histogram_key(YY)"
   ]
  },
  {
   "cell_type": "code",
   "execution_count": null,
   "metadata": {},
   "outputs": [],
   "source": []
  },
  {
   "cell_type": "markdown",
   "metadata": {},
   "source": [
    "## Simulate_Quantum_Circuit"
   ]
  },
  {
   "cell_type": "code",
   "execution_count": 9,
   "metadata": {},
   "outputs": [
    {
     "data": {
      "text/plain": [
       "Counter({3: 266, 6: 243, 5: 245, 0: 246})"
      ]
     },
     "execution_count": 9,
     "metadata": {},
     "output_type": "execute_result"
    }
   ],
   "source": [
    "num_shots = 1000\n",
    "YY = QubitOperator('X0 X1 Y3', 0.25j)\n",
    "\n",
    "histogram_string= Get_Histogram_key(YY)\n",
    "Simulate_Quantum_Circuit(full_circuit, num_shots, histogram_string)"
   ]
  },
  {
   "cell_type": "markdown",
   "metadata": {},
   "source": [
    "## Get_wavefunction"
   ]
  },
  {
   "cell_type": "code",
   "execution_count": 10,
   "metadata": {},
   "outputs": [
    {
     "data": {
      "text/plain": [
       "array([[ 0.   +0.j   ],\n",
       "       [ 0.   +0.707j],\n",
       "       [ 0.   +0.j   ],\n",
       "       [ 0.   +0.j   ],\n",
       "       [ 0.   +0.j   ],\n",
       "       [ 0.   +0.j   ],\n",
       "       [ 0.   +0.j   ],\n",
       "       [ 0.   +0.j   ],\n",
       "       [ 0.   +0.j   ],\n",
       "       [-0.   +0.j   ],\n",
       "       [-0.   +0.j   ],\n",
       "       [-0.   +0.j   ],\n",
       "       [ 0.707+0.j   ],\n",
       "       [-0.   +0.j   ],\n",
       "       [-0.   +0.j   ],\n",
       "       [-0.   +0.j   ]], dtype=complex64)"
      ]
     },
     "execution_count": 10,
     "metadata": {},
     "output_type": "execute_result"
    }
   ],
   "source": [
    "YY = QubitOperator('X0 X1 Y3', 0.25j)\n",
    "\n",
    "cirq_NO_M = cirq.Circuit([*HF_circ, *UCCSD_circ.all_operations()])\n",
    "\n",
    "histogram_string= Get_Histogram_key(YY)\n",
    "Get_wavefunction(cirq_NO_M, sig_figs=3)"
   ]
  },
  {
   "cell_type": "markdown",
   "metadata": {},
   "source": [
    "## Return_as_binary"
   ]
  },
  {
   "cell_type": "code",
   "execution_count": 11,
   "metadata": {},
   "outputs": [
    {
     "data": {
      "text/plain": [
       "{'110': 248, '101': 261, '000': 241, '011': 250}"
      ]
     },
     "execution_count": 11,
     "metadata": {},
     "output_type": "execute_result"
    }
   ],
   "source": [
    "num_shots = 1000\n",
    "YY = QubitOperator('X0 X1 Y3', 0.25j)\n",
    "\n",
    "histogram_string= Get_Histogram_key(YY)\n",
    "c_result = Simulate_Quantum_Circuit(full_circuit, num_shots, histogram_string)\n",
    "Return_as_binary(c_result, histogram_string)"
   ]
  },
  {
   "cell_type": "code",
   "execution_count": null,
   "metadata": {},
   "outputs": [],
   "source": []
  },
  {
   "cell_type": "markdown",
   "metadata": {},
   "source": [
    "## expectation_value_by_parity"
   ]
  },
  {
   "cell_type": "code",
   "execution_count": 12,
   "metadata": {},
   "outputs": [
    {
     "data": {
      "text/plain": [
       "1.0"
      ]
     },
     "execution_count": 12,
     "metadata": {},
     "output_type": "execute_result"
    }
   ],
   "source": [
    "num_shots = 1000\n",
    "YY = QubitOperator('X0 X1 Y3', 0.25j)\n",
    "\n",
    "histogram_string= Get_Histogram_key(YY)\n",
    "c_result = Simulate_Quantum_Circuit(full_circuit, num_shots, histogram_string)\n",
    "b_result=Return_as_binary(c_result, histogram_string)\n",
    "\n",
    "expectation_value_by_parity(b_result)"
   ]
  },
  {
   "cell_type": "code",
   "execution_count": 13,
   "metadata": {},
   "outputs": [],
   "source": [
    "from quchem.Hamiltonian_Generator_Functions import *\n",
    "### Parameters\n",
    "Molecule = 'H2'\n",
    "geometry = [('H', (0., 0., 0.)), ('H', (0., 0., 0.74))]\n",
    "basis = 'sto-3g'\n",
    "\n",
    "### Get Hamiltonian\n",
    "Hamilt = Hamiltonian(Molecule,\n",
    "                     run_scf=1, run_mp2=1, run_cisd=1, run_ccsd=1, run_fci=1,\n",
    "                     basis=basis,\n",
    "                     multiplicity=1,\n",
    "                     geometry=geometry)  # normally None!\n",
    "\n",
    "Hamilt.Get_Molecular_Hamiltonian(Get_H_matrix=False)\n",
    "QubitHam = Hamilt.Get_Qubit_Hamiltonian(transformation='JW')\n",
    "\n",
    "ansatz_obj = Ansatz(Hamilt.molecule.n_electrons, Hamilt.molecule.n_qubits)\n",
    "\n",
    "Sec_Quant_CC_ia_ops, Sec_Quant_CC_ijab_ops, theta_parameters_ia, theta_parameters_ijab = ansatz_obj.Get_ia_and_ijab_terms()\n",
    "\n",
    "Qubit_Op_list_Second_Quant_CC_Ops_ia, Qubit_Op_list_Second_Quant_CC_Ops_ijab = ansatz_obj.UCCSD_single_trotter_step(Sec_Quant_CC_ia_ops, Sec_Quant_CC_ijab_ops,\n",
    "                                                                                                                    transformation='JW')\n",
    "\n",
    "full_ansatz_Q_Circ = Ansatz_Circuit(Qubit_Op_list_Second_Quant_CC_Ops_ia, Qubit_Op_list_Second_Quant_CC_Ops_ijab,\n",
    "             Hamilt.molecule.n_qubits, Hamilt.molecule.n_electrons)\n",
    "\n",
    "ansatz_cirq_circuit = full_ansatz_Q_Circ.Get_Full_HF_UCCSD_QC(theta_parameters_ia, theta_parameters_ijab)"
   ]
  },
  {
   "cell_type": "code",
   "execution_count": 14,
   "metadata": {},
   "outputs": [
    {
     "data": {
      "text/plain": [
       "(-0.09706626861762624+0j) [] +\n",
       "(-0.04530261550868928+0j) [X0 X1 Y2 Y3] +\n",
       "(0.04530261550868928+0j) [X0 Y1 Y2 X3] +\n",
       "(0.04530261550868928+0j) [Y0 X1 X2 Y3] +\n",
       "(-0.04530261550868928+0j) [Y0 Y1 X2 X3] +\n",
       "(0.17141282639402405+0j) [Z0] +\n",
       "(0.1686889816869329+0j) [Z0 Z1] +\n",
       "(0.12062523481381837+0j) [Z0 Z2] +\n",
       "(0.16592785032250768+0j) [Z0 Z3] +\n",
       "(0.171412826394024+0j) [Z1] +\n",
       "(0.16592785032250768+0j) [Z1 Z2] +\n",
       "(0.12062523481381837+0j) [Z1 Z3] +\n",
       "(-0.2234315367466397+0j) [Z2] +\n",
       "(0.174412876106516+0j) [Z2 Z3] +\n",
       "(-0.2234315367466397+0j) [Z3]"
      ]
     },
     "execution_count": 14,
     "metadata": {},
     "output_type": "execute_result"
    }
   ],
   "source": [
    "QubitHam"
   ]
  },
  {
   "cell_type": "markdown",
   "metadata": {},
   "source": [
    "$$\\begin{aligned} H &=h_{0} I+h_{1} Z_{0}+h_{2} Z_{1}+h_{3} Z_{2}+h_{4} Z_{3} \\\\ &+h_{5} Z_{0} Z_{1}+h_{6} Z_{0} Z_{2}+h_{7} Z_{1} Z_{2}+h_{8} Z_{0} Z_{3}+h_{9} Z_{1} Z_{3} \\\\ &+h_{10} Z_{2} Z_{3}+h_{11} Y_{0} Y_{1} X_{2} X_{3}+h_{12} X_{0} Y_{1} Y_{2} X_{3} \\\\ &+h_{13} Y_{0} X_{1} X_{2} Y_{3}+h_{14} X_{0} X_{1} Y_{2} Y_{3} \\end{aligned}$$"
   ]
  },
  {
   "cell_type": "code",
   "execution_count": null,
   "metadata": {},
   "outputs": [],
   "source": []
  },
  {
   "cell_type": "code",
   "execution_count": 28,
   "metadata": {},
   "outputs": [
    {
     "name": "stdout",
     "output_type": "stream",
     "text": [
      "0: Input_to_Funct: [ 0.00016667 -0.00025     0.00016667]: Output: -1.1160344655300178\n",
      "1: Input_to_Funct: [ 0.00027778 -0.00016667  0.00027778]: Output: -1.115309623681879\n",
      "2: Input_to_Funct: [ 0.00027778 -0.00016667  0.00027778]: Output: -1.1202023061568172\n",
      "3: Input_to_Funct: [ 0.00027778 -0.00016667  0.00027778]: Output: -1.1232828840114082\n",
      "4: Input_to_Funct: [ 0.00056379 -0.00035494  0.00026749]: Output: -1.1221050160081822\n",
      "5: Input_to_Funct: [ 0.00056379 -0.00035494  0.00026749]: Output: -1.1180277806124002\n",
      "6: Input_to_Funct: [ 0.00056379 -0.00035494  0.00026749]: Output: -1.1166687021471395\n",
      "7: Input_to_Funct: [ 0.00056379 -0.00035494  0.00026749]: Output: -1.1156720446059483\n",
      "8: Input_to_Funct: [ 0.00056379 -0.00035494  0.00026749]: Output: -1.1162156759920525\n",
      "9: Input_to_Funct: [ 0.00056379 -0.00035494  0.00026749]: Output: -1.1125914667513572\n",
      "10: Input_to_Funct: [ 0.00056379 -0.00035494  0.00026749]: Output: -1.1219238055461473\n",
      "11: Input_to_Funct: [ 0.00055748 -0.00035012  0.00025367]: Output: -1.1159438602990006\n",
      "12: Input_to_Funct: [ 0.00055748 -0.00035012  0.00025367]: Output: -1.1158532550679832\n",
      "13: Input_to_Funct: [ 0.00055748 -0.00035012  0.00025367]: Output: -1.1126820719823747\n",
      "14: Input_to_Funct: [ 0.00055748 -0.00035012  0.00025367]: Output: -1.1183902015364695\n",
      "15: Input_to_Funct: [ 0.00055748 -0.00035012  0.00025367]: Output: -1.1158532550679832\n",
      "16: Input_to_Funct: [ 0.00055748 -0.00035012  0.00025367]: Output: -1.1178465701503655\n",
      "17: Input_to_Funct: [ 0.00055748 -0.00035012  0.00025367]: Output: -1.1137693347545836\n",
      "18: Input_to_Funct: [ 0.00055748 -0.00035012  0.00025367]: Output: -1.1164874916851049\n",
      "19: Input_to_Funct: [ 0.00055748 -0.00035012  0.00025367]: Output: -1.1186620172295219\n",
      "20: Input_to_Funct: [ 0.00055748 -0.00035012  0.00025367]: Output: -1.1173029387642612\n",
      "21: Input_to_Funct: [ 0.00055748 -0.00035012  0.00025367]: Output: -1.1165780969161223\n",
      "22: Input_to_Funct: [ 0.00055748 -0.00035012  0.00025367]: Output: -1.1186620172295219\n",
      "23: Input_to_Funct: [ 0.00055748 -0.00035012  0.00025367]: Output: -1.1106887568999926\n",
      "24: Input_to_Funct: [ 0.00055748 -0.00035012  0.00025367]: Output: -1.1167593073781568\n",
      "25: Input_to_Funct: [ 0.00055748 -0.00035012  0.00025367]: Output: -1.116578096916122\n",
      "26: Input_to_Funct: [ 0.00055748 -0.00035012  0.00025367]: Output: -1.1178465701503655\n",
      "27: Input_to_Funct: [ 0.00055748 -0.00035012  0.00025367]: Output: -1.1178465701503653\n",
      "28: Input_to_Funct: [ 0.00055748 -0.00035012  0.00025367]: Output: -1.1217425950841127\n",
      "29: Input_to_Funct: [ 0.00055748 -0.00035012  0.00025367]: Output: -1.1195680695396957\n",
      "30: Input_to_Funct: [ 0.00055747 -0.00035011  0.00025366]: Output: -1.1134069138305138\n",
      "31: Input_to_Funct: [ 0.00055747 -0.00035011  0.00025366]: Output: -1.1166687021471395\n",
      "32: Input_to_Funct: [ 0.00055747 -0.00035011  0.00025366]: Output: -1.1168499126091742\n",
      "33: Input_to_Funct: [ 0.00055747 -0.00035011  0.00025366]: Output: -1.1150378079888266\n",
      "34: Input_to_Funct: [ 0.00055747 -0.00035011  0.00025366]: Output: -1.1147659922957744\n",
      "35: Input_to_Funct: [ 0.00055747 -0.00035011  0.00025366]: Output: -1.1180277806124002\n",
      "36: Input_to_Funct: [ 0.00055748 -0.00035011  0.00025366]: Output: -1.1201117009258\n",
      "37: Input_to_Funct: [ 0.00055748 -0.00035011  0.00025366]: Output: -1.1140411504476355\n",
      "38: Input_to_Funct: [ 0.00055748 -0.00035011  0.00025366]: Output: -1.1130444929064442\n",
      "39: Input_to_Funct: [ 0.00055748 -0.00035011  0.00025366]: Output: -1.1145847818337398\n",
      "40: Input_to_Funct: [ 0.00055748 -0.00035011  0.00025366]: Output: -1.1149472027578093\n",
      "41: Input_to_Funct: [ 0.00055748 -0.00035011  0.00025366]: Output: -1.1165780969161223\n",
      "42: Input_to_Funct: [ 0.00055748 -0.00035011  0.00025366]: Output: -1.1168499126091742\n",
      "43: Input_to_Funct: [ 0.00055747 -0.00035011  0.00025366]: Output: -1.114131755678653\n",
      "44: Input_to_Funct: [ 0.00055747 -0.00035011  0.00025366]: Output: -1.1180277806124002\n",
      "45: Input_to_Funct: [ 0.00055747 -0.00035011  0.00025366]: Output: -1.1152190184508615\n",
      "46: Input_to_Funct: [ 0.00055747 -0.00035011  0.00025366]: Output: -1.115309623681879\n",
      "47: Input_to_Funct: [ 0.00055747 -0.00035011  0.00025366]: Output: -1.1176653596883306\n",
      "48: Input_to_Funct: [ 0.00055747 -0.00035011  0.00025366]: Output: -1.115128413219844\n",
      "Warning: Maximum number of iterations has been exceeded.\n",
      "Reason for termination is Maximum number of iterations has been exceeded.\n"
     ]
    },
    {
     "data": {
      "image/png": "[encoded data removed]",
      "text/plain": [
       "<Figure size 432x288 with 1 Axes>"
      ]
     },
     "metadata": {
      "needs_background": "light"
     },
     "output_type": "display_data"
    }
   ],
   "source": [
    "n_shots=1000\n",
    "\n",
    "def GIVE_ENERGY(theta_ia_theta_jab_list):\n",
    "    theta_ia = theta_ia_theta_jab_list[:len(theta_parameters_ia)]\n",
    "    theta_ijab = theta_ia_theta_jab_list[len(theta_parameters_ia):]\n",
    "    \n",
    "    ansatz_cirq_circuit = full_ansatz_Q_Circ.Get_Full_HF_UCCSD_QC(theta_parameters_ia, theta_parameters_ijab)\n",
    "\n",
    "    VQE_exp = VQE_Experiment(QubitHam, ansatz_cirq_circuit, n_shots)\n",
    "    \n",
    "\n",
    "    return VQE_exp.Calc_Energy()\n",
    "\n",
    "### optimizer\n",
    "from quchem.Scipy_Optimizer import *\n",
    "# THETA_params = [*theta_parameters_ia, *theta_parameters_ijab]\n",
    "THETA_params=[0,0,0]\n",
    "GG = Optimizer(GIVE_ENERGY, THETA_params, 'Nelder-Mead', store_values=True, display_iter_steps=True,\n",
    "               tol=1e-5,\n",
    "               display_convergence_message=True)\n",
    "GG.get_env(50)\n",
    "GG.plot_convergence()\n",
    "plt.show()"
   ]
  },
  {
   "cell_type": "markdown",
   "metadata": {},
   "source": [
    "## REDUCED H2 ansatz:"
   ]
  },
  {
   "cell_type": "code",
   "execution_count": 23,
   "metadata": {},
   "outputs": [
    {
     "data": {
      "text/html": [
       "<pre style=\"overflow: auto; white-space: pre;\">0: ───X───Rx(0.5π)───@──────────────────────────────@───Rx(-0.5π)───\n",
       "                     │                              │\n",
       "1: ───X───H──────────X───@──────────────────────@───X───H───────────\n",
       "                         │                      │\n",
       "2: ───H──────────────────X───@──────────────@───X───H───────────────\n",
       "                             │              │\n",
       "3: ───H──────────────────────X───Rz(2.0π)───X───H───────────────────</pre>"
      ],
      "text/plain": [
       "0: ───X───Rx(0.5π)───@──────────────────────────────@───Rx(-0.5π)───\n",
       "                     │                              │\n",
       "1: ───X───H──────────X───@──────────────────────@───X───H───────────\n",
       "                         │                      │\n",
       "2: ───H──────────────────X───@──────────────@───X───H───────────────\n",
       "                             │              │\n",
       "3: ───H──────────────────────X───Rz(2.0π)───X───H───────────────────"
      ]
     },
     "execution_count": 23,
     "metadata": {},
     "output_type": "execute_result"
    }
   ],
   "source": [
    "from quchem.Simulating_Quantum_Circuit import *\n",
    "from quchem.Ansatz_Generator_Functions import *\n",
    "from openfermion.ops import QubitOperator\n",
    "\n",
    "def H2_ansatz(theta):\n",
    "    HF_circ = [cirq.X.on(cirq.LineQubit(0)), cirq.X.on(cirq.LineQubit(1))]\n",
    "    \n",
    "    full_exp_circ_obj = full_exponentiated_PauliWord_circuit(QubitOperator('Y0 X1 X2 X3', -1j), theta)\n",
    "    UCCSD_circ = cirq.Circuit(cirq.decompose_once((full_exp_circ_obj(*cirq.LineQubit.range(full_exp_circ_obj.num_qubits())))))\n",
    "    full_circuit = cirq.Circuit([*HF_circ, *UCCSD_circ.all_operations()])\n",
    "    \n",
    "    return full_circuit\n",
    "    \n",
    "H2_ansatz(np.pi)               "
   ]
  },
  {
   "cell_type": "code",
   "execution_count": null,
   "metadata": {},
   "outputs": [],
   "source": []
  },
  {
   "cell_type": "code",
   "execution_count": 24,
   "metadata": {},
   "outputs": [],
   "source": [
    "n_shots=1000\n",
    "\n",
    "def GIVE_ENERGY(THETA):\n",
    "   \n",
    "    ansatz_cirq_circuit = H2_ansatz(THETA)\n",
    "\n",
    "    VQE_exp = VQE_Experiment(QubitHam, ansatz_cirq_circuit, n_shots)\n",
    "\n",
    "    return VQE_exp.Calc_Energy()\n"
   ]
  },
  {
   "cell_type": "code",
   "execution_count": 26,
   "metadata": {},
   "outputs": [
    {
     "name": "stdout",
     "output_type": "stream",
     "text": [
      "-1.1389451119524565\n"
     ]
    },
    {
     "data": {
      "image/png": "[encoded data removed]",
      "text/plain": [
       "<Figure size 432x288 with 1 Axes>"
      ]
     },
     "metadata": {
      "needs_background": "light"
     },
     "output_type": "display_data"
    }
   ],
   "source": [
    "### full angle scan\n",
    "\n",
    "import matplotlib.pyplot as plt\n",
    "%matplotlib inline\n",
    "\n",
    "theta_list = np.arange(0,2*np.pi, 0.1)\n",
    "\n",
    "E_list = [GIVE_ENERGY(theta) for theta in theta_list]\n",
    "\n",
    "plt.plot(E_list)\n",
    "print(min(E_list))"
   ]
  },
  {
   "cell_type": "code",
   "execution_count": 27,
   "metadata": {},
   "outputs": [
    {
     "name": "stdout",
     "output_type": "stream",
     "text": [
      "0: Input_to_Funct: [2.3]: Output: -0.06367919168456188\n",
      "1: Input_to_Funct: [2.7]: Output: -0.6973929504367664\n",
      "2: Input_to_Funct: [3.1]: Output: -1.0982491799058274\n",
      "3: Input_to_Funct: [3.3]: Output: -1.122772231241798\n",
      "4: Input_to_Funct: [3.2]: Output: -1.1306600942571738\n",
      "5: Input_to_Funct: [3.25]: Output: -1.1332302072129938\n",
      "6: Input_to_Funct: [3.225]: Output: -1.1353977326921352\n",
      "7: Input_to_Funct: [3.225]: Output: -1.1395200156601868\n",
      "8: Input_to_Funct: [3.225]: Output: -1.1341867352106443\n",
      "9: Input_to_Funct: [3.225]: Output: -1.1329389632741833\n",
      "10: Input_to_Funct: [3.225]: Output: -1.1337314970025563\n",
      "11: Input_to_Funct: [3.225]: Output: -1.1350535969782554\n",
      "12: Input_to_Funct: [3.225]: Output: -1.1373874236431287\n",
      "13: Input_to_Funct: [3.225]: Output: -1.1353451099598846\n",
      "14: Input_to_Funct: [3.225]: Output: -1.1371951970789986\n",
      "15: Input_to_Funct: [3.225]: Output: -1.1368119728398516\n",
      "16: Input_to_Funct: [3.225]: Output: -1.1385613406177624\n",
      "17: Input_to_Funct: [3.225]: Output: -1.1358959084367877\n",
      "18: Input_to_Funct: [3.225]: Output: -1.1383680080271317\n",
      "19: Input_to_Funct: [3.225]: Output: -1.1358678360136154\n",
      "20: Input_to_Funct: [3.225]: Output: -1.1330117122095102\n",
      "21: Input_to_Funct: [3.225]: Output: -1.135092787520818\n",
      "22: Input_to_Funct: [3.22500076]: Output: -1.1327885682201164\n",
      "23: Input_to_Funct: [3.22500076]: Output: -1.1410652596252795\n",
      "24: Input_to_Funct: [3.22500076]: Output: -1.132923319031494\n",
      "25: Input_to_Funct: [3.22500076]: Output: -1.130777869919454\n",
      "26: Input_to_Funct: [3.22500076]: Output: -1.1363001608709202\n",
      "27: Input_to_Funct: [3.22500076]: Output: -1.1341710909679554\n",
      "28: Input_to_Funct: [3.22500076]: Output: -1.1342638062346784\n",
      "29: Input_to_Funct: [3.22500076]: Output: -1.1412723304574852\n",
      "30: Input_to_Funct: [3.22500076]: Output: -1.1373630773686414\n",
      "31: Input_to_Funct: [3.22500077]: Output: -1.1404261699876566\n",
      "32: Input_to_Funct: [3.22500077]: Output: -1.136219138818294\n",
      "33: Input_to_Funct: [3.22500077]: Output: -1.1317197946926887\n",
      "34: Input_to_Funct: [3.22500077]: Output: -1.132846043972869\n",
      "35: Input_to_Funct: [3.22500077]: Output: -1.1345604782886962\n",
      "36: Input_to_Funct: [3.22500077]: Output: -1.1347550189231232\n",
      "37: Input_to_Funct: [3.22500077]: Output: -1.1332671486934873\n",
      "38: Input_to_Funct: [3.22500077]: Output: -1.13513914515418\n",
      "39: Input_to_Funct: [3.22500077]: Output: -1.1381011473718767\n",
      "40: Input_to_Funct: [3.22500077]: Output: -1.1362426851181677\n",
      "41: Input_to_Funct: [3.22500077]: Output: -1.12716277077974\n",
      "42: Input_to_Funct: [3.22500077]: Output: -1.1358409716342397\n",
      "43: Input_to_Funct: [3.22500077]: Output: -1.1393634575245266\n",
      "44: Input_to_Funct: [3.22500077]: Output: -1.1354244950542154\n",
      "45: Input_to_Funct: [3.22500077]: Output: -1.1392091114418674\n",
      "46: Input_to_Funct: [3.22500077]: Output: -1.1392801214016035\n",
      "47: Input_to_Funct: [3.22500077]: Output: -1.1317074685295017\n",
      "48: Input_to_Funct: [3.22500077]: Output: -1.1305479877537608\n",
      "Warning: Maximum number of iterations has been exceeded.\n",
      "Reason for termination is Maximum number of iterations has been exceeded.\n"
     ]
    },
    {
     "data": {
      "image/png": "[encoded data removed]",
      "text/plain": [
       "<Figure size 432x288 with 1 Axes>"
      ]
     },
     "metadata": {
      "needs_background": "light"
     },
     "output_type": "display_data"
    }
   ],
   "source": [
    "## optimzer\n",
    "\n",
    "from quchem.Scipy_Optimizer import *\n",
    "THETA_params=[2]\n",
    "GG = Optimizer(GIVE_ENERGY, THETA_params, 'Nelder-Mead', store_values=True, display_iter_steps=True,\n",
    "               tol=1e-5,\n",
    "               display_convergence_message=True)\n",
    "GG.get_env(50)\n",
    "GG.plot_convergence()\n",
    "plt.show()"
   ]
  },
  {
   "cell_type": "code",
   "execution_count": 38,
   "metadata": {},
   "outputs": [
    {
     "name": "stdout",
     "output_type": "stream",
     "text": [
      "Energy =  -1.1370921636674984\n",
      "\n",
      "state:\n"
     ]
    },
    {
     "data": {
      "text/plain": [
       "array([[ 0.    +0.j],\n",
       "       [ 0.    +0.j],\n",
       "       [ 0.    +0.j],\n",
       "       [ 0.0833-0.j],\n",
       "       [-0.    +0.j],\n",
       "       [-0.    +0.j],\n",
       "       [-0.    +0.j],\n",
       "       [-0.    +0.j],\n",
       "       [ 0.    +0.j],\n",
       "       [ 0.    +0.j],\n",
       "       [ 0.    +0.j],\n",
       "       [ 0.    +0.j],\n",
       "       [-0.9965+0.j],\n",
       "       [-0.    +0.j],\n",
       "       [-0.    +0.j],\n",
       "       [-0.    +0.j]], dtype=complex64)"
      ]
     },
     "execution_count": 38,
     "metadata": {},
     "output_type": "execute_result"
    }
   ],
   "source": [
    "ansatz_cirq_circuit = H2_ansatz(3.22500077)\n",
    "VQE_exp = VQE_Experiment(QubitHam, ansatz_cirq_circuit, 1000)\n",
    "print('Energy = ', VQE_exp.Calc_Energy())\n",
    "print('')\n",
    "print('state:')\n",
    "VQE_exp.Get_wavefunction_of_state(sig_figs=4)"
   ]
  }
 ],
 "metadata": {
  "kernelspec": {
   "display_name": "Python 3",
   "language": "python",
   "name": "python3"
  },
  "language_info": {
   "codemirror_mode": {
    "name": "ipython",
    "version": 3
   },
   "file_extension": ".py",
   "mimetype": "text/x-python",
   "name": "python",
   "nbconvert_exporter": "python",
   "pygments_lexer": "ipython3",
   "version": "3.7.6"
  }
 },
 "nbformat": 4,
 "nbformat_minor": 2
}
