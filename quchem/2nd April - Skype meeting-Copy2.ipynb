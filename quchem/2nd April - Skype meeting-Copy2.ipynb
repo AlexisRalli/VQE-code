{
 "cells": [
  {
   "cell_type": "code",
   "execution_count": 1,
   "metadata": {},
   "outputs": [
    {
     "name": "stderr",
     "output_type": "stream",
     "text": [
      "Building Graph Edges: 100%|##########| 15/15 [00:00<00:00, 1961.48it/s]\n"
     ]
    },
    {
     "data": {
      "text/plain": [
       "{0: [(0.12062523481381837+0j) [Z0 Z2]],\n",
       " 1: [(0.174412876106516+0j) [Z2 Z3]],\n",
       " 2: [(0.1686889816869329+0j) [Z0 Z1]],\n",
       " 3: [(0.16592785032250768+0j) [Z0 Z3]],\n",
       " 4: [(-0.09706626861762624+0j) []],\n",
       " 5: [(0.16592785032250768+0j) [Z1 Z2]],\n",
       " 6: [(0.12062523481381837+0j) [Z1 Z3]],\n",
       " 7: [(0.17141282639402405+0j) [Z0], (0.04530261550868928+0j) [X0 Y1 Y2 X3]],\n",
       " 8: [(-0.2234315367466397+0j) [Z2], (-0.04530261550868928+0j) [X0 X1 Y2 Y3]],\n",
       " 9: [(0.171412826394024+0j) [Z1], (0.04530261550868928+0j) [Y0 X1 X2 Y3]],\n",
       " 10: [(-0.2234315367466397+0j) [Z3], (-0.04530261550868928+0j) [Y0 Y1 X2 X3]]}"
      ]
     },
     "execution_count": 1,
     "metadata": {},
     "output_type": "execute_result"
    }
   ],
   "source": [
    "from quchem.Hamiltonian_Generator_Functions import *\n",
    "from quchem.Graph import *\n",
    "### HAMILTONIAN start\n",
    "Molecule = 'H2'#'LiH'\n",
    "geometry = [('H', (0., 0., 0.)), ('H', (0., 0., 0.74))]#[('Li', (0., 0., 0.)), ('H', (0., 0., 1.45))]\n",
    "num_shots = 10000\n",
    "basis = 'sto-3g'\n",
    "\n",
    "\n",
    "### Get Hamiltonian\n",
    "Hamilt = Hamiltonian(Molecule,\n",
    "                     run_scf=1, run_mp2=1, run_cisd=1, run_ccsd=1, run_fci=1,\n",
    "                     basis=basis,\n",
    "                     multiplicity=1,\n",
    "                     geometry=geometry)  # normally None!\n",
    "QubitHamiltonian = Hamilt.Get_Qubit_Hamiltonian(threshold=None, transformation='JW')\n",
    "### HAMILTONIAN end\n",
    "\n",
    "#####################################\n",
    "\n",
    "Hamiltonian_graph_obj = Openfermion_Hamiltonian_Graph(QubitHamiltonian)\n",
    "\n",
    "commutativity_flag = 'AC' ## <- defines relationship between sets!!!\n",
    "plot_graph = False\n",
    "Graph_colouring_strategy='largest_first'\n",
    "anit_commuting_sets = Hamiltonian_graph_obj.Get_Clique_Cover_as_QubitOp(commutativity_flag, Graph_colouring_strategy=Graph_colouring_strategy, plot_graph=plot_graph)\n",
    "anit_commuting_sets"
   ]
  },
  {
   "cell_type": "markdown",
   "metadata": {},
   "source": [
    "The Hamiltonian is a sum of $m$ PauliWords:\n",
    "\n",
    "$$H=\\sum_{j=0}^{m-1} \\alpha_{j} P_{j}$$\n",
    "\n",
    "In this there are $l$ completely anti-commuting sets, denoted as $H_{S_{l}}$:\n",
    "\n",
    "\n",
    "$$H =\\sum_{l} H_{S_{l}}$$\n",
    "\n",
    "where each anti-commuting set is defined as:\n",
    "\n",
    "$$H_{S_{l}}=\\sum_{P_{j} \\in S_{l}} \\alpha_{j} P_{j}$$\n",
    "\n",
    "where:\n",
    "- $\\left\\{P_{j}, P_{k}\\right\\}=0$ for $\\forall P_{j} \\neq P_{k} \\in S_{l}$\n",
    "\n",
    "\n",
    "We want **want** the sum of the squares of the cofactors to be 1:\n",
    "\n",
    "$$H_{S_{l}}=\\sum_{P_{j} \\in S_{l}} \\alpha_{j} P_{j}=\\gamma_{l} \\sum_{P_{j} \\in S_{l}} \\beta_{j} P_{j}$$\n",
    "\n",
    "- aka: $\\sum_{j} \\beta_{j}^{2}=1$\n",
    "- and $\\gamma_{l}$ is the correction factor: $\\alpha_{j} =  \\gamma_{l} \\beta_{j}$\n",
    "\n",
    "SO overall we can turn our Hamiltonian into $l$ anti_commutings sets as:\n",
    "\n",
    "$$H=\\sum_{l} H_{S_{l}} = \\sum_{l} \\sum_{\\substack{j=0 \\\\  P_{j} \\in S_{l}}}^{|S_{l}|-1} \\alpha_{j} P_{j}= \\sum_{l} \\gamma_{l} \\sum_{\\substack{j=0 \\\\  P_{j} \\in S_{l}}}^{|S_{l}|-1} \\beta_{j} P_{j}$$"
   ]
  },
  {
   "cell_type": "code",
   "execution_count": null,
   "metadata": {},
   "outputs": [],
   "source": []
  },
  {
   "cell_type": "markdown",
   "metadata": {},
   "source": [
    "We will focus on looking at just one anti-commuting set\n",
    "\n",
    "$$H_{S_{l}}=\\sum_{P_{j} \\in S_{l}} \\alpha_{j} P_{j}=\\gamma_{l} \\sum_{P_{j} \\in S_{l}} \\beta_{j} P_{j}$$"
   ]
  },
  {
   "cell_type": "markdown",
   "metadata": {},
   "source": [
    "////////////////"
   ]
  },
  {
   "cell_type": "markdown",
   "metadata": {},
   "source": [
    "1. re-write set $H_{S_{l}}$ ($=\\gamma_{l} \\sum_{P_{j} \\in S_{l}} \\beta_{j} P_{j}$) with $\\beta_{n} P_{n}$ outside sum :\n",
    "\n",
    "\n",
    "$$H_{S_{l}}= \\gamma_{l} \\beta_{n} P_{n} +  \\gamma_{l} \\sum_{\\substack{j \\neq n \\\\  P_{j} \\in S_{l}}}^{|S_{l}|-1} \\beta_{j} P_{j}$$\n",
    "\n",
    "- $\\sum_{j} \\beta_{j}^{2}=1$\n",
    "- $\\alpha_{j} =  \\gamma_{l} \\beta_{j}$\n",
    "\n",
    "$$\\frac{H_{S_{l}}}{\\gamma_{l}}=  \\beta_{n} P_{n} +  \\sum_{\\substack{j \\neq n \\\\  P_{j} \\in S_{l}}}^{|S_{l}|-1} \\beta_{j} P_{j}$$\n",
    "\n",
    "\n",
    "2. The definition of $H_{n-1}$ is:\n",
    "\n",
    "$$H_{n-1}=\\sum_{k=1}^{n-1} \\delta_{k} P_{k}$$\n",
    "\n",
    "where: $\\sum_{k=1}^{n-1} \\delta_{k}^{2}=1$\n",
    "\n",
    "therefore using what we obtained in step 1:\n",
    "\n",
    "$$\\frac{H_{S_{l}}}{\\gamma_{l}}=  \\beta_{n} P_{n} +  \\Omega_{l} \\sum_{\\substack{j \\neq n \\\\  P_{j} \\in S_{l}}}^{|S_{l}|-1} \\delta_{j} P_{j}$$\n",
    "\n",
    "where:\n",
    "- $\\sum_{j} \\delta_{j}^{2}=1$\n",
    "- $\\beta_{j} =  \\Omega_{l} \\delta_{j}$\n",
    "\n",
    "\n",
    "3.\n",
    "\n",
    "$$\\frac{H_{S_{l}}}{\\gamma_{l}}=  \\beta_{n} P_{n} +  \\Omega_{l} H_{n-1}$$"
   ]
  },
  {
   "cell_type": "markdown",
   "metadata": {},
   "source": [
    "$H_{n}$ is defined as:\n",
    "\n",
    "$$H_{n}=\\cos \\phi_{n-1} P_{n}+\\sin \\phi_{n-1} H_{n-1}$$"
   ]
  },
  {
   "cell_type": "markdown",
   "metadata": {},
   "source": [
    "Using what we have from step 3:\n",
    "\n",
    "$$\\cos \\phi_{n-1}= {\\beta_{n}} $$\n",
    "\n",
    "OR\n",
    "\n",
    "$$\\sin \\phi_{n-1}= {\\Omega_{l}} $$\n",
    "\n",
    "# Question ^^^ which one of these?\n",
    "\n",
    "doesn't matter as \n",
    "\n",
    "$$\\beta_{n}^{2} + {\\Omega_{l}}^{2} = 1 $$"
   ]
  },
  {
   "cell_type": "code",
   "execution_count": null,
   "metadata": {},
   "outputs": [],
   "source": [
    "# wrong\n",
    "\n",
    "# can also do:\n",
    "\n",
    "# (starting from step 3)\n",
    "\n",
    "# $$\\frac{H_{S_{l}}}{\\gamma_{l}}=  \\beta_{n} P_{n} +  \\Omega_{l} H_{n-1}$$\n",
    "\n",
    "# $$\\frac{H_{S_{l}}}{\\gamma_{l}\\Omega_{l}}=  \\frac{\\beta_{n}}{\\Omega_{l}} P_{n} +   H_{n-1}$$\n",
    "\n",
    "# THEN\n",
    "\n",
    "# $$\\cos \\phi_{n-1}= \\frac{\\beta_{n}}{\\Omega_{l}} $$\n",
    "\n",
    "# OR\n",
    "\n",
    "# $$\\sin \\phi_{n-1}= 1 $$\n"
   ]
  },
  {
   "cell_type": "code",
   "execution_count": null,
   "metadata": {},
   "outputs": [],
   "source": []
  },
  {
   "cell_type": "code",
   "execution_count": null,
   "metadata": {},
   "outputs": [],
   "source": []
  },
  {
   "cell_type": "markdown",
   "metadata": {},
   "source": [
    "## Step 1 Get Hn set"
   ]
  },
  {
   "cell_type": "markdown",
   "metadata": {},
   "source": [
    "using\n",
    "$$\\frac{H_{S_{l}}}{\\gamma_{l}}=  \\beta_{n} P_{n} +  \\Omega_{l} H_{n-1} = H_{n}$$\n",
    "\n",
    "where\n",
    "\n",
    "$$\\cos \\phi_{n-1}= {\\beta_{n}} $$"
   ]
  },
  {
   "cell_type": "markdown",
   "metadata": {},
   "source": [
    "## Step 2 getting X"
   ]
  },
  {
   "cell_type": "markdown",
   "metadata": {},
   "source": [
    "NOW\n",
    "\n",
    "$\\mathcal{X}$ is defined as:\n",
    "\n",
    "$$\\begin{aligned} \\mathcal{X} &=\\frac{i}{2}\\left[H_{n-1}, P_{n}\\right] \\\\ &=\\frac{i}{2} \\sum_{k=1}^{n-1} \\delta_{k}\\left[P_{k}, P_{n}\\right] \\\\ &=i \\sum_{k=1}^{n-1} \\delta_{k} P_{k} P_{n} \\\\ &=i \\sum_{k=1}^{n-1} \\delta_{k} P_{kn} \\end{aligned}$$\n",
    "\n",
    "where:\n",
    "- $H_{n-1}=\\sum_{k=1}^{n-1} \\delta_{k} P_{k}$\n",
    "- $\\sum_{k=1}^{n-1} \\delta_{k}^{2}=1$"
   ]
  },
  {
   "cell_type": "code",
   "execution_count": 2,
   "metadata": {},
   "outputs": [],
   "source": [
    "from quchem.LCU_method import *"
   ]
  },
  {
   "cell_type": "code",
   "execution_count": 3,
   "metadata": {},
   "outputs": [
    {
     "data": {
      "text/plain": [
       "{'X_PauliWords': [(-1+0j) [X0 X1 X2 Y3]],\n",
       " 'H_n': [(-0.9800573521796645+0j) [Z2],\n",
       "  (-0.19871483698653464+0j) [X0 X1 Y2 Y3]],\n",
       " 'P_n': 1 [X0 X1 Y2 Y3],\n",
       " 'gamma_l': (0.22797802215321797+0j),\n",
       " 'H_n_1': [(-1+0j) [Z2]],\n",
       " 'Omega_l': (0.9800573521796646+0j),\n",
       " 'phi_n_1': (1.770842758748273-0j)}"
      ]
     },
     "execution_count": 3,
     "metadata": {},
     "output_type": "execute_result"
    }
   ],
   "source": [
    "Get_X_SET(anit_commuting_sets[8], 1)"
   ]
  },
  {
   "cell_type": "markdown",
   "metadata": {},
   "source": [
    "$$H_{n}= \\sin \\phi_{n-1} H_{n-1} + \\cos \\phi_{n-1} P_{n}$$"
   ]
  },
  {
   "cell_type": "code",
   "execution_count": 202,
   "metadata": {},
   "outputs": [
    {
     "name": "stdout",
     "output_type": "stream",
     "text": [
      "[(-0.9800573521796645+0j) [Z3], (-0.19871483698653464+0j) [Y0 Y1 X2 X3]]\n",
      "should equal\n",
      "(0.9800573521796645+0j) * [(-1+0j) [Z3]]  +  (-0.19871483698653464+0j) * 1 [Y0 Y1 X2 X3]\n"
     ]
    }
   ],
   "source": [
    "test = Get_X_SET(anit_commuting_sets[10], 1)\n",
    "print(test['H_n'])\n",
    "print('should equal')\n",
    "print(np.sin(test['phi_n_1']), '*',test['H_n_1'],' + ', np.cos(test['phi_n_1']),  '*',test['P_n'])"
   ]
  },
  {
   "cell_type": "code",
   "execution_count": 203,
   "metadata": {},
   "outputs": [
    {
     "name": "stdout",
     "output_type": "stream",
     "text": [
      "[(1-0j) [Y0 Y1 X2 Y3]]\n",
      "should equal\n",
      "i  *  [(-1+0j) [Z3]]  *  1 [Y0 Y1 X2 X3]\n",
      "ZX = 1jY\n",
      "(1-0j) [Y0 Y1 X2 Y3]\n"
     ]
    }
   ],
   "source": [
    "print(test['X_PauliWords'])\n",
    "print('should equal')\n",
    "print('i', ' * ',test['H_n_1'],' * ',test['P_n'])\n",
    "\n",
    "print('ZX = 1jY')\n",
    "\n",
    "print(1j*-1*1j, '[Y0 Y1 X2 Y3]')"
   ]
  },
  {
   "cell_type": "code",
   "execution_count": null,
   "metadata": {},
   "outputs": [],
   "source": []
  },
  {
   "cell_type": "code",
   "execution_count": null,
   "metadata": {},
   "outputs": [],
   "source": []
  },
  {
   "cell_type": "markdown",
   "metadata": {},
   "source": [
    "Now $\\mathcal{X}$ acts on $H_{n}$ as follows:\n",
    "\n",
    "$$\\mathcal{X} H_{n}=i\\left(-\\sin \\phi_{n-1} P_{n}+\\cos \\phi_{n-1} H_{n-1}\\right)$$\n",
    "\n",
    "where:\n",
    "- $H_{n}=\\sin \\phi_{n-1} H_{n-1}+\\cos \\phi_{n-1} P_{n}$\n",
    "\n",
    "remember:\n",
    "\n",
    "- $H_{n}=\\frac{H_{S}}{\\gamma_{l}}= \\beta_{n} P_{n} + \\Omega_{l} H_{n-1}$... which defines what $\\phi_{n-1}$ is!\n",
    "\n",
    "\n",
    "We let:\n",
    "$$R=\\exp (-i \\alpha \\mathcal{X} / 2)=\\cos (\\alpha / 2) \\mathbb{1}-i \\sin (\\alpha / 2) \\mathcal{X}$$\n",
    "\n",
    "then the following:\n",
    "$$R H_{n} R^{\\dagger}=\\sin \\left(\\phi_{n-1}-\\alpha\\right) H_{n-1}+\\cos \\left(\\phi_{n-1}-\\alpha\\right) P_{n}$$\n",
    "\n",
    "by **choosing**: $\\alpha=\\phi_{n-1}$\n",
    "we get:\n",
    "\n",
    "$$R H_{n} R^{\\dagger}=P_{n}$$\n",
    "\n",
    "- note $\\alpha = arccos(\\beta_{n})$ \n",
    "\n",
    "overall we want **$$ H_{n} = R^{\\dagger} P_{n} R$$**"
   ]
  },
  {
   "cell_type": "code",
   "execution_count": null,
   "metadata": {},
   "outputs": [],
   "source": []
  },
  {
   "cell_type": "markdown",
   "metadata": {},
   "source": [
    "To do this via a **quantum circuit** we do the following:\n",
    "\n",
    "$$ \\langle H_{n}\\rangle =  \\langle \\psi_{UCCSD}|R^{\\dagger} P_{n} R |\\psi_{UCCSD}\\rangle = M_{z} U_{n}R|\\psi_{UCCSD}\\rangle$$ \n",
    "\n",
    "where:\n",
    "- $ U_{n}$ is a change of basis of $P_{n}$ to $Z$ basis for measurement!\n",
    "- $M_{z}$ is a measurement in $Z$ basis resuliting in: $ \\langle \\psi_{UCCSD}|R^{\\dagger} U_{n}^{\\dagger} M_{z}^{\\dagger} M_{z} U_{n}R|\\psi_{UCCSD}\\rangle$\n"
   ]
  },
  {
   "cell_type": "code",
   "execution_count": null,
   "metadata": {},
   "outputs": [],
   "source": []
  },
  {
   "cell_type": "markdown",
   "metadata": {},
   "source": [
    "NOW!\n",
    "let us take a closer look at:\n",
    "$$R=\\exp (-i \\alpha \\mathcal{X} / 2)=\\cos (\\alpha / 2) \\mathbb{1}-i \\sin (\\alpha / 2) \\mathcal{X}$$\n",
    "\n",
    "this is just a **LINEAR COMBINATION OF PAULIWORDS!**\n",
    "\n",
    "- $\\mathcal{X}=i \\sum_{k=0}^{n-1} \\delta_{k} P_{kn}$ (index starts at 0 with identity term included!)\n",
    "\n",
    "$$R=\\exp (-i \\alpha \\mathcal{X} / 2)=\\cos (\\alpha / 2) \\mathbb{1}-i \\sin (\\alpha / 2) \\bigg( i \\sum_{k=1}^{n-1} \\delta_{k} P_{kn}\\bigg)$$\n",
    "\n",
    "my code has $\\bigg( i \\sum_{k=1}^{n-1} \\delta_{k} P_{kn}\\bigg)$ in code!\n",
    "\n",
    "(could simplify too: [not doing atm])\n",
    "$$R=\\exp (-i \\alpha \\mathcal{X} / 2)=\\cos (\\alpha / 2) \\mathbb{1}+ \\sin (\\alpha / 2) \\bigg( \\sum_{k=1}^{n-1} \\delta_{k} P_{kn}\\bigg)$$"
   ]
  },
  {
   "cell_type": "code",
   "execution_count": 189,
   "metadata": {},
   "outputs": [
    {
     "data": {
      "text/plain": [
       "[(0.171412826394024+0j) [Z1], (0.04530261550868928+0j) [Y0 X1 X2 Y3]]"
      ]
     },
     "execution_count": 189,
     "metadata": {},
     "output_type": "execute_result"
    }
   ],
   "source": [
    "anit_commuting_sets[9]"
   ]
  },
  {
   "cell_type": "code",
   "execution_count": 190,
   "metadata": {},
   "outputs": [
    {
     "data": {
      "text/plain": [
       "([(0.7923119236307757+0j) [], 0.6101162312809747j [Y0 Y1 Y2 X3]],\n",
       " 1 [X0 Y1 Y2 X3],\n",
       " (0.17729829109248618+0j))"
      ]
     },
     "execution_count": 190,
     "metadata": {},
     "output_type": "execute_result"
    }
   ],
   "source": [
    "Get_R_linear_combination(anit_commuting_sets[7], 1)"
   ]
  },
  {
   "cell_type": "markdown",
   "metadata": {},
   "source": [
    "## linear combination of unitaries method!"
   ]
  },
  {
   "cell_type": "markdown",
   "metadata": {},
   "source": [
    "https://arxiv.org/pdf/1610.06546.pdf\n",
    "\n",
    "- for any operator $\\hat{O}$ that is a sum of **unitary** operators $\\hat{U}_{j}$:\n",
    "\n",
    "$$\\hat{O}=\\sum_{j=1}^{d} \\alpha_{j} \\hat{U}_{j}$$\n",
    "\n",
    "- where $\\|\\hat{O}\\| \\leq\\|\\vec{\\alpha}\\|_{1}=\\sum_{j=1}^{d}\\left|\\alpha_{j}\\right|$\n",
    "\n",
    "and\n",
    "\n",
    "- **IMPORTANT** $\\forall \\alpha_{j}$ we have  $\\alpha_{j} \\geq 0$ AKA absorbing complex phases into $\\hat{U}_{j}$\n",
    "\n",
    "If we define the following:\n",
    "\n",
    "$$\\hat{U}=\\sum_{j=1}^{d}|j\\rangle\\left\\langle\\left. j\\right|_{a} \\otimes \\hat{U}_{j}\\right.$$\n",
    "\n",
    "$$\\hat{G}=\\sum_{j=1}^{d} \\sqrt{\\frac{\\alpha_{j}}{\\|\\vec{\\alpha}\\|_{1}}}|j\\rangle\\left\\langle\\left. 0\\right|_{a}\\right.$$\n",
    "\n",
    "We have:\n",
    "\n",
    "$$\\hat{U} \\hat{G}|0\\rangle_{a}|\\psi\\rangle_{s} = \\hat{U} |G\\rangle_{a}|\\psi\\rangle_{s}$$\n",
    "\n",
    "This results in:\n",
    "\n",
    "$$\\hat{U}|G\\rangle_{a}|\\psi\\rangle_{s}=|G\\rangle_{a} \\hat{O}|\\psi\\rangle_{s}+\\sqrt{1-\\| \\hat{O}|\\psi\\rangle \\|^{2}}\\left|G_{\\psi}^{\\perp}\\right\\rangle_{a s}$$\n",
    "\n",
    "\n",
    "- the measurement succeed with probability: $\\| \\hat{O}|\\psi\\rangle \\|^{2}$\n",
    "    - and $\\hat{U}|G\\rangle_{a}|\\psi\\rangle_{s}$ is **projected** onto $\\frac{|G\\rangle_{a} \\hat{O}|\\psi\\rangle_{s}}{\\| \\hat{O}|\\psi\\rangle \\|}$\n",
    "\n",
    "- and fails if it goes onto orthogonal complement : $|G_{\\psi}^{\\perp}\\rangle_{a s} = |G^{\\perp}\\rangle_{a}|\\psi\\rangle_{s}$\n",
    "\n",
    "\n",
    "NOTE:\n",
    "as **probabilities are bounded by 1** the operator $\\hat{O}$ must have spectral norm $\\|\\hat{O}\\| \\leq 1$\n",
    "\n",
    "(hence is $l_1$ normalised!)\n"
   ]
  },
  {
   "cell_type": "code",
   "execution_count": null,
   "metadata": {},
   "outputs": [],
   "source": [
    "# note:\n",
    "# G|\\hat{U}| G\\rangle=\\frac{\\hat{O}}{\\|\\vec{\\alpha}\\|_{1}}$$"
   ]
  },
  {
   "cell_type": "markdown",
   "metadata": {},
   "source": [
    "## ### method uses l1-norm and gives worse answer!"
   ]
  },
  {
   "cell_type": "code",
   "execution_count": null,
   "metadata": {},
   "outputs": [],
   "source": [
    "# def absorb_complex_phases(R_linear_comb_list):\n",
    "    \n",
    "#     R_linear_comb_corrected_phase=[]\n",
    "#     R_linear_comb_correction_values=[]\n",
    "#     ancilla_amplitudes=[]\n",
    "\n",
    "#     l1_norm = sum([np.absolute(const) for qubitOp in R_linear_comb_list for PauliWord, const in qubitOp.terms.items()])\n",
    "#     if l1_norm>1:\n",
    "#         raise ValueError('l1_norm means correct amps not obtained')\n",
    "    \n",
    "#     for qubitOp in R_linear_comb_list:\n",
    "#         for pauliword, const in qubitOp.terms.items():\n",
    "#             if (isinstance(const, complex)) and (const.imag<0):\n",
    "#                 R_linear_comb_corrected_phase.append(QubitOperator(pauliword, np.sqrt(np.sqrt(const.imag**2)/l1_norm)))\n",
    "#                 R_linear_comb_correction_values.append(-1j)\n",
    "#                 ancilla_amplitudes.append(np.sqrt(np.sqrt(const.imag**2)/l1_norm))\n",
    "#             elif (isinstance(const, complex)) and (const.imag!=0):\n",
    "#                 R_linear_comb_corrected_phase.append(QubitOperator(pauliword, np.sqrt(np.sqrt(const.imag**2)/l1_norm)))\n",
    "#                 R_linear_comb_correction_values.append(1j)\n",
    "#                 ancilla_amplitudes.append(np.sqrt(np.sqrt(const.imag**2)/l1_norm))\n",
    "#             elif const<0:\n",
    "#                 R_linear_comb_corrected_phase.append(QubitOperator(pauliword, np.sqrt(np.sqrt(const**2)/l1_norm)))\n",
    "#                 R_linear_comb_correction_values.append(-1)\n",
    "#                 ancilla_amplitudes.append(np.sqrt(np.sqrt(const**2)/l1_norm))\n",
    "#             else:\n",
    "#                 R_linear_comb_corrected_phase.append(QubitOperator(pauliword, np.sqrt(const/l1_norm)))\n",
    "#                 R_linear_comb_correction_values.append(1)\n",
    "#                 ancilla_amplitudes.append(np.sqrt(const/l1_norm))\n",
    "    \n",
    "    \n",
    "#     if not np.isclose(sum([amp**2 for amp in ancilla_amplitudes]), 1):\n",
    "#         raise ValueError('ancilla amplitudes wrong')\n",
    "    \n",
    "    \n",
    "    \n",
    "#     return R_linear_comb_corrected_phase, R_linear_comb_correction_values, ancilla_amplitudes"
   ]
  },
  {
   "cell_type": "markdown",
   "metadata": {},
   "source": [
    "### method doesn't use l1-norm and gives better answer!"
   ]
  },
  {
   "cell_type": "markdown",
   "metadata": {},
   "source": [
    "I believe this is due to operator being l2 normalised! (and we are using l2 norms)"
   ]
  },
  {
   "cell_type": "markdown",
   "metadata": {},
   "source": [
    "aka we are implementing R:\n",
    "\n",
    "$$R=\\exp (-i \\alpha \\mathcal{X} / 2)=\\cos (\\alpha / 2) \\mathbb{1}-i \\sin (\\alpha / 2) \\bigg( i \\sum_{k=1}^{n-1} \\delta_{k} P_{kn}\\bigg)$$\n",
    "\n",
    "as a linear combination of unitaries (which are PauliWords)... Note this operators is $l_{2}$ normalised!"
   ]
  },
  {
   "cell_type": "markdown",
   "metadata": {},
   "source": [
    "note:\n",
    "- $\\|A\\|_{1}=\\max _{1 \\leq j \\leq n} \\sum_{i=1}^{m}\\left|a_{i j}\\right|$\n",
    "- $\\|A\\|_{2}=\\sigma_{\\max }(A) \\leq\\|A\\|_{\\mathrm{F}}=\\left(\\sum_{i=1}^{m} \\sum_{j=1}^{n}\\left|a_{i j}\\right|^{2}\\right)^{\\frac{1}{2}}$\n",
    "\n",
    "example:\n",
    "\n",
    "$A=\\left[\\begin{array}{ccc}-3 & 5 & 7 \\\\ 2 & 6 & 4 \\\\ 0 & 2 & 8\\end{array}\\right]$\n",
    "\n",
    "$\\|A\\|_{1}=\\max (|-3|+2+0 ; 5+6+2 ; 7+4+8)=\\max (5,13,19)=19$\n",
    "\n",
    "$\\|A\\|_{2} \\leq \\|A\\|_{F}= \\sqrt{|-3|^{2}+|2|^{2}+|0|^{2}+|5|^{2}+|6|^{2}+|2|^{2} +|7|^{2}+|4|^{2} +|8|^{2}}=\\sqrt{207}=14.39$"
   ]
  },
  {
   "cell_type": "code",
   "execution_count": null,
   "metadata": {},
   "outputs": [],
   "source": [
    "# A = np.array([[-3,5,7],\n",
    "#          [2,6,4],\n",
    "#          [0,2,8]])\n",
    "\n",
    "# # np.dot(A.transpose(), A)\n",
    "# val, vec = np.linalg.eig(np.dot(A.transpose(), A))\n",
    "# np.sqrt(max(val))"
   ]
  },
  {
   "cell_type": "markdown",
   "metadata": {},
   "source": [
    "$A*A=\\left[\\begin{array}{ccc} 13 & -3 & -13 \\\\ -3 & 65 & 75 \\\\ -13 & 75 & 129\\end{array}\\right]$\n",
    "\n",
    "eigenvalues = [179.48079367,   8.81029291,  18.70891342]\n",
    "\n",
    "$\\lambda_{\\max }\\left(A^{*} A\\right)=179.48079367$\n",
    "\n",
    "$\\|A\\|_{2}=\\sqrt{\\lambda_{\\max }\\left(A^{*} A\\right)}=\\sigma_{\\max }(A)$\n",
    "\n",
    "- $\\sigma_{\\max }(A)$ represents the largest singular value of matrix $A$\n",
    "\n",
    "$\\|A\\|_{2}=\\sqrt{179.48079367}= 13.397044214055192$"
   ]
  },
  {
   "cell_type": "markdown",
   "metadata": {},
   "source": [
    "Looking at this using LCU theory\n",
    "\n",
    "- we have an operator $\\hat{O}$ that is a sum of **unitary** operators $\\hat{U}_{j}$:\n",
    "\n",
    "$$\\hat{O}=\\sum_{j=1}^{d} \\alpha_{j} \\hat{U}_{j}$$\n",
    "\n",
    "- where $\\|\\hat{O}\\|_{2} \\leq\\|\\vec{\\alpha}\\|_{2}=\\sqrt{\\sum_{j=1}^{d}\\left|\\alpha_{j}\\right|^{2}}$\n",
    "\n",
    "NOTE:\n",
    "The the $l_{2}$ norm of a matrix must be less than it's Frobenius norm which is the sum of the square root of the squares of each matrix element. We have PauliMatrices and so all entries have norm one... hence $\\|\\hat{R}\\|_{2}$ must be less than or equal too the $\\|\\vec{\\alpha}\\|_{2}$!\n",
    "\n",
    "\n",
    "and\n",
    "\n",
    "- **IMPORTANT** $\\forall \\alpha_{j}$ we have  $\\alpha_{j} \\geq 0$ AKA absorbing complex phases into $\\hat{U}_{j}$\n",
    "\n",
    "If we define the following:\n",
    "\n",
    "$$\\hat{U}=\\sum_{j=1}^{d}|j\\rangle\\left\\langle\\left. j\\right|_{a} \\otimes \\hat{U}_{j}\\right.$$\n",
    "\n",
    "$$\\hat{G}=\\sum_{j=1}^{d} \\sqrt{\\frac{\\left|\\alpha_{j}\\right|^{2}}{\\|\\vec{\\alpha}\\|_{2}}}|j\\rangle\\left\\langle\\left. 0\\right|_{a}\\right.$$\n",
    "\n",
    "We have:\n",
    "\n",
    "$$\\hat{U} \\hat{G}|0\\rangle_{a}|\\psi\\rangle_{s} = \\hat{U} |G\\rangle_{a}|\\psi\\rangle_{s}$$\n",
    "\n",
    "This results in:\n",
    "\n",
    "$$\\hat{U}|G\\rangle_{a}|\\psi\\rangle_{s}=|G\\rangle_{a} \\hat{O}|\\psi\\rangle_{s}+\\sqrt{1-\\| \\hat{O}|\\psi\\rangle \\|^{2}}\\left|G_{\\psi}^{\\perp}\\right\\rangle_{a s}$$\n",
    "\n",
    "\n",
    "- the measurement succeed with probability: $\\| \\hat{O}|\\psi\\rangle \\|^{2}$\n",
    "    - and $\\hat{U}|G\\rangle_{a}|\\psi\\rangle_{s}$ is **projected** onto $\\frac{|G\\rangle_{a} \\hat{O}|\\psi\\rangle_{s}}{\\| \\hat{O}|\\psi\\rangle \\|}$\n",
    "\n",
    "- and fails if it goes onto orthogonal complement : $|G_{\\psi}^{\\perp}\\rangle_{a s} = |G^{\\perp}\\rangle_{a}|\\psi\\rangle_{s}$\n",
    "\n",
    "\n",
    "NOTE:\n",
    "as **probabilities are bounded by 1** the operator $\\hat{O}$ must have spectral norm $\\|\\hat{O}\\| \\leq 1$"
   ]
  },
  {
   "cell_type": "code",
   "execution_count": 5,
   "metadata": {
    "scrolled": true
   },
   "outputs": [
    {
     "name": "stdout",
     "output_type": "stream",
     "text": [
      "[(0.7923119236307757+0j) [], 0.6101162312809747j [Y0 Y1 Y2 X3]]\n",
      "\n",
      "1 [X0 Y1 Y2 X3] (0.17729829109248618+0j)\n"
     ]
    },
    {
     "data": {
      "text/plain": [
       "([0.7923119236307757 [], 0.6101162312809747 [Y0 Y1 Y2 X3]],\n",
       " [1, 1j],\n",
       " [(0.7923119236307757+0j), 0.6101162312809747])"
      ]
     },
     "execution_count": 5,
     "metadata": {},
     "output_type": "execute_result"
    }
   ],
   "source": [
    "test, Pn, gamma_l = Get_R_linear_combination(anit_commuting_sets[7],1)\n",
    "print(test)\n",
    "\n",
    "print('')\n",
    "print(Pn, gamma_l)\n",
    "absorb_complex_phases(test)"
   ]
  },
  {
   "cell_type": "code",
   "execution_count": null,
   "metadata": {},
   "outputs": [],
   "source": []
  },
  {
   "cell_type": "code",
   "execution_count": 6,
   "metadata": {},
   "outputs": [
    {
     "data": {
      "text/plain": [
       "([0.16018224300696726 [], 0.9870874576374967 [Y0]],\n",
       " [1, (-0-1j)],\n",
       " [0.16018224300696726, 0.9870874576374967])"
      ]
     },
     "execution_count": 6,
     "metadata": {},
     "output_type": "execute_result"
    }
   ],
   "source": [
    "new = [QubitOperator('X0 X1', 0.25), QubitOperator('Z0 X1', -0.75)]\n",
    "R_lin, Pn_new, gamma_l_new = Get_R_linear_combination(new, 1)\n",
    "absorb_complex_phases(R_lin)"
   ]
  },
  {
   "cell_type": "code",
   "execution_count": 7,
   "metadata": {},
   "outputs": [
    {
     "data": {
      "text/plain": [
       "(-1+0j)"
      ]
     },
     "execution_count": 7,
     "metadata": {},
     "output_type": "execute_result"
    }
   ],
   "source": [
    "R_COB, R_COR, A_AMPs= absorb_complex_phases(R_lin)\n",
    "np.prod([i**2 for i in R_COR])"
   ]
  },
  {
   "cell_type": "code",
   "execution_count": null,
   "metadata": {},
   "outputs": [],
   "source": []
  },
  {
   "cell_type": "code",
   "execution_count": 8,
   "metadata": {},
   "outputs": [
    {
     "name": "stdout",
     "output_type": "stream",
     "text": [
      "0: ────M───\n",
      "       │\n",
      "2: ────M───\n",
      "       │\n",
      "3: ────M───\n",
      "       │\n",
      "10: ───M───\n",
      "       │\n",
      "11: ───M───\n"
     ]
    }
   ],
   "source": [
    "x = QubitOperator('X0 Z2 Y3', 0.25j)\n",
    "N_ancilla_qubits = 2\n",
    "N_system_qubits = 10\n",
    "\n",
    "measure_circ_obj = Measure_system_and_ancilla(x, N_ancilla_qubits, N_system_qubits)\n",
    "# print(cirq.Circuit((measure_circ_obj(*cirq.LineQubit.range(measure_circ_obj.num_qubits())))))\n",
    "# print('####')\n",
    "print(\n",
    "    cirq.Circuit(cirq.decompose_once((measure_circ_obj(*cirq.LineQubit.range(measure_circ_obj.num_qubits()))))))"
   ]
  },
  {
   "cell_type": "code",
   "execution_count": 9,
   "metadata": {},
   "outputs": [],
   "source": [
    "from quchem.Ansatz_Generator_Functions import *\n",
    "\n",
    "ansatz_obj = Ansatz(Hamilt.molecule.n_electrons, Hamilt.molecule.n_qubits)\n",
    "\n",
    "Sec_Quant_CC_ia_ops, Sec_Quant_CC_ijab_ops, theta_parameters_ia, theta_parameters_ijab = ansatz_obj.Get_ia_and_ijab_terms()\n",
    "\n",
    "Qubit_Op_list_Second_Quant_CC_Ops_ia, Qubit_Op_list_Second_Quant_CC_Ops_ijab = ansatz_obj.UCCSD_single_trotter_step(Sec_Quant_CC_ia_ops, Sec_Quant_CC_ijab_ops,\n",
    "                                                                                                                    transformation='JW')\n",
    "\n",
    "full_ansatz_Q_Circ = Ansatz_Circuit(Qubit_Op_list_Second_Quant_CC_Ops_ia, Qubit_Op_list_Second_Quant_CC_Ops_ijab,\n",
    "             Hamilt.molecule.n_qubits, Hamilt.molecule.n_electrons)\n",
    "\n",
    "ansatz_cirq_circuit = full_ansatz_Q_Circ.Get_Full_HF_UCCSD_QC(theta_parameters_ia, theta_parameters_ijab)"
   ]
  },
  {
   "cell_type": "code",
   "execution_count": 10,
   "metadata": {
    "scrolled": true
   },
   "outputs": [
    {
     "data": {
      "text/html": [
       "<pre style=\"overflow: auto; white-space: pre;\">0: ───X───────────────────────Rx(0.5π)───@───────────────────────@───Rx(-0.5π)───H───@──────────────────────@───────────H──────────H─────────────────────────────────────────────────────────────────────────────────────────────@───────────────────────────────@───────────H──────────Rx(0.5π)───@──────────────────────────────@───────────Rx(-0.5π)───Rx(0.5π)───@──────────────────────────────@───Rx(-0.5π)───H──────────@──────────────────────────────@──────────H───────────Rx(0.5π)───@───────────────────────────────────────@───────────Rx(-0.5π)───H──────────@───────────────────────────────────────@───────────H───────────H───@───────────────────────────────────────@──────────H───Rx(0.5π)───@──────────────────────────────────────@───Rx(-0.5π)───modified P_Word gate───────────────────────────────\n",
       "                                         │                       │                   │                      │                                                                                                                    │                               │                                 │                              │                                  │                              │                          │                              │                                 │                                       │                                  │                                       │                           │                                       │                         │                                      │               │\n",
       "1: ───X──────────────────────────────────X───@───────────────@───X───────────────────X───@──────────────@───X───────────Rx(0.5π)───@───────────────────────@───Rx(-0.5π)───H───@──────────────────────@───────────H──────────H───X───@───────────────────────@───X───────────H──────────Rx(0.5π)───X───@──────────────────────@───X───────────Rx(-0.5π)───H──────────X───@──────────────────────@───X───H───────────Rx(0.5π)───X───@──────────────────────@───X──────────Rx(-0.5π)───H──────────X───@───────────────────────@───────────X───────────H───────────Rx(0.5π)───X───@───────────────────────@───────────X───────────Rx(-0.5π)───H───X───@───────────────────────@───────────X──────────H───Rx(0.5π)───X───@──────────────────────@───────────X───Rx(-0.5π)───modified P_Word gate───────────────────────────M───\n",
       "                                             │               │                           │              │                          │                       │                   │                      │                              │                       │                                         │                      │                                          │                      │                                  │                      │                                         │                       │                                                  │                       │                                           │                       │                                         │                      │                           │                                              │\n",
       "2: ───H──────────────────────────────────────X───Rz(-0.0π)───X───H───Rx(0.5π)────────────X───Rz(0.0π)───X───Rx(-0.5π)──────────────X───@───────────────@───X───────────────────X───@──────────────@───X───────────Rx(0.5π)───────────X───@───────────────@───X───Rx(-0.5π)───Rx(0.5π)──────────────────X───@──────────────@───X───Rx(-0.5π)───H──────────────────────────X───@──────────────@───X───H───H──────────────────────────X───@──────────────@───X───H──────────Rx(0.5π)───────────────────X───@───────────────@───X───────────Rx(-0.5π)───Rx(0.5π)───────────────────X───@───────────────@───X───────────Rx(-0.5π)───H───────────────────X───@───────────────@───X───────────H──────────H──────────────────X───@──────────────@───X───────────H───────────────modified P_Word gate───────────────────────────┼───\n",
       "                                                                                                                                       │               │                           │              │                                      │               │                                                 │              │                                                  │              │                                          │              │                                                 │               │                                                          │               │                                                   │               │                                                 │              │                               │                                              │\n",
       "3: ───H────────────────────────────────────────────────────────────────────────────────────────────────────────────────────────────────X───Rz(-0.0π)───X───H───Rx(0.5π)────────────X───Rz(0.0π)───X───Rx(-0.5π)───H──────────────────────X───Rz(-0.0π)───X───H───H─────────────────────────────────────────X───Rz(0.0π)───X───H───H──────────────────────────────────────────X───Rz(0.0π)───X───H───H──────────────────────────────────X───Rz(0.0π)───X───H───Rx(0.5π)──────────────────────────────────X───Rz(-0.0π)───X───Rx(-0.5π)───Rx(0.5π)───────────────────────────────────X───Rz(-0.0π)───X───Rx(-0.5π)───Rx(0.5π)────────────────────────────X───Rz(-0.0π)───X───Rx(-0.5π)───Rx(0.5π)──────────────────────────X───Rz(0.0π)───X───Rx(-0.5π)───────────────────modified P_Word gate───────────────────────────┼───\n",
       "                                                                                                                                                                                                                                                                                                                                                                                                                                                                                                                                                                                                                                                                                                                                                                        │                                              │\n",
       "4: ─── U = (0.1292-0j) rad ─────────────────────────────────────────────────────────────────────────────────────────────────────────────────────────────────────────────────────────────────────────────────────────────────────────────────────────────────────────────────────────────────────────────────────────────────────────────────────────────────────────────────────────────────────────────────────────────────────────────────────────────────────────────────────────────────────────────────────────────────────────────────────────────────────────────────────────────────────────────────────────────────────────────────────────────────────────────────────────────────────────────────────────────────────────────────────────────────────────────@────────────────────── U = (0.1292-0j) rad ───M───</pre>"
      ],
      "text/plain": [
       "0: ───X───────────────────────Rx(0.5π)───@───────────────────────@───Rx(-0.5π)───H───@──────────────────────@───────────H──────────H─────────────────────────────────────────────────────────────────────────────────────────────@───────────────────────────────@───────────H──────────Rx(0.5π)───@──────────────────────────────@───────────Rx(-0.5π)───Rx(0.5π)───@──────────────────────────────@───Rx(-0.5π)───H──────────@──────────────────────────────@──────────H───────────Rx(0.5π)───@───────────────────────────────────────@───────────Rx(-0.5π)───H──────────@───────────────────────────────────────@───────────H───────────H───@───────────────────────────────────────@──────────H───Rx(0.5π)───@──────────────────────────────────────@───Rx(-0.5π)───modified P_Word gate───────────────────────────────\n",
       "                                         │                       │                   │                      │                                                                                                                    │                               │                                 │                              │                                  │                              │                          │                              │                                 │                                       │                                  │                                       │                           │                                       │                         │                                      │               │\n",
       "1: ───X──────────────────────────────────X───@───────────────@───X───────────────────X───@──────────────@───X───────────Rx(0.5π)───@───────────────────────@───Rx(-0.5π)───H───@──────────────────────@───────────H──────────H───X───@───────────────────────@───X───────────H──────────Rx(0.5π)───X───@──────────────────────@───X───────────Rx(-0.5π)───H──────────X───@──────────────────────@───X───H───────────Rx(0.5π)───X───@──────────────────────@───X──────────Rx(-0.5π)───H──────────X───@───────────────────────@───────────X───────────H───────────Rx(0.5π)───X───@───────────────────────@───────────X───────────Rx(-0.5π)───H───X───@───────────────────────@───────────X──────────H───Rx(0.5π)───X───@──────────────────────@───────────X───Rx(-0.5π)───modified P_Word gate───────────────────────────M───\n",
       "                                             │               │                           │              │                          │                       │                   │                      │                              │                       │                                         │                      │                                          │                      │                                  │                      │                                         │                       │                                                  │                       │                                           │                       │                                         │                      │                           │                                              │\n",
       "2: ───H──────────────────────────────────────X───Rz(-0.0π)───X───H───Rx(0.5π)────────────X───Rz(0.0π)───X───Rx(-0.5π)──────────────X───@───────────────@───X───────────────────X───@──────────────@───X───────────Rx(0.5π)───────────X───@───────────────@───X───Rx(-0.5π)───Rx(0.5π)──────────────────X───@──────────────@───X───Rx(-0.5π)───H──────────────────────────X───@──────────────@───X───H───H──────────────────────────X───@──────────────@───X───H──────────Rx(0.5π)───────────────────X───@───────────────@───X───────────Rx(-0.5π)───Rx(0.5π)───────────────────X───@───────────────@───X───────────Rx(-0.5π)───H───────────────────X───@───────────────@───X───────────H──────────H──────────────────X───@──────────────@───X───────────H───────────────modified P_Word gate───────────────────────────┼───\n",
       "                                                                                                                                       │               │                           │              │                                      │               │                                                 │              │                                                  │              │                                          │              │                                                 │               │                                                          │               │                                                   │               │                                                 │              │                               │                                              │\n",
       "3: ───H────────────────────────────────────────────────────────────────────────────────────────────────────────────────────────────────X───Rz(-0.0π)───X───H───Rx(0.5π)────────────X───Rz(0.0π)───X───Rx(-0.5π)───H──────────────────────X───Rz(-0.0π)───X───H───H─────────────────────────────────────────X───Rz(0.0π)───X───H───H──────────────────────────────────────────X───Rz(0.0π)───X───H───H──────────────────────────────────X───Rz(0.0π)───X───H───Rx(0.5π)──────────────────────────────────X───Rz(-0.0π)───X───Rx(-0.5π)───Rx(0.5π)───────────────────────────────────X───Rz(-0.0π)───X───Rx(-0.5π)───Rx(0.5π)────────────────────────────X───Rz(-0.0π)───X───Rx(-0.5π)───Rx(0.5π)──────────────────────────X───Rz(0.0π)───X───Rx(-0.5π)───────────────────modified P_Word gate───────────────────────────┼───\n",
       "                                                                                                                                                                                                                                                                                                                                                                                                                                                                                                                                                                                                                                                                                                                                                                        │                                              │\n",
       "4: ─── U = (0.1292-0j) rad ─────────────────────────────────────────────────────────────────────────────────────────────────────────────────────────────────────────────────────────────────────────────────────────────────────────────────────────────────────────────────────────────────────────────────────────────────────────────────────────────────────────────────────────────────────────────────────────────────────────────────────────────────────────────────────────────────────────────────────────────────────────────────────────────────────────────────────────────────────────────────────────────────────────────────────────────────────────────────────────────────────────────────────────────────────────────────────────────────────────────@────────────────────── U = (0.1292-0j) rad ───M───"
      ]
     },
     "execution_count": 10,
     "metadata": {},
     "output_type": "execute_result"
    }
   ],
   "source": [
    "R_uncorrected, Pn, gamma_l = Get_R_linear_combination(anit_commuting_sets[9], 0)\n",
    "R_corrected_Op_list, R_corr_list, ancilla_amplitudes = absorb_complex_phases(R_uncorrected)\n",
    "\n",
    "\n",
    "aa = Full_Q_Circuit(Pn, R_corrected_Op_list, R_corr_list, ancilla_amplitudes, Hamilt.molecule.n_qubits, Pn, ansatz_cirq_circuit)\n",
    "aa"
   ]
  },
  {
   "cell_type": "code",
   "execution_count": 11,
   "metadata": {},
   "outputs": [
    {
     "name": "stdout",
     "output_type": "stream",
     "text": [
      "3: ─── U = (0.1292-0j) rad ───\n",
      "[[0.99167+0.j]\n",
      " [0.12883+0.j]]\n",
      "\n",
      "[(0.9916664584650366+0j), 0.12883180956352255]\n"
     ]
    }
   ],
   "source": [
    "from quchem.quantum_circuit_functions import *\n",
    "N_System_qubits = 3\n",
    "ancilla_obj = prepare_arb_state(ancilla_amplitudes, N_System_qubits)\n",
    "ancilla_prep_circ = ancilla_obj.Get_state_prep_Circuit()\n",
    "\n",
    "print(ancilla_prep_circ)\n",
    "\n",
    "print(ancilla_obj.get_wave_function(sig_figs=5))\n",
    "print('')\n",
    "print(ancilla_amplitudes)\n",
    "\n",
    "# # checking output is 0 state! \n",
    "# anillca_circuit = cirq.Circuit([*ancilla_prep_circ.all_operations(), *list(ancilla_prep_circ.all_operations())[::-1]])\n",
    "# print(anillca_circuit)\n",
    "# simulator = cirq.Simulator()\n",
    "# result = simulator.compute_amplitudes(anillca_circuit, bitstrings=[i for i in range(2 ** len(anillca_circuit.all_qubits()))])\n",
    "# np.around(result, 3)"
   ]
  },
  {
   "cell_type": "code",
   "execution_count": null,
   "metadata": {},
   "outputs": [],
   "source": []
  },
  {
   "cell_type": "code",
   "execution_count": 14,
   "metadata": {},
   "outputs": [
    {
     "name": "stdout",
     "output_type": "stream",
     "text": [
      "{'1': 100}\n",
      "1 [Z1]\n"
     ]
    },
    {
     "data": {
      "text/plain": [
       "-1.0"
      ]
     },
     "execution_count": 14,
     "metadata": {},
     "output_type": "execute_result"
    }
   ],
   "source": [
    "from quchem.Simulating_Quantum_Circuit import *\n",
    "\n",
    "R_uncorrected, Pn, gamma_l = Get_R_linear_combination(anit_commuting_sets[9], 0)\n",
    "R_corrected_Op_list, R_corr_list, ancilla_amplitudes = absorb_complex_phases(R_uncorrected)\n",
    "\n",
    "aa = Full_Q_Circuit(Pn, R_corrected_Op_list, R_corr_list, ancilla_amplitudes, Hamilt.molecule.n_qubits, Pn, ansatz_cirq_circuit)\n",
    "output_bin_dict = Get_binary_dict_project(aa, Pn, 100, 4, ancilla_amplitudes)\n",
    "print(output_bin_dict)\n",
    "print(Pn)\n",
    "aa\n",
    "\n",
    "expectation_value_by_parity(output_bin_dict)"
   ]
  },
  {
   "cell_type": "code",
   "execution_count": 15,
   "metadata": {},
   "outputs": [
    {
     "data": {
      "text/plain": [
       "{0: [(0.12062523481381837+0j) [Z0 Z2]],\n",
       " 1: [(0.174412876106516+0j) [Z2 Z3]],\n",
       " 2: [(0.1686889816869329+0j) [Z0 Z1]],\n",
       " 3: [(0.16592785032250768+0j) [Z0 Z3]],\n",
       " 4: [(-0.09706626861762624+0j) []],\n",
       " 5: [(0.16592785032250768+0j) [Z1 Z2]],\n",
       " 6: [(0.12062523481381837+0j) [Z1 Z3]],\n",
       " 7: [(0.17141282639402405+0j) [Z0], (0.04530261550868928+0j) [X0 Y1 Y2 X3]],\n",
       " 8: [(-0.2234315367466397+0j) [Z2], (-0.04530261550868928+0j) [X0 X1 Y2 Y3]],\n",
       " 9: [(0.171412826394024+0j) [Z1], (0.04530261550868928+0j) [Y0 X1 X2 Y3]],\n",
       " 10: [(-0.2234315367466397+0j) [Z3], (-0.04530261550868928+0j) [Y0 Y1 X2 X3]]}"
      ]
     },
     "execution_count": 15,
     "metadata": {},
     "output_type": "execute_result"
    }
   ],
   "source": [
    "anit_commuting_sets"
   ]
  },
  {
   "cell_type": "code",
   "execution_count": 20,
   "metadata": {},
   "outputs": [
    {
     "name": "stdout",
     "output_type": "stream",
     "text": [
      "(0.12062523481381837+0j) [Z0 Z2] (-0.12062523481381837+0j)\n",
      "(0.174412876106516+0j) [Z2 Z3] (0.174412876106516+0j)\n",
      "(0.1686889816869329+0j) [Z0 Z1] (0.1686889816869329+0j)\n",
      "(0.16592785032250768+0j) [Z0 Z3] (-0.16592785032250768+0j)\n",
      "(0.16592785032250768+0j) [Z1 Z2] (-0.16592785032250768+0j)\n",
      "(0.12062523481381837+0j) [Z1 Z3] (-0.12062523481381837+0j)\n",
      "1 [X0 Y1 Y2 X3] (0.17729829109248618+0j) 0.0052\n",
      "1 [X0 X1 Y2 Y3] (0.22797802215321797+0j) -0.0042\n",
      "1 [Y0 X1 X2 Y3] (0.17729829109248613+0j) 0.0064\n",
      "1 [Y0 Y1 X2 X3] (0.22797802215321797+0j) 0.0012\n"
     ]
    },
    {
     "data": {
      "text/plain": [
       "(-0.32569785498661624+0j)"
      ]
     },
     "execution_count": 20,
     "metadata": {},
     "output_type": "execute_result"
    }
   ],
   "source": [
    "n_shots=10000\n",
    "\n",
    "testing =  VQE_Experiment_LCU_UP(anit_commuting_sets,\n",
    "                 ansatz_cirq_circuit,\n",
    "                 n_shots,\n",
    "                 ancilla_amplitudes,\n",
    "                 Hamilt.molecule.n_qubits,\n",
    "                 N_indices_dict={7:1, 8:1, 9:1, 10:1})\n",
    "testing.Calc_Energy()"
   ]
  },
  {
   "cell_type": "code",
   "execution_count": null,
   "metadata": {},
   "outputs": [],
   "source": []
  },
  {
   "cell_type": "code",
   "execution_count": 21,
   "metadata": {},
   "outputs": [],
   "source": [
    "from quchem.Simulating_Quantum_Circuit import *\n",
    "from quchem.Ansatz_Generator_Functions import *\n",
    "from openfermion.ops import QubitOperator\n",
    "\n",
    "def H2_ansatz(theta):\n",
    "    HF_circ = [cirq.X.on(cirq.LineQubit(0)), cirq.X.on(cirq.LineQubit(1))]\n",
    "    \n",
    "    full_exp_circ_obj = full_exponentiated_PauliWord_circuit(QubitOperator('Y0 X1 X2 X3', -1j), theta)\n",
    "    UCCSD_circ = cirq.Circuit(cirq.decompose_once((full_exp_circ_obj(*cirq.LineQubit.range(full_exp_circ_obj.num_qubits())))))\n",
    "    full_circuit = cirq.Circuit([*HF_circ, *UCCSD_circ.all_operations()])\n",
    "    \n",
    "    return full_circuit\n"
   ]
  },
  {
   "cell_type": "code",
   "execution_count": 42,
   "metadata": {},
   "outputs": [
    {
     "name": "stdout",
     "output_type": "stream",
     "text": [
      "(0.12062523481381837+0j) [Z0 Z2] (-0.12062523481381837+0j)\n",
      "(0.174412876106516+0j) [Z2 Z3] (0.174412876106516+0j)\n",
      "(0.1686889816869329+0j) [Z0 Z1] (0.1686889816869329+0j)\n",
      "(0.16592785032250768+0j) [Z0 Z3] (-0.16592785032250768+0j)\n",
      "(0.16592785032250768+0j) [Z1 Z2] (-0.16592785032250768+0j)\n",
      "(0.12062523481381837+0j) [Z1 Z3] (-0.12062523481381837+0j)\n",
      "1 [Z0] (0.17729829109248618+0j) 0.974\n",
      "1 [Z2] (0.22797802215321797+0j) 0.988\n",
      "1 [Z1] (0.17729829109248613+0j) 0.986\n",
      "1 [Z3] (0.22797802215321797+0j) 0.99\n"
     ]
    },
    {
     "data": {
      "text/plain": [
       "(0.4713745972635086+0j)"
      ]
     },
     "execution_count": 42,
     "metadata": {},
     "output_type": "execute_result"
    }
   ],
   "source": [
    "n_shots=1000\n",
    "def GIVE_ENERGY(THETA):\n",
    "   \n",
    "    ansatz_cirq_circuit = H2_ansatz(THETA)\n",
    "\n",
    "    VQE_exp_LCU =  VQE_Experiment_LCU_UP(anit_commuting_sets,\n",
    "                     ansatz_cirq_circuit,\n",
    "                     n_shots,\n",
    "                     ancilla_amplitudes,\n",
    "                     Hamilt.molecule.n_qubits,\n",
    "                     N_indices_dict=None)#{7:0, 8:1, 9:0, 10:1})\n",
    "    return VQE_exp_LCU.Calc_Energy()\n",
    "\n",
    "GIVE_ENERGY(1.5)#np.pi/5)"
   ]
  },
  {
   "cell_type": "code",
   "execution_count": 43,
   "metadata": {},
   "outputs": [
    {
     "name": "stdout",
     "output_type": "stream",
     "text": [
      "(0.12062523481381837+0j) [Z0 Z2] (-0.12062523481381837+0j)\n",
      "(0.174412876106516+0j) [Z2 Z3] (0.174412876106516+0j)\n",
      "(0.1686889816869329+0j) [Z0 Z1] (0.1686889816869329+0j)\n",
      "(0.16592785032250768+0j) [Z0 Z3] (-0.16592785032250768+0j)\n",
      "(0.16592785032250768+0j) [Z1 Z2] (-0.16592785032250768+0j)\n",
      "(0.12062523481381837+0j) [Z1 Z3] (-0.12062523481381837+0j)\n",
      "1 [X0 Y1 Y2 X3] (0.17729829109248618+0j) 0.0044\n",
      "1 [X0 X1 Y2 Y3] (0.22797802215321797+0j) -0.0114\n",
      "1 [Y0 X1 X2 Y3] (0.17729829109248613+0j) -0.0168\n",
      "1 [Y0 Y1 X2 X3] (0.22797802215321797+0j) -0.0088\n"
     ]
    },
    {
     "data": {
      "text/plain": [
       "(-0.3338742359538712+0j)"
      ]
     },
     "execution_count": 43,
     "metadata": {},
     "output_type": "execute_result"
    }
   ],
   "source": [
    "n_shots=10000\n",
    "def GIVE_ENERGY(THETA):\n",
    "   \n",
    "    ansatz_cirq_circuit = H2_ansatz(THETA)\n",
    "\n",
    "    VQE_exp_LCU =  VQE_Experiment_LCU_UP(anit_commuting_sets,\n",
    "                     ansatz_cirq_circuit,\n",
    "                     n_shots,\n",
    "                     ancilla_amplitudes,\n",
    "                     Hamilt.molecule.n_qubits,\n",
    "                     N_indices_dict={7:1, 8:1, 9:1, 10:1})\n",
    "    return VQE_exp_LCU.Calc_Energy()\n",
    "\n",
    "GIVE_ENERGY(np.pi)"
   ]
  },
  {
   "cell_type": "code",
   "execution_count": 36,
   "metadata": {},
   "outputs": [
    {
     "name": "stdout",
     "output_type": "stream",
     "text": [
      "(0.12062523481381837+0j) [Z0 Z2] (-0.12062523481381837+0j)\n",
      "(0.174412876106516+0j) [Z2 Z3] (0.174412876106516+0j)\n",
      "(0.1686889816869329+0j) [Z0 Z1] (0.1686889816869329+0j)\n",
      "(0.16592785032250768+0j) [Z0 Z3] (-0.16592785032250768+0j)\n",
      "(0.16592785032250768+0j) [Z1 Z2] (-0.16592785032250768+0j)\n",
      "(0.12062523481381837+0j) [Z1 Z3] (-0.12062523481381837+0j)\n",
      "1 [X0 Y1 Y2 X3] (0.17729829109248618+0j) -0.0142\n",
      "1 [X0 X1 Y2 Y3] (0.22797802215321797+0j) 0.0086\n",
      "1 [Y0 X1 X2 Y3] (0.17729829109248613+0j) -0.0004\n",
      "1 [Y0 Y1 X2 X3] (0.22797802215321797+0j) -0.0156\n",
      "(0.12062523481381837+0j) [Z0 Z2] (-0.12062523481381837+0j)\n",
      "(0.174412876106516+0j) [Z2 Z3] (0.174412876106516+0j)\n",
      "(0.1686889816869329+0j) [Z0 Z1] (0.1686889816869329+0j)\n",
      "(0.16592785032250768+0j) [Z0 Z3] (-0.16592785032250768+0j)\n",
      "(0.16592785032250768+0j) [Z1 Z2] (-0.16592785032250768+0j)\n",
      "(0.12062523481381837+0j) [Z1 Z3] (-0.12062523481381837+0j)\n",
      "1 [X0 Y1 Y2 X3] (0.17729829109248618+0j) -0.082\n",
      "1 [X0 X1 Y2 Y3] (0.22797802215321797+0j) -0.0696\n",
      "1 [Y0 X1 X2 Y3] (0.17729829109248613+0j) -0.1126\n",
      "1 [Y0 Y1 X2 X3] (0.22797802215321797+0j) -0.075\n",
      "(0.12062523481381837+0j) [Z0 Z2] (-0.12062523481381837+0j)\n",
      "(0.174412876106516+0j) [Z2 Z3] (0.174412876106516+0j)\n",
      "(0.1686889816869329+0j) [Z0 Z1] (0.1686889816869329+0j)\n",
      "(0.16592785032250768+0j) [Z0 Z3] (-0.16592785032250768+0j)\n",
      "(0.16592785032250768+0j) [Z1 Z2] (-0.16592785032250768+0j)\n",
      "(0.12062523481381837+0j) [Z1 Z3] (-0.12062523481381837+0j)\n",
      "1 [X0 Y1 Y2 X3] (0.17729829109248618+0j) -0.1898\n",
      "1 [X0 X1 Y2 Y3] (0.22797802215321797+0j) -0.1406\n",
      "1 [Y0 X1 X2 Y3] (0.17729829109248613+0j) -0.1946\n",
      "1 [Y0 Y1 X2 X3] (0.22797802215321797+0j) -0.1628\n",
      "(0.12062523481381837+0j) [Z0 Z2] (-0.12062523481381837+0j)\n",
      "(0.174412876106516+0j) [Z2 Z3] (0.174412876106516+0j)\n",
      "(0.1686889816869329+0j) [Z0 Z1] (0.1686889816869329+0j)\n",
      "(0.16592785032250768+0j) [Z0 Z3] (-0.16592785032250768+0j)\n",
      "(0.16592785032250768+0j) [Z1 Z2] (-0.16592785032250768+0j)\n",
      "(0.12062523481381837+0j) [Z1 Z3] (-0.12062523481381837+0j)\n",
      "1 [X0 Y1 Y2 X3] (0.17729829109248618+0j) -0.2626\n",
      "1 [X0 X1 Y2 Y3] (0.22797802215321797+0j) -0.2076\n",
      "1 [Y0 X1 X2 Y3] (0.17729829109248613+0j) -0.2694\n",
      "1 [Y0 Y1 X2 X3] (0.22797802215321797+0j) -0.2082\n",
      "(0.12062523481381837+0j) [Z0 Z2] (-0.12062523481381837+0j)\n",
      "(0.174412876106516+0j) [Z2 Z3] (0.174412876106516+0j)\n",
      "(0.1686889816869329+0j) [Z0 Z1] (0.1686889816869329+0j)\n",
      "(0.16592785032250768+0j) [Z0 Z3] (-0.16592785032250768+0j)\n",
      "(0.16592785032250768+0j) [Z1 Z2] (-0.16592785032250768+0j)\n",
      "(0.12062523481381837+0j) [Z1 Z3] (-0.12062523481381837+0j)\n",
      "1 [X0 Y1 Y2 X3] (0.17729829109248618+0j) -0.3186\n",
      "1 [X0 X1 Y2 Y3] (0.22797802215321797+0j) -0.2804\n",
      "1 [Y0 X1 X2 Y3] (0.17729829109248613+0j) -0.363\n",
      "1 [Y0 Y1 X2 X3] (0.22797802215321797+0j) -0.2688\n",
      "(0.12062523481381837+0j) [Z0 Z2] (-0.12062523481381837+0j)\n",
      "(0.174412876106516+0j) [Z2 Z3] (0.174412876106516+0j)\n",
      "(0.1686889816869329+0j) [Z0 Z1] (0.1686889816869329+0j)\n",
      "(0.16592785032250768+0j) [Z0 Z3] (-0.16592785032250768+0j)\n",
      "(0.16592785032250768+0j) [Z1 Z2] (-0.16592785032250768+0j)\n",
      "(0.12062523481381837+0j) [Z1 Z3] (-0.12062523481381837+0j)\n",
      "1 [X0 Y1 Y2 X3] (0.17729829109248618+0j) -0.4026\n",
      "1 [X0 X1 Y2 Y3] (0.22797802215321797+0j) -0.332\n",
      "1 [Y0 X1 X2 Y3] (0.17729829109248613+0j) -0.3938\n",
      "1 [Y0 Y1 X2 X3] (0.22797802215321797+0j) -0.3178\n",
      "(0.12062523481381837+0j) [Z0 Z2] (-0.12062523481381837+0j)\n",
      "(0.174412876106516+0j) [Z2 Z3] (0.174412876106516+0j)\n",
      "(0.1686889816869329+0j) [Z0 Z1] (0.1686889816869329+0j)\n",
      "(0.16592785032250768+0j) [Z0 Z3] (-0.16592785032250768+0j)\n",
      "(0.16592785032250768+0j) [Z1 Z2] (-0.16592785032250768+0j)\n",
      "(0.12062523481381837+0j) [Z1 Z3] (-0.12062523481381837+0j)\n",
      "1 [X0 Y1 Y2 X3] (0.17729829109248618+0j) -0.4576\n",
      "1 [X0 X1 Y2 Y3] (0.22797802215321797+0j) -0.3632\n",
      "1 [Y0 X1 X2 Y3] (0.17729829109248613+0j) -0.4546\n",
      "1 [Y0 Y1 X2 X3] (0.22797802215321797+0j) -0.3506\n",
      "(0.12062523481381837+0j) [Z0 Z2] (-0.12062523481381837+0j)\n",
      "(0.174412876106516+0j) [Z2 Z3] (0.174412876106516+0j)\n",
      "(0.1686889816869329+0j) [Z0 Z1] (0.1686889816869329+0j)\n",
      "(0.16592785032250768+0j) [Z0 Z3] (-0.16592785032250768+0j)\n",
      "(0.16592785032250768+0j) [Z1 Z2] (-0.16592785032250768+0j)\n",
      "(0.12062523481381837+0j) [Z1 Z3] (-0.12062523481381837+0j)\n",
      "1 [X0 Y1 Y2 X3] (0.17729829109248618+0j) -0.4632\n",
      "1 [X0 X1 Y2 Y3] (0.22797802215321797+0j) -0.3842\n",
      "1 [Y0 X1 X2 Y3] (0.17729829109248613+0j) -0.4672\n",
      "1 [Y0 Y1 X2 X3] (0.22797802215321797+0j) -0.3782\n",
      "(0.12062523481381837+0j) [Z0 Z2] (-0.12062523481381837+0j)\n",
      "(0.174412876106516+0j) [Z2 Z3] (0.174412876106516+0j)\n",
      "(0.1686889816869329+0j) [Z0 Z1] (0.1686889816869329+0j)\n",
      "(0.16592785032250768+0j) [Z0 Z3] (-0.16592785032250768+0j)\n",
      "(0.16592785032250768+0j) [Z1 Z2] (-0.16592785032250768+0j)\n",
      "(0.12062523481381837+0j) [Z1 Z3] (-0.12062523481381837+0j)\n",
      "1 [X0 Y1 Y2 X3] (0.17729829109248618+0j) -0.4762\n",
      "1 [X0 X1 Y2 Y3] (0.22797802215321797+0j) -0.3896\n",
      "1 [Y0 X1 X2 Y3] (0.17729829109248613+0j) -0.4904\n",
      "1 [Y0 Y1 X2 X3] (0.22797802215321797+0j) -0.3628\n",
      "(0.12062523481381837+0j) [Z0 Z2] (-0.12062523481381837+0j)\n",
      "(0.174412876106516+0j) [Z2 Z3] (0.174412876106516+0j)\n",
      "(0.1686889816869329+0j) [Z0 Z1] (0.1686889816869329+0j)\n",
      "(0.16592785032250768+0j) [Z0 Z3] (-0.16592785032250768+0j)\n",
      "(0.16592785032250768+0j) [Z1 Z2] (-0.16592785032250768+0j)\n",
      "(0.12062523481381837+0j) [Z1 Z3] (-0.12062523481381837+0j)\n",
      "1 [X0 Y1 Y2 X3] (0.17729829109248618+0j) -0.4628\n",
      "1 [X0 X1 Y2 Y3] (0.22797802215321797+0j) -0.3574\n",
      "1 [Y0 X1 X2 Y3] (0.17729829109248613+0j) -0.463\n",
      "1 [Y0 Y1 X2 X3] (0.22797802215321797+0j) -0.3804\n",
      "(0.12062523481381837+0j) [Z0 Z2] (-0.12062523481381837+0j)\n",
      "(0.174412876106516+0j) [Z2 Z3] (0.174412876106516+0j)\n",
      "(0.1686889816869329+0j) [Z0 Z1] (0.1686889816869329+0j)\n",
      "(0.16592785032250768+0j) [Z0 Z3] (-0.16592785032250768+0j)\n",
      "(0.16592785032250768+0j) [Z1 Z2] (-0.16592785032250768+0j)\n",
      "(0.12062523481381837+0j) [Z1 Z3] (-0.12062523481381837+0j)\n",
      "1 [X0 Y1 Y2 X3] (0.17729829109248618+0j) -0.4416\n",
      "1 [X0 X1 Y2 Y3] (0.22797802215321797+0j) -0.3522\n",
      "1 [Y0 X1 X2 Y3] (0.17729829109248613+0j) -0.4334\n",
      "1 [Y0 Y1 X2 X3] (0.22797802215321797+0j) -0.3502\n",
      "(0.12062523481381837+0j) [Z0 Z2] (-0.12062523481381837+0j)\n",
      "(0.174412876106516+0j) [Z2 Z3] (0.174412876106516+0j)\n",
      "(0.1686889816869329+0j) [Z0 Z1] (0.1686889816869329+0j)\n",
      "(0.16592785032250768+0j) [Z0 Z3] (-0.16592785032250768+0j)\n",
      "(0.16592785032250768+0j) [Z1 Z2] (-0.16592785032250768+0j)\n",
      "(0.12062523481381837+0j) [Z1 Z3] (-0.12062523481381837+0j)\n",
      "1 [X0 Y1 Y2 X3] (0.17729829109248618+0j) -0.3932\n",
      "1 [X0 X1 Y2 Y3] (0.22797802215321797+0j) -0.3232\n",
      "1 [Y0 X1 X2 Y3] (0.17729829109248613+0j) -0.3792\n",
      "1 [Y0 Y1 X2 X3] (0.22797802215321797+0j) -0.3132\n",
      "(0.12062523481381837+0j) [Z0 Z2] (-0.12062523481381837+0j)\n",
      "(0.174412876106516+0j) [Z2 Z3] (0.174412876106516+0j)\n",
      "(0.1686889816869329+0j) [Z0 Z1] (0.1686889816869329+0j)\n",
      "(0.16592785032250768+0j) [Z0 Z3] (-0.16592785032250768+0j)\n",
      "(0.16592785032250768+0j) [Z1 Z2] (-0.16592785032250768+0j)\n",
      "(0.12062523481381837+0j) [Z1 Z3] (-0.12062523481381837+0j)\n",
      "1 [X0 Y1 Y2 X3] (0.17729829109248618+0j) -0.3158\n",
      "1 [X0 X1 Y2 Y3] (0.22797802215321797+0j) -0.2434\n",
      "1 [Y0 X1 X2 Y3] (0.17729829109248613+0j) -0.3272\n",
      "1 [Y0 Y1 X2 X3] (0.22797802215321797+0j) -0.2542\n",
      "(0.12062523481381837+0j) [Z0 Z2] (-0.12062523481381837+0j)\n",
      "(0.174412876106516+0j) [Z2 Z3] (0.174412876106516+0j)\n",
      "(0.1686889816869329+0j) [Z0 Z1] (0.1686889816869329+0j)\n",
      "(0.16592785032250768+0j) [Z0 Z3] (-0.16592785032250768+0j)\n",
      "(0.16592785032250768+0j) [Z1 Z2] (-0.16592785032250768+0j)\n",
      "(0.12062523481381837+0j) [Z1 Z3] (-0.12062523481381837+0j)\n",
      "1 [X0 Y1 Y2 X3] (0.17729829109248618+0j) -0.2352\n",
      "1 [X0 X1 Y2 Y3] (0.22797802215321797+0j) -0.196\n",
      "1 [Y0 X1 X2 Y3] (0.17729829109248613+0j) -0.2336\n",
      "1 [Y0 Y1 X2 X3] (0.22797802215321797+0j) -0.2158\n",
      "(0.12062523481381837+0j) [Z0 Z2] (-0.12062523481381837+0j)\n",
      "(0.174412876106516+0j) [Z2 Z3] (0.174412876106516+0j)\n",
      "(0.1686889816869329+0j) [Z0 Z1] (0.1686889816869329+0j)\n",
      "(0.16592785032250768+0j) [Z0 Z3] (-0.16592785032250768+0j)\n",
      "(0.16592785032250768+0j) [Z1 Z2] (-0.16592785032250768+0j)\n",
      "(0.12062523481381837+0j) [Z1 Z3] (-0.12062523481381837+0j)\n",
      "1 [X0 Y1 Y2 X3] (0.17729829109248618+0j) -0.157\n",
      "1 [X0 X1 Y2 Y3] (0.22797802215321797+0j) -0.127\n",
      "1 [Y0 X1 X2 Y3] (0.17729829109248613+0j) -0.15\n",
      "1 [Y0 Y1 X2 X3] (0.22797802215321797+0j) -0.1278\n",
      "(0.12062523481381837+0j) [Z0 Z2] (-0.12062523481381837+0j)\n",
      "(0.174412876106516+0j) [Z2 Z3] (0.174412876106516+0j)\n",
      "(0.1686889816869329+0j) [Z0 Z1] (0.1686889816869329+0j)\n",
      "(0.16592785032250768+0j) [Z0 Z3] (-0.16592785032250768+0j)\n"
     ]
    },
    {
     "name": "stdout",
     "output_type": "stream",
     "text": [
      "(0.16592785032250768+0j) [Z1 Z2] (-0.16592785032250768+0j)\n",
      "(0.12062523481381837+0j) [Z1 Z3] (-0.12062523481381837+0j)\n",
      "1 [X0 Y1 Y2 X3] (0.17729829109248618+0j) -0.0746\n",
      "1 [X0 X1 Y2 Y3] (0.22797802215321797+0j) -0.0338\n",
      "1 [Y0 X1 X2 Y3] (0.17729829109248613+0j) -0.0734\n",
      "1 [Y0 Y1 X2 X3] (0.22797802215321797+0j) -0.0644\n",
      "(0.12062523481381837+0j) [Z0 Z2] (-0.12062523481381837+0j)\n",
      "(0.174412876106516+0j) [Z2 Z3] (0.174412876106516+0j)\n",
      "(0.1686889816869329+0j) [Z0 Z1] (0.1686889816869329+0j)\n",
      "(0.16592785032250768+0j) [Z0 Z3] (-0.16592785032250768+0j)\n",
      "(0.16592785032250768+0j) [Z1 Z2] (-0.16592785032250768+0j)\n",
      "(0.12062523481381837+0j) [Z1 Z3] (-0.12062523481381837+0j)\n",
      "1 [X0 Y1 Y2 X3] (0.17729829109248618+0j) 0.0068\n",
      "1 [X0 X1 Y2 Y3] (0.22797802215321797+0j) 0.0274\n",
      "1 [Y0 X1 X2 Y3] (0.17729829109248613+0j) 0.0414\n",
      "1 [Y0 Y1 X2 X3] (0.22797802215321797+0j) 0.0152\n",
      "(0.12062523481381837+0j) [Z0 Z2] (-0.12062523481381837+0j)\n",
      "(0.174412876106516+0j) [Z2 Z3] (0.174412876106516+0j)\n",
      "(0.1686889816869329+0j) [Z0 Z1] (0.1686889816869329+0j)\n",
      "(0.16592785032250768+0j) [Z0 Z3] (-0.16592785032250768+0j)\n",
      "(0.16592785032250768+0j) [Z1 Z2] (-0.16592785032250768+0j)\n",
      "(0.12062523481381837+0j) [Z1 Z3] (-0.12062523481381837+0j)\n",
      "1 [X0 Y1 Y2 X3] (0.17729829109248618+0j) 0.1064\n",
      "1 [X0 X1 Y2 Y3] (0.22797802215321797+0j) 0.103\n",
      "1 [Y0 X1 X2 Y3] (0.17729829109248613+0j) 0.1064\n",
      "1 [Y0 Y1 X2 X3] (0.22797802215321797+0j) 0.116\n",
      "(0.12062523481381837+0j) [Z0 Z2] (-0.12062523481381837+0j)\n",
      "(0.174412876106516+0j) [Z2 Z3] (0.174412876106516+0j)\n",
      "(0.1686889816869329+0j) [Z0 Z1] (0.1686889816869329+0j)\n",
      "(0.16592785032250768+0j) [Z0 Z3] (-0.16592785032250768+0j)\n",
      "(0.16592785032250768+0j) [Z1 Z2] (-0.16592785032250768+0j)\n",
      "(0.12062523481381837+0j) [Z1 Z3] (-0.12062523481381837+0j)\n",
      "1 [X0 Y1 Y2 X3] (0.17729829109248618+0j) 0.2118\n",
      "1 [X0 X1 Y2 Y3] (0.22797802215321797+0j) 0.1646\n",
      "1 [Y0 X1 X2 Y3] (0.17729829109248613+0j) 0.2106\n",
      "1 [Y0 Y1 X2 X3] (0.22797802215321797+0j) 0.1574\n",
      "(0.12062523481381837+0j) [Z0 Z2] (-0.12062523481381837+0j)\n",
      "(0.174412876106516+0j) [Z2 Z3] (0.174412876106516+0j)\n",
      "(0.1686889816869329+0j) [Z0 Z1] (0.1686889816869329+0j)\n",
      "(0.16592785032250768+0j) [Z0 Z3] (-0.16592785032250768+0j)\n",
      "(0.16592785032250768+0j) [Z1 Z2] (-0.16592785032250768+0j)\n",
      "(0.12062523481381837+0j) [Z1 Z3] (-0.12062523481381837+0j)\n",
      "1 [X0 Y1 Y2 X3] (0.17729829109248618+0j) 0.289\n",
      "1 [X0 X1 Y2 Y3] (0.22797802215321797+0j) 0.245\n",
      "1 [Y0 X1 X2 Y3] (0.17729829109248613+0j) 0.3044\n",
      "1 [Y0 Y1 X2 X3] (0.22797802215321797+0j) 0.2428\n",
      "(0.12062523481381837+0j) [Z0 Z2] (-0.12062523481381837+0j)\n",
      "(0.174412876106516+0j) [Z2 Z3] (0.174412876106516+0j)\n",
      "(0.1686889816869329+0j) [Z0 Z1] (0.1686889816869329+0j)\n",
      "(0.16592785032250768+0j) [Z0 Z3] (-0.16592785032250768+0j)\n",
      "(0.16592785032250768+0j) [Z1 Z2] (-0.16592785032250768+0j)\n",
      "(0.12062523481381837+0j) [Z1 Z3] (-0.12062523481381837+0j)\n",
      "1 [X0 Y1 Y2 X3] (0.17729829109248618+0j) 0.3638\n",
      "1 [X0 X1 Y2 Y3] (0.22797802215321797+0j) 0.2696\n",
      "1 [Y0 X1 X2 Y3] (0.17729829109248613+0j) 0.3808\n",
      "1 [Y0 Y1 X2 X3] (0.22797802215321797+0j) 0.2906\n",
      "(0.12062523481381837+0j) [Z0 Z2] (-0.12062523481381837+0j)\n",
      "(0.174412876106516+0j) [Z2 Z3] (0.174412876106516+0j)\n",
      "(0.1686889816869329+0j) [Z0 Z1] (0.1686889816869329+0j)\n",
      "(0.16592785032250768+0j) [Z0 Z3] (-0.16592785032250768+0j)\n",
      "(0.16592785032250768+0j) [Z1 Z2] (-0.16592785032250768+0j)\n",
      "(0.12062523481381837+0j) [Z1 Z3] (-0.12062523481381837+0j)\n",
      "1 [X0 Y1 Y2 X3] (0.17729829109248618+0j) 0.431\n",
      "1 [X0 X1 Y2 Y3] (0.22797802215321797+0j) 0.334\n",
      "1 [Y0 X1 X2 Y3] (0.17729829109248613+0j) 0.427\n",
      "1 [Y0 Y1 X2 X3] (0.22797802215321797+0j) 0.3284\n",
      "(0.12062523481381837+0j) [Z0 Z2] (-0.12062523481381837+0j)\n",
      "(0.174412876106516+0j) [Z2 Z3] (0.174412876106516+0j)\n",
      "(0.1686889816869329+0j) [Z0 Z1] (0.1686889816869329+0j)\n",
      "(0.16592785032250768+0j) [Z0 Z3] (-0.16592785032250768+0j)\n",
      "(0.16592785032250768+0j) [Z1 Z2] (-0.16592785032250768+0j)\n",
      "(0.12062523481381837+0j) [Z1 Z3] (-0.12062523481381837+0j)\n",
      "1 [X0 Y1 Y2 X3] (0.17729829109248618+0j) 0.4508\n",
      "1 [X0 X1 Y2 Y3] (0.22797802215321797+0j) 0.3522\n",
      "1 [Y0 X1 X2 Y3] (0.17729829109248613+0j) 0.4528\n",
      "1 [Y0 Y1 X2 X3] (0.22797802215321797+0j) 0.372\n",
      "(0.12062523481381837+0j) [Z0 Z2] (-0.12062523481381837+0j)\n",
      "(0.174412876106516+0j) [Z2 Z3] (0.174412876106516+0j)\n",
      "(0.1686889816869329+0j) [Z0 Z1] (0.1686889816869329+0j)\n",
      "(0.16592785032250768+0j) [Z0 Z3] (-0.16592785032250768+0j)\n",
      "(0.16592785032250768+0j) [Z1 Z2] (-0.16592785032250768+0j)\n",
      "(0.12062523481381837+0j) [Z1 Z3] (-0.12062523481381837+0j)\n",
      "1 [X0 Y1 Y2 X3] (0.17729829109248618+0j) 0.4638\n",
      "1 [X0 X1 Y2 Y3] (0.22797802215321797+0j) 0.3714\n",
      "1 [Y0 X1 X2 Y3] (0.17729829109248613+0j) 0.4756\n",
      "1 [Y0 Y1 X2 X3] (0.22797802215321797+0j) 0.3878\n",
      "(0.12062523481381837+0j) [Z0 Z2] (-0.12062523481381837+0j)\n",
      "(0.174412876106516+0j) [Z2 Z3] (0.174412876106516+0j)\n",
      "(0.1686889816869329+0j) [Z0 Z1] (0.1686889816869329+0j)\n",
      "(0.16592785032250768+0j) [Z0 Z3] (-0.16592785032250768+0j)\n",
      "(0.16592785032250768+0j) [Z1 Z2] (-0.16592785032250768+0j)\n",
      "(0.12062523481381837+0j) [Z1 Z3] (-0.12062523481381837+0j)\n",
      "1 [X0 Y1 Y2 X3] (0.17729829109248618+0j) 0.4812\n",
      "1 [X0 X1 Y2 Y3] (0.22797802215321797+0j) 0.3712\n",
      "1 [Y0 X1 X2 Y3] (0.17729829109248613+0j) 0.4812\n",
      "1 [Y0 Y1 X2 X3] (0.22797802215321797+0j) 0.3816\n",
      "(0.12062523481381837+0j) [Z0 Z2] (-0.12062523481381837+0j)\n",
      "(0.174412876106516+0j) [Z2 Z3] (0.174412876106516+0j)\n",
      "(0.1686889816869329+0j) [Z0 Z1] (0.1686889816869329+0j)\n",
      "(0.16592785032250768+0j) [Z0 Z3] (-0.16592785032250768+0j)\n",
      "(0.16592785032250768+0j) [Z1 Z2] (-0.16592785032250768+0j)\n",
      "(0.12062523481381837+0j) [Z1 Z3] (-0.12062523481381837+0j)\n",
      "1 [X0 Y1 Y2 X3] (0.17729829109248618+0j) 0.4538\n",
      "1 [X0 X1 Y2 Y3] (0.22797802215321797+0j) 0.3726\n",
      "1 [Y0 X1 X2 Y3] (0.17729829109248613+0j) 0.4446\n",
      "1 [Y0 Y1 X2 X3] (0.22797802215321797+0j) 0.3542\n",
      "(0.12062523481381837+0j) [Z0 Z2] (-0.12062523481381837+0j)\n",
      "(0.174412876106516+0j) [Z2 Z3] (0.174412876106516+0j)\n",
      "(0.1686889816869329+0j) [Z0 Z1] (0.1686889816869329+0j)\n",
      "(0.16592785032250768+0j) [Z0 Z3] (-0.16592785032250768+0j)\n",
      "(0.16592785032250768+0j) [Z1 Z2] (-0.16592785032250768+0j)\n",
      "(0.12062523481381837+0j) [Z1 Z3] (-0.12062523481381837+0j)\n",
      "1 [X0 Y1 Y2 X3] (0.17729829109248618+0j) 0.4288\n",
      "1 [X0 X1 Y2 Y3] (0.22797802215321797+0j) 0.326\n",
      "1 [Y0 X1 X2 Y3] (0.17729829109248613+0j) 0.419\n",
      "1 [Y0 Y1 X2 X3] (0.22797802215321797+0j) 0.3478\n",
      "(0.12062523481381837+0j) [Z0 Z2] (-0.12062523481381837+0j)\n",
      "(0.174412876106516+0j) [Z2 Z3] (0.174412876106516+0j)\n",
      "(0.1686889816869329+0j) [Z0 Z1] (0.1686889816869329+0j)\n",
      "(0.16592785032250768+0j) [Z0 Z3] (-0.16592785032250768+0j)\n",
      "(0.16592785032250768+0j) [Z1 Z2] (-0.16592785032250768+0j)\n",
      "(0.12062523481381837+0j) [Z1 Z3] (-0.12062523481381837+0j)\n",
      "1 [X0 Y1 Y2 X3] (0.17729829109248618+0j) 0.357\n",
      "1 [X0 X1 Y2 Y3] (0.22797802215321797+0j) 0.3048\n",
      "1 [Y0 X1 X2 Y3] (0.17729829109248613+0j) 0.3778\n",
      "1 [Y0 Y1 X2 X3] (0.22797802215321797+0j) 0.3036\n",
      "(0.12062523481381837+0j) [Z0 Z2] (-0.12062523481381837+0j)\n",
      "(0.174412876106516+0j) [Z2 Z3] (0.174412876106516+0j)\n",
      "(0.1686889816869329+0j) [Z0 Z1] (0.1686889816869329+0j)\n",
      "(0.16592785032250768+0j) [Z0 Z3] (-0.16592785032250768+0j)\n",
      "(0.16592785032250768+0j) [Z1 Z2] (-0.16592785032250768+0j)\n",
      "(0.12062523481381837+0j) [Z1 Z3] (-0.12062523481381837+0j)\n",
      "1 [X0 Y1 Y2 X3] (0.17729829109248618+0j) 0.3088\n",
      "1 [X0 X1 Y2 Y3] (0.22797802215321797+0j) 0.243\n",
      "1 [Y0 X1 X2 Y3] (0.17729829109248613+0j) 0.2918\n",
      "1 [Y0 Y1 X2 X3] (0.22797802215321797+0j) 0.2502\n",
      "(0.12062523481381837+0j) [Z0 Z2] (-0.12062523481381837+0j)\n",
      "(0.174412876106516+0j) [Z2 Z3] (0.174412876106516+0j)\n",
      "(0.1686889816869329+0j) [Z0 Z1] (0.1686889816869329+0j)\n",
      "(0.16592785032250768+0j) [Z0 Z3] (-0.16592785032250768+0j)\n",
      "(0.16592785032250768+0j) [Z1 Z2] (-0.16592785032250768+0j)\n",
      "(0.12062523481381837+0j) [Z1 Z3] (-0.12062523481381837+0j)\n",
      "1 [X0 Y1 Y2 X3] (0.17729829109248618+0j) 0.2084\n",
      "1 [X0 X1 Y2 Y3] (0.22797802215321797+0j) 0.1734\n",
      "1 [Y0 X1 X2 Y3] (0.17729829109248613+0j) 0.2448\n",
      "1 [Y0 Y1 X2 X3] (0.22797802215321797+0j) 0.1748\n",
      "(0.12062523481381837+0j) [Z0 Z2] (-0.12062523481381837+0j)\n",
      "(0.174412876106516+0j) [Z2 Z3] (0.174412876106516+0j)\n",
      "(0.1686889816869329+0j) [Z0 Z1] (0.1686889816869329+0j)\n",
      "(0.16592785032250768+0j) [Z0 Z3] (-0.16592785032250768+0j)\n",
      "(0.16592785032250768+0j) [Z1 Z2] (-0.16592785032250768+0j)\n",
      "(0.12062523481381837+0j) [Z1 Z3] (-0.12062523481381837+0j)\n",
      "1 [X0 Y1 Y2 X3] (0.17729829109248618+0j) 0.1296\n"
     ]
    },
    {
     "name": "stdout",
     "output_type": "stream",
     "text": [
      "1 [X0 X1 Y2 Y3] (0.22797802215321797+0j) 0.105\n",
      "1 [Y0 X1 X2 Y3] (0.17729829109248613+0j) 0.1272\n",
      "1 [Y0 Y1 X2 X3] (0.22797802215321797+0j) 0.1078\n",
      "(0.12062523481381837+0j) [Z0 Z2] (-0.12062523481381837+0j)\n",
      "(0.174412876106516+0j) [Z2 Z3] (0.174412876106516+0j)\n",
      "(0.1686889816869329+0j) [Z0 Z1] (0.1686889816869329+0j)\n",
      "(0.16592785032250768+0j) [Z0 Z3] (-0.16592785032250768+0j)\n",
      "(0.16592785032250768+0j) [Z1 Z2] (-0.16592785032250768+0j)\n",
      "(0.12062523481381837+0j) [Z1 Z3] (-0.12062523481381837+0j)\n",
      "1 [X0 Y1 Y2 X3] (0.17729829109248618+0j) 0.0318\n",
      "1 [X0 X1 Y2 Y3] (0.22797802215321797+0j) 0.0328\n",
      "1 [Y0 X1 X2 Y3] (0.17729829109248613+0j) 0.0426\n",
      "1 [Y0 Y1 X2 X3] (0.22797802215321797+0j) 0.025\n",
      "(0.12062523481381837+0j) [Z0 Z2] (-0.12062523481381837+0j)\n",
      "(0.174412876106516+0j) [Z2 Z3] (0.174412876106516+0j)\n",
      "(0.1686889816869329+0j) [Z0 Z1] (0.1686889816869329+0j)\n",
      "(0.16592785032250768+0j) [Z0 Z3] (-0.16592785032250768+0j)\n",
      "(0.16592785032250768+0j) [Z1 Z2] (-0.16592785032250768+0j)\n",
      "(0.12062523481381837+0j) [Z1 Z3] (-0.12062523481381837+0j)\n",
      "1 [X0 Y1 Y2 X3] (0.17729829109248618+0j) -0.0484\n",
      "1 [X0 X1 Y2 Y3] (0.22797802215321797+0j) -0.0474\n",
      "1 [Y0 X1 X2 Y3] (0.17729829109248613+0j) -0.0426\n",
      "1 [Y0 Y1 X2 X3] (0.22797802215321797+0j) -0.0562\n",
      "(0.12062523481381837+0j) [Z0 Z2] (-0.12062523481381837+0j)\n",
      "(0.174412876106516+0j) [Z2 Z3] (0.174412876106516+0j)\n",
      "(0.1686889816869329+0j) [Z0 Z1] (0.1686889816869329+0j)\n",
      "(0.16592785032250768+0j) [Z0 Z3] (-0.16592785032250768+0j)\n",
      "(0.16592785032250768+0j) [Z1 Z2] (-0.16592785032250768+0j)\n",
      "(0.12062523481381837+0j) [Z1 Z3] (-0.12062523481381837+0j)\n",
      "1 [X0 Y1 Y2 X3] (0.17729829109248618+0j) -0.1528\n",
      "1 [X0 X1 Y2 Y3] (0.22797802215321797+0j) -0.1018\n",
      "1 [Y0 X1 X2 Y3] (0.17729829109248613+0j) -0.1402\n",
      "1 [Y0 Y1 X2 X3] (0.22797802215321797+0j) -0.1012\n",
      "(0.12062523481381837+0j) [Z0 Z2] (-0.12062523481381837+0j)\n",
      "(0.174412876106516+0j) [Z2 Z3] (0.174412876106516+0j)\n",
      "(0.1686889816869329+0j) [Z0 Z1] (0.1686889816869329+0j)\n",
      "(0.16592785032250768+0j) [Z0 Z3] (-0.16592785032250768+0j)\n",
      "(0.16592785032250768+0j) [Z1 Z2] (-0.16592785032250768+0j)\n",
      "(0.12062523481381837+0j) [Z1 Z3] (-0.12062523481381837+0j)\n",
      "1 [X0 Y1 Y2 X3] (0.17729829109248618+0j) -0.2316\n",
      "1 [X0 X1 Y2 Y3] (0.22797802215321797+0j) -0.2116\n",
      "1 [Y0 X1 X2 Y3] (0.17729829109248613+0j) -0.245\n",
      "1 [Y0 Y1 X2 X3] (0.22797802215321797+0j) -0.1782\n",
      "(0.12062523481381837+0j) [Z0 Z2] (-0.12062523481381837+0j)\n",
      "(0.174412876106516+0j) [Z2 Z3] (0.174412876106516+0j)\n",
      "(0.1686889816869329+0j) [Z0 Z1] (0.1686889816869329+0j)\n",
      "(0.16592785032250768+0j) [Z0 Z3] (-0.16592785032250768+0j)\n",
      "(0.16592785032250768+0j) [Z1 Z2] (-0.16592785032250768+0j)\n",
      "(0.12062523481381837+0j) [Z1 Z3] (-0.12062523481381837+0j)\n",
      "1 [X0 Y1 Y2 X3] (0.17729829109248618+0j) -0.322\n",
      "1 [X0 X1 Y2 Y3] (0.22797802215321797+0j) -0.2442\n",
      "1 [Y0 X1 X2 Y3] (0.17729829109248613+0j) -0.321\n",
      "1 [Y0 Y1 X2 X3] (0.22797802215321797+0j) -0.2506\n",
      "(0.12062523481381837+0j) [Z0 Z2] (-0.12062523481381837+0j)\n",
      "(0.174412876106516+0j) [Z2 Z3] (0.174412876106516+0j)\n",
      "(0.1686889816869329+0j) [Z0 Z1] (0.1686889816869329+0j)\n",
      "(0.16592785032250768+0j) [Z0 Z3] (-0.16592785032250768+0j)\n",
      "(0.16592785032250768+0j) [Z1 Z2] (-0.16592785032250768+0j)\n",
      "(0.12062523481381837+0j) [Z1 Z3] (-0.12062523481381837+0j)\n",
      "1 [X0 Y1 Y2 X3] (0.17729829109248618+0j) -0.3692\n",
      "1 [X0 X1 Y2 Y3] (0.22797802215321797+0j) -0.3012\n",
      "1 [Y0 X1 X2 Y3] (0.17729829109248613+0j) -0.3726\n",
      "1 [Y0 Y1 X2 X3] (0.22797802215321797+0j) -0.3048\n",
      "(0.12062523481381837+0j) [Z0 Z2] (-0.12062523481381837+0j)\n",
      "(0.174412876106516+0j) [Z2 Z3] (0.174412876106516+0j)\n",
      "(0.1686889816869329+0j) [Z0 Z1] (0.1686889816869329+0j)\n",
      "(0.16592785032250768+0j) [Z0 Z3] (-0.16592785032250768+0j)\n",
      "(0.16592785032250768+0j) [Z1 Z2] (-0.16592785032250768+0j)\n",
      "(0.12062523481381837+0j) [Z1 Z3] (-0.12062523481381837+0j)\n",
      "1 [X0 Y1 Y2 X3] (0.17729829109248618+0j) -0.4388\n",
      "1 [X0 X1 Y2 Y3] (0.22797802215321797+0j) -0.336\n",
      "1 [Y0 X1 X2 Y3] (0.17729829109248613+0j) -0.45\n",
      "1 [Y0 Y1 X2 X3] (0.22797802215321797+0j) -0.3412\n",
      "(0.12062523481381837+0j) [Z0 Z2] (-0.12062523481381837+0j)\n",
      "(0.174412876106516+0j) [Z2 Z3] (0.174412876106516+0j)\n",
      "(0.1686889816869329+0j) [Z0 Z1] (0.1686889816869329+0j)\n",
      "(0.16592785032250768+0j) [Z0 Z3] (-0.16592785032250768+0j)\n",
      "(0.16592785032250768+0j) [Z1 Z2] (-0.16592785032250768+0j)\n",
      "(0.12062523481381837+0j) [Z1 Z3] (-0.12062523481381837+0j)\n",
      "1 [X0 Y1 Y2 X3] (0.17729829109248618+0j) -0.4548\n",
      "1 [X0 X1 Y2 Y3] (0.22797802215321797+0j) -0.354\n",
      "1 [Y0 X1 X2 Y3] (0.17729829109248613+0j) -0.4604\n",
      "1 [Y0 Y1 X2 X3] (0.22797802215321797+0j) -0.3802\n",
      "(0.12062523481381837+0j) [Z0 Z2] (-0.12062523481381837+0j)\n",
      "(0.174412876106516+0j) [Z2 Z3] (0.174412876106516+0j)\n",
      "(0.1686889816869329+0j) [Z0 Z1] (0.1686889816869329+0j)\n",
      "(0.16592785032250768+0j) [Z0 Z3] (-0.16592785032250768+0j)\n",
      "(0.16592785032250768+0j) [Z1 Z2] (-0.16592785032250768+0j)\n",
      "(0.12062523481381837+0j) [Z1 Z3] (-0.12062523481381837+0j)\n",
      "1 [X0 Y1 Y2 X3] (0.17729829109248618+0j) -0.4854\n",
      "1 [X0 X1 Y2 Y3] (0.22797802215321797+0j) -0.3688\n",
      "1 [Y0 X1 X2 Y3] (0.17729829109248613+0j) -0.4594\n",
      "1 [Y0 Y1 X2 X3] (0.22797802215321797+0j) -0.3798\n",
      "(0.12062523481381837+0j) [Z0 Z2] (-0.12062523481381837+0j)\n",
      "(0.174412876106516+0j) [Z2 Z3] (0.174412876106516+0j)\n",
      "(0.1686889816869329+0j) [Z0 Z1] (0.1686889816869329+0j)\n",
      "(0.16592785032250768+0j) [Z0 Z3] (-0.16592785032250768+0j)\n",
      "(0.16592785032250768+0j) [Z1 Z2] (-0.16592785032250768+0j)\n",
      "(0.12062523481381837+0j) [Z1 Z3] (-0.12062523481381837+0j)\n",
      "1 [X0 Y1 Y2 X3] (0.17729829109248618+0j) -0.4664\n",
      "1 [X0 X1 Y2 Y3] (0.22797802215321797+0j) -0.3774\n",
      "1 [Y0 X1 X2 Y3] (0.17729829109248613+0j) -0.472\n",
      "1 [Y0 Y1 X2 X3] (0.22797802215321797+0j) -0.3722\n",
      "(0.12062523481381837+0j) [Z0 Z2] (-0.12062523481381837+0j)\n",
      "(0.174412876106516+0j) [Z2 Z3] (0.174412876106516+0j)\n",
      "(0.1686889816869329+0j) [Z0 Z1] (0.1686889816869329+0j)\n",
      "(0.16592785032250768+0j) [Z0 Z3] (-0.16592785032250768+0j)\n",
      "(0.16592785032250768+0j) [Z1 Z2] (-0.16592785032250768+0j)\n",
      "(0.12062523481381837+0j) [Z1 Z3] (-0.12062523481381837+0j)\n",
      "1 [X0 Y1 Y2 X3] (0.17729829109248618+0j) -0.4488\n",
      "1 [X0 X1 Y2 Y3] (0.22797802215321797+0j) -0.3532\n",
      "1 [Y0 X1 X2 Y3] (0.17729829109248613+0j) -0.4602\n",
      "1 [Y0 Y1 X2 X3] (0.22797802215321797+0j) -0.3832\n",
      "(0.12062523481381837+0j) [Z0 Z2] (-0.12062523481381837+0j)\n",
      "(0.174412876106516+0j) [Z2 Z3] (0.174412876106516+0j)\n",
      "(0.1686889816869329+0j) [Z0 Z1] (0.1686889816869329+0j)\n",
      "(0.16592785032250768+0j) [Z0 Z3] (-0.16592785032250768+0j)\n",
      "(0.16592785032250768+0j) [Z1 Z2] (-0.16592785032250768+0j)\n",
      "(0.12062523481381837+0j) [Z1 Z3] (-0.12062523481381837+0j)\n",
      "1 [X0 Y1 Y2 X3] (0.17729829109248618+0j) -0.4084\n",
      "1 [X0 X1 Y2 Y3] (0.22797802215321797+0j) -0.34\n",
      "1 [Y0 X1 X2 Y3] (0.17729829109248613+0j) -0.416\n",
      "1 [Y0 Y1 X2 X3] (0.22797802215321797+0j) -0.3108\n",
      "(0.12062523481381837+0j) [Z0 Z2] (-0.12062523481381837+0j)\n",
      "(0.174412876106516+0j) [Z2 Z3] (0.174412876106516+0j)\n",
      "(0.1686889816869329+0j) [Z0 Z1] (0.1686889816869329+0j)\n",
      "(0.16592785032250768+0j) [Z0 Z3] (-0.16592785032250768+0j)\n",
      "(0.16592785032250768+0j) [Z1 Z2] (-0.16592785032250768+0j)\n",
      "(0.12062523481381837+0j) [Z1 Z3] (-0.12062523481381837+0j)\n",
      "1 [X0 Y1 Y2 X3] (0.17729829109248618+0j) -0.3356\n",
      "1 [X0 X1 Y2 Y3] (0.22797802215321797+0j) -0.2946\n",
      "1 [Y0 X1 X2 Y3] (0.17729829109248613+0j) -0.3666\n",
      "1 [Y0 Y1 X2 X3] (0.22797802215321797+0j) -0.2798\n",
      "(0.12062523481381837+0j) [Z0 Z2] (-0.12062523481381837+0j)\n",
      "(0.174412876106516+0j) [Z2 Z3] (0.174412876106516+0j)\n",
      "(0.1686889816869329+0j) [Z0 Z1] (0.1686889816869329+0j)\n",
      "(0.16592785032250768+0j) [Z0 Z3] (-0.16592785032250768+0j)\n",
      "(0.16592785032250768+0j) [Z1 Z2] (-0.16592785032250768+0j)\n",
      "(0.12062523481381837+0j) [Z1 Z3] (-0.12062523481381837+0j)\n",
      "1 [X0 Y1 Y2 X3] (0.17729829109248618+0j) -0.282\n",
      "1 [X0 X1 Y2 Y3] (0.22797802215321797+0j) -0.2454\n",
      "1 [Y0 X1 X2 Y3] (0.17729829109248613+0j) -0.2896\n",
      "1 [Y0 Y1 X2 X3] (0.22797802215321797+0j) -0.2134\n",
      "(0.12062523481381837+0j) [Z0 Z2] (-0.12062523481381837+0j)\n",
      "(0.174412876106516+0j) [Z2 Z3] (0.174412876106516+0j)\n",
      "(0.1686889816869329+0j) [Z0 Z1] (0.1686889816869329+0j)\n",
      "(0.16592785032250768+0j) [Z0 Z3] (-0.16592785032250768+0j)\n",
      "(0.16592785032250768+0j) [Z1 Z2] (-0.16592785032250768+0j)\n",
      "(0.12062523481381837+0j) [Z1 Z3] (-0.12062523481381837+0j)\n",
      "1 [X0 Y1 Y2 X3] (0.17729829109248618+0j) -0.2056\n",
      "1 [X0 X1 Y2 Y3] (0.22797802215321797+0j) -0.1706\n",
      "1 [Y0 X1 X2 Y3] (0.17729829109248613+0j) -0.1942\n"
     ]
    },
    {
     "name": "stdout",
     "output_type": "stream",
     "text": [
      "1 [Y0 Y1 X2 X3] (0.22797802215321797+0j) -0.149\n",
      "(0.12062523481381837+0j) [Z0 Z2] (-0.12062523481381837+0j)\n",
      "(0.174412876106516+0j) [Z2 Z3] (0.174412876106516+0j)\n",
      "(0.1686889816869329+0j) [Z0 Z1] (0.1686889816869329+0j)\n",
      "(0.16592785032250768+0j) [Z0 Z3] (-0.16592785032250768+0j)\n",
      "(0.16592785032250768+0j) [Z1 Z2] (-0.16592785032250768+0j)\n",
      "(0.12062523481381837+0j) [Z1 Z3] (-0.12062523481381837+0j)\n",
      "1 [X0 Y1 Y2 X3] (0.17729829109248618+0j) -0.1212\n",
      "1 [X0 X1 Y2 Y3] (0.22797802215321797+0j) -0.0764\n",
      "1 [Y0 X1 X2 Y3] (0.17729829109248613+0j) -0.1016\n",
      "1 [Y0 Y1 X2 X3] (0.22797802215321797+0j) -0.0958\n",
      "(0.12062523481381837+0j) [Z0 Z2] (-0.12062523481381837+0j)\n",
      "(0.174412876106516+0j) [Z2 Z3] (0.174412876106516+0j)\n",
      "(0.1686889816869329+0j) [Z0 Z1] (0.1686889816869329+0j)\n",
      "(0.16592785032250768+0j) [Z0 Z3] (-0.16592785032250768+0j)\n",
      "(0.16592785032250768+0j) [Z1 Z2] (-0.16592785032250768+0j)\n",
      "(0.12062523481381837+0j) [Z1 Z3] (-0.12062523481381837+0j)\n",
      "1 [X0 Y1 Y2 X3] (0.17729829109248618+0j) -0.0214\n",
      "1 [X0 X1 Y2 Y3] (0.22797802215321797+0j) 0.0014\n",
      "1 [Y0 X1 X2 Y3] (0.17729829109248613+0j) -0.0192\n",
      "1 [Y0 Y1 X2 X3] (0.22797802215321797+0j) -0.0068\n",
      "(0.12062523481381837+0j) [Z0 Z2] (-0.12062523481381837+0j)\n",
      "(0.174412876106516+0j) [Z2 Z3] (0.174412876106516+0j)\n",
      "(0.1686889816869329+0j) [Z0 Z1] (0.1686889816869329+0j)\n",
      "(0.16592785032250768+0j) [Z0 Z3] (-0.16592785032250768+0j)\n",
      "(0.16592785032250768+0j) [Z1 Z2] (-0.16592785032250768+0j)\n",
      "(0.12062523481381837+0j) [Z1 Z3] (-0.12062523481381837+0j)\n",
      "1 [X0 Y1 Y2 X3] (0.17729829109248618+0j) 0.088\n",
      "1 [X0 X1 Y2 Y3] (0.22797802215321797+0j) 0.0662\n",
      "1 [Y0 X1 X2 Y3] (0.17729829109248613+0j) 0.0728\n",
      "1 [Y0 Y1 X2 X3] (0.22797802215321797+0j) 0.0676\n",
      "(0.12062523481381837+0j) [Z0 Z2] (-0.12062523481381837+0j)\n",
      "(0.174412876106516+0j) [Z2 Z3] (0.174412876106516+0j)\n",
      "(0.1686889816869329+0j) [Z0 Z1] (0.1686889816869329+0j)\n",
      "(0.16592785032250768+0j) [Z0 Z3] (-0.16592785032250768+0j)\n",
      "(0.16592785032250768+0j) [Z1 Z2] (-0.16592785032250768+0j)\n",
      "(0.12062523481381837+0j) [Z1 Z3] (-0.12062523481381837+0j)\n",
      "1 [X0 Y1 Y2 X3] (0.17729829109248618+0j) 0.1762\n",
      "1 [X0 X1 Y2 Y3] (0.22797802215321797+0j) 0.1486\n",
      "1 [Y0 X1 X2 Y3] (0.17729829109248613+0j) 0.182\n",
      "1 [Y0 Y1 X2 X3] (0.22797802215321797+0j) 0.1488\n",
      "(0.12062523481381837+0j) [Z0 Z2] (-0.12062523481381837+0j)\n",
      "(0.174412876106516+0j) [Z2 Z3] (0.174412876106516+0j)\n",
      "(0.1686889816869329+0j) [Z0 Z1] (0.1686889816869329+0j)\n",
      "(0.16592785032250768+0j) [Z0 Z3] (-0.16592785032250768+0j)\n",
      "(0.16592785032250768+0j) [Z1 Z2] (-0.16592785032250768+0j)\n",
      "(0.12062523481381837+0j) [Z1 Z3] (-0.12062523481381837+0j)\n",
      "1 [X0 Y1 Y2 X3] (0.17729829109248618+0j) 0.2786\n",
      "1 [X0 X1 Y2 Y3] (0.22797802215321797+0j) 0.2144\n",
      "1 [Y0 X1 X2 Y3] (0.17729829109248613+0j) 0.2476\n",
      "1 [Y0 Y1 X2 X3] (0.22797802215321797+0j) 0.2152\n",
      "(0.12062523481381837+0j) [Z0 Z2] (-0.12062523481381837+0j)\n",
      "(0.174412876106516+0j) [Z2 Z3] (0.174412876106516+0j)\n",
      "(0.1686889816869329+0j) [Z0 Z1] (0.1686889816869329+0j)\n",
      "(0.16592785032250768+0j) [Z0 Z3] (-0.16592785032250768+0j)\n",
      "(0.16592785032250768+0j) [Z1 Z2] (-0.16592785032250768+0j)\n",
      "(0.12062523481381837+0j) [Z1 Z3] (-0.12062523481381837+0j)\n",
      "1 [X0 Y1 Y2 X3] (0.17729829109248618+0j) 0.329\n",
      "1 [X0 X1 Y2 Y3] (0.22797802215321797+0j) 0.2604\n",
      "1 [Y0 X1 X2 Y3] (0.17729829109248613+0j) 0.3384\n",
      "1 [Y0 Y1 X2 X3] (0.22797802215321797+0j) 0.2666\n",
      "(0.12062523481381837+0j) [Z0 Z2] (-0.12062523481381837+0j)\n",
      "(0.174412876106516+0j) [Z2 Z3] (0.174412876106516+0j)\n",
      "(0.1686889816869329+0j) [Z0 Z1] (0.1686889816869329+0j)\n",
      "(0.16592785032250768+0j) [Z0 Z3] (-0.16592785032250768+0j)\n",
      "(0.16592785032250768+0j) [Z1 Z2] (-0.16592785032250768+0j)\n",
      "(0.12062523481381837+0j) [Z1 Z3] (-0.12062523481381837+0j)\n",
      "1 [X0 Y1 Y2 X3] (0.17729829109248618+0j) 0.3908\n",
      "1 [X0 X1 Y2 Y3] (0.22797802215321797+0j) 0.3194\n",
      "1 [Y0 X1 X2 Y3] (0.17729829109248613+0j) 0.4102\n",
      "1 [Y0 Y1 X2 X3] (0.22797802215321797+0j) 0.3002\n",
      "(0.12062523481381837+0j) [Z0 Z2] (-0.12062523481381837+0j)\n",
      "(0.174412876106516+0j) [Z2 Z3] (0.174412876106516+0j)\n",
      "(0.1686889816869329+0j) [Z0 Z1] (0.1686889816869329+0j)\n",
      "(0.16592785032250768+0j) [Z0 Z3] (-0.16592785032250768+0j)\n",
      "(0.16592785032250768+0j) [Z1 Z2] (-0.16592785032250768+0j)\n",
      "(0.12062523481381837+0j) [Z1 Z3] (-0.12062523481381837+0j)\n",
      "1 [X0 Y1 Y2 X3] (0.17729829109248618+0j) 0.4344\n",
      "1 [X0 X1 Y2 Y3] (0.22797802215321797+0j) 0.3598\n",
      "1 [Y0 X1 X2 Y3] (0.17729829109248613+0j) 0.4442\n",
      "1 [Y0 Y1 X2 X3] (0.22797802215321797+0j) 0.358\n",
      "(0.12062523481381837+0j) [Z0 Z2] (-0.12062523481381837+0j)\n",
      "(0.174412876106516+0j) [Z2 Z3] (0.174412876106516+0j)\n",
      "(0.1686889816869329+0j) [Z0 Z1] (0.1686889816869329+0j)\n",
      "(0.16592785032250768+0j) [Z0 Z3] (-0.16592785032250768+0j)\n",
      "(0.16592785032250768+0j) [Z1 Z2] (-0.16592785032250768+0j)\n",
      "(0.12062523481381837+0j) [Z1 Z3] (-0.12062523481381837+0j)\n",
      "1 [X0 Y1 Y2 X3] (0.17729829109248618+0j) 0.4548\n",
      "1 [X0 X1 Y2 Y3] (0.22797802215321797+0j) 0.3672\n",
      "1 [Y0 X1 X2 Y3] (0.17729829109248613+0j) 0.4668\n",
      "1 [Y0 Y1 X2 X3] (0.22797802215321797+0j) 0.3752\n",
      "(0.12062523481381837+0j) [Z0 Z2] (-0.12062523481381837+0j)\n",
      "(0.174412876106516+0j) [Z2 Z3] (0.174412876106516+0j)\n",
      "(0.1686889816869329+0j) [Z0 Z1] (0.1686889816869329+0j)\n",
      "(0.16592785032250768+0j) [Z0 Z3] (-0.16592785032250768+0j)\n",
      "(0.16592785032250768+0j) [Z1 Z2] (-0.16592785032250768+0j)\n",
      "(0.12062523481381837+0j) [Z1 Z3] (-0.12062523481381837+0j)\n",
      "1 [X0 Y1 Y2 X3] (0.17729829109248618+0j) 0.48\n",
      "1 [X0 X1 Y2 Y3] (0.22797802215321797+0j) 0.3836\n",
      "1 [Y0 X1 X2 Y3] (0.17729829109248613+0j) 0.4814\n",
      "1 [Y0 Y1 X2 X3] (0.22797802215321797+0j) 0.373\n",
      "(0.12062523481381837+0j) [Z0 Z2] (-0.12062523481381837+0j)\n",
      "(0.174412876106516+0j) [Z2 Z3] (0.174412876106516+0j)\n",
      "(0.1686889816869329+0j) [Z0 Z1] (0.1686889816869329+0j)\n",
      "(0.16592785032250768+0j) [Z0 Z3] (-0.16592785032250768+0j)\n",
      "(0.16592785032250768+0j) [Z1 Z2] (-0.16592785032250768+0j)\n",
      "(0.12062523481381837+0j) [Z1 Z3] (-0.12062523481381837+0j)\n",
      "1 [X0 Y1 Y2 X3] (0.17729829109248618+0j) 0.4788\n",
      "1 [X0 X1 Y2 Y3] (0.22797802215321797+0j) 0.3624\n",
      "1 [Y0 X1 X2 Y3] (0.17729829109248613+0j) 0.4782\n",
      "1 [Y0 Y1 X2 X3] (0.22797802215321797+0j) 0.3682\n",
      "(0.12062523481381837+0j) [Z0 Z2] (-0.12062523481381837+0j)\n",
      "(0.174412876106516+0j) [Z2 Z3] (0.174412876106516+0j)\n",
      "(0.1686889816869329+0j) [Z0 Z1] (0.1686889816869329+0j)\n",
      "(0.16592785032250768+0j) [Z0 Z3] (-0.16592785032250768+0j)\n",
      "(0.16592785032250768+0j) [Z1 Z2] (-0.16592785032250768+0j)\n",
      "(0.12062523481381837+0j) [Z1 Z3] (-0.12062523481381837+0j)\n",
      "1 [X0 Y1 Y2 X3] (0.17729829109248618+0j) 0.4566\n",
      "1 [X0 X1 Y2 Y3] (0.22797802215321797+0j) 0.351\n",
      "1 [Y0 X1 X2 Y3] (0.17729829109248613+0j) 0.454\n",
      "1 [Y0 Y1 X2 X3] (0.22797802215321797+0j) 0.3662\n",
      "(0.12062523481381837+0j) [Z0 Z2] (-0.12062523481381837+0j)\n",
      "(0.174412876106516+0j) [Z2 Z3] (0.174412876106516+0j)\n",
      "(0.1686889816869329+0j) [Z0 Z1] (0.1686889816869329+0j)\n",
      "(0.16592785032250768+0j) [Z0 Z3] (-0.16592785032250768+0j)\n",
      "(0.16592785032250768+0j) [Z1 Z2] (-0.16592785032250768+0j)\n",
      "(0.12062523481381837+0j) [Z1 Z3] (-0.12062523481381837+0j)\n",
      "1 [X0 Y1 Y2 X3] (0.17729829109248618+0j) 0.3932\n",
      "1 [X0 X1 Y2 Y3] (0.22797802215321797+0j) 0.3116\n",
      "1 [Y0 X1 X2 Y3] (0.17729829109248613+0j) 0.3904\n",
      "1 [Y0 Y1 X2 X3] (0.22797802215321797+0j) 0.3244\n",
      "(0.12062523481381837+0j) [Z0 Z2] (-0.12062523481381837+0j)\n",
      "(0.174412876106516+0j) [Z2 Z3] (0.174412876106516+0j)\n",
      "(0.1686889816869329+0j) [Z0 Z1] (0.1686889816869329+0j)\n",
      "(0.16592785032250768+0j) [Z0 Z3] (-0.16592785032250768+0j)\n",
      "(0.16592785032250768+0j) [Z1 Z2] (-0.16592785032250768+0j)\n",
      "(0.12062523481381837+0j) [Z1 Z3] (-0.12062523481381837+0j)\n",
      "1 [X0 Y1 Y2 X3] (0.17729829109248618+0j) 0.3254\n",
      "1 [X0 X1 Y2 Y3] (0.22797802215321797+0j) 0.2678\n",
      "1 [Y0 X1 X2 Y3] (0.17729829109248613+0j) 0.3062\n",
      "1 [Y0 Y1 X2 X3] (0.22797802215321797+0j) 0.2552\n",
      "(0.12062523481381837+0j) [Z0 Z2] (-0.12062523481381837+0j)\n",
      "(0.174412876106516+0j) [Z2 Z3] (0.174412876106516+0j)\n",
      "(0.1686889816869329+0j) [Z0 Z1] (0.1686889816869329+0j)\n",
      "(0.16592785032250768+0j) [Z0 Z3] (-0.16592785032250768+0j)\n",
      "(0.16592785032250768+0j) [Z1 Z2] (-0.16592785032250768+0j)\n",
      "(0.12062523481381837+0j) [Z1 Z3] (-0.12062523481381837+0j)\n",
      "1 [X0 Y1 Y2 X3] (0.17729829109248618+0j) 0.2606\n",
      "1 [X0 X1 Y2 Y3] (0.22797802215321797+0j) 0.1956\n",
      "1 [Y0 X1 X2 Y3] (0.17729829109248613+0j) 0.253\n",
      "1 [Y0 Y1 X2 X3] (0.22797802215321797+0j) 0.2088\n",
      "(0.12062523481381837+0j) [Z0 Z2] (-0.12062523481381837+0j)\n",
      "(0.174412876106516+0j) [Z2 Z3] (0.174412876106516+0j)\n",
      "(0.1686889816869329+0j) [Z0 Z1] (0.1686889816869329+0j)\n",
      "(0.16592785032250768+0j) [Z0 Z3] (-0.16592785032250768+0j)\n"
     ]
    },
    {
     "name": "stdout",
     "output_type": "stream",
     "text": [
      "(0.16592785032250768+0j) [Z1 Z2] (-0.16592785032250768+0j)\n",
      "(0.12062523481381837+0j) [Z1 Z3] (-0.12062523481381837+0j)\n",
      "1 [X0 Y1 Y2 X3] (0.17729829109248618+0j) 0.176\n",
      "1 [X0 X1 Y2 Y3] (0.22797802215321797+0j) 0.1402\n",
      "1 [Y0 X1 X2 Y3] (0.17729829109248613+0j) 0.1904\n",
      "1 [Y0 Y1 X2 X3] (0.22797802215321797+0j) 0.1372\n",
      "(0.12062523481381837+0j) [Z0 Z2] (-0.12062523481381837+0j)\n",
      "(0.174412876106516+0j) [Z2 Z3] (0.174412876106516+0j)\n",
      "(0.1686889816869329+0j) [Z0 Z1] (0.1686889816869329+0j)\n",
      "(0.16592785032250768+0j) [Z0 Z3] (-0.16592785032250768+0j)\n",
      "(0.16592785032250768+0j) [Z1 Z2] (-0.16592785032250768+0j)\n",
      "(0.12062523481381837+0j) [Z1 Z3] (-0.12062523481381837+0j)\n",
      "1 [X0 Y1 Y2 X3] (0.17729829109248618+0j) 0.0728\n",
      "1 [X0 X1 Y2 Y3] (0.22797802215321797+0j) 0.0682\n",
      "1 [Y0 X1 X2 Y3] (0.17729829109248613+0j) 0.0796\n",
      "1 [Y0 Y1 X2 X3] (0.22797802215321797+0j) 0.0616\n",
      "(-0.6699777731349077+0j)\n"
     ]
    },
    {
     "name": "stderr",
     "output_type": "stream",
     "text": [
      "/home/lex/anaconda3/envs/QuantumUpdated/lib/python3.7/site-packages/numpy/core/_asarray.py:85: ComplexWarning: Casting complex values to real discards the imaginary part\n",
      "  return array(a, dtype, copy=False, order=order)\n"
     ]
    },
    {
     "data": {
      "image/png": "[encoded data removed]",
      "text/plain": [
       "<Figure size 432x288 with 1 Axes>"
      ]
     },
     "metadata": {
      "needs_background": "light"
     },
     "output_type": "display_data"
    }
   ],
   "source": [
    "### full angle scan\n",
    "import matplotlib.pyplot as plt\n",
    "%matplotlib inline\n",
    "\n",
    "theta_list = np.arange(0,2*np.pi, 0.1)\n",
    "# theta_list = np.arange(0.98*np.pi, 1.02*np.pi, 0.001)\n",
    "\n",
    "E_list = [GIVE_ENERGY(theta) for theta in theta_list]\n",
    "\n",
    "plt.plot(E_list)\n",
    "print(min(E_list))"
   ]
  },
  {
   "cell_type": "code",
   "execution_count": null,
   "metadata": {},
   "outputs": [],
   "source": [
    "Hamilt.molecule.fci_energy"
   ]
  },
  {
   "cell_type": "code",
   "execution_count": null,
   "metadata": {},
   "outputs": [],
   "source": []
  },
  {
   "cell_type": "code",
   "execution_count": null,
   "metadata": {},
   "outputs": [],
   "source": []
  },
  {
   "cell_type": "markdown",
   "metadata": {},
   "source": [
    "# checking with linear alg (exp operator function!)"
   ]
  },
  {
   "cell_type": "markdown",
   "metadata": {},
   "source": [
    "$$U_{UCCSD}^{H2}=e^{-i \\theta Y_{0} X_{1} X_{2} X_{3}}$$"
   ]
  },
  {
   "cell_type": "code",
   "execution_count": 426,
   "metadata": {},
   "outputs": [],
   "source": [
    "theta=np.pi/10"
   ]
  },
  {
   "cell_type": "code",
   "execution_count": 427,
   "metadata": {},
   "outputs": [
    {
     "data": {
      "text/plain": [
       "array([[ 0.        +0.j],\n",
       "       [ 0.        +0.j],\n",
       "       [ 0.        +0.j],\n",
       "       [-0.30901699+0.j],\n",
       "       [ 0.        +0.j],\n",
       "       [ 0.        +0.j],\n",
       "       [ 0.        +0.j],\n",
       "       [ 0.        +0.j],\n",
       "       [ 0.        +0.j],\n",
       "       [ 0.        +0.j],\n",
       "       [ 0.        +0.j],\n",
       "       [ 0.        +0.j],\n",
       "       [ 0.95105652+0.j],\n",
       "       [ 0.        +0.j],\n",
       "       [ 0.        +0.j],\n",
       "       [ 0.        +0.j]])"
      ]
     },
     "execution_count": 427,
     "metadata": {},
     "output_type": "execute_result"
    }
   ],
   "source": [
    "from quchem.Ansatz_Generator_Functions import *\n",
    "from numpy import kron\n",
    "from functools import reduce\n",
    "\n",
    "pauliDict={'X':np.array([[0,1],[1,0]]),\n",
    "          'Y':np.array([[0,-1j],[1j,0]]),\n",
    "          'Z':np.array([[1,0],[0,-1]]),\n",
    "          'I': np.eye(2)}\n",
    "\n",
    "\n",
    "n_electrons=2\n",
    "n_qubits=4\n",
    "\n",
    "ansatz_obj = Ansatz(n_electrons, n_qubits)\n",
    "ansatz_obj.Get_JW_HF_state()\n",
    "\n",
    "HF_reference_ket= ansatz_obj.Get_JW_HF_state().reshape([len(ansatz_obj.Get_JW_HF_state()), 1])\n",
    "\n",
    "\n",
    "list_of_ops = [pauliDict[term[0]] for term in 'Y0 X1 X2 X3'.split(' ')]\n",
    "matrix = reduce(kron, list_of_ops) *-1j #NOTE NEED TO MULTIPLY BY 1j!\n",
    "\n",
    "import scipy\n",
    "\n",
    "ansatz_state_ket = scipy.sparse.linalg.expm_multiply(theta*matrix, HF_reference_ket)\n",
    "ansatz_state_ket"
   ]
  },
  {
   "cell_type": "markdown",
   "metadata": {},
   "source": []
  },
  {
   "cell_type": "markdown",
   "metadata": {},
   "source": [
    "R is defined as:\n",
    "\n",
    "$$R=\\exp (-i \\alpha \\mathcal{X} / 2)$$"
   ]
  },
  {
   "cell_type": "markdown",
   "metadata": {},
   "source": [
    "$$\\mathcal{X} =i \\sum_{k=1}^{n-1} \\delta_{k} P_{k} P_{n} = i \\sum_{k=1}^{n-1} \\delta_{k} P_{kn}$$"
   ]
  },
  {
   "cell_type": "code",
   "execution_count": 428,
   "metadata": {},
   "outputs": [
    {
     "name": "stdout",
     "output_type": "stream",
     "text": [
      "NOTE: ZX = iY ... and ... XZ = -iY \n"
     ]
    },
    {
     "data": {
      "text/plain": [
       "[(-0.2234315367466397+0j) [Z3], (-0.04530261550868928+0j) [Y0 Y1 X2 X3]]"
      ]
     },
     "execution_count": 428,
     "metadata": {},
     "output_type": "execute_result"
    }
   ],
   "source": [
    "print('NOTE: ZX = iY ... and ... XZ = -iY ')\n",
    "anit_commuting_sets[10]"
   ]
  },
  {
   "cell_type": "code",
   "execution_count": null,
   "metadata": {},
   "outputs": [],
   "source": []
  },
  {
   "cell_type": "code",
   "execution_count": 494,
   "metadata": {},
   "outputs": [
    {
     "name": "stdout",
     "output_type": "stream",
     "text": [
      "X = 1i * [(1+0j) [X0 Y1 Y2 X3]] * ( 1 [Z0] )\n",
      "\n",
      "NOTE: YZ = iX ... and ... ZY = -iX \n",
      "\n",
      "X = ['Y', 'Y', 'Y', 'X'] signs: [(1+0j), (1+0j), (1+0j), (1+0j)]\n"
     ]
    },
    {
     "data": {
      "text/plain": [
       "array([[ 0.        +0.j],\n",
       "       [ 0.        +0.j],\n",
       "       [ 0.        +0.j],\n",
       "       [-0.42896812+0.j],\n",
       "       [ 0.        +0.j],\n",
       "       [ 0.        +0.j],\n",
       "       [ 0.        +0.j],\n",
       "       [ 0.        +0.j],\n",
       "       [ 0.        +0.j],\n",
       "       [ 0.        +0.j],\n",
       "       [ 0.        +0.j],\n",
       "       [ 0.        +0.j],\n",
       "       [ 0.90331963+0.j],\n",
       "       [ 0.        +0.j],\n",
       "       [ 0.        +0.j],\n",
       "       [ 0.        +0.j]])"
      ]
     },
     "execution_count": 494,
     "metadata": {},
     "output_type": "execute_result"
    }
   ],
   "source": [
    "S_INDEX= 0 #<-- 0/1 is variable here!!!\n",
    "\n",
    "N_system_qubits = 4\n",
    "X_DICT = Get_X_SET(anit_commuting_sets[7], S_INDEX) # <-- 0/1 is variable here!!!\n",
    "\n",
    "if np.cos(X_DICT['phi_n_1'])<0:\n",
    "    FACTOR = -1\n",
    "else:\n",
    "    FACTOR = 1\n",
    "\n",
    "\n",
    "####\n",
    "\n",
    "alpha = X_DICT['phi_n_1']\n",
    "P_n = X_DICT['P_n']\n",
    "\n",
    "list_of_X_qNos,list_of_X_ops = list(zip(*[Paulistrs for qubitOp in X_DICT['X_PauliWords'] for Paulistrs, const in qubitOp.terms.items()][0]))\n",
    "\n",
    "list_of_X_constants = [const for qubitOp in X_DICT['X_PauliWords'] for Paulistrs, const in qubitOp.terms.items()]\n",
    "\n",
    "list_of_X_qNos = np.array(list_of_X_qNos)\n",
    "all_qubit_Nos = np.arange(0,N_system_qubits-1)\n",
    "\n",
    "common_qubits = np.intersect1d(list_of_X_qNos, all_qubit_Nos)\n",
    "\n",
    "missing_qubitNos = [i for i in all_qubit_Nos if i not in common_qubits]\n",
    "\n",
    "X_ops=[]\n",
    "X_sign =[]\n",
    "for qNo in range(N_system_qubits):\n",
    "    if qNo in list_of_X_qNos:\n",
    "        index = list_of_X_qNos.tolist().index(qNo)\n",
    "        X_ops.append(list_of_X_ops[index])\n",
    "        X_sign.append(list_of_X_constants[0])\n",
    "    else:\n",
    "        X_ops.append('I')\n",
    "        X_sign.append(1)\n",
    "\n",
    "print('X = 1i *', X_DICT['H_n_1'], '* (', P_n, ')')\n",
    "print('')  \n",
    "print('NOTE: YZ = iX ... and ... ZY = -iX ')\n",
    "print('')\n",
    "print('X =', X_ops, 'signs:',X_sign)\n",
    "\n",
    "\n",
    "list_of_X_ops_matrices = [pauliDict[term] for i, term in enumerate(X_ops)]\n",
    "X_matrix = reduce(kron, list_of_X_ops_matrices)\n",
    "SIGN = reduce(np.multiply, list_of_X_constants)\n",
    "post_R_state = scipy.sparse.linalg.expm_multiply(-1j*SIGN*alpha/2*X_matrix, ansatz_state_ket)\n",
    "post_R_state\n",
    "\n",
    "# list_of_X_ops_matrices = [X_sign[i]* pauliDict[term] for i, term in enumerate(X_ops)]\n",
    "# X_matrix = reduce(kron, list_of_X_ops_matrices)\n",
    "# post_R_state = scipy.sparse.linalg.expm_multiply(-1j*alpha/2*X_matrix, ansatz_state_ket)\n",
    "# post_R_state"
   ]
  },
  {
   "cell_type": "code",
   "execution_count": 495,
   "metadata": {},
   "outputs": [],
   "source": [
    "change_basis_dict ={\n",
    "    'X':cirq.ry(-np.pi / 2)._unitary_(),\n",
    "    'Y':cirq.rx(np.pi / 2)._unitary_(),\n",
    "    'Z': np.eye(2),\n",
    "    'I': np.eye(2)}\n"
   ]
  },
  {
   "cell_type": "code",
   "execution_count": 496,
   "metadata": {},
   "outputs": [
    {
     "name": "stdout",
     "output_type": "stream",
     "text": [
      "['Z', 'I', 'I', 'I']\n"
     ]
    }
   ],
   "source": [
    "list_of_Pn_qNos,list_of_Pn_ops = list(zip(*[Paulistrs for Paulistrs, const in P_n.terms.items()][0]))\n",
    "\n",
    "list_of_Pn_qNos = np.array(list_of_Pn_qNos)\n",
    "all_qubit_Nos = np.arange(0,N_system_qubits-1)\n",
    "\n",
    "common_qubits = np.intersect1d(list_of_Pn_qNos, all_qubit_Nos)\n",
    "\n",
    "missing_qubitNos = [i for i in all_qubit_Nos if i not in common_qubits]\n",
    "\n",
    "Pn_ops=[]\n",
    "for qNo in range(N_system_qubits):\n",
    "    if qNo in list_of_Pn_qNos:\n",
    "        index = list_of_Pn_qNos.tolist().index(qNo)\n",
    "        Pn_ops.append(list_of_Pn_ops[index])\n",
    "    else:\n",
    "        Pn_ops.append('I')\n",
    "print(Pn_ops)\n",
    "\n",
    "Change_basis_Pn_ops = [change_basis_dict[term] for term in Pn_ops]\n",
    "Change_basis_Pn_MATRIX = reduce(kron, Change_basis_Pn_ops)"
   ]
  },
  {
   "cell_type": "code",
   "execution_count": 497,
   "metadata": {},
   "outputs": [
    {
     "name": "stdout",
     "output_type": "stream",
     "text": [
      "[[ 0.        +0.j]\n",
      " [ 0.        +0.j]\n",
      " [ 0.        +0.j]\n",
      " [-0.42896812+0.j]\n",
      " [ 0.        +0.j]\n",
      " [ 0.        +0.j]\n",
      " [ 0.        +0.j]\n",
      " [ 0.        +0.j]\n",
      " [ 0.        +0.j]\n",
      " [ 0.        +0.j]\n",
      " [ 0.        +0.j]\n",
      " [ 0.        +0.j]\n",
      " [ 0.90331963+0.j]\n",
      " [ 0.        +0.j]\n",
      " [ 0.        +0.j]\n",
      " [ 0.        +0.j]]\n"
     ]
    }
   ],
   "source": [
    "final_state = np.dot(Change_basis_Pn_MATRIX, post_R_state)\n",
    "print(final_state)"
   ]
  },
  {
   "cell_type": "code",
   "execution_count": 498,
   "metadata": {},
   "outputs": [
    {
     "data": {
      "text/plain": [
       "{'0000': 0,\n",
       " '0001': 0,\n",
       " '0010': 0,\n",
       " '0011': 184,\n",
       " '0100': 0,\n",
       " '0101': 0,\n",
       " '0110': 0,\n",
       " '0111': 0,\n",
       " '1000': 0,\n",
       " '1001': 0,\n",
       " '1010': 0,\n",
       " '1011': 0,\n",
       " '1100': 815,\n",
       " '1101': 0,\n",
       " '1110': 0,\n",
       " '1111': 0}"
      ]
     },
     "execution_count": 498,
     "metadata": {},
     "output_type": "execute_result"
    }
   ],
   "source": [
    "# for i in range(N_system_qubits**2):\n",
    "#     print('probability of getting state:', Get_state_as_str(N_system_qubits, i), np.absolute(final_state[i][0])**2)\n",
    "\n",
    "output_dict={}\n",
    "for i in range(N_system_qubits**2):\n",
    "    output_dict[Get_state_as_str(N_system_qubits, i)] = int(1000*np.absolute(final_state[i][0])**2)\n",
    "output_dict"
   ]
  },
  {
   "cell_type": "code",
   "execution_count": 502,
   "metadata": {},
   "outputs": [
    {
     "name": "stdout",
     "output_type": "stream",
     "text": [
      "1 [Z0]\n",
      "{'0': 184, '1': 815}\n",
      "1 (1+0j)\n"
     ]
    },
    {
     "data": {
      "text/plain": [
       "-0.6316316316316316"
      ]
     },
     "execution_count": 502,
     "metadata": {},
     "output_type": "execute_result"
    }
   ],
   "source": [
    "print(P_n)\n",
    "\n",
    "m_dict={}\n",
    "for state in output_dict:\n",
    "    state_measured = np.take([bit for bit in state], list_of_Pn_qNos.tolist()) # selects qubit indices measured!\n",
    "    new_str = ''.join(state_measured)\n",
    "    if new_str in m_dict.keys():\n",
    "        m_dict[new_str] += output_dict[state]\n",
    "    else:\n",
    "        m_dict[new_str] = output_dict[state]\n",
    "\n",
    "print(m_dict)\n",
    "print(FACTOR, reduce(np.multiply, list_of_X_constants))\n",
    "expectation_value_by_parity(m_dict)"
   ]
  },
  {
   "cell_type": "markdown",
   "metadata": {},
   "source": [
    "## something wrong!!!!!!\n",
    "- should get same outputs!"
   ]
  }
 ],
 "metadata": {
  "kernelspec": {
   "display_name": "Python 3",
   "language": "python",
   "name": "python3"
  },
  "language_info": {
   "codemirror_mode": {
    "name": "ipython",
    "version": 3
   },
   "file_extension": ".py",
   "mimetype": "text/x-python",
   "name": "python",
   "nbconvert_exporter": "python",
   "pygments_lexer": "ipython3",
   "version": "3.7.6"
  }
 },
 "nbformat": 4,
 "nbformat_minor": 4
}
