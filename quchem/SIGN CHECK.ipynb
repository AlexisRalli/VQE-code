{
 "cells": [
  {
   "cell_type": "code",
   "execution_count": 1,
   "metadata": {},
   "outputs": [
    {
     "name": "stderr",
     "output_type": "stream",
     "text": [
      "Building Graph Edges: 100%|##########| 15/15 [00:00<00:00, 1971.56it/s]\n"
     ]
    },
    {
     "data": {
      "text/plain": [
       "{0: [(0.12062523481381837+0j) [Z0 Z2]],\n",
       " 1: [(0.12062523481381837+0j) [Z1 Z3]],\n",
       " 2: [(0.174412876106516+0j) [Z2 Z3]],\n",
       " 3: [(0.1686889816869329+0j) [Z0 Z1]],\n",
       " 4: [(-0.09706626861762624+0j) []],\n",
       " 5: [(0.16592785032250768+0j) [Z0 Z3]],\n",
       " 6: [(0.16592785032250768+0j) [Z1 Z2]],\n",
       " 7: [(-0.04530261550868928+0j) [X0 X1 Y2 Y3], (-0.2234315367466397+0j) [Z3]],\n",
       " 8: [(-0.04530261550868928+0j) [Y0 Y1 X2 X3], (-0.2234315367466397+0j) [Z2]],\n",
       " 9: [(0.04530261550868928+0j) [X0 Y1 Y2 X3], (0.17141282639402405+0j) [Z0]],\n",
       " 10: [(0.04530261550868928+0j) [Y0 X1 X2 Y3], (0.171412826394024+0j) [Z1]]}"
      ]
     },
     "execution_count": 1,
     "metadata": {},
     "output_type": "execute_result"
    }
   ],
   "source": [
    "from quchem.Hamiltonian_Generator_Functions import *\n",
    "from quchem.Graph import *\n",
    "### HAMILTONIAN start\n",
    "Molecule = 'H2'#'LiH'\n",
    "geometry = [('H', (0., 0., 0.)), ('H', (0., 0., 0.74))]#[('Li', (0., 0., 0.)), ('H', (0., 0., 1.45))]\n",
    "num_shots = 10000\n",
    "basis = 'sto-3g'\n",
    "\n",
    "\n",
    "### Get Hamiltonian\n",
    "Hamilt = Hamiltonian(Molecule,\n",
    "                     run_scf=1, run_mp2=1, run_cisd=1, run_ccsd=1, run_fci=1,\n",
    "                     basis=basis,\n",
    "                     multiplicity=1,\n",
    "                     geometry=geometry)  # normally None!\n",
    "QubitHamiltonian = Hamilt.Get_Qubit_Hamiltonian(threshold=None, transformation='JW')\n",
    "### HAMILTONIAN end\n",
    "\n",
    "#####################################\n",
    "\n",
    "Hamiltonian_graph_obj = Openfermion_Hamiltonian_Graph(QubitHamiltonian)\n",
    "\n",
    "commutativity_flag = 'AC' ## <- defines relationship between sets!!!\n",
    "plot_graph = False\n",
    "Graph_colouring_strategy='largest_first'\n",
    "anit_commuting_sets = Hamiltonian_graph_obj.Get_Clique_Cover_as_QubitOp(commutativity_flag, Graph_colouring_strategy=Graph_colouring_strategy, plot_graph=plot_graph)\n",
    "anit_commuting_sets"
   ]
  },
  {
   "cell_type": "markdown",
   "metadata": {},
   "source": [
    "The Hamiltonian is a sum of $m$ PauliWords:\n",
    "\n",
    "$$H=\\sum_{j=0}^{m-1} \\alpha_{j} P_{j}$$\n",
    "\n",
    "In this there are $l$ completely anti-commuting sets, denoted as $H_{S_{l}}$:\n",
    "\n",
    "\n",
    "$$H =\\sum_{l} H_{S_{l}}$$\n",
    "\n",
    "where each anti-commuting set is defined as:\n",
    "\n",
    "$$H_{S_{l}}=\\sum_{P_{j} \\in S_{l}} \\alpha_{j} P_{j}$$\n",
    "\n",
    "where:\n",
    "- $\\left\\{P_{j}, P_{k}\\right\\}=0$ for $\\forall P_{j} \\neq P_{k} \\in S_{l}$\n",
    "\n",
    "\n",
    "We want **want** the sum of the squares of the cofactors to be 1:\n",
    "\n",
    "$$H_{S_{l}}=\\sum_{P_{j} \\in S_{l}} \\alpha_{j} P_{j}=\\gamma_{l} \\sum_{P_{j} \\in S_{l}} \\beta_{j} P_{j}$$\n",
    "\n",
    "- aka: $\\sum_{j} \\beta_{j}^{2}=1$\n",
    "- and $\\gamma_{l}$ is the correction factor: $\\alpha_{j} =  \\gamma_{l} \\beta_{j}$\n",
    "\n",
    "SO overall we can turn our Hamiltonian into $l$ anti_commutings sets as:\n",
    "\n",
    "$$H=\\sum_{l} H_{S_{l}} = \\sum_{l} \\sum_{\\substack{j=0 \\\\  P_{j} \\in S_{l}}}^{|S_{l}|-1} \\alpha_{j} P_{j}= \\sum_{l} \\gamma_{l} \\sum_{\\substack{j=0 \\\\  P_{j} \\in S_{l}}}^{|S_{l}|-1} \\beta_{j} P_{j}$$"
   ]
  },
  {
   "cell_type": "code",
   "execution_count": null,
   "metadata": {},
   "outputs": [],
   "source": []
  },
  {
   "cell_type": "markdown",
   "metadata": {},
   "source": [
    "We will focus on looking at just one anti-commuting set\n",
    "\n",
    "$$H_{S_{l}}=\\sum_{P_{j} \\in S_{l}} \\alpha_{j} P_{j}=\\gamma_{l} \\sum_{P_{j} \\in S_{l}} \\beta_{j} P_{j}$$"
   ]
  },
  {
   "cell_type": "markdown",
   "metadata": {},
   "source": [
    "////////////////"
   ]
  },
  {
   "cell_type": "markdown",
   "metadata": {},
   "source": [
    "1. re-write set $H_{S_{l}}$ ($=\\gamma_{l} \\sum_{P_{j} \\in S_{l}} \\beta_{j} P_{j}$) with $\\beta_{n} P_{n}$ outside sum :\n",
    "\n",
    "\n",
    "$$H_{S_{l}}= \\gamma_{l} \\beta_{n} P_{n} +  \\gamma_{l} \\sum_{\\substack{j \\neq n \\\\  P_{j} \\in S_{l}}}^{|S_{l}|-1} \\beta_{j} P_{j}$$\n",
    "\n",
    "- $\\sum_{j} \\beta_{j}^{2}=1$\n",
    "- $\\alpha_{j} =  \\gamma_{l} \\beta_{j}$\n",
    "\n",
    "$$\\frac{H_{S_{l}}}{\\gamma_{l}}=  \\beta_{n} P_{n} +  \\sum_{\\substack{j \\neq n \\\\  P_{j} \\in S_{l}}}^{|S_{l}|-1} \\beta_{j} P_{j}$$\n",
    "\n",
    "\n",
    "2. The definition of $H_{n-1}$ is:\n",
    "\n",
    "$$H_{n-1}=\\sum_{k=1}^{n-1} \\delta_{k} P_{k}$$\n",
    "\n",
    "where: $\\sum_{k=1}^{n-1} \\delta_{k}^{2}=1$\n",
    "\n",
    "therefore using what we obtained in step 1:\n",
    "\n",
    "$$\\frac{H_{S_{l}}}{\\gamma_{l}}=  \\beta_{n} P_{n} +  \\Omega_{l} \\sum_{\\substack{j \\neq n \\\\  P_{j} \\in S_{l}}}^{|S_{l}|-1} \\delta_{j} P_{j}$$\n",
    "\n",
    "where:\n",
    "- $\\sum_{j} \\delta_{j}^{2}=1$\n",
    "- $\\beta_{j} =  \\Omega_{l} \\delta_{j}$\n",
    "\n",
    "\n",
    "3.\n",
    "\n",
    "$$\\frac{H_{S_{l}}}{\\gamma_{l}}=  \\beta_{n} P_{n} +  \\Omega_{l} H_{n-1}$$"
   ]
  },
  {
   "cell_type": "markdown",
   "metadata": {},
   "source": [
    "$H_{n}$ is defined as:\n",
    "\n",
    "$$H_{n}=\\cos \\phi_{n-1} P_{n}+\\sin \\phi_{n-1} H_{n-1}$$"
   ]
  },
  {
   "cell_type": "markdown",
   "metadata": {},
   "source": [
    "Using what we have from step 3:\n",
    "\n",
    "$$\\cos \\phi_{n-1}= {\\beta_{n}} $$\n",
    "\n",
    "OR\n",
    "\n",
    "$$\\sin \\phi_{n-1}= {\\Omega_{l}} $$\n",
    "\n",
    "# Question ^^^ which one of these?\n",
    "\n",
    "doesn't matter as \n",
    "\n",
    "$$\\beta_{n}^{2} + {\\Omega_{l}}^{2} = 1 $$"
   ]
  },
  {
   "cell_type": "code",
   "execution_count": 2,
   "metadata": {},
   "outputs": [],
   "source": [
    "# wrong\n",
    "\n",
    "# can also do:\n",
    "\n",
    "# (starting from step 3)\n",
    "\n",
    "# $$\\frac{H_{S_{l}}}{\\gamma_{l}}=  \\beta_{n} P_{n} +  \\Omega_{l} H_{n-1}$$\n",
    "\n",
    "# $$\\frac{H_{S_{l}}}{\\gamma_{l}\\Omega_{l}}=  \\frac{\\beta_{n}}{\\Omega_{l}} P_{n} +   H_{n-1}$$\n",
    "\n",
    "# THEN\n",
    "\n",
    "# $$\\cos \\phi_{n-1}= \\frac{\\beta_{n}}{\\Omega_{l}} $$\n",
    "\n",
    "# OR\n",
    "\n",
    "# $$\\sin \\phi_{n-1}= 1 $$\n"
   ]
  },
  {
   "cell_type": "code",
   "execution_count": null,
   "metadata": {},
   "outputs": [],
   "source": []
  },
  {
   "cell_type": "code",
   "execution_count": null,
   "metadata": {},
   "outputs": [],
   "source": []
  },
  {
   "cell_type": "markdown",
   "metadata": {},
   "source": [
    "## Step 1 Get Hn set"
   ]
  },
  {
   "cell_type": "markdown",
   "metadata": {},
   "source": [
    "using\n",
    "$$\\frac{H_{S_{l}}}{\\gamma_{l}}=  \\beta_{n} P_{n} +  \\Omega_{l} H_{n-1} = H_{n}$$\n",
    "\n",
    "where\n",
    "\n",
    "$$\\cos \\phi_{n-1}= {\\beta_{n}} $$"
   ]
  },
  {
   "cell_type": "code",
   "execution_count": 3,
   "metadata": {},
   "outputs": [],
   "source": [
    "from openfermion.ops import QubitOperator\n",
    "from quchem.Unitary_partitioning import Get_beta_j_cofactors\n",
    "\n",
    "def Get_Hn_set(anti_commuting_set, N_index):\n",
    "    \n",
    "    H_n ={}\n",
    "    \n",
    "    # 𝛾_𝑙 ∑ 𝛽_𝑗 𝑃_𝑗\n",
    "    normalised_FULL_set = Get_beta_j_cofactors(anti_commuting_set)\n",
    "    gamma_l = normalised_FULL_set['gamma_l']\n",
    "    H_n['gamma_l']=gamma_l\n",
    "    \n",
    "    norm_FULL_set = normalised_FULL_set['PauliWords'].copy()\n",
    "    \n",
    "    #𝛽_n 𝑃_n\n",
    "    qubitOp_Pn_beta_n = norm_FULL_set.pop(N_index)\n",
    "    \n",
    "    # Ω_𝑙 ∑ 𝛿_𝑗 𝑃_𝑗  ... note this doesn't contain 𝛽_n 𝑃_n\n",
    "    H_n_1 = Get_beta_j_cofactors(norm_FULL_set) \n",
    "    Omega_l = H_n_1['gamma_l']\n",
    "    H_n['Omega_l']=Omega_l\n",
    "    \n",
    "    H_n['H_n_1'] = H_n_1['PauliWords']\n",
    "    \n",
    "    # cos(𝜙_{𝑛−1}) =𝛽_𝑛\n",
    "    phi_n_1 = np.arccos(list(qubitOp_Pn_beta_n.terms.values())[0]) \n",
    "    \n",
    "#     phi_n_1 = np.arcsin(Omega_l) \n",
    "    \n",
    "    \n",
    "    H_n['H_n'] = [QubitOperator(qubitOp, const*np.sin(phi_n_1)) \n",
    "              for operator in H_n['H_n_1'] for qubitOp, const in operator.terms.items()]+ [QubitOperator(list(qubitOp_Pn_beta_n.terms.keys())[0], np.cos(phi_n_1))]\n",
    "\n",
    "    \n",
    "    if not np.isclose(sum(np.absolute(list(qubitOp.terms.values())[0])**2 for qubitOp in H_n['H_n_1']), 1):\n",
    "        raise ValueError('normalisation of H_n_1 operator incorrect: {}'.format(sum(list(qubitOp.terms.values())[0]**2 for qubitOp in H_n['H_n_1'])))\n",
    "\n",
    "    if not np.isclose(sum(np.absolute(list(qubitOp.terms.values())[0])**2 for qubitOp in H_n['H_n']), 1):\n",
    "        raise ValueError('normalisation of H_n operator incorrect: {}'.format(sum(list(qubitOp.terms.values())[0]**2 for qubitOp in H_n['H_n'])))\n",
    "    \n",
    "    print(list(qubitOp_Pn_beta_n.terms.values())[0]**2 + Omega_l**2)\n",
    "    \n",
    "    return H_n"
   ]
  },
  {
   "cell_type": "code",
   "execution_count": 4,
   "metadata": {},
   "outputs": [
    {
     "name": "stdout",
     "output_type": "stream",
     "text": [
      "(1.0000000000000002+0j)\n"
     ]
    },
    {
     "data": {
      "text/plain": [
       "{'gamma_l': (0.22797802215321797+0j),\n",
       " 'Omega_l': (0.9800573521796646+0j),\n",
       " 'H_n_1': [(-1+0j) [Z2]],\n",
       " 'H_n': [(-0.9800573521796645+0j) [Z2],\n",
       "  (-0.19871483698653464+0j) [X0 X1 Y2 Y3]]}"
      ]
     },
     "execution_count": 4,
     "metadata": {},
     "output_type": "execute_result"
    }
   ],
   "source": [
    "Get_Hn_set(anit_commuting_sets[7], 0)"
   ]
  },
  {
   "cell_type": "markdown",
   "metadata": {},
   "source": [
    "## Step 2 getting X"
   ]
  },
  {
   "cell_type": "markdown",
   "metadata": {},
   "source": [
    "NOW\n",
    "\n",
    "$\\mathcal{X}$ is defined as:\n",
    "\n",
    "$$\\begin{aligned} \\mathcal{X} &=\\frac{i}{2}\\left[H_{n-1}, P_{n}\\right] \\\\ &=\\frac{i}{2} \\sum_{k=1}^{n-1} \\delta_{k}\\left[P_{k}, P_{n}\\right] \\\\ &=i \\sum_{k=1}^{n-1} \\delta_{k} P_{k} P_{n} \\\\ &=i \\sum_{k=1}^{n-1} \\delta_{k} P_{kn} \\end{aligned}$$\n",
    "\n",
    "where:\n",
    "- $H_{n-1}=\\sum_{k=1}^{n-1} \\delta_{k} P_{k}$\n",
    "- $\\sum_{k=1}^{n-1} \\delta_{k}^{2}=1$"
   ]
  },
  {
   "cell_type": "code",
   "execution_count": 71,
   "metadata": {},
   "outputs": [
    {
     "data": {
      "text/plain": [
       "(1+0j) [Y1 Z3 Z4]"
      ]
     },
     "execution_count": 71,
     "metadata": {},
     "output_type": "execute_result"
    }
   ],
   "source": [
    "from openfermion.ops import QubitOperator\n",
    "import numpy as np\n",
    "\n",
    "def Multiply_PauliQubitOps(qubitOp_1, qubitOp_2, mulitplying_const=1):\n",
    "    \"\"\"\n",
    "\n",
    "    TODO\n",
    "    \n",
    "    NOTE this function does NOT!!! repeat not multiply by the qubitOp_2 constant!\n",
    "    \n",
    "    Args:\n",
    "        qubitOp_1 ():\n",
    "        qubitOp_2 ():\n",
    "\n",
    "    Returns:\n",
    "        tuple: \n",
    "\n",
    "\n",
    "    \"\"\"\n",
    "    convert_term ={\n",
    "        'II': (1,'I'),\n",
    "        'IX': (1,'X'),\n",
    "        'IY': (1,'Y'),\n",
    "        'IZ': (1,'Z'),\n",
    "\n",
    "        'XI': (1,'X'),\n",
    "        'XX': (1,'I'),\n",
    "        'XY': (1j,'Z'),\n",
    "        'XZ': (-1j,'Y'),\n",
    "\n",
    "        'YI': (1,'Y'),\n",
    "        'YX': (-1j,'Z'),\n",
    "        'YY': (1,'I'),\n",
    "        'YZ': (1j,'X'),\n",
    "\n",
    "        'ZI': (1,'Z'),\n",
    "        'ZX': (1j,'Y'),\n",
    "        'ZY': (-1j,'X'),\n",
    "        'ZZ': (1,'I')\n",
    "    }\n",
    "    \n",
    "    \n",
    "    PauliStr_1_tuples_P1 = [tup for PauliStrs, const in qubitOp_1.terms.items() for tup in PauliStrs]\n",
    "    qubitNo_P1, PauliStr_P1 = zip(*PauliStr_1_tuples_P1)\n",
    "    qubitNo_P1 = np.array(qubitNo_P1)\n",
    "    qubitNo_P1_CONST = list(qubitOp_1.terms.values())[0]\n",
    "\n",
    "    PauliStr_tuples_P2 = [tup for PauliStrs, const in qubitOp_2.terms.items() for tup in PauliStrs]\n",
    "    qubitNo_P2, PauliStr_P2 = zip(*PauliStr_tuples_P2)\n",
    "    qubitNo_P2 = np.array(qubitNo_P2)\n",
    "    qubitNo_P2_CONST = list(qubitOp_2.terms.values())[0]\n",
    "    \n",
    "    common_qubits = np.intersect1d(qubitNo_P1, qubitNo_P2)\n",
    "    \n",
    "    PauliStr_P1_common = np.take(PauliStr_P1, np.where(np.isin(qubitNo_P1, common_qubits) == True)).flatten()\n",
    "    PauliStr_P2_common = np.take(PauliStr_P2, np.where(np.isin(qubitNo_P2, common_qubits) == True)).flatten()\n",
    "        \n",
    "    new_paulistr_list=[]\n",
    "    new_factor =[]\n",
    "    for index, pauli_str_P1 in enumerate(PauliStr_P1_common):\n",
    "        \n",
    "        pauli_str_P2 = PauliStr_P2_common[index]\n",
    "        qubitNo = common_qubits[index]\n",
    "        \n",
    "        combined_pauli_str = pauli_str_P1+pauli_str_P2\n",
    "        \n",
    "        if convert_term[combined_pauli_str][1] != 'I':\n",
    "            new_pauli_str = convert_term[combined_pauli_str][1] + str(qubitNo)\n",
    "            new_paulistr_list.append(new_pauli_str)\n",
    "\n",
    "            new_factor.append(convert_term[combined_pauli_str][0])\n",
    "       \n",
    "    new_constant = np.prod(new_factor) * qubitNo_P1_CONST * mulitplying_const # * qubitNo_P2_CONST\n",
    "    \n",
    "    for index, qubitNo in enumerate(qubitNo_P1):\n",
    "        if qubitNo not in common_qubits:\n",
    "            Paulistring_P1 = PauliStr_P1[index]\n",
    "            new_paulistr_list.append(Paulistring_P1+str(qubitNo))\n",
    "    \n",
    "\n",
    "    for index, qubitNo in enumerate(qubitNo_P2):\n",
    "        if qubitNo not in common_qubits:\n",
    "            Paulistring_P2 = PauliStr_P2[index]\n",
    "            new_paulistr_list.append(Paulistring_P2+str(qubitNo))\n",
    "    \n",
    "    seperator=' '\n",
    "    pauliStr_list = seperator.join(new_paulistr_list)\n",
    "    \n",
    "    \n",
    "    New_P = QubitOperator(pauliStr_list, new_constant)\n",
    "            \n",
    "    return New_P\n",
    "\n",
    "a = QubitOperator('Z1 X2 Y3', 0.5)\n",
    "b= QubitOperator('X1 X2 X3 Z4', 10000000000000000)\n",
    "Multiply_PauliQubitOps(a,b, mulitplying_const=2)"
   ]
  },
  {
   "cell_type": "code",
   "execution_count": 74,
   "metadata": {},
   "outputs": [
    {
     "data": {
      "text/plain": [
       "1j [Y1]"
      ]
     },
     "execution_count": 74,
     "metadata": {},
     "output_type": "execute_result"
    }
   ],
   "source": [
    "a = QubitOperator('Z1 ', 0.5)\n",
    "b= QubitOperator('X1', 10)\n",
    "Multiply_PauliQubitOps(a,b, mulitplying_const=2)"
   ]
  },
  {
   "cell_type": "code",
   "execution_count": 145,
   "metadata": {},
   "outputs": [],
   "source": [
    "from quchem.Unitary_partitioning import *\n",
    "\n",
    "def Get_X_SET(anti_commuting_set, N_index):\n",
    "    \"\"\"\n",
    "    X = i ( ∑_{k=1}^{n-1} B_{k} P_{k} ) P_{n}\n",
    "\n",
    "    X =  i( ∑_{k=1}^{n-1} B_{k} P_{kn}\n",
    "\n",
    "        where P_{ks} = P_{k} * P_{n}\n",
    "\n",
    "    note ∑_{k=1}^{n-1} B_{k}^{2} = 1\n",
    "\n",
    "    therefore have:\n",
    "    X =  gamma_l * i( ∑_{k=1}^{n-1} B_{k} P_{kn}\n",
    "\n",
    "\n",
    "    Args:\n",
    "        anti_commuting_set (list):\n",
    "        S_index (int):\n",
    "        no_qubits (int):\n",
    "    Returns:\n",
    "        LCU_dict (dict): A dictionary containing the linear combination of terms required to perform R ('R_LCU')\n",
    "                         the correction fsinactors to make all real and positive ('LCU_correction')\n",
    "                         the angle to perform R gate ('alpha')\n",
    "                         the PauliS term ('P_s')\n",
    "     \"\"\"\n",
    "\n",
    "    \n",
    "    # 𝛾_𝑙 ∑ 𝛽_𝑗 𝑃_𝑗\n",
    "    normalised_FULL_set = Get_beta_j_cofactors(anti_commuting_set)\n",
    "    gamma_l = normalised_FULL_set['gamma_l']\n",
    "    \n",
    "    norm_FULL_set = normalised_FULL_set['PauliWords'].copy()\n",
    "    \n",
    "    # 𝛽_n 𝑃_n\n",
    "    qubitOp_Pn_beta_n = norm_FULL_set.pop(N_index)\n",
    "    \n",
    "    \n",
    "#     if list(qubitOp_Pn_beta_n.terms.values())[0] <0:\n",
    "#         gamma_l = gamma_l*-1\n",
    "#         qubitOp_Pn_beta_n = QubitOperator(list(qubitOp_Pn_beta_n.terms.keys())[0], list(qubitOp_Pn_beta_n.terms.values())[0]*-1)\n",
    "#         norm_FULL_set = [QubitOperator(qubitOp, const*-1) for operator in norm_FULL_set for qubitOp, const in operator.terms.items()]\n",
    "    \n",
    "    \n",
    "    # Ω_𝑙 ∑ 𝛿_𝑗 𝑃_𝑗  ... note this doesn't contain 𝛽_n 𝑃_n\n",
    "    H_n_1 = Get_beta_j_cofactors(norm_FULL_set) \n",
    "    Omega_l = H_n_1['gamma_l']\n",
    "    \n",
    "    # cos(𝜙_{𝑛−1}) =𝛽_𝑛\n",
    "    phi_n_1 = np.arccos(list(qubitOp_Pn_beta_n.terms.values())[0]) \n",
    "#     phi_n_1 = np.arcsin(Omega_l) \n",
    "    \n",
    "    \n",
    "    # 𝑖 ∑ 𝛿_{𝑘} 𝑃_{𝑘𝑛}\n",
    "    X_set={}\n",
    "    X_set['X_PauliWords'] =[]\n",
    "    for qubitOp_Pk in H_n_1['PauliWords']:\n",
    "        new_PauliWord= Multiply_PauliQubitOps(qubitOp_Pk, qubitOp_Pn_beta_n, mulitplying_const=1j) # here we times by 1j due to defintion of X also we divided by B_n (as we only want to multiply by P_n B#NOT B_n P_n)\n",
    "        X_set['X_PauliWords'].append(new_PauliWord)\n",
    "\n",
    "    if not np.isclose(sum(np.absolute(list(qubitOp.terms.values())[0])**2 for qubitOp in X_set['X_PauliWords']), 1):\n",
    "        raise ValueError('normalisation of X operator incorrect: {}'.format(sum(list(qubitOp.terms.values())[0]**2 for qubitOp in X_set['X_PauliWords'])))\n",
    "\n",
    "    # THIS IS NOT NEED BUT I AM USING TO CHECK\n",
    "    X_set['H_n'] = [QubitOperator(qubitOp, const*np.sin(phi_n_1)) \n",
    "          for operator in H_n_1['PauliWords'] for qubitOp, const in operator.terms.items()]+ [QubitOperator(list(qubitOp_Pn_beta_n.terms.keys())[0], np.cos(phi_n_1))]\n",
    "\n",
    "    if not np.isclose(sum(np.absolute(list(qubitOp.terms.values())[0])**2 for qubitOp in X_set['H_n']), 1):\n",
    "        raise ValueError('normalisation of H_n operator incorrect: {}'.format(sum(np.absolute(list(qubitOp.terms.values())[0])**2 for qubitOp in X_set['H_n'])))\n",
    "    # THIS IS NOT NEED BUT I AM USING TO CHECK\n",
    "\n",
    "    if not np.isclose((list(qubitOp_Pn_beta_n.terms.values())[0]**2 + Omega_l**2), 1):\n",
    "        raise ValueError('Ω^2 + 𝛽n^2 does NOT equal 1')\n",
    "    \n",
    "    if list(qubitOp_Pn_beta_n.terms.values())[0] <0:\n",
    "        X_set['gamma_l'] = gamma_l *-1\n",
    "    else:\n",
    "         X_set['gamma_l'] = gamma_l\n",
    "    \n",
    "    X_set['P_n'] = QubitOperator(list(qubitOp_Pn_beta_n.terms.keys())[0], 1) \n",
    "\n",
    "\n",
    "#     X_set['gamma_l'] = gamma_l\n",
    "    \n",
    "    X_set['H_n_1'] = H_n_1['PauliWords']\n",
    "    X_set['Omega_l'] = Omega_l\n",
    "    X_set['phi_n_1'] = phi_n_1\n",
    "    return X_set"
   ]
  },
  {
   "cell_type": "code",
   "execution_count": 146,
   "metadata": {},
   "outputs": [
    {
     "data": {
      "text/plain": [
       "{'X_PauliWords': [(-1+0j) [X0 X1 Y2 X3]],\n",
       " 'H_n': [(-0.9800573521796645+0j) [Z3],\n",
       "  (-0.19871483698653464+0j) [X0 X1 Y2 Y3]],\n",
       " 'gamma_l': (-0.22797802215321797+0j),\n",
       " 'P_n': 1 [X0 X1 Y2 Y3],\n",
       " 'H_n_1': [(-1+0j) [Z3]],\n",
       " 'Omega_l': (0.9800573521796646+0j),\n",
       " 'phi_n_1': (1.770842758748273-0j)}"
      ]
     },
     "execution_count": 146,
     "metadata": {},
     "output_type": "execute_result"
    }
   ],
   "source": [
    "Get_X_SET(anit_commuting_sets[7], 0)"
   ]
  },
  {
   "cell_type": "code",
   "execution_count": 20,
   "metadata": {},
   "outputs": [
    {
     "data": {
      "text/plain": [
       "{'PauliWords': [(-0.1987148369865346+0j) [X0 X1 Y2 Y3],\n",
       "  (-0.9800573521796646+0j) [Z3]],\n",
       " 'gamma_l': (0.22797802215321797+0j)}"
      ]
     },
     "execution_count": 20,
     "metadata": {},
     "output_type": "execute_result"
    }
   ],
   "source": [
    " Get_beta_j_cofactors(anit_commuting_sets[7]) "
   ]
  },
  {
   "cell_type": "code",
   "execution_count": 21,
   "metadata": {},
   "outputs": [
    {
     "data": {
      "text/plain": [
       "{0: [(0.12062523481381837+0j) [Z0 Z2]],\n",
       " 1: [(0.12062523481381837+0j) [Z1 Z3]],\n",
       " 2: [(0.174412876106516+0j) [Z2 Z3]],\n",
       " 3: [(0.1686889816869329+0j) [Z0 Z1]],\n",
       " 4: [(-0.09706626861762624+0j) []],\n",
       " 5: [(0.16592785032250768+0j) [Z0 Z3]],\n",
       " 6: [(0.16592785032250768+0j) [Z1 Z2]],\n",
       " 7: [(-0.04530261550868928+0j) [X0 X1 Y2 Y3], (-0.2234315367466397+0j) [Z3]],\n",
       " 8: [(-0.04530261550868928+0j) [Y0 Y1 X2 X3], (-0.2234315367466397+0j) [Z2]],\n",
       " 9: [(0.04530261550868928+0j) [X0 Y1 Y2 X3], (0.17141282639402405+0j) [Z0]],\n",
       " 10: [(0.04530261550868928+0j) [Y0 X1 X2 Y3], (0.171412826394024+0j) [Z1]]}"
      ]
     },
     "execution_count": 21,
     "metadata": {},
     "output_type": "execute_result"
    }
   ],
   "source": [
    "anit_commuting_sets"
   ]
  },
  {
   "cell_type": "markdown",
   "metadata": {},
   "source": [
    "$$H_{n}= \\sin \\phi_{n-1} H_{n-1} + \\cos \\phi_{n-1} P_{n}$$"
   ]
  },
  {
   "cell_type": "code",
   "execution_count": 62,
   "metadata": {},
   "outputs": [
    {
     "name": "stdout",
     "output_type": "stream",
     "text": [
      "[(0.9800573521796645+0j) [Z3], (0.19871483698653453-0j) [X0 X1 Y2 Y3]]\n",
      "should equal\n",
      "(0.9800573521796645+0j) * [(1-0j) [Z3]]  +  (0.19871483698653453-0j) * 1 [X0 X1 Y2 Y3]\n"
     ]
    }
   ],
   "source": [
    "test = Get_X_SET(anit_commuting_sets[7], 0)\n",
    "print(test['H_n'])\n",
    "print('should equal')\n",
    "print(np.sin(test['phi_n_1']), '*',test['H_n_1'],' + ', np.cos(test['phi_n_1']),  '*',test['P_n'])"
   ]
  },
  {
   "cell_type": "code",
   "execution_count": null,
   "metadata": {},
   "outputs": [],
   "source": []
  },
  {
   "cell_type": "markdown",
   "metadata": {},
   "source": [
    "Now $\\mathcal{X}$ acts on $H_{n}$ as follows:\n",
    "\n",
    "$$\\mathcal{X} H_{n}=i\\left(-\\sin \\phi_{n-1} P_{n}+\\cos \\phi_{n-1} H_{n-1}\\right)$$\n",
    "\n",
    "where:\n",
    "- $H_{n}=\\sin \\phi_{n-1} H_{n-1}+\\cos \\phi_{n-1} P_{n}$\n",
    "\n",
    "remember:\n",
    "\n",
    "- $H_{n}=\\frac{H_{S}}{\\gamma_{l}}= \\beta_{n} P_{n} + \\Omega_{l} H_{n-1}$... which defines what $\\phi_{n-1}$ is!\n",
    "\n",
    "\n",
    "We let:\n",
    "$$R=\\exp (-i \\alpha \\mathcal{X} / 2)=\\cos (\\alpha / 2) \\mathbb{1}-i \\sin (\\alpha / 2) \\mathcal{X}$$\n",
    "\n",
    "then the following:\n",
    "$$R H_{n} R^{\\dagger}=\\sin \\left(\\phi_{n-1}-\\alpha\\right) H_{n-1}+\\cos \\left(\\phi_{n-1}-\\alpha\\right) P_{n}$$\n",
    "\n",
    "by **choosing**: $\\alpha=\\phi_{n-1}$\n",
    "we get:\n",
    "\n",
    "$$R H_{n} R^{\\dagger}=P_{n}$$\n",
    "\n",
    "- note $\\alpha = arccos(\\beta_{n})$ \n",
    "\n",
    "overall we want **$$ H_{n} = R^{\\dagger} P_{n} R$$**"
   ]
  },
  {
   "cell_type": "code",
   "execution_count": null,
   "metadata": {},
   "outputs": [],
   "source": []
  },
  {
   "cell_type": "markdown",
   "metadata": {},
   "source": [
    "To do this via a **quantum circuit** we do the following:\n",
    "\n",
    "$$ \\langle H_{n}\\rangle =  \\langle \\psi_{UCCSD}|R^{\\dagger} P_{n} R |\\psi_{UCCSD}\\rangle = M_{z} U_{n}R|\\psi_{UCCSD}\\rangle$$ \n",
    "\n",
    "where:\n",
    "- $ U_{n}$ is a change of basis of $P_{n}$ to $Z$ basis for measurement!\n",
    "- $M_{z}$ is a measurement in $Z$ basis resuliting in: $ \\langle \\psi_{UCCSD}|R^{\\dagger} U_{n}^{\\dagger} M_{z}^{\\dagger} M_{z} U_{n}R|\\psi_{UCCSD}\\rangle$\n"
   ]
  },
  {
   "cell_type": "code",
   "execution_count": null,
   "metadata": {},
   "outputs": [],
   "source": []
  },
  {
   "cell_type": "markdown",
   "metadata": {},
   "source": [
    "NOW!\n",
    "let us take a closer look at:\n",
    "$$R=\\exp (-i \\alpha \\mathcal{X} / 2)=\\cos (\\alpha / 2) \\mathbb{1}-i \\sin (\\alpha / 2) \\mathcal{X}$$\n",
    "\n",
    "this is just a **LINEAR COMBINATION OF PAULIWORDS!**\n",
    "\n",
    "- $\\mathcal{X}=i \\sum_{k=0}^{n-1} \\delta_{k} P_{kn}$ (index starts at 0 with identity term included!)\n",
    "\n",
    "$$R=\\exp (-i \\alpha \\mathcal{X} / 2)=\\cos (\\alpha / 2) \\mathbb{1}-i \\sin (\\alpha / 2) \\bigg( i \\sum_{k=1}^{n-1} \\delta_{k} P_{kn}\\bigg)$$\n",
    "\n",
    "my code has $\\bigg( i \\sum_{k=1}^{n-1} \\delta_{k} P_{kn}\\bigg)$ in code!\n",
    "\n",
    "(could simplify too: [not doing atm])\n",
    "$$R=\\exp (-i \\alpha \\mathcal{X} / 2)=\\cos (\\alpha / 2) \\mathbb{1}+ \\sin (\\alpha / 2) \\bigg( \\sum_{k=1}^{n-1} \\delta_{k} P_{kn}\\bigg)$$"
   ]
  },
  {
   "cell_type": "code",
   "execution_count": 93,
   "metadata": {},
   "outputs": [],
   "source": [
    "def Get_R_linear_combination(anti_commuting_set, N_index):\n",
    "    \"\"\"\n",
    "    \"\"\"\n",
    "    X_set = Get_X_SET(anti_commuting_set, N_index)\n",
    "    \n",
    "    # χ = 𝑖 ∑ 𝛿_𝑘 𝑃_𝑘𝑛\n",
    "    X_terms = X_set['X_PauliWords']\n",
    "    \n",
    "    # 𝛼 = 𝜙_{𝑛−1}\n",
    "    alpha = X_set['phi_n_1']\n",
    "    \n",
    "    \n",
    "    # 𝑅=cos(𝛼/2)𝟙−𝑖sin(𝛼/2)χ = cos(𝛼/2)𝟙−𝑖sin(𝛼/2)*(𝑖 ∑ 𝛿_𝑘 𝑃_𝑘𝑛)\n",
    "    \n",
    "    # cos(𝛼/2)𝟙 term\n",
    "    I_term = QubitOperator('', np.cos(alpha / 2))\n",
    "    R_linear_comb_list = [I_term]\n",
    "    \n",
    "    # −𝑖 sin(𝛼/2) * (𝑖 ∑ 𝛿_𝑘 𝑃_𝑘𝑛) terms!\n",
    "    sin_term = np.sin(alpha / 2)*-1j\n",
    "    for qubitOp_P_kn in X_terms:\n",
    "        for P_kn_word, constant in qubitOp_P_kn.terms.items():        \n",
    "            new_constant = sin_term*constant\n",
    "            R_linear_comb_list.append(QubitOperator(P_kn_word, new_constant))\n",
    "    \n",
    "    if not np.isclose(sum(np.absolute(list(qubitOp.terms.values())[0])**2 for qubitOp in R_linear_comb_list), 1):\n",
    "        raise ValueError('normalisation of R operator incorrect: {}'.format(sum(list(qubitOp.terms.values())[0]**2 for qubitOp in R_linear_comb_list)))\n",
    "\n",
    "    \n",
    "    return R_linear_comb_list, X_set['P_n'], X_set['gamma_l'] #, X_set['Omega_l']"
   ]
  },
  {
   "cell_type": "code",
   "execution_count": 27,
   "metadata": {},
   "outputs": [
    {
     "data": {
      "text/plain": [
       "[(0.04530261550868928+0j) [X0 Y1 Y2 X3], (0.17141282639402405+0j) [Z0]]"
      ]
     },
     "execution_count": 27,
     "metadata": {},
     "output_type": "execute_result"
    }
   ],
   "source": [
    "anit_commuting_sets[9]"
   ]
  },
  {
   "cell_type": "code",
   "execution_count": 94,
   "metadata": {},
   "outputs": [
    {
     "data": {
      "text/plain": [
       "([(0.7741817735475741-0j) [], -0.6329633334615306j [X0 X1 Y2 X3]],\n",
       " 1 [X0 X1 Y2 Y3],\n",
       " (-0.22797802215321797+0j))"
      ]
     },
     "execution_count": 94,
     "metadata": {},
     "output_type": "execute_result"
    }
   ],
   "source": [
    "Get_R_linear_combination(anit_commuting_sets[7], 0)"
   ]
  },
  {
   "cell_type": "code",
   "execution_count": null,
   "metadata": {},
   "outputs": [],
   "source": []
  },
  {
   "cell_type": "markdown",
   "metadata": {},
   "source": [
    "## linear combination of unitaries method!"
   ]
  },
  {
   "cell_type": "markdown",
   "metadata": {},
   "source": [
    "https://arxiv.org/pdf/1610.06546.pdf\n",
    "\n",
    "- for any operator $\\hat{O}$ that is a sum of **unitary** operators $\\hat{U}_{j}$:\n",
    "\n",
    "$$\\hat{O}=\\sum_{j=1}^{d} \\alpha_{j} \\hat{U}_{j}$$\n",
    "\n",
    "- where $\\|\\hat{O}\\| \\leq\\|\\vec{\\alpha}\\|_{1}=\\sum_{j=1}^{d}\\left|\\alpha_{j}\\right|$\n",
    "\n",
    "and\n",
    "\n",
    "- **IMPORTANT** $\\forall \\alpha_{j}$ we have  $\\alpha_{j} \\geq 0$ AKA absorbing complex phases into $\\hat{U}_{j}$\n",
    "\n",
    "If we define the following:\n",
    "\n",
    "$$\\hat{U}=\\sum_{j=1}^{d}|j\\rangle\\left\\langle\\left. j\\right|_{a} \\otimes \\hat{U}_{j}\\right.$$\n",
    "\n",
    "$$\\hat{G}=\\sum_{j=1}^{d} \\sqrt{\\frac{\\alpha_{j}}{\\|\\vec{\\alpha}\\|_{1}}}|j\\rangle\\left\\langle\\left. 0\\right|_{a}\\right.$$\n",
    "\n",
    "\n",
    "$$\\hat{G}= \\frac{1}{\\sqrt{\\|\\vec{\\alpha}\\|_{1}}} \\sum_{j=1}^{d} \\sqrt{\\alpha_{j}}|j\\rangle\\left\\langle\\left. 0\\right|_{a}\\right.$$\n",
    "\n",
    "\n",
    "\n",
    "We have:\n",
    "\n",
    "$$\\hat{U} \\hat{G}|0\\rangle_{a}|\\psi\\rangle_{s} = \\frac{\\hat{U}}{\\sqrt{\\|\\vec{\\alpha}\\|_{1}}} |G\\rangle_{a}|\\psi\\rangle_{s}$$\n",
    "\n",
    "This results in:\n",
    "\n",
    "$$\\hat{U}|G\\rangle_{a}|\\psi\\rangle_{s}=|G\\rangle_{a} \\hat{O}|\\psi\\rangle_{s}+\\sqrt{1-\\| \\hat{O}|\\psi\\rangle \\|^{2}}\\left|G_{\\psi}^{\\perp}\\right\\rangle_{a s}$$\n",
    "\n",
    "overall:\n",
    "\n",
    "$$\\frac{\\hat{U}}{\\sqrt{\\|\\vec{\\alpha}\\|_{1}}}|G\\rangle_{a}|\\psi\\rangle_{s}= |G\\rangle_{a} \\frac{\\hat{O}}{\\sqrt{\\|\\vec{\\alpha}\\|_{1}}}|\\psi\\rangle_{s}+\\sqrt{1-\\| \\frac{\\hat{O}}{\\sqrt{\\|\\vec{\\alpha}\\|_{1}}}|\\psi\\rangle \\|^{2}}\\left|G_{\\psi}^{\\perp}\\right\\rangle_{a s}$$\n",
    "\n",
    "\n",
    "THEN finally application of $\\hat{G}^{\\dagger}$:\n",
    "\n",
    "\n",
    "$$\\hat{G}^{\\dagger} \\bigg( |G\\rangle_{a} \\frac{\\hat{O}}{\\sqrt{\\|\\vec{\\alpha}\\|_{1}}}|\\psi\\rangle_{s}+\\sqrt{1-\\| \\frac{\\hat{O}}{\\sqrt{\\|\\vec{\\alpha}\\|_{1}}}|\\psi\\rangle \\|^{2}}\\left|G_{\\psi}^{\\perp}\\right\\rangle_{a s} \\bigg) \\mapsto  |0\\rangle_{a} \\frac{\\hat{O}}{\\sqrt{\\|\\vec{\\alpha}\\|_{1}}} \\frac{1}{\\sqrt{\\|\\vec{\\alpha}\\|_{1}}} |\\psi\\rangle_{s}+ unknown \\: ortho \\: state$$\n",
    "\n",
    "\n",
    "Hence measuring $|0\\rangle_{a}$ results in:\n",
    "\n",
    "$$|0\\rangle_{a} \\frac{\\hat{O}}{\\sqrt{\\|\\vec{\\alpha}\\|_{1}}} \\frac{1}{\\sqrt{\\|\\vec{\\alpha}\\|_{1}}} |\\psi\\rangle_{s} = \\frac{\\hat{O}}{\\|\\vec{\\alpha}\\|_{1}}|\\psi\\rangle_{s}$$\n",
    "\n",
    "\n",
    "- the measurement succeed with probability: $\\| \\hat{O}|\\psi\\rangle \\|^{2}$\n",
    "    - and $\\hat{U}|G\\rangle_{a}|\\psi\\rangle_{s}$ is **projected** onto $\\frac{|G\\rangle_{a} \\hat{O}|\\psi\\rangle_{s}}{\\| \\hat{O}|\\psi\\rangle \\|}$\n",
    "\n",
    "- and fails if it goes onto orthogonal complement : $|G_{\\psi}^{\\perp}\\rangle_{a s} = |G^{\\perp}\\rangle_{a}|\\psi\\rangle_{s}$\n",
    "\n",
    "\n",
    "NOTE:\n",
    "as **probabilities are bounded by 1** the operator $\\hat{O}$ must have spectral norm $\\|\\hat{O}\\|_{2} \\leq 1$\n",
    "\n",
    "- note spectral norm same as $l_{2}$ norm of matrix\n"
   ]
  },
  {
   "cell_type": "markdown",
   "metadata": {},
   "source": []
  },
  {
   "cell_type": "code",
   "execution_count": 14,
   "metadata": {},
   "outputs": [],
   "source": [
    "# note:\n",
    "# G|\\hat{U}| G\\rangle=\\frac{\\hat{O}}{\\|\\vec{\\alpha}\\|_{1}}$$"
   ]
  },
  {
   "cell_type": "markdown",
   "metadata": {},
   "source": [
    "## ### method uses l1-norm and gives worse answer!"
   ]
  },
  {
   "cell_type": "code",
   "execution_count": 15,
   "metadata": {},
   "outputs": [],
   "source": [
    "# def absorb_complex_phases(R_linear_comb_list):\n",
    "    \n",
    "#     R_linear_comb_corrected_phase=[]\n",
    "#     R_linear_comb_correction_values=[]\n",
    "#     ancilla_amplitudes=[]\n",
    "\n",
    "#     l1_norm = sum([np.absolute(const) for qubitOp in R_linear_comb_list for PauliWord, const in qubitOp.terms.items()])\n",
    "#     if l1_norm>1:\n",
    "#         raise ValueError('l1_norm means correct amps not obtained')\n",
    "    \n",
    "#     for qubitOp in R_linear_comb_list:\n",
    "#         for pauliword, const in qubitOp.terms.items():\n",
    "#             if (isinstance(const, complex)) and (const.imag<0):\n",
    "#                 R_linear_comb_corrected_phase.append(QubitOperator(pauliword, np.sqrt(np.sqrt(const.imag**2)/l1_norm)))\n",
    "#                 R_linear_comb_correction_values.append(-1j)\n",
    "#                 ancilla_amplitudes.append(np.sqrt(np.sqrt(const.imag**2)/l1_norm))\n",
    "#             elif (isinstance(const, complex)) and (const.imag!=0):\n",
    "#                 R_linear_comb_corrected_phase.append(QubitOperator(pauliword, np.sqrt(np.sqrt(const.imag**2)/l1_norm)))\n",
    "#                 R_linear_comb_correction_values.append(1j)\n",
    "#                 ancilla_amplitudes.append(np.sqrt(np.sqrt(const.imag**2)/l1_norm))\n",
    "#             elif const<0:\n",
    "#                 R_linear_comb_corrected_phase.append(QubitOperator(pauliword, np.sqrt(np.sqrt(const**2)/l1_norm)))\n",
    "#                 R_linear_comb_correction_values.append(-1)\n",
    "#                 ancilla_amplitudes.append(np.sqrt(np.sqrt(const**2)/l1_norm))\n",
    "#             else:\n",
    "#                 R_linear_comb_corrected_phase.append(QubitOperator(pauliword, np.sqrt(const/l1_norm)))\n",
    "#                 R_linear_comb_correction_values.append(1)\n",
    "#                 ancilla_amplitudes.append(np.sqrt(const/l1_norm))\n",
    "    \n",
    "    \n",
    "#     if not np.isclose(sum([amp**2 for amp in ancilla_amplitudes]), 1):\n",
    "#         raise ValueError('ancilla amplitudes wrong')\n",
    "    \n",
    "    \n",
    "    \n",
    "#     return R_linear_comb_corrected_phase, R_linear_comb_correction_values, ancilla_amplitudes"
   ]
  },
  {
   "cell_type": "markdown",
   "metadata": {},
   "source": [
    "### method doesn't use l1-norm and gives better answer!"
   ]
  },
  {
   "cell_type": "markdown",
   "metadata": {},
   "source": [
    "I believe this is due to operator being l2 normalised! (and we are using l2 norms)"
   ]
  },
  {
   "cell_type": "markdown",
   "metadata": {},
   "source": [
    "aka we are implementing R:\n",
    "\n",
    "$$R=\\exp (-i \\alpha \\mathcal{X} / 2)=\\cos (\\alpha / 2) \\mathbb{1}-i \\sin (\\alpha / 2) \\bigg( i \\sum_{k=1}^{n-1} \\delta_{k} P_{kn}\\bigg)$$\n",
    "\n",
    "as a linear combination of unitaries (which are PauliWords)... Note this operators is $l_{2}$ normalised!"
   ]
  },
  {
   "cell_type": "markdown",
   "metadata": {},
   "source": [
    "note:\n",
    "- $\\|A\\|_{1}=\\max _{1 \\leq j \\leq n} \\sum_{i=1}^{m}\\left|a_{i j}\\right|$\n",
    "- $\\|A\\|_{2}=\\sigma_{\\max }(A) \\leq\\|A\\|_{\\mathrm{F}}=\\left(\\sum_{i=1}^{m} \\sum_{j=1}^{n}\\left|a_{i j}\\right|^{2}\\right)^{\\frac{1}{2}}$\n",
    "\n",
    "example:\n",
    "\n",
    "$A=\\left[\\begin{array}{ccc}-3 & 5 & 7 \\\\ 2 & 6 & 4 \\\\ 0 & 2 & 8\\end{array}\\right]$\n",
    "\n",
    "$\\|A\\|_{1}=\\max (|-3|+2+0 ; 5+6+2 ; 7+4+8)=\\max (5,13,19)=19$\n",
    "\n",
    "$\\|A\\|_{2} \\leq \\|A\\|_{F}= \\sqrt{|-3|^{2}+|2|^{2}+|0|^{2}+|5|^{2}+|6|^{2}+|2|^{2} +|7|^{2}+|4|^{2} +|8|^{2}}=\\sqrt{207}=14.39$"
   ]
  },
  {
   "cell_type": "code",
   "execution_count": 16,
   "metadata": {},
   "outputs": [],
   "source": [
    "# A = np.array([[-3,5,7],\n",
    "#          [2,6,4],\n",
    "#          [0,2,8]])\n",
    "\n",
    "# # np.dot(A.transpose(), A)\n",
    "# val, vec = np.linalg.eig(np.dot(A.transpose(), A))\n",
    "# np.sqrt(max(val))"
   ]
  },
  {
   "cell_type": "markdown",
   "metadata": {},
   "source": [
    "$A*A=\\left[\\begin{array}{ccc} 13 & -3 & -13 \\\\ -3 & 65 & 75 \\\\ -13 & 75 & 129\\end{array}\\right]$\n",
    "\n",
    "eigenvalues = [179.48079367,   8.81029291,  18.70891342]\n",
    "\n",
    "$\\lambda_{\\max }\\left(A^{*} A\\right)=179.48079367$\n",
    "\n",
    "$\\|A\\|_{2}=\\sqrt{\\lambda_{\\max }\\left(A^{*} A\\right)}=\\sigma_{\\max }(A)$\n",
    "\n",
    "- $\\sigma_{\\max }(A)$ represents the largest singular value of matrix $A$\n",
    "\n",
    "$\\|A\\|_{2}=\\sqrt{179.48079367}= 13.397044214055192$"
   ]
  },
  {
   "cell_type": "markdown",
   "metadata": {},
   "source": [
    "Looking at this using LCU theory\n",
    "\n",
    "- we have an operator $\\hat{O}$ that is a sum of **unitary** operators $\\hat{U}_{j}$:\n",
    "\n",
    "$$\\hat{O}=\\sum_{j=1}^{d} \\alpha_{j} \\hat{U}_{j}$$\n",
    "\n",
    "- where $\\|\\hat{O}\\|_{2} \\leq\\|\\vec{\\alpha}\\|_{2}=\\sqrt{\\sum_{j=1}^{d}\\left|\\alpha_{j}\\right|^{2}}$\n",
    "\n",
    "NOTE:\n",
    "The the $l_{2}$ norm of a matrix must be less than it's Frobenius norm which is the sum of the square root of the squares of each matrix element. We have PauliMatrices and so all entries have norm one... hence $\\|\\hat{R}\\|_{2}$ must be less than or equal too the $\\|\\vec{\\alpha}\\|_{2}$!\n",
    "\n",
    "\n",
    "and\n",
    "\n",
    "- **IMPORTANT** $\\forall \\alpha_{j}$ we have  $\\alpha_{j} \\geq 0$ AKA absorbing complex phases into $\\hat{U}_{j}$\n",
    "\n",
    "If we define the following:\n",
    "\n",
    "$$\\hat{U}=\\sum_{j=1}^{d}|j\\rangle\\left\\langle\\left. j\\right|_{a} \\otimes \\hat{U}_{j}\\right.$$\n",
    "\n",
    "$$\\hat{G}=\\sum_{j=1}^{d} \\sqrt{\\frac{\\left|\\alpha_{j}\\right|^{2}}{\\|\\vec{\\alpha}\\|_{2}}}|j\\rangle\\left\\langle\\left. 0\\right|_{a}\\right.$$\n",
    "\n",
    "$$\\hat{G}= \\frac{1}{\\sqrt{\\|\\vec{\\alpha}\\|_{2}}} \\sum_{j=1}^{d} \\sqrt{|\\alpha_{j}|^{2}} |j\\rangle\\left\\langle\\left. 0\\right|_{a}\\right. = \\frac{1}{\\sqrt{\\|\\vec{\\alpha}\\|_{2}}} \\sum_{j=1}^{d} |\\alpha_{j}| |j\\rangle\\left\\langle\\left. 0\\right|_{a}\\right.$$\n",
    "\n",
    "\n",
    "We have:\n",
    "\n",
    "$$\\hat{U} \\hat{G}|0\\rangle_{a}|\\psi\\rangle_{s} = \\hat{U}  \\frac{1}{\\sqrt{\\|\\vec{\\alpha}\\|_{2}}} |G\\rangle_{a}|\\psi\\rangle_{s}$$\n",
    "\n",
    "This results in:\n",
    "\n",
    "$$\\hat{U}|G\\rangle_{a}|\\psi\\rangle_{s}=|G\\rangle_{a}  \\frac{\\hat{O}}{\\sqrt{\\|\\vec{\\alpha}\\|_{2}}}|\\psi\\rangle_{s}+\\sqrt{1-\\| \\frac{\\hat{O}}{\\sqrt{\\|\\vec{\\alpha}\\|_{2}}}|\\psi\\rangle \\|^{2}}\\left|G_{\\psi}^{\\perp}\\right\\rangle_{a s}$$\n",
    "\n",
    "\n",
    "THEN finally application of $\\hat{G}^{\\dagger}$:\n",
    "\n",
    "\n",
    "$$\\hat{G}^{\\dagger} \\bigg( |G\\rangle_{a}  \\frac{\\hat{O}}{\\sqrt{\\|\\vec{\\alpha}\\|_{2}}}|\\psi\\rangle_{s}+\\sqrt{1-\\| \\frac{\\hat{O}}{\\sqrt{\\|\\vec{\\alpha}\\|_{2}}}|\\psi\\rangle \\|^{2}}\\left|G_{\\psi}^{\\perp}\\right\\rangle_{a s} \\bigg) \\mapsto  |0\\rangle_{a} \\frac{\\hat{O}}{\\sqrt{\\|\\vec{\\alpha}\\|_{2}}} \\frac{1}{\\sqrt{\\|\\vec{\\alpha}\\|_{2}}} |\\psi\\rangle_{s}+ unknown \\: ortho \\: state$$\n",
    "\n",
    "\n",
    "Hence measuring $|0\\rangle_{a}$ results in:\n",
    "\n",
    "$$|0\\rangle_{a} \\frac{\\hat{O}}{\\sqrt{\\|\\vec{\\alpha}\\|_{2}}} \\frac{1}{\\sqrt{\\|\\vec{\\alpha}\\|_{2}}} |\\psi\\rangle_{s} = \\frac{\\hat{O}}{\\|\\vec{\\alpha}\\|_{2}}|\\psi\\rangle_{s}$$\n",
    "\n",
    "\n",
    "\n",
    "\n",
    "- the measurement succeed with probability: $\\| \\hat{O}|\\psi\\rangle \\|^{2}$\n",
    "    - and $\\hat{U}|G\\rangle_{a}|\\psi\\rangle_{s}$ is **projected** onto $\\frac{|G\\rangle_{a} \\hat{O}|\\psi\\rangle_{s}}{\\| \\hat{O}|\\psi\\rangle \\|}$\n",
    "\n",
    "- and fails if it goes onto orthogonal complement : $|G_{\\psi}^{\\perp}\\rangle_{a s} = |G^{\\perp}\\rangle_{a}|\\psi\\rangle_{s}$\n",
    "\n",
    "\n",
    "NOTE:\n",
    "as **probabilities are bounded by 1** the operator $\\hat{O}$ must have spectral norm $\\|\\hat{O}\\| \\leq 1$"
   ]
  },
  {
   "cell_type": "markdown",
   "metadata": {},
   "source": []
  },
  {
   "cell_type": "code",
   "execution_count": 17,
   "metadata": {},
   "outputs": [
    {
     "data": {
      "text/plain": [
       "0.8660254037844386"
      ]
     },
     "execution_count": 17,
     "metadata": {},
     "output_type": "execute_result"
    }
   ],
   "source": [
    "np.sqrt(np.sqrt(0.9)/1.2649110640673518)# + np.sqrt(0.1)"
   ]
  },
  {
   "cell_type": "code",
   "execution_count": 18,
   "metadata": {},
   "outputs": [
    {
     "data": {
      "text/plain": [
       "0.9999999999999999"
      ]
     },
     "execution_count": 18,
     "metadata": {},
     "output_type": "execute_result"
    }
   ],
   "source": [
    "0.8660254037844386**2+0.5**2"
   ]
  },
  {
   "cell_type": "code",
   "execution_count": 32,
   "metadata": {},
   "outputs": [
    {
     "data": {
      "text/plain": [
       "([0.8660254037844386 [X0], 0.5 [Y1]],\n",
       " [1, (-0-1j)],\n",
       " [0.8660254037844386, 0.5],\n",
       " 1.2649110640673518)"
      ]
     },
     "execution_count": 32,
     "metadata": {},
     "output_type": "execute_result"
    }
   ],
   "source": [
    "def absorb_complex_phases(R_linear_comb_list):\n",
    "    \n",
    "    R_linear_comb_corrected_phase=[]\n",
    "    R_linear_comb_correction_values=[]\n",
    "    ancilla_amplitudes=[]\n",
    "    \n",
    "    l1_norm = sum([np.absolute(const) for qubitOp in R_linear_comb_list for PauliWord, const in qubitOp.terms.items()])\n",
    "    \n",
    "    for qubitOp in R_linear_comb_list:\n",
    "        for pauliword, const in qubitOp.terms.items():\n",
    "            if (isinstance(const, complex)) and (const.imag<0):\n",
    "                R_linear_comb_corrected_phase.append(QubitOperator(pauliword, np.sqrt(np.absolute(const)/l1_norm)))\n",
    "                R_linear_comb_correction_values.append(-1j)\n",
    "                ancilla_amplitudes.append(np.sqrt(np.absolute(const)/l1_norm)) #.append(np.sqrt(const.imag**2))\n",
    "            elif (isinstance(const, complex)) and (const.imag!=0):\n",
    "                R_linear_comb_corrected_phase.append(QubitOperator(pauliword,np.sqrt(np.absolute(const)/l1_norm)))\n",
    "                R_linear_comb_correction_values.append(1j)\n",
    "                ancilla_amplitudes.append(np.sqrt(np.absolute(const)/l1_norm)) #.append(np.sqrt(const.imag**2))\n",
    "            elif const<0:\n",
    "                R_linear_comb_corrected_phase.append(QubitOperator(pauliword, np.sqrt(np.absolute(const)/l1_norm)))\n",
    "                R_linear_comb_correction_values.append(-1)\n",
    "                ancilla_amplitudes.append(np.sqrt(np.absolute(const)/l1_norm)) #.append(np.sqrt(const**2))\n",
    "            else:\n",
    "                R_linear_comb_corrected_phase.append(QubitOperator(pauliword, np.sqrt(np.absolute(const)/l1_norm)))\n",
    "                R_linear_comb_correction_values.append(1)\n",
    "                ancilla_amplitudes.append(np.sqrt(np.absolute(const)/l1_norm)) #.append(np.sqrt(const**2))\n",
    "    \n",
    "    \n",
    "    \n",
    "    if not np.isclose(sum(np.absolute(amp)**2 for amp in ancilla_amplitudes), 1):\n",
    "        raise ValueError('ancilla amplitudes NOT normalised properly')\n",
    "    \n",
    "    \n",
    "    return R_linear_comb_corrected_phase, R_linear_comb_correction_values, ancilla_amplitudes, l1_norm\n",
    "\n",
    "R_lin = [QubitOperator('X0', np.sqrt(0.9)), QubitOperator('Y1', -1j*np.sqrt(0.1))]\n",
    "\n",
    "absorb_complex_phases(R_lin)"
   ]
  },
  {
   "cell_type": "code",
   "execution_count": 20,
   "metadata": {},
   "outputs": [
    {
     "data": {
      "text/plain": [
       "0.1976423537605237"
      ]
     },
     "execution_count": 20,
     "metadata": {},
     "output_type": "execute_result"
    }
   ],
   "source": [
    "0.25/1.2649110640673518"
   ]
  },
  {
   "cell_type": "code",
   "execution_count": 21,
   "metadata": {},
   "outputs": [
    {
     "data": {
      "text/plain": [
       "1.265"
      ]
     },
     "execution_count": 21,
     "metadata": {},
     "output_type": "execute_result"
    }
   ],
   "source": [
    "(0.949+0.316)/((0.949/1.265) + (0.316/1.265)) # "
   ]
  },
  {
   "cell_type": "code",
   "execution_count": 22,
   "metadata": {},
   "outputs": [
    {
     "data": {
      "text/plain": [
       "2.5298221281347035"
      ]
     },
     "execution_count": 22,
     "metadata": {},
     "output_type": "execute_result"
    }
   ],
   "source": [
    " 1.2649110640673518*2"
   ]
  },
  {
   "cell_type": "code",
   "execution_count": 33,
   "metadata": {},
   "outputs": [],
   "source": [
    "class Perform_modified_Pauligate(cirq.SingleQubitGate):\n",
    "    \"\"\"\n",
    "    \n",
    "\n",
    "    The function finds eigenvalue of operator and THEN gives corresponding operator to change to Z basis for measurement!\n",
    "\n",
    "    Args:\n",
    "        LCU_PauliWord_and_cofactor (tuple): Tuple of PauliWord (str) and constant (complex) ... (PauliWord, constant)\n",
    "        LCU_correction_value (complex):\n",
    "\n",
    "    Returns\n",
    "        A cirq circuit object to be used by cirq.Circuit\n",
    "\n",
    "    \"\"\"\n",
    "\n",
    "    def __init__(self, PauliStr, correction_value):\n",
    "\n",
    "        self.PauliStr = PauliStr\n",
    "        self.correction_value = correction_value\n",
    "\n",
    "    def _unitary_(self):\n",
    "\n",
    "        if self.PauliStr == 'Z':\n",
    "            return cirq.Z._unitary_() * self.correction_value\n",
    "\n",
    "        elif self.PauliStr == 'Y':\n",
    "            return cirq.Y._unitary_() * self.correction_value\n",
    "\n",
    "        elif self.PauliStr == 'X':\n",
    "            return cirq.X._unitary_() * self.correction_value\n",
    "\n",
    "        elif self.PauliStr == 'I':\n",
    "            return cirq.I._unitary_() * self.correction_value\n",
    "\n",
    "        else:\n",
    "            raise TypeError('not a Pauli operation')\n",
    "\n",
    "    def num_qubits(self):\n",
    "        return 1\n",
    "\n",
    "    def _circuit_diagram_info_(self, args):\n",
    "        return '{}*{}'.format(self.correction_value, self.PauliStr)"
   ]
  },
  {
   "cell_type": "code",
   "execution_count": 34,
   "metadata": {},
   "outputs": [
    {
     "name": "stdout",
     "output_type": "stream",
     "text": [
      "1: ───(-0-1j)*X───\n"
     ]
    },
    {
     "data": {
      "text/plain": [
       "array([[0.-0.j, 0.-1.j],\n",
       "       [0.-1.j, 0.-0.j]])"
      ]
     },
     "execution_count": 34,
     "metadata": {},
     "output_type": "execute_result"
    }
   ],
   "source": [
    "Pauli_str = 'X'\n",
    "Correction_value = -1j\n",
    "\n",
    "test_gate = Perform_modified_Pauligate(Pauli_str, Correction_value)\n",
    "circ = test_gate.on(cirq.LineQubit(1))\n",
    "print(cirq.Circuit(circ))\n",
    "\n",
    "circ._unitary_()"
   ]
  },
  {
   "cell_type": "code",
   "execution_count": 35,
   "metadata": {},
   "outputs": [],
   "source": [
    "class Perform_Modified_PauliWord(cirq.Gate):\n",
    "    \"\"\"\n",
    "    Class to generate cirq circuit as gate that performs a modified PauliWord\n",
    "\n",
    "    Args:\n",
    "        LCU_PauliWord_and_cofactor (tuple): Tuple of PauliWord (str) and constant (complex) ... (PauliWord, constant)\n",
    "        LCU_correction_value (complex):\n",
    "\n",
    "    Returns\n",
    "        A cirq circuit object to be used by cirq.Circuit\n",
    "\n",
    "    e.g.\n",
    "        test_case = ('Y0 Z1 X2 I3', 0.00070859248123462)\n",
    "        correction_val = (-0 - 1j)\n",
    "        dag = False\n",
    "\n",
    "        P_circ_mod = Perform_Modified_PauliWord(test_case, correction_val, dag)\n",
    "        print(cirq.Circuit(\n",
    "        cirq.decompose_once((P_circ_mod(*cirq.LineQubit.range(P_circ_mod.num_qubits()))))))\n",
    "        >>\n",
    "                0: ───change to Z basis for modified PauliMod : Y times -1j───\n",
    "                1: ───change to Z basis for modified PauliMod : Z times -1j───\n",
    "                2: ───change to Z basis for modified PauliMod : X times -1j───\n",
    "                3: ───change to Z basis for modified PauliMod : I times -1j───\n",
    "\n",
    "    \"\"\"\n",
    "\n",
    "    def __init__(self, PauliQubitOp, correction_val):\n",
    "\n",
    "        self.PauliQubitOp = PauliQubitOp\n",
    "        self.correction_val = correction_val\n",
    "\n",
    "    def _decompose_(self, qubits):\n",
    "        \n",
    "        if list(self.PauliQubitOp.terms.keys())[0] == ():\n",
    "            #identity operations\n",
    "            pass\n",
    "        else:\n",
    "            qubitNos_list, P_strs_list = zip(*list(self.PauliQubitOp.terms.keys())[0])\n",
    "            \n",
    "#             for index, P_str in enumerate(P_strs_list):\n",
    "#                 yield Perform_modified_Pauligate(P_str, self.correction_val).on(qubits[qubitNos_list[index]])\n",
    "\n",
    "            for index, P_str in enumerate(P_strs_list):\n",
    "                if index == 0 :\n",
    "                    yield Perform_modified_Pauligate(P_str, self.correction_val).on(qubits[qubitNos_list[index]])\n",
    "                else:\n",
    "                    if P_str == 'Z':\n",
    "                        yield cirq.Z.on(qubits[qubitNos_list[index]])\n",
    "                    elif P_str == 'Y':\n",
    "                        yield cirq.Y.on(qubits[qubitNos_list[index]])\n",
    "                    elif P_str == 'X':\n",
    "                        yield cirq.X.on(qubits[qubitNos_list[index]])\n",
    "                    elif P_str == 'I':\n",
    "                        yield cirq.I.on(qubits[qubitNos_list[index]])\n",
    "                    else:\n",
    "                        raise ValueError('Not a Pauli Operation')\n",
    "        \n",
    "\n",
    "    def _circuit_diagram_info_(self, args):\n",
    "        \n",
    "        qubitNos_list, P_strs_list = zip(*list(self.PauliQubitOp.terms.keys())[0])\n",
    "        \n",
    "        string_list = []\n",
    "        for index, qubitNo in enumerate(qubitNos_list):\n",
    "#             string_list.append('{}*{}{}'.format(self.correction_val, P_strs_list[index], qubitNo))\n",
    "            if index == 0:\n",
    "                string_list.append('{}*{}{}'.format(self.correction_val, P_strs_list[index], qubitNo))\n",
    "            else:\n",
    "                string_list.append('{}{}'.format(P_strs_list[index], qubitNo))\n",
    "        return string_list\n",
    "\n",
    "    def num_qubits(self):\n",
    "        if list(self.PauliQubitOp.terms.keys())[0] == ():\n",
    "            #identity operations\n",
    "            return 0\n",
    "        else:\n",
    "            qubitNos_list, P_strs_list = zip(*list(self.PauliQubitOp.terms.keys())[0])\n",
    "            return max(qubitNos_list)+1\n"
   ]
  },
  {
   "cell_type": "code",
   "execution_count": 36,
   "metadata": {},
   "outputs": [
    {
     "data": {
      "text/plain": [
       "(-1-0j)"
      ]
     },
     "execution_count": 36,
     "metadata": {},
     "output_type": "execute_result"
    }
   ],
   "source": [
    "R_lin = [QubitOperator('X0', np.sqrt(0.9)), QubitOperator('Y1', -1j*np.sqrt(0.1))]\n",
    "R_COB, R_COR, A_AMPs, l1= absorb_complex_phases(R_lin)\n",
    "\n",
    "np.prod([i**2 for i in R_COR])\n",
    "np.prod([i for i in R_COR])**2"
   ]
  },
  {
   "cell_type": "code",
   "execution_count": 37,
   "metadata": {},
   "outputs": [
    {
     "name": "stdout",
     "output_type": "stream",
     "text": [
      "[0.9407564774862406 [], 0.3390829545519511 [Y0 Y1 Y2 X3]]\n",
      "[1, (-0-1j)]\n",
      "1 [Z0]\n"
     ]
    }
   ],
   "source": [
    "R_uncorrected, Pn, gamma_l = Get_R_linear_combination(anit_commuting_sets[9], 1)\n",
    "\n",
    "R_corrected_Op_list, R_corr_list, ancilla_amplitudes, L1 = absorb_complex_phases(R_uncorrected)\n",
    "print(R_corrected_Op_list)\n",
    "print(R_corr_list)\n",
    "print(Pn)"
   ]
  },
  {
   "cell_type": "code",
   "execution_count": null,
   "metadata": {},
   "outputs": [],
   "source": []
  },
  {
   "cell_type": "code",
   "execution_count": 38,
   "metadata": {},
   "outputs": [
    {
     "name": "stdout",
     "output_type": "stream",
     "text": [
      "0: ───(-0-1j)*Y0───\n",
      "      │\n",
      "1: ───Y1───────────\n",
      "      │\n",
      "2: ───Y2───────────\n",
      "      │\n",
      "3: ───X3───────────\n",
      "0: ───(-0-1j)*Y───\n",
      "\n",
      "1: ───Y───────────\n",
      "\n",
      "2: ───Y───────────\n",
      "\n",
      "3: ───X───────────\n"
     ]
    }
   ],
   "source": [
    "R_circ = Perform_Modified_PauliWord(R_corrected_Op_list[1], R_corr_list[1])\n",
    "\n",
    "print(cirq.Circuit((R_circ(*cirq.LineQubit.range(R_circ.num_qubits())))))\n",
    "print(\n",
    "    cirq.Circuit(\n",
    "        cirq.decompose_once((R_circ(*cirq.LineQubit.range(R_circ.num_qubits()))))))"
   ]
  },
  {
   "cell_type": "code",
   "execution_count": null,
   "metadata": {},
   "outputs": [],
   "source": []
  },
  {
   "cell_type": "code",
   "execution_count": 39,
   "metadata": {},
   "outputs": [],
   "source": [
    "class LCU_R_gate(cirq.Gate):\n",
    "    \"\"\"\n",
    "    Function to build cirq Circuit that performs controlled modified pauligate for LCU method\n",
    "\n",
    "\n",
    "    Args:\n",
    "        circuit_param_dict (dict): A Dictionary of Tuples (qubit, control_val(int)) value is angle\n",
    "\n",
    "    Returns\n",
    "        A cirq circuit object to be used by cirq.Circuit.from_ops to generate arbitrary state\n",
    "\n",
    "    \"\"\"\n",
    "\n",
    "    def __init__(self, No_control_qubits, No_system_qubits, R_corrected_Op_list, R_correction_list):\n",
    "\n",
    "\n",
    "        self.No_control_qubits = No_control_qubits\n",
    "        self.No_system_qubits = No_system_qubits\n",
    "        self.R_corrected_Op_list = R_corrected_Op_list\n",
    "        self.R_correction_list = R_correction_list\n",
    "\n",
    "    def _decompose_(self, qubits):\n",
    "            \n",
    "            for control_state_index, R_qubitOp_corrected in enumerate(self.R_corrected_Op_list):\n",
    "                \n",
    "                if list(R_qubitOp_corrected.terms.keys())[0] != ():\n",
    "                \n",
    "                    control_str = Get_state_as_str(self.No_control_qubits, control_state_index)\n",
    "                    control_values = [int(bit) for bit in control_str]\n",
    "\n",
    "#                     qubit_list = cirq.LineQubit.range(self.No_system_qubits, self.No_system_qubits + self.No_control_qubits)  # note control qubits first!\n",
    "                    qubit_list = cirq.LineQubit.range(self.No_system_qubits, self.No_system_qubits + self.No_control_qubits) \\\n",
    "                             + cirq.LineQubit.range(self.No_system_qubits)  # note control qubits first!\n",
    "\n",
    "                    mod_p_word_gate = Perform_Modified_PauliWord(R_qubitOp_corrected, self.R_correction_list[control_state_index])\n",
    "\n",
    "                    yield mod_p_word_gate.controlled(num_controls=self.No_control_qubits, control_values=control_values).on(\n",
    "                        *qubit_list)  # *qubit_list\n",
    "        \n",
    "\n",
    "    def _circuit_diagram_info_(self, args):\n",
    "\n",
    "        string_list = []\n",
    "        \n",
    "        for _ in range(self.No_system_qubits):\n",
    "                string_list.append('Pauli_Mod_Cirq_LCU')\n",
    "                \n",
    "        for _ in range(self.No_control_qubits):\n",
    "            string_list.append('control_LCU')\n",
    "        \n",
    "        return string_list\n",
    "\n",
    "    def num_qubits(self):\n",
    "        return self.No_control_qubits + self.No_system_qubits\n"
   ]
  },
  {
   "cell_type": "code",
   "execution_count": 40,
   "metadata": {},
   "outputs": [
    {
     "name": "stdout",
     "output_type": "stream",
     "text": [
      "0: ───Pauli_Mod_Cirq_LCU───\n",
      "      │\n",
      "1: ───Pauli_Mod_Cirq_LCU───\n",
      "      │\n",
      "2: ───Pauli_Mod_Cirq_LCU───\n",
      "      │\n",
      "3: ───Pauli_Mod_Cirq_LCU───\n",
      "      │\n",
      "4: ───control_LCU──────────\n",
      "\n",
      "0: ───(-0-1j)*X0───\n",
      "      │\n",
      "1: ───X1───────────\n",
      "      │\n",
      "2: ───Y2───────────\n",
      "      │\n",
      "3: ───X3───────────\n",
      "      │\n",
      "4: ───@────────────\n",
      "\n",
      "[0.7417405617306773 [], 0.670686915843346 [X0 X1 Y2 X3]]\n",
      "[1, (-0-1j)]\n",
      "\n",
      "0         1 2 3 4\n",
      "│         │ │ │ │\n",
      "(-0-1j)*X─┼─┼─┼─@\n",
      "│         │ │ │ │\n",
      "│         X─┼─┼─@\n",
      "│         │ │ │ │\n",
      "│         │ Y─┼─@\n",
      "│         │ │ │ │\n",
      "│         │ │ X─@\n",
      "│         │ │ │ │\n"
     ]
    }
   ],
   "source": [
    "R_uncorrected, Pn, gamma_l = Get_R_linear_combination(anit_commuting_sets[7], 0)\n",
    "\n",
    "R_corrected_Op_list, R_corr_list, ancilla_amplitudes, l1 = absorb_complex_phases(R_uncorrected)\n",
    "\n",
    "N_control_qubits = int(np.ceil(np.log2(len(ancilla_amplitudes)))) \n",
    "\n",
    "GATE = LCU_R_gate(N_control_qubits, Hamilt.molecule.n_qubits, R_corrected_Op_list, R_corr_list)\n",
    "\n",
    "\n",
    "print(cirq.Circuit((GATE(*cirq.LineQubit.range(GATE.num_qubits())))))\n",
    "\n",
    "print('')\n",
    "print(\n",
    "    cirq.Circuit(\n",
    "        cirq.decompose_once((GATE(*cirq.LineQubit.range(GATE.num_qubits()))))))\n",
    "\n",
    "# print('')\n",
    "# print(\n",
    "#     cirq.Circuit(\n",
    "#         cirq.decompose((GATE(*cirq.LineQubit.range(GATE.num_qubits()))))))\n",
    "print('')\n",
    "print(R_corrected_Op_list)\n",
    "print(R_corr_list)\n",
    "print('')\n",
    "\n",
    "full_circuit = cirq.Circuit(\n",
    "                             cirq.decompose((GATE(*cirq.LineQubit.range(GATE.num_qubits())))))\n",
    "print(full_circuit.to_text_diagram(transpose=True))"
   ]
  },
  {
   "cell_type": "code",
   "execution_count": null,
   "metadata": {},
   "outputs": [],
   "source": []
  },
  {
   "cell_type": "code",
   "execution_count": null,
   "metadata": {},
   "outputs": [],
   "source": []
  },
  {
   "cell_type": "code",
   "execution_count": 41,
   "metadata": {},
   "outputs": [
    {
     "name": "stdout",
     "output_type": "stream",
     "text": [
      "3: ─── U = 0.7351 rad ───\n",
      "[[0.742+0.j]\n",
      " [0.671+0.j]]\n",
      "\n",
      "[0.7417405617306773, 0.670686915843346]\n"
     ]
    }
   ],
   "source": [
    "R_uncorrected, Pn, gamma_l = Get_R_linear_combination(anit_commuting_sets[7], 0)\n",
    "R_corrected_Op_list, R_corr_list, ancilla_amplitudes, l1 = absorb_complex_phases(R_uncorrected)\n",
    "\n",
    "from quchem.quantum_circuit_functions import *\n",
    "\n",
    "N_System_qubits = 3\n",
    "\n",
    "ancilla_obj = prepare_arb_state(ancilla_amplitudes, N_System_qubits)\n",
    "ancilla_prep_circ = ancilla_obj.Get_state_prep_Circuit()\n",
    "\n",
    "print(ancilla_prep_circ)\n",
    "\n",
    "print(ancilla_obj.get_wave_function())\n",
    "print('')\n",
    "print(ancilla_amplitudes)"
   ]
  },
  {
   "cell_type": "code",
   "execution_count": null,
   "metadata": {},
   "outputs": [],
   "source": []
  },
  {
   "cell_type": "code",
   "execution_count": 42,
   "metadata": {},
   "outputs": [],
   "source": [
    "class Measure_system_and_ancilla(cirq.Gate):\n",
    "    \"\"\"\n",
    "    Class to generate cirq circuit that measures PauliWord in Z BASIS AND ancilla line!!!!\n",
    "\n",
    "    e.g.: PauliWord_and_cofactor = ('X0 Y1 Z2 I3 Y4', -0.28527408634774526j)\n",
    "          n_ancilla_qubits = 2\n",
    "\n",
    "        gives :\n",
    "                0: ───M───\n",
    "                      │\n",
    "                1: ───M───\n",
    "                      │\n",
    "                2: ───M───\n",
    "                      │\n",
    "                4: ───M───\n",
    "                      │\n",
    "                5: ───M───\n",
    "                      │\n",
    "                6: ───M───\n",
    "\n",
    "    Args:\n",
    "        PauliWord_and_cofactor (tuple): Tuple of PauliWord (str) and constant (complex) ... (PauliWord, constant)\n",
    "        n_ancilla_qubits (int): Number of ancilla qubits\n",
    "\n",
    "    Returns\n",
    "        A cirq circuit object to be used by cirq.Circuit\n",
    "\n",
    "    \"\"\"\n",
    "    def __init__(self, PauliQubitOp, N_ancilla_qubits, N_system_qubits):\n",
    "\n",
    "        self.PauliQubitOp = PauliQubitOp\n",
    "        self.N_ancilla_qubits = N_ancilla_qubits\n",
    "        self.N_system_qubits = N_system_qubits\n",
    "\n",
    "    def _decompose_(self, qubits):\n",
    "        \n",
    "        qubit_system_list, _ = zip(*list(*self.PauliQubitOp.terms.keys()))\n",
    "        qubit_ancilla_list = [i for i in range(self.N_system_qubits, self.N_ancilla_qubits + self.N_system_qubits)]\n",
    "        \n",
    "        qubits_to_measure = (qubits[q_No] for q_No in list(qubit_system_list)+qubit_ancilla_list)\n",
    "        if qubit_system_list != []:\n",
    "            yield cirq.measure(*qubits_to_measure)\n",
    "        else:\n",
    "            return None\n",
    "         \n",
    "    def _circuit_diagram_info_(self, args):\n",
    "        string_list = []\n",
    "        for _ in range(self.N_system_qubits):\n",
    "            string_list.append(' Measuring system qubits')\n",
    "            \n",
    "        for _ in range(self.N_ancilla_qubits):\n",
    "            string_list.append(' Measuring ancilla qubits')\n",
    "            \n",
    "        return string_list\n",
    "\n",
    "    def num_qubits(self):\n",
    "        return self.N_ancilla_qubits + self.N_system_qubits"
   ]
  },
  {
   "cell_type": "code",
   "execution_count": 43,
   "metadata": {},
   "outputs": [
    {
     "name": "stdout",
     "output_type": "stream",
     "text": [
      "0: ────M───\n",
      "       │\n",
      "2: ────M───\n",
      "       │\n",
      "3: ────M───\n",
      "       │\n",
      "10: ───M───\n",
      "       │\n",
      "11: ───M───\n"
     ]
    }
   ],
   "source": [
    "x = QubitOperator('X0 Z2 Y3', 0.25j)\n",
    "N_ancilla_qubits = 2\n",
    "N_system_qubits = 10\n",
    "\n",
    "measure_circ_obj = Measure_system_and_ancilla(x, N_ancilla_qubits, N_system_qubits)\n",
    "# print(cirq.Circuit((measure_circ_obj(*cirq.LineQubit.range(measure_circ_obj.num_qubits())))))\n",
    "# print('####')\n",
    "print(\n",
    "    cirq.Circuit(cirq.decompose_once((measure_circ_obj(*cirq.LineQubit.range(measure_circ_obj.num_qubits()))))))"
   ]
  },
  {
   "cell_type": "code",
   "execution_count": 44,
   "metadata": {},
   "outputs": [],
   "source": [
    "def Full_Q_Circuit(Pn, R_corrected_Op_list, R_correction_list, ancilla_amplitudes, N_system_qubits, Pauli_N, ansatz_circ):\n",
    "    \n",
    "    ancilla_obj = prepare_arb_state(ancilla_amplitudes, N_system_qubits)\n",
    "    ancilla_circ = ancilla_obj.Get_state_prep_Circuit()\n",
    "    \n",
    "    N_ancilla_qubits = ancilla_obj.Get_max_no_ancilla_qubits()\n",
    "    ancilla_prep_circ = ancilla_obj.Get_state_prep_Circuit()\n",
    "    R_circ_obj = LCU_R_gate(N_ancilla_qubits, N_system_qubits, R_corrected_Op_list, R_correction_list)\n",
    "    R_circ_circ = cirq.Circuit(\n",
    "        cirq.decompose_once((R_circ_obj(*cirq.LineQubit.range(R_circ_obj.num_qubits())))))\n",
    "    \n",
    "    \n",
    "    change_to_Z_basis_obj = Change_PauliWord_measurement_to_Z_basis(Pn)\n",
    "    change_to_Z_basis_circ = cirq.Circuit(\n",
    "        cirq.decompose_once((change_to_Z_basis_obj(*cirq.LineQubit.range(change_to_Z_basis_obj.num_qubits())))))\n",
    "    \n",
    "    measure_obj = Measure_system_and_ancilla(Pauli_N, N_ancilla_qubits, N_system_qubits)\n",
    "    \n",
    "    measure_obj_circ = cirq.Circuit(\n",
    "        cirq.decompose_once((measure_obj(*cirq.LineQubit.range(measure_obj.num_qubits())))))\n",
    "    \n",
    "    full_Q_circ = cirq.Circuit([\n",
    "        *ansatz_circ.all_operations(),\n",
    "        *ancilla_circ.all_operations(),\n",
    "        *R_circ_circ.all_operations(),\n",
    "        *list(ancilla_circ.all_operations())[::-1],\n",
    "        *change_to_Z_basis_circ.all_operations(),\n",
    "        *measure_obj_circ\n",
    "    ])\n",
    "    return full_Q_circ"
   ]
  },
  {
   "cell_type": "code",
   "execution_count": 45,
   "metadata": {},
   "outputs": [],
   "source": [
    "from quchem.Ansatz_Generator_Functions import *\n",
    "\n",
    "ansatz_obj = Ansatz(Hamilt.molecule.n_electrons, Hamilt.molecule.n_qubits)\n",
    "\n",
    "Sec_Quant_CC_ia_ops, Sec_Quant_CC_ijab_ops, theta_parameters_ia, theta_parameters_ijab = ansatz_obj.Get_ia_and_ijab_terms()\n",
    "\n",
    "Qubit_Op_list_Second_Quant_CC_Ops_ia, Qubit_Op_list_Second_Quant_CC_Ops_ijab = ansatz_obj.UCCSD_single_trotter_step(Sec_Quant_CC_ia_ops, Sec_Quant_CC_ijab_ops,\n",
    "                                                                                                                    transformation='JW')\n",
    "\n",
    "full_ansatz_Q_Circ = Ansatz_Circuit(Qubit_Op_list_Second_Quant_CC_Ops_ia, Qubit_Op_list_Second_Quant_CC_Ops_ijab,\n",
    "             Hamilt.molecule.n_qubits, Hamilt.molecule.n_electrons)\n",
    "\n",
    "ansatz_cirq_circuit = full_ansatz_Q_Circ.Get_Full_HF_UCCSD_QC(theta_parameters_ia, theta_parameters_ijab)"
   ]
  },
  {
   "cell_type": "code",
   "execution_count": 46,
   "metadata": {
    "scrolled": true
   },
   "outputs": [
    {
     "data": {
      "text/html": [
       "<pre style=\"overflow: auto; white-space: pre;\">0: ───X──────────────────Rx(0.5π)───@───────────────────────@───Rx(-0.5π)───H───@──────────────────────@───────────H──────────H─────────────────────────────────────────────────────────────────────────────────────────────@───────────────────────────────@───────────H──────────Rx(0.5π)───@──────────────────────────────@───────────Rx(-0.5π)───Rx(0.5π)───@──────────────────────────────@───Rx(-0.5π)───H──────────@──────────────────────────────@──────────H───────────Rx(0.5π)───@───────────────────────────────────────@───────────Rx(-0.5π)───H──────────@───────────────────────────────────────@───────────H───────────H───@───────────────────────────────────────@──────────H───Rx(0.5π)───@──────────────────────────────────────@───Rx(-0.5π)───(-0-1j)*X0───Ry(-0.5π)──────────M───\n",
       "                                    │                       │                   │                      │                                                                                                                    │                               │                                 │                              │                                  │                              │                          │                              │                                 │                                       │                                  │                                       │                           │                                       │                         │                                      │               │                               │\n",
       "1: ───X─────────────────────────────X───@───────────────@───X───────────────────X───@──────────────@───X───────────Rx(0.5π)───@───────────────────────@───Rx(-0.5π)───H───@──────────────────────@───────────H──────────H───X───@───────────────────────@───X───────────H──────────Rx(0.5π)───X───@──────────────────────@───X───────────Rx(-0.5π)───H──────────X───@──────────────────────@───X───H───────────Rx(0.5π)───X───@──────────────────────@───X──────────Rx(-0.5π)───H──────────X───@───────────────────────@───────────X───────────H───────────Rx(0.5π)───X───@───────────────────────@───────────X───────────Rx(-0.5π)───H───X───@───────────────────────@───────────X──────────H───Rx(0.5π)───X───@──────────────────────@───────────X───Rx(-0.5π)───X1───────────Ry(-0.5π)──────────M───\n",
       "                                        │               │                           │              │                          │                       │                   │                      │                              │                       │                                         │                      │                                          │                      │                                  │                      │                                         │                       │                                                  │                       │                                           │                       │                                         │                      │                           │                               │\n",
       "2: ───H─────────────────────────────────X───Rz(-0.0π)───X───H───Rx(0.5π)────────────X───Rz(0.0π)───X───Rx(-0.5π)──────────────X───@───────────────@───X───────────────────X───@──────────────@───X───────────Rx(0.5π)───────────X───@───────────────@───X───Rx(-0.5π)───Rx(0.5π)──────────────────X───@──────────────@───X───Rx(-0.5π)───H──────────────────────────X───@──────────────@───X───H───H──────────────────────────X───@──────────────@───X───H──────────Rx(0.5π)───────────────────X───@───────────────@───X───────────Rx(-0.5π)───Rx(0.5π)───────────────────X───@───────────────@───X───────────Rx(-0.5π)───H───────────────────X───@───────────────@───X───────────H──────────H──────────────────X───@──────────────@───X───────────H───────────────Y2───────────Rx(0.5π)───────────M───\n",
       "                                                                                                                                  │               │                           │              │                                      │               │                                                 │              │                                                  │              │                                          │              │                                                 │               │                                                          │               │                                                   │               │                                                 │              │                               │                               │\n",
       "3: ───H───────────────────────────────────────────────────────────────────────────────────────────────────────────────────────────X───Rz(-0.0π)───X───H───Rx(0.5π)────────────X───Rz(0.0π)───X───Rx(-0.5π)───H──────────────────────X───Rz(-0.0π)───X───H───H─────────────────────────────────────────X───Rz(0.0π)───X───H───H──────────────────────────────────────────X───Rz(0.0π)───X───H───H──────────────────────────────────X───Rz(0.0π)───X───H───Rx(0.5π)──────────────────────────────────X───Rz(-0.0π)───X───Rx(-0.5π)───Rx(0.5π)───────────────────────────────────X───Rz(-0.0π)───X───Rx(-0.5π)───Rx(0.5π)────────────────────────────X───Rz(-0.0π)───X───Rx(-0.5π)───Rx(0.5π)──────────────────────────X───Rz(0.0π)───X───Rx(-0.5π)───────────────────X3───────────Rx(0.5π)───────────M───\n",
       "                                                                                                                                                                                                                                                                                                                                                                                                                                                                                                                                                                                                                                                                                                                                                                   │                               │\n",
       "4: ─── U = 0.7351 rad ─────────────────────────────────────────────────────────────────────────────────────────────────────────────────────────────────────────────────────────────────────────────────────────────────────────────────────────────────────────────────────────────────────────────────────────────────────────────────────────────────────────────────────────────────────────────────────────────────────────────────────────────────────────────────────────────────────────────────────────────────────────────────────────────────────────────────────────────────────────────────────────────────────────────────────────────────────────────────────────────────────────────────────────────────────────────────────────────────────────────@──────────── U = 0.7351 rad ───M───</pre>"
      ],
      "text/plain": [
       "0: ───X──────────────────Rx(0.5π)───@───────────────────────@───Rx(-0.5π)───H───@──────────────────────@───────────H──────────H─────────────────────────────────────────────────────────────────────────────────────────────@───────────────────────────────@───────────H──────────Rx(0.5π)───@──────────────────────────────@───────────Rx(-0.5π)───Rx(0.5π)───@──────────────────────────────@───Rx(-0.5π)───H──────────@──────────────────────────────@──────────H───────────Rx(0.5π)───@───────────────────────────────────────@───────────Rx(-0.5π)───H──────────@───────────────────────────────────────@───────────H───────────H───@───────────────────────────────────────@──────────H───Rx(0.5π)───@──────────────────────────────────────@───Rx(-0.5π)───(-0-1j)*X0───Ry(-0.5π)──────────M───\n",
       "                                    │                       │                   │                      │                                                                                                                    │                               │                                 │                              │                                  │                              │                          │                              │                                 │                                       │                                  │                                       │                           │                                       │                         │                                      │               │                               │\n",
       "1: ───X─────────────────────────────X───@───────────────@───X───────────────────X───@──────────────@───X───────────Rx(0.5π)───@───────────────────────@───Rx(-0.5π)───H───@──────────────────────@───────────H──────────H───X───@───────────────────────@───X───────────H──────────Rx(0.5π)───X───@──────────────────────@───X───────────Rx(-0.5π)───H──────────X───@──────────────────────@───X───H───────────Rx(0.5π)───X───@──────────────────────@───X──────────Rx(-0.5π)───H──────────X───@───────────────────────@───────────X───────────H───────────Rx(0.5π)───X───@───────────────────────@───────────X───────────Rx(-0.5π)───H───X───@───────────────────────@───────────X──────────H───Rx(0.5π)───X───@──────────────────────@───────────X───Rx(-0.5π)───X1───────────Ry(-0.5π)──────────M───\n",
       "                                        │               │                           │              │                          │                       │                   │                      │                              │                       │                                         │                      │                                          │                      │                                  │                      │                                         │                       │                                                  │                       │                                           │                       │                                         │                      │                           │                               │\n",
       "2: ───H─────────────────────────────────X───Rz(-0.0π)───X───H───Rx(0.5π)────────────X───Rz(0.0π)───X───Rx(-0.5π)──────────────X───@───────────────@───X───────────────────X───@──────────────@───X───────────Rx(0.5π)───────────X───@───────────────@───X───Rx(-0.5π)───Rx(0.5π)──────────────────X───@──────────────@───X───Rx(-0.5π)───H──────────────────────────X───@──────────────@───X───H───H──────────────────────────X───@──────────────@───X───H──────────Rx(0.5π)───────────────────X───@───────────────@───X───────────Rx(-0.5π)───Rx(0.5π)───────────────────X───@───────────────@───X───────────Rx(-0.5π)───H───────────────────X───@───────────────@───X───────────H──────────H──────────────────X───@──────────────@───X───────────H───────────────Y2───────────Rx(0.5π)───────────M───\n",
       "                                                                                                                                  │               │                           │              │                                      │               │                                                 │              │                                                  │              │                                          │              │                                                 │               │                                                          │               │                                                   │               │                                                 │              │                               │                               │\n",
       "3: ───H───────────────────────────────────────────────────────────────────────────────────────────────────────────────────────────X───Rz(-0.0π)───X───H───Rx(0.5π)────────────X───Rz(0.0π)───X───Rx(-0.5π)───H──────────────────────X───Rz(-0.0π)───X───H───H─────────────────────────────────────────X───Rz(0.0π)───X───H───H──────────────────────────────────────────X───Rz(0.0π)───X───H───H──────────────────────────────────X───Rz(0.0π)───X───H───Rx(0.5π)──────────────────────────────────X───Rz(-0.0π)───X───Rx(-0.5π)───Rx(0.5π)───────────────────────────────────X───Rz(-0.0π)───X───Rx(-0.5π)───Rx(0.5π)────────────────────────────X───Rz(-0.0π)───X───Rx(-0.5π)───Rx(0.5π)──────────────────────────X───Rz(0.0π)───X───Rx(-0.5π)───────────────────X3───────────Rx(0.5π)───────────M───\n",
       "                                                                                                                                                                                                                                                                                                                                                                                                                                                                                                                                                                                                                                                                                                                                                                   │                               │\n",
       "4: ─── U = 0.7351 rad ─────────────────────────────────────────────────────────────────────────────────────────────────────────────────────────────────────────────────────────────────────────────────────────────────────────────────────────────────────────────────────────────────────────────────────────────────────────────────────────────────────────────────────────────────────────────────────────────────────────────────────────────────────────────────────────────────────────────────────────────────────────────────────────────────────────────────────────────────────────────────────────────────────────────────────────────────────────────────────────────────────────────────────────────────────────────────────────────────────────────@──────────── U = 0.7351 rad ───M───"
      ]
     },
     "execution_count": 46,
     "metadata": {},
     "output_type": "execute_result"
    }
   ],
   "source": [
    "R_uncorrected, Pn, gamma_l = Get_R_linear_combination(anit_commuting_sets[7], 0)\n",
    "R_corrected_Op_list, R_corr_list, ancilla_amplitudes, l1 = absorb_complex_phases(R_uncorrected)\n",
    "\n",
    "\n",
    "aa = Full_Q_Circuit(Pn, R_corrected_Op_list, R_corr_list, ancilla_amplitudes, Hamilt.molecule.n_qubits, Pn, ansatz_cirq_circuit)\n",
    "aa"
   ]
  },
  {
   "cell_type": "code",
   "execution_count": 47,
   "metadata": {},
   "outputs": [
    {
     "name": "stdout",
     "output_type": "stream",
     "text": [
      "3: ─── U = 0.7351 rad ───\n",
      "[[0.74174+0.j]\n",
      " [0.67069+0.j]]\n",
      "\n",
      "[0.7417405617306773, 0.670686915843346]\n"
     ]
    }
   ],
   "source": [
    "from quchem.quantum_circuit_functions import *\n",
    "N_System_qubits = 3\n",
    "ancilla_obj = prepare_arb_state(ancilla_amplitudes, N_System_qubits)\n",
    "ancilla_prep_circ = ancilla_obj.Get_state_prep_Circuit()\n",
    "\n",
    "print(ancilla_prep_circ)\n",
    "\n",
    "print(ancilla_obj.get_wave_function(sig_figs=5))\n",
    "print('')\n",
    "print(ancilla_amplitudes)\n",
    "\n",
    "# # checking output is 0 state! \n",
    "# anillca_circuit = cirq.Circuit([*ancilla_prep_circ.all_operations(), *list(ancilla_prep_circ.all_operations())[::-1]])\n",
    "# print(anillca_circuit)\n",
    "# simulator = cirq.Simulator()\n",
    "# result = simulator.compute_amplitudes(anillca_circuit, bitstrings=[i for i in range(2 ** len(anillca_circuit.all_qubits()))])\n",
    "# np.around(result, 3)"
   ]
  },
  {
   "cell_type": "code",
   "execution_count": 48,
   "metadata": {},
   "outputs": [
    {
     "data": {
      "text/plain": [
       "'0,2,3,5,6'"
      ]
     },
     "execution_count": 48,
     "metadata": {},
     "output_type": "execute_result"
    }
   ],
   "source": [
    "def Get_Histogram_key_ancilla_system(qubitOperator, N_system_qubits, N_ancilla_qubits):\n",
    "\n",
    "    qubit_No, PauliStr = zip(*list(*qubitOperator.terms.keys()))\n",
    "\n",
    "    histogram_string = ','.join([str(i) for i in (qubit_No)] + [str(i) for i in range(N_system_qubits, N_system_qubits + N_ancilla_qubits)]) \n",
    "    return histogram_string\n",
    "\n",
    "\n",
    "x = QubitOperator('X0 Z2 Y3', 0.25j)\n",
    "N_ancilla_qubits = 2\n",
    "N_system_qubits = 5\n",
    "\n",
    "Get_Histogram_key_ancilla_system(x, N_system_qubits, N_ancilla_qubits)"
   ]
  },
  {
   "cell_type": "code",
   "execution_count": null,
   "metadata": {},
   "outputs": [],
   "source": []
  },
  {
   "cell_type": "code",
   "execution_count": 50,
   "metadata": {},
   "outputs": [],
   "source": [
    "def simulate_probabilistic_Q_circuit(probability_of_success, Quantum_circuit, n_shots):\n",
    "\n",
    "    simulator = cirq.Simulator()\n",
    "    raw_result = simulator.run(Quantum_circuit, repetitions=n_shots*int(np.ceil(1/probability_of_success)))\n",
    "    return raw_result"
   ]
  },
  {
   "cell_type": "code",
   "execution_count": 49,
   "metadata": {},
   "outputs": [],
   "source": [
    "def Get_binary_dict_project(Quantum_circuit, qubitOperator, n_shots, N_system_qubits, ancilla_amplitudes):\n",
    "    N_system_terms_measured = len(list(qubitOperator.terms.keys())[0])\n",
    "    N_ancilla_qubits = int(np.ceil(np.log2(len(ancilla_amplitudes))))\n",
    "    correct_ancilla_state = np.zeros([N_ancilla_qubits])\n",
    "\n",
    "    l1_norm = sum(abs(i) for i in ancilla_amplitudes)\n",
    "    P_success = (1 / l1_norm) ** 2\n",
    "\n",
    "    n_success_shots = 0\n",
    "    binary_results_dict = {}\n",
    "    while n_success_shots != n_shots:\n",
    "        hist_key = Get_Histogram_key_ancilla_system(qubitOperator, N_system_qubits, N_ancilla_qubits)\n",
    "        raw_result = simulate_probabilistic_Q_circuit(P_success, Quantum_circuit, n_shots)\n",
    "\n",
    "        M_results = raw_result.measurements[hist_key]\n",
    "        for result in M_results:\n",
    "\n",
    "            #             print('full result: ', result)\n",
    "            #             print('correct_ancilla_state: ', correct_ancilla_state)\n",
    "            #             print('aniclla result: ', result[N_system_terms_measured::])\n",
    "\n",
    "            if np.array_equal(result[N_system_terms_measured::],\n",
    "                              correct_ancilla_state):  # Checks if all zero ancilla measured!\n",
    "                seperator = ''\n",
    "                state_key_binary = seperator.join(\n",
    "                    map(str, result[:N_system_terms_measured]))  # Gets rid of ancilla part!!!\n",
    "                if state_key_binary not in binary_results_dict.keys():\n",
    "                    binary_results_dict[state_key_binary] = 1\n",
    "                else:\n",
    "                    binary_results_dict[state_key_binary] += 1\n",
    "                n_success_shots += 1\n",
    "\n",
    "            #                 print(binary_results_dict)\n",
    "\n",
    "            #             else:\n",
    "            #                 print('fail')\n",
    "\n",
    "            if n_success_shots == n_shots:\n",
    "                break\n",
    "    return binary_results_dict"
   ]
  },
  {
   "cell_type": "code",
   "execution_count": 155,
   "metadata": {},
   "outputs": [
    {
     "name": "stdout",
     "output_type": "stream",
     "text": [
      "{'1': 98291, '0': 1709}\n",
      "1 [Z1]\n",
      "[1, (-0-1j)] (0.17729829109248613+0j)\n"
     ]
    },
    {
     "data": {
      "text/plain": [
       "-0.96582"
      ]
     },
     "execution_count": 155,
     "metadata": {},
     "output_type": "execute_result"
    }
   ],
   "source": [
    "from quchem.Simulating_Quantum_Circuit import *\n",
    "\n",
    "R_uncorrected, Pn, gamma_l = Get_R_linear_combination(anit_commuting_sets[10], 1)\n",
    "R_corrected_Op_list, R_corr_list, ancilla_amplitudes, l1 = absorb_complex_phases(R_uncorrected)\n",
    "\n",
    "aa = Full_Q_Circuit(Pn, R_corrected_Op_list, R_corr_list, ancilla_amplitudes, Hamilt.molecule.n_qubits, Pn, ansatz_cirq_circuit)\n",
    "output_bin_dict = Get_binary_dict_project(aa, Pn, 100000, 4, ancilla_amplitudes)\n",
    "print(output_bin_dict)\n",
    "print(Pn)\n",
    "aa\n",
    "\n",
    "# print(list(R_uncorrected[1].terms.values())[0], gamma_l)\n",
    "print(R_corr_list, gamma_l)\n",
    "\n",
    "expectation_value_by_parity(output_bin_dict) "
   ]
  },
  {
   "cell_type": "code",
   "execution_count": 42,
   "metadata": {},
   "outputs": [
    {
     "data": {
      "text/plain": [
       "[(-0.04530261550868928+0j) [X0 X1 Y2 Y3], (-0.2234315367466397+0j) [Z2]]"
      ]
     },
     "execution_count": 42,
     "metadata": {},
     "output_type": "execute_result"
    }
   ],
   "source": [
    "anit_commuting_sets[7]"
   ]
  },
  {
   "cell_type": "code",
   "execution_count": 43,
   "metadata": {},
   "outputs": [
    {
     "data": {
      "text/plain": [
       "[(0.9916664584650366+0j) [], -0.12883180956352255j [Y0 Y1 Y2 X3]]"
      ]
     },
     "execution_count": 43,
     "metadata": {},
     "output_type": "execute_result"
    }
   ],
   "source": [
    "R_uncorrected, Pn, gamma_l = Get_R_linear_combination(anit_commuting_sets[8], 0)\n",
    "R_uncorrected"
   ]
  },
  {
   "cell_type": "code",
   "execution_count": 44,
   "metadata": {},
   "outputs": [],
   "source": [
    "## SLOWER\n",
    "# uses np take method!\n",
    "\n",
    "# def Get_binary_dict_project(Quantum_circuit, qubitOperator, n_shots, N_system_qubits, ancilla_amplitudes):\n",
    "\n",
    "#     list_of_Pn_qNos,list_of_Pn_ops = list(zip(*[Paulistrs for Paulistrs, const in qubitOperator.terms.items()][0]))\n",
    "#     system_indices = np.arange(0,len(list_of_Pn_qNos),1)\n",
    "    \n",
    "#     N_ancilla_qubits = int(np.ceil(np.log2(len(ancilla_amplitudes)))) \n",
    "#     list_of_ancilla_qNos = np.arange(N_system_qubits, N_ancilla_qubits+N_system_qubits)\n",
    "#     ancilla_indices = np.arange(len(list_of_Pn_qNos),len(list_of_Pn_qNos)+len(list_of_ancilla_qNos),1)\n",
    "    \n",
    "#     correct_ancilla_state = np.zeros([N_ancilla_qubits])\n",
    "    \n",
    "#     l2_norm = sum(abs(i) for i in ancilla_amplitudes)\n",
    "#     P_success = (1/l2_norm)**2\n",
    "    \n",
    "#     n_success_shots=0\n",
    "#     binary_results_dict = {}\n",
    "#     while n_success_shots != n_shots:\n",
    "#         hist_key = Get_Histogram_key_ancilla_system(qubitOperator, N_system_qubits, N_ancilla_qubits)\n",
    "#         raw_result = simulate_probabilistic_Q_circuit(P_success, Quantum_circuit, n_shots)\n",
    "        \n",
    "#         M_results = raw_result.measurements[hist_key]\n",
    "#         for result in M_results:\n",
    "            \n",
    "#             if n_success_shots == n_shots:\n",
    "#                 break\n",
    "# #             print(result)\n",
    "#             system_state_measured = np.take(result, system_indices.tolist()) # selects qubit indices measured!\n",
    "#             ancilla_state_measured = np.take(result, ancilla_indices.tolist()) # selects qubit indices measured!\n",
    "# #             print(result)\n",
    "# #             print(system_state_measured)\n",
    "# #             print(ancilla_state_measured)\n",
    "#             seperator = ''\n",
    "#             if np.array_equal(ancilla_state_measured, correct_ancilla_state): # Checks if all zero ancilla measured!\n",
    "                \n",
    "#                 state_key_binary = seperator.join(map(str, system_state_measured))\n",
    "                \n",
    "#                 if state_key_binary not in binary_results_dict.keys():\n",
    "#                     binary_results_dict[state_key_binary] = 1\n",
    "#                 else:\n",
    "#                     binary_results_dict[state_key_binary] += 1\n",
    "#                 n_success_shots += 1\n",
    "\n",
    "#     return binary_results_dict"
   ]
  },
  {
   "cell_type": "code",
   "execution_count": 57,
   "metadata": {},
   "outputs": [],
   "source": [
    "from quchem.Simulating_Quantum_Circuit import *\n",
    "\n",
    "class VQE_Experiment_LCU_UP():\n",
    "    def __init__(self, \n",
    "                 anti_commting_sets,\n",
    "                 ansatz_circuit,\n",
    "                 n_shots,\n",
    "                 ancilla_amplitudes,\n",
    "                 N_system_qubits,\n",
    "                 N_indices_dict=None):\n",
    "        \n",
    "        self.anti_commting_sets = anti_commting_sets\n",
    "        self.ansatz_circuit = ansatz_circuit\n",
    "        self.n_shots = n_shots\n",
    "\n",
    "        self.ancilla_amplitudes = ancilla_amplitudes\n",
    "        self.N_system_qubits = N_system_qubits\n",
    "        self.N_indices_dict = N_indices_dict\n",
    "        self.N_ancilla_qubits = int(np.ceil(np.log2(len(self.ancilla_amplitudes)))) \n",
    "    \n",
    "    \n",
    "    def Get_Histogram_key_ancilla_system(self, qubitOperator):\n",
    "\n",
    "        \n",
    "        qubit_No, PauliStr = zip(*list(*qubitOperator.terms.keys()))\n",
    "\n",
    "        histogram_string = ','.join([str(i) for i in (qubit_No)] + [str(i) for i in range(self.N_system_qubits , self.N_system_qubits  + self.N_ancilla_qubits)]) \n",
    "        return histogram_string\n",
    "    \n",
    "    def simulate_probabilistic_Q_circuit(self, probability_of_success, Quantum_circuit):\n",
    "\n",
    "        simulator = cirq.Simulator()\n",
    "        raw_result = simulator.run(Quantum_circuit, repetitions=self.n_shots*int(np.ceil(1/probability_of_success)))\n",
    "        return raw_result\n",
    "    \n",
    "    \n",
    "    def Get_binary_dict_project(self, Quantum_circuit, qubitOperator):\n",
    "\n",
    "        correct_ancilla_state = np.zeros([self.N_ancilla_qubits])\n",
    "        N_system_terms_measured = len(list(qubitOperator.terms.keys())[0])\n",
    "        \n",
    "        l1_norm = sum(abs(i) for i in self.ancilla_amplitudes)\n",
    "        P_success = (1/l1_norm)**2\n",
    "\n",
    "        n_success_shots=0\n",
    "        binary_results_dict = {}\n",
    "        while n_success_shots != self.n_shots:\n",
    "            hist_key = self.Get_Histogram_key_ancilla_system(qubitOperator)\n",
    "            raw_result = self.simulate_probabilistic_Q_circuit(P_success, Quantum_circuit)\n",
    "\n",
    "            M_results = raw_result.measurements[hist_key]\n",
    "            for result in M_results:\n",
    "\n",
    "                if np.array_equal(result[N_system_terms_measured::], correct_ancilla_state): # Checks if all zero ancilla measured!\n",
    "                    seperator = ''\n",
    "                    state_key_binary = seperator.join(map(str, result[:N_system_terms_measured])) #Gets rid of ancilla part!!!\n",
    "                    if state_key_binary not in binary_results_dict.keys():\n",
    "                        binary_results_dict[state_key_binary] = 1\n",
    "                    else:\n",
    "                        binary_results_dict[state_key_binary] += 1\n",
    "                    n_success_shots += 1\n",
    "\n",
    "    #                 print(binary_results_dict)\n",
    "                if n_success_shots == self.n_shots:\n",
    "                    break\n",
    "\n",
    "        return binary_results_dict\n",
    "\n",
    "\n",
    "   \n",
    "    def Calc_Energy(self):\n",
    "        \n",
    "        E_list = []\n",
    "        for set_key in self.anti_commting_sets:\n",
    "            if len(self.anti_commting_sets[set_key])>1:\n",
    "                \n",
    "                if self.N_indices_dict is None:\n",
    "                    R_uncorrected, Pn, gamma_l = Get_R_linear_combination(self.anti_commting_sets[set_key], 0)\n",
    "                    R_corrected_Op_list, R_corr_list, ancilla_amplitudes, l1_norm = absorb_complex_phases(R_uncorrected)\n",
    "                else:\n",
    "                    R_uncorrected, Pn, gamma_l = Get_R_linear_combination(self.anti_commting_sets[set_key], self.N_indices_dict[set_key])\n",
    "                    R_corrected_Op_list, R_corr_list, ancilla_amplitudes, l1_norm = absorb_complex_phases(R_uncorrected)\n",
    "                \n",
    "                Q_circuit = Full_Q_Circuit(Pn, R_corrected_Op_list,\n",
    "                                           R_corr_list, ancilla_amplitudes,\n",
    "                                           self.N_system_qubits,\n",
    "                                           Pn,\n",
    "                                           self.ansatz_circuit)\n",
    "\n",
    "                binary_state_counter = self.Get_binary_dict_project(Q_circuit, Pn)\n",
    "                exp_result = expectation_value_by_parity(binary_state_counter)\n",
    "#                 E_list.append(exp_result*gamma_l)\n",
    "\n",
    "#                 E_list.append(exp_result*list(Pn.terms.values())[0]*gamma_l*l1_norm)\n",
    "#                 print(Pn, gamma_l, exp_result, l1_norm)\n",
    "                E_list.append(exp_result*gamma_l)\n",
    "                print(Pn, gamma_l, exp_result,)\n",
    "\n",
    "\n",
    "#                 E_list.append(exp_result*list(Pn.terms.values())[0])\n",
    "\n",
    "#                 E_list.append(exp_result)\n",
    "#                 print(Pn, list(Pn.terms.values())[0])\n",
    "                \n",
    "#                 print(np.prod([i**2 for i in R_corr_list]), gamma_l, exp_result)\n",
    "        \n",
    "            else:\n",
    "                single_PauliOp = self.anti_commting_sets[set_key][0]\n",
    "                if list(single_PauliOp.terms.keys())[0] == ():\n",
    "                    E_list.append(list(single_PauliOp.terms.values())[0])\n",
    "                else:\n",
    "                    Q_circuit = Generate_Full_Q_Circuit(self.ansatz_circuit, single_PauliOp)\n",
    "                    hist_key_str = Get_Histogram_key(single_PauliOp)\n",
    "                    int_state_counter = Simulate_Quantum_Circuit(Q_circuit, self.n_shots, hist_key_str)\n",
    "                    binary_state_counter = Return_as_binary(int_state_counter, hist_key_str)\n",
    "                    exp_result = expectation_value_by_parity(binary_state_counter)\n",
    "                    E_list.append(exp_result*list(single_PauliOp.terms.values())[0])\n",
    "                    print(single_PauliOp, exp_result*list(single_PauliOp.terms.values())[0])\n",
    "                    \n",
    "#         print(Q_circuit.to_text_diagram(transpose=True))            \n",
    "        return sum(E_list)\n",
    "        \n",
    "    def Get_wavefunction_of_state(self, sig_figs=3):\n",
    "        return Get_wavefunction(self.ansatz_circuit, sig_figs=sig_figs)\n"
   ]
  },
  {
   "cell_type": "code",
   "execution_count": 46,
   "metadata": {},
   "outputs": [
    {
     "data": {
      "text/plain": [
       "{0: [(0.12062523481381837+0j) [Z0 Z2]],\n",
       " 1: [(0.174412876106516+0j) [Z2 Z3]],\n",
       " 2: [(0.1686889816869329+0j) [Z0 Z1]],\n",
       " 3: [(-0.09706626861762624+0j) []],\n",
       " 4: [(0.16592785032250768+0j) [Z0 Z3]],\n",
       " 5: [(0.16592785032250768+0j) [Z1 Z2]],\n",
       " 6: [(0.12062523481381837+0j) [Z1 Z3]],\n",
       " 7: [(-0.04530261550868928+0j) [X0 X1 Y2 Y3], (-0.2234315367466397+0j) [Z2]],\n",
       " 8: [(0.17141282639402405+0j) [Z0], (0.04530261550868928+0j) [X0 Y1 Y2 X3]],\n",
       " 9: [(0.171412826394024+0j) [Z1], (0.04530261550868928+0j) [Y0 X1 X2 Y3]],\n",
       " 10: [(-0.2234315367466397+0j) [Z3], (-0.04530261550868928+0j) [Y0 Y1 X2 X3]]}"
      ]
     },
     "execution_count": 46,
     "metadata": {},
     "output_type": "execute_result"
    }
   ],
   "source": [
    "anit_commuting_sets"
   ]
  },
  {
   "cell_type": "code",
   "execution_count": 47,
   "metadata": {},
   "outputs": [
    {
     "name": "stdout",
     "output_type": "stream",
     "text": [
      "(0.12062523481381837+0j) [Z0 Z2] (-0.12062523481381837+0j)\n",
      "(0.174412876106516+0j) [Z2 Z3] (0.174412876106516+0j)\n",
      "(0.1686889816869329+0j) [Z0 Z1] (0.1686889816869329+0j)\n",
      "(0.16592785032250768+0j) [Z0 Z3] (-0.16592785032250768+0j)\n",
      "(0.16592785032250768+0j) [Z1 Z2] (-0.16592785032250768+0j)\n",
      "(0.12062523481381837+0j) [Z1 Z3] (-0.12062523481381837+0j)\n",
      "1 [X0 X1 Y2 Y3] (0.22797802215321797+0j) 0.976\n",
      "1 [Z0] (0.17729829109248618+0j) -0.9618\n",
      "1 [Z1] (0.17729829109248613+0j) -0.9668\n",
      "1 [Z3] (0.22797802215321797+0j) -0.9794\n"
     ]
    },
    {
     "data": {
      "text/plain": [
       "(-0.6697831905731191+0j)"
      ]
     },
     "execution_count": 47,
     "metadata": {},
     "output_type": "execute_result"
    }
   ],
   "source": [
    "n_shots=10000\n",
    "\n",
    "testing =  VQE_Experiment_LCU_UP(anit_commuting_sets,\n",
    "                 ansatz_cirq_circuit,\n",
    "                 n_shots,\n",
    "                 ancilla_amplitudes,\n",
    "                 Hamilt.molecule.n_qubits,\n",
    "                 N_indices_dict={7:0, 8:0, 9:0, 10:0})\n",
    "testing.Calc_Energy()"
   ]
  },
  {
   "cell_type": "code",
   "execution_count": null,
   "metadata": {},
   "outputs": [],
   "source": []
  },
  {
   "cell_type": "code",
   "execution_count": 48,
   "metadata": {},
   "outputs": [
    {
     "data": {
      "text/plain": [
       "(-1+0j)"
      ]
     },
     "execution_count": 48,
     "metadata": {},
     "output_type": "execute_result"
    }
   ],
   "source": [
    "R_corr_list = [1j, 1j]\n",
    "np.prod(R_corr_list)"
   ]
  },
  {
   "cell_type": "code",
   "execution_count": null,
   "metadata": {},
   "outputs": [],
   "source": []
  },
  {
   "cell_type": "code",
   "execution_count": null,
   "metadata": {},
   "outputs": [],
   "source": []
  },
  {
   "cell_type": "code",
   "execution_count": 49,
   "metadata": {},
   "outputs": [],
   "source": [
    "from quchem.Simulating_Quantum_Circuit import *\n",
    "from quchem.Ansatz_Generator_Functions import *\n",
    "from openfermion.ops import QubitOperator\n",
    "\n",
    "def H2_ansatz(theta):\n",
    "    HF_circ = [cirq.X.on(cirq.LineQubit(0)), cirq.X.on(cirq.LineQubit(1))]\n",
    "    \n",
    "    full_exp_circ_obj = full_exponentiated_PauliWord_circuit(QubitOperator('Y0 X1 X2 X3', -1j), theta)\n",
    "    UCCSD_circ = cirq.Circuit(cirq.decompose_once((full_exp_circ_obj(*cirq.LineQubit.range(full_exp_circ_obj.num_qubits())))))\n",
    "    full_circuit = cirq.Circuit([*HF_circ, *UCCSD_circ.all_operations()])\n",
    "    \n",
    "    return full_circuit\n"
   ]
  },
  {
   "cell_type": "code",
   "execution_count": 50,
   "metadata": {},
   "outputs": [
    {
     "name": "stdout",
     "output_type": "stream",
     "text": [
      "(0.12062523481381837+0j) [Z0 Z2] (-0.12062523481381837+0j)\n",
      "(0.174412876106516+0j) [Z2 Z3] (0.174412876106516+0j)\n",
      "(0.1686889816869329+0j) [Z0 Z1] (0.1686889816869329+0j)\n",
      "(0.16592785032250768+0j) [Z0 Z3] (-0.16592785032250768+0j)\n",
      "(0.16592785032250768+0j) [Z1 Z2] (-0.16592785032250768+0j)\n",
      "(0.12062523481381837+0j) [Z1 Z3] (-0.12062523481381837+0j)\n",
      "1 [X0 X1 Y2 Y3] (0.22797802215321797+0j) -0.994\n",
      "1 [Z0] (0.17729829109248618+0j) 0.998\n",
      "1 [Z1] (0.17729829109248613+0j) 0.994\n",
      "1 [Z3] (0.22797802215321797+0j) 0.994\n"
     ]
    },
    {
     "data": {
      "text/plain": [
       "(0.026107614759403097+0j)"
      ]
     },
     "execution_count": 50,
     "metadata": {},
     "output_type": "execute_result"
    }
   ],
   "source": [
    "n_shots=1000\n",
    "def GIVE_ENERGY(THETA):\n",
    "   \n",
    "    ansatz_cirq_circuit = H2_ansatz(THETA)\n",
    "\n",
    "    VQE_exp_LCU =  VQE_Experiment_LCU_UP(anit_commuting_sets,\n",
    "                     ansatz_cirq_circuit,\n",
    "                     n_shots,\n",
    "                     ancilla_amplitudes,\n",
    "                     Hamilt.molecule.n_qubits,\n",
    "                     N_indices_dict=None)#{7:0, 8:1, 9:0, 10:1})\n",
    "    return VQE_exp_LCU.Calc_Energy()\n",
    "\n",
    "GIVE_ENERGY(1.5)#np.pi/5)"
   ]
  },
  {
   "cell_type": "code",
   "execution_count": 51,
   "metadata": {},
   "outputs": [
    {
     "data": {
      "text/plain": [
       "{0: [(0.12062523481381837+0j) [Z0 Z2]],\n",
       " 1: [(0.174412876106516+0j) [Z2 Z3]],\n",
       " 2: [(0.1686889816869329+0j) [Z0 Z1]],\n",
       " 3: [(-0.09706626861762624+0j) []],\n",
       " 4: [(0.16592785032250768+0j) [Z0 Z3]],\n",
       " 5: [(0.16592785032250768+0j) [Z1 Z2]],\n",
       " 6: [(0.12062523481381837+0j) [Z1 Z3]],\n",
       " 7: [(-0.04530261550868928+0j) [X0 X1 Y2 Y3], (-0.2234315367466397+0j) [Z2]],\n",
       " 8: [(0.17141282639402405+0j) [Z0], (0.04530261550868928+0j) [X0 Y1 Y2 X3]],\n",
       " 9: [(0.171412826394024+0j) [Z1], (0.04530261550868928+0j) [Y0 X1 X2 Y3]],\n",
       " 10: [(-0.2234315367466397+0j) [Z3], (-0.04530261550868928+0j) [Y0 Y1 X2 X3]]}"
      ]
     },
     "execution_count": 51,
     "metadata": {},
     "output_type": "execute_result"
    }
   ],
   "source": [
    "anit_commuting_sets"
   ]
  },
  {
   "cell_type": "code",
   "execution_count": 58,
   "metadata": {},
   "outputs": [
    {
     "name": "stdout",
     "output_type": "stream",
     "text": [
      "(0.12062523481381837+0j) [Z0 Z2] (-0.12062523481381837+0j)\n",
      "(0.174412876106516+0j) [Z2 Z3] (0.174412876106516+0j)\n",
      "(0.1686889816869329+0j) [Z0 Z1] (0.1686889816869329+0j)\n",
      "(0.16592785032250768+0j) [Z0 Z3] (-0.16592785032250768+0j)\n",
      "(0.16592785032250768+0j) [Z1 Z2] (-0.16592785032250768+0j)\n",
      "(0.12062523481381837+0j) [Z1 Z3] (-0.12062523481381837+0j)\n",
      "1 [Z2] (0.22797802215321797+0j) -0.9802\n",
      "1 [Z0] (0.17729829109248618+0j) -0.9664\n",
      "1 [Z1] (0.17729829109248613+0j) -0.9674\n",
      "1 [Z3] (0.22797802215321797+0j) -0.9824\n"
     ]
    },
    {
     "data": {
      "text/plain": [
       "(-1.2011160969223789+0j)"
      ]
     },
     "execution_count": 58,
     "metadata": {},
     "output_type": "execute_result"
    }
   ],
   "source": [
    "n_shots=10000\n",
    "def GIVE_ENERGY(THETA):\n",
    "   \n",
    "    ansatz_cirq_circuit = H2_ansatz(THETA)\n",
    "\n",
    "    VQE_exp_LCU =  VQE_Experiment_LCU_UP(anit_commuting_sets,\n",
    "                     ansatz_cirq_circuit,\n",
    "                     n_shots,\n",
    "                     ancilla_amplitudes,\n",
    "                     Hamilt.molecule.n_qubits,\n",
    "                     N_indices_dict={7:1, 8:0, 9:0, 10:0})\n",
    "    return VQE_exp_LCU.Calc_Energy()\n",
    "\n",
    "GIVE_ENERGY(np.pi)"
   ]
  },
  {
   "cell_type": "code",
   "execution_count": 53,
   "metadata": {},
   "outputs": [
    {
     "name": "stdout",
     "output_type": "stream",
     "text": [
      "1 [Y0 Y1 X2 X3]\n",
      "(0.22797802215321797+0j)\n",
      "[(0.6329633334615306+0j) [], (-0-0.7741817735475741j) [Y0 Y1 X2 Y3]]\n",
      "\n"
     ]
    },
    {
     "ename": "ValueError",
     "evalue": "too many values to unpack (expected 3)",
     "output_type": "error",
     "traceback": [
      "\u001b[0;31m---------------------------------------------------------------------------\u001b[0m",
      "\u001b[0;31mValueError\u001b[0m                                Traceback (most recent call last)",
      "\u001b[0;32m<ipython-input-53-f338f7bd77db>\u001b[0m in \u001b[0;36m<module>\u001b[0;34m\u001b[0m\n\u001b[1;32m      5\u001b[0m \u001b[0;34m\u001b[0m\u001b[0m\n\u001b[1;32m      6\u001b[0m \u001b[0mprint\u001b[0m\u001b[0;34m(\u001b[0m\u001b[0;34m''\u001b[0m\u001b[0;34m)\u001b[0m\u001b[0;34m\u001b[0m\u001b[0;34m\u001b[0m\u001b[0m\n\u001b[0;32m----> 7\u001b[0;31m \u001b[0mR_corrected_Op_LIST\u001b[0m\u001b[0;34m,\u001b[0m \u001b[0mR_corr_LIST\u001b[0m\u001b[0;34m,\u001b[0m \u001b[0mancilla_AMPS\u001b[0m \u001b[0;34m=\u001b[0m \u001b[0mabsorb_complex_phases\u001b[0m\u001b[0;34m(\u001b[0m\u001b[0mtest\u001b[0m\u001b[0;34m)\u001b[0m\u001b[0;34m\u001b[0m\u001b[0;34m\u001b[0m\u001b[0m\n\u001b[0m\u001b[1;32m      8\u001b[0m \u001b[0mprint\u001b[0m\u001b[0;34m(\u001b[0m\u001b[0mR_corr_LIST\u001b[0m\u001b[0;34m)\u001b[0m\u001b[0;34m\u001b[0m\u001b[0;34m\u001b[0m\u001b[0m\n\u001b[1;32m      9\u001b[0m \u001b[0mprint\u001b[0m\u001b[0;34m(\u001b[0m\u001b[0mnp\u001b[0m\u001b[0;34m.\u001b[0m\u001b[0mprod\u001b[0m\u001b[0;34m(\u001b[0m\u001b[0mR_corr_LIST\u001b[0m\u001b[0;34m)\u001b[0m\u001b[0;34m**\u001b[0m\u001b[0;36m2\u001b[0m\u001b[0;34m)\u001b[0m\u001b[0;34m\u001b[0m\u001b[0;34m\u001b[0m\u001b[0m\n",
      "\u001b[0;31mValueError\u001b[0m: too many values to unpack (expected 3)"
     ]
    }
   ],
   "source": [
    "test, Pn, gamma_l = Get_R_linear_combination(anit_commuting_sets[10],1)\n",
    "print(Pn)\n",
    "print(gamma_l)\n",
    "print(test)\n",
    "\n",
    "print('')\n",
    "R_corrected_Op_LIST, R_corr_LIST, ancilla_AMPS = absorb_complex_phases(test)\n",
    "print(R_corr_LIST)\n",
    "print(np.prod(R_corr_LIST)**2)\n",
    "print(np.prod([i**2 for i in R_corr_LIST]))\n",
    "print(R_corr_LIST)"
   ]
  },
  {
   "cell_type": "code",
   "execution_count": 55,
   "metadata": {},
   "outputs": [
    {
     "name": "stdout",
     "output_type": "stream",
     "text": [
      "(0.12062523481381837+0j) [Z0 Z2] (-0.12062523481381837+0j)\n",
      "(0.174412876106516+0j) [Z2 Z3] (0.174412876106516+0j)\n",
      "(0.1686889816869329+0j) [Z0 Z1] (0.1686889816869329+0j)\n",
      "(0.16592785032250768+0j) [Z0 Z3] (-0.16592785032250768+0j)\n",
      "(0.16592785032250768+0j) [Z1 Z2] (-0.16592785032250768+0j)\n",
      "(0.12062523481381837+0j) [Z1 Z3] (-0.12062523481381837+0j)\n",
      "1 [Z2] (0.22797802215321797+0j) -0.9808\n",
      "1 [Z0] (0.17729829109248618+0j) -0.9686\n",
      "1 [Z1] (0.17729829109248613+0j) -0.9678\n",
      "1 [Z3] (0.22797802215321797+0j) -0.9776\n",
      "(0.12062523481381837+0j) [Z0 Z2] (-0.12062523481381837+0j)\n",
      "(0.174412876106516+0j) [Z2 Z3] (0.174412876106516+0j)\n",
      "(0.1686889816869329+0j) [Z0 Z1] (0.1686889816869329+0j)\n",
      "(0.16592785032250768+0j) [Z0 Z3] (-0.16592785032250768+0j)\n",
      "(0.16592785032250768+0j) [Z1 Z2] (-0.16592785032250768+0j)\n",
      "(0.12062523481381837+0j) [Z1 Z3] (-0.12062523481381837+0j)\n",
      "1 [Z2] (0.22797802215321797+0j) -0.9222\n",
      "1 [Z0] (0.17729829109248618+0j) -0.8948\n",
      "1 [Z1] (0.17729829109248613+0j) -0.8948\n",
      "1 [Z3] (0.22797802215321797+0j) -0.9176\n",
      "(0.12062523481381837+0j) [Z0 Z2] (-0.12062523481381837+0j)\n",
      "(0.174412876106516+0j) [Z2 Z3] (0.174412876106516+0j)\n",
      "(0.1686889816869329+0j) [Z0 Z1] (0.1686889816869329+0j)\n",
      "(0.16592785032250768+0j) [Z0 Z3] (-0.16592785032250768+0j)\n",
      "(0.16592785032250768+0j) [Z1 Z2] (-0.16592785032250768+0j)\n",
      "(0.12062523481381837+0j) [Z1 Z3] (-0.12062523481381837+0j)\n",
      "1 [Z2] (0.22797802215321797+0j) -0.8268\n",
      "1 [Z0] (0.17729829109248618+0j) -0.7898\n",
      "1 [Z1] (0.17729829109248613+0j) -0.7866\n",
      "1 [Z3] (0.22797802215321797+0j) -0.8312\n",
      "(0.12062523481381837+0j) [Z0 Z2] (-0.12062523481381837+0j)\n",
      "(0.174412876106516+0j) [Z2 Z3] (0.174412876106516+0j)\n",
      "(0.1686889816869329+0j) [Z0 Z1] (0.1686889816869329+0j)\n",
      "(0.16592785032250768+0j) [Z0 Z3] (-0.16592785032250768+0j)\n",
      "(0.16592785032250768+0j) [Z1 Z2] (-0.16592785032250768+0j)\n",
      "(0.12062523481381837+0j) [Z1 Z3] (-0.12062523481381837+0j)\n",
      "1 [Z2] (0.22797802215321797+0j) -0.6924\n",
      "1 [Z0] (0.17729829109248618+0j) -0.6514\n",
      "1 [Z1] (0.17729829109248613+0j) -0.6612\n",
      "1 [Z3] (0.22797802215321797+0j) -0.6888\n",
      "(0.12062523481381837+0j) [Z0 Z2] (-0.12062523481381837+0j)\n",
      "(0.174412876106516+0j) [Z2 Z3] (0.174412876106516+0j)\n",
      "(0.1686889816869329+0j) [Z0 Z1] (0.1686889816869329+0j)\n",
      "(0.16592785032250768+0j) [Z0 Z3] (-0.16592785032250768+0j)\n",
      "(0.16592785032250768+0j) [Z1 Z2] (-0.16592785032250768+0j)\n",
      "(0.12062523481381837+0j) [Z1 Z3] (-0.12062523481381837+0j)\n",
      "1 [Z2] (0.22797802215321797+0j) -0.5408\n",
      "1 [Z0] (0.17729829109248618+0j) -0.4768\n",
      "1 [Z1] (0.17729829109248613+0j) -0.4936\n",
      "1 [Z3] (0.22797802215321797+0j) -0.5462\n",
      "(0.12062523481381837+0j) [Z0 Z2] (-0.12062523481381837+0j)\n",
      "(0.174412876106516+0j) [Z2 Z3] (0.174412876106516+0j)\n",
      "(0.1686889816869329+0j) [Z0 Z1] (0.1686889816869329+0j)\n",
      "(0.16592785032250768+0j) [Z0 Z3] (-0.16592785032250768+0j)\n",
      "(0.16592785032250768+0j) [Z1 Z2] (-0.16592785032250768+0j)\n",
      "(0.12062523481381837+0j) [Z1 Z3] (-0.12062523481381837+0j)\n",
      "1 [Z2] (0.22797802215321797+0j) -0.3826\n",
      "1 [Z0] (0.17729829109248618+0j) -0.302\n",
      "1 [Z1] (0.17729829109248613+0j) -0.314\n",
      "1 [Z3] (0.22797802215321797+0j) -0.3618\n",
      "(0.12062523481381837+0j) [Z0 Z2] (-0.12062523481381837+0j)\n",
      "(0.174412876106516+0j) [Z2 Z3] (0.174412876106516+0j)\n",
      "(0.1686889816869329+0j) [Z0 Z1] (0.1686889816869329+0j)\n",
      "(0.16592785032250768+0j) [Z0 Z3] (-0.16592785032250768+0j)\n",
      "(0.16592785032250768+0j) [Z1 Z2] (-0.16592785032250768+0j)\n",
      "(0.12062523481381837+0j) [Z1 Z3] (-0.12062523481381837+0j)\n",
      "1 [Z2] (0.22797802215321797+0j) -0.1642\n",
      "1 [Z0] (0.17729829109248618+0j) -0.1188\n",
      "1 [Z1] (0.17729829109248613+0j) -0.114\n",
      "1 [Z3] (0.22797802215321797+0j) -0.1698\n",
      "(0.12062523481381837+0j) [Z0 Z2] (-0.12062523481381837+0j)\n",
      "(0.174412876106516+0j) [Z2 Z3] (0.174412876106516+0j)\n",
      "(0.1686889816869329+0j) [Z0 Z1] (0.1686889816869329+0j)\n",
      "(0.16592785032250768+0j) [Z0 Z3] (-0.16592785032250768+0j)\n",
      "(0.16592785032250768+0j) [Z1 Z2] (-0.16592785032250768+0j)\n",
      "(0.12062523481381837+0j) [Z1 Z3] (-0.12062523481381837+0j)\n",
      "1 [Z2] (0.22797802215321797+0j) 0.0292\n",
      "1 [Z0] (0.17729829109248618+0j) 0.0746\n",
      "1 [Z1] (0.17729829109248613+0j) 0.093\n",
      "1 [Z3] (0.22797802215321797+0j) 0.0316\n",
      "(0.12062523481381837+0j) [Z0 Z2] (-0.12062523481381837+0j)\n",
      "(0.174412876106516+0j) [Z2 Z3] (0.174412876106516+0j)\n",
      "(0.1686889816869329+0j) [Z0 Z1] (0.1686889816869329+0j)\n",
      "(0.16592785032250768+0j) [Z0 Z3] (-0.16592785032250768+0j)\n",
      "(0.16592785032250768+0j) [Z1 Z2] (-0.16592785032250768+0j)\n",
      "(0.12062523481381837+0j) [Z1 Z3] (-0.12062523481381837+0j)\n",
      "1 [Z2] (0.22797802215321797+0j) 0.2248\n",
      "1 [Z0] (0.17729829109248618+0j) 0.2928\n",
      "1 [Z1] (0.17729829109248613+0j) 0.2846\n",
      "1 [Z3] (0.22797802215321797+0j) 0.234\n",
      "(0.12062523481381837+0j) [Z0 Z2] (-0.12062523481381837+0j)\n",
      "(0.174412876106516+0j) [Z2 Z3] (0.174412876106516+0j)\n",
      "(0.1686889816869329+0j) [Z0 Z1] (0.1686889816869329+0j)\n",
      "(0.16592785032250768+0j) [Z0 Z3] (-0.16592785032250768+0j)\n",
      "(0.16592785032250768+0j) [Z1 Z2] (-0.16592785032250768+0j)\n",
      "(0.12062523481381837+0j) [Z1 Z3] (-0.12062523481381837+0j)\n",
      "1 [Z2] (0.22797802215321797+0j) 0.4274\n",
      "1 [Z0] (0.17729829109248618+0j) 0.48\n",
      "1 [Z1] (0.17729829109248613+0j) 0.4636\n",
      "1 [Z3] (0.22797802215321797+0j) 0.399\n",
      "(0.12062523481381837+0j) [Z0 Z2] (-0.12062523481381837+0j)\n",
      "(0.174412876106516+0j) [Z2 Z3] (0.174412876106516+0j)\n",
      "(0.1686889816869329+0j) [Z0 Z1] (0.1686889816869329+0j)\n",
      "(0.16592785032250768+0j) [Z0 Z3] (-0.16592785032250768+0j)\n",
      "(0.16592785032250768+0j) [Z1 Z2] (-0.16592785032250768+0j)\n",
      "(0.12062523481381837+0j) [Z1 Z3] (-0.12062523481381837+0j)\n",
      "1 [Z2] (0.22797802215321797+0j) 0.5926\n",
      "1 [Z0] (0.17729829109248618+0j) 0.6222\n",
      "1 [Z1] (0.17729829109248613+0j) 0.6378\n",
      "1 [Z3] (0.22797802215321797+0j) 0.5828\n",
      "(0.12062523481381837+0j) [Z0 Z2] (-0.12062523481381837+0j)\n",
      "(0.174412876106516+0j) [Z2 Z3] (0.174412876106516+0j)\n",
      "(0.1686889816869329+0j) [Z0 Z1] (0.1686889816869329+0j)\n",
      "(0.16592785032250768+0j) [Z0 Z3] (-0.16592785032250768+0j)\n",
      "(0.16592785032250768+0j) [Z1 Z2] (-0.16592785032250768+0j)\n",
      "(0.12062523481381837+0j) [Z1 Z3] (-0.12062523481381837+0j)\n",
      "1 [Z2] (0.22797802215321797+0j) 0.7332\n",
      "1 [Z0] (0.17729829109248618+0j) 0.7776\n",
      "1 [Z1] (0.17729829109248613+0j) 0.779\n",
      "1 [Z3] (0.22797802215321797+0j) 0.7386\n",
      "(0.12062523481381837+0j) [Z0 Z2] (-0.12062523481381837+0j)\n",
      "(0.174412876106516+0j) [Z2 Z3] (0.174412876106516+0j)\n",
      "(0.1686889816869329+0j) [Z0 Z1] (0.1686889816869329+0j)\n",
      "(0.16592785032250768+0j) [Z0 Z3] (-0.16592785032250768+0j)\n",
      "(0.16592785032250768+0j) [Z1 Z2] (-0.16592785032250768+0j)\n",
      "(0.12062523481381837+0j) [Z1 Z3] (-0.12062523481381837+0j)\n",
      "1 [Z2] (0.22797802215321797+0j) 0.8542\n",
      "1 [Z0] (0.17729829109248618+0j) 0.8828\n",
      "1 [Z1] (0.17729829109248613+0j) 0.8928\n",
      "1 [Z3] (0.22797802215321797+0j) 0.861\n",
      "(0.12062523481381837+0j) [Z0 Z2] (-0.12062523481381837+0j)\n",
      "(0.174412876106516+0j) [Z2 Z3] (0.174412876106516+0j)\n",
      "(0.1686889816869329+0j) [Z0 Z1] (0.1686889816869329+0j)\n",
      "(0.16592785032250768+0j) [Z0 Z3] (-0.16592785032250768+0j)\n",
      "(0.16592785032250768+0j) [Z1 Z2] (-0.16592785032250768+0j)\n",
      "(0.12062523481381837+0j) [Z1 Z3] (-0.12062523481381837+0j)\n",
      "1 [Z2] (0.22797802215321797+0j) 0.9354\n",
      "1 [Z0] (0.17729829109248618+0j) 0.9554\n",
      "1 [Z1] (0.17729829109248613+0j) 0.9534\n",
      "1 [Z3] (0.22797802215321797+0j) 0.9436\n",
      "(0.12062523481381837+0j) [Z0 Z2] (-0.12062523481381837+0j)\n",
      "(0.174412876106516+0j) [Z2 Z3] (0.174412876106516+0j)\n",
      "(0.1686889816869329+0j) [Z0 Z1] (0.1686889816869329+0j)\n",
      "(0.16592785032250768+0j) [Z0 Z3] (-0.16592785032250768+0j)\n",
      "(0.16592785032250768+0j) [Z1 Z2] (-0.16592785032250768+0j)\n",
      "(0.12062523481381837+0j) [Z1 Z3] (-0.12062523481381837+0j)\n",
      "1 [Z2] (0.22797802215321797+0j) 0.989\n",
      "1 [Z0] (0.17729829109248618+0j) 0.9972\n",
      "1 [Z1] (0.17729829109248613+0j) 0.9964\n",
      "1 [Z3] (0.22797802215321797+0j) 0.9912\n",
      "(0.12062523481381837+0j) [Z0 Z2] (-0.12062523481381837+0j)\n",
      "(0.174412876106516+0j) [Z2 Z3] (0.174412876106516+0j)\n",
      "(0.1686889816869329+0j) [Z0 Z1] (0.1686889816869329+0j)\n",
      "(0.16592785032250768+0j) [Z0 Z3] (-0.16592785032250768+0j)\n",
      "(0.16592785032250768+0j) [Z1 Z2] (-0.16592785032250768+0j)\n",
      "(0.12062523481381837+0j) [Z1 Z3] (-0.12062523481381837+0j)\n",
      "1 [Z2] (0.22797802215321797+0j) 0.9982\n",
      "1 [Z0] (0.17729829109248618+0j) 0.9924\n",
      "1 [Z1] (0.17729829109248613+0j) 0.9952\n",
      "1 [Z3] (0.22797802215321797+0j) 0.9982\n",
      "(0.12062523481381837+0j) [Z0 Z2] (-0.12062523481381837+0j)\n",
      "(0.174412876106516+0j) [Z2 Z3] (0.174412876106516+0j)\n",
      "(0.1686889816869329+0j) [Z0 Z1] (0.1686889816869329+0j)\n",
      "(0.16592785032250768+0j) [Z0 Z3] (-0.16592785032250768+0j)\n",
      "(0.16592785032250768+0j) [Z1 Z2] (-0.16592785032250768+0j)\n",
      "(0.12062523481381837+0j) [Z1 Z3] (-0.12062523481381837+0j)\n"
     ]
    },
    {
     "name": "stdout",
     "output_type": "stream",
     "text": [
      "1 [Z2] (0.22797802215321797+0j) 0.9714\n",
      "1 [Z0] (0.17729829109248618+0j) 0.953\n",
      "1 [Z1] (0.17729829109248613+0j) 0.9548\n",
      "1 [Z3] (0.22797802215321797+0j) 0.9672\n",
      "(0.12062523481381837+0j) [Z0 Z2] (-0.12062523481381837+0j)\n",
      "(0.174412876106516+0j) [Z2 Z3] (0.174412876106516+0j)\n",
      "(0.1686889816869329+0j) [Z0 Z1] (0.1686889816869329+0j)\n",
      "(0.16592785032250768+0j) [Z0 Z3] (-0.16592785032250768+0j)\n",
      "(0.16592785032250768+0j) [Z1 Z2] (-0.16592785032250768+0j)\n",
      "(0.12062523481381837+0j) [Z1 Z3] (-0.12062523481381837+0j)\n",
      "1 [Z2] (0.22797802215321797+0j) 0.8948\n",
      "1 [Z0] (0.17729829109248618+0j) 0.8676\n",
      "1 [Z1] (0.17729829109248613+0j) 0.8658\n",
      "1 [Z3] (0.22797802215321797+0j) 0.8952\n",
      "(0.12062523481381837+0j) [Z0 Z2] (-0.12062523481381837+0j)\n",
      "(0.174412876106516+0j) [Z2 Z3] (0.174412876106516+0j)\n",
      "(0.1686889816869329+0j) [Z0 Z1] (0.1686889816869329+0j)\n",
      "(0.16592785032250768+0j) [Z0 Z3] (-0.16592785032250768+0j)\n",
      "(0.16592785032250768+0j) [Z1 Z2] (-0.16592785032250768+0j)\n",
      "(0.12062523481381837+0j) [Z1 Z3] (-0.12062523481381837+0j)\n",
      "1 [Z2] (0.22797802215321797+0j) 0.805\n",
      "1 [Z0] (0.17729829109248618+0j) 0.7536\n",
      "1 [Z1] (0.17729829109248613+0j) 0.7472\n",
      "1 [Z3] (0.22797802215321797+0j) 0.7882\n",
      "(0.12062523481381837+0j) [Z0 Z2] (-0.12062523481381837+0j)\n",
      "(0.174412876106516+0j) [Z2 Z3] (0.174412876106516+0j)\n",
      "(0.1686889816869329+0j) [Z0 Z1] (0.1686889816869329+0j)\n",
      "(0.16592785032250768+0j) [Z0 Z3] (-0.16592785032250768+0j)\n",
      "(0.16592785032250768+0j) [Z1 Z2] (-0.16592785032250768+0j)\n",
      "(0.12062523481381837+0j) [Z1 Z3] (-0.12062523481381837+0j)\n",
      "1 [Z2] (0.22797802215321797+0j) 0.6432\n",
      "1 [Z0] (0.17729829109248618+0j) 0.6122\n",
      "1 [Z1] (0.17729829109248613+0j) 0.6074\n",
      "1 [Z3] (0.22797802215321797+0j) 0.6476\n",
      "(0.12062523481381837+0j) [Z0 Z2] (-0.12062523481381837+0j)\n",
      "(0.174412876106516+0j) [Z2 Z3] (0.174412876106516+0j)\n",
      "(0.1686889816869329+0j) [Z0 Z1] (0.1686889816869329+0j)\n",
      "(0.16592785032250768+0j) [Z0 Z3] (-0.16592785032250768+0j)\n",
      "(0.16592785032250768+0j) [Z1 Z2] (-0.16592785032250768+0j)\n",
      "(0.12062523481381837+0j) [Z1 Z3] (-0.12062523481381837+0j)\n",
      "1 [Z2] (0.22797802215321797+0j) 0.4982\n",
      "1 [Z0] (0.17729829109248618+0j) 0.4498\n",
      "1 [Z1] (0.17729829109248613+0j) 0.4486\n",
      "1 [Z3] (0.22797802215321797+0j) 0.497\n",
      "(0.12062523481381837+0j) [Z0 Z2] (-0.12062523481381837+0j)\n",
      "(0.174412876106516+0j) [Z2 Z3] (0.174412876106516+0j)\n",
      "(0.1686889816869329+0j) [Z0 Z1] (0.1686889816869329+0j)\n",
      "(0.16592785032250768+0j) [Z0 Z3] (-0.16592785032250768+0j)\n",
      "(0.16592785032250768+0j) [Z1 Z2] (-0.16592785032250768+0j)\n",
      "(0.12062523481381837+0j) [Z1 Z3] (-0.12062523481381837+0j)\n",
      "1 [Z2] (0.22797802215321797+0j) 0.3184\n",
      "1 [Z0] (0.17729829109248618+0j) 0.2694\n",
      "1 [Z1] (0.17729829109248613+0j) 0.2508\n",
      "1 [Z3] (0.22797802215321797+0j) 0.3012\n",
      "(0.12062523481381837+0j) [Z0 Z2] (-0.12062523481381837+0j)\n",
      "(0.174412876106516+0j) [Z2 Z3] (0.174412876106516+0j)\n",
      "(0.1686889816869329+0j) [Z0 Z1] (0.1686889816869329+0j)\n",
      "(0.16592785032250768+0j) [Z0 Z3] (-0.16592785032250768+0j)\n",
      "(0.16592785032250768+0j) [Z1 Z2] (-0.16592785032250768+0j)\n",
      "(0.12062523481381837+0j) [Z1 Z3] (-0.12062523481381837+0j)\n",
      "1 [Z2] (0.22797802215321797+0j) 0.1142\n",
      "1 [Z0] (0.17729829109248618+0j) 0.021\n",
      "1 [Z1] (0.17729829109248613+0j) 0.0516\n",
      "1 [Z3] (0.22797802215321797+0j) 0.1072\n",
      "(0.12062523481381837+0j) [Z0 Z2] (-0.12062523481381837+0j)\n",
      "(0.174412876106516+0j) [Z2 Z3] (0.174412876106516+0j)\n",
      "(0.1686889816869329+0j) [Z0 Z1] (0.1686889816869329+0j)\n",
      "(0.16592785032250768+0j) [Z0 Z3] (-0.16592785032250768+0j)\n",
      "(0.16592785032250768+0j) [Z1 Z2] (-0.16592785032250768+0j)\n",
      "(0.12062523481381837+0j) [Z1 Z3] (-0.12062523481381837+0j)\n",
      "1 [Z2] (0.22797802215321797+0j) -0.0888\n",
      "1 [Z0] (0.17729829109248618+0j) -0.1414\n",
      "1 [Z1] (0.17729829109248613+0j) -0.1392\n",
      "1 [Z3] (0.22797802215321797+0j) -0.0714\n",
      "(0.12062523481381837+0j) [Z0 Z2] (-0.12062523481381837+0j)\n",
      "(0.174412876106516+0j) [Z2 Z3] (0.174412876106516+0j)\n",
      "(0.1686889816869329+0j) [Z0 Z1] (0.1686889816869329+0j)\n",
      "(0.16592785032250768+0j) [Z0 Z3] (-0.16592785032250768+0j)\n",
      "(0.16592785032250768+0j) [Z1 Z2] (-0.16592785032250768+0j)\n",
      "(0.12062523481381837+0j) [Z1 Z3] (-0.12062523481381837+0j)\n",
      "1 [Z2] (0.22797802215321797+0j) -0.274\n",
      "1 [Z0] (0.17729829109248618+0j) -0.3462\n",
      "1 [Z1] (0.17729829109248613+0j) -0.3244\n",
      "1 [Z3] (0.22797802215321797+0j) -0.2942\n",
      "(0.12062523481381837+0j) [Z0 Z2] (-0.12062523481381837+0j)\n",
      "(0.174412876106516+0j) [Z2 Z3] (0.174412876106516+0j)\n",
      "(0.1686889816869329+0j) [Z0 Z1] (0.1686889816869329+0j)\n",
      "(0.16592785032250768+0j) [Z0 Z3] (-0.16592785032250768+0j)\n",
      "(0.16592785032250768+0j) [Z1 Z2] (-0.16592785032250768+0j)\n",
      "(0.12062523481381837+0j) [Z1 Z3] (-0.12062523481381837+0j)\n",
      "1 [Z2] (0.22797802215321797+0j) -0.4778\n",
      "1 [Z0] (0.17729829109248618+0j) -0.5202\n",
      "1 [Z1] (0.17729829109248613+0j) -0.5078\n",
      "1 [Z3] (0.22797802215321797+0j) -0.4732\n",
      "(0.12062523481381837+0j) [Z0 Z2] (-0.12062523481381837+0j)\n",
      "(0.174412876106516+0j) [Z2 Z3] (0.174412876106516+0j)\n",
      "(0.1686889816869329+0j) [Z0 Z1] (0.1686889816869329+0j)\n",
      "(0.16592785032250768+0j) [Z0 Z3] (-0.16592785032250768+0j)\n",
      "(0.16592785032250768+0j) [Z1 Z2] (-0.16592785032250768+0j)\n",
      "(0.12062523481381837+0j) [Z1 Z3] (-0.12062523481381837+0j)\n",
      "1 [Z2] (0.22797802215321797+0j) -0.6414\n",
      "1 [Z0] (0.17729829109248618+0j) -0.671\n",
      "1 [Z1] (0.17729829109248613+0j) -0.66\n",
      "1 [Z3] (0.22797802215321797+0j) -0.6308\n",
      "(0.12062523481381837+0j) [Z0 Z2] (-0.12062523481381837+0j)\n",
      "(0.174412876106516+0j) [Z2 Z3] (0.174412876106516+0j)\n",
      "(0.1686889816869329+0j) [Z0 Z1] (0.1686889816869329+0j)\n",
      "(0.16592785032250768+0j) [Z0 Z3] (-0.16592785032250768+0j)\n",
      "(0.16592785032250768+0j) [Z1 Z2] (-0.16592785032250768+0j)\n",
      "(0.12062523481381837+0j) [Z1 Z3] (-0.12062523481381837+0j)\n",
      "1 [Z2] (0.22797802215321797+0j) -0.768\n",
      "1 [Z0] (0.17729829109248618+0j) -0.8056\n",
      "1 [Z1] (0.17729829109248613+0j) -0.8034\n",
      "1 [Z3] (0.22797802215321797+0j) -0.7742\n",
      "(0.12062523481381837+0j) [Z0 Z2] (-0.12062523481381837+0j)\n",
      "(0.174412876106516+0j) [Z2 Z3] (0.174412876106516+0j)\n",
      "(0.1686889816869329+0j) [Z0 Z1] (0.1686889816869329+0j)\n",
      "(0.16592785032250768+0j) [Z0 Z3] (-0.16592785032250768+0j)\n",
      "(0.16592785032250768+0j) [Z1 Z2] (-0.16592785032250768+0j)\n",
      "(0.12062523481381837+0j) [Z1 Z3] (-0.12062523481381837+0j)\n",
      "1 [Z2] (0.22797802215321797+0j) -0.8856\n",
      "1 [Z0] (0.17729829109248618+0j) -0.9146\n",
      "1 [Z1] (0.17729829109248613+0j) -0.9116\n",
      "1 [Z3] (0.22797802215321797+0j) -0.8772\n",
      "(0.12062523481381837+0j) [Z0 Z2] (-0.12062523481381837+0j)\n",
      "(0.174412876106516+0j) [Z2 Z3] (0.174412876106516+0j)\n",
      "(0.1686889816869329+0j) [Z0 Z1] (0.1686889816869329+0j)\n",
      "(0.16592785032250768+0j) [Z0 Z3] (-0.16592785032250768+0j)\n",
      "(0.16592785032250768+0j) [Z1 Z2] (-0.16592785032250768+0j)\n",
      "(0.12062523481381837+0j) [Z1 Z3] (-0.12062523481381837+0j)\n",
      "1 [Z2] (0.22797802215321797+0j) -0.955\n",
      "1 [Z0] (0.17729829109248618+0j) -0.9742\n",
      "1 [Z1] (0.17729829109248613+0j) -0.973\n",
      "1 [Z3] (0.22797802215321797+0j) -0.9628\n",
      "(0.12062523481381837+0j) [Z0 Z2] (-0.12062523481381837+0j)\n",
      "(0.174412876106516+0j) [Z2 Z3] (0.174412876106516+0j)\n",
      "(0.1686889816869329+0j) [Z0 Z1] (0.1686889816869329+0j)\n",
      "(0.16592785032250768+0j) [Z0 Z3] (-0.16592785032250768+0j)\n",
      "(0.16592785032250768+0j) [Z1 Z2] (-0.16592785032250768+0j)\n",
      "(0.12062523481381837+0j) [Z1 Z3] (-0.12062523481381837+0j)\n",
      "1 [Z2] (0.22797802215321797+0j) -0.9946\n",
      "1 [Z0] (0.17729829109248618+0j) -1.0\n",
      "1 [Z1] (0.17729829109248613+0j) -1.0\n",
      "1 [Z3] (0.22797802215321797+0j) -0.9954\n",
      "(0.12062523481381837+0j) [Z0 Z2] (-0.12062523481381837+0j)\n",
      "(0.174412876106516+0j) [Z2 Z3] (0.174412876106516+0j)\n",
      "(0.1686889816869329+0j) [Z0 Z1] (0.1686889816869329+0j)\n",
      "(0.16592785032250768+0j) [Z0 Z3] (-0.16592785032250768+0j)\n",
      "(0.16592785032250768+0j) [Z1 Z2] (-0.16592785032250768+0j)\n",
      "(0.12062523481381837+0j) [Z1 Z3] (-0.12062523481381837+0j)\n",
      "1 [Z2] (0.22797802215321797+0j) -0.9936\n",
      "1 [Z0] (0.17729829109248618+0j) -0.985\n",
      "1 [Z1] (0.17729829109248613+0j) -0.9832\n",
      "1 [Z3] (0.22797802215321797+0j) -0.9932\n",
      "(0.12062523481381837+0j) [Z0 Z2] (-0.12062523481381837+0j)\n",
      "(0.174412876106516+0j) [Z2 Z3] (0.174412876106516+0j)\n",
      "(0.1686889816869329+0j) [Z0 Z1] (0.1686889816869329+0j)\n",
      "(0.16592785032250768+0j) [Z0 Z3] (-0.16592785032250768+0j)\n",
      "(0.16592785032250768+0j) [Z1 Z2] (-0.16592785032250768+0j)\n",
      "(0.12062523481381837+0j) [Z1 Z3] (-0.12062523481381837+0j)\n",
      "1 [Z2] (0.22797802215321797+0j) -0.947\n",
      "1 [Z0] (0.17729829109248618+0j) -0.9242\n",
      "1 [Z1] (0.17729829109248613+0j) -0.9352\n",
      "1 [Z3] (0.22797802215321797+0j) -0.9504\n",
      "(0.12062523481381837+0j) [Z0 Z2] (-0.12062523481381837+0j)\n",
      "(0.174412876106516+0j) [Z2 Z3] (0.174412876106516+0j)\n"
     ]
    },
    {
     "name": "stdout",
     "output_type": "stream",
     "text": [
      "(0.1686889816869329+0j) [Z0 Z1] (0.1686889816869329+0j)\n",
      "(0.16592785032250768+0j) [Z0 Z3] (-0.16592785032250768+0j)\n",
      "(0.16592785032250768+0j) [Z1 Z2] (-0.16592785032250768+0j)\n",
      "(0.12062523481381837+0j) [Z1 Z3] (-0.12062523481381837+0j)\n",
      "1 [Z2] (0.22797802215321797+0j) -0.874\n",
      "1 [Z0] (0.17729829109248618+0j) -0.8362\n",
      "1 [Z1] (0.17729829109248613+0j) -0.8424\n",
      "1 [Z3] (0.22797802215321797+0j) -0.867\n",
      "(0.12062523481381837+0j) [Z0 Z2] (-0.12062523481381837+0j)\n",
      "(0.174412876106516+0j) [Z2 Z3] (0.174412876106516+0j)\n",
      "(0.1686889816869329+0j) [Z0 Z1] (0.1686889816869329+0j)\n",
      "(0.16592785032250768+0j) [Z0 Z3] (-0.16592785032250768+0j)\n",
      "(0.16592785032250768+0j) [Z1 Z2] (-0.16592785032250768+0j)\n",
      "(0.12062523481381837+0j) [Z1 Z3] (-0.12062523481381837+0j)\n",
      "1 [Z2] (0.22797802215321797+0j) -0.7498\n",
      "1 [Z0] (0.17729829109248618+0j) -0.717\n",
      "1 [Z1] (0.17729829109248613+0j) -0.7242\n",
      "1 [Z3] (0.22797802215321797+0j) -0.7572\n",
      "(0.12062523481381837+0j) [Z0 Z2] (-0.12062523481381837+0j)\n",
      "(0.174412876106516+0j) [Z2 Z3] (0.174412876106516+0j)\n",
      "(0.1686889816869329+0j) [Z0 Z1] (0.1686889816869329+0j)\n",
      "(0.16592785032250768+0j) [Z0 Z3] (-0.16592785032250768+0j)\n",
      "(0.16592785032250768+0j) [Z1 Z2] (-0.16592785032250768+0j)\n",
      "(0.12062523481381837+0j) [Z1 Z3] (-0.12062523481381837+0j)\n",
      "1 [Z2] (0.22797802215321797+0j) -0.6026\n",
      "1 [Z0] (0.17729829109248618+0j) -0.5522\n",
      "1 [Z1] (0.17729829109248613+0j) -0.5698\n",
      "1 [Z3] (0.22797802215321797+0j) -0.6174\n",
      "(0.12062523481381837+0j) [Z0 Z2] (-0.12062523481381837+0j)\n",
      "(0.174412876106516+0j) [Z2 Z3] (0.174412876106516+0j)\n",
      "(0.1686889816869329+0j) [Z0 Z1] (0.1686889816869329+0j)\n",
      "(0.16592785032250768+0j) [Z0 Z3] (-0.16592785032250768+0j)\n",
      "(0.16592785032250768+0j) [Z1 Z2] (-0.16592785032250768+0j)\n",
      "(0.12062523481381837+0j) [Z1 Z3] (-0.12062523481381837+0j)\n",
      "1 [Z2] (0.22797802215321797+0j) -0.4328\n",
      "1 [Z0] (0.17729829109248618+0j) -0.4082\n",
      "1 [Z1] (0.17729829109248613+0j) -0.3866\n",
      "1 [Z3] (0.22797802215321797+0j) -0.4502\n",
      "(0.12062523481381837+0j) [Z0 Z2] (-0.12062523481381837+0j)\n",
      "(0.174412876106516+0j) [Z2 Z3] (0.174412876106516+0j)\n",
      "(0.1686889816869329+0j) [Z0 Z1] (0.1686889816869329+0j)\n",
      "(0.16592785032250768+0j) [Z0 Z3] (-0.16592785032250768+0j)\n",
      "(0.16592785032250768+0j) [Z1 Z2] (-0.16592785032250768+0j)\n",
      "(0.12062523481381837+0j) [Z1 Z3] (-0.12062523481381837+0j)\n",
      "1 [Z2] (0.22797802215321797+0j) -0.2586\n",
      "1 [Z0] (0.17729829109248618+0j) -0.2056\n",
      "1 [Z1] (0.17729829109248613+0j) -0.2266\n",
      "1 [Z3] (0.22797802215321797+0j) -0.2392\n",
      "(0.12062523481381837+0j) [Z0 Z2] (-0.12062523481381837+0j)\n",
      "(0.174412876106516+0j) [Z2 Z3] (0.174412876106516+0j)\n",
      "(0.1686889816869329+0j) [Z0 Z1] (0.1686889816869329+0j)\n",
      "(0.16592785032250768+0j) [Z0 Z3] (-0.16592785032250768+0j)\n",
      "(0.16592785032250768+0j) [Z1 Z2] (-0.16592785032250768+0j)\n",
      "(0.12062523481381837+0j) [Z1 Z3] (-0.12062523481381837+0j)\n",
      "1 [Z2] (0.22797802215321797+0j) -0.0522\n",
      "1 [Z0] (0.17729829109248618+0j) 0.0076\n",
      "1 [Z1] (0.17729829109248613+0j) 0.013\n",
      "1 [Z3] (0.22797802215321797+0j) -0.052\n",
      "(0.12062523481381837+0j) [Z0 Z2] (-0.12062523481381837+0j)\n",
      "(0.174412876106516+0j) [Z2 Z3] (0.174412876106516+0j)\n",
      "(0.1686889816869329+0j) [Z0 Z1] (0.1686889816869329+0j)\n",
      "(0.16592785032250768+0j) [Z0 Z3] (-0.16592785032250768+0j)\n",
      "(0.16592785032250768+0j) [Z1 Z2] (-0.16592785032250768+0j)\n",
      "(0.12062523481381837+0j) [Z1 Z3] (-0.12062523481381837+0j)\n",
      "1 [Z2] (0.22797802215321797+0j) 0.1334\n",
      "1 [Z0] (0.17729829109248618+0j) 0.2012\n",
      "1 [Z1] (0.17729829109248613+0j) 0.2042\n",
      "1 [Z3] (0.22797802215321797+0j) 0.1692\n",
      "(0.12062523481381837+0j) [Z0 Z2] (-0.12062523481381837+0j)\n",
      "(0.174412876106516+0j) [Z2 Z3] (0.174412876106516+0j)\n",
      "(0.1686889816869329+0j) [Z0 Z1] (0.1686889816869329+0j)\n",
      "(0.16592785032250768+0j) [Z0 Z3] (-0.16592785032250768+0j)\n",
      "(0.16592785032250768+0j) [Z1 Z2] (-0.16592785032250768+0j)\n",
      "(0.12062523481381837+0j) [Z1 Z3] (-0.12062523481381837+0j)\n",
      "1 [Z2] (0.22797802215321797+0j) 0.3514\n",
      "1 [Z0] (0.17729829109248618+0j) 0.3984\n",
      "1 [Z1] (0.17729829109248613+0j) 0.3968\n",
      "1 [Z3] (0.22797802215321797+0j) 0.3364\n",
      "(0.12062523481381837+0j) [Z0 Z2] (-0.12062523481381837+0j)\n",
      "(0.174412876106516+0j) [Z2 Z3] (0.174412876106516+0j)\n",
      "(0.1686889816869329+0j) [Z0 Z1] (0.1686889816869329+0j)\n",
      "(0.16592785032250768+0j) [Z0 Z3] (-0.16592785032250768+0j)\n",
      "(0.16592785032250768+0j) [Z1 Z2] (-0.16592785032250768+0j)\n",
      "(0.12062523481381837+0j) [Z1 Z3] (-0.12062523481381837+0j)\n",
      "1 [Z2] (0.22797802215321797+0j) 0.518\n",
      "1 [Z0] (0.17729829109248618+0j) 0.5708\n",
      "1 [Z1] (0.17729829109248613+0j) 0.567\n",
      "1 [Z3] (0.22797802215321797+0j) 0.5262\n",
      "(0.12062523481381837+0j) [Z0 Z2] (-0.12062523481381837+0j)\n",
      "(0.174412876106516+0j) [Z2 Z3] (0.174412876106516+0j)\n",
      "(0.1686889816869329+0j) [Z0 Z1] (0.1686889816869329+0j)\n",
      "(0.16592785032250768+0j) [Z0 Z3] (-0.16592785032250768+0j)\n",
      "(0.16592785032250768+0j) [Z1 Z2] (-0.16592785032250768+0j)\n",
      "(0.12062523481381837+0j) [Z1 Z3] (-0.12062523481381837+0j)\n",
      "1 [Z2] (0.22797802215321797+0j) 0.686\n",
      "1 [Z0] (0.17729829109248618+0j) 0.7228\n",
      "1 [Z1] (0.17729829109248613+0j) 0.7158\n",
      "1 [Z3] (0.22797802215321797+0j) 0.6826\n",
      "(0.12062523481381837+0j) [Z0 Z2] (-0.12062523481381837+0j)\n",
      "(0.174412876106516+0j) [Z2 Z3] (0.174412876106516+0j)\n",
      "(0.1686889816869329+0j) [Z0 Z1] (0.1686889816869329+0j)\n",
      "(0.16592785032250768+0j) [Z0 Z3] (-0.16592785032250768+0j)\n",
      "(0.16592785032250768+0j) [Z1 Z2] (-0.16592785032250768+0j)\n",
      "(0.12062523481381837+0j) [Z1 Z3] (-0.12062523481381837+0j)\n",
      "1 [Z2] (0.22797802215321797+0j) 0.818\n",
      "1 [Z0] (0.17729829109248618+0j) 0.8478\n",
      "1 [Z1] (0.17729829109248613+0j) 0.8404\n",
      "1 [Z3] (0.22797802215321797+0j) 0.7986\n",
      "(0.12062523481381837+0j) [Z0 Z2] (-0.12062523481381837+0j)\n",
      "(0.174412876106516+0j) [Z2 Z3] (0.174412876106516+0j)\n",
      "(0.1686889816869329+0j) [Z0 Z1] (0.1686889816869329+0j)\n",
      "(0.16592785032250768+0j) [Z0 Z3] (-0.16592785032250768+0j)\n",
      "(0.16592785032250768+0j) [Z1 Z2] (-0.16592785032250768+0j)\n",
      "(0.12062523481381837+0j) [Z1 Z3] (-0.12062523481381837+0j)\n",
      "1 [Z2] (0.22797802215321797+0j) 0.906\n",
      "1 [Z0] (0.17729829109248618+0j) 0.9278\n",
      "1 [Z1] (0.17729829109248613+0j) 0.9348\n",
      "1 [Z3] (0.22797802215321797+0j) 0.913\n",
      "(0.12062523481381837+0j) [Z0 Z2] (-0.12062523481381837+0j)\n",
      "(0.174412876106516+0j) [Z2 Z3] (0.174412876106516+0j)\n",
      "(0.1686889816869329+0j) [Z0 Z1] (0.1686889816869329+0j)\n",
      "(0.16592785032250768+0j) [Z0 Z3] (-0.16592785032250768+0j)\n",
      "(0.16592785032250768+0j) [Z1 Z2] (-0.16592785032250768+0j)\n",
      "(0.12062523481381837+0j) [Z1 Z3] (-0.12062523481381837+0j)\n",
      "1 [Z2] (0.22797802215321797+0j) 0.9758\n",
      "1 [Z0] (0.17729829109248618+0j) 0.9874\n",
      "1 [Z1] (0.17729829109248613+0j) 0.9888\n",
      "1 [Z3] (0.22797802215321797+0j) 0.9744\n",
      "(0.12062523481381837+0j) [Z0 Z2] (-0.12062523481381837+0j)\n",
      "(0.174412876106516+0j) [Z2 Z3] (0.174412876106516+0j)\n",
      "(0.1686889816869329+0j) [Z0 Z1] (0.1686889816869329+0j)\n",
      "(0.16592785032250768+0j) [Z0 Z3] (-0.16592785032250768+0j)\n",
      "(0.16592785032250768+0j) [Z1 Z2] (-0.16592785032250768+0j)\n",
      "(0.12062523481381837+0j) [Z1 Z3] (-0.12062523481381837+0j)\n",
      "1 [Z2] (0.22797802215321797+0j) 0.9996\n",
      "1 [Z0] (0.17729829109248618+0j) 0.9996\n",
      "1 [Z1] (0.17729829109248613+0j) 0.9996\n",
      "1 [Z3] (0.22797802215321797+0j) 0.9994\n",
      "(0.12062523481381837+0j) [Z0 Z2] (-0.12062523481381837+0j)\n",
      "(0.174412876106516+0j) [Z2 Z3] (0.174412876106516+0j)\n",
      "(0.1686889816869329+0j) [Z0 Z1] (0.1686889816869329+0j)\n",
      "(0.16592785032250768+0j) [Z0 Z3] (-0.16592785032250768+0j)\n",
      "(0.16592785032250768+0j) [Z1 Z2] (-0.16592785032250768+0j)\n",
      "(0.12062523481381837+0j) [Z1 Z3] (-0.12062523481381837+0j)\n",
      "1 [Z2] (0.22797802215321797+0j) 0.9848\n",
      "1 [Z0] (0.17729829109248618+0j) 0.9756\n",
      "1 [Z1] (0.17729829109248613+0j) 0.9736\n",
      "1 [Z3] (0.22797802215321797+0j) 0.9848\n",
      "(0.12062523481381837+0j) [Z0 Z2] (-0.12062523481381837+0j)\n",
      "(0.174412876106516+0j) [Z2 Z3] (0.174412876106516+0j)\n",
      "(0.1686889816869329+0j) [Z0 Z1] (0.1686889816869329+0j)\n",
      "(0.16592785032250768+0j) [Z0 Z3] (-0.16592785032250768+0j)\n",
      "(0.16592785032250768+0j) [Z1 Z2] (-0.16592785032250768+0j)\n",
      "(0.12062523481381837+0j) [Z1 Z3] (-0.12062523481381837+0j)\n",
      "1 [Z2] (0.22797802215321797+0j) 0.9298\n",
      "1 [Z0] (0.17729829109248618+0j) 0.9092\n",
      "1 [Z1] (0.17729829109248613+0j) 0.9064\n",
      "1 [Z3] (0.22797802215321797+0j) 0.9344\n",
      "(0.12062523481381837+0j) [Z0 Z2] (-0.12062523481381837+0j)\n",
      "(0.174412876106516+0j) [Z2 Z3] (0.174412876106516+0j)\n",
      "(0.1686889816869329+0j) [Z0 Z1] (0.1686889816869329+0j)\n",
      "(0.16592785032250768+0j) [Z0 Z3] (-0.16592785032250768+0j)\n",
      "(0.16592785032250768+0j) [Z1 Z2] (-0.16592785032250768+0j)\n",
      "(0.12062523481381837+0j) [Z1 Z3] (-0.12062523481381837+0j)\n"
     ]
    },
    {
     "name": "stdout",
     "output_type": "stream",
     "text": [
      "1 [Z2] (0.22797802215321797+0j) 0.835\n",
      "1 [Z0] (0.17729829109248618+0j) 0.8056\n",
      "1 [Z1] (0.17729829109248613+0j) 0.8098\n",
      "1 [Z3] (0.22797802215321797+0j) 0.8404\n",
      "(0.12062523481381837+0j) [Z0 Z2] (-0.12062523481381837+0j)\n",
      "(0.174412876106516+0j) [Z2 Z3] (0.174412876106516+0j)\n",
      "(0.1686889816869329+0j) [Z0 Z1] (0.1686889816869329+0j)\n",
      "(0.16592785032250768+0j) [Z0 Z3] (-0.16592785032250768+0j)\n",
      "(0.16592785032250768+0j) [Z1 Z2] (-0.16592785032250768+0j)\n",
      "(0.12062523481381837+0j) [Z1 Z3] (-0.12062523481381837+0j)\n",
      "1 [Z2] (0.22797802215321797+0j) 0.7212\n",
      "1 [Z0] (0.17729829109248618+0j) 0.675\n",
      "1 [Z1] (0.17729829109248613+0j) 0.6652\n",
      "1 [Z3] (0.22797802215321797+0j) 0.7004\n",
      "(0.12062523481381837+0j) [Z0 Z2] (-0.12062523481381837+0j)\n",
      "(0.174412876106516+0j) [Z2 Z3] (0.174412876106516+0j)\n",
      "(0.1686889816869329+0j) [Z0 Z1] (0.1686889816869329+0j)\n",
      "(0.16592785032250768+0j) [Z0 Z3] (-0.16592785032250768+0j)\n",
      "(0.16592785032250768+0j) [Z1 Z2] (-0.16592785032250768+0j)\n",
      "(0.12062523481381837+0j) [Z1 Z3] (-0.12062523481381837+0j)\n",
      "1 [Z2] (0.22797802215321797+0j) 0.5562\n",
      "1 [Z0] (0.17729829109248618+0j) 0.5096\n",
      "1 [Z1] (0.17729829109248613+0j) 0.5112\n",
      "1 [Z3] (0.22797802215321797+0j) 0.5716\n",
      "(0.12062523481381837+0j) [Z0 Z2] (-0.12062523481381837+0j)\n",
      "(0.174412876106516+0j) [Z2 Z3] (0.174412876106516+0j)\n",
      "(0.1686889816869329+0j) [Z0 Z1] (0.1686889816869329+0j)\n",
      "(0.16592785032250768+0j) [Z0 Z3] (-0.16592785032250768+0j)\n",
      "(0.16592785032250768+0j) [Z1 Z2] (-0.16592785032250768+0j)\n",
      "(0.12062523481381837+0j) [Z1 Z3] (-0.12062523481381837+0j)\n",
      "1 [Z2] (0.22797802215321797+0j) 0.3914\n",
      "1 [Z0] (0.17729829109248618+0j) 0.3238\n",
      "1 [Z1] (0.17729829109248613+0j) 0.333\n",
      "1 [Z3] (0.22797802215321797+0j) 0.3942\n",
      "(0.12062523481381837+0j) [Z0 Z2] (-0.12062523481381837+0j)\n",
      "(0.174412876106516+0j) [Z2 Z3] (0.174412876106516+0j)\n",
      "(0.1686889816869329+0j) [Z0 Z1] (0.1686889816869329+0j)\n",
      "(0.16592785032250768+0j) [Z0 Z3] (-0.16592785032250768+0j)\n",
      "(0.16592785032250768+0j) [Z1 Z2] (-0.16592785032250768+0j)\n",
      "(0.12062523481381837+0j) [Z1 Z3] (-0.12062523481381837+0j)\n",
      "1 [Z2] (0.22797802215321797+0j) 0.2164\n",
      "1 [Z0] (0.17729829109248618+0j) 0.1356\n",
      "1 [Z1] (0.17729829109248613+0j) 0.1548\n",
      "1 [Z3] (0.22797802215321797+0j) 0.199\n",
      "(0.12062523481381837+0j) [Z0 Z2] (-0.12062523481381837+0j)\n",
      "(0.174412876106516+0j) [Z2 Z3] (0.174412876106516+0j)\n",
      "(0.1686889816869329+0j) [Z0 Z1] (0.1686889816869329+0j)\n",
      "(0.16592785032250768+0j) [Z0 Z3] (-0.16592785032250768+0j)\n",
      "(0.16592785032250768+0j) [Z1 Z2] (-0.16592785032250768+0j)\n",
      "(0.12062523481381837+0j) [Z1 Z3] (-0.12062523481381837+0j)\n",
      "1 [Z2] (0.22797802215321797+0j) -0.0112\n",
      "1 [Z0] (0.17729829109248618+0j) -0.0446\n",
      "1 [Z1] (0.17729829109248613+0j) -0.0624\n",
      "1 [Z3] (0.22797802215321797+0j) 0.0044\n",
      "(0.12062523481381837+0j) [Z0 Z2] (-0.12062523481381837+0j)\n",
      "(0.174412876106516+0j) [Z2 Z3] (0.174412876106516+0j)\n",
      "(0.1686889816869329+0j) [Z0 Z1] (0.1686889816869329+0j)\n",
      "(0.16592785032250768+0j) [Z0 Z3] (-0.16592785032250768+0j)\n",
      "(0.16592785032250768+0j) [Z1 Z2] (-0.16592785032250768+0j)\n",
      "(0.12062523481381837+0j) [Z1 Z3] (-0.12062523481381837+0j)\n",
      "1 [Z2] (0.22797802215321797+0j) -0.2124\n",
      "1 [Z0] (0.17729829109248618+0j) -0.2556\n",
      "1 [Z1] (0.17729829109248613+0j) -0.2454\n",
      "1 [Z3] (0.22797802215321797+0j) -0.2022\n",
      "(0.12062523481381837+0j) [Z0 Z2] (-0.12062523481381837+0j)\n",
      "(0.174412876106516+0j) [Z2 Z3] (0.174412876106516+0j)\n",
      "(0.1686889816869329+0j) [Z0 Z1] (0.1686889816869329+0j)\n",
      "(0.16592785032250768+0j) [Z0 Z3] (-0.16592785032250768+0j)\n",
      "(0.16592785032250768+0j) [Z1 Z2] (-0.16592785032250768+0j)\n",
      "(0.12062523481381837+0j) [Z1 Z3] (-0.12062523481381837+0j)\n",
      "1 [Z2] (0.22797802215321797+0j) -0.3892\n",
      "1 [Z0] (0.17729829109248618+0j) -0.4538\n",
      "1 [Z1] (0.17729829109248613+0j) -0.4406\n",
      "1 [Z3] (0.22797802215321797+0j) -0.4032\n",
      "(0.12062523481381837+0j) [Z0 Z2] (-0.12062523481381837+0j)\n",
      "(0.174412876106516+0j) [Z2 Z3] (0.174412876106516+0j)\n",
      "(0.1686889816869329+0j) [Z0 Z1] (0.1686889816869329+0j)\n",
      "(0.16592785032250768+0j) [Z0 Z3] (-0.16592785032250768+0j)\n",
      "(0.16592785032250768+0j) [Z1 Z2] (-0.16592785032250768+0j)\n",
      "(0.12062523481381837+0j) [Z1 Z3] (-0.12062523481381837+0j)\n",
      "1 [Z2] (0.22797802215321797+0j) -0.5622\n",
      "1 [Z0] (0.17729829109248618+0j) -0.6128\n",
      "1 [Z1] (0.17729829109248613+0j) -0.6176\n",
      "1 [Z3] (0.22797802215321797+0j) -0.5754\n",
      "(0.12062523481381837+0j) [Z0 Z2] (-0.12062523481381837+0j)\n",
      "(0.174412876106516+0j) [Z2 Z3] (0.174412876106516+0j)\n",
      "(0.1686889816869329+0j) [Z0 Z1] (0.1686889816869329+0j)\n",
      "(0.16592785032250768+0j) [Z0 Z3] (-0.16592785032250768+0j)\n",
      "(0.16592785032250768+0j) [Z1 Z2] (-0.16592785032250768+0j)\n",
      "(0.12062523481381837+0j) [Z1 Z3] (-0.12062523481381837+0j)\n",
      "1 [Z2] (0.22797802215321797+0j) -0.724\n",
      "1 [Z0] (0.17729829109248618+0j) -0.7634\n",
      "1 [Z1] (0.17729829109248613+0j) -0.7622\n",
      "1 [Z3] (0.22797802215321797+0j) -0.7224\n",
      "(0.12062523481381837+0j) [Z0 Z2] (-0.12062523481381837+0j)\n",
      "(0.174412876106516+0j) [Z2 Z3] (0.174412876106516+0j)\n",
      "(0.1686889816869329+0j) [Z0 Z1] (0.1686889816869329+0j)\n",
      "(0.16592785032250768+0j) [Z0 Z3] (-0.16592785032250768+0j)\n",
      "(0.16592785032250768+0j) [Z1 Z2] (-0.16592785032250768+0j)\n",
      "(0.12062523481381837+0j) [Z1 Z3] (-0.12062523481381837+0j)\n",
      "1 [Z2] (0.22797802215321797+0j) -0.8414\n",
      "1 [Z0] (0.17729829109248618+0j) -0.8658\n",
      "1 [Z1] (0.17729829109248613+0j) -0.8616\n",
      "1 [Z3] (0.22797802215321797+0j) -0.8494\n",
      "(0.12062523481381837+0j) [Z0 Z2] (-0.12062523481381837+0j)\n",
      "(0.174412876106516+0j) [Z2 Z3] (0.174412876106516+0j)\n",
      "(0.1686889816869329+0j) [Z0 Z1] (0.1686889816869329+0j)\n",
      "(0.16592785032250768+0j) [Z0 Z3] (-0.16592785032250768+0j)\n",
      "(0.16592785032250768+0j) [Z1 Z2] (-0.16592785032250768+0j)\n",
      "(0.12062523481381837+0j) [Z1 Z3] (-0.12062523481381837+0j)\n",
      "1 [Z2] (0.22797802215321797+0j) -0.9376\n",
      "1 [Z0] (0.17729829109248618+0j) -0.9546\n",
      "1 [Z1] (0.17729829109248613+0j) -0.9538\n",
      "1 [Z3] (0.22797802215321797+0j) -0.9342\n",
      "(0.12062523481381837+0j) [Z0 Z2] (-0.12062523481381837+0j)\n",
      "(0.174412876106516+0j) [Z2 Z3] (0.174412876106516+0j)\n",
      "(0.1686889816869329+0j) [Z0 Z1] (0.1686889816869329+0j)\n",
      "(0.16592785032250768+0j) [Z0 Z3] (-0.16592785032250768+0j)\n",
      "(0.16592785032250768+0j) [Z1 Z2] (-0.16592785032250768+0j)\n",
      "(0.12062523481381837+0j) [Z1 Z3] (-0.12062523481381837+0j)\n",
      "1 [Z2] (0.22797802215321797+0j) -0.983\n",
      "1 [Z0] (0.17729829109248618+0j) -0.9952\n",
      "1 [Z1] (0.17729829109248613+0j) -0.9958\n",
      "1 [Z3] (0.22797802215321797+0j) -0.985\n",
      "(0.12062523481381837+0j) [Z0 Z2] (-0.12062523481381837+0j)\n",
      "(0.174412876106516+0j) [Z2 Z3] (0.174412876106516+0j)\n",
      "(0.1686889816869329+0j) [Z0 Z1] (0.1686889816869329+0j)\n",
      "(0.16592785032250768+0j) [Z0 Z3] (-0.16592785032250768+0j)\n",
      "(0.16592785032250768+0j) [Z1 Z2] (-0.16592785032250768+0j)\n",
      "(0.12062523481381837+0j) [Z1 Z3] (-0.12062523481381837+0j)\n",
      "1 [Z2] (0.22797802215321797+0j) -0.9988\n",
      "1 [Z0] (0.17729829109248618+0j) -0.994\n",
      "1 [Z1] (0.17729829109248613+0j) -0.9964\n",
      "1 [Z3] (0.22797802215321797+0j) -0.9996\n",
      "(-1.1355563791583045+0j)\n"
     ]
    },
    {
     "name": "stderr",
     "output_type": "stream",
     "text": [
      "/home/lex/anaconda3/envs/QuantumUpdated/lib/python3.7/site-packages/numpy/core/_asarray.py:85: ComplexWarning: Casting complex values to real discards the imaginary part\n",
      "  return array(a, dtype, copy=False, order=order)\n"
     ]
    },
    {
     "data": {
      "image/png": "[encoded data removed]",
      "text/plain": [
       "<Figure size 432x288 with 1 Axes>"
      ]
     },
     "metadata": {
      "needs_background": "light"
     },
     "output_type": "display_data"
    }
   ],
   "source": [
    "### full angle scan\n",
    "import matplotlib.pyplot as plt\n",
    "%matplotlib inline\n",
    "\n",
    "theta_list = np.arange(0,2*np.pi, 0.1)\n",
    "# theta_list = np.arange(0.98*np.pi, 1.02*np.pi, 0.001)\n",
    "\n",
    "E_list = [GIVE_ENERGY(theta) for theta in theta_list]\n",
    "\n",
    "plt.plot(E_list)\n",
    "print(min(E_list))"
   ]
  },
  {
   "cell_type": "code",
   "execution_count": 56,
   "metadata": {},
   "outputs": [
    {
     "data": {
      "text/plain": [
       "array(-1.13728383)"
      ]
     },
     "execution_count": 56,
     "metadata": {},
     "output_type": "execute_result"
    }
   ],
   "source": [
    "Hamilt.molecule.fci_energy"
   ]
  },
  {
   "cell_type": "code",
   "execution_count": null,
   "metadata": {},
   "outputs": [],
   "source": []
  },
  {
   "cell_type": "code",
   "execution_count": null,
   "metadata": {},
   "outputs": [],
   "source": []
  },
  {
   "cell_type": "markdown",
   "metadata": {},
   "source": [
    "# checking with linear alg (exp operator function!)"
   ]
  },
  {
   "cell_type": "markdown",
   "metadata": {},
   "source": [
    "$$U_{UCCSD}^{H2}=e^{-i \\theta Y_{0} X_{1} X_{2} X_{3}}$$"
   ]
  },
  {
   "cell_type": "code",
   "execution_count": null,
   "metadata": {},
   "outputs": [],
   "source": [
    "theta=np.pi/100"
   ]
  },
  {
   "cell_type": "code",
   "execution_count": null,
   "metadata": {},
   "outputs": [],
   "source": [
    "from quchem.Ansatz_Generator_Functions import *\n",
    "from numpy import kron\n",
    "from functools import reduce\n",
    "\n",
    "pauliDict={'X':np.array([[0,1],[1,0]]),\n",
    "          'Y':np.array([[0,-1j],[1j,0]]),\n",
    "          'Z':np.array([[1,0],[0,-1]]),\n",
    "          'I': np.eye(2)}\n",
    "\n",
    "\n",
    "n_electrons=2\n",
    "n_qubits=4\n",
    "\n",
    "ansatz_obj = Ansatz(n_electrons, n_qubits)\n",
    "ansatz_obj.Get_JW_HF_state()\n",
    "\n",
    "HF_reference_ket= ansatz_obj.Get_JW_HF_state().reshape([len(ansatz_obj.Get_JW_HF_state()), 1])\n",
    "\n",
    "\n",
    "list_of_ops = [pauliDict[term[0]] for term in 'Y0 X1 X2 X3'.split(' ')]\n",
    "matrix = reduce(kron, list_of_ops) *-1j #NOTE NEED TO MULTIPLY BY THIS!\n",
    "\n",
    "import scipy\n",
    "\n",
    "ansatz_state_ket = scipy.sparse.linalg.expm_multiply(theta*matrix, HF_reference_ket)\n",
    "ansatz_state_ket"
   ]
  },
  {
   "cell_type": "markdown",
   "metadata": {},
   "source": []
  },
  {
   "cell_type": "markdown",
   "metadata": {},
   "source": [
    "R is defined as:\n",
    "\n",
    "$$R=\\exp (-i \\alpha \\mathcal{X} / 2)$$"
   ]
  },
  {
   "cell_type": "markdown",
   "metadata": {},
   "source": [
    "$$\\mathcal{X} =i \\sum_{k=1}^{n-1} \\delta_{k} P_{k} P_{n} = i \\sum_{k=1}^{n-1} \\delta_{k} P_{kn}$$"
   ]
  },
  {
   "cell_type": "code",
   "execution_count": null,
   "metadata": {},
   "outputs": [],
   "source": [
    "anit_commuting_sets[10]"
   ]
  },
  {
   "cell_type": "code",
   "execution_count": null,
   "metadata": {},
   "outputs": [],
   "source": [
    "print('NOTE: YZ = iX ... and ... ZY = -iX ')\n",
    "X_DICT"
   ]
  },
  {
   "cell_type": "code",
   "execution_count": null,
   "metadata": {},
   "outputs": [],
   "source": [
    "print(X_DICT['H_n'])\n",
    "print('should equal')\n",
    "print(np.sin(X_DICT['phi_n_1']), '*',X_DICT['H_n_1'],' + ', np.cos(X_DICT['phi_n_1']),  '*',X_DICT['P_n'])"
   ]
  },
  {
   "cell_type": "code",
   "execution_count": null,
   "metadata": {},
   "outputs": [],
   "source": [
    "S_INDEX= 0 #<-- 0/1 is variable here!!!\n",
    "set_index = 10\n",
    "\n",
    "N_system_qubits = 4\n",
    "X_DICT = Get_X_SET(anit_commuting_sets[set_index], S_INDEX) # <-- 0/1 is variable here!!!\n",
    "\n",
    "if np.cos(X_DICT['phi_n_1'])<0:\n",
    "    FACTOR = -1\n",
    "else:\n",
    "    FACTOR = 1\n",
    "\n",
    "if list(X_DICT['P_n'].terms.values())[0]<0:\n",
    "    PnFACTOR = -1\n",
    "else:\n",
    "    PnFACTOR = 1\n",
    "####\n",
    "\n",
    "alpha = X_DICT['phi_n_1']\n",
    "P_n = X_DICT['P_n']\n",
    "\n",
    "\n",
    "list_of_X_qNos=[]\n",
    "list_of_X_ops=[]\n",
    "constants=[]\n",
    "for qubitOp in X_DICT['X_PauliWords']:\n",
    "    for qubit_no_pauli, const in qubitOp.terms.items():\n",
    "        qubitNo,PauliStr = list(zip(*qubit_no_pauli))\n",
    "        list_of_X_ops.append(PauliStr)\n",
    "        list_of_X_qNos.append(qubitNo)\n",
    "        constants.append(const)\n",
    "\n",
    "\n",
    "list_of_X_ops_matrices =[]\n",
    "for X_op_list in list_of_X_ops:\n",
    "    list_of_X_ops_matrices.append([pauliDict[PauliStr] for PauliStr in X_op_list])\n",
    "    \n",
    "\n",
    "kron_list_of_X_ops =[constants[index]*reduce(kron, X_op_list_matrices) for index, X_op_list_matrices in enumerate(list_of_X_ops_matrices)]\n",
    "\n",
    "X_OP_SUM = reduce(np.add, kron_list_of_X_ops)\n",
    "\n",
    "R_operator = scipy.sparse.linalg.expm(-1j*alpha/2*X_OP_SUM)\n",
    "\n",
    "post_R_state = np.dot(R_operator, ansatz_state_ket)\n",
    "post_R_state"
   ]
  },
  {
   "cell_type": "code",
   "execution_count": null,
   "metadata": {},
   "outputs": [],
   "source": []
  },
  {
   "cell_type": "code",
   "execution_count": null,
   "metadata": {},
   "outputs": [],
   "source": [
    "change_basis_dict ={\n",
    "    'X':cirq.ry(-np.pi / 2)._unitary_(),\n",
    "    'Y':cirq.rx(np.pi / 2)._unitary_(),\n",
    "    'Z': np.eye(2),\n",
    "    'I': np.eye(2)}\n"
   ]
  },
  {
   "cell_type": "code",
   "execution_count": null,
   "metadata": {},
   "outputs": [],
   "source": [
    "list_of_Pn_qNos,list_of_Pn_ops = list(zip(*[Paulistrs for Paulistrs, const in P_n.terms.items()][0]))\n",
    "\n",
    "list_of_Pn_qNos = np.array(list_of_Pn_qNos)\n",
    "all_qubit_Nos = np.arange(0,N_system_qubits-1)\n",
    "\n",
    "common_qubits = np.intersect1d(list_of_Pn_qNos, all_qubit_Nos)\n",
    "\n",
    "missing_qubitNos = [i for i in all_qubit_Nos if i not in common_qubits]\n",
    "\n",
    "Pn_ops=[]\n",
    "for qNo in range(N_system_qubits):\n",
    "    if qNo in list_of_Pn_qNos:\n",
    "        index = list_of_Pn_qNos.tolist().index(qNo)\n",
    "        Pn_ops.append(list_of_Pn_ops[index])\n",
    "    else:\n",
    "        Pn_ops.append('I')\n",
    "print(Pn_ops)\n",
    "\n",
    "Change_basis_Pn_ops = [change_basis_dict[term] for term in Pn_ops]\n",
    "Change_basis_Pn_MATRIX = reduce(kron, Change_basis_Pn_ops)"
   ]
  },
  {
   "cell_type": "code",
   "execution_count": null,
   "metadata": {},
   "outputs": [],
   "source": [
    "final_state = np.dot(Change_basis_Pn_MATRIX, post_R_state)\n",
    "print(final_state)"
   ]
  },
  {
   "cell_type": "code",
   "execution_count": null,
   "metadata": {},
   "outputs": [],
   "source": [
    "# for i in range(N_system_qubits**2):\n",
    "#     print('probability of getting state:', Get_state_as_str(N_system_qubits, i), np.absolute(final_state[i][0])**2)\n",
    "\n",
    "output_dict={}\n",
    "for i in range(N_system_qubits**2):\n",
    "    output_dict[Get_state_as_str(N_system_qubits, i)] = int(1000*np.absolute(final_state[i][0])**2)\n",
    "output_dict"
   ]
  },
  {
   "cell_type": "code",
   "execution_count": null,
   "metadata": {},
   "outputs": [],
   "source": [
    "print(P_n)\n",
    "\n",
    "m_dict={}\n",
    "for state in output_dict:\n",
    "    state_measured = np.take([bit for bit in state], list_of_Pn_qNos.tolist()) # selects qubit indices measured!\n",
    "    new_str = ''.join(state_measured)\n",
    "    if new_str in m_dict.keys():\n",
    "        m_dict[new_str] += output_dict[state]\n",
    "    else:\n",
    "        m_dict[new_str] = output_dict[state]\n",
    "\n",
    "\n",
    "print(m_dict)\n",
    "print(' ')\n",
    "print(FACTOR,'*', PnFACTOR)\n",
    "expectation_value_by_parity(m_dict)"
   ]
  },
  {
   "cell_type": "code",
   "execution_count": null,
   "metadata": {},
   "outputs": [],
   "source": []
  },
  {
   "cell_type": "markdown",
   "metadata": {},
   "source": [
    "## something wrong!!!!!!\n",
    "- should get same outputs!"
   ]
  },
  {
   "cell_type": "code",
   "execution_count": null,
   "metadata": {},
   "outputs": [],
   "source": [
    "S_INDEX= 1 #<-- 0/1 is variable here!!!\n",
    "set_index = 10\n",
    "\n",
    "N_system_qubits = 4\n",
    "X_DICT = Get_X_SET(anit_commuting_sets[set_index], S_INDEX) # <-- 0/1 is variable here!!!\n",
    "\n",
    "# if np.cos(X_DICT['phi_n_1'])<0:\n",
    "#     FACTOR = -1\n",
    "# else:\n",
    "#     FACTOR = 1\n",
    "\n",
    "\n",
    "if list(anit_commuting_sets[set_index][S_INDEX].terms.values())[0]<0:\n",
    "    FACTOR = -1\n",
    "else:\n",
    "    FACTOR = 1\n",
    "####\n",
    "\n",
    "alpha = X_DICT['phi_n_1']\n",
    "P_n = X_DICT['P_n']\n",
    "\n",
    "list_of_X_qNos,list_of_X_ops = list(zip(*[Paulistrs for qubitOp in X_DICT['X_PauliWords'] for Paulistrs, const in qubitOp.terms.items()][0]))\n",
    "\n",
    "list_of_X_constants = [const for qubitOp in X_DICT['X_PauliWords'] for Paulistrs, const in qubitOp.terms.items()]\n",
    "\n",
    "list_of_X_qNos = np.array(list_of_X_qNos)\n",
    "all_qubit_Nos = np.arange(0,N_system_qubits-1)\n",
    "\n",
    "common_qubits = np.intersect1d(list_of_X_qNos, all_qubit_Nos)\n",
    "\n",
    "missing_qubitNos = [i for i in all_qubit_Nos if i not in common_qubits]\n",
    "\n",
    "X_ops=[]\n",
    "X_sign =[]\n",
    "for qNo in range(N_system_qubits):\n",
    "    if qNo in list_of_X_qNos:\n",
    "        index = list_of_X_qNos.tolist().index(qNo)\n",
    "        X_ops.append(list_of_X_ops[index])\n",
    "        X_sign.append(list_of_X_constants[0])\n",
    "    else:\n",
    "        X_ops.append('I')\n",
    "        X_sign.append(1)\n",
    "\n",
    "print('X = 1i *', X_DICT['H_n_1'], '* (', P_n, ')')\n",
    "print('')  \n",
    "print('NOTE: YZ = iX ... and ... ZY = -iX ')\n",
    "print('')\n",
    "print('X =', X_ops, list_of_X_constants[0], X_sign)\n",
    "\n",
    "list_of_X_ops_matrices = [pauliDict[term] for i, term in enumerate(X_ops)]\n",
    "X_matrix = reduce(kron, list_of_X_ops_matrices)\n",
    "SIGN = reduce(np.multiply, list_of_X_constants)\n",
    "post_R_state = scipy.sparse.linalg.expm_multiply(-1j*SIGN*alpha/2*X_matrix, ansatz_state_ket)\n",
    "post_R_state\n",
    "\n",
    "list_of_Pn_qNos,list_of_Pn_ops = list(zip(*[Paulistrs for Paulistrs, const in P_n.terms.items()][0]))\n",
    "\n",
    "list_of_Pn_qNos = np.array(list_of_Pn_qNos)\n",
    "all_qubit_Nos = np.arange(0,N_system_qubits-1)\n",
    "\n",
    "common_qubits = np.intersect1d(list_of_Pn_qNos, all_qubit_Nos)\n",
    "\n",
    "missing_qubitNos = [i for i in all_qubit_Nos if i not in common_qubits]\n",
    "\n",
    "Pn_ops=[]\n",
    "for qNo in range(N_system_qubits):\n",
    "    if qNo in list_of_Pn_qNos:\n",
    "        index = list_of_Pn_qNos.tolist().index(qNo)\n",
    "        Pn_ops.append(list_of_Pn_ops[index])\n",
    "    else:\n",
    "        Pn_ops.append('I')\n",
    "print(Pn_ops)\n",
    "\n",
    "Change_basis_Pn_ops = [change_basis_dict[term] for term in Pn_ops]\n",
    "Change_basis_Pn_MATRIX = reduce(kron, Change_basis_Pn_ops)\n",
    "\n",
    "final_state = np.dot(Change_basis_Pn_MATRIX, post_R_state)\n",
    "print(final_state)\n",
    "\n",
    "print(P_n)\n",
    "\n",
    "output_dict={}\n",
    "for i in range(N_system_qubits**2):\n",
    "    output_dict[Get_state_as_str(N_system_qubits, i)] = int(1000*np.absolute(final_state[i][0])**2)\n",
    "\n",
    "m_dict={}\n",
    "for state in output_dict:\n",
    "    state_measured = np.take([bit for bit in state], list_of_Pn_qNos.tolist()) # selects qubit indices measured!\n",
    "    new_str = ''.join(state_measured)\n",
    "    if new_str in m_dict.keys():\n",
    "        m_dict[new_str] += output_dict[state]\n",
    "    else:\n",
    "        m_dict[new_str] = output_dict[state]\n",
    "\n",
    "print('')\n",
    "print(SIGN, FACTOR)\n",
    "expectation_value_by_parity(m_dict)"
   ]
  }
 ],
 "metadata": {
  "kernelspec": {
   "display_name": "Python 3",
   "language": "python",
   "name": "python3"
  },
  "language_info": {
   "codemirror_mode": {
    "name": "ipython",
    "version": 3
   },
   "file_extension": ".py",
   "mimetype": "text/x-python",
   "name": "python",
   "nbconvert_exporter": "python",
   "pygments_lexer": "ipython3",
   "version": "3.7.6"
  }
 },
 "nbformat": 4,
 "nbformat_minor": 4
}
