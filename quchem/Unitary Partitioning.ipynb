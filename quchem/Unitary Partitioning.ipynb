{
 "cells": [
  {
   "cell_type": "code",
   "execution_count": 1,
   "metadata": {},
   "outputs": [
    {
     "name": "stderr",
     "output_type": "stream",
     "text": [
      "Building Graph Edges: 100%|##########| 15/15 [00:00<00:00, 1800.03it/s]\n"
     ]
    },
    {
     "data": {
      "text/plain": [
       "{0: [(0.16592785032250768+0j) [Z0 Z3]],\n",
       " 1: [(0.1686889816869329+0j) [Z0 Z1]],\n",
       " 2: [(0.16592785032250768+0j) [Z1 Z2]],\n",
       " 3: [(0.12062523481381837+0j) [Z1 Z3]],\n",
       " 4: [(0.12062523481381837+0j) [Z0 Z2]],\n",
       " 5: [(-0.09706626861762624+0j) []],\n",
       " 6: [(0.174412876106516+0j) [Z2 Z3]],\n",
       " 7: [(-0.2234315367466397+0j) [Z3], (0.04530261550868928+0j) [Y0 X1 X2 Y3]],\n",
       " 8: [(0.171412826394024+0j) [Z1], (0.04530261550868928+0j) [X0 Y1 Y2 X3]],\n",
       " 9: [(-0.04530261550868928+0j) [Y0 Y1 X2 X3], (0.17141282639402405+0j) [Z0]],\n",
       " 10: [(-0.2234315367466397+0j) [Z2], (-0.04530261550868928+0j) [X0 X1 Y2 Y3]]}"
      ]
     },
     "execution_count": 1,
     "metadata": {},
     "output_type": "execute_result"
    }
   ],
   "source": [
    "from quchem.Hamiltonian_Generator_Functions import *\n",
    "from quchem.Graph import *\n",
    "### HAMILTONIAN start\n",
    "Molecule = 'H2'#'LiH'\n",
    "geometry = [('H', (0., 0., 0.)), ('H', (0., 0., 0.74))]#[('Li', (0., 0., 0.)), ('H', (0., 0., 1.45))]\n",
    "num_shots = 10000\n",
    "basis = 'sto-3g'\n",
    "\n",
    "\n",
    "### Get Hamiltonian\n",
    "Hamilt = Hamiltonian(Molecule,\n",
    "                     run_scf=1, run_mp2=1, run_cisd=1, run_ccsd=1, run_fci=1,\n",
    "                     basis=basis,\n",
    "                     multiplicity=1,\n",
    "                     geometry=geometry)  # normally None!\n",
    "QubitHamiltonian = Hamilt.Get_Qubit_Hamiltonian(threshold=None, transformation='JW')\n",
    "### HAMILTONIAN end\n",
    "\n",
    "#####################################\n",
    "\n",
    "Hamiltonian_graph_obj = Openfermion_Hamiltonian_Graph(QubitHamiltonian)\n",
    "\n",
    "commutativity_flag = 'AC' ## <- defines relationship between sets!!!\n",
    "plot_graph = False\n",
    "Graph_colouring_strategy='largest_first'\n",
    "anit_commuting_set = Hamiltonian_graph_obj.Get_Clique_Cover_as_QubitOp(commutativity_flag, Graph_colouring_strategy=Graph_colouring_strategy, plot_graph=plot_graph)\n",
    "anit_commuting_set"
   ]
  },
  {
   "cell_type": "code",
   "execution_count": null,
   "metadata": {},
   "outputs": [],
   "source": []
  },
  {
   "cell_type": "markdown",
   "metadata": {},
   "source": [
    "The Hamiltonian is a sum of PauliWords:\n",
    "\n",
    "$$H=\\sum_{j=1}^{m} \\alpha_{j} P_{j}$$\n",
    "\n",
    "In this there are completely anti-commuting sets, denoted as $H_{S}$:\n",
    "\n",
    "$$H_{S}=\\sum_{P_{j} \\in S} \\alpha_{j} P_{j}$$\n",
    "\n",
    "where:\n",
    "- $\\left\\{P_{j}, P_{k}\\right\\}=0$ for $\\forall P_{j} \\neq P_{k} \\in S$\n",
    "\n",
    "We want **want** the sum of the sqaures of the cofactors to be 1:\n",
    "\n",
    "$$H_{S}=\\sum_{P_{j} \\in S} \\alpha_{j} P_{j}=\\gamma_{l} \\sum_{P_{j} \\in S} \\beta_{j} P_{j}$$\n",
    "\n",
    "- aka: $\\sum_{j} \\alpha_{j}^{2}=1$\n",
    "- and $\\gamma_{l}$ is the correction factor\n",
    "\n",
    "SO overall we can turn our Hamiltonian into $l$ anti_commutings sets as:\n",
    "\n",
    "$$H=\\sum_{j=1}^{m} \\alpha_{j} P_{j}=\\sum_{l=1}^{m_{c}} \\gamma_{l} H_{S_{l}}$$"
   ]
  },
  {
   "cell_type": "code",
   "execution_count": 2,
   "metadata": {},
   "outputs": [],
   "source": [
    "from openfermion.ops import QubitOperator\n",
    "\n",
    "def Get_beta_j_cofactors(qubitOp_list):\n",
    "    \"\"\"\n",
    "    Function takes in list of anti-commuting PauliWord tuples (PauliWord, constant)\n",
    "    and returns the corresponding anti-commuting sets, but with new coefcators that\n",
    "    obey eq (10) in ArXiv:1908.08067 (sum_j B_j^2 = 1) and an overall correction (gamma_l).\n",
    "\n",
    "    Args:\n",
    "        anti_commuting_set (list): A list of Pauliwords, where each entry is a tuple of (PauliWord, constant)\n",
    "\n",
    "    Returns:\n",
    "        dict: A dictionary of normalised_anti_commuting_set (key = 'PauliWords') and correction factor (key = 'gamma_l')\n",
    "\n",
    "    .. code-block:: python\n",
    "       :emphasize-lines: 4\n",
    "\n",
    "       from quchem.Unitary_partitioning import *\n",
    "       Anti_commuting_set = [('I0 Z1 I2 I3', (0.1371657293179602+0j)), ('Y0 Y1 X2 X3', (-0.04919764587885283+0j))]\n",
    "\n",
    "       Get_beta_j_cofactors(Anti_commuting_set)\n",
    "       >> {'PauliWords': [  ('I0 Z1 I2 I3', (0.9412848366792171+0j)),\n",
    "                            ('Y0 Y1 X2 X3', (-0.33761347164735517+0j))\n",
    "                          ],\n",
    "          'gamma_l': (0.14572180914107857+0j)}\n",
    "\n",
    "    \"\"\"\n",
    "    factor = sum([const**2 for qubitOp in qubitOp_list for PauliStrs, const in qubitOp.terms.items()])\n",
    "    \n",
    "    normalised_qubitOp_list=[QubitOperator(PauliStrs, const/np.sqrt(factor)) for qubitOp in qubitOp_list for PauliStrs, const in qubitOp.terms.items()]\n",
    "    \n",
    "    return {'PauliWords': normalised_qubitOp_list, 'gamma_l':factor}"
   ]
  },
  {
   "cell_type": "code",
   "execution_count": 151,
   "metadata": {},
   "outputs": [
    {
     "data": {
      "text/plain": [
       "{'PauliWords': [(-0.9800573521796646+0j) [Z2],\n",
       "  (-0.1987148369865346+0j) [X0 X1 Y2 Y3]],\n",
       " 'gamma_l': (0.051973978584893145+0j)}"
      ]
     },
     "execution_count": 151,
     "metadata": {},
     "output_type": "execute_result"
    }
   ],
   "source": [
    "Get_beta_j_cofactors(anit_commuting_set[10])"
   ]
  },
  {
   "cell_type": "markdown",
   "metadata": {},
   "source": [
    "we can define an operator:\n",
    "\n",
    "$$\\mathcal{X}_{s k}=i P_{s} P_{k}$$"
   ]
  },
  {
   "cell_type": "code",
   "execution_count": 36,
   "metadata": {},
   "outputs": [],
   "source": [
    "def Get_X_sk(qubitOp_Ps, qubitOp_Pk):\n",
    "    \"\"\"\n",
    "\n",
    "    Converts P_s, P_k tuple into the corresponding X_sk term (PauliWord, correction_factor).\n",
    "    Where X_sk = i P_s P_k [note that beta cofactors omitted in definition. When multiplying the PauliWords,\n",
    "    they gain different cofactors, YX = -1i Z . This effect is taken into account by this function and the overall\n",
    "    effect is returned as the correction factor.\n",
    "\n",
    "    Args:\n",
    "        X_sk (tuple): A tuple of (Pauliword_s, Pauliword_k) where each is a tuple of (PauliWord, constant)\n",
    "\n",
    "    Returns:\n",
    "        tuple: i* (P_s P_k) as a (Pauliword, constant). Note that constant here is NOT cofactor from Hamiltonian\n",
    "               but in fact the correction term from multiplying all the Paulis. e.g. YX = -1i Z.\n",
    "\n",
    "    .. code-block:: python\n",
    "       :emphasize-lines: 7\n",
    "\n",
    "       from quchem.Unitary_partitioning import *\n",
    "       X_sk = (\n",
    "              ('Z0 I1 I2 I3', (0.8918294488900189+0j)), # P_s\n",
    "              ('Y0 X1 X2 Y3', (0.3198751585326103+0j))  # P_k\n",
    "            )\n",
    "\n",
    "       convert_X_sk(X_sk)\n",
    "       >> ('X0 X1 X2 Y3', (1+0j))\n",
    "\n",
    "    \"\"\"\n",
    "    convert_term ={\n",
    "        'II': (1,'I'),\n",
    "        'IX': (1,'X'),\n",
    "        'IY': (1,'Y'),\n",
    "        'IZ': (1,'Z'),\n",
    "\n",
    "        'XI': (1,'X'),\n",
    "        'XX': (1,'I'),\n",
    "        'XY': (1j,'Z'),\n",
    "        'XZ': (-1j,'Y'),\n",
    "\n",
    "        'YI': (1,'Y'),\n",
    "        'YX': (-1j,'Z'),\n",
    "        'YY': (1,'I'),\n",
    "        'YZ': (1j,'X'),\n",
    "\n",
    "        'ZI': (1,'Z'),\n",
    "        'ZX': (1j,'Y'),\n",
    "        'ZY': (-1j,'X'),\n",
    "        'ZZ': (1,'I')\n",
    "    }\n",
    "    \n",
    "    \n",
    "    PauliStr_tuples_Ps = [tup for PauliStrs, const in qubitOp_Ps.terms.items() for tup in PauliStrs]\n",
    "    qubitNo_Ps, PauliStr_Ps = zip(*PauliStr_tuples_Ps)\n",
    "    qubitNo_Ps = np.array(qubitNo_Ps)\n",
    "    \n",
    "    \n",
    "\n",
    "    PauliStr_tuples_Pk = [tup for PauliStrs, const in qubitOp_Pk.terms.items() for tup in PauliStrs]\n",
    "    qubitNo_Pk, PauliStr_Pk = zip(*PauliStr_tuples_Pk)\n",
    "    qubitNo_Pk = np.array(qubitNo_Pk)\n",
    "    \n",
    "    common_qubits = np.intersect1d(qubitNo_Ps, qubitNo_Pk)\n",
    "    \n",
    "    PauliStr_Ps_common = np.take(PauliStr_Ps, np.where(np.isin(qubitNo_Ps, common_qubits) == True)).flatten()\n",
    "    PauliStr_Pk_common = np.take(PauliStr_Pk, np.where(np.isin(qubitNo_Pk, common_qubits) == True)).flatten()\n",
    "        \n",
    "    new_paulistr_list=[]\n",
    "    new_factor =[]\n",
    "    for index, pauli_str_Ps in enumerate(PauliStr_Ps_common):\n",
    "        \n",
    "        pauli_str_Pk = PauliStr_Pk_common[index]\n",
    "        qubitNo = common_qubits[index]\n",
    "        \n",
    "        combined_pauli_str = pauli_str_Ps+pauli_str_Pk\n",
    "        \n",
    "        if convert_term[combined_pauli_str][1] != 'I':\n",
    "            new_pauli_str = convert_term[combined_pauli_str][1] + str(qubitNo)\n",
    "            new_paulistr_list.append(new_pauli_str)\n",
    "\n",
    "            new_factor.append(convert_term[combined_pauli_str][0])\n",
    "       \n",
    "    new_constant = np.prod(new_factor)\n",
    "    \n",
    "    for index, qubitNo in enumerate(qubitNo_Ps):\n",
    "        if qubitNo not in common_qubits:\n",
    "            Paulistring_Ps = PauliStr_Ps[index]\n",
    "            new_paulistr_list.append(Paulistring_Ps+str(qubitNo))\n",
    "    \n",
    "\n",
    "    for index, qubitNo in enumerate(qubitNo_Pk):\n",
    "        if qubitNo not in common_qubits:\n",
    "            Paulistring_Pk = PauliStr_Pk[index]\n",
    "            new_paulistr_list.append(Paulistring_Pk+str(qubitNo))\n",
    "    \n",
    "    seperator=' '\n",
    "    pauliStr_list = seperator.join(new_paulistr_list)\n",
    "    \n",
    "    \n",
    "    X_sk = QubitOperator(pauliStr_list, 1j*new_constant)\n",
    "            \n",
    "    return X_sk"
   ]
  },
  {
   "cell_type": "code",
   "execution_count": 5,
   "metadata": {},
   "outputs": [
    {
     "data": {
      "text/plain": [
       "1j [Y1 X2 Z3]"
      ]
     },
     "execution_count": 5,
     "metadata": {},
     "output_type": "execute_result"
    }
   ],
   "source": [
    "aa = QubitOperator('Y0 X1 X2 X3', 0.75)\n",
    "bb = QubitOperator('Y0 Z1 Y3',0.75)\n",
    "\n",
    "Get_X_sk(aa, bb)"
   ]
  },
  {
   "cell_type": "code",
   "execution_count": 6,
   "metadata": {},
   "outputs": [
    {
     "data": {
      "text/plain": [
       "[0.75]"
      ]
     },
     "execution_count": 6,
     "metadata": {},
     "output_type": "execute_result"
    }
   ],
   "source": [
    "list( aa.terms.values())"
   ]
  },
  {
   "cell_type": "code",
   "execution_count": 152,
   "metadata": {},
   "outputs": [],
   "source": [
    "def Get_X_sk_operators(normalised_anticommuting_set_DICT, S=0): #\n",
    "    \"\"\"\n",
    "\n",
    "    Function takes in a normalised_anti_commuting_set, which is a list of PauliWord tuples (PauliWord, constant),\n",
    "    and returns each R_sk operator according to eq (11) in ArXiv:1908.08067.\n",
    "\n",
    "    Args:\n",
    "        normalised_anticommuting_set_DICT (list): A list of Pauliwords, where each entry is a tuple of (PauliWord, constant)\n",
    "        S (optional, int) = index for PauliWord_S term. If not stated then takes first entry (index = 0)\n",
    "\n",
    "    Returns:\n",
    "        dict: A dictionary of 'PauliWord_S' yields (PauliWord, correction_factor_due_matrix_multiplication), t\n",
    "        he normalisation correction value 'gamma_l' (complex) and each 'X_sk_theta_sk'... which is a list of\n",
    "        dictionaries that are defined with 'X_sk' = (PauliWord, correction_factor_due_matrix_multiplication) and\n",
    "        'theta_sk' is rotational angle in radians. NOTE: each element of X_sk_theta_sk dict is a list of sub\n",
    "        dictionaries each associated to one sk term.\n",
    "\n",
    "    .. code-block:: python\n",
    "       :emphasize-lines: 9\n",
    "\n",
    "       from quchem.Unitary_partitioning import *\n",
    "       normalised_anticommuting_set_DICT = {\n",
    "                                            'PauliWords': [   ('Z0 I1 I2 I3', (0.8918294488900189+0j)),\n",
    "                                                              ('Y0 X1 X2 Y3', (0.3198751585326103+0j)),\n",
    "                                                              ('X0 I1 I2 I3', (0.3198751585326103+0j))   ],\n",
    "                                            'gamma_l': (0.1538026463340925+0j)\n",
    "                                            }\n",
    "\n",
    "       Get_X_sk_operators(normalised_anticommuting_set_DICT, S=0)\n",
    "        >> {\n",
    "             'X_sk_theta_sk': [   {'X_sk': ('X0 X1 X2 Y3', (1+0j)), 'theta_sk': (0.34438034648829496+0j)},\n",
    "                                    {'X_sk': ('Y0 I1 I2 I3', (-1+0j)), 'theta_sk': (0.325597719954341+0j)}\n",
    "                                ],\n",
    "             'PauliWord_S': ('Z0 I1 I2 I3', (1+0j)),\n",
    "             'gamma_l': (0.1538026463340925+0j)\n",
    "           }\n",
    "\n",
    "    \"\"\"\n",
    "\n",
    "    qubit_Op_list_normalisted = normalised_anticommuting_set_DICT['PauliWords']\n",
    "\n",
    "    if len(qubit_Op_list_normalisted) > 1:\n",
    "\n",
    "        k_indexes = [index for index in range(len(qubit_Op_list_normalisted)) if\n",
    "                   index != S]\n",
    "\n",
    "        Op_list = []\n",
    "        beta_S = list(qubit_Op_list_normalisted[S].terms.values())[0]\n",
    "\n",
    "        for k in k_indexes:\n",
    "            X_sk_op =Get_X_sk(qubit_Op_list_normalisted[S], qubit_Op_list_normalisted[k])\n",
    "\n",
    "            beta_K = list(qubit_Op_list_normalisted[k].terms.values())[0]\n",
    "\n",
    "            tan_theta_sk = beta_K / beta_S\n",
    "            theta_sk = np.arctan(tan_theta_sk)\n",
    "            Op_list.append({'X_sk': X_sk_op,\n",
    "                            'theta_sk_over2': theta_sk/2})  # , 'factor': normalised_anti_commuting_sets[key]['factor']})\n",
    "\n",
    "            beta_S = beta_K*np.sin(theta_sk) + beta_S*np.cos(theta_sk)\n",
    "        \n",
    "        if beta_S<0:\n",
    "            sign_gamma_l = -1\n",
    "        else:\n",
    "            sign_gamma_l = 1\n",
    "#         return {'X_sk_theta_sk': Op_list, 'PauliWord_S': qubit_Op_list_normalisted[S],'gamma_l': normalised_anticommuting_set_DICT['gamma_l']}\n",
    "        return {'X_sk_and_theta_terms': Op_list, 'PauliWord_S': QubitOperator(list(qubit_Op_list_normalisted[S].terms.keys())[0],1),\n",
    "                'gamma_l': normalised_anticommuting_set_DICT['gamma_l']*sign_gamma_l}\n",
    "\n"
   ]
  },
  {
   "cell_type": "code",
   "execution_count": 178,
   "metadata": {},
   "outputs": [
    {
     "data": {
      "text/plain": [
       "{'X_sk_and_theta_terms': [{'X_sk': (1+0j) [X0 Y1 X2 X3],\n",
       "   'theta_sk_over2': (-0.12919088186540034+0j)}],\n",
       " 'PauliWord_S': 1 [Z0],\n",
       " 'gamma_l': (0.03143468402431596+0j)}"
      ]
     },
     "execution_count": 178,
     "metadata": {},
     "output_type": "execute_result"
    }
   ],
   "source": [
    "diction = Get_beta_j_cofactors(anit_commuting_set[9])\n",
    "Get_X_sk_operators(diction, S=1)\n",
    "\n",
    "## PROBLEM ^^ the .terms.items() <-- seems to gumble pauliwords and so indexing of S becomes a problem!"
   ]
  },
  {
   "cell_type": "markdown",
   "metadata": {},
   "source": [
    "$$U=e^{-i \\theta Z_{0} Z_{1} Z_{2} Z_{3}} ==> R_z(2\\theta)$$"
   ]
  },
  {
   "cell_type": "markdown",
   "metadata": {},
   "source": [
    "SO:\n",
    "\n",
    "$$R_{s k}=\\exp \\left(-i \\frac{\\theta_{s k}}{2} \\mathcal{X}_{s k}\\right) == R_z(\\theta_{s k})$$"
   ]
  },
  {
   "cell_type": "code",
   "execution_count": 199,
   "metadata": {},
   "outputs": [
    {
     "name": "stdout",
     "output_type": "stream",
     "text": [
      "0: ────────────────────────────────────────────────────────H──────────@───────────────────────────@───────────H───\n",
      "                                                                      │                           │\n",
      "1: ──────────────@─────────────────────────@───────────────H──────────X───@───────────────────@───X───────────H───\n",
      "                 │                         │                              │                   │\n",
      "2: ───H──────────X───@─────────────────@───X───────────H───Rx(0.5π)───────X───@───────────@───X───Rx(-0.5π)───────\n",
      "                     │                 │                                      │           │\n",
      "3: ───Rx(0.5π)───────X───Rz(-0.667π)───X───Rx(-0.5π)───────H──────────────────X───Rz(π)───X───H───────────────────\n"
     ]
    }
   ],
   "source": [
    "from quchem.quantum_circuit_functions import full_exponentiated_PauliWord_circuit\n",
    "from openfermion.ops import QubitOperator\n",
    "\n",
    "def Build_reduction_circuit(normalised_anticommuting_set_X_sk_DICT):\n",
    "\n",
    "    for term in normalised_anticommuting_set_X_sk_DICT['X_sk_and_theta_terms']:\n",
    "        \n",
    "        pauliword_X_sk=list(term['X_sk'].terms.keys())[0]\n",
    "        const_X_sk=list(term['X_sk'].terms.values())[0]\n",
    "        \n",
    "        theta_sk = term['theta_sk_over2'] *2\n",
    "        \n",
    "        full_exp_circ_obj = full_exponentiated_PauliWord_circuit(QubitOperator(pauliword_X_sk, -0.5j), theta_sk*const_X_sk)\n",
    "        \n",
    "        circuit = cirq.Circuit(cirq.decompose_once((full_exp_circ_obj(*cirq.LineQubit.range(full_exp_circ_obj.num_qubits())))))\n",
    "        \n",
    "        yield circuit\n",
    "\n",
    "X_sk_dict = {'X_sk_and_theta_terms': [{'X_sk': QubitOperator('X0 X1 Y2 X3', 1),\n",
    "   'theta_sk_over2': np.pi/2}, {'X_sk': QubitOperator('Z1 X2 Y3', -1),\n",
    "   'theta_sk_over2': np.pi/3}],\n",
    " 'PauliWord_S': QubitOperator('X0 Y1 Y2 X3', 1),\n",
    " 'gamma_l': (0.03143468402431594+0j)}\n",
    "pp = Build_reduction_circuit(X_sk_dict)\n",
    "print(cirq.Circuit(pp))\n"
   ]
  },
  {
   "cell_type": "markdown",
   "metadata": {},
   "source": [
    "$$R_{S} H_{S} R_{S}^{\\dagger}=P_{s}$$\n",
    "\n",
    "aka we want: $$H_{S}=  R_{S}^{\\dagger} P_{s} R_{S}$$\n",
    "\n",
    "to get this via a quantum circuit we do $P_{s}R_{S}$... THEN measure:\n",
    "\n",
    "$$M_{z} U_{s} R_{S} |\\psi_{UCCSD}\\rangle == \\langle \\psi_{UCCSD}|R_{S}^{\\dagger} P_{s} R_{S}|\\psi_{UCCSD}\\rangle$$ \n",
    "\n",
    "- $U_{s}$ is change of basis to measure  $P_{s}$ in comp basis!\n",
    "- $M_{z}$ is measurement in Z\n",
    "\n"
   ]
  },
  {
   "cell_type": "code",
   "execution_count": null,
   "metadata": {},
   "outputs": [],
   "source": []
  },
  {
   "cell_type": "code",
   "execution_count": 200,
   "metadata": {},
   "outputs": [],
   "source": [
    "def Generate_Full_Q_Circuit_unitary_part(Full_Ansatz_Q_Circuit, normalised_anticommuting_set_X_sk_DICT):\n",
    "    \"\"\"\n",
    "     TODO\n",
    "\n",
    "    Args:\n",
    "        \n",
    "\n",
    "    Returns:\n",
    "        full_circuit (cirq.circuits.circuit.Circuit): Full cirq VQE circuit\n",
    "\n",
    "    \"\"\"\n",
    "    \n",
    "    Reduction_circuit_obj = Build_reduction_circuit(normalised_anticommuting_set_X_sk_DICT)\n",
    "    Reduction_circuit_circ = cirq.Circuit(Reduction_circuit_obj)\n",
    "    \n",
    "\n",
    "    measure_PauliS_in_Z_basis_obj = change_pauliword_to_Z_basis_then_measure(normalised_anticommuting_set_X_sk_DICT['PauliWord_S'])\n",
    "    measure_PauliS_in_Z_basis_Q_circ = cirq.Circuit(cirq.decompose_once(\n",
    "        (measure_PauliS_in_Z_basis_obj(*cirq.LineQubit.range(measure_PauliS_in_Z_basis_obj.num_qubits())))))\n",
    "    \n",
    "    full_circuit = cirq.Circuit(\n",
    "       [\n",
    "           Full_Ansatz_Q_Circuit.all_operations(),\n",
    "           *Reduction_circuit_circ.all_operations(),\n",
    "           *measure_PauliS_in_Z_basis_Q_circ.all_operations(),\n",
    "       ]\n",
    "    )\n",
    "    return full_circuit"
   ]
  },
  {
   "cell_type": "code",
   "execution_count": null,
   "metadata": {},
   "outputs": [],
   "source": []
  },
  {
   "cell_type": "code",
   "execution_count": 201,
   "metadata": {},
   "outputs": [],
   "source": [
    "# ANSATZ CIRCUIT\n",
    "from quchem.Ansatz_Generator_Functions import *\n",
    "ansatz_obj = Ansatz(Hamilt.molecule.n_electrons, Hamilt.molecule.n_qubits)\n",
    "\n",
    "Sec_Quant_CC_ia_ops, Sec_Quant_CC_ijab_ops, theta_parameters_ia, theta_parameters_ijab = ansatz_obj.Get_ia_and_ijab_terms()\n",
    "\n",
    "Qubit_Op_list_Second_Quant_CC_Ops_ia, Qubit_Op_list_Second_Quant_CC_Ops_ijab = ansatz_obj.UCCSD_single_trotter_step(Sec_Quant_CC_ia_ops, Sec_Quant_CC_ijab_ops,\n",
    "                                                                                                                    transformation='JW')\n",
    "\n",
    "full_ansatz_Q_Circ = Ansatz_Circuit(Qubit_Op_list_Second_Quant_CC_Ops_ia, Qubit_Op_list_Second_Quant_CC_Ops_ijab,\n",
    "             Hamilt.molecule.n_qubits, Hamilt.molecule.n_electrons)\n",
    "\n",
    "ansatz_cirq_circuit = full_ansatz_Q_Circ.Get_Full_HF_UCCSD_QC(theta_parameters_ia, theta_parameters_ijab)"
   ]
  },
  {
   "cell_type": "code",
   "execution_count": 202,
   "metadata": {},
   "outputs": [
    {
     "data": {
      "text/html": [
       "<pre style=\"overflow: auto; white-space: pre;\">0: ───X───Rx(0.5π)───@───────────────────────@───Rx(-0.5π)───H───@──────────────────────@───────────H──────────H─────────────────────────────────────────────────────────────────────────────────────────────@───────────────────────────────@───────────H──────────Rx(0.5π)───@──────────────────────────────@───────────Rx(-0.5π)───Rx(0.5π)───@──────────────────────────────@───Rx(-0.5π)───H──────────@──────────────────────────────@──────────H───────────Rx(0.5π)───@───────────────────────────────────────@───────────Rx(-0.5π)───H──────────@───────────────────────────────────────@───────────H───────────H───@───────────────────────────────────────@──────────H───Rx(0.5π)───@──────────────────────────────────────@───Rx(-0.5π)───H───@────────────────────────────────────────────────────@───────────H──────────Ry(-0.5π)───M───\n",
       "                     │                       │                   │                      │                                                                                                                    │                               │                                 │                              │                                  │                              │                          │                              │                                 │                                       │                                  │                                       │                           │                                       │                         │                                      │                   │                                                    │                                  │\n",
       "1: ───X──────────────X───@───────────────@───X───────────────────X───@──────────────@───X───────────Rx(0.5π)───@───────────────────────@───Rx(-0.5π)───H───@──────────────────────@───────────H──────────H───X───@───────────────────────@───X───────────H──────────Rx(0.5π)───X───@──────────────────────@───X───────────Rx(-0.5π)───H──────────X───@──────────────────────@───X───H───────────Rx(0.5π)───X───@──────────────────────@───X──────────Rx(-0.5π)───H──────────X───@───────────────────────@───────────X───────────H───────────Rx(0.5π)───X───@───────────────────────@───────────X───────────Rx(-0.5π)───H───X───@───────────────────────@───────────X──────────H───Rx(0.5π)───X───@──────────────────────@───────────X───Rx(-0.5π)───H───X───@────────────────────────────────────────────@───X───────────H──────────Rx(0.5π)────M───\n",
       "                         │               │                           │              │                          │                       │                   │                      │                              │                       │                                         │                      │                                          │                      │                                  │                      │                                         │                       │                                                  │                       │                                           │                       │                                         │                      │                                   │                                            │                                      │\n",
       "2: ───H──────────────────X───Rz(-0.0π)───X───H───Rx(0.5π)────────────X───Rz(0.0π)───X───Rx(-0.5π)──────────────X───@───────────────@───X───────────────────X───@──────────────@───X───────────Rx(0.5π)───────────X───@───────────────@───X───Rx(-0.5π)───Rx(0.5π)──────────────────X───@──────────────@───X───Rx(-0.5π)───H──────────────────────────X───@──────────────@───X───H───H──────────────────────────X───@──────────────@───X───H──────────Rx(0.5π)───────────────────X───@───────────────@───X───────────Rx(-0.5π)───Rx(0.5π)───────────────────X───@───────────────@───X───────────Rx(-0.5π)───H───────────────────X───@───────────────@───X───────────H──────────H──────────────────X───@──────────────@───X───────────H───Rx(0.5π)────────────X───@────────────────────────────────────@───X───Rx(-0.5π)───Rx(0.5π)───────────────M───\n",
       "                                                                                                                   │               │                           │              │                                      │               │                                                 │              │                                                  │              │                                          │              │                                                 │               │                                                          │               │                                                   │               │                                                 │              │                                           │                                    │                                          │\n",
       "3: ───H────────────────────────────────────────────────────────────────────────────────────────────────────────────X───Rz(-0.0π)───X───H───Rx(0.5π)────────────X───Rz(0.0π)───X───Rx(-0.5π)───H──────────────────────X───Rz(-0.0π)───X───H───H─────────────────────────────────────────X───Rz(0.0π)───X───H───H──────────────────────────────────────────X───Rz(0.0π)───X───H───H──────────────────────────────────X───Rz(0.0π)───X───H───Rx(0.5π)──────────────────────────────────X───Rz(-0.0π)───X───Rx(-0.5π)───Rx(0.5π)───────────────────────────────────X───Rz(-0.0π)───X───Rx(-0.5π)───Rx(0.5π)────────────────────────────X───Rz(-0.0π)───X───Rx(-0.5π)───Rx(0.5π)──────────────────────────X───Rz(0.0π)───X───Rx(-0.5π)───H───────────────────────────X───Rz((-0.41775453019488173+0j)π)───X───H───Ry(-0.5π)──────────────────────────M───</pre>"
      ],
      "text/plain": [
       "0: ───X───Rx(0.5π)───@───────────────────────@───Rx(-0.5π)───H───@──────────────────────@───────────H──────────H─────────────────────────────────────────────────────────────────────────────────────────────@───────────────────────────────@───────────H──────────Rx(0.5π)───@──────────────────────────────@───────────Rx(-0.5π)───Rx(0.5π)───@──────────────────────────────@───Rx(-0.5π)───H──────────@──────────────────────────────@──────────H───────────Rx(0.5π)───@───────────────────────────────────────@───────────Rx(-0.5π)───H──────────@───────────────────────────────────────@───────────H───────────H───@───────────────────────────────────────@──────────H───Rx(0.5π)───@──────────────────────────────────────@───Rx(-0.5π)───H───@────────────────────────────────────────────────────@───────────H──────────Ry(-0.5π)───M───\n",
       "                     │                       │                   │                      │                                                                                                                    │                               │                                 │                              │                                  │                              │                          │                              │                                 │                                       │                                  │                                       │                           │                                       │                         │                                      │                   │                                                    │                                  │\n",
       "1: ───X──────────────X───@───────────────@───X───────────────────X───@──────────────@───X───────────Rx(0.5π)───@───────────────────────@───Rx(-0.5π)───H───@──────────────────────@───────────H──────────H───X───@───────────────────────@───X───────────H──────────Rx(0.5π)───X───@──────────────────────@───X───────────Rx(-0.5π)───H──────────X───@──────────────────────@───X───H───────────Rx(0.5π)───X───@──────────────────────@───X──────────Rx(-0.5π)───H──────────X───@───────────────────────@───────────X───────────H───────────Rx(0.5π)───X───@───────────────────────@───────────X───────────Rx(-0.5π)───H───X───@───────────────────────@───────────X──────────H───Rx(0.5π)───X───@──────────────────────@───────────X───Rx(-0.5π)───H───X───@────────────────────────────────────────────@───X───────────H──────────Rx(0.5π)────M───\n",
       "                         │               │                           │              │                          │                       │                   │                      │                              │                       │                                         │                      │                                          │                      │                                  │                      │                                         │                       │                                                  │                       │                                           │                       │                                         │                      │                                   │                                            │                                      │\n",
       "2: ───H──────────────────X───Rz(-0.0π)───X───H───Rx(0.5π)────────────X───Rz(0.0π)───X───Rx(-0.5π)──────────────X───@───────────────@───X───────────────────X───@──────────────@───X───────────Rx(0.5π)───────────X───@───────────────@───X───Rx(-0.5π)───Rx(0.5π)──────────────────X───@──────────────@───X───Rx(-0.5π)───H──────────────────────────X───@──────────────@───X───H───H──────────────────────────X───@──────────────@───X───H──────────Rx(0.5π)───────────────────X───@───────────────@───X───────────Rx(-0.5π)───Rx(0.5π)───────────────────X───@───────────────@───X───────────Rx(-0.5π)───H───────────────────X───@───────────────@───X───────────H──────────H──────────────────X───@──────────────@───X───────────H───Rx(0.5π)────────────X───@────────────────────────────────────@───X───Rx(-0.5π)───Rx(0.5π)───────────────M───\n",
       "                                                                                                                   │               │                           │              │                                      │               │                                                 │              │                                                  │              │                                          │              │                                                 │               │                                                          │               │                                                   │               │                                                 │              │                                           │                                    │                                          │\n",
       "3: ───H────────────────────────────────────────────────────────────────────────────────────────────────────────────X───Rz(-0.0π)───X───H───Rx(0.5π)────────────X───Rz(0.0π)───X───Rx(-0.5π)───H──────────────────────X───Rz(-0.0π)───X───H───H─────────────────────────────────────────X───Rz(0.0π)───X───H───H──────────────────────────────────────────X───Rz(0.0π)───X───H───H──────────────────────────────────X───Rz(0.0π)───X───H───Rx(0.5π)──────────────────────────────────X───Rz(-0.0π)───X───Rx(-0.5π)───Rx(0.5π)───────────────────────────────────X───Rz(-0.0π)───X───Rx(-0.5π)───Rx(0.5π)────────────────────────────X───Rz(-0.0π)───X───Rx(-0.5π)───Rx(0.5π)──────────────────────────X───Rz(0.0π)───X───Rx(-0.5π)───H───────────────────────────X───Rz((-0.41775453019488173+0j)π)───X───H───Ry(-0.5π)──────────────────────────M───"
      ]
     },
     "execution_count": 202,
     "metadata": {},
     "output_type": "execute_result"
    }
   ],
   "source": [
    "diction = Get_beta_j_cofactors(anit_commuting_set[8])\n",
    "X_sk_dict = Get_X_sk_operators(diction, S=1)\n",
    "\n",
    "Generate_Full_Q_Circuit_unitary_part(ansatz_cirq_circuit,X_sk_dict)"
   ]
  },
  {
   "cell_type": "code",
   "execution_count": 203,
   "metadata": {},
   "outputs": [],
   "source": [
    "from quchem.Simulating_Quantum_Circuit import *\n",
    "class VQE_Experiment_UP():\n",
    "    def __init__(self, graph_dict_sets, ansatz_circuit, n_shots, S_key_dict=None):\n",
    "        self.graph_dict_sets = graph_dict_sets\n",
    "        self.ansatz_circuit = ansatz_circuit\n",
    "        self.S_key_dict = S_key_dict\n",
    "        self.n_shots = n_shots\n",
    "\n",
    "    def Calc_Energy(self):\n",
    "\n",
    "        E_list=[]\n",
    "        for set_key in self.graph_dict_sets:\n",
    "            \n",
    "            if len(self.graph_dict_sets[set_key])>1:\n",
    "\n",
    "                normalised_set = Get_beta_j_cofactors(self.graph_dict_sets[set_key])\n",
    "\n",
    "                if self.S_key_dict is None:\n",
    "                    X_sk_dict = Get_X_sk_operators(normalised_set, S=0)\n",
    "                else:\n",
    "                    X_sk_dict = Get_X_sk_operators(normalised_set, S=self.S_key_dict[set_key])  \n",
    "                \n",
    "                Q_circuit = Generate_Full_Q_Circuit_unitary_part(ansatz_cirq_circuit,X_sk_dict)\n",
    "                hist_key_str = Get_Histogram_key(X_sk_dict['PauliWord_S'])\n",
    "                int_state_counter = Simulate_Quantum_Circuit(Q_circuit, self.n_shots, hist_key_str)\n",
    "                binary_state_counter = Return_as_binary(int_state_counter, hist_key_str)\n",
    "                exp_result = expectation_value_by_parity(binary_state_counter)\n",
    "                E_list.append(exp_result*X_sk_dict['gamma_l'])\n",
    "\n",
    "            else:\n",
    "                qubitOp = self.graph_dict_sets[set_key][0]\n",
    "                \n",
    "                for PauliWord, const in qubitOp.terms.items():\n",
    "                    if PauliWord is not ():\n",
    "                        Q_circuit = Generate_Full_Q_Circuit(self.ansatz_circuit, qubitOp)\n",
    "                        hist_key_str = Get_Histogram_key(qubitOp)\n",
    "                        int_state_counter = Simulate_Quantum_Circuit(Q_circuit, self.n_shots, hist_key_str)\n",
    "                        binary_state_counter = Return_as_binary(int_state_counter, hist_key_str)\n",
    "                        exp_result = expectation_value_by_parity(binary_state_counter)\n",
    "                        E_list.append(exp_result*const)\n",
    "                    else:\n",
    "                        E_list.append(const)\n",
    "        return sum(E_list).real\n",
    "\n",
    "    def Get_wavefunction_of_state(self, sig_figs=3):\n",
    "        return Get_wavefunction(self.ansatz_circuit, sig_figs=sig_figs)\n"
   ]
  },
  {
   "cell_type": "code",
   "execution_count": 204,
   "metadata": {},
   "outputs": [
    {
     "name": "stderr",
     "output_type": "stream",
     "text": [
      "Building Graph Edges: 100%|##########| 15/15 [00:00<00:00, 519.35it/s]\n"
     ]
    },
    {
     "data": {
      "text/plain": [
       "-0.4900293170562965"
      ]
     },
     "execution_count": 204,
     "metadata": {},
     "output_type": "execute_result"
    }
   ],
   "source": [
    "Hamiltonian_graph_obj = Openfermion_Hamiltonian_Graph(QubitHamiltonian)\n",
    "commutativity_flag = 'AC' ## <- defines relationship between sets!!!\n",
    "plot_graph = False\n",
    "Graph_colouring_strategy='largest_first'\n",
    "anit_commuting_set = Hamiltonian_graph_obj.Get_Clique_Cover_as_QubitOp(commutativity_flag, Graph_colouring_strategy=Graph_colouring_strategy, plot_graph=plot_graph)\n",
    "\n",
    "\n",
    "# ANSATZ CIRCUIT\n",
    "from quchem.Ansatz_Generator_Functions import *\n",
    "ansatz_obj = Ansatz(Hamilt.molecule.n_electrons, Hamilt.molecule.n_qubits)\n",
    "Sec_Quant_CC_ia_ops, Sec_Quant_CC_ijab_ops, theta_parameters_ia, theta_parameters_ijab = ansatz_obj.Get_ia_and_ijab_terms()\n",
    "Qubit_Op_list_Second_Quant_CC_Ops_ia, Qubit_Op_list_Second_Quant_CC_Ops_ijab = ansatz_obj.UCCSD_single_trotter_step(Sec_Quant_CC_ia_ops, Sec_Quant_CC_ijab_ops,transformation='JW')\n",
    "full_ansatz_Q_Circ = Ansatz_Circuit(Qubit_Op_list_Second_Quant_CC_Ops_ia, Qubit_Op_list_Second_Quant_CC_Ops_ijab,\n",
    "             Hamilt.molecule.n_qubits, Hamilt.molecule.n_electrons)\n",
    "ansatz_cirq_circuit = full_ansatz_Q_Circ.Get_Full_HF_UCCSD_QC(theta_parameters_ia, theta_parameters_ijab)\n",
    "\n",
    "\n",
    "n_shots=1000\n",
    "experiment = VQE_Experiment_UP(anit_commuting_set, ansatz_cirq_circuit, n_shots, S_key_dict=None)\n",
    "experiment.Calc_Energy()"
   ]
  },
  {
   "cell_type": "code",
   "execution_count": 205,
   "metadata": {},
   "outputs": [
    {
     "name": "stdout",
     "output_type": "stream",
     "text": [
      "0: Input_to_Funct: [0. 1. 2.]: Output: -0.4899446569093204\n",
      "1: Input_to_Funct: [0. 1. 2.]: Output: -0.48971246724731954\n",
      "2: Input_to_Funct: [0.   1.   2.05]: Output: -0.48943919899619753\n",
      "3: Input_to_Funct: [0.   1.   2.05]: Output: -0.4900218081500951\n",
      "4: Input_to_Funct: [0.   1.   2.05]: Output: -0.49019112844404733\n",
      "5: Input_to_Funct: [0.   1.   2.05]: Output: -0.49017184063385366\n",
      "6: Input_to_Funct: [-3.12500000e-05  1.00416667e+00  2.04583333e+00]: Output: -0.4900678926766839\n",
      "7: Input_to_Funct: [-3.12500000e-05  1.00416667e+00  2.04583333e+00]: Output: -0.4899228661303929\n",
      "8: Input_to_Funct: [-3.12500000e-05  1.00416667e+00  2.04583333e+00]: Output: -0.4887744326640576\n",
      "9: Input_to_Funct: [-3.12500000e-05  1.00416667e+00  2.04583333e+00]: Output: -0.4892723816709791\n",
      "10: Input_to_Funct: [-3.12500000e-05  1.00416667e+00  2.04583333e+00]: Output: -0.4903193701488784\n",
      "11: Input_to_Funct: [-3.12500000e-05  1.00416667e+00  2.04583333e+00]: Output: -0.49085839774492096\n",
      "12: Input_to_Funct: [-3.12500000e-05  1.00416667e+00  2.04583333e+00]: Output: -0.4904233181060482\n",
      "13: Input_to_Funct: [-3.12500000e-05  1.00416667e+00  2.04583333e+00]: Output: -0.4888180142219126\n",
      "14: Input_to_Funct: [-3.12500000e-05  1.00416667e+00  2.04583333e+00]: Output: -0.48990107535146543\n",
      "15: Input_to_Funct: [-2.89713542e-05  1.00366753e+00  2.04587674e+00]: Output: -0.4889412499892761\n",
      "16: Input_to_Funct: [-2.89713542e-05  1.00366753e+00  2.04587674e+00]: Output: -0.49017184063385366\n",
      "17: Input_to_Funct: [-2.89713542e-05  1.00366753e+00  2.04587674e+00]: Output: -0.48912985809342197\n",
      "18: Input_to_Funct: [-2.89713542e-05  1.00366753e+00  2.04587674e+00]: Output: -0.49000502330863527\n",
      "19: Input_to_Funct: [-2.89713542e-05  1.00366753e+00  2.04587674e+00]: Output: -0.49027578859102344\n",
      "20: Input_to_Funct: [-2.89713542e-05  1.00366753e+00  2.04587674e+00]: Output: -0.48987678160380416\n",
      "21: Input_to_Funct: [-2.89713542e-05  1.00366753e+00  2.04587674e+00]: Output: -0.48990357832019926\n",
      "22: Input_to_Funct: [-2.89713542e-05  1.00366753e+00  2.04587674e+00]: Output: -0.4898599967623443\n",
      "23: Input_to_Funct: [-2.89713542e-05  1.00366753e+00  2.04587674e+00]: Output: -0.4887719296953239\n",
      "24: Input_to_Funct: [-2.89713542e-05  1.00366753e+00  2.04587674e+00]: Output: -0.4896303100690772\n",
      "25: Input_to_Funct: [-2.89713542e-05  1.00366753e+00  2.04587674e+00]: Output: -0.4897149702160533\n",
      "26: Input_to_Funct: [-2.89713542e-05  1.00366753e+00  2.04587674e+00]: Output: -0.49021291922297483\n",
      "27: Input_to_Funct: [-2.89713542e-05  1.00366753e+00  2.04587674e+00]: Output: -0.4901886254753135\n",
      "28: Input_to_Funct: [-2.89713542e-05  1.00366753e+00  2.04587674e+00]: Output: -0.48988178754127176\n",
      "29: Input_to_Funct: [-2.89713542e-05  1.00366753e+00  2.04587674e+00]: Output: -0.4884793736340082\n",
      "30: Input_to_Funct: [-2.89713542e-05  1.00366753e+00  2.04587674e+00]: Output: -0.48921201527166425\n",
      "31: Input_to_Funct: [-2.89713542e-05  1.00366753e+00  2.04587674e+00]: Output: -0.489548152890835\n",
      "32: Input_to_Funct: [-2.89713542e-05  1.00366753e+00  2.04587674e+00]: Output: -0.48950206836424615\n",
      "33: Input_to_Funct: [-2.89713542e-05  1.00366753e+00  2.04587674e+00]: Output: -0.49017434360258744\n",
      "34: Input_to_Funct: [-2.89713542e-05  1.00366753e+00  2.04587674e+00]: Output: -0.4896738916269322\n",
      "35: Input_to_Funct: [-2.89713542e-05  1.00366753e+00  2.04587674e+00]: Output: -0.48906448575663963\n",
      "36: Input_to_Funct: [-2.89713542e-05  1.00366753e+00  2.04587674e+00]: Output: -0.4899421539405866\n",
      "37: Input_to_Funct: [-2.89713542e-05  1.00366753e+00  2.04587674e+00]: Output: -0.4898842905100055\n",
      "38: Input_to_Funct: [-2.89713542e-05  1.00366753e+00  2.04587674e+00]: Output: -0.48983570301468304\n",
      "39: Input_to_Funct: [-2.89713542e-05  1.00366753e+00  2.04587674e+00]: Output: -0.4901743436025875\n",
      "40: Input_to_Funct: [-2.89713542e-05  1.00366753e+00  2.04587674e+00]: Output: -0.490007526277369\n",
      "41: Input_to_Funct: [-2.89713542e-05  1.00366753e+00  2.04587674e+00]: Output: -0.48972925208877943\n",
      "42: Input_to_Funct: [-2.89713542e-05  1.00366753e+00  2.04587674e+00]: Output: -0.4893545388492215\n",
      "43: Input_to_Funct: [-2.89713542e-05  1.00366753e+00  2.04587674e+00]: Output: -0.4883561378666447\n",
      "44: Input_to_Funct: [-2.89713542e-05  1.00366753e+00  2.04587674e+00]: Output: -0.4905247630944841\n",
      "45: Input_to_Funct: [-2.89713542e-05  1.00366753e+00  2.04587674e+00]: Output: -0.49044761185370944\n",
      "46: Input_to_Funct: [-2.89713542e-05  1.00366753e+00  2.04587674e+00]: Output: -0.48912985809342197\n",
      "47: Input_to_Funct: [-2.89713542e-05  1.00366753e+00  2.04587674e+00]: Output: -0.4896085192901497\n",
      "48: Input_to_Funct: [-2.89713542e-05  1.00366753e+00  2.04587674e+00]: Output: -0.48948278055405253\n",
      "Warning: Maximum number of iterations has been exceeded.\n",
      "Reason for termination is Maximum number of iterations has been exceeded.\n"
     ]
    },
    {
     "data": {
      "image/png": "[encoded data removed]",
      "text/plain": [
       "<Figure size 432x288 with 1 Axes>"
      ]
     },
     "metadata": {
      "needs_background": "light"
     },
     "output_type": "display_data"
    }
   ],
   "source": [
    "def GIVE_ENERGY(theta_ia_theta_jab_list):\n",
    "    theta_ia = theta_ia_theta_jab_list[:len(theta_parameters_ia)]\n",
    "    theta_ijab = theta_ia_theta_jab_list[len(theta_parameters_ia):]\n",
    "    \n",
    "    ansatz_cirq_circuit = full_ansatz_Q_Circ.Get_Full_HF_UCCSD_QC(theta_parameters_ia, theta_parameters_ijab)\n",
    "\n",
    "    VQE_exp_UP = VQE_Experiment_UP(anit_commuting_set, ansatz_cirq_circuit, n_shots, S_key_dict=None)\n",
    "    \n",
    "    return VQE_exp_UP.Calc_Energy()\n",
    "\n",
    "### optimizer\n",
    "from quchem.Scipy_Optimizer import *\n",
    "# THETA_params = [*theta_parameters_ia, *theta_parameters_ijab]\n",
    "THETA_params=[0,1,2]\n",
    "GG = Optimizer(GIVE_ENERGY, THETA_params, 'Nelder-Mead', store_values=True, display_iter_steps=True,\n",
    "               tol=1e-5,\n",
    "               display_convergence_message=True)\n",
    "GG.get_env(50)\n",
    "GG.plot_convergence()\n",
    "plt.show()"
   ]
  },
  {
   "cell_type": "code",
   "execution_count": null,
   "metadata": {},
   "outputs": [],
   "source": []
  },
  {
   "cell_type": "markdown",
   "metadata": {},
   "source": [
    "# REDUCED H2 ANSATZ"
   ]
  },
  {
   "cell_type": "code",
   "execution_count": 211,
   "metadata": {},
   "outputs": [
    {
     "data": {
      "text/html": [
       "<pre style=\"overflow: auto; white-space: pre;\">0: ───X───Rx(0.5π)───@──────────────────────────────@───Rx(-0.5π)───\n",
       "                     │                              │\n",
       "1: ───X───H──────────X───@──────────────────────@───X───H───────────\n",
       "                         │                      │\n",
       "2: ───H──────────────────X───@──────────────@───X───H───────────────\n",
       "                             │              │\n",
       "3: ───H──────────────────────X───Rz(2.0π)───X───H───────────────────</pre>"
      ],
      "text/plain": [
       "0: ───X───Rx(0.5π)───@──────────────────────────────@───Rx(-0.5π)───\n",
       "                     │                              │\n",
       "1: ───X───H──────────X───@──────────────────────@───X───H───────────\n",
       "                         │                      │\n",
       "2: ───H──────────────────X───@──────────────@───X───H───────────────\n",
       "                             │              │\n",
       "3: ───H──────────────────────X───Rz(2.0π)───X───H───────────────────"
      ]
     },
     "execution_count": 211,
     "metadata": {},
     "output_type": "execute_result"
    }
   ],
   "source": [
    "from quchem.Simulating_Quantum_Circuit import *\n",
    "from quchem.Ansatz_Generator_Functions import *\n",
    "from openfermion.ops import QubitOperator\n",
    "\n",
    "def H2_ansatz(theta):\n",
    "    HF_circ = [cirq.X.on(cirq.LineQubit(0)), cirq.X.on(cirq.LineQubit(1))]\n",
    "    \n",
    "    full_exp_circ_obj = full_exponentiated_PauliWord_circuit(QubitOperator('Y0 X1 X2 X3', -1j), theta)\n",
    "    UCCSD_circ = cirq.Circuit(cirq.decompose_once((full_exp_circ_obj(*cirq.LineQubit.range(full_exp_circ_obj.num_qubits())))))\n",
    "    full_circuit = cirq.Circuit([*HF_circ, *UCCSD_circ.all_operations()])\n",
    "    \n",
    "    return full_circuit\n",
    "    \n",
    "H2_ansatz(np.pi)    "
   ]
  },
  {
   "cell_type": "code",
   "execution_count": 212,
   "metadata": {},
   "outputs": [],
   "source": [
    "n_shots=1000\n",
    "\n",
    "def GIVE_ENERGY(THETA):\n",
    "    H2_ansatz_cirq_circuit = H2_ansatz(THETA)\n",
    "    VQE_exp_UP = VQE_Experiment_UP(anit_commuting_set, H2_ansatz_cirq_circuit, n_shots, S_key_dict=None)\n",
    "    \n",
    "    return VQE_exp_UP.Calc_Energy()\n"
   ]
  },
  {
   "cell_type": "code",
   "execution_count": 213,
   "metadata": {},
   "outputs": [
    {
     "name": "stdout",
     "output_type": "stream",
     "text": [
      "-0.491030221007607\n"
     ]
    },
    {
     "data": {
      "image/png": "[encoded data removed]",
      "text/plain": [
       "<Figure size 432x288 with 1 Axes>"
      ]
     },
     "metadata": {
      "needs_background": "light"
     },
     "output_type": "display_data"
    }
   ],
   "source": [
    "### full angle scan\n",
    "\n",
    "import matplotlib.pyplot as plt\n",
    "%matplotlib inline\n",
    "\n",
    "theta_list = np.arange(0,2*np.pi, 0.1)\n",
    "\n",
    "E_list = [GIVE_ENERGY(theta) for theta in theta_list]\n",
    "\n",
    "plt.plot(E_list)\n",
    "print(min(E_list))"
   ]
  }
 ],
 "metadata": {
  "kernelspec": {
   "display_name": "Python 3",
   "language": "python",
   "name": "python3"
  },
  "language_info": {
   "codemirror_mode": {
    "name": "ipython",
    "version": 3
   },
   "file_extension": ".py",
   "mimetype": "text/x-python",
   "name": "python",
   "nbconvert_exporter": "python",
   "pygments_lexer": "ipython3",
   "version": "3.7.6"
  }
 },
 "nbformat": 4,
 "nbformat_minor": 4
}
