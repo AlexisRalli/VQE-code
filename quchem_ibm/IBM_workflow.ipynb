{
 "cells": [
  {
   "cell_type": "code",
   "execution_count": 142,
   "metadata": {},
   "outputs": [],
   "source": [
    "import numpy as np\n",
    "\n",
    "from qiskit.compiler import transpile, assemble\n",
    "from qiskit import Aer\n",
    "from qiskit.chemistry.drivers import PySCFDriver, UnitsType, HFMethodType\n",
    "from qiskit.chemistry import FermionicOperator\n",
    "from qiskit.aqua.algorithms import NumPyMinimumEigensolver\n",
    "from qiskit import QuantumCircuit, ClassicalRegister, QuantumRegister, execute\n",
    "\n",
    "\n",
    "from qiskit.chemistry.components.initial_states import HartreeFock"
   ]
  },
  {
   "cell_type": "markdown",
   "metadata": {},
   "source": [
    "# Define Molecule"
   ]
  },
  {
   "cell_type": "code",
   "execution_count": 143,
   "metadata": {},
   "outputs": [],
   "source": [
    "# PySCF calc\n",
    "driver = PySCFDriver(\n",
    "                     atom='H .0 .0 .0; H .0 .0 0.74',\n",
    "#                      atom='Li .0 .0 .0; H .0 .0 1.44',\n",
    "                     unit=UnitsType.ANGSTROM,\n",
    "                     charge=0,\n",
    "                     spin=0,\n",
    "                     basis='sto3g',\n",
    "                     hf_method= HFMethodType.RHF,\n",
    "                     conv_tol=1e-9,\n",
    "                     max_cycle= 50)\n",
    "molecule = driver.run()"
   ]
  },
  {
   "cell_type": "code",
   "execution_count": 72,
   "metadata": {
    "code_folding": []
   },
   "outputs": [],
   "source": [
    "# from qiskit.chemistry.core import Hamiltonian, TransformationType, QubitMappingType\n",
    "# #https://qiskit.org/documentation/_modules/qiskit/chemistry/core/hamiltonian.html\n",
    "\n",
    "\n",
    "# Chem_Ham = Hamiltonian(TransformationType.FULL,#TransformationType\n",
    "#             QubitMappingType.BRAVYI_KITAEV,#QubitMappingType QubitMappingType.PARITY, QubitMappingType.JORDAN_WIGNER, QubitMappingType.BRAVYI_KITAEV\n",
    "#             True,  #two_qubit_reduction\n",
    "#             False, #freeze_core\n",
    "#             None,  #orbital_reduction\n",
    "#             'auto')  # z2symmetry_reduction\n",
    "\n",
    "# Chem_Ham.run(molecule)\n",
    "\n",
    "# # log_lines, results = Chem_Ham.process_algorithm_result()"
   ]
  },
  {
   "cell_type": "code",
   "execution_count": 144,
   "metadata": {},
   "outputs": [
    {
     "name": "stdout",
     "output_type": "stream",
     "text": [
      "HF energy: -1.8318636464775067\n",
      "# of electrons: 2\n",
      "# of spin orbitals: 4\n"
     ]
    }
   ],
   "source": [
    "h1 = molecule.one_body_integrals\n",
    "h2 = molecule.two_body_integrals\n",
    "\n",
    "nuclear_repulsion_energy = molecule.nuclear_repulsion_energy\n",
    "\n",
    "num_particles = molecule.num_alpha + molecule.num_beta\n",
    "num_spin_orbitals = molecule.num_orbitals * 2\n",
    "print(\"HF energy: {}\".format(molecule.hf_energy - molecule.nuclear_repulsion_energy))\n",
    "print(\"# of electrons: {}\".format(num_particles))\n",
    "print(\"# of spin orbitals: {}\".format(num_spin_orbitals))"
   ]
  },
  {
   "cell_type": "code",
   "execution_count": null,
   "metadata": {},
   "outputs": [],
   "source": []
  },
  {
   "cell_type": "markdown",
   "metadata": {},
   "source": [
    "# Get Qubit Hamiltonian"
   ]
  },
  {
   "cell_type": "code",
   "execution_count": 119,
   "metadata": {},
   "outputs": [],
   "source": [
    "ferOp = FermionicOperator(h1=h1, h2=h2)"
   ]
  },
  {
   "cell_type": "code",
   "execution_count": 145,
   "metadata": {},
   "outputs": [
    {
     "name": "stdout",
     "output_type": "stream",
     "text": [
      "15\n",
      "4\n",
      "The total ground state energy is: -1.137283834489\n"
     ]
    }
   ],
   "source": [
    "# map_type = 'bravyi_kitaev'\n",
    "map_type='jordan_wigner'\n",
    "# qubit_mapping='parity'\n",
    "\n",
    "qubitOp = ferOp.mapping(map_type=map_type, threshold=0.00000001)\n",
    "\n",
    "print(len(qubitOp.to_dict()['paulis']))\n",
    "print(qubitOp.num_qubits)\n",
    "\n",
    "exact_eigensolver = NumPyMinimumEigensolver(qubitOp)\n",
    "ret = exact_eigensolver.run()\n",
    "print('The total ground state energy is: {:.12f}'.format(ret.eigenvalue.real + nuclear_repulsion_energy))"
   ]
  },
  {
   "cell_type": "code",
   "execution_count": 121,
   "metadata": {},
   "outputs": [],
   "source": [
    "# print(qubitOp.print_details())"
   ]
  },
  {
   "cell_type": "code",
   "execution_count": 146,
   "metadata": {},
   "outputs": [
    {
     "name": "stdout",
     "output_type": "stream",
     "text": [
      "fci ground E = (-1.1372838344885001+3.3140182052923533e-17j)\n",
      "ground state =  [-2.18581528e-16-2.30138819e-16j -1.54890834e-16-6.83169323e-17j\n",
      "  5.97642671e-17+8.30731978e-17j -1.24274699e-16-1.03154909e-16j\n",
      "  2.73782248e-16-1.53785432e-16j  9.41870097e-01-3.16566888e-01j\n",
      " -4.32394593e-17+3.13075547e-17j -1.91799173e-16-7.32994847e-17j\n",
      "  2.01521344e-18+1.34946376e-16j  4.46065752e-17-2.29636609e-17j\n",
      " -1.06679483e-01+3.58554666e-02j -8.41178512e-17-3.86737554e-17j\n",
      " -8.60671455e-17+1.81991656e-16j  9.11396526e-17+1.08491034e-16j\n",
      " -6.35562357e-18+2.70764477e-17j  3.45758668e-16+5.67083911e-17j]\n"
     ]
    }
   ],
   "source": [
    "from qiskit.quantum_info import Operator\n",
    "from scipy.sparse.linalg import eigs\n",
    "\n",
    "H_mat_sparse=qubitOp.to_opflow().to_spmatrix()\n",
    "\n",
    "\n",
    "eig_values, eig_vectors = eigs(H_mat_sparse)\n",
    "FCI_Energy = min(eig_values)\n",
    "index = np.where(eig_values==FCI_Energy)[0][0]\n",
    "ground_state = eig_vectors[:, index]\n",
    "\n",
    "# H_mat = Operator(qubitOp.to_opflow().to_matrix())\n",
    "# # print(H_mat._data)\n",
    "\n",
    "# from scipy.linalg import eig\n",
    "# from openfermion import get_sparse_operator\n",
    "\n",
    "# eig_values, eig_vectors = eig(H_mat._data)\n",
    "# FCI_Energy = min(eig_values)\n",
    "# index = np.where(eig_values==FCI_Energy)[0][0]\n",
    "ground_state = eig_vectors[:, index]\n",
    "\n",
    "print('fci ground E =', FCI_Energy+ nuclear_repulsion_energy)\n",
    "print('ground state = ', ground_state)"
   ]
  },
  {
   "cell_type": "markdown",
   "metadata": {},
   "source": [
    "# TAPERING!"
   ]
  },
  {
   "cell_type": "code",
   "execution_count": 103,
   "metadata": {},
   "outputs": [
    {
     "name": "stdout",
     "output_type": "stream",
     "text": [
      "Z2 symmetries:\n",
      "Symmetries:\n",
      "ZIIZ\n",
      "ZIZI\n",
      "ZZII\n",
      "Single-Qubit Pauli X:\n",
      "IIIX\n",
      "IIXI\n",
      "IXII\n",
      "Cliffords:\n",
      "ZIIZ\t(0.7071067811865475+0j)\n",
      "IIIX\t(0.7071067811865475+0j)\n",
      "\n",
      "ZIZI\t(0.7071067811865475+0j)\n",
      "IIXI\t(0.7071067811865475+0j)\n",
      "\n",
      "ZZII\t(0.7071067811865475+0j)\n",
      "IXII\t(0.7071067811865475+0j)\n",
      "\n",
      "Qubit index:\n",
      "[0, 1, 2]\n",
      "Tapering values:\n",
      "  - Possible values: [1, 1, 1], [1, 1, -1], [1, -1, 1], [1, -1, -1], [-1, 1, 1], [-1, 1, -1], [-1, -1, 1], [-1, -1, -1]\n"
     ]
    }
   ],
   "source": [
    "from qiskit.aqua.operators import Z2Symmetries\n",
    "print(Z2Symmetries.find_Z2_symmetries(qubitOp))\n",
    "\n",
    "# Chemistry specific method: It can be used to taper two qubits in\n",
    "# --> parity\n",
    "# --> binary-tree == Bravyi-Kitaev (https://qiskit.org/documentation/apidoc/qiskit_chemistry.html)\n",
    "# mapped Fermionic Hamiltonians  \n",
    "\n",
    "# NOTE when the spin orbitals are ordered in two spin sectors, (block spin order) \n",
    "#      according to the number of particles in the system\n",
    "\n",
    "if (map_type == 'bravyi_kitaev') or (map_type == 'parity'):\n",
    "    qubitOp = Z2Symmetries.two_qubit_reduction(qubitOp, num_particles)"
   ]
  },
  {
   "cell_type": "code",
   "execution_count": 147,
   "metadata": {},
   "outputs": [
    {
     "name": "stdout",
     "output_type": "stream",
     "text": [
      "15\n",
      "4\n",
      "IIII\t(-0.8121706072487107+0j)\n",
      "IIIZ\t(0.17141282644776898+0j)\n",
      "IIZI\t(-0.22343153690813541+0j)\n",
      "IZII\t(0.171412826447769+0j)\n",
      "ZIII\t(-0.2234315369081354+0j)\n",
      "IIZZ\t(0.12062523483390412+0j)\n",
      "IZIZ\t(0.16868898170361207+0j)\n",
      "XXYY\t(0.04530261550379926+0j)\n",
      "YYYY\t(0.04530261550379926+0j)\n",
      "XXXX\t(0.04530261550379926+0j)\n",
      "YYXX\t(0.04530261550379926+0j)\n",
      "ZIIZ\t(0.16592785033770338+0j)\n",
      "IZZI\t(0.16592785033770338+0j)\n",
      "ZIZI\t(0.17441287612261575+0j)\n",
      "ZZII\t(0.12062523483390412+0j)\n",
      "\n"
     ]
    }
   ],
   "source": [
    "print(len(qubitOp.to_dict()['paulis']))\n",
    "print(qubitOp.num_qubits)\n",
    "print(qubitOp.print_details())"
   ]
  },
  {
   "cell_type": "markdown",
   "metadata": {},
   "source": [
    "#### re-check fci if two qubit reduction performed"
   ]
  },
  {
   "cell_type": "code",
   "execution_count": 148,
   "metadata": {},
   "outputs": [],
   "source": [
    "if (map_type == 'bravyi_kitaev') or (map_type == 'parity'):\n",
    "    H_mat_sparse=qubitOp.to_opflow().to_spmatrix()\n",
    "\n",
    "    eig_values, eig_vectors = eigs(H_mat_sparse)\n",
    "    FCI_Energy = min(eig_values)\n",
    "    index = np.where(eig_values==FCI_Energy)[0][0]\n",
    "    ground_state = eig_vectors[:, index]\n",
    "\n",
    "\n",
    "    print('fci ground E =', FCI_Energy+ nuclear_repulsion_energy)\n",
    "    print('ground state = ', ground_state)\n",
    "    \n",
    "    \n",
    "    # Using exact eigensolver to get the smallest eigenvalue\n",
    "    exact_eigensolver_new = NumPyMinimumEigensolver(qubitOp)\n",
    "    ret_new = exact_eigensolver_new.run()\n",
    "    print('The computed energy is: {:.12f}'.format(ret_new.eigenvalue.real))\n",
    "    print('The total ground state energy is: {:.12f}'.format(ret_new.eigenvalue.real + nuclear_repulsion_energy))"
   ]
  },
  {
   "cell_type": "markdown",
   "metadata": {},
   "source": [
    "### Get Hartree-Fock initial state"
   ]
  },
  {
   "cell_type": "code",
   "execution_count": 149,
   "metadata": {},
   "outputs": [
    {
     "name": "stdout",
     "output_type": "stream",
     "text": [
      "HF state = [0 1 0 1]\n"
     ]
    },
    {
     "data": {
      "text/html": [
       "<pre style=\"word-wrap: normal;white-space: pre;background: #fff0;line-height: 1.1;font-family: &quot;Courier New&quot;,Courier,monospace\">      ┌─────────────┐\n",
       "q8_0: ┤ U3(pi,0,pi) ├\n",
       "      └─────────────┘\n",
       "q8_1: ───────────────\n",
       "      ┌─────────────┐\n",
       "q8_2: ┤ U3(pi,0,pi) ├\n",
       "      └─────────────┘\n",
       "q8_3: ───────────────\n",
       "                     </pre>"
      ],
      "text/plain": [
       "      ┌─────────────┐\n",
       "q8_0: ┤ U3(pi,0,pi) ├\n",
       "      └─────────────┘\n",
       "q8_1: ───────────────\n",
       "      ┌─────────────┐\n",
       "q8_2: ┤ U3(pi,0,pi) ├\n",
       "      └─────────────┘\n",
       "q8_3: ───────────────\n",
       "                     "
      ]
     },
     "execution_count": 149,
     "metadata": {},
     "output_type": "execute_result"
    }
   ],
   "source": [
    "num_particles = molecule.num_alpha + molecule.num_beta\n",
    "# Args:\n",
    "#     num_orbitals: number of spin orbitals, has a min. value of 1.\n",
    "#     num_particles: number of particles, if it is a list, the first number\n",
    "#                     is alpha and the second number if beta.\n",
    "#     qubit_mapping: mapping type for qubit operator\n",
    "#     two_qubit_reduction: flag indicating whether or not two qubit is reduced\n",
    "#     sq_list: position of the single-qubit operators that\n",
    "#             anticommute with the cliffords\n",
    "HF_obj = HartreeFock(qubitOp.num_qubits, #molecule.num_orbitals,\n",
    "                 num_particles,\n",
    "                 qubit_mapping=map_type,\n",
    "                 two_qubit_reduction=False) # already done!\n",
    "\n",
    "q_reg = QuantumRegister(qubitOp.num_qubits)\n",
    "\n",
    "print('HF state =', np.array(HF_obj.bitstr, dtype=int))\n",
    "HF_circuit = HF_obj.construct_circuit(mode='circuit', register=q_reg)\n",
    "HF_circuit.draw()"
   ]
  },
  {
   "cell_type": "code",
   "execution_count": 154,
   "metadata": {},
   "outputs": [
    {
     "data": {
      "text/plain": [
       "4"
      ]
     },
     "execution_count": 154,
     "metadata": {},
     "output_type": "execute_result"
    }
   ],
   "source": [
    "qubitOp.num_qubits"
   ]
  },
  {
   "cell_type": "code",
   "execution_count": 158,
   "metadata": {},
   "outputs": [],
   "source": [
    "from qiskit.chemistry.components.variational_forms.uccsd import UCCSD\n",
    "num_particles = molecule.num_alpha + molecule.num_beta\n",
    "\n",
    "UCCSD_ansatz= UCCSD(\n",
    "                 qubitOp.num_qubits, # number orbitals int,\n",
    "                 num_particles,\n",
    "                 reps=1, #number of repetitions of basic module\n",
    "                 active_occupied=None,\n",
    "                 active_unoccupied=None,\n",
    "                 initial_state=None,\n",
    "                 qubit_mapping=map_type,\n",
    "                 two_qubit_reduction=True,\n",
    "                 num_time_slices=1,\n",
    "                 shallow_circuit_concat=True,\n",
    "                 z2_symmetries=None,\n",
    "                 method_singles='both',\n",
    "                 method_doubles='ucc',\n",
    "                 excitation_type='sd',\n",
    "                 same_spin_doubles=True,\n",
    "                 skip_commute_test=False)"
   ]
  },
  {
   "cell_type": "code",
   "execution_count": 161,
   "metadata": {},
   "outputs": [
    {
     "data": {
      "text/plain": [
       "3"
      ]
     },
     "execution_count": 161,
     "metadata": {},
     "output_type": "execute_result"
    }
   ],
   "source": [
    "UCCSD_ansatz.num_parameters"
   ]
  },
  {
   "cell_type": "code",
   "execution_count": 169,
   "metadata": {},
   "outputs": [
    {
     "name": "stdout",
     "output_type": "stream",
     "text": [
      "[[0, 1], [2, 3]]\n",
      "[[0, 1, 2, 3]]\n"
     ]
    }
   ],
   "source": [
    "singles, doubles = UCCSD_ansatz.compute_excitation_lists(\n",
    "                        num_particles,\n",
    "                        qubitOp.num_qubits,\n",
    "                        active_occ_list=None,\n",
    "                        active_unocc_list=None, \n",
    "                        same_spin_doubles=True,\n",
    "                        method_singles='both', \n",
    "                        method_doubles='ucc',\n",
    "                        excitation_type='sd')\n",
    "print(singles)\n",
    "print(doubles)"
   ]
  },
  {
   "cell_type": "code",
   "execution_count": 170,
   "metadata": {},
   "outputs": [
    {
     "data": {
      "text/html": [
       "<pre style=\"word-wrap: normal;white-space: pre;background: #fff0;line-height: 1.1;font-family: &quot;Courier New&quot;,Courier,monospace\">     ┌──────────┐  ┌────────┐ ┌──────────┐┌─────────────────────┐  ┌────────┐ »\n",
       "q_0: ┤ U2(0,pi) ├──┤ U1(pi) ├─┤ U2(0,pi) ├┤ U3(pi/2,-pi/2,pi/2) ├──┤ U1(pi) ├─»\n",
       "     ├──────────┤┌─┴────────┴┐├──────────┤├─────────────────────┤┌─┴────────┴┐»\n",
       "q_1: ┤ U2(0,pi) ├┤ U1(-pi/2) ├┤ U2(0,pi) ├┤ U3(pi/2,-pi/2,pi/2) ├┤ U1(-pi/2) ├»\n",
       "     └──────────┘└───────────┘└──────────┘└─────────────────────┘└───────────┘»\n",
       "«     ┌──────────────────────┐┌──────────┐                      ┌──────────┐»\n",
       "«q_0: ┤ U3(-pi/2,-pi/2,pi/2) ├┤ U2(0,pi) ├──■────────────────■──┤ U2(0,pi) ├»\n",
       "«     ├──────────────────────┤├──────────┤┌─┴─┐┌──────────┐┌─┴─┐├──────────┤»\n",
       "«q_1: ┤ U3(-pi/2,-pi/2,pi/2) ├┤ U2(0,pi) ├┤ X ├┤ U1(pi/6) ├┤ X ├┤ U2(0,pi) ├»\n",
       "«     └──────────────────────┘└──────────┘└───┘└──────────┘└───┘└──────────┘»\n",
       "«     ┌─────────────────────┐                       ┌──────────────────────┐\n",
       "«q_0: ┤ U3(pi/2,-pi/2,pi/2) ├──■─────────────────■──┤ U3(-pi/2,-pi/2,pi/2) ├\n",
       "«     ├─────────────────────┤┌─┴─┐┌───────────┐┌─┴─┐├──────────────────────┤\n",
       "«q_1: ┤ U3(pi/2,-pi/2,pi/2) ├┤ X ├┤ U1(-pi/6) ├┤ X ├┤ U3(-pi/2,-pi/2,pi/2) ├\n",
       "«     └─────────────────────┘└───┘└───────────┘└───┘└──────────────────────┘</pre>"
      ],
      "text/plain": [
       "     ┌──────────┐  ┌────────┐ ┌──────────┐┌─────────────────────┐  ┌────────┐ »\n",
       "q_0: ┤ U2(0,pi) ├──┤ U1(pi) ├─┤ U2(0,pi) ├┤ U3(pi/2,-pi/2,pi/2) ├──┤ U1(pi) ├─»\n",
       "     ├──────────┤┌─┴────────┴┐├──────────┤├─────────────────────┤┌─┴────────┴┐»\n",
       "q_1: ┤ U2(0,pi) ├┤ U1(-pi/2) ├┤ U2(0,pi) ├┤ U3(pi/2,-pi/2,pi/2) ├┤ U1(-pi/2) ├»\n",
       "     └──────────┘└───────────┘└──────────┘└─────────────────────┘└───────────┘»\n",
       "«     ┌──────────────────────┐┌──────────┐                      ┌──────────┐»\n",
       "«q_0: ┤ U3(-pi/2,-pi/2,pi/2) ├┤ U2(0,pi) ├──■────────────────■──┤ U2(0,pi) ├»\n",
       "«     ├──────────────────────┤├──────────┤┌─┴─┐┌──────────┐┌─┴─┐├──────────┤»\n",
       "«q_1: ┤ U3(-pi/2,-pi/2,pi/2) ├┤ U2(0,pi) ├┤ X ├┤ U1(pi/6) ├┤ X ├┤ U2(0,pi) ├»\n",
       "«     └──────────────────────┘└──────────┘└───┘└──────────┘└───┘└──────────┘»\n",
       "«     ┌─────────────────────┐                       ┌──────────────────────┐\n",
       "«q_0: ┤ U3(pi/2,-pi/2,pi/2) ├──■─────────────────■──┤ U3(-pi/2,-pi/2,pi/2) ├\n",
       "«     ├─────────────────────┤┌─┴─┐┌───────────┐┌─┴─┐├──────────────────────┤\n",
       "«q_1: ┤ U3(pi/2,-pi/2,pi/2) ├┤ X ├┤ U1(-pi/6) ├┤ X ├┤ U3(-pi/2,-pi/2,pi/2) ├\n",
       "«     └─────────────────────┘└───┘└───────────┘└───┘└──────────────────────┘"
      ]
     },
     "execution_count": 170,
     "metadata": {},
     "output_type": "execute_result"
    }
   ],
   "source": [
    "test = UCCSD_ansatz.construct_circuit([np.pi, np.pi/2, np.pi/3])\n",
    "test.decompose().draw()"
   ]
  },
  {
   "cell_type": "code",
   "execution_count": null,
   "metadata": {},
   "outputs": [],
   "source": []
  },
  {
   "cell_type": "code",
   "execution_count": null,
   "metadata": {},
   "outputs": [],
   "source": [
    "from openfermion.ops import QubitOperator\n",
    "\n",
    "QubitHamiltonian = QubitOperator()\n",
    "for P_term_dict in qubitOp.to_dict()['paulis']:\n",
    "    \n",
    "    # NOTE CHANGE ORDER for QubitOperator!\n",
    "    Pauli = ' '.join(['{}{}'.format(P_str, index) for index,  P_str in enumerate(P_term_dict['label'][::-1]) if P_str != 'I'])\n",
    "    QubitHamiltonian+= QubitOperator(Pauli, P_term_dict['coeff']['real'])\n",
    "\n",
    "QubitHamiltonian"
   ]
  },
  {
   "cell_type": "markdown",
   "metadata": {},
   "source": [
    "## check FCI"
   ]
  },
  {
   "cell_type": "code",
   "execution_count": null,
   "metadata": {},
   "outputs": [],
   "source": [
    "from scipy.linalg import eig\n",
    "from openfermion import get_sparse_operator\n",
    "\n",
    "H_mat=get_sparse_operator(QubitHamiltonian, n_qubits=qubitOp.num_qubits).todense()\n",
    "eig_values, eig_vectors = eig(H_mat)\n",
    "FCI_Energy = min(eig_values)\n",
    "index = np.where(eig_values==FCI_Energy)[0][0]\n",
    "ground_state = eig_vectors[:, index]\n",
    "\n",
    "print('fci ground E =', FCI_Energy+ nuclear_repulsion_energy)\n",
    "print('ground state = ', ground_state)"
   ]
  },
  {
   "cell_type": "code",
   "execution_count": null,
   "metadata": {},
   "outputs": [],
   "source": [
    "## checking via lin alg\n",
    "E_elec=ground_state.reshape(ground_state.shape[0],1).conj().T.dot(H_mat.dot(ground_state.reshape(ground_state.shape[0],1)))\n",
    "E_elec+nuclear_repulsion_energy"
   ]
  },
  {
   "cell_type": "code",
   "execution_count": null,
   "metadata": {},
   "outputs": [],
   "source": [
    "# from scipy.sparse.linalg import eigs\n",
    "# from openfermion import get_sparse_operator\n",
    "\n",
    "# eig_values, eig_vectors = eigs(get_sparse_operator(QubitHamiltonian))#, n_qubits=qubitOp.num_qubits))\n",
    "# FCI_Energy = min(eig_values)\n",
    "# index = np.where(eig_values==FCI_Energy)[0][0]\n",
    "# ground_state = eig_vectors[:, index]\n",
    "# print('fci ground E =', FCI_Energy+ nuclear_repulsion_energy)\n",
    "# print('ground state = ', ground_state)"
   ]
  },
  {
   "cell_type": "markdown",
   "metadata": {},
   "source": [
    "# Get anti-commuting sets"
   ]
  },
  {
   "cell_type": "code",
   "execution_count": null,
   "metadata": {},
   "outputs": [],
   "source": [
    "from quchem.Graph import *\n",
    "\n",
    "Hamiltonian_graph_obj = Openfermion_Hamiltonian_Graph(QubitHamiltonian)\n",
    "\n",
    "commutativity_flag = 'AC' ## <- defines relationship between sets!!!\n",
    "plot_graph = False\n",
    "Graph_colouring_strategy='largest_first'\n",
    "\n",
    "anti_commuting_sets = Hamiltonian_graph_obj.Get_Clique_Cover_as_QubitOp(commutativity_flag, Graph_colouring_strategy=Graph_colouring_strategy, plot_graph=plot_graph)\n",
    "\n",
    "\n"
   ]
  },
  {
   "cell_type": "code",
   "execution_count": null,
   "metadata": {},
   "outputs": [],
   "source": [
    "from qiskit.quantum_info import Pauli\n",
    "# PP = Pauli(z=[True, True, True, False, False, False, False, False, False, False], x=[False, True, True, False, False, False, False, False, False, False])\n",
    "# print(PP)"
   ]
  },
  {
   "cell_type": "code",
   "execution_count": null,
   "metadata": {},
   "outputs": [],
   "source": [
    "from qiskit.aqua.operators.primitive_ops import PauliOp\n",
    "# PPP = PauliOp(PP, coeff=0.5)\n",
    "# print(PPP)"
   ]
  },
  {
   "cell_type": "code",
   "execution_count": null,
   "metadata": {},
   "outputs": [],
   "source": [
    "# ## convert openfermion.QubitOperator to qiskit PauliOp\n",
    "# NN=5\n",
    "# Q_op = QubitOperator('X0 Y1 Z4')\n",
    "# P_strs, coeff = zip(list(*Q_op.terms.items()))\n",
    "\n",
    "# if P_strs[0]:\n",
    "#     q_Nums, p_strs = zip(*P_strs[0])\n",
    "\n",
    "# #         P_list = ['{}{}'.format(p_strs[q_Nums.index(qNo)], qNo) if qNo in q_Nums else '{}{}'.format('I', qNo) for qNo in range(N_qubits) ]\n",
    "#     P_list = ['{}'.format(p_strs[q_Nums.index(qNo)]) if qNo in q_Nums else '{}'.format('I') for qNo in range(NN) ]\n",
    "# print(P_list)\n",
    "\n",
    "# z = np.zeros(len(P_list), dtype=np.bool)\n",
    "# x = np.zeros(len(P_list), dtype=np.bool)\n",
    "# for i, char in enumerate(P_list):\n",
    "#     if char == 'X':\n",
    "#         x[i] = True\n",
    "#     elif char == 'Z':\n",
    "#         z[i] = True\n",
    "#     elif char == 'Y':\n",
    "#         z[i] = True\n",
    "#         x[i] = True\n",
    "#     elif char != 'I':\n",
    "#         raise QiskitError(\"Pauli string must be only consisted of 'I', 'X', \"\n",
    "#                           \"'Y' or 'Z' but you have {}.\".format(char))\n",
    "# Pauli_IBM = Pauli(z=z,x=x)\n",
    "# Pauli_Op_IBM = PauliOp(Pauli_IBM, coeff=coeff)\n",
    "# print(str(Pauli_Op_IBM.primitive))"
   ]
  },
  {
   "cell_type": "code",
   "execution_count": null,
   "metadata": {},
   "outputs": [],
   "source": [
    "## convert openfermion.QubitOperator to qiskit PauliOp\n",
    "N_qubits = qubitOp.num_qubits\n",
    "\n",
    "IBM_anti_commuting_sets={}\n",
    "for key in anti_commuting_sets:\n",
    "    OP_list=[]\n",
    "    for Q_op in anti_commuting_sets[key]:\n",
    "        P_strs, coeff = zip(list(*Q_op.terms.items()))\n",
    "        \n",
    "        if P_strs[0]:\n",
    "            q_Nums, p_strs = zip(*P_strs[0])\n",
    "\n",
    "    #         P_list = ['{}{}'.format(p_strs[q_Nums.index(qNo)], qNo) if qNo in q_Nums else '{}{}'.format('I', qNo) for qNo in range(N_qubits) ]\n",
    "            P_list = ['{}'.format(p_strs[q_Nums.index(qNo)]) if qNo in q_Nums else '{}'.format('I') for qNo in range(N_qubits) ]\n",
    "\n",
    "            z = np.zeros(len(P_list), dtype=np.bool)\n",
    "            x = np.zeros(len(P_list), dtype=np.bool)\n",
    "            for i, char in enumerate(P_list):\n",
    "#                 if char == 'X':\n",
    "#                     x[-i - 1] = True\n",
    "#                 elif char == 'Z':\n",
    "#                     z[-i - 1] = True\n",
    "#                 elif char == 'Y':\n",
    "#                     z[-i - 1] = True\n",
    "#                     x[-i - 1] = True\n",
    "                if char == 'X':\n",
    "                    x[i] = True\n",
    "                elif char == 'Z':\n",
    "                    z[i] = True\n",
    "                elif char == 'Y':\n",
    "                    z[i] = True\n",
    "                    x[i] = True\n",
    "                elif char != 'I':\n",
    "                    raise QiskitError(\"Pauli string must be only consisted of 'I', 'X', \"\n",
    "                                      \"'Y' or 'Z' but you have {}.\".format(char))\n",
    "            Pauli_IBM = Pauli(z=z,x=x)\n",
    "            Pauli_Op_IBM = PauliOp(Pauli_IBM, coeff=coeff)\n",
    "#             print(Pauli_Op_IBM)\n",
    "            OP_list.append(Pauli_Op_IBM)\n",
    "        else:\n",
    "            z = np.zeros(N_qubits, dtype=np.bool)\n",
    "            x = np.zeros(N_qubits, dtype=np.bool)\n",
    "            Pauli_IBM = Pauli(z=z,x=x)\n",
    "            Pauli_Op_IBM = PauliOp(Pauli_IBM, coeff=coeff)\n",
    "#             print(Pauli_Op_IBM)\n",
    "            OP_list.append(Pauli_Op_IBM)\n",
    "        \n",
    "    IBM_anti_commuting_sets[key]=OP_list"
   ]
  },
  {
   "cell_type": "code",
   "execution_count": null,
   "metadata": {},
   "outputs": [],
   "source": [
    "print(anti_commuting_sets[1][0])\n",
    "str(IBM_anti_commuting_sets[1][0].primitive)"
   ]
  },
  {
   "cell_type": "code",
   "execution_count": null,
   "metadata": {},
   "outputs": [],
   "source": [
    "print(anti_commuting_sets[7][3])\n",
    "str(IBM_anti_commuting_sets[7][3].primitive)"
   ]
  },
  {
   "cell_type": "code",
   "execution_count": null,
   "metadata": {},
   "outputs": [],
   "source": [
    "#### compare dictionaries "
   ]
  },
  {
   "cell_type": "code",
   "execution_count": null,
   "metadata": {},
   "outputs": [],
   "source": [
    "# anti_commuting_sets"
   ]
  },
  {
   "cell_type": "code",
   "execution_count": null,
   "metadata": {},
   "outputs": [],
   "source": [
    "# {key:[(str(op.primitive), op.coeff) for op in IBM_anti_commuting_sets[key]]  for key in IBM_anti_commuting_sets}"
   ]
  },
  {
   "cell_type": "code",
   "execution_count": null,
   "metadata": {},
   "outputs": [],
   "source": [
    "#### compare dictionaries"
   ]
  },
  {
   "cell_type": "code",
   "execution_count": null,
   "metadata": {},
   "outputs": [],
   "source": [
    "set_key=3\n",
    "index=0\n",
    "print(IBM_anti_commuting_sets[set_key][index])\n",
    "print(anti_commuting_sets[set_key][index])\n",
    "\n",
    "xx=IBM_anti_commuting_sets[set_key][index].to_circuit()\n",
    "print(xx)"
   ]
  },
  {
   "cell_type": "code",
   "execution_count": null,
   "metadata": {},
   "outputs": [],
   "source": [
    "\n",
    "N_qubits = qubitOp.num_qubits\n",
    "# arb state initialization\n",
    "# https://github.com/Qiskit/qiskit-tutorials/blob/master/tutorials/circuits/3_summary_of_quantum_operations.ipynb\n",
    "\n",
    "q = QuantumRegister(N_qubits)\n",
    "\n",
    "qc = QuantumCircuit(q)\n",
    "\n",
    "qc.initialize(ground_state.tolist(), [q[i] for i in range(N_qubits)])\n",
    "qc.draw()\n"
   ]
  },
  {
   "cell_type": "code",
   "execution_count": null,
   "metadata": {},
   "outputs": [],
   "source": [
    "backend = Aer.get_backend('statevector_simulator')\n",
    "job = execute(qc, backend)\n",
    "qc_state = job.result().get_statevector(qc)\n",
    "qc_state"
   ]
  },
  {
   "cell_type": "code",
   "execution_count": null,
   "metadata": {},
   "outputs": [],
   "source": [
    "np.allclose(ground_state, qc_state)"
   ]
  },
  {
   "cell_type": "code",
   "execution_count": null,
   "metadata": {},
   "outputs": [],
   "source": [
    "qc.measure_all()\n",
    "backend=Aer.get_backend('qasm_simulator')\n",
    "job = execute(qc, backend, shots=2000)\n",
    "result = job.result()\n",
    "out = result.get_counts(qc)\n",
    "out"
   ]
  },
  {
   "cell_type": "code",
   "execution_count": null,
   "metadata": {
    "code_folding": [
     0
    ]
   },
   "outputs": [],
   "source": [
    "def change_basis_and_measure_IBM(PauliWord, q_register, q_circuit):\n",
    "\n",
    "    # change basis\n",
    "    \n",
    "    # note change of order in enumerate\n",
    "    for qNo, Pstr in enumerate(str(PauliWord.primitive)[::-1]):\n",
    "        if Pstr == 'X':\n",
    "            q_circuit.h(q_register[qNo])\n",
    "        #             q_circuit.measure(q_register[qNo], c_register[index])\n",
    "\n",
    "        elif Pstr == 'Y':\n",
    "            q_circuit.rx((+np.pi / 2), q_register[qNo])\n",
    "        #             q_circuit.measure(q_register[qNo], c_register[index])\n",
    "\n",
    "        elif (Pstr == 'Z') or (Pstr == 'I'):\n",
    "            continue\n",
    "        #             q_circuit.measure(q_register[qNo], c_register[index])\n",
    "\n",
    "        else:\n",
    "            raise ValueError('Not a PauliWord')\n",
    "\n",
    "    q_circuit.measure_all()\n",
    "\n",
    "    return q_circuit"
   ]
  },
  {
   "cell_type": "code",
   "execution_count": null,
   "metadata": {},
   "outputs": [],
   "source": [
    "q = QuantumRegister(N_qubits)\n",
    "qc = QuantumCircuit(q)\n",
    "qc.initialize(ground_state.tolist(), [q[i] for i in range(N_qubits)])\n",
    "\n",
    "z = np.array([1,0,0,0], dtype=np.bool)\n",
    "x = np.array([0,0,0,0], dtype=np.bool)\n",
    "Pauli_test = Pauli(z=z,x=x)\n",
    "Paulitest_Op = PauliOp(Pauli_test, coeff=coeff)\n",
    "print(str(Paulitest_Op.primitive))\n",
    "     \n",
    "cir= change_basis_and_measure_IBM(Paulitest_Op, q, qc)\n",
    "print(cir.draw())\n",
    "\n",
    "backend=Aer.get_backend('qasm_simulator')\n",
    "job = execute(cir, backend, shots=2000)\n",
    "result = job.result()\n",
    "out = result.get_counts(cir)\n",
    "print(out)\n",
    "\n",
    "calc_exp_pauliword(out, str(Paulitest_Op.primitive))"
   ]
  },
  {
   "cell_type": "code",
   "execution_count": null,
   "metadata": {},
   "outputs": [],
   "source": []
  },
  {
   "cell_type": "code",
   "execution_count": null,
   "metadata": {},
   "outputs": [],
   "source": [
    "from qiskit.aqua.operators.primitive_ops import PauliOp\n",
    "# PPP = PauliOp(PP, coeff=0.5)\n",
    "# print(PPP)\n",
    "from qiskit.quantum_info import Pauli\n",
    "z=np.array([1,0,0], dtype=bool)\n",
    "x=np.array([1,1,0], dtype=bool)\n",
    "P = Pauli(z=z, x=x)\n",
    "PW = PauliOp(P, coeff=0.5)\n",
    "print(str(PW.primitive))\n",
    "\n",
    "q = QuantumRegister(len(PW.primitive))\n",
    "qc = QuantumCircuit(q)\n",
    "\n",
    "cir= change_basis_and_measure_IBM(PW, q, qc)\n",
    "cir.draw()"
   ]
  },
  {
   "cell_type": "code",
   "execution_count": null,
   "metadata": {},
   "outputs": [],
   "source": []
  },
  {
   "cell_type": "code",
   "execution_count": null,
   "metadata": {},
   "outputs": [],
   "source": [
    "N_qubits = qubitOp.num_qubits\n",
    "# arb state initialization\n",
    "# https://github.com/Qiskit/qiskit-tutorials/blob/master/tutorials/circuits/3_summary_of_quantum_operations.ipynb\n",
    "\n",
    "\n",
    "qc_list=[]\n",
    "Pword_list=[]\n",
    "\n",
    "arb_input_circuit=None\n",
    "for set_key in IBM_anti_commuting_sets:\n",
    "    for op in IBM_anti_commuting_sets[set_key]:\n",
    "        \n",
    "        IBM_q_circuit = op.to_circuit()\n",
    "        \n",
    "        if arb_input_circuit is None:\n",
    "            q_reg = QuantumRegister(N_qubits)\n",
    "            arb_input_circuit = QuantumCircuit(q_reg)\n",
    "\n",
    "            arb_input_circuit.initialize(ground_state.tolist(), [q_reg[i] for i in range(N_qubits)])\n",
    "\n",
    "        \n",
    "        full_ibm_circuit=change_basis_and_measure_IBM(op, q_reg, arb_input_circuit.copy())\n",
    "        qc_list.append(full_ibm_circuit)\n",
    "        Pword_list.append((str(op.primitive), op.coeff[0]))\n",
    "        "
   ]
  },
  {
   "cell_type": "code",
   "execution_count": null,
   "metadata": {},
   "outputs": [],
   "source": [
    "qc_list[-1].draw()"
   ]
  },
  {
   "cell_type": "code",
   "execution_count": null,
   "metadata": {},
   "outputs": [],
   "source": [
    "circuit = qc_list[-1].copy()\n",
    "circuit.remove_final_measurements()\n",
    "backend = Aer.get_backend('statevector_simulator')\n",
    "job = execute(circuit, backend)\n",
    "qc_state = job.result().get_statevector(circuit)\n",
    "qc_state"
   ]
  },
  {
   "cell_type": "code",
   "execution_count": null,
   "metadata": {},
   "outputs": [],
   "source": [
    "print(qc_list[-1].draw())\n",
    "\n",
    "backend=Aer.get_backend('qasm_simulator')\n",
    "job = execute(qc_list[-1], backend, shots=2000)\n",
    "result = job.result()\n",
    "out = result.get_counts(qc_list[-1])\n",
    "out"
   ]
  },
  {
   "cell_type": "code",
   "execution_count": null,
   "metadata": {},
   "outputs": [],
   "source": []
  },
  {
   "cell_type": "code",
   "execution_count": null,
   "metadata": {},
   "outputs": [],
   "source": [
    "circ = QuantumCircuit(3)\n",
    "circ.x(0)\n",
    "\n",
    "circ.measure_all()\n",
    "\n",
    "print(circ.draw())\n",
    "\n",
    "backend=Aer.get_backend('qasm_simulator')\n",
    "job = execute(circ, backend, shots=2000)\n",
    "result = job.result()\n",
    "out = result.get_counts(circ)\n",
    "out"
   ]
  },
  {
   "cell_type": "code",
   "execution_count": null,
   "metadata": {},
   "outputs": [],
   "source": [
    "\n",
    "n_shots=2000\n",
    "backend_simulator=Aer.get_backend('qasm_simulator')\n",
    "\n",
    "transpiled_circs_sim = transpile(qc_list, backend=backend_simulator, optimization_level=0)\n",
    "qobjs_sim = assemble(transpiled_circs_sim, backend=backend_simulator, shots=n_shots)\n",
    "\n",
    "sim_job = backend_simulator.run(qobjs_sim)"
   ]
  },
  {
   "cell_type": "code",
   "execution_count": null,
   "metadata": {},
   "outputs": [],
   "source": [
    "raw_results = [sim_job.result().get_counts(transpiled_circs_sim[circ_index]) for circ_index in\n",
    "                                    range(len(transpiled_circs_sim))]\n",
    "\n",
    "print(Pword_list)\n",
    "raw_results"
   ]
  },
  {
   "cell_type": "code",
   "execution_count": null,
   "metadata": {},
   "outputs": [],
   "source": [
    "raw_res=[]\n",
    "backend=Aer.get_backend('qasm_simulator')\n",
    "n_shots=2000\n",
    "\n",
    "for circuit in transpiled_circs_sim:\n",
    "    job = execute(circuit, backend, shots=n_shots)\n",
    "    result = job.result()\n",
    "    raw_res.append(result.get_counts(circuit))\n",
    "    \n",
    "raw_res"
   ]
  },
  {
   "cell_type": "code",
   "execution_count": null,
   "metadata": {},
   "outputs": [],
   "source": []
  },
  {
   "cell_type": "code",
   "execution_count": null,
   "metadata": {},
   "outputs": [],
   "source": [
    "print(qc_list[-1].draw())\n",
    "\n",
    "backend=Aer.get_backend('qasm_simulator')\n",
    "job = execute(qc_list[-1], backend, shots=2000)\n",
    "result = job.result()\n",
    "out = result.get_counts(qc_list[-1])\n",
    "out"
   ]
  },
  {
   "cell_type": "code",
   "execution_count": null,
   "metadata": {},
   "outputs": [],
   "source": []
  },
  {
   "cell_type": "code",
   "execution_count": null,
   "metadata": {},
   "outputs": [],
   "source": []
  },
  {
   "cell_type": "code",
   "execution_count": null,
   "metadata": {
    "code_folding": [
     0,
     3,
     27
    ]
   },
   "outputs": [],
   "source": [
    "def calc_exp_pauliword(count_dict, PauliWord_Str):\n",
    "    # takes correct part of bitstring when all lines measured\n",
    "    \n",
    "    if np.alltrue(np.array(list(PauliWord_Str), dtype=str)=='I'):\n",
    "        return 1\n",
    "    else:\n",
    "        Non_I_indices = np.where(np.array(list(PauliWord_Str), dtype=str) != 'I')\n",
    "        n_zeros = 0\n",
    "        n_ones = 0\n",
    "\n",
    "        for bitstring in count_dict:\n",
    "            # note reversed order!\n",
    "            measure_term = np.take([int(bit) for bit in bitstring], Non_I_indices)[0]\n",
    "\n",
    "            parity_m_term = sum(measure_term) % 2\n",
    "\n",
    "            if parity_m_term == 0:\n",
    "                n_zeros += count_dict[bitstring]\n",
    "            elif parity_m_term == 1:\n",
    "                n_ones += count_dict[bitstring]\n",
    "            else:\n",
    "                raise ValueError('state {} not allowed'.format(measure_term))\n",
    "\n",
    "        expectation_value = (n_zeros - n_ones) / (n_zeros + n_ones)\n",
    "\n",
    "        return expectation_value\n",
    "\n",
    "def Calc_Energy(raw_results, PWord_list):\n",
    "    E_list=[]\n",
    "    for index, raw_result_dic in enumerate(raw_results):\n",
    "        P_word=PWord_list[index][0]\n",
    "        coeff=PWord_list[index][1]\n",
    "        \n",
    "        exp_val = calc_exp_pauliword(raw_result_dic, P_word)\n",
    "        print(exp_val, coeff)\n",
    "        E_list.append(exp_val*coeff)\n",
    "        \n",
    "    return sum(E_list)\n",
    "        \n",
    "    "
   ]
  },
  {
   "cell_type": "code",
   "execution_count": null,
   "metadata": {},
   "outputs": [],
   "source": [
    "Pword_list"
   ]
  },
  {
   "cell_type": "code",
   "execution_count": null,
   "metadata": {},
   "outputs": [],
   "source": [
    "raw_results"
   ]
  },
  {
   "cell_type": "code",
   "execution_count": null,
   "metadata": {},
   "outputs": [],
   "source": [
    "raw_res"
   ]
  },
  {
   "cell_type": "code",
   "execution_count": null,
   "metadata": {},
   "outputs": [],
   "source": [
    "Calc_Energy(raw_results, Pword_list)+ nuclear_repulsion_energy"
   ]
  },
  {
   "cell_type": "code",
   "execution_count": null,
   "metadata": {},
   "outputs": [],
   "source": [
    "Calc_Energy(raw_res, Pword_list)+ nuclear_repulsion_energy"
   ]
  },
  {
   "cell_type": "code",
   "execution_count": null,
   "metadata": {},
   "outputs": [],
   "source": [
    "FCI_Energy + nuclear_repulsion_energy"
   ]
  },
  {
   "cell_type": "code",
   "execution_count": null,
   "metadata": {
    "code_folding": [
     0
    ]
   },
   "outputs": [],
   "source": []
  },
  {
   "cell_type": "code",
   "execution_count": null,
   "metadata": {},
   "outputs": [],
   "source": []
  },
  {
   "cell_type": "code",
   "execution_count": null,
   "metadata": {},
   "outputs": [],
   "source": [
    "import itertools\n",
    "list_op=qubitOp.to_opflow().oplist\n",
    "\n",
    "indices = range(len(list_op))\n",
    "[(i, j) for i, j in itertools.combinations(indices, 2) if not list_op[i].commutes(list_op[j])]"
   ]
  },
  {
   "cell_type": "code",
   "execution_count": null,
   "metadata": {},
   "outputs": [],
   "source": []
  },
  {
   "cell_type": "code",
   "execution_count": null,
   "metadata": {},
   "outputs": [],
   "source": []
  },
  {
   "cell_type": "code",
   "execution_count": null,
   "metadata": {
    "code_folding": [
     5
    ]
   },
   "outputs": [],
   "source": [
    "import networkx as nx\n",
    "import matplotlib.pyplot as plt\n",
    "import numpy as np\n",
    "from tqdm import tqdm\n",
    "\n",
    "\n",
    "def IBM_Build_Graph_Nodes(List_of_nodes, Graph, plot_graph=False):\n",
    "    \"\"\"\n",
    "\n",
    "    Function builds nodes of graph with attributes\n",
    "\n",
    "    \"\"\"\n",
    "    labels={}\n",
    "    node_list=[]\n",
    "    for node in List_of_nodes:\n",
    "        Graph.add_node(node)\n",
    "\n",
    "        if plot_graph is True:\n",
    "            node_list.append(node)\n",
    "\n",
    "            PauliWord = str(node.primitive)\n",
    "            labels[node] = PauliWord\n",
    "\n",
    "\n",
    "    if plot_graph is True:\n",
    "        plt.figure()\n",
    "\n",
    "        pos = nx.circular_layout(Graph)\n",
    "\n",
    "        nx.draw_networkx_nodes(Graph, pos,\n",
    "                               nodelist=node_list,\n",
    "                               node_color='r',\n",
    "                               node_size=500,\n",
    "                               alpha=0.8)\n",
    "\n",
    "        nx.draw_networkx_labels(Graph, pos, labels)  # , font_size=8)\n",
    "        plt.show()\n",
    "    return Graph\n"
   ]
  },
  {
   "cell_type": "code",
   "execution_count": null,
   "metadata": {},
   "outputs": [],
   "source": [
    "G=nx.Graph()\n",
    "IBM_Build_Graph_Nodes(list_op, G, plot_graph=True)"
   ]
  },
  {
   "cell_type": "code",
   "execution_count": null,
   "metadata": {
    "code_folding": [
     0
    ]
   },
   "outputs": [],
   "source": [
    "def Openfermion_Build_Graph_Edges_COMMUTING_QWC_AntiCommuting(Graph, List_of_nodes, anti_comm_QWC, plot_graph = False):\n",
    "    \"\"\"\n",
    "\n",
    "    Function builds graph edges for commuting / anticommuting / QWC PauliWords\n",
    "\n",
    "    Args:\n",
    "        PauliWord_string_nodes_list (list): list of PauliWords (str)\n",
    "        Graph: networkX graph with nodes already defined\n",
    "        anti_comm_QWC (str): flags to find either:\n",
    "                                           qubit wise commuting (QWC) terms  -> flag = 'QWC',\n",
    "                                                             commuting terms -> flag = 'C',\n",
    "                                                        anti-commuting terms -> flag = 'AC'\n",
    "        plot_graph (optional, bool): whether to plot graph\n",
    "\n",
    "    Returns:\n",
    "        Graph: Graph with nodes connected if they commute / QWC / anti-commute\n",
    "\n",
    "    \"\"\"\n",
    "    node_list=[]\n",
    "    labels={}\n",
    "\n",
    "    for index, selected_PauliWord in enumerate(tqdm(List_of_nodes, ascii=True, desc='Building Graph Edges')):\n",
    "\n",
    "        for j in range(index + 1, len(List_of_nodes)):\n",
    "            comparison_PauliWord = List_of_nodes[j]\n",
    "\n",
    "            if OpenFermion_Commutativity(selected_PauliWord, comparison_PauliWord, anti_comm_QWC) is True:\n",
    "                Graph.add_edge(selected_PauliWord, comparison_PauliWord)\n",
    "            else:\n",
    "                continue\n",
    "\n",
    "        if plot_graph is True:\n",
    "            node_list.append(selected_PauliWord)\n",
    "            PauliStrs, _ = selected_PauliWord\n",
    "            PauliStr_list = [''.join(map(str, [element for element in tupl[::-1]])) for tupl in PauliStrs]\n",
    "            PauliWord = ' '.join(PauliStr_list)\n",
    "            labels[selected_PauliWord] = PauliWord\n",
    "\n",
    "    if plot_graph is True:\n",
    "        plt.figure()\n",
    "\n",
    "        pos = nx.circular_layout(Graph)\n",
    "\n",
    "        nx.draw_networkx_nodes(Graph, pos,\n",
    "                               nodelist=node_list,\n",
    "                               node_color='r',\n",
    "                               node_size=500,\n",
    "                               alpha=0.8)\n",
    "\n",
    "        nx.draw_networkx_labels(Graph, pos, labels)  # , font_size=8)\n",
    "        nx.draw_networkx_edges(Graph, pos, width=1.0, alpha=0.5)\n",
    "        plt.show()\n",
    "\n",
    "    return Graph"
   ]
  },
  {
   "cell_type": "code",
   "execution_count": null,
   "metadata": {},
   "outputs": [],
   "source": [
    "i=3\n",
    "j=-5\n",
    "\n",
    "print(str(list_op[i].primitive))\n",
    "op1 = list_op[i]\n",
    "\n",
    "print(str(list_op[j].primitive))\n",
    "op2 = list_op[j]"
   ]
  },
  {
   "cell_type": "code",
   "execution_count": null,
   "metadata": {
    "code_folding": []
   },
   "outputs": [],
   "source": [
    "def IBM_Commutativity(Op1, Op2, Comm_flag):\n",
    "\n",
    "    \n",
    "    if Comm_flag=='C':\n",
    "        # https://qiskit.org/documentation/_modules/qiskit/aqua/operators/primitive_ops/pauli_op.html#PauliOp\n",
    "        return Op1.commutes(Op2)\n",
    "    else:\n",
    "\n",
    "        \n",
    "        if Comm_flag=='QWC':\n",
    "            Z_op1=Op1.primitive.z\n",
    "            X_op1=Op1.primitive.x \n",
    "\n",
    "            Z_op2=Op2.primitive.z\n",
    "            X_op2=Op2.primitive.x \n",
    "            \n",
    "            Z_terms = np.array(Z_op1, dtype=int) + np.array(Z_op2, dtype=int)\n",
    "            X_terms = np.array(X_op1, dtype=int)+ np.array(X_op2, dtype=int)\n",
    "            \n",
    "            print(Z_terms)\n",
    "            print(X_terms)\n",
    "            \n",
    "            if (sum(Z_terms)<=len(Z_op2)) and (sum(X_terms)<=len(X_op2)) and ((Z_terms<=1).all()) and ((X_terms<=1).all()):\n",
    "                return True\n",
    "            elif Op1==Op2:\n",
    "                return True\n",
    "            else:\n",
    "                return False\n",
    "        if Op1.commutes(Op2) is False:\n",
    "            return True\n",
    "        else:\n",
    "            return False\n",
    "\n",
    "        \n",
    "i=5\n",
    "j=6\n",
    "print(str(list_op[i].primitive))\n",
    "op1 = list_op[i]\n",
    "print(str(list_op[j].primitive))\n",
    "op2 = list_op[j]\n",
    "\n",
    "IBM_Commutativity(op1, op2, 'QWC')"
   ]
  },
  {
   "cell_type": "code",
   "execution_count": null,
   "metadata": {
    "code_folding": [
     2,
     72
    ]
   },
   "outputs": [],
   "source": [
    "\n",
    "\n",
    "def Openfermion_Build_Graph_Nodes(List_of_nodes, Graph, plot_graph=False):\n",
    "    \"\"\"\n",
    "\n",
    "    Function builds nodes of graph with attributes\n",
    "\n",
    "    Args:\n",
    "        List_of_nodes (list): A list of Pauliwords, where each entry is a tuple of (PauliWord, constant)\n",
    "        Graph ():\n",
    "        node_attributes_dict\n",
    "        plot_graph (optional, bool): whether to plot graph\n",
    "\n",
    "    Returns:\n",
    "\n",
    "\n",
    "\n",
    "    .. code-block:: python\n",
    "\n",
    "       from quchem.Graph import *\n",
    "\n",
    "       node_attributes_dict =  {'Cofactor': {'I0 I1 I2 I3': (-0.09706626861762624+0j),\n",
    "                                                         'Z0 I1 I2 I3': (0.17141282639402405+0j),\n",
    "                                                         'I0 Z1 I2 I3': (0.171412826394024+0j),\n",
    "                                                         'I0 I1 Z2 I3': (-0.2234315367466397+0j),\n",
    "                                                         'I0 I1 I2 Z3': (-0.2234315367466397+0j),\n",
    "                                                         'Z0 Z1 I2 I3': (0.1686889816869329+0j),\n",
    "                                                         'Y0 X1 X2 Y3': (0.04530261550868928+0j),\n",
    "                                                         'Y0 Y1 X2 X3': (-0.04530261550868928+0j),\n",
    "                                                         'X0 X1 Y2 Y3': (-0.04530261550868928+0j),\n",
    "                                                         'X0 Y1 Y2 X3': (0.04530261550868928+0j),\n",
    "                                                         'Z0 I1 Z2 I3': (0.12062523481381837+0j),\n",
    "                                                         'Z0 I1 I2 Z3': (0.16592785032250768+0j),\n",
    "                                                         'I0 Z1 Z2 I3': (0.16592785032250768+0j),\n",
    "                                                         'I0 Z1 I2 Z3': (0.12062523481381837+0j),\n",
    "                                                         'I0 I1 Z2 Z3': (0.174412876106516+0j)\n",
    "                                                         }\n",
    "                                                }\n",
    "\n",
    "        DO SOMETHING\n",
    "        >> blah\n",
    "\n",
    "    \"\"\"\n",
    "    labels={}\n",
    "    node_list=[]\n",
    "    for node in List_of_nodes:\n",
    "        Graph.add_node(node)\n",
    "\n",
    "        if plot_graph is True:\n",
    "            node_list.append(node)\n",
    "\n",
    "            PauliStrs, _ = node\n",
    "            PauliStr_list = [''.join(map(str,[element for element in tupl[::-1]])) for tupl in PauliStrs]\n",
    "            PauliWord= ' '.join(PauliStr_list)\n",
    "            labels[node] = PauliWord\n",
    "\n",
    "\n",
    "    if plot_graph is True:\n",
    "        plt.figure()\n",
    "\n",
    "        pos = nx.circular_layout(Graph)\n",
    "\n",
    "        nx.draw_networkx_nodes(Graph, pos,\n",
    "                               nodelist=node_list,\n",
    "                               node_color='r',\n",
    "                               node_size=500,\n",
    "                               alpha=0.8)\n",
    "\n",
    "        nx.draw_networkx_labels(Graph, pos, labels)  # , font_size=8)\n",
    "        plt.show()\n",
    "    return Graph\n",
    "\n",
    "def Openfermion_Build_Graph_Edges_COMMUTING_QWC_AntiCommuting(Graph, List_of_nodes, anti_comm_QWC, plot_graph = False):\n",
    "    \"\"\"\n",
    "\n",
    "    Function builds graph edges for commuting / anticommuting / QWC PauliWords\n",
    "\n",
    "    Args:\n",
    "        PauliWord_string_nodes_list (list): list of PauliWords (str)\n",
    "        Graph: networkX graph with nodes already defined\n",
    "        anti_comm_QWC (str): flags to find either:\n",
    "                                           qubit wise commuting (QWC) terms  -> flag = 'QWC',\n",
    "                                                             commuting terms -> flag = 'C',\n",
    "                                                        anti-commuting terms -> flag = 'AC'\n",
    "        plot_graph (optional, bool): whether to plot graph\n",
    "\n",
    "    Returns:\n",
    "        Graph: Graph with nodes connected if they commute / QWC / anti-commute\n",
    "\n",
    "    \"\"\"\n",
    "    node_list=[]\n",
    "    labels={}\n",
    "\n",
    "    for index, selected_PauliWord in enumerate(tqdm(List_of_nodes, ascii=True, desc='Building Graph Edges')):\n",
    "\n",
    "        for j in range(index + 1, len(List_of_nodes)):\n",
    "            comparison_PauliWord = List_of_nodes[j]\n",
    "\n",
    "            if OpenFermion_Commutativity(selected_PauliWord, comparison_PauliWord, anti_comm_QWC) is True:\n",
    "                Graph.add_edge(selected_PauliWord, comparison_PauliWord)\n",
    "            else:\n",
    "                continue\n",
    "\n",
    "        if plot_graph is True:\n",
    "            node_list.append(selected_PauliWord)\n",
    "            PauliStrs, _ = selected_PauliWord\n",
    "            PauliStr_list = [''.join(map(str, [element for element in tupl[::-1]])) for tupl in PauliStrs]\n",
    "            PauliWord = ' '.join(PauliStr_list)\n",
    "            labels[selected_PauliWord] = PauliWord\n",
    "\n",
    "    if plot_graph is True:\n",
    "        plt.figure()\n",
    "\n",
    "        pos = nx.circular_layout(Graph)\n",
    "\n",
    "        nx.draw_networkx_nodes(Graph, pos,\n",
    "                               nodelist=node_list,\n",
    "                               node_color='r',\n",
    "                               node_size=500,\n",
    "                               alpha=0.8)\n",
    "\n",
    "        nx.draw_networkx_labels(Graph, pos, labels)  # , font_size=8)\n",
    "        nx.draw_networkx_edges(Graph, pos, width=1.0, alpha=0.5)\n",
    "        plt.show()\n",
    "\n",
    "    return Graph\n",
    "\n",
    "def Openfermion_Get_Complemenary_Graph(Graph, plot_graph=False):\n",
    "\n",
    "    Complement_Graph = nx.complement(Graph)\n",
    "\n",
    "    node_list=[]\n",
    "    labels={}\n",
    "    if plot_graph is True:\n",
    "        plt.figure()\n",
    "        for node in Complement_Graph.nodes:\n",
    "            node_list.append(node)\n",
    "            PauliStrs, _ = node\n",
    "            PauliStr_list = [''.join(map(str, [element for element in tupl[::-1]])) for tupl in PauliStrs]\n",
    "            PauliWord = ' '.join(PauliStr_list)\n",
    "            labels[node] = PauliWord\n",
    "\n",
    "        pos = nx.circular_layout(Complement_Graph)\n",
    "\n",
    "        nx.draw_networkx_nodes(Complement_Graph, pos,\n",
    "                               nodelist=node_list,\n",
    "                               node_color='r',\n",
    "                               node_size=500,\n",
    "                               alpha=0.8)\n",
    "\n",
    "        nx.draw_networkx_labels(Complement_Graph, pos, labels)  # , font_size=8)\n",
    "        nx.draw_networkx_edges(Complement_Graph, pos, width=1.0, alpha=0.5)\n",
    "        plt.show()\n",
    "    return Complement_Graph\n",
    "\n",
    "def Openfermion_Get_clique_cover(Graph, strategy='largest_first', plot_graph=False):\n",
    "    \"\"\"\n",
    "    https: // en.wikipedia.org / wiki / Clique_cover\n",
    "\n",
    "    Function gets clique cover of a graph. Does this via a graph colouring approach - therefore\n",
    "    strategy is important here!\n",
    "\n",
    "    Args:\n",
    "        Graph (networkx.classes.graph.Graph): networkx graph\n",
    "        strategy (str): graph colouring method to find clique cover. (note is a heuristic alg)\n",
    "        plot_graph (optional, bool): whether to plot graph\n",
    "        node_attributes_dict (dict): Dictionary with nodes as keys and attributes as values\n",
    "\n",
    "    Returns:\n",
    "        colour_key_for_nodes (dict): A dictionary containing colours (sets) as keys and item as list of nodes\n",
    "                                     that are completely connected by edges\n",
    "\n",
    "    \"\"\"\n",
    "    comp_GRAPH = Openfermion_Get_Complemenary_Graph(Graph, plot_graph=False)\n",
    "\n",
    "    greedy_colouring_output_dic = nx.greedy_color(comp_GRAPH, strategy=strategy, interchange=False)\n",
    "    unique_colours = set(greedy_colouring_output_dic.values())\n",
    "\n",
    "    colour_key_for_nodes = {}\n",
    "    for colour in unique_colours:\n",
    "        colour_key_for_nodes[colour] = [k for k in greedy_colouring_output_dic.keys()\n",
    "                                        if greedy_colouring_output_dic[k] == colour]\n",
    "\n",
    "    if plot_graph is True:\n",
    "        import matplotlib.cm as cm\n",
    "        colour_list = cm.rainbow(np.linspace(0, 1, len(colour_key_for_nodes)))\n",
    "        pos = nx.circular_layout(Graph)\n",
    "\n",
    "        for colour in colour_key_for_nodes:\n",
    "            nx.draw_networkx_nodes(Graph, pos,\n",
    "                                   nodelist=[node for node in colour_key_for_nodes[colour]],\n",
    "                                   node_color=colour_list[colour].reshape([1,4]),\n",
    "                                   node_size=500,\n",
    "                                   alpha=0.8)\n",
    "\n",
    "\n",
    "        # labels = {node: node for node in list(Graph.nodes)}\n",
    "        seperator = ' '\n",
    "        labels = {node: seperator.join([tup[1] + str(tup[0]) for tup in node[0]]) for node in list(Graph.nodes)}\n",
    "\n",
    "        nx.draw_networkx_labels(Graph, pos, labels)  # , font_size=8)\n",
    "\n",
    "        nx.draw_networkx_edges(Graph, pos, width=1.0, alpha=0.5)\n",
    "        plt.show()\n",
    "\n",
    "    return colour_key_for_nodes\n",
    "\n",
    "def Convert_Clique_Cover_to_QubitOp(clique_cover_dict):\n",
    "    from openfermion.ops import QubitOperator\n",
    "\n",
    "    qubit_op_list_clique={}\n",
    "    for key in clique_cover_dict:\n",
    "        qubit_op_list=[]\n",
    "        for PauliStr_const in clique_cover_dict[key]:\n",
    "            PauliStrs, const = PauliStr_const\n",
    "            Op = QubitOperator(PauliStrs, const)\n",
    "            qubit_op_list.append(Op)\n",
    "        qubit_op_list_clique[key] = qubit_op_list\n",
    "\n",
    "    return qubit_op_list_clique\n",
    "\n",
    "def Convert_Clique_Cover_to_str(clique_cover_dict):\n",
    "    from openfermion.ops import QubitOperator\n",
    "\n",
    "    qubit_op_list_clique={}\n",
    "    for key in clique_cover_dict:\n",
    "        qubit_op_list=[]\n",
    "        for PauliStr_const in clique_cover_dict[key]:\n",
    "\n",
    "            PauliStrs, const = PauliStr_const\n",
    "            PauliStr_list = [''.join(map(str, [element for element in tupl[::-1]])) for tupl in PauliStrs]\n",
    "            PauliWord = ' '.join(PauliStr_list)\n",
    "\n",
    "            qubit_op_list.append((PauliWord, const))\n",
    "        qubit_op_list_clique[key] = qubit_op_list\n",
    "\n",
    "    return qubit_op_list_clique\n",
    "\n",
    "class Openfermion_Hamiltonian_Graph():\n",
    "\n",
    "    def __init__(self, QubitHamiltonian):\n",
    "\n",
    "        self.QubitHamiltonian = QubitHamiltonian\n",
    "        self.Graph = nx.Graph()\n",
    "\n",
    "    def _Get_hashable_Hamiltonian(self):\n",
    "        # networkX requires hashable object... therefore concert QubitHamiltonian to hashable form\n",
    "\n",
    "        self.QubitHamiltonianFrozen = tuple(frozenset((PauliStr, const) for op in self.QubitHamiltonian \\\n",
    "                                                      for PauliStr, const in op.terms.items()))\n",
    "\n",
    "    def _Build_Graph_nodes(self, plot_graph=False):\n",
    "\n",
    "        self.Graph = Openfermion_Build_Graph_Nodes(self.QubitHamiltonianFrozen, self.Graph, plot_graph=plot_graph)\n",
    "\n",
    "    def _Build_Graph_edges(self, commutativity_flag, plot_graph=False):\n",
    "\n",
    "        self.Graph = Openfermion_Build_Graph_Edges_COMMUTING_QWC_AntiCommuting(self.Graph, self.QubitHamiltonianFrozen,\n",
    "                                                                               commutativity_flag, plot_graph = plot_graph)\n",
    "\n",
    "    def _Colour_Graph(self, Graph_colouring_strategy='largest_first', plot_graph=False):\n",
    "\n",
    "        output_sets = Openfermion_Get_clique_cover(self.Graph, strategy=Graph_colouring_strategy, plot_graph=plot_graph)\n",
    "\n",
    "        return output_sets\n",
    "\n",
    "    def Get_Clique_Cover_as_QubitOp(self, commutativity_flag, Graph_colouring_strategy='largest_first', plot_graph=False):\n",
    "        self.Graph.clear()\n",
    "        self._Get_hashable_Hamiltonian()\n",
    "        self._Build_Graph_nodes(plot_graph=plot_graph)\n",
    "        self._Build_Graph_edges(commutativity_flag, plot_graph=plot_graph)\n",
    "        output_sets = self._Colour_Graph(Graph_colouring_strategy=Graph_colouring_strategy, plot_graph=plot_graph)\n",
    "        qubitOperator_list = Convert_Clique_Cover_to_QubitOp(output_sets)\n",
    "        return qubitOperator_list\n",
    "\n",
    "    def Get_Clique_Cover_as_Pauli_strings(self, commutativity_flag, Graph_colouring_strategy='largest_first', plot_graph=False):\n",
    "        self.Graph.clear()\n",
    "        self._Get_hashable_Hamiltonian()\n",
    "        self._Build_Graph_nodes(plot_graph=plot_graph)\n",
    "        self._Build_Graph_edges(commutativity_flag, plot_graph=plot_graph)\n",
    "        output_sets = self._Colour_Graph(Graph_colouring_strategy=Graph_colouring_strategy, plot_graph=plot_graph)\n",
    "        qubitOperator_list_str = Convert_Clique_Cover_to_str(output_sets)\n",
    "        return qubitOperator_list_str"
   ]
  }
 ],
 "metadata": {
  "kernelspec": {
   "display_name": "Python 3",
   "language": "python",
   "name": "python3"
  },
  "language_info": {
   "codemirror_mode": {
    "name": "ipython",
    "version": 3
   },
   "file_extension": ".py",
   "mimetype": "text/x-python",
   "name": "python",
   "nbconvert_exporter": "python",
   "pygments_lexer": "ipython3",
   "version": "3.7.6"
  }
 },
 "nbformat": 4,
 "nbformat_minor": 4
}
