{
 "cells": [
  {
   "cell_type": "code",
   "execution_count": null,
   "metadata": {},
   "outputs": [],
   "source": [
    "from quchem_ibm.Qiskit_Chemistry import *"
   ]
  },
  {
   "cell_type": "code",
   "execution_count": null,
   "metadata": {},
   "outputs": [],
   "source": [
    "transformation='BK'"
   ]
  },
  {
   "cell_type": "code",
   "execution_count": null,
   "metadata": {},
   "outputs": [],
   "source": [
    "from quchem.Hamiltonian_Generator_Functions import *\n",
    "from quchem.Graph import *\n",
    "## HAMILTONIAN start\n",
    "\n",
    "Molecule = 'LiH'\n",
    "geometry = [('Li', (0., 0., 0.)), ('H', (0., 0., 1.45))]\n",
    "basis = 'sto-6g'\n",
    "\n",
    "\n",
    "### Get Hamiltonian\n",
    "Hamilt = Hamiltonian_PySCF(Molecule,\n",
    "                     run_scf=1, run_mp2=1, run_cisd=1, run_ccsd=1, run_fci=1,\n",
    "                     basis=basis,\n",
    "                     multiplicity=1,\n",
    "                     geometry=geometry)  # normally None!\n",
    "QubitHamiltonian = Hamilt.Get_Qubit_Hamiltonian(threshold=None, transformation=transformation)\n",
    "### HAMILTONIAN end\n",
    "\n",
    "#####################################\n",
    "\n",
    "print(QubitHamiltonian)\n",
    "\n",
    "\n",
    "fci_energy = Hamilt.molecule.fci_energy\n",
    "print(fci_energy)"
   ]
  },
  {
   "cell_type": "markdown",
   "metadata": {},
   "source": [
    "From PHYS. REV. X, **8**, 031022 (2018):\n",
    "\n",
    "$$LiH_{BK}^{HartreeFock} = | 101000000000\\rangle$$"
   ]
  },
  {
   "cell_type": "markdown",
   "metadata": {},
   "source": []
  },
  {
   "cell_type": "code",
   "execution_count": null,
   "metadata": {},
   "outputs": [],
   "source": [
    "from quchem.Ansatz_Generator_Functions import *\n",
    "n_electrons=Hamilt.molecule.n_electrons\n",
    "n_qubits=Hamilt.molecule.n_qubits\n",
    "\n",
    "ansatz_obj = Ansatz(n_electrons,n_qubits)\n",
    "print('JW ground state = ', ansatz_obj.Get_JW_HF_state_in_OCC_basis())\n",
    "print('BK ground state = ', ansatz_obj.Get_BK_HF_state_in_OCC_basis())"
   ]
  },
  {
   "cell_type": "code",
   "execution_count": null,
   "metadata": {},
   "outputs": [],
   "source": [
    "# qubits_to_remove = Find_I_Z_indices_in_Hamiltonian(QubitHamiltonian, Hamilt.molecule.n_qubits)\n",
    "# print('qubits only acted on by I or Z:', qubits_to_remove)\n",
    "\n",
    "\n",
    "# input_state = ansatz_obj.Get_BK_HF_state_in_OCC_basis() if transformation=='BK' else ansatz_obj.Get_JW_HF_state_in_OCC_basis()\n",
    "# # Remove_Z_terms_from_Hamiltonian\n",
    "# NewQubitHamiltonian = Remove_Z_terms_from_Hamiltonian(\n",
    "#                                                     QubitHamiltonian, \n",
    "#                                                     input_state,\n",
    "#                                                     qubits_to_remove,\n",
    "#                                                     check_reduction=True)\n",
    "# NewQubitHamiltonian"
   ]
  },
  {
   "cell_type": "code",
   "execution_count": null,
   "metadata": {},
   "outputs": [],
   "source": [
    "# qubitNo_re_label_dict, NewQubitHamiltonian_relabelled = Re_label_Hamiltonian(NewQubitHamiltonian)\n",
    "# NewQubitHamiltonian_relabelled"
   ]
  },
  {
   "cell_type": "code",
   "execution_count": null,
   "metadata": {},
   "outputs": [],
   "source": [
    "NewQubitHamiltonian_relabelled=QubitHamiltonian"
   ]
  },
  {
   "cell_type": "markdown",
   "metadata": {},
   "source": [
    "# Find what new FCI energy is\n",
    "- here should be the same as true answer!"
   ]
  },
  {
   "cell_type": "code",
   "execution_count": null,
   "metadata": {},
   "outputs": [],
   "source": [
    "from openfermion import qubit_operator_sparse\n",
    "from scipy.sparse import csc_matrix\n",
    "new_Molecular_H_MATRIX =  csc_matrix(qubit_operator_sparse(NewQubitHamiltonian_relabelled))\n",
    "\n",
    "# new_Molecular_H_MATRIX = np.flip(new_Molecular_H_MATRIX)\n",
    "\n",
    "from scipy.sparse.linalg import eigs\n",
    "try:\n",
    "    eig_values, eig_vectors = eigs(new_Molecular_H_MATRIX)\n",
    "except:\n",
    "    from scipy.linalg import eig\n",
    "    eig_values, eig_vectors = eig(new_Molecular_H_MATRIX.todense())\n",
    "    \n",
    "new_FCI_Energy = min(eig_values)\n",
    "\n",
    "\n",
    "index = np.where(eig_values==new_FCI_Energy)[0][0]\n",
    "ground_state_vector = eig_vectors[:, index]\n",
    "\n",
    "print('new_FCI = ', new_FCI_Energy, 'VS old FCI:', fci_energy)\n",
    "print(np.isclose(new_FCI_Energy, fci_energy))"
   ]
  },
  {
   "cell_type": "code",
   "execution_count": null,
   "metadata": {},
   "outputs": [],
   "source": [
    "np.dot(ground_state_vector.conj().T, new_Molecular_H_MATRIX.dot(ground_state_vector))"
   ]
  },
  {
   "cell_type": "markdown",
   "metadata": {},
   "source": [
    "# HF + UCCSD"
   ]
  },
  {
   "cell_type": "code",
   "execution_count": null,
   "metadata": {},
   "outputs": [],
   "source": [
    "# input_state = ansatz_obj.Get_BK_HF_state_in_OCC_basis() if transformation=='BK' else ansatz_obj.Get_JW_HF_state_in_OCC_basis()\n",
    "# new_input_state = np.delete(input_state, qubits_to_remove)\n",
    "\n",
    "# n_qubits_new = len(new_input_state)\n",
    "# new_input_state"
   ]
  },
  {
   "cell_type": "code",
   "execution_count": null,
   "metadata": {},
   "outputs": [],
   "source": [
    "new_input_state=ansatz_obj.Get_BK_HF_state_in_OCC_basis()"
   ]
  },
  {
   "cell_type": "code",
   "execution_count": null,
   "metadata": {},
   "outputs": [],
   "source": [
    "# ansatz_obj.Get_ia_and_ijab_terms()\n",
    "\n",
    "# print('ia standard')\n",
    "# print(ansatz_obj.Sec_Quant_CC_ia_Fermi_ops)\n",
    "\n",
    "# print('ijab standard')\n",
    "# print(ansatz_obj.Sec_Quant_CC_ijab_Fermi_ops)\n",
    "\n",
    "# ### single trotter step\n",
    "# ansatz_obj.UCCSD_single_trotter_step(transformation,\n",
    "#                                      List_FermiOps_ia=ansatz_obj.Sec_Quant_CC_ia_Fermi_ops,\n",
    "#                                      List_FermiOps_ijab=ansatz_obj.Sec_Quant_CC_ijab_Fermi_ops)\n",
    "\n",
    "# print('')\n",
    "# print('ia standard')\n",
    "# print(ansatz_obj.Second_Quant_CC_single_Trot_list_ia)\n",
    "# print('ijab standard')\n",
    "# print(ansatz_obj.Second_Quant_CC_single_Trot_list_ijab)"
   ]
  },
  {
   "cell_type": "code",
   "execution_count": null,
   "metadata": {},
   "outputs": [],
   "source": [
    "# new_CC_ia_single_trot = Remove_indices_from_qubit_ops(ansatz_obj.Second_Quant_CC_single_Trot_list_ia,\n",
    "#                                                       qubits_to_remove)\n",
    "# print('ia reduced')\n",
    "# print(new_CC_ia_single_trot)\n",
    "\n",
    "# new_CC_ijab_single_trot = Remove_indices_from_qubit_ops(ansatz_obj.Second_Quant_CC_single_Trot_list_ijab,\n",
    "#                                                       qubits_to_remove)\n",
    "# print('ijab reduced')\n",
    "# print(new_CC_ijab_single_trot)\n",
    "\n",
    "\n",
    "# relabelled_new_CC_ia_single_trot =Re_label_qubit_operators(qubitNo_re_label_dict, new_CC_ia_single_trot)\n",
    "# relabelled_new_CC_ijab_single_trot =Re_label_qubit_operators(qubitNo_re_label_dict, new_CC_ijab_single_trot)\n",
    "\n",
    "# print('')\n",
    "# print('ia reduced relabelled')\n",
    "# print(relabelled_new_CC_ia_single_trot)\n",
    "# print('')\n",
    "# print('ijab reduced relabelled')\n",
    "# print(relabelled_new_CC_ijab_single_trot)"
   ]
  },
  {
   "cell_type": "markdown",
   "metadata": {},
   "source": [
    "# Ansatz Circuit"
   ]
  },
  {
   "cell_type": "code",
   "execution_count": null,
   "metadata": {},
   "outputs": [],
   "source": [
    "# for op in relabelled_new_CC_ia_single_trot[1]:\n",
    "#     print(op)\n",
    "# print(list(op.terms.keys())[0])"
   ]
  },
  {
   "cell_type": "code",
   "execution_count": null,
   "metadata": {},
   "outputs": [],
   "source": [
    "# UCCSD_ansatz_Q_Circ_obj = Ansatz_Circuit(new_input_state,\n",
    "#                                      relabelled_new_CC_ia_single_trot, \n",
    "#                                      relabelled_new_CC_ijab_single_trot)\n",
    "\n",
    "# theta_ia = [0 for _ in range(len(relabelled_new_CC_ia_single_trot))]\n",
    "# theta_ijab = [0 for _ in range(len(relabelled_new_CC_ijab_single_trot))]\n",
    "\n",
    "# UCCSD_ansatz_Q_Circ =UCCSD_ansatz_Q_Circ_obj.Get_Full_HF_UCCSD_QC(\n",
    "#                                         Theta_param_list_ia=theta_ia, \n",
    "#                                          Theta_param_list_ijab=theta_ijab,\n",
    "#                                          ia_first=True)\n",
    "# UCCSD_ansatz_Q_Circ"
   ]
  },
  {
   "cell_type": "code",
   "execution_count": null,
   "metadata": {},
   "outputs": [],
   "source": [
    "n_qubits= len(new_input_state)\n",
    "check_ansatz_state = False\n",
    "decompose_fully=True\n",
    "\n",
    "Ansatz_circuit, q_reg = Vector_defined_Ansatz(n_qubits,\n",
    "                                              ground_state_vector,\n",
    "                                              check_ansatz_state=check_ansatz_state,\n",
    "                                              decompose_fully=decompose_fully)"
   ]
  },
  {
   "cell_type": "code",
   "execution_count": null,
   "metadata": {},
   "outputs": [],
   "source": [
    "Ansatz_circuit.draw()"
   ]
  },
  {
   "cell_type": "markdown",
   "metadata": {},
   "source": [
    "# Standard VQE"
   ]
  },
  {
   "cell_type": "code",
   "execution_count": null,
   "metadata": {},
   "outputs": [],
   "source": [
    "from tqdm.notebook import tqdm"
   ]
  },
  {
   "cell_type": "code",
   "execution_count": null,
   "metadata": {},
   "outputs": [],
   "source": [
    "standard_VQE_circuits, standard_I_term = Build_Standard_VQE_circuits_MEMORY_EFF(\n",
    "                                                    NewQubitHamiltonian_relabelled, \n",
    "                                                    Ansatz_circuit,\n",
    "                                                    q_reg)"
   ]
  },
  {
   "cell_type": "code",
   "execution_count": null,
   "metadata": {},
   "outputs": [],
   "source": [
    "# standard_VQE_circuits, standard_I_term = Build_Standard_VQE_circuits(\n",
    "#                                                     NewQubitHamiltonian_relabelled, \n",
    "#                                                     Ansatz_circuit,\n",
    "#                                                     q_reg)"
   ]
  },
  {
   "cell_type": "markdown",
   "metadata": {},
   "source": [
    "# Graph"
   ]
  },
  {
   "cell_type": "code",
   "execution_count": null,
   "metadata": {},
   "outputs": [],
   "source": [
    "from tqdm.notebook import tqdm"
   ]
  },
  {
   "cell_type": "code",
   "execution_count": null,
   "metadata": {},
   "outputs": [],
   "source": [
    "Hamiltonian_graph_obj = Openfermion_Hamiltonian_Graph(NewQubitHamiltonian_relabelled)\n",
    "\n",
    "commutativity_flag = 'AC' ## <- defines relationship between sets!!!\n",
    "plot_graph = False\n",
    "Graph_colouring_strategy='largest_first'\n",
    "anti_commuting_sets = Hamiltonian_graph_obj.Get_Clique_Cover_as_QubitOp(commutativity_flag, Graph_colouring_strategy=Graph_colouring_strategy, plot_graph=plot_graph)\n",
    "\n",
    "anti_commuting_sets"
   ]
  },
  {
   "cell_type": "markdown",
   "metadata": {},
   "source": [
    "# Seq Rot circuits"
   ]
  },
  {
   "cell_type": "code",
   "execution_count": null,
   "metadata": {},
   "outputs": [],
   "source": [
    "n_qubits= len(new_input_state)\n",
    "rotation_reduction_check=False\n",
    "\n",
    "Seq_Rot_VQE_circuits, Seq_Rot_I_term = Get_Seq_Rot_Unitary_Part_circuits_MEMORY_EFF(\n",
    "                                anti_commuting_sets, \n",
    "                                Ansatz_circuit,\n",
    "                                q_reg,\n",
    "                                n_qubits,\n",
    "                                S_index_dict=None, \n",
    "                                rotation_reduction_check=rotation_reduction_check)"
   ]
  },
  {
   "cell_type": "code",
   "execution_count": null,
   "metadata": {},
   "outputs": [],
   "source": [
    "# n_qubits= len(new_input_state)\n",
    "# rotation_reduction_check=False\n",
    "\n",
    "# Seq_Rot_VQE_circuits, Seq_Rot_I_term = Get_Seq_Rot_Unitary_Part_circuits(\n",
    "#                                 anti_commuting_sets, \n",
    "#                                 Ansatz_circuit,\n",
    "#                                 q_reg,\n",
    "#                                 n_qubits,\n",
    "#                                 S_index_dict=None, \n",
    "#                                 rotation_reduction_check=rotation_reduction_check)"
   ]
  },
  {
   "cell_type": "markdown",
   "metadata": {},
   "source": [
    "# LCU circuits"
   ]
  },
  {
   "cell_type": "code",
   "execution_count": null,
   "metadata": {},
   "outputs": [],
   "source": [
    "# n_qubits= len(new_input_state)\n",
    "# check_ansatz_state = False\n",
    "\n",
    "# LCU_VQE_circuits, LCU_I_term= Get_LCU_Unitary_Part_circuits(anti_commuting_sets, ground_state_vector, n_qubits, \n",
    "#                                   N_index_dict=None,check_ansatz_state=check_ansatz_state)"
   ]
  },
  {
   "cell_type": "code",
   "execution_count": null,
   "metadata": {
    "code_folding": [
     3
    ]
   },
   "outputs": [],
   "source": []
  },
  {
   "cell_type": "code",
   "execution_count": null,
   "metadata": {},
   "outputs": [],
   "source": [
    "n_qubits= len(new_input_state)\n",
    "\n",
    "\n",
    "LCU_VQE_circuits, LCU_I_term=Get_LCU_Unitary_Part_circuits_MEMORY_EFF(\n",
    "                                                                        anti_commuting_sets, \n",
    "                                                                        Ansatz_circuit,\n",
    "                                                                        q_reg,\n",
    "                                                                        n_qubits,\n",
    "                                                                        N_index_dict=None)"
   ]
  },
  {
   "cell_type": "markdown",
   "metadata": {},
   "source": [
    "# Save experiment input"
   ]
  },
  {
   "cell_type": "code",
   "execution_count": null,
   "metadata": {},
   "outputs": [],
   "source": [
    "list(NewQubitHamiltonian_relabelled)"
   ]
  },
  {
   "cell_type": "code",
   "execution_count": null,
   "metadata": {},
   "outputs": [],
   "source": [
    "filename = 'LiH_bravyi_kitaev_12_qubit_experiment'\n",
    "n_qubits= len(new_input_state)\n",
    "\n",
    "Save_exp_inputs(filename, NewQubitHamiltonian_relabelled, anti_commuting_sets, Hamilt.geometry, basis, transformation,\n",
    "                    Graph_colouring_strategy, fci_energy,\n",
    "                    standard_VQE_circuits, standard_I_term,\n",
    "                    Seq_Rot_VQE_circuits, Seq_Rot_I_term,\n",
    "                    LCU_VQE_circuits, LCU_I_term,\n",
    "                    ground_state_vector,\n",
    "                    n_qubits,\n",
    "                    S_index_dict=None,\n",
    "                    N_index_dict=None)"
   ]
  },
  {
   "cell_type": "code",
   "execution_count": null,
   "metadata": {},
   "outputs": [],
   "source": [
    "# qc_list = [QuantumCircuit.from_qasm_str(exp_dict['circuit']) for\n",
    "#            exp_dict in Seq_Rot_VQE_circuits if exp_dict['circuit']]"
   ]
  },
  {
   "cell_type": "code",
   "execution_count": null,
   "metadata": {},
   "outputs": [],
   "source": []
  }
 ],
 "metadata": {
  "kernelspec": {
   "display_name": "Python 3",
   "language": "python",
   "name": "python3"
  },
  "language_info": {
   "codemirror_mode": {
    "name": "ipython",
    "version": 3
   },
   "file_extension": ".py",
   "mimetype": "text/x-python",
   "name": "python",
   "nbconvert_exporter": "python",
   "pygments_lexer": "ipython3",
   "version": "3.7.6"
  }
 },
 "nbformat": 4,
 "nbformat_minor": 4
}
