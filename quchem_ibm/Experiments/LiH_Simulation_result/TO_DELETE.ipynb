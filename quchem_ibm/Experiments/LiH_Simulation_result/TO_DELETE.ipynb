{
 "cells": [
  {
   "cell_type": "code",
   "execution_count": 1,
   "metadata": {},
   "outputs": [],
   "source": [
    "import pickle\n",
    "import os\n",
    "import numpy as np\n",
    "from tqdm.notebook import tqdm"
   ]
  },
  {
   "cell_type": "code",
   "execution_count": null,
   "metadata": {},
   "outputs": [],
   "source": []
  },
  {
   "cell_type": "code",
   "execution_count": 20,
   "metadata": {
    "code_folding": [
     2
    ]
   },
   "outputs": [],
   "source": [
    "from quchem_ibm.exp_analysis import *\n",
    "\n",
    "def dict_of_M_to_list(M_dict, PauliOP):\n",
    "    \n",
    "    P_Qubit_list, _ = zip(*(list(*PauliOP.terms.keys())))\n",
    "    \n",
    "    list_of_M_bitstrings=None\n",
    "    for bit_string, N_obtained in M_dict.items():\n",
    "        \n",
    "        M_string = np.take(list(bit_string[::-1]), P_Qubit_list) # only take terms measured! Note bitstring reversed!\n",
    "        \n",
    "        array_meas = np.repeat(''.join(M_string), N_obtained)\n",
    "        if list_of_M_bitstrings is None:\n",
    "            list_of_M_bitstrings=array_meas\n",
    "        else:\n",
    "            list_of_M_bitstrings=np.hstack((list_of_M_bitstrings,array_meas))\n",
    "    \n",
    "    # randomly shuffle (seed means outcome will always be the SAME!)\n",
    "#     np.random.seed(42) \n",
    "    np.random.shuffle(list_of_M_bitstrings) \n",
    "    \n",
    "    return list_of_M_bitstrings"
   ]
  },
  {
   "cell_type": "code",
   "execution_count": 3,
   "metadata": {},
   "outputs": [],
   "source": [
    "def S_ij(bitstring):\n",
    "    parity =  1 if sum(map(int, bitstring)) % 2 == 0 else -1\n",
    "    return parity"
   ]
  },
  {
   "cell_type": "code",
   "execution_count": 4,
   "metadata": {},
   "outputs": [],
   "source": [
    "def M_dict_IMPROTANT(M_dict, PauliOP, threshold_N_Meas=1000):\n",
    "    # get most important terms measured!\n",
    "    P_Qubit_list, _ = zip(*(list(*PauliOP.terms.keys())))\n",
    "    \n",
    "    output_dict={}\n",
    "    for key in list(M_dict.keys()):\n",
    "        if M_dict[key]>=threshold_N_Meas:\n",
    "            bitstring=np.take(list(key)[::-1] ,P_Qubit_list)\n",
    "            bitstring=''.join(bitstring)\n",
    "            if bitstring in output_dict.keys():\n",
    "                output_dict[bitstring]+=M_dict[key]*S_ij(bitstring)\n",
    "            else:\n",
    "                output_dict[bitstring]=M_dict[key]*S_ij(bitstring)\n",
    "\n",
    "    return output_dict"
   ]
  },
  {
   "cell_type": "code",
   "execution_count": null,
   "metadata": {},
   "outputs": [],
   "source": []
  },
  {
   "cell_type": "code",
   "execution_count": 5,
   "metadata": {},
   "outputs": [],
   "source": [
    "# # input for exp\n",
    "base_dir = os.getcwd()\n",
    "input_file = os.path.join(base_dir, 'LiH_simulation_RESULTS_time=2020Oct07-163210198971.pickle')\n",
    "with open(input_file, 'rb') as handle:\n",
    "    LiH_data = pickle.load(handle)\n"
   ]
  },
  {
   "cell_type": "code",
   "execution_count": 6,
   "metadata": {},
   "outputs": [],
   "source": [
    "experimental_data_STANDARD = LiH_data['experiment_data'].copy()\n",
    "del LiH_data\n",
    "EXP_RES = experimental_data_STANDARD[101852100]['standard'][0].copy() # [0] takes results from one run\n",
    "EXP_RES_SEQ_ROT = experimental_data_STANDARD[101852100]['seq_rot'][0].copy()\n",
    "del experimental_data_STANDARD\n",
    "\n"
   ]
  },
  {
   "cell_type": "code",
   "execution_count": 8,
   "metadata": {},
   "outputs": [],
   "source": [
    "# EXP_RES[0]"
   ]
  },
  {
   "cell_type": "code",
   "execution_count": 578,
   "metadata": {},
   "outputs": [
    {
     "data": {
      "text/plain": [
       "{'measurement_dict': {'000000000101': 78872,\n",
       "  '000000000111': 79424,\n",
       "  '000000010001': 53,\n",
       "  '000000010011': 62,\n",
       "  '000000101101': 82,\n",
       "  '000000101111': 97,\n",
       "  '000000111001': 81,\n",
       "  '000000111011': 99,\n",
       "  '000001000001': 42,\n",
       "  '000001000011': 83,\n",
       "  '000001000100': 1,\n",
       "  '000100000001': 55,\n",
       "  '000100000011': 73,\n",
       "  '010000000001': 904,\n",
       "  '010000000011': 890,\n",
       "  '100010001101': 2,\n",
       "  '100010110001': 195,\n",
       "  '100010110011': 214,\n",
       "  '110010100001': 216,\n",
       "  '110010100011': 225},\n",
       " 'qubitOp': (-0.015942776005763024+0j) [Z0 X1 Z3],\n",
       " 'coeff': (-0.015942776005763024+0j)}"
      ]
     },
     "execution_count": 578,
     "metadata": {},
     "output_type": "execute_result"
    }
   ],
   "source": [
    "EXP_RES[8]"
   ]
  },
  {
   "cell_type": "code",
   "execution_count": 120,
   "metadata": {},
   "outputs": [],
   "source": [
    "# EXP_RES[29]\n",
    "# np.take(list('100010000101'[::-1]),[3,5,7,9,10,11])"
   ]
  },
  {
   "cell_type": "code",
   "execution_count": 9,
   "metadata": {},
   "outputs": [
    {
     "data": {
      "text/plain": [
       "{'0000': 31890, '1000': -48119, '0010': -48401, '1010': 31668}"
      ]
     },
     "execution_count": 9,
     "metadata": {},
     "output_type": "execute_result"
    }
   ],
   "source": [
    "INDEX=406\n",
    "xx=M_dict_IMPROTANT(EXP_RES[INDEX]['measurement_dict'], \n",
    "                    EXP_RES[INDEX]['qubitOp'], \n",
    "                    threshold_N_Meas=1000)\n",
    "xx"
   ]
  },
  {
   "cell_type": "code",
   "execution_count": 500,
   "metadata": {},
   "outputs": [
    {
     "data": {
      "text/plain": [
       "-352"
      ]
     },
     "execution_count": 500,
     "metadata": {},
     "output_type": "execute_result"
    }
   ],
   "source": [
    "sum(xx.values())"
   ]
  },
  {
   "cell_type": "code",
   "execution_count": null,
   "metadata": {},
   "outputs": [],
   "source": [
    "# for circuit_index in i_list: # <-- i_list here is only X Y terms!\n",
    "#     xx=M_dict_IMPROTANT(EXP_RES[circuit_index]['measurement_dict'], \n",
    "#                     EXP_RES[circuit_index]['qubitOp'], \n",
    "#                     threshold_N_Meas=1000)\n",
    "# #     print(EXP_RES[circuit_index]['qubitOp'])\n",
    "#     print(sum(xx.values()), 'index:', circuit_index)"
   ]
  },
  {
   "cell_type": "code",
   "execution_count": null,
   "metadata": {},
   "outputs": [],
   "source": []
  },
  {
   "cell_type": "code",
   "execution_count": 305,
   "metadata": {},
   "outputs": [],
   "source": [
    "np.take(list(EXP_RES[40]['measurement_dict'].values()), \n",
    "        np.where(np.array(list(EXP_RES[40]['measurement_dict'].values()))>1000)[0])"
   ]
  },
  {
   "cell_type": "code",
   "execution_count": null,
   "metadata": {},
   "outputs": [],
   "source": []
  },
  {
   "cell_type": "code",
   "execution_count": null,
   "metadata": {},
   "outputs": [],
   "source": []
  },
  {
   "cell_type": "code",
   "execution_count": null,
   "metadata": {},
   "outputs": [],
   "source": []
  },
  {
   "cell_type": "code",
   "execution_count": null,
   "metadata": {},
   "outputs": [],
   "source": []
  },
  {
   "cell_type": "code",
   "execution_count": null,
   "metadata": {},
   "outputs": [],
   "source": []
  },
  {
   "cell_type": "code",
   "execution_count": null,
   "metadata": {},
   "outputs": [],
   "source": []
  },
  {
   "cell_type": "code",
   "execution_count": 32,
   "metadata": {},
   "outputs": [],
   "source": [
    "# EXP_RES[2]"
   ]
  },
  {
   "cell_type": "code",
   "execution_count": 47,
   "metadata": {},
   "outputs": [
    {
     "data": {
      "text/plain": [
       "(2.3667138253127597e-05+0j)"
      ]
     },
     "execution_count": 47,
     "metadata": {},
     "output_type": "execute_result"
    }
   ],
   "source": [
    "index=2\n",
    "x=dict_of_M_to_list(EXP_RES[index]['measurement_dict'], EXP_RES[index]['qubitOp'])\n",
    "coeff=EXP_RES[index]['coeff']\n",
    "P=0\n",
    "for result in x:\n",
    "    P+=S_ij(result)*coeff\n",
    "P/len(x)"
   ]
  },
  {
   "cell_type": "code",
   "execution_count": null,
   "metadata": {},
   "outputs": [],
   "source": []
  },
  {
   "cell_type": "code",
   "execution_count": null,
   "metadata": {},
   "outputs": [],
   "source": []
  },
  {
   "cell_type": "code",
   "execution_count": 581,
   "metadata": {},
   "outputs": [
    {
     "data": {
      "text/plain": [
       "(24, 161670)"
      ]
     },
     "execution_count": 581,
     "metadata": {},
     "output_type": "execute_result"
    }
   ],
   "source": []
  },
  {
   "cell_type": "code",
   "execution_count": 38,
   "metadata": {},
   "outputs": [],
   "source": []
  },
  {
   "cell_type": "code",
   "execution_count": 21,
   "metadata": {},
   "outputs": [
    {
     "name": "stderr",
     "output_type": "stream",
     "text": [
      "100%|██████████| 630/630 [01:06<00:00,  9.51it/s]\n"
     ]
    }
   ],
   "source": [
    "M_array=np.zeros((630, 161670), dtype='<U3')\n",
    "for i in tqdm(range(630)):\n",
    "    M_array[i,:]=dict_of_M_to_list(EXP_RES[i]['measurement_dict'], EXP_RES[i]['qubitOp'])    "
   ]
  },
  {
   "cell_type": "code",
   "execution_count": null,
   "metadata": {},
   "outputs": [],
   "source": []
  },
  {
   "cell_type": "code",
   "execution_count": null,
   "metadata": {},
   "outputs": [],
   "source": []
  },
  {
   "cell_type": "code",
   "execution_count": 22,
   "metadata": {},
   "outputs": [
    {
     "name": "stderr",
     "output_type": "stream",
     "text": [
      "100%|██████████| 161670/161670 [03:04<00:00, 874.02it/s]\n"
     ]
    }
   ],
   "source": [
    "N_repeats =161670\n",
    "\n",
    "I_term = -4.142299396835105\n",
    "\n",
    "E_list=[]\n",
    "for N_i in tqdm(range(N_repeats)):\n",
    "    E=0\n",
    "    for circuit_index in range(630):\n",
    "        M_list = M_array[circuit_index, :]\n",
    "        Sij=S_ij(M_list[N_i])\n",
    "        E+=Sij*EXP_RES[circuit_index]['coeff']\n",
    "    E_list.append(E+I_term)"
   ]
  },
  {
   "cell_type": "code",
   "execution_count": 325,
   "metadata": {},
   "outputs": [
    {
     "data": {
      "text/plain": [
       "161670"
      ]
     },
     "execution_count": 325,
     "metadata": {},
     "output_type": "execute_result"
    }
   ],
   "source": [
    "len(E_list)"
   ]
  },
  {
   "cell_type": "code",
   "execution_count": 23,
   "metadata": {},
   "outputs": [
    {
     "data": {
      "image/png": "[encoded data removed]",
      "text/plain": [
       "<Figure size 432x288 with 1 Axes>"
      ]
     },
     "metadata": {
      "needs_background": "light"
     },
     "output_type": "display_data"
    }
   ],
   "source": [
    "import matplotlib.pyplot as plt\n",
    "\n",
    "n, bins, patches = plt.hist(E_list,1000, density=True, facecolor='g', alpha=0.75)\n",
    "\n",
    "plt.xlabel('values')\n",
    "plt.ylabel('Probability')\n",
    "plt.show()\n"
   ]
  },
  {
   "cell_type": "code",
   "execution_count": null,
   "metadata": {},
   "outputs": [],
   "source": []
  },
  {
   "cell_type": "code",
   "execution_count": null,
   "metadata": {},
   "outputs": [],
   "source": []
  },
  {
   "cell_type": "code",
   "execution_count": 655,
   "metadata": {},
   "outputs": [],
   "source": [
    "# taking only XY or Z terms and threshold amps!\n",
    "important_i=[]\n",
    "amplitude_min=0.00\n",
    "\n",
    "for key in EXP_RES:\n",
    "    Pword, const = list(EXP_RES[key]['qubitOp'].terms.items())[0]\n",
    "    coeff=EXP_RES[key]['coeff']\n",
    "    \n",
    "#     if np.abs(coeff)>amplitude_min:\n",
    "    if  (np.abs(coeff)>0.02) and (np.abs(coeff)<0.04):\n",
    "        qubitNos, qubitPstrs = zip(*(list(Pword)))\n",
    "        \n",
    "        # XY terms only!\n",
    "        if ('X' in qubitPstrs) or ('Y' in qubitPstrs):\n",
    "            important_i.append(key)\n",
    "            \n",
    "#         if ('X' not in qubitPstrs) and ('Y' not in qubitPstrs):\n",
    "#             important_i.append(key)\n",
    "\n",
    "len(important_i)"
   ]
  },
  {
   "cell_type": "code",
   "execution_count": 656,
   "metadata": {},
   "outputs": [
    {
     "data": {
      "text/plain": [
       "24"
      ]
     },
     "execution_count": 656,
     "metadata": {},
     "output_type": "execute_result"
    }
   ],
   "source": [
    "N_repeats =161670\n",
    "\n",
    "E_list=[]\n",
    "for N_i in tqdm(range(N_repeats)):\n",
    "    E=0\n",
    "    for circuit_index in important_i:\n",
    "        M_list = M_array[circuit_index, :]\n",
    "        Sij=S_ij(M_list[N_i])\n",
    "        E+=Sij*EXP_RES[circuit_index]['coeff']\n",
    "    E_list.append(E)"
   ]
  },
  {
   "cell_type": "code",
   "execution_count": 657,
   "metadata": {},
   "outputs": [
    {
     "data": {
      "application/vnd.jupyter.widget-view+json": {
       "model_id": "e5d6a86228cf48438104dcf1f1b58df9",
       "version_major": 2,
       "version_minor": 0
      },
      "text/plain": [
       "HBox(children=(FloatProgress(value=0.0, max=161670.0), HTML(value='')))"
      ]
     },
     "metadata": {},
     "output_type": "display_data"
    },
    {
     "name": "stdout",
     "output_type": "stream",
     "text": [
      "\n"
     ]
    }
   ],
   "source": [
    "import matplotlib.pyplot as plt\n",
    "\n",
    "n, bins, patches = plt.hist(E_list,500, density=True, facecolor='g', alpha=0.75)\n",
    "\n",
    "plt.xlabel('values')\n",
    "plt.ylabel('Probability')\n",
    "plt.show()\n"
   ]
  },
  {
   "cell_type": "code",
   "execution_count": null,
   "metadata": {},
   "outputs": [],
   "source": []
  },
  {
   "cell_type": "code",
   "execution_count": null,
   "metadata": {},
   "outputs": [],
   "source": []
  },
  {
   "cell_type": "code",
   "execution_count": 14,
   "metadata": {},
   "outputs": [
    {
     "name": "stdout",
     "output_type": "stream",
     "text": [
      "2.5159813046286312\n"
     ]
    },
    {
     "data": {
      "text/plain": [
       "552"
      ]
     },
     "execution_count": 14,
     "metadata": {},
     "output_type": "execute_result"
    }
   ],
   "source": [
    "Q_OP_XY_LIST =[]\n",
    "amplitude_min=0.00\n",
    "abs_amp=0\n",
    "amp_list=[]\n",
    "i_list=[]\n",
    "\n",
    "for i in range(630):\n",
    "    Pword, const = list(EXP_RES[i]['qubitOp'].terms.items())[0]\n",
    "    qubitNos, qubitPstrs = zip(*(list(Pword)))\n",
    "    if np.abs(EXP_RES[i]['coeff'])>amplitude_min:\n",
    "        if ('X' in qubitPstrs) or ('Y' in qubitPstrs):\n",
    "            Q_OP_XY_LIST.append(EXP_RES[i]['qubitOp'])\n",
    "            abs_amp+= np.abs(EXP_RES[i]['coeff'])\n",
    "            amp_list.append(EXP_RES[i]['coeff'])\n",
    "            i_list.append(i)\n",
    "\n",
    "print(abs_amp)\n",
    "len(Q_OP_XY_LIST)\n",
    "# Q_OP_XY_LIST"
   ]
  },
  {
   "cell_type": "code",
   "execution_count": 1248,
   "metadata": {},
   "outputs": [
    {
     "name": "stdout",
     "output_type": "stream",
     "text": [
      "226\n"
     ]
    }
   ],
   "source": [
    "# # xx = [np.around(amp.real, 5) for amp in amp_list]\n",
    "# xx = [amp.real for amp in amp_list]\n",
    "# print(len(set(xx)))\n",
    "# # set(xx)"
   ]
  },
  {
   "cell_type": "code",
   "execution_count": null,
   "metadata": {},
   "outputs": [],
   "source": []
  },
  {
   "cell_type": "code",
   "execution_count": null,
   "metadata": {},
   "outputs": [],
   "source": []
  },
  {
   "cell_type": "code",
   "execution_count": null,
   "metadata": {},
   "outputs": [],
   "source": []
  },
  {
   "cell_type": "code",
   "execution_count": 1217,
   "metadata": {},
   "outputs": [
    {
     "name": "stdout",
     "output_type": "stream",
     "text": [
      "1.159482740587503\n"
     ]
    },
    {
     "data": {
      "text/plain": [
       "56"
      ]
     },
     "execution_count": 1217,
     "metadata": {},
     "output_type": "execute_result"
    }
   ],
   "source": [
    "# IMPORTANT!!! ONLY TAKE Pi terms of XY with less than 3 overall ops!\n",
    "\n",
    "Q_OP_XY_LIST =[]\n",
    "amplitude_min=0.03\n",
    "abs_amp=0\n",
    "amp_list=[]\n",
    "i_list=[]\n",
    "\n",
    "for i in range(630):\n",
    "    Pword, const = list(EXP_RES[i]['qubitOp'].terms.items())[0]\n",
    "    qubitNos, qubitPstrs = zip(*(list(Pword)))\n",
    "    if np.abs(EXP_RES[i]['coeff'])>amplitude_min:\n",
    "        if ('X' in qubitPstrs) or ('Y' in qubitPstrs):\n",
    "            if len(qubitNos)<5:       # <--- not limits how long Pi can be!\n",
    "                Q_OP_XY_LIST.append(EXP_RES[i]['qubitOp'])\n",
    "                abs_amp+= np.abs(EXP_RES[i]['coeff'])\n",
    "                amp_list.append(EXP_RES[i]['coeff'])\n",
    "                i_list.append(i)\n",
    "\n",
    "print(abs_amp)\n",
    "# Q_OP_XY_LIST\n",
    "len(Q_OP_XY_LIST)"
   ]
  },
  {
   "cell_type": "code",
   "execution_count": null,
   "metadata": {},
   "outputs": [],
   "source": []
  },
  {
   "cell_type": "code",
   "execution_count": null,
   "metadata": {},
   "outputs": [],
   "source": []
  },
  {
   "cell_type": "code",
   "execution_count": 1206,
   "metadata": {},
   "outputs": [
    {
     "name": "stdout",
     "output_type": "stream",
     "text": [
      "0.290884248109806\n"
     ]
    },
    {
     "data": {
      "text/plain": [
       "16"
      ]
     },
     "execution_count": 1206,
     "metadata": {},
     "output_type": "execute_result"
    }
   ],
   "source": [
    "# IMPORTANT!!! ONLY TAKE Pi terms of XY with less than 3 overall ops!\n",
    "\n",
    "Q_OP_XY_LIST =[]\n",
    "amplitude_min=0.01\n",
    "abs_amp=0\n",
    "amp_list=[]\n",
    "i_list=[]\n",
    "\n",
    "for i in range(630):\n",
    "    Pword, const = list(EXP_RES[i]['qubitOp'].terms.items())[0]\n",
    "    qubitNos, qubitPstrs = zip(*(list(Pword)))\n",
    "    if np.abs(EXP_RES[i]['coeff'])>amplitude_min:\n",
    "        if ('X' in qubitPstrs) or ('Y' in qubitPstrs):\n",
    "            X_num = sum([1 for PP in qubitPstrs if PP=='X'])\n",
    "            Y_num = sum([1 for PP in qubitPstrs if PP=='Y'])\n",
    "            Z_num = sum([1 for PP in qubitPstrs if PP=='Z'])\n",
    "#             if ((X_num+Y_num)<5) and (Z_num<2): # change number of Z and ZY terms!\n",
    "#             if ((X_num+Y_num)<3): # change number of Z and ZY terms!\n",
    "            if ((X_num+Y_num+Z_num)<4): # change number of Z and ZY terms!\n",
    "                Q_OP_XY_LIST.append(EXP_RES[i]['qubitOp'])\n",
    "                abs_amp+= np.abs(EXP_RES[i]['coeff'])\n",
    "                amp_list.append(EXP_RES[i]['coeff'])\n",
    "                i_list.append(i)\n",
    "\n",
    "print(abs_amp)\n",
    "# Q_OP_XY_LIST\n",
    "len(Q_OP_XY_LIST)"
   ]
  },
  {
   "cell_type": "code",
   "execution_count": 1192,
   "metadata": {},
   "outputs": [
    {
     "name": "stdout",
     "output_type": "stream",
     "text": [
      "0.43040060951112846\n"
     ]
    },
    {
     "data": {
      "text/plain": [
       "68"
      ]
     },
     "execution_count": 1192,
     "metadata": {},
     "output_type": "execute_result"
    }
   ],
   "source": [
    "# IMPORTANT!!! ONLY TAKE Pi terms of XY with less than 3 overall ops!\n",
    "\n",
    "Q_OP_XY_LIST =[]\n",
    "amplitude_min=0.00\n",
    "abs_amp=0\n",
    "amp_list=[]\n",
    "i_list=[]\n",
    "\n",
    "for i in range(630):\n",
    "    Pword, const = list(EXP_RES[i]['qubitOp'].terms.items())[0]\n",
    "    qubitNos, qubitPstrs = zip(*(list(Pword)))\n",
    "    if np.abs(EXP_RES[i]['coeff'])>amplitude_min:\n",
    "        if ('X' in qubitPstrs) or ('Y' in qubitPstrs):\n",
    "            if (len(qubitPstrs)<13):\n",
    "                Q_OP_XY_LIST.append(EXP_RES[i]['qubitOp'])\n",
    "                abs_amp+= np.abs(EXP_RES[i]['coeff'])\n",
    "                amp_list.append(EXP_RES[i]['coeff'])\n",
    "                i_list.append(i)\n",
    "\n",
    "print(abs_amp)\n",
    "# Q_OP_XY_LIST\n",
    "len(Q_OP_XY_LIST)"
   ]
  },
  {
   "cell_type": "code",
   "execution_count": 1049,
   "metadata": {},
   "outputs": [
    {
     "data": {
      "text/plain": [
       "[]"
      ]
     },
     "execution_count": 1049,
     "metadata": {},
     "output_type": "execute_result"
    }
   ],
   "source": [
    "Q_OP_XY_LIST"
   ]
  },
  {
   "cell_type": "code",
   "execution_count": 1193,
   "metadata": {},
   "outputs": [
    {
     "data": {
      "application/vnd.jupyter.widget-view+json": {
       "model_id": "e1674d9e098046b19bd5c22923a66edd",
       "version_major": 2,
       "version_minor": 0
      },
      "text/plain": [
       "HBox(children=(FloatProgress(value=0.0, max=5000.0), HTML(value='')))"
      ]
     },
     "metadata": {},
     "output_type": "display_data"
    },
    {
     "name": "stdout",
     "output_type": "stream",
     "text": [
      "\n"
     ]
    }
   ],
   "source": [
    "M = [-1, +1]\n",
    "values=[]\n",
    "for _ in tqdm(range(5000)):\n",
    "    val=0\n",
    "    for i, amp in enumerate(amp_list):\n",
    "        random_1_minus_1=np.random.choice(M, 1, p=[0.5, 0.5])[0]\n",
    "        val+=amp*random_1_minus_1\n",
    "    values.append(val)\n",
    "    "
   ]
  },
  {
   "cell_type": "code",
   "execution_count": null,
   "metadata": {},
   "outputs": [],
   "source": []
  },
  {
   "cell_type": "code",
   "execution_count": 1195,
   "metadata": {},
   "outputs": [
    {
     "data": {
      "application/vnd.jupyter.widget-view+json": {
       "model_id": "f2c24c9958184b7c93b62d458cb7112d",
       "version_major": 2,
       "version_minor": 0
      },
      "text/plain": [
       "HBox(children=(FloatProgress(value=0.0, max=10000.0), HTML(value='')))"
      ]
     },
     "metadata": {},
     "output_type": "display_data"
    },
    {
     "name": "stdout",
     "output_type": "stream",
     "text": [
      "\n"
     ]
    }
   ],
   "source": [
    "M = [-1, +1]\n",
    "values=[]\n",
    "for _ in tqdm(range(10_000)):\n",
    "    val=0\n",
    "    for i, amp in enumerate(amp_list):\n",
    "        x=np.random.choice(M, 1, p=[0.55, 0.45])[0]\n",
    "        y=np.random.choice(M, 1, p=[0.45, 0.55])[0]\n",
    "        random_1_minus_1=np.random.choice([x,y], 1, p=[0.5, 0.5])[0]\n",
    "        val+=amp*random_1_minus_1\n",
    "    values.append(val)\n",
    "    "
   ]
  },
  {
   "cell_type": "code",
   "execution_count": 1198,
   "metadata": {},
   "outputs": [
    {
     "data": {
      "image/png": "[encoded data removed]",
      "text/plain": [
       "<Figure size 432x288 with 1 Axes>"
      ]
     },
     "metadata": {
      "needs_background": "light"
     },
     "output_type": "display_data"
    }
   ],
   "source": [
    "import matplotlib.pyplot as plt\n",
    "\n",
    "n, bins, patches = plt.hist(values, 1000, density=True, facecolor='g', alpha=0.75)\n",
    "\n",
    "plt.xlabel('values')\n",
    "plt.ylabel('Probability')\n",
    "plt.show()\n"
   ]
  },
  {
   "cell_type": "code",
   "execution_count": null,
   "metadata": {},
   "outputs": [],
   "source": []
  },
  {
   "cell_type": "code",
   "execution_count": 223,
   "metadata": {
    "scrolled": true
   },
   "outputs": [
    {
     "data": {
      "text/plain": [
       "120.0"
      ]
     },
     "execution_count": 223,
     "metadata": {},
     "output_type": "execute_result"
    }
   ],
   "source": [
    "from scipy.special import comb\n",
    "comb(len(amp_list), 2)"
   ]
  },
  {
   "cell_type": "code",
   "execution_count": 221,
   "metadata": {},
   "outputs": [
    {
     "data": {
      "text/plain": [
       "240.0"
      ]
     },
     "execution_count": 221,
     "metadata": {},
     "output_type": "execute_result"
    }
   ],
   "source": [
    "from scipy.special import perm\n",
    "perm(len(amp_list), 2)"
   ]
  },
  {
   "cell_type": "code",
   "execution_count": 217,
   "metadata": {},
   "outputs": [
    {
     "data": {
      "text/plain": [
       "65536"
      ]
     },
     "execution_count": 217,
     "metadata": {},
     "output_type": "execute_result"
    }
   ],
   "source": [
    "2**len(amp_list)"
   ]
  },
  {
   "cell_type": "code",
   "execution_count": 231,
   "metadata": {},
   "outputs": [
    {
     "data": {
      "text/plain": [
       "778"
      ]
     },
     "execution_count": 231,
     "metadata": {},
     "output_type": "execute_result"
    }
   ],
   "source": [
    "len(set(values))"
   ]
  },
  {
   "cell_type": "code",
   "execution_count": null,
   "metadata": {},
   "outputs": [],
   "source": []
  },
  {
   "cell_type": "code",
   "execution_count": 285,
   "metadata": {},
   "outputs": [],
   "source": [
    "res=[]\n",
    "for N in range(2**len(amp_list)):\n",
    "    bin_state=np.binary_repr(N, width=len(amp_list)) # binary gives all possible ways to have +1 or -1 multiplications!\n",
    "    multiplication=np.array([+1 if i=='0' else -1 for i in list(bin_state)])\n",
    "    \n",
    "    res.append(sum(np.array(amp_list)*multiplication))"
   ]
  },
  {
   "cell_type": "code",
   "execution_count": 307,
   "metadata": {},
   "outputs": [
    {
     "data": {
      "text/plain": [
       "65536"
      ]
     },
     "execution_count": 307,
     "metadata": {},
     "output_type": "execute_result"
    }
   ],
   "source": [
    "len(res)"
   ]
  },
  {
   "cell_type": "code",
   "execution_count": 308,
   "metadata": {},
   "outputs": [
    {
     "data": {
      "text/plain": [
       "877"
      ]
     },
     "execution_count": 308,
     "metadata": {},
     "output_type": "execute_result"
    }
   ],
   "source": [
    "len(set(res))"
   ]
  },
  {
   "cell_type": "code",
   "execution_count": 290,
   "metadata": {},
   "outputs": [
    {
     "data": {
      "image/png": "[encoded data removed]",
      "text/plain": [
       "<Figure size 432x288 with 1 Axes>"
      ]
     },
     "metadata": {
      "needs_background": "light"
     },
     "output_type": "display_data"
    }
   ],
   "source": [
    "n, bins, patches = plt.hist(res, 800, density=True, facecolor='g', alpha=0.75)\n",
    "\n",
    "plt.xlabel('values')\n",
    "plt.ylabel('Probability')\n",
    "plt.show()"
   ]
  },
  {
   "cell_type": "code",
   "execution_count": null,
   "metadata": {},
   "outputs": [],
   "source": []
  },
  {
   "cell_type": "code",
   "execution_count": null,
   "metadata": {},
   "outputs": [],
   "source": []
  },
  {
   "cell_type": "code",
   "execution_count": 283,
   "metadata": {},
   "outputs": [
    {
     "data": {
      "text/plain": [
       "array([-0.0350061 +0.j, -0.0350061 +0.j,  0.0350061 +0.j, -0.0350061 +0.j,\n",
       "        0.03416571+0.j,  0.03416571+0.j, -0.03416571+0.j,  0.03416571+0.j,\n",
       "        0.03096223+0.j,  0.03096223+0.j,  0.03096223+0.j,  0.03096223+0.j,\n",
       "       -0.03602829+0.j, -0.03602829+0.j, -0.03602829+0.j,  0.03602829+0.j])"
      ]
     },
     "execution_count": 283,
     "metadata": {},
     "output_type": "execute_result"
    }
   ],
   "source": []
  },
  {
   "cell_type": "code",
   "execution_count": null,
   "metadata": {},
   "outputs": [],
   "source": []
  },
  {
   "cell_type": "code",
   "execution_count": null,
   "metadata": {},
   "outputs": [],
   "source": []
  },
  {
   "cell_type": "code",
   "execution_count": null,
   "metadata": {},
   "outputs": [],
   "source": []
  },
  {
   "cell_type": "code",
   "execution_count": null,
   "metadata": {},
   "outputs": [],
   "source": []
  },
  {
   "cell_type": "code",
   "execution_count": null,
   "metadata": {},
   "outputs": [],
   "source": []
  },
  {
   "cell_type": "code",
   "execution_count": 274,
   "metadata": {},
   "outputs": [
    {
     "data": {
      "text/plain": [
       "'1111111111111111'"
      ]
     },
     "execution_count": 274,
     "metadata": {},
     "output_type": "execute_result"
    }
   ],
   "source": [
    "np.binary_repr(N, width=len(amp_list))"
   ]
  },
  {
   "cell_type": "code",
   "execution_count": null,
   "metadata": {},
   "outputs": [],
   "source": []
  },
  {
   "cell_type": "code",
   "execution_count": null,
   "metadata": {},
   "outputs": [],
   "source": []
  },
  {
   "cell_type": "markdown",
   "metadata": {},
   "source": [
    "below we can either look at response from Pwords with 'X' and 'Y' in them\n",
    "\n",
    "OR\n",
    "\n",
    "only 'Z' vals in 'X' and 'Y'\n",
    "\n",
    "- Z only gives nearly deterministic value\n",
    "- X and Y terms give Pauli structure!\n",
    "\n",
    "\n",
    "###\n",
    "\n",
    "- Pauli structure may be present as 2^(number_XY_terms) possible in XY case. We only have a small subsection of this. Would need many many more samples (2^552=1.47e166) samples at least!\n",
    "\n",
    "aka for three terms (XI,YI,XX) could have:\n",
    "1. 000 = +1 +1 +1 \n",
    "2. 001 = +1 +1 -1 \n",
    "3. 010 = +1 -1 +1 \n",
    "4. 011 = +1 -1 -1 \n",
    "5. 100 = -1 +1 +1 \n",
    "6. 101 =  -1 +1 -1 \n",
    "7. 110 = -1 -1 +1 \n",
    "8. 111 = -1 -1 -1 \n",
    "\n",
    "2^3=8 possible outcomes!"
   ]
  },
  {
   "cell_type": "code",
   "execution_count": 519,
   "metadata": {},
   "outputs": [
    {
     "data": {
      "text/plain": [
       "552"
      ]
     },
     "execution_count": 519,
     "metadata": {},
     "output_type": "execute_result"
    }
   ],
   "source": [
    "\n",
    "i_list=[]\n",
    "\n",
    "for i in range(630):\n",
    "    Pword, const = list(EXP_RES[i]['qubitOp'].terms.items())[0]\n",
    "    qubitNos, qubitPstrs = zip(*(list(Pword)))\n",
    "    \n",
    "    # XY terms only!\n",
    "    if ('X' in qubitPstrs) or ('Y' in qubitPstrs):\n",
    "        i_list.append(i)\n",
    "    \n",
    "#     # Z terms only\n",
    "#     if ('X' not in qubitPstrs) and ('Y' not in qubitPstrs): # note we are looking at NOT IN\n",
    "#         i_list.append(i)\n",
    "\n",
    "len(i_list)"
   ]
  },
  {
   "cell_type": "code",
   "execution_count": 1184,
   "metadata": {},
   "outputs": [
    {
     "data": {
      "application/vnd.jupyter.widget-view+json": {
       "model_id": "ab2a5512ab004f448e46ce4261e2ba99",
       "version_major": 2,
       "version_minor": 0
      },
      "text/plain": [
       "HBox(children=(FloatProgress(value=0.0, max=161670.0), HTML(value='')))"
      ]
     },
     "metadata": {},
     "output_type": "display_data"
    },
    {
     "name": "stdout",
     "output_type": "stream",
     "text": [
      "\n"
     ]
    }
   ],
   "source": [
    "N_repeats =161670\n",
    "\n",
    "I_term = -4.142299396835105\n",
    "\n",
    "YX_list=[]\n",
    "amp_list=[]\n",
    "for N_i in tqdm(range(N_repeats)):\n",
    "    E=0\n",
    "    for circuit_index in i_list: # <-- i_list here is only X Y terms!\n",
    "        M_list = M_array[circuit_index, :]\n",
    "        Sij=S_ij(M_list[N_i])\n",
    "        E+=Sij*EXP_RES[circuit_index]['coeff']\n",
    "        amp_list.append(EXP_RES[circuit_index]['coeff'])\n",
    "    YX_list.append(E) # <-- No a+ I_term here!"
   ]
  },
  {
   "cell_type": "code",
   "execution_count": 1185,
   "metadata": {},
   "outputs": [
    {
     "data": {
      "image/png": "[encoded data removed]",
      "text/plain": [
       "<Figure size 432x288 with 1 Axes>"
      ]
     },
     "metadata": {
      "needs_background": "light"
     },
     "output_type": "display_data"
    },
    {
     "name": "stdout",
     "output_type": "stream",
     "text": [
      "all outcomes =  1593\n"
     ]
    }
   ],
   "source": [
    "n, bins, patches = plt.hist(YX_list, 1000, density=True, facecolor='g', alpha=0.75)\n",
    "\n",
    "plt.xlabel('values')\n",
    "plt.ylabel('Probability')\n",
    "plt.show()\n",
    "\n",
    "print('all outcomes = ', len(set(YX_list)))"
   ]
  },
  {
   "cell_type": "code",
   "execution_count": 349,
   "metadata": {},
   "outputs": [
    {
     "name": "stdout",
     "output_type": "stream",
     "text": [
      "possibilities =  107839786668602559178668060348078522694548577690162289924414440996864\n",
      "unique amps =  226\n"
     ]
    }
   ],
   "source": [
    "N_unique_amps=len(set(amp_list))\n",
    "print('possibilities = ', 2**N_unique_amps)\n",
    "print('unique amps = ', N_unique_amps)"
   ]
  },
  {
   "cell_type": "code",
   "execution_count": null,
   "metadata": {},
   "outputs": [],
   "source": []
  },
  {
   "cell_type": "markdown",
   "metadata": {},
   "source": [
    "# seq ROT comparison!"
   ]
  },
  {
   "cell_type": "code",
   "execution_count": 471,
   "metadata": {},
   "outputs": [
    {
     "data": {
      "text/plain": [
       "[11, 12, 13, 15, 16, 72, 73, 78, 79, 84, 95, 99]"
      ]
     },
     "execution_count": 471,
     "metadata": {},
     "output_type": "execute_result"
    }
   ],
   "source": []
  },
  {
   "cell_type": "code",
   "execution_count": 474,
   "metadata": {},
   "outputs": [
    {
     "name": "stdout",
     "output_type": "stream",
     "text": [
      "1 [Z3 X4 X5 Y7 Z9 Y10 X11]\n"
     ]
    },
    {
     "data": {
      "text/plain": [
       "{'000000000001': 791,\n",
       " '000000000101': 31,\n",
       " '000000001001': 3628,\n",
       " '000000001101': 90,\n",
       " '000000001110': 23,\n",
       " '000000010001': 208,\n",
       " '000000010010': 2,\n",
       " '000000010101': 57563,\n",
       " '000000011001': 2,\n",
       " '000000011010': 2,\n",
       " '000000011101': 40,\n",
       " '000000100001': 198,\n",
       " '000000100010': 4,\n",
       " '000000100100': 1,\n",
       " '000000100101': 57710,\n",
       " '000000101001': 4,\n",
       " '000000101101': 41,\n",
       " '000000110001': 804,\n",
       " '000000110101': 24,\n",
       " '000000111001': 3538,\n",
       " '000000111101': 91,\n",
       " '000000111110': 22,\n",
       " '000001000101': 4,\n",
       " '000001001101': 1,\n",
       " '000001010001': 55,\n",
       " '000001100001': 49,\n",
       " '000001100110': 1,\n",
       " '000001110101': 2,\n",
       " '000001111101': 2,\n",
       " '000010000001': 189,\n",
       " '000010000010': 5,\n",
       " '000010000101': 57592,\n",
       " '000010001001': 3,\n",
       " '000010001101': 39,\n",
       " '000010010000': 1,\n",
       " '000010010001': 825,\n",
       " '000010010101': 28,\n",
       " '000010011001': 3640,\n",
       " '000010011101': 89,\n",
       " '000010011110': 21,\n",
       " '000010100001': 806,\n",
       " '000010100101': 34,\n",
       " '000010101001': 3597,\n",
       " '000010101101': 97,\n",
       " '000010101110': 25,\n",
       " '000010110001': 209,\n",
       " '000010110010': 3,\n",
       " '000010110100': 1,\n",
       " '000010110101': 57459,\n",
       " '000010111001': 6,\n",
       " '000010111010': 1,\n",
       " '000010111101': 44,\n",
       " '000011000001': 49,\n",
       " '000011000011': 1,\n",
       " '000011000110': 1,\n",
       " '000011010101': 5,\n",
       " '000011100101': 6,\n",
       " '000011101101': 1,\n",
       " '000011110001': 51,\n",
       " '000011110011': 1,\n",
       " '000011110110': 2,\n",
       " '000100001101': 5,\n",
       " '000100010001': 39,\n",
       " '000100010011': 2,\n",
       " '000100010110': 1,\n",
       " '000100011101': 1,\n",
       " '000100100001': 36,\n",
       " '000100100011': 1,\n",
       " '000100101101': 3,\n",
       " '000100111010': 1,\n",
       " '000100111101': 2,\n",
       " '000110000001': 48,\n",
       " '000110001101': 1,\n",
       " '000110010001': 1,\n",
       " '000110101000': 1,\n",
       " '000110101101': 1,\n",
       " '000110110001': 45,\n",
       " '000110110100': 2,\n",
       " '000110111101': 2,\n",
       " '010000000001': 198,\n",
       " '010000000010': 1,\n",
       " '010000000100': 1,\n",
       " '010000000101': 57379,\n",
       " '010000001001': 6,\n",
       " '010000001010': 2,\n",
       " '010000001011': 1,\n",
       " '010000001101': 48,\n",
       " '010000010001': 802,\n",
       " '010000010101': 15,\n",
       " '010000011001': 3551,\n",
       " '010000011101': 89,\n",
       " '010000011110': 18,\n",
       " '010000100001': 840,\n",
       " '010000100010': 1,\n",
       " '010000100101': 25,\n",
       " '010000101001': 3491,\n",
       " '010000101101': 115,\n",
       " '010000101110': 27,\n",
       " '010000110001': 207,\n",
       " '010000110010': 2,\n",
       " '010000110100': 4,\n",
       " '010000110101': 57525,\n",
       " '010000111001': 4,\n",
       " '010000111010': 1,\n",
       " '010000111101': 42,\n",
       " '010001000001': 49,\n",
       " '010001000100': 1,\n",
       " '010001000110': 1,\n",
       " '010001001010': 1,\n",
       " '010001010101': 4,\n",
       " '010001011010': 1,\n",
       " '010001011101': 2,\n",
       " '010001100101': 4,\n",
       " '010001101101': 2,\n",
       " '010001110001': 41,\n",
       " '010001110110': 1,\n",
       " '010010000001': 796,\n",
       " '010010000101': 21,\n",
       " '010010001001': 3488,\n",
       " '010010001101': 106,\n",
       " '010010001110': 27,\n",
       " '010010010001': 172,\n",
       " '010010010010': 2,\n",
       " '010010010101': 57561,\n",
       " '010010011001': 7,\n",
       " '010010011101': 40,\n",
       " '010010100001': 188,\n",
       " '010010100100': 1,\n",
       " '010010100101': 57269,\n",
       " '010010101001': 1,\n",
       " '010010101101': 45,\n",
       " '010010110001': 792,\n",
       " '010010110101': 32,\n",
       " '010010111001': 3578,\n",
       " '010010111101': 101,\n",
       " '010010111110': 26,\n",
       " '010011000101': 2,\n",
       " '010011001101': 3,\n",
       " '010011010001': 38,\n",
       " '010011010011': 1,\n",
       " '010011100001': 47,\n",
       " '010011100011': 1,\n",
       " '010011100100': 1,\n",
       " '010011110101': 3,\n",
       " '010011111101': 4,\n",
       " '010100000001': 41,\n",
       " '010100001101': 2,\n",
       " '010100011101': 2,\n",
       " '010100101101': 2,\n",
       " '010100110001': 43,\n",
       " '010100111101': 1,\n",
       " '010100111111': 2,\n",
       " '010110001101': 3,\n",
       " '010110010001': 54,\n",
       " '010110010011': 1,\n",
       " '010110011101': 3,\n",
       " '010110100001': 44,\n",
       " '010110100011': 1,\n",
       " '010110100110': 1,\n",
       " '010110111101': 3,\n",
       " '100000000001': 195,\n",
       " '100000000010': 1,\n",
       " '100000000100': 1,\n",
       " '100000000101': 57116,\n",
       " '100000000110': 1,\n",
       " '100000000111': 1,\n",
       " '100000001001': 6,\n",
       " '100000001010': 1,\n",
       " '100000001101': 47,\n",
       " '100000010001': 802,\n",
       " '100000010101': 27,\n",
       " '100000011001': 3567,\n",
       " '100000011101': 101,\n",
       " '100000011110': 30,\n",
       " '100000100001': 800,\n",
       " '100000100010': 1,\n",
       " '100000100101': 27,\n",
       " '100000101001': 3490,\n",
       " '100000101101': 85,\n",
       " '100000101110': 23,\n",
       " '100000110001': 205,\n",
       " '100000110101': 57677,\n",
       " '100000111001': 2,\n",
       " '100000111101': 36,\n",
       " '100001000001': 49,\n",
       " '100001000100': 1,\n",
       " '100001010101': 2,\n",
       " '100001011101': 2,\n",
       " '100001100101': 5,\n",
       " '100001101101': 1,\n",
       " '100001110001': 48,\n",
       " '100001111001': 1,\n",
       " '100010000001': 806,\n",
       " '100010000100': 1,\n",
       " '100010000101': 37,\n",
       " '100010001001': 3537,\n",
       " '100010001101': 92,\n",
       " '100010001110': 28,\n",
       " '100010010001': 197,\n",
       " '100010010010': 2,\n",
       " '100010010101': 57332,\n",
       " '100010010110': 1,\n",
       " '100010011001': 4,\n",
       " '100010011010': 1,\n",
       " '100010011101': 33,\n",
       " '100010100001': 192,\n",
       " '100010100101': 57883,\n",
       " '100010101001': 4,\n",
       " '100010101101': 40,\n",
       " '100010110001': 813,\n",
       " '100010110101': 21,\n",
       " '100010111001': 3564,\n",
       " '100010111010': 1,\n",
       " '100010111101': 92,\n",
       " '100010111110': 24,\n",
       " '100011000101': 1,\n",
       " '100011001101': 2,\n",
       " '100011010001': 55,\n",
       " '100011100001': 46,\n",
       " '100011110101': 3,\n",
       " '100011111101': 3,\n",
       " '100100000001': 57,\n",
       " '100100000011': 1,\n",
       " '100100000110': 2,\n",
       " '100100001101': 2,\n",
       " '100100001111': 1,\n",
       " '100100011101': 4,\n",
       " '100100101011': 1,\n",
       " '100100101101': 4,\n",
       " '100100110001': 42,\n",
       " '100100110110': 1,\n",
       " '100100111101': 3,\n",
       " '100110001101': 1,\n",
       " '100110010001': 59,\n",
       " '100110010110': 1,\n",
       " '100110011101': 2,\n",
       " '100110100001': 37,\n",
       " '100110101101': 1,\n",
       " '100110110001': 1,\n",
       " '100110111101': 5,\n",
       " '110000000001': 815,\n",
       " '110000000011': 1,\n",
       " '110000000101': 31,\n",
       " '110000001001': 3572,\n",
       " '110000001101': 120,\n",
       " '110000001110': 23,\n",
       " '110000010001': 198,\n",
       " '110000010010': 1,\n",
       " '110000010100': 1,\n",
       " '110000010101': 57796,\n",
       " '110000011001': 5,\n",
       " '110000011010': 2,\n",
       " '110000011101': 53,\n",
       " '110000100001': 194,\n",
       " '110000100101': 57993,\n",
       " '110000101001': 3,\n",
       " '110000101101': 34,\n",
       " '110000110001': 774,\n",
       " '110000110101': 27,\n",
       " '110000111001': 3560,\n",
       " '110000111101': 97,\n",
       " '110000111110': 25,\n",
       " '110001000101': 4,\n",
       " '110001000110': 1,\n",
       " '110001001101': 2,\n",
       " '110001010001': 51,\n",
       " '110001010011': 1,\n",
       " '110001010110': 1,\n",
       " '110001011001': 1,\n",
       " '110001100001': 47,\n",
       " '110001100110': 1,\n",
       " '110001101001': 2,\n",
       " '110001110101': 6,\n",
       " '110001111101': 1,\n",
       " '110010000001': 198,\n",
       " '110010000010': 3,\n",
       " '110010000100': 1,\n",
       " '110010000101': 57633,\n",
       " '110010001001': 6,\n",
       " '110010001101': 33,\n",
       " '110010010001': 885,\n",
       " '110010010101': 23,\n",
       " '110010011001': 3657,\n",
       " '110010011010': 2,\n",
       " '110010011101': 93,\n",
       " '110010011110': 30,\n",
       " '110010100001': 766,\n",
       " '110010100101': 31,\n",
       " '110010101001': 3580,\n",
       " '110010101101': 100,\n",
       " '110010101110': 19,\n",
       " '110010110001': 178,\n",
       " '110010110010': 1,\n",
       " '110010110100': 2,\n",
       " '110010110101': 57106,\n",
       " '110010111001': 2,\n",
       " '110010111101': 43,\n",
       " '110011000001': 52,\n",
       " '110011000110': 1,\n",
       " '110011001001': 1,\n",
       " '110011010101': 2,\n",
       " '110011011101': 1,\n",
       " '110011100101': 2,\n",
       " '110011101101': 1,\n",
       " '110011110001': 43,\n",
       " '110011110011': 1,\n",
       " '110011111010': 1,\n",
       " '110100010001': 47,\n",
       " '110100010100': 2,\n",
       " '110100011101': 2,\n",
       " '110100100001': 47,\n",
       " '110100101101': 5,\n",
       " '110100111101': 2,\n",
       " '110110000001': 40,\n",
       " '110110000011': 1,\n",
       " '110110011001': 1,\n",
       " '110110011101': 1,\n",
       " '110110100000': 1,\n",
       " '110110101101': 2,\n",
       " '110110110001': 50,\n",
       " '110110110011': 1,\n",
       " '110110110110': 1,\n",
       " '110110111101': 2,\n",
       " '110110111111': 2}"
      ]
     },
     "execution_count": 474,
     "metadata": {},
     "output_type": "execute_result"
    }
   ],
   "source": [
    "print(EXP_RES_SEQ_ROT[11]['Ps'])\n",
    "EXP_RES_SEQ_ROT[11]['measurement_dict']\n",
    "\n"
   ]
  },
  {
   "cell_type": "code",
   "execution_count": 361,
   "metadata": {},
   "outputs": [
    {
     "data": {
      "application/vnd.jupyter.widget-view+json": {
       "model_id": "829d02139b5b4a35853e53b6fd9f7f5c",
       "version_major": 2,
       "version_minor": 0
      },
      "text/plain": [
       "HBox(children=(FloatProgress(value=0.0, max=102.0), HTML(value='')))"
      ]
     },
     "metadata": {},
     "output_type": "display_data"
    },
    {
     "name": "stdout",
     "output_type": "stream",
     "text": [
      "\n"
     ]
    }
   ],
   "source": [
    "M_array_SEQ_ROT=np.zeros((102, 998550), dtype='<U3')\n",
    "for i in tqdm(range(102)):\n",
    "    try:\n",
    "        M_array_SEQ_ROT[i,:]=dict_of_M_to_list(EXP_RES_SEQ_ROT[i]['measurement_dict'], EXP_RES_SEQ_ROT[i]['qubitOp'])\n",
    "    except:\n",
    "        M_array_SEQ_ROT[i,:]=dict_of_M_to_list(EXP_RES_SEQ_ROT[i]['measurement_dict'], EXP_RES_SEQ_ROT[i]['Ps'])\n",
    "        "
   ]
  },
  {
   "cell_type": "code",
   "execution_count": 417,
   "metadata": {},
   "outputs": [
    {
     "data": {
      "application/vnd.jupyter.widget-view+json": {
       "model_id": "99deb5931c5e42e88700862969ca930d",
       "version_major": 2,
       "version_minor": 0
      },
      "text/plain": [
       "HBox(children=(FloatProgress(value=0.0, max=998550.0), HTML(value='')))"
      ]
     },
     "metadata": {},
     "output_type": "display_data"
    },
    {
     "name": "stdout",
     "output_type": "stream",
     "text": [
      "\n"
     ]
    }
   ],
   "source": [
    "N_repeats =int(998550/10) # 998550\n",
    "\n",
    "I_term = -4.142299396835105\n",
    "\n",
    "E_list_SEQ_ROT=[]\n",
    "for N_i in tqdm(range(N_repeats)):\n",
    "    E=0\n",
    "    for circuit_index in range(102):\n",
    "        M_list = M_array_SEQ_ROT[circuit_index, :]\n",
    "        Sij=S_ij(M_list[N_i])\n",
    "        try:\n",
    "            E+=Sij*EXP_RES_SEQ_ROT[circuit_index]['coeff']\n",
    "        except:\n",
    "            E+=Sij*EXP_RES_SEQ_ROT[circuit_index]['gamma_l']\n",
    "            \n",
    "    E_list_SEQ_ROT.append(E+I_term)"
   ]
  },
  {
   "cell_type": "code",
   "execution_count": 418,
   "metadata": {},
   "outputs": [
    {
     "data": {
      "image/png": "[encoded data removed]",
      "text/plain": [
       "<Figure size 432x288 with 1 Axes>"
      ]
     },
     "metadata": {
      "needs_background": "light"
     },
     "output_type": "display_data"
    }
   ],
   "source": [
    "n, bins, patches = plt.hist(E_list_SEQ_ROT, 1000, density=True, facecolor='g', alpha=0.75)\n",
    "\n",
    "plt.xlabel('values')\n",
    "plt.ylabel('Probability')\n",
    "plt.show()\n"
   ]
  },
  {
   "cell_type": "code",
   "execution_count": 536,
   "metadata": {},
   "outputs": [
    {
     "data": {
      "text/plain": [
       "75"
      ]
     },
     "execution_count": 536,
     "metadata": {},
     "output_type": "execute_result"
    }
   ],
   "source": [
    "amplitude_min=0.0\n",
    "i_list_ROT=[]\n",
    "Q_OP_XY_LIST_ROT=[]\n",
    "sum_amp_abs=0\n",
    "\n",
    "for i in range(102):\n",
    "    try:\n",
    "        P=EXP_RES_SEQ_ROT[i]['qubitOp']\n",
    "        Pword, const = list(P.terms.items())[0]\n",
    "        coeff=EXP_RES_SEQ_ROT[i]['coeff']\n",
    "    except:\n",
    "        Pword, const = list(P.terms.items())[0]\n",
    "        coeff=EXP_RES_SEQ_ROT[i]['gamma_l']\n",
    "        P=EXP_RES_SEQ_ROT[i]['Ps']*coeff\n",
    "    \n",
    "    if np.abs(coeff)>amplitude_min:\n",
    "    \n",
    "        qubitNos, qubitPstrs = zip(*(list(Pword)))\n",
    "        # XY terms only!\n",
    "        if ('X' in qubitPstrs) or ('Y' in qubitPstrs):\n",
    "            i_list_ROT.append(i)\n",
    "            Q_OP_XY_LIST_ROT.append(P)\n",
    "            sum_amp_abs+=np.abs(coeff)\n",
    "\n",
    "    #     # Z terms only\n",
    "    #     if ('X' not in qubitPstrs) and ('Y' not in qubitPstrs): # note we are looking at NOT IN\n",
    "    #         i_list_ROT.append(i)\n",
    "\n",
    "len(i_list_ROT)"
   ]
  },
  {
   "cell_type": "code",
   "execution_count": 537,
   "metadata": {},
   "outputs": [
    {
     "data": {
      "text/plain": [
       "6.663590854714005"
      ]
     },
     "execution_count": 537,
     "metadata": {},
     "output_type": "execute_result"
    }
   ],
   "source": [
    "sum_amp_abs"
   ]
  },
  {
   "cell_type": "code",
   "execution_count": 533,
   "metadata": {},
   "outputs": [
    {
     "data": {
      "text/plain": [
       "(-0.0013402547916721774+0j) [Z1 Y2 Y3 Y4 Y5]"
      ]
     },
     "execution_count": 533,
     "metadata": {},
     "output_type": "execute_result"
    }
   ],
   "source": [
    "EXP_RES_SEQ_ROT[101]['qubitOp']"
   ]
  },
  {
   "cell_type": "code",
   "execution_count": 535,
   "metadata": {},
   "outputs": [
    {
     "data": {
      "text/plain": [
       "[(0.4036401945018268+0j) [Z3 X4 X5 Y7 Z9 Y10 X11],\n",
       " (1.0320541018198188+0j) [Z0 X1 Z3],\n",
       " (0.11407819783892897+0j) [Y0 Y1 X2],\n",
       " (0.06520289105021128+0j) [Z3 Y4 X5 Y7 Z9 X10 X11],\n",
       " (0.19856599423679133+0j) [Y0 X1 Y3 X4 X5],\n",
       " (0.40371806981959135+0j) [Z9 Z10 Z11],\n",
       " (0.09678311522243871+0j) [X0 Y1 Y2 Z6],\n",
       " (0.06778415404097321+0j) [Y0 X1 Y3 Z5 Z6 X7 Z9 X10 X11],\n",
       " (0.06077865785304087+0j) [Z4 Z6],\n",
       " (0.07052062720984865+0j) [X0 Y1 Y2 Z3 Z5 Z6 Z7],\n",
       " (0.06083186291910245+0j) [Z4 Z8],\n",
       " (0.09934770864699435+0j) [X0 Y1 Y2 Z8],\n",
       " (0.062741203213313+0j) [Z0 X1 Y3 Z5 Z6 X7 Y11],\n",
       " (0.06948592344360248+0j) [Z1 Z2 Z3 Z8],\n",
       " (0.0696297900576515+0j) [Z1 Z2 Z3 Z6],\n",
       " (0.07072491597783258+0j) [Y1 Y3 Z4 X5 Z8],\n",
       " (0.06395245905317289+0j) [Y0 Y1 X2 Z3 Z5 Z6 Z7],\n",
       " (0.07081229411965559+0j) [Z1 Y2 Y3 X4 X5 Z6],\n",
       " (0.06272318925209272+0j) [Y3 Y7 Z8 Z9 Z10 X11],\n",
       " (0.06086672619547171+0j) [Z4 Z5 Z8 Z9],\n",
       " (0.06351241446444345+0j) [Z1 Y2 X3 X4 Y5 Z6 Z7],\n",
       " (0.09925789280028911+0j) [X1 Z2 Z8],\n",
       " (0.0676502153778816+0j) [Z3 Y4 X5 Y7 Z8 X10 X11],\n",
       " (0.06981922094529337+0j) [Z1 X2 X3 Y7 Z8 Z9 Y10 X11],\n",
       " (0.09680793219888557+0j) [Y0 X1 Y3 X4 X5 Z8],\n",
       " (0.06366978009829845+0j) [Z1 Z2 X3 Y7 Z8 Z9 Y11],\n",
       " (0.06777505514195695+0j) [X3 Z5 Z6 X7 Z9 Z10 X11],\n",
       " (0.09185312759366912+0j) [Z0 X1 Y3 Y5 Z6],\n",
       " (0.06867987377651907+0j) [Z1 Z2 X3 Y7 Z8 Y11],\n",
       " (0.07101969599776833+0j) [X3 Z4 X5 Z8 Z9],\n",
       " (0.07090749241370087+0j) [Z1 Y2 Y3 X4 X5 Z8 Z9],\n",
       " (0.08931346186314264+0j) [Z3 Y5 Y7 Z8 Z10 X11],\n",
       " (0.06356935808149371+0j) [Z1 Z2 Z5 Z6 Z7],\n",
       " (0.08926966997163838+0j) [Z0 Z1 X2 X3 Y7 Z9 Y10 X11],\n",
       " (0.055576224754624426+0j) [Z2 Z4],\n",
       " (0.09575671930098135+0j) [Z0 Z1 Z4 Z5],\n",
       " (0.013748658398230291+0j) [Z0 Z1 Z3 Y5 Y7 Z9 Z10 X11],\n",
       " (0.04943791358339366+0j) [X0 Y1 Y2 Z3 X4 X5 Y7 Z9 Y10 X11],\n",
       " (0.09518763798784324+0j) [Z0 Z4],\n",
       " (0.018077137503439575+0j) [X1 Z2 Z4 Z5],\n",
       " (0.060795834876463326+0j) [Y0 Y1 X2 Z3 X4 X5 Y7 Z9 Y10 X11],\n",
       " (0.08467411439558264+0j) [Z1 Z2 Y5 Y7 Z9 Z10 X11],\n",
       " (0.09313160068947544+0j) [Z0 Z2 Z3],\n",
       " (0.006500411659031198+0j) [X0 Y1 Y2 Z3 Y4 X5 Y7 Z9 X10 X11],\n",
       " (0.09344980636449285+0j) [Y0 X1 Z2 X3 Y7 Z9 X10 X11],\n",
       " (0.054686540211935+0j) [Z1 Y2 Y3 X4 X5 Z10],\n",
       " (0.054805891015635835+0j) [Z1 Z2 X3 Z4 Z5 Y7 Y11],\n",
       " (0.10612537251469929+0j) [Y0 X1 X3 Z4 Y7 Z9 X10 X11],\n",
       " (0.12098890340054022+0j) [Z3 Y5 Y7 Y8 Z9 Y10 X11],\n",
       " (0.05015351234241811+0j) [Z3 Z4 Y5 Y7 Z9 Z10 X11],\n",
       " (0.08663489663791091+0j) [X0 Y1 Y2 X3 Z4 X5],\n",
       " (0.0172573294552456+0j) [Z3 X4 X5 Y7 X10 Y11],\n",
       " (0.01677155522497287+0j) [Z3 X5 Y7 Y11],\n",
       " (0.11999509457894365+0j) [X2 Z3 Y5 Y7 Z9 X10 X11],\n",
       " (0.13001297659486827+0j) [Z1 Z3],\n",
       " (0.006015049439056883+0j) [Z1 X2 X3 Y4 Z5 Y7 Z9 Z10 X11],\n",
       " (0.06121056096464826+0j) [Z0 Y1 Y2 X3 X4 X5],\n",
       " (0.41598722862428533+0j) [Z0 X1 X3 X4 Z5 Y7 Z9 Y10 X11],\n",
       " (0.039226624175320385+0j) [X1 Y3 Y5],\n",
       " (0.0026489887288611413+0j) [X0 Y1 Y2 Z3 Y5 Y7 Z9 Z10 X11],\n",
       " (0.06424696631747791+0j) [Y0 X1 Y2],\n",
       " (0.009870148693630046+0j) [Y4 Z9 Y10 Z11],\n",
       " (0.015464308825195106+0j) [Z1 X2 Y3 Z4 X5 Z9 Y10 Z11],\n",
       " (0.0032132505115546653+0j) [Y0 Y1 Z2 X4 Z5],\n",
       " (0.009061858325399262+0j) [Z1 Y2 Y3 Z4 X5 Z9 X10 Z11],\n",
       " (0.034633567984540696+0j) [X1 X2 Z3 Y4 X5 Y7 Z9 Z10 X11],\n",
       " (0.03629954499464403+0j) [Y0 X1 Y3 Z4 X5 Z9 X10 Z11],\n",
       " (0.03591004979258166+0j) [X0 Z2 Y3 Y4 X5],\n",
       " (0.10126849073551653+0j) [Z1 Z2 Y3 Y4 X5 Z9 X10 Z11],\n",
       " (0.012118072118970839+0j) [Z1 Y2 X4 X5 Y7 Z9 Z10 X11],\n",
       " (0.0035967941722857247+0j) [Z0 X1 X3 Y4 Z5 Y7 Z9 X10 X11],\n",
       " (0.005237096039155938+0j) [Y0 X1 Z4 X5 Y7 Z9 X10 X11],\n",
       " (0.10165641718108595+0j) [Y1 X2 Y3 X4 X5],\n",
       " (0.003470183610054749+0j) [Z0 Z1 Z3 Y4 X5 Y7 Z9 X10 X11],\n",
       " (-0.0013402547916721774+0j) [Z1 Y2 Y3 Y4 Y5]]"
      ]
     },
     "execution_count": 535,
     "metadata": {},
     "output_type": "execute_result"
    }
   ],
   "source": [
    "Q_OP_XY_LIST_ROT"
   ]
  },
  {
   "cell_type": "code",
   "execution_count": 526,
   "metadata": {},
   "outputs": [
    {
     "data": {
      "application/vnd.jupyter.widget-view+json": {
       "model_id": "3f41d9f8ae6e4597bd4d2110ced175ee",
       "version_major": 2,
       "version_minor": 0
      },
      "text/plain": [
       "HBox(children=(FloatProgress(value=0.0, max=99855.0), HTML(value='')))"
      ]
     },
     "metadata": {},
     "output_type": "display_data"
    },
    {
     "name": "stdout",
     "output_type": "stream",
     "text": [
      "\n"
     ]
    }
   ],
   "source": [
    "N_repeats =int(998550/10) # 998550\n",
    "\n",
    "YX_list_ROT=[]\n",
    "amp_list_ROT=[]\n",
    "\n",
    "for N_i in tqdm(range(N_repeats)):\n",
    "    E=0\n",
    "    for circuit_index in i_list_ROT: # <-- i_list here is only X Y terms!\n",
    "        M_list = M_array_SEQ_ROT[circuit_index, :]\n",
    "        Sij=S_ij(M_list[N_i])\n",
    "        try:\n",
    "            E+=Sij*EXP_RES_SEQ_ROT[circuit_index]['coeff']\n",
    "            amp_list_ROT.append(EXP_RES_SEQ_ROT[circuit_index]['coeff'])\n",
    "        except:\n",
    "            E+=Sij*EXP_RES_SEQ_ROT[circuit_index]['gamma_l']\n",
    "            amp_list_ROT.append(EXP_RES_SEQ_ROT[circuit_index]['gamma_l'])\n",
    "            \n",
    "        \n",
    "    YX_list_ROT.append(E) # <-- No a+ I_term here!"
   ]
  },
  {
   "cell_type": "code",
   "execution_count": null,
   "metadata": {},
   "outputs": [],
   "source": []
  },
  {
   "cell_type": "code",
   "execution_count": 527,
   "metadata": {},
   "outputs": [
    {
     "data": {
      "image/png": "[encoded data removed]",
      "text/plain": [
       "<Figure size 432x288 with 1 Axes>"
      ]
     },
     "metadata": {
      "needs_background": "light"
     },
     "output_type": "display_data"
    },
    {
     "name": "stdout",
     "output_type": "stream",
     "text": [
      "all outcomes =  4681\n"
     ]
    }
   ],
   "source": [
    "n, bins, patches = plt.hist(YX_list_ROT, 1000, density=True, facecolor='g', alpha=0.75)\n",
    "\n",
    "plt.xlabel('values')\n",
    "plt.ylabel('Probability')\n",
    "plt.show()\n",
    "\n",
    "print('all outcomes = ', len(set(YX_list_ROT)))"
   ]
  },
  {
   "cell_type": "code",
   "execution_count": 412,
   "metadata": {},
   "outputs": [
    {
     "name": "stdout",
     "output_type": "stream",
     "text": [
      "possibilities =  576460752303423488\n",
      "unique amps =  59\n"
     ]
    }
   ],
   "source": [
    "N_unique_amps=len(set(amp_list_ROT))\n",
    "print('possibilities = ', 2**N_unique_amps)\n",
    "print('unique amps = ', N_unique_amps)"
   ]
  },
  {
   "cell_type": "code",
   "execution_count": null,
   "metadata": {},
   "outputs": [],
   "source": []
  },
  {
   "cell_type": "code",
   "execution_count": null,
   "metadata": {},
   "outputs": [],
   "source": []
  },
  {
   "cell_type": "code",
   "execution_count": 407,
   "metadata": {},
   "outputs": [],
   "source": [
    "# i_list_ROT"
   ]
  },
  {
   "cell_type": "code",
   "execution_count": null,
   "metadata": {},
   "outputs": [],
   "source": []
  },
  {
   "cell_type": "code",
   "execution_count": null,
   "metadata": {},
   "outputs": [],
   "source": [
    "# IMPORTANT!!! ONLY TAKE Pi terms of XY with less than 3 overall ops!\n",
    "\n",
    "Q_OP_XY_LIST =[]\n",
    "amplitude_min=0.03\n",
    "abs_amp=0\n",
    "amp_list=[]\n",
    "i_list=[]\n",
    "\n",
    "for i in range(630):\n",
    "    Pword, const = list(EXP_RES[i]['qubitOp'].terms.items())[0]\n",
    "    qubitNos, qubitPstrs = zip(*(list(Pword)))\n",
    "    if np.abs(EXP_RES[i]['coeff'])>amplitude_min:\n",
    "        if ('X' in qubitPstrs) or ('Y' in qubitPstrs):\n",
    "            if len(qubitNos)<5:\n",
    "                Q_OP_XY_LIST.append(EXP_RES[i]['qubitOp'])\n",
    "                abs_amp+= np.abs(EXP_RES[i]['coeff'])\n",
    "                amp_list.append(EXP_RES[i]['coeff'])\n",
    "                i_list.append(i)\n",
    "\n",
    "print(abs_amp)\n",
    "# Q_OP_XY_LIST\n",
    "len(Q_OP_XY_LIST)"
   ]
  },
  {
   "cell_type": "code",
   "execution_count": 1539,
   "metadata": {},
   "outputs": [],
   "source": [
    "# EXP_M_prob={}\n",
    "# for i in EXP_RES:\n",
    "#     Pword, const = list(EXP_RES[i]['qubitOp'].terms.items())[0]\n",
    "#     qubitNos, qubitPstrs = zip(*(list(Pword)))\n",
    "    \n",
    "#     M_prob={}\n",
    "#     for bitstring, Ntimes in EXP_RES[i]['measurement_dict'].items():\n",
    "#         parity =  1 if sum(map(int, bitstring)) % 2 == 0 else -1\n",
    "#         if parity in M_prob.keys():\n",
    "#             M_prob[parity]+=Ntimes\n",
    "#         else:\n",
    "#             M_prob[parity]=Ntimes\n",
    "        \n",
    "#     EXP_M_prob[i]={'Sij':M_prob, 'P':EXP_RES[i]['qubitOp']}"
   ]
  },
  {
   "cell_type": "code",
   "execution_count": 1557,
   "metadata": {},
   "outputs": [],
   "source": [
    "# NEW !\n",
    "EXP_M_prob={}\n",
    "for i in EXP_RES:\n",
    "    Pword, const = list(EXP_RES[i]['qubitOp'].terms.items())[0]\n",
    "    qubitNos, qubitPstrs = zip(*(list(Pword)))\n",
    "    \n",
    "    M_list = M_array[i, :]\n",
    "    unique, counts = np.unique(M_list, return_counts=True)\n",
    "    MM_dict= dict(zip(unique, counts))\n",
    "    M_prob={}\n",
    "    for bitstring, Ntimes in MM_dict.items():\n",
    "        parity =  1 if sum(map(int, bitstring)) % 2 == 0 else -1\n",
    "        if parity in M_prob.keys():\n",
    "            M_prob[parity]+=Ntimes\n",
    "        else:\n",
    "            M_prob[parity]=Ntimes\n",
    "        \n",
    "    EXP_M_prob[i]={'Sij': M_prob, 'P': EXP_RES[i]['qubitOp']}"
   ]
  },
  {
   "cell_type": "code",
   "execution_count": null,
   "metadata": {},
   "outputs": [],
   "source": [
    "N_repeats =161670\n",
    "\n",
    "YX_list=[]\n",
    "for N_i in tqdm(range(N_repeats)):\n",
    "    E=0\n",
    "    amp_list=[]\n",
    "    for circuit_index in indices: # <-- i_list here is only X Y terms!\n",
    "        M_list = M_array[circuit_index, :]\n",
    "        Sij=S_ij(M_list[N_i])\n",
    "        E+=Sij*EXP_RES[circuit_index]['coeff']\n",
    "        amp_list.append(EXP_RES[circuit_index]['coeff'])\n",
    "    YX_list.append(E) # <-- No + I_term here!"
   ]
  },
  {
   "cell_type": "code",
   "execution_count": 1607,
   "metadata": {},
   "outputs": [
    {
     "data": {
      "text/plain": [
       "26"
      ]
     },
     "execution_count": 1607,
     "metadata": {},
     "output_type": "execute_result"
    }
   ],
   "source": [
    "indices=[]\n",
    "\n",
    "for i in EXP_M_prob:\n",
    "    Pword, const = list(EXP_M_prob[i]['P'].terms.items())[0]\n",
    "    \n",
    "    qubitNos, qubitPstrs = zip(*(list(Pword)))\n",
    "    if ('X' in qubitPstrs) or ('Y' in qubitPstrs):\n",
    "        plus=EXP_M_prob[i]['Sij'][1]\n",
    "        minus=EXP_M_prob[i]['Sij'][-1]\n",
    "#         if (plus-minus)>1000:\n",
    "#             print(i, (plus-minus))\n",
    "        if (plus/sum(EXP_M_prob[i]['Sij'].values())>0.51) or (minus/sum(EXP_M_prob[i]['Sij'].values())>0.51):\n",
    "#             print(i, plus/sum(EXP_M_prob[i]['Sij'].values()))\n",
    "            indices.append(i)\n",
    "#             if np.abs(const)>0.01 :\n",
    "#                 print(i, plus/sum(EXP_M_prob[i]['Sij'].values()))\n",
    "#                 indices.append(i)\n",
    "len(indices)"
   ]
  },
  {
   "cell_type": "code",
   "execution_count": null,
   "metadata": {},
   "outputs": [],
   "source": []
  },
  {
   "cell_type": "code",
   "execution_count": 1527,
   "metadata": {},
   "outputs": [
    {
     "data": {
      "text/plain": [
       "{'Sij': {1: 81187, -1: 80483}, 'P': (0.01117330185598136+0j) [Y2 X3 Y4 X5]}"
      ]
     },
     "execution_count": 1527,
     "metadata": {},
     "output_type": "execute_result"
    }
   ],
   "source": [
    "EXP_M_prob[378]"
   ]
  },
  {
   "cell_type": "code",
   "execution_count": 1123,
   "metadata": {},
   "outputs": [],
   "source": [
    "# indices=[]\n",
    "\n",
    "# for i in EXP_M_prob:\n",
    "#     Pword, const = list(EXP_M_prob[i]['P'].terms.items())[0]\n",
    "    \n",
    "#     qubitNos, qubitPstrs = zip(*(list(Pword)))\n",
    "#     plus=EXP_M_prob[i]['Sij'][1]\n",
    "#     minus=EXP_M_prob[i]['Sij'][-1]\n",
    "# #         if (plus-minus)>1000:\n",
    "# #             print(i, (plus-minus))\n",
    "#     if plus/sum(EXP_M_prob[i]['Sij'].values())>0.52:\n",
    "#         print(i, plus/sum(EXP_M_prob[i]['Sij'].values()))\n",
    "#         indices.append(i)\n",
    "# #             if np.abs(const)>0.01 :\n",
    "# #                 print(i, plus/sum(EXP_M_prob[i]['Sij'].values()))\n",
    "# #                 indices.append(i)"
   ]
  },
  {
   "cell_type": "code",
   "execution_count": null,
   "metadata": {},
   "outputs": [],
   "source": []
  },
  {
   "cell_type": "code",
   "execution_count": 1559,
   "metadata": {},
   "outputs": [
    {
     "data": {
      "application/vnd.jupyter.widget-view+json": {
       "model_id": "f104107b163d44f983d7184695a7c0e2",
       "version_major": 2,
       "version_minor": 0
      },
      "text/plain": [
       "HBox(children=(FloatProgress(value=0.0, max=161670.0), HTML(value='')))"
      ]
     },
     "metadata": {},
     "output_type": "display_data"
    },
    {
     "name": "stdout",
     "output_type": "stream",
     "text": [
      "\n"
     ]
    }
   ],
   "source": [
    "N_repeats =161670\n",
    "\n",
    "I_term = -4.142299396835105\n",
    "\n",
    "YX_list=[]\n",
    "amp_list=[]\n",
    "for N_i in tqdm(range(N_repeats)):\n",
    "    E=0\n",
    "    for circuit_index in indices: # <-- i_list here is only X Y terms!\n",
    "        M_list = M_array[circuit_index, :]\n",
    "        Sij=S_ij(M_list[N_i])\n",
    "        E+=Sij*EXP_RES[circuit_index]['coeff']\n",
    "        amp_list.append(EXP_RES[circuit_index]['coeff'])\n",
    "    YX_list.append(E) # <-- No a+ I_term here!"
   ]
  },
  {
   "cell_type": "code",
   "execution_count": 1560,
   "metadata": {},
   "outputs": [
    {
     "data": {
      "image/png": "[encoded data removed]",
      "text/plain": [
       "<Figure size 432x288 with 1 Axes>"
      ]
     },
     "metadata": {
      "needs_background": "light"
     },
     "output_type": "display_data"
    },
    {
     "name": "stdout",
     "output_type": "stream",
     "text": [
      "all outcomes =  227\n"
     ]
    }
   ],
   "source": [
    "n, bins, patches = plt.hist(YX_list, 1000, density=True, facecolor='g', alpha=0.75)\n",
    "\n",
    "plt.xlabel('values')\n",
    "plt.ylabel('Probability')\n",
    "plt.show()\n",
    "\n",
    "print('all outcomes = ', len(set(YX_list)))"
   ]
  },
  {
   "cell_type": "code",
   "execution_count": 1071,
   "metadata": {},
   "outputs": [
    {
     "data": {
      "text/plain": [
       "80405"
      ]
     },
     "execution_count": 1071,
     "metadata": {},
     "output_type": "execute_result"
    }
   ],
   "source": [
    "EXP_M_prob[1]['Sij'][-1]"
   ]
  },
  {
   "cell_type": "code",
   "execution_count": 1067,
   "metadata": {},
   "outputs": [
    {
     "data": {
      "text/plain": [
       "81265"
      ]
     },
     "execution_count": 1067,
     "metadata": {},
     "output_type": "execute_result"
    }
   ],
   "source": [
    "\n"
   ]
  },
  {
   "cell_type": "code",
   "execution_count": null,
   "metadata": {},
   "outputs": [],
   "source": []
  },
  {
   "cell_type": "code",
   "execution_count": null,
   "metadata": {},
   "outputs": [],
   "source": []
  },
  {
   "cell_type": "code",
   "execution_count": 1628,
   "metadata": {},
   "outputs": [
    {
     "data": {
      "text/plain": [
       "497"
      ]
     },
     "execution_count": 1628,
     "metadata": {},
     "output_type": "execute_result"
    }
   ],
   "source": [
    "indices=[]\n",
    "Prob_PLUS_ONE=[]\n",
    "amp_list=[]\n",
    "\n",
    "for i in EXP_M_prob:\n",
    "    Pword, const = list(EXP_M_prob[i]['P'].terms.items())[0]\n",
    "    Prob_PLUS_ONE.append(EXP_M_prob[i]['Sij'][1]/sum(EXP_M_prob[i]['Sij'].values()))\n",
    "    \n",
    "    qubitNos, qubitPstrs = zip(*(list(Pword)))\n",
    "    if ('X' in qubitPstrs) or ('Y' in qubitPstrs):\n",
    "        if (2 not in qubitNos) or (10 not in qubitNos) or (5 not in qubitNos):\n",
    "            indices.append(i)\n",
    "            amp_list.append(EXP_RES[i]['coeff'])\n",
    "#         if not((2 not in qubitNos) or (10 not in qubitNos) or (5 not in qubitNos)):\n",
    "#             indices.append(i)\n",
    "#             Prob_PLUS_ONE.append(EXP_M_prob[i]['Sij'][1]/sum(EXP_M_prob[i]['Sij'].values()))\n",
    "\n",
    "len(indices)"
   ]
  },
  {
   "cell_type": "code",
   "execution_count": null,
   "metadata": {},
   "outputs": [],
   "source": []
  },
  {
   "cell_type": "code",
   "execution_count": null,
   "metadata": {},
   "outputs": [],
   "source": []
  },
  {
   "cell_type": "code",
   "execution_count": 1619,
   "metadata": {},
   "outputs": [],
   "source": [
    "# np.take(Prob_PLUS_ONE, indices)"
   ]
  },
  {
   "cell_type": "code",
   "execution_count": 1626,
   "metadata": {},
   "outputs": [
    {
     "data": {
      "text/plain": [
       "2199.023255552"
      ]
     },
     "execution_count": 1626,
     "metadata": {},
     "output_type": "execute_result"
    }
   ],
   "source": [
    "(2**41)/10**9"
   ]
  },
  {
   "cell_type": "code",
   "execution_count": null,
   "metadata": {},
   "outputs": [],
   "source": []
  },
  {
   "cell_type": "code",
   "execution_count": 1614,
   "metadata": {},
   "outputs": [
    {
     "data": {
      "application/vnd.jupyter.widget-view+json": {
       "model_id": "fca0c8d63a70447a82c59daceb698be0",
       "version_major": 2,
       "version_minor": 0
      },
      "text/plain": [
       "HBox(children=(FloatProgress(value=0.0, max=161670.0), HTML(value='')))"
      ]
     },
     "metadata": {},
     "output_type": "display_data"
    },
    {
     "name": "stdout",
     "output_type": "stream",
     "text": [
      "\n"
     ]
    }
   ],
   "source": [
    "N_repeats =161670\n",
    "\n",
    "YX_list=[]\n",
    "for N_i in tqdm(range(N_repeats)):\n",
    "    E=0\n",
    "    for circuit_index in indices: # <-- i_list here is only X Y terms!\n",
    "        M_list = M_array[circuit_index, :]\n",
    "        Sij=S_ij(M_list[N_i])\n",
    "        E+=Sij*EXP_RES[circuit_index]['coeff']\n",
    "    YX_list.append(E) # <-- No + I_term here!"
   ]
  },
  {
   "cell_type": "code",
   "execution_count": 1615,
   "metadata": {},
   "outputs": [
    {
     "data": {
      "image/png": "[encoded data removed]",
      "text/plain": [
       "<Figure size 432x288 with 1 Axes>"
      ]
     },
     "metadata": {
      "needs_background": "light"
     },
     "output_type": "display_data"
    },
    {
     "name": "stdout",
     "output_type": "stream",
     "text": [
      "all outcomes =  8490\n"
     ]
    }
   ],
   "source": [
    "n, bins, patches = plt.hist(YX_list, 1000, density=True, facecolor='g', alpha=0.75)\n",
    "\n",
    "plt.xlabel('values')\n",
    "plt.ylabel('Probability')\n",
    "plt.show()\n",
    "\n",
    "print('all outcomes = ', len(set(YX_list)))"
   ]
  },
  {
   "cell_type": "code",
   "execution_count": 1590,
   "metadata": {},
   "outputs": [
    {
     "data": {
      "text/plain": [
       "497"
      ]
     },
     "execution_count": 1590,
     "metadata": {},
     "output_type": "execute_result"
    }
   ],
   "source": [
    "len(amp_list)"
   ]
  },
  {
   "cell_type": "code",
   "execution_count": 1591,
   "metadata": {},
   "outputs": [
    {
     "data": {
      "text/plain": [
       "497"
      ]
     },
     "execution_count": 1591,
     "metadata": {},
     "output_type": "execute_result"
    }
   ],
   "source": [
    "len(Prob_PLUS_ONE)"
   ]
  },
  {
   "cell_type": "code",
   "execution_count": null,
   "metadata": {},
   "outputs": [],
   "source": []
  },
  {
   "cell_type": "code",
   "execution_count": 1599,
   "metadata": {},
   "outputs": [
    {
     "data": {
      "application/vnd.jupyter.widget-view+json": {
       "model_id": "812bbbb0bb114c099074c43d9141d982",
       "version_major": 2,
       "version_minor": 0
      },
      "text/plain": [
       "HBox(children=(FloatProgress(value=0.0, max=10000.0), HTML(value='')))"
      ]
     },
     "metadata": {},
     "output_type": "display_data"
    },
    {
     "name": "stdout",
     "output_type": "stream",
     "text": [
      "\n"
     ]
    }
   ],
   "source": [
    "M = [-1, +1]\n",
    "values=[]\n",
    "for _ in tqdm(range(10_000)):\n",
    "    val=0\n",
    "    for i in indices:\n",
    "        random_1_minus_1=np.random.choice(M, 1, p=[(1-Prob_PLUS_ONE[i]), Prob_PLUS_ONE[i]])[0]\n",
    "        val+=EXP_RES[i]['coeff']*random_1_minus_1\n",
    "    values.append(val)\n",
    "    "
   ]
  },
  {
   "cell_type": "code",
   "execution_count": 1640,
   "metadata": {},
   "outputs": [
    {
     "data": {
      "image/png": "[encoded data removed]",
      "text/plain": [
       "<Figure size 432x288 with 1 Axes>"
      ]
     },
     "metadata": {
      "needs_background": "light"
     },
     "output_type": "display_data"
    }
   ],
   "source": [
    "n, bins, patches = plt.hist(values, 3000, density=True, facecolor='g', alpha=0.75)\n",
    "\n",
    "plt.xlabel('values')\n",
    "plt.ylabel('Probability')\n",
    "plt.show()\n"
   ]
  },
  {
   "cell_type": "code",
   "execution_count": null,
   "metadata": {},
   "outputs": [],
   "source": []
  },
  {
   "cell_type": "code",
   "execution_count": 1398,
   "metadata": {},
   "outputs": [
    {
     "name": "stdout",
     "output_type": "stream",
     "text": [
      "|Ψ> =  (0.99498743710662+0j) |00> + (0.07071067811865475+0.07071067811865475j) |01>\n",
      "<ZZ>:  (0.98+0j)\n",
      "<XZ>:  0j\n",
      "<ZX>:  (0.1407124727947029+0j)\n",
      "<XX>:  0j\n",
      "<ZI>:  (1+0j)\n",
      "<IX>:  (0.1407124727947029+0j)\n"
     ]
    }
   ],
   "source": [
    "alpha=np.sqrt(0.99) # \n",
    "beta=np.sqrt(0.01j)  # \n",
    "gamma=0\n",
    "delta=0\n",
    "\n",
    "STATE = np.array([[alpha], [beta], [gamma], [delta]])\n",
    "\n",
    "X = cirq.X._unitary_()\n",
    "Y = cirq.Y._unitary_()\n",
    "Z = cirq.Z._unitary_()\n",
    "I=np.eye(2)\n",
    "\n",
    "ZZ=np.kron(Z,Z)\n",
    "XZ=np.kron(X,Z)\n",
    "ZX=np.kron(Z,X)\n",
    "XX=np.kron(X,X)\n",
    "ZI=np.kron(Z,I)\n",
    "ZI=np.kron(Z,I)\n",
    "IX=np.kron(I,X)\n",
    "\n",
    "print('|Ψ> = ', STATE[0,0], '|00> +', STATE[1,0], '|01>')\n",
    "print('<ZZ>: ', np.dot(STATE.conj().T, ZZ.dot(STATE)).item(0))\n",
    "print('<XZ>: ',np.dot(STATE.conj().T, XZ.dot(STATE)).item(0))\n",
    "print('<ZX>: ',np.dot(STATE.conj().T, ZX.dot(STATE)).item(0))\n",
    "print('<XX>: ',np.dot(STATE.conj().T, XX.dot(STATE)).item(0))\n",
    "print('<ZI>: ',np.dot(STATE.conj().T, ZI.dot(STATE)).item(0))\n",
    "print('<IX>: ',np.dot(STATE.conj().T, IX.dot(STATE)).item(0))"
   ]
  },
  {
   "cell_type": "code",
   "execution_count": 1424,
   "metadata": {},
   "outputs": [
    {
     "data": {
      "text/plain": [
       "11"
      ]
     },
     "execution_count": 1424,
     "metadata": {},
     "output_type": "execute_result"
    }
   ],
   "source": [
    "(int('1011',2))\n",
    "# np.binary_repr(4,width=4)"
   ]
  },
  {
   "cell_type": "code",
   "execution_count": 1446,
   "metadata": {},
   "outputs": [
    {
     "name": "stdout",
     "output_type": "stream",
     "text": [
      "<ZZZZ>:  (0.9900000000000001+0j)\n",
      "<OP>:  (0.01414213562373095+0j)\n"
     ]
    }
   ],
   "source": [
    "STATE=np.zeros((2**4,1))\n",
    "\n",
    "STATE[12,0]=np.sqrt(0.98)\n",
    "STATE[9,0]=np.sqrt(0.01)\n",
    "STATE[10,0]=np.sqrt(0.005)\n",
    "STATE[11,0]=np.sqrt(0.005)\n",
    "\n",
    "X = cirq.X._unitary_()\n",
    "Y = cirq.Y._unitary_()\n",
    "Z = cirq.Z._unitary_()\n",
    "I=np.eye(2)\n",
    "\n",
    "ZZZZ=reduce(np.kron, [Z,Z,Z,Z]) # should be approx 1\n",
    "OP=reduce(np.kron, [I,I,X,I]) # should be zero\n",
    "\n",
    "# print('|Ψ> = ', STATE[2,0], '|010> +', STATE[1,0], '|001>')\n",
    "print('<ZZZZ>: ', np.dot(STATE.conj().T, ZZZZ.dot(STATE)).item(0))\n",
    "print('<OP>: ',np.dot(STATE.conj().T, OP.dot(STATE)).item(0))\n"
   ]
  },
  {
   "cell_type": "code",
   "execution_count": 1426,
   "metadata": {},
   "outputs": [
    {
     "data": {
      "text/plain": [
       "array([1.18])"
      ]
     },
     "execution_count": 1426,
     "metadata": {},
     "output_type": "execute_result"
    }
   ],
   "source": [
    "sum([np.abs(i)**2 for i in STATE])"
   ]
  },
  {
   "cell_type": "code",
   "execution_count": null,
   "metadata": {},
   "outputs": [],
   "source": []
  },
  {
   "cell_type": "code",
   "execution_count": 1378,
   "metadata": {},
   "outputs": [
    {
     "name": "stdout",
     "output_type": "stream",
     "text": [
      "|Ψ> =  (0.99498743710662+0j) |0> + (0.07071067811865475+0.07071067811865475j) |1>\n",
      "<X>:  (0.1407124727947029+0j)\n",
      "<Y>:  (0.1407124727947029+0j)\n",
      "<Z>:  (0.98+0j)\n"
     ]
    }
   ],
   "source": [
    "alpha=np.sqrt(0.99) # ZERO\n",
    "beta=np.sqrt(0.01j)  # ONE \n",
    "\n",
    "# alpha=np.sqrt(0.001j) # ZERO\n",
    "# beta=np.sqrt(0.999)  # ONE \n",
    "\n",
    "# alpha=1 # ZERO\n",
    "# beta=0  # ONE \n",
    "\n",
    "STATE = np.array([[alpha], [beta]])\n",
    "\n",
    "X = cirq.X._unitary_()\n",
    "Y = cirq.Y._unitary_()\n",
    "Z = cirq.Z._unitary_()\n",
    "\n",
    "print('|Ψ> = ', STATE[0,0], '|0> +', STATE[1,0], '|1>')\n",
    "print('<X>: ', np.dot(STATE.conj().T, X.dot(STATE)).item(0))\n",
    "print('<Y>: ',np.dot(STATE.conj().T, Y.dot(STATE)).item(0))\n",
    "print('<Z>: ',np.dot(STATE.conj().T, Z.dot(STATE)).item(0))"
   ]
  },
  {
   "cell_type": "code",
   "execution_count": null,
   "metadata": {},
   "outputs": [],
   "source": [
    "0.98"
   ]
  },
  {
   "cell_type": "code",
   "execution_count": null,
   "metadata": {},
   "outputs": [],
   "source": []
  },
  {
   "cell_type": "code",
   "execution_count": 1572,
   "metadata": {},
   "outputs": [
    {
     "name": "stdout",
     "output_type": "stream",
     "text": [
      "21\n",
      "115\n",
      "137\n",
      "173\n",
      "308\n",
      "309\n",
      "323\n",
      "324\n",
      "382\n",
      "406\n",
      "408\n",
      "428\n",
      "476\n",
      "498\n",
      "504\n",
      "513\n",
      "518\n",
      "527\n",
      "532\n",
      "537\n"
     ]
    }
   ],
   "source": [
    "for i in indices:\n",
    "    Pword, const = list(EXP_M_prob[i]['P'].terms.items())[0]\n",
    "    \n",
    "    qubitNos, qubitPstrs = zip(*(list(Pword)))\n",
    "    if ('X' in qubitPstrs) or ('Y' in qubitPstrs):\n",
    "        plus=EXP_M_prob[i]['Sij'][1]\n",
    "        minus=EXP_M_prob[i]['Sij'][-1]\n",
    "        if (plus/sum(EXP_M_prob[i]['Sij'].values())>0.53) or (minus/sum(EXP_M_prob[i]['Sij'].values())>0.53):\n",
    "            print(i)"
   ]
  },
  {
   "cell_type": "code",
   "execution_count": 1575,
   "metadata": {},
   "outputs": [
    {
     "data": {
      "text/plain": [
       "{'Sij': {1: 85976, -1: 75694}, 'P': (0.009987927369255984+0j) [X3 Z4 X5 Z10]}"
      ]
     },
     "execution_count": 1575,
     "metadata": {},
     "output_type": "execute_result"
    }
   ],
   "source": [
    "EXP_M_prob[532]"
   ]
  }
 ],
 "metadata": {
  "kernelspec": {
   "display_name": "Python 3",
   "language": "python",
   "name": "python3"
  },
  "language_info": {
   "codemirror_mode": {
    "name": "ipython",
    "version": 3
   },
   "file_extension": ".py",
   "mimetype": "text/x-python",
   "name": "python",
   "nbconvert_exporter": "python",
   "pygments_lexer": "ipython3",
   "version": "3.7.6"
  }
 },
 "nbformat": 4,
 "nbformat_minor": 4
}
