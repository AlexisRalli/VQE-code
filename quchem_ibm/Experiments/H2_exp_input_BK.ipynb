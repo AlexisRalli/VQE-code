{
 "cells": [
  {
   "cell_type": "code",
   "execution_count": 1,
   "metadata": {},
   "outputs": [],
   "source": [
    "from quchem_ibm.Qiskit_Chemistry import *"
   ]
  },
  {
   "cell_type": "code",
   "execution_count": 2,
   "metadata": {},
   "outputs": [],
   "source": [
    "transformation='BK'"
   ]
  },
  {
   "cell_type": "code",
   "execution_count": 3,
   "metadata": {},
   "outputs": [
    {
     "name": "stdout",
     "output_type": "stream",
     "text": [
      "(-0.09706626816762878+0j) [] +\n",
      "(0.045302615503799264+0j) [X0 Z1 X2] +\n",
      "(0.045302615503799264+0j) [X0 Z1 X2 Z3] +\n",
      "(0.045302615503799264+0j) [Y0 Z1 Y2] +\n",
      "(0.045302615503799264+0j) [Y0 Z1 Y2 Z3] +\n",
      "(0.1714128264477689+0j) [Z0] +\n",
      "(0.17141282644776892+0j) [Z0 Z1] +\n",
      "(0.1659278503377034+0j) [Z0 Z1 Z2] +\n",
      "(0.1659278503377034+0j) [Z0 Z1 Z2 Z3] +\n",
      "(0.12062523483390414+0j) [Z0 Z2] +\n",
      "(0.12062523483390414+0j) [Z0 Z2 Z3] +\n",
      "(0.16868898170361207+0j) [Z1] +\n",
      "(-0.22343153690813558+0j) [Z1 Z2 Z3] +\n",
      "(0.1744128761226159+0j) [Z1 Z3] +\n",
      "(-0.22343153690813564+0j) [Z2]\n",
      "-1.137283834488502\n"
     ]
    }
   ],
   "source": [
    "from quchem.Hamiltonian_Generator_Functions import *\n",
    "from quchem.Graph import *\n",
    "## HAMILTONIAN start\n",
    "\n",
    "Molecule = 'H2'\n",
    "geometry = [('H', (0., 0., 0.)), ('H', (0., 0., 0.74))]\n",
    "basis = 'sto-3g'\n",
    "\n",
    "\n",
    "### Get Hamiltonian\n",
    "Hamilt = Hamiltonian_PySCF(Molecule,\n",
    "                     run_scf=1, run_mp2=1, run_cisd=1, run_ccsd=1, run_fci=1,\n",
    "                     basis=basis,\n",
    "                     multiplicity=1,\n",
    "                     geometry=geometry)  # normally None!\n",
    "QubitHamiltonian = Hamilt.Get_Qubit_Hamiltonian(threshold=None, transformation=transformation)\n",
    "### HAMILTONIAN end\n",
    "\n",
    "#####################################\n",
    "\n",
    "print(QubitHamiltonian)\n",
    "\n",
    "\n",
    "fci_energy = Hamilt.molecule.fci_energy\n",
    "print(fci_energy)"
   ]
  },
  {
   "cell_type": "markdown",
   "metadata": {},
   "source": [
    "From Helgaker, T., P. Jorgensen,and J. Olsen (2014),Molecularelectronic-structure theory(John Wiley & Sons)\n",
    "we known\n",
    "\n",
    "$$H_{2}^{ground} = 0.9939| 1100\\rangle - 0.1106| 0011\\rangle$$\n",
    "\n",
    "From group theory we know only double excitation terms are important!\n",
    "We can see this from our ijab operators that qubits 1 and 3 are only acted on by $Z$ therefore experience no population changes... Can even see this from the answer if we write it in BK basis:\n",
    "\n",
    "$$H_{2}^{BK} = 0.9939| 1000\\rangle - 0.1106| 0010\\rangle$$\n",
    "\n",
    "See how qubits 1 and 3 always remain at 0!\n",
    "\n",
    "therefore can **remove** these measurements from Hamiltonian... as we know what expectation values they should give!\n",
    "\n",
    "In the case for this Hamiltonian only $I$ and $Z$ act on these qubits! So even easier to remove (expectation values = +1 (as act on $| 0\\rangle$ state!), so just remove and add to relivent H terms!"
   ]
  },
  {
   "cell_type": "markdown",
   "metadata": {},
   "source": [
    "LOOK at:\n",
    "\n",
    "PHYS. REV. X, **8**, 031022 (2018)"
   ]
  },
  {
   "cell_type": "code",
   "execution_count": 4,
   "metadata": {},
   "outputs": [
    {
     "name": "stdout",
     "output_type": "stream",
     "text": [
      "JW ground state =  [1, 1, 0, 0]\n",
      "BK ground state =  [1. 0. 0. 0.]\n"
     ]
    }
   ],
   "source": [
    "from quchem.Ansatz_Generator_Functions import *\n",
    "n_electrons=Hamilt.molecule.n_electrons\n",
    "n_qubits=Hamilt.molecule.n_qubits\n",
    "\n",
    "ansatz_obj = Ansatz(n_electrons,n_qubits)\n",
    "print('JW ground state = ', ansatz_obj.Get_JW_HF_state_in_OCC_basis())\n",
    "print('BK ground state = ', ansatz_obj.Get_BK_HF_state_in_OCC_basis())"
   ]
  },
  {
   "cell_type": "code",
   "execution_count": 5,
   "metadata": {},
   "outputs": [
    {
     "name": "stdout",
     "output_type": "stream",
     "text": [
      "qubits only acted on by I or Z: [1 3]\n"
     ]
    },
    {
     "data": {
      "text/plain": [
       "(0.2460355896585992+0j) [] +\n",
       "(0.09060523100759853+0j) [X0 X2] +\n",
       "(0.09060523100759853+0j) [Y0 Y2] +\n",
       "(0.3428256528955378+0j) [Z0] +\n",
       "(0.5731061703432151+0j) [Z0 Z2] +\n",
       "(-0.4468630738162712+0j) [Z2]"
      ]
     },
     "execution_count": 5,
     "metadata": {},
     "output_type": "execute_result"
    }
   ],
   "source": [
    "qubits_to_remove = Find_I_Z_indices_in_Hamiltonian(QubitHamiltonian, Hamilt.molecule.n_qubits)\n",
    "print('qubits only acted on by I or Z:', qubits_to_remove)\n",
    "\n",
    "\n",
    "input_state = ansatz_obj.Get_BK_HF_state_in_OCC_basis() if transformation=='BK' else ansatz_obj.Get_JW_HF_state_in_OCC_basis()\n",
    "# Remove_Z_terms_from_Hamiltonian\n",
    "NewQubitHamiltonian = Remove_Z_terms_from_Hamiltonian(\n",
    "                                                    QubitHamiltonian, \n",
    "                                                    input_state,\n",
    "                                                    qubits_to_remove,\n",
    "                                                    check_reduction=True)\n",
    "NewQubitHamiltonian"
   ]
  },
  {
   "cell_type": "code",
   "execution_count": 6,
   "metadata": {},
   "outputs": [
    {
     "data": {
      "text/plain": [
       "(0.2460355896585992+0j) [] +\n",
       "(0.09060523100759853+0j) [X0 X1] +\n",
       "(0.09060523100759853+0j) [Y0 Y1] +\n",
       "(0.3428256528955378+0j) [Z0] +\n",
       "(0.5731061703432151+0j) [Z0 Z1] +\n",
       "(-0.4468630738162712+0j) [Z1]"
      ]
     },
     "execution_count": 6,
     "metadata": {},
     "output_type": "execute_result"
    }
   ],
   "source": [
    "qubitNo_re_label_dict, NewQubitHamiltonian_relabelled = Re_label_Hamiltonian(NewQubitHamiltonian)\n",
    "NewQubitHamiltonian_relabelled"
   ]
  },
  {
   "cell_type": "markdown",
   "metadata": {},
   "source": [
    "# Find what new FCI energy is\n",
    "- here should be the same as true answer!"
   ]
  },
  {
   "cell_type": "code",
   "execution_count": 7,
   "metadata": {},
   "outputs": [
    {
     "name": "stdout",
     "output_type": "stream",
     "text": [
      "new_FCI =  (-1.1372838344885006+0j) VS old FCI: -1.137283834488502\n",
      "True\n"
     ]
    },
    {
     "name": "stderr",
     "output_type": "stream",
     "text": [
      "/home/lex/anaconda3/envs/QuantumUpdated/lib/python3.7/site-packages/scipy/sparse/linalg/eigen/arpack/arpack.py:1269: RuntimeWarning: k >= N - 1 for N * N square matrix. Attempting to use scipy.linalg.eig instead.\n",
      "  RuntimeWarning)\n"
     ]
    }
   ],
   "source": [
    "from openfermion import qubit_operator_sparse\n",
    "from scipy.sparse import csc_matrix\n",
    "new_Molecular_H_MATRIX =  csc_matrix(qubit_operator_sparse(NewQubitHamiltonian_relabelled))\n",
    "\n",
    "# new_Molecular_H_MATRIX = np.flip(new_Molecular_H_MATRIX)\n",
    "\n",
    "from scipy.sparse.linalg import eigs\n",
    "try:\n",
    "    eig_values, eig_vectors = eigs(new_Molecular_H_MATRIX)\n",
    "except:\n",
    "    from scipy.linalg import eig\n",
    "    eig_values, eig_vectors = eig(new_Molecular_H_MATRIX.todense())\n",
    "    \n",
    "new_FCI_Energy = min(eig_values)\n",
    "\n",
    "\n",
    "index = np.where(eig_values==new_FCI_Energy)[0][0]\n",
    "ground_state_vector = eig_vectors[:, index]\n",
    "\n",
    "print('new_FCI = ', new_FCI_Energy, 'VS old FCI:', fci_energy)\n",
    "print(np.isclose(new_FCI_Energy, fci_energy))"
   ]
  },
  {
   "cell_type": "code",
   "execution_count": 8,
   "metadata": {},
   "outputs": [
    {
     "data": {
      "text/plain": [
       "(-1.137283834488501+0j)"
      ]
     },
     "execution_count": 8,
     "metadata": {},
     "output_type": "execute_result"
    }
   ],
   "source": [
    "np.dot(ground_state_vector.conj().T, new_Molecular_H_MATRIX.dot(ground_state_vector))"
   ]
  },
  {
   "cell_type": "markdown",
   "metadata": {},
   "source": [
    "# HF + UCCSD"
   ]
  },
  {
   "cell_type": "code",
   "execution_count": 9,
   "metadata": {},
   "outputs": [
    {
     "data": {
      "text/plain": [
       "array([1., 0.])"
      ]
     },
     "execution_count": 9,
     "metadata": {},
     "output_type": "execute_result"
    }
   ],
   "source": [
    "input_state = ansatz_obj.Get_BK_HF_state_in_OCC_basis() if transformation=='BK' else ansatz_obj.Get_JW_HF_state_in_OCC_basis()\n",
    "new_input_state = np.delete(input_state, qubits_to_remove)\n",
    "\n",
    "n_qubits_new = len(new_input_state)\n",
    "new_input_state"
   ]
  },
  {
   "cell_type": "code",
   "execution_count": 10,
   "metadata": {},
   "outputs": [],
   "source": [
    "# ansatz_obj.Get_ia_and_ijab_terms()\n",
    "\n",
    "# print('ia standard')\n",
    "# print(ansatz_obj.Sec_Quant_CC_ia_Fermi_ops)\n",
    "\n",
    "# print('ijab standard')\n",
    "# print(ansatz_obj.Sec_Quant_CC_ijab_Fermi_ops)\n",
    "\n",
    "# ### single trotter step\n",
    "# ansatz_obj.UCCSD_single_trotter_step(transformation,\n",
    "#                                      List_FermiOps_ia=ansatz_obj.Sec_Quant_CC_ia_Fermi_ops,\n",
    "#                                      List_FermiOps_ijab=ansatz_obj.Sec_Quant_CC_ijab_Fermi_ops)\n",
    "\n",
    "# print('')\n",
    "# print('ia standard')\n",
    "# print(ansatz_obj.Second_Quant_CC_single_Trot_list_ia)\n",
    "# print('ijab standard')\n",
    "# print(ansatz_obj.Second_Quant_CC_single_Trot_list_ijab)"
   ]
  },
  {
   "cell_type": "code",
   "execution_count": 11,
   "metadata": {},
   "outputs": [],
   "source": [
    "# new_CC_ia_single_trot = Remove_indices_from_qubit_ops(ansatz_obj.Second_Quant_CC_single_Trot_list_ia,\n",
    "#                                                       qubits_to_remove)\n",
    "# print('ia reduced')\n",
    "# print(new_CC_ia_single_trot)\n",
    "\n",
    "# new_CC_ijab_single_trot = Remove_indices_from_qubit_ops(ansatz_obj.Second_Quant_CC_single_Trot_list_ijab,\n",
    "#                                                       qubits_to_remove)\n",
    "# print('ijab reduced')\n",
    "# print(new_CC_ijab_single_trot)\n",
    "\n",
    "\n",
    "# relabelled_new_CC_ia_single_trot =Re_label_qubit_operators(qubitNo_re_label_dict, new_CC_ia_single_trot)\n",
    "# relabelled_new_CC_ijab_single_trot =Re_label_qubit_operators(qubitNo_re_label_dict, new_CC_ijab_single_trot)\n",
    "\n",
    "# print('')\n",
    "# print('ia reduced relabelled')\n",
    "# print(relabelled_new_CC_ia_single_trot)\n",
    "# print('')\n",
    "# print('ijab reduced relabelled')\n",
    "# print(relabelled_new_CC_ijab_single_trot)"
   ]
  },
  {
   "cell_type": "markdown",
   "metadata": {},
   "source": [
    "# Ansatz Circuit"
   ]
  },
  {
   "cell_type": "code",
   "execution_count": 12,
   "metadata": {},
   "outputs": [],
   "source": [
    "# for op in relabelled_new_CC_ia_single_trot[1]:\n",
    "#     print(op)\n",
    "# print(list(op.terms.keys())[0])"
   ]
  },
  {
   "cell_type": "code",
   "execution_count": 13,
   "metadata": {},
   "outputs": [],
   "source": [
    "# UCCSD_ansatz_Q_Circ_obj = Ansatz_Circuit(new_input_state,\n",
    "#                                      relabelled_new_CC_ia_single_trot, \n",
    "#                                      relabelled_new_CC_ijab_single_trot)\n",
    "\n",
    "# theta_ia = [0 for _ in range(len(relabelled_new_CC_ia_single_trot))]\n",
    "# theta_ijab = [0 for _ in range(len(relabelled_new_CC_ijab_single_trot))]\n",
    "\n",
    "# UCCSD_ansatz_Q_Circ =UCCSD_ansatz_Q_Circ_obj.Get_Full_HF_UCCSD_QC(\n",
    "#                                         Theta_param_list_ia=theta_ia, \n",
    "#                                          Theta_param_list_ijab=theta_ijab,\n",
    "#                                          ia_first=True)\n",
    "# UCCSD_ansatz_Q_Circ"
   ]
  },
  {
   "cell_type": "code",
   "execution_count": 14,
   "metadata": {},
   "outputs": [],
   "source": [
    "n_qubits= len(new_input_state)\n",
    "check_ansatz_state = False\n",
    "decompose_fully=True\n",
    "\n",
    "Ansatz_circuit, q_reg = Vector_defined_Ansatz(n_qubits,\n",
    "                                              ground_state_vector,\n",
    "                                              check_ansatz_state=check_ansatz_state,\n",
    "                                              decompose_fully=decompose_fully)"
   ]
  },
  {
   "cell_type": "markdown",
   "metadata": {},
   "source": [
    "# Get standard VQE circuits"
   ]
  },
  {
   "cell_type": "code",
   "execution_count": 16,
   "metadata": {},
   "outputs": [
    {
     "name": "stderr",
     "output_type": "stream",
     "text": [
      "Getting_standard_VQE_circuits: 6it [00:00, 3791.75it/s]\n"
     ]
    }
   ],
   "source": [
    "standard_VQE_circuits, standard_I_term = Build_Standard_VQE_circuits(\n",
    "                                                    NewQubitHamiltonian_relabelled, \n",
    "                                                    Ansatz_circuit,\n",
    "                                                    q_reg)"
   ]
  },
  {
   "cell_type": "code",
   "execution_count": 17,
   "metadata": {},
   "outputs": [
    {
     "name": "stderr",
     "output_type": "stream",
     "text": [
      "performing_standard_VQE: 6it [00:00, 1846.22it/s]\n"
     ]
    },
    {
     "data": {
      "text/plain": [
       "(-1.1372838344885015+0j)"
      ]
     },
     "execution_count": 17,
     "metadata": {},
     "output_type": "execute_result"
    }
   ],
   "source": [
    "# lin alg approach!\n",
    "standard_VQE_lin_alg(NewQubitHamiltonian_relabelled,\n",
    "                     ground_state_vector,\n",
    "                     n_qubits,\n",
    "                     check_ansatz_state=check_ansatz_state)"
   ]
  },
  {
   "cell_type": "markdown",
   "metadata": {},
   "source": [
    "# Graph"
   ]
  },
  {
   "cell_type": "code",
   "execution_count": 18,
   "metadata": {},
   "outputs": [],
   "source": [
    "from tqdm.notebook import tqdm"
   ]
  },
  {
   "cell_type": "code",
   "execution_count": 19,
   "metadata": {},
   "outputs": [
    {
     "name": "stderr",
     "output_type": "stream",
     "text": [
      "Building Graph Edges: 100%|##########| 6/6 [00:00<00:00, 4401.93it/s]\n"
     ]
    },
    {
     "data": {
      "text/plain": [
       "{0: [(0.5731061703432151+0j) [Z0 Z1]],\n",
       " 1: [(0.2460355896585992+0j) []],\n",
       " 2: [(-0.4468630738162712+0j) [Z1], (0.09060523100759853+0j) [X0 X1]],\n",
       " 3: [(0.3428256528955378+0j) [Z0], (0.09060523100759853+0j) [Y0 Y1]]}"
      ]
     },
     "execution_count": 19,
     "metadata": {},
     "output_type": "execute_result"
    }
   ],
   "source": [
    "Hamiltonian_graph_obj = Openfermion_Hamiltonian_Graph(NewQubitHamiltonian_relabelled)\n",
    "\n",
    "commutativity_flag = 'AC' ## <- defines relationship between sets!!!\n",
    "plot_graph = False\n",
    "Graph_colouring_strategy='largest_first'\n",
    "anti_commuting_sets = Hamiltonian_graph_obj.Get_Clique_Cover_as_QubitOp(commutativity_flag, Graph_colouring_strategy=Graph_colouring_strategy, plot_graph=plot_graph)\n",
    "\n",
    "anti_commuting_sets"
   ]
  },
  {
   "cell_type": "markdown",
   "metadata": {},
   "source": [
    "# Seq Rot circuits"
   ]
  },
  {
   "cell_type": "code",
   "execution_count": 20,
   "metadata": {},
   "outputs": [
    {
     "name": "stderr",
     "output_type": "stream",
     "text": [
      "Getting seq_rot VQE circuits: 100%|##########| 4/4 [00:00<00:00, 399.96it/s]\n"
     ]
    }
   ],
   "source": [
    "n_qubits= len(new_input_state)\n",
    "rotation_reduction_check=True\n",
    "\n",
    "Seq_Rot_VQE_circuits, Seq_Rot_I_term = Get_Seq_Rot_Unitary_Part_circuits(\n",
    "                                anti_commuting_sets, \n",
    "                                Ansatz_circuit,\n",
    "                                q_reg,\n",
    "                                n_qubits,\n",
    "                                S_index_dict=None, \n",
    "                                rotation_reduction_check=rotation_reduction_check)"
   ]
  },
  {
   "cell_type": "code",
   "execution_count": 21,
   "metadata": {},
   "outputs": [
    {
     "data": {
      "text/plain": [
       "[{'circuit': <qiskit.circuit.quantumcircuit.QuantumCircuit at 0x7efd48052790>,\n",
       "  'coeff': (0.5731061703432151+0j),\n",
       "  'qubitOp': (0.5731061703432151+0j) [Z0 Z1]},\n",
       " {'circuit': <qiskit.circuit.quantumcircuit.QuantumCircuit at 0x7efd48052710>,\n",
       "  'gamma_l': (0.455956044621043+0j),\n",
       "  'Ps': 1 [Z1]},\n",
       " {'circuit': <qiskit.circuit.quantumcircuit.QuantumCircuit at 0x7efd48052ad0>,\n",
       "  'gamma_l': (0.35459658228639496+0j),\n",
       "  'Ps': 1 [Z0]}]"
      ]
     },
     "execution_count": 21,
     "metadata": {},
     "output_type": "execute_result"
    }
   ],
   "source": [
    "Seq_Rot_VQE_circuits"
   ]
  },
  {
   "cell_type": "code",
   "execution_count": 22,
   "metadata": {
    "scrolled": true
   },
   "outputs": [
    {
     "name": "stderr",
     "output_type": "stream",
     "text": [
      "Performing seq_rot VQE lin alg: 100%|##########| 4/4 [00:00<00:00, 321.35it/s]\n"
     ]
    },
    {
     "data": {
      "text/plain": [
       "(-1.137283834488501+0j)"
      ]
     },
     "execution_count": 22,
     "metadata": {},
     "output_type": "execute_result"
    }
   ],
   "source": [
    "#lin alg approach\n",
    "\n",
    "n_qubits= len(new_input_state)\n",
    "check_ansatz_state = False\n",
    "rotation_reduction_check=True\n",
    "\n",
    "Seq_Rot_VQE_lin_alg(anti_commuting_sets,\n",
    "                    ground_state_vector,\n",
    "                    n_qubits,\n",
    "                    S_index_dict=None,\n",
    "                    rotation_reduction_check=rotation_reduction_check,\n",
    "                     check_ansatz_state=check_ansatz_state)"
   ]
  },
  {
   "cell_type": "markdown",
   "metadata": {},
   "source": [
    "# LCU circuits"
   ]
  },
  {
   "cell_type": "code",
   "execution_count": 23,
   "metadata": {},
   "outputs": [
    {
     "name": "stderr",
     "output_type": "stream",
     "text": [
      "Getting LCU VQE circuits: 100%|##########| 4/4 [00:00<00:00, 92.27it/s]\n"
     ]
    }
   ],
   "source": [
    "n_qubits= len(new_input_state)\n",
    "\n",
    "LCU_VQE_circuits, LCU_I_term= Get_LCU_Unitary_Part_circuits(anti_commuting_sets, \n",
    "                                                            Ansatz_circuit, \n",
    "                                                            q_reg,\n",
    "                                                            n_qubits, \n",
    "                                                            N_index_dict=None)"
   ]
  },
  {
   "cell_type": "code",
   "execution_count": 24,
   "metadata": {},
   "outputs": [
    {
     "data": {
      "text/plain": [
       "[{'circuit': <qiskit.circuit.quantumcircuit.QuantumCircuit at 0x7efd48046910>,\n",
       "  'coeff': (0.5731061703432151+0j),\n",
       "  'qubitOp': (0.5731061703432151+0j) [Z0 Z1]},\n",
       " {'circuit': <qiskit.circuit.quantumcircuit.QuantumCircuit at 0x7efd35fbad10>,\n",
       "  'gamma_l': (0.455956044621043+0j),\n",
       "  'Pn': 1 [Z1],\n",
       "  'N_ancilla': 1},\n",
       " {'circuit': <qiskit.circuit.quantumcircuit.QuantumCircuit at 0x7efd35fdc650>,\n",
       "  'gamma_l': (0.35459658228639496+0j),\n",
       "  'Pn': 1 [Z0],\n",
       "  'N_ancilla': 1}]"
      ]
     },
     "execution_count": 24,
     "metadata": {},
     "output_type": "execute_result"
    }
   ],
   "source": [
    "LCU_VQE_circuits"
   ]
  },
  {
   "cell_type": "code",
   "execution_count": 25,
   "metadata": {},
   "outputs": [
    {
     "name": "stderr",
     "output_type": "stream",
     "text": [
      "Performing LCU VQE lin alg: 100%|##########| 4/4 [00:00<00:00, 41.91it/s]\n"
     ]
    },
    {
     "data": {
      "text/plain": [
       "(-1.1372838344885015+1.7869758757458474e-18j)"
      ]
     },
     "execution_count": 25,
     "metadata": {},
     "output_type": "execute_result"
    }
   ],
   "source": [
    "#lin alg approach\n",
    "n_qubits= len(new_input_state)\n",
    "check_ansatz_state = False\n",
    "\n",
    "LCU_VQE_lin_alg(anti_commuting_sets,\n",
    "                ground_state_vector,\n",
    "                n_qubits,\n",
    "                N_index_dict=None,\n",
    "             check_ansatz_state=check_ansatz_state)"
   ]
  },
  {
   "cell_type": "markdown",
   "metadata": {},
   "source": [
    "# Save experiment input"
   ]
  },
  {
   "cell_type": "code",
   "execution_count": 26,
   "metadata": {},
   "outputs": [
    {
     "data": {
      "text/plain": [
       "[(0.2460355896585992+0j) [],\n",
       " (0.3428256528955378+0j) [Z0],\n",
       " (-0.4468630738162712+0j) [Z1],\n",
       " (0.09060523100759853+0j) [Y0 Y1],\n",
       " (0.09060523100759853+0j) [X0 X1],\n",
       " (0.5731061703432151+0j) [Z0 Z1]]"
      ]
     },
     "execution_count": 26,
     "metadata": {},
     "output_type": "execute_result"
    }
   ],
   "source": [
    "list(NewQubitHamiltonian_relabelled)"
   ]
  },
  {
   "cell_type": "code",
   "execution_count": 27,
   "metadata": {},
   "outputs": [
    {
     "name": "stdout",
     "output_type": "stream",
     "text": [
      "experiment data saved here: /home/lex/Documents/PhD/VQE-code/quchem_ibm/Experiments/Input_data/H2_bravyi_kitaev_2_qubit_experiment_time=2020Sep21-162239536536\n"
     ]
    }
   ],
   "source": [
    "filename = 'H2_bravyi_kitaev_2_qubit_experiment'\n",
    "n_qubits= len(new_input_state)\n",
    "\n",
    "Save_exp_inputs(filename, NewQubitHamiltonian_relabelled, anti_commuting_sets, Hamilt.geometry, basis, transformation,\n",
    "                    Graph_colouring_strategy, fci_energy,\n",
    "                    standard_VQE_circuits, standard_I_term,\n",
    "                    Seq_Rot_VQE_circuits, Seq_Rot_I_term,\n",
    "                    LCU_VQE_circuits, LCU_I_term,\n",
    "                    ground_state_vector,\n",
    "                    n_qubits,\n",
    "                    S_index_dict=None,\n",
    "                    N_index_dict=None)"
   ]
  }
 ],
 "metadata": {
  "kernelspec": {
   "display_name": "Python 3",
   "language": "python",
   "name": "python3"
  },
  "language_info": {
   "codemirror_mode": {
    "name": "ipython",
    "version": 3
   },
   "file_extension": ".py",
   "mimetype": "text/x-python",
   "name": "python",
   "nbconvert_exporter": "python",
   "pygments_lexer": "ipython3",
   "version": "3.7.6"
  }
 },
 "nbformat": 4,
 "nbformat_minor": 4
}
