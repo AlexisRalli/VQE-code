{
 "cells": [
  {
   "cell_type": "code",
   "execution_count": 1,
   "metadata": {},
   "outputs": [],
   "source": [
    "transformation='JW'"
   ]
  },
  {
   "cell_type": "code",
   "execution_count": 2,
   "metadata": {},
   "outputs": [],
   "source": [
    "from qiskit import QuantumCircuit, ClassicalRegister, QuantumRegister, execute\n",
    "from qiskit import Aer"
   ]
  },
  {
   "cell_type": "code",
   "execution_count": 3,
   "metadata": {},
   "outputs": [
    {
     "name": "stdout",
     "output_type": "stream",
     "text": [
      "(-0.09706626816762878+0j) [] +\n",
      "(-0.045302615503799264+0j) [X0 X1 Y2 Y3] +\n",
      "(0.045302615503799264+0j) [X0 Y1 Y2 X3] +\n",
      "(0.045302615503799264+0j) [Y0 X1 X2 Y3] +\n",
      "(-0.045302615503799264+0j) [Y0 Y1 X2 X3] +\n",
      "(0.1714128264477689+0j) [Z0] +\n",
      "(0.16868898170361207+0j) [Z0 Z1] +\n",
      "(0.12062523483390414+0j) [Z0 Z2] +\n",
      "(0.1659278503377034+0j) [Z0 Z3] +\n",
      "(0.17141282644776892+0j) [Z1] +\n",
      "(0.1659278503377034+0j) [Z1 Z2] +\n",
      "(0.12062523483390414+0j) [Z1 Z3] +\n",
      "(-0.22343153690813564+0j) [Z2] +\n",
      "(0.1744128761226159+0j) [Z2 Z3] +\n",
      "(-0.22343153690813558+0j) [Z3]\n",
      "-1.137283834488502\n"
     ]
    }
   ],
   "source": [
    "from quchem.Hamiltonian_Generator_Functions import *\n",
    "from quchem.Graph import *\n",
    "## HAMILTONIAN start\n",
    "Molecule = 'H2'\n",
    "geometry = [('H', (0., 0., 0.)), ('H', (0., 0., 0.74))]\n",
    "basis = 'sto-3g'\n",
    "\n",
    "# Molecule = 'LiH'\n",
    "# geometry = [('Li', (0., 0., 0.)), ('H', (0., 0., 1.44))]\n",
    "# basis = 'sto-3g'\n",
    "\n",
    "\n",
    "### Get Hamiltonian\n",
    "Hamilt = Hamiltonian_PySCF(Molecule,\n",
    "                     run_scf=1, run_mp2=1, run_cisd=1, run_ccsd=1, run_fci=1,\n",
    "                     basis=basis,\n",
    "                     multiplicity=1,\n",
    "                     geometry=geometry)  # normally None!\n",
    "QubitHamiltonian = Hamilt.Get_Qubit_Hamiltonian(threshold=None, transformation=transformation)\n",
    "### HAMILTONIAN end\n",
    "\n",
    "#####################################\n",
    "\n",
    "print(QubitHamiltonian)\n",
    "\n",
    "\n",
    "fci_energy = Hamilt.molecule.fci_energy\n",
    "print(fci_energy)"
   ]
  },
  {
   "cell_type": "markdown",
   "metadata": {},
   "source": [
    "From Helgaker, T., P. Jorgensen,and J. Olsen (2014),Molecularelectronic-structure theory(John Wiley & Sons)\n",
    "we known\n",
    "\n",
    "$$H_{2}^{ground} = 0.9939| 1100\\rangle - 0.1106| 0011\\rangle$$\n",
    "\n",
    "From group theory we know only double excitation terms are important!\n",
    "We can see this from our ijab operators that qubits 1 and 3 are only acted on by $Z$ therefore experience no population changes... Can even see this from the answer if we write it in BK basis:\n",
    "\n",
    "$$H_{2}^{BK} = 0.9939| 1000\\rangle - 0.1106| 0010\\rangle$$\n",
    "\n",
    "See how qubits 1 and 3 always remain at 0!\n",
    "\n",
    "therefore can **remove** these measurements from Hamiltonian... as we know what expectation values they should give!\n",
    "\n",
    "In the case for this Hamiltonian only $I$ and $Z$ act on these qubits! So even easier to remove (expectation values = +1 (as act on $| 0\\rangle$ state!), so just remove and add to relivent H terms!"
   ]
  },
  {
   "cell_type": "markdown",
   "metadata": {},
   "source": [
    "LOOK at:\n",
    "\n",
    "PHYS. REV. X, **8**, 031022 (2018)"
   ]
  },
  {
   "cell_type": "code",
   "execution_count": 4,
   "metadata": {},
   "outputs": [
    {
     "name": "stdout",
     "output_type": "stream",
     "text": [
      "JW ground state =  [1, 1, 0, 0]\n",
      "BK ground state =  [1. 0. 0. 0.]\n"
     ]
    }
   ],
   "source": [
    "from quchem.Ansatz_Generator_Functions import *\n",
    "n_electrons=Hamilt.molecule.n_electrons\n",
    "n_qubits=Hamilt.molecule.n_qubits\n",
    "\n",
    "ansatz_obj = Ansatz(n_electrons,n_qubits)\n",
    "print('JW ground state = ', ansatz_obj.Get_JW_HF_state_in_OCC_basis())\n",
    "print('BK ground state = ', ansatz_obj.Get_BK_HF_state_in_OCC_basis())"
   ]
  },
  {
   "cell_type": "code",
   "execution_count": 5,
   "metadata": {},
   "outputs": [
    {
     "name": "stdout",
     "output_type": "stream",
     "text": [
      "qubits only acted on by I or Z: []\n"
     ]
    },
    {
     "data": {
      "text/plain": [
       "(-0.09706626816762878+0j) [] +\n",
       "(-0.045302615503799264+0j) [X0 X1 Y2 Y3] +\n",
       "(0.045302615503799264+0j) [X0 Y1 Y2 X3] +\n",
       "(0.045302615503799264+0j) [Y0 X1 X2 Y3] +\n",
       "(-0.045302615503799264+0j) [Y0 Y1 X2 X3] +\n",
       "(0.1714128264477689+0j) [Z0] +\n",
       "(0.16868898170361207+0j) [Z0 Z1] +\n",
       "(0.12062523483390414+0j) [Z0 Z2] +\n",
       "(0.1659278503377034+0j) [Z0 Z3] +\n",
       "(0.17141282644776892+0j) [Z1] +\n",
       "(0.1659278503377034+0j) [Z1 Z2] +\n",
       "(0.12062523483390414+0j) [Z1 Z3] +\n",
       "(-0.22343153690813564+0j) [Z2] +\n",
       "(0.1744128761226159+0j) [Z2 Z3] +\n",
       "(-0.22343153690813558+0j) [Z3]"
      ]
     },
     "execution_count": 5,
     "metadata": {},
     "output_type": "execute_result"
    }
   ],
   "source": [
    "qubits_to_remove = Find_I_Z_indices_in_Hamiltonian(QubitHamiltonian, Hamilt.molecule.n_qubits)\n",
    "print('qubits only acted on by I or Z:', qubits_to_remove)\n",
    "\n",
    "\n",
    "input_state = ansatz_obj.Get_BK_HF_state_in_OCC_basis() if transformation=='BK' else ansatz_obj.Get_JW_HF_state_in_OCC_basis()\n",
    "# Remove_Z_terms_from_Hamiltonian\n",
    "NewQubitHamiltonian = Remove_Z_terms_from_Hamiltonian(\n",
    "                                                    QubitHamiltonian, \n",
    "                                                    input_state,\n",
    "                                                    qubits_to_remove,\n",
    "                                                    check_reduction=True)\n",
    "NewQubitHamiltonian"
   ]
  },
  {
   "cell_type": "code",
   "execution_count": null,
   "metadata": {},
   "outputs": [],
   "source": []
  },
  {
   "cell_type": "code",
   "execution_count": 6,
   "metadata": {},
   "outputs": [
    {
     "data": {
      "text/plain": [
       "(-0.09706626816762878+0j) [] +\n",
       "(-0.045302615503799264+0j) [X0 X1 Y2 Y3] +\n",
       "(0.045302615503799264+0j) [X0 Y1 Y2 X3] +\n",
       "(0.045302615503799264+0j) [Y0 X1 X2 Y3] +\n",
       "(-0.045302615503799264+0j) [Y0 Y1 X2 X3] +\n",
       "(0.1714128264477689+0j) [Z0] +\n",
       "(0.16868898170361207+0j) [Z0 Z1] +\n",
       "(0.12062523483390414+0j) [Z0 Z2] +\n",
       "(0.1659278503377034+0j) [Z0 Z3] +\n",
       "(0.17141282644776892+0j) [Z1] +\n",
       "(0.1659278503377034+0j) [Z1 Z2] +\n",
       "(0.12062523483390414+0j) [Z1 Z3] +\n",
       "(-0.22343153690813564+0j) [Z2] +\n",
       "(0.1744128761226159+0j) [Z2 Z3] +\n",
       "(-0.22343153690813558+0j) [Z3]"
      ]
     },
     "execution_count": 6,
     "metadata": {},
     "output_type": "execute_result"
    }
   ],
   "source": [
    "qubitNo_re_label_dict, NewQubitHamiltonian_relabelled = Re_label_Hamiltonian(NewQubitHamiltonian)\n",
    "NewQubitHamiltonian_relabelled"
   ]
  },
  {
   "cell_type": "markdown",
   "metadata": {},
   "source": [
    "# Find what new FCI energy is\n",
    "- here should be the same as true answer!"
   ]
  },
  {
   "cell_type": "code",
   "execution_count": 7,
   "metadata": {},
   "outputs": [
    {
     "name": "stdout",
     "output_type": "stream",
     "text": [
      "new_FCI =  (-1.137283834488503+3.7121881080805557e-17j) VS old FCI: -1.137283834488502\n",
      "True\n"
     ]
    }
   ],
   "source": [
    "from openfermion import qubit_operator_sparse\n",
    "from scipy.sparse import csc_matrix\n",
    "new_Molecular_H_MATRIX =  csc_matrix(qubit_operator_sparse(NewQubitHamiltonian_relabelled))\n",
    "\n",
    "from scipy.sparse.linalg import eigs\n",
    "try:\n",
    "    eig_values, eig_vectors = eigs(new_Molecular_H_MATRIX)\n",
    "except:\n",
    "    from scipy.linalg import eig\n",
    "    eig_values, eig_vectors = eig(new_Molecular_H_MATRIX.todense())\n",
    "    \n",
    "new_FCI_Energy = min(eig_values)\n",
    "\n",
    "\n",
    "index = np.where(eig_values==new_FCI_Energy)[0][0]\n",
    "ground_state_vector = eig_vectors[:, index]\n",
    "\n",
    "print('new_FCI = ', new_FCI_Energy, 'VS old FCI:', fci_energy)\n",
    "print(np.isclose(new_FCI_Energy, fci_energy))"
   ]
  },
  {
   "cell_type": "markdown",
   "metadata": {},
   "source": [
    "# HF + UCCSD"
   ]
  },
  {
   "cell_type": "code",
   "execution_count": 8,
   "metadata": {},
   "outputs": [
    {
     "data": {
      "text/plain": [
       "array([1, 1, 0, 0])"
      ]
     },
     "execution_count": 8,
     "metadata": {},
     "output_type": "execute_result"
    }
   ],
   "source": [
    "input_state = ansatz_obj.Get_BK_HF_state_in_OCC_basis() if transformation=='BK' else ansatz_obj.Get_JW_HF_state_in_OCC_basis()\n",
    "new_input_state = np.delete(input_state, qubits_to_remove)\n",
    "\n",
    "n_qubits_new = len(new_input_state)\n",
    "new_input_state"
   ]
  },
  {
   "cell_type": "code",
   "execution_count": 9,
   "metadata": {},
   "outputs": [
    {
     "name": "stdout",
     "output_type": "stream",
     "text": [
      "ia standard\n",
      "[-1.0 [0^ 2] +\n",
      "1.0 [2^ 0], -1.0 [1^ 3] +\n",
      "1.0 [3^ 1]]\n",
      "ijab standard\n",
      "[-1.0 [0^ 1^ 2 3] +\n",
      "1.0 [3^ 2^ 1 0]]\n",
      "\n",
      "ia standard\n",
      "[-0.5j [X0 Z1 Y2] +\n",
      "0.5j [Y0 Z1 X2], -0.5j [X1 Z2 Y3] +\n",
      "0.5j [Y1 Z2 X3]]\n",
      "ijab standard\n",
      "[0.125j [X0 X1 X2 Y3] +\n",
      "0.125j [X0 X1 Y2 X3] +\n",
      "-0.125j [X0 Y1 X2 X3] +\n",
      "0.125j [X0 Y1 Y2 Y3] +\n",
      "-0.125j [Y0 X1 X2 X3] +\n",
      "0.125j [Y0 X1 Y2 Y3] +\n",
      "-0.125j [Y0 Y1 X2 Y3] +\n",
      "-0.125j [Y0 Y1 Y2 X3]]\n"
     ]
    }
   ],
   "source": [
    "ansatz_obj.Get_ia_and_ijab_terms()\n",
    "\n",
    "print('ia standard')\n",
    "print(ansatz_obj.Sec_Quant_CC_ia_Fermi_ops)\n",
    "\n",
    "print('ijab standard')\n",
    "print(ansatz_obj.Sec_Quant_CC_ijab_Fermi_ops)\n",
    "\n",
    "### single trotter step\n",
    "ansatz_obj.UCCSD_single_trotter_step(transformation,\n",
    "                                     List_FermiOps_ia=ansatz_obj.Sec_Quant_CC_ia_Fermi_ops,\n",
    "                                     List_FermiOps_ijab=ansatz_obj.Sec_Quant_CC_ijab_Fermi_ops)\n",
    "\n",
    "print('')\n",
    "print('ia standard')\n",
    "print(ansatz_obj.Second_Quant_CC_single_Trot_list_ia)\n",
    "print('ijab standard')\n",
    "print(ansatz_obj.Second_Quant_CC_single_Trot_list_ijab)"
   ]
  },
  {
   "cell_type": "code",
   "execution_count": 10,
   "metadata": {},
   "outputs": [
    {
     "name": "stdout",
     "output_type": "stream",
     "text": [
      "ia reduced\n",
      "[-0.5j [X0 Z1 Y2] +\n",
      "0.5j [Y0 Z1 X2], -0.5j [X1 Z2 Y3] +\n",
      "0.5j [Y1 Z2 X3]]\n",
      "ijab reduced\n",
      "[0.125j [X0 X1 X2 Y3] +\n",
      "0.125j [X0 X1 Y2 X3] +\n",
      "-0.125j [X0 Y1 X2 X3] +\n",
      "0.125j [X0 Y1 Y2 Y3] +\n",
      "-0.125j [Y0 X1 X2 X3] +\n",
      "0.125j [Y0 X1 Y2 Y3] +\n",
      "-0.125j [Y0 Y1 X2 Y3] +\n",
      "-0.125j [Y0 Y1 Y2 X3]]\n",
      "\n",
      "ia reduced relabelled\n",
      "[-0.5j [X0 Z1 Y2] +\n",
      "0.5j [Y0 Z1 X2], -0.5j [X1 Z2 Y3] +\n",
      "0.5j [Y1 Z2 X3]]\n",
      "\n",
      "ijab reduced relabelled\n",
      "[0.125j [X0 X1 X2 Y3] +\n",
      "0.125j [X0 X1 Y2 X3] +\n",
      "-0.125j [X0 Y1 X2 X3] +\n",
      "0.125j [X0 Y1 Y2 Y3] +\n",
      "-0.125j [Y0 X1 X2 X3] +\n",
      "0.125j [Y0 X1 Y2 Y3] +\n",
      "-0.125j [Y0 Y1 X2 Y3] +\n",
      "-0.125j [Y0 Y1 Y2 X3]]\n"
     ]
    }
   ],
   "source": [
    "new_CC_ia_single_trot = Remove_indices_from_qubit_ops(ansatz_obj.Second_Quant_CC_single_Trot_list_ia,\n",
    "                                                      qubits_to_remove)\n",
    "print('ia reduced')\n",
    "print(new_CC_ia_single_trot)\n",
    "\n",
    "new_CC_ijab_single_trot = Remove_indices_from_qubit_ops(ansatz_obj.Second_Quant_CC_single_Trot_list_ijab,\n",
    "                                                      qubits_to_remove)\n",
    "print('ijab reduced')\n",
    "print(new_CC_ijab_single_trot)\n",
    "\n",
    "\n",
    "relabelled_new_CC_ia_single_trot =Re_label_qubit_operators(qubitNo_re_label_dict, new_CC_ia_single_trot)\n",
    "relabelled_new_CC_ijab_single_trot =Re_label_qubit_operators(qubitNo_re_label_dict, new_CC_ijab_single_trot)\n",
    "\n",
    "print('')\n",
    "print('ia reduced relabelled')\n",
    "print(relabelled_new_CC_ia_single_trot)\n",
    "print('')\n",
    "print('ijab reduced relabelled')\n",
    "print(relabelled_new_CC_ijab_single_trot)"
   ]
  },
  {
   "cell_type": "markdown",
   "metadata": {},
   "source": [
    "# Ansatz Circuit"
   ]
  },
  {
   "cell_type": "code",
   "execution_count": 11,
   "metadata": {},
   "outputs": [],
   "source": [
    "# for op in relabelled_new_CC_ia_single_trot[1]:\n",
    "#     print(op)\n",
    "# print(list(op.terms.keys())[0])"
   ]
  },
  {
   "cell_type": "code",
   "execution_count": 12,
   "metadata": {},
   "outputs": [],
   "source": [
    "# UCCSD_ansatz_Q_Circ_obj = Ansatz_Circuit(new_input_state,\n",
    "#                                      relabelled_new_CC_ia_single_trot, \n",
    "#                                      relabelled_new_CC_ijab_single_trot)\n",
    "\n",
    "# theta_ia = [0 for _ in range(len(relabelled_new_CC_ia_single_trot))]\n",
    "# theta_ijab = [0 for _ in range(len(relabelled_new_CC_ijab_single_trot))]\n",
    "\n",
    "# UCCSD_ansatz_Q_Circ =UCCSD_ansatz_Q_Circ_obj.Get_Full_HF_UCCSD_QC(\n",
    "#                                         Theta_param_list_ia=theta_ia, \n",
    "#                                          Theta_param_list_ijab=theta_ijab,\n",
    "#                                          ia_first=True)\n",
    "# UCCSD_ansatz_Q_Circ"
   ]
  },
  {
   "cell_type": "code",
   "execution_count": null,
   "metadata": {},
   "outputs": [],
   "source": []
  },
  {
   "cell_type": "markdown",
   "metadata": {},
   "source": [
    "# Graph"
   ]
  },
  {
   "cell_type": "code",
   "execution_count": 13,
   "metadata": {},
   "outputs": [
    {
     "name": "stderr",
     "output_type": "stream",
     "text": [
      "Building Graph Edges: 100%|##########| 15/15 [00:00<00:00, 1811.01it/s]\n"
     ]
    },
    {
     "data": {
      "text/plain": [
       "{0: [(0.12062523483390414+0j) [Z1 Z3]],\n",
       " 1: [(0.1744128761226159+0j) [Z2 Z3]],\n",
       " 2: [(0.16868898170361207+0j) [Z0 Z1]],\n",
       " 3: [(-0.09706626816762878+0j) []],\n",
       " 4: [(0.1659278503377034+0j) [Z0 Z3]],\n",
       " 5: [(0.12062523483390414+0j) [Z0 Z2]],\n",
       " 6: [(0.1659278503377034+0j) [Z1 Z2]],\n",
       " 7: [(-0.22343153690813558+0j) [Z3], (0.045302615503799264+0j) [Y0 X1 X2 Y3]],\n",
       " 8: [(-0.22343153690813564+0j) [Z2], (-0.045302615503799264+0j) [Y0 Y1 X2 X3]],\n",
       " 9: [(0.1714128264477689+0j) [Z0], (-0.045302615503799264+0j) [X0 X1 Y2 Y3]],\n",
       " 10: [(0.17141282644776892+0j) [Z1], (0.045302615503799264+0j) [X0 Y1 Y2 X3]]}"
      ]
     },
     "execution_count": 13,
     "metadata": {},
     "output_type": "execute_result"
    }
   ],
   "source": [
    "Hamiltonian_graph_obj = Openfermion_Hamiltonian_Graph(NewQubitHamiltonian_relabelled)\n",
    "\n",
    "commutativity_flag = 'AC' ## <- defines relationship between sets!!!\n",
    "plot_graph = False\n",
    "Graph_colouring_strategy='largest_first'\n",
    "anti_commuting_sets = Hamiltonian_graph_obj.Get_Clique_Cover_as_QubitOp(commutativity_flag, Graph_colouring_strategy=Graph_colouring_strategy, plot_graph=plot_graph)\n",
    "\n",
    "anti_commuting_sets"
   ]
  },
  {
   "cell_type": "code",
   "execution_count": 14,
   "metadata": {
    "code_folding": [
     1
    ]
   },
   "outputs": [],
   "source": [
    "from qiskit.extensions import UnitaryGate\n",
    "def Custom_gate_from_matrix(unitary_matrix, gate_label):\n",
    "    \n",
    "    return UnitaryGate(unitary_matrix, label='{}'.format(gate_label))\n",
    "                       "
   ]
  },
  {
   "cell_type": "code",
   "execution_count": null,
   "metadata": {},
   "outputs": [],
   "source": []
  },
  {
   "cell_type": "markdown",
   "metadata": {},
   "source": [
    "# convert everything to qiskit circuits!\n",
    "- note indexing goes from right to left in qiskit!"
   ]
  },
  {
   "cell_type": "code",
   "execution_count": 15,
   "metadata": {},
   "outputs": [],
   "source": [
    "from quchem_ibm.Qiskit_Chemistry import *"
   ]
  },
  {
   "cell_type": "code",
   "execution_count": 16,
   "metadata": {},
   "outputs": [
    {
     "data": {
      "text/html": [
       "<pre style=\"word-wrap: normal;white-space: pre;background: #fff0;line-height: 1.1;font-family: &quot;Courier New&quot;,Courier,monospace\">           \n",
       "q0_0: ─────\n",
       "           \n",
       "q0_1: ─────\n",
       "      ┌───┐\n",
       "q0_2: ┤ X ├\n",
       "      ├───┤\n",
       "q0_3: ┤ X ├\n",
       "      └───┘</pre>"
      ],
      "text/plain": [
       "           \n",
       "q0_0: ─────\n",
       "           \n",
       "q0_1: ─────\n",
       "      ┌───┐\n",
       "q0_2: ┤ X ├\n",
       "      ├───┤\n",
       "q0_3: ┤ X ├\n",
       "      └───┘"
      ]
     },
     "execution_count": 16,
     "metadata": {},
     "output_type": "execute_result"
    }
   ],
   "source": [
    "q_reg = QuantumRegister(len(new_input_state))\n",
    "qcirc = QuantumCircuit(q_reg)\n",
    "HF_state_IBM_circuit(new_input_state, q_reg, qcirc).draw()"
   ]
  },
  {
   "cell_type": "code",
   "execution_count": 558,
   "metadata": {
    "code_folding": []
   },
   "outputs": [],
   "source": [
    "def calc_exp_pauliword(count_dict, PauliWord):\n",
    "    # takes correct part of bitstring when all lines measured\n",
    "\n",
    "    qubitNos, PauliStrs = zip(*list(*PauliWord.terms.keys()))\n",
    "    n_zeros = 0\n",
    "    n_ones = 0\n",
    "\n",
    "    for bitstring in count_dict:\n",
    "        measure_term = np.take([int(bit) for bit in bitstring], qubitNos)\n",
    "\n",
    "        parity_m_term = sum(measure_term) % 2\n",
    "\n",
    "        if parity_m_term == 0:\n",
    "            n_zeros += count_dict[bitstring]\n",
    "        elif parity_m_term == 1:\n",
    "            n_ones += count_dict[bitstring]\n",
    "        else:\n",
    "            raise ValueError('state {} not allowed'.format(measure_term))\n",
    "\n",
    "    expectation_value = (n_zeros - n_ones) / (n_zeros + n_ones)\n",
    "\n",
    "    return expectation_value"
   ]
  },
  {
   "cell_type": "code",
   "execution_count": 559,
   "metadata": {
    "code_folding": []
   },
   "outputs": [],
   "source": [
    "def calc_exp_pauliword_LCU(count_dict, PauliWord):\n",
    "    # takes correct part of bitstring when all lines measured\n",
    "\n",
    "    qubitNos, PauliStrs = zip(*list(*PauliWord.terms.keys()))\n",
    "    \n",
    "    \n",
    "    # re-order IN REVERSE!!!!!!!!!!!!!! IMPORTANT!!!!!\n",
    "    relabel_dic = {index: qubitNo for index, qubitNo in enumerate(range(n_qubits)[::-1])}\n",
    "    qubitNos = [relabel_dic[qNo] for qNo in qubitNos]\n",
    "    idx = np.argsort(qubitNos)\n",
    "    qubitNos = np.array(qubitNos)[idx]\n",
    "    PauliStrs = np.array(PauliStrs)[idx]\n",
    "    ## !!!!!!!!!!!!! IMPORTANT!!!!!\n",
    "    \n",
    "    \n",
    "    n_zeros = 0\n",
    "    n_ones = 0\n",
    "\n",
    "    for bitstring in count_dict:\n",
    "        measure_term = np.take([int(bit) for bit in bitstring], qubitNos)\n",
    "\n",
    "        parity_m_term = sum(measure_term) % 2\n",
    "\n",
    "        if parity_m_term == 0:\n",
    "            n_zeros += count_dict[bitstring]\n",
    "        elif parity_m_term == 1:\n",
    "            n_ones += count_dict[bitstring]\n",
    "        else:\n",
    "            raise ValueError('state {} not allowed'.format(measure_term))\n",
    "\n",
    "    expectation_value = (n_zeros - n_ones) / (n_zeros + n_ones)\n",
    "\n",
    "    return expectation_value"
   ]
  },
  {
   "cell_type": "code",
   "execution_count": null,
   "metadata": {},
   "outputs": [],
   "source": []
  },
  {
   "cell_type": "code",
   "execution_count": 18,
   "metadata": {},
   "outputs": [],
   "source": [
    "from tqdm.notebook import tqdm"
   ]
  },
  {
   "cell_type": "code",
   "execution_count": 19,
   "metadata": {},
   "outputs": [
    {
     "data": {
      "text/plain": [
       "16"
      ]
     },
     "execution_count": 19,
     "metadata": {},
     "output_type": "execute_result"
    }
   ],
   "source": [
    "len(ground_state_vector)"
   ]
  },
  {
   "cell_type": "code",
   "execution_count": null,
   "metadata": {},
   "outputs": [],
   "source": []
  },
  {
   "cell_type": "code",
   "execution_count": 550,
   "metadata": {
    "code_folding": [
     12
    ]
   },
   "outputs": [
    {
     "data": {
      "application/vnd.jupyter.widget-view+json": {
       "model_id": "b8a9723e1e404c1495ddf0518b907700",
       "version_major": 2,
       "version_minor": 0
      },
      "text/plain": [
       "HBox(children=(FloatProgress(value=1.0, bar_style='info', description='performing VQE', max=1.0, style=Progres…"
      ]
     },
     "metadata": {},
     "output_type": "display_data"
    },
    {
     "name": "stdout",
     "output_type": "stream",
     "text": [
      "\n"
     ]
    },
    {
     "data": {
      "text/plain": [
       "(-1.1375023116003495+0j)"
      ]
     },
     "execution_count": 550,
     "metadata": {},
     "output_type": "execute_result"
    }
   ],
   "source": [
    "n_qubits = int(np.log2(len(ground_state_vector)))\n",
    "backend=Aer.get_backend('qasm_simulator')\n",
    "# n_shots=1024\n",
    "n_shots=10_000\n",
    "\n",
    "q_reg = QuantumRegister(n_qubits)\n",
    "qcirc = QuantumCircuit(q_reg)\n",
    "\n",
    "perfect_ansatz_circ=Get_Q_circ_to_build_state(ground_state_vector, q_reg, qcirc)\n",
    "\n",
    "E_list=[]\n",
    "# for qubitOp in NewQubitHamiltonian_relabelled:\n",
    "for qubitOp in tqdm(NewQubitHamiltonian_relabelled, ascii=True, desc='performing VQE'):\n",
    "    for PauliWord, const in qubitOp.terms.items():\n",
    "        if PauliWord:\n",
    "            full_circuit = change_basis_for_Z_measure(qubitOp, q_reg,\n",
    "                                                      perfect_ansatz_circ,\n",
    "                                                      n_qubits)\n",
    "            full_circuit.measure_all()\n",
    "            \n",
    "            job = execute(full_circuit, backend, shots=n_shots)\n",
    "            result = job.result()\n",
    "            exp_counts_dict = result.get_counts(full_circuit)\n",
    "            \n",
    "            exp_val = calc_exp_pauliword(exp_counts_dict, qubitOp)\n",
    "            E_list.append(exp_val*const)\n",
    "        else:\n",
    "            E_list.append(const)\n",
    "sum(E_list)"
   ]
  },
  {
   "cell_type": "code",
   "execution_count": null,
   "metadata": {},
   "outputs": [],
   "source": []
  },
  {
   "cell_type": "code",
   "execution_count": 30,
   "metadata": {
    "code_folding": [
     0
    ]
   },
   "outputs": [
    {
     "data": {
      "text/plain": [
       "True"
      ]
     },
     "execution_count": 30,
     "metadata": {},
     "output_type": "execute_result"
    }
   ],
   "source": [
    "def sparse_all_close(a,b, rtol=1e-10, atol=1e-8):\n",
    "    c=np.abs(np.abs(a-b)-rtol*np.abs(b))\n",
    "    return c.max()<=atol\n",
    "\n",
    "from scipy.sparse import csr_matrix\n",
    "test = csr_matrix([[1,2], [1,1]])\n",
    "test2 = csr_matrix([[2,2], [0,1]])\n",
    "sparse_all_close(test, test, atol=3)"
   ]
  },
  {
   "cell_type": "code",
   "execution_count": null,
   "metadata": {},
   "outputs": [],
   "source": []
  },
  {
   "cell_type": "code",
   "execution_count": null,
   "metadata": {},
   "outputs": [],
   "source": [
    "np.dot(test, test2)"
   ]
  },
  {
   "cell_type": "code",
   "execution_count": 28,
   "metadata": {
    "code_folding": [
     5
    ]
   },
   "outputs": [],
   "source": [
    "from quchem.Unitary_partitioning_Seq_Rot import *\n",
    "from scipy.sparse.linalg import expm\n",
    "# from scipy.sparse import kron as sparse_kron\n",
    "\n",
    "\n",
    "def Build_reduction_circuit_seq_rot_IBM(anti_commuting_set, S_index, N_qubits, check_reduction=False):\n",
    "    \"\"\"\n",
    "    Function to build R_S (make up of all R_SK terms)\n",
    "\n",
    "    Args:\n",
    "        anti_commuting_set(list): list of anti commuting QubitOperators\n",
    "        S_index(int): index for Ps in anti_commuting_set list\n",
    "        check_reduction (optional, bool): use linear algebra to check that 𝑅s† 𝐻s 𝑅s == 𝑃s\n",
    "    returns:\n",
    "        full_RS_circuit(cirq.Circuit): Q_circuit for R_s operator\n",
    "        Ps (QubitOperator): Pauli_S operator with cofactor of 1!\n",
    "        gamma_l (float): normalization term\n",
    "\n",
    "    \"\"\"\n",
    "\n",
    "    X_sk_theta_sk_list, full_normalised_set, Ps, gamma_l = Get_Xsk_op_list(anti_commuting_set, S_index)\n",
    "    \n",
    "    R_sl_mat_list=[]\n",
    "    for X_sk_Op, theta_sk in X_sk_theta_sk_list:\n",
    "\n",
    "        pauliword_X_sk = list(X_sk_Op.terms.keys())[0]\n",
    "        const_X_sk = list(X_sk_Op.terms.values())[0]\n",
    "\n",
    "        \n",
    "        sparse_X_sk = get_sparse_operator(QubitOperator(pauliword_X_sk, -1j), n_qubits=N_qubits)\n",
    "        R_sl_mat = expm(sparse_X_sk*(theta_sk / 2 * const_X_sk))\n",
    "        R_sl_mat_list.append(R_sl_mat)\n",
    "\n",
    "        \n",
    "    R_S_matrix = reduce(np.dot, R_sl_mat_list[::-1]) # note need this in reverse order!\n",
    "\n",
    "    if check_reduction:\n",
    "\n",
    "        H_S=QubitOperator()\n",
    "        for op in full_normalised_set['PauliWords']:\n",
    "            H_S+=op\n",
    "        H_S_matrix=get_sparse_operator(H_S, n_qubits=N_qubits)\n",
    "        \n",
    "        \n",
    "        Ps_mat = get_sparse_operator(Ps, n_qubits=N_qubits)\n",
    "\n",
    "        reduction_mat = R_S_matrix.dot(H_S_matrix.dot(R_S_matrix.conj().transpose()))\n",
    "        \n",
    "        if not (sparse_all_close(Ps_mat, reduction_mat)):\n",
    "#         if not (np.allclose(Ps_mat.todense(), reduction_mat.todense())):\n",
    "            print('reduction circuit incorrect...   𝑅s 𝐻s 𝑅s† != 𝑃s')\n",
    "\n",
    "        \n",
    "    return R_S_matrix, Ps, gamma_l\n"
   ]
  },
  {
   "cell_type": "code",
   "execution_count": 31,
   "metadata": {},
   "outputs": [],
   "source": [
    "N_qubits = len(new_input_state)\n",
    "S_index=0\n",
    "set_key=9\n",
    "\n",
    "R_s_mat, Ps, gamma_l=Build_reduction_circuit_seq_rot_IBM(anti_commuting_sets[set_key],\n",
    "                                    S_index,\n",
    "                                    N_qubits,\n",
    "                                    check_reduction=True)"
   ]
  },
  {
   "cell_type": "code",
   "execution_count": 32,
   "metadata": {
    "code_folding": [
     0
    ]
   },
   "outputs": [],
   "source": [
    "def IBM_gate_from_matrix(unitary_matrix, q_circuit, gate_str=None):\n",
    "    \n",
    "    if isinstance(unitary_matrix, scipy.sparse.csc.csc_matrix):\n",
    "        unitary_matrix=unitary_matrix.toarray()\n",
    "    \n",
    "    \n",
    "    q_circuit=q_circuit.copy()\n",
    "    N_qubits = q_circuit.num_qubits\n",
    "    \n",
    "    if unitary_matrix.shape != (2**N_qubits, 2**N_qubits):\n",
    "        raise ValueError('defined matrix is incorrect dimention')\n",
    "    \n",
    "    qubit_list = [i for i in range(N_qubits)]\n",
    "    custom_gate = UnitaryGate(unitary_matrix, label='Custom Gate' if gate_str is None else '{}'.format(gate_str))\n",
    "    \n",
    "    del unitary_matrix\n",
    "    q_circuit.append(custom_gate, qubit_list)\n",
    "    return q_circuit"
   ]
  },
  {
   "cell_type": "code",
   "execution_count": 33,
   "metadata": {},
   "outputs": [
    {
     "data": {
      "text/html": [
       "<pre style=\"word-wrap: normal;white-space: pre;background: #fff0;line-height: 1.1;font-family: &quot;Courier New&quot;,Courier,monospace\">        ┌──────┐\n",
       "q379_0: ┤0     ├\n",
       "        │      │\n",
       "q379_1: ┤1     ├\n",
       "        │  R_s │\n",
       "q379_2: ┤2     ├\n",
       "        │      │\n",
       "q379_3: ┤3     ├\n",
       "        └──────┘</pre>"
      ],
      "text/plain": [
       "        ┌──────┐\n",
       "q379_0: ┤0     ├\n",
       "        │      │\n",
       "q379_1: ┤1     ├\n",
       "        │  R_s │\n",
       "q379_2: ┤2     ├\n",
       "        │      │\n",
       "q379_3: ┤3     ├\n",
       "        └──────┘"
      ]
     },
     "execution_count": 33,
     "metadata": {},
     "output_type": "execute_result"
    }
   ],
   "source": [
    "N_qubits = len(new_input_state)\n",
    "q_reg = QuantumRegister(N_qubits)\n",
    "qcirc = QuantumCircuit(q_reg)\n",
    "\n",
    "qcirc = IBM_gate_from_matrix(R_s_mat, qcirc, gate_str='R_s')\n",
    "qcirc.draw()"
   ]
  },
  {
   "cell_type": "code",
   "execution_count": 119,
   "metadata": {},
   "outputs": [
    {
     "data": {
      "text/plain": [
       "False"
      ]
     },
     "execution_count": 119,
     "metadata": {},
     "output_type": "execute_result"
    }
   ],
   "source": [
    "#Changing the simulator \n",
    "backend = Aer.get_backend('unitary_simulator')\n",
    "\n",
    "#job execution and getting the result as an object\n",
    "job = execute(qcirc, backend)\n",
    "result = job.result()\n",
    "\n",
    "#get the unitary matrix from the result object\n",
    "unitary_form = result.get_unitary(qcirc, decimals=6)\n",
    "\n",
    "np.allclose(unitary_form, np.around(R_s_mat.todense(), 6))"
   ]
  },
  {
   "cell_type": "code",
   "execution_count": 120,
   "metadata": {
    "code_folding": [
     12
    ]
   },
   "outputs": [
    {
     "data": {
      "application/vnd.jupyter.widget-view+json": {
       "model_id": "a8eab008c94d4d63af1199e93f8c7c73",
       "version_major": 2,
       "version_minor": 0
      },
      "text/plain": [
       "HBox(children=(FloatProgress(value=0.0, description='performing VQE', max=11.0, style=ProgressStyle(descriptio…"
      ]
     },
     "metadata": {},
     "output_type": "display_data"
    },
    {
     "name": "stdout",
     "output_type": "stream",
     "text": [
      "\n",
      "(-1.1376232075920538+0j)\n"
     ]
    }
   ],
   "source": [
    "Seq_Rot_circuits=[]\n",
    "N_qubits = len(new_input_state)\n",
    "S_index=0\n",
    "\n",
    "backend=Aer.get_backend('qasm_simulator')\n",
    "n_shots=1024\n",
    "\n",
    "q_reg = QuantumRegister(n_qubits)\n",
    "qcirc = QuantumCircuit(q_reg)\n",
    "perfect_ansatz_circ=Get_Q_circ_to_build_state(ground_state_vector, q_reg, qcirc)\n",
    "\n",
    "E_list=[]\n",
    "for set_key in tqdm(list(anti_commuting_sets.keys()), ascii=True, desc='performing VQE'):\n",
    "    anti_set_list= anti_commuting_sets[set_key]\n",
    "    if len(anti_set_list)>1:\n",
    "        R_s_mat, Ps, gamma_l=Build_reduction_circuit_seq_rot_IBM(anti_set_list,\n",
    "                                                                S_index,\n",
    "                                                                N_qubits,\n",
    "                                                                check_reduction=False)\n",
    "        # unitary partitioning\n",
    "        q_circuit = IBM_gate_from_matrix(R_s_mat, perfect_ansatz_circ, gate_str='R_s')\n",
    "        \n",
    "        full_circuit = change_basis_for_Z_measure(Ps, \n",
    "                                                  q_reg,\n",
    "                                                  q_circuit,\n",
    "                                                  N_qubits)\n",
    "        full_circuit.measure_all()\n",
    "\n",
    "        job = execute(full_circuit, backend, shots=n_shots)\n",
    "        result = job.result()\n",
    "        exp_counts_dict = result.get_counts(full_circuit)\n",
    "        E_list.append(exp_val*gamma_l)\n",
    "        \n",
    "    else:\n",
    "        qubitOp = anti_set_list[0]\n",
    "        for PauliWord, const in qubitOp.terms.items():\n",
    "            if PauliWord:\n",
    "                full_circuit = change_basis_for_Z_measure(qubitOp, \n",
    "                                                          q_reg,\n",
    "                                                          perfect_ansatz_circ,\n",
    "                                                          N_qubits)\n",
    "                full_circuit.measure_all()\n",
    "\n",
    "                job = execute(full_circuit, backend, shots=n_shots)\n",
    "                result = job.result()\n",
    "                exp_counts_dict = result.get_counts(full_circuit)\n",
    "\n",
    "                exp_val = calc_exp_pauliword(exp_counts_dict, qubitOp)\n",
    "                E_list.append(exp_val*const)\n",
    "            else:\n",
    "                E_list.append(const)\n",
    "print(sum(E_list))"
   ]
  },
  {
   "cell_type": "code",
   "execution_count": null,
   "metadata": {},
   "outputs": [],
   "source": []
  },
  {
   "cell_type": "markdown",
   "metadata": {},
   "source": [
    "# LCU"
   ]
  },
  {
   "cell_type": "code",
   "execution_count": 41,
   "metadata": {},
   "outputs": [],
   "source": [
    "from quchem.Unitary_partitioning_LCU_method import *"
   ]
  },
  {
   "cell_type": "code",
   "execution_count": 282,
   "metadata": {},
   "outputs": [
    {
     "data": {
      "text/plain": [
       "[1, (-0-1j)]"
      ]
     },
     "execution_count": 282,
     "metadata": {},
     "output_type": "execute_result"
    }
   ],
   "source": [
    "R_uncorrected, Pn, gamma_l = Get_R_op_list(anti_commuting_sets[9], 0)\n",
    "R_corrected_Op_list, R_corr_list, ancilla_amplitudes, l1 = absorb_complex_phases(R_uncorrected)\n",
    "R_corr_list"
   ]
  },
  {
   "cell_type": "code",
   "execution_count": 283,
   "metadata": {},
   "outputs": [
    {
     "data": {
      "text/html": [
       "<pre style=\"overflow: auto; white-space: pre;\">0: ───(-0-1j)*Y0───\n",
       "      │\n",
       "1: ───X1───────────\n",
       "      │\n",
       "2: ───Y2───────────\n",
       "      │\n",
       "3: ───Y3───────────\n",
       "      │\n",
       "4: ───@────────────</pre>"
      ],
      "text/plain": [
       "0: ───(-0-1j)*Y0───\n",
       "      │\n",
       "1: ───X1───────────\n",
       "      │\n",
       "2: ───Y2───────────\n",
       "      │\n",
       "3: ───Y3───────────\n",
       "      │\n",
       "4: ───@────────────"
      ]
     },
     "execution_count": 283,
     "metadata": {},
     "output_type": "execute_result"
    }
   ],
   "source": [
    "No_control_qubits=int(np.log2(len(ancilla_amplitudes)))\n",
    "No_system_qubits=int(np.log2(len(ground_state_vector)))\n",
    "\n",
    "R_uncorrected, Pn, gamma_l = Get_R_op_list(anti_commuting_sets[9], 0)\n",
    "R_corrected_Op_list, R_corr_list, ancilla_amplitudes, l1 = absorb_complex_phases(R_uncorrected)\n",
    "\n",
    "\n",
    "\n",
    "R_circ_obj = LCU_R_gate(No_control_qubits, No_system_qubits, R_corrected_Op_list, R_corr_list, Pn)\n",
    "R_circ_circ = cirq.Circuit(\n",
    "cirq.decompose_once((R_circ_obj(*cirq.LineQubit.range(R_circ_obj.num_qubits())))))\n",
    "R_circ_circ"
   ]
  },
  {
   "cell_type": "code",
   "execution_count": 310,
   "metadata": {},
   "outputs": [
    {
     "name": "stdout",
     "output_type": "stream",
     "text": [
      "         ┌──────────────────┐\n",
      "q2222_0: ┤0                 ├\n",
      "         │                  │\n",
      "q2222_1: ┤1                 ├\n",
      "         │  disentangler_dg │\n",
      "q2222_2: ┤2                 ├\n",
      "         │                  │\n",
      "q2222_3: ┤3                 ├\n",
      "         ├─────────────────┬┘\n",
      "q2276_0: ┤ disentangler_dg ├─\n",
      "         └─────────────────┘ \n",
      "0: ───(-0-1j)*Y0───\n",
      "      │\n",
      "1: ───X1───────────\n",
      "      │\n",
      "2: ───Y2───────────\n",
      "      │\n",
      "3: ───Y3───────────\n",
      "      │\n",
      "4: ───@────────────\n"
     ]
    },
    {
     "data": {
      "text/html": [
       "<pre style=\"word-wrap: normal;white-space: pre;background: #fff0;line-height: 1.1;font-family: &quot;Courier New&quot;,Courier,monospace\">         ┌──────────────────┐┌──────────┐\n",
       "q2222_0: ┤0                 ├┤0         ├\n",
       "         │                  ││          │\n",
       "q2222_1: ┤1                 ├┤1         ├\n",
       "         │  disentangler_dg ││          │\n",
       "q2222_2: ┤2                 ├┤2 R_l_LCU ├\n",
       "         │                  ││          │\n",
       "q2222_3: ┤3                 ├┤3         ├\n",
       "         ├─────────────────┬┘│          │\n",
       "q2276_0: ┤ disentangler_dg ├─┤4         ├\n",
       "         └─────────────────┘ └──────────┘</pre>"
      ],
      "text/plain": [
       "         ┌──────────────────┐┌──────────┐\n",
       "q2222_0: ┤0                 ├┤0         ├\n",
       "         │                  ││          │\n",
       "q2222_1: ┤1                 ├┤1         ├\n",
       "         │  disentangler_dg ││          │\n",
       "q2222_2: ┤2                 ├┤2 R_l_LCU ├\n",
       "         │                  ││          │\n",
       "q2222_3: ┤3                 ├┤3         ├\n",
       "         ├─────────────────┬┘│          │\n",
       "q2276_0: ┤ disentangler_dg ├─┤4         ├\n",
       "         └─────────────────┘ └──────────┘"
      ]
     },
     "execution_count": 310,
     "metadata": {},
     "output_type": "execute_result"
    }
   ],
   "source": [
    "# LCU_circuits=[]\n",
    "N_qubits = len(new_input_state)\n",
    "N_index=0\n",
    "\n",
    "backend=Aer.get_backend('qasm_simulator')\n",
    "n_shots=1024\n",
    "\n",
    "q_reg = QuantumRegister(n_qubits)\n",
    "qcirc = QuantumCircuit(q_reg)\n",
    "perfect_ansatz_circ=Get_Q_circ_to_build_state(ground_state_vector, q_reg, qcirc)\n",
    "\n",
    "\n",
    "\n",
    "\n",
    "\n",
    "N_ancilla=int(np.log2(len(ancilla_amplitudes)))\n",
    "q_reg_ancilla = QuantumRegister(N_ancilla)\n",
    "q_circ_ancilla = QuantumCircuit(q_reg_ancilla)\n",
    "G_circuit = Get_Q_circ_to_build_state(ancilla_amplitudes, q_reg_ancilla, q_circ_ancilla)\n",
    "G_inverse=G_circuit.inverse()\n",
    "\n",
    "combined_circuits =perfect_ansatz_circ.combine(G_circuit)\n",
    "print(combined_circuits.draw())\n",
    "\n",
    "R_l_LCU, N_ancil = control_Rl_gate_LCU(R_corrected_Op_list,\n",
    "                                       R_corr_list,\n",
    "                                       ancilla_amplitudes,\n",
    "                                       int(np.log2(len(ground_state_vector))))\n",
    "\n",
    "\n",
    "R_circ_obj = LCU_R_gate(No_control_qubits, No_system_qubits, R_corrected_Op_list, R_corr_list, Pn)\n",
    "R_circ_circ = cirq.Circuit(\n",
    "cirq.decompose_once((R_circ_obj(*cirq.LineQubit.range(R_circ_obj.num_qubits())))))\n",
    "print(R_circ_circ)\n",
    "q_circuit = IBM_gate_from_matrix(R_circ_circ.unitary(), combined_circuits, gate_str='R_l_LCU')\n",
    "        \n",
    "# full_circuit = change_basis_for_Z_measure(Ps, \n",
    "#                                           q_reg,\n",
    "#                                           q_circuit,\n",
    "#                                           N_qubits)\n",
    "q_circuit.draw()"
   ]
  },
  {
   "cell_type": "code",
   "execution_count": 311,
   "metadata": {},
   "outputs": [
    {
     "data": {
      "text/plain": [
       "False"
      ]
     },
     "execution_count": 311,
     "metadata": {},
     "output_type": "execute_result"
    }
   ],
   "source": [
    "from qiskit.quantum_info import Operator\n",
    "\n",
    "q_reg = QuantumRegister(5)\n",
    "qcirc = QuantumCircuit(5)\n",
    "test = IBM_gate_from_matrix(R_circ_circ.unitary(), qcirc, gate_str='R_l_LCU')\n",
    "Operator(test)==R_circ_circ.unitary()"
   ]
  },
  {
   "cell_type": "code",
   "execution_count": 467,
   "metadata": {
    "code_folding": [
     0
    ]
   },
   "outputs": [],
   "source": [
    "def phase_Pauli_gate(Pstr, cofactor):\n",
    "    if Pstr == 'X':\n",
    "        unitary_matrix = cofactor * np.array([[0, 1], [1, 0]], dtype=complex)\n",
    "    elif Pstr == 'Y':\n",
    "        unitary_matrix = cofactor * np.array([[0, -1j], [1j, 0]], dtype=complex)\n",
    "    elif Pstr == 'Z':\n",
    "        unitary_matrix = cofactor * np.array([[1, 0], [0, -1]], dtype=complex)\n",
    "    else:\n",
    "        raise ValueError('P_str is not a Pauli')\n",
    "\n",
    "    return UnitaryGate(unitary_matrix, label='{}*{}'.format(cofactor, Pstr))"
   ]
  },
  {
   "cell_type": "code",
   "execution_count": null,
   "metadata": {},
   "outputs": [],
   "source": [
    ">>> a = [1,2,3,4,5]\n",
    ">>> b = [1,3,5,6]\n",
    ">>> list(set(a) & set(b))\n",
    "[1, 3, 5]"
   ]
  },
  {
   "cell_type": "code",
   "execution_count": 534,
   "metadata": {
    "code_folding": []
   },
   "outputs": [],
   "source": [
    "from qiskit.circuit.library.standard_gates import XGate, YGate, ZGate\n",
    "def control_P_IBM(PauliOp, phase_correction, control_index, q_circuit, n_qubits, n_ancilla, list_measured_qubits=None):\n",
    "    \n",
    "    q_circuit = q_circuit.copy()\n",
    "    qubitNos, PauliStrs = zip(*list(*PauliOp.terms.keys()))\n",
    "    \n",
    "    # re-order IN REVERSE!!!!!!!!!!!!!! IMPORTANT!!!!!\n",
    "    relabel_dic = {index: qubitNo for index, qubitNo in enumerate(range(n_qubits)[::-1])}\n",
    "    qubitNos = [relabel_dic[qNo] for qNo in qubitNos]\n",
    "    idx = np.argsort(qubitNos)\n",
    "    qubitNos = np.array(qubitNos)[idx]\n",
    "    PauliStrs = np.array(PauliStrs)[idx]\n",
    "    ## !!!!!!!!!!!!! IMPORTANT!!!!!\n",
    "    \n",
    "    if list_measured_qubits is None:\n",
    "        qubit_to_put_phase_on=0\n",
    "    else:\n",
    "        qubit_to_put_phase_on = list(set(qubitNos) & set(list_measured_qubits))[0]\n",
    "        \n",
    "    \n",
    "    for index, qNo in enumerate(qubitNos):\n",
    "#         qNo = int(qNo)\n",
    "        qNo=qNo+n_ancilla\n",
    "        Pstr = PauliStrs[index]\n",
    "        \n",
    "        if index==qubit_to_put_phase_on:\n",
    "            phase_P = phase_Pauli_gate(Pstr, phase_correction).control(n_ancilla)\n",
    "            phase_P.num_ctrl_qubits =n_ancilla\n",
    "            phase_P.ctrl_state= control_index\n",
    "            q_circuit.append(phase_P, [*[i for i in range(0, n_ancilla)],qNo])\n",
    "#             Matrix_P = Operator(phase_P)\n",
    "        else:\n",
    "            if Pstr == 'X':\n",
    "                X_gate = XGate().control(n_ancilla)\n",
    "                X_gate.ctrl_state= control_index\n",
    "    #             q_circuit.append(X_gate, [*[i for i in range(n_qubits, n_qubits+n_ancilla)],qNo])\n",
    "                q_circuit.append(X_gate, [*[i for i in range(0, n_ancilla)],qNo])\n",
    "            elif Pstr == 'Y':\n",
    "                Y_gate = YGate().control(n_ancilla)\n",
    "                Y_gate.ctrl_state= control_index\n",
    "    #             q_circuit.append(Y_gate, [*[i for i in range(n_qubits, n_qubits+n_ancilla)],qNo])\n",
    "                q_circuit.append(Y_gate, [*[i for i in range(0, n_ancilla)],qNo])\n",
    "            elif Pstr == 'Z':\n",
    "                Z_gate = ZGate().control(n_ancilla)\n",
    "                Z_gate.ctrl_state= control_index\n",
    "    #             q_circuit.append(Z_gate, [*[i for i in range(n_qubits, n_qubits+n_ancilla)],qNo])\n",
    "                q_circuit.append(Z_gate, [*[i for i in range(0, n_ancilla)],qNo])\n",
    "            \n",
    "    return q_circuit"
   ]
  },
  {
   "cell_type": "code",
   "execution_count": 538,
   "metadata": {},
   "outputs": [
    {
     "data": {
      "text/html": [
       "<pre style=\"word-wrap: normal;white-space: pre;background: #fff0;line-height: 1.1;font-family: &quot;Courier New&quot;,Courier,monospace\">                         \n",
       "q5876_0: ─o────o──────o──\n",
       "          │    │      │  \n",
       "q5876_1: ─■────■──────■──\n",
       "          │    │      │  \n",
       "q5876_2: ─■────┼──────┼──\n",
       "            ┌──┴───┐  │  \n",
       "q5876_3: ───┤ 1j*Y ├──┼──\n",
       "            └──────┘┌─┴─┐\n",
       "q5876_4: ───────────┤ X ├\n",
       "                    └───┘</pre>"
      ],
      "text/plain": [
       "                         \n",
       "q5876_0: ─o────o──────o──\n",
       "          │    │      │  \n",
       "q5876_1: ─■────■──────■──\n",
       "          │    │      │  \n",
       "q5876_2: ─■────┼──────┼──\n",
       "            ┌──┴───┐  │  \n",
       "q5876_3: ───┤ 1j*Y ├──┼──\n",
       "            └──────┘┌─┴─┐\n",
       "q5876_4: ───────────┤ X ├\n",
       "                    └───┘"
      ]
     },
     "execution_count": 538,
     "metadata": {},
     "output_type": "execute_result"
    }
   ],
   "source": [
    "system=3\n",
    "ancilla=2\n",
    "q_reg = QuantumRegister(system+ancilla)\n",
    "qcirc = QuantumCircuit(q_reg)\n",
    "control_index=2\n",
    "list_qubits_to_measure = [1]\n",
    "\n",
    "P = QubitOperator('X0 Y1 Z2', 1)\n",
    "phase = 1j\n",
    "\n",
    "xx =control_P_IBM(P, phase, control_index, qcirc, system, ancilla, list_measured_qubits=list_qubits_to_measure)\n",
    "xx.draw()"
   ]
  },
  {
   "cell_type": "code",
   "execution_count": 490,
   "metadata": {},
   "outputs": [
    {
     "name": "stdout",
     "output_type": "stream",
     "text": [
      "         ┌─────────────────┐ \n",
      "q3535_0: ┤ disentangler_dg ├─\n",
      "         ├─────────────────┴┐\n",
      "q3481_0: ┤0                 ├\n",
      "         │                  │\n",
      "q3481_1: ┤1                 ├\n",
      "         │  disentangler_dg │\n",
      "q3481_2: ┤2                 ├\n",
      "         │                  │\n",
      "q3481_3: ┤3                 ├\n",
      "         └──────────────────┘\n"
     ]
    },
    {
     "data": {
      "text/html": [
       "<pre style=\"word-wrap: normal;white-space: pre;background: #fff0;line-height: 1.1;font-family: &quot;Courier New&quot;,Courier,monospace\">         ┌─────────────────┐                             ┌────────────────────┐\n",
       "q3535_0: ┤ disentangler_dg ├───────■────────■────■────■──┤ disentangler_dg_dg ├\n",
       "         ├─────────────────┴┐┌─────┴─────┐  │    │    │  └────────────────────┘\n",
       "q3481_0: ┤0                 ├┤ (-0-1j)*X ├──┼────┼────┼────────────────────────\n",
       "         │                  │└───────────┘┌─┴─┐  │    │                        \n",
       "q3481_1: ┤1                 ├─────────────┤ Y ├──┼────┼────────────────────────\n",
       "         │  disentangler_dg │             └───┘┌─┴─┐  │                        \n",
       "q3481_2: ┤2                 ├──────────────────┤ X ├──┼────────────────────────\n",
       "         │                  │                  └───┘┌─┴─┐                      \n",
       "q3481_3: ┤3                 ├───────────────────────┤ X ├──────────────────────\n",
       "         └──────────────────┘                       └───┘                      </pre>"
      ],
      "text/plain": [
       "         ┌─────────────────┐                             ┌────────────────────┐\n",
       "q3535_0: ┤ disentangler_dg ├───────■────────■────■────■──┤ disentangler_dg_dg ├\n",
       "         ├─────────────────┴┐┌─────┴─────┐  │    │    │  └────────────────────┘\n",
       "q3481_0: ┤0                 ├┤ (-0-1j)*X ├──┼────┼────┼────────────────────────\n",
       "         │                  │└───────────┘┌─┴─┐  │    │                        \n",
       "q3481_1: ┤1                 ├─────────────┤ Y ├──┼────┼────────────────────────\n",
       "         │  disentangler_dg │             └───┘┌─┴─┐  │                        \n",
       "q3481_2: ┤2                 ├──────────────────┤ X ├──┼────────────────────────\n",
       "         │                  │                  └───┘┌─┴─┐                      \n",
       "q3481_3: ┤3                 ├───────────────────────┤ X ├──────────────────────\n",
       "         └──────────────────┘                       └───┘                      "
      ]
     },
     "execution_count": 490,
     "metadata": {},
     "output_type": "execute_result"
    }
   ],
   "source": [
    "# LCU_circuits=[]\n",
    "N_qubits = len(new_input_state)\n",
    "N_index=0\n",
    "\n",
    "backend=Aer.get_backend('qasm_simulator')\n",
    "n_shots=1024\n",
    "\n",
    "q_reg = QuantumRegister(n_qubits)\n",
    "qcirc = QuantumCircuit(q_reg)\n",
    "perfect_ansatz_circ=Get_Q_circ_to_build_state(ground_state_vector, q_reg, qcirc)\n",
    "\n",
    "\n",
    "\n",
    "\n",
    "\n",
    "N_ancilla=int(np.log2(len(ancilla_amplitudes)))\n",
    "q_reg_ancilla = QuantumRegister(N_ancilla)\n",
    "q_circ_ancilla = QuantumCircuit(q_reg_ancilla)\n",
    "G_circuit = Get_Q_circ_to_build_state(ancilla_amplitudes, q_reg_ancilla, q_circ_ancilla)\n",
    "G_inverse=G_circuit.copy().inverse()\n",
    "\n",
    "# combined_circuits =perfect_ansatz_circ.combine(G_circuit)\n",
    "combined_circuits =G_circuit.combine(perfect_ansatz_circ)\n",
    "print(combined_circuits.draw())\n",
    "\n",
    "R_l_LCU, N_ancil = control_Rl_gate_LCU(R_corrected_Op_list,\n",
    "                                       R_corr_list,\n",
    "                                       ancilla_amplitudes,\n",
    "                                       int(np.log2(len(ground_state_vector))))\n",
    "\n",
    "\n",
    "control_index=1\n",
    "q_circuit =control_P_IBM(R_corrected_Op_list[1], R_corr_list[1], control_index, combined_circuits, N_qubits, N_ancilla)\n",
    "\n",
    "        \n",
    "# full_circuit = change_basis_for_Z_measure(Ps, \n",
    "#                                           q_reg,\n",
    "#                                           q_circuit,\n",
    "#                                           N_qubits)\n",
    "q_circuit.draw()\n",
    "\n",
    "combined_circuits =q_circuit.combine(G_inverse)\n",
    "full_circuit = change_basis_for_Z_measure(Ps, \n",
    "                                          q_reg,\n",
    "                                          combined_circuits,\n",
    "                                          N_qubits)\n",
    "full_circuit.draw()"
   ]
  },
  {
   "cell_type": "code",
   "execution_count": 491,
   "metadata": {},
   "outputs": [
    {
     "name": "stdout",
     "output_type": "stream",
     "text": [
      "         ┌─────────────────┐\n",
      "q3535_0: ┤ disentangler_dg ├\n",
      "         └─────────────────┘\n",
      "expected amps = [0.9407564775082788, 0.3390829544908076]\n"
     ]
    },
    {
     "data": {
      "text/plain": [
       "array([0.94075648+0.j, 0.33908295+0.j])"
      ]
     },
     "execution_count": 491,
     "metadata": {},
     "output_type": "execute_result"
    }
   ],
   "source": [
    "qcirc = G_circuit.copy()\n",
    "print(qcirc.draw())\n",
    "# qcirc.measure_all()\n",
    "\n",
    "#Changing the simulator \n",
    "backend = Aer.get_backend('statevector_simulator')\n",
    "\n",
    "#job execution and getting the result as an object\n",
    "job = execute(qcirc, backend)\n",
    "result = job.result()\n",
    "\n",
    "print('expected amps =', ancilla_amplitudes)\n",
    "result.get_statevector(qcirc)"
   ]
  },
  {
   "cell_type": "code",
   "execution_count": null,
   "metadata": {},
   "outputs": [],
   "source": []
  },
  {
   "cell_type": "code",
   "execution_count": 499,
   "metadata": {},
   "outputs": [
    {
     "data": {
      "text/plain": [
       "'012345'"
      ]
     },
     "execution_count": 499,
     "metadata": {},
     "output_type": "execute_result"
    }
   ],
   "source": [
    "'01234567'[:-2]"
   ]
  },
  {
   "cell_type": "code",
   "execution_count": 520,
   "metadata": {},
   "outputs": [],
   "source": [
    "def Get_post_selection_counts_LCU(list_of_measurements, N_ancilla):\n",
    "    # checks all zero state on ancilla line\n",
    "\n",
    "    new_counts={}\n",
    "    for binary_result_str in list_of_measurements:\n",
    "        ancilla_state = int(binary_result_str[-N_ancilla:],2)\n",
    "        if ancilla_state==0:\n",
    "            post_select_m_binary = binary_result_str[:-N_ancilla]\n",
    "            if post_select_m_binary in new_counts.keys():\n",
    "                new_counts[post_select_m_binary]+=1\n",
    "            else:\n",
    "                new_counts[post_select_m_binary]=1\n",
    "            \n",
    "        else:\n",
    "            continue\n",
    "\n",
    "    return new_counts"
   ]
  },
  {
   "cell_type": "code",
   "execution_count": 522,
   "metadata": {},
   "outputs": [
    {
     "data": {
      "text/plain": [
       "{'00': 1, '11': 1}"
      ]
     },
     "execution_count": 522,
     "metadata": {},
     "output_type": "execute_result"
    }
   ],
   "source": [
    "Get_post_selection_counts_LCU(['0000', '0001', '1100', '0111'], 2)"
   ]
  },
  {
   "cell_type": "code",
   "execution_count": 561,
   "metadata": {},
   "outputs": [
    {
     "data": {
      "application/vnd.jupyter.widget-view+json": {
       "model_id": "319134bb13a54193b5a68c4707eb0ebc",
       "version_major": 2,
       "version_minor": 0
      },
      "text/plain": [
       "HBox(children=(FloatProgress(value=0.0, description='performing VQE', max=11.0, style=ProgressStyle(descriptio…"
      ]
     },
     "metadata": {},
     "output_type": "display_data"
    },
    {
     "name": "stdout",
     "output_type": "stream",
     "text": [
      "(-0.2219786006707709+0j)\n",
      "         »\n",
      "q7024_0: »\n",
      "         »\n",
      "q7023_0: »\n",
      "         »\n",
      "q7023_1: »\n",
      "         »\n",
      "q7023_2: »\n",
      "         »\n",
      "q7023_3: »\n",
      "         »\n",
      " meas_0: »\n",
      "         »\n",
      " meas_1: »\n",
      "         »\n",
      " meas_2: »\n",
      "         »\n",
      " meas_3: »\n",
      "         »\n",
      " meas_4: »\n",
      "         »\n",
      "«                                        ┌─────────────────┐                               »\n",
      "«q7024_0: ───────────────────────────────┤ disentangler_dg ├───────────────────────────────»\n",
      "«         ┌──────────────────────────────┴─────────────────┴──────────────────────────────┐»\n",
      "«q7023_0: ┤0                                                                              ├»\n",
      "«         │                                                                               │»\n",
      "«q7023_1: ┤1                                                                              ├»\n",
      "«         │  initialize(0,0,0,0.076769+0.082296j,0,0,0,0,0,0,0,0,-0.6778+-0.72659j,0,0,0) │»\n",
      "«q7023_2: ┤2                                                                              ├»\n",
      "«         │                                                                               │»\n",
      "«q7023_3: ┤3                                                                              ├»\n",
      "«         └───────────────────────────────────────────────────────────────────────────────┘»\n",
      "« meas_0: ═════════════════════════════════════════════════════════════════════════════════»\n",
      "«                                                                                          »\n",
      "« meas_1: ═════════════════════════════════════════════════════════════════════════════════»\n",
      "«                                                                                          »\n",
      "« meas_2: ═════════════════════════════════════════════════════════════════════════════════»\n",
      "«                                                                                          »\n",
      "« meas_3: ═════════════════════════════════════════════════════════════════════════════════»\n",
      "«                                                                                          »\n",
      "« meas_4: ═════════════════════════════════════════════════════════════════════════════════»\n",
      "«                                                                                          »\n",
      "«                                      ░ ┌─┐            \n",
      "«q7024_0: ──────■────────■────■────■───░─┤M├────────────\n",
      "«         ┌─────┴─────┐  │    │    │   ░ └╥┘┌─┐         \n",
      "«q7023_0: ┤ (-0-1j)*X ├──┼────┼────┼───░──╫─┤M├─────────\n",
      "«         └───────────┘┌─┴─┐  │    │   ░  ║ └╥┘┌─┐      \n",
      "«q7023_1: ─────────────┤ X ├──┼────┼───░──╫──╫─┤M├──────\n",
      "«                      └───┘┌─┴─┐  │   ░  ║  ║ └╥┘┌─┐   \n",
      "«q7023_2: ──────────────────┤ X ├──┼───░──╫──╫──╫─┤M├───\n",
      "«                           └───┘┌─┴─┐ ░  ║  ║  ║ └╥┘┌─┐\n",
      "«q7023_3: ───────────────────────┤ Y ├─░──╫──╫──╫──╫─┤M├\n",
      "«                                └───┘ ░  ║  ║  ║  ║ └╥┘\n",
      "« meas_0: ════════════════════════════════╩══╬══╬══╬══╬═\n",
      "«                                            ║  ║  ║  ║ \n",
      "« meas_1: ═══════════════════════════════════╩══╬══╬══╬═\n",
      "«                                               ║  ║  ║ \n",
      "« meas_2: ══════════════════════════════════════╩══╬══╬═\n",
      "«                                                  ║  ║ \n",
      "« meas_3: ═════════════════════════════════════════╩══╬═\n",
      "«                                                     ║ \n",
      "« meas_4: ════════════════════════════════════════════╩═\n",
      "«                                                       \n",
      "1 [Z3]\n",
      "(-0.22306414548250122+0j)\n",
      "         »\n",
      "q7052_0: »\n",
      "         »\n",
      "q7023_0: »\n",
      "         »\n",
      "q7023_1: »\n",
      "         »\n",
      "q7023_2: »\n",
      "         »\n",
      "q7023_3: »\n",
      "         »\n",
      " meas_0: »\n",
      "         »\n",
      " meas_1: »\n",
      "         »\n",
      " meas_2: »\n",
      "         »\n",
      " meas_3: »\n",
      "         »\n",
      " meas_4: »\n",
      "         »\n",
      "«                                        ┌─────────────────┐                               »\n",
      "«q7052_0: ───────────────────────────────┤ disentangler_dg ├───────────────────────────────»\n",
      "«         ┌──────────────────────────────┴─────────────────┴──────────────────────────────┐»\n",
      "«q7023_0: ┤0                                                                              ├»\n",
      "«         │                                                                               │»\n",
      "«q7023_1: ┤1                                                                              ├»\n",
      "«         │  initialize(0,0,0,0.076769+0.082296j,0,0,0,0,0,0,0,0,-0.6778+-0.72659j,0,0,0) │»\n",
      "«q7023_2: ┤2                                                                              ├»\n",
      "«         │                                                                               │»\n",
      "«q7023_3: ┤3                                                                              ├»\n",
      "«         └───────────────────────────────────────────────────────────────────────────────┘»\n",
      "« meas_0: ═════════════════════════════════════════════════════════════════════════════════»\n",
      "«                                                                                          »\n",
      "« meas_1: ═════════════════════════════════════════════════════════════════════════════════»\n",
      "«                                                                                          »\n",
      "« meas_2: ═════════════════════════════════════════════════════════════════════════════════»\n",
      "«                                                                                          »\n",
      "« meas_3: ═════════════════════════════════════════════════════════════════════════════════»\n",
      "«                                                                                          »\n",
      "« meas_4: ═════════════════════════════════════════════════════════════════════════════════»\n",
      "«                                                                                          »\n",
      "«                                      ░ ┌─┐            \n",
      "«q7052_0: ──■────────■────────■────■───░─┤M├────────────\n",
      "«         ┌─┴─┐      │        │    │   ░ └╥┘┌─┐         \n",
      "«q7023_0: ┤ X ├──────┼────────┼────┼───░──╫─┤M├─────────\n",
      "«         └───┘┌─────┴─────┐  │    │   ░  ║ └╥┘┌─┐      \n",
      "«q7023_1: ─────┤ (-0-1j)*Y ├──┼────┼───░──╫──╫─┤M├──────\n",
      "«              └───────────┘┌─┴─┐  │   ░  ║  ║ └╥┘┌─┐   \n",
      "«q7023_2: ──────────────────┤ Y ├──┼───░──╫──╫──╫─┤M├───\n",
      "«                           └───┘┌─┴─┐ ░  ║  ║  ║ └╥┘┌─┐\n",
      "«q7023_3: ───────────────────────┤ Y ├─░──╫──╫──╫──╫─┤M├\n",
      "«                                └───┘ ░  ║  ║  ║  ║ └╥┘\n",
      "« meas_0: ════════════════════════════════╩══╬══╬══╬══╬═\n",
      "«                                            ║  ║  ║  ║ \n",
      "« meas_1: ═══════════════════════════════════╩══╬══╬══╬═\n",
      "«                                               ║  ║  ║ \n",
      "« meas_2: ══════════════════════════════════════╩══╬══╬═\n",
      "«                                                  ║  ║ \n",
      "« meas_3: ═════════════════════════════════════════╩══╬═\n",
      "«                                                     ║ \n",
      "« meas_4: ════════════════════════════════════════════╩═\n",
      "«                                                       \n",
      "1 [Z2]\n",
      "(0.17234184522475826+0j)\n",
      "         »\n",
      "q7076_0: »\n",
      "         »\n",
      "q7023_0: »\n",
      "         »\n",
      "q7023_1: »\n",
      "         »\n",
      "q7023_2: »\n",
      "         »\n",
      "q7023_3: »\n",
      "         »\n",
      " meas_0: »\n",
      "         »\n",
      " meas_1: »\n",
      "         »\n",
      " meas_2: »\n",
      "         »\n",
      " meas_3: »\n",
      "         »\n",
      " meas_4: »\n",
      "         »\n",
      "«                                        ┌─────────────────┐                               »\n",
      "«q7076_0: ───────────────────────────────┤ disentangler_dg ├───────────────────────────────»\n",
      "«         ┌──────────────────────────────┴─────────────────┴──────────────────────────────┐»\n",
      "«q7023_0: ┤0                                                                              ├»\n",
      "«         │                                                                               │»\n",
      "«q7023_1: ┤1                                                                              ├»\n",
      "«         │  initialize(0,0,0,0.076769+0.082296j,0,0,0,0,0,0,0,0,-0.6778+-0.72659j,0,0,0) │»\n",
      "«q7023_2: ┤2                                                                              ├»\n",
      "«         │                                                                               │»\n",
      "«q7023_3: ┤3                                                                              ├»\n",
      "«         └───────────────────────────────────────────────────────────────────────────────┘»\n",
      "« meas_0: ═════════════════════════════════════════════════════════════════════════════════»\n",
      "«                                                                                          »\n",
      "« meas_1: ═════════════════════════════════════════════════════════════════════════════════»\n",
      "«                                                                                          »\n",
      "« meas_2: ═════════════════════════════════════════════════════════════════════════════════»\n",
      "«                                                                                          »\n",
      "« meas_3: ═════════════════════════════════════════════════════════════════════════════════»\n",
      "«                                                                                          »\n",
      "« meas_4: ═════════════════════════════════════════════════════════════════════════════════»\n",
      "«                                                                                          »\n",
      "«                                      ░ ┌─┐            \n",
      "«q7076_0: ──■────■────■────────■───────░─┤M├────────────\n",
      "«         ┌─┴─┐  │    │        │       ░ └╥┘┌─┐         \n",
      "«q7023_0: ┤ Y ├──┼────┼────────┼───────░──╫─┤M├─────────\n",
      "«         └───┘┌─┴─┐  │        │       ░  ║ └╥┘┌─┐      \n",
      "«q7023_1: ─────┤ Y ├──┼────────┼───────░──╫──╫─┤M├──────\n",
      "«              └───┘┌─┴─┐      │       ░  ║  ║ └╥┘┌─┐   \n",
      "«q7023_2: ──────────┤ X ├──────┼───────░──╫──╫──╫─┤M├───\n",
      "«                   └───┘┌─────┴─────┐ ░  ║  ║  ║ └╥┘┌─┐\n",
      "«q7023_3: ───────────────┤ (-0-1j)*Y ├─░──╫──╫──╫──╫─┤M├\n",
      "«                        └───────────┘ ░  ║  ║  ║  ║ └╥┘\n",
      "« meas_0: ════════════════════════════════╩══╬══╬══╬══╬═\n",
      "«                                            ║  ║  ║  ║ \n",
      "« meas_1: ═══════════════════════════════════╩══╬══╬══╬═\n",
      "«                                               ║  ║  ║ \n",
      "« meas_2: ══════════════════════════════════════╩══╬══╬═\n",
      "«                                                  ║  ║ \n",
      "« meas_3: ═════════════════════════════════════════╩══╬═\n",
      "«                                                     ║ \n",
      "« meas_4: ════════════════════════════════════════════╩═\n",
      "«                                                       \n",
      "1 [Z0]\n"
     ]
    },
    {
     "name": "stdout",
     "output_type": "stream",
     "text": [
      "(0.17300379942790103+0j)\n",
      "         »\n",
      "q7100_0: »\n",
      "         »\n",
      "q7023_0: »\n",
      "         »\n",
      "q7023_1: »\n",
      "         »\n",
      "q7023_2: »\n",
      "         »\n",
      "q7023_3: »\n",
      "         »\n",
      " meas_0: »\n",
      "         »\n",
      " meas_1: »\n",
      "         »\n",
      " meas_2: »\n",
      "         »\n",
      " meas_3: »\n",
      "         »\n",
      " meas_4: »\n",
      "         »\n",
      "«                                        ┌─────────────────┐                               »\n",
      "«q7100_0: ───────────────────────────────┤ disentangler_dg ├───────────────────────────────»\n",
      "«         ┌──────────────────────────────┴─────────────────┴──────────────────────────────┐»\n",
      "«q7023_0: ┤0                                                                              ├»\n",
      "«         │                                                                               │»\n",
      "«q7023_1: ┤1                                                                              ├»\n",
      "«         │  initialize(0,0,0,0.076769+0.082296j,0,0,0,0,0,0,0,0,-0.6778+-0.72659j,0,0,0) │»\n",
      "«q7023_2: ┤2                                                                              ├»\n",
      "«         │                                                                               │»\n",
      "«q7023_3: ┤3                                                                              ├»\n",
      "«         └───────────────────────────────────────────────────────────────────────────────┘»\n",
      "« meas_0: ═════════════════════════════════════════════════════════════════════════════════»\n",
      "«                                                                                          »\n",
      "« meas_1: ═════════════════════════════════════════════════════════════════════════════════»\n",
      "«                                                                                          »\n",
      "« meas_2: ═════════════════════════════════════════════════════════════════════════════════»\n",
      "«                                                                                          »\n",
      "« meas_3: ═════════════════════════════════════════════════════════════════════════════════»\n",
      "«                                                                                          »\n",
      "« meas_4: ═════════════════════════════════════════════════════════════════════════════════»\n",
      "«                                                                                          »\n",
      "«                                      ░ ┌─┐            \n",
      "«q7100_0: ──■────■────────■────────■───░─┤M├────────────\n",
      "«         ┌─┴─┐  │        │        │   ░ └╥┘┌─┐         \n",
      "«q7023_0: ┤ X ├──┼────────┼────────┼───░──╫─┤M├─────────\n",
      "«         └───┘┌─┴─┐      │        │   ░  ║ └╥┘┌─┐      \n",
      "«q7023_1: ─────┤ Y ├──────┼────────┼───░──╫──╫─┤M├──────\n",
      "«              └───┘┌─────┴─────┐  │   ░  ║  ║ └╥┘┌─┐   \n",
      "«q7023_2: ──────────┤ (-0-1j)*X ├──┼───░──╫──╫──╫─┤M├───\n",
      "«                   └───────────┘┌─┴─┐ ░  ║  ║  ║ └╥┘┌─┐\n",
      "«q7023_3: ───────────────────────┤ X ├─░──╫──╫──╫──╫─┤M├\n",
      "«                                └───┘ ░  ║  ║  ║  ║ └╥┘\n",
      "« meas_0: ════════════════════════════════╩══╬══╬══╬══╬═\n",
      "«                                            ║  ║  ║  ║ \n",
      "« meas_1: ═══════════════════════════════════╩══╬══╬══╬═\n",
      "«                                               ║  ║  ║ \n",
      "« meas_2: ══════════════════════════════════════╩══╬══╬═\n",
      "«                                                  ║  ║ \n",
      "« meas_3: ═════════════════════════════════════════╩══╬═\n",
      "«                                                     ║ \n",
      "« meas_4: ════════════════════════════════════════════╩═\n",
      "«                                                       \n",
      "1 [Z1]\n",
      "\n",
      "(-0.42676768218522876+0j)\n"
     ]
    }
   ],
   "source": [
    "# LCU_circuits=[]\n",
    "N_qubits = len(new_input_state)\n",
    "N_index=0\n",
    "\n",
    "backend=Aer.get_backend('qasm_simulator')\n",
    "n_shots=1024\n",
    "\n",
    "q_reg = QuantumRegister(N_qubits)\n",
    "qcirc = QuantumCircuit(q_reg)\n",
    "perfect_ansatz_circ=arb_state_initalize_circuit(ground_state_vector, q_reg, qcirc)\n",
    "N_SYSTEM=int(np.log2(len(ground_state_vector)))\n",
    "\n",
    "E_list=[]\n",
    "for set_key in tqdm(list(anti_commuting_sets.keys()), ascii=True, desc='performing VQE'):\n",
    "    anti_set_list= anti_commuting_sets[set_key]\n",
    "    if len(anti_set_list)>1:\n",
    "\n",
    "        R_uncorrected, Pn, gamma_l = Get_R_op_list(anti_set_list, N_index)\n",
    "        R_corrected_Op_list, R_corr_list, ancilla_amplitudes, l1 = absorb_complex_phases(R_uncorrected)\n",
    "        # unitary partitioning\n",
    "        \n",
    "        N_ancilla=int(np.log2(len(ancilla_amplitudes)))\n",
    "        q_reg_ancilla = QuantumRegister(N_ancilla)\n",
    "        q_circ_ancilla = QuantumCircuit(q_reg_ancilla)\n",
    "        G_circuit = Get_Q_circ_to_build_state(ancilla_amplitudes, q_reg_ancilla, q_circ_ancilla)\n",
    "        G_inverse=G_circuit.copy().inverse()\n",
    "        \n",
    "        # combine ancilla and system\n",
    "        combined_circuits =G_circuit.combine(perfect_ansatz_circ)\n",
    "        R_l_LCU, N_ancilla = control_Rl_gate_LCU(R_corrected_Op_list,\n",
    "                                       R_corr_list,\n",
    "                                       ancilla_amplitudes,\n",
    "                                       N_SYSTEM)\n",
    "        \n",
    "        \n",
    "        # find qubits that are measured!\n",
    "        Pn_qubitNos, _ = zip(*list(*Pn.terms.keys()))\n",
    "        # re-order IN REVERSE!!!!!!!!!!!!!! IMPORTANT!!!!!\n",
    "        relabel_dic = {index: qubitNo for index, qubitNo in enumerate(range(N_SYSTEM)[::-1])}\n",
    "        Pn_qubitNos = [relabel_dic[qNo_Pn] for qNo_Pn in Pn_qubitNos]\n",
    "        idx = np.argsort(Pn_qubitNos)\n",
    "        Pn_qubitNos = np.array(Pn_qubitNos)[idx]\n",
    "        \n",
    "        \n",
    "        for control_index, op in enumerate(R_corrected_Op_list):\n",
    "            phase_corr=R_corr_list[control_index]\n",
    "            for PauliW, Const in op.terms.items():\n",
    "                if PauliW:\n",
    "                    combined_circuits =control_P_IBM(op,\n",
    "                                                     phase_corr,\n",
    "                                                     control_index,\n",
    "                                                     combined_circuits,\n",
    "                                                     N_qubits, \n",
    "                                                     N_ancilla,\n",
    "                                                    list_measured_qubits=Pn_qubitNos)\n",
    "                else:\n",
    "                    continue\n",
    "        \n",
    "        full_circuit = change_basis_for_Z_measure(Pn, \n",
    "                                                  q_reg,\n",
    "                                                  combined_circuits,\n",
    "                                                  N_qubits)\n",
    "        full_circuit.measure_all()\n",
    "        \n",
    "        \n",
    "        job = execute(full_circuit, backend, shots=n_shots, memory=True) # need memory for post_selection!\n",
    "        result = job.result()\n",
    "        list_of_results=result.get_memory(full_circuit)\n",
    "        post_selected_dict = Get_post_selection_counts_LCU(list_of_results, N_ancilla)\n",
    "        exp_val = calc_exp_pauliword_LCU(post_selected_dict, Pn)\n",
    "        \n",
    "        print(gamma_l*exp_val)\n",
    "        print(full_circuit.draw())\n",
    "        print(Pn)\n",
    "        \n",
    "        E_list.append(exp_val*gamma_l)\n",
    "        \n",
    "    else:\n",
    "        qubitOp = anti_set_list[0]\n",
    "        for PauliWord, const in qubitOp.terms.items():\n",
    "            if PauliWord:\n",
    "                full_circuit = change_basis_for_Z_measure(qubitOp, \n",
    "                                                          q_reg,\n",
    "                                                          perfect_ansatz_circ,\n",
    "                                                          N_qubits)\n",
    "                full_circuit.measure_all()\n",
    "\n",
    "                job = execute(full_circuit, backend, shots=n_shots)\n",
    "                result = job.result()\n",
    "                exp_counts_dict = result.get_counts(full_circuit)\n",
    "\n",
    "                exp_val = calc_exp_pauliword(exp_counts_dict, qubitOp)\n",
    "                E_list.append(exp_val*const)\n",
    "            else:\n",
    "                E_list.append(const)\n",
    "print(sum(E_list))"
   ]
  },
  {
   "cell_type": "code",
   "execution_count": null,
   "metadata": {},
   "outputs": [],
   "source": []
  },
  {
   "cell_type": "code",
   "execution_count": null,
   "metadata": {},
   "outputs": [],
   "source": []
  },
  {
   "cell_type": "code",
   "execution_count": null,
   "metadata": {},
   "outputs": [],
   "source": []
  },
  {
   "cell_type": "code",
   "execution_count": null,
   "metadata": {},
   "outputs": [],
   "source": []
  },
  {
   "cell_type": "code",
   "execution_count": null,
   "metadata": {},
   "outputs": [],
   "source": []
  },
  {
   "cell_type": "code",
   "execution_count": null,
   "metadata": {},
   "outputs": [],
   "source": []
  },
  {
   "cell_type": "code",
   "execution_count": null,
   "metadata": {},
   "outputs": [],
   "source": []
  },
  {
   "cell_type": "code",
   "execution_count": null,
   "metadata": {},
   "outputs": [],
   "source": []
  },
  {
   "cell_type": "code",
   "execution_count": null,
   "metadata": {},
   "outputs": [],
   "source": []
  },
  {
   "cell_type": "code",
   "execution_count": null,
   "metadata": {},
   "outputs": [],
   "source": []
  },
  {
   "cell_type": "code",
   "execution_count": null,
   "metadata": {},
   "outputs": [],
   "source": [
    "def control_P_gate(PauliOp, cofactor, control_string_binary, n_qubits, n_ancilla):\n",
    "    \n",
    "    qubit_state = {'0': np.array([[1],[0]]), '1': np.array([[0],[1]])}\n",
    "    \n",
    "    ancilla_state = reduce(np.kron, [qubit_state[bit]for bit in control_string_binary])\n",
    "    \n",
    "    \n",
    "    if Pstr == 'X':\n",
    "        unitary_matrix = cofactor * np.array([[0, 1], [1, 0]], dtype=complex)\n",
    "    elif Pstr == 'Y':\n",
    "        unitary_matrix = cofactor * np.array([[0, -1j], [1j, 0]], dtype=complex)\n",
    "    elif Pstr == 'Z':\n",
    "        unitary_matrix = cofactor * np.array([[1, 0], [0, -1]], dtype=complex)\n",
    "    else:\n",
    "        raise ValueError('P_str is not a Pauli')\n",
    "\n",
    "    return UnitaryGate(unitary_matrix, label='{}*{}'.format(cofactor, Pstr)).control(1)"
   ]
  },
  {
   "cell_type": "code",
   "execution_count": null,
   "metadata": {},
   "outputs": [],
   "source": [
    "A = np.eye(16)\n",
    "A[:,0].shape"
   ]
  },
  {
   "cell_type": "code",
   "execution_count": null,
   "metadata": {},
   "outputs": [],
   "source": [
    "A = np.eye(16)\n",
    "A[:,0]=ground_state_vector\n",
    "A[0,1]"
   ]
  },
  {
   "cell_type": "code",
   "execution_count": null,
   "metadata": {},
   "outputs": [],
   "source": [
    "def normalize(v):\n",
    "    return v / np.sqrt(v.dot(v))\n",
    "\n",
    "n = len(A)\n",
    "\n",
    "# A[:, 0] = normalize(A[:, 0])\n",
    "\n",
    "for i in range(1, n):\n",
    "    Ai = A[:, i]\n",
    "    for j in range(0, i):\n",
    "        Aj = A[:, j]\n",
    "        t = Ai.dot(Aj)\n",
    "        Ai = Ai - t * Aj\n",
    "#     A[:, i] = normalize(Ai)\n",
    "    A[:, i] = Ai\n"
   ]
  },
  {
   "cell_type": "code",
   "execution_count": null,
   "metadata": {},
   "outputs": [],
   "source": [
    "sum(np.abs(i)**2 for i in ground_state_vector)"
   ]
  },
  {
   "cell_type": "code",
   "execution_count": null,
   "metadata": {},
   "outputs": [],
   "source": [
    "ground_state_vector"
   ]
  },
  {
   "cell_type": "code",
   "execution_count": null,
   "metadata": {},
   "outputs": [],
   "source": [
    "np.trace(np.dot(A, A.conj().T))"
   ]
  },
  {
   "cell_type": "code",
   "execution_count": null,
   "metadata": {},
   "outputs": [],
   "source": []
  },
  {
   "cell_type": "code",
   "execution_count": null,
   "metadata": {},
   "outputs": [],
   "source": []
  },
  {
   "cell_type": "code",
   "execution_count": null,
   "metadata": {},
   "outputs": [],
   "source": [
    "xx = normalize(ground_state_vector)\n",
    "\n",
    "np.allclose(ground_state_vector, xx)"
   ]
  },
  {
   "cell_type": "code",
   "execution_count": null,
   "metadata": {
    "code_folding": []
   },
   "outputs": [],
   "source": [
    "def normalize(v):\n",
    "    mag = sum(np.abs(v**2))\n",
    "    return v / np.sqrt(mag)\n",
    "\n",
    "def Get_Unitary_arb_state(arb_state):\n",
    "    \n",
    "    n_qubits = len(arb_state)\n",
    "    \n",
    "    A = np.eye(n_qubits, dtype=complex)\n",
    "    A[:,0]=arb_state\n",
    "    \n",
    "    n = len(A)\n",
    "    for i in range(1, n):\n",
    "        Ai = A[:, i]\n",
    "        for j in range(0, i):\n",
    "            Aj = A[:, j]\n",
    "            t = Ai.dot(Aj)\n",
    "            Ai = Ai - t * Aj\n",
    "        A[:, i] = normalize(Ai)\n",
    "        \n",
    "    return A\n",
    "    "
   ]
  },
  {
   "cell_type": "code",
   "execution_count": null,
   "metadata": {},
   "outputs": [],
   "source": [
    "AA = Get_Unitary_arb_state(ground_state_vector)\n",
    "\n",
    "\n",
    "np.allclose(ground_state_vector, AA[:,0])"
   ]
  },
  {
   "cell_type": "code",
   "execution_count": null,
   "metadata": {},
   "outputs": [],
   "source": []
  },
  {
   "cell_type": "code",
   "execution_count": null,
   "metadata": {},
   "outputs": [],
   "source": [
    "A = np.eye(16, dtype=complex)\n",
    "A[:,0]=ground_state_vector\n",
    "\n",
    "q, r = np.linalg.qr(A, mode='complete')"
   ]
  },
  {
   "cell_type": "code",
   "execution_count": null,
   "metadata": {},
   "outputs": [],
   "source": [
    "np.allclose(q.dot(q.conj().T), np.eye(16, dtype=complex), atol=1e-1)"
   ]
  },
  {
   "cell_type": "code",
   "execution_count": null,
   "metadata": {},
   "outputs": [],
   "source": [
    "x = np.linalg.inv(r) * (q.T) * A\n",
    "x"
   ]
  },
  {
   "cell_type": "code",
   "execution_count": null,
   "metadata": {},
   "outputs": [],
   "source": [
    "def normalize(v):\n",
    "    return v / np.sqrt(v.dot(v))\n",
    "\n",
    "n = len(A)\n",
    "\n",
    "A[:, 0] = normalize(A[:, 0])\n",
    "\n",
    "for i in range(1, n):\n",
    "    Ai = A[:, i]\n",
    "    for j in range(0, i):\n",
    "        Aj = A[:, j]\n",
    "        t = Ai.dot(Aj)\n",
    "        Ai = Ai - t * Aj\n",
    "    A[:, i] = normalize(Ai)\n"
   ]
  },
  {
   "cell_type": "code",
   "execution_count": null,
   "metadata": {},
   "outputs": [],
   "source": [
    "A[:, 1].dot(A[:, 2])"
   ]
  },
  {
   "cell_type": "code",
   "execution_count": null,
   "metadata": {},
   "outputs": [],
   "source": [
    "np.sum(np.abs(unitary_check[:,4])**2)"
   ]
  },
  {
   "cell_type": "code",
   "execution_count": null,
   "metadata": {},
   "outputs": [],
   "source": [
    "np.allclose(unitary_check, np.eye(16, dtype=complex), atol=1e-1)"
   ]
  },
  {
   "cell_type": "code",
   "execution_count": null,
   "metadata": {},
   "outputs": [],
   "source": [
    "unitary_check[0,12]"
   ]
  },
  {
   "cell_type": "code",
   "execution_count": null,
   "metadata": {},
   "outputs": [],
   "source": [
    "np.where((np.around(unitary_check, 1) == np.eye(16)) == False)"
   ]
  },
  {
   "cell_type": "code",
   "execution_count": null,
   "metadata": {},
   "outputs": [],
   "source": []
  },
  {
   "cell_type": "code",
   "execution_count": null,
   "metadata": {},
   "outputs": [],
   "source": []
  },
  {
   "cell_type": "code",
   "execution_count": null,
   "metadata": {},
   "outputs": [],
   "source": [
    "x = np.array([1,0])\n",
    "np.inner(x,x)"
   ]
  },
  {
   "cell_type": "code",
   "execution_count": null,
   "metadata": {},
   "outputs": [],
   "source": [
    "def normalize(v):\n",
    "    mag = sum(np.abs(v**2))\n",
    "    return v / np.sqrt(mag)\n",
    "\n",
    "def Get_Unitary_arb_state(arb_state):\n",
    "    \n",
    "    n_qubits = len(arb_state)\n",
    "    \n",
    "    A = np.eye(n_qubits, dtype=complex)\n",
    "    \n",
    "    A[:,0]=arb_state\n",
    "    \n",
    "    n = len(A)\n",
    "    for i in range(1,n):\n",
    "        ortho_vec = A[:,i] - reduce(sum, [ np.inner(A[:,j], A[:,i])* A[:,j] for j in range(i)])\n",
    "        ortho_vec=normalize(ortho_vec)\n",
    "        print(np.dot(ortho_vec, A[:,i]))\n",
    "        \n",
    "Get_Unitary_arb_state(ground_state_vector)"
   ]
  },
  {
   "cell_type": "code",
   "execution_count": null,
   "metadata": {},
   "outputs": [],
   "source": []
  },
  {
   "cell_type": "code",
   "execution_count": null,
   "metadata": {},
   "outputs": [],
   "source": [
    "from scipy.stats import unitary_group\n",
    "\n",
    "X = unitary_group.rvs(3)\n",
    "\n",
    "A = np.eye(3, dtype=complex)\n",
    "A[:,0]=normalize(X[:,0])\n",
    "\n",
    "# n = len(A)\n",
    "# for i in range(1,n):\n",
    "    \n",
    "#     ortho_vec = A[:,i] - reduce(sum, [ np.inner(A[:,j], A[:,i])* A[:,j] for j in range(i)])\n",
    "#     ortho_vec=normalize(ortho_vec)\n",
    "#     print(np.dot(ortho_vec, A[:,i]))"
   ]
  },
  {
   "cell_type": "code",
   "execution_count": null,
   "metadata": {},
   "outputs": [],
   "source": [
    "y2"
   ]
  },
  {
   "cell_type": "code",
   "execution_count": null,
   "metadata": {},
   "outputs": [],
   "source": [
    "v1 = X[:,0]\n",
    "v2 = X[:,1]\n",
    "\n",
    "y2 = v2 - np.inner(v2, v1)*v1\n",
    "y2 = normalize(y2)\n",
    "v1.dot(y2)"
   ]
  },
  {
   "cell_type": "code",
   "execution_count": null,
   "metadata": {},
   "outputs": [],
   "source": []
  },
  {
   "cell_type": "code",
   "execution_count": null,
   "metadata": {
    "code_folding": []
   },
   "outputs": [],
   "source": [
    "v1 = (1/np.sqrt(2)) * np.array([-1,1,0])\n",
    "v2 = np.array([-1,0,1])\n",
    "\n",
    "y2 = v2 - np.inner(v2, v1)*v1\n",
    "y2 = normalize(y2)\n",
    "\n",
    "v1.dot(y2)"
   ]
  },
  {
   "cell_type": "code",
   "execution_count": null,
   "metadata": {},
   "outputs": [],
   "source": [
    "v1"
   ]
  },
  {
   "cell_type": "code",
   "execution_count": null,
   "metadata": {},
   "outputs": [],
   "source": [
    "v1*v2_new"
   ]
  },
  {
   "cell_type": "code",
   "execution_count": null,
   "metadata": {},
   "outputs": [],
   "source": [
    "np.dot(A[:,0], B.reshape([3,1]))"
   ]
  },
  {
   "cell_type": "code",
   "execution_count": null,
   "metadata": {},
   "outputs": [],
   "source": []
  },
  {
   "cell_type": "code",
   "execution_count": null,
   "metadata": {},
   "outputs": [],
   "source": [
    "C = np.hstack((np.eye(3), np.array([[4],[6],[5]])))\n",
    "C"
   ]
  },
  {
   "cell_type": "code",
   "execution_count": null,
   "metadata": {},
   "outputs": [],
   "source": [
    "np.ufunc.reduce(C)"
   ]
  },
  {
   "cell_type": "code",
   "execution_count": null,
   "metadata": {},
   "outputs": [],
   "source": [
    "u1 = np.array([[4],[6],[5]])\n",
    "u1"
   ]
  },
  {
   "cell_type": "code",
   "execution_count": null,
   "metadata": {},
   "outputs": [],
   "source": [
    "v = np.array([[1],[0],[0]])\n",
    "\n",
    "u2 = np.matmul(u1,v)\n",
    "u2"
   ]
  },
  {
   "cell_type": "code",
   "execution_count": null,
   "metadata": {},
   "outputs": [],
   "source": [
    "x = np.array([4, 6, 5])\n",
    "y = np.array([1, 0, 0])\n",
    "w=np.cross(x,y)\n",
    "\n",
    "w.dot(x)"
   ]
  },
  {
   "cell_type": "code",
   "execution_count": null,
   "metadata": {},
   "outputs": [],
   "source": [
    "np.outer(x,y)\n",
    "w"
   ]
  },
  {
   "cell_type": "code",
   "execution_count": null,
   "metadata": {},
   "outputs": [],
   "source": [
    "w"
   ]
  },
  {
   "cell_type": "code",
   "execution_count": null,
   "metadata": {},
   "outputs": [],
   "source": [
    "z = np.cross(w,x)\n",
    "z.dot(w)"
   ]
  },
  {
   "cell_type": "code",
   "execution_count": null,
   "metadata": {},
   "outputs": [],
   "source": [
    "AA = np.hstack((x.reshape(3,1),y.reshape(3,1),z.reshape(3,1)))\n",
    "AA"
   ]
  },
  {
   "cell_type": "code",
   "execution_count": null,
   "metadata": {},
   "outputs": [],
   "source": [
    "def normalize(v):\n",
    "    mag = sum(np.abs(v**2))\n",
    "    return v / np.sqrt(mag)\n",
    "\n",
    "def Get_arb_state_matrix(arb_state):\n",
    "    \n",
    "    arb_state=normalize(arb_state)\n",
    "#     if sum(np.abs(arb_state**2))!=1:\n",
    "#         raise ValueError('state not normalised')\n",
    "        \n",
    "    n_qubits=len(arb_state)\n",
    "    \n",
    "\n",
    "    \n",
    "    A= np.zeros((n_qubits,n_qubits), dtype=complex)\n",
    "    A[:,0]=arb_state\n",
    "    \n",
    "    v=np.zeros(n_qubits)\n",
    "    v[0]=1\n",
    "    A[:,1]=np.cross(A[:,0],v)\n",
    "    \n",
    "    for i in range(2, n_qubits):\n",
    "        A[:,i]=np.cross(A[:,i-1], A[:,i-2])\n",
    "    \n",
    "    return A\n"
   ]
  },
  {
   "cell_type": "code",
   "execution_count": null,
   "metadata": {},
   "outputs": [],
   "source": [
    "W = Get_arb_state_matrix(np.array([4, 6, 5, 7]))"
   ]
  },
  {
   "cell_type": "code",
   "execution_count": null,
   "metadata": {},
   "outputs": [],
   "source": [
    "x1 = np.array([[4], [6], [5]])\n",
    "x1=normalize(x1)\n",
    "x1"
   ]
  },
  {
   "cell_type": "code",
   "execution_count": null,
   "metadata": {},
   "outputs": [],
   "source": [
    "x2=np.array([[0], [1], [0]])"
   ]
  },
  {
   "cell_type": "code",
   "execution_count": null,
   "metadata": {},
   "outputs": [],
   "source": [
    "x2_new= x2 - np.dot(x1.T, x2)*x1\n",
    "\n",
    "np.dot(x1.T, x2_new)"
   ]
  },
  {
   "cell_type": "code",
   "execution_count": null,
   "metadata": {},
   "outputs": [],
   "source": [
    "x2_new"
   ]
  },
  {
   "cell_type": "code",
   "execution_count": null,
   "metadata": {},
   "outputs": [],
   "source": [
    "x3=np.array([[0], [0], [1]])"
   ]
  },
  {
   "cell_type": "code",
   "execution_count": null,
   "metadata": {},
   "outputs": [],
   "source": [
    "x3_new= x3 - (np.dot(x1.T, x3)*x1 + np.dot(x2_new.T, x3)*x2_new)\n",
    "\n",
    "np.dot(x1.T, x3_new)"
   ]
  },
  {
   "cell_type": "code",
   "execution_count": null,
   "metadata": {},
   "outputs": [],
   "source": [
    "np.dot(x2_new.T, x3_new)"
   ]
  },
  {
   "cell_type": "code",
   "execution_count": null,
   "metadata": {},
   "outputs": [],
   "source": [
    "x2_new"
   ]
  },
  {
   "cell_type": "code",
   "execution_count": null,
   "metadata": {},
   "outputs": [],
   "source": [
    "def Gran_Shmidt(arb_state):\n",
    "    # https://stackoverflow.com/questions/12327479/how-to-build-a-ortoghonal-basis-from-a-vector\n",
    "    \n",
    "    arb_state=normalize(arb_state)\n",
    "#     if sum(np.abs(arb_state**2))!=1:\n",
    "#         raise ValueError('state not normalised')\n",
    "        \n",
    "    n_qubits=len(arb_state)\n",
    "    A= np.eye(n_qubits, dtype=complex)\n",
    "    A[:,0]=arb_state\n",
    "    \n",
    "    for i in range(1, n_qubits):\n",
    "        project = reduce(sum, [np.inner(A[:,i], A[:,j])*A[:,j] for j in range(i)])\n",
    "        \n",
    "        A[:,i]=normalize(A[:,i]-project)\n",
    "        \n",
    "        print(np.inner(A[:,i], A[:,i-1]))\n",
    "        \n",
    "    return A\n",
    "    "
   ]
  },
  {
   "cell_type": "code",
   "execution_count": null,
   "metadata": {},
   "outputs": [],
   "source": [
    "WW=Gran_Shmidt(np.array([1,1,0,1]))\n",
    "print(WW)\n",
    "\n",
    "np.around(WW.conj().T.dot(WW), 3)"
   ]
  },
  {
   "cell_type": "code",
   "execution_count": null,
   "metadata": {},
   "outputs": [],
   "source": [
    "from scipy.linalg import null_space\n",
    "# https://docs.scipy.org/doc/scipy/reference/generated/scipy.linalg.null_space.html\n",
    "coef\n",
    "Z = null_space(B)"
   ]
  },
  {
   "cell_type": "code",
   "execution_count": null,
   "metadata": {},
   "outputs": [],
   "source": [
    "# from scipy.linalg import svd"
   ]
  },
  {
   "cell_type": "code",
   "execution_count": null,
   "metadata": {},
   "outputs": [],
   "source": []
  },
  {
   "cell_type": "code",
   "execution_count": null,
   "metadata": {},
   "outputs": [],
   "source": [
    "A = np.eye(3)\n",
    "A[:,0]= np.array([np.sqrt(1/2), 0,np.sqrt(1/2)])\n",
    "A"
   ]
  },
  {
   "cell_type": "code",
   "execution_count": null,
   "metadata": {},
   "outputs": [],
   "source": [
    "A = np.random.rand(3, 3)\n",
    "project(A[:,0], A[:,1])"
   ]
  },
  {
   "cell_type": "code",
   "execution_count": null,
   "metadata": {},
   "outputs": [],
   "source": [
    "for i in range(1, 3):\n",
    "    projection = reduce(sum, [project(A[:,j], A[:,i])for j in range(i)])\n",
    "        \n",
    "    A[:,i]=normalize(A[:,i]-projection)\n",
    "\n",
    "    \n",
    "\n",
    "A\n"
   ]
  },
  {
   "cell_type": "code",
   "execution_count": null,
   "metadata": {},
   "outputs": [],
   "source": [
    "def project(u,v):\n",
    "    coef = v.conj().T.dot(u)/ u.conj().T.dot(u)\n",
    "    return coef*u\n",
    "\n",
    "def Gram_Schimdt(arb_state):\n",
    "    # https://stackoverflow.com/questions/12327479/how-to-build-a-ortoghonal-basis-from-a-vector\n",
    "    \n",
    "#     arb_state=normalize(arb_state)\n",
    "#     if sum(np.abs(arb_state**2))!=1:\n",
    "#         raise ValueError('state not normalised')\n",
    "        \n",
    "    n_qubits=len(arb_state)\n",
    "    A= np.eye(n_qubits, dtype=complex)\n",
    "    A[:,0]=arb_state\n",
    "    \n",
    "    for i in range(1, n_qubits):\n",
    "        projection = reduce(sum, [project(A[:,i], A[:,j])for j in range(i)])\n",
    "        A[:,i]=A[:,i]-projection\n",
    "        \n",
    "    return A"
   ]
  },
  {
   "cell_type": "code",
   "execution_count": null,
   "metadata": {},
   "outputs": [],
   "source": [
    "BB = Gram_Schimdt(np.array([np.sqrt(1/2), 0, np.sqrt(1/2)]))\n",
    "\n",
    "np.inner(BB[:,1], BB[:,2])\n",
    "BB"
   ]
  },
  {
   "cell_type": "code",
   "execution_count": null,
   "metadata": {},
   "outputs": [],
   "source": []
  },
  {
   "cell_type": "code",
   "execution_count": null,
   "metadata": {},
   "outputs": [],
   "source": [
    "V = np.eye(4)\n",
    "# V[:,0]= np.array([np.sqrt(1/3), np.sqrt(1/3),np.sqrt(1/3)])\n",
    "V[:,0]= np.array([np.sqrt(1/2), 0,np.sqrt(1/2),-])\n",
    "\n",
    "U=np.zeros(V.shape)\n",
    "U[:,0]=V[:,0]\n",
    "\n",
    "for i in range(1,A.shape[0]):\n",
    "    U[:,i]=V[:,i]\n",
    "    for j in range(i):\n",
    "        U[:,i]=U[:,i]-(U[:,j].T.dot(U[:,i])/(U[:,j].T.dot(U[:,j])))*U[:,j]\n",
    "        \n",
    "U"
   ]
  },
  {
   "cell_type": "code",
   "execution_count": null,
   "metadata": {},
   "outputs": [],
   "source": [
    "import random"
   ]
  },
  {
   "cell_type": "code",
   "execution_count": null,
   "metadata": {},
   "outputs": [],
   "source": [
    "xx=ground_state_vector.real\n",
    "mag = sum(np.abs(xx**2))\n",
    "new=xx / np.sqrt(mag)"
   ]
  },
  {
   "cell_type": "code",
   "execution_count": null,
   "metadata": {
    "code_folding": [
     1
    ]
   },
   "outputs": [],
   "source": [
    "from scipy.linalg import svd\n",
    "def Gram_Schimdt(arb_state):\n",
    "    \n",
    "    # Get an orthonormal basis from a single vector (defines first column of output!)\n",
    "    \n",
    "    #WORKING\n",
    "    # https://stackoverflow.com/questions/12327479/how-to-build-a-ortoghonal-basis-from-a-vector\n",
    "    \n",
    "    arb_state = np.ravel(arb_state)\n",
    "    \n",
    "    if not np.isclose(sum(np.abs(arb_state**2)),1):\n",
    "        raise ValueError('state not normalised')\n",
    "        \n",
    "    n_qubits=len(arb_state)\n",
    "    V= np.eye(n_qubits, dtype=complex)\n",
    "    V[:,0]=arb_state\n",
    "    \n",
    "    U=np.zeros(V.shape, dtype=complex)\n",
    "    U[:,0]=V[:,0]\n",
    "    for i in range(1,V.shape[0]):\n",
    "        U[:,i]=V[:,i]\n",
    "        for j in range(i):\n",
    "            U[:,i]=U[:,i]-(U[:,j].T.dot(U[:,i])/(U[:,j].T.dot(U[:,j])))*U[:,j]\n",
    "        \n",
    "    Unitary_matrx, s, Vh= svd(U)\n",
    "    \n",
    "    # correct the sign\n",
    "    if not np.allclose(Unitary_matrx[:,0], arb_state):\n",
    "        Unitary_matrx[:,0]=Unitary_matrx[:,0]*-1\n",
    "    \n",
    "    if not np.allclose(Unitary_matrx[:,0], arb_state):\n",
    "        raise ValueError('incorrect state generated')\n",
    "    return Unitary_matrx\n",
    "\n",
    "\n",
    "# arb_input_state=np.array([np.sqrt(1/3), np.sqrt(1/3), np.sqrt(1/3)], dtype=complex)\n",
    "N_ancilla_qubits=4\n",
    "arb_input_state=np.array([random.uniform(0, 1) for _ in range(2**N_ancilla_qubits)], dtype=complex)\n",
    "arb_input_state = arb_input_state/np.sqrt(arb_input_state.dot(arb_input_state)) # NORMALIZE!\n",
    "\n",
    "Unitary_to_make_state = Gram_Schimdt(arb_input_state)\n",
    "\n",
    "print('unitary check:', np.allclose(Unitary_to_make_state.dot(Unitary_to_make_state.T), np.eye(len(arb_input_state))))\n",
    "print('correct state check:',np.allclose(Unitary_to_make_state[:,0], arb_input_state))"
   ]
  },
  {
   "cell_type": "code",
   "execution_count": null,
   "metadata": {},
   "outputs": [],
   "source": [
    "def Arb_state_U_gate(theta):\n",
    "    Unitary_Matrix = np.array([\n",
    "                    [np.cos(theta), np.sin(theta)],\n",
    "                    [np.sin(theta), -1* np.cos(theta)]\n",
    "                ])\n",
    "\n",
    "    return UnitaryGate(Unitary_Matrix, label='U_gate({})'.format(np.around(theta, 3)))"
   ]
  },
  {
   "cell_type": "code",
   "execution_count": null,
   "metadata": {},
   "outputs": [],
   "source": [
    "from qiskit.circuit.library.standard_gates import XGate, YGate, ZGate\n",
    "N_QUBITS=3\n",
    "q_reg = QuantumRegister(N_QUBITS)\n",
    "qcirc = QuantumCircuit(q_reg)\n",
    "\n",
    "U_gate = Arb_state_U_gate(np.pi/2).control(1)\n",
    "U_gate.num_ctrl_qubits=2\n",
    "U_gate.num_qubits=3\n",
    "U_gate.ctrl_state=2\n",
    "qcirc.append(U_gate, ([0,1,2]))\n",
    "qcirc.draw()"
   ]
  },
  {
   "cell_type": "code",
   "execution_count": null,
   "metadata": {
    "code_folding": [
     0
    ]
   },
   "outputs": [],
   "source": [
    "def Get_control_parameters_IBM(num_qubits, Coefficient_list):\n",
    "    if len(Coefficient_list) != 2 ** num_qubits:\n",
    "        # fill missing terms with amplitude of zero!\n",
    "        Coefficient_list = Coefficient_list + [0 for _ in range(2 ** num_qubits - len(Coefficient_list))]\n",
    "        #raise ValueError('incorrect number of coefficients')\n",
    "\n",
    "    state_list = [Get_state_as_str(num_qubits, i) for i in range(2 ** num_qubits)]\n",
    "\n",
    "    alpha_j_dict = {}\n",
    "    for target_qubit in range(num_qubits - 1):\n",
    "\n",
    "        number_controls = target_qubit\n",
    "\n",
    "        if number_controls > 0:\n",
    "            CONTROL_state_list = [Get_state_as_str(number_controls, i) for i in range(2 ** number_controls)]\n",
    "        else:\n",
    "            CONTROL_state_list = ['']\n",
    "\n",
    "        term_list = []\n",
    "        for control_state in CONTROL_state_list:\n",
    "            top_term_str = control_state + '1'\n",
    "            bottom_term_str = control_state + '0'\n",
    "\n",
    "            top = 0\n",
    "            bottom = 0\n",
    "            for index, state_str in enumerate(state_list):\n",
    "                if state_str[:target_qubit + 1] == top_term_str:\n",
    "                    top += Coefficient_list[index] ** 2\n",
    "\n",
    "                if state_str[:target_qubit + 1] == bottom_term_str:\n",
    "                    bottom += Coefficient_list[index] ** 2\n",
    "                else:\n",
    "                    continue\n",
    "\n",
    "            if (bottom == 0) and (top == 0):\n",
    "                angle = 0\n",
    "            else:\n",
    "                try:\n",
    "                    angle = np.arctan(np.sqrt(top / bottom))\n",
    "                except:\n",
    "                    raise ValueError('undetermined angle! NEED TO CHECK PROBLEM')\n",
    "\n",
    "            term_list.append({'control_state': control_state, 'angle': angle})\n",
    "        alpha_j_dict[target_qubit] = term_list\n",
    "\n",
    "    ##final rotation ##\n",
    "    if num_qubits!=1:\n",
    "        term_list = []\n",
    "        for index, state_str in enumerate([Get_state_as_str((num_qubits - 1), i) for i in range(2 ** (num_qubits - 1))]):\n",
    "            control_state_str = state_str\n",
    "\n",
    "            top_term_str = control_state_str + '1'\n",
    "            bottom_term_str = control_state_str + '0'\n",
    "\n",
    "            index_top = state_list.index(top_term_str)\n",
    "            index_bottom = state_list.index(bottom_term_str)\n",
    "\n",
    "            top = Coefficient_list[index_top]\n",
    "            bottom = Coefficient_list[index_bottom]\n",
    "\n",
    "            if (bottom == 0) and (top == 0):\n",
    "                angle = 0\n",
    "            else:\n",
    "                try:\n",
    "                    angle = np.arctan(top / bottom)\n",
    "                except:\n",
    "                    raise ValueError('undetermined angle! NEED TO CHECK PROBLEM')\n",
    "\n",
    "            term_list.append({'control_state': control_state_str, 'angle': angle})\n",
    "\n",
    "        alpha_j_dict[num_qubits - 1] = term_list\n",
    "\n",
    "        return alpha_j_dict\n",
    "    else:\n",
    "\n",
    "        # [np.cos(self.theta), np.sin(self.theta)],         [1]  =  [a]\n",
    "        # [np.sin(self.theta), -1 * np.cos(self.theta)]     [0]     [b]\n",
    "        theta = np.arccos(Coefficient_list[0])\n",
    "        alpha_j_dict[0] = [{'control_state': '', 'angle': theta}]\n",
    "\n",
    "        return alpha_j_dict"
   ]
  },
  {
   "cell_type": "code",
   "execution_count": null,
   "metadata": {},
   "outputs": [],
   "source": [
    "test = Get_control_parameters_IBM(2,[np.sqrt(0.6), np.sqrt(0.1), np.sqrt(0.1), np.sqrt(0.2)])\n",
    "test"
   ]
  },
  {
   "cell_type": "code",
   "execution_count": null,
   "metadata": {},
   "outputs": [],
   "source": [
    "relabel_dic = {index: qubitNo for index, qubitNo in enumerate(range(2)[::-1])}\n",
    "type(relabel_dic[0])"
   ]
  },
  {
   "cell_type": "code",
   "execution_count": null,
   "metadata": {
    "code_folding": []
   },
   "outputs": [],
   "source": [
    "def Get_state_prep_circuit_IBM2(circuit_param_dict, N_ancilla_qubits):\n",
    "    \n",
    "    q_reg = QuantumRegister(N_ancilla_qubits)\n",
    "    qcirc = QuantumCircuit(q_reg)\n",
    "    \n",
    "    relabel_dic = {index: qubitNo for index, qubitNo in enumerate(range(N_ancilla_qubits)[::-1])}\n",
    "    \n",
    "    for qubit in circuit_param_dict:\n",
    "\n",
    "        for term in circuit_param_dict[qubit]:\n",
    "#             qubit = relabel_dic[qubit]\n",
    "            if term['control_state']:\n",
    "                control_value = int(term['control_state'],2)\n",
    "\n",
    "                num_controls = len(term['control_state'])\n",
    "                theta = term['angle']\n",
    "\n",
    "                if theta == 0:\n",
    "                    # yield cirq.I.on(cirq.LineQubit(qubit+self.N_system_qubits))\n",
    "                    pass\n",
    "                else:\n",
    "\n",
    "                    U_gate = Arb_state_U_gate(theta).control(1)\n",
    "                    U_gate.num_ctrl_qubits=num_controls\n",
    "                    U_gate.num_qubits=num_controls+1\n",
    "                    U_gate.ctrl_state= control_value\n",
    "                    control_qubits = [relabel_dic[i] for i in range(U_gate.num_ctrl_qubits)]\n",
    "                    active_qubit=relabel_dic[qubit]\n",
    "                    qcirc.append(U_gate, ([*control_qubits, active_qubit]))\n",
    "            else:\n",
    "                theta = term['angle']\n",
    "                if theta == 0:\n",
    "                    continue # Identity \n",
    "                else:\n",
    "                    active_qubit=relabel_dic[qubit]\n",
    "                    U_gate = Arb_state_U_gate(theta)\n",
    "                    qcirc.append(U_gate, ([active_qubit]))\n",
    "                    \n",
    "    return qcirc\n"
   ]
  },
  {
   "cell_type": "code",
   "execution_count": null,
   "metadata": {},
   "outputs": [],
   "source": [
    "arb_state_circuit = Get_state_prep_circuit_IBM2(test, 2)\n",
    "print(arb_state_circuit.draw())"
   ]
  },
  {
   "cell_type": "code",
   "execution_count": null,
   "metadata": {},
   "outputs": [],
   "source": [
    "unitary= Operator(arb_state_circuit)\n",
    "zero_input = reduce(np.kron, [np.array([[1],[0]]) for _ in range(arb_state_circuit.num_qubits)])\n",
    "unitary.data.dot(zero_input)"
   ]
  },
  {
   "cell_type": "code",
   "execution_count": null,
   "metadata": {},
   "outputs": [],
   "source": [
    "import random"
   ]
  },
  {
   "cell_type": "code",
   "execution_count": null,
   "metadata": {},
   "outputs": [],
   "source": [
    "N_ancilla_qubits=3\n",
    "amplitudes=np.array([random.uniform(0, 1) for _ in range(2**N_ancilla_qubits)])\n",
    "amplitudes_normalized= amplitudes/np.sqrt(np.dot(amplitudes,amplitudes))\n",
    "\n",
    "arb_control_dict = Get_control_parameters_IBM(N_ancilla_qubits,amplitudes_normalized)\n",
    "\n",
    "arb_state_circuit = Get_state_prep_circuit_IBM2(arb_control_dict, N_ancilla_qubits)\n",
    "print(arb_state_circuit.draw())\n",
    "\n",
    "unitary= Operator(arb_state_circuit)\n",
    "zero_input = reduce(np.kron, [np.array([[1],[0]]) for _ in range(arb_state_circuit.num_qubits)])\n",
    "unitary.data.dot(zero_input)"
   ]
  },
  {
   "cell_type": "code",
   "execution_count": null,
   "metadata": {},
   "outputs": [],
   "source": [
    "sum(np.abs(amplitudes_normalized)**2)"
   ]
  },
  {
   "cell_type": "code",
   "execution_count": null,
   "metadata": {},
   "outputs": [],
   "source": [
    "amps = [np.sqrt(0.1), \n",
    " np.sqrt(0.2),\n",
    " np.sqrt(0.3),\n",
    " np.sqrt(0.1),\n",
    " np.sqrt(0.05),\n",
    " np.sqrt(0.05),\n",
    " np.sqrt(0.1),\n",
    " np.sqrt(0.1)]\n",
    "\n",
    "print(amps)\n",
    "\n",
    "arb_control_dict = Get_control_parameters_IBM(N_ancilla_qubits,amps)\n",
    "\n",
    "arb_state_circuit = Get_state_prep_circuit_IBM(arb_control_dict, N_ancilla_qubits)\n",
    "print(arb_state_circuit.draw())\n",
    "\n",
    "unitary= Operator(arb_state_circuit)\n",
    "zero_input = reduce(np.kron, [np.array([[1],[0]]) for _ in range(arb_state_circuit.num_qubits)])\n",
    "unitary.dot(zero_input)"
   ]
  },
  {
   "cell_type": "code",
   "execution_count": null,
   "metadata": {},
   "outputs": [],
   "source": [
    "arb_control_dict"
   ]
  },
  {
   "cell_type": "code",
   "execution_count": 385,
   "metadata": {},
   "outputs": [
    {
     "data": {
      "text/html": [
       "<pre style=\"word-wrap: normal;white-space: pre;background: #fff0;line-height: 1.1;font-family: &quot;Courier New&quot;,Courier,monospace\">              \n",
       "q3021_0: ──o──\n",
       "           │  \n",
       "q3021_1: ──o──\n",
       "         ┌─┴─┐\n",
       "q3021_2: ┤ X ├\n",
       "         └───┘</pre>"
      ],
      "text/plain": [
       "              \n",
       "q3021_0: ──o──\n",
       "           │  \n",
       "q3021_1: ──o──\n",
       "         ┌─┴─┐\n",
       "q3021_2: ┤ X ├\n",
       "         └───┘"
      ]
     },
     "execution_count": 385,
     "metadata": {},
     "output_type": "execute_result"
    }
   ],
   "source": [
    "from qiskit.circuit.library.standard_gates import XGate, YGate, ZGate\n",
    "N_QUBITS=2\n",
    "q_reg = QuantumRegister(N_QUBITS+1)\n",
    "qcirc = QuantumCircuit(q_reg)\n",
    "\n",
    "X_gate = XGate().control(2)\n",
    "X_gate.ctrl_state=0\n",
    "qcirc.append(X_gate, [0,1,2])\n",
    "qcirc.draw()"
   ]
  }
 ],
 "metadata": {
  "kernelspec": {
   "display_name": "Python 3",
   "language": "python",
   "name": "python3"
  },
  "language_info": {
   "codemirror_mode": {
    "name": "ipython",
    "version": 3
   },
   "file_extension": ".py",
   "mimetype": "text/x-python",
   "name": "python",
   "nbconvert_exporter": "python",
   "pygments_lexer": "ipython3",
   "version": "3.7.6"
  }
 },
 "nbformat": 4,
 "nbformat_minor": 4
}
