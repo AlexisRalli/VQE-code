{
 "cells": [
  {
   "cell_type": "code",
   "execution_count": 46,
   "metadata": {},
   "outputs": [],
   "source": [
    "from quchem.Hamiltonian_Generator_Functions import *\n",
    "### HAMILTONIAN start\n",
    "Molecule = 'H2'\n",
    "geometry = None # [('H', (0., 0., 0.)), ('H', (0., 0., 0.74))]\n",
    "basis = 'sto-3g'\n",
    "\n",
    "\n",
    "### Get Hamiltonian\n",
    "Hamilt = Hamiltonian(Molecule,\n",
    "                     run_scf=1, run_mp2=1, run_cisd=1, run_ccsd=1, run_fci=1,\n",
    "                     basis=basis,\n",
    "                     multiplicity=1,\n",
    "                     geometry=geometry)  # normally None!\n",
    "QubitHamiltonian = Hamilt.Get_Qubit_Hamiltonian(threshold=None, transformation='JW')\n",
    "### HAMILTONIAN end\n"
   ]
  },
  {
   "cell_type": "markdown",
   "metadata": {},
   "source": [
    "## Circuit Approach"
   ]
  },
  {
   "cell_type": "code",
   "execution_count": 66,
   "metadata": {},
   "outputs": [
    {
     "name": "stdout",
     "output_type": "stream",
     "text": [
      "[1, 1, 0, 0]\n"
     ]
    }
   ],
   "source": [
    "from quchem.Ansatz_Generator_Functions import *\n",
    "\n",
    "ansatz_obj = Ansatz(Hamilt.molecule.n_electrons, Hamilt.molecule.n_qubits)\n",
    "Sec_Quant_CC_ops_ia, Sec_Quant_CC_ops_ijab, theta_parameters_ia, theta_parameters_ijab=ansatz_obj.Get_ia_and_ijab_terms(single_cc_amplitudes=None, \n",
    "                                                                                                             double_cc_amplitudes=None, \n",
    "                                                                                                             singles_hamiltonian=None,\n",
    "                                                                                                             doubles_hamiltonian=None, \n",
    "                                                                                                             tol_filter_small_terms = None)\n",
    "\n",
    "\n",
    "\n",
    "Qubit_Op_list_Second_Quant_CC_Ops_ia, Qubit_Op_list_Second_Quant_CC_Ops_ijab = ansatz_obj.UCCSD_single_trotter_step(Sec_Quant_CC_ops_ia,\n",
    "                                                                                                                Sec_Quant_CC_ops_ijab,\n",
    "                                                                                                                transformation='JW')\n",
    "\n",
    "input_state = ansatz_obj.Get_JW_HF_state_in_OCC_basis()\n",
    "print(input_state)"
   ]
  },
  {
   "cell_type": "code",
   "execution_count": 48,
   "metadata": {},
   "outputs": [
    {
     "data": {
      "text/html": [
       "<pre style=\"overflow: auto; white-space: pre;\">0: ───X───Rx(0.5π)───@───────────────────────@───Rx(-0.5π)───H───@──────────────────────@───────────H──────────H─────────────────────────────────────────────────────────────────────────────────────────────@───────────────────────────────@───────────H──────────Rx(0.5π)───@──────────────────────────────@───────────Rx(-0.5π)───Rx(0.5π)───@──────────────────────────────@───Rx(-0.5π)───H──────────@──────────────────────────────@──────────H───────────Rx(0.5π)───@───────────────────────────────────────@───────────Rx(-0.5π)───H──────────@───────────────────────────────────────@───────────H───────────H───@───────────────────────────────────────@──────────H───Rx(0.5π)───@──────────────────────────────────────@───Rx(-0.5π)───\n",
       "                     │                       │                   │                      │                                                                                                                    │                               │                                 │                              │                                  │                              │                          │                              │                                 │                                       │                                  │                                       │                           │                                       │                         │                                      │\n",
       "1: ───X──────────────X───@───────────────@───X───────────────────X───@──────────────@───X───────────Rx(0.5π)───@───────────────────────@───Rx(-0.5π)───H───@──────────────────────@───────────H──────────H───X───@───────────────────────@───X───────────H──────────Rx(0.5π)───X───@──────────────────────@───X───────────Rx(-0.5π)───H──────────X───@──────────────────────@───X───H───────────Rx(0.5π)───X───@──────────────────────@───X──────────Rx(-0.5π)───H──────────X───@───────────────────────@───────────X───────────H───────────Rx(0.5π)───X───@───────────────────────@───────────X───────────Rx(-0.5π)───H───X───@───────────────────────@───────────X──────────H───Rx(0.5π)───X───@──────────────────────@───────────X───Rx(-0.5π)───\n",
       "                         │               │                           │              │                          │                       │                   │                      │                              │                       │                                         │                      │                                          │                      │                                  │                      │                                         │                       │                                                  │                       │                                           │                       │                                         │                      │\n",
       "2: ───I───H──────────────X───Rz(-0.0π)───X───H───Rx(0.5π)────────────X───Rz(0.0π)───X───Rx(-0.5π)──────────────X───@───────────────@───X───────────────────X───@──────────────@───X───────────Rx(0.5π)───────────X───@───────────────@───X───Rx(-0.5π)───Rx(0.5π)──────────────────X───@──────────────@───X───Rx(-0.5π)───H──────────────────────────X───@──────────────@───X───H───H──────────────────────────X───@──────────────@───X───H──────────Rx(0.5π)───────────────────X───@───────────────@───X───────────Rx(-0.5π)───Rx(0.5π)───────────────────X───@───────────────@───X───────────Rx(-0.5π)───H───────────────────X───@───────────────@───X───────────H──────────H──────────────────X───@──────────────@───X───────────H───────────────\n",
       "                                                                                                                   │               │                           │              │                                      │               │                                                 │              │                                                  │              │                                          │              │                                                 │               │                                                          │               │                                                   │               │                                                 │              │\n",
       "3: ───I───H────────────────────────────────────────────────────────────────────────────────────────────────────────X───Rz(-0.0π)───X───H───Rx(0.5π)────────────X───Rz(0.0π)───X───Rx(-0.5π)───H──────────────────────X───Rz(-0.0π)───X───H───H─────────────────────────────────────────X───Rz(0.0π)───X───H───H──────────────────────────────────────────X───Rz(0.0π)───X───H───H──────────────────────────────────X───Rz(0.0π)───X───H───Rx(0.5π)──────────────────────────────────X───Rz(-0.0π)───X───Rx(-0.5π)───Rx(0.5π)───────────────────────────────────X───Rz(-0.0π)───X───Rx(-0.5π)───Rx(0.5π)────────────────────────────X───Rz(-0.0π)───X───Rx(-0.5π)───Rx(0.5π)──────────────────────────X───Rz(0.0π)───X───Rx(-0.5π)───────────────────</pre>"
      ],
      "text/plain": [
       "0: ───X───Rx(0.5π)───@───────────────────────@───Rx(-0.5π)───H───@──────────────────────@───────────H──────────H─────────────────────────────────────────────────────────────────────────────────────────────@───────────────────────────────@───────────H──────────Rx(0.5π)───@──────────────────────────────@───────────Rx(-0.5π)───Rx(0.5π)───@──────────────────────────────@───Rx(-0.5π)───H──────────@──────────────────────────────@──────────H───────────Rx(0.5π)───@───────────────────────────────────────@───────────Rx(-0.5π)───H──────────@───────────────────────────────────────@───────────H───────────H───@───────────────────────────────────────@──────────H───Rx(0.5π)───@──────────────────────────────────────@───Rx(-0.5π)───\n",
       "                     │                       │                   │                      │                                                                                                                    │                               │                                 │                              │                                  │                              │                          │                              │                                 │                                       │                                  │                                       │                           │                                       │                         │                                      │\n",
       "1: ───X──────────────X───@───────────────@───X───────────────────X───@──────────────@───X───────────Rx(0.5π)───@───────────────────────@───Rx(-0.5π)───H───@──────────────────────@───────────H──────────H───X───@───────────────────────@───X───────────H──────────Rx(0.5π)───X───@──────────────────────@───X───────────Rx(-0.5π)───H──────────X───@──────────────────────@───X───H───────────Rx(0.5π)───X───@──────────────────────@───X──────────Rx(-0.5π)───H──────────X───@───────────────────────@───────────X───────────H───────────Rx(0.5π)───X───@───────────────────────@───────────X───────────Rx(-0.5π)───H───X───@───────────────────────@───────────X──────────H───Rx(0.5π)───X───@──────────────────────@───────────X───Rx(-0.5π)───\n",
       "                         │               │                           │              │                          │                       │                   │                      │                              │                       │                                         │                      │                                          │                      │                                  │                      │                                         │                       │                                                  │                       │                                           │                       │                                         │                      │\n",
       "2: ───I───H──────────────X───Rz(-0.0π)───X───H───Rx(0.5π)────────────X───Rz(0.0π)───X───Rx(-0.5π)──────────────X───@───────────────@───X───────────────────X───@──────────────@───X───────────Rx(0.5π)───────────X───@───────────────@───X───Rx(-0.5π)───Rx(0.5π)──────────────────X───@──────────────@───X───Rx(-0.5π)───H──────────────────────────X───@──────────────@───X───H───H──────────────────────────X───@──────────────@───X───H──────────Rx(0.5π)───────────────────X───@───────────────@───X───────────Rx(-0.5π)───Rx(0.5π)───────────────────X───@───────────────@───X───────────Rx(-0.5π)───H───────────────────X───@───────────────@───X───────────H──────────H──────────────────X───@──────────────@───X───────────H───────────────\n",
       "                                                                                                                   │               │                           │              │                                      │               │                                                 │              │                                                  │              │                                          │              │                                                 │               │                                                          │               │                                                   │               │                                                 │              │\n",
       "3: ───I───H────────────────────────────────────────────────────────────────────────────────────────────────────────X───Rz(-0.0π)───X───H───Rx(0.5π)────────────X───Rz(0.0π)───X───Rx(-0.5π)───H──────────────────────X───Rz(-0.0π)───X───H───H─────────────────────────────────────────X───Rz(0.0π)───X───H───H──────────────────────────────────────────X───Rz(0.0π)───X───H───H──────────────────────────────────X───Rz(0.0π)───X───H───Rx(0.5π)──────────────────────────────────X───Rz(-0.0π)───X───Rx(-0.5π)───Rx(0.5π)───────────────────────────────────X───Rz(-0.0π)───X───Rx(-0.5π)───Rx(0.5π)────────────────────────────X───Rz(-0.0π)───X───Rx(-0.5π)───Rx(0.5π)──────────────────────────X───Rz(0.0π)───X───Rx(-0.5π)───────────────────"
      ]
     },
     "execution_count": 48,
     "metadata": {},
     "output_type": "execute_result"
    }
   ],
   "source": [
    "\n",
    "UCCSD_ansatz_Q_Circ_obj = Ansatz_Circuit(input_state,\n",
    "                                     Qubit_Op_list_Second_Quant_CC_Ops_ia, \n",
    "                                     Qubit_Op_list_Second_Quant_CC_Ops_ijab)\n",
    "\n",
    "UCCSD_ansatz_Q_Circ =UCCSD_ansatz_Q_Circ_obj.Get_Full_HF_UCCSD_QC(Theta_param_list_ia=theta_parameters_ia, \n",
    "                                         Theta_param_list_ijab=theta_parameters_ijab,\n",
    "                                         ia_first=True)\n",
    "UCCSD_ansatz_Q_Circ"
   ]
  },
  {
   "cell_type": "markdown",
   "metadata": {},
   "source": [
    "# Lin alg Approach"
   ]
  },
  {
   "cell_type": "code",
   "execution_count": 49,
   "metadata": {},
   "outputs": [
    {
     "name": "stdout",
     "output_type": "stream",
     "text": [
      "[1, 1, 0, 0]\n",
      "[[0]\n",
      " [0]\n",
      " [0]\n",
      " [1]\n",
      " [0]\n",
      " [0]\n",
      " [0]\n",
      " [0]\n",
      " [0]\n",
      " [0]\n",
      " [0]\n",
      " [0]\n",
      " [0]\n",
      " [0]\n",
      " [0]\n",
      " [0]]\n"
     ]
    }
   ],
   "source": [
    "lin_alg = Ansatz_lin_alg(Hamilt.molecule.n_qubits)\n",
    "\n",
    "print(input_state)\n",
    "HF_ket = lin_alg.Get_reference_ket(input_state)\n",
    "print(HF_ket)"
   ]
  },
  {
   "cell_type": "code",
   "execution_count": 50,
   "metadata": {},
   "outputs": [],
   "source": [
    "# UCC_ia_operator = lin_alg.Get_ijab_UCC_matrix_NO_TROT(theta_parameters_ia, UCCSD_ops_ijab)\n",
    "UCC_ia_operator = lin_alg.Get_ia_UCC_matrix_WITH_trot_SINGLE_STEP(theta_parameters_ia, Qubit_Op_list_Second_Quant_CC_Ops_ia)"
   ]
  },
  {
   "cell_type": "code",
   "execution_count": 51,
   "metadata": {},
   "outputs": [],
   "source": [
    "# UCC_ijab_operator = lin_alg.Get_ia_UCC_matrix_NO_TROT(theta_parameters_ijab, Qubit_Op_list_Second_Quant_CC_Ops_ijab)\n",
    "UCC_ijab_operator = lin_alg.Get_ijab_UCC_matrix_WITH_trot_SINGLE_STEP(theta_parameters_ijab, Qubit_Op_list_Second_Quant_CC_Ops_ijab)"
   ]
  },
  {
   "cell_type": "code",
   "execution_count": 52,
   "metadata": {},
   "outputs": [],
   "source": [
    "Qubit_H_matrix = lin_alg.Get_Qubit_Hamiltonian_matrix(QubitHamiltonian)"
   ]
  },
  {
   "cell_type": "code",
   "execution_count": 53,
   "metadata": {},
   "outputs": [
    {
     "name": "stdout",
     "output_type": "stream",
     "text": [
      "(0.004005949846893148+0j)\n"
     ]
    }
   ],
   "source": [
    "ket_post_single_excitation = UCC_ia_operator.dot(HF_ket)\n",
    "ket_post_double_excitation = UCC_ijab_operator.dot(ket_post_single_excitation)\n",
    "energy = lin_alg.Calc_energy_of_state(ket_post_double_excitation, Qubit_H_matrix)\n",
    "print(energy)"
   ]
  },
  {
   "cell_type": "code",
   "execution_count": 54,
   "metadata": {},
   "outputs": [],
   "source": [
    "pauliDict={'X':np.array([[0,1],[1,0]]),\n",
    "          'Y':np.array([[0,-1j],[1j,0]]),\n",
    "          'Z':np.array([[1,0],[0,-1]]),\n",
    "          'I': np.eye(2)}\n",
    "\n",
    "list_of_ops = [pauliDict[term[0]] for term in 'X0 X1 I2 I3'.split(' ')]\n",
    "HF_maker_matrix = reduce(np.kron, list_of_ops)"
   ]
  },
  {
   "cell_type": "code",
   "execution_count": 55,
   "metadata": {},
   "outputs": [],
   "source": [
    "full_matrix_lin_alg = np.matmul(np.matmul(HF_maker_matrix, UCC_ia_operator), UCC_ijab_operator)"
   ]
  },
  {
   "cell_type": "markdown",
   "metadata": {},
   "source": [
    "# checking equivalence of matrices"
   ]
  },
  {
   "cell_type": "code",
   "execution_count": 56,
   "metadata": {},
   "outputs": [
    {
     "data": {
      "text/plain": [
       "True"
      ]
     },
     "execution_count": 56,
     "metadata": {},
     "output_type": "execute_result"
    }
   ],
   "source": [
    "np.allclose(full_matrix_lin_alg, UCCSD_ansatz_Q_Circ.unitary())"
   ]
  },
  {
   "cell_type": "markdown",
   "metadata": {},
   "source": [
    "# optimization check"
   ]
  },
  {
   "cell_type": "code",
   "execution_count": 63,
   "metadata": {},
   "outputs": [],
   "source": [
    "Qubit_H_matrix = lin_alg.Get_Qubit_Hamiltonian_matrix(QubitHamiltonian)\n",
    "\n",
    "def lin_alg_energy(theta_ia_ijab):\n",
    "    \n",
    "    lin_alg = Ansatz_lin_alg(Hamilt.molecule.n_qubits)\n",
    "\n",
    "    \n",
    "    HF_ket = lin_alg.Get_reference_ket(input_state)\n",
    "    \n",
    "    theta_ia= theta_ia_ijab[:(len(theta_parameters_ia))]\n",
    "    theta_ijab=theta_ia_ijab[(len(theta_parameters_ia)):]\n",
    "    \n",
    "    lin_alg = Ansatz_lin_alg(Hamilt.molecule.n_qubits)\n",
    "    \n",
    "#     UCC_ia_operator = lin_alg.Get_ijab_UCC_matrix_NO_TROT(theta_ia, Qubit_Op_list_Second_Quant_CC_Ops_ia)\n",
    "    UCC_ia_operator = lin_alg.Get_ia_UCC_matrix_WITH_trot_SINGLE_STEP(theta_ia, Qubit_Op_list_Second_Quant_CC_Ops_ia)\n",
    "\n",
    "#     UCC_ijab_operator = lin_alg.Get_ia_UCC_matrix_NO_TROT(theta_ijab, Qubit_Op_list_Second_Quant_CC_Ops_ijab)\n",
    "    UCC_ijab_operator = lin_alg.Get_ijab_UCC_matrix_WITH_trot_SINGLE_STEP(theta_ijab, Qubit_Op_list_Second_Quant_CC_Ops_ijab)\n",
    "\n",
    "    \n",
    "    ket_post_single_excitation = UCC_ia_operator.dot(HF_ket)\n",
    "    ket_post_double_excitation = UCC_ijab_operator.dot(ket_post_single_excitation)\n",
    "    energy = lin_alg.Calc_energy_of_state(ket_post_double_excitation, Qubit_H_matrix)\n",
    "    return energy"
   ]
  },
  {
   "cell_type": "code",
   "execution_count": 64,
   "metadata": {},
   "outputs": [
    {
     "data": {
      "text/plain": [
       "(0.004005949846893056+0j)"
      ]
     },
     "execution_count": 64,
     "metadata": {},
     "output_type": "execute_result"
    }
   ],
   "source": [
    "lin_alg_energy([0,0,np.pi])"
   ]
  },
  {
   "cell_type": "code",
   "execution_count": 59,
   "metadata": {},
   "outputs": [],
   "source": [
    "import random\n",
    "\n",
    "theta_ia_random_input = [random.uniform(0, 2*np.pi) for _ in range(len(theta_parameters_ia))]\n",
    "theta_ijab_random_input = [random.uniform(0, 2*np.pi) for _ in range(len(theta_parameters_ijab))]\n",
    "\n",
    "theta_combined_random_input = [*theta_ia_random_input, *theta_ijab_random_input]"
   ]
  },
  {
   "cell_type": "code",
   "execution_count": 60,
   "metadata": {},
   "outputs": [],
   "source": [
    "### optimizer\n",
    "from quchem.Scipy_Optimizer import _minimize_Adam, Optimizer"
   ]
  },
  {
   "cell_type": "code",
   "execution_count": 61,
   "metadata": {},
   "outputs": [],
   "source": [
    "def calc_gradient_ADAM(theta_ia_theta_jab_list):\n",
    "    \n",
    "    grad_list=[]\n",
    "    \n",
    "    for index, theta in enumerate(theta_ia_theta_jab_list):\n",
    "        \n",
    "        new_theta_list = theta_ia_theta_jab_list.copy()\n",
    "        new_theta_list[index] = theta + np.pi/4\n",
    "        \n",
    "        Obs_PLUS = lin_alg_energy(new_theta_list)\n",
    "               \n",
    "        \n",
    "        new_theta_list[index] = theta - np.pi/4\n",
    "        Obs_MINUS = lin_alg_energy(new_theta_list)\n",
    "        \n",
    "        gradient = Obs_PLUS - Obs_MINUS\n",
    "        \n",
    "        grad_list.append(gradient)\n",
    "        \n",
    "\n",
    "    return np.array(grad_list)"
   ]
  },
  {
   "cell_type": "code",
   "execution_count": 65,
   "metadata": {},
   "outputs": [
    {
     "name": "stdout",
     "output_type": "stream",
     "text": [
      "0: Input_to_Funct: [5.33109471+0.j 4.15265443+0.j 5.9855517 +0.j]: Output: (-0.9462667305556774+0j)\n",
      "1: Input_to_Funct: [5.34159366+0.j 4.24022828+0.j 6.07362578+0.j]: Output: (-0.9501050044328574+0j)\n",
      "2: Input_to_Funct: [5.29762333+0.j 4.30305856+0.j 6.15248545+0.j]: Output: (-0.9642569059647454+0j)\n",
      "3: Input_to_Funct: [5.23202998+0.j 4.35843692+0.j 6.22643911+0.j]: Output: (-0.986080239220648+0j)\n",
      "4: Input_to_Funct: [5.15540758+0.j 4.42269293+0.j 6.29757553+0.j]: Output: (-1.0125422372660766+0j)\n",
      "5: Input_to_Funct: [5.07222952+0.j 4.49707729+0.j 6.36670513+0.j]: Output: (-1.040712809778256+0j)\n",
      "6: Input_to_Funct: [4.98494721+0.j 4.57838984+0.j 6.43141457+0.j]: Output: (-1.0661310497564203+0j)\n",
      "7: Input_to_Funct: [4.8954402 +0.j 4.66195059+0.j 6.48380806+0.j]: Output: (-1.0838422590218812+0j)\n",
      "8: Input_to_Funct: [4.80588631+0.j 4.73392267+0.j 6.51270898+0.j]: Output: (-1.0923304568373904+0j)\n",
      "9: Input_to_Funct: [4.7194122 +0.j 4.77133124+0.j 6.51465343+0.j]: Output: (-1.095632044741729+0j)\n",
      "10: Input_to_Funct: [4.64033131+0.j 4.77616336+0.j 6.49566616+0.j]: Output: (-1.095981131698664+0j)\n",
      "11: Input_to_Funct: [4.57359866+0.j 4.7638608 +0.j 6.46486173+0.j]: Output: (-1.0917708661387913+0j)\n",
      "12: Input_to_Funct: [4.52350376+0.j 4.7511144 +0.j 6.43277497+0.j]: Output: (-1.0833200790192548+0j)\n",
      "13: Input_to_Funct: [4.49208493+0.j 4.75351638+0.j 6.41065329+0.j]: Output: (-1.0756971922464966+0j)\n",
      "14: Input_to_Funct: [4.47852893+0.j 4.77445921+0.j 6.40432167+0.j]: Output: (-1.0733575172633323+0j)\n",
      "15: Input_to_Funct: [4.48019497+0.j 4.80675169+0.j 6.41151438+0.j]: Output: (-1.075105691343349+0j)\n",
      "16: Input_to_Funct: [4.49393448+0.j 4.83813637+0.j 6.42595034+0.j]: Output: (-1.0776825904968028+0j)\n",
      "17: Input_to_Funct: [4.51680975+0.j 4.85381627+0.j 6.44075869+0.j]: Output: (-1.0805324042746052+0j)\n",
      "18: Input_to_Funct: [4.54634208+0.j 4.84682575+0.j 6.45113194+0.j]: Output: (-1.0849884936109875+0j)\n",
      "19: Input_to_Funct: [4.58045064+0.j 4.8205838 +0.j 6.4558294 +0.j]: Output: (-1.090761163836307+0j)\n",
      "20: Input_to_Funct: [4.6173177 +0.j 4.78180495+0.j 6.45646744+0.j]: Output: (-1.0961255689124954+0j)\n",
      "21: Input_to_Funct: [4.65533342+0.j 4.7378157 +0.j 6.45577993+0.j]: Output: (-1.0995647257052055+0j)\n",
      "22: Input_to_Funct: [4.69305026+0.j 4.6965202 +0.j 6.4559158 +0.j]: Output: (-1.1006678384320705+0j)\n",
      "23: Input_to_Funct: [4.72906646+0.j 4.66526774+0.j 6.45739071+0.j]: Output: (-1.1000796345994606+0j)\n",
      "24: Input_to_Funct: [4.7618925 +0.j 4.64824548+0.j 6.45917542+0.j]: Output: (-1.0987757378862864+0j)\n",
      "25: Input_to_Funct: [4.78994522+0.j 4.6452523 +0.j 6.45973033+0.j]: Output: (-1.0973817299772048+0j)\n",
      "26: Input_to_Funct: [4.81171655+0.j 4.65287381+0.j 6.45820786+0.j]: Output: (-1.0960874171071575+0j)\n",
      "27: Input_to_Funct: [4.8260197 +0.j 4.66609514+0.j 6.45507395+0.j]: Output: (-1.0949494285911399+0j)\n",
      "28: Input_to_Funct: [4.83219955+0.j 4.6795303 +0.j 6.45186229+0.j]: Output: (-1.094203774139042+0j)\n",
      "29: Input_to_Funct: [4.83025393+0.j 4.68876845+0.j 6.45028766+0.j]: Output: (-1.0942572588502097+0j)\n",
      "30: Input_to_Funct: [4.82085037+0.j 4.69173051+0.j 6.45126482+0.j]: Output: (-1.0952868904138653+0j)\n",
      "31: Input_to_Funct: [4.80523902+0.j 4.6891409 +0.j 6.45443195+0.j]: Output: (-1.0969468339355604+0j)\n",
      "32: Input_to_Funct: [4.78508847+0.j 4.6838892 +0.j 6.45841843+0.j]: Output: (-1.0986049140108962+0j)\n",
      "33: Input_to_Funct: [4.76228674+0.j 4.67981741+0.j 6.46161492+0.j]: Output: (-1.099815781705889+0j)\n",
      "34: Input_to_Funct: [4.73873892+0.j 4.68033406+0.j 6.46297407+0.j]: Output: (-1.1005106952290666+0j)\n",
      "35: Input_to_Funct: [4.71617859+0.j 4.68723994+0.j 6.46240323+0.j]: Output: (-1.100819899468091+0j)\n",
      "36: Input_to_Funct: [4.6960113 +0.j 4.70023461+0.j 6.46060042+0.j]: Output: (-1.1008412961546377+0j)\n",
      "37: Input_to_Funct: [4.67921763+0.j 4.71715001+0.j 6.45854076+0.j]: Output: (-1.1005921484492127+0j)\n",
      "38: Input_to_Funct: [4.66634164+0.j 4.73459311+0.j 6.456965  +0.j]: Output: (-1.100109021527493+0j)\n",
      "39: Input_to_Funct: [4.65756436+0.j 4.74883183+0.j 6.4561371 +0.j]: Output: (-1.0995464215686612+0j)\n",
      "40: Input_to_Funct: [4.6528242 +0.j 4.75686899+0.j 6.45593097+0.j]: Output: (-1.0991483020124095+0j)\n",
      "41: Input_to_Funct: [4.65192853+0.j 4.75736518+0.j 6.45610081+0.j]: Output: (-1.0990926945729114+0j)\n",
      "42: Input_to_Funct: [4.65461644+0.j 4.750943  +0.j 6.4565107 +0.j]: Output: (-1.0993683643366983+0j)\n",
      "43: Input_to_Funct: [4.66056502+0.j 4.7398183 +0.j 6.45717917+0.j]: Output: (-1.099813388361585+0j)\n",
      "44: Input_to_Funct: [4.6693547 +0.j 4.72705467+0.j 6.45814923+0.j]: Output: (-1.1002578804497745+0j)\n",
      "45: Input_to_Funct: [4.68041878+0.j 4.71568033+0.j 6.45931617+0.j]: Output: (-1.1006216733891994+0j)\n",
      "46: Input_to_Funct: [4.69300716+0.j 4.707846  +0.j 6.46036922+0.j]: Output: (-1.1008960606230693+0j)\n",
      "47: Input_to_Funct: [4.70619345+0.j 4.70428613+0.j 6.46091696+0.j]: Output: (-1.1010707003957168+0j)\n",
      "48: Input_to_Funct: [4.71893971+0.j 4.70428642+0.j 6.46072479+0.j]: Output: (-1.1011091372694186+0j)\n",
      "49: Input_to_Funct: [4.73021134+0.j 4.70612119+0.j 6.45989571+0.j]: Output: (-1.1009968577669775+0j)\n",
      "50: Input_to_Funct: [4.73911684+0.j 4.70776757+0.j 6.45885222+0.j]: Output: (-1.1007926461635926+0j)\n",
      "51: Input_to_Funct: [4.74503843+0.j 4.70766957+0.j 6.45811201+0.j]: Output: (-1.1006088973934276+0j)\n",
      "52: Input_to_Funct: [4.74771755+0.j 4.70529952+0.j 6.45799682+0.j]: Output: (-1.1005308647668197+0j)\n",
      "53: Input_to_Funct: [4.74726943+0.j 4.70130728+0.j 6.45846372+0.j]: Output: (-1.1005629489171496+0j)\n",
      "54: Input_to_Funct: [4.74412424+0.j 4.69721473+0.j 6.45916384+0.j]: Output: (-1.100656970531558+0j)\n",
      "55: Input_to_Funct: [4.73891736+0.j 4.69479062+0.j 6.45967815+0.j]: Output: (-1.1007741772549908+0j)\n",
      "56: Input_to_Funct: [4.7323639 +0.j 4.6953474 +0.j 6.45976893+0.j]: Output: (-1.100903247695126+0j)\n",
      "57: Input_to_Funct: [4.72514966+0.j 4.69923383+0.j 6.45949008+0.j]: Output: (-1.1010309172503363+0j)\n",
      "58: Input_to_Funct: [4.71786061+0.j 4.70571104+0.j 6.45910576+0.j]: Output: (-1.1011234866818187+0j)\n",
      "59: Input_to_Funct: [4.71095922+0.j 4.71322187+0.j 6.45889347+0.j]: Output: (-1.1011489913193269+0j)\n",
      "60: Input_to_Funct: [4.70480156+0.j 4.71992605+0.j 6.45896869+0.j]: Output: (-1.1011095341718509+0j)\n",
      "61: Input_to_Funct: [4.69967429+0.j 4.72431241+0.j 6.45923747+0.j]: Output: (-1.1010422836788283+0j)\n",
      "62: Input_to_Funct: [4.69582456+0.j 4.72567443+0.j 6.45948939+0.j]: Output: (-1.1009879659544206+0j)\n",
      "63: Input_to_Funct: [4.6934629 +0.j 4.72427493+0.j 6.45955352+0.j]: Output: (-1.1009630187073958+0j)\n",
      "64: Input_to_Funct: [4.69273572+0.j 4.72115539+0.j 6.45940852+0.j]: Output: (-1.1009624809270013+0j)\n",
      "65: Input_to_Funct: [4.69367981+0.j 4.71768714+0.j 6.45918037+0.j]: Output: (-1.100980610196081+0j)\n",
      "66: Input_to_Funct: [4.69617966+0.j 4.71504456+0.j 6.45904216+0.j]: Output: (-1.1010182226859058+0j)\n",
      "67: Input_to_Funct: [4.69994896+0.j 4.71380068+0.j 6.459094  +0.j]: Output: (-1.1010706132920915+0j)\n",
      "68: Input_to_Funct: [4.7045505 +0.j 4.71379548+0.j 6.45930478+0.j]: Output: (-1.101119648790864+0j)\n",
      "69: Input_to_Funct: [4.70945562+0.j 4.71430918+0.j 6.45954571+0.j]: Output: (-1.1011457364720432+0j)\n",
      "70: Input_to_Funct: [4.71412895+0.j 4.71444578+0.j 6.45968052+0.j]: Output: (-1.1011448299276736+0j)\n",
      "71: Input_to_Funct: [4.71811461+0.j 4.71355641+0.j 6.45964664+0.j]: Output: (-1.1011287854090568+0j)\n",
      "72: Input_to_Funct: [4.72110005+0.j 4.71152821+0.j 6.45948006+0.j]: Output: (-1.1011109727514188+0j)\n",
      "73: Input_to_Funct: [4.72294151+0.j 4.70882897+0.j 6.45928069+0.j]: Output: (-1.101096637152241+0j)\n",
      "74: Input_to_Funct: [4.72364917+0.j 4.70630397+0.j 6.45915019+0.j]: Output: (-1.1010868244237573+0j)\n",
      "75: Input_to_Funct: [4.72334306+0.j 4.70482007+0.j 6.45914103+0.j]: Output: (-1.101085061166199+0j)\n",
      "76: Input_to_Funct: [4.72219971+0.j 4.7049093 +0.j 6.45923945+0.j]: Output: (-1.101095184592312+0j)\n",
      "77: Input_to_Funct: [4.72040934+0.j 4.7065596 +0.j 6.45938307+0.j]: Output: (-1.1011144602426775+0j)\n",
      "78: Input_to_Funct: [4.71815549+0.j 4.70923365+0.j 6.45949778+0.j]: Output: (-1.1011336233346596+0j)\n",
      "79: Input_to_Funct: [4.71561691+0.j 4.71209589+0.j 6.45953414+0.j]: Output: (-1.1011448832339243+0j)\n",
      "80: Input_to_Funct: [4.71298095+0.j 4.71434406+0.j 6.45948746+0.j]: Output: (-1.1011475632805308+0j)\n",
      "81: Input_to_Funct: [4.71045374+0.j 4.71550371+0.j 6.45939491+0.j]: Output: (-1.1011452790604497+0j)\n"
     ]
    },
    {
     "name": "stdout",
     "output_type": "stream",
     "text": [
      "82: Input_to_Funct: [4.70825489+0.j 4.71556651+0.j 6.45931307+0.j]: Output: (-1.101140484191147+0j)\n",
      "83: Input_to_Funct: [4.70659299+0.j 4.71492554+0.j 6.45928726+0.j]: Output: (-1.1011340069079498+0j)\n",
      "84: Input_to_Funct: [4.70562833+0.j 4.71415168+0.j 6.4593276 +0.j]: Output: (-1.1011280676388848+0j)\n",
      "85: Input_to_Funct: [4.70543627+0.j 4.7137198 +0.j 6.45940468+0.j]: Output: (-1.1011263072635054+0j)\n",
      "86: Input_to_Funct: [4.70598659+0.j 4.71380758+0.j 6.4594683 +0.j]: Output: (-1.1011301583490523+0j)\n",
      "87: Input_to_Funct: [4.70714797+0.j 4.71424918+0.j 6.45947941+0.j]: Output: (-1.101137084530546+0j)\n",
      "88: Input_to_Funct: [4.70871727+0.j 4.71465199+0.j 6.45943519+0.j]: Output: (-1.101143328783817+0j)\n",
      "89: Input_to_Funct: [4.71046389+0.j 4.71461126+0.j 6.45936989+0.j]: Output: (-1.1011472405383342+0j)\n",
      "90: Input_to_Funct: [4.71217459+0.j 4.7139183 +0.j 6.45933015+0.j]: Output: (-1.1011491364282364+0j)\n",
      "91: Input_to_Funct: [4.71368494+0.j 4.71266692+0.j 6.45934206+0.j]: Output: (-1.101149214067463+0j)\n",
      "92: Input_to_Funct: [4.71489048+0.j 4.71121456+0.j 6.45939365+0.j]: Output: (-1.1011472703171732+0j)\n",
      "93: Input_to_Funct: [4.71573912+0.j 4.71002292+0.j 6.45944532+0.j]: Output: (-1.1011441605013+0j)\n",
      "94: Input_to_Funct: [4.71621371+0.j 4.70945659+0.j 6.45945964+0.j]: Output: (-1.1011419162749532+0j)\n",
      "95: Input_to_Funct: [4.71631604+0.j 4.70963352+0.j 6.45942829+0.j]: Output: (-1.1011418822321803+0j)\n",
      "96: Input_to_Funct: [4.71606016+0.j 4.71039242+0.j 6.45937657+0.j]: Output: (-1.1011435733284802+0j)\n",
      "97: Input_to_Funct: [4.71547657+0.j 4.71138448+0.j 6.45934338+0.j]: Output: (-1.1011457269905764+0j)\n",
      "98: Input_to_Funct: [4.71462211+0.j 4.71223904+0.j 6.45935229+0.j]: Output: (-1.1011476933918762+0j)\n",
      "99: Input_to_Funct: [4.71358696+0.j 4.71272217+0.j 6.45939533+0.j]: Output: (-1.1011493193483262+0j)\n",
      "100: Input_to_Funct: [4.7124913 +0.j 4.71281631+0.j 6.45944057+0.j]: Output: (-1.101150204821963+0j)\n",
      "101: Input_to_Funct: [4.71146915+0.j 4.71269118+0.j 6.45945655+0.j]: Output: (-1.1011499188572036+0j)\n",
      "102: Input_to_Funct: [4.71064366+0.j 4.71258964+0.j 6.45943469+0.j]: Output: (-1.1011487629716739+0j)\n",
      "103: Input_to_Funct: [4.71010237+0.j 4.71269081+0.j 6.45939352+0.j]: Output: (-1.1011476648305092+0j)\n",
      "104: Input_to_Funct: [4.70988155+0.j 4.71301866+0.j 6.45936321+0.j]: Output: (-1.1011472599137553+0j)\n",
      "105: Input_to_Funct: [4.70996483+0.j 4.71343751+0.j 6.45936334+0.j]: Output: (-1.1011474776821601+0j)\n",
      "106: Input_to_Funct: [4.7102956 +0.j 4.71373068+0.j 6.45939039+0.j]: Output: (-1.1011480223326287+0j)\n",
      "107: Input_to_Funct: [4.71079696+0.j 4.71371758+0.j 6.4594226 +0.j]: Output: (-1.1011487884002213+0j)\n",
      "108: Input_to_Funct: [4.7113911 +0.j 4.71334832+0.j 6.45943712+0.j]: Output: (-1.1011496477809273+0j)\n",
      "109: Input_to_Funct: [4.71201133+0.j 4.71272952+0.j 6.45942605+0.j]: Output: (-1.1011502374387667+0j)\n",
      "110: Input_to_Funct: [4.71260477+0.j 4.7120723 +0.j 6.45940024+0.j]: Output: (-1.1011502759406855+0j)\n",
      "111: Input_to_Funct: [4.71312827+0.j 4.7115922 +0.j 6.45937968+0.j]: Output: (-1.1011499091053345+0j)\n",
      "112: Input_to_Funct: [4.71354327+0.j 4.71141327+0.j 6.45937838+0.j]: Output: (-1.101149511573382+0j)\n",
      "113: Input_to_Funct: [4.71381461+0.j 4.71152276+0.j 6.45939513+0.j]: Output: (-1.1011492798205331+0j)\n",
      "114: Input_to_Funct: [4.71391542+0.j 4.71179469+0.j 6.45941597+0.j]: Output: (-1.1011492056817809+0j)\n",
      "115: Input_to_Funct: [4.71383563+0.j 4.71206492+0.j 6.45942548+0.j]: Output: (-1.101149300758825+0j)\n",
      "116: Input_to_Funct: [4.71358964+0.j 4.71221586+0.j 6.459418  +0.j]: Output: (-1.1011495993198883+0j)\n",
      "117: Input_to_Funct: [4.71321781+0.j 4.71222754+0.j 6.45940084+0.j]: Output: (-1.101149989146078+0j)\n",
      "118: Input_to_Funct: [4.71278002+0.j 4.71217217+0.j 6.45938769+0.j]: Output: (-1.101150252824888+0j)\n",
      "119: Input_to_Funct: [4.71234273+0.j 4.71216037+0.j 6.45938805+0.j]: Output: (-1.1011502956408228+0j)\n",
      "120: Input_to_Funct: [4.71196441+0.j 4.71227133+0.j 6.45940047+0.j]: Output: (-1.1011502032997897+0j)\n",
      "121: Input_to_Funct: [4.71168473+0.j 4.7125057 +0.j 6.45941452+0.j]: Output: (-1.1011500810333594+0j)\n",
      "122: Input_to_Funct: [4.7115208 +0.j 4.71278478+0.j 6.45941931+0.j]: Output: (-1.1011499625049526+0j)\n",
      "123: Input_to_Funct: [4.71147057+0.j 4.71299362+0.j 6.45941185+0.j]: Output: (-1.1011498811236338+0j)\n",
      "124: Input_to_Funct: [4.71152025+0.j 4.71304239+0.j 6.45939881+0.j]: Output: (-1.1011499011741765+0j)\n",
      "125: Input_to_Funct: [4.71165153+0.j 4.71291217+0.j 6.45939069+0.j]: Output: (-1.10115003043912+0j)\n",
      "126: Input_to_Funct: [4.71184534+0.j 4.71266195+0.j 6.45939343+0.j]: Output: (-1.101150184112622+0j)\n",
      "127: Input_to_Funct: [4.71208164+0.j 4.71239532+0.j 6.45940408+0.j]: Output: (-1.101150278730556+0j)\n",
      "128: Input_to_Funct: [4.71233716+0.j 4.71220736+0.j 6.45941377+0.j]: Output: (-1.1011503066302848+0j)\n",
      "129: Input_to_Funct: [4.71258419+0.j 4.71214065+0.j 6.45941504+0.j]: Output: (-1.1011502939935447+0j)\n",
      "130: Input_to_Funct: [4.71279262+0.j 4.7121729 +0.j 6.45940762+0.j]: Output: (-1.1011502487246667+0j)\n",
      "131: Input_to_Funct: [4.71293548+0.j 4.71223957+0.j 6.45939813+0.j]: Output: (-1.101150185021378+0j)\n",
      "132: Input_to_Funct: [4.71299562+0.j 4.71227612+0.j 6.45939425+0.j]: Output: (-1.1011501467711244+0j)\n",
      "133: Input_to_Funct: [4.71297044+0.j 4.71225498+0.j 6.45939854+0.j]: Output: (-1.1011501642000021+0j)\n",
      "134: Input_to_Funct: [4.71287247+0.j 4.71219733+0.j 6.45940683+0.j]: Output: (-1.1011502172638685+0j)\n",
      "135: Input_to_Funct: [4.7127252 +0.j 4.71215543+0.j 6.45941211+0.j]: Output: (-1.1011502684443597+0j)\n",
      "136: Input_to_Funct: [4.7125562 +0.j 4.71217787+0.j 6.45941044+0.j]: Output: (-1.1011503039392496+0j)\n",
      "137: Input_to_Funct: [4.7123904 +0.j 4.71227878+0.j 6.45940385+0.j]: Output: (-1.1011503234885311+0j)\n",
      "138: Input_to_Funct: [4.71224601+0.j 4.71242856+0.j 6.45939814+0.j]: Output: (-1.1011503201698776+0j)\n",
      "139: Input_to_Funct: [4.71213409+0.j 4.71256999+0.j 6.45939786+0.j]: Output: (-1.1011502942902989+0j)\n",
      "Optimization terminated successfully.\n",
      "         Current function value: (-1.1011503201698776+0j)\n",
      "         Iterations: 140\n",
      "         Function evaluations: 140\n",
      "         Function evaluations:[140]\n",
      "Optimization terminated successfully.\n"
     ]
    },
    {
     "name": "stderr",
     "output_type": "stream",
     "text": [
      "/home/lex/anaconda3/envs/QuantumUpdated/lib/python3.7/site-packages/numpy/core/_asarray.py:85: ComplexWarning: Casting complex values to real discards the imaginary part\n",
      "  return array(a, dtype, copy=False, order=order)\n"
     ]
    },
    {
     "data": {
      "image/png": "[encoded data removed]",
      "text/plain": [
       "<Figure size 432x288 with 1 Axes>"
      ]
     },
     "metadata": {
      "needs_background": "light"
     },
     "output_type": "display_data"
    }
   ],
   "source": [
    "custom_optimizer_DICT = {'learning_rate': 0.1, 'beta_1': 0.9, 'beta_2': 0.999, 'epsilon': 1e-8,\n",
    "                           'delta': 1e-8, 'maxfev': 15000}\n",
    "\n",
    "GG = Optimizer(lin_alg_energy,\n",
    "                   theta_combined_random_input,\n",
    "                   args=(),\n",
    "                   method=_minimize_Adam,\n",
    "                   jac=calc_gradient_ADAM,\n",
    "                   hess=None,\n",
    "                   hessp=None,\n",
    "                      bounds=None,\n",
    "                   constraints=None,\n",
    "                   tol=1e-20, \n",
    "                   display_convergence_message=True,\n",
    "                   display_steps=True, \n",
    "                   custom_optimizer_DICT=custom_optimizer_DICT)\n",
    "GG.get_env(150)\n",
    "GG.plot_convergence()"
   ]
  }
 ],
 "metadata": {
  "kernelspec": {
   "display_name": "Python 3",
   "language": "python",
   "name": "python3"
  },
  "language_info": {
   "codemirror_mode": {
    "name": "ipython",
    "version": 3
   },
   "file_extension": ".py",
   "mimetype": "text/x-python",
   "name": "python",
   "nbconvert_exporter": "python",
   "pygments_lexer": "ipython3",
   "version": "3.7.6"
  }
 },
 "nbformat": 4,
 "nbformat_minor": 2
}
