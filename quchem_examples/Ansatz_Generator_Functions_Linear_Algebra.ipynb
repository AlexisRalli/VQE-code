{
 "cells": [
  {
   "cell_type": "code",
   "execution_count": 1,
   "metadata": {},
   "outputs": [],
   "source": [
    "from quchem.Ansatz_Generator_Functions import *"
   ]
  },
  {
   "cell_type": "code",
   "execution_count": null,
   "metadata": {},
   "outputs": [],
   "source": [
    "from numpy import kron\n",
    "import numpy as np\n",
    "from functools import reduce\n",
    "zero = np.array([[1], [0]])\n",
    "one = np.array([[0], [1]])\n",
    "STATE=[one,one,zero,zero]\n",
    "reduce(kron, STATE)"
   ]
  },
  {
   "cell_type": "code",
   "execution_count": null,
   "metadata": {},
   "outputs": [],
   "source": [
    "HF_reference_ket= ansatz_obj.Get_JW_HF_state().reshape([len(ansatz_obj.Get_JW_HF_state()), 1])"
   ]
  },
  {
   "cell_type": "markdown",
   "metadata": {},
   "source": [
    "https://arxiv.org/pdf/1808.10402.pdf\n",
    "\n",
    "$$U=e^{-i \\theta Y_{0} X_{1} X_{2} X_{3}}$$"
   ]
  },
  {
   "cell_type": "code",
   "execution_count": null,
   "metadata": {},
   "outputs": [],
   "source": [
    "from openfermion.ops import QubitOperator\n",
    "from openfermion.transforms import get_sparse_operator\n",
    "UCCSD_QubitOp = QubitOperator('Y0 X1 X2 X3', -1j)\n",
    "\n",
    "UCCSD_operator = get_sparse_operator(UCCSD_QubitOp)"
   ]
  },
  {
   "cell_type": "code",
   "execution_count": null,
   "metadata": {},
   "outputs": [],
   "source": [
    "pauliDict={'X':np.array([[0,1],[1,0]]),\n",
    "          'Y':np.array([[0,-1j],[1j,0]]),\n",
    "          'Z':np.array([[1,0],[0,-1]]),\n",
    "          'I': np.eye(2)}"
   ]
  },
  {
   "cell_type": "code",
   "execution_count": null,
   "metadata": {},
   "outputs": [],
   "source": [
    "list_of_ops = [pauliDict[term[0]] for term in 'Y0 X1 X2 X3'.split(' ')]\n",
    "matrix = reduce(kron, list_of_ops) *-1j #NOTE NEED TO MULTIPLY BY THIS!\n",
    "\n",
    "np.array_equal(UCCSD_operator.todense(), matrix)"
   ]
  },
  {
   "cell_type": "code",
   "execution_count": null,
   "metadata": {},
   "outputs": [],
   "source": [
    "import scipy\n",
    "\n",
    "theta=np.pi/10\n",
    "ansatz_state_ket = scipy.sparse.linalg.expm_multiply(theta*UCCSD_operator, HF_reference_ket)\n",
    "ansatz_state_ket"
   ]
  },
  {
   "cell_type": "code",
   "execution_count": null,
   "metadata": {},
   "outputs": [],
   "source": [
    "# |Ψ H2〉= 0.9939|0011〉−0.1106|1100〉 === ground state!\n",
    "# |0011〉 = |3〉\n",
    "# |1100〉= |12〉\n",
    "\n",
    "#coef = [0., 0., 0., 0.1106, 0., 0., 0., 0., 0., 0., 0., 0., 0.9939, 0., 0., 0.]"
   ]
  },
  {
   "cell_type": "markdown",
   "metadata": {},
   "source": [
    "$$\\theta = \\frac{\\pi}{2}$$\n",
    "\n",
    "$$U=e^{-i \\frac{\\pi}{2} Y_{0} X_{1} X_{2} X_{3}}$$\n",
    "\n",
    "$$U | \\psi_{HF}\\rangle = | \\psi_{UCCSD}\\rangle$$"
   ]
  },
  {
   "cell_type": "markdown",
   "metadata": {},
   "source": [
    "In order to perfrom the following ciruict:\n",
    "\n",
    "$$U = e^{-i \\theta X_{0} Z_{1} Y_{2} X_{3}}$$\n",
    "\n",
    "overall we get:\n",
    "\n",
    "$\\begin{aligned} U|1100\\rangle &=\\left(\\cos (\\theta) I-i \\sin (\\theta)  Y_{0}X_{1}X_{2} X_{3} \\right)|1100\\rangle \\\\ &=\\cos (\\theta)|1100\\rangle-\\sin (\\theta)|0011\\rangle \\end{aligned}$\n",
    "\n",
    "to do this in Q.C the following circuit is employed:\n"
   ]
  },
  {
   "cell_type": "markdown",
   "metadata": {},
   "source": []
  },
  {
   "cell_type": "code",
   "execution_count": null,
   "metadata": {},
   "outputs": [],
   "source": [
    "import os\n",
    "parent_dir = os.path.abspath('..')\n",
    "# os.listdir(parent_dir) # lists directory\n",
    "picture_folder = os.path.join(parent_dir, 'pictures')\n",
    "# os.listdir(picture_folder) # lists directory\n",
    "pic = os.path.join(picture_folder, 'exponentiated_pauliword.png')\n",
    "\n",
    "\n",
    "from IPython.display import Image\n",
    "Image(pic)"
   ]
  },
  {
   "cell_type": "code",
   "execution_count": null,
   "metadata": {},
   "outputs": [],
   "source": [
    "#checking equivalence!\n",
    "\n",
    "theta= np.pi/10\n",
    "\n",
    "qubitOP = QubitOperator('Y0 X1 X2 X3', -1j)\n",
    "matrix_op = get_sparse_operator(qubitOP)\n",
    "expon_matrix = scipy.sparse.linalg.expm(theta*matrix_op)\n",
    "\n",
    "\n",
    "full_exp_circ_obj = full_exponentiated_PauliWord_circuit(QubitOperator('Y0 X1 X2 X3', -1j), theta)\n",
    "UCCSD_circ = cirq.Circuit(cirq.decompose_once((full_exp_circ_obj(*cirq.LineQubit.range(full_exp_circ_obj.num_qubits())))))\n",
    "\n",
    "\n",
    "np.isclose(np.around(UCCSD_circ.unitary(qubit_order=cirq.LineQubit.range(4)), 3), np.around(expon_matrix.todense(), 3))\n"
   ]
  },
  {
   "cell_type": "markdown",
   "metadata": {},
   "source": [
    "## overall function"
   ]
  },
  {
   "cell_type": "code",
   "execution_count": null,
   "metadata": {},
   "outputs": [],
   "source": [
    "from quchem.Simulating_Quantum_Circuit import *\n",
    "from quchem.Ansatz_Generator_Functions import *\n",
    "\n",
    "def H2_ansatz(theta):\n",
    "    \n",
    "    HF_circ = [cirq.X.on(cirq.LineQubit(0)), cirq.X.on(cirq.LineQubit(1))]\n",
    "    full_exp_circ_obj = full_exponentiated_PauliWord_circuit(QubitOperator('Y0 X1 X2 X3', -1j), theta)\n",
    "    \n",
    "#     HF_circ = [cirq.X.on(cirq.LineQubit(0)), cirq.X.on(cirq.LineQubit(1))]\n",
    "#     full_exp_circ_obj = full_exponentiated_PauliWord_circuit(QubitOperator('X0 X1 X2 Y3', -1j), theta)\n",
    "    \n",
    "    UCCSD_circ = cirq.Circuit(cirq.decompose_once((full_exp_circ_obj(*cirq.LineQubit.range(full_exp_circ_obj.num_qubits())))))\n",
    "    full_circuit = cirq.Circuit([*HF_circ, *UCCSD_circ.all_operations()])\n",
    "    \n",
    "    return full_circuit\n",
    "    \n",
    "circuit_form = H2_ansatz(np.pi/10)    \n",
    "circuit_form"
   ]
  },
  {
   "cell_type": "code",
   "execution_count": null,
   "metadata": {},
   "outputs": [],
   "source": []
  },
  {
   "cell_type": "code",
   "execution_count": null,
   "metadata": {},
   "outputs": [],
   "source": [
    "measure_circ_obj = Measure_PauliWord(QubitOperator('Y0 X1 X2 X3', -1j))\n",
    "measure_circ_cirq = cirq.Circuit(cirq.decompose_once((measure_circ_obj(*cirq.LineQubit.range(measure_circ_obj.num_qubits())))))\n",
    "\n",
    "full_circ = cirq.Circuit([*circuit_form.all_operations(),*measure_circ_cirq.all_operations()])\n",
    "\n",
    "num_shots=1000\n",
    "\n",
    "simulator = cirq.Simulator()\n",
    "raw_result = simulator.run(full_circ, repetitions=num_shots)\n",
    "hist_result = raw_result.histogram(key='0,1,2,3')\n",
    "hist_result"
   ]
  },
  {
   "cell_type": "code",
   "execution_count": null,
   "metadata": {},
   "outputs": [],
   "source": [
    "# simulator = cirq.Simulator()\n",
    "# result = simulator.simulate(circuit_form, qubit_order=circuit_form.all_qubits())\n",
    "# state = np.around(result.final_state, 5)\n",
    "# state.reshape([len(state),1])\n",
    "\n",
    "circuit_form = H2_ansatz(np.pi/10)\n",
    "from quchem.Simulating_Quantum_Circuit import Get_wavefunction\n",
    "print('state')\n",
    "print('')\n",
    "Get_wavefunction(circuit_form)"
   ]
  },
  {
   "cell_type": "code",
   "execution_count": null,
   "metadata": {},
   "outputs": [],
   "source": []
  },
  {
   "cell_type": "code",
   "execution_count": null,
   "metadata": {},
   "outputs": [],
   "source": []
  },
  {
   "cell_type": "code",
   "execution_count": null,
   "metadata": {},
   "outputs": [],
   "source": [
    "from openfermion.ops import QubitOperator\n",
    "from openfermion.transforms import get_sparse_operator\n",
    "UCCSD_QubitOp = QubitOperator('Y0 X1 X2 X3', -1j)\n",
    "\n",
    "UCCSD_operator = get_sparse_operator(UCCSD_QubitOp)"
   ]
  }
 ],
 "metadata": {
  "kernelspec": {
   "display_name": "Python 3",
   "language": "python",
   "name": "python3"
  },
  "language_info": {
   "codemirror_mode": {
    "name": "ipython",
    "version": 3
   },
   "file_extension": ".py",
   "mimetype": "text/x-python",
   "name": "python",
   "nbconvert_exporter": "python",
   "pygments_lexer": "ipython3",
   "version": "3.7.6"
  }
 },
 "nbformat": 4,
 "nbformat_minor": 2
}
