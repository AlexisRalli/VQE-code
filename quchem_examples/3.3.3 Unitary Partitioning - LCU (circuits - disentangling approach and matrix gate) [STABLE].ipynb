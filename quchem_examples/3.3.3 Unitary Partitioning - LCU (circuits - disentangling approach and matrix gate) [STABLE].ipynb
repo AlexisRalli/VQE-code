{
 "cells": [
  {
   "cell_type": "code",
   "execution_count": 1,
   "metadata": {},
   "outputs": [],
   "source": [
    "import os\n",
    "import ast\n",
    "import cirq\n",
    "import numpy as np"
   ]
  },
  {
   "cell_type": "code",
   "execution_count": 2,
   "metadata": {},
   "outputs": [],
   "source": [
    "### open Hamiltonian data ###\n",
    "\n",
    "working_dir = os.getcwd()\n",
    "parent_dir = os.path.dirname(working_dir) # gets directory where running python file is!\n",
    "\n",
    "data_dir = os.path.join(parent_dir, 'Molecular_Hamiltonian_data')\n",
    "hamiltonian_data = os.path.join(data_dir, 'hamiltonians.txt')"
   ]
  },
  {
   "cell_type": "code",
   "execution_count": null,
   "metadata": {},
   "outputs": [],
   "source": []
  },
  {
   "cell_type": "code",
   "execution_count": 3,
   "metadata": {},
   "outputs": [
    {
     "name": "stdout",
     "output_type": "stream",
     "text": [
      "H2-S1_STO-3G_singlet          n_qubits:  18   \n",
      "C1-O1_STO-3G_singlet          n_qubits:  16   \n",
      "H1-Cl1_STO-3G_singlet         n_qubits:  16   \n",
      "H1-Na1_STO-3G_singlet         n_qubits:  16   \n",
      "H2-Mg1_STO-3G_singlet         n_qubits:  17   \n",
      "H1-F1_3-21G_singlet           n_qubits:  18   \n",
      "H1-Li1_3-21G_singlet          n_qubits:  18   \n",
      "Be1_STO-3G_singlet            n_qubits:  5    \n",
      "H1-F1_STO-3G_singlet          n_qubits:  8    \n",
      "H1-Li1_STO-3G_singlet         n_qubits:  8    \n",
      "Ar1_STO-3G_singlet            n_qubits:  13   \n",
      "F2_STO-3G_singlet             n_qubits:  15   \n",
      "H1-O1_STO-3G_singlet          n_qubits:  8    \n",
      "H2-Be1_STO-3G_singlet         n_qubits:  9    \n",
      "H2-O1_STO-3G_singlet          n_qubits:  10   \n",
      "H2_3-21G_singlet              n_qubits:  5    \n",
      "H2_6-31G_singlet              n_qubits:  5    \n",
      "H3-N1_STO-3G_singlet          n_qubits:  13   \n",
      "H4-C1_STO-3G_singlet          n_qubits:  14   \n",
      "Mg1_STO-3G_singlet            n_qubits:  13   \n",
      "N2_STO-3G_singlet             n_qubits:  15   \n",
      "Ne1_STO-3G_singlet            n_qubits:  5    \n",
      "O2_STO-3G_singlet             n_qubits:  15   \n",
      "H1-Li1-O1_STO-3G_singlet      n_qubits:  18   \n",
      "H1-He1_STO-3G_singlet         n_qubits:  2    \n",
      "H3_STO-3G_singlet_1+          n_qubits:  3    \n",
      "H1-He1_3-21G_singlet_1+       n_qubits:  6    \n",
      "H3_3-21G_singlet_1+           n_qubits:  9    \n",
      "H4-N1_STO-3G_singlet_1+       n_qubits:  14   \n"
     ]
    }
   ],
   "source": [
    "with open(hamiltonian_data, 'r') as input_file:\n",
    "    hamiltonians = ast.literal_eval(input_file.read())\n",
    "\n",
    "for key in hamiltonians.keys():\n",
    "    print(f\"{key: <25}     n_qubits:  {hamiltonians[key][1]:<5.0f}\")"
   ]
  },
  {
   "cell_type": "code",
   "execution_count": null,
   "metadata": {},
   "outputs": [],
   "source": []
  },
  {
   "cell_type": "code",
   "execution_count": 4,
   "metadata": {},
   "outputs": [],
   "source": [
    "molecule_key = 'H3_STO-3G_singlet_1+'\n",
    "# molecule_key= 'Be1_STO-3G_singlet'\n",
    "transformation, N_qubits, Hamilt_dictionary, _ ,_, _ = hamiltonians[molecule_key]"
   ]
  },
  {
   "cell_type": "markdown",
   "metadata": {},
   "source": [
    "# 1. Get OpenFermion representation of Hamiltonian"
   ]
  },
  {
   "cell_type": "code",
   "execution_count": 5,
   "metadata": {},
   "outputs": [
    {
     "data": {
      "text/plain": [
       "-1.7512307459285525 [] +\n",
       "0.01872992170537467 [X0] +\n",
       "-0.023568139980123585 [X0 X1] +\n",
       "0.03597868636603963 [X0 X1 X2] +\n",
       "-0.023568139980123585 [X0 X1 Z2] +\n",
       "-0.03597868636603963 [X0 Y1 Y2] +\n",
       "0.01872992170537467 [X0 Z1] +\n",
       "0.023568139980123585 [X0 Z1 X2] +\n",
       "0.01872992170537467 [X0 Z1 Z2] +\n",
       "0.023568139980123585 [X0 X2] +\n",
       "0.01872992170537467 [X0 Z2] +\n",
       "0.03597868636603963 [Y0 X1 Y2] +\n",
       "-0.023568139980123585 [Y0 Y1] +\n",
       "0.03597868636603963 [Y0 Y1 X2] +\n",
       "-0.023568139980123585 [Y0 Y1 Z2] +\n",
       "0.023568139980123585 [Y0 Z1 Y2] +\n",
       "0.023568139980123585 [Y0 Y2] +\n",
       "-0.45436486525596403 [Z0] +\n",
       "0.02356815233618002 [Z0 X1] +\n",
       "0.02356815233617983 [Z0 X1 Z2] +\n",
       "-0.07195737217001562 [Z0 Y1 Y2] +\n",
       "0.37110605476609804 [Z0 Z1] +\n",
       "-0.023568152336179825 [Z0 Z1 X2] +\n",
       "-0.2878474382772282 [Z0 Z1 Z2] +\n",
       "-0.023568152336180023 [Z0 X2] +\n",
       "0.37110605476609787 [Z0 Z2] +\n",
       "0.02356815233618002 [X1] +\n",
       "0.02356815233617983 [X1 Z2] +\n",
       "-0.07195737217001562 [Y1 Y2] +\n",
       "-0.017109477140260287 [Z1] +\n",
       "-0.023568152336179825 [Z1 X2] +\n",
       "0.31270210682950855 [Z1 Z2] +\n",
       "-0.023568152336180023 [X2] +\n",
       "-0.017109477140260287 [Z2]"
      ]
     },
     "execution_count": 5,
     "metadata": {},
     "output_type": "execute_result"
    }
   ],
   "source": [
    "from quchem.Misc_functions.conversion_scripts import Get_Openfermion_Hamiltonian\n",
    "\n",
    "openFermion_H = Get_Openfermion_Hamiltonian(Hamilt_dictionary)\n",
    "openFermion_H"
   ]
  },
  {
   "cell_type": "code",
   "execution_count": null,
   "metadata": {},
   "outputs": [],
   "source": []
  },
  {
   "cell_type": "markdown",
   "metadata": {},
   "source": [
    "# 2. Get cliques defined by commutativity \n"
   ]
  },
  {
   "cell_type": "code",
   "execution_count": 6,
   "metadata": {},
   "outputs": [
    {
     "data": {
      "text/plain": [
       "{0: [-1.7512307459285525 []],\n",
       " 1: [-0.017109477140260287 [Z2],\n",
       "  -0.023568152336179825 [Z1 X2],\n",
       "  0.03597868636603963 [X0 X1 X2],\n",
       "  0.023568139980123585 [Y0 Z1 Y2]],\n",
       " 2: [0.02356815233617983 [X1 Z2],\n",
       "  -0.017109477140260287 [Z1],\n",
       "  0.03597868636603963 [Y0 X1 Y2],\n",
       "  -0.023568139980123585 [Y0 Y1]],\n",
       " 3: [0.37110605476609787 [Z0 Z2],\n",
       "  -0.023568152336179825 [Z0 Z1 X2],\n",
       "  0.01872992170537467 [X0],\n",
       "  -0.023568139980123585 [Y0 Y1 Z2]],\n",
       " 4: [0.02356815233617983 [Z0 X1 Z2],\n",
       "  0.37110605476609804 [Z0 Z1],\n",
       "  0.01872992170537467 [X0 Z2],\n",
       "  0.023568139980123585 [X0 Z1 X2]],\n",
       " 5: [0.023568139980123585 [X0 X2],\n",
       "  -0.023568139980123585 [X0 X1 Z2],\n",
       "  0.01872992170537467 [X0 Z1 Z2],\n",
       "  0.03597868636603963 [Y0 Y1 X2],\n",
       "  -0.45436486525596403 [Z0]],\n",
       " 6: [-0.023568139980123585 [X0 X1],\n",
       "  -0.03597868636603963 [X0 Y1 Y2],\n",
       "  0.01872992170537467 [X0 Z1],\n",
       "  0.023568139980123585 [Y0 Y2]],\n",
       " 7: [-0.023568152336180023 [X2], -0.07195737217001562 [Y1 Y2]],\n",
       " 8: [0.02356815233618002 [X1], 0.31270210682950855 [Z1 Z2]],\n",
       " 9: [-0.023568152336180023 [Z0 X2], -0.07195737217001562 [Z0 Y1 Y2]],\n",
       " 10: [0.02356815233618002 [Z0 X1], -0.2878474382772282 [Z0 Z1 Z2]]}"
      ]
     },
     "execution_count": 6,
     "metadata": {},
     "output_type": "execute_result"
    }
   ],
   "source": [
    "from quchem.Unitary_Partitioning.Graph import Clique_cover_Hamiltonian\n",
    "\n",
    "commutativity_flag = 'AC' ## <- defines relationship between sets!!!\n",
    "Graph_colouring_strategy='largest_first'\n",
    "\n",
    "\n",
    "anti_commuting_sets = Clique_cover_Hamiltonian(openFermion_H, \n",
    "                                                     N_qubits, \n",
    "                                                     commutativity_flag, \n",
    "                                                     Graph_colouring_strategy)\n",
    "anti_commuting_sets"
   ]
  },
  {
   "cell_type": "code",
   "execution_count": null,
   "metadata": {},
   "outputs": [],
   "source": []
  },
  {
   "cell_type": "markdown",
   "metadata": {},
   "source": [
    "# 3. custom cirq functions"
   ]
  },
  {
   "cell_type": "markdown",
   "metadata": {},
   "source": [
    "### 3.1 custom single qubit pauli with phase"
   ]
  },
  {
   "cell_type": "code",
   "execution_count": 7,
   "metadata": {},
   "outputs": [
    {
     "name": "stdout",
     "output_type": "stream",
     "text": [
      "1: ───(-0-1j) X───\n",
      "\n",
      "1: ───Y───Z───\n"
     ]
    }
   ],
   "source": [
    "from quchem.Unitary_Partitioning.LCU_circuit_functions import singeQ_Pauligate_phase\n",
    "\n",
    "gate_obj = singeQ_Pauligate_phase('X', -1j)\n",
    "circuit = cirq.Circuit(gate_obj.on(cirq.LineQubit(1)))\n",
    "print(circuit)\n",
    "\n",
    "print('')\n",
    "print(cirq.Circuit(cirq.decompose(circuit)))"
   ]
  },
  {
   "cell_type": "code",
   "execution_count": 8,
   "metadata": {},
   "outputs": [
    {
     "name": "stdout",
     "output_type": "stream",
     "text": [
      "True\n",
      "True\n",
      "True\n",
      "True\n",
      "True\n",
      "True\n",
      "True\n",
      "True\n",
      "True\n",
      "True\n",
      "True\n",
      "True\n",
      "True\n",
      "True\n",
      "True\n",
      "True\n"
     ]
    }
   ],
   "source": [
    "## CHECKING ALL possibitlies\n",
    "Pauli_dict = { 'X':np.array([[0.+0.j, 1.+0.j],\n",
    "                       [1.+0.j, 0.+0.j]]),\n",
    "                  'Y':np.array([[0.+0.j, 0.-1.j],\n",
    "                       [0.+1.j, 0.+0.j]]), \n",
    "                  'Z':np.array([[ 1.+0.j,  0.+0.j],\n",
    "                   [ 0.+0.j, -1.+0.j]]), \n",
    "                  'I':np.eye(2)}\n",
    "\n",
    "phase_list = [1, -1, 1j, -1j]\n",
    "\n",
    "for pstr in Pauli_dict.keys():\n",
    "    for phase in phase_list:\n",
    "        gate_obj = singeQ_Pauligate_phase(pstr, phase)\n",
    "        circuit = cirq.Circuit(gate_obj.on(cirq.LineQubit(1)))\n",
    "        print(np.allclose(circuit.unitary(), phase*Pauli_dict[pstr]))"
   ]
  },
  {
   "cell_type": "markdown",
   "metadata": {},
   "source": [
    "### 3.2 custom PauliWord with phase"
   ]
  },
  {
   "cell_type": "code",
   "execution_count": 9,
   "metadata": {},
   "outputs": [
    {
     "name": "stdout",
     "output_type": "stream",
     "text": [
      "0: ───Y0───────────\n",
      "      │\n",
      "1: ───X1───────────\n",
      "      │\n",
      "2: ───(-0-1j)*X2───\n",
      "      │\n",
      "3: ───X3───────────\n",
      "\n",
      "\n",
      "\n",
      "0: ───Y───────\n",
      "\n",
      "1: ───X───────\n",
      "\n",
      "2: ───Y───Z───\n",
      "\n",
      "3: ───X───────\n"
     ]
    }
   ],
   "source": [
    "from openfermion.ops import QubitOperator\n",
    "from quchem.Unitary_Partitioning.LCU_circuit_functions import Modified_PauliWord_gate\n",
    "\n",
    "PauliQubitOp = QubitOperator('Y0 X1 X2 X3',1)\n",
    "Pn = QubitOperator('Z2',1)\n",
    "correction_val = -1j\n",
    "circuit_obj = Modified_PauliWord_gate(PauliQubitOp, correction_val, Pn).on(*list(cirq.LineQubit.range(4)))\n",
    "circuit=cirq.Circuit(circuit_obj)\n",
    "print(circuit)\n",
    "\n",
    "print('')\n",
    "print('')\n",
    "print('')\n",
    "print(cirq.Circuit(cirq.decompose(circuit)))"
   ]
  },
  {
   "cell_type": "code",
   "execution_count": 10,
   "metadata": {},
   "outputs": [
    {
     "data": {
      "text/plain": [
       "True"
      ]
     },
     "execution_count": 10,
     "metadata": {},
     "output_type": "execute_result"
    }
   ],
   "source": [
    "from functools import reduce\n",
    "\n",
    "## checking\n",
    "Pword_mat = reduce(np.kron, [Pauli_dict['Y'], Pauli_dict['X'], -1j*Pauli_dict['X'], Pauli_dict['X']])\n",
    "np.array_equal(circuit.unitary(), Pword_mat)"
   ]
  },
  {
   "cell_type": "markdown",
   "metadata": {},
   "source": [
    "### 3.3 custom PauliWord with phase and controls"
   ]
  },
  {
   "cell_type": "code",
   "execution_count": 11,
   "metadata": {},
   "outputs": [
    {
     "name": "stdout",
     "output_type": "stream",
     "text": [
      "0: ───I────────────\n",
      "      │\n",
      "1: ───X1───────────\n",
      "      │\n",
      "2: ───(-0-1j)*Y2───\n",
      "      │\n",
      "3: ───(0)──────────\n",
      "      │\n",
      "4: ───@────────────\n",
      "\n",
      "\n",
      "\n",
      "1: ───X─────────────────\n",
      "      │\n",
      "2: ───┼─────Z─────X─────\n",
      "      │     │     │\n",
      "3: ───(0)───(0)───(0)───\n",
      "      │     │     │\n",
      "4: ───@─────@─────@─────\n"
     ]
    }
   ],
   "source": [
    "OP = QubitOperator('X1 Y2')\n",
    "correction_val=-1j\n",
    "\n",
    "qubit_list = cirq.LineQubit.range(3, 5) + cirq.LineQubit.range(3) \n",
    "mod_p_word_gate = Modified_PauliWord_gate(OP, correction_val, Pn).controlled(num_controls=2, control_values=[0,1]).on(*qubit_list) \n",
    "circuit_with_controls = cirq.Circuit(mod_p_word_gate)\n",
    "print(circuit_with_controls)\n",
    "\n",
    "print('')\n",
    "print('')\n",
    "print('')\n",
    "print(cirq.Circuit(cirq.decompose(circuit_with_controls)))"
   ]
  },
  {
   "cell_type": "code",
   "execution_count": 12,
   "metadata": {},
   "outputs": [
    {
     "data": {
      "text/plain": [
       "True"
      ]
     },
     "execution_count": 12,
     "metadata": {},
     "output_type": "execute_result"
    }
   ],
   "source": [
    "## CHECK ## \n",
    "\n",
    "zero = np.array([[1],[0]])\n",
    "one = np.array([[0],[1]])\n",
    "\n",
    "zero_zero = reduce(np.kron, [zero, zero])\n",
    "zero_one = reduce(np.kron, [zero, one])\n",
    "one_zero = reduce(np.kron, [one, zero])\n",
    "one_one = reduce(np.kron, [one, one])\n",
    "\n",
    "X=cirq.X._unitary_()\n",
    "Y=cirq.Y._unitary_()\n",
    "Z= cirq.Z._unitary_()\n",
    "I = np.eye(2)\n",
    "\n",
    "N_sys=3\n",
    "system_I = np.eye(2**N_sys)\n",
    "\n",
    "# (I x |00> <00|) + (IX -1jY x |01> <01|) + (I x |10> <10|) + (I x |11> <11|)  \n",
    "control_op = (np.kron(system_I, np.outer(zero_zero, zero_zero)) + \n",
    "             np.kron(reduce(np.kron, [I, X, -1j*Y]), np.outer(zero_one, zero_one)) + \n",
    "             np.kron(system_I, np.outer(one_zero, one_zero)) + \n",
    "             np.kron(system_I, np.outer(one_one, one_one)))\n",
    "\n",
    "np.array_equal(control_op, circuit_with_controls.unitary())"
   ]
  },
  {
   "cell_type": "code",
   "execution_count": null,
   "metadata": {},
   "outputs": [],
   "source": []
  },
  {
   "cell_type": "markdown",
   "metadata": {},
   "source": [
    "# 4. Example of R_l operator"
   ]
  },
  {
   "cell_type": "code",
   "execution_count": 13,
   "metadata": {},
   "outputs": [
    {
     "data": {
      "text/plain": [
       "[0.023568139980123585 [X0 X2],\n",
       " -0.023568139980123585 [X0 X1 Z2],\n",
       " 0.01872992170537467 [X0 Z1 Z2],\n",
       " 0.03597868636603963 [Y0 Y1 X2],\n",
       " -0.45436486525596403 [Z0]]"
      ]
     },
     "execution_count": 13,
     "metadata": {},
     "output_type": "execute_result"
    }
   ],
   "source": [
    "key_larg, largest_AC_set = max(anti_commuting_sets.items(), key=lambda x:len(x[1])) # largest nonCon part found by dfs alg\n",
    "largest_AC_set"
   ]
  },
  {
   "cell_type": "code",
   "execution_count": 14,
   "metadata": {},
   "outputs": [
    {
     "data": {
      "text/plain": [
       "[-0.023568139980123585 [X0 X1],\n",
       " -0.03597868636603963 [X0 Y1 Y2],\n",
       " 0.01872992170537467 [X0 Z1],\n",
       " 0.023568139980123585 [Y0 Y2]]"
      ]
     },
     "execution_count": 14,
     "metadata": {},
     "output_type": "execute_result"
    }
   ],
   "source": [
    "## works with:\n",
    "key=6 #7\n",
    "key_larg, largest_AC_set = key, anti_commuting_sets[key]\n",
    "largest_AC_set"
   ]
  },
  {
   "cell_type": "code",
   "execution_count": null,
   "metadata": {},
   "outputs": [],
   "source": []
  },
  {
   "cell_type": "code",
   "execution_count": 15,
   "metadata": {},
   "outputs": [
    {
     "data": {
      "text/plain": [
       "[0.5249181768963586 [],\n",
       " (-0-0.6527833916355477j) [Z1 Y2],\n",
       " (-0-0.33982846654021914j) [Y1],\n",
       " 0.42761123055588435j [Z0 X1 Y2]]"
      ]
     },
     "execution_count": 15,
     "metadata": {},
     "output_type": "execute_result"
    }
   ],
   "source": [
    "from quchem.Unitary_Partitioning.Unitary_partitioning_LCU_method import Get_R_op_list\n",
    "\n",
    "N_index=0\n",
    "check_reduction = True\n",
    "\n",
    "R_linear_comb_list, Pn, gamma_l = Get_R_op_list(largest_AC_set,\n",
    "                                                N_index,\n",
    "                                                N_qubits,\n",
    "                                                check_reduction=check_reduction, \n",
    "                                                atol=1e-8,\n",
    "                                                rtol=1e-05)\n",
    "\n",
    "R_linear_comb_list"
   ]
  },
  {
   "cell_type": "markdown",
   "metadata": {},
   "source": [
    "To perform Unitary Partitioning via a LCU - apply the linear combination of operators in ```R_linear_comb_list```\n",
    "\n",
    "- in Q circuit form these all must have real amplitudes\n",
    "- and be l1 normalized"
   ]
  },
  {
   "cell_type": "code",
   "execution_count": 16,
   "metadata": {},
   "outputs": [
    {
     "name": "stdout",
     "output_type": "stream",
     "text": [
      "0.5249181768963586 [] correction factor: 1\n",
      "0.6527833916355477 [Z1 Y2] correction factor: (-0-1j)\n",
      "0.33982846654021914 [Y1] correction factor: (-0-1j)\n",
      "0.42761123055588435 [Z0 X1 Y2] correction factor: 1j\n"
     ]
    }
   ],
   "source": [
    "from quchem.Unitary_Partitioning.LCU_circuit_functions import absorb_complex_phases\n",
    "R_linear_comb_corrected_phase_OP_list, R_linear_comb_correction_values, ancilla_amplitudes, l1_norm = absorb_complex_phases(R_linear_comb_list)\n",
    "\n",
    "for i, op in enumerate(R_linear_comb_corrected_phase_OP_list):\n",
    "    print(op, f'correction factor: {R_linear_comb_correction_values[i]}')\n"
   ]
  },
  {
   "cell_type": "code",
   "execution_count": null,
   "metadata": {},
   "outputs": [],
   "source": []
  },
  {
   "cell_type": "code",
   "execution_count": 17,
   "metadata": {},
   "outputs": [
    {
     "name": "stdout",
     "output_type": "stream",
     "text": [
      "(0.05249943127273581+0j) [X0 X1]\n",
      "0.052499431272735805 [X0 X1]\n",
      "\n",
      "(0.05249943127273581+0j) [X0 X1]\n",
      "0.052499431272735805 [X0 X1]\n"
     ]
    }
   ],
   "source": [
    "### checking reduction\n",
    "from openfermion.ops import QubitOperator\n",
    "from openfermion.utils import hermitian_conjugated\n",
    "\n",
    "Hsl = QubitOperator()\n",
    "for op in largest_AC_set:\n",
    "    Hsl+=op\n",
    "\n",
    "\n",
    "### R op without phase absorbed!\n",
    "R = QubitOperator()\n",
    "for op in R_linear_comb_list:\n",
    "    R+=op\n",
    "\n",
    "\n",
    "print(R*Hsl*hermitian_conjugated(R))\n",
    "print(Pn * gamma_l)\n",
    "print('')\n",
    "\n",
    "### R op WITH phase absorbed!\n",
    "\n",
    "R_corr = QubitOperator()\n",
    "for ind, op in enumerate(R_linear_comb_corrected_phase_OP_list):\n",
    "    phase = R_linear_comb_correction_values[ind]\n",
    "    R_corr+=op*phase\n",
    "    \n",
    "print(R_corr*Hsl*hermitian_conjugated(R_corr))\n",
    "print(Pn * gamma_l)"
   ]
  },
  {
   "cell_type": "code",
   "execution_count": null,
   "metadata": {},
   "outputs": [],
   "source": []
  },
  {
   "cell_type": "markdown",
   "metadata": {},
   "source": [
    "# 5. Checking custom cirq gate functions"
   ]
  },
  {
   "cell_type": "markdown",
   "metadata": {},
   "source": [
    "### 5.1 Ansatz"
   ]
  },
  {
   "cell_type": "code",
   "execution_count": 18,
   "metadata": {},
   "outputs": [
    {
     "data": {
      "text/html": [
       "<pre style=\"overflow: auto; white-space: pre;\">0: ───X───\n",
       "\n",
       "1: ───X───\n",
       "\n",
       "2: ───X───</pre>"
      ],
      "text/plain": [
       "0: ───X───\n",
       "\n",
       "1: ───X───\n",
       "\n",
       "2: ───X───"
      ]
     },
     "execution_count": 18,
     "metadata": {},
     "output_type": "execute_result"
    }
   ],
   "source": [
    "qubits = list(cirq.LineQubit.range(N_qubits))\n",
    "\n",
    "ansatz = cirq.Circuit([cirq.X.on(q) for q in qubits])\n",
    "ansatz"
   ]
  },
  {
   "cell_type": "markdown",
   "metadata": {},
   "source": [
    "### 5.2 GUG circuit\n",
    "\n",
    "\n",
    "note for the different G_methods:\n",
    "- **only ```'matrix'``` is currently stable**\n",
    "- ```'cirq_disentangle'``` and ```'IBM'``` may work, but **unstable** (can lead to problems)"
   ]
  },
  {
   "cell_type": "code",
   "execution_count": 19,
   "metadata": {},
   "outputs": [
    {
     "data": {
      "text/html": [
       "<pre style=\"overflow: auto; white-space: pre;\">0: ───────────────────────────────────────────────────I────────────I────────────1j*Z0───────────────────────────────────────────────────\n",
       "                                                      │            │            │\n",
       "1: ───────────────────────────────────────────────────(-0-1j)*Z1───(-0-1j)*Y1───X1──────────────────────────────────────────────────────\n",
       "                                                      │            │            │\n",
       "2: ───────────────────────────────────────────────────Y2───────────┼────────────Y2──────────────────────────────────────────────────────\n",
       "                                                      │            │            │\n",
       "      ┌                                           ┐   │            │            │       ┌                                           ┐\n",
       "      │ 0.519+0.j -0.369+0.j -0.381+0.j -0.67 +0.j│   │            │            │       │ 0.519-0.j  0.579+0.j  0.418-0.j  0.469+0.j│\n",
       "3: ───│ 0.579+0.j  0.815+0.j  0.   +0.j  0.   +0.j│───(0)──────────@────────────@───────│-0.369-0.j  0.815-0.j -0.297-0.j -0.333+0.j│───\n",
       "      │ 0.418+0.j -0.297+0.j  0.859+0.j  0.   +0.j│   │            │            │       │-0.381-0.j -0.   -0.j  0.859-0.j -0.344-0.j│\n",
       "      │ 0.469+0.j -0.333+0.j -0.344+0.j  0.742+0.j│   │            │            │       │-0.67 +0.j -0.   -0.j  0.   +0.j  0.742-0.j│\n",
       "      └                                           ┘   │            │            │       └                                           ┘\n",
       "      │                                               │            │            │       │\n",
       "4: ───#2──────────────────────────────────────────────@────────────(0)──────────@───────#2──────────────────────────────────────────────</pre>"
      ],
      "text/plain": [
       "0: ───────────────────────────────────────────────────I────────────I────────────1j*Z0───────────────────────────────────────────────────\n",
       "                                                      │            │            │\n",
       "1: ───────────────────────────────────────────────────(-0-1j)*Z1───(-0-1j)*Y1───X1──────────────────────────────────────────────────────\n",
       "                                                      │            │            │\n",
       "2: ───────────────────────────────────────────────────Y2───────────┼────────────Y2──────────────────────────────────────────────────────\n",
       "                                                      │            │            │\n",
       "      ┌                                           ┐   │            │            │       ┌                                           ┐\n",
       "      │ 0.519+0.j -0.369+0.j -0.381+0.j -0.67 +0.j│   │            │            │       │ 0.519-0.j  0.579+0.j  0.418-0.j  0.469+0.j│\n",
       "3: ───│ 0.579+0.j  0.815+0.j  0.   +0.j  0.   +0.j│───(0)──────────@────────────@───────│-0.369-0.j  0.815-0.j -0.297-0.j -0.333+0.j│───\n",
       "      │ 0.418+0.j -0.297+0.j  0.859+0.j  0.   +0.j│   │            │            │       │-0.381-0.j -0.   -0.j  0.859-0.j -0.344-0.j│\n",
       "      │ 0.469+0.j -0.333+0.j -0.344+0.j  0.742+0.j│   │            │            │       │-0.67 +0.j -0.   -0.j  0.   +0.j  0.742-0.j│\n",
       "      └                                           ┘   │            │            │       └                                           ┘\n",
       "      │                                               │            │            │       │\n",
       "4: ───#2──────────────────────────────────────────────@────────────(0)──────────@───────#2──────────────────────────────────────────────"
      ]
     },
     "execution_count": 19,
     "metadata": {},
     "output_type": "execute_result"
    }
   ],
   "source": [
    "from quchem.Unitary_Partitioning.LCU_circuit_functions import Build_GUG_LCU_circuit\n",
    "\n",
    "N_index=0\n",
    "N_system_qubits = N_qubits\n",
    "G_method = 'matrix' # <-- matrix gate method\n",
    "\n",
    "GUG_circuit, Pn, gamma_l, l1_norm, N_ancilla  = Build_GUG_LCU_circuit(largest_AC_set,\n",
    "                          N_index, \n",
    "                          N_system_qubits,\n",
    "                          G_method,\n",
    "                          check_G_circuit=True,\n",
    "                          allowed_qiskit_gates=['id', 'rz', 'ry', 'rx', 'cx' ,'s', 'h', 'y','z', 'x'], \n",
    "                          qiskit_opt_level=0, \n",
    "                          check_GUG_circuit=True,\n",
    "                          check_Rl_reduction_lin_alg=True)\n",
    "GUG_circuit"
   ]
  },
  {
   "cell_type": "code",
   "execution_count": 20,
   "metadata": {},
   "outputs": [
    {
     "data": {
      "text/plain": [
       "128"
      ]
     },
     "execution_count": 20,
     "metadata": {},
     "output_type": "execute_result"
    }
   ],
   "source": [
    "2**7"
   ]
  },
  {
   "cell_type": "code",
   "execution_count": 21,
   "metadata": {},
   "outputs": [
    {
     "data": {
      "text/html": [
       "<pre style=\"overflow: auto; white-space: pre;\">0: ───Ry(0.5π)───Rz(0.375π)───@────────────────@───────────────@───────────────@───────────────@────────────────@─────────────────@──────────────────────────────────@──────────────────────────────────@───────────────────────────────────@─────────────────────────────────@──────────────────────────────────@──────────────────────────────────@─────────────────────────────────@─────────────────────────────────@──────────────────────────────────@──────────────────────────────────@─────────────────────────────────@───────────────────────────────\n",
       "                              │                │               │               │               │                │                 │                                  │                                  │                                   │                                 │                                  │                                  │                                 │                                 │                                  │                                  │                                 │\n",
       "1: ───────────────────────────X───Ry(-0.25π)───X───Ry(0.25π)───X───Ry(0.25π)───X───Ry(0.25π)───X───Rz(0.125π)───X───Rz(-0.125π)───┼─────────────────@────────────────┼─────────────────@────────────────┼─────────────────@─────────────────┼────────────────@────────────────┼────────────────@─────────────────┼─────────────────@────────────────┼────────────────@────────────────┼────────────────@────────────────┼────────────────@─────────────────┼────────────────@─────────────────┼────────────────@────────────────┼───────────────@───────────────\n",
       "                                                                                                                                  │                 │                │                 │                │                 │                 │                │                │                │                 │                 │                │                │                │                │                │                │                 │                │                 │                │                │               │\n",
       "2: ───────────────────────────────────────────────────────────────────────────────────────────────────────────────────────────────X───Ry(-0.125π)───X───Ry(0.125π)───X───Ry(-0.125π)───X───Ry(0.125π)───X───Ry(-0.125π)───X───Ry(-0.125π)───X───Ry(0.125π)───X───Ry(0.125π)───X───Ry(0.125π)───X───Ry(-0.125π)───X───Ry(-0.125π)───X───Ry(0.125π)───X───Ry(0.125π)───X───Ry(0.125π)───X───Ry(0.125π)───X───Ry(0.125π)───X───Rz(0.125π)───X───Rz(-0.125π)───X───Rz(0.125π)───X───Rz(-0.125π)───X───Rz(-0.25π)───X───Rz(-0.25π)───X───Rz(0.25π)───X───Rz(0.25π)───</pre>"
      ],
      "text/plain": [
       "0: ───Ry(0.5π)───Rz(0.375π)───@────────────────@───────────────@───────────────@───────────────@────────────────@─────────────────@──────────────────────────────────@──────────────────────────────────@───────────────────────────────────@─────────────────────────────────@──────────────────────────────────@──────────────────────────────────@─────────────────────────────────@─────────────────────────────────@──────────────────────────────────@──────────────────────────────────@─────────────────────────────────@───────────────────────────────\n",
       "                              │                │               │               │               │                │                 │                                  │                                  │                                   │                                 │                                  │                                  │                                 │                                 │                                  │                                  │                                 │\n",
       "1: ───────────────────────────X───Ry(-0.25π)───X───Ry(0.25π)───X───Ry(0.25π)───X───Ry(0.25π)───X───Rz(0.125π)───X───Rz(-0.125π)───┼─────────────────@────────────────┼─────────────────@────────────────┼─────────────────@─────────────────┼────────────────@────────────────┼────────────────@─────────────────┼─────────────────@────────────────┼────────────────@────────────────┼────────────────@────────────────┼────────────────@─────────────────┼────────────────@─────────────────┼────────────────@────────────────┼───────────────@───────────────\n",
       "                                                                                                                                  │                 │                │                 │                │                 │                 │                │                │                │                 │                 │                │                │                │                │                │                │                 │                │                 │                │                │               │\n",
       "2: ───────────────────────────────────────────────────────────────────────────────────────────────────────────────────────────────X───Ry(-0.125π)───X───Ry(0.125π)───X───Ry(-0.125π)───X───Ry(0.125π)───X───Ry(-0.125π)───X───Ry(-0.125π)───X───Ry(0.125π)───X───Ry(0.125π)───X───Ry(0.125π)───X───Ry(-0.125π)───X───Ry(-0.125π)───X───Ry(0.125π)───X───Ry(0.125π)───X───Ry(0.125π)───X───Ry(0.125π)───X───Ry(0.125π)───X───Rz(0.125π)───X───Rz(-0.125π)───X───Rz(0.125π)───X───Rz(-0.125π)───X───Rz(-0.25π)───X───Rz(-0.25π)───X───Rz(0.25π)───X───Rz(0.25π)───"
      ]
     },
     "execution_count": 21,
     "metadata": {},
     "output_type": "execute_result"
    }
   ],
   "source": [
    "from quchem.Qcircuit.Circuit_functions_to_create_arb_state import intialization_circuit\n",
    "start_qubit_ind=0\n",
    "state_vector = np.array([\n",
    "    [1/np.sqrt(8)],\n",
    "    [1/np.sqrt(8)],\n",
    "    [1/np.sqrt(8)],\n",
    "    [1/np.sqrt(8)],\n",
    "    [1/np.sqrt(8)],\n",
    "    [-1/np.sqrt(8)],\n",
    "    [1j/np.sqrt(8)],\n",
    "    [1/np.sqrt(8)]\n",
    "])\n",
    "check_circuit=True\n",
    "\n",
    "t, phase = intialization_circuit(state_vector, 0, check_circuit=check_circuit)\n",
    "t"
   ]
  },
  {
   "cell_type": "code",
   "execution_count": 22,
   "metadata": {},
   "outputs": [
    {
     "data": {
      "text/html": [
       "<pre style=\"overflow: auto; white-space: pre;\">0: ─────────────────────────────────────────────────────────────────────────────────────I────────────I────────────1j*Z0────────────────────────────────────────────────────────────────────────────────────────\n",
       "                                                                                        │            │            │\n",
       "1: ─────────────────────────────────────────────────────────────────────────────────────(-0-1j)*Z1───(-0-1j)*Y1───X1───────────────────────────────────────────────────────────────────────────────────────────\n",
       "                                                                                        │            │            │\n",
       "2: ─────────────────────────────────────────────────────────────────────────────────────Y2───────────┼────────────Y2───────────────────────────────────────────────────────────────────────────────────────────\n",
       "                                                                                        │            │            │\n",
       "3: ───Ry(0.432π)───@─────────────────@────────────────@────────────────@────────────────(0)──────────@────────────@─────────────────────@─────────────────@─────────────────@────────────────@───Ry(-0.432π)───\n",
       "                   │                 │                │                │                │            │            │                     │                 │                 │                │\n",
       "4: ────────────────X───Ry(-0.268π)───X───Ry(0.268π)───X───Ry(0.267π)───X───Ry(0.267π)───@────────────(0)──────────@───────Ry(-0.267π)───X───Ry(-0.267π)───X───Ry(-0.268π)───X───Ry(0.268π)───X─────────────────</pre>"
      ],
      "text/plain": [
       "0: ─────────────────────────────────────────────────────────────────────────────────────I────────────I────────────1j*Z0────────────────────────────────────────────────────────────────────────────────────────\n",
       "                                                                                        │            │            │\n",
       "1: ─────────────────────────────────────────────────────────────────────────────────────(-0-1j)*Z1───(-0-1j)*Y1───X1───────────────────────────────────────────────────────────────────────────────────────────\n",
       "                                                                                        │            │            │\n",
       "2: ─────────────────────────────────────────────────────────────────────────────────────Y2───────────┼────────────Y2───────────────────────────────────────────────────────────────────────────────────────────\n",
       "                                                                                        │            │            │\n",
       "3: ───Ry(0.432π)───@─────────────────@────────────────@────────────────@────────────────(0)──────────@────────────@─────────────────────@─────────────────@─────────────────@────────────────@───Ry(-0.432π)───\n",
       "                   │                 │                │                │                │            │            │                     │                 │                 │                │\n",
       "4: ────────────────X───Ry(-0.268π)───X───Ry(0.268π)───X───Ry(0.267π)───X───Ry(0.267π)───@────────────(0)──────────@───────Ry(-0.267π)───X───Ry(-0.267π)───X───Ry(-0.268π)───X───Ry(0.268π)───X─────────────────"
      ]
     },
     "execution_count": 22,
     "metadata": {},
     "output_type": "execute_result"
    }
   ],
   "source": [
    "N_index=0\n",
    "N_system_qubits = N_qubits\n",
    "G_method = 'cirq_disentangle' # <-- cirq_disentangle method\n",
    "\n",
    "\n",
    "GUG_circuit, Pn, gamma_l, l1_norm, N_ancilla  = Build_GUG_LCU_circuit(\n",
    "                                                          largest_AC_set,\n",
    "                                                          N_index, \n",
    "                                                          N_system_qubits,\n",
    "                                                          G_method,\n",
    "                                                          check_G_circuit=True,\n",
    "                                                          allowed_qiskit_gates=['id', 'rz', 'ry', 'rx', 'cx' ,'s', 'h', 'y','z', 'x'], \n",
    "                                                          qiskit_opt_level=0, \n",
    "                                                          check_GUG_circuit=True,\n",
    "                                                          check_Rl_reduction_lin_alg=True)\n",
    "GUG_circuit"
   ]
  },
  {
   "cell_type": "code",
   "execution_count": 23,
   "metadata": {},
   "outputs": [],
   "source": [
    "# N_index=0\n",
    "# N_system_qubits = N_qubits\n",
    "# G_method = 'IBM' # <-- IBM method\n",
    "\n",
    "\n",
    "# GUG_circuit, Pn, gamma_l, l1_norm, N_ancilla  = Build_GUG_LCU_circuit(\n",
    "#                                                           largest_AC_set,\n",
    "#                                                           N_index, \n",
    "#                                                           N_system_qubits,\n",
    "#                                                           G_method,\n",
    "#                                                           check_G_circuit=True,\n",
    "#                                                           allowed_qiskit_gates=['id', 'rz', 'ry', 'rx', 'cx' ,'s', 'h', 'y','z', 'x'], \n",
    "#                                                           qiskit_opt_level=0, \n",
    "#                                                           check_GUG_circuit=True,\n",
    "#                                                           check_Rl_reduction_lin_alg=True)\n",
    "# GUG_circuit"
   ]
  },
  {
   "cell_type": "markdown",
   "metadata": {},
   "source": [
    "### 5.3 full LCU circuit!"
   ]
  },
  {
   "cell_type": "code",
   "execution_count": 24,
   "metadata": {},
   "outputs": [
    {
     "data": {
      "text/plain": [
       "2"
      ]
     },
     "execution_count": 24,
     "metadata": {},
     "output_type": "execute_result"
    }
   ],
   "source": [
    "N_ancilla"
   ]
  },
  {
   "cell_type": "code",
   "execution_count": 25,
   "metadata": {},
   "outputs": [
    {
     "data": {
      "text/html": [
       "<pre style=\"overflow: auto; white-space: pre;\">0: ───X───────────────────────────────────────────────I───────Y0───────────Y0───────────────────────────────────────────────────────────────\n",
       "                                                      │       │            │\n",
       "1: ───X───────────────────────────────────────────────1j*Y1───I────────────(-0-1j)*Z1───Ry(-0.5π)───────────────────────────────────────M───\n",
       "                                                      │       │            │                                                            │\n",
       "2: ───X───────────────────────────────────────────────Z2──────(-0-1j)*X2───Z2───────────────────────────────────────────────────────────M───\n",
       "                                                      │       │            │                                                            │\n",
       "      ┌                                           ┐   │       │            │            ┌                                           ┐   │\n",
       "      │ 0.704+0.j -0.251+0.j -0.451+0.j -0.488+0.j│   │       │            │            │ 0.704+0.j  0.335-0.j  0.486-0.j  0.394-0.j│   │\n",
       "3: ───│ 0.335+0.j  0.942+0.j  0.   +0.j  0.   +0.j│───(0)─────@────────────@────────────│-0.251-0.j  0.942+0.j -0.173-0.j -0.14 +0.j│───M───\n",
       "      │ 0.486+0.j -0.173+0.j  0.857+0.j  0.   +0.j│   │       │            │            │-0.451-0.j  0.   +0.j  0.857+0.j -0.252-0.j│   │\n",
       "      │ 0.394+0.j -0.14 +0.j -0.252+0.j  0.873+0.j│   │       │            │            │-0.488-0.j  0.   +0.j  0.   +0.j  0.873-0.j│   │\n",
       "      └                                           ┘   │       │            │            └                                           ┘   │\n",
       "      │                                               │       │            │            │                                               │\n",
       "4: ───#2──────────────────────────────────────────────@───────(0)──────────@────────────#2──────────────────────────────────────────────M───</pre>"
      ],
      "text/plain": [
       "0: ───X───────────────────────────────────────────────I───────Y0───────────Y0───────────────────────────────────────────────────────────────\n",
       "                                                      │       │            │\n",
       "1: ───X───────────────────────────────────────────────1j*Y1───I────────────(-0-1j)*Z1───Ry(-0.5π)───────────────────────────────────────M───\n",
       "                                                      │       │            │                                                            │\n",
       "2: ───X───────────────────────────────────────────────Z2──────(-0-1j)*X2───Z2───────────────────────────────────────────────────────────M───\n",
       "                                                      │       │            │                                                            │\n",
       "      ┌                                           ┐   │       │            │            ┌                                           ┐   │\n",
       "      │ 0.704+0.j -0.251+0.j -0.451+0.j -0.488+0.j│   │       │            │            │ 0.704+0.j  0.335-0.j  0.486-0.j  0.394-0.j│   │\n",
       "3: ───│ 0.335+0.j  0.942+0.j  0.   +0.j  0.   +0.j│───(0)─────@────────────@────────────│-0.251-0.j  0.942+0.j -0.173-0.j -0.14 +0.j│───M───\n",
       "      │ 0.486+0.j -0.173+0.j  0.857+0.j  0.   +0.j│   │       │            │            │-0.451-0.j  0.   +0.j  0.857+0.j -0.252-0.j│   │\n",
       "      │ 0.394+0.j -0.14 +0.j -0.252+0.j  0.873+0.j│   │       │            │            │-0.488-0.j  0.   +0.j  0.   +0.j  0.873-0.j│   │\n",
       "      └                                           ┘   │       │            │            └                                           ┘   │\n",
       "      │                                               │       │            │            │                                               │\n",
       "4: ───#2──────────────────────────────────────────────@───────(0)──────────@────────────#2──────────────────────────────────────────────M───"
      ]
     },
     "execution_count": 25,
     "metadata": {},
     "output_type": "execute_result"
    }
   ],
   "source": [
    "from quchem.Unitary_Partitioning.LCU_circuit_functions import Full_LCU_Rl_Circuit\n",
    "\n",
    "N_index=0\n",
    "N_system_qubits = N_qubits\n",
    "G_method = 'matrix' #'cirq_disentangle'\n",
    "# anti_commuting_set = anti_commuting_sets[key_larg]\n",
    "anti_commuting_set = anti_commuting_sets[2]\n",
    "\n",
    "\n",
    "full_Q_circ, Pn, gamma_l, l1_norm, N_ancilla = Full_LCU_Rl_Circuit(anti_commuting_set,\n",
    "                                              N_index, \n",
    "                                              N_system_qubits,\n",
    "                                              G_method,\n",
    "                                              ansatz,\n",
    "                                              check_G_circuit=True,\n",
    "                                              allowed_qiskit_gates=['id', 'rz', 'ry', 'rx', 'cx' ,'s', 'h', 'y','z', 'x'], \n",
    "                                              qiskit_opt_level=0, \n",
    "                                              check_GUG_circuit=True,\n",
    "                                              check_Rl_reduction_lin_alg=True)\n",
    "\n",
    "full_Q_circ"
   ]
  },
  {
   "cell_type": "markdown",
   "metadata": {},
   "source": [
    "### 5.4 Checking GUGdag = Rl"
   ]
  },
  {
   "cell_type": "code",
   "execution_count": 26,
   "metadata": {},
   "outputs": [
    {
     "data": {
      "text/html": [
       "<pre style=\"overflow: auto; white-space: pre;\">0: ───────────────────────────────────────────────────I────────────I────────────1j*Z0───────────────────────────────────────────────────\n",
       "                                                      │            │            │\n",
       "1: ───────────────────────────────────────────────────(-0-1j)*Z1───(-0-1j)*Y1───X1──────────────────────────────────────────────────────\n",
       "                                                      │            │            │\n",
       "2: ───────────────────────────────────────────────────Y2───────────┼────────────Y2──────────────────────────────────────────────────────\n",
       "                                                      │            │            │\n",
       "      ┌                                           ┐   │            │            │       ┌                                           ┐\n",
       "      │ 0.519+0.j -0.369+0.j -0.381+0.j -0.67 +0.j│   │            │            │       │ 0.519-0.j  0.579+0.j  0.418-0.j  0.469+0.j│\n",
       "3: ───│ 0.579+0.j  0.815+0.j  0.   +0.j  0.   +0.j│───(0)──────────@────────────@───────│-0.369-0.j  0.815-0.j -0.297-0.j -0.333+0.j│───\n",
       "      │ 0.418+0.j -0.297+0.j  0.859+0.j  0.   +0.j│   │            │            │       │-0.381-0.j -0.   -0.j  0.859-0.j -0.344-0.j│\n",
       "      │ 0.469+0.j -0.333+0.j -0.344+0.j  0.742+0.j│   │            │            │       │-0.67 +0.j -0.   -0.j  0.   +0.j  0.742-0.j│\n",
       "      └                                           ┘   │            │            │       └                                           ┘\n",
       "      │                                               │            │            │       │\n",
       "4: ───#2──────────────────────────────────────────────@────────────(0)──────────@───────#2──────────────────────────────────────────────</pre>"
      ],
      "text/plain": [
       "0: ───────────────────────────────────────────────────I────────────I────────────1j*Z0───────────────────────────────────────────────────\n",
       "                                                      │            │            │\n",
       "1: ───────────────────────────────────────────────────(-0-1j)*Z1───(-0-1j)*Y1───X1──────────────────────────────────────────────────────\n",
       "                                                      │            │            │\n",
       "2: ───────────────────────────────────────────────────Y2───────────┼────────────Y2──────────────────────────────────────────────────────\n",
       "                                                      │            │            │\n",
       "      ┌                                           ┐   │            │            │       ┌                                           ┐\n",
       "      │ 0.519+0.j -0.369+0.j -0.381+0.j -0.67 +0.j│   │            │            │       │ 0.519-0.j  0.579+0.j  0.418-0.j  0.469+0.j│\n",
       "3: ───│ 0.579+0.j  0.815+0.j  0.   +0.j  0.   +0.j│───(0)──────────@────────────@───────│-0.369-0.j  0.815-0.j -0.297-0.j -0.333+0.j│───\n",
       "      │ 0.418+0.j -0.297+0.j  0.859+0.j  0.   +0.j│   │            │            │       │-0.381-0.j -0.   -0.j  0.859-0.j -0.344-0.j│\n",
       "      │ 0.469+0.j -0.333+0.j -0.344+0.j  0.742+0.j│   │            │            │       │-0.67 +0.j -0.   -0.j  0.   +0.j  0.742-0.j│\n",
       "      └                                           ┘   │            │            │       └                                           ┘\n",
       "      │                                               │            │            │       │\n",
       "4: ───#2──────────────────────────────────────────────@────────────(0)──────────@───────#2──────────────────────────────────────────────"
      ]
     },
     "execution_count": 26,
     "metadata": {},
     "output_type": "execute_result"
    }
   ],
   "source": [
    "from quchem.Unitary_Partitioning.LCU_circuit_functions import Build_GUG_LCU_circuit\n",
    "\n",
    "N_index=0\n",
    "N_system_qubits = N_qubits\n",
    "G_method = 'matrix' # <-- matrix gate method\n",
    "\n",
    "\n",
    "GUG_circuit, Pn, gamma_l, l1_norm, N_ancilla  = Build_GUG_LCU_circuit(largest_AC_set,\n",
    "                          N_index, \n",
    "                          N_system_qubits,\n",
    "                          G_method,\n",
    "                          check_G_circuit=True,\n",
    "                          allowed_qiskit_gates=['id', 'rz', 'ry', 'rx', 'cx' ,'s', 'h', 'y','z', 'x'], \n",
    "                          qiskit_opt_level=0, \n",
    "                          check_GUG_circuit=True,\n",
    "                          check_Rl_reduction_lin_alg=True)\n",
    "GUG_circuit"
   ]
  },
  {
   "cell_type": "code",
   "execution_count": 27,
   "metadata": {},
   "outputs": [],
   "source": [
    "G_U_G_dag =  GUG_circuit.unitary()"
   ]
  },
  {
   "cell_type": "code",
   "execution_count": 28,
   "metadata": {},
   "outputs": [],
   "source": [
    "from functools import reduce\n",
    "\n",
    "# Use POVM to force all zero ancilla measurment (Identity on system reg)\n",
    "I_sys = np.eye(2**N_system_qubits)\n",
    "ancilla_0_state = reduce(np.kron, [np.array([[1],[0]]) for _ in range(N_ancilla)])\n",
    "ancilla_0_projector = np.outer(ancilla_0_state, ancilla_0_state)\n",
    "\n",
    "POVM_0_ancilla = np.kron(I_sys, ancilla_0_projector) # forces all zero measurement on ancilla!\n",
    "projected_GUG = POVM_0_ancilla.dot(G_U_G_dag)\n",
    "\n",
    "trace_GUG = projected_GUG.reshape([2 ** N_system_qubits, 2 ** N_ancilla,\n",
    "                                                2 ** N_system_qubits, 2 ** N_ancilla])\n",
    "reduced_MAT = np.einsum('jiki->jk', trace_GUG)"
   ]
  },
  {
   "cell_type": "code",
   "execution_count": 29,
   "metadata": {},
   "outputs": [
    {
     "data": {
      "text/plain": [
       "0.5249181768963586 [] +\n",
       "0.42761123055588435j [Z0 X1 Y2] +\n",
       "-0.33982846654021914j [Y1] +\n",
       "-0.6527833916355477j [Z1 Y2]"
      ]
     },
     "execution_count": 29,
     "metadata": {},
     "output_type": "execute_result"
    }
   ],
   "source": [
    "from openfermion.ops import QubitOperator\n",
    "from functools import reduce\n",
    "# Get Rl operator\n",
    "\n",
    "Rl = reduce(lambda Op1, Op2: Op1+Op2, R_linear_comb_list)\n",
    "Rl"
   ]
  },
  {
   "cell_type": "code",
   "execution_count": 30,
   "metadata": {},
   "outputs": [],
   "source": [
    "from openfermion import qubit_operator_sparse\n",
    "Rl_mat = qubit_operator_sparse(Rl, n_qubits = N_system_qubits)"
   ]
  },
  {
   "cell_type": "code",
   "execution_count": 31,
   "metadata": {},
   "outputs": [
    {
     "name": "stdout",
     "output_type": "stream",
     "text": [
      "True\n"
     ]
    }
   ],
   "source": [
    "# check if POVM of GUG is same as Rl\n",
    "print(np.allclose(Rl_mat.todense(), reduced_MAT*l1_norm))"
   ]
  },
  {
   "cell_type": "code",
   "execution_count": null,
   "metadata": {},
   "outputs": [],
   "source": []
  },
  {
   "cell_type": "markdown",
   "metadata": {},
   "source": [
    "# 6. Linear Algebra circuit experiment"
   ]
  },
  {
   "cell_type": "markdown",
   "metadata": {},
   "source": [
    "### 6.1 define Ansatz"
   ]
  },
  {
   "cell_type": "code",
   "execution_count": 32,
   "metadata": {},
   "outputs": [],
   "source": [
    "from openfermion.linalg import qubit_operator_sparse\n",
    "from scipy.linalg import eigh\n",
    "\n",
    "H_matrix = qubit_operator_sparse(openFermion_H)\n",
    "eig_values, eig_vectors = eigh(H_matrix.todense()) # NOT sparse!\n",
    "\n",
    "idx = eig_values.argsort()  \n",
    "eigenValues = eig_values[idx]\n",
    "eigenVectors = eig_vectors[:,idx]\n",
    "\n",
    "ground_state = np.around(eigenVectors[:,0].real, 10)"
   ]
  },
  {
   "cell_type": "code",
   "execution_count": 33,
   "metadata": {},
   "outputs": [
    {
     "data": {
      "text/plain": [
       "matrix([[-2.91601849+0.j]])"
      ]
     },
     "execution_count": 33,
     "metadata": {},
     "output_type": "execute_result"
    }
   ],
   "source": [
    "ground_state.conj().T @ H_matrix.todense() @ ground_state"
   ]
  },
  {
   "cell_type": "code",
   "execution_count": 34,
   "metadata": {},
   "outputs": [
    {
     "data": {
      "text/html": [
       "<pre style=\"overflow: auto; white-space: pre;\">      ┌                                                                 ┐\n",
       "      │-0.094+0.j -0.   +0.j  0.   +0.j  0.701+0.j -0.707+0.j  0.   +0.j│\n",
       "      │   0.   +0.j  0.   +0.j                                          │\n",
       "      │-0.   +0.j  1.   +0.j -0.   +0.j -0.   +0.j  0.   +0.j  0.   +0.j│\n",
       "      │   0.   +0.j  0.   +0.j                                          │\n",
       "      │ 0.   +0.j  0.   +0.j  1.   +0.j  0.   +0.j -0.   +0.j  0.   +0.j│\n",
       "      │   0.   +0.j  0.   +0.j                                          │\n",
       "      │ 0.991+0.j  0.   +0.j -0.   +0.j  0.133+0.j  0.   +0.j  0.   +0.j│\n",
       "0: ───│   0.   +0.j  0.   +0.j                                          │───\n",
       "      │-0.094+0.j -0.   +0.j  0.   +0.j  0.701+0.j  0.707+0.j  0.   +0.j│\n",
       "      │   0.   +0.j  0.   +0.j                                          │\n",
       "      │ 0.   +0.j  0.   +0.j  0.   +0.j  0.   +0.j  0.   +0.j  1.   +0.j│\n",
       "      │   0.   +0.j  0.   +0.j                                          │\n",
       "      │ 0.   +0.j  0.   +0.j  0.   +0.j  0.   +0.j  0.   +0.j  0.   +0.j│\n",
       "      │   1.   +0.j  0.   +0.j                                          │\n",
       "      │ 0.   +0.j  0.   +0.j  0.   +0.j  0.   +0.j  0.   +0.j  0.   +0.j│\n",
       "      │   0.   +0.j  1.   +0.j                                          │\n",
       "      └                                                                 ┘\n",
       "      │\n",
       "1: ───#2────────────────────────────────────────────────────────────────────\n",
       "      │\n",
       "2: ───#3────────────────────────────────────────────────────────────────────</pre>"
      ],
      "text/plain": [
       "      ┌                                                                 ┐\n",
       "      │-0.094+0.j -0.   +0.j  0.   +0.j  0.701+0.j -0.707+0.j  0.   +0.j│\n",
       "      │   0.   +0.j  0.   +0.j                                          │\n",
       "      │-0.   +0.j  1.   +0.j -0.   +0.j -0.   +0.j  0.   +0.j  0.   +0.j│\n",
       "      │   0.   +0.j  0.   +0.j                                          │\n",
       "      │ 0.   +0.j  0.   +0.j  1.   +0.j  0.   +0.j -0.   +0.j  0.   +0.j│\n",
       "      │   0.   +0.j  0.   +0.j                                          │\n",
       "      │ 0.991+0.j  0.   +0.j -0.   +0.j  0.133+0.j  0.   +0.j  0.   +0.j│\n",
       "0: ───│   0.   +0.j  0.   +0.j                                          │───\n",
       "      │-0.094+0.j -0.   +0.j  0.   +0.j  0.701+0.j  0.707+0.j  0.   +0.j│\n",
       "      │   0.   +0.j  0.   +0.j                                          │\n",
       "      │ 0.   +0.j  0.   +0.j  0.   +0.j  0.   +0.j  0.   +0.j  1.   +0.j│\n",
       "      │   0.   +0.j  0.   +0.j                                          │\n",
       "      │ 0.   +0.j  0.   +0.j  0.   +0.j  0.   +0.j  0.   +0.j  0.   +0.j│\n",
       "      │   1.   +0.j  0.   +0.j                                          │\n",
       "      │ 0.   +0.j  0.   +0.j  0.   +0.j  0.   +0.j  0.   +0.j  0.   +0.j│\n",
       "      │   0.   +0.j  1.   +0.j                                          │\n",
       "      └                                                                 ┘\n",
       "      │\n",
       "1: ───#2────────────────────────────────────────────────────────────────────\n",
       "      │\n",
       "2: ───#3────────────────────────────────────────────────────────────────────"
      ]
     },
     "execution_count": 34,
     "metadata": {},
     "output_type": "execute_result"
    }
   ],
   "source": [
    "from quchem.Qcircuit.Circuit_functions_to_create_arb_state import prepare_arb_state_cirq_matrix_gate\n",
    "ansatz_circuit = prepare_arb_state_cirq_matrix_gate(ground_state,\n",
    "                             start_qubit_ind=0)\n",
    "ansatz_circuit"
   ]
  },
  {
   "cell_type": "markdown",
   "metadata": {},
   "source": [
    "# 6.2 Run Unitary Partitioning LCU experiment\n",
    "\n",
    "(gets all matrices from quantum circuits)"
   ]
  },
  {
   "cell_type": "code",
   "execution_count": 35,
   "metadata": {},
   "outputs": [
    {
     "data": {
      "text/plain": [
       "-2.9160184902684527"
      ]
     },
     "execution_count": 35,
     "metadata": {},
     "output_type": "execute_result"
    }
   ],
   "source": [
    "from quchem.Unitary_Partitioning.LCU_circuit_functions import LCU_VQE_Experiment_UP_circuit_lin_alg\n",
    "\n",
    "G_method = 'matrix'\n",
    "exp = LCU_VQE_Experiment_UP_circuit_lin_alg(anti_commuting_sets, \n",
    "                                            ansatz_circuit, \n",
    "                                            N_system_qubits,\n",
    "                                            G_method,\n",
    "                                            N_indices_dict=None,\n",
    "                                            check_G_circuit=True,\n",
    "                                              allowed_qiskit_gates=['id', 'rz', 'ry', 'rx', 'cx' ,'s', 'h', 'y','z', 'x'], \n",
    "                                              qiskit_opt_level=0, \n",
    "                                              check_GUG_circuit=True,\n",
    "                                              check_Rl_reduction_lin_alg=True)\n",
    "\n",
    "exp.Calc_Energy()"
   ]
  },
  {
   "cell_type": "code",
   "execution_count": 36,
   "metadata": {},
   "outputs": [
    {
     "data": {
      "text/plain": [
       "-2.916018490268453"
      ]
     },
     "execution_count": 36,
     "metadata": {},
     "output_type": "execute_result"
    }
   ],
   "source": [
    "G_method='cirq_disentangle'\n",
    "\n",
    "exp = LCU_VQE_Experiment_UP_circuit_lin_alg(anti_commuting_sets, \n",
    "                                            ansatz_circuit, \n",
    "                                            N_system_qubits,\n",
    "                                            G_method,\n",
    "                                            N_indices_dict=None,\n",
    "                                            check_G_circuit=True,\n",
    "                                              allowed_qiskit_gates=['id', 'rz', 'ry', 'rx', 'cx' ,'s', 'h', 'y','z', 'x'], \n",
    "                                              qiskit_opt_level=0, \n",
    "                                              check_GUG_circuit=True,\n",
    "                                              check_Rl_reduction_lin_alg=True)\n",
    "\n",
    "exp.Calc_Energy()"
   ]
  }
 ],
 "metadata": {
  "kernelspec": {
   "display_name": "Python 3",
   "language": "python",
   "name": "python3"
  },
  "language_info": {
   "codemirror_mode": {
    "name": "ipython",
    "version": 3
   },
   "file_extension": ".py",
   "mimetype": "text/x-python",
   "name": "python",
   "nbconvert_exporter": "python",
   "pygments_lexer": "ipython3",
   "version": "3.8.5"
  }
 },
 "nbformat": 4,
 "nbformat_minor": 4
}
