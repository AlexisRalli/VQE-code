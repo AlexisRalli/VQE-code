{
 "cells": [
  {
   "cell_type": "code",
   "execution_count": 1,
   "metadata": {},
   "outputs": [],
   "source": [
    "# https://arxiv.org/pdf/quant-ph/0104030.pdf\n",
    "# ^^^ Need to be able to prepare arbitrary state!\n",
    "import numpy as np\n",
    "import cirq\n",
    "from functools import reduce\n",
    "from sympy import *"
   ]
  },
  {
   "cell_type": "code",
   "execution_count": null,
   "metadata": {},
   "outputs": [],
   "source": [
    "# https://arxiv.org/pdf/quant-ph/9503016.pdf"
   ]
  },
  {
   "cell_type": "markdown",
   "metadata": {},
   "source": [
    "bottom of pg 663[https://rdo.psu.ac.th/sjstweb/journal/27-3/18mathices.pdf]\n",
    "\n",
    "## Roots of diagonalizable matrices\n",
    "\n",
    "In this section, we consider an nth root of a diagonalizable matrix.\n",
    "\n",
    "- Theorem 2.1: Let A be an $m\\times m$ complex matrix. If A is diagonalizable, then A has an nth root, for anypositive integer n.\n",
    "\n",
    "Proof:\n",
    "\n",
    "Let $A$ be a diagonalizable matrix, i.e., there exists a non-singular matrix S such that $A = SDS^{-1}$where $D=[d_{ij}]_{m\\times m}$ is a diagonal matrix.\n",
    "\n",
    "Let $D^{\\frac{1}{n}}=[d_{ij}^{\\frac{1}{n}}]_{m \\times m}$, where $d_{ij}^{\\frac{1}{n}}$ is an n-th root of $d_{ij}$.\n",
    "\n",
    "So $A = S (D^{\\frac{1}{n}})^{n} S^{-1} = (SD^{\\frac{1}{n}}S)^{n}$ Therefore an n-th root of A exists.\n",
    "\n",
    "https://math.stackexchange.com/questions/1168438/the-nth-root-of-the-2x2-square-matrix"
   ]
  },
  {
   "cell_type": "code",
   "execution_count": null,
   "metadata": {},
   "outputs": [],
   "source": [
    "X=Matrix(cirq.X._unitary_())\n",
    "X"
   ]
  },
  {
   "cell_type": "code",
   "execution_count": null,
   "metadata": {},
   "outputs": [],
   "source": [
    "\n",
    "X = Matrix([[0,1],[1j,0]])\n",
    "\n",
    "from sympy.physics.quantum import Dagger\n",
    "Dagger(X)"
   ]
  },
  {
   "cell_type": "code",
   "execution_count": null,
   "metadata": {},
   "outputs": [],
   "source": [
    "np.array(X)"
   ]
  },
  {
   "cell_type": "code",
   "execution_count": null,
   "metadata": {},
   "outputs": [],
   "source": [
    "from numpy import linalg as LA\n",
    "from sympy import *\n",
    "from sympy.physics.quantum import Dagger\n",
    "\n",
    "# SYMPY calculation gets exact diagonal!!! (note matrices are Hermitian)\n",
    "\n",
    "class Build_V_Gate():\n",
    "    \n",
    "    # V^{n} = U\n",
    "    \n",
    "    def __init__(self,U, n_power):\n",
    "        self.U=U\n",
    "        self.n = n_power\n",
    "        \n",
    "        self.D = None\n",
    "        self.V = None\n",
    "        self.V_dag = None\n",
    "        \n",
    "    def _diagonalise_U(self):\n",
    "\n",
    "        \n",
    "        # find diagonal matrix:\n",
    "        U_matrix = Matrix(self.U)\n",
    "        self.S, self.D = U_matrix.diagonalize()\n",
    "        self.S_inv = self.S**-1\n",
    "        # where U = S D S^{-1}\n",
    "\n",
    "        if not np.allclose(np.array(self.S*(self.D*self.S_inv), complex), self.U):\n",
    "            raise ValueError('U != SDS-1')\n",
    "    \n",
    "    def Get_V_gate_matrices(self):\n",
    "        \n",
    "        if self.D is None:\n",
    "            self._diagonalise_U()\n",
    "        \n",
    "#         D_nth_root = np.power(self.D, 1/self.n)\n",
    "        D_nth_root = self.D**(1/self.n)\n",
    "        \n",
    "#         self.V = np.array(self.S,complex).dot(np.array(D_nth_root,complex)).dot(np.array(self.S_inv,complex))\n",
    "#         self.V_dag = self.V.conj().transpose()\n",
    "        self.V = self.S * D_nth_root * self.S_inv\n",
    "        self.V_dag = Dagger(self.V)\n",
    "        \n",
    "        if not np.allclose(reduce(np.matmul, [np.array(self.V, complex) for _ in range(self.n)]), self.U, atol=1e-10):\n",
    "            raise ValueError('U != V^{}'.format(self.n))       \n",
    "               \n",
    "        return np.array(self.V, complex), np.array(self.V_dag, complex)\n",
    "\n",
    "n_root=2\n",
    "mat = cirq.X._unitary_()\n",
    "aa = Build_V_Gate(mat, n_root)\n",
    "V, V_dag = aa.Get_V_gate_matrices()\n",
    "reduce(np.matmul, [V for _ in range(n_root)])"
   ]
  },
  {
   "cell_type": "code",
   "execution_count": null,
   "metadata": {},
   "outputs": [],
   "source": [
    "# from numpy import linalg as LA\n",
    "# # NUMPY VERSION... NOT as good!\n",
    "\n",
    "# class Build_V_Gate():\n",
    "    \n",
    "#     # V^{n} = U\n",
    "    \n",
    "#     def __init__(self,U, n_power):\n",
    "#         self.U=U\n",
    "#         self.n = n_power\n",
    "        \n",
    "#         self.D = None\n",
    "#         self.V = None\n",
    "#         self.V_dag = None\n",
    "        \n",
    "#     def _diagonalise_U(self):\n",
    "\n",
    "#         val,vec = np.linalg.eig(self.U)\n",
    "        \n",
    "#         #sorting\n",
    "#         idx = val.argsort()[::-1]   \n",
    "#         val_sorted = val[idx]\n",
    "#         vec_sorted = vec[:,idx]\n",
    "        \n",
    "#         # find diagonal matrix:\n",
    "#         vec_sorted_inv = np.linalg.inv(vec_sorted) \n",
    "#         self.D = vec_sorted_inv.dot(self.U.dot(vec_sorted))\n",
    "        \n",
    "#         self.S=vec_sorted\n",
    "#         self.S_inv = vec_sorted_inv\n",
    "#         # where U = S D S^{-1}\n",
    "        \n",
    "#         if not np.allclose(self.S.dot(self.D).dot(self.S_inv), self.U):\n",
    "#             raise ValueError('U != SDS-1')\n",
    "    \n",
    "#     def Get_V_gate_matrices(self):\n",
    "        \n",
    "#         if self.D is None:\n",
    "#             self._diagonalise_U()\n",
    "        \n",
    "#         D_nth_root = np.power(self.D, 1/self.n)\n",
    "# #         D_nth_root = np.sqrt(self.D)\n",
    "        \n",
    "#         self.V = self.S.dot(D_nth_root).dot(self.S_inv)\n",
    "#         self.V_dag = self.V.conj().transpose()\n",
    "        \n",
    "#         if not np.allclose(reduce(np.matmul, [self.V for _ in range(self.n)]), self.U, atol=1e-1):\n",
    "#             raise ValueError('U != V^{}'.format(self.n))       \n",
    "        \n",
    "#         return self.V, self.V_dag \n",
    "        \n",
    "# mat = cirq.X._unitary_()\n",
    "# aa = Build_V_Gate(mat, 2)\n",
    "# V, V_dag = aa.Get_V_gate_matrices()\n",
    "\n",
    "# np.around(V.dot(V), 3)"
   ]
  },
  {
   "cell_type": "code",
   "execution_count": null,
   "metadata": {},
   "outputs": [],
   "source": [
    "# aa = Build_V_Gate(mat, 4)\n",
    "# V, V_dag = aa.Get_V_gate_matrices()\n",
    "# np.around(((V.dot(V)).dot(V)).dot(V), 3)"
   ]
  },
  {
   "cell_type": "code",
   "execution_count": null,
   "metadata": {},
   "outputs": [],
   "source": []
  },
  {
   "cell_type": "code",
   "execution_count": 2,
   "metadata": {},
   "outputs": [],
   "source": [
    "class My_V_gate(cirq.SingleQubitGate):\n",
    "    \"\"\"\n",
    "    Description\n",
    "\n",
    "    Args:\n",
    "        theta (float): angle to rotate by in radians.\n",
    "        number_control_qubits (int): number of control qubits\n",
    "    \"\"\"\n",
    "\n",
    "    def __init__(self, V, V_dag, dagger_gate = False):\n",
    "        self.V = V\n",
    "        self.V_dag = V_dag\n",
    "        self.dagger_gate = dagger_gate\n",
    "    def _unitary_(self):\n",
    "        if self.dagger_gate:\n",
    "            return self.V_dag\n",
    "        else:\n",
    "            return self.V\n",
    "            \n",
    "    def num_qubits(self):\n",
    "        return 1\n",
    "\n",
    "    def _circuit_diagram_info_(self,args):\n",
    "        if self.dagger_gate:\n",
    "            return 'V^{†}'\n",
    "        else:\n",
    "            return 'V'\n",
    "\n",
    "    def __str__(self):\n",
    "        if self.dagger_gate:\n",
    "            return 'V^{†}'\n",
    "        else:\n",
    "            return 'V'\n",
    "\n",
    "    def __repr__(self):\n",
    "        return self.__str__()"
   ]
  },
  {
   "cell_type": "code",
   "execution_count": null,
   "metadata": {},
   "outputs": [],
   "source": [
    "n_root=4\n",
    "mat = cirq.X._unitary_()\n",
    "aa = Build_V_Gate(mat, n_root)\n",
    "V, V_dag = aa.Get_V_gate_matrices()\n",
    "\n",
    "\n",
    "GATE = My_V_gate(V, V_dag, dagger_gate=True)\n",
    "\n",
    "circuit = GATE.on(cirq.LineQubit(2))\n",
    "cirq.Circuit(circuit)"
   ]
  },
  {
   "cell_type": "code",
   "execution_count": null,
   "metadata": {},
   "outputs": [],
   "source": []
  },
  {
   "cell_type": "code",
   "execution_count": null,
   "metadata": {},
   "outputs": [],
   "source": [
    "def int_to_Gray(num, n_qubits):\n",
    "    # https://en.wikipedia.org/wiki/Gray_code\n",
    "    \n",
    "    # print(np.binary_repr(num, n_qubits)) # standard binary form!\n",
    "    \n",
    "    # The operator >> is shift right. The operator ^ is exclusive or\n",
    "    gray_int = num^(num>>1)\n",
    "    \n",
    "    return np.binary_repr(gray_int,n_qubits)\n",
    "\n",
    "\n",
    "### example... note that grey code reversed as indexing from left to right: [0,1,-->, N-1]\n",
    "for i in range(2**3):\n",
    "    print(int_to_Gray(i, 3)[::-1])\n",
    "    \n",
    "int_to_Gray(6, 4)"
   ]
  },
  {
   "cell_type": "code",
   "execution_count": null,
   "metadata": {},
   "outputs": [],
   "source": [
    "def check_binary_str_parity(binary_str):\n",
    "    \"\"\"\n",
    "    Returns 0 for EVEN parity\n",
    "    Returns 1 for ODD parity    \n",
    "    \"\"\"\n",
    "    parity = sum(map(int,binary_str))%2\n",
    "    \n",
    "    return parity\n",
    "\n",
    "check_binary_str_parity('0101')"
   ]
  },
  {
   "cell_type": "code",
   "execution_count": null,
   "metadata": {},
   "outputs": [],
   "source": [
    "# NOTE pg 17 of Elementary gates for quantum information\n",
    "class n_control_U(cirq.Gate):\n",
    "    \"\"\"\n",
    "    \"\"\"\n",
    "\n",
    "    def __init__(self, V, V_dag, list_of_control_qubits, list_control_vals, U_qubit):\n",
    "        self.V = V\n",
    "        self.V_dag = V_dag\n",
    "        \n",
    "        if len(list_of_control_qubits)!=len(list_control_vals):\n",
    "            raise ValueError('incorrect qubit control bits or incorrect number of control qubits')\n",
    "        \n",
    "        self.list_of_control_qubits = list_of_control_qubits\n",
    "        self.list_control_vals = list_control_vals\n",
    "        self.U_qubit = U_qubit\n",
    "        \n",
    "        self.n_ancilla=len(list_of_control_qubits)\n",
    "        \n",
    "    def flip_control_to_zero(self):\n",
    "        for index, control_qubit in enumerate(self.list_of_control_qubits):\n",
    "            if self.list_control_vals[index]==0:\n",
    "                yield cirq.X.on(control_qubit)\n",
    "            \n",
    "    def _get_gray_control_lists(self):\n",
    "        \n",
    "        grey_cntrl_bit_lists=[]\n",
    "        n_ancilla = len(self.list_of_control_qubits)\n",
    "        for grey_index in range(1, 2**n_ancilla):\n",
    "            \n",
    "            gray_control_str = int_to_Gray(grey_index, n_ancilla)[::-1] # note reversing order\n",
    "            control_list = list(map(int,gray_control_str))\n",
    "            parity = check_binary_str_parity(gray_control_str)\n",
    "            \n",
    "            grey_cntrl_bit_lists.append((control_list, parity))\n",
    "        return grey_cntrl_bit_lists\n",
    "\n",
    "            \n",
    "    def _decompose_(self, qubits):\n",
    "        \n",
    "        ## flip if controlled on zero\n",
    "        X_flip = self.flip_control_to_zero()\n",
    "        yield X_flip\n",
    "        \n",
    "        ## perform controlled gate\n",
    "        n_ancilla = len(self.list_of_control_qubits)\n",
    "\n",
    "        grey_control_lists = self._get_gray_control_lists()\n",
    "        \n",
    "        for control_index, binary_control_tuple in enumerate(grey_control_lists):\n",
    "            \n",
    "            binary_control_seq, parity = binary_control_tuple\n",
    "            control_indices = np.where(np.array(binary_control_seq)==1)[0]\n",
    "            control_qubit = control_indices[-1]\n",
    "\n",
    "            if parity==1:\n",
    "                gate = self.V.controlled(num_controls=1, control_values=[1]).on(self.list_of_control_qubits[control_qubit], self.U_qubit)\n",
    "#                 gate= 'V'\n",
    "            else:\n",
    "                gate = self.V_dag.controlled(num_controls=1, control_values=[1]).on(self.list_of_control_qubits[control_qubit], self.U_qubit)\n",
    "#                 gate= 'V_dagg'\n",
    "            \n",
    "            \n",
    "            if control_index==0:\n",
    "                yield gate\n",
    "#                 print(gate, control_qubit)\n",
    "            else:\n",
    "                for c_index in range(len(control_indices[:-1])):\n",
    "                    yield cirq.CNOT(self.list_of_control_qubits[control_indices[c_index]], self.list_of_control_qubits[control_indices[c_index+1]])\n",
    "#                     print('CNOT', control_indices[c_index], control_indices[c_index+1])\n",
    "#                 print(gate, control_qubit)\n",
    "                yield gate\n",
    "                for c_index in list(range(len(control_indices[:-1])))[::-1]:\n",
    "#                     print('CNOT', control_indices[c_index], control_indices[c_index+1])\n",
    "                    yield cirq.CNOT(self.list_of_control_qubits[control_indices[c_index]], self.list_of_control_qubits[control_indices[c_index+1]])\n",
    "        \n",
    "        ## unflip if controlled on zero\n",
    "        X_flip = self.flip_control_to_zero()\n",
    "        yield X_flip\n",
    "        \n",
    "    def _circuit_diagram_info_(self, args):\n",
    "\n",
    "#         return cirq.CircuitDiagramInfo(\n",
    "#             wire_symbols=tuple([*['@' for _ in range(len(self.list_of_control_qubits))],'U']),exponent=1)\n",
    "        return cirq.protocols.CircuitDiagramInfo(\n",
    "            wire_symbols=tuple([*['@' if bit==1 else '(0)' for bit in self.list_control_vals],'U']),\n",
    "            exponent=1)\n",
    "\n",
    "    def num_qubits(self):\n",
    "        return len(self.list_of_control_qubits) + 1 #(+1 for U_qubit)\n",
    "    "
   ]
  },
  {
   "cell_type": "code",
   "execution_count": null,
   "metadata": {},
   "outputs": [],
   "source": [
    "n_control_qubits=6\n",
    "n_power = 2**(n_control_qubits-2)\n"
   ]
  },
  {
   "cell_type": "code",
   "execution_count": null,
   "metadata": {},
   "outputs": [],
   "source": [
    "cirq.X._unitary_()"
   ]
  },
  {
   "cell_type": "code",
   "execution_count": null,
   "metadata": {},
   "outputs": [],
   "source": [
    "\n",
    "cirq.LineQubit.range(3)"
   ]
  },
  {
   "cell_type": "code",
   "execution_count": null,
   "metadata": {},
   "outputs": [],
   "source": [
    "### setup V gate ##\n",
    "n_control_qubits=3\n",
    "n_power = 2**(n_control_qubits-1)\n",
    "\n",
    "theta= np.pi/2\n",
    "# U_GATE_MATRIX = np.array([\n",
    "#                     [np.cos(theta), np.sin(theta)],\n",
    "#                     [np.sin(theta), -1* np.cos(theta)]\n",
    "#                 ])\n",
    "\n",
    "U_GATE_MATRIX =  cirq.X._unitary_()\n",
    "\n",
    "get_v_gate_obj = Build_V_Gate(U_GATE_MATRIX, n_power)\n",
    "V, V_dag = get_v_gate_obj.Get_V_gate_matrices()\n",
    "\n",
    "V_gate_DAGGER = My_V_gate(V, V_dag, dagger_gate=True)\n",
    "V_gate = My_V_gate(V, V_dag, dagger_gate=False)\n",
    "\n",
    "circuit = V_gate_DAGGER.on(cirq.LineQubit(2))\n",
    "cirq.Circuit(circuit)\n",
    "\n",
    "\n",
    "\n",
    "## setup n-control-U ###\n",
    "list_of_control_qubits = cirq.LineQubit.range(3)\n",
    "list_control_vals=[0,1,0]\n",
    "U_qubit = cirq.LineQubit(3)\n",
    "\n",
    "xx = n_control_U(V_gate, V_gate_DAGGER, list_of_control_qubits, list_control_vals, U_qubit)\n",
    "\n",
    "Q_circuit = cirq.Circuit(cirq.decompose_once(\n",
    "        (xx(*cirq.LineQubit.range(xx.num_qubits())))))\n",
    "\n",
    "print(cirq.Circuit((xx(*cirq.LineQubit.range(xx.num_qubits())))))\n",
    "\n",
    "Q_circuit"
   ]
  },
  {
   "cell_type": "code",
   "execution_count": null,
   "metadata": {},
   "outputs": [],
   "source": []
  },
  {
   "cell_type": "code",
   "execution_count": null,
   "metadata": {},
   "outputs": [],
   "source": [
    "op = cirq.X.controlled(num_controls=3, control_values=[0, 1, 0]).on(*[cirq.LineQubit(0), cirq.LineQubit(1), cirq.LineQubit(2)], cirq.LineQubit(3))\n",
    "print(cirq.Circuit(op))\n",
    "np.isclose(cirq.Circuit(op).unitary(), Q_circuit.unitary(), atol=1e-9)"
   ]
  },
  {
   "cell_type": "code",
   "execution_count": null,
   "metadata": {},
   "outputs": [],
   "source": [
    "### setup V gate ##\n",
    "n_control_qubits=2\n",
    "n_power = 2**(n_control_qubits-1)\n",
    "\n",
    "theta= np.pi/2\n",
    "\n",
    "\n",
    "U_GATE_MATRIX =  cirq.X._unitary_()\n",
    "\n",
    "get_v_gate_obj = Build_V_Gate(U_GATE_MATRIX, n_power)\n",
    "V, V_dag = get_v_gate_obj.Get_V_gate_matrices()\n",
    "\n",
    "V_gate_DAGGER = My_V_gate(V, V_dag, dagger_gate=True)\n",
    "V_gate = My_V_gate(V, V_dag, dagger_gate=False)\n",
    "\n",
    "circuit = V_gate_DAGGER.on(cirq.LineQubit(2))\n",
    "cirq.Circuit(circuit)\n",
    "\n",
    "\n",
    "\n",
    "## setup n-control-U ###\n",
    "list_of_control_qubits = cirq.LineQubit.range(2)\n",
    "list_control_vals=[0,1]\n",
    "U_qubit = cirq.LineQubit(2)\n",
    "\n",
    "xx = n_control_U(V_gate, V_gate_DAGGER, list_of_control_qubits, list_control_vals, U_qubit)\n",
    "\n",
    "Q_circuit = cirq.Circuit(cirq.decompose_once(\n",
    "        (xx(*cirq.LineQubit.range(xx.num_qubits())))))\n",
    "\n",
    "print(cirq.Circuit((xx(*cirq.LineQubit.range(xx.num_qubits())))))\n",
    "\n",
    "Q_circuit"
   ]
  },
  {
   "cell_type": "code",
   "execution_count": null,
   "metadata": {},
   "outputs": [],
   "source": [
    "op = cirq.X.controlled(num_controls=2, control_values=[0, 1]).on(*[cirq.LineQubit(0), cirq.LineQubit(1)], cirq.LineQubit(2))\n",
    "print(cirq.Circuit(op))\n",
    "np.isclose(cirq.Circuit(op).unitary(), Q_circuit.unitary(), atol=1e-6)"
   ]
  },
  {
   "cell_type": "code",
   "execution_count": null,
   "metadata": {},
   "outputs": [],
   "source": []
  },
  {
   "cell_type": "code",
   "execution_count": null,
   "metadata": {},
   "outputs": [],
   "source": []
  },
  {
   "cell_type": "code",
   "execution_count": null,
   "metadata": {},
   "outputs": [],
   "source": []
  },
  {
   "cell_type": "code",
   "execution_count": null,
   "metadata": {},
   "outputs": [],
   "source": []
  },
  {
   "cell_type": "code",
   "execution_count": null,
   "metadata": {},
   "outputs": [],
   "source": [
    "cirq.X.controlled(num_controls=2, control_values=[0,1]).on(\n",
    "                            *list(cirq.LineQubit.range(3)))"
   ]
  },
  {
   "cell_type": "code",
   "execution_count": null,
   "metadata": {},
   "outputs": [],
   "source": [
    "op = cirq.X.controlled(num_controls=3, control_values=[0, 0, 1]).on(*[cirq.LineQubit(1), cirq.LineQubit(2), cirq.LineQubit(3)], cirq.LineQubit(4))\n",
    "print(cirq.Circuit(op))\n"
   ]
  },
  {
   "cell_type": "code",
   "execution_count": null,
   "metadata": {},
   "outputs": [],
   "source": []
  },
  {
   "cell_type": "code",
   "execution_count": null,
   "metadata": {},
   "outputs": [],
   "source": []
  },
  {
   "cell_type": "code",
   "execution_count": null,
   "metadata": {},
   "outputs": [],
   "source": []
  },
  {
   "cell_type": "code",
   "execution_count": null,
   "metadata": {},
   "outputs": [],
   "source": []
  },
  {
   "cell_type": "code",
   "execution_count": null,
   "metadata": {},
   "outputs": [],
   "source": []
  },
  {
   "cell_type": "code",
   "execution_count": null,
   "metadata": {},
   "outputs": [],
   "source": []
  },
  {
   "cell_type": "code",
   "execution_count": null,
   "metadata": {},
   "outputs": [],
   "source": []
  },
  {
   "cell_type": "code",
   "execution_count": null,
   "metadata": {},
   "outputs": [],
   "source": []
  },
  {
   "cell_type": "code",
   "execution_count": 7,
   "metadata": {},
   "outputs": [
    {
     "name": "stdout",
     "output_type": "stream",
     "text": [
      "000\n",
      "100\n",
      "110\n",
      "010\n",
      "011\n",
      "111\n",
      "101\n",
      "001\n"
     ]
    },
    {
     "data": {
      "text/plain": [
       "'0101'"
      ]
     },
     "execution_count": 7,
     "metadata": {},
     "output_type": "execute_result"
    }
   ],
   "source": [
    "def int_to_Gray(num, n_qubits):\n",
    "    # https://en.wikipedia.org/wiki/Gray_code\n",
    "    \n",
    "    # print(np.binary_repr(num, n_qubits)) # standard binary form!\n",
    "    \n",
    "    # The operator >> is shift right. The operator ^ is exclusive or\n",
    "    gray_int = num^(num>>1)\n",
    "    \n",
    "    return np.binary_repr(gray_int,n_qubits)\n",
    "\n",
    "\n",
    "### example... note that grey code reversed as indexing from left to right: [0,1,-->, N-1]\n",
    "for i in range(2**3):\n",
    "    print(int_to_Gray(i, 3)[::-1])\n",
    "    \n",
    "int_to_Gray(6, 4)"
   ]
  },
  {
   "cell_type": "code",
   "execution_count": 8,
   "metadata": {},
   "outputs": [
    {
     "data": {
      "text/plain": [
       "0"
      ]
     },
     "execution_count": 8,
     "metadata": {},
     "output_type": "execute_result"
    }
   ],
   "source": [
    "def check_binary_str_parity(binary_str):\n",
    "    \"\"\"\n",
    "    Returns 0 for EVEN parity\n",
    "    Returns 1 for ODD parity    \n",
    "    \"\"\"\n",
    "    parity = sum(map(int,binary_str))%2\n",
    "    \n",
    "    return parity\n",
    "\n",
    "check_binary_str_parity('0101')"
   ]
  },
  {
   "cell_type": "code",
   "execution_count": null,
   "metadata": {},
   "outputs": [],
   "source": []
  },
  {
   "cell_type": "code",
   "execution_count": 9,
   "metadata": {},
   "outputs": [],
   "source": [
    "class My_U_Gate(cirq.SingleQubitGate):\n",
    "    \"\"\"\n",
    "    Description\n",
    "\n",
    "    Args:\n",
    "        theta (float): angle to rotate by in radians.\n",
    "        number_control_qubits (int): number of control qubits\n",
    "    \"\"\"\n",
    "\n",
    "    def __init__(self, theta):\n",
    "        self.theta = theta\n",
    "    def _unitary_(self):\n",
    "        Unitary_Matrix = np.array([\n",
    "                    [np.cos(self.theta), np.sin(self.theta)],\n",
    "                    [np.sin(self.theta), -1* np.cos(self.theta)]\n",
    "                ])\n",
    "        return Unitary_Matrix\n",
    "    def num_qubits(self):\n",
    "        return 1\n",
    "\n",
    "    def _circuit_diagram_info_(self,args):\n",
    "        # return cirq.CircuitDiagramInfo(\n",
    "        #     wire_symbols=tuple([*['@' for _ in range(self.num_control_qubits-1)],' U = {} rad '.format(self.theta.__round__(4))]),exponent=1)\n",
    "        return ' U = {} rad '.format(self.theta.__round__(4))\n",
    "\n",
    "    def __str__(self):\n",
    "        return ' U = {} rad '.format(self.theta.__round__(4))\n",
    "\n",
    "    def __repr__(self):\n",
    "        return ' U_arb_state_prep'"
   ]
  },
  {
   "cell_type": "code",
   "execution_count": 10,
   "metadata": {},
   "outputs": [],
   "source": [
    "class My_V_gate(cirq.SingleQubitGate):\n",
    "    \"\"\"\n",
    "    Description\n",
    "\n",
    "    Args:\n",
    "        theta (float): angle to rotate by in radians.\n",
    "        number_control_qubits (int): number of control qubits\n",
    "    \"\"\"\n",
    "\n",
    "    def __init__(self, V_mat, V_dag_mat, dagger_gate = False):\n",
    "        self.V_mat = V_mat\n",
    "        self.V_dag_mat = V_dag_mat\n",
    "        self.dagger_gate = dagger_gate\n",
    "    def _unitary_(self):\n",
    "        if self.dagger_gate:\n",
    "            return self.V_dag_mat\n",
    "        else:\n",
    "            return self.V_mat\n",
    "            \n",
    "    def num_qubits(self):\n",
    "        return 1\n",
    "\n",
    "    def _circuit_diagram_info_(self,args):\n",
    "        if self.dagger_gate:\n",
    "            return 'V^{†}'\n",
    "        else:\n",
    "            return 'V'\n",
    "\n",
    "    def __str__(self):\n",
    "        if self.dagger_gate:\n",
    "            return 'V^{†}'\n",
    "        else:\n",
    "            return 'V'\n",
    "\n",
    "    def __repr__(self):\n",
    "        return self.__str__()"
   ]
  },
  {
   "cell_type": "code",
   "execution_count": 27,
   "metadata": {},
   "outputs": [],
   "source": [
    "from sympy import *\n",
    "from sympy.physics.quantum import Dagger\n",
    "\n",
    "# NOTE pg 17 of Elementary gates for quantum information\n",
    "class n_control_U(cirq.Gate):\n",
    "    \"\"\"\n",
    "    \"\"\"\n",
    "\n",
    "    def __init__(self, list_of_control_qubits, list_control_vals, U_qubit, U_cirq_gate, n_control_qubits):\n",
    "        self.U_qubit = U_qubit\n",
    "        self.U_cirq_gate = U_cirq_gate\n",
    "        \n",
    "        if len(list_of_control_qubits)!=len(list_control_vals):\n",
    "            raise ValueError('incorrect qubit control bits or incorrect number of control qubits')\n",
    "        \n",
    "        self.list_of_control_qubits = list_of_control_qubits\n",
    "        self.list_control_vals = list_control_vals\n",
    "        \n",
    "        self.n_ancilla=len(list_of_control_qubits)\n",
    "        self.D = None\n",
    "        self.n_root = 2**(n_control_qubits-1)\n",
    "        self.n_control_qubits = n_control_qubits\n",
    "                \n",
    "        self.V_mat = None\n",
    "        self.V_dag_mat = None\n",
    "        \n",
    "        \n",
    "    def _diagonalise_U(self):\n",
    "        \n",
    "        # find diagonal matrix:\n",
    "        U_matrix = Matrix(self.U_cirq_gate._unitary_())\n",
    "        self.S, self.D = U_matrix.diagonalize()\n",
    "        self.S_inv = self.S**-1\n",
    "        # where U = S D S^{-1}\n",
    "\n",
    "        if not np.allclose(np.array(self.S*(self.D*self.S_inv), complex), self.U_cirq_gate._unitary_()):\n",
    "            raise ValueError('U != SDS-1') \n",
    "        \n",
    "    def Get_V_gate_matrices(self, check=True):\n",
    "        \n",
    "        if self.D is None:\n",
    "            self._diagonalise_U()\n",
    "        D_nth_root = self.D**(1/self.n_root)\n",
    "        \n",
    "        V_mat = self.S * D_nth_root * self.S_inv\n",
    "        V_dag_mat = Dagger(V_mat)\n",
    "        \n",
    "        self.V_mat = np.array(V_mat, complex)\n",
    "        self.V_dag_mat = np.array(V_dag_mat, complex)\n",
    "        \n",
    "        \n",
    "        if check:\n",
    "            V_power_n = reduce(np.matmul, [self.V_mat for _ in range(self.n_root)])\n",
    "            if not np.allclose(V_power_n, self.U_cirq_gate._unitary_()):\n",
    "                raise ValueError('V^{n} != U') \n",
    "        \n",
    "        \n",
    "    def flip_control_to_zero(self):\n",
    "        for index, control_qubit in enumerate(self.list_of_control_qubits):\n",
    "            if self.list_control_vals[index]==0:\n",
    "                yield cirq.X.on(control_qubit)\n",
    "            \n",
    "    def _get_gray_control_lists(self):\n",
    "        \n",
    "        grey_cntrl_bit_lists=[]\n",
    "        n_ancilla = len(self.list_of_control_qubits)\n",
    "        for grey_index in range(1, 2**n_ancilla):\n",
    "            \n",
    "            gray_control_str = int_to_Gray(grey_index, n_ancilla)[::-1] # note reversing order\n",
    "            control_list = list(map(int,gray_control_str))\n",
    "            parity = check_binary_str_parity(gray_control_str)\n",
    "            \n",
    "            grey_cntrl_bit_lists.append((control_list, parity))\n",
    "        return grey_cntrl_bit_lists\n",
    "\n",
    "            \n",
    "    def _decompose_(self, qubits):\n",
    "        if (self.V_mat is None) or (self.V_dag_mat is None):\n",
    "            self.Get_V_gate_matrices()\n",
    "\n",
    "        V_gate_DAGGER = My_V_gate(self.V_mat, self.V_dag_mat, dagger_gate=True)\n",
    "        V_gate = My_V_gate(self.V_mat, self.V_dag_mat, dagger_gate=False)\n",
    "        \n",
    "        ## flip if controlled on zero\n",
    "        X_flip = self.flip_control_to_zero()\n",
    "        yield X_flip\n",
    "        \n",
    "        ## perform controlled gate\n",
    "        n_ancilla = len(self.list_of_control_qubits)\n",
    "\n",
    "        grey_control_lists = self._get_gray_control_lists()\n",
    "        \n",
    "        for control_index, binary_control_tuple in enumerate(grey_control_lists):\n",
    "            \n",
    "            binary_control_seq, parity = binary_control_tuple\n",
    "            control_indices = np.where(np.array(binary_control_seq)==1)[0]\n",
    "            control_qubit = control_indices[-1]\n",
    "\n",
    "            if parity==1:\n",
    "                gate = V_gate.controlled(num_controls=1, control_values=[1]).on(self.list_of_control_qubits[control_qubit], self.U_qubit)\n",
    "            else:\n",
    "                gate = V_gate_DAGGER.controlled(num_controls=1, control_values=[1]).on(self.list_of_control_qubits[control_qubit], self.U_qubit)\n",
    "            \n",
    "            if control_index==0:\n",
    "                yield gate\n",
    "            else:\n",
    "                for c_index in range(len(control_indices[:-1])):\n",
    "                    yield cirq.CNOT(self.list_of_control_qubits[control_indices[c_index]], self.list_of_control_qubits[control_indices[c_index+1]])\n",
    "                yield gate\n",
    "                for c_index in list(range(len(control_indices[:-1])))[::-1]:\n",
    "                    yield cirq.CNOT(self.list_of_control_qubits[control_indices[c_index]], self.list_of_control_qubits[control_indices[c_index+1]])\n",
    "        \n",
    "        ## unflip if controlled on zero\n",
    "        X_flip = self.flip_control_to_zero()\n",
    "        yield X_flip\n",
    "        \n",
    "    def _circuit_diagram_info_(self, args):\n",
    "#         return cirq.protocols.CircuitDiagramInfo(\n",
    "#             wire_symbols=tuple([*['@' if bit==1 else '(0)' for bit in self.list_control_vals],'U']),\n",
    "#             exponent=1)\n",
    "        return cirq.protocols.CircuitDiagramInfo(\n",
    "            wire_symbols=tuple([*['@' if bit==1 else '(0)' for bit in self.list_control_vals],self.U_cirq_gate.__str__()]),\n",
    "            exponent=1)\n",
    "\n",
    "    def num_qubits(self):\n",
    "        return len(self.list_of_control_qubits) + 1 #(+1 for U_qubit)\n",
    "    \n",
    "    def check_Gate_gate_decomposition(self, tolerance=1e-9):\n",
    "        \"\"\"\n",
    "        function compares single and two qubit gate construction of n-controlled-U \n",
    "        against perfect n-controlled-U gate\n",
    "        \n",
    "        tolerance is how close unitary matrices are required\n",
    "        \n",
    "        \"\"\"\n",
    "        \n",
    "        # decomposed into single and two qubit gates\n",
    "        decomposed = self._decompose_(None)\n",
    "        n_controlled_U_quantum_Circuit = cirq.Circuit(decomposed)\n",
    "        \n",
    "#         print(n_controlled_U_quantum_Circuit)\n",
    "        \n",
    "        # perfect gate\n",
    "        perfect_circuit_obj = self.U_cirq_gate.controlled(num_controls=self.n_control_qubits, control_values=self.list_control_vals).on(\n",
    "                            *self.list_of_control_qubits, self.U_qubit)\n",
    "        \n",
    "        perfect_circuit = cirq.Circuit(perfect_circuit_obj)\n",
    "        \n",
    "#         print(perfect_circuit)\n",
    "        \n",
    "        if not np.allclose(n_controlled_U_quantum_Circuit.unitary(), perfect_circuit.unitary(), atol=tolerance):\n",
    "            raise ValueError('V^{n} != U')\n",
    "        else:\n",
    "#             print('Correct decomposition')\n",
    "            return True\n",
    "        \n",
    "    "
   ]
  },
  {
   "cell_type": "code",
   "execution_count": null,
   "metadata": {},
   "outputs": [],
   "source": []
  },
  {
   "cell_type": "code",
   "execution_count": null,
   "metadata": {},
   "outputs": [],
   "source": []
  },
  {
   "cell_type": "code",
   "execution_count": 32,
   "metadata": {},
   "outputs": [
    {
     "name": "stdout",
     "output_type": "stream",
     "text": [
      "0: ───(0)────────────────\n",
      "      │\n",
      "1: ───@──────────────────\n",
      "      │\n",
      "2: ─── U = 0.7854 rad ───\n"
     ]
    },
    {
     "data": {
      "text/html": [
       "<pre style=\"overflow: auto; white-space: pre;\">0: ───X───@───@───────────@───X───\n",
       "          │   │           │\n",
       "1: ───────┼───X───@───────X───@───\n",
       "          │       │           │\n",
       "2: ───────V───────V^{†}───────V───</pre>"
      ],
      "text/plain": [
       "0: ───X───@───@───────────@───X───\n",
       "          │   │           │\n",
       "1: ───────┼───X───@───────X───@───\n",
       "          │       │           │\n",
       "2: ───────V───────V^{†}───────V───"
      ]
     },
     "execution_count": 32,
     "metadata": {},
     "output_type": "execute_result"
    }
   ],
   "source": [
    "## setup\n",
    "n_control_qubits=2\n",
    "theta= np.pi/4\n",
    "U_gate = My_U_Gate(theta)\n",
    "\n",
    "list_of_control_qubits = cirq.LineQubit.range(2)\n",
    "list_control_vals=[0,1]\n",
    "U_qubit = cirq.LineQubit(2)\n",
    "\n",
    "\n",
    "xx = n_control_U(list_of_control_qubits, list_control_vals, U_qubit, U_gate, n_control_qubits)\n",
    "\n",
    "\n",
    "Q_circuit = cirq.Circuit(cirq.decompose_once(\n",
    "        (xx(*cirq.LineQubit.range(xx.num_qubits())))))\n",
    "\n",
    "# NOT decomposing:\n",
    "print(cirq.Circuit((xx(*cirq.LineQubit.range(xx.num_qubits())))))\n",
    "\n",
    "# decomposing\n",
    "Q_circuit"
   ]
  },
  {
   "cell_type": "code",
   "execution_count": 29,
   "metadata": {},
   "outputs": [
    {
     "data": {
      "text/plain": [
       "True"
      ]
     },
     "execution_count": 29,
     "metadata": {},
     "output_type": "execute_result"
    }
   ],
   "source": [
    "xx.check_Gate_gate_decomposition(tolerance=1e-15)"
   ]
  },
  {
   "cell_type": "code",
   "execution_count": 20,
   "metadata": {},
   "outputs": [
    {
     "data": {
      "text/html": [
       "<pre style=\"overflow: auto; white-space: pre;\">0: ───(0)────────────────\n",
       "      │\n",
       "1: ───@──────────────────\n",
       "      │\n",
       "2: ─── U = 0.7854 rad ───</pre>"
      ],
      "text/plain": [
       "0: ───(0)────────────────\n",
       "      │\n",
       "1: ───@──────────────────\n",
       "      │\n",
       "2: ─── U = 0.7854 rad ───"
      ]
     },
     "execution_count": 20,
     "metadata": {},
     "output_type": "execute_result"
    }
   ],
   "source": [
    "U_single_qubit = My_U_Gate(theta)\n",
    "perfect_circuit_obj = U_single_qubit.controlled(num_controls=n_control_qubits, control_values=list_control_vals).on(\n",
    "                            *list_of_control_qubits, U_qubit)\n",
    "perfect_circuit = cirq.Circuit(perfect_circuit_obj)\n",
    "perfect_circuit"
   ]
  },
  {
   "cell_type": "code",
   "execution_count": 15,
   "metadata": {},
   "outputs": [
    {
     "data": {
      "text/plain": [
       "True"
      ]
     },
     "execution_count": 15,
     "metadata": {},
     "output_type": "execute_result"
    }
   ],
   "source": [
    "np.allclose(Q_circuit.unitary(), perfect_circuit.unitary(), atol=1e-6)"
   ]
  },
  {
   "cell_type": "code",
   "execution_count": null,
   "metadata": {},
   "outputs": [],
   "source": []
  }
 ],
 "metadata": {
  "kernelspec": {
   "display_name": "Python 3",
   "language": "python",
   "name": "python3"
  },
  "language_info": {
   "codemirror_mode": {
    "name": "ipython",
    "version": 3
   },
   "file_extension": ".py",
   "mimetype": "text/x-python",
   "name": "python",
   "nbconvert_exporter": "python",
   "pygments_lexer": "ipython3",
   "version": "3.7.6"
  }
 },
 "nbformat": 4,
 "nbformat_minor": 4
}
