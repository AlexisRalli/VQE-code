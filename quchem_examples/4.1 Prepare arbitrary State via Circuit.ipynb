{
 "cells": [
  {
   "cell_type": "markdown",
   "metadata": {},
   "source": [
    "TODO: look at pg 14 of: https://arxiv.org/pdf/quant-ph/0406176v5.pdf\n",
    "\n",
    "This is what Qiskit uses\n",
    "\n",
    "https://quantumcomputing.stackexchange.com/questions/6755/controlled-initialize-instruction"
   ]
  },
  {
   "cell_type": "code",
   "execution_count": null,
   "metadata": {},
   "outputs": [],
   "source": []
  },
  {
   "cell_type": "markdown",
   "metadata": {},
   "source": [
    "Code here implements the algorithm in: https://arxiv.org/pdf/quant-ph/0104030.pdf"
   ]
  },
  {
   "cell_type": "code",
   "execution_count": null,
   "metadata": {},
   "outputs": [],
   "source": []
  },
  {
   "cell_type": "code",
   "execution_count": null,
   "metadata": {},
   "outputs": [],
   "source": []
  },
  {
   "cell_type": "code",
   "execution_count": 1,
   "metadata": {},
   "outputs": [],
   "source": [
    "from quchem.Qcircuit.arb_state_prep_circuit_functions import My_U_Gate\n",
    "\n",
    "import numpy as np\n",
    "import cirq"
   ]
  },
  {
   "cell_type": "code",
   "execution_count": 2,
   "metadata": {},
   "outputs": [
    {
     "name": "stdout",
     "output_type": "stream",
     "text": [
      "1: ─── U = 3.1416 rad ───\n",
      "####\n",
      "1: ───(0)────────────────\n",
      "      │\n",
      "2: ───(0)────────────────\n",
      "      │\n",
      "3: ───@──────────────────\n",
      "      │\n",
      "4: ─── U = 3.1416 rad ───\n"
     ]
    }
   ],
   "source": [
    "theta = np.pi\n",
    "\n",
    "U_single_qubit = My_U_Gate(theta)\n",
    "op = U_single_qubit.on(cirq.LineQubit(1))\n",
    "print(cirq.Circuit(op))\n",
    "\n",
    "print('####')\n",
    "\n",
    "op = U_single_qubit.controlled(num_controls=3, control_values=[0, 0, 1]).on(*[cirq.LineQubit(1), cirq.LineQubit(2), cirq.LineQubit(3)], cirq.LineQubit(4))\n",
    "print(cirq.Circuit(op))"
   ]
  },
  {
   "cell_type": "code",
   "execution_count": null,
   "metadata": {},
   "outputs": [],
   "source": []
  },
  {
   "cell_type": "code",
   "execution_count": 3,
   "metadata": {},
   "outputs": [
    {
     "data": {
      "text/plain": [
       "{0: [{'control_state': '', 'angle': 0.7853981633974483}],\n",
       " 2: [{'control_state': '00', 'angle': 0.7853981633974483},\n",
       "  {'control_state': '01', 'angle': 0.7853981633974483},\n",
       "  {'control_state': '10', 'angle': 0.7853981633974483},\n",
       "  {'control_state': '11', 'angle': 0.7853981633974483}],\n",
       " 1: [{'control_state': '0', 'angle': 0.7853981633974483},\n",
       "  {'control_state': '1', 'angle': 0.7853981633974483}]}"
      ]
     },
     "execution_count": 3,
     "metadata": {},
     "output_type": "execute_result"
    }
   ],
   "source": [
    "from quchem.Qcircuit.arb_state_prep_circuit_functions import Get_arb_state_prep_circuit_params\n",
    "\n",
    "N_qubits=3\n",
    "state_vector = [1/np.sqrt(2**N_qubits) for _ in range(2**N_qubits)]\n",
    "\n",
    "alpha_j_dict = Get_arb_state_prep_circuit_params(N_qubits, state_vector)\n",
    "alpha_j_dict"
   ]
  },
  {
   "cell_type": "code",
   "execution_count": null,
   "metadata": {},
   "outputs": [],
   "source": []
  },
  {
   "cell_type": "code",
   "execution_count": 4,
   "metadata": {},
   "outputs": [
    {
     "data": {
      "text/html": [
       "<pre style=\"overflow: auto; white-space: pre;\">0: ───H───(0)───@───(0)───(0)───@─────@───\n",
       "          │     │   │     │     │     │\n",
       "1: ───────H─────H───(0)───@─────(0)───@───\n",
       "                    │     │     │     │\n",
       "2: ─────────────────H─────H─────H─────H───</pre>"
      ],
      "text/plain": [
       "0: ───H───(0)───@───(0)───(0)───@─────@───\n",
       "          │     │   │     │     │     │\n",
       "1: ───────H─────H───(0)───@─────(0)───@───\n",
       "                    │     │     │     │\n",
       "2: ─────────────────H─────H─────H─────H───"
      ]
     },
     "execution_count": 4,
     "metadata": {},
     "output_type": "execute_result"
    }
   ],
   "source": [
    "from quchem.Qcircuit.arb_state_prep_circuit_functions import State_Prep_Circuit\n",
    "\n",
    "N_system_qubits=0\n",
    "circ_obj = State_Prep_Circuit(alpha_j_dict, N_system_qubits=N_system_qubits)\n",
    "circuit = (\n",
    "    cirq.Circuit(cirq.decompose_once((circ_obj(*cirq.LineQubit.range(N_system_qubits, N_system_qubits+circ_obj.num_qubits()))))))\n",
    "circuit"
   ]
  },
  {
   "cell_type": "code",
   "execution_count": 5,
   "metadata": {},
   "outputs": [
    {
     "name": "stdout",
     "output_type": "stream",
     "text": [
      "True\n"
     ]
    },
    {
     "data": {
      "text/plain": [
       "array([0.35355339+0.j, 0.35355339+0.j, 0.35355339+0.j, 0.35355339+0.j,\n",
       "       0.35355339+0.j, 0.35355339+0.j, 0.35355339+0.j, 0.35355339+0.j])"
      ]
     },
     "execution_count": 5,
     "metadata": {},
     "output_type": "execute_result"
    }
   ],
   "source": [
    "print(np.allclose(np.array(circuit.unitary()[:,0]),\n",
    "   Get_arb_state_prep_circuit_params         np.array(state_vector)))\n",
    "\n",
    "np.array(circuit.unitary())[:,0]"
   ]
  },
  {
   "cell_type": "code",
   "execution_count": null,
   "metadata": {},
   "outputs": [],
   "source": []
  },
  {
   "cell_type": "code",
   "execution_count": 6,
   "metadata": {},
   "outputs": [
    {
     "data": {
      "text/html": [
       "<pre style=\"overflow: auto; white-space: pre;\">2: ───H───(0)───@───(0)───(0)───@─────@───\n",
       "          │     │   │     │     │     │\n",
       "3: ───────H─────H───(0)───@─────(0)───@───\n",
       "                    │     │     │     │\n",
       "4: ─────────────────H─────H─────H─────H───</pre>"
      ],
      "text/plain": [
       "2: ───H───(0)───@───(0)───(0)───@─────@───\n",
       "          │     │   │     │     │     │\n",
       "3: ───────H─────H───(0)───@─────(0)───@───\n",
       "                    │     │     │     │\n",
       "4: ─────────────────H─────H─────H─────H───"
      ]
     },
     "execution_count": 6,
     "metadata": {},
     "output_type": "execute_result"
    }
   ],
   "source": [
    "from quchem.Qcircuit.arb_state_prep_circuit_functions import Get_G_and_Gdag_circuits\n",
    "N_system_qubits=2\n",
    "\n",
    "G_circuits = Get_G_and_Gdag_circuits(state_vector, N_system_qubits, check_state_prep_circuit=True)\n",
    "\n",
    "G_circuits.G_circuit"
   ]
  },
  {
   "cell_type": "code",
   "execution_count": 8,
   "metadata": {},
   "outputs": [
    {
     "data": {
      "text/html": [
       "<pre style=\"overflow: auto; white-space: pre;\">2: ───@───@─────(0)───(0)───@───(0)───H───\n",
       "      │   │     │     │     │   │\n",
       "3: ───@───(0)───@─────(0)───H───H─────────\n",
       "      │   │     │     │\n",
       "4: ───H───H─────H─────H───────────────────</pre>"
      ],
      "text/plain": [
       "2: ───@───@─────(0)───(0)───@───(0)───H───\n",
       "      │   │     │     │     │   │\n",
       "3: ───@───(0)───@─────(0)───H───H─────────\n",
       "      │   │     │     │\n",
       "4: ───H───H─────H─────H───────────────────"
      ]
     },
     "execution_count": 8,
     "metadata": {},
     "output_type": "execute_result"
    }
   ],
   "source": [
    "G_circuits.G_DAGGER_circuit"
   ]
  },
  {
   "cell_type": "code",
   "execution_count": null,
   "metadata": {},
   "outputs": [],
   "source": []
  },
  {
   "cell_type": "code",
   "execution_count": 32,
   "metadata": {},
   "outputs": [
    {
     "data": {
      "text/html": [
       "<pre style=\"overflow: auto; white-space: pre;\">2: ─── U = 0.5796 rad ───(0)────────────────@──────────────────\n",
       "                         │                  │\n",
       "3: ────────────────────── U = 0.7495 rad ─── U = 0.6992 rad ───</pre>"
      ],
      "text/plain": [
       "2: ─── U = 0.5796 rad ───(0)────────────────@──────────────────\n",
       "                         │                  │\n",
       "3: ────────────────────── U = 0.7495 rad ─── U = 0.6992 rad ───"
      ]
     },
     "execution_count": 32,
     "metadata": {},
     "output_type": "execute_result"
    }
   ],
   "source": [
    "from quchem.Qcircuit.arb_state_prep_circuit_functions import Get_G_and_Gdag_circuits\n",
    "N_system_qubits=2\n",
    "\n",
    "state_vector = [np.sqrt(0.4), np.sqrt(0.3), np.sqrt(0.2), np.sqrt(0.1)]\n",
    "\n",
    "G_circuits = Get_G_and_Gdag_circuits(state_vector, N_system_qubits, check_state_prep_circuit=False)\n",
    "\n",
    "G_circuits.G_circuit"
   ]
  },
  {
   "cell_type": "code",
   "execution_count": 33,
   "metadata": {},
   "outputs": [
    {
     "data": {
      "text/plain": [
       "array([0.61247765+0.j, 0.56997468+0.j, 0.40096074+0.j, 0.37313601+0.j])"
      ]
     },
     "execution_count": 33,
     "metadata": {},
     "output_type": "execute_result"
    }
   ],
   "source": [
    "G_circuits.G_circuit.unitary()[0,:]"
   ]
  },
  {
   "cell_type": "code",
   "execution_count": 34,
   "metadata": {},
   "outputs": [
    {
     "data": {
      "text/plain": [
       "{0: [{'control_state': '', 'angle': 0.5796397403637044}],\n",
       " 1: [{'control_state': '0', 'angle': 0.7494688654174801},\n",
       "  {'control_state': '1', 'angle': 0.6991851645410239}]}"
      ]
     },
     "execution_count": 34,
     "metadata": {},
     "output_type": "execute_result"
    }
   ],
   "source": [
    "state_vector = [np.sqrt(0.4), np.sqrt(0.3), np.sqrt(0.2), np.sqrt(0.1)]\n",
    "alpha_j_dict = Get_arb_state_prep_circuit_params(2, state_vector)\n",
    "alpha_j_dict"
   ]
  },
  {
   "cell_type": "code",
   "execution_count": 36,
   "metadata": {},
   "outputs": [
    {
     "data": {
      "text/plain": [
       "[0.6324555320336759,\n",
       " 0.5477225575051661,\n",
       " 0.4472135954999579,\n",
       " 0.31622776601683794]"
      ]
     },
     "execution_count": 36,
     "metadata": {},
     "output_type": "execute_result"
    }
   ],
   "source": [
    "state_vector"
   ]
  },
  {
   "cell_type": "code",
   "execution_count": null,
   "metadata": {},
   "outputs": [],
   "source": []
  },
  {
   "cell_type": "code",
   "execution_count": null,
   "metadata": {},
   "outputs": [],
   "source": []
  },
  {
   "cell_type": "code",
   "execution_count": null,
   "metadata": {},
   "outputs": [],
   "source": []
  }
 ],
 "metadata": {
  "kernelspec": {
   "display_name": "Python 3",
   "language": "python",
   "name": "python3"
  },
  "language_info": {
   "codemirror_mode": {
    "name": "ipython",
    "version": 3
   },
   "file_extension": ".py",
   "mimetype": "text/x-python",
   "name": "python",
   "nbconvert_exporter": "python",
   "pygments_lexer": "ipython3",
   "version": "3.8.5"
  }
 },
 "nbformat": 4,
 "nbformat_minor": 4
}
