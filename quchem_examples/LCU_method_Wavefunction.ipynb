{
 "cells": [
  {
   "cell_type": "code",
   "execution_count": 1,
   "metadata": {},
   "outputs": [
    {
     "name": "stderr",
     "output_type": "stream",
     "text": [
      "Building Graph Edges: 100%|##########| 15/15 [00:00<00:00, 918.69it/s]\n"
     ]
    },
    {
     "data": {
      "text/plain": [
       "{0: [(0.12062523483390414+0j) [Z1 Z3]],\n",
       " 1: [(0.12062523483390414+0j) [Z0 Z2]],\n",
       " 2: [(0.1744128761226159+0j) [Z2 Z3]],\n",
       " 3: [(0.16868898170361207+0j) [Z0 Z1]],\n",
       " 4: [(-0.09706626816762878+0j) []],\n",
       " 5: [(0.1659278503377034+0j) [Z0 Z3]],\n",
       " 6: [(0.1659278503377034+0j) [Z1 Z2]],\n",
       " 7: [(0.045302615503799264+0j) [Y0 X1 X2 Y3], (-0.22343153690813558+0j) [Z3]],\n",
       " 8: [(-0.045302615503799264+0j) [Y0 Y1 X2 X3], (-0.22343153690813564+0j) [Z2]],\n",
       " 9: [(-0.045302615503799264+0j) [X0 X1 Y2 Y3], (0.1714128264477689+0j) [Z0]],\n",
       " 10: [(0.045302615503799264+0j) [X0 Y1 Y2 X3], (0.17141282644776892+0j) [Z1]]}"
      ]
     },
     "execution_count": 1,
     "metadata": {},
     "output_type": "execute_result"
    }
   ],
   "source": [
    "from quchem.Hamiltonian_Generator_Functions import *\n",
    "from quchem.Graph import *\n",
    "### HAMILTONIAN start\n",
    "Molecule = 'H2'\n",
    "geometry = [('H', (0., 0., 0.)), ('H', (0., 0., 0.74))]\n",
    "basis = 'sto-3g'\n",
    "\n",
    "\n",
    "### Get Hamiltonian\n",
    "Hamilt = Hamiltonian_PySCF(Molecule,\n",
    "                     run_scf=1, run_mp2=1, run_cisd=1, run_ccsd=1, run_fci=1,\n",
    "                     basis=basis,\n",
    "                     multiplicity=1,\n",
    "                     geometry=geometry)  # normally None!\n",
    "QubitHamiltonian = Hamilt.Get_Qubit_Hamiltonian(threshold=None, transformation='JW')\n",
    "### HAMILTONIAN end\n",
    "\n",
    "#####################################\n",
    "\n",
    "Hamiltonian_graph_obj = Openfermion_Hamiltonian_Graph(QubitHamiltonian)\n",
    "\n",
    "commutativity_flag = 'AC' ## <- defines relationship between sets!!!\n",
    "plot_graph = False\n",
    "Graph_colouring_strategy='largest_first'\n",
    "anti_commuting_sets = Hamiltonian_graph_obj.Get_Clique_Cover_as_QubitOp(commutativity_flag, Graph_colouring_strategy=Graph_colouring_strategy, plot_graph=plot_graph)\n",
    "anti_commuting_sets"
   ]
  },
  {
   "cell_type": "code",
   "execution_count": 2,
   "metadata": {},
   "outputs": [],
   "source": [
    "from quchem.LCU_method import *"
   ]
  },
  {
   "cell_type": "markdown",
   "metadata": {},
   "source": [
    "$$U_{UCCSD}^{H2}=e^{-i \\theta Y_{0} X_{1} X_{2} X_{3}}$$"
   ]
  },
  {
   "cell_type": "code",
   "execution_count": 3,
   "metadata": {},
   "outputs": [],
   "source": [
    "from quchem.Simulating_Quantum_Circuit import *\n",
    "from quchem.Ansatz_Generator_Functions import *\n",
    "from openfermion.ops import QubitOperator\n",
    "\n",
    "def H2_ansatz(theta):\n",
    "    HF_circ = [cirq.X.on(cirq.LineQubit(0)), cirq.X.on(cirq.LineQubit(1))]\n",
    "    \n",
    "    full_exp_circ_obj = full_exponentiated_PauliWord_circuit(QubitOperator('Y0 X1 X2 X3', -1j), theta)\n",
    "    UCCSD_circ = cirq.Circuit(cirq.decompose_once((full_exp_circ_obj(*cirq.LineQubit.range(full_exp_circ_obj.num_qubits())))))\n",
    "    full_circuit = cirq.Circuit([*HF_circ, *UCCSD_circ.all_operations()])\n",
    "    \n",
    "    return full_circuit\n"
   ]
  },
  {
   "cell_type": "markdown",
   "metadata": {},
   "source": [
    "## Wavefunction Method"
   ]
  },
  {
   "cell_type": "code",
   "execution_count": 4,
   "metadata": {},
   "outputs": [
    {
     "data": {
      "text/plain": [
       "(-1.1167593010217904+0j)"
      ]
     },
     "execution_count": 4,
     "metadata": {},
     "output_type": "execute_result"
    }
   ],
   "source": [
    "THETA = np.pi\n",
    "\n",
    "ansatz_cirq_circuit = H2_ansatz(THETA)\n",
    "\n",
    "testing =  VQE_Experiment_LCU_UP_lin_alg(anti_commuting_sets,\n",
    "                 ansatz_cirq_circuit,\n",
    "                 Hamilt.molecule.n_qubits,\n",
    "                 N_indices_dict={7:1, 8:1, 9:0, 10:0})\n",
    "testing.Calc_Energy()"
   ]
  },
  {
   "cell_type": "code",
   "execution_count": null,
   "metadata": {},
   "outputs": [],
   "source": []
  },
  {
   "cell_type": "code",
   "execution_count": 5,
   "metadata": {},
   "outputs": [
    {
     "data": {
      "text/plain": [
       "(-1.116759307338924+0j)"
      ]
     },
     "execution_count": 5,
     "metadata": {},
     "output_type": "execute_result"
    }
   ],
   "source": [
    "def GIVE_ENERGY_lin_alg(THETA):\n",
    "   \n",
    "    ansatz_cirq_circuit = H2_ansatz(THETA)\n",
    "\n",
    "    VQE_exp_LCU_lin_alg = VQE_Experiment_LCU_UP_lin_alg(anti_commuting_sets,\n",
    "                 ansatz_cirq_circuit,\n",
    "                 Hamilt.molecule.n_qubits,\n",
    "                 N_indices_dict={7:0, 8:0, 9:1, 10:1})\n",
    "    \n",
    "    return VQE_exp_LCU_lin_alg.Calc_Energy()\n",
    "\n",
    "GIVE_ENERGY_lin_alg(np.pi)"
   ]
  },
  {
   "cell_type": "code",
   "execution_count": 6,
   "metadata": {},
   "outputs": [
    {
     "name": "stdout",
     "output_type": "stream",
     "text": [
      "(-1.137019070031798+2.9477607360787903e-11j)\n"
     ]
    },
    {
     "name": "stderr",
     "output_type": "stream",
     "text": [
      "/home/lex/anaconda3/envs/QuantumUpdated/lib/python3.7/site-packages/numpy/core/_asarray.py:85: ComplexWarning: Casting complex values to real discards the imaginary part\n",
      "  return array(a, dtype, copy=False, order=order)\n"
     ]
    },
    {
     "data": {
      "image/png": "[encoded data removed]",
      "text/plain": [
       "<Figure size 432x288 with 1 Axes>"
      ]
     },
     "metadata": {
      "needs_background": "light"
     },
     "output_type": "display_data"
    }
   ],
   "source": [
    "### full angle scan\n",
    "import matplotlib.pyplot as plt\n",
    "%matplotlib inline\n",
    "\n",
    "theta_list = np.arange(0,2*np.pi, 0.1)\n",
    "# theta_list = np.arange(0.98*np.pi, 1.02*np.pi, 0.001)\n",
    "\n",
    "E_list = [GIVE_ENERGY_lin_alg(theta) for theta in theta_list]\n",
    "\n",
    "plt.plot(E_list)\n",
    "print(min(E_list))"
   ]
  },
  {
   "cell_type": "markdown",
   "metadata": {},
   "source": [
    "# longer Ansatz"
   ]
  },
  {
   "cell_type": "code",
   "execution_count": 9,
   "metadata": {},
   "outputs": [],
   "source": [
    "from quchem.Ansatz_Generator_Functions import *\n",
    "ansatz_obj = Ansatz(Hamilt.molecule.n_electrons, Hamilt.molecule.n_qubits)"
   ]
  },
  {
   "cell_type": "code",
   "execution_count": 11,
   "metadata": {},
   "outputs": [],
   "source": [
    "Sec_Quant_CC_ops_ia, Sec_Quant_CC_ops_ijab, theta_parameters_ia, theta_parameters_ijab=ansatz_obj.Get_ia_and_ijab_terms(single_cc_amplitudes=None, \n",
    "                                                                                                             double_cc_amplitudes=None, \n",
    "                                                                                                             singles_hamiltonian=None,\n",
    "                                                                                                             doubles_hamiltonian=None, \n",
    "                                                                                                             tol_filter_small_terms = None)\n",
    "\n",
    "Qubit_Op_list_Second_Quant_CC_Ops_ia, Qubit_Op_list_Second_Quant_CC_Ops_ijab = ansatz_obj.UCCSD_single_trotter_step(Sec_Quant_CC_ops_ia,\n",
    "                                                                                                                    Sec_Quant_CC_ops_ijab,\n",
    "                                                                                                                   transformation='JW')\n"
   ]
  },
  {
   "cell_type": "code",
   "execution_count": 12,
   "metadata": {},
   "outputs": [
    {
     "name": "stdout",
     "output_type": "stream",
     "text": [
      "[1, 1, 0, 0]\n"
     ]
    },
    {
     "data": {
      "text/html": [
       "<pre style=\"overflow: auto; white-space: pre;\">0: ───X───Rx(0.5π)───@───────────────────────@───Rx(-0.5π)───H───@──────────────────────@───────────H──────────H─────────────────────────────────────────────────────────────────────────────────────────────@───────────────────────────────@───────────H──────────Rx(0.5π)───@──────────────────────────────@───────────Rx(-0.5π)───Rx(0.5π)───@──────────────────────────────@───Rx(-0.5π)───H──────────@──────────────────────────────@──────────H───────────Rx(0.5π)───@───────────────────────────────────────@───────────Rx(-0.5π)───H──────────@───────────────────────────────────────@───────────H───────────H───@───────────────────────────────────────@──────────H───Rx(0.5π)───@──────────────────────────────────────@───Rx(-0.5π)───\n",
       "                     │                       │                   │                      │                                                                                                                    │                               │                                 │                              │                                  │                              │                          │                              │                                 │                                       │                                  │                                       │                           │                                       │                         │                                      │\n",
       "1: ───X──────────────X───@───────────────@───X───────────────────X───@──────────────@───X───────────Rx(0.5π)───@───────────────────────@───Rx(-0.5π)───H───@──────────────────────@───────────H──────────H───X───@───────────────────────@───X───────────H──────────Rx(0.5π)───X───@──────────────────────@───X───────────Rx(-0.5π)───H──────────X───@──────────────────────@───X───H───────────Rx(0.5π)───X───@──────────────────────@───X──────────Rx(-0.5π)───H──────────X───@───────────────────────@───────────X───────────H───────────Rx(0.5π)───X───@───────────────────────@───────────X───────────Rx(-0.5π)───H───X───@───────────────────────@───────────X──────────H───Rx(0.5π)───X───@──────────────────────@───────────X───Rx(-0.5π)───\n",
       "                         │               │                           │              │                          │                       │                   │                      │                              │                       │                                         │                      │                                          │                      │                                  │                      │                                         │                       │                                                  │                       │                                           │                       │                                         │                      │\n",
       "2: ───I───H──────────────X───Rz(-0.0π)───X───H───Rx(0.5π)────────────X───Rz(0.0π)───X───Rx(-0.5π)──────────────X───@───────────────@───X───────────────────X───@──────────────@───X───────────Rx(0.5π)───────────X───@───────────────@───X───Rx(-0.5π)───Rx(0.5π)──────────────────X───@──────────────@───X───Rx(-0.5π)───H──────────────────────────X───@──────────────@───X───H───H──────────────────────────X───@──────────────@───X───H──────────Rx(0.5π)───────────────────X───@───────────────@───X───────────Rx(-0.5π)───Rx(0.5π)───────────────────X───@───────────────@───X───────────Rx(-0.5π)───H───────────────────X───@───────────────@───X───────────H──────────H──────────────────X───@──────────────@───X───────────H───────────────\n",
       "                                                                                                                   │               │                           │              │                                      │               │                                                 │              │                                                  │              │                                          │              │                                                 │               │                                                          │               │                                                   │               │                                                 │              │\n",
       "3: ───I───H────────────────────────────────────────────────────────────────────────────────────────────────────────X───Rz(-0.0π)───X───H───Rx(0.5π)────────────X───Rz(0.0π)───X───Rx(-0.5π)───H──────────────────────X───Rz(-0.0π)───X───H───H─────────────────────────────────────────X───Rz(0.0π)───X───H───H──────────────────────────────────────────X───Rz(0.0π)───X───H───H──────────────────────────────────X───Rz(0.0π)───X───H───Rx(0.5π)──────────────────────────────────X───Rz(-0.0π)───X───Rx(-0.5π)───Rx(0.5π)───────────────────────────────────X───Rz(-0.0π)───X───Rx(-0.5π)───Rx(0.5π)────────────────────────────X───Rz(-0.0π)───X───Rx(-0.5π)───Rx(0.5π)──────────────────────────X───Rz(0.0π)───X───Rx(-0.5π)───────────────────</pre>"
      ],
      "text/plain": [
       "0: ───X───Rx(0.5π)───@───────────────────────@───Rx(-0.5π)───H───@──────────────────────@───────────H──────────H─────────────────────────────────────────────────────────────────────────────────────────────@───────────────────────────────@───────────H──────────Rx(0.5π)───@──────────────────────────────@───────────Rx(-0.5π)───Rx(0.5π)───@──────────────────────────────@───Rx(-0.5π)───H──────────@──────────────────────────────@──────────H───────────Rx(0.5π)───@───────────────────────────────────────@───────────Rx(-0.5π)───H──────────@───────────────────────────────────────@───────────H───────────H───@───────────────────────────────────────@──────────H───Rx(0.5π)───@──────────────────────────────────────@───Rx(-0.5π)───\n",
       "                     │                       │                   │                      │                                                                                                                    │                               │                                 │                              │                                  │                              │                          │                              │                                 │                                       │                                  │                                       │                           │                                       │                         │                                      │\n",
       "1: ───X──────────────X───@───────────────@───X───────────────────X───@──────────────@───X───────────Rx(0.5π)───@───────────────────────@───Rx(-0.5π)───H───@──────────────────────@───────────H──────────H───X───@───────────────────────@───X───────────H──────────Rx(0.5π)───X───@──────────────────────@───X───────────Rx(-0.5π)───H──────────X───@──────────────────────@───X───H───────────Rx(0.5π)───X───@──────────────────────@───X──────────Rx(-0.5π)───H──────────X───@───────────────────────@───────────X───────────H───────────Rx(0.5π)───X───@───────────────────────@───────────X───────────Rx(-0.5π)───H───X───@───────────────────────@───────────X──────────H───Rx(0.5π)───X───@──────────────────────@───────────X───Rx(-0.5π)───\n",
       "                         │               │                           │              │                          │                       │                   │                      │                              │                       │                                         │                      │                                          │                      │                                  │                      │                                         │                       │                                                  │                       │                                           │                       │                                         │                      │\n",
       "2: ───I───H──────────────X───Rz(-0.0π)───X───H───Rx(0.5π)────────────X───Rz(0.0π)───X───Rx(-0.5π)──────────────X───@───────────────@───X───────────────────X───@──────────────@───X───────────Rx(0.5π)───────────X───@───────────────@───X───Rx(-0.5π)───Rx(0.5π)──────────────────X───@──────────────@───X───Rx(-0.5π)───H──────────────────────────X───@──────────────@───X───H───H──────────────────────────X───@──────────────@───X───H──────────Rx(0.5π)───────────────────X───@───────────────@───X───────────Rx(-0.5π)───Rx(0.5π)───────────────────X───@───────────────@───X───────────Rx(-0.5π)───H───────────────────X───@───────────────@───X───────────H──────────H──────────────────X───@──────────────@───X───────────H───────────────\n",
       "                                                                                                                   │               │                           │              │                                      │               │                                                 │              │                                                  │              │                                          │              │                                                 │               │                                                          │               │                                                   │               │                                                 │              │\n",
       "3: ───I───H────────────────────────────────────────────────────────────────────────────────────────────────────────X───Rz(-0.0π)───X───H───Rx(0.5π)────────────X───Rz(0.0π)───X───Rx(-0.5π)───H──────────────────────X───Rz(-0.0π)───X───H───H─────────────────────────────────────────X───Rz(0.0π)───X───H───H──────────────────────────────────────────X───Rz(0.0π)───X───H───H──────────────────────────────────X───Rz(0.0π)───X───H───Rx(0.5π)──────────────────────────────────X───Rz(-0.0π)───X───Rx(-0.5π)───Rx(0.5π)───────────────────────────────────X───Rz(-0.0π)───X───Rx(-0.5π)───Rx(0.5π)────────────────────────────X───Rz(-0.0π)───X───Rx(-0.5π)───Rx(0.5π)──────────────────────────X───Rz(0.0π)───X───Rx(-0.5π)───────────────────"
      ]
     },
     "execution_count": 12,
     "metadata": {},
     "output_type": "execute_result"
    }
   ],
   "source": [
    "input_state = ansatz_obj.Get_JW_HF_state_in_OCC_basis()\n",
    "print(input_state)\n",
    "\n",
    "UCCSD_ansatz_Q_Circ_obj = Ansatz_Circuit(input_state,\n",
    "                                     Qubit_Op_list_Second_Quant_CC_Ops_ia, \n",
    "                                     Qubit_Op_list_Second_Quant_CC_Ops_ijab)\n",
    "\n",
    "ansatz_cirq_circuit =UCCSD_ansatz_Q_Circ_obj.Get_Full_HF_UCCSD_QC(Theta_param_list_ia=theta_parameters_ia, \n",
    "                                         Theta_param_list_ijab=theta_parameters_ijab,\n",
    "                                         ia_first=True)\n",
    "ansatz_cirq_circuit"
   ]
  },
  {
   "cell_type": "code",
   "execution_count": 13,
   "metadata": {},
   "outputs": [],
   "source": [
    "def GIVE_ENERGY_lin_alg_LONG(theta_ia_ijab):\n",
    "    \n",
    "    theta_ia= theta_ia_ijab[:(len(theta_parameters_ia))]\n",
    "    theta_ijab=theta_ia_ijab[(len(theta_parameters_ia)):]\n",
    "   \n",
    "    ansatz_cirq_circuit =UCCSD_ansatz_Q_Circ_obj.Get_Full_HF_UCCSD_QC(\n",
    "                                         Theta_param_list_ia=theta_ia, \n",
    "                                         Theta_param_list_ijab=theta_ijab,\n",
    "                                         ia_first=True)\n",
    "\n",
    "    VQE_exp_LCU_lin_alg = VQE_Experiment_LCU_UP_lin_alg(anti_commuting_sets,\n",
    "                 ansatz_cirq_circuit,\n",
    "                 Hamilt.molecule.n_qubits,\n",
    "                 N_indices_dict={7:0, 8:1, 9:0, 10:0})\n",
    "    \n",
    "    return VQE_exp_LCU_lin_alg.Calc_Energy()\n"
   ]
  },
  {
   "cell_type": "code",
   "execution_count": 14,
   "metadata": {},
   "outputs": [
    {
     "data": {
      "text/plain": [
       "(-0.883115805647286+4.0852376396249006e-09j)"
      ]
     },
     "execution_count": 14,
     "metadata": {},
     "output_type": "execute_result"
    }
   ],
   "source": [
    "import random\n",
    "\n",
    "theta_ia_random_input = [random.uniform(0, 2*np.pi) for _ in range(len(theta_parameters_ia))]\n",
    "theta_ijab_random_input = [random.uniform(0, 2*np.pi) for _ in range(len(theta_parameters_ijab))]\n",
    "\n",
    "theta_combined_random_input = [*theta_ia_random_input, *theta_ijab_random_input]\n",
    "\n",
    "GIVE_ENERGY_lin_alg_LONG(theta_combined_random_input)"
   ]
  },
  {
   "cell_type": "code",
   "execution_count": 15,
   "metadata": {},
   "outputs": [],
   "source": [
    "def calc_gradient_ADAM(theta_ia_theta_jab_list):\n",
    "    \n",
    "    grad_list=[]\n",
    "    \n",
    "    for index, theta in enumerate(theta_ia_theta_jab_list):\n",
    "        \n",
    "        new_theta_list = theta_ia_theta_jab_list.copy()\n",
    "        new_theta_list[index] = theta + np.pi/4\n",
    "        \n",
    "        Obs_PLUS = GIVE_ENERGY_lin_alg_LONG(new_theta_list)\n",
    "               \n",
    "        \n",
    "        new_theta_list[index] = theta - np.pi/4\n",
    "        Obs_MINUS = GIVE_ENERGY_lin_alg_LONG(new_theta_list)\n",
    "        \n",
    "        gradient = Obs_PLUS - Obs_MINUS\n",
    "        \n",
    "        grad_list.append(gradient)\n",
    "        \n",
    "\n",
    "    return np.array(grad_list)"
   ]
  },
  {
   "cell_type": "code",
   "execution_count": 16,
   "metadata": {},
   "outputs": [],
   "source": [
    "### optimizer\n",
    "from quchem.Scipy_Optimizer import _minimize_Adam, Optimizer"
   ]
  },
  {
   "cell_type": "code",
   "execution_count": 17,
   "metadata": {},
   "outputs": [
    {
     "name": "stdout",
     "output_type": "stream",
     "text": [
      "0: Input_to_Funct: [1.13189655+1.74985551e-16j 2.02916824+1.89446487e-15j\n",
      " 2.02586403+9.32849474e-17j]: Output: (-0.9370993646282919-2.4935511939569816e-08j)\n",
      "1: Input_to_Funct: [1.22861598+5.23435548e-09j 2.03588018+4.51062884e-08j\n",
      " 1.93149576-3.04931789e-09j]: Output: (-0.9657723456975166+2.702998828653297e-08j)\n",
      "2: Input_to_Funct: [1.32192199+5.73264058e-10j 1.98826812+6.67969809e-08j\n",
      " 1.84280032-3.27009219e-09j]: Output: (-1.0049383448800264+4.774874923686198e-08j)\n",
      "3: Input_to_Funct: [1.41247994+6.00250268e-09j 1.91985457+8.00313535e-08j\n",
      " 1.75955284-1.26839753e-08j]: Output: (-1.0478268118050449+3.04066217525044e-08j)\n",
      "4: Input_to_Funct: [1.49939236-7.19525359e-09j 1.84109024+8.73881901e-08j\n",
      " 1.68470804-6.01017001e-09j]: Output: (-1.0837975683629748+3.4264883175558975e-08j)\n",
      "5: Input_to_Funct: [1.57799582-2.03857401e-08j 1.75677124+9.31005098e-08j\n",
      " 1.6255498 +8.23218893e-09j]: Output: (-1.1048183852344402+2.0934232654674252e-08j)\n",
      "6: Input_to_Funct: [1.63737969-3.22814816e-08j 1.67066777+9.50862315e-08j\n",
      " 1.59095554+1.52870548e-08j]: Output: (-1.111879718878242+1.0449199148845755e-08j)\n",
      "7: Input_to_Funct: [1.66661797-4.31766639e-08j 1.58718596+9.60099121e-08j\n",
      " 1.58356699+2.47863662e-08j]: Output: (-1.1137964221374643-4.07810074812513e-08j)\n",
      "8: Input_to_Funct: [1.66705368-4.92977070e-08j 1.5115172 +8.92501292e-08j\n",
      " 1.59854652+3.71914234e-08j]: Output: (-1.1162009090703395-4.60953548430673e-09j)\n",
      "9: Input_to_Funct: [1.64756409-5.12198013e-08j 1.44879806+7.69452900e-08j\n",
      " 1.62873265+4.00629942e-08j]: Output: (-1.1179209001422232-3.3593710544098486e-08j)\n",
      "10: Input_to_Funct: [1.61776931-4.67011107e-08j 1.40292424+5.88185591e-08j\n",
      " 1.66698004+3.76116488e-08j]: Output: (-1.115504961563775-6.747403147211076e-09j)\n",
      "11: Input_to_Funct: [1.58794502-3.57829119e-08j 1.375642  +3.65817425e-08j\n",
      " 1.70576394+2.95721560e-08j]: Output: (-1.1080794941791179+9.280427618169119e-10j)\n",
      "12: Input_to_Funct: [1.5686422 +1.68910062e-10j 1.36643232+1.24904035e-08j\n",
      " 1.7371891 +1.18675654e-08j]: Output: (-1.10014631723955-1.620522968508737e-08j)\n",
      "13: Input_to_Funct: [1.56577841+2.04108597e-08j 1.37309028-1.07298728e-08j\n",
      " 1.75529702-8.12056126e-09j]: Output: (-1.0982996159331408+1.0120788745810932e-08j)\n",
      "14: Input_to_Funct: [1.57806806+3.87839925e-08j 1.3925324 -3.08292087e-08j\n",
      " 1.75842915-2.77501712e-08j]: Output: (-1.1044643910402563-1.309321532020898e-08j)\n",
      "15: Input_to_Funct: [1.60004858+4.95353734e-08j 1.42142506-4.67899696e-08j\n",
      " 1.74859657-3.80642356e-08j]: Output: (-1.1149442630575395+1.222304326565416e-08j)\n",
      "16: Input_to_Funct: [1.6244679 +7.01540796e-08j 1.45649229-5.67902946e-08j\n",
      " 1.72955368-3.68663491e-08j]: Output: (-1.124502813651913-4.852612260585649e-09j)\n",
      "17: Input_to_Funct: [1.64342835+7.81840569e-08j 1.49464834-6.45271312e-08j\n",
      " 1.70559139-3.13361677e-08j]: Output: (-1.130180349597175-5.59738537760998e-10j)\n",
      "18: Input_to_Funct: [1.65068689+7.27554544e-08j 1.53310421-6.85327649e-08j\n",
      " 1.68098391-2.88164373e-08j]: Output: (-1.1321975642872104+4.361707016785088e-09j)\n",
      "19: Input_to_Funct: [1.64407597+6.37421541e-08j 1.56945011-6.90776745e-08j\n",
      " 1.6596005 -2.38317256e-08j]: Output: (-1.1321613722103658+4.3171483744765145e-10j)\n",
      "20: Input_to_Funct: [1.62528643+6.01036397e-08j 1.60167827-6.51668078e-08j\n",
      " 1.64450133-1.09477766e-08j]: Output: (-1.1313366626095296+1.840598956968195e-08j)\n",
      "21: Input_to_Funct: [1.59813577+4.77843916e-08j 1.62819587-5.91441620e-08j\n",
      " 1.63755814-1.75633509e-10j]: Output: (-1.1303527906831796-1.174262366570474e-08j)\n",
      "22: Input_to_Funct: [1.56738059+2.35286978e-08j 1.64789005-5.09798133e-08j\n",
      " 1.63925224+1.73516603e-08j]: Output: (-1.1294966124214156-8.070580633487628e-09j)\n",
      "23: Input_to_Funct: [1.5380736 -8.97848097e-09j 1.66022679-4.36764371e-08j\n",
      " 1.64873358+3.48502514e-08j]: Output: (-1.128934067119847-7.355112281171705e-09j)\n",
      "24: Input_to_Funct: [1.51480091-3.34133028e-08j 1.66530323-3.56284069e-08j\n",
      " 1.66405083+3.16840439e-08j]: Output: (-1.12876056649142+1.3726253337029693e-09j)\n",
      "25: Input_to_Funct: [1.50072158-5.28243404e-08j 1.66378779-2.67060005e-08j\n",
      " 1.68242353+1.26506369e-08j]: Output: (-1.1289421417034227-7.148497068931824e-09j)\n",
      "26: Input_to_Funct: [1.4969876 -6.91482535e-08j 1.65674921-1.46912139e-08j\n",
      " 1.70055673-5.06370196e-09j]: Output: (-1.1293578343298722-6.385895960104027e-09j)\n",
      "27: Input_to_Funct: [1.5029156 -8.11925200e-08j 1.64543296-1.61413483e-09j\n",
      " 1.71511652-1.55881281e-08j]: Output: (-1.130021599191121-6.580470769386215e-10j)\n",
      "28: Input_to_Funct: [1.51658928-7.42588091e-08j 1.63106009+1.05590757e-08j\n",
      " 1.72341166-1.16052163e-08j]: Output: (-1.1311590565173657-3.2953892675258374e-09j)\n",
      "29: Input_to_Funct: [1.53542092-5.61721644e-08j 1.6147114 +2.32020529e-08j\n",
      " 1.72406006-1.31363086e-09j]: Output: (-1.1328996758314165+6.238532879279841e-09j)\n",
      "30: Input_to_Funct: [1.55651225-2.13578213e-08j 1.59732345+3.56412462e-08j\n",
      " 1.71729495+4.15613824e-09j]: Output: (-1.1349078607711665+1.1840203031421369e-09j)\n",
      "31: Input_to_Funct: [1.57690312+2.07062133e-08j 1.57976792+4.40752223e-08j\n",
      " 1.70481813+2.57306740e-09j]: Output: (-1.136436697320592+1.8333280894273593e-09j)\n",
      "32: Input_to_Funct: [1.59385314+5.19990125e-08j 1.56294211+4.65243319e-08j\n",
      " 1.68937933-6.92309864e-09j]: Output: (-1.1368310722134178-4.226433227216735e-10j)\n",
      "33: Input_to_Funct: [1.60521865+7.68867792e-08j 1.54779725+4.25937831e-08j\n",
      " 1.67422435-6.69157723e-09j]: Output: (-1.136055260205133+2.645559740001932e-09j)\n",
      "34: Input_to_Funct: [1.60983872+9.50598720e-08j 1.53527333+3.31172155e-08j\n",
      " 1.66242653-1.04785187e-08j]: Output: (-1.134773963944918+4.687512679909627e-09j)\n",
      "35: Input_to_Funct: [1.60775726+1.02674880e-07j 1.52617029+2.25910192e-08j\n",
      " 1.65618282-1.07544279e-08j]: Output: (-1.1338789526926045+6.113466401953612e-09j)\n",
      "36: Input_to_Funct: [1.60018442+9.47040306e-08j 1.52102403+1.05984020e-08j\n",
      " 1.65632152-1.24652266e-08j]: Output: (-1.133854271446653+1.0690522788453991e-09j)\n",
      "37: Input_to_Funct: [1.58922984+7.06868973e-08j 1.52004206+3.88626377e-11j\n",
      " 1.66222242-1.00041672e-09j]: Output: (-1.1345257269500784+1.527939279013923e-09j)\n",
      "38: Input_to_Funct: [1.57747239+2.48559883e-08j 1.52310412-1.03709245e-08j\n",
      " 1.67210508+1.46175694e-08j]: Output: (-1.135348911950963+1.8591719294388643e-09j)\n",
      "39: Input_to_Funct: [1.5674066 -1.96341816e-08j 1.5297949 -2.12328539e-08j\n",
      " 1.68351447+2.76047015e-08j]: Output: (-1.1359009580455022+1.4603998061760493e-09j)\n",
      "40: Input_to_Funct: [1.5608579 -5.96846246e-08j 1.53943667-3.13906038e-08j\n",
      " 1.69388205+2.05012000e-08j]: Output: (-1.1361365380826955+3.42007736809496e-09j)\n",
      "41: Input_to_Funct: [1.55856402-7.66898970e-08j 1.55111706-3.72072037e-08j\n",
      " 1.70108091-6.02382029e-09j]: Output: (-1.1362640551311858-6.920113106583819e-10j)\n",
      "42: Input_to_Funct: [1.56009685-8.30560682e-08j 1.56373465-3.47567687e-08j\n",
      " 1.70385757-2.80037633e-08j]: Output: (-1.1364559120629996+1.3218950991499334e-10j)\n",
      "43: Input_to_Funct: [1.56412812-8.47043328e-08j 1.57608822-2.98769037e-08j\n",
      " 1.70202406-3.80168981e-08j]: Output: (-1.1366904800620803+5.997732736277403e-10j)\n",
      "44: Input_to_Funct: [1.56890306-7.59378456e-08j 1.58701228-2.53085592e-08j\n",
      " 1.69638635-4.52245779e-08j]: Output: (-1.1368205946566552+1.0476909639939798e-09j)\n",
      "45: Input_to_Funct: [1.5727615 -5.41784934e-08j 1.59553117-1.70060019e-08j\n",
      " 1.68848045-4.36372221e-08j]: Output: (-1.1367416881523391+7.131044304872545e-10j)\n",
      "46: Input_to_Funct: [1.57456383-3.38815248e-08j 1.60098631-7.98294566e-09j\n",
      " 1.68020397-4.48520492e-08j]: Output: (-1.1364965131661242+2.290320288698603e-09j)\n",
      "47: Input_to_Funct: [1.57391481-1.08044313e-08j 1.60310144+3.57270442e-09j\n",
      " 1.67340472-4.75043309e-08j]: Output: (-1.1362536505523713+2.5600348010487047e-09j)\n",
      "48: Input_to_Funct: [1.57115536+9.54089252e-09j 1.60197955+1.42018356e-08j\n",
      " 1.66948629-4.49127830e-08j]: Output: (-1.1361929862171476-6.784350201526619e-10j)\n",
      "49: Input_to_Funct: [1.56717754+1.77844993e-08j 1.59804981+2.71417505e-08j\n",
      " 1.66911381-3.44718901e-08j]: Output: (-1.1363808960902155+2.6502293316636326e-09j)\n",
      "50: Input_to_Funct: [1.56315085+1.91893219e-08j 1.5919875 +3.51601243e-08j\n",
      " 1.6720988 -2.36092682e-08j]: Output: (-1.1367233139262254+3.694373358348594e-10j)\n",
      "51: Input_to_Funct: [1.56023243+2.67015357e-08j 1.58462009+4.08827725e-08j\n",
      " 1.67748976-7.01808655e-09j]: Output: (-1.1370353799997015-9.033349056046013e-11j)\n"
     ]
    },
    {
     "name": "stdout",
     "output_type": "stream",
     "text": [
      "52: Input_to_Funct: [1.55930715+1.58508528e-08j 1.57682355+4.07657996e-08j\n",
      " 1.68383561+2.24956553e-09j]: Output: (-1.1371763056274724+7.663608722079591e-10j)\n",
      "53: Input_to_Funct: [1.56079299-5.80062331e-09j 1.56941499+3.73504315e-08j\n",
      " 1.68955586+1.05385643e-08j]: Output: (-1.1371403486251281-9.747115797083889e-10j)\n",
      "54: Input_to_Funct: [1.56454276-2.40696579e-08j 1.56305788+3.03105491e-08j\n",
      " 1.69333197+2.00203004e-08j]: Output: (-1.1370326997689595-7.273599239636366e-11j)\n",
      "55: Input_to_Funct: [1.56986509-4.56194230e-08j 1.55820121+2.08364673e-08j\n",
      " 1.69441944+2.58103048e-08j]: Output: (-1.1369631815031456+2.2079896372318765e-09j)\n",
      "56: Input_to_Funct: [1.5756684 -6.66650259e-08j 1.55506598+9.65857870e-09j\n",
      " 1.6927943 +3.74993568e-08j]: Output: (-1.1369627544705976+1.8859589170930877e-09j)\n",
      "57: Input_to_Funct: [1.58070923-7.43494261e-08j 1.55367391+2.16290481e-09j\n",
      " 1.68910193+4.38867675e-08j]: Output: (-1.1369906329498922-8.104803635094856e-11j)\n",
      "58: Input_to_Funct: [1.58389461-6.29045138e-08j 1.55389812-2.26841479e-09j\n",
      " 1.68444079+2.97564763e-08j]: Output: (-1.1370033685141105-4.783577113530388e-10j)\n",
      "59: Input_to_Funct: [1.58455917-4.18262304e-08j 1.55551341-3.10047405e-09j\n",
      " 1.68005217+1.01862794e-08j]: Output: (-1.1370043210165293+3.1038158427942006e-09j)\n",
      "60: Input_to_Funct: [1.58263187-1.34566509e-09j 1.55823365-1.38714650e-09j\n",
      " 1.67699954-2.19879790e-08j]: Output: (-1.1370297992591385+1.8340342461871788e-10j)\n",
      "61: Input_to_Funct: [1.57863987+3.60851134e-08j 1.5617371 +5.05221784e-10j\n",
      " 1.67591788-4.37493510e-08j]: Output: (-1.1370996206262687+2.2162086993283485e-09j)\n",
      "62: Input_to_Funct: [1.57355405+6.81585088e-08j 1.56568571+6.86103928e-09j\n",
      " 1.67689181-6.03796865e-08j]: Output: (-1.1371895954259368+4.565575313488786e-09j)\n",
      "63: Input_to_Funct: [1.56852687+8.32935917e-08j 1.56974279+1.15206656e-08j\n",
      " 1.67948298-5.53186649e-08j]: Output: (-1.137250858048037+2.0884653620998947e-09j)\n",
      "64: Input_to_Funct: [1.56459769+8.40846664e-08j 1.57358811+8.46719807e-09j\n",
      " 1.68288477-3.26644636e-08j]: Output: (-1.1372528840431755-1.00385401445533e-09j)\n",
      "65: Input_to_Funct: [1.56244688+5.70620845e-08j 1.576929  +9.34727810e-09j\n",
      " 1.6861545 -7.36353080e-09j]: Output: (-1.1372075540811135+1.5808653806919085e-09j)\n",
      "66: Input_to_Funct: [1.56226416+2.92103478e-08j 1.57951011+8.17666714e-09j\n",
      " 1.68846153+1.52992884e-08j]: Output: (-1.1371561673639012+9.762397596422244e-10j)\n",
      "67: Input_to_Funct: [1.5637588 +5.93736052e-09j 1.58112751+7.77220463e-09j\n",
      " 1.68929008+2.30616975e-08j]: Output: (-1.1371355904784906+8.273713853839143e-10j)\n",
      "68: Input_to_Funct: [1.56629293-1.89942325e-08j 1.58165077+2.16441268e-09j\n",
      " 1.68854894+1.01413972e-08j]: Output: (-1.1371535357958533-5.241571477542037e-10j)\n",
      "69: Input_to_Funct: [1.56908644-3.05175222e-08j 1.58104923-1.60938021e-09j\n",
      " 1.6865651 -3.22338370e-09j]: Output: (-1.1371907766653337+2.182887374102971e-09j)\n",
      "70: Input_to_Funct: [1.57143144-4.48248458e-08j 1.57941168-5.32696376e-09j\n",
      " 1.68396953-1.37580892e-08j]: Output: (-1.1372228221669516+2.228421172383052e-09j)\n",
      "71: Input_to_Funct: [1.57286062-4.21962658e-08j 1.5769487 -6.59663055e-09j\n",
      " 1.6815096 -1.92953023e-08j]: Output: (-1.137239170350145-1.9830822309184825e-10j)\n",
      "72: Input_to_Funct: [1.57323282-2.70964738e-08j 1.57397181-3.99917175e-09j\n",
      " 1.67984029-3.47242733e-08j]: Output: (-1.1372458469554507+2.194171607093651e-10j)\n",
      "73: Input_to_Funct: [1.57272423+2.80907625e-09j 1.57085273+2.40453593e-09j\n",
      " 1.67935104-3.13165728e-08j]: Output: (-1.1372519092175577-1.0187357678955747e-09j)\n",
      "74: Input_to_Funct: [1.57173739+3.01852768e-08j 1.56797095+9.21961776e-09j\n",
      " 1.68007551-1.91915399e-08j]: Output: (-1.1372579066857569+8.985071187187849e-10j)\n",
      "Warning: Maximum number of iterations has been exceeded.\n",
      "Maximum number of iterations has been exceeded.\n"
     ]
    },
    {
     "name": "stderr",
     "output_type": "stream",
     "text": [
      "/home/lex/anaconda3/envs/QuantumUpdated/lib/python3.7/site-packages/numpy/core/_asarray.py:85: ComplexWarning: Casting complex values to real discards the imaginary part\n",
      "  return array(a, dtype, copy=False, order=order)\n"
     ]
    },
    {
     "data": {
      "image/png": "[encoded data removed]",
      "text/plain": [
       "<Figure size 432x288 with 1 Axes>"
      ]
     },
     "metadata": {
      "needs_background": "light"
     },
     "output_type": "display_data"
    }
   ],
   "source": [
    "custom_optimizer_DICT = {'learning_rate': 0.1, 'beta_1': 0.9, 'beta_2': 0.999, 'epsilon': 1e-8,\n",
    "                           'delta': 1e-8, 'maxfev': 15000}\n",
    "\n",
    "GG = Optimizer(GIVE_ENERGY_lin_alg_LONG,\n",
    "                   theta_combined_random_input,\n",
    "                   args=(),\n",
    "                   method=_minimize_Adam,\n",
    "                   jac=calc_gradient_ADAM,\n",
    "                   hess=None,\n",
    "                   hessp=None,\n",
    "                      bounds=None,\n",
    "                   constraints=None,\n",
    "                   tol=1e-20, \n",
    "                   display_convergence_message=True,\n",
    "                   display_steps=True, \n",
    "                   custom_optimizer_DICT=custom_optimizer_DICT)\n",
    "GG.get_env(75)\n",
    "GG.plot_convergence()\n",
    "plt.show()"
   ]
  },
  {
   "cell_type": "code",
   "execution_count": 18,
   "metadata": {},
   "outputs": [
    {
     "data": {
      "text/plain": [
       "-1.137283834488502"
      ]
     },
     "execution_count": 18,
     "metadata": {},
     "output_type": "execute_result"
    }
   ],
   "source": [
    "Hamilt.molecule.fci_energy"
   ]
  },
  {
   "cell_type": "markdown",
   "metadata": {},
   "source": [
    "# Checking with circuit model"
   ]
  },
  {
   "cell_type": "code",
   "execution_count": null,
   "metadata": {},
   "outputs": [],
   "source": [
    "N_index = 1\n",
    "\n",
    "R_uncorrected, Pn, gamma_l = Get_R_linear_combination(anti_commuting_sets[9], N_index)\n",
    "R_corrected_Op_list, R_corr_list, ancilla_amplitudes, l1 = absorb_complex_phases(R_uncorrected)\n",
    "\n",
    "\n",
    "Q_circuit_no_M_gates = Full_Q_Circuit_NO_M_gates_and_no_Pn(Pn, R_corrected_Op_list, R_corr_list, ancilla_amplitudes, Hamilt.molecule.n_qubits, ansatz_cirq_circuit)\n",
    "Q_circuit_no_M_gates\n",
    "\n",
    "\n",
    "# # unitary check\n",
    "# np.allclose(np.eye(2**5), np.matmul(Q_circuit_no_M_gates._unitary_(), Q_circuit_no_M_gates._unitary_().conj().transpose()))"
   ]
  },
  {
   "cell_type": "code",
   "execution_count": null,
   "metadata": {},
   "outputs": [],
   "source": [
    "simulator = cirq.Simulator()\n",
    "output_ket = simulator.compute_amplitudes(Q_circuit_no_M_gates,\n",
    "                                      bitstrings=[i for i in range(2 ** len(Q_circuit_no_M_gates.all_qubits()))])\n",
    "\n",
    "\n",
    "output_ket = output_ket.reshape([output_ket.shape[0],1])\n",
    "output_ket"
   ]
  },
  {
   "cell_type": "code",
   "execution_count": null,
   "metadata": {},
   "outputs": [],
   "source": [
    "full_density_matrix = np.outer(output_ket, output_ket)\n",
    "\n",
    "## Want to project using all 0 ancilla measurement!\n",
    "n_qubits = 5\n",
    "n_ancilla = 1\n",
    "n_system = n_qubits - n_ancilla\n",
    "\n",
    "I_system_operator = np.eye(2**(n_system))\n",
    "\n",
    "zero_state = np.array([[1],[0]])\n",
    "ancilla_0_state_list = [zero_state for _ in range(n_ancilla)]\n",
    "ancilla_0_state = reduce(np.kron, ancilla_0_state_list)\n",
    "\n",
    "ancilla_0_projector = np.outer(ancilla_0_state,ancilla_0_state)\n",
    "POVM_0_ancilla = np.kron(I_system_operator, ancilla_0_projector)\n",
    "Kraus_Op_0 = POVM_0_ancilla.copy()"
   ]
  },
  {
   "cell_type": "code",
   "execution_count": null,
   "metadata": {},
   "outputs": [],
   "source": []
  },
  {
   "cell_type": "code",
   "execution_count": null,
   "metadata": {},
   "outputs": [],
   "source": [
    "term = Kraus_Op_0.dot(full_density_matrix.dot(Kraus_Op_0.transpose().conj()))\n",
    "term"
   ]
  },
  {
   "cell_type": "code",
   "execution_count": null,
   "metadata": {},
   "outputs": [],
   "source": [
    "projected_density_matrix = term/np.trace(term) # projected into correct ancilla space!"
   ]
  },
  {
   "cell_type": "code",
   "execution_count": null,
   "metadata": {},
   "outputs": [],
   "source": [
    "projected_density_matrix.shape"
   ]
  },
  {
   "cell_type": "code",
   "execution_count": null,
   "metadata": {},
   "outputs": [],
   "source": [
    "projected_density_matrix"
   ]
  },
  {
   "cell_type": "markdown",
   "metadata": {},
   "source": [
    "For example, suppose you have a matrix representing an object in a space V=V1⊗V2\n",
    "with V1 of dimension 2 and V2 of dimension 4\n",
    "\n",
    "Here is how partial trace the first space:\n",
    "\n",
    "dm = denstiy matrix\n",
    "\n",
    "reshape to do the partial trace easily using np.einsum\n",
    "\n",
    "reshaped_dm = dm.reshape([2, 4, 2, 4])\n",
    "\n",
    "\n",
    "compute the partial trace\n",
    "\n",
    "reduced_dm = np.einsum('ijik->jk', reshaped_dm)"
   ]
  },
  {
   "cell_type": "code",
   "execution_count": null,
   "metadata": {},
   "outputs": [],
   "source": [
    "[2**n_system,2**n_ancilla,2**n_system,2**n_ancilla]"
   ]
  },
  {
   "cell_type": "code",
   "execution_count": null,
   "metadata": {},
   "outputs": [],
   "source": [
    "reshaped_dm = projected_density_matrix.reshape([2**n_system,2**n_ancilla,2**n_system,2**n_ancilla])"
   ]
  },
  {
   "cell_type": "code",
   "execution_count": null,
   "metadata": {},
   "outputs": [],
   "source": [
    "reduced_dm = np.einsum('jiki->jk', reshaped_dm) "
   ]
  },
  {
   "cell_type": "code",
   "execution_count": null,
   "metadata": {},
   "outputs": [],
   "source": [
    "reduced_dm.shape"
   ]
  },
  {
   "cell_type": "code",
   "execution_count": null,
   "metadata": {},
   "outputs": [],
   "source": [
    "2**4"
   ]
  },
  {
   "cell_type": "code",
   "execution_count": null,
   "metadata": {},
   "outputs": [],
   "source": []
  },
  {
   "cell_type": "code",
   "execution_count": null,
   "metadata": {},
   "outputs": [],
   "source": []
  },
  {
   "cell_type": "code",
   "execution_count": null,
   "metadata": {},
   "outputs": [],
   "source": []
  },
  {
   "cell_type": "code",
   "execution_count": null,
   "metadata": {},
   "outputs": [],
   "source": [
    "input_state = [ np.array([[1],[0]]) for _ in range(len(Q_circuit_no_M_gates.all_qubits()))]\n",
    "input_ket = reduce(kron, input_state)\n",
    "circuit_matrix = Q_circuit_no_M_gates.unitary()\n",
    "\n",
    "output_ket = np.array(circuit_matrix.dot(input_ket.todense()))\n",
    "np.around(output_ket, 3)\n",
    "\n",
    "\n",
    "# simulator = cirq.Simulator()\n",
    "# output_ket = simulator.compute_amplitudes(Q_circuit_no_M_gates,\n",
    "#                                       bitstrings=[i for i in range(2 ** len(Q_circuit_no_M_gates.all_qubits()))])\n",
    "# output_ket.reshape([output_ket.shape[0], 1])"
   ]
  },
  {
   "cell_type": "code",
   "execution_count": null,
   "metadata": {},
   "outputs": [],
   "source": [
    "from quchem.Simulating_Quantum_Circuit import *\n",
    "\n",
    "set_selected =anti_commuting_sets[9]\n",
    "N_index=1\n",
    "\n",
    "# Ansatz\n",
    "ansatz_cirq_circuit = full_ansatz_Q_Circ.Get_Full_HF_UCCSD_QC(theta_parameters_ia, theta_parameters_ijab)\n",
    "# ansatz_cirq_circuit = H2_ansatz(3.225)\n",
    "\n",
    "R_uncorrected, Pn, gamma_l = Get_R_linear_combination(set_selected, N_index)\n",
    "R_corrected_Op_list, R_corr_list, ancilla_amplitudes, l1 = absorb_complex_phases(R_uncorrected)\n",
    "\n",
    "\n",
    "aa = Full_Q_Circuit(Pn, R_corrected_Op_list, R_corr_list, ancilla_amplitudes, Hamilt.molecule.n_qubits, ansatz_cirq_circuit)\n",
    "output_bin_dict = Get_binary_dict_project(aa, Pn, 100000, 4, ancilla_amplitudes, l1)\n",
    "print(output_bin_dict)\n",
    "print(Pn)\n",
    "print(R_corr_list)\n",
    "expectation_value_by_parity(output_bin_dict) * gamma_l "
   ]
  },
  {
   "cell_type": "code",
   "execution_count": null,
   "metadata": {},
   "outputs": [],
   "source": [
    "aa"
   ]
  },
  {
   "cell_type": "code",
   "execution_count": null,
   "metadata": {},
   "outputs": [],
   "source": []
  },
  {
   "cell_type": "code",
   "execution_count": null,
   "metadata": {},
   "outputs": [],
   "source": []
  },
  {
   "cell_type": "code",
   "execution_count": null,
   "metadata": {},
   "outputs": [],
   "source": [
    "input_state = [ np.array([[1],[0]]) for _ in range(len(Q_circuit_no_M_gates.all_qubits()))]\n",
    "input_ket = reduce(kron, input_state)\n",
    "circuit_matrix = Q_circuit_no_M_gates.unitary()\n",
    "\n",
    "output_ket = np.array(circuit_matrix.dot(input_ket.todense()))\n",
    "np.around(output_ket, 3)"
   ]
  },
  {
   "cell_type": "code",
   "execution_count": null,
   "metadata": {},
   "outputs": [],
   "source": [
    "simulator = cirq.Simulator()\n",
    "output_ket = simulator.compute_amplitudes(Q_circuit_no_M_gates,\n",
    "                                      bitstrings=[i for i in range(2 ** len(Q_circuit_no_M_gates.all_qubits()))])\n",
    "output_ket.reshape([output_ket.shape[0], 1])"
   ]
  },
  {
   "cell_type": "code",
   "execution_count": null,
   "metadata": {},
   "outputs": [],
   "source": [
    "sum(i**2 for i in output_ket.reshape([output_ket.shape[0], 1]))"
   ]
  },
  {
   "cell_type": "code",
   "execution_count": null,
   "metadata": {},
   "outputs": [],
   "source": [
    "ket = output_ket.reshape([output_ket.shape[0], 1])\n",
    "\n",
    "bra = ket.transpose().conj()\n",
    "\n",
    "energy = bra.dot(ket)\n",
    "energy"
   ]
  },
  {
   "cell_type": "code",
   "execution_count": null,
   "metadata": {},
   "outputs": [],
   "source": [
    "simulator = cirq.Simulator()\n",
    "output_ket = simulator.compute_amplitudes(Q_circuit_no_M_gates,\n",
    "                                          bitstrings=[i for i in\n",
    "                                                      range(2 ** len(Q_circuit_no_M_gates.all_qubits()))])\n",
    "\n",
    "output_ket = output_ket.reshape([output_ket.shape[0], 1])\n",
    "np.around(output_ket, 5)\n"
   ]
  },
  {
   "cell_type": "code",
   "execution_count": null,
   "metadata": {},
   "outputs": [],
   "source": [
    "PauliOp = QubitOperator('X1 Z3', 1)\n",
    "list_Q_nos, list_P_strs = list(zip(*[Paulistrs for Paulistrs, const in PauliOp.terms.items()][0]))\n",
    "list_Q_nos"
   ]
  },
  {
   "cell_type": "code",
   "execution_count": null,
   "metadata": {},
   "outputs": [],
   "source": [
    "n_qubits = 5\n",
    "\n",
    "new_state = np.zeros([2**len(list_Q_nos),1], dtype=complex)\n",
    "for index, val in enumerate(output_ket[:,0]):\n",
    "    binary_string = Get_state_as_str(n_qubits, index)\n",
    "    new_key=''.join([bit for qubitNo, bit in enumerate(binary_string) if qubitNo in list_Q_nos])\n",
    "#     print(new_key)\n",
    "    new_state[int(new_key,2),0]= np.sqrt(new_state[int(new_key,2),0]**2 + val**2)\n",
    "new_state"
   ]
  },
  {
   "cell_type": "code",
   "execution_count": null,
   "metadata": {},
   "outputs": [],
   "source": [
    "sum(np.abs(i)**2 for i in new_state)"
   ]
  },
  {
   "cell_type": "code",
   "execution_count": null,
   "metadata": {},
   "outputs": [],
   "source": []
  },
  {
   "cell_type": "code",
   "execution_count": null,
   "metadata": {},
   "outputs": [],
   "source": [
    "import numpy as np\n",
    "\n",
    "np.outer(np.array([1,0]), np.array([1,0]))"
   ]
  },
  {
   "cell_type": "code",
   "execution_count": null,
   "metadata": {},
   "outputs": [],
   "source": [
    "np.trace(np.eye(2))"
   ]
  },
  {
   "cell_type": "code",
   "execution_count": null,
   "metadata": {},
   "outputs": [],
   "source": []
  }
 ],
 "metadata": {
  "kernelspec": {
   "display_name": "Python 3",
   "language": "python",
   "name": "python3"
  },
  "language_info": {
   "codemirror_mode": {
    "name": "ipython",
    "version": 3
   },
   "file_extension": ".py",
   "mimetype": "text/x-python",
   "name": "python",
   "nbconvert_exporter": "python",
   "pygments_lexer": "ipython3",
   "version": "3.7.6"
  }
 },
 "nbformat": 4,
 "nbformat_minor": 4
}
