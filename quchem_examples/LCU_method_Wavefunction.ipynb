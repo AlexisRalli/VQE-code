{
 "cells": [
  {
   "cell_type": "code",
   "execution_count": 4,
   "metadata": {},
   "outputs": [
    {
     "name": "stderr",
     "output_type": "stream",
     "text": [
      "Building Graph Edges: 100%|##########| 15/15 [00:00<00:00, 699.15it/s]\n"
     ]
    },
    {
     "data": {
      "text/plain": [
       "{0: [(0.12062523483390414+0j) [Z0 Z2]],\n",
       " 1: [(0.1744128761226159+0j) [Z2 Z3]],\n",
       " 2: [(0.16868898170361207+0j) [Z0 Z1]],\n",
       " 3: [(0.1659278503377034+0j) [Z1 Z2]],\n",
       " 4: [(0.1659278503377034+0j) [Z0 Z3]],\n",
       " 5: [(-0.09706626816762878+0j) []],\n",
       " 6: [(0.12062523483390414+0j) [Z1 Z3]],\n",
       " 7: [(0.1714128264477689+0j) [Z0], (0.045302615503799264+0j) [Y0 X1 X2 Y3]],\n",
       " 8: [(-0.22343153690813564+0j) [Z2], (-0.045302615503799264+0j) [Y0 Y1 X2 X3]],\n",
       " 9: [(0.17141282644776892+0j) [Z1], (0.045302615503799264+0j) [X0 Y1 Y2 X3]],\n",
       " 10: [(-0.22343153690813558+0j) [Z3],\n",
       "  (-0.045302615503799264+0j) [X0 X1 Y2 Y3]]}"
      ]
     },
     "execution_count": 4,
     "metadata": {},
     "output_type": "execute_result"
    }
   ],
   "source": [
    "from quchem.Hamiltonian_Generator_Functions import *\n",
    "from quchem.Graph import *\n",
    "### HAMILTONIAN start\n",
    "Molecule = 'H2'\n",
    "geometry = [('H', (0., 0., 0.)), ('H', (0., 0., 0.74))]\n",
    "basis = 'sto-3g'\n",
    "\n",
    "\n",
    "### Get Hamiltonian\n",
    "Hamilt = Hamiltonian_PySCF(Molecule,\n",
    "                     run_scf=1, run_mp2=1, run_cisd=1, run_ccsd=1, run_fci=1,\n",
    "                     basis=basis,\n",
    "                     multiplicity=1,\n",
    "                     geometry=geometry)  # normally None!\n",
    "QubitHamiltonian = Hamilt.Get_Qubit_Hamiltonian(threshold=None, transformation='JW')\n",
    "### HAMILTONIAN end\n",
    "\n",
    "#####################################\n",
    "\n",
    "Hamiltonian_graph_obj = Openfermion_Hamiltonian_Graph(QubitHamiltonian)\n",
    "\n",
    "commutativity_flag = 'AC' ## <- defines relationship between sets!!!\n",
    "plot_graph = False\n",
    "Graph_colouring_strategy='largest_first'\n",
    "anti_commuting_sets = Hamiltonian_graph_obj.Get_Clique_Cover_as_QubitOp(commutativity_flag, Graph_colouring_strategy=Graph_colouring_strategy, plot_graph=plot_graph)\n",
    "anti_commuting_sets"
   ]
  },
  {
   "cell_type": "code",
   "execution_count": 5,
   "metadata": {},
   "outputs": [],
   "source": [
    "from quchem.LCU_method import *"
   ]
  },
  {
   "cell_type": "markdown",
   "metadata": {},
   "source": [
    "$$U_{UCCSD}^{H2}=e^{-i \\theta Y_{0} X_{1} X_{2} X_{3}}$$"
   ]
  },
  {
   "cell_type": "code",
   "execution_count": 6,
   "metadata": {},
   "outputs": [],
   "source": [
    "from quchem.Simulating_Quantum_Circuit import *\n",
    "from quchem.Ansatz_Generator_Functions import *\n",
    "from openfermion.ops import QubitOperator\n",
    "\n",
    "def H2_ansatz(theta):\n",
    "    HF_circ = [cirq.X.on(cirq.LineQubit(0)), cirq.X.on(cirq.LineQubit(1))]\n",
    "    \n",
    "    full_exp_circ_obj = full_exponentiated_PauliWord_circuit(QubitOperator('Y0 X1 X2 X3', -1j), theta)\n",
    "    UCCSD_circ = cirq.Circuit(cirq.decompose_once((full_exp_circ_obj(*cirq.LineQubit.range(full_exp_circ_obj.num_qubits())))))\n",
    "    full_circuit = cirq.Circuit([*HF_circ, *UCCSD_circ.all_operations()])\n",
    "    \n",
    "    return full_circuit\n"
   ]
  },
  {
   "cell_type": "markdown",
   "metadata": {},
   "source": [
    "## Wavefunction Method"
   ]
  },
  {
   "cell_type": "code",
   "execution_count": 7,
   "metadata": {},
   "outputs": [
    {
     "data": {
      "text/plain": [
       "(-1.1167593041803572+0j)"
      ]
     },
     "execution_count": 7,
     "metadata": {},
     "output_type": "execute_result"
    }
   ],
   "source": [
    "THETA = np.pi\n",
    "\n",
    "ansatz_cirq_circuit = H2_ansatz(THETA)\n",
    "\n",
    "testing =  VQE_Experiment_LCU_UP_lin_alg(anti_commuting_sets,\n",
    "                 ansatz_cirq_circuit,\n",
    "                 Hamilt.molecule.n_qubits,\n",
    "                 N_indices_dict={7:1, 8:1, 9:0, 10:0})\n",
    "testing.Calc_Energy()"
   ]
  },
  {
   "cell_type": "code",
   "execution_count": null,
   "metadata": {},
   "outputs": [],
   "source": []
  },
  {
   "cell_type": "code",
   "execution_count": 8,
   "metadata": {},
   "outputs": [
    {
     "data": {
      "text/plain": [
       "(-1.1167593041803572+0j)"
      ]
     },
     "execution_count": 8,
     "metadata": {},
     "output_type": "execute_result"
    }
   ],
   "source": [
    "def GIVE_ENERGY_lin_alg(THETA):\n",
    "   \n",
    "    ansatz_cirq_circuit = H2_ansatz(THETA)\n",
    "\n",
    "    VQE_exp_LCU_lin_alg = VQE_Experiment_LCU_UP_lin_alg(anti_commuting_sets,\n",
    "                 ansatz_cirq_circuit,\n",
    "                 Hamilt.molecule.n_qubits,\n",
    "                 N_indices_dict={7:0, 8:0, 9:1, 10:1})\n",
    "    \n",
    "    return VQE_exp_LCU_lin_alg.Calc_Energy()\n",
    "\n",
    "GIVE_ENERGY_lin_alg(np.pi)"
   ]
  },
  {
   "cell_type": "code",
   "execution_count": 9,
   "metadata": {},
   "outputs": [
    {
     "name": "stdout",
     "output_type": "stream",
     "text": [
      "(-1.137019067777205+3.7930560639270463e-10j)\n"
     ]
    },
    {
     "name": "stderr",
     "output_type": "stream",
     "text": [
      "/home/lex/anaconda3/envs/QuantumUpdated/lib/python3.7/site-packages/numpy/core/_asarray.py:85: ComplexWarning: Casting complex values to real discards the imaginary part\n",
      "  return array(a, dtype, copy=False, order=order)\n"
     ]
    },
    {
     "data": {
      "image/png": "[encoded data removed]",
      "text/plain": [
       "<Figure size 432x288 with 1 Axes>"
      ]
     },
     "metadata": {
      "needs_background": "light"
     },
     "output_type": "display_data"
    }
   ],
   "source": [
    "### full angle scan\n",
    "import matplotlib.pyplot as plt\n",
    "%matplotlib inline\n",
    "\n",
    "theta_list = np.arange(0,2*np.pi, 0.1)\n",
    "# theta_list = np.arange(0.98*np.pi, 1.02*np.pi, 0.001)\n",
    "\n",
    "E_list = [GIVE_ENERGY_lin_alg(theta) for theta in theta_list]\n",
    "\n",
    "plt.plot(E_list)\n",
    "print(min(E_list))"
   ]
  },
  {
   "cell_type": "markdown",
   "metadata": {},
   "source": [
    "# longer Ansatz"
   ]
  },
  {
   "cell_type": "code",
   "execution_count": 12,
   "metadata": {},
   "outputs": [
    {
     "name": "stdout",
     "output_type": "stream",
     "text": [
      "[1, 1, 0, 0]\n"
     ]
    },
    {
     "data": {
      "text/html": [
       "<pre style=\"overflow: auto; white-space: pre;\">0: ───X───Rx(0.5π)───@───────────────────────@───Rx(-0.5π)───H───@──────────────────────@───────────H──────────H─────────────────────────────────────────────────────────────────────────────────────────────@───────────────────────────────@───────────H──────────Rx(0.5π)───@──────────────────────────────@───────────Rx(-0.5π)───Rx(0.5π)───@──────────────────────────────@───Rx(-0.5π)───H──────────@──────────────────────────────@──────────H───────────Rx(0.5π)───@───────────────────────────────────────@───────────Rx(-0.5π)───H──────────@───────────────────────────────────────@───────────H───────────H───@───────────────────────────────────────@──────────H───Rx(0.5π)───@──────────────────────────────────────@───Rx(-0.5π)───\n",
       "                     │                       │                   │                      │                                                                                                                    │                               │                                 │                              │                                  │                              │                          │                              │                                 │                                       │                                  │                                       │                           │                                       │                         │                                      │\n",
       "1: ───X──────────────X───@───────────────@───X───────────────────X───@──────────────@───X───────────Rx(0.5π)───@───────────────────────@───Rx(-0.5π)───H───@──────────────────────@───────────H──────────H───X───@───────────────────────@───X───────────H──────────Rx(0.5π)───X───@──────────────────────@───X───────────Rx(-0.5π)───H──────────X───@──────────────────────@───X───H───────────Rx(0.5π)───X───@──────────────────────@───X──────────Rx(-0.5π)───H──────────X───@───────────────────────@───────────X───────────H───────────Rx(0.5π)───X───@───────────────────────@───────────X───────────Rx(-0.5π)───H───X───@───────────────────────@───────────X──────────H───Rx(0.5π)───X───@──────────────────────@───────────X───Rx(-0.5π)───\n",
       "                         │               │                           │              │                          │                       │                   │                      │                              │                       │                                         │                      │                                          │                      │                                  │                      │                                         │                       │                                                  │                       │                                           │                       │                                         │                      │\n",
       "2: ───I───H──────────────X───Rz(-0.0π)───X───H───Rx(0.5π)────────────X───Rz(0.0π)───X───Rx(-0.5π)──────────────X───@───────────────@───X───────────────────X───@──────────────@───X───────────Rx(0.5π)───────────X───@───────────────@───X───Rx(-0.5π)───Rx(0.5π)──────────────────X───@──────────────@───X───Rx(-0.5π)───H──────────────────────────X───@──────────────@───X───H───H──────────────────────────X───@──────────────@───X───H──────────Rx(0.5π)───────────────────X───@───────────────@───X───────────Rx(-0.5π)───Rx(0.5π)───────────────────X───@───────────────@───X───────────Rx(-0.5π)───H───────────────────X───@───────────────@───X───────────H──────────H──────────────────X───@──────────────@───X───────────H───────────────\n",
       "                                                                                                                   │               │                           │              │                                      │               │                                                 │              │                                                  │              │                                          │              │                                                 │               │                                                          │               │                                                   │               │                                                 │              │\n",
       "3: ───I───H────────────────────────────────────────────────────────────────────────────────────────────────────────X───Rz(-0.0π)───X───H───Rx(0.5π)────────────X───Rz(0.0π)───X───Rx(-0.5π)───H──────────────────────X───Rz(-0.0π)───X───H───H─────────────────────────────────────────X───Rz(0.0π)───X───H───H──────────────────────────────────────────X───Rz(0.0π)───X───H───H──────────────────────────────────X───Rz(0.0π)───X───H───Rx(0.5π)──────────────────────────────────X───Rz(-0.0π)───X───Rx(-0.5π)───Rx(0.5π)───────────────────────────────────X───Rz(-0.0π)───X───Rx(-0.5π)───Rx(0.5π)────────────────────────────X───Rz(-0.0π)───X───Rx(-0.5π)───Rx(0.5π)──────────────────────────X───Rz(0.0π)───X───Rx(-0.5π)───────────────────</pre>"
      ],
      "text/plain": [
       "0: ───X───Rx(0.5π)───@───────────────────────@───Rx(-0.5π)───H───@──────────────────────@───────────H──────────H─────────────────────────────────────────────────────────────────────────────────────────────@───────────────────────────────@───────────H──────────Rx(0.5π)───@──────────────────────────────@───────────Rx(-0.5π)───Rx(0.5π)───@──────────────────────────────@───Rx(-0.5π)───H──────────@──────────────────────────────@──────────H───────────Rx(0.5π)───@───────────────────────────────────────@───────────Rx(-0.5π)───H──────────@───────────────────────────────────────@───────────H───────────H───@───────────────────────────────────────@──────────H───Rx(0.5π)───@──────────────────────────────────────@───Rx(-0.5π)───\n",
       "                     │                       │                   │                      │                                                                                                                    │                               │                                 │                              │                                  │                              │                          │                              │                                 │                                       │                                  │                                       │                           │                                       │                         │                                      │\n",
       "1: ───X──────────────X───@───────────────@───X───────────────────X───@──────────────@───X───────────Rx(0.5π)───@───────────────────────@───Rx(-0.5π)───H───@──────────────────────@───────────H──────────H───X───@───────────────────────@───X───────────H──────────Rx(0.5π)───X───@──────────────────────@───X───────────Rx(-0.5π)───H──────────X───@──────────────────────@───X───H───────────Rx(0.5π)───X───@──────────────────────@───X──────────Rx(-0.5π)───H──────────X───@───────────────────────@───────────X───────────H───────────Rx(0.5π)───X───@───────────────────────@───────────X───────────Rx(-0.5π)───H───X───@───────────────────────@───────────X──────────H───Rx(0.5π)───X───@──────────────────────@───────────X───Rx(-0.5π)───\n",
       "                         │               │                           │              │                          │                       │                   │                      │                              │                       │                                         │                      │                                          │                      │                                  │                      │                                         │                       │                                                  │                       │                                           │                       │                                         │                      │\n",
       "2: ───I───H──────────────X───Rz(-0.0π)───X───H───Rx(0.5π)────────────X───Rz(0.0π)───X───Rx(-0.5π)──────────────X───@───────────────@───X───────────────────X───@──────────────@───X───────────Rx(0.5π)───────────X───@───────────────@───X───Rx(-0.5π)───Rx(0.5π)──────────────────X───@──────────────@───X───Rx(-0.5π)───H──────────────────────────X───@──────────────@───X───H───H──────────────────────────X───@──────────────@───X───H──────────Rx(0.5π)───────────────────X───@───────────────@───X───────────Rx(-0.5π)───Rx(0.5π)───────────────────X───@───────────────@───X───────────Rx(-0.5π)───H───────────────────X───@───────────────@───X───────────H──────────H──────────────────X───@──────────────@───X───────────H───────────────\n",
       "                                                                                                                   │               │                           │              │                                      │               │                                                 │              │                                                  │              │                                          │              │                                                 │               │                                                          │               │                                                   │               │                                                 │              │\n",
       "3: ───I───H────────────────────────────────────────────────────────────────────────────────────────────────────────X───Rz(-0.0π)───X───H───Rx(0.5π)────────────X───Rz(0.0π)───X───Rx(-0.5π)───H──────────────────────X───Rz(-0.0π)───X───H───H─────────────────────────────────────────X───Rz(0.0π)───X───H───H──────────────────────────────────────────X───Rz(0.0π)───X───H───H──────────────────────────────────X───Rz(0.0π)───X───H───Rx(0.5π)──────────────────────────────────X───Rz(-0.0π)───X───Rx(-0.5π)───Rx(0.5π)───────────────────────────────────X───Rz(-0.0π)───X───Rx(-0.5π)───Rx(0.5π)────────────────────────────X───Rz(-0.0π)───X───Rx(-0.5π)───Rx(0.5π)──────────────────────────X───Rz(0.0π)───X───Rx(-0.5π)───────────────────"
      ]
     },
     "execution_count": 12,
     "metadata": {},
     "output_type": "execute_result"
    }
   ],
   "source": [
    "from quchem.Ansatz_Generator_Functions import *\n",
    "input_state = ansatz_obj.Get_JW_HF_state_in_OCC_basis()\n",
    "print(input_state)\n",
    "\n",
    "UCCSD_ansatz_Q_Circ_obj = Ansatz_Circuit(input_state,\n",
    "                                     Qubit_Op_list_Second_Quant_CC_Ops_ia, \n",
    "                                     Qubit_Op_list_Second_Quant_CC_Ops_ijab)\n",
    "\n",
    "ansatz_cirq_circuit =UCCSD_ansatz_Q_Circ_obj.Get_Full_HF_UCCSD_QC(Theta_param_list_ia=theta_parameters_ia, \n",
    "                                         Theta_param_list_ijab=theta_parameters_ijab,\n",
    "                                         ia_first=True)\n",
    "ansatz_cirq_circuit"
   ]
  },
  {
   "cell_type": "code",
   "execution_count": 15,
   "metadata": {},
   "outputs": [],
   "source": [
    "def GIVE_ENERGY_lin_alg_LONG(theta_ia_ijab):\n",
    "    \n",
    "    theta_ia= theta_ia_ijab[:(len(theta_parameters_ia))]\n",
    "    theta_ijab=theta_ia_ijab[(len(theta_parameters_ia)):]\n",
    "   \n",
    "    ansatz_cirq_circuit =UCCSD_ansatz_Q_Circ_obj.Get_Full_HF_UCCSD_QC(\n",
    "                                         Theta_param_list_ia=theta_ia, \n",
    "                                         Theta_param_list_ijab=theta_ijab,\n",
    "                                         ia_first=True)\n",
    "\n",
    "    VQE_exp_LCU_lin_alg = VQE_Experiment_LCU_UP_lin_alg(anti_commuting_sets,\n",
    "                 ansatz_cirq_circuit,\n",
    "                 Hamilt.molecule.n_qubits,\n",
    "                 N_indices_dict={7:0, 8:1, 9:0, 10:0})\n",
    "    \n",
    "    return VQE_exp_LCU_lin_alg.Calc_Energy()\n"
   ]
  },
  {
   "cell_type": "code",
   "execution_count": 16,
   "metadata": {},
   "outputs": [
    {
     "data": {
      "text/plain": [
       "(0.27477394524418075+5.849542550333723e-08j)"
      ]
     },
     "execution_count": 16,
     "metadata": {},
     "output_type": "execute_result"
    }
   ],
   "source": [
    "import random\n",
    "\n",
    "theta_ia_random_input = [random.uniform(0, 2*np.pi) for _ in range(len(theta_parameters_ia))]\n",
    "theta_ijab_random_input = [random.uniform(0, 2*np.pi) for _ in range(len(theta_parameters_ijab))]\n",
    "\n",
    "theta_combined_random_input = [*theta_ia_random_input, *theta_ijab_random_input]\n",
    "\n",
    "GIVE_ENERGY_lin_alg_LONG(theta_combined_random_input)"
   ]
  },
  {
   "cell_type": "code",
   "execution_count": 17,
   "metadata": {},
   "outputs": [],
   "source": [
    "def calc_gradient_ADAM(theta_ia_theta_jab_list):\n",
    "    \n",
    "    grad_list=[]\n",
    "    \n",
    "    for index, theta in enumerate(theta_ia_theta_jab_list):\n",
    "        \n",
    "        new_theta_list = theta_ia_theta_jab_list.copy()\n",
    "        new_theta_list[index] = theta + np.pi/4\n",
    "        \n",
    "        Obs_PLUS = GIVE_ENERGY_lin_alg_LONG(new_theta_list)\n",
    "               \n",
    "        \n",
    "        new_theta_list[index] = theta - np.pi/4\n",
    "        Obs_MINUS = GIVE_ENERGY_lin_alg_LONG(new_theta_list)\n",
    "        \n",
    "        gradient = Obs_PLUS - Obs_MINUS\n",
    "        \n",
    "        grad_list.append(gradient)\n",
    "        \n",
    "\n",
    "    return np.array(grad_list)"
   ]
  },
  {
   "cell_type": "code",
   "execution_count": 18,
   "metadata": {},
   "outputs": [],
   "source": [
    "### optimizer\n",
    "from quchem.Scipy_Optimizer import _minimize_Adam, Optimizer"
   ]
  },
  {
   "cell_type": "code",
   "execution_count": 20,
   "metadata": {},
   "outputs": [
    {
     "name": "stdout",
     "output_type": "stream",
     "text": [
      "0: Input_to_Funct: [5.80227679-7.42495570e-16j 2.61438639+2.27701083e-15j\n",
      " 2.14080516+4.56234177e-16j]: Output: (0.22187015009732192-9.642549843946572e-09j)\n",
      "1: Input_to_Funct: [5.7270062 +9.27635006e-08j 2.51661966-9.51158893e-09j\n",
      " 2.23962175-4.13081584e-09j]: Output: (0.18541174965288573+2.8691775898515634e-08j)\n",
      "2: Input_to_Funct: [5.73874729+2.43937276e-07j 2.42041075-1.51848711e-08j\n",
      " 2.33577508-4.86209056e-09j]: Output: (0.1485179926607974-9.935155995779556e-08j)\n",
      "3: Input_to_Funct: [5.79732723+2.77676171e-07j 2.32342603-1.99959854e-08j\n",
      " 2.43179239+3.59489270e-09j]: Output: (0.08385395823882968-1.742565454895185e-07j)\n",
      "4: Input_to_Funct: [5.86845034+2.95855118e-07j 2.22541384-2.47502360e-08j\n",
      " 2.52917442+1.26531486e-08j]: Output: (-0.009455047412160578-2.12676918918179e-07j)\n",
      "5: Input_to_Funct: [5.94745402+3.11550857e-07j 2.12750102-2.73516788e-08j\n",
      " 2.62787946+1.99050964e-08j]: Output: (-0.12003618818506556-3.1456519802905767e-07j)\n",
      "6: Input_to_Funct: [6.03258088+3.23946042e-07j 2.03461738+1.14665782e-08j\n",
      " 2.72751549+2.51116040e-08j]: Output: (-0.2295270440170902-2.3637744124317425e-07j)\n",
      "7: Input_to_Funct: [6.12252182+3.33089229e-07j 1.96215906+1.26343946e-07j\n",
      " 2.82717197+2.83660398e-08j]: Output: (-0.32145178582070116-2.7469178657251894e-07j)\n",
      "8: Input_to_Funct: [6.21560376+3.37786068e-07j 1.93302347+3.10522950e-07j\n",
      " 2.92525174+2.96506387e-08j]: Output: (-0.3939980631669375-3.300204001215808e-07j)\n",
      "9: Input_to_Funct: [6.30957855+3.38277004e-07j 1.94838675+4.60139487e-07j\n",
      " 3.01974559+2.98886427e-08j]: Output: (-0.4541174577057899-3.664412804965447e-07j)\n",
      "10: Input_to_Funct: [6.40145917+3.32703991e-07j 1.99253767+5.55278150e-07j\n",
      " 3.10759075+2.33289757e-08j]: Output: (-0.5011248107430366-4.016216195687608e-07j)\n",
      "11: Input_to_Funct: [6.48707941+3.20966887e-07j 2.05424214+6.17608276e-07j\n",
      " 3.18349613-2.55366483e-09j]: Output: (-0.5328605481883364-3.057146465523592e-07j)\n",
      "12: Input_to_Funct: [6.56141479+2.97364690e-07j 2.12768243+6.60804703e-07j\n",
      " 3.24043478-5.46775926e-08j]: Output: (-0.5559870721150836-4.548286875714092e-07j)\n",
      "13: Input_to_Funct: [6.62021931+2.72538063e-07j 2.20964486+6.92300736e-07j\n",
      " 3.27296939-1.20422678e-07j]: Output: (-0.585320180540757-3.918099377815045e-07j)\n",
      "14: Input_to_Funct: [6.66161459+2.48187243e-07j 2.29811732+7.15581959e-07j\n",
      " 3.28031122-1.75785052e-07j]: Output: (-0.6339622786108183-6.167310053099237e-07j)\n",
      "15: Input_to_Funct: [6.68612724+2.28466934e-07j 2.39169424+7.32079658e-07j\n",
      " 3.2656303 -2.17802619e-07j]: Output: (-0.705590251929825-5.849801240863493e-07j)\n",
      "16: Input_to_Funct: [6.69573407+2.09999492e-07j 2.48923755+7.41750058e-07j\n",
      " 3.233664  -2.40827692e-07j]: Output: (-0.7934754185929662-5.791921366038727e-07j)\n",
      "17: Input_to_Funct: [6.69299157+1.91732573e-07j 2.58958098+7.43195617e-07j\n",
      " 3.18936745-2.49694353e-07j]: Output: (-0.8831968500907711-4.552520295383872e-07j)\n",
      "18: Input_to_Funct: [6.68052604+1.77505921e-07j 2.69119971+7.31609143e-07j\n",
      " 3.13791763-2.37032604e-07j]: Output: (-0.957304005502175-3.250278414659576e-07j)\n",
      "19: Input_to_Funct: [6.66072619+1.58437692e-07j 2.79187549+7.03075894e-07j\n",
      " 3.08548172-1.98361528e-07j]: Output: (-1.0020679886615305-1.2674152017096253e-07j)\n",
      "20: Input_to_Funct: [6.63548068+1.32910961e-07j 2.88856945+6.51907175e-07j\n",
      " 3.03979144-1.25112678e-07j]: Output: (-1.015046063255364-4.487400044944985e-09j)\n",
      "21: Input_to_Funct: [6.60595399+9.95230265e-08j 2.97783829+5.77828410e-07j\n",
      " 3.00887377-2.96321822e-08j]: Output: (-1.0079331457579002+7.749646038249384e-08j)\n",
      "22: Input_to_Funct: [6.57254631+5.91198242e-08j 3.05676679+4.83436756e-07j\n",
      " 2.99778839+6.61657129e-08j]: Output: (-0.999084510812286+5.5172332014998306e-08j)\n",
      "23: Input_to_Funct: [6.53515298+1.14169690e-08j 3.12372446+3.76769922e-07j\n",
      " 3.00697202+1.45915854e-07j]: Output: (-1.0018468566153207+3.704992253940609e-08j)\n",
      "24: Input_to_Funct: [6.49360843-3.66468014e-08j 3.17842294+2.67241074e-07j\n",
      " 3.03374932+2.07512245e-07j]: Output: (-1.0198072312876816-1.637837404441098e-07j)\n",
      "25: Input_to_Funct: [6.44808475-8.24989931e-08j 3.2215029 +1.63290459e-07j\n",
      " 3.07432574+2.48796618e-07j]: Output: (-1.0487697622843803-1.6179831731168133e-07j)\n",
      "26: Input_to_Funct: [6.39932148-1.20765865e-07j 3.25406349+6.55448405e-08j\n",
      " 3.12468514+2.70935110e-07j]: Output: (-1.0803930770963315-1.5914699531957568e-07j)\n",
      "27: Input_to_Funct: [6.34868805-1.49980453e-07j 3.27731367-1.93144672e-08j\n",
      " 3.18067601+2.75172494e-07j]: Output: (-1.1056398009283033-7.432171037274388e-08j)\n",
      "28: Input_to_Funct: [6.29811303-1.66679740e-07j 3.29235973-9.23452393e-08j\n",
      " 3.23784128+2.60121030e-07j]: Output: (-1.1179830378983528-4.845452205808425e-08j)\n",
      "29: Input_to_Funct: [6.24988486-1.72483975e-07j 3.30010763-1.51871169e-07j\n",
      " 3.2914077 +2.20572015e-07j]: Output: (-1.1158760146004143+1.9533661181694946e-08j)\n",
      "30: Input_to_Funct: [6.20632553-1.67161229e-07j 3.30126374-2.01775521e-07j\n",
      " 3.3367233 +1.58756279e-07j]: Output: (-1.1032610601975639+3.185105504923809e-08j)\n",
      "31: Input_to_Funct: [6.16941316-1.53138720e-07j 3.29641235-2.38193854e-07j\n",
      " 3.37009347+8.86316105e-08j]: Output: (-1.0874180306436685-2.4466962846043816e-09j)\n",
      "32: Input_to_Funct: [6.14050298-1.33478750e-07j 3.28613157-2.62624581e-07j\n",
      " 3.38950741+1.78050403e-08j]: Output: (-1.0753804970621497-2.5645786177164718e-08j)\n",
      "33: Input_to_Funct: [6.12024695-1.10507126e-07j 3.27110353-2.73343124e-07j\n",
      " 3.39477372-5.01018872e-08j]: Output: (-1.0712530521082926-4.983808917327972e-08j)\n",
      "34: Input_to_Funct: [6.10868169-8.96387644e-08j 3.25218912-2.71681628e-07j\n",
      " 3.38713242-1.00385585e-07j]: Output: (-1.0755590434219058-7.201995389941646e-08j)\n",
      "35: Input_to_Funct: [6.10538607-7.25219331e-08j 3.23045551-2.57557295e-07j\n",
      " 3.36873446-1.33256842e-07j]: Output: (-1.086078110429857-1.0453494451972685e-07j)\n",
      "36: Input_to_Funct: [6.10963302-5.70486809e-08j 3.20715287-2.32559664e-07j\n",
      " 3.34224879-1.53785089e-07j]: Output: (-1.0992329446383668-2.3100768306779768e-08j)\n",
      "37: Input_to_Funct: [6.12050737-4.35636727e-08j 3.18363833-1.97899301e-07j\n",
      " 3.31062858-1.57653610e-07j]: Output: (-1.1114594994184925-1.338579661296917e-08j)\n",
      "38: Input_to_Funct: [6.13698937-3.03490930e-08j 3.16125161-1.59083439e-07j\n",
      " 3.27695635-1.48129641e-07j]: Output: (-1.120273619957659+1.9750829972964626e-09j)\n",
      "39: Input_to_Funct: [6.15800994-1.75772812e-08j 3.14116278-1.17142572e-07j\n",
      " 3.24427703-1.24579131e-07j]: Output: (-1.1248215876158598-6.267063099297979e-09j)\n",
      "40: Input_to_Funct: [6.18248247-4.30106267e-09j 3.12423119-7.16202961e-08j\n",
      " 3.21537029-9.95259424e-08j]: Output: (-1.1257980117446464+3.600930931823066e-08j)\n",
      "41: Input_to_Funct: [6.20931562+8.92995897e-09j 3.11091964-2.56669230e-08j\n",
      " 3.19248356-6.47211315e-08j]: Output: (-1.1248233558025706+4.151605486091295e-10j)\n",
      "42: Input_to_Funct: [6.23741383+2.07020305e-08j 3.10128891+1.91981546e-08j\n",
      " 3.17710541-2.26265709e-08j]: Output: (-1.123609824187346+3.794366064664604e-09j)\n",
      "43: Input_to_Funct: [6.26567596+2.81678564e-08j 3.09506652+5.72134789e-08j\n",
      " 3.16985936+1.61355805e-08j]: Output: (-1.1233032427477927-8.554215279200404e-09j)\n",
      "44: Input_to_Funct: [6.29300323+3.35380697e-08j 3.09176025+8.86264286e-08j\n",
      " 3.17054065+4.98026034e-08j]: Output: (-1.1242296017316198-9.221405065260868e-09j)\n",
      "45: Input_to_Funct: [6.3183252 +3.22280255e-08j 3.09078208+1.13967012e-07j\n",
      " 3.17825634+8.04556739e-08j]: Output: (-1.1260274957994842-4.1153855030252234e-08j)\n",
      "46: Input_to_Funct: [6.34064604+2.87996142e-08j 3.09155588+1.31712058e-07j\n",
      " 3.19160822+1.04616696e-07j]: Output: (-1.1279953032057022-1.6423463274968262e-08j)\n",
      "47: Input_to_Funct: [6.35910556+2.13877184e-08j 3.09359254+1.43217002e-07j\n",
      " 3.20887588+1.17753600e-07j]: Output: (-1.129460132368909-1.6419808732814666e-08j)\n",
      "48: Input_to_Funct: [6.37304268+1.35916081e-08j 3.096526  +1.49229004e-07j\n",
      " 3.22818551+1.19950441e-07j]: Output: (-1.1300401089169347-2.1318693345891977e-08j)\n",
      "49: Input_to_Funct: [6.38204626+4.07219831e-09j 3.10011225+1.51096289e-07j\n",
      " 3.24766627+1.08462141e-07j]: Output: (-1.1297459943666575-1.6284759076652764e-09j)\n",
      "50: Input_to_Funct: [6.38598157-5.53372825e-09j 3.10420069+1.44277237e-07j\n",
      " 3.26559765+8.56005574e-08j]: Output: (-1.1289293638098705+1.3286200179903369e-08j)\n",
      "51: Input_to_Funct: [6.38498835-1.45931096e-08j 3.10869182+1.33309681e-07j\n",
      " 3.28054306+5.55369165e-08j]: Output: (-1.1281215176077284+1.143908729727383e-08j)\n"
     ]
    },
    {
     "name": "stdout",
     "output_type": "stream",
     "text": [
      "52: Input_to_Funct: [6.37945393-2.16714712e-08j 3.11349625+1.18911618e-07j\n",
      " 3.29145656+2.74460304e-08j]: Output: (-1.1278304276042024+7.748865938208684e-09j)\n",
      "53: Input_to_Funct: [6.36997013-2.74911030e-08j 3.11850658+1.01608866e-07j\n",
      " 3.29774808-2.39123700e-09j]: Output: (-1.1283665408906687-5.8620209278654036e-09j)\n",
      "54: Input_to_Funct: [6.35728255-2.96041407e-08j 3.12358781+8.13291377e-08j\n",
      " 3.29929898-2.49035943e-08j]: Output: (-1.1297508028747465-1.6344520084626245e-08j)\n",
      "55: Input_to_Funct: [6.34223877-2.88302603e-08j 3.12858581+5.72207985e-08j\n",
      " 3.29643022-3.87676281e-08j]: Output: (-1.1317263431940523-9.15036627279014e-09j)\n",
      "56: Input_to_Funct: [6.32573838-2.43870081e-08j 3.13334824+3.18578025e-08j\n",
      " 3.28983314-4.70843647e-08j]: Output: (-1.1338589288159295-1.435094614737583e-08j)\n",
      "57: Input_to_Funct: [6.30868553-1.74315897e-08j 3.13774954+5.96894868e-09j\n",
      " 3.28047543-5.09442442e-08j]: Output: (-1.1356844516505287-5.8235283086732434e-09j)\n",
      "58: Input_to_Funct: [6.29194436-1.12943677e-08j 3.14171147-1.95660955e-08j\n",
      " 3.26949281-4.18621286e-08j]: Output: (-1.1368527886042947-2.891936270041482e-09j)\n",
      "59: Input_to_Funct: [6.27629816-6.24284110e-09j 3.1452123 -4.01337598e-08j\n",
      " 3.25807475-3.41322126e-08j]: Output: (-1.1372227007274647+1.5023558744441935e-09j)\n",
      "60: Input_to_Funct: [6.26241421-2.93214799e-09j 3.14828175-5.57567171e-08j\n",
      " 3.24735191-1.98352832e-08j]: Output: (-1.1368823735784515+2.8381361849612612e-09j)\n",
      "61: Input_to_Funct: [6.25081669-2.10336811e-10j 3.15098325-6.64281686e-08j\n",
      " 3.23829398-3.55514806e-09j]: Output: (-1.136096701823919+2.919797670363522e-09j)\n",
      "62: Input_to_Funct: [6.24186985+1.46518504e-09j 3.15338846-7.05061175e-08j\n",
      " 3.23162795+1.08226657e-08j]: Output: (-1.1352058511372354-4.0344878380902154e-09j)\n",
      "63: Input_to_Funct: [6.23577213+1.52719906e-09j 3.15555137-6.94237605e-08j\n",
      " 3.22778552+2.02268892e-08j]: Output: (-1.134514645487077-1.3052597946243908e-09j)\n",
      "64: Input_to_Funct: [6.23256068+3.09522886e-09j 3.15748866-6.36082846e-08j\n",
      " 3.22688466+2.43880054e-08j]: Output: (-1.1342094349901812-3.3079471317123414e-09j)\n",
      "65: Input_to_Funct: [6.2321245 +5.15731971e-09j 3.15917093-5.58236616e-08j\n",
      " 3.22874456+2.64334515e-08j]: Output: (-1.1343262927436135-1.863724781110958e-09j)\n",
      "66: Input_to_Funct: [6.23422401+7.80153398e-09j 3.16052624-4.48578063e-08j\n",
      " 3.23292905+2.50602161e-08j]: Output: (-1.1347711420155588-4.426124821509632e-09j)\n",
      "67: Input_to_Funct: [6.23851485+9.22683774e-09j 3.16145433-3.11304436e-08j\n",
      " 3.23881095+2.43665411e-08j]: Output: (-1.1353763937679626-2.829195905121026e-09j)\n",
      "68: Input_to_Funct: [6.24457409+8.96464076e-09j 3.16184741-1.59835654e-08j\n",
      " 3.24564904+2.43505309e-08j]: Output: (-1.1359689106165038-2.067262397424174e-09j)\n",
      "69: Input_to_Funct: [6.25192756+8.07923044e-09j 3.1616125 -4.37666493e-09j\n",
      " 3.25266997+1.97206460e-08j]: Output: (-1.1364240940539585-3.05902272690961e-09j)\n",
      "70: Input_to_Funct: [6.26007715+8.35340340e-09j 3.16069051+6.38372123e-09j\n",
      " 3.2591475 +8.81321995e-09j]: Output: (-1.1366921627990432+5.478203033736978e-09j)\n",
      "71: Input_to_Funct: [6.2685272 +8.56697505e-09j 3.15906863+1.86369462e-08j\n",
      " 3.26447175-4.81454544e-10j]: Output: (-1.136793391109026+2.786163160738949e-10j)\n",
      "72: Input_to_Funct: [6.27680927+6.27657238e-09j 3.15678462+3.05506033e-08j\n",
      " 3.26820218-1.05613489e-08j]: Output: (-1.1367910895293172-3.700375664928034e-09j)\n",
      "73: Input_to_Funct: [6.28450446+4.37184609e-09j 3.15392369+4.12656040e-08j\n",
      " 3.27009935-1.90048805e-08j]: Output: (-1.136757083385167-2.058435507324429e-09j)\n",
      "74: Input_to_Funct: [6.29126246+3.20489127e-09j 3.15060996+4.85381655e-08j\n",
      " 3.27013353-2.58798751e-08j]: Output: (-1.1367434369042946-1.8977320481840094e-09j)\n",
      "Warning: Maximum number of iterations has been exceeded.\n",
      "Maximum number of iterations has been exceeded.\n"
     ]
    },
    {
     "name": "stderr",
     "output_type": "stream",
     "text": [
      "/home/lex/anaconda3/envs/QuantumUpdated/lib/python3.7/site-packages/numpy/core/_asarray.py:85: ComplexWarning: Casting complex values to real discards the imaginary part\n",
      "  return array(a, dtype, copy=False, order=order)\n"
     ]
    },
    {
     "data": {
      "image/png": "[encoded data removed]",
      "text/plain": [
       "<Figure size 432x288 with 1 Axes>"
      ]
     },
     "metadata": {
      "needs_background": "light"
     },
     "output_type": "display_data"
    }
   ],
   "source": [
    "custom_optimizer_DICT = {'learning_rate': 0.1, 'beta_1': 0.9, 'beta_2': 0.999, 'epsilon': 1e-8,\n",
    "                           'delta': 1e-8, 'maxfev': 15000}\n",
    "\n",
    "GG = Optimizer(GIVE_ENERGY_lin_alg_LONG,\n",
    "                   theta_combined_random_input,\n",
    "                   args=(),\n",
    "                   method=_minimize_Adam,\n",
    "                   jac=calc_gradient_ADAM,\n",
    "                   hess=None,\n",
    "                   hessp=None,\n",
    "                      bounds=None,\n",
    "                   constraints=None,\n",
    "                   tol=1e-20, \n",
    "                   display_convergence_message=True,\n",
    "                   display_steps=True, \n",
    "                   custom_optimizer_DICT=custom_optimizer_DICT)\n",
    "GG.get_env(75)\n",
    "GG.plot_convergence()\n",
    "plt.show()"
   ]
  },
  {
   "cell_type": "code",
   "execution_count": null,
   "metadata": {},
   "outputs": [],
   "source": []
  },
  {
   "cell_type": "markdown",
   "metadata": {},
   "source": [
    "# Checking with circuit model"
   ]
  },
  {
   "cell_type": "code",
   "execution_count": null,
   "metadata": {},
   "outputs": [],
   "source": [
    "N_index = 1\n",
    "\n",
    "R_uncorrected, Pn, gamma_l = Get_R_linear_combination(anti_commuting_sets[9], N_index)\n",
    "R_corrected_Op_list, R_corr_list, ancilla_amplitudes, l1 = absorb_complex_phases(R_uncorrected)\n",
    "\n",
    "\n",
    "Q_circuit_no_M_gates = Full_Q_Circuit_NO_M_gates_and_no_Pn(Pn, R_corrected_Op_list, R_corr_list, ancilla_amplitudes, Hamilt.molecule.n_qubits, ansatz_cirq_circuit)\n",
    "Q_circuit_no_M_gates\n",
    "\n",
    "\n",
    "# # unitary check\n",
    "# np.allclose(np.eye(2**5), np.matmul(Q_circuit_no_M_gates._unitary_(), Q_circuit_no_M_gates._unitary_().conj().transpose()))"
   ]
  },
  {
   "cell_type": "code",
   "execution_count": null,
   "metadata": {},
   "outputs": [],
   "source": [
    "simulator = cirq.Simulator()\n",
    "output_ket = simulator.compute_amplitudes(Q_circuit_no_M_gates,\n",
    "                                      bitstrings=[i for i in range(2 ** len(Q_circuit_no_M_gates.all_qubits()))])\n",
    "\n",
    "\n",
    "output_ket = output_ket.reshape([output_ket.shape[0],1])\n",
    "output_ket"
   ]
  },
  {
   "cell_type": "code",
   "execution_count": null,
   "metadata": {},
   "outputs": [],
   "source": [
    "full_density_matrix = np.outer(output_ket, output_ket)\n",
    "\n",
    "## Want to project using all 0 ancilla measurement!\n",
    "n_qubits = 5\n",
    "n_ancilla = 1\n",
    "n_system = n_qubits - n_ancilla\n",
    "\n",
    "I_system_operator = np.eye(2**(n_system))\n",
    "\n",
    "zero_state = np.array([[1],[0]])\n",
    "ancilla_0_state_list = [zero_state for _ in range(n_ancilla)]\n",
    "ancilla_0_state = reduce(np.kron, ancilla_0_state_list)\n",
    "\n",
    "ancilla_0_projector = np.outer(ancilla_0_state,ancilla_0_state)\n",
    "POVM_0_ancilla = np.kron(I_system_operator, ancilla_0_projector)\n",
    "Kraus_Op_0 = POVM_0_ancilla.copy()"
   ]
  },
  {
   "cell_type": "code",
   "execution_count": null,
   "metadata": {},
   "outputs": [],
   "source": []
  },
  {
   "cell_type": "code",
   "execution_count": null,
   "metadata": {},
   "outputs": [],
   "source": [
    "term = Kraus_Op_0.dot(full_density_matrix.dot(Kraus_Op_0.transpose().conj()))\n",
    "term"
   ]
  },
  {
   "cell_type": "code",
   "execution_count": null,
   "metadata": {},
   "outputs": [],
   "source": [
    "projected_density_matrix = term/np.trace(term) # projected into correct ancilla space!"
   ]
  },
  {
   "cell_type": "code",
   "execution_count": null,
   "metadata": {},
   "outputs": [],
   "source": [
    "projected_density_matrix.shape"
   ]
  },
  {
   "cell_type": "code",
   "execution_count": null,
   "metadata": {},
   "outputs": [],
   "source": [
    "projected_density_matrix"
   ]
  },
  {
   "cell_type": "markdown",
   "metadata": {},
   "source": [
    "For example, suppose you have a matrix representing an object in a space V=V1⊗V2\n",
    "with V1 of dimension 2 and V2 of dimension 4\n",
    "\n",
    "Here is how partial trace the first space:\n",
    "\n",
    "dm = denstiy matrix\n",
    "\n",
    "reshape to do the partial trace easily using np.einsum\n",
    "\n",
    "reshaped_dm = dm.reshape([2, 4, 2, 4])\n",
    "\n",
    "\n",
    "compute the partial trace\n",
    "\n",
    "reduced_dm = np.einsum('ijik->jk', reshaped_dm)"
   ]
  },
  {
   "cell_type": "code",
   "execution_count": null,
   "metadata": {},
   "outputs": [],
   "source": [
    "[2**n_system,2**n_ancilla,2**n_system,2**n_ancilla]"
   ]
  },
  {
   "cell_type": "code",
   "execution_count": null,
   "metadata": {},
   "outputs": [],
   "source": [
    "reshaped_dm = projected_density_matrix.reshape([2**n_system,2**n_ancilla,2**n_system,2**n_ancilla])"
   ]
  },
  {
   "cell_type": "code",
   "execution_count": null,
   "metadata": {},
   "outputs": [],
   "source": [
    "reduced_dm = np.einsum('jiki->jk', reshaped_dm) "
   ]
  },
  {
   "cell_type": "code",
   "execution_count": null,
   "metadata": {},
   "outputs": [],
   "source": [
    "reduced_dm.shape"
   ]
  },
  {
   "cell_type": "code",
   "execution_count": null,
   "metadata": {},
   "outputs": [],
   "source": [
    "2**4"
   ]
  },
  {
   "cell_type": "code",
   "execution_count": null,
   "metadata": {},
   "outputs": [],
   "source": []
  },
  {
   "cell_type": "code",
   "execution_count": null,
   "metadata": {},
   "outputs": [],
   "source": []
  },
  {
   "cell_type": "code",
   "execution_count": null,
   "metadata": {},
   "outputs": [],
   "source": []
  },
  {
   "cell_type": "code",
   "execution_count": null,
   "metadata": {},
   "outputs": [],
   "source": [
    "input_state = [ np.array([[1],[0]]) for _ in range(len(Q_circuit_no_M_gates.all_qubits()))]\n",
    "input_ket = reduce(kron, input_state)\n",
    "circuit_matrix = Q_circuit_no_M_gates.unitary()\n",
    "\n",
    "output_ket = np.array(circuit_matrix.dot(input_ket.todense()))\n",
    "np.around(output_ket, 3)\n",
    "\n",
    "\n",
    "# simulator = cirq.Simulator()\n",
    "# output_ket = simulator.compute_amplitudes(Q_circuit_no_M_gates,\n",
    "#                                       bitstrings=[i for i in range(2 ** len(Q_circuit_no_M_gates.all_qubits()))])\n",
    "# output_ket.reshape([output_ket.shape[0], 1])"
   ]
  },
  {
   "cell_type": "code",
   "execution_count": null,
   "metadata": {},
   "outputs": [],
   "source": [
    "from quchem.Simulating_Quantum_Circuit import *\n",
    "\n",
    "set_selected =anti_commuting_sets[9]\n",
    "N_index=1\n",
    "\n",
    "# Ansatz\n",
    "ansatz_cirq_circuit = full_ansatz_Q_Circ.Get_Full_HF_UCCSD_QC(theta_parameters_ia, theta_parameters_ijab)\n",
    "# ansatz_cirq_circuit = H2_ansatz(3.225)\n",
    "\n",
    "R_uncorrected, Pn, gamma_l = Get_R_linear_combination(set_selected, N_index)\n",
    "R_corrected_Op_list, R_corr_list, ancilla_amplitudes, l1 = absorb_complex_phases(R_uncorrected)\n",
    "\n",
    "\n",
    "aa = Full_Q_Circuit(Pn, R_corrected_Op_list, R_corr_list, ancilla_amplitudes, Hamilt.molecule.n_qubits, ansatz_cirq_circuit)\n",
    "output_bin_dict = Get_binary_dict_project(aa, Pn, 100000, 4, ancilla_amplitudes, l1)\n",
    "print(output_bin_dict)\n",
    "print(Pn)\n",
    "print(R_corr_list)\n",
    "expectation_value_by_parity(output_bin_dict) * gamma_l "
   ]
  },
  {
   "cell_type": "code",
   "execution_count": null,
   "metadata": {},
   "outputs": [],
   "source": [
    "aa"
   ]
  },
  {
   "cell_type": "code",
   "execution_count": null,
   "metadata": {},
   "outputs": [],
   "source": []
  },
  {
   "cell_type": "code",
   "execution_count": null,
   "metadata": {},
   "outputs": [],
   "source": []
  },
  {
   "cell_type": "code",
   "execution_count": null,
   "metadata": {},
   "outputs": [],
   "source": [
    "input_state = [ np.array([[1],[0]]) for _ in range(len(Q_circuit_no_M_gates.all_qubits()))]\n",
    "input_ket = reduce(kron, input_state)\n",
    "circuit_matrix = Q_circuit_no_M_gates.unitary()\n",
    "\n",
    "output_ket = np.array(circuit_matrix.dot(input_ket.todense()))\n",
    "np.around(output_ket, 3)"
   ]
  },
  {
   "cell_type": "code",
   "execution_count": null,
   "metadata": {},
   "outputs": [],
   "source": [
    "simulator = cirq.Simulator()\n",
    "output_ket = simulator.compute_amplitudes(Q_circuit_no_M_gates,\n",
    "                                      bitstrings=[i for i in range(2 ** len(Q_circuit_no_M_gates.all_qubits()))])\n",
    "output_ket.reshape([output_ket.shape[0], 1])"
   ]
  },
  {
   "cell_type": "code",
   "execution_count": null,
   "metadata": {},
   "outputs": [],
   "source": [
    "sum(i**2 for i in output_ket.reshape([output_ket.shape[0], 1]))"
   ]
  },
  {
   "cell_type": "code",
   "execution_count": null,
   "metadata": {},
   "outputs": [],
   "source": [
    "ket = output_ket.reshape([output_ket.shape[0], 1])\n",
    "\n",
    "bra = ket.transpose().conj()\n",
    "\n",
    "energy = bra.dot(ket)\n",
    "energy"
   ]
  },
  {
   "cell_type": "code",
   "execution_count": null,
   "metadata": {},
   "outputs": [],
   "source": [
    "simulator = cirq.Simulator()\n",
    "output_ket = simulator.compute_amplitudes(Q_circuit_no_M_gates,\n",
    "                                          bitstrings=[i for i in\n",
    "                                                      range(2 ** len(Q_circuit_no_M_gates.all_qubits()))])\n",
    "\n",
    "output_ket = output_ket.reshape([output_ket.shape[0], 1])\n",
    "np.around(output_ket, 5)\n"
   ]
  },
  {
   "cell_type": "code",
   "execution_count": null,
   "metadata": {},
   "outputs": [],
   "source": [
    "PauliOp = QubitOperator('X1 Z3', 1)\n",
    "list_Q_nos, list_P_strs = list(zip(*[Paulistrs for Paulistrs, const in PauliOp.terms.items()][0]))\n",
    "list_Q_nos"
   ]
  },
  {
   "cell_type": "code",
   "execution_count": null,
   "metadata": {},
   "outputs": [],
   "source": [
    "n_qubits = 5\n",
    "\n",
    "new_state = np.zeros([2**len(list_Q_nos),1], dtype=complex)\n",
    "for index, val in enumerate(output_ket[:,0]):\n",
    "    binary_string = Get_state_as_str(n_qubits, index)\n",
    "    new_key=''.join([bit for qubitNo, bit in enumerate(binary_string) if qubitNo in list_Q_nos])\n",
    "#     print(new_key)\n",
    "    new_state[int(new_key,2),0]= np.sqrt(new_state[int(new_key,2),0]**2 + val**2)\n",
    "new_state"
   ]
  },
  {
   "cell_type": "code",
   "execution_count": null,
   "metadata": {},
   "outputs": [],
   "source": [
    "sum(np.abs(i)**2 for i in new_state)"
   ]
  },
  {
   "cell_type": "code",
   "execution_count": null,
   "metadata": {},
   "outputs": [],
   "source": []
  },
  {
   "cell_type": "code",
   "execution_count": null,
   "metadata": {},
   "outputs": [],
   "source": [
    "import numpy as np\n",
    "\n",
    "np.outer(np.array([1,0]), np.array([1,0]))"
   ]
  },
  {
   "cell_type": "code",
   "execution_count": null,
   "metadata": {},
   "outputs": [],
   "source": [
    "np.trace(np.eye(2))"
   ]
  },
  {
   "cell_type": "code",
   "execution_count": null,
   "metadata": {},
   "outputs": [],
   "source": []
  }
 ],
 "metadata": {
  "kernelspec": {
   "display_name": "Python 3",
   "language": "python",
   "name": "python3"
  },
  "language_info": {
   "codemirror_mode": {
    "name": "ipython",
    "version": 3
   },
   "file_extension": ".py",
   "mimetype": "text/x-python",
   "name": "python",
   "nbconvert_exporter": "python",
   "pygments_lexer": "ipython3",
   "version": "3.7.6"
  }
 },
 "nbformat": 4,
 "nbformat_minor": 4
}
