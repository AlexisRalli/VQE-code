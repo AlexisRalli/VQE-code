{
 "cells": [
  {
   "cell_type": "code",
   "execution_count": 8,
   "metadata": {},
   "outputs": [
    {
     "name": "stderr",
     "output_type": "stream",
     "text": [
      "Building Graph Edges: 100%|##########| 15/15 [00:00<00:00, 639.14it/s]\n"
     ]
    },
    {
     "data": {
      "text/plain": [
       "{0: [(0.16868898170361207+0j) [Z0 Z1]],\n",
       " 1: [(0.12062523483390414+0j) [Z1 Z3]],\n",
       " 2: [(0.12062523483390414+0j) [Z0 Z2]],\n",
       " 3: [(0.1659278503377034+0j) [Z1 Z2]],\n",
       " 4: [(0.1659278503377034+0j) [Z0 Z3]],\n",
       " 5: [(-0.09706626816762878+0j) []],\n",
       " 6: [(0.1744128761226159+0j) [Z2 Z3]],\n",
       " 7: [(0.045302615503799264+0j) [X0 Y1 Y2 X3], (0.17141282644776892+0j) [Z1]],\n",
       " 8: [(0.045302615503799264+0j) [Y0 X1 X2 Y3], (0.1714128264477689+0j) [Z0]],\n",
       " 9: [(-0.045302615503799264+0j) [Y0 Y1 X2 X3], (-0.22343153690813558+0j) [Z3]],\n",
       " 10: [(-0.045302615503799264+0j) [X0 X1 Y2 Y3],\n",
       "  (-0.22343153690813564+0j) [Z2]]}"
      ]
     },
     "execution_count": 8,
     "metadata": {},
     "output_type": "execute_result"
    }
   ],
   "source": [
    "from quchem.Hamiltonian_Generator_Functions import *\n",
    "from quchem.Graph import *\n",
    "### HAMILTONIAN start\n",
    "Molecule = 'H2'\n",
    "geometry = [('H', (0., 0., 0.)), ('H', (0., 0., 0.74))]\n",
    "basis = 'sto-3g'\n",
    "\n",
    "\n",
    "### Get Hamiltonian\n",
    "Hamilt = Hamiltonian_PySCF(Molecule,\n",
    "                     run_scf=1, run_mp2=1, run_cisd=1, run_ccsd=1, run_fci=1,\n",
    "                     basis=basis,\n",
    "                     multiplicity=1,\n",
    "                     geometry=geometry)  # normally None!\n",
    "QubitHamiltonian = Hamilt.Get_Qubit_Hamiltonian(threshold=None, transformation='JW')\n",
    "### HAMILTONIAN end\n",
    "\n",
    "#####################################\n",
    "\n",
    "Hamiltonian_graph_obj = Openfermion_Hamiltonian_Graph(QubitHamiltonian)\n",
    "\n",
    "commutativity_flag = 'AC' ## <- defines relationship between sets!!!\n",
    "plot_graph = False\n",
    "Graph_colouring_strategy='largest_first'\n",
    "anti_commuting_sets = Hamiltonian_graph_obj.Get_Clique_Cover_as_QubitOp(commutativity_flag, Graph_colouring_strategy=Graph_colouring_strategy, plot_graph=plot_graph)\n",
    "anti_commuting_sets"
   ]
  },
  {
   "cell_type": "code",
   "execution_count": 9,
   "metadata": {},
   "outputs": [],
   "source": [
    "from quchem.LCU_method import *"
   ]
  },
  {
   "cell_type": "markdown",
   "metadata": {},
   "source": [
    "$$U_{UCCSD}^{H2}=e^{-i \\theta Y_{0} X_{1} X_{2} X_{3}}$$"
   ]
  },
  {
   "cell_type": "code",
   "execution_count": null,
   "metadata": {},
   "outputs": [],
   "source": [
    "from quchem.Simulating_Quantum_Circuit import *\n",
    "from quchem.Ansatz_Generator_Functions import *\n",
    "from openfermion.ops import QubitOperator\n",
    "\n",
    "def H2_ansatz(theta):\n",
    "    HF_circ = [cirq.X.on(cirq.LineQubit(0)), cirq.X.on(cirq.LineQubit(1))]\n",
    "    \n",
    "    full_exp_circ_obj = full_exponentiated_PauliWord_circuit(QubitOperator('Y0 X1 X2 X3', -1j), theta)\n",
    "    UCCSD_circ = cirq.Circuit(cirq.decompose_once((full_exp_circ_obj(*cirq.LineQubit.range(full_exp_circ_obj.num_qubits())))))\n",
    "    full_circuit = cirq.Circuit([*HF_circ, *UCCSD_circ.all_operations()])\n",
    "    \n",
    "    return full_circuit\n"
   ]
  },
  {
   "cell_type": "markdown",
   "metadata": {},
   "source": [
    "## Wavefunction Method"
   ]
  },
  {
   "cell_type": "code",
   "execution_count": null,
   "metadata": {},
   "outputs": [],
   "source": [
    "THETA = np.pi\n",
    "\n",
    "ansatz_cirq_circuit = H2_ansatz(THETA)\n",
    "\n",
    "testing =  VQE_Experiment_LCU_UP_lin_alg(anti_commuting_sets,\n",
    "                 ansatz_cirq_circuit,\n",
    "                 Hamilt.molecule.n_qubits,\n",
    "                 N_indices_dict={7:1, 8:1, 9:0, 10:0})\n",
    "testing.Calc_Energy()"
   ]
  },
  {
   "cell_type": "code",
   "execution_count": null,
   "metadata": {},
   "outputs": [],
   "source": []
  },
  {
   "cell_type": "code",
   "execution_count": null,
   "metadata": {},
   "outputs": [],
   "source": [
    "def GIVE_ENERGY_lin_alg(THETA):\n",
    "   \n",
    "    ansatz_cirq_circuit = H2_ansatz(THETA)\n",
    "\n",
    "    VQE_exp_LCU_lin_alg = VQE_Experiment_LCU_UP_lin_alg(anti_commuting_sets,\n",
    "                 ansatz_cirq_circuit,\n",
    "                 Hamilt.molecule.n_qubits,\n",
    "                 N_indices_dict={7:0, 8:0, 9:1, 10:1})\n",
    "    \n",
    "    return VQE_exp_LCU_lin_alg.Calc_Energy()\n",
    "\n",
    "GIVE_ENERGY_lin_alg(np.pi)"
   ]
  },
  {
   "cell_type": "code",
   "execution_count": null,
   "metadata": {},
   "outputs": [],
   "source": [
    "### full angle scan\n",
    "import matplotlib.pyplot as plt\n",
    "%matplotlib inline\n",
    "\n",
    "theta_list = np.arange(0,2*np.pi, 0.1)\n",
    "# theta_list = np.arange(0.98*np.pi, 1.02*np.pi, 0.001)\n",
    "\n",
    "E_list = [GIVE_ENERGY_lin_alg(theta) for theta in theta_list]\n",
    "\n",
    "plt.plot(E_list)\n",
    "print(min(E_list))"
   ]
  },
  {
   "cell_type": "markdown",
   "metadata": {},
   "source": [
    "# longer Ansatz"
   ]
  },
  {
   "cell_type": "code",
   "execution_count": null,
   "metadata": {},
   "outputs": [],
   "source": [
    "from quchem.Ansatz_Generator_Functions import *\n",
    "ansatz_obj = Ansatz(Hamilt.molecule.n_electrons, Hamilt.molecule.n_qubits)"
   ]
  },
  {
   "cell_type": "code",
   "execution_count": null,
   "metadata": {},
   "outputs": [],
   "source": [
    "Sec_Quant_CC_ops_ia, Sec_Quant_CC_ops_ijab, theta_parameters_ia, theta_parameters_ijab=ansatz_obj.Get_ia_and_ijab_terms(single_cc_amplitudes=None, \n",
    "                                                                                                             double_cc_amplitudes=None, \n",
    "                                                                                                             singles_hamiltonian=None,\n",
    "                                                                                                             doubles_hamiltonian=None, \n",
    "                                                                                                             tol_filter_small_terms = None)\n",
    "\n",
    "Qubit_Op_list_Second_Quant_CC_Ops_ia, Qubit_Op_list_Second_Quant_CC_Ops_ijab = ansatz_obj.UCCSD_single_trotter_step(Sec_Quant_CC_ops_ia,\n",
    "                                                                                                                    Sec_Quant_CC_ops_ijab,\n",
    "                                                                                                                   transformation='JW')\n"
   ]
  },
  {
   "cell_type": "code",
   "execution_count": null,
   "metadata": {},
   "outputs": [],
   "source": [
    "input_state = ansatz_obj.Get_JW_HF_state_in_OCC_basis()\n",
    "print(input_state)\n",
    "\n",
    "UCCSD_ansatz_Q_Circ_obj = Ansatz_Circuit(input_state,\n",
    "                                     Qubit_Op_list_Second_Quant_CC_Ops_ia, \n",
    "                                     Qubit_Op_list_Second_Quant_CC_Ops_ijab)\n",
    "\n",
    "ansatz_cirq_circuit =UCCSD_ansatz_Q_Circ_obj.Get_Full_HF_UCCSD_QC(Theta_param_list_ia=theta_parameters_ia, \n",
    "                                         Theta_param_list_ijab=theta_parameters_ijab,\n",
    "                                         ia_first=True)\n",
    "ansatz_cirq_circuit"
   ]
  },
  {
   "cell_type": "code",
   "execution_count": null,
   "metadata": {},
   "outputs": [],
   "source": [
    "def GIVE_ENERGY_lin_alg_LONG(theta_ia_ijab):\n",
    "    \n",
    "    theta_ia= theta_ia_ijab[:(len(theta_parameters_ia))]\n",
    "    theta_ijab=theta_ia_ijab[(len(theta_parameters_ia)):]\n",
    "   \n",
    "    ansatz_cirq_circuit =UCCSD_ansatz_Q_Circ_obj.Get_Full_HF_UCCSD_QC(\n",
    "                                         Theta_param_list_ia=theta_ia, \n",
    "                                         Theta_param_list_ijab=theta_ijab,\n",
    "                                         ia_first=True)\n",
    "\n",
    "    VQE_exp_LCU_lin_alg = VQE_Experiment_LCU_UP_lin_alg(anti_commuting_sets,\n",
    "                 ansatz_cirq_circuit,\n",
    "                 Hamilt.molecule.n_qubits,\n",
    "                 N_indices_dict={7:0, 8:1, 9:0, 10:0})\n",
    "    \n",
    "    return VQE_exp_LCU_lin_alg.Calc_Energy()\n"
   ]
  },
  {
   "cell_type": "code",
   "execution_count": null,
   "metadata": {},
   "outputs": [],
   "source": [
    "import random\n",
    "\n",
    "theta_ia_random_input = [random.uniform(0, 2*np.pi) for _ in range(len(theta_parameters_ia))]\n",
    "theta_ijab_random_input = [random.uniform(0, 2*np.pi) for _ in range(len(theta_parameters_ijab))]\n",
    "\n",
    "theta_combined_random_input = [*theta_ia_random_input, *theta_ijab_random_input]\n",
    "\n",
    "GIVE_ENERGY_lin_alg_LONG(theta_combined_random_input)"
   ]
  },
  {
   "cell_type": "code",
   "execution_count": null,
   "metadata": {},
   "outputs": [],
   "source": [
    "def calc_gradient_ADAM(theta_ia_theta_jab_list):\n",
    "    \n",
    "    grad_list=[]\n",
    "    \n",
    "    for index, theta in enumerate(theta_ia_theta_jab_list):\n",
    "        \n",
    "        new_theta_list = theta_ia_theta_jab_list.copy()\n",
    "        new_theta_list[index] = theta + np.pi/4\n",
    "        \n",
    "        Obs_PLUS = GIVE_ENERGY_lin_alg_LONG(new_theta_list)\n",
    "               \n",
    "        \n",
    "        new_theta_list[index] = theta - np.pi/4\n",
    "        Obs_MINUS = GIVE_ENERGY_lin_alg_LONG(new_theta_list)\n",
    "        \n",
    "        gradient = Obs_PLUS - Obs_MINUS\n",
    "        \n",
    "        grad_list.append(gradient)\n",
    "        \n",
    "\n",
    "    return np.array(grad_list)"
   ]
  },
  {
   "cell_type": "code",
   "execution_count": null,
   "metadata": {},
   "outputs": [],
   "source": [
    "### optimizer\n",
    "from quchem.Scipy_Optimizer import _minimize_Adam, Optimizer"
   ]
  },
  {
   "cell_type": "code",
   "execution_count": null,
   "metadata": {},
   "outputs": [],
   "source": [
    "custom_optimizer_DICT = {'learning_rate': 0.1, 'beta_1': 0.9, 'beta_2': 0.999, 'epsilon': 1e-8,\n",
    "                           'delta': 1e-8, 'maxfev': 15000}\n",
    "\n",
    "GG = Optimizer(GIVE_ENERGY_lin_alg_LONG,\n",
    "                   theta_combined_random_input,\n",
    "                   args=(),\n",
    "                   method=_minimize_Adam,\n",
    "                   jac=calc_gradient_ADAM,\n",
    "                   hess=None,\n",
    "                   hessp=None,\n",
    "                      bounds=None,\n",
    "                   constraints=None,\n",
    "                   tol=1e-20, \n",
    "                   display_convergence_message=True,\n",
    "                   display_steps=True, \n",
    "                   custom_optimizer_DICT=custom_optimizer_DICT)\n",
    "GG.get_env(75)\n",
    "GG.plot_convergence()\n",
    "plt.show()"
   ]
  },
  {
   "cell_type": "code",
   "execution_count": null,
   "metadata": {},
   "outputs": [],
   "source": [
    "Hamilt.molecule.fci_energy"
   ]
  },
  {
   "cell_type": "markdown",
   "metadata": {},
   "source": [
    "# Checking with circuit model"
   ]
  },
  {
   "cell_type": "code",
   "execution_count": null,
   "metadata": {},
   "outputs": [],
   "source": [
    "N_index = 1\n",
    "\n",
    "R_uncorrected, Pn, gamma_l = Get_R_linear_combination(anti_commuting_sets[9], N_index)\n",
    "R_corrected_Op_list, R_corr_list, ancilla_amplitudes, l1 = absorb_complex_phases(R_uncorrected)\n",
    "\n",
    "\n",
    "Q_circuit_no_M_gates = Full_Q_Circuit_NO_M_gates_and_no_Pn(Pn, R_corrected_Op_list, R_corr_list, ancilla_amplitudes, Hamilt.molecule.n_qubits, ansatz_cirq_circuit)\n",
    "Q_circuit_no_M_gates\n",
    "\n",
    "\n",
    "# # unitary check\n",
    "# np.allclose(np.eye(2**5), np.matmul(Q_circuit_no_M_gates._unitary_(), Q_circuit_no_M_gates._unitary_().conj().transpose()))"
   ]
  },
  {
   "cell_type": "code",
   "execution_count": null,
   "metadata": {},
   "outputs": [],
   "source": [
    "simulator = cirq.Simulator()\n",
    "output_ket = simulator.compute_amplitudes(Q_circuit_no_M_gates,\n",
    "                                      bitstrings=[i for i in range(2 ** len(Q_circuit_no_M_gates.all_qubits()))])\n",
    "\n",
    "\n",
    "output_ket = output_ket.reshape([output_ket.shape[0],1])\n",
    "output_ket"
   ]
  },
  {
   "cell_type": "code",
   "execution_count": null,
   "metadata": {},
   "outputs": [],
   "source": [
    "full_density_matrix = np.outer(output_ket, output_ket)\n",
    "\n",
    "## Want to project using all 0 ancilla measurement!\n",
    "n_qubits = 5\n",
    "n_ancilla = 1\n",
    "n_system = n_qubits - n_ancilla\n",
    "\n",
    "I_system_operator = np.eye(2**(n_system))\n",
    "\n",
    "zero_state = np.array([[1],[0]])\n",
    "ancilla_0_state_list = [zero_state for _ in range(n_ancilla)]\n",
    "ancilla_0_state = reduce(np.kron, ancilla_0_state_list)\n",
    "\n",
    "ancilla_0_projector = np.outer(ancilla_0_state,ancilla_0_state)\n",
    "POVM_0_ancilla = np.kron(I_system_operator, ancilla_0_projector)\n",
    "Kraus_Op_0 = POVM_0_ancilla.copy()"
   ]
  },
  {
   "cell_type": "code",
   "execution_count": null,
   "metadata": {},
   "outputs": [],
   "source": []
  },
  {
   "cell_type": "code",
   "execution_count": null,
   "metadata": {},
   "outputs": [],
   "source": [
    "term = Kraus_Op_0.dot(full_density_matrix.dot(Kraus_Op_0.transpose().conj()))\n",
    "term"
   ]
  },
  {
   "cell_type": "code",
   "execution_count": null,
   "metadata": {},
   "outputs": [],
   "source": [
    "projected_density_matrix = term/np.trace(term) # projected into correct ancilla space!"
   ]
  },
  {
   "cell_type": "code",
   "execution_count": null,
   "metadata": {},
   "outputs": [],
   "source": [
    "projected_density_matrix.shape"
   ]
  },
  {
   "cell_type": "code",
   "execution_count": null,
   "metadata": {},
   "outputs": [],
   "source": [
    "projected_density_matrix"
   ]
  },
  {
   "cell_type": "markdown",
   "metadata": {},
   "source": [
    "For example, suppose you have a matrix representing an object in a space V=V1⊗V2\n",
    "with V1 of dimension 2 and V2 of dimension 4\n",
    "\n",
    "Here is how partial trace the first space:\n",
    "\n",
    "dm = denstiy matrix\n",
    "\n",
    "reshape to do the partial trace easily using np.einsum\n",
    "\n",
    "reshaped_dm = dm.reshape([2, 4, 2, 4])\n",
    "\n",
    "\n",
    "compute the partial trace\n",
    "\n",
    "reduced_dm = np.einsum('ijik->jk', reshaped_dm)"
   ]
  },
  {
   "cell_type": "code",
   "execution_count": null,
   "metadata": {},
   "outputs": [],
   "source": [
    "[2**n_system,2**n_ancilla,2**n_system,2**n_ancilla]"
   ]
  },
  {
   "cell_type": "code",
   "execution_count": null,
   "metadata": {},
   "outputs": [],
   "source": [
    "reshaped_dm = projected_density_matrix.reshape([2**n_system,2**n_ancilla,2**n_system,2**n_ancilla])"
   ]
  },
  {
   "cell_type": "code",
   "execution_count": null,
   "metadata": {},
   "outputs": [],
   "source": [
    "reduced_dm = np.einsum('jiki->jk', reshaped_dm) "
   ]
  },
  {
   "cell_type": "code",
   "execution_count": null,
   "metadata": {},
   "outputs": [],
   "source": [
    "reduced_dm.shape"
   ]
  },
  {
   "cell_type": "code",
   "execution_count": null,
   "metadata": {},
   "outputs": [],
   "source": [
    "2**4"
   ]
  },
  {
   "cell_type": "code",
   "execution_count": null,
   "metadata": {},
   "outputs": [],
   "source": []
  },
  {
   "cell_type": "code",
   "execution_count": null,
   "metadata": {},
   "outputs": [],
   "source": []
  },
  {
   "cell_type": "code",
   "execution_count": null,
   "metadata": {},
   "outputs": [],
   "source": []
  },
  {
   "cell_type": "code",
   "execution_count": null,
   "metadata": {},
   "outputs": [],
   "source": [
    "input_state = [ np.array([[1],[0]]) for _ in range(len(Q_circuit_no_M_gates.all_qubits()))]\n",
    "input_ket = reduce(kron, input_state)\n",
    "circuit_matrix = Q_circuit_no_M_gates.unitary()\n",
    "\n",
    "output_ket = np.array(circuit_matrix.dot(input_ket.todense()))\n",
    "np.around(output_ket, 3)\n",
    "\n",
    "\n",
    "# simulator = cirq.Simulator()\n",
    "# output_ket = simulator.compute_amplitudes(Q_circuit_no_M_gates,\n",
    "#                                       bitstrings=[i for i in range(2 ** len(Q_circuit_no_M_gates.all_qubits()))])\n",
    "# output_ket.reshape([output_ket.shape[0], 1])"
   ]
  },
  {
   "cell_type": "code",
   "execution_count": null,
   "metadata": {},
   "outputs": [],
   "source": [
    "from quchem.Simulating_Quantum_Circuit import *\n",
    "\n",
    "set_selected =anti_commuting_sets[9]\n",
    "N_index=1\n",
    "\n",
    "# Ansatz\n",
    "ansatz_cirq_circuit = full_ansatz_Q_Circ.Get_Full_HF_UCCSD_QC(theta_parameters_ia, theta_parameters_ijab)\n",
    "# ansatz_cirq_circuit = H2_ansatz(3.225)\n",
    "\n",
    "R_uncorrected, Pn, gamma_l = Get_R_linear_combination(set_selected, N_index)\n",
    "R_corrected_Op_list, R_corr_list, ancilla_amplitudes, l1 = absorb_complex_phases(R_uncorrected)\n",
    "\n",
    "\n",
    "aa = Full_Q_Circuit(Pn, R_corrected_Op_list, R_corr_list, ancilla_amplitudes, Hamilt.molecule.n_qubits, ansatz_cirq_circuit)\n",
    "output_bin_dict = Get_binary_dict_project(aa, Pn, 100000, 4, ancilla_amplitudes, l1)\n",
    "print(output_bin_dict)\n",
    "print(Pn)\n",
    "print(R_corr_list)\n",
    "expectation_value_by_parity(output_bin_dict) * gamma_l "
   ]
  },
  {
   "cell_type": "code",
   "execution_count": null,
   "metadata": {},
   "outputs": [],
   "source": [
    "aa"
   ]
  },
  {
   "cell_type": "code",
   "execution_count": null,
   "metadata": {},
   "outputs": [],
   "source": []
  },
  {
   "cell_type": "code",
   "execution_count": null,
   "metadata": {},
   "outputs": [],
   "source": []
  },
  {
   "cell_type": "code",
   "execution_count": null,
   "metadata": {},
   "outputs": [],
   "source": [
    "input_state = [ np.array([[1],[0]]) for _ in range(len(Q_circuit_no_M_gates.all_qubits()))]\n",
    "input_ket = reduce(kron, input_state)\n",
    "circuit_matrix = Q_circuit_no_M_gates.unitary()\n",
    "\n",
    "output_ket = np.array(circuit_matrix.dot(input_ket.todense()))\n",
    "np.around(output_ket, 3)"
   ]
  },
  {
   "cell_type": "code",
   "execution_count": null,
   "metadata": {},
   "outputs": [],
   "source": [
    "simulator = cirq.Simulator()\n",
    "output_ket = simulator.compute_amplitudes(Q_circuit_no_M_gates,\n",
    "                                      bitstrings=[i for i in range(2 ** len(Q_circuit_no_M_gates.all_qubits()))])\n",
    "output_ket.reshape([output_ket.shape[0], 1])"
   ]
  },
  {
   "cell_type": "code",
   "execution_count": null,
   "metadata": {},
   "outputs": [],
   "source": [
    "sum(i**2 for i in output_ket.reshape([output_ket.shape[0], 1]))"
   ]
  },
  {
   "cell_type": "code",
   "execution_count": null,
   "metadata": {},
   "outputs": [],
   "source": [
    "ket = output_ket.reshape([output_ket.shape[0], 1])\n",
    "\n",
    "bra = ket.transpose().conj()\n",
    "\n",
    "energy = bra.dot(ket)\n",
    "energy"
   ]
  },
  {
   "cell_type": "code",
   "execution_count": null,
   "metadata": {},
   "outputs": [],
   "source": [
    "simulator = cirq.Simulator()\n",
    "output_ket = simulator.compute_amplitudes(Q_circuit_no_M_gates,\n",
    "                                          bitstrings=[i for i in\n",
    "                                                      range(2 ** len(Q_circuit_no_M_gates.all_qubits()))])\n",
    "\n",
    "output_ket = output_ket.reshape([output_ket.shape[0], 1])\n",
    "np.around(output_ket, 5)\n"
   ]
  },
  {
   "cell_type": "code",
   "execution_count": null,
   "metadata": {},
   "outputs": [],
   "source": [
    "PauliOp = QubitOperator('X1 Z3', 1)\n",
    "list_Q_nos, list_P_strs = list(zip(*[Paulistrs for Paulistrs, const in PauliOp.terms.items()][0]))\n",
    "list_Q_nos"
   ]
  },
  {
   "cell_type": "code",
   "execution_count": null,
   "metadata": {},
   "outputs": [],
   "source": [
    "n_qubits = 5\n",
    "\n",
    "new_state = np.zeros([2**len(list_Q_nos),1], dtype=complex)\n",
    "for index, val in enumerate(output_ket[:,0]):\n",
    "    binary_string = Get_state_as_str(n_qubits, index)\n",
    "    new_key=''.join([bit for qubitNo, bit in enumerate(binary_string) if qubitNo in list_Q_nos])\n",
    "#     print(new_key)\n",
    "    new_state[int(new_key,2),0]= np.sqrt(new_state[int(new_key,2),0]**2 + val**2)\n",
    "new_state"
   ]
  },
  {
   "cell_type": "code",
   "execution_count": null,
   "metadata": {},
   "outputs": [],
   "source": [
    "sum(np.abs(i)**2 for i in new_state)"
   ]
  },
  {
   "cell_type": "code",
   "execution_count": null,
   "metadata": {},
   "outputs": [],
   "source": []
  },
  {
   "cell_type": "code",
   "execution_count": null,
   "metadata": {},
   "outputs": [],
   "source": [
    "import numpy as np\n",
    "\n",
    "np.outer(np.array([1,0]), np.array([1,0]))"
   ]
  },
  {
   "cell_type": "code",
   "execution_count": null,
   "metadata": {},
   "outputs": [],
   "source": [
    "np.trace(np.eye(2))"
   ]
  },
  {
   "cell_type": "code",
   "execution_count": null,
   "metadata": {},
   "outputs": [],
   "source": []
  }
 ],
 "metadata": {
  "kernelspec": {
   "display_name": "Python 3",
   "language": "python",
   "name": "python3"
  },
  "language_info": {
   "codemirror_mode": {
    "name": "ipython",
    "version": 3
   },
   "file_extension": ".py",
   "mimetype": "text/x-python",
   "name": "python",
   "nbconvert_exporter": "python",
   "pygments_lexer": "ipython3",
   "version": "3.7.6"
  }
 },
 "nbformat": 4,
 "nbformat_minor": 4
}
