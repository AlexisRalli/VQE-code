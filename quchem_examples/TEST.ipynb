{
 "cells": [
  {
   "cell_type": "code",
   "execution_count": 1,
   "metadata": {},
   "outputs": [],
   "source": [
    "import os\n",
    "import ast"
   ]
  },
  {
   "cell_type": "code",
   "execution_count": 2,
   "metadata": {},
   "outputs": [],
   "source": [
    "### open Hamiltonian data ###\n",
    "\n",
    "working_dir = os.getcwd()\n",
    "parent_dir = os.path.dirname(working_dir) # gets directory where running python file is!\n",
    "\n",
    "data_dir = os.path.join(parent_dir, 'Molecular_Hamiltonian_data')\n",
    "hamiltonian_data = os.path.join(data_dir, 'hamiltonians.txt')"
   ]
  },
  {
   "cell_type": "code",
   "execution_count": null,
   "metadata": {},
   "outputs": [],
   "source": []
  },
  {
   "cell_type": "code",
   "execution_count": 3,
   "metadata": {},
   "outputs": [
    {
     "name": "stdout",
     "output_type": "stream",
     "text": [
      "H2-S1_STO-3G_singlet          n_qubits:  18   \n",
      "C1-O1_STO-3G_singlet          n_qubits:  16   \n",
      "H1-Cl1_STO-3G_singlet         n_qubits:  16   \n",
      "H1-Na1_STO-3G_singlet         n_qubits:  16   \n",
      "H2-Mg1_STO-3G_singlet         n_qubits:  17   \n",
      "H1-F1_3-21G_singlet           n_qubits:  18   \n",
      "H1-Li1_3-21G_singlet          n_qubits:  18   \n",
      "Be1_STO-3G_singlet            n_qubits:  5    \n",
      "H1-F1_STO-3G_singlet          n_qubits:  8    \n",
      "H1-Li1_STO-3G_singlet         n_qubits:  8    \n",
      "Ar1_STO-3G_singlet            n_qubits:  13   \n",
      "F2_STO-3G_singlet             n_qubits:  15   \n",
      "H1-O1_STO-3G_singlet          n_qubits:  8    \n",
      "H2-Be1_STO-3G_singlet         n_qubits:  9    \n",
      "H2-O1_STO-3G_singlet          n_qubits:  10   \n",
      "H2_3-21G_singlet              n_qubits:  5    \n",
      "H2_6-31G_singlet              n_qubits:  5    \n",
      "H3-N1_STO-3G_singlet          n_qubits:  13   \n",
      "H4-C1_STO-3G_singlet          n_qubits:  14   \n",
      "Mg1_STO-3G_singlet            n_qubits:  13   \n",
      "N2_STO-3G_singlet             n_qubits:  15   \n",
      "Ne1_STO-3G_singlet            n_qubits:  5    \n",
      "O2_STO-3G_singlet             n_qubits:  15   \n",
      "H1-Li1-O1_STO-3G_singlet      n_qubits:  18   \n",
      "H1-He1_STO-3G_singlet         n_qubits:  2    \n",
      "H3_STO-3G_singlet_1+          n_qubits:  3    \n",
      "H1-He1_3-21G_singlet_1+       n_qubits:  6    \n",
      "H3_3-21G_singlet_1+           n_qubits:  9    \n",
      "H4-N1_STO-3G_singlet_1+       n_qubits:  14   \n"
     ]
    }
   ],
   "source": [
    "with open(hamiltonian_data, 'r') as input_file:\n",
    "    hamiltonians = ast.literal_eval(input_file.read())\n",
    "\n",
    "for key in hamiltonians.keys():\n",
    "    print(f\"{key: <25}     n_qubits:  {hamiltonians[key][1]:<5.0f}\")"
   ]
  },
  {
   "cell_type": "code",
   "execution_count": null,
   "metadata": {},
   "outputs": [],
   "source": []
  },
  {
   "cell_type": "code",
   "execution_count": 4,
   "metadata": {},
   "outputs": [],
   "source": [
    "molecule_key = 'H3_STO-3G_singlet_1+'\n",
    "transformation, N_qubits, Hamilt_dictionary, _ ,_, _ = hamiltonians[molecule_key]"
   ]
  },
  {
   "cell_type": "markdown",
   "metadata": {},
   "source": [
    "# 1. Get OpenFermion representation of Hamiltonian"
   ]
  },
  {
   "cell_type": "code",
   "execution_count": 5,
   "metadata": {},
   "outputs": [
    {
     "data": {
      "text/plain": [
       "-1.7512307459285525 [] +\n",
       "0.01872992170537467 [X0] +\n",
       "-0.023568139980123585 [X0 X1] +\n",
       "0.03597868636603963 [X0 X1 X2] +\n",
       "-0.023568139980123585 [X0 X1 Z2] +\n",
       "-0.03597868636603963 [X0 Y1 Y2] +\n",
       "0.01872992170537467 [X0 Z1] +\n",
       "0.023568139980123585 [X0 Z1 X2] +\n",
       "0.01872992170537467 [X0 Z1 Z2] +\n",
       "0.023568139980123585 [X0 X2] +\n",
       "0.01872992170537467 [X0 Z2] +\n",
       "0.03597868636603963 [Y0 X1 Y2] +\n",
       "-0.023568139980123585 [Y0 Y1] +\n",
       "0.03597868636603963 [Y0 Y1 X2] +\n",
       "-0.023568139980123585 [Y0 Y1 Z2] +\n",
       "0.023568139980123585 [Y0 Z1 Y2] +\n",
       "0.023568139980123585 [Y0 Y2] +\n",
       "-0.45436486525596403 [Z0] +\n",
       "0.02356815233618002 [Z0 X1] +\n",
       "0.02356815233617983 [Z0 X1 Z2] +\n",
       "-0.07195737217001562 [Z0 Y1 Y2] +\n",
       "0.37110605476609804 [Z0 Z1] +\n",
       "-0.023568152336179825 [Z0 Z1 X2] +\n",
       "-0.2878474382772282 [Z0 Z1 Z2] +\n",
       "-0.023568152336180023 [Z0 X2] +\n",
       "0.37110605476609787 [Z0 Z2] +\n",
       "0.02356815233618002 [X1] +\n",
       "0.02356815233617983 [X1 Z2] +\n",
       "-0.07195737217001562 [Y1 Y2] +\n",
       "-0.017109477140260287 [Z1] +\n",
       "-0.023568152336179825 [Z1 X2] +\n",
       "0.31270210682950855 [Z1 Z2] +\n",
       "-0.023568152336180023 [X2] +\n",
       "-0.017109477140260287 [Z2]"
      ]
     },
     "execution_count": 5,
     "metadata": {},
     "output_type": "execute_result"
    }
   ],
   "source": [
    "from quchem.Misc_functions.conversion_scripts import Get_Openfermion_Hamiltonian\n",
    "\n",
    "openFermion_H = Get_Openfermion_Hamiltonian(Hamilt_dictionary)\n",
    "openFermion_H"
   ]
  },
  {
   "cell_type": "code",
   "execution_count": null,
   "metadata": {},
   "outputs": [],
   "source": []
  },
  {
   "cell_type": "markdown",
   "metadata": {},
   "source": [
    "# 2. Get cliques defined by commutativity \n"
   ]
  },
  {
   "cell_type": "code",
   "execution_count": 6,
   "metadata": {},
   "outputs": [
    {
     "data": {
      "text/plain": [
       "{0: [-1.7512307459285525 []],\n",
       " 1: [-0.017109477140260287 [Z2],\n",
       "  -0.023568152336179825 [Z1 X2],\n",
       "  0.03597868636603963 [X0 X1 X2],\n",
       "  0.023568139980123585 [Y0 Z1 Y2]],\n",
       " 2: [0.02356815233617983 [X1 Z2],\n",
       "  -0.017109477140260287 [Z1],\n",
       "  0.03597868636603963 [Y0 X1 Y2],\n",
       "  -0.023568139980123585 [Y0 Y1]],\n",
       " 3: [0.37110605476609787 [Z0 Z2],\n",
       "  -0.023568152336179825 [Z0 Z1 X2],\n",
       "  0.01872992170537467 [X0],\n",
       "  -0.023568139980123585 [Y0 Y1 Z2]],\n",
       " 4: [0.02356815233617983 [Z0 X1 Z2],\n",
       "  0.37110605476609804 [Z0 Z1],\n",
       "  0.01872992170537467 [X0 Z2],\n",
       "  0.023568139980123585 [X0 Z1 X2]],\n",
       " 5: [0.023568139980123585 [X0 X2],\n",
       "  -0.023568139980123585 [X0 X1 Z2],\n",
       "  0.01872992170537467 [X0 Z1 Z2],\n",
       "  0.03597868636603963 [Y0 Y1 X2],\n",
       "  -0.45436486525596403 [Z0]],\n",
       " 6: [-0.023568139980123585 [X0 X1],\n",
       "  -0.03597868636603963 [X0 Y1 Y2],\n",
       "  0.01872992170537467 [X0 Z1],\n",
       "  0.023568139980123585 [Y0 Y2]],\n",
       " 7: [-0.023568152336180023 [X2], -0.07195737217001562 [Y1 Y2]],\n",
       " 8: [0.02356815233618002 [X1], 0.31270210682950855 [Z1 Z2]],\n",
       " 9: [-0.023568152336180023 [Z0 X2], -0.07195737217001562 [Z0 Y1 Y2]],\n",
       " 10: [0.02356815233618002 [Z0 X1], -0.2878474382772282 [Z0 Z1 Z2]]}"
      ]
     },
     "execution_count": 6,
     "metadata": {},
     "output_type": "execute_result"
    }
   ],
   "source": [
    "from quchem.Unitary_Partitioning.Graph import Clique_cover_Hamiltonian\n",
    "\n",
    "commutativity_flag = 'AC' ## <- defines relationship between sets!!!\n",
    "Graph_colouring_strategy='largest_first'\n",
    "\n",
    "\n",
    "anti_commuting_sets = Clique_cover_Hamiltonian(openFermion_H, \n",
    "                                                     N_qubits, \n",
    "                                                     commutativity_flag, \n",
    "                                                     Graph_colouring_strategy)\n",
    "anti_commuting_sets"
   ]
  },
  {
   "cell_type": "code",
   "execution_count": null,
   "metadata": {},
   "outputs": [],
   "source": []
  },
  {
   "cell_type": "markdown",
   "metadata": {},
   "source": [
    "# 3. Example of X_sk operator"
   ]
  },
  {
   "cell_type": "code",
   "execution_count": 7,
   "metadata": {},
   "outputs": [
    {
     "data": {
      "text/plain": [
       "[0.023568139980123585 [X0 X2],\n",
       " -0.023568139980123585 [X0 X1 Z2],\n",
       " 0.01872992170537467 [X0 Z1 Z2],\n",
       " 0.03597868636603963 [Y0 Y1 X2],\n",
       " -0.45436486525596403 [Z0]]"
      ]
     },
     "execution_count": 7,
     "metadata": {},
     "output_type": "execute_result"
    }
   ],
   "source": [
    "key_larg, largest_AC_set = max(anti_commuting_sets.items(), key=lambda x:len(x[1])) # largest nonCon part found by dfs alg\n",
    "largest_AC_set"
   ]
  },
  {
   "cell_type": "code",
   "execution_count": 8,
   "metadata": {},
   "outputs": [
    {
     "data": {
      "text/plain": [
       "[((1-0j) [X1 Y2], -0.7853981633974483),\n",
       " ((1-0j) [Z1 Y2], 0.5119695711373766),\n",
       " ((-1+0j) [Z0 Y1], 0.7550371667782845),\n",
       " ((1-0j) [Y0 X2], -1.4557617880633529)]"
      ]
     },
     "execution_count": 8,
     "metadata": {},
     "output_type": "execute_result"
    }
   ],
   "source": [
    "from quchem.Unitary_Partitioning.Unitary_partitioning_Seq_Rot import Get_Xsk_op_list\n",
    "\n",
    "S_index=0\n",
    "check_reduction = True\n",
    "\n",
    "X_sk_theta_sk_list, normalised_FULL_set, Ps, gamma_l = Get_Xsk_op_list(largest_AC_set,\n",
    "                S_index,\n",
    "                N_qubits,\n",
    "                check_reduction=True,\n",
    "                atol=1e-8,\n",
    "                rtol=1e-05)\n",
    "\n",
    "X_sk_theta_sk_list"
   ]
  },
  {
   "cell_type": "code",
   "execution_count": 9,
   "metadata": {},
   "outputs": [
    {
     "data": {
      "text/plain": [
       "{'PauliWords': [0.051527694377769474 [X0 X2],\n",
       "  -0.051527694377769474 [X0 X1 Z2],\n",
       "  0.040949760234283705 [X0 Z1 Z2],\n",
       "  0.07866122471889656 [Y0 Y1 X2],\n",
       "  -0.9933908205166284 [Z0]],\n",
       " 'gamma_l': 0.45738782347481777}"
      ]
     },
     "execution_count": 9,
     "metadata": {},
     "output_type": "execute_result"
    }
   ],
   "source": [
    "normalised_FULL_set"
   ]
  },
  {
   "cell_type": "code",
   "execution_count": 13,
   "metadata": {},
   "outputs": [
    {
     "data": {
      "text/plain": [
       "1 [X0 X2]"
      ]
     },
     "execution_count": 13,
     "metadata": {},
     "output_type": "execute_result"
    }
   ],
   "source": [
    "Ps"
   ]
  },
  {
   "cell_type": "code",
   "execution_count": 11,
   "metadata": {},
   "outputs": [
    {
     "data": {
      "text/plain": [
       "0.45738782347481777"
      ]
     },
     "execution_count": 11,
     "metadata": {},
     "output_type": "execute_result"
    }
   ],
   "source": [
    "gamma_l"
   ]
  },
  {
   "cell_type": "code",
   "execution_count": null,
   "metadata": {},
   "outputs": [],
   "source": []
  },
  {
   "cell_type": "code",
   "execution_count": 57,
   "metadata": {},
   "outputs": [],
   "source": [
    "# from quchem.Unitary_Partitioning.Graph import  VectorPauliWord, Commutes\n",
    "\n",
    "# def Apply_rotation_LEFT(angle_in_exp, Pword_in_exp, Pword_to_rotate):\n",
    "    \n",
    "#     P1_vec = VectorPauliWord(Pword_in_exp)\n",
    "#     P2_vec = VectorPauliWord(Pword_to_rotate)\n",
    "    \n",
    "#     if not Commutes(P1_vec, P2_vec):\n",
    "#         first_term = np.cos(angle_in_exp) * Pword_to_rotate\n",
    "#         second_term = 1j*np.sin(angle_in_exp) * Pword_to_rotate\n",
    "    \n",
    "#         out[p] = np.cos(rotation[0])\n",
    "#         q = pauli_mult(p, rotation[1]) #order changed!\n",
    "#         out[q[0]] = (1j*q[1]*np.sin(rotation[0])).real\n",
    "#     else:\n",
    "#         print('hello')\n",
    "\n",
    "import numpy as np\n",
    "def Apply_rotation(angle_in_exp, Pword_in_exp, Pword_to_rotate, apply_left = True):\n",
    "    \n",
    "    first_term = np.cos(angle_in_exp/2) * Pword_to_rotate\n",
    "    \n",
    "    if apply_left:\n",
    "        second_term = -1j*np.sin(angle_in_exp/2) *Pword_in_exp* Pword_to_rotate\n",
    "    else:\n",
    "        second_term = -1j*np.sin(angle_in_exp/2) * Pword_to_rotate* Pword_in_exp # order changed!\n",
    "        \n",
    "    out = first_term + second_term\n",
    "    return out\n",
    "\n",
    "from copy import deepcopy\n",
    "def Apply_R_middle_Rdag(list_angles,list_R_Pwords, middle):\n",
    "    \n",
    "    R_m_Rdag = deepcopy(middle)\n",
    "    for angle, Pword_rot in zip(list_angles, list_R_Pwords):\n",
    "        R_m_Rdag = Apply_rotation(angle, Pword_rot, R_m_Rdag, apply_left = True)\n",
    "        \n",
    "    for angle, Pword_rot in zip(list_angles[::-1], list_R_Pwords[::-1]):\n",
    "        R_m_Rdag = Apply_rotation(-1*angle, Pword_rot, R_m_Rdag, apply_left = False)\n",
    "        \n",
    "    return R_m_Rdag"
   ]
  },
  {
   "cell_type": "code",
   "execution_count": null,
   "metadata": {},
   "outputs": [],
   "source": []
  },
  {
   "cell_type": "code",
   "execution_count": 256,
   "metadata": {},
   "outputs": [
    {
     "data": {
      "text/plain": [
       "<8x8 sparse matrix of type '<class 'numpy.complex128'>'\n",
       "\twith 64 stored elements in Compressed Sparse Column format>"
      ]
     },
     "execution_count": 256,
     "metadata": {},
     "output_type": "execute_result"
    }
   ],
   "source": [
    "R_sk_list = []\n",
    "N_Qubits=3\n",
    "for X_sk_Op, theta_sk in X_sk_theta_sk_list:\n",
    "    pauliword_X_sk_MATRIX = qubit_operator_sparse(QubitOperator(list(X_sk_Op.terms.keys())[0], -1j),\n",
    "                                                  n_qubits=N_Qubits)\n",
    "    const_X_sk = list(X_sk_Op.terms.values())[0]\n",
    "    R_sk_list.append(expm(pauliword_X_sk_MATRIX * theta_sk / 2 * const_X_sk))\n",
    "\n",
    "R_S_matrix = reduce(np.dot, R_sk_list[::-1])  # <- note reverse order!\n",
    "R_S_matrix"
   ]
  },
  {
   "cell_type": "code",
   "execution_count": 289,
   "metadata": {},
   "outputs": [],
   "source": [
    "R_sk_OP_list = []\n",
    "N_Qubits=3\n",
    "for X_sk_Op, theta_sk in X_sk_theta_sk_list:\n",
    "#     pauliword_X_sk = QubitOperator(list(X_sk_Op.terms.keys())[0], 1)\n",
    "#     const_X_sk = list(X_sk_Op.terms.values())[0]\n",
    "    \n",
    "    op = np.cos(theta_sk / 2 *) * QubitOperator('') -1j*np.sin(theta_sk / 2 * const_X_sk) * X_sk_Op\n",
    "    \n",
    "    R_sk_OP_list.append(op)\n",
    "\n",
    "    \n",
    "R_S_op = reduce(lambda x,y: x*y, R_sk_OP_list[::-1])  # <- note reverse order!\n",
    "R_S_matrix_new=qubit_operator_sparse(R_S_op,n_qubits=N_Qubits)"
   ]
  },
  {
   "cell_type": "code",
   "execution_count": 296,
   "metadata": {},
   "outputs": [
    {
     "data": {
      "text/plain": [
       "(1.0000000000000002+0j) [X0 X2]"
      ]
     },
     "execution_count": 296,
     "metadata": {},
     "output_type": "execute_result"
    }
   ],
   "source": [
    "R_S_op * middle * hermitian_conjugated(R_S_op)"
   ]
  },
  {
   "cell_type": "code",
   "execution_count": 290,
   "metadata": {},
   "outputs": [],
   "source": [
    "one = qubit_operator_sparse(R_sk_OP_list[0],n_qubits=N_Qubits)\n",
    "two = R_sk_list[0]"
   ]
  },
  {
   "cell_type": "code",
   "execution_count": 291,
   "metadata": {},
   "outputs": [
    {
     "data": {
      "text/plain": [
       "True"
      ]
     },
     "execution_count": 291,
     "metadata": {},
     "output_type": "execute_result"
    }
   ],
   "source": [
    "np.allclose(one.todense(), two.todense())"
   ]
  },
  {
   "cell_type": "code",
   "execution_count": 293,
   "metadata": {},
   "outputs": [
    {
     "data": {
      "text/plain": [
       "True"
      ]
     },
     "execution_count": 293,
     "metadata": {},
     "output_type": "execute_result"
    }
   ],
   "source": [
    "one = R_S_matrix.todense() \n",
    "two = R_S_matrix_new.todense()\n",
    "\n",
    "np.allclose(one, two)"
   ]
  },
  {
   "cell_type": "code",
   "execution_count": null,
   "metadata": {},
   "outputs": [],
   "source": [
    "P_rot = X_sk_theta_sk_list[0][0]\n",
    "theta =  X_sk_theta_sk_list[0][1]"
   ]
  },
  {
   "cell_type": "code",
   "execution_count": null,
   "metadata": {},
   "outputs": [],
   "source": [
    "    if check_reduction:\n",
    "        R_sk_list = []\n",
    "        for X_sk_Op, theta_sk in X_sk_theta_sk_list:\n",
    "            pauliword_X_sk_MATRIX = qubit_operator_sparse(QubitOperator(list(X_sk_Op.terms.keys())[0], -1j),\n",
    "                                                          n_qubits=N_Qubits)\n",
    "            const_X_sk = list(X_sk_Op.terms.values())[0]\n",
    "            R_sk_list.append(expm(pauliword_X_sk_MATRIX * theta_sk / 2 * const_X_sk))\n",
    "\n",
    "        R_S_matrix = reduce(np.dot, R_sk_list[::-1])  # <- note reverse order!\n"
   ]
  },
  {
   "cell_type": "code",
   "execution_count": 228,
   "metadata": {},
   "outputs": [],
   "source": [
    "import numpy as np\n",
    "from openfermion import hermitian_conjugated, QubitOperator\n",
    "def Get_operator_of_rotations(list_angles, list_Pwords, return_conjugate=False):\n",
    "    \n",
    "    op_to_apply_left =[]\n",
    "    for theta_sk, Pword in zip(list_angles, list_Pwords):\n",
    "        \n",
    "        pauliword_X_sk = list(Pword.terms.keys())[0]\n",
    "        const_X_sk = list(Pword.terms.values())[0]\n",
    "        P_new = QubitOperator(pauliword_X_sk, -1j)\n",
    "#         P_new = QubitOperator(pauliword_X_sk, 1)\n",
    "        \n",
    "        \n",
    "        Rot_op= np.cos(theta_sk/2*const_X_sk) * QubitOperator('') -1j*np.sin(theta_sk/2*const_X_sk)*P_new\n",
    "        op_to_apply_left.append(Rot_op)\n",
    "        \n",
    "#     R = reduce(lambda x,y: x+y, op_to_apply_left[::-1])  # <- note reverse order!\n",
    "    op_to_apply_right = list(map(hermitian_conjugated, op_to_apply_left))\n",
    "    return op_to_apply_left, op_to_apply_right\n",
    "   "
   ]
  },
  {
   "cell_type": "code",
   "execution_count": 243,
   "metadata": {},
   "outputs": [],
   "source": [
    "from scipy.linalg import expm\n",
    "from openfermion.linalg import qubit_operator_sparse\n",
    "PS_mat = qubit_operator_sparse(Ps)\n",
    "A =expm(-1j*PS_mat*theta/2).todense()\n",
    "B = np.cos(theta/2) *np.eye(8) - 1j*np.sin(theta/2) *PS_mat.todense()"
   ]
  },
  {
   "cell_type": "code",
   "execution_count": 245,
   "metadata": {},
   "outputs": [
    {
     "data": {
      "text/plain": [
       "matrix([[ True,  True,  True,  True,  True,  True,  True,  True],\n",
       "        [ True,  True,  True,  True,  True,  True,  True,  True],\n",
       "        [ True,  True,  True,  True,  True,  True,  True,  True],\n",
       "        [ True,  True,  True,  True,  True,  True,  True,  True],\n",
       "        [ True,  True,  True,  True, False,  True,  True,  True],\n",
       "        [ True,  True,  True,  True,  True, False,  True,  True],\n",
       "        [ True,  True,  True,  True,  True,  True, False,  True],\n",
       "        [ True,  True,  True,  True,  True,  True,  True, False]])"
      ]
     },
     "execution_count": 245,
     "metadata": {},
     "output_type": "execute_result"
    }
   ],
   "source": [
    "A == B"
   ]
  },
  {
   "cell_type": "code",
   "execution_count": 248,
   "metadata": {},
   "outputs": [
    {
     "data": {
      "text/plain": [
       "(0.9238795325112866+0j)"
      ]
     },
     "execution_count": 248,
     "metadata": {},
     "output_type": "execute_result"
    }
   ],
   "source": [
    "A[7,7]"
   ]
  },
  {
   "cell_type": "code",
   "execution_count": 247,
   "metadata": {},
   "outputs": [
    {
     "data": {
      "text/plain": [
       "(0.9238795325112867+0j)"
      ]
     },
     "execution_count": 247,
     "metadata": {},
     "output_type": "execute_result"
    }
   ],
   "source": [
    "B[7,7]"
   ]
  },
  {
   "cell_type": "code",
   "execution_count": 182,
   "metadata": {},
   "outputs": [
    {
     "data": {
      "text/plain": [
       "((1-0j) [X1 Y2], (1-0j) [Z1 Y2], (-1+0j) [Z0 Y1], (1-0j) [Y0 X2])"
      ]
     },
     "execution_count": 182,
     "metadata": {},
     "output_type": "execute_result"
    }
   ],
   "source": [
    "P_list_R"
   ]
  },
  {
   "cell_type": "code",
   "execution_count": 229,
   "metadata": {},
   "outputs": [
    {
     "data": {
      "text/plain": [
       "[(0.9238795325112867-0j) [] +\n",
       " (0.3826834323650898-0j) [X1 Y2],\n",
       " (0.9674144188693756-0j) [] +\n",
       " (-0.2531982270151754-0j) [Z1 Y2],\n",
       " (0.9295821837545292-0j) [] +\n",
       " (0.3686149259676835-0j) [Z0 Y1],\n",
       " (0.7465858955676122-0j) [] +\n",
       " (0.6652890353369025-0j) [Y0 X2]]"
      ]
     },
     "execution_count": 229,
     "metadata": {},
     "output_type": "execute_result"
    }
   ],
   "source": [
    "R_list, R_dag_list = Get_operator_of_rotations(angles, P_list_R, return_conjugate=True)\n",
    "R_dag_list"
   ]
  },
  {
   "cell_type": "code",
   "execution_count": 230,
   "metadata": {},
   "outputs": [],
   "source": [
    "new_middle_list = deepcopy(P_in_set)\n",
    "\n",
    "for R_op in R_list[::-1]:\n",
    "    for mid_ind in range(len(new_middle_list)):\n",
    "        m_op = new_middle_list[mid_ind]\n",
    "        new = R_op*m_op\n",
    "        new_middle_list[mid_ind] = new\n",
    "\n",
    "for R_op in R_list:\n",
    "    for mid_ind in range(len(new_middle_list)):\n",
    "        m_op = new_middle_list[mid_ind]\n",
    "        new = m_op*hermitian_conjugated(R_op)\n",
    "        new_middle_list[mid_ind] = new\n",
    "        \n",
    "# for R_op in R_dag_list[::-1]:\n",
    "#     for mid_ind in range(len(new_middle_list)):\n",
    "#         m_op = new_middle_list[mid_ind]\n",
    "#         new = m_op * R_op\n",
    "#         new_middle_list[mid_ind] = new"
   ]
  },
  {
   "cell_type": "code",
   "execution_count": 227,
   "metadata": {},
   "outputs": [
    {
     "data": {
      "text/plain": [
       "[(0.00303794410836093+0j) [] +\n",
       " 0.016609279995291066j [X0 X1 Z2] +\n",
       " -0.0003274696111830234j [X0 Y1 X2] +\n",
       " -0.008314437141828135j [X0 Z1 Z2] +\n",
       " (-0.01018587976766983+0j) [X0 X2] +\n",
       " -0.0004192967920934646j [Y0 X1 Z2] +\n",
       " -0.00856403778271947j [Y0 Y1 X2] +\n",
       " 0.002141564123380957j [Y0 Z1 Z2] +\n",
       " (0.002707137808600396+0j) [Y0 X2] +\n",
       " -0.013973459473687288j [Z0] +\n",
       " -0.017782094364062882j [Z0 X1 Y2] +\n",
       " (0.0012046611501034693+0j) [Z0 Y1] +\n",
       " 0.009364810285524846j [Z0 Z1 Y2] +\n",
       " (0.001258357651414536+0j) [X1 Y2] +\n",
       " -0.01048285537995436j [Y1] +\n",
       " (-0.0007951112232823208+0j) [Z1 Y2],\n",
       " 0.007334245868136396j [] +\n",
       " (-0.036792258293515685+0j) [X0 X1 Z2] +\n",
       " (-0.007388213211027983+0j) [X0 Y1 X2] +\n",
       " (0.0003274696111830234+0j) [X0 Z1 Z2] +\n",
       " -0.016609279995291066j [X0 X2] +\n",
       " (0.002707137808600396+0j) [Y0 X1 Z2] +\n",
       " (-0.002141564123380957+0j) [Y0 Y1 X2] +\n",
       " (-0.014621295838673465+0j) [Y0 Z1 Z2] +\n",
       " 0.0072376452161778525j [Y0 X2] +\n",
       " (0.017782094364062882+0j) [Z0] +\n",
       " (0.03632189856042452+0j) [Z0 X1 Y2] +\n",
       " -0.005957514012444254j [Z0 Y1] +\n",
       " (-0.0012046611501034693+0j) [Z0 Z1 Y2] +\n",
       " 0.00303794410836093j [X1 Y2] +\n",
       " (-0.0007951112232823208+0j) [Y1] +\n",
       " -0.012731769531076206j [Z1 Y2],\n",
       " -0.009224489233557304j [] +\n",
       " (-0.0002602445582689252+0j) [X0 X1 Z2] +\n",
       " (0.012273397004785287+0j) [X0 Y1 X2] +\n",
       " (0.028991879974228807+0j) [X0 Z1 Z2] +\n",
       " -0.006607596391655657j [X0 X2] +\n",
       " (-0.013665194629622837+0j) [Y0 X1 Z2] +\n",
       " (0.0003332208690990713+0j) [Y0 Y1 X2] +\n",
       " (0.002151399272216945+0j) [Y0 Z1 Z2] +\n",
       " -0.009358872172967936j [Y0 X2] +\n",
       " (0.00744234222902167+0j) [Z0] +\n",
       " (0.0009573606165770151+0j) [Z0 X1 Y2] +\n",
       " 0.010724376208386718j [Z0 Y1] +\n",
       " (-0.027955292711130793+0j) [Z0 Z1 Y2] +\n",
       " -0.012413512066054967j [X1 Y2] +\n",
       " (0.0010000339572079297+0j) [Y1] +\n",
       " 0.0024142955423250207j [Z1 Y2],\n",
       " 0.01169538836709862j [] +\n",
       " (0.0032692721611831694+0j) [X0 X1 Z2] +\n",
       " (0.0041326664831176346+0j) [X0 Y1 X2] +\n",
       " (0.0006400907237372154+0j) [X0 Z1 Z2] +\n",
       " -0.013073701601875905j [X0 X2] +\n",
       " (0.019551903092861166+0j) [Y0 X1 Z2] +\n",
       " (0.05623840357481564+0j) [Y0 Y1 X2] +\n",
       " (0.027109878998178294+0j) [Y0 Z1 Z2] +\n",
       " 0.0115607113862827j [Y0 X2] +\n",
       " (0.016002933038161273+0j) [Z0] +\n",
       " (-0.0012138020799570444+0j) [Z0 X1 Y2] +\n",
       " 0.004637669258772905j [Z0 Y1] +\n",
       " (-0.0019209855047845163+0j) [Z0 Z1 Y2] +\n",
       " 0.01837879026550634j [X1 Y2] +\n",
       " (0.055342439027442805+0j) [Y1] +\n",
       " 0.02456613926560762j [Z1 Y2],\n",
       " -0.06572470219521057j [] +\n",
       " (0.34281699431988444+0j) [X0 X1 Z2] +\n",
       " (-0.023224391131734377+0j) [X0 Y1 X2] +\n",
       " (-0.18054206938344264+0j) [X0 Z1 Z2] +\n",
       " 0.269391179629624j [X0 X2] +\n",
       " (-0.024259593892898237+0j) [Y0 X1 Z2] +\n",
       " (-0.20209660907596777+0j) [Y0 Y1 X2] +\n",
       " (0.015328770286278784+0j) [Y0 Z1 Z2] +\n",
       " -0.05856784059389847j [Y0 X2] +\n",
       " (-0.3459956767438245+0j) [Z0] +\n",
       " (-0.36998904522376996+0j) [Z0 X1 Y2] +\n",
       " -0.04044460012475691j [Z0 Y1] +\n",
       " (0.20319432419844938+0j) [Z0 Z1 Y2] +\n",
       " -0.040758464818822504j [X1 Y2] +\n",
       " (-0.2417782202452373+0j) [Y1] +\n",
       " -0.010425222817295271j [Z1 Y2]]"
      ]
     },
     "execution_count": 227,
     "metadata": {},
     "output_type": "execute_result"
    }
   ],
   "source": [
    "new_middle_list"
   ]
  },
  {
   "cell_type": "code",
   "execution_count": 195,
   "metadata": {},
   "outputs": [],
   "source": [
    "R = reduce(lambda x,y: x+y, R_list)\n",
    "R_dag = reduce(lambda x,y: x+y, R_dag_list)"
   ]
  },
  {
   "cell_type": "code",
   "execution_count": 199,
   "metadata": {},
   "outputs": [
    {
     "data": {
      "text/plain": [
       "(0.0641093421636283+0j) []"
      ]
     },
     "execution_count": 199,
     "metadata": {},
     "output_type": "execute_result"
    }
   ],
   "source": [
    "list(R)[2]*list(R_dag)[2]"
   ]
  },
  {
   "cell_type": "code",
   "execution_count": 144,
   "metadata": {},
   "outputs": [],
   "source": [
    "P_list_R, angles = zip(*X_sk_theta_sk_list)"
   ]
  },
  {
   "cell_type": "code",
   "execution_count": 150,
   "metadata": {},
   "outputs": [
    {
     "data": {
      "text/plain": [
       "[((1-0j) [X1 Y2], -0.7853981633974483),\n",
       " ((1-0j) [Z1 Y2], 0.5119695711373766),\n",
       " ((-1+0j) [Z0 Y1], 0.7550371667782845),\n",
       " ((1-0j) [Y0 X2], -1.4557617880633529)]"
      ]
     },
     "execution_count": 150,
     "metadata": {},
     "output_type": "execute_result"
    }
   ],
   "source": [
    "X_sk_theta_sk_list"
   ]
  },
  {
   "cell_type": "code",
   "execution_count": 200,
   "metadata": {},
   "outputs": [],
   "source": [
    "from functools import reduce\n",
    "P_in_set = normalised_FULL_set['PauliWords']"
   ]
  },
  {
   "cell_type": "code",
   "execution_count": 166,
   "metadata": {},
   "outputs": [
    {
     "data": {
      "text/plain": [
       "(-0.14539449173224087+1.3877787807814457e-17j) [X0 X1 Z2] +\n",
       "(0.01872256831019547+8.673617379884035e-19j) [X0 Y1 X2] +\n",
       "(0.18887715755602846+0j) [X0 Z1 Z2] +\n",
       "(0.6151243689869057+0j) [X0 X2] +\n",
       "(0.03440595800779821+8.673617379884035e-19j) [Y0 X1 Z2] +\n",
       "(0.5323845578866722+0j) [Y0 Y1 X2] +\n",
       "(0.07925809146609145+8.673617379884035e-19j) [Y0 Z1 Z2] +\n",
       "(-12.468516379638633+1.3877787807814457e-17j) [Z0] +\n",
       "(-2.4677804352237347+0j) [Z0 X1 Y2] +\n",
       "(1.600230529099678+0j) [Z0 Z1 Y2] +\n",
       "(-2.2392690426243504+1.734723475976807e-18j) [Y1]"
      ]
     },
     "execution_count": 166,
     "metadata": {},
     "output_type": "execute_result"
    }
   ],
   "source": [
    "R_list*middle*R_dag_list"
   ]
  },
  {
   "cell_type": "markdown",
   "metadata": {},
   "source": [
    "To perform Unitary Partitioning via a sequence of rotations - apply the exponentiated form of operators in ```X_sk_theta_sk_list```"
   ]
  },
  {
   "cell_type": "code",
   "execution_count": 100,
   "metadata": {},
   "outputs": [
    {
     "data": {
      "text/plain": [
       "1.0 []"
      ]
     },
     "execution_count": 100,
     "metadata": {},
     "output_type": "execute_result"
    }
   ],
   "source": [
    "QubitOperator('')"
   ]
  },
  {
   "cell_type": "code",
   "execution_count": 99,
   "metadata": {},
   "outputs": [
    {
     "data": {
      "text/plain": [
       "(0, 2)"
      ]
     },
     "execution_count": 99,
     "metadata": {},
     "output_type": "execute_result"
    }
   ],
   "source": [
    "qNo, P_strs = zip(*list(Ps.terms.keys())[0])\n",
    "qNo"
   ]
  },
  {
   "cell_type": "markdown",
   "metadata": {},
   "source": [
    "# 4. Linear Algebra VQE with  Sequence of Rotations"
   ]
  },
  {
   "cell_type": "code",
   "execution_count": 12,
   "metadata": {},
   "outputs": [
    {
     "data": {
      "text/plain": [
       "-2.9160184902684536"
      ]
     },
     "execution_count": 12,
     "metadata": {},
     "output_type": "execute_result"
    }
   ],
   "source": [
    "from quchem.Unitary_Partitioning.Unitary_partitioning_Seq_Rot import SeqRot_linalg_Energy\n",
    "\n",
    "S_key_dict = {set_key: 0 for set_key in anti_commuting_sets}\n",
    "\n",
    "SeqRot_linalg_Energy(anti_commuting_sets,\n",
    "                     S_key_dict,\n",
    "                     N_qubits,\n",
    "                     atol=1e-8,\n",
    "                     rtol=1e-05,\n",
    "                     check_reduction=True)"
   ]
  },
  {
   "cell_type": "code",
   "execution_count": 15,
   "metadata": {},
   "outputs": [
    {
     "data": {
      "text/plain": [
       "-2.916018490268455"
      ]
     },
     "execution_count": 15,
     "metadata": {},
     "output_type": "execute_result"
    }
   ],
   "source": [
    "## compare to true GS (diagonlize Molecular Hamiltonian)\n",
    "\n",
    "from openfermion.linalg import qubit_operator_sparse\n",
    "from scipy.sparse.linalg import eigsh\n",
    "from scipy.linalg import eigh\n",
    "\n",
    "if N_qubits<5:\n",
    "    sparseH = qubit_operator_sparse(openFermion_H, n_qubits=N_qubits)\n",
    "    denseH = sparseH.todense()\n",
    "    eig_values, eig_vectors = eigh(denseH) # NOT sparse!\n",
    "else:\n",
    "    sparseH = qubit_operator_sparse(openFermion_H, n_qubits=N_qubits)\n",
    "    eig_values, eig_vectors = eigsh(sparseH, k=1, which='SA')\n",
    "    \n",
    "FCI_Energy = min(eig_values)\n",
    "FCI_Energy"
   ]
  }
 ],
 "metadata": {
  "kernelspec": {
   "display_name": "Python 3",
   "language": "python",
   "name": "python3"
  },
  "language_info": {
   "codemirror_mode": {
    "name": "ipython",
    "version": 3
   },
   "file_extension": ".py",
   "mimetype": "text/x-python",
   "name": "python",
   "nbconvert_exporter": "python",
   "pygments_lexer": "ipython3",
   "version": "3.8.5"
  }
 },
 "nbformat": 4,
 "nbformat_minor": 4
}
