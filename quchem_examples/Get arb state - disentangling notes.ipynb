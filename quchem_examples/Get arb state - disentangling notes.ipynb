{
 "cells": [
  {
   "cell_type": "markdown",
   "metadata": {},
   "source": [
    "# Initalizing quantum circuit to arb state\n",
    "\n",
    "Following https://arxiv.org/pdf/quant-ph/0406176.pdf"
   ]
  },
  {
   "cell_type": "code",
   "execution_count": 1,
   "metadata": {},
   "outputs": [],
   "source": [
    "#                  n : ──\\\\──(C-0)─────────────(C-0)────────────\n",
    "#    |ψ> (n+1)                 │                 │             \n",
    "#                  1 : ─────── Rz (-phi) ─────── Ry(-theta)──── |ψ''>"
   ]
  },
  {
   "cell_type": "markdown",
   "metadata": {},
   "source": [
    "Any qubit state can be written as:\n",
    "\n",
    "$$ |\\psi \\rangle = \\alpha_{0}|0\\rangle + \\alpha_{1}|1\\rangle = r e^{i t/2} \\bigg[ e^{-i\\phi/2} \\cos\\big(\\frac{\\theta}{2}\\big)|0\\rangle +  e^{+i\\phi/2} \\sin\\big(\\frac{\\theta}{2}\\big)|1\\rangle \\bigg]$$\n",
    "\n",
    "- the constant phase $r e^{i t/2}$ can be ignored!\n",
    "- state is defined by $\\theta$ and $\\phi$\n",
    "\n",
    "We can use $R_{y}(\\theta)$ and $R_{z}(\\phi)$ to rotate general state to zero state. First rotate anti-clockwise around z-axis by $\\psi$ then anti-clockwise about x by $\\theta$:\n",
    "\n",
    "$$R_{y}(-\\theta) R_{z}(-\\phi) |\\psi \\rangle =  r e^{i t/2}|0 \\rangle$$\n",
    "\n",
    "$$R_{y}(\\theta-\\pi) R_{z}(\\pi-\\phi) |\\psi \\rangle =  r e^{i (t-\\pi)/2}|1 \\rangle$$"
   ]
  },
  {
   "cell_type": "code",
   "execution_count": null,
   "metadata": {},
   "outputs": [],
   "source": []
  },
  {
   "cell_type": "markdown",
   "metadata": {},
   "source": [
    "The second equation is important in this derivation\n",
    "\n",
    "$$R_{y}(-\\theta) R_{z}(-\\phi) |\\psi \\rangle =  r e^{i t/2}|0 \\rangle$$\n",
    "\n",
    "Aka any state can be taken to $|0 \\rangle$ state using $\\phi$ and $\\theta$ rotation!\n",
    "\n"
   ]
  },
  {
   "cell_type": "markdown",
   "metadata": {},
   "source": [
    "For any multi-qubit state, we can write:\n",
    "\n",
    "$$|\\psi \\rangle = \\alpha_{0_{0}}|000 \\rangle + \\alpha_{0_{1}}|001\\rangle + \\alpha_{1_{0}}|010 \\rangle + \\alpha_{1_{1}}+ |011\\rangle \\alpha_{2_{0}}+|100 \\rangle + \\alpha_{2_{1}}|101\\rangle + \\alpha_{3_{0}}|110 \\rangle + \\alpha_{3_{1}}|111\\rangle\n",
    "$$\n",
    "\n",
    "- here $\\alpha_{A_{B}}$, $A$ runs through the states $2^{n-1}-1$ and $B$ is the value of the rightmost bit!\n"
   ]
  },
  {
   "cell_type": "markdown",
   "metadata": {},
   "source": [
    "Then factor out RIGHT-most bit:\n",
    "\n",
    "$$|\\psi \\rangle =  |00 \\rangle \\otimes \\big[ \\alpha_{0_{0}}|0 \\rangle + \\alpha_{0_{1}}|1\\rangle \\big] + \\\\ \n",
    "\\: \\: \\: \\: \\: \\: \\: \\: \\: \\:   |01 \\rangle \\otimes \\big[ \\alpha_{1_{0}}|0 \\rangle + \\alpha_{1_{1}}|1\\rangle \\big]+ \\\\ \n",
    "\\: \\: \\: \\: \\: \\: \\: \\: \\: \\:   |10 \\rangle \\otimes \\big[ \\alpha_{2_{0}}|0 \\rangle + \\alpha_{2_{1}}|1\\rangle \\big]+ \\\\ \n",
    "\\: \\: \\: \\: \\: \\: \\:    |11 \\rangle \\otimes  \\big[ \\alpha_{3_{0}}|0 \\rangle + \\alpha_{3_{1}}|1\\rangle \\big] $$\n",
    "\n",
    "We can re-write this as:  \n",
    " \n",
    "$$|\\psi \\rangle =  |00 \\rangle \\otimes \\big[|\\rho_{0} \\rangle \\big] + \\\\ \n",
    "\\: \\: \\: \\: \\: \\: \\: \\: \\: \\: |01 \\rangle \\otimes \\big[|\\rho_{1} \\rangle \\big]+ \\\\ \n",
    "\\: \\: \\: \\: \\: \\: \\: \\: \\: \\:  |10 \\rangle \\otimes \\big[|\\rho_{2} \\rangle \\big]+ \\\\ \n",
    "\\: \\: \\: \\: \\: \\: \\:   |11 \\rangle \\otimes  \\big[|\\rho_{3} \\rangle \\big] $$"
   ]
  },
  {
   "cell_type": "markdown",
   "metadata": {},
   "source": [
    "- Then we need to map each of the $|\\rho_{0} \\rangle$ to $|\\rho_{(2^{n-1}-1)} \\rangle$ states to $|0 \\rangle$\n",
    "    - by finding appropriate $\\phi$ and $\\theta$ angles \n",
    "\n",
    "\n",
    "- Doing this Simultanously on all states amounts to doing the following unitary:\n",
    "    - this disentangles the least significant (right-most) bit at each step!\n",
    "\n",
    "$$\n",
    "U=\n",
    "\\left(\\begin{array}{cccc}\n",
    "R_{y}\\left(-\\theta_{0}\\right) R_{z}\\left(-\\phi_{0}\\right) & & & \\\\\n",
    "& R_{y}\\left(-\\theta_{1}\\right) R_{z}\\left(-\\phi_{1}\\right) & & \\\\\n",
    "& & \\ddots& & \\\\\n",
    "& & & R_{y}\\left(-\\theta_{2^{n}-1}-1\\right)\n",
    "\\end{array}\\right)$$\n",
    "\n",
    "aka the action is:\n",
    "\n",
    "$$\n",
    "U|\\psi\\rangle=|\\psi'\\rangle \\otimes |0\\rangle=\\left(\\begin{array}{c}\n",
    "r_{0} e^{i t_{0}} \\\\\n",
    "r_{1} e^{i t_{1}} \\\\\n",
    "\\vdots\\\\\n",
    "r_{2^{n}-1_{-1}} e^{i t_{2^{n}-1}-1}\n",
    "\\end{array}\\right) \\otimes|0\\rangle$$\n",
    "\n",
    "\n",
    "NOW $U$ can be implemented using a multiplexed $R_{z}$ gate followed by a multiplexed $R_{y}$ gate!"
   ]
  },
  {
   "cell_type": "code",
   "execution_count": null,
   "metadata": {},
   "outputs": [],
   "source": []
  },
  {
   "cell_type": "markdown",
   "metadata": {},
   "source": [
    "# Functions"
   ]
  },
  {
   "cell_type": "code",
   "execution_count": 2,
   "metadata": {},
   "outputs": [],
   "source": [
    "import numpy as np"
   ]
  },
  {
   "cell_type": "markdown",
   "metadata": {},
   "source": [
    "## 1. Single Qubit state"
   ]
  },
  {
   "cell_type": "markdown",
   "metadata": {},
   "source": [
    "- Given $\\alpha_{0}$ and $\\alpha_{1}$ find theta and phi\n",
    "\n",
    "$$ |\\psi \\rangle = \\alpha_{0}|0\\rangle + \\alpha_{1}|1\\rangle = r e^{i t/2} \\bigg[ e^{-i\\phi/2} \\cos\\big(\\frac{\\theta}{2}\\big)|0\\rangle +  e^{+i\\phi/2} \\sin\\big(\\frac{\\theta}{2}\\big)|1\\rangle \\bigg]$$"
   ]
  },
  {
   "cell_type": "code",
   "execution_count": 3,
   "metadata": {},
   "outputs": [
    {
     "data": {
      "text/plain": [
       "array([[0.707+0.j   ],\n",
       "       [0.   +0.707j]])"
      ]
     },
     "execution_count": 3,
     "metadata": {},
     "output_type": "execute_result"
    }
   ],
   "source": [
    "from quchem.Qcircuit.Circuit_functions_to_create_arb_state import Single_qubit_rotation\n",
    "\n",
    "alpha_0 = 1/np.sqrt(2) \n",
    "alpha_1 = 1j/np.sqrt(2)\n",
    "\n",
    "global_phase , theta, phi = Single_qubit_rotation(alpha_0, alpha_1)\n",
    "\n",
    "state = global_phase * np.array([[np.exp(-1j*phi/2)*np.cos(theta/2)], [np.exp(1j*phi/2)*np.cos(theta/2)]])\n",
    "np.around(state, 3)"
   ]
  },
  {
   "cell_type": "code",
   "execution_count": null,
   "metadata": {},
   "outputs": [],
   "source": []
  },
  {
   "cell_type": "markdown",
   "metadata": {},
   "source": [
    "## 2. Rotations to disentangle right-most bit\n",
    "\n",
    "Given a state like:\n",
    "\n",
    "$$|\\psi \\rangle =  |00 \\rangle \\otimes \\big[|\\rho_{0} \\rangle \\big] + \\\\ \n",
    "\\: \\: \\: \\: \\: \\: \\: \\: \\: \\: |01 \\rangle \\otimes \\big[|\\rho_{1} \\rangle \\big]+ \\\\ \n",
    "\\: \\: \\: \\: \\: \\: \\: \\: \\: \\:  |10 \\rangle \\otimes \\big[|\\rho_{2} \\rangle \\big]+ \\\\ \n",
    "\\: \\: \\: \\: \\: \\: \\:   |11 \\rangle \\otimes  \\big[|\\rho_{3} \\rangle \\big] $$\n",
    "\n",
    "Want to generate angles need to implement:\n",
    "\n",
    "$$\n",
    "U=\n",
    "\\left(\\begin{array}{cccc}\n",
    "R_{y}\\left(-\\theta_{0}\\right) R_{z}\\left(-\\phi_{0}\\right) & & & \\\\\n",
    "& R_{y}\\left(-\\theta_{1}\\right) R_{z}\\left(-\\phi_{1}\\right) & & \\\\\n",
    "& & \\ddots& & \\\\\n",
    "& & & R_{y}\\left(-\\theta_{2^{n}-1}-1\\right)\n",
    "\\end{array}\\right)$$"
   ]
  },
  {
   "cell_type": "code",
   "execution_count": 4,
   "metadata": {},
   "outputs": [
    {
     "data": {
      "text/plain": [
       "array([0.5   +0.j    , 0.3536-0.3536j, 0.    +0.5j   , 0.5   +0.j    ])"
      ]
     },
     "execution_count": 4,
     "metadata": {},
     "output_type": "execute_result"
    }
   ],
   "source": [
    "from quchem.Qcircuit.Circuit_functions_to_create_arb_state import Rotations_to_disentangle\n",
    "\n",
    "qubit_state_vector = np.array([\n",
    "    [1/np.sqrt(8)],\n",
    "    [1/np.sqrt(8)],\n",
    "    [1/np.sqrt(8)],\n",
    "    [-1j/np.sqrt(8)],\n",
    "    [1/np.sqrt(8)],\n",
    "    [-1/np.sqrt(8)],\n",
    "    [1/np.sqrt(8)],\n",
    "    [1/np.sqrt(8)]\n",
    "])\n",
    "\n",
    "remaining_vector, theta_list, phi_list = Rotations_to_disentangle(qubit_state_vector.flat)\n",
    "\n",
    "np.around(remaining_vector, 4)"
   ]
  },
  {
   "cell_type": "code",
   "execution_count": 5,
   "metadata": {},
   "outputs": [
    {
     "data": {
      "text/html": [
       "<pre style=\"overflow: auto; white-space: pre;\">      ┌                                                                  ┐\n",
       "      │ 0.354+0.j    -0.134+0.j    -0.154+0.j     0.   -0.183j -0.224+0.j│\n",
       "      │   0.289+0.j    -0.408+0.j    -0.707+0.j                          │\n",
       "      │ 0.354+0.j     0.935+0.j    -0.   +0.j     0.   -0.j    -0.   +0.j│\n",
       "      │   0.   +0.j    -0.   +0.j    -0.   +0.j                          │\n",
       "      │ 0.354+0.j    -0.134+0.j     0.926+0.j     0.   +0.j     0.   +0.j│\n",
       "      │   0.   +0.j     0.   +0.j     0.   +0.j                          │\n",
       "      │-0.   -0.354j  0.   +0.134j  0.   +0.154j  0.913+0.j     0.   +0.j│\n",
       "0: ───│   0.   +0.j     0.   +0.j     0.   +0.j                          │───(0)─────(0)────────@────────@───────(0)─────────(0)─────────@───────────@───────────\n",
       "      │ 0.354+0.j    -0.134+0.j    -0.154+0.j     0.   -0.183j  0.894+0.j│   │       │          │        │       │           │           │           │\n",
       "      │  -0.   +0.j     0.   +0.j     0.   +0.j                          │   │       │          │        │       │           │           │           │\n",
       "      │-0.354+0.j     0.134+0.j     0.154+0.j     0.   +0.183j  0.224+0.j│   │       │          │        │       │           │           │           │\n",
       "      │   0.866+0.j     0.   +0.j     0.   +0.j                          │   │       │          │        │       │           │           │           │\n",
       "      │ 0.354+0.j    -0.134+0.j    -0.154+0.j     0.   -0.183j -0.224+0.j│   │       │          │        │       │           │           │           │\n",
       "      │   0.289+0.j     0.816+0.j     0.   +0.j                          │   │       │          │        │       │           │           │           │\n",
       "      │ 0.354+0.j    -0.134+0.j    -0.154+0.j     0.   -0.183j -0.224+0.j│   │       │          │        │       │           │           │           │\n",
       "      │   0.289+0.j    -0.408+0.j     0.707+0.j                          │   │       │          │        │       │           │           │           │\n",
       "      └                                                                  ┘   │       │          │        │       │           │           │           │\n",
       "      │                                                                      │       │          │        │       │           │           │           │\n",
       "1: ───#2─────────────────────────────────────────────────────────────────────(0)─────@──────────(0)──────@───────(0)─────────@───────────(0)─────────@───────────\n",
       "      │                                                                      │       │          │        │       │           │           │           │\n",
       "2: ───#3─────────────────────────────────────────────────────────────────────Rz(0)───Rz(0.5π)───Rz(-π)───Rz(0)───Ry(-0.5π)───Ry(-0.5π)───Ry(-0.5π)───Ry(-0.5π)───</pre>"
      ],
      "text/plain": [
       "      ┌                                                                  ┐\n",
       "      │ 0.354+0.j    -0.134+0.j    -0.154+0.j     0.   -0.183j -0.224+0.j│\n",
       "      │   0.289+0.j    -0.408+0.j    -0.707+0.j                          │\n",
       "      │ 0.354+0.j     0.935+0.j    -0.   +0.j     0.   -0.j    -0.   +0.j│\n",
       "      │   0.   +0.j    -0.   +0.j    -0.   +0.j                          │\n",
       "      │ 0.354+0.j    -0.134+0.j     0.926+0.j     0.   +0.j     0.   +0.j│\n",
       "      │   0.   +0.j     0.   +0.j     0.   +0.j                          │\n",
       "      │-0.   -0.354j  0.   +0.134j  0.   +0.154j  0.913+0.j     0.   +0.j│\n",
       "0: ───│   0.   +0.j     0.   +0.j     0.   +0.j                          │───(0)─────(0)────────@────────@───────(0)─────────(0)─────────@───────────@───────────\n",
       "      │ 0.354+0.j    -0.134+0.j    -0.154+0.j     0.   -0.183j  0.894+0.j│   │       │          │        │       │           │           │           │\n",
       "      │  -0.   +0.j     0.   +0.j     0.   +0.j                          │   │       │          │        │       │           │           │           │\n",
       "      │-0.354+0.j     0.134+0.j     0.154+0.j     0.   +0.183j  0.224+0.j│   │       │          │        │       │           │           │           │\n",
       "      │   0.866+0.j     0.   +0.j     0.   +0.j                          │   │       │          │        │       │           │           │           │\n",
       "      │ 0.354+0.j    -0.134+0.j    -0.154+0.j     0.   -0.183j -0.224+0.j│   │       │          │        │       │           │           │           │\n",
       "      │   0.289+0.j     0.816+0.j     0.   +0.j                          │   │       │          │        │       │           │           │           │\n",
       "      │ 0.354+0.j    -0.134+0.j    -0.154+0.j     0.   -0.183j -0.224+0.j│   │       │          │        │       │           │           │           │\n",
       "      │   0.289+0.j    -0.408+0.j     0.707+0.j                          │   │       │          │        │       │           │           │           │\n",
       "      └                                                                  ┘   │       │          │        │       │           │           │           │\n",
       "      │                                                                      │       │          │        │       │           │           │           │\n",
       "1: ───#2─────────────────────────────────────────────────────────────────────(0)─────@──────────(0)──────@───────(0)─────────@───────────(0)─────────@───────────\n",
       "      │                                                                      │       │          │        │       │           │           │           │\n",
       "2: ───#3─────────────────────────────────────────────────────────────────────Rz(0)───Rz(0.5π)───Rz(-π)───Rz(0)───Ry(-0.5π)───Ry(-0.5π)───Ry(-0.5π)───Ry(-0.5π)───"
      ]
     },
     "execution_count": 5,
     "metadata": {},
     "output_type": "execute_result"
    }
   ],
   "source": [
    "from quchem.Qcircuit.Circuit_functions_to_create_arb_state import prepare_arb_state_cirq_matrix_gate\n",
    "import cirq\n",
    "qubits = list(cirq.LineQubit.range(3))\n",
    "\n",
    "ansatz_circuit = prepare_arb_state_cirq_matrix_gate(qubit_state_vector.flat,\n",
    "                             start_qubit_ind=0)\n",
    "\n",
    "undo_circuit = cirq.Circuit(\n",
    "cirq.rz(phi_list[0]).controlled(num_controls=2, control_values=[0,0]).on(\n",
    "                    *qubits),\n",
    "cirq.rz(phi_list[1]).controlled(num_controls=2, control_values=[0,1]).on(\n",
    "                *qubits),\n",
    "cirq.rz(phi_list[2]).controlled(num_controls=2, control_values=[1,0]).on(\n",
    "                    *qubits),\n",
    "cirq.rz(phi_list[3]).controlled(num_controls=2, control_values=[1,1]).on(\n",
    "                    *qubits),\n",
    "    \n",
    "cirq.ry(theta_list[0]).controlled(num_controls=2, control_values=[0,0]).on(\n",
    "                    *qubits),\n",
    "cirq.ry(theta_list[1]).controlled(num_controls=2, control_values=[0,1]).on(\n",
    "                    *qubits),\n",
    "cirq.ry(theta_list[2]).controlled(num_controls=2, control_values=[1,0]).on(\n",
    "                    *qubits),\n",
    "cirq.ry(theta_list[3]).controlled(num_controls=2, control_values=[1,1]).on(\n",
    "                    *qubits),\n",
    ")\n",
    "\n",
    "\n",
    "# undo_circuit = cirq.Circuit(\n",
    "# cirq.rz(phi_list[0]).on(qubits[1]),\n",
    "# cirq.rz(phi_list[1]).on(qubits[1]),\n",
    "    \n",
    "# cirq.ry(theta_list[0]).on(qubits[1]),\n",
    "# cirq.ry(theta_list[1]).on(qubits[1]),\n",
    "# )\n",
    "\n",
    "final_circuit = cirq.Circuit(\n",
    "ansatz_circuit.all_operations(),\n",
    "undo_circuit.all_operations() \n",
    ")\n",
    "final_circuit"
   ]
  },
  {
   "cell_type": "code",
   "execution_count": 6,
   "metadata": {},
   "outputs": [
    {
     "data": {
      "text/plain": [
       "array([0.5   +0.j    , 0.    +0.j    , 0.3536-0.3536j, 0.    -0.j    ,\n",
       "       0.    +0.5j   , 0.    +0.j    , 0.5   +0.j    , 0.    +0.j    ])"
      ]
     },
     "execution_count": 6,
     "metadata": {},
     "output_type": "execute_result"
    }
   ],
   "source": [
    "np.around(final_circuit.final_state_vector(), 4)"
   ]
  },
  {
   "cell_type": "code",
   "execution_count": 7,
   "metadata": {},
   "outputs": [
    {
     "data": {
      "text/plain": [
       "[(0.49999999999999994+0j),\n",
       " (0.35355339059327373-0.3535533905932737j),\n",
       " (3.0616169978683824e-17+0.49999999999999994j),\n",
       " (0.49999999999999994+0j)]"
      ]
     },
     "execution_count": 7,
     "metadata": {},
     "output_type": "execute_result"
    }
   ],
   "source": [
    "remaining_vector"
   ]
  },
  {
   "cell_type": "code",
   "execution_count": 8,
   "metadata": {},
   "outputs": [
    {
     "data": {
      "text/plain": [
       "array([0.5   +0.j    , 0.    +0.j    , 0.3536-0.3536j, 0.    +0.j    ,\n",
       "       0.    +0.5j   , 0.    +0.j    , 0.5   +0.j    , 0.    +0.j    ])"
      ]
     },
     "execution_count": 8,
     "metadata": {},
     "output_type": "execute_result"
    }
   ],
   "source": [
    "remaining_circuit = prepare_arb_state_cirq_matrix_gate(remaining_vector,\n",
    "                             start_qubit_ind=0)\n",
    "remaining_circuit.append(cirq.I.on(qubits[-1]))\n",
    "np.around(remaining_circuit.final_state_vector(), 4)"
   ]
  },
  {
   "cell_type": "markdown",
   "metadata": {},
   "source": [
    "## 3. Generate quantum circuit "
   ]
  },
  {
   "cell_type": "code",
   "execution_count": 9,
   "metadata": {},
   "outputs": [],
   "source": [
    "# first split of multi-control gate there are no possible CNOT cancellations\n",
    "\n",
    "# But for all next reductions the gates split into pairs (last CNOT gate will cancell out at each step!)"
   ]
  },
  {
   "cell_type": "code",
   "execution_count": 10,
   "metadata": {},
   "outputs": [],
   "source": [
    "qubits = list(cirq.LineQubit.range(4))"
   ]
  },
  {
   "cell_type": "code",
   "execution_count": 11,
   "metadata": {},
   "outputs": [
    {
     "data": {
      "text/html": [
       "<pre style=\"overflow: auto; white-space: pre;\">0: ───(0)──────────\n",
       "      │\n",
       "1: ───(0)──────────\n",
       "      │\n",
       "2: ───(0)──────────\n",
       "      │\n",
       "3: ───Rz(0.143π)───</pre>"
      ],
      "text/plain": [
       "0: ───(0)──────────\n",
       "      │\n",
       "1: ───(0)──────────\n",
       "      │\n",
       "2: ───(0)──────────\n",
       "      │\n",
       "3: ───Rz(0.143π)───"
      ]
     },
     "execution_count": 11,
     "metadata": {},
     "output_type": "execute_result"
    }
   ],
   "source": [
    "THETA = np.pi/7\n",
    "\n",
    "Rz_control_circ = cirq.Circuit(\n",
    "\n",
    "cirq.rz(THETA).controlled(num_controls=3, control_values=[0,0,0]).on(\n",
    "                    *qubits)\n",
    ")\n",
    "Rz_control_circ"
   ]
  },
  {
   "cell_type": "code",
   "execution_count": 12,
   "metadata": {},
   "outputs": [
    {
     "data": {
      "text/html": [
       "<pre style=\"overflow: auto; white-space: pre;\">0: ───(0)──────────\n",
       "      │\n",
       "1: ───(0)──────────\n",
       "      │\n",
       "2: ───(0)──────────\n",
       "      │\n",
       "3: ───Rz(0.143π)───</pre>"
      ],
      "text/plain": [
       "0: ───(0)──────────\n",
       "      │\n",
       "1: ───(0)──────────\n",
       "      │\n",
       "2: ───(0)──────────\n",
       "      │\n",
       "3: ───Rz(0.143π)───"
      ]
     },
     "execution_count": 12,
     "metadata": {},
     "output_type": "execute_result"
    }
   ],
   "source": [
    "cirq.Circuit(cirq.decompose(Rz_control_circ))"
   ]
  },
  {
   "cell_type": "markdown",
   "metadata": {},
   "source": [
    "This can be decomposed into:"
   ]
  },
  {
   "cell_type": "code",
   "execution_count": 13,
   "metadata": {},
   "outputs": [
    {
     "data": {
      "text/html": [
       "<pre style=\"overflow: auto; white-space: pre;\">0: ────────────────@────────────────@───\n",
       "                   │                │\n",
       "1: ───(0)──────────┼───(0)──────────┼───\n",
       "      │            │   │            │\n",
       "2: ───(0)──────────┼───(0)──────────┼───\n",
       "      │            │   │            │\n",
       "3: ───Rz(0.071π)───X───Rz(0.071π)───X───</pre>"
      ],
      "text/plain": [
       "0: ────────────────@────────────────@───\n",
       "                   │                │\n",
       "1: ───(0)──────────┼───(0)──────────┼───\n",
       "      │            │   │            │\n",
       "2: ───(0)──────────┼───(0)──────────┼───\n",
       "      │            │   │            │\n",
       "3: ───Rz(0.071π)───X───Rz(0.071π)───X───"
      ]
     },
     "execution_count": 13,
     "metadata": {},
     "output_type": "execute_result"
    }
   ],
   "source": [
    "Rz_first_decomp = cirq.Circuit(\n",
    "\n",
    "cirq.rz(THETA/2).controlled(num_controls=2, control_values=[0,0]).on(\n",
    "                    *qubits[1:]),\n",
    "    \n",
    "cirq.CNOT(qubits[0], qubits[-1]),\n",
    "    \n",
    "cirq.rz(THETA/2).controlled(num_controls=2, control_values=[0,0]).on(\n",
    "                    *qubits[1:]),\n",
    "    \n",
    "cirq.CNOT(qubits[0], qubits[-1])\n",
    ")\n",
    "Rz_first_decomp"
   ]
  },
  {
   "cell_type": "code",
   "execution_count": 14,
   "metadata": {},
   "outputs": [
    {
     "data": {
      "text/plain": [
       "True"
      ]
     },
     "execution_count": 14,
     "metadata": {},
     "output_type": "execute_result"
    }
   ],
   "source": [
    "np.allclose(Rz_control_circ.unitary(), Rz_first_decomp.unitary())"
   ]
  },
  {
   "cell_type": "markdown",
   "metadata": {},
   "source": [
    "We can repeat this process for all the zero controlled rotation gates!\n",
    "\n",
    "aka final step is:"
   ]
  },
  {
   "cell_type": "code",
   "execution_count": 15,
   "metadata": {},
   "outputs": [
    {
     "data": {
      "text/html": [
       "<pre style=\"overflow: auto; white-space: pre;\">0: ─────────────────────────────────────@─────────────────────────────────────@───\n",
       "                                        │                                     │\n",
       "1: ────────────────@────────────────@───┼───@────────────────@────────────────┼───\n",
       "                   │                │   │   │                │                │\n",
       "2: ───(0)──────────┼───(0)──────────┼───┼───┼───(0)──────────┼───(0)──────────┼───\n",
       "      │            │   │            │   │   │   │            │   │            │\n",
       "3: ───Rz(0.036π)───X───Rz(0.036π)───X───X───X───Rz(0.036π)───X───Rz(0.036π)───X───</pre>"
      ],
      "text/plain": [
       "0: ─────────────────────────────────────@─────────────────────────────────────@───\n",
       "                                        │                                     │\n",
       "1: ────────────────@────────────────@───┼───@────────────────@────────────────┼───\n",
       "                   │                │   │   │                │                │\n",
       "2: ───(0)──────────┼───(0)──────────┼───┼───┼───(0)──────────┼───(0)──────────┼───\n",
       "      │            │   │            │   │   │   │            │   │            │\n",
       "3: ───Rz(0.036π)───X───Rz(0.036π)───X───X───X───Rz(0.036π)───X───Rz(0.036π)───X───"
      ]
     },
     "execution_count": 15,
     "metadata": {},
     "output_type": "execute_result"
    }
   ],
   "source": [
    "Rz_second_decomp = cirq.Circuit(\n",
    "\n",
    "cirq.rz(THETA/4).controlled(num_controls=1, control_values=[0]).on(\n",
    "                    *qubits[2:]),\n",
    "cirq.CNOT(qubits[1], qubits[-1]),\n",
    "\n",
    "cirq.rz(THETA/4).controlled(num_controls=1, control_values=[0]).on(\n",
    "                    *qubits[2:]),\n",
    "cirq.CNOT(qubits[1], qubits[-1]), \n",
    "    \n",
    "cirq.CNOT(qubits[0], qubits[-1]),\n",
    "\n",
    "cirq.CNOT(qubits[1], qubits[-1]), \n",
    "    \n",
    "cirq.rz(THETA/4).controlled(num_controls=1, control_values=[0]).on(\n",
    "                    *qubits[2:]),\n",
    "cirq.CNOT(qubits[1], qubits[-1]),\n",
    "\n",
    "cirq.rz(THETA/4).controlled(num_controls=1, control_values=[0]).on(\n",
    "                    *qubits[2:]),\n",
    "# cirq.CNOT(qubits[1], qubits[-1]), \n",
    "    \n",
    "cirq.CNOT(qubits[0], qubits[-1])\n",
    ")\n",
    "Rz_second_decomp"
   ]
  },
  {
   "cell_type": "code",
   "execution_count": 16,
   "metadata": {},
   "outputs": [
    {
     "data": {
      "text/plain": [
       "True"
      ]
     },
     "execution_count": 16,
     "metadata": {},
     "output_type": "execute_result"
    }
   ],
   "source": [
    "np.allclose(Rz_control_circ.unitary(), Rz_second_decomp.unitary())"
   ]
  },
  {
   "cell_type": "markdown",
   "metadata": {},
   "source": [
    "IMPORTANTLY some CNOT gates will cancel,^^^^^^^^^^^^ see middle two here"
   ]
  },
  {
   "cell_type": "markdown",
   "metadata": {},
   "source": [
    "Hence we can use a recursive function to simplify these gates (note we sometimes get CNOT cancellation!)\n",
    "\n",
    "See page 11 of https://arxiv.org/pdf/quant-ph/0406176.pdf"
   ]
  },
  {
   "cell_type": "code",
   "execution_count": 17,
   "metadata": {},
   "outputs": [
    {
     "data": {
      "text/html": [
       "<pre style=\"overflow: auto; white-space: pre;\">0: ───(0)─────\n",
       "      │\n",
       "1: ───Ry(π)───</pre>"
      ],
      "text/plain": [
       "0: ───(0)─────\n",
       "      │\n",
       "1: ───Ry(π)───"
      ]
     },
     "execution_count": 17,
     "metadata": {},
     "output_type": "execute_result"
    }
   ],
   "source": [
    "tt1 = cirq.Circuit(\n",
    "cirq.ry(np.pi).controlled(num_controls=1, control_values=[0]).on(\n",
    "                    *qubits[:2]),\n",
    ")\n",
    "tt1"
   ]
  },
  {
   "cell_type": "code",
   "execution_count": 18,
   "metadata": {},
   "outputs": [
    {
     "data": {
      "text/html": [
       "<pre style=\"overflow: auto; white-space: pre;\">0: ──────────────@──────────────@───\n",
       "                 │              │\n",
       "1: ───Ry(0.5π)───X───Ry(0.5π)───X───</pre>"
      ],
      "text/plain": [
       "0: ──────────────@──────────────@───\n",
       "                 │              │\n",
       "1: ───Ry(0.5π)───X───Ry(0.5π)───X───"
      ]
     },
     "execution_count": 18,
     "metadata": {},
     "output_type": "execute_result"
    }
   ],
   "source": [
    "tt2 = cirq.Circuit(\n",
    "cirq.ry(np.pi/2).on(qubits[1]),\n",
    "cirq.CNOT(qubits[0], qubits[1]),\n",
    "cirq.ry(np.pi/2).on(qubits[1]),\n",
    "cirq.CNOT(qubits[0], qubits[1]))\n",
    "tt2"
   ]
  },
  {
   "cell_type": "code",
   "execution_count": null,
   "metadata": {},
   "outputs": [],
   "source": []
  },
  {
   "cell_type": "code",
   "execution_count": null,
   "metadata": {},
   "outputs": [],
   "source": []
  },
  {
   "cell_type": "code",
   "execution_count": 19,
   "metadata": {},
   "outputs": [
    {
     "data": {
      "text/html": [
       "<pre style=\"overflow: auto; white-space: pre;\">0: ───@────────────\n",
       "      │\n",
       "1: ───@────────────\n",
       "      │\n",
       "2: ───@────────────\n",
       "      │\n",
       "3: ───Rz(0.143π)───</pre>"
      ],
      "text/plain": [
       "0: ───@────────────\n",
       "      │\n",
       "1: ───@────────────\n",
       "      │\n",
       "2: ───@────────────\n",
       "      │\n",
       "3: ───Rz(0.143π)───"
      ]
     },
     "execution_count": 19,
     "metadata": {},
     "output_type": "execute_result"
    }
   ],
   "source": [
    "THETA = np.pi/7\n",
    "Rz_ones = cirq.Circuit(\n",
    "\n",
    "cirq.rz(THETA).controlled(num_controls=3, control_values=[1, 1, 1]).on(\n",
    "                    *qubits)\n",
    ")\n",
    "Rz_ones"
   ]
  },
  {
   "cell_type": "code",
   "execution_count": 20,
   "metadata": {},
   "outputs": [
    {
     "data": {
      "text/html": [
       "<pre style=\"overflow: auto; white-space: pre;\">0: ────────────────@─────────────────@───\n",
       "                   │                 │\n",
       "1: ───@────────────┼───@─────────────┼───\n",
       "      │            │   │             │\n",
       "2: ───@────────────┼───@─────────────┼───\n",
       "      │            │   │             │\n",
       "3: ───Rz(0.071π)───X───Rz(-0.071π)───X───</pre>"
      ],
      "text/plain": [
       "0: ────────────────@─────────────────@───\n",
       "                   │                 │\n",
       "1: ───@────────────┼───@─────────────┼───\n",
       "      │            │   │             │\n",
       "2: ───@────────────┼───@─────────────┼───\n",
       "      │            │   │             │\n",
       "3: ───Rz(0.071π)───X───Rz(-0.071π)───X───"
      ]
     },
     "execution_count": 20,
     "metadata": {},
     "output_type": "execute_result"
    }
   ],
   "source": [
    "Rz_ones_decomp = cirq.Circuit(\n",
    "\n",
    "cirq.rz(THETA/2).controlled(num_controls=2, control_values=[1,1]).on(\n",
    "                    *qubits[1:]),\n",
    "    \n",
    "cirq.CNOT(qubits[0], qubits[-1]),\n",
    "    \n",
    "cirq.rz(-THETA/2).controlled(num_controls=2, control_values=[1,1]).on(\n",
    "                    *qubits[1:]), # NOTE NEGATIVE SIGN\n",
    "    \n",
    "cirq.CNOT(qubits[0], qubits[-1])\n",
    ")\n",
    "Rz_ones_decomp"
   ]
  },
  {
   "cell_type": "code",
   "execution_count": 21,
   "metadata": {},
   "outputs": [
    {
     "data": {
      "text/html": [
       "<pre style=\"overflow: auto; white-space: pre;\">0: ───@─────────────────@────────────────\n",
       "      │                 │\n",
       "1: ───┼───@─────────────┼───@────────────\n",
       "      │   │             │   │\n",
       "2: ───┼───@─────────────┼───@────────────\n",
       "      │   │             │   │\n",
       "3: ───X───Rz(-0.071π)───X───Rz(0.071π)───</pre>"
      ],
      "text/plain": [
       "0: ───@─────────────────@────────────────\n",
       "      │                 │\n",
       "1: ───┼───@─────────────┼───@────────────\n",
       "      │   │             │   │\n",
       "2: ───┼───@─────────────┼───@────────────\n",
       "      │   │             │   │\n",
       "3: ───X───Rz(-0.071π)───X───Rz(0.071π)───"
      ]
     },
     "execution_count": 21,
     "metadata": {},
     "output_type": "execute_result"
    }
   ],
   "source": [
    "Rz_ones_decomp = cirq.Circuit(\n",
    "\n",
    "cirq.CNOT(qubits[0], qubits[-1]),\n",
    "cirq.rz(-THETA/2).controlled(num_controls=2, control_values=[1,1]).on(\n",
    "                    *qubits[1:]),\n",
    "    \n",
    "cirq.CNOT(qubits[0], qubits[-1]),\n",
    "    \n",
    "cirq.rz(+THETA/2).controlled(num_controls=2, control_values=[1,1]).on(\n",
    "                    *qubits[1:]),\n",
    "    \n",
    "\n",
    ")\n",
    "Rz_ones_decomp"
   ]
  },
  {
   "cell_type": "code",
   "execution_count": 22,
   "metadata": {},
   "outputs": [
    {
     "data": {
      "text/plain": [
       "True"
      ]
     },
     "execution_count": 22,
     "metadata": {},
     "output_type": "execute_result"
    }
   ],
   "source": [
    "np.allclose(Rz_ones.unitary(), Rz_ones_decomp.unitary())"
   ]
  },
  {
   "cell_type": "markdown",
   "metadata": {},
   "source": [
    "## 3.1 Recursive build"
   ]
  },
  {
   "cell_type": "code",
   "execution_count": 23,
   "metadata": {},
   "outputs": [],
   "source": [
    "def R_full_decomp(target_gate, Angle, control_list, line_qubit_list, include_last_CNOT=True, last_control_bit=None):\n",
    "    \n",
    "#     print(line_qubit_list)\n",
    "#     print(control_list)\n",
    "    \n",
    "    circuit= cirq.Circuit()\n",
    "    LSB = line_qubit_list[0]\n",
    "    # case of no multiplexing: base case for recursion\n",
    "    if len(line_qubit_list)==1:\n",
    "        if target_gate == 'Ry':\n",
    "            Ry_gate = cirq.ry(Angle)\n",
    "            circuit.append(Ry_gate.on(LSB))\n",
    "        elif target_gate == 'Rz':\n",
    "                Rz_gate = cirq.rz(Angle)\n",
    "                circuit.append(Rz_gate.on(LSB))\n",
    "        else:\n",
    "            raise ValueError(f'Incorrect gate specificed: {target_gate}')\n",
    "    \n",
    "        return circuit\n",
    "    \n",
    "    \n",
    "    if ((target_gate == 'Rz') and last_control_bit==1):\n",
    "        Angle_left = Angle/2\n",
    "        Angle_right = -Angle/2  # note sign here!\n",
    "    else:\n",
    "        Angle_left = Angle/2\n",
    "        Angle_right = Angle/2  \n",
    "\n",
    "    MSB = line_qubit_list[-1]\n",
    "    last_control_bit = control_list[0]\n",
    "    \n",
    "    Angle_left = Angle/2\n",
    "    decomp_left = R_full_decomp(target_gate, \n",
    "                                Angle_left, \n",
    "                                control_list[1:], \n",
    "                                line_qubit_list[:-1], \n",
    "                                last_control_bit=last_control_bit,\n",
    "                                include_last_CNOT=False)\n",
    "\n",
    "    circuit = cirq.Circuit(\n",
    "       [\n",
    "           circuit.all_operations(),\n",
    "           *decomp_left.all_operations(),\n",
    "       ]\n",
    "    )\n",
    "        \n",
    "    circuit.append(cirq.CNOT(MSB, LSB))\n",
    "    \n",
    "    \n",
    "    if ((target_gate == 'Rz') and (last_control_bit==1)) or ((target_gate == 'Ry') and (last_control_bit==1)):\n",
    "        Angle_right = -Angle/2  # note sign here!\n",
    "    else:\n",
    "        Angle_right = Angle/2  # note sign here!\n",
    "        \n",
    "    decomp_right = R_full_decomp(target_gate, \n",
    "                            Angle_right, \n",
    "                            control_list[1:], \n",
    "                            line_qubit_list[:-1], \n",
    "                            last_control_bit=last_control_bit,\n",
    "                            include_last_CNOT=False)\n",
    "    \n",
    "    if len(control_list) > 1:\n",
    "        \n",
    "        circuit = cirq.Circuit(\n",
    "                               [\n",
    "                                   circuit.all_operations(),\n",
    "                                   *list(decomp_right.all_operations())[::-1], # reversed (allowed as circuit is symmetric)\n",
    "                               ]\n",
    "                            )\n",
    "    else:\n",
    "            \n",
    "        circuit = cirq.Circuit(\n",
    "                               [\n",
    "                                   circuit.all_operations(),\n",
    "                                   *decomp_right.all_operations(),\n",
    "                               ]\n",
    "                            )\n",
    "    # attach a final CNOT\n",
    "    if include_last_CNOT:\n",
    "        circuit.append(cirq.CNOT(MSB, LSB))\n",
    "    return circuit"
   ]
  },
  {
   "cell_type": "code",
   "execution_count": null,
   "metadata": {},
   "outputs": [],
   "source": []
  },
  {
   "cell_type": "code",
   "execution_count": 24,
   "metadata": {},
   "outputs": [
    {
     "data": {
      "text/html": [
       "<pre style=\"overflow: auto; white-space: pre;\">0: ───Rz(0.125π)───X───Rz(-0.125π)───X───Rz(-0.125π)───X───Rz(0.125π)───X───Rz(-0.125π)───X───Rz(0.125π)───X───Rz(0.125π)───X───Rz(-0.125π)───X───\n",
       "                   │                 │                 │                │                 │                │                │                 │\n",
       "1: ────────────────@─────────────────┼─────────────────@────────────────┼─────────────────@────────────────┼────────────────@─────────────────┼───\n",
       "                                     │                                  │                                  │                                  │\n",
       "2: ──────────────────────────────────@──────────────────────────────────┼──────────────────────────────────@──────────────────────────────────┼───\n",
       "                                                                        │                                                                     │\n",
       "3: ─────────────────────────────────────────────────────────────────────@─────────────────────────────────────────────────────────────────────@───</pre>"
      ],
      "text/plain": [
       "0: ───Rz(0.125π)───X───Rz(-0.125π)───X───Rz(-0.125π)───X───Rz(0.125π)───X───Rz(-0.125π)───X───Rz(0.125π)───X───Rz(0.125π)───X───Rz(-0.125π)───X───\n",
       "                   │                 │                 │                │                 │                │                │                 │\n",
       "1: ────────────────@─────────────────┼─────────────────@────────────────┼─────────────────@────────────────┼────────────────@─────────────────┼───\n",
       "                                     │                                  │                                  │                                  │\n",
       "2: ──────────────────────────────────@──────────────────────────────────┼──────────────────────────────────@──────────────────────────────────┼───\n",
       "                                                                        │                                                                     │\n",
       "3: ─────────────────────────────────────────────────────────────────────@─────────────────────────────────────────────────────────────────────@───"
      ]
     },
     "execution_count": 24,
     "metadata": {},
     "output_type": "execute_result"
    }
   ],
   "source": [
    "Angle = np.pi\n",
    "control_list=[1, 0, 1]\n",
    "line_qubit_list = list(cirq.LineQubit.range(len(control_list)+1))\n",
    "decomp_R = R_full_decomp('Rz', Angle, control_list, line_qubit_list, include_last_CNOT=True, last_control_bit=None)\n",
    "\n",
    "decomp_R"
   ]
  },
  {
   "cell_type": "code",
   "execution_count": 25,
   "metadata": {},
   "outputs": [
    {
     "data": {
      "text/html": [
       "<pre style=\"overflow: auto; white-space: pre;\">0: ───Rz(π)───\n",
       "      │\n",
       "1: ───@───────\n",
       "      │\n",
       "2: ───(0)─────\n",
       "      │\n",
       "3: ───@───────</pre>"
      ],
      "text/plain": [
       "0: ───Rz(π)───\n",
       "      │\n",
       "1: ───@───────\n",
       "      │\n",
       "2: ───(0)─────\n",
       "      │\n",
       "3: ───@───────"
      ]
     },
     "execution_count": 25,
     "metadata": {},
     "output_type": "execute_result"
    }
   ],
   "source": [
    "\n",
    "full_R = cirq.Circuit(\n",
    "cirq.rz(Angle).controlled(num_controls=len(control_list), control_values=control_list).on(\n",
    "                    *line_qubit_list[::-1])\n",
    ")\n",
    "full_R"
   ]
  },
  {
   "cell_type": "code",
   "execution_count": 26,
   "metadata": {},
   "outputs": [
    {
     "data": {
      "text/plain": [
       "True"
      ]
     },
     "execution_count": 26,
     "metadata": {},
     "output_type": "execute_result"
    }
   ],
   "source": [
    "np.allclose(decomp_R.unitary(), full_R.unitary())"
   ]
  },
  {
   "cell_type": "code",
   "execution_count": null,
   "metadata": {},
   "outputs": [],
   "source": []
  },
  {
   "cell_type": "code",
   "execution_count": 27,
   "metadata": {},
   "outputs": [],
   "source": [
    "def R_full_decomp(target_gate, Angle, control_list, start_qubit_ind, include_last_CNOT=True, last_control_bit=None):\n",
    "    \n",
    "    \"\"\"\n",
    "    0: ───@───────\n",
    "          │\n",
    "    1: ───@───────\n",
    "          │\n",
    "    2: ───@───────\n",
    "          │\n",
    "    3: ───Ry(π)───\n",
    "    \n",
    "    becomes\n",
    "\n",
    "    0: ─────────────────────────────────────────────────────────────────────@─────────────────────────────────────────────────────────────────────@───\n",
    "                                                                            │                                                                     │\n",
    "    1: ──────────────────────────────────@──────────────────────────────────┼──────────────────────────────────@──────────────────────────────────┼───\n",
    "                                         │                                  │                                  │                                  │\n",
    "    2: ────────────────@─────────────────┼────────────────@─────────────────┼────────────────@─────────────────┼────────────────@─────────────────┼───\n",
    "                       │                 │                │                 │                │                 │                │                 │\n",
    "    3: ───Ry(0.125π)───X───Ry(-0.125π)───X───Ry(0.125π)───X───Ry(-0.125π)───X───Ry(0.125π)───X───Ry(-0.125π)───X───Ry(0.125π)───X───Ry(-0.125π)───X───\n",
    "\n",
    "    \n",
    "    \"\"\"\n",
    "    \n",
    "    line_qubit_list = cirq.LineQubit.range(start_qubit_ind, start_qubit_ind+len(control_list)+1)\n",
    "    \n",
    "    control_list = control_list[::-1]\n",
    "    circuit= cirq.Circuit()\n",
    "    LSB = line_qubit_list[-1]\n",
    "    # case of no multiplexing: base case for recursion\n",
    "    if len(line_qubit_list)==1:\n",
    "        if target_gate == 'Ry':\n",
    "            Ry_gate = cirq.ry(Angle)\n",
    "            circuit.append(Ry_gate.on(LSB))\n",
    "        elif target_gate == 'Rz':\n",
    "                Rz_gate = cirq.rz(Angle)\n",
    "                circuit.append(Rz_gate.on(LSB))\n",
    "        else:\n",
    "            raise ValueError(f'Incorrect gate specificed: {target_gate}')\n",
    "    \n",
    "        return circuit\n",
    "    \n",
    "    \n",
    "    if ((target_gate == 'Rz') and last_control_bit==1):\n",
    "        Angle_left = Angle/2\n",
    "        Angle_right = -Angle/2  # note sign here!\n",
    "    else:\n",
    "        Angle_left = Angle/2\n",
    "        Angle_right = Angle/2  \n",
    "\n",
    "    MSB = line_qubit_list[0]\n",
    "    last_control_bit = control_list[-1]\n",
    "    \n",
    "    Angle_left = Angle/2\n",
    "    decomp_left = R_full_decomp(target_gate, \n",
    "                                Angle_left, \n",
    "                                control_list[:-1], \n",
    "                                start_qubit_ind+1, \n",
    "                                last_control_bit=last_control_bit,\n",
    "                                include_last_CNOT=False)\n",
    "\n",
    "    circuit = cirq.Circuit(\n",
    "       [\n",
    "           circuit.all_operations(),\n",
    "           *decomp_left.all_operations(),\n",
    "       ]\n",
    "    )\n",
    "        \n",
    "    circuit.append(cirq.CNOT(MSB, LSB))\n",
    "    \n",
    "    if ((target_gate == 'Rz') and (last_control_bit==1)) or ((target_gate == 'Ry') and (last_control_bit==1)):\n",
    "        Angle_right = -Angle/2  # note sign here!\n",
    "    else:\n",
    "        Angle_right = Angle/2  # note sign here!\n",
    "    \n",
    "    decomp_right = R_full_decomp(target_gate, \n",
    "                    Angle_right, \n",
    "                        control_list[:-1], \n",
    "                        start_qubit_ind+1, \n",
    "                    last_control_bit=last_control_bit,\n",
    "                    include_last_CNOT=False)\n",
    "    \n",
    "    if len(control_list) > 1:\n",
    "       \n",
    "        circuit = cirq.Circuit(\n",
    "                               [\n",
    "                                   circuit.all_operations(),\n",
    "                                   *list(decomp_right.all_operations())[::-1], # reversed (allowed as circuit is symmetric)\n",
    "                               ]\n",
    "                            )\n",
    "    else:\n",
    "            \n",
    "        circuit = cirq.Circuit(\n",
    "                               [\n",
    "                                   circuit.all_operations(),\n",
    "                                   *decomp_right.all_operations(),\n",
    "                               ]\n",
    "                            )\n",
    "    # attach a final CNOT\n",
    "    if include_last_CNOT:\n",
    "        circuit.append(cirq.CNOT(MSB, LSB))\n",
    "    return circuit\n",
    "\n",
    "\n"
   ]
  },
  {
   "cell_type": "code",
   "execution_count": 28,
   "metadata": {},
   "outputs": [
    {
     "data": {
      "text/html": [
       "<pre style=\"overflow: auto; white-space: pre;\">0: ─────────────────────────────────────────────────────────────────────@─────────────────────────────────────────────────────────────────────@───\n",
       "                                                                        │                                                                     │\n",
       "1: ──────────────────────────────────@──────────────────────────────────┼──────────────────────────────────@──────────────────────────────────┼───\n",
       "                                     │                                  │                                  │                                  │\n",
       "2: ────────────────@─────────────────┼────────────────@─────────────────┼────────────────@─────────────────┼────────────────@─────────────────┼───\n",
       "                   │                 │                │                 │                │                 │                │                 │\n",
       "3: ───Ry(0.125π)───X───Ry(-0.125π)───X───Ry(0.125π)───X───Ry(-0.125π)───X───Ry(0.125π)───X───Ry(-0.125π)───X───Ry(0.125π)───X───Ry(-0.125π)───X───</pre>"
      ],
      "text/plain": [
       "0: ─────────────────────────────────────────────────────────────────────@─────────────────────────────────────────────────────────────────────@───\n",
       "                                                                        │                                                                     │\n",
       "1: ──────────────────────────────────@──────────────────────────────────┼──────────────────────────────────@──────────────────────────────────┼───\n",
       "                                     │                                  │                                  │                                  │\n",
       "2: ────────────────@─────────────────┼────────────────@─────────────────┼────────────────@─────────────────┼────────────────@─────────────────┼───\n",
       "                   │                 │                │                 │                │                 │                │                 │\n",
       "3: ───Ry(0.125π)───X───Ry(-0.125π)───X───Ry(0.125π)───X───Ry(-0.125π)───X───Ry(0.125π)───X───Ry(-0.125π)───X───Ry(0.125π)───X───Ry(-0.125π)───X───"
      ]
     },
     "execution_count": 28,
     "metadata": {},
     "output_type": "execute_result"
    }
   ],
   "source": [
    "Angle = np.pi\n",
    "control_list=[1,1,1]\n",
    "start_ind = 0\n",
    "\n",
    "decomp_R = R_full_decomp('Ry', Angle, control_list, start_ind, include_last_CNOT=True, last_control_bit=None)\n",
    "\n",
    "decomp_R"
   ]
  },
  {
   "cell_type": "code",
   "execution_count": null,
   "metadata": {},
   "outputs": [],
   "source": []
  },
  {
   "cell_type": "code",
   "execution_count": 29,
   "metadata": {},
   "outputs": [
    {
     "data": {
      "text/html": [
       "<pre style=\"overflow: auto; white-space: pre;\">0: ───@───────\n",
       "      │\n",
       "1: ───@───────\n",
       "      │\n",
       "2: ───@───────\n",
       "      │\n",
       "3: ───Ry(π)───</pre>"
      ],
      "text/plain": [
       "0: ───@───────\n",
       "      │\n",
       "1: ───@───────\n",
       "      │\n",
       "2: ───@───────\n",
       "      │\n",
       "3: ───Ry(π)───"
      ]
     },
     "execution_count": 29,
     "metadata": {},
     "output_type": "execute_result"
    }
   ],
   "source": [
    "line_qubit_list = cirq.LineQubit.range(start_ind, start_ind+len(control_list)+1)\n",
    "\n",
    "full_R = cirq.Circuit(\n",
    "cirq.ry(Angle).controlled(num_controls=len(control_list), control_values=control_list).on(\n",
    "                    *line_qubit_list)\n",
    ")\n",
    "full_R"
   ]
  },
  {
   "cell_type": "code",
   "execution_count": 30,
   "metadata": {},
   "outputs": [
    {
     "data": {
      "text/plain": [
       "True"
      ]
     },
     "execution_count": 30,
     "metadata": {},
     "output_type": "execute_result"
    }
   ],
   "source": [
    "np.allclose(decomp_R.unitary(), full_R.unitary())"
   ]
  },
  {
   "cell_type": "code",
   "execution_count": 31,
   "metadata": {},
   "outputs": [
    {
     "data": {
      "text/html": [
       "<pre style=\"overflow: auto; white-space: pre;\">1: ───Rz(π)───</pre>"
      ],
      "text/plain": [
       "1: ───Rz(π)───"
      ]
     },
     "execution_count": 31,
     "metadata": {},
     "output_type": "execute_result"
    }
   ],
   "source": [
    "Angle = np.pi\n",
    "control_list=[]\n",
    "start_ind = 1\n",
    "\n",
    "decomp_R = R_full_decomp('Rz', Angle, control_list, start_ind, include_last_CNOT=True, last_control_bit=None)\n",
    "\n",
    "decomp_R"
   ]
  },
  {
   "cell_type": "code",
   "execution_count": null,
   "metadata": {},
   "outputs": [],
   "source": []
  },
  {
   "cell_type": "code",
   "execution_count": 32,
   "metadata": {},
   "outputs": [],
   "source": [
    "def R_angle_list(target_gate, list_of_angles, start_qubit_ind):\n",
    "    \n",
    "    N_q = int(np.log2(len(list_of_angles)))\n",
    "    circuit = cirq.Circuit()\n",
    "    \n",
    "    for control_ind, angle in enumerate(list_of_angles):\n",
    "        if angle == 0:\n",
    "            continue\n",
    "        \n",
    "        if N_q ==0:\n",
    "            control_list=[]\n",
    "        else:\n",
    "            control_list = list(map(lambda x: int(x), list(np.binary_repr(control_ind, width=N_q))))\n",
    "        \n",
    "        decomp_R = R_full_decomp(target_gate, \n",
    "                                 angle,\n",
    "                                 control_list, \n",
    "                                 start_qubit_ind,\n",
    "                                 include_last_CNOT=True,\n",
    "                                 last_control_bit=None)\n",
    "        circuit.append(decomp_R)\n",
    "    return circuit"
   ]
  },
  {
   "cell_type": "code",
   "execution_count": 33,
   "metadata": {},
   "outputs": [
    {
     "data": {
      "text/plain": [
       "array([0.5   +0.j    , 0.3536-0.3536j, 0.    +0.5j   , 0.5   +0.j    ])"
      ]
     },
     "execution_count": 33,
     "metadata": {},
     "output_type": "execute_result"
    }
   ],
   "source": [
    "qubit_state_vector = np.array([\n",
    "    [1/np.sqrt(8)],\n",
    "    [1/np.sqrt(8)],\n",
    "    [1/np.sqrt(8)],\n",
    "    [-1j/np.sqrt(8)],\n",
    "    [1/np.sqrt(8)],\n",
    "    [-1/np.sqrt(8)],\n",
    "    [1/np.sqrt(8)],\n",
    "    [1/np.sqrt(8)]\n",
    "])\n",
    "\n",
    "remaining_vector, theta_list, phi_list = Rotations_to_disentangle(qubit_state_vector.flat)\n",
    "\n",
    "np.around(remaining_vector, 4)"
   ]
  },
  {
   "cell_type": "code",
   "execution_count": 34,
   "metadata": {},
   "outputs": [
    {
     "data": {
      "text/plain": [
       "[-1.5707963267948966,\n",
       " -1.5707963267948966,\n",
       " -1.5707963267948966,\n",
       " -1.5707963267948966]"
      ]
     },
     "execution_count": 34,
     "metadata": {},
     "output_type": "execute_result"
    }
   ],
   "source": [
    "theta_list"
   ]
  },
  {
   "cell_type": "code",
   "execution_count": 35,
   "metadata": {},
   "outputs": [
    {
     "data": {
      "text/html": [
       "<pre style=\"overflow: auto; white-space: pre;\">0: ───────────────────────────────────@───────────────────────────────────@──────────────────────────────────@──────────────────────────────────@───────────────────────────────────@─────────────────────────────────@──────────────────────────────────@──────────────────────────────────@───\n",
       "                                      │                                   │                                  │                                  │                                   │                                 │                                  │                                  │\n",
       "1: ─────────────────@─────────────────┼─────────────────@─────────────────┼─────────────────@────────────────┼────────────────@─────────────────┼─────────────────@─────────────────┼────────────────@────────────────┼─────────────────@────────────────┼─────────────────@────────────────┼───\n",
       "                    │                 │                 │                 │                 │                │                │                 │                 │                 │                │                │                 │                │                 │                │\n",
       "2: ───Rz(-0.125π)───X───Rz(-0.125π)───X───Rz(-0.125π)───X───Rz(-0.125π)───X───Rz(-0.125π)───X───Rz(0.125π)───X───Rz(0.125π)───X───Rz(-0.125π)───X───Rz(-0.125π)───X───Rz(-0.125π)───X───Rz(0.125π)───X───Rz(0.125π)───X───Rz(-0.125π)───X───Rz(0.125π)───X───Rz(-0.125π)───X───Rz(0.125π)───X───</pre>"
      ],
      "text/plain": [
       "0: ───────────────────────────────────@───────────────────────────────────@──────────────────────────────────@──────────────────────────────────@───────────────────────────────────@─────────────────────────────────@──────────────────────────────────@──────────────────────────────────@───\n",
       "                                      │                                   │                                  │                                  │                                   │                                 │                                  │                                  │\n",
       "1: ─────────────────@─────────────────┼─────────────────@─────────────────┼─────────────────@────────────────┼────────────────@─────────────────┼─────────────────@─────────────────┼────────────────@────────────────┼─────────────────@────────────────┼─────────────────@────────────────┼───\n",
       "                    │                 │                 │                 │                 │                │                │                 │                 │                 │                │                │                 │                │                 │                │\n",
       "2: ───Rz(-0.125π)───X───Rz(-0.125π)───X───Rz(-0.125π)───X───Rz(-0.125π)───X───Rz(-0.125π)───X───Rz(0.125π)───X───Rz(0.125π)───X───Rz(-0.125π)───X───Rz(-0.125π)───X───Rz(-0.125π)───X───Rz(0.125π)───X───Rz(0.125π)───X───Rz(-0.125π)───X───Rz(0.125π)───X───Rz(-0.125π)───X───Rz(0.125π)───X───"
      ]
     },
     "execution_count": 35,
     "metadata": {},
     "output_type": "execute_result"
    }
   ],
   "source": [
    "R_angle_list('Rz', theta_list, 0)"
   ]
  },
  {
   "cell_type": "code",
   "execution_count": 36,
   "metadata": {},
   "outputs": [
    {
     "data": {
      "text/plain": [
       "array([0.6533-0.2706j, 0.5   +0.5j   ])"
      ]
     },
     "execution_count": 36,
     "metadata": {},
     "output_type": "execute_result"
    }
   ],
   "source": [
    "remaining_vector, theta_list, phi_list = Rotations_to_disentangle(remaining_vector)\n",
    "\n",
    "np.around(remaining_vector, 4)"
   ]
  },
  {
   "cell_type": "code",
   "execution_count": 37,
   "metadata": {},
   "outputs": [
    {
     "data": {
      "text/html": [
       "<pre style=\"overflow: auto; white-space: pre;\">0: ────────────────@────────────────@────────────────@───────────────@───\n",
       "                   │                │                │               │\n",
       "1: ───Rz(-0.25π)───X───Rz(-0.25π)───X───Rz(-0.25π)───X───Rz(0.25π)───X───</pre>"
      ],
      "text/plain": [
       "0: ────────────────@────────────────@────────────────@───────────────@───\n",
       "                   │                │                │               │\n",
       "1: ───Rz(-0.25π)───X───Rz(-0.25π)───X───Rz(-0.25π)───X───Rz(0.25π)───X───"
      ]
     },
     "execution_count": 37,
     "metadata": {},
     "output_type": "execute_result"
    }
   ],
   "source": [
    "R_angle_list('Rz', theta_list, 0)"
   ]
  },
  {
   "cell_type": "code",
   "execution_count": 38,
   "metadata": {},
   "outputs": [
    {
     "data": {
      "text/plain": [
       "array([0.9808+0.1951j])"
      ]
     },
     "execution_count": 38,
     "metadata": {},
     "output_type": "execute_result"
    }
   ],
   "source": [
    "remaining_vector, theta_list, phi_list = Rotations_to_disentangle(remaining_vector)\n",
    "\n",
    "np.around(remaining_vector, 4)"
   ]
  },
  {
   "cell_type": "code",
   "execution_count": 39,
   "metadata": {},
   "outputs": [
    {
     "data": {
      "text/html": [
       "<pre style=\"overflow: auto; white-space: pre;\">0: ───Rz(-0.5π)───</pre>"
      ],
      "text/plain": [
       "0: ───Rz(-0.5π)───"
      ]
     },
     "execution_count": 39,
     "metadata": {},
     "output_type": "execute_result"
    }
   ],
   "source": [
    "R_angle_list('Rz', theta_list, 0)"
   ]
  },
  {
   "cell_type": "code",
   "execution_count": 40,
   "metadata": {},
   "outputs": [
    {
     "data": {
      "text/plain": [
       "[-1.5707963267948966]"
      ]
     },
     "execution_count": 40,
     "metadata": {},
     "output_type": "execute_result"
    }
   ],
   "source": [
    "theta_list"
   ]
  },
  {
   "cell_type": "code",
   "execution_count": null,
   "metadata": {},
   "outputs": [],
   "source": []
  },
  {
   "cell_type": "code",
   "execution_count": 79,
   "metadata": {},
   "outputs": [],
   "source": [
    "from copy import deepcopy\n",
    "\n",
    "def disentangle_circuit(qubit_state_vector, start_qubit_ind):\n",
    "    \"\"\"\n",
    "    \"\"\"\n",
    "\n",
    "    circuit = cirq.Circuit()\n",
    "    n_qubits = np.log2(len(qubit_state_vector))\n",
    "    \n",
    "    if np.ceil(n_qubits) != np.floor(n_qubits):\n",
    "        raise ValueError('state vector is not a qubit state')\n",
    "    \n",
    "    n_qubits = int(n_qubits)\n",
    "#     print(n_qubits)\n",
    "    \n",
    "    N_qubits_remaining_vector= n_qubits\n",
    "    remaining_vector = deepcopy(qubit_state_vector)\n",
    "    for qubit_ind in range(start_qubit_ind, start_qubit_ind+n_qubits):\n",
    "        # work out which rotations must be done to disentangle the LSB\n",
    "        # qubit (we peel away one qubit at a time)\n",
    "        remaining_vector, theta_list, phi_list = Rotations_to_disentangle(remaining_vector)\n",
    "        \n",
    "        decomp_R = R_angle_list('Rz', phi_list, start_qubit_ind)\n",
    "        circuit.append(decomp_R)\n",
    "\n",
    "        decomp_R = R_angle_list('Ry', theta_list, start_qubit_ind)\n",
    "        circuit.append(decomp_R)\n",
    "    \n",
    "    final_global_phase = remaining_vector\n",
    "    return circuit, final_global_phase"
   ]
  },
  {
   "cell_type": "code",
   "execution_count": null,
   "metadata": {},
   "outputs": [],
   "source": []
  },
  {
   "cell_type": "code",
   "execution_count": 80,
   "metadata": {},
   "outputs": [
    {
     "data": {
      "text/html": [
       "<pre style=\"overflow: auto; white-space: pre;\">3: ───────────────@────────────────@────────────────@────────────────@────────────────@───────────────@───Rz(0.25π)───Ry(-0.5π)───\n",
       "                  │                │                │                │                │               │\n",
       "4: ───Rz(0.25π)───X───Rz(-0.25π)───X───Ry(-0.25π)───X───Ry(-0.25π)───X───Ry(-0.25π)───X───Ry(0.25π)───X───────────────────────────</pre>"
      ],
      "text/plain": [
       "3: ───────────────@────────────────@────────────────@────────────────@────────────────@───────────────@───Rz(0.25π)───Ry(-0.5π)───\n",
       "                  │                │                │                │                │               │\n",
       "4: ───Rz(0.25π)───X───Rz(-0.25π)───X───Ry(-0.25π)───X───Ry(-0.25π)───X───Ry(-0.25π)───X───Ry(0.25π)───X───────────────────────────"
      ]
     },
     "execution_count": 80,
     "metadata": {},
     "output_type": "execute_result"
    }
   ],
   "source": [
    "qubit_state_vector = np.array([\n",
    "    [1/np.sqrt(4)],\n",
    "    [1/np.sqrt(4)],\n",
    "    [1/np.sqrt(4)],\n",
    "    [-1j/np.sqrt(4)],\n",
    "])\n",
    "\n",
    "# qubit_state_vector = np.array([\n",
    "#     [1/np.sqrt(8)],\n",
    "#     [1/np.sqrt(8)],\n",
    "#     [1/np.sqrt(8)],\n",
    "#     [1/np.sqrt(8)],\n",
    "#     [1/np.sqrt(8)],\n",
    "#     [-1/np.sqrt(8)],\n",
    "#     [1j/np.sqrt(8)],\n",
    "#     [1/np.sqrt(8)]\n",
    "# ])\n",
    "\n",
    "disent, G_phase = disentangle_circuit(qubit_state_vector, 3)\n",
    "disent"
   ]
  },
  {
   "cell_type": "code",
   "execution_count": 43,
   "metadata": {},
   "outputs": [
    {
     "data": {
      "text/html": [
       "<pre style=\"overflow: auto; white-space: pre;\">0: ───Ry(0.5π)───Rz(-0.25π)───@────────────────@───────────────@───────────────@───────────────@───────────────@────────────────\n",
       "                              │                │               │               │               │               │\n",
       "1: ───────────────────────────X───Ry(-0.25π)───X───Ry(0.25π)───X───Ry(0.25π)───X───Ry(0.25π)───X───Rz(0.25π)───X───Rz(-0.25π)───</pre>"
      ],
      "text/plain": [
       "0: ───Ry(0.5π)───Rz(-0.25π)───@────────────────@───────────────@───────────────@───────────────@───────────────@────────────────\n",
       "                              │                │               │               │               │               │\n",
       "1: ───────────────────────────X───Ry(-0.25π)───X───Ry(0.25π)───X───Ry(0.25π)───X───Ry(0.25π)───X───Rz(0.25π)───X───Rz(-0.25π)───"
      ]
     },
     "execution_count": 43,
     "metadata": {},
     "output_type": "execute_result"
    }
   ],
   "source": [
    "new = cirq.inverse(disent)\n",
    "new"
   ]
  },
  {
   "cell_type": "code",
   "execution_count": null,
   "metadata": {},
   "outputs": [],
   "source": []
  },
  {
   "cell_type": "code",
   "execution_count": 44,
   "metadata": {},
   "outputs": [
    {
     "data": {
      "text/plain": [
       "array([[0.5+0.j ],\n",
       "       [0.5+0.j ],\n",
       "       [0.5+0.j ],\n",
       "       [0. -0.5j]])"
      ]
     },
     "execution_count": 44,
     "metadata": {},
     "output_type": "execute_result"
    }
   ],
   "source": [
    "np.around(G_phase*new.final_state_vector(), 10).reshape((len(qubit_state_vector),1))"
   ]
  },
  {
   "cell_type": "code",
   "execution_count": 45,
   "metadata": {},
   "outputs": [
    {
     "data": {
      "text/plain": [
       "array([[ 0.5+0.j ],\n",
       "       [ 0.5+0.j ],\n",
       "       [ 0.5+0.j ],\n",
       "       [-0. -0.5j]])"
      ]
     },
     "execution_count": 45,
     "metadata": {},
     "output_type": "execute_result"
    }
   ],
   "source": [
    "np.around(qubit_state_vector, 10)"
   ]
  },
  {
   "cell_type": "code",
   "execution_count": 46,
   "metadata": {},
   "outputs": [],
   "source": [
    "z = 0.32664074-0.13529902j"
   ]
  },
  {
   "cell_type": "code",
   "execution_count": 47,
   "metadata": {},
   "outputs": [
    {
     "data": {
      "text/plain": [
       "(0.12499999784070798+0j)"
      ]
     },
     "execution_count": 47,
     "metadata": {},
     "output_type": "execute_result"
    }
   ],
   "source": [
    "np.vdot(z,z)"
   ]
  },
  {
   "cell_type": "code",
   "execution_count": 48,
   "metadata": {},
   "outputs": [
    {
     "data": {
      "text/plain": [
       "0.12499999958049211"
      ]
     },
     "execution_count": 48,
     "metadata": {},
     "output_type": "execute_result"
    }
   ],
   "source": [
    "0.35355339**2"
   ]
  },
  {
   "cell_type": "code",
   "execution_count": 49,
   "metadata": {},
   "outputs": [
    {
     "data": {
      "text/plain": [
       "[array([0.92387953-0.38268343j])]"
      ]
     },
     "execution_count": 49,
     "metadata": {},
     "output_type": "execute_result"
    }
   ],
   "source": [
    "G_phase"
   ]
  },
  {
   "cell_type": "code",
   "execution_count": 50,
   "metadata": {},
   "outputs": [
    {
     "data": {
      "text/plain": [
       "array([[0.5+0.j ],\n",
       "       [0.5+0.j ],\n",
       "       [0.5+0.j ],\n",
       "       [0. -0.5j]])"
      ]
     },
     "execution_count": 50,
     "metadata": {},
     "output_type": "execute_result"
    }
   ],
   "source": [
    "np.around(G_phase*new.final_state_vector(), 10).reshape((len(qubit_state_vector),1))"
   ]
  },
  {
   "cell_type": "code",
   "execution_count": 68,
   "metadata": {},
   "outputs": [
    {
     "data": {
      "text/html": [
       "<pre style=\"overflow: auto; white-space: pre;\">0: ───Ry(0.5π)───Rz(0.375π)───@────────────────@───────────────@───────────────@───────────────@────────────────@─────────────────@──────────────────────────────────@──────────────────────────────────@───────────────────────────────────@─────────────────────────────────@──────────────────────────────────@──────────────────────────────────@─────────────────────────────────@─────────────────────────────────@──────────────────────────────────@──────────────────────────────────@─────────────────────────────────@───────────────────────────────\n",
       "                              │                │               │               │               │                │                 │                                  │                                  │                                   │                                 │                                  │                                  │                                 │                                 │                                  │                                  │                                 │\n",
       "1: ───────────────────────────X───Ry(-0.25π)───X───Ry(0.25π)───X───Ry(0.25π)───X───Ry(0.25π)───X───Rz(0.125π)───X───Rz(-0.125π)───┼─────────────────@────────────────┼─────────────────@────────────────┼─────────────────@─────────────────┼────────────────@────────────────┼────────────────@─────────────────┼─────────────────@────────────────┼────────────────@────────────────┼────────────────@────────────────┼────────────────@─────────────────┼────────────────@─────────────────┼────────────────@────────────────┼───────────────@───────────────\n",
       "                                                                                                                                  │                 │                │                 │                │                 │                 │                │                │                │                 │                 │                │                │                │                │                │                │                 │                │                 │                │                │               │\n",
       "2: ───────────────────────────────────────────────────────────────────────────────────────────────────────────────────────────────X───Ry(-0.125π)───X───Ry(0.125π)───X───Ry(-0.125π)───X───Ry(0.125π)───X───Ry(-0.125π)───X───Ry(-0.125π)───X───Ry(0.125π)───X───Ry(0.125π)───X───Ry(0.125π)───X───Ry(-0.125π)───X───Ry(-0.125π)───X───Ry(0.125π)───X───Ry(0.125π)───X───Ry(0.125π)───X───Ry(0.125π)───X───Ry(0.125π)───X───Rz(0.125π)───X───Rz(-0.125π)───X───Rz(0.125π)───X───Rz(-0.125π)───X───Rz(-0.25π)───X───Rz(-0.25π)───X───Rz(0.25π)───X───Rz(0.25π)───</pre>"
      ],
      "text/plain": [
       "0: ───Ry(0.5π)───Rz(0.375π)───@────────────────@───────────────@───────────────@───────────────@────────────────@─────────────────@──────────────────────────────────@──────────────────────────────────@───────────────────────────────────@─────────────────────────────────@──────────────────────────────────@──────────────────────────────────@─────────────────────────────────@─────────────────────────────────@──────────────────────────────────@──────────────────────────────────@─────────────────────────────────@───────────────────────────────\n",
       "                              │                │               │               │               │                │                 │                                  │                                  │                                   │                                 │                                  │                                  │                                 │                                 │                                  │                                  │                                 │\n",
       "1: ───────────────────────────X───Ry(-0.25π)───X───Ry(0.25π)───X───Ry(0.25π)───X───Ry(0.25π)───X───Rz(0.125π)───X───Rz(-0.125π)───┼─────────────────@────────────────┼─────────────────@────────────────┼─────────────────@─────────────────┼────────────────@────────────────┼────────────────@─────────────────┼─────────────────@────────────────┼────────────────@────────────────┼────────────────@────────────────┼────────────────@─────────────────┼────────────────@─────────────────┼────────────────@────────────────┼───────────────@───────────────\n",
       "                                                                                                                                  │                 │                │                 │                │                 │                 │                │                │                │                 │                 │                │                │                │                │                │                │                 │                │                 │                │                │               │\n",
       "2: ───────────────────────────────────────────────────────────────────────────────────────────────────────────────────────────────X───Ry(-0.125π)───X───Ry(0.125π)───X───Ry(-0.125π)───X───Ry(0.125π)───X───Ry(-0.125π)───X───Ry(-0.125π)───X───Ry(0.125π)───X───Ry(0.125π)───X───Ry(0.125π)───X───Ry(-0.125π)───X───Ry(-0.125π)───X───Ry(0.125π)───X───Ry(0.125π)───X───Ry(0.125π)───X───Ry(0.125π)───X───Ry(0.125π)───X───Rz(0.125π)───X───Rz(-0.125π)───X───Rz(0.125π)───X───Rz(-0.125π)───X───Rz(-0.25π)───X───Rz(-0.25π)───X───Rz(0.25π)───X───Rz(0.25π)───"
      ]
     },
     "execution_count": 68,
     "metadata": {},
     "output_type": "execute_result"
    }
   ],
   "source": [
    "from quchem.Qcircuit.Circuit_functions_to_create_arb_state import intialization_circuit\n",
    "start_qubit_ind=0\n",
    "check_circuit=True\n",
    "\n",
    "t, gphase= intialization_circuit(qubit_state_vector, start_qubit_ind, check_circuit=check_circuit)\n",
    "t"
   ]
  },
  {
   "cell_type": "code",
   "execution_count": 65,
   "metadata": {},
   "outputs": [
    {
     "data": {
      "text/html": [
       "<pre style=\"overflow: auto; white-space: pre;\">0: ───Ry(0.5π)───Rz(0.375π)───@────────────────@───────────────@───────────────@───────────────@────────────────@─────────────────@──────────────────────────────────@──────────────────────────────────@───────────────────────────────────@─────────────────────────────────@──────────────────────────────────@──────────────────────────────────@─────────────────────────────────@─────────────────────────────────@──────────────────────────────────@──────────────────────────────────@─────────────────────────────────@───────────────────────────────\n",
       "                              │                │               │               │               │                │                 │                                  │                                  │                                   │                                 │                                  │                                  │                                 │                                 │                                  │                                  │                                 │\n",
       "1: ───────────────────────────X───Ry(-0.25π)───X───Ry(0.25π)───X───Ry(0.25π)───X───Ry(0.25π)───X───Rz(0.125π)───X───Rz(-0.125π)───┼─────────────────@────────────────┼─────────────────@────────────────┼─────────────────@─────────────────┼────────────────@────────────────┼────────────────@─────────────────┼─────────────────@────────────────┼────────────────@────────────────┼────────────────@────────────────┼────────────────@─────────────────┼────────────────@─────────────────┼────────────────@────────────────┼───────────────@───────────────\n",
       "                                                                                                                                  │                 │                │                 │                │                 │                 │                │                │                │                 │                 │                │                │                │                │                │                │                 │                │                 │                │                │               │\n",
       "2: ───────────────────────────────────────────────────────────────────────────────────────────────────────────────────────────────X───Ry(-0.125π)───X───Ry(0.125π)───X───Ry(-0.125π)───X───Ry(0.125π)───X───Ry(-0.125π)───X───Ry(-0.125π)───X───Ry(0.125π)───X───Ry(0.125π)───X───Ry(0.125π)───X───Ry(-0.125π)───X───Ry(-0.125π)───X───Ry(0.125π)───X───Ry(0.125π)───X───Ry(0.125π)───X───Ry(0.125π)───X───Ry(0.125π)───X───Rz(0.125π)───X───Rz(-0.125π)───X───Rz(0.125π)───X───Rz(-0.125π)───X───Rz(-0.25π)───X───Rz(-0.25π)───X───Rz(0.25π)───X───Rz(0.25π)───</pre>"
      ],
      "text/plain": [
       "0: ───Ry(0.5π)───Rz(0.375π)───@────────────────@───────────────@───────────────@───────────────@────────────────@─────────────────@──────────────────────────────────@──────────────────────────────────@───────────────────────────────────@─────────────────────────────────@──────────────────────────────────@──────────────────────────────────@─────────────────────────────────@─────────────────────────────────@──────────────────────────────────@──────────────────────────────────@─────────────────────────────────@───────────────────────────────\n",
       "                              │                │               │               │               │                │                 │                                  │                                  │                                   │                                 │                                  │                                  │                                 │                                 │                                  │                                  │                                 │\n",
       "1: ───────────────────────────X───Ry(-0.25π)───X───Ry(0.25π)───X───Ry(0.25π)───X───Ry(0.25π)───X───Rz(0.125π)───X───Rz(-0.125π)───┼─────────────────@────────────────┼─────────────────@────────────────┼─────────────────@─────────────────┼────────────────@────────────────┼────────────────@─────────────────┼─────────────────@────────────────┼────────────────@────────────────┼────────────────@────────────────┼────────────────@─────────────────┼────────────────@─────────────────┼────────────────@────────────────┼───────────────@───────────────\n",
       "                                                                                                                                  │                 │                │                 │                │                 │                 │                │                │                │                 │                 │                │                │                │                │                │                │                 │                │                 │                │                │               │\n",
       "2: ───────────────────────────────────────────────────────────────────────────────────────────────────────────────────────────────X───Ry(-0.125π)───X───Ry(0.125π)───X───Ry(-0.125π)───X───Ry(0.125π)───X───Ry(-0.125π)───X───Ry(-0.125π)───X───Ry(0.125π)───X───Ry(0.125π)───X───Ry(0.125π)───X───Ry(-0.125π)───X───Ry(-0.125π)───X───Ry(0.125π)───X───Ry(0.125π)───X───Ry(0.125π)───X───Ry(0.125π)───X───Ry(0.125π)───X───Rz(0.125π)───X───Rz(-0.125π)───X───Rz(0.125π)───X───Rz(-0.125π)───X───Rz(-0.25π)───X───Rz(-0.25π)───X───Rz(0.25π)───X───Rz(0.25π)───"
      ]
     },
     "execution_count": 65,
     "metadata": {},
     "output_type": "execute_result"
    }
   ],
   "source": [
    "qubit_state_vector = np.array([\n",
    "    [1/np.sqrt(8)],\n",
    "    [1/np.sqrt(8)],\n",
    "    [1/np.sqrt(8)],\n",
    "    [1/np.sqrt(8)],\n",
    "    [1/np.sqrt(8)],\n",
    "    [-1/np.sqrt(8)],\n",
    "    [1j/np.sqrt(8)],\n",
    "    [1/np.sqrt(8)]\n",
    "])\n",
    "\n",
    "start_qubit_ind=0\n",
    "check_circuit=True\n",
    "t, gphase = intialization_circuit(qubit_state_vector, start_qubit_ind, check_circuit=check_circuit)\n",
    "t"
   ]
  },
  {
   "cell_type": "code",
   "execution_count": 66,
   "metadata": {},
   "outputs": [
    {
     "data": {
      "text/plain": [
       "array([[ 0.35355339-0.j        ],\n",
       "       [ 0.35355339-0.j        ],\n",
       "       [ 0.35355339-0.j        ],\n",
       "       [ 0.35355339+0.j        ],\n",
       "       [ 0.35355339-0.j        ],\n",
       "       [-0.35355339+0.j        ],\n",
       "       [-0.        +0.35355339j],\n",
       "       [ 0.35355339-0.j        ]])"
      ]
     },
     "execution_count": 66,
     "metadata": {},
     "output_type": "execute_result"
    }
   ],
   "source": [
    "np.around(gphase*t.final_state_vector(), 10).reshape((len(qubit_state_vector),1))"
   ]
  },
  {
   "cell_type": "code",
   "execution_count": 67,
   "metadata": {},
   "outputs": [
    {
     "data": {
      "text/plain": [
       "True"
      ]
     },
     "execution_count": 67,
     "metadata": {},
     "output_type": "execute_result"
    }
   ],
   "source": [
    "np.allclose(np.around(qubit_state_vector.flat, 10), np.around(gphase*t.final_state_vector(),10))"
   ]
  },
  {
   "cell_type": "code",
   "execution_count": null,
   "metadata": {},
   "outputs": [],
   "source": [
    "np.around(qubit_state_vector.flat, 10)"
   ]
  },
  {
   "cell_type": "code",
   "execution_count": null,
   "metadata": {},
   "outputs": [],
   "source": [
    "qubit_state_vector.shape"
   ]
  },
  {
   "cell_type": "code",
   "execution_count": null,
   "metadata": {},
   "outputs": [],
   "source": []
  },
  {
   "cell_type": "code",
   "execution_count": null,
   "metadata": {},
   "outputs": [],
   "source": [
    "# def single_decomp_multi_control_ZERO_Rz(target_gate, Angle, start_qubit_ind, N_controls, last_CNOT=True):\n",
    "#     \"\"\"\n",
    "#          0: ───(0)─────              0: ──────────────@──────────────@───\n",
    "#                │                                      │              │\n",
    "#          1: ───(0)─────              1: ───(0)────────┼───(0)────────┼───\n",
    "#                │            TO              │         │   │          │\n",
    "#          2: ───(0)─────              2: ───(0)────────┼───(0)────────┼───\n",
    "#                │                            │         │    │         │\n",
    "#          3: ───Rz(π)───              3: ───Rz(0.5π)───X───Rz(0.5π)───X───\n",
    "         \n",
    "         \n",
    "#             0: ───────────────────────────────────@──────────────────────────────────@───\n",
    "#                                                   │                                  │\n",
    "#             1: ───────────────@───────────────@───┼───@───────────────@──────────────┼───\n",
    "#    TO                         │               │   │   │               │              │\n",
    "#             2: ───(0)─────────┼───(0)─────────┼───┼───┼───(0)─────────┼───(0)────────┼───\n",
    "#                   │           │   │           │   │   │   │           │   │          │\n",
    "#             3: ───Rz(0.25π)───X───Rz(0.25π)───X───X───X───Rz(0.25π)───X───Rz(0.25π)──X───\n",
    "#                                               ^       ^\n",
    "#                                             ## cancel ##\n",
    "#     \"\"\"\n",
    "        \n",
    "    \n",
    "#     qubits_list = cirq.LineQubit.range(start_qubit_ind, start_qubit_ind+N_controls+1)\n",
    "    \n",
    "#     LSB = qubits_list[0] # least significant bit\n",
    "#     circuit = cirq.Circuit()\n",
    "    \n",
    "#     # case of no multiplexing: base case for recursion\n",
    "#     if N_controls == 0:\n",
    "#         if target_gate == 'Ry':\n",
    "#             Ry_gate = cirq.ry(Angle)\n",
    "#             circuit.append(Ry_gate.on(LSB))\n",
    "#         elif target_gate == 'Rz':\n",
    "#             Rz_gate = cirq.rz(Angle)\n",
    "#             circuit.append(Rz_gate.on(LSB))\n",
    "#         else:\n",
    "#             raise ValueError(f'Incorrect gate specificed: {target_gate}')\n",
    "        \n",
    "#         return circuit\n",
    "    \n",
    "\n",
    "#     MSB = qubits_list[-1] # most significant bit\n",
    "    \n",
    "#     # calc the combo angles\n",
    "#     new_angle = Angle/2\n",
    "    \n",
    "#     # recursive step on half the angles fulfilling the above assumption\n",
    "#     multiplex_1 = single_decomp_multi_control_ZERO_Rz(target_gate,\n",
    "#                                                       new_angle,\n",
    "#                                                       start_qubit_ind,\n",
    "#                                                       N_controls-1, \n",
    "#                                                       last_CNOT=False)\n",
    "#     circuit = cirq.Circuit(\n",
    "#        [\n",
    "#            circuit.all_operations(),\n",
    "#            *multiplex_1.all_operations(),\n",
    "#        ]\n",
    "#     )\n",
    "    \n",
    "#     circuit.append(cirq.CNOT(MSB, LSB))\n",
    "\n",
    "#     # implement extra efficiency from the paper of cancelling adjacent\n",
    "#     # CNOTs (by leaving out last CNOT and reversing (NOT inverting) the\n",
    "#     # second lower-level multiplex)\n",
    "#     multiplex_2 = single_decomp_multi_control_ZERO_Rz(target_gate,\n",
    "#                                                       new_angle,\n",
    "#                                                       start_qubit_ind,\n",
    "#                                                       N_controls-1, \n",
    "#                                                       last_CNOT=False)\n",
    "    \n",
    "#     if N_controls > 1:\n",
    "#         circuit = cirq.Circuit(\n",
    "#                                [\n",
    "#                                    circuit.all_operations(),\n",
    "#                                    *list(multiplex_2.all_operations())[::-1], # reversed (allowed as circuit is symmetric)\n",
    "#                                ]\n",
    "#                             )\n",
    "#     else:\n",
    "#         circuit = cirq.Circuit(\n",
    "#                                [\n",
    "#                                    circuit.all_operations(),\n",
    "#                                    *multiplex_2.all_operations(),\n",
    "#                                ]\n",
    "#                             )\n",
    "#     # attach a final CNOT\n",
    "#     if last_CNOT:\n",
    "#         circuit.append(cirq.CNOT(MSB, LSB))\n",
    "    \n",
    "#     return circuit"
   ]
  },
  {
   "cell_type": "code",
   "execution_count": null,
   "metadata": {},
   "outputs": [],
   "source": [
    "def single_decomp_multi_control_ZERO_Rz(target_gate, list_of_angles, start_qubit_ind, N_controls, last_CNOT=True):\n",
    "    \"\"\"\n",
    "         0: ───(0)─────              0: ──────────────@──────────────@───\n",
    "               │                                      │              │\n",
    "         1: ───(0)─────              1: ───(0)────────┼───(0)────────┼───\n",
    "               │            TO              │         │   │          │\n",
    "         2: ───(0)─────              2: ───(0)────────┼───(0)────────┼───\n",
    "               │                            │         │    │         │\n",
    "         3: ───Rz(π)───              3: ───Rz(0.5π)───X───Rz(0.5π)───X───\n",
    "         \n",
    "         \n",
    "            0: ───────────────────────────────────@──────────────────────────────────@───\n",
    "                                                  │                                  │\n",
    "            1: ───────────────@───────────────@───┼───@───────────────@──────────────┼───\n",
    "   TO                         │               │   │   │               │              │\n",
    "            2: ───(0)─────────┼───(0)─────────┼───┼───┼───(0)─────────┼───(0)────────┼───\n",
    "                  │           │   │           │   │   │   │           │   │          │\n",
    "            3: ───Rz(0.25π)───X───Rz(0.25π)───X───X───X───Rz(0.25π)───X───Rz(0.25π)──X───\n",
    "                                              ^       ^\n",
    "                                            ## cancel ##\n",
    "    \"\"\"\n",
    "        \n",
    "    number_angles = len(list_of_angles)\n",
    "    local_num_qubits = int(np.log2(number_angles)) \n",
    "    qubits_list = cirq.LineQubit.range(start_qubit_ind, start_qubit_ind+ local_num_qubits+1)\n",
    "    \n",
    "    LSB = qubits_list[0] # least significant bit\n",
    "    circuit = cirq.Circuit()\n",
    "    \n",
    "    # case of no multiplexing: base case for recursion\n",
    "    if local_num_qubits == 1:\n",
    "        if target_gate == 'Ry':\n",
    "            Ry_gate = cirq.ry(list_of_angles[0])\n",
    "            circuit.append(Ry_gate.on(LSB))\n",
    "        elif target_gate == 'Rz':\n",
    "            Rz_gate = cirq.rz(list_of_angles[0])\n",
    "            circuit.append(Rz_gate.on(LSB))\n",
    "        else:\n",
    "            raise ValueError(f'Incorrect gate specificed: {target_gate}')\n",
    "        \n",
    "        return circuit\n",
    "    \n",
    "\n",
    "    MSB = qubits_list[local_num_qubits-1] # most significant bit\n",
    "    \n",
    "    # calc the combo angles\n",
    "    \n",
    "    # recursive step on half the angles fulfilling the above assumption\n",
    "    multiplex_1 = single_decomp_multi_control_ZERO_Rz(target_gate,\n",
    "                                                       list_of_angles[0:(number_angles // 2)],\n",
    "                                                      start_qubit_ind,\n",
    "                                                      N_controls-1, \n",
    "                                                      last_CNOT=False)\n",
    "    circuit = cirq.Circuit(\n",
    "       [\n",
    "           circuit.all_operations(),\n",
    "           *multiplex_1.all_operations(),\n",
    "       ]\n",
    "    )\n",
    "    \n",
    "    circuit.append(cirq.CNOT(MSB, LSB))\n",
    "\n",
    "    # implement extra efficiency from the paper of cancelling adjacent\n",
    "    # CNOTs (by leaving out last CNOT and reversing (NOT inverting) the\n",
    "    # second lower-level multiplex)\n",
    "    multiplex_2 = single_decomp_multi_control_ZERO_Rz(target_gate,\n",
    "                                                       list_of_angles[0:(number_angles // 2)],\n",
    "                                                      start_qubit_ind,\n",
    "                                                      N_controls-1, \n",
    "                                                      last_CNOT=False)\n",
    "    \n",
    "    if N_controls > 1:\n",
    "        circuit = cirq.Circuit(\n",
    "                               [\n",
    "                                   circuit.all_operations(),\n",
    "                                   *list(multiplex_2.all_operations())[::-1], # reversed (allowed as circuit is symmetric)\n",
    "                               ]\n",
    "                            )\n",
    "    else:\n",
    "        circuit = cirq.Circuit(\n",
    "                               [\n",
    "                                   circuit.all_operations(),\n",
    "                                   *multiplex_2.all_operations(),\n",
    "                               ]\n",
    "                            )\n",
    "    # attach a final CNOT\n",
    "    if last_CNOT:\n",
    "        circuit.append(cirq.CNOT(MSB, LSB))\n",
    "    \n",
    "    return circuit"
   ]
  },
  {
   "cell_type": "code",
   "execution_count": null,
   "metadata": {},
   "outputs": [],
   "source": [
    "start_qubit_ind = 0\n",
    "number_Controls = 3\n",
    "# THETA = np.pi/7\n",
    "\n",
    "circuit = single_decomp_multi_control_ZERO_Rz('Ry',\n",
    "                                    theta_list,\n",
    "                                    start_qubit_ind,\n",
    "                                    number_Controls, \n",
    "                                    last_CNOT=True)\n",
    "circuit"
   ]
  },
  {
   "cell_type": "code",
   "execution_count": null,
   "metadata": {},
   "outputs": [],
   "source": [
    "\n",
    "q_list = list(cirq.LineQubit.range(start_qubit_ind, start_qubit_ind+number_Controls+1))\n",
    "\n",
    "Ry_control_circ = cirq.Circuit(\n",
    "\n",
    "cirq.ry(THETA).controlled(num_controls=3, control_values=[0,0,0]).on(\n",
    "                    *[*q_list[1:], q_list[0]])\n",
    ")\n",
    "Ry_control_circ"
   ]
  },
  {
   "cell_type": "code",
   "execution_count": null,
   "metadata": {},
   "outputs": [],
   "source": [
    "# np.allclose(circuit.unitary(), Ry_control_circ.unitary())"
   ]
  },
  {
   "cell_type": "markdown",
   "metadata": {},
   "source": [
    "## 3.2 Build circuit from list of thetas"
   ]
  },
  {
   "cell_type": "code",
   "execution_count": null,
   "metadata": {},
   "outputs": [],
   "source": [
    "def Rotations_circuit(target_gate, list_angles, start_qubit_ind, N_controls, last_CNOT=True):\n",
    "    \n",
    "    circuit = cirq.Circuit()\n",
    "    \n",
    "#     for ind, angle in enumerate(list_angles): \n",
    "#         circuit.append(single_decomp_multi_control_ZERO_Rz(target_gate, \n",
    "#                                                            angle, \n",
    "#                                                            start_qubit_ind + ind,  # note plus\n",
    "#                                                            N_controls - ind, #note minus\n",
    "#                                                            last_CNOT=last_CNOT))\n",
    "\n",
    "    circuit.append(single_decomp_multi_control_ZERO_Rz(target_gate, \n",
    "                                                       list_angles[0], \n",
    "                                                       start_qubit_ind,  \n",
    "                                                       N_controls, \n",
    "                                                       last_CNOT=last_CNOT))\n",
    "    return circuit"
   ]
  },
  {
   "cell_type": "code",
   "execution_count": null,
   "metadata": {},
   "outputs": [],
   "source": []
  },
  {
   "cell_type": "code",
   "execution_count": null,
   "metadata": {},
   "outputs": [],
   "source": [
    "qubit_state_vector = np.array([\n",
    "    [0.125],\n",
    "    [0.125],\n",
    "    [0.125j],\n",
    "    [-0.125j],\n",
    "    [0.125],\n",
    "    [-0.125],\n",
    "    [0.125j],\n",
    "    [0.125j]\n",
    "])\n",
    "\n",
    "remaining_vector, theta_list, phi_list = Rotations_to_disentangle(qubit_state_vector.flat)\n",
    "\n",
    "c = Rotations_circuit('Rz', theta_list, 0, 2)\n",
    "c"
   ]
  },
  {
   "cell_type": "code",
   "execution_count": null,
   "metadata": {},
   "outputs": [],
   "source": [
    "from quchem.Qcircuit.Circuit_functions_to_create_arb_state import recursive_multiplex\n",
    "recursive_multiplex('Rz', theta_list, 0, 3)"
   ]
  },
  {
   "cell_type": "code",
   "execution_count": null,
   "metadata": {},
   "outputs": [],
   "source": [
    "theta_list"
   ]
  },
  {
   "cell_type": "markdown",
   "metadata": {},
   "source": [
    "## 3.3 Build disentangling circuit"
   ]
  },
  {
   "cell_type": "code",
   "execution_count": null,
   "metadata": {},
   "outputs": [],
   "source": [
    "# from copy import deepcopy\n",
    "# def disentangle_circuit(qubit_state_vector, start_qubit_ind):\n",
    "#     \"\"\"\n",
    "#     \"\"\"\n",
    "\n",
    "#     circuit = cirq.Circuit()intialization_circuit\n",
    "#     n_qubits = np.log2(len(qubit_state_vector))\n",
    "\n",
    "#     if np.ceil(n_qubits) != np.floor(n_qubits):\n",
    "#         raise ValueError('state vector is not a qubit state')\n",
    "    \n",
    "#     n_qubits = int(n_qubits)\n",
    "\n",
    "#     remaining_vector = deepcopy(qubit_state_vector)\n",
    "#     qubit_inds = list(range(start_qubit_ind, start_qubit_ind+n_qubits))\n",
    "#     for j, qubit_ind in enumerate(qubit_inds):\n",
    "        \n",
    "        \n",
    "#         remaining_vector, theta_list, phi_list = Rotations_to_disentangle(remaining_vector)\n",
    "#         N_controls = int(np.log2(len(remaining_vector)))\n",
    "#         add_last_cnot = True\n",
    "#         if np.linalg.norm(phi_list) != 0 and np.linalg.norm(theta_list) != 0:\n",
    "#             add_last_cnot = False\n",
    "\n",
    "#         if np.linalg.norm(phi_list) != 0:\n",
    "#             rz_mult_circuit = Rotations_circuit('Rz',\n",
    "#                                                   phi_list,\n",
    "#                                                   start_qubit_ind + j,\n",
    "#                                                   N_controls,\n",
    "#                                                   last_CNOT=add_last_cnot)\n",
    "#             circuit.append(rz_mult_circuit)\n",
    "\n",
    "#         if np.linalg.norm(theta_list) != 0:\n",
    "#             ry_mult_circuit = Rotations_circuit('Ry',\n",
    "#                                                   theta_list,\n",
    "#                                                   start_qubit_ind + j,\n",
    "#                                                   N_controls,\n",
    "#                                                   last_CNOT=add_last_cnot)\n",
    "#             circuit = cirq.Circuit(\n",
    "#                        [\n",
    "#                            circuit.all_operations(),\n",
    "#                            *list(ry_mult_circuit.all_operations())[::-1],\n",
    "#                        ]\n",
    "#                     )\n",
    "            \n",
    "#     return circuit"
   ]
  },
  {
   "cell_type": "code",
   "execution_count": null,
   "metadata": {},
   "outputs": [],
   "source": [
    "def disentangle_circuit(qubit_state_vector, start_qubit_ind):\n",
    "    \"\"\"\n",
    "    \"\"\"\n",
    "\n",
    "    circuit = cirq.Circuit()\n",
    "    n_qubits = np.log2(len(qubit_state_vector))\n",
    "\n",
    "    if np.ceil(n_qubits) != np.floor(n_qubits):\n",
    "        raise ValueError('state vector is not a qubit state')\n",
    "    \n",
    "    n_qubits = int(n_qubits)\n",
    "\n",
    "    remaining_vector = deepcopy(qubit_state_vector)\n",
    "    qubit_inds = range(start_qubit_ind, start_qubit_ind+n_qubits)\n",
    "    for j, qubit_ind in enumerate(qubit_inds):\n",
    "        # work out which rotations must be done to disentangle the LSB\n",
    "        # qubit (we peel away one qubit at a time)\n",
    "        remaining_vector, theta_list, phi_list = Rotations_to_disentangle(remaining_vector)\n",
    "        N_controls = int(np.log2(len(remaining_vector)))\n",
    "        print(len(theta_list))\n",
    "        \n",
    "        add_last_cnot = True\n",
    "        if np.linalg.norm(phi_list) != 0 and np.linalg.norm(theta_list) != 0:\n",
    "            add_last_cnot = False\n",
    "\n",
    "        if np.linalg.norm(phi_list) != 0:\n",
    "            rz_mult_circuit = single_decomp_multi_control_ZERO_Rz('Rz',\n",
    "                                                  phi_list,\n",
    "                                                  qubit_ind,\n",
    "                                                  N_controls,\n",
    "                                                  last_CNOT=add_last_cnot)\n",
    "            circuit.append(rz_mult_circuit)\n",
    "\n",
    "        if np.linalg.norm(theta_list) != 0:\n",
    "            ry_mult_circuit = single_decomp_multi_control_ZERO_Rz('Ry',\n",
    "                                                  theta_list,\n",
    "                                                  qubit_ind,\n",
    "                                                  N_controls,\n",
    "                                                  last_CNOT=add_last_cnot)\n",
    "            circuit = cirq.Circuit(\n",
    "                       [\n",
    "                           circuit.all_operations(),\n",
    "                           *list(ry_mult_circuit.all_operations())[::-1],\n",
    "                       ]\n",
    "                    )\n",
    "    return circuit"
   ]
  },
  {
   "cell_type": "code",
   "execution_count": null,
   "metadata": {},
   "outputs": [],
   "source": [
    "qubit_state_vector = np.array([\n",
    "    [np.sqrt(0.2)],\n",
    "    [0],\n",
    "    [np.sqrt(0.1)],\n",
    "    [np.sqrt(0.1)],\n",
    "    [np.sqrt(0.3)],\n",
    "    [np.sqrt(0.2)],\n",
    "    [np.sqrt(0.1)],\n",
    "    [0],\n",
    "])\n",
    "\n",
    "# c = disentangle_circuit(qubit_state_vector, 0)\n",
    "# c"
   ]
  },
  {
   "cell_type": "code",
   "execution_count": null,
   "metadata": {},
   "outputs": [],
   "source": []
  },
  {
   "cell_type": "code",
   "execution_count": null,
   "metadata": {},
   "outputs": [],
   "source": [
    "new = cirq.inverse(c)\n",
    "new"
   ]
  },
  {
   "cell_type": "code",
   "execution_count": null,
   "metadata": {},
   "outputs": [],
   "source": [
    "np.around(new.final_state_vector(), 3)"
   ]
  },
  {
   "cell_type": "code",
   "execution_count": null,
   "metadata": {},
   "outputs": [],
   "source": []
  },
  {
   "cell_type": "code",
   "execution_count": null,
   "metadata": {},
   "outputs": [],
   "source": [
    "from quchem.Qcircuit.Circuit_functions_to_create_arb_state import intialization_circuit\n",
    "start_qubit_ind=0\n",
    "check_circuit=True\n",
    "\n",
    "t = intialization_circuit(qubit_state_vector, start_qubit_ind, check_circuit=check_circuit, threshold=7)\n",
    "t"
   ]
  },
  {
   "cell_type": "code",
   "execution_count": null,
   "metadata": {},
   "outputs": [],
   "source": [
    "np.around(t.final_state_vector(), 3)"
   ]
  },
  {
   "cell_type": "code",
   "execution_count": null,
   "metadata": {},
   "outputs": [],
   "source": []
  },
  {
   "cell_type": "code",
   "execution_count": null,
   "metadata": {},
   "outputs": [],
   "source": []
  },
  {
   "cell_type": "code",
   "execution_count": null,
   "metadata": {},
   "outputs": [],
   "source": [
    "np.allclose(tt1.unitary(), tt2.unitary())"
   ]
  },
  {
   "cell_type": "code",
   "execution_count": null,
   "metadata": {},
   "outputs": [],
   "source": [
    "theta_list"
   ]
  },
  {
   "cell_type": "code",
   "execution_count": null,
   "metadata": {},
   "outputs": [],
   "source": [
    "from quchem.Qcircuit.Circuit_functions_to_create_arb_state import recursive_multiplex\n",
    "\n",
    "test = recursive_multiplex('Ry', theta_list, 10, 20)\n",
    "test"
   ]
  },
  {
   "cell_type": "code",
   "execution_count": null,
   "metadata": {},
   "outputs": [],
   "source": [
    "def recursive_multiplex_NEW(target_gate, list_of_angles, start_qubit_ind, last_cnot=True):\n",
    "    \"\"\"\n",
    "    Args:\n",
    "        target_gate (Gate): Ry or Rz gate to apply to target qubit,\n",
    "                            multiplexed over all other \"select\" qubits\n",
    "                            \n",
    "        list_of_angles (list[float]): list of rotation angles to apply Ry and Rz\n",
    "        \n",
    "        last_cnot (bool): add the last cnot if last_cnot = True\n",
    "    \"\"\"\n",
    "    number_angles = len(list_of_angles)\n",
    "    local_num_qubits = int(np.log2(number_angles)) + 1 # +1 for n+1 qubits!\n",
    "    \n",
    "    qubits_list = cirq.LineQubit.range(start_qubit_ind, start_qubit_ind+local_num_qubits+1)\n",
    "    \n",
    "    LSB = qubits_list[-1] # least significant bit\n",
    "    MSB = qubits_list[0] # most significant bit\n",
    "    \n",
    "    circuit = cirq.Circuit()\n",
    "    \n",
    "    # case of no multiplexing: base case for recursion\n",
    "    if local_num_qubits == 1:\n",
    "        if target_gate == 'Ry':\n",
    "            Ry_gate = cirq.ry(list_of_angles[0])\n",
    "            circuit.append(Ry_gate.on(LSB))\n",
    "        elif target_gate == 'Rz':\n",
    "            Rz_gate = cirq.rz(list_of_angles[0])\n",
    "            circuit.append(Rz_gate.on(LSB))\n",
    "        else:\n",
    "            raise ValueError(f'Incorrect gate specificed: {target_gate}')\n",
    "        \n",
    "        return circuit\n",
    "    \n",
    "    angle_weight = np.kron([[0.5, 0.5], [0.5, -0.5]],\n",
    "                               np.identity(2 ** (local_num_qubits - 2)))\n",
    "    \n",
    "    # calc the combo angles\n",
    "    list_of_angles = angle_weight.dot(np.array(list_of_angles)).tolist()\n",
    "    \n",
    "    # recursive step on half the angles fulfilling the above assumption\n",
    "    multiplex_1 = recursive_multiplex_NEW(target_gate, list_of_angles[0:(number_angles // 2)],\n",
    "                                      start_qubit_ind+1,\n",
    "                                      False)\n",
    "    circuit = cirq.Circuit(\n",
    "       [\n",
    "           circuit.all_operations(),\n",
    "           *multiplex_1.all_operations(),\n",
    "       ]\n",
    "    )\n",
    "    \n",
    "    circuit.append(cirq.CNOT(MSB, LSB))\n",
    "\n",
    "    # implement extra efficiency from the paper of cancelling adjacent\n",
    "    # CNOTs (by leaving out last CNOT and reversing (NOT inverting) the\n",
    "    # second lower-level multiplex)\n",
    "    multiplex_2 = recursive_multiplex_NEW(target_gate, list_of_angles[(number_angles // 2):],\n",
    "                                      start_qubit_ind+1,\n",
    "                                      False)\n",
    "    \n",
    "    if number_angles > 1:\n",
    "        circuit = cirq.Circuit(\n",
    "                               [\n",
    "                                   circuit.all_operations(),\n",
    "                                   *list(multiplex_2.all_operations())[::-1], # reversed (allowed as circuit is symmetric)\n",
    "                               ]\n",
    "                            )\n",
    "    else:\n",
    "        circuit = cirq.Circuit(\n",
    "                               [\n",
    "                                   circuit.all_operations(),\n",
    "                                   *multiplex_2.all_operations(),\n",
    "                               ]\n",
    "                            )\n",
    "    # attach a final CNOT\n",
    "    if last_cnot:\n",
    "        circuit.append(cirq.CNOT(MSB, LSB))\n",
    "    \n",
    "    return circuit"
   ]
  },
  {
   "cell_type": "code",
   "execution_count": null,
   "metadata": {},
   "outputs": [],
   "source": [
    "from quchem.Qcircuit.Circuit_functions_to_create_arb_state import recursive_multiplex\n",
    "\n",
    "test = recursive_multiplex('Ry', [0.5, 0.6, 0.7, 0.8], 0, 3)\n",
    "test"
   ]
  },
  {
   "cell_type": "code",
   "execution_count": null,
   "metadata": {},
   "outputs": [],
   "source": [
    "tt2.unitary()"
   ]
  },
  {
   "cell_type": "code",
   "execution_count": null,
   "metadata": {},
   "outputs": [],
   "source": [
    "tt1.unitary()"
   ]
  },
  {
   "cell_type": "code",
   "execution_count": null,
   "metadata": {},
   "outputs": [],
   "source": [
    "from quchem.Qcircuit.Circuit_functions_to_create_arb_state import intialization_circuit\n",
    "\n",
    "qubit_state_vector = [1j/np.sqrt(8) if i%2==0 else 1/np.sqrt(8) for i in range(2**3)]\n",
    "# qubit_state_vector = [1/np.sqrt(8) for i in range(2**3)]\n",
    "\n",
    "start_qubit_ind=0\n",
    "check_circuit=False\n",
    "\n",
    "c = intialization_circuit(qubit_state_vector, start_qubit_ind, check_circuit=check_circuit, threshold=7)\n",
    "c"
   ]
  },
  {
   "cell_type": "code",
   "execution_count": null,
   "metadata": {},
   "outputs": [],
   "source": [
    "c.final_state_vector()"
   ]
  },
  {
   "cell_type": "code",
   "execution_count": null,
   "metadata": {},
   "outputs": [],
   "source": []
  },
  {
   "cell_type": "code",
   "execution_count": null,
   "metadata": {},
   "outputs": [],
   "source": [
    "def recursive_multiplex_NEW(target_gate, \n",
    "                            list_control_qubits, \n",
    "                            active_qubit, last_cnot=True,\n",
    "                            running_circuit=cirq.Circuit()):\n",
    "    \"\"\"\n",
    "    Iteratively breaks into:\n",
    "    \n",
    "         0: ───(0)─────              0: ──────────────@──────────────@───\n",
    "               │                                      │              │\n",
    "         1: ───(0)─────              1: ───(0)────────┼───(0)────────┼───\n",
    "               │            TO              │         │   │          │\n",
    "         2: ───(0)─────              2: ───(0)────────┼───(0)────────┼───\n",
    "               │                            │         │    │         │\n",
    "         3: ───Rz(π)───              3: ───Rz(0.5π)───X───Rz(0.5π)───X───\n",
    "    \"\"\"\n",
    "    \n",
    "    \n",
    "    for ind, control_q in enumerate(list_control_qubits):\n",
    "        \n",
    "        if ind == 0:\n",
    "            # no CNOT cancellation possible"
   ]
  },
  {
   "cell_type": "code",
   "execution_count": null,
   "metadata": {},
   "outputs": [],
   "source": []
  },
  {
   "cell_type": "code",
   "execution_count": null,
   "metadata": {},
   "outputs": [],
   "source": [
    "class single_decomp_multi_control_ZERO_Rz(cirq.Gate):\n",
    "    \"\"\"\n",
    "         0: ───(0)─────              0: ──────────────@──────────────@───\n",
    "               │                                      │              │\n",
    "         1: ───(0)─────              1: ───(0)────────┼───(0)────────┼───\n",
    "               │            TO              │         │   │          │\n",
    "         2: ───(0)─────              2: ───(0)────────┼───(0)────────┼───\n",
    "               │                            │         │    │         │\n",
    "         3: ───Rz(π)───              3: ───Rz(0.5π)───X───Rz(0.5π)───X───\n",
    "    \"\"\"\n",
    "\n",
    "    def __init__(self, Angle, list_control_qubits, active_qubit, include_last_CNOT=True):\n",
    "\n",
    "        self.Angle = Angle\n",
    "        self.list_control_qubits = list_control_qubits\n",
    "        self.active_qubit\n",
    "\n",
    "\n",
    "    def _decompose_(self, qubits, include_final_CNOT=True):\n",
    "        \n",
    "        divisor = 2**len(self.list_control_qubits)\n",
    "        \n",
    "        least_significant_bit = qubits[0] \n",
    "        active_bit = qubits[-1]\n",
    "        if len(self.list_control_qubits) == []:\n",
    "            pass\n",
    "        else:\n",
    "            \n",
    "            new_angle = self.Angle/2\n",
    "            new_control = \n",
    "            \n",
    "        \n",
    "        # then do final\n",
    "\n",
    "\n",
    "\n",
    "    def num_qubits(self):\n",
    "        return len(self.list_control_qubits) + 1"
   ]
  },
  {
   "cell_type": "code",
   "execution_count": null,
   "metadata": {},
   "outputs": [],
   "source": [
    "len([])"
   ]
  },
  {
   "cell_type": "code",
   "execution_count": null,
   "metadata": {},
   "outputs": [],
   "source": []
  },
  {
   "cell_type": "code",
   "execution_count": null,
   "metadata": {},
   "outputs": [],
   "source": []
  },
  {
   "cell_type": "code",
   "execution_count": null,
   "metadata": {},
   "outputs": [],
   "source": []
  },
  {
   "cell_type": "code",
   "execution_count": null,
   "metadata": {},
   "outputs": [],
   "source": [
    "from quchem.Qcircuit.Circuit_functions_to_create_arb_state import recursive_multiplex\n",
    "\n",
    "test = recursive_multiplex('Ry', theta_list, 0, 20)\n",
    "test"
   ]
  },
  {
   "cell_type": "code",
   "execution_count": null,
   "metadata": {},
   "outputs": [],
   "source": [
    "theta_list = [0.125 * np.pi for _ in range(8)]"
   ]
  },
  {
   "cell_type": "code",
   "execution_count": null,
   "metadata": {},
   "outputs": [],
   "source": [
    "def recursive_multiplex(target_gate, list_of_angles, start_qubit_ind, last_cnot=True):\n",
    "    \"\"\"\n",
    "    Args:\n",
    "        target_gate (Gate): Ry or Rz gate to apply to target qubit,\n",
    "                            multiplexed over all other \"select\" qubits\n",
    "                            \n",
    "        list_of_angles (list[float]): list of rotation angles to apply Ry and Rz\n",
    "        \n",
    "        last_cnot (bool): add the last cnot if last_cnot = True\n",
    "    \"\"\"\n",
    "    number_angles = len(list_of_angles)\n",
    "    local_num_qubits = int(np.log2(number_angles)) + 1 # +1 for n+1 qubits!\n",
    "    \n",
    "    qubits_list = cirq.LineQubit.range(local_num_qubits-start_qubit_ind, start_qubit_ind,-1)\n",
    "    \n",
    "    LSB = qubits_list[0] # least significant bit\n",
    "    MSB = qubits_list[local_num_qubits-1] # most significant bit\n",
    "    \n",
    "    circuit = cirq.Circuit()\n",
    "    \n",
    "    # case of no multiplexing: base case for recursion\n",
    "    if local_num_qubits == 1:\n",
    "        if target_gate == 'Ry':\n",
    "            Ry_gate = cirq.ry(list_of_angles[0])\n",
    "            circuit.append(Ry_gate.on(LSB))\n",
    "        elif target_gate == 'Rz':\n",
    "            Rz_gate = cirq.rz(list_of_angles[0])\n",
    "            circuit.append(Rz_gate.on(LSB))\n",
    "        else:\n",
    "            raise ValueError(f'Incorrect gate specificed: {target_gate}')\n",
    "        \n",
    "        return circuit\n",
    "    \n",
    "    angle_weight = np.kron([[0.5, 0.5], [0.5, -0.5]],\n",
    "                               np.identity(2 ** (local_num_qubits - 2)))\n",
    "    \n",
    "    # calc the combo angles\n",
    "    list_of_angles = angle_weight.dot(np.array(list_of_angles)).tolist()\n",
    "    \n",
    "    # recursive step on half the angles fulfilling the above assumption\n",
    "    multiplex_1 = recursive_multiplex(target_gate, list_of_angles[0:(number_angles // 2)],\n",
    "                                      start_qubit_num,\n",
    "                                      end_qubit_num-1,\n",
    "                                      False)\n",
    "    circuit = cirq.Circuit(\n",
    "       [\n",
    "           circuit.all_operations(),\n",
    "           *multiplex_1.all_operations(),\n",
    "       ]\n",
    "    )\n",
    "    \n",
    "    circuit.append(cirq.CNOT(MSB, LSB))\n",
    "\n",
    "    # implement extra efficiency from the paper of cancelling adjacent\n",
    "    # CNOTs (by leaving out last CNOT and reversing (NOT inverting) the\n",
    "    # second lower-level multiplex)\n",
    "    multiplex_2 = recursive_multiplex(target_gate, list_of_angles[(number_angles // 2):],\n",
    "                                      start_qubit_num,\n",
    "                                      end_qubit_num-1,\n",
    "                                      False)\n",
    "    \n",
    "    if number_angles > 1:\n",
    "        circuit = cirq.Circuit(\n",
    "                               [\n",
    "                                   circuit.all_operations(),\n",
    "                                   *list(multiplex_2.all_operations())[::-1], # reversed (allowed as circuit is symmetric)\n",
    "                               ]\n",
    "                            )\n",
    "    else:\n",
    "        circuit = cirq.Circuit(\n",
    "                               [\n",
    "                                   circuit.all_operations(),\n",
    "                                   *multiplex_2.all_operations(),\n",
    "                               ]\n",
    "                            )\n",
    "    # attach a final CNOT\n",
    "    if last_cnot:\n",
    "        circuit.append(cirq.CNOT(MSB, LSB))\n",
    "    \n",
    "    return circuit"
   ]
  },
  {
   "cell_type": "code",
   "execution_count": null,
   "metadata": {},
   "outputs": [],
   "source": []
  },
  {
   "cell_type": "code",
   "execution_count": null,
   "metadata": {},
   "outputs": [],
   "source": []
  },
  {
   "cell_type": "code",
   "execution_count": null,
   "metadata": {},
   "outputs": [],
   "source": [
    ": ────────────────@────────────────@────────────────@───────────────@───\n",
    "                   │                │                │               │\n",
    "1: ───Rz(-0.25π)───X───Rz(-0.25π)───X───Rz(-0.25π)───X───Rz(0.25π)───X───"
   ]
  },
  {
   "cell_type": "code",
   "execution_count": null,
   "metadata": {},
   "outputs": [],
   "source": [
    "qubits = cirq.LineQubit.range(0,2)\n",
    "THETA = np.pi\n",
    "\n",
    "tt = cirq.Circuit(\n",
    "\n",
    "cirq.CNOT(qubits[0], qubits[1]),\n",
    "cirq.rz(THETA/2).on(qubits[1]),\n",
    "cirq.CNOT(qubits[0], qubits[1]),\n",
    "cirq.rz(THETA/2).on(qubits[1]),\n",
    "cirq.CNOT(qubits[0], qubits[1]),\n",
    "cirq.rz(THETA/2).on(qubits[1]),\n",
    "cirq.CNOT(qubits[0], qubits[1]),\n",
    ")\n",
    "tt"
   ]
  },
  {
   "cell_type": "code",
   "execution_count": null,
   "metadata": {},
   "outputs": [],
   "source": [
    "tt2 = cirq.Circuit(\n",
    "\n",
    "cirq.CNOT(qubits[0], qubits[1]),\n",
    "# cirq.rz(THETA/2).on(qubits[1]),\n",
    "# cirq.rz(-THETA/2).on(qubits[1]),\n",
    "# cirq.CNOT(qubits[0], qubits[1]),\n",
    "# cirq.CNOT(qubits[0], qubits[1]),\n",
    "cirq.rz(THETA/2).on(qubits[1]),\n",
    "cirq.CNOT(qubits[0], qubits[1]),\n",
    ")\n",
    "tt2"
   ]
  },
  {
   "cell_type": "code",
   "execution_count": null,
   "metadata": {},
   "outputs": [],
   "source": [
    "np.allclose(tt.unitary(), tt2.unitary())"
   ]
  }
 ],
 "metadata": {
  "kernelspec": {
   "display_name": "Python 3",
   "language": "python",
   "name": "python3"
  },
  "language_info": {
   "codemirror_mode": {
    "name": "ipython",
    "version": 3
   },
   "file_extension": ".py",
   "mimetype": "text/x-python",
   "name": "python",
   "nbconvert_exporter": "python",
   "pygments_lexer": "ipython3",
   "version": "3.8.5"
  }
 },
 "nbformat": 4,
 "nbformat_minor": 4
}
