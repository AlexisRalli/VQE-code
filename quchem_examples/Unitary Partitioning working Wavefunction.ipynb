{
 "cells": [
  {
   "cell_type": "code",
   "execution_count": 1,
   "metadata": {},
   "outputs": [
    {
     "name": "stderr",
     "output_type": "stream",
     "text": [
      "Building Graph Edges: 100%|##########| 15/15 [00:00<00:00, 1981.62it/s]\n"
     ]
    },
    {
     "data": {
      "text/plain": [
       "{0: [(0.1686889816869329+0j) [Z0 Z1]],\n",
       " 1: [(0.16592785032250768+0j) [Z1 Z2]],\n",
       " 2: [(0.174412876106516+0j) [Z2 Z3]],\n",
       " 3: [(0.12062523481381837+0j) [Z1 Z3]],\n",
       " 4: [(0.16592785032250768+0j) [Z0 Z3]],\n",
       " 5: [(0.12062523481381837+0j) [Z0 Z2]],\n",
       " 6: [(-0.09706626861762624+0j) []],\n",
       " 7: [(0.04530261550868928+0j) [X0 Y1 Y2 X3], (-0.2234315367466397+0j) [Z3]],\n",
       " 8: [(0.04530261550868928+0j) [Y0 X1 X2 Y3], (0.17141282639402405+0j) [Z0]],\n",
       " 9: [(-0.04530261550868928+0j) [X0 X1 Y2 Y3], (-0.2234315367466397+0j) [Z2]],\n",
       " 10: [(-0.04530261550868928+0j) [Y0 Y1 X2 X3], (0.171412826394024+0j) [Z1]]}"
      ]
     },
     "execution_count": 1,
     "metadata": {},
     "output_type": "execute_result"
    }
   ],
   "source": [
    "import cirq\n",
    "from quchem.Hamiltonian_Generator_Functions import *\n",
    "from quchem.Graph import *\n",
    "### HAMILTONIAN start\n",
    "Molecule = 'H2'#'LiH'\n",
    "geometry = [('H', (0., 0., 0.)), ('H', (0., 0., 0.74))]#[('Li', (0., 0., 0.)), ('H', (0., 0., 1.45))]\n",
    "num_shots = 10000\n",
    "basis = 'sto-3g'\n",
    "\n",
    "\n",
    "### Get Hamiltonian\n",
    "Hamilt = Hamiltonian(Molecule,\n",
    "                     run_scf=1, run_mp2=1, run_cisd=1, run_ccsd=1, run_fci=1,\n",
    "                     basis=basis,\n",
    "                     multiplicity=1,\n",
    "                     geometry=geometry)  # normally None!\n",
    "QubitHamiltonian = Hamilt.Get_Qubit_Hamiltonian(threshold=None, transformation='JW')\n",
    "### HAMILTONIAN end\n",
    "\n",
    "#####################################\n",
    "\n",
    "Hamiltonian_graph_obj = Openfermion_Hamiltonian_Graph(QubitHamiltonian)\n",
    "\n",
    "commutativity_flag = 'AC' ## <- defines relationship between sets!!!\n",
    "plot_graph = False\n",
    "Graph_colouring_strategy='largest_first'\n",
    "anti_commuting_sets = Hamiltonian_graph_obj.Get_Clique_Cover_as_QubitOp(commutativity_flag, Graph_colouring_strategy=Graph_colouring_strategy, plot_graph=plot_graph)\n",
    "anti_commuting_sets"
   ]
  },
  {
   "cell_type": "code",
   "execution_count": 2,
   "metadata": {},
   "outputs": [],
   "source": [
    "from quchem.Unitary_partitioning import * "
   ]
  },
  {
   "cell_type": "code",
   "execution_count": 3,
   "metadata": {},
   "outputs": [
    {
     "data": {
      "text/html": [
       "<pre style=\"overflow: auto; white-space: pre;\">0: ───X───Rx(0.5π)───@──────────────────────────────@───Rx(-0.5π)───\n",
       "                     │                              │\n",
       "1: ───X───H──────────X───@──────────────────────@───X───H───────────\n",
       "                         │                      │\n",
       "2: ───H──────────────────X───@──────────────@───X───H───────────────\n",
       "                             │              │\n",
       "3: ───H──────────────────────X───Rz(2.0π)───X───H───────────────────</pre>"
      ],
      "text/plain": [
       "0: ───X───Rx(0.5π)───@──────────────────────────────@───Rx(-0.5π)───\n",
       "                     │                              │\n",
       "1: ───X───H──────────X───@──────────────────────@───X───H───────────\n",
       "                         │                      │\n",
       "2: ───H──────────────────X───@──────────────@───X───H───────────────\n",
       "                             │              │\n",
       "3: ───H──────────────────────X───Rz(2.0π)───X───H───────────────────"
      ]
     },
     "execution_count": 3,
     "metadata": {},
     "output_type": "execute_result"
    }
   ],
   "source": [
    "from quchem.Simulating_Quantum_Circuit import *\n",
    "from quchem.Ansatz_Generator_Functions import *\n",
    "from openfermion.ops import QubitOperator\n",
    "\n",
    "def H2_ansatz(theta):\n",
    "    HF_circ = [cirq.X.on(cirq.LineQubit(0)), cirq.X.on(cirq.LineQubit(1))]\n",
    "    \n",
    "    full_exp_circ_obj = full_exponentiated_PauliWord_circuit(QubitOperator('Y0 X1 X2 X3', -1j), theta)\n",
    "    UCCSD_circ = cirq.Circuit(cirq.decompose_once((full_exp_circ_obj(*cirq.LineQubit.range(full_exp_circ_obj.num_qubits())))))\n",
    "    full_circuit = cirq.Circuit([*HF_circ, *UCCSD_circ.all_operations()])\n",
    "    \n",
    "    return full_circuit\n",
    "    \n",
    "H2_ansatz(np.pi)    "
   ]
  },
  {
   "cell_type": "code",
   "execution_count": 5,
   "metadata": {},
   "outputs": [
    {
     "data": {
      "text/plain": [
       "-1.1167593073781577"
      ]
     },
     "execution_count": 5,
     "metadata": {},
     "output_type": "execute_result"
    }
   ],
   "source": [
    "def GIVE_ENERGY(THETA):\n",
    "    H2_ansatz_cirq_circuit = H2_ansatz(THETA)\n",
    "    VQE_exp_UP = VQE_Experiment_UP_lin_alg(anti_commuting_sets, H2_ansatz_cirq_circuit,\n",
    "                                   Hamilt.molecule.n_qubits, S_key_dict={7:0, 8:1, 9:1, 10:1})#None)\n",
    "    \n",
    "    return VQE_exp_UP.Calc_Energy()\n",
    "GIVE_ENERGY(np.pi)"
   ]
  },
  {
   "cell_type": "code",
   "execution_count": 7,
   "metadata": {},
   "outputs": [
    {
     "name": "stdout",
     "output_type": "stream",
     "text": [
      "-1.1372712856680682\n",
      "-1.13728383451232\n",
      "-1.1372838344855132\n"
     ]
    },
    {
     "data": {
      "image/png": "[encoded data removed]",
      "text/plain": [
       "<Figure size 432x288 with 1 Axes>"
      ]
     },
     "metadata": {
      "needs_background": "light"
     },
     "output_type": "display_data"
    }
   ],
   "source": [
    "### full angle scan\n",
    "\n",
    "import matplotlib.pyplot as plt\n",
    "%matplotlib inline\n",
    "\n",
    "theta_list = np.arange(0,2*np.pi, 0.1) # <-- accuracy determined by this step size!\n",
    "\n",
    "E_list = [GIVE_ENERGY(theta) for theta in theta_list]\n",
    "\n",
    "plt.plot(E_list)\n",
    "print(min(E_list))\n",
    "print(Hamilt.molecule.ccsd_energy)\n",
    "print(Hamilt.molecule.fci_energy)"
   ]
  },
  {
   "cell_type": "markdown",
   "metadata": {},
   "source": [
    "# full ansatz circuit"
   ]
  },
  {
   "cell_type": "code",
   "execution_count": 9,
   "metadata": {},
   "outputs": [
    {
     "name": "stderr",
     "output_type": "stream",
     "text": [
      "Building Graph Edges: 100%|##########| 15/15 [00:00<00:00, 726.37it/s]\n"
     ]
    },
    {
     "data": {
      "text/html": [
       "<pre style=\"overflow: auto; white-space: pre;\">0: ───X───Rx(0.5π)───@───────────────────────@───Rx(-0.5π)───H───@──────────────────────@───────────H──────────H─────────────────────────────────────────────────────────────────────────────────────────────@───────────────────────────────@───────────H──────────Rx(0.5π)───@──────────────────────────────@───────────Rx(-0.5π)───Rx(0.5π)───@──────────────────────────────@───Rx(-0.5π)───H──────────@──────────────────────────────@──────────H───────────Rx(0.5π)───@───────────────────────────────────────@───────────Rx(-0.5π)───H──────────@───────────────────────────────────────@───────────H───────────H───@───────────────────────────────────────@──────────H───Rx(0.5π)───@──────────────────────────────────────@───Rx(-0.5π)───\n",
       "                     │                       │                   │                      │                                                                                                                    │                               │                                 │                              │                                  │                              │                          │                              │                                 │                                       │                                  │                                       │                           │                                       │                         │                                      │\n",
       "1: ───X──────────────X───@───────────────@───X───────────────────X───@──────────────@───X───────────Rx(0.5π)───@───────────────────────@───Rx(-0.5π)───H───@──────────────────────@───────────H──────────H───X───@───────────────────────@───X───────────H──────────Rx(0.5π)───X───@──────────────────────@───X───────────Rx(-0.5π)───H──────────X───@──────────────────────@───X───H───────────Rx(0.5π)───X───@──────────────────────@───X──────────Rx(-0.5π)───H──────────X───@───────────────────────@───────────X───────────H───────────Rx(0.5π)───X───@───────────────────────@───────────X───────────Rx(-0.5π)───H───X───@───────────────────────@───────────X──────────H───Rx(0.5π)───X───@──────────────────────@───────────X───Rx(-0.5π)───\n",
       "                         │               │                           │              │                          │                       │                   │                      │                              │                       │                                         │                      │                                          │                      │                                  │                      │                                         │                       │                                                  │                       │                                           │                       │                                         │                      │\n",
       "2: ───H──────────────────X───Rz(-0.0π)───X───H───Rx(0.5π)────────────X───Rz(0.0π)───X───Rx(-0.5π)──────────────X───@───────────────@───X───────────────────X───@──────────────@───X───────────Rx(0.5π)───────────X───@───────────────@───X───Rx(-0.5π)───Rx(0.5π)──────────────────X───@──────────────@───X───Rx(-0.5π)───H──────────────────────────X───@──────────────@───X───H───H──────────────────────────X───@──────────────@───X───H──────────Rx(0.5π)───────────────────X───@───────────────@───X───────────Rx(-0.5π)───Rx(0.5π)───────────────────X───@───────────────@───X───────────Rx(-0.5π)───H───────────────────X───@───────────────@───X───────────H──────────H──────────────────X───@──────────────@───X───────────H───────────────\n",
       "                                                                                                                   │               │                           │              │                                      │               │                                                 │              │                                                  │              │                                          │              │                                                 │               │                                                          │               │                                                   │               │                                                 │              │\n",
       "3: ───H────────────────────────────────────────────────────────────────────────────────────────────────────────────X───Rz(-0.0π)───X───H───Rx(0.5π)────────────X───Rz(0.0π)───X───Rx(-0.5π)───H──────────────────────X───Rz(-0.0π)───X───H───H─────────────────────────────────────────X───Rz(0.0π)───X───H───H──────────────────────────────────────────X───Rz(0.0π)───X───H───H──────────────────────────────────X───Rz(0.0π)───X───H───Rx(0.5π)──────────────────────────────────X───Rz(-0.0π)───X───Rx(-0.5π)───Rx(0.5π)───────────────────────────────────X───Rz(-0.0π)───X───Rx(-0.5π)───Rx(0.5π)────────────────────────────X───Rz(-0.0π)───X───Rx(-0.5π)───Rx(0.5π)──────────────────────────X───Rz(0.0π)───X───Rx(-0.5π)───────────────────</pre>"
      ],
      "text/plain": [
       "0: ───X───Rx(0.5π)───@───────────────────────@───Rx(-0.5π)───H───@──────────────────────@───────────H──────────H─────────────────────────────────────────────────────────────────────────────────────────────@───────────────────────────────@───────────H──────────Rx(0.5π)───@──────────────────────────────@───────────Rx(-0.5π)───Rx(0.5π)───@──────────────────────────────@───Rx(-0.5π)───H──────────@──────────────────────────────@──────────H───────────Rx(0.5π)───@───────────────────────────────────────@───────────Rx(-0.5π)───H──────────@───────────────────────────────────────@───────────H───────────H───@───────────────────────────────────────@──────────H───Rx(0.5π)───@──────────────────────────────────────@───Rx(-0.5π)───\n",
       "                     │                       │                   │                      │                                                                                                                    │                               │                                 │                              │                                  │                              │                          │                              │                                 │                                       │                                  │                                       │                           │                                       │                         │                                      │\n",
       "1: ───X──────────────X───@───────────────@───X───────────────────X───@──────────────@───X───────────Rx(0.5π)───@───────────────────────@───Rx(-0.5π)───H───@──────────────────────@───────────H──────────H───X───@───────────────────────@───X───────────H──────────Rx(0.5π)───X───@──────────────────────@───X───────────Rx(-0.5π)───H──────────X───@──────────────────────@───X───H───────────Rx(0.5π)───X───@──────────────────────@───X──────────Rx(-0.5π)───H──────────X───@───────────────────────@───────────X───────────H───────────Rx(0.5π)───X───@───────────────────────@───────────X───────────Rx(-0.5π)───H───X───@───────────────────────@───────────X──────────H───Rx(0.5π)───X───@──────────────────────@───────────X───Rx(-0.5π)───\n",
       "                         │               │                           │              │                          │                       │                   │                      │                              │                       │                                         │                      │                                          │                      │                                  │                      │                                         │                       │                                                  │                       │                                           │                       │                                         │                      │\n",
       "2: ───H──────────────────X───Rz(-0.0π)───X───H───Rx(0.5π)────────────X───Rz(0.0π)───X───Rx(-0.5π)──────────────X───@───────────────@───X───────────────────X───@──────────────@───X───────────Rx(0.5π)───────────X───@───────────────@───X───Rx(-0.5π)───Rx(0.5π)──────────────────X───@──────────────@───X───Rx(-0.5π)───H──────────────────────────X───@──────────────@───X───H───H──────────────────────────X───@──────────────@───X───H──────────Rx(0.5π)───────────────────X───@───────────────@───X───────────Rx(-0.5π)───Rx(0.5π)───────────────────X───@───────────────@───X───────────Rx(-0.5π)───H───────────────────X───@───────────────@───X───────────H──────────H──────────────────X───@──────────────@───X───────────H───────────────\n",
       "                                                                                                                   │               │                           │              │                                      │               │                                                 │              │                                                  │              │                                          │              │                                                 │               │                                                          │               │                                                   │               │                                                 │              │\n",
       "3: ───H────────────────────────────────────────────────────────────────────────────────────────────────────────────X───Rz(-0.0π)───X───H───Rx(0.5π)────────────X───Rz(0.0π)───X───Rx(-0.5π)───H──────────────────────X───Rz(-0.0π)───X───H───H─────────────────────────────────────────X───Rz(0.0π)───X───H───H──────────────────────────────────────────X───Rz(0.0π)───X───H───H──────────────────────────────────X───Rz(0.0π)───X───H───Rx(0.5π)──────────────────────────────────X───Rz(-0.0π)───X───Rx(-0.5π)───Rx(0.5π)───────────────────────────────────X───Rz(-0.0π)───X───Rx(-0.5π)───Rx(0.5π)────────────────────────────X───Rz(-0.0π)───X───Rx(-0.5π)───Rx(0.5π)──────────────────────────X───Rz(0.0π)───X───Rx(-0.5π)───────────────────"
      ]
     },
     "execution_count": 9,
     "metadata": {},
     "output_type": "execute_result"
    }
   ],
   "source": [
    "Hamiltonian_graph_obj = Openfermion_Hamiltonian_Graph(QubitHamiltonian)\n",
    "commutativity_flag = 'AC' ## <- defines relationship between sets!!!\n",
    "plot_graph = False\n",
    "Graph_colouring_strategy='largest_first'\n",
    "anti_commuting_sets = Hamiltonian_graph_obj.Get_Clique_Cover_as_QubitOp(commutativity_flag, Graph_colouring_strategy=Graph_colouring_strategy, plot_graph=plot_graph)\n",
    "\n",
    "\n",
    "# ANSATZ CIRCUIT\n",
    "from quchem.Ansatz_Generator_Functions import *\n",
    "ansatz_obj = Ansatz(Hamilt.molecule.n_electrons, Hamilt.molecule.n_qubits)\n",
    "Sec_Quant_CC_ia_ops, Sec_Quant_CC_ijab_ops, theta_parameters_ia, theta_parameters_ijab = ansatz_obj.Get_ia_and_ijab_terms()\n",
    "Qubit_Op_list_Second_Quant_CC_Ops_ia, Qubit_Op_list_Second_Quant_CC_Ops_ijab = ansatz_obj.UCCSD_single_trotter_step(Sec_Quant_CC_ia_ops, Sec_Quant_CC_ijab_ops,transformation='JW')\n",
    "full_ansatz_Q_Circ = Ansatz_Circuit(Qubit_Op_list_Second_Quant_CC_Ops_ia, Qubit_Op_list_Second_Quant_CC_Ops_ijab,\n",
    "             Hamilt.molecule.n_qubits, Hamilt.molecule.n_electrons)\n",
    "ansatz_cirq_circuit = full_ansatz_Q_Circ.Get_Full_HF_UCCSD_QC(theta_parameters_ia, theta_parameters_ijab)\n",
    "ansatz_cirq_circuit"
   ]
  },
  {
   "cell_type": "code",
   "execution_count": 18,
   "metadata": {},
   "outputs": [
    {
     "name": "stdout",
     "output_type": "stream",
     "text": [
      "0: Input_to_Funct: [-5.00e-04  1.05e+00  2.10e+00]: Output: -0.20937914335495916\n",
      "1: Input_to_Funct: [-5.0e-04  1.1e+00  2.2e+00]: Output: -0.25987541566116334\n",
      "2: Input_to_Funct: [-1.00e-03  1.05e+00  2.40e+00]: Output: -0.3172589287637757\n",
      "3: Input_to_Funct: [-1.00e-03  1.05e+00  2.40e+00]: Output: -0.3172589287637757\n",
      "4: Input_to_Funct: [-1.83333333e-03  1.18333333e+00  2.76666667e+00]: Output: -0.41231285230328696\n",
      "5: Input_to_Funct: [-0.00316667  1.16666667  3.13333333]: Output: -0.46855966940759924\n",
      "6: Input_to_Funct: [-2.66666667e-03  1.13333333e+00  3.16666667e+00]: Output: -0.48936063370372807\n",
      "7: Input_to_Funct: [-2.66666667e-03  1.13333333e+00  3.16666667e+00]: Output: -0.48936063370372807\n",
      "8: Input_to_Funct: [-2.66666667e-03  1.13333333e+00  3.16666667e+00]: Output: -0.48936063370372807\n",
      "9: Input_to_Funct: [-2.83333333e-03  1.03333333e+00  3.06666667e+00]: Output: -0.5424216130654859\n",
      "10: Input_to_Funct: [-2.83333333e-03  1.03333333e+00  3.06666667e+00]: Output: -0.5424216130654859\n",
      "11: Input_to_Funct: [-2.83333333e-03  1.03333333e+00  3.06666667e+00]: Output: -0.5424216130654859\n",
      "12: Input_to_Funct: [-2.82716049e-03  1.04320988e+00  3.27530864e+00]: Output: -0.5493954894564707\n",
      "13: Input_to_Funct: [-2.23456790e-03  7.91358025e-01  2.90493827e+00]: Output: -0.6464568191541438\n",
      "14: Input_to_Funct: [-2.23456790e-03  7.91358025e-01  2.90493827e+00]: Output: -0.6464568191541438\n",
      "15: Input_to_Funct: [-2.75102881e-03  6.98353909e-01  3.31522634e+00]: Output: -0.8083471680120689\n",
      "16: Input_to_Funct: [-2.68724280e-03  3.33744856e-01  2.93786008e+00]: Output: -0.9137050938402781\n",
      "17: Input_to_Funct: [-2.68724280e-03  3.33744856e-01  2.93786008e+00]: Output: -0.9137050938402781\n",
      "18: Input_to_Funct: [-2.56378601e-03  8.68312757e-02  3.15514403e+00]: Output: -1.115721320824472\n",
      "19: Input_to_Funct: [-2.56378601e-03  8.68312757e-02  3.15514403e+00]: Output: -1.115721320824472\n",
      "20: Input_to_Funct: [-2.56378601e-03  8.68312757e-02  3.15514403e+00]: Output: -1.115721320824472\n",
      "21: Input_to_Funct: [-2.56378601e-03  8.68312757e-02  3.15514403e+00]: Output: -1.115721320824472\n",
      "22: Input_to_Funct: [-2.56378601e-03  8.68312757e-02  3.15514403e+00]: Output: -1.115721320824472\n",
      "23: Input_to_Funct: [-0.00330009 -0.00739555  3.16775729]: Output: -1.1250900865142288\n",
      "24: Input_to_Funct: [-0.00330009 -0.00739555  3.16775729]: Output: -1.1250900865142288\n",
      "25: Input_to_Funct: [-0.00330009 -0.00739555  3.16775729]: Output: -1.1250900865142288\n",
      "26: Input_to_Funct: [-0.00343612 -0.07246524  3.27116082]: Output: -1.1326147372037698\n",
      "27: Input_to_Funct: [-3.23928867e-03 -7.80980391e-03  3.27908034e+00]: Output: -1.1362316578428588\n",
      "28: Input_to_Funct: [-3.23928867e-03 -7.80980391e-03  3.27908034e+00]: Output: -1.1362316578428588\n",
      "29: Input_to_Funct: [-3.23928867e-03 -7.80980391e-03  3.27908034e+00]: Output: -1.1362316578428588\n",
      "30: Input_to_Funct: [-3.23928867e-03 -7.80980391e-03  3.27908034e+00]: Output: -1.1362316578428588\n",
      "31: Input_to_Funct: [-3.23928867e-03 -7.80980391e-03  3.27908034e+00]: Output: -1.1362316578428588\n",
      "32: Input_to_Funct: [-0.00341028 -0.01125071  3.2511588 ]: Output: -1.1371439005751585\n",
      "33: Input_to_Funct: [-0.00341028 -0.01125071  3.2511588 ]: Output: -1.1371439005751585\n",
      "34: Input_to_Funct: [-3.09520345e-03 -3.25172972e-03  3.25349626e+00]: Output: -1.1372630298534843\n",
      "35: Input_to_Funct: [-3.09520345e-03 -3.25172972e-03  3.25349626e+00]: Output: -1.1372630298534843\n",
      "36: Input_to_Funct: [-3.09520345e-03 -3.25172972e-03  3.25349626e+00]: Output: -1.1372630298534843\n",
      "37: Input_to_Funct: [-3.09520345e-03 -3.25172972e-03  3.25349626e+00]: Output: -1.1372630298534843\n",
      "38: Input_to_Funct: [-3.09520345e-03 -3.25172972e-03  3.25349626e+00]: Output: -1.1372630298534843\n",
      "39: Input_to_Funct: [-3.09520345e-03 -3.25172972e-03  3.25349626e+00]: Output: -1.1372630298534843\n",
      "40: Input_to_Funct: [-3.09520345e-03 -3.25172972e-03  3.25349626e+00]: Output: -1.1372630298534843\n",
      "41: Input_to_Funct: [-3.09520345e-03 -3.25172972e-03  3.25349626e+00]: Output: -1.1372630298534843\n",
      "42: Input_to_Funct: [-3.12976363e-03  1.58015368e-03  3.25659708e+00]: Output: -1.137267910847492\n",
      "43: Input_to_Funct: [-3.17993413e-03 -1.36094422e-03  3.25594813e+00]: Output: -1.1372688560975321\n",
      "44: Input_to_Funct: [-3.21587912e-03  2.30244893e-03  3.25492063e+00]: Output: -1.1372737009362361\n",
      "45: Input_to_Funct: [-3.21587912e-03  2.30244893e-03  3.25492063e+00]: Output: -1.1372737009362361\n",
      "46: Input_to_Funct: [-3.21587912e-03  2.30244893e-03  3.25492063e+00]: Output: -1.1372737009362361\n",
      "47: Input_to_Funct: [-3.21587912e-03  2.30244893e-03  3.25492063e+00]: Output: -1.1372737009362361\n",
      "48: Input_to_Funct: [-3.16522313e-03  1.88722409e-03  3.25438324e+00]: Output: -1.137275301713622\n",
      "Warning: Maximum number of iterations has been exceeded.\n",
      "Maximum number of iterations has been exceeded.\n"
     ]
    },
    {
     "data": {
      "image/png": "[encoded data removed]",
      "text/plain": [
       "<Figure size 432x288 with 1 Axes>"
      ]
     },
     "metadata": {
      "needs_background": "light"
     },
     "output_type": "display_data"
    }
   ],
   "source": [
    "def GIVE_ENERGY(theta_ia_theta_jab_list):\n",
    "    theta_ia = theta_ia_theta_jab_list[:len(theta_parameters_ia)]\n",
    "    theta_ijab = theta_ia_theta_jab_list[len(theta_parameters_ia):]\n",
    "    \n",
    "    ansatz_cirq_circuit = full_ansatz_Q_Circ.Get_Full_HF_UCCSD_QC(theta_ia, theta_ijab)\n",
    "\n",
    "    VQE_exp_UP = VQE_Experiment_UP_lin_alg(anti_commuting_sets, ansatz_cirq_circuit,\n",
    "                                   Hamilt.molecule.n_qubits, S_key_dict=None)\n",
    "    return VQE_exp_UP.Calc_Energy()\n",
    "\n",
    "### optimizer\n",
    "from quchem.Scipy_Optimizer import *\n",
    "# THETA_params = [*theta_parameters_ia, *theta_parameters_ijab]\n",
    "THETA_params=[0,1,2]\n",
    "\n",
    "GG = Optimizer(GIVE_ENERGY,\n",
    "                   THETA_params,\n",
    "                   args=(),\n",
    "                   method='Nelder-Mead',\n",
    "                   jac=None,\n",
    "                   hess=None,\n",
    "                   hessp=None,\n",
    "                      bounds=None,\n",
    "                   constraints=None,\n",
    "                   display_convergence_message=True,\n",
    "                   display_steps=True)\n",
    "\n",
    "GG.get_env(50)\n",
    "GG.plot_convergence()\n",
    "plt.show()"
   ]
  },
  {
   "cell_type": "code",
   "execution_count": null,
   "metadata": {},
   "outputs": [],
   "source": []
  },
  {
   "cell_type": "markdown",
   "metadata": {},
   "source": [
    "# Checking with circuit method"
   ]
  },
  {
   "cell_type": "code",
   "execution_count": null,
   "metadata": {},
   "outputs": [],
   "source": []
  }
 ],
 "metadata": {
  "kernelspec": {
   "display_name": "Python 3",
   "language": "python",
   "name": "python3"
  },
  "language_info": {
   "codemirror_mode": {
    "name": "ipython",
    "version": 3
   },
   "file_extension": ".py",
   "mimetype": "text/x-python",
   "name": "python",
   "nbconvert_exporter": "python",
   "pygments_lexer": "ipython3",
   "version": "3.7.6"
  }
 },
 "nbformat": 4,
 "nbformat_minor": 4
}
