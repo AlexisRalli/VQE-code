{
 "cells": [
  {
   "cell_type": "markdown",
   "metadata": {},
   "source": [
    "Follows pg 14 of: https://arxiv.org/pdf/quant-ph/0406176v5.pdf\n",
    "\n",
    "This is what Qiskit uses\n",
    "\n",
    "https://quantumcomputing.stackexchange.com/questions/6755/controlled-initialize-instruction"
   ]
  },
  {
   "cell_type": "code",
   "execution_count": null,
   "metadata": {},
   "outputs": [],
   "source": []
  },
  {
   "cell_type": "code",
   "execution_count": 1,
   "metadata": {},
   "outputs": [],
   "source": [
    "from quchem.Qcircuit.misc_quantum_circuit_functions import Get_state_as_str\n",
    "import numpy as np\n",
    "import cirq"
   ]
  },
  {
   "cell_type": "code",
   "execution_count": 2,
   "metadata": {},
   "outputs": [
    {
     "name": "stdout",
     "output_type": "stream",
     "text": [
      "N_qubits = 3\n",
      "000 0.9486832980505138\n",
      "001 0.22360679774997896\n",
      "010 0\n",
      "011 0\n",
      "100 0\n",
      "101 0\n",
      "110 0\n",
      "111 0.22360679774997896\n"
     ]
    }
   ],
   "source": [
    "state_vec = [np.sqrt(0.9),np.sqrt(0.05), 0 , 0, 0 , 0, 0 , np.sqrt(0.05)]\n",
    "\n",
    "n_qubits = int(np.log2(len(state_vec)))\n",
    "print('N_qubits =', n_qubits)\n",
    "for i, amp in enumerate(state_vec):\n",
    "    print(Get_state_as_str(n_qubits, i), amp)\n",
    "    "
   ]
  },
  {
   "cell_type": "code",
   "execution_count": null,
   "metadata": {},
   "outputs": [],
   "source": []
  },
  {
   "cell_type": "code",
   "execution_count": 3,
   "metadata": {},
   "outputs": [
    {
     "name": "stdout",
     "output_type": "stream",
     "text": [
      "measurements: (no measurements)\n",
      "output vector: 0.949|000⟩ + 0.224|001⟩ + 0.224|111⟩\n"
     ]
    },
    {
     "data": {
      "text/plain": [
       "array([ 9.4868314e-01+0.j,  2.2360674e-01+0.j,  2.9802321e-08+0.j,\n",
       "        0.0000000e+00+0.j,  0.0000000e+00+0.j,  0.0000000e+00+0.j,\n",
       "       -8.8817842e-16+0.j,  2.2360675e-01+0.j], dtype=complex64)"
      ]
     },
     "execution_count": 3,
     "metadata": {},
     "output_type": "execute_result"
    }
   ],
   "source": [
    "from quchem.Qcircuit.Circuit_functions_to_create_arb_state import intialization_circuit\n",
    "start_qubit_ind = 0\n",
    "end_qubit_ind = n_qubits-1 #index from 0\n",
    "\n",
    "circuit = intialization_circuit(state_vec, start_qubit_ind, end_qubit_ind, check_circuit=True)\n",
    "\n",
    "s=cirq.Simulator()\n",
    "results=s.simulate(circuit)\n",
    "# results=s.simulate(circuit, qubit_order=list(cirq.LineQubit.range(end_qubit_ind,start_qubit_ind-1,-1)))\n",
    "print(results)\n",
    "\n",
    "results.state_vector()"
   ]
  },
  {
   "cell_type": "code",
   "execution_count": 4,
   "metadata": {},
   "outputs": [
    {
     "data": {
      "text/plain": [
       "array([ 0.949+0.j,  0.224+0.j,  0.   +0.j,  0.   +0.j,  0.   +0.j,\n",
       "        0.   +0.j, -0.   +0.j,  0.224+0.j], dtype=complex64)"
      ]
     },
     "execution_count": 4,
     "metadata": {},
     "output_type": "execute_result"
    }
   ],
   "source": [
    "np.around(results.state_vector(), 3)"
   ]
  },
  {
   "cell_type": "code",
   "execution_count": 5,
   "metadata": {},
   "outputs": [
    {
     "data": {
      "text/plain": [
       "array([0.949+0.j, 0.224+0.j, 0.   +0.j, 0.   +0.j, 0.   +0.j, 0.   +0.j,\n",
       "       0.   +0.j, 0.224+0.j], dtype=complex64)"
      ]
     },
     "execution_count": 5,
     "metadata": {},
     "output_type": "execute_result"
    }
   ],
   "source": [
    "np.around(np.array(state_vec, dtype='complex64'),3)"
   ]
  },
  {
   "cell_type": "code",
   "execution_count": 6,
   "metadata": {},
   "outputs": [
    {
     "data": {
      "text/plain": [
       "True"
      ]
     },
     "execution_count": 6,
     "metadata": {},
     "output_type": "execute_result"
    }
   ],
   "source": [
    "np.allclose(np.around(np.array(state_vec, dtype='complex64'), 7),np.around(results.state_vector(), 7))"
   ]
  },
  {
   "cell_type": "code",
   "execution_count": 7,
   "metadata": {},
   "outputs": [
    {
     "data": {
      "text/html": [
       "<pre style=\"overflow: auto; white-space: pre;\">0: ─────────────────────────────────Ry(0.25π)───X───Ry(-0.25π)───X───Ry(0.25π)───X───Ry(-0.25π)───X───\n",
       "                                                │                │               │                │\n",
       "1: ───Ry(0.25π)────X───Ry(-0.25π)───X───────────@────────────────┼───────────────@────────────────┼───\n",
       "                   │                │                            │                                │\n",
       "2: ───Ry(0.205π)───@────────────────@────────────────────────────@────────────────────────────────@───</pre>"
      ],
      "text/plain": [
       "0: ─────────────────────────────────Ry(0.25π)───X───Ry(-0.25π)───X───Ry(0.25π)───X───Ry(-0.25π)───X───\n",
       "                                                │                │               │                │\n",
       "1: ───Ry(0.25π)────X───Ry(-0.25π)───X───────────@────────────────┼───────────────@────────────────┼───\n",
       "                   │                │                            │                                │\n",
       "2: ───Ry(0.205π)───@────────────────@────────────────────────────@────────────────────────────────@───"
      ]
     },
     "execution_count": 7,
     "metadata": {},
     "output_type": "execute_result"
    }
   ],
   "source": [
    "circuit"
   ]
  },
  {
   "cell_type": "code",
   "execution_count": null,
   "metadata": {},
   "outputs": [],
   "source": []
  },
  {
   "cell_type": "code",
   "execution_count": null,
   "metadata": {},
   "outputs": [],
   "source": []
  },
  {
   "cell_type": "code",
   "execution_count": null,
   "metadata": {},
   "outputs": [],
   "source": []
  },
  {
   "cell_type": "code",
   "execution_count": null,
   "metadata": {},
   "outputs": [],
   "source": []
  },
  {
   "cell_type": "code",
   "execution_count": 8,
   "metadata": {},
   "outputs": [
    {
     "name": "stdout",
     "output_type": "stream",
     "text": [
      "N_qubits = 2\n",
      "00 0.6324555320336759\n",
      "01 0.5477225575051661\n",
      "10 0.4472135954999579\n",
      "11 0.31622776601683794\n"
     ]
    },
    {
     "data": {
      "text/html": [
       "<pre style=\"overflow: auto; white-space: pre;\">0: ───Ry(0.363π)───X───Ry(0.029π)───X───\n",
       "                   │                │\n",
       "1: ───Ry(0.436π)───@────────────────@───</pre>"
      ],
      "text/plain": [
       "0: ───Ry(0.363π)───X───Ry(0.029π)───X───\n",
       "                   │                │\n",
       "1: ───Ry(0.436π)───@────────────────@───"
      ]
     },
     "execution_count": 8,
     "metadata": {},
     "output_type": "execute_result"
    }
   ],
   "source": [
    "state_vec = [np.sqrt(0.4), np.sqrt(0.3), np.sqrt(0.2), np.sqrt(0.1)]\n",
    "\n",
    "n_qubits = int(np.log2(len(state_vec)))\n",
    "print('N_qubits =', n_qubits)\n",
    "for i, amp in enumerate(state_vec):\n",
    "    print(Get_state_as_str(n_qubits, i), amp)\n",
    "\n",
    "    \n",
    "    \n",
    "start_qubit_ind = 0\n",
    "end_qubit_ind = n_qubits-1 #index from 0\n",
    "\n",
    "circuit = intialization_circuit(state_vec, start_qubit_ind, end_qubit_ind, check_circuit=True)\n",
    "circuit"
   ]
  },
  {
   "cell_type": "code",
   "execution_count": 9,
   "metadata": {},
   "outputs": [
    {
     "name": "stdout",
     "output_type": "stream",
     "text": [
      "measurements: (no measurements)\n",
      "output vector: 0.632|00⟩ + 0.548|01⟩ + 0.447|10⟩ + 0.316|11⟩\n"
     ]
    }
   ],
   "source": [
    "s=cirq.Simulator()\n",
    "results=s.simulate(circuit)\n",
    "print(results)"
   ]
  }
 ],
 "metadata": {
  "kernelspec": {
   "display_name": "Python 3",
   "language": "python",
   "name": "python3"
  },
  "language_info": {
   "codemirror_mode": {
    "name": "ipython",
    "version": 3
   },
   "file_extension": ".py",
   "mimetype": "text/x-python",
   "name": "python",
   "nbconvert_exporter": "python",
   "pygments_lexer": "ipython3",
   "version": "3.8.5"
  }
 },
 "nbformat": 4,
 "nbformat_minor": 4
}
