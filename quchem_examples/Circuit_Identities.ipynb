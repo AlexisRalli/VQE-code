{
 "cells": [
  {
   "cell_type": "code",
   "execution_count": 1,
   "metadata": {},
   "outputs": [],
   "source": [
    "import cirq\n",
    "import numpy as np"
   ]
  },
  {
   "cell_type": "code",
   "execution_count": 2,
   "metadata": {},
   "outputs": [
    {
     "name": "stdout",
     "output_type": "stream",
     "text": [
      "0: ───@───H───S───@───\n",
      "      │           │\n",
      "1: ───X───────────X───\n",
      "\n",
      "\n",
      "0: ───S───X───S^-1───H───S───\n",
      "          │\n",
      "1: ───H───@───S──────H───────\n"
     ]
    },
    {
     "data": {
      "text/plain": [
       "True"
      ]
     },
     "execution_count": 2,
     "metadata": {},
     "output_type": "execute_result"
    }
   ],
   "source": [
    "qbits = list(cirq.LineQubit.range(3))\n",
    "\n",
    "test1 = cirq.Circuit(\n",
    "cirq.CNOT(qbits[0], qbits[1]),\n",
    "cirq.H(qbits[0]),\n",
    "cirq.S(qbits[0]),\n",
    "cirq.CNOT(qbits[0], qbits[1])\n",
    "    \n",
    ")\n",
    "print(test1)\n",
    "print()\n",
    "print()\n",
    "\n",
    "test2 = cirq.Circuit(\n",
    "cirq.S(qbits[0]),\n",
    "cirq.H(qbits[1]),\n",
    "cirq.CNOT(qbits[1], qbits[0]),\n",
    "cirq.S(qbits[0])**-1,\n",
    "cirq.S(qbits[1]),\n",
    "cirq.H(qbits[0]),\n",
    "cirq.H(qbits[1]),\n",
    "cirq.S(qbits[0]),\n",
    ")\n",
    "test2\n",
    "\n",
    "print(test2)\n",
    "\n",
    "np.allclose(test2.unitary(), test1.unitary())"
   ]
  },
  {
   "cell_type": "code",
   "execution_count": null,
   "metadata": {},
   "outputs": [],
   "source": []
  },
  {
   "cell_type": "code",
   "execution_count": null,
   "metadata": {},
   "outputs": [],
   "source": []
  },
  {
   "cell_type": "code",
   "execution_count": 3,
   "metadata": {},
   "outputs": [
    {
     "name": "stdout",
     "output_type": "stream",
     "text": [
      "0: ───@───H───@───\n",
      "      │       │\n",
      "1: ───X───────X───\n",
      "\n",
      "\n",
      "0: ───S───X───S^-1───H───\n",
      "          │\n",
      "1: ───H───@───S──────H───\n"
     ]
    },
    {
     "data": {
      "text/plain": [
       "True"
      ]
     },
     "execution_count": 3,
     "metadata": {},
     "output_type": "execute_result"
    }
   ],
   "source": [
    "qbits = list(cirq.LineQubit.range(3))\n",
    "\n",
    "test3 = cirq.Circuit(\n",
    "cirq.CNOT(qbits[0], qbits[1]),\n",
    "cirq.H(qbits[0]),\n",
    "cirq.CNOT(qbits[0], qbits[1])\n",
    "    \n",
    ")\n",
    "print(test3)\n",
    "print()\n",
    "print()\n",
    "\n",
    "test4 = cirq.Circuit(\n",
    "cirq.S(qbits[0]),\n",
    "cirq.H(qbits[1]),\n",
    "cirq.CNOT(qbits[1], qbits[0]),\n",
    "cirq.S(qbits[0])**-1,\n",
    "cirq.S(qbits[1]),\n",
    "cirq.H(qbits[0]),\n",
    "cirq.H(qbits[1]),\n",
    ")\n",
    "print(test4)\n",
    "\n",
    "np.allclose(test3.unitary(), test4.unitary())"
   ]
  },
  {
   "cell_type": "code",
   "execution_count": null,
   "metadata": {},
   "outputs": [],
   "source": []
  },
  {
   "cell_type": "code",
   "execution_count": null,
   "metadata": {},
   "outputs": [],
   "source": []
  },
  {
   "cell_type": "code",
   "execution_count": 4,
   "metadata": {},
   "outputs": [
    {
     "name": "stdout",
     "output_type": "stream",
     "text": [
      "0: ───────@───────\n",
      "          │\n",
      "1: ───@───X───@───\n",
      "      │       │\n",
      "2: ───X───────X───\n",
      "\n",
      "\n",
      "0: ───@───@───\n",
      "      │   │\n",
      "1: ───X───┼───\n",
      "          │\n",
      "2: ───────X───\n"
     ]
    },
    {
     "data": {
      "text/plain": [
       "True"
      ]
     },
     "execution_count": 4,
     "metadata": {},
     "output_type": "execute_result"
    }
   ],
   "source": [
    "qbits = list(cirq.LineQubit.range(3))\n",
    "\n",
    "test5 = cirq.Circuit(\n",
    "cirq.CNOT(qbits[1], qbits[2]),\n",
    "cirq.CNOT(qbits[0], qbits[1]),\n",
    "cirq.CNOT(qbits[1], qbits[2])\n",
    "    \n",
    ")\n",
    "print(test5)\n",
    "print()\n",
    "print()\n",
    "\n",
    "test6 = cirq.Circuit(\n",
    "cirq.CNOT(qbits[0], qbits[1]),\n",
    "cirq.CNOT(qbits[0], qbits[2]),\n",
    ")\n",
    "print(test6)\n",
    "\n",
    "np.allclose(test5.unitary(), test6.unitary())"
   ]
  },
  {
   "cell_type": "code",
   "execution_count": null,
   "metadata": {},
   "outputs": [],
   "source": []
  },
  {
   "cell_type": "code",
   "execution_count": null,
   "metadata": {},
   "outputs": [],
   "source": []
  },
  {
   "cell_type": "code",
   "execution_count": 5,
   "metadata": {},
   "outputs": [
    {
     "name": "stdout",
     "output_type": "stream",
     "text": [
      "0: ───@───────@───\n",
      "      │       │\n",
      "1: ───X───H───X───\n",
      "\n",
      "\n",
      "0: ───────@───@───\n",
      "          │   │\n",
      "1: ───H───@───X───\n"
     ]
    },
    {
     "data": {
      "text/plain": [
       "True"
      ]
     },
     "execution_count": 5,
     "metadata": {},
     "output_type": "execute_result"
    }
   ],
   "source": [
    "qbits = list(cirq.LineQubit.range(3))\n",
    "\n",
    "test7 = cirq.Circuit(\n",
    "cirq.CNOT(qbits[0], qbits[1]),\n",
    "cirq.H(qbits[1]),\n",
    "cirq.CNOT(qbits[0], qbits[1])\n",
    "    \n",
    ")\n",
    "print(test7)\n",
    "print()\n",
    "print()\n",
    "\n",
    "test8 = cirq.Circuit(\n",
    "cirq.H(qbits[1]),\n",
    "cirq.CZ(qbits[0], qbits[1]),\n",
    "cirq.CNOT(qbits[0], qbits[1])\n",
    "    \n",
    ")\n",
    "print(test8)\n",
    "\n",
    "np.allclose(test7.unitary(), test8.unitary())"
   ]
  },
  {
   "cell_type": "code",
   "execution_count": null,
   "metadata": {},
   "outputs": [],
   "source": []
  },
  {
   "cell_type": "code",
   "execution_count": 6,
   "metadata": {},
   "outputs": [
    {
     "name": "stdout",
     "output_type": "stream",
     "text": [
      "0: ───H───S───H───\n",
      "\n",
      "\n",
      "0: ───X^0.5───\n"
     ]
    },
    {
     "data": {
      "text/plain": [
       "True"
      ]
     },
     "execution_count": 6,
     "metadata": {},
     "output_type": "execute_result"
    }
   ],
   "source": [
    "test9 = cirq.Circuit(\n",
    "cirq.H(qbits[0]),\n",
    "cirq.S(qbits[0]),\n",
    "cirq.H(qbits[0]),  \n",
    ")\n",
    "\n",
    "print(test9)\n",
    "print()\n",
    "print()\n",
    "\n",
    "test10 = cirq.Circuit(\n",
    "cirq.XPowGate(exponent=0.5).on(qbits[0]),\n",
    ")\n",
    "\n",
    "print(test10)\n",
    "np.allclose(test9.unitary(), test10.unitary())"
   ]
  },
  {
   "cell_type": "code",
   "execution_count": 7,
   "metadata": {},
   "outputs": [
    {
     "data": {
      "text/plain": [
       "array([[0.5+0.5j, 0.5-0.5j],\n",
       "       [0.5-0.5j, 0.5+0.5j]])"
      ]
     },
     "execution_count": 7,
     "metadata": {},
     "output_type": "execute_result"
    }
   ],
   "source": [
    "test10.unitary()"
   ]
  },
  {
   "cell_type": "code",
   "execution_count": 8,
   "metadata": {},
   "outputs": [
    {
     "data": {
      "text/html": [
       "<pre style=\"overflow: auto; white-space: pre;\">0: ───X^0.5───</pre>"
      ],
      "text/plain": [
       "0: ───X^0.5───"
      ]
     },
     "execution_count": 8,
     "metadata": {},
     "output_type": "execute_result"
    }
   ],
   "source": [
    "cirq.ConvertToCzAndSingleGates().optimize_circuit(circuit=test10)\n",
    "test10"
   ]
  },
  {
   "cell_type": "code",
   "execution_count": null,
   "metadata": {},
   "outputs": [],
   "source": []
  },
  {
   "cell_type": "code",
   "execution_count": null,
   "metadata": {},
   "outputs": [],
   "source": []
  },
  {
   "cell_type": "code",
   "execution_count": 9,
   "metadata": {},
   "outputs": [],
   "source": [
    "# https://quantumai.google/reference/python/cirq/testing/assert_allclose_up_to_global_phase\n",
    "\n",
    "desired_matrix = cirq.XPowGate(exponent=0.5)._unitary_()\n",
    "actual_matrix = cirq.rx(np.pi/2)._unitary_()\n",
    "# actual_matrix = np.eye(2)\n",
    "\n",
    "cirq.testing.assert_allclose_up_to_global_phase(\n",
    "    actual_matrix,\n",
    "    desired_matrix,\n",
    "    atol=1e-8,\n",
    "    verbose=False)\n",
    "\n",
    "## YES rx(pi/2) is the same as X^0.5 up to a global phase"
   ]
  },
  {
   "cell_type": "code",
   "execution_count": 10,
   "metadata": {},
   "outputs": [],
   "source": [
    "from scipy.linalg import eig, svd\n",
    "\n",
    "# val, vec = eig(cirq.X._unitary_())\n",
    "val, vec = eig(cirq.Y._unitary_())\n",
    "\n",
    "U,D,Udag = svd(vec)"
   ]
  },
  {
   "cell_type": "code",
   "execution_count": 11,
   "metadata": {},
   "outputs": [
    {
     "data": {
      "text/plain": [
       "array([[-0.        -0.70710678j,  0.70710678+0.j        ],\n",
       "       [ 0.70710678+0.j        ,  0.        -0.70710678j]])"
      ]
     },
     "execution_count": 11,
     "metadata": {},
     "output_type": "execute_result"
    }
   ],
   "source": [
    "vec"
   ]
  },
  {
   "cell_type": "code",
   "execution_count": 12,
   "metadata": {},
   "outputs": [
    {
     "data": {
      "text/plain": [
       "array([[ 1.+0.j, -0.+0.j],\n",
       "       [-0.-0.j,  1.+0.j]])"
      ]
     },
     "execution_count": 12,
     "metadata": {},
     "output_type": "execute_result"
    }
   ],
   "source": [
    "np.around(U @ np.diag(D) @ U.conj().T, 3)"
   ]
  },
  {
   "cell_type": "code",
   "execution_count": 13,
   "metadata": {},
   "outputs": [
    {
     "data": {
      "text/plain": [
       "array([ 1.+0.j, -1.+0.j])"
      ]
     },
     "execution_count": 13,
     "metadata": {},
     "output_type": "execute_result"
    }
   ],
   "source": [
    "val"
   ]
  },
  {
   "cell_type": "code",
   "execution_count": 14,
   "metadata": {},
   "outputs": [
    {
     "data": {
      "text/plain": [
       "array([[ 0.70710678+0.j        ,  0.70710678+0.j        ],\n",
       "       [ 0.        +0.70710678j, -0.        -0.70710678j]])"
      ]
     },
     "execution_count": 14,
     "metadata": {},
     "output_type": "execute_result"
    }
   ],
   "source": [
    "HS = cirq.Circuit(\n",
    "cirq.H.on(qbits[0]),\n",
    "cirq.S.on(qbits[0]),\n",
    ").unitary()\n",
    "HS"
   ]
  },
  {
   "cell_type": "code",
   "execution_count": 15,
   "metadata": {},
   "outputs": [
    {
     "data": {
      "text/plain": [
       "array([[ 0.+0.j,  0.-1.j],\n",
       "       [ 0.+1.j, -0.+0.j]])"
      ]
     },
     "execution_count": 15,
     "metadata": {},
     "output_type": "execute_result"
    }
   ],
   "source": [
    "out = cirq.rx(-np.pi/2)._unitary_() @ cirq.Z._unitary_() @ cirq.rx(np.pi/2)._unitary_()\n",
    "np.around(out,3)"
   ]
  },
  {
   "cell_type": "code",
   "execution_count": 16,
   "metadata": {},
   "outputs": [
    {
     "data": {
      "text/plain": [
       "array([[0.+0.j, 0.-1.j],\n",
       "       [0.+1.j, 0.+0.j]])"
      ]
     },
     "execution_count": 16,
     "metadata": {},
     "output_type": "execute_result"
    }
   ],
   "source": [
    "cirq.Y._unitary_()"
   ]
  },
  {
   "cell_type": "code",
   "execution_count": 17,
   "metadata": {},
   "outputs": [
    {
     "data": {
      "text/plain": [
       "array([[0.+0.j, 0.-1.j],\n",
       "       [0.+1.j, 0.+0.j]])"
      ]
     },
     "execution_count": 17,
     "metadata": {},
     "output_type": "execute_result"
    }
   ],
   "source": [
    "HS = cirq.Circuit(\n",
    "cirq.H.on(qbits[0]),\n",
    "cirq.S.on(qbits[0]),\n",
    ").unitary()\n",
    "\n",
    "HS_dag = cirq.Circuit(\n",
    "(cirq.S**-1).on(qbits[0]),\n",
    "cirq.H.on(qbits[0]),\n",
    ").unitary()\n",
    "\n",
    "out = HS @ cirq.Z._unitary_() @ HS_dag\n",
    "np.around(out,3)"
   ]
  },
  {
   "cell_type": "code",
   "execution_count": 18,
   "metadata": {},
   "outputs": [
    {
     "data": {
      "text/plain": [
       "array([[0.70710678+0.j        , 0.        -0.70710678j],\n",
       "       [0.        -0.70710678j, 0.70710678+0.j        ]])"
      ]
     },
     "execution_count": 18,
     "metadata": {},
     "output_type": "execute_result"
    }
   ],
   "source": [
    "cirq.Circuit(\n",
    "cirq.rx(np.pi/2).on(qbits[0])\n",
    ").unitary()"
   ]
  },
  {
   "cell_type": "code",
   "execution_count": 19,
   "metadata": {},
   "outputs": [
    {
     "name": "stdout",
     "output_type": "stream",
     "text": [
      "0: ───H───S^-1───H───\n",
      "\n",
      "\n",
      "0: ───X^-0.5───\n"
     ]
    },
    {
     "data": {
      "text/plain": [
       "True"
      ]
     },
     "execution_count": 19,
     "metadata": {},
     "output_type": "execute_result"
    }
   ],
   "source": [
    "test11 = cirq.Circuit(\n",
    "cirq.H(qbits[0]),\n",
    "(cirq.S**-1).on(qbits[0]),\n",
    "cirq.H(qbits[0]),  \n",
    ")\n",
    "\n",
    "print(test11)\n",
    "print()\n",
    "print()\n",
    "\n",
    "test12 = cirq.Circuit(\n",
    "cirq.XPowGate(exponent=-0.5).on(qbits[0]),\n",
    ")\n",
    "\n",
    "print(test12)\n",
    "np.allclose(test11.unitary(), test12.unitary())"
   ]
  },
  {
   "cell_type": "code",
   "execution_count": 20,
   "metadata": {},
   "outputs": [
    {
     "data": {
      "text/plain": [
       "array([[0.70710678+0.j        , 0.        +0.70710678j],\n",
       "       [0.        +0.70710678j, 0.70710678+0.j        ]])"
      ]
     },
     "execution_count": 20,
     "metadata": {},
     "output_type": "execute_result"
    }
   ],
   "source": [
    "(cirq.X**-0.5)._unitary_()\n",
    "(cirq.rx(-np.pi/2))._unitary_()"
   ]
  },
  {
   "cell_type": "code",
   "execution_count": 21,
   "metadata": {},
   "outputs": [],
   "source": [
    "# https://quantumai.google/reference/python/cirq/testing/assert_allclose_up_to_global_phase\n",
    "\n",
    "desired_matrix = cirq.XPowGate(exponent=-0.5)._unitary_()\n",
    "actual_matrix = cirq.rx(-np.pi/2)._unitary_()\n",
    "# actual_matrix = np.eye(2)\n",
    "\n",
    "cirq.testing.assert_allclose_up_to_global_phase(\n",
    "    actual_matrix,\n",
    "    desired_matrix,\n",
    "    atol=1e-8,\n",
    "    verbose=False)\n",
    "\n",
    "## YES rx(-pi/2) is the same as X^-0.5 up to a global phase"
   ]
  },
  {
   "cell_type": "code",
   "execution_count": null,
   "metadata": {},
   "outputs": [],
   "source": []
  },
  {
   "cell_type": "code",
   "execution_count": null,
   "metadata": {},
   "outputs": [],
   "source": []
  },
  {
   "cell_type": "code",
   "execution_count": null,
   "metadata": {},
   "outputs": [],
   "source": []
  },
  {
   "cell_type": "code",
   "execution_count": null,
   "metadata": {},
   "outputs": [],
   "source": []
  },
  {
   "cell_type": "code",
   "execution_count": null,
   "metadata": {},
   "outputs": [],
   "source": []
  },
  {
   "cell_type": "code",
   "execution_count": null,
   "metadata": {},
   "outputs": [],
   "source": []
  },
  {
   "cell_type": "code",
   "execution_count": null,
   "metadata": {},
   "outputs": [],
   "source": []
  },
  {
   "cell_type": "code",
   "execution_count": 22,
   "metadata": {},
   "outputs": [
    {
     "data": {
      "text/plain": [
       "array([[0.70710678+0.j        , 0.        -0.70710678j],\n",
       "       [0.        -0.70710678j, 0.70710678+0.j        ]])"
      ]
     },
     "execution_count": 22,
     "metadata": {},
     "output_type": "execute_result"
    }
   ],
   "source": [
    "cirq.rx(np.pi/2)._unitary_()"
   ]
  },
  {
   "cell_type": "code",
   "execution_count": 23,
   "metadata": {},
   "outputs": [
    {
     "name": "stdout",
     "output_type": "stream",
     "text": [
      "0: ───Rx(0.5π)───Y───X───Rz(-0.5π)───\n"
     ]
    },
    {
     "data": {
      "text/plain": [
       "array([[-0.5+0.5j,  0.5+0.5j],\n",
       "       [-0.5+0.5j, -0.5-0.5j]])"
      ]
     },
     "execution_count": 23,
     "metadata": {},
     "output_type": "execute_result"
    }
   ],
   "source": [
    "test9 = cirq.Circuit(\n",
    "cirq.rx(1*np.pi/2).on(qbits[0]),\n",
    "cirq.Y(qbits[0]),\n",
    "cirq.X(qbits[0]),\n",
    "cirq.rz(7*np.pi/2).on(qbits[0]),  \n",
    ")\n",
    "print(test9)\n",
    "test9.unitary()"
   ]
  },
  {
   "cell_type": "code",
   "execution_count": 24,
   "metadata": {},
   "outputs": [
    {
     "data": {
      "text/html": [
       "<pre style=\"overflow: auto; white-space: pre;\">0: ───X^0.5───</pre>"
      ],
      "text/plain": [
       "0: ───X^0.5───"
      ]
     },
     "execution_count": 24,
     "metadata": {},
     "output_type": "execute_result"
    }
   ],
   "source": [
    "test10 = cirq.Circuit(\n",
    "cirq.XPowGate(exponent=0.5).on(qbits[0]),\n",
    ")\n",
    "\n",
    "cirq.Circuit(cirq.decompose(test10))"
   ]
  },
  {
   "cell_type": "code",
   "execution_count": 25,
   "metadata": {},
   "outputs": [
    {
     "data": {
      "text/plain": [
       "array([[0.5+0.5j, 0.5-0.5j],\n",
       "       [0.5-0.5j, 0.5+0.5j]])"
      ]
     },
     "execution_count": 25,
     "metadata": {},
     "output_type": "execute_result"
    }
   ],
   "source": [
    "cirq.XPowGate(exponent=0.5)._unitary_() "
   ]
  },
  {
   "cell_type": "code",
   "execution_count": 26,
   "metadata": {},
   "outputs": [
    {
     "data": {
      "text/plain": [
       "array([[-0.5+0.5j,  0.5-0.5j],\n",
       "       [ 0.5-0.5j,  0.5-0.5j]])"
      ]
     },
     "execution_count": 26,
     "metadata": {},
     "output_type": "execute_result"
    }
   ],
   "source": [
    "cirq.X._unitary_() @ cirq.YPowGate(exponent=-0.5)._unitary_()  "
   ]
  },
  {
   "cell_type": "code",
   "execution_count": 27,
   "metadata": {},
   "outputs": [
    {
     "data": {
      "text/plain": [
       "array([[0.70710678+0.j        , 0.        -0.70710678j],\n",
       "       [0.        -0.70710678j, 0.70710678+0.j        ]])"
      ]
     },
     "execution_count": 27,
     "metadata": {},
     "output_type": "execute_result"
    }
   ],
   "source": [
    "cirq.rx(np.pi/2)._unitary_()"
   ]
  },
  {
   "cell_type": "code",
   "execution_count": 28,
   "metadata": {},
   "outputs": [
    {
     "data": {
      "text/plain": [
       "array([[ 0.5+0.5j, -0.5-0.5j],\n",
       "       [ 0.5-0.5j,  0.5-0.5j]])"
      ]
     },
     "execution_count": 28,
     "metadata": {},
     "output_type": "execute_result"
    }
   ],
   "source": [
    "cirq.rx(1*np.pi/2)._unitary_() @ cirq.rz(7*np.pi/2)._unitary_()"
   ]
  },
  {
   "cell_type": "code",
   "execution_count": 29,
   "metadata": {},
   "outputs": [
    {
     "data": {
      "text/plain": [
       "array([[ 0.5+0.5j,  0.5-0.5j],\n",
       "       [-0.5-0.5j,  0.5-0.5j]])"
      ]
     },
     "execution_count": 29,
     "metadata": {},
     "output_type": "execute_result"
    }
   ],
   "source": [
    "cirq.ry(3*np.pi/2)._unitary_() @ cirq.rz(3*np.pi/2)._unitary_()"
   ]
  },
  {
   "cell_type": "code",
   "execution_count": 30,
   "metadata": {},
   "outputs": [
    {
     "data": {
      "text/plain": [
       "array([[-0.5-0.5j,  0.5+0.5j],\n",
       "       [-0.5+0.5j, -0.5+0.5j]])"
      ]
     },
     "execution_count": 30,
     "metadata": {},
     "output_type": "execute_result"
    }
   ],
   "source": [
    "cirq.ry(1*np.pi/2)._unitary_() @ cirq.rx(5*np.pi/2)._unitary_()"
   ]
  },
  {
   "cell_type": "code",
   "execution_count": 31,
   "metadata": {},
   "outputs": [
    {
     "data": {
      "text/plain": [
       "array([[0.+0.j, 1.+0.j],\n",
       "       [1.+0.j, 0.+0.j]])"
      ]
     },
     "execution_count": 31,
     "metadata": {},
     "output_type": "execute_result"
    }
   ],
   "source": [
    "cirq.X._unitary_()**0.5"
   ]
  },
  {
   "cell_type": "code",
   "execution_count": null,
   "metadata": {},
   "outputs": [],
   "source": []
  },
  {
   "cell_type": "code",
   "execution_count": null,
   "metadata": {},
   "outputs": [],
   "source": []
  },
  {
   "cell_type": "code",
   "execution_count": 32,
   "metadata": {},
   "outputs": [
    {
     "data": {
      "text/plain": [
       "{cirq.LineQubit(1): 7, cirq.LineQubit(0): 8}"
      ]
     },
     "execution_count": 32,
     "metadata": {},
     "output_type": "execute_result"
    }
   ],
   "source": [
    "qbits = list(cirq.LineQubit.range(5))\n",
    "\n",
    "c1 = cirq.Circuit(\n",
    "    \n",
    "\n",
    "cirq.CNOT(qbits[0], qbits[1]),\n",
    "cirq.CNOT(qbits[1], qbits[2]),\n",
    "cirq.CNOT(qbits[2], qbits[3]),\n",
    "cirq.CNOT(qbits[3], qbits[4]),\n",
    "cirq.rz(np.pi).on(qbits[4]),\n",
    "cirq.CNOT(qbits[3], qbits[4]),\n",
    "cirq.CNOT(qbits[2], qbits[3]),\n",
    "cirq.CNOT(qbits[1], qbits[2]),\n",
    "cirq.CNOT(qbits[0], qbits[1]),\n",
    ")\n",
    "\n",
    "c2 = cirq.Circuit(\n",
    "    \n",
    "cirq.H.on(qbits[3]),\n",
    "    \n",
    "cirq.CNOT(qbits[0], qbits[1]),\n",
    "cirq.CNOT(qbits[1], qbits[2]),\n",
    "cirq.CNOT(qbits[2], qbits[3]),\n",
    "cirq.CNOT(qbits[3], qbits[4]),\n",
    "cirq.rz(np.pi).on(qbits[4]),\n",
    "cirq.CNOT(qbits[3], qbits[4]),\n",
    "cirq.CNOT(qbits[2], qbits[3]),\n",
    "cirq.CNOT(qbits[1], qbits[2]),\n",
    "cirq.CNOT(qbits[0], qbits[1]),\n",
    "\n",
    "cirq.H.on(qbits[3]),\n",
    ")\n",
    "\n",
    "# CC = cirq.Circuit([c1.all_operations(), c2.all_operations()], strategy=cirq.InsertStrategy.NEW)\n",
    "CC = cirq.Circuit([c1.all_operations(), c2.all_operations()], strategy=cirq.InsertStrategy.EARLIEST)\n",
    "\n",
    "blocker =lambda op: op == cirq.CNOT(cirq.LineQubit(0),\n",
    "                                 cirq.LineQubit(1))\n",
    "\n",
    "start = {\n",
    "    cirq.LineQubit(0): 1,\n",
    "     cirq.LineQubit(1): 2,\n",
    "     cirq.LineQubit(2): 3,\n",
    "     cirq.LineQubit(3): 4,\n",
    "     cirq.LineQubit(4): 5\n",
    "}\n",
    "# start = dict(zip(qbits, [0 for _ in range(len(qbits))]))\n",
    "start = {\n",
    "    cirq.LineQubit(0): 1,\n",
    "     cirq.LineQubit(1): 2,\n",
    "}\n",
    "\n",
    "CC.reachable_frontier_from(start_frontier=start, is_blocker=blocker)"
   ]
  },
  {
   "cell_type": "code",
   "execution_count": 33,
   "metadata": {},
   "outputs": [
    {
     "data": {
      "text/html": [
       "<pre style=\"overflow: auto; white-space: pre;\">0: ───@───────────────────────────────────@───@───────────────────────────────────@───\n",
       "      │                                   │   │                                   │\n",
       "1: ───X───@───────────────────────────@───X───X───@───────────────────────────@───X───\n",
       "          │                           │           │                           │\n",
       "2: ───────X───@───────────────────@───X───────────X───@───────────────────@───X───────\n",
       "              │                   │                   │                   │\n",
       "3: ───────────X───@───────────@───X───H───────────────X───@───────────@───X───H───────\n",
       "                  │           │                           │           │\n",
       "4: ───────────────X───Rz(π)───X───────────────────────────X───Rz(π)───X───────────────</pre>"
      ],
      "text/plain": [
       "0: ───@───────────────────────────────────@───@───────────────────────────────────@───\n",
       "      │                                   │   │                                   │\n",
       "1: ───X───@───────────────────────────@───X───X───@───────────────────────────@───X───\n",
       "          │                           │           │                           │\n",
       "2: ───────X───@───────────────────@───X───────────X───@───────────────────@───X───────\n",
       "              │                   │                   │                   │\n",
       "3: ───────────X───@───────────@───X───H───────────────X───@───────────@───X───H───────\n",
       "                  │           │                           │           │\n",
       "4: ───────────────X───Rz(π)───X───────────────────────────X───Rz(π)───X───────────────"
      ]
     },
     "execution_count": 33,
     "metadata": {},
     "output_type": "execute_result"
    }
   ],
   "source": [
    "CC"
   ]
  },
  {
   "cell_type": "code",
   "execution_count": 34,
   "metadata": {},
   "outputs": [
    {
     "data": {
      "text/plain": [
       "cirq.Moment(\n",
       "    cirq.CNOT(cirq.LineQubit(0), cirq.LineQubit(1)),\n",
       ")"
      ]
     },
     "execution_count": 34,
     "metadata": {},
     "output_type": "execute_result"
    }
   ],
   "source": [
    "CC.moments[8]"
   ]
  },
  {
   "cell_type": "code",
   "execution_count": 35,
   "metadata": {},
   "outputs": [
    {
     "data": {
      "text/plain": [
       "{cirq.LineQubit(0): 9}"
      ]
     },
     "execution_count": 35,
     "metadata": {},
     "output_type": "execute_result"
    }
   ],
   "source": [
    "qbits = list(cirq.LineQubit.range(5))\n",
    "\n",
    "CC = cirq.Circuit(\n",
    "    \n",
    "\n",
    "cirq.CNOT(qbits[0], qbits[1]),\n",
    "cirq.CNOT(qbits[1], qbits[2]),\n",
    "cirq.CNOT(qbits[2], qbits[3]),\n",
    "cirq.CNOT(qbits[3], qbits[4]),\n",
    "cirq.rz(np.pi).on(qbits[4]),\n",
    "cirq.CNOT(qbits[3], qbits[4]),\n",
    "cirq.CNOT(qbits[2], qbits[3]),\n",
    "cirq.CNOT(qbits[1], qbits[2]),\n",
    "cirq.CNOT(qbits[0], qbits[1]),\n",
    "\n",
    "##\n",
    "cirq.H.on(qbits[3]),\n",
    "    \n",
    "cirq.CNOT(qbits[0], qbits[1]),\n",
    "cirq.CNOT(qbits[1], qbits[2]),\n",
    "cirq.CNOT(qbits[2], qbits[3]),\n",
    "cirq.CNOT(qbits[3], qbits[4]),\n",
    "cirq.rz(np.pi).on(qbits[4]),\n",
    "cirq.CNOT(qbits[3], qbits[4]),\n",
    "cirq.CNOT(qbits[2], qbits[3]),\n",
    "cirq.CNOT(qbits[1], qbits[2]),\n",
    "cirq.CNOT(qbits[0], qbits[1]),\n",
    "\n",
    "cirq.H.on(qbits[3]),\n",
    ")\n",
    "\n",
    "\n",
    "blocker =lambda op: op == cirq.CNOT(cirq.LineQubit(0),\n",
    "                                 cirq.LineQubit(1))\n",
    "\n",
    "start = {\n",
    "    cirq.LineQubit(0): 1,\n",
    "     cirq.LineQubit(1): 2,\n",
    "     cirq.LineQubit(2): 3,\n",
    "     cirq.LineQubit(3): 4,\n",
    "     cirq.LineQubit(4): 5\n",
    "}\n",
    "# start = dict(zip(qbits, [0 for _ in range(len(qbits))]))\n",
    "start = {\n",
    "    cirq.LineQubit(0): 9\n",
    "}\n",
    "\n",
    "CC.reachable_frontier_from(start_frontier=start, is_blocker=blocker)"
   ]
  },
  {
   "cell_type": "code",
   "execution_count": 36,
   "metadata": {},
   "outputs": [],
   "source": [
    "def Get_CNOT_inbetween_terms(Q_circuit, LineQubit1, LineQubit2, left_CNOT_cascade_ind):\n",
    "    \n",
    "    start = {\n",
    "    LineQubit1: left_CNOT_cascade_ind\n",
    "    }\n",
    "    \n",
    "#     blocker =lambda op: op == cirq.CNOT(cirq.LineQubit(0),cirq.LineQubit(1))\n",
    "\n",
    "    blocker =lambda op: (op.gate == cirq.CNOT and op.qubits == tuple(LineQubit1, LineQubit2))\n",
    "    \n",
    "    def blocker(op):\n",
    "        print(op)\n",
    "        if (op.gate == cirq.CNOT and op.qubits == tuple(LineQubit1, LineQubit2)):\n",
    "            return True\n",
    "        else:\n",
    "            return False\n",
    "    \n",
    "    first_CNOT = Q_circuit.reachable_frontier_from(start_frontier=start, is_blocker=blocker)\n",
    "    \n",
    "    second_start = {\n",
    "    LineQubit1: first_CNOT[LineQubit1]+1\n",
    "    }\n",
    "    \n",
    "    second_CNOT = Q_circuit.reachable_frontier_from(start_frontier=second_start, is_blocker=blocker)\n",
    "    \n",
    "    third_start = {\n",
    "    LineQubit1: second_CNOT[LineQubit1]+1\n",
    "    }\n",
    "    \n",
    "    third_CNOT = Q_circuit.reachable_frontier_from(start_frontier=third_start, is_blocker=blocker)\n",
    "    \n",
    "    second_CNOT_moment_ind = second_CNOT[LineQubit1]\n",
    "    third_CNOT_moment_ind = third_CNOT[LineQubit1]\n",
    "    if  second_CNOT_moment_ind== third_CNOT_moment_ind-1:\n",
    "        return True, second_CNOT_moment_ind, third_CNOT_moment_ind\n",
    "    else:\n",
    "        return False\n",
    "    "
   ]
  },
  {
   "cell_type": "code",
   "execution_count": 37,
   "metadata": {},
   "outputs": [
    {
     "ename": "NameError",
     "evalue": "name 'LL' is not defined",
     "output_type": "error",
     "traceback": [
      "\u001b[0;31m---------------------------------------------------------------------------\u001b[0m",
      "\u001b[0;31mNameError\u001b[0m                                 Traceback (most recent call last)",
      "\u001b[0;32m<ipython-input-37-69898f0f999e>\u001b[0m in \u001b[0;36m<module>\u001b[0;34m\u001b[0m\n\u001b[0;32m----> 1\u001b[0;31m \u001b[0mLL\u001b[0m\u001b[0;34m.\u001b[0m\u001b[0mgate\u001b[0m \u001b[0;34m==\u001b[0m \u001b[0mcirq\u001b[0m\u001b[0;34m.\u001b[0m\u001b[0mCNOT\u001b[0m\u001b[0;34m\u001b[0m\u001b[0;34m\u001b[0m\u001b[0m\n\u001b[0m",
      "\u001b[0;31mNameError\u001b[0m: name 'LL' is not defined"
     ]
    }
   ],
   "source": [
    "LL.gate == cirq.CNOT"
   ]
  },
  {
   "cell_type": "code",
   "execution_count": null,
   "metadata": {},
   "outputs": [],
   "source": [
    "CC.moments[8]"
   ]
  },
  {
   "cell_type": "code",
   "execution_count": null,
   "metadata": {},
   "outputs": [],
   "source": [
    "Get_CNOT_inbetween_terms(CC, cirq.LineQubit(0), cirq.LineQubit(1), 0)"
   ]
  },
  {
   "cell_type": "code",
   "execution_count": null,
   "metadata": {},
   "outputs": [],
   "source": [
    "CC.next_moments_operating_on(\n",
    "    qubits= [cirq.LineQubit(0), cirq.LineQubit(1)],\n",
    "    start_moment_index=2\n",
    ")\n"
   ]
  },
  {
   "cell_type": "code",
   "execution_count": null,
   "metadata": {},
   "outputs": [],
   "source": [
    "CC.moments[7]"
   ]
  },
  {
   "cell_type": "code",
   "execution_count": null,
   "metadata": {},
   "outputs": [],
   "source": [
    "def Get_CNOT_inbetween_terms(Q_circuit, LineQubit1, LineQubit2, left_CNOT_cascade_ind):\n",
    "    \n",
    "    first_CNOT = Q_circuit.next_moments_operating_on(\n",
    "        qubits= [LineQubit1],\n",
    "        start_moment_index=left_CNOT_cascade_ind\n",
    "    )\n",
    "    \n",
    "    second_start_moment_index = \n"
   ]
  },
  {
   "cell_type": "code",
   "execution_count": null,
   "metadata": {},
   "outputs": [],
   "source": [
    "cirq.CNOT(cirq.LineQubit(1), cirq.LineQubit(2)) in CC.moments[7] "
   ]
  },
  {
   "cell_type": "code",
   "execution_count": null,
   "metadata": {},
   "outputs": [],
   "source": [
    "CC.moments.pop(7)"
   ]
  },
  {
   "cell_type": "code",
   "execution_count": null,
   "metadata": {},
   "outputs": [],
   "source": [
    "from copy import deepcopy as copy\n",
    "\n",
    "def cancel_CNOTS(Q_circuit):\n",
    "    Q_circuit_closest = cirq.Circuit(Q_circuit.all_operations(), strategy=cirq.InsertStrategy.EARLIEST)\n",
    "    \n",
    "    moment_copy = copy(Q_circuit_closest.moments)\n",
    "    \n",
    "    for ind, moment in enumerate(Q_circuit_closest.moments[:-1]):\n",
    "        \n",
    "        CNOT=False\n",
    "        for op_ind, op in enumerate(moment):\n",
    "            if op.gate == cirq.CNOT:\n",
    "                next_moment = Q_circuit_closest.moments[ind+1]\n",
    "                if op in next_moment:\n",
    "                    ind_match = [j for j, op2 in enumerate(next_moment) if op==op2][0]\n",
    "                    print(ind_match)\n",
    "                    del moment_copy[ind][op_ind]\n",
    "                    del moment_copy[ind+1][ind_match]\n",
    "        \n",
    "#         if CNOT is True:\n",
    "#             for op2_ind, op2 in enumerate(moment_copy[ind+1]):\n",
    "#                 print(op)\n",
    "#                 print(op2)\n",
    "#                 print()\n",
    "#                 if op2 == gate_taken:\n",
    "#                     print(moment_copy[ind+1][op2_ind])\n",
    "#                     print(moment_copy[ind][gate_taken_ind])\n",
    "                    \n",
    "#                     del moment_copy[ind+1][op2_ind]\n",
    "#                     del moment_copy[ind][gate_taken_ind]\n",
    "#                     Q_circ_update = cirq.Circuit(moment_copy)\n",
    "#                     return cancel_CNOTS(Q_circ_update)\n",
    "#         else:\n",
    "#             continue\n",
    "    \n",
    "    return cirq.Circuit(moment_copy)\n",
    "            \n",
    "                \n",
    "    "
   ]
  },
  {
   "cell_type": "code",
   "execution_count": null,
   "metadata": {},
   "outputs": [],
   "source": [
    "cancel_CNOTS(CC)"
   ]
  },
  {
   "cell_type": "code",
   "execution_count": null,
   "metadata": {},
   "outputs": [],
   "source": []
  },
  {
   "cell_type": "code",
   "execution_count": null,
   "metadata": {},
   "outputs": [],
   "source": [
    "test9 = cirq.Circuit(\n",
    "cirq.H(qbits[0]),\n",
    "cirq.S(qbits[0])\n",
    ")\n",
    "print(test9)\n",
    "test9.unitary()"
   ]
  },
  {
   "cell_type": "code",
   "execution_count": null,
   "metadata": {},
   "outputs": [],
   "source": [
    "test9 = cirq.Circuit(\n",
    "cirq.rx(-np.pi/2).on(qbits[0]),\n",
    ")\n",
    "print(test9)\n",
    "test9.unitary()"
   ]
  },
  {
   "cell_type": "code",
   "execution_count": null,
   "metadata": {},
   "outputs": [],
   "source": [
    "test9 = cirq.Circuit(\n",
    "(cirq.S**-1).on(qbits[0]),\n",
    "cirq.H(qbits[0]),\n",
    "cirq.Z(qbits[0]),\n",
    "cirq.H(qbits[0]),\n",
    "(cirq.S).on(qbits[0]),\n",
    ")\n",
    "print(test9)\n",
    "test9.unitary()"
   ]
  },
  {
   "cell_type": "code",
   "execution_count": null,
   "metadata": {},
   "outputs": [],
   "source": [
    "test9 = cirq.Circuit(\n",
    "(cirq.S).on(qbits[0]),\n",
    "cirq.H(qbits[0]),\n",
    "cirq.Z(qbits[0]),\n",
    "cirq.H(qbits[0]),\n",
    "(cirq.S**-1).on(qbits[0]),\n",
    ")\n",
    "print(test9)\n",
    "test9.unitary()"
   ]
  },
  {
   "cell_type": "code",
   "execution_count": null,
   "metadata": {},
   "outputs": [],
   "source": [
    "cirq.Y._unitary_()"
   ]
  },
  {
   "cell_type": "code",
   "execution_count": null,
   "metadata": {},
   "outputs": [],
   "source": [
    "S_dagH = cirq.Circuit(\n",
    "(cirq.S**-1).on(qbits[0]),\n",
    "cirq.H(qbits[0]))._unitary_()"
   ]
  },
  {
   "cell_type": "code",
   "execution_count": null,
   "metadata": {},
   "outputs": [],
   "source": [
    "np.around(S_dagH.conj().T @ cirq.Z._unitary_() @ S_dagH)"
   ]
  },
  {
   "cell_type": "code",
   "execution_count": null,
   "metadata": {},
   "outputs": [],
   "source": [
    "Rx = cirq.Circuit(\n",
    "cirq.rx(np.pi/2).on(qbits[0])\n",
    ").unitary()\n",
    "\n",
    "np.around(Rx.conj().T @ cirq.Z._unitary_() @ Rx)"
   ]
  },
  {
   "cell_type": "code",
   "execution_count": null,
   "metadata": {},
   "outputs": [],
   "source": [
    "test9 = cirq.Circuit(\n",
    "(cirq.S**-1).on(qbits[0]),\n",
    "cirq.H(qbits[0]),\n",
    "cirq.Z(qbits[0]),\n",
    "cirq.H(qbits[0]),\n",
    "(cirq.S).on(qbits[0]),\n",
    ")\n",
    "print(test9)\n",
    "test9.unitary()"
   ]
  },
  {
   "cell_type": "code",
   "execution_count": null,
   "metadata": {},
   "outputs": [],
   "source": [
    "test9 = cirq.Circuit(\n",
    "cirq.rx(-np.pi/2).on(qbits[0]),\n",
    "cirq.Z(qbits[0]),\n",
    "cirq.rx(np.pi/2).on(qbits[0])\n",
    ")\n",
    "print(test9)\n",
    "np.around(test9.unitary(),3)"
   ]
  },
  {
   "cell_type": "code",
   "execution_count": null,
   "metadata": {},
   "outputs": [],
   "source": [
    "test9 = cirq.Circuit(\n",
    "cirq.H(qbits[0]),\n",
    "cirq.S(qbits[0]),\n",
    "cirq.H(qbits[0]),\n",
    ")\n",
    "print(test9)\n",
    "test9.unitary()"
   ]
  },
  {
   "cell_type": "code",
   "execution_count": null,
   "metadata": {},
   "outputs": [],
   "source": []
  },
  {
   "cell_type": "code",
   "execution_count": null,
   "metadata": {},
   "outputs": [],
   "source": [
    "import qiskit "
   ]
  },
  {
   "cell_type": "code",
   "execution_count": null,
   "metadata": {},
   "outputs": [],
   "source": [
    "test10 = cirq.Circuit(\n",
    "cirq.XPowGate(exponent=0.5).on(qbits[0]),\n",
    ")\n",
    "print(test10)\n",
    "xx = test10.to_qasm(header=False)\n",
    "\n",
    "\n",
    "# test10 = cirq.Circuit(\n",
    "# cirq.H.on(qbits[0]),\n",
    "# cirq.S.on(qbits[0]),\n",
    "# cirq.H.on(qbits[0]),\n",
    "# )\n",
    "# print(test10)\n",
    "# xx = test10.to_qasm(header=False)"
   ]
  },
  {
   "cell_type": "code",
   "execution_count": null,
   "metadata": {},
   "outputs": [],
   "source": [
    "test10.unitary()"
   ]
  },
  {
   "cell_type": "code",
   "execution_count": null,
   "metadata": {},
   "outputs": [],
   "source": []
  },
  {
   "cell_type": "code",
   "execution_count": null,
   "metadata": {},
   "outputs": [],
   "source": []
  },
  {
   "cell_type": "code",
   "execution_count": null,
   "metadata": {},
   "outputs": [],
   "source": [
    "qbits = list(cirq.LineQubit.range(3))\n",
    "\n",
    "test3 = cirq.Circuit(\n",
    "cirq.CNOT(qbits[0], qbits[1]),\n",
    "(cirq.X**0.5).on(qbits[0]),\n",
    "cirq.CNOT(qbits[0], qbits[1])\n",
    "    \n",
    ")\n",
    "print(test3)\n",
    "print()\n",
    "print()\n",
    "\n",
    "test4 = cirq.Circuit(\n",
    "cirq.rz(np.pi/2).on(qbits[0]),\n",
    "    (cirq.X**0.5).on(qbits[0]),\n",
    "    (cirq.X**0.5).on(qbits[1]),\n",
    "    cirq.rz(3*np.pi/2).on(qbits[0]),\n",
    "cirq.CNOT(qbits[0], qbits[1]),\n",
    "    (cirq.X**0.5).on(qbits[0]),\n",
    "cirq.rz(np.pi/2).on(qbits[0]),\n",
    ")\n",
    "print(test4)\n",
    "\n",
    "np.allclose(test3.unitary(), test4.unitary())"
   ]
  },
  {
   "cell_type": "code",
   "execution_count": null,
   "metadata": {},
   "outputs": [],
   "source": [
    "# https://quantumai.google/reference/python/cirq/testing/assert_allclose_up_to_global_phase\n",
    "\n",
    "cirq.testing.assert_allclose_up_to_global_phase(\n",
    "    test3.unitary(),\n",
    "    test4.unitary(),\n",
    "    atol=1e-8,\n",
    "    verbose=False)\n",
    "\n",
    "## YES above circuits are the same up to a global phase"
   ]
  },
  {
   "cell_type": "code",
   "execution_count": null,
   "metadata": {},
   "outputs": [],
   "source": [
    "np.around(test4.unitary(), 3)"
   ]
  },
  {
   "cell_type": "code",
   "execution_count": null,
   "metadata": {},
   "outputs": [],
   "source": [
    "test3.unitary()"
   ]
  },
  {
   "cell_type": "code",
   "execution_count": null,
   "metadata": {},
   "outputs": [],
   "source": []
  },
  {
   "cell_type": "code",
   "execution_count": null,
   "metadata": {},
   "outputs": [],
   "source": []
  },
  {
   "cell_type": "code",
   "execution_count": null,
   "metadata": {},
   "outputs": [],
   "source": []
  },
  {
   "cell_type": "code",
   "execution_count": null,
   "metadata": {},
   "outputs": [],
   "source": []
  },
  {
   "cell_type": "code",
   "execution_count": null,
   "metadata": {},
   "outputs": [],
   "source": []
  },
  {
   "cell_type": "code",
   "execution_count": null,
   "metadata": {},
   "outputs": [],
   "source": [
    "qbits = list(cirq.LineQubit.range(3))\n",
    "\n",
    "test3 = cirq.Circuit(\n",
    "cirq.CNOT(qbits[0], qbits[1]),\n",
    "(cirq.X**0.5).on(qbits[0]),\n",
    "cirq.CNOT(qbits[0], qbits[1])\n",
    "    \n",
    ")\n",
    "print(test3)\n",
    "print()\n",
    "print()\n",
    "\n",
    "\n",
    "test4 = cirq.Circuit(\n",
    "(cirq.H).on(qbits[0]),\n",
    "# (cirq.X**0.5).on(qbits[0]),\n",
    "cirq.CNOT(qbits[0], qbits[1]),\n",
    "(cirq.S**1).on(qbits[0]),\n",
    "# (cirq.X**0.5).on(qbits[0]),\n",
    "(cirq.H).on(qbits[0]),\n",
    "    \n",
    "(cirq.S).on(qbits[0]),\n",
    "cirq.rz(-np.pi/2).on(qbits[0]),\n",
    "\n",
    "cirq.rx(np.pi/2).on(qbits[1]),\n",
    " \n",
    ")\n",
    "print(test4)\n",
    "\n",
    "\n",
    "cirq.testing.assert_allclose_up_to_global_phase(\n",
    "    test3.unitary(),\n",
    "    test4.unitary(),\n",
    "    atol=1e-8,\n",
    "    verbose=False)\n",
    "\n",
    "## YES THESE ARE THE SAME UP TO A GLOBAL PHASE OF e^{+i pi/4}\n",
    "\n",
    "np.allclose(test3.unitary(), test4.unitary())"
   ]
  },
  {
   "cell_type": "code",
   "execution_count": null,
   "metadata": {},
   "outputs": [],
   "source": [
    "test4_phase = cirq.Circuit(\n",
    "(cirq.H).on(qbits[0]),\n",
    "# (cirq.X**0.5).on(qbits[0]),\n",
    "cirq.CNOT(qbits[0], qbits[1]),\n",
    "(cirq.S**1).on(qbits[0]),\n",
    "# (cirq.X**0.5).on(qbits[0]),\n",
    "(cirq.H).on(qbits[0]),\n",
    "\n",
    "cirq.rx(np.pi/2).on(qbits[1]),\n",
    "cirq.MatrixGate(np.eye(4)*np.e**(-1j*-np.pi/4)).on(qbits[0], qbits[1]))\n",
    "\n",
    "print(test4_phase)\n",
    "\n",
    "np.allclose(test3.unitary(), test4_phase.unitary())"
   ]
  },
  {
   "cell_type": "code",
   "execution_count": null,
   "metadata": {},
   "outputs": [],
   "source": [
    "cirq.ConvertToCzAndSingleGates().optimize_circuit(circuit=test4_phase) \n",
    "np.allclose(test3.unitary(), test4_phase.unitary())"
   ]
  },
  {
   "cell_type": "code",
   "execution_count": null,
   "metadata": {},
   "outputs": [],
   "source": []
  },
  {
   "cell_type": "code",
   "execution_count": null,
   "metadata": {},
   "outputs": [],
   "source": [
    "np.around(test4.unitary(), 3)"
   ]
  },
  {
   "cell_type": "code",
   "execution_count": null,
   "metadata": {},
   "outputs": [],
   "source": [
    "np.around(test4.unitary()* np.e**(-1j*-np.pi/4),  3) == test3.unitary()"
   ]
  },
  {
   "cell_type": "code",
   "execution_count": null,
   "metadata": {},
   "outputs": [],
   "source": [
    "np.around(test4.unitary() @ np.eye(4)*np.e**(-1j*-np.pi/4),3) == test3.unitary()"
   ]
  },
  {
   "cell_type": "code",
   "execution_count": null,
   "metadata": {},
   "outputs": [],
   "source": [
    "cirq.rz(np.pi/2)._unitary_() ==cirq.rz(2*np.pi)._unitary_()"
   ]
  },
  {
   "cell_type": "code",
   "execution_count": null,
   "metadata": {},
   "outputs": [],
   "source": [
    "(cirq.S**-1)._unitary_() @ cirq.rz(np.pi/2)._unitary_()"
   ]
  },
  {
   "cell_type": "code",
   "execution_count": null,
   "metadata": {},
   "outputs": [],
   "source": [
    "np.around(np.eye(4)*np.e**(-1j*-np.pi/4), 3)"
   ]
  },
  {
   "cell_type": "code",
   "execution_count": null,
   "metadata": {},
   "outputs": [],
   "source": []
  },
  {
   "cell_type": "code",
   "execution_count": null,
   "metadata": {},
   "outputs": [],
   "source": [
    "\n",
    "test5 = cirq.Circuit(\n",
    "    \n",
    "# (cirq.S**-1).on(qbits[0]),\n",
    "# (cirq.S**-1).on(qbits[1]),\n",
    "cirq.rz(-np.pi/4).on(qbits[0]),\n",
    "cirq.rz(-np.pi/4).on(qbits[1]),\n",
    "# cirq.H.on(qbits[0]),\n",
    "# cirq.H.on(qbits[1]),\n",
    "# (cirq.S**-1).on(qbits[0]),\n",
    "# (cirq.S**-1).on(qbits[1]),\n",
    "# (cirq.Z**0.25)(qbits[1]).controlled_by(qbits[0])\n",
    "# (cirq.H).on(qbits[1]).controlled_by(qbits[0])\n",
    ")\n",
    "\n",
    "print(test5)\n",
    "\n",
    "np.around(test5.unitary(), 3)"
   ]
  },
  {
   "cell_type": "code",
   "execution_count": null,
   "metadata": {},
   "outputs": [],
   "source": [
    "\n",
    "test5 = cirq.Circuit(\n",
    "    \n",
    "(cirq.S).on(qbits[0]),\n",
    "# (cirq.S**-1).on(qbits[1]),\n",
    "cirq.rz(-np.pi/2).on(qbits[0]),\n",
    "cirq.I.on(qbits[1]),\n",
    ")\n",
    "\n",
    "print(test5)\n",
    "\n",
    "np.around(test5.unitary(), 3)"
   ]
  },
  {
   "cell_type": "code",
   "execution_count": null,
   "metadata": {},
   "outputs": [],
   "source": [
    "tttt = cirq.MatrixGate(np.eye(4)*np.e**(-1j*-np.pi/4))"
   ]
  },
  {
   "cell_type": "code",
   "execution_count": null,
   "metadata": {},
   "outputs": [],
   "source": [
    "test5 = cirq.Circuit(\n",
    "     cirq.X.on(qbits[1]),\n",
    "    cirq.MatrixGate(np.eye(4)*np.e**(-1j*-np.pi/4)).on(qbits[0], qbits[1]),\n",
    "     cirq.S.on(qbits[0]),\n",
    "     cirq.S.on(qbits[1]),\n",
    "     cirq.S.on(qbits[2]),\n",
    ")\n",
    "test5"
   ]
  },
  {
   "cell_type": "code",
   "execution_count": null,
   "metadata": {},
   "outputs": [],
   "source": [
    "cirq.ConvertToCzAndSingleGates().optimize_circuit(circuit=test5) \n",
    "test5.unitary()"
   ]
  },
  {
   "cell_type": "code",
   "execution_count": null,
   "metadata": {},
   "outputs": [],
   "source": [
    "cirq.rz(np.pi/4)/"
   ]
  },
  {
   "cell_type": "code",
   "execution_count": null,
   "metadata": {},
   "outputs": [],
   "source": [
    "np.around(test4.unitary(), 3)"
   ]
  },
  {
   "cell_type": "code",
   "execution_count": null,
   "metadata": {},
   "outputs": [],
   "source": [
    "qbits = list(cirq.LineQubit.range(3))\n",
    "\n",
    "test3 = cirq.Circuit(\n",
    "cirq.CNOT(qbits[0], qbits[1]),\n",
    "(cirq.X**0.5).on(qbits[0]),\n",
    "cirq.CNOT(qbits[0], qbits[1])\n",
    "    \n",
    ")\n",
    "print(test3)\n",
    "print()\n",
    "print()\n",
    "\n",
    "test4 = cirq.Circuit(\n",
    "# cirq.S(qbits[0]),\n",
    "(cirq.X**-0.5).on(qbits[1]),\n",
    "    \n",
    "cirq.H(qbits[0]),   \n",
    "cirq.CNOT(qbits[1], qbits[0]),\n",
    "# cirq.H(qbits[0]), \n",
    "# cirq.S(qbits[0])**-1,\n",
    "cirq.S(qbits[1]),\n",
    "# cirq.H(qbits[0]),\n",
    "(cirq.X**0.5).on(qbits[0]),\n",
    "(cirq.X**0.5).on(qbits[1]),\n",
    "cirq.H(qbits[0]), \n",
    ")\n",
    "print(test4)\n",
    "\n",
    "np.allclose(test3.unitary(), test4.unitary())"
   ]
  },
  {
   "cell_type": "code",
   "execution_count": null,
   "metadata": {},
   "outputs": [],
   "source": [
    "test3.unitary()"
   ]
  },
  {
   "cell_type": "code",
   "execution_count": null,
   "metadata": {},
   "outputs": [],
   "source": [
    "test4.unitary()"
   ]
  },
  {
   "cell_type": "code",
   "execution_count": null,
   "metadata": {},
   "outputs": [],
   "source": [
    "X @ Xpow == Xpow @ X"
   ]
  },
  {
   "cell_type": "code",
   "execution_count": null,
   "metadata": {},
   "outputs": [],
   "source": [
    "# qbits = list(cirq.LineQubit.range(3))\n",
    "\n",
    "# test3 = cirq.Circuit(\n",
    "# cirq.CNOT(qbits[0], qbits[1]),\n",
    "# (cirq.X**0.5).on(qbits[0]),\n",
    "# cirq.CNOT(qbits[0], qbits[1])\n",
    "    \n",
    "# )\n",
    "# print(test3)\n",
    "# print()\n",
    "# print()\n",
    "\n",
    "# test4 = cirq.Circuit(\n",
    "# cirq.S(qbits[0]),\n",
    "# cirq.H(qbits[1]),\n",
    "# cirq.CNOT(qbits[1], qbits[0]),\n",
    "# # cirq.S(qbits[0])**-1,\n",
    "# cirq.S(qbits[1]),\n",
    "# # cirq.H(qbits[0]),\n",
    "# (cirq.X**0.5).on(qbits[0]),\n",
    "#     cirq.H(qbits[1]),\n",
    "# )\n",
    "# print(test4)\n",
    "\n",
    "# np.allclose(test3.unitary(), test4.unitary())"
   ]
  },
  {
   "cell_type": "code",
   "execution_count": null,
   "metadata": {},
   "outputs": [],
   "source": [
    "import qiskit\n",
    "from qiskit import QuantumCircuit, Aer, execute"
   ]
  },
  {
   "cell_type": "code",
   "execution_count": null,
   "metadata": {},
   "outputs": [],
   "source": [
    "\n",
    "# From str.\n",
    "qc = QuantumCircuit.from_qasm_str(xx)\n",
    "# If you want to read from file, use instead\n",
    "# qc = QuantumCircuit.from_qasm_file(\"/path/to/file.qasm\")\n",
    "\n",
    "# You can choose other backend also.\n",
    "backend = Aer.get_backend(\"qasm_simulator\")\n",
    "\n",
    "# Execute the circuit and show the result.\n",
    "# job = execute(qc, backend)\n",
    "# result = job.result()\n",
    "# print(result.get_counts())\n",
    "\n",
    "print(qc)"
   ]
  },
  {
   "cell_type": "code",
   "execution_count": null,
   "metadata": {},
   "outputs": [],
   "source": [
    "new = qiskit.compiler.transpile(qc, optimization_level=3)\n",
    "new.draw()"
   ]
  },
  {
   "cell_type": "code",
   "execution_count": null,
   "metadata": {},
   "outputs": [],
   "source": [
    "test10.unitary()"
   ]
  },
  {
   "cell_type": "code",
   "execution_count": null,
   "metadata": {},
   "outputs": [],
   "source": [
    "test9 = cirq.Circuit(\n",
    "cirq.rx(np.pi/2).on(qbits[0]),\n",
    ").unitary()\n",
    "test9"
   ]
  },
  {
   "cell_type": "code",
   "execution_count": null,
   "metadata": {},
   "outputs": [],
   "source": []
  },
  {
   "cell_type": "code",
   "execution_count": null,
   "metadata": {},
   "outputs": [],
   "source": [
    "qc = QuantumCircuit(1)\n",
    "qc.rx(np.pi/2,0)\n",
    "qc.h(0)\n",
    "print(qc.draw())\n",
    "\n",
    "new = qiskit.compiler.transpile(qc, optimization_level=3)\n",
    "new.draw()"
   ]
  },
  {
   "cell_type": "code",
   "execution_count": null,
   "metadata": {},
   "outputs": [],
   "source": []
  },
  {
   "cell_type": "code",
   "execution_count": null,
   "metadata": {},
   "outputs": [],
   "source": [
    "qbits = list(cirq.LineQubit.range(3))\n",
    "\n",
    "test3 = cirq.Circuit(\n",
    "cirq.S(qbits[0])**-1,\n",
    "(cirq.X**0.5).on(qbits[0]),\n",
    "cirq.S(qbits[0]),\n",
    ")\n",
    "print(test3)\n",
    "print()\n",
    "print()\n",
    "\n",
    "test3.unitary()"
   ]
  },
  {
   "cell_type": "code",
   "execution_count": null,
   "metadata": {},
   "outputs": [],
   "source": [
    "help(qc.h)"
   ]
  },
  {
   "cell_type": "code",
   "execution_count": null,
   "metadata": {},
   "outputs": [],
   "source": [
    "qc = QuantumCircuit(2)\n",
    "qc.cnot(0,1)\n",
    "qc.h(0)\n",
    "qc.cnot(0,1)\n",
    "print(qc.draw())\n",
    "\n",
    "# bgates = ['cx', 'u1', 'u2', 'u3']\n",
    "bgates = ['id', 'rz', 'sx', 'x', 'cx' ,'s', 'h']\n",
    "\n",
    "new = qiskit.compiler.transpile(qc, optimization_level=3, basis_gates=bgates)\n",
    "new.draw()"
   ]
  },
  {
   "cell_type": "code",
   "execution_count": null,
   "metadata": {},
   "outputs": [],
   "source": [
    "cirq.rz(np.pi/2)._unitary_() @ cirq.rz(np.pi/2)._unitary_()"
   ]
  },
  {
   "cell_type": "code",
   "execution_count": null,
   "metadata": {},
   "outputs": [],
   "source": [
    "qc = QuantumCircuit(2)\n",
    "qc.cnot(0,1)\n",
    "qc.h(0)\n",
    "qc.s(0)\n",
    "qc.h(0)\n",
    "qc.cnot(0,1)\n",
    "print(qc.draw())\n",
    "\n",
    "bgates = ['cx', 'u1', 'u2', 'u3']\n",
    "# bgates = ['id', 'rz', 'sx', 'x', 'cx' ,'s', 'h', 'sxdg','sd']\n",
    "\n",
    "new = qiskit.compiler.transpile(qc, optimization_level=3, basis_gates=bgates)\n",
    "new.draw()"
   ]
  },
  {
   "cell_type": "code",
   "execution_count": null,
   "metadata": {},
   "outputs": [],
   "source": [
    "backend = Aer.get_backend('unitary_simulator')\n",
    "job = execute(new, backend)\n",
    "op1 = job.result().get_unitary(new, decimals=3)\n",
    "\n",
    "std = execute(qc, backend)\n",
    "std1 = job.result().get_unitary(qc, decimals=3)\n",
    "\n",
    "op1 == std1"
   ]
  },
  {
   "cell_type": "code",
   "execution_count": null,
   "metadata": {},
   "outputs": [],
   "source": [
    "qc = QuantumCircuit(1)\n",
    "qc.u2(-np.pi/2,np.pi/2, 0)\n",
    "print(qc.draw())\n",
    "\n",
    "backend = Aer.get_backend('unitary_simulator')\n",
    "job = execute(qc, backend)\n",
    "job.result().get_unitary(qc, decimals=3)"
   ]
  },
  {
   "cell_type": "code",
   "execution_count": null,
   "metadata": {},
   "outputs": [],
   "source": [
    "cirq.rx(np.pi/2)._unitary_()"
   ]
  },
  {
   "cell_type": "code",
   "execution_count": null,
   "metadata": {},
   "outputs": [],
   "source": [
    "cirq.Y._unitary_() @ cirq.S._unitary_() @ cirq.H._unitary_()"
   ]
  },
  {
   "cell_type": "code",
   "execution_count": null,
   "metadata": {},
   "outputs": [],
   "source": [
    "(cirq.X**0.5)._unitary_() @ cirq.S._unitary_() "
   ]
  },
  {
   "cell_type": "code",
   "execution_count": null,
   "metadata": {},
   "outputs": [],
   "source": [
    "# bgates = ['id', 'rz', 'sx', 'x', 'cx' ,'s', 'h']\n",
    "#[ 's', 'x', 'y', 'z', 'h', 'sdg', 'measure']\n",
    "bgates = ['id', 'rz', 'sx', 'cx' ,'s', 'h']\n",
    "new = qiskit.compiler.transpile(qc, optimization_level=3, basis_gates=bgates)\n",
    "new.draw()"
   ]
  },
  {
   "cell_type": "code",
   "execution_count": null,
   "metadata": {},
   "outputs": [],
   "source": []
  },
  {
   "cell_type": "code",
   "execution_count": null,
   "metadata": {},
   "outputs": [],
   "source": [
    "backend = Aer.get_backend('unitary_simulator')\n",
    "job = execute(new, backend)\n",
    "job.result().get_unitary(new, decimals=3)"
   ]
  },
  {
   "cell_type": "code",
   "execution_count": null,
   "metadata": {},
   "outputs": [],
   "source": [
    "print(qc.draw())"
   ]
  },
  {
   "cell_type": "code",
   "execution_count": null,
   "metadata": {},
   "outputs": [],
   "source": [
    "qc = QuantumCircuit(2)\n",
    "qc.cnot(0,1)\n",
    "qc.h(0)\n",
    "qc.s(0)\n",
    "qc.h(0)\n",
    "qc.cnot(0,1)"
   ]
  },
  {
   "cell_type": "code",
   "execution_count": null,
   "metadata": {},
   "outputs": [],
   "source": [
    "qc = QuantumCircuit(1)\n",
    "qc.sdg(0)\n",
    "qc.h(0)\n",
    "qc.s(0)\n",
    "print(qc.draw())\n",
    "\n",
    "# bgates = ['cx', 'u1', 'u2', 'u3']\n",
    "bgates = ['id', 'rz', 'sx', 'x', 'cx' ,'s', 'h', 'sxdg','sdg' ,'y']\n",
    "\n",
    "new = qiskit.compiler.transpile(qc, optimization_level=1, basis_gates=bgates)\n",
    "new.draw()"
   ]
  },
  {
   "cell_type": "code",
   "execution_count": null,
   "metadata": {},
   "outputs": [],
   "source": [
    "backend = Aer.get_backend('unitary_simulator')\n",
    "job = execute(new, backend)\n",
    "job.result().get_unitary(qc, decimals=3)"
   ]
  },
  {
   "cell_type": "code",
   "execution_count": null,
   "metadata": {},
   "outputs": [],
   "source": []
  },
  {
   "cell_type": "code",
   "execution_count": null,
   "metadata": {},
   "outputs": [],
   "source": [
    "qc = QuantumCircuit(2)\n",
    "qc.h(0)\n",
    "qc.cnot(0,1)\n",
    "qc.s(0)\n",
    "qc.h(0)\n",
    "qc.s(0)\n",
    "qc.rx(np.pi/2,1)\n",
    "qc.rz(-np.pi/2,0)\n",
    "print(qc.draw())\n",
    "\n",
    "bgates = ['id', 'rz', 'sx', 'x', 'cx' ,'s', 'h', 'sxdg','sdg' ,'y']\n",
    "\n",
    "new = qiskit.compiler.transpile(qc, optimization_level=1, basis_gates=bgates)\n",
    "new.draw()"
   ]
  },
  {
   "cell_type": "code",
   "execution_count": null,
   "metadata": {},
   "outputs": [],
   "source": []
  },
  {
   "cell_type": "code",
   "execution_count": null,
   "metadata": {},
   "outputs": [],
   "source": []
  },
  {
   "cell_type": "code",
   "execution_count": null,
   "metadata": {},
   "outputs": [],
   "source": [
    "qc = QuantumCircuit(2)\n",
    "qc.cnot(0,1)\n",
    "qc.h(1)\n",
    "qc.cnot(0,1)\n",
    "print(qc.draw())\n",
    "\n",
    "bgates = ['id', 'rz', 'sx', 'x', 'cx' ,'s', 'h', 'sxdg','y']\n",
    "# bgates = ['id', 'rz', 'x', 'cx' ,'s', 'h', 'sxdg','sdg' ,'y']\n",
    "new = qiskit.compiler.transpile(qc, optimization_level=3, basis_gates=bgates)\n",
    "new.draw()"
   ]
  },
  {
   "cell_type": "code",
   "execution_count": 373,
   "metadata": {},
   "outputs": [
    {
     "name": "stdout",
     "output_type": "stream",
     "text": [
      "     ┌────┐┌────┐\n",
      "q_0: ┤ √X ├┤ √X ├\n",
      "     └────┘└────┘\n"
     ]
    },
    {
     "data": {
      "text/plain": [
       "array([[0.-0.j, 1.+0.j],\n",
       "       [1.+0.j, 0.-0.j]])"
      ]
     },
     "execution_count": 373,
     "metadata": {},
     "output_type": "execute_result"
    }
   ],
   "source": [
    "qc = QuantumCircuit(1)\n",
    "qc.sx(0)\n",
    "qc.sx(0)\n",
    "print(qc.draw())\n",
    "\n",
    "backend = Aer.get_backend('unitary_simulator')\n",
    "job = execute(qc, backend)\n",
    "job.result().get_unitary(qc, decimals=3)"
   ]
  },
  {
   "cell_type": "code",
   "execution_count": null,
   "metadata": {},
   "outputs": [],
   "source": [
    "cirq.X._unitary_()"
   ]
  },
  {
   "cell_type": "code",
   "execution_count": null,
   "metadata": {},
   "outputs": [],
   "source": []
  },
  {
   "cell_type": "code",
   "execution_count": null,
   "metadata": {},
   "outputs": [],
   "source": [
    "\n"
   ]
  },
  {
   "cell_type": "code",
   "execution_count": 385,
   "metadata": {},
   "outputs": [],
   "source": [
    "from qiskit import QuantumCircuit, Aer, execute\n",
    "from qiskit.compiler import transpile\n",
    "from cirq.contrib.qasm_import import circuit_from_qasm\n",
    "def optimized_cirq_circuit_IBM_compiler(cirq_circuit, opt_level=3,\n",
    "                               allowed_gates=['id', 'rz', 'ry', 'rx', 'cx' ,'s', 'h', 'sxdg','y','z'],\n",
    "                                check_optimization = True):\n",
    "    # id = identity\n",
    "    \n",
    "    # other possiblities:\n",
    "        # ['cx', 'u1', 'u2', 'u3']\n",
    "    \n",
    "    cirq_qasm_file = cirq_circuit.to_qasm(header=False)\n",
    "    \n",
    "    ibm_circuit = QuantumCircuit.from_qasm_str(cirq_qasm_file)\n",
    "#     print(ibm_circuit.draw())\n",
    "    print(ibm_circuit.global_phase)\n",
    "    \n",
    "    simplified_circuit = transpile(ibm_circuit,#.reverse_bits(),\n",
    "                                   optimization_level=opt_level,\n",
    "                                   basis_gates=allowed_gates,\n",
    "                                  approximation_degree=1)#no approximation\n",
    "    \n",
    "    \n",
    "    global_phase = simplified_circuit.global_phase\n",
    "    print(simplified_circuit.draw())\n",
    "    print(global_phase)\n",
    "    \n",
    "    ibm_qasm = simplified_circuit.qasm()\n",
    "    simplied_cirq_circuit = circuit_from_qasm(ibm_qasm)\n",
    "    \n",
    "    \n",
    "#     if not np.isclose(global_phase, 0):\n",
    "#         print(f'correcting global phase: {global_phase}')\n",
    "#         qubit = list(simplied_cirq_circuit.all_qubits())[0]\n",
    "    \n",
    "#         if (np.isclose(global_phase, np.pi) or np.isclose(global_phase, -1*np.pi)):\n",
    "#             op1 = cirq.rz(2*np.pi).on(qubit)\n",
    "#             simplied_cirq_circuit.append(op1)\n",
    "#         elif np.isclose(global_phase, +np.pi/2):\n",
    "#             op1 = cirq.Z.on(qubit)\n",
    "#             op2 = cirq.rz(-np.pi).on(qubit)\n",
    "#             simplied_cirq_circuit.append([op1, op2])\n",
    "#         elif np.isclose(global_phase, -np.pi/2):\n",
    "#             op1 = cirq.Z.on(qubit)\n",
    "#             op2 = cirq.rz(+np.pi).on(qubit) \n",
    "#             simplied_cirq_circuit.append([op1, op2])\n",
    "#         elif np.isclose(global_phase, np.pi/4):\n",
    "#             op1 = (cirq.S).on(qubit)\n",
    "#             op2 = cirq.rz(-np.pi/2).on(qubit)\n",
    "#             simplied_cirq_circuit.append([op1, op2])\n",
    "#         elif np.isclose(global_phase, -np.pi/4):\n",
    "#             op1 = (cirq.S**-1).on(qubit)\n",
    "#             op2 = cirq.rz(np.pi/2).on(qubit)\n",
    "#             simplied_cirq_circuit.append([op1, op2])\n",
    "#         else:\n",
    "#             print('cannot correct global phase using native gates')\n",
    "#             print('adding cirq matrix gate')\n",
    "\n",
    "#         phase_mat = np.eye(2)* np.e**(1j*phase)\n",
    "#         phase_circuit = cirq.Circuit(cirq.MatrixGate(phase_mat).on(qubit))\n",
    "#         simplied_cirq_circuit.append(list(phase_circuit.all_operations()))\n",
    "    \n",
    "    if check_optimization:\n",
    "#         if not np.allclose(cirq_circuit.unitary(), simplied_cirq_circuit.unitary()):\n",
    "#             raise ValueError('circuit compile incorrect')\n",
    "        if not np.allclose(cirq_circuit.unitary(), np.e**(1j*2*global_phase)*simplied_cirq_circuit.unitary()):\n",
    "            raise ValueError('circuit compile incorrect')\n",
    "    return simplied_cirq_circuit, global_phase"
   ]
  },
  {
   "cell_type": "code",
   "execution_count": 712,
   "metadata": {},
   "outputs": [],
   "source": [
    "from qiskit import QuantumCircuit, Aer, execute\n",
    "from qiskit.compiler import transpile\n",
    "from cirq.contrib.qasm_import import circuit_from_qasm\n",
    "def optimized_cirq_circuit_IBM_compiler(cirq_circuit, opt_level=3,\n",
    "                               allowed_gates=['id', 'rz', 'ry', 'rx', 'cx' ,'s', 'h', 'y','z'],\n",
    "                                check_optimization = True):\n",
    "    \n",
    "    \"\"\"\n",
    "    Function that uses IBM's compiler to optimize cirq circuit.\n",
    "    \n",
    "    Note this function handles global phase for 0.25 intervals of pi\n",
    "    Any other and a modified Zpow gate is used - this may lead to ISSUES, hence a has_modified_Zpow flag is\n",
    "    returned!\n",
    "    \n",
    "    Args:\n",
    "        cirq_circuit (cirq.Circuit): circuit to optimize\n",
    "        opt_level (int): level of optimization (see qiskit.compiler.transpile for further details).\n",
    "                             0: no optimization\n",
    "                             1: light optimization\n",
    "                             2: heavy optimization\n",
    "                             3: even heavier optimization\n",
    "        allowed_gates (list): list of strings of allowed qiskit gates\n",
    "                                id: identity\n",
    "                                cx: control x\n",
    "                                sxdg: square root x dagger\n",
    "                                sx: square root x\n",
    "        \n",
    "        check_optimization (bool): checks if unitaries of optimized circuit and unoptimized are the same\n",
    "        \n",
    "    \"\"\"\n",
    "    # id = identity\n",
    "    \n",
    "    # other possiblities:\n",
    "        # ['cx', 'u1', 'u2', 'u3']\n",
    "    \n",
    "    cirq_qasm_file = cirq_circuit.to_qasm(header=False)\n",
    "    \n",
    "    ibm_circuit = QuantumCircuit.from_qasm_str(cirq_qasm_file)\n",
    "    \n",
    "    simplified_circuit = transpile(ibm_circuit,#.reverse_bits(),\n",
    "                                   optimization_level=opt_level,\n",
    "                                   basis_gates=allowed_gates,\n",
    "                                  approximation_degree=1)#no approximation\n",
    "    \n",
    "    \n",
    "#     global_phase = simplified_circuit.global_phase\n",
    "#     print(simplified_circuit.draw())\n",
    "    \n",
    "    ibm_qasm = simplified_circuit.qasm()\n",
    "    simplied_cirq_circuit = circuit_from_qasm(ibm_qasm)\n",
    "    \n",
    "    ########\n",
    "    ## see matrix_equal function\n",
    "    # https://github.com/Qiskit/qiskit-terra/blob/master/qiskit/quantum_info/operators/predicates.py\n",
    "    mat1 = cirq_circuit.unitary()\n",
    "    for elt in mat1.flat:\n",
    "            if abs(elt) > 0:\n",
    "                theta = np.angle(elt)\n",
    "                mat1 = np.exp(-1j * theta) * mat1\n",
    "                break\n",
    "    mat2 = simplied_cirq_circuit.unitary()\n",
    "    for elt in mat2.flat:\n",
    "        if abs(elt) > 0:\n",
    "            phi = np.angle(elt)\n",
    "            mat2 = np.exp(-1j * phi) * mat2\n",
    "            break\n",
    "    #######\n",
    "    \n",
    "    if check_optimization:\n",
    "        print(f'phase circuit 1: {theta:.4f}')\n",
    "        print(f'phase circuit 2:  {phi:.4f}')\n",
    "        if not np.allclose(mat1, mat2):\n",
    "            raise ValueError('circuit compile incorrect')\n",
    "    \n",
    "    ### correct global phase\n",
    "    has_modified_Zpow = False\n",
    "    if not np.isclose(ibm_circuit.global_phase, 0):\n",
    "        raise ValueError('global phase issue')\n",
    "    else:\n",
    "        global_phase = phi\n",
    "        if not np.isclose(global_phase, 0):\n",
    "            qubit = list(simplied_cirq_circuit.all_qubits())[0]\n",
    "\n",
    "            if (np.isclose(global_phase, np.pi) or np.isclose(global_phase, -1*np.pi)):\n",
    "                op1 = cirq.rz(2*np.pi).on(qubit)\n",
    "                simplied_cirq_circuit.append(op1)\n",
    "            elif np.isclose(global_phase, -np.pi/2):\n",
    "                op1 = cirq.Z.on(qubit)\n",
    "                op2 = cirq.rz(-np.pi).on(qubit)\n",
    "                simplied_cirq_circuit.append([op1, op2])\n",
    "            elif np.isclose(global_phase, +np.pi/2):\n",
    "                op1 = cirq.Z.on(qubit)\n",
    "                op2 = cirq.rz(+np.pi).on(qubit) \n",
    "                simplied_cirq_circuit.append([op1, op2])\n",
    "            elif np.isclose(global_phase, np.pi/4):\n",
    "                op1 = (cirq.S**-1).on(qubit)\n",
    "                op2 = cirq.rz(+np.pi/2).on(qubit)\n",
    "                simplied_cirq_circuit.append([op1, op2])\n",
    "            elif np.isclose(global_phase, -np.pi/4):\n",
    "                op1 = (cirq.S).on(qubit)\n",
    "                op2 = cirq.rz(-np.pi/2).on(qubit)\n",
    "                simplied_cirq_circuit.append([op1, op2])\n",
    "            else:\n",
    "                phase_mat = np.eye(2)* np.e**(-1j*global_phase)\n",
    "                Zpow_phase_correction_mat = cirq.ZPowGate(exponent=2, global_shift=-global_phase/(2*np.pi))._unitary_()\n",
    "                if not (np.allclose(Zpow_phase_correction_mat, phase_mat)):\n",
    "                    raise ValueError('circuit compile incorrect')\n",
    "                \n",
    "                op1 = cirq.ZPowGate(exponent=2, global_shift=-global_phase/(2*np.pi)).on(qubit)\n",
    "                simplied_cirq_circuit.append(op1)\n",
    "                has_modified_Zpow = True\n",
    "                # could use cirq matrix gate instead:\n",
    "#                 print('cannot correct global phase using native gates')\n",
    "#                 print('adding cirq matrix gate')\n",
    "#                 phase_circuit = cirq.Circuit(cirq.MatrixGate(phase_mat).on(qubit))\n",
    "#                 simplied_cirq_circuit.append(list(phase_circuit.all_operations()))\n",
    "    \n",
    "    if check_optimization:\n",
    "        if not np.allclose(cirq_circuit.unitary(), simplied_cirq_circuit.unitary()):\n",
    "            raise ValueError('circuit compile incorrect')\n",
    "    \n",
    "    print('does circuit have modified Zpow:', 'yes'if has_modified_Zpow else 'no')\n",
    "    return simplied_cirq_circuit, global_phase, has_modified_Zpow"
   ]
  },
  {
   "cell_type": "code",
   "execution_count": 698,
   "metadata": {},
   "outputs": [
    {
     "name": "stdout",
     "output_type": "stream",
     "text": [
      "0: ───@───────@───S───\n",
      "      │       │\n",
      "1: ───X───H───X───S───\n"
     ]
    },
    {
     "data": {
      "text/plain": [
       "array([[ 0.707+0.j   ,  0.707+0.j   ,  0.   +0.j   ,  0.   +0.j   ],\n",
       "       [ 0.   +0.707j, -0.   -0.707j, -0.   +0.j   , -0.   +0.j   ],\n",
       "       [-0.   +0.j   , -0.   +0.j   , -0.   -0.707j,  0.   +0.707j],\n",
       "       [ 0.   +0.j   ,  0.   +0.j   , -0.707+0.j   , -0.707+0.j   ]])"
      ]
     },
     "execution_count": 698,
     "metadata": {},
     "output_type": "execute_result"
    }
   ],
   "source": [
    "test7 = cirq.Circuit(\n",
    "cirq.CNOT(qbits[0], qbits[1]),\n",
    "cirq.H(qbits[1]),\n",
    "cirq.CNOT(qbits[0], qbits[1]),\n",
    "cirq.S(qbits[1]),\n",
    "cirq.S(qbits[0]),\n",
    ")\n",
    "print(test7)\n",
    "np.around(test7.unitary(), 3)"
   ]
  },
  {
   "cell_type": "code",
   "execution_count": 713,
   "metadata": {},
   "outputs": [
    {
     "name": "stdout",
     "output_type": "stream",
     "text": [
      "phase circuit 1: 0.0000\n",
      "phase circuit 2:  -2.3562\n",
      "does circuit have modified Zpow: yes\n"
     ]
    },
    {
     "data": {
      "text/html": [
       "<pre style=\"overflow: auto; white-space: pre;\">q_0: ───Rz(0.75π)────Ry(π)───Rz(-1.5π)───@───Ry(π)──────Rz(0.75π)───\n",
       "                                         │\n",
       "q_1: ───Rz(-0.75π)───Ry(π)───Rz(0.75π)───X───Rx(1.5π)───Z^0─────────</pre>"
      ],
      "text/plain": [
       "q_0: ───Rz(0.75π)────Ry(π)───Rz(-1.5π)───@───Ry(π)──────Rz(0.75π)───\n",
       "                                         │\n",
       "q_1: ───Rz(-0.75π)───Ry(π)───Rz(0.75π)───X───Rx(1.5π)───Z^0─────────"
      ]
     },
     "execution_count": 713,
     "metadata": {},
     "output_type": "execute_result"
    }
   ],
   "source": [
    "out, phase, has_modified_Zpow = optimized_cirq_circuit_IBM_compiler(test7, check_optimization=True)\n",
    "out"
   ]
  },
  {
   "cell_type": "code",
   "execution_count": null,
   "metadata": {},
   "outputs": [],
   "source": []
  },
  {
   "cell_type": "code",
   "execution_count": null,
   "metadata": {},
   "outputs": [],
   "source": []
  },
  {
   "cell_type": "code",
   "execution_count": 645,
   "metadata": {},
   "outputs": [
    {
     "name": "stdout",
     "output_type": "stream",
     "text": [
      "1: ───Z^0───\n"
     ]
    },
    {
     "data": {
      "text/plain": [
       "array([[-0.70710678+0.70710678j, -0.        +0.j        ],\n",
       "       [-0.        +0.j        , -0.70710678+0.70710678j]])"
      ]
     },
     "execution_count": 645,
     "metadata": {},
     "output_type": "execute_result"
    }
   ],
   "source": [
    "global_phase_circuit = cirq.Circuit(\n",
    "cirq.ZPowGate(exponent=2, global_shift=-phase/(2*np.pi)).on(qbits[1]),\n",
    ")\n",
    "print(global_phase_circuit)\n",
    "global_phase_circuit.unitary()"
   ]
  },
  {
   "cell_type": "code",
   "execution_count": 658,
   "metadata": {},
   "outputs": [],
   "source": [
    "global_phase_circuit = cirq.ConvertToCzAndSingleGates().optimize_circuit(circuit=global_phase_circuit) \n",
    "global_phase_circuit"
   ]
  },
  {
   "cell_type": "code",
   "execution_count": 646,
   "metadata": {},
   "outputs": [
    {
     "data": {
      "text/plain": [
       "(0.0, 0.0, -0.0)"
      ]
     },
     "execution_count": 646,
     "metadata": {},
     "output_type": "execute_result"
    }
   ],
   "source": [
    "# cirq.deconstruct_single_qubit_matrix_into_angles(global_phase_circuit.unitary())"
   ]
  },
  {
   "cell_type": "code",
   "execution_count": 596,
   "metadata": {},
   "outputs": [
    {
     "data": {
      "text/plain": [
       "-2.356194490192345"
      ]
     },
     "execution_count": 596,
     "metadata": {},
     "output_type": "execute_result"
    }
   ],
   "source": [
    "phase"
   ]
  },
  {
   "cell_type": "code",
   "execution_count": 561,
   "metadata": {},
   "outputs": [
    {
     "name": "stdout",
     "output_type": "stream",
     "text": [
      "     ┌───────┐\n",
      "q_0: ┤ phase ├\n",
      "     └───────┘\n"
     ]
    },
    {
     "data": {
      "text/html": [
       "<pre style=\"word-wrap: normal;white-space: pre;background: #fff0;line-height: 1.1;font-family: &quot;Courier New&quot;,Courier,monospace\">global phase: -5π/4\n",
       "     \n",
       "q_0: \n",
       "     </pre>"
      ],
      "text/plain": [
       "global phase: -5π/4\n",
       "     \n",
       "q_0: \n",
       "     "
      ]
     },
     "execution_count": 561,
     "metadata": {},
     "output_type": "execute_result"
    }
   ],
   "source": [
    "from qiskit.extensions import UnitaryGate\n",
    "\n",
    "xx = UnitaryGate(np.eye(2)*np.exp(-1j*phase))\n",
    "# print(xx.to_matrix())\n",
    "\n",
    "qc = QuantumCircuit(1)\n",
    "qc.unitary(xx, [0], label='phase')\n",
    "print(qc.draw())\n",
    "\n",
    "bgates = ['id', 'rz', 'sx', 'x', 'cx' ,'s', 'h', 'sxdg','y']\n",
    "# bgates = ['id', 'rz', 'x', 'cx' ,'s', 'h', 'sxdg','sdg' ,'y']\n",
    "new = transpile(qc, optimization_level=3, basis_gates=bgates)\n",
    "new.draw()"
   ]
  },
  {
   "cell_type": "code",
   "execution_count": 521,
   "metadata": {},
   "outputs": [
    {
     "data": {
      "text/plain": [
       "array([[ 0.707+0.j,  0.707+0.j,  0.   +0.j,  0.   +0.j],\n",
       "       [ 0.707+0.j, -0.707-0.j,  0.   +0.j,  0.   +0.j],\n",
       "       [ 0.   +0.j,  0.   +0.j, -0.707+0.j,  0.707+0.j],\n",
       "       [ 0.   +0.j,  0.   +0.j,  0.707-0.j,  0.707+0.j]])"
      ]
     },
     "execution_count": 521,
     "metadata": {},
     "output_type": "execute_result"
    }
   ],
   "source": [
    "np.around(out.unitary(), 3) "
   ]
  },
  {
   "cell_type": "code",
   "execution_count": 524,
   "metadata": {},
   "outputs": [
    {
     "data": {
      "text/plain": [
       "array([[ 0.707+0.j,  0.707+0.j,  0.   +0.j,  0.   +0.j],\n",
       "       [ 0.707+0.j, -0.707+0.j, -0.   +0.j, -0.   +0.j],\n",
       "       [-0.   +0.j, -0.   +0.j, -0.707+0.j,  0.707+0.j],\n",
       "       [ 0.   +0.j,  0.   +0.j,  0.707+0.j,  0.707+0.j]])"
      ]
     },
     "execution_count": 524,
     "metadata": {},
     "output_type": "execute_result"
    }
   ],
   "source": [
    " np.around(test7.unitary(), 3) "
   ]
  },
  {
   "cell_type": "code",
   "execution_count": 500,
   "metadata": {},
   "outputs": [
    {
     "data": {
      "text/plain": [
       "(0.7071067811865476-0.7071067811865475j)"
      ]
     },
     "execution_count": 500,
     "metadata": {},
     "output_type": "execute_result"
    }
   ],
   "source": [
    "np.e**(1j*phase)"
   ]
  },
  {
   "cell_type": "code",
   "execution_count": 78,
   "metadata": {},
   "outputs": [
    {
     "data": {
      "text/plain": [
       "(6.123233995736766e-17-1j)"
      ]
     },
     "execution_count": 78,
     "metadata": {},
     "output_type": "execute_result"
    }
   ],
   "source": [
    "np.e**(-1j*np.pi/2)"
   ]
  },
  {
   "cell_type": "code",
   "execution_count": 232,
   "metadata": {},
   "outputs": [
    {
     "data": {
      "text/plain": [
       "array([[0.707+0.707j, 0.   +0.j   ],\n",
       "       [0.   +0.j   , 0.707+0.707j]])"
      ]
     },
     "execution_count": 232,
     "metadata": {},
     "output_type": "execute_result"
    }
   ],
   "source": [
    "np.around(np.eye(2)* np.e**(1j*np.pi/4), 3) "
   ]
  },
  {
   "cell_type": "code",
   "execution_count": 233,
   "metadata": {},
   "outputs": [
    {
     "data": {
      "text/plain": [
       "array([[0.707+0.707j, 0.   +0.j   ],\n",
       "       [0.   +0.j   , 0.707+0.707j]])"
      ]
     },
     "execution_count": 233,
     "metadata": {},
     "output_type": "execute_result"
    }
   ],
   "source": [
    "np.around(\n",
    "cirq.Circuit(\n",
    "cirq.S(qbits[0]),\n",
    "cirq.rz(-np.pi/2).on(qbits[0]),\n",
    ").unitary()\n",
    ",3)"
   ]
  },
  {
   "cell_type": "code",
   "execution_count": 83,
   "metadata": {},
   "outputs": [
    {
     "data": {
      "text/plain": [
       "array([[0.707-0.707j, 0.   +0.j   , 0.   +0.j   , 0.   +0.j   ],\n",
       "       [0.   +0.j   , 0.707-0.707j, 0.   +0.j   , 0.   +0.j   ],\n",
       "       [0.   +0.j   , 0.   +0.j   , 0.707-0.707j, 0.   +0.j   ],\n",
       "       [0.   +0.j   , 0.   +0.j   , 0.   +0.j   , 0.707-0.707j]])"
      ]
     },
     "execution_count": 83,
     "metadata": {},
     "output_type": "execute_result"
    }
   ],
   "source": [
    "np.around(\n",
    "cirq.Circuit(\n",
    "cirq.S(qbits[1])**-1,\n",
    "cirq.rz(np.pi/2).on(qbits[1]),\n",
    "cirq.I(qbits[0])    \n",
    ").unitary()\n",
    ",3)"
   ]
  },
  {
   "cell_type": "code",
   "execution_count": null,
   "metadata": {},
   "outputs": [],
   "source": [
    "np.around(np.eye(4)* np.e**(-1j*phase), 3)"
   ]
  },
  {
   "cell_type": "code",
   "execution_count": null,
   "metadata": {},
   "outputs": [],
   "source": [
    "circuit = cirq.Circuit(\n",
    "(cirq.S**-1).on(qbits[0]),\n",
    "cirq.rz(-2*phase).on(qbits[0]),\n",
    "# (cirq.S**-1).on(qbits[0]),\n",
    "cirq.I.on(qbits[1])\n",
    ")\n",
    "\n",
    "print(circuit)\n",
    "np.around(circuit.unitary(), 3)"
   ]
  },
  {
   "cell_type": "code",
   "execution_count": null,
   "metadata": {},
   "outputs": [],
   "source": [
    "(cirq.S**-1).on(qbits[0]),"
   ]
  },
  {
   "cell_type": "code",
   "execution_count": null,
   "metadata": {},
   "outputs": [],
   "source": [
    "np.around(out.unitary()* np.e**(1j*phase), 3) "
   ]
  },
  {
   "cell_type": "code",
   "execution_count": null,
   "metadata": {},
   "outputs": [],
   "source": [
    "np.around(test7.unitary(), 3) == np.around(out.unitary(),3)"
   ]
  },
  {
   "cell_type": "code",
   "execution_count": null,
   "metadata": {},
   "outputs": [],
   "source": [
    "new = new.reverse_bits()\n",
    "new.draw()"
   ]
  },
  {
   "cell_type": "code",
   "execution_count": null,
   "metadata": {},
   "outputs": [],
   "source": []
  },
  {
   "cell_type": "code",
   "execution_count": null,
   "metadata": {},
   "outputs": [],
   "source": []
  },
  {
   "cell_type": "code",
   "execution_count": null,
   "metadata": {},
   "outputs": [],
   "source": [
    "np.around(np.eye(2)* np.e**(-1j*2.4), 3)"
   ]
  },
  {
   "cell_type": "code",
   "execution_count": null,
   "metadata": {},
   "outputs": [],
   "source": []
  },
  {
   "cell_type": "code",
   "execution_count": null,
   "metadata": {},
   "outputs": [],
   "source": [
    "1j*np.e**(1j*np.pi/4) == np.e**(-1j*np.pi/4)"
   ]
  },
  {
   "cell_type": "code",
   "execution_count": null,
   "metadata": {},
   "outputs": [],
   "source": []
  },
  {
   "cell_type": "code",
   "execution_count": null,
   "metadata": {},
   "outputs": [],
   "source": [
    "phase"
   ]
  },
  {
   "cell_type": "code",
   "execution_count": null,
   "metadata": {},
   "outputs": [],
   "source": [
    "cirq.Circuit(cirq.ops.GlobalPhaseOperation(\n",
    "    coefficient= np.e**(-1j*phase),\n",
    "#     atol: float = 1e-08\n",
    ").on(qbits[0]))\n"
   ]
  },
  {
   "cell_type": "code",
   "execution_count": null,
   "metadata": {},
   "outputs": [],
   "source": [
    "mat_with_corr_phase"
   ]
  },
  {
   "cell_type": "code",
   "execution_count": null,
   "metadata": {},
   "outputs": [],
   "source": []
  },
  {
   "cell_type": "code",
   "execution_count": null,
   "metadata": {},
   "outputs": [],
   "source": [
    "from quchem.Qcircuit.Circuit_functions_to_create_arb_state import Single_qubit_rotation\n",
    "\n",
    "Single_qubit_rotation((0.87758256-0.47942554j), 0)"
   ]
  },
  {
   "cell_type": "code",
   "execution_count": null,
   "metadata": {},
   "outputs": [],
   "source": []
  },
  {
   "cell_type": "code",
   "execution_count": null,
   "metadata": {},
   "outputs": [],
   "source": [
    "(cirq.S)._unitary_() @ (cirq.rz(-np.pi/2))._unitary_()"
   ]
  },
  {
   "cell_type": "code",
   "execution_count": null,
   "metadata": {},
   "outputs": [],
   "source": [
    "(cirq.S**-1)._unitary_() @ (cirq.rz(np.pi/2))._unitary_()"
   ]
  },
  {
   "cell_type": "code",
   "execution_count": null,
   "metadata": {},
   "outputs": [],
   "source": [
    "(cirq.S)._unitary_() @ (cirq.rz(-np.pi))._unitary_()"
   ]
  },
  {
   "cell_type": "code",
   "execution_count": null,
   "metadata": {},
   "outputs": [],
   "source": [
    "np.e**(-1j*np.pi/2)"
   ]
  },
  {
   "cell_type": "code",
   "execution_count": null,
   "metadata": {},
   "outputs": [],
   "source": [
    "np.e**(1j*np.pi/2)"
   ]
  }
 ],
 "metadata": {
  "kernelspec": {
   "display_name": "Python 3",
   "language": "python",
   "name": "python3"
  },
  "language_info": {
   "codemirror_mode": {
    "name": "ipython",
    "version": 3
   },
   "file_extension": ".py",
   "mimetype": "text/x-python",
   "name": "python",
   "nbconvert_exporter": "python",
   "pygments_lexer": "ipython3",
   "version": "3.8.5"
  }
 },
 "nbformat": 4,
 "nbformat_minor": 4
}
