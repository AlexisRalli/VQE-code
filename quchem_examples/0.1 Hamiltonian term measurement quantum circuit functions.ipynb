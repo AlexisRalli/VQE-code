{
 "cells": [
  {
   "cell_type": "code",
   "execution_count": 6,
   "metadata": {},
   "outputs": [],
   "source": [
    "from openfermion.ops import QubitOperator\n",
    "import numpy as np\n",
    "import cirq"
   ]
  },
  {
   "cell_type": "markdown",
   "metadata": {},
   "source": [
    "# Maths for measuring PauliWord"
   ]
  },
  {
   "cell_type": "markdown",
   "metadata": {},
   "source": [
    "1. First we create the ansatz wavefunction (via ansatz circuit):\n",
    "\n",
    "$$ U_{UCCSD}|HF\\rangle = |\\psi_{UCCSD}\\rangle$$ \n",
    "\n",
    "2. Overall goal is to measure the energy:\n",
    "\n",
    "$$ E =  \\langle  H \\rangle =  \\langle \\psi_{UCCSD}| H |\\psi_{UCCSD}\\rangle$$ "
   ]
  },
  {
   "cell_type": "markdown",
   "metadata": {},
   "source": [
    "- the Hamiltonian is given as a summation of PauliWords:\n",
    "\n",
    "$$H = \\sum_{i} \\alpha_{i} P_{i}$$ \n",
    "\n",
    "- where each term is measured as:\n",
    "\n",
    "$$ E_{i} =  \\langle  P_{i} \\rangle =  \\langle \\psi_{UCCSD}| P_{i} |\\psi_{UCCSD}\\rangle$$ \n",
    "\n",
    "- and:\n",
    "\n",
    "$$E = \\sum_{i} E_{i}$$ \n"
   ]
  },
  {
   "cell_type": "markdown",
   "metadata": {},
   "source": [
    "To do this via a **quantum circuit** we do the following:\n",
    "\n",
    "$$ E_{i} =  \\langle \\psi_{UCCSD}| P_{i} |\\psi_{UCCSD}\\rangle = M_{z} U_{i}|\\psi_{UCCSD}\\rangle$$ \n",
    "\n",
    "where:\n",
    "- $ U_{i}$ is a change of basis of $P_{i}$ to Z basis for measurement!\n",
    "- $M_{z}$ is a measurement in $Z$ basis resuliting in: $ \\langle \\psi_{UCCSD}| U_{i}^{\\dagger} M_{z}^{\\dagger} M_{z} U_{i} |\\psi_{UCCSD}\\rangle$ (**important!**)\n"
   ]
  },
  {
   "cell_type": "markdown",
   "metadata": {},
   "source": [
    "## what are the $U_{i}$ operations?\n",
    "\n",
    "- These are **single** qubit transforms depending on Pauli required to be measured\n",
    "\n",
    "1. $P=Z$ THEN $U_{i} = \\mathbb{1}$\n",
    "2. $P=X$ THEN $U_{i} = R_{Y}\\big(-\\frac{\\pi}{2} \\big)$\n",
    "3. $P=Y$ THEN $U_{i} = R_{X}\\big(+\\frac{\\pi}{2} \\big)$\n",
    "\n",
    "EXAMPLE 1\n",
    "\n",
    "if $P=Z$ and state is $|0/1\\rangle$:\n",
    "\n",
    "$ |0/1\\rangle$ == measure ==> $ M_{z}\\mathbb{1}|0/1\\rangle$ ==>  $Z|0/1\\rangle$\n",
    "\n",
    "\n",
    "if $P=X$ and state is $|\\pm\\rangle$:\n",
    "\n",
    "$ |\\pm\\rangle$ == measure ==> $ M_{z} R_{Y}\\big(-\\frac{\\pi}{2} \\big)|\\pm\\rangle$ ==>  $M_{z}|0/1\\rangle$\n",
    "\n",
    "\n",
    "\n",
    "\n",
    "$$X|\\pm\\rangle = ZH|\\pm\\rangle = Z|0/1\\rangle$$ \n",
    "\n",
    "$$Y|i\\pm \\rangle = ZR_{x}\\big(-\\frac{\\pi}{2} \\big)|i\\pm\\rangle = Z|0/1\\rangle$$ \n",
    "\n",
    "- note $Z$ here is a measurement in Z basis!"
   ]
  },
  {
   "cell_type": "code",
   "execution_count": 7,
   "metadata": {},
   "outputs": [
    {
     "name": "stdout",
     "output_type": "stream",
     "text": [
      "state =  [[0.70711+0.j     ]\n",
      " [0.     +0.70711j]]\n",
      "\n",
      "[[1.00000455+0.j]\n",
      " [0.        +0.j]]\n",
      "\n",
      "###\n",
      "\n",
      "state =  [[0.70711+0.j]\n",
      " [0.70711+0.j]]\n",
      "\n",
      "[[1.00000455+0.j]\n",
      " [0.        +0.j]]\n"
     ]
    }
   ],
   "source": [
    "# checking in python:\n",
    "\n",
    "### measuring Y ###\n",
    "theta = np.pi/2\n",
    "phi = np.pi/2 # 3*np.pi/2\n",
    "\n",
    "state =  np.array([[np.cos(theta/2)],\n",
    "                   [np.exp(1j*phi)*np.sin(theta/2)]])\n",
    "\n",
    "state = np.around(state,5)\n",
    "\n",
    "print('state = ', state)\n",
    "print('')\n",
    "print(np.dot(cirq.rx(np.pi/2)._unitary_(),state))\n",
    "\n",
    "\n",
    "print('')\n",
    "print('###')\n",
    "print('')\n",
    "\n",
    "### measuring X ###\n",
    "theta = np.pi/2 #3*np.pi/2\n",
    "phi = 0 \n",
    "\n",
    "state =  np.array([[np.cos(theta/2)],\n",
    "                   [np.exp(1j*phi)*np.sin(theta/2)]])\n",
    "\n",
    "state = np.around(state,5)\n",
    "\n",
    "print('state = ', state)\n",
    "print('')\n",
    "print(np.dot(cirq.ry(-np.pi/2)._unitary_(),state))\n"
   ]
  },
  {
   "cell_type": "markdown",
   "metadata": {},
   "source": [
    "overall we are doing\n",
    "\n",
    "$$ E_{i} =  P_{i} |\\psi_{UCCSD}\\rangle = M_{z} U_{i}|\\psi_{UCCSD}\\rangle = M_{z}|\\psi_{P_{i}}\\rangle = \\langle\\psi_{P_{i}}|M_{z}^{\\dagger} M_{z}|\\psi_{P_{i}}\\rangle $$ "
   ]
  },
  {
   "cell_type": "markdown",
   "metadata": {},
   "source": [
    "## Change_PauliWord_measurement_to_Z_basis"
   ]
  },
  {
   "cell_type": "code",
   "execution_count": 14,
   "metadata": {},
   "outputs": [],
   "source": [
    "from quchem.Qcircuit.Hamiltonian_term_measurement_functions import Change_PauliWord_measurement_to_Z_basis"
   ]
  },
  {
   "cell_type": "code",
   "execution_count": 9,
   "metadata": {},
   "outputs": [
    {
     "name": "stdout",
     "output_type": "stream",
     "text": [
      "0: ───Ry(-0.5π)───\n",
      "\n",
      "3: ───Rx(0.5π)────\n"
     ]
    }
   ],
   "source": [
    "x = QubitOperator('X0 Z2 Y3', 0.25j)\n",
    "full_P_M_Z_circ_obj = Change_PauliWord_measurement_to_Z_basis(x)\n",
    "# print(cirq.Circuit((full_P_M_Z_circ_obj(*cirq.LineQubit.range(full_P_M_Z_circ_obj.num_qubits())))))\n",
    "# print('####')\n",
    "print(\n",
    "    cirq.Circuit(cirq.decompose_once((full_P_M_Z_circ_obj(*cirq.LineQubit.range(full_P_M_Z_circ_obj.num_qubits()))))))"
   ]
  },
  {
   "cell_type": "code",
   "execution_count": null,
   "metadata": {},
   "outputs": [],
   "source": []
  },
  {
   "cell_type": "markdown",
   "metadata": {},
   "source": [
    "## Measure_PauliWord"
   ]
  },
  {
   "cell_type": "code",
   "execution_count": 10,
   "metadata": {},
   "outputs": [],
   "source": [
    "from quchem.Qcircuit.Hamiltonian_term_measurement_functions import Measure_PauliWord"
   ]
  },
  {
   "cell_type": "code",
   "execution_count": 11,
   "metadata": {},
   "outputs": [
    {
     "name": "stdout",
     "output_type": "stream",
     "text": [
      "0: ───M───\n",
      "      │\n",
      "2: ───M───\n",
      "      │\n",
      "3: ───M───\n"
     ]
    }
   ],
   "source": [
    "x = QubitOperator('X0 Z2 Y3', 0.25j)\n",
    "measure_circ_obj = Measure_PauliWord(x)\n",
    "# print(cirq.Circuit((measure_circ_obj(*cirq.LineQubit.range(measure_circ_obj.num_qubits())))))\n",
    "# print('####')\n",
    "print(\n",
    "    cirq.Circuit(cirq.decompose_once((measure_circ_obj(*cirq.LineQubit.range(measure_circ_obj.num_qubits()))))))"
   ]
  },
  {
   "cell_type": "code",
   "execution_count": null,
   "metadata": {},
   "outputs": [],
   "source": []
  },
  {
   "cell_type": "markdown",
   "metadata": {},
   "source": [
    "## change_pauliword_to_Z_basis_then_measure"
   ]
  },
  {
   "cell_type": "code",
   "execution_count": 12,
   "metadata": {},
   "outputs": [],
   "source": [
    "from quchem.Qcircuit.Hamiltonian_term_measurement_functions import change_pauliword_to_Z_basis_then_measure"
   ]
  },
  {
   "cell_type": "code",
   "execution_count": 13,
   "metadata": {},
   "outputs": [
    {
     "name": "stdout",
     "output_type": "stream",
     "text": [
      "0: ───Ry(-0.5π)───M───\n",
      "                  │\n",
      "2: ───────────────M───\n",
      "                  │\n",
      "3: ───Rx(0.5π)────M───\n"
     ]
    }
   ],
   "source": [
    "x = QubitOperator('X0 Z2 Y3', 0.25j)\n",
    "change_then_measure_circ_obj = change_pauliword_to_Z_basis_then_measure(x)\n",
    "# print(cirq.Circuit((change_then_measure_circ_obj(*cirq.LineQubit.range(change_then_measure_circ_obj.num_qubits())))))\n",
    "# print('####')\n",
    "print(\n",
    "    cirq.Circuit(cirq.decompose_once((change_then_measure_circ_obj(*cirq.LineQubit.range(change_then_measure_circ_obj.num_qubits()))))))"
   ]
  }
 ],
 "metadata": {
  "kernelspec": {
   "display_name": "Python 3",
   "language": "python",
   "name": "python3"
  },
  "language_info": {
   "codemirror_mode": {
    "name": "ipython",
    "version": 3
   },
   "file_extension": ".py",
   "mimetype": "text/x-python",
   "name": "python",
   "nbconvert_exporter": "python",
   "pygments_lexer": "ipython3",
   "version": "3.8.5"
  }
 },
 "nbformat": 4,
 "nbformat_minor": 2
}
