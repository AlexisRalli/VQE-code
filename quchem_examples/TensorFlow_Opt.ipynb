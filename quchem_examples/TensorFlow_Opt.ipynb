{
 "cells": [
  {
   "cell_type": "code",
   "execution_count": 1,
   "metadata": {},
   "outputs": [],
   "source": [
    "from quchem.Hamiltonian_Generator_Functions import *\n",
    "from quchem.Graph import *\n",
    "### HAMILTONIAN start\n",
    "Molecule = 'H2'\n",
    "geometry = None\n",
    "basis = 'sto-3g'\n",
    "\n",
    "\n",
    "### Get Hamiltonian\n",
    "Hamilt = Hamiltonian(Molecule,\n",
    "                     run_scf=1, run_mp2=1, run_cisd=1, run_ccsd=1, run_fci=1,\n",
    "                     basis=basis,\n",
    "                     multiplicity=1,\n",
    "                     geometry=geometry)  # normally None!\n",
    "QubitHamiltonian = Hamilt.Get_Qubit_Hamiltonian(threshold=None, transformation='JW')\n",
    "### HAMILTONIAN end"
   ]
  },
  {
   "cell_type": "code",
   "execution_count": 2,
   "metadata": {},
   "outputs": [],
   "source": [
    "from quchem.Ansatz_Generator_Functions import *\n",
    "\n",
    "ansatz_obj = Ansatz(Hamilt.molecule.n_electrons, Hamilt.molecule.n_qubits)\n",
    "ia_terms, ijab_terms, ia_theta, ijab_theta = ansatz_obj.Get_ia_and_ijab_terms()\n",
    "\n",
    "Qubit_Op_list_Second_Quant_CC_Ops_ia, Qubit_Op_list_Second_Quant_CC_Ops_ijab = ansatz_obj.UCCSD_single_trotter_step(ia_terms,\n",
    "                                                                                                                    ijab_terms)\n",
    "\n",
    "full_ansatz_Q_Circ = Ansatz_Circuit(Qubit_Op_list_Second_Quant_CC_Ops_ia, Qubit_Op_list_Second_Quant_CC_Ops_ijab,\n",
    "             Hamilt.molecule.n_qubits, Hamilt.molecule.n_electrons)\n",
    "\n",
    "ansatz_cirq_circuit = full_ansatz_Q_Circ.Get_Full_HF_UCCSD_QC(ia_theta, ijab_theta)\n",
    "\n",
    "# print(ansatz_cirq_circuit.to_text_diagram(transpose=True)) "
   ]
  },
  {
   "cell_type": "markdown",
   "metadata": {},
   "source": [
    "# Optimizer"
   ]
  },
  {
   "cell_type": "code",
   "execution_count": 3,
   "metadata": {},
   "outputs": [],
   "source": [
    "from quchem.TensorFlow_Opt import *"
   ]
  },
  {
   "cell_type": "code",
   "execution_count": 4,
   "metadata": {},
   "outputs": [],
   "source": [
    "from quchem.Simulating_Quantum_Circuit import *"
   ]
  },
  {
   "cell_type": "code",
   "execution_count": 16,
   "metadata": {},
   "outputs": [],
   "source": [
    "n_shots=10000\n",
    "def GIVE_ENERGY(theta_ia_theta_jab_list):\n",
    "    theta_ia = theta_ia_theta_jab_list[:len(ia_theta)]\n",
    "    theta_ijab = theta_ia_theta_jab_list[len(ijab_theta):]\n",
    "    \n",
    "    ansatz_cirq_circuit = full_ansatz_Q_Circ.Get_Full_HF_UCCSD_QC(theta_ia, ijab_theta)\n",
    "\n",
    "    VQE_exp = VQE_Experiment(QubitHamiltonian, ansatz_cirq_circuit, n_shots)\n",
    "    \n",
    "\n",
    "    return VQE_exp.Calc_Energy()"
   ]
  },
  {
   "cell_type": "code",
   "execution_count": 17,
   "metadata": {},
   "outputs": [
    {
     "data": {
      "text/plain": [
       "-1.064809831334113"
      ]
     },
     "execution_count": 17,
     "metadata": {},
     "output_type": "execute_result"
    }
   ],
   "source": [
    "GIVE_ENERGY([0,0,0])"
   ]
  },
  {
   "cell_type": "markdown",
   "metadata": {},
   "source": [
    "https://arxiv.org/pdf/1906.08728.pdf\n",
    "\n",
    "$$\\frac{\\partial O(\\theta)}{\\partial \\theta}=\\left\\langle\\overrightarrow{0}\\left|\\hat{U}^{\\dagger} \\hat{R}_{y}^{C \\dagger}(\\theta+\\pi / 4) \\hat{V}^{\\dagger} \\hat{O} \\hat{V} \\hat{R}_{y}^{C}(\\theta+\\pi / 4) \\hat{U}\\right| \\overrightarrow{0}\\right\\rangle$\n",
    "$-\\left\\langle\\overrightarrow{0}\\left|\\hat{U}^{\\dagger} \\hat{R}_{y}^{C \\dagger}(\\theta-\\pi / 4) \\hat{V}^{\\dagger} \\hat{O} \\hat{V} \\hat{R}_{y}^{C}(\\theta-\\pi / 4) \\hat{U}\\right| \\overrightarrow{0}\\right\\rangle$$\n",
    "\n",
    "$$\\frac{\\partial O(\\theta)}{\\partial \\theta} =O(\\theta+\\pi / 4)-O(\\theta-\\pi / 4)$$"
   ]
  },
  {
   "cell_type": "code",
   "execution_count": 12,
   "metadata": {},
   "outputs": [],
   "source": [
    "def calc_gradient(theta_ia_theta_jab_list):\n",
    "    \n",
    "    grad_list=[]\n",
    "    \n",
    "    for index, theta in enumerate(theta_ia_theta_jab_list):\n",
    "        \n",
    "        new_theta_list = theta_ia_theta_jab_list.copy()\n",
    "        new_theta_list[index] = theta + np.pi/4\n",
    "        \n",
    "        Obs_PLUS = GIVE_ENERGY(new_theta_list)\n",
    "        \n",
    "        \n",
    "        new_theta_list[index] = theta - np.pi/4\n",
    "        Obs_MINUS = GIVE_ENERGY(new_theta_list)\n",
    "        \n",
    "        gradient = Obs_PLUS - Obs_MINUS\n",
    "        \n",
    "        grad_list.append((gradient, theta))\n",
    "        \n",
    "\n",
    "    return grad_list"
   ]
  },
  {
   "cell_type": "code",
   "execution_count": 8,
   "metadata": {},
   "outputs": [
    {
     "data": {
      "text/plain": [
       "[(-1.6218052015004476, 0), (-1.6133318169256432, 0), (-2.133201251288207, 0)]"
      ]
     },
     "execution_count": 8,
     "metadata": {},
     "output_type": "execute_result"
    }
   ],
   "source": [
    "calc_gradient([0,0,0])"
   ]
  },
  {
   "cell_type": "code",
   "execution_count": null,
   "metadata": {},
   "outputs": [],
   "source": []
  },
  {
   "cell_type": "code",
   "execution_count": 14,
   "metadata": {},
   "outputs": [
    {
     "name": "stdout",
     "output_type": "stream",
     "text": [
      "starting input: [1, 2, 3] obj funct out: -0.4014129135674518\n",
      "step 0 INPUT: [0.90000004, 2.1, 3.0999575] OUTPUT: -0.5248746249109983\n",
      "step 1 INPUT: [0.8000901, 2.2000856, 3.1763797] OUTPUT: -0.6425402641153684\n",
      "step 2 INPUT: [0.70054406, 2.2999623, 3.1938806] OUTPUT: -0.7637318028841905\n",
      "step 3 INPUT: [0.60240203, 2.399536, 3.1907122] OUTPUT: -0.8548394034940119\n",
      "step 4 INPUT: [0.5063722, 2.497981, 3.2289162] OUTPUT: -0.9147966591776825\n",
      "step 5 INPUT: [0.41424268, 2.5949886, 3.2445316] OUTPUT: -0.9511457370022478\n",
      "step 6 INPUT: [0.3289938, 2.6889133, 3.2573452] OUTPUT: -1.0199134617307737\n",
      "step 7 INPUT: [0.2514207, 2.7790952, 3.2393723] OUTPUT: -1.0204689809179863\n",
      "step 8 INPUT: [0.18082005, 2.8650193, 3.201864] OUTPUT: -1.0414039268849085\n",
      "step 9 INPUT: [0.11881952, 2.9461255, 3.1727247] OUTPUT: -1.0659264875110774\n",
      "step 10 INPUT: [0.064598724, 3.0231535, 3.143272] OUTPUT: -1.060334037590656\n",
      "step 11 INPUT: [0.01594219, 3.0951612, 3.1155903] OUTPUT: -1.0668668499544744\n",
      "step 12 INPUT: [-0.027409479, 3.1612244, 3.0865362] OUTPUT: -1.0675634152709836\n",
      "step 13 INPUT: [-0.066226095, 3.2209666, 3.0620956] OUTPUT: -1.0621008909925538\n",
      "step 14 INPUT: [-0.10072532, 3.2737389, 3.039633] OUTPUT: -1.0599903329191513\n",
      "step 15 INPUT: [-0.13042283, 3.318809, 3.0212848] OUTPUT: -1.054600776451216\n",
      "step 16 INPUT: [-0.15730853, 3.356685, 3.0063508] OUTPUT: -1.0520458522741107\n",
      "step 17 INPUT: [-0.18124336, 3.386997, 2.9870653] OUTPUT: -1.046865194182556\n",
      "step 18 INPUT: [-0.20274043, 3.4110382, 2.95604] OUTPUT: -1.056386612106574\n",
      "step 19 INPUT: [-0.22078164, 3.4281435, 2.916948] OUTPUT: -1.0433090879832048\n",
      "step 20 INPUT: [-0.23466279, 3.4397364, 2.886039] OUTPUT: -1.0481845859241592\n",
      "step 21 INPUT: [-0.24455298, 3.445078, 2.857271] OUTPUT: -1.0392417735690676\n",
      "step 22 INPUT: [-0.25256908, 3.4457438, 2.8270724] OUTPUT: -1.0372384822745386\n",
      "step 23 INPUT: [-0.25851867, 3.4404137, 2.8009002] OUTPUT: -1.0486344163379242\n",
      "step 24 INPUT: [-0.2613392, 3.4303207, 2.7860837] OUTPUT: -1.0389009547073678\n",
      "step 25 INPUT: [-0.25975412, 3.4160562, 2.7661347] OUTPUT: -1.043667069987911\n",
      "step 26 INPUT: [-0.25412592, 3.3999798, 2.757692] OUTPUT: -1.047259020796781\n",
      "step 27 INPUT: [-0.2442661, 3.3830445, 2.7539525] OUTPUT: -1.0427874481543284\n",
      "step 28 INPUT: [-0.23259348, 3.3635483, 2.7519112] OUTPUT: -1.0459985350860919\n",
      "step 29 INPUT: [-0.21787263, 3.342655, 2.7501218] OUTPUT: -1.0462500281131237\n",
      "step 30 INPUT: [-0.20206186, 3.3203163, 2.744071] OUTPUT: -1.0657119836178015\n",
      "step 31 INPUT: [-0.18378924, 3.2994735, 2.7380424] OUTPUT: -1.0568574782336637\n",
      "step 32 INPUT: [-0.16444728, 3.280141, 2.7297976] OUTPUT: -1.061055891628445\n",
      "step 33 INPUT: [-0.14269689, 3.2621403, 2.7238443] OUTPUT: -1.0546329820264433\n",
      "step 34 INPUT: [-0.12054747, 3.2451966, 2.7128465] OUTPUT: -1.064491690003321\n",
      "step 35 INPUT: [-0.09922822, 3.2287674, 2.6997626] OUTPUT: -1.0680255692782448\n",
      "step 36 INPUT: [-0.07737925, 3.2139134, 2.686855] OUTPUT: -1.0683923273064784\n",
      "step 37 INPUT: [-0.056623943, 3.201467, 2.6694312] OUTPUT: -1.0658095455832324\n",
      "step 38 INPUT: [-0.037413284, 3.1907768, 2.6533136] OUTPUT: -1.068059878931541\n",
      "step 39 INPUT: [-0.020459969, 3.1801126, 2.6386285] OUTPUT: -1.0631559320832003\n",
      "step 40 INPUT: [-0.006506211, 3.1691139, 2.627632] OUTPUT: -1.0710965856596086\n",
      "step 41 INPUT: [0.005295583, 3.1583939, 2.6094165] OUTPUT: -1.06707693459664\n",
      "step 42 INPUT: [0.0164196, 3.14679, 2.584726] OUTPUT: -1.0687296257673358\n",
      "step 43 INPUT: [0.02560815, 3.1341329, 2.565198] OUTPUT: -1.0703039504354592\n",
      "step 44 INPUT: [0.035180025, 3.1222894, 2.5448673] OUTPUT: -1.0675728761904273\n",
      "step 45 INPUT: [0.04070277, 3.1107311, 2.5320377] OUTPUT: -1.0637791576938582\n",
      "step 46 INPUT: [0.044194527, 3.1002648, 2.5105264] OUTPUT: -1.068444648583607\n",
      "step 47 INPUT: [0.046799093, 3.0913546, 2.4929345] OUTPUT: -1.0714880512433211\n",
      "step 48 INPUT: [0.049146943, 3.0842965, 2.4760208] OUTPUT: -1.0698769797105583\n",
      "step 49 INPUT: [0.050120752, 3.0782022, 2.464517] OUTPUT: -1.061264018892741\n"
     ]
    },
    {
     "data": {
      "image/png": "[encoded data removed]",
      "text/plain": [
       "<Figure size 432x288 with 1 Axes>"
      ]
     },
     "metadata": {
      "needs_background": "light"
     },
     "output_type": "display_data"
    }
   ],
   "source": [
    "X0 = [1,2,3]\n",
    "\n",
    "GG = Tensor_Flow_Optimizer(GIVE_ENERGY, X0, 'Adam', calc_gradient, learning_rate=0.1, beta1=0.9,\n",
    "                            beta2=0.999, store_values=True, display_iter_steps=True)\n",
    "GG.optimize(50)\n",
    "GG.plot_convergence()"
   ]
  },
  {
   "cell_type": "code",
   "execution_count": 26,
   "metadata": {},
   "outputs": [
    {
     "data": {
      "text/plain": [
       "5.425764513301647"
      ]
     },
     "execution_count": 26,
     "metadata": {},
     "output_type": "execute_result"
    }
   ],
   "source": []
  },
  {
   "cell_type": "code",
   "execution_count": 27,
   "metadata": {},
   "outputs": [
    {
     "name": "stdout",
     "output_type": "stream",
     "text": [
      "starting input: [3.5540698960792674, 3.625044814361125, 3.143509154137473] obj funct out: -0.7494834107272237\n",
      "step 0 INPUT: [3.45407, 3.525045, 3.243498] OUTPUT: -0.8655383184991456\n",
      "step 1 INPUT: [3.3545754, 3.425454, 3.331979] OUTPUT: -0.9557547262182786\n",
      "step 2 INPUT: [3.2572565, 3.3273537, 3.3276253] OUTPUT: -1.0215176195307907\n",
      "step 3 INPUT: [3.1643717, 3.233597, 3.3173583] OUTPUT: -1.0611429164035633\n",
      "step 4 INPUT: [3.081152, 3.1482759, 3.296056] OUTPUT: -1.066294280409708\n",
      "step 5 INPUT: [3.0126412, 3.0770645, 3.277439] OUTPUT: -1.049208813910159\n",
      "step 6 INPUT: [2.9634037, 3.0241406, 3.2726765] OUTPUT: -1.0298147316050799\n",
      "step 7 INPUT: [2.9344053, 2.9917479, 3.2895293] OUTPUT: -1.0076375674623474\n",
      "step 8 INPUT: [2.9247823, 2.9787025, 3.2675612] OUTPUT: -0.9997477814616514\n",
      "step 9 INPUT: [2.9311922, 2.9816298, 3.2824047] OUTPUT: -1.0052353324947758\n",
      "step 10 INPUT: [2.949996, 2.99754, 3.2843578] OUTPUT: -1.0156598788242797\n",
      "step 11 INPUT: [2.9787152, 3.0232363, 3.2985194] OUTPUT: -1.0286914524087087\n",
      "step 12 INPUT: [3.0141573, 3.0557492, 3.2994828] OUTPUT: -1.0465559931451258\n",
      "step 13 INPUT: [3.0534902, 3.0919538, 3.3090765] OUTPUT: -1.0562693267384693\n",
      "step 14 INPUT: [3.0940514, 3.12947, 3.3174424] OUTPUT: -1.0636252590971091\n",
      "step 15 INPUT: [3.133263, 3.165769, 3.3306084] OUTPUT: -1.0652609610360642\n",
      "step 16 INPUT: [3.1682205, 3.1982696, 3.34244] OUTPUT: -1.0645861409316413\n",
      "step 17 INPUT: [3.1966977, 3.2246017, 3.3547149] OUTPUT: -1.0555738182412495\n",
      "step 18 INPUT: [3.2176557, 3.2429342, 3.3659453] OUTPUT: -1.0527629716239233\n",
      "step 19 INPUT: [3.2302628, 3.252625, 3.3771946] OUTPUT: -1.049136847427456\n",
      "step 20 INPUT: [3.2338612, 3.253519, 3.3719494] OUTPUT: -1.0475554723484013\n",
      "step 21 INPUT: [3.2298133, 3.2466037, 3.3674655] OUTPUT: -1.0493408488572538\n",
      "step 22 INPUT: [3.2192066, 3.232992, 3.3584733] OUTPUT: -1.0528398403084558\n",
      "step 23 INPUT: [3.2037532, 3.2141433, 3.355043] OUTPUT: -1.0568916793807968\n",
      "step 24 INPUT: [3.1849184, 3.1915903, 3.3504174] OUTPUT: -1.0611386779984018\n",
      "step 25 INPUT: [3.164631, 3.1676416, 3.3512564] OUTPUT: -1.065296889550291\n",
      "step 26 INPUT: [3.1448045, 3.1434906, 3.3587315] OUTPUT: -1.0659398104387015\n",
      "step 27 INPUT: [3.1261985, 3.1210876, 3.3584254] OUTPUT: -1.0640699367205944\n",
      "step 28 INPUT: [3.1106958, 3.1019194, 3.3677096] OUTPUT: -1.0643338975942422\n",
      "step 29 INPUT: [3.0993667, 3.087164, 3.3802314] OUTPUT: -1.061282048282133\n",
      "step 30 INPUT: [3.0927277, 3.0780082, 3.3986487] OUTPUT: -1.0592373092893148\n",
      "step 31 INPUT: [3.0913599, 3.0743978, 3.420209] OUTPUT: -1.0595122309054115\n",
      "step 32 INPUT: [3.0946987, 3.0761724, 3.442496] OUTPUT: -1.0620459335819405\n",
      "step 33 INPUT: [3.1023848, 3.0829856, 3.4496248] OUTPUT: -1.0610882995591753\n",
      "step 34 INPUT: [3.1131139, 3.0930524, 3.454869] OUTPUT: -1.0632247208458492\n",
      "step 35 INPUT: [3.1261058, 3.1054316, 3.4617476] OUTPUT: -1.066579452534985\n",
      "step 36 INPUT: [3.1399066, 3.1194732, 3.4627795] OUTPUT: -1.0670787178334056\n",
      "step 37 INPUT: [3.153142, 3.1331546, 3.4649012] OUTPUT: -1.0651038177255674\n",
      "step 38 INPUT: [3.1643217, 3.1455908, 3.4755394] OUTPUT: -1.0664196345041195\n",
      "step 39 INPUT: [3.1736078, 3.1559312, 3.4884105] OUTPUT: -1.064680308546372\n",
      "step 40 INPUT: [3.1800385, 3.163546, 3.5073884] OUTPUT: -1.0645258482133813\n",
      "step 41 INPUT: [3.183313, 3.1681724, 3.5331945] OUTPUT: -1.062766339210932\n",
      "step 42 INPUT: [3.1832252, 3.1690874, 3.5751781] OUTPUT: -1.063276347520977\n",
      "step 43 INPUT: [3.1796265, 3.1665761, 3.6137207] OUTPUT: -1.0647248546362824\n",
      "step 44 INPUT: [3.1731188, 3.1616278, 3.6481044] OUTPUT: -1.0658485618314075\n",
      "step 45 INPUT: [3.1646307, 3.1546004, 3.6791482] OUTPUT: -1.0663055101644725\n",
      "step 46 INPUT: [3.155246, 3.1460392, 3.7074957] OUTPUT: -1.064624167132686\n",
      "step 47 INPUT: [3.146025, 3.1377394, 3.728011] OUTPUT: -1.0645638431047189\n",
      "step 48 INPUT: [3.1369796, 3.130334, 3.745835] OUTPUT: -1.0667888015080387\n",
      "step 49 INPUT: [3.1292293, 3.1244493, 3.7727644] OUTPUT: -1.066767943485297\n"
     ]
    },
    {
     "data": {
      "image/png": "[encoded data removed]",
      "text/plain": [
       "<Figure size 432x288 with 1 Axes>"
      ]
     },
     "metadata": {
      "needs_background": "light"
     },
     "output_type": "display_data"
    }
   ],
   "source": [
    "import random\n",
    "X0 = [random.uniform(0, 2*np.pi) for _ in range(3)]\n",
    "# X0 = [2.374, 1.437, 1.163]\n",
    "\n",
    "GG = Tensor_Flow_Optimizer(GIVE_ENERGY, X0, 'Adam', calc_gradient, learning_rate=0.1, beta1=0.9,\n",
    "                            beta2=0.999, store_values=True, display_iter_steps=True)\n",
    "GG.optimize(50)\n",
    "GG.plot_convergence()"
   ]
  }
 ],
 "metadata": {
  "kernelspec": {
   "display_name": "Python 3",
   "language": "python",
   "name": "python3"
  },
  "language_info": {
   "codemirror_mode": {
    "name": "ipython",
    "version": 3
   },
   "file_extension": ".py",
   "mimetype": "text/x-python",
   "name": "python",
   "nbconvert_exporter": "python",
   "pygments_lexer": "ipython3",
   "version": "3.7.6"
  }
 },
 "nbformat": 4,
 "nbformat_minor": 4
}
