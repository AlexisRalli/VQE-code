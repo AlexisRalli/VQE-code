{
 "cells": [
  {
   "cell_type": "code",
   "execution_count": 1,
   "metadata": {},
   "outputs": [
    {
     "name": "stderr",
     "output_type": "stream",
     "text": [
      "Building Graph Edges: 100%|##########| 15/15 [00:00<00:00, 1738.12it/s]\n"
     ]
    },
    {
     "data": {
      "text/plain": [
       "{0: [(0.1686889816869329+0j) [Z0 Z1]],\n",
       " 1: [(0.12062523481381837+0j) [Z0 Z2]],\n",
       " 2: [(0.12062523481381837+0j) [Z1 Z3]],\n",
       " 3: [(0.16592785032250768+0j) [Z0 Z3]],\n",
       " 4: [(0.16592785032250768+0j) [Z1 Z2]],\n",
       " 5: [(0.174412876106516+0j) [Z2 Z3]],\n",
       " 6: [(-0.09706626861762624+0j) []],\n",
       " 7: [(0.17141282639402405+0j) [Z0], (-0.04530261550868928+0j) [X0 X1 Y2 Y3]],\n",
       " 8: [(0.04530261550868928+0j) [X0 Y1 Y2 X3], (0.171412826394024+0j) [Z1]],\n",
       " 9: [(0.04530261550868928+0j) [Y0 X1 X2 Y3], (-0.2234315367466397+0j) [Z2]],\n",
       " 10: [(-0.2234315367466397+0j) [Z3], (-0.04530261550868928+0j) [Y0 Y1 X2 X3]]}"
      ]
     },
     "execution_count": 1,
     "metadata": {},
     "output_type": "execute_result"
    }
   ],
   "source": [
    "from quchem.Hamiltonian_Generator_Functions import *\n",
    "from quchem.Graph import *\n",
    "### HAMILTONIAN start\n",
    "Molecule = 'H2'#'LiH'\n",
    "geometry = [('H', (0., 0., 0.)), ('H', (0., 0., 0.74))]#[('Li', (0., 0., 0.)), ('H', (0., 0., 1.45))]\n",
    "num_shots = 10000\n",
    "basis = 'sto-3g'\n",
    "\n",
    "\n",
    "### Get Hamiltonian\n",
    "Hamilt = Hamiltonian(Molecule,\n",
    "                     run_scf=1, run_mp2=1, run_cisd=1, run_ccsd=1, run_fci=1,\n",
    "                     basis=basis,\n",
    "                     multiplicity=1,\n",
    "                     geometry=geometry)  # normally None!\n",
    "QubitHamiltonian = Hamilt.Get_Qubit_Hamiltonian(threshold=None, transformation='JW')\n",
    "### HAMILTONIAN end\n",
    "\n",
    "#####################################\n",
    "\n",
    "Hamiltonian_graph_obj = Openfermion_Hamiltonian_Graph(QubitHamiltonian)\n",
    "\n",
    "commutativity_flag = 'AC' ## <- defines relationship between sets!!!\n",
    "plot_graph = False\n",
    "Graph_colouring_strategy='largest_first'\n",
    "anti_commuting_sets = Hamiltonian_graph_obj.Get_Clique_Cover_as_QubitOp(commutativity_flag, Graph_colouring_strategy=Graph_colouring_strategy, plot_graph=plot_graph)\n",
    "anti_commuting_sets"
   ]
  },
  {
   "cell_type": "markdown",
   "metadata": {},
   "source": [
    "The Hamiltonian is a sum of $m$ PauliWords:\n",
    "\n",
    "$$H=\\sum_{j=0}^{m-1} \\alpha_{j} P_{j}$$\n",
    "\n",
    "In this there are $l$ completely anti-commuting sets, denoted as $H_{S_{l}}$:\n",
    "\n",
    "\n",
    "$$H =\\sum_{l} H_{S_{l}}$$\n",
    "\n",
    "where each anti-commuting set is defined as:\n",
    "\n",
    "$$H_{S_{l}}=\\sum_{P_{j} \\in S_{l}} \\alpha_{j} P_{j}$$\n",
    "\n",
    "where:\n",
    "- $\\left\\{P_{j}, P_{k}\\right\\}=0$ for $\\forall P_{j} \\neq P_{k} \\in S_{l}$\n",
    "\n",
    "\n",
    "We want **want** the sum of the squares of the cofactors to be 1:\n",
    "\n",
    "$$H_{S_{l}}=\\sum_{P_{j} \\in S_{l}} \\alpha_{j} P_{j}=\\gamma_{l} \\sum_{P_{j} \\in S_{l}} \\beta_{j} P_{j}$$\n",
    "\n",
    "- aka: $\\sum_{j} \\beta_{j}^{2}=1$\n",
    "- and $\\gamma_{l}$ is the correction factor: $\\alpha_{j} =  \\gamma_{l} \\beta_{j}$\n",
    "\n",
    "SO overall we can turn our Hamiltonian into $l$ anti_commutings sets as:\n",
    "\n",
    "$$H=\\sum_{l} H_{S_{l}} = \\sum_{l} \\sum_{\\substack{j=0 \\\\  P_{j} \\in S_{l}}}^{|S_{l}|-1} \\alpha_{j} P_{j}= \\sum_{l} \\gamma_{l} \\sum_{\\substack{j=0 \\\\  P_{j} \\in S_{l}}}^{|S_{l}|-1} \\beta_{j} P_{j}$$"
   ]
  },
  {
   "cell_type": "code",
   "execution_count": null,
   "metadata": {},
   "outputs": [],
   "source": []
  },
  {
   "cell_type": "markdown",
   "metadata": {},
   "source": [
    "We will focus on looking at just one anti-commuting set\n",
    "\n",
    "$$H_{S_{l}}=\\sum_{P_{j} \\in S_{l}} \\alpha_{j} P_{j}=\\gamma_{l} \\sum_{P_{j} \\in S_{l}} \\beta_{j} P_{j}$$"
   ]
  },
  {
   "cell_type": "markdown",
   "metadata": {},
   "source": [
    "////////////////"
   ]
  },
  {
   "cell_type": "markdown",
   "metadata": {},
   "source": [
    "1. re-write set $H_{S_{l}}$ ($=\\gamma_{l} \\sum_{P_{j} \\in S_{l}} \\beta_{j} P_{j}$) with $\\beta_{n} P_{n}$ outside sum :\n",
    "\n",
    "\n",
    "$$H_{S_{l}}= \\gamma_{l} \\beta_{n} P_{n} +  \\gamma_{l} \\sum_{\\substack{j \\neq n \\\\  P_{j} \\in S_{l}}}^{|S_{l}|-1} \\beta_{j} P_{j}$$\n",
    "\n",
    "- $\\sum_{j} \\beta_{j}^{2}=1$\n",
    "- $\\alpha_{j} =  \\gamma_{l} \\beta_{j}$\n",
    "\n",
    "$$\\frac{H_{S_{l}}}{\\gamma_{l}}=  \\beta_{n} P_{n} +  \\sum_{\\substack{j \\neq n \\\\  P_{j} \\in S_{l}}}^{|S_{l}|-1} \\beta_{j} P_{j}$$\n",
    "\n",
    "\n",
    "2. The definition of $H_{n-1}$ is:\n",
    "\n",
    "$$H_{n-1}=\\sum_{k=1}^{n-1} \\delta_{k} P_{k}$$\n",
    "\n",
    "where: $\\sum_{k=1}^{n-1} \\delta_{k}^{2}=1$\n",
    "\n",
    "therefore using what we obtained in step 1:\n",
    "\n",
    "$$\\frac{H_{S_{l}}}{\\gamma_{l}}=  \\beta_{n} P_{n} +  \\Omega_{l} \\sum_{\\substack{j \\neq n \\\\  P_{j} \\in S_{l}}}^{|S_{l}|-1} \\delta_{j} P_{j}$$\n",
    "\n",
    "where:\n",
    "- $\\sum_{j} \\delta_{j}^{2}=1$\n",
    "- $\\beta_{j} =  \\Omega_{l} \\delta_{j}$\n",
    "\n",
    "\n",
    "3.\n",
    "\n",
    "$$\\frac{H_{S_{l}}}{\\gamma_{l}}=  \\beta_{n} P_{n} +  \\Omega_{l} H_{n-1}$$"
   ]
  },
  {
   "cell_type": "markdown",
   "metadata": {},
   "source": [
    "$H_{n}$ is defined as:\n",
    "\n",
    "$$H_{n}=\\cos \\phi_{n-1} P_{n}+\\sin \\phi_{n-1} H_{n-1}$$"
   ]
  },
  {
   "cell_type": "markdown",
   "metadata": {},
   "source": [
    "Using what we have from step 3:\n",
    "\n",
    "$$\\cos \\phi_{n-1}= {\\beta_{n}} $$\n",
    "\n",
    "OR\n",
    "\n",
    "$$\\sin \\phi_{n-1}= {\\Omega_{l}} $$\n",
    "\n",
    "**important!** the choice of $\\phi_{n-1}$ is determined by the sign of $\\beta_{n}$ and $\\Omega_{l}$. As $\\Omega_{l}$ is **ALWAYS** positive, $\\phi_{n-1}$ is always $\\leq \\pi$... therefore IF $\\arccos(\\beta_{n}) > \\pi$ THEN $\\phi_{n-1}= 2\\pi - \\arccos(\\beta_{n})$\n",
    "\n",
    "(selects the correct quadrant for sine and cosine!)"
   ]
  },
  {
   "cell_type": "markdown",
   "metadata": {},
   "source": [
    "## Step 1 getting X"
   ]
  },
  {
   "cell_type": "markdown",
   "metadata": {},
   "source": [
    "$\\mathcal{X}$ is defined as:\n",
    "\n",
    "$$\\begin{aligned} \\mathcal{X} &=\\frac{i}{2}\\left[H_{n-1}, P_{n}\\right] \\\\ &=\\frac{i}{2} \\sum_{k=1}^{n-1} \\delta_{k}\\left[P_{k}, P_{n}\\right] \\\\ &=i \\sum_{k=1}^{n-1} \\delta_{k} P_{k} P_{n} \\\\ &=i \\sum_{k=1}^{n-1} \\delta_{k} P_{kn} \\end{aligned}$$\n",
    "\n",
    "where:\n",
    "- $H_{n-1}=\\sum_{k=1}^{n-1} \\delta_{k} P_{k}$\n",
    "- $\\sum_{k=1}^{n-1} \\delta_{k}^{2}=1$"
   ]
  },
  {
   "cell_type": "code",
   "execution_count": null,
   "metadata": {},
   "outputs": [],
   "source": []
  },
  {
   "cell_type": "markdown",
   "metadata": {},
   "source": [
    "### note this must also be consistent"
   ]
  },
  {
   "cell_type": "markdown",
   "metadata": {},
   "source": [
    "$$H_{n}= \\sin \\phi_{n-1} H_{n-1} + \\cos \\phi_{n-1} P_{n}$$"
   ]
  },
  {
   "cell_type": "markdown",
   "metadata": {},
   "source": [
    "Now $\\mathcal{X}$ acts on $H_{n}$ as follows:\n",
    "\n",
    "$$\\mathcal{X} H_{n}=i\\left(-\\sin \\phi_{n-1} P_{n}+\\cos \\phi_{n-1} H_{n-1}\\right)$$\n",
    "\n",
    "where:\n",
    "- $H_{n}=\\sin \\phi_{n-1} H_{n-1}+\\cos \\phi_{n-1} P_{n}$\n",
    "\n",
    "remember:\n",
    "\n",
    "- $H_{n}=\\frac{H_{S}}{\\gamma_{l}}= \\beta_{n} P_{n} + \\Omega_{l} H_{n-1}$... which defines what $\\phi_{n-1}$ is!\n",
    "\n",
    "\n",
    "We let:\n",
    "$$R=\\exp (-i \\alpha \\mathcal{X} / 2)=\\cos (\\alpha / 2) \\mathbb{1}-i \\sin (\\alpha / 2) \\mathcal{X}$$\n",
    "\n",
    "then the following:\n",
    "$$R H_{n} R^{\\dagger}=\\sin \\left(\\phi_{n-1}-\\alpha\\right) H_{n-1}+\\cos \\left(\\phi_{n-1}-\\alpha\\right) P_{n}$$\n",
    "\n",
    "by **choosing**: $\\alpha=\\phi_{n-1}$\n",
    "we get:\n",
    "\n",
    "$$R H_{n} R^{\\dagger}=P_{n}$$\n",
    "\n",
    "- note $\\alpha = arccos(\\beta_{n})$ \n",
    "\n",
    "overall we want **$$ H_{n} = R^{\\dagger} P_{n} R$$**"
   ]
  },
  {
   "cell_type": "code",
   "execution_count": null,
   "metadata": {},
   "outputs": [],
   "source": []
  },
  {
   "cell_type": "markdown",
   "metadata": {},
   "source": [
    "To do this via a **quantum circuit** we do the following:\n",
    "\n",
    "$$ \\langle H_{n}\\rangle =  \\langle \\psi_{UCCSD}|R^{\\dagger} P_{n} R |\\psi_{UCCSD}\\rangle = M_{z} U_{n}R|\\psi_{UCCSD}\\rangle$$ \n",
    "\n",
    "where:\n",
    "- $ U_{n}$ is a change of basis of $P_{n}$ to $Z$ basis for measurement!\n",
    "- $M_{z}$ is a measurement in $Z$ basis resuliting in: $ \\langle \\psi_{UCCSD}|R^{\\dagger} U_{n}^{\\dagger} M_{z}^{\\dagger} M_{z} U_{n}R|\\psi_{UCCSD}\\rangle$\n"
   ]
  },
  {
   "cell_type": "code",
   "execution_count": null,
   "metadata": {},
   "outputs": [],
   "source": []
  },
  {
   "cell_type": "markdown",
   "metadata": {},
   "source": [
    "NOW!\n",
    "let us take a closer look at:\n",
    "$$R=\\exp (-i \\alpha \\mathcal{X} / 2)=\\cos (\\alpha / 2) \\mathbb{1}-i \\sin (\\alpha / 2) \\mathcal{X}$$\n",
    "\n",
    "this is just a **LINEAR COMBINATION OF PAULIWORDS!**\n",
    "\n",
    "- $\\mathcal{X}=i \\sum_{k=0}^{n-1} \\delta_{k} P_{kn}$ (index starts at 0 with identity term included!)\n",
    "\n",
    "$$R=\\exp (-i \\alpha \\mathcal{X} / 2)=\\cos (\\alpha / 2) \\mathbb{1}-i \\sin (\\alpha / 2) \\bigg( i \\sum_{k=1}^{n-1} \\delta_{k} P_{kn}\\bigg)$$\n",
    "\n",
    "my code has $\\bigg( i \\sum_{k=1}^{n-1} \\delta_{k} P_{kn}\\bigg)$ in code!\n",
    "\n",
    "(could simplify too: [not doing atm])\n",
    "$$R=\\exp (-i \\alpha \\mathcal{X} / 2)=\\cos (\\alpha / 2) \\mathbb{1}+ \\sin (\\alpha / 2) \\bigg( \\sum_{k=1}^{n-1} \\delta_{k} P_{kn}\\bigg)$$"
   ]
  },
  {
   "cell_type": "code",
   "execution_count": null,
   "metadata": {},
   "outputs": [],
   "source": []
  },
  {
   "cell_type": "markdown",
   "metadata": {},
   "source": [
    "## checking:\n",
    "We let:\n",
    "$$R=\\exp (-i \\alpha \\mathcal{X} / 2)=\\cos (\\alpha / 2) \\mathbb{1}-i \\sin (\\alpha / 2) \\mathcal{X}$$\n",
    "\n",
    "then the following:\n",
    "$$R H_{n} R^{\\dagger}=\\sin \\left(\\phi_{n-1}-\\alpha\\right) H_{n-1}+\\cos \\left(\\phi_{n-1}-\\alpha\\right) P_{n}$$\n",
    "\n",
    "by **choosing**: $\\alpha=\\phi_{n-1}$\n",
    "we get:\n",
    "\n",
    "$$R H_{n} R^{\\dagger}=P_{n}$$\n",
    "\n",
    "- note $\\alpha = arccos(\\beta_{n})$ \n",
    "\n",
    "overall we want **$$ H_{n} = R^{\\dagger} P_{n} R$$**"
   ]
  },
  {
   "cell_type": "code",
   "execution_count": 2,
   "metadata": {},
   "outputs": [],
   "source": [
    "from quchem.LCU_method import *"
   ]
  },
  {
   "cell_type": "code",
   "execution_count": 3,
   "metadata": {},
   "outputs": [
    {
     "name": "stdout",
     "output_type": "stream",
     "text": [
      "Pn= R*H_n*R_dag \n",
      "Pn= 1 [Z0]\n",
      "R*H_n*R_dag =  (0.9999999999999998+0j) [Z0]\n"
     ]
    },
    {
     "data": {
      "text/plain": [
       "([(0.9916664584650366+0j) [], (-0-0.12883180956352255j) [Y0 X1 Y2 Y3]],\n",
       " 1 [Z0],\n",
       " (0.17729829109248618+0j))"
      ]
     },
     "execution_count": 3,
     "metadata": {},
     "output_type": "execute_result"
    }
   ],
   "source": [
    "set_index=7\n",
    "N_index=0\n",
    "\n",
    "Get_R_op_list(anti_commuting_sets[set_index], N_index, check_operator=True)"
   ]
  },
  {
   "cell_type": "markdown",
   "metadata": {},
   "source": [
    "## linear combination of unitaries method!"
   ]
  },
  {
   "cell_type": "markdown",
   "metadata": {},
   "source": [
    "https://arxiv.org/pdf/1610.06546.pdf\n",
    "\n",
    "- for any operator $\\hat{O}$ that is a sum of **unitary** operators $\\hat{U}_{j}$:\n",
    "\n",
    "$$\\hat{O}=\\sum_{j=1}^{d} \\alpha_{j} \\hat{U}_{j}$$\n",
    "\n",
    "- where $\\|\\hat{O}\\| \\leq\\|\\vec{\\alpha}\\|_{1}=\\sum_{j=1}^{d}\\left|\\alpha_{j}\\right|$\n",
    "\n",
    "and\n",
    "\n",
    "- **IMPORTANT** $\\forall \\alpha_{j}$ we have  $\\alpha_{j} \\geq 0$ AKA absorbing complex phases into $\\hat{U}_{j}$\n",
    "\n",
    "If we define the following:\n",
    "\n",
    "$$\\hat{U}=\\sum_{j=1}^{d}|j\\rangle\\left\\langle\\left. j\\right|_{a} \\otimes \\hat{U}_{j}\\right.$$\n",
    "\n",
    "$$\\hat{G}=\\sum_{j=0}^{d-1} \\sqrt{\\frac{\\alpha_{j}}{\\|\\vec{\\alpha}\\|_{1}}} |j\\rangle  \\langle 0|_{a} + \\ldots.$$\n",
    "\n",
    "The most important factor about the matrix $\\hat{G}$, is the coefficients $\\alpha_{j}$ only define the first column of the matrix, (resulting in  $\\hat{G}|0\\rangle_{a} \\mapsto |G\\rangle_{a}$) the rest of the columns in $\\hat{G}$ must be orthogonal, but can have any values - hence there is a freedom of choice when defining $\\hat{G}$. \n",
    "\n",
    "A **practical note** on this is if one finds a quantum circuit that performs $|0\\rangle_{a} \\mapsto |G\\rangle_{a}$, then its action on other basis states will automatically be accounted for and $\\hat{G}$ is completely defined (provided the quantum circuit is composed as a product of unitaries).\n",
    "\n",
    "We have:\n",
    "\n",
    "$$\\hat{U} \\hat{G}|0\\rangle_{a}|\\psi\\rangle_{s} = \\frac{\\hat{U}}{\\sqrt{\\|\\vec{\\alpha}\\|_{1}}} |G\\rangle_{a}|\\psi\\rangle_{s}$$\n",
    "\n",
    "This results in:\n",
    "\n",
    "$$\\hat{U}|G\\rangle_{a}|\\psi\\rangle_{s}=|G\\rangle_{a} \\hat{O}|\\psi\\rangle_{s}+\\sqrt{1-\\| \\hat{O}|\\psi\\rangle \\|^{2}}\\left|G_{\\psi}^{\\perp}\\right\\rangle_{a s}$$\n",
    "\n",
    "overall:\n",
    "\n",
    "$$\\frac{\\hat{U}}{\\sqrt{\\|\\vec{\\alpha}\\|_{1}}}|G\\rangle_{a}|\\psi\\rangle_{s}= |G\\rangle_{a} \\frac{\\hat{O}}{\\sqrt{\\|\\vec{\\alpha}\\|_{1}}}|\\psi\\rangle_{s}+\\sqrt{1-\\| \\frac{\\hat{O}}{\\sqrt{\\|\\vec{\\alpha}\\|_{1}}}|\\psi\\rangle \\|^{2}}\\left|G_{\\psi}^{\\perp}\\right\\rangle_{a s}$$\n",
    "\n",
    "\n",
    "THEN finally application of $\\hat{G}^{\\dagger}$:\n",
    "\n",
    "\n",
    "$$\\hat{G}^{\\dagger} \\bigg( |G\\rangle_{a} \\frac{\\hat{O}}{\\sqrt{\\|\\vec{\\alpha}\\|_{1}}}|\\psi\\rangle_{s}+\\sqrt{1-\\| \\frac{\\hat{O}}{\\sqrt{\\|\\vec{\\alpha}\\|_{1}}}|\\psi\\rangle \\|^{2}}\\left|G_{\\psi}^{\\perp}\\right\\rangle_{a s} \\bigg) \\mapsto  |0\\rangle_{a} \\frac{\\hat{O}}{\\sqrt{\\|\\vec{\\alpha}\\|_{1}}} \\frac{1}{\\sqrt{\\|\\vec{\\alpha}\\|_{1}}} |\\psi\\rangle_{s}+ unknown \\: ortho \\: state$$\n",
    "\n",
    "\n",
    "Hence measuring $|0\\rangle_{a}$ results in:\n",
    "\n",
    "$$|0\\rangle_{a} \\frac{\\hat{O}}{\\sqrt{\\|\\vec{\\alpha}\\|_{1}}} \\frac{1}{\\sqrt{\\|\\vec{\\alpha}\\|_{1}}} |\\psi\\rangle_{s} = \\frac{\\hat{O}}{\\|\\vec{\\alpha}\\|_{1}}|\\psi\\rangle_{s}$$\n",
    "\n",
    "\n",
    "- the measurement succeed with probability: $\\| \\hat{O}|\\psi\\rangle \\|^{2}$\n",
    "    - and $\\hat{U}|G\\rangle_{a}|\\psi\\rangle_{s}$ is **projected** onto $\\frac{|G\\rangle_{a} \\hat{O}|\\psi\\rangle_{s}}{\\| \\hat{O}|\\psi\\rangle \\|}$\n",
    "\n",
    "- and fails if it goes onto orthogonal complement : $|G_{\\psi}^{\\perp}\\rangle_{a s} = |G^{\\perp}\\rangle_{a}|\\psi\\rangle_{s}$\n",
    "\n",
    "\n",
    "NOTE:\n",
    "as **probabilities are bounded by 1** the operator $\\hat{O}$ must have spectral norm $\\|\\hat{O}\\|_{2} \\leq 1$\n",
    "\n",
    "- note spectral norm same as $l_{2}$ norm of matrix\n"
   ]
  },
  {
   "cell_type": "markdown",
   "metadata": {},
   "source": [
    "aka we are implementing R:\n",
    "\n",
    "$$R=\\exp (-i \\alpha \\mathcal{X} / 2)=\\cos (\\alpha / 2) \\mathbb{1}-i \\sin (\\alpha / 2) \\bigg( i \\sum_{k=1}^{n-1} \\delta_{k} P_{kn}\\bigg)$$\n"
   ]
  },
  {
   "cell_type": "markdown",
   "metadata": {},
   "source": [
    "note:\n",
    "- $\\|A\\|_{1}=\\max _{1 \\leq j \\leq n} \\sum_{i=1}^{m}\\left|a_{i j}\\right|$\n",
    "- $\\|A\\|_{2}=\\sigma_{\\max }(A) \\leq\\|A\\|_{\\mathrm{F}}=\\left(\\sum_{i=1}^{m} \\sum_{j=1}^{n}\\left|a_{i j}\\right|^{2}\\right)^{\\frac{1}{2}}$\n",
    "\n",
    "example:\n",
    "\n",
    "$A=\\left[\\begin{array}{ccc}-3 & 5 & 7 \\\\ 2 & 6 & 4 \\\\ 0 & 2 & 8\\end{array}\\right]$\n",
    "\n",
    "$\\|A\\|_{1}=\\max (|-3|+2+0 ; 5+6+2 ; 7+4+8)=\\max (5,13,19)=19$\n",
    "\n",
    "$\\|A\\|_{2} \\leq \\|A\\|_{F}= \\sqrt{|-3|^{2}+|2|^{2}+|0|^{2}+|5|^{2}+|6|^{2}+|2|^{2} +|7|^{2}+|4|^{2} +|8|^{2}}=\\sqrt{207}=14.39$"
   ]
  },
  {
   "cell_type": "code",
   "execution_count": 4,
   "metadata": {},
   "outputs": [],
   "source": [
    "# A = np.array([[-3,5,7],\n",
    "#          [2,6,4],\n",
    "#          [0,2,8]])\n",
    "\n",
    "# # np.dot(A.transpose(), A)\n",
    "# val, vec = np.linalg.eig(np.dot(A.transpose(), A))\n",
    "# np.sqrt(max(val))"
   ]
  },
  {
   "cell_type": "markdown",
   "metadata": {},
   "source": [
    "$A*A=\\left[\\begin{array}{ccc} 13 & -3 & -13 \\\\ -3 & 65 & 75 \\\\ -13 & 75 & 129\\end{array}\\right]$\n",
    "\n",
    "eigenvalues = [179.48079367,   8.81029291,  18.70891342]\n",
    "\n",
    "$\\lambda_{\\max }\\left(A^{*} A\\right)=179.48079367$\n",
    "\n",
    "$\\|A\\|_{2}=\\sqrt{\\lambda_{\\max }\\left(A^{*} A\\right)}=\\sigma_{\\max }(A)$\n",
    "\n",
    "- $\\sigma_{\\max }(A)$ represents the largest singular value of matrix $A$\n",
    "\n",
    "$\\|A\\|_{2}=\\sqrt{179.48079367}= 13.397044214055192$"
   ]
  },
  {
   "cell_type": "markdown",
   "metadata": {},
   "source": [
    "# Absorb complex phases"
   ]
  },
  {
   "cell_type": "code",
   "execution_count": 5,
   "metadata": {},
   "outputs": [
    {
     "data": {
      "text/plain": [
       "[1, 1j]"
      ]
     },
     "execution_count": 5,
     "metadata": {},
     "output_type": "execute_result"
    }
   ],
   "source": [
    "set_index=10\n",
    "N_index = 1\n",
    "\n",
    "R_linear_comb_list, Pn, gamma_l = Get_R_op_list(anti_commuting_sets[set_index], N_index)\n",
    "R_corrected_Op_list, phase_corr, ancilla_amplitudes, l1 = absorb_complex_phases(R_linear_comb_list)\n",
    "phase_corr"
   ]
  },
  {
   "cell_type": "markdown",
   "metadata": {},
   "source": [
    "### Ansatz\n",
    "\n",
    "note needed for control R!"
   ]
  },
  {
   "cell_type": "code",
   "execution_count": 6,
   "metadata": {},
   "outputs": [
    {
     "name": "stdout",
     "output_type": "stream",
     "text": [
      "[1, 1, 0, 0]\n"
     ]
    },
    {
     "data": {
      "text/html": [
       "<pre style=\"overflow: auto; white-space: pre;\">0: ───X───Rx(0.5π)───@───────────────────────@───Rx(-0.5π)───H───@──────────────────────@───────────H──────────H─────────────────────────────────────────────────────────────────────────────────────────────@───────────────────────────────@───────────H──────────Rx(0.5π)───@──────────────────────────────@───────────Rx(-0.5π)───Rx(0.5π)───@──────────────────────────────@───Rx(-0.5π)───H──────────@──────────────────────────────@──────────H───────────Rx(0.5π)───@───────────────────────────────────────@───────────Rx(-0.5π)───H──────────@───────────────────────────────────────@───────────H───────────H───@───────────────────────────────────────@──────────H───Rx(0.5π)───@──────────────────────────────────────@───Rx(-0.5π)───\n",
       "                     │                       │                   │                      │                                                                                                                    │                               │                                 │                              │                                  │                              │                          │                              │                                 │                                       │                                  │                                       │                           │                                       │                         │                                      │\n",
       "1: ───X──────────────X───@───────────────@───X───────────────────X───@──────────────@───X───────────Rx(0.5π)───@───────────────────────@───Rx(-0.5π)───H───@──────────────────────@───────────H──────────H───X───@───────────────────────@───X───────────H──────────Rx(0.5π)───X───@──────────────────────@───X───────────Rx(-0.5π)───H──────────X───@──────────────────────@───X───H───────────Rx(0.5π)───X───@──────────────────────@───X──────────Rx(-0.5π)───H──────────X───@───────────────────────@───────────X───────────H───────────Rx(0.5π)───X───@───────────────────────@───────────X───────────Rx(-0.5π)───H───X───@───────────────────────@───────────X──────────H───Rx(0.5π)───X───@──────────────────────@───────────X───Rx(-0.5π)───\n",
       "                         │               │                           │              │                          │                       │                   │                      │                              │                       │                                         │                      │                                          │                      │                                  │                      │                                         │                       │                                                  │                       │                                           │                       │                                         │                      │\n",
       "2: ───I───H──────────────X───Rz(-0.0π)───X───H───Rx(0.5π)────────────X───Rz(0.0π)───X───Rx(-0.5π)──────────────X───@───────────────@───X───────────────────X───@──────────────@───X───────────Rx(0.5π)───────────X───@───────────────@───X───Rx(-0.5π)───Rx(0.5π)──────────────────X───@──────────────@───X───Rx(-0.5π)───H──────────────────────────X───@──────────────@───X───H───H──────────────────────────X───@──────────────@───X───H──────────Rx(0.5π)───────────────────X───@───────────────@───X───────────Rx(-0.5π)───Rx(0.5π)───────────────────X───@───────────────@───X───────────Rx(-0.5π)───H───────────────────X───@───────────────@───X───────────H──────────H──────────────────X───@──────────────@───X───────────H───────────────\n",
       "                                                                                                                   │               │                           │              │                                      │               │                                                 │              │                                                  │              │                                          │              │                                                 │               │                                                          │               │                                                   │               │                                                 │              │\n",
       "3: ───I───H────────────────────────────────────────────────────────────────────────────────────────────────────────X───Rz(-0.0π)───X───H───Rx(0.5π)────────────X───Rz(0.0π)───X───Rx(-0.5π)───H──────────────────────X───Rz(-0.0π)───X───H───H─────────────────────────────────────────X───Rz(0.0π)───X───H───H──────────────────────────────────────────X───Rz(0.0π)───X───H───H──────────────────────────────────X───Rz(0.0π)───X───H───Rx(0.5π)──────────────────────────────────X───Rz(-0.0π)───X───Rx(-0.5π)───Rx(0.5π)───────────────────────────────────X───Rz(-0.0π)───X───Rx(-0.5π)───Rx(0.5π)────────────────────────────X───Rz(-0.0π)───X───Rx(-0.5π)───Rx(0.5π)──────────────────────────X───Rz(0.0π)───X───Rx(-0.5π)───────────────────</pre>"
      ],
      "text/plain": [
       "0: ───X───Rx(0.5π)───@───────────────────────@───Rx(-0.5π)───H───@──────────────────────@───────────H──────────H─────────────────────────────────────────────────────────────────────────────────────────────@───────────────────────────────@───────────H──────────Rx(0.5π)───@──────────────────────────────@───────────Rx(-0.5π)───Rx(0.5π)───@──────────────────────────────@───Rx(-0.5π)───H──────────@──────────────────────────────@──────────H───────────Rx(0.5π)───@───────────────────────────────────────@───────────Rx(-0.5π)───H──────────@───────────────────────────────────────@───────────H───────────H───@───────────────────────────────────────@──────────H───Rx(0.5π)───@──────────────────────────────────────@───Rx(-0.5π)───\n",
       "                     │                       │                   │                      │                                                                                                                    │                               │                                 │                              │                                  │                              │                          │                              │                                 │                                       │                                  │                                       │                           │                                       │                         │                                      │\n",
       "1: ───X──────────────X───@───────────────@───X───────────────────X───@──────────────@───X───────────Rx(0.5π)───@───────────────────────@───Rx(-0.5π)───H───@──────────────────────@───────────H──────────H───X───@───────────────────────@───X───────────H──────────Rx(0.5π)───X───@──────────────────────@───X───────────Rx(-0.5π)───H──────────X───@──────────────────────@───X───H───────────Rx(0.5π)───X───@──────────────────────@───X──────────Rx(-0.5π)───H──────────X───@───────────────────────@───────────X───────────H───────────Rx(0.5π)───X───@───────────────────────@───────────X───────────Rx(-0.5π)───H───X───@───────────────────────@───────────X──────────H───Rx(0.5π)───X───@──────────────────────@───────────X───Rx(-0.5π)───\n",
       "                         │               │                           │              │                          │                       │                   │                      │                              │                       │                                         │                      │                                          │                      │                                  │                      │                                         │                       │                                                  │                       │                                           │                       │                                         │                      │\n",
       "2: ───I───H──────────────X───Rz(-0.0π)───X───H───Rx(0.5π)────────────X───Rz(0.0π)───X───Rx(-0.5π)──────────────X───@───────────────@───X───────────────────X───@──────────────@───X───────────Rx(0.5π)───────────X───@───────────────@───X───Rx(-0.5π)───Rx(0.5π)──────────────────X───@──────────────@───X───Rx(-0.5π)───H──────────────────────────X───@──────────────@───X───H───H──────────────────────────X───@──────────────@───X───H──────────Rx(0.5π)───────────────────X───@───────────────@───X───────────Rx(-0.5π)───Rx(0.5π)───────────────────X───@───────────────@───X───────────Rx(-0.5π)───H───────────────────X───@───────────────@───X───────────H──────────H──────────────────X───@──────────────@───X───────────H───────────────\n",
       "                                                                                                                   │               │                           │              │                                      │               │                                                 │              │                                                  │              │                                          │              │                                                 │               │                                                          │               │                                                   │               │                                                 │              │\n",
       "3: ───I───H────────────────────────────────────────────────────────────────────────────────────────────────────────X───Rz(-0.0π)───X───H───Rx(0.5π)────────────X───Rz(0.0π)───X───Rx(-0.5π)───H──────────────────────X───Rz(-0.0π)───X───H───H─────────────────────────────────────────X───Rz(0.0π)───X───H───H──────────────────────────────────────────X───Rz(0.0π)───X───H───H──────────────────────────────────X───Rz(0.0π)───X───H───Rx(0.5π)──────────────────────────────────X───Rz(-0.0π)───X───Rx(-0.5π)───Rx(0.5π)───────────────────────────────────X───Rz(-0.0π)───X───Rx(-0.5π)───Rx(0.5π)────────────────────────────X───Rz(-0.0π)───X───Rx(-0.5π)───Rx(0.5π)──────────────────────────X───Rz(0.0π)───X───Rx(-0.5π)───────────────────"
      ]
     },
     "execution_count": 6,
     "metadata": {},
     "output_type": "execute_result"
    }
   ],
   "source": [
    "from quchem.Ansatz_Generator_Functions import *\n",
    "\n",
    "\n",
    "ansatz_obj = Ansatz(Hamilt.molecule.n_electrons, Hamilt.molecule.n_qubits)\n",
    "\n",
    "\n",
    "\n",
    "Sec_Quant_CC_ops_ia, Sec_Quant_CC_ops_ijab, theta_parameters_ia, theta_parameters_ijab=ansatz_obj.Get_ia_and_ijab_terms(single_cc_amplitudes=None, \n",
    "                                                                                                             double_cc_amplitudes=None, \n",
    "                                                                                                             singles_hamiltonian=None,\n",
    "                                                                                                             doubles_hamiltonian=None, \n",
    "                                                                                                             tol_filter_small_terms = None)\n",
    "\n",
    "Qubit_Op_list_Second_Quant_CC_Ops_ia, Qubit_Op_list_Second_Quant_CC_Ops_ijab = ansatz_obj.UCCSD_single_trotter_step(\n",
    "                                        Sec_Quant_CC_ops_ia,\n",
    "                                        Sec_Quant_CC_ops_ijab,\n",
    "                                       transformation='JW')\n",
    "\n",
    "input_state = ansatz_obj.Get_JW_HF_state_in_OCC_basis()\n",
    "print(input_state)\n",
    "\n",
    "UCCSD_ansatz_Q_Circ_obj = Ansatz_Circuit(input_state,\n",
    "                                     Qubit_Op_list_Second_Quant_CC_Ops_ia, \n",
    "                                     Qubit_Op_list_Second_Quant_CC_Ops_ijab)\n",
    "\n",
    "UCCSD_ansatz_Q_Circ =UCCSD_ansatz_Q_Circ_obj.Get_Full_HF_UCCSD_QC(Theta_param_list_ia=theta_parameters_ia, \n",
    "                                         Theta_param_list_ijab=theta_parameters_ijab,\n",
    "                                         ia_first=True)\n",
    "UCCSD_ansatz_Q_Circ"
   ]
  },
  {
   "cell_type": "code",
   "execution_count": 7,
   "metadata": {},
   "outputs": [],
   "source": [
    "# ######### Ansatz circuit\n",
    "\n",
    "# from quchem.Simulating_Quantum_Circuit import *\n",
    "# from quchem.Ansatz_Generator_Functions import *\n",
    "# from openfermion.ops import QubitOperator\n",
    "\n",
    "# def H2_ansatz(theta):\n",
    "#     HF_circ = [cirq.X.on(cirq.LineQubit(0)), cirq.X.on(cirq.LineQubit(1))]\n",
    "    \n",
    "#     full_exp_circ_obj = full_exponentiated_PauliWord_circuit(QubitOperator('Y0 X1 X2 X3', -1j), theta)\n",
    "#     UCCSD_circ = cirq.Circuit(cirq.decompose_once((full_exp_circ_obj(*cirq.LineQubit.range(full_exp_circ_obj.num_qubits())))))\n",
    "#     full_circuit = cirq.Circuit([*HF_circ, *UCCSD_circ.all_operations()])\n",
    "    \n",
    "#     return full_circuit\n",
    "    \n"
   ]
  },
  {
   "cell_type": "markdown",
   "metadata": {},
   "source": [
    "## perform control R"
   ]
  },
  {
   "cell_type": "code",
   "execution_count": 8,
   "metadata": {},
   "outputs": [
    {
     "name": "stdout",
     "output_type": "stream",
     "text": [
      "0: ───Y0───────────\n",
      "      │\n",
      "1: ───Y1───────────\n",
      "      │\n",
      "2: ───X2───────────\n",
      "      │\n",
      "3: ───(-0-1j)*Y3───\n",
      "      │\n",
      "4: ───@────────────\n",
      "\n",
      "[1, (-0-1j)]\n",
      "[0.30200159443367586 [], 0.9533074199645766 [Y0 Y1 X2 Y3]]\n",
      "Pn 1 [Z3]\n"
     ]
    }
   ],
   "source": [
    "set_index=10\n",
    "N_index = 0\n",
    "##\n",
    "R_linear_comb_list, Pn, gamma_l = Get_R_op_list(anti_commuting_sets[set_index], N_index)\n",
    "R_corrected_Op_list, phase_corr, ancilla_amplitudes, l1 = absorb_complex_phases(R_linear_comb_list)\n",
    "\n",
    "\n",
    "### circuit\n",
    "n_anilla_qubits = int(np.ceil(np.log2(len(ancilla_amplitudes))))\n",
    "No_system_qubits = len(UCCSD_ansatz_Q_Circ.all_qubits())\n",
    "\n",
    "R_circ_obj = LCU_R_gate(n_anilla_qubits, No_system_qubits, R_corrected_Op_list, phase_corr, Pn)\n",
    "R_circ_circ = cirq.Circuit(\n",
    "    cirq.decompose_once((R_circ_obj(*cirq.LineQubit.range(R_circ_obj.num_qubits())))))\n",
    "\n",
    "print(R_circ_circ)\n",
    "\n",
    "print('')\n",
    "print(phase_corr)\n",
    "print(R_corrected_Op_list)\n",
    "print('Pn', Pn)"
   ]
  },
  {
   "cell_type": "code",
   "execution_count": 9,
   "metadata": {},
   "outputs": [
    {
     "data": {
      "text/plain": [
       "(3,)"
      ]
     },
     "execution_count": 9,
     "metadata": {},
     "output_type": "execute_result"
    }
   ],
   "source": [
    "list_of_X_qNos_Pn, list_of_Pn_ops = list(zip(*[Paulistrs for qubitOp in Pn\n",
    "                                                            for Paulistrs, const in qubitOp.terms.items()][0]))\n",
    "list_of_X_qNos_Pn"
   ]
  },
  {
   "cell_type": "markdown",
   "metadata": {},
   "source": [
    "## perform R as LCU"
   ]
  },
  {
   "cell_type": "code",
   "execution_count": 26,
   "metadata": {},
   "outputs": [
    {
     "data": {
      "text/html": [
       "<pre style=\"overflow: auto; white-space: pre;\">0: ──────────────────────1j*Y0──────────────────────\n",
       "                         │\n",
       "1: ──────────────────────Y1─────────────────────────\n",
       "                         │\n",
       "2: ──────────────────────X2─────────────────────────\n",
       "                         │\n",
       "3: ──────────────────────Y3─────────────────────────\n",
       "                         │\n",
       "4: ─── U = 0.8357 rad ───@─────── U = 0.8357 rad ───</pre>"
      ],
      "text/plain": [
       "0: ──────────────────────1j*Y0──────────────────────\n",
       "                         │\n",
       "1: ──────────────────────Y1─────────────────────────\n",
       "                         │\n",
       "2: ──────────────────────X2─────────────────────────\n",
       "                         │\n",
       "3: ──────────────────────Y3─────────────────────────\n",
       "                         │\n",
       "4: ─── U = 0.8357 rad ───@─────── U = 0.8357 rad ───"
      ]
     },
     "execution_count": 26,
     "metadata": {},
     "output_type": "execute_result"
    }
   ],
   "source": [
    "set_index=10\n",
    "N_index = 1\n",
    "##\n",
    "R_linear_comb_list, Pn, gamma_l = Get_R_op_list(anti_commuting_sets[set_index], N_index)\n",
    "R_corrected_Op_list, phase_corr, ancilla_amplitudes, l1 = absorb_complex_phases(R_linear_comb_list)\n",
    "\n",
    "\n",
    "### circuit\n",
    "n_anilla_qubits = int(np.ceil(np.log2(len(ancilla_amplitudes))))\n",
    "No_system_qubits = len(UCCSD_ansatz_Q_Circ.all_qubits())\n",
    "\n",
    "R_circ_obj = LCU_R_gate(n_anilla_qubits, No_system_qubits, R_corrected_Op_list, phase_corr, Pn)\n",
    "R_circ_circ = cirq.Circuit(\n",
    "    cirq.decompose_once((R_circ_obj(*cirq.LineQubit.range(R_circ_obj.num_qubits())))))\n",
    "\n",
    "ancilla_obj = prepare_arb_state(ancilla_amplitudes, No_system_qubits)\n",
    "ancilla_circ = ancilla_obj.Get_state_prep_Circuit()\n",
    "\n",
    "full_Q_circ = cirq.Circuit([\n",
    "    *ancilla_circ.all_operations(),\n",
    "    *R_circ_circ.all_operations(),\n",
    "    *list(ancilla_circ.all_operations())[::-1],\n",
    "])\n",
    "full_Q_circ"
   ]
  },
  {
   "cell_type": "code",
   "execution_count": null,
   "metadata": {},
   "outputs": [],
   "source": []
  },
  {
   "cell_type": "code",
   "execution_count": 20,
   "metadata": {},
   "outputs": [
    {
     "data": {
      "text/html": [
       "<pre style=\"overflow: auto; white-space: pre;\">0: ─────────────────────Y─────────────────────────────────────────\n",
       "                        │\n",
       "1: ─────────────────────┼───Y─────────────────────────────────────\n",
       "                        │   │\n",
       "2: ─────────────────────┼───┼───X─────────────────────────────────\n",
       "                        │   │   │\n",
       "3: ─────────────────────┼───┼───┼───(-0-1j)*Y─────────────────────\n",
       "                        │   │   │   │\n",
       "4: ─── U = 1.264 rad ───@───@───@───@─────────── U = 1.264 rad ───</pre>"
      ],
      "text/plain": [
       "0: ─────────────────────Y─────────────────────────────────────────\n",
       "                        │\n",
       "1: ─────────────────────┼───Y─────────────────────────────────────\n",
       "                        │   │\n",
       "2: ─────────────────────┼───┼───X─────────────────────────────────\n",
       "                        │   │   │\n",
       "3: ─────────────────────┼───┼───┼───(-0-1j)*Y─────────────────────\n",
       "                        │   │   │   │\n",
       "4: ─── U = 1.264 rad ───@───@───@───@─────────── U = 1.264 rad ───"
      ]
     },
     "execution_count": 20,
     "metadata": {},
     "output_type": "execute_result"
    }
   ],
   "source": [
    "cirq.Circuit(cirq.decompose(full_Q_circ))"
   ]
  },
  {
   "cell_type": "code",
   "execution_count": 11,
   "metadata": {},
   "outputs": [
    {
     "data": {
      "text/plain": [
       "array([[0.09120496+0.j]])"
      ]
     },
     "execution_count": 11,
     "metadata": {},
     "output_type": "execute_result"
    }
   ],
   "source": [
    "# G = I x G_ancilla\n",
    "I_system = np.eye(2**No_system_qubits)\n",
    "G = np.kron(I_system, ancilla_circ.unitary())\n",
    "\n",
    "\n",
    "# U\n",
    "U = R_circ_circ.unitary()\n",
    "\n",
    "## lin alg\n",
    "input_state = reduce(np.kron, [np.array([[1],[0]]) for _ in range(n_anilla_qubits + No_system_qubits)])\n",
    "\n",
    "ancilla_sys_ket = G.dot(input_state)\n",
    "ancilla_sys_bra = ancilla_sys_ket.transpose().conj()\n",
    "\n",
    "ancilla_sys_bra.dot(U.dot(ancilla_sys_ket))"
   ]
  },
  {
   "cell_type": "markdown",
   "metadata": {},
   "source": [
    "# check ancilla line amplitudes!"
   ]
  },
  {
   "cell_type": "code",
   "execution_count": 12,
   "metadata": {},
   "outputs": [
    {
     "name": "stdout",
     "output_type": "stream",
     "text": [
      "[0.30200159443367586, 0.9533074199645766]\n",
      "[0.3020016+0.j 0.9533074+0.j]\n"
     ]
    }
   ],
   "source": [
    "set_index=10\n",
    "N_index = 0\n",
    "##\n",
    "R_linear_comb_list, Pn, gamma_l = Get_R_op_list(anti_commuting_sets[set_index], N_index)\n",
    "R_corrected_Op_list, phase_corr, ancilla_amplitudes, l1 = absorb_complex_phases(R_linear_comb_list)\n",
    "\n",
    "### circuit\n",
    "n_anilla_qubits = int(np.ceil(np.log2(len(ancilla_amplitudes))))\n",
    "No_system_qubits = len(UCCSD_ansatz_Q_Circ.all_qubits())\n",
    "\n",
    "ancilla_obj = prepare_arb_state(ancilla_amplitudes, No_system_qubits)\n",
    "ancilla_circ = ancilla_obj.Get_state_prep_Circuit()\n",
    "\n",
    "\n",
    "simulator = cirq.Simulator()\n",
    "output_ket = simulator.compute_amplitudes(ancilla_circ,\n",
    "                                      bitstrings=[i for i in range(2 ** n_anilla_qubits)])\n",
    "\n",
    "\n",
    "print(ancilla_amplitudes)\n",
    "\n",
    "print(output_ket)\n",
    "\n",
    "if not (np.allclose(ancilla_amplitudes, output_ket[:len(ancilla_amplitudes)])):\n",
    "    raise ValueError('ancilla mistake')\n"
   ]
  },
  {
   "cell_type": "markdown",
   "metadata": {},
   "source": [
    "# Full Q Circuit!"
   ]
  },
  {
   "cell_type": "code",
   "execution_count": 13,
   "metadata": {
    "scrolled": true
   },
   "outputs": [
    {
     "data": {
      "text/html": [
       "<pre style=\"overflow: auto; white-space: pre;\">0: ───X──────────────────Rx(0.5π)───@───────────────────────@───Rx(-0.5π)───H───@──────────────────────@───────────H──────────H─────────────────────────────────────────────────────────────────────────────────────────────@───────────────────────────────@───────────H──────────Rx(0.5π)───@──────────────────────────────@───────────Rx(-0.5π)───Rx(0.5π)───@──────────────────────────────@───Rx(-0.5π)───H──────────@──────────────────────────────@──────────H───────────Rx(0.5π)───@───────────────────────────────────────@───────────Rx(-0.5π)───H──────────@───────────────────────────────────────@───────────H───────────H───@───────────────────────────────────────@──────────H───Rx(0.5π)───@──────────────────────────────────────@───Rx(-0.5π)───1j*Y0───Rx(0.5π)───────────M───\n",
       "                                    │                       │                   │                      │                                                                                                                    │                               │                                 │                              │                                  │                              │                          │                              │                                 │                                       │                                  │                                       │                           │                                       │                         │                                      │               │                          │\n",
       "1: ───X─────────────────────────────X───@───────────────@───X───────────────────X───@──────────────@───X───────────Rx(0.5π)───@───────────────────────@───Rx(-0.5π)───H───@──────────────────────@───────────H──────────H───X───@───────────────────────@───X───────────H──────────Rx(0.5π)───X───@──────────────────────@───X───────────Rx(-0.5π)───H──────────X───@──────────────────────@───X───H───────────Rx(0.5π)───X───@──────────────────────@───X──────────Rx(-0.5π)───H──────────X───@───────────────────────@───────────X───────────H───────────Rx(0.5π)───X───@───────────────────────@───────────X───────────Rx(-0.5π)───H───X───@───────────────────────@───────────X──────────H───Rx(0.5π)───X───@──────────────────────@───────────X───Rx(-0.5π)───Y1──────Rx(0.5π)───────────M───\n",
       "                                        │               │                           │              │                          │                       │                   │                      │                              │                       │                                         │                      │                                          │                      │                                  │                      │                                         │                       │                                                  │                       │                                           │                       │                                         │                      │                           │                          │\n",
       "2: ───I──────────────────H──────────────X───Rz(-0.0π)───X───H───Rx(0.5π)────────────X───Rz(0.0π)───X───Rx(-0.5π)──────────────X───@───────────────@───X───────────────────X───@──────────────@───X───────────Rx(0.5π)───────────X───@───────────────@───X───Rx(-0.5π)───Rx(0.5π)──────────────────X───@──────────────@───X───Rx(-0.5π)───H──────────────────────────X───@──────────────@───X───H───H──────────────────────────X───@──────────────@───X───H──────────Rx(0.5π)───────────────────X───@───────────────@───X───────────Rx(-0.5π)───Rx(0.5π)───────────────────X───@───────────────@───X───────────Rx(-0.5π)───H───────────────────X───@───────────────@───X───────────H──────────H──────────────────X───@──────────────@───X───────────H───────────────X2──────Ry(-0.5π)──────────M───\n",
       "                                                                                                                                  │               │                           │              │                                      │               │                                                 │              │                                                  │              │                                          │              │                                                 │               │                                                          │               │                                                   │               │                                                 │              │                               │                          │\n",
       "3: ───I──────────────────H────────────────────────────────────────────────────────────────────────────────────────────────────────X───Rz(-0.0π)───X───H───Rx(0.5π)────────────X───Rz(0.0π)───X───Rx(-0.5π)───H──────────────────────X───Rz(-0.0π)───X───H───H─────────────────────────────────────────X───Rz(0.0π)───X───H───H──────────────────────────────────────────X───Rz(0.0π)───X───H───H──────────────────────────────────X───Rz(0.0π)───X───H───Rx(0.5π)──────────────────────────────────X───Rz(-0.0π)───X───Rx(-0.5π)───Rx(0.5π)───────────────────────────────────X───Rz(-0.0π)───X───Rx(-0.5π)───Rx(0.5π)────────────────────────────X───Rz(-0.0π)───X───Rx(-0.5π)───Rx(0.5π)──────────────────────────X───Rz(0.0π)───X───Rx(-0.5π)───────────────────Y3──────Ry(-0.5π)──────────M───\n",
       "                                                                                                                                                                                                                                                                                                                                                                                                                                                                                                                                                                                                                                                                                                                                                                   │                          │\n",
       "4: ─── U = 0.8357 rad ─────────────────────────────────────────────────────────────────────────────────────────────────────────────────────────────────────────────────────────────────────────────────────────────────────────────────────────────────────────────────────────────────────────────────────────────────────────────────────────────────────────────────────────────────────────────────────────────────────────────────────────────────────────────────────────────────────────────────────────────────────────────────────────────────────────────────────────────────────────────────────────────────────────────────────────────────────────────────────────────────────────────────────────────────────────────────────────────────────────────@─────── U = 0.8357 rad ───M───</pre>"
      ],
      "text/plain": [
       "0: ───X──────────────────Rx(0.5π)───@───────────────────────@───Rx(-0.5π)───H───@──────────────────────@───────────H──────────H─────────────────────────────────────────────────────────────────────────────────────────────@───────────────────────────────@───────────H──────────Rx(0.5π)───@──────────────────────────────@───────────Rx(-0.5π)───Rx(0.5π)───@──────────────────────────────@───Rx(-0.5π)───H──────────@──────────────────────────────@──────────H───────────Rx(0.5π)───@───────────────────────────────────────@───────────Rx(-0.5π)───H──────────@───────────────────────────────────────@───────────H───────────H───@───────────────────────────────────────@──────────H───Rx(0.5π)───@──────────────────────────────────────@───Rx(-0.5π)───1j*Y0───Rx(0.5π)───────────M───\n",
       "                                    │                       │                   │                      │                                                                                                                    │                               │                                 │                              │                                  │                              │                          │                              │                                 │                                       │                                  │                                       │                           │                                       │                         │                                      │               │                          │\n",
       "1: ───X─────────────────────────────X───@───────────────@───X───────────────────X───@──────────────@───X───────────Rx(0.5π)───@───────────────────────@───Rx(-0.5π)───H───@──────────────────────@───────────H──────────H───X───@───────────────────────@───X───────────H──────────Rx(0.5π)───X───@──────────────────────@───X───────────Rx(-0.5π)───H──────────X───@──────────────────────@───X───H───────────Rx(0.5π)───X───@──────────────────────@───X──────────Rx(-0.5π)───H──────────X───@───────────────────────@───────────X───────────H───────────Rx(0.5π)───X───@───────────────────────@───────────X───────────Rx(-0.5π)───H───X───@───────────────────────@───────────X──────────H───Rx(0.5π)───X───@──────────────────────@───────────X───Rx(-0.5π)───Y1──────Rx(0.5π)───────────M───\n",
       "                                        │               │                           │              │                          │                       │                   │                      │                              │                       │                                         │                      │                                          │                      │                                  │                      │                                         │                       │                                                  │                       │                                           │                       │                                         │                      │                           │                          │\n",
       "2: ───I──────────────────H──────────────X───Rz(-0.0π)───X───H───Rx(0.5π)────────────X───Rz(0.0π)───X───Rx(-0.5π)──────────────X───@───────────────@───X───────────────────X───@──────────────@───X───────────Rx(0.5π)───────────X───@───────────────@───X───Rx(-0.5π)───Rx(0.5π)──────────────────X───@──────────────@───X───Rx(-0.5π)───H──────────────────────────X───@──────────────@───X───H───H──────────────────────────X───@──────────────@───X───H──────────Rx(0.5π)───────────────────X───@───────────────@───X───────────Rx(-0.5π)───Rx(0.5π)───────────────────X───@───────────────@───X───────────Rx(-0.5π)───H───────────────────X───@───────────────@───X───────────H──────────H──────────────────X───@──────────────@───X───────────H───────────────X2──────Ry(-0.5π)──────────M───\n",
       "                                                                                                                                  │               │                           │              │                                      │               │                                                 │              │                                                  │              │                                          │              │                                                 │               │                                                          │               │                                                   │               │                                                 │              │                               │                          │\n",
       "3: ───I──────────────────H────────────────────────────────────────────────────────────────────────────────────────────────────────X───Rz(-0.0π)───X───H───Rx(0.5π)────────────X───Rz(0.0π)───X───Rx(-0.5π)───H──────────────────────X───Rz(-0.0π)───X───H───H─────────────────────────────────────────X───Rz(0.0π)───X───H───H──────────────────────────────────────────X───Rz(0.0π)───X───H───H──────────────────────────────────X───Rz(0.0π)───X───H───Rx(0.5π)──────────────────────────────────X───Rz(-0.0π)───X───Rx(-0.5π)───Rx(0.5π)───────────────────────────────────X───Rz(-0.0π)───X───Rx(-0.5π)───Rx(0.5π)────────────────────────────X───Rz(-0.0π)───X───Rx(-0.5π)───Rx(0.5π)──────────────────────────X───Rz(0.0π)───X───Rx(-0.5π)───────────────────Y3──────Ry(-0.5π)──────────M───\n",
       "                                                                                                                                                                                                                                                                                                                                                                                                                                                                                                                                                                                                                                                                                                                                                                   │                          │\n",
       "4: ─── U = 0.8357 rad ─────────────────────────────────────────────────────────────────────────────────────────────────────────────────────────────────────────────────────────────────────────────────────────────────────────────────────────────────────────────────────────────────────────────────────────────────────────────────────────────────────────────────────────────────────────────────────────────────────────────────────────────────────────────────────────────────────────────────────────────────────────────────────────────────────────────────────────────────────────────────────────────────────────────────────────────────────────────────────────────────────────────────────────────────────────────────────────────────────────────@─────── U = 0.8357 rad ───M───"
      ]
     },
     "execution_count": 13,
     "metadata": {},
     "output_type": "execute_result"
    }
   ],
   "source": [
    "set_index=10\n",
    "N_index = 1\n",
    "##\n",
    "R_linear_comb_list, Pn, gamma_l = Get_R_op_list(anti_commuting_sets[set_index], N_index)\n",
    "R_corrected_Op_list, phase_corr, ancilla_amplitudes, l1 = absorb_complex_phases(R_linear_comb_list)\n",
    "\n",
    "n_anilla_qubits = int(np.ceil(np.log2(len(ancilla_amplitudes))))\n",
    "No_system_qubits = len(UCCSD_ansatz_Q_Circ.all_qubits())\n",
    "\n",
    "\n",
    "Q_circuit = Full_Q_Circuit(Pn, \n",
    "                           R_corrected_Op_list, \n",
    "                           phase_corr, \n",
    "                           ancilla_amplitudes,\n",
    "                           No_system_qubits, \n",
    "                           UCCSD_ansatz_Q_Circ)\n",
    "\n",
    "# print(Q_circuit.to_text_diagram(transpose=True)) \n",
    "Q_circuit"
   ]
  },
  {
   "cell_type": "code",
   "execution_count": null,
   "metadata": {},
   "outputs": [],
   "source": []
  },
  {
   "cell_type": "markdown",
   "metadata": {},
   "source": [
    "## Run Circuit VQE experiment!"
   ]
  },
  {
   "cell_type": "code",
   "execution_count": 14,
   "metadata": {},
   "outputs": [
    {
     "data": {
      "text/plain": [
       "(-1.1169797300881452+0j)"
      ]
     },
     "execution_count": 14,
     "metadata": {},
     "output_type": "execute_result"
    }
   ],
   "source": [
    "n_shots=10000\n",
    "\n",
    "testing =  VQE_Experiment_LCU_UP(anti_commuting_sets,\n",
    "                 UCCSD_ansatz_Q_Circ,\n",
    "                 n_shots,\n",
    "                 Hamilt.molecule.n_qubits,\n",
    "                 N_indices_dict={7:1, 8:1, 9:0, 10:0})\n",
    "testing.Calc_Energy()"
   ]
  },
  {
   "cell_type": "code",
   "execution_count": null,
   "metadata": {},
   "outputs": [],
   "source": []
  },
  {
   "cell_type": "markdown",
   "metadata": {},
   "source": [
    "$$U_{UCCSD}^{H2}=e^{-i \\theta Y_{0} X_{1} X_{2} X_{3}}$$"
   ]
  },
  {
   "cell_type": "code",
   "execution_count": 15,
   "metadata": {},
   "outputs": [],
   "source": [
    "from quchem.Simulating_Quantum_Circuit import *\n",
    "from quchem.Ansatz_Generator_Functions import *\n",
    "from openfermion.ops import QubitOperator\n",
    "\n",
    "def H2_ansatz(theta):\n",
    "    HF_circ = [cirq.X.on(cirq.LineQubit(0)), cirq.X.on(cirq.LineQubit(1))]\n",
    "    \n",
    "    full_exp_circ_obj = full_exponentiated_PauliWord_circuit(QubitOperator('Y0 X1 X2 X3', -1j), theta)\n",
    "    UCCSD_circ = cirq.Circuit(cirq.decompose_once((full_exp_circ_obj(*cirq.LineQubit.range(full_exp_circ_obj.num_qubits())))))\n",
    "    full_circuit = cirq.Circuit([*HF_circ, *UCCSD_circ.all_operations()])\n",
    "    \n",
    "    return full_circuit\n"
   ]
  },
  {
   "cell_type": "code",
   "execution_count": 16,
   "metadata": {},
   "outputs": [
    {
     "data": {
      "text/plain": [
       "(0.4270986042633258+0j)"
      ]
     },
     "execution_count": 16,
     "metadata": {},
     "output_type": "execute_result"
    }
   ],
   "source": [
    "n_shots=1000\n",
    "def GIVE_ENERGY(THETA):\n",
    "   \n",
    "    ansatz_cirq_circuit = H2_ansatz(THETA)\n",
    "\n",
    "    VQE_exp_LCU =  VQE_Experiment_LCU_UP(anti_commuting_sets,\n",
    "                     ansatz_cirq_circuit,\n",
    "                     n_shots,\n",
    "                     Hamilt.molecule.n_qubits,\n",
    "                     N_indices_dict=None)#{7:0, 8:1, 9:0, 10:1})\n",
    "    return VQE_exp_LCU.Calc_Energy()\n",
    "\n",
    "GIVE_ENERGY(1.5)#np.pi/5)"
   ]
  },
  {
   "cell_type": "code",
   "execution_count": 17,
   "metadata": {},
   "outputs": [
    {
     "data": {
      "text/plain": [
       "(-1.1169695295278372+0j)"
      ]
     },
     "execution_count": 17,
     "metadata": {},
     "output_type": "execute_result"
    }
   ],
   "source": [
    "n_shots=10000\n",
    "def GIVE_ENERGY(THETA):\n",
    "   \n",
    "    ansatz_cirq_circuit = H2_ansatz(THETA)\n",
    "\n",
    "    VQE_exp_LCU =  VQE_Experiment_LCU_UP(anti_commuting_sets,\n",
    "                     ansatz_cirq_circuit,\n",
    "                     n_shots,\n",
    "                     Hamilt.molecule.n_qubits,\n",
    "                     N_indices_dict={7:0, 8:0, 9:1, 10:0})\n",
    "    return VQE_exp_LCU.Calc_Energy()\n",
    "\n",
    "GIVE_ENERGY(np.pi)"
   ]
  },
  {
   "cell_type": "code",
   "execution_count": 18,
   "metadata": {},
   "outputs": [
    {
     "name": "stdout",
     "output_type": "stream",
     "text": [
      "(-1.1370203933985232+0j)\n"
     ]
    },
    {
     "name": "stderr",
     "output_type": "stream",
     "text": [
      "/home/lex/anaconda3/envs/QuantumUpdated/lib/python3.7/site-packages/numpy/core/_asarray.py:85: ComplexWarning: Casting complex values to real discards the imaginary part\n",
      "  return array(a, dtype, copy=False, order=order)\n"
     ]
    },
    {
     "data": {
      "image/png": "[encoded data removed]",
      "text/plain": [
       "<Figure size 432x288 with 1 Axes>"
      ]
     },
     "metadata": {
      "needs_background": "light"
     },
     "output_type": "display_data"
    }
   ],
   "source": [
    "### full angle scan\n",
    "import matplotlib.pyplot as plt\n",
    "%matplotlib inline\n",
    "\n",
    "theta_list = np.arange(0,2*np.pi, 0.1)\n",
    "# theta_list = np.arange(0.98*np.pi, 1.02*np.pi, 0.001)\n",
    "\n",
    "E_list = [GIVE_ENERGY(theta) for theta in theta_list]\n",
    "\n",
    "plt.plot(E_list)\n",
    "print(min(E_list))"
   ]
  },
  {
   "cell_type": "code",
   "execution_count": 19,
   "metadata": {},
   "outputs": [
    {
     "data": {
      "text/plain": [
       "array(-1.13728383)"
      ]
     },
     "execution_count": 19,
     "metadata": {},
     "output_type": "execute_result"
    }
   ],
   "source": [
    "Hamilt.molecule.fci_energy"
   ]
  },
  {
   "cell_type": "code",
   "execution_count": null,
   "metadata": {},
   "outputs": [],
   "source": []
  },
  {
   "cell_type": "code",
   "execution_count": null,
   "metadata": {},
   "outputs": [],
   "source": []
  }
 ],
 "metadata": {
  "kernelspec": {
   "display_name": "Python 3",
   "language": "python",
   "name": "python3"
  },
  "language_info": {
   "codemirror_mode": {
    "name": "ipython",
    "version": 3
   },
   "file_extension": ".py",
   "mimetype": "text/x-python",
   "name": "python",
   "nbconvert_exporter": "python",
   "pygments_lexer": "ipython3",
   "version": "3.7.6"
  }
 },
 "nbformat": 4,
 "nbformat_minor": 4
}
