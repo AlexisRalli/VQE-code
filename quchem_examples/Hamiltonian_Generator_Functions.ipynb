{
 "cells": [
  {
   "cell_type": "markdown",
   "metadata": {},
   "source": [
    "# Hamiltonian class"
   ]
  },
  {
   "cell_type": "code",
   "execution_count": 1,
   "metadata": {},
   "outputs": [],
   "source": [
    "from quchem.Hamiltonian_Generator_Functions import *"
   ]
  },
  {
   "cell_type": "code",
   "execution_count": 2,
   "metadata": {},
   "outputs": [],
   "source": [
    "### Variable Parameters\n",
    "Molecule = 'H2'\n",
    "geometry = [('H', (0., 0., 0.)), ('H', (0., 0., 0.74))]\n",
    "\n",
    "# Molecule = 'LiH'\n",
    "# geometry = [('Li', (0., 0., 0.)), ('H', (0., 0., 1.45))]"
   ]
  },
  {
   "cell_type": "code",
   "execution_count": 3,
   "metadata": {},
   "outputs": [],
   "source": [
    "### initialise Hamiltonian class\n",
    "Hamilt = Hamiltonian(Molecule,\n",
    "                     run_scf=1, run_mp2=1, run_cisd=1, run_ccsd=1, run_fci=1,\n",
    "                     basis='sto-3g',\n",
    "                     multiplicity=1,\n",
    "                     geometry=geometry)  # normally None!"
   ]
  },
  {
   "cell_type": "markdown",
   "metadata": {},
   "source": [
    "## get molecule's geometry if not defined"
   ]
  },
  {
   "cell_type": "code",
   "execution_count": 4,
   "metadata": {},
   "outputs": [
    {
     "data": {
      "text/plain": [
       "[('H', (2, 0, 0)), ('H', (3, 0, 0))]"
      ]
     },
     "execution_count": 4,
     "metadata": {},
     "output_type": "execute_result"
    }
   ],
   "source": [
    "Hamilt.Get_Geometry()\n",
    "Hamilt.geometry"
   ]
  },
  {
   "cell_type": "markdown",
   "metadata": {},
   "source": [
    "## Run Psi4 calculation"
   ]
  },
  {
   "cell_type": "code",
   "execution_count": 5,
   "metadata": {},
   "outputs": [
    {
     "name": "stdout",
     "output_type": "stream",
     "text": [
      "Geometry:  [('H', (2, 0, 0)), ('H', (3, 0, 0))]\n",
      "No Qubits:  4\n",
      "No. Spin Orbitals:  4\n",
      "multiplicity:  1\n",
      "HF Energy:  -1.0661086491853147\n",
      "CCSD:  -1.1011503317008027\n",
      "FCI:  -1.1011503301329562\n"
     ]
    }
   ],
   "source": [
    "Hamilt.Run_Psi4()\n",
    "Hamilt.PrintInfo()"
   ]
  },
  {
   "cell_type": "markdown",
   "metadata": {},
   "source": [
    "## Get molecular Hamiltonian\n",
    "- note if no PSI4 calculation done it will perform this first\n",
    "\n",
    "also: gives singles Hamiltonian and doubles Hamiltonian"
   ]
  },
  {
   "cell_type": "markdown",
   "metadata": {},
   "source": [
    "$$H = constant +\\sum_{p, q} h_{p, q} a_{p}^{\\dagger} a_{q}+\\sum_{p, q, r, s} h_{p, q, r, s} a_{p}^{\\dagger} a_{q}^{\\dagger} a_{r} a_{s}$$"
   ]
  },
  {
   "cell_type": "code",
   "execution_count": 6,
   "metadata": {},
   "outputs": [
    {
     "name": "stdout",
     "output_type": "stream",
     "text": [
      "() 0.52917721067\n",
      "((0, 1), (0, 0)) -1.1108441796505253\n",
      "((1, 1), (1, 0)) -1.1108441796505253\n",
      "((2, 1), (2, 0)) -0.5891210038450492\n",
      "((3, 1), (3, 0)) -0.5891210038450492\n",
      "((0, 1), (0, 1), (0, 0), (0, 0)) 0.3132012497228679\n",
      "((0, 1), (0, 1), (2, 0), (2, 0)) 0.09839529175770564\n",
      "((0, 1), (1, 1), (1, 0), (0, 0)) 0.3132012497228679\n",
      "((0, 1), (1, 1), (3, 0), (2, 0)) 0.09839529175770564\n",
      "((0, 1), (2, 1), (0, 0), (2, 0)) 0.09839529175770566\n",
      "((0, 1), (2, 1), (2, 0), (0, 0)) 0.31085338152472125\n",
      "((0, 1), (3, 1), (1, 0), (2, 0)) 0.09839529175770566\n",
      "((0, 1), (3, 1), (3, 0), (0, 0)) 0.31085338152472125\n",
      "((1, 1), (0, 1), (0, 0), (1, 0)) 0.3132012497228679\n",
      "((1, 1), (0, 1), (2, 0), (3, 0)) 0.09839529175770564\n",
      "((1, 1), (1, 1), (1, 0), (1, 0)) 0.3132012497228679\n",
      "((1, 1), (1, 1), (3, 0), (3, 0)) 0.09839529175770564\n",
      "((1, 1), (2, 1), (0, 0), (3, 0)) 0.09839529175770566\n",
      "((1, 1), (2, 1), (2, 0), (1, 0)) 0.31085338152472125\n",
      "((1, 1), (3, 1), (1, 0), (3, 0)) 0.09839529175770566\n",
      "((1, 1), (3, 1), (3, 0), (1, 0)) 0.31085338152472125\n",
      "((2, 1), (0, 1), (0, 0), (2, 0)) 0.3108533815247213\n",
      "((2, 1), (0, 1), (2, 0), (0, 0)) 0.0983952917577057\n",
      "((2, 1), (1, 1), (1, 0), (2, 0)) 0.3108533815247213\n",
      "((2, 1), (1, 1), (3, 0), (0, 0)) 0.0983952917577057\n",
      "((2, 1), (2, 1), (0, 0), (0, 0)) 0.09839529175770567\n",
      "((2, 1), (2, 1), (2, 0), (2, 0)) 0.3265353734334958\n",
      "((2, 1), (3, 1), (1, 0), (0, 0)) 0.09839529175770567\n",
      "((2, 1), (3, 1), (3, 0), (2, 0)) 0.3265353734334958\n",
      "((3, 1), (0, 1), (0, 0), (3, 0)) 0.3108533815247213\n",
      "((3, 1), (0, 1), (2, 0), (1, 0)) 0.0983952917577057\n",
      "((3, 1), (1, 1), (1, 0), (3, 0)) 0.3108533815247213\n",
      "((3, 1), (1, 1), (3, 0), (1, 0)) 0.0983952917577057\n",
      "((3, 1), (2, 1), (0, 0), (1, 0)) 0.09839529175770567\n",
      "((3, 1), (2, 1), (2, 0), (3, 0)) 0.3265353734334958\n",
      "((3, 1), (3, 1), (1, 0), (1, 0)) 0.09839529175770567\n",
      "((3, 1), (3, 1), (3, 0), (3, 0)) 0.3265353734334958\n",
      "\n"
     ]
    },
    {
     "data": {
      "text/plain": [
       "matrix([[ 0.52917721+0.j,  0.        +0.j,  0.        +0.j,\n",
       "          0.        +0.j,  0.        +0.j,  0.        +0.j,\n",
       "          0.        +0.j,  0.        +0.j,  0.        +0.j,\n",
       "          0.        +0.j,  0.        +0.j,  0.        +0.j,\n",
       "          0.        +0.j,  0.        +0.j,  0.        +0.j,\n",
       "          0.        +0.j],\n",
       "        [ 0.        +0.j, -0.05994379+0.j,  0.        +0.j,\n",
       "          0.        +0.j,  0.        +0.j,  0.        +0.j,\n",
       "          0.        +0.j,  0.        +0.j,  0.        +0.j,\n",
       "          0.        +0.j,  0.        +0.j,  0.        +0.j,\n",
       "          0.        +0.j,  0.        +0.j,  0.        +0.j,\n",
       "          0.        +0.j],\n",
       "        [ 0.        +0.j,  0.        +0.j, -0.05994379+0.j,\n",
       "          0.        +0.j,  0.        +0.j,  0.        +0.j,\n",
       "          0.        +0.j,  0.        +0.j,  0.        +0.j,\n",
       "          0.        +0.j,  0.        +0.j,  0.        +0.j,\n",
       "          0.        +0.j,  0.        +0.j,  0.        +0.j,\n",
       "          0.        +0.j],\n",
       "        [ 0.        +0.j,  0.        +0.j,  0.        +0.j,\n",
       "          0.00400595+0.j,  0.        +0.j,  0.        +0.j,\n",
       "          0.        +0.j,  0.        +0.j,  0.        +0.j,\n",
       "          0.        +0.j,  0.        +0.j,  0.        +0.j,\n",
       "          0.19679058+0.j,  0.        +0.j,  0.        +0.j,\n",
       "          0.        +0.j],\n",
       "        [ 0.        +0.j,  0.        +0.j,  0.        +0.j,\n",
       "          0.        +0.j, -0.58166697+0.j,  0.        +0.j,\n",
       "          0.        +0.j,  0.        +0.j,  0.        +0.j,\n",
       "          0.        +0.j,  0.        +0.j,  0.        +0.j,\n",
       "          0.        +0.j,  0.        +0.j,  0.        +0.j,\n",
       "          0.        +0.j],\n",
       "        [ 0.        +0.j,  0.        +0.j,  0.        +0.j,\n",
       "          0.        +0.j,  0.        +0.j, -0.74587179+0.j,\n",
       "          0.        +0.j,  0.        +0.j,  0.        +0.j,\n",
       "          0.        +0.j,  0.        +0.j,  0.        +0.j,\n",
       "          0.        +0.j,  0.        +0.j,  0.        +0.j,\n",
       "          0.        +0.j],\n",
       "        [ 0.        +0.j,  0.        +0.j,  0.        +0.j,\n",
       "          0.        +0.j,  0.        +0.j,  0.        +0.j,\n",
       "         -0.54908121+0.j,  0.        +0.j,  0.        +0.j,\n",
       "         -0.19679058+0.j,  0.        +0.j,  0.        +0.j,\n",
       "          0.        +0.j,  0.        +0.j,  0.        +0.j,\n",
       "          0.        +0.j],\n",
       "        [ 0.        +0.j,  0.        +0.j,  0.        +0.j,\n",
       "          0.        +0.j,  0.        +0.j,  0.        +0.j,\n",
       "          0.        +0.j, -0.06021529+0.j,  0.        +0.j,\n",
       "          0.        +0.j,  0.        +0.j,  0.        +0.j,\n",
       "          0.        +0.j,  0.        +0.j,  0.        +0.j,\n",
       "          0.        +0.j],\n",
       "        [ 0.        +0.j,  0.        +0.j,  0.        +0.j,\n",
       "          0.        +0.j,  0.        +0.j,  0.        +0.j,\n",
       "          0.        +0.j,  0.        +0.j, -0.58166697+0.j,\n",
       "          0.        +0.j,  0.        +0.j,  0.        +0.j,\n",
       "          0.        +0.j,  0.        +0.j,  0.        +0.j,\n",
       "          0.        +0.j],\n",
       "        [ 0.        +0.j,  0.        +0.j,  0.        +0.j,\n",
       "          0.        +0.j,  0.        +0.j,  0.        +0.j,\n",
       "         -0.19679058+0.j,  0.        +0.j,  0.        +0.j,\n",
       "         -0.54908121+0.j,  0.        +0.j,  0.        +0.j,\n",
       "          0.        +0.j,  0.        +0.j,  0.        +0.j,\n",
       "          0.        +0.j],\n",
       "        [ 0.        +0.j,  0.        +0.j,  0.        +0.j,\n",
       "          0.        +0.j,  0.        +0.j,  0.        +0.j,\n",
       "          0.        +0.j,  0.        +0.j,  0.        +0.j,\n",
       "          0.        +0.j, -0.74587179+0.j,  0.        +0.j,\n",
       "          0.        +0.j,  0.        +0.j,  0.        +0.j,\n",
       "          0.        +0.j],\n",
       "        [ 0.        +0.j,  0.        +0.j,  0.        +0.j,\n",
       "          0.        +0.j,  0.        +0.j,  0.        +0.j,\n",
       "          0.        +0.j,  0.        +0.j,  0.        +0.j,\n",
       "          0.        +0.j,  0.        +0.j, -0.06021529+0.j,\n",
       "          0.        +0.j,  0.        +0.j,  0.        +0.j,\n",
       "          0.        +0.j],\n",
       "        [ 0.        +0.j,  0.        +0.j,  0.        +0.j,\n",
       "          0.19679058+0.j,  0.        +0.j,  0.        +0.j,\n",
       "          0.        +0.j,  0.        +0.j,  0.        +0.j,\n",
       "          0.        +0.j,  0.        +0.j,  0.        +0.j,\n",
       "         -1.06610865+0.j,  0.        +0.j,  0.        +0.j,\n",
       "          0.        +0.j],\n",
       "        [ 0.        +0.j,  0.        +0.j,  0.        +0.j,\n",
       "          0.        +0.j,  0.        +0.j,  0.        +0.j,\n",
       "          0.        +0.j,  0.        +0.j,  0.        +0.j,\n",
       "          0.        +0.j,  0.        +0.j,  0.        +0.j,\n",
       "          0.        +0.j, -0.60860671+0.j,  0.        +0.j,\n",
       "          0.        +0.j],\n",
       "        [ 0.        +0.j,  0.        +0.j,  0.        +0.j,\n",
       "          0.        +0.j,  0.        +0.j,  0.        +0.j,\n",
       "          0.        +0.j,  0.        +0.j,  0.        +0.j,\n",
       "          0.        +0.j,  0.        +0.j,  0.        +0.j,\n",
       "          0.        +0.j,  0.        +0.j, -0.60860671+0.j,\n",
       "          0.        +0.j],\n",
       "        [ 0.        +0.j,  0.        +0.j,  0.        +0.j,\n",
       "          0.        +0.j,  0.        +0.j,  0.        +0.j,\n",
       "          0.        +0.j,  0.        +0.j,  0.        +0.j,\n",
       "          0.        +0.j,  0.        +0.j,  0.        +0.j,\n",
       "          0.        +0.j,  0.        +0.j,  0.        +0.j,\n",
       "          0.50196598+0.j]])"
      ]
     },
     "execution_count": 6,
     "metadata": {},
     "output_type": "execute_result"
    }
   ],
   "source": [
    "#give second quant molecular Hamiltonian:\n",
    "Hamilt.Get_Molecular_Hamiltonian(Get_H_matrix=True)\n",
    "print(Hamilt.MolecularHamiltonian)\n",
    "\n",
    "#if Get_H_matrix=True ... then the matrix of this Hamiltonian is found\n",
    "Hamilt.MolecularHamiltonianMatrix.todense()"
   ]
  },
  {
   "cell_type": "markdown",
   "metadata": {},
   "source": [
    "Can get singles Hamiltonian: $h_{p, q}$ terms:"
   ]
  },
  {
   "cell_type": "code",
   "execution_count": 7,
   "metadata": {},
   "outputs": [
    {
     "name": "stdout",
     "output_type": "stream",
     "text": [
      "[[-1.11084418  0.          0.          0.        ]\n",
      " [ 0.         -1.11084418  0.          0.        ]\n",
      " [ 0.          0.         -0.589121    0.        ]\n",
      " [ 0.          0.          0.         -0.589121  ]]\n"
     ]
    }
   ],
   "source": [
    "print(Hamilt.singles_hamiltonian)"
   ]
  },
  {
   "cell_type": "markdown",
   "metadata": {},
   "source": [
    "Can get singles Hamiltonian: $ h_{p, q, r, s}$ terms:"
   ]
  },
  {
   "cell_type": "code",
   "execution_count": 8,
   "metadata": {},
   "outputs": [
    {
     "name": "stdout",
     "output_type": "stream",
     "text": [
      "[[[[0.31320125 0.         0.         0.        ]\n",
      "   [0.         0.         0.         0.        ]\n",
      "   [0.         0.         0.09839529 0.        ]\n",
      "   [0.         0.         0.         0.        ]]\n",
      "\n",
      "  [[0.         0.         0.         0.        ]\n",
      "   [0.31320125 0.         0.         0.        ]\n",
      "   [0.         0.         0.         0.        ]\n",
      "   [0.         0.         0.09839529 0.        ]]\n",
      "\n",
      "  [[0.         0.         0.09839529 0.        ]\n",
      "   [0.         0.         0.         0.        ]\n",
      "   [0.31085338 0.         0.         0.        ]\n",
      "   [0.         0.         0.         0.        ]]\n",
      "\n",
      "  [[0.         0.         0.         0.        ]\n",
      "   [0.         0.         0.09839529 0.        ]\n",
      "   [0.         0.         0.         0.        ]\n",
      "   [0.31085338 0.         0.         0.        ]]]\n",
      "\n",
      "\n",
      " [[[0.         0.31320125 0.         0.        ]\n",
      "   [0.         0.         0.         0.        ]\n",
      "   [0.         0.         0.         0.09839529]\n",
      "   [0.         0.         0.         0.        ]]\n",
      "\n",
      "  [[0.         0.         0.         0.        ]\n",
      "   [0.         0.31320125 0.         0.        ]\n",
      "   [0.         0.         0.         0.        ]\n",
      "   [0.         0.         0.         0.09839529]]\n",
      "\n",
      "  [[0.         0.         0.         0.09839529]\n",
      "   [0.         0.         0.         0.        ]\n",
      "   [0.         0.31085338 0.         0.        ]\n",
      "   [0.         0.         0.         0.        ]]\n",
      "\n",
      "  [[0.         0.         0.         0.        ]\n",
      "   [0.         0.         0.         0.09839529]\n",
      "   [0.         0.         0.         0.        ]\n",
      "   [0.         0.31085338 0.         0.        ]]]\n",
      "\n",
      "\n",
      " [[[0.         0.         0.31085338 0.        ]\n",
      "   [0.         0.         0.         0.        ]\n",
      "   [0.09839529 0.         0.         0.        ]\n",
      "   [0.         0.         0.         0.        ]]\n",
      "\n",
      "  [[0.         0.         0.         0.        ]\n",
      "   [0.         0.         0.31085338 0.        ]\n",
      "   [0.         0.         0.         0.        ]\n",
      "   [0.09839529 0.         0.         0.        ]]\n",
      "\n",
      "  [[0.09839529 0.         0.         0.        ]\n",
      "   [0.         0.         0.         0.        ]\n",
      "   [0.         0.         0.32653537 0.        ]\n",
      "   [0.         0.         0.         0.        ]]\n",
      "\n",
      "  [[0.         0.         0.         0.        ]\n",
      "   [0.09839529 0.         0.         0.        ]\n",
      "   [0.         0.         0.         0.        ]\n",
      "   [0.         0.         0.32653537 0.        ]]]\n",
      "\n",
      "\n",
      " [[[0.         0.         0.         0.31085338]\n",
      "   [0.         0.         0.         0.        ]\n",
      "   [0.         0.09839529 0.         0.        ]\n",
      "   [0.         0.         0.         0.        ]]\n",
      "\n",
      "  [[0.         0.         0.         0.        ]\n",
      "   [0.         0.         0.         0.31085338]\n",
      "   [0.         0.         0.         0.        ]\n",
      "   [0.         0.09839529 0.         0.        ]]\n",
      "\n",
      "  [[0.         0.09839529 0.         0.        ]\n",
      "   [0.         0.         0.         0.        ]\n",
      "   [0.         0.         0.         0.32653537]\n",
      "   [0.         0.         0.         0.        ]]\n",
      "\n",
      "  [[0.         0.         0.         0.        ]\n",
      "   [0.         0.09839529 0.         0.        ]\n",
      "   [0.         0.         0.         0.        ]\n",
      "   [0.         0.         0.         0.32653537]]]]\n"
     ]
    }
   ],
   "source": [
    "print(Hamilt.doubles_hamiltonian)"
   ]
  },
  {
   "cell_type": "markdown",
   "metadata": {},
   "source": [
    "## Find CCSD amplitudes from CLASSICAL quantum chem calculation"
   ]
  },
  {
   "cell_type": "markdown",
   "metadata": {},
   "source": [
    "Coupled cluster considers **single** and **double** electron excitations from HF state.\n",
    "\n",
    "$$U_{CCSD} =e^{\\left(T_{1}-T_{1}^{\\dagger}\\right)+\\left(T_{2}-T_{2}^{\\dagger}\\right)}$$\n",
    "\n",
    "$$T_{1} = \\sum_{\\substack{i\\in occ \\\\  \\alpha \\in virt}} t_{\\alpha}^{i}a_{\\alpha}^{\\dagger}a_{i}$$\n",
    "\n",
    "\n",
    "$$T_{2} = \\sum_{\\substack{i>j\\in occ, \\\\  \\alpha > \\beta \\in virt}} t_{\\alpha \\beta}^{ij}a_{\\alpha}^{\\dagger}a_{\\beta}^{\\dagger}a_{i}a_{j}$$\n",
    "\n",
    "Overall:\n",
    "\n",
    "$$|\\psi_{UCC}\\rangle = e^{T-T^{\\dagger}}|\\psi_{HF}\\rangle$$\n",
    "\n",
    "^^ looking at classical calculation... we can find the **most important terms!**"
   ]
  },
  {
   "cell_type": "code",
   "execution_count": 9,
   "metadata": {},
   "outputs": [
    {
     "name": "stdout",
     "output_type": "stream",
     "text": [
      "[[0. 0. 0. 0.]\n",
      " [0. 0. 0. 0.]\n",
      " [0. 0. 0. 0.]\n",
      " [0. 0. 0. 0.]]\n",
      "[[[[ 0.          0.          0.          0.        ]\n",
      "   [ 0.          0.          0.          0.        ]\n",
      "   [ 0.          0.          0.          0.        ]\n",
      "   [ 0.          0.          0.          0.        ]]\n",
      "\n",
      "  [[ 0.          0.          0.          0.        ]\n",
      "   [ 0.          0.          0.          0.        ]\n",
      "   [ 0.          0.          0.          0.        ]\n",
      "   [ 0.          0.          0.          0.        ]]\n",
      "\n",
      "  [[ 0.          0.          0.          0.        ]\n",
      "   [ 0.          0.          0.          0.        ]\n",
      "   [ 0.          0.          0.          0.        ]\n",
      "   [ 0.          0.          0.          0.        ]]\n",
      "\n",
      "  [[ 0.          0.          0.          0.        ]\n",
      "   [ 0.          0.          0.          0.        ]\n",
      "   [ 0.          0.          0.          0.        ]\n",
      "   [ 0.          0.          0.          0.        ]]]\n",
      "\n",
      "\n",
      " [[[ 0.          0.          0.          0.        ]\n",
      "   [ 0.          0.          0.          0.        ]\n",
      "   [ 0.          0.          0.          0.        ]\n",
      "   [ 0.          0.          0.          0.        ]]\n",
      "\n",
      "  [[ 0.          0.          0.          0.        ]\n",
      "   [ 0.          0.          0.          0.        ]\n",
      "   [ 0.          0.          0.          0.        ]\n",
      "   [ 0.          0.          0.          0.        ]]\n",
      "\n",
      "  [[ 0.          0.          0.          0.        ]\n",
      "   [ 0.          0.          0.          0.        ]\n",
      "   [ 0.          0.          0.          0.        ]\n",
      "   [ 0.          0.          0.          0.        ]]\n",
      "\n",
      "  [[ 0.          0.          0.          0.        ]\n",
      "   [ 0.          0.          0.          0.        ]\n",
      "   [ 0.          0.          0.          0.        ]\n",
      "   [ 0.          0.          0.          0.        ]]]\n",
      "\n",
      "\n",
      " [[[ 0.          0.          0.          0.        ]\n",
      "   [ 0.          0.          0.          0.        ]\n",
      "   [ 0.          0.          0.          0.        ]\n",
      "   [ 0.         -0.08903292  0.          0.        ]]\n",
      "\n",
      "  [[ 0.          0.          0.          0.        ]\n",
      "   [ 0.          0.          0.          0.        ]\n",
      "   [ 0.          0.          0.          0.        ]\n",
      "   [ 0.          0.          0.          0.        ]]\n",
      "\n",
      "  [[ 0.          0.          0.          0.        ]\n",
      "   [ 0.          0.          0.          0.        ]\n",
      "   [ 0.          0.          0.          0.        ]\n",
      "   [ 0.          0.          0.          0.        ]]\n",
      "\n",
      "  [[ 0.          0.          0.          0.        ]\n",
      "   [ 0.          0.          0.          0.        ]\n",
      "   [ 0.          0.          0.          0.        ]\n",
      "   [ 0.          0.          0.          0.        ]]]\n",
      "\n",
      "\n",
      " [[[ 0.          0.          0.          0.        ]\n",
      "   [ 0.          0.          0.          0.        ]\n",
      "   [ 0.          0.          0.          0.        ]\n",
      "   [ 0.          0.          0.          0.        ]]\n",
      "\n",
      "  [[ 0.          0.          0.          0.        ]\n",
      "   [ 0.          0.          0.          0.        ]\n",
      "   [-0.08903292  0.          0.          0.        ]\n",
      "   [ 0.          0.          0.          0.        ]]\n",
      "\n",
      "  [[ 0.          0.          0.          0.        ]\n",
      "   [ 0.          0.          0.          0.        ]\n",
      "   [ 0.          0.          0.          0.        ]\n",
      "   [ 0.          0.          0.          0.        ]]\n",
      "\n",
      "  [[ 0.          0.          0.          0.        ]\n",
      "   [ 0.          0.          0.          0.        ]\n",
      "   [ 0.          0.          0.          0.        ]\n",
      "   [ 0.          0.          0.          0.        ]]]]\n",
      "(array([2, 3]), array([0, 1]), array([3, 2]), array([1, 0]))\n"
     ]
    },
    {
     "data": {
      "text/plain": [
       "-0.08903292495"
      ]
     },
     "execution_count": 9,
     "metadata": {},
     "output_type": "execute_result"
    }
   ],
   "source": [
    "Hamilt.Get_CCSD_Amplitudes()\n",
    "\n",
    "# indexing is a,i (un_occupied=a and occupied=i)\n",
    "print(Hamilt.molecule.single_cc_amplitudes)\n",
    "\n",
    "# indexing is a,i, b, j (occupied=i,j and un_occupied=a,b)\n",
    "print(Hamilt.molecule.double_cc_amplitudes)\n",
    "\n",
    "print(np.where(Hamilt.molecule.double_cc_amplitudes!=0))\n",
    "# for H2 == e- excited from 0-->2 and 1-->3\n",
    "Hamilt.molecule.double_cc_amplitudes[2,0,3,1]\n"
   ]
  },
  {
   "cell_type": "markdown",
   "metadata": {},
   "source": [
    "## Get natural orbital occupation number (NOON)"
   ]
  },
  {
   "cell_type": "markdown",
   "metadata": {},
   "source": [
    "Takes 1-RDM (in the canonical orbital basis from a CISD calculation) which are arranged as \"spin-up, spin-down, spin-up, spin-down...\" combining the spin up and down terms. Diagnoalizing the resultant matrix gives the 1-RDM fermionic natural molecular orbitals (NMO) basis. Eigenvalues of this matrix are the natural orbital occupation number (NOON). Orbitals with a small NOON can be assumed to be UNFILLED and REMOVED from the Hamiltonian! Orbitals with large NOON (close to 2) can assumed to be FILLED and also removed!\n"
   ]
  },
  {
   "cell_type": "code",
   "execution_count": 10,
   "metadata": {},
   "outputs": [
    {
     "name": "stdout",
     "output_type": "stream",
     "text": [
      "[1.93853404 0.06146596]\n"
     ]
    }
   ],
   "source": [
    "NOON, NOON_basis = Hamilt.Get_NOON()\n",
    "print(NOON)"
   ]
  },
  {
   "cell_type": "markdown",
   "metadata": {},
   "source": [
    "## Get Fermionic Molecular Hamiltonian"
   ]
  },
  {
   "cell_type": "markdown",
   "metadata": {},
   "source": [
    "$$H = constant +\\sum_{p, q} h_{p, q} a_{p}^{\\dagger} a_{q}+\\sum_{p, q, r, s} h_{p, q, r, s} a_{p}^{\\dagger} a_{q}^{\\dagger} a_{r} a_{s}$$"
   ]
  },
  {
   "cell_type": "code",
   "execution_count": 11,
   "metadata": {},
   "outputs": [
    {
     "data": {
      "text/plain": [
       "0.52917721067 [] +\n",
       "-1.1108441796505253 [0^ 0] +\n",
       "0.3132012497228679 [0^ 0^ 0 0] +\n",
       "0.09839529175770564 [0^ 0^ 2 2] +\n",
       "0.3132012497228679 [0^ 1^ 1 0] +\n",
       "0.09839529175770564 [0^ 1^ 3 2] +\n",
       "0.09839529175770566 [0^ 2^ 0 2] +\n",
       "0.31085338152472125 [0^ 2^ 2 0] +\n",
       "0.09839529175770566 [0^ 3^ 1 2] +\n",
       "0.31085338152472125 [0^ 3^ 3 0] +\n",
       "0.3132012497228679 [1^ 0^ 0 1] +\n",
       "0.09839529175770564 [1^ 0^ 2 3] +\n",
       "-1.1108441796505253 [1^ 1] +\n",
       "0.3132012497228679 [1^ 1^ 1 1] +\n",
       "0.09839529175770564 [1^ 1^ 3 3] +\n",
       "0.09839529175770566 [1^ 2^ 0 3] +\n",
       "0.31085338152472125 [1^ 2^ 2 1] +\n",
       "0.09839529175770566 [1^ 3^ 1 3] +\n",
       "0.31085338152472125 [1^ 3^ 3 1] +\n",
       "0.3108533815247213 [2^ 0^ 0 2] +\n",
       "0.0983952917577057 [2^ 0^ 2 0] +\n",
       "0.3108533815247213 [2^ 1^ 1 2] +\n",
       "0.0983952917577057 [2^ 1^ 3 0] +\n",
       "-0.5891210038450492 [2^ 2] +\n",
       "0.09839529175770567 [2^ 2^ 0 0] +\n",
       "0.3265353734334958 [2^ 2^ 2 2] +\n",
       "0.09839529175770567 [2^ 3^ 1 0] +\n",
       "0.3265353734334958 [2^ 3^ 3 2] +\n",
       "0.3108533815247213 [3^ 0^ 0 3] +\n",
       "0.0983952917577057 [3^ 0^ 2 1] +\n",
       "0.3108533815247213 [3^ 1^ 1 3] +\n",
       "0.0983952917577057 [3^ 1^ 3 1] +\n",
       "0.09839529175770567 [3^ 2^ 0 1] +\n",
       "0.3265353734334958 [3^ 2^ 2 3] +\n",
       "-0.5891210038450492 [3^ 3] +\n",
       "0.09839529175770567 [3^ 3^ 1 1] +\n",
       "0.3265353734334958 [3^ 3^ 3 3]"
      ]
     },
     "execution_count": 11,
     "metadata": {},
     "output_type": "execute_result"
    }
   ],
   "source": [
    "Hamilt.Get_Fermionic_Hamiltonian()"
   ]
  },
  {
   "cell_type": "markdown",
   "metadata": {},
   "source": [
    "## Get Qubit Hamiltonian"
   ]
  },
  {
   "cell_type": "markdown",
   "metadata": {},
   "source": [
    "$$H = \\sum_{i} \\alpha_{i} P_{i}$$"
   ]
  },
  {
   "cell_type": "markdown",
   "metadata": {},
   "source": [
    "#### Jordan Wigner Transformation:"
   ]
  },
  {
   "cell_type": "code",
   "execution_count": 12,
   "metadata": {},
   "outputs": [
    {
     "data": {
      "text/plain": [
       "(-0.32760818995565577+0j) [] +\n",
       "(-0.04919764587885283+0j) [X0 X1 Y2 Y3] +\n",
       "(0.04919764587885283+0j) [X0 Y1 Y2 X3] +\n",
       "(0.04919764587885283+0j) [Y0 X1 X2 Y3] +\n",
       "(-0.04919764587885283+0j) [Y0 Y1 X2 X3] +\n",
       "(0.1371657293179602+0j) [Z0] +\n",
       "(0.15660062486143395+0j) [Z0 Z1] +\n",
       "(0.10622904488350779+0j) [Z0 Z2] +\n",
       "(0.15542669076236065+0j) [Z0 Z3] +\n",
       "(0.1371657293179602+0j) [Z1] +\n",
       "(0.15542669076236065+0j) [Z1 Z2] +\n",
       "(0.10622904488350779+0j) [Z1 Z3] +\n",
       "(-0.13036292044009176+0j) [Z2] +\n",
       "(0.1632676867167479+0j) [Z2 Z3] +\n",
       "(-0.13036292044009176+0j) [Z3]"
      ]
     },
     "execution_count": 12,
     "metadata": {},
     "output_type": "execute_result"
    }
   ],
   "source": [
    "Hamilt.Get_Qubit_Hamiltonian(threshold=None, transformation='JW')"
   ]
  },
  {
   "cell_type": "code",
   "execution_count": 13,
   "metadata": {},
   "outputs": [
    {
     "data": {
      "text/plain": [
       "(-0.32760818995565577+0j) [] +\n",
       "(0.15660062486143395+0j) [Z0 Z1] +\n",
       "(0.15542669076236065+0j) [Z0 Z3] +\n",
       "(0.15542669076236065+0j) [Z1 Z2] +\n",
       "(0.1632676867167479+0j) [Z2 Z3]"
      ]
     },
     "execution_count": 13,
     "metadata": {},
     "output_type": "execute_result"
    }
   ],
   "source": [
    "#Threshold can be used to remove small terms\n",
    "Hamilt.Get_Qubit_Hamiltonian(threshold=0.14, transformation='JW')"
   ]
  },
  {
   "cell_type": "markdown",
   "metadata": {},
   "source": [
    "#### Bravyi kitaev transformation:"
   ]
  },
  {
   "cell_type": "code",
   "execution_count": 14,
   "metadata": {},
   "outputs": [
    {
     "data": {
      "text/plain": [
       "(-0.32760818995565577+0j) [] +\n",
       "(0.04919764587885283+0j) [X0 Z1 X2] +\n",
       "(0.04919764587885283+0j) [X0 Z1 X2 Z3] +\n",
       "(0.04919764587885283+0j) [Y0 Z1 Y2] +\n",
       "(0.04919764587885283+0j) [Y0 Z1 Y2 Z3] +\n",
       "(0.1371657293179602+0j) [Z0] +\n",
       "(0.1371657293179602+0j) [Z0 Z1] +\n",
       "(0.15542669076236065+0j) [Z0 Z1 Z2] +\n",
       "(0.15542669076236065+0j) [Z0 Z1 Z2 Z3] +\n",
       "(0.10622904488350779+0j) [Z0 Z2] +\n",
       "(0.10622904488350779+0j) [Z0 Z2 Z3] +\n",
       "(0.15660062486143395+0j) [Z1] +\n",
       "(-0.13036292044009176+0j) [Z1 Z2 Z3] +\n",
       "(0.1632676867167479+0j) [Z1 Z3] +\n",
       "(-0.13036292044009176+0j) [Z2]"
      ]
     },
     "execution_count": 14,
     "metadata": {},
     "output_type": "execute_result"
    }
   ],
   "source": [
    "Hamilt.Get_Qubit_Hamiltonian(threshold=None, transformation='BK')"
   ]
  },
  {
   "cell_type": "code",
   "execution_count": null,
   "metadata": {},
   "outputs": [],
   "source": []
  },
  {
   "cell_type": "markdown",
   "metadata": {},
   "source": [
    "## Convert QubitOperator to matrix"
   ]
  },
  {
   "cell_type": "code",
   "execution_count": 15,
   "metadata": {},
   "outputs": [
    {
     "data": {
      "text/plain": [
       "matrix([[ 0.52917721+0.j,  0.        +0.j,  0.        +0.j,\n",
       "          0.        +0.j,  0.        +0.j,  0.        +0.j,\n",
       "          0.        +0.j,  0.        +0.j,  0.        +0.j,\n",
       "          0.        +0.j,  0.        +0.j,  0.        +0.j,\n",
       "          0.        +0.j,  0.        +0.j,  0.        +0.j,\n",
       "          0.        +0.j],\n",
       "        [ 0.        +0.j, -0.05994379+0.j,  0.        +0.j,\n",
       "          0.        +0.j,  0.        +0.j,  0.        +0.j,\n",
       "          0.        +0.j,  0.        +0.j,  0.        +0.j,\n",
       "          0.        +0.j,  0.        +0.j,  0.        +0.j,\n",
       "          0.        +0.j,  0.        +0.j,  0.        +0.j,\n",
       "          0.        +0.j],\n",
       "        [ 0.        +0.j,  0.        +0.j,  0.00400595+0.j,\n",
       "          0.        +0.j,  0.        +0.j,  0.        +0.j,\n",
       "          0.        +0.j,  0.        +0.j,  0.19679058+0.j,\n",
       "          0.        +0.j,  0.        +0.j,  0.        +0.j,\n",
       "          0.        +0.j,  0.        +0.j,  0.        +0.j,\n",
       "          0.        +0.j],\n",
       "        [ 0.        +0.j,  0.        +0.j,  0.        +0.j,\n",
       "         -0.05994379+0.j,  0.        +0.j,  0.        +0.j,\n",
       "          0.        +0.j,  0.        +0.j,  0.        +0.j,\n",
       "          0.        +0.j,  0.        +0.j,  0.        +0.j,\n",
       "          0.        +0.j,  0.        +0.j,  0.        +0.j,\n",
       "          0.        +0.j],\n",
       "        [ 0.        +0.j,  0.        +0.j,  0.        +0.j,\n",
       "          0.        +0.j, -0.74587179+0.j,  0.        +0.j,\n",
       "          0.        +0.j,  0.        +0.j,  0.        +0.j,\n",
       "          0.        +0.j,  0.        +0.j,  0.        +0.j,\n",
       "          0.        +0.j,  0.        +0.j,  0.        +0.j,\n",
       "          0.        +0.j],\n",
       "        [ 0.        +0.j,  0.        +0.j,  0.        +0.j,\n",
       "          0.        +0.j,  0.        +0.j, -0.58166697+0.j,\n",
       "          0.        +0.j,  0.        +0.j,  0.        +0.j,\n",
       "          0.        +0.j,  0.        +0.j,  0.        +0.j,\n",
       "          0.        +0.j,  0.        +0.j,  0.        +0.j,\n",
       "          0.        +0.j],\n",
       "        [ 0.        +0.j,  0.        +0.j,  0.        +0.j,\n",
       "          0.        +0.j,  0.        +0.j,  0.        +0.j,\n",
       "         -0.54908121+0.j,  0.        +0.j,  0.        +0.j,\n",
       "          0.        +0.j,  0.        +0.j,  0.        +0.j,\n",
       "         -0.19679058+0.j,  0.        +0.j,  0.        +0.j,\n",
       "          0.        +0.j],\n",
       "        [ 0.        +0.j,  0.        +0.j,  0.        +0.j,\n",
       "          0.        +0.j,  0.        +0.j,  0.        +0.j,\n",
       "          0.        +0.j, -0.06021529+0.j,  0.        +0.j,\n",
       "          0.        +0.j,  0.        +0.j,  0.        +0.j,\n",
       "          0.        +0.j,  0.        +0.j,  0.        +0.j,\n",
       "          0.        +0.j],\n",
       "        [ 0.        +0.j,  0.        +0.j,  0.19679058+0.j,\n",
       "          0.        +0.j,  0.        +0.j,  0.        +0.j,\n",
       "          0.        +0.j,  0.        +0.j, -1.06610865+0.j,\n",
       "          0.        +0.j,  0.        +0.j,  0.        +0.j,\n",
       "          0.        +0.j,  0.        +0.j,  0.        +0.j,\n",
       "          0.        +0.j],\n",
       "        [ 0.        +0.j,  0.        +0.j,  0.        +0.j,\n",
       "          0.        +0.j,  0.        +0.j,  0.        +0.j,\n",
       "          0.        +0.j,  0.        +0.j,  0.        +0.j,\n",
       "         -0.60860671+0.j,  0.        +0.j,  0.        +0.j,\n",
       "          0.        +0.j,  0.        +0.j,  0.        +0.j,\n",
       "          0.        +0.j],\n",
       "        [ 0.        +0.j,  0.        +0.j,  0.        +0.j,\n",
       "          0.        +0.j,  0.        +0.j,  0.        +0.j,\n",
       "          0.        +0.j,  0.        +0.j,  0.        +0.j,\n",
       "          0.        +0.j,  0.50196598+0.j,  0.        +0.j,\n",
       "          0.        +0.j,  0.        +0.j,  0.        +0.j,\n",
       "          0.        +0.j],\n",
       "        [ 0.        +0.j,  0.        +0.j,  0.        +0.j,\n",
       "          0.        +0.j,  0.        +0.j,  0.        +0.j,\n",
       "          0.        +0.j,  0.        +0.j,  0.        +0.j,\n",
       "          0.        +0.j,  0.        +0.j, -0.60860671+0.j,\n",
       "          0.        +0.j,  0.        +0.j,  0.        +0.j,\n",
       "          0.        +0.j],\n",
       "        [ 0.        +0.j,  0.        +0.j,  0.        +0.j,\n",
       "          0.        +0.j,  0.        +0.j,  0.        +0.j,\n",
       "         -0.19679058+0.j,  0.        +0.j,  0.        +0.j,\n",
       "          0.        +0.j,  0.        +0.j,  0.        +0.j,\n",
       "         -0.54908121+0.j,  0.        +0.j,  0.        +0.j,\n",
       "          0.        +0.j],\n",
       "        [ 0.        +0.j,  0.        +0.j,  0.        +0.j,\n",
       "          0.        +0.j,  0.        +0.j,  0.        +0.j,\n",
       "          0.        +0.j,  0.        +0.j,  0.        +0.j,\n",
       "          0.        +0.j,  0.        +0.j,  0.        +0.j,\n",
       "          0.        +0.j, -0.58166697+0.j,  0.        +0.j,\n",
       "          0.        +0.j],\n",
       "        [ 0.        +0.j,  0.        +0.j,  0.        +0.j,\n",
       "          0.        +0.j,  0.        +0.j,  0.        +0.j,\n",
       "          0.        +0.j,  0.        +0.j,  0.        +0.j,\n",
       "          0.        +0.j,  0.        +0.j,  0.        +0.j,\n",
       "          0.        +0.j,  0.        +0.j, -0.74587179+0.j,\n",
       "          0.        +0.j],\n",
       "        [ 0.        +0.j,  0.        +0.j,  0.        +0.j,\n",
       "          0.        +0.j,  0.        +0.j,  0.        +0.j,\n",
       "          0.        +0.j,  0.        +0.j,  0.        +0.j,\n",
       "          0.        +0.j,  0.        +0.j,  0.        +0.j,\n",
       "          0.        +0.j,  0.        +0.j,  0.        +0.j,\n",
       "         -0.06021529+0.j]])"
      ]
     },
     "execution_count": 15,
     "metadata": {},
     "output_type": "execute_result"
    }
   ],
   "source": [
    "Qubit_Op = Hamilt.Get_Qubit_Hamiltonian(threshold=None, transformation='BK')\n",
    "\n",
    "matrix_qubit_op = Hamilt.Get_sparse_Qubit_Hamiltonian_matrix(Qubit_Op)\n",
    "matrix_qubit_op.todense()"
   ]
  }
 ],
 "metadata": {
  "kernelspec": {
   "display_name": "Python 3",
   "language": "python",
   "name": "python3"
  },
  "language_info": {
   "codemirror_mode": {
    "name": "ipython",
    "version": 3
   },
   "file_extension": ".py",
   "mimetype": "text/x-python",
   "name": "python",
   "nbconvert_exporter": "python",
   "pygments_lexer": "ipython3",
   "version": "3.7.6"
  }
 },
 "nbformat": 4,
 "nbformat_minor": 2
}
