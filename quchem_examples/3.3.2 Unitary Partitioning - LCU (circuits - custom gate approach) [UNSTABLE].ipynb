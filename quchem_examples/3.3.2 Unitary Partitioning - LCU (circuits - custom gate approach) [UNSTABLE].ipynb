{
 "cells": [
  {
   "cell_type": "code",
   "execution_count": 1,
   "metadata": {},
   "outputs": [],
   "source": [
    "import os\n",
    "import ast\n",
    "import cirq\n",
    "import numpy as np"
   ]
  },
  {
   "cell_type": "code",
   "execution_count": 2,
   "metadata": {},
   "outputs": [],
   "source": [
    "### open Hamiltonian data ###\n",
    "\n",
    "working_dir = os.getcwd()\n",
    "parent_dir = os.path.dirname(working_dir) # gets directory where running python file is!\n",
    "\n",
    "data_dir = os.path.join(parent_dir, 'Molecular_Hamiltonian_data')\n",
    "hamiltonian_data = os.path.join(data_dir, 'hamiltonians.txt')"
   ]
  },
  {
   "cell_type": "code",
   "execution_count": null,
   "metadata": {},
   "outputs": [],
   "source": []
  },
  {
   "cell_type": "code",
   "execution_count": 3,
   "metadata": {},
   "outputs": [
    {
     "name": "stdout",
     "output_type": "stream",
     "text": [
      "H2-S1_STO-3G_singlet          n_qubits:  18   \n",
      "C1-O1_STO-3G_singlet          n_qubits:  16   \n",
      "H1-Cl1_STO-3G_singlet         n_qubits:  16   \n",
      "H1-Na1_STO-3G_singlet         n_qubits:  16   \n",
      "H2-Mg1_STO-3G_singlet         n_qubits:  17   \n",
      "H1-F1_3-21G_singlet           n_qubits:  18   \n",
      "H1-Li1_3-21G_singlet          n_qubits:  18   \n",
      "Be1_STO-3G_singlet            n_qubits:  5    \n",
      "H1-F1_STO-3G_singlet          n_qubits:  8    \n",
      "H1-Li1_STO-3G_singlet         n_qubits:  8    \n",
      "Ar1_STO-3G_singlet            n_qubits:  13   \n",
      "F2_STO-3G_singlet             n_qubits:  15   \n",
      "H1-O1_STO-3G_singlet          n_qubits:  8    \n",
      "H2-Be1_STO-3G_singlet         n_qubits:  9    \n",
      "H2-O1_STO-3G_singlet          n_qubits:  10   \n",
      "H2_3-21G_singlet              n_qubits:  5    \n",
      "H2_6-31G_singlet              n_qubits:  5    \n",
      "H3-N1_STO-3G_singlet          n_qubits:  13   \n",
      "H4-C1_STO-3G_singlet          n_qubits:  14   \n",
      "Mg1_STO-3G_singlet            n_qubits:  13   \n",
      "N2_STO-3G_singlet             n_qubits:  15   \n",
      "Ne1_STO-3G_singlet            n_qubits:  5    \n",
      "O2_STO-3G_singlet             n_qubits:  15   \n",
      "H1-Li1-O1_STO-3G_singlet      n_qubits:  18   \n",
      "H1-He1_STO-3G_singlet         n_qubits:  2    \n",
      "H3_STO-3G_singlet_1+          n_qubits:  3    \n",
      "H1-He1_3-21G_singlet_1+       n_qubits:  6    \n",
      "H3_3-21G_singlet_1+           n_qubits:  9    \n",
      "H4-N1_STO-3G_singlet_1+       n_qubits:  14   \n"
     ]
    }
   ],
   "source": [
    "with open(hamiltonian_data, 'r') as input_file:\n",
    "    hamiltonians = ast.literal_eval(input_file.read())\n",
    "\n",
    "for key in hamiltonians.keys():\n",
    "    print(f\"{key: <25}     n_qubits:  {hamiltonians[key][1]:<5.0f}\")"
   ]
  },
  {
   "cell_type": "code",
   "execution_count": null,
   "metadata": {},
   "outputs": [],
   "source": []
  },
  {
   "cell_type": "code",
   "execution_count": 4,
   "metadata": {},
   "outputs": [],
   "source": [
    "molecule_key = 'H3_STO-3G_singlet_1+'\n",
    "transformation, N_qubits, Hamilt_dictionary, _ ,_, _ = hamiltonians[molecule_key]"
   ]
  },
  {
   "cell_type": "markdown",
   "metadata": {},
   "source": [
    "# 1. Get OpenFermion representation of Hamiltonian"
   ]
  },
  {
   "cell_type": "code",
   "execution_count": 5,
   "metadata": {},
   "outputs": [
    {
     "data": {
      "text/plain": [
       "-1.7512307459285525 [] +\n",
       "0.01872992170537467 [X0] +\n",
       "-0.023568139980123585 [X0 X1] +\n",
       "0.03597868636603963 [X0 X1 X2] +\n",
       "-0.023568139980123585 [X0 X1 Z2] +\n",
       "-0.03597868636603963 [X0 Y1 Y2] +\n",
       "0.01872992170537467 [X0 Z1] +\n",
       "0.023568139980123585 [X0 Z1 X2] +\n",
       "0.01872992170537467 [X0 Z1 Z2] +\n",
       "0.023568139980123585 [X0 X2] +\n",
       "0.01872992170537467 [X0 Z2] +\n",
       "0.03597868636603963 [Y0 X1 Y2] +\n",
       "-0.023568139980123585 [Y0 Y1] +\n",
       "0.03597868636603963 [Y0 Y1 X2] +\n",
       "-0.023568139980123585 [Y0 Y1 Z2] +\n",
       "0.023568139980123585 [Y0 Z1 Y2] +\n",
       "0.023568139980123585 [Y0 Y2] +\n",
       "-0.45436486525596403 [Z0] +\n",
       "0.02356815233618002 [Z0 X1] +\n",
       "0.02356815233617983 [Z0 X1 Z2] +\n",
       "-0.07195737217001562 [Z0 Y1 Y2] +\n",
       "0.37110605476609804 [Z0 Z1] +\n",
       "-0.023568152336179825 [Z0 Z1 X2] +\n",
       "-0.2878474382772282 [Z0 Z1 Z2] +\n",
       "-0.023568152336180023 [Z0 X2] +\n",
       "0.37110605476609787 [Z0 Z2] +\n",
       "0.02356815233618002 [X1] +\n",
       "0.02356815233617983 [X1 Z2] +\n",
       "-0.07195737217001562 [Y1 Y2] +\n",
       "-0.017109477140260287 [Z1] +\n",
       "-0.023568152336179825 [Z1 X2] +\n",
       "0.31270210682950855 [Z1 Z2] +\n",
       "-0.023568152336180023 [X2] +\n",
       "-0.017109477140260287 [Z2]"
      ]
     },
     "execution_count": 5,
     "metadata": {},
     "output_type": "execute_result"
    }
   ],
   "source": [
    "from quchem.Misc_functions.conversion_scripts import Get_Openfermion_Hamiltonian\n",
    "\n",
    "openFermion_H = Get_Openfermion_Hamiltonian(Hamilt_dictionary)\n",
    "openFermion_H"
   ]
  },
  {
   "cell_type": "code",
   "execution_count": null,
   "metadata": {},
   "outputs": [],
   "source": []
  },
  {
   "cell_type": "markdown",
   "metadata": {},
   "source": [
    "# 2. Get cliques defined by commutativity \n"
   ]
  },
  {
   "cell_type": "code",
   "execution_count": 6,
   "metadata": {},
   "outputs": [
    {
     "data": {
      "text/plain": [
       "{0: [-1.7512307459285525 []],\n",
       " 1: [-0.017109477140260287 [Z2],\n",
       "  -0.023568152336179825 [Z1 X2],\n",
       "  0.03597868636603963 [X0 X1 X2],\n",
       "  0.023568139980123585 [Y0 Z1 Y2]],\n",
       " 2: [0.02356815233617983 [X1 Z2],\n",
       "  -0.017109477140260287 [Z1],\n",
       "  0.03597868636603963 [Y0 X1 Y2],\n",
       "  -0.023568139980123585 [Y0 Y1]],\n",
       " 3: [0.37110605476609787 [Z0 Z2],\n",
       "  -0.023568152336179825 [Z0 Z1 X2],\n",
       "  0.01872992170537467 [X0],\n",
       "  -0.023568139980123585 [Y0 Y1 Z2]],\n",
       " 4: [0.02356815233617983 [Z0 X1 Z2],\n",
       "  0.37110605476609804 [Z0 Z1],\n",
       "  0.01872992170537467 [X0 Z2],\n",
       "  0.023568139980123585 [X0 Z1 X2]],\n",
       " 5: [0.023568139980123585 [X0 X2],\n",
       "  -0.023568139980123585 [X0 X1 Z2],\n",
       "  0.01872992170537467 [X0 Z1 Z2],\n",
       "  0.03597868636603963 [Y0 Y1 X2],\n",
       "  -0.45436486525596403 [Z0]],\n",
       " 6: [-0.023568139980123585 [X0 X1],\n",
       "  -0.03597868636603963 [X0 Y1 Y2],\n",
       "  0.01872992170537467 [X0 Z1],\n",
       "  0.023568139980123585 [Y0 Y2]],\n",
       " 7: [-0.023568152336180023 [X2], -0.07195737217001562 [Y1 Y2]],\n",
       " 8: [0.02356815233618002 [X1], 0.31270210682950855 [Z1 Z2]],\n",
       " 9: [-0.023568152336180023 [Z0 X2], -0.07195737217001562 [Z0 Y1 Y2]],\n",
       " 10: [0.02356815233618002 [Z0 X1], -0.2878474382772282 [Z0 Z1 Z2]]}"
      ]
     },
     "execution_count": 6,
     "metadata": {},
     "output_type": "execute_result"
    }
   ],
   "source": [
    "from quchem.Unitary_Partitioning.Graph import Clique_cover_Hamiltonian\n",
    "\n",
    "commutativity_flag = 'AC' ## <- defines relationship between sets!!!\n",
    "Graph_colouring_strategy='largest_first'\n",
    "\n",
    "\n",
    "anti_commuting_sets = Clique_cover_Hamiltonian(openFermion_H, \n",
    "                                                     N_qubits, \n",
    "                                                     commutativity_flag, \n",
    "                                                     Graph_colouring_strategy)\n",
    "anti_commuting_sets"
   ]
  },
  {
   "cell_type": "code",
   "execution_count": null,
   "metadata": {},
   "outputs": [],
   "source": []
  },
  {
   "cell_type": "markdown",
   "metadata": {},
   "source": [
    "# 3. Example of R_l operator"
   ]
  },
  {
   "cell_type": "code",
   "execution_count": 7,
   "metadata": {},
   "outputs": [
    {
     "data": {
      "text/plain": [
       "[0.023568139980123585 [X0 X2],\n",
       " -0.023568139980123585 [X0 X1 Z2],\n",
       " 0.01872992170537467 [X0 Z1 Z2],\n",
       " 0.03597868636603963 [Y0 Y1 X2],\n",
       " -0.45436486525596403 [Z0]]"
      ]
     },
     "execution_count": 7,
     "metadata": {},
     "output_type": "execute_result"
    }
   ],
   "source": [
    "key_larg, largest_AC_set = max(anti_commuting_sets.items(), key=lambda x:len(x[1])) # largest nonCon part found by dfs alg\n",
    "largest_AC_set"
   ]
  },
  {
   "cell_type": "code",
   "execution_count": 8,
   "metadata": {},
   "outputs": [
    {
     "data": {
      "text/plain": [
       "[0.7250957503591403 [],\n",
       " 0.035531648304549975j [X1 Y2],\n",
       " (-0-0.02823748464530462j) [Z1 Y2],\n",
       " 0.054241956789800254j [Z0 Y1],\n",
       " 0.6850066491388216j [Y0 X2]]"
      ]
     },
     "execution_count": 8,
     "metadata": {},
     "output_type": "execute_result"
    }
   ],
   "source": [
    "from quchem.Unitary_Partitioning.Unitary_partitioning_LCU_method import Get_R_op_list\n",
    "\n",
    "N_index=0\n",
    "check_reduction = True\n",
    "\n",
    "R_linear_comb_list, Pn, gamma_l = Get_R_op_list(largest_AC_set,\n",
    "                                                N_index,\n",
    "                                                N_qubits,\n",
    "                                                check_reduction=check_reduction, \n",
    "                                                atol=1e-8,\n",
    "                                                rtol=1e-05)\n",
    "\n",
    "R_linear_comb_list"
   ]
  },
  {
   "cell_type": "markdown",
   "metadata": {},
   "source": [
    "To perform Unitary Partitioning via a LCU - apply the linear combination of operators in ```R_linear_comb_list```\n",
    "\n",
    "- in Q circuit form these all must have real amplitudes\n",
    "- and be l1 normalized"
   ]
  },
  {
   "cell_type": "code",
   "execution_count": 9,
   "metadata": {},
   "outputs": [
    {
     "name": "stdout",
     "output_type": "stream",
     "text": [
      "0.6888424063484021 [] correction factor: 1\n",
      "0.1524859650572247 [X1 Y2] correction factor: 1j\n",
      "0.13593622310380052 [Z1 Y2] correction factor: (-0-1j)\n",
      "0.18840389173794875 [Z0 Y1] correction factor: 1j\n",
      "0.6695293021989245 [Y0 X2] correction factor: 1j\n"
     ]
    }
   ],
   "source": [
    "from quchem.Unitary_Partitioning.LCU_circuit_functions import absorb_complex_phases\n",
    "R_linear_comb_corrected_phase_OP_list, R_linear_comb_correction_values, ancilla_amplitudes, l1_norm = absorb_complex_phases(R_linear_comb_list)\n",
    "\n",
    "for i, op in enumerate(R_linear_comb_corrected_phase_OP_list):\n",
    "    print(op, f'correction factor: {R_linear_comb_correction_values[i]}')\n"
   ]
  },
  {
   "cell_type": "code",
   "execution_count": null,
   "metadata": {},
   "outputs": [],
   "source": []
  },
  {
   "cell_type": "markdown",
   "metadata": {},
   "source": [
    "# 4. Checking custom cirq gate functions"
   ]
  },
  {
   "cell_type": "markdown",
   "metadata": {},
   "source": [
    "### 4.1 modifided single qubit pauli gate with phase factor"
   ]
  },
  {
   "cell_type": "code",
   "execution_count": 10,
   "metadata": {},
   "outputs": [
    {
     "name": "stdout",
     "output_type": "stream",
     "text": [
      "[[0.+0.j 0.-1.j]\n",
      " [0.-1.j 0.+0.j]]\n"
     ]
    },
    {
     "data": {
      "text/html": [
       "<pre style=\"overflow: auto; white-space: pre;\">2: ───(-0-1j)*X───</pre>"
      ],
      "text/plain": [
       "2: ───(-0-1j)*X───"
      ]
     },
     "execution_count": 10,
     "metadata": {},
     "output_type": "execute_result"
    }
   ],
   "source": [
    "from quchem.Unitary_Partitioning.LCU_circuit_functions import Modified_singeQ_Pauligate\n",
    "\n",
    "active_qubit = 2\n",
    "Paulistr = 'X'\n",
    "phase = -1j\n",
    "\n",
    "gate = Modified_singeQ_Pauligate(Paulistr, phase).on(cirq.LineQubit(active_qubit))\n",
    "\n",
    "circuit = cirq.Circuit(gate)\n",
    "\n",
    "print(circuit.unitary())\n",
    "circuit"
   ]
  },
  {
   "cell_type": "code",
   "execution_count": null,
   "metadata": {},
   "outputs": [],
   "source": []
  },
  {
   "cell_type": "markdown",
   "metadata": {},
   "source": [
    "### 4.2 modifided pauliword gate with phase factor"
   ]
  },
  {
   "cell_type": "code",
   "execution_count": 11,
   "metadata": {},
   "outputs": [
    {
     "data": {
      "text/html": [
       "<pre style=\"overflow: auto; white-space: pre;\">0: ───1j*Y0───\n",
       "      │\n",
       "1: ───X1──────\n",
       "      │\n",
       "2: ───X2──────\n",
       "      │\n",
       "3: ───X3──────</pre>"
      ],
      "text/plain": [
       "0: ───1j*Y0───\n",
       "      │\n",
       "1: ───X1──────\n",
       "      │\n",
       "2: ───X2──────\n",
       "      │\n",
       "3: ───X3──────"
      ]
     },
     "execution_count": 11,
     "metadata": {},
     "output_type": "execute_result"
    }
   ],
   "source": [
    "# Note phase is put on Pauli operator that overlaps with Pn measurement!\n",
    "\n",
    "from openfermion.ops import QubitOperator\n",
    "from quchem.Unitary_Partitioning.LCU_circuit_functions import Modified_PauliWord_gate\n",
    "\n",
    "PauliOp = QubitOperator('Y0 X1 X2 X3',1)\n",
    "correction_factor = 1j\n",
    "\n",
    "Pword_gate = Modified_PauliWord_gate(PauliOp, correction_factor, Pn).on(*list(cirq.LineQubit.range(4)))\n",
    "cirq.Circuit(Pword_gate)"
   ]
  },
  {
   "cell_type": "markdown",
   "metadata": {},
   "source": [
    "### 4.3 U_LCU part of R_l "
   ]
  },
  {
   "cell_type": "code",
   "execution_count": 12,
   "metadata": {},
   "outputs": [
    {
     "data": {
      "text/plain": [
       "3"
      ]
     },
     "execution_count": 12,
     "metadata": {},
     "output_type": "execute_result"
    }
   ],
   "source": [
    "N_ancilla = int(np.ceil(np.log2(len(largest_AC_set))))\n",
    "N_ancilla"
   ]
  },
  {
   "cell_type": "code",
   "execution_count": 19,
   "metadata": {},
   "outputs": [
    {
     "data": {
      "text/html": [
       "<pre style=\"overflow: auto; white-space: pre;\">0: ───(-0-1j)*I0───I───────I────────────1j*Z0───1j*Y0───\n",
       "      │            │       │            │       │\n",
       "1: ───┼────────────X1──────Z1───────────Y1──────I───────\n",
       "      │            │       │            │       │\n",
       "2: ───┼────────────1j*Y2───(-0-1j)*Y2───┼───────X2──────\n",
       "      │            │       │            │       │\n",
       "3: ───(0)──────────(0)─────(0)──────────(0)─────@───────\n",
       "      │            │       │            │       │\n",
       "4: ───(0)──────────(0)─────@────────────@───────(0)─────\n",
       "      │            │       │            │       │\n",
       "5: ───(0)──────────@───────(0)──────────@───────(0)─────</pre>"
      ],
      "text/plain": [
       "0: ───(-0-1j)*I0───I───────I────────────1j*Z0───1j*Y0───\n",
       "      │            │       │            │       │\n",
       "1: ───┼────────────X1──────Z1───────────Y1──────I───────\n",
       "      │            │       │            │       │\n",
       "2: ───┼────────────1j*Y2───(-0-1j)*Y2───┼───────X2──────\n",
       "      │            │       │            │       │\n",
       "3: ───(0)──────────(0)─────(0)──────────(0)─────@───────\n",
       "      │            │       │            │       │\n",
       "4: ───(0)──────────(0)─────@────────────@───────(0)─────\n",
       "      │            │       │            │       │\n",
       "5: ───(0)──────────@───────(0)──────────@───────(0)─────"
      ]
     },
     "execution_count": 19,
     "metadata": {},
     "output_type": "execute_result"
    }
   ],
   "source": [
    "from quchem.Unitary_Partitioning.LCU_circuit_functions import LCU_R_gate\n",
    "R_circ_obj = LCU_R_gate(\n",
    "            N_ancilla,\n",
    "           N_qubits,\n",
    "           R_linear_comb_corrected_phase_OP_list,\n",
    "           R_linear_comb_correction_values,\n",
    "           Pn)\n",
    "R_circ_circ = cirq.Circuit(\n",
    "        cirq.decompose_once((R_circ_obj(*cirq.LineQubit.range(R_circ_obj.num_qubits())))))\n",
    "R_circ_circ"
   ]
  },
  {
   "cell_type": "code",
   "execution_count": null,
   "metadata": {},
   "outputs": [],
   "source": []
  },
  {
   "cell_type": "markdown",
   "metadata": {},
   "source": [
    "# 5. G circuit"
   ]
  },
  {
   "cell_type": "code",
   "execution_count": null,
   "metadata": {},
   "outputs": [],
   "source": []
  },
  {
   "cell_type": "markdown",
   "metadata": {},
   "source": [
    "# 6. Build full exp LCU circuit\n",
    "- Ansatz\n",
    "- Rsl\n",
    "- Ps measurement"
   ]
  }
 ],
 "metadata": {
  "kernelspec": {
   "display_name": "Python 3",
   "language": "python",
   "name": "python3"
  },
  "language_info": {
   "codemirror_mode": {
    "name": "ipython",
    "version": 3
   },
   "file_extension": ".py",
   "mimetype": "text/x-python",
   "name": "python",
   "nbconvert_exporter": "python",
   "pygments_lexer": "ipython3",
   "version": "3.8.5"
  }
 },
 "nbformat": 4,
 "nbformat_minor": 4
}
