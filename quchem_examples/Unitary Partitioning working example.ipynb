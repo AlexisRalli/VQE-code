{
 "cells": [
  {
   "cell_type": "code",
   "execution_count": 1,
   "metadata": {},
   "outputs": [
    {
     "name": "stderr",
     "output_type": "stream",
     "text": [
      "Building Graph Edges: 100%|##########| 15/15 [00:00<00:00, 1160.08it/s]\n"
     ]
    },
    {
     "data": {
      "text/plain": [
       "{0: [(0.1686889816869329+0j) [Z0 Z1]],\n",
       " 1: [(0.174412876106516+0j) [Z2 Z3]],\n",
       " 2: [(0.12062523481381837+0j) [Z0 Z2]],\n",
       " 3: [(0.16592785032250768+0j) [Z1 Z2]],\n",
       " 4: [(-0.09706626861762624+0j) []],\n",
       " 5: [(0.12062523481381837+0j) [Z1 Z3]],\n",
       " 6: [(0.16592785032250768+0j) [Z0 Z3]],\n",
       " 7: [(-0.2234315367466397+0j) [Z2], (0.04530261550868928+0j) [Y0 X1 X2 Y3]],\n",
       " 8: [(-0.04530261550868928+0j) [Y0 Y1 X2 X3], (0.17141282639402405+0j) [Z0]],\n",
       " 9: [(0.04530261550868928+0j) [X0 Y1 Y2 X3], (0.171412826394024+0j) [Z1]],\n",
       " 10: [(-0.2234315367466397+0j) [Z3], (-0.04530261550868928+0j) [X0 X1 Y2 Y3]]}"
      ]
     },
     "execution_count": 1,
     "metadata": {},
     "output_type": "execute_result"
    }
   ],
   "source": [
    "import cirq\n",
    "from quchem.Hamiltonian_Generator_Functions import *\n",
    "from quchem.Graph import *\n",
    "### HAMILTONIAN start\n",
    "Molecule = 'H2'#'LiH'\n",
    "geometry = [('H', (0., 0., 0.)), ('H', (0., 0., 0.74))]#[('Li', (0., 0., 0.)), ('H', (0., 0., 1.45))]\n",
    "num_shots = 10000\n",
    "basis = 'sto-3g'\n",
    "\n",
    "\n",
    "### Get Hamiltonian\n",
    "Hamilt = Hamiltonian(Molecule,\n",
    "                     run_scf=1, run_mp2=1, run_cisd=1, run_ccsd=1, run_fci=1,\n",
    "                     basis=basis,\n",
    "                     multiplicity=1,\n",
    "                     geometry=geometry)  # normally None!\n",
    "QubitHamiltonian = Hamilt.Get_Qubit_Hamiltonian(threshold=None, transformation='JW')\n",
    "### HAMILTONIAN end\n",
    "\n",
    "#####################################\n",
    "\n",
    "Hamiltonian_graph_obj = Openfermion_Hamiltonian_Graph(QubitHamiltonian)\n",
    "\n",
    "commutativity_flag = 'AC' ## <- defines relationship between sets!!!\n",
    "plot_graph = False\n",
    "Graph_colouring_strategy='largest_first'\n",
    "anti_commuting_sets = Hamiltonian_graph_obj.Get_Clique_Cover_as_QubitOp(commutativity_flag, Graph_colouring_strategy=Graph_colouring_strategy, plot_graph=plot_graph)\n",
    "anti_commuting_sets"
   ]
  },
  {
   "cell_type": "code",
   "execution_count": 3,
   "metadata": {},
   "outputs": [],
   "source": [
    "from quchem.Unitary_partitioning import * "
   ]
  },
  {
   "cell_type": "code",
   "execution_count": 3,
   "metadata": {},
   "outputs": [],
   "source": [
    "# # ANSATZ CIRCUIT\n",
    "# from quchem.Ansatz_Generator_Functions import *\n",
    "# ansatz_obj = Ansatz(Hamilt.molecule.n_electrons, Hamilt.molecule.n_qubits)\n",
    "\n",
    "# Sec_Quant_CC_ia_ops, Sec_Quant_CC_ijab_ops, theta_parameters_ia, theta_parameters_ijab = ansatz_obj.Get_ia_and_ijab_terms()\n",
    "\n",
    "# Qubit_Op_list_Second_Quant_CC_Ops_ia, Qubit_Op_list_Second_Quant_CC_Ops_ijab = ansatz_obj.UCCSD_single_trotter_step(Sec_Quant_CC_ia_ops, Sec_Quant_CC_ijab_ops,\n",
    "#                                                                                                                     transformation='JW')\n",
    "\n",
    "# full_ansatz_Q_Circ = Ansatz_Circuit(Qubit_Op_list_Second_Quant_CC_Ops_ia, Qubit_Op_list_Second_Quant_CC_Ops_ijab,\n",
    "#              Hamilt.molecule.n_qubits, Hamilt.molecule.n_electrons)\n",
    "\n",
    "# ansatz_cirq_circuit = full_ansatz_Q_Circ.Get_Full_HF_UCCSD_QC(theta_parameters_ia, theta_parameters_ijab)"
   ]
  },
  {
   "cell_type": "code",
   "execution_count": 4,
   "metadata": {},
   "outputs": [
    {
     "data": {
      "text/html": [
       "<pre style=\"overflow: auto; white-space: pre;\">0: ───X───Rx(0.5π)───@──────────────────────────────@───Rx(-0.5π)───\n",
       "                     │                              │\n",
       "1: ───X───H──────────X───@──────────────────────@───X───H───────────\n",
       "                         │                      │\n",
       "2: ───H──────────────────X───@──────────────@───X───H───────────────\n",
       "                             │              │\n",
       "3: ───H──────────────────────X───Rz(2.0π)───X───H───────────────────</pre>"
      ],
      "text/plain": [
       "0: ───X───Rx(0.5π)───@──────────────────────────────@───Rx(-0.5π)───\n",
       "                     │                              │\n",
       "1: ───X───H──────────X───@──────────────────────@───X───H───────────\n",
       "                         │                      │\n",
       "2: ───H──────────────────X───@──────────────@───X───H───────────────\n",
       "                             │              │\n",
       "3: ───H──────────────────────X───Rz(2.0π)───X───H───────────────────"
      ]
     },
     "execution_count": 4,
     "metadata": {},
     "output_type": "execute_result"
    }
   ],
   "source": [
    "from quchem.Simulating_Quantum_Circuit import *\n",
    "from quchem.Ansatz_Generator_Functions import *\n",
    "from openfermion.ops import QubitOperator\n",
    "\n",
    "def H2_ansatz(theta):\n",
    "    HF_circ = [cirq.X.on(cirq.LineQubit(0)), cirq.X.on(cirq.LineQubit(1))]\n",
    "    \n",
    "    full_exp_circ_obj = full_exponentiated_PauliWord_circuit(QubitOperator('Y0 X1 X2 X3', -1j), theta)\n",
    "    UCCSD_circ = cirq.Circuit(cirq.decompose_once((full_exp_circ_obj(*cirq.LineQubit.range(full_exp_circ_obj.num_qubits())))))\n",
    "    full_circuit = cirq.Circuit([*HF_circ, *UCCSD_circ.all_operations()])\n",
    "    \n",
    "    return full_circuit\n",
    "    \n",
    "H2_ansatz(np.pi)    "
   ]
  },
  {
   "cell_type": "code",
   "execution_count": 6,
   "metadata": {},
   "outputs": [
    {
     "data": {
      "text/plain": [
       "-1.1178258069869513"
      ]
     },
     "execution_count": 6,
     "metadata": {},
     "output_type": "execute_result"
    }
   ],
   "source": [
    "n_shots=10_000\n",
    "\n",
    "def GIVE_ENERGY(THETA):\n",
    "    H2_ansatz_cirq_circuit = H2_ansatz(THETA)\n",
    "    VQE_exp_UP = VQE_Experiment_UP(anti_commuting_sets, H2_ansatz_cirq_circuit, n_shots,\n",
    "                                   S_key_dict={7:1, 8:1, 9:1, 10:1})#None)\n",
    "    \n",
    "    return VQE_exp_UP.Calc_Energy()\n",
    "GIVE_ENERGY(np.pi)"
   ]
  },
  {
   "cell_type": "code",
   "execution_count": 7,
   "metadata": {},
   "outputs": [
    {
     "name": "stdout",
     "output_type": "stream",
     "text": [
      "-1.1371267723731786\n",
      "-1.13728383451232\n",
      "-1.1372838344855132\n"
     ]
    },
    {
     "data": {
      "image/png": "[encoded data removed]",
      "text/plain": [
       "<Figure size 432x288 with 1 Axes>"
      ]
     },
     "metadata": {
      "needs_background": "light"
     },
     "output_type": "display_data"
    }
   ],
   "source": [
    "### full angle scan\n",
    "\n",
    "import matplotlib.pyplot as plt\n",
    "%matplotlib inline\n",
    "\n",
    "theta_list = np.arange(0,2*np.pi, 0.1)\n",
    "\n",
    "E_list = [GIVE_ENERGY(theta) for theta in theta_list]\n",
    "\n",
    "plt.plot(E_list)\n",
    "print(min(E_list))\n",
    "print(Hamilt.molecule.ccsd_energy)\n",
    "print(Hamilt.molecule.fci_energy)"
   ]
  },
  {
   "cell_type": "code",
   "execution_count": 7,
   "metadata": {},
   "outputs": [
    {
     "name": "stdout",
     "output_type": "stream",
     "text": [
      "0: Input_to_Funct: [0.9]: Output: -0.3189845513551869\n",
      "1: Input_to_Funct: [0.7]: Output: -0.6405559727681428\n",
      "2: Input_to_Funct: [0.3]: Output: -1.0794301608341121\n",
      "3: Input_to_Funct: [0.1]: Output: -1.137020393398523\n",
      "4: Input_to_Funct: [0.1]: Output: -1.1370558530567416\n",
      "5: Input_to_Funct: [0.1]: Output: -1.1369140144238676\n",
      "6: Input_to_Funct: [0.125]: Output: -1.1369848691262088\n",
      "7: Input_to_Funct: [0.1125]: Output: -1.1372382031674162\n",
      "8: Input_to_Funct: [0.1125]: Output: -1.137359769907866\n",
      "9: Input_to_Funct: [0.1125]: Output: -1.1370659566959058\n",
      "10: Input_to_Funct: [0.1140625]: Output: -1.1372888505914291\n",
      "11: Input_to_Funct: [0.1140625]: Output: -1.1373547180882837\n",
      "12: Input_to_Funct: [0.1140625]: Output: -1.1372382031674162\n",
      "13: Input_to_Funct: [0.11484375]: Output: -1.1372989865376413\n",
      "14: Input_to_Funct: [0.11484375]: Output: -1.137359769907866\n",
      "15: Input_to_Funct: [0.11484375]: Output: -1.1372382031674162\n",
      "16: Input_to_Funct: [0.11484375]: Output: -1.1373800418002902\n",
      "17: Input_to_Funct: [0.11484375]: Output: -1.137147011958555\n",
      "18: Input_to_Funct: [0.11486816]: Output: -1.1371976593825677\n",
      "19: Input_to_Funct: [0.11486816]: Output: -1.1373141743034354\n",
      "20: Input_to_Funct: [0.11486816]: Output: -1.1372483391136283\n",
      "21: Input_to_Funct: [0.11486816]: Output: -1.1373091224838534\n",
      "22: Input_to_Funct: [0.11486664]: Output: -1.1373901777465023\n",
      "23: Input_to_Funct: [0.11486664]: Output: -1.1372432549869984\n",
      "24: Input_to_Funct: [0.11486664]: Output: -1.1370710085154878\n",
      "25: Input_to_Funct: [0.11486664]: Output: -1.1370456848034816\n",
      "26: Input_to_Funct: [0.11486664]: Output: -1.1372077953287798\n",
      "27: Input_to_Funct: [0.11486664]: Output: -1.1371824716167733\n",
      "28: Input_to_Funct: [0.11486664]: Output: -1.137162199724349\n",
      "29: Input_to_Funct: [0.11486664]: Output: -1.1373395303224896\n",
      "30: Input_to_Funct: [0.11486664]: Output: -1.1374155014585088\n",
      "31: Input_to_Funct: [0.11486664]: Output: -1.1372989865376413\n",
      "32: Input_to_Funct: [0.11486664]: Output: -1.1372533909332103\n",
      "33: Input_to_Funct: [0.11486664]: Output: -1.1372635268794227\n",
      "34: Input_to_Funct: [0.11486664]: Output: -1.1373445821420716\n",
      "35: Input_to_Funct: [0.11486664]: Output: -1.1373243102496475\n",
      "36: Input_to_Funct: [0.11486664]: Output: -1.1373192584300653\n",
      "37: Input_to_Funct: [0.11486664]: Output: -1.1374155014585088\n",
      "38: Input_to_Funct: [0.11486664]: Output: -1.1373344461958594\n",
      "39: Input_to_Funct: [0.11486664]: Output: -1.1373445821420718\n",
      "40: Input_to_Funct: [0.11486664]: Output: -1.1372787146452168\n",
      "41: Input_to_Funct: [0.11486664]: Output: -1.1372533909332105\n",
      "42: Input_to_Funct: [0.11486664]: Output: -1.137425637404721\n",
      "43: Input_to_Funct: [0.11486664]: Output: -1.1374712330091516\n",
      "44: Input_to_Funct: [0.11486664]: Output: -1.1371824716167733\n",
      "45: Input_to_Funct: [0.11486664]: Output: -1.137369905854078\n",
      "46: Input_to_Funct: [0.11486664]: Output: -1.1373901777465023\n",
      "47: Input_to_Funct: [0.11486664]: Output: -1.1372533909332105\n",
      "48: Input_to_Funct: [0.11486664]: Output: -1.1372331190407863\n",
      "Warning: Maximum number of iterations has been exceeded.\n",
      "Reason for termination is Maximum number of iterations has been exceeded.\n"
     ]
    },
    {
     "data": {
      "image/png": "[encoded data removed]",
      "text/plain": [
       "<Figure size 432x288 with 1 Axes>"
      ]
     },
     "metadata": {
      "needs_background": "light"
     },
     "output_type": "display_data"
    }
   ],
   "source": [
    "### optimizer\n",
    "from quchem.Scipy_Optimizer import *\n",
    "# THETA_params = [*theta_parameters_ia, *theta_parameters_ijab]\n",
    "THETA_params=[1]\n",
    "GG = Optimizer(GIVE_ENERGY, THETA_params, 'Nelder-Mead', store_values=True, display_iter_steps=True,\n",
    "               tol=1e-5,\n",
    "               display_convergence_message=True)\n",
    "GG.get_env(50)\n",
    "GG.plot_convergence()\n",
    "plt.show()"
   ]
  },
  {
   "cell_type": "code",
   "execution_count": null,
   "metadata": {},
   "outputs": [],
   "source": []
  },
  {
   "cell_type": "markdown",
   "metadata": {},
   "source": [
    "# full ansatz circuit"
   ]
  },
  {
   "cell_type": "code",
   "execution_count": 8,
   "metadata": {},
   "outputs": [
    {
     "name": "stderr",
     "output_type": "stream",
     "text": [
      "Building Graph Edges: 100%|##########| 15/15 [00:00<00:00, 1983.87it/s]\n"
     ]
    }
   ],
   "source": [
    "Hamiltonian_graph_obj = Openfermion_Hamiltonian_Graph(QubitHamiltonian)\n",
    "commutativity_flag = 'AC' ## <- defines relationship between sets!!!\n",
    "plot_graph = False\n",
    "Graph_colouring_strategy='largest_first'\n",
    "anti_commuting_sets = Hamiltonian_graph_obj.Get_Clique_Cover_as_QubitOp(commutativity_flag, Graph_colouring_strategy=Graph_colouring_strategy, plot_graph=plot_graph)\n",
    "\n",
    "\n",
    "# ANSATZ CIRCUIT\n",
    "from quchem.Ansatz_Generator_Functions import *\n",
    "ansatz_obj = Ansatz(Hamilt.molecule.n_electrons, Hamilt.molecule.n_qubits)\n",
    "Sec_Quant_CC_ia_ops, Sec_Quant_CC_ijab_ops, theta_parameters_ia, theta_parameters_ijab = ansatz_obj.Get_ia_and_ijab_terms()\n",
    "Qubit_Op_list_Second_Quant_CC_Ops_ia, Qubit_Op_list_Second_Quant_CC_Ops_ijab = ansatz_obj.UCCSD_single_trotter_step(Sec_Quant_CC_ia_ops, Sec_Quant_CC_ijab_ops,transformation='JW')\n",
    "full_ansatz_Q_Circ = Ansatz_Circuit(Qubit_Op_list_Second_Quant_CC_Ops_ia, Qubit_Op_list_Second_Quant_CC_Ops_ijab,\n",
    "             Hamilt.molecule.n_qubits, Hamilt.molecule.n_electrons)\n",
    "ansatz_cirq_circuit = full_ansatz_Q_Circ.Get_Full_HF_UCCSD_QC(theta_parameters_ia, theta_parameters_ijab)"
   ]
  },
  {
   "cell_type": "code",
   "execution_count": 12,
   "metadata": {},
   "outputs": [
    {
     "name": "stdout",
     "output_type": "stream",
     "text": [
      "0: Input_to_Funct: [3.   3.   3.15]: Output: -1.115611829648178\n",
      "1: Input_to_Funct: [3.125 2.975 3.125]: Output: -1.1156371856672325\n",
      "2: Input_to_Funct: [3.0625 2.9875 3.1375]: Output: -1.116387019537595\n",
      "3: Input_to_Funct: [3.0625 2.9875 3.1375]: Output: -1.1169391216892008\n",
      "4: Input_to_Funct: [3.0625 2.9875 3.1375]: Output: -1.1150749152623665\n",
      "5: Input_to_Funct: [3.0625 2.9875 3.1375]: Output: -1.1158702801230638\n",
      "6: Input_to_Funct: [3.0625 2.9875 3.1375]: Output: -1.1176181008572224\n",
      "7: Input_to_Funct: [3.06006944 2.98923611 3.16423611]: Output: -1.1160931094044908\n",
      "8: Input_to_Funct: [3.06006944 2.98923611 3.16423611]: Output: -1.1171164845943893\n",
      "9: Input_to_Funct: [3.06006944 2.98923611 3.16423611]: Output: -1.1171925203445043\n",
      "10: Input_to_Funct: [3.06006944 2.98923611 3.16423611]: Output: -1.1174660616640402\n",
      "11: Input_to_Funct: [3.06006944 2.98923611 3.16423611]: Output: -1.1167416161197798\n",
      "12: Input_to_Funct: [3.06006944 2.98923611 3.16423611]: Output: -1.1163667153381227\n",
      "13: Input_to_Funct: [3.06006944 2.98923611 3.16423611]: Output: -1.1176180362431263\n",
      "14: Input_to_Funct: [3.06732816 2.98965648 3.15340069]: Output: -1.1157587847147301\n",
      "15: Input_to_Funct: [3.06732816 2.98965648 3.15340069]: Output: -1.1185299483317392\n",
      "16: Input_to_Funct: [3.06732816 2.98965648 3.15340069]: Output: -1.1178965970751962\n",
      "17: Input_to_Funct: [3.06732816 2.98965648 3.15340069]: Output: -1.1164984180247846\n",
      "18: Input_to_Funct: [3.06732816 2.98965648 3.15340069]: Output: -1.1169239662304544\n",
      "19: Input_to_Funct: [3.06732816 2.98965648 3.15340069]: Output: -1.116113478218059\n",
      "20: Input_to_Funct: [3.06732816 2.98965648 3.15340069]: Output: -1.1159716395851853\n",
      "21: Input_to_Funct: [3.06732816 2.98965648 3.15340069]: Output: -1.116751719758944\n",
      "22: Input_to_Funct: [3.06732816 2.98965648 3.15340069]: Output: -1.1172330641293529\n",
      "23: Input_to_Funct: [3.06732816 2.98965648 3.15340069]: Output: -1.1172532714076813\n",
      "24: Input_to_Funct: [3.06732816 2.98965648 3.15340069]: Output: -1.1169847819077274\n",
      "25: Input_to_Funct: [3.06732816 2.98965648 3.15340069]: Output: -1.1141529318416374\n",
      "26: Input_to_Funct: [3.06732816 2.98965648 3.15340069]: Output: -1.117303951138742\n",
      "27: Input_to_Funct: [3.06732816 2.98965648 3.15340069]: Output: -1.1173292425437003\n",
      "28: Input_to_Funct: [3.06732816 2.98965648 3.15340069]: Output: -1.1157233573635597\n",
      "29: Input_to_Funct: [3.06732816 2.98965648 3.15340069]: Output: -1.1165440136292153\n",
      "30: Input_to_Funct: [3.06732816 2.98965648 3.15340069]: Output: -1.117389993606877\n",
      "31: Input_to_Funct: [3.06732816 2.98965648 3.15340069]: Output: -1.115383948547169\n",
      "32: Input_to_Funct: [3.06732816 2.98965648 3.15340069]: Output: -1.117101264521547\n",
      "33: Input_to_Funct: [3.06732816 2.98965648 3.15340069]: Output: -1.11801826073679\n",
      "34: Input_to_Funct: [3.06732816 2.98965648 3.15340069]: Output: -1.1183019380025379\n",
      "35: Input_to_Funct: [3.06731668 2.9896585  3.15340546]: Output: -1.1157943412940927\n",
      "36: Input_to_Funct: [3.06731668 2.9896585  3.15340546]: Output: -1.1166200816863783\n",
      "37: Input_to_Funct: [3.06731668 2.9896585  3.15340546]: Output: -1.1168227036894771\n",
      "38: Input_to_Funct: [3.06731668 2.9896585  3.15340546]: Output: -1.1159208952400284\n",
      "39: Input_to_Funct: [3.06731668 2.9896585  3.15340546]: Output: -1.116802399490005\n",
      "40: Input_to_Funct: [3.06731668 2.9896585  3.15340546]: Output: -1.1177446871102061\n",
      "41: Input_to_Funct: [3.06731668 2.9896585  3.15340546]: Output: -1.116944302736975\n",
      "42: Input_to_Funct: [3.06731668 2.9896585  3.15340546]: Output: -1.1158247168256812\n",
      "43: Input_to_Funct: [3.06731668 2.9896585  3.15340546]: Output: -1.1180030729709958\n",
      "44: Input_to_Funct: [3.06731668 2.9896585  3.15340546]: Output: -1.1168682346798118\n",
      "45: Input_to_Funct: [3.06731668 2.9896585  3.15340546]: Output: -1.1165541818824753\n",
      "46: Input_to_Funct: [3.06731668 2.9896585  3.15340546]: Output: -1.1157182409298816\n",
      "47: Input_to_Funct: [3.06731668 2.9896585  3.15340546]: Output: -1.1187729525844465\n",
      "48: Input_to_Funct: [3.06731668 2.9896585  3.15340546]: Output: -1.1160274034428759\n",
      "Warning: Maximum number of iterations has been exceeded.\n",
      "Reason for termination is Maximum number of iterations has been exceeded.\n"
     ]
    },
    {
     "data": {
      "image/png": "[encoded data removed]",
      "text/plain": [
       "<Figure size 432x288 with 1 Axes>"
      ]
     },
     "metadata": {
      "needs_background": "light"
     },
     "output_type": "display_data"
    }
   ],
   "source": [
    "def GIVE_ENERGY(theta_ia_theta_jab_list):\n",
    "    theta_ia = theta_ia_theta_jab_list[:len(theta_parameters_ia)]\n",
    "    theta_ijab = theta_ia_theta_jab_list[len(theta_parameters_ia):]\n",
    "    \n",
    "    ansatz_cirq_circuit = full_ansatz_Q_Circ.Get_Full_HF_UCCSD_QC(theta_parameters_ia, theta_parameters_ijab)\n",
    "\n",
    "    VQE_exp_UP = VQE_Experiment_UP(anti_commuting_sets, ansatz_cirq_circuit, n_shots, S_key_dict=None)#{7:1, 8:1, 9:0, 10:0})\n",
    "    \n",
    "    return VQE_exp_UP.Calc_Energy()\n",
    "\n",
    "### optimizer\n",
    "from quchem.Scipy_Optimizer import *\n",
    "# THETA_params = [*theta_parameters_ia, *theta_parameters_ijab]\n",
    "THETA_params=[3,3,3]\n",
    "GG = Optimizer(GIVE_ENERGY, THETA_params, 'Nelder-Mead', store_values=True, display_iter_steps=True,\n",
    "               tol=1e-5,\n",
    "               display_convergence_message=True)\n",
    "GG.get_env(50)\n",
    "GG.plot_convergence()\n",
    "plt.show()"
   ]
  }
 ],
 "metadata": {
  "kernelspec": {
   "display_name": "Python 3",
   "language": "python",
   "name": "python3"
  },
  "language_info": {
   "codemirror_mode": {
    "name": "ipython",
    "version": 3
   },
   "file_extension": ".py",
   "mimetype": "text/x-python",
   "name": "python",
   "nbconvert_exporter": "python",
   "pygments_lexer": "ipython3",
   "version": "3.7.6"
  }
 },
 "nbformat": 4,
 "nbformat_minor": 4
}
