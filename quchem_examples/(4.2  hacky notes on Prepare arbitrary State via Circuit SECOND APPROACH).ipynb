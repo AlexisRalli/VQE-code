{
 "cells": [
  {
   "cell_type": "markdown",
   "metadata": {},
   "source": [
    "TODO: look at pg 14 of: https://arxiv.org/pdf/quant-ph/0406176v5.pdf\n",
    "\n",
    "This is what Qiskit uses\n",
    "\n",
    "https://quantumcomputing.stackexchange.com/questions/6755/controlled-initialize-instruction"
   ]
  },
  {
   "cell_type": "code",
   "execution_count": 1,
   "metadata": {},
   "outputs": [],
   "source": [
    "from qiskit.extensions import Initialize"
   ]
  },
  {
   "cell_type": "code",
   "execution_count": null,
   "metadata": {},
   "outputs": [],
   "source": []
  },
  {
   "cell_type": "code",
   "execution_count": 2,
   "metadata": {},
   "outputs": [],
   "source": [
    "import numpy as np\n",
    "def Single_qubit_rotation(zero_state_amp, one_state_amp):\n",
    "    \"\"\"\n",
    "    Get rotation to create passed in qubit state\n",
    "    \n",
    "    |psi> = cos(theta/2) |0> + e^{-1j * phi/2} sin(theta/2) |1>\n",
    "    \n",
    "    See equation 8 and 9 of https://arxiv.org/pdf/quant-ph/0406176v5.pdf\n",
    "    \n",
    "    \"\"\"\n",
    "    zero_state_amp = complex(zero_state_amp)\n",
    "    one_state_amp = complex(one_state_amp)\n",
    "    \n",
    "    norm = np.sqrt(zero_state_amp**2 + one_state_amp**2 )\n",
    "    \n",
    "    if np.isclose(norm, 0):\n",
    "        theta = 0\n",
    "        a_arg = 0\n",
    "        b_arg = 0\n",
    "        final_t = 0\n",
    "        phi = 0\n",
    "    else:\n",
    "        theta = 2 * np.arccos(np.abs(zero_state_amp) / norm)\n",
    "        a_arg = np.angle(zero_state_amp)\n",
    "        b_arg = np.angle(one_state_amp)\n",
    "        final_t = a_arg + b_arg\n",
    "        phi = b_arg - a_arg\n",
    "    \n",
    "    return norm * np.exp(1.J * final_t / 2), theta, phi\n",
    "\n",
    "state,theta, phi= Single_qubit_rotation(1/np.sqrt(2), 1/np.sqrt(2))"
   ]
  },
  {
   "cell_type": "code",
   "execution_count": 3,
   "metadata": {},
   "outputs": [
    {
     "data": {
      "text/plain": [
       "(0.7071067811865475+0j)"
      ]
     },
     "execution_count": 3,
     "metadata": {},
     "output_type": "execute_result"
    }
   ],
   "source": [
    "np.cos(theta/2) \n",
    "np.exp(-1j*phi/2)*np.sin(theta/2)"
   ]
  },
  {
   "cell_type": "code",
   "execution_count": 4,
   "metadata": {},
   "outputs": [
    {
     "data": {
      "text/plain": [
       "(0.7071067811865475+0j)"
      ]
     },
     "execution_count": 4,
     "metadata": {},
     "output_type": "execute_result"
    }
   ],
   "source": [
    "np.exp(-1j*phi/2)*np.sin(theta/2)"
   ]
  },
  {
   "cell_type": "code",
   "execution_count": null,
   "metadata": {},
   "outputs": [],
   "source": []
  },
  {
   "cell_type": "code",
   "execution_count": 5,
   "metadata": {},
   "outputs": [
    {
     "data": {
      "text/plain": [
       "((0.9999999999999999+0j), (1.5707963267948966+0j), 0.0)"
      ]
     },
     "execution_count": 5,
     "metadata": {},
     "output_type": "execute_result"
    }
   ],
   "source": [
    " Single_qubit_rotation(1/np.sqrt(2), 1/np.sqrt(2))"
   ]
  },
  {
   "cell_type": "code",
   "execution_count": 6,
   "metadata": {},
   "outputs": [
    {
     "data": {
      "text/plain": [
       "((0.9999999999999999+0j), 1.5707963267948966, 0.0)"
      ]
     },
     "execution_count": 6,
     "metadata": {},
     "output_type": "execute_result"
    }
   ],
   "source": [
    "Initialize._bloch_angles((1/np.sqrt(2), 1/np.sqrt(2)))"
   ]
  },
  {
   "cell_type": "code",
   "execution_count": null,
   "metadata": {},
   "outputs": [],
   "source": []
  },
  {
   "cell_type": "code",
   "execution_count": null,
   "metadata": {},
   "outputs": [],
   "source": []
  },
  {
   "cell_type": "code",
   "execution_count": 7,
   "metadata": {},
   "outputs": [],
   "source": [
    "def Rotations_to_disentangle(qubit_state_vector):\n",
    "    \"\"\"\n",
    "    pg 11 of https://arxiv.org/pdf/quant-ph/0406176v5.pdf\n",
    "    \n",
    "    Method to work out Ry and Rz rotation angles to disentangle the least significant bit (LSB).\n",
    "    These rotations make up a block diagonal matrix U == multiplexor\n",
    "    \n",
    "    \n",
    "    \n",
    "    ### futher background:\n",
    "    \n",
    "    Given |ψ> an (n+1) qubit state, seperate the state into a separable (unentanged) state by the following circuit:\n",
    "    \n",
    "               n  :──\\\\───(C)───────────────(C)────────────\n",
    "   |ψ>                     │                 │             \n",
    "               n+1:─────── Rz (-phi) ─────── Ry(-theta)──── |ψ''>\n",
    "\n",
    "\n",
    "    the 2^{n+1} state vector is split into TWO 2^{n} states... This can be done by the circuit above.\n",
    "    \n",
    "    Overall |ψ> (2^{n+1} state vector) is split into 2^{n} contiguous 2-element blocks. This can be interpreted as a\n",
    "    2D complex vector. We can label this |ψ_{c}>\n",
    "    \n",
    "    Then:\n",
    "    \n",
    "    Rz(-φ_{c}) Ry(-θ_{c}) |ψ> = r_{c} exp(1j*t_{c}) |0 >\n",
    "    \n",
    "    |ψ''> is the n-qubit state given by the 2^{n}-element row vector with c-th entry r_{c} exp(1j*t_{c}).\n",
    "    \n",
    "    If we let U be the block diagonal sum ⊕_{c} Ry(-θ_{c}) Rz(-φ_{c}). THEN:\n",
    "    \n",
    "                U |ψ> = |ψ''> |0>\n",
    "    \n",
    "    We can implement U as a multiplexed Rz gate followed by a multiplexed Ry gate!\n",
    "    \n",
    "    \"\"\"\n",
    "    \n",
    "    remaining_vector = []\n",
    "    theta_list = []\n",
    "    phi_list = []\n",
    "    \n",
    "    param_len = len(qubit_state_vector)\n",
    "    for state_ind in range(param_len//2):\n",
    "            # Ry and Rz rotations to move bloch vector from 0 to \"imaginary\"\n",
    "            # qubit\n",
    "            # (imagine a qubit state signified by the amplitudes at index 2*i\n",
    "            # and 2*(i+1), corresponding to the select qubits of the\n",
    "            # multiplexor being in state |i>)\n",
    "            \n",
    "            amp_2i = qubit_state_vector[2*state_ind] # amp at 2i\n",
    "            amp_2i_2= qubit_state_vector[(2*state_ind)+1] #  amp at 2(i+1)\n",
    "            remaining_qubit_state_vector, theta, phi = Single_qubit_rotation(amp_2i, amp_2i_2)\n",
    "            \n",
    "            remaining_vector.append(remaining_qubit_state_vector)\n",
    "            theta_list.append(-1*theta)\n",
    "            phi_list.append(-1*phi)\n",
    "    \n",
    "    return remaining_vector, theta_list, phi_list"
   ]
  },
  {
   "cell_type": "code",
   "execution_count": 8,
   "metadata": {},
   "outputs": [
    {
     "data": {
      "text/plain": [
       "([(0.7071067811865476+0j), (0.7071067811865476+0j)],\n",
       " [(-1.5707963267948968+0j), (-1.5707963267948968+0j)],\n",
       " [-0.0, -0.0])"
      ]
     },
     "execution_count": 8,
     "metadata": {},
     "output_type": "execute_result"
    }
   ],
   "source": [
    "state = [np.sqrt(0.25),np.sqrt(0.25),np.sqrt(0.25),np.sqrt(0.25)]\n",
    "Rotations_to_disentangle(state)\n"
   ]
  },
  {
   "cell_type": "code",
   "execution_count": 9,
   "metadata": {},
   "outputs": [
    {
     "data": {
      "text/plain": [
       "([(0.7071067811865476+0j), (0.7071067811865476+0j)],\n",
       " [-1.5707963267948968, -1.5707963267948968],\n",
       " [-0.0, -0.0])"
      ]
     },
     "execution_count": 9,
     "metadata": {},
     "output_type": "execute_result"
    }
   ],
   "source": [
    "Initialize._rotations_to_disentangle(state)"
   ]
  },
  {
   "cell_type": "code",
   "execution_count": null,
   "metadata": {},
   "outputs": [],
   "source": []
  },
  {
   "cell_type": "code",
   "execution_count": null,
   "metadata": {},
   "outputs": [],
   "source": []
  },
  {
   "cell_type": "code",
   "execution_count": null,
   "metadata": {},
   "outputs": [],
   "source": []
  },
  {
   "cell_type": "code",
   "execution_count": 10,
   "metadata": {},
   "outputs": [],
   "source": [
    "import cirq"
   ]
  },
  {
   "cell_type": "code",
   "execution_count": 11,
   "metadata": {},
   "outputs": [
    {
     "data": {
      "text/html": [
       "<pre style=\"overflow: auto; white-space: pre;\">1: ───@──────────\n",
       "      │\n",
       "9: ───Rx(0.5π)───</pre>"
      ],
      "text/plain": [
       "1: ───@──────────\n",
       "      │\n",
       "9: ───Rx(0.5π)───"
      ]
     },
     "execution_count": 11,
     "metadata": {},
     "output_type": "execute_result"
    }
   ],
   "source": [
    "C = cirq.Circuit()\n",
    "C.append(cirq.rx(np.pi/2).controlled(num_controls=1, control_values=[1]).on(cirq.LineQubit(1), cirq.LineQubit(9)))\n",
    "C"
   ]
  },
  {
   "cell_type": "code",
   "execution_count": 12,
   "metadata": {},
   "outputs": [],
   "source": [
    "def recursive_multiplex(target_gate, list_of_angles, start_qubit_num, end_qubit_num, last_cnot=True):\n",
    "    \"\"\"\n",
    "    Args:\n",
    "        target_gate (Gate): Ry or Rz gate to apply to target qubit,\n",
    "                            multiplexed over all other \"select\" qubits\n",
    "                            \n",
    "        list_of_angles (list[float]): list of rotation angles to apply Ry and Rz\n",
    "        \n",
    "        last_cnot (bool): add the last cnot if last_cnot = True\n",
    "    \"\"\"\n",
    "    number_angles = len(list_of_angles)\n",
    "    local_num_qubits = int(np.log2(number_angles)) + 1 # +1 for n+1 qubits!\n",
    "    \n",
    "    qubits_list = cirq.LineQubit.range(start_qubit_num, end_qubit_num)\n",
    "    \n",
    "    LSB = qubits_list[0] # least significant bit\n",
    "    MSB = qubits_list[local_num_qubits-1] # most significant bit\n",
    "    \n",
    "    circuit = cirq.Circuit()\n",
    "    \n",
    "    # case of no multiplexing: base case for recursion\n",
    "    if local_num_qubits == 1:\n",
    "        if target_gate == 'Ry':\n",
    "            Ry_gate = cirq.ry(list_of_angles[0])\n",
    "            circuit.append(Ry_gate.on(LSB))\n",
    "        elif target_gate == 'Rz':\n",
    "            Rz_gate = cirq.rz(list_of_angles[0])\n",
    "            circuit.append(Rz_gate.on(LSB))\n",
    "        else:\n",
    "            raise ValueError(f'Incorrect gate specificed: {target_gate}')\n",
    "        \n",
    "        return circuit\n",
    "    \n",
    "    angle_weight = np.kron([[0.5, 0.5], [0.5, -0.5]],\n",
    "                               np.identity(2 ** (local_num_qubits - 2)))\n",
    "    \n",
    "    # calc the combo angles\n",
    "    list_of_angles = angle_weight.dot(np.array(list_of_angles)).tolist()\n",
    "    \n",
    "    # recursive step on half the angles fulfilling the above assumption\n",
    "    multiplex_1 = recursive_multiplex(target_gate, list_of_angles[0:(number_angles // 2)],\n",
    "                                      start_qubit_num,\n",
    "                                      end_qubit_num-1,\n",
    "                                      False)\n",
    "    circuit = cirq.Circuit(\n",
    "       [\n",
    "           circuit.all_operations(),\n",
    "           *multiplex_1.all_operations(),\n",
    "       ]\n",
    "    )\n",
    "    \n",
    "    circuit.append(cirq.CNOT(MSB, LSB))\n",
    "\n",
    "    # implement extra efficiency from the paper of cancelling adjacent\n",
    "    # CNOTs (by leaving out last CNOT and reversing (NOT inverting) the\n",
    "    # second lower-level multiplex)\n",
    "    multiplex_2 = recursive_multiplex(target_gate, list_of_angles[(number_angles // 2):],\n",
    "                                      start_qubit_num,\n",
    "                                      end_qubit_num-1,\n",
    "                                      False)\n",
    "    \n",
    "    if number_angles > 1:\n",
    "        circuit = cirq.Circuit(\n",
    "                               [\n",
    "                                   circuit.all_operations(),\n",
    "                                   *list(multiplex_2.all_operations())[::-1],\n",
    "                               ]\n",
    "                            )\n",
    "    else:\n",
    "        circuit = cirq.Circuit(\n",
    "                               [\n",
    "                                   circuit.all_operations(),\n",
    "                                   *multiplex_2.all_operations(),\n",
    "                               ]\n",
    "                            )\n",
    "    # attach a final CNOT\n",
    "    if last_cnot:\n",
    "        circuit.append(cirq.CNOT(MSB, LSB))\n",
    "    \n",
    "    return circuit"
   ]
  },
  {
   "cell_type": "code",
   "execution_count": 13,
   "metadata": {},
   "outputs": [
    {
     "data": {
      "text/html": [
       "<pre style=\"overflow: auto; white-space: pre;\">0: ───Ry(0.438π)───X───Ry(0.062π)───X───Ry(-0.062π)───X───Ry(0.062π)───X───\n",
       "                   │                │                 │                │\n",
       "1: ────────────────@────────────────┼─────────────────@────────────────┼───\n",
       "                                    │                                  │\n",
       "2: ─────────────────────────────────@──────────────────────────────────@───</pre>"
      ],
      "text/plain": [
       "0: ───Ry(0.438π)───X───Ry(0.062π)───X───Ry(-0.062π)───X───Ry(0.062π)───X───\n",
       "                   │                │                 │                │\n",
       "1: ────────────────@────────────────┼─────────────────@────────────────┼───\n",
       "                                    │                                  │\n",
       "2: ─────────────────────────────────@──────────────────────────────────@───"
      ]
     },
     "execution_count": 13,
     "metadata": {},
     "output_type": "execute_result"
    }
   ],
   "source": [
    "recursive_multiplex( 'Ry', [np.pi/2, np.pi/2, np.pi/2, np.pi/4],0,3, last_cnot=True)"
   ]
  },
  {
   "cell_type": "code",
   "execution_count": 14,
   "metadata": {},
   "outputs": [
    {
     "data": {
      "text/html": [
       "<pre style=\"word-wrap: normal;white-space: pre;background: #fff0;line-height: 1.1;font-family: &quot;Courier New&quot;,Courier,monospace\">      ┌───────────┐┌───┐┌──────────┐┌───┐┌───────────┐┌───┐┌──────────┐┌───┐\n",
       "q0_0: ┤ RY(7π/16) ├┤ X ├┤ RY(π/16) ├┤ X ├┤ RY(-π/16) ├┤ X ├┤ RY(π/16) ├┤ X ├\n",
       "      └───────────┘└─┬─┘└──────────┘└─┬─┘└───────────┘└─┬─┘└──────────┘└─┬─┘\n",
       "q0_1: ───────────────■────────────────┼─────────────────■────────────────┼──\n",
       "                                      │                                  │  \n",
       "q0_2: ────────────────────────────────■──────────────────────────────────■──\n",
       "                                                                            </pre>"
      ],
      "text/plain": [
       "      ┌───────────┐┌───┐┌──────────┐┌───┐┌───────────┐┌───┐┌──────────┐┌───┐\n",
       "q0_0: ┤ RY(7π/16) ├┤ X ├┤ RY(π/16) ├┤ X ├┤ RY(-π/16) ├┤ X ├┤ RY(π/16) ├┤ X ├\n",
       "      └───────────┘└─┬─┘└──────────┘└─┬─┘└───────────┘└─┬─┘└──────────┘└─┬─┘\n",
       "q0_1: ───────────────■────────────────┼─────────────────■────────────────┼──\n",
       "                                      │                                  │  \n",
       "q0_2: ────────────────────────────────■──────────────────────────────────■──\n",
       "                                                                            "
      ]
     },
     "execution_count": 14,
     "metadata": {},
     "output_type": "execute_result"
    }
   ],
   "source": [
    "from qiskit.circuit.library.standard_gates.ry import RYGate\n",
    "qiskit_test= Initialize(state)\n",
    "qiskit_test._multiplex(RYGate, [np.pi/2, np.pi/2, np.pi/2, np.pi/4], last_cnot=True).decompose().decompose().draw()"
   ]
  },
  {
   "cell_type": "code",
   "execution_count": null,
   "metadata": {},
   "outputs": [],
   "source": []
  },
  {
   "cell_type": "code",
   "execution_count": null,
   "metadata": {},
   "outputs": [],
   "source": []
  },
  {
   "cell_type": "code",
   "execution_count": 15,
   "metadata": {},
   "outputs": [],
   "source": [
    "# from copy import deepcopy\n",
    "# def disentangle_circuit(qubit_state_vector, n_qubits):\n",
    "#     \"\"\"\n",
    "#     \"\"\"\n",
    "#     circuit = cirq.Circuit()\n",
    "\n",
    "#     remaining_vector = deepcopy(qubit_state_vector)\n",
    "#     for qubit_ind in range(n_qubits):\n",
    "#         # work out which rotations must be done to disentangle the LSB\n",
    "#         # qubit (we peel away one qubit at a time)\n",
    "#         remaining_vector, theta_list, phi_list = Rotations_to_disentangle(remaining_vector)\n",
    "        \n",
    "        \n",
    "#         add_last_cnot = True\n",
    "#         if np.linalg.norm(phi_list) != 0 and np.linalg.norm(theta_list) != 0:\n",
    "#             add_last_cnot = False\n",
    "\n",
    "#         if np.linalg.norm(phi_list) != 0:\n",
    "#             rz_mult_circuit = recursive_multiplex('Rz',\n",
    "#                                                   phi_list,\n",
    "#                                                   qubit_ind,\n",
    "#                                                   n_qubits,\n",
    "#                                                   last_cnot=add_last_cnot)\n",
    "#             circuit.append(rz_mult_circuit)\n",
    "\n",
    "#         if np.linalg.norm(theta_list) != 0:\n",
    "#             ry_mult_circuit = recursive_multiplex('Ry',\n",
    "#                                                   theta_list,\n",
    "#                                                   qubit_ind,\n",
    "#                                                   n_qubits,\n",
    "#                                                   last_cnot=add_last_cnot)\n",
    "#             circuit = cirq.Circuit(\n",
    "#                        [\n",
    "#                            circuit.all_operations(),\n",
    "#                            *list(ry_mult_circuit.all_operations())[::-1],\n",
    "#                        ]\n",
    "#                     )\n",
    "#     return circuit"
   ]
  },
  {
   "cell_type": "code",
   "execution_count": 18,
   "metadata": {},
   "outputs": [],
   "source": [
    "from copy import deepcopy\n",
    "def disentangle_circuit(qubit_state_vector, start_qubit_ind, end_qubit_ind):\n",
    "    \"\"\"\n",
    "    \"\"\"\n",
    "\n",
    "    circuit = cirq.Circuit()\n",
    "    n_qubits = np.log2(len(qubit_state_vector))\n",
    "    end_ind_corr = end_qubit_ind+1\n",
    "\n",
    "    if n_qubits!= len(list(range(start_qubit_ind, end_ind_corr))):\n",
    "        raise ValueError('incorrect qubit defined qubit indices!')\n",
    "\n",
    "    remaining_vector = deepcopy(qubit_state_vector)\n",
    "    for qubit_ind in range(start_qubit_ind, end_qubit_ind+1):\n",
    "        # work out which rotations must be done to disentangle the LSB\n",
    "        # qubit (we peel away one qubit at a time)\n",
    "        remaining_vector, theta_list, phi_list = Rotations_to_disentangle(remaining_vector)\n",
    "        \n",
    "        \n",
    "        add_last_cnot = True\n",
    "        if np.linalg.norm(phi_list) != 0 and np.linalg.norm(theta_list) != 0:\n",
    "            add_last_cnot = False\n",
    "\n",
    "        if np.linalg.norm(phi_list) != 0:\n",
    "            rz_mult_circuit = recursive_multiplex('Rz',\n",
    "                                                  phi_list,\n",
    "                                                  qubit_ind,\n",
    "                                                  start_qubit_ind+end_ind_corr,\n",
    "                                                  last_cnot=add_last_cnot)\n",
    "            circuit.append(rz_mult_circuit)\n",
    "\n",
    "        if np.linalg.norm(theta_list) != 0:\n",
    "            ry_mult_circuit = recursive_multiplex('Ry',\n",
    "                                                  theta_list,\n",
    "                                                  qubit_ind,\n",
    "                                                  start_qubit_ind+end_ind_corr,\n",
    "                                                  last_cnot=add_last_cnot)\n",
    "            circuit = cirq.Circuit(\n",
    "                       [\n",
    "                           circuit.all_operations(),\n",
    "                           *list(ry_mult_circuit.all_operations())[::-1],\n",
    "                       ]\n",
    "                    )\n",
    "    return circuit"
   ]
  },
  {
   "cell_type": "code",
   "execution_count": 19,
   "metadata": {},
   "outputs": [
    {
     "data": {
      "text/html": [
       "<pre style=\"overflow: auto; white-space: pre;\">0: ───X───Ry(0)───X───Ry(-0.5π)───\n",
       "      │           │\n",
       "1: ───@───────────@───Ry(-0.5π)───</pre>"
      ],
      "text/plain": [
       "0: ───X───Ry(0)───X───Ry(-0.5π)───\n",
       "      │           │\n",
       "1: ───@───────────@───Ry(-0.5π)───"
      ]
     },
     "execution_count": 19,
     "metadata": {},
     "output_type": "execute_result"
    }
   ],
   "source": [
    "state = [np.sqrt(0.25),np.sqrt(0.25),np.sqrt(0.25),np.sqrt(0.25)]\n",
    "n_qubits=2\n",
    "\n",
    "test = disentangle_circuit(state, 0, 1)\n",
    "test"
   ]
  },
  {
   "cell_type": "code",
   "execution_count": 20,
   "metadata": {},
   "outputs": [
    {
     "data": {
      "text/html": [
       "<pre style=\"word-wrap: normal;white-space: pre;background: #fff0;line-height: 1.1;font-family: &quot;Courier New&quot;,Courier,monospace\">      ┌───┐┌───────┐┌───┐  ┌──────────┐ \n",
       "q7_0: ┤ X ├┤ RY(0) ├┤ X ├──┤ RY(-π/2) ├─\n",
       "      └─┬─┘└───────┘└─┬─┘┌─┴──────────┴┐\n",
       "q7_1: ──■─────────────■──┤ R(-π/2,π/2) ├\n",
       "                         └─────────────┘</pre>"
      ],
      "text/plain": [
       "      ┌───┐┌───────┐┌───┐  ┌──────────┐ \n",
       "q7_0: ┤ X ├┤ RY(0) ├┤ X ├──┤ RY(-π/2) ├─\n",
       "      └─┬─┘└───────┘└─┬─┘┌─┴──────────┴┐\n",
       "q7_1: ──■─────────────■──┤ R(-π/2,π/2) ├\n",
       "                         └─────────────┘"
      ]
     },
     "execution_count": 20,
     "metadata": {},
     "output_type": "execute_result"
    }
   ],
   "source": [
    "qiskit_test.gates_to_uncompute().decompose().decompose().draw()"
   ]
  },
  {
   "cell_type": "code",
   "execution_count": null,
   "metadata": {},
   "outputs": [],
   "source": []
  },
  {
   "cell_type": "code",
   "execution_count": null,
   "metadata": {},
   "outputs": [],
   "source": []
  },
  {
   "cell_type": "code",
   "execution_count": 21,
   "metadata": {},
   "outputs": [
    {
     "data": {
      "text/plain": [
       "array([ 0.5+0.j, -0.5+0.j, -0.5+0.j,  0.5+0.j])"
      ]
     },
     "execution_count": 21,
     "metadata": {},
     "output_type": "execute_result"
    }
   ],
   "source": [
    "test.unitary()[:,0]"
   ]
  },
  {
   "cell_type": "code",
   "execution_count": null,
   "metadata": {},
   "outputs": [],
   "source": [
    "# def intialization_circuit(qubit_state_vector):\n",
    "    \n",
    "#     n_qubits = np.log2(len(qubit_state_vector))\n",
    "    \n",
    "#     if np.ceil(n_qubits) != np.floor(n_qubits):\n",
    "#         raise ValueError('state vector is not a qubit state')\n",
    "    \n",
    "#     if not np.isclose(sum(np.abs(qubit_state_vector)**2), 1):\n",
    "#         raise ValueError('state vector is not normalized')\n",
    "    \n",
    "#     n_qubits = int(np.log2(len(qubit_state_vector)))\n",
    "    \n",
    "#     disentangling_circuit = disentangle_circuit(qubit_state_vector, n_qubits)\n",
    "#     inverse_circuit = cirq.inverse(disentangling_circuit)\n",
    "    \n",
    "#     return inverse_circuit\n",
    "    "
   ]
  },
  {
   "cell_type": "code",
   "execution_count": 22,
   "metadata": {},
   "outputs": [],
   "source": [
    "def intialization_circuit(qubit_state_vector, start_qubit_ind, end_qubit_ind):\n",
    "    \"\"\"\n",
    "    \"\"\"\n",
    "\n",
    "    n_qubits = np.log2(len(qubit_state_vector))\n",
    "    end_ind_corr = end_qubit_ind+1\n",
    "    \n",
    "    if np.ceil(n_qubits) != np.floor(n_qubits):\n",
    "        raise ValueError('state vector is not a qubit state')\n",
    "    \n",
    "    if not np.isclose(sum(np.abs(qubit_state_vector)**2), 1):\n",
    "        raise ValueError('state vector is not normalized')\n",
    "    \n",
    "    \n",
    "    disentangling_circuit = disentangle_circuit(qubit_state_vector, start_qubit_ind, end_qubit_ind)\n",
    "    inverse_circuit = cirq.inverse(disentangling_circuit)\n",
    "    \n",
    "    return inverse_circuit\n",
    "    "
   ]
  },
  {
   "cell_type": "code",
   "execution_count": 23,
   "metadata": {},
   "outputs": [
    {
     "data": {
      "text/html": [
       "<pre style=\"overflow: auto; white-space: pre;\">0: ────────────────────────────────Ry(0.287π)───X───Ry(-0.213π)───X───Ry(0.287π)───X───Ry(-0.213π)───X───\n",
       "                                                │                 │                │                 │\n",
       "1: ───Ry(0.5π)─────X───Ry(-0.5π)───X────────────@─────────────────┼────────────────@─────────────────┼───\n",
       "                   │               │                              │                                  │\n",
       "2: ───Ry(0.144π)───@───────────────@──────────────────────────────@──────────────────────────────────@───</pre>"
      ],
      "text/plain": [
       "0: ────────────────────────────────Ry(0.287π)───X───Ry(-0.213π)───X───Ry(0.287π)───X───Ry(-0.213π)───X───\n",
       "                                                │                 │                │                 │\n",
       "1: ───Ry(0.5π)─────X───Ry(-0.5π)───X────────────@─────────────────┼────────────────@─────────────────┼───\n",
       "                   │               │                              │                                  │\n",
       "2: ───Ry(0.144π)───@───────────────@──────────────────────────────@──────────────────────────────────@───"
      ]
     },
     "execution_count": 23,
     "metadata": {},
     "output_type": "execute_result"
    }
   ],
   "source": [
    "# state = [np.sqrt(0.25),np.sqrt(0.25),np.sqrt(0.25),np.sqrt(0.25)]\n",
    "# state = [np.sqrt(0.9),np.sqrt(0.1), 0 , 0, 0 , 0, 0 , 0]\n",
    "state = [np.sqrt(0.9),np.sqrt(0.05), 0 , 0, 0 , 0, 0 , np.sqrt(0.05)]\n",
    "circuit = intialization_circuit(state, 0, 2)\n",
    "circuit"
   ]
  },
  {
   "cell_type": "code",
   "execution_count": 24,
   "metadata": {},
   "outputs": [
    {
     "name": "stdout",
     "output_type": "stream",
     "text": [
      "Simulate the circuit:\n",
      "measurements: (no measurements)\n",
      "output vector: 0.949|000⟩ + 0.224|100⟩ + 0.224|111⟩\n",
      "\n"
     ]
    }
   ],
   "source": [
    "# Initialize Simulator\n",
    "s=cirq.Simulator()\n",
    "\n",
    "print('Simulate the circuit:')\n",
    "results=s.simulate(circuit)\n",
    "print(results)\n",
    "print()\n"
   ]
  },
  {
   "cell_type": "code",
   "execution_count": 25,
   "metadata": {},
   "outputs": [
    {
     "data": {
      "text/plain": [
       "array([9.4868332e-01+0.j, 0.0000000e+00+0.j, 0.0000000e+00+0.j,\n",
       "       2.2351742e-08+0.j, 2.2360682e-01+0.j, 0.0000000e+00+0.j,\n",
       "       0.0000000e+00+0.j, 2.2360682e-01+0.j], dtype=complex64)"
      ]
     },
     "execution_count": 25,
     "metadata": {},
     "output_type": "execute_result"
    }
   ],
   "source": [
    "results.state_vector()"
   ]
  },
  {
   "cell_type": "code",
   "execution_count": 26,
   "metadata": {},
   "outputs": [
    {
     "data": {
      "text/html": [
       "<pre style=\"word-wrap: normal;white-space: pre;background: #fff0;line-height: 1.1;font-family: &quot;Courier New&quot;,Courier,monospace\">            ┌─────────────┐                           ┌───┐┌──────────────┐»\n",
       "q_0: ─|0>───┤ RY(0.90114) ├───────────────────────────┤ X ├┤ RY(-0.66966) ├»\n",
       "            └┬────────────┤  ┌───┐┌─────────────┐┌───┐└─┬─┘└──────────────┘»\n",
       "q_1: ─|0>────┤ R(π/2,π/2) ├──┤ X ├┤ R(-π/2,π/2) ├┤ X ├──■──────────────────»\n",
       "          ┌──┴────────────┴─┐└─┬─┘└─────────────┘└─┬─┘                     »\n",
       "q_2: ─|0>─┤ U3(0.45103,0,0) ├──■───────────────────■───────────────────────»\n",
       "          └─────────────────┘                                              »\n",
       "«     ┌───┐┌─────────────┐┌───┐┌──────────────┐┌───┐\n",
       "«q_0: ┤ X ├┤ RY(0.90114) ├┤ X ├┤ RY(-0.66966) ├┤ X ├\n",
       "«     └─┬─┘└─────────────┘└─┬─┘└──────────────┘└─┬─┘\n",
       "«q_1: ──┼───────────────────■────────────────────┼──\n",
       "«       │                                        │  \n",
       "«q_2: ──■────────────────────────────────────────■──\n",
       "«                                                   </pre>"
      ],
      "text/plain": [
       "            ┌─────────────┐                           ┌───┐┌──────────────┐»\n",
       "q_0: ─|0>───┤ RY(0.90114) ├───────────────────────────┤ X ├┤ RY(-0.66966) ├»\n",
       "            └┬────────────┤  ┌───┐┌─────────────┐┌───┐└─┬─┘└──────────────┘»\n",
       "q_1: ─|0>────┤ R(π/2,π/2) ├──┤ X ├┤ R(-π/2,π/2) ├┤ X ├──■──────────────────»\n",
       "          ┌──┴────────────┴─┐└─┬─┘└─────────────┘└─┬─┘                     »\n",
       "q_2: ─|0>─┤ U3(0.45103,0,0) ├──■───────────────────■───────────────────────»\n",
       "          └─────────────────┘                                              »\n",
       "«     ┌───┐┌─────────────┐┌───┐┌──────────────┐┌───┐\n",
       "«q_0: ┤ X ├┤ RY(0.90114) ├┤ X ├┤ RY(-0.66966) ├┤ X ├\n",
       "«     └─┬─┘└─────────────┘└─┬─┘└──────────────┘└─┬─┘\n",
       "«q_1: ──┼───────────────────■────────────────────┼──\n",
       "«       │                                        │  \n",
       "«q_2: ──■────────────────────────────────────────■──\n",
       "«                                                   "
      ]
     },
     "execution_count": 26,
     "metadata": {},
     "output_type": "execute_result"
    }
   ],
   "source": [
    "qiskit_test= Initialize(state)\n",
    "qiskit_test._define_synthesis().decompose().decompose().decompose().decompose().draw()"
   ]
  },
  {
   "cell_type": "code",
   "execution_count": 28,
   "metadata": {},
   "outputs": [
    {
     "data": {
      "text/plain": [
       "array([9.48683298e-01+0.j, 2.77555756e-17+0.j, 0.00000000e+00+0.j,\n",
       "       8.32667268e-17+0.j, 2.23606798e-01+0.j, 0.00000000e+00+0.j,\n",
       "       0.00000000e+00+0.j, 2.23606798e-01+0.j])"
      ]
     },
     "execution_count": 28,
     "metadata": {},
     "output_type": "execute_result"
    }
   ],
   "source": [
    "circuit.unitary()[:,0]"
   ]
  },
  {
   "cell_type": "code",
   "execution_count": 30,
   "metadata": {},
   "outputs": [
    {
     "data": {
      "text/plain": [
       "array([0.949+0.j, 0.   +0.j, 0.   +0.j, 0.   +0.j, 0.224+0.j, 0.   +0.j,\n",
       "       0.   +0.j, 0.224+0.j])"
      ]
     },
     "execution_count": 30,
     "metadata": {},
     "output_type": "execute_result"
    }
   ],
   "source": [
    "np.around(circuit.unitary()[:,0], 3)"
   ]
  },
  {
   "cell_type": "code",
   "execution_count": 31,
   "metadata": {},
   "outputs": [
    {
     "data": {
      "text/plain": [
       "array([ 9.48683298e-01+0.j, -2.17642875e-01+0.j,  0.00000000e+00+0.j,\n",
       "        2.70152935e-17+0.j, -2.23606798e-01+0.j,  5.12989176e-02+0.j,\n",
       "        0.00000000e+00+0.j, -6.36756575e-18+0.j])"
      ]
     },
     "execution_count": 31,
     "metadata": {},
     "output_type": "execute_result"
    }
   ],
   "source": [
    "circuit.unitary()[0,:]"
   ]
  },
  {
   "cell_type": "code",
   "execution_count": 62,
   "metadata": {
    "scrolled": true
   },
   "outputs": [
    {
     "data": {
      "text/html": [
       "<pre style=\"word-wrap: normal;white-space: pre;background: #fff0;line-height: 1.1;font-family: &quot;Courier New&quot;,Courier,monospace\">          ┌─────────────┐                                                »\n",
       "q_0: ─────┤ RY(0.45103) ├───────■─────────────────────────────────────■──»\n",
       "     ┌────┴─────────────┴────┐┌─┴─┐┌───────────────────────────────┐┌─┴─┐»\n",
       "q_1: ┤ multiplex1_reverse_dg ├┤ X ├┤ multiplex1_reverse_reverse_dg ├┤ X ├»\n",
       "     └───────────────────────┘└───┘└───────────────────────────────┘└───┘»\n",
       "q_2: ────────────────────────────────────────────────────────────────────»\n",
       "                                                                         »\n",
       "«                                                                           \n",
       "«q_0: ────────────────────────────■──────────────────────────────────────■──\n",
       "«     ┌────────────────────────┐  │  ┌────────────────────────────────┐  │  \n",
       "«q_1: ┤1                       ├──┼──┤1                               ├──┼──\n",
       "«     │  multiplex2_reverse_dg │┌─┴─┐│  multiplex2_reverse_reverse_dg │┌─┴─┐\n",
       "«q_2: ┤0                       ├┤ X ├┤0                               ├┤ X ├\n",
       "«     └────────────────────────┘└───┘└────────────────────────────────┘└───┘</pre>"
      ],
      "text/plain": [
       "          ┌─────────────┐                                                »\n",
       "q_0: ─────┤ RY(0.45103) ├───────■─────────────────────────────────────■──»\n",
       "     ┌────┴─────────────┴────┐┌─┴─┐┌───────────────────────────────┐┌─┴─┐»\n",
       "q_1: ┤ multiplex1_reverse_dg ├┤ X ├┤ multiplex1_reverse_reverse_dg ├┤ X ├»\n",
       "     └───────────────────────┘└───┘└───────────────────────────────┘└───┘»\n",
       "q_2: ────────────────────────────────────────────────────────────────────»\n",
       "                                                                         »\n",
       "«                                                                           \n",
       "«q_0: ────────────────────────────■──────────────────────────────────────■──\n",
       "«     ┌────────────────────────┐  │  ┌────────────────────────────────┐  │  \n",
       "«q_1: ┤1                       ├──┼──┤1                               ├──┼──\n",
       "«     │  multiplex2_reverse_dg │┌─┴─┐│  multiplex2_reverse_reverse_dg │┌─┴─┐\n",
       "«q_2: ┤0                       ├┤ X ├┤0                               ├┤ X ├\n",
       "«     └────────────────────────┘└───┘└────────────────────────────────┘└───┘"
      ]
     },
     "execution_count": 62,
     "metadata": {},
     "output_type": "execute_result"
    }
   ],
   "source": [
    "# remove reset part of circuit!\n",
    "import qiskit\n",
    "\n",
    "qiskit_circuit = qiskit_test._define_synthesis()\n",
    "\n",
    "\n",
    "qcirc = qiskit_circuit.decompose().reverse_bits() #### <--- note reversing bits here!!! (flips order from top to bottom!)\n",
    "\n",
    "# need to remove reset part of circuit\n",
    "new_data = []\n",
    "for index, tup in enumerate(qcirc.data):\n",
    "    op_type, _, _ = tup\n",
    "    if isinstance(op_type, qiskit.circuit.reset.Reset):\n",
    "        continue\n",
    "    else:\n",
    "        new_data.append(tup)\n",
    "qcirc.data = new_data\n",
    "qcirc.decompose().draw()"
   ]
  },
  {
   "cell_type": "code",
   "execution_count": 63,
   "metadata": {},
   "outputs": [],
   "source": [
    "from qiskit.quantum_info import Operator\n",
    "matrix = Operator(qcirc).data"
   ]
  },
  {
   "cell_type": "code",
   "execution_count": 64,
   "metadata": {},
   "outputs": [
    {
     "data": {
      "text/plain": [
       "True"
      ]
     },
     "execution_count": 64,
     "metadata": {},
     "output_type": "execute_result"
    }
   ],
   "source": [
    "np.allclose(circuit.unitary(), matrix)"
   ]
  },
  {
   "cell_type": "code",
   "execution_count": null,
   "metadata": {},
   "outputs": [],
   "source": []
  },
  {
   "cell_type": "code",
   "execution_count": 37,
   "metadata": {},
   "outputs": [
    {
     "data": {
      "text/html": [
       "<pre style=\"word-wrap: normal;white-space: pre;background: #fff0;line-height: 1.1;font-family: &quot;Courier New&quot;,Courier,monospace\">            ┌─────────────┐                           ┌───┐┌──────────────┐»\n",
       "q_0: ─|0>───┤ RY(0.90114) ├───────────────────────────┤ X ├┤ RY(-0.66966) ├»\n",
       "            └┬────────────┤  ┌───┐┌─────────────┐┌───┐└─┬─┘└──────────────┘»\n",
       "q_1: ─|0>────┤ R(π/2,π/2) ├──┤ X ├┤ R(-π/2,π/2) ├┤ X ├──■──────────────────»\n",
       "          ┌──┴────────────┴─┐└─┬─┘└─────────────┘└─┬─┘                     »\n",
       "q_2: ─|0>─┤ U3(0.45103,0,0) ├──■───────────────────■───────────────────────»\n",
       "          └─────────────────┘                                              »\n",
       "«     ┌───┐┌─────────────┐┌───┐┌──────────────┐┌───┐\n",
       "«q_0: ┤ X ├┤ RY(0.90114) ├┤ X ├┤ RY(-0.66966) ├┤ X ├\n",
       "«     └─┬─┘└─────────────┘└─┬─┘└──────────────┘└─┬─┘\n",
       "«q_1: ──┼───────────────────■────────────────────┼──\n",
       "«       │                                        │  \n",
       "«q_2: ──■────────────────────────────────────────■──\n",
       "«                                                   </pre>"
      ],
      "text/plain": [
       "            ┌─────────────┐                           ┌───┐┌──────────────┐»\n",
       "q_0: ─|0>───┤ RY(0.90114) ├───────────────────────────┤ X ├┤ RY(-0.66966) ├»\n",
       "            └┬────────────┤  ┌───┐┌─────────────┐┌───┐└─┬─┘└──────────────┘»\n",
       "q_1: ─|0>────┤ R(π/2,π/2) ├──┤ X ├┤ R(-π/2,π/2) ├┤ X ├──■──────────────────»\n",
       "          ┌──┴────────────┴─┐└─┬─┘└─────────────┘└─┬─┘                     »\n",
       "q_2: ─|0>─┤ U3(0.45103,0,0) ├──■───────────────────■───────────────────────»\n",
       "          └─────────────────┘                                              »\n",
       "«     ┌───┐┌─────────────┐┌───┐┌──────────────┐┌───┐\n",
       "«q_0: ┤ X ├┤ RY(0.90114) ├┤ X ├┤ RY(-0.66966) ├┤ X ├\n",
       "«     └─┬─┘└─────────────┘└─┬─┘└──────────────┘└─┬─┘\n",
       "«q_1: ──┼───────────────────■────────────────────┼──\n",
       "«       │                                        │  \n",
       "«q_2: ──■────────────────────────────────────────■──\n",
       "«                                                   "
      ]
     },
     "execution_count": 37,
     "metadata": {},
     "output_type": "execute_result"
    }
   ],
   "source": [
    "qiskit_circuit.decompose().decompose().decompose().decompose().draw()"
   ]
  },
  {
   "cell_type": "code",
   "execution_count": 54,
   "metadata": {},
   "outputs": [
    {
     "data": {
      "text/html": [
       "<pre style=\"overflow: auto; white-space: pre;\">0: ────────────────────────────────Ry(0.287π)───X───Ry(-0.213π)───X───Ry(0.287π)───X───Ry(-0.213π)───X───\n",
       "                                                │                 │                │                 │\n",
       "1: ───Ry(0.5π)─────X───Ry(-0.5π)───X────────────@─────────────────┼────────────────@─────────────────┼───\n",
       "                   │               │                              │                                  │\n",
       "2: ───Ry(0.144π)───@───────────────@──────────────────────────────@──────────────────────────────────@───</pre>"
      ],
      "text/plain": [
       "0: ────────────────────────────────Ry(0.287π)───X───Ry(-0.213π)───X───Ry(0.287π)───X───Ry(-0.213π)───X───\n",
       "                                                │                 │                │                 │\n",
       "1: ───Ry(0.5π)─────X───Ry(-0.5π)───X────────────@─────────────────┼────────────────@─────────────────┼───\n",
       "                   │               │                              │                                  │\n",
       "2: ───Ry(0.144π)───@───────────────@──────────────────────────────@──────────────────────────────────@───"
      ]
     },
     "execution_count": 54,
     "metadata": {},
     "output_type": "execute_result"
    }
   ],
   "source": [
    "circuit"
   ]
  },
  {
   "cell_type": "code",
   "execution_count": 60,
   "metadata": {},
   "outputs": [
    {
     "data": {
      "text/html": [
       "<pre style=\"overflow: auto; white-space: pre;\">0: ───X───Ry(0.213π)───X───Ry(-0.287π)───X───Ry(0.213π)───X───Ry(-0.287π)────────────────────────────────\n",
       "      │                │                 │                │\n",
       "1: ───┼────────────────@─────────────────┼────────────────@───X─────────────Ry(0.5π)───X───Ry(-0.5π)─────\n",
       "      │                                  │                    │                        │\n",
       "2: ───@──────────────────────────────────@────────────────────@────────────────────────@───Ry(-0.144π)───</pre>"
      ],
      "text/plain": [
       "0: ───X───Ry(0.213π)───X───Ry(-0.287π)───X───Ry(0.213π)───X───Ry(-0.287π)────────────────────────────────\n",
       "      │                │                 │                │\n",
       "1: ───┼────────────────@─────────────────┼────────────────@───X─────────────Ry(0.5π)───X───Ry(-0.5π)─────\n",
       "      │                                  │                    │                        │\n",
       "2: ───@──────────────────────────────────@────────────────────@────────────────────────@───Ry(-0.144π)───"
      ]
     },
     "execution_count": 60,
     "metadata": {},
     "output_type": "execute_result"
    }
   ],
   "source": [
    "cirq.inverse(circuit)"
   ]
  },
  {
   "cell_type": "code",
   "execution_count": 53,
   "metadata": {},
   "outputs": [
    {
     "name": "stdout",
     "output_type": "stream",
     "text": [
      "N_qubits = 3\n",
      "000 (0.948683-0j)\n",
      "001 (0.223607-0j)\n",
      "010 (-0+0j)\n",
      "011 -0j\n",
      "100 -0j\n",
      "101 -0j\n",
      "110 0j\n",
      "111 (0.223607-0j)\n"
     ]
    }
   ],
   "source": [
    "out = np.around(Operator(CIRC).data[:,0], 6)\n",
    "\n",
    "from quchem.Qcircuit.misc_quantum_circuit_functions import Get_state_as_str\n",
    "\n",
    "n_qubits = int(np.log2(len(out)))\n",
    "print('N_qubits =', n_qubits)\n",
    "for i, amp in enumerate(out):\n",
    "    print(Get_state_as_str(n_qubits, i), amp)"
   ]
  }
 ],
 "metadata": {
  "kernelspec": {
   "display_name": "Python 3",
   "language": "python",
   "name": "python3"
  },
  "language_info": {
   "codemirror_mode": {
    "name": "ipython",
    "version": 3
   },
   "file_extension": ".py",
   "mimetype": "text/x-python",
   "name": "python",
   "nbconvert_exporter": "python",
   "pygments_lexer": "ipython3",
   "version": "3.8.5"
  }
 },
 "nbformat": 4,
 "nbformat_minor": 4
}
