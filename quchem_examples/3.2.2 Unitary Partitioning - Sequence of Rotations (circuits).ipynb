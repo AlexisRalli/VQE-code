{
 "cells": [
  {
   "cell_type": "code",
   "execution_count": 1,
   "metadata": {},
   "outputs": [],
   "source": [
    "import os\n",
    "import ast"
   ]
  },
  {
   "cell_type": "code",
   "execution_count": 2,
   "metadata": {},
   "outputs": [],
   "source": [
    "### open Hamiltonian data ###\n",
    "\n",
    "working_dir = os.getcwd()\n",
    "parent_dir = os.path.dirname(working_dir) # gets directory where running python file is!\n",
    "\n",
    "data_dir = os.path.join(parent_dir, 'Molecular_Hamiltonian_data')\n",
    "hamiltonian_data = os.path.join(data_dir, 'hamiltonians.txt')"
   ]
  },
  {
   "cell_type": "code",
   "execution_count": null,
   "metadata": {},
   "outputs": [],
   "source": []
  },
  {
   "cell_type": "code",
   "execution_count": 3,
   "metadata": {},
   "outputs": [
    {
     "name": "stdout",
     "output_type": "stream",
     "text": [
      "H2-S1_STO-3G_singlet          n_qubits:  18   \n",
      "C1-O1_STO-3G_singlet          n_qubits:  16   \n",
      "H1-Cl1_STO-3G_singlet         n_qubits:  16   \n",
      "H1-Na1_STO-3G_singlet         n_qubits:  16   \n",
      "H2-Mg1_STO-3G_singlet         n_qubits:  17   \n",
      "H1-F1_3-21G_singlet           n_qubits:  18   \n",
      "H1-Li1_3-21G_singlet          n_qubits:  18   \n",
      "Be1_STO-3G_singlet            n_qubits:  5    \n",
      "H1-F1_STO-3G_singlet          n_qubits:  8    \n",
      "H1-Li1_STO-3G_singlet         n_qubits:  8    \n",
      "Ar1_STO-3G_singlet            n_qubits:  13   \n",
      "F2_STO-3G_singlet             n_qubits:  15   \n",
      "H1-O1_STO-3G_singlet          n_qubits:  8    \n",
      "H2-Be1_STO-3G_singlet         n_qubits:  9    \n",
      "H2-O1_STO-3G_singlet          n_qubits:  10   \n",
      "H2_3-21G_singlet              n_qubits:  5    \n",
      "H2_6-31G_singlet              n_qubits:  5    \n",
      "H3-N1_STO-3G_singlet          n_qubits:  13   \n",
      "H4-C1_STO-3G_singlet          n_qubits:  14   \n",
      "Mg1_STO-3G_singlet            n_qubits:  13   \n",
      "N2_STO-3G_singlet             n_qubits:  15   \n",
      "Ne1_STO-3G_singlet            n_qubits:  5    \n",
      "O2_STO-3G_singlet             n_qubits:  15   \n",
      "H1-Li1-O1_STO-3G_singlet      n_qubits:  18   \n",
      "H1-He1_STO-3G_singlet         n_qubits:  2    \n",
      "H3_STO-3G_singlet_1+          n_qubits:  3    \n",
      "H1-He1_3-21G_singlet_1+       n_qubits:  6    \n",
      "H3_3-21G_singlet_1+           n_qubits:  9    \n",
      "H4-N1_STO-3G_singlet_1+       n_qubits:  14   \n"
     ]
    }
   ],
   "source": [
    "with open(hamiltonian_data, 'r') as input_file:\n",
    "    hamiltonians = ast.literal_eval(input_file.read())\n",
    "\n",
    "for key in hamiltonians.keys():\n",
    "    print(f\"{key: <25}     n_qubits:  {hamiltonians[key][1]:<5.0f}\")"
   ]
  },
  {
   "cell_type": "code",
   "execution_count": null,
   "metadata": {},
   "outputs": [],
   "source": []
  },
  {
   "cell_type": "code",
   "execution_count": 4,
   "metadata": {},
   "outputs": [],
   "source": [
    "molecule_key = 'H3_STO-3G_singlet_1+'\n",
    "transformation, N_qubits, Hamilt_dictionary, _ ,_, _ = hamiltonians[molecule_key]"
   ]
  },
  {
   "cell_type": "markdown",
   "metadata": {},
   "source": [
    "# 1. Get OpenFermion representation of Hamiltonian"
   ]
  },
  {
   "cell_type": "code",
   "execution_count": 5,
   "metadata": {},
   "outputs": [
    {
     "data": {
      "text/plain": [
       "-1.7512307459285525 [] +\n",
       "0.01872992170537467 [X0] +\n",
       "-0.023568139980123585 [X0 X1] +\n",
       "0.03597868636603963 [X0 X1 X2] +\n",
       "-0.023568139980123585 [X0 X1 Z2] +\n",
       "-0.03597868636603963 [X0 Y1 Y2] +\n",
       "0.01872992170537467 [X0 Z1] +\n",
       "0.023568139980123585 [X0 Z1 X2] +\n",
       "0.01872992170537467 [X0 Z1 Z2] +\n",
       "0.023568139980123585 [X0 X2] +\n",
       "0.01872992170537467 [X0 Z2] +\n",
       "0.03597868636603963 [Y0 X1 Y2] +\n",
       "-0.023568139980123585 [Y0 Y1] +\n",
       "0.03597868636603963 [Y0 Y1 X2] +\n",
       "-0.023568139980123585 [Y0 Y1 Z2] +\n",
       "0.023568139980123585 [Y0 Z1 Y2] +\n",
       "0.023568139980123585 [Y0 Y2] +\n",
       "-0.45436486525596403 [Z0] +\n",
       "0.02356815233618002 [Z0 X1] +\n",
       "0.02356815233617983 [Z0 X1 Z2] +\n",
       "-0.07195737217001562 [Z0 Y1 Y2] +\n",
       "0.37110605476609804 [Z0 Z1] +\n",
       "-0.023568152336179825 [Z0 Z1 X2] +\n",
       "-0.2878474382772282 [Z0 Z1 Z2] +\n",
       "-0.023568152336180023 [Z0 X2] +\n",
       "0.37110605476609787 [Z0 Z2] +\n",
       "0.02356815233618002 [X1] +\n",
       "0.02356815233617983 [X1 Z2] +\n",
       "-0.07195737217001562 [Y1 Y2] +\n",
       "-0.017109477140260287 [Z1] +\n",
       "-0.023568152336179825 [Z1 X2] +\n",
       "0.31270210682950855 [Z1 Z2] +\n",
       "-0.023568152336180023 [X2] +\n",
       "-0.017109477140260287 [Z2]"
      ]
     },
     "execution_count": 5,
     "metadata": {},
     "output_type": "execute_result"
    }
   ],
   "source": [
    "from quchem.Misc_functions.conversion_scripts import Get_Openfermion_Hamiltonian\n",
    "\n",
    "openFermion_H = Get_Openfermion_Hamiltonian(Hamilt_dictionary)\n",
    "openFermion_H"
   ]
  },
  {
   "cell_type": "code",
   "execution_count": null,
   "metadata": {},
   "outputs": [],
   "source": []
  },
  {
   "cell_type": "markdown",
   "metadata": {},
   "source": [
    "# 2. Get cliques defined by commutativity \n"
   ]
  },
  {
   "cell_type": "code",
   "execution_count": 6,
   "metadata": {
    "scrolled": true
   },
   "outputs": [
    {
     "data": {
      "text/plain": [
       "{0: [-1.7512307459285525 []],\n",
       " 1: [-0.017109477140260287 [Z2],\n",
       "  -0.023568152336179825 [Z1 X2],\n",
       "  0.03597868636603963 [X0 X1 X2],\n",
       "  0.023568139980123585 [Y0 Z1 Y2]],\n",
       " 2: [0.02356815233617983 [X1 Z2],\n",
       "  -0.017109477140260287 [Z1],\n",
       "  0.03597868636603963 [Y0 X1 Y2],\n",
       "  -0.023568139980123585 [Y0 Y1]],\n",
       " 3: [0.37110605476609787 [Z0 Z2],\n",
       "  -0.023568152336179825 [Z0 Z1 X2],\n",
       "  0.01872992170537467 [X0],\n",
       "  -0.023568139980123585 [Y0 Y1 Z2]],\n",
       " 4: [0.02356815233617983 [Z0 X1 Z2],\n",
       "  0.37110605476609804 [Z0 Z1],\n",
       "  0.01872992170537467 [X0 Z2],\n",
       "  0.023568139980123585 [X0 Z1 X2]],\n",
       " 5: [0.023568139980123585 [X0 X2],\n",
       "  -0.023568139980123585 [X0 X1 Z2],\n",
       "  0.01872992170537467 [X0 Z1 Z2],\n",
       "  0.03597868636603963 [Y0 Y1 X2],\n",
       "  -0.45436486525596403 [Z0]],\n",
       " 6: [-0.023568139980123585 [X0 X1],\n",
       "  -0.03597868636603963 [X0 Y1 Y2],\n",
       "  0.01872992170537467 [X0 Z1],\n",
       "  0.023568139980123585 [Y0 Y2]],\n",
       " 7: [-0.023568152336180023 [X2], -0.07195737217001562 [Y1 Y2]],\n",
       " 8: [0.02356815233618002 [X1], 0.31270210682950855 [Z1 Z2]],\n",
       " 9: [-0.023568152336180023 [Z0 X2], -0.07195737217001562 [Z0 Y1 Y2]],\n",
       " 10: [0.02356815233618002 [Z0 X1], -0.2878474382772282 [Z0 Z1 Z2]]}"
      ]
     },
     "execution_count": 6,
     "metadata": {},
     "output_type": "execute_result"
    }
   ],
   "source": [
    "from quchem.Unitary_Partitioning.Graph import Clique_cover_Hamiltonian\n",
    "\n",
    "commutativity_flag = 'AC' ## <- defines relationship between sets!!!\n",
    "Graph_colouring_strategy='largest_first'\n",
    "\n",
    "\n",
    "anti_commuting_sets = Clique_cover_Hamiltonian(openFermion_H, \n",
    "                                                     N_qubits, \n",
    "                                                     commutativity_flag, \n",
    "                                                     Graph_colouring_strategy)\n",
    "anti_commuting_sets"
   ]
  },
  {
   "cell_type": "code",
   "execution_count": null,
   "metadata": {},
   "outputs": [],
   "source": []
  },
  {
   "cell_type": "markdown",
   "metadata": {},
   "source": [
    "# 3. Example of X_sk operator"
   ]
  },
  {
   "cell_type": "code",
   "execution_count": 7,
   "metadata": {},
   "outputs": [
    {
     "data": {
      "text/plain": [
       "[0.023568139980123585 [X0 X2],\n",
       " -0.023568139980123585 [X0 X1 Z2],\n",
       " 0.01872992170537467 [X0 Z1 Z2],\n",
       " 0.03597868636603963 [Y0 Y1 X2],\n",
       " -0.45436486525596403 [Z0]]"
      ]
     },
     "execution_count": 7,
     "metadata": {},
     "output_type": "execute_result"
    }
   ],
   "source": [
    "key_larg, largest_AC_set = max(anti_commuting_sets.items(), key=lambda x:len(x[1])) # largest nonCon part found by dfs alg\n",
    "largest_AC_set"
   ]
  },
  {
   "cell_type": "code",
   "execution_count": 8,
   "metadata": {},
   "outputs": [],
   "source": [
    "from quchem.Unitary_Partitioning.Seq_Rot_circuit_functions import Build_R_SeqRot_Q_circuit"
   ]
  },
  {
   "cell_type": "code",
   "execution_count": 9,
   "metadata": {},
   "outputs": [],
   "source": [
    "S_index=0\n",
    "check_reduction_lin_alg = True\n",
    "check_circuit = True\n",
    "AC_set = anti_commuting_sets[key_larg]\n",
    "\n",
    "Q_circuit_Rsl, Psl, gammal = Build_R_SeqRot_Q_circuit(AC_set,\n",
    "                                         S_index,\n",
    "                                         N_qubits,\n",
    "                                         check_reduction_lin_alg=check_reduction_lin_alg,\n",
    "                                        atol=1e-8,\n",
    "                                        rtol=1e-05,\n",
    "                                        check_circuit = check_circuit)"
   ]
  },
  {
   "cell_type": "code",
   "execution_count": 18,
   "metadata": {},
   "outputs": [
    {
     "data": {
      "text/html": [
       "<pre style=\"overflow: auto; white-space: pre;\">0: ──────────────────────────────────────────────────────────────────────────────────────────────────────@────────────────@───────────────Rx(0.5π)───@─────────────────@───Rx(-0.5π)───\n",
       "                                                                                                         │                │                          │                 │\n",
       "1: ───H──────────@────────────────@───H──────────────────────@────────────────@───────────────Rx(0.5π)───X───Rz(-0.24π)───X───Rx(-0.5π)──────────────┼─────────────────┼───────────────\n",
       "                 │                │                          │                │                                                                      │                 │\n",
       "2: ───Rx(0.5π)───X───Rz(-0.25π)───X───Rx(-0.5π)───Rx(0.5π)───X───Rz(0.163π)───X───Rx(-0.5π)───────────────────────────────────────────────H──────────X───Rz(-0.463π)───X───H───────────</pre>"
      ],
      "text/plain": [
       "0: ──────────────────────────────────────────────────────────────────────────────────────────────────────@────────────────@───────────────Rx(0.5π)───@─────────────────@───Rx(-0.5π)───\n",
       "                                                                                                         │                │                          │                 │\n",
       "1: ───H──────────@────────────────@───H──────────────────────@────────────────@───────────────Rx(0.5π)───X───Rz(-0.24π)───X───Rx(-0.5π)──────────────┼─────────────────┼───────────────\n",
       "                 │                │                          │                │                                                                      │                 │\n",
       "2: ───Rx(0.5π)───X───Rz(-0.25π)───X───Rx(-0.5π)───Rx(0.5π)───X───Rz(0.163π)───X───Rx(-0.5π)───────────────────────────────────────────────H──────────X───Rz(-0.463π)───X───H───────────"
      ]
     },
     "execution_count": 18,
     "metadata": {},
     "output_type": "execute_result"
    }
   ],
   "source": [
    "Q_circuit_Rsl"
   ]
  },
  {
   "cell_type": "code",
   "execution_count": 10,
   "metadata": {},
   "outputs": [
    {
     "data": {
      "text/plain": [
       "array([[ 0.59362529+1.17756934e-16j, -0.06046299+0.00000000e+00j,\n",
       "         0.31321535+1.89821725e-16j,  0.32130964+1.23583449e-16j,\n",
       "         0.23545804-3.92523115e-17j,  0.57650861+1.17756934e-16j,\n",
       "        -0.1715885 +1.77862036e-17j, -0.1592615 -1.79088671e-16j],\n",
       "       [ 0.06046299+1.17756934e-16j,  0.59362529+7.85046229e-17j,\n",
       "        -0.32130964+3.28124791e-17j,  0.31321535-5.82651498e-18j,\n",
       "         0.57650861-3.92523115e-17j, -0.23545804-1.17756934e-16j,\n",
       "        -0.1592615 +6.07184193e-17j,  0.1715885 +1.71728863e-17j],\n",
       "       [-0.31321535-4.59988025e-18j,  0.32130964-4.13989223e-17j,\n",
       "         0.59362529-7.85046229e-17j,  0.06046299+9.81307787e-17j,\n",
       "        -0.1715885 -4.72254372e-17j,  0.1592615 -2.14661078e-17j,\n",
       "        -0.23545804-7.85046229e-17j,  0.57650861+0.00000000e+00j],\n",
       "       [-0.32130964-1.13157054e-16j, -0.31321535-1.59155857e-16j,\n",
       "        -0.06046299+3.92523115e-17j,  0.59362529+5.88784672e-17j,\n",
       "         0.1592615 +1.49036120e-16j,  0.1715885 +2.14661078e-17j,\n",
       "         0.57650861+1.57009246e-16j,  0.23545804-7.85046229e-17j],\n",
       "       [-0.05387909+0.00000000e+00j, -0.52898454-3.92523115e-17j,\n",
       "         0.28632175+5.82651498e-17j, -0.27910886+1.55782611e-16j,\n",
       "         0.64695669-2.94392336e-17j, -0.26423049-6.86915451e-17j,\n",
       "        -0.1787229 +1.07943857e-16j,  0.19255624+7.78913056e-17j],\n",
       "       [-0.52898454-1.17756934e-16j,  0.05387909+7.85046229e-17j,\n",
       "        -0.27910886-2.55753342e-16j, -0.28632175+4.04789462e-17j,\n",
       "         0.26423049+2.94392336e-17j,  0.64695669+8.83177008e-17j,\n",
       "        -0.19255624+2.94392336e-17j, -0.1787229 -1.96874875e-16j],\n",
       "       [ 0.28632175-4.96787067e-17j,  0.27910886+1.35849797e-16j,\n",
       "         0.05387909+3.92523115e-17j, -0.52898454+3.92523115e-17j,\n",
       "         0.1787229 +2.03008048e-16j,  0.19255624+9.81307787e-18j,\n",
       "         0.64695669+2.35513869e-16j,  0.26423049-2.94392336e-17j],\n",
       "       [ 0.27910886-1.46582851e-16j, -0.28632175-6.04117606e-17j,\n",
       "        -0.52898454+3.92523115e-17j, -0.05387909+3.92523115e-17j,\n",
       "        -0.19255624-3.25058204e-17j,  0.1787229 -6.86915451e-17j,\n",
       "        -0.26423049-7.85046229e-17j,  0.64695669+2.94392336e-17j]])"
      ]
     },
     "execution_count": 10,
     "metadata": {},
     "output_type": "execute_result"
    }
   ],
   "source": [
    "Q_circuit_Rsl.unitary()"
   ]
  },
  {
   "cell_type": "code",
   "execution_count": 11,
   "metadata": {},
   "outputs": [
    {
     "data": {
      "text/plain": [
       "[((1-0j) [X1 Y2], -0.7853981633974483),\n",
       " ((1-0j) [Z1 Y2], 0.5119695711373766),\n",
       " ((-1+0j) [Z0 Y1], 0.7550371667782845),\n",
       " ((1-0j) [Y0 X2], -1.4557617880633529)]"
      ]
     },
     "execution_count": 11,
     "metadata": {},
     "output_type": "execute_result"
    }
   ],
   "source": [
    "## compare with linear algebra\n",
    "from quchem.Unitary_Partitioning.Unitary_partitioning_Seq_Rot import Get_Xsk_op_list\n",
    "\n",
    "S_index=0\n",
    "check_reduction = True\n",
    "\n",
    "X_sk_theta_sk_list, normalised_FULL_set, Ps, gamma_l = Get_Xsk_op_list(AC_set,\n",
    "                S_index,\n",
    "                N_qubits,\n",
    "                check_reduction=check_reduction,\n",
    "                atol=1e-8,\n",
    "                rtol=1e-05,)\n",
    "\n",
    "X_sk_theta_sk_list"
   ]
  },
  {
   "cell_type": "code",
   "execution_count": 12,
   "metadata": {},
   "outputs": [],
   "source": [
    "from quchem.Unitary_Partitioning.Unitary_partitioning_Seq_Rot import Get_Rsl_matrix\n",
    "R_Sl_matrix = Get_Rsl_matrix(X_sk_theta_sk_list, N_qubits)"
   ]
  },
  {
   "cell_type": "code",
   "execution_count": 15,
   "metadata": {},
   "outputs": [
    {
     "data": {
      "text/plain": [
       "True"
      ]
     },
     "execution_count": 15,
     "metadata": {},
     "output_type": "execute_result"
    }
   ],
   "source": [
    "## checking Rsl circuit unitary is the same as lin alg R_sl matrix\n",
    "import numpy as np\n",
    "np.allclose(Q_circuit_Rsl.unitary(), R_Sl_matrix.todense())"
   ]
  },
  {
   "cell_type": "code",
   "execution_count": 16,
   "metadata": {},
   "outputs": [
    {
     "data": {
      "text/plain": [
       "1 [X0 X2]"
      ]
     },
     "execution_count": 16,
     "metadata": {},
     "output_type": "execute_result"
    }
   ],
   "source": [
    "Ps"
   ]
  },
  {
   "cell_type": "code",
   "execution_count": 17,
   "metadata": {},
   "outputs": [
    {
     "data": {
      "text/plain": [
       "0.45738782347481777"
      ]
     },
     "execution_count": 17,
     "metadata": {},
     "output_type": "execute_result"
    }
   ],
   "source": [
    "gamma_l"
   ]
  },
  {
   "cell_type": "markdown",
   "metadata": {},
   "source": []
  },
  {
   "cell_type": "code",
   "execution_count": null,
   "metadata": {},
   "outputs": [],
   "source": []
  },
  {
   "cell_type": "markdown",
   "metadata": {},
   "source": [
    "# 4. Build full exp circuit\n",
    "- Ansatz\n",
    "- Rsl\n",
    "- Ps measurement"
   ]
  },
  {
   "cell_type": "code",
   "execution_count": null,
   "metadata": {},
   "outputs": [],
   "source": [
    "# TODO\n",
    "Seq_Rot_VQE_Experiment_UP_circuit_lin_alg"
   ]
  },
  {
   "cell_type": "code",
   "execution_count": null,
   "metadata": {},
   "outputs": [],
   "source": [
    "# TODO\n",
    "Seq_Rot_VQE_Experiment_UP_circuit_sampling"
   ]
  }
 ],
 "metadata": {
  "kernelspec": {
   "display_name": "Python 3",
   "language": "python",
   "name": "python3"
  },
  "language_info": {
   "codemirror_mode": {
    "name": "ipython",
    "version": 3
   },
   "file_extension": ".py",
   "mimetype": "text/x-python",
   "name": "python",
   "nbconvert_exporter": "python",
   "pygments_lexer": "ipython3",
   "version": "3.8.5"
  }
 },
 "nbformat": 4,
 "nbformat_minor": 4
}
