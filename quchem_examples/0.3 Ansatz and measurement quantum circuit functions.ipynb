{
 "cells": [
  {
   "cell_type": "code",
   "execution_count": 6,
   "metadata": {},
   "outputs": [],
   "source": [
    "from openfermion.ops import QubitOperator\n",
    "import numpy as np\n",
    "import cirq"
   ]
  },
  {
   "cell_type": "code",
   "execution_count": 7,
   "metadata": {},
   "outputs": [],
   "source": [
    "from quchem.Qcircuit.Ansatz_quantum_circuit_functions import full_exponentiated_PauliWord_circuit"
   ]
  },
  {
   "cell_type": "markdown",
   "metadata": {},
   "source": [
    "## Generate_Full_Q_Circuit"
   ]
  },
  {
   "cell_type": "code",
   "execution_count": 8,
   "metadata": {},
   "outputs": [],
   "source": [
    "from quchem.Qcircuit.misc_quantum_circuit_functions import Generate_Ansatz_and_PauliMeasurement_Q_Circuit"
   ]
  },
  {
   "cell_type": "code",
   "execution_count": 41,
   "metadata": {},
   "outputs": [
    {
     "data": {
      "text/html": [
       "<pre style=\"overflow: auto; white-space: pre;\">0: ───H──────────@────────────────────────────────────────@──────────H───────────Ry(-0.5π)───M───\n",
       "                 │                                        │                                  │\n",
       "1: ───Rx(0.5π)───X───@────────────────────────@───────────X──────────Rx(-0.5π)───Ry(-0.5π)───M───\n",
       "                     │                        │                                              │\n",
       "2: ──────────────────X───@────────────────@───X──────────────────────────────────────────────┼───\n",
       "                         │                │                                                  │\n",
       "3: ───Rx(0.5π)───────────X───Rz(-0.25π)───X───Rx(-0.5π)───Rx(0.5π)───────────────────────────M───</pre>"
      ],
      "text/plain": [
       "0: ───H──────────@────────────────────────────────────────@──────────H───────────Ry(-0.5π)───M───\n",
       "                 │                                        │                                  │\n",
       "1: ───Rx(0.5π)───X───@────────────────────────@───────────X──────────Rx(-0.5π)───Ry(-0.5π)───M───\n",
       "                     │                        │                                              │\n",
       "2: ──────────────────X───@────────────────@───X──────────────────────────────────────────────┼───\n",
       "                         │                │                                                  │\n",
       "3: ───Rx(0.5π)───────────X───Rz(-0.25π)───X───Rx(-0.5π)───Rx(0.5π)───────────────────────────M───"
      ]
     },
     "execution_count": 41,
     "metadata": {},
     "output_type": "execute_result"
    }
   ],
   "source": [
    "## ansatz circuit\n",
    "HF_circ = [cirq.X.on(cirq.LineQubit(0)), cirq.X.on(cirq.LineQubit(1))]\n",
    "x = QubitOperator('X0 Y1 Z2 Y3', 0.25j)\n",
    "theta = np.pi/2\n",
    "full_exp_circ_obj = full_exponentiated_PauliWord_circuit(x, theta)\n",
    "UCCSD_circ = cirq.Circuit(cirq.decompose_once((full_exp_circ_obj(*cirq.LineQubit.range(full_exp_circ_obj.num_qubits())))))\n",
    "###\n",
    "\n",
    "H_term = QubitOperator('X0 X1 Y3', 0.25j)\n",
    "\n",
    "circuit = Generate_Ansatz_and_PauliMeasurement_Q_Circuit(UCCSD_circ, H_term)\n",
    "circuit"
   ]
  },
  {
   "cell_type": "code",
   "execution_count": 42,
   "metadata": {},
   "outputs": [
    {
     "data": {
      "text/plain": [
       "True"
      ]
     },
     "execution_count": 42,
     "metadata": {},
     "output_type": "execute_result"
    }
   ],
   "source": [
    "circuit.has_measurements()"
   ]
  },
  {
   "cell_type": "code",
   "execution_count": null,
   "metadata": {},
   "outputs": [],
   "source": [
    "circuit.unitary(ignore_terminal_measurements=True)"
   ]
  },
  {
   "cell_type": "code",
   "execution_count": 50,
   "metadata": {},
   "outputs": [
    {
     "data": {
      "text/plain": [
       "array([ 1.91341716e-01+2.77555756e-17j,  1.38777878e-17-4.61939766e-01j,\n",
       "        0.00000000e+00+0.00000000e+00j,  0.00000000e+00+0.00000000e+00j,\n",
       "       -4.61939766e-01-2.77555756e-17j,  1.38777878e-17+1.91341716e-01j,\n",
       "        0.00000000e+00+0.00000000e+00j,  0.00000000e+00+0.00000000e+00j,\n",
       "       -4.61939766e-01+5.55111512e-17j, -1.38777878e-17+1.91341716e-01j,\n",
       "       -0.00000000e+00+0.00000000e+00j, -0.00000000e+00+0.00000000e+00j,\n",
       "        1.91341716e-01-5.55111512e-17j,  4.16333634e-17-4.61939766e-01j,\n",
       "        0.00000000e+00+0.00000000e+00j,  0.00000000e+00+0.00000000e+00j])"
      ]
     },
     "execution_count": 50,
     "metadata": {},
     "output_type": "execute_result"
    }
   ],
   "source": [
    "circuit.final_state_vector(ignore_terminal_measurements=True)"
   ]
  },
  {
   "cell_type": "code",
   "execution_count": 44,
   "metadata": {},
   "outputs": [
    {
     "data": {
      "text/plain": [
       "array([ 0.191+0.j   ,  0.   -0.462j,  0.   +0.j   ,  0.   +0.j   ,\n",
       "       -0.462-0.j   ,  0.   +0.191j,  0.   +0.j   ,  0.   +0.j   ,\n",
       "       -0.462+0.j   , -0.   +0.191j, -0.   +0.j   , -0.   +0.j   ,\n",
       "        0.191-0.j   ,  0.   -0.462j,  0.   +0.j   ,  0.   +0.j   ])"
      ]
     },
     "execution_count": 44,
     "metadata": {},
     "output_type": "execute_result"
    }
   ],
   "source": [
    "np.around(circuit.final_state_vector(), 3)"
   ]
  },
  {
   "cell_type": "code",
   "execution_count": 34,
   "metadata": {},
   "outputs": [
    {
     "name": "stdout",
     "output_type": "stream",
     "text": [
      "Help on method unitary in module cirq.circuits.circuit:\n",
      "\n",
      "unitary(qubit_order: 'cirq.QubitOrderOrList' = <cirq.ops.qubit_order.QubitOrder object at 0x7f5facb0df10>, qubits_that_should_be_present: Iterable[ForwardRef('cirq.Qid')] = (), ignore_terminal_measurements: bool = True, dtype: Type[numpy.number] = <class 'numpy.complex128'>) -> numpy.ndarray method of cirq.circuits.circuit.Circuit instance\n",
      "    Converts the circuit into a unitary matrix, if possible.\n",
      "    \n",
      "    Returns the same result as `cirq.unitary`, but provides more options.\n",
      "    \n",
      "    Args:\n",
      "        qubit_order: Determines how qubits are ordered when passing matrices\n",
      "            into np.kron.\n",
      "        qubits_that_should_be_present: Qubits that may or may not appear\n",
      "            in operations within the circuit, but that should be included\n",
      "            regardless when generating the matrix.\n",
      "        ignore_terminal_measurements: When set, measurements at the end of\n",
      "            the circuit are ignored instead of causing the method to\n",
      "            fail.\n",
      "        dtype: The numpy dtype for the returned unitary. Defaults to\n",
      "            np.complex128. Specifying np.complex64 will run faster at the\n",
      "            cost of precision. `dtype` must be a complex np.dtype, unless\n",
      "            all operations in the circuit have unitary matrices with\n",
      "            exclusively real coefficients (e.g. an H + TOFFOLI circuit).\n",
      "    \n",
      "    Returns:\n",
      "        A (possibly gigantic) 2d numpy array corresponding to a matrix\n",
      "        equivalent to the circuit's effect on a quantum state.\n",
      "    \n",
      "    Raises:\n",
      "        ValueError: The circuit contains measurement gates that are not\n",
      "            ignored.\n",
      "        TypeError: The circuit contains gates that don't have a known\n",
      "            unitary matrix, e.g. gates parameterized by a Symbol.\n",
      "\n"
     ]
    }
   ],
   "source": [
    "help(circuit.unitary)"
   ]
  }
 ],
 "metadata": {
  "kernelspec": {
   "display_name": "Python 3",
   "language": "python",
   "name": "python3"
  },
  "language_info": {
   "codemirror_mode": {
    "name": "ipython",
    "version": 3
   },
   "file_extension": ".py",
   "mimetype": "text/x-python",
   "name": "python",
   "nbconvert_exporter": "python",
   "pygments_lexer": "ipython3",
   "version": "3.8.5"
  }
 },
 "nbformat": 4,
 "nbformat_minor": 2
}
