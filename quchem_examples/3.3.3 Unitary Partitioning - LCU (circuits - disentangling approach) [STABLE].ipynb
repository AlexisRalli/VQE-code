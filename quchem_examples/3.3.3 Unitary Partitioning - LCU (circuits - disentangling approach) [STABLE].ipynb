{
 "cells": [
  {
   "cell_type": "code",
   "execution_count": 1,
   "metadata": {},
   "outputs": [],
   "source": [
    "import os\n",
    "import ast\n",
    "import cirq\n",
    "import numpy as np"
   ]
  },
  {
   "cell_type": "code",
   "execution_count": 2,
   "metadata": {},
   "outputs": [],
   "source": [
    "### open Hamiltonian data ###\n",
    "\n",
    "working_dir = os.getcwd()\n",
    "parent_dir = os.path.dirname(working_dir) # gets directory where running python file is!\n",
    "\n",
    "data_dir = os.path.join(parent_dir, 'Molecular_Hamiltonian_data')\n",
    "hamiltonian_data = os.path.join(data_dir, 'hamiltonians.txt')"
   ]
  },
  {
   "cell_type": "code",
   "execution_count": null,
   "metadata": {},
   "outputs": [],
   "source": []
  },
  {
   "cell_type": "code",
   "execution_count": 3,
   "metadata": {},
   "outputs": [
    {
     "name": "stdout",
     "output_type": "stream",
     "text": [
      "H2-S1_STO-3G_singlet          n_qubits:  18   \n",
      "C1-O1_STO-3G_singlet          n_qubits:  16   \n",
      "H1-Cl1_STO-3G_singlet         n_qubits:  16   \n",
      "H1-Na1_STO-3G_singlet         n_qubits:  16   \n",
      "H2-Mg1_STO-3G_singlet         n_qubits:  17   \n",
      "H1-F1_3-21G_singlet           n_qubits:  18   \n",
      "H1-Li1_3-21G_singlet          n_qubits:  18   \n",
      "Be1_STO-3G_singlet            n_qubits:  5    \n",
      "H1-F1_STO-3G_singlet          n_qubits:  8    \n",
      "H1-Li1_STO-3G_singlet         n_qubits:  8    \n",
      "Ar1_STO-3G_singlet            n_qubits:  13   \n",
      "F2_STO-3G_singlet             n_qubits:  15   \n",
      "H1-O1_STO-3G_singlet          n_qubits:  8    \n",
      "H2-Be1_STO-3G_singlet         n_qubits:  9    \n",
      "H2-O1_STO-3G_singlet          n_qubits:  10   \n",
      "H2_3-21G_singlet              n_qubits:  5    \n",
      "H2_6-31G_singlet              n_qubits:  5    \n",
      "H3-N1_STO-3G_singlet          n_qubits:  13   \n",
      "H4-C1_STO-3G_singlet          n_qubits:  14   \n",
      "Mg1_STO-3G_singlet            n_qubits:  13   \n",
      "N2_STO-3G_singlet             n_qubits:  15   \n",
      "Ne1_STO-3G_singlet            n_qubits:  5    \n",
      "O2_STO-3G_singlet             n_qubits:  15   \n",
      "H1-Li1-O1_STO-3G_singlet      n_qubits:  18   \n",
      "H1-He1_STO-3G_singlet         n_qubits:  2    \n",
      "H3_STO-3G_singlet_1+          n_qubits:  3    \n",
      "H1-He1_3-21G_singlet_1+       n_qubits:  6    \n",
      "H3_3-21G_singlet_1+           n_qubits:  9    \n",
      "H4-N1_STO-3G_singlet_1+       n_qubits:  14   \n"
     ]
    }
   ],
   "source": [
    "with open(hamiltonian_data, 'r') as input_file:\n",
    "    hamiltonians = ast.literal_eval(input_file.read())\n",
    "\n",
    "for key in hamiltonians.keys():\n",
    "    print(f\"{key: <25}     n_qubits:  {hamiltonians[key][1]:<5.0f}\")"
   ]
  },
  {
   "cell_type": "code",
   "execution_count": null,
   "metadata": {},
   "outputs": [],
   "source": []
  },
  {
   "cell_type": "code",
   "execution_count": 4,
   "metadata": {},
   "outputs": [],
   "source": [
    "molecule_key = 'H3_STO-3G_singlet_1+'\n",
    "transformation, N_qubits, Hamilt_dictionary, _ ,_, _ = hamiltonians[molecule_key]"
   ]
  },
  {
   "cell_type": "markdown",
   "metadata": {},
   "source": [
    "# 1. Get OpenFermion representation of Hamiltonian"
   ]
  },
  {
   "cell_type": "code",
   "execution_count": 5,
   "metadata": {},
   "outputs": [
    {
     "data": {
      "text/plain": [
       "-1.7512307459285525 [] +\n",
       "0.01872992170537467 [X0] +\n",
       "-0.023568139980123585 [X0 X1] +\n",
       "0.03597868636603963 [X0 X1 X2] +\n",
       "-0.023568139980123585 [X0 X1 Z2] +\n",
       "-0.03597868636603963 [X0 Y1 Y2] +\n",
       "0.01872992170537467 [X0 Z1] +\n",
       "0.023568139980123585 [X0 Z1 X2] +\n",
       "0.01872992170537467 [X0 Z1 Z2] +\n",
       "0.023568139980123585 [X0 X2] +\n",
       "0.01872992170537467 [X0 Z2] +\n",
       "0.03597868636603963 [Y0 X1 Y2] +\n",
       "-0.023568139980123585 [Y0 Y1] +\n",
       "0.03597868636603963 [Y0 Y1 X2] +\n",
       "-0.023568139980123585 [Y0 Y1 Z2] +\n",
       "0.023568139980123585 [Y0 Z1 Y2] +\n",
       "0.023568139980123585 [Y0 Y2] +\n",
       "-0.45436486525596403 [Z0] +\n",
       "0.02356815233618002 [Z0 X1] +\n",
       "0.02356815233617983 [Z0 X1 Z2] +\n",
       "-0.07195737217001562 [Z0 Y1 Y2] +\n",
       "0.37110605476609804 [Z0 Z1] +\n",
       "-0.023568152336179825 [Z0 Z1 X2] +\n",
       "-0.2878474382772282 [Z0 Z1 Z2] +\n",
       "-0.023568152336180023 [Z0 X2] +\n",
       "0.37110605476609787 [Z0 Z2] +\n",
       "0.02356815233618002 [X1] +\n",
       "0.02356815233617983 [X1 Z2] +\n",
       "-0.07195737217001562 [Y1 Y2] +\n",
       "-0.017109477140260287 [Z1] +\n",
       "-0.023568152336179825 [Z1 X2] +\n",
       "0.31270210682950855 [Z1 Z2] +\n",
       "-0.023568152336180023 [X2] +\n",
       "-0.017109477140260287 [Z2]"
      ]
     },
     "execution_count": 5,
     "metadata": {},
     "output_type": "execute_result"
    }
   ],
   "source": [
    "from quchem.Misc_functions.conversion_scripts import Get_Openfermion_Hamiltonian\n",
    "\n",
    "openFermion_H = Get_Openfermion_Hamiltonian(Hamilt_dictionary)\n",
    "openFermion_H"
   ]
  },
  {
   "cell_type": "code",
   "execution_count": null,
   "metadata": {},
   "outputs": [],
   "source": []
  },
  {
   "cell_type": "markdown",
   "metadata": {},
   "source": [
    "# 2. Get cliques defined by commutativity \n"
   ]
  },
  {
   "cell_type": "code",
   "execution_count": 6,
   "metadata": {},
   "outputs": [
    {
     "data": {
      "text/plain": [
       "{0: [-1.7512307459285525 []],\n",
       " 1: [-0.017109477140260287 [Z2],\n",
       "  -0.023568152336179825 [Z1 X2],\n",
       "  0.03597868636603963 [X0 X1 X2],\n",
       "  0.023568139980123585 [Y0 Z1 Y2]],\n",
       " 2: [0.02356815233617983 [X1 Z2],\n",
       "  -0.017109477140260287 [Z1],\n",
       "  0.03597868636603963 [Y0 X1 Y2],\n",
       "  -0.023568139980123585 [Y0 Y1]],\n",
       " 3: [0.37110605476609787 [Z0 Z2],\n",
       "  -0.023568152336179825 [Z0 Z1 X2],\n",
       "  0.01872992170537467 [X0],\n",
       "  -0.023568139980123585 [Y0 Y1 Z2]],\n",
       " 4: [0.02356815233617983 [Z0 X1 Z2],\n",
       "  0.37110605476609804 [Z0 Z1],\n",
       "  0.01872992170537467 [X0 Z2],\n",
       "  0.023568139980123585 [X0 Z1 X2]],\n",
       " 5: [0.023568139980123585 [X0 X2],\n",
       "  -0.023568139980123585 [X0 X1 Z2],\n",
       "  0.01872992170537467 [X0 Z1 Z2],\n",
       "  0.03597868636603963 [Y0 Y1 X2],\n",
       "  -0.45436486525596403 [Z0]],\n",
       " 6: [-0.023568139980123585 [X0 X1],\n",
       "  -0.03597868636603963 [X0 Y1 Y2],\n",
       "  0.01872992170537467 [X0 Z1],\n",
       "  0.023568139980123585 [Y0 Y2]],\n",
       " 7: [-0.023568152336180023 [X2], -0.07195737217001562 [Y1 Y2]],\n",
       " 8: [0.02356815233618002 [X1], 0.31270210682950855 [Z1 Z2]],\n",
       " 9: [-0.023568152336180023 [Z0 X2], -0.07195737217001562 [Z0 Y1 Y2]],\n",
       " 10: [0.02356815233618002 [Z0 X1], -0.2878474382772282 [Z0 Z1 Z2]]}"
      ]
     },
     "execution_count": 6,
     "metadata": {},
     "output_type": "execute_result"
    }
   ],
   "source": [
    "from quchem.Unitary_Partitioning.Graph import Clique_cover_Hamiltonian\n",
    "\n",
    "commutativity_flag = 'AC' ## <- defines relationship between sets!!!\n",
    "Graph_colouring_strategy='largest_first'\n",
    "\n",
    "\n",
    "anti_commuting_sets = Clique_cover_Hamiltonian(openFermion_H, \n",
    "                                                     N_qubits, \n",
    "                                                     commutativity_flag, \n",
    "                                                     Graph_colouring_strategy)\n",
    "anti_commuting_sets"
   ]
  },
  {
   "cell_type": "code",
   "execution_count": null,
   "metadata": {},
   "outputs": [],
   "source": []
  },
  {
   "cell_type": "markdown",
   "metadata": {},
   "source": [
    "# 3. Example of R_l operator"
   ]
  },
  {
   "cell_type": "code",
   "execution_count": 262,
   "metadata": {},
   "outputs": [
    {
     "data": {
      "text/plain": [
       "[0.023568139980123585 [X0 X2],\n",
       " -0.023568139980123585 [X0 X1 Z2],\n",
       " 0.01872992170537467 [X0 Z1 Z2],\n",
       " 0.03597868636603963 [Y0 Y1 X2],\n",
       " -0.45436486525596403 [Z0]]"
      ]
     },
     "execution_count": 262,
     "metadata": {},
     "output_type": "execute_result"
    }
   ],
   "source": [
    "key_larg, largest_AC_set = max(anti_commuting_sets.items(), key=lambda x:len(x[1])) # largest nonCon part found by dfs alg\n",
    "largest_AC_set"
   ]
  },
  {
   "cell_type": "code",
   "execution_count": 273,
   "metadata": {},
   "outputs": [],
   "source": [
    "## works with:\n",
    "key=6 #7\n",
    "key_larg, largest_AC_set = key, anti_commuting_sets[key]"
   ]
  },
  {
   "cell_type": "code",
   "execution_count": null,
   "metadata": {},
   "outputs": [],
   "source": []
  },
  {
   "cell_type": "code",
   "execution_count": 274,
   "metadata": {},
   "outputs": [
    {
     "data": {
      "text/plain": [
       "[0.5249181768963586 [],\n",
       " (-0-0.6527833916355477j) [Z1 Y2],\n",
       " (-0-0.33982846654021914j) [Y1],\n",
       " 0.42761123055588435j [Z0 X1 Y2]]"
      ]
     },
     "execution_count": 274,
     "metadata": {},
     "output_type": "execute_result"
    }
   ],
   "source": [
    "from quchem.Unitary_Partitioning.Unitary_partitioning_LCU_method import Get_R_op_list\n",
    "\n",
    "N_index=0\n",
    "check_reduction = True\n",
    "\n",
    "R_linear_comb_list, Pn, gamma_l = Get_R_op_list(largest_AC_set,\n",
    "                                                N_index,\n",
    "                                                N_qubits,\n",
    "                                                check_reduction=check_reduction, \n",
    "                                                atol=1e-8,\n",
    "                                                rtol=1e-05)\n",
    "\n",
    "R_linear_comb_list"
   ]
  },
  {
   "cell_type": "markdown",
   "metadata": {},
   "source": [
    "To perform Unitary Partitioning via a LCU - apply the linear combination of operators in ```R_linear_comb_list```\n",
    "\n",
    "- in Q circuit form these all must have real amplitudes\n",
    "- and be l1 normalized"
   ]
  },
  {
   "cell_type": "code",
   "execution_count": 275,
   "metadata": {},
   "outputs": [
    {
     "name": "stdout",
     "output_type": "stream",
     "text": [
      "0.5194816750235991 [] correction factor: 1\n",
      "0.5793072644074639 [Z1 Y2] correction factor: (-0-1j)\n",
      "0.417978847537169 [Y1] correction factor: (-0-1j)\n",
      "0.46886625569656476 [Z0 X1 Y2] correction factor: 1j\n"
     ]
    }
   ],
   "source": [
    "from quchem.Unitary_Partitioning.LCU_circuit_functions import absorb_complex_phases\n",
    "R_linear_comb_corrected_phase_OP_list, R_linear_comb_correction_values, ancilla_amplitudes, l1_norm = absorb_complex_phases(R_linear_comb_list)\n",
    "\n",
    "for i, op in enumerate(R_linear_comb_corrected_phase_OP_list):\n",
    "    print(op, f'correction factor: {R_linear_comb_correction_values[i]}')\n"
   ]
  },
  {
   "cell_type": "code",
   "execution_count": null,
   "metadata": {},
   "outputs": [],
   "source": []
  },
  {
   "cell_type": "markdown",
   "metadata": {},
   "source": [
    "# 4. Checking custom cirq gate functions"
   ]
  },
  {
   "cell_type": "markdown",
   "metadata": {},
   "source": [
    "### 4.1 Ansatz"
   ]
  },
  {
   "cell_type": "code",
   "execution_count": 276,
   "metadata": {},
   "outputs": [
    {
     "data": {
      "text/html": [
       "<pre style=\"overflow: auto; white-space: pre;\">0: ───X───\n",
       "\n",
       "1: ───X───\n",
       "\n",
       "2: ───X───</pre>"
      ],
      "text/plain": [
       "0: ───X───\n",
       "\n",
       "1: ───X───\n",
       "\n",
       "2: ───X───"
      ]
     },
     "execution_count": 276,
     "metadata": {},
     "output_type": "execute_result"
    }
   ],
   "source": [
    "qubits = list(cirq.LineQubit.range(N_qubits))\n",
    "\n",
    "ansatz = cirq.Circuit([cirq.X.on(q) for q in qubits])\n",
    "ansatz"
   ]
  },
  {
   "cell_type": "markdown",
   "metadata": {},
   "source": [
    "### 4.2 full LCU circuit!"
   ]
  },
  {
   "cell_type": "code",
   "execution_count": 277,
   "metadata": {},
   "outputs": [
    {
     "data": {
      "text/html": [
       "<pre style=\"overflow: auto; white-space: pre;\">0: ───X──────────────────────────────────I────────────I────────────1j*Z0───Ry(-0.5π)──────────────────────────────────M───\n",
       "                                         │            │            │                                                  │\n",
       "1: ───X──────────────────────────────────(-0-1j)*Z1───(-0-1j)*Y1───X1──────Ry(-0.5π)──────────────────────────────────M───\n",
       "                                         │            │            │                                                  │\n",
       "2: ───X──────────────────────────────────Y2───────────┼────────────Y2─────────────────────────────────────────────────┼───\n",
       "                                         │            │            │                                                  │\n",
       "3: ───Ry(0.432π)───X───Ry(-0.001π)───X───(0)──────────@────────────@───────X───────────Ry(0.001π)───X───Ry(-0.432π)───M───\n",
       "                   │                 │   │            │            │       │                        │                 │\n",
       "4: ───Ry(0.535π)───@─────────────────@───@────────────(0)──────────@───────@────────────────────────@───Ry(-0.535π)───M───</pre>"
      ],
      "text/plain": [
       "0: ───X──────────────────────────────────I────────────I────────────1j*Z0───Ry(-0.5π)──────────────────────────────────M───\n",
       "                                         │            │            │                                                  │\n",
       "1: ───X──────────────────────────────────(-0-1j)*Z1───(-0-1j)*Y1───X1──────Ry(-0.5π)──────────────────────────────────M───\n",
       "                                         │            │            │                                                  │\n",
       "2: ───X──────────────────────────────────Y2───────────┼────────────Y2─────────────────────────────────────────────────┼───\n",
       "                                         │            │            │                                                  │\n",
       "3: ───Ry(0.432π)───X───Ry(-0.001π)───X───(0)──────────@────────────@───────X───────────Ry(0.001π)───X───Ry(-0.432π)───M───\n",
       "                   │                 │   │            │            │       │                        │                 │\n",
       "4: ───Ry(0.535π)───@─────────────────@───@────────────(0)──────────@───────@────────────────────────@───Ry(-0.535π)───M───"
      ]
     },
     "execution_count": 277,
     "metadata": {},
     "output_type": "execute_result"
    }
   ],
   "source": [
    "from quchem.Unitary_Partitioning.LCU_circuit_functions import Full_LCU_Rl_Circuit\n",
    "\n",
    "\n",
    "circuit = Full_LCU_Rl_Circuit(Pn,\n",
    "                         R_linear_comb_corrected_phase_OP_list,\n",
    "                         R_linear_comb_correction_values,\n",
    "                         ancilla_amplitudes,\n",
    "                         N_qubits,\n",
    "                         ansatz,\n",
    "                         check_G_circuit=True)\n",
    "\n",
    "circuit"
   ]
  },
  {
   "cell_type": "code",
   "execution_count": null,
   "metadata": {},
   "outputs": [],
   "source": []
  },
  {
   "cell_type": "markdown",
   "metadata": {},
   "source": [
    "### 4.3 Checking GUGdag = Rl"
   ]
  },
  {
   "cell_type": "code",
   "execution_count": 278,
   "metadata": {},
   "outputs": [],
   "source": [
    "from quchem.Qcircuit.Circuit_functions_to_create_arb_state import intialization_circuit\n",
    "from quchem.Unitary_Partitioning.LCU_circuit_functions import LCU_R_gate\n",
    "\n",
    "check_G_circuit=True\n",
    "N_system_qubits = N_qubits\n",
    "N_ancilla = np.log2(len(ancilla_amplitudes))\n",
    "if np.ceil(N_ancilla) != np.floor(N_ancilla):\n",
    "    N_ancilla = int(np.ceil(N_ancilla))\n",
    "    full_ancilla = np.zeros(2**N_ancilla)\n",
    "    full_ancilla[:len(ancilla_amplitudes)] = np.array(ancilla_amplitudes)\n",
    "    ancilla_amplitudes= full_ancilla.tolist()\n",
    "###\n",
    "\n",
    "\n",
    "N_ancilla = int(np.log2(len(ancilla_amplitudes)))\n",
    "G_circ = intialization_circuit(ancilla_amplitudes,\n",
    "                             N_system_qubits,\n",
    "                             N_system_qubits+N_ancilla-1,\n",
    "                             check_circuit=check_G_circuit)\n",
    "G_dagger_circ = cirq.inverse(G_circ)\n",
    "\n",
    "R_circ_obj = LCU_R_gate(N_ancilla, N_system_qubits, R_linear_comb_corrected_phase_OP_list, R_linear_comb_correction_values, Pn)\n",
    "R_circ_circ = cirq.Circuit(\n",
    "    cirq.decompose_once((R_circ_obj(*cirq.LineQubit.range(R_circ_obj.num_qubits())))))"
   ]
  },
  {
   "cell_type": "code",
   "execution_count": 279,
   "metadata": {},
   "outputs": [
    {
     "data": {
      "text/html": [
       "<pre style=\"overflow: auto; white-space: pre;\">3: ───Ry(0.432π)───X───Ry(-0.001π)───X───\n",
       "                   │                 │\n",
       "4: ───Ry(0.535π)───@─────────────────@───</pre>"
      ],
      "text/plain": [
       "3: ───Ry(0.432π)───X───Ry(-0.001π)───X───\n",
       "                   │                 │\n",
       "4: ───Ry(0.535π)───@─────────────────@───"
      ]
     },
     "execution_count": 279,
     "metadata": {},
     "output_type": "execute_result"
    }
   ],
   "source": [
    "G_circ"
   ]
  },
  {
   "cell_type": "code",
   "execution_count": 280,
   "metadata": {},
   "outputs": [
    {
     "data": {
      "text/html": [
       "<pre style=\"overflow: auto; white-space: pre;\">3: ───X───Ry(0.001π)───X───Ry(-0.432π)───\n",
       "      │                │\n",
       "4: ───@────────────────@───Ry(-0.535π)───</pre>"
      ],
      "text/plain": [
       "3: ───X───Ry(0.001π)───X───Ry(-0.432π)───\n",
       "      │                │\n",
       "4: ───@────────────────@───Ry(-0.535π)───"
      ]
     },
     "execution_count": 280,
     "metadata": {},
     "output_type": "execute_result"
    }
   ],
   "source": [
    "G_dagger_circ"
   ]
  },
  {
   "cell_type": "code",
   "execution_count": 281,
   "metadata": {},
   "outputs": [
    {
     "data": {
      "text/html": [
       "<pre style=\"overflow: auto; white-space: pre;\">0: ───I────────────I────────────1j*Z0───\n",
       "      │            │            │\n",
       "1: ───(-0-1j)*Z1───(-0-1j)*Y1───X1──────\n",
       "      │            │            │\n",
       "2: ───Y2───────────┼────────────Y2──────\n",
       "      │            │            │\n",
       "3: ───(0)──────────@────────────@───────\n",
       "      │            │            │\n",
       "4: ───@────────────(0)──────────@───────</pre>"
      ],
      "text/plain": [
       "0: ───I────────────I────────────1j*Z0───\n",
       "      │            │            │\n",
       "1: ───(-0-1j)*Z1───(-0-1j)*Y1───X1──────\n",
       "      │            │            │\n",
       "2: ───Y2───────────┼────────────Y2──────\n",
       "      │            │            │\n",
       "3: ───(0)──────────@────────────@───────\n",
       "      │            │            │\n",
       "4: ───@────────────(0)──────────@───────"
      ]
     },
     "execution_count": 281,
     "metadata": {},
     "output_type": "execute_result"
    }
   ],
   "source": [
    "R_circ_circ"
   ]
  },
  {
   "cell_type": "code",
   "execution_count": 282,
   "metadata": {},
   "outputs": [],
   "source": [
    "I_sys = np.eye(2**N_system_qubits)\n",
    "\n",
    "I_sys_G_mat = np.kron(I_sys, G_circ.unitary())\n",
    "U_LCU_mat = R_circ_circ.unitary()\n",
    "I_sys_G_dag_mat = np.kron(I_sys, G_dagger_circ.unitary())"
   ]
  },
  {
   "cell_type": "code",
   "execution_count": 283,
   "metadata": {},
   "outputs": [
    {
     "data": {
      "text/plain": [
       "array([[0.26986121+0.j, 0.30093951+0.j, 0.21713235+0.j, ...,\n",
       "        0.        +0.j, 0.        +0.j, 0.        +0.j],\n",
       "       [0.30093951+0.j, 0.33559691+0.j, 0.24213818+0.j, ...,\n",
       "        0.        +0.j, 0.        +0.j, 0.        +0.j],\n",
       "       [0.21713235+0.j, 0.24213818+0.j, 0.17470632+0.j, ...,\n",
       "        0.        +0.j, 0.        +0.j, 0.        +0.j],\n",
       "       ...,\n",
       "       [0.        +0.j, 0.        +0.j, 0.        +0.j, ...,\n",
       "        0.33559691+0.j, 0.24213818+0.j, 0.27161763+0.j],\n",
       "       [0.        +0.j, 0.        +0.j, 0.        +0.j, ...,\n",
       "        0.24213818+0.j, 0.17470632+0.j, 0.19597618+0.j],\n",
       "       [0.        +0.j, 0.        +0.j, 0.        +0.j, ...,\n",
       "        0.27161763+0.j, 0.19597618+0.j, 0.21983557+0.j]])"
      ]
     },
     "execution_count": 283,
     "metadata": {},
     "output_type": "execute_result"
    }
   ],
   "source": [
    "# G_U_G_dag = np.dot(I_sys_G_mat.dot(U_LCU_mat), I_sys_G_dag_mat)\n",
    "# G_U_G_dag = np.dot(I_sys_G_dag_mat.dot(U_LCU_mat), I_sys_G_mat)\n",
    "\n",
    "G_U_G_dag = I_sys_G_mat @ U_LCU_mat @ I_sys_G_dag_mat\n",
    "\n",
    "G_U_G_dag"
   ]
  },
  {
   "cell_type": "code",
   "execution_count": null,
   "metadata": {},
   "outputs": [],
   "source": []
  },
  {
   "cell_type": "code",
   "execution_count": 284,
   "metadata": {},
   "outputs": [
    {
     "data": {
      "text/plain": [
       "array([[ 0.52491818+0.j, -0.65582073+0.j, -0.33982847+0.j,\n",
       "         0.42457389+0.j,  0.        +0.j,  0.        +0.j,\n",
       "         0.        +0.j,  0.        +0.j],\n",
       "       [ 0.65582073+0.j,  0.52491818+0.j, -0.42457389+0.j,\n",
       "        -0.33982847+0.j,  0.        +0.j,  0.        +0.j,\n",
       "         0.        +0.j,  0.        +0.j],\n",
       "       [ 0.33982847+0.j,  0.42457389+0.j,  0.52491818+0.j,\n",
       "         0.65582073+0.j,  0.        +0.j,  0.        +0.j,\n",
       "         0.        +0.j,  0.        +0.j],\n",
       "       [-0.42457389+0.j,  0.33982847+0.j, -0.65582073+0.j,\n",
       "         0.52491818+0.j,  0.        +0.j,  0.        +0.j,\n",
       "         0.        +0.j,  0.        +0.j],\n",
       "       [ 0.        +0.j,  0.        +0.j,  0.        +0.j,\n",
       "         0.        +0.j,  0.52491818+0.j, -0.65582073+0.j,\n",
       "        -0.33982847+0.j, -0.42457389+0.j],\n",
       "       [ 0.        +0.j,  0.        +0.j,  0.        +0.j,\n",
       "         0.        +0.j,  0.65582073+0.j,  0.52491818+0.j,\n",
       "         0.42457389+0.j, -0.33982847+0.j],\n",
       "       [ 0.        +0.j,  0.        +0.j,  0.        +0.j,\n",
       "         0.        +0.j,  0.33982847+0.j, -0.42457389+0.j,\n",
       "         0.52491818+0.j,  0.65582073+0.j],\n",
       "       [ 0.        +0.j,  0.        +0.j,  0.        +0.j,\n",
       "         0.        +0.j,  0.42457389+0.j,  0.33982847+0.j,\n",
       "        -0.65582073+0.j,  0.52491818+0.j]])"
      ]
     },
     "execution_count": 284,
     "metadata": {},
     "output_type": "execute_result"
    }
   ],
   "source": [
    "from functools import reduce\n",
    "\n",
    "ancilla_0_state = reduce(np.kron, [np.array([[1],[0]]) for _ in range(N_ancilla)])\n",
    "ancilla_0_projector = np.outer(ancilla_0_state, ancilla_0_state)\n",
    "\n",
    "POVM_0_ancilla = np.kron(I_sys, ancilla_0_projector) # forces all zero measurement on ancilla!\n",
    "\n",
    "projected_GUG = POVM_0_ancilla.dot(G_U_G_dag)\n",
    "# projected_GUG = POVM_0_ancilla @ G_U_G_dag @ POVM_0_ancilla\n",
    "\n",
    "trace_GUG = projected_GUG.reshape([2 ** N_system_qubits, 2 ** N_ancilla,\n",
    "                                                2 ** N_system_qubits, 2 ** N_ancilla])\n",
    "reduced_MAT = np.einsum('jiki->jk', trace_GUG)\n",
    "reduced_MAT*l1_norm"
   ]
  },
  {
   "cell_type": "code",
   "execution_count": 285,
   "metadata": {},
   "outputs": [
    {
     "data": {
      "text/plain": [
       "1.9451412656280098"
      ]
     },
     "execution_count": 285,
     "metadata": {},
     "output_type": "execute_result"
    }
   ],
   "source": [
    "l1_norm"
   ]
  },
  {
   "cell_type": "code",
   "execution_count": 286,
   "metadata": {},
   "outputs": [
    {
     "data": {
      "text/plain": [
       "0.5249181768963586 [] +\n",
       "0.42761123055588435j [Z0 X1 Y2] +\n",
       "-0.33982846654021914j [Y1] +\n",
       "-0.6527833916355477j [Z1 Y2]"
      ]
     },
     "execution_count": 286,
     "metadata": {},
     "output_type": "execute_result"
    }
   ],
   "source": [
    "from openfermion.ops import QubitOperator\n",
    "Rl = QubitOperator()\n",
    "for op in R_linear_comb_list:\n",
    "    Rl+=op\n",
    "Rl"
   ]
  },
  {
   "cell_type": "code",
   "execution_count": 287,
   "metadata": {},
   "outputs": [
    {
     "data": {
      "text/plain": [
       "matrix([[ 0.52491818+0.j, -0.65278339+0.j, -0.33982847+0.j,\n",
       "          0.42761123+0.j,  0.        +0.j,  0.        +0.j,\n",
       "          0.        +0.j,  0.        +0.j],\n",
       "        [ 0.65278339+0.j,  0.52491818+0.j, -0.42761123+0.j,\n",
       "         -0.33982847+0.j,  0.        +0.j,  0.        +0.j,\n",
       "          0.        +0.j,  0.        +0.j],\n",
       "        [ 0.33982847+0.j,  0.42761123+0.j,  0.52491818+0.j,\n",
       "          0.65278339+0.j,  0.        +0.j,  0.        +0.j,\n",
       "          0.        +0.j,  0.        +0.j],\n",
       "        [-0.42761123+0.j,  0.33982847+0.j, -0.65278339+0.j,\n",
       "          0.52491818+0.j,  0.        +0.j,  0.        +0.j,\n",
       "          0.        +0.j,  0.        +0.j],\n",
       "        [ 0.        +0.j,  0.        +0.j,  0.        +0.j,\n",
       "          0.        +0.j,  0.52491818+0.j, -0.65278339+0.j,\n",
       "         -0.33982847+0.j, -0.42761123+0.j],\n",
       "        [ 0.        +0.j,  0.        +0.j,  0.        +0.j,\n",
       "          0.        +0.j,  0.65278339+0.j,  0.52491818+0.j,\n",
       "          0.42761123+0.j, -0.33982847+0.j],\n",
       "        [ 0.        +0.j,  0.        +0.j,  0.        +0.j,\n",
       "          0.        +0.j,  0.33982847+0.j, -0.42761123+0.j,\n",
       "          0.52491818+0.j,  0.65278339+0.j],\n",
       "        [ 0.        +0.j,  0.        +0.j,  0.        +0.j,\n",
       "          0.        +0.j,  0.42761123+0.j,  0.33982847+0.j,\n",
       "         -0.65278339+0.j,  0.52491818+0.j]])"
      ]
     },
     "execution_count": 287,
     "metadata": {},
     "output_type": "execute_result"
    }
   ],
   "source": [
    "from openfermion import qubit_operator_sparse\n",
    "Rl_mat = qubit_operator_sparse(Rl, n_qubits = N_system_qubits)\n",
    "Rl_mat.todense()#/l1_norm"
   ]
  },
  {
   "cell_type": "code",
   "execution_count": null,
   "metadata": {},
   "outputs": [],
   "source": []
  },
  {
   "cell_type": "code",
   "execution_count": 288,
   "metadata": {},
   "outputs": [],
   "source": [
    "aniclla_0_state = reduce(np.kron, [np.array([[1],[0]]) for _ in range(N_ancilla)])\n",
    "\n",
    "\n",
    "bra = np.kron(I_sys, aniclla_0_state.conj().T)\n",
    "ket = np.kron(I_sys, aniclla_0_state)"
   ]
  },
  {
   "cell_type": "code",
   "execution_count": 289,
   "metadata": {},
   "outputs": [
    {
     "data": {
      "text/plain": [
       "array([[ 0.52491818+0.j, -0.65582073+0.j, -0.33982847+0.j,\n",
       "         0.42457389+0.j,  0.        +0.j,  0.        +0.j,\n",
       "         0.        +0.j,  0.        +0.j],\n",
       "       [ 0.65582073+0.j,  0.52491818+0.j, -0.42457389+0.j,\n",
       "        -0.33982847+0.j,  0.        +0.j,  0.        +0.j,\n",
       "         0.        +0.j,  0.        +0.j],\n",
       "       [ 0.33982847+0.j,  0.42457389+0.j,  0.52491818+0.j,\n",
       "         0.65582073+0.j,  0.        +0.j,  0.        +0.j,\n",
       "         0.        +0.j,  0.        +0.j],\n",
       "       [-0.42457389+0.j,  0.33982847+0.j, -0.65582073+0.j,\n",
       "         0.52491818+0.j,  0.        +0.j,  0.        +0.j,\n",
       "         0.        +0.j,  0.        +0.j],\n",
       "       [ 0.        +0.j,  0.        +0.j,  0.        +0.j,\n",
       "         0.        +0.j,  0.52491818+0.j, -0.65582073+0.j,\n",
       "        -0.33982847+0.j, -0.42457389+0.j],\n",
       "       [ 0.        +0.j,  0.        +0.j,  0.        +0.j,\n",
       "         0.        +0.j,  0.65582073+0.j,  0.52491818+0.j,\n",
       "         0.42457389+0.j, -0.33982847+0.j],\n",
       "       [ 0.        +0.j,  0.        +0.j,  0.        +0.j,\n",
       "         0.        +0.j,  0.33982847+0.j, -0.42457389+0.j,\n",
       "         0.52491818+0.j,  0.65582073+0.j],\n",
       "       [ 0.        +0.j,  0.        +0.j,  0.        +0.j,\n",
       "         0.        +0.j,  0.42457389+0.j,  0.33982847+0.j,\n",
       "        -0.65582073+0.j,  0.52491818+0.j]])"
      ]
     },
     "execution_count": 289,
     "metadata": {},
     "output_type": "execute_result"
    }
   ],
   "source": [
    "bra @ G_U_G_dag @ ket *l1_norm"
   ]
  },
  {
   "cell_type": "code",
   "execution_count": null,
   "metadata": {},
   "outputs": [],
   "source": []
  },
  {
   "cell_type": "code",
   "execution_count": 301,
   "metadata": {},
   "outputs": [
    {
     "data": {
      "text/plain": [
       "True"
      ]
     },
     "execution_count": 301,
     "metadata": {},
     "output_type": "execute_result"
    }
   ],
   "source": [
    "np.allclose(Rl_mat.todense(), bra @ G_U_G_dag @ ket *l1_norm, 1e-2)"
   ]
  },
  {
   "cell_type": "code",
   "execution_count": 302,
   "metadata": {},
   "outputs": [
    {
     "data": {
      "text/plain": [
       "False"
      ]
     },
     "execution_count": 302,
     "metadata": {},
     "output_type": "execute_result"
    }
   ],
   "source": [
    "np.allclose(Rl_mat.todense(), bra @ G_U_G_dag @ ket *l1_norm)"
   ]
  },
  {
   "cell_type": "code",
   "execution_count": null,
   "metadata": {},
   "outputs": [],
   "source": []
  },
  {
   "cell_type": "markdown",
   "metadata": {},
   "source": [
    "TODO: need to check why there is a difference. Likely due to numerical effects with approximations of G and G_dag!\n",
    "\n",
    "CHANGE which anti-commuting set is used!\n",
    "aka seems to work fully when set 7 is chosen!\n"
   ]
  },
  {
   "cell_type": "code",
   "execution_count": 303,
   "metadata": {},
   "outputs": [
    {
     "data": {
      "text/plain": [
       "array([0.51948168+0.j, 0.57930726+0.j, 0.41797885+0.j, 0.46886626+0.j])"
      ]
     },
     "execution_count": 303,
     "metadata": {},
     "output_type": "execute_result"
    }
   ],
   "source": [
    "G_circ.final_state_vector()"
   ]
  },
  {
   "cell_type": "code",
   "execution_count": 304,
   "metadata": {},
   "outputs": [
    {
     "data": {
      "text/plain": [
       "[0.5194816750235991,\n",
       " 0.5793072644074639,\n",
       " 0.417978847537169,\n",
       " 0.46886625569656476]"
      ]
     },
     "execution_count": 304,
     "metadata": {},
     "output_type": "execute_result"
    }
   ],
   "source": [
    "ancilla_amplitudes"
   ]
  }
 ],
 "metadata": {
  "kernelspec": {
   "display_name": "Python 3",
   "language": "python",
   "name": "python3"
  },
  "language_info": {
   "codemirror_mode": {
    "name": "ipython",
    "version": 3
   },
   "file_extension": ".py",
   "mimetype": "text/x-python",
   "name": "python",
   "nbconvert_exporter": "python",
   "pygments_lexer": "ipython3",
   "version": "3.8.5"
  }
 },
 "nbformat": 4,
 "nbformat_minor": 4
}
