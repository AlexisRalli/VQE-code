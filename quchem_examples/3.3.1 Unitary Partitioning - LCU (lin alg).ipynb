{
 "cells": [
  {
   "cell_type": "code",
   "execution_count": 1,
   "metadata": {},
   "outputs": [],
   "source": [
    "import os\n",
    "import ast"
   ]
  },
  {
   "cell_type": "code",
   "execution_count": 2,
   "metadata": {},
   "outputs": [],
   "source": [
    "### open Hamiltonian data ###\n",
    "\n",
    "working_dir = os.getcwd()\n",
    "parent_dir = os.path.dirname(working_dir) # gets directory where running python file is!\n",
    "\n",
    "data_dir = os.path.join(parent_dir, 'Molecular_Hamiltonian_data')\n",
    "hamiltonian_data = os.path.join(data_dir, 'hamiltonians.txt')"
   ]
  },
  {
   "cell_type": "code",
   "execution_count": null,
   "metadata": {},
   "outputs": [],
   "source": []
  },
  {
   "cell_type": "code",
   "execution_count": 3,
   "metadata": {},
   "outputs": [
    {
     "name": "stdout",
     "output_type": "stream",
     "text": [
      "H2-S1_STO-3G_singlet          n_qubits:  18   \n",
      "C1-O1_STO-3G_singlet          n_qubits:  16   \n",
      "H1-Cl1_STO-3G_singlet         n_qubits:  16   \n",
      "H1-Na1_STO-3G_singlet         n_qubits:  16   \n",
      "H2-Mg1_STO-3G_singlet         n_qubits:  17   \n",
      "H1-F1_3-21G_singlet           n_qubits:  18   \n",
      "H1-Li1_3-21G_singlet          n_qubits:  18   \n",
      "Be1_STO-3G_singlet            n_qubits:  5    \n",
      "H1-F1_STO-3G_singlet          n_qubits:  8    \n",
      "H1-Li1_STO-3G_singlet         n_qubits:  8    \n",
      "Ar1_STO-3G_singlet            n_qubits:  13   \n",
      "F2_STO-3G_singlet             n_qubits:  15   \n",
      "H1-O1_STO-3G_singlet          n_qubits:  8    \n",
      "H2-Be1_STO-3G_singlet         n_qubits:  9    \n",
      "H2-O1_STO-3G_singlet          n_qubits:  10   \n",
      "H2_3-21G_singlet              n_qubits:  5    \n",
      "H2_6-31G_singlet              n_qubits:  5    \n",
      "H3-N1_STO-3G_singlet          n_qubits:  13   \n",
      "H4-C1_STO-3G_singlet          n_qubits:  14   \n",
      "Mg1_STO-3G_singlet            n_qubits:  13   \n",
      "N2_STO-3G_singlet             n_qubits:  15   \n",
      "Ne1_STO-3G_singlet            n_qubits:  5    \n",
      "O2_STO-3G_singlet             n_qubits:  15   \n",
      "H1-Li1-O1_STO-3G_singlet      n_qubits:  18   \n",
      "H1-He1_STO-3G_singlet         n_qubits:  2    \n",
      "H3_STO-3G_singlet_1+          n_qubits:  3    \n",
      "H1-He1_3-21G_singlet_1+       n_qubits:  6    \n",
      "H3_3-21G_singlet_1+           n_qubits:  9    \n",
      "H4-N1_STO-3G_singlet_1+       n_qubits:  14   \n"
     ]
    }
   ],
   "source": [
    "with open(hamiltonian_data, 'r') as input_file:\n",
    "    hamiltonians = ast.literal_eval(input_file.read())\n",
    "\n",
    "for key in hamiltonians.keys():\n",
    "    print(f\"{key: <25}     n_qubits:  {hamiltonians[key][1]:<5.0f}\")"
   ]
  },
  {
   "cell_type": "code",
   "execution_count": null,
   "metadata": {},
   "outputs": [],
   "source": []
  },
  {
   "cell_type": "code",
   "execution_count": 4,
   "metadata": {},
   "outputs": [],
   "source": [
    "molecule_key = 'H3_STO-3G_singlet_1+'\n",
    "transformation, N_qubits, Hamilt_dictionary, _ ,_, _ = hamiltonians[molecule_key]"
   ]
  },
  {
   "cell_type": "markdown",
   "metadata": {},
   "source": [
    "# 1. Get OpenFermion representation of Hamiltonian"
   ]
  },
  {
   "cell_type": "code",
   "execution_count": 5,
   "metadata": {},
   "outputs": [
    {
     "data": {
      "text/plain": [
       "-1.7512307459285525 [] +\n",
       "0.01872992170537467 [X0] +\n",
       "-0.023568139980123585 [X0 X1] +\n",
       "0.03597868636603963 [X0 X1 X2] +\n",
       "-0.023568139980123585 [X0 X1 Z2] +\n",
       "-0.03597868636603963 [X0 Y1 Y2] +\n",
       "0.01872992170537467 [X0 Z1] +\n",
       "0.023568139980123585 [X0 Z1 X2] +\n",
       "0.01872992170537467 [X0 Z1 Z2] +\n",
       "0.023568139980123585 [X0 X2] +\n",
       "0.01872992170537467 [X0 Z2] +\n",
       "0.03597868636603963 [Y0 X1 Y2] +\n",
       "-0.023568139980123585 [Y0 Y1] +\n",
       "0.03597868636603963 [Y0 Y1 X2] +\n",
       "-0.023568139980123585 [Y0 Y1 Z2] +\n",
       "0.023568139980123585 [Y0 Z1 Y2] +\n",
       "0.023568139980123585 [Y0 Y2] +\n",
       "-0.45436486525596403 [Z0] +\n",
       "0.02356815233618002 [Z0 X1] +\n",
       "0.02356815233617983 [Z0 X1 Z2] +\n",
       "-0.07195737217001562 [Z0 Y1 Y2] +\n",
       "0.37110605476609804 [Z0 Z1] +\n",
       "-0.023568152336179825 [Z0 Z1 X2] +\n",
       "-0.2878474382772282 [Z0 Z1 Z2] +\n",
       "-0.023568152336180023 [Z0 X2] +\n",
       "0.37110605476609787 [Z0 Z2] +\n",
       "0.02356815233618002 [X1] +\n",
       "0.02356815233617983 [X1 Z2] +\n",
       "-0.07195737217001562 [Y1 Y2] +\n",
       "-0.017109477140260287 [Z1] +\n",
       "-0.023568152336179825 [Z1 X2] +\n",
       "0.31270210682950855 [Z1 Z2] +\n",
       "-0.023568152336180023 [X2] +\n",
       "-0.017109477140260287 [Z2]"
      ]
     },
     "execution_count": 5,
     "metadata": {},
     "output_type": "execute_result"
    }
   ],
   "source": [
    "from quchem.Misc_functions.conversion_scripts import Get_Openfermion_Hamiltonian\n",
    "\n",
    "openFermion_H = Get_Openfermion_Hamiltonian(Hamilt_dictionary)\n",
    "openFermion_H"
   ]
  },
  {
   "cell_type": "code",
   "execution_count": null,
   "metadata": {},
   "outputs": [],
   "source": []
  },
  {
   "cell_type": "markdown",
   "metadata": {},
   "source": [
    "# 2. Get cliques defined by commutativity \n"
   ]
  },
  {
   "cell_type": "code",
   "execution_count": 6,
   "metadata": {},
   "outputs": [
    {
     "data": {
      "text/plain": [
       "{0: [-1.7512307459285525 []],\n",
       " 1: [-0.017109477140260287 [Z2],\n",
       "  -0.023568152336179825 [Z1 X2],\n",
       "  0.03597868636603963 [X0 X1 X2],\n",
       "  0.023568139980123585 [Y0 Z1 Y2]],\n",
       " 2: [0.02356815233617983 [X1 Z2],\n",
       "  -0.017109477140260287 [Z1],\n",
       "  0.03597868636603963 [Y0 X1 Y2],\n",
       "  -0.023568139980123585 [Y0 Y1]],\n",
       " 3: [0.37110605476609787 [Z0 Z2],\n",
       "  -0.023568152336179825 [Z0 Z1 X2],\n",
       "  0.01872992170537467 [X0],\n",
       "  -0.023568139980123585 [Y0 Y1 Z2]],\n",
       " 4: [0.02356815233617983 [Z0 X1 Z2],\n",
       "  0.37110605476609804 [Z0 Z1],\n",
       "  0.01872992170537467 [X0 Z2],\n",
       "  0.023568139980123585 [X0 Z1 X2]],\n",
       " 5: [0.023568139980123585 [X0 X2],\n",
       "  -0.023568139980123585 [X0 X1 Z2],\n",
       "  0.01872992170537467 [X0 Z1 Z2],\n",
       "  0.03597868636603963 [Y0 Y1 X2],\n",
       "  -0.45436486525596403 [Z0]],\n",
       " 6: [-0.023568139980123585 [X0 X1],\n",
       "  -0.03597868636603963 [X0 Y1 Y2],\n",
       "  0.01872992170537467 [X0 Z1],\n",
       "  0.023568139980123585 [Y0 Y2]],\n",
       " 7: [-0.023568152336180023 [X2], -0.07195737217001562 [Y1 Y2]],\n",
       " 8: [0.02356815233618002 [X1], 0.31270210682950855 [Z1 Z2]],\n",
       " 9: [-0.023568152336180023 [Z0 X2], -0.07195737217001562 [Z0 Y1 Y2]],\n",
       " 10: [0.02356815233618002 [Z0 X1], -0.2878474382772282 [Z0 Z1 Z2]]}"
      ]
     },
     "execution_count": 6,
     "metadata": {},
     "output_type": "execute_result"
    }
   ],
   "source": [
    "from quchem.Unitary_Partitioning.Graph import Clique_cover_Hamiltonian\n",
    "\n",
    "commutativity_flag = 'AC' ## <- defines relationship between sets!!!\n",
    "Graph_colouring_strategy='largest_first'\n",
    "\n",
    "\n",
    "anti_commuting_sets = Clique_cover_Hamiltonian(openFermion_H, \n",
    "                                                     N_qubits, \n",
    "                                                     commutativity_flag, \n",
    "                                                     Graph_colouring_strategy)\n",
    "anti_commuting_sets"
   ]
  },
  {
   "cell_type": "code",
   "execution_count": null,
   "metadata": {},
   "outputs": [],
   "source": []
  },
  {
   "cell_type": "markdown",
   "metadata": {},
   "source": [
    "# 3. Example of R_l operator"
   ]
  },
  {
   "cell_type": "code",
   "execution_count": 7,
   "metadata": {},
   "outputs": [
    {
     "data": {
      "text/plain": [
       "[0.023568139980123585 [X0 X2],\n",
       " -0.023568139980123585 [X0 X1 Z2],\n",
       " 0.01872992170537467 [X0 Z1 Z2],\n",
       " 0.03597868636603963 [Y0 Y1 X2],\n",
       " -0.45436486525596403 [Z0]]"
      ]
     },
     "execution_count": 7,
     "metadata": {},
     "output_type": "execute_result"
    }
   ],
   "source": [
    "key_larg, largest_AC_set = max(anti_commuting_sets.items(), key=lambda x:len(x[1])) # largest nonCon part found by dfs alg\n",
    "largest_AC_set"
   ]
  },
  {
   "cell_type": "code",
   "execution_count": 15,
   "metadata": {},
   "outputs": [
    {
     "data": {
      "text/plain": [
       "[0.7250957503591403 [],\n",
       " 0.035531648304549975j [X1 Y2],\n",
       " (-0-0.02823748464530462j) [Z1 Y2],\n",
       " 0.054241956789800254j [Z0 Y1],\n",
       " 0.6850066491388216j [Y0 X2]]"
      ]
     },
     "execution_count": 15,
     "metadata": {},
     "output_type": "execute_result"
    }
   ],
   "source": [
    "from quchem.Unitary_Partitioning.Unitary_partitioning_LCU_method import Get_R_op_list\n",
    "\n",
    "N_index=0\n",
    "check_reduction = True\n",
    "\n",
    "R_linear_comb_list, Pn, gamma_l = Get_R_op_list(largest_AC_set,\n",
    "                                                N_index,\n",
    "                                                N_qubits,\n",
    "                                                check_reduction=check_reduction, \n",
    "                                                atol=1e-8,\n",
    "                                                rtol=1e-05)\n",
    "\n",
    "R_linear_comb_list"
   ]
  },
  {
   "cell_type": "markdown",
   "metadata": {},
   "source": [
    "To perform Unitary Partitioning via a LCU - apply the linear combination of operators in ```R_linear_comb_list```"
   ]
  },
  {
   "cell_type": "markdown",
   "metadata": {},
   "source": [
    "# 4. Linear Algebra VQE with  LCU"
   ]
  },
  {
   "cell_type": "code",
   "execution_count": 14,
   "metadata": {},
   "outputs": [
    {
     "data": {
      "text/plain": [
       "-2.9160184902684536"
      ]
     },
     "execution_count": 14,
     "metadata": {},
     "output_type": "execute_result"
    }
   ],
   "source": [
    "from quchem.Unitary_Partitioning.Unitary_partitioning_LCU_method import LCU_linalg_Energy\n",
    "\n",
    "N_indices_dict = {set_key: 0 for set_key in anti_commuting_sets}\n",
    "\n",
    "LCU_linalg_Energy(anti_commuting_sets,\n",
    "                  N_indices_dict, \n",
    "                  N_qubits, \n",
    "                  atol=1e-8, \n",
    "                  rtol=1e-05,\n",
    "                  check_reduction=True)\n"
   ]
  },
  {
   "cell_type": "code",
   "execution_count": 16,
   "metadata": {},
   "outputs": [
    {
     "data": {
      "text/plain": [
       "-2.916018490268455"
      ]
     },
     "execution_count": 16,
     "metadata": {},
     "output_type": "execute_result"
    }
   ],
   "source": [
    "## compare to true GS (diagonlize Molecular Hamiltonian)\n",
    "\n",
    "from openfermion.linalg import qubit_operator_sparse\n",
    "from scipy.sparse.linalg import eigsh\n",
    "from scipy.linalg import eigh\n",
    "\n",
    "if N_qubits<5:\n",
    "    sparseH = qubit_operator_sparse(openFermion_H, n_qubits=N_qubits)\n",
    "    denseH = sparseH.todense()\n",
    "    eig_values, eig_vectors = eigh(denseH) # NOT sparse!\n",
    "else:\n",
    "    sparseH = qubit_operator_sparse(openFermion_H, n_qubits=N_qubits)\n",
    "    eig_values, eig_vectors = eigsh(sparseH, k=1, which='SA')\n",
    "    \n",
    "FCI_Energy = min(eig_values)\n",
    "FCI_Energy"
   ]
  }
 ],
 "metadata": {
  "kernelspec": {
   "display_name": "Python 3",
   "language": "python",
   "name": "python3"
  },
  "language_info": {
   "codemirror_mode": {
    "name": "ipython",
    "version": 3
   },
   "file_extension": ".py",
   "mimetype": "text/x-python",
   "name": "python",
   "nbconvert_exporter": "python",
   "pygments_lexer": "ipython3",
   "version": "3.7.3"
  }
 },
 "nbformat": 4,
 "nbformat_minor": 4
}
