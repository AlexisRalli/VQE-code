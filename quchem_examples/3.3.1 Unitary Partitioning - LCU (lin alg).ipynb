{
 "cells": [
  {
   "cell_type": "code",
   "execution_count": 1,
   "metadata": {},
   "outputs": [],
   "source": [
    "import os\n",
    "import ast"
   ]
  },
  {
   "cell_type": "code",
   "execution_count": 2,
   "metadata": {},
   "outputs": [],
   "source": [
    "### open Hamiltonian data ###\n",
    "\n",
    "working_dir = os.getcwd()\n",
    "parent_dir = os.path.dirname(working_dir) # gets directory where running python file is!\n",
    "\n",
    "data_dir = os.path.join(parent_dir, 'Molecular_Hamiltonian_data')\n",
    "hamiltonian_data = os.path.join(data_dir, 'hamiltonians.txt')"
   ]
  },
  {
   "cell_type": "code",
   "execution_count": null,
   "metadata": {},
   "outputs": [],
   "source": []
  },
  {
   "cell_type": "code",
   "execution_count": 3,
   "metadata": {},
   "outputs": [
    {
     "name": "stdout",
     "output_type": "stream",
     "text": [
      "H2-S1_STO-3G_singlet          n_qubits:  18   \n",
      "C1-O1_STO-3G_singlet          n_qubits:  16   \n",
      "H1-Cl1_STO-3G_singlet         n_qubits:  16   \n",
      "H1-Na1_STO-3G_singlet         n_qubits:  16   \n",
      "H2-Mg1_STO-3G_singlet         n_qubits:  17   \n",
      "H1-F1_3-21G_singlet           n_qubits:  18   \n",
      "H1-Li1_3-21G_singlet          n_qubits:  18   \n",
      "Be1_STO-3G_singlet            n_qubits:  5    \n",
      "H1-F1_STO-3G_singlet          n_qubits:  8    \n",
      "H1-Li1_STO-3G_singlet         n_qubits:  8    \n",
      "Ar1_STO-3G_singlet            n_qubits:  13   \n",
      "F2_STO-3G_singlet             n_qubits:  15   \n",
      "H1-O1_STO-3G_singlet          n_qubits:  8    \n",
      "H2-Be1_STO-3G_singlet         n_qubits:  9    \n",
      "H2-O1_STO-3G_singlet          n_qubits:  10   \n",
      "H2_3-21G_singlet              n_qubits:  5    \n",
      "H2_6-31G_singlet              n_qubits:  5    \n",
      "H3-N1_STO-3G_singlet          n_qubits:  13   \n",
      "H4-C1_STO-3G_singlet          n_qubits:  14   \n",
      "Mg1_STO-3G_singlet            n_qubits:  13   \n",
      "N2_STO-3G_singlet             n_qubits:  15   \n",
      "Ne1_STO-3G_singlet            n_qubits:  5    \n",
      "O2_STO-3G_singlet             n_qubits:  15   \n",
      "H1-Li1-O1_STO-3G_singlet      n_qubits:  18   \n",
      "H1-He1_STO-3G_singlet         n_qubits:  2    \n",
      "H3_STO-3G_singlet_1+          n_qubits:  3    \n",
      "H1-He1_3-21G_singlet_1+       n_qubits:  6    \n",
      "H3_3-21G_singlet_1+           n_qubits:  9    \n",
      "H4-N1_STO-3G_singlet_1+       n_qubits:  14   \n"
     ]
    }
   ],
   "source": [
    "with open(hamiltonian_data, 'r') as input_file:\n",
    "    hamiltonians = ast.literal_eval(input_file.read())\n",
    "\n",
    "for key in hamiltonians.keys():\n",
    "    print(f\"{key: <25}     n_qubits:  {hamiltonians[key][1]:<5.0f}\")"
   ]
  },
  {
   "cell_type": "code",
   "execution_count": null,
   "metadata": {},
   "outputs": [],
   "source": []
  },
  {
   "cell_type": "code",
   "execution_count": 4,
   "metadata": {},
   "outputs": [],
   "source": [
    "# molecule_key = 'H3_STO-3G_singlet_1+'\n",
    "molecule_key = 'Ne1_STO-3G_singlet'\n",
    "transformation, N_qubits, Hamilt_dictionary, _ ,_, _ = hamiltonians[molecule_key]"
   ]
  },
  {
   "cell_type": "markdown",
   "metadata": {},
   "source": [
    "# 1. Get OpenFermion representation of Hamiltonian"
   ]
  },
  {
   "cell_type": "code",
   "execution_count": 5,
   "metadata": {},
   "outputs": [
    {
     "data": {
      "text/plain": [
       "-76.33455389736386 [] +\n",
       "0.05499943429524173 [X0] +\n",
       "0.03036444418493114 [X0 X1] +\n",
       "-0.0117632675905695 [X0 Z1 Z2 X3 Z4] +\n",
       "0.05499943429524173 [X0 Z1 Z2 Z3] +\n",
       "0.011763267590569502 [X0 Z1 Z2 Z3 X4] +\n",
       "0.05499943429524173 [X0 Z1 Z2 Z4] +\n",
       "0.030364444184931144 [X0 X2] +\n",
       "-0.0117632675905695 [X0 X3] +\n",
       "0.00861089258911562 [X0 X3 X4] +\n",
       "-0.00861089258911562 [X0 Y3 Y4] +\n",
       "0.05499943429524173 [X0 Z3 Z4] +\n",
       "0.011763267590569502 [X0 X4] +\n",
       "0.03036444418493114 [Y0 Y1] +\n",
       "-0.0117632675905695 [Y0 Z1 Z2 Y3 Z4] +\n",
       "0.011763267590569502 [Y0 Z1 Z2 Z3 Y4] +\n",
       "0.030364444184931144 [Y0 Y2] +\n",
       "0.00861089258911562 [Y0 X3 Y4] +\n",
       "-0.0117632675905695 [Y0 Y3] +\n",
       "0.00861089258911562 [Y0 Y3 X4] +\n",
       "0.011763267590569502 [Y0 Y4] +\n",
       "5.383553530220355 [Z0] +\n",
       "-0.0117632675905695 [Z0 X1 Z2 X3 Z4] +\n",
       "0.05499943429524173 [Z0 X1 Z2 Z3] +\n",
       "0.011763267590569502 [Z0 X1 Z2 Z3 X4] +\n",
       "0.05499943429524173 [Z0 X1 Z2 Z4] +\n",
       "-0.0117632675905695 [Z0 Y1 Z2 Y3 Z4] +\n",
       "0.011763267590569502 [Z0 Y1 Z2 Z3 Y4] +\n",
       "0.9747813982055673 [Z0 Z1] +\n",
       "-0.011763267590569502 [Z0 Z1 X2 X3 Z4] +\n",
       "0.05499943429524173 [Z0 Z1 X2 Z3] +\n",
       "0.011763267590569502 [Z0 Z1 X2 Z3 X4] +\n",
       "0.05499943429524173 [Z0 Z1 X2 Z4] +\n",
       "-0.011763267590569502 [Z0 Z1 Y2 Y3 Z4] +\n",
       "0.011763267590569502 [Z0 Z1 Y2 Z3 Y4] +\n",
       "-0.6642272810148019 [Z0 Z1 Z2] +\n",
       "-0.1439445653043844 [Z0 Z1 Z2 X3] +\n",
       "-0.22067335842309374 [Z0 Z1 Z2 X3 Z4] +\n",
       "-0.048238943635554345 [Z0 Z1 Z2 Y3 Y4] +\n",
       "-3.1714875881037594 [Z0 Z1 Z2 Z3] +\n",
       "0.22067335842309374 [Z0 Z1 Z2 Z3 X4] +\n",
       "-0.712466224650356 [Z0 Z1 Z2 Z3 Z4] +\n",
       "0.1439445653043844 [Z0 Z1 Z2 X4] +\n",
       "-3.1714875881037594 [Z0 Z1 Z2 Z4] +\n",
       "-0.020815384449767677 [Z0 Z1 X3 Z4] +\n",
       "-0.4588152666839689 [Z0 Z1 Z3] +\n",
       "0.020815384449767677 [Z0 Z1 Z3 X4] +\n",
       "-0.4588152666839689 [Z0 Z1 Z4] +\n",
       "0.9747813982055691 [Z0 Z2] +\n",
       "-0.020815384449767663 [Z0 Z2 X3 Z4] +\n",
       "-0.45881526668396866 [Z0 Z2 Z3] +\n",
       "0.020815384449767663 [Z0 Z2 Z3 X4] +\n",
       "-0.45881526668396866 [Z0 Z2 Z4] +\n",
       "-0.02081538444976766 [Z0 X3 Z4] +\n",
       "0.705002806164303 [Z0 Z3] +\n",
       "0.02081538444976766 [Z0 Z3 X4] +\n",
       "0.705002806164303 [Z0 Z4] +\n",
       "0.05499943429524173 [X1] +\n",
       "0.030364444184931144 [X1 X2] +\n",
       "-0.0117632675905695 [X1 X3] +\n",
       "0.00861089258911562 [X1 X3 X4] +\n",
       "-0.00861089258911562 [X1 Y3 Y4] +\n",
       "0.05499943429524173 [X1 Z3 Z4] +\n",
       "0.011763267590569502 [X1 X4] +\n",
       "0.030364444184931144 [Y1 Y2] +\n",
       "0.00861089258911562 [Y1 X3 Y4] +\n",
       "-0.0117632675905695 [Y1 Y3] +\n",
       "0.00861089258911562 [Y1 Y3 X4] +\n",
       "0.011763267590569502 [Y1 Y4] +\n",
       "5.383553530220355 [Z1] +\n",
       "0.9747813982055691 [Z1 Z2] +\n",
       "-0.02081538444976766 [Z1 Z2 X3 Z4] +\n",
       "-0.45881526668396866 [Z1 Z2 Z3] +\n",
       "0.02081538444976766 [Z1 Z2 Z3 X4] +\n",
       "-0.45881526668396866 [Z1 Z2 Z4] +\n",
       "-0.020815384449767663 [Z1 X3 Z4] +\n",
       "0.705002806164303 [Z1 Z3] +\n",
       "0.020815384449767663 [Z1 Z3 X4] +\n",
       "0.705002806164303 [Z1 Z4] +\n",
       "0.05499943429524173 [X2] +\n",
       "-0.011763267590569502 [X2 X3] +\n",
       "0.008610892589115625 [X2 X3 X4] +\n",
       "-0.008610892589115625 [X2 Y3 Y4] +\n",
       "0.05499943429524173 [X2 Z3 Z4] +\n",
       "0.011763267590569502 [X2 X4] +\n",
       "0.008610892589115625 [Y2 X3 Y4] +\n",
       "-0.011763267590569502 [Y2 Y3] +\n",
       "0.008610892589115625 [Y2 Y3 X4] +\n",
       "0.011763267590569502 [Y2 Y4] +\n",
       "5.383553530220355 [Z2] +\n",
       "-0.020815384449767677 [Z2 X3 Z4] +\n",
       "0.7050028061643031 [Z2 Z3] +\n",
       "0.020815384449767677 [Z2 Z3 X4] +\n",
       "0.7050028061643031 [Z2 Z4] +\n",
       "-0.1439445653043844 [X3] +\n",
       "-0.22067335842309374 [X3 Z4] +\n",
       "-0.048238943635554345 [Y3 Y4] +\n",
       "20.404313365766935 [Z3] +\n",
       "0.22067335842309374 [Z3 X4] +\n",
       "1.7483452615899377 [Z3 Z4] +\n",
       "0.1439445653043844 [X4] +\n",
       "20.404313365766935 [Z4]"
      ]
     },
     "execution_count": 5,
     "metadata": {},
     "output_type": "execute_result"
    }
   ],
   "source": [
    "from quchem.Misc_functions.conversion_scripts import Get_Openfermion_Hamiltonian\n",
    "\n",
    "openFermion_H = Get_Openfermion_Hamiltonian(Hamilt_dictionary)\n",
    "openFermion_H"
   ]
  },
  {
   "cell_type": "code",
   "execution_count": null,
   "metadata": {},
   "outputs": [],
   "source": []
  },
  {
   "cell_type": "markdown",
   "metadata": {},
   "source": [
    "# 2. Get cliques defined by commutativity \n"
   ]
  },
  {
   "cell_type": "code",
   "execution_count": 6,
   "metadata": {},
   "outputs": [
    {
     "data": {
      "text/plain": [
       "{0: [-76.33455389736386 []],\n",
       " 1: [5.383553530220355 [Z2],\n",
       "  0.030364444184931144 [X1 X2],\n",
       "  0.030364444184931144 [Y0 Y2]],\n",
       " 2: [5.383553530220355 [Z1],\n",
       "  0.030364444184931144 [Y1 Y2],\n",
       "  0.03036444418493114 [X0 X1]],\n",
       " 3: [5.383553530220355 [Z0],\n",
       "  0.030364444184931144 [X0 X2],\n",
       "  0.03036444418493114 [Y0 Y1]],\n",
       " 4: [20.404313365766935 [Z4],\n",
       "  0.22067335842309374 [Z3 X4],\n",
       "  0.008610892589115625 [X2 X3 X4],\n",
       "  0.011763267590569502 [Y1 Y4],\n",
       "  0.00861089258911562 [Y1 Y3 X4],\n",
       "  0.011763267590569502 [Y0 Z1 Z2 Z3 Y4]],\n",
       " 5: [-0.22067335842309374 [X3 Z4],\n",
       "  20.404313365766935 [Z3],\n",
       "  0.008610892589115625 [Y2 X3 Y4],\n",
       "  -0.011763267590569502 [Y2 Y3],\n",
       "  0.00861089258911562 [X1 X3 X4],\n",
       "  -0.0117632675905695 [Y0 Z1 Z2 Y3 Z4]],\n",
       " 6: [0.9747813982055691 [Z1 Z2],\n",
       "  0.05499943429524173 [X2],\n",
       "  0.011763267590569502 [Y2 Y4],\n",
       "  0.008610892589115625 [Y2 Y3 X4],\n",
       "  0.011763267590569502 [Z0 Y1 Z2 Z3 Y4]],\n",
       " 7: [0.9747813982055691 [Z0 Z2],\n",
       "  0.011763267590569502 [X2 X4],\n",
       "  -0.008610892589115625 [X2 Y3 Y4],\n",
       "  0.011763267590569502 [X0 Z1 Z2 Z3 X4],\n",
       "  0.00861089258911562 [Y0 X3 Y4]],\n",
       " 8: [0.9747813982055673 [Z0 Z1],\n",
       "  0.05499943429524173 [X1],\n",
       "  0.00861089258911562 [Y1 X3 Y4],\n",
       "  -0.0117632675905695 [Y1 Y3]],\n",
       " 9: [-3.1714875881037594 [Z0 Z1 Z2 Z4],\n",
       "  0.22067335842309374 [Z0 Z1 Z2 Z3 X4],\n",
       "  0.05499943429524173 [X0],\n",
       "  -0.0117632675905695 [Z0 X1 Z2 X3 Z4],\n",
       "  0.05499943429524173 [Z0 X1 Z2 Z3],\n",
       "  -0.011763267590569502 [Z0 Z1 Y2 Y3 Z4]],\n",
       " 10: [-0.22067335842309374 [Z0 Z1 Z2 X3 Z4],\n",
       "  -3.1714875881037594 [Z0 Z1 Z2 Z3],\n",
       "  0.05499943429524173 [X0 Z1 Z2 Z4],\n",
       "  0.011763267590569502 [Z0 X1 Z2 Z3 X4],\n",
       "  0.011763267590569502 [Z0 Z1 Y2 Z3 Y4]],\n",
       " 11: [0.7050028061643031 [Z2 Z4],\n",
       "  0.020815384449767677 [Z2 Z3 X4],\n",
       "  0.00861089258911562 [X0 X3 X4]],\n",
       " 12: [-0.020815384449767677 [Z2 X3 Z4],\n",
       "  0.7050028061643031 [Z2 Z3],\n",
       "  -0.0117632675905695 [Y0 Y3],\n",
       "  -0.0117632675905695 [Z0 Y1 Z2 Y3 Z4]],\n",
       " 13: [0.705002806164303 [Z1 Z4],\n",
       "  0.020815384449767663 [Z1 Z3 X4],\n",
       "  0.011763267590569502 [Y0 Y4],\n",
       "  0.00861089258911562 [Y0 Y3 X4]],\n",
       " 14: [-0.020815384449767663 [Z1 X3 Z4],\n",
       "  0.705002806164303 [Z1 Z3],\n",
       "  0.05499943429524173 [Z0 X1 Z2 Z4]],\n",
       " 15: [-0.45881526668396866 [Z1 Z2 Z4],\n",
       "  0.02081538444976766 [Z1 Z2 Z3 X4],\n",
       "  -0.011763267590569502 [Z0 Z1 X2 X3 Z4],\n",
       "  0.05499943429524173 [Z0 Z1 X2 Z3]],\n",
       " 16: [-0.02081538444976766 [Z1 Z2 X3 Z4],\n",
       "  -0.45881526668396866 [Z1 Z2 Z3],\n",
       "  0.05499943429524173 [Z0 Z1 X2 Z4],\n",
       "  0.011763267590569502 [Z0 Z1 X2 Z3 X4]],\n",
       " 17: [0.705002806164303 [Z0 Z4],\n",
       "  0.02081538444976766 [Z0 Z3 X4],\n",
       "  -0.0117632675905695 [X0 Z1 Z2 X3 Z4],\n",
       "  0.05499943429524173 [X0 Z1 Z2 Z3]],\n",
       " 18: [-0.02081538444976766 [Z0 X3 Z4], 0.705002806164303 [Z0 Z3]],\n",
       " 19: [-0.45881526668396866 [Z0 Z2 Z4], 0.020815384449767663 [Z0 Z2 Z3 X4]],\n",
       " 20: [-0.020815384449767663 [Z0 Z2 X3 Z4], -0.45881526668396866 [Z0 Z2 Z3]],\n",
       " 21: [-0.4588152666839689 [Z0 Z1 Z4], 0.020815384449767677 [Z0 Z1 Z3 X4]],\n",
       " 22: [-0.020815384449767677 [Z0 Z1 X3 Z4], -0.4588152666839689 [Z0 Z1 Z3]],\n",
       " 23: [0.1439445653043844 [X4], -0.048238943635554345 [Y3 Y4]],\n",
       " 24: [-0.1439445653043844 [X3], 1.7483452615899377 [Z3 Z4]],\n",
       " 25: [-0.011763267590569502 [X2 X3],\n",
       "  0.05499943429524173 [X2 Z3 Z4],\n",
       "  -0.6642272810148019 [Z0 Z1 Z2]],\n",
       " 26: [0.011763267590569502 [X1 X4], -0.00861089258911562 [X1 Y3 Y4]],\n",
       " 27: [-0.0117632675905695 [X1 X3], 0.05499943429524173 [X1 Z3 Z4]],\n",
       " 28: [0.011763267590569502 [X0 X4], -0.00861089258911562 [X0 Y3 Y4]],\n",
       " 29: [-0.0117632675905695 [X0 X3], 0.05499943429524173 [X0 Z3 Z4]],\n",
       " 30: [0.1439445653043844 [Z0 Z1 Z2 X4],\n",
       "  -0.048238943635554345 [Z0 Z1 Z2 Y3 Y4]],\n",
       " 31: [-0.1439445653043844 [Z0 Z1 Z2 X3], -0.712466224650356 [Z0 Z1 Z2 Z3 Z4]]}"
      ]
     },
     "execution_count": 6,
     "metadata": {},
     "output_type": "execute_result"
    }
   ],
   "source": [
    "from quchem.Unitary_Partitioning.Graph import Clique_cover_Hamiltonian\n",
    "\n",
    "commutativity_flag = 'AC' ## <- defines relationship between sets!!!\n",
    "Graph_colouring_strategy='largest_first'\n",
    "\n",
    "\n",
    "anti_commuting_sets = Clique_cover_Hamiltonian(openFermion_H, \n",
    "                                                     N_qubits, \n",
    "                                                     commutativity_flag, \n",
    "                                                     Graph_colouring_strategy)\n",
    "anti_commuting_sets"
   ]
  },
  {
   "cell_type": "code",
   "execution_count": null,
   "metadata": {},
   "outputs": [],
   "source": []
  },
  {
   "cell_type": "markdown",
   "metadata": {},
   "source": [
    "# 3. Example of R_l operator"
   ]
  },
  {
   "cell_type": "code",
   "execution_count": 7,
   "metadata": {},
   "outputs": [
    {
     "data": {
      "text/plain": [
       "[20.404313365766935 [Z4],\n",
       " 0.22067335842309374 [Z3 X4],\n",
       " 0.008610892589115625 [X2 X3 X4],\n",
       " 0.011763267590569502 [Y1 Y4],\n",
       " 0.00861089258911562 [Y1 Y3 X4],\n",
       " 0.011763267590569502 [Y0 Z1 Z2 Z3 Y4]]"
      ]
     },
     "execution_count": 7,
     "metadata": {},
     "output_type": "execute_result"
    }
   ],
   "source": [
    "key_larg, largest_AC_set = max(anti_commuting_sets.items(), key=lambda x:len(x[1])) # largest nonCon part found by dfs alg\n",
    "largest_AC_set"
   ]
  },
  {
   "cell_type": "code",
   "execution_count": 8,
   "metadata": {},
   "outputs": [
    {
     "data": {
      "text/plain": [
       "[0.9999852529596388 [],\n",
       " 0.005407278147103682j [Z3 Y4],\n",
       " 0.00021099733858633859j [X2 X3 Y4],\n",
       " (-0-0.0002882416809874538j) [Y1 X4],\n",
       " 0.00021099733858633845j [Y1 Y3 Y4],\n",
       " (-0-0.0002882416809874538j) [Y0 Z1 Z2 Z3 X4]]"
      ]
     },
     "execution_count": 8,
     "metadata": {},
     "output_type": "execute_result"
    }
   ],
   "source": [
    "from quchem.Unitary_Partitioning.Unitary_partitioning_LCU_method import Get_R_op_list\n",
    "\n",
    "N_index=0\n",
    "check_reduction = True\n",
    "\n",
    "R_linear_comb_list, Pn, gamma_l = Get_R_op_list(largest_AC_set,\n",
    "                                                N_index,\n",
    "                                                N_qubits,\n",
    "                                                check_reduction=check_reduction, \n",
    "                                                atol=1e-8,\n",
    "                                                rtol=1e-05)\n",
    "\n",
    "R_linear_comb_list"
   ]
  },
  {
   "cell_type": "code",
   "execution_count": null,
   "metadata": {},
   "outputs": [],
   "source": []
  },
  {
   "cell_type": "markdown",
   "metadata": {},
   "source": [
    "To perform Unitary Partitioning via a LCU - apply the linear combination of operators in ```R_linear_comb_list```"
   ]
  },
  {
   "cell_type": "markdown",
   "metadata": {},
   "source": [
    "# 4. Linear Algebra VQE with  LCU"
   ]
  },
  {
   "cell_type": "code",
   "execution_count": 9,
   "metadata": {},
   "outputs": [
    {
     "data": {
      "text/plain": [
       "-126.60452499680484"
      ]
     },
     "execution_count": 9,
     "metadata": {},
     "output_type": "execute_result"
    }
   ],
   "source": [
    "from quchem.Unitary_Partitioning.Unitary_partitioning_LCU_method import LCU_linalg_Energy\n",
    "# get energy via symbolic operators (building matrix once)\n",
    "\n",
    "N_indices_dict = {set_key: 0 for set_key in anti_commuting_sets}\n",
    "\n",
    "LCU_linalg_Energy(anti_commuting_sets,\n",
    "                  N_indices_dict, \n",
    "                  N_qubits, \n",
    "                  atol=1e-8, \n",
    "                  rtol=1e-05,\n",
    "                  check_reduction=True)\n"
   ]
  },
  {
   "cell_type": "code",
   "execution_count": 12,
   "metadata": {},
   "outputs": [
    {
     "data": {
      "text/plain": [
       "-126.60452499680493"
      ]
     },
     "execution_count": 12,
     "metadata": {},
     "output_type": "execute_result"
    }
   ],
   "source": [
    "from quchem.Unitary_Partitioning.Unitary_partitioning_LCU_method import LCU_linalg_Energy_matrix\n",
    "# get energy via matrix operators (builds matrices multiple times)\n",
    "\n",
    "N_indices_dict = {set_key: 0 for set_key in anti_commuting_sets}\n",
    "\n",
    "LCU_linalg_Energy_matrix(anti_commuting_sets,\n",
    "                  N_indices_dict, \n",
    "                  N_qubits, \n",
    "                  atol=1e-8, \n",
    "                  rtol=1e-05,\n",
    "                  check_reduction=True)\n"
   ]
  },
  {
   "cell_type": "code",
   "execution_count": 10,
   "metadata": {},
   "outputs": [
    {
     "data": {
      "text/plain": [
       "-126.6045249968049"
      ]
     },
     "execution_count": 10,
     "metadata": {},
     "output_type": "execute_result"
    }
   ],
   "source": [
    "## compare to true GS (diagonlize Molecular Hamiltonian)\n",
    "\n",
    "from openfermion.linalg import qubit_operator_sparse\n",
    "from scipy.sparse.linalg import eigsh\n",
    "from scipy.linalg import eigh\n",
    "\n",
    "if N_qubits<6:\n",
    "    sparseH = qubit_operator_sparse(openFermion_H, n_qubits=N_qubits)\n",
    "    denseH = sparseH.todense()\n",
    "    eig_values, eig_vectors = eigh(denseH) # NOT sparse!\n",
    "else:\n",
    "    sparseH = qubit_operator_sparse(openFermion_H, n_qubits=N_qubits)\n",
    "    eig_values, eig_vectors = eigsh(sparseH, k=1, which='SA')\n",
    "    \n",
    "FCI_Energy = min(eig_values)\n",
    "FCI_Energy"
   ]
  }
 ],
 "metadata": {
  "kernelspec": {
   "display_name": "Python 3",
   "language": "python",
   "name": "python3"
  },
  "language_info": {
   "codemirror_mode": {
    "name": "ipython",
    "version": 3
   },
   "file_extension": ".py",
   "mimetype": "text/x-python",
   "name": "python",
   "nbconvert_exporter": "python",
   "pygments_lexer": "ipython3",
   "version": "3.8.5"
  }
 },
 "nbformat": 4,
 "nbformat_minor": 4
}
