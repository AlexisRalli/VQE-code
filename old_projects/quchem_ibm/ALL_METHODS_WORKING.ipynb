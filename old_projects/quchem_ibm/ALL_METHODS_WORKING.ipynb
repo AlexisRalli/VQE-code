{
 "cells": [
  {
   "cell_type": "code",
   "execution_count": 1,
   "metadata": {},
   "outputs": [],
   "source": [
    "transformation='JW'\n",
    "# transformation='BK'"
   ]
  },
  {
   "cell_type": "code",
   "execution_count": 2,
   "metadata": {},
   "outputs": [],
   "source": [
    "from qiskit import QuantumCircuit, ClassicalRegister, QuantumRegister, execute\n",
    "from qiskit import Aer"
   ]
  },
  {
   "cell_type": "code",
   "execution_count": 3,
   "metadata": {},
   "outputs": [
    {
     "name": "stdout",
     "output_type": "stream",
     "text": [
      "(-0.09706626816762878+0j) [] +\n",
      "(-0.045302615503799264+0j) [X0 X1 Y2 Y3] +\n",
      "(0.045302615503799264+0j) [X0 Y1 Y2 X3] +\n",
      "(0.045302615503799264+0j) [Y0 X1 X2 Y3] +\n",
      "(-0.045302615503799264+0j) [Y0 Y1 X2 X3] +\n",
      "(0.1714128264477689+0j) [Z0] +\n",
      "(0.16868898170361207+0j) [Z0 Z1] +\n",
      "(0.12062523483390414+0j) [Z0 Z2] +\n",
      "(0.1659278503377034+0j) [Z0 Z3] +\n",
      "(0.17141282644776892+0j) [Z1] +\n",
      "(0.1659278503377034+0j) [Z1 Z2] +\n",
      "(0.12062523483390414+0j) [Z1 Z3] +\n",
      "(-0.22343153690813564+0j) [Z2] +\n",
      "(0.1744128761226159+0j) [Z2 Z3] +\n",
      "(-0.22343153690813558+0j) [Z3]\n",
      "-1.137283834488502\n"
     ]
    }
   ],
   "source": [
    "from quchem.Hamiltonian_Generator_Functions import *\n",
    "from quchem.Graph import *\n",
    "## HAMILTONIAN start\n",
    "\n",
    "Molecule = 'H2'\n",
    "geometry = [('H', (0., 0., 0.)), ('H', (0., 0., 0.74))]\n",
    "basis = 'sto-3g'\n",
    "\n",
    "# Molecule = 'LiH'\n",
    "# geometry = [('Li', (0., 0., 0.)), ('H', (0., 0., 1.44))]\n",
    "# basis = 'sto-3g'\n",
    "\n",
    "\n",
    "### Get Hamiltonian\n",
    "Hamilt = Hamiltonian_PySCF(Molecule,\n",
    "                     run_scf=1, run_mp2=1, run_cisd=1, run_ccsd=1, run_fci=1,\n",
    "                     basis=basis,\n",
    "                     multiplicity=1,\n",
    "                     geometry=geometry)  # normally None!\n",
    "QubitHamiltonian = Hamilt.Get_Qubit_Hamiltonian(threshold=None, transformation=transformation)\n",
    "### HAMILTONIAN end\n",
    "\n",
    "#####################################\n",
    "\n",
    "print(QubitHamiltonian)\n",
    "\n",
    "\n",
    "fci_energy = Hamilt.molecule.fci_energy\n",
    "print(fci_energy)"
   ]
  },
  {
   "cell_type": "markdown",
   "metadata": {},
   "source": [
    "From Helgaker, T., P. Jorgensen,and J. Olsen (2014),Molecularelectronic-structure theory(John Wiley & Sons)\n",
    "we known\n",
    "\n",
    "$$H_{2}^{ground} = 0.9939| 1100\\rangle - 0.1106| 0011\\rangle$$\n",
    "\n",
    "From group theory we know only double excitation terms are important!\n",
    "We can see this from our ijab operators that qubits 1 and 3 are only acted on by $Z$ therefore experience no population changes... Can even see this from the answer if we write it in BK basis:\n",
    "\n",
    "$$H_{2}^{BK} = 0.9939| 1000\\rangle - 0.1106| 0010\\rangle$$\n",
    "\n",
    "See how qubits 1 and 3 always remain at 0!\n",
    "\n",
    "therefore can **remove** these measurements from Hamiltonian... as we know what expectation values they should give!\n",
    "\n",
    "In the case for this Hamiltonian only $I$ and $Z$ act on these qubits! So even easier to remove (expectation values = +1 (as act on $| 0\\rangle$ state!), so just remove and add to relivent H terms!"
   ]
  },
  {
   "cell_type": "markdown",
   "metadata": {},
   "source": [
    "LOOK at:\n",
    "\n",
    "PHYS. REV. X, **8**, 031022 (2018)"
   ]
  },
  {
   "cell_type": "code",
   "execution_count": 4,
   "metadata": {},
   "outputs": [
    {
     "name": "stdout",
     "output_type": "stream",
     "text": [
      "JW ground state =  [1, 1, 0, 0]\n",
      "BK ground state =  [1. 0. 0. 0.]\n"
     ]
    }
   ],
   "source": [
    "from quchem.Ansatz_Generator_Functions import *\n",
    "n_electrons=Hamilt.molecule.n_electrons\n",
    "n_qubits=Hamilt.molecule.n_qubits\n",
    "\n",
    "ansatz_obj = Ansatz(n_electrons,n_qubits)\n",
    "print('JW ground state = ', ansatz_obj.Get_JW_HF_state_in_OCC_basis())\n",
    "print('BK ground state = ', ansatz_obj.Get_BK_HF_state_in_OCC_basis())"
   ]
  },
  {
   "cell_type": "code",
   "execution_count": 5,
   "metadata": {},
   "outputs": [
    {
     "name": "stdout",
     "output_type": "stream",
     "text": [
      "qubits only acted on by I or Z: []\n"
     ]
    },
    {
     "data": {
      "text/plain": [
       "(-0.09706626816762878+0j) [] +\n",
       "(-0.045302615503799264+0j) [X0 X1 Y2 Y3] +\n",
       "(0.045302615503799264+0j) [X0 Y1 Y2 X3] +\n",
       "(0.045302615503799264+0j) [Y0 X1 X2 Y3] +\n",
       "(-0.045302615503799264+0j) [Y0 Y1 X2 X3] +\n",
       "(0.1714128264477689+0j) [Z0] +\n",
       "(0.16868898170361207+0j) [Z0 Z1] +\n",
       "(0.12062523483390414+0j) [Z0 Z2] +\n",
       "(0.1659278503377034+0j) [Z0 Z3] +\n",
       "(0.17141282644776892+0j) [Z1] +\n",
       "(0.1659278503377034+0j) [Z1 Z2] +\n",
       "(0.12062523483390414+0j) [Z1 Z3] +\n",
       "(-0.22343153690813564+0j) [Z2] +\n",
       "(0.1744128761226159+0j) [Z2 Z3] +\n",
       "(-0.22343153690813558+0j) [Z3]"
      ]
     },
     "execution_count": 5,
     "metadata": {},
     "output_type": "execute_result"
    }
   ],
   "source": [
    "qubits_to_remove = Find_I_Z_indices_in_Hamiltonian(QubitHamiltonian, Hamilt.molecule.n_qubits)\n",
    "print('qubits only acted on by I or Z:', qubits_to_remove)\n",
    "\n",
    "\n",
    "input_state = ansatz_obj.Get_BK_HF_state_in_OCC_basis() if transformation=='BK' else ansatz_obj.Get_JW_HF_state_in_OCC_basis()\n",
    "# Remove_Z_terms_from_Hamiltonian\n",
    "NewQubitHamiltonian = Remove_Z_terms_from_Hamiltonian(\n",
    "                                                    QubitHamiltonian, \n",
    "                                                    input_state,\n",
    "                                                    qubits_to_remove,\n",
    "                                                    check_reduction=True)\n",
    "NewQubitHamiltonian"
   ]
  },
  {
   "cell_type": "code",
   "execution_count": 6,
   "metadata": {},
   "outputs": [],
   "source": [
    "# # MANUAL LiH BK red\n",
    "# qubits_to_remove=[0,1,8,9,10,11]\n",
    "# print('qubits only acted on by I or Z:', qubits_to_remove)\n",
    "\n",
    "\n",
    "# input_state = ansatz_obj.Get_BK_HF_state_in_OCC_basis() if transformation=='BK' else ansatz_obj.Get_JW_HF_state_in_OCC_basis()\n",
    "# # Remove_Z_terms_from_Hamiltonian\n",
    "# NewQubitHamiltonian = Remove_Z_terms_from_Hamiltonian(\n",
    "#                                                     QubitHamiltonian, \n",
    "#                                                     input_state,\n",
    "#                                                     qubits_to_remove,\n",
    "#                                                     check_reduction=False)\n",
    "# NewQubitHamiltonian"
   ]
  },
  {
   "cell_type": "code",
   "execution_count": null,
   "metadata": {},
   "outputs": [],
   "source": []
  },
  {
   "cell_type": "code",
   "execution_count": 7,
   "metadata": {},
   "outputs": [
    {
     "data": {
      "text/plain": [
       "(-0.09706626816762878+0j) [] +\n",
       "(-0.045302615503799264+0j) [X0 X1 Y2 Y3] +\n",
       "(0.045302615503799264+0j) [X0 Y1 Y2 X3] +\n",
       "(0.045302615503799264+0j) [Y0 X1 X2 Y3] +\n",
       "(-0.045302615503799264+0j) [Y0 Y1 X2 X3] +\n",
       "(0.1714128264477689+0j) [Z0] +\n",
       "(0.16868898170361207+0j) [Z0 Z1] +\n",
       "(0.12062523483390414+0j) [Z0 Z2] +\n",
       "(0.1659278503377034+0j) [Z0 Z3] +\n",
       "(0.17141282644776892+0j) [Z1] +\n",
       "(0.1659278503377034+0j) [Z1 Z2] +\n",
       "(0.12062523483390414+0j) [Z1 Z3] +\n",
       "(-0.22343153690813564+0j) [Z2] +\n",
       "(0.1744128761226159+0j) [Z2 Z3] +\n",
       "(-0.22343153690813558+0j) [Z3]"
      ]
     },
     "execution_count": 7,
     "metadata": {},
     "output_type": "execute_result"
    }
   ],
   "source": [
    "qubitNo_re_label_dict, NewQubitHamiltonian_relabelled = Re_label_Hamiltonian(NewQubitHamiltonian)\n",
    "NewQubitHamiltonian_relabelled"
   ]
  },
  {
   "cell_type": "markdown",
   "metadata": {},
   "source": [
    "# Find what new FCI energy is\n",
    "- here should be the same as true answer!"
   ]
  },
  {
   "cell_type": "code",
   "execution_count": 8,
   "metadata": {},
   "outputs": [
    {
     "name": "stdout",
     "output_type": "stream",
     "text": [
      "new_FCI =  (-1.137283834488503+3.7121881080805557e-17j) VS old FCI: -1.137283834488502\n",
      "True\n"
     ]
    }
   ],
   "source": [
    "from openfermion import qubit_operator_sparse\n",
    "from scipy.sparse import csc_matrix\n",
    "new_Molecular_H_MATRIX =  csc_matrix(qubit_operator_sparse(NewQubitHamiltonian_relabelled))\n",
    "\n",
    "# new_Molecular_H_MATRIX = np.flip(new_Molecular_H_MATRIX)\n",
    "\n",
    "from scipy.sparse.linalg import eigs\n",
    "try:\n",
    "    eig_values, eig_vectors = eigs(new_Molecular_H_MATRIX)\n",
    "except:\n",
    "    from scipy.linalg import eig\n",
    "    eig_values, eig_vectors = eig(new_Molecular_H_MATRIX.todense())\n",
    "    \n",
    "new_FCI_Energy = min(eig_values)\n",
    "\n",
    "\n",
    "index = np.where(eig_values==new_FCI_Energy)[0][0]\n",
    "ground_state_vector = eig_vectors[:, index]\n",
    "\n",
    "print('new_FCI = ', new_FCI_Energy, 'VS old FCI:', fci_energy)\n",
    "print(np.isclose(new_FCI_Energy, fci_energy))"
   ]
  },
  {
   "cell_type": "code",
   "execution_count": 9,
   "metadata": {},
   "outputs": [
    {
     "data": {
      "text/plain": [
       "(-1.1372838344885015+0j)"
      ]
     },
     "execution_count": 9,
     "metadata": {},
     "output_type": "execute_result"
    }
   ],
   "source": [
    "np.dot(ground_state_vector.conj().T, new_Molecular_H_MATRIX.dot(ground_state_vector))"
   ]
  },
  {
   "cell_type": "markdown",
   "metadata": {},
   "source": [
    "# HF + UCCSD"
   ]
  },
  {
   "cell_type": "code",
   "execution_count": 10,
   "metadata": {},
   "outputs": [
    {
     "data": {
      "text/plain": [
       "array([1, 1, 0, 0])"
      ]
     },
     "execution_count": 10,
     "metadata": {},
     "output_type": "execute_result"
    }
   ],
   "source": [
    "input_state = ansatz_obj.Get_BK_HF_state_in_OCC_basis() if transformation=='BK' else ansatz_obj.Get_JW_HF_state_in_OCC_basis()\n",
    "new_input_state = np.delete(input_state, qubits_to_remove)\n",
    "\n",
    "n_qubits_new = len(new_input_state)\n",
    "new_input_state"
   ]
  },
  {
   "cell_type": "code",
   "execution_count": 11,
   "metadata": {},
   "outputs": [
    {
     "name": "stdout",
     "output_type": "stream",
     "text": [
      "ia standard\n",
      "[-1.0 [0^ 2] +\n",
      "1.0 [2^ 0], -1.0 [1^ 3] +\n",
      "1.0 [3^ 1]]\n",
      "ijab standard\n",
      "[-1.0 [0^ 1^ 2 3] +\n",
      "1.0 [3^ 2^ 1 0]]\n",
      "\n",
      "ia standard\n",
      "[-0.5j [X0 Z1 Y2] +\n",
      "0.5j [Y0 Z1 X2], -0.5j [X1 Z2 Y3] +\n",
      "0.5j [Y1 Z2 X3]]\n",
      "ijab standard\n",
      "[0.125j [X0 X1 X2 Y3] +\n",
      "0.125j [X0 X1 Y2 X3] +\n",
      "-0.125j [X0 Y1 X2 X3] +\n",
      "0.125j [X0 Y1 Y2 Y3] +\n",
      "-0.125j [Y0 X1 X2 X3] +\n",
      "0.125j [Y0 X1 Y2 Y3] +\n",
      "-0.125j [Y0 Y1 X2 Y3] +\n",
      "-0.125j [Y0 Y1 Y2 X3]]\n"
     ]
    }
   ],
   "source": [
    "ansatz_obj.Get_ia_and_ijab_terms()\n",
    "\n",
    "print('ia standard')\n",
    "print(ansatz_obj.Sec_Quant_CC_ia_Fermi_ops)\n",
    "\n",
    "print('ijab standard')\n",
    "print(ansatz_obj.Sec_Quant_CC_ijab_Fermi_ops)\n",
    "\n",
    "### single trotter step\n",
    "ansatz_obj.UCCSD_single_trotter_step(transformation,\n",
    "                                     List_FermiOps_ia=ansatz_obj.Sec_Quant_CC_ia_Fermi_ops,\n",
    "                                     List_FermiOps_ijab=ansatz_obj.Sec_Quant_CC_ijab_Fermi_ops)\n",
    "\n",
    "print('')\n",
    "print('ia standard')\n",
    "print(ansatz_obj.Second_Quant_CC_single_Trot_list_ia)\n",
    "print('ijab standard')\n",
    "print(ansatz_obj.Second_Quant_CC_single_Trot_list_ijab)"
   ]
  },
  {
   "cell_type": "code",
   "execution_count": 12,
   "metadata": {},
   "outputs": [
    {
     "name": "stdout",
     "output_type": "stream",
     "text": [
      "ia reduced\n",
      "[-0.5j [X0 Z1 Y2] +\n",
      "0.5j [Y0 Z1 X2], -0.5j [X1 Z2 Y3] +\n",
      "0.5j [Y1 Z2 X3]]\n",
      "ijab reduced\n",
      "[0.125j [X0 X1 X2 Y3] +\n",
      "0.125j [X0 X1 Y2 X3] +\n",
      "-0.125j [X0 Y1 X2 X3] +\n",
      "0.125j [X0 Y1 Y2 Y3] +\n",
      "-0.125j [Y0 X1 X2 X3] +\n",
      "0.125j [Y0 X1 Y2 Y3] +\n",
      "-0.125j [Y0 Y1 X2 Y3] +\n",
      "-0.125j [Y0 Y1 Y2 X3]]\n",
      "\n",
      "ia reduced relabelled\n",
      "[-0.5j [X0 Z1 Y2] +\n",
      "0.5j [Y0 Z1 X2], -0.5j [X1 Z2 Y3] +\n",
      "0.5j [Y1 Z2 X3]]\n",
      "\n",
      "ijab reduced relabelled\n",
      "[0.125j [X0 X1 X2 Y3] +\n",
      "0.125j [X0 X1 Y2 X3] +\n",
      "-0.125j [X0 Y1 X2 X3] +\n",
      "0.125j [X0 Y1 Y2 Y3] +\n",
      "-0.125j [Y0 X1 X2 X3] +\n",
      "0.125j [Y0 X1 Y2 Y3] +\n",
      "-0.125j [Y0 Y1 X2 Y3] +\n",
      "-0.125j [Y0 Y1 Y2 X3]]\n"
     ]
    }
   ],
   "source": [
    "new_CC_ia_single_trot = Remove_indices_from_qubit_ops(ansatz_obj.Second_Quant_CC_single_Trot_list_ia,\n",
    "                                                      qubits_to_remove)\n",
    "print('ia reduced')\n",
    "print(new_CC_ia_single_trot)\n",
    "\n",
    "new_CC_ijab_single_trot = Remove_indices_from_qubit_ops(ansatz_obj.Second_Quant_CC_single_Trot_list_ijab,\n",
    "                                                      qubits_to_remove)\n",
    "print('ijab reduced')\n",
    "print(new_CC_ijab_single_trot)\n",
    "\n",
    "\n",
    "relabelled_new_CC_ia_single_trot =Re_label_qubit_operators(qubitNo_re_label_dict, new_CC_ia_single_trot)\n",
    "relabelled_new_CC_ijab_single_trot =Re_label_qubit_operators(qubitNo_re_label_dict, new_CC_ijab_single_trot)\n",
    "\n",
    "print('')\n",
    "print('ia reduced relabelled')\n",
    "print(relabelled_new_CC_ia_single_trot)\n",
    "print('')\n",
    "print('ijab reduced relabelled')\n",
    "print(relabelled_new_CC_ijab_single_trot)"
   ]
  },
  {
   "cell_type": "markdown",
   "metadata": {},
   "source": [
    "# Ansatz Circuit"
   ]
  },
  {
   "cell_type": "code",
   "execution_count": 13,
   "metadata": {},
   "outputs": [],
   "source": [
    "# for op in relabelled_new_CC_ia_single_trot[1]:\n",
    "#     print(op)\n",
    "# print(list(op.terms.keys())[0])"
   ]
  },
  {
   "cell_type": "code",
   "execution_count": 14,
   "metadata": {},
   "outputs": [],
   "source": [
    "# UCCSD_ansatz_Q_Circ_obj = Ansatz_Circuit(new_input_state,\n",
    "#                                      relabelled_new_CC_ia_single_trot, \n",
    "#                                      relabelled_new_CC_ijab_single_trot)\n",
    "\n",
    "# theta_ia = [0 for _ in range(len(relabelled_new_CC_ia_single_trot))]\n",
    "# theta_ijab = [0 for _ in range(len(relabelled_new_CC_ijab_single_trot))]\n",
    "\n",
    "# UCCSD_ansatz_Q_Circ =UCCSD_ansatz_Q_Circ_obj.Get_Full_HF_UCCSD_QC(\n",
    "#                                         Theta_param_list_ia=theta_ia, \n",
    "#                                          Theta_param_list_ijab=theta_ijab,\n",
    "#                                          ia_first=True)\n",
    "# UCCSD_ansatz_Q_Circ"
   ]
  },
  {
   "cell_type": "code",
   "execution_count": null,
   "metadata": {},
   "outputs": [],
   "source": []
  },
  {
   "cell_type": "markdown",
   "metadata": {},
   "source": [
    "# Graph"
   ]
  },
  {
   "cell_type": "code",
   "execution_count": 15,
   "metadata": {},
   "outputs": [],
   "source": [
    "from tqdm.notebook import tqdm"
   ]
  },
  {
   "cell_type": "code",
   "execution_count": 16,
   "metadata": {},
   "outputs": [
    {
     "name": "stderr",
     "output_type": "stream",
     "text": [
      "Building Graph Edges: 100%|##########| 15/15 [00:00<00:00, 1995.13it/s]\n"
     ]
    },
    {
     "data": {
      "text/plain": [
       "{0: [(0.1659278503377034+0j) [Z1 Z2]],\n",
       " 1: [(0.12062523483390414+0j) [Z1 Z3]],\n",
       " 2: [(0.1659278503377034+0j) [Z0 Z3]],\n",
       " 3: [(0.12062523483390414+0j) [Z0 Z2]],\n",
       " 4: [(0.16868898170361207+0j) [Z0 Z1]],\n",
       " 5: [(0.1744128761226159+0j) [Z2 Z3]],\n",
       " 6: [(-0.09706626816762878+0j) []],\n",
       " 7: [(-0.22343153690813558+0j) [Z3], (-0.045302615503799264+0j) [Y0 Y1 X2 X3]],\n",
       " 8: [(0.17141282644776892+0j) [Z1], (0.045302615503799264+0j) [Y0 X1 X2 Y3]],\n",
       " 9: [(-0.22343153690813564+0j) [Z2], (-0.045302615503799264+0j) [X0 X1 Y2 Y3]],\n",
       " 10: [(0.045302615503799264+0j) [X0 Y1 Y2 X3], (0.1714128264477689+0j) [Z0]]}"
      ]
     },
     "execution_count": 16,
     "metadata": {},
     "output_type": "execute_result"
    }
   ],
   "source": [
    "Hamiltonian_graph_obj = Openfermion_Hamiltonian_Graph(NewQubitHamiltonian_relabelled)\n",
    "\n",
    "commutativity_flag = 'AC' ## <- defines relationship between sets!!!\n",
    "plot_graph = False\n",
    "Graph_colouring_strategy='largest_first'\n",
    "anti_commuting_sets = Hamiltonian_graph_obj.Get_Clique_Cover_as_QubitOp(commutativity_flag, Graph_colouring_strategy=Graph_colouring_strategy, plot_graph=plot_graph)\n",
    "\n",
    "anti_commuting_sets"
   ]
  },
  {
   "cell_type": "code",
   "execution_count": 17,
   "metadata": {
    "code_folding": [
     1
    ]
   },
   "outputs": [],
   "source": [
    "from qiskit.extensions import UnitaryGate\n",
    "def Custom_gate_from_matrix(unitary_matrix, gate_label):\n",
    "    \n",
    "    return UnitaryGate(unitary_matrix, label='{}'.format(gate_label))\n"
   ]
  },
  {
   "cell_type": "code",
   "execution_count": null,
   "metadata": {},
   "outputs": [],
   "source": []
  },
  {
   "cell_type": "markdown",
   "metadata": {},
   "source": [
    "# convert everything to qiskit circuits!\n",
    "- note indexing goes from right to left in qiskit!"
   ]
  },
  {
   "cell_type": "markdown",
   "metadata": {},
   "source": [
    "https://qiskit.org/documentation/stubs/qiskit.circuit.QuantumCircuit.reverse_bits.html#qiskit.circuit.QuantumCircuit.reverse_bits"
   ]
  },
  {
   "cell_type": "code",
   "execution_count": 18,
   "metadata": {
    "code_folding": [
     1
    ]
   },
   "outputs": [],
   "source": [
    "from qiskit.quantum_info import Operator\n",
    "def Get_matrix_from_IBM_circuit(q_circuit):\n",
    "    # https://qiskit.org/documentation/stubs/qiskit.circuit.QuantumCircuit.reverse_bits.html#qiskit.circuit.QuantumCircuit.reverse_bits\n",
    "    reversed_bit_circuit = q_circuit.copy().reverse_bits()\n",
    "    return Operator(reversed_bit_circuit).data"
   ]
  },
  {
   "cell_type": "code",
   "execution_count": 19,
   "metadata": {},
   "outputs": [
    {
     "name": "stdout",
     "output_type": "stream",
     "text": [
      "           \n",
      "q0_0: ─────\n",
      "           \n",
      "q0_1: ─────\n",
      "      ┌───┐\n",
      "q0_2: ┤ Z ├\n",
      "      └───┘\n",
      "False\n",
      "True\n"
     ]
    }
   ],
   "source": [
    "# checking by reversing bit order in Q circuit\n",
    "op = QubitOperator('Z2', 1)\n",
    "NQ=3\n",
    "\n",
    "cirq_mat = get_sparse_operator(op, n_qubits=NQ).todense()\n",
    "q_regggg = QuantumRegister(NQ)\n",
    "ccc = QuantumCircuit(q_regggg)\n",
    "ccc.z(q_regggg[2])\n",
    "print(ccc.draw())\n",
    "\n",
    "op = Operator(ccc)\n",
    "IBM_mat = op.data\n",
    "print(np.allclose(IBM_mat, cirq_mat))\n",
    "\n",
    "# using function that reverses bit order of circuit!\n",
    "print(np.allclose(Get_matrix_from_IBM_circuit(ccc), cirq_mat))"
   ]
  },
  {
   "cell_type": "code",
   "execution_count": 20,
   "metadata": {
    "code_folding": [
     0
    ]
   },
   "outputs": [],
   "source": [
    "def HF_state_IBM_circuit(HF_state, q_register, q_circuit):\n",
    "    ## re-order IN REVERSE!!!!!!!!!!!!!! IMPORTANT!!!!!\n",
    "\n",
    "    for qNo, bit in enumerate(HF_state):\n",
    "        if bit == 1:\n",
    "            q_circuit.x(q_register[qNo])\n",
    "        elif bit == 0:\n",
    "            continue\n",
    "        else:\n",
    "            raise ValueError('HF state not binary: {}'.format(HF_state))\n",
    "\n",
    "    return q_circuit"
   ]
  },
  {
   "cell_type": "code",
   "execution_count": 21,
   "metadata": {},
   "outputs": [
    {
     "data": {
      "text/html": [
       "<pre style=\"word-wrap: normal;white-space: pre;background: #fff0;line-height: 1.1;font-family: &quot;Courier New&quot;,Courier,monospace\">      ┌───┐\n",
       "q1_0: ┤ X ├\n",
       "      ├───┤\n",
       "q1_1: ┤ X ├\n",
       "      └───┘\n",
       "q1_2: ─────\n",
       "           \n",
       "q1_3: ─────\n",
       "           </pre>"
      ],
      "text/plain": [
       "      ┌───┐\n",
       "q1_0: ┤ X ├\n",
       "      ├───┤\n",
       "q1_1: ┤ X ├\n",
       "      └───┘\n",
       "q1_2: ─────\n",
       "           \n",
       "q1_3: ─────\n",
       "           "
      ]
     },
     "execution_count": 21,
     "metadata": {},
     "output_type": "execute_result"
    }
   ],
   "source": [
    "q_reg = QuantumRegister(len(new_input_state))\n",
    "qcirc = QuantumCircuit(q_reg)\n",
    "qcirc = HF_state_IBM_circuit(new_input_state, q_reg, qcirc)\n",
    "qcirc.draw()"
   ]
  },
  {
   "cell_type": "markdown",
   "metadata": {},
   "source": [
    "\n",
    "From PHYS. REV. X, **8**, 031022 (2018):\n",
    "\n",
    "$$U = e^{-i \\theta Y_{0} X_{1} X_{2} X_{3}}$$\n",
    "\n",
    "- when acting on $| 1100 \\rangle_{HF-JW-STATE}$ \n",
    "\n",
    "$$U | \\psi_{HF}\\rangle = | \\psi_{UCCSD}\\rangle$$\n",
    "\n",
    "to do this in Q.C the following circuit is employed:"
   ]
  },
  {
   "cell_type": "code",
   "execution_count": 22,
   "metadata": {
    "code_folding": [
     0
    ]
   },
   "outputs": [],
   "source": [
    "from qiskit.extensions import UnitaryGate\n",
    "def My_Rz_gate(theta):\n",
    "    unitary_matrix = cirq.rz(theta)._unitary_()\n",
    "\n",
    "    return UnitaryGate(unitary_matrix, label='My_Rz({})'.format(np.around(theta, 3)))"
   ]
  },
  {
   "cell_type": "code",
   "execution_count": 23,
   "metadata": {
    "code_folding": [
     0
    ]
   },
   "outputs": [],
   "source": [
    "def exp_PauliWord_circuit_IBM(PauliWord, theta, q_register, q_circuit):\n",
    "    q_circuit = q_circuit.copy()\n",
    "    qubitNos, PauliStrs = zip(*list(*PauliWord.terms.keys()))\n",
    "\n",
    "    control_qubit = max(qubitNos)\n",
    "    min_qubit = min(qubitNos)\n",
    "\n",
    "    # change basis\n",
    "    for index, qNo in enumerate(qubitNos):\n",
    "        Pstr = PauliStrs[index]\n",
    "        qNo = int(qNo)\n",
    "        if Pstr == 'X':\n",
    "            q_circuit.h(q_register[qNo])\n",
    "        elif Pstr == 'Y':\n",
    "            q_circuit.rx((+np.pi / 2), q_register[qNo])\n",
    "        elif Pstr == 'Z':\n",
    "            continue\n",
    "        else:\n",
    "            raise ValueError('Not a PauliWord')\n",
    "\n",
    "    # entangle\n",
    "    for index, qNo in enumerate(qubitNos):\n",
    "        Pstr = PauliStrs[index]\n",
    "        qNo = int(qNo)\n",
    "        if qNo < control_qubit:\n",
    "            next_qubit = int(qubitNos[index + 1])\n",
    "            q_circuit.cx(q_register[qNo], q_register[next_qubit])\n",
    "\n",
    "    # rz\n",
    "    for index, qNo in enumerate(qubitNos):\n",
    "        Pstr = PauliStrs[index]\n",
    "        qNo = int(qNo)\n",
    "        if qNo == control_qubit:\n",
    "            cofactor = list(PauliWord.terms.values())[0]\n",
    "\n",
    "            if isinstance(cofactor, complex):\n",
    "                if cofactor.imag < 0:\n",
    "                    Rzgate = My_Rz_gate((2 * theta * np.abs(cofactor.imag)).real)\n",
    "                    q_circuit.append(Rzgate, [control_qubit])\n",
    "                #                     q_circuit.rz((2 * theta * np.abs(cofactor.imag)).real, q_register[control_qubit])\n",
    "                else:\n",
    "                    # times angle by negative one to get implementation\n",
    "                    Rzgate = My_Rz_gate((2 * theta * np.abs(cofactor.imag) * -1).real)\n",
    "                    q_circuit.append(Rzgate, [control_qubit])\n",
    "            #                     q_circuit.rz((2 * theta *  np.abs(cofactor.imag) *-1).real, q_register[control_qubit])\n",
    "            else:\n",
    "                raise ValueError('PauliWord needs complex part to exponentiate')\n",
    "\n",
    "    # entangle\n",
    "    for index, qNo in enumerate(qubitNos[::-1]):\n",
    "        qNo = int(qNo)\n",
    "        if min_qubit < qNo:\n",
    "            next_qubit = int(qubitNos[::-1][index + 1])\n",
    "            q_circuit.cx(q_register[next_qubit], q_register[qNo])\n",
    "\n",
    "        # undo basis change\n",
    "    for index, qNo in enumerate(qubitNos):\n",
    "        Pstr = PauliStrs[index]\n",
    "        qNo = int(qNo)\n",
    "        if Pstr == 'X':\n",
    "            q_circuit.h(q_register[qNo])\n",
    "        elif Pstr == 'Y':\n",
    "            q_circuit.rx((-np.pi / 2), q_register[qNo])\n",
    "        elif Pstr == 'Z':\n",
    "            continue\n",
    "\n",
    "    return q_circuit"
   ]
  },
  {
   "cell_type": "code",
   "execution_count": 24,
   "metadata": {},
   "outputs": [
    {
     "name": "stdout",
     "output_type": "stream",
     "text": [
      "      ┌───┐┌──────────┐                                             »\n",
      "q1_0: ┤ X ├┤ RX(pi/2) ├──■───────────────────────────────────────■──»\n",
      "      ├───┤└──┬───┬───┘┌─┴─┐                                   ┌─┴─┐»\n",
      "q1_1: ┤ X ├───┤ H ├────┤ X ├──■─────────────────────────────■──┤ X ├»\n",
      "      ├───┤   └───┘    └───┘┌─┴─┐                         ┌─┴─┐├───┤»\n",
      "q1_2: ┤ H ├─────────────────┤ X ├──■───────────────────■──┤ X ├┤ H ├»\n",
      "      ├───┤                 └───┘┌─┴─┐┌─────────────┐┌─┴─┐├───┤└───┘»\n",
      "q1_3: ┤ H ├──────────────────────┤ X ├┤ My_Rz(6.54) ├┤ X ├┤ H ├─────»\n",
      "      └───┘                      └───┘└─────────────┘└───┘└───┘     »\n",
      "«      ┌───────────┐\n",
      "«q1_0: ┤ RX(-pi/2) ├\n",
      "«      └───┬───┬───┘\n",
      "«q1_1: ────┤ H ├────\n",
      "«          └───┘    \n",
      "«q1_2: ─────────────\n",
      "«                   \n",
      "«q1_3: ─────────────\n",
      "«                   \n"
     ]
    },
    {
     "data": {
      "text/plain": [
       "array([-0.   +0.j,  0.   -0.j,  0.   -0.j, -0.992+0.j,  0.   -0.j,\n",
       "       -0.   +0.j, -0.   +0.j, -0.   -0.j,  0.   -0.j, -0.   -0.j,\n",
       "       -0.   +0.j, -0.   -0.j,  0.128-0.j, -0.   -0.j, -0.   +0.j,\n",
       "       -0.   +0.j])"
      ]
     },
     "execution_count": 24,
     "metadata": {},
     "output_type": "execute_result"
    }
   ],
   "source": [
    "ansatz_Op = QubitOperator('Y0 X1 X2 X3', -1j)\n",
    "theta=3.27\n",
    "circuit = exp_PauliWord_circuit_IBM(ansatz_Op, theta, q_reg, qcirc)\n",
    "print(circuit.draw())\n",
    "\n",
    "backend = Aer.get_backend('statevector_simulator')\n",
    "job = execute(circuit, backend)\n",
    "qc_state = job.result().get_statevector(circuit)\n",
    "np.around(qc_state, 3)"
   ]
  },
  {
   "cell_type": "code",
   "execution_count": null,
   "metadata": {},
   "outputs": [],
   "source": []
  },
  {
   "cell_type": "code",
   "execution_count": 27,
   "metadata": {
    "code_folding": [
     3
    ]
   },
   "outputs": [
    {
     "name": "stdout",
     "output_type": "stream",
     "text": [
      "0: ───X───Rx(0.5π)───@──────────────────────────────────────────────@───Rx(-0.5π)───\n",
      "                     │                                              │\n",
      "1: ───X───H──────────X───@──────────────────────────────────────@───X───H───────────\n",
      "                         │                                      │\n",
      "2: ───H──────────────────X───@──────────────────────────────@───X───H───────────────\n",
      "                             │                              │\n",
      "3: ───H──────────────────────X───Rz(-1.9180000000000001π)───X───H───────────────────\n",
      "checking IBM and cirq circuits: True\n"
     ]
    }
   ],
   "source": [
    "######### Ansatz circuit\n",
    "from quchem.Simulating_Quantum_Circuit import *\n",
    "from quchem.Ansatz_Generator_Functions import *\n",
    "def H2_ansatz(theta):\n",
    "    HF_circ = [cirq.X.on(cirq.LineQubit(0)), cirq.X.on(cirq.LineQubit(1))]\n",
    "    \n",
    "    full_exp_circ_obj = full_exponentiated_PauliWord_circuit(QubitOperator('Y0 X1 X2 X3', -1j), theta)\n",
    "    UCCSD_circ = cirq.Circuit(cirq.decompose_once((full_exp_circ_obj(*cirq.LineQubit.range(full_exp_circ_obj.num_qubits())))))\n",
    "    full_circuit = cirq.Circuit([*HF_circ, *UCCSD_circ.all_operations()])\n",
    "    \n",
    "    return full_circuit\n",
    "    \n",
    "cirq_circuit = H2_ansatz(theta)  \n",
    "print(cirq_circuit)\n",
    "\n",
    "if Molecule=='H2' and transformation=='JW':\n",
    "    matrix_IBM = Get_matrix_from_IBM_circuit(circuit)\n",
    "    print('checking IBM and cirq circuits:', np.allclose(cirq_circuit.unitary(), matrix_IBM))"
   ]
  },
  {
   "cell_type": "code",
   "execution_count": 28,
   "metadata": {},
   "outputs": [
    {
     "data": {
      "text/html": [
       "<pre style=\"word-wrap: normal;white-space: pre;background: #fff0;line-height: 1.1;font-family: &quot;Courier New&quot;,Courier,monospace\">      ┌───┐┌──────────┐                                              »\n",
       "q8_0: ┤ X ├┤ RX(pi/2) ├──■────────────────────────────────────────■──»\n",
       "      ├───┤└──┬───┬───┘┌─┴─┐                                    ┌─┴─┐»\n",
       "q8_1: ┤ X ├───┤ H ├────┤ X ├──■──────────────────────────────■──┤ X ├»\n",
       "      ├───┤   └───┘    └───┘┌─┴─┐                          ┌─┴─┐├───┤»\n",
       "q8_2: ┤ H ├─────────────────┤ X ├──■────────────────────■──┤ X ├┤ H ├»\n",
       "      ├───┤                 └───┘┌─┴─┐┌──────────────┐┌─┴─┐├───┤└───┘»\n",
       "q8_3: ┤ H ├──────────────────────┤ X ├┤ My_Rz(-0.24) ├┤ X ├┤ H ├─────»\n",
       "      └───┘                      └───┘└──────────────┘└───┘└───┘     »\n",
       "«      ┌───────────┐\n",
       "«q8_0: ┤ RX(-pi/2) ├\n",
       "«      └───┬───┬───┘\n",
       "«q8_1: ────┤ H ├────\n",
       "«          └───┘    \n",
       "«q8_2: ─────────────\n",
       "«                   \n",
       "«q8_3: ─────────────\n",
       "«                   </pre>"
      ],
      "text/plain": [
       "      ┌───┐┌──────────┐                                              »\n",
       "q8_0: ┤ X ├┤ RX(pi/2) ├──■────────────────────────────────────────■──»\n",
       "      ├───┤└──┬───┬───┘┌─┴─┐                                    ┌─┴─┐»\n",
       "q8_1: ┤ X ├───┤ H ├────┤ X ├──■──────────────────────────────■──┤ X ├»\n",
       "      ├───┤   └───┘    └───┘┌─┴─┐                          ┌─┴─┐├───┤»\n",
       "q8_2: ┤ H ├─────────────────┤ X ├──■────────────────────■──┤ X ├┤ H ├»\n",
       "      ├───┤                 └───┘┌─┴─┐┌──────────────┐┌─┴─┐├───┤└───┘»\n",
       "q8_3: ┤ H ├──────────────────────┤ X ├┤ My_Rz(-0.24) ├┤ X ├┤ H ├─────»\n",
       "      └───┘                      └───┘└──────────────┘└───┘└───┘     »\n",
       "«      ┌───────────┐\n",
       "«q8_0: ┤ RX(-pi/2) ├\n",
       "«      └───┬───┬───┘\n",
       "«q8_1: ────┤ H ├────\n",
       "«          └───┘    \n",
       "«q8_2: ─────────────\n",
       "«                   \n",
       "«q8_3: ─────────────\n",
       "«                   "
      ]
     },
     "execution_count": 28,
     "metadata": {},
     "output_type": "execute_result"
    }
   ],
   "source": [
    "q_reg = QuantumRegister(len(new_input_state))\n",
    "qcirc = QuantumCircuit(q_reg)\n",
    "qcirc = HF_state_IBM_circuit(new_input_state, q_reg, qcirc)\n",
    "\n",
    "ansatz_Op = QubitOperator('Y0 X1 X2 X3', 1j)\n",
    "theta=0.12\n",
    "perfect_ansatz_circ = exp_PauliWord_circuit_IBM(ansatz_Op, theta, q_reg, qcirc)\n",
    "perfect_ansatz_circ.draw()"
   ]
  },
  {
   "cell_type": "code",
   "execution_count": null,
   "metadata": {},
   "outputs": [],
   "source": []
  },
  {
   "cell_type": "code",
   "execution_count": 29,
   "metadata": {
    "code_folding": [
     0
    ]
   },
   "outputs": [],
   "source": [
    "def change_basis_for_Z_measure(PauliWord, q_register, q_circuit):\n",
    "    q_circuit = q_circuit.copy()\n",
    "\n",
    "    qubitNos, PauliStrs = zip(*list(*PauliWord.terms.keys()))\n",
    "\n",
    "    # change basis\n",
    "    for index, qNo in enumerate(qubitNos):\n",
    "        qNo = int(qNo)\n",
    "        Pstr = PauliStrs[index]\n",
    "        if Pstr == 'X':\n",
    "            q_circuit.h(q_register[qNo])\n",
    "\n",
    "        elif Pstr == 'Y':\n",
    "            q_circuit.rx((+np.pi / 2), q_register[qNo])\n",
    "\n",
    "        elif Pstr == 'Z':\n",
    "            continue\n",
    "\n",
    "        else:\n",
    "            raise ValueError('Not a PauliWord')\n",
    "\n",
    "    return q_circuit"
   ]
  },
  {
   "cell_type": "code",
   "execution_count": null,
   "metadata": {
    "code_folding": [
     0
    ]
   },
   "outputs": [],
   "source": [
    "# # REVERSE BITS!\n",
    "# def change_basis_for_Z_measure(PauliWord, q_register, q_circuit):\n",
    "    \n",
    "#     meas_circuit = QuantumCircuit(q_register)\n",
    "    \n",
    "\n",
    "#     qubitNos, PauliStrs = zip(*list(*PauliWord.terms.keys()))\n",
    "\n",
    "#     # change basis\n",
    "#     for index, qNo in enumerate(qubitNos):\n",
    "#         qNo = int(qNo)\n",
    "#         Pstr = PauliStrs[index]\n",
    "#         if Pstr == 'X':\n",
    "#             meas_circuit.h(q_register[qNo])\n",
    "\n",
    "#         elif Pstr == 'Y':\n",
    "#             meas_circuit.rx((+np.pi / 2), q_register[qNo])\n",
    "\n",
    "#         elif Pstr == 'Z':\n",
    "#             continue\n",
    "\n",
    "#         else:\n",
    "#             raise ValueError('Not a PauliWord')\n",
    "            \n",
    "#     meas_circuit = meas_circuit.reverse_bits()\n",
    "    \n",
    "#     return q_circuit.combine(meas_circuit)"
   ]
  },
  {
   "cell_type": "code",
   "execution_count": null,
   "metadata": {},
   "outputs": [],
   "source": []
  },
  {
   "cell_type": "code",
   "execution_count": 30,
   "metadata": {
    "code_folding": [
     0
    ]
   },
   "outputs": [],
   "source": [
    "def calc_exp_pauliword(count_dict, PauliWord):\n",
    "    # takes correct part of bitstring when all lines measured\n",
    "\n",
    "    qubitNos, PauliStrs = zip(*list(*PauliWord.terms.keys()))\n",
    "    n_zeros = 0\n",
    "    n_ones = 0\n",
    "\n",
    "    for bitstring in count_dict:\n",
    "        measure_term = np.take([int(bit) for bit in bitstring[::-1]], qubitNos) #reverse order here!\n",
    "\n",
    "        parity_m_term = sum(measure_term) % 2\n",
    "\n",
    "        if parity_m_term == 0:\n",
    "            n_zeros += count_dict[bitstring]\n",
    "        elif parity_m_term == 1:\n",
    "            n_ones += count_dict[bitstring]\n",
    "        else:\n",
    "            raise ValueError('state {} not allowed'.format(measure_term))\n",
    "\n",
    "    expectation_value = (n_zeros - n_ones) / (n_zeros + n_ones)\n",
    "\n",
    "    return expectation_value"
   ]
  },
  {
   "cell_type": "code",
   "execution_count": 31,
   "metadata": {
    "code_folding": [
     2,
     8
    ]
   },
   "outputs": [],
   "source": [
    "import qiskit\n",
    "\n",
    "def arb_state_initalize_circuit(state_to_prepare, q_register, q_circuit):\n",
    "    q_circuit=q_circuit.copy()\n",
    "    state_to_prepare = np.asarray(state_to_prepare)\n",
    "    q_circuit.initialize(state_to_prepare.tolist(), q_register)\n",
    "    return q_circuit\n",
    "\n",
    "def Get_Q_circ_to_build_state(arb_state,q_reg, qcirc, check_state=False):\n",
    "    # https://qiskit.org/documentation/_modules/qiskit/extensions/quantum_initializer/initializer.html\n",
    "\n",
    "    # assumes logical zero input state.\n",
    "    # gives quantum circuit to prepare state (use decompose to get standard gates)\n",
    "    # the qiskit.quantum_info.Operator function can be used to get the unitary matrix of the quantum circuit!\n",
    "\n",
    "    qcirc = arb_state_initalize_circuit(arb_state, q_reg, qcirc)\n",
    "    qcirc = qcirc.decompose()\n",
    "\n",
    "    # need to remove reset part of circuit\n",
    "    new_data = []\n",
    "    for index, tup in enumerate(qcirc.data):\n",
    "        op_type, _, _ = tup\n",
    "        if isinstance(op_type, qiskit.circuit.reset.Reset):\n",
    "            continue\n",
    "        else:\n",
    "            new_data.append(tup)\n",
    "    qcirc.data = new_data\n",
    "\n",
    "    if check_state:\n",
    "        backend = Aer.get_backend('statevector_simulator')\n",
    "        job = execute(qcirc, backend)\n",
    "        qc_state = job.result().get_statevector(qcirc)\n",
    "\n",
    "        if not np.allclose(qc_state, arb_state):\n",
    "            raise ValueError('Incorrect state being prepared')\n",
    "\n",
    "    return qcirc"
   ]
  },
  {
   "cell_type": "code",
   "execution_count": 32,
   "metadata": {
    "code_folding": []
   },
   "outputs": [
    {
     "data": {
      "application/vnd.jupyter.widget-view+json": {
       "model_id": "8ab95662bdde4c0091a86d2894698c13",
       "version_major": 2,
       "version_minor": 0
      },
      "text/plain": [
       "HBox(children=(FloatProgress(value=1.0, bar_style='info', description='performing VQE', max=1.0, style=Progres…"
      ]
     },
     "metadata": {},
     "output_type": "display_data"
    },
    {
     "name": "stdout",
     "output_type": "stream",
     "text": [
      "\n",
      "FCI expected = (-1.137283834488503+3.7121881080805557e-17j)\n",
      "measured E =  (-1.1368302156445558+0j)\n",
      "success: False\n"
     ]
    }
   ],
   "source": [
    "n_qubits = int(np.log2(len(ground_state_vector)))\n",
    "backend=Aer.get_backend('qasm_simulator')\n",
    "# n_shots=1024\n",
    "n_shots=100_000\n",
    "\n",
    "q_reg = QuantumRegister(n_qubits)\n",
    "qcirc = QuantumCircuit(q_reg)\n",
    "perfect_ansatz_circ=Get_Q_circ_to_build_state(ground_state_vector,\n",
    "                                              q_reg,\n",
    "                                              qcirc,\n",
    "                                              check_state=False)  \n",
    "\n",
    "perfect_ansatz_circ = perfect_ansatz_circ.reverse_bits() #reverse order here!\n",
    "\n",
    "E_list=[]\n",
    "# for qubitOp in NewQubitHamiltonian_relabelled:\n",
    "for qubitOp in tqdm(NewQubitHamiltonian_relabelled, ascii=True, desc='performing VQE'):\n",
    "    for PauliWord, const in qubitOp.terms.items():\n",
    "        if PauliWord:\n",
    "            full_circuit = change_basis_for_Z_measure(qubitOp,\n",
    "                                                      q_reg,\n",
    "                                                      perfect_ansatz_circ,\n",
    "                                                      )\n",
    "            full_circuit.measure_all()\n",
    "            \n",
    "#             print(qubitOp)\n",
    "#             print(full_circuit.draw())\n",
    "            \n",
    "            job = execute(full_circuit, backend, shots=n_shots)\n",
    "            result = job.result()\n",
    "            exp_counts_dict = result.get_counts(full_circuit)\n",
    "            \n",
    "            exp_val = calc_exp_pauliword(exp_counts_dict, qubitOp)\n",
    "            E_list.append(exp_val*const)\n",
    "        else:\n",
    "            E_list.append(const)\n",
    "\n",
    "print('FCI expected =', new_FCI_Energy)    \n",
    "print('measured E = ', sum(E_list))\n",
    "print('success:', np.allclose(sum(E_list), new_FCI_Energy))"
   ]
  },
  {
   "cell_type": "code",
   "execution_count": null,
   "metadata": {},
   "outputs": [],
   "source": []
  },
  {
   "cell_type": "code",
   "execution_count": 33,
   "metadata": {
    "code_folding": [
     1,
     34
    ]
   },
   "outputs": [
    {
     "name": "stdout",
     "output_type": "stream",
     "text": [
      "        ┌───┐\n",
      "q141_0: ┤ Y ├\n",
      "        ├───┤\n",
      "q141_1: ┤ I ├\n",
      "        ├───┤\n",
      "q141_2: ┤ X ├\n",
      "        └───┘\n"
     ]
    },
    {
     "data": {
      "text/plain": [
       "array([[0.+0.j, 0.+0.j, 0.+0.j, 0.+0.j, 0.+0.j, 0.-1.j, 0.+0.j, 0.+0.j],\n",
       "       [0.+0.j, 0.+0.j, 0.+0.j, 0.+0.j, 0.+1.j, 0.+0.j, 0.+0.j, 0.+0.j],\n",
       "       [0.+0.j, 0.+0.j, 0.+0.j, 0.+0.j, 0.+0.j, 0.+0.j, 0.+0.j, 0.-1.j],\n",
       "       [0.+0.j, 0.+0.j, 0.+0.j, 0.+0.j, 0.+0.j, 0.+0.j, 0.+1.j, 0.+0.j],\n",
       "       [0.+0.j, 0.-1.j, 0.+0.j, 0.+0.j, 0.+0.j, 0.+0.j, 0.+0.j, 0.+0.j],\n",
       "       [0.+1.j, 0.+0.j, 0.+0.j, 0.+0.j, 0.+0.j, 0.+0.j, 0.+0.j, 0.+0.j],\n",
       "       [0.+0.j, 0.+0.j, 0.+0.j, 0.-1.j, 0.+0.j, 0.+0.j, 0.+0.j, 0.+0.j],\n",
       "       [0.+0.j, 0.+0.j, 0.+1.j, 0.+0.j, 0.+0.j, 0.+0.j, 0.+0.j, 0.+0.j]])"
      ]
     },
     "execution_count": 33,
     "metadata": {},
     "output_type": "execute_result"
    }
   ],
   "source": [
    "from qiskit.circuit.library.standard_gates import XGate, YGate, ZGate\n",
    "def IBM_PauliWord(PauliOp, N_qubits, draw=False, reverse=False):\n",
    "    \n",
    "    \n",
    "    qubitNos, PauliStrs = zip(*list(*PauliOp.terms.keys()))\n",
    "    \n",
    "#     # re-order IN REVERSE!!!!!!!!!!!!!! IMPORTANT!!!!!\n",
    "#     relabel_dic = {index: qubitNo for index, qubitNo in enumerate(range(N_qubits)[::-1])}\n",
    "#     qubitNos = [relabel_dic[qNo] for qNo in qubitNos]\n",
    "#     idx = np.argsort(qubitNos)\n",
    "#     qubitNos = np.array(qubitNos)[idx].tolist()\n",
    "#     PauliStrs = np.array(PauliStrs)[idx].tolist()\n",
    "#     ## !!!!!!!!!!!!! IMPORTANT!!!!!\n",
    "    \n",
    "    q_register = QuantumRegister(N_qubits)\n",
    "    q_circuit = QuantumCircuit(q_register)\n",
    "    \n",
    "    for qNo in range(N_qubits):\n",
    "        if qNo in  qubitNos:\n",
    "            index=qubitNos.index(qNo)\n",
    "            Pstr = PauliStrs[index]\n",
    "            if Pstr == 'X':\n",
    "                q_circuit.x(q_register[qNo])\n",
    "            elif Pstr == 'Y':\n",
    "                q_circuit.y(q_register[qNo])\n",
    "            elif Pstr == 'Z':\n",
    "                q_circuit.z(q_register[qNo])\n",
    "            else:\n",
    "                raise ValueError('Not a Pauli {}'.format(Pstr))\n",
    "        else:\n",
    "            q_circuit.i(q_register[qNo])\n",
    "    \n",
    "    \n",
    "    \n",
    "    if reverse:\n",
    "        q_circuit=q_circuit.reverse_bits()\n",
    "        if draw:\n",
    "            print(q_circuit.draw())\n",
    "        return Operator(q_circuit).data\n",
    "    else:\n",
    "        if draw:\n",
    "            print(q_circuit.draw())\n",
    "        return Operator(q_circuit).data\n",
    "IBM_PauliWord(QubitOperator('Y0 X2', 1),3, draw=True, reverse=False)"
   ]
  },
  {
   "cell_type": "code",
   "execution_count": 34,
   "metadata": {
    "code_folding": [
     4
    ]
   },
   "outputs": [
    {
     "data": {
      "application/vnd.jupyter.widget-view+json": {
       "model_id": "aac84d95b6704f06adc3413b10034698",
       "version_major": 2,
       "version_minor": 0
      },
      "text/plain": [
       "HBox(children=(FloatProgress(value=1.0, bar_style='info', description='performing VQE', max=1.0, style=Progres…"
      ]
     },
     "metadata": {},
     "output_type": "display_data"
    },
    {
     "name": "stdout",
     "output_type": "stream",
     "text": [
      "\n",
      "FCI expected = (-1.137283834488503+3.7121881080805557e-17j)\n",
      "measured E =  (-1.1372838344885017+0j)\n",
      "success: True\n"
     ]
    }
   ],
   "source": [
    "# LINEAR ALG METHOD!\n",
    "\n",
    "q_reg = QuantumRegister(n_qubits)\n",
    "qcirc = QuantumCircuit(q_reg)\n",
    "perfect_ansatz_circ=Get_Q_circ_to_build_state(ground_state_vector,\n",
    "                                              q_reg,\n",
    "                                              qcirc,\n",
    "                                              check_state=False) \n",
    "\n",
    "perfect_ansatz_circ = perfect_ansatz_circ.reverse_bits() #reverse order here!\n",
    "\n",
    "backend = Aer.get_backend('statevector_simulator')\n",
    "job = execute(perfect_ansatz_circ, backend)\n",
    "ANSATZ_STATE = job.result().get_statevector(perfect_ansatz_circ)\n",
    "ANSATZ_bra = ANSATZ_STATE.conj().T\n",
    "\n",
    "\n",
    "E_list=[]\n",
    "# for qubitOp in NewQubitHamiltonian_relabelled:\n",
    "for qubitOp in tqdm(NewQubitHamiltonian_relabelled, ascii=True, desc='performing VQE'):\n",
    "    for PauliWord, const in qubitOp.terms.items():\n",
    "        if PauliWord:\n",
    "            Pauli_matrix = IBM_PauliWord(qubitOp, n_qubits, draw=False)\n",
    "\n",
    "            exp_val = np.dot(ANSATZ_bra, Pauli_matrix.dot(ANSATZ_STATE))\n",
    "            E_list.append(exp_val*const)\n",
    "        else:\n",
    "            E_list.append(const)\n",
    "\n",
    "print('FCI expected =', new_FCI_Energy)    \n",
    "print('measured E = ', sum(E_list))\n",
    "print('success:', np.allclose(sum(E_list), new_FCI_Energy))"
   ]
  },
  {
   "cell_type": "code",
   "execution_count": null,
   "metadata": {},
   "outputs": [],
   "source": []
  },
  {
   "cell_type": "code",
   "execution_count": 35,
   "metadata": {
    "code_folding": [
     0
    ]
   },
   "outputs": [],
   "source": [
    "def IBM_gate_from_matrix(unitary_matrix, q_circuit, gate_str=None):\n",
    "    \n",
    "    if isinstance(unitary_matrix, scipy.sparse.csc.csc_matrix):\n",
    "        unitary_matrix=unitary_matrix.toarray()\n",
    "    \n",
    "    \n",
    "    q_circuit=q_circuit.copy()\n",
    "    N_qubits = q_circuit.num_qubits\n",
    "    \n",
    "    if unitary_matrix.shape != (2**N_qubits, 2**N_qubits):\n",
    "        raise ValueError('defined matrix is incorrect dimention')\n",
    "    \n",
    "    qubit_list = [i for i in range(N_qubits)]\n",
    "    custom_gate = UnitaryGate(unitary_matrix, label='Custom Gate' if gate_str is None else '{}'.format(gate_str))\n",
    "    \n",
    "    del unitary_matrix\n",
    "    q_circuit.append(custom_gate, qubit_list)\n",
    "    return q_circuit"
   ]
  },
  {
   "cell_type": "code",
   "execution_count": null,
   "metadata": {
    "code_folding": [
     2
    ]
   },
   "outputs": [],
   "source": [
    "# from quchem.Unitary_partitioning_Seq_Rot import *\n",
    "# # REVERSE BITS!\n",
    "# def Build_reduction_circuit_seq_rot_IBM(anti_commuting_set, S_index, q_circuit,q_register, n_qubits, check_reduction=False):\n",
    "#     \"\"\"\n",
    "#     Function to build R_S (make up of all R_SK terms)\n",
    "\n",
    "#     Args:\n",
    "#         anti_commuting_set(list): list of anti commuting QubitOperators\n",
    "#         S_index(int): index for Ps in anti_commuting_set list\n",
    "#         check_reduction (optional, bool): use linear algebra to check that 𝑅s† 𝐻s 𝑅s == 𝑃s\n",
    "#     returns:\n",
    "#         full_RS_circuit(cirq.Circuit): Q_circuit for R_s operator\n",
    "#         Ps (QubitOperator): Pauli_S operator with cofactor of 1!\n",
    "#         gamma_l (float): normalization term\n",
    "\n",
    "#     \"\"\"\n",
    "#     q_circuit = q_circuit.copy()\n",
    "#     X_sk_theta_sk_list, full_normalised_set, Ps, gamma_l = Get_Xsk_op_list(anti_commuting_set, S_index)\n",
    "    \n",
    "#     seq_R_circuit= QuantumCircuit(q_register)\n",
    "#     for X_sk_Op, theta_sk in X_sk_theta_sk_list:\n",
    "\n",
    "#         pauliword_X_sk = list(X_sk_Op.terms.keys())[0]\n",
    "#         const_X_sk = list(X_sk_Op.terms.values())[0]\n",
    "\n",
    "#         seq_R_circuit = exp_PauliWord_circuit_IBM(QubitOperator(pauliword_X_sk, -1j), theta_sk/2*const_X_sk, q_register, seq_R_circuit)\n",
    "    \n",
    "    \n",
    "    \n",
    "#     seq_R_circuit=seq_R_circuit.reverse_bits() #reverse order here! (fully built first!)\n",
    "#     if check_reduction:\n",
    "\n",
    "#         H_S=QubitOperator()\n",
    "#         for op in full_normalised_set['PauliWords']:\n",
    "#             H_S+=op\n",
    "#         H_S_matrix=get_sparse_operator(H_S, n_qubits=n_qubits)\n",
    "        \n",
    "#         Ps_mat = get_sparse_operator(Ps, n_qubits=n_qubits)\n",
    "#         R_S_matrix= Operator(seq_R_circuit).data\n",
    "        \n",
    "#         reduction_mat = R_S_matrix.dot(H_S_matrix.dot(R_S_matrix.conj().transpose()))\n",
    "        \n",
    "#         if not (np.allclose(Ps_mat.todense(), reduction_mat)):\n",
    "# #         if not (np.allclose(Ps_mat.todense(), reduction_mat.todense())):\n",
    "#             print('reduction circuit incorrect...   𝑅s 𝐻s 𝑅s† != 𝑃s') \n",
    "# #     return q_circuit.combine(seq_R_circuit), Ps, gamma_l\n",
    "#     return seq_R_circuit, Ps, gamma_l"
   ]
  },
  {
   "cell_type": "code",
   "execution_count": 36,
   "metadata": {
    "code_folding": [
     2
    ]
   },
   "outputs": [],
   "source": [
    "from quchem.Unitary_partitioning_Seq_Rot import *\n",
    "\n",
    "def Build_reduction_circuit_seq_rot_IBM(anti_commuting_set, S_index, q_circuit,q_register, n_qubits, check_reduction=False):\n",
    "    \"\"\"\n",
    "    Function to build R_S (make up of all R_SK terms)\n",
    "\n",
    "    Args:\n",
    "        anti_commuting_set(list): list of anti commuting QubitOperators\n",
    "        S_index(int): index for Ps in anti_commuting_set list\n",
    "        check_reduction (optional, bool): use linear algebra to check that 𝑅s† 𝐻s 𝑅s == 𝑃s\n",
    "    returns:\n",
    "        full_RS_circuit(cirq.Circuit): Q_circuit for R_s operator\n",
    "        Ps (QubitOperator): Pauli_S operator with cofactor of 1!\n",
    "        gamma_l (float): normalization term\n",
    "\n",
    "    \"\"\"\n",
    "    q_circuit = q_circuit.copy()\n",
    "    X_sk_theta_sk_list, full_normalised_set, Ps, gamma_l = Get_Xsk_op_list(anti_commuting_set, S_index)\n",
    "    \n",
    "    seq_R_circuit= QuantumCircuit(q_register)\n",
    "    for X_sk_Op, theta_sk in X_sk_theta_sk_list:\n",
    "\n",
    "        pauliword_X_sk = list(X_sk_Op.terms.keys())[0]\n",
    "        const_X_sk = list(X_sk_Op.terms.values())[0]\n",
    "\n",
    "        seq_R_circuit = exp_PauliWord_circuit_IBM(QubitOperator(pauliword_X_sk, -1j), theta_sk/2*const_X_sk, q_register, seq_R_circuit)\n",
    "    \n",
    "    if check_reduction:\n",
    "\n",
    "        H_S=QubitOperator()\n",
    "        for op in full_normalised_set['PauliWords']:\n",
    "            H_S+=op\n",
    "        H_S_matrix=get_sparse_operator(H_S, n_qubits=n_qubits)\n",
    "        \n",
    "        Ps_mat = get_sparse_operator(Ps, n_qubits=n_qubits)\n",
    "        R_S_matrix= Get_matrix_from_IBM_circuit(seq_R_circuit)\n",
    "        \n",
    "        reduction_mat = R_S_matrix.dot(H_S_matrix.dot(R_S_matrix.conj().transpose()))\n",
    "        \n",
    "        if not (np.allclose(Ps_mat.todense(), reduction_mat)):\n",
    "#         if not (np.allclose(Ps_mat.todense(), reduction_mat.todense())):\n",
    "            print('reduction circuit incorrect...   𝑅s 𝐻s 𝑅s† != 𝑃s') \n",
    "#     return q_circuit.combine(seq_R_circuit), Ps, gamma_l\n",
    "    return seq_R_circuit, Ps, gamma_l"
   ]
  },
  {
   "cell_type": "code",
   "execution_count": null,
   "metadata": {},
   "outputs": [],
   "source": []
  },
  {
   "cell_type": "code",
   "execution_count": 37,
   "metadata": {},
   "outputs": [
    {
     "name": "stdout",
     "output_type": "stream",
     "text": [
      "[]\n"
     ]
    },
    {
     "data": {
      "text/html": [
       "<pre style=\"word-wrap: normal;white-space: pre;background: #fff0;line-height: 1.1;font-family: &quot;Courier New&quot;,Courier,monospace\">        \n",
       "q213_0: \n",
       "        \n",
       "q213_1: \n",
       "        \n",
       "q213_2: \n",
       "        \n",
       "q213_3: \n",
       "        </pre>"
      ],
      "text/plain": [
       "        \n",
       "q213_0: \n",
       "        \n",
       "q213_1: \n",
       "        \n",
       "q213_2: \n",
       "        \n",
       "q213_3: \n",
       "        "
      ]
     },
     "execution_count": 37,
     "metadata": {},
     "output_type": "execute_result"
    }
   ],
   "source": [
    "q_reg = QuantumRegister(n_qubits)\n",
    "qcirc = QuantumCircuit(q_reg)\n",
    "perfect_ansatz_circ=Get_Q_circ_to_build_state(ground_state_vector,\n",
    "                                              q_reg,\n",
    "                                              qcirc,\n",
    "                                              check_state=False)  #reverse order here!\n",
    "\n",
    "S_index=0\n",
    "set_key=3\n",
    "\n",
    "X_sk_theta_sk_list, full_normalised_set, Ps, gamma_l = Get_Xsk_op_list(anti_commuting_sets[set_key], S_index)\n",
    "print(X_sk_theta_sk_list)\n",
    "# print(Ps)\n",
    "\n",
    "xx, _, _=Build_reduction_circuit_seq_rot_IBM(anti_commuting_sets[set_key],\n",
    "                                    S_index,\n",
    "                                    perfect_ansatz_circ,\n",
    "                                    q_reg,\n",
    "                                    n_qubits,      \n",
    "                                    check_reduction=True)\n",
    "xx.draw()"
   ]
  },
  {
   "cell_type": "code",
   "execution_count": 38,
   "metadata": {},
   "outputs": [
    {
     "data": {
      "text/html": [
       "<pre style=\"overflow: auto; white-space: pre;\">0: ───I───\n",
       "\n",
       "1: ───I───\n",
       "\n",
       "2: ───I───\n",
       "\n",
       "3: ───I───</pre>"
      ],
      "text/plain": [
       "0: ───I───\n",
       "\n",
       "1: ───I───\n",
       "\n",
       "2: ───I───\n",
       "\n",
       "3: ───I───"
      ]
     },
     "execution_count": 38,
     "metadata": {},
     "output_type": "execute_result"
    }
   ],
   "source": [
    "## cirq check\n",
    "\n",
    "ansatz_cirq_circuit = cirq.Circuit([cirq.I.on(i) for i in cirq.LineQubit.range(n_qubits)])\n",
    "\n",
    "full_circuit, Ps, gamma_l = Generate_Full_Q_Circuit_Conj_NO_M_gates(ansatz_cirq_circuit, \n",
    "                                                         anti_commuting_sets[set_key], \n",
    "                                                         S_index, \n",
    "                                                         check_reduction=True)\n",
    "full_circuit"
   ]
  },
  {
   "cell_type": "code",
   "execution_count": 39,
   "metadata": {},
   "outputs": [
    {
     "data": {
      "text/plain": [
       "True"
      ]
     },
     "execution_count": 39,
     "metadata": {},
     "output_type": "execute_result"
    }
   ],
   "source": [
    "np.allclose(full_circuit.unitary(), Operator(xx.reverse_bits()).data)"
   ]
  },
  {
   "cell_type": "code",
   "execution_count": null,
   "metadata": {},
   "outputs": [],
   "source": []
  },
  {
   "cell_type": "code",
   "execution_count": 40,
   "metadata": {
    "code_folding": []
   },
   "outputs": [
    {
     "data": {
      "application/vnd.jupyter.widget-view+json": {
       "model_id": "01751109ffb14df2ab0edee8027a95ce",
       "version_major": 2,
       "version_minor": 0
      },
      "text/plain": [
       "HBox(children=(FloatProgress(value=0.0, description='performing VQE', max=11.0, style=ProgressStyle(descriptio…"
      ]
     },
     "metadata": {},
     "output_type": "display_data"
    },
    {
     "name": "stdout",
     "output_type": "stream",
     "text": [
      "\n",
      "FCI expected = (-1.137283834488503+3.7121881080805557e-17j)\n",
      "measured E =  (-1.137238203171067+0j)\n",
      "success: False\n"
     ]
    }
   ],
   "source": [
    "Seq_Rot_circuits=[]\n",
    "N_qubits = len(new_input_state)\n",
    "S_index=0\n",
    "check=True\n",
    "\n",
    "backend=Aer.get_backend('qasm_simulator')\n",
    "n_shots=10_000\n",
    "\n",
    "q_reg = QuantumRegister(n_qubits)\n",
    "qcirc = QuantumCircuit(q_reg)\n",
    "\n",
    "perfect_ansatz_circ=Get_Q_circ_to_build_state(ground_state_vector,\n",
    "                                              q_reg,\n",
    "                                              qcirc,\n",
    "                                              check_state=False) \n",
    "\n",
    "perfect_ansatz_circ = perfect_ansatz_circ.reverse_bits() #reverse order here!\n",
    "\n",
    "E_list=[]\n",
    "for set_key in tqdm(list(anti_commuting_sets.keys()), ascii=True, desc='performing VQE'):\n",
    "    anti_set_list= anti_commuting_sets[set_key]\n",
    "    if len(anti_set_list)>1:\n",
    "        \n",
    "        R_sl_circuit, Ps, gamma_l = Build_reduction_circuit_seq_rot_IBM(\n",
    "                                    anti_set_list,\n",
    "                                    S_index,\n",
    "                                    perfect_ansatz_circ,\n",
    "                                    q_reg,\n",
    "                                    N_qubits,      \n",
    "                                    check_reduction=check)\n",
    "        \n",
    "        \n",
    "#         R_sl_circuit = R_sl_circuit.reverse_bits() # reverse Rsl\n",
    "        combined_circuits = perfect_ansatz_circ.combine(R_sl_circuit)\n",
    "        \n",
    "        full_circuit = change_basis_for_Z_measure(Ps, \n",
    "                                                  q_reg,\n",
    "                                                  combined_circuits)\n",
    "        full_circuit.measure_all()\n",
    "        \n",
    "#         print(Ps)\n",
    "#         print(full_circuit.draw())\n",
    "\n",
    "        job = execute(full_circuit, backend, shots=n_shots)\n",
    "        result = job.result()\n",
    "        exp_counts_dict = result.get_counts(full_circuit)\n",
    "        \n",
    "        exp_val = calc_exp_pauliword(exp_counts_dict, Ps)\n",
    "        E_list.append(exp_val*gamma_l)\n",
    "        \n",
    "    else:\n",
    "        qubitOp = anti_set_list[0]\n",
    "        for PauliWord, const in qubitOp.terms.items():\n",
    "            if PauliWord:\n",
    "                full_circuit = change_basis_for_Z_measure(qubitOp, \n",
    "                                                          q_reg,\n",
    "                                                          perfect_ansatz_circ)\n",
    "                full_circuit.measure_all()\n",
    "\n",
    "                job = execute(full_circuit, backend, shots=n_shots)\n",
    "                result = job.result()\n",
    "                exp_counts_dict = result.get_counts(full_circuit)\n",
    "\n",
    "                exp_val = calc_exp_pauliword(exp_counts_dict, qubitOp)\n",
    "                E_list.append(exp_val*const)\n",
    "            else:\n",
    "                E_list.append(const)\n",
    "                \n",
    "print('FCI expected =', new_FCI_Energy)    \n",
    "print('measured E = ', sum(E_list))\n",
    "print('success:', np.allclose(sum(E_list), new_FCI_Energy))"
   ]
  },
  {
   "cell_type": "code",
   "execution_count": 41,
   "metadata": {},
   "outputs": [
    {
     "data": {
      "application/vnd.jupyter.widget-view+json": {
       "model_id": "ed6490034b0c4495bb35b59931d14cb4",
       "version_major": 2,
       "version_minor": 0
      },
      "text/plain": [
       "HBox(children=(FloatProgress(value=0.0, description='performing VQE', max=11.0, style=ProgressStyle(descriptio…"
      ]
     },
     "metadata": {},
     "output_type": "display_data"
    },
    {
     "name": "stdout",
     "output_type": "stream",
     "text": [
      "\n",
      "FCI expected = (-1.137283834488503+3.7121881080805557e-17j)\n",
      "measured E =  (-1.137283834488501+0j)\n",
      "success: True\n"
     ]
    }
   ],
   "source": [
    "# lin alg method!\n",
    "\n",
    "Seq_Rot_circuits=[]\n",
    "N_qubits = len(new_input_state)\n",
    "S_index=0\n",
    "check=True\n",
    "\n",
    "backend=Aer.get_backend('qasm_simulator')\n",
    "n_shots=10_000\n",
    "\n",
    "q_reg = QuantumRegister(n_qubits)\n",
    "qcirc = QuantumCircuit(q_reg)\n",
    "\n",
    "perfect_ansatz_circ=Get_Q_circ_to_build_state(ground_state_vector,\n",
    "                                              q_reg,\n",
    "                                              qcirc,\n",
    "                                              check_state=False) \n",
    "\n",
    "perfect_ansatz_circ = perfect_ansatz_circ.reverse_bits() #reverse order here!\n",
    "\n",
    "backend = Aer.get_backend('statevector_simulator')\n",
    "job = execute(perfect_ansatz_circ, backend)\n",
    "ANSATZ_STATE = job.result().get_statevector(perfect_ansatz_circ)\n",
    "ANSATZ_bra = ANSATZ_STATE.conj().T\n",
    "\n",
    "\n",
    "E_list=[]\n",
    "for set_key in tqdm(list(anti_commuting_sets.keys()), ascii=True, desc='performing VQE'):\n",
    "    anti_set_list= anti_commuting_sets[set_key]\n",
    "    if len(anti_set_list)>1:\n",
    "        \n",
    "        R_sl_circuit, Ps, gamma_l = Build_reduction_circuit_seq_rot_IBM(\n",
    "                                    anti_set_list,\n",
    "                                    S_index,\n",
    "                                    perfect_ansatz_circ,\n",
    "                                    q_reg,\n",
    "                                    N_qubits,      \n",
    "                                    check_reduction=check)\n",
    "        \n",
    "        \n",
    "#         R_sl_circuit=R_sl_circuit.reverse_bits()\n",
    "        R_sl = Operator(R_sl_circuit).data #may need to reverse bits!\n",
    "        Pauli_matrix = IBM_PauliWord(Ps, n_qubits, draw=False, reverse=False)\n",
    "        \n",
    "        post_Rsl_state = R_sl.dot(ANSATZ_STATE)\n",
    "        \n",
    "        exp_val = np.dot(post_Rsl_state.conj().T, Pauli_matrix.dot(post_Rsl_state))\n",
    "        E_list.append(exp_val*gamma_l)\n",
    "        \n",
    "    else:\n",
    "        qubitOp = anti_set_list[0]\n",
    "        for PauliWord, const in qubitOp.terms.items():\n",
    "            if PauliWord:\n",
    "                Pauli_matrix = IBM_PauliWord(qubitOp, n_qubits, draw=False, reverse=False)\n",
    "                exp_val = np.dot(ANSATZ_bra, Pauli_matrix.dot(ANSATZ_STATE))\n",
    "                E_list.append(exp_val*const)\n",
    "            else:\n",
    "                E_list.append(const)\n",
    "\n",
    "print('FCI expected =', new_FCI_Energy)    \n",
    "print('measured E = ', sum(E_list))\n",
    "print('success:', np.allclose(sum(E_list), new_FCI_Energy))"
   ]
  },
  {
   "cell_type": "code",
   "execution_count": null,
   "metadata": {},
   "outputs": [],
   "source": []
  },
  {
   "cell_type": "markdown",
   "metadata": {},
   "source": [
    "# LCU"
   ]
  },
  {
   "cell_type": "code",
   "execution_count": 42,
   "metadata": {},
   "outputs": [],
   "source": [
    "from quchem.Unitary_partitioning_LCU_method import *"
   ]
  },
  {
   "cell_type": "code",
   "execution_count": null,
   "metadata": {},
   "outputs": [],
   "source": [
    "\n",
    "No_control_qubits=1\n",
    "No_system_qubits=4\n",
    "\n",
    "R_corrected_Op_list = [QubitOperator('', 0.3020015943219484), QubitOperator('X0 Y1 X2 X3', 0.953307419999971)]\n",
    "R_corr_list = [1, -1j]\n",
    "Pn = QubitOperator('Y1', 1)\n",
    "\n",
    "\n",
    "\n",
    "R_circ_obj = LCU_R_gate(No_control_qubits, No_system_qubits, R_corrected_Op_list, R_corr_list, Pn)\n",
    "R_circ_circ = cirq.Circuit(\n",
    "cirq.decompose_once((R_circ_obj(*cirq.LineQubit.range(R_circ_obj.num_qubits())))))\n",
    "R_circ_circ"
   ]
  },
  {
   "cell_type": "code",
   "execution_count": 43,
   "metadata": {
    "code_folding": [
     0
    ]
   },
   "outputs": [],
   "source": [
    "def phase_Pauli_gate(Pstr, cofactor):\n",
    "    if Pstr == 'X':\n",
    "        unitary_matrix = cofactor * np.array([[0, 1], [1, 0]], dtype=complex)\n",
    "    elif Pstr == 'Y':\n",
    "        unitary_matrix = cofactor * np.array([[0, -1j], [1j, 0]], dtype=complex)\n",
    "    elif Pstr == 'Z':\n",
    "        unitary_matrix = cofactor * np.array([[1, 0], [0, -1]], dtype=complex)\n",
    "    else:\n",
    "        raise ValueError('P_str is not a Pauli')\n",
    "\n",
    "    return UnitaryGate(unitary_matrix, label='{}*{}'.format(cofactor, Pstr))"
   ]
  },
  {
   "cell_type": "code",
   "execution_count": 44,
   "metadata": {
    "code_folding": [
     1
    ]
   },
   "outputs": [],
   "source": [
    "from qiskit.circuit.library.standard_gates import XGate, YGate, ZGate\n",
    "def control_P_IBM(PauliOp, phase_correction, control_index, q_circuit, n_qubits, n_ancilla, list_measured_qubits=None):\n",
    "    \n",
    "    q_circuit = q_circuit.copy()\n",
    "    qubitNos, PauliStrs = zip(*list(*PauliOp.terms.keys()))\n",
    "    \n",
    "    control_indices_list = list(range(n_qubits, n_qubits+n_ancilla))\n",
    "    \n",
    "    if list_measured_qubits is None:\n",
    "        qubit_to_put_phase_on=0\n",
    "    else:\n",
    "        qubit_to_put_phase_on = list(set(qubitNos) & set(list_measured_qubits))[0]\n",
    "        \n",
    "    for index, qNo in enumerate(qubitNos):\n",
    "        qNo = int(qNo)\n",
    "        Pstr = PauliStrs[index]\n",
    "        \n",
    "        if qNo==qubit_to_put_phase_on:\n",
    "            phase_P = phase_Pauli_gate(Pstr, phase_correction).control(n_ancilla)\n",
    "            phase_P.num_ctrl_qubits =n_ancilla\n",
    "            phase_P.ctrl_state= control_index\n",
    "#             q_circuit.append(phase_P, [*[i for i in range(0, n_ancilla)],qNo])\n",
    "            q_circuit.append(phase_P, [*control_indices_list,qNo])\n",
    "        else:\n",
    "            if Pstr == 'X':\n",
    "                X_gate = XGate().control(n_ancilla)\n",
    "                X_gate.ctrl_state= control_index\n",
    "                q_circuit.append(X_gate, [*control_indices_list,qNo])\n",
    "#                 q_circuit.append(X_gate, [*[i for i in range(0, n_ancilla)],qNo])\n",
    "            elif Pstr == 'Y':\n",
    "                Y_gate = YGate().control(n_ancilla)\n",
    "                Y_gate.ctrl_state= control_index\n",
    "                q_circuit.append(Y_gate, [*control_indices_list,qNo])\n",
    "#                 q_circuit.append(Y_gate, [*[i for i in range(0, n_ancilla)],qNo])\n",
    "            elif Pstr == 'Z':\n",
    "                Z_gate = ZGate().control(n_ancilla)\n",
    "                Z_gate.ctrl_state= control_index\n",
    "                q_circuit.append(Z_gate, [*control_indices_list,qNo])\n",
    "#                 q_circuit.append(Z_gate, [*[i for i in range(0, n_ancilla)],qNo])\n",
    "            \n",
    "    return q_circuit"
   ]
  },
  {
   "cell_type": "code",
   "execution_count": null,
   "metadata": {},
   "outputs": [],
   "source": [
    "q_reg = QuantumRegister(No_control_qubits+No_system_qubits)\n",
    "qcirc = QuantumCircuit(q_reg)\n",
    "control_index=1\n",
    "list_qubits_to_measure, _ = zip(*list(*Pn.terms.keys()))\n",
    "print(list_qubits_to_measure)\n",
    "\n",
    "P = QubitOperator('X0 Y1 X2 X3', 1)\n",
    "phase = -1j\n",
    "\n",
    "xx =control_P_IBM(P, phase, control_index, qcirc, No_system_qubits, No_control_qubits, list_measured_qubits=list_qubits_to_measure)\n",
    "xx.draw()"
   ]
  },
  {
   "cell_type": "code",
   "execution_count": null,
   "metadata": {},
   "outputs": [],
   "source": [
    "np.allclose(R_circ_circ.unitary(), Operator(xx.reverse_bits()).data)"
   ]
  },
  {
   "cell_type": "code",
   "execution_count": null,
   "metadata": {},
   "outputs": [],
   "source": []
  },
  {
   "cell_type": "code",
   "execution_count": null,
   "metadata": {},
   "outputs": [],
   "source": []
  },
  {
   "cell_type": "code",
   "execution_count": null,
   "metadata": {},
   "outputs": [],
   "source": [
    "# ancilla_amplitudes= [np.sqrt(0.4), np.sqrt(0.3), np.sqrt(0.2), np.sqrt(0.1)]\n",
    "# ancilla_amplitudes= [np.sqrt(0.6), np.sqrt(0.4)]\n",
    "ancilla_amplitudes= [np.sqrt(0.1), np.sqrt(0.8), np.sqrt(0.1), 0]\n",
    "\n",
    "N_system_qubits=2\n",
    "\n",
    "ancilla_obj = prepare_arb_state(ancilla_amplitudes, N_system_qubits)\n",
    "ancilla_circ = ancilla_obj.Get_state_prep_Circuit()\n",
    "ancilla_circ"
   ]
  },
  {
   "cell_type": "code",
   "execution_count": null,
   "metadata": {},
   "outputs": [],
   "source": [
    "ancilla_circ.unitary()"
   ]
  },
  {
   "cell_type": "code",
   "execution_count": null,
   "metadata": {},
   "outputs": [],
   "source": [
    "q_reg_ancilla = QuantumRegister(np.log2(len(ancilla_amplitudes)))\n",
    "q_circ_ancilla = QuantumCircuit(q_reg_ancilla)\n",
    "\n",
    "G_circuit = Get_Q_circ_to_build_state(ancilla_amplitudes, q_reg_ancilla, q_circ_ancilla, check_state=True)\n",
    "print(G_circuit.draw())\n",
    "\n",
    "Get_matrix_from_IBM_circuit(G_circuit) # only require first column to be equal!"
   ]
  },
  {
   "cell_type": "code",
   "execution_count": null,
   "metadata": {},
   "outputs": [],
   "source": [
    "# note do not use Get_matrix_from_IBM_circuit here... Get_Q_circ_to_build_state doesn't need to be reversed!\n",
    "print('checking_first_row_equal =', np.allclose(Operator(G_circuit).data[:,0], ancilla_circ.unitary()[:,0]))"
   ]
  },
  {
   "cell_type": "code",
   "execution_count": null,
   "metadata": {},
   "outputs": [],
   "source": [
    "# backend = Aer.get_backend('statevector_simulator')\n",
    "# job = execute(G_circuit, backend)\n",
    "# qc_state = job.result().get_statevector(G_circuit)\n",
    "# np.allclose(qc_state, ancilla_amplitudes)"
   ]
  },
  {
   "cell_type": "code",
   "execution_count": null,
   "metadata": {},
   "outputs": [],
   "source": [
    "new_G=G_circuit.copy()\n",
    "new_G.measure_all()\n",
    "backend = Aer.get_backend('qasm_simulator')\n",
    "job = execute(new_G, backend, shots=1024)\n",
    "result = job.result()\n",
    "exp_counts_dict = result.get_counts(new_G)\n",
    "exp_counts_dict"
   ]
  },
  {
   "cell_type": "code",
   "execution_count": null,
   "metadata": {},
   "outputs": [],
   "source": [
    "meas_obj = Measure_PauliWord(QubitOperator('Z2 Z3', 1))\n",
    "meas_circ = cirq.Circuit( ancilla_circ, \n",
    "cirq.decompose_once((meas_obj(*cirq.LineQubit.range(meas_obj.num_qubits())))))\n",
    "print(meas_circ)\n",
    "\n",
    "simulator = cirq.Simulator()\n",
    "raw_result = simulator.run(meas_circ, repetitions=1024)\n",
    "histogram_string=Get_Histogram_key(QubitOperator('Z2 Z3', 1))\n",
    "hist_result = raw_result.histogram(key=histogram_string)\n",
    "Return_as_binary(hist_result, histogram_string)"
   ]
  },
  {
   "cell_type": "code",
   "execution_count": null,
   "metadata": {},
   "outputs": [],
   "source": [
    "ancilla_amplitudes"
   ]
  },
  {
   "cell_type": "code",
   "execution_count": 45,
   "metadata": {
    "code_folding": [
     0
    ]
   },
   "outputs": [
    {
     "name": "stdout",
     "output_type": "stream",
     "text": [
      "[(-0.22343153690813564+0j) [Z2], (-0.045302615503799264+0j) [X0 X1 Y2 Y3]]\n",
      "0.953307419999971 [X0 X1 X2 Y3]\n",
      "1 [X0 Y1 Y2 X3]\n"
     ]
    },
    {
     "data": {
      "text/html": [
       "<pre style=\"word-wrap: normal;white-space: pre;background: #fff0;line-height: 1.1;font-family: &quot;Courier New&quot;,Courier,monospace\">        ┌──────────────────┐┌───┐                                        \n",
       "q450_0: ┤3                 ├┤ X ├────────────────────────────────────────\n",
       "        │                  │└─┬─┘┌───┐                                   \n",
       "q450_1: ┤2                 ├──┼──┤ X ├───────────────────────────────────\n",
       "        │  disentangler_dg │  │  └─┬─┘┌──────┐                           \n",
       "q450_2: ┤1                 ├──┼────┼──┤ 1j*X ├───────────────────────────\n",
       "        │                  │  │    │  └──┬───┘┌───┐                      \n",
       "q450_3: ┤0                 ├──┼────┼─────┼────┤ Y ├──────────────────────\n",
       "        ├─────────────────┬┘  │    │     │    └─┬─┘┌────────────────────┐\n",
       "q504_0: ┤ disentangler_dg ├───■────■─────■──────■──┤ disentangler_dg_dg ├\n",
       "        └─────────────────┘                        └────────────────────┘</pre>"
      ],
      "text/plain": [
       "        ┌──────────────────┐┌───┐                                        \n",
       "q450_0: ┤3                 ├┤ X ├────────────────────────────────────────\n",
       "        │                  │└─┬─┘┌───┐                                   \n",
       "q450_1: ┤2                 ├──┼──┤ X ├───────────────────────────────────\n",
       "        │  disentangler_dg │  │  └─┬─┘┌──────┐                           \n",
       "q450_2: ┤1                 ├──┼────┼──┤ 1j*X ├───────────────────────────\n",
       "        │                  │  │    │  └──┬───┘┌───┐                      \n",
       "q450_3: ┤0                 ├──┼────┼─────┼────┤ Y ├──────────────────────\n",
       "        ├─────────────────┬┘  │    │     │    └─┬─┘┌────────────────────┐\n",
       "q504_0: ┤ disentangler_dg ├───■────■─────■──────■──┤ disentangler_dg_dg ├\n",
       "        └─────────────────┘                        └────────────────────┘"
      ]
     },
     "execution_count": 45,
     "metadata": {},
     "output_type": "execute_result"
    }
   ],
   "source": [
    "# LCU_circuits=[]\n",
    "N_qubits = len(new_input_state)\n",
    "N_index=0\n",
    "set_index=9\n",
    "\n",
    "print(anti_commuting_sets[set_index])\n",
    "\n",
    "backend=Aer.get_backend('qasm_simulator')\n",
    "n_shots=1024\n",
    "\n",
    "q_reg = QuantumRegister(n_qubits)\n",
    "qcirc = QuantumCircuit(q_reg)\n",
    "perfect_ansatz_circ=Get_Q_circ_to_build_state(ground_state_vector,\n",
    "                                              q_reg,\n",
    "                                              qcirc,\n",
    "                                              check_state=False) \n",
    "\n",
    "perfect_ansatz_circ = perfect_ansatz_circ.reverse_bits() #reverse order here!\n",
    "\n",
    "\n",
    "\n",
    "\n",
    "R_uncorrected, Pn, gamma_l = Get_R_op_list(anti_commuting_sets[set_index], N_index)\n",
    "R_corrected_Op_list, R_corr_list, ancilla_amplitudes, l1 = absorb_complex_phases(R_uncorrected)\n",
    "\n",
    "\n",
    "\n",
    "N_ancilla = int(np.ceil(np.log2(len(ancilla_amplitudes))))\n",
    "if len(ancilla_amplitudes)!= 2**N_ancilla:\n",
    "    n_missing = int(2**N_ancilla-len(ancilla_amplitudes))\n",
    "    missing_terms = [0 for _ in range(n_missing)]\n",
    "    ancilla_amplitudes = [*ancilla_amplitudes, *missing_terms]\n",
    "\n",
    "q_reg_ancilla = QuantumRegister(N_ancilla)\n",
    "q_circ_ancilla = QuantumCircuit(q_reg_ancilla)\n",
    "G_circuit = Get_Q_circ_to_build_state(ancilla_amplitudes, q_reg_ancilla, q_circ_ancilla)\n",
    "G_inverse=G_circuit.inverse()\n",
    "\n",
    "combined_circuits =perfect_ansatz_circ.combine(G_circuit)\n",
    "\n",
    "\n",
    "\n",
    "list_qubits_to_measure, _ = zip(*list(*Pn.terms.keys()))\n",
    "\n",
    "control_index=1\n",
    "combined_circuits =control_P_IBM(R_corrected_Op_list[1],\n",
    "                  R_corr_list[1],\n",
    "                  control_index,\n",
    "                  combined_circuits, \n",
    "                  n_qubits, \n",
    "                  N_ancilla,\n",
    "                  list_measured_qubits=list_qubits_to_measure)\n",
    "\n",
    "\n",
    "# R_circ_obj = LCU_R_gate(No_control_qubits, No_system_qubits, R_corrected_Op_list, R_corr_list, Pn)\n",
    "# R_circ_circ = cirq.Circuit(\n",
    "# cirq.decompose_once((R_circ_obj(*cirq.LineQubit.range(R_circ_obj.num_qubits())))))\n",
    "# print(R_circ_circ)\n",
    "\n",
    "combined_circuits=combined_circuits.combine(G_inverse)\n",
    "\n",
    "print(R_corrected_Op_list[1])\n",
    "\n",
    "full_circuit = change_basis_for_Z_measure(Pn, \n",
    "                                          q_reg,\n",
    "                                          combined_circuits)\n",
    "print(Ps)\n",
    "full_circuit.draw()"
   ]
  },
  {
   "cell_type": "code",
   "execution_count": 46,
   "metadata": {
    "code_folding": [
     0
    ]
   },
   "outputs": [],
   "source": [
    "def Get_post_selection_counts_LCU(list_of_measurements, N_ancilla):\n",
    "    # checks all zero state on ancilla line\n",
    "\n",
    "    new_counts={}\n",
    "    for binary_result_str in list_of_measurements:\n",
    "        ancilla_state = int(binary_result_str[:N_ancilla],2)\n",
    "        if ancilla_state==0:\n",
    "            post_select_m_binary = binary_result_str[N_ancilla:]\n",
    "            if post_select_m_binary in new_counts.keys():\n",
    "                new_counts[post_select_m_binary]+=1\n",
    "            else:\n",
    "                new_counts[post_select_m_binary]=1\n",
    "            \n",
    "        else:\n",
    "            continue\n",
    "\n",
    "    return new_counts"
   ]
  },
  {
   "cell_type": "code",
   "execution_count": 47,
   "metadata": {},
   "outputs": [
    {
     "data": {
      "text/plain": [
       "{'00': 1, '01': 1}"
      ]
     },
     "execution_count": 47,
     "metadata": {},
     "output_type": "execute_result"
    }
   ],
   "source": [
    "Get_post_selection_counts_LCU(['0000', '0001', '1100', '0111'], 2)"
   ]
  },
  {
   "cell_type": "code",
   "execution_count": 54,
   "metadata": {
    "code_folding": [
     78
    ]
   },
   "outputs": [
    {
     "data": {
      "application/vnd.jupyter.widget-view+json": {
       "model_id": "7e04dd19f79f4d0c9f57254586c4d308",
       "version_major": 2,
       "version_minor": 0
      },
      "text/plain": [
       "HBox(children=(FloatProgress(value=0.0, description='performing VQE', max=11.0, style=ProgressStyle(descriptio…"
      ]
     },
     "metadata": {},
     "output_type": "display_data"
    },
    {
     "name": "stdout",
     "output_type": "stream",
     "text": [
      "\n",
      "FCI expected = (-1.137283834488503+3.7121881080805557e-17j)\n",
      "measured E =  (-1.1372680141615952+0j)\n",
      "success: False\n"
     ]
    }
   ],
   "source": [
    "# LCU_circuits=[]\n",
    "N_qubits = len(new_input_state)\n",
    "N_index=0\n",
    "\n",
    "backend=Aer.get_backend('qasm_simulator')\n",
    "n_shots=100_000\n",
    "\n",
    "q_reg = QuantumRegister(n_qubits)\n",
    "qcirc = QuantumCircuit(q_reg)\n",
    "\n",
    "perfect_ansatz_circ=Get_Q_circ_to_build_state(ground_state_vector,\n",
    "                                              q_reg,\n",
    "                                              qcirc,\n",
    "                                              check_state=False) \n",
    "\n",
    "perfect_ansatz_circ = perfect_ansatz_circ.reverse_bits() #reverse order here!\n",
    "\n",
    "\n",
    "N_SYSTEM=int(np.log2(len(ground_state_vector)))\n",
    "E_list=[]\n",
    "for set_key in tqdm(list(anti_commuting_sets.keys()), ascii=True, desc='performing VQE'):\n",
    "    anti_set_list= anti_commuting_sets[set_key]\n",
    "    if len(anti_set_list)>1:\n",
    "\n",
    "        R_uncorrected, Pn, gamma_l = Get_R_op_list(anti_set_list, N_index)\n",
    "        R_corrected_Op_list, R_corr_list, ancilla_amplitudes, l1 = absorb_complex_phases(R_uncorrected)     \n",
    "              \n",
    "        N_ancilla = int(np.ceil(np.log2(len(ancilla_amplitudes))))\n",
    "        if len(ancilla_amplitudes)!= 2**N_ancilla:\n",
    "            n_missing = int(2**N_ancilla-len(ancilla_amplitudes))\n",
    "            missing_terms = [0 for _ in range(n_missing)]\n",
    "            ancilla_amplitudes = [*ancilla_amplitudes, *missing_terms]\n",
    "        \n",
    "        q_reg_ancilla = QuantumRegister(N_ancilla)\n",
    "        q_circ_ancilla = QuantumCircuit(q_reg_ancilla)\n",
    "        G_circuit = Get_Q_circ_to_build_state(ancilla_amplitudes, q_reg_ancilla, q_circ_ancilla)\n",
    "        G_inverse=G_circuit.inverse()\n",
    "        \n",
    "        # combine ancilla and system\n",
    "        combined_circuits =perfect_ansatz_circ.combine(G_circuit)\n",
    "               \n",
    "        \n",
    "        # find qubits that are measured!\n",
    "        Pn_qubitNos, _ = zip(*list(*Pn.terms.keys()))\n",
    "       \n",
    "        \n",
    "        for control_index, op in enumerate(R_corrected_Op_list):\n",
    "            phase_corr=R_corr_list[control_index]\n",
    "            for PauliW, Const in op.terms.items():\n",
    "                if PauliW:\n",
    "                    combined_circuits =control_P_IBM(op,\n",
    "                                              phase_corr,\n",
    "                                              control_index,\n",
    "                                              combined_circuits, \n",
    "                                              N_SYSTEM, \n",
    "                                              N_ancilla,\n",
    "                                              list_measured_qubits=Pn_qubitNos)\n",
    "                else:\n",
    "                    continue\n",
    "        \n",
    "        # G dag\n",
    "        combined_circuits=combined_circuits.combine(G_inverse)\n",
    "        \n",
    "        full_circuit = change_basis_for_Z_measure(Pn, \n",
    "                                                  q_reg,\n",
    "                                                  combined_circuits)\n",
    "        full_circuit.measure_all()\n",
    "        \n",
    "        \n",
    "        job = execute(full_circuit, backend, shots=n_shots, memory=True) # need memory for post_selection!\n",
    "        result = job.result()\n",
    "        list_of_results=result.get_memory(full_circuit)\n",
    "        \n",
    "        post_selected_dict = Get_post_selection_counts_LCU(list_of_results, N_ancilla)\n",
    "        \n",
    "        exp_val = calc_exp_pauliword(post_selected_dict, Pn)\n",
    "        E_list.append(exp_val*gamma_l)\n",
    "        \n",
    "    else:\n",
    "        qubitOp = anti_set_list[0]\n",
    "        for PauliWord, const in qubitOp.terms.items():\n",
    "            if PauliWord:\n",
    "                full_circuit = change_basis_for_Z_measure(qubitOp, \n",
    "                                                          q_reg,\n",
    "                                                          perfect_ansatz_circ)\n",
    "                full_circuit.measure_all()\n",
    "\n",
    "                job = execute(full_circuit, backend, shots=n_shots)\n",
    "                result = job.result()\n",
    "                exp_counts_dict = result.get_counts(full_circuit)\n",
    "\n",
    "                exp_val = calc_exp_pauliword(exp_counts_dict, qubitOp)\n",
    "                E_list.append(exp_val*const)\n",
    "            else:\n",
    "                E_list.append(const)\n",
    "\n",
    "print('FCI expected =', new_FCI_Energy)    \n",
    "print('measured E = ', sum(E_list))\n",
    "print('success:', np.allclose(sum(E_list), new_FCI_Energy))"
   ]
  },
  {
   "cell_type": "code",
   "execution_count": null,
   "metadata": {},
   "outputs": [],
   "source": []
  },
  {
   "cell_type": "code",
   "execution_count": 50,
   "metadata": {
    "code_folding": [
     0
    ]
   },
   "outputs": [],
   "source": [
    "def POVM_LCU(n_system_q, n_ancilla_q, system_ancilla_output_ket):\n",
    "    # state_vector_simulator the state is given as (ancilla X_kron system)\n",
    "    \n",
    "    full_density_matrix = np.outer(system_ancilla_output_ket, system_ancilla_output_ket)\n",
    "    \n",
    "    I_system_operator = np.eye((2**n_system_q))\n",
    "    \n",
    "    ancilla_0_state = np.eye(2**n_ancilla_q)[0,:]\n",
    "    ancilla_0_projector = np.outer(ancilla_0_state, ancilla_0_state)\n",
    "    \n",
    "    POVM_0_ancilla = np.kron(ancilla_0_projector, I_system_operator)\n",
    "    Kraus_Op_0 = POVM_0_ancilla.copy()\n",
    "    \n",
    "    term = Kraus_Op_0.dot(full_density_matrix.dot(Kraus_Op_0.transpose().conj()))\n",
    "    projected_density_matrix = term/np.trace(term) # projected into correct space using POVM ancilla measurement!\n",
    "    \n",
    "#     ## Next get partial density matrix over system qubits # aka partial trace!\n",
    "#     # https://scicomp.stackexchange.com/questions/27496/calculating-partial-trace-of-array-in-numpy\n",
    "#     # reshape to do the partial trace easily using np.einsum\n",
    "    \n",
    "#     reshaped_dm = projected_density_matrix.reshape([2 ** n_system_q, 2 ** n_ancilla_q,\n",
    "#                                                     2 ** n_system_q, 2 ** n_ancilla_q])\n",
    "#     reduced_dm = np.einsum('jiki->jk', reshaped_dm)\n",
    "    \n",
    "    \n",
    "    # p_a = sum_{b} (I_{a}*<b|) p_{ab} (I_{a}*|b>)\n",
    "    basis_ancilla = np.eye((2 ** n_ancilla_q))\n",
    "    reduced_dm = np.zeros((2 ** n_system_q, 2 ** n_system_q), dtype=complex)\n",
    "    for b in range(basis_ancilla.shape[0]):\n",
    "        b_ket = basis_ancilla[b, :].reshape([2 ** n_ancilla_q, 1])\n",
    "        I_a_b_ket = np.kron(b_ket, I_system_operator)\n",
    "#         I_a_b_ket = np.kron(I_system_operator, b_ket)\n",
    "        I_a_b_bra = I_a_b_ket.transpose().conj()\n",
    "\n",
    "        term = I_a_b_bra.dot(projected_density_matrix.dot(I_a_b_ket))\n",
    "        reduced_dm += term\n",
    "    \n",
    "    \n",
    "    return reduced_dm"
   ]
  },
  {
   "cell_type": "code",
   "execution_count": 55,
   "metadata": {
    "code_folding": []
   },
   "outputs": [
    {
     "data": {
      "application/vnd.jupyter.widget-view+json": {
       "model_id": "95b9ed247e1d4c5fa2bfb6dbec1e6f83",
       "version_major": 2,
       "version_minor": 0
      },
      "text/plain": [
       "HBox(children=(FloatProgress(value=0.0, description='performing VQE', max=11.0, style=ProgressStyle(descriptio…"
      ]
     },
     "metadata": {},
     "output_type": "display_data"
    },
    {
     "name": "stdout",
     "output_type": "stream",
     "text": [
      "(-0.9996744019687643-4.826200566250184e-18j)\n",
      "(-0.9994616002448109+4.723125160811947e-18j)\n",
      "(-0.9996744019687644-3.6464503205124436e-18j)\n",
      "(-0.999461600244811-6.807272115397356e-17j)\n",
      "\n",
      "FCI expected = (-1.137283834488503+3.7121881080805557e-17j)\n",
      "measured E =  (-1.1372838344885015-1.3163353307091132e-17j)\n",
      "success: True\n"
     ]
    }
   ],
   "source": [
    "# LCU_circuits=[]\n",
    "N_qubits = len(new_input_state)\n",
    "N_index=0\n",
    "\n",
    "backend=Aer.get_backend('qasm_simulator')\n",
    "n_shots=10_000\n",
    "\n",
    "q_reg = QuantumRegister(n_qubits)\n",
    "qcirc = QuantumCircuit(q_reg)\n",
    "\n",
    "perfect_ansatz_circ=Get_Q_circ_to_build_state(ground_state_vector,\n",
    "                                              q_reg,\n",
    "                                              qcirc,\n",
    "                                              check_state=False) \n",
    "\n",
    "perfect_ansatz_circ = perfect_ansatz_circ.reverse_bits() #reverse order here!\n",
    "\n",
    "\n",
    "backend = Aer.get_backend('statevector_simulator')\n",
    "job = execute(perfect_ansatz_circ, backend)\n",
    "ANSATZ_STATE = job.result().get_statevector(perfect_ansatz_circ)\n",
    "ANSATZ_bra = ANSATZ_STATE.conj().T\n",
    "\n",
    "\n",
    "E_list=[]\n",
    "for set_key in tqdm(list(anti_commuting_sets.keys()), ascii=True, desc='performing VQE'):\n",
    "    anti_set_list= anti_commuting_sets[set_key]\n",
    "    if len(anti_set_list)>1:\n",
    "\n",
    "        R_uncorrected, Pn, gamma_l = Get_R_op_list(anti_set_list, N_index)\n",
    "        R_corrected_Op_list, R_corr_list, ancilla_amplitudes, l1 = absorb_complex_phases(R_uncorrected)     \n",
    "              \n",
    "        N_ancilla = int(np.ceil(np.log2(len(ancilla_amplitudes))))\n",
    "        if len(ancilla_amplitudes)!= 2**N_ancilla:\n",
    "            n_missing = int(2**N_ancilla-len(ancilla_amplitudes))\n",
    "            missing_terms = [0 for _ in range(n_missing)]\n",
    "            ancilla_amplitudes = [*ancilla_amplitudes, *missing_terms]\n",
    "        \n",
    "        q_reg_ancilla = QuantumRegister(N_ancilla)\n",
    "        q_circ_ancilla = QuantumCircuit(q_reg_ancilla)\n",
    "        G_circuit = Get_Q_circ_to_build_state(ancilla_amplitudes, q_reg_ancilla, q_circ_ancilla)\n",
    "        G_inverse=G_circuit.inverse()\n",
    "        \n",
    "        # combine ancilla and system\n",
    "        combined_circuits =perfect_ansatz_circ.combine(G_circuit)\n",
    "               \n",
    "        \n",
    "        # find qubits that are measured!\n",
    "        Pn_qubitNos, _ = zip(*list(*Pn.terms.keys()))\n",
    "       \n",
    "        \n",
    "        for control_index, op in enumerate(R_corrected_Op_list):\n",
    "            phase_corr=R_corr_list[control_index]\n",
    "            for PauliW, Const in op.terms.items():\n",
    "                if PauliW:\n",
    "                    combined_circuits =control_P_IBM(op,\n",
    "                                              phase_corr,\n",
    "                                              control_index,\n",
    "                                              combined_circuits, \n",
    "                                              N_SYSTEM, \n",
    "                                              N_ancilla,\n",
    "                                              list_measured_qubits=Pn_qubitNos)\n",
    "                else:\n",
    "                    continue\n",
    "        \n",
    "        # G dag\n",
    "        combined_circuits=combined_circuits.combine(G_inverse)\n",
    "#         combined_circuits=combined_circuits.reverse_bits()\n",
    "        \n",
    "       \n",
    "#         print(combined_circuits.draw())\n",
    "        job = execute(combined_circuits, backend)\n",
    "        ANSATZ_and_ANCILLA = job.result().get_statevector(combined_circuits)\n",
    "       \n",
    "        \n",
    "        partial_density_matrix = POVM_LCU(n_qubits, N_ancilla, ANSATZ_and_ANCILLA)\n",
    "        \n",
    "        Pn_system_only = IBM_PauliWord(Pn, n_qubits, draw=False, reverse=False)\n",
    "#         print(Pn_system_only.shape)\n",
    "#         print(partial_density_matrix.shape)\n",
    "        energy = np.trace(partial_density_matrix.dot(Pn_system_only))\n",
    "        print(energy)\n",
    "        E_list.append(energy * gamma_l)\n",
    "        \n",
    "    else:\n",
    "        qubitOp = anti_set_list[0]\n",
    "        for PauliWord, const in qubitOp.terms.items():\n",
    "            if PauliWord:\n",
    "                Pauli_matrix = IBM_PauliWord(qubitOp, n_qubits, draw=False, reverse=False)\n",
    "                exp_val = np.dot(ANSATZ_bra, Pauli_matrix.dot(ANSATZ_STATE))\n",
    "                E_list.append(exp_val*const)\n",
    "            else:\n",
    "                E_list.append(const)\n",
    "\n",
    "print('FCI expected =', new_FCI_Energy)    \n",
    "print('measured E = ', sum(E_list))\n",
    "print('success:', np.allclose(sum(E_list), new_FCI_Energy))"
   ]
  },
  {
   "cell_type": "code",
   "execution_count": null,
   "metadata": {},
   "outputs": [],
   "source": []
  },
  {
   "cell_type": "code",
   "execution_count": null,
   "metadata": {},
   "outputs": [],
   "source": []
  },
  {
   "cell_type": "code",
   "execution_count": null,
   "metadata": {
    "code_folding": []
   },
   "outputs": [],
   "source": []
  },
  {
   "cell_type": "code",
   "execution_count": null,
   "metadata": {},
   "outputs": [],
   "source": []
  }
 ],
 "metadata": {
  "kernelspec": {
   "display_name": "Python 3",
   "language": "python",
   "name": "python3"
  },
  "language_info": {
   "codemirror_mode": {
    "name": "ipython",
    "version": 3
   },
   "file_extension": ".py",
   "mimetype": "text/x-python",
   "name": "python",
   "nbconvert_exporter": "python",
   "pygments_lexer": "ipython3",
   "version": "3.7.6"
  }
 },
 "nbformat": 4,
 "nbformat_minor": 4
}
