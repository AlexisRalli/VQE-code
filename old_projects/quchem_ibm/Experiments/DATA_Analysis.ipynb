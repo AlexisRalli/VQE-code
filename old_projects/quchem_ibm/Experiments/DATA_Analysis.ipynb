{
 "cells": [
  {
   "cell_type": "code",
   "execution_count": 88,
   "metadata": {},
   "outputs": [],
   "source": [
    "import pickle\n",
    "import os\n"
   ]
  },
  {
   "cell_type": "code",
   "execution_count": 277,
   "metadata": {},
   "outputs": [],
   "source": [
    "# # input for exp\n",
    "# base_dir = os.getcwd()\n",
    "# data_dir = os.path.join(base_dir, 'Input_data')\n",
    "# input_file = os.path.join(data_dir, 'H2_bravyi_kitaev_2_qubit_experiment_time=2020Sep21-162239536536.pickle')\n",
    "# with open(input_file, 'rb') as handle:\n",
    "#     input_data = pickle.load(handle)\n"
   ]
  },
  {
   "cell_type": "code",
   "execution_count": null,
   "metadata": {
    "code_folding": [
     0
    ]
   },
   "outputs": [],
   "source": [
    "# # ### LOAD DATA\n",
    "\n",
    "\n",
    "# # seq rot\n",
    "# base_dir = os.getcwd()\n",
    "# data_dir = os.path.join(base_dir, 'Data')\n",
    "# sim_dir = os.path.join(data_dir, 'simulator')\n",
    "# output_file = os.path.join(sim_dir, 'molecule=H2___n_shots=8190.0___method=seq_rot_VQE___time=2020Sep21-162446389877.pickle')\n",
    "# with open(output_file, 'rb') as handle:\n",
    "#     output_data = pickle.load(handle)\n",
    "\n",
    "\n",
    "# # # LCU\n",
    "# # base_dir = os.getcwd()\n",
    "# # data_dir = os.path.join(base_dir, 'Data')\n",
    "# # sim_dir = os.path.join(data_dir, 'simulator')\n",
    "# # output_file = os.path.join(sim_dir, 'method=LCU___time=2020Sep21-153600259987.pickle')\n",
    "# # with open(output_file, 'rb') as handle:\n",
    "# #     output_data = pickle.load(handle)\n",
    "\n",
    "# # # standard VQE\n",
    "# # base_dir = os.getcwd()\n",
    "# # data_dir = os.path.join(base_dir, 'Data')\n",
    "# # sim_dir = os.path.join(data_dir, 'simulator')\n",
    "# # output_file = os.path.join(sim_dir, 'method=standard_VQE___time=2020Sep21-155354364092.pickle')\n",
    "# # with open(output_file, 'rb') as handle:\n",
    "# #     output_data = pickle.load(handle)"
   ]
  },
  {
   "cell_type": "code",
   "execution_count": 237,
   "metadata": {},
   "outputs": [],
   "source": [
    "# ### LOAD DATA\n",
    "\n",
    "\n",
    "# # seq rot \n",
    "base_dir = os.getcwd()\n",
    "data_dir = os.path.join(base_dir, 'Data')\n",
    "dev_dir = os.path.join(data_dir, 'device')\n",
    "Run_1_dir = os.path.join(dev_dir, 'Run_1')\n",
    "output_file = os.path.join(Run_1_dir, 'molecule=H2___n_shots=8190.0___method=seq_rot_VQE___time=2020Sep22-085203081773.pickle')\n",
    "with open(output_file, 'rb') as handle:\n",
    "    output_data = pickle.load(handle)\n",
    "\n",
    "# # standard VQE\n",
    "# base_dir = os.getcwd()\n",
    "# data_dir = os.path.join(base_dir, 'Data')\n",
    "# sim_dir = os.path.join(data_dir, 'simulator')\n",
    "# output_file = os.path.join(sim_dir, 'method=standard_VQE___time=2020Sep21-155354364092.pickle')\n",
    "# with open(output_file, 'rb') as handle:\n",
    "#     output_data = pickle.load(handle)"
   ]
  },
  {
   "cell_type": "code",
   "execution_count": 107,
   "metadata": {},
   "outputs": [
    {
     "data": {
      "text/plain": [
       "['start_time',\n",
       " 'end_time',\n",
       " 'method',\n",
       " 'n_shots',\n",
       " 'I_term',\n",
       " 'q_circuit_list',\n",
       " 'SIM_transpiled_q_circuit_list',\n",
       " 'experiment_dict',\n",
       " 'SIM_count_list_raw',\n",
       " 'jobID',\n",
       " 'EXP_transpiled_q_circuit_list',\n",
       " 'EXP_backend',\n",
       " 'EXP_count_list_raw',\n",
       " 'standard_measurement_filter']"
      ]
     },
     "execution_count": 107,
     "metadata": {},
     "output_type": "execute_result"
    }
   ],
   "source": [
    "list(output_data.keys())"
   ]
  },
  {
   "cell_type": "code",
   "execution_count": 84,
   "metadata": {},
   "outputs": [
    {
     "data": {
      "text/plain": [
       "{'start_time': datetime.datetime(2020, 9, 21, 16, 24, 46, 358109),\n",
       " 'end_time': datetime.datetime(2020, 9, 21, 16, 24, 46, 358602),\n",
       " 'method': 'seq_rot_VQE',\n",
       " 'n_shots': 8190.0,\n",
       " 'I_term': (0.2460355896585992+0j),\n",
       " 'q_circuit_list': [<qiskit.circuit.quantumcircuit.QuantumCircuit at 0x7f109ef6fe90>,\n",
       "  <qiskit.circuit.quantumcircuit.QuantumCircuit at 0x7f109ee77cd0>,\n",
       "  <qiskit.circuit.quantumcircuit.QuantumCircuit at 0x7f109ee7f490>],\n",
       " 'SIM_transpiled_q_circuit_list': [<qiskit.circuit.quantumcircuit.QuantumCircuit at 0x7f109eef9ed0>,\n",
       "  <qiskit.circuit.quantumcircuit.QuantumCircuit at 0x7f109eea3a50>,\n",
       "  <qiskit.circuit.quantumcircuit.QuantumCircuit at 0x7f109eea3d50>],\n",
       " 'experiment_dict': [{'circuit': <qiskit.circuit.quantumcircuit.QuantumCircuit at 0x7f109ef6fe90>,\n",
       "   'coeff': (0.5731061703432151+0j),\n",
       "   'qubitOp': (0.5731061703432151+0j) [Z0 Z1]},\n",
       "  {'circuit': <qiskit.circuit.quantumcircuit.QuantumCircuit at 0x7f109ee77cd0>,\n",
       "   'gamma_l': (0.455956044621043+0j),\n",
       "   'Ps': 1 [Z1]},\n",
       "  {'circuit': <qiskit.circuit.quantumcircuit.QuantumCircuit at 0x7f109ee7f490>,\n",
       "   'gamma_l': (0.35459658228639496+0j),\n",
       "   'Ps': 1 [Z0]}],\n",
       " 'SIM_count_list_raw': [{'01': 8069, '10': 121},\n",
       "  {'01': 3, '10': 8187},\n",
       "  {'01': 8185, '10': 5}]}"
      ]
     },
     "execution_count": 84,
     "metadata": {},
     "output_type": "execute_result"
    }
   ],
   "source": [
    "output_data"
   ]
  },
  {
   "cell_type": "code",
   "execution_count": 238,
   "metadata": {
    "code_folding": [
     2
    ]
   },
   "outputs": [],
   "source": [
    "from quchem_ibm.Qiskit_Chemistry import *\n",
    "\n",
    "def Calc_Energy_seq_rot(experimental_count_list, simulated_count_list, list_experiment_dicts, I_term, standard_meas_filter):\n",
    "    \n",
    "    E_raw_list=[I_term]\n",
    "    E_sim_list=[I_term]\n",
    "    E_mit_list=[I_term]\n",
    "    \n",
    "    for index, exp_dict in enumerate(list_experiment_dicts):\n",
    "        \n",
    "        exp_counts_dict=experimental_count_list[index]\n",
    "        simulated_counts=simulated_count_list[index]\n",
    "        meas_mit_counts= standard_meas_filter.apply(exp_counts_dict)\n",
    "        if 'Ps' in exp_dict.keys():\n",
    "            Ps=exp_dict['Ps']\n",
    "            gamma_l = exp_dict['gamma_l']\n",
    "            \n",
    "            # raw\n",
    "            exp_val = calc_exp_pauliword(exp_counts_dict, Ps)\n",
    "            E_raw_list.append(exp_val*gamma_l)\n",
    "            \n",
    "            # sim\n",
    "            exp_val_sim = calc_exp_pauliword(simulated_counts, Ps)\n",
    "            E_sim_list.append(exp_val_sim*gamma_l)\n",
    "            \n",
    "            # mitigated\n",
    "            exp_val_mit = calc_exp_pauliword(meas_mit_counts,Ps)\n",
    "            E_mit_list.append(exp_val_mit*gamma_l)\n",
    "        else:\n",
    "            qubitOp=exp_dict['qubitOp']\n",
    "            coeff = exp_dict['coeff']\n",
    "            \n",
    "            # raw\n",
    "            exp_val = calc_exp_pauliword(exp_counts_dict, qubitOp)\n",
    "            E_raw_list.append(exp_val*coeff)\n",
    "\n",
    "            # sim\n",
    "            exp_val_sim = calc_exp_pauliword(simulated_counts, qubitOp)\n",
    "            E_sim_list.append(exp_val_sim*coeff)\n",
    "            \n",
    "            # mitigated\n",
    "            exp_val_mit = calc_exp_pauliword(meas_mit_counts,qubitOp)\n",
    "            E_mit_list.append(exp_val_mit*coeff)\n",
    "    return sum(E_raw_list), sum(E_sim_list), sum(E_mit_list)"
   ]
  },
  {
   "cell_type": "code",
   "execution_count": 239,
   "metadata": {},
   "outputs": [
    {
     "data": {
      "text/plain": [
       "((-0.644076125115526+0j), (-1.1371654927266652+0j), (-1.0674952487505802+0j))"
      ]
     },
     "execution_count": 239,
     "metadata": {},
     "output_type": "execute_result"
    }
   ],
   "source": [
    "Calc_Energy_seq_rot(output_data['EXP_count_list_raw'], \n",
    "                    output_data['SIM_count_list_raw'],\n",
    "                    output_data['experiment_dict'], \n",
    "                    output_data['I_term'], \n",
    "                    output_data['standard_measurement_filter'])"
   ]
  },
  {
   "cell_type": "code",
   "execution_count": null,
   "metadata": {},
   "outputs": [],
   "source": []
  },
  {
   "cell_type": "code",
   "execution_count": 108,
   "metadata": {},
   "outputs": [],
   "source": [
    "# LCU\n",
    "base_dir = os.getcwd()\n",
    "data_dir = os.path.join(base_dir, 'Data')\n",
    "dev_dir = os.path.join(data_dir, 'device')\n",
    "Run_1_dir = os.path.join(dev_dir, 'Run_1')\n",
    "output_file = os.path.join(Run_1_dir, 'molecule=H2___n_shots=8190.0___method=LCU___time=2020Sep22-094030135037.pickle')\n",
    "with open(output_file, 'rb') as handle:\n",
    "    output_data = pickle.load(handle)\n"
   ]
  },
  {
   "cell_type": "code",
   "execution_count": 234,
   "metadata": {},
   "outputs": [
    {
     "data": {
      "text/plain": [
       "['start_time',\n",
       " 'end_time',\n",
       " 'method',\n",
       " 'n_shots',\n",
       " 'I_term',\n",
       " 'q_circuit_list',\n",
       " 'SIM_transpiled_q_circuit_list',\n",
       " 'experiment_dict',\n",
       " 'SIM_count_list_raw',\n",
       " 'jobID',\n",
       " 'EXP_transpiled_q_circuit_list',\n",
       " 'EXP_backend',\n",
       " 'EXP_count_list_raw',\n",
       " 'standard_measurement_filter',\n",
       " 'SIM_memory_raw',\n",
       " 'EXP_memory_raw',\n",
       " 'LCU_measurement_filters']"
      ]
     },
     "execution_count": 234,
     "metadata": {},
     "output_type": "execute_result"
    }
   ],
   "source": [
    "list(output_data.keys())"
   ]
  },
  {
   "cell_type": "code",
   "execution_count": null,
   "metadata": {},
   "outputs": [],
   "source": []
  },
  {
   "cell_type": "code",
   "execution_count": null,
   "metadata": {},
   "outputs": [],
   "source": []
  },
  {
   "cell_type": "code",
   "execution_count": 232,
   "metadata": {
    "code_folding": [
     0
    ]
   },
   "outputs": [],
   "source": [
    "def Calc_Energy_LCU(experimental_meas_list, simulated_meas_list, list_experiment_dicts, I_term,\n",
    "                    LCU_measurement_filter, standard_meas_filter):\n",
    "    E_raw_list = [I_term]\n",
    "    E_sim_list = [I_term]\n",
    "    E_mit_list = [I_term]\n",
    "\n",
    "    for index, exp_dict in enumerate(list_experiment_dicts):\n",
    "\n",
    "        exp_measurements = experimental_meas_list[index]\n",
    "        simulated_measurements = simulated_meas_list[index]\n",
    "\n",
    "        if 'Pn' in exp_dict.keys():\n",
    "            Pn = exp_dict['Pn']\n",
    "            gamma_l = exp_dict['gamma_l']\n",
    "            N_ancilla = exp_dict['N_ancilla']\n",
    "\n",
    "            # raw\n",
    "            post_selected_dict_raw = Get_post_selection_counts_LCU(exp_measurements, N_ancilla)\n",
    "            exp_val = calc_exp_pauliword(post_selected_dict_raw, Pn)\n",
    "            E_raw_list.append(exp_val * gamma_l)\n",
    "\n",
    "            # sim\n",
    "            post_selected_dict_sim = Get_post_selection_counts_LCU(simulated_measurements, N_ancilla)\n",
    "            exp_val_sim = calc_exp_pauliword(post_selected_dict_sim, Pn)\n",
    "            E_sim_list.append(exp_val_sim * gamma_l)\n",
    "\n",
    "            # mitigated\n",
    "            raw_counts_dict = Get_post_selection_counts_LCU(exp_measurements, 0)\n",
    "            mit_counts_dict = LCU_measurement_filter.apply(raw_counts_dict)\n",
    "            \n",
    "            post_selected_dict_mit = Get_post_selection_counts_DICT_LCU(mit_counts_dict, N_ancilla)\n",
    "            exp_val_mit = calc_exp_pauliword(post_selected_dict_mit, Pn)\n",
    "            E_mit_list.append(exp_val_mit * gamma_l)\n",
    "\n",
    "        else:\n",
    "            qubitOp = exp_dict['qubitOp']\n",
    "            coeff = exp_dict['coeff']\n",
    "\n",
    "            # raw\n",
    "            post_selected_dict_raw = Get_post_selection_counts_LCU(exp_measurements, 0)\n",
    "            exp_val = calc_exp_pauliword(post_selected_dict_raw, qubitOp)\n",
    "            E_raw_list.append(exp_val * coeff)\n",
    "\n",
    "            # sim\n",
    "            post_selected_dict_sim = Get_post_selection_counts_LCU(simulated_measurements, 0)\n",
    "            exp_val_sim = calc_exp_pauliword(post_selected_dict_sim, qubitOp)\n",
    "            E_sim_list.append(exp_val_sim * coeff)\n",
    "\n",
    "            # mitigated\n",
    "            post_selected_dict_mit = standard_meas_filter.apply(post_selected_dict_raw)\n",
    "            exp_val_mit = calc_exp_pauliword(post_selected_dict_mit, qubitOp)\n",
    "            E_mit_list.append(exp_val_mit * coeff)\n",
    "            \n",
    "\n",
    "    return sum(E_raw_list), sum(E_sim_list), sum(E_mit_list)"
   ]
  },
  {
   "cell_type": "code",
   "execution_count": 156,
   "metadata": {},
   "outputs": [],
   "source": [
    "# list(output_data.keys())"
   ]
  },
  {
   "cell_type": "code",
   "execution_count": 233,
   "metadata": {},
   "outputs": [
    {
     "data": {
      "text/plain": [
       "((-0.6169571941620106+0j), (-1.137515851678555+0j), (-1.0456976549546295+0j))"
      ]
     },
     "execution_count": 233,
     "metadata": {},
     "output_type": "execute_result"
    }
   ],
   "source": [
    "Calc_Energy_LCU(output_data['EXP_memory_raw'],\n",
    "                output_data['SIM_memory_raw'],\n",
    "                output_data['experiment_dict'],\n",
    "                output_data['I_term'],\n",
    "                output_data['LCU_measurement_filters'][0]['filter'],\n",
    "                output_data['standard_measurement_filter'])"
   ]
  },
  {
   "cell_type": "code",
   "execution_count": null,
   "metadata": {},
   "outputs": [],
   "source": []
  },
  {
   "cell_type": "code",
   "execution_count": null,
   "metadata": {},
   "outputs": [],
   "source": []
  },
  {
   "cell_type": "code",
   "execution_count": 242,
   "metadata": {},
   "outputs": [],
   "source": [
    "# STANDARD RESULTSAbs\n",
    "\n",
    "base_dir = os.getcwd()\n",
    "data_dir = os.path.join(base_dir, 'Data')\n",
    "dev_dir = os.path.join(data_dir, 'device')\n",
    "Run_1_dir = os.path.join(dev_dir, 'Run_1')\n",
    "output_file = os.path.join(Run_1_dir, 'molecule=H2___n_shots=4914.0___method=standard_VQE___time=2020Sep22-092646468985.pickle')\n",
    "with open(output_file, 'rb') as handle:\n",
    "    output_data = pickle.load(handle)\n"
   ]
  },
  {
   "cell_type": "code",
   "execution_count": 243,
   "metadata": {},
   "outputs": [],
   "source": [
    "from quchem_ibm.Qiskit_Chemistry import *\n",
    "\n",
    "def Calc_Energy_standard(experimental_count_list, simulated_count_list, list_experiment_dicts, I_term, standard_meas_filter):\n",
    "    \n",
    "    E_raw_list=[I_term]\n",
    "    E_sim_list=[I_term]\n",
    "    E_mit_list=[I_term]\n",
    "    \n",
    "    for index, exp_dict in enumerate(list_experiment_dicts):\n",
    "        \n",
    "        exp_counts_dict=experimental_count_list[index]\n",
    "        simulated_counts=simulated_count_list[index]\n",
    "        meas_mit_counts= standard_meas_filter.apply(exp_counts_dict)\n",
    "\n",
    "        \n",
    "        qubitOp=exp_dict['qubitOp']\n",
    "        coeff = exp_dict['coeff']\n",
    "\n",
    "        # raw\n",
    "        exp_val = calc_exp_pauliword(exp_counts_dict, qubitOp)\n",
    "        E_raw_list.append(exp_val*coeff)\n",
    "\n",
    "        # sim\n",
    "        exp_val_sim = calc_exp_pauliword(simulated_counts, qubitOp)\n",
    "        E_sim_list.append(exp_val_sim*coeff)\n",
    "\n",
    "        # mitigated\n",
    "        exp_val_mit = calc_exp_pauliword(meas_mit_counts,qubitOp)\n",
    "        E_mit_list.append(exp_val_mit*coeff)\n",
    "        \n",
    "    return sum(E_raw_list), sum(E_sim_list), sum(E_mit_list)"
   ]
  },
  {
   "cell_type": "code",
   "execution_count": 245,
   "metadata": {},
   "outputs": [
    {
     "data": {
      "text/plain": [
       "((-0.8678025427223981+0j), (-1.1363507128235555+0j), (-1.0503310872627942+0j))"
      ]
     },
     "execution_count": 245,
     "metadata": {},
     "output_type": "execute_result"
    }
   ],
   "source": [
    "Calc_Energy_standard(output_data['EXP_count_list_raw'], \n",
    "                    output_data['SIM_count_list_raw'],\n",
    "                    output_data['experiment_dict'], \n",
    "                    output_data['I_term'], \n",
    "                    output_data['standard_measurement_filter'])"
   ]
  },
  {
   "cell_type": "code",
   "execution_count": null,
   "metadata": {},
   "outputs": [],
   "source": []
  },
  {
   "cell_type": "code",
   "execution_count": 247,
   "metadata": {},
   "outputs": [
    {
     "data": {
      "text/plain": [
       "['Hamiltonian',\n",
       " 'anti_commuting_sets',\n",
       " 'geometry',\n",
       " 'basis_set',\n",
       " 'transformation',\n",
       " 'Graph_colouring_strategy',\n",
       " 'fci_energy',\n",
       " 'standard_VQE_circuits',\n",
       " 'standard_I_term',\n",
       " 'Seq_Rot_VQE_circuits',\n",
       " 'S_indices_dict',\n",
       " 'Seq_Rot_I_term',\n",
       " 'LCU_VQE_circuits',\n",
       " 'LCU_I_term',\n",
       " 'N_index_dict',\n",
       " 'n_system_qubits',\n",
       " 'ground_state']"
      ]
     },
     "execution_count": 247,
     "metadata": {},
     "output_type": "execute_result"
    }
   ],
   "source": [
    "# input for exp\n",
    "base_dir = os.getcwd()\n",
    "data_dir = os.path.join(base_dir, 'Input_data')\n",
    "input_file = os.path.join(data_dir, 'LiH_bravyi_kitaev_12_qubit_experiment_time=2020Sep21-132537266776.pickle')\n",
    "with open(input_file, 'rb') as handle:\n",
    "    input_data = pickle.load(handle)\n",
    "list(input_data.keys())"
   ]
  },
  {
   "cell_type": "code",
   "execution_count": 249,
   "metadata": {},
   "outputs": [
    {
     "data": {
      "text/plain": [
       "102"
      ]
     },
     "execution_count": 249,
     "metadata": {},
     "output_type": "execute_result"
    }
   ],
   "source": [
    "len(input_data['LCU_VQE_circuits'])"
   ]
  },
  {
   "cell_type": "code",
   "execution_count": 250,
   "metadata": {},
   "outputs": [
    {
     "data": {
      "text/plain": [
       "630"
      ]
     },
     "execution_count": 250,
     "metadata": {},
     "output_type": "execute_result"
    }
   ],
   "source": [
    "len(input_data['standard_VQE_circuits'])"
   ]
  },
  {
   "cell_type": "code",
   "execution_count": 275,
   "metadata": {},
   "outputs": [
    {
     "name": "stdout",
     "output_type": "stream",
     "text": [
      "17.0\n",
      "105.0\n"
     ]
    }
   ],
   "source": [
    "print(10710/630)\n",
    "print(10710/102)"
   ]
  },
  {
   "cell_type": "code",
   "execution_count": 276,
   "metadata": {},
   "outputs": [
    {
     "data": {
      "text/plain": [
       "5355.0"
      ]
     },
     "execution_count": 276,
     "metadata": {},
     "output_type": "execute_result"
    }
   ],
   "source": [
    "10710/2"
   ]
  }
 ],
 "metadata": {
  "kernelspec": {
   "display_name": "Python 3",
   "language": "python",
   "name": "python3"
  },
  "language_info": {
   "codemirror_mode": {
    "name": "ipython",
    "version": 3
   },
   "file_extension": ".py",
   "mimetype": "text/x-python",
   "name": "python",
   "nbconvert_exporter": "python",
   "pygments_lexer": "ipython3",
   "version": "3.7.6"
  }
 },
 "nbformat": 4,
 "nbformat_minor": 4
}
