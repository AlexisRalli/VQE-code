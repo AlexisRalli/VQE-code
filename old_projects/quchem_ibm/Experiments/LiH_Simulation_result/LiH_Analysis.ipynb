{
 "cells": [
  {
   "cell_type": "code",
   "execution_count": 1,
   "metadata": {},
   "outputs": [],
   "source": [
    "import pickle\n",
    "import os\n",
    "import numpy as np"
   ]
  },
  {
   "cell_type": "code",
   "execution_count": null,
   "metadata": {},
   "outputs": [],
   "source": [
    "# # input for exp\n",
    "base_dir = os.getcwd()\n",
    "input_file = os.path.join(base_dir, 'LiH_simulation_RESULTS_time=2020Oct07-163210198971.pickle')\n",
    "with open(input_file, 'rb') as handle:\n",
    "    LiH_data = pickle.load(handle)\n"
   ]
  },
  {
   "cell_type": "code",
   "execution_count": null,
   "metadata": {},
   "outputs": [],
   "source": [
    "list(LiH_data.keys())"
   ]
  },
  {
   "cell_type": "code",
   "execution_count": null,
   "metadata": {},
   "outputs": [],
   "source": [
    "LiH_data['shot_list']"
   ]
  },
  {
   "cell_type": "code",
   "execution_count": null,
   "metadata": {},
   "outputs": [],
   "source": [
    "# LiH_data['seq_rot_E_data']"
   ]
  },
  {
   "cell_type": "code",
   "execution_count": null,
   "metadata": {},
   "outputs": [],
   "source": [
    "LiH_data['seq_rot_E_data'].shape[0]"
   ]
  },
  {
   "cell_type": "code",
   "execution_count": null,
   "metadata": {},
   "outputs": [],
   "source": [
    "E_SEQ_ROT_sim_av_list=[]\n",
    "E_SEQ_ROT_sim_sig_list=[]\n",
    "\n",
    "E_LCU_sim_av_list=[]\n",
    "E_LCU_sim_sig_list=[]\n",
    "\n",
    "E_STANDARD_sim_av_list=[]\n",
    "E_STANDARD_sim_sig_list=[]\n",
    "\n",
    "\n",
    "for experiment_index in range(LiH_data['seq_rot_E_data'].shape[0]):\n",
    "    \n",
    "    E_SEQ_ROT_sigma=np.std(LiH_data['seq_rot_E_data'][experiment_index, :])\n",
    "    E_SEQ_ROT_av=np.mean(LiH_data['seq_rot_E_data'][experiment_index, :])\n",
    "    E_SEQ_ROT_sim_av_list.append(E_SEQ_ROT_av)\n",
    "    E_SEQ_ROT_sim_sig_list.append(E_SEQ_ROT_sigma)\n",
    "\n",
    "    E_LCU_sigma=np.std(LiH_data['LCU_E_data'][experiment_index, :])\n",
    "    E_LCU_av=np.mean(LiH_data['LCU_E_data'][experiment_index, :])\n",
    "    E_LCU_sim_av_list.append(E_LCU_av)\n",
    "    E_LCU_sim_sig_list.append(E_LCU_sigma)\n",
    "    \n",
    "    E_STANDARD_sigma=np.std(LiH_data['STANDARD_E_data'][experiment_index, :])\n",
    "    E_STANDARD_av=np.mean(LiH_data['STANDARD_E_data'][experiment_index, :])\n",
    "    E_STANDARD_sim_av_list.append(E_STANDARD_av)\n",
    "    E_STANDARD_sim_sig_list.append(E_STANDARD_sigma)\n",
    "\n"
   ]
  },
  {
   "cell_type": "code",
   "execution_count": null,
   "metadata": {},
   "outputs": [],
   "source": [
    "del LiH_data['seq_rot_E_data']\n",
    "del LiH_data['LCU_E_data']\n",
    "del LiH_data['STANDARD_E_data']"
   ]
  },
  {
   "cell_type": "code",
   "execution_count": null,
   "metadata": {},
   "outputs": [],
   "source": [
    "import matplotlib.pyplot as plt"
   ]
  },
  {
   "cell_type": "code",
   "execution_count": null,
   "metadata": {},
   "outputs": [],
   "source": [
    "fci_energy= -7.971184315565538"
   ]
  },
  {
   "cell_type": "code",
   "execution_count": null,
   "metadata": {},
   "outputs": [],
   "source": [
    "E_STANDARD_sim_sig_list"
   ]
  },
  {
   "cell_type": "code",
   "execution_count": null,
   "metadata": {},
   "outputs": [],
   "source": [
    "%matplotlib notebook\n",
    "\n",
    "\n",
    "shot_list=LiH_data['shot_list']\n",
    "\n",
    "fig, ax = plt.subplots(figsize=(10,12))\n",
    "\n",
    "## LCU\n",
    "ax.plot(shot_list,E_LCU_sim_av_list, color='red', label='LCU-sim', marker='o')\n",
    "plt.errorbar(shot_list,E_LCU_sim_av_list,yerr=E_LCU_sim_sig_list, linestyle=\"None\", color='orange',\n",
    "             uplims=True, lolims=True, label='$\\sigma$ LCU - sim')\n",
    "\n",
    "## STANDARD\n",
    "ax.plot(shot_list,E_STANDARD_sim_av_list, color='green', label='Av Energy standard VQE - sim', marker='o')\n",
    "plt.errorbar(shot_list,E_STANDARD_sim_av_list,yerr=E_STANDARD_sim_sig_list, linestyle=\"None\", \n",
    "             color='olive', uplims=True, lolims=True, label='$\\sigma$ standard - sim')\n",
    "\n",
    "## SEQ ROT\n",
    "ax.plot(shot_list,E_SEQ_ROT_sim_av_list, color='blue', label='seq rot - sim', marker='o')\n",
    "plt.errorbar(shot_list,E_SEQ_ROT_sim_av_list,yerr=E_SEQ_ROT_sim_sig_list, linestyle=\"None\", \n",
    "             color='purple', uplims=True, lolims=True, label='$\\sigma$ seq rot - sim')\n",
    "\n",
    "# chemical accuracy\n",
    "plt.fill_between([min(shot_list), max(shot_list)],\n",
    "                 [fci_energy-1.6e-3, fci_energy-1.6e-3] ,\n",
    "                 y2=[fci_energy+1.6e-3,fci_energy+1.6e-3],\n",
    "                 color='#539ecd', \n",
    "                 label='chemical accuracy')\n",
    "\n",
    "\n",
    "ax.set(xlabel='Total number of circuit shots', ylabel='E / Ha' ,title='$LiH$ experiment')\n",
    "ax.grid()\n",
    "plt.legend(bbox_to_anchor=(1.05, 1.0), loc='upper left')\n",
    "plt.tight_layout()\n",
    "plt.show()\n",
    "\n",
    "file_name = 'LiH_experiment_analysis.jpeg'\n",
    "plt.savefig(file_name, dpi=300,transparent=True,) # edgecolor='black', facecolor='white')"
   ]
  },
  {
   "cell_type": "code",
   "execution_count": null,
   "metadata": {},
   "outputs": [],
   "source": []
  },
  {
   "cell_type": "code",
   "execution_count": null,
   "metadata": {},
   "outputs": [],
   "source": []
  },
  {
   "cell_type": "markdown",
   "metadata": {},
   "source": [
    "# Histogram"
   ]
  },
  {
   "cell_type": "code",
   "execution_count": null,
   "metadata": {},
   "outputs": [],
   "source": [
    "from quchem_ibm.exp_analysis import *"
   ]
  },
  {
   "cell_type": "code",
   "execution_count": null,
   "metadata": {
    "code_folding": [
     0
    ]
   },
   "outputs": [],
   "source": [
    "def dict_of_M_to_list(M_dict, PauliOP):\n",
    "    \n",
    "    P_Qubit_list, _ = zip(*(list(*PauliOP.terms.keys())))\n",
    "    \n",
    "    list_of_M_bitstrings=None\n",
    "    for bit_string, N_obtained in M_dict.items():\n",
    "        \n",
    "        M_string = np.take(list(bit_string[::-1]), P_Qubit_list) # only take terms measured! Note bitstring reversed!\n",
    "        \n",
    "        array_meas = np.repeat(''.join(M_string), N_obtained)\n",
    "        if list_of_M_bitstrings is None:\n",
    "            list_of_M_bitstrings=array_meas\n",
    "        else:\n",
    "            list_of_M_bitstrings=np.hstack((list_of_M_bitstrings,array_meas))\n",
    "    \n",
    "    # randomly shuffle (seed means outcome will always be the SAME!)\n",
    "    np.random.seed(42) \n",
    "    np.random.shuffle(list_of_M_bitstrings) \n",
    "    \n",
    "    return list_of_M_bitstrings"
   ]
  },
  {
   "cell_type": "code",
   "execution_count": null,
   "metadata": {
    "code_folding": [
     0
    ]
   },
   "outputs": [],
   "source": []
  },
  {
   "cell_type": "code",
   "execution_count": null,
   "metadata": {},
   "outputs": [],
   "source": [
    "list(LiH_data.keys())"
   ]
  },
  {
   "cell_type": "code",
   "execution_count": null,
   "metadata": {},
   "outputs": [],
   "source": [
    "# LCU_Hist_data_sim={}\n",
    "    \n",
    "# for exp_instance in LiH_data['experiment_data'][101852100]['LCU']: #each exp repeated 10 times!\n",
    "#     for exp_dict_key in exp_instance:\n",
    "\n",
    "#         exp_dict= exp_instance[exp_dict_key]\n",
    "\n",
    "#         if 'Pn' in exp_dict.keys():\n",
    "#             P=exp_dict['Pn']\n",
    "#             coeff = exp_dict['gamma_l']\n",
    "\n",
    "#             measured_dict_sim = exp_dict['measurement_dict'] # post selection already done!\n",
    "\n",
    "#         else:\n",
    "#             P=exp_dict['qubitOp']\n",
    "#             coeff = exp_dict['coeff']\n",
    "#             measured_dict_sim = exp_dict['measurement_dict']\n",
    "\n",
    "#         M_list_sim = dict_of_M_to_list(measured_dict_sim, P)\n",
    "\n",
    "#         if exp_dict_key in LCU_Hist_data_sim.keys():\n",
    "#             LCU_Hist_data_sim[exp_dict_key]={'P':P ,'coeff': coeff, 'Measurements': np.hstack((LCU_Hist_data_sim[exp_dict_key]['Measurements'],M_list_sim))}\n",
    "#         else:\n",
    "#             LCU_Hist_data_sim[exp_dict_key]={'P':P ,'coeff': coeff, 'Measurements': M_list_sim}\n",
    "\n",
    "                \n",
    "# # as probablistic need to all be same shape (cannot have more measurements of one term)\n",
    "# fewest_succ_shots_sim = min([LCU_Hist_data_sim[key]['Measurements'].shape[0] for key in LCU_Hist_data_sim])\n",
    "# # for exp_dict_key in exp_instance:\n",
    "# #     exp_dict= exp_instance[exp_dict_key]\n",
    "# #     if 'Pn' in exp_dict.keys():\n",
    "# #         LCU_Hist_data_sim[exp_dict_key]['Measurements']= LCU_Hist_data_sim[exp_dict_key]['Measurements'][:fewest_succ_shots_sim]\n",
    "# for key in LCU_Hist_data_sim.keys():\n",
    "#     LCU_Hist_data_sim[key]['Measurements']= LCU_Hist_data_sim[key]['Measurements'][:fewest_succ_shots_sim]\n",
    "    "
   ]
  },
  {
   "cell_type": "code",
   "execution_count": null,
   "metadata": {},
   "outputs": [],
   "source": [
    "# LCU_Hist_data_sim[0]['Measurements'].shape"
   ]
  },
  {
   "cell_type": "code",
   "execution_count": null,
   "metadata": {},
   "outputs": [],
   "source": []
  },
  {
   "cell_type": "code",
   "execution_count": null,
   "metadata": {
    "code_folding": []
   },
   "outputs": [],
   "source": [
    "LCU_Hist_data_sim={}\n",
    "for shot_key in list(LiH_data['experiment_data'].keys())[:3]: # <-- currently limiting\n",
    "    \n",
    "    for exp_instance in LiH_data['experiment_data'][shot_key]['LCU']: #each exp repeated 10 times!\n",
    "        for exp_dict_key in exp_instance:\n",
    "\n",
    "            exp_dict= exp_instance[exp_dict_key]\n",
    "\n",
    "            if 'Pn' in exp_dict.keys():\n",
    "                P=exp_dict['Pn']\n",
    "                coeff = exp_dict['gamma_l']\n",
    "\n",
    "                measured_dict_sim = exp_dict['measurement_dict'] # post selection already done!\n",
    "\n",
    "            else:\n",
    "                P=exp_dict['qubitOp']\n",
    "                coeff = exp_dict['coeff']\n",
    "                measured_dict_sim = exp_dict['measurement_dict']\n",
    "\n",
    "            M_list_sim = dict_of_M_to_list(measured_dict_sim, P)\n",
    "\n",
    "            if exp_dict_key in LCU_Hist_data_sim.keys():\n",
    "                LCU_Hist_data_sim[exp_dict_key]={'P':P ,'coeff': coeff, 'Measurements': np.hstack((LCU_Hist_data_sim[exp_dict_key]['Measurements'],M_list_sim))}\n",
    "            else:\n",
    "                LCU_Hist_data_sim[exp_dict_key]={'P':P ,'coeff': coeff, 'Measurements': M_list_sim}\n",
    "\n",
    "                \n",
    "# as probablistic need to all be same shape (cannot have more measurements of one term)\n",
    "fewest_succ_shots_sim = min([LCU_Hist_data_sim[key]['Measurements'].shape[0] for key in LCU_Hist_data_sim])\n",
    "# for exp_dict_key in exp_instance:\n",
    "#     exp_dict= exp_instance[exp_dict_key]\n",
    "#     if 'Pn' in exp_dict.keys():\n",
    "#         LCU_Hist_data_sim[exp_dict_key]['Measurements']= LCU_Hist_data_sim[exp_dict_key]['Measurements'][:fewest_succ_shots_sim]\n",
    "for key in LCU_Hist_data_sim.keys():\n",
    "    LCU_Hist_data_sim[key]['Measurements']= LCU_Hist_data_sim[key]['Measurements'][:fewest_succ_shots_sim]\n",
    "    "
   ]
  },
  {
   "cell_type": "code",
   "execution_count": null,
   "metadata": {},
   "outputs": [],
   "source": [
    "LCU_Hist_data_sim[0]['Measurements'].shape"
   ]
  },
  {
   "cell_type": "code",
   "execution_count": null,
   "metadata": {
    "code_folding": [
     1
    ]
   },
   "outputs": [],
   "source": [
    "SEQ_ROT_Hist_data_sim={}\n",
    "for shot_key in list(LiH_data['experiment_data'].keys())[:3]: # <-- currently limiting\n",
    "    \n",
    "    for exp_instance in LiH_data['experiment_data'][shot_key]['seq_rot']: #each exp repeated 10 times!\n",
    "        for exp_dict_key in exp_instance:\n",
    "\n",
    "            exp_dict= exp_instance[exp_dict_key]\n",
    "\n",
    "            if 'Ps' in exp_dict.keys():\n",
    "                P=exp_dict['Ps']\n",
    "                coeff = exp_dict['gamma_l']\n",
    "\n",
    "                measured_dict_sim = exp_dict['measurement_dict']\n",
    "\n",
    "            else:\n",
    "                P=exp_dict['qubitOp']\n",
    "                coeff = exp_dict['coeff']\n",
    "                measured_dict_sim = exp_dict['measurement_dict']\n",
    "\n",
    "            M_list_sim = dict_of_M_to_list(measured_dict_sim, P)\n",
    "\n",
    "            if exp_dict_key in SEQ_ROT_Hist_data_sim.keys():\n",
    "                SEQ_ROT_Hist_data_sim[exp_dict_key]={'P':P ,'coeff': coeff, 'Measurements': np.hstack((SEQ_ROT_Hist_data_sim[exp_dict_key]['Measurements'],M_list_sim))}\n",
    "            else:\n",
    "                SEQ_ROT_Hist_data_sim[exp_dict_key]={'P':P ,'coeff': coeff, 'Measurements': M_list_sim}\n"
   ]
  },
  {
   "cell_type": "code",
   "execution_count": null,
   "metadata": {},
   "outputs": [],
   "source": [
    "SEQ_ROT_Hist_data_sim[0]['Measurements'].shape"
   ]
  },
  {
   "cell_type": "code",
   "execution_count": null,
   "metadata": {
    "code_folding": []
   },
   "outputs": [],
   "source": [
    "STANDARD_Hist_data_sim={}\n",
    "for shot_key in list(LiH_data['experiment_data'].keys())[:3]: # <-- currently limiting\n",
    "    \n",
    "    for exp_instance in LiH_data['experiment_data'][shot_key]['standard']: #each exp repeated 10 times!\n",
    "        for exp_dict_key in exp_instance:\n",
    "\n",
    "            P=exp_dict['qubitOp']\n",
    "            coeff = exp_dict['coeff']\n",
    "            measured_dict_sim = exp_dict['measurement_dict']\n",
    "\n",
    "            M_list_sim = dict_of_M_to_list(measured_dict_sim, P)\n",
    "\n",
    "            if exp_dict_key in STANDARD_Hist_data_sim.keys():\n",
    "                STANDARD_Hist_data_sim[exp_dict_key]={'P':P ,'coeff': coeff, 'Measurements': np.hstack((STANDARD_Hist_data_sim[exp_dict_key]['Measurements'],M_list_sim))}\n",
    "            else:\n",
    "                STANDARD_Hist_data_sim[exp_dict_key]={'P':P ,'coeff': coeff, 'Measurements': M_list_sim}\n"
   ]
  },
  {
   "cell_type": "code",
   "execution_count": null,
   "metadata": {},
   "outputs": [],
   "source": [
    "STANDARD_Hist_data_sim[0]['Measurements'].shape[0]"
   ]
  },
  {
   "cell_type": "code",
   "execution_count": null,
   "metadata": {},
   "outputs": [],
   "source": []
  },
  {
   "cell_type": "code",
   "execution_count": null,
   "metadata": {
    "code_folding": []
   },
   "outputs": [],
   "source": [
    "from tqdm.notebook import tqdm\n",
    "def Get_Hist_data(Histogram_data, I_term):\n",
    "    E_list=[]\n",
    "    for m_index in tqdm(range(Histogram_data[0]['Measurements'].shape[0])):\n",
    "        E=I_term\n",
    "        for M_dict_key in Histogram_data:\n",
    "            coeff = Histogram_data[M_dict_key]['coeff']\n",
    "            parity =  1 if sum(map(int, Histogram_data[M_dict_key]['Measurements'][m_index])) % 2 == 0 else -1\n",
    "            E+=coeff*parity\n",
    "        E_list.append(E)\n",
    "    return E_list\n",
    "    "
   ]
  },
  {
   "cell_type": "code",
   "execution_count": null,
   "metadata": {},
   "outputs": [],
   "source": []
  },
  {
   "cell_type": "code",
   "execution_count": null,
   "metadata": {},
   "outputs": [],
   "source": [
    "I_term = -4.142299396835105\n",
    "\n",
    "E_LCU_list_sim=Get_Hist_data(LCU_Hist_data_sim, I_term)\n",
    "E_list_SEQ_ROT_sim=Get_Hist_data(SEQ_ROT_Hist_data_sim, I_term)\n",
    "E_list_STANDARD_sim=Get_Hist_data(STANDARD_Hist_data_sim, I_term)"
   ]
  },
  {
   "cell_type": "code",
   "execution_count": null,
   "metadata": {},
   "outputs": [],
   "source": [
    "del LiH_data"
   ]
  },
  {
   "cell_type": "code",
   "execution_count": null,
   "metadata": {},
   "outputs": [],
   "source": [
    "E_LCU_list_sim=np.array(E_LCU_list_sim)\n",
    "E_list_SEQ_ROT_sim=np.array(E_list_SEQ_ROT_sim)\n",
    "E_list_STANDARD_sim=np.array(E_list_STANDARD_sim)"
   ]
  },
  {
   "cell_type": "code",
   "execution_count": null,
   "metadata": {},
   "outputs": [],
   "source": [
    "def gaussian(x, mean, amplitude, standard_deviation):\n",
    "    return amplitude * np.exp( - ((x - mean) / standard_deviation) ** 2)"
   ]
  },
  {
   "cell_type": "code",
   "execution_count": null,
   "metadata": {},
   "outputs": [],
   "source": [
    "from scipy.optimize import curve_fit"
   ]
  },
  {
   "cell_type": "code",
   "execution_count": null,
   "metadata": {},
   "outputs": [],
   "source": []
  },
  {
   "cell_type": "code",
   "execution_count": null,
   "metadata": {},
   "outputs": [],
   "source": [
    "from matplotlib import pyplot\n",
    "%matplotlib inline\n",
    "\n",
    "\n",
    "# bins = len(set(E_list_SEQ_ROT_sim))\n",
    "# bins_standard = len(set(E_list_STANDARD_sim))\n",
    "\n",
    "bins = 100\n",
    "bins_standard = 100\n",
    "\n",
    "bin_heights_STANDARD, bin_borders_STANDARD, _=pyplot.hist(E_list_STANDARD_sim,\n",
    "                                                          bins_standard, alpha=0.7,\n",
    "                                                          label='$E$ standard VQE - sim',\n",
    "                                                          color='g',\n",
    "                                                          density=False)\n",
    "\n",
    "# bin_centers_STANDARD = bin_borders_STANDARD[:-1] + np.diff(bin_borders_STANDARD) / 2\n",
    "# popt, _ = curve_fit(gaussian, bin_centers_STANDARD, bin_heights_STANDARD, p0=[1., 0., 1.], **{'maxfev':10000})\n",
    "# mean_STANDARD, amplitude_STANDARD, standard_deviation_STANDARD= popt\n",
    "# x_interval_for_fit = np.linspace(bin_borders_STANDARD[0], bin_borders_STANDARD[-1], 10000)\n",
    "# pyplot.plot(x_interval_for_fit, gaussian(x_interval_for_fit, *popt), label='Gaussian fit', color='g')\n",
    "\n",
    "\n",
    "# # pyplot.axvline(mean_STANDARD, color='g', linestyle='dashed', linewidth=1, \n",
    "# #             label='$E_{average}$ standard VQE - sim') # mean of GAUSSIAN FIT\n",
    "\n",
    "# pyplot.axvline(E_list_STANDARD_sim.mean(), color='g', linestyle='dashed', linewidth=1, \n",
    "#             label='$E_{average}$ standard VQE - sim') # mean of DATA\n",
    "\n",
    "# pyplot.errorbar(mean_STANDARD,500_000,\n",
    "#              xerr=standard_deviation_STANDARD, linestyle=\"None\", color='g',\n",
    "#              uplims=True, lolims=True, label='$\\sigma_{E_{av}}$standard VQE - sim')\n",
    "\n",
    "\n",
    "\n",
    "\n",
    "bin_heights_SEQ_ROT_sim, bin_borders_SEQ_ROT_sim, _=pyplot.hist(E_list_SEQ_ROT_sim, \n",
    "                                                                bins, alpha=0.7, \n",
    "                                                                label='$E_{average}$ seq rot VQE - sim', \n",
    "                                                                color='b',\n",
    "                                                              density=False)\n",
    "\n",
    "# bin_centers_SEQ_ROT_sim = bin_borders_SEQ_ROT_sim[:-1] + np.diff(bin_borders_SEQ_ROT_sim) / 2\n",
    "# popt, _ = curve_fit(gaussian, bin_centers_SEQ_ROT_sim, bin_heights_SEQ_ROT_sim, p0=[1., 0, 1], **{'maxfev':10000})\n",
    "# mean_SEQ_ROT_sim, amplitude_SEQ_ROT_sim, standard_deviation_SEQ_ROT_sim= popt\n",
    "# # x_interval_for_fit = np.linspace(bin_borders_SEQ_ROT_sim[0], bin_borders_SEQ_ROT_sim[-1], 10000)\n",
    "# pyplot.plot(x_interval_for_fit, gaussian(x_interval_for_fit, *popt), label='Gaussian fit', color='b')\n",
    "\n",
    "\n",
    "# # pyplot.axvline(mean_SEQ_ROT_sim, color='b', linestyle='dashdot', linewidth=1, \n",
    "# #             label='$E_{average}$ seq rot VQE - sim') # mean of GAUSSIAN FIT\n",
    "\n",
    "# pyplot.axvline(E_list_SEQ_ROT_sim.mean(), color='b', linestyle='dashdot', linewidth=1, \n",
    "#             label='$E_{average}$ seq rot VQE - sim') # mean of DATA\n",
    "\n",
    "# pyplot.errorbar(mean_SEQ_ROT_sim,510_000,\n",
    "#              xerr=standard_deviation_SEQ_ROT_sim, linestyle=\"None\", color='b',\n",
    "#              uplims=True, lolims=True, label='$\\sigma_{E_{av}}$ seq rot - sim')\n",
    "\n",
    "\n",
    "\n",
    "bin_heights_LCU_sim, bin_borders_LCU_sim, _=pyplot.hist(E_LCU_list_sim, bins, alpha=0.7, \n",
    "                                                                label='$E$ LCU - sim', \n",
    "                                                                color='r',\n",
    "                                                              density=False)\n",
    "\n",
    "# bin_centers_LCU_sim = bin_borders_LCU_sim[:-1] + np.diff(bin_borders_LCU_sim) / 2\n",
    "# popt, _ = curve_fit(gaussian, bin_centers_LCU_sim, bin_heights_LCU_sim, p0=[1., 0., 1.], **{'maxfev':10000})\n",
    "# mean_LCU_sim, amplitude_LCU_sim, standard_deviation_LCU_sim= popt\n",
    "# # x_interval_for_fit = np.linspace(bin_borders_LCU_sim[0], bin_borders_LCU_sim[-1], 10000)\n",
    "# pyplot.plot(x_interval_for_fit, gaussian(x_interval_for_fit, *popt), label='Gaussian fit', color='r')\n",
    "\n",
    "# # pyplot.axvline(mean_LCU_sim, alpha=0.5, color='r', linestyle='dashed', linewidth=1, \n",
    "# #             label='$E_{average}$ LCU - sim') # mean of GAUSSIAN FIT\n",
    "# pyplot.axvline(E_LCU_list_sim.mean(), alpha=0.5, color='r', linestyle='dashed', linewidth=1, \n",
    "#             label='$E_{average}$ LCU - sim') # mean of DATA\n",
    "\n",
    "# pyplot.errorbar(mean_LCU_sim,520_000,\n",
    "#              xerr=standard_deviation_LCU_sim, linestyle=\"None\", color='r',\n",
    "#              uplims=True, lolims=True, label='$\\sigma_{E_{av}}$ LCU - sim')\n",
    "\n",
    "pyplot.axvline(fci_energy, color='k', linestyle='solid', linewidth=2, \n",
    "            label='$E_{FCI}$', alpha=0.4)\n",
    "\n",
    "pyplot.legend(loc='upper right')\n",
    "# pyplot.legend(bbox_to_anchor=(0.865,1.9), loc=\"upper left\")\n",
    "pyplot.ylabel('Frequency')\n",
    "pyplot.xlabel('Energy')\n",
    "\n",
    "pyplot.tight_layout()\n",
    "\n",
    "file_name = 'LiH_Histogram_sim_Gaussian.jpeg'\n",
    "pyplot.savefig(file_name, dpi=300,transparent=True,) # edgecolor='black', facecolor='white')\n",
    "pyplot.show()"
   ]
  }
 ],
 "metadata": {
  "kernelspec": {
   "display_name": "Python 3",
   "language": "python",
   "name": "python3"
  },
  "language_info": {
   "codemirror_mode": {
    "name": "ipython",
    "version": 3
   },
   "file_extension": ".py",
   "mimetype": "text/x-python",
   "name": "python",
   "nbconvert_exporter": "python",
   "pygments_lexer": "ipython3",
   "version": "3.7.6"
  }
 },
 "nbformat": 4,
 "nbformat_minor": 4
}
