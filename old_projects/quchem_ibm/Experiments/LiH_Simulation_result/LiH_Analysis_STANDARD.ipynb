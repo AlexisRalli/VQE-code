{
 "cells": [
  {
   "cell_type": "code",
   "execution_count": 1,
   "metadata": {},
   "outputs": [],
   "source": [
    "import pickle\n",
    "import os\n",
    "import numpy as np\n",
    "from tqdm.notebook import tqdm"
   ]
  },
  {
   "cell_type": "code",
   "execution_count": null,
   "metadata": {},
   "outputs": [],
   "source": []
  },
  {
   "cell_type": "code",
   "execution_count": 2,
   "metadata": {
    "code_folding": [
     2
    ]
   },
   "outputs": [],
   "source": [
    "from quchem_ibm.exp_analysis import *\n",
    "\n",
    "def dict_of_M_to_list(M_dict, PauliOP):\n",
    "    \n",
    "    P_Qubit_list, _ = zip(*(list(*PauliOP.terms.keys())))\n",
    "    \n",
    "    list_of_M_bitstrings=None\n",
    "    for bit_string, N_obtained in M_dict.items():\n",
    "        \n",
    "        M_string = np.take(list(bit_string[::-1]), P_Qubit_list) # only take terms measured! Note bitstring reversed!\n",
    "        \n",
    "        array_meas = np.repeat(''.join(M_string), N_obtained)\n",
    "        if list_of_M_bitstrings is None:\n",
    "            list_of_M_bitstrings=array_meas\n",
    "        else:\n",
    "            list_of_M_bitstrings=np.hstack((list_of_M_bitstrings,array_meas))\n",
    "    \n",
    "    # randomly shuffle (seed means outcome will always be the SAME!)\n",
    "#     np.random.seed(42) \n",
    "    np.random.shuffle(list_of_M_bitstrings) \n",
    "    \n",
    "    return list_of_M_bitstrings"
   ]
  },
  {
   "cell_type": "code",
   "execution_count": null,
   "metadata": {},
   "outputs": [],
   "source": []
  },
  {
   "cell_type": "code",
   "execution_count": 3,
   "metadata": {},
   "outputs": [],
   "source": [
    "# # input for exp\n",
    "base_dir = os.getcwd()\n",
    "input_file = os.path.join(base_dir, 'LiH_simulation_RESULTS_time=2020Oct07-163210198971.pickle')\n",
    "with open(input_file, 'rb') as handle:\n",
    "    LiH_data = pickle.load(handle)\n"
   ]
  },
  {
   "cell_type": "code",
   "execution_count": 4,
   "metadata": {},
   "outputs": [],
   "source": [
    "experimental_data_STANDARD = LiH_data['experiment_data'].copy()\n",
    "del LiH_data"
   ]
  },
  {
   "cell_type": "code",
   "execution_count": 5,
   "metadata": {},
   "outputs": [],
   "source": [
    "STANDARD_data = experimental_data_STANDARD[101852100]['standard'].copy()\n",
    "del experimental_data_STANDARD"
   ]
  },
  {
   "cell_type": "code",
   "execution_count": 6,
   "metadata": {},
   "outputs": [
    {
     "data": {
      "text/plain": [
       "10"
      ]
     },
     "execution_count": 6,
     "metadata": {},
     "output_type": "execute_result"
    }
   ],
   "source": [
    "len(STANDARD_data)"
   ]
  },
  {
   "cell_type": "code",
   "execution_count": 7,
   "metadata": {
    "code_folding": []
   },
   "outputs": [],
   "source": [
    "STANDARD_Hist_data_sim={} \n",
    "for exp_instance in STANDARD_data: #each exp repeated 10 times!\n",
    "    for exp_dict_key in exp_instance:\n",
    "        \n",
    "        exp_dict= exp_instance[exp_dict_key]\n",
    "        \n",
    "        P=exp_dict['qubitOp']\n",
    "        coeff = exp_dict['coeff']\n",
    "        measured_dict_sim = exp_dict['measurement_dict']\n",
    "\n",
    "        M_list_sim = dict_of_M_to_list(measured_dict_sim, P)\n",
    "\n",
    "        if exp_dict_key in STANDARD_Hist_data_sim.keys():\n",
    "            STANDARD_Hist_data_sim[exp_dict_key]={'P':list(P.terms.items())[0] ,'coeff': coeff.real, 'Measurements': np.hstack((STANDARD_Hist_data_sim[exp_dict_key]['Measurements'],M_list_sim))}\n",
    "        else:\n",
    "            STANDARD_Hist_data_sim[exp_dict_key]={'P':list(P.terms.items())[0] ,'coeff': coeff.real, 'Measurements': M_list_sim}\n",
    "            \n",
    "        del exp_dict"
   ]
  },
  {
   "cell_type": "code",
   "execution_count": null,
   "metadata": {},
   "outputs": [],
   "source": []
  },
  {
   "cell_type": "code",
   "execution_count": 8,
   "metadata": {},
   "outputs": [],
   "source": [
    "del STANDARD_data"
   ]
  },
  {
   "cell_type": "code",
   "execution_count": 9,
   "metadata": {},
   "outputs": [],
   "source": [
    "# for key in STANDARD_Hist_data_sim:\n",
    "#     STANDARD_Hist_data_sim[key]['Measurements']=STANDARD_Hist_data_sim[key]['Measurements'].tolist()\n",
    "#     STANDARD_Hist_data_sim[key]['P']=(STANDARD_Hist_data_sim[key]['P'][0], STANDARD_Hist_data_sim[key]['P'][1].real)"
   ]
  },
  {
   "cell_type": "code",
   "execution_count": 10,
   "metadata": {},
   "outputs": [],
   "source": [
    "# import json\n",
    "# with open(\"STANDARD_Hist_data_sim\", \"w\") as write_file:\n",
    "#     json.dump(STANDARD_Hist_data_sim, write_file)\n"
   ]
  },
  {
   "cell_type": "code",
   "execution_count": 11,
   "metadata": {},
   "outputs": [
    {
     "data": {
      "text/plain": [
       "(1616700,)"
      ]
     },
     "execution_count": 11,
     "metadata": {},
     "output_type": "execute_result"
    }
   ],
   "source": [
    "STANDARD_Hist_data_sim[0]['Measurements'].shape"
   ]
  },
  {
   "cell_type": "code",
   "execution_count": null,
   "metadata": {},
   "outputs": [],
   "source": []
  },
  {
   "cell_type": "code",
   "execution_count": 12,
   "metadata": {},
   "outputs": [],
   "source": [
    "# ### save output\n",
    "# np.save('Standard_hist_data', STANDARD_Hist_data_sim)"
   ]
  },
  {
   "cell_type": "code",
   "execution_count": null,
   "metadata": {},
   "outputs": [],
   "source": []
  },
  {
   "cell_type": "code",
   "execution_count": 13,
   "metadata": {},
   "outputs": [],
   "source": [
    "import matplotlib.pyplot as plt"
   ]
  },
  {
   "cell_type": "code",
   "execution_count": 14,
   "metadata": {},
   "outputs": [],
   "source": [
    "fci_energy= -7.971184315565538"
   ]
  },
  {
   "cell_type": "markdown",
   "metadata": {},
   "source": [
    "# Histogram"
   ]
  },
  {
   "cell_type": "code",
   "execution_count": 15,
   "metadata": {
    "code_folding": [
     1
    ]
   },
   "outputs": [],
   "source": [
    "def Get_Hist_data(Histogram_data, I_term):\n",
    "    E_list=[]\n",
    "    for m_index in tqdm(range(Histogram_data[0]['Measurements'].shape[0])):\n",
    "        E=I_term\n",
    "        for M_dict_key in Histogram_data:\n",
    "            coeff = Histogram_data[M_dict_key]['coeff']\n",
    "            parity =  1 if sum(map(int, Histogram_data[M_dict_key]['Measurements'][m_index])) % 2 == 0 else -1\n",
    "            E+=coeff*parity\n",
    "        E_list.append(E)\n",
    "    return E_list\n",
    "    "
   ]
  },
  {
   "cell_type": "code",
   "execution_count": null,
   "metadata": {},
   "outputs": [],
   "source": []
  },
  {
   "cell_type": "code",
   "execution_count": 16,
   "metadata": {},
   "outputs": [
    {
     "name": "stderr",
     "output_type": "stream",
     "text": [
      "100%|██████████| 1616700/1616700 [31:34<00:00, 853.19it/s]\n"
     ]
    }
   ],
   "source": [
    "I_term = -4.142299396835105\n",
    "E_list_STANDARD_sim=Get_Hist_data(STANDARD_Hist_data_sim, I_term)"
   ]
  },
  {
   "cell_type": "code",
   "execution_count": 17,
   "metadata": {},
   "outputs": [],
   "source": [
    "import json\n",
    "with open(\"E_list_STANDARD_sim.json\", \"w\") as write_file:\n",
    "    json.dump(E_list_STANDARD_sim, write_file)\n"
   ]
  },
  {
   "cell_type": "code",
   "execution_count": 18,
   "metadata": {},
   "outputs": [],
   "source": [
    "E_list_STANDARD_sim=np.array(E_list_STANDARD_sim)"
   ]
  },
  {
   "cell_type": "code",
   "execution_count": 75,
   "metadata": {},
   "outputs": [],
   "source": [
    "def gaussian(x, mean, amplitude, standard_deviation):\n",
    "    return amplitude * np.exp( - ((x - mean)**2 / (2*standard_deviation**2)))"
   ]
  },
  {
   "cell_type": "code",
   "execution_count": 20,
   "metadata": {},
   "outputs": [],
   "source": [
    "from scipy.optimize import curve_fit"
   ]
  },
  {
   "cell_type": "code",
   "execution_count": null,
   "metadata": {},
   "outputs": [],
   "source": []
  },
  {
   "cell_type": "code",
   "execution_count": 77,
   "metadata": {},
   "outputs": [],
   "source": [
    "# from matplotlib import pyplot\n",
    "# %matplotlib inline\n",
    "\n",
    "\n",
    "# # bins_standard = len(set(E_list_STANDARD_sim))\n",
    "# bins_standard = 1000\n",
    "\n",
    "# bin_heights_STANDARD, bin_borders_STANDARD, _=pyplot.hist(E_list_STANDARD_sim,\n",
    "#                                                           bins_standard, alpha=0.7,\n",
    "#                                                           label='$E$ standard VQE - sim',\n",
    "#                                                           color='g',\n",
    "#                                                           density=False)\n",
    "\n",
    "# bin_centers_STANDARD = bin_borders_STANDARD[:-1] + np.diff(bin_borders_STANDARD) / 2\n",
    "# popt, _ = curve_fit(gaussian, bin_centers_STANDARD, bin_heights_STANDARD, p0=[fci_energy, 0., 1.], **{'maxfev':10000})\n",
    "# mean_STANDARD, amplitude_STANDARD, standard_deviation_STANDARD= popt\n",
    "# x_interval_for_fit = np.linspace(bin_borders_STANDARD[0], bin_borders_STANDARD[-1], 10000)\n",
    "# pyplot.plot(x_interval_for_fit, gaussian(x_interval_for_fit, *popt), label='Gaussian fit', color='g')\n",
    "\n",
    "\n",
    "# pyplot.axvline(mean_STANDARD, color='g', linestyle='dashed', linewidth=1, \n",
    "#             label='$E_{average}$ standard VQE - sim') # mean of GAUSSIAN FIT\n",
    "\n",
    "# # pyplot.axvline(E_list_STANDARD_sim.mean(), color='g', linestyle='dashed', linewidth=1, \n",
    "# #             label='$E_{average}$ standard VQE - sim') # mean of DATA\n",
    "\n",
    "# pyplot.errorbar(mean_STANDARD,65_000,\n",
    "#              xerr=standard_deviation_STANDARD, linestyle=\"None\", color='g',\n",
    "#              uplims=True, lolims=True, label='$\\sigma_{E_{av}}$standard VQE - sim')\n",
    "\n",
    "\n",
    "\n",
    "\n",
    "# pyplot.axvline(fci_energy, color='k', linestyle='solid', linewidth=2, \n",
    "#             label='$E_{FCI}$', alpha=0.4)\n",
    "\n",
    "# pyplot.legend(loc='upper right')\n",
    "# # pyplot.legend(bbox_to_anchor=(0.865,1.9), loc=\"upper left\")\n",
    "# pyplot.ylabel('Frequency')\n",
    "# pyplot.xlabel('Energy')\n",
    "\n",
    "# pyplot.tight_layout()\n",
    "\n",
    "# file_name = 'LiH_Histogram_STANDARD_sim_Gaussian.jpeg'\n",
    "# pyplot.savefig(file_name, dpi=300,transparent=True,) # edgecolor='black', facecolor='white')\n",
    "# pyplot.show()"
   ]
  },
  {
   "cell_type": "code",
   "execution_count": 57,
   "metadata": {},
   "outputs": [
    {
     "data": {
      "text/plain": [
       "[<matplotlib.lines.Line2D at 0x7febb9f3dad0>]"
      ]
     },
     "execution_count": 57,
     "metadata": {},
     "output_type": "execute_result"
    },
    {
     "data": {
      "image/png": "[encoded data removed]",
      "text/plain": [
       "<Figure size 432x288 with 1 Axes>"
      ]
     },
     "metadata": {
      "needs_background": "light"
     },
     "output_type": "display_data"
    }
   ],
   "source": [
    "def normal_dist(x, mean, standard_deviation):\n",
    "    return (1/(np.sqrt(2*np.pi)*standard_deviation)) * np.exp( - ((x - mean)**2 / (2*standard_deviation**2)))\n",
    "\n",
    "plt.plot(x, normal_dist(x, av, sig))"
   ]
  },
  {
   "cell_type": "code",
   "execution_count": 58,
   "metadata": {},
   "outputs": [],
   "source": [
    "# from scipy.stats import norm\n",
    "\n",
    "# x=np.linspace(-10, 10, 1000)\n",
    "# av=2\n",
    "# sig=1\n",
    "# plt.plot(x, norm.pdf(x, av, sig))"
   ]
  },
  {
   "cell_type": "code",
   "execution_count": 90,
   "metadata": {},
   "outputs": [
    {
     "data": {
      "text/plain": [
       "154905"
      ]
     },
     "execution_count": 90,
     "metadata": {},
     "output_type": "execute_result"
    }
   ],
   "source": [
    "len(set(np.around(E_list_STANDARD_sim, 5)))"
   ]
  },
  {
   "cell_type": "code",
   "execution_count": 164,
   "metadata": {},
   "outputs": [
    {
     "data": {
      "text/plain": [
       "(1616700,)"
      ]
     },
     "execution_count": 164,
     "metadata": {},
     "output_type": "execute_result"
    }
   ],
   "source": [
    "E_list_STANDARD_sim.shape"
   ]
  },
  {
   "cell_type": "code",
   "execution_count": 166,
   "metadata": {},
   "outputs": [
    {
     "data": {
      "text/plain": [
       "117.36622772049694"
      ]
     },
     "execution_count": 166,
     "metadata": {},
     "output_type": "execute_result"
    }
   ],
   "source": [
    " E_list_STANDARD_sim.shape[0]**(1/3)"
   ]
  },
  {
   "cell_type": "code",
   "execution_count": 178,
   "metadata": {},
   "outputs": [
    {
     "data": {
      "text/plain": [
       "819.0"
      ]
     },
     "execution_count": 178,
     "metadata": {},
     "output_type": "execute_result"
    }
   ],
   "source": [
    "# https://stats.stackexchange.com/questions/798/calculating-optimal-number-of-bins-in-a-histogram\n",
    "from scipy.stats import iqr\n",
    "\n",
    "bin_width = 2 * iqr(E_list_STANDARD_sim) / E_list_STANDARD_sim.shape[0]**(1/3)\n",
    "np.ceil((max(E_list_STANDARD_sim)-min(E_list_STANDARD_sim))/bin_width)"
   ]
  },
  {
   "cell_type": "code",
   "execution_count": 181,
   "metadata": {},
   "outputs": [
    {
     "data": {
      "image/png": "[encoded data removed]",
      "text/plain": [
       "<Figure size 432x288 with 1 Axes>"
      ]
     },
     "metadata": {
      "needs_background": "light"
     },
     "output_type": "display_data"
    }
   ],
   "source": [
    "from matplotlib import pyplot\n",
    "%matplotlib inline\n",
    "\n",
    "\n",
    "# bins = len(set(E_list_SEQ_ROT_sim))\n",
    "# bins_standard = len(set(E_list_STANDARD_sim))\n",
    "\n",
    "# bins_standard = 150_000\n",
    "bins_standard = 2500\n",
    "\n",
    "bin_heights_STANDARD, bin_borders_STANDARD, _=pyplot.hist(E_list_STANDARD_sim,\n",
    "                                                          bins_standard, alpha=0.7,\n",
    "                                                          label='$E$ standard VQE - sim',\n",
    "                                                          color='g',\n",
    "                                                          density=True)\n",
    "####                                                          ,hatch='-')\n",
    "\n",
    "###### Gaussian fit\n",
    "bin_centers_STANDARD = bin_borders_STANDARD[:-1] + np.diff(bin_borders_STANDARD) / 2\n",
    "popt, _ = curve_fit(gaussian, bin_centers_STANDARD, bin_heights_STANDARD, p0=[fci_energy, 0., 1.])#, **{'maxfev':10000})\n",
    "mean_STANDARD, amplitude_STANDARD, standard_deviation_STANDARD= popt\n",
    "x_interval_for_fit = np.linspace(bin_borders_STANDARD[0], bin_borders_STANDARD[-1], 10000)\n",
    "pyplot.plot(x_interval_for_fit, gaussian(x_interval_for_fit, *popt), label='Gaussian fit', color='olive',\n",
    "           linewidth=3)\n",
    "\n",
    "\n",
    "\n",
    "\n",
    "### normal fit\n",
    "# popt_norm, _ = curve_fit(normal_dist, bin_centers_STANDARD, bin_heights_STANDARD, p0=[fci_energy, standard_deviation_STANDARD])#, **{'maxfev':10000})\n",
    "# mean_norm, standard_deviation_norm= popt_norm\n",
    "# pyplot.plot(x_interval_for_fit, normal_dist(x_interval_for_fit, *popt_norm), label='Normal fit', color='b',\n",
    "#            linestyle='--')\n",
    "\n",
    "# pyplot.plot(x_interval_for_fit, normal_dist(x_interval_for_fit, mean_STANDARD, standard_deviation_STANDARD), \n",
    "#             label='Normal fit', color='b', linestyle='--')\n",
    "\n",
    "\n",
    "\n",
    "\n",
    "\n",
    "#### Average energy from data\n",
    "pyplot.axvline(E_list_STANDARD_sim.mean(), color='g', linestyle='--', linewidth=2, \n",
    "            label='$E_{average}$ standard VQE - sim') # mean of DATA\n",
    "\n",
    "\n",
    "\n",
    "##############\n",
    "\n",
    "# chemical accuracy\n",
    "pyplot.axvline(fci_energy, color='k', linestyle='solid', linewidth=3, \n",
    "            label='$E_{FCI}$', alpha=0.3)\n",
    "\n",
    "# # chemical accuracy\n",
    "# pyplot.fill_between([fci_energy-1.6e-3, fci_energy+1.6e-3],\n",
    "#                  [0, np.ceil(max(bin_heights_STANDARD))] ,\n",
    "#                  color='k', \n",
    "#                  label='chemical accuracy',\n",
    "#                 alpha=0.5)\n",
    "\n",
    "\n",
    "pyplot.rcParams[\"font.family\"] = \"Times New Roman\"\n",
    "# pyplot.legend(loc='upper right')\n",
    "# # pyplot.legend(bbox_to_anchor=(0.865,1.9), loc=\"upper left\")\n",
    "pyplot.ylabel('Probability Density', fontsize=20)\n",
    "pyplot.xlabel('Energy / Hartree', fontsize=20)\n",
    "pyplot.xticks(np.arange(-9.5,-5.5,0.5), fontsize=20)\n",
    "pyplot.yticks(np.arange(0,2.5,0.5), fontsize=20)\n",
    "\n",
    "# pyplot.xlim(np.floor(min(bin_borders_STANDARD)), np.ceil(max(bin_borders_STANDARD)))\n",
    "pyplot.xlim(-9.5, -6.5)\n",
    "\n",
    "\n",
    "pyplot.tight_layout()\n",
    "\n",
    "file_name = 'LiH_Histogram_STANDARD_sim_Gaussian.jpeg'\n",
    "pyplot.savefig(file_name, dpi=300,transparent=True,) # edgecolor='black', facecolor='white')\n",
    "pyplot.show()"
   ]
  },
  {
   "cell_type": "code",
   "execution_count": 112,
   "metadata": {},
   "outputs": [
    {
     "data": {
      "image/png": "[encoded data removed]",
      "text/plain": [
       "<Figure size 432x288 with 1 Axes>"
      ]
     },
     "metadata": {
      "needs_background": "light"
     },
     "output_type": "display_data"
    }
   ],
   "source": [
    "from matplotlib import pyplot\n",
    "%matplotlib inline\n",
    "\n",
    "\n",
    "# bins = len(set(E_list_SEQ_ROT_sim))\n",
    "# bins_standard = len(set(E_list_STANDARD_sim))\n",
    "\n",
    "# bins_standard = 5000\n",
    "bins_standard = 150_000\n",
    "\n",
    "bin_heights_STANDARD, bin_borders_STANDARD, _=pyplot.hist(E_list_STANDARD_sim,\n",
    "                                                          bins_standard, alpha=0.7,\n",
    "                                                          label='$E$ standard VQE - sim',\n",
    "                                                          color='g',\n",
    "                                                          density=True)\n",
    "\n",
    "\n",
    "\n",
    "##############\n",
    "\n",
    "\n",
    "pyplot.rcParams[\"font.family\"] = \"Times New Roman\"\n",
    "# pyplot.legend(loc='upper right')\n",
    "# # pyplot.legend(bbox_to_anchor=(0.865,1.9), loc=\"upper left\")\n",
    "pyplot.ylabel('Probability Density', fontsize=20)\n",
    "pyplot.xlabel('Energy / Hartree', fontsize=20)\n",
    "pyplot.xticks(np.arange(-9.5,-5.5,0.5), fontsize=20)\n",
    "pyplot.yticks(np.arange(0,3,0.5), fontsize=20)\n",
    "\n",
    "# pyplot.xlim(np.floor(min(bin_borders_STANDARD)), np.ceil(max(bin_borders_STANDARD)))\n",
    "pyplot.xlim(-9.5, -6.5)\n",
    "\n",
    "\n",
    "pyplot.tight_layout()\n",
    "\n",
    "# file_name = 'LiH_Histogram_STANDARD_sim_Gaussian.jpeg'\n",
    "# pyplot.savefig(file_name, dpi=300,transparent=True,) # edgecolor='black', facecolor='white')\n",
    "pyplot.show()"
   ]
  },
  {
   "cell_type": "code",
   "execution_count": 69,
   "metadata": {},
   "outputs": [],
   "source": [
    "from scipy import stats"
   ]
  },
  {
   "cell_type": "code",
   "execution_count": 70,
   "metadata": {},
   "outputs": [
    {
     "name": "stderr",
     "output_type": "stream",
     "text": [
      "/Users/lex/anaconda3/envs/UpdatedCirq/lib/python3.7/site-packages/scipy/stats/morestats.py:1676: UserWarning: p-value may not be accurate for N > 5000.\n",
      "  warnings.warn(\"p-value may not be accurate for N > 5000.\")\n"
     ]
    },
    {
     "name": "stdout",
     "output_type": "stream",
     "text": [
      "(0.9651805758476257, 0.0)\n",
      "KstestResult(statistic=0.9999993680558639, pvalue=0.0)\n"
     ]
    }
   ],
   "source": [
    "print(stats.shapiro(E_list_STANDARD_sim))\n",
    "print(stats.kstest(E_list_STANDARD_sim, 'norm'))"
   ]
  },
  {
   "cell_type": "markdown",
   "metadata": {},
   "source": [
    "# XY Z comparison"
   ]
  },
  {
   "cell_type": "code",
   "execution_count": 110,
   "metadata": {},
   "outputs": [
    {
     "data": {
      "text/plain": [
       "5.237148798738557"
      ]
     },
     "execution_count": 110,
     "metadata": {},
     "output_type": "execute_result"
    }
   ],
   "source": [
    "i_list_XY=[]\n",
    "STANDARD_Hist_data_XY={}\n",
    "\n",
    "i_list_Z=[]\n",
    "STANDARD_Hist_data_Z={}\n",
    "amplitude_min=0.00\n",
    "XY_terms=[]\n",
    "Z_amp_sum=0\n",
    "\n",
    "for key in STANDARD_Hist_data_sim:\n",
    "    Pword, const = STANDARD_Hist_data_sim[key]['P']\n",
    "    coeff=STANDARD_Hist_data_sim[key]['coeff']\n",
    "    \n",
    "    if np.abs(coeff)>amplitude_min:\n",
    "        qubitNos, qubitPstrs = zip(*(list(Pword)))\n",
    "        # XY terms only!\n",
    "        if ('X' in qubitPstrs) or ('Y' in qubitPstrs):\n",
    "            i_list_XY.append(key)\n",
    "            STANDARD_Hist_data_XY[key]=STANDARD_Hist_data_sim[key]\n",
    "            XY_terms.append(STANDARD_Hist_data_sim[key]['P'])\n",
    "        else:\n",
    "            i_list_Z.append(key)\n",
    "            STANDARD_Hist_data_Z[key]=STANDARD_Hist_data_sim[key]\n",
    "            Z_amp_sum+=coeff\n",
    "Z_amp_sum"
   ]
  },
  {
   "cell_type": "code",
   "execution_count": 73,
   "metadata": {},
   "outputs": [],
   "source": [
    "def Get_Hist_data(Histogram_data, I_term):\n",
    "    E_list=[]\n",
    "    for m_index in tqdm(range(Histogram_data[list(Histogram_data.keys())[0]]['Measurements'].shape[0])):\n",
    "        E=I_term\n",
    "        for M_dict_key in Histogram_data:\n",
    "            coeff = Histogram_data[M_dict_key]['coeff']\n",
    "            parity =  1 if sum(map(int, Histogram_data[M_dict_key]['Measurements'][m_index])) % 2 == 0 else -1\n",
    "            E+=coeff*parity\n",
    "        E_list.append(E)\n",
    "    return E_list\n",
    "    "
   ]
  },
  {
   "cell_type": "code",
   "execution_count": 74,
   "metadata": {},
   "outputs": [
    {
     "name": "stderr",
     "output_type": "stream",
     "text": [
      "100%|██████████| 1616700/1616700 [28:48<00:00, 935.30it/s] \n",
      "100%|██████████| 1616700/1616700 [03:34<00:00, 7529.63it/s]\n"
     ]
    }
   ],
   "source": [
    "I_term = -4.142299396835105\n",
    "\n",
    "E_list_STANDARD_XY=Get_Hist_data(STANDARD_Hist_data_XY, 0)\n",
    "E_list_STANDARD_Z=Get_Hist_data(STANDARD_Hist_data_Z, 0)"
   ]
  },
  {
   "cell_type": "code",
   "execution_count": 134,
   "metadata": {},
   "outputs": [
    {
     "name": "stdout",
     "output_type": "stream",
     "text": [
      "106136\n",
      "9536\n"
     ]
    }
   ],
   "source": [
    "print(len(set(np.around(E_list_STANDARD_XY, 5))))\n",
    "print(len(set(np.around(E_list_STANDARD_Z, 5))))"
   ]
  },
  {
   "cell_type": "code",
   "execution_count": 144,
   "metadata": {},
   "outputs": [
    {
     "data": {
      "image/png": "[encoded data removed]",
      "text/plain": [
       "<Figure size 432x288 with 1 Axes>"
      ]
     },
     "metadata": {
      "needs_background": "light"
     },
     "output_type": "display_data"
    }
   ],
   "source": [
    "from matplotlib import pyplot\n",
    "%matplotlib inline\n",
    "\n",
    "\n",
    "# bins_standard = len(set(E_list_STANDARD_sim))\n",
    "# bins_standard = 1000\n",
    "bins_standard=8_000\n",
    "\n",
    "# bin_heights_XY, bin_borders_XY, _=pyplot.hist(E_list_STANDARD_XY,\n",
    "#                                                           bins_standard, alpha=0.7,\n",
    "#                                                           label='$XY$ terms',\n",
    "#                                                           color='b',\n",
    "#                                                           density=False)\n",
    "\n",
    "bin_heights_Z, bin_borders_Z, _=pyplot.hist(E_list_STANDARD_Z,\n",
    "                                                          bins_standard, alpha=0.7,\n",
    "                                                          label='$Z$ terms',\n",
    "                                                          color='g',\n",
    "                                                          density=True)\n",
    "\n",
    "pyplot.rcParams[\"font.family\"] = \"Times New Roman\"\n",
    "pyplot.ylabel('Probability Density', fontsize=20)\n",
    "pyplot.xlabel('Energy / Hartree', fontsize=20)\n",
    "pyplot.xticks(np.arange(-4.2,-3.0,0.2), fontsize=20)\n",
    "pyplot.xlim((-4.2, -3.2)) \n",
    "pyplot.yticks(np.arange(0,1200,200), fontsize=20)\n",
    "pyplot.ylim((0, 1000)) \n",
    "\n",
    "pyplot.tight_layout()\n",
    "\n",
    "file_name = 'LiH_standard_Z.jpeg'\n",
    "pyplot.savefig(file_name, dpi=300,transparent=True,) # edgecolor='black', facecolor='white')\n",
    "pyplot.show()"
   ]
  },
  {
   "cell_type": "code",
   "execution_count": 145,
   "metadata": {},
   "outputs": [
    {
     "data": {
      "text/plain": [
       "array([2334])"
      ]
     },
     "execution_count": 145,
     "metadata": {},
     "output_type": "execute_result"
    }
   ],
   "source": [
    "np.where(bin_heights_Z==max(bin_heights_Z))[0]"
   ]
  },
  {
   "cell_type": "code",
   "execution_count": 161,
   "metadata": {},
   "outputs": [
    {
     "name": "stdout",
     "output_type": "stream",
     "text": [
      "951.3579852420173\n",
      "left sum: 504.8055111080494\n",
      "right sum: 518.2528410337952\n"
     ]
    }
   ],
   "source": [
    "print(bin_heights_Z[2334])\n",
    "print('left sum:',sum(bin_heights_Z[:2334]))\n",
    "print('right sum:', sum(bin_heights_Z[2335:]))\n",
    "# therefore slighlt more likely to get more +ve energy!!!"
   ]
  },
  {
   "cell_type": "code",
   "execution_count": null,
   "metadata": {},
   "outputs": [],
   "source": []
  },
  {
   "cell_type": "code",
   "execution_count": null,
   "metadata": {},
   "outputs": [],
   "source": []
  },
  {
   "cell_type": "code",
   "execution_count": null,
   "metadata": {},
   "outputs": [],
   "source": [
    "bin_borders_Z[583]"
   ]
  },
  {
   "cell_type": "code",
   "execution_count": 108,
   "metadata": {},
   "outputs": [
    {
     "name": "stdout",
     "output_type": "stream",
     "text": [
      "411283\n",
      "372029\n"
     ]
    },
    {
     "data": {
      "text/plain": [
       "1616700"
      ]
     },
     "execution_count": 108,
     "metadata": {},
     "output_type": "execute_result"
    }
   ],
   "source": [
    "print(len(np.where(np.array(E_list_STANDARD_Z)>-3.8)[0]))\n",
    "print(len(np.where(np.array(E_list_STANDARD_Z)<-3.89)[0]))\n",
    "len(E_list_STANDARD_Z)"
   ]
  },
  {
   "cell_type": "code",
   "execution_count": 136,
   "metadata": {},
   "outputs": [
    {
     "data": {
      "image/png": "[encoded data removed]",
      "text/plain": [
       "<Figure size 432x288 with 1 Axes>"
      ]
     },
     "metadata": {
      "needs_background": "light"
     },
     "output_type": "display_data"
    }
   ],
   "source": [
    "from matplotlib import pyplot\n",
    "%matplotlib inline\n",
    "\n",
    "\n",
    "# bins_standard = len(set(E_list_STANDARD_sim))\n",
    "# bins_standard = 1000\n",
    "bins_standard = 5000\n",
    "\n",
    "bin_heights_XY, bin_borders_XY, _=pyplot.hist(E_list_STANDARD_XY,\n",
    "                                                          bins_standard, alpha=0.7,\n",
    "                                                          label='$XY$ terms',\n",
    "                                                          color='g',\n",
    "                                                          density=True)\n",
    "\n",
    "pyplot.rcParams[\"font.family\"] = \"Times New Roman\"\n",
    "pyplot.ylabel('Probability Density', fontsize=20)\n",
    "pyplot.xlabel('Energy / Hartree', fontsize=20)\n",
    "pyplot.xticks(np.arange(-0.8,0.9,0.2), fontsize=20)\n",
    "pyplot.xlim((-0.8, 0.8)) \n",
    "pyplot.yticks(np.arange(0,3,0.5), fontsize=20)\n",
    "\n",
    "\n",
    "pyplot.tight_layout()\n",
    "\n",
    "file_name = 'LiH_standard_XY.jpeg'\n",
    "pyplot.savefig(file_name, dpi=300,transparent=True,) # edgecolor='black', facecolor='white')\n",
    "pyplot.show()"
   ]
  },
  {
   "cell_type": "code",
   "execution_count": null,
   "metadata": {},
   "outputs": [],
   "source": []
  },
  {
   "cell_type": "code",
   "execution_count": null,
   "metadata": {},
   "outputs": [],
   "source": []
  },
  {
   "cell_type": "code",
   "execution_count": null,
   "metadata": {},
   "outputs": [],
   "source": []
  }
 ],
 "metadata": {
  "kernelspec": {
   "display_name": "Python 3",
   "language": "python",
   "name": "python3"
  },
  "language_info": {
   "codemirror_mode": {
    "name": "ipython",
    "version": 3
   },
   "file_extension": ".py",
   "mimetype": "text/x-python",
   "name": "python",
   "nbconvert_exporter": "python",
   "pygments_lexer": "ipython3",
   "version": "3.7.6"
  }
 },
 "nbformat": 4,
 "nbformat_minor": 4
}
