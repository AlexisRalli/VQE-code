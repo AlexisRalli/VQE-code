{
 "cells": [
  {
   "cell_type": "code",
   "execution_count": 1,
   "metadata": {},
   "outputs": [],
   "source": [
    "import pickle\n",
    "import os\n",
    "import numpy as np"
   ]
  },
  {
   "cell_type": "code",
   "execution_count": null,
   "metadata": {},
   "outputs": [],
   "source": []
  },
  {
   "cell_type": "code",
   "execution_count": 2,
   "metadata": {
    "code_folding": [
     2
    ]
   },
   "outputs": [],
   "source": [
    "from quchem_ibm.exp_analysis import *\n",
    "\n",
    "def dict_of_M_to_list(M_dict, PauliOP):\n",
    "    \n",
    "    P_Qubit_list, _ = zip(*(list(*PauliOP.terms.keys())))\n",
    "    \n",
    "    list_of_M_bitstrings=None\n",
    "    for bit_string, N_obtained in M_dict.items():\n",
    "        \n",
    "        M_string = np.take(list(bit_string[::-1]), P_Qubit_list) # only take terms measured! Note bitstring reversed!\n",
    "        \n",
    "        array_meas = np.repeat(''.join(M_string), N_obtained)\n",
    "        if list_of_M_bitstrings is None:\n",
    "            list_of_M_bitstrings=array_meas\n",
    "        else:\n",
    "            list_of_M_bitstrings=np.hstack((list_of_M_bitstrings,array_meas))\n",
    "    \n",
    "    # randomly shuffle (seed means outcome will always be the SAME!)\n",
    "#     np.random.seed(42) \n",
    "    np.random.shuffle(list_of_M_bitstrings) \n",
    "    \n",
    "    return list_of_M_bitstrings"
   ]
  },
  {
   "cell_type": "code",
   "execution_count": null,
   "metadata": {},
   "outputs": [],
   "source": []
  },
  {
   "cell_type": "code",
   "execution_count": 3,
   "metadata": {
    "code_folding": [
     3
    ]
   },
   "outputs": [],
   "source": [
    "# # input for exp\n",
    "base_dir = os.getcwd()\n",
    "input_file = os.path.join(base_dir, 'LiH_simulation_RESULTS_time=2020Oct07-163210198971.pickle')\n",
    "with open(input_file, 'rb') as handle:\n",
    "    LiH_data = pickle.load(handle)\n"
   ]
  },
  {
   "cell_type": "code",
   "execution_count": 4,
   "metadata": {},
   "outputs": [],
   "source": [
    "experimental_data_SEQ_ROT = LiH_data['experiment_data'].copy()\n",
    "\n",
    "del LiH_data"
   ]
  },
  {
   "cell_type": "code",
   "execution_count": 5,
   "metadata": {},
   "outputs": [],
   "source": [
    "SEQ_ROT_data = experimental_data_SEQ_ROT[101852100]['seq_rot'].copy()\n",
    "del experimental_data_SEQ_ROT\n"
   ]
  },
  {
   "cell_type": "code",
   "execution_count": null,
   "metadata": {},
   "outputs": [],
   "source": []
  },
  {
   "cell_type": "code",
   "execution_count": 6,
   "metadata": {},
   "outputs": [],
   "source": [
    "SEQ_ROT_Hist_data_sim={}\n",
    "    \n",
    "for exp_instance in SEQ_ROT_data: \n",
    "    for exp_dict_key in exp_instance:\n",
    "\n",
    "        exp_dict= exp_instance[exp_dict_key]\n",
    "\n",
    "        if 'Ps' in exp_dict.keys():\n",
    "            P=exp_dict['Ps']\n",
    "            coeff = exp_dict['gamma_l']\n",
    "\n",
    "            measured_dict_sim = exp_dict['measurement_dict']\n",
    "\n",
    "        else:\n",
    "            P=exp_dict['qubitOp']\n",
    "            coeff = exp_dict['coeff']\n",
    "            measured_dict_sim = exp_dict['measurement_dict']\n",
    "\n",
    "        M_list_sim = dict_of_M_to_list(measured_dict_sim, P)\n",
    "\n",
    "        if exp_dict_key in SEQ_ROT_Hist_data_sim.keys():\n",
    "            SEQ_ROT_Hist_data_sim[exp_dict_key]={'P':P ,'coeff': coeff, 'Measurements': np.hstack((SEQ_ROT_Hist_data_sim[exp_dict_key]['Measurements'],M_list_sim))}\n",
    "        else:\n",
    "            SEQ_ROT_Hist_data_sim[exp_dict_key]={'P':P ,'coeff': coeff, 'Measurements': M_list_sim}\n"
   ]
  },
  {
   "cell_type": "code",
   "execution_count": 7,
   "metadata": {},
   "outputs": [
    {
     "data": {
      "text/plain": [
       "(9985500,)"
      ]
     },
     "execution_count": 7,
     "metadata": {},
     "output_type": "execute_result"
    }
   ],
   "source": [
    "SEQ_ROT_Hist_data_sim[0]['Measurements'].shape"
   ]
  },
  {
   "cell_type": "code",
   "execution_count": 8,
   "metadata": {},
   "outputs": [],
   "source": [
    "# ### save output\n",
    "# np.save('LCU_hist_data', STANDARD_Hist_data_sim)"
   ]
  },
  {
   "cell_type": "code",
   "execution_count": 9,
   "metadata": {},
   "outputs": [],
   "source": [
    "import matplotlib.pyplot as plt"
   ]
  },
  {
   "cell_type": "code",
   "execution_count": 10,
   "metadata": {},
   "outputs": [],
   "source": [
    "fci_energy= -7.971184315565538"
   ]
  },
  {
   "cell_type": "markdown",
   "metadata": {},
   "source": [
    "# Histogram"
   ]
  },
  {
   "cell_type": "code",
   "execution_count": 11,
   "metadata": {
    "code_folding": [
     1
    ]
   },
   "outputs": [],
   "source": [
    "from tqdm.notebook import tqdm\n",
    "def Get_Hist_data(Histogram_data, I_term):\n",
    "    E_list=[]\n",
    "    for m_index in tqdm(range(Histogram_data[0]['Measurements'].shape[0])):\n",
    "        E=I_term\n",
    "        for M_dict_key in Histogram_data:\n",
    "            coeff = Histogram_data[M_dict_key]['coeff']\n",
    "            parity =  1 if sum(map(int, Histogram_data[M_dict_key]['Measurements'][m_index])) % 2 == 0 else -1\n",
    "            E+=coeff*parity\n",
    "        E_list.append(E)\n",
    "    return E_list\n",
    "    "
   ]
  },
  {
   "cell_type": "code",
   "execution_count": null,
   "metadata": {},
   "outputs": [],
   "source": []
  },
  {
   "cell_type": "code",
   "execution_count": 12,
   "metadata": {},
   "outputs": [
    {
     "data": {
      "application/vnd.jupyter.widget-view+json": {
       "model_id": "f2b30b0cf4fb40a58dfe69b3d0fd8dda",
       "version_major": 2,
       "version_minor": 0
      },
      "text/plain": [
       "HBox(children=(FloatProgress(value=0.0, max=9985500.0), HTML(value='')))"
      ]
     },
     "metadata": {},
     "output_type": "display_data"
    },
    {
     "name": "stdout",
     "output_type": "stream",
     "text": [
      "\n"
     ]
    }
   ],
   "source": [
    "I_term = -4.142299396835105\n",
    "E_list_SEQ_ROT_sim=Get_Hist_data(SEQ_ROT_Hist_data_sim, I_term)"
   ]
  },
  {
   "cell_type": "code",
   "execution_count": 13,
   "metadata": {},
   "outputs": [
    {
     "name": "stderr",
     "output_type": "stream",
     "text": [
      "/Users/lex/anaconda3/envs/UpdatedCirq/lib/python3.7/site-packages/ipykernel_launcher.py:1: ComplexWarning: Casting complex values to real discards the imaginary part\n",
      "  \"\"\"Entry point for launching an IPython kernel.\n"
     ]
    }
   ],
   "source": [
    "E_list_SEQ_ROT_sim=np.array(E_list_SEQ_ROT_sim, dtype=float).tolist()"
   ]
  },
  {
   "cell_type": "code",
   "execution_count": 14,
   "metadata": {},
   "outputs": [],
   "source": [
    "import json"
   ]
  },
  {
   "cell_type": "code",
   "execution_count": 15,
   "metadata": {},
   "outputs": [],
   "source": [
    "with open(\"E_list_SEQ_ROT_sim.json\", \"w\") as write_file:\n",
    "    json.dump(E_list_SEQ_ROT_sim, write_file)"
   ]
  },
  {
   "cell_type": "code",
   "execution_count": 16,
   "metadata": {},
   "outputs": [],
   "source": [
    "with open(\"E_list_SEQ_ROT_sim.json\", \"r\") as read_file:\n",
    "    E_list_SEQ_ROT_sim = json.load(read_file)\n"
   ]
  },
  {
   "cell_type": "code",
   "execution_count": 17,
   "metadata": {},
   "outputs": [],
   "source": [
    "E_list_SEQ_ROT_sim=np.array(E_list_SEQ_ROT_sim)"
   ]
  },
  {
   "cell_type": "code",
   "execution_count": 22,
   "metadata": {},
   "outputs": [],
   "source": [
    "def gaussian(x, mean, amplitude, standard_deviation):\n",
    "    return amplitude * np.exp( - ((x - mean)**2 / (2*standard_deviation**2)))"
   ]
  },
  {
   "cell_type": "code",
   "execution_count": 19,
   "metadata": {},
   "outputs": [],
   "source": [
    "from scipy.optimize import curve_fit"
   ]
  },
  {
   "cell_type": "code",
   "execution_count": null,
   "metadata": {},
   "outputs": [],
   "source": []
  },
  {
   "cell_type": "code",
   "execution_count": 20,
   "metadata": {},
   "outputs": [
    {
     "data": {
      "image/png": "[encoded data removed]",
      "text/plain": [
       "<Figure size 432x288 with 1 Axes>"
      ]
     },
     "metadata": {
      "needs_background": "light"
     },
     "output_type": "display_data"
    }
   ],
   "source": [
    "# from matplotlib import pyplot\n",
    "# %matplotlib inline\n",
    "\n",
    "\n",
    "# # bins = len(set(E_list_SEQ_ROT_sim))\n",
    "# bins = 500\n",
    "\n",
    "\n",
    "# bin_heights_SEQ_ROT_sim, bin_borders_SEQ_ROT_sim, _=pyplot.hist(E_list_SEQ_ROT_sim, \n",
    "#                                                                 bins, alpha=0.7, \n",
    "#                                                                 label='$E_{average}$ seq rot VQE - sim', \n",
    "#                                                                 color='b',\n",
    "#                                                               density=False)\n",
    "\n",
    "# bin_centers_SEQ_ROT_sim = bin_borders_SEQ_ROT_sim[:-1] + np.diff(bin_borders_SEQ_ROT_sim) / 2\n",
    "# popt, _ = curve_fit(gaussian, bin_centers_SEQ_ROT_sim, bin_heights_SEQ_ROT_sim, p0=[fci_energy, 0, 1], **{'maxfev':10000})\n",
    "# mean_SEQ_ROT_sim, amplitude_SEQ_ROT_sim, standard_deviation_SEQ_ROT_sim= popt\n",
    "# x_interval_for_fit = np.linspace(bin_borders_SEQ_ROT_sim[0], bin_borders_SEQ_ROT_sim[-1], 10000)\n",
    "# pyplot.plot(x_interval_for_fit, gaussian(x_interval_for_fit, *popt), label='Gaussian fit', color='b')\n",
    "\n",
    "\n",
    "# pyplot.axvline(mean_SEQ_ROT_sim, color='b', linestyle='dashdot', linewidth=1, \n",
    "#             label='$E_{average}$ seq rot VQE - sim') # mean of GAUSSIAN FIT\n",
    "\n",
    "# # pyplot.axvline(E_list_SEQ_ROT_sim.mean(), color='b', linestyle='dashdot', linewidth=1, \n",
    "# #             label='$E_{average}$ seq rot VQE - sim') # mean of DATA\n",
    "\n",
    "# pyplot.errorbar(mean_SEQ_ROT_sim, 600_000,\n",
    "#              xerr=standard_deviation_SEQ_ROT_sim, linestyle=\"None\", color='b',\n",
    "#              uplims=True, lolims=True, label='$\\sigma_{E_{av}}$ seq rot - sim')\n",
    "\n",
    "\n",
    "\n",
    "\n",
    "# pyplot.axvline(fci_energy, color='k', linestyle='solid', linewidth=2, \n",
    "#             label='$E_{FCI}$', alpha=0.4)\n",
    "\n",
    "# pyplot.legend(loc='upper right')\n",
    "# # pyplot.legend(bbox_to_anchor=(0.865,1.9), loc=\"upper left\")\n",
    "# pyplot.ylabel('Frequency')\n",
    "# pyplot.xlabel('Energy')\n",
    "\n",
    "# pyplot.tight_layout()\n",
    "\n",
    "# file_name = 'LiH_Histogram_sim_SEQ_ROT_Gaussian.jpeg'\n",
    "# pyplot.savefig(file_name, dpi=300,transparent=True,) # edgecolor='black', facecolor='white')\n",
    "# pyplot.show()"
   ]
  },
  {
   "cell_type": "code",
   "execution_count": 21,
   "metadata": {},
   "outputs": [
    {
     "data": {
      "text/plain": [
       "217802"
      ]
     },
     "execution_count": 21,
     "metadata": {},
     "output_type": "execute_result"
    }
   ],
   "source": [
    "len(set(np.around(E_list_SEQ_ROT_sim, 5)))"
   ]
  },
  {
   "cell_type": "code",
   "execution_count": 27,
   "metadata": {},
   "outputs": [
    {
     "data": {
      "text/plain": [
       "2265.0"
      ]
     },
     "execution_count": 27,
     "metadata": {},
     "output_type": "execute_result"
    }
   ],
   "source": [
    "# https://stats.stackexchange.com/questions/798/calculating-optimal-number-of-bins-in-a-histogram\n",
    "from scipy.stats import iqr\n",
    "\n",
    "bin_width = 2 * iqr(E_list_SEQ_ROT_sim) / E_list_SEQ_ROT_sim.shape[0]**(1/3)\n",
    "np.ceil((max(E_list_SEQ_ROT_sim)-min(E_list_SEQ_ROT_sim))/bin_width)"
   ]
  },
  {
   "cell_type": "code",
   "execution_count": 30,
   "metadata": {},
   "outputs": [
    {
     "data": {
      "image/png": "[encoded data removed]",
      "text/plain": [
       "<Figure size 432x288 with 1 Axes>"
      ]
     },
     "metadata": {
      "needs_background": "light"
     },
     "output_type": "display_data"
    }
   ],
   "source": [
    "from matplotlib import pyplot\n",
    "%matplotlib inline\n",
    "\n",
    "\n",
    "# bins = 210_000\n",
    "bins = 2500\n",
    "\n",
    "\n",
    "bin_heights_SEQ_ROT_sim, bin_borders_SEQ_ROT_sim, _=pyplot.hist(E_list_SEQ_ROT_sim, \n",
    "                                                                bins, alpha=0.7, \n",
    "                                                                label='$E_{average}$ seq rot VQE - sim', \n",
    "                                                                color='b',\n",
    "                                                              density=True)\n",
    "\n",
    "### Gaussian Fit\n",
    "bin_centers_SEQ_ROT_sim = bin_borders_SEQ_ROT_sim[:-1] + np.diff(bin_borders_SEQ_ROT_sim) / 2\n",
    "popt, _ = curve_fit(gaussian, bin_centers_SEQ_ROT_sim, bin_heights_SEQ_ROT_sim, p0=[fci_energy, 0, 1], **{'maxfev':10000})\n",
    "mean_SEQ_ROT_sim, amplitude_SEQ_ROT_sim, standard_deviation_SEQ_ROT_sim= popt\n",
    "x_interval_for_fit = np.linspace(bin_borders_SEQ_ROT_sim[0], bin_borders_SEQ_ROT_sim[-1], 10000)\n",
    "pyplot.plot(x_interval_for_fit, gaussian(x_interval_for_fit, *popt), label='Gaussian fit', color='cadetblue',\n",
    "           linewidth=3)\n",
    "\n",
    "\n",
    "\n",
    "### Average Energy\n",
    "pyplot.axvline(np.mean(E_list_SEQ_ROT_sim), color='b', linestyle='--', linewidth=2, \n",
    "            label='$E_{average}$ seq rot VQE - sim') # mean of GAUSSIAN FIT\n",
    "\n",
    "\n",
    "##############\n",
    "# chemical accuracy\n",
    "pyplot.axvline(fci_energy, color='k', linestyle='solid', linewidth=3, \n",
    "            label='$E_{FCI}$', alpha=0.3)\n",
    "\n",
    "# # chemical accuracy\n",
    "# pyplot.fill_between([fci_energy-1.6e-3, fci_energy+1.6e-3],\n",
    "#                  [0, np.ceil(max(bin_heights_STANDARD))] ,\n",
    "#                  color='k', \n",
    "#                  label='chemical accuracy',\n",
    "#                 alpha=0.5)\n",
    "\n",
    "\n",
    "pyplot.rcParams[\"font.family\"] = \"Times New Roman\"\n",
    "pyplot.ylabel('Probability Density', fontsize=20)\n",
    "pyplot.xlabel('Energy / Hartree', fontsize=20)\n",
    "pyplot.xticks(np.arange(-9.5,-5.5,0.5), fontsize=20)\n",
    "pyplot.yticks(np.arange(0,2.5,0.5), fontsize=20)\n",
    "\n",
    "# pyplot.xlim(np.floor(min(bin_borders_STANDARD)), np.ceil(max(bin_borders_STANDARD)))\n",
    "pyplot.xlim(-9.5, -6.5)\n",
    "\n",
    "pyplot.tight_layout()\n",
    "\n",
    "file_name = 'LiH_Histogram_sim_SEQ_ROT_Gaussian.jpeg'\n",
    "pyplot.savefig(file_name, dpi=300,transparent=True,) # edgecolor='black', facecolor='white')\n",
    "pyplot.show()"
   ]
  },
  {
   "cell_type": "code",
   "execution_count": null,
   "metadata": {},
   "outputs": [],
   "source": []
  },
  {
   "cell_type": "code",
   "execution_count": null,
   "metadata": {},
   "outputs": [],
   "source": []
  }
 ],
 "metadata": {
  "kernelspec": {
   "display_name": "Python 3",
   "language": "python",
   "name": "python3"
  },
  "language_info": {
   "codemirror_mode": {
    "name": "ipython",
    "version": 3
   },
   "file_extension": ".py",
   "mimetype": "text/x-python",
   "name": "python",
   "nbconvert_exporter": "python",
   "pygments_lexer": "ipython3",
   "version": "3.7.6"
  }
 },
 "nbformat": 4,
 "nbformat_minor": 4
}
