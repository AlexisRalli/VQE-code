{
 "cells": [
  {
   "cell_type": "code",
   "execution_count": 1,
   "metadata": {},
   "outputs": [],
   "source": [
    "import pickle\n",
    "import os\n",
    "import numpy as np"
   ]
  },
  {
   "cell_type": "code",
   "execution_count": null,
   "metadata": {},
   "outputs": [],
   "source": []
  },
  {
   "cell_type": "code",
   "execution_count": 3,
   "metadata": {
    "code_folding": []
   },
   "outputs": [],
   "source": [
    "from quchem_ibm.exp_analysis import *\n",
    "\n",
    "def dict_of_M_to_list(M_dict, PauliOP):\n",
    "    \n",
    "    P_Qubit_list, _ = zip(*(list(*PauliOP.terms.keys())))\n",
    "    \n",
    "    list_of_M_bitstrings=None\n",
    "    for bit_string, N_obtained in M_dict.items():\n",
    "        \n",
    "        M_string = np.take(list(bit_string[::-1]), P_Qubit_list) # only take terms measured! Note bitstring reversed!\n",
    "        \n",
    "        array_meas = np.repeat(''.join(M_string), N_obtained)\n",
    "        if list_of_M_bitstrings is None:\n",
    "            list_of_M_bitstrings=array_meas\n",
    "        else:\n",
    "            list_of_M_bitstrings=np.hstack((list_of_M_bitstrings,array_meas))\n",
    "    \n",
    "    # randomly shuffle (seed means outcome will always be the SAME!)\n",
    "    np.random.seed(42) \n",
    "    np.random.shuffle(list_of_M_bitstrings) \n",
    "    \n",
    "    return list_of_M_bitstrings"
   ]
  },
  {
   "cell_type": "code",
   "execution_count": null,
   "metadata": {},
   "outputs": [],
   "source": []
  },
  {
   "cell_type": "code",
   "execution_count": 4,
   "metadata": {},
   "outputs": [],
   "source": [
    "# # input for exp\n",
    "base_dir = os.getcwd()\n",
    "input_file = os.path.join(base_dir, 'LiH_simulation_RESULTS_time=2020Oct07-163210198971.pickle')\n",
    "with open(input_file, 'rb') as handle:\n",
    "    LiH_data = pickle.load(handle)\n"
   ]
  },
  {
   "cell_type": "code",
   "execution_count": 5,
   "metadata": {},
   "outputs": [],
   "source": [
    "experimental_data_LCU = LiH_data['experiment_data'].copy()\n",
    "\n",
    "del LiH_data"
   ]
  },
  {
   "cell_type": "code",
   "execution_count": 6,
   "metadata": {},
   "outputs": [],
   "source": [
    "LCU_data = experimental_data_LCU[101852100]['LCU'].copy()\n",
    "del experimental_data_LCU"
   ]
  },
  {
   "cell_type": "code",
   "execution_count": null,
   "metadata": {},
   "outputs": [],
   "source": []
  },
  {
   "cell_type": "code",
   "execution_count": 7,
   "metadata": {},
   "outputs": [],
   "source": [
    "LCU_Hist_data_sim={}\n",
    "\n",
    "for exp_instance in LCU_data: #each exp repeated 10 times!\n",
    "    for exp_dict_key in exp_instance:\n",
    "\n",
    "        exp_dict= exp_instance[exp_dict_key]\n",
    "\n",
    "        if 'Pn' in exp_dict.keys():\n",
    "            P=exp_dict['Pn']\n",
    "            coeff = exp_dict['gamma_l']\n",
    "\n",
    "            measured_dict_sim = exp_dict['measurement_dict'] # post selection already done!\n",
    "\n",
    "        else:\n",
    "            P=exp_dict['qubitOp']\n",
    "            coeff = exp_dict['coeff']\n",
    "            measured_dict_sim = exp_dict['measurement_dict']\n",
    "\n",
    "        M_list_sim = dict_of_M_to_list(measured_dict_sim, P)\n",
    "\n",
    "        if exp_dict_key in LCU_Hist_data_sim.keys():\n",
    "            LCU_Hist_data_sim[exp_dict_key]={'P':P ,'coeff': coeff, 'Measurements': np.hstack((LCU_Hist_data_sim[exp_dict_key]['Measurements'],M_list_sim))}\n",
    "        else:\n",
    "            LCU_Hist_data_sim[exp_dict_key]={'P':P ,'coeff': coeff, 'Measurements': M_list_sim}\n",
    "\n",
    "                \n",
    "# as probablistic need to all be same shape (cannot have more measurements of one term)\n",
    "fewest_succ_shots_sim = min([LCU_Hist_data_sim[key]['Measurements'].shape[0] for key in LCU_Hist_data_sim])\n",
    "# for exp_dict_key in exp_instance:\n",
    "#     exp_dict= exp_instance[exp_dict_key]\n",
    "#     if 'Pn' in exp_dict.keys():\n",
    "#         LCU_Hist_data_sim[exp_dict_key]['Measurements']= LCU_Hist_data_sim[exp_dict_key]['Measurements'][:fewest_succ_shots_sim]\n",
    "for key in LCU_Hist_data_sim.keys():\n",
    "    LCU_Hist_data_sim[key]['Measurements']= LCU_Hist_data_sim[key]['Measurements'][:fewest_succ_shots_sim]\n",
    "    "
   ]
  },
  {
   "cell_type": "code",
   "execution_count": 8,
   "metadata": {},
   "outputs": [
    {
     "data": {
      "text/plain": [
       "(1447349,)"
      ]
     },
     "execution_count": 8,
     "metadata": {},
     "output_type": "execute_result"
    }
   ],
   "source": [
    "LCU_Hist_data_sim[0]['Measurements'].shape"
   ]
  },
  {
   "cell_type": "code",
   "execution_count": 8,
   "metadata": {},
   "outputs": [],
   "source": [
    "# ### save output\n",
    "# np.save('LCU_hist_data', STANDARD_Hist_data_sim)"
   ]
  },
  {
   "cell_type": "code",
   "execution_count": null,
   "metadata": {},
   "outputs": [],
   "source": []
  },
  {
   "cell_type": "code",
   "execution_count": null,
   "metadata": {},
   "outputs": [],
   "source": [
    "# i_list_XY=[]\n",
    "# LCU_Hist_data_XY={}\n",
    "\n",
    "# i_list_Z=[]\n",
    "# LCU_Hist_data_Z={}\n",
    "# amplitude_min=0\n",
    "\n",
    "# for key in LCU_Hist_data_sim:\n",
    "#     Pword, const = LCU_Hist_data_sim[key]['P']\n",
    "#     coeff=LCU_Hist_data_sim[key]['coeff']\n",
    "    \n",
    "#     if np.abs(coeff)>amplitude_min:\n",
    "#         qubitNos, qubitPstrs = zip(*(list(Pword)))\n",
    "#         # XY terms only!\n",
    "#         if ('X' in qubitPstrs) or ('Y' in qubitPstrs):\n",
    "#             i_list_XY.append(key)\n",
    "#             LCU_Hist_data_XY[key]=LCU_Hist_data_sim[key]\n",
    "#         else:\n",
    "#             i_list_Z.append(key)\n",
    "#             LCU_Hist_data_Z[key]=LCU_Hist_data_sim[key]"
   ]
  },
  {
   "cell_type": "code",
   "execution_count": 11,
   "metadata": {},
   "outputs": [],
   "source": [
    "i_list_XY=list(range(2,102))\n",
    "LCU_Hist_data_XY={}\n",
    "\n",
    "i_list_Z=[0,1]\n",
    "LCU_Hist_data_Z={}\n",
    "amplitude_min=0\n",
    "\n",
    "for key in i_list_XY:\n",
    "    LCU_Hist_data_XY[key]=LCU_Hist_data_sim[key]\n",
    "\n",
    "for key in i_list_Z:\n",
    "    LCU_Hist_data_Z[key]=LCU_Hist_data_sim[key]"
   ]
  },
  {
   "cell_type": "code",
   "execution_count": 12,
   "metadata": {},
   "outputs": [],
   "source": [
    "import matplotlib.pyplot as plt"
   ]
  },
  {
   "cell_type": "code",
   "execution_count": 13,
   "metadata": {},
   "outputs": [],
   "source": [
    "fci_energy= -7.971184315565538"
   ]
  },
  {
   "cell_type": "code",
   "execution_count": null,
   "metadata": {},
   "outputs": [],
   "source": []
  },
  {
   "cell_type": "markdown",
   "metadata": {},
   "source": [
    "# Histogram"
   ]
  },
  {
   "cell_type": "code",
   "execution_count": 14,
   "metadata": {
    "code_folding": [
     1
    ]
   },
   "outputs": [],
   "source": [
    "from tqdm.notebook import tqdm\n",
    "def Get_Hist_data(Histogram_data, I_term):\n",
    "    E_list=[]\n",
    "    for m_index in tqdm(range(Histogram_data[list(Histogram_data.keys())[0]]['Measurements'].shape[0])):\n",
    "        E=I_term\n",
    "        for M_dict_key in Histogram_data:\n",
    "            coeff = Histogram_data[M_dict_key]['coeff']\n",
    "            parity =  1 if sum(map(int, Histogram_data[M_dict_key]['Measurements'][m_index])) % 2 == 0 else -1\n",
    "            E+=coeff*parity\n",
    "        E_list.append(E)\n",
    "    return E_list\n",
    "    \n",
    "    "
   ]
  },
  {
   "cell_type": "code",
   "execution_count": null,
   "metadata": {},
   "outputs": [],
   "source": []
  },
  {
   "cell_type": "code",
   "execution_count": 15,
   "metadata": {},
   "outputs": [
    {
     "data": {
      "application/vnd.jupyter.widget-view+json": {
       "model_id": "80d3ab0446fa4412bbd30ff8c9f4bf3c",
       "version_major": 2,
       "version_minor": 0
      },
      "text/plain": [
       "HBox(children=(FloatProgress(value=0.0, max=1447349.0), HTML(value='')))"
      ]
     },
     "metadata": {},
     "output_type": "display_data"
    },
    {
     "name": "stdout",
     "output_type": "stream",
     "text": [
      "\n"
     ]
    },
    {
     "data": {
      "application/vnd.jupyter.widget-view+json": {
       "model_id": "bd6b2003af15451185e1d501c39c3312",
       "version_major": 2,
       "version_minor": 0
      },
      "text/plain": [
       "HBox(children=(FloatProgress(value=0.0, max=1447349.0), HTML(value='')))"
      ]
     },
     "metadata": {},
     "output_type": "display_data"
    },
    {
     "name": "stdout",
     "output_type": "stream",
     "text": [
      "\n"
     ]
    }
   ],
   "source": [
    "I_term = -4.142299396835105\n",
    "\n",
    "E_list_LCU_XY=Get_Hist_data(LCU_Hist_data_XY, 0)\n",
    "E_list_LCU_Z=Get_Hist_data(LCU_Hist_data_Z, 0)"
   ]
  },
  {
   "cell_type": "code",
   "execution_count": 16,
   "metadata": {},
   "outputs": [
    {
     "name": "stderr",
     "output_type": "stream",
     "text": [
      "/Users/lex/anaconda3/envs/UpdatedCirq/lib/python3.7/site-packages/ipykernel_launcher.py:3: ComplexWarning: Casting complex values to real discards the imaginary part\n",
      "  This is separate from the ipykernel package so we can avoid doing imports until\n",
      "/Users/lex/anaconda3/envs/UpdatedCirq/lib/python3.7/site-packages/ipykernel_launcher.py:4: ComplexWarning: Casting complex values to real discards the imaginary part\n",
      "  after removing the cwd from sys.path.\n"
     ]
    }
   ],
   "source": [
    "import numpy as np\n",
    "\n",
    "E_list_LCU_XY=np.array(E_list_LCU_XY, dtype=float).tolist()\n",
    "E_list_LCU_Z=np.array(E_list_LCU_Z, dtype=float).tolist()"
   ]
  },
  {
   "cell_type": "code",
   "execution_count": 17,
   "metadata": {},
   "outputs": [],
   "source": [
    "import json\n",
    "with open(\"XY_LCU.json\", \"w\") as write_file:\n",
    "    json.dump(E_list_LCU_XY, write_file)\n",
    "with open(\"Z_LCU.json\", \"w\") as write_file:\n",
    "    json.dump(E_list_LCU_Z, write_file)"
   ]
  },
  {
   "cell_type": "code",
   "execution_count": null,
   "metadata": {},
   "outputs": [],
   "source": [
    "with open(\"XY_LCU.json\", \"r\") as read_file:\n",
    "    E_list_LCU_XY = json.load(read_file)\n",
    "with open(\"Z_LCU.json\", \"r\") as read_file:\n",
    "    E_list_LCU_Z = json.load(read_file)"
   ]
  },
  {
   "cell_type": "code",
   "execution_count": 18,
   "metadata": {},
   "outputs": [],
   "source": [
    "E_list_LCU_XY=np.array(E_list_LCU_XY)\n",
    "E_list_LCU_Z=np.array(E_list_LCU_Z)"
   ]
  },
  {
   "cell_type": "code",
   "execution_count": null,
   "metadata": {},
   "outputs": [],
   "source": []
  },
  {
   "cell_type": "code",
   "execution_count": 58,
   "metadata": {},
   "outputs": [
    {
     "data": {
      "image/png": "[encoded data removed]",
      "text/plain": [
       "<Figure size 432x288 with 1 Axes>"
      ]
     },
     "metadata": {
      "needs_background": "light"
     },
     "output_type": "display_data"
    }
   ],
   "source": [
    "from matplotlib import pyplot\n",
    "%matplotlib inline\n",
    "\n",
    "\n",
    "# bins_standard = len(set(E_list_STANDARD_sim))\n",
    "bins_standard = 1000\n",
    "\n",
    "# bin_heights_XY, bin_borders_XY, _=pyplot.hist(E_list_LCU_XY,\n",
    "#                                                           bins_standard, alpha=0.7,\n",
    "#                                                           label='$XY$ terms',\n",
    "#                                                           color='b',\n",
    "#                                                           density=False)\n",
    "\n",
    "bin_heights_Z, bin_borders_Z, _=pyplot.hist(E_list_LCU_Z,\n",
    "                                                          bins_standard, alpha=0.7,\n",
    "                                                          label='$Z$ terms',\n",
    "                                                          color='r',\n",
    "                                                          density=True)\n",
    "\n",
    "pyplot.rcParams[\"font.family\"] = \"Times New Roman\"\n",
    "pyplot.ylabel('Probability Density', fontsize=20)\n",
    "pyplot.xlabel('Energy / Hartree', fontsize=20)\n",
    "pyplot.xticks(np.arange(0.15,0.17,0.005), fontsize=20)\n",
    "pyplot.xlim((0.15,0.16)) \n",
    "pyplot.yticks(np.arange(0,1500,500), fontsize=20)\n",
    "\n",
    "pyplot.tight_layout()\n",
    "\n",
    "file_name = 'LiH_LCU_Z.jpeg'\n",
    "pyplot.savefig(file_name, dpi=300,transparent=True,) # edgecolor='black', facecolor='white')\n",
    "pyplot.show()"
   ]
  },
  {
   "cell_type": "code",
   "execution_count": 59,
   "metadata": {},
   "outputs": [
    {
     "data": {
      "image/png": "[encoded data removed]",
      "text/plain": [
       "<Figure size 432x288 with 1 Axes>"
      ]
     },
     "metadata": {
      "needs_background": "light"
     },
     "output_type": "display_data"
    }
   ],
   "source": [
    "from matplotlib import pyplot\n",
    "%matplotlib inline\n",
    "\n",
    "\n",
    "# bins_standard = len(set(E_list_STANDARD_sim))\n",
    "bins_standard = 1000\n",
    "\n",
    "bin_heights_XY, bin_borders_XY, _=pyplot.hist(E_list_LCU_XY,\n",
    "                                                          bins_standard, alpha=0.7,\n",
    "                                                          label='$XY$ terms',\n",
    "                                                          color='r',\n",
    "                                                          density=True)\n",
    "\n",
    "pyplot.rcParams[\"font.family\"] = \"Times New Roman\"\n",
    "pyplot.ylabel('Probability Density', fontsize=20)\n",
    "pyplot.xlabel('Energy / Hartree', fontsize=20)\n",
    "pyplot.xticks(np.arange(-6,-1,1), fontsize=20)\n",
    "pyplot.xlim((-6, -2)) \n",
    "pyplot.yticks(np.arange(0,2,0.25), fontsize=20)\n",
    "\n",
    "pyplot.tight_layout()\n",
    "\n",
    "file_name = 'LiH_LCU_XY.jpeg'\n",
    "pyplot.savefig(file_name, dpi=300,transparent=True,) # edgecolor='black', facecolor='white')\n",
    "pyplot.show()"
   ]
  },
  {
   "cell_type": "code",
   "execution_count": null,
   "metadata": {},
   "outputs": [],
   "source": []
  },
  {
   "cell_type": "code",
   "execution_count": null,
   "metadata": {},
   "outputs": [],
   "source": []
  },
  {
   "cell_type": "code",
   "execution_count": null,
   "metadata": {},
   "outputs": [],
   "source": []
  },
  {
   "cell_type": "code",
   "execution_count": null,
   "metadata": {},
   "outputs": [],
   "source": [
    "dasd"
   ]
  },
  {
   "cell_type": "code",
   "execution_count": 17,
   "metadata": {},
   "outputs": [],
   "source": [
    "def gaussian(x, mean, amplitude, standard_deviation):\n",
    "    return amplitude * np.exp( - ((x - mean) / standard_deviation) ** 2)"
   ]
  },
  {
   "cell_type": "code",
   "execution_count": 18,
   "metadata": {},
   "outputs": [],
   "source": [
    "from scipy.optimize import curve_fit"
   ]
  },
  {
   "cell_type": "code",
   "execution_count": null,
   "metadata": {},
   "outputs": [],
   "source": []
  },
  {
   "cell_type": "code",
   "execution_count": 19,
   "metadata": {},
   "outputs": [
    {
     "data": {
      "image/png": "[encoded data removed]",
      "text/plain": [
       "<Figure size 432x288 with 1 Axes>"
      ]
     },
     "metadata": {
      "needs_background": "light"
     },
     "output_type": "display_data"
    }
   ],
   "source": [
    "from matplotlib import pyplot\n",
    "%matplotlib inline\n",
    "# %matplotlib notebook\n",
    "\n",
    "\n",
    "# bins = len(set(E_LCU_list_sim))\n",
    "\n",
    "bins = 500\n",
    "\n",
    "\n",
    "bin_heights_LCU_sim, bin_borders_LCU_sim, _=pyplot.hist(E_LCU_list_sim, bins, alpha=0.7, \n",
    "                                                                label='$E$ LCU - sim', \n",
    "                                                                color='r',\n",
    "                                                              density=False)\n",
    "\n",
    "bin_centers_LCU_sim = bin_borders_LCU_sim[:-1] + np.diff(bin_borders_LCU_sim) / 2\n",
    "popt, _ = curve_fit(gaussian, bin_centers_LCU_sim, bin_heights_LCU_sim, p0=[fci_energy, 0., 1], **{'maxfev':10000})\n",
    "mean_LCU_sim, amplitude_LCU_sim, standard_deviation_LCU_sim= popt\n",
    "x_interval_for_fit = np.linspace(bin_borders_LCU_sim[0], bin_borders_LCU_sim[-1], 10000)\n",
    "pyplot.plot(x_interval_for_fit, gaussian(x_interval_for_fit, *popt), label='Gaussian fit', color='b')\n",
    "\n",
    "# pyplot.axvline(mean_LCU_sim, alpha=0.5, color='r', linestyle='dashed', linewidth=1, \n",
    "#             label='$E_{average}$ LCU - sim') # mean of GAUSSIAN FIT\n",
    "pyplot.axvline(E_LCU_list_sim.mean(), alpha=0.5, color='b', linestyle='dashed', linewidth=1, \n",
    "            label='$E_{average}$ LCU - sim') # mean of DATA\n",
    "\n",
    "pyplot.errorbar(mean_LCU_sim,30_000,\n",
    "             xerr=standard_deviation_LCU_sim, linestyle=\"None\", color='b',\n",
    "             uplims=True, lolims=True, label='$\\sigma_{E_{av}}$ LCU - sim')\n",
    "\n",
    "pyplot.axvline(fci_energy, color='k', linestyle='solid', linewidth=2, \n",
    "            label='$E_{FCI}$', alpha=0.4)\n",
    "\n",
    "pyplot.legend(loc='upper right')\n",
    "# pyplot.legend(bbox_to_anchor=(0.865,1.9), loc=\"upper left\")\n",
    "pyplot.ylabel('Frequency')\n",
    "pyplot.xlabel('Energy')\n",
    "\n",
    "pyplot.tight_layout()\n",
    "\n",
    "file_name = 'LiH_Histogram_sim_LCU_Gaussian.jpeg'\n",
    "# pyplot.savefig(file_name, dpi=300,transparent=True,) # edgecolor='black', facecolor='white')\n",
    "pyplot.show()"
   ]
  },
  {
   "cell_type": "code",
   "execution_count": null,
   "metadata": {},
   "outputs": [],
   "source": []
  }
 ],
 "metadata": {
  "kernelspec": {
   "display_name": "Python 3",
   "language": "python",
   "name": "python3"
  },
  "language_info": {
   "codemirror_mode": {
    "name": "ipython",
    "version": 3
   },
   "file_extension": ".py",
   "mimetype": "text/x-python",
   "name": "python",
   "nbconvert_exporter": "python",
   "pygments_lexer": "ipython3",
   "version": "3.7.6"
  }
 },
 "nbformat": 4,
 "nbformat_minor": 4
}
