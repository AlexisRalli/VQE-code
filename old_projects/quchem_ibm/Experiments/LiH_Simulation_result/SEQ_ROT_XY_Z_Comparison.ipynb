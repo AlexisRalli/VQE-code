{
 "cells": [
  {
   "cell_type": "code",
   "execution_count": 1,
   "metadata": {},
   "outputs": [],
   "source": [
    "import pickle\n",
    "import os\n",
    "import numpy as np"
   ]
  },
  {
   "cell_type": "code",
   "execution_count": null,
   "metadata": {},
   "outputs": [],
   "source": []
  },
  {
   "cell_type": "code",
   "execution_count": 2,
   "metadata": {
    "code_folding": [
     2
    ]
   },
   "outputs": [],
   "source": [
    "from quchem_ibm.exp_analysis import *\n",
    "\n",
    "def dict_of_M_to_list(M_dict, PauliOP):\n",
    "    \n",
    "    P_Qubit_list, _ = zip(*(list(*PauliOP.terms.keys())))\n",
    "    \n",
    "    list_of_M_bitstrings=None\n",
    "    for bit_string, N_obtained in M_dict.items():\n",
    "        \n",
    "        M_string = np.take(list(bit_string[::-1]), P_Qubit_list) # only take terms measured! Note bitstring reversed!\n",
    "        \n",
    "        array_meas = np.repeat(''.join(M_string), N_obtained)\n",
    "        if list_of_M_bitstrings is None:\n",
    "            list_of_M_bitstrings=array_meas\n",
    "        else:\n",
    "            list_of_M_bitstrings=np.hstack((list_of_M_bitstrings,array_meas))\n",
    "    \n",
    "    # randomly shuffle (seed means outcome will always be the SAME!)\n",
    "    np.random.seed(42) \n",
    "    np.random.shuffle(list_of_M_bitstrings) \n",
    "    \n",
    "    return list_of_M_bitstrings"
   ]
  },
  {
   "cell_type": "code",
   "execution_count": null,
   "metadata": {},
   "outputs": [],
   "source": []
  },
  {
   "cell_type": "code",
   "execution_count": 3,
   "metadata": {
    "code_folding": [
     3
    ]
   },
   "outputs": [],
   "source": [
    "# # input for exp\n",
    "base_dir = os.getcwd()\n",
    "input_file = os.path.join(base_dir, 'LiH_simulation_RESULTS_time=2020Oct07-163210198971.pickle')\n",
    "with open(input_file, 'rb') as handle:\n",
    "    LiH_data = pickle.load(handle)\n"
   ]
  },
  {
   "cell_type": "code",
   "execution_count": 4,
   "metadata": {},
   "outputs": [],
   "source": [
    "experimental_data_SEQ_ROT = LiH_data['experiment_data'].copy()\n",
    "\n",
    "del LiH_data"
   ]
  },
  {
   "cell_type": "code",
   "execution_count": 5,
   "metadata": {},
   "outputs": [],
   "source": [
    "SEQ_ROT_data = experimental_data_SEQ_ROT[101852100]['seq_rot'].copy()\n",
    "del experimental_data_SEQ_ROT\n"
   ]
  },
  {
   "cell_type": "code",
   "execution_count": null,
   "metadata": {},
   "outputs": [],
   "source": []
  },
  {
   "cell_type": "code",
   "execution_count": 6,
   "metadata": {},
   "outputs": [],
   "source": [
    "SEQ_ROT_Hist_data_sim={}\n",
    "    \n",
    "for exp_instance in SEQ_ROT_data: \n",
    "    for exp_dict_key in exp_instance:\n",
    "\n",
    "        exp_dict= exp_instance[exp_dict_key]\n",
    "\n",
    "        if 'Ps' in exp_dict.keys():\n",
    "            P=exp_dict['Ps']\n",
    "            coeff = exp_dict['gamma_l']\n",
    "\n",
    "            measured_dict_sim = exp_dict['measurement_dict']\n",
    "\n",
    "        else:\n",
    "            P=exp_dict['qubitOp']\n",
    "            coeff = exp_dict['coeff']\n",
    "            measured_dict_sim = exp_dict['measurement_dict']\n",
    "\n",
    "        M_list_sim = dict_of_M_to_list(measured_dict_sim, P)\n",
    "\n",
    "        if exp_dict_key in SEQ_ROT_Hist_data_sim.keys():\n",
    "            SEQ_ROT_Hist_data_sim[exp_dict_key]={'P':P ,'coeff': coeff, 'Measurements': np.hstack((SEQ_ROT_Hist_data_sim[exp_dict_key]['Measurements'],M_list_sim))}\n",
    "        else:\n",
    "            SEQ_ROT_Hist_data_sim[exp_dict_key]={'P':P ,'coeff': coeff, 'Measurements': M_list_sim}\n"
   ]
  },
  {
   "cell_type": "code",
   "execution_count": 7,
   "metadata": {},
   "outputs": [
    {
     "data": {
      "text/plain": [
       "(9985500,)"
      ]
     },
     "execution_count": 7,
     "metadata": {},
     "output_type": "execute_result"
    }
   ],
   "source": [
    "SEQ_ROT_Hist_data_sim[0]['Measurements'].shape"
   ]
  },
  {
   "cell_type": "code",
   "execution_count": 8,
   "metadata": {},
   "outputs": [],
   "source": [
    "# ### save output\n",
    "# np.save('LCU_hist_data', STANDARD_Hist_data_sim)"
   ]
  },
  {
   "cell_type": "code",
   "execution_count": 9,
   "metadata": {},
   "outputs": [],
   "source": [
    "import matplotlib.pyplot as plt"
   ]
  },
  {
   "cell_type": "code",
   "execution_count": 10,
   "metadata": {},
   "outputs": [],
   "source": [
    "# i_list_XY=[]\n",
    "# SEQ_ROT_Hist_data_XY={}\n",
    "\n",
    "# i_list_Z=[]\n",
    "# SEQ_ROT_Hist_data_Z={}\n",
    "# amplitude_min=0\n",
    "\n",
    "# for key in SEQ_ROT_Hist_data_sim:\n",
    "#     Pword, const = SEQ_ROT_Hist_data_sim[key]['P']\n",
    "#     coeff=SEQ_ROT_Hist_data_sim[key]['coeff']\n",
    "    \n",
    "#     if np.abs(coeff)>amplitude_min:\n",
    "#         qubitNos, qubitPstrs = zip(*(list(Pword)))\n",
    "#         # XY terms only!\n",
    "#         if ('X' in qubitPstrs) or ('Y' in qubitPstrs):\n",
    "#             i_list_XY.append(key)\n",
    "#             SEQ_ROT_Hist_data_XY[key]=SEQ_ROT_Hist_data_sim[key]\n",
    "#         else:\n",
    "#             i_list_Z.append(key)\n",
    "#             SEQ_ROT_Hist_data_Z[key]=SEQ_ROT_Hist_data_sim[key]"
   ]
  },
  {
   "cell_type": "code",
   "execution_count": 12,
   "metadata": {},
   "outputs": [],
   "source": [
    "i_list_XY=list(range(2,102))\n",
    "SEQ_ROT_Hist_data_XY={}\n",
    "\n",
    "i_list_Z=[0,1]\n",
    "SEQ_ROT_Hist_data_Z={}\n",
    "amplitude_min=0\n",
    "\n",
    "for key in i_list_XY:\n",
    "    SEQ_ROT_Hist_data_XY[key]=SEQ_ROT_Hist_data_sim[key]\n",
    "\n",
    "for key in i_list_Z:\n",
    "    SEQ_ROT_Hist_data_Z[key]=SEQ_ROT_Hist_data_sim[key]"
   ]
  },
  {
   "cell_type": "code",
   "execution_count": null,
   "metadata": {},
   "outputs": [],
   "source": []
  },
  {
   "cell_type": "code",
   "execution_count": null,
   "metadata": {},
   "outputs": [],
   "source": []
  },
  {
   "cell_type": "code",
   "execution_count": null,
   "metadata": {},
   "outputs": [],
   "source": [
    "fci_energy= -7.971184315565538"
   ]
  },
  {
   "cell_type": "markdown",
   "metadata": {},
   "source": [
    "# Histogram"
   ]
  },
  {
   "cell_type": "code",
   "execution_count": 14,
   "metadata": {
    "code_folding": [
     1
    ]
   },
   "outputs": [],
   "source": [
    "from tqdm.notebook import tqdm\n",
    "def Get_Hist_data(Histogram_data, I_term):\n",
    "    E_list=[]\n",
    "    for m_index in tqdm(range(Histogram_data[list(Histogram_data.keys())[0]]['Measurements'].shape[0])):\n",
    "        E=I_term\n",
    "        for M_dict_key in Histogram_data:\n",
    "            coeff = Histogram_data[M_dict_key]['coeff']\n",
    "            parity =  1 if sum(map(int, Histogram_data[M_dict_key]['Measurements'][m_index])) % 2 == 0 else -1\n",
    "            E+=coeff*parity\n",
    "        E_list.append(E)\n",
    "    return E_list\n",
    "    \n",
    "    "
   ]
  },
  {
   "cell_type": "code",
   "execution_count": null,
   "metadata": {},
   "outputs": [],
   "source": []
  },
  {
   "cell_type": "code",
   "execution_count": 15,
   "metadata": {},
   "outputs": [
    {
     "data": {
      "application/vnd.jupyter.widget-view+json": {
       "model_id": "3f246b55194e4ba4a6bf44b9d8ee0067",
       "version_major": 2,
       "version_minor": 0
      },
      "text/plain": [
       "HBox(children=(FloatProgress(value=0.0, max=9985500.0), HTML(value='')))"
      ]
     },
     "metadata": {},
     "output_type": "display_data"
    },
    {
     "name": "stdout",
     "output_type": "stream",
     "text": [
      "\n"
     ]
    },
    {
     "data": {
      "application/vnd.jupyter.widget-view+json": {
       "model_id": "57ec0be5cc8149f9a598e537d09ccd1e",
       "version_major": 2,
       "version_minor": 0
      },
      "text/plain": [
       "HBox(children=(FloatProgress(value=0.0, max=9985500.0), HTML(value='')))"
      ]
     },
     "metadata": {},
     "output_type": "display_data"
    },
    {
     "name": "stdout",
     "output_type": "stream",
     "text": [
      "\n"
     ]
    }
   ],
   "source": [
    "I_term = -4.142299396835105\n",
    "\n",
    "E_list_SEQ_ROT_XY=Get_Hist_data(SEQ_ROT_Hist_data_XY, 0)\n",
    "E_list_SEQ_ROT_Z=Get_Hist_data(SEQ_ROT_Hist_data_Z, 0)"
   ]
  },
  {
   "cell_type": "code",
   "execution_count": 16,
   "metadata": {
    "scrolled": true
   },
   "outputs": [
    {
     "name": "stderr",
     "output_type": "stream",
     "text": [
      "/Users/lex/anaconda3/envs/UpdatedCirq/lib/python3.7/site-packages/ipykernel_launcher.py:3: ComplexWarning: Casting complex values to real discards the imaginary part\n",
      "  This is separate from the ipykernel package so we can avoid doing imports until\n",
      "/Users/lex/anaconda3/envs/UpdatedCirq/lib/python3.7/site-packages/ipykernel_launcher.py:4: ComplexWarning: Casting complex values to real discards the imaginary part\n",
      "  after removing the cwd from sys.path.\n"
     ]
    }
   ],
   "source": [
    "import numpy as np\n",
    "\n",
    "E_list_SEQ_ROT_XY=np.array(E_list_SEQ_ROT_XY, dtype=float).tolist()\n",
    "E_list_SEQ_ROT_Z=np.array(E_list_SEQ_ROT_Z, dtype=float).tolist()"
   ]
  },
  {
   "cell_type": "code",
   "execution_count": 17,
   "metadata": {},
   "outputs": [],
   "source": [
    "import json"
   ]
  },
  {
   "cell_type": "code",
   "execution_count": 18,
   "metadata": {},
   "outputs": [],
   "source": [
    "with open(\"XY_SEQ_ROT.json\", \"w\") as write_file:\n",
    "    json.dump(E_list_SEQ_ROT_XY, write_file)\n",
    "with open(\"Z_SEQ_ROT.json\", \"w\") as write_file:\n",
    "    json.dump(E_list_SEQ_ROT_Z, write_file)"
   ]
  },
  {
   "cell_type": "code",
   "execution_count": null,
   "metadata": {},
   "outputs": [],
   "source": [
    "with open(\"XY_SEQ_ROT.json\", \"r\") as read_file:\n",
    "    E_list_SEQ_ROT_XY = json.load(read_file)\n",
    "with open(\"Z_SEQ_ROT.json\", \"r\") as read_file:\n",
    "    E_list_SEQ_ROT_Z = json.load(read_file)"
   ]
  },
  {
   "cell_type": "code",
   "execution_count": 19,
   "metadata": {},
   "outputs": [],
   "source": [
    "E_list_SEQ_ROT_XY=np.array(E_list_SEQ_ROT_XY)\n",
    "E_list_SEQ_ROT_Z=np.array(E_list_SEQ_ROT_Z)"
   ]
  },
  {
   "cell_type": "code",
   "execution_count": 23,
   "metadata": {},
   "outputs": [
    {
     "data": {
      "text/plain": [
       "{0.1565622829863111}"
      ]
     },
     "execution_count": 23,
     "metadata": {},
     "output_type": "execute_result"
    }
   ],
   "source": [
    "set(E_list_SEQ_ROT_Z)"
   ]
  },
  {
   "cell_type": "code",
   "execution_count": 44,
   "metadata": {},
   "outputs": [
    {
     "data": {
      "image/png": "[encoded data removed]",
      "text/plain": [
       "<Figure size 432x288 with 1 Axes>"
      ]
     },
     "metadata": {
      "needs_background": "light"
     },
     "output_type": "display_data"
    }
   ],
   "source": [
    "from matplotlib import pyplot\n",
    "%matplotlib inline\n",
    "\n",
    "\n",
    "# bins_standard = len(set(E_list_STANDARD_sim))\n",
    "bins_standard = 1000\n",
    "\n",
    "# bin_heights_XY, bin_borders_XY, _=pyplot.hist(E_list_SEQ_ROT_XY,\n",
    "#                                                           bins_standard, alpha=0.7,\n",
    "#                                                           label='$XY$ terms',\n",
    "#                                                           color='b',\n",
    "#                                                           density=False)\n",
    "\n",
    "bin_heights_Z, bin_borders_Z, _=pyplot.hist(E_list_SEQ_ROT_Z,\n",
    "                                                          bins_standard, alpha=1,\n",
    "                                                          label='$Z$ terms',\n",
    "                                                          color='b',\n",
    "                                                          density=True)\n",
    "\n",
    "pyplot.rcParams[\"font.family\"] = \"Times New Roman\"\n",
    "pyplot.ylabel('Probability Density', fontsize=20)\n",
    "pyplot.xlabel('Energy / Hartree', fontsize=20)\n",
    "pyplot.xticks(np.arange(0.15,0.17,0.005), fontsize=20)\n",
    "pyplot.xlim((0.15,0.16)) \n",
    "pyplot.yticks(np.arange(0,1500,500), fontsize=20)\n",
    "\n",
    "pyplot.tight_layout()\n",
    "\n",
    "file_name = 'LiH_SEQ_ROT_Z.jpeg'\n",
    "pyplot.savefig(file_name, dpi=300,transparent=True,) # edgecolor='black', facecolor='white')\n",
    "pyplot.show()"
   ]
  },
  {
   "cell_type": "code",
   "execution_count": 42,
   "metadata": {},
   "outputs": [
    {
     "data": {
      "image/png": "[encoded data removed]",
      "text/plain": [
       "<Figure size 432x288 with 1 Axes>"
      ]
     },
     "metadata": {
      "needs_background": "light"
     },
     "output_type": "display_data"
    }
   ],
   "source": [
    "from matplotlib import pyplot\n",
    "%matplotlib inline\n",
    "\n",
    "\n",
    "# bins_standard = len(set(E_list_STANDARD_sim))\n",
    "bins_standard = 1000\n",
    "\n",
    "bin_heights_XY, bin_borders_XY, _=pyplot.hist(E_list_SEQ_ROT_XY,\n",
    "                                                          bins_standard, alpha=0.7,\n",
    "                                                          label='$XY$ terms',\n",
    "                                                          color='b',\n",
    "                                                          density=True)\n",
    "\n",
    "# bin_heights_Z, bin_borders_Z, _=pyplot.hist(E_list_SEQ_ROT_Z,\n",
    "#                                                           bins_standard, alpha=0.7,\n",
    "#                                                           label='$Z$ terms',\n",
    "#                                                           color='r',\n",
    "#                                                           density=False)\n",
    "\n",
    "pyplot.rcParams[\"font.family\"] = \"Times New Roman\"\n",
    "pyplot.ylabel('Probability Density', fontsize=20)\n",
    "pyplot.xlabel('Energy / Hartree', fontsize=20)\n",
    "pyplot.xticks(np.arange(-6,-1,1), fontsize=20)\n",
    "pyplot.xlim((-6, -2)) \n",
    "pyplot.yticks(np.arange(0,3.5,0.5), fontsize=20)\n",
    "\n",
    "pyplot.tight_layout()\n",
    "\n",
    "file_name = 'LiH_SEQ_ROT_XY.jpeg'\n",
    "pyplot.savefig(file_name, dpi=300,transparent=True,) # edgecolor='black', facecolor='white')\n",
    "pyplot.show()"
   ]
  },
  {
   "cell_type": "code",
   "execution_count": null,
   "metadata": {},
   "outputs": [],
   "source": []
  },
  {
   "cell_type": "code",
   "execution_count": null,
   "metadata": {},
   "outputs": [],
   "source": []
  },
  {
   "cell_type": "code",
   "execution_count": null,
   "metadata": {},
   "outputs": [],
   "source": []
  },
  {
   "cell_type": "code",
   "execution_count": null,
   "metadata": {},
   "outputs": [],
   "source": []
  },
  {
   "cell_type": "code",
   "execution_count": null,
   "metadata": {},
   "outputs": [],
   "source": []
  },
  {
   "cell_type": "code",
   "execution_count": null,
   "metadata": {},
   "outputs": [],
   "source": []
  }
 ],
 "metadata": {
  "kernelspec": {
   "display_name": "Python 3",
   "language": "python",
   "name": "python3"
  },
  "language_info": {
   "codemirror_mode": {
    "name": "ipython",
    "version": 3
   },
   "file_extension": ".py",
   "mimetype": "text/x-python",
   "name": "python",
   "nbconvert_exporter": "python",
   "pygments_lexer": "ipython3",
   "version": "3.7.6"
  }
 },
 "nbformat": 4,
 "nbformat_minor": 4
}
