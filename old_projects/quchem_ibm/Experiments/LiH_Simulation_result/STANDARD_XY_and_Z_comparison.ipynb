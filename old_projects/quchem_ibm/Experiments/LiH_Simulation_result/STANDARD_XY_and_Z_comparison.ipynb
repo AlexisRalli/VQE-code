{
 "cells": [
  {
   "cell_type": "code",
   "execution_count": 1,
   "metadata": {},
   "outputs": [],
   "source": [
    "import pickle\n",
    "import os\n",
    "import numpy as np\n",
    "from tqdm.notebook import tqdm"
   ]
  },
  {
   "cell_type": "code",
   "execution_count": null,
   "metadata": {},
   "outputs": [],
   "source": []
  },
  {
   "cell_type": "code",
   "execution_count": 2,
   "metadata": {
    "code_folding": [
     2
    ]
   },
   "outputs": [],
   "source": [
    "from quchem_ibm.exp_analysis import *\n",
    "\n",
    "def dict_of_M_to_list(M_dict, PauliOP):\n",
    "    \n",
    "    P_Qubit_list, _ = zip(*(list(*PauliOP.terms.keys())))\n",
    "    \n",
    "    list_of_M_bitstrings=None\n",
    "    for bit_string, N_obtained in M_dict.items():\n",
    "        \n",
    "        M_string = np.take(list(bit_string[::-1]), P_Qubit_list) # only take terms measured! Note bitstring reversed!\n",
    "        \n",
    "        array_meas = np.repeat(''.join(M_string), N_obtained)\n",
    "        if list_of_M_bitstrings is None:\n",
    "            list_of_M_bitstrings=array_meas\n",
    "        else:\n",
    "            list_of_M_bitstrings=np.hstack((list_of_M_bitstrings,array_meas))\n",
    "    \n",
    "    # randomly shuffle (seed means outcome will always be the SAME!)\n",
    "    np.random.seed(42) \n",
    "    np.random.shuffle(list_of_M_bitstrings) \n",
    "    \n",
    "    return list_of_M_bitstrings"
   ]
  },
  {
   "cell_type": "code",
   "execution_count": null,
   "metadata": {},
   "outputs": [],
   "source": []
  },
  {
   "cell_type": "code",
   "execution_count": 3,
   "metadata": {},
   "outputs": [],
   "source": [
    "# # input for exp\n",
    "base_dir = os.getcwd()\n",
    "input_file = os.path.join(base_dir, 'LiH_simulation_RESULTS_time=2020Oct07-163210198971.pickle')\n",
    "with open(input_file, 'rb') as handle:\n",
    "    LiH_data = pickle.load(handle)\n"
   ]
  },
  {
   "cell_type": "code",
   "execution_count": 4,
   "metadata": {},
   "outputs": [],
   "source": [
    "experimental_data_STANDARD = LiH_data['experiment_data'].copy()\n",
    "del LiH_data"
   ]
  },
  {
   "cell_type": "code",
   "execution_count": 5,
   "metadata": {},
   "outputs": [],
   "source": [
    "STANDARD_data = experimental_data_STANDARD[101852100]['standard'].copy()\n",
    "del experimental_data_STANDARD"
   ]
  },
  {
   "cell_type": "code",
   "execution_count": 6,
   "metadata": {},
   "outputs": [
    {
     "data": {
      "text/plain": [
       "10"
      ]
     },
     "execution_count": 6,
     "metadata": {},
     "output_type": "execute_result"
    }
   ],
   "source": [
    "len(STANDARD_data)"
   ]
  },
  {
   "cell_type": "code",
   "execution_count": 7,
   "metadata": {
    "code_folding": []
   },
   "outputs": [],
   "source": [
    "STANDARD_Hist_data_sim={} \n",
    "for exp_instance in STANDARD_data: #each exp repeated 10 times!\n",
    "    for exp_dict_key in exp_instance:\n",
    "        \n",
    "        exp_dict= exp_instance[exp_dict_key]\n",
    "        \n",
    "        P=exp_dict['qubitOp']\n",
    "        coeff = exp_dict['coeff']\n",
    "        measured_dict_sim = exp_dict['measurement_dict']\n",
    "\n",
    "        M_list_sim = dict_of_M_to_list(measured_dict_sim, P)\n",
    "\n",
    "        if exp_dict_key in STANDARD_Hist_data_sim.keys():\n",
    "            STANDARD_Hist_data_sim[exp_dict_key]={'P':list(P.terms.items())[0] ,'coeff': coeff.real, 'Measurements': np.hstack((STANDARD_Hist_data_sim[exp_dict_key]['Measurements'],M_list_sim))}\n",
    "        else:\n",
    "            STANDARD_Hist_data_sim[exp_dict_key]={'P':list(P.terms.items())[0] ,'coeff': coeff.real, 'Measurements': M_list_sim}\n",
    "            \n",
    "        del exp_dict"
   ]
  },
  {
   "cell_type": "code",
   "execution_count": 8,
   "metadata": {},
   "outputs": [],
   "source": [
    "del STANDARD_data"
   ]
  },
  {
   "cell_type": "code",
   "execution_count": 9,
   "metadata": {},
   "outputs": [
    {
     "data": {
      "text/plain": [
       "(1616700,)"
      ]
     },
     "execution_count": 9,
     "metadata": {},
     "output_type": "execute_result"
    }
   ],
   "source": [
    "STANDARD_Hist_data_sim[0]['Measurements'].shape"
   ]
  },
  {
   "cell_type": "code",
   "execution_count": null,
   "metadata": {},
   "outputs": [],
   "source": []
  },
  {
   "cell_type": "code",
   "execution_count": null,
   "metadata": {},
   "outputs": [],
   "source": []
  },
  {
   "cell_type": "code",
   "execution_count": null,
   "metadata": {},
   "outputs": [],
   "source": []
  },
  {
   "cell_type": "code",
   "execution_count": 10,
   "metadata": {},
   "outputs": [],
   "source": [
    "import matplotlib.pyplot as plt"
   ]
  },
  {
   "cell_type": "code",
   "execution_count": 11,
   "metadata": {},
   "outputs": [],
   "source": [
    "fci_energy= -7.971184315565538"
   ]
  },
  {
   "cell_type": "markdown",
   "metadata": {},
   "source": [
    "# Histogram"
   ]
  },
  {
   "cell_type": "code",
   "execution_count": 12,
   "metadata": {
    "code_folding": [
     1
    ]
   },
   "outputs": [],
   "source": [
    "def Get_Hist_data(Histogram_data, I_term):\n",
    "    E_list=[]\n",
    "    for m_index in tqdm(range(Histogram_data[list(Histogram_data.keys())[0]]['Measurements'].shape[0])):\n",
    "        E=I_term\n",
    "        for M_dict_key in Histogram_data:\n",
    "            coeff = Histogram_data[M_dict_key]['coeff']\n",
    "            parity =  1 if sum(map(int, Histogram_data[M_dict_key]['Measurements'][m_index])) % 2 == 0 else -1\n",
    "            E+=coeff*parity\n",
    "        E_list.append(E)\n",
    "    return E_list\n",
    "    "
   ]
  },
  {
   "cell_type": "code",
   "execution_count": null,
   "metadata": {},
   "outputs": [],
   "source": []
  },
  {
   "cell_type": "code",
   "execution_count": null,
   "metadata": {},
   "outputs": [],
   "source": []
  },
  {
   "cell_type": "code",
   "execution_count": 13,
   "metadata": {},
   "outputs": [],
   "source": [
    "i_list_XY=[]\n",
    "STANDARD_Hist_data_XY={}\n",
    "\n",
    "i_list_Z=[]\n",
    "STANDARD_Hist_data_Z={}\n",
    "amplitude_min=0.00\n",
    "XY_terms=[]\n",
    "\n",
    "for key in STANDARD_Hist_data_sim:\n",
    "    Pword, const = STANDARD_Hist_data_sim[key]['P']\n",
    "    coeff=STANDARD_Hist_data_sim[key]['coeff']\n",
    "    \n",
    "    if np.abs(coeff)>amplitude_min:\n",
    "        qubitNos, qubitPstrs = zip(*(list(Pword)))\n",
    "        # XY terms only!\n",
    "        if ('X' in qubitPstrs) or ('Y' in qubitPstrs):\n",
    "            i_list_XY.append(key)\n",
    "            STANDARD_Hist_data_XY[key]=STANDARD_Hist_data_sim[key]\n",
    "            XY_terms.append(STANDARD_Hist_data_sim[key]['P'])\n",
    "        else:\n",
    "            i_list_Z.append(key)\n",
    "            STANDARD_Hist_data_Z[key]=STANDARD_Hist_data_sim[key]"
   ]
  },
  {
   "cell_type": "code",
   "execution_count": null,
   "metadata": {},
   "outputs": [],
   "source": []
  },
  {
   "cell_type": "code",
   "execution_count": null,
   "metadata": {},
   "outputs": [],
   "source": []
  },
  {
   "cell_type": "code",
   "execution_count": null,
   "metadata": {},
   "outputs": [],
   "source": []
  },
  {
   "cell_type": "code",
   "execution_count": 14,
   "metadata": {},
   "outputs": [
    {
     "name": "stderr",
     "output_type": "stream",
     "text": [
      "100%|██████████| 1616700/1616700 [27:02<00:00, 996.41it/s] \n",
      "100%|██████████| 1616700/1616700 [03:00<00:00, 8951.80it/s]\n"
     ]
    }
   ],
   "source": [
    "I_term = -4.142299396835105\n",
    "\n",
    "E_list_STANDARD_XY=Get_Hist_data(STANDARD_Hist_data_XY, 0)\n",
    "E_list_STANDARD_Z=Get_Hist_data(STANDARD_Hist_data_Z, 0)"
   ]
  },
  {
   "cell_type": "code",
   "execution_count": null,
   "metadata": {},
   "outputs": [],
   "source": []
  },
  {
   "cell_type": "code",
   "execution_count": 15,
   "metadata": {},
   "outputs": [],
   "source": [
    "import numpy as np\n",
    "\n",
    "E_list_STANDARD_XY=np.array(E_list_STANDARD_XY, dtype=float).tolist()\n",
    "E_list_STANDARD_Z=np.array(E_list_STANDARD_Z, dtype=float).tolist()"
   ]
  },
  {
   "cell_type": "code",
   "execution_count": 16,
   "metadata": {},
   "outputs": [],
   "source": [
    "import json"
   ]
  },
  {
   "cell_type": "code",
   "execution_count": 17,
   "metadata": {},
   "outputs": [],
   "source": [
    "with open(\"XY_STANDARD.json\", \"w\") as write_file:\n",
    "    json.dump(E_list_STANDARD_XY, write_file)\n",
    "with open(\"Z_STANDARD.json\", \"w\") as write_file:\n",
    "    json.dump(E_list_STANDARD_Z, write_file)"
   ]
  },
  {
   "cell_type": "code",
   "execution_count": null,
   "metadata": {},
   "outputs": [],
   "source": []
  },
  {
   "cell_type": "code",
   "execution_count": 18,
   "metadata": {},
   "outputs": [],
   "source": [
    "with open(\"XY_STANDARD.json\", \"r\") as read_file:\n",
    "    E_list_STANDARD_XY = json.load(read_file)\n",
    "with open(\"Z_STANDARD.json\", \"r\") as read_file:\n",
    "    E_list_STANDARD_Z = json.load(read_file)"
   ]
  },
  {
   "cell_type": "code",
   "execution_count": 19,
   "metadata": {},
   "outputs": [],
   "source": [
    "E_list_STANDARD_XY=np.array(E_list_STANDARD_XY)\n",
    "E_list_STANDARD_Z=np.array(E_list_STANDARD_Z)"
   ]
  },
  {
   "cell_type": "code",
   "execution_count": null,
   "metadata": {},
   "outputs": [],
   "source": []
  },
  {
   "cell_type": "code",
   "execution_count": 20,
   "metadata": {},
   "outputs": [
    {
     "data": {
      "text/plain": [
       "3211"
      ]
     },
     "execution_count": 20,
     "metadata": {},
     "output_type": "execute_result"
    }
   ],
   "source": [
    "len(set(E_list_STANDARD_Z))"
   ]
  },
  {
   "cell_type": "code",
   "execution_count": 21,
   "metadata": {},
   "outputs": [
    {
     "data": {
      "text/plain": [
       "0.3875794934327951"
      ]
     },
     "execution_count": 21,
     "metadata": {},
     "output_type": "execute_result"
    }
   ],
   "source": [
    "max(E_list_STANDARD_Z)"
   ]
  },
  {
   "cell_type": "code",
   "execution_count": 22,
   "metadata": {},
   "outputs": [
    {
     "data": {
      "image/png": "[encoded data removed]",
      "text/plain": [
       "<Figure size 432x288 with 1 Axes>"
      ]
     },
     "metadata": {
      "needs_background": "light"
     },
     "output_type": "display_data"
    }
   ],
   "source": [
    "from matplotlib import pyplot\n",
    "%matplotlib inline\n",
    "\n",
    "\n",
    "# bins_standard = len(set(E_list_STANDARD_sim))\n",
    "bins_standard = 20\n",
    "\n",
    "# bin_heights_XY, bin_borders_XY, _=pyplot.hist(E_list_STANDARD_XY,\n",
    "#                                                           bins_standard, alpha=0.7,\n",
    "#                                                           label='$XY$ terms',\n",
    "#                                                           color='b',\n",
    "#                                                           density=False)\n",
    "\n",
    "bin_heights_Z, bin_borders_Z, _=pyplot.hist(E_list_STANDARD_Z,\n",
    "                                                          bins_standard, alpha=0.7,\n",
    "                                                          label='$Z$ terms',\n",
    "                                                          color='g',\n",
    "                                                          density=True)\n",
    "\n",
    "pyplot.rcParams[\"font.family\"] = \"Times New Roman\"\n",
    "pyplot.ylabel('Probability Density', fontsize=20)\n",
    "pyplot.xlabel('Energy / Hartree', fontsize=20)\n",
    "pyplot.xticks(np.arange(-5,-1,1), fontsize=20)\n",
    "pyplot.xlim((-5, -2)) \n",
    "pyplot.yticks(np.arange(0,4,0.5), fontsize=20)\n",
    "\n",
    "pyplot.tight_layout()\n",
    "\n",
    "file_name = 'LiH_standard_Z.jpeg'\n",
    "pyplot.savefig(file_name, dpi=300,transparent=True,) # edgecolor='black', facecolor='white')\n",
    "pyplot.show()"
   ]
  },
  {
   "cell_type": "code",
   "execution_count": 23,
   "metadata": {},
   "outputs": [
    {
     "data": {
      "text/plain": [
       "[<matplotlib.lines.Line2D at 0x7fccb047a190>]"
      ]
     },
     "execution_count": 23,
     "metadata": {},
     "output_type": "execute_result"
    },
    {
     "data": {
      "image/png": "[encoded data removed]",
      "text/plain": [
       "<Figure size 432x288 with 1 Axes>"
      ]
     },
     "metadata": {
      "needs_background": "light"
     },
     "output_type": "display_data"
    }
   ],
   "source": [
    "plt.plot(bin_borders_Z[:-1], bin_heights_Z)"
   ]
  },
  {
   "cell_type": "code",
   "execution_count": 24,
   "metadata": {},
   "outputs": [
    {
     "data": {
      "text/plain": [
       "<BarContainer object of 19 artists>"
      ]
     },
     "execution_count": 24,
     "metadata": {},
     "output_type": "execute_result"
    },
    {
     "data": {
      "image/png": "[encoded data removed]",
      "text/plain": [
       "<Figure size 432x288 with 1 Axes>"
      ]
     },
     "metadata": {
      "needs_background": "light"
     },
     "output_type": "display_data"
    }
   ],
   "source": [
    "indices=np.where(bin_heights_Z<0.5)[0]\n",
    "X=np.take(bin_borders_Z[:-1], indices)\n",
    "Y=np.take(bin_heights_Z, indices)\n",
    "plt.bar(X, Y)"
   ]
  },
  {
   "cell_type": "code",
   "execution_count": null,
   "metadata": {},
   "outputs": [],
   "source": []
  },
  {
   "cell_type": "code",
   "execution_count": 25,
   "metadata": {},
   "outputs": [
    {
     "data": {
      "image/png": "[encoded data removed]",
      "text/plain": [
       "<Figure size 432x288 with 1 Axes>"
      ]
     },
     "metadata": {
      "needs_background": "light"
     },
     "output_type": "display_data"
    }
   ],
   "source": [
    "from matplotlib import pyplot\n",
    "%matplotlib inline\n",
    "\n",
    "\n",
    "# bins_standard = len(set(E_list_STANDARD_sim))\n",
    "bins_standard = 1000\n",
    "\n",
    "bin_heights_XY, bin_borders_XY, _=pyplot.hist(E_list_STANDARD_XY,\n",
    "                                                          bins_standard, alpha=0.7,\n",
    "                                                          label='$XY$ terms',\n",
    "                                                          color='g',\n",
    "                                                          density=True)\n",
    "\n",
    "pyplot.rcParams[\"font.family\"] = \"Times New Roman\"\n",
    "pyplot.ylabel('Probability Density', fontsize=20)\n",
    "pyplot.xlabel('Energy / Hartree', fontsize=20)\n",
    "pyplot.xticks(np.arange(-0.8,0.9,0.2), fontsize=20)\n",
    "pyplot.xlim((-0.8, 0.8)) \n",
    "pyplot.yticks(np.arange(0,5,1.5), fontsize=20)\n",
    "\n",
    "\n",
    "pyplot.tight_layout()\n",
    "\n",
    "file_name = 'LiH_standard_XY.jpeg'\n",
    "pyplot.savefig(file_name, dpi=300,transparent=True,) # edgecolor='black', facecolor='white')\n",
    "pyplot.show()"
   ]
  },
  {
   "cell_type": "code",
   "execution_count": null,
   "metadata": {},
   "outputs": [],
   "source": []
  },
  {
   "cell_type": "code",
   "execution_count": null,
   "metadata": {},
   "outputs": [],
   "source": []
  },
  {
   "cell_type": "code",
   "execution_count": null,
   "metadata": {},
   "outputs": [],
   "source": []
  },
  {
   "cell_type": "code",
   "execution_count": null,
   "metadata": {},
   "outputs": [],
   "source": []
  },
  {
   "cell_type": "code",
   "execution_count": null,
   "metadata": {},
   "outputs": [],
   "source": []
  },
  {
   "cell_type": "code",
   "execution_count": 26,
   "metadata": {},
   "outputs": [
    {
     "ename": "NameError",
     "evalue": "name 'adsdksal' is not defined",
     "output_type": "error",
     "traceback": [
      "\u001b[0;31m---------------------------------------------------------------------------\u001b[0m",
      "\u001b[0;31mNameError\u001b[0m                                 Traceback (most recent call last)",
      "\u001b[0;32m<ipython-input-26-bdee2cac77ce>\u001b[0m in \u001b[0;36m<module>\u001b[0;34m\u001b[0m\n\u001b[0;32m----> 1\u001b[0;31m \u001b[0madsdksal\u001b[0m\u001b[0;34m;\u001b[0m\u001b[0;34m\u001b[0m\u001b[0;34m\u001b[0m\u001b[0m\n\u001b[0m",
      "\u001b[0;31mNameError\u001b[0m: name 'adsdksal' is not defined"
     ]
    }
   ],
   "source": [
    "adsdksal;"
   ]
  },
  {
   "cell_type": "code",
   "execution_count": null,
   "metadata": {},
   "outputs": [],
   "source": []
  },
  {
   "cell_type": "code",
   "execution_count": 29,
   "metadata": {},
   "outputs": [
    {
     "data": {
      "text/plain": [
       "{'0': 73, '1': 1616627}"
      ]
     },
     "execution_count": 29,
     "metadata": {},
     "output_type": "execute_result"
    }
   ],
   "source": [
    "unique, counts = np.unique(STANDARD_Hist_data_sim[0]['Measurements'], return_counts=True)\n",
    "M_DICT=dict(zip(unique, counts))\n",
    "M_DICT"
   ]
  },
  {
   "cell_type": "code",
   "execution_count": 33,
   "metadata": {},
   "outputs": [
    {
     "data": {
      "text/plain": [
       "(((0, 'Z'),), (1.0315710782693241+0j))"
      ]
     },
     "execution_count": 33,
     "metadata": {},
     "output_type": "execute_result"
    }
   ],
   "source": []
  },
  {
   "cell_type": "code",
   "execution_count": 34,
   "metadata": {},
   "outputs": [],
   "source": [
    "EXP_M_prob={}\n",
    "for key in STANDARD_Hist_data_sim:\n",
    "    Pword, const = STANDARD_Hist_data_sim[key]['P']\n",
    "    \n",
    "    \n",
    "    unique, counts = np.unique(STANDARD_Hist_data_sim[key]['Measurements'], return_counts=True)\n",
    "    M_DICT=dict(zip(unique, counts))\n",
    "    \n",
    "    M_prob={}\n",
    "    for bitstring, Ntimes in M_DICT.items():\n",
    "        parity =  1 if sum(map(int, bitstring)) % 2 == 0 else -1\n",
    "        if parity in M_prob.keys():\n",
    "            M_prob[parity]+=Ntimes\n",
    "        else:\n",
    "            M_prob[parity]=Ntimes\n",
    "        \n",
    "    EXP_M_prob[key]={'Sij':M_prob, 'P':QubitOperator(Pword, const)}\n",
    "    "
   ]
  },
  {
   "cell_type": "code",
   "execution_count": 83,
   "metadata": {},
   "outputs": [
    {
     "data": {
      "text/plain": [
       "68"
      ]
     },
     "execution_count": 83,
     "metadata": {},
     "output_type": "execute_result"
    }
   ],
   "source": [
    "indices=[]\n",
    "min_abs_amp = 0.51\n",
    "\n",
    "for i in EXP_M_prob:\n",
    "    Pword, const = list(EXP_M_prob[i]['P'].terms.items())[0]\n",
    "    \n",
    "    qubitNos, qubitPstrs = zip(*(list(Pword)))\n",
    "    if ('X' in qubitPstrs) or ('Y' in qubitPstrs):\n",
    "        plus=EXP_M_prob[i]['Sij'][1]\n",
    "        minus=EXP_M_prob[i]['Sij'][-1]\n",
    "#         if (plus-minus)>1000:\n",
    "#             print(i, (plus-minus))\n",
    "        if (plus/sum(EXP_M_prob[i]['Sij'].values())> min_abs_amp) or (minus/sum(EXP_M_prob[i]['Sij'].values())>min_abs_amp):\n",
    "#             print(i, plus/sum(EXP_M_prob[i]['Sij'].values()))\n",
    "            indices.append(i)\n",
    "#             if np.abs(const)>0.01 :\n",
    "#                 print(i, plus/sum(EXP_M_prob[i]['Sij'].values()))\n",
    "#                 indices.append(i)\n",
    "len(indices)"
   ]
  },
  {
   "cell_type": "code",
   "execution_count": 84,
   "metadata": {},
   "outputs": [],
   "source": [
    "HIST={}\n",
    "\n",
    "for key in indices:\n",
    "    HIST[key]=STANDARD_Hist_data_sim[key]"
   ]
  },
  {
   "cell_type": "code",
   "execution_count": 85,
   "metadata": {},
   "outputs": [
    {
     "name": "stderr",
     "output_type": "stream",
     "text": [
      "100%|██████████| 1616700/1616700 [03:10<00:00, 8487.97it/s]\n"
     ]
    }
   ],
   "source": [
    "E_list_HIST=Get_Hist_data(HIST, 0)"
   ]
  },
  {
   "cell_type": "code",
   "execution_count": 86,
   "metadata": {},
   "outputs": [
    {
     "data": {
      "image/png": "[encoded data removed]",
      "text/plain": [
       "<Figure size 432x288 with 1 Axes>"
      ]
     },
     "metadata": {
      "needs_background": "light"
     },
     "output_type": "display_data"
    }
   ],
   "source": [
    "from matplotlib import pyplot\n",
    "%matplotlib inline\n",
    "\n",
    "\n",
    "# bins_standard = len(set(E_list_STANDARD_sim))\n",
    "bins_standard = 1000\n",
    "\n",
    "bin_heights_XY, bin_borders_XY, _=pyplot.hist(E_list_HIST,\n",
    "                                                          bins_standard, alpha=0.7,\n",
    "                                                          label='$HIST$ terms',\n",
    "                                                          color='r',\n",
    "                                                          density=True)\n",
    "\n",
    "pyplot.rcParams[\"font.family\"] = \"Times New Roman\"\n",
    "pyplot.ylabel('Probability Density', fontsize=20)\n",
    "pyplot.xlabel('Energy / Hartree', fontsize=20)\n",
    "# pyplot.xticks(np.arange(-0.8,0.9,0.2), fontsize=20)\n",
    "# pyplot.xlim((-0.8, 0.8)) \n",
    "# pyplot.yticks(np.arange(0,5,1.5), fontsize=20)\n",
    "\n",
    "\n",
    "pyplot.tight_layout()\n",
    "\n",
    "# file_name = 'LiH_standard_XY.jpeg'\n",
    "# pyplot.savefig(file_name, dpi=300,transparent=True,) # edgecolor='black', facecolor='white')\n",
    "pyplot.show()"
   ]
  },
  {
   "cell_type": "code",
   "execution_count": null,
   "metadata": {},
   "outputs": [],
   "source": []
  },
  {
   "cell_type": "code",
   "execution_count": null,
   "metadata": {},
   "outputs": [],
   "source": []
  },
  {
   "cell_type": "code",
   "execution_count": null,
   "metadata": {},
   "outputs": [],
   "source": [
    "# 54% positive indices:\n",
    "# [388, 389, 390, 391, 402, 403, 404, 405, 406, 407, 408, 409]"
   ]
  },
  {
   "cell_type": "code",
   "execution_count": 68,
   "metadata": {},
   "outputs": [
    {
     "data": {
      "text/plain": [
       "1 [X2 Z3 X4 X5 Y7 Y11]"
      ]
     },
     "execution_count": 68,
     "metadata": {},
     "output_type": "execute_result"
    }
   ],
   "source": [
    "j=404\n",
    "\n",
    "QubitOperator(STANDARD_Hist_data_sim[j]['P'][0], 1)"
   ]
  },
  {
   "cell_type": "code",
   "execution_count": 73,
   "metadata": {},
   "outputs": [
    {
     "name": "stdout",
     "output_type": "stream",
     "text": [
      "1 [Y2 Z3 Y5 Y7 Z9 Y10 X11]\n",
      "1 [Z1 X2 Z4 X5 Y7 Z9 Y10 X11]\n",
      "1 [X2 Z3 Y5 Y7 Z9 X10 X11]\n",
      "1 [Z1 Y2 Z4 X5 Y7 Z9 X10 X11]\n",
      "1 [Y2 Z3 Y4 X5 Y7 Y11]\n",
      "1 [Z1 X2 Y4 X5 Y7 Z9 Z10 X11]\n",
      "1 [X2 Z3 X4 X5 Y7 Y11]\n",
      "1 [Z1 Y2 X4 X5 Y7 Z9 Z10 X11]\n",
      "1 [Y2 Z9 Y10 Z11]\n",
      "1 [Z1 X2 Z3 X10]\n",
      "1 [X2 Z9 X10 Z11]\n",
      "1 [Z1 Y2 Z3 Y10]\n"
     ]
    }
   ],
   "source": [
    "for j in indices:\n",
    "    print(QubitOperator(STANDARD_Hist_data_sim[j]['P'][0], 1))"
   ]
  },
  {
   "cell_type": "markdown",
   "metadata": {},
   "source": [
    "NOTE all include X or Y on qubit 2 ///// X or Y on qubit 10"
   ]
  },
  {
   "cell_type": "code",
   "execution_count": 72,
   "metadata": {},
   "outputs": [
    {
     "name": "stdout",
     "output_type": "stream",
     "text": [
      "101000000000\n",
      "100000000010\n"
     ]
    }
   ],
   "source": [
    "print('000000000101'[::-1])\n",
    "print('010000000001'[::-1])"
   ]
  },
  {
   "cell_type": "markdown",
   "metadata": {},
   "source": [
    "this makes exp val slightly closer to +1 \n",
    "\n",
    "e.g."
   ]
  },
  {
   "cell_type": "code",
   "execution_count": 71,
   "metadata": {},
   "outputs": [
    {
     "name": "stdout",
     "output_type": "stream",
     "text": [
      "|Ψ> =  (0.99498743710662+0j) |0> + (0.07071067811865475+0.07071067811865475j) |1>\n",
      "<X>:  (0.1407124727947029+0j)\n",
      "<Y>:  (0.1407124727947029+0j)\n",
      "<Z>:  (0.98+0j)\n"
     ]
    }
   ],
   "source": [
    "alpha=np.sqrt(0.99) # ZERO\n",
    "beta=np.sqrt(0.01j)  # ONE \n",
    "\n",
    "STATE = np.array([[alpha], [beta]])\n",
    "\n",
    "X = cirq.X._unitary_()\n",
    "Y = cirq.Y._unitary_()\n",
    "Z = cirq.Z._unitary_()\n",
    "\n",
    "print('|Ψ> = ', STATE[0,0], '|0> +', STATE[1,0], '|1>')\n",
    "print('<X>: ', np.dot(STATE.conj().T, X.dot(STATE)).item(0))\n",
    "print('<Y>: ',np.dot(STATE.conj().T, Y.dot(STATE)).item(0))\n",
    "print('<Z>: ',np.dot(STATE.conj().T, Z.dot(STATE)).item(0))"
   ]
  },
  {
   "cell_type": "code",
   "execution_count": 69,
   "metadata": {},
   "outputs": [
    {
     "name": "stdout",
     "output_type": "stream",
     "text": [
      "101000000000\n",
      "100000000010\n"
     ]
    }
   ],
   "source": []
  },
  {
   "cell_type": "code",
   "execution_count": 55,
   "metadata": {},
   "outputs": [
    {
     "data": {
      "text/plain": [
       "[388, 389, 390, 391, 402, 403, 404, 405, 406, 407, 408, 409]"
      ]
     },
     "execution_count": 55,
     "metadata": {},
     "output_type": "execute_result"
    }
   ],
   "source": [
    "indices"
   ]
  }
 ],
 "metadata": {
  "kernelspec": {
   "display_name": "Python 3",
   "language": "python",
   "name": "python3"
  },
  "language_info": {
   "codemirror_mode": {
    "name": "ipython",
    "version": 3
   },
   "file_extension": ".py",
   "mimetype": "text/x-python",
   "name": "python",
   "nbconvert_exporter": "python",
   "pygments_lexer": "ipython3",
   "version": "3.7.6"
  }
 },
 "nbformat": 4,
 "nbformat_minor": 4
}
