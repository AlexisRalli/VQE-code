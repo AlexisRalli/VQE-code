{
 "cells": [
  {
   "cell_type": "markdown",
   "metadata": {},
   "source": [
    "https://qiskit.org/documentation/stubs/qiskit.quantum_info.Statevector.html\n",
    "    \n",
    "https://qiskit.org/documentation/stubs/qiskit.quantum_info.Statevector.sample_memory.html\n",
    "\n",
    "https://qiskit.org/documentation/stubs/qiskit.quantum_info.Statevector.sample_counts.html#qiskit.quantum_info.Statevector.sample_counts"
   ]
  },
  {
   "cell_type": "code",
   "execution_count": 1,
   "metadata": {},
   "outputs": [],
   "source": [
    "import pickle\n",
    "import os\n",
    "from quchem_ibm.Qiskit_Chemistry import *\n",
    "from quchem_ibm.IBM_experiment_functions import *"
   ]
  },
  {
   "cell_type": "code",
   "execution_count": 2,
   "metadata": {},
   "outputs": [],
   "source": [
    "# input for exp\n",
    "base_dir = os.getcwd()\n",
    "data_dir = os.path.join(base_dir, 'Input_data')\n",
    "input_file = os.path.join(data_dir, 'H2_bravyi_kitaev_2_qubit_experiment_time=2020Sep21-162239536536.pickle')\n",
    "with open(input_file, 'rb') as handle:\n",
    "    input_data = pickle.load(handle)\n"
   ]
  },
  {
   "cell_type": "code",
   "execution_count": 3,
   "metadata": {},
   "outputs": [
    {
     "data": {
      "text/plain": [
       "['Hamiltonian',\n",
       " 'anti_commuting_sets',\n",
       " 'geometry',\n",
       " 'basis_set',\n",
       " 'transformation',\n",
       " 'Graph_colouring_strategy',\n",
       " 'fci_energy',\n",
       " 'standard_VQE_circuits',\n",
       " 'standard_I_term',\n",
       " 'Seq_Rot_VQE_circuits',\n",
       " 'S_indices_dict',\n",
       " 'Seq_Rot_I_term',\n",
       " 'LCU_VQE_circuits',\n",
       " 'LCU_I_term',\n",
       " 'N_index_dict',\n",
       " 'n_system_qubits',\n",
       " 'ground_state']"
      ]
     },
     "execution_count": 3,
     "metadata": {},
     "output_type": "execute_result"
    }
   ],
   "source": [
    "list(input_data.keys())"
   ]
  },
  {
   "cell_type": "code",
   "execution_count": 4,
   "metadata": {},
   "outputs": [],
   "source": [
    "from qiskit.quantum_info import Statevector"
   ]
  },
  {
   "cell_type": "code",
   "execution_count": 6,
   "metadata": {},
   "outputs": [
    {
     "ename": "AttributeError",
     "evalue": "'QuantumCircuit' object has no attribute '_calibrations'",
     "output_type": "error",
     "traceback": [
      "\u001b[0;31m---------------------------------------------------------------------------\u001b[0m",
      "\u001b[0;31mAttributeError\u001b[0m                            Traceback (most recent call last)",
      "\u001b[0;32m<ipython-input-6-163e7580dce9>\u001b[0m in \u001b[0;36m<module>\u001b[0;34m\u001b[0m\n\u001b[0;32m----> 1\u001b[0;31m \u001b[0mcircuit\u001b[0m \u001b[0;34m=\u001b[0m \u001b[0minput_data\u001b[0m\u001b[0;34m[\u001b[0m\u001b[0;34m'LCU_VQE_circuits'\u001b[0m\u001b[0;34m]\u001b[0m\u001b[0;34m[\u001b[0m\u001b[0;36m2\u001b[0m\u001b[0;34m]\u001b[0m\u001b[0;34m[\u001b[0m\u001b[0;34m'circuit'\u001b[0m\u001b[0;34m]\u001b[0m\u001b[0;34m.\u001b[0m\u001b[0mcopy\u001b[0m\u001b[0;34m(\u001b[0m\u001b[0;34m)\u001b[0m\u001b[0;34m\u001b[0m\u001b[0;34m\u001b[0m\u001b[0m\n\u001b[0m\u001b[1;32m      2\u001b[0m \u001b[0;34m\u001b[0m\u001b[0m\n\u001b[1;32m      3\u001b[0m \u001b[0mprint\u001b[0m\u001b[0;34m(\u001b[0m\u001b[0mcircuit\u001b[0m\u001b[0;34m.\u001b[0m\u001b[0mdraw\u001b[0m\u001b[0;34m(\u001b[0m\u001b[0;34m)\u001b[0m\u001b[0;34m)\u001b[0m\u001b[0;34m\u001b[0m\u001b[0;34m\u001b[0m\u001b[0m\n\u001b[1;32m      4\u001b[0m \u001b[0;34m\u001b[0m\u001b[0m\n\u001b[1;32m      5\u001b[0m \u001b[0mbackend\u001b[0m \u001b[0;34m=\u001b[0m \u001b[0mAer\u001b[0m\u001b[0;34m.\u001b[0m\u001b[0mget_backend\u001b[0m\u001b[0;34m(\u001b[0m\u001b[0;34m'statevector_simulator'\u001b[0m\u001b[0;34m)\u001b[0m\u001b[0;34m\u001b[0m\u001b[0;34m\u001b[0m\u001b[0m\n",
      "\u001b[0;32m~/anaconda3/envs/UpdatedCirq/lib/python3.7/site-packages/qiskit/circuit/quantumcircuit.py\u001b[0m in \u001b[0;36mcopy\u001b[0;34m(self, name)\u001b[0m\n\u001b[1;32m   1627\u001b[0m                      for inst, qargs, cargs in self._data]\n\u001b[1;32m   1628\u001b[0m \u001b[0;34m\u001b[0m\u001b[0m\n\u001b[0;32m-> 1629\u001b[0;31m         \u001b[0mcpy\u001b[0m\u001b[0;34m.\u001b[0m\u001b[0m_calibrations\u001b[0m \u001b[0;34m=\u001b[0m \u001b[0mcopy\u001b[0m\u001b[0;34m.\u001b[0m\u001b[0mdeepcopy\u001b[0m\u001b[0;34m(\u001b[0m\u001b[0mself\u001b[0m\u001b[0;34m.\u001b[0m\u001b[0m_calibrations\u001b[0m\u001b[0;34m)\u001b[0m\u001b[0;34m\u001b[0m\u001b[0;34m\u001b[0m\u001b[0m\n\u001b[0m\u001b[1;32m   1630\u001b[0m \u001b[0;34m\u001b[0m\u001b[0m\n\u001b[1;32m   1631\u001b[0m         \u001b[0;32mif\u001b[0m \u001b[0mname\u001b[0m\u001b[0;34m:\u001b[0m\u001b[0;34m\u001b[0m\u001b[0;34m\u001b[0m\u001b[0m\n",
      "\u001b[0;31mAttributeError\u001b[0m: 'QuantumCircuit' object has no attribute '_calibrations'"
     ]
    }
   ],
   "source": [
    "circuit = input_data['LCU_VQE_circuits'][2]['circuit'].copy()\n",
    "\n",
    "print(circuit.draw())\n",
    "\n",
    "backend = Aer.get_backend('statevector_simulator')\n",
    "# backend = Aer.get_backend('qasm_simulator')\n",
    "job = execute(circuit, backend)\n",
    "state = job.result().get_statevector(circuit)\n",
    "\n",
    "state = Statevector(state)"
   ]
  },
  {
   "cell_type": "code",
   "execution_count": 5,
   "metadata": {},
   "outputs": [
    {
     "name": "stdout",
     "output_type": "stream",
     "text": [
      "         ┌───────────────┐ ┌───────────────┐                     »\n",
      "  q0_0: ─┤ U3(2.916,0,0) ├─┤ U3(0,0,-pi/2) ├──■──────────────────»\n",
      "         └┬──────────────┤ └───────────────┘┌─┴─┐┌──────────────┐»\n",
      "  q0_1: ──┤ U3(pi/2,0,0) ├──────────────────┤ X ├┤ U3(pi/2,0,0) ├»\n",
      "        ┌─┴──────────────┴┐                 └───┘└──────────────┘»\n",
      " q71_0: ┤ disentangler_dg ├──────────────────────────────────────»\n",
      "        └─────────────────┘                                      »\n",
      "meas: 3/═════════════════════════════════════════════════════════»\n",
      "                                                                 »\n",
      "«                                              ┌───────────┐     »\n",
      "«  q0_0: ───────────────────■──────────────────┤ (-0-1j)*X ├─────»\n",
      "«        ┌───────────────┐┌─┴─┐┌──────────────┐└─────┬─────┘┌───┐»\n",
      "«  q0_1: ┤ U3(0,0,-pi/2) ├┤ X ├┤ U3(0,0,pi/2) ├──────┼──────┤ Y ├»\n",
      "«        └───────────────┘└───┘└──────────────┘      │      └─┬─┘»\n",
      "« q71_0: ────────────────────────────────────────────■────────■──»\n",
      "«                                                                »\n",
      "«meas: 3/════════════════════════════════════════════════════════»\n",
      "«                                                                »\n",
      "«                               ░ ┌─┐      \n",
      "«  q0_0: ───────────────────────░─┤M├──────\n",
      "«                               ░ └╥┘┌─┐   \n",
      "«  q0_1: ───────────────────────░──╫─┤M├───\n",
      "«        ┌────────────────────┐ ░  ║ └╥┘┌─┐\n",
      "« q71_0: ┤ disentangler_dg_dg ├─░──╫──╫─┤M├\n",
      "«        └────────────────────┘ ░  ║  ║ └╥┘\n",
      "«meas: 3/══════════════════════════╩══╩══╩═\n",
      "«                                  0  1  2 \n"
     ]
    },
    {
     "data": {
      "text/plain": [
       "[Statevector([ 0.+0.00000000e+00j, -1.+1.18305155e-15j,  0.+0.00000000e+00j,\n",
       "               0.+0.00000000e+00j, -0.+0.00000000e+00j,  0.+0.00000000e+00j,\n",
       "              -0.+0.00000000e+00j,  0.+0.00000000e+00j],\n",
       "             dims=(2, 2, 2)),\n",
       " Statevector([-0.        +0.j        ,  0.        +0.j        ,\n",
       "               0.        +0.j        , -0.        +0.j        ,\n",
       "               0.        +0.j        ,  0.30200159+0.95330742j,\n",
       "               0.        +0.j        ,  0.        +0.j        ],\n",
       "             dims=(2, 2, 2))]"
      ]
     },
     "execution_count": 5,
     "metadata": {},
     "output_type": "execute_result"
    }
   ],
   "source": [
    "circuit = input_data['LCU_VQE_circuits'][2]['circuit'].copy()\n",
    "circuit2 = input_data['LCU_VQE_circuits'][1]['circuit'].copy()\n",
    "print(circuit.draw())\n",
    "\n",
    "n_shots=1\n",
    "backend = Aer.get_backend('statevector_simulator')\n",
    "transpiled_circs = transpile([circuit, circuit2], backend=backend, optimization_level=None)\n",
    "qobjs = assemble(transpiled_circs, backend=backend, shots=n_shots)\n",
    "job = backend.run(qobjs)#, name=job_name)\n",
    "\n",
    "[Statevector(job.result().get_statevector(i)) for i in range(len(transpiled_circs))]"
   ]
  },
  {
   "cell_type": "code",
   "execution_count": 6,
   "metadata": {},
   "outputs": [
    {
     "data": {
      "text/plain": [
       "{'110': 1000}"
      ]
     },
     "execution_count": 6,
     "metadata": {},
     "output_type": "execute_result"
    }
   ],
   "source": [
    "n_shots = 1000\n",
    "state.sample_counts(n_shots)"
   ]
  },
  {
   "cell_type": "code",
   "execution_count": null,
   "metadata": {},
   "outputs": [],
   "source": []
  },
  {
   "cell_type": "code",
   "execution_count": null,
   "metadata": {},
   "outputs": [],
   "source": []
  },
  {
   "cell_type": "markdown",
   "metadata": {},
   "source": [
    "https://qiskit.org/documentation/stubs/qiskit.providers.aer.extensions.Snapshot.html#qiskit.providers.aer.extensions.Snapshot\n",
    "\n",
    "https://quantumcomputing.stackexchange.com/questions/13769/how-to-get-state-vector-from-qasmsimulator-in-qiskit\n",
    "\n",
    "https://quantumcomputing.stackexchange.com/questions/13472/is-there-any-way-we-get-the-state-vector-density-matrix-of-a-noisy-simulation-in"
   ]
  },
  {
   "cell_type": "code",
   "execution_count": 34,
   "metadata": {},
   "outputs": [],
   "source": [
    "# # https://qiskit.org/documentation/stubs/qiskit.providers.aer.extensions.SnapshotStatevector.html#qiskit.providers.aer.extensions.SnapshotStatevector\n",
    "# from qiskit.providers.aer.extensions import Snapshot\n",
    "\n",
    "# print(circuit.draw())\n",
    "# Snapshot(label, snapshot_type='statevector', num_qubits=0, num_clbits=0, params=None)\n",
    "# # backend = Aer.get_backend('statevector_simulator')\n",
    "# backend = Aer.get_backend('qasm_simulator')\n",
    "# job = execute(circuit, backend)\n",
    "# state = job.result().get_statevector(circuit)\n",
    "\n",
    "# state = Statevector(state)"
   ]
  },
  {
   "cell_type": "code",
   "execution_count": 33,
   "metadata": {},
   "outputs": [
    {
     "data": {
      "text/plain": [
       "['__class__',\n",
       " '__delattr__',\n",
       " '__dict__',\n",
       " '__dir__',\n",
       " '__doc__',\n",
       " '__eq__',\n",
       " '__format__',\n",
       " '__ge__',\n",
       " '__getattribute__',\n",
       " '__getitem__',\n",
       " '__gt__',\n",
       " '__hash__',\n",
       " '__init__',\n",
       " '__init_subclass__',\n",
       " '__le__',\n",
       " '__len__',\n",
       " '__lt__',\n",
       " '__module__',\n",
       " '__ne__',\n",
       " '__new__',\n",
       " '__reduce__',\n",
       " '__reduce_ex__',\n",
       " '__repr__',\n",
       " '__setattr__',\n",
       " '__sizeof__',\n",
       " '__str__',\n",
       " '__subclasshook__',\n",
       " '__weakref__',\n",
       " 'add',\n",
       " 'c_if',\n",
       " 'cargs',\n",
       " 'instructions',\n",
       " 'inverse',\n",
       " 'qargs']"
      ]
     },
     "execution_count": 33,
     "metadata": {},
     "output_type": "execute_result"
    }
   ],
   "source": [
    "dir(circuit.snapshot_statevector('test'))"
   ]
  },
  {
   "cell_type": "code",
   "execution_count": null,
   "metadata": {},
   "outputs": [],
   "source": []
  },
  {
   "cell_type": "code",
   "execution_count": 29,
   "metadata": {},
   "outputs": [],
   "source": []
  },
  {
   "cell_type": "code",
   "execution_count": 18,
   "metadata": {},
   "outputs": [
    {
     "name": "stdout",
     "output_type": "stream",
     "text": [
      "        ┌───────────────┐ ┌───────────────┐                     »\n",
      " q0_0: ─┤ U3(2.916,0,0) ├─┤ U3(0,0,-pi/2) ├──■──────────────────»\n",
      "        └┬──────────────┤ └───────────────┘┌─┴─┐┌──────────────┐»\n",
      " q0_1: ──┤ U3(pi/2,0,0) ├──────────────────┤ X ├┤ U3(pi/2,0,0) ├»\n",
      "       ┌─┴──────────────┴┐                 └───┘└──────────────┘»\n",
      "q71_0: ┤ disentangler_dg ├──────────────────────────────────────»\n",
      "       └─────────────────┘                                      »\n",
      "«                                             ┌───────────┐     »\n",
      "« q0_0: ───────────────────■──────────────────┤ (-0-1j)*X ├─────»\n",
      "«       ┌───────────────┐┌─┴─┐┌──────────────┐└─────┬─────┘┌───┐»\n",
      "« q0_1: ┤ U3(0,0,-pi/2) ├┤ X ├┤ U3(0,0,pi/2) ├──────┼──────┤ Y ├»\n",
      "«       └───────────────┘└───┘└──────────────┘      │      └─┬─┘»\n",
      "«q71_0: ────────────────────────────────────────────■────────■──»\n",
      "«                                                               »\n",
      "«                             \n",
      "« q0_0: ──────────────────────\n",
      "«                             \n",
      "« q0_1: ──────────────────────\n",
      "«       ┌────────────────────┐\n",
      "«q71_0: ┤ disentangler_dg_dg ├\n",
      "«       └────────────────────┘\n",
      "Statevector([ 4.77395016e-16-1.26634814e-16j,\n",
      "             -8.92339970e-01+1.05568419e-15j,\n",
      "             -1.46428711e-02-1.13257358e-16j,\n",
      "              7.34249554e-17+1.11022302e-16j,\n",
      "             -2.07298841e-16+5.55111512e-17j,\n",
      "              2.81066956e-01-3.34972059e-16j,\n",
      "             -3.52868715e-01+1.51065181e-16j,\n",
      "             -7.74334366e-17-5.55111512e-17j],\n",
      "            dims=(2, 2, 2))\n"
     ]
    },
    {
     "data": {
      "text/plain": [
       "{'001': 807, '101': 79, '110': 114}"
      ]
     },
     "execution_count": 18,
     "metadata": {},
     "output_type": "execute_result"
    }
   ],
   "source": [
    "# REMOVE FINAL MEASUREMENTS!!!!!!!\n",
    "circuit = input_data['LCU_VQE_circuits'][2]['circuit'].copy()\n",
    "circuit.remove_final_measurements()\n",
    "\n",
    "print(circuit.draw())\n",
    "\n",
    "backend = Aer.get_backend('statevector_simulator')\n",
    "# backend = Aer.get_backend('qasm_simulator')\n",
    "job = execute(circuit, backend)\n",
    "state = job.result().get_statevector(circuit)\n",
    "\n",
    "state = Statevector(state)\n",
    "print(state)\n",
    "\n",
    "n_shots = 1000\n",
    "state.sample_counts(n_shots)"
   ]
  },
  {
   "cell_type": "code",
   "execution_count": 54,
   "metadata": {},
   "outputs": [
    {
     "name": "stdout",
     "output_type": "stream",
     "text": [
      "[ 4.77395016e-16-1.26634814e-16j -8.92339970e-01+1.05568419e-15j\n",
      " -1.46428711e-02-1.13257358e-16j  7.34249554e-17+1.11022302e-16j\n",
      " -2.07298841e-16+5.55111512e-17j  2.81066956e-01-3.34972059e-16j\n",
      " -3.52868715e-01+1.51065181e-16j -7.74334366e-17-5.55111512e-17j]\n"
     ]
    },
    {
     "data": {
      "text/plain": [
       "Statevector([ 0.        -0.j, -0.89233997+0.j, -0.01464287-0.j,\n",
       "              0.        +0.j, -0.        +0.j,  0.28106696-0.j,\n",
       "             -0.35286872+0.j, -0.        -0.j],\n",
       "            dims=(2, 2, 2))"
      ]
     },
     "execution_count": 54,
     "metadata": {},
     "output_type": "execute_result"
    }
   ],
   "source": [
    "print(state.data)\n",
    "# Statevector(state.to_dict())\n",
    "\n",
    "from scipy.sparse import csr_matrix\n",
    "csr_matrix(np.around(state.data, decimals=10))\n",
    "new=np.around(state.data, decimals=12)\n",
    "Statevector(new)"
   ]
  },
  {
   "cell_type": "code",
   "execution_count": 53,
   "metadata": {},
   "outputs": [
    {
     "data": {
      "text/plain": [
       "dtype('complex128')"
      ]
     },
     "execution_count": 53,
     "metadata": {},
     "output_type": "execute_result"
    }
   ],
   "source": [
    "x=Statevector(new)\n",
    "x.data.dtype"
   ]
  },
  {
   "cell_type": "code",
   "execution_count": 99,
   "metadata": {},
   "outputs": [
    {
     "name": "stdout",
     "output_type": "stream",
     "text": [
      "Statevector([ 4.45907904e-16-1.42247325e-16j,\n",
      "             -8.92339970e-01+9.78054398e-16j,\n",
      "             -1.46428711e-02-8.41177758e-17j,\n",
      "              1.08005252e-16-5.98104957e-32j,\n",
      "             -2.37878456e-16+0.00000000e+00j,\n",
      "              2.81066956e-01-3.05834515e-16j,\n",
      "             -3.52868715e-01+2.01488118e-16j,\n",
      "             -1.66819846e-16-1.66533454e-16j],\n",
      "            dims=(2, 2, 2))\n"
     ]
    },
    {
     "data": {
      "text/plain": [
       "{'001': 808, '101': 70, '110': 122}"
      ]
     },
     "execution_count": 99,
     "metadata": {},
     "output_type": "execute_result"
    }
   ],
   "source": [
    "\n",
    "qc_list=[circuit_dict['circuit'].copy() for circuit_dict in  input_data['LCU_VQE_circuits']]\n",
    "# NOTE REMOVE FINAL MEASUREMENTS\n",
    "for circuit in qc_list:\n",
    "    circuit.remove_final_measurements()\n",
    "\n",
    "transpiled_circs = transpile(qc_list, backend=backend, optimization_level=None)\n",
    "n_shots=1\n",
    "qobjs = assemble(transpiled_circs, backend=backend, shots=n_shots)\n",
    "job = backend.run(qobjs)#\n",
    "ALL_STATE_VECS = [job.result().get_statevector(i) for i in range(len(transpiled_circs))]\n",
    "\n",
    "\n",
    "state = Statevector(ALL_STATE_VECS[2])\n",
    "print(state)\n",
    "\n",
    "n_shots = 1000\n",
    "state.sample_counts(n_shots)"
   ]
  },
  {
   "cell_type": "code",
   "execution_count": null,
   "metadata": {},
   "outputs": [],
   "source": []
  }
 ],
 "metadata": {
  "kernelspec": {
   "display_name": "Python 3",
   "language": "python",
   "name": "python3"
  },
  "language_info": {
   "codemirror_mode": {
    "name": "ipython",
    "version": 3
   },
   "file_extension": ".py",
   "mimetype": "text/x-python",
   "name": "python",
   "nbconvert_exporter": "python",
   "pygments_lexer": "ipython3",
   "version": "3.7.6"
  }
 },
 "nbformat": 4,
 "nbformat_minor": 4
}
