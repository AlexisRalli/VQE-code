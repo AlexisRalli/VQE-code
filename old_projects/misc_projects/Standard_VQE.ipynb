{
 "cells": [
  {
   "cell_type": "code",
   "execution_count": 1,
   "metadata": {},
   "outputs": [
    {
     "data": {
      "text/plain": [
       "(-0.32760818995565577+0j) [] +\n",
       "(-0.04919764587885283+0j) [X0 X1 Y2 Y3] +\n",
       "(0.04919764587885283+0j) [X0 Y1 Y2 X3] +\n",
       "(0.04919764587885283+0j) [Y0 X1 X2 Y3] +\n",
       "(-0.04919764587885283+0j) [Y0 Y1 X2 X3] +\n",
       "(0.1371657293179602+0j) [Z0] +\n",
       "(0.15660062486143395+0j) [Z0 Z1] +\n",
       "(0.10622904488350779+0j) [Z0 Z2] +\n",
       "(0.15542669076236065+0j) [Z0 Z3] +\n",
       "(0.1371657293179602+0j) [Z1] +\n",
       "(0.15542669076236065+0j) [Z1 Z2] +\n",
       "(0.10622904488350779+0j) [Z1 Z3] +\n",
       "(-0.13036292044009176+0j) [Z2] +\n",
       "(0.1632676867167479+0j) [Z2 Z3] +\n",
       "(-0.13036292044009176+0j) [Z3]"
      ]
     },
     "execution_count": 1,
     "metadata": {},
     "output_type": "execute_result"
    }
   ],
   "source": [
    "from quchem.Hamiltonian_Generator_Functions import *\n",
    "from quchem.Graph import *\n",
    "### HAMILTONIAN start\n",
    "Molecule = 'H2'\n",
    "geometry = None # [('H', (0., 0., 0.)), ('H', (0., 0., 0.74))]\n",
    "basis = 'sto-3g'\n",
    "\n",
    "\n",
    "### Get Hamiltonian\n",
    "Hamilt = Hamiltonian(Molecule,\n",
    "                     run_scf=1, run_mp2=1, run_cisd=1, run_ccsd=1, run_fci=1,\n",
    "                     basis=basis,\n",
    "                     multiplicity=1,\n",
    "                     geometry=geometry)  # normally None!\n",
    "QubitHamiltonian = Hamilt.Get_Qubit_Hamiltonian(threshold=None, transformation='JW')\n",
    "### HAMILTONIAN end\n",
    "\n",
    "#####################################\n",
    "\n",
    "QubitHamiltonian"
   ]
  },
  {
   "cell_type": "code",
   "execution_count": 4,
   "metadata": {},
   "outputs": [
    {
     "name": "stdout",
     "output_type": "stream",
     "text": [
      "[1, 1, 0, 0]\n"
     ]
    }
   ],
   "source": [
    "from quchem.Ansatz_Generator_Functions import *\n",
    "\n",
    "\n",
    "ansatz_obj = Ansatz(Hamilt.molecule.n_electrons, Hamilt.molecule.n_qubits)\n",
    "\n",
    "\n",
    "\n",
    "Sec_Quant_CC_ops_ia, Sec_Quant_CC_ops_ijab, theta_parameters_ia, theta_parameters_ijab=ansatz_obj.Get_ia_and_ijab_terms(single_cc_amplitudes=None, \n",
    "                                                                                                             double_cc_amplitudes=None, \n",
    "                                                                                                             singles_hamiltonian=None,\n",
    "                                                                                                             doubles_hamiltonian=None, \n",
    "                                                                                                             tol_filter_small_terms = None)\n",
    "\n",
    "Qubit_Op_list_Second_Quant_CC_Ops_ia, Qubit_Op_list_Second_Quant_CC_Ops_ijab = ansatz_obj.UCCSD_single_trotter_step(Sec_Quant_CC_ops_ia,\n",
    "                                                                                                                    Sec_Quant_CC_ops_ijab,\n",
    "                                                                                                                   transformation='JW')\n",
    "input_state = ansatz_obj.Get_JW_HF_state_in_OCC_basis()\n",
    "print(input_state)"
   ]
  },
  {
   "cell_type": "code",
   "execution_count": 5,
   "metadata": {},
   "outputs": [
    {
     "data": {
      "text/html": [
       "<pre style=\"overflow: auto; white-space: pre;\">0: ───X───Rx(0.5π)───@───────────────────────@───Rx(-0.5π)───H───@──────────────────────@───────────H──────────H─────────────────────────────────────────────────────────────────────────────────────────────@───────────────────────────────@───────────H──────────Rx(0.5π)───@──────────────────────────────@───────────Rx(-0.5π)───Rx(0.5π)───@──────────────────────────────@───Rx(-0.5π)───H──────────@──────────────────────────────@──────────H───────────Rx(0.5π)───@───────────────────────────────────────@───────────Rx(-0.5π)───H──────────@───────────────────────────────────────@───────────H───────────H───@───────────────────────────────────────@──────────H───Rx(0.5π)───@──────────────────────────────────────@───Rx(-0.5π)───\n",
       "                     │                       │                   │                      │                                                                                                                    │                               │                                 │                              │                                  │                              │                          │                              │                                 │                                       │                                  │                                       │                           │                                       │                         │                                      │\n",
       "1: ───X──────────────X───@───────────────@───X───────────────────X───@──────────────@───X───────────Rx(0.5π)───@───────────────────────@───Rx(-0.5π)───H───@──────────────────────@───────────H──────────H───X───@───────────────────────@───X───────────H──────────Rx(0.5π)───X───@──────────────────────@───X───────────Rx(-0.5π)───H──────────X───@──────────────────────@───X───H───────────Rx(0.5π)───X───@──────────────────────@───X──────────Rx(-0.5π)───H──────────X───@───────────────────────@───────────X───────────H───────────Rx(0.5π)───X───@───────────────────────@───────────X───────────Rx(-0.5π)───H───X───@───────────────────────@───────────X──────────H───Rx(0.5π)───X───@──────────────────────@───────────X───Rx(-0.5π)───\n",
       "                         │               │                           │              │                          │                       │                   │                      │                              │                       │                                         │                      │                                          │                      │                                  │                      │                                         │                       │                                                  │                       │                                           │                       │                                         │                      │\n",
       "2: ───I───H──────────────X───Rz(-0.0π)───X───H───Rx(0.5π)────────────X───Rz(0.0π)───X───Rx(-0.5π)──────────────X───@───────────────@───X───────────────────X───@──────────────@───X───────────Rx(0.5π)───────────X───@───────────────@───X───Rx(-0.5π)───Rx(0.5π)──────────────────X───@──────────────@───X───Rx(-0.5π)───H──────────────────────────X───@──────────────@───X───H───H──────────────────────────X───@──────────────@───X───H──────────Rx(0.5π)───────────────────X───@───────────────@───X───────────Rx(-0.5π)───Rx(0.5π)───────────────────X───@───────────────@───X───────────Rx(-0.5π)───H───────────────────X───@───────────────@───X───────────H──────────H──────────────────X───@──────────────@───X───────────H───────────────\n",
       "                                                                                                                   │               │                           │              │                                      │               │                                                 │              │                                                  │              │                                          │              │                                                 │               │                                                          │               │                                                   │               │                                                 │              │\n",
       "3: ───I───H────────────────────────────────────────────────────────────────────────────────────────────────────────X───Rz(-0.0π)───X───H───Rx(0.5π)────────────X───Rz(0.0π)───X───Rx(-0.5π)───H──────────────────────X───Rz(-0.0π)───X───H───H─────────────────────────────────────────X───Rz(0.0π)───X───H───H──────────────────────────────────────────X───Rz(0.0π)───X───H───H──────────────────────────────────X───Rz(0.0π)───X───H───Rx(0.5π)──────────────────────────────────X───Rz(-0.0π)───X───Rx(-0.5π)───Rx(0.5π)───────────────────────────────────X───Rz(-0.0π)───X───Rx(-0.5π)───Rx(0.5π)────────────────────────────X───Rz(-0.0π)───X───Rx(-0.5π)───Rx(0.5π)──────────────────────────X───Rz(0.0π)───X───Rx(-0.5π)───────────────────</pre>"
      ],
      "text/plain": [
       "0: ───X───Rx(0.5π)───@───────────────────────@───Rx(-0.5π)───H───@──────────────────────@───────────H──────────H─────────────────────────────────────────────────────────────────────────────────────────────@───────────────────────────────@───────────H──────────Rx(0.5π)───@──────────────────────────────@───────────Rx(-0.5π)───Rx(0.5π)───@──────────────────────────────@───Rx(-0.5π)───H──────────@──────────────────────────────@──────────H───────────Rx(0.5π)───@───────────────────────────────────────@───────────Rx(-0.5π)───H──────────@───────────────────────────────────────@───────────H───────────H───@───────────────────────────────────────@──────────H───Rx(0.5π)───@──────────────────────────────────────@───Rx(-0.5π)───\n",
       "                     │                       │                   │                      │                                                                                                                    │                               │                                 │                              │                                  │                              │                          │                              │                                 │                                       │                                  │                                       │                           │                                       │                         │                                      │\n",
       "1: ───X──────────────X───@───────────────@───X───────────────────X───@──────────────@───X───────────Rx(0.5π)───@───────────────────────@───Rx(-0.5π)───H───@──────────────────────@───────────H──────────H───X───@───────────────────────@───X───────────H──────────Rx(0.5π)───X───@──────────────────────@───X───────────Rx(-0.5π)───H──────────X───@──────────────────────@───X───H───────────Rx(0.5π)───X───@──────────────────────@───X──────────Rx(-0.5π)───H──────────X───@───────────────────────@───────────X───────────H───────────Rx(0.5π)───X───@───────────────────────@───────────X───────────Rx(-0.5π)───H───X───@───────────────────────@───────────X──────────H───Rx(0.5π)───X───@──────────────────────@───────────X───Rx(-0.5π)───\n",
       "                         │               │                           │              │                          │                       │                   │                      │                              │                       │                                         │                      │                                          │                      │                                  │                      │                                         │                       │                                                  │                       │                                           │                       │                                         │                      │\n",
       "2: ───I───H──────────────X───Rz(-0.0π)───X───H───Rx(0.5π)────────────X───Rz(0.0π)───X───Rx(-0.5π)──────────────X───@───────────────@───X───────────────────X───@──────────────@───X───────────Rx(0.5π)───────────X───@───────────────@───X───Rx(-0.5π)───Rx(0.5π)──────────────────X───@──────────────@───X───Rx(-0.5π)───H──────────────────────────X───@──────────────@───X───H───H──────────────────────────X───@──────────────@───X───H──────────Rx(0.5π)───────────────────X───@───────────────@───X───────────Rx(-0.5π)───Rx(0.5π)───────────────────X───@───────────────@───X───────────Rx(-0.5π)───H───────────────────X───@───────────────@───X───────────H──────────H──────────────────X───@──────────────@───X───────────H───────────────\n",
       "                                                                                                                   │               │                           │              │                                      │               │                                                 │              │                                                  │              │                                          │              │                                                 │               │                                                          │               │                                                   │               │                                                 │              │\n",
       "3: ───I───H────────────────────────────────────────────────────────────────────────────────────────────────────────X───Rz(-0.0π)───X───H───Rx(0.5π)────────────X───Rz(0.0π)───X───Rx(-0.5π)───H──────────────────────X───Rz(-0.0π)───X───H───H─────────────────────────────────────────X───Rz(0.0π)───X───H───H──────────────────────────────────────────X───Rz(0.0π)───X───H───H──────────────────────────────────X───Rz(0.0π)───X───H───Rx(0.5π)──────────────────────────────────X───Rz(-0.0π)───X───Rx(-0.5π)───Rx(0.5π)───────────────────────────────────X───Rz(-0.0π)───X───Rx(-0.5π)───Rx(0.5π)────────────────────────────X───Rz(-0.0π)───X───Rx(-0.5π)───Rx(0.5π)──────────────────────────X───Rz(0.0π)───X───Rx(-0.5π)───────────────────"
      ]
     },
     "execution_count": 5,
     "metadata": {},
     "output_type": "execute_result"
    }
   ],
   "source": [
    "UCCSD_ansatz_Q_Circ_obj = Ansatz_Circuit(input_state,\n",
    "                                     Qubit_Op_list_Second_Quant_CC_Ops_ia, \n",
    "                                     Qubit_Op_list_Second_Quant_CC_Ops_ijab)\n",
    "\n",
    "UCCSD_ansatz_Q_Circ =UCCSD_ansatz_Q_Circ_obj.Get_Full_HF_UCCSD_QC(Theta_param_list_ia=theta_parameters_ia, \n",
    "                                         Theta_param_list_ijab=theta_parameters_ijab,\n",
    "                                         ia_first=True)\n",
    "UCCSD_ansatz_Q_Circ"
   ]
  },
  {
   "cell_type": "code",
   "execution_count": 6,
   "metadata": {},
   "outputs": [],
   "source": [
    "from quchem.Simulating_Quantum_Circuit import *"
   ]
  },
  {
   "cell_type": "code",
   "execution_count": 7,
   "metadata": {},
   "outputs": [],
   "source": [
    "n_shots= 1000\n",
    "\n",
    "\n",
    "def VQE_experiment_ENERGY(theta_ia_ijab_combined_list):\n",
    "    theta_params_ia = [theta_ia_ijab_combined_list[0], theta_ia_ijab_combined_list[1]]\n",
    "    theta_params_ijab = [theta_ia_ijab_combined_list[2]]\n",
    "    \n",
    "    \n",
    "    ansatz_cirq_circuit = UCCSD_ansatz_Q_Circ_obj.Get_Full_HF_UCCSD_QC(Theta_param_list_ia=theta_params_ia, \n",
    "                                                                         Theta_param_list_ijab=theta_params_ijab,\n",
    "                                                                         ia_first=True)\n",
    "    \n",
    "\n",
    "    VQE_exp = VQE_Experiment(QubitHamiltonian, ansatz_cirq_circuit, n_shots)\n",
    "    return VQE_exp.Calc_Energy().real"
   ]
  },
  {
   "cell_type": "code",
   "execution_count": 8,
   "metadata": {},
   "outputs": [
    {
     "data": {
      "text/plain": [
       "-0.39972916283855753"
      ]
     },
     "execution_count": 8,
     "metadata": {},
     "output_type": "execute_result"
    }
   ],
   "source": [
    "theta_combined = [1,2, np.pi]\n",
    "\n",
    "VQE_experiment_ENERGY(theta_combined)"
   ]
  },
  {
   "cell_type": "code",
   "execution_count": null,
   "metadata": {},
   "outputs": [],
   "source": []
  },
  {
   "cell_type": "code",
   "execution_count": 13,
   "metadata": {},
   "outputs": [],
   "source": [
    "import random\n",
    "theta_ia_random_input = [random.uniform(0, 2*np.pi) for _ in range(len(Sec_Quant_CC_ops_ia))]\n",
    "theta_ijab_random_input = [random.uniform(0, 2*np.pi) for _ in range(len(Sec_Quant_CC_ops_ijab))]\n",
    "\n",
    "theta_combined_random_input = [*theta_ia_random_input, *theta_ijab_random_input]"
   ]
  },
  {
   "cell_type": "code",
   "execution_count": 14,
   "metadata": {},
   "outputs": [
    {
     "name": "stdout",
     "output_type": "stream",
     "text": [
      "0: Input_to_Funct: [2.56400955 1.39744585 5.28072938]: Output: -0.7600250012039341\n",
      "1: Input_to_Funct: [2.43580907 1.51389968 4.92868075]: Output: -0.809045673632666\n",
      "2: Input_to_Funct: [2.43580907 1.51389968 4.92868075]: Output: -0.7835190354819438\n",
      "3: Input_to_Funct: [2.35034209 1.42850021 4.95801814]: Output: -0.8564376380357367\n",
      "4: Input_to_Funct: [2.13667463 1.59929915 4.6353069 ]: Output: -0.8932451057860638\n",
      "5: Input_to_Funct: [2.13667463 1.59929915 4.6353069 ]: Output: -0.8982839651438598\n",
      "6: Input_to_Funct: [2.13667463 1.59929915 4.6353069 ]: Output: -0.8664119850862534\n",
      "7: Input_to_Funct: [2.07969664 1.47249387 4.91890162]: Output: -0.9834631971161942\n",
      "8: Input_to_Funct: [2.07969664 1.47249387 4.91890162]: Output: -0.9859517147247762\n",
      "9: Input_to_Funct: [2.07969664 1.47249387 4.91890162]: Output: -1.0018854229587963\n",
      "10: Input_to_Funct: [1.93408622 1.49003383 4.93954645]: Output: -1.049043973517018\n",
      "11: Input_to_Funct: [1.93408622 1.49003383 4.93954645]: Output: -1.035535745233242\n",
      "12: Input_to_Funct: [1.93408622 1.49003383 4.93954645]: Output: -1.0386653212331451\n",
      "13: Input_to_Funct: [1.93408622 1.49003383 4.93954645]: Output: -1.041984195070396\n",
      "14: Input_to_Funct: [1.80871901 1.39955803 4.99091035]: Output: -1.0653988638299758\n",
      "15: Input_to_Funct: [1.80871901 1.39955803 4.99091035]: Output: -1.061737590851941\n",
      "16: Input_to_Funct: [1.80206463 1.49765345 4.8355413 ]: Output: -1.067744766013611\n",
      "17: Input_to_Funct: [1.75057008 1.39473519 4.89655267]: Output: -1.0886450852249625\n",
      "18: Input_to_Funct: [1.658035   1.43135574 4.88763918]: Output: -1.095950183894411\n",
      "19: Input_to_Funct: [1.658035   1.43135574 4.88763918]: Output: -1.087771559404873\n",
      "20: Input_to_Funct: [1.6537579  1.39526532 4.88153098]: Output: -1.0895606992955567\n",
      "21: Input_to_Funct: [1.69421484 1.43460596 4.85149284]: Output: -1.0934427153926332\n",
      "22: Input_to_Funct: [1.69421484 1.43460596 4.85149284]: Output: -1.09424372636536\n",
      "23: Input_to_Funct: [1.69421484 1.43460596 4.85149284]: Output: -1.087824008885651\n",
      "24: Input_to_Funct: [1.62334507 1.43123335 4.85323986]: Output: -1.092386805236244\n",
      "25: Input_to_Funct: [1.62334507 1.43123335 4.85323986]: Output: -1.0870496919096764\n",
      "26: Input_to_Funct: [1.62334507 1.43123335 4.85323986]: Output: -1.091690714404964\n",
      "27: Input_to_Funct: [1.62334507 1.43123335 4.85323986]: Output: -1.0841095670394456\n",
      "28: Input_to_Funct: [1.62334507 1.43123335 4.85323986]: Output: -1.0836639858781427\n",
      "29: Input_to_Funct: [1.62334507 1.43123335 4.85323986]: Output: -1.080116581326486\n",
      "30: Input_to_Funct: [1.62334507 1.43123335 4.85323986]: Output: -1.091184349366852\n",
      "31: Input_to_Funct: [1.62334507 1.43123335 4.85323986]: Output: -1.0890774527862639\n",
      "32: Input_to_Funct: [1.62334507 1.43123335 4.85323986]: Output: -1.091996992162278\n",
      "33: Input_to_Funct: [1.62334507 1.43123335 4.85323986]: Output: -1.086717717634258\n",
      "34: Input_to_Funct: [1.62210417 1.43461248 4.85021946]: Output: -1.090100488540072\n",
      "35: Input_to_Funct: [1.61611269 1.4302788  4.85376365]: Output: -1.0889099195643799\n",
      "36: Input_to_Funct: [1.61611269 1.4302788  4.85376365]: Output: -1.0976700622501758\n",
      "37: Input_to_Funct: [1.61611269 1.4302788  4.85376365]: Output: -1.08263952138467\n",
      "38: Input_to_Funct: [1.61549359 1.42928149 4.85367332]: Output: -1.0979229291891761\n",
      "39: Input_to_Funct: [1.61549359 1.42928149 4.85367332]: Output: -1.0899840786335266\n",
      "40: Input_to_Funct: [1.61549359 1.42928149 4.85367332]: Output: -1.0973631514302111\n",
      "41: Input_to_Funct: [1.61549359 1.42928149 4.85367332]: Output: -1.0953239908154409\n",
      "42: Input_to_Funct: [1.61549359 1.42928149 4.85367332]: Output: -1.0796907179702526\n",
      "43: Input_to_Funct: [1.61549359 1.42928149 4.85367332]: Output: -1.0848793231870006\n",
      "44: Input_to_Funct: [1.61549359 1.42928149 4.85367332]: Output: -1.0885987509340236\n",
      "45: Input_to_Funct: [1.61549359 1.42928149 4.85367332]: Output: -1.0937259208228216\n",
      "46: Input_to_Funct: [1.61549359 1.42928149 4.85367332]: Output: -1.0837213589772334\n",
      "47: Input_to_Funct: [1.61549359 1.42928149 4.85367332]: Output: -1.0889547669626383\n",
      "48: Input_to_Funct: [1.61549359 1.42928149 4.85367332]: Output: -1.0933435435263987\n",
      "Warning: Maximum number of iterations has been exceeded.\n",
      "Maximum number of iterations has been exceeded.\n"
     ]
    },
    {
     "data": {
      "image/png": "[encoded data removed]",
      "text/plain": [
       "<Figure size 432x288 with 1 Axes>"
      ]
     },
     "metadata": {
      "needs_background": "light"
     },
     "output_type": "display_data"
    }
   ],
   "source": [
    "### optimizer\n",
    "from quchem.Scipy_Optimizer import *\n",
    "\n",
    "# Nelder-Mead\n",
    "GG = Optimizer(VQE_experiment_ENERGY,\n",
    "                   theta_combined_random_input,\n",
    "                   args=(),\n",
    "                   method='Nelder-Mead',\n",
    "                   jac=None,\n",
    "                   hess=None,\n",
    "                   hessp=None,\n",
    "                      bounds=None,\n",
    "                   constraints=None,\n",
    "                   display_convergence_message=True,\n",
    "                   display_steps=True)\n",
    "\n",
    "GG.get_env(50)\n",
    "GG.plot_convergence()\n",
    "plt.show()"
   ]
  },
  {
   "cell_type": "code",
   "execution_count": 8,
   "metadata": {},
   "outputs": [
    {
     "data": {
      "text/plain": [
       "array(-1.10115033)"
      ]
     },
     "execution_count": 8,
     "metadata": {},
     "output_type": "execute_result"
    }
   ],
   "source": [
    "Hamilt.molecule.fci_energy"
   ]
  },
  {
   "cell_type": "markdown",
   "metadata": {},
   "source": [
    "### Gradient optimzation"
   ]
  },
  {
   "cell_type": "markdown",
   "metadata": {},
   "source": [
    "**gradient is given by**\n",
    "\n",
    "https://arxiv.org/pdf/1906.08728.pdf\n",
    "\n",
    "$$\\frac{\\partial O(\\theta)}{\\partial \\theta}=\\left\\langle\\overrightarrow{0}\\left|\\hat{U}^{\\dagger} \\hat{R}_{y}^{C \\dagger}(\\theta+\\pi / 4) \\hat{V}^{\\dagger} \\hat{O} \\hat{V} \\hat{R}_{y}^{C}(\\theta+\\pi / 4) \\hat{U}\\right| \\overrightarrow{0}\\right\\rangle -\\left\\langle\\overrightarrow{0}\\left|\\hat{U}^{\\dagger} \\hat{R}_{y}^{C \\dagger}(\\theta-\\pi / 4) \\hat{V}^{\\dagger} \\hat{O} \\hat{V} \\hat{R}_{y}^{C}(\\theta-\\pi / 4) \\hat{U}\\right| \\overrightarrow{0}\\right\\rangle$$\n",
    "\n",
    "$$\\frac{\\partial O(\\theta)}{\\partial \\theta} =O(\\theta+\\pi / 4)-O(\\theta-\\pi / 4)$$"
   ]
  },
  {
   "cell_type": "code",
   "execution_count": 16,
   "metadata": {},
   "outputs": [],
   "source": [
    "def calc_gradient_ADAM(theta_ia_theta_jab_list):\n",
    "    \n",
    "    grad_list=[]\n",
    "    \n",
    "    for index, theta in enumerate(theta_ia_theta_jab_list):\n",
    "        \n",
    "        new_theta_list = theta_ia_theta_jab_list.copy()\n",
    "        new_theta_list[index] = theta + np.pi/4\n",
    "        \n",
    "        Obs_PLUS = VQE_experiment_ENERGY(new_theta_list)\n",
    "               \n",
    "        \n",
    "        new_theta_list[index] = theta - np.pi/4\n",
    "        Obs_MINUS = VQE_experiment_ENERGY(new_theta_list)\n",
    "        \n",
    "        gradient = Obs_PLUS - Obs_MINUS\n",
    "        \n",
    "        grad_list.append(gradient)\n",
    "        \n",
    "\n",
    "    return np.array(grad_list)"
   ]
  },
  {
   "cell_type": "markdown",
   "metadata": {},
   "source": [
    "note:\n",
    "this is very SLOW as it has to run a separate experiment TWICE for each parameter before taking a step!"
   ]
  },
  {
   "cell_type": "code",
   "execution_count": 18,
   "metadata": {},
   "outputs": [],
   "source": [
    "### optimizer\n",
    "from quchem.Scipy_Optimizer import _minimize_Adam, Optimizer"
   ]
  },
  {
   "cell_type": "code",
   "execution_count": 20,
   "metadata": {},
   "outputs": [
    {
     "name": "stdout",
     "output_type": "stream",
     "text": [
      "0: Input_to_Funct: [2.46400955 1.29744586 5.18072939]: Output: -0.8040395971972989\n",
      "1: Input_to_Funct: [2.36392988 1.20429506 5.12905712]: Output: -0.8838578330856676\n",
      "2: Input_to_Funct: [2.26369924 1.13128338 5.15837905]: Output: -0.9096299842683362\n",
      "3: Input_to_Funct: [2.16440843 1.08285788 5.21095781]: Output: -0.9454151422924444\n",
      "4: Input_to_Funct: [2.0695034  1.05205663 5.25726943]: Output: -0.9777648325055845\n",
      "5: Input_to_Funct: [1.98411564 1.03688565 5.26835974]: Output: -0.9563023082425942\n",
      "6: Input_to_Funct: [1.91295406 1.03970678 5.23882461]: Output: -0.9741141421373057\n",
      "7: Input_to_Funct: [1.85711502 1.06181758 5.19070783]: Output: -0.9921894834249421\n",
      "8: Input_to_Funct: [1.81466747 1.09946707 5.12799596]: Output: -0.9969209238854516\n",
      "9: Input_to_Funct: [1.78142412 1.15073565 5.05688246]: Output: -1.034155597766912\n",
      "10: Input_to_Funct: [1.7519966  1.21244375 4.98239444]: Output: -1.0363819368259126\n",
      "11: Input_to_Funct: [1.72429468 1.2813638  4.91144698]: Output: -1.0567543313837175\n",
      "12: Input_to_Funct: [1.69746288 1.3556285  4.84971081]: Output: -1.0690682904582516\n",
      "13: Input_to_Funct: [1.6691881  1.43348439 4.8110462 ]: Output: -1.0766266072024941\n",
      "14: Input_to_Funct: [1.64008104 1.5105443  4.79682971]: Output: -1.0892652255343158\n",
      "15: Input_to_Funct: [1.60959395 1.58405702 4.80111027]: Output: -1.0915374893555525\n",
      "16: Input_to_Funct: [1.57981252 1.64981455 4.81891077]: Output: -1.1000355222421552\n",
      "17: Input_to_Funct: [1.5521212  1.70327062 4.84689081]: Output: -1.0875368230540696\n",
      "18: Input_to_Funct: [1.52680445 1.74206389 4.87888262]: Output: -1.0870149289927404\n",
      "19: Input_to_Funct: [1.50238849 1.76486177 4.91114759]: Output: -1.0799123456567181\n",
      "20: Input_to_Funct: [1.48081188 1.77393929 4.94065395]: Output: -1.0769785758616601\n",
      "21: Input_to_Funct: [1.46041249 1.77135573 4.96042689]: Output: -1.0861136737941186\n",
      "22: Input_to_Funct: [1.44144995 1.75782858 4.97023319]: Output: -1.0709117781984698\n",
      "23: Input_to_Funct: [1.42686445 1.73926321 4.97051427]: Output: -1.0785682763186757\n",
      "24: Input_to_Funct: [1.41672059 1.71683803 4.96271298]: Output: -1.0713745546246873\n",
      "25: Input_to_Funct: [1.41253183 1.69200265 4.94692505]: Output: -1.0925618655736995\n",
      "26: Input_to_Funct: [1.41488627 1.666242   4.92667836]: Output: -1.0861608200139834\n",
      "27: Input_to_Funct: [1.42437753 1.64064532 4.9037384 ]: Output: -1.0953708614128186\n",
      "28: Input_to_Funct: [1.4399965  1.61567962 4.88370671]: Output: -1.085744648355043\n",
      "29: Input_to_Funct: [1.46166588 1.59246557 4.86932774]: Output: -1.0938547432135721\n",
      "30: Input_to_Funct: [1.48699483 1.57329333 4.86102778]: Output: -1.1049620641290079\n",
      "31: Input_to_Funct: [1.51613978 1.55731809 4.85715523]: Output: -1.0930793654499087\n",
      "32: Input_to_Funct: [1.54789078 1.54660328 4.86006635]: Output: -1.1006455272170843\n",
      "33: Input_to_Funct: [1.57903839 1.53840902 4.86760173]: Output: -1.096937480403064\n",
      "34: Input_to_Funct: [1.60789955 1.53431157 4.87711419]: Output: -1.1015514248946057\n",
      "35: Input_to_Funct: [1.63477573 1.53126981 4.88799911]: Output: -1.1046936099287918\n",
      "36: Input_to_Funct: [1.65578732 1.52783601 4.89831333]: Output: -1.099217397685657\n",
      "37: Input_to_Funct: [1.67126069 1.52594632 4.90551704]: Output: -1.0923273996604455\n",
      "38: Input_to_Funct: [1.68026295 1.52441913 4.90817245]: Output: -1.103066548037797\n",
      "39: Input_to_Funct: [1.68270093 1.52231479 4.90900716]: Output: -1.0901628783476072\n",
      "40: Input_to_Funct: [1.67938633 1.52049904 4.90459411]: Output: -1.091989062789702\n",
      "41: Input_to_Funct: [1.6699723  1.51951414 4.89815714]: Output: -1.0893963169273937\n",
      "42: Input_to_Funct: [1.65662409 1.51863545 4.8915669 ]: Output: -1.0970813519835667\n",
      "43: Input_to_Funct: [1.63875654 1.51966441 4.88514724]: Output: -1.1013927137209074\n",
      "44: Input_to_Funct: [1.6187092 1.523316  4.8811105]: Output: -1.09920321640107\n",
      "45: Input_to_Funct: [1.5969656  1.52747453 4.87916577]: Output: -1.0955458633583006\n",
      "46: Input_to_Funct: [1.57834186 1.5337256  4.8799002 ]: Output: -1.0990295281720082\n",
      "47: Input_to_Funct: [1.56227077 1.5418006  4.88233783]: Output: -1.0922065977136917\n",
      "48: Input_to_Funct: [1.54698425 1.54909009 4.8853391 ]: Output: -1.1025922863402948\n",
      "49: Input_to_Funct: [1.53533193 1.55790289 4.88921147]: Output: -1.097192587951502\n",
      "Warning: Maximum number of iterations has been exceeded.\n",
      "Maximum number of iterations has been exceeded.\n"
     ]
    },
    {
     "data": {
      "image/png": "[encoded data removed]",
      "text/plain": [
       "<Figure size 432x288 with 1 Axes>"
      ]
     },
     "metadata": {
      "needs_background": "light"
     },
     "output_type": "display_data"
    }
   ],
   "source": [
    "custom_optimizer_DICT = {'learning_rate': 0.1, 'beta_1': 0.9, 'beta_2': 0.999, 'epsilon': 1e-8,\n",
    "                           'delta': 1e-8, 'maxfev': 15000}\n",
    "\n",
    "GG = Optimizer(VQE_experiment_ENERGY,\n",
    "                   theta_combined_random_input,\n",
    "                   args=(),\n",
    "                   method=_minimize_Adam,\n",
    "                   jac=calc_gradient_ADAM,\n",
    "                   hess=None,\n",
    "                   hessp=None,\n",
    "                      bounds=None,\n",
    "                   constraints=None,\n",
    "                   tol=1e-20, \n",
    "                   display_convergence_message=True,\n",
    "                   display_steps=True, \n",
    "                   custom_optimizer_DICT=custom_optimizer_DICT)\n",
    "GG.get_env(50)\n",
    "GG.plot_convergence()\n",
    "plt.show()"
   ]
  },
  {
   "cell_type": "code",
   "execution_count": null,
   "metadata": {},
   "outputs": [],
   "source": []
  },
  {
   "cell_type": "code",
   "execution_count": null,
   "metadata": {},
   "outputs": [],
   "source": []
  },
  {
   "cell_type": "code",
   "execution_count": null,
   "metadata": {},
   "outputs": [],
   "source": []
  }
 ],
 "metadata": {
  "kernelspec": {
   "display_name": "Python 3",
   "language": "python",
   "name": "python3"
  },
  "language_info": {
   "codemirror_mode": {
    "name": "ipython",
    "version": 3
   },
   "file_extension": ".py",
   "mimetype": "text/x-python",
   "name": "python",
   "nbconvert_exporter": "python",
   "pygments_lexer": "ipython3",
   "version": "3.7.6"
  }
 },
 "nbformat": 4,
 "nbformat_minor": 4
}
