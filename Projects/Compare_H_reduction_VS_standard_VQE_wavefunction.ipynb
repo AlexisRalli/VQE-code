{
 "cells": [
  {
   "cell_type": "code",
   "execution_count": 1,
   "metadata": {},
   "outputs": [
    {
     "data": {
      "text/plain": [
       "(-0.09706626861762624+0j) [] +\n",
       "(-0.04530261550868928+0j) [X0 X1 Y2 Y3] +\n",
       "(0.04530261550868928+0j) [X0 Y1 Y2 X3] +\n",
       "(0.04530261550868928+0j) [Y0 X1 X2 Y3] +\n",
       "(-0.04530261550868928+0j) [Y0 Y1 X2 X3] +\n",
       "(0.17141282639402405+0j) [Z0] +\n",
       "(0.1686889816869329+0j) [Z0 Z1] +\n",
       "(0.12062523481381837+0j) [Z0 Z2] +\n",
       "(0.16592785032250768+0j) [Z0 Z3] +\n",
       "(0.171412826394024+0j) [Z1] +\n",
       "(0.16592785032250768+0j) [Z1 Z2] +\n",
       "(0.12062523481381837+0j) [Z1 Z3] +\n",
       "(-0.2234315367466397+0j) [Z2] +\n",
       "(0.174412876106516+0j) [Z2 Z3] +\n",
       "(-0.2234315367466397+0j) [Z3]"
      ]
     },
     "execution_count": 1,
     "metadata": {},
     "output_type": "execute_result"
    }
   ],
   "source": [
    "from quchem.Hamiltonian_Generator_Functions import *\n",
    "from quchem.Graph import *\n",
    "### HAMILTONIAN start\n",
    "Molecule = 'H2'#'LiH'\n",
    "geometry = [('H', (0., 0., 0.)), ('H', (0., 0., 0.74))]#[('Li', (0., 0., 0.)), ('H', (0., 0., 1.45))]\n",
    "num_shots = 10000\n",
    "basis = 'sto-3g'\n",
    "\n",
    "\n",
    "### Get Hamiltonian\n",
    "Hamilt = Hamiltonian(Molecule,\n",
    "                     run_scf=1, run_mp2=1, run_cisd=1, run_ccsd=1, run_fci=1,\n",
    "                     basis=basis,\n",
    "                     multiplicity=1,\n",
    "                     geometry=geometry)  # normally None!\n",
    "QubitHamiltonian = Hamilt.Get_Qubit_Hamiltonian(threshold=None, transformation='JW')\n",
    "### HAMILTONIAN end\n",
    "QubitHamiltonian"
   ]
  },
  {
   "cell_type": "code",
   "execution_count": 2,
   "metadata": {},
   "outputs": [
    {
     "name": "stderr",
     "output_type": "stream",
     "text": [
      "Building Graph Edges: 100%|##########| 15/15 [00:00<00:00, 1646.59it/s]\n"
     ]
    },
    {
     "data": {
      "text/plain": [
       "{0: [(0.1686889816869329+0j) [Z0 Z1]],\n",
       " 1: [(0.16592785032250768+0j) [Z1 Z2]],\n",
       " 2: [(0.16592785032250768+0j) [Z0 Z3]],\n",
       " 3: [(0.12062523481381837+0j) [Z0 Z2]],\n",
       " 4: [(0.174412876106516+0j) [Z2 Z3]],\n",
       " 5: [(0.12062523481381837+0j) [Z1 Z3]],\n",
       " 6: [(-0.09706626861762624+0j) []],\n",
       " 7: [(-0.04530261550868928+0j) [X0 X1 Y2 Y3], (-0.2234315367466397+0j) [Z3]],\n",
       " 8: [(0.04530261550868928+0j) [Y0 X1 X2 Y3], (0.17141282639402405+0j) [Z0]],\n",
       " 9: [(0.04530261550868928+0j) [X0 Y1 Y2 X3], (0.171412826394024+0j) [Z1]],\n",
       " 10: [(-0.2234315367466397+0j) [Z2], (-0.04530261550868928+0j) [Y0 Y1 X2 X3]]}"
      ]
     },
     "execution_count": 2,
     "metadata": {},
     "output_type": "execute_result"
    }
   ],
   "source": [
    "################## get sets for UP\n",
    "\n",
    "Hamiltonian_graph_obj = Openfermion_Hamiltonian_Graph(QubitHamiltonian)\n",
    "\n",
    "commutativity_flag = 'AC' ## <- defines relationship between sets!!!\n",
    "plot_graph = False\n",
    "Graph_colouring_strategy='largest_first'\n",
    "anti_commuting_sets = Hamiltonian_graph_obj.Get_Clique_Cover_as_QubitOp(commutativity_flag, Graph_colouring_strategy=Graph_colouring_strategy, plot_graph=plot_graph)\n",
    "anti_commuting_sets"
   ]
  },
  {
   "cell_type": "code",
   "execution_count": 3,
   "metadata": {},
   "outputs": [
    {
     "data": {
      "text/html": [
       "<pre style=\"overflow: auto; white-space: pre;\">0: ───X───Rx(0.5π)───@──────────────────────────────@───Rx(-0.5π)───\n",
       "                     │                              │\n",
       "1: ───X───H──────────X───@──────────────────────@───X───H───────────\n",
       "                         │                      │\n",
       "2: ───H──────────────────X───@──────────────@───X───H───────────────\n",
       "                             │              │\n",
       "3: ───H──────────────────────X───Rz(2.0π)───X───H───────────────────</pre>"
      ],
      "text/plain": [
       "0: ───X───Rx(0.5π)───@──────────────────────────────@───Rx(-0.5π)───\n",
       "                     │                              │\n",
       "1: ───X───H──────────X───@──────────────────────@───X───H───────────\n",
       "                         │                      │\n",
       "2: ───H──────────────────X───@──────────────@───X───H───────────────\n",
       "                             │              │\n",
       "3: ───H──────────────────────X───Rz(2.0π)───X───H───────────────────"
      ]
     },
     "execution_count": 3,
     "metadata": {},
     "output_type": "execute_result"
    }
   ],
   "source": [
    "######### Ansatz circuit\n",
    "\n",
    "from quchem.Simulating_Quantum_Circuit import *\n",
    "from quchem.Ansatz_Generator_Functions import *\n",
    "from openfermion.ops import QubitOperator\n",
    "\n",
    "def H2_ansatz(theta):\n",
    "    HF_circ = [cirq.X.on(cirq.LineQubit(0)), cirq.X.on(cirq.LineQubit(1))]\n",
    "    \n",
    "    full_exp_circ_obj = full_exponentiated_PauliWord_circuit(QubitOperator('Y0 X1 X2 X3', -1j), theta)\n",
    "    UCCSD_circ = cirq.Circuit(cirq.decompose_once((full_exp_circ_obj(*cirq.LineQubit.range(full_exp_circ_obj.num_qubits())))))\n",
    "    full_circuit = cirq.Circuit([*HF_circ, *UCCSD_circ.all_operations()])\n",
    "    \n",
    "    return full_circuit\n",
    "    \n",
    "H2_ansatz(np.pi)  "
   ]
  },
  {
   "cell_type": "code",
   "execution_count": 4,
   "metadata": {},
   "outputs": [],
   "source": [
    "from quchem.LCU_method import *\n",
    "from quchem.Unitary_partitioning import * \n",
    "from quchem.quantum_circuit_functions import *"
   ]
  },
  {
   "cell_type": "code",
   "execution_count": 17,
   "metadata": {},
   "outputs": [],
   "source": [
    "def Get_pauli_matrix(PauliOp, N_system_qubits):\n",
    "    \n",
    "    pauliDict=   {'X':np.array([[0,1],[1,0]]),\n",
    "                          'Y':np.array([[0,-1j],[1j,0]]),\n",
    "                          'Z':np.array([[1,0],[0,-1]]),\n",
    "                          'I': np.eye(2)}\n",
    "    \n",
    "    list_Q_nos, list_P_strs = list(zip(*[Paulistrs for Paulistrs, const in PauliOp.terms.items()][0]))\n",
    "\n",
    "    list_of_ops = []\n",
    "    for i in range(N_system_qubits):\n",
    "        if i in list_Q_nos:\n",
    "            index = list_Q_nos.index(i)\n",
    "            list_of_ops.append(pauliDict[list_P_strs[index]])\n",
    "        else:\n",
    "            list_of_ops.append(pauliDict['I'])\n",
    "\n",
    "    matrix = reduce(kron, list_of_ops)\n",
    "\n",
    "    return matrix"
   ]
  },
  {
   "cell_type": "code",
   "execution_count": 97,
   "metadata": {},
   "outputs": [
    {
     "data": {
      "text/plain": [
       "-0.22343153674663976"
      ]
     },
     "execution_count": 97,
     "metadata": {},
     "output_type": "execute_result"
    }
   ],
   "source": [
    "def Calc_Pauli_expect_of_set_LCU(theta, Pn_index, anti_commuting_set):\n",
    "    \n",
    "    R_uncorrected, Pn, gamma_l = Get_R_op_list(anti_commuting_set, Pn_index)\n",
    "    R_corrected_Op_list, R_corr_list, ancilla_amplitudes, l1_norm = absorb_complex_phases(R_uncorrected)\n",
    "    \n",
    "    ansatz_circuit = H2_ansatz(theta)\n",
    "        \n",
    "    LCU_Q_circuit = Full_Ansatz_and_Quantum_R_circuit(Pn,\n",
    "                                   R_corrected_Op_list,\n",
    "                                   R_corr_list,\n",
    "                                   ancilla_amplitudes,\n",
    "                                   Hamilt.molecule.n_qubits,\n",
    "                                   ansatz_circuit)\n",
    "    \n",
    "    \n",
    "    input_state = [np.array([[1], [0]]) for _ in range(len(LCU_Q_circuit.all_qubits()))]\n",
    "    input_ket = reduce(kron, input_state)\n",
    "    circuit_matrix = LCU_Q_circuit.unitary()\n",
    "\n",
    "    ansatz_state_ket = circuit_matrix.dot(input_ket.todense())\n",
    "\n",
    "    full_density_matrix = np.outer(ansatz_state_ket, ansatz_state_ket)\n",
    "\n",
    "\n",
    "    ## First project state onto all zero ancilla state using POVM\n",
    "    n_qubits = len(LCU_Q_circuit.all_qubits())\n",
    "    n_ancilla = int(np.ceil(np.log2(len(ancilla_amplitudes))))\n",
    "    N_system_qubits = n_qubits - n_ancilla\n",
    "\n",
    "    I_system_operator = np.eye((2**N_system_qubits))\n",
    "\n",
    "    ancilla_0_state_list = [np.array([[1], [0]]) for _ in range(n_ancilla)]\n",
    "    ancilla_0_state = reduce(np.kron, ancilla_0_state_list)\n",
    "    ancilla_0_projector = np.outer(ancilla_0_state, ancilla_0_state)\n",
    "\n",
    "    POVM_0_ancilla = np.kron(I_system_operator, ancilla_0_projector)\n",
    "    Kraus_Op_0 = POVM_0_ancilla.copy()\n",
    "\n",
    "    term = Kraus_Op_0.dot(full_density_matrix.dot(Kraus_Op_0.transpose().conj()))\n",
    "    projected_density_matrix = term/np.trace(term) # projected into correct space using POVM ancilla measurement!\n",
    "\n",
    "    ## Next get partial density matrix over system qubits # aka partial trace!\n",
    "    # https://scicomp.stackexchange.com/questions/27496/calculating-partial-trace-of-array-in-numpy\n",
    "\n",
    "    # reshape to do the partial trace easily using np.einsum\n",
    "    reshaped_dm = projected_density_matrix.reshape([2 ** N_system_qubits, 2 ** n_ancilla,\n",
    "                                                    2 ** N_system_qubits, 2 ** n_ancilla])\n",
    "    reduced_dm = np.einsum('jiki->jk', reshaped_dm)\n",
    "    \n",
    "    \n",
    "    H_sub_term_matrix = Get_pauli_matrix(Pn, N_system_qubits)\n",
    "    \n",
    "    energy = np.trace(reduced_dm.dot(H_sub_term_matrix.todense()))\n",
    "    \n",
    "    return (energy * gamma_l).real\n",
    "\n",
    "\n",
    "Pn_index=0\n",
    "set_index=10\n",
    "theta=np.pi\n",
    "Calc_Pauli_expect_of_set_LCU(theta, Pn_index, anti_commuting_sets[set_index])"
   ]
  },
  {
   "cell_type": "code",
   "execution_count": 38,
   "metadata": {},
   "outputs": [
    {
     "data": {
      "text/plain": [
       "(-0.22343153674663985+0j)"
      ]
     },
     "execution_count": 38,
     "metadata": {},
     "output_type": "execute_result"
    }
   ],
   "source": [
    "def Calc_Pauli_expect_of_set_CONJ(theta, PS_index, anti_commuting_set):\n",
    "    \n",
    "    normalised_set = Get_beta_j_cofactors(anti_commuting_set)\n",
    "    X_sk_dict = Get_X_sk_operators(normalised_set, S=PS_index)\n",
    "    \n",
    "    ansatz_circuit = H2_ansatz(theta)\n",
    "    \n",
    "\n",
    "    CONJ_Q_circuit = Generate_Full_Q_Circuit_unitary_part_NO_M_gates(ansatz_circuit,\n",
    "                                                    X_sk_dict)\n",
    "    \n",
    "    input_state = [np.array([[1], [0]]) for _ in range(len(CONJ_Q_circuit.all_qubits()))]\n",
    "    input_ket = reduce(kron, input_state)\n",
    "    circuit_matrix = CONJ_Q_circuit.unitary()\n",
    "\n",
    "    ansatz_state_ket = circuit_matrix.dot(input_ket.todense())\n",
    "    \n",
    "    ansatz_state_bra = ansatz_state_ket.transpose().conj()\n",
    "    H_sub_term_matrix = Get_pauli_matrix(X_sk_dict['PauliWord_S'], len(CONJ_Q_circuit.all_qubits()))\n",
    "    \n",
    "    energy = ansatz_state_bra.dot(H_sub_term_matrix.dot(ansatz_state_ket))\n",
    "    \n",
    "    \n",
    "    return (energy.item(0) * X_sk_dict['gamma_l'])\n",
    "\n",
    "\n",
    "PS_index=0\n",
    "set_index=10\n",
    "theta=np.pi\n",
    "Calc_Pauli_expect_of_set_CONJ(theta, PS_index, anti_commuting_sets[set_index])"
   ]
  },
  {
   "cell_type": "code",
   "execution_count": 84,
   "metadata": {},
   "outputs": [
    {
     "data": {
      "text/plain": [
       "(-0.09706626861762624+0j)"
      ]
     },
     "execution_count": 84,
     "metadata": {},
     "output_type": "execute_result"
    }
   ],
   "source": [
    "def Calc_Pauli_expect_of_set_standard(theta, PauliWord):\n",
    "    \n",
    "    if list(PauliWord.terms.keys())[0] ==():\n",
    "        factor = list(PauliWord.terms.values())[0]\n",
    "        return factor\n",
    "    else:\n",
    "        ansatz_circuit = H2_ansatz(theta)\n",
    "\n",
    "        input_state = [np.array([[1], [0]]) for _ in range(len(ansatz_circuit.all_qubits()))]\n",
    "        input_ket = reduce(kron, input_state)\n",
    "        circuit_matrix = ansatz_circuit.unitary()\n",
    "\n",
    "        ansatz_state_ket = circuit_matrix.dot(input_ket.todense())\n",
    "        ansatz_state_bra = ansatz_state_ket.transpose().conj()\n",
    "\n",
    "        H_sub_term_matrix = Get_pauli_matrix(PauliWord, len(ansatz_circuit.all_qubits()))\n",
    "\n",
    "        exp = ansatz_state_bra.dot(H_sub_term_matrix.dot(ansatz_state_ket))\n",
    "        factor = list(PauliWord.terms.values())[0]\n",
    "\n",
    "        energy = (exp.item(0) * factor)\n",
    "\n",
    "        return energy\n",
    "\n",
    "Calc_Pauli_expect_of_set_standard(np.pi, anti_commuting_sets[6][0])"
   ]
  },
  {
   "cell_type": "code",
   "execution_count": 95,
   "metadata": {},
   "outputs": [],
   "source": [
    "Pn_index=0\n",
    "PS_index=0\n",
    "theta=np.pi\n",
    "\n",
    "LCU_all_vals=[]\n",
    "Conj_all_vals=[]\n",
    "Standard_all_vals=[]\n",
    "\n",
    "for anti_commuting_set in anti_commuting_sets.values():\n",
    "    if len(anti_commuting_set)>1:\n",
    "        \n",
    "        LCU_E = Calc_Pi_expect_of_set_LCU(theta, Pn_index, anti_commuting_set)\n",
    "        Conj_E = Calc_Pi_expect_of_set_LCU(theta, PS_index, anti_commuting_set)\n",
    "        \n",
    "        E_standard_list=[]\n",
    "        for PauliOp in anti_commuting_set:\n",
    "            E_standard_list.append(Calc_Pauli_expect_of_set_standard(theta, PauliOp))\n",
    "        \n",
    "        standard_E=sum(E_standard_list)\n",
    "        LCU_all_vals.append(LCU_E)\n",
    "        Conj_all_vals.append(Conj_E)\n",
    "        Standard_all_vals.append(standard_E)\n",
    "        \n",
    "    else:\n",
    "        \n",
    "        energy = Calc_Pauli_expect_of_set_standard(theta, anti_commuting_set[0])\n",
    "        \n",
    "        LCU_all_vals.append(energy)\n",
    "        Conj_all_vals.append(energy)\n",
    "        Standard_all_vals.append(energy)\n",
    "    "
   ]
  },
  {
   "cell_type": "code",
   "execution_count": 96,
   "metadata": {},
   "outputs": [
    {
     "name": "stdout",
     "output_type": "stream",
     "text": [
      "(-1.1167593073781574+0j)\n",
      "(-1.1167593073781572+0j)\n",
      "(-1.1167593073781572+0j)\n"
     ]
    }
   ],
   "source": [
    "print(sum(Standard_all_vals))\n",
    "print(sum(LCU_all_vals))\n",
    "print(sum(Conj_all_vals))"
   ]
  }
 ],
 "metadata": {
  "kernelspec": {
   "display_name": "Python 3",
   "language": "python",
   "name": "python3"
  },
  "language_info": {
   "codemirror_mode": {
    "name": "ipython",
    "version": 3
   },
   "file_extension": ".py",
   "mimetype": "text/x-python",
   "name": "python",
   "nbconvert_exporter": "python",
   "pygments_lexer": "ipython3",
   "version": "3.7.6"
  }
 },
 "nbformat": 4,
 "nbformat_minor": 4
}
