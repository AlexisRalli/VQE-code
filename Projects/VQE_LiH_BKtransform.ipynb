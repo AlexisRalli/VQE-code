{
 "cells": [
  {
   "cell_type": "code",
   "execution_count": 1,
   "metadata": {},
   "outputs": [],
   "source": [
    "from quchem.Hamiltonian_Generator_Functions import *\n",
    "from quchem.Graph import *\n",
    "### HAMILTONIAN start\n",
    "Molecule = 'LiH'\n",
    "geometry = None # [('H', (0., 0., 0.)), ('H', (0., 0., 0.74))]\n",
    "basis = 'sto-6g'\n",
    "\n",
    "\n",
    "### Get Hamiltonian\n",
    "Hamilt = Hamiltonian(Molecule,\n",
    "                     run_scf=1, run_mp2=1, run_cisd=1, run_ccsd=1, run_fci=1,\n",
    "                     basis=basis,\n",
    "                     multiplicity=1,\n",
    "                     geometry=geometry)  # normally None!\n",
    "QubitHamiltonian = Hamilt.Get_Qubit_Hamiltonian(threshold=None, transformation='BK')\n",
    "### HAMILTONIAN end\n",
    "\n",
    "#####################################\n"
   ]
  },
  {
   "cell_type": "code",
   "execution_count": 2,
   "metadata": {},
   "outputs": [
    {
     "data": {
      "text/plain": [
       "[-1.0 [2^ 3^ 4 5] +\n",
       " 1.0 [5^ 4^ 3 2],\n",
       " -1.0 [2^ 3^ 4 7] +\n",
       " 1.0 [7^ 4^ 3 2],\n",
       " -1.0 [2^ 3^ 4 9] +\n",
       " 1.0 [9^ 4^ 3 2],\n",
       " -1.0 [2^ 3^ 6 7] +\n",
       " 1.0 [7^ 6^ 3 2],\n",
       " -1.0 [2^ 3^ 6 9] +\n",
       " 1.0 [9^ 6^ 3 2],\n",
       " -1.0 [2^ 3^ 8 9] +\n",
       " 1.0 [9^ 8^ 3 2]]"
      ]
     },
     "execution_count": 2,
     "metadata": {},
     "output_type": "execute_result"
    }
   ],
   "source": [
    "from quchem.Ansatz_Generator_Functions import *\n",
    "\n",
    "##\n",
    "NOON_spins_combined, NMO_basis = Hamilt.Get_NOON()\n",
    "##\n",
    "Hamilt.Get_CCSD_Amplitudes()\n",
    "\n",
    "\n",
    "\n",
    "ansatz_obj = Ansatz(Hamilt.molecule.n_electrons, Hamilt.molecule.n_qubits)\n",
    "reduced_Sec_Quant_CC_ops_ia, reduced_Sec_Quant_CC_ops_ijab, reduced_theta_parameters_ia, reduced_theta_parameters_ijab =ansatz_obj.Remove_NOON_terms(\n",
    "    NOON=NOON_spins_combined,\n",
    "    occ_threshold= 1.999,\n",
    "    unocc_threshold=1e-4,\n",
    "    indices_to_remove_list_manual=None, \n",
    "    single_cc_amplitudes=Hamilt.molecule.single_cc_amplitudes,\n",
    "    double_cc_amplitudes=Hamilt.molecule.double_cc_amplitudes,\n",
    "    singles_hamiltonian=Hamilt.singles_hamiltonian,\n",
    "    doubles_hamiltonian=Hamilt.doubles_hamiltonian,\n",
    "    tol_filter_small_terms=None)\n",
    "reduced_Sec_Quant_CC_ops_ijab"
   ]
  },
  {
   "cell_type": "code",
   "execution_count": 6,
   "metadata": {},
   "outputs": [
    {
     "data": {
      "text/plain": [
       "array([1.99991509e+00, 1.96744892e+00, 2.71958861e-02, 2.68032899e-03,\n",
       "       2.68032899e-03, 7.94453898e-05])"
      ]
     },
     "execution_count": 6,
     "metadata": {},
     "output_type": "execute_result"
    }
   ],
   "source": [
    "NOON_spins_combined"
   ]
  },
  {
   "cell_type": "code",
   "execution_count": 5,
   "metadata": {},
   "outputs": [
    {
     "name": "stdout",
     "output_type": "stream",
     "text": [
      "REDUCTION\n",
      "ia_terms 16 TO 6\n",
      "ijab_terms 42 TO 6\n"
     ]
    },
    {
     "data": {
      "text/plain": [
       "[-1.0 [2^ 3^ 4 5] +\n",
       " 1.0 [5^ 4^ 3 2],\n",
       " -1.0 [2^ 3^ 4 7] +\n",
       " 1.0 [7^ 4^ 3 2],\n",
       " -1.0 [2^ 3^ 4 9] +\n",
       " 1.0 [9^ 4^ 3 2],\n",
       " -1.0 [2^ 3^ 6 7] +\n",
       " 1.0 [7^ 6^ 3 2],\n",
       " -1.0 [2^ 3^ 6 9] +\n",
       " 1.0 [9^ 6^ 3 2],\n",
       " -1.0 [2^ 3^ 8 9] +\n",
       " 1.0 [9^ 8^ 3 2]]"
      ]
     },
     "execution_count": 5,
     "metadata": {},
     "output_type": "execute_result"
    }
   ],
   "source": [
    "ia_terms, ijab_terms, ia_theta, ijab_theta = ansatz_obj.Get_ia_and_ijab_terms()\n",
    "\n",
    "print('REDUCTION')\n",
    "print('ia_terms', len(ia_terms), 'TO', len(reduced_Sec_Quant_CC_ops_ia))\n",
    "print('ijab_terms', len(ijab_terms), 'TO', len(reduced_Sec_Quant_CC_ops_ijab))\n",
    "reduced_Sec_Quant_CC_ops_ijab"
   ]
  },
  {
   "cell_type": "code",
   "execution_count": null,
   "metadata": {},
   "outputs": [],
   "source": []
  },
  {
   "cell_type": "code",
   "execution_count": 4,
   "metadata": {},
   "outputs": [],
   "source": [
    "# note transform set to 'BK'\n",
    "Qubit_Op_list_Second_Quant_CC_Ops_ia, Qubit_Op_list_Second_Quant_CC_Ops_ijab = ansatz_obj.UCCSD_single_trotter_step(reduced_Sec_Quant_CC_ops_ia, \n",
    "                                                                                                                reduced_Sec_Quant_CC_ops_ijab,\n",
    "                                                                                                                   transformation='BK')"
   ]
  },
  {
   "cell_type": "markdown",
   "metadata": {},
   "source": [
    "LOOK at:\n",
    "\n",
    "PHYS. REV. X, **8**, 031022 (2018)"
   ]
  },
  {
   "cell_type": "code",
   "execution_count": null,
   "metadata": {},
   "outputs": [],
   "source": [
    "new_BK = BK_Qubit_Reordering(\n",
    "                QubitHamiltonian,\n",
    "                 Qubit_Op_list_Second_Quant_CC_Ops_ia,\n",
    "                 Qubit_Op_list_Second_Quant_CC_Ops_ijab,\n",
    "                 Hamilt.molecule.n_qubits,\n",
    "                ansatz_obj.Get_BK_HF_state_in_OCC_basis(),\n",
    "                Hamilt.molecule.n_electrons)\n",
    "\n",
    "REDUCED_Qubit_MolecularHamiltonian = new_BK.Get_Reordered_Hamiltonian_2_qubits_removed()\n",
    "REDUCED_Qubit_MolecularHamiltonian"
   ]
  },
  {
   "cell_type": "code",
   "execution_count": null,
   "metadata": {},
   "outputs": [],
   "source": [
    "Hamiltonian_graph_obj = Openfermion_Hamiltonian_Graph(REDUCED_Qubit_MolecularHamiltonian)\n",
    "\n",
    "commutativity_flag = 'AC' ## <- defines relationship between sets!!!\n",
    "plot_graph = False\n",
    "Graph_colouring_strategy='largest_first'\n",
    "anti_commuting_sets = Hamiltonian_graph_obj.Get_Clique_Cover_as_QubitOp(commutativity_flag, Graph_colouring_strategy=Graph_colouring_strategy, plot_graph=plot_graph)\n",
    "anti_commuting_sets"
   ]
  },
  {
   "cell_type": "code",
   "execution_count": null,
   "metadata": {},
   "outputs": [],
   "source": [
    "Qubit_Op_list_Second_Quant_CC_Ops_ijab"
   ]
  },
  {
   "cell_type": "code",
   "execution_count": null,
   "metadata": {},
   "outputs": [],
   "source": [
    "new_BK.Get_Reordered_CC_qubit_terms_2_qubits_removed()"
   ]
  },
  {
   "cell_type": "code",
   "execution_count": null,
   "metadata": {},
   "outputs": [],
   "source": []
  },
  {
   "cell_type": "code",
   "execution_count": null,
   "metadata": {},
   "outputs": [],
   "source": []
  },
  {
   "cell_type": "code",
   "execution_count": null,
   "metadata": {},
   "outputs": [],
   "source": []
  },
  {
   "cell_type": "code",
   "execution_count": null,
   "metadata": {},
   "outputs": [],
   "source": []
  },
  {
   "cell_type": "code",
   "execution_count": null,
   "metadata": {},
   "outputs": [],
   "source": [
    "from quchem.Simulating_Quantum_Circuit import *"
   ]
  },
  {
   "cell_type": "code",
   "execution_count": null,
   "metadata": {},
   "outputs": [],
   "source": [
    "n_shots= 1000\n",
    "\n",
    "\n",
    "def VQE_experiment_ENERGY(theta_ia_ijab_combined_list):\n",
    "    theta_params_ia = [theta_ia_ijab_combined_list[0], theta_ia_ijab_combined_list[1]]\n",
    "    theta_params_ijab = [theta_ia_ijab_combined_list[2]]\n",
    "    \n",
    "    \n",
    "    ansatz_cirq_circuit = full_ansatz_Q_Circ.Get_Full_HF_UCCSD_QC(theta_params_ia, \n",
    "                                                              theta_params_ijab)\n",
    "    \n",
    "\n",
    "    VQE_exp = VQE_Experiment(QubitHamiltonian, ansatz_cirq_circuit, n_shots)\n",
    "    return VQE_exp.Calc_Energy().real"
   ]
  },
  {
   "cell_type": "code",
   "execution_count": null,
   "metadata": {},
   "outputs": [],
   "source": [
    "theta_combined = [1,2, np.pi]\n",
    "\n",
    "VQE_experiment_ENERGY(theta_combined)"
   ]
  },
  {
   "cell_type": "code",
   "execution_count": null,
   "metadata": {},
   "outputs": [],
   "source": []
  },
  {
   "cell_type": "code",
   "execution_count": null,
   "metadata": {},
   "outputs": [],
   "source": [
    "import random\n",
    "\n",
    "theta_ia_random_input = [random.uniform(0, 2*np.pi) for _ in range(len(Sec_Quant_CC_ops_ia))]\n",
    "theta_ijab_random_input = [random.uniform(0, 2*np.pi) for _ in range(len(Sec_Quant_CC_ops_ijab))]\n",
    "\n",
    "theta_combined_random_input = [*theta_ia_random_input, *theta_ijab_random_input]"
   ]
  },
  {
   "cell_type": "code",
   "execution_count": null,
   "metadata": {},
   "outputs": [],
   "source": [
    "### optimizer\n",
    "from quchem.Scipy_Optimizer import *\n",
    "\n",
    "GG = Optimizer(VQE_experiment_ENERGY, theta_combined_random_input, 'Nelder-Mead', store_values=True, display_iter_steps=True,\n",
    "               tol=1e-5,\n",
    "               display_convergence_message=True)\n",
    "GG.get_env(50)\n",
    "GG.plot_convergence()\n",
    "plt.show()"
   ]
  },
  {
   "cell_type": "code",
   "execution_count": null,
   "metadata": {},
   "outputs": [],
   "source": []
  },
  {
   "cell_type": "code",
   "execution_count": null,
   "metadata": {},
   "outputs": [],
   "source": [
    "Hamilt.molecule.fci_energy"
   ]
  },
  {
   "cell_type": "code",
   "execution_count": null,
   "metadata": {},
   "outputs": [],
   "source": []
  },
  {
   "cell_type": "code",
   "execution_count": null,
   "metadata": {},
   "outputs": [],
   "source": [
    "from quchem.TensorFlow_Opt import *"
   ]
  },
  {
   "cell_type": "markdown",
   "metadata": {},
   "source": [
    "**gradient is given by**\n",
    "\n",
    "https://arxiv.org/pdf/1906.08728.pdf\n",
    "\n",
    "$$\\frac{\\partial O(\\theta)}{\\partial \\theta}=\\left\\langle\\overrightarrow{0}\\left|\\hat{U}^{\\dagger} \\hat{R}_{y}^{C \\dagger}(\\theta+\\pi / 4) \\hat{V}^{\\dagger} \\hat{O} \\hat{V} \\hat{R}_{y}^{C}(\\theta+\\pi / 4) \\hat{U}\\right| \\overrightarrow{0}\\right\\rangle -\\left\\langle\\overrightarrow{0}\\left|\\hat{U}^{\\dagger} \\hat{R}_{y}^{C \\dagger}(\\theta-\\pi / 4) \\hat{V}^{\\dagger} \\hat{O} \\hat{V} \\hat{R}_{y}^{C}(\\theta-\\pi / 4) \\hat{U}\\right| \\overrightarrow{0}\\right\\rangle$$\n",
    "\n",
    "$$\\frac{\\partial O(\\theta)}{\\partial \\theta} =O(\\theta+\\pi / 4)-O(\\theta-\\pi / 4)$$"
   ]
  },
  {
   "cell_type": "code",
   "execution_count": null,
   "metadata": {},
   "outputs": [],
   "source": [
    "def calc_gradient(theta_ia_theta_jab_list):\n",
    "    \n",
    "    grad_list=[]\n",
    "    \n",
    "    for index, theta in enumerate(theta_ia_theta_jab_list):\n",
    "        \n",
    "        new_theta_list = theta_ia_theta_jab_list.copy()\n",
    "        new_theta_list[index] = theta + np.pi/4\n",
    "        \n",
    "        Obs_PLUS = VQE_experiment_ENERGY(new_theta_list)\n",
    "               \n",
    "        \n",
    "        new_theta_list[index] = theta - np.pi/4\n",
    "        Obs_MINUS = VQE_experiment_ENERGY(new_theta_list)\n",
    "        \n",
    "        gradient = Obs_PLUS - Obs_MINUS\n",
    "        \n",
    "        grad_list.append((gradient, theta))\n",
    "        \n",
    "\n",
    "    return grad_list"
   ]
  },
  {
   "cell_type": "markdown",
   "metadata": {},
   "source": [
    "note:\n",
    "this is very SLOW as it has to run a separate experiment TWICE for each parameter before taking a step!"
   ]
  },
  {
   "cell_type": "code",
   "execution_count": null,
   "metadata": {},
   "outputs": [],
   "source": []
  },
  {
   "cell_type": "code",
   "execution_count": null,
   "metadata": {},
   "outputs": [],
   "source": [
    "X0 = [random.uniform(0, 2*np.pi) for _ in range(len(Sec_Quant_CC_ops_ia) + len(Sec_Quant_CC_ops_ijab))]\n",
    "\n",
    "tf_opt = Tensor_Flow_Optimizer(VQE_experiment_ENERGY, X0, 'Adam', calc_gradient, learning_rate=0.1, beta1=0.9,\n",
    "                            beta2=0.999, store_values=True, display_iter_steps=True)\n",
    "tf_opt.optimize(50)\n",
    "tf_opt.plot_convergence()"
   ]
  },
  {
   "cell_type": "code",
   "execution_count": null,
   "metadata": {},
   "outputs": [],
   "source": []
  },
  {
   "cell_type": "code",
   "execution_count": null,
   "metadata": {},
   "outputs": [],
   "source": [
    "from quchem.Adam_Optimizer import *"
   ]
  },
  {
   "cell_type": "code",
   "execution_count": null,
   "metadata": {},
   "outputs": [],
   "source": [
    "def calc_gradient_ADAM(theta_ia_theta_jab_list):\n",
    "    \n",
    "    grad_list=[]\n",
    "    \n",
    "    for index, theta in enumerate(theta_ia_theta_jab_list):\n",
    "        \n",
    "        new_theta_list = theta_ia_theta_jab_list.copy()\n",
    "        new_theta_list[index] = theta + np.pi/4\n",
    "        \n",
    "        Obs_PLUS = VQE_experiment_ENERGY(new_theta_list)\n",
    "               \n",
    "        \n",
    "        new_theta_list[index] = theta - np.pi/4\n",
    "        Obs_MINUS = VQE_experiment_ENERGY(new_theta_list)\n",
    "        \n",
    "        gradient = Obs_PLUS - Obs_MINUS\n",
    "        \n",
    "        grad_list.append(gradient)\n",
    "        \n",
    "\n",
    "    return np.array(grad_list)"
   ]
  },
  {
   "cell_type": "code",
   "execution_count": null,
   "metadata": {},
   "outputs": [],
   "source": [
    "X0 = np.array([random.uniform(0, 2*np.pi) for _ in range(len(Sec_Quant_CC_ops_ia) + len(Sec_Quant_CC_ops_ijab))])\n",
    "\n",
    "opt_params, list_of_inputs, list_of_outputs = Adam_Opt(X0, VQE_experiment_ENERGY,\n",
    "                                                       calc_gradient_ADAM, \n",
    "                                                       learning_rate=0.1, \n",
    "                                                       beta_1=0.9, \n",
    "                                                       beta_2=0.999, \n",
    "                                                       epsilon=1e-8,\n",
    "                                                       max_iter=50,\n",
    "                                                       disp=True,\n",
    "                                                       tolerance=1e-3,\n",
    "                                                       store_steps=True)\n",
    "\n",
    "VQE_experiment_ENERGY(opt_params)"
   ]
  },
  {
   "cell_type": "code",
   "execution_count": null,
   "metadata": {},
   "outputs": [],
   "source": [
    "import matplotlib.pyplot as plt\n",
    "# % matplotlib inline\n",
    "plt.figure()\n",
    "plt.plot(list_of_outputs)\n",
    "plt.xlabel('iterations')\n",
    "plt.ylabel('objective function value')\n",
    "plt.show()"
   ]
  },
  {
   "cell_type": "code",
   "execution_count": null,
   "metadata": {},
   "outputs": [],
   "source": []
  },
  {
   "cell_type": "code",
   "execution_count": null,
   "metadata": {},
   "outputs": [],
   "source": []
  },
  {
   "cell_type": "code",
   "execution_count": null,
   "metadata": {},
   "outputs": [],
   "source": []
  },
  {
   "cell_type": "code",
   "execution_count": null,
   "metadata": {},
   "outputs": [],
   "source": []
  }
 ],
 "metadata": {
  "kernelspec": {
   "display_name": "Python 3",
   "language": "python",
   "name": "python3"
  },
  "language_info": {
   "codemirror_mode": {
    "name": "ipython",
    "version": 3
   },
   "file_extension": ".py",
   "mimetype": "text/x-python",
   "name": "python",
   "nbconvert_exporter": "python",
   "pygments_lexer": "ipython3",
   "version": "3.7.6"
  }
 },
 "nbformat": 4,
 "nbformat_minor": 4
}
