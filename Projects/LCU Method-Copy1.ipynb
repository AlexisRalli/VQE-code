{
 "cells": [
  {
   "cell_type": "markdown",
   "metadata": {},
   "source": [
    "## Get Qubit Hamiltonian"
   ]
  },
  {
   "cell_type": "code",
   "execution_count": 2,
   "metadata": {},
   "outputs": [
    {
     "name": "stderr",
     "output_type": "stream",
     "text": [
      "Building Graph Edges: 100%|##########| 15/15 [00:00<00:00, 16362.69it/s]\n"
     ]
    },
    {
     "data": {
      "text/plain": [
       "{0: [('I0 I1 I2 I3', (-0.32760818995565577+0j))],\n",
       " 1: [('Z0 Z1 I2 I3', (0.15660062486143395+0j))],\n",
       " 2: [('Z0 I1 Z2 I3', (0.10622904488350779+0j))],\n",
       " 3: [('Z0 I1 I2 Z3', (0.15542669076236065+0j))],\n",
       " 4: [('I0 Z1 Z2 I3', (0.15542669076236065+0j))],\n",
       " 5: [('I0 Z1 I2 Z3', (0.10622904488350779+0j))],\n",
       " 6: [('I0 I1 Z2 Z3', (0.1632676867167479+0j))],\n",
       " 7: [('Z0 I1 I2 I3', (0.1371657293179602+0j)),\n",
       "  ('Y0 X1 X2 Y3', (0.04919764587885283+0j))],\n",
       " 8: [('I0 Z1 I2 I3', (0.1371657293179602+0j)),\n",
       "  ('Y0 Y1 X2 X3', (-0.04919764587885283+0j))],\n",
       " 9: [('I0 I1 Z2 I3', (-0.13036292044009176+0j)),\n",
       "  ('X0 X1 Y2 Y3', (-0.04919764587885283+0j))],\n",
       " 10: [('I0 I1 I2 Z3', (-0.13036292044009176+0j)),\n",
       "  ('X0 Y1 Y2 X3', (0.04919764587885283+0j))]}"
      ]
     },
     "execution_count": 2,
     "metadata": {},
     "output_type": "execute_result"
    }
   ],
   "source": [
    "from quchem.Hamiltonian_Generator_Functions import *\n",
    "\n",
    "### Parameters\n",
    "Molecule = 'H2'#LiH'\n",
    "geometry = None\n",
    "num_shots = 10000\n",
    "basis = 'sto-3g'\n",
    "\n",
    "\n",
    "### Get Hamiltonian\n",
    "Hamilt = Hamiltonian(Molecule,\n",
    "                     run_scf=1, run_mp2=1, run_cisd=1, run_ccsd=1, run_fci=1,\n",
    "                     basis=basis,\n",
    "                     multiplicity=1,\n",
    "                     geometry=geometry)  # normally None!\n",
    "\n",
    "Hamilt.Get_Molecular_Hamiltonian()\n",
    "SQ_CC_ops, THETA_params = Hamilt.Get_ia_and_ijab_terms(Coupled_cluser_param=True)\n",
    "#print('UCC operations: ', SQ_CC_ops)\n",
    "\n",
    "HF_transformations = Hamiltonian_Transforms(Hamilt.MolecularHamiltonian, SQ_CC_ops, Hamilt.molecule.n_qubits)\n",
    "\n",
    "QubitHam = HF_transformations.Get_Qubit_Hamiltonian_JW(threshold=None) # threshold=1e-12\n",
    "#print('Qubit Hamiltonian: ', QubitHam)\n",
    "QubitHam_PauliStr = HF_transformations.Convert_QubitMolecularHamiltonian_To_Pauliword_Str_list(QubitHam, Hamilt.molecule.n_qubits)\n",
    "\n",
    "### Graph Colouring\n",
    "from quchem.Graph import *\n",
    "List_PauliWords, HamiltonainCofactors = zip(*QubitHam_PauliStr)\n",
    "attribute_dictionary = {'Cofactors': HamiltonainCofactors}\n",
    "List_of_nodes, node_attributes_dict = Get_list_of_nodes_and_attributes(List_PauliWords,\n",
    "                                                                       attribute_dictionary=attribute_dictionary)\n",
    "G = Hamiltonian_Graph(List_PauliWords, attribute_dictionary=attribute_dictionary)\n",
    "anti_commuting_sets = G.Get_Pauli_grouping('AC', Graph_colouring_strategy='largest_first', plot_graph=False)\n",
    "\n",
    "anti_commuting_set_stripped = Get_PauliWord_constant_tuples(anti_commuting_sets, dict_str_label='Cofactors')\n",
    "anti_commuting_set_stripped\n"
   ]
  },
  {
   "cell_type": "markdown",
   "metadata": {},
   "source": [
    "## Get Ansatz"
   ]
  },
  {
   "cell_type": "code",
   "execution_count": null,
   "metadata": {},
   "outputs": [],
   "source": [
    "from quchem.Ansatz_Generator_Functions import *\n",
    "\n",
    "UCCSD_JW = UCCSD_Trotter_JW(SQ_CC_ops, THETA_params)\n",
    "Second_Quant_CC_JW_OP_list = UCCSD_JW.SingleTrotterStep()\n",
    "\n",
    "PauliWord_list = Convert_QubitOperator_To_Pauliword_Str_list(Second_Quant_CC_JW_OP_list, Hamilt.molecule.n_qubits)\n",
    "HF_UCCSD_ansatz = Ansatz_Circuit(PauliWord_list, Hamilt.molecule.n_electrons, Hamilt.molecule.n_qubits)\n",
    "\n",
    "\n",
    "ansatz_Q_cicuit = HF_UCCSD_ansatz.Get_Full_HF_UCCSD_QC(THETA_params)\n",
    "\n",
    "\n",
    "\n",
    "### alt form\n",
    "\n",
    "from quchem.quantum_circuit_functions import *\n",
    "from quchem.Ansatz_Generator_Functions import HF_state_generator\n",
    "HF_state_obj = HF_state_generator(Hamilt.molecule.n_electrons, Hamilt.molecule.n_qubits)\n",
    "HF_state = HF_state_obj.Get_JW_HF_state_in_occ_basis()\n",
    "\n",
    "def NEW_Anastz(theta):\n",
    "\n",
    "    initial_state = State_Prep(HF_state)\n",
    "    HF_circuit = cirq.Circuit(\n",
    "        cirq.decompose_once((initial_state(*cirq.LineQubit.range(initial_state.num_qubits())))))\n",
    "\n",
    "    Pauli = ('Y0 X1 X2 X3',  -1j)\n",
    "    circuit_obj = full_exponentiated_PauliWord_circuit(Pauli, theta)\n",
    "    circuit_exp = cirq.Circuit(\n",
    "        cirq.decompose_once((circuit_obj(*cirq.LineQubit.range(circuit_obj.num_qubits())))))\n",
    "\n",
    "    full_Circuit = cirq.Circuit(\n",
    "       [\n",
    "           HF_circuit.all_operations(),\n",
    "           *circuit_exp.all_operations(),\n",
    "       ]\n",
    "    )\n",
    "\n",
    "    return full_Circuit\n",
    "\n",
    "\n",
    "ansatz_Q_cicuit = NEW_Anastz(np.pi)\n"
   ]
  },
  {
   "cell_type": "markdown",
   "metadata": {},
   "source": [
    "## Looking at LCU method"
   ]
  },
  {
   "cell_type": "code",
   "execution_count": null,
   "metadata": {},
   "outputs": [],
   "source": [
    "from quchem.LCU_method import *\n",
    "\n",
    "test_set = anti_commuting_set_stripped[7]\n",
    "S_index=0"
   ]
  },
  {
   "cell_type": "markdown",
   "metadata": {},
   "source": [
    "S = set\n",
    "$$ S =\\sum_{k=0}^{n-1} \\beta_{j} P_{j}$$\n",
    "where all terms anti-commute: $ \\{P_{j}P_{i},P_{i}P_{j}\\}=0$\n",
    "\n",
    "choosing a PauliWord in set: $ P_{n}$ and REMOVE IT\n",
    "\n",
    "$$ S_{n-1} =\\sum_{k=1}^{n-1} \\beta_{j} P_{j}$$\n",
    "\n",
    "note sum index starting from 1 now!\n",
    "\n",
    "Next need amplitudes to sum to one... therefore have:\n",
    "\n",
    "$$ S'_{n-1} = \\gamma_{l} \\sum_{k=1}^{n-1} \\beta_{k} P_{k}$$\n",
    "\n",
    "where:\n",
    "- $ \\beta_{j} = \\gamma_{l} \\times \\beta_{k}$ \n",
    "- $ \\sum_{k=1}^{n-1} \\beta_{k}^{2} = 1$\n",
    "\n",
    "NOW we define $H_{n-1}$:\n",
    "\n",
    "$$ H_{n-1} =  \\frac{S'_{n-1}}{\\gamma_{l}} =  \\sum_{k=1}^{n-1} \\beta_{k} P_{k}$$\n",
    "\n"
   ]
  },
  {
   "cell_type": "markdown",
   "metadata": {},
   "source": [
    "$$\\chi =i H_{n-1} P_{n} =i \\big( \\sum_{k=1}^{n-1} \\beta_{k} P_{k} \\big) P_{n} = i \\sum_{k=1}^{n-1} \\beta_{k} P_{kn}$$\n"
   ]
  },
  {
   "cell_type": "markdown",
   "metadata": {},
   "source": [
    "$$R=e^{\\big(-i \\frac{\\alpha}{2} \\mathcal{X} \\big)}$$\n",
    "\n",
    "$$R=\\cos \\big( \\frac{\\alpha}{2} \\big) \\mathbf{1}-i \\sin \\big(\\frac{\\alpha}{2}\\big) \\mathcal{X})$$\n",
    "\n",
    "\n",
    "$$R H_{n} R^{\\dagger}= \\sin \\left(\\phi_{n-1}-\\alpha \\right) H_{n-1}+\\cos \\left(\\phi_{n-1}-\\alpha \\right) P_{n}$$\n",
    "\n",
    "$$R H_{n} R^{\\dagger}= \\sin \\left(\\phi_{n-1}-\\alpha \\right) \\frac{S'_{n-1}}{\\gamma_{l}} +\\cos \\left(\\phi_{n-1}-\\alpha \\right) P_{n}$$\n",
    "\n",
    "THEN choosing: $\\alpha = \\phi_{n-1}$ gives: $R H_{n} R^{\\dagger}=P_{n}$\n",
    "\n",
    "To find alpha it is simply:\n",
    "$$\\alpha = cos^{-1}(\\beta_{n})$$\n"
   ]
  },
  {
   "cell_type": "markdown",
   "metadata": {},
   "source": [
    "NOTE it seems that **$\\gamma_{l}$** term isn't important as whole term goes to ZERO"
   ]
  },
  {
   "cell_type": "markdown",
   "metadata": {},
   "source": [
    "## shorter circuit"
   ]
  },
  {
   "cell_type": "markdown",
   "metadata": {},
   "source": [
    "\n",
    "$$R H_{n} R^{\\dagger}= \\sin \\left(\\phi_{n-1}-\\alpha \\right) \\frac{S'_{n-1}}{\\gamma_{l}} +\\cos \\left(\\phi_{n-1}-\\alpha \\right) P_{n}$$\n",
    "\n",
    "choosing: $\\alpha = \\phi_{n-1}$ gives:"
   ]
  },
  {
   "cell_type": "markdown",
   "metadata": {},
   "source": [
    "$$R H_{n} R^{\\dagger}=  P_{n}$$\n",
    "\n",
    "$$R H_{n} =  P_{n} R$$"
   ]
  },
  {
   "cell_type": "markdown",
   "metadata": {},
   "source": [
    "note:\n",
    "- $R=\\cos \\big( \\frac{\\alpha}{2} \\big) \\mathbf{1}-i \\sin \\big(\\frac{\\alpha}{2}\\big) \\mathcal{X})$\n",
    "- $H_{n}=\\sin \\phi_{n-1} H_{n-1}+\\cos \\phi_{n-1} P_{n}$\n",
    "    - where $ H_{n-1} =  \\frac{S'_{n-1}}{\\gamma_{l}} =  \\sum_{k=1}^{n-1} \\beta_{k} P_{k}$"
   ]
  },
  {
   "cell_type": "markdown",
   "metadata": {},
   "source": [
    "### iteratively find RH_n"
   ]
  },
  {
   "cell_type": "markdown",
   "metadata": {},
   "source": [
    "H_n is just a summation of pauli terms from 0 to S (S=size of anti_commuting set)\n",
    "\n",
    "$$H_{n}=\\sin \\phi_{n-1} H_{n-1}+\\cos \\phi_{n-1} P_{n} = \\sum_{q=0}^{S-1} \\beta_{q} P_{q}$$\n",
    "\n",
    "R is also just a summation of Pauli terms:\n",
    "\n",
    "$$R=\\cos \\big( \\frac{\\alpha}{2} \\big) \\mathbf{1}-i \\sin \\big(\\frac{\\alpha}{2}\\big) \\mathcal{X}) =  \\sum_{r=0}^{S-1} \\beta_{r} P_{r}$$\n",
    "\n",
    "\n",
    "so: \n",
    "\n",
    "$$R H_{n} = \\sum_{r=0}^{S-1} \\beta_{r} P_{r} * \\sum_{q=0}^{S-1} \\beta_{q} P_{q}$$\n",
    "\n",
    "$$R H_{n} = \\sum_{r=0}^{S-1} \\sum_{q=0}^{S-1} \\beta_{r}  \\beta_{q} P_{r} P_{q}$$\n",
    "\n",
    "^^ what we do in code\n",
    "\n",
    "$$R H_{n} = \\sum_{rq=0}^{S-1}\\beta_{rq} P_{rq}$$"
   ]
  },
  {
   "cell_type": "markdown",
   "metadata": {},
   "source": [
    "rather than iteratively doing... see analytical approach:"
   ]
  },
  {
   "cell_type": "markdown",
   "metadata": {},
   "source": [
    "### analytical approach to find RH_n"
   ]
  },
  {
   "cell_type": "markdown",
   "metadata": {},
   "source": [
    "$$R=\\cos \\big( \\frac{\\alpha}{2} \\big) \\mathbf{1}-i \\sin \\big(\\frac{\\alpha}{2}\\big) \\mathcal{X})$$\n",
    "\n",
    "$$R H_{n} =  P_{n} R$$\n",
    "\n",
    "$$R H_{n} = \\bigg( \\cos \\big( \\frac{\\alpha}{2} \\big) \\mathbf{1}-i \\sin \\big(\\frac{\\alpha}{2}\\big) \\mathcal{X}\\bigg) H_{n}$$\n",
    "\n",
    "$$R H_{n} = \\cos \\big( \\frac{\\alpha}{2} \\big) H_{n} -i \\sin \\big(\\frac{\\alpha}{2}\\big) \\mathcal{X}H_{n}$$\n",
    "\n",
    "as:\n",
    "- $\\mathcal{X} H_{n}=i\\left(-\\sin \\phi_{n-1} P_{n}+\\cos \\phi_{n-1} H_{n-1}\\right)$\n",
    "- $H_{n}=\\sin \\phi_{n-1} H_{n-1}+\\cos \\phi_{n-1} P_{n}$\n",
    "- AND **IMPORTANTLY**: $\\alpha = \\phi_{n-1}$ \n",
    "\n",
    "  $$R H_{n} = \\cos \\big( \\frac{\\alpha}{2} \\big) \\bigg(\\sin (\\alpha) H_{n-1}+\\cos (\\alpha) P_{n} \\bigg) -i \\sin \\big(\\frac{\\alpha}{2}\\big) \\bigg(i (-\\sin (\\alpha) P_{n}+\\cos (\\alpha) H_{n-1}) \\bigg)$$\n"
   ]
  },
  {
   "cell_type": "markdown",
   "metadata": {},
   "source": [
    "$$R H_{n} = \\cos \\big( \\frac{\\alpha}{2} \\big)\\sin (\\alpha) H_{n-1}+ \\cos \\big( \\frac{\\alpha}{2} \\big)\\cos (\\alpha) P_{n} - \\sin \\big(\\frac{\\alpha}{2}\\big)  \\sin (\\alpha) P_{n} + \\sin \\big(\\frac{\\alpha}{2}\\big)  \\cos (\\alpha) H_{n-1})$$"
   ]
  },
  {
   "cell_type": "markdown",
   "metadata": {},
   "source": [
    "$$R H_{n} = H_{n-1}\\bigg(\n",
    " \\cos \\big( \\frac{\\alpha}{2} \\big)\\sin (\\alpha)\n",
    " +\n",
    " sin \\big(\\frac{\\alpha}{2}\\big)  \\cos (\\alpha)\n",
    " \\bigg)\n",
    "+ P_{n}\\bigg(\n",
    "\\cos \\big( \\frac{\\alpha}{2} \\big)\\cos (\\alpha)\n",
    "-\n",
    "\\sin \\big(\\frac{\\alpha}{2}\\big)  \\sin (\\alpha)\n",
    "\\bigg)$$"
   ]
  },
  {
   "cell_type": "markdown",
   "metadata": {},
   "source": [
    "Using the following identities:\n",
    "\n",
    "- $ \\cos \\big( \\frac{\\alpha}{2} \\big)\\sin (\\alpha)+sin \\big(\\frac{\\alpha}{2}\\big)  \\cos (\\alpha) = \\sin \\big( \\frac{3\\alpha}{2} \\big)$\n",
    "- $ \\cos \\big( \\frac{\\alpha}{2} \\big)\\cos (\\alpha)-\\sin \\big(\\frac{\\alpha}{2}\\big)  \\sin (\\alpha) = \\cos \\big( \\frac{3\\alpha}{2} \\big)$\n",
    "\n",
    "$$R H_{n} = \\sin \\big( \\frac{3\\alpha}{2} \\big) H_{n-1} + \\cos \\big( \\frac{3\\alpha}{2} \\big)P_{n}$$"
   ]
  },
  {
   "cell_type": "markdown",
   "metadata": {},
   "source": [
    "NOTE\n",
    "\n",
    "for $\\langle R H_{n} R^{\\dagger} \\rangle=  \\langle P_{n} \\rangle$ we are actually measuring:\n",
    "\n",
    "$$\\langle R H_{n} \\rangle =   \\langle P_{n} R \\rangle$$"
   ]
  },
  {
   "cell_type": "markdown",
   "metadata": {},
   "source": [
    "## $P_{n} R$ part -> What WE MEASURE!"
   ]
  },
  {
   "cell_type": "markdown",
   "metadata": {},
   "source": [
    "$$R H_{n} =  P_{n} R$$\n",
    "\n",
    "- where $R=\\cos \\big( \\frac{\\alpha}{2} \\big) \\mathbf{1}-i \\sin \\big(\\frac{\\alpha}{2}\\big) \\mathcal{X})$"
   ]
  },
  {
   "cell_type": "markdown",
   "metadata": {},
   "source": [
    "$$ P_{n} R =  P_{n} \\bigg( \\cos \\big( \\frac{\\alpha}{2} \\big) \\mathbf{1}-i \\sin \\big(\\frac{\\alpha}{2}\\big) \\mathcal{X} \\bigg)$$\n",
    "\n",
    "$$ P_{n} R =  \\cos \\big( \\frac{\\alpha}{2} \\big) P_{n} -i \\sin \\big(\\frac{\\alpha}{2}\\big) P_{n}\\mathcal{X} $$"
   ]
  },
  {
   "cell_type": "markdown",
   "metadata": {},
   "source": [
    "///////////////////////////////////////////////////////////\n",
    "\n",
    "we want to know what: $P_{n} \\mathcal{X} =??$\n",
    "\n",
    "start with definition of $\\mathcal{X}=\\frac{i}{2}\\left[H_{n-1}, P_{n}\\right]$\n",
    "\n",
    "$$\\mathcal{X}=\\frac{i}{2}\\left[H_{n-1}, P_{n}\\right] =\\frac{i}{2} \\big( H_{n-1} P_{n} - P_{n}  H_{n-1}\\big)$$\n",
    "\n",
    "$$ \\mathcal{X}=\\frac{i}{2} \\big( H_{n-1} P_{n}\\big) - \\frac{i}{2} \\big(P_{n}  H_{n-1}\\big)$$\n",
    "\n",
    "NOW multiply by $P_{n}$:\n",
    "\n",
    "$$  P_{n} \\mathcal{X}=\\frac{i}{2} \\big(P_{n} H_{n-1} P_{n}\\big) - \\frac{i}{2} \\big(P_{n} P_{n}  H_{n-1}\\big)$$\n",
    "\n",
    "- $P_{n} P_{n}=\\mathcal{I}$\n",
    "\n",
    "$$  P_{n} \\mathcal{X}=\\frac{i}{2} \\big(P_{n} H_{n-1} P_{n}\\big) - \\frac{i}{2} H_{n-1}$$\n",
    "\n",
    "- $\\left\\{H_{n-1}, P_{n}\\right\\}=0$\n",
    "    - $ H_{n-1} P_{n}= - P_{n} H_{n-1}$\n",
    "    \n",
    "$$  P_{n} \\mathcal{X}= - \\frac{i}{2} \\big(P_{n} P_{n} H_{n-1}\\big) - \\frac{i}{2} H_{n-1}$$\n",
    "\n",
    "$$  P_{n} \\mathcal{X}= - \\frac{i}{2} H_{n-1} - \\frac{i}{2} H_{n-1}$$\n",
    "\n",
    "$$  P_{n} \\mathcal{X}= -i H_{n-1}$$\n",
    "///////////////////////////////////////////////////////////"
   ]
  },
  {
   "cell_type": "markdown",
   "metadata": {},
   "source": [
    "$$ P_{n} R =  \\cos \\big( \\frac{\\alpha}{2} \\big) P_{n} -i \\sin \\big(\\frac{\\alpha}{2}\\big) \\big(-i H_{n-1}\\big)$$"
   ]
  },
  {
   "cell_type": "markdown",
   "metadata": {},
   "source": [
    "$$ P_{n} R =  \\cos \\big( \\frac{\\alpha}{2} \\big) P_{n} + \\sin \\big(\\frac{\\alpha}{2}\\big)H_{n-1}$$"
   ]
  },
  {
   "cell_type": "markdown",
   "metadata": {},
   "source": [
    "note:\n",
    "- $H_{n}=\\sin \\phi_{n-1} H_{n-1}+\\cos \\phi_{n-1} P_{n}$\n",
    "\n",
    "- $ H_{n-1} =  \\frac{S'_{n-1}}{\\gamma_{l}} =  \\sum_{k=1}^{n-1} \\beta_{k} P_{k}$\n",
    "\n",
    "$$ P_{n} R =  \\cos \\big( \\frac{\\alpha}{2} \\big) P_{n} + \\sin \\big(\\frac{\\alpha}{2}\\big)  \\frac{S'_{n-1}}{\\gamma_{l}}$$\n"
   ]
  },
  {
   "cell_type": "markdown",
   "metadata": {},
   "source": [
    "\n",
    "\n",
    "rembering that our anti-commuting set was:\n",
    "$$ S =\\sum_{k=0}^{n-1} \\beta_{j} P_{j}$$\n",
    "\n",
    "- and $ S_{n-1} =\\sum_{k=1}^{n-1} \\beta_{j} P_{j}$ is $S$ with $\\beta_{n} P_{n}$ REMOVED\n",
    "\n",
    "we have:\n",
    "\n",
    "$$ S = S_{n-1} + \\beta_{n} P_{n}$$\n",
    "\n",
    "hence:\n",
    "\n",
    "$$ P_{n} R =  \\cos \\big( \\frac{\\alpha}{2} \\big) P_{n} + \\sin \\big(\\frac{\\alpha}{2}\\big)  \\frac{S'_{n-1}}{\\gamma_{l}}$$\n",
    "\n",
    "as: $ S_{n-1} = \\frac{S'_{n-1}}{\\gamma_{l}}$\n",
    "\n",
    "$$ P_{n} R =  \\cos \\big( \\frac{\\alpha}{2} \\big) P_{n} + \\sin \\big(\\frac{\\alpha}{2}\\big)  S_{n-1}$$\n",
    "\n",
    "This looks very similar to: $ S = S_{n-1} + \\beta_{n} P_{n}$\n",
    "\n",
    "only with constants changed!!!"
   ]
  },
  {
   "cell_type": "markdown",
   "metadata": {},
   "source": [
    "Taking:\n",
    "\n",
    "$$ P_{n} R =  \\cos \\big( \\frac{\\alpha}{2} \\big) P_{n} + \\sin \\big(\\frac{\\alpha}{2}\\big)  S_{n-1}$$\n",
    "\n",
    "$$ S = \\beta_{n} P_{n} + S_{n-1}$$\n",
    "\n",
    "we want $\\langle S \\rangle$... but we are getting $\\langle P_{n} R \\rangle$\n",
    "\n",
    "(they are the same thing BUT with constants changed!)"
   ]
  },
  {
   "cell_type": "markdown",
   "metadata": {},
   "source": [
    "therefore have:\n",
    "\n",
    "$$ \\Omega \\big( \\beta_{n} P_{n} + S_{n-1} \\big) =  \\cos \\big( \\frac{\\alpha}{2} \\big) P_{n} + \\sin \\big(\\frac{\\alpha}{2}\\big)  S_{n-1}$$\n",
    "\n",
    "Only lookin at the $P_{n}$ term:\n",
    "\n",
    "$$ \\Omega \\beta_{n} P_{n} =  \\cos \\big( \\frac{\\alpha}{2} \\big) P_{n} $$\n",
    "\n",
    "$$ \\Omega \\beta_{n} =  \\cos \\big( \\frac{\\alpha}{2} \\big) $$\n",
    "\n",
    "$$ \\Omega  =  {\\cos \\big( \\frac{\\alpha}{2} \\big) \\over \\beta_{n}}$$"
   ]
  },
  {
   "cell_type": "markdown",
   "metadata": {},
   "source": [
    "Overall we have:\n",
    "\n",
    "$$\\langle S \\rangle = \\Omega \\langle P_{n} R \\rangle$$\n"
   ]
  },
  {
   "cell_type": "markdown",
   "metadata": {},
   "source": []
  },
  {
   "cell_type": "code",
   "execution_count": null,
   "metadata": {},
   "outputs": [],
   "source": []
  },
  {
   "cell_type": "code",
   "execution_count": null,
   "metadata": {},
   "outputs": [],
   "source": []
  },
  {
   "cell_type": "code",
   "execution_count": null,
   "metadata": {},
   "outputs": [],
   "source": []
  },
  {
   "cell_type": "code",
   "execution_count": null,
   "metadata": {},
   "outputs": [],
   "source": []
  },
  {
   "cell_type": "code",
   "execution_count": null,
   "metadata": {},
   "outputs": [],
   "source": []
  },
  {
   "cell_type": "markdown",
   "metadata": {},
   "source": [
    "for $\\langle R H_{n} R^{\\dagger} \\rangle=  \\langle P_{n} \\rangle$ we are actually measuring:\n",
    "\n",
    "$$\\langle R H_{n} \\rangle =   \\langle P_{n} R \\rangle$$"
   ]
  },
  {
   "cell_type": "code",
   "execution_count": null,
   "metadata": {},
   "outputs": [],
   "source": []
  },
  {
   "cell_type": "code",
   "execution_count": null,
   "metadata": {},
   "outputs": [],
   "source": []
  },
  {
   "cell_type": "code",
   "execution_count": null,
   "metadata": {},
   "outputs": [],
   "source": []
  },
  {
   "cell_type": "markdown",
   "metadata": {},
   "source": [
    "$$ P_{n} R =  \\cos \\big( \\frac{\\alpha}{2} \\big) P_{n} + \\sin \\big(\\frac{\\alpha}{2}\\big)  H_{n-1}$$"
   ]
  },
  {
   "cell_type": "markdown",
   "metadata": {},
   "source": [
    "S = set\n",
    "$$ S =\\sum_{k=0}^{n-1} \\beta_{j} P_{j}$$\n",
    "where all terms anti-commute: $ \\{P_{j}P_{i},P_{i}P_{j}\\}=0$\n",
    "\n",
    "choosing a PauliWord in set: $ P_{n}$ and REMOVE IT\n",
    "\n",
    "$$ S_{n-1} =\\sum_{k=1}^{n-1} \\beta_{k} P_{k}$$\n",
    "\n",
    "note sum index starting from 1 now!\n",
    "\n",
    "Next need amplitudes to sum to one... therefore have:\n",
    "\n",
    "$$ S'_{n-1} = \\gamma_{l} \\sum_{k=1}^{n-1} \\beta_{k} P_{k}$$\n",
    "\n",
    "where:\n",
    "- $ \\beta_{j} = \\gamma_{l} \\times \\beta_{k}$ \n",
    "- $ \\sum_{k=1}^{n-1} \\beta_{k}^{2} = 1$\n",
    "\n",
    "NOW we define $H_{n-1}$:\n",
    "\n",
    "$$ H_{n-1} =  \\frac{S'_{n-1}}{\\gamma_{l}} =  \\sum_{k=1}^{n-1} \\beta_{k} P_{k}$$\n"
   ]
  },
  {
   "cell_type": "code",
   "execution_count": null,
   "metadata": {},
   "outputs": [],
   "source": []
  },
  {
   "cell_type": "code",
   "execution_count": null,
   "metadata": {},
   "outputs": [],
   "source": []
  },
  {
   "cell_type": "code",
   "execution_count": null,
   "metadata": {},
   "outputs": [],
   "source": []
  },
  {
   "cell_type": "markdown",
   "metadata": {},
   "source": [
    "$$R=\\cos \\big( \\frac{\\alpha}{2} \\big) \\mathbf{1}-i \\sin \\big(\\frac{\\alpha}{2}\\big) \\mathcal{X})$$\n",
    "\n",
    "$$R H_{n} =  P_{n} R$$\n",
    "\n",
    "$$R H_{n} = \\bigg( \\cos \\big( \\frac{\\alpha}{2} \\big) \\mathbf{1}-i \\sin \\big(\\frac{\\alpha}{2}\\big) \\mathcal{X}\\bigg) H_{n}$$\n",
    "\n",
    "$$R H_{n} = \\cos \\big( \\frac{\\alpha}{2} \\big) H_{n} -i \\sin \\big(\\frac{\\alpha}{2}\\big) \\mathcal{X}H_{n}$$\n",
    "\n",
    "as:\n",
    "- $\\mathcal{X} H_{n}=i\\left(-\\sin \\phi_{n-1} P_{n}+\\cos \\phi_{n-1} H_{n-1}\\right)$\n",
    "- $H_{n}=\\sin \\phi_{n-1} H_{n-1}+\\cos \\phi_{n-1} P_{n}$\n",
    "- AND **IMPORTANTLY**: $\\alpha = \\phi_{n-1}$ \n",
    "\n",
    "  $$R H_{n} = \\cos \\big( \\frac{\\alpha}{2} \\big) \\bigg(\\sin (\\alpha) H_{n-1}+\\cos (\\alpha) P_{n} \\bigg) -i \\sin \\big(\\frac{\\alpha}{2}\\big) \\bigg(i (-\\sin (\\alpha) P_{n}+\\cos (\\alpha) H_{n-1}) \\bigg)$$\n"
   ]
  },
  {
   "cell_type": "markdown",
   "metadata": {},
   "source": [
    "$$R H_{n} R^{\\dagger}=  P_{n}$$\n",
    "\n",
    "$$R H_{n} =  P_{n} R$$"
   ]
  },
  {
   "cell_type": "markdown",
   "metadata": {},
   "source": []
  },
  {
   "cell_type": "code",
   "execution_count": null,
   "metadata": {},
   "outputs": [],
   "source": []
  },
  {
   "cell_type": "code",
   "execution_count": null,
   "metadata": {},
   "outputs": [],
   "source": []
  },
  {
   "cell_type": "code",
   "execution_count": null,
   "metadata": {},
   "outputs": [],
   "source": []
  },
  {
   "cell_type": "code",
   "execution_count": null,
   "metadata": {},
   "outputs": [],
   "source": []
  },
  {
   "cell_type": "code",
   "execution_count": null,
   "metadata": {},
   "outputs": [],
   "source": []
  },
  {
   "cell_type": "code",
   "execution_count": null,
   "metadata": {},
   "outputs": [],
   "source": []
  },
  {
   "cell_type": "code",
   "execution_count": null,
   "metadata": {},
   "outputs": [],
   "source": []
  },
  {
   "cell_type": "code",
   "execution_count": null,
   "metadata": {},
   "outputs": [],
   "source": []
  },
  {
   "cell_type": "code",
   "execution_count": null,
   "metadata": {},
   "outputs": [],
   "source": []
  },
  {
   "cell_type": "code",
   "execution_count": null,
   "metadata": {},
   "outputs": [],
   "source": []
  },
  {
   "cell_type": "code",
   "execution_count": null,
   "metadata": {},
   "outputs": [],
   "source": []
  },
  {
   "cell_type": "code",
   "execution_count": null,
   "metadata": {},
   "outputs": [],
   "source": [
    "# $$ \\cos \\big( \\frac{\\alpha}{2} \\big)\\sin (\\alpha)+sin \\big(\\frac{\\alpha}{2}\\big)  \\cos (\\alpha) = \\sin \\big( \\frac{3\\alpha}{2} \\big)$$\n",
    "\n",
    "\n",
    "# $$ \\cos \\big( \\frac{\\alpha}{2} \\big)\\cos (\\alpha)-\\sin \\big(\\frac{\\alpha}{2}\\big)  \\sin (\\alpha) = \\cos \\big( \\frac{\\alpha}{2} \\big)$$"
   ]
  },
  {
   "cell_type": "code",
   "execution_count": null,
   "metadata": {},
   "outputs": [],
   "source": []
  },
  {
   "cell_type": "code",
   "execution_count": null,
   "metadata": {},
   "outputs": [],
   "source": []
  },
  {
   "cell_type": "code",
   "execution_count": null,
   "metadata": {},
   "outputs": [],
   "source": []
  },
  {
   "cell_type": "code",
   "execution_count": null,
   "metadata": {},
   "outputs": [],
   "source": []
  },
  {
   "cell_type": "code",
   "execution_count": null,
   "metadata": {},
   "outputs": [],
   "source": []
  },
  {
   "cell_type": "code",
   "execution_count": null,
   "metadata": {},
   "outputs": [],
   "source": []
  },
  {
   "cell_type": "code",
   "execution_count": null,
   "metadata": {},
   "outputs": [],
   "source": []
  },
  {
   "cell_type": "code",
   "execution_count": null,
   "metadata": {},
   "outputs": [],
   "source": []
  },
  {
   "cell_type": "markdown",
   "metadata": {},
   "source": [
    "$R H_{n} R^{\\dagger}= \\gamma_{l} \\: \\sin \\left(\\phi_{n-1}-\\alpha \\gamma_{l}\\right) H_{n-1}+\\cos \\left(\\phi_{n-1}-\\alpha \\gamma_{l}\\right) P_{n}$\n",
    "\n",
    "THEN choosing: $\\alpha \\gamma_{l} = \\phi_{n-1}$ gives: $R H_{n} R^{\\dagger}=P_{n}$\n",
    "\n",
    "To find alpha it is simply:\n",
    "$$\\alpha \\gamma_{l} = cos^{-1}(\\beta_{s})$$\n",
    "\n",
    "$$\\alpha  = \\frac{cos^{-1}(\\beta_{s})}{\\gamma_{l}} $$\n"
   ]
  },
  {
   "cell_type": "code",
   "execution_count": null,
   "metadata": {},
   "outputs": [],
   "source": []
  },
  {
   "cell_type": "code",
   "execution_count": 9,
   "metadata": {},
   "outputs": [
    {
     "data": {
      "text/plain": [
       "{'gamma_l': (0.04919764587885283+0j),\n",
       " 'terms': [('X0 X1 X2 Y3', (1+0j))],\n",
       " 'P_s': ('Z0 I1 I2 I3', (0.1371657293179602+0j))}"
      ]
     },
     "execution_count": 9,
     "metadata": {},
     "output_type": "execute_result"
    }
   ],
   "source": [
    "chi= Get_X_SET(test_set, S_index)\n",
    "chi"
   ]
  },
  {
   "cell_type": "markdown",
   "metadata": {},
   "source": [
    "\n",
    "\n",
    "$$R=\\exp (-i \\frac{\\alpha}{2} \\mathcal{X})=\\exp \\bigg(-i \\frac{\\alpha}{2} \\big(i \\gamma_{l} \\sum_{k=1}^{n-1} \\beta_{k} P_{kn}\\big) \\bigg)$$\n",
    "\n",
    "$$R=\\exp \\bigg(-i \\frac{\\alpha}{2} \\big(\\gamma_{l} \\sum_{k=1}^{n-1} i \\beta_{k} P_{kn}\\big) \\bigg) =\\exp \\bigg(-i \\frac{\\alpha \\gamma_{l}}{2} \\sum_{k=1}^{n-1} i \\beta_{k} P_{kn} \\bigg)$$\n",
    "\n",
    "let: $V=\\sum_{k=1}^{n-1} i \\beta_{k} P_{kn}$\n",
    "\n",
    "$$R=\\exp \\bigg(-i \\frac{\\alpha \\gamma_{l}}{2} V \\bigg)$$\n",
    "\n",
    "$$R=\\cos \\big( \\frac{\\alpha \\gamma_{l}}{2} \\big) \\mathbf{1}-i \\sin \\big(\\frac{\\alpha \\gamma_{l}}{2}\\big) V)$$"
   ]
  },
  {
   "cell_type": "code",
   "execution_count": null,
   "metadata": {},
   "outputs": [],
   "source": []
  },
  {
   "cell_type": "markdown",
   "metadata": {},
   "source": [
    "This operator has the following action:\n",
    "\n",
    "with: $H_{n}=\\sin \\phi_{n-1} H_{n-1}+\\cos \\phi_{n-1} P_{n}$\n",
    "\n",
    "as : $ H_{n-1} = \\gamma_{l} \\sum_{k=1}^{n-1} \\beta_{k} P_{k}$\n",
    "\n",
    "$$H_{n}=\\sin(\\phi_{n-1}) \\: \\gamma_{l} \\sum_{k=1}^{n-1} \\beta_{k} P_{k} + \\cos \\phi_{n-1} P_{n}$$\n",
    "\n",
    "moving $\\gamma_{l}$ for clarity:\n",
    "\n",
    "$$H_{n}=\\gamma_{l} \\: \\sin(\\phi_{n-1})   \\sum_{k=1}^{n-1} \\beta_{k} P_{k} + \\cos \\phi_{n-1} P_{n}$$\n",
    "\n",
    "\n",
    "\n",
    "\n",
    "$R H_{n} R^{\\dagger}= \\gamma_{l} \\: \\sin \\left(\\phi_{n-1}-\\alpha \\gamma_{l}\\right) H_{n-1}+\\cos \\left(\\phi_{n-1}-\\alpha \\gamma_{l}\\right) P_{n}$\n",
    "\n",
    "THEN choosing: $\\alpha \\gamma_{l} = \\phi_{n-1}$ gives: $R H_{n} R^{\\dagger}=P_{n}$\n",
    "\n",
    "To find alpha it is simply:\n",
    "$$\\alpha \\gamma_{l} = cos^{-1}(\\beta_{s})$$\n",
    "\n",
    "$$\\alpha  = \\frac{cos^{-1}(\\beta_{s})}{\\gamma_{l}} $$\n",
    "\n"
   ]
  },
  {
   "cell_type": "code",
   "execution_count": null,
   "metadata": {},
   "outputs": [],
   "source": []
  },
  {
   "cell_type": "markdown",
   "metadata": {},
   "source": [
    "## Paper verison"
   ]
  },
  {
   "cell_type": "markdown",
   "metadata": {},
   "source": [
    "$\\begin{aligned} \\mathcal{X} H_{n} &=i H_{n-1} P_{n} H_{n} \\\\ &=i H_{n-1} P_{n}\\left(\\sin \\phi_{n-1} H_{n-1}+\\cos \\phi_{n-1} P_{n}\\right) \\\\ &=i\\left(\\sin \\phi_{n-1} H_{n-1} P_{n} H_{n-1}+\\cos \\phi_{n-1} H_{n-1} P_{n}^{2}\\right) \\end{aligned}$\n",
    "\n",
    "as $\\left\\{H_{n-1}, P_{n}\\right\\}=0$ and $P_{n}^{2}=1$\n",
    "\n",
    "$$\\mathcal{X} H_{n}=i\\left(-\\sin \\phi_{n-1} P_{n}+\\cos \\phi_{n-1} H_{n-1}\\right)$$\n",
    "\n",
    "therefore have:\n",
    "$\\left[\\mathcal{X}, H_{n}\\right]=2 i\\left(-\\sin \\phi_{n-1} P_{n}+\\cos \\phi_{n-1} H_{n-1}\\right)$"
   ]
  },
  {
   "cell_type": "markdown",
   "metadata": {},
   "source": [
    "$$\\begin{aligned} e^{-i(\\alpha / 2) A} B e^{i(\\alpha / 2) A} &=\\cos ^{2}(\\alpha / 2) B+\\sin ^{2}(\\alpha / 2) A B A \\\\ &+i \\sin (\\alpha / 2) \\cos (\\alpha / 2)[A, B] \\end{aligned}$$\n",
    "\n",
    "for\n",
    "- $A^{2}=\\mathbb{1}$\n",
    "- $e^{-i(\\alpha / 2) A}= \\cos (\\alpha / 2) \\mathbb{1}-i \\sin (\\alpha / 2) A)$\n",
    "\n",
    "as: $R=e^{-i(\\alpha / 2) \\mathcal{X}}$\n",
    "\n",
    "$$R H_{n} R^{\\dagger}=\\cos ^{2}(\\alpha / 2) H_{n}+\\sin ^{2}(\\alpha / 2) \\mathcal{X} H_{n} \\mathcal{X} +i \\sin (\\alpha / 2) \\cos (\\alpha / 2)\\left[\\mathcal{X}, H_{n}\\right]$$\n",
    "\n",
    "\n",
    "$$=\\left(\\cos ^{2} \\alpha / 2-\\sin ^{2} \\alpha / 2\\right) H_{n} +(i / 2) 2 \\sin (\\alpha / 2) \\cos (\\alpha / 2)\\left[\\mathcal{X}, H_{n}\\right]$$\n",
    "\n",
    "$$= \\cos \\alpha H_{n}-\\sin \\alpha\\left(-\\sin \\phi_{n-1} P_{n}+\\cos \\phi_{n-1} H_{n-1}\\right)$$\n",
    "\n",
    "$$=\\cos \\alpha\\left(\\cos \\phi_{n-1} P_{n}+\\sin \\phi_{n-1} H_{n-1}\\right)-\\sin \\alpha\\left(-\\sin \\phi_{n-1} P_{n}+\\cos \\phi_{n-1} H_{n-1}\\right)$$\n",
    "\n",
    "$$=\\left(\\cos \\alpha \\cos \\phi_{n-1}+\\sin \\alpha \\sin \\phi_{n-1}\\right) P_{n} +\\left(\\cos \\alpha \\sin \\phi_{n-1}-\\sin \\alpha \\cos \\phi_{n-1}\\right) H_{n-1}$$\n",
    "\n",
    "$$=\\cos \\left(\\phi_{n-1}-\\alpha\\right) P_{n} +\\sin \\left(\\phi_{n-1}-\\alpha\\right) H_{n-1}$$"
   ]
  },
  {
   "cell_type": "markdown",
   "metadata": {},
   "source": [
    "## using MY version"
   ]
  },
  {
   "cell_type": "markdown",
   "metadata": {},
   "source": [
    "$$\\chi =i H_{n-1} P_{n} =i \\big( \\gamma_{l} \\sum_{k=1}^{n-1} \\beta_{k} P_{k} \\big) P_{n} = i \\gamma_{l} \\sum_{k=1}^{n-1} \\beta_{k} P_{kn}$$"
   ]
  },
  {
   "cell_type": "markdown",
   "metadata": {},
   "source": [
    "$\\begin{aligned} \\mathcal{X} H_{n} &=i H_{n-1} P_{n} H_{n} \\\\ &=i H_{n-1} P_{n}\\left(\\sin \\phi_{n-1} H_{n-1}+\\cos \\phi_{n-1} P_{n}\\right) \\\\ &=i\\left(\\sin \\phi_{n-1} H_{n-1} P_{n} H_{n-1}+\\cos \\phi_{n-1} H_{n-1} P_{n}^{2}\\right) \\end{aligned}$\n",
    "\n",
    "as $\\left\\{H_{n-1}, P_{n}\\right\\}=0$ and $P_{n}^{2}=1$\n",
    "\n",
    "$$\\mathcal{X} H_{n}=i\\left(-\\sin \\phi_{n-1} P_{n}+\\cos \\phi_{n-1} H_{n-1}\\right)$$\n",
    "\n",
    "therefore have:\n",
    "$\\left[\\mathcal{X}, H_{n}\\right]=2 i\\left(-\\sin \\phi_{n-1} P_{n}+\\cos \\phi_{n-1} H_{n-1}\\right)$"
   ]
  },
  {
   "cell_type": "markdown",
   "metadata": {},
   "source": [
    "$\\mathcal{X} H_{n} =i H_{n-1} P_{n} H_{n}$\n",
    "\n",
    "$=i H_{n-1} P_{n}\\left(\\sin \\phi_{n-1} H_{n-1}+\\cos \\phi_{n-1} P_{n}\\right)$\n",
    "\n",
    "$=i\\left(\\sin \\phi_{n-1} H_{n-1} P_{n} H_{n-1}+\\cos \\phi_{n-1} H_{n-1} P_{n}^{2}\\right)$\n",
    "\n",
    "as $\\left\\{H_{n-1}, P_{n}\\right\\}=0$ and $P_{n}^{2}=1$\n",
    "\n",
    "$$\\mathcal{X} H_{n}=i\\left(-\\sin \\phi_{n-1} P_{n}+\\cos \\phi_{n-1} H_{n-1}\\right)$$\n",
    "\n",
    "therefore have:\n",
    "$\\left[\\mathcal{X}, H_{n}\\right]=2 i\\left(-\\sin \\phi_{n-1} P_{n}+\\cos \\phi_{n-1} H_{n-1}\\right)$"
   ]
  },
  {
   "cell_type": "markdown",
   "metadata": {},
   "source": [
    "$$\\begin{aligned} e^{-i(\\alpha / 2) A} B e^{i(\\alpha / 2) A} &=\\cos ^{2}(\\alpha / 2) B+\\sin ^{2}(\\alpha / 2) A B A \\\\ &+i \\sin (\\alpha / 2) \\cos (\\alpha / 2)[A, B] \\end{aligned}$$\n",
    "\n",
    "for\n",
    "- $A^{2}=\\mathbb{1}$\n",
    "- $e^{-i(\\alpha / 2) A}= \\cos (\\alpha / 2) \\mathbb{1}-i \\sin (\\alpha / 2) A)$\n",
    "\n",
    "let: $V=\\sum_{k=1}^{n-1} i \\beta_{k} P_{kn}$ ... (note in paper this is how $\\mathcal{X}$ is defined)\n",
    "\n",
    "where:\n",
    "- $V^{2}=\\mathbb{1}$\n",
    "- $e^{-i\\frac{\\alpha \\gamma_{l}}{2} V}= \\cos (\\frac{\\alpha \\gamma_{l}}{2}) \\mathbb{1}-i \\sin (\\frac{\\alpha \\gamma_{l}}{2}) V$\n",
    "\n",
    "$R= e^{\\big(-i\\frac{\\alpha \\gamma_{l}}{2} V \\big)}$  NEW!!!\n",
    "\n",
    "\n",
    "\n",
    "$$R H_{n} R^{\\dagger}=\\cos ^{2}(\\frac{\\alpha \\gamma_{l}}{2}) H_{n}+\\sin ^{2}(\\frac{\\alpha \\gamma_{l}}{2}) \\mathcal{X} H_{n} \\mathcal{X} +i \\sin (\\frac{\\alpha \\gamma_{l}}{2}) \\cos (\\frac{\\alpha \\gamma_{l}}{2})\\left[\\mathcal{X}, H_{n}\\right]$$\n",
    "\n",
    "\n",
    "$$=\\left(\\cos ^{2} \\frac{\\alpha \\gamma_{l}}{2}-\\sin ^{2} \\frac{\\alpha \\gamma_{l}}{2} \\right) H_{n} +(i / 2) 2 \\sin (\\frac{\\alpha \\gamma_{l}}{2}) \\cos (\\frac{\\alpha \\gamma_{l}}{2})\\left[\\mathcal{X}, H_{n}\\right]$$\n",
    "\n",
    "$$= \\cos \\alpha \\gamma H_{n}-\\sin \\alpha \\gamma \\left(-\\sin \\phi_{n-1} P_{n}+\\cos \\phi_{n-1} H_{n-1}\\right)$$\n",
    "\n",
    "$$=\\cos \\alpha \\gamma \\left(\\cos \\phi_{n-1} P_{n}+\\sin \\phi_{n-1} H_{n-1}\\right)-\\sin \\alpha \\gamma \\left(-\\sin \\phi_{n-1} P_{n}+\\cos \\phi_{n-1} H_{n-1}\\right)$$\n",
    "\n",
    "$$=\\left(\\cos \\alpha \\gamma \\cos \\phi_{n-1}+\\sin \\alpha \\gamma \\sin \\phi_{n-1}\\right) P_{n} +\\left(\\cos \\alpha \\gamma \\sin \\phi_{n-1}-\\sin \\alpha \\gamma \\cos \\phi_{n-1}\\right) H_{n-1}$$\n",
    "\n",
    "$$=\\cos \\left(\\phi_{n-1}-\\alpha \\gamma \\right) P_{n} +\\sin \\left(\\phi_{n-1}-\\alpha \\gamma \\right) H_{n-1}$$1"
   ]
  },
  {
   "cell_type": "code",
   "execution_count": null,
   "metadata": {},
   "outputs": [],
   "source": []
  },
  {
   "cell_type": "code",
   "execution_count": null,
   "metadata": {},
   "outputs": [],
   "source": []
  },
  {
   "cell_type": "markdown",
   "metadata": {},
   "source": [
    "$$R=\\exp (-i \\alpha \\mathcal{X} / 2)=\\cos (\\alpha / 2) \\mathbf{1}-i \\sin (\\alpha / 2) \\mathcal{X}$$\n",
    "\n",
    "note it has the following action:\n",
    "\n",
    "$R H_{n} R^{\\dagger}=\\sin \\left(\\phi_{n-1}-\\alpha\\right) H_{n-1}+\\cos \\left(\\phi_{n-1}-\\alpha\\right) P_{n}$\n",
    "\n",
    "with: $H_{n}=\\sin \\phi_{n-1} H_{n-1}+\\cos \\phi_{n-1} P_{n}$\n",
    "\n",
    "THEN choosing: $\\alpha = \\phi_{n-1}$ gives: $R H_{n} R^{\\dagger}=P_{n}$\n",
    "\n",
    "To find alpha it is simply:\n",
    "$$\\alpha = cos^{-1}(\\beta_{s})$$"
   ]
  },
  {
   "cell_type": "markdown",
   "metadata": {},
   "source": [
    "$H_{n-1}=\\sum_{k=1}^{n-1} \\beta_{k} P_{k}$"
   ]
  },
  {
   "cell_type": "code",
   "execution_count": null,
   "metadata": {},
   "outputs": [],
   "source": []
  },
  {
   "cell_type": "code",
   "execution_count": 5,
   "metadata": {},
   "outputs": [
    {
     "name": "stdout",
     "output_type": "stream",
     "text": [
      "{'Z0 I1 I2 I3': (0.9852118646969333+0j), 'Y0 X1 X2 Y3': (-0.17134054295580894+0j)} VS {'Z0 I1 I2 I3': (0.9852118646969333+0j), 'Y0 X1 X2 Y3': (-0.17134054295580903-0j)}\n"
     ]
    },
    {
     "data": {
      "text/plain": [
       "[('Z0 I1 I2 I3', (0.9852118646969333+0j)),\n",
       " ('Y0 X1 X2 Y3', (-0.17134054295580894+0j))]"
      ]
     },
     "execution_count": 5,
     "metadata": {},
     "output_type": "execute_result"
    }
   ],
   "source": [
    "Get_R_times_Hn_terms(LCU)"
   ]
  },
  {
   "cell_type": "code",
   "execution_count": null,
   "metadata": {},
   "outputs": [],
   "source": [
    "# # ### Join Circuits\n",
    "# # S_dict = {0: 0, 1: 0, 2: 0, 3: 0, 4: 0, 5: 0, 6: 0, 7: 1, 8: 1, 9: 1, 10: 1}\n",
    "# # w=ALCU_dict(ansatz_Q_cicuit, anti_commuting_set_stripped, S_dict, 4, 1)\n",
    "# # ####\n",
    "# #\n",
    "# # # simulate\n",
    "# # tt = ALCU_Simulation_Quantum_Circuit_Dict(w, 100, 1)\n",
    "# # tt.Get_expectation_value_via_parity()\n",
    "# # tt.Calc_energy_via_parity()\n",
    "# # tt.Energy\n",
    "# #pys\n",
    "# #\n",
    "# #\n",
    "# #\n",
    "# #\n",
    "# # S_dict = {0: 0, 1: 0, 2: 0, 3: 0, 4: 0, 5: 0, 6: 0, 7: 1, 8: 1, 9: 1, 10: 1}\n",
    "# # def Calc_E_UP(THETA_params):\n",
    "# #     ansatz_Q_cicuit = HF_UCCSD_ansatz.Get_Full_HF_UCCSD_QC(THETA_params)\n",
    "# #     w = ALCU_dict(ansatz_Q_cicuit, anti_commuting_set_stripped, S_dict, 4, 1)\n",
    "# #     tt = ALCU_Simulation_Quantum_Circuit_Dict_SHOTS(w, 1000, 1)\n",
    "# #     tt.Get_expectation_value_via_parity()\n",
    "# #     tt.Calc_energy_via_parity()\n",
    "# #     return tt.Energy.real\n",
    "# # from quchem.Scipy_Optimizer import *\n",
    "# # THETA_params = [1, 2, 3]\n",
    "# # GG = Optimizer(Calc_E_UP, THETA_params, 'Nelder-Mead', store_values=True, display_iter_steps=True,\n",
    "# #                tol=1e-5,\n",
    "# #                display_convergence_message=True)\n",
    "# # GG.get_env(50)\n",
    "# # GG.plot_convergence()\n",
    "# # plt.show()\n",
    "\n",
    "\n",
    "# ### Join Circuits\n",
    "\n",
    "# # S_dict = {0: 0, 1: 0, 2: 0, 3: 0, 4: 0, 5: 0, 6: 0, 7: 0, 8: 0, 9: 0, 10: 0}\n",
    "# # w =ALCU_dict(ansatz_Q_cicuit, anti_commuting_set_stripped,QubitHam_PauliStr, S_dict, Hamilt.molecule.n_qubits,\n",
    "# #                       number_ancilla_qubits)\n",
    "# # ####\n",
    "# #\n",
    "# # # simulate\n",
    "# # tt = ALCU_Simulation_Quantum_Circuit_DictRAW(w, 100, 1)\n",
    "# # tt.Get_expectation_value_via_parity()\n",
    "# # tt.Calc_energy_via_parity()\n",
    "# # tt.Energy\n",
    "# #\n",
    "# #\n",
    "# #\n",
    "# #\n",
    "# #\n",
    "# S_dict = {0: 0, 1: 0, 2: 0, 3: 0, 4: 0, 5: 0, 6: 0, 7: 0, 8: 0, 9: 0, 10: 0}\n",
    "# def Calc_E_UP(THETA_params):\n",
    "#     ansatz_Q_cicuit = HF_UCCSD_ansatz.Get_Full_HF_UCCSD_QC(THETA_params)\n",
    "#     w = ALCU_dict(ansatz_Q_cicuit, anti_commuting_set_stripped, S_dict, Hamilt.molecule.n_qubits)\n",
    "#     tt = ALCU_Simulation_Quantum_Circuit_DictRAW(w, 50_000)\n",
    "#     tt.Get_expectation_value_via_parity()\n",
    "#     tt.Calc_energy_via_parity()\n",
    "#     return tt.Energy.real\n",
    "# from quchem.Scipy_Optimizer import *\n",
    "\n",
    "# import random\n",
    "# THETA_params = [random.uniform(0,2*np.pi) for _ in range(len(THETA_params))]\n",
    "\n",
    "\n",
    "# # THETA_params = [1, 2, 3]\n",
    "# # THETA_params = [0.23333333, 3.13333333, 3.05]\n",
    "# GG = Optimizer(Calc_E_UP, THETA_params, 'Nelder-Mead', store_values=True, display_iter_steps=True,\n",
    "#                tol=1e-5,\n",
    "#                display_convergence_message=True)\n",
    "# GG.get_env(50)\n",
    "# GG.plot_convergence()\n",
    "# plt.show()\n",
    "\n",
    "\n",
    "\n",
    "\n",
    "\n",
    "\n",
    "# ansatz_Q_cicuit = NEW_Anastz(np.pi)\n",
    "\n",
    "# S_dict = {0: 0, 1: 0, 2: 0, 3: 0, 4: 0, 5: 0, 6: 0, 7: 0, 8: 0, 9: 0, 10: 0}\n",
    "# w =ALCU_dict(ansatz_Q_cicuit, anti_commuting_set_stripped, S_dict, Hamilt.molecule.n_qubits)\n",
    "# ###\n",
    "# # simulate\n",
    "# tt = ALCU_Simulation_Quantum_Circuit_DictRAW(w, 50_000)\n",
    "# tt.Get_expectation_value_via_parity()\n",
    "# tt.Calc_energy_via_parity()\n",
    "# tt.Energy\n",
    "\n",
    "# S_dict = {0: 0, 1: 0, 2: 0, 3: 0, 4: 0, 5: 0, 6: 0, 7: 0, 8: 0, 9: 0, 10: 0}\n",
    "\n",
    "\n",
    "\n",
    "# def Calc_E_UP(THETA):\n",
    "#     ansatz_Q_cicuit = NEW_Anastz(THETA)\n",
    "#     w = ALCU_dict(ansatz_Q_cicuit, anti_commuting_set_stripped, S_dict, Hamilt.molecule.n_qubits)\n",
    "#     tt = ALCU_Simulation_Quantum_Circuit_DictRAW(w, 500)\n",
    "#     tt.Get_expectation_value_via_parity()\n",
    "#     tt.Calc_energy_via_parity()\n",
    "#     return tt.Energy.real\n",
    "# from quchem.Scipy_Optimizer import *\n",
    "\n",
    "# import random\n",
    "# THETA = random.uniform(0,2*np.pi)\n",
    "# #\n",
    "# #\n",
    "# # # THETA_params = [1, 2, 3]\n",
    "# # # THETA_params = [0.23333333, 3.13333333, 3.05]\n",
    "# # GG = Optimizer(Calc_E_UP, [THETA], 'Nelder-Mead', store_values=True, display_iter_steps=True,\n",
    "# #                tol=1e-5,\n",
    "# #                display_convergence_message=True)\n",
    "# # GG.get_env(50)\n",
    "# # GG.plot_convergence()\n",
    "# # plt.show()\n",
    "\n",
    "\n",
    "# E_list=[]\n",
    "# from tqdm import tqdm\n",
    "# for i in tqdm(np.arange(0, 2*np.pi, 0.05), ascii=True, desc='Getting ENERGIES'):\n",
    "\n",
    "#     ansatz_Q_cicuit = NEW_Anastz(i)\n",
    "#     w = ALCU_dict(ansatz_Q_cicuit, anti_commuting_set_stripped, S_dict, Hamilt.molecule.n_qubits)\n",
    "#     ###\n",
    "#     # simulate\n",
    "#     tt = ALCU_Simulation_Quantum_Circuit_DictRAW(w, 100000)\n",
    "#     tt.Get_expectation_value_via_parity()\n",
    "#     tt.Calc_energy_via_parity()\n",
    "#     E_list.append(tt.Energy)\n",
    "# plt.plot(E_list)\n",
    "# plt.show()\n",
    "# print('VQE min E = {} VS FCI E = {}'.format(min(E_list), Hamilt.molecule.fci_energy))"
   ]
  },
  {
   "cell_type": "code",
   "execution_count": null,
   "metadata": {},
   "outputs": [],
   "source": []
  },
  {
   "cell_type": "code",
   "execution_count": null,
   "metadata": {},
   "outputs": [],
   "source": []
  },
  {
   "cell_type": "code",
   "execution_count": null,
   "metadata": {},
   "outputs": [],
   "source": []
  },
  {
   "cell_type": "code",
   "execution_count": null,
   "metadata": {},
   "outputs": [],
   "source": []
  },
  {
   "cell_type": "code",
   "execution_count": null,
   "metadata": {},
   "outputs": [],
   "source": []
  },
  {
   "cell_type": "code",
   "execution_count": null,
   "metadata": {},
   "outputs": [],
   "source": [
    "# $\\mathcal{X} H_{n} =i H_{n-1} P_{n} H_{n}$\n",
    "\n",
    "# $=i H_{n-1} P_{n}\\left(\\sin \\phi_{n-1} H_{n-1}+\\cos \\phi_{n-1} P_{n}\\right)$\n",
    "\n",
    "# $=i\\left(\\sin \\phi_{n-1} H_{n-1} P_{n} H_{n-1}+\\cos \\phi_{n-1} H_{n-1} P_{n}^{2}\\right)$\n",
    "\n",
    "# as $\\left\\{H_{n-1}, P_{n}\\right\\}=0$ and $P_{n}^{2}=1$"
   ]
  }
 ],
 "metadata": {
  "kernelspec": {
   "display_name": "Python 3",
   "language": "python",
   "name": "python3"
  },
  "language_info": {
   "codemirror_mode": {
    "name": "ipython",
    "version": 3
   },
   "file_extension": ".py",
   "mimetype": "text/x-python",
   "name": "python",
   "nbconvert_exporter": "python",
   "pygments_lexer": "ipython3",
   "version": "3.7.3"
  }
 },
 "nbformat": 4,
 "nbformat_minor": 4
}
