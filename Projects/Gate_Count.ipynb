{
 "cells": [
  {
   "cell_type": "code",
   "execution_count": 1,
   "metadata": {},
   "outputs": [],
   "source": [
    "from quchem.Hamiltonian_Generator_Functions import *\n",
    "from quchem.Graph import *\n"
   ]
  },
  {
   "cell_type": "code",
   "execution_count": 2,
   "metadata": {},
   "outputs": [],
   "source": [
    "from quchem.LCU_method import *\n",
    "from quchem.Unitary_partitioning import * \n",
    "from quchem.quantum_circuit_functions import *\n",
    "from quchem.Ansatz_Generator_Functions import *"
   ]
  },
  {
   "cell_type": "code",
   "execution_count": 3,
   "metadata": {},
   "outputs": [],
   "source": [
    "# N_index=0\n",
    "# S_index=0\n",
    "# molecule_list=['H2']\n",
    "\n",
    "# for Molecule in molecule_list:\n",
    "#     ### HAMILTONIAN start\n",
    "#     geometry = None # [('H', (0., 0., 0.)), ('H', (0., 0., 0.74))]\n",
    "#     basis = 'sto-6g'\n",
    "\n",
    "\n",
    "#     ### Get Hamiltonian\n",
    "#     Hamilt = Hamiltonian_PySCF(Molecule,\n",
    "#                          run_scf=1, run_mp2=1, run_cisd=1, run_ccsd=1, run_fci=1,\n",
    "#                          basis=basis,\n",
    "#                          multiplicity=1,\n",
    "#                          geometry=geometry)  # normally None!\n",
    "#     QubitHamiltonian = Hamilt.Get_Qubit_Hamiltonian(threshold=None, transformation='BK')\n",
    "#     ### HAMILTONIAN end\n",
    "    \n",
    "    \n",
    "#     ## Graph\n",
    "#     Hamiltonian_graph_obj = Openfermion_Hamiltonian_Graph(QubitHamiltonian)\n",
    "\n",
    "#     commutativity_flag = 'AC' ## <- defines relationship between sets!!!\n",
    "#     plot_graph = False\n",
    "#     Graph_colouring_strategy='largest_first'\n",
    "#     anti_commuting_sets = Hamiltonian_graph_obj.Get_Clique_Cover_as_QubitOp(commutativity_flag, \n",
    "#                                                                             Graph_colouring_strategy=Graph_colouring_strategy,\n",
    "#                                                                             plot_graph=plot_graph)\n",
    "\n",
    "    \n",
    "#     ## ansatz\n",
    "#     ansatz_obj = Ansatz(Hamilt.molecule.n_electrons, Hamilt.molecule.n_qubits)\n",
    "    \n",
    "#     Sec_Quant_CC_ops_ia, Sec_Quant_CC_ops_ijab, theta_parameters_ia, theta_parameters_ijab=ansatz_obj.Get_ia_and_ijab_terms(single_cc_amplitudes=None, \n",
    "#                                                                                                              double_cc_amplitudes=None, \n",
    "#                                                                                                              singles_hamiltonian=None,\n",
    "#                                                                                                              doubles_hamiltonian=None, \n",
    "#                                                                                                              tol_filter_small_terms = None)\n",
    "\n",
    "#     Qubit_Op_list_Second_Quant_CC_Ops_ia, Qubit_Op_list_Second_Quant_CC_Ops_ijab = ansatz_obj.UCCSD_single_trotter_step(\n",
    "#                                             Sec_Quant_CC_ops_ia,\n",
    "#                                             Sec_Quant_CC_ops_ijab,\n",
    "#                                            transformation='JW')\n",
    "    \n",
    "#     ## UCCSD circuit\n",
    "    \n",
    "    \n",
    "#     input_state=ansatz_obj.Get_JW_HF_state_in_OCC_basis()\n",
    "#     ansatz_Q_Circ_obj = Ansatz_Circuit(input_state,\n",
    "#                                      Qubit_Op_list_Second_Quant_CC_Ops_ia, \n",
    "#                                      Qubit_Op_list_Second_Quant_CC_Ops_ijab)\n",
    "\n",
    "#     ansatz_circuit =ansatz_Q_Circ_obj.Get_Full_HF_UCCSD_QC(\n",
    "#                                 Theta_param_list_ia=theta_parameters_ia, \n",
    "#                                  Theta_param_list_ijab=theta_parameters_ijab,\n",
    "#                                  ia_first=True)\n",
    "    \n",
    "    \n",
    "#     ### standard circuit\n",
    "#     total_standard=[]\n",
    "#     for qubitOP in QubitHamiltonian:\n",
    "#         if list(qubitOP.terms.keys())[0] != ():\n",
    "#             Q_Circuit = Generate_Full_Q_Circuit(ansatz_circuit, qubitOP)\n",
    "#             gate_dict, total_gate = Total_Gate_Count(Q_Circuit,\n",
    "#                                                      M_gates_included=True, \n",
    "#                                                      only_one_two_qubit_gates=True)\n",
    "#             total_standard.append(total_gate)\n",
    "    \n",
    "    \n",
    "#     ### LCU\n",
    "#     total_LCU=[]\n",
    "#     for key in anti_commuting_sets:\n",
    "#         if len(anti_commuting_sets[key])>1:\n",
    "#             R_uncorrected, Pn, gamma_l = Get_R_op_list(anti_commuting_sets[key], N_index)\n",
    "#             R_corrected_Op_list, R_corr_list, ancilla_amplitudes, l1_norm = absorb_complex_phases(R_uncorrected)\n",
    "\n",
    "#             LCU_Q_circuit = Full_Q_Circuit(Pn,\n",
    "#                                            R_corrected_Op_list,\n",
    "#                                            R_corr_list,\n",
    "#                                            ancilla_amplitudes,\n",
    "#                                            Hamilt.molecule.n_qubits,\n",
    "#                                            ansatz_circuit)\n",
    "#             LCU_gate_dict, LCU_total_gate = Total_Gate_Count(Q_Circuit,\n",
    "#                                                      M_gates_included=True, \n",
    "#                                                      only_one_two_qubit_gates=True)\n",
    "#             total_LCU.append(LCU_total_gate)\n",
    "    \n",
    "#     ### Conj\n",
    "#     total_Conj=[]\n",
    "#     for key in anti_commuting_sets:\n",
    "#         if len(anti_commuting_sets[key])>1:\n",
    "#             normalised_set = Get_beta_j_cofactors(anti_commuting_sets[key])\n",
    "#             X_sk_dict = Get_X_sk_operators(normalised_set, S=S_index)\n",
    "#             Conj_Q_circuit = Generate_Full_Q_Circuit_unitary_part(ansatz_circuit, X_sk_dict)\n",
    "#             Conj_gate_dict, Conj_total_gate = Total_Gate_Count(Q_Circuit,\n",
    "#                                                      M_gates_included=True, \n",
    "#                                                      only_one_two_qubit_gates=True)\n",
    "#             total_Conj.append(Conj_total_gate)"
   ]
  },
  {
   "cell_type": "code",
   "execution_count": null,
   "metadata": {},
   "outputs": [],
   "source": []
  },
  {
   "cell_type": "code",
   "execution_count": 63,
   "metadata": {},
   "outputs": [
    {
     "name": "stderr",
     "output_type": "stream",
     "text": [
      "Building Graph Edges: 100%|##########| 15/15 [00:00<00:00, 1003.41it/s]\n",
      "Building Graph Edges: 100%|##########| 631/631 [00:16<00:00, 37.52it/s] \n",
      "Building Graph Edges: 100%|##########| 2082/2082 [03:11<00:00, 10.85it/s] \n",
      "Building Graph Edges: 100%|##########| 1388/1388 [01:24<00:00, 16.34it/s] \n"
     ]
    }
   ],
   "source": [
    "N_index=0\n",
    "S_index=0\n",
    "molecule_list=['H2', 'LiH', 'BeH2', 'H2O']#, 'CH4']\n",
    "\n",
    "\n",
    "output=[]\n",
    "output_multi_count=[]\n",
    "for Molecule in molecule_list:\n",
    "    \n",
    "    \n",
    "    ### HAMILTONIAN start\n",
    "    geometry = None # [('H', (0., 0., 0.)), ('H', (0., 0., 0.74))]\n",
    "    basis = 'sto-6g'\n",
    "\n",
    "\n",
    "    ### Get Hamiltonian\n",
    "    Hamilt = Hamiltonian_PySCF(Molecule,\n",
    "                         run_scf=1, run_mp2=1, run_cisd=1, run_ccsd=1, run_fci=1,\n",
    "                         basis=basis,\n",
    "                         multiplicity=1,\n",
    "                         geometry=geometry)  # normally None!\n",
    "    QubitHamiltonian = Hamilt.Get_Qubit_Hamiltonian(threshold=None, transformation='JW')\n",
    "    ### HAMILTONIAN end\n",
    "    \n",
    "    \n",
    "    ## Graph\n",
    "    Hamiltonian_graph_obj = Openfermion_Hamiltonian_Graph(QubitHamiltonian)\n",
    "\n",
    "    commutativity_flag = 'AC' ## <- defines relationship between sets!!!\n",
    "    plot_graph = False\n",
    "    Graph_colouring_strategy='largest_first'\n",
    "    anti_commuting_sets = Hamiltonian_graph_obj.Get_Clique_Cover_as_QubitOp(commutativity_flag, \n",
    "                                                                            Graph_colouring_strategy=Graph_colouring_strategy,\n",
    "                                                                            plot_graph=plot_graph)\n",
    "\n",
    "    \n",
    "#     ## ansatz\n",
    "#     ansatz_obj = Ansatz(Hamilt.molecule.n_electrons, Hamilt.molecule.n_qubits)\n",
    "    \n",
    "#     Sec_Quant_CC_ops_ia, Sec_Quant_CC_ops_ijab, theta_parameters_ia, theta_parameters_ijab=ansatz_obj.Get_ia_and_ijab_terms(single_cc_amplitudes=None, \n",
    "#                                                                                                              double_cc_amplitudes=None, \n",
    "#                                                                                                              singles_hamiltonian=None,\n",
    "#                                                                                                              doubles_hamiltonian=None, \n",
    "#                                                                                                              tol_filter_small_terms = None)\n",
    "\n",
    "#     Qubit_Op_list_Second_Quant_CC_Ops_ia, Qubit_Op_list_Second_Quant_CC_Ops_ijab = ansatz_obj.UCCSD_single_trotter_step(\n",
    "#                                             Sec_Quant_CC_ops_ia,\n",
    "#                                             Sec_Quant_CC_ops_ijab,\n",
    "#                                            transformation='JW')\n",
    "    \n",
    "    ## UCCSD circuit\n",
    "    \n",
    "    \n",
    "#     input_state=ansatz_obj.Get_JW_HF_state_in_OCC_basis()\n",
    "#     ansatz_Q_Circ_obj = Ansatz_Circuit(input_state,\n",
    "#                                      Qubit_Op_list_Second_Quant_CC_Ops_ia, \n",
    "#                                      Qubit_Op_list_Second_Quant_CC_Ops_ijab)\n",
    "\n",
    "#     ansatz_circuit =ansatz_Q_Circ_obj.Get_Full_HF_UCCSD_QC(\n",
    "#                                 Theta_param_list_ia=theta_parameters_ia, \n",
    "#                                  Theta_param_list_ijab=theta_parameters_ijab,\n",
    "#                                  ia_first=True)\n",
    "    ansatz_circuit = cirq.Circuit()\n",
    "    \n",
    "    \n",
    "    ### standard circuit\n",
    "#     for qubitOP in QubitHamiltonian:\n",
    "#         if list(qubitOP.terms.keys())[0] != ():\n",
    "#             Q_Circuit_obj = change_pauliword_to_Z_basis_then_measure(qubitOP)\n",
    "#             gate_dict, total_gate = Total_Gate_Count(Q_Circuit,\n",
    "#                                                      M_gates_included=True, \n",
    "#                                                      only_one_two_qubit_gates=True)\n",
    "#             break\n",
    "    total_gate = Hamilt.molecule.n_qubits\n",
    "    \n",
    "    ### LCU\n",
    "    for key in anti_commuting_sets:\n",
    "        if len(anti_commuting_sets[key])>1:\n",
    "            R_uncorrected, Pn, gamma_l = Get_R_op_list(anti_commuting_sets[key], N_index)\n",
    "            R_corrected_Op_list, R_corr_list, ancilla_amplitudes, l1_norm = absorb_complex_phases(R_uncorrected)\n",
    "\n",
    "            LCU_Q_circuit = Full_Q_Circuit(Pn,\n",
    "                                           R_corrected_Op_list,\n",
    "                                           R_corr_list,\n",
    "                                           ancilla_amplitudes,\n",
    "                                           Hamilt.molecule.n_qubits,\n",
    "                                           ansatz_circuit)\n",
    "            LCU_gate_dict, LCU_total_gate = Total_Gate_Count(LCU_Q_circuit,\n",
    "                                                     M_gates_included=True, \n",
    "                                                     only_one_two_qubit_gates=True)\n",
    "            \n",
    "            LCU_total_g_multi_dict, LCU_total_g_multi = Total_Gate_Count(LCU_Q_circuit,\n",
    "                                                     M_gates_included=True, \n",
    "                                                     only_one_two_qubit_gates=False)\n",
    "            break\n",
    "    \n",
    "    ### Conj\n",
    "    for key in anti_commuting_sets:\n",
    "        if len(anti_commuting_sets[key])>1:\n",
    "            normalised_set = Get_beta_j_cofactors(anti_commuting_sets[key])\n",
    "            X_sk_dict = Get_X_sk_operators(normalised_set, S=S_index)\n",
    "            Conj_Q_circuit = Generate_Full_Q_Circuit_unitary_part(ansatz_circuit, X_sk_dict)\n",
    "            \n",
    "            Conj_gate_dict, Conj_total_gate = Total_Gate_Count(Conj_Q_circuit,\n",
    "                                                     M_gates_included=True, \n",
    "                                                     only_one_two_qubit_gates=True)\n",
    "            \n",
    "            Conj_total_g_multi_dict, Conj_total_g_multi = Total_Gate_Count(Conj_Q_circuit,\n",
    "                                                     M_gates_included=True, \n",
    "                                                     only_one_two_qubit_gates=False)\n",
    "            break\n",
    "    \n",
    "    \n",
    "    different_approaches_one_two={\n",
    "                        'standard': {'gates': total_gate,\n",
    "                                 'repeats': len(list(QubitHamiltonian))\n",
    "                                    },\n",
    "\n",
    "                        'LCU': {'gates': LCU_total_gate,\n",
    "                                 'repeats': len(anti_commuting_sets)\n",
    "                                    },\n",
    "\n",
    "                        'Conj': {'gates': Conj_total_gate,\n",
    "                                 'repeats': len(anti_commuting_sets)\n",
    "                                    }\n",
    "                        }\n",
    "    \n",
    "    multi_gate ={\n",
    "                    'LCU_gates': LCU_total_g_multi,\n",
    "                    'Conj_gates':Conj_total_g_multi\n",
    "                    }\n",
    "\n",
    "    output.append(different_approaches_one_two)\n",
    "    output_multi_count.append(multi_gate)"
   ]
  },
  {
   "cell_type": "code",
   "execution_count": 64,
   "metadata": {},
   "outputs": [
    {
     "data": {
      "text/plain": [
       "[{'standard': {'gates': 4, 'repeats': 15},\n",
       "  'LCU': {'gates': 12, 'repeats': 11},\n",
       "  'Conj': {'gates': 21, 'repeats': 11}},\n",
       " {'standard': {'gates': 12, 'repeats': 631},\n",
       "  'LCU': {'gates': 164, 'repeats': 101},\n",
       "  'Conj': {'gates': 105, 'repeats': 101}},\n",
       " {'standard': {'gates': 14, 'repeats': 2082},\n",
       "  'LCU': {'gates': 440, 'repeats': 231},\n",
       "  'Conj': {'gates': 407, 'repeats': 231}},\n",
       " {'standard': {'gates': 14, 'repeats': 1388},\n",
       "  'LCU': {'gates': 238, 'repeats': 174},\n",
       "  'Conj': {'gates': 147, 'repeats': 174}}]"
      ]
     },
     "execution_count": 64,
     "metadata": {},
     "output_type": "execute_result"
    }
   ],
   "source": [
    "output"
   ]
  },
  {
   "cell_type": "code",
   "execution_count": 65,
   "metadata": {},
   "outputs": [
    {
     "data": {
      "text/plain": [
       "[{'LCU_gates': 9, 'Conj_gates': 21},\n",
       " {'LCU_gates': 99, 'Conj_gates': 105},\n",
       " {'LCU_gates': 257, 'Conj_gates': 407},\n",
       " {'LCU_gates': 140, 'Conj_gates': 147}]"
      ]
     },
     "execution_count": 65,
     "metadata": {},
     "output_type": "execute_result"
    }
   ],
   "source": [
    "output_multi_count"
   ]
  },
  {
   "cell_type": "code",
   "execution_count": 66,
   "metadata": {},
   "outputs": [],
   "source": [
    "standard=[]\n",
    "LCU=[]\n",
    "Conj=[]\n",
    "for result in output:\n",
    "    standard.append(result['standard']['gates'])\n",
    "    LCU.append(result['LCU']['gates'])\n",
    "    Conj.append(result['Conj']['gates'])\n",
    "    \n",
    "standard_repeats=[]\n",
    "LCU_repeats=[]\n",
    "Conj_repeats=[]\n",
    "for result in output:\n",
    "    standard_repeats.append(result['standard']['repeats'])\n",
    "    LCU_repeats.append(result['LCU']['repeats'])\n",
    "    Conj_repeats.append(result['Conj']['repeats'])\n",
    "\n",
    "    \n",
    "multi_LCU=[]\n",
    "multi_Conj=[]\n",
    "for result in output_multi_count:\n",
    "    multi_LCU.append(result['LCU_gates'])\n",
    "    multi_Conj.append(result['Conj_gates'])"
   ]
  },
  {
   "cell_type": "code",
   "execution_count": 67,
   "metadata": {},
   "outputs": [
    {
     "data": {
      "image/png": "[encoded data removed]",
      "text/plain": [
       "<Figure size 432x288 with 1 Axes>"
      ]
     },
     "metadata": {
      "needs_background": "light"
     },
     "output_type": "display_data"
    },
    {
     "data": {
      "image/png": "[encoded data removed]",
      "text/plain": [
       "<Figure size 432x288 with 1 Axes>"
      ]
     },
     "metadata": {
      "needs_background": "light"
     },
     "output_type": "display_data"
    },
    {
     "data": {
      "image/png": "[encoded data removed]",
      "text/plain": [
       "<Figure size 432x288 with 1 Axes>"
      ]
     },
     "metadata": {
      "needs_background": "light"
     },
     "output_type": "display_data"
    }
   ],
   "source": [
    "import matplotlib.pyplot as plt\n",
    "%matplotlib inline\n",
    "\n",
    "plt.figure()\n",
    "\n",
    "plt.plot(molecule_list, standard, label = \"standard\",  marker='x', linestyle='-', linewidth=1.5, color='blue')\n",
    "plt.plot(molecule_list, LCU, label = \"LCU\", marker='x', linestyle='-', linewidth=1.5, color='red')\n",
    "plt.plot(molecule_list, Conj, label = \"Conj\", marker='x', linestyle='-', linewidth=1.5, color='green')\n",
    "\n",
    "plt.xlabel('Molecule')\n",
    "plt.ylabel('total gate count')\n",
    "plt.legend()\n",
    "plt.show()\n",
    "\n",
    "\n",
    "plt.figure()\n",
    "plt.plot(molecule_list, multi_LCU, label = \"LCU\", marker='x', linestyle='-', linewidth=1.5, color='red')\n",
    "plt.plot(molecule_list, multi_Conj, label = \"Conj\", marker='o', linestyle='--', linewidth=1.5, color='green')\n",
    "plt.xlabel('Molecule')\n",
    "plt.ylabel('total multi gate count')\n",
    "plt.legend()\n",
    "plt.show()\n",
    "\n",
    "\n",
    "plt.figure()\n",
    "plt.plot(molecule_list, standard_repeats, label = \"standard\",  marker='x', linestyle='-', linewidth=1.5, color='blue')\n",
    "plt.plot(molecule_list, LCU_repeats, label = \"LCU\", marker='x', linestyle='-', linewidth=1.5, color='red', markersize=12)\n",
    "plt.plot(molecule_list, Conj_repeats, label = \"Conj\", marker='o', linestyle='--', linewidth=1.5, color='green')\n",
    "plt.xlabel('Molecule')\n",
    "plt.ylabel('No H terms to measure')\n",
    "plt.legend()\n",
    "plt.show()\n",
    "\n"
   ]
  }
 ],
 "metadata": {
  "kernelspec": {
   "display_name": "Python 3",
   "language": "python",
   "name": "python3"
  },
  "language_info": {
   "codemirror_mode": {
    "name": "ipython",
    "version": 3
   },
   "file_extension": ".py",
   "mimetype": "text/x-python",
   "name": "python",
   "nbconvert_exporter": "python",
   "pygments_lexer": "ipython3",
   "version": "3.7.6"
  }
 },
 "nbformat": 4,
 "nbformat_minor": 4
}
