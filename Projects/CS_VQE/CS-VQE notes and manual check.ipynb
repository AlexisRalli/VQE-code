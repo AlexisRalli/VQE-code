{
 "cells": [
  {
   "cell_type": "code",
   "execution_count": 1,
   "metadata": {},
   "outputs": [],
   "source": [
    "import numpy as np\n",
    "import cs_vqe as c\n",
    "import ast\n",
    "import os\n",
    "\n",
    "from openfermion import qubit_operator_sparse\n",
    "import conversion_scripts as conv_scr\n",
    "import scipy as sp"
   ]
  },
  {
   "cell_type": "code",
   "execution_count": 2,
   "metadata": {},
   "outputs": [],
   "source": [
    "from openfermion import qubit_operator_sparse\n",
    "import conversion_scripts as conv_scr\n",
    "from openfermion.ops import QubitOperator"
   ]
  },
  {
   "cell_type": "code",
   "execution_count": 3,
   "metadata": {},
   "outputs": [],
   "source": [
    "# with open(\"hamiltonians.txt\", 'r') as input_file:\n",
    "#     hamiltonians = ast.literal_eval(input_file.read())\n",
    "    \n",
    "working_dir = os.getcwd()\n",
    "data_dir = os.path.join(working_dir, 'data')\n",
    "data_hamiltonians_file = os.path.join(data_dir, 'hamiltonians.txt')\n",
    "\n",
    "\n",
    "with open(data_hamiltonians_file, 'r') as input_file:\n",
    "    hamiltonians = ast.literal_eval(input_file.read())"
   ]
  },
  {
   "cell_type": "code",
   "execution_count": 4,
   "metadata": {},
   "outputs": [
    {
     "name": "stdout",
     "output_type": "stream",
     "text": [
      "H2-S1_STO-3G_singlet          n_qubits:  18   \n",
      "C1-O1_STO-3G_singlet          n_qubits:  16   \n",
      "H1-Cl1_STO-3G_singlet         n_qubits:  16   \n",
      "H1-Na1_STO-3G_singlet         n_qubits:  16   \n",
      "H2-Mg1_STO-3G_singlet         n_qubits:  17   \n",
      "H1-F1_3-21G_singlet           n_qubits:  18   \n",
      "H1-Li1_3-21G_singlet          n_qubits:  18   \n",
      "Be1_STO-3G_singlet            n_qubits:  5    \n",
      "H1-F1_STO-3G_singlet          n_qubits:  8    \n",
      "H1-Li1_STO-3G_singlet         n_qubits:  8    \n",
      "Ar1_STO-3G_singlet            n_qubits:  13   \n",
      "F2_STO-3G_singlet             n_qubits:  15   \n",
      "H1-O1_STO-3G_singlet          n_qubits:  8    \n",
      "H2-Be1_STO-3G_singlet         n_qubits:  9    \n",
      "H2-O1_STO-3G_singlet          n_qubits:  10   \n",
      "H2_3-21G_singlet              n_qubits:  5    \n",
      "H2_6-31G_singlet              n_qubits:  5    \n",
      "H3-N1_STO-3G_singlet          n_qubits:  13   \n",
      "H4-C1_STO-3G_singlet          n_qubits:  14   \n",
      "Mg1_STO-3G_singlet            n_qubits:  13   \n",
      "N2_STO-3G_singlet             n_qubits:  15   \n",
      "Ne1_STO-3G_singlet            n_qubits:  5    \n",
      "O2_STO-3G_singlet             n_qubits:  15   \n",
      "H1-Li1-O1_STO-3G_singlet      n_qubits:  18   \n",
      "H1-He1_STO-3G_singlet         n_qubits:  2    \n",
      "H3_STO-3G_singlet_1+          n_qubits:  3    \n",
      "H1-He1_3-21G_singlet_1+       n_qubits:  6    \n",
      "H3_3-21G_singlet_1+           n_qubits:  9    \n",
      "H4-N1_STO-3G_singlet_1+       n_qubits:  14   \n"
     ]
    }
   ],
   "source": [
    "for key in hamiltonians.keys():\n",
    "    print(f\"{key: <25}     n_qubits:  {hamiltonians[key][1]:<5.0f}\")"
   ]
  },
  {
   "cell_type": "code",
   "execution_count": 5,
   "metadata": {},
   "outputs": [
    {
     "data": {
      "text/plain": [
       "{'IIIII': 1.5293465322243227,\n",
       " 'IIIIZ': -0.272118136451076,\n",
       " 'IIIYY': -0.054942371399896106,\n",
       " 'IIIZI': -0.272118136451076,\n",
       " 'IIIZZ': 0.27932036412726724,\n",
       " 'IIXZZ': 0.02839187635882136,\n",
       " 'IIZII': -0.4055198682337698,\n",
       " 'IIZIZ': -0.018268981063105066,\n",
       " 'IIZXZ': -0.03738940915377441,\n",
       " 'IIZZI': -0.029919945771762033,\n",
       " 'IIZZX': 0.0630080420394397,\n",
       " 'IXIYY': 0.01978010056877635,\n",
       " 'IXIZZ': -0.00039289419593739876,\n",
       " 'IXXYY': -0.019724560280490088,\n",
       " 'IXXZZ': 0.009055897238770372,\n",
       " 'IXYYI': -0.005056211084212929,\n",
       " 'IXYYX': 0.019724560280490088,\n",
       " 'IXZZI': -0.00039289419593739876,\n",
       " 'IXZZX': 0.005140813195008357,\n",
       " 'IYIIY': 0.005140813195008357,\n",
       " 'IYIXY': -0.01978010056877635,\n",
       " 'IYXIY': 0.005056211084212929,\n",
       " 'IYXXY': 0.019724560280490088,\n",
       " 'IYYII': -0.009055897238770372,\n",
       " 'IYYIX': -0.005056211084212929,\n",
       " 'IYYXI': 0.005056211084212929,\n",
       " 'IYYXX': -0.019724560280490088,\n",
       " 'IZIII': -0.4055198682337698,\n",
       " 'IZIIZ': -0.029919945771762033,\n",
       " 'IZIXZ': -0.0630080420394397,\n",
       " 'IZIZI': -0.018268981063105066,\n",
       " 'IZIZX': 0.03738940915377441,\n",
       " 'IZXIZ': -0.060204123414570605,\n",
       " 'IZXZI': -0.040031128649856855,\n",
       " 'IZXZZ': 0.051839034974121345,\n",
       " 'IZZII': 0.2826730025779857,\n",
       " 'IZZIX': 0.012196319613897683,\n",
       " 'IZZXI': -0.012196319613897683,\n",
       " 'IZZXZ': 0.08820113157758526,\n",
       " 'IZZZX': -0.08820113157758526,\n",
       " 'XIIYY': -0.03469095413076054,\n",
       " 'XIIZZ': 0.03137552498914712,\n",
       " 'XIXYY': -0.01978010056877635,\n",
       " 'XIXZZ': 0.00039289419593739876,\n",
       " 'XIYYI': 0.005140813195008357,\n",
       " 'XIYYX': 0.01978010056877635,\n",
       " 'XIZZI': 0.03137552498914712,\n",
       " 'XIZZX': -0.030674843969878216,\n",
       " 'XXIZZ': -0.028391876358821354,\n",
       " 'XXZIZ': 0.040031128649856855,\n",
       " 'XXZZI': 0.060204123414570605,\n",
       " 'XXZZZ': -0.05183903497412129,\n",
       " 'XYYII': -0.03339245931519466,\n",
       " 'XZIIZ': 0.03137552498914712,\n",
       " 'XZIXZ': 0.030674843969878216,\n",
       " 'XZXIZ': 0.00039289419593739876,\n",
       " 'XZXXZ': 0.005140813195008357,\n",
       " 'XZZII': 0.03137552498914712,\n",
       " 'XZZIX': -0.030674843969878216,\n",
       " 'XZZXI': 0.030674843969878216,\n",
       " 'XZZXX': 0.03469095413076054,\n",
       " 'YIIIY': -0.030674843969878216,\n",
       " 'YIIXY': 0.03469095413076054,\n",
       " 'YIXIY': -0.02041759246647393,\n",
       " 'YIXXY': 0.01978010056877635,\n",
       " 'YIYII': -0.00039289419593739876,\n",
       " 'YIYIX': 0.02041759246647393,\n",
       " 'YIYXI': -0.005140813195008357,\n",
       " 'YIYXX': -0.01978010056877635,\n",
       " 'YXYII': 0.03339245931519466,\n",
       " 'YYIZZ': -0.028391876358821354,\n",
       " 'YYZIZ': 0.040031128649856855,\n",
       " 'YYZZI': 0.060204123414570605,\n",
       " 'YYZZZ': -0.05183903497412129,\n",
       " 'YZIYZ': 0.030674843969878216,\n",
       " 'YZIZY': -0.030674843969878216,\n",
       " 'YZXYZ': 0.005140813195008357,\n",
       " 'YZXZY': -0.02041759246647393,\n",
       " 'YZYZI': -0.00039289419593739876,\n",
       " 'YZYZX': 0.02041759246647393,\n",
       " 'YZZYI': 0.030674843969878216,\n",
       " 'YZZYX': 0.03469095413076054,\n",
       " 'ZIIII': -1.0457075312510897,\n",
       " 'ZIIIZ': 0.07172093412363195,\n",
       " 'ZIIXZ': -0.0630080420394397,\n",
       " 'ZIIZI': 0.046085877231641814,\n",
       " 'ZIIZX': 0.03738940915377441,\n",
       " 'ZIXIZ': 0.060204123414570605,\n",
       " 'ZIXZI': 0.040031128649856855,\n",
       " 'ZIXZZ': -0.051839034974121345,\n",
       " 'ZIZII': 0.22102802962140775,\n",
       " 'ZIZIX': 0.012196319613897683,\n",
       " 'ZIZXI': -0.012196319613897683,\n",
       " 'ZIZXZ': 0.08820113157758526,\n",
       " 'ZIZZX': -0.08820113157758526,\n",
       " 'ZXIIZ': -0.00039289419593739876,\n",
       " 'ZXIXZ': -0.02041759246647393,\n",
       " 'ZXXIZ': 0.009055897238770372,\n",
       " 'ZXXXZ': -0.005056211084212929,\n",
       " 'ZXZII': -0.00039289419593739876,\n",
       " 'ZXZIX': 0.005140813195008357,\n",
       " 'ZXZXI': -0.02041759246647393,\n",
       " 'ZXZXX': -0.01978010056877635,\n",
       " 'ZYIYZ': -0.02041759246647393,\n",
       " 'ZYIZY': 0.005140813195008357,\n",
       " 'ZYXYZ': -0.005056211084212929,\n",
       " 'ZYXZY': 0.005056211084212929,\n",
       " 'ZYYZI': -0.009055897238770372,\n",
       " 'ZYYZX': -0.005056211084212929,\n",
       " 'ZYZYI': -0.02041759246647393,\n",
       " 'ZYZYX': -0.01978010056877635,\n",
       " 'ZZIII': -0.023944583946336667,\n",
       " 'ZZIIZ': 0.6881071820915262,\n",
       " 'ZZIYY': -0.054942371399896106,\n",
       " 'ZZIZI': 0.6881071820915261,\n",
       " 'ZZIZZ': -0.2665225256524458,\n",
       " 'ZZXZZ': -0.02839187635882136,\n",
       " 'ZZZII': -1.0457075312510897,\n",
       " 'ZZZIZ': 0.046085877231641814,\n",
       " 'ZZZXZ': -0.03738940915377441,\n",
       " 'ZZZZI': 0.07172093412363195,\n",
       " 'ZZZZX': 0.0630080420394397}"
      ]
     },
     "execution_count": 5,
     "metadata": {},
     "output_type": "execute_result"
    }
   ],
   "source": [
    "mol_key = 'H2_6-31G_singlet'  \n",
    "# mol_key ='H2-O1_STO-3G_singlet'\n",
    "\n",
    "\n",
    "# currently index 2 is contextual part\n",
    "# ''''''''''''''''3 is NON contextual part\n",
    "\n",
    "# join together for full Hamiltonian:\n",
    "ham = hamiltonians[mol_key][2]\n",
    "ham.update(hamiltonians[mol_key][3]) # full H \n",
    "ham"
   ]
  },
  {
   "cell_type": "code",
   "execution_count": 6,
   "metadata": {},
   "outputs": [
    {
     "name": "stdout",
     "output_type": "stream",
     "text": [
      "n_qubits:  5\n"
     ]
    }
   ],
   "source": [
    "print(f\"n_qubits:  {hamiltonians[mol_key][1]}\")"
   ]
  },
  {
   "cell_type": "markdown",
   "metadata": {},
   "source": [
    "# Get non-contextual H"
   ]
  },
  {
   "cell_type": "code",
   "execution_count": 7,
   "metadata": {},
   "outputs": [],
   "source": [
    "nonH_guesses = c.greedy_dfs(ham, 10, criterion='weight')\n",
    "\n",
    "nonH = max(nonH_guesses, key=lambda x:len(x)) # largest nonCon part found by dfs alg"
   ]
  },
  {
   "cell_type": "code",
   "execution_count": null,
   "metadata": {},
   "outputs": [],
   "source": []
  },
  {
   "cell_type": "markdown",
   "metadata": {},
   "source": [
    "Split into:\n",
    "\n",
    "$$H = H_{c} + H_{nc}$$"
   ]
  },
  {
   "cell_type": "code",
   "execution_count": 8,
   "metadata": {
    "code_folding": [
     4
    ]
   },
   "outputs": [],
   "source": [
    "nonCon_H = {}\n",
    "Con_H = {}\n",
    "\n",
    "for P in ham:\n",
    "    if P in nonH:\n",
    "        nonCon_H[P]=ham[P]\n",
    "    else:\n",
    "        Con_H[P]=ham[P]\n",
    "        "
   ]
  },
  {
   "cell_type": "markdown",
   "metadata": {},
   "source": [
    "## Testing contextuality"
   ]
  },
  {
   "cell_type": "code",
   "execution_count": 9,
   "metadata": {},
   "outputs": [
    {
     "name": "stdout",
     "output_type": "stream",
     "text": [
      "Is NONcontextual correct: True\n",
      "Is contextual correct: True\n"
     ]
    }
   ],
   "source": [
    "print('Is NONcontextual correct:', not c.contextualQ_ham(nonCon_H))\n",
    "print('Is contextual correct:',c.contextualQ_ham(Con_H))"
   ]
  },
  {
   "cell_type": "markdown",
   "metadata": {},
   "source": [
    "# Classical part of problem!"
   ]
  },
  {
   "cell_type": "markdown",
   "metadata": {},
   "source": [
    "Take $H_{nc}$ and split into:\n",
    "- $Z$ = operators that completely comute with all operators in $S$\n",
    "- $T$ = remaining operators in $S$\n",
    "    - where $S = Z \\cup T$  and $S$ is set of Pauli operators in $H_{nc}$\n",
    "    \n",
    "    \n",
    "- We then split the set $T$ into cliques $C_{1}, C_{2}, ... , C_{|T|}$\n",
    "    - all ops in a clique commute\n",
    "    - ops between cliques anti-commute!"
   ]
  },
  {
   "cell_type": "code",
   "execution_count": 10,
   "metadata": {},
   "outputs": [],
   "source": [
    "bool_flag, Z_list, T_list = c.contextualQ(list(nonCon_H.keys()), verbose=True)"
   ]
  },
  {
   "cell_type": "code",
   "execution_count": 11,
   "metadata": {},
   "outputs": [
    {
     "data": {
      "text/plain": [
       "['IIIII',\n",
       " 'IIIIZ',\n",
       " 'IIZII',\n",
       " 'IIZIZ',\n",
       " 'IZIII',\n",
       " 'IZIIZ',\n",
       " 'IZZII',\n",
       " 'ZIIII',\n",
       " 'ZIIIZ',\n",
       " 'ZIZII',\n",
       " 'ZZIII',\n",
       " 'ZZIIZ',\n",
       " 'ZZZII',\n",
       " 'ZZZIZ']"
      ]
     },
     "execution_count": 11,
     "metadata": {},
     "output_type": "execute_result"
    }
   ],
   "source": [
    "Z_list"
   ]
  },
  {
   "cell_type": "code",
   "execution_count": 12,
   "metadata": {},
   "outputs": [
    {
     "data": {
      "text/plain": [
       "['IIIZI',\n",
       " 'IIIZZ',\n",
       " 'IIZXZ',\n",
       " 'IIZZI',\n",
       " 'IZIXZ',\n",
       " 'IZIZI',\n",
       " 'IZZXI',\n",
       " 'IZZXZ',\n",
       " 'ZIIXZ',\n",
       " 'ZIIZI',\n",
       " 'ZIZXI',\n",
       " 'ZIZXZ',\n",
       " 'ZZIZI',\n",
       " 'ZZIZZ',\n",
       " 'ZZZXZ',\n",
       " 'ZZZZI']"
      ]
     },
     "execution_count": 12,
     "metadata": {},
     "output_type": "execute_result"
    }
   ],
   "source": [
    "T_list"
   ]
  },
  {
   "cell_type": "markdown",
   "metadata": {},
   "source": [
    "## Get quasi model\n",
    "\n",
    "First we define\n",
    "\n",
    "- $C_{i1}$ = first Pauli in each $C_{i}$ set\n",
    "- $A_{ij} = C_{ij}C_{1i}$\n",
    "\n",
    "\n",
    "- $G^{prime} = \\{1 P_{i} \\;| \\; i=1,2,...,|Z| \\}$\n",
    "    - aka all the completely commuting terms with coefficients set to +1!\n",
    "\n",
    "- We define G to be an independent set of $G^{prime}$\n",
    "    - where $G \\subseteq G^{prime}$\n"
   ]
  },
  {
   "cell_type": "code",
   "execution_count": 13,
   "metadata": {},
   "outputs": [],
   "source": [
    "G_list, Ci1_list, all_mappings = c.quasi_model(nonCon_H)"
   ]
  },
  {
   "cell_type": "code",
   "execution_count": 14,
   "metadata": {},
   "outputs": [
    {
     "name": "stdout",
     "output_type": "stream",
     "text": [
      "non-independent Z list: ['IIIII', 'IIIIZ', 'IIZII', 'IIZIZ', 'IZIII', 'IZIIZ', 'IZZII', 'ZIIII', 'ZIIIZ', 'ZIZII', 'ZZIII', 'ZZIIZ', 'ZZZII', 'ZZZIZ']\n",
      "G (independent) Z list: ['ZIIII', 'IZIII', 'IIZII', 'IIIIZ']\n"
     ]
    }
   ],
   "source": [
    "print('non-independent Z list:', Z_list)\n",
    "print('G (independent) Z list:', G_list)"
   ]
  },
  {
   "cell_type": "code",
   "execution_count": 15,
   "metadata": {},
   "outputs": [
    {
     "name": "stdout",
     "output_type": "stream",
     "text": [
      "all Ci1 terms: ['IIIZI', 'IIZXZ']\n"
     ]
    }
   ],
   "source": [
    "print('all Ci1 terms:', Ci1_list)"
   ]
  },
  {
   "cell_type": "markdown",
   "metadata": {},
   "source": [
    "$$R = G \\cup \\{ C_{i1} \\;| \\; i=1,2,...,N \\}$$"
   ]
  },
  {
   "cell_type": "code",
   "execution_count": 16,
   "metadata": {},
   "outputs": [
    {
     "data": {
      "text/plain": [
       "{'IIIII': [[], [], 1],\n",
       " 'IIIIZ': [['IIIIZ'], [], 1],\n",
       " 'IIIZI': [[], ['IIIZI'], 1],\n",
       " 'IIIZZ': [['IIIIZ'], ['IIIZI'], 1],\n",
       " 'IIZII': [['IIZII'], [], 1],\n",
       " 'IIZIZ': [['IIZII', 'IIIIZ'], [], 1],\n",
       " 'IIZXZ': [[], ['IIZXZ'], 1],\n",
       " 'IIZZI': [['IIZII'], ['IIIZI'], 1],\n",
       " 'IZIII': [['IZIII'], [], 1],\n",
       " 'IZIIZ': [['IZIII', 'IIIIZ'], [], 1],\n",
       " 'IZIXZ': [['IZIII', 'IIZII'], ['IIZXZ'], 1],\n",
       " 'IZIZI': [['IZIII'], ['IIIZI'], 1],\n",
       " 'IZZII': [['IZIII', 'IIZII'], [], 1],\n",
       " 'IZZXI': [['IZIII', 'IIIIZ'], ['IIZXZ'], 1],\n",
       " 'IZZXZ': [['IZIII'], ['IIZXZ'], 1],\n",
       " 'ZIIII': [['ZIIII'], [], 1],\n",
       " 'ZIIIZ': [['ZIIII', 'IIIIZ'], [], 1],\n",
       " 'ZIIXZ': [['ZIIII', 'IIZII'], ['IIZXZ'], 1],\n",
       " 'ZIIZI': [['ZIIII'], ['IIIZI'], 1],\n",
       " 'ZIZII': [['ZIIII', 'IIZII'], [], 1],\n",
       " 'ZIZXI': [['ZIIII', 'IIIIZ'], ['IIZXZ'], 1],\n",
       " 'ZIZXZ': [['ZIIII'], ['IIZXZ'], 1],\n",
       " 'ZZIII': [['ZIIII', 'IZIII'], [], 1],\n",
       " 'ZZIIZ': [['ZIIII', 'IZIII', 'IIIIZ'], [], 1],\n",
       " 'ZZIZI': [['ZIIII', 'IZIII'], ['IIIZI'], 1],\n",
       " 'ZZIZZ': [['ZIIII', 'IZIII', 'IIIIZ'], ['IIIZI'], 1],\n",
       " 'ZZZII': [['ZIIII', 'IZIII', 'IIZII'], [], 1],\n",
       " 'ZZZIZ': [['ZIIII', 'IZIII', 'IIZII', 'IIIIZ'], [], 1],\n",
       " 'ZZZXZ': [['ZIIII', 'IZIII'], ['IIZXZ'], 1],\n",
       " 'ZZZZI': [['ZIIII', 'IZIII', 'IIZII'], ['IIIZI'], 1]}"
      ]
     },
     "execution_count": 16,
     "metadata": {},
     "output_type": "execute_result"
    }
   ],
   "source": [
    "# Assemble all the mappings from terms in the Hamiltonian to their products in R:\n",
    "all_mappings"
   ]
  },
  {
   "cell_type": "markdown",
   "metadata": {},
   "source": [
    "Overall $R$ is basically reduced non-contextual set\n",
    "- where everything in original non-contextual set can be found by **inference!**"
   ]
  },
  {
   "cell_type": "code",
   "execution_count": null,
   "metadata": {},
   "outputs": [],
   "source": []
  },
  {
   "cell_type": "markdown",
   "metadata": {},
   "source": [
    "# Function form\n",
    "\n",
    "$$R = G \\cup \\{ C_{i1} \\;| \\; i=1,2,...,N \\}$$\n",
    "\n",
    "- note q to do with $G$\n",
    "- note r to do with $C_{i1}$"
   ]
  },
  {
   "cell_type": "code",
   "execution_count": 17,
   "metadata": {},
   "outputs": [],
   "source": [
    "model = [G_list, Ci1_list, all_mappings]\n",
    "\n",
    "fn_form = c.energy_function_form(nonCon_H, model)\n",
    "\n",
    "# returns [\n",
    "#            denstion of q,\n",
    "#            dimension of r,\n",
    "#            [coeff, indices of q's, indices of r's, term in Hamiltonian]\n",
    "#         ]\n"
   ]
  },
  {
   "cell_type": "code",
   "execution_count": 18,
   "metadata": {},
   "outputs": [
    {
     "data": {
      "text/plain": [
       "[4,\n",
       " 2,\n",
       " [[1.5293465322243227, [], [], 'IIIII'],\n",
       "  [-0.272118136451076, [3], [], 'IIIIZ'],\n",
       "  [-0.272118136451076, [], [0], 'IIIZI'],\n",
       "  [0.27932036412726724, [3], [0], 'IIIZZ'],\n",
       "  [-0.4055198682337698, [2], [], 'IIZII'],\n",
       "  [-0.018268981063105066, [2, 3], [], 'IIZIZ'],\n",
       "  [-0.03738940915377441, [], [1], 'IIZXZ'],\n",
       "  [-0.029919945771762033, [2], [0], 'IIZZI'],\n",
       "  [-0.4055198682337698, [1], [], 'IZIII'],\n",
       "  [-0.029919945771762033, [1, 3], [], 'IZIIZ'],\n",
       "  [-0.0630080420394397, [1, 2], [1], 'IZIXZ'],\n",
       "  [-0.018268981063105066, [1], [0], 'IZIZI'],\n",
       "  [0.2826730025779857, [1, 2], [], 'IZZII'],\n",
       "  [-0.012196319613897683, [1, 3], [1], 'IZZXI'],\n",
       "  [0.08820113157758526, [1], [1], 'IZZXZ'],\n",
       "  [-1.0457075312510897, [0], [], 'ZIIII'],\n",
       "  [0.07172093412363195, [0, 3], [], 'ZIIIZ'],\n",
       "  [-0.0630080420394397, [0, 2], [1], 'ZIIXZ'],\n",
       "  [0.046085877231641814, [0], [0], 'ZIIZI'],\n",
       "  [0.22102802962140775, [0, 2], [], 'ZIZII'],\n",
       "  [-0.012196319613897683, [0, 3], [1], 'ZIZXI'],\n",
       "  [0.08820113157758526, [0], [1], 'ZIZXZ'],\n",
       "  [-0.023944583946336667, [0, 1], [], 'ZZIII'],\n",
       "  [0.6881071820915262, [0, 1, 3], [], 'ZZIIZ'],\n",
       "  [0.6881071820915261, [0, 1], [0], 'ZZIZI'],\n",
       "  [-0.2665225256524458, [0, 1, 3], [0], 'ZZIZZ'],\n",
       "  [-1.0457075312510897, [0, 1, 2], [], 'ZZZII'],\n",
       "  [0.046085877231641814, [0, 1, 2, 3], [], 'ZZZIZ'],\n",
       "  [-0.03738940915377441, [0, 1], [1], 'ZZZXZ'],\n",
       "  [0.07172093412363195, [0, 1, 2], [0], 'ZZZZI']]]"
      ]
     },
     "execution_count": 18,
     "metadata": {},
     "output_type": "execute_result"
    }
   ],
   "source": [
    "fn_form"
   ]
  },
  {
   "cell_type": "code",
   "execution_count": 19,
   "metadata": {},
   "outputs": [],
   "source": [
    "Energy_function = c.energy_function(fn_form)"
   ]
  },
  {
   "cell_type": "code",
   "execution_count": 20,
   "metadata": {},
   "outputs": [
    {
     "data": {
      "text/plain": [
       "(1.0, -0.0, -0.0, -0.0, 0.0)"
      ]
     },
     "execution_count": 20,
     "metadata": {},
     "output_type": "execute_result"
    }
   ],
   "source": [
    "import random\n",
    "\n",
    "### now for the q terms we only have +1 or -1 assignment!\n",
    "q_variables = [random.choice([1,-1]) for _ in range(fn_form[0])]\n",
    "\n",
    "\n",
    "### r variables is anything that makes up unit vector!\n",
    "r_variables = c.angular(np.arange(0,2*np.pi, fn_form[1]))\n",
    "r_variables"
   ]
  },
  {
   "cell_type": "code",
   "execution_count": 21,
   "metadata": {},
   "outputs": [
    {
     "data": {
      "text/plain": [
       "5.617097940162006"
      ]
     },
     "execution_count": 21,
     "metadata": {},
     "output_type": "execute_result"
    }
   ],
   "source": [
    " Energy_function(*q_variables,*r_variables)"
   ]
  },
  {
   "cell_type": "markdown",
   "metadata": {},
   "source": [
    "find_gs_nonconfunction optimizes above steps by:\n",
    "1. brute forcing all choices of ```q_variables```\n",
    "    - ```itertools.product([1,-1],repeat=fn_form[0])```\n",
    "2. optimizing over ```r_variables``` (in code ```x```)\n",
    "    - using SciPy optimizer!"
   ]
  },
  {
   "cell_type": "code",
   "execution_count": 22,
   "metadata": {},
   "outputs": [
    {
     "name": "stdout",
     "output_type": "stream",
     "text": [
      "-1.8517678403392313\n",
      "[[1, 1, 1, -1], [-1.0, -4.388077644981462e-11]]\n"
     ]
    }
   ],
   "source": [
    "model = [G_list, Ci1_list, all_mappings]\n",
    "\n",
    "lowest_eigenvalue, ground_state_params, model_copy, fn_form_copy,  = c.find_gs_noncon(nonCon_H,\n",
    "               method = 'differential_evolution',\n",
    "               model=model,\n",
    "               fn_form=fn_form) # returns:  best + [model, fn_form]\n",
    "\n",
    "print(lowest_eigenvalue)\n",
    "print(ground_state_params)"
   ]
  },
  {
   "cell_type": "code",
   "execution_count": 23,
   "metadata": {},
   "outputs": [
    {
     "data": {
      "text/plain": [
       "True"
      ]
     },
     "execution_count": 23,
     "metadata": {},
     "output_type": "execute_result"
    }
   ],
   "source": [
    "## check\n",
    "Energy_function(*ground_state_params[0],*ground_state_params[1]) == lowest_eigenvalue"
   ]
  },
  {
   "cell_type": "code",
   "execution_count": null,
   "metadata": {},
   "outputs": [],
   "source": []
  },
  {
   "cell_type": "markdown",
   "metadata": {},
   "source": [
    "# Now need to rotate Hamiltonian!"
   ]
  },
  {
   "cell_type": "markdown",
   "metadata": {},
   "source": [
    "We now have non contextual ground state: $(\\vec{q}, \\vec{r})$"
   ]
  },
  {
   "cell_type": "code",
   "execution_count": 24,
   "metadata": {},
   "outputs": [
    {
     "data": {
      "text/plain": [
       "[[1, 1, 1, -1], [-1.0, -4.388077644981462e-11]]"
      ]
     },
     "execution_count": 24,
     "metadata": {},
     "output_type": "execute_result"
    }
   ],
   "source": [
    "ground_state_params"
   ]
  },
  {
   "cell_type": "markdown",
   "metadata": {},
   "source": [
    "We can use this result - ground state of $H_{nc}$ -  as a classical estiamte of our ground state of the full Hamiltonian ($H = H_{c} + H_{nc}$)\n",
    "\n",
    "However we can also obtain a quantum correction using $H_{c}$\n",
    "\n",
    "By minimizing theenergy of the remaining terms in the Hamiltonian over the quantum states that are **consistent with the noncon-textual ground state**."
   ]
  },
  {
   "cell_type": "code",
   "execution_count": null,
   "metadata": {},
   "outputs": [],
   "source": []
  },
  {
   "cell_type": "code",
   "execution_count": null,
   "metadata": {},
   "outputs": [],
   "source": []
  },
  {
   "cell_type": "markdown",
   "metadata": {},
   "source": [
    "To do this we first rotate each $G_{j}$ and $\\mathcal{A} = \\sum_{i=1}^{N} r_{i}A_{i}$:"
   ]
  },
  {
   "cell_type": "code",
   "execution_count": 25,
   "metadata": {},
   "outputs": [
    {
     "name": "stdout",
     "output_type": "stream",
     "text": [
      "['ZIIII', 'IZIII', 'IIZII', 'IIIIZ']\n",
      "['IIIZI', 'IIZXZ']\n"
     ]
    }
   ],
   "source": [
    "model = [G_list, Ci1_list, all_mappings]\n",
    "\n",
    "print(G_list) # G_j terms!\n",
    "print(Ci1_list) # mathcal(A)"
   ]
  },
  {
   "cell_type": "markdown",
   "metadata": {},
   "source": [
    "to SINGLE QUBIT pauli Z operators!\n",
    "\n",
    "- to map the operators in $G$ to single qubit Pauli operators, we use $\\frac{\\pi}{2}$ rotations!\n",
    "\n",
    "- note $\\mathcal{A}$ is an anti-commuting set... therefore we can use $N-1$ rotations as in unitary partitioning's sequence of rotations to do this!\n",
    "    - $R^{\\dagger}\\mathcal{A} R = \\text{single Pauli op}$"
   ]
  },
  {
   "cell_type": "code",
   "execution_count": null,
   "metadata": {},
   "outputs": [],
   "source": []
  },
  {
   "cell_type": "markdown",
   "metadata": {},
   "source": [
    "# Rotate full Hamiltonian to basis with diagonal noncontextual generators!"
   ]
  },
  {
   "cell_type": "markdown",
   "metadata": {},
   "source": [
    "function ```diagonalize_epistemic```:\n",
    "1. first if else statement:\n",
    "    - if cliques present:\n",
    "        - first maps A to single Pauli operator (if cliques present)\n",
    "        - then rotates to diagonlize G union with single Pauli opator of A (hence GuA name!)\n",
    "    - else if NO cliques present:\n",
    "        - gets rotations to diagonlize G\n",
    "        \n",
    "     - these rotations make up GuA term in code!\n",
    "2. NEXT code loops over terms in GuA (denoted as g in code)\n",
    "    - if g is not a single qubit $Z$:\n",
    "        - code generates code to rotate operator to make g diagonal (rotations)\n",
    "        - then constructs map of g to single Z (J rotation)\n",
    "    - Note R is applied to GuA\n",
    "    \n",
    "    \n",
    "#########\n",
    "- Note rotations are given in Appendix A of https://arxiv.org/pdf/2011.10027.pdf\n",
    "    - First code checks if g op in GuA is diagonal\n",
    "        - if so then needs to apply \"K\" rotation (involving $Y$ and $I$ operators (see pg 11 top) to make it NOT diagononal\n",
    "    - now operator will be diagnoal!\n",
    "    - next generate \"J\" rotation\n",
    "        - turns non-diagonal operator into a single qubit $Z$ operator!"
   ]
  },
  {
   "cell_type": "code",
   "execution_count": 26,
   "metadata": {},
   "outputs": [],
   "source": [
    "# Get sequence of rotations requried to diagonalize the generators for the noncontextual ground state!\n",
    "\n",
    "Rotations_list, diagonalized_generators_GuA, eigen_vals_nonC_ground_state_GuA_ops = c.diagonalize_epistemic(model,\n",
    "                                                                                                            fn_form,\n",
    "                                                                                                            ground_state_params)"
   ]
  },
  {
   "cell_type": "code",
   "execution_count": 27,
   "metadata": {},
   "outputs": [
    {
     "data": {
      "text/plain": [
       "[[3.141592653633674, 'IIZYZ']]"
      ]
     },
     "execution_count": 27,
     "metadata": {},
     "output_type": "execute_result"
    }
   ],
   "source": [
    "# rotations to map A to single Pauli operator!\n",
    "Rotations_list"
   ]
  },
  {
   "cell_type": "code",
   "execution_count": 28,
   "metadata": {},
   "outputs": [
    {
     "data": {
      "text/plain": [
       "['ZIIII', 'IZIII', 'IIZII', 'IIIIZ', 'IIIZI']"
      ]
     },
     "execution_count": 28,
     "metadata": {},
     "output_type": "execute_result"
    }
   ],
   "source": [
    "# rotations to diagonlize G\n",
    "diagonalized_generators_GuA"
   ]
  },
  {
   "cell_type": "code",
   "execution_count": 29,
   "metadata": {},
   "outputs": [
    {
     "data": {
      "text/plain": [
       "array([ 1,  1,  1, -1,  1])"
      ]
     },
     "execution_count": 29,
     "metadata": {},
     "output_type": "execute_result"
    }
   ],
   "source": [
    "eigen_vals_nonC_ground_state_GuA_ops"
   ]
  },
  {
   "cell_type": "markdown",
   "metadata": {},
   "source": [
    "# NEW LCU method"
   ]
  },
  {
   "cell_type": "code",
   "execution_count": 30,
   "metadata": {},
   "outputs": [
    {
     "name": "stdout",
     "output_type": "stream",
     "text": [
      "(1+0j) []\n"
     ]
    }
   ],
   "source": [
    "N_index=0\n",
    "check_reduction=True\n",
    "N_Qubits= hamiltonians[mol_key][1]\n",
    "R_LCU, Rotations_list, diagonalized_generators_GuA, eigen_vals_nonC_ground_state_GuA_ops= c.diagonalize_epistemic_LCU(\n",
    "                                                                                  model,\n",
    "                                                                                  fn_form,\n",
    "                                                                                  ground_state_params,\n",
    "                                                                                  N_Qubits,\n",
    "                                                                                  N_index,\n",
    "                                                                                  check_reduction=check_reduction)"
   ]
  },
  {
   "cell_type": "code",
   "execution_count": 31,
   "metadata": {},
   "outputs": [
    {
     "data": {
      "text/plain": [
       "[0.9238795325112867 [], 0.3826834323650898j [Z2 Y3 Z4]]"
      ]
     },
     "execution_count": 31,
     "metadata": {},
     "output_type": "execute_result"
    }
   ],
   "source": [
    "R_LCU"
   ]
  },
  {
   "cell_type": "code",
   "execution_count": 32,
   "metadata": {},
   "outputs": [
    {
     "data": {
      "text/plain": [
       "['ZIIII', 'IZIII', 'IIZII', 'IIIIZ', 'IIIZI']"
      ]
     },
     "execution_count": 32,
     "metadata": {},
     "output_type": "execute_result"
    }
   ],
   "source": [
    "diagonalized_generators_GuA"
   ]
  },
  {
   "cell_type": "code",
   "execution_count": 33,
   "metadata": {},
   "outputs": [
    {
     "data": {
      "text/plain": [
       "[0.9238795325112867 [], 0.3826834323650898j [Z2 Y3 Z4]]"
      ]
     },
     "execution_count": 33,
     "metadata": {},
     "output_type": "execute_result"
    }
   ],
   "source": [
    "normalized_R_LCU =[]\n",
    "factor = sum(abs(list(op.terms.values())[0]**2) for op in R_LCU)\n",
    "for op in R_LCU:\n",
    "    PauliStr, const = tuple(*op.terms.items())\n",
    "    normalized_R_LCU.append(QubitOperator(PauliStr, const / np.sqrt(factor)))\n",
    "normalized_R_LCU"
   ]
  },
  {
   "cell_type": "code",
   "execution_count": 34,
   "metadata": {},
   "outputs": [
    {
     "data": {
      "text/plain": [
       "[0.9238795325112867 [], 0.3826834323650898j [Z2 Y3 Z4]]"
      ]
     },
     "execution_count": 34,
     "metadata": {},
     "output_type": "execute_result"
    }
   ],
   "source": [
    "R_LCU"
   ]
  },
  {
   "cell_type": "code",
   "execution_count": 35,
   "metadata": {},
   "outputs": [
    {
     "data": {
      "text/plain": [
       "['ZIIII', 'IZIII', 'IIZII', 'IIIIZ', 'IIIZI']"
      ]
     },
     "execution_count": 35,
     "metadata": {},
     "output_type": "execute_result"
    }
   ],
   "source": [
    "diagonalized_generators_GuA"
   ]
  },
  {
   "cell_type": "code",
   "execution_count": null,
   "metadata": {},
   "outputs": [],
   "source": []
  },
  {
   "cell_type": "code",
   "execution_count": 36,
   "metadata": {},
   "outputs": [
    {
     "name": "stdout",
     "output_type": "stream",
     "text": [
      "ZIIII IIIII 1\n",
      "ZIIII IIZYZ 1\n",
      "##\n",
      "IZIII IIIII 1\n",
      "IZIII IIZYZ 1\n",
      "##\n",
      "IIZII IIIII 1\n",
      "IIZII IIZYZ 1\n",
      "##\n",
      "IIIIZ IIIII 1\n",
      "IIIIZ IIZYZ 1\n",
      "##\n"
     ]
    }
   ],
   "source": [
    "R_LCU_str = conv_scr.Openfermion_to_dict(R_LCU, N_Qubits)\n",
    "for op1 in diagonalized_generators_GuA[:-1]:\n",
    "    for op2 in R_LCU_str:\n",
    "        print(op1, op2, c.commute(op1, op2))\n",
    "    print('##')\n",
    "# should commute with everything BAR script A term (last check) (hence slice ending at [:-1] !!!)"
   ]
  },
  {
   "cell_type": "code",
   "execution_count": 37,
   "metadata": {},
   "outputs": [
    {
     "data": {
      "text/plain": [
       "array([ 1,  1,  1, -1,  1])"
      ]
     },
     "execution_count": 37,
     "metadata": {},
     "output_type": "execute_result"
    }
   ],
   "source": [
    "eigen_vals_nonC_ground_state_GuA_ops"
   ]
  },
  {
   "cell_type": "code",
   "execution_count": 38,
   "metadata": {},
   "outputs": [
    {
     "data": {
      "text/plain": [
       "-1j [Y0]"
      ]
     },
     "execution_count": 38,
     "metadata": {},
     "output_type": "execute_result"
    }
   ],
   "source": [
    "QubitOperator('X0')*QubitOperator('Z0')"
   ]
  },
  {
   "cell_type": "code",
   "execution_count": 39,
   "metadata": {},
   "outputs": [
    {
     "name": "stdout",
     "output_type": "stream",
     "text": [
      "(1+0j) []\n"
     ]
    }
   ],
   "source": [
    "order = list(range(hamiltonians[mol_key][1]))\n",
    "N_index=0\n",
    "check_reduction=True\n",
    "N_Qubits= hamiltonians[mol_key][1]\n",
    "\n",
    "reduced_H = c.get_reduced_hamiltonians_LCU(ham,\n",
    "                               model,\n",
    "                               fn_form,\n",
    "                               ground_state_params,\n",
    "                               order, \n",
    "                               N_Qubits,\n",
    "                               N_index, \n",
    "                               check_reduction=check_reduction)"
   ]
  },
  {
   "cell_type": "code",
   "execution_count": 40,
   "metadata": {},
   "outputs": [
    {
     "data": {
      "text/plain": [
       "236"
      ]
     },
     "execution_count": 40,
     "metadata": {},
     "output_type": "execute_result"
    }
   ],
   "source": [
    "len(reduced_H[-1])"
   ]
  },
  {
   "cell_type": "code",
   "execution_count": 41,
   "metadata": {},
   "outputs": [
    {
     "data": {
      "text/plain": [
       "{'': (-1.044632233717797+0j)}"
      ]
     },
     "execution_count": 41,
     "metadata": {},
     "output_type": "execute_result"
    }
   ],
   "source": [
    "reduced_H[0]"
   ]
  },
  {
   "cell_type": "code",
   "execution_count": 42,
   "metadata": {},
   "outputs": [
    {
     "data": {
      "text/plain": [
       "-1.8764602035984963"
      ]
     },
     "execution_count": 42,
     "metadata": {},
     "output_type": "execute_result"
    }
   ],
   "source": [
    "H = conv_scr.Get_Openfermion_Hamiltonian(reduced_H[-1])\n",
    "sparseH = qubit_operator_sparse(H, n_qubits=hamiltonians[mol_key][1])\n",
    "sp.sparse.linalg.eigsh(sparseH, which='SA', k=1)[0][0]"
   ]
  },
  {
   "cell_type": "code",
   "execution_count": null,
   "metadata": {},
   "outputs": [],
   "source": []
  },
  {
   "cell_type": "code",
   "execution_count": 43,
   "metadata": {},
   "outputs": [
    {
     "data": {
      "text/plain": [
       "[[3.141592653633674, 'IIZYZ']]"
      ]
     },
     "execution_count": 43,
     "metadata": {},
     "output_type": "execute_result"
    }
   ],
   "source": [
    "## old way\n",
    "# Get sequence of rotations requried to diagonalize the generators for the noncontextual ground state!\n",
    "\n",
    "Rotations_list, diagonalized_generators_GuA, eigen_vals_nonC_ground_state_GuA_ops = c.diagonalize_epistemic(model,\n",
    "                                                                                                            fn_form,\n",
    "                                                                                                            ground_state_params)\n",
    "len(diagonalized_generators_GuA)\n",
    "Rotations_list"
   ]
  },
  {
   "cell_type": "code",
   "execution_count": 44,
   "metadata": {},
   "outputs": [
    {
     "data": {
      "text/plain": [
       "array([ 1,  1,  1, -1,  1])"
      ]
     },
     "execution_count": 44,
     "metadata": {},
     "output_type": "execute_result"
    }
   ],
   "source": [
    "eigen_vals_nonC_ground_state_GuA_ops"
   ]
  },
  {
   "cell_type": "code",
   "execution_count": 45,
   "metadata": {},
   "outputs": [
    {
     "data": {
      "text/plain": [
       "1"
      ]
     },
     "execution_count": 45,
     "metadata": {},
     "output_type": "execute_result"
    }
   ],
   "source": [
    "### old way\n",
    "order = list(range(hamiltonians[mol_key][1]))\n",
    "red_H = c.get_reduced_hamiltonians(ham,\n",
    "                           model,\n",
    "                           fn_form,\n",
    "                           ground_state_params,\n",
    "                           order)\n",
    "len(red_H[0])"
   ]
  },
  {
   "cell_type": "code",
   "execution_count": 46,
   "metadata": {},
   "outputs": [
    {
     "name": "stdout",
     "output_type": "stream",
     "text": [
      "236 176\n"
     ]
    }
   ],
   "source": [
    "print(len(reduced_H[-1]), len(red_H[-1]))"
   ]
  },
  {
   "cell_type": "code",
   "execution_count": 47,
   "metadata": {},
   "outputs": [
    {
     "data": {
      "text/plain": [
       "{'': -1.8517678403392315}"
      ]
     },
     "execution_count": 47,
     "metadata": {},
     "output_type": "execute_result"
    }
   ],
   "source": [
    "red_H[0]"
   ]
  },
  {
   "cell_type": "code",
   "execution_count": 48,
   "metadata": {},
   "outputs": [
    {
     "data": {
      "text/plain": [
       "-1.8764602036030746"
      ]
     },
     "execution_count": 48,
     "metadata": {},
     "output_type": "execute_result"
    }
   ],
   "source": [
    "H = conv_scr.Get_Openfermion_Hamiltonian(red_H[-1])\n",
    "sparseH = qubit_operator_sparse(H, n_qubits=hamiltonians[mol_key][1])\n",
    "sp.sparse.linalg.eigsh(sparseH, which='SA', k=1)[0][0]"
   ]
  },
  {
   "cell_type": "code",
   "execution_count": 49,
   "metadata": {},
   "outputs": [
    {
     "data": {
      "text/plain": [
       "False"
      ]
     },
     "execution_count": 49,
     "metadata": {},
     "output_type": "execute_result"
    }
   ],
   "source": [
    "from scipy.sparse.linalg import expm\n",
    "from Misc_functions import sparse_allclose\n",
    "\n",
    "R_LCU_QubitOp = QubitOperator()\n",
    "for P in R_LCU: R_LCU_QubitOp+=P\n",
    "R_LCU_mat = qubit_operator_sparse(R_LCU_QubitOp, n_qubits=hamiltonians[mol_key][1])\n",
    "\n",
    "\n",
    "\n",
    "R_SeqRot_QubitOp= conv_scr.convert_op_str(Rotations_list[0][1], 1)\n",
    "R_SeqRot_mat = qubit_operator_sparse(R_SeqRot_QubitOp, n_qubits=hamiltonians[mol_key][1])\n",
    "\n",
    "theta_sk=Rotations_list[0][0]\n",
    "exp_rot = expm(R_SeqRot_mat * theta_sk)# / 2)\n",
    "\n",
    "sparse_allclose(exp_rot, R_LCU_mat)"
   ]
  },
  {
   "cell_type": "markdown",
   "metadata": {},
   "source": [
    "# Restricting the Hamiltonian to a contextualsubspace"
   ]
  },
  {
   "cell_type": "markdown",
   "metadata": {},
   "source": [
    "(Section B of https://arxiv.org/pdf/2011.10027.pdf)\n",
    "\n",
    "In the rotated basis the Hamiltonian is restricted to the subspace stabilized by the noncontextual generators $G_{j}'$"
   ]
  },
  {
   "cell_type": "code",
   "execution_count": 50,
   "metadata": {},
   "outputs": [
    {
     "name": "stdout",
     "output_type": "stream",
     "text": [
      "['ZIIII', 'IZIII', 'IIZII', 'IIIIZ', 'IIIZI']\n"
     ]
    }
   ],
   "source": [
    "print(diagonalized_generators_GuA) # G_j' terms!"
   ]
  },
  {
   "cell_type": "markdown",
   "metadata": {},
   "source": [
    "The quantum correction is then obtained by minimizing the expectation value of this resticted Hamiltonian!\n",
    "\n",
    "(over +1 eigenvectors of the remaining non-contextual generators $\\mathcal{A}'$)"
   ]
  },
  {
   "cell_type": "code",
   "execution_count": 51,
   "metadata": {},
   "outputs": [
    {
     "name": "stdout",
     "output_type": "stream",
     "text": [
      "['IIIZI', 'IIZXZ']\n"
     ]
    }
   ],
   "source": [
    "print(Ci1_list) # mathcal(A)"
   ]
  },
  {
   "cell_type": "markdown",
   "metadata": {},
   "source": [
    "- $\\mathcal{H}_{1}$ denotes Hilbert space of $n_{1}$ qubits acted on by by the single qubit $G_{j}'$ terms\n",
    "- $\\mathcal{H}_{2}$ denotes Hilbert space of remaining $n_{2}$\n",
    "\n",
    "Overall full Hilbert space is: $\\mathcal{H}=\\mathcal{H}_{1} \\otimes \\mathcal{H}_{2}$\n",
    "\n",
    "The **contextual Hamiltonian** in this rotated basis is:\n",
    "\n",
    "$$H_{c}'=\\sum_{P \\in \\mathcal{S_{c}'}} h_{P}P$$\n",
    "\n",
    "The set of Pauli terms in $H_{c}'$ is $\\mathcal{S_{c}'}$, where terms in $\\mathcal{S_{c}'}$ act on both $\\mathcal{H}_{1}$ and $\\mathcal{H}_{2}$ subspaces in general!\n",
    "\n",
    "We can write $P$ terms as:\n",
    "\n",
    "$$P=P_{1}^{\\mathcal{H}_{1}} \\otimes P_{2}^{\\mathcal{H}_{2}}$$\n",
    "\n",
    "$P$ commutes with an element of $G'$ if and only if $P_{1} \\otimes \\mathcal{I}^{\\mathcal{H}_{2}}$ does\n",
    "\n",
    "As the generators $G'$ act only on $\\mathcal{H}_{1}$"
   ]
  },
  {
   "cell_type": "markdown",
   "metadata": {},
   "source": [
    "If $P$ anticommutes with any element of $G'$ then its expection value in the noncontextual state is zero\n",
    "\n",
    "Thus any $P$ must commute with all elements of $G'$ and so $P_{1} \\otimes \\mathcal{I}^{\\mathcal{H}_{2}}$ too\n",
    "\n",
    "As the elements of $G'$ are single-qubit Pauli $Z$ operators acting in $\\mathcal{H}_{1}$:"
   ]
  },
  {
   "cell_type": "code",
   "execution_count": 52,
   "metadata": {},
   "outputs": [
    {
     "name": "stdout",
     "output_type": "stream",
     "text": [
      "['ZIIII', 'IZIII', 'IIZII', 'IIIIZ', 'IIIZI']\n"
     ]
    }
   ],
   "source": [
    "print(diagonalized_generators_GuA) # G_j' terms!"
   ]
  },
  {
   "cell_type": "markdown",
   "metadata": {},
   "source": [
    "$P_{1}$ must be a product of such operators!\n",
    "\n",
    "**As the exepcation value of $P_{1}$ is some $p_{1}= \\pm 1$ DETERMINED BY THE NONCONTEXTUAL GROUND STATE**"
   ]
  },
  {
   "cell_type": "code",
   "execution_count": 53,
   "metadata": {},
   "outputs": [
    {
     "data": {
      "text/plain": [
       "array([ 1,  1,  1, -1,  1])"
      ]
     },
     "execution_count": 53,
     "metadata": {},
     "output_type": "execute_result"
    }
   ],
   "source": [
    "eigen_vals_nonC_ground_state_GuA_ops"
   ]
  },
  {
   "cell_type": "code",
   "execution_count": null,
   "metadata": {},
   "outputs": [],
   "source": []
  },
  {
   "cell_type": "markdown",
   "metadata": {},
   "source": [
    "Let $|\\psi_{(\\vec{q}, \\vec{r})} \\rangle$ be any quantum state consistent with the nonconxtual ground state $(\\vec{q}, \\vec{r})$... aka gives correct expection values of:"
   ]
  },
  {
   "cell_type": "code",
   "execution_count": 54,
   "metadata": {},
   "outputs": [
    {
     "name": "stdout",
     "output_type": "stream",
     "text": [
      "['ZIIII', 'IZIII', 'IIZII', 'IIIIZ', 'IIIZI']\n",
      "[ 1  1  1 -1  1]\n"
     ]
    }
   ],
   "source": [
    "print(diagonalized_generators_GuA)\n",
    "print(eigen_vals_nonC_ground_state_GuA_ops)"
   ]
  },
  {
   "cell_type": "markdown",
   "metadata": {},
   "source": [
    "Then the action of any $P$ which allows our contextual correction has the form:\n",
    "\n",
    "$$P |\\psi_{(\\vec{q}, \\vec{r})} \\rangle = \\big( P_{1}^{\\mathcal{H}_{1}} \\otimes P_{2}^{\\mathcal{H}_{2}} \\big) |\\psi_{(\\vec{q}, \\vec{r})} \\rangle$$\n",
    "\n",
    "$$ = p_{1}\\big( \\mathcal{I}^{\\mathcal{H}_{1}} \\otimes P_{2}^{\\mathcal{H}_{2}} \\big) |\\psi_{(\\vec{q}, \\vec{r})} \\rangle$$\n",
    "\n",
    "- repeating above, but $p_{1}$ is the expectation value of $P_{1}$ determiend by the noncontextual ground state!"
   ]
  },
  {
   "cell_type": "code",
   "execution_count": null,
   "metadata": {},
   "outputs": [],
   "source": []
  },
  {
   "cell_type": "markdown",
   "metadata": {},
   "source": [
    "Thus we can denote $H_{c}' |_{(\\vec{q}, \\vec{r})}$ as the restriction of $H_{c}'$ on its action on the noncontextual ground state $(\\vec{q}, \\vec{r})$:\n",
    "\n",
    "$$H_{c}' |_{(\\vec{q}, \\vec{r})} =\\sum_{\\substack{P \\in \\mathcal{S_{c}'} \\\\ \\text{s.t.} [P, G_{i}']=0 \\\\ \\forall G'_{i} \\in G'}} p_{1}h_{P}\\big( \\mathcal{I}^{\\mathcal{H}_{1}} \\otimes P_{2}^{\\mathcal{H}_{2}} \\big) $$\n",
    "\n",
    "$$=\\mathcal{I}_{\\mathcal{H}_{1}} \\otimes H_{c}'|_{\\mathcal{H}_{2}} $$\n",
    "\n",
    "\n",
    "where we can write:\n",
    "$$H_{c}'|_{\\mathcal{H}_{2}} = \\sum_{\\substack{P \\in \\mathcal{S_{c}'} \\\\ \\text{s.t.} [P, G_{i}']=0 \\\\ \\forall G'_{i} \\in G'}} p_{1}h_{P}P_{2}^{\\mathcal{H}_{2}}$$\n",
    "\n",
    "\n",
    "\n",
    "Cleary this Hamiltonian on $n_{2}$ qubits is given by:\n",
    "\n",
    "$$n_{2} = n - |G|$$\n",
    "\n",
    "- $|G|=$ number of noncontextual generators $G_{j}$"
   ]
  },
  {
   "cell_type": "code",
   "execution_count": null,
   "metadata": {},
   "outputs": [],
   "source": []
  },
  {
   "cell_type": "code",
   "execution_count": 55,
   "metadata": {},
   "outputs": [],
   "source": [
    "from copy import deepcopy\n",
    "import pprint "
   ]
  },
  {
   "cell_type": "markdown",
   "metadata": {},
   "source": [
    "```quantum_correction``` function"
   ]
  },
  {
   "cell_type": "code",
   "execution_count": 56,
   "metadata": {},
   "outputs": [
    {
     "data": {
      "text/plain": [
       "{'IIIII': 1.5293465322243227,\n",
       " 'IIIIZ': -0.272118136451076,\n",
       " 'IIIYY': 0.054942371399896106,\n",
       " 'IIZIX': 2.4109139170215297e-12,\n",
       " 'IIIZI': 0.2721181364527167,\n",
       " 'IIZXZ': 0.037389409141833654,\n",
       " 'IIIZZ': -0.27932036412726724,\n",
       " 'IIZXI': 1.2256794456149433e-11,\n",
       " 'IIXZZ': 0.02839187635882136,\n",
       " 'IIZII': -0.4055198682337698,\n",
       " 'IIZIZ': -0.018268981063105066,\n",
       " 'IIZZI': 0.029919945771762033,\n",
       " 'IIIXZ': -1.312910451801266e-12,\n",
       " 'IIZZX': 0.0630080420394397,\n",
       " 'IXIYY': -0.01978010056877635,\n",
       " 'IXZIX': -8.679661712133261e-13,\n",
       " 'IXIZZ': 0.00039289419593739876,\n",
       " 'IXZXI': -1.724050238035866e-14,\n",
       " 'IXXYY': -0.019724560280490088,\n",
       " 'IXXZZ': 0.009055897238770372,\n",
       " 'IXYYI': 0.005056211084212929,\n",
       " 'IXXIZ': 2.2187046826942236e-13,\n",
       " 'IXYYX': 0.019724560280490088,\n",
       " 'IXZZI': 0.00039289419593739876,\n",
       " 'IXIXZ': -1.724050238035866e-14,\n",
       " 'IXZZX': 0.005140813195008357,\n",
       " 'IYIIY': -0.005140813195008357,\n",
       " 'IYZYX': -2.2558287458041897e-13,\n",
       " 'IYIXY': -0.01978010056877635,\n",
       " 'IYXIY': 0.005056211084212929,\n",
       " 'IYXXY': -0.019724560280490088,\n",
       " 'IYYZX': -8.655290202390784e-13,\n",
       " 'IYYII': 0.009055897238770372,\n",
       " 'IYXYZ': 3.973798022869762e-13,\n",
       " 'IYYIX': -0.005056211084212929,\n",
       " 'IYYXI': 0.005056211084212929,\n",
       " 'IYYXX': 0.019724560280490088,\n",
       " 'IYXZY': 8.655290202390784e-13,\n",
       " 'IZIII': -0.4055198682337698,\n",
       " 'IZIIZ': -0.029919945771762033,\n",
       " 'IZIXZ': 0.0630080420394397,\n",
       " 'IZZZI': 2.7648418072731754e-12,\n",
       " 'IZIZI': 0.018268981059234732,\n",
       " 'IZZXZ': -0.08820113157838691,\n",
       " 'IZIZX': 0.03738940915377441,\n",
       " 'IZXIZ': 0.060204123414570605,\n",
       " 'IZYYI': -2.641803680911823e-12,\n",
       " 'IZXZI': -0.040031128649856855,\n",
       " 'IZXZZ': 0.051839034974121345,\n",
       " 'IZZII': 0.2826730025779857,\n",
       " 'IZZIX': -0.012196319613897683,\n",
       " 'IZIYY': 5.351839744879336e-13,\n",
       " 'IZZXI': 0.012196319613897683,\n",
       " 'IZIZZ': 5.351839744879336e-13,\n",
       " 'IZZZX': -0.08820113157758526,\n",
       " 'XIIYY': 0.03469095413076054,\n",
       " 'XIZIX': 1.5222660030426763e-12,\n",
       " 'XIIZZ': -0.03137552498914712,\n",
       " 'XIZXI': 1.3767823980443371e-12,\n",
       " 'XIXYY': -0.01978010056877635,\n",
       " 'XIXZZ': 0.00039289419593739876,\n",
       " 'XIYYI': -0.005140813195008357,\n",
       " 'XIXIZ': -2.2558287458041897e-13,\n",
       " 'XIYYX': 0.01978010056877635,\n",
       " 'XIZZI': -0.03137552498914712,\n",
       " 'XIIXZ': 1.3767823980443371e-12,\n",
       " 'XIZZX': -0.030674843969878216,\n",
       " 'XXIZZ': 0.028391876358821354,\n",
       " 'XXZXI': -1.2458575794922167e-12,\n",
       " 'XXZIZ': 0.040031128649856855,\n",
       " 'XXZZI': -0.060204123414570605,\n",
       " 'XXIXZ': 2.641803680911823e-12,\n",
       " 'XXZZZ': 0.05183903497412129,\n",
       " 'XXIXI': -2.274737105073538e-12,\n",
       " 'XYYII': 0.03339245931519466,\n",
       " 'XYXYZ': 1.4652870423195868e-12,\n",
       " 'XZIIZ': 0.03137552498914712,\n",
       " 'XZIXZ': -0.030674843969878216,\n",
       " 'XZZZI': -1.34603597087517e-12,\n",
       " 'XZXIZ': -0.00039289419593739876,\n",
       " 'XZYYI': 1.724050238035866e-14,\n",
       " 'XZXXZ': 0.005140813195008357,\n",
       " 'XZZII': 0.03137552498914712,\n",
       " 'XZZIX': 0.030674843969878216,\n",
       " 'XZIYY': -1.34603597087517e-12,\n",
       " 'XZZXI': -0.030674843969878216,\n",
       " 'XZIZZ': -1.34603597087517e-12,\n",
       " 'XZZXX': 0.03469095413076054,\n",
       " 'YIIIY': 0.030674843969878216,\n",
       " 'YIZYX': 1.34603597087517e-12,\n",
       " 'YIIXY': 0.03469095413076054,\n",
       " 'YIXIY': -0.02041759246647393,\n",
       " 'YIXXY': -0.01978010056877635,\n",
       " 'YIYZX': -8.679661712133261e-13,\n",
       " 'YIYII': 0.00039289419593739876,\n",
       " 'YIXYZ': 1.724050238035866e-14,\n",
       " 'YIYIX': 0.02041759246647393,\n",
       " 'YIYXI': -0.005140813195008357,\n",
       " 'YIYXX': 0.01978010056877635,\n",
       " 'YIXZY': 8.679661712133261e-13,\n",
       " 'YXYII': -0.03339245931519466,\n",
       " 'YXXYZ': -1.4652870423195868e-12,\n",
       " 'YYIZZ': 0.028391876358821354,\n",
       " 'YYZXI': -1.2458575794922167e-12,\n",
       " 'YYZIZ': 0.040031128649856855,\n",
       " 'YYZZI': -0.060204123414570605,\n",
       " 'YYIXZ': 2.641803680911823e-12,\n",
       " 'YYZZZ': 0.05183903497412129,\n",
       " 'YYIXI': -2.274737105073538e-12,\n",
       " 'YZIYZ': 0.030674843969878216,\n",
       " 'YZIZY': -0.030674843969878216,\n",
       " 'YZXYZ': -0.005140813195008357,\n",
       " 'YZYII': 2.2558287458041897e-13,\n",
       " 'YZXZY': 0.02041759246647393,\n",
       " 'YZYXX': -8.959398106647617e-13,\n",
       " 'YZYZI': -0.00039289419593739876,\n",
       " 'YZYZX': -0.02041759246647393,\n",
       " 'YZXXY': 8.959398106647617e-13,\n",
       " 'YZZYI': 0.030674843969878216,\n",
       " 'YZZYX': -0.03469095413076054,\n",
       " 'YZIIY': 1.5222660030426763e-12,\n",
       " 'ZIIII': -1.0457075312510897,\n",
       " 'ZIIIZ': 0.07172093412363195,\n",
       " 'ZIIXZ': 0.0630080420394397,\n",
       " 'ZIZZI': 2.7648418072731754e-12,\n",
       " 'ZIIZI': -0.04608587723551215,\n",
       " 'ZIZXZ': -0.08820113157556297,\n",
       " 'ZIIZX': 0.03738940915377441,\n",
       " 'ZIXIZ': -0.060204123414570605,\n",
       " 'ZIYYI': 2.641803680911823e-12,\n",
       " 'ZIXZI': 0.040031128649856855,\n",
       " 'ZIXZZ': -0.051839034974121345,\n",
       " 'ZIZII': 0.22102802962140775,\n",
       " 'ZIZIX': -0.012196319613897683,\n",
       " 'ZIIYY': 5.351839744879336e-13,\n",
       " 'ZIZXI': 0.012196319613897683,\n",
       " 'ZIIZZ': 5.351839744879336e-13,\n",
       " 'ZIZZX': -0.08820113157758526,\n",
       " 'ZXIIZ': -0.00039289419593739876,\n",
       " 'ZXIXZ': 0.02041759246647393,\n",
       " 'ZXZZI': 8.959398106647617e-13,\n",
       " 'ZXXIZ': -0.009055897238770372,\n",
       " 'ZXYYI': 3.973798022869762e-13,\n",
       " 'ZXXXZ': -0.005056211084212929,\n",
       " 'ZXZII': -0.00039289419593739876,\n",
       " 'ZXZIX': -0.005140813195008357,\n",
       " 'ZXIYY': 2.2558287458041897e-13,\n",
       " 'ZXZXI': 0.02041759246647393,\n",
       " 'ZXIZZ': 8.959398106647617e-13,\n",
       " 'ZXZXX': -0.01978010056877635,\n",
       " 'ZYIYZ': -0.02041759246647393,\n",
       " 'ZYIZY': 0.005140813195008357,\n",
       " 'ZYXYZ': 0.005056211084212929,\n",
       " 'ZYYII': -2.2187046826942236e-13,\n",
       " 'ZYXZY': -0.005056211084212929,\n",
       " 'ZYYXX': 2.2187046826942236e-13,\n",
       " 'ZYYZI': -0.009055897238770372,\n",
       " 'ZYYZX': 0.005056211084212929,\n",
       " 'ZYXXY': -2.2187046826942236e-13,\n",
       " 'ZYZYI': -0.02041759246647393,\n",
       " 'ZYZYX': 0.01978010056877635,\n",
       " 'ZYIIY': -8.679661712133261e-13,\n",
       " 'ZZIII': -0.023944583946336667,\n",
       " 'ZZIIZ': 0.6881071820915262,\n",
       " 'ZZIYY': 0.054942371399896106,\n",
       " 'ZZZIX': 2.4109139170215297e-12,\n",
       " 'ZZIZI': -0.6881071820898854,\n",
       " 'ZZZXZ': 0.03738940918396909,\n",
       " 'ZZIZZ': 0.2665225256524458,\n",
       " 'ZZZXI': -1.1695215366994957e-11,\n",
       " 'ZZXZZ': -0.02839187635882136,\n",
       " 'ZZZII': -1.0457075312510897,\n",
       " 'ZZZIZ': 0.046085877231641814,\n",
       " 'ZZZZI': -0.07172093412363195,\n",
       " 'ZZIXZ': 3.147170277050975e-12,\n",
       " 'ZZZZX': 0.0630080420394397}"
      ]
     },
     "execution_count": 56,
     "metadata": {},
     "output_type": "execute_result"
    }
   ],
   "source": [
    "n_q = len(diagonalized_generators_GuA[0])\n",
    "\n",
    "rotated_H = deepcopy(ham) ##<-- full Hamiltonian\n",
    "\n",
    "# iteratively perform R rotation over all terms in orginal Hamiltonian\n",
    "for R in Rotations_list:\n",
    "    newly_rotated_H={}\n",
    "    for P in rotated_H.keys():\n",
    "        lin_comb_Rot_P = c.apply_rotation(R,P) # linear combination of Paulis from R rotation on P\n",
    "        \n",
    "        for P_rot in lin_comb_Rot_P:\n",
    "            \n",
    "            if P_rot in newly_rotated_H.keys():\n",
    "                newly_rotated_H[P_rot]+=lin_comb_Rot_P[P_rot]*rotated_H[P] # already in it hence +=\n",
    "            else:\n",
    "                newly_rotated_H[P_rot]=lin_comb_Rot_P[P_rot]*rotated_H[P]\n",
    "                \n",
    "    rotated_H = deepcopy(newly_rotated_H) ##<-- perform next R rotation on this H\n",
    "    \n",
    "rotated_H     "
   ]
  },
  {
   "cell_type": "markdown",
   "metadata": {},
   "source": [
    "next find where Z indices in $G'$"
   ]
  },
  {
   "cell_type": "code",
   "execution_count": 57,
   "metadata": {},
   "outputs": [
    {
     "name": "stdout",
     "output_type": "stream",
     "text": [
      "['ZIIII', 'IZIII', 'IIZII', 'IIIIZ', 'IIIZI']\n",
      "[0, 1, 2, 4, 3]\n"
     ]
    }
   ],
   "source": [
    "z_indices = []\n",
    "for d in diagonalized_generators_GuA:\n",
    "    for i in range(n_q):\n",
    "        if d[i] == 'Z':\n",
    "            z_indices.append(i)\n",
    "            \n",
    "print(diagonalized_generators_GuA)\n",
    "print(z_indices)"
   ]
  },
  {
   "cell_type": "code",
   "execution_count": null,
   "metadata": {},
   "outputs": [],
   "source": []
  },
  {
   "cell_type": "markdown",
   "metadata": {},
   "source": [
    "**The exepcation value of $P_{1}$ terms are $p_{1}= \\pm 1$ DETERMINED BY THE NONCONTEXTUAL GROUND STATE**"
   ]
  },
  {
   "cell_type": "code",
   "execution_count": 58,
   "metadata": {},
   "outputs": [
    {
     "name": "stdout",
     "output_type": "stream",
     "text": [
      "['ZIIII', 'IZIII', 'IIZII', 'IIIIZ', 'IIIZI']\n",
      "[ 1  1  1 -1  1]\n"
     ]
    }
   ],
   "source": [
    "print(diagonalized_generators_GuA)\n",
    "print(eigen_vals_nonC_ground_state_GuA_ops)"
   ]
  },
  {
   "cell_type": "markdown",
   "metadata": {},
   "source": [
    "We need to ENFORCE the diagnal geneators assigned values in the diagonal basis to these expectation values above^^^"
   ]
  },
  {
   "cell_type": "code",
   "execution_count": 59,
   "metadata": {},
   "outputs": [
    {
     "data": {
      "text/plain": [
       "{'': -1.8517678403392315}"
      ]
     },
     "execution_count": 59,
     "metadata": {},
     "output_type": "execute_result"
    }
   ],
   "source": [
    "ham_red = {}\n",
    "    \n",
    "for P in rotated_H.keys():\n",
    "    sgn = 1\n",
    "    for j, z_index in enumerate(z_indices): # enforce diagonal generator's assigned values in diagonal basis\n",
    "        if P[z_index] == 'Z':\n",
    "            sgn = sgn*eigen_vals_nonC_ground_state_GuA_ops[j] #<- eigenvalue of nonC ground state!\n",
    "        elif P[z_index] != 'I':\n",
    "            sgn = 0\n",
    "\n",
    "    if sgn != 0:\n",
    "        # construct term in reduced Hilbert space\n",
    "        P_red = ''\n",
    "        for i in range(n_q):\n",
    "            if not i in z_indices:\n",
    "                P_red = P_red + P[i]\n",
    "        if P_red in ham_red.keys():\n",
    "            ham_red[P_red] = ham_red[P_red] + rotated_H[P]*sgn\n",
    "        else:\n",
    "            ham_red[P_red] = rotated_H[P]*sgn\n",
    "            \n",
    "ham_red"
   ]
  },
  {
   "cell_type": "code",
   "execution_count": 60,
   "metadata": {},
   "outputs": [
    {
     "data": {
      "text/plain": [
       "-1.8517678403392315"
      ]
     },
     "execution_count": 60,
     "metadata": {},
     "output_type": "execute_result"
    }
   ],
   "source": [
    "c.quantum_correction(ham, #<- full Ham\n",
    "                     model,\n",
    "                     fn_form,\n",
    "                     ground_state_params)"
   ]
  },
  {
   "cell_type": "code",
   "execution_count": 61,
   "metadata": {},
   "outputs": [
    {
     "data": {
      "text/plain": [
       "-1.8517678403392315"
      ]
     },
     "execution_count": 61,
     "metadata": {},
     "output_type": "execute_result"
    }
   ],
   "source": [
    "c.quantum_correction(nonCon_H,model,fn_form,ground_state_params)"
   ]
  },
  {
   "cell_type": "code",
   "execution_count": 62,
   "metadata": {},
   "outputs": [
    {
     "data": {
      "text/plain": [
       "True"
      ]
     },
     "execution_count": 62,
     "metadata": {},
     "output_type": "execute_result"
    }
   ],
   "source": [
    "c.get_reduced_hamiltonians(ham,\n",
    "                           model,\n",
    "                           fn_form,\n",
    "                           ground_state_params,\n",
    "                           list(range(hamiltonians[mol_key][1])))[-1] == rotated_H ### aka when considering all qubit problem it is equal to rotated H!"
   ]
  },
  {
   "cell_type": "markdown",
   "metadata": {},
   "source": [
    "For some reason it seems that when considering full Hamiltonian there is no reduction in the number of terms!\n",
    "\n",
    "Q. Do you expect any term reduction when doing CS-VQE?"
   ]
  },
  {
   "cell_type": "code",
   "execution_count": 63,
   "metadata": {},
   "outputs": [
    {
     "data": {
      "text/plain": [
       "0"
      ]
     },
     "execution_count": 63,
     "metadata": {},
     "output_type": "execute_result"
    }
   ],
   "source": [
    "n2 = hamiltonians[mol_key][1]-len(diagonalized_generators_GuA)\n",
    "n2"
   ]
  },
  {
   "cell_type": "code",
   "execution_count": 64,
   "metadata": {},
   "outputs": [
    {
     "data": {
      "text/plain": [
       "{'': -1.8517678403392315}"
      ]
     },
     "execution_count": 64,
     "metadata": {},
     "output_type": "execute_result"
    }
   ],
   "source": [
    "ham_red"
   ]
  },
  {
   "cell_type": "code",
   "execution_count": null,
   "metadata": {},
   "outputs": [],
   "source": []
  },
  {
   "cell_type": "code",
   "execution_count": null,
   "metadata": {},
   "outputs": [],
   "source": []
  },
  {
   "cell_type": "code",
   "execution_count": null,
   "metadata": {},
   "outputs": [],
   "source": []
  },
  {
   "cell_type": "code",
   "execution_count": null,
   "metadata": {},
   "outputs": [],
   "source": []
  },
  {
   "cell_type": "code",
   "execution_count": null,
   "metadata": {},
   "outputs": [],
   "source": []
  },
  {
   "cell_type": "code",
   "execution_count": null,
   "metadata": {},
   "outputs": [],
   "source": []
  },
  {
   "cell_type": "code",
   "execution_count": null,
   "metadata": {},
   "outputs": [],
   "source": []
  },
  {
   "cell_type": "code",
   "execution_count": null,
   "metadata": {},
   "outputs": [],
   "source": []
  },
  {
   "cell_type": "code",
   "execution_count": null,
   "metadata": {},
   "outputs": [],
   "source": []
  },
  {
   "cell_type": "code",
   "execution_count": null,
   "metadata": {},
   "outputs": [],
   "source": []
  },
  {
   "cell_type": "code",
   "execution_count": null,
   "metadata": {},
   "outputs": [],
   "source": []
  },
  {
   "cell_type": "code",
   "execution_count": null,
   "metadata": {},
   "outputs": [],
   "source": []
  },
  {
   "cell_type": "code",
   "execution_count": null,
   "metadata": {},
   "outputs": [],
   "source": []
  },
  {
   "cell_type": "code",
   "execution_count": 65,
   "metadata": {},
   "outputs": [
    {
     "data": {
      "text/plain": [
       "False"
      ]
     },
     "execution_count": 65,
     "metadata": {},
     "output_type": "execute_result"
    }
   ],
   "source": [
    "ham==Con_H"
   ]
  },
  {
   "cell_type": "code",
   "execution_count": 66,
   "metadata": {},
   "outputs": [
    {
     "data": {
      "text/plain": [
       "{'IIIYY': 0.054942371399896106,\n",
       " 'IIZIX': 2.4109139170215297e-12,\n",
       " 'IIXZZ': 0.02839187635882136,\n",
       " 'IIZZX': 0.0630080420394397,\n",
       " 'IXIYY': -0.01978010056877635,\n",
       " 'IXZIX': -8.679661712133261e-13,\n",
       " 'IXIZZ': 0.00039289419593739876,\n",
       " 'IXZXI': -1.724050238035866e-14,\n",
       " 'IXXYY': -0.019724560280490088,\n",
       " 'IXXZZ': 0.009055897238770372,\n",
       " 'IXYYI': 0.005056211084212929,\n",
       " 'IXXIZ': 2.2187046826942236e-13,\n",
       " 'IXYYX': 0.019724560280490088,\n",
       " 'IXZZI': 0.00039289419593739876,\n",
       " 'IXIXZ': -1.724050238035866e-14,\n",
       " 'IXZZX': 0.005140813195008357,\n",
       " 'IYIIY': -0.005140813195008357,\n",
       " 'IYZYX': -2.2558287458041897e-13,\n",
       " 'IYIXY': -0.01978010056877635,\n",
       " 'IYXIY': 0.005056211084212929,\n",
       " 'IYXXY': -0.019724560280490088,\n",
       " 'IYYZX': -8.655290202390784e-13,\n",
       " 'IYYII': 0.009055897238770372,\n",
       " 'IYXYZ': 3.973798022869762e-13,\n",
       " 'IYYIX': -0.005056211084212929,\n",
       " 'IYYXI': 0.005056211084212929,\n",
       " 'IYYXX': 0.019724560280490088,\n",
       " 'IYXZY': 8.655290202390784e-13,\n",
       " 'IZIZX': 0.03738940915377441,\n",
       " 'IZXIZ': 0.060204123414570605,\n",
       " 'IZYYI': -2.641803680911823e-12,\n",
       " 'IZXZI': -0.040031128649856855,\n",
       " 'IZXZZ': 0.051839034974121345,\n",
       " 'IZZIX': -0.012196319613897683,\n",
       " 'IZIYY': 5.351839744879336e-13,\n",
       " 'IZZZX': -0.08820113157758526,\n",
       " 'XIIYY': 0.03469095413076054,\n",
       " 'XIZIX': 1.5222660030426763e-12,\n",
       " 'XIIZZ': -0.03137552498914712,\n",
       " 'XIZXI': 1.3767823980443371e-12,\n",
       " 'XIXYY': -0.01978010056877635,\n",
       " 'XIXZZ': 0.00039289419593739876,\n",
       " 'XIYYI': -0.005140813195008357,\n",
       " 'XIXIZ': -2.2558287458041897e-13,\n",
       " 'XIYYX': 0.01978010056877635,\n",
       " 'XIZZI': -0.03137552498914712,\n",
       " 'XIIXZ': 1.3767823980443371e-12,\n",
       " 'XIZZX': -0.030674843969878216,\n",
       " 'XXIZZ': 0.028391876358821354,\n",
       " 'XXZXI': -1.2458575794922167e-12,\n",
       " 'XXZIZ': 0.040031128649856855,\n",
       " 'XXZZI': -0.060204123414570605,\n",
       " 'XXIXZ': 2.641803680911823e-12,\n",
       " 'XXZZZ': 0.05183903497412129,\n",
       " 'XXIXI': -2.274737105073538e-12,\n",
       " 'XYYII': 0.03339245931519466,\n",
       " 'XYXYZ': 1.4652870423195868e-12,\n",
       " 'XZIIZ': 0.03137552498914712,\n",
       " 'XZIXZ': -0.030674843969878216,\n",
       " 'XZZZI': -1.34603597087517e-12,\n",
       " 'XZXIZ': -0.00039289419593739876,\n",
       " 'XZYYI': 1.724050238035866e-14,\n",
       " 'XZXXZ': 0.005140813195008357,\n",
       " 'XZZII': 0.03137552498914712,\n",
       " 'XZZIX': 0.030674843969878216,\n",
       " 'XZIYY': -1.34603597087517e-12,\n",
       " 'XZZXI': -0.030674843969878216,\n",
       " 'XZIZZ': -1.34603597087517e-12,\n",
       " 'XZZXX': 0.03469095413076054,\n",
       " 'YIIIY': 0.030674843969878216,\n",
       " 'YIZYX': 1.34603597087517e-12,\n",
       " 'YIIXY': 0.03469095413076054,\n",
       " 'YIXIY': -0.02041759246647393,\n",
       " 'YIXXY': -0.01978010056877635,\n",
       " 'YIYZX': -8.679661712133261e-13,\n",
       " 'YIYII': 0.00039289419593739876,\n",
       " 'YIXYZ': 1.724050238035866e-14,\n",
       " 'YIYIX': 0.02041759246647393,\n",
       " 'YIYXI': -0.005140813195008357,\n",
       " 'YIYXX': 0.01978010056877635,\n",
       " 'YIXZY': 8.679661712133261e-13,\n",
       " 'YXYII': -0.03339245931519466,\n",
       " 'YXXYZ': -1.4652870423195868e-12,\n",
       " 'YYIZZ': 0.028391876358821354,\n",
       " 'YYZXI': -1.2458575794922167e-12,\n",
       " 'YYZIZ': 0.040031128649856855,\n",
       " 'YYZZI': -0.060204123414570605,\n",
       " 'YYIXZ': 2.641803680911823e-12,\n",
       " 'YYZZZ': 0.05183903497412129,\n",
       " 'YYIXI': -2.274737105073538e-12,\n",
       " 'YZIYZ': 0.030674843969878216,\n",
       " 'YZIZY': -0.030674843969878216,\n",
       " 'YZXYZ': -0.005140813195008357,\n",
       " 'YZYII': 2.2558287458041897e-13,\n",
       " 'YZXZY': 0.02041759246647393,\n",
       " 'YZYXX': -8.959398106647617e-13,\n",
       " 'YZYZI': -0.00039289419593739876,\n",
       " 'YZYZX': -0.02041759246647393,\n",
       " 'YZXXY': 8.959398106647617e-13,\n",
       " 'YZZYI': 0.030674843969878216,\n",
       " 'YZZYX': -0.03469095413076054,\n",
       " 'YZIIY': 1.5222660030426763e-12,\n",
       " 'ZIIZX': 0.03738940915377441,\n",
       " 'ZIXIZ': -0.060204123414570605,\n",
       " 'ZIYYI': 2.641803680911823e-12,\n",
       " 'ZIXZI': 0.040031128649856855,\n",
       " 'ZIXZZ': -0.051839034974121345,\n",
       " 'ZIZIX': -0.012196319613897683,\n",
       " 'ZIIYY': 5.351839744879336e-13,\n",
       " 'ZIZZX': -0.08820113157758526,\n",
       " 'ZXIIZ': -0.00039289419593739876,\n",
       " 'ZXIXZ': 0.02041759246647393,\n",
       " 'ZXZZI': 8.959398106647617e-13,\n",
       " 'ZXXIZ': -0.009055897238770372,\n",
       " 'ZXYYI': 3.973798022869762e-13,\n",
       " 'ZXXXZ': -0.005056211084212929,\n",
       " 'ZXZII': -0.00039289419593739876,\n",
       " 'ZXZIX': -0.005140813195008357,\n",
       " 'ZXIYY': 2.2558287458041897e-13,\n",
       " 'ZXZXI': 0.02041759246647393,\n",
       " 'ZXIZZ': 8.959398106647617e-13,\n",
       " 'ZXZXX': -0.01978010056877635,\n",
       " 'ZYIYZ': -0.02041759246647393,\n",
       " 'ZYIZY': 0.005140813195008357,\n",
       " 'ZYXYZ': 0.005056211084212929,\n",
       " 'ZYYII': -2.2187046826942236e-13,\n",
       " 'ZYXZY': -0.005056211084212929,\n",
       " 'ZYYXX': 2.2187046826942236e-13,\n",
       " 'ZYYZI': -0.009055897238770372,\n",
       " 'ZYYZX': 0.005056211084212929,\n",
       " 'ZYXXY': -2.2187046826942236e-13,\n",
       " 'ZYZYI': -0.02041759246647393,\n",
       " 'ZYZYX': 0.01978010056877635,\n",
       " 'ZYIIY': -8.679661712133261e-13,\n",
       " 'ZZIYY': 0.054942371399896106,\n",
       " 'ZZZIX': 2.4109139170215297e-12,\n",
       " 'ZZXZZ': -0.02839187635882136,\n",
       " 'ZZZZX': 0.0630080420394397}"
      ]
     },
     "execution_count": 66,
     "metadata": {},
     "output_type": "execute_result"
    }
   ],
   "source": [
    "n_q = len(diagonalized_generators_GuA[0])\n",
    "rotated_Hcon = deepcopy(Con_H)\n",
    "\n",
    "# iteratively perform R rotation over all terms in orginal Hamiltonian\n",
    "for R in Rotations_list:\n",
    "    newly_rotated_H={}\n",
    "    for P in rotated_Hcon.keys():\n",
    "        lin_comb_Rot_P = c.apply_rotation(R,P) # linear combination of Paulis from R rotation on P\n",
    "        \n",
    "        for P_rot in lin_comb_Rot_P:\n",
    "            \n",
    "            if P_rot in newly_rotated_H.keys():\n",
    "                newly_rotated_H[P_rot]+=lin_comb_Rot_P[P_rot]*rotated_Hcon[P] # already in it hence +=\n",
    "            else:\n",
    "                newly_rotated_H[P_rot]=lin_comb_Rot_P[P_rot]*rotated_Hcon[P]\n",
    "                \n",
    "    rotated_Hcon = deepcopy(newly_rotated_H) ##<-- perform next R rotation on this H\n",
    "    \n",
    "rotated_Hcon"
   ]
  },
  {
   "cell_type": "code",
   "execution_count": 67,
   "metadata": {},
   "outputs": [
    {
     "name": "stdout",
     "output_type": "stream",
     "text": [
      "['ZIIII', 'IZIII', 'IIZII', 'IIIIZ', 'IIIZI']\n",
      "[ 1  1  1 -1  1]\n"
     ]
    },
    {
     "data": {
      "text/plain": [
       "{0: 1, 1: 1, 2: 1, 4: -1, 3: 1}"
      ]
     },
     "execution_count": 67,
     "metadata": {},
     "output_type": "execute_result"
    }
   ],
   "source": [
    "print(diagonalized_generators_GuA)\n",
    "print(eigen_vals_nonC_ground_state_GuA_ops)\n",
    "\n",
    "p1_dict = {Gener.index('Z'): p1 for Gener, p1 in zip(diagonalized_generators_GuA, eigen_vals_nonC_ground_state_GuA_ops)}\n",
    "p1_dict"
   ]
  },
  {
   "cell_type": "code",
   "execution_count": 68,
   "metadata": {},
   "outputs": [
    {
     "data": {
      "text/plain": [
       "{'IIIYY': 0.054942371399896106,\n",
       " 'IIIIX': 0.0630080420394397,\n",
       " 'IIXII': 0.02839187635882136,\n",
       " 'IXIYY': 2.2558287458041897e-13,\n",
       " 'IXIIX': -0.005140813195008357,\n",
       " 'IXIII': -8.959398106647617e-13,\n",
       " 'IXIXI': 0.02041759246647393,\n",
       " 'IXXYY': -0.019724560280490088,\n",
       " 'IXXII': 0.009055897238770372,\n",
       " 'IXYYI': 3.973798022869762e-13,\n",
       " 'IXYYX': 0.019724560280490088,\n",
       " 'IYIIY': -8.679661712133261e-13,\n",
       " 'IYIYX': 0.01978010056877635,\n",
       " 'IYIXY': -0.01978010056877635,\n",
       " 'IYXIY': -0.005056211084212929,\n",
       " 'IYXXY': -2.2187046826942236e-13,\n",
       " 'IYYIX': 0.005056211084212929,\n",
       " 'IYYII': -0.009055897238770372,\n",
       " 'IYXYI': -0.005056211084212929,\n",
       " 'IYYXI': 0.005056211084212929,\n",
       " 'IYYXX': 2.2187046826942236e-13,\n",
       " 'IIYYI': 2.641803680911823e-12,\n",
       " 'XIIYY': -1.34603597087517e-12,\n",
       " 'XIIIX': 0.030674843969878216,\n",
       " 'XIIII': 1.34603597087517e-12,\n",
       " 'XIIXI': -0.030674843969878216,\n",
       " 'XIXYY': -0.01978010056877635,\n",
       " 'XIXII': 0.00039289419593739876,\n",
       " 'XIYYI': 1.724050238035866e-14,\n",
       " 'XIYYX': 0.01978010056877635,\n",
       " 'XXIII': -0.05183903497412129,\n",
       " 'XXIXI': -2.274737105073538e-12,\n",
       " 'XYYII': 0.03339245931519466,\n",
       " 'XYXYI': -1.4652870423195868e-12,\n",
       " 'XIXXI': -0.005140813195008357,\n",
       " 'XIIXX': 0.03469095413076054,\n",
       " 'YIIIY': 1.5222660030426763e-12,\n",
       " 'YIIYX': -0.03469095413076054,\n",
       " 'YIIXY': 0.03469095413076054,\n",
       " 'YIXIY': 0.02041759246647393,\n",
       " 'YIXXY': 8.959398106647617e-13,\n",
       " 'YIYIX': -0.02041759246647393,\n",
       " 'YIYII': -0.00039289419593739876,\n",
       " 'YIXYI': 0.005140813195008357,\n",
       " 'YIYXI': -0.005140813195008357,\n",
       " 'YIYXX': -8.959398106647617e-13,\n",
       " 'YXYII': -0.03339245931519466,\n",
       " 'YXXYI': 1.4652870423195868e-12,\n",
       " 'YYIII': -0.05183903497412129,\n",
       " 'YYIXI': -2.274737105073538e-12,\n",
       " 'YIIYI': 0.030674843969878216,\n",
       " 'IXXXI': 0.005056211084212929,\n",
       " 'IXIXX': -0.01978010056877635,\n",
       " 'IYIYI': -0.02041759246647393}"
      ]
     },
     "execution_count": 68,
     "metadata": {},
     "output_type": "execute_result"
    }
   ],
   "source": [
    "new={}\n",
    "for P1_P2 in rotated_Hcon.keys():\n",
    "    Z_indices = [i for i, sigma in enumerate(P1_P2) if sigma=='Z']\n",
    "    \n",
    "    I1_P2=list(deepcopy(P1_P2))\n",
    "    sign=1\n",
    "    for ind in Z_indices:\n",
    "        sign*=p1_dict[ind]\n",
    "        I1_P2[ind]='I'\n",
    "    I1_P2=''.join(I1_P2)\n",
    "    \n",
    "    new[I1_P2]=rotated_Hcon[P1_P2]*sign\n",
    "    \n",
    "new    "
   ]
  },
  {
   "cell_type": "code",
   "execution_count": 69,
   "metadata": {},
   "outputs": [
    {
     "data": {
      "text/plain": [
       "133"
      ]
     },
     "execution_count": 69,
     "metadata": {},
     "output_type": "execute_result"
    }
   ],
   "source": [
    "len(rotated_Hcon)-len(diagonalized_generators_GuA)\n",
    "# len(new)"
   ]
  },
  {
   "cell_type": "code",
   "execution_count": 70,
   "metadata": {},
   "outputs": [
    {
     "data": {
      "text/plain": [
       "-0.29286417332557585"
      ]
     },
     "execution_count": 70,
     "metadata": {},
     "output_type": "execute_result"
    }
   ],
   "source": [
    "H = conv_scr.Get_Openfermion_Hamiltonian(new)\n",
    "sparseH = qubit_operator_sparse(H, n_qubits=hamiltonians[mol_key][1])\n",
    "sp.sparse.linalg.eigsh(sparseH, which='SA', k=1)[0][0]"
   ]
  },
  {
   "cell_type": "code",
   "execution_count": null,
   "metadata": {},
   "outputs": [],
   "source": []
  },
  {
   "cell_type": "code",
   "execution_count": null,
   "metadata": {},
   "outputs": [],
   "source": []
  },
  {
   "cell_type": "code",
   "execution_count": 71,
   "metadata": {},
   "outputs": [],
   "source": [
    "H_reduced_subspace={}\n",
    "for P in rotated_H.keys():\n",
    "    \n",
    "    sign=1\n",
    "    for P_known, eigen_val in zip(diagonalized_generators_GuA, eigen_vals_nonC_ground_state_GuA_ops):\n",
    "        Z_index = P_known.index('Z') # Find single qubit Z in generator!\n",
    "        \n",
    "        if P[Z_index]== 'Z': # compare location in genertor to P of rotated H\n",
    "            \n",
    "            sign*=eigen_val #<- eigenvalue of nonC ground state!\n",
    "            \n",
    "        elif P[Z_index]!= 'I': \n",
    "            sign=0 # MUST anti-commute!\n",
    "    \n",
    "    # build reduced Hilbert Space\n",
    "    if sign!=0:\n",
    "        P_new = list(deepcopy(P))\n",
    "        P_new[Z_index]='I'\n",
    "        P_new= ''.join(P_new)\n",
    "        \n",
    "        if P_new in H_reduced_subspace.keys():\n",
    "            H_reduced_subspace[P_new] = H_reduced_subspace[P_new] + rotated_H[P]*sign\n",
    "        else:\n",
    "            H_reduced_subspace[P_new] = rotated_H[P]*sign\n",
    "            \n",
    "#     else:\n",
    "#         H_reduced_subspace[P]=rotated_H[P]"
   ]
  },
  {
   "cell_type": "code",
   "execution_count": 72,
   "metadata": {},
   "outputs": [
    {
     "name": "stdout",
     "output_type": "stream",
     "text": [
      "176\n",
      "14\n"
     ]
    }
   ],
   "source": [
    "print(len(rotated_H))\n",
    "print(len(H_reduced_subspace))"
   ]
  },
  {
   "cell_type": "code",
   "execution_count": null,
   "metadata": {},
   "outputs": [],
   "source": []
  },
  {
   "cell_type": "code",
   "execution_count": 73,
   "metadata": {},
   "outputs": [],
   "source": [
    "# H_reduced_subspace"
   ]
  },
  {
   "cell_type": "code",
   "execution_count": 74,
   "metadata": {},
   "outputs": [
    {
     "data": {
      "text/plain": [
       "-1.8517678403392313"
      ]
     },
     "execution_count": 74,
     "metadata": {},
     "output_type": "execute_result"
    }
   ],
   "source": [
    "lowest_eigenvalue"
   ]
  },
  {
   "cell_type": "code",
   "execution_count": 75,
   "metadata": {},
   "outputs": [
    {
     "data": {
      "text/plain": [
       "-1.8517678403392321"
      ]
     },
     "execution_count": 75,
     "metadata": {},
     "output_type": "execute_result"
    }
   ],
   "source": [
    "from openfermion import qubit_operator_sparse\n",
    "import conversion_scripts as conv_scr\n",
    "import scipy as sp\n",
    "H = conv_scr.Get_Openfermion_Hamiltonian(H_reduced_subspace)\n",
    "sparseH = qubit_operator_sparse(H, n_qubits=hamiltonians[mol_key][1])\n",
    "sp.sparse.linalg.eigsh(sparseH, which='SA', k=1)[0][0]"
   ]
  },
  {
   "cell_type": "code",
   "execution_count": 76,
   "metadata": {},
   "outputs": [
    {
     "data": {
      "text/plain": [
       "-1.8517678403392315"
      ]
     },
     "execution_count": 76,
     "metadata": {},
     "output_type": "execute_result"
    }
   ],
   "source": [
    "c.quantum_correction(ham, #<- full Ham\n",
    "                     model,\n",
    "                     fn_form,\n",
    "                     ground_state_params)"
   ]
  },
  {
   "cell_type": "code",
   "execution_count": 77,
   "metadata": {},
   "outputs": [
    {
     "data": {
      "text/plain": [
       "-1.8517678403392313"
      ]
     },
     "execution_count": 77,
     "metadata": {},
     "output_type": "execute_result"
    }
   ],
   "source": [
    "lowest_eigenvalue"
   ]
  },
  {
   "cell_type": "code",
   "execution_count": null,
   "metadata": {},
   "outputs": [],
   "source": []
  },
  {
   "cell_type": "code",
   "execution_count": 78,
   "metadata": {},
   "outputs": [
    {
     "name": "stdout",
     "output_type": "stream",
     "text": [
      "FCI= -1.8764602035984903\n"
     ]
    }
   ],
   "source": [
    "Hfull = conv_scr.Get_Openfermion_Hamiltonian(ham)\n",
    "sparseHfull = qubit_operator_sparse(Hfull, n_qubits=hamiltonians[mol_key][1])\n",
    "FCI = sp.sparse.linalg.eigsh(sparseHfull, which='SA', k=1)[0][0]\n",
    "print('FCI=', FCI)"
   ]
  },
  {
   "cell_type": "code",
   "execution_count": 79,
   "metadata": {},
   "outputs": [
    {
     "data": {
      "text/plain": [
       "-1.8517678403392315"
      ]
     },
     "execution_count": 79,
     "metadata": {},
     "output_type": "execute_result"
    }
   ],
   "source": [
    "sp.sparse.linalg.eigsh(sparseH, which='SA', k=1)[0][0]"
   ]
  },
  {
   "cell_type": "code",
   "execution_count": null,
   "metadata": {},
   "outputs": [],
   "source": []
  },
  {
   "cell_type": "code",
   "execution_count": null,
   "metadata": {},
   "outputs": [],
   "source": []
  },
  {
   "cell_type": "code",
   "execution_count": null,
   "metadata": {},
   "outputs": [],
   "source": []
  },
  {
   "cell_type": "code",
   "execution_count": null,
   "metadata": {},
   "outputs": [],
   "source": []
  },
  {
   "cell_type": "code",
   "execution_count": null,
   "metadata": {},
   "outputs": [],
   "source": []
  },
  {
   "cell_type": "code",
   "execution_count": null,
   "metadata": {},
   "outputs": [],
   "source": []
  },
  {
   "cell_type": "code",
   "execution_count": null,
   "metadata": {},
   "outputs": [],
   "source": []
  },
  {
   "cell_type": "code",
   "execution_count": 80,
   "metadata": {},
   "outputs": [
    {
     "name": "stdout",
     "output_type": "stream",
     "text": [
      "['ZIIII', 'IZIII', 'IIZII', 'IIIIZ', 'IIIZI']\n",
      "[ 1  1  1 -1  1]\n"
     ]
    },
    {
     "data": {
      "text/plain": [
       "{0: 1, 1: 1, 2: 1, 4: -1, 3: 1}"
      ]
     },
     "execution_count": 80,
     "metadata": {},
     "output_type": "execute_result"
    }
   ],
   "source": [
    "print(diagonalized_generators_GuA)\n",
    "print(eigen_vals_nonC_ground_state_GuA_ops)\n",
    "\n",
    "p1_dict = {Gener.index('Z'): p1 for Gener, p1 in zip(diagonalized_generators_GuA, eigen_vals_nonC_ground_state_GuA_ops)}\n",
    "p1_dict"
   ]
  },
  {
   "cell_type": "code",
   "execution_count": 81,
   "metadata": {
    "code_folding": []
   },
   "outputs": [],
   "source": [
    "H_reduced_subspace={}\n",
    "for P in rotated_Hcon.keys():\n",
    "    \n",
    "    new_sign=1\n",
    "    P_new = list(P)\n",
    "    for index, sigma in enumerate(P):\n",
    "        if sigma == 'Z':\n",
    "            new_sign*=p1_dict[index]\n",
    "            P_new[index]='I'\n",
    "    \n",
    "    P_new = ''.join(P_new)\n",
    "    H_reduced_subspace[P_new] = rotated_Hcon[P]*new_sign"
   ]
  },
  {
   "cell_type": "code",
   "execution_count": 82,
   "metadata": {},
   "outputs": [
    {
     "ename": "AttributeError",
     "evalue": "module 'conversion_scripts' has no attribute 'Get_Operfermion_Hamiltonian'",
     "output_type": "error",
     "traceback": [
      "\u001b[0;31m---------------------------------------------------------------------------\u001b[0m",
      "\u001b[0;31mAttributeError\u001b[0m                            Traceback (most recent call last)",
      "\u001b[0;32m<ipython-input-82-2a007072083e>\u001b[0m in \u001b[0;36m<module>\u001b[0;34m\u001b[0m\n\u001b[1;32m      1\u001b[0m \u001b[0mH_reduced_subspace\u001b[0m\u001b[0;34m\u001b[0m\u001b[0;34m\u001b[0m\u001b[0m\n\u001b[1;32m      2\u001b[0m \u001b[0;34m\u001b[0m\u001b[0m\n\u001b[0;32m----> 3\u001b[0;31m \u001b[0mH_con_subspace\u001b[0m \u001b[0;34m=\u001b[0m \u001b[0mconv_scr\u001b[0m\u001b[0;34m.\u001b[0m\u001b[0mGet_Operfermion_Hamiltonian\u001b[0m\u001b[0;34m(\u001b[0m\u001b[0mH_reduced_subspace\u001b[0m\u001b[0;34m)\u001b[0m\u001b[0;34m\u001b[0m\u001b[0;34m\u001b[0m\u001b[0m\n\u001b[0m\u001b[1;32m      4\u001b[0m \u001b[0msparseH_con_subspace\u001b[0m \u001b[0;34m=\u001b[0m \u001b[0mqubit_operator_sparse\u001b[0m\u001b[0;34m(\u001b[0m\u001b[0mH_con_subspace\u001b[0m\u001b[0;34m,\u001b[0m \u001b[0mn_qubits\u001b[0m\u001b[0;34m=\u001b[0m\u001b[0mhamiltonians\u001b[0m\u001b[0;34m[\u001b[0m\u001b[0mmol_key\u001b[0m\u001b[0;34m]\u001b[0m\u001b[0;34m[\u001b[0m\u001b[0;36m1\u001b[0m\u001b[0;34m]\u001b[0m\u001b[0;34m)\u001b[0m\u001b[0;34m\u001b[0m\u001b[0;34m\u001b[0m\u001b[0m\n\u001b[1;32m      5\u001b[0m \u001b[0msp\u001b[0m\u001b[0;34m.\u001b[0m\u001b[0msparse\u001b[0m\u001b[0;34m.\u001b[0m\u001b[0mlinalg\u001b[0m\u001b[0;34m.\u001b[0m\u001b[0meigsh\u001b[0m\u001b[0;34m(\u001b[0m\u001b[0msparseH_con_subspace\u001b[0m\u001b[0;34m,\u001b[0m \u001b[0mwhich\u001b[0m\u001b[0;34m=\u001b[0m\u001b[0;34m'SA'\u001b[0m\u001b[0;34m,\u001b[0m \u001b[0mk\u001b[0m\u001b[0;34m=\u001b[0m\u001b[0;36m1\u001b[0m\u001b[0;34m)\u001b[0m\u001b[0;34m[\u001b[0m\u001b[0;36m0\u001b[0m\u001b[0;34m]\u001b[0m\u001b[0;34m[\u001b[0m\u001b[0;36m0\u001b[0m\u001b[0;34m]\u001b[0m\u001b[0;34m\u001b[0m\u001b[0;34m\u001b[0m\u001b[0m\n",
      "\u001b[0;31mAttributeError\u001b[0m: module 'conversion_scripts' has no attribute 'Get_Operfermion_Hamiltonian'"
     ]
    }
   ],
   "source": [
    "H_reduced_subspace\n",
    "\n",
    "H_con_subspace = conv_scr.Get_Operfermion_Hamiltonian(H_reduced_subspace)\n",
    "sparseH_con_subspace = qubit_operator_sparse(H_con_subspace, n_qubits=hamiltonians[mol_key][1])\n",
    "sp.sparse.linalg.eigsh(sparseH_con_subspace, which='SA', k=1)[0][0]"
   ]
  },
  {
   "cell_type": "code",
   "execution_count": null,
   "metadata": {},
   "outputs": [],
   "source": [
    "# H_reduced_subspace={}\n",
    "# for P in rotated_Hcon.keys():\n",
    "    \n",
    "#     p1=1\n",
    "#     for P_known, eigen_val in zip(diagonalized_generators_GuA, eigen_vals_nonC_ground_state_GuA_ops):\n",
    "#         Z_index = P_known.index('Z') # Find single qubit Z in generator!\n",
    "        \n",
    "#         if P[Z_index]== 'Z': # compare location in genertor to P of rotated H\n",
    "#             p1*=eigen_val #<- eigenvalue of nonC ground state!\n",
    "            \n",
    "#             P1_P2 = list(deepcopy(P))\n",
    "#             P1_P2[Z_index]='I'\n",
    "#             I1_P2= ''.join(P1_P2)\n",
    "            \n",
    "#             if I1_P2 in H_reduced_subspace.keys():\n",
    "#                 H_reduced_subspace[I1_P2] += rotated_Hcon[P]*p1\n",
    "#             else:\n",
    "#                 H_reduced_subspace[I1_P2] = rotated_Hcon[P]*p1\n",
    "            \n",
    "#         elif P[Z_index]== 'I':\n",
    "#             H_reduced_subspace[P] = rotated_Hcon[P]\n",
    "            \n",
    "#         elif P[Z_index]!= 'I': \n",
    "#             sign=0 # MUST anti-commute!\n",
    "#             H_reduced_subspace[P]=0\n",
    "    \n",
    "# #         # build reduced Hilbert Space\n",
    "# #         if sign!=0:\n",
    "# #             if P_new in H_reduced_subspace.keys():\n",
    "# #                 H_reduced_subspace[P_new] = H_reduced_subspace[P_new] + rotated_Hcon[P]*sign\n",
    "# #             else:\n",
    "# #                 H_reduced_subspace[P_new] = rotated_Hcon[P_new]*sign\n",
    "            \n",
    "# # #     else:\n",
    "# # #         H_reduced_subspace[P]=rotated_H[P]"
   ]
  },
  {
   "cell_type": "code",
   "execution_count": null,
   "metadata": {},
   "outputs": [],
   "source": [
    "H_reduced_subspace"
   ]
  },
  {
   "cell_type": "code",
   "execution_count": null,
   "metadata": {},
   "outputs": [],
   "source": [
    "nonCon_Energy = lowest_eigenvalue\n",
    "\n",
    "H_con_subspace = conv_scr.Get_Operfermion_Hamiltonian(H_reduced_subspace)\n",
    "sparseH_con_subspace = qubit_operator_sparse(H_con_subspace, n_qubits=hamiltonians[mol_key][1])\n",
    "Con_Energy = sp.sparse.linalg.eigsh(sparseH_con_subspace, which='SA', k=1)[0][0]\n",
    "\n",
    "Con_Energy+nonCon_Energy"
   ]
  },
  {
   "cell_type": "code",
   "execution_count": null,
   "metadata": {},
   "outputs": [],
   "source": [
    "FCI"
   ]
  },
  {
   "cell_type": "code",
   "execution_count": null,
   "metadata": {},
   "outputs": [],
   "source": [
    "c.quantum_correction(ham, #<- full Ham\n",
    "                     model,\n",
    "                     fn_form,\n",
    "                     ground_state_params)"
   ]
  },
  {
   "cell_type": "code",
   "execution_count": null,
   "metadata": {},
   "outputs": [],
   "source": [
    "FCI-lowest_eigenvalue"
   ]
  },
  {
   "cell_type": "code",
   "execution_count": null,
   "metadata": {},
   "outputs": [],
   "source": [
    "Con_Energy"
   ]
  },
  {
   "cell_type": "code",
   "execution_count": null,
   "metadata": {},
   "outputs": [],
   "source": []
  },
  {
   "cell_type": "code",
   "execution_count": null,
   "metadata": {},
   "outputs": [],
   "source": [
    "c.commute(P_gen, P)"
   ]
  },
  {
   "cell_type": "code",
   "execution_count": null,
   "metadata": {},
   "outputs": [],
   "source": []
  },
  {
   "cell_type": "code",
   "execution_count": null,
   "metadata": {},
   "outputs": [],
   "source": [
    "rotated_H"
   ]
  },
  {
   "cell_type": "code",
   "execution_count": null,
   "metadata": {},
   "outputs": [],
   "source": []
  },
  {
   "cell_type": "code",
   "execution_count": null,
   "metadata": {},
   "outputs": [],
   "source": [
    "# Ham_openF = conv_scr.Get_Openfermion_Hamiltonian(ham)\n",
    "Ham_openF = conv_scr.Get_Openfermion_Hamiltonian(Con_H)\n",
    "rotated_H = QubitOperator()\n",
    "for P_Rop in R_LCU:\n",
    "    for P_ham in Ham_openF:\n",
    "        # left multiply by R\n",
    "        new_P = P_Rop*P_ham\n",
    "        rotated_H+=new_P\n",
    "\n",
    "post_LCU_rot_ham = conv_scr.Openfermion_to_dict(rotated_H,  hamiltonians[mol_key][1])\n",
    "post_LCU_rot_ham"
   ]
  },
  {
   "cell_type": "code",
   "execution_count": null,
   "metadata": {},
   "outputs": [],
   "source": [
    "len(post_LCU_rot_ham)"
   ]
  },
  {
   "cell_type": "code",
   "execution_count": null,
   "metadata": {},
   "outputs": [],
   "source": [
    "from scipy.linalg import eig\n",
    "from scipy.linalg import eigh"
   ]
  },
  {
   "cell_type": "code",
   "execution_count": null,
   "metadata": {},
   "outputs": [],
   "source": [
    "Ham_LCU = conv_scr.Get_Openfermion_Hamiltonian(post_LCU_rot_ham)\n",
    "print(len(list(Ham_LCU)))\n",
    "\n",
    "\n",
    "sparseH_LCU = qubit_operator_sparse(Ham_LCU, n_qubits=hamiltonians[mol_key][1])\n",
    "sp.sparse.linalg.eigsh(sparseH_LCU, which='SA', k=1)[0][0]"
   ]
  },
  {
   "cell_type": "code",
   "execution_count": null,
   "metadata": {},
   "outputs": [],
   "source": [
    "eig_values, eig_vectors = eig(sparseH_LCU.todense())\n",
    "min(eig_values)"
   ]
  },
  {
   "cell_type": "code",
   "execution_count": null,
   "metadata": {},
   "outputs": [],
   "source": [
    "from Misc_functions import sparse_allclose\n",
    "\n",
    "sparse_allclose(sparseH_LCU, sparseH_LCU.conjugate().T)"
   ]
  },
  {
   "cell_type": "code",
   "execution_count": null,
   "metadata": {},
   "outputs": [],
   "source": [
    "# Ham_openF = conv_scr.Get_Openfermion_Hamiltonian(ham)\n",
    "newH = {}\n",
    "\n",
    "HH = Con_H # <--------\n",
    "\n",
    "for P_ham in HH: # <--------\n",
    "    # left multiply by R\n",
    "\n",
    "    rotated_out = c.apply_rotation(Rotations_list[0],P_ham)\n",
    "\n",
    "    for P_out in rotated_out.keys():\n",
    "        if P_out in newH.keys():\n",
    "            newH[P_out] = rotated_out[P_out] + rotated_out[P_out]*HH[P_ham]\n",
    "        else:\n",
    "            newH[P_out] = rotated_out[P_out]*HH[P_ham]\n"
   ]
  },
  {
   "cell_type": "code",
   "execution_count": null,
   "metadata": {},
   "outputs": [],
   "source": [
    "Ham_SEQROT = conv_scr.Get_Openfermion_Hamiltonian(newH)\n",
    "\n",
    "sparse_SEQROT = qubit_operator_sparse(Ham_SEQROT, n_qubits=hamiltonians[mol_key][1])\n",
    "sp.sparse.linalg.eigsh(sparse_SEQROT, which='SA', k=1)[0][0]\n",
    "\n",
    "eig_values, eig_vectors = eigh(sparse_SEQROT.todense())\n",
    "min(eig_values)"
   ]
  },
  {
   "cell_type": "code",
   "execution_count": null,
   "metadata": {},
   "outputs": [],
   "source": [
    "Rotations_list[0]"
   ]
  },
  {
   "cell_type": "code",
   "execution_count": null,
   "metadata": {},
   "outputs": [],
   "source": []
  },
  {
   "cell_type": "code",
   "execution_count": null,
   "metadata": {},
   "outputs": [],
   "source": [
    "from Misc_functions import sparse_allclose\n",
    "\n",
    "print(sparse_allclose(sparse_SEQROT, sparse_SEQROT.conj().T))\n",
    "print(sparse_allclose(sparse_SEQROT, sparseH_LCU))"
   ]
  },
  {
   "cell_type": "code",
   "execution_count": null,
   "metadata": {},
   "outputs": [],
   "source": [
    "np.allclose(sparse_SEQROT.todense(), sparseH_LCU.todense())"
   ]
  },
  {
   "cell_type": "code",
   "execution_count": null,
   "metadata": {},
   "outputs": [],
   "source": []
  },
  {
   "cell_type": "code",
   "execution_count": null,
   "metadata": {},
   "outputs": [],
   "source": [
    "from scipy.linalg import eigh\n",
    "eig_values, eig_vectors = eigh(sparse_SEQROT.todense())\n",
    "FCI_Energy = min(eig_values)\n",
    "FCI_Energy"
   ]
  },
  {
   "cell_type": "code",
   "execution_count": null,
   "metadata": {},
   "outputs": [],
   "source": [
    "eig_values, eig_vectors = eigh(sparseH_LCU.todense())\n",
    "FCI_Energy = min(eig_values)\n",
    "FCI_Energy"
   ]
  },
  {
   "cell_type": "code",
   "execution_count": null,
   "metadata": {},
   "outputs": [],
   "source": [
    "from scipy.linalg import eig\n",
    "eig_values, eig_vectors = eig(sparseH_LCU.todense())\n",
    "FCI_Energy = min(eig_values)\n",
    "np.abs(FCI_Energy)"
   ]
  },
  {
   "cell_type": "code",
   "execution_count": null,
   "metadata": {},
   "outputs": [],
   "source": []
  },
  {
   "cell_type": "code",
   "execution_count": null,
   "metadata": {},
   "outputs": [],
   "source": [
    "R_LCU_str = conv_scr.Openfermion_to_dict(R_LCU, N_Qubits)\n",
    "for op1 in Con_H:\n",
    "    op2 = list(R_LCU_str.keys())[1]\n",
    "    print(op1, op2, c.commute(op1, op2))\n",
    "    print('')\n",
    "# should commute with everything BAR script A term (last check)"
   ]
  },
  {
   "cell_type": "code",
   "execution_count": null,
   "metadata": {},
   "outputs": [],
   "source": []
  },
  {
   "cell_type": "code",
   "execution_count": null,
   "metadata": {},
   "outputs": [],
   "source": [
    "RotOp = QubitOperator()\n",
    "for R_Rop in R_LCU:\n",
    "    RotOp+=R_Rop\n",
    "    \n",
    "sparseH_RotOp = qubit_operator_sparse(RotOp, n_qubits=hamiltonians[mol_key][1])\n",
    "\n",
    "from Misc_functions import sparse_allclose\n",
    "sparse_allclose(sparseH_RotOp, sparseH_RotOp.conjugate().T)"
   ]
  },
  {
   "cell_type": "code",
   "execution_count": null,
   "metadata": {},
   "outputs": [],
   "source": [
    "rot_Hconj= sparseH_RotOp.conjugate().T.todense()\n",
    "rot_normal = sparseH_RotOp.todense()\n",
    "\n",
    "np.where(rot_normal!=rot_Hconj)"
   ]
  },
  {
   "cell_type": "code",
   "execution_count": null,
   "metadata": {},
   "outputs": [],
   "source": [
    "i,j = [1,1]\n",
    "print(rot_Hconj[i,j], rot_normal[i,j])"
   ]
  },
  {
   "cell_type": "code",
   "execution_count": null,
   "metadata": {},
   "outputs": [],
   "source": [
    "rot_Hconj[0,0]\n",
    "rot_normal[0,0]"
   ]
  },
  {
   "cell_type": "code",
   "execution_count": null,
   "metadata": {},
   "outputs": [],
   "source": []
  },
  {
   "cell_type": "code",
   "execution_count": null,
   "metadata": {},
   "outputs": [],
   "source": []
  },
  {
   "cell_type": "code",
   "execution_count": null,
   "metadata": {},
   "outputs": [],
   "source": []
  },
  {
   "cell_type": "code",
   "execution_count": null,
   "metadata": {},
   "outputs": [],
   "source": []
  },
  {
   "cell_type": "code",
   "execution_count": null,
   "metadata": {},
   "outputs": [],
   "source": [
    "# Ham_openF = conv_scr.Get_Openfermion_Hamiltonian(ham)\n",
    "Ham_openF = conv_scr.Get_Openfermion_Hamiltonian(Con_H)\n",
    "\n",
    "\n",
    "manual_rot_H = QubitOperator()\n",
    "ROP = QubitOperator()\n",
    "for P_Rop in R_LCU:\n",
    "    ROP+=P_Rop\n",
    "    for P_ham in Ham_openF:\n",
    "        # left multiply by R\n",
    "        new_P = P_Rop*P_ham\n",
    "        manual_rot_H+=new_P\n",
    "\n",
    "openF_rot_H = ROP*Ham_openF\n",
    "\n",
    "manual_rot_H==openF_rot_H"
   ]
  },
  {
   "cell_type": "code",
   "execution_count": null,
   "metadata": {},
   "outputs": [],
   "source": [
    "Ham_openF*openF_rot_H == openF_rot_H*Ham_openF"
   ]
  },
  {
   "cell_type": "code",
   "execution_count": null,
   "metadata": {},
   "outputs": [],
   "source": [
    "Ham_openF*openF_rot_H == -1*openF_rot_H*Ham_openF"
   ]
  },
  {
   "cell_type": "code",
   "execution_count": null,
   "metadata": {},
   "outputs": [],
   "source": [
    "QubitOperator('Z0')*QubitOperator('X0')"
   ]
  },
  {
   "cell_type": "code",
   "execution_count": null,
   "metadata": {},
   "outputs": [],
   "source": []
  },
  {
   "cell_type": "code",
   "execution_count": null,
   "metadata": {},
   "outputs": [],
   "source": [
    "AC_set = QubitOperator()\n",
    "for op_str in Ci1_list:\n",
    "    AC_set+=conv_scr.convert_op_str(op_str, 1)\n",
    "AC_set.renormalize() #<--- need to renormalize!\n",
    "AC_set"
   ]
  },
  {
   "cell_type": "code",
   "execution_count": null,
   "metadata": {},
   "outputs": [],
   "source": [
    "from openfermion.utils import hermitian_conjugated\n",
    "print(ROP)\n",
    "hermitian_conjugated(ROP)"
   ]
  },
  {
   "cell_type": "code",
   "execution_count": null,
   "metadata": {},
   "outputs": [],
   "source": [
    "ROP*AC_set*hermitian_conjugated(ROP)"
   ]
  },
  {
   "cell_type": "code",
   "execution_count": null,
   "metadata": {},
   "outputs": [],
   "source": [
    "R_mat = qubit_operator_sparse(ROP)\n",
    "\n",
    "out=R_mat.dot(R_mat.conj().T)\n",
    "np.allclose(out.todense(), np.eye(2**N_Qubits))"
   ]
  },
  {
   "cell_type": "code",
   "execution_count": null,
   "metadata": {},
   "outputs": [],
   "source": [
    "ROP*hermitian_conjugated(ROP)"
   ]
  },
  {
   "cell_type": "code",
   "execution_count": null,
   "metadata": {},
   "outputs": [],
   "source": []
  },
  {
   "cell_type": "code",
   "execution_count": null,
   "metadata": {},
   "outputs": [],
   "source": [
    "l1_norm = sum([abs(list(op.terms.values())[0]) for op in R_LCU])\n",
    "ROP_l1_norm = QubitOperator()\n",
    "for op in ROP:\n",
    "    PauliStr, const = tuple(*op.terms.items())#\n",
    "    new_coeff = np.sqrt(const/l1_norm)\n",
    "    ROP_l1_norm+=QubitOperator(PauliStr, new_coeff)\n",
    "ROP_l1_norm   "
   ]
  },
  {
   "cell_type": "code",
   "execution_count": null,
   "metadata": {},
   "outputs": [],
   "source": [
    "rot_H_l1_norm = ROP_l1_norm*Ham_openF\n",
    "\n",
    "l1_H_mat_sparse = qubit_operator_sparse(rot_H_l1_norm)\n",
    "\n",
    "sparse_allclose(l1_H_mat_sparse, l1_H_mat_sparse.conj().T)"
   ]
  },
  {
   "cell_type": "code",
   "execution_count": null,
   "metadata": {},
   "outputs": [],
   "source": [
    "ROP*hermitian_conjugated(ROP)"
   ]
  },
  {
   "cell_type": "code",
   "execution_count": null,
   "metadata": {},
   "outputs": [],
   "source": [
    "from openfermion.utils import hermitian_conjugated\n",
    "\n",
    "Ham_openF = conv_scr.Get_Openfermion_Hamiltonian(Con_H)\n",
    "Ham_openF==hermitian_conjugated(Ham_openF)"
   ]
  },
  {
   "cell_type": "code",
   "execution_count": null,
   "metadata": {},
   "outputs": [],
   "source": []
  },
  {
   "cell_type": "code",
   "execution_count": null,
   "metadata": {},
   "outputs": [],
   "source": [
    "test= ROP*Ham_openF*hermitian_conjugated(ROP)\n",
    "test==hermitian_conjugated(test)"
   ]
  },
  {
   "cell_type": "code",
   "execution_count": null,
   "metadata": {},
   "outputs": [],
   "source": []
  },
  {
   "cell_type": "code",
   "execution_count": null,
   "metadata": {},
   "outputs": [],
   "source": []
  },
  {
   "cell_type": "code",
   "execution_count": 83,
   "metadata": {},
   "outputs": [
    {
     "ename": "SyntaxError",
     "evalue": "invalid syntax (<ipython-input-83-3fe1997a3d6d>, line 3)",
     "output_type": "error",
     "traceback": [
      "\u001b[0;36m  File \u001b[0;32m\"<ipython-input-83-3fe1997a3d6d>\"\u001b[0;36m, line \u001b[0;32m3\u001b[0m\n\u001b[0;31m    n_qubits=\u001b[0m\n\u001b[0m             ^\u001b[0m\n\u001b[0;31mSyntaxError\u001b[0m\u001b[0;31m:\u001b[0m invalid syntax\n"
     ]
    }
   ],
   "source": []
  },
  {
   "cell_type": "code",
   "execution_count": null,
   "metadata": {},
   "outputs": [],
   "source": []
  }
 ],
 "metadata": {
  "kernelspec": {
   "display_name": "Python 3",
   "language": "python",
   "name": "python3"
  },
  "language_info": {
   "codemirror_mode": {
    "name": "ipython",
    "version": 3
   },
   "file_extension": ".py",
   "mimetype": "text/x-python",
   "name": "python",
   "nbconvert_exporter": "python",
   "pygments_lexer": "ipython3",
   "version": "3.8.5"
  }
 },
 "nbformat": 4,
 "nbformat_minor": 2
}
