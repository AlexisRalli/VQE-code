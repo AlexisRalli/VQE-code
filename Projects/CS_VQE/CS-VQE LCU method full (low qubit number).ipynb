{
 "cells": [
  {
   "cell_type": "code",
   "execution_count": 2,
   "metadata": {},
   "outputs": [],
   "source": [
    "import numpy as np\n",
    "import cs_vqe as c\n",
    "import ast\n",
    "import os\n",
    "from tqdm import tqdm\n",
    "\n",
    "import cs_vqe_with_LCU as c_LCU"
   ]
  },
  {
   "cell_type": "code",
   "execution_count": 3,
   "metadata": {},
   "outputs": [],
   "source": [
    "from tqdm.notebook import tqdm"
   ]
  },
  {
   "cell_type": "code",
   "execution_count": 4,
   "metadata": {},
   "outputs": [],
   "source": [
    "# with open(\"hamiltonians.txt\", 'r') as input_file:\n",
    "#     hamiltonians = ast.literal_eval(input_file.read())\n",
    "    \n",
    "working_dir = os.getcwd()\n",
    "data_dir = os.path.join(working_dir, 'data')\n",
    "data_hamiltonians_file = os.path.join(data_dir, 'hamiltonians.txt')\n",
    "\n",
    "\n",
    "with open(data_hamiltonians_file, 'r') as input_file:\n",
    "    hamiltonians = ast.literal_eval(input_file.read())"
   ]
  },
  {
   "cell_type": "code",
   "execution_count": 5,
   "metadata": {
    "scrolled": true
   },
   "outputs": [
    {
     "name": "stdout",
     "output_type": "stream",
     "text": [
      "H2-S1_STO-3G_singlet          n_qubits:  18   \n",
      "C1-O1_STO-3G_singlet          n_qubits:  16   \n",
      "H1-Cl1_STO-3G_singlet         n_qubits:  16   \n",
      "H1-Na1_STO-3G_singlet         n_qubits:  16   \n",
      "H2-Mg1_STO-3G_singlet         n_qubits:  17   \n",
      "H1-F1_3-21G_singlet           n_qubits:  18   \n",
      "H1-Li1_3-21G_singlet          n_qubits:  18   \n",
      "Be1_STO-3G_singlet            n_qubits:  5    \n",
      "H1-F1_STO-3G_singlet          n_qubits:  8    \n",
      "H1-Li1_STO-3G_singlet         n_qubits:  8    \n",
      "Ar1_STO-3G_singlet            n_qubits:  13   \n",
      "F2_STO-3G_singlet             n_qubits:  15   \n",
      "H1-O1_STO-3G_singlet          n_qubits:  8    \n",
      "H2-Be1_STO-3G_singlet         n_qubits:  9    \n",
      "H2-O1_STO-3G_singlet          n_qubits:  10   \n",
      "H2_3-21G_singlet              n_qubits:  5    \n",
      "H2_6-31G_singlet              n_qubits:  5    \n",
      "H3-N1_STO-3G_singlet          n_qubits:  13   \n",
      "H4-C1_STO-3G_singlet          n_qubits:  14   \n",
      "Mg1_STO-3G_singlet            n_qubits:  13   \n",
      "N2_STO-3G_singlet             n_qubits:  15   \n",
      "Ne1_STO-3G_singlet            n_qubits:  5    \n",
      "O2_STO-3G_singlet             n_qubits:  15   \n",
      "H1-Li1-O1_STO-3G_singlet      n_qubits:  18   \n",
      "H1-He1_STO-3G_singlet         n_qubits:  2    \n",
      "H3_STO-3G_singlet_1+          n_qubits:  3    \n",
      "H1-He1_3-21G_singlet_1+       n_qubits:  6    \n",
      "H3_3-21G_singlet_1+           n_qubits:  9    \n",
      "H4-N1_STO-3G_singlet_1+       n_qubits:  14   \n"
     ]
    }
   ],
   "source": [
    "for key in hamiltonians.keys():\n",
    "    print(f\"{key: <25}     n_qubits:  {hamiltonians[key][1]:<5.0f}\")"
   ]
  },
  {
   "cell_type": "code",
   "execution_count": 12,
   "metadata": {},
   "outputs": [],
   "source": [
    "molecules_and_qubits = [(mol_key, hamiltonians[mol_key][1])for mol_key in hamiltonians]\n",
    "xx = sorted(molecules_and_qubits, key= lambda x: x[1])"
   ]
  },
  {
   "cell_type": "code",
   "execution_count": 19,
   "metadata": {},
   "outputs": [
    {
     "data": {
      "text/plain": [
       "29"
      ]
     },
     "execution_count": 19,
     "metadata": {},
     "output_type": "execute_result"
    }
   ],
   "source": [
    "for i in range(1,30):\n",
    "    "
   ]
  },
  {
   "cell_type": "code",
   "execution_count": 20,
   "metadata": {},
   "outputs": [
    {
     "data": {
      "text/plain": [
       "29"
      ]
     },
     "execution_count": 20,
     "metadata": {},
     "output_type": "execute_result"
    }
   ],
   "source": [
    "len(list(range(1,30)))"
   ]
  },
  {
   "cell_type": "code",
   "execution_count": 18,
   "metadata": {},
   "outputs": [
    {
     "data": {
      "text/plain": [
       "'H4-C1_STO-3G_singlet'"
      ]
     },
     "execution_count": 18,
     "metadata": {},
     "output_type": "execute_result"
    }
   ],
   "source": [
    "xx[16][0]"
   ]
  },
  {
   "cell_type": "code",
   "execution_count": 5,
   "metadata": {},
   "outputs": [],
   "source": [
    "speciesname = 'H1-F1_STO-3G_singlet'\n",
    "\n",
    "encoding = hamiltonians[speciesname][0] # in this dataset, always 'JW' for Jordan-Wigner, but leaves room for trying Bravyi-Kitaev as well\n",
    "n_qubits = hamiltonians[speciesname][1] # number of qubits (all of these Hamiltonians have been tapered for molecular symmetries)\n",
    "ham = hamiltonians[speciesname][2] # full Hamiltonian\n",
    "ham_noncon = hamiltonians[speciesname][3] # noncontextual part of Hamiltonian, found by greedy DFS\n",
    "true_gs = hamiltonians[speciesname][4] # ground state energy of full Hamiltonian (in Hartree)\n",
    "gs_noncon = hamiltonians[speciesname][5] # list containing information about noncontextual ground state: zeroth entry is ground state energy of noncontextual part of Hamiltonian\n"
   ]
  },
  {
   "cell_type": "code",
   "execution_count": 6,
   "metadata": {},
   "outputs": [],
   "source": [
    "data_csvqe_results_file = os.path.join(data_dir, 'csvqe_results.txt')\n",
    "with open(data_csvqe_results_file, 'r') as input_file:\n",
    "    csvqe_results = ast.literal_eval(input_file.read())"
   ]
  },
  {
   "cell_type": "code",
   "execution_count": 7,
   "metadata": {},
   "outputs": [
    {
     "name": "stdout",
     "output_type": "stream",
     "text": [
      "Ar1_STO-3G_singlet\n",
      "Ne1_STO-3G_singlet\n",
      "H1-He1_STO-3G_singlet\n"
     ]
    }
   ],
   "source": [
    "for key in hamiltonians:\n",
    "    if key not in csvqe_results.keys():\n",
    "        print(key)"
   ]
  },
  {
   "cell_type": "code",
   "execution_count": 8,
   "metadata": {},
   "outputs": [
    {
     "data": {
      "application/vnd.jupyter.widget-view+json": {
       "model_id": "a50336cf5e5043a190766282415da0e1",
       "version_major": 2,
       "version_minor": 0
      },
      "text/plain": [
       "HBox(children=(HTML(value='running CS-VQE calcuations'), FloatProgress(value=0.0, max=29.0), HTML(value='')))"
      ]
     },
     "metadata": {},
     "output_type": "display_data"
    },
    {
     "name": "stdout",
     "output_type": "stream",
     "text": [
      "\n"
     ]
    }
   ],
   "source": [
    "N_index=0\n",
    "check_reduction=False\n",
    "\n",
    "csvqe_LCU_output={}\n",
    "csvqe_standard_output={}\n",
    "\n",
    "for mol_key in tqdm(hamiltonians.keys(), ascii=True, desc='running CS-VQE calcuations'):\n",
    "\n",
    "    if mol_key not in csvqe_results.keys():\n",
    "        continue\n",
    "    \n",
    "    N_Qubits= hamiltonians[mol_key][1]\n",
    "    \n",
    "    if N_Qubits>7:\n",
    "        continue\n",
    "    else:\n",
    "        \n",
    "#         gs_noncon = hamiltonians[mol_key][5]\n",
    "#         model = [gs_noncon[1], gs_noncon[2], gs_noncon[3]]\n",
    "#         fn_form = gs_noncon[4]\n",
    "\n",
    "        ham = hamiltonians[mol_key][2] # full Hamiltonian\n",
    "        true_gs = hamiltonians[mol_key][4] # ground state energy of full Hamiltonian (in Hartree)\n",
    "        ham_noncon = hamiltonians[mol_key][3]  # noncontextual part of Hamiltonian, found by greedy DFS\n",
    "        \n",
    "        new_way = c_LCU.csvqe_approximations_heuristic_LCU(ham,\n",
    "                                   ham_noncon,\n",
    "                                   N_Qubits, \n",
    "                                   true_gs, \n",
    "                                   N_index, \n",
    "                                   check_reduction=check_reduction)\n",
    "        \n",
    "        old_way = c.csvqe_approximations_heuristic(ham,\n",
    "                                   ham_noncon,\n",
    "                                   N_Qubits, \n",
    "                                   true_gs)\n",
    "        \n",
    "        csvqe_LCU_output[mol_key] = new_way\n",
    "        csvqe_standard_output[mol_key] = old_way"
   ]
  },
  {
   "cell_type": "code",
   "execution_count": null,
   "metadata": {},
   "outputs": [],
   "source": []
  },
  {
   "cell_type": "code",
   "execution_count": 9,
   "metadata": {},
   "outputs": [],
   "source": [
    "mol_key = 'Be1_STO-3G_singlet'\n",
    "\n",
    "fci_energy = csvqe_LCU_output[mol_key][0]\n",
    "\n",
    "# LCU\n",
    "energy = csvqe_LCU_output[mol_key][1]\n",
    "error = csvqe_LCU_output[mol_key][2] # fci - energy\n",
    "best_order = csvqe_LCU_output[mol_key][3]\n",
    "\n",
    "# standard\n",
    "energy_std = csvqe_standard_output[mol_key][1]\n",
    "error_std = csvqe_standard_output[mol_key][2] # fci - energy\n",
    "best_order_std = csvqe_standard_output[mol_key][3]\n"
   ]
  },
  {
   "cell_type": "code",
   "execution_count": null,
   "metadata": {},
   "outputs": [],
   "source": []
  },
  {
   "cell_type": "code",
   "execution_count": 10,
   "metadata": {},
   "outputs": [],
   "source": [
    "%matplotlib inline\n",
    "import matplotlib.pyplot as plt"
   ]
  },
  {
   "cell_type": "code",
   "execution_count": 11,
   "metadata": {
    "scrolled": false
   },
   "outputs": [
    {
     "name": "stdout",
     "output_type": "stream",
     "text": [
      "#################################################\n",
      "Be1_STO-3G_singlet            n_qubits:  5    \n"
     ]
    },
    {
     "data": {
      "image/png": "[encoded data removed]",
      "text/plain": [
       "<Figure size 600x400 with 1 Axes>"
      ]
     },
     "metadata": {
      "needs_background": "light"
     },
     "output_type": "display_data"
    },
    {
     "name": "stdout",
     "output_type": "stream",
     "text": [
      "################################################# \n",
      " \n",
      "\n",
      "#################################################\n",
      "H2_3-21G_singlet              n_qubits:  5    \n"
     ]
    },
    {
     "data": {
      "image/png": "[encoded data removed]",
      "text/plain": [
       "<Figure size 600x400 with 1 Axes>"
      ]
     },
     "metadata": {
      "needs_background": "light"
     },
     "output_type": "display_data"
    },
    {
     "name": "stdout",
     "output_type": "stream",
     "text": [
      "################################################# \n",
      " \n",
      "\n",
      "#################################################\n",
      "H2_6-31G_singlet              n_qubits:  5    \n"
     ]
    },
    {
     "data": {
      "image/png": "[encoded data removed]",
      "text/plain": [
       "<Figure size 600x400 with 1 Axes>"
      ]
     },
     "metadata": {
      "needs_background": "light"
     },
     "output_type": "display_data"
    },
    {
     "name": "stdout",
     "output_type": "stream",
     "text": [
      "################################################# \n",
      " \n",
      "\n",
      "#################################################\n",
      "H3_STO-3G_singlet_1+          n_qubits:  3    \n"
     ]
    },
    {
     "data": {
      "image/png": "[encoded data removed]",
      "text/plain": [
       "<Figure size 600x400 with 1 Axes>"
      ]
     },
     "metadata": {
      "needs_background": "light"
     },
     "output_type": "display_data"
    },
    {
     "name": "stdout",
     "output_type": "stream",
     "text": [
      "################################################# \n",
      " \n",
      "\n",
      "#################################################\n",
      "H1-He1_3-21G_singlet_1+       n_qubits:  6    \n"
     ]
    },
    {
     "data": {
      "image/png": "[encoded data removed]",
      "text/plain": [
       "<Figure size 600x400 with 1 Axes>"
      ]
     },
     "metadata": {
      "needs_background": "light"
     },
     "output_type": "display_data"
    },
    {
     "name": "stdout",
     "output_type": "stream",
     "text": [
      "################################################# \n",
      " \n",
      "\n"
     ]
    }
   ],
   "source": [
    "for mol_key in csvqe_LCU_output.keys():\n",
    "    \n",
    "    \n",
    "    N_Qubits= hamiltonians[mol_key][1]\n",
    "    \n",
    "    ### RESULTS\n",
    "    fci_energy = csvqe_LCU_output[mol_key][0]\n",
    "    \n",
    "#     energy_LCU = csvqe_LCU_output[mol_key][1]\n",
    "    error_LCU = csvqe_LCU_output[mol_key][2] # fci - energy\n",
    "    best_order_LCU = csvqe_LCU_output[mol_key][3]\n",
    "    \n",
    "#     energy_std = csvqe_LCU_output[mol_key][1]\n",
    "    error_std = csvqe_standard_output[mol_key][2] # fci - energy\n",
    "    best_order_std = csvqe_standard_output[mol_key][3]\n",
    "    \n",
    "    \n",
    "#     x_qubits = list(range(N_Qubits+1)) #+1 for no qubit case!\n",
    "    x_qubits_LCU = list(range(len(error_LCU)))\n",
    "    x_qubits_std = list(range(len(error_std)))\n",
    "    \n",
    "    print('#################################################')\n",
    "    print(f\"{mol_key: <25}     n_qubits:  {N_Qubits:<5.0f}\")\n",
    "\n",
    "    plt.figure(dpi=100)\n",
    "    plt.plot(x_qubits_LCU, error_LCU, marker='o', color='b', label='LCU script A')\n",
    "    plt.plot(x_qubits_std, error_std, marker='x', color='r', label='standard script A')\n",
    "    plt.xlabel('number of qubits')\n",
    "    plt.ylabel('Error (Ha)')\n",
    "    \n",
    "    plt.axhline(y=1.6e-3, color='black', linestyle='-', label='chemical accuracy')\n",
    "    \n",
    "    plt.title(mol_key)\n",
    "    plt.legend()\n",
    "    plt.show()\n",
    "    print('################################################# \\n \\n')"
   ]
  },
  {
   "cell_type": "code",
   "execution_count": 12,
   "metadata": {},
   "outputs": [
    {
     "data": {
      "text/plain": [
       "[['ZIIIIIII',\n",
       "  'IZIIIIII',\n",
       "  'IIIZIIII',\n",
       "  'IIIIZIII',\n",
       "  'IIIIIZII',\n",
       "  'IIIIIIZI',\n",
       "  'IIIIIIIZ'],\n",
       " ['IIXZZZZZ', 'IIZIIIII'],\n",
       " {'IIIIIIII': [[], [], 1],\n",
       "  'IIIIIIIZ': [['IIIIIIIZ'], [], 1],\n",
       "  'IIIIIIZI': [['IIIIIIZI'], [], 1],\n",
       "  'IZIIIIII': [['IZIIIIII'], [], 1],\n",
       "  'ZIIIIIII': [['ZIIIIIII'], [], 1],\n",
       "  'IIIIIZII': [['IIIIIZII'], [], 1],\n",
       "  'IIIIZIII': [['IIIIZIII'], [], 1],\n",
       "  'IIIZIIII': [['IIIZIIII'], [], 1],\n",
       "  'IIZIIIII': [[], ['IIZIIIII'], 1],\n",
       "  'IIIIIIZZ': [['IIIIIIZI', 'IIIIIIIZ'], [], 1],\n",
       "  'ZZIZIZIZ': [['ZIIIIIII', 'IZIIIIII', 'IIIZIIII', 'IIIIIZII', 'IIIIIIIZ'],\n",
       "   [],\n",
       "   1],\n",
       "  'ZZZIZIZI': [['ZIIIIIII', 'IZIIIIII', 'IIIIZIII', 'IIIIIIZI'],\n",
       "   ['IIZIIIII'],\n",
       "   1],\n",
       "  'ZZIIIIII': [['ZIIIIIII', 'IZIIIIII'], [], 1],\n",
       "  'IZIIIIIZ': [['IZIIIIII', 'IIIIIIIZ'], [], 1],\n",
       "  'IZIIIIZI': [['IZIIIIII', 'IIIIIIZI'], [], 1],\n",
       "  'ZIIIIIIZ': [['ZIIIIIII', 'IIIIIIIZ'], [], 1],\n",
       "  'ZIIIIIZI': [['ZIIIIIII', 'IIIIIIZI'], [], 1],\n",
       "  'IIXZZZZZ': [[], ['IIXZZZZZ'], 1],\n",
       "  'ZZXZIZIZ': [['ZIIIIIII', 'IZIIIIII', 'IIIIZIII', 'IIIIIIZI'],\n",
       "   ['IIXZZZZZ'],\n",
       "   1],\n",
       "  'IZIIIZII': [['IZIIIIII', 'IIIIIZII'], [], 1],\n",
       "  'IZIIZIII': [['IZIIIIII', 'IIIIZIII'], [], 1],\n",
       "  'ZIIIIZII': [['ZIIIIIII', 'IIIIIZII'], [], 1],\n",
       "  'ZIIIZIII': [['ZIIIIIII', 'IIIIZIII'], [], 1],\n",
       "  'IZIZIIII': [['IZIIIIII', 'IIIZIIII'], [], 1],\n",
       "  'IZZIIIII': [['IZIIIIII'], ['IIZIIIII'], 1],\n",
       "  'ZIIZIIII': [['ZIIIIIII', 'IIIZIIII'], [], 1],\n",
       "  'ZIZIIIII': [['ZIIIIIII'], ['IIZIIIII'], 1],\n",
       "  'IZIZIZIZ': [['IZIIIIII', 'IIIZIIII', 'IIIIIZII', 'IIIIIIIZ'], [], 1],\n",
       "  'IZZIZIZI': [['IZIIIIII', 'IIIIZIII', 'IIIIIIZI'], ['IIZIIIII'], 1],\n",
       "  'ZIIZIZIZ': [['ZIIIIIII', 'IIIZIIII', 'IIIIIZII', 'IIIIIIIZ'], [], 1],\n",
       "  'ZIZIZIZI': [['ZIIIIIII', 'IIIIZIII', 'IIIIIIZI'], ['IIZIIIII'], 1],\n",
       "  'IIIIIZZI': [['IIIIIZII', 'IIIIIIZI'], [], 1],\n",
       "  'IIIIZIIZ': [['IIIIZIII', 'IIIIIIIZ'], [], 1],\n",
       "  'IIIIIZIZ': [['IIIIIZII', 'IIIIIIIZ'], [], 1],\n",
       "  'IIIIZIZI': [['IIIIZIII', 'IIIIIIZI'], [], 1],\n",
       "  'IIIZIIZI': [['IIIZIIII', 'IIIIIIZI'], [], 1],\n",
       "  'IIZIIIIZ': [['IIIIIIIZ'], ['IIZIIIII'], 1],\n",
       "  'IIIZIIIZ': [['IIIZIIII', 'IIIIIIIZ'], [], 1],\n",
       "  'IIZIIIZI': [['IIIIIIZI'], ['IIZIIIII'], 1],\n",
       "  'ZZIZIZZZ': [['ZIIIIIII',\n",
       "    'IZIIIIII',\n",
       "    'IIIZIIII',\n",
       "    'IIIIIZII',\n",
       "    'IIIIIIZI',\n",
       "    'IIIIIIIZ'],\n",
       "   [],\n",
       "   1],\n",
       "  'ZZZIZIZZ': [['ZIIIIIII', 'IZIIIIII', 'IIIIZIII', 'IIIIIIZI', 'IIIIIIIZ'],\n",
       "   ['IIZIIIII'],\n",
       "   1],\n",
       "  'ZZIZIZII': [['ZIIIIIII', 'IZIIIIII', 'IIIZIIII', 'IIIIIZII'], [], 1],\n",
       "  'ZZZIZIII': [['ZIIIIIII', 'IZIIIIII', 'IIIIZIII'], ['IIZIIIII'], 1],\n",
       "  'IIIIZZII': [['IIIIZIII', 'IIIIIZII'], [], 1],\n",
       "  'IIZZIIII': [['IIIZIIII'], ['IIZIIIII'], 1],\n",
       "  'IIIZZIII': [['IIIZIIII', 'IIIIZIII'], [], 1],\n",
       "  'IIZIIZII': [['IIIIIZII'], ['IIZIIIII'], 1],\n",
       "  'IIZZZZZZ': [['IIIZIIII', 'IIIIZIII', 'IIIIIZII', 'IIIIIIZI', 'IIIIIIIZ'],\n",
       "   ['IIZIIIII'],\n",
       "   1],\n",
       "  'ZZIZZZIZ': [['ZIIIIIII',\n",
       "    'IZIIIIII',\n",
       "    'IIIZIIII',\n",
       "    'IIIIZIII',\n",
       "    'IIIIIZII',\n",
       "    'IIIIIIIZ'],\n",
       "   [],\n",
       "   1],\n",
       "  'ZZZIZZZI': [['ZIIIIIII', 'IZIIIIII', 'IIIIZIII', 'IIIIIZII', 'IIIIIIZI'],\n",
       "   ['IIZIIIII'],\n",
       "   1],\n",
       "  'ZZZZIZIZ': [['ZIIIIIII', 'IZIIIIII', 'IIIZIIII', 'IIIIIZII', 'IIIIIIIZ'],\n",
       "   ['IIZIIIII'],\n",
       "   1],\n",
       "  'ZZZZZIZI': [['ZIIIIIII', 'IZIIIIII', 'IIIZIIII', 'IIIIZIII', 'IIIIIIZI'],\n",
       "   ['IIZIIIII'],\n",
       "   1],\n",
       "  'IIIZIZII': [['IIIZIIII', 'IIIIIZII'], [], 1],\n",
       "  'IIZIZIII': [['IIIIZIII'], ['IIZIIIII'], 1],\n",
       "  'ZZIZIIIZ': [['ZIIIIIII', 'IZIIIIII', 'IIIZIIII', 'IIIIIIIZ'], [], 1],\n",
       "  'ZZZIIIZI': [['ZIIIIIII', 'IZIIIIII', 'IIIIIIZI'], ['IIZIIIII'], 1],\n",
       "  'ZZIIIZIZ': [['ZIIIIIII', 'IZIIIIII', 'IIIIIZII', 'IIIIIIIZ'], [], 1],\n",
       "  'ZZIIZIZI': [['ZIIIIIII', 'IZIIIIII', 'IIIIZIII', 'IIIIIIZI'], [], 1],\n",
       "  'IZXZIZIZ': [['IZIIIIII', 'IIIIZIII', 'IIIIIIZI'], ['IIXZZZZZ'], 1],\n",
       "  'IZXZZZZZ': [['IZIIIIII'], ['IIXZZZZZ'], 1],\n",
       "  'ZIXZIZIZ': [['ZIIIIIII', 'IIIIZIII', 'IIIIIIZI'], ['IIXZZZZZ'], 1],\n",
       "  'ZIXZZZZZ': [['ZIIIIIII'], ['IIXZZZZZ'], 1],\n",
       "  'IIXZZZZI': [['IIIIIIIZ'], ['IIXZZZZZ'], 1],\n",
       "  'ZZXZIZII': [['ZIIIIIII', 'IZIIIIII', 'IIIIZIII', 'IIIIIIZI', 'IIIIIIIZ'],\n",
       "   ['IIXZZZZZ'],\n",
       "   1],\n",
       "  'IIXZZZIZ': [['IIIIIIZI'], ['IIXZZZZZ'], 1],\n",
       "  'ZZXZIZZZ': [['ZIIIIIII', 'IZIIIIII', 'IIIIZIII'], ['IIXZZZZZ'], 1],\n",
       "  'IIXZZIZZ': [['IIIIIZII'], ['IIXZZZZZ'], 1],\n",
       "  'ZZXZIIIZ': [['ZIIIIIII', 'IZIIIIII', 'IIIIZIII', 'IIIIIZII', 'IIIIIIZI'],\n",
       "   ['IIXZZZZZ'],\n",
       "   1],\n",
       "  'IIXIZZZZ': [['IIIZIIII'], ['IIXZZZZZ'], 1],\n",
       "  'ZZXIIZIZ': [['ZIIIIIII', 'IZIIIIII', 'IIIZIIII', 'IIIIZIII', 'IIIIIIZI'],\n",
       "   ['IIXZZZZZ'],\n",
       "   1],\n",
       "  'IIXZIZZZ': [['IIIIZIII'], ['IIXZZZZZ'], 1],\n",
       "  'ZZXZZZIZ': [['ZIIIIIII', 'IZIIIIII', 'IIIIIIZI'], ['IIXZZZZZ'], 1],\n",
       "  'IIXIIIII': [['IIIZIIII', 'IIIIZIII', 'IIIIIZII', 'IIIIIIZI', 'IIIIIIIZ'],\n",
       "   ['IIXZZZZZ'],\n",
       "   1],\n",
       "  'ZZXIZIZI': [['ZIIIIIII', 'IZIIIIII', 'IIIZIIII', 'IIIIIZII', 'IIIIIIIZ'],\n",
       "   ['IIXZZZZZ'],\n",
       "   1]}]"
      ]
     },
     "execution_count": 12,
     "metadata": {},
     "output_type": "execute_result"
    }
   ],
   "source": [
    "list(gs_noncon[3])"
   ]
  },
  {
   "cell_type": "code",
   "execution_count": null,
   "metadata": {},
   "outputs": [],
   "source": []
  },
  {
   "cell_type": "code",
   "execution_count": 13,
   "metadata": {},
   "outputs": [],
   "source": [
    "from copy import deepcopy"
   ]
  },
  {
   "cell_type": "code",
   "execution_count": 14,
   "metadata": {},
   "outputs": [
    {
     "name": "stdout",
     "output_type": "stream",
     "text": [
      "standard: 1         LCU:  1    \n",
      "standard: 3         LCU:  3    \n",
      "standard: 10        LCU:  10   \n",
      "standard: 20        LCU:  30   \n",
      "standard: 54        LCU:  54   \n",
      "standard: 146       LCU:  146  \n",
      "\n",
      "standard: 1         LCU:  1    \n",
      "standard: 3         LCU:  3    \n",
      "standard: 10        LCU:  10   \n",
      "standard: 34        LCU:  34   \n",
      "standard: 62        LCU:  62   \n",
      "standard: 126       LCU:  126  \n",
      "\n",
      "standard: 1         LCU:  1    \n",
      "standard: 3         LCU:  3    \n",
      "standard: 10        LCU:  10   \n",
      "standard: 34        LCU:  34   \n",
      "standard: 62        LCU:  62   \n",
      "standard: 126       LCU:  126  \n",
      "\n",
      "standard: 1         LCU:  1    \n",
      "standard: 3         LCU:  3    \n",
      "standard: 10        LCU:  10   \n",
      "standard: 35        LCU:  31   \n",
      "\n",
      "standard: 1         LCU:  1    \n",
      "standard: 3         LCU:  3    \n",
      "standard: 10        LCU:  10   \n",
      "standard: 34        LCU:  34   \n",
      "standard: 84        LCU:  84   \n",
      "standard: 155       LCU:  155  \n",
      "standard: 321       LCU:  321  \n",
      "\n"
     ]
    }
   ],
   "source": [
    "N_index=0\n",
    "check_reduction=True\n",
    "\n",
    "for mol_key in csvqe_LCU_output.keys():\n",
    "    \n",
    "    \n",
    "    ham = hamiltonians[mol_key][2] # full Hamiltonian\n",
    "    gs_noncon = hamiltonians[mol_key][5]\n",
    "    model = list(gs_noncon[3])\n",
    "    fn_form = gs_noncon[4]\n",
    "    N_Qubits= hamiltonians[mol_key][1]\n",
    "    \n",
    "    ground_state_params = [list(gs_noncon[1]), list(gs_noncon[2])]\n",
    "    \n",
    "    \n",
    "    ## LCU\n",
    "    best_order_LCU = deepcopy(csvqe_LCU_output[mol_key][3])\n",
    "    \n",
    "    reduced_H_LCU_list = c_LCU.get_reduced_hamiltonians_LCU(ham, # Con_H,\n",
    "                               model,\n",
    "                               fn_form,\n",
    "                               ground_state_params,\n",
    "                               best_order_LCU, \n",
    "                               N_Qubits,\n",
    "                               N_index, \n",
    "                               check_reduction=check_reduction)\n",
    "    \n",
    "    \n",
    "    ### Standard\n",
    "    best_order_std = deepcopy(csvqe_standard_output[mol_key][3]) \n",
    "    \n",
    "    reduced_H_standard_list = c.get_reduced_hamiltonians(ham, # Con_H,\n",
    "                           model,\n",
    "                           fn_form,\n",
    "                           ground_state_params,\n",
    "                           best_order_std)\n",
    "    \n",
    "    \n",
    "    for H_LCU, H_std in zip(reduced_H_LCU_list, reduced_H_standard_list):\n",
    "        print(f\"standard: {len(H_std): <5}     LCU:  {len(H_LCU):<5.0f}\")\n",
    "    print('')\n",
    "    \n"
   ]
  },
  {
   "cell_type": "code",
   "execution_count": null,
   "metadata": {},
   "outputs": [],
   "source": []
  },
  {
   "cell_type": "code",
   "execution_count": 15,
   "metadata": {},
   "outputs": [
    {
     "name": "stdout",
     "output_type": "stream",
     "text": [
      "standard: 0         LCU:  0    \n",
      "standard: 1         LCU:  0    \n",
      "standard: 6         LCU:  4    \n",
      "standard: 12        LCU:  18   \n",
      "standard: 30        LCU:  30   \n",
      "standard: 98        LCU:  98   \n",
      "\n",
      "standard: 0         LCU:  0    \n",
      "standard: 1         LCU:  0    \n",
      "standard: 4         LCU:  4    \n",
      "standard: 22        LCU:  22   \n",
      "standard: 42        LCU:  42   \n",
      "standard: 96        LCU:  96   \n",
      "\n",
      "standard: 0         LCU:  0    \n",
      "standard: 1         LCU:  0    \n",
      "standard: 4         LCU:  4    \n",
      "standard: 22        LCU:  22   \n",
      "standard: 42        LCU:  42   \n",
      "standard: 96        LCU:  96   \n",
      "\n",
      "standard: 0         LCU:  0    \n",
      "standard: 1         LCU:  0    \n",
      "standard: 4         LCU:  4    \n",
      "standard: 23        LCU:  19   \n",
      "\n",
      "standard: 0         LCU:  0    \n",
      "standard: 1         LCU:  0    \n",
      "standard: 6         LCU:  4    \n",
      "standard: 26        LCU:  22   \n",
      "standard: 68        LCU:  60   \n",
      "standard: 122       LCU:  122  \n",
      "standard: 278       LCU:  278  \n",
      "\n"
     ]
    }
   ],
   "source": [
    "## checking with only CONTEXTUAL PART rather than full H in reduction!\n",
    "\n",
    "N_index=0\n",
    "check_reduction=True\n",
    "\n",
    "for mol_key in csvqe_LCU_output.keys():\n",
    "    \n",
    "    \n",
    "    ham = hamiltonians[mol_key][2] # full Hamiltonian\n",
    "    ham_noncon = hamiltonians[mol_key][3]  # noncontextual part of Hamiltonian, found by greedy DFS\n",
    "    \n",
    "    \n",
    "    ham_CON = {}\n",
    "    for P in ham:\n",
    "        if P in ham_noncon:\n",
    "            continue\n",
    "        else:\n",
    "            ham_CON[P]=ham[P]\n",
    "    \n",
    "    \n",
    "    gs_noncon = hamiltonians[mol_key][5]\n",
    "    model = list(gs_noncon[3])\n",
    "    fn_form = gs_noncon[4]\n",
    "    N_Qubits= hamiltonians[mol_key][1]\n",
    "       \n",
    "    ground_state_params = [list(gs_noncon[1]), list(gs_noncon[2])]\n",
    "    \n",
    "    \n",
    "    Energy_function = c.energy_function(fn_form)\n",
    "    non_con_GS = Energy_function(*gs_noncon[1], *gs_noncon[2]) #<-- needs to be added to results!\n",
    "    \n",
    "    ## LCU\n",
    "    best_order_LCU = deepcopy(csvqe_LCU_output[mol_key][3])\n",
    "    \n",
    "    reduced_H_LCU_list = c_LCU.get_reduced_hamiltonians_LCU(ham_CON, #<-- CON PART ONLY\n",
    "                               model,\n",
    "                               fn_form,\n",
    "                               ground_state_params,\n",
    "                               best_order_LCU, \n",
    "                               N_Qubits,\n",
    "                               N_index, \n",
    "                               check_reduction=check_reduction)\n",
    "    \n",
    "    \n",
    "    ### Standard\n",
    "    best_order_std = deepcopy(csvqe_standard_output[mol_key][3]) \n",
    "    \n",
    "    reduced_H_standard_list = c.get_reduced_hamiltonians(ham_CON, #<-- CON PART ONLY\n",
    "                           model,\n",
    "                           fn_form,\n",
    "                           ground_state_params,\n",
    "                           best_order_std)\n",
    "    \n",
    "    \n",
    "    for H_LCU, H_std in zip(reduced_H_LCU_list, reduced_H_standard_list):\n",
    "        print(f\"standard: {len(H_std): <5}     LCU:  {len(H_LCU):<5.0f}\")\n",
    "    print('')\n"
   ]
  },
  {
   "cell_type": "code",
   "execution_count": null,
   "metadata": {},
   "outputs": [],
   "source": []
  },
  {
   "cell_type": "code",
   "execution_count": null,
   "metadata": {},
   "outputs": [],
   "source": []
  },
  {
   "cell_type": "code",
   "execution_count": null,
   "metadata": {},
   "outputs": [],
   "source": []
  },
  {
   "cell_type": "code",
   "execution_count": null,
   "metadata": {},
   "outputs": [],
   "source": []
  },
  {
   "cell_type": "code",
   "execution_count": null,
   "metadata": {},
   "outputs": [],
   "source": []
  },
  {
   "cell_type": "code",
   "execution_count": 16,
   "metadata": {},
   "outputs": [],
   "source": [
    "import cirq"
   ]
  },
  {
   "cell_type": "code",
   "execution_count": 17,
   "metadata": {},
   "outputs": [],
   "source": [
    "qubit = cirq.LineQubit(0)\n",
    "circuit = cirq.Circuit(\n",
    "cirq.H.on(qubit)\n",
    ")"
   ]
  },
  {
   "cell_type": "code",
   "execution_count": 18,
   "metadata": {},
   "outputs": [
    {
     "data": {
      "text/plain": [
       "array([[ 0.70710678+0.j,  0.70710678+0.j],\n",
       "       [ 0.70710678+0.j, -0.70710678+0.j]])"
      ]
     },
     "execution_count": 18,
     "metadata": {},
     "output_type": "execute_result"
    }
   ],
   "source": [
    "Ry = cirq.ry(-np.pi/2)._unitary_()\n",
    "X = cirq.X._unitary_()\n",
    "\n",
    "Ry.dot(X)"
   ]
  },
  {
   "cell_type": "code",
   "execution_count": 19,
   "metadata": {},
   "outputs": [
    {
     "data": {
      "text/plain": [
       "array([[ 0.70710678+0.j,  0.70710678+0.j],\n",
       "       [ 0.70710678+0.j, -0.70710678+0.j]])"
      ]
     },
     "execution_count": 19,
     "metadata": {},
     "output_type": "execute_result"
    }
   ],
   "source": [
    "cirq.H._unitary_()"
   ]
  },
  {
   "cell_type": "code",
   "execution_count": 20,
   "metadata": {},
   "outputs": [
    {
     "data": {
      "text/plain": [
       "True"
      ]
     },
     "execution_count": 20,
     "metadata": {},
     "output_type": "execute_result"
    }
   ],
   "source": [
    "np.allclose(Ry.dot(X), cirq.H._unitary_())"
   ]
  },
  {
   "cell_type": "code",
   "execution_count": 21,
   "metadata": {},
   "outputs": [
    {
     "data": {
      "text/plain": [
       "array([[ 0.5+0.5j, -0.5-0.5j],\n",
       "       [ 0.5+0.5j,  0.5+0.5j]])"
      ]
     },
     "execution_count": 21,
     "metadata": {},
     "output_type": "execute_result"
    }
   ],
   "source": [
    "cirq.YPowGate(exponent=0.5)._unitary_()"
   ]
  },
  {
   "cell_type": "code",
   "execution_count": 22,
   "metadata": {},
   "outputs": [
    {
     "data": {
      "text/plain": [
       "array([[ 0.70710678+0.j,  0.70710678+0.j],\n",
       "       [-0.70710678+0.j,  0.70710678+0.j]])"
      ]
     },
     "execution_count": 22,
     "metadata": {},
     "output_type": "execute_result"
    }
   ],
   "source": [
    "cirq.ry(-np.pi/2)._unitary_()"
   ]
  },
  {
   "cell_type": "code",
   "execution_count": 23,
   "metadata": {},
   "outputs": [
    {
     "data": {
      "text/html": [
       "<pre style=\"overflow: auto; white-space: pre;\">0: ───Y^0.5───X───</pre>"
      ],
      "text/plain": [
       "0: ───Y^0.5───X───"
      ]
     },
     "execution_count": 23,
     "metadata": {},
     "output_type": "execute_result"
    }
   ],
   "source": [
    "cirq.Circuit(cirq.decompose(circuit))"
   ]
  },
  {
   "cell_type": "code",
   "execution_count": 24,
   "metadata": {},
   "outputs": [
    {
     "data": {
      "text/plain": [
       "array([[0.+0.j, 1.+0.j],\n",
       "       [1.+0.j, 0.+0.j]])"
      ]
     },
     "execution_count": 24,
     "metadata": {},
     "output_type": "execute_result"
    }
   ],
   "source": [
    "cirq.X._unitary_()"
   ]
  },
  {
   "cell_type": "code",
   "execution_count": 25,
   "metadata": {},
   "outputs": [
    {
     "data": {
      "text/plain": [
       "False"
      ]
     },
     "execution_count": 25,
     "metadata": {},
     "output_type": "execute_result"
    }
   ],
   "source": [
    "np.allclose(cirq.X._unitary_(), cirq.rx(np.pi)._unitary_()) "
   ]
  },
  {
   "cell_type": "code",
   "execution_count": 26,
   "metadata": {},
   "outputs": [
    {
     "data": {
      "text/plain": [
       "array([[0.        -0.70710678j, 0.70710678+0.j        ],\n",
       "       [0.70710678+0.j        , 0.        -0.70710678j]])"
      ]
     },
     "execution_count": 26,
     "metadata": {},
     "output_type": "execute_result"
    }
   ],
   "source": [
    "cirq.X._unitary_().dot(cirq.rx(np.pi/2)._unitary_())"
   ]
  },
  {
   "cell_type": "code",
   "execution_count": 27,
   "metadata": {},
   "outputs": [
    {
     "data": {
      "text/plain": [
       "array([[0.+0.j, 1.+0.j],\n",
       "       [1.+0.j, 0.+0.j]])"
      ]
     },
     "execution_count": 27,
     "metadata": {},
     "output_type": "execute_result"
    }
   ],
   "source": [
    "cirq.X._unitary_()"
   ]
  },
  {
   "cell_type": "code",
   "execution_count": 28,
   "metadata": {},
   "outputs": [
    {
     "data": {
      "text/plain": [
       "array([[0.70710678+0.j        , 0.        -0.70710678j],\n",
       "       [0.        -0.70710678j, 0.70710678+0.j        ]])"
      ]
     },
     "execution_count": 28,
     "metadata": {},
     "output_type": "execute_result"
    }
   ],
   "source": [
    "cirq.rx(np.pi/2)._unitary_()"
   ]
  },
  {
   "cell_type": "code",
   "execution_count": 29,
   "metadata": {},
   "outputs": [
    {
     "data": {
      "text/plain": [
       "array([[ 0.5-0.5j,  0.5-0.5j],\n",
       "       [ 0.5+0.5j, -0.5-0.5j]])"
      ]
     },
     "execution_count": 29,
     "metadata": {},
     "output_type": "execute_result"
    }
   ],
   "source": [
    "np.dot(cirq.ry(-np.pi/2)._unitary_(), cirq.X._unitary_().dot(cirq.rx(np.pi/2)._unitary_()))"
   ]
  },
  {
   "cell_type": "code",
   "execution_count": 30,
   "metadata": {},
   "outputs": [
    {
     "data": {
      "text/html": [
       "<pre style=\"overflow: auto; white-space: pre;\">0: ───Ry(-0.5π)───X───Rx(0.5π)───</pre>"
      ],
      "text/plain": [
       "0: ───Ry(-0.5π)───X───Rx(0.5π)───"
      ]
     },
     "execution_count": 30,
     "metadata": {},
     "output_type": "execute_result"
    }
   ],
   "source": [
    "qubit = cirq.LineQubit(0)\n",
    "circuit = cirq.Circuit(\n",
    "cirq.ry(-np.pi/2).on(qubit),\n",
    "cirq.X.on(qubit),\n",
    "cirq.rx(np.pi/2).on(qubit),\n",
    ")\n",
    "circuit"
   ]
  },
  {
   "cell_type": "code",
   "execution_count": 31,
   "metadata": {},
   "outputs": [
    {
     "data": {
      "text/html": [
       "<pre style=\"overflow: auto; white-space: pre;\">0: ───Z───X^0.5───Z───S───</pre>"
      ],
      "text/plain": [
       "0: ───Z───X^0.5───Z───S───"
      ]
     },
     "execution_count": 31,
     "metadata": {},
     "output_type": "execute_result"
    }
   ],
   "source": [
    "cirq.merge_single_qubit_gates_into_phased_x_z(circuit)\n",
    "cirq.Circuit(cirq.decompose(circuit))"
   ]
  },
  {
   "cell_type": "code",
   "execution_count": 32,
   "metadata": {},
   "outputs": [
    {
     "data": {
      "text/plain": [
       "array([[0.5+0.5j, 0.5-0.5j],\n",
       "       [0.5-0.5j, 0.5+0.5j]])"
      ]
     },
     "execution_count": 32,
     "metadata": {},
     "output_type": "execute_result"
    }
   ],
   "source": [
    "cirq.XPowGate(exponent=0.5)._unitary_()\n",
    "\n",
    "circuit = cirq.Circuit(\n",
    "cirq.XPowGate(exponent=0.5).on(qubit),\n",
    ")\n",
    "circuit.unitary()"
   ]
  },
  {
   "cell_type": "code",
   "execution_count": 33,
   "metadata": {},
   "outputs": [
    {
     "data": {
      "text/plain": [
       "array([[0.92387953+0.j        , 0.        -0.38268343j],\n",
       "       [0.        -0.38268343j, 0.92387953+0.j        ]])"
      ]
     },
     "execution_count": 33,
     "metadata": {},
     "output_type": "execute_result"
    }
   ],
   "source": [
    "cirq.rx(np.pi/4)._unitary_()"
   ]
  },
  {
   "cell_type": "code",
   "execution_count": 34,
   "metadata": {},
   "outputs": [],
   "source": [
    "# from scipy.linalg import expm\n",
    "# expm(-1j*cirq.X._unitary_() * np.pi)"
   ]
  },
  {
   "cell_type": "code",
   "execution_count": 35,
   "metadata": {},
   "outputs": [
    {
     "data": {
      "text/plain": [
       "array([[0.+0.j, 0.+1.j],\n",
       "       [0.+1.j, 0.+0.j]])"
      ]
     },
     "execution_count": 35,
     "metadata": {},
     "output_type": "execute_result"
    }
   ],
   "source": [
    "cirq.rx(3*np.pi)._unitary_()"
   ]
  },
  {
   "cell_type": "code",
   "execution_count": 36,
   "metadata": {},
   "outputs": [
    {
     "data": {
      "text/plain": [
       "array([[1.+0.j, 0.+0.j],\n",
       "       [0.+0.j, 1.+0.j]])"
      ]
     },
     "execution_count": 36,
     "metadata": {},
     "output_type": "execute_result"
    }
   ],
   "source": [
    "cirq.rx(0)._unitary_()"
   ]
  },
  {
   "cell_type": "code",
   "execution_count": 37,
   "metadata": {},
   "outputs": [
    {
     "data": {
      "text/plain": [
       "array([[0.5+0.5j, 0.5-0.5j],\n",
       "       [0.5-0.5j, 0.5+0.5j]])"
      ]
     },
     "execution_count": 37,
     "metadata": {},
     "output_type": "execute_result"
    }
   ],
   "source": [
    "cirq.XPowGate(exponent=0.5)._unitary_()"
   ]
  },
  {
   "cell_type": "code",
   "execution_count": 38,
   "metadata": {},
   "outputs": [
    {
     "data": {
      "text/plain": [
       "array([[ 0.+0.j,  1.+0.j],\n",
       "       [-1.+0.j,  0.+0.j]])"
      ]
     },
     "execution_count": 38,
     "metadata": {},
     "output_type": "execute_result"
    }
   ],
   "source": [
    "cirq.ry(np.pi*3)._unitary_()"
   ]
  },
  {
   "cell_type": "code",
   "execution_count": 39,
   "metadata": {},
   "outputs": [
    {
     "ename": "NameError",
     "evalue": "name 'random_U' is not defined",
     "output_type": "error",
     "traceback": [
      "\u001b[0;31m---------------------------------------------------------------------------\u001b[0m",
      "\u001b[0;31mNameError\u001b[0m                                 Traceback (most recent call last)",
      "\u001b[0;32m<ipython-input-39-f92f520b880e>\u001b[0m in \u001b[0;36m<module>\u001b[0;34m\u001b[0m\n\u001b[0;32m----> 1\u001b[0;31m \u001b[0mrandom_U\u001b[0m\u001b[0;34m.\u001b[0m\u001b[0mshape\u001b[0m\u001b[0;34m\u001b[0m\u001b[0;34m\u001b[0m\u001b[0m\n\u001b[0m",
      "\u001b[0;31mNameError\u001b[0m: name 'random_U' is not defined"
     ]
    }
   ],
   "source": [
    "random_U.shape"
   ]
  },
  {
   "cell_type": "code",
   "execution_count": null,
   "metadata": {},
   "outputs": [],
   "source": [
    "from scipy.stats import unitary_group\n",
    "N=4\n",
    "\n",
    "random_U = unitary_group.rvs(2**N)\n",
    "random_U= random_U/np.trace(random_U)\n",
    "\n",
    "my_gate = cirq.MatrixGate(random_U)\n",
    "\n",
    "\n",
    "qubits = list(cirq.LineQubit.range(N))\n",
    "circuit = cirq.Circuit(\n",
    "my_gate.on(*qubits),\n",
    ")\n"
   ]
  },
  {
   "cell_type": "code",
   "execution_count": null,
   "metadata": {},
   "outputs": [],
   "source": [
    "desired_matrix = cirq.testing.random_unitary(dim=4)\n",
    "desired_matrix = unitary_group.rvs(4)\n",
    "\n",
    "synthesized_operations = cirq.two_qubit_matrix_to_operations(\n",
    "    cirq.LineQubit(0),\n",
    "    cirq.LineQubit(1),\n",
    "    desired_matrix,\n",
    "    allow_partial_czs=False,\n",
    ")\n",
    "circuit = cirq.Circuit(synthesized_operations)\n"
   ]
  },
  {
   "cell_type": "code",
   "execution_count": null,
   "metadata": {},
   "outputs": [],
   "source": [
    "sum(np.abs(desired_matrix[:,0])**2)"
   ]
  },
  {
   "cell_type": "code",
   "execution_count": null,
   "metadata": {},
   "outputs": [],
   "source": [
    "from quchem.Qcircuit.Circuit_functions_to_create_arb_state import intialization_circuit\n",
    "\n",
    "G_circ = intialization_circuit(desired_matrix[:,0],\n",
    "                             0,\n",
    "                             1,\n",
    "                             check_circuit=False)\n",
    "G_circ"
   ]
  },
  {
   "cell_type": "code",
   "execution_count": null,
   "metadata": {},
   "outputs": [],
   "source": [
    "G_circ.final_state_vector()"
   ]
  },
  {
   "cell_type": "code",
   "execution_count": null,
   "metadata": {},
   "outputs": [],
   "source": [
    "desired_matrix[:,0]"
   ]
  },
  {
   "cell_type": "code",
   "execution_count": null,
   "metadata": {},
   "outputs": [],
   "source": [
    "circuit.final_state_vector()"
   ]
  },
  {
   "cell_type": "code",
   "execution_count": null,
   "metadata": {},
   "outputs": [],
   "source": [
    "desired_matrix"
   ]
  },
  {
   "cell_type": "code",
   "execution_count": null,
   "metadata": {},
   "outputs": [],
   "source": [
    "circuit.unitary()"
   ]
  },
  {
   "cell_type": "code",
   "execution_count": null,
   "metadata": {},
   "outputs": [],
   "source": [
    "list(G_circ.all_operations())"
   ]
  },
  {
   "cell_type": "code",
   "execution_count": null,
   "metadata": {},
   "outputs": [],
   "source": []
  },
  {
   "cell_type": "code",
   "execution_count": null,
   "metadata": {},
   "outputs": [],
   "source": [
    "XX.qubits"
   ]
  },
  {
   "cell_type": "code",
   "execution_count": null,
   "metadata": {},
   "outputs": [],
   "source": [
    "qubit_list = cirq.LineQubit.range(2):\n",
    "    \n",
    "    for single_qubit in qubit_list:\n",
    "        "
   ]
  },
  {
   "cell_type": "code",
   "execution_count": null,
   "metadata": {},
   "outputs": [],
   "source": [
    "type(XX)"
   ]
  },
  {
   "cell_type": "code",
   "execution_count": null,
   "metadata": {},
   "outputs": [],
   "source": [
    "def recursive_single_qubit_simplification(qubitID, circuit_op_list):\n",
    "    for op in oplist:\n",
    "        if isinstance(op, cirq.ops.pauli_string.SingleQubitPauliStringGateOperation):\n",
    "            "
   ]
  }
 ],
 "metadata": {
  "kernelspec": {
   "display_name": "Python 3",
   "language": "python",
   "name": "python3"
  },
  "language_info": {
   "codemirror_mode": {
    "name": "ipython",
    "version": 3
   },
   "file_extension": ".py",
   "mimetype": "text/x-python",
   "name": "python",
   "nbconvert_exporter": "python",
   "pygments_lexer": "ipython3",
   "version": "3.8.5"
  }
 },
 "nbformat": 4,
 "nbformat_minor": 2
}
