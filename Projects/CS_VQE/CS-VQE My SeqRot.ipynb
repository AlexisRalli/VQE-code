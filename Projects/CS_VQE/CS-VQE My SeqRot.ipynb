{
 "cells": [
  {
   "cell_type": "code",
   "execution_count": 1,
   "metadata": {},
   "outputs": [],
   "source": [
    "import numpy as np\n",
    "import cs_vqe as c\n",
    "import ast\n",
    "import os\n",
    "\n",
    "from openfermion import qubit_operator_sparse\n",
    "import conversion_scripts as conv_scr\n",
    "import scipy as sp"
   ]
  },
  {
   "cell_type": "code",
   "execution_count": 2,
   "metadata": {},
   "outputs": [],
   "source": [
    "from openfermion import qubit_operator_sparse\n",
    "import conversion_scripts as conv_scr\n",
    "from openfermion.ops import QubitOperator"
   ]
  },
  {
   "cell_type": "code",
   "execution_count": 3,
   "metadata": {},
   "outputs": [],
   "source": [
    "# with open(\"hamiltonians.txt\", 'r') as input_file:\n",
    "#     hamiltonians = ast.literal_eval(input_file.read())\n",
    "    \n",
    "working_dir = os.getcwd()\n",
    "data_dir = os.path.join(working_dir, 'data')\n",
    "data_hamiltonians_file = os.path.join(data_dir, 'hamiltonians.txt')\n",
    "\n",
    "\n",
    "with open(data_hamiltonians_file, 'r') as input_file:\n",
    "    hamiltonians = ast.literal_eval(input_file.read())"
   ]
  },
  {
   "cell_type": "code",
   "execution_count": 4,
   "metadata": {},
   "outputs": [
    {
     "name": "stdout",
     "output_type": "stream",
     "text": [
      "H2-S1_STO-3G_singlet          n_qubits:  18   \n",
      "C1-O1_STO-3G_singlet          n_qubits:  16   \n",
      "H1-Cl1_STO-3G_singlet         n_qubits:  16   \n",
      "H1-Na1_STO-3G_singlet         n_qubits:  16   \n",
      "H2-Mg1_STO-3G_singlet         n_qubits:  17   \n",
      "H1-F1_3-21G_singlet           n_qubits:  18   \n",
      "H1-Li1_3-21G_singlet          n_qubits:  18   \n",
      "Be1_STO-3G_singlet            n_qubits:  5    \n",
      "H1-F1_STO-3G_singlet          n_qubits:  8    \n",
      "H1-Li1_STO-3G_singlet         n_qubits:  8    \n",
      "Ar1_STO-3G_singlet            n_qubits:  13   \n",
      "F2_STO-3G_singlet             n_qubits:  15   \n",
      "H1-O1_STO-3G_singlet          n_qubits:  8    \n",
      "H2-Be1_STO-3G_singlet         n_qubits:  9    \n",
      "H2-O1_STO-3G_singlet          n_qubits:  10   \n",
      "H2_3-21G_singlet              n_qubits:  5    \n",
      "H2_6-31G_singlet              n_qubits:  5    \n",
      "H3-N1_STO-3G_singlet          n_qubits:  13   \n",
      "H4-C1_STO-3G_singlet          n_qubits:  14   \n",
      "Mg1_STO-3G_singlet            n_qubits:  13   \n",
      "N2_STO-3G_singlet             n_qubits:  15   \n",
      "Ne1_STO-3G_singlet            n_qubits:  5    \n",
      "O2_STO-3G_singlet             n_qubits:  15   \n",
      "H1-Li1-O1_STO-3G_singlet      n_qubits:  18   \n",
      "H1-He1_STO-3G_singlet         n_qubits:  2    \n",
      "H3_STO-3G_singlet_1+          n_qubits:  3    \n",
      "H1-He1_3-21G_singlet_1+       n_qubits:  6    \n",
      "H3_3-21G_singlet_1+           n_qubits:  9    \n",
      "H4-N1_STO-3G_singlet_1+       n_qubits:  14   \n"
     ]
    }
   ],
   "source": [
    "for key in hamiltonians.keys():\n",
    "    print(f\"{key: <25}     n_qubits:  {hamiltonians[key][1]:<5.0f}\")"
   ]
  },
  {
   "cell_type": "code",
   "execution_count": 5,
   "metadata": {},
   "outputs": [
    {
     "data": {
      "text/plain": [
       "{'III': -1.7512307459285525,\n",
       " 'IIX': -0.023568152336180023,\n",
       " 'IIZ': -0.017109477140260287,\n",
       " 'IXI': 0.02356815233618002,\n",
       " 'IXZ': 0.02356815233617983,\n",
       " 'IYY': -0.07195737217001562,\n",
       " 'IZI': -0.017109477140260287,\n",
       " 'IZX': -0.023568152336179825,\n",
       " 'IZZ': 0.31270210682950855,\n",
       " 'XII': 0.01872992170537467,\n",
       " 'XIX': 0.023568139980123585,\n",
       " 'XIZ': 0.01872992170537467,\n",
       " 'XXI': -0.023568139980123585,\n",
       " 'XXX': 0.03597868636603963,\n",
       " 'XXZ': -0.023568139980123585,\n",
       " 'XYY': -0.03597868636603963,\n",
       " 'XZI': 0.01872992170537467,\n",
       " 'XZX': 0.023568139980123585,\n",
       " 'XZZ': 0.01872992170537467,\n",
       " 'YIY': 0.023568139980123585,\n",
       " 'YXY': 0.03597868636603963,\n",
       " 'YYI': -0.023568139980123585,\n",
       " 'YYX': 0.03597868636603963,\n",
       " 'YYZ': -0.023568139980123585,\n",
       " 'YZY': 0.023568139980123585,\n",
       " 'ZII': -0.45436486525596403,\n",
       " 'ZIX': -0.023568152336180023,\n",
       " 'ZIZ': 0.37110605476609787,\n",
       " 'ZXI': 0.02356815233618002,\n",
       " 'ZXZ': 0.02356815233617983,\n",
       " 'ZYY': -0.07195737217001562,\n",
       " 'ZZI': 0.37110605476609804,\n",
       " 'ZZX': -0.023568152336179825,\n",
       " 'ZZZ': -0.2878474382772282}"
      ]
     },
     "execution_count": 5,
     "metadata": {},
     "output_type": "execute_result"
    }
   ],
   "source": [
    "# mol_key = 'H2_6-31G_singlet'  \n",
    "# mol_key ='H2-O1_STO-3G_singlet'\n",
    "# mol_key = 'H1-He1_3-21G_singlet_1+'\n",
    "mol_key = 'H3_STO-3G_singlet_1+'\n",
    "\n",
    "# currently index 2 is contextual part\n",
    "# ''''''''''''''''3 is NON contextual part\n",
    "\n",
    "# join together for full Hamiltonian:\n",
    "ham = hamiltonians[mol_key][2]\n",
    "ham.update(hamiltonians[mol_key][3]) # full H \n",
    "ham"
   ]
  },
  {
   "cell_type": "code",
   "execution_count": 6,
   "metadata": {},
   "outputs": [
    {
     "name": "stdout",
     "output_type": "stream",
     "text": [
      "n_qubits:  3\n"
     ]
    }
   ],
   "source": [
    "print(f\"n_qubits:  {hamiltonians[mol_key][1]}\")"
   ]
  },
  {
   "cell_type": "markdown",
   "metadata": {},
   "source": [
    "# Get non-contextual H"
   ]
  },
  {
   "cell_type": "code",
   "execution_count": 7,
   "metadata": {},
   "outputs": [],
   "source": [
    "nonH_guesses = c.greedy_dfs(ham, 10, criterion='weight')\n",
    "\n",
    "nonH = max(nonH_guesses, key=lambda x:len(x)) # largest nonCon part found by dfs alg"
   ]
  },
  {
   "cell_type": "code",
   "execution_count": null,
   "metadata": {},
   "outputs": [],
   "source": []
  },
  {
   "cell_type": "markdown",
   "metadata": {},
   "source": [
    "Split into:\n",
    "\n",
    "$$H = H_{c} + H_{nc}$$"
   ]
  },
  {
   "cell_type": "code",
   "execution_count": 8,
   "metadata": {
    "code_folding": [
     4
    ]
   },
   "outputs": [],
   "source": [
    "nonCon_H = {}\n",
    "Con_H = {}\n",
    "\n",
    "for P in ham:\n",
    "    if P in nonH:\n",
    "        nonCon_H[P]=ham[P]\n",
    "    else:\n",
    "        Con_H[P]=ham[P]\n",
    "        "
   ]
  },
  {
   "cell_type": "markdown",
   "metadata": {},
   "source": [
    "## Testing contextuality"
   ]
  },
  {
   "cell_type": "code",
   "execution_count": 9,
   "metadata": {},
   "outputs": [
    {
     "name": "stdout",
     "output_type": "stream",
     "text": [
      "Is NONcontextual correct: True\n",
      "Is contextual correct: True\n"
     ]
    }
   ],
   "source": [
    "print('Is NONcontextual correct:', not c.contextualQ_ham(nonCon_H))\n",
    "print('Is contextual correct:',c.contextualQ_ham(Con_H))"
   ]
  },
  {
   "cell_type": "markdown",
   "metadata": {},
   "source": [
    "# Classical part of problem!"
   ]
  },
  {
   "cell_type": "markdown",
   "metadata": {},
   "source": [
    "Take $H_{nc}$ and split into:\n",
    "- $Z$ = operators that completely comute with all operators in $S$\n",
    "- $T$ = remaining operators in $S$\n",
    "    - where $S = Z \\cup T$  and $S$ is set of Pauli operators in $H_{nc}$\n",
    "    \n",
    "    \n",
    "- We then split the set $T$ into cliques $C_{1}, C_{2}, ... , C_{|T|}$\n",
    "    - all ops in a clique commute\n",
    "    - ops between cliques anti-commute!"
   ]
  },
  {
   "cell_type": "code",
   "execution_count": 10,
   "metadata": {},
   "outputs": [],
   "source": [
    "bool_flag, Z_list, T_list = c.contextualQ(list(nonCon_H.keys()), verbose=True)"
   ]
  },
  {
   "cell_type": "code",
   "execution_count": 11,
   "metadata": {},
   "outputs": [
    {
     "data": {
      "text/plain": [
       "['III', 'IZZ', 'ZIZ', 'ZZI']"
      ]
     },
     "execution_count": 11,
     "metadata": {},
     "output_type": "execute_result"
    }
   ],
   "source": [
    "Z_list"
   ]
  },
  {
   "cell_type": "code",
   "execution_count": 12,
   "metadata": {},
   "outputs": [
    {
     "data": {
      "text/plain": [
       "['IIZ', 'IZI', 'XXX', 'XYY', 'YXY', 'YYX', 'ZII', 'ZZZ']"
      ]
     },
     "execution_count": 12,
     "metadata": {},
     "output_type": "execute_result"
    }
   ],
   "source": [
    "T_list"
   ]
  },
  {
   "cell_type": "markdown",
   "metadata": {},
   "source": [
    "## Get quasi model\n",
    "\n",
    "First we define\n",
    "\n",
    "- $C_{i1}$ = first Pauli in each $C_{i}$ set\n",
    "- $A_{ij} = C_{ij}C_{1i}$\n",
    "\n",
    "\n",
    "- $G^{prime} = \\{1 P_{i} \\;| \\; i=1,2,...,|Z| \\}$\n",
    "    - aka all the completely commuting terms with coefficients set to +1!\n",
    "\n",
    "- We define G to be an independent set of $G^{prime}$\n",
    "    - where $G \\subseteq G^{prime}$\n"
   ]
  },
  {
   "cell_type": "code",
   "execution_count": 13,
   "metadata": {},
   "outputs": [],
   "source": [
    "G_list, Ci1_list, all_mappings = c.quasi_model(nonCon_H)"
   ]
  },
  {
   "cell_type": "code",
   "execution_count": 14,
   "metadata": {},
   "outputs": [
    {
     "name": "stdout",
     "output_type": "stream",
     "text": [
      "non-independent Z list: ['III', 'IZZ', 'ZIZ', 'ZZI']\n",
      "G (independent) Z list: ['ZIZ', 'IZZ']\n"
     ]
    }
   ],
   "source": [
    "print('non-independent Z list:', Z_list)\n",
    "print('G (independent) Z list:', G_list)"
   ]
  },
  {
   "cell_type": "code",
   "execution_count": 15,
   "metadata": {},
   "outputs": [
    {
     "name": "stdout",
     "output_type": "stream",
     "text": [
      "all Ci1 terms: ['IIZ', 'XXX']\n"
     ]
    }
   ],
   "source": [
    "print('all Ci1 terms:', Ci1_list)"
   ]
  },
  {
   "cell_type": "markdown",
   "metadata": {},
   "source": [
    "$$R = G \\cup \\{ C_{i1} \\;| \\; i=1,2,...,N \\}$$"
   ]
  },
  {
   "cell_type": "code",
   "execution_count": 16,
   "metadata": {},
   "outputs": [
    {
     "data": {
      "text/plain": [
       "{'III': [[], [], 1],\n",
       " 'IIZ': [[], ['IIZ'], 1],\n",
       " 'IZI': [['IZZ'], ['IIZ'], 1],\n",
       " 'IZZ': [['IZZ'], [], 1],\n",
       " 'XXX': [[], ['XXX'], 1],\n",
       " 'XYY': [['IZZ'], ['XXX'], (-1+0j)],\n",
       " 'YXY': [['ZIZ'], ['XXX'], (-1+0j)],\n",
       " 'YYX': [['ZIZ', 'IZZ'], ['XXX'], (-1+0j)],\n",
       " 'ZII': [['ZIZ'], ['IIZ'], 1],\n",
       " 'ZIZ': [['ZIZ'], [], 1],\n",
       " 'ZZI': [['ZIZ', 'IZZ'], [], 1],\n",
       " 'ZZZ': [['ZIZ', 'IZZ'], ['IIZ'], 1]}"
      ]
     },
     "execution_count": 16,
     "metadata": {},
     "output_type": "execute_result"
    }
   ],
   "source": [
    "# Assemble all the mappings from terms in the Hamiltonian to their products in R:\n",
    "all_mappings"
   ]
  },
  {
   "cell_type": "markdown",
   "metadata": {},
   "source": [
    "Overall $R$ is basically reduced non-contextual set\n",
    "- where everything in original non-contextual set can be found by **inference!**"
   ]
  },
  {
   "cell_type": "code",
   "execution_count": null,
   "metadata": {},
   "outputs": [],
   "source": []
  },
  {
   "cell_type": "markdown",
   "metadata": {},
   "source": [
    "# Function form\n",
    "\n",
    "$$R = G \\cup \\{ C_{i1} \\;| \\; i=1,2,...,N \\}$$\n",
    "\n",
    "- note q to do with $G$\n",
    "- note r to do with $C_{i1}$"
   ]
  },
  {
   "cell_type": "code",
   "execution_count": 17,
   "metadata": {},
   "outputs": [],
   "source": [
    "model = [G_list, Ci1_list, all_mappings]\n",
    "\n",
    "fn_form = c.energy_function_form(nonCon_H, model)\n",
    "\n",
    "# returns [\n",
    "#            denstion of q,\n",
    "#            dimension of r,\n",
    "#            [coeff, indices of q's, indices of r's, term in Hamiltonian]\n",
    "#         ]\n"
   ]
  },
  {
   "cell_type": "code",
   "execution_count": 18,
   "metadata": {},
   "outputs": [
    {
     "data": {
      "text/plain": [
       "[2,\n",
       " 2,\n",
       " [[-1.7512307459285525, [], [], 'III'],\n",
       "  [-0.017109477140260287, [], [0], 'IIZ'],\n",
       "  [-0.017109477140260287, [1], [0], 'IZI'],\n",
       "  [0.31270210682950855, [1], [], 'IZZ'],\n",
       "  [0.03597868636603963, [], [1], 'XXX'],\n",
       "  [(0.03597868636603963-0j), [1], [1], 'XYY'],\n",
       "  [(-0.03597868636603963+0j), [0], [1], 'YXY'],\n",
       "  [(-0.03597868636603963+0j), [0, 1], [1], 'YYX'],\n",
       "  [-0.45436486525596403, [0], [0], 'ZII'],\n",
       "  [0.37110605476609787, [0], [], 'ZIZ'],\n",
       "  [0.37110605476609804, [0, 1], [], 'ZZI'],\n",
       "  [-0.2878474382772282, [0, 1], [0], 'ZZZ']]]"
      ]
     },
     "execution_count": 18,
     "metadata": {},
     "output_type": "execute_result"
    }
   ],
   "source": [
    "fn_form"
   ]
  },
  {
   "cell_type": "code",
   "execution_count": 19,
   "metadata": {},
   "outputs": [],
   "source": [
    "Energy_function = c.energy_function(fn_form)"
   ]
  },
  {
   "cell_type": "code",
   "execution_count": 20,
   "metadata": {},
   "outputs": [
    {
     "data": {
      "text/plain": [
       "(1.0, -0.0, -0.0, -0.0, 0.0)"
      ]
     },
     "execution_count": 20,
     "metadata": {},
     "output_type": "execute_result"
    }
   ],
   "source": [
    "import random\n",
    "\n",
    "### now for the q terms we only have +1 or -1 assignment!\n",
    "q_variables = [random.choice([1,-1]) for _ in range(fn_form[0])]\n",
    "\n",
    "\n",
    "### r variables is anything that makes up unit vector!\n",
    "r_variables = c.angular(np.arange(0,2*np.pi, fn_form[1]))\n",
    "r_variables"
   ]
  },
  {
   "cell_type": "code",
   "execution_count": 21,
   "metadata": {},
   "outputs": [
    {
     "data": {
      "text/plain": [
       "-2.230450279736797"
      ]
     },
     "execution_count": 21,
     "metadata": {},
     "output_type": "execute_result"
    }
   ],
   "source": [
    " Energy_function(*q_variables,*r_variables)"
   ]
  },
  {
   "cell_type": "markdown",
   "metadata": {},
   "source": [
    "find_gs_nonconfunction optimizes above steps by:\n",
    "1. brute forcing all choices of ```q_variables```\n",
    "    - ```itertools.product([1,-1],repeat=fn_form[0])```\n",
    "2. optimizing over ```r_variables``` (in code ```x```)\n",
    "    - using SciPy optimizer!"
   ]
  },
  {
   "cell_type": "code",
   "execution_count": 22,
   "metadata": {},
   "outputs": [
    {
     "name": "stdout",
     "output_type": "stream",
     "text": [
      "-2.903212918716725\n",
      "[[-1, 1], [-0.9799593376325533, -0.19919763198082302]]\n"
     ]
    }
   ],
   "source": [
    "model = [G_list, Ci1_list, all_mappings]\n",
    "\n",
    "lowest_eigenvalue, ground_state_params, model_copy, fn_form_copy,  = c.find_gs_noncon(nonCon_H,\n",
    "               method = 'differential_evolution',\n",
    "               model=model,\n",
    "               fn_form=fn_form) # returns:  best + [model, fn_form]\n",
    "\n",
    "print(lowest_eigenvalue)\n",
    "print(ground_state_params)"
   ]
  },
  {
   "cell_type": "code",
   "execution_count": 23,
   "metadata": {},
   "outputs": [
    {
     "data": {
      "text/plain": [
       "True"
      ]
     },
     "execution_count": 23,
     "metadata": {},
     "output_type": "execute_result"
    }
   ],
   "source": [
    "## check\n",
    "Energy_function(*ground_state_params[0],*ground_state_params[1]) == lowest_eigenvalue"
   ]
  },
  {
   "cell_type": "code",
   "execution_count": null,
   "metadata": {},
   "outputs": [],
   "source": []
  },
  {
   "cell_type": "markdown",
   "metadata": {},
   "source": [
    "# Now need to rotate Hamiltonian!"
   ]
  },
  {
   "cell_type": "markdown",
   "metadata": {},
   "source": [
    "We now have non contextual ground state: $(\\vec{q}, \\vec{r})$"
   ]
  },
  {
   "cell_type": "code",
   "execution_count": 24,
   "metadata": {},
   "outputs": [
    {
     "data": {
      "text/plain": [
       "[[-1, 1], [-0.9799593376325533, -0.19919763198082302]]"
      ]
     },
     "execution_count": 24,
     "metadata": {},
     "output_type": "execute_result"
    }
   ],
   "source": [
    "ground_state_params"
   ]
  },
  {
   "cell_type": "markdown",
   "metadata": {},
   "source": [
    "We can use this result - ground state of $H_{nc}$ -  as a classical estiamte of our ground state of the full Hamiltonian ($H = H_{c} + H_{nc}$)\n",
    "\n",
    "However we can also obtain a quantum correction using $H_{c}$\n",
    "\n",
    "By minimizing theenergy of the remaining terms in the Hamiltonian over the quantum states that are **consistent with the noncon-textual ground state**."
   ]
  },
  {
   "cell_type": "code",
   "execution_count": null,
   "metadata": {},
   "outputs": [],
   "source": []
  },
  {
   "cell_type": "code",
   "execution_count": null,
   "metadata": {},
   "outputs": [],
   "source": []
  },
  {
   "cell_type": "markdown",
   "metadata": {},
   "source": [
    "To do this we first rotate each $G_{j}$ and $\\mathcal{A} = \\sum_{i=1}^{N} r_{i}A_{i}$:"
   ]
  },
  {
   "cell_type": "code",
   "execution_count": 25,
   "metadata": {},
   "outputs": [
    {
     "name": "stdout",
     "output_type": "stream",
     "text": [
      "['ZIZ', 'IZZ']\n",
      "['IIZ', 'XXX']\n"
     ]
    }
   ],
   "source": [
    "model = [G_list, Ci1_list, all_mappings]\n",
    "\n",
    "print(G_list) # G_j terms!\n",
    "print(Ci1_list) # mathcal(A)"
   ]
  },
  {
   "cell_type": "markdown",
   "metadata": {},
   "source": [
    "to SINGLE QUBIT pauli Z operators!\n",
    "\n",
    "- to map the operators in $G$ to single qubit Pauli operators, we use $\\frac{\\pi}{2}$ rotations!\n",
    "\n",
    "- note $\\mathcal{A}$ is an anti-commuting set... therefore we can use $N-1$ rotations as in unitary partitioning's sequence of rotations to do this!\n",
    "    - $R^{\\dagger}\\mathcal{A} R = \\text{single Pauli op}$"
   ]
  },
  {
   "cell_type": "code",
   "execution_count": null,
   "metadata": {},
   "outputs": [],
   "source": []
  },
  {
   "cell_type": "markdown",
   "metadata": {},
   "source": [
    "# Rotate full Hamiltonian to basis with diagonal noncontextual generators!"
   ]
  },
  {
   "cell_type": "markdown",
   "metadata": {},
   "source": [
    "function ```diagonalize_epistemic```:\n",
    "1. first if else statement:\n",
    "    - if cliques present:\n",
    "        - first maps A to single Pauli operator (if cliques present)\n",
    "        - then rotates to diagonlize G union with single Pauli opator of A (hence GuA name!)\n",
    "    - else if NO cliques present:\n",
    "        - gets rotations to diagonlize G\n",
    "        \n",
    "     - these rotations make up GuA term in code!\n",
    "2. NEXT code loops over terms in GuA (denoted as g in code)\n",
    "    - if g is not a single qubit $Z$:\n",
    "        - code generates code to rotate operator to make g diagonal (rotations)\n",
    "        - then constructs map of g to single Z (J rotation)\n",
    "    - Note R is applied to GuA\n",
    "    \n",
    "    \n",
    "#########\n",
    "- Note rotations are given in Appendix A of https://arxiv.org/pdf/2011.10027.pdf\n",
    "    - First code checks if g op in GuA is diagonal\n",
    "        - if so then needs to apply \"K\" rotation (involving $Y$ and $I$ operators (see pg 11 top) to make it NOT diagononal\n",
    "    - now operator will be diagnoal!\n",
    "    - next generate \"J\" rotation\n",
    "        - turns non-diagonal operator into a single qubit $Z$ operator!"
   ]
  },
  {
   "cell_type": "code",
   "execution_count": 26,
   "metadata": {},
   "outputs": [],
   "source": [
    "# Get sequence of rotations requried to diagonalize the generators for the noncontextual ground state!\n",
    "\n",
    "Rotations_list, diagonalized_generators_GuA, eigen_vals_nonC_ground_state_GuA_ops = c.diagonalize_epistemic(model,\n",
    "                                                                                                            fn_form,\n",
    "                                                                                                            ground_state_params)"
   ]
  },
  {
   "cell_type": "code",
   "execution_count": 27,
   "metadata": {},
   "outputs": [
    {
     "data": {
      "text/plain": [
       "[[3.342131729291596, 'XXY'],\n",
       " ['pi/2', 'YII'],\n",
       " ['pi/2', 'YIZ'],\n",
       " ['pi/2', 'IYI'],\n",
       " ['pi/2', 'IYZ']]"
      ]
     },
     "execution_count": 27,
     "metadata": {},
     "output_type": "execute_result"
    }
   ],
   "source": [
    "# rotations to map A to single Pauli operator!\n",
    "Rotations_list"
   ]
  },
  {
   "cell_type": "code",
   "execution_count": 28,
   "metadata": {},
   "outputs": [
    {
     "data": {
      "text/plain": [
       "['ZII', 'IZI', 'IIZ']"
      ]
     },
     "execution_count": 28,
     "metadata": {},
     "output_type": "execute_result"
    }
   ],
   "source": [
    "# rotations to diagonlize G\n",
    "diagonalized_generators_GuA"
   ]
  },
  {
   "cell_type": "code",
   "execution_count": 29,
   "metadata": {},
   "outputs": [
    {
     "data": {
      "text/plain": [
       "array([ 1., -1.,  1.])"
      ]
     },
     "execution_count": 29,
     "metadata": {},
     "output_type": "execute_result"
    }
   ],
   "source": [
    "eigen_vals_nonC_ground_state_GuA_ops"
   ]
  },
  {
   "cell_type": "code",
   "execution_count": 30,
   "metadata": {},
   "outputs": [],
   "source": [
    "# for rotation in Rotations_list:\n",
    "#     for p in ham:\n",
    "#         if not c.commute(rotation[1],p):\n",
    "#             print(rotation)\n",
    "#     print()"
   ]
  },
  {
   "cell_type": "code",
   "execution_count": 31,
   "metadata": {},
   "outputs": [],
   "source": [
    "model = [G_list, Ci1_list, all_mappings]\n",
    "ham_noncon = hamiltonians[mol_key][3]\n",
    "\n",
    "lowest_eigenvalue, ground_state_params, model_copy, fn_form_copy,  = c.find_gs_noncon(\n",
    "               ham_noncon,#nonCon_H,\n",
    "               method = 'differential_evolution',\n",
    "               model=model,\n",
    "               fn_form=fn_form) # returns:  best + [model, fn_form]"
   ]
  },
  {
   "cell_type": "markdown",
   "metadata": {},
   "source": [
    "# Will's method"
   ]
  },
  {
   "cell_type": "code",
   "execution_count": 32,
   "metadata": {},
   "outputs": [
    {
     "data": {
      "text/plain": [
       "[0, 2, 1]"
      ]
     },
     "execution_count": 32,
     "metadata": {},
     "output_type": "execute_result"
    }
   ],
   "source": [
    "ham_noncon = hamiltonians[mol_key][3]\n",
    "n_qubits = hamiltonians[mol_key][1]\n",
    "true_gs= hamiltonians[mol_key][4]\n",
    "\n",
    "true_gs, approxs_out, errors_out, order_out = c.csvqe_approximations_heuristic(ham,\n",
    "                                                                                   ham_noncon,\n",
    "                                                                                   n_qubits, \n",
    "                                                                                   true_gs)\n",
    "order_out"
   ]
  },
  {
   "cell_type": "code",
   "execution_count": 33,
   "metadata": {},
   "outputs": [
    {
     "data": {
      "text/plain": [
       "[0.012805571551730122,\n",
       " 0.0003080609044734395,\n",
       " -1.3322676295501878e-15,\n",
       " 8.881784197001252e-16]"
      ]
     },
     "execution_count": 33,
     "metadata": {},
     "output_type": "execute_result"
    }
   ],
   "source": [
    "errors_out"
   ]
  },
  {
   "cell_type": "code",
   "execution_count": 34,
   "metadata": {},
   "outputs": [
    {
     "data": {
      "text/plain": [
       "4"
      ]
     },
     "execution_count": 34,
     "metadata": {},
     "output_type": "execute_result"
    }
   ],
   "source": [
    "### old way\n",
    "# order = list(range(hamiltonians[mol_key][1]))\n",
    "order = order_out\n",
    "red_H = c.get_reduced_hamiltonians(ham,\n",
    "                           model,\n",
    "                           fn_form,\n",
    "                           ground_state_params,\n",
    "                           order)\n",
    "len(red_H)"
   ]
  },
  {
   "cell_type": "code",
   "execution_count": 35,
   "metadata": {},
   "outputs": [
    {
     "data": {
      "text/plain": [
       "[0, 1, 2]"
      ]
     },
     "execution_count": 35,
     "metadata": {},
     "output_type": "execute_result"
    }
   ],
   "source": [
    "list(range(hamiltonians[mol_key][1]))"
   ]
  },
  {
   "cell_type": "code",
   "execution_count": 36,
   "metadata": {},
   "outputs": [
    {
     "data": {
      "text/plain": [
       "{'II': -1.438528639099044,\n",
       " 'IZ': 0.01919944551942593,\n",
       " 'ZX': 0.07733163398184689,\n",
       " 'YY': -0.06305338666771393,\n",
       " 'XI': 0.051042861476446974,\n",
       " 'XZ': -0.03745984341074934,\n",
       " 'IX': -0.07733163397053659,\n",
       " 'ZZ': -0.7416716156049102,\n",
       " 'ZI': -0.7422121095321959,\n",
       " 'XX': 0.07195737217001562}"
      ]
     },
     "execution_count": 36,
     "metadata": {},
     "output_type": "execute_result"
    }
   ],
   "source": [
    "red_H[2]"
   ]
  },
  {
   "cell_type": "code",
   "execution_count": 37,
   "metadata": {},
   "outputs": [
    {
     "data": {
      "text/plain": [
       "[-2.903212918716724,\n",
       " -2.9157104293639806,\n",
       " -2.9160184902684554,\n",
       " -2.916018490268453]"
      ]
     },
     "execution_count": 37,
     "metadata": {},
     "output_type": "execute_result"
    }
   ],
   "source": [
    "approxs_out"
   ]
  },
  {
   "cell_type": "markdown",
   "metadata": {},
   "source": [
    "# MY way  - SeqRot"
   ]
  },
  {
   "cell_type": "code",
   "execution_count": 38,
   "metadata": {},
   "outputs": [],
   "source": [
    "import cs_vqe_with_SeqRot as c_SeqRot"
   ]
  },
  {
   "cell_type": "code",
   "execution_count": 39,
   "metadata": {},
   "outputs": [
    {
     "data": {
      "text/plain": [
       "[0, 2, 1]"
      ]
     },
     "execution_count": 39,
     "metadata": {},
     "output_type": "execute_result"
    }
   ],
   "source": [
    "ham_noncon = hamiltonians[mol_key][3]\n",
    "n_qubits = hamiltonians[mol_key][1]\n",
    "true_gs= hamiltonians[mol_key][4]\n",
    "\n",
    "true_gs, approxs_out, errors_out, order_out = c_SeqRot.csvqe_approximations_heuristic_SeqRot(ham,\n",
    "                                                                                   ham_noncon,\n",
    "                                                                                   n_qubits, \n",
    "                                                                                   true_gs)\n",
    "\n",
    "from copy import deepcopy \n",
    "updated_order = deepcopy(order_out)\n",
    "updated_order"
   ]
  },
  {
   "cell_type": "code",
   "execution_count": 40,
   "metadata": {},
   "outputs": [
    {
     "data": {
      "text/plain": [
       "[0.012805571551729678, 0.0003080609044729954, 0.0, 2.6645352591003757e-15]"
      ]
     },
     "execution_count": 40,
     "metadata": {},
     "output_type": "execute_result"
    }
   ],
   "source": [
    "errors_out"
   ]
  },
  {
   "cell_type": "code",
   "execution_count": 41,
   "metadata": {},
   "outputs": [
    {
     "data": {
      "text/plain": [
       "4"
      ]
     },
     "execution_count": 41,
     "metadata": {},
     "output_type": "execute_result"
    }
   ],
   "source": [
    "\n",
    "red_H_SeqRot = c_SeqRot.get_reduced_hamiltonians_SeqRot(ham,\n",
    "                           model,\n",
    "                           fn_form,\n",
    "                           ground_state_params,\n",
    "                           updated_order,\n",
    "                          check_reduction=True)#order)\n",
    "len(red_H_SeqRot)"
   ]
  },
  {
   "cell_type": "code",
   "execution_count": null,
   "metadata": {},
   "outputs": [],
   "source": []
  },
  {
   "cell_type": "code",
   "execution_count": 42,
   "metadata": {},
   "outputs": [
    {
     "data": {
      "text/plain": [
       "{'II': -1.4385286390990442,\n",
       " 'IZ': 0.019199445519425935,\n",
       " 'ZX': 0.0773316339818469,\n",
       " 'YY': -0.06305338666771394,\n",
       " 'XI': 0.05104286147644698,\n",
       " 'XZ': -0.037459843410749344,\n",
       " 'IX': -0.07733163397053659,\n",
       " 'ZZ': -0.7416716156049104,\n",
       " 'ZI': -0.7422121095321959,\n",
       " 'XX': 0.07195737217001562}"
      ]
     },
     "execution_count": 42,
     "metadata": {},
     "output_type": "execute_result"
    }
   ],
   "source": [
    "red_H_SeqRot[2]"
   ]
  },
  {
   "cell_type": "code",
   "execution_count": 43,
   "metadata": {},
   "outputs": [
    {
     "data": {
      "text/plain": [
       "{'II': -1.438528639099044,\n",
       " 'IZ': 0.01919944551942593,\n",
       " 'ZX': 0.07733163398184689,\n",
       " 'YY': -0.06305338666771393,\n",
       " 'XI': 0.051042861476446974,\n",
       " 'XZ': -0.03745984341074934,\n",
       " 'IX': -0.07733163397053659,\n",
       " 'ZZ': -0.7416716156049102,\n",
       " 'ZI': -0.7422121095321959,\n",
       " 'XX': 0.07195737217001562}"
      ]
     },
     "execution_count": 43,
     "metadata": {},
     "output_type": "execute_result"
    }
   ],
   "source": [
    "red_H[2]"
   ]
  },
  {
   "cell_type": "code",
   "execution_count": null,
   "metadata": {},
   "outputs": [],
   "source": []
  },
  {
   "cell_type": "markdown",
   "metadata": {},
   "source": [
    "## Check energies"
   ]
  },
  {
   "cell_type": "code",
   "execution_count": 44,
   "metadata": {},
   "outputs": [],
   "source": [
    "hamilt_ind = 0\n",
    "# red_H[hamilt_ind]"
   ]
  },
  {
   "cell_type": "code",
   "execution_count": 45,
   "metadata": {},
   "outputs": [
    {
     "data": {
      "text/plain": [
       "-2.903212918716725"
      ]
     },
     "execution_count": 45,
     "metadata": {},
     "output_type": "execute_result"
    }
   ],
   "source": [
    "import conversion_scripts as conv_scr\n",
    "\n",
    "H = conv_scr.Get_Openfermion_Hamiltonian(red_H[hamilt_ind])\n",
    "sparseH = qubit_operator_sparse(H, n_qubits=hamiltonians[mol_key][1])\n",
    "# sp.sparse.linalg.eigsh(sparseH, which='SA', k=1)[0][0]\n",
    "min(np.linalg.eigvalsh(sparseH.todense()))"
   ]
  },
  {
   "cell_type": "code",
   "execution_count": 46,
   "metadata": {},
   "outputs": [
    {
     "data": {
      "text/plain": [
       "-2.903212918716725"
      ]
     },
     "execution_count": 46,
     "metadata": {},
     "output_type": "execute_result"
    }
   ],
   "source": [
    "H = conv_scr.Get_Openfermion_Hamiltonian(red_H_SeqRot[hamilt_ind])\n",
    "sparseH = qubit_operator_sparse(H, n_qubits=hamiltonians[mol_key][1])\n",
    "# sp.sparse.linalg.eigsh(sparseH, which='SA', k=1)[0][0]\n",
    "min(np.linalg.eigvalsh(sparseH.todense()))"
   ]
  },
  {
   "cell_type": "code",
   "execution_count": 47,
   "metadata": {},
   "outputs": [
    {
     "data": {
      "text/plain": [
       "-2.916018490268456"
      ]
     },
     "execution_count": 47,
     "metadata": {},
     "output_type": "execute_result"
    }
   ],
   "source": [
    "H = conv_scr.Get_Openfermion_Hamiltonian(ham)\n",
    "sparseH = qubit_operator_sparse(H, n_qubits=hamiltonians[mol_key][1])\n",
    "# sp.sparse.linalg.eigsh(sparseH, which='SA', k=1)[0][0]\n",
    "min(np.linalg.eigvalsh(sparseH.todense()))"
   ]
  },
  {
   "cell_type": "code",
   "execution_count": null,
   "metadata": {},
   "outputs": [],
   "source": []
  },
  {
   "cell_type": "markdown",
   "metadata": {},
   "source": [
    "# MY way  - LCU"
   ]
  },
  {
   "cell_type": "code",
   "execution_count": 48,
   "metadata": {},
   "outputs": [],
   "source": [
    "import cs_vqe_with_LCU as c_LCU"
   ]
  },
  {
   "cell_type": "code",
   "execution_count": 49,
   "metadata": {},
   "outputs": [
    {
     "data": {
      "text/plain": [
       "[0, 2, 1]"
      ]
     },
     "execution_count": 49,
     "metadata": {},
     "output_type": "execute_result"
    }
   ],
   "source": [
    "ham_noncon = hamiltonians[mol_key][3]\n",
    "n_qubits = hamiltonians[mol_key][1]\n",
    "true_gs= hamiltonians[mol_key][4]\n",
    "N_index=0\n",
    "gs_true, approxs_out, errors_out, order_out = c_LCU.csvqe_approximations_heuristic_LCU(ham, \n",
    "                                                                                       ham_noncon, \n",
    "                                                                                       n_qubits,\n",
    "                                                                                       true_gs,\n",
    "                                                                                       check_reduction=True)\n",
    "\n",
    "from copy import deepcopy \n",
    "updated_order = deepcopy(order_out)\n",
    "updated_order"
   ]
  },
  {
   "cell_type": "code",
   "execution_count": 50,
   "metadata": {},
   "outputs": [
    {
     "data": {
      "text/plain": [
       "[-2.9032129187167244,\n",
       " -2.9157104293639806,\n",
       " -2.916018490268454,\n",
       " -2.916018490268453]"
      ]
     },
     "execution_count": 50,
     "metadata": {},
     "output_type": "execute_result"
    }
   ],
   "source": [
    "approxs_out"
   ]
  },
  {
   "cell_type": "code",
   "execution_count": 51,
   "metadata": {},
   "outputs": [
    {
     "data": {
      "text/plain": [
       "True"
      ]
     },
     "execution_count": 51,
     "metadata": {},
     "output_type": "execute_result"
    }
   ],
   "source": [
    "nonCon_H == hamiltonians[mol_key][3] # something odd here!"
   ]
  },
  {
   "cell_type": "code",
   "execution_count": 52,
   "metadata": {},
   "outputs": [
    {
     "name": "stdout",
     "output_type": "stream",
     "text": [
      "-2.903212918716725\n",
      "[[-1, 1], [-0.9799593376325533, -0.19919763198082302]]\n"
     ]
    }
   ],
   "source": [
    "model = [G_list, Ci1_list, all_mappings]\n",
    "\n",
    "lowest_eigenvalue, ground_state_params, model_copy, fn_form_copy,  = c.find_gs_noncon(nonCon_H,\n",
    "               method = 'differential_evolution',\n",
    "               model=model,\n",
    "               fn_form=fn_form) # returns:  best + [model, fn_form]\n",
    "\n",
    "print(lowest_eigenvalue)\n",
    "print(ground_state_params)"
   ]
  },
  {
   "cell_type": "code",
   "execution_count": null,
   "metadata": {},
   "outputs": [],
   "source": []
  },
  {
   "cell_type": "code",
   "execution_count": 53,
   "metadata": {},
   "outputs": [
    {
     "data": {
      "text/plain": [
       "4"
      ]
     },
     "execution_count": 53,
     "metadata": {},
     "output_type": "execute_result"
    }
   ],
   "source": [
    "\n",
    "red_H_LCU = c_LCU.get_reduced_hamiltonians_LCU(ham,\n",
    "                           model,\n",
    "                           fn_form,\n",
    "                           ground_state_params,\n",
    "                           updated_order,\n",
    "                          check_reduction=True)#order)\n",
    "len(red_H_LCU)"
   ]
  },
  {
   "cell_type": "code",
   "execution_count": 54,
   "metadata": {},
   "outputs": [
    {
     "data": {
      "text/plain": [
       "-2.903275084812363"
      ]
     },
     "execution_count": 54,
     "metadata": {},
     "output_type": "execute_result"
    }
   ],
   "source": [
    "H = conv_scr.Get_Openfermion_Hamiltonian(red_H_LCU[1])\n",
    "sparseH = qubit_operator_sparse(H, n_qubits=hamiltonians[mol_key][1])\n",
    "# sp.sparse.linalg.eigsh(sparseH, which='SA', k=1)[0][0]\n",
    "min(np.linalg.eigvalsh(sparseH.todense()))"
   ]
  },
  {
   "cell_type": "code",
   "execution_count": null,
   "metadata": {},
   "outputs": [],
   "source": []
  },
  {
   "cell_type": "markdown",
   "metadata": {},
   "source": [
    "# check H of different methods"
   ]
  },
  {
   "cell_type": "code",
   "execution_count": 56,
   "metadata": {},
   "outputs": [
    {
     "data": {
      "text/plain": [
       "{'II': -1.438528639099044,\n",
       " 'IZ': 0.019199445519425987,\n",
       " 'ZX': 0.07733163398184688,\n",
       " 'YY': -0.06305338666771397,\n",
       " 'XI': 0.05104286147644694,\n",
       " 'XZ': -0.037459843410749344,\n",
       " 'IX': -0.07733163397053612,\n",
       " 'ZZ': -0.7416716156049104,\n",
       " 'ZI': -0.7422121095321959,\n",
       " 'XX': 0.07195737217001562}"
      ]
     },
     "execution_count": 56,
     "metadata": {},
     "output_type": "execute_result"
    }
   ],
   "source": [
    "red_H_LCU[-2]"
   ]
  },
  {
   "cell_type": "code",
   "execution_count": 57,
   "metadata": {},
   "outputs": [
    {
     "data": {
      "text/plain": [
       "{'II': -1.4385286390990442,\n",
       " 'IZ': 0.019199445519425935,\n",
       " 'ZX': 0.0773316339818469,\n",
       " 'YY': -0.06305338666771394,\n",
       " 'XI': 0.05104286147644698,\n",
       " 'XZ': -0.037459843410749344,\n",
       " 'IX': -0.07733163397053659,\n",
       " 'ZZ': -0.7416716156049104,\n",
       " 'ZI': -0.7422121095321959,\n",
       " 'XX': 0.07195737217001562}"
      ]
     },
     "execution_count": 57,
     "metadata": {},
     "output_type": "execute_result"
    }
   ],
   "source": [
    "red_H_SeqRot[-2]"
   ]
  },
  {
   "cell_type": "code",
   "execution_count": 58,
   "metadata": {},
   "outputs": [
    {
     "data": {
      "text/plain": [
       "{'II': -1.438528639099044,\n",
       " 'IZ': 0.01919944551942593,\n",
       " 'ZX': 0.07733163398184689,\n",
       " 'YY': -0.06305338666771393,\n",
       " 'XI': 0.051042861476446974,\n",
       " 'XZ': -0.03745984341074934,\n",
       " 'IX': -0.07733163397053659,\n",
       " 'ZZ': -0.7416716156049102,\n",
       " 'ZI': -0.7422121095321959,\n",
       " 'XX': 0.07195737217001562}"
      ]
     },
     "execution_count": 58,
     "metadata": {},
     "output_type": "execute_result"
    }
   ],
   "source": [
    "red_H[-2] # Will's way"
   ]
  },
  {
   "cell_type": "code",
   "execution_count": null,
   "metadata": {},
   "outputs": [],
   "source": []
  },
  {
   "cell_type": "code",
   "execution_count": null,
   "metadata": {},
   "outputs": [],
   "source": []
  }
 ],
 "metadata": {
  "kernelspec": {
   "display_name": "Python 3",
   "language": "python",
   "name": "python3"
  },
  "language_info": {
   "codemirror_mode": {
    "name": "ipython",
    "version": 3
   },
   "file_extension": ".py",
   "mimetype": "text/x-python",
   "name": "python",
   "nbconvert_exporter": "python",
   "pygments_lexer": "ipython3",
   "version": "3.8.5"
  }
 },
 "nbformat": 4,
 "nbformat_minor": 2
}
