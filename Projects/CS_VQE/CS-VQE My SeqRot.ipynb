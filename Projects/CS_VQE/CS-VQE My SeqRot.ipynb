{
 "cells": [
  {
   "cell_type": "code",
   "execution_count": 1,
   "metadata": {},
   "outputs": [],
   "source": [
    "import numpy as np\n",
    "import cs_vqe as c\n",
    "import ast\n",
    "import os\n",
    "\n",
    "from openfermion import qubit_operator_sparse\n",
    "import conversion_scripts as conv_scr\n",
    "import scipy as sp"
   ]
  },
  {
   "cell_type": "code",
   "execution_count": 2,
   "metadata": {},
   "outputs": [],
   "source": [
    "from openfermion import qubit_operator_sparse\n",
    "import conversion_scripts as conv_scr\n",
    "from openfermion.ops import QubitOperator"
   ]
  },
  {
   "cell_type": "code",
   "execution_count": 3,
   "metadata": {},
   "outputs": [],
   "source": [
    "# with open(\"hamiltonians.txt\", 'r') as input_file:\n",
    "#     hamiltonians = ast.literal_eval(input_file.read())\n",
    "    \n",
    "working_dir = os.getcwd()\n",
    "data_dir = os.path.join(working_dir, 'data')\n",
    "data_hamiltonians_file = os.path.join(data_dir, 'hamiltonians.txt')\n",
    "\n",
    "\n",
    "with open(data_hamiltonians_file, 'r') as input_file:\n",
    "    hamiltonians = ast.literal_eval(input_file.read())"
   ]
  },
  {
   "cell_type": "code",
   "execution_count": 4,
   "metadata": {},
   "outputs": [
    {
     "name": "stdout",
     "output_type": "stream",
     "text": [
      "H2-S1_STO-3G_singlet          n_qubits:  18   \n",
      "C1-O1_STO-3G_singlet          n_qubits:  16   \n",
      "H1-Cl1_STO-3G_singlet         n_qubits:  16   \n",
      "H1-Na1_STO-3G_singlet         n_qubits:  16   \n",
      "H2-Mg1_STO-3G_singlet         n_qubits:  17   \n",
      "H1-F1_3-21G_singlet           n_qubits:  18   \n",
      "H1-Li1_3-21G_singlet          n_qubits:  18   \n",
      "Be1_STO-3G_singlet            n_qubits:  5    \n",
      "H1-F1_STO-3G_singlet          n_qubits:  8    \n",
      "H1-Li1_STO-3G_singlet         n_qubits:  8    \n",
      "Ar1_STO-3G_singlet            n_qubits:  13   \n",
      "F2_STO-3G_singlet             n_qubits:  15   \n",
      "H1-O1_STO-3G_singlet          n_qubits:  8    \n",
      "H2-Be1_STO-3G_singlet         n_qubits:  9    \n",
      "H2-O1_STO-3G_singlet          n_qubits:  10   \n",
      "H2_3-21G_singlet              n_qubits:  5    \n",
      "H2_6-31G_singlet              n_qubits:  5    \n",
      "H3-N1_STO-3G_singlet          n_qubits:  13   \n",
      "H4-C1_STO-3G_singlet          n_qubits:  14   \n",
      "Mg1_STO-3G_singlet            n_qubits:  13   \n",
      "N2_STO-3G_singlet             n_qubits:  15   \n",
      "Ne1_STO-3G_singlet            n_qubits:  5    \n",
      "O2_STO-3G_singlet             n_qubits:  15   \n",
      "H1-Li1-O1_STO-3G_singlet      n_qubits:  18   \n",
      "H1-He1_STO-3G_singlet         n_qubits:  2    \n",
      "H3_STO-3G_singlet_1+          n_qubits:  3    \n",
      "H1-He1_3-21G_singlet_1+       n_qubits:  6    \n",
      "H3_3-21G_singlet_1+           n_qubits:  9    \n",
      "H4-N1_STO-3G_singlet_1+       n_qubits:  14   \n"
     ]
    }
   ],
   "source": [
    "for key in hamiltonians.keys():\n",
    "    print(f\"{key: <25}     n_qubits:  {hamiltonians[key][1]:<5.0f}\")"
   ]
  },
  {
   "cell_type": "code",
   "execution_count": 5,
   "metadata": {},
   "outputs": [
    {
     "data": {
      "text/plain": [
       "{'III': -1.7512307459285525,\n",
       " 'IIX': -0.023568152336180023,\n",
       " 'IIZ': -0.017109477140260287,\n",
       " 'IXI': 0.02356815233618002,\n",
       " 'IXZ': 0.02356815233617983,\n",
       " 'IYY': -0.07195737217001562,\n",
       " 'IZI': -0.017109477140260287,\n",
       " 'IZX': -0.023568152336179825,\n",
       " 'IZZ': 0.31270210682950855,\n",
       " 'XII': 0.01872992170537467,\n",
       " 'XIX': 0.023568139980123585,\n",
       " 'XIZ': 0.01872992170537467,\n",
       " 'XXI': -0.023568139980123585,\n",
       " 'XXX': 0.03597868636603963,\n",
       " 'XXZ': -0.023568139980123585,\n",
       " 'XYY': -0.03597868636603963,\n",
       " 'XZI': 0.01872992170537467,\n",
       " 'XZX': 0.023568139980123585,\n",
       " 'XZZ': 0.01872992170537467,\n",
       " 'YIY': 0.023568139980123585,\n",
       " 'YXY': 0.03597868636603963,\n",
       " 'YYI': -0.023568139980123585,\n",
       " 'YYX': 0.03597868636603963,\n",
       " 'YYZ': -0.023568139980123585,\n",
       " 'YZY': 0.023568139980123585,\n",
       " 'ZII': -0.45436486525596403,\n",
       " 'ZIX': -0.023568152336180023,\n",
       " 'ZIZ': 0.37110605476609787,\n",
       " 'ZXI': 0.02356815233618002,\n",
       " 'ZXZ': 0.02356815233617983,\n",
       " 'ZYY': -0.07195737217001562,\n",
       " 'ZZI': 0.37110605476609804,\n",
       " 'ZZX': -0.023568152336179825,\n",
       " 'ZZZ': -0.2878474382772282}"
      ]
     },
     "execution_count": 5,
     "metadata": {},
     "output_type": "execute_result"
    }
   ],
   "source": [
    "# mol_key = 'H2_6-31G_singlet'  \n",
    "# mol_key ='H2-O1_STO-3G_singlet'\n",
    "# mol_key = 'H1-He1_3-21G_singlet_1+'\n",
    "mol_key = 'H3_STO-3G_singlet_1+'\n",
    "\n",
    "# currently index 2 is contextual part\n",
    "# ''''''''''''''''3 is NON contextual part\n",
    "\n",
    "# join together for full Hamiltonian:\n",
    "ham = hamiltonians[mol_key][2]\n",
    "ham.update(hamiltonians[mol_key][3]) # full H \n",
    "ham"
   ]
  },
  {
   "cell_type": "code",
   "execution_count": 6,
   "metadata": {},
   "outputs": [
    {
     "name": "stdout",
     "output_type": "stream",
     "text": [
      "n_qubits:  3\n"
     ]
    }
   ],
   "source": [
    "print(f\"n_qubits:  {hamiltonians[mol_key][1]}\")"
   ]
  },
  {
   "cell_type": "markdown",
   "metadata": {},
   "source": [
    "# Get non-contextual H"
   ]
  },
  {
   "cell_type": "code",
   "execution_count": 7,
   "metadata": {},
   "outputs": [],
   "source": [
    "nonH_guesses = c.greedy_dfs(ham, 10, criterion='weight')\n",
    "\n",
    "nonH = max(nonH_guesses, key=lambda x:len(x)) # largest nonCon part found by dfs alg"
   ]
  },
  {
   "cell_type": "code",
   "execution_count": null,
   "metadata": {},
   "outputs": [],
   "source": []
  },
  {
   "cell_type": "markdown",
   "metadata": {},
   "source": [
    "Split into:\n",
    "\n",
    "$$H = H_{c} + H_{nc}$$"
   ]
  },
  {
   "cell_type": "code",
   "execution_count": 8,
   "metadata": {
    "code_folding": [
     4
    ]
   },
   "outputs": [],
   "source": [
    "nonCon_H = {}\n",
    "Con_H = {}\n",
    "\n",
    "for P in ham:\n",
    "    if P in nonH:\n",
    "        nonCon_H[P]=ham[P]\n",
    "    else:\n",
    "        Con_H[P]=ham[P]\n",
    "        "
   ]
  },
  {
   "cell_type": "markdown",
   "metadata": {},
   "source": [
    "## Testing contextuality"
   ]
  },
  {
   "cell_type": "code",
   "execution_count": 9,
   "metadata": {},
   "outputs": [
    {
     "name": "stdout",
     "output_type": "stream",
     "text": [
      "Is NONcontextual correct: True\n",
      "Is contextual correct: True\n"
     ]
    }
   ],
   "source": [
    "print('Is NONcontextual correct:', not c.contextualQ_ham(nonCon_H))\n",
    "print('Is contextual correct:',c.contextualQ_ham(Con_H))"
   ]
  },
  {
   "cell_type": "markdown",
   "metadata": {},
   "source": [
    "# Classical part of problem!"
   ]
  },
  {
   "cell_type": "markdown",
   "metadata": {},
   "source": [
    "Take $H_{nc}$ and split into:\n",
    "- $Z$ = operators that completely comute with all operators in $S$\n",
    "- $T$ = remaining operators in $S$\n",
    "    - where $S = Z \\cup T$  and $S$ is set of Pauli operators in $H_{nc}$\n",
    "    \n",
    "    \n",
    "- We then split the set $T$ into cliques $C_{1}, C_{2}, ... , C_{|T|}$\n",
    "    - all ops in a clique commute\n",
    "    - ops between cliques anti-commute!"
   ]
  },
  {
   "cell_type": "code",
   "execution_count": 10,
   "metadata": {},
   "outputs": [],
   "source": [
    "bool_flag, Z_list, T_list = c.contextualQ(list(nonCon_H.keys()), verbose=True)"
   ]
  },
  {
   "cell_type": "code",
   "execution_count": 11,
   "metadata": {},
   "outputs": [
    {
     "data": {
      "text/plain": [
       "['III', 'IZZ', 'ZIZ', 'ZZI']"
      ]
     },
     "execution_count": 11,
     "metadata": {},
     "output_type": "execute_result"
    }
   ],
   "source": [
    "Z_list"
   ]
  },
  {
   "cell_type": "code",
   "execution_count": 12,
   "metadata": {},
   "outputs": [
    {
     "data": {
      "text/plain": [
       "['IIZ', 'IZI', 'XXX', 'XYY', 'YXY', 'YYX', 'ZII', 'ZZZ']"
      ]
     },
     "execution_count": 12,
     "metadata": {},
     "output_type": "execute_result"
    }
   ],
   "source": [
    "T_list"
   ]
  },
  {
   "cell_type": "markdown",
   "metadata": {},
   "source": [
    "## Get quasi model\n",
    "\n",
    "First we define\n",
    "\n",
    "- $C_{i1}$ = first Pauli in each $C_{i}$ set\n",
    "- $A_{ij} = C_{ij}C_{1i}$\n",
    "\n",
    "\n",
    "- $G^{prime} = \\{1 P_{i} \\;| \\; i=1,2,...,|Z| \\}$\n",
    "    - aka all the completely commuting terms with coefficients set to +1!\n",
    "\n",
    "- We define G to be an independent set of $G^{prime}$\n",
    "    - where $G \\subseteq G^{prime}$\n"
   ]
  },
  {
   "cell_type": "code",
   "execution_count": 13,
   "metadata": {},
   "outputs": [],
   "source": [
    "G_list, Ci1_list, all_mappings = c.quasi_model(nonCon_H)"
   ]
  },
  {
   "cell_type": "code",
   "execution_count": 14,
   "metadata": {},
   "outputs": [
    {
     "name": "stdout",
     "output_type": "stream",
     "text": [
      "non-independent Z list: ['III', 'IZZ', 'ZIZ', 'ZZI']\n",
      "G (independent) Z list: ['ZIZ', 'IZZ']\n"
     ]
    }
   ],
   "source": [
    "print('non-independent Z list:', Z_list)\n",
    "print('G (independent) Z list:', G_list)"
   ]
  },
  {
   "cell_type": "code",
   "execution_count": 15,
   "metadata": {},
   "outputs": [
    {
     "name": "stdout",
     "output_type": "stream",
     "text": [
      "all Ci1 terms: ['IIZ', 'XXX']\n"
     ]
    }
   ],
   "source": [
    "print('all Ci1 terms:', Ci1_list)"
   ]
  },
  {
   "cell_type": "markdown",
   "metadata": {},
   "source": [
    "$$R = G \\cup \\{ C_{i1} \\;| \\; i=1,2,...,N \\}$$"
   ]
  },
  {
   "cell_type": "code",
   "execution_count": 16,
   "metadata": {},
   "outputs": [
    {
     "data": {
      "text/plain": [
       "{'III': [[], [], 1],\n",
       " 'IIZ': [[], ['IIZ'], 1],\n",
       " 'IZI': [['IZZ'], ['IIZ'], 1],\n",
       " 'IZZ': [['IZZ'], [], 1],\n",
       " 'XXX': [[], ['XXX'], 1],\n",
       " 'XYY': [['IZZ'], ['XXX'], (-1+0j)],\n",
       " 'YXY': [['ZIZ'], ['XXX'], (-1+0j)],\n",
       " 'YYX': [['ZIZ', 'IZZ'], ['XXX'], (-1+0j)],\n",
       " 'ZII': [['ZIZ'], ['IIZ'], 1],\n",
       " 'ZIZ': [['ZIZ'], [], 1],\n",
       " 'ZZI': [['ZIZ', 'IZZ'], [], 1],\n",
       " 'ZZZ': [['ZIZ', 'IZZ'], ['IIZ'], 1]}"
      ]
     },
     "execution_count": 16,
     "metadata": {},
     "output_type": "execute_result"
    }
   ],
   "source": [
    "# Assemble all the mappings from terms in the Hamiltonian to their products in R:\n",
    "all_mappings"
   ]
  },
  {
   "cell_type": "markdown",
   "metadata": {},
   "source": [
    "Overall $R$ is basically reduced non-contextual set\n",
    "- where everything in original non-contextual set can be found by **inference!**"
   ]
  },
  {
   "cell_type": "code",
   "execution_count": null,
   "metadata": {},
   "outputs": [],
   "source": []
  },
  {
   "cell_type": "markdown",
   "metadata": {},
   "source": [
    "# Function form\n",
    "\n",
    "$$R = G \\cup \\{ C_{i1} \\;| \\; i=1,2,...,N \\}$$\n",
    "\n",
    "- note q to do with $G$\n",
    "- note r to do with $C_{i1}$"
   ]
  },
  {
   "cell_type": "code",
   "execution_count": 17,
   "metadata": {},
   "outputs": [],
   "source": [
    "model = [G_list, Ci1_list, all_mappings]\n",
    "\n",
    "fn_form = c.energy_function_form(nonCon_H, model)\n",
    "\n",
    "# returns [\n",
    "#            denstion of q,\n",
    "#            dimension of r,\n",
    "#            [coeff, indices of q's, indices of r's, term in Hamiltonian]\n",
    "#         ]\n"
   ]
  },
  {
   "cell_type": "code",
   "execution_count": 18,
   "metadata": {},
   "outputs": [
    {
     "data": {
      "text/plain": [
       "[2,\n",
       " 2,\n",
       " [[-1.7512307459285525, [], [], 'III'],\n",
       "  [-0.017109477140260287, [], [0], 'IIZ'],\n",
       "  [-0.017109477140260287, [1], [0], 'IZI'],\n",
       "  [0.31270210682950855, [1], [], 'IZZ'],\n",
       "  [0.03597868636603963, [], [1], 'XXX'],\n",
       "  [(0.03597868636603963-0j), [1], [1], 'XYY'],\n",
       "  [(-0.03597868636603963+0j), [0], [1], 'YXY'],\n",
       "  [(-0.03597868636603963+0j), [0, 1], [1], 'YYX'],\n",
       "  [-0.45436486525596403, [0], [0], 'ZII'],\n",
       "  [0.37110605476609787, [0], [], 'ZIZ'],\n",
       "  [0.37110605476609804, [0, 1], [], 'ZZI'],\n",
       "  [-0.2878474382772282, [0, 1], [0], 'ZZZ']]]"
      ]
     },
     "execution_count": 18,
     "metadata": {},
     "output_type": "execute_result"
    }
   ],
   "source": [
    "fn_form"
   ]
  },
  {
   "cell_type": "code",
   "execution_count": 19,
   "metadata": {},
   "outputs": [],
   "source": [
    "Energy_function = c.energy_function(fn_form)"
   ]
  },
  {
   "cell_type": "code",
   "execution_count": 20,
   "metadata": {},
   "outputs": [
    {
     "data": {
      "text/plain": [
       "(1.0, -0.0, -0.0, -0.0, 0.0)"
      ]
     },
     "execution_count": 20,
     "metadata": {},
     "output_type": "execute_result"
    }
   ],
   "source": [
    "import random\n",
    "\n",
    "### now for the q terms we only have +1 or -1 assignment!\n",
    "q_variables = [random.choice([1,-1]) for _ in range(fn_form[0])]\n",
    "\n",
    "\n",
    "### r variables is anything that makes up unit vector!\n",
    "r_variables = c.angular(np.arange(0,2*np.pi, fn_form[1]))\n",
    "r_variables"
   ]
  },
  {
   "cell_type": "code",
   "execution_count": 21,
   "metadata": {},
   "outputs": [
    {
     "data": {
      "text/plain": [
       "-1.897415425779325"
      ]
     },
     "execution_count": 21,
     "metadata": {},
     "output_type": "execute_result"
    }
   ],
   "source": [
    " Energy_function(*q_variables,*r_variables)"
   ]
  },
  {
   "cell_type": "markdown",
   "metadata": {},
   "source": [
    "find_gs_nonconfunction optimizes above steps by:\n",
    "1. brute forcing all choices of ```q_variables```\n",
    "    - ```itertools.product([1,-1],repeat=fn_form[0])```\n",
    "2. optimizing over ```r_variables``` (in code ```x```)\n",
    "    - using SciPy optimizer!"
   ]
  },
  {
   "cell_type": "code",
   "execution_count": 22,
   "metadata": {},
   "outputs": [
    {
     "name": "stdout",
     "output_type": "stream",
     "text": [
      "-2.903212918716725\n",
      "[[-1, 1], [-0.9799593376325533, -0.19919763198082302]]\n"
     ]
    }
   ],
   "source": [
    "model = [G_list, Ci1_list, all_mappings]\n",
    "\n",
    "lowest_eigenvalue, ground_state_params, model_copy, fn_form_copy,  = c.find_gs_noncon(nonCon_H,\n",
    "               method = 'differential_evolution',\n",
    "               model=model,\n",
    "               fn_form=fn_form) # returns:  best + [model, fn_form]\n",
    "\n",
    "print(lowest_eigenvalue)\n",
    "print(ground_state_params)"
   ]
  },
  {
   "cell_type": "code",
   "execution_count": 23,
   "metadata": {},
   "outputs": [
    {
     "data": {
      "text/plain": [
       "True"
      ]
     },
     "execution_count": 23,
     "metadata": {},
     "output_type": "execute_result"
    }
   ],
   "source": [
    "## check\n",
    "Energy_function(*ground_state_params[0],*ground_state_params[1]) == lowest_eigenvalue"
   ]
  },
  {
   "cell_type": "code",
   "execution_count": null,
   "metadata": {},
   "outputs": [],
   "source": []
  },
  {
   "cell_type": "markdown",
   "metadata": {},
   "source": [
    "# Now need to rotate Hamiltonian!"
   ]
  },
  {
   "cell_type": "markdown",
   "metadata": {},
   "source": [
    "We now have non contextual ground state: $(\\vec{q}, \\vec{r})$"
   ]
  },
  {
   "cell_type": "code",
   "execution_count": 24,
   "metadata": {},
   "outputs": [
    {
     "data": {
      "text/plain": [
       "[[-1, 1], [-0.9799593376325533, -0.19919763198082302]]"
      ]
     },
     "execution_count": 24,
     "metadata": {},
     "output_type": "execute_result"
    }
   ],
   "source": [
    "ground_state_params"
   ]
  },
  {
   "cell_type": "markdown",
   "metadata": {},
   "source": [
    "We can use this result - ground state of $H_{nc}$ -  as a classical estiamte of our ground state of the full Hamiltonian ($H = H_{c} + H_{nc}$)\n",
    "\n",
    "However we can also obtain a quantum correction using $H_{c}$\n",
    "\n",
    "By minimizing theenergy of the remaining terms in the Hamiltonian over the quantum states that are **consistent with the noncon-textual ground state**."
   ]
  },
  {
   "cell_type": "code",
   "execution_count": null,
   "metadata": {},
   "outputs": [],
   "source": []
  },
  {
   "cell_type": "code",
   "execution_count": null,
   "metadata": {},
   "outputs": [],
   "source": []
  },
  {
   "cell_type": "markdown",
   "metadata": {},
   "source": [
    "To do this we first rotate each $G_{j}$ and $\\mathcal{A} = \\sum_{i=1}^{N} r_{i}A_{i}$:"
   ]
  },
  {
   "cell_type": "code",
   "execution_count": 25,
   "metadata": {},
   "outputs": [
    {
     "name": "stdout",
     "output_type": "stream",
     "text": [
      "['ZIZ', 'IZZ']\n",
      "['IIZ', 'XXX']\n"
     ]
    }
   ],
   "source": [
    "model = [G_list, Ci1_list, all_mappings]\n",
    "\n",
    "print(G_list) # G_j terms!\n",
    "print(Ci1_list) # mathcal(A)"
   ]
  },
  {
   "cell_type": "markdown",
   "metadata": {},
   "source": [
    "to SINGLE QUBIT pauli Z operators!\n",
    "\n",
    "- to map the operators in $G$ to single qubit Pauli operators, we use $\\frac{\\pi}{2}$ rotations!\n",
    "\n",
    "- note $\\mathcal{A}$ is an anti-commuting set... therefore we can use $N-1$ rotations as in unitary partitioning's sequence of rotations to do this!\n",
    "    - $R^{\\dagger}\\mathcal{A} R = \\text{single Pauli op}$"
   ]
  },
  {
   "cell_type": "code",
   "execution_count": null,
   "metadata": {},
   "outputs": [],
   "source": []
  },
  {
   "cell_type": "markdown",
   "metadata": {},
   "source": [
    "# Rotate full Hamiltonian to basis with diagonal noncontextual generators!"
   ]
  },
  {
   "cell_type": "markdown",
   "metadata": {},
   "source": [
    "function ```diagonalize_epistemic```:\n",
    "1. first if else statement:\n",
    "    - if cliques present:\n",
    "        - first maps A to single Pauli operator (if cliques present)\n",
    "        - then rotates to diagonlize G union with single Pauli opator of A (hence GuA name!)\n",
    "    - else if NO cliques present:\n",
    "        - gets rotations to diagonlize G\n",
    "        \n",
    "     - these rotations make up GuA term in code!\n",
    "2. NEXT code loops over terms in GuA (denoted as g in code)\n",
    "    - if g is not a single qubit $Z$:\n",
    "        - code generates code to rotate operator to make g diagonal (rotations)\n",
    "        - then constructs map of g to single Z (J rotation)\n",
    "    - Note R is applied to GuA\n",
    "    \n",
    "    \n",
    "#########\n",
    "- Note rotations are given in Appendix A of https://arxiv.org/pdf/2011.10027.pdf\n",
    "    - First code checks if g op in GuA is diagonal\n",
    "        - if so then needs to apply \"K\" rotation (involving $Y$ and $I$ operators (see pg 11 top) to make it NOT diagononal\n",
    "    - now operator will be diagnoal!\n",
    "    - next generate \"J\" rotation\n",
    "        - turns non-diagonal operator into a single qubit $Z$ operator!"
   ]
  },
  {
   "cell_type": "code",
   "execution_count": 26,
   "metadata": {},
   "outputs": [],
   "source": [
    "# Get sequence of rotations requried to diagonalize the generators for the noncontextual ground state!\n",
    "\n",
    "Rotations_list, diagonalized_generators_GuA, eigen_vals_nonC_ground_state_GuA_ops = c.diagonalize_epistemic(model,\n",
    "                                                                                                            fn_form,\n",
    "                                                                                                            ground_state_params)"
   ]
  },
  {
   "cell_type": "code",
   "execution_count": 27,
   "metadata": {},
   "outputs": [
    {
     "data": {
      "text/plain": [
       "[[3.342131729291596, 'XXY'],\n",
       " ['pi/2', 'YII'],\n",
       " ['pi/2', 'YIZ'],\n",
       " ['pi/2', 'IYI'],\n",
       " ['pi/2', 'IYZ']]"
      ]
     },
     "execution_count": 27,
     "metadata": {},
     "output_type": "execute_result"
    }
   ],
   "source": [
    "# rotations to map A to single Pauli operator!\n",
    "Rotations_list"
   ]
  },
  {
   "cell_type": "code",
   "execution_count": 28,
   "metadata": {},
   "outputs": [
    {
     "data": {
      "text/plain": [
       "['ZII', 'IZI', 'IIZ']"
      ]
     },
     "execution_count": 28,
     "metadata": {},
     "output_type": "execute_result"
    }
   ],
   "source": [
    "# rotations to diagonlize G\n",
    "diagonalized_generators_GuA"
   ]
  },
  {
   "cell_type": "code",
   "execution_count": 29,
   "metadata": {},
   "outputs": [
    {
     "data": {
      "text/plain": [
       "array([ 1., -1.,  1.])"
      ]
     },
     "execution_count": 29,
     "metadata": {},
     "output_type": "execute_result"
    }
   ],
   "source": [
    "eigen_vals_nonC_ground_state_GuA_ops"
   ]
  },
  {
   "cell_type": "code",
   "execution_count": 30,
   "metadata": {},
   "outputs": [],
   "source": [
    "# for rotation in Rotations_list:\n",
    "#     for p in ham:\n",
    "#         if not c.commute(rotation[1],p):\n",
    "#             print(rotation)\n",
    "#     print()"
   ]
  },
  {
   "cell_type": "code",
   "execution_count": 31,
   "metadata": {},
   "outputs": [],
   "source": [
    "model = [G_list, Ci1_list, all_mappings]\n",
    "ham_noncon = hamiltonians[mol_key][3]\n",
    "\n",
    "lowest_eigenvalue, ground_state_params, model_copy, fn_form_copy,  = c.find_gs_noncon(\n",
    "               ham_noncon,#nonCon_H,\n",
    "               method = 'differential_evolution',\n",
    "               model=model,\n",
    "               fn_form=fn_form) # returns:  best + [model, fn_form]"
   ]
  },
  {
   "cell_type": "markdown",
   "metadata": {},
   "source": [
    "# Will's method"
   ]
  },
  {
   "cell_type": "code",
   "execution_count": 32,
   "metadata": {},
   "outputs": [
    {
     "data": {
      "text/plain": [
       "[0, 2, 1]"
      ]
     },
     "execution_count": 32,
     "metadata": {},
     "output_type": "execute_result"
    }
   ],
   "source": [
    "ham_noncon = hamiltonians[mol_key][3]\n",
    "n_qubits = hamiltonians[mol_key][1]\n",
    "true_gs= hamiltonians[mol_key][4]\n",
    "\n",
    "true_gs, approxs_out, errors_out, order_out = c.csvqe_approximations_heuristic(ham,\n",
    "                                                                                   ham_noncon,\n",
    "                                                                                   n_qubits, \n",
    "                                                                                   true_gs)\n",
    "order_out"
   ]
  },
  {
   "cell_type": "code",
   "execution_count": 33,
   "metadata": {},
   "outputs": [
    {
     "data": {
      "text/plain": [
       "[0.012805571551730122,\n",
       " 0.0003080609044734395,\n",
       " -1.3322676295501878e-15,\n",
       " 8.881784197001252e-16]"
      ]
     },
     "execution_count": 33,
     "metadata": {},
     "output_type": "execute_result"
    }
   ],
   "source": [
    "errors_out"
   ]
  },
  {
   "cell_type": "code",
   "execution_count": 34,
   "metadata": {},
   "outputs": [
    {
     "data": {
      "text/plain": [
       "4"
      ]
     },
     "execution_count": 34,
     "metadata": {},
     "output_type": "execute_result"
    }
   ],
   "source": [
    "### old way\n",
    "# order = list(range(hamiltonians[mol_key][1]))\n",
    "order = order_out\n",
    "red_H = c.get_reduced_hamiltonians(ham,\n",
    "                           model,\n",
    "                           fn_form,\n",
    "                           ground_state_params,\n",
    "                           order)\n",
    "len(red_H)"
   ]
  },
  {
   "cell_type": "code",
   "execution_count": 35,
   "metadata": {},
   "outputs": [
    {
     "data": {
      "text/plain": [
       "[0, 1, 2]"
      ]
     },
     "execution_count": 35,
     "metadata": {},
     "output_type": "execute_result"
    }
   ],
   "source": [
    "list(range(hamiltonians[mol_key][1]))"
   ]
  },
  {
   "cell_type": "code",
   "execution_count": 36,
   "metadata": {},
   "outputs": [
    {
     "data": {
      "text/plain": [
       "{'II': -1.438528639099044,\n",
       " 'IZ': 0.01919944551942593,\n",
       " 'ZX': 0.07733163398184689,\n",
       " 'YY': -0.06305338666771393,\n",
       " 'XI': 0.051042861476446974,\n",
       " 'XZ': -0.03745984341074934,\n",
       " 'IX': -0.07733163397053659,\n",
       " 'ZZ': -0.7416716156049102,\n",
       " 'ZI': -0.7422121095321959,\n",
       " 'XX': 0.07195737217001562}"
      ]
     },
     "execution_count": 36,
     "metadata": {},
     "output_type": "execute_result"
    }
   ],
   "source": [
    "red_H[2]"
   ]
  },
  {
   "cell_type": "code",
   "execution_count": 37,
   "metadata": {},
   "outputs": [
    {
     "data": {
      "text/plain": [
       "[-2.903212918716724,\n",
       " -2.9157104293639806,\n",
       " -2.9160184902684554,\n",
       " -2.916018490268453]"
      ]
     },
     "execution_count": 37,
     "metadata": {},
     "output_type": "execute_result"
    }
   ],
   "source": [
    "approxs_out"
   ]
  },
  {
   "cell_type": "markdown",
   "metadata": {},
   "source": [
    "# MY way"
   ]
  },
  {
   "cell_type": "code",
   "execution_count": 38,
   "metadata": {},
   "outputs": [],
   "source": [
    "import cs_vqe_MY_CHANGES as c_new"
   ]
  },
  {
   "cell_type": "code",
   "execution_count": 39,
   "metadata": {},
   "outputs": [
    {
     "data": {
      "text/plain": [
       "[0, 2, 1]"
      ]
     },
     "execution_count": 39,
     "metadata": {},
     "output_type": "execute_result"
    }
   ],
   "source": [
    "ham_noncon = hamiltonians[mol_key][3]\n",
    "n_qubits = hamiltonians[mol_key][1]\n",
    "true_gs= hamiltonians[mol_key][4]\n",
    "\n",
    "true_gs, approxs_out, errors_out, order_out = c_new.csvqe_approximations_heuristic(ham,\n",
    "                                                                                   ham_noncon,\n",
    "                                                                                   n_qubits, \n",
    "                                                                                   true_gs)\n",
    "\n",
    "from copy import deepcopy \n",
    "updated_order = deepcopy(order_out)\n",
    "updated_order"
   ]
  },
  {
   "cell_type": "code",
   "execution_count": 40,
   "metadata": {},
   "outputs": [
    {
     "data": {
      "text/plain": [
       "[0.012805571551729678, 0.0003080609044729954, 0.0, 2.6645352591003757e-15]"
      ]
     },
     "execution_count": 40,
     "metadata": {},
     "output_type": "execute_result"
    }
   ],
   "source": [
    "errors_out"
   ]
  },
  {
   "cell_type": "code",
   "execution_count": 41,
   "metadata": {},
   "outputs": [
    {
     "data": {
      "text/plain": [
       "4"
      ]
     },
     "execution_count": 41,
     "metadata": {},
     "output_type": "execute_result"
    }
   ],
   "source": [
    "\n",
    "red_H_SeqRot = c_new.get_reduced_hamiltonians(ham,\n",
    "                           model,\n",
    "                           fn_form,\n",
    "                           ground_state_params,\n",
    "                           updated_order,\n",
    "                           n_qubits,\n",
    "                          check_reduction=True)#order)\n",
    "len(red_H_SeqRot)"
   ]
  },
  {
   "cell_type": "code",
   "execution_count": null,
   "metadata": {},
   "outputs": [],
   "source": []
  },
  {
   "cell_type": "code",
   "execution_count": 42,
   "metadata": {},
   "outputs": [
    {
     "data": {
      "text/plain": [
       "{'II': (-1.4385286390990442+0j),\n",
       " 'IZ': (0.019199445519425935+0j),\n",
       " 'ZX': (0.0773316339818469+0j),\n",
       " 'YY': (-0.06305338666771394+0j),\n",
       " 'XI': (0.05104286147644698+0j),\n",
       " 'XZ': (-0.037459843410749344+0j),\n",
       " 'IX': (-0.07733163397053659+0j),\n",
       " 'ZZ': (-0.7416716156049104+0j),\n",
       " 'ZI': (-0.7422121095321959+0j),\n",
       " 'XX': (0.07195737217001562+0j)}"
      ]
     },
     "execution_count": 42,
     "metadata": {},
     "output_type": "execute_result"
    }
   ],
   "source": [
    "red_H_SeqRot[2]"
   ]
  },
  {
   "cell_type": "code",
   "execution_count": 49,
   "metadata": {},
   "outputs": [
    {
     "data": {
      "text/plain": [
       "False"
      ]
     },
     "execution_count": 49,
     "metadata": {},
     "output_type": "execute_result"
    }
   ],
   "source": [
    "red_H == red_H_SeqRot"
   ]
  },
  {
   "cell_type": "code",
   "execution_count": null,
   "metadata": {},
   "outputs": [],
   "source": []
  },
  {
   "cell_type": "markdown",
   "metadata": {},
   "source": [
    "## Check energies"
   ]
  },
  {
   "cell_type": "code",
   "execution_count": 50,
   "metadata": {},
   "outputs": [],
   "source": [
    "hamilt_ind = 0\n",
    "# red_H[hamilt_ind]"
   ]
  },
  {
   "cell_type": "code",
   "execution_count": 51,
   "metadata": {},
   "outputs": [
    {
     "data": {
      "text/plain": [
       "-2.903212918716725"
      ]
     },
     "execution_count": 51,
     "metadata": {},
     "output_type": "execute_result"
    }
   ],
   "source": [
    "import conversion_scripts as conv_scr\n",
    "\n",
    "H = conv_scr.Get_Openfermion_Hamiltonian(red_H[hamilt_ind])\n",
    "sparseH = qubit_operator_sparse(H, n_qubits=hamiltonians[mol_key][1])\n",
    "# sp.sparse.linalg.eigsh(sparseH, which='SA', k=1)[0][0]\n",
    "min(np.linalg.eigvalsh(sparseH.todense()))"
   ]
  },
  {
   "cell_type": "code",
   "execution_count": 52,
   "metadata": {},
   "outputs": [
    {
     "data": {
      "text/plain": [
       "-2.903212918716725"
      ]
     },
     "execution_count": 52,
     "metadata": {},
     "output_type": "execute_result"
    }
   ],
   "source": [
    "H = conv_scr.Get_Openfermion_Hamiltonian(red_H_SeqRot[hamilt_ind])\n",
    "sparseH = qubit_operator_sparse(H, n_qubits=hamiltonians[mol_key][1])\n",
    "# sp.sparse.linalg.eigsh(sparseH, which='SA', k=1)[0][0]\n",
    "min(np.linalg.eigvalsh(sparseH.todense()))"
   ]
  },
  {
   "cell_type": "code",
   "execution_count": 53,
   "metadata": {},
   "outputs": [
    {
     "data": {
      "text/plain": [
       "-2.916018490268456"
      ]
     },
     "execution_count": 53,
     "metadata": {},
     "output_type": "execute_result"
    }
   ],
   "source": [
    "H = conv_scr.Get_Openfermion_Hamiltonian(ham)\n",
    "sparseH = qubit_operator_sparse(H, n_qubits=hamiltonians[mol_key][1])\n",
    "# sp.sparse.linalg.eigsh(sparseH, which='SA', k=1)[0][0]\n",
    "min(np.linalg.eigvalsh(sparseH.todense()))"
   ]
  },
  {
   "cell_type": "code",
   "execution_count": null,
   "metadata": {},
   "outputs": [],
   "source": []
  },
  {
   "cell_type": "code",
   "execution_count": 48,
   "metadata": {},
   "outputs": [
    {
     "ename": "NameError",
     "evalue": "name 'fdsd' is not defined",
     "output_type": "error",
     "traceback": [
      "\u001b[0;31m---------------------------------------------------------------------------\u001b[0m",
      "\u001b[0;31mNameError\u001b[0m                                 Traceback (most recent call last)",
      "\u001b[0;32m<ipython-input-48-1708b7923e16>\u001b[0m in \u001b[0;36m<module>\u001b[0;34m\u001b[0m\n\u001b[0;32m----> 1\u001b[0;31m \u001b[0mfdsd\u001b[0m\u001b[0;34m\u001b[0m\u001b[0;34m\u001b[0m\u001b[0m\n\u001b[0m",
      "\u001b[0;31mNameError\u001b[0m: name 'fdsd' is not defined"
     ]
    }
   ],
   "source": [
    "fdsd"
   ]
  },
  {
   "cell_type": "code",
   "execution_count": null,
   "metadata": {},
   "outputs": [],
   "source": [
    "import cs_vqe_with_LCU as c_LCU"
   ]
  },
  {
   "cell_type": "code",
   "execution_count": null,
   "metadata": {},
   "outputs": [],
   "source": [
    "ham_noncon = hamiltonians[mol_key][3]\n",
    "n_qubits = hamiltonians[mol_key][1]\n",
    "true_gs= hamiltonians[mol_key][4]\n",
    "N_index=0\n",
    "gs_true, approxs_out, errors_out, order_out = c_LCU.csvqe_approximations_heuristic_LCU(ham, \n",
    "                                                                                       ham_noncon, \n",
    "                                                                                       n_qubits,\n",
    "                                                                                       true_gs,\n",
    "                                                                                       N_index,\n",
    "                                                                                       check_reduction=True)\n",
    "\n",
    "from copy import deepcopy \n",
    "updated_order = deepcopy(order_out)\n",
    "updated_order"
   ]
  },
  {
   "cell_type": "code",
   "execution_count": null,
   "metadata": {},
   "outputs": [],
   "source": [
    "approxs_out"
   ]
  },
  {
   "cell_type": "code",
   "execution_count": null,
   "metadata": {},
   "outputs": [],
   "source": [
    "nonCon_H == hamiltonians[mol_key][3] # something odd here!"
   ]
  },
  {
   "cell_type": "code",
   "execution_count": null,
   "metadata": {},
   "outputs": [],
   "source": [
    "model = [G_list, Ci1_list, all_mappings]\n",
    "\n",
    "lowest_eigenvalue, ground_state_params, model_copy, fn_form_copy,  = c.find_gs_noncon(nonCon_H,\n",
    "               method = 'differential_evolution',\n",
    "               model=model,\n",
    "               fn_form=fn_form) # returns:  best + [model, fn_form]\n",
    "\n",
    "print(lowest_eigenvalue)\n",
    "print(ground_state_params)"
   ]
  },
  {
   "cell_type": "code",
   "execution_count": null,
   "metadata": {},
   "outputs": [],
   "source": []
  },
  {
   "cell_type": "code",
   "execution_count": null,
   "metadata": {},
   "outputs": [],
   "source": [
    "\n",
    "red_H_LCU = c_LCU.get_reduced_hamiltonians_LCU(ham,\n",
    "                           model,\n",
    "                           fn_form,\n",
    "                           ground_state_params,\n",
    "                           updated_order,\n",
    "                           n_qubits,\n",
    "                          0,\n",
    "                          check_reduction=True)#order)\n",
    "len(red_H_LCU)"
   ]
  },
  {
   "cell_type": "code",
   "execution_count": null,
   "metadata": {},
   "outputs": [],
   "source": [
    "H = conv_scr.Get_Openfermion_Hamiltonian(red_H_LCU[1])\n",
    "sparseH = qubit_operator_sparse(H, n_qubits=hamiltonians[mol_key][1])\n",
    "# sp.sparse.linalg.eigsh(sparseH, which='SA', k=1)[0][0]\n",
    "min(np.linalg.eigvalsh(sparseH.todense()))"
   ]
  },
  {
   "cell_type": "code",
   "execution_count": null,
   "metadata": {},
   "outputs": [],
   "source": []
  },
  {
   "cell_type": "code",
   "execution_count": null,
   "metadata": {},
   "outputs": [],
   "source": [
    "red_H_LCU == red_H_SeqRot # true when same order used!"
   ]
  },
  {
   "cell_type": "code",
   "execution_count": null,
   "metadata": {},
   "outputs": [],
   "source": []
  },
  {
   "cell_type": "code",
   "execution_count": null,
   "metadata": {},
   "outputs": [],
   "source": []
  },
  {
   "cell_type": "code",
   "execution_count": null,
   "metadata": {},
   "outputs": [],
   "source": []
  },
  {
   "cell_type": "code",
   "execution_count": null,
   "metadata": {},
   "outputs": [],
   "source": []
  },
  {
   "cell_type": "code",
   "execution_count": null,
   "metadata": {},
   "outputs": [],
   "source": []
  },
  {
   "cell_type": "code",
   "execution_count": null,
   "metadata": {},
   "outputs": [],
   "source": []
  },
  {
   "cell_type": "code",
   "execution_count": null,
   "metadata": {},
   "outputs": [],
   "source": []
  },
  {
   "cell_type": "code",
   "execution_count": null,
   "metadata": {},
   "outputs": [],
   "source": [
    "import cirq"
   ]
  },
  {
   "cell_type": "code",
   "execution_count": null,
   "metadata": {},
   "outputs": [],
   "source": [
    "HSX = cirq.H._unitary_() @ cirq.S._unitary_() @ cirq.X._unitary_()\n",
    "\n",
    "Y = cirq.Y._unitary_()"
   ]
  },
  {
   "cell_type": "code",
   "execution_count": null,
   "metadata": {},
   "outputs": [],
   "source": [
    "HSX @ Y @ HSX.conj().T"
   ]
  },
  {
   "cell_type": "code",
   "execution_count": null,
   "metadata": {},
   "outputs": [],
   "source": []
  },
  {
   "cell_type": "code",
   "execution_count": null,
   "metadata": {},
   "outputs": [],
   "source": [
    "HS = cirq.H._unitary_() @ (cirq.S**-1)._unitary_() \n",
    "\n",
    "Y = cirq.Y._unitary_()\n",
    "\n",
    "HS @ Y @ HS.conj().T"
   ]
  },
  {
   "cell_type": "code",
   "execution_count": null,
   "metadata": {},
   "outputs": [],
   "source": []
  },
  {
   "cell_type": "code",
   "execution_count": null,
   "metadata": {},
   "outputs": [],
   "source": []
  },
  {
   "cell_type": "code",
   "execution_count": null,
   "metadata": {},
   "outputs": [],
   "source": [
    "model = [G_list, Ci1_list, all_mappings]\n",
    "\n",
    "lowest_eigenvalue, ground_state_params, model_copy, fn_form_copy,  = c.find_gs_noncon(nonCon_H,\n",
    "               method = 'differential_evolution',\n",
    "               model=model,\n",
    "               fn_form=fn_form) # returns:  best + [model, fn_form]\n",
    "\n",
    "print(lowest_eigenvalue)\n",
    "print(ground_state_params)"
   ]
  },
  {
   "cell_type": "code",
   "execution_count": null,
   "metadata": {},
   "outputs": [],
   "source": [
    "rotations = []\n",
    "ep_state = ground_state_params\n",
    "# if there are cliques...\n",
    "if fn_form[1] > 0:\n",
    "    # rotations to map A to a single Pauli (to be applied on left)\n",
    "    for i in range(1,fn_form[1]):\n",
    "        theta = np.arctan2(ep_state[1][i],np.sqrt(sum([ep_state[1][j]**2 for j in range(i)])))\n",
    "        if i == 1 and ep_state[1][0] < 0:\n",
    "            theta = np.pi - theta\n",
    "        generator = c.pauli_mult(model[1][0],model[1][i])\n",
    "        sgn = generator[1].imag\n",
    "        rotations.append( [sgn*theta, generator[0]] )\n",
    "rotations"
   ]
  },
  {
   "cell_type": "code",
   "execution_count": null,
   "metadata": {},
   "outputs": [],
   "source": [
    "# We now have non contextual ground state: $(\\vec{q}, \\vec{r})$\n",
    "\n",
    "ep_state[1] # this is r_Vec (coefficients for sciprt A)"
   ]
  },
  {
   "cell_type": "code",
   "execution_count": null,
   "metadata": {},
   "outputs": [],
   "source": [
    "Ci1_list # or script_A"
   ]
  },
  {
   "cell_type": "code",
   "execution_count": null,
   "metadata": {},
   "outputs": [],
   "source": [
    "1j*np.sin(3.342131729291596)"
   ]
  },
  {
   "cell_type": "code",
   "execution_count": null,
   "metadata": {},
   "outputs": [],
   "source": [
    "c.apply_rotation(rotations[0], Ci1_list[1])"
   ]
  },
  {
   "cell_type": "code",
   "execution_count": null,
   "metadata": {},
   "outputs": [],
   "source": [
    "conj_rot = [rotations[0][0]*-1, rotations[0][1]]\n",
    "conj_rot"
   ]
  },
  {
   "cell_type": "code",
   "execution_count": null,
   "metadata": {},
   "outputs": [],
   "source": [
    "c.apply_rotation(conj_rot, 'XXX')"
   ]
  },
  {
   "cell_type": "code",
   "execution_count": null,
   "metadata": {},
   "outputs": [],
   "source": [
    "c.apply_rotation(conj_rot, 'IIZ')"
   ]
  },
  {
   "cell_type": "code",
   "execution_count": null,
   "metadata": {},
   "outputs": [],
   "source": [
    "A_op2 * "
   ]
  },
  {
   "cell_type": "code",
   "execution_count": null,
   "metadata": {},
   "outputs": [],
   "source": [
    "A_op1 = ' '.join(['{}{}'.format(Pstr, qNo) for qNo, Pstr in enumerate(Ci1_list[0]) if Pstr!='I'])\n",
    "A_op2 = ' '.join(['{}{}'.format(Pstr, qNo) for qNo, Pstr in enumerate(Ci1_list[1]) if Pstr!='I'])\n",
    "\n",
    "R_op = ' '.join(['{}{}'.format(Pstr, qNo) for qNo, Pstr in enumerate(rotations[0][1]) if Pstr!='I'])\n"
   ]
  },
  {
   "cell_type": "code",
   "execution_count": null,
   "metadata": {},
   "outputs": [],
   "source": []
  },
  {
   "cell_type": "code",
   "execution_count": null,
   "metadata": {},
   "outputs": [],
   "source": [
    "from openfermion import QubitOperator, hermitian_conjugated\n",
    "script_A = QubitOperator(A_op1, ep_state[1][0]) +  QubitOperator(A_op2, ep_state[1][1])\n",
    "R = QubitOperator('', np.cos(rotations[0][0]/2)) + QubitOperator(R_op, 1j*np.sin(rotations[0][0]/2)) "
   ]
  },
  {
   "cell_type": "code",
   "execution_count": null,
   "metadata": {},
   "outputs": [],
   "source": [
    "R * script_A * hermitian_conjugated(R)"
   ]
  },
  {
   "cell_type": "code",
   "execution_count": null,
   "metadata": {},
   "outputs": [],
   "source": [
    "R * H "
   ]
  },
  {
   "cell_type": "code",
   "execution_count": null,
   "metadata": {},
   "outputs": [],
   "source": [
    "from openfermion import QubitOperator, hermitian_conjugated\n",
    "\n",
    "# NOW divided theta by 2\n",
    "R_my_method = QubitOperator('', np.cos(rotations[0][0]/2)) + QubitOperator('X0 X1 Y2', 1j*np.sin(rotations[0][0]/2)) "
   ]
  },
  {
   "cell_type": "code",
   "execution_count": null,
   "metadata": {},
   "outputs": [],
   "source": [
    "R_my_method* script_A * hermitian_conjugated(R_my_method)"
   ]
  },
  {
   "cell_type": "code",
   "execution_count": null,
   "metadata": {},
   "outputs": [],
   "source": [
    "R_my_method"
   ]
  },
  {
   "cell_type": "code",
   "execution_count": null,
   "metadata": {},
   "outputs": [],
   "source": [
    "from quchem.Unitary_Partitioning.Unitary_partitioning_Seq_Rot import Get_Xsk_op_list\n",
    "S_index = 0\n",
    "N_Qubits=3\n",
    "check_reduction=True\n",
    "\n",
    "X_sk_theta_sk_list, normalised_FULL_set, Ps, gamma_l = Get_Xsk_op_list(list(script_A), \n",
    "                                                                       S_index, \n",
    "                                                                       N_Qubits,\n",
    "                                                                       check_reduction=False,\n",
    "                                                                       atol=1e-8,\n",
    "                                                                       rtol=1e-05)"
   ]
  },
  {
   "cell_type": "code",
   "execution_count": null,
   "metadata": {},
   "outputs": [],
   "source": [
    "from functools import reduce\n",
    "\n",
    "R_sk_OP_list = []\n",
    "for X_sk_Op, theta_sk in X_sk_theta_sk_list:\n",
    "    op = np.cos(theta_sk / 2) * QubitOperator('') -1j*np.sin(theta_sk / 2) * X_sk_Op\n",
    "    R_sk_OP_list.append(op)\n",
    "\n",
    "R_S_op = reduce(lambda x,y: x*y, R_sk_OP_list[::-1])  # <- note reverse order!\n",
    "R_S_op"
   ]
  },
  {
   "cell_type": "code",
   "execution_count": null,
   "metadata": {},
   "outputs": [],
   "source": [
    "from openfermion import hermitian_conjugated\n",
    "R_S_dag = hermitian_conjugated(R_S_op)\n",
    "R_S_dag"
   ]
  },
  {
   "cell_type": "code",
   "execution_count": null,
   "metadata": {},
   "outputs": [],
   "source": [
    "R_S_op * H * R_S_dag"
   ]
  },
  {
   "cell_type": "code",
   "execution_count": null,
   "metadata": {},
   "outputs": [],
   "source": []
  },
  {
   "cell_type": "code",
   "execution_count": null,
   "metadata": {},
   "outputs": [],
   "source": [
    "script_A"
   ]
  },
  {
   "cell_type": "code",
   "execution_count": null,
   "metadata": {},
   "outputs": [],
   "source": [
    "A_op1 = ' '.join(['{}{}'.format(Pstr, qNo) for qNo, Pstr in enumerate(AC_set[0]) if Pstr!='I'])\n",
    "A_op2 = ' '.join(['{}{}'.format(Pstr, qNo) for qNo, Pstr in enumerate(AC_set[1]) if Pstr!='I'])\n",
    "A_op3 = ' '.join(['{}{}'.format(Pstr, qNo) for qNo, Pstr in enumerate(AC_set[2]) if Pstr!='I'])\n",
    "A_op4 = ' '.join(['{}{}'.format(Pstr, qNo) for qNo, Pstr in enumerate(AC_set[3]) if Pstr!='I'])\n",
    "\n",
    "R_op1 = ' '.join(['{}{}'.format(Pstr, qNo) for qNo, Pstr in enumerate(rotations[0][1]) if Pstr!='I'])\n",
    "R_op2 = ' '.join(['{}{}'.format(Pstr, qNo) for qNo, Pstr in enumerate(rotations[1][1]) if Pstr!='I'])\n",
    "R_op3 = ' '.join(['{}{}'.format(Pstr, qNo) for qNo, Pstr in enumerate(rotations[2][1]) if Pstr!='I'])\n",
    "\n",
    "\n",
    "# script_A = (QubitOperator(A_op1, ep_state[0]) +  QubitOperator(A_op2, ep_state[1]) + \n",
    "#             QubitOperator(A_op3, ep_state[2]) +  QubitOperator(A_op4, ep_state[3]) )\n",
    "\n",
    "\n",
    "script_A = (QubitOperator(A_op1, 1) +  QubitOperator(A_op2, 1) + \n",
    "            QubitOperator(A_op3,1) +  QubitOperator(A_op4,1) )\n",
    "\n",
    "R = (QubitOperator('', np.cos(rotations[0][0]/2)) + QubitOperator(R_op1, 1j*np.sin(rotations[0][0]/2)) + \n",
    "     QubitOperator('', np.cos(rotations[1][0]/2)) + QubitOperator(R_op2, 1j*np.sin(rotations[1][0]/2)) + \n",
    "     QubitOperator('', np.cos(rotations[2][0]/2)) + QubitOperator(R_op3, 1j*np.sin(rotations[2][0]/2)) \n",
    "    )\n",
    "\n",
    "R * script_A * hermitian_conjugated(R)"
   ]
  },
  {
   "cell_type": "code",
   "execution_count": null,
   "metadata": {},
   "outputs": [],
   "source": [
    "AC_set"
   ]
  },
  {
   "cell_type": "code",
   "execution_count": null,
   "metadata": {},
   "outputs": [],
   "source": [
    "rotations = []\n",
    "ep_state = [np.sqrt(0.2), -np.sqrt(0.3), np.sqrt(0.1), np.sqrt(0.4)]\n",
    "\n",
    "AC_set = ['IXX', 'IXY', 'IXZ', 'XZI']\n",
    "\n",
    "# if there are cliques...\n",
    "if fn_form[1] > 0:\n",
    "    # rotations to map A to a single Pauli (to be applied on left)\n",
    "    for i in range(1,len(AC_set)):\n",
    "        theta = np.arctan2(ep_state[i],np.sqrt(sum([ep_state[j]**2 for j in range(i)])))\n",
    "        if i == 1 and ep_state[0] < 0:\n",
    "            theta = np.pi - theta\n",
    "        generator = c.pauli_mult(AC_set[0],AC_set[i])\n",
    "        sgn = generator[1].imag\n",
    "        rotations.append( [sgn*theta, generator[0]] )\n",
    "rotations"
   ]
  },
  {
   "cell_type": "code",
   "execution_count": null,
   "metadata": {},
   "outputs": [],
   "source": [
    "ham_rotated = dict(zip(AC_set,ep_state))\n",
    "\n",
    "for r in rotations: # rotate the full Hamiltonian to the basis with diagonal noncontextual generators\n",
    "#     print()\n",
    "#     print(ham_rotated)\n",
    "    ham_next = {}\n",
    "    for t in ham_rotated.keys():\n",
    "        t_set_next = c.apply_rotation(r,t)\n",
    "#         print(t_set_next)\n",
    "        for t_next in t_set_next.keys():\n",
    "            if t_next in ham_next.keys():\n",
    "                ham_next[t_next] = ham_next[t_next] + t_set_next[t_next]*ham_rotated[t]\n",
    "            else:\n",
    "                ham_next[t_next] = t_set_next[t_next]*ham_rotated[t]\n",
    "    ham_rotated = deepcopy(ham_next)\n",
    "\n",
    "ham_rotated"
   ]
  },
  {
   "cell_type": "code",
   "execution_count": null,
   "metadata": {},
   "outputs": [],
   "source": [
    "R=[]\n",
    "# R=QubitOperator()\n",
    "for angle, op_str in rotations:\n",
    "    R_op = ' '.join(['{}{}'.format(Pstr, qNo) for qNo, Pstr in enumerate(op_str) if Pstr!='I'])\n",
    "    qOp = QubitOperator('', np.cos(angle/2)) + QubitOperator(R_op, 1j*np.sin(angle/2)) \n",
    "    R.append(qOp)\n",
    "#     R+= qOp\n",
    "\n",
    "R"
   ]
  },
  {
   "cell_type": "code",
   "execution_count": null,
   "metadata": {},
   "outputs": [],
   "source": [
    "Script_A = []\n",
    "# Script_A =QubitOperator()\n",
    "for term, coeff in zip(AC_set,ep_state):\n",
    "    Pword = ' '.join(['{}{}'.format(Pstr, qNo) for qNo, Pstr in enumerate(term) if Pstr!='I'])\n",
    "    op = QubitOperator(Pword,coeff)\n",
    "    Script_A.append(op)\n",
    "#     Script_A+=op\n",
    "    \n",
    "Script_A"
   ]
  },
  {
   "cell_type": "code",
   "execution_count": null,
   "metadata": {},
   "outputs": [],
   "source": [
    "rot_H = deepcopy(Script_A)\n",
    "for rot in R:\n",
    "    H_next = QubitOperator()\n",
    "    for t in rot_H:\n",
    "#         if t*rot == rot*t:\n",
    "#             t_set_next = rot * t * hermitian_conjugated(rot)\n",
    "#         else:\n",
    "#             t_set_next = rot * t \n",
    "        t_set_next = rot * t * hermitian_conjugated(rot)\n",
    "        H_next+=t_set_next\n",
    "    rot_H = deepcopy(list(H_next))\n",
    "rot_H"
   ]
  },
  {
   "cell_type": "code",
   "execution_count": null,
   "metadata": {},
   "outputs": [],
   "source": [
    "ham_rotated = dict(zip(AC_set,ep_state))\n",
    "\n",
    "for r in rotations: # rotate the full Hamiltonian to the basis with diagonal noncontextual generators\n",
    "    ham_next = {}\n",
    "    for t in ham_rotated.keys():\n",
    "        t_set_next = c.apply_rotation(r,t)\n",
    "        for t_next in t_set_next.keys():\n",
    "            if t_next in ham_next.keys():\n",
    "                ham_next[t_next] = ham_next[t_next] + t_set_next[t_next]*ham_rotated[t]\n",
    "            else:\n",
    "                ham_next[t_next] = t_set_next[t_next]*ham_rotated[t]\n",
    "    ham_rotated = deepcopy(ham_next)\n",
    "\n",
    "ham_rotated"
   ]
  },
  {
   "cell_type": "code",
   "execution_count": null,
   "metadata": {},
   "outputs": [],
   "source": []
  },
  {
   "cell_type": "code",
   "execution_count": null,
   "metadata": {},
   "outputs": [],
   "source": []
  },
  {
   "cell_type": "code",
   "execution_count": null,
   "metadata": {},
   "outputs": [],
   "source": []
  },
  {
   "cell_type": "code",
   "execution_count": null,
   "metadata": {},
   "outputs": [],
   "source": [
    "# test = [QubitOperator(*list(op.terms.keys()), 1) for op in Script_A]\n",
    "\n",
    "\n",
    "# test = [R[0]*test[0], R[0]*test[1], R[0]*test[2], R[0]*test[3]]\n",
    "# test = [R[1]*test[0], R[1]*test[1], R[1]*test[2], R[1]*test[3]]\n",
    "# test = [R[2]*test[0], R[2]*test[1], R[2]*test[2], R[2]*test[3]]\n",
    "# reduce(lambda x,y: x+y, test)"
   ]
  },
  {
   "cell_type": "code",
   "execution_count": null,
   "metadata": {},
   "outputs": [],
   "source": [
    "one = R[0]*Script_A# * hermitian_conjugated(R[0])\n",
    "# two = R[1]*one* hermitian_conjugated(R[1])\n",
    "# three = R[2]*two* hermitian_conjugated(R[2])\n",
    "# three\n",
    "one"
   ]
  },
  {
   "cell_type": "code",
   "execution_count": null,
   "metadata": {},
   "outputs": [],
   "source": [
    "[-0.8860771237926137, 'IIZ']\n",
    "{'IXX': 0.7071067811865475, 'IXY': 0.0, 'IXZ': 0.31622776601683794, 'XZI': 0.6324555320336759}"
   ]
  },
  {
   "cell_type": "code",
   "execution_count": null,
   "metadata": {},
   "outputs": [],
   "source": [
    "ham_rotated = dict(zip(AC_set,ep_state))\n",
    "\n",
    "c.apply_rotation([-0.8860771237926137, 'IIZ'], list(ham_rotated.keys())[0])"
   ]
  },
  {
   "cell_type": "code",
   "execution_count": null,
   "metadata": {},
   "outputs": [],
   "source": [
    "q = c.pauli_mult('IIZ',  list(ham_rotated.keys())[0])\n",
    "q"
   ]
  },
  {
   "cell_type": "code",
   "execution_count": null,
   "metadata": {},
   "outputs": [],
   "source": [
    "q[0] "
   ]
  },
  {
   "cell_type": "code",
   "execution_count": null,
   "metadata": {},
   "outputs": [],
   "source": [
    "R[0]*Script_A[0] #* hermitian_conjugated(R[0])\n",
    "\n",
    "# R[0] * QubitOperator(*list(Script_A[0].terms.keys()), 1)"
   ]
  },
  {
   "cell_type": "code",
   "execution_count": null,
   "metadata": {},
   "outputs": [],
   "source": [
    "R[0]"
   ]
  },
  {
   "cell_type": "code",
   "execution_count": null,
   "metadata": {},
   "outputs": [],
   "source": [
    "Script_A[0]"
   ]
  },
  {
   "cell_type": "code",
   "execution_count": null,
   "metadata": {},
   "outputs": [],
   "source": [
    "H_rot =  deepcopy(Script_A)\n",
    "H_rot[0]"
   ]
  },
  {
   "cell_type": "code",
   "execution_count": null,
   "metadata": {},
   "outputs": [],
   "source": [
    "H_rot =  deepcopy(Script_A)\n",
    "# H_rot = reduce(lambda x,y: x+y, Script_A)\n",
    "for rot in R:\n",
    "#     H_next= QubitOperator()\n",
    "    H_next=[]\n",
    "    for term in H_rot:\n",
    "        print(term)\n",
    "        print()\n",
    "        t = QubitOperator(*list(term.terms.keys()), 1)\n",
    "        H_next.append(rot*t)\n",
    "#         H_next+= rot*term #* hermitian_conjugated(rot)\n",
    "    H_rot = deepcopy(reduce(lambda x,y: x+y, H_next))\n",
    "reduce(lambda x,y: x+y, H_rot)"
   ]
  },
  {
   "cell_type": "code",
   "execution_count": null,
   "metadata": {},
   "outputs": [],
   "source": [
    "ham_rotated = dict(zip(AC_set,ep_state))\n",
    "\n",
    "for r in rotations: # rotate the full Hamiltonian to the basis with diagonal noncontextual generators\n",
    "    print(r)\n",
    "    ham_next = {}\n",
    "    for t in ham_rotated.keys():\n",
    "        t_set_next = c.apply_rotation(r,t)\n",
    "        for t_next in t_set_next.keys():\n",
    "            if t_next in ham_next.keys():\n",
    "                ham_next[t_next] = ham_next[t_next] + t_set_next[t_next]*ham_rotated[t]\n",
    "            else:\n",
    "                ham_next[t_next] = t_set_next[t_next]*ham_rotated[t]\n",
    "    \n",
    "    print(ham_next)\n",
    "    print()\n",
    "    ham_rotated = deepcopy(ham_next)\n",
    "\n",
    "ham_rotated"
   ]
  },
  {
   "cell_type": "code",
   "execution_count": null,
   "metadata": {},
   "outputs": [],
   "source": [
    "X_sk_theta_sk_list"
   ]
  },
  {
   "cell_type": "code",
   "execution_count": null,
   "metadata": {},
   "outputs": [],
   "source": []
  },
  {
   "cell_type": "code",
   "execution_count": null,
   "metadata": {},
   "outputs": [],
   "source": [
    "R=[]\n",
    "# R=QubitOperator()\n",
    "for angle, op_str in rotations:\n",
    "    R_op = ' '.join(['{}{}'.format(Pstr, qNo) for qNo, Pstr in enumerate(op_str) if Pstr!='I'])\n",
    "    qOp = QubitOperator('', np.cos(angle/2)) + QubitOperator(R_op, 1j*np.sin(angle/2)) \n",
    "    R.append(qOp)\n",
    "#     R+= qOp\n",
    "\n",
    "# A = reduce(lambda x,y : x+y, Script_A)"
   ]
  },
  {
   "cell_type": "code",
   "execution_count": null,
   "metadata": {},
   "outputs": [],
   "source": [
    "# R* A * hermitian_conjugated(R)"
   ]
  },
  {
   "cell_type": "code",
   "execution_count": null,
   "metadata": {},
   "outputs": [],
   "source": [
    "from copy import deepcopy\n",
    "\n",
    "new_A = deepcopy(Script_A)\n",
    "for rot in R:\n",
    "    new_A = [rot *A_op for A_op in new_A]\n",
    "    \n"
   ]
  },
  {
   "cell_type": "code",
   "execution_count": null,
   "metadata": {},
   "outputs": [],
   "source": [
    "# dict(zip(AC_set,ep_state))"
   ]
  },
  {
   "cell_type": "code",
   "execution_count": null,
   "metadata": {},
   "outputs": [],
   "source": []
  },
  {
   "cell_type": "code",
   "execution_count": null,
   "metadata": {},
   "outputs": [],
   "source": []
  },
  {
   "cell_type": "code",
   "execution_count": null,
   "metadata": {},
   "outputs": [],
   "source": []
  },
  {
   "cell_type": "code",
   "execution_count": null,
   "metadata": {},
   "outputs": [],
   "source": []
  },
  {
   "cell_type": "code",
   "execution_count": null,
   "metadata": {},
   "outputs": [],
   "source": [
    "AA = []\n",
    "\n",
    "for term, coeff in zip(AC_set,ep_state):\n",
    "    Pword = ' '.join(['{}{}'.format(Pstr, qNo) for qNo, Pstr in enumerate(term) if Pstr!='I'])\n",
    "    op = QubitOperator(Pword,coeff)\n",
    "    AA.append(op)\n",
    "    \n",
    "AA"
   ]
  },
  {
   "cell_type": "code",
   "execution_count": null,
   "metadata": {},
   "outputs": [],
   "source": [
    "from quchem.Unitary_Partitioning.Unitary_partitioning_Seq_Rot import Get_Xsk_op_list\n",
    "S_index = 0\n",
    "N_Qubits=3\n",
    "check_reduction=True\n",
    "\n",
    "X_sk_theta_sk_list, normalised_FULL_set, Ps, gamma_l = Get_Xsk_op_list(AA, \n",
    "                                                                       S_index, \n",
    "                                                                       N_Qubits,\n",
    "                                                                       check_reduction=True,\n",
    "                                                                       atol=1e-8,\n",
    "                                                                       rtol=1e-05)\n",
    "\n",
    "R_sk_OP_list = []\n",
    "for X_sk_Op, theta_sk in X_sk_theta_sk_list:\n",
    "    op = np.cos(theta_sk / 2) * QubitOperator('') -1j*np.sin(theta_sk / 2) * X_sk_Op\n",
    "    R_sk_OP_list.append(op)\n",
    "\n",
    "R_S_op = reduce(lambda x,y: x*y, R_sk_OP_list[::-1])  # <- note reverse order!\n",
    "\n",
    "from openfermion import hermitian_conjugated\n",
    "R_S_dag = hermitian_conjugated(R_S_op)"
   ]
  },
  {
   "cell_type": "code",
   "execution_count": null,
   "metadata": {},
   "outputs": [],
   "source": [
    "R_S_op * reduce(lambda x,y: x+y, AA) * R_S_dag"
   ]
  },
  {
   "cell_type": "code",
   "execution_count": null,
   "metadata": {},
   "outputs": [],
   "source": []
  },
  {
   "cell_type": "code",
   "execution_count": null,
   "metadata": {},
   "outputs": [],
   "source": []
  },
  {
   "cell_type": "code",
   "execution_count": null,
   "metadata": {},
   "outputs": [],
   "source": []
  },
  {
   "cell_type": "code",
   "execution_count": null,
   "metadata": {},
   "outputs": [],
   "source": []
  },
  {
   "cell_type": "code",
   "execution_count": null,
   "metadata": {},
   "outputs": [],
   "source": []
  },
  {
   "cell_type": "code",
   "execution_count": null,
   "metadata": {},
   "outputs": [],
   "source": []
  },
  {
   "cell_type": "code",
   "execution_count": null,
   "metadata": {},
   "outputs": [],
   "source": [
    "ham_rotated = dict(zip(AC_set,ep_state))\n",
    "ham_rotated"
   ]
  },
  {
   "cell_type": "code",
   "execution_count": null,
   "metadata": {},
   "outputs": [],
   "source": [
    "r = rotations[0]\n",
    "\n",
    "ham_next = {}\n",
    "for t in ham_rotated.keys():\n",
    "    t_set_next = c.apply_rotation(r,t)\n",
    "    print(t_set_next)\n",
    "    print(ham_rotated[t])\n",
    "    print()\n",
    "    for t_next in t_set_next.keys():\n",
    "        if t_next in ham_next.keys():\n",
    "            ham_next[t_next] = ham_next[t_next] + t_set_next[t_next]*ham_rotated[t]\n",
    "        else:\n",
    "            ham_next[t_next] = t_set_next[t_next]*ham_rotated[t]\n",
    "    \n",
    "ham_next"
   ]
  },
  {
   "cell_type": "code",
   "execution_count": null,
   "metadata": {},
   "outputs": [],
   "source": [
    "0.6324555320336759 * -0.5477225575051661"
   ]
  },
  {
   "cell_type": "code",
   "execution_count": null,
   "metadata": {},
   "outputs": [],
   "source": [
    "rot_H = deepcopy(Script_A)\n",
    "print(rot_H)\n",
    "\n",
    "R0 = R[0]\n",
    "R0"
   ]
  },
  {
   "cell_type": "code",
   "execution_count": null,
   "metadata": {},
   "outputs": [],
   "source": [
    "h_next =QubitOperator()\n",
    "for t in rot_H:\n",
    "#     next_t = R0* QubitOperator(*list(t.terms.keys()), 1) * hermitian_conjugated(R0)\n",
    "    next_t = R0*t #* hermitian_conjugated(R0)\n",
    "    print(list(next_t))\n",
    "    print('##')\n",
    "    h_next+=next_t\n",
    "    print(h_next)\n",
    "    print('t:', t)\n",
    "    print()\n",
    "    print()\n",
    "\n",
    "h_next"
   ]
  },
  {
   "cell_type": "code",
   "execution_count": null,
   "metadata": {},
   "outputs": [],
   "source": []
  },
  {
   "cell_type": "code",
   "execution_count": null,
   "metadata": {},
   "outputs": [],
   "source": [
    "R0*reduce(lambda x,y: x+y, rot_H) * hermitian_conjugated(R0)"
   ]
  },
  {
   "cell_type": "code",
   "execution_count": null,
   "metadata": {},
   "outputs": [],
   "source": []
  },
  {
   "cell_type": "code",
   "execution_count": null,
   "metadata": {},
   "outputs": [],
   "source": []
  },
  {
   "cell_type": "code",
   "execution_count": null,
   "metadata": {},
   "outputs": [],
   "source": [
    "R0*QubitOperator(*list(Script_A[0].terms.keys()), 1)#*hermitian_conjugated(R0)"
   ]
  },
  {
   "cell_type": "code",
   "execution_count": null,
   "metadata": {},
   "outputs": [],
   "source": [
    "Script_A[0]"
   ]
  },
  {
   "cell_type": "code",
   "execution_count": null,
   "metadata": {},
   "outputs": [],
   "source": [
    "r = rotations[0]\n",
    "t = list(ham_rotated.keys())[0]\n",
    "t_set_next = c.apply_rotation(r,t)\n",
    "t_set_next"
   ]
  },
  {
   "cell_type": "code",
   "execution_count": null,
   "metadata": {},
   "outputs": [],
   "source": []
  },
  {
   "cell_type": "code",
   "execution_count": null,
   "metadata": {},
   "outputs": [],
   "source": [
    "index = 2\n",
    "t = list(ham_rotated.keys())[index]\n",
    "t_set_next = c.apply_rotation(r,t)\n",
    "t_set_next"
   ]
  },
  {
   "cell_type": "code",
   "execution_count": null,
   "metadata": {},
   "outputs": [],
   "source": [
    "R0* QubitOperator(*list(Script_A[index].terms.keys()), 1)*hermitian_conjugated(R0)"
   ]
  },
  {
   "cell_type": "code",
   "execution_count": null,
   "metadata": {},
   "outputs": [],
   "source": [
    "1j*-1j"
   ]
  },
  {
   "cell_type": "code",
   "execution_count": null,
   "metadata": {},
   "outputs": [],
   "source": []
  },
  {
   "cell_type": "code",
   "execution_count": null,
   "metadata": {},
   "outputs": [],
   "source": [
    "theta = np.pi/3\n",
    "\n",
    "np.cos(theta)**2 + np.sin(theta)**2"
   ]
  },
  {
   "cell_type": "code",
   "execution_count": null,
   "metadata": {},
   "outputs": [],
   "source": [
    "def apply_rotation_NEW(rotation,p):\n",
    "    \"\"\"\n",
    "    Performs ( Rotation @ P @ rotation^{†} ) = out\n",
    "    \n",
    "    \"\"\"\n",
    "    \n",
    "    out = {}\n",
    "    \n",
    "    if not c.commute(rotation[1],p):\n",
    "        if rotation[0] == 'pi/2':\n",
    "#             q = pauli_mult(rotation[1],p)\n",
    "#             out[q[0]] = (1j*q[1]).real\n",
    "            out[p] = -1.0\n",
    "    \n",
    "        else:\n",
    "#             out[p] = np.cos(rotation[0])\n",
    "            out[p] =  np.cos(rotation[0])**2 - np.sin(rotation[0])**2\n",
    "    \n",
    "            q = c.pauli_mult(rotation[1],p)\n",
    "#             out[q[0]] = (1j*q[1]*np.sin(rotation[0])).real\n",
    "            out[q[0]] = 2j*np.cos(rotation[0])*np.sin(rotation[0])*q[1]\n",
    "            \n",
    "    else:\n",
    "            out[p] = 1.\n",
    "    \n",
    "    return out"
   ]
  },
  {
   "cell_type": "code",
   "execution_count": null,
   "metadata": {},
   "outputs": [],
   "source": [
    "def apply_rotation_NEW_left(rotation,p):\n",
    "    \"\"\"\n",
    "    Performs ( Rotation @ P ) = out\n",
    "    \n",
    "    \"\"\"\n",
    "    \n",
    "    out = {}\n",
    "    \n",
    "    if not c.commute(rotation[1],p):\n",
    "        if rotation[0] == 'pi/2':\n",
    "            q = c.pauli_mult(rotation[1],p)\n",
    "            out[q[0]] = (1j*q[1])\n",
    "\n",
    "        else:\n",
    "            out[p] =  np.cos(rotation[0])\n",
    "            q = c.pauli_mult(rotation[1],p)\n",
    "            out[q[0]] = (1j*q[1]*np.sin(rotation[0])).real           \n",
    "    else:\n",
    "        q = c.pauli_mult(rotation[1],p)\n",
    "        if rotation[0] == 'pi/2':\n",
    "            out[q[0]] = (1j*q[1])\n",
    "        else:\n",
    "            out[p] =np.cos(rotation[0])\n",
    "            out[q[0]] = (1j*q[1]*np.sin(rotation[0]))\n",
    "    \n",
    "    return out"
   ]
  },
  {
   "cell_type": "code",
   "execution_count": null,
   "metadata": {},
   "outputs": [],
   "source": []
  },
  {
   "cell_type": "code",
   "execution_count": null,
   "metadata": {},
   "outputs": [],
   "source": [
    "R0"
   ]
  },
  {
   "cell_type": "code",
   "execution_count": null,
   "metadata": {},
   "outputs": [],
   "source": [
    "r"
   ]
  },
  {
   "cell_type": "code",
   "execution_count": null,
   "metadata": {},
   "outputs": [],
   "source": [
    "# commuting case!\n",
    "IXX_str = 'IXX'\n",
    "out = c.apply_rotation(r,IXX_str)\n",
    "out"
   ]
  },
  {
   "cell_type": "code",
   "execution_count": null,
   "metadata": {},
   "outputs": [],
   "source": [
    "IXX = QubitOperator('X1 X2', 1)\n",
    "R0*IXX"
   ]
  },
  {
   "cell_type": "code",
   "execution_count": null,
   "metadata": {},
   "outputs": [],
   "source": []
  },
  {
   "cell_type": "code",
   "execution_count": null,
   "metadata": {},
   "outputs": [],
   "source": [
    "# anti-commuting case!\n",
    "IXY_str = 'IXY'\n",
    "out = c.apply_rotation(r,IXY_str)\n",
    "out"
   ]
  },
  {
   "cell_type": "code",
   "execution_count": null,
   "metadata": {},
   "outputs": [],
   "source": [
    "IXY = QubitOperator(*list(Script_A[1].terms.keys()), 1)"
   ]
  },
  {
   "cell_type": "code",
   "execution_count": null,
   "metadata": {},
   "outputs": [],
   "source": [
    "R0*IXY#*hermitian_conjugated(R0)"
   ]
  },
  {
   "cell_type": "code",
   "execution_count": null,
   "metadata": {},
   "outputs": [],
   "source": [
    "R0*IXY*hermitian_conjugated(R0)"
   ]
  },
  {
   "cell_type": "code",
   "execution_count": null,
   "metadata": {},
   "outputs": [],
   "source": []
  },
  {
   "cell_type": "code",
   "execution_count": null,
   "metadata": {},
   "outputs": [],
   "source": [
    "# commuting case!\n",
    "XZI_str = 'XZI'\n",
    "out = c.apply_rotation(r,XZI_str)\n",
    "out"
   ]
  },
  {
   "cell_type": "code",
   "execution_count": null,
   "metadata": {},
   "outputs": [],
   "source": [
    "IXX = QubitOperator('X0 Z1', 1)\n",
    "R0*IXX"
   ]
  },
  {
   "cell_type": "code",
   "execution_count": null,
   "metadata": {},
   "outputs": [],
   "source": [
    "R0*IXX*hermitian_conjugated(R0)"
   ]
  },
  {
   "cell_type": "code",
   "execution_count": null,
   "metadata": {},
   "outputs": [],
   "source": [
    "apply_rotation_NEW_left(r,XZI_str)"
   ]
  },
  {
   "cell_type": "code",
   "execution_count": null,
   "metadata": {},
   "outputs": [],
   "source": []
  },
  {
   "cell_type": "code",
   "execution_count": null,
   "metadata": {},
   "outputs": [],
   "source": []
  },
  {
   "cell_type": "code",
   "execution_count": null,
   "metadata": {},
   "outputs": [],
   "source": []
  },
  {
   "cell_type": "code",
   "execution_count": null,
   "metadata": {},
   "outputs": [],
   "source": []
  },
  {
   "cell_type": "code",
   "execution_count": null,
   "metadata": {},
   "outputs": [],
   "source": [
    "IXX = QubitOperator(*list(Script_A[0].terms.keys()), 1)\n"
   ]
  },
  {
   "cell_type": "code",
   "execution_count": null,
   "metadata": {},
   "outputs": [],
   "source": [
    "t = list(ham_rotated.keys())[0]\n",
    "t"
   ]
  },
  {
   "cell_type": "code",
   "execution_count": null,
   "metadata": {},
   "outputs": [],
   "source": []
  },
  {
   "cell_type": "code",
   "execution_count": null,
   "metadata": {},
   "outputs": [],
   "source": [
    "t = list(ham_rotated.keys())[0]\n",
    "t_set_next = apply_rotation_NEW(r,t)\n",
    "t_set_next"
   ]
  },
  {
   "cell_type": "code",
   "execution_count": null,
   "metadata": {},
   "outputs": [],
   "source": [
    "t = list(ham_rotated.keys())[0]\n",
    "t_set_next = c.apply_rotation(r,t)\n",
    "t_set_next"
   ]
  },
  {
   "cell_type": "code",
   "execution_count": null,
   "metadata": {},
   "outputs": [],
   "source": [
    "t = list(ham_rotated.keys())[0]\n",
    "t_set_next_left = apply_rotation_NEW_left(r,t)\n",
    "t_set_next_left"
   ]
  },
  {
   "cell_type": "code",
   "execution_count": null,
   "metadata": {},
   "outputs": [],
   "source": [
    "R0*IXX"
   ]
  },
  {
   "cell_type": "code",
   "execution_count": null,
   "metadata": {},
   "outputs": [],
   "source": []
  },
  {
   "cell_type": "code",
   "execution_count": null,
   "metadata": {},
   "outputs": [],
   "source": []
  },
  {
   "cell_type": "code",
   "execution_count": null,
   "metadata": {},
   "outputs": [],
   "source": [
    "t = list(ham_rotated.keys())[1]\n",
    "t"
   ]
  },
  {
   "cell_type": "code",
   "execution_count": null,
   "metadata": {},
   "outputs": [],
   "source": [
    "XZI = QubitOperator(*list(Script_A[3].terms.keys()), 1)"
   ]
  },
  {
   "cell_type": "code",
   "execution_count": null,
   "metadata": {},
   "outputs": [],
   "source": [
    "R0*XZI*hermitian_conjugated(R0)"
   ]
  },
  {
   "cell_type": "code",
   "execution_count": null,
   "metadata": {},
   "outputs": [],
   "source": [
    "t = list(ham_rotated.keys())[1]\n",
    "t_set_next = apply_rotation_NEW(r,t)\n",
    "t_set_next"
   ]
  },
  {
   "cell_type": "code",
   "execution_count": null,
   "metadata": {},
   "outputs": [],
   "source": [
    "t_set_next = c.apply_rotation(r,t)\n",
    "t_set_next"
   ]
  },
  {
   "cell_type": "code",
   "execution_count": null,
   "metadata": {},
   "outputs": [],
   "source": []
  },
  {
   "cell_type": "code",
   "execution_count": null,
   "metadata": {},
   "outputs": [],
   "source": []
  },
  {
   "cell_type": "code",
   "execution_count": null,
   "metadata": {},
   "outputs": [],
   "source": [
    "R0*QubitOperator(*list(Script_A[0].terms.keys()), 1)*hermitian_conjugated(R0)"
   ]
  },
  {
   "cell_type": "code",
   "execution_count": null,
   "metadata": {},
   "outputs": [],
   "source": [
    "R0"
   ]
  },
  {
   "cell_type": "code",
   "execution_count": null,
   "metadata": {},
   "outputs": [],
   "source": [
    "q = c.pauli_mult(r[1],t)\n",
    "q"
   ]
  },
  {
   "cell_type": "markdown",
   "metadata": {},
   "source": []
  },
  {
   "cell_type": "code",
   "execution_count": null,
   "metadata": {},
   "outputs": [],
   "source": []
  },
  {
   "cell_type": "code",
   "execution_count": null,
   "metadata": {},
   "outputs": [],
   "source": [
    "q = c.pauli_mult(r_new[1],t)\n",
    "q[1]*1j"
   ]
  },
  {
   "cell_type": "code",
   "execution_count": null,
   "metadata": {},
   "outputs": [],
   "source": [
    "r_new = deepcopy(r)\n",
    "r_new[0] = 'pi/2'\n",
    "\n",
    "t = list(ham_rotated.keys())[1]\n",
    "t_set_next = c.apply_rotation(r_new,t)\n",
    "t_set_next"
   ]
  },
  {
   "cell_type": "code",
   "execution_count": null,
   "metadata": {},
   "outputs": [],
   "source": [
    "QubitOperator(*list(Script_A[3].terms.keys()), 1)"
   ]
  },
  {
   "cell_type": "code",
   "execution_count": null,
   "metadata": {},
   "outputs": [],
   "source": [
    "t"
   ]
  },
  {
   "cell_type": "code",
   "execution_count": null,
   "metadata": {},
   "outputs": [],
   "source": [
    "apply_rotation_NEW(r_new,t)"
   ]
  },
  {
   "cell_type": "code",
   "execution_count": null,
   "metadata": {},
   "outputs": [],
   "source": [
    "apply_rotation_NEW_left(r_new,t)"
   ]
  },
  {
   "cell_type": "code",
   "execution_count": null,
   "metadata": {},
   "outputs": [],
   "source": [
    "r_new[0] = np.pi/2\n",
    "R_op_str = ' '.join(['{}{}'.format(Pstr, qNo) for qNo, Pstr in enumerate(r_new[1]) if Pstr!='I'])\n",
    "R_new = QubitOperator('', np.cos(r_new[0])) + QubitOperator(R_op_str, 1j*np.sin(r_new[0])) "
   ]
  },
  {
   "cell_type": "code",
   "execution_count": null,
   "metadata": {},
   "outputs": [],
   "source": [
    "R_new* QubitOperator(*list(Script_A[3].terms.keys()), 1)#*hermitian_conjugated(R_new)"
   ]
  },
  {
   "cell_type": "code",
   "execution_count": null,
   "metadata": {},
   "outputs": [],
   "source": [
    "-1* QubitOperator(*list(Script_A[1].terms.keys()), 1)"
   ]
  },
  {
   "cell_type": "code",
   "execution_count": null,
   "metadata": {},
   "outputs": [],
   "source": []
  },
  {
   "cell_type": "code",
   "execution_count": null,
   "metadata": {},
   "outputs": [],
   "source": []
  },
  {
   "cell_type": "markdown",
   "metadata": {},
   "source": [
    "$$ U = e^{+i \\theta R} = \\cos(\\theta)\\mathcal{I} + i\\sin(\\theta)R$$\n",
    "\n",
    "- if $R$ and $P$ anticommute\n",
    "$$U P U^{\\dagger} = \\big(\\cos^{2}(\\theta) - \\sin^{2}(\\theta)\\big) P + 2i\\cos(\\theta)\\sin(\\theta)RP $$\n",
    "\n",
    "- else if $R$ and $P$ commute\n",
    "$$U P U^{\\dagger} =\\cos^{2}(\\theta) P + \\sin^{2}(\\theta)P = P $$\n",
    "\n",
    "\n",
    "- left hand only:\n",
    "\n",
    "$$U P = \\cos(\\theta)P + i\\sin(\\theta)RP$$\n",
    "\n",
    "\n",
    "\n",
    "- overall:\n",
    "    - if $\\theta = \\pi/2$ then\n",
    "        - $U P U^{\\dagger} = -P$ (a.c. case)\n",
    "        - $U P U^{\\dagger} = +P$ (commuting case)\n"
   ]
  },
  {
   "cell_type": "markdown",
   "metadata": {},
   "source": [
    "\n",
    "- left hand only:\n",
    "\n",
    "$$U P = \\cos(\\theta)P - i\\sin(\\theta)RP$$\n",
    "\n"
   ]
  },
  {
   "cell_type": "code",
   "execution_count": null,
   "metadata": {},
   "outputs": [],
   "source": []
  },
  {
   "cell_type": "code",
   "execution_count": null,
   "metadata": {},
   "outputs": [],
   "source": [
    "def Openfermion_QubitOp_to_op_str(QubitOp, N_qubits):\n",
    "\n",
    "    PauliStr, coeff = tuple(*QubitOp.terms.items())\n",
    "    P_list = np.array(['I' for _ in range(N_qubits)], dtype=object)\n",
    "    if PauliStr:\n",
    "        qNo_list, qPstr_list = zip(*PauliStr)\n",
    "        P_list[list(qNo_list)] = qPstr_list\n",
    "\n",
    "    op_str = ''.join(P_list.tolist())\n",
    "    return op_str, coeff"
   ]
  },
  {
   "cell_type": "code",
   "execution_count": null,
   "metadata": {},
   "outputs": [],
   "source": [
    "Openfermion_QubitOp_to_op_str(QubitOperator('', 2), 5)"
   ]
  },
  {
   "cell_type": "code",
   "execution_count": null,
   "metadata": {},
   "outputs": [],
   "source": [
    "X = np.zeros(4)\n",
    "\n",
    "X[[1,2]]=(1,3)\n",
    "X.tolist()"
   ]
  },
  {
   "cell_type": "code",
   "execution_count": null,
   "metadata": {},
   "outputs": [],
   "source": []
  },
  {
   "cell_type": "code",
   "execution_count": null,
   "metadata": {},
   "outputs": [],
   "source": []
  },
  {
   "cell_type": "code",
   "execution_count": null,
   "metadata": {},
   "outputs": [],
   "source": []
  },
  {
   "cell_type": "code",
   "execution_count": null,
   "metadata": {},
   "outputs": [],
   "source": []
  },
  {
   "cell_type": "code",
   "execution_count": null,
   "metadata": {},
   "outputs": [],
   "source": []
  },
  {
   "cell_type": "code",
   "execution_count": null,
   "metadata": {},
   "outputs": [],
   "source": []
  },
  {
   "cell_type": "code",
   "execution_count": null,
   "metadata": {},
   "outputs": [],
   "source": [
    "from quchem.Misc_functions.conversion_scripts import Get_Openfermion_Hamiltonian\n",
    "\n",
    "H_full = Get_Openfermion_Hamiltonian(ham)"
   ]
  },
  {
   "cell_type": "code",
   "execution_count": null,
   "metadata": {},
   "outputs": [],
   "source": [
    "rotations = []\n",
    "ep_state = ground_state_params\n",
    "# if there are cliques...\n",
    "if fn_form[1] > 0:\n",
    "    # rotations to map A to a single Pauli (to be applied on left)\n",
    "    for i in range(1,fn_form[1]):\n",
    "        theta = np.arctan2(ep_state[1][i],np.sqrt(sum([ep_state[1][j]**2 for j in range(i)])))\n",
    "        if i == 1 and ep_state[1][0] < 0:\n",
    "            theta = np.pi - theta\n",
    "        generator = c.pauli_mult(model[1][0],model[1][i])\n",
    "        sgn = generator[1].imag\n",
    "        rotations.append( [sgn*theta, generator[0]] )\n",
    "rotations"
   ]
  },
  {
   "cell_type": "code",
   "execution_count": null,
   "metadata": {},
   "outputs": [],
   "source": [
    "AC_set = list(Get_Openfermion_Hamiltonian(dict(zip(Ci1_list, ep_state[1]))))\n",
    "AC_set"
   ]
  },
  {
   "cell_type": "code",
   "execution_count": null,
   "metadata": {},
   "outputs": [],
   "source": [
    "from quchem.Unitary_Partitioning.Unitary_partitioning_Seq_Rot import Get_Xsk_op_list\n",
    "S_index = 0\n",
    "N_Qubits=3\n",
    "check_reduction=True\n",
    "\n",
    "X_sk_theta_sk_list, normalised_FULL_set, Ps, gamma_l = Get_Xsk_op_list(AC_set, \n",
    "                                                                       S_index, \n",
    "                                                                       N_Qubits,\n",
    "                                                                       check_reduction=True,\n",
    "                                                                       atol=1e-8,\n",
    "                                                                       rtol=1e-05)\n",
    "\n",
    "R_sk_OP_list = []\n",
    "for X_sk_Op, theta_sk in X_sk_theta_sk_list:\n",
    "    op = np.cos(theta_sk / 2) * QubitOperator('') -1j*np.sin(theta_sk / 2) * X_sk_Op\n",
    "    R_sk_OP_list.append(op)\n",
    "\n",
    "R_S_op = reduce(lambda x,y: x*y, R_sk_OP_list[::-1])  # <- note reverse order!\n",
    "\n"
   ]
  },
  {
   "cell_type": "code",
   "execution_count": null,
   "metadata": {},
   "outputs": [],
   "source": [
    "from openfermion import hermitian_conjugated\n",
    "\n",
    "my_out = R_S_op * H_full * hermitian_conjugated(R_S_op)"
   ]
  },
  {
   "cell_type": "code",
   "execution_count": null,
   "metadata": {},
   "outputs": [],
   "source": [
    "ham_rotated = deepcopy(ham)\n",
    "\n",
    "for r in rotations: # rotate the full Hamiltonian to the basis with diagonal noncontextual generators\n",
    "    ham_next = {}\n",
    "    for t in ham_rotated.keys():\n",
    "        t_set_next = c.apply_rotation(r,t)\n",
    "#         print(t_set_next)\n",
    "        for t_next in t_set_next.keys():\n",
    "            if t_next in ham_next.keys():\n",
    "                ham_next[t_next] = ham_next[t_next] + t_set_next[t_next]*ham_rotated[t]\n",
    "            else:\n",
    "                ham_next[t_next] = t_set_next[t_next]*ham_rotated[t]\n",
    "    ham_rotated = deepcopy(ham_next)\n",
    "\n",
    "old_out = Get_Openfermion_Hamiltonian(ham_rotated)"
   ]
  },
  {
   "cell_type": "code",
   "execution_count": null,
   "metadata": {},
   "outputs": [],
   "source": [
    "my_out == old_out"
   ]
  }
 ],
 "metadata": {
  "kernelspec": {
   "display_name": "Python 3",
   "language": "python",
   "name": "python3"
  },
  "language_info": {
   "codemirror_mode": {
    "name": "ipython",
    "version": 3
   },
   "file_extension": ".py",
   "mimetype": "text/x-python",
   "name": "python",
   "nbconvert_exporter": "python",
   "pygments_lexer": "ipython3",
   "version": "3.8.5"
  }
 },
 "nbformat": 4,
 "nbformat_minor": 2
}
