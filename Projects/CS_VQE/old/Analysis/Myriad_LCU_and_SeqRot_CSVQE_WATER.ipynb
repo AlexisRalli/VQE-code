{
 "cells": [
  {
   "cell_type": "markdown",
   "metadata": {},
   "source": [
    "Myriad results comparing script A reduced via Sequence of rotations (denoted as standard/std approach)\n",
    "and LCU\n",
    "\n",
    "(In both cases classically applied)"
   ]
  },
  {
   "cell_type": "code",
   "execution_count": 1,
   "metadata": {},
   "outputs": [],
   "source": [
    "import numpy as np\n",
    "import os\n",
    "import ast\n",
    "\n",
    "%matplotlib inline\n",
    "import matplotlib.pyplot as plt\n",
    "import pickle"
   ]
  },
  {
   "cell_type": "code",
   "execution_count": 10,
   "metadata": {},
   "outputs": [],
   "source": [
    "working_dir = os.getcwd()\n",
    "parent_dir = os.path.dirname(working_dir)\n",
    "data_dir = os.path.join(parent_dir, 'data')\n",
    "\n",
    "\n",
    "data_hamiltonians_file = os.path.join(data_dir, 'hamiltonians.txt')\n",
    "\n",
    "\n",
    "fullH_sub_dir = os.path.join(data_dir, 'fullHamiltonians')\n",
    "fullH_sub_JW_dir = os.path.join(fullH_sub_dir, 'JW')\n"
   ]
  },
  {
   "cell_type": "code",
   "execution_count": null,
   "metadata": {},
   "outputs": [],
   "source": []
  },
  {
   "cell_type": "code",
   "execution_count": 14,
   "metadata": {},
   "outputs": [],
   "source": [
    "with open(data_hamiltonians_file, 'r') as input_file:\n",
    "    tapered_hamiltonians = ast.literal_eval(input_file.read())\n",
    "    \n",
    "tapered_H_size ={}\n",
    "dict_keys = list(tapered_hamiltonians.keys())\n",
    "for mol_key in dict_keys:\n",
    "    if mol_key == 'H2-O1_STO-3G_singlet':\n",
    "        tapered_H_size[mol_key] = {'N_terms':len(tapered_hamiltonians[mol_key][2]), 'N_qubits':tapered_hamiltonians[mol_key][1]}\n",
    "    else:\n",
    "        del tapered_hamiltonians[mol_key]\n",
    "# tapered_H_size"
   ]
  },
  {
   "cell_type": "code",
   "execution_count": null,
   "metadata": {},
   "outputs": [],
   "source": []
  },
  {
   "cell_type": "code",
   "execution_count": 16,
   "metadata": {},
   "outputs": [
    {
     "name": "stdout",
     "output_type": "stream",
     "text": [
      "H2-O1_STO-3G_singlet          No. terms:  1035       No. qubits:  10   \n"
     ]
    }
   ],
   "source": [
    "for key in tapered_H_size.keys():\n",
    "    print(f\"{key: <25}     No. terms:  {tapered_H_size[key]['N_terms']:<10.0f} No. qubits:  {tapered_H_size[key]['N_qubits']:<5.0f}\")"
   ]
  },
  {
   "cell_type": "code",
   "execution_count": 6,
   "metadata": {},
   "outputs": [],
   "source": [
    "def Convert_full_H_to_dict(file_path_with_name):\n",
    "    \n",
    "    # function to convert .oplist file to dictionary!\n",
    "    \n",
    "    CONVERSION_DICT = {\n",
    "                        0 : 'I',\n",
    "                        1: 'X',\n",
    "                        2: 'Y',\n",
    "                        3: 'Z'\n",
    "                        }\n",
    "    \n",
    "    with open(file_path_with_name,'rb') as infile:\n",
    "        data = pickle.load(infile,encoding='latin1')\n",
    "    \n",
    "    Hamiltonian = {}\n",
    "    for coeff, P_str_list in data:\n",
    "        P_word = ''.join([CONVERSION_DICT[P_key] for P_key in P_str_list])\n",
    "        Hamiltonian[P_word]= np.real(coeff)\n",
    "     \n",
    "    return Hamiltonian"
   ]
  },
  {
   "cell_type": "code",
   "execution_count": null,
   "metadata": {},
   "outputs": [],
   "source": []
  },
  {
   "cell_type": "code",
   "execution_count": 20,
   "metadata": {},
   "outputs": [],
   "source": [
    "# molecule names in hamiltonians and hamiltonians before tapering are different\n",
    "# requires using regular expressions to select correct terms\n",
    "# done below (code replaces pre-tapered hamiltonian names with naming done by Will!)\n",
    "\n",
    "import re\n",
    "\n",
    "full_hamiltonians_dict={}\n",
    "for filename in os.listdir(fullH_sub_JW_dir):\n",
    "    if filename.endswith('.oplist'):\n",
    "        filename_with_ext = filename[:-7]\n",
    "        \n",
    "        if filename_with_ext in ['H2-O1_STO-3G_singlet_H2OH2O']:\n",
    "            for mol_name in tapered_hamiltonians.keys():\n",
    "                if bool(re.match(f'^.*{mol_name}.*$', filename_with_ext)): # wildcard at front and wildcard at end\n",
    "    #                 print(filename_with_ext)\n",
    "    #                 print(mol_name)\n",
    "    #                 print('')\n",
    "                    file = os.path.join(fullH_sub_JW_dir, filename)\n",
    "                    H = Convert_full_H_to_dict(file)\n",
    "                    full_hamiltonians_dict[mol_name] = H"
   ]
  },
  {
   "cell_type": "code",
   "execution_count": 22,
   "metadata": {},
   "outputs": [
    {
     "data": {
      "text/plain": [
       "True"
      ]
     },
     "execution_count": 22,
     "metadata": {},
     "output_type": "execute_result"
    }
   ],
   "source": [
    "## check keys match!\n",
    "sorted(list(full_hamiltonians_dict.keys())) == sorted(list(tapered_hamiltonians.keys()))"
   ]
  },
  {
   "cell_type": "code",
   "execution_count": 23,
   "metadata": {},
   "outputs": [
    {
     "data": {
      "text/plain": [
       "{'H2-O1_STO-3G_singlet': {'N_terms': 1086, 'N_qubits': 14}}"
      ]
     },
     "execution_count": 23,
     "metadata": {},
     "output_type": "execute_result"
    }
   ],
   "source": [
    "full_H_size ={}\n",
    "for mol_key in full_hamiltonians_dict.keys():\n",
    "    if mol_key == 'H2-O1_STO-3G_singlet':\n",
    "        full_H_size[mol_key] = {'N_terms':len(full_hamiltonians_dict[mol_key]),\n",
    "                                   'N_qubits':len(list(full_hamiltonians_dict[mol_key].keys())[0])}\n",
    "full_H_size"
   ]
  },
  {
   "cell_type": "code",
   "execution_count": null,
   "metadata": {},
   "outputs": [],
   "source": []
  },
  {
   "cell_type": "code",
   "execution_count": 24,
   "metadata": {},
   "outputs": [
    {
     "name": "stdout",
     "output_type": "stream",
     "text": [
      "H2-O1_STO-3G_singlet          No. terms orig:  1086   No. terms tapering:  1035  tap_vs_orig_qubits: 10 vs 14\n"
     ]
    }
   ],
   "source": [
    "# full_H_size = {mol_key: len(full_hamiltonians_dict[mol_key]) for mol_key in full_hamiltonians_dict}\n",
    "\n",
    "for key in tapered_H_size.keys():\n",
    "    print(f\"{key: <25}     No. terms orig:  {full_H_size[key]['N_terms']:<5.0f}  No. terms tapering:  {tapered_H_size[key]['N_terms']:<5.0f} tap_vs_orig_qubits: {tapered_H_size[key]['N_qubits']:<2.0f} vs {full_H_size[key]['N_qubits']:<2.0f}\")"
   ]
  },
  {
   "cell_type": "code",
   "execution_count": 25,
   "metadata": {},
   "outputs": [
    {
     "data": {
      "text/plain": [
       "{'H2-O1_STO-3G_singlet': [-83.92870248174707,\n",
       "  [-83.15929536769288,\n",
       "   -83.87422390061545,\n",
       "   -83.87959838666484,\n",
       "   -83.88315847347808,\n",
       "   -83.89785356785995,\n",
       "   -83.91205889216397,\n",
       "   -83.91813131301501,\n",
       "   -83.9276170395122,\n",
       "   -83.92862837750994,\n",
       "   -83.928653541029,\n",
       "   -83.92870248174663],\n",
       "  [0.7694071140541894,\n",
       "   0.05447858113161885,\n",
       "   0.04910409508222813,\n",
       "   0.04554400826899041,\n",
       "   0.030848913887112417,\n",
       "   0.016643589583097196,\n",
       "   0.010571168732056435,\n",
       "   0.0010854422348671733,\n",
       "   7.410423712883585e-05,\n",
       "   4.894071805949807e-05,\n",
       "   4.405364961712621e-13],\n",
       "  [9, 2, 4, 0, 3, 6, 5, 1, 8, 7]]}"
      ]
     },
     "execution_count": 25,
     "metadata": {},
     "output_type": "execute_result"
    }
   ],
   "source": [
    "## import LCU results\n",
    "output_dir = os.path.join(parent_dir, 'Pickle_out')\n",
    "\n",
    "myriad_LCU_results = {}\n",
    "for filename in os.listdir(output_dir):\n",
    "    if (filename.endswith('.pickle') and filename.startswith('LCU_CS_VQE_exp')):\n",
    "        file_path = os.path.join(output_dir, filename) \n",
    "        mol_name = filename[40:-8]\n",
    "        if mol_name == 'H2-O1_STO-3G_singlet':\n",
    "            with open(file_path,'rb') as infile:\n",
    "                data = pickle.load(infile)\n",
    "\n",
    "            myriad_LCU_results[mol_name] = data[mol_name]\n",
    "\n",
    "myriad_LCU_results"
   ]
  },
  {
   "cell_type": "code",
   "execution_count": null,
   "metadata": {},
   "outputs": [],
   "source": []
  },
  {
   "cell_type": "code",
   "execution_count": 26,
   "metadata": {},
   "outputs": [
    {
     "data": {
      "text/plain": [
       "{'H2-O1_STO-3G_singlet': [-83.92870248174707,\n",
       "  [-83.87422390061542,\n",
       "   -83.87422390061542,\n",
       "   -83.87959838666467,\n",
       "   -83.88315847347775,\n",
       "   -83.89785356786,\n",
       "   -83.91205889216367,\n",
       "   -83.9181313130144,\n",
       "   -83.92761703951149,\n",
       "   -83.9286283775095,\n",
       "   -83.9286535410287,\n",
       "   -83.92870248174651],\n",
       "  [0.054478581131647275,\n",
       "   0.054478581131647275,\n",
       "   0.04910409508239866,\n",
       "   0.04554400826931726,\n",
       "   0.030848913887069784,\n",
       "   0.016643589583395624,\n",
       "   0.010571168732667502,\n",
       "   0.001085442235577716,\n",
       "   7.410423756937234e-05,\n",
       "   4.894071837213687e-05,\n",
       "   5.542233338928781e-13],\n",
       "  [2, 9, 4, 0, 3, 5, 6, 1, 8, 7]]}"
      ]
     },
     "execution_count": 26,
     "metadata": {},
     "output_type": "execute_result"
    }
   ],
   "source": [
    "## import standard results\n",
    "output_dir = os.path.join(parent_dir, 'Pickle_out')\n",
    "\n",
    "myriad_std_results = {}\n",
    "for filename in os.listdir(output_dir):\n",
    "    if (filename.endswith('.pickle') and filename.startswith('standard_CS_VQE_exp')):\n",
    "        file_path = os.path.join(output_dir, filename) \n",
    "        mol_name = filename[45:-8]\n",
    "        if mol_name == 'H2-O1_STO-3G_singlet':\n",
    "            with open(file_path,'rb') as infile:\n",
    "                data = pickle.load(infile)\n",
    "\n",
    "            myriad_std_results[mol_name] = data[mol_name]\n",
    "\n",
    "myriad_std_results"
   ]
  },
  {
   "cell_type": "markdown",
   "metadata": {},
   "source": [
    "### combined results "
   ]
  },
  {
   "cell_type": "code",
   "execution_count": 28,
   "metadata": {},
   "outputs": [],
   "source": [
    "import sys\n",
    "sys.path.insert(1, parent_dir)\n",
    "import cs_vqe as c\n",
    "import cs_vqe_with_LCU as c_LCU\n",
    "\n",
    "from copy import deepcopy as copy\n",
    "import tqdm\n",
    "from tqdm.notebook import tqdm"
   ]
  },
  {
   "cell_type": "code",
   "execution_count": 29,
   "metadata": {},
   "outputs": [
    {
     "data": {
      "application/vnd.jupyter.widget-view+json": {
       "model_id": "a27d4d950de24074bf8866105539e30c",
       "version_major": 2,
       "version_minor": 0
      },
      "text/plain": [
       "HBox(children=(HTML(value='getting standard CS-VQE results'), FloatProgress(value=0.0, max=1.0), HTML(value=''…"
      ]
     },
     "metadata": {},
     "output_type": "display_data"
    },
    {
     "name": "stdout",
     "output_type": "stream",
     "text": [
      "\n"
     ]
    },
    {
     "data": {
      "application/vnd.jupyter.widget-view+json": {
       "model_id": "2d59b58be3624585b30452d803f6071a",
       "version_major": 2,
       "version_minor": 0
      },
      "text/plain": [
       "HBox(children=(HTML(value='getting LCU CS-VQE results'), FloatProgress(value=0.0, max=1.0), HTML(value='')))"
      ]
     },
     "metadata": {},
     "output_type": "display_data"
    },
    {
     "name": "stdout",
     "output_type": "stream",
     "text": [
      "\n"
     ]
    }
   ],
   "source": [
    "STANDARD_RESULTS={}\n",
    "for key in tqdm(myriad_std_results.keys(), ascii=True, desc='getting standard CS-VQE results'):\n",
    "\n",
    "    ham_noncon = tapered_hamiltonians[key][3]\n",
    "    ep_state = [list(tapered_hamiltonians[key][5][1]), list(tapered_hamiltonians[key][5][2])] # ground state of noncontextual Ham\n",
    "    ham = tapered_hamiltonians[key][2]\n",
    "\n",
    "    model = c.quasi_model(ham_noncon)\n",
    "    fn_form = c.energy_function_form(ham_noncon, model)\n",
    "\n",
    "    N_qubits_tapered = tapered_hamiltonians[key][1]\n",
    "    N_qubits_original_H = full_H_size[key]['N_qubits']\n",
    "    \n",
    "    order= copy(myriad_std_results[key][-1]) # <-- order specified from greedy run by Will\n",
    "    qubit_removal_order=copy(order)\n",
    "    \n",
    "    reduced_Con_hamiltonians = c.get_reduced_hamiltonians(ham ,model, fn_form, ep_state, order)\n",
    "    \n",
    "    gs_energy_hamilt = tapered_hamiltonians[key][4]\n",
    "    gs_energy_cs_vqe = myriad_std_results[key][0]\n",
    "    if gs_energy_hamilt!=gs_energy_cs_vqe:\n",
    "        raise ValueError('ground state energy mismatch')\n",
    "    \n",
    "    STANDARD_RESULTS[key] = {\n",
    "                                'N_qubits_tapered': N_qubits_tapered,\n",
    "                                'N_qubits_original_H': N_qubits_original_H,\n",
    "        \n",
    "                                'CS_VQE_energy_results': myriad_std_results[key][1],\n",
    "                                'CS_VQE_error_results': myriad_std_results[key][2],\n",
    "                                'FCI':tapered_hamiltonians[key][4],                         \n",
    "                                'gstate_noncon':tapered_hamiltonians[key][5], \n",
    "                                'Contextual_Hamiltonian_list': reduced_Con_hamiltonians, #ham_out,   \n",
    "#                                 'non_Contextual_H': conv_scr.Get_Openfermion_Hamiltonian(ham_noncon),# ham_noncon_out, \n",
    "                                'qubit_removal_order':qubit_removal_order\n",
    "                             }\n",
    "    \n",
    "    \n",
    "    \n",
    "LCU_RESULTS={}\n",
    "for key in tqdm(myriad_LCU_results.keys(), ascii=True, desc='getting LCU CS-VQE results'):\n",
    "\n",
    "    ham_noncon = tapered_hamiltonians[key][3]\n",
    "    ep_state = [list(tapered_hamiltonians[key][5][1]), list(tapered_hamiltonians[key][5][2])] # ground state of noncontextual Ham\n",
    "    ham = tapered_hamiltonians[key][2]\n",
    "\n",
    "    model = c.quasi_model(ham_noncon)\n",
    "    fn_form = c.energy_function_form(ham_noncon, model)\n",
    "\n",
    "    N_qubits_tapered = tapered_hamiltonians[key][1]\n",
    "    N_qubits_original_H = full_H_size[key]['N_qubits']\n",
    "    \n",
    "    order= copy(myriad_LCU_results[key][-1]) # <-- order specified from greedy run by Will\n",
    "    qubit_removal_order=copy(order)\n",
    "    \n",
    "    \n",
    "    N_index=0\n",
    "    reduced_Con_hamiltonians = c_LCU.get_reduced_hamiltonians_LCU(ham,model, fn_form, ep_state, order, \n",
    "                                                                  N_qubits_tapered, N_index)\n",
    "    \n",
    "    gs_energy_hamilt = tapered_hamiltonians[key][4]\n",
    "    gs_energy_cs_vqe = myriad_LCU_results[key][0]\n",
    "    if gs_energy_hamilt!=gs_energy_cs_vqe:\n",
    "        raise ValueError('ground state energy mismatch')\n",
    "    \n",
    "    LCU_RESULTS[key] = {\n",
    "                                'N_qubits_tapered': N_qubits_tapered,\n",
    "                                'N_qubits_original_H': N_qubits_original_H,\n",
    "        \n",
    "                                'CS_VQE_energy_results': myriad_LCU_results[key][1],\n",
    "                                'CS_VQE_error_results': myriad_LCU_results[key][2],\n",
    "                                'FCI':tapered_hamiltonians[key][4],                         \n",
    "                                'gstate_noncon':tapered_hamiltonians[key][5], \n",
    "                                'Contextual_Hamiltonian_list': reduced_Con_hamiltonians, #ham_out,   \n",
    "#                                 'non_Contextual_H': conv_scr.Get_Openfermion_Hamiltonian(ham_noncon),# ham_noncon_out, \n",
    "                                'qubit_removal_order':qubit_removal_order\n",
    "                             }"
   ]
  },
  {
   "cell_type": "code",
   "execution_count": 30,
   "metadata": {},
   "outputs": [
    {
     "name": "stdout",
     "output_type": "stream",
     "text": [
      "H2-O1_STO-3G_singlet\n"
     ]
    }
   ],
   "source": [
    "for key in LCU_RESULTS:\n",
    "    print(key)"
   ]
  },
  {
   "cell_type": "code",
   "execution_count": 31,
   "metadata": {},
   "outputs": [],
   "source": [
    "def plot_n_qubits_VS_n_terms(result_dict_LCU,result_dict_Std, mol_name, dpi=200):\n",
    "    # https://matplotlib.org/3.1.1/gallery/lines_bars_and_markers/barchart.html\n",
    "    \n",
    "    ## get total number of terms for each reduction\n",
    "    H_sizes_LCU = [len(reducedH) for reducedH in result_dict_LCU[mol_name]['Contextual_Hamiltonian_list']]\n",
    "    H_sizes_std =[len(reducedH) for reducedH in result_dict_Std[mol_name]['Contextual_Hamiltonian_list']]\n",
    "    \n",
    "    \n",
    "    n_qubits = np.array([i for i in range(1+result_dict_LCU[mol_name]['N_qubits_tapered'])])\n",
    "#     n_qubits = np.array([i for i in range(len(H_sizes_std))])\n",
    "    \n",
    "    width = 0.5  # the width of the bars\n",
    "    fig, ax = plt.subplots(dpi=dpi)\n",
    "    rects1 = ax.bar(n_qubits - width/2, H_sizes_std, width, label='standard')\n",
    "    rects2 = ax.bar(n_qubits + width/2, H_sizes_LCU, width, label='LCU terms')\n",
    "\n",
    "    ax.set_ylabel('Number of terms')\n",
    "    ax.set_xlabel('Number of qubits')\n",
    "    \n",
    "\n",
    "#     tapered_N_terms = Nterms_tapered_H_dict[mol_name]\n",
    "#     rects3 = ax.bar(n_qubits[-1] + width*1.5, tapered_N_terms, width, label='tapered H')\n",
    "    \n",
    "#     original_N_terms = Nterms_FULL_H_dict[mol_name]\n",
    "#     rects4 = ax.bar(n_qubits[-1] + width*2.5, original_N_terms, width, label='original H')\n",
    "\n",
    "    ####  second y axis!\n",
    "    true_gs_energy = result_dict_LCU[mol_name]['FCI']\n",
    "    CS_VQE_std_error = result_dict_LCU[mol_name]['CS_VQE_error_results']\n",
    "    CS_VQE_LCU_errors = result_dict_Std[mol_name]['CS_VQE_error_results']\n",
    "#     n_qubits = np.array([i for i in range(len(CS_VQE_LCU_errors))])\n",
    "    \n",
    "    ax2=ax.twinx()\n",
    "    # make a plot with different y-axis using second axis object\n",
    "    ax2.plot(n_qubits,CS_VQE_std_error,color=\"blue\",marker=\"o\", label='CS_VQE std error')\n",
    "    ax2.plot(n_qubits,CS_VQE_LCU_errors,color=\"red\",marker=\"x\", linestyle='--', label='CS_VQE LCU error')\n",
    "    ax2.set_ylabel(\"Energy Error\",color=\"black\",fontsize=14)\n",
    "\n",
    "    ax2.axhline(y=1.6e-3, color='black', linestyle='-', label='chemical accuracy')\n",
    "    \n",
    "    ax.set_title(mol_name)\n",
    "    ax.set_xticks(n_qubits)\n",
    "    ax.set_xticklabels(n_qubits)\n",
    "    ax.legend()\n",
    "    ax2.legend(loc='center left')\n",
    "    fig.tight_layout()\n",
    "\n",
    "    plt.show()\n",
    "    print()\n",
    "    \n",
    "        # save the plot as a file\n",
    "#     fig.savefig('two_different_y_axis_for_single_python_plot_with_twinx.jpg',\n",
    "#                 format='jpeg',\n",
    "#                 dpi=100,\n",
    "#                 bbox_inches='tight')"
   ]
  },
  {
   "cell_type": "code",
   "execution_count": 34,
   "metadata": {},
   "outputs": [
    {
     "data": {
      "image/png": "[encoded data removed]",
      "text/plain": [
       "<Figure size 1200x800 with 2 Axes>"
      ]
     },
     "metadata": {
      "needs_background": "light"
     },
     "output_type": "display_data"
    },
    {
     "name": "stdout",
     "output_type": "stream",
     "text": [
      "\n"
     ]
    }
   ],
   "source": [
    "plot_n_qubits_VS_n_terms(LCU_RESULTS,STANDARD_RESULTS, 'H2-O1_STO-3G_singlet', dpi=200)"
   ]
  },
  {
   "cell_type": "code",
   "execution_count": null,
   "metadata": {},
   "outputs": [],
   "source": []
  },
  {
   "cell_type": "markdown",
   "metadata": {},
   "source": [
    "# Q Circuit sizes"
   ]
  },
  {
   "cell_type": "code",
   "execution_count": null,
   "metadata": {},
   "outputs": [],
   "source": []
  }
 ],
 "metadata": {
  "kernelspec": {
   "display_name": "Python 3",
   "language": "python",
   "name": "python3"
  },
  "language_info": {
   "codemirror_mode": {
    "name": "ipython",
    "version": 3
   },
   "file_extension": ".py",
   "mimetype": "text/x-python",
   "name": "python",
   "nbconvert_exporter": "python",
   "pygments_lexer": "ipython3",
   "version": "3.8.5"
  }
 },
 "nbformat": 4,
 "nbformat_minor": 4
}
