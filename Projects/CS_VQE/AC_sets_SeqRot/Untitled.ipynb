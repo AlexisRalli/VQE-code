{
 "cells": [
  {
   "cell_type": "code",
   "execution_count": 29,
   "metadata": {},
   "outputs": [],
   "source": [
    "import numpy as np\n",
    "import scipy as sp\n",
    "\n",
    "import ast\n",
    "import os\n",
    "import re\n",
    "\n",
    "from quchem.Unitary_Partitioning.Graph import Clique_cover_Hamiltonian\n",
    "import quchem.Misc_functions.conversion_scripts as conv_scr \n",
    "from copy import deepcopy\n",
    "from quchem.Unitary_Partitioning.Unitary_partitioning_Seq_Rot import Get_reduced_H_matrix_SeqRot, SeqRot_linalg_Energy\n",
    "from openfermion import qubit_operator_sparse\n",
    "\n",
    "import pickle\n",
    "import datetime\n",
    "\n",
    "#######\n",
    "import sys\n",
    "\n",
    "\n"
   ]
  },
  {
   "cell_type": "code",
   "execution_count": 9,
   "metadata": {},
   "outputs": [],
   "source": [
    "working_dir = os.path.dirname(os.getcwd())\n",
    "Analysis_dir = os.path.join(working_dir, 'Analysis')\n",
    "full_H_results_dir = os.path.join(Analysis_dir, 'SeqRot_LCU_script_A_results')"
   ]
  },
  {
   "cell_type": "code",
   "execution_count": 10,
   "metadata": {},
   "outputs": [],
   "source": [
    "###### IMPORT INITIAL RESULTS\n",
    "\n",
    "## import SeqRot results\n",
    "myriad_SeqRot_results = {}\n",
    "for filename in os.listdir(full_H_results_dir):\n",
    "    if (filename.endswith('.pickle') and filename.startswith('SeqRot_CS_VQE_exp')):\n",
    "        file_path = os.path.join(full_H_results_dir, filename) \n",
    "        mol_name = filename[43:-8]\n",
    "        with open(file_path,'rb') as infile:\n",
    "            data = pickle.load(infile)\n",
    "        myriad_SeqRot_results[mol_name] = data"
   ]
  },
  {
   "cell_type": "code",
   "execution_count": 50,
   "metadata": {},
   "outputs": [],
   "source": [
    "\n",
    "######## take commandline arguement to run in parallel\n",
    "AC_set_index  = 10 # minus one as array script idexes from 1\n",
    "mol_key = 'C1-O1_STO-3G_singlet'\n",
    "\n",
    "check_reduction_SeqRot = False\n",
    "\n",
    "if mol_key not in myriad_SeqRot_results.keys():\n",
    "    raise ValueError('molecule key not correct')"
   ]
  },
  {
   "cell_type": "code",
   "execution_count": 51,
   "metadata": {},
   "outputs": [],
   "source": [
    "########\n",
    "## import AC_sets results\n",
    "\n",
    "AC_sets_dir_name = 'AC_sets_SeqRot'\n",
    "AC_dir = os.path.join(working_dir, AC_sets_dir_name)\n",
    "input_AC_file_path = os.path.join(AC_dir, mol_key + '.pickle') # AC of given molecule\n",
    "\n",
    "\n",
    "with open(input_AC_file_path,'rb') as infile:\n",
    "    all_anti_commuting_sets_SeqRot = pickle.load(infile)\n",
    "\n",
    "anti_commuting_sets_SeqRot = all_anti_commuting_sets_SeqRot[AC_set_index]['AC_sets']\n",
    "ground_state_ket = all_anti_commuting_sets_SeqRot[AC_set_index]['ground_state']"
   ]
  },
  {
   "cell_type": "code",
   "execution_count": 53,
   "metadata": {},
   "outputs": [],
   "source": [
    "## Get Energy\n",
    "\n",
    "if anti_commuting_sets_SeqRot:\n",
    "    ### SeqRot\n",
    "    all_zero_Ps_index_dict = {set_key: 0 for set_key in anti_commuting_sets_SeqRot}\n",
    "\n",
    "    H_SeqRot_dict = myriad_SeqRot_results[mol_key][AC_set_index]['H']\n",
    "    n_qubits = len(list(H_SeqRot_dict.keys())[0])\n",
    "\n",
    "#     H_sparse = Get_reduced_H_matrix_SeqRot(anti_commuting_sets_SeqRot,\n",
    "#                                      all_zero_Ps_index_dict,\n",
    "#                                      n_qubits,\n",
    "#                                      atol=1e-8,\n",
    "#                                      rtol=1e-05,\n",
    "#                                      check_reduction=check_reduction_SeqRot)\n",
    "    \n",
    "    \n",
    "#     E_SeqRot = SeqRot_linalg_Energy(anti_commuting_sets_SeqRot,\n",
    "#                                  all_zero_Ps_index_dict,\n",
    "#                                  n_qubits,\n",
    "#                                  atol=1e-8,\n",
    "#                                  rtol=1e-05,\n",
    "#                                  check_reduction=check_reduction_SeqRot)\n",
    "\n",
    "#     AC_set_and_Energy_output = {'AC_sets': anti_commuting_sets_SeqRot,\n",
    "#                                                            'E':E_SeqRot}\n",
    "    \n",
    "    \n",
    "    ########\n",
    "    \n",
    "    \n",
    "#     denisty_mat = np.outer(ground_state_ket, ground_state_ket)\n",
    "#     E_SeqRot = np.trace(denisty_mat@H_sparse)\n",
    "\n",
    "#     AC_set_and_Energy_output = {'AC_sets': anti_commuting_sets_SeqRot,\n",
    "#                                                            'E':E_SeqRot}\n",
    "# else:\n",
    "#     # only non-contextual problem\n",
    "#     AC_set_and_Energy_output = {'AC_sets': anti_commuting_sets_SeqRot,\n",
    "#                                                            'E':myriad_SeqRot_results[mol_key][AC_set_index]['E']}    \n",
    "\n",
    "\n"
   ]
  },
  {
   "cell_type": "code",
   "execution_count": 32,
   "metadata": {},
   "outputs": [
    {
     "name": "stdout",
     "output_type": "stream",
     "text": [
      "498 ms ± 3.13 ms per loop (mean ± std. dev. of 7 runs, 1 loop each)\n"
     ]
    }
   ],
   "source": [
    "%timeit SeqRot_linalg_Energy(anti_commuting_sets_SeqRot,all_zero_Ps_index_dict,n_qubits,atol=1e-8,rtol=1e-05,check_reduction=check_reduction_SeqRot)"
   ]
  },
  {
   "cell_type": "code",
   "execution_count": 45,
   "metadata": {},
   "outputs": [
    {
     "name": "stdout",
     "output_type": "stream",
     "text": [
      "253 ms ± 14.7 ms per loop (mean ± std. dev. of 7 runs, 1 loop each)\n"
     ]
    }
   ],
   "source": [
    "%timeit SeqRot_linalg_Energy_FAST(anti_commuting_sets_SeqRot,all_zero_Ps_index_dict,n_qubits,atol=1e-8,rtol=1e-05,check_reduction=check_reduction_SeqRot)"
   ]
  },
  {
   "cell_type": "code",
   "execution_count": 46,
   "metadata": {},
   "outputs": [],
   "source": [
    "E1= SeqRot_linalg_Energy(anti_commuting_sets_SeqRot,all_zero_Ps_index_dict,n_qubits,atol=1e-8,rtol=1e-05,check_reduction=check_reduction_SeqRot)\n",
    "E2= SeqRot_linalg_Energy_FAST(anti_commuting_sets_SeqRot,all_zero_Ps_index_dict,n_qubits,atol=1e-8,rtol=1e-05,check_reduction=check_reduction_SeqRot)"
   ]
  },
  {
   "cell_type": "code",
   "execution_count": null,
   "metadata": {},
   "outputs": [],
   "source": []
  },
  {
   "cell_type": "code",
   "execution_count": 64,
   "metadata": {},
   "outputs": [],
   "source": [
    "from scipy.sparse import csr_matrix"
   ]
  },
  {
   "cell_type": "code",
   "execution_count": 75,
   "metadata": {},
   "outputs": [],
   "source": [
    "def test1():\n",
    "    anti_commuting_sets = anti_commuting_sets_SeqRot\n",
    "    S_key_dict = all_zero_Ps_index_dict\n",
    "    N_Qubits = n_qubits\n",
    "    atol=1e-8\n",
    "    rtol=1e-05\n",
    "    check_reduction=False\n",
    "\n",
    "\n",
    "    H_single_terms = QubitOperator()\n",
    "    gammal_Rdag_P_R_terms = QubitOperator()\n",
    "    for key in anti_commuting_sets:\n",
    "        AC_set = anti_commuting_sets[key]\n",
    "\n",
    "        if len(AC_set) < 2:\n",
    "            H_single_terms += AC_set[0]\n",
    "        else:\n",
    "            S_index = S_key_dict[key]\n",
    "\n",
    "            X_sk_theta_sk_list, full_normalised_set, Ps, gamma_l = Get_Xsk_op_list(AC_set, S_index, N_Qubits, check_reduction=check_reduction, atol=atol, rtol=rtol)\n",
    "\n",
    "            R_S = Get_Rsl_matrix_as_qubitops(X_sk_theta_sk_list)\n",
    "\n",
    "            R_dag_P_R = hermitian_conjugated(R_S) * Ps * R_S\n",
    "            R_dag_P_R = Ps * R_S\n",
    "            gammal_Rdag_P_R_terms += gamma_l*R_dag_P_R\n",
    "\n",
    "    all_symbolic_ops = H_single_terms + gammal_Rdag_P_R_terms\n",
    "    reduced_H_matrix = fast_qubit_operator_sparse(all_symbolic_ops, N_Qubits)"
   ]
  },
  {
   "cell_type": "code",
   "execution_count": 76,
   "metadata": {},
   "outputs": [],
   "source": [
    "def test2():\n",
    "    anti_commuting_sets = anti_commuting_sets_SeqRot\n",
    "    S_key_dict = all_zero_Ps_index_dict\n",
    "    N_Qubits = n_qubits\n",
    "    atol=1e-8\n",
    "    rtol=1e-05\n",
    "    check_reduction=False\n",
    "\n",
    "\n",
    "    reduced_H_matrix = csr_matrix((2 ** N_Qubits, 2 ** N_Qubits), dtype=complex)\n",
    "    for key in anti_commuting_sets:\n",
    "        AC_set = anti_commuting_sets[key]\n",
    "\n",
    "        if len(AC_set) < 2:\n",
    "            CiPi = AC_set[0]\n",
    "            CiPi_matrix = fast_qubit_operator_sparse(CiPi, N_Qubits)\n",
    "            reduced_H_matrix+=CiPi_matrix\n",
    "        else:\n",
    "            S_index = S_key_dict[key]\n",
    "\n",
    "            X_sk_theta_sk_list, full_normalised_set, Ps, gamma_l = Get_Xsk_op_list(AC_set, S_index, N_Qubits, check_reduction=check_reduction, atol=atol, rtol=rtol)\n",
    "\n",
    "\n",
    "            R_S = Get_Rsl_matrix_as_qubitops(X_sk_theta_sk_list)\n",
    "\n",
    "            R_S_matrix = fast_qubit_operator_sparse(R_S, N_Qubits)\n",
    "            P_S_matrix = fast_qubit_operator_sparse(Ps, N_Qubits)\n",
    "            Rdag_P_R= R_S_matrix.conj().T @ P_S_matrix @ R_S_matrix\n",
    "            reduced_H_matrix+=gamma_l*Rdag_P_R\n"
   ]
  },
  {
   "cell_type": "code",
   "execution_count": 79,
   "metadata": {},
   "outputs": [],
   "source": [
    "def test3():\n",
    "    anti_commuting_sets = anti_commuting_sets_SeqRot\n",
    "    S_key_dict = all_zero_Ps_index_dict\n",
    "    N_Qubits = n_qubits\n",
    "    atol=1e-8\n",
    "    rtol=1e-05\n",
    "    check_reduction=False\n",
    "\n",
    "\n",
    "    reduced_H_matrix = csr_matrix((2 ** N_Qubits, 2 ** N_Qubits), dtype=complex)\n",
    "    for key in anti_commuting_sets:\n",
    "        AC_set = anti_commuting_sets[key]\n",
    "\n",
    "        if len(AC_set) < 2:\n",
    "            CiPi = AC_set[0]\n",
    "            CiPi_matrix = fast_qubit_operator_sparse(CiPi, N_Qubits)\n",
    "            reduced_H_matrix+=CiPi_matrix\n",
    "        else:\n",
    "            S_index = S_key_dict[key]\n",
    "\n",
    "            X_sk_theta_sk_list, full_normalised_set, Ps, gamma_l = Get_Xsk_op_list(AC_set, S_index, N_Qubits, check_reduction=check_reduction, atol=atol, rtol=rtol)\n",
    "\n",
    "\n",
    "            R_S = Get_Rsl_matrix_as_qubitops(X_sk_theta_sk_list)\n",
    "            \n",
    "            R_dag_P_R = hermitian_conjugated(R_S) * Ps * R_S\n",
    "            R_dag_P_R_matrix = fast_qubit_operator_sparse(R_dag_P_R, N_Qubits)\n",
    "            reduced_H_matrix+=gamma_l*R_dag_P_R_matrix\n"
   ]
  },
  {
   "cell_type": "code",
   "execution_count": 77,
   "metadata": {},
   "outputs": [
    {
     "name": "stdout",
     "output_type": "stream",
     "text": [
      "1min 8s ± 200 ms per loop (mean ± std. dev. of 7 runs, 1 loop each)\n"
     ]
    }
   ],
   "source": [
    "%timeit test1()"
   ]
  },
  {
   "cell_type": "code",
   "execution_count": 78,
   "metadata": {},
   "outputs": [
    {
     "name": "stdout",
     "output_type": "stream",
     "text": [
      "26.3 s ± 191 ms per loop (mean ± std. dev. of 7 runs, 1 loop each)\n"
     ]
    }
   ],
   "source": [
    "%timeit test2()"
   ]
  },
  {
   "cell_type": "code",
   "execution_count": 80,
   "metadata": {},
   "outputs": [
    {
     "name": "stdout",
     "output_type": "stream",
     "text": [
      "55.2 s ± 253 ms per loop (mean ± std. dev. of 7 runs, 1 loop each)\n"
     ]
    }
   ],
   "source": [
    "%timeit test3()"
   ]
  },
  {
   "cell_type": "code",
   "execution_count": null,
   "metadata": {},
   "outputs": [],
   "source": []
  },
  {
   "cell_type": "code",
   "execution_count": 82,
   "metadata": {},
   "outputs": [
    {
     "name": "stdout",
     "output_type": "stream",
     "text": [
      "78.9 µs ± 333 ns per loop (mean ± std. dev. of 7 runs, 10000 loops each)\n"
     ]
    }
   ],
   "source": [
    "%timeit R_S_matrix.conj().T"
   ]
  },
  {
   "cell_type": "code",
   "execution_count": 83,
   "metadata": {},
   "outputs": [
    {
     "name": "stdout",
     "output_type": "stream",
     "text": [
      "1.17 ms ± 3.7 µs per loop (mean ± std. dev. of 7 runs, 1000 loops each)\n"
     ]
    }
   ],
   "source": [
    "%timeit fast_qubit_operator_sparse(hermitian_conjugated(R_S), N_Qubits)"
   ]
  },
  {
   "cell_type": "code",
   "execution_count": 61,
   "metadata": {},
   "outputs": [
    {
     "data": {
      "text/plain": [
       "442.0"
      ]
     },
     "execution_count": 61,
     "metadata": {},
     "output_type": "execute_result"
    }
   ],
   "source": [
    "len(list(all_symbolic_ops)) * 0.5"
   ]
  },
  {
   "cell_type": "code",
   "execution_count": 16,
   "metadata": {},
   "outputs": [],
   "source": [
    "# ####### SAVE OUTPUT details\n",
    "# unique_file_time = datetime.datetime.now().strftime('%Y%b%d-%H%M%S%f')\n",
    "# working_directory = os.getcwd()\n",
    "# output_dir =os.path.join(working_directory, mol_key)\n",
    "\n",
    "# # Create target Directory if it doesn't exist\n",
    "# if not os.path.exists(output_dir):\n",
    "#     os.mkdir(output_dir)\n",
    "\n",
    "\n",
    "# # save file\n",
    "# file_name1 = 'AC_set_and_Energy_output_set_key_{}.pickle'.format(AC_set_index)\n",
    "# file_out1=os.path.join(output_dir, file_name1)\n",
    "\n",
    "# ####### SAVE OUTPUT\n",
    "# with open(file_out1, 'wb') as outfile:\n",
    "#     pickle.dump(AC_set_and_Energy_output, outfile)\n",
    "\n",
    "\n",
    "# print('pickle files dumped at: {}'.format(file_out1))\n",
    "\n",
    "# print('end time: {}'.format(datetime.datetime.now().strftime('%Y%b%d-%H%M%S%f')))"
   ]
  },
  {
   "cell_type": "code",
   "execution_count": 44,
   "metadata": {},
   "outputs": [],
   "source": [
    "from quchem.Misc_functions.Misc_functions import fast_qubit_operator_sparse\n",
    "from openfermion import QubitOperator, hermitian_conjugated\n",
    "from quchem.Unitary_Partitioning.Unitary_partitioning_Seq_Rot import  Get_Xsk_op_list, Get_Rsl_matrix_as_qubitops\n",
    "from scipy.linalg import eigh\n",
    "from scipy.sparse.linalg import eigsh\n",
    "\n",
    "def SeqRot_linalg_Energy_FAST(anti_commuting_sets, S_key_dict, N_Qubits, atol=1e-8, rtol=1e-05, check_reduction=False):\n",
    "    \"\"\"\n",
    "    Function giving ground state energy of Hamiltonian given as a dictionary of anti-commuting sets. Note this uses symbolic operators and only builds sparse matrix once.\n",
    "\n",
    "\n",
    "    Args:\n",
    "        anti_commuting_sets (dict): dictionary of int keys with list of anti commuting QubitOperators sets\n",
    "        S_key_dict(dict): dictionary keys match that of anti_commuting_sets. Value gives index of P_s operator\n",
    "        N_Qubits(int): number of qubits\n",
    "\n",
    "    returns:\n",
    "        FCI_Energy(float): Ground state energy\n",
    "\n",
    "    \"\"\"\n",
    "    # TODO: could return reduced_H_matrix sparse matrix!\n",
    "\n",
    "\n",
    "    H_single_terms = QubitOperator()\n",
    "    gammal_Rdag_P_R_terms = QubitOperator()\n",
    "    for key in anti_commuting_sets:\n",
    "        AC_set = anti_commuting_sets[key]\n",
    "\n",
    "        if len(AC_set) < 2:\n",
    "            H_single_terms += AC_set[0]\n",
    "        else:\n",
    "            S_index = S_key_dict[key]\n",
    "\n",
    "            X_sk_theta_sk_list, full_normalised_set, Ps, gamma_l = Get_Xsk_op_list(AC_set, S_index, N_Qubits, check_reduction=check_reduction, atol=atol, rtol=rtol)\n",
    "\n",
    "\n",
    "            R_S = Get_Rsl_matrix_as_qubitops(X_sk_theta_sk_list)\n",
    "            R_dag_P_R = hermitian_conjugated(R_S) * Ps * R_S\n",
    "            gammal_Rdag_P_R_terms += gamma_l*R_dag_P_R\n",
    "\n",
    "    all_symbolic_ops = H_single_terms + gammal_Rdag_P_R_terms\n",
    "    reduced_H_matrix = fast_qubit_operator_sparse(all_symbolic_ops, N_Qubits)\n",
    "#     reduced_H_matrix = qubit_operator_sparse(all_symbolic_ops, n_qubits=N_Qubits)\n",
    "    # eig_values, eig_vectors = sparse_eigs(reduced_H_matrix)\n",
    "    if reduced_H_matrix.shape[0]<=64:\n",
    "        eig_values, eig_vectors = eigh(reduced_H_matrix.todense()) # NOT sparse!\n",
    "    else:\n",
    "        eig_values, eig_vectors = eigsh(reduced_H_matrix, k=1, which='SA') # < solves eigenvalue problem for a complex Hermitian matrix.\n",
    "    FCI_Energy = min(eig_values)\n",
    "    return FCI_Energy"
   ]
  }
 ],
 "metadata": {
  "kernelspec": {
   "display_name": "Python 3",
   "language": "python",
   "name": "python3"
  },
  "language_info": {
   "codemirror_mode": {
    "name": "ipython",
    "version": 3
   },
   "file_extension": ".py",
   "mimetype": "text/x-python",
   "name": "python",
   "nbconvert_exporter": "python",
   "pygments_lexer": "ipython3",
   "version": "3.8.5"
  }
 },
 "nbformat": 4,
 "nbformat_minor": 4
}
