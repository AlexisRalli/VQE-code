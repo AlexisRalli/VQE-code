{
 "cells": [
  {
   "cell_type": "code",
   "execution_count": 1,
   "metadata": {},
   "outputs": [],
   "source": [
    "import numpy as np\n",
    "import scipy as sp\n",
    "\n",
    "import ast\n",
    "import os\n",
    "import re\n",
    "\n",
    "from quchem.Unitary_Partitioning.Graph import Clique_cover_Hamiltonian\n",
    "import quchem.Misc_functions.conversion_scripts as conv_scr \n",
    "from copy import deepcopy\n",
    "from quchem.Unitary_Partitioning.Unitary_partitioning_Seq_Rot import Get_reduced_H_matrix_SeqRot, SeqRot_linalg_Energy\n",
    "from openfermion import qubit_operator_sparse\n",
    "\n",
    "import pickle\n",
    "import datetime\n",
    "\n",
    "#######\n",
    "import sys\n",
    "\n",
    "\n"
   ]
  },
  {
   "cell_type": "code",
   "execution_count": 2,
   "metadata": {},
   "outputs": [],
   "source": [
    "working_dir = os.path.dirname(os.getcwd())\n",
    "Analysis_dir = os.path.join(working_dir, 'Analysis')\n",
    "full_H_results_dir = os.path.join(Analysis_dir, 'SeqRot_LCU_script_A_results')"
   ]
  },
  {
   "cell_type": "code",
   "execution_count": 3,
   "metadata": {},
   "outputs": [],
   "source": [
    "###### IMPORT INITIAL RESULTS\n",
    "\n",
    "## import SeqRot results\n",
    "myriad_SeqRot_results = {}\n",
    "for filename in os.listdir(full_H_results_dir):\n",
    "    if (filename.endswith('.pickle') and filename.startswith('SeqRot_CS_VQE_exp')):\n",
    "        file_path = os.path.join(full_H_results_dir, filename) \n",
    "        mol_name = filename[43:-8]\n",
    "        with open(file_path,'rb') as infile:\n",
    "            data = pickle.load(infile)\n",
    "        myriad_SeqRot_results[mol_name] = data"
   ]
  },
  {
   "cell_type": "code",
   "execution_count": 44,
   "metadata": {},
   "outputs": [],
   "source": [
    "\n",
    "######## take commandline arguement to run in parallel\n",
    "AC_set_index  = 10 # minus one as array script idexes from 1\n",
    "mol_key = 'C1-O1_STO-3G_singlet'\n",
    "\n",
    "check_reduction_SeqRot = False\n",
    "\n",
    "if mol_key not in myriad_SeqRot_results.keys():\n",
    "    raise ValueError('molecule key not correct')"
   ]
  },
  {
   "cell_type": "code",
   "execution_count": null,
   "metadata": {},
   "outputs": [],
   "source": []
  },
  {
   "cell_type": "code",
   "execution_count": 45,
   "metadata": {},
   "outputs": [],
   "source": [
    "########\n",
    "## import AC_sets results\n",
    "\n",
    "AC_sets_dir_name = 'AC_sets_SeqRot'\n",
    "AC_dir = os.path.join(working_dir, AC_sets_dir_name)\n",
    "input_AC_file_path = os.path.join(AC_dir, mol_key + '.pickle') # AC of given molecule\n",
    "\n",
    "\n",
    "with open(input_AC_file_path,'rb') as infile:\n",
    "    all_anti_commuting_sets_SeqRot = pickle.load(infile)\n",
    "\n",
    "anti_commuting_sets_SeqRot = all_anti_commuting_sets_SeqRot[AC_set_index]['AC_sets']\n",
    "ground_state_ket = all_anti_commuting_sets_SeqRot[AC_set_index]['ground_state']"
   ]
  },
  {
   "cell_type": "code",
   "execution_count": 46,
   "metadata": {},
   "outputs": [],
   "source": [
    "## Get Energy\n",
    "\n",
    "if anti_commuting_sets_SeqRot:\n",
    "    ### SeqRot\n",
    "    all_zero_Ps_index_dict = {set_key: 0 for set_key in anti_commuting_sets_SeqRot}\n",
    "\n",
    "    H_SeqRot_dict = myriad_SeqRot_results[mol_key][AC_set_index]['H']\n",
    "    n_qubits = len(list(H_SeqRot_dict.keys())[0])\n",
    "\n",
    "#     H_sparse = Get_reduced_H_matrix_SeqRot(anti_commuting_sets_SeqRot,\n",
    "#                                      all_zero_Ps_index_dict,\n",
    "#                                      n_qubits,\n",
    "#                                      atol=1e-8,\n",
    "#                                      rtol=1e-05,\n",
    "#                                      check_reduction=check_reduction_SeqRot)\n",
    "    \n",
    "    \n",
    "#     E_SeqRot = SeqRot_linalg_Energy(anti_commuting_sets_SeqRot,\n",
    "#                                  all_zero_Ps_index_dict,\n",
    "#                                  n_qubits,\n",
    "#                                  atol=1e-8,\n",
    "#                                  rtol=1e-05,\n",
    "#                                  check_reduction=check_reduction_SeqRot)\n",
    "\n",
    "#     AC_set_and_Energy_output = {'AC_sets': anti_commuting_sets_SeqRot,\n",
    "#                                                            'E':E_SeqRot}\n",
    "    \n",
    "    \n",
    "    ########\n",
    "    \n",
    "    \n",
    "#     denisty_mat = np.outer(ground_state_ket, ground_state_ket)\n",
    "#     E_SeqRot = np.trace(denisty_mat@H_sparse)\n",
    "\n",
    "#     AC_set_and_Energy_output = {'AC_sets': anti_commuting_sets_SeqRot,\n",
    "#                                                            'E':E_SeqRot}\n",
    "# else:\n",
    "#     # only non-contextual problem\n",
    "#     AC_set_and_Energy_output = {'AC_sets': anti_commuting_sets_SeqRot,\n",
    "#                                                            'E':myriad_SeqRot_results[mol_key][AC_set_index]['E']}    \n",
    "\n",
    "\n"
   ]
  },
  {
   "cell_type": "code",
   "execution_count": null,
   "metadata": {},
   "outputs": [],
   "source": [
    "%timeit SeqRot_linalg_Energy(anti_commuting_sets_SeqRot,all_zero_Ps_index_dict,n_qubits,atol=1e-8,rtol=1e-05,check_reduction=check_reduction_SeqRot)"
   ]
  },
  {
   "cell_type": "code",
   "execution_count": null,
   "metadata": {},
   "outputs": [],
   "source": [
    "%timeit SeqRot_linalg_Energy_FAST(anti_commuting_sets_SeqRot,all_zero_Ps_index_dict,n_qubits,atol=1e-8,rtol=1e-05,check_reduction=check_reduction_SeqRot)"
   ]
  },
  {
   "cell_type": "code",
   "execution_count": null,
   "metadata": {},
   "outputs": [],
   "source": [
    "E1= SeqRot_linalg_Energy(anti_commuting_sets_SeqRot,all_zero_Ps_index_dict,n_qubits,atol=1e-8,rtol=1e-05,check_reduction=check_reduction_SeqRot)\n",
    "E2= SeqRot_linalg_Energy_FAST(anti_commuting_sets_SeqRot,all_zero_Ps_index_dict,n_qubits,atol=1e-8,rtol=1e-05,check_reduction=check_reduction_SeqRot)"
   ]
  },
  {
   "cell_type": "code",
   "execution_count": null,
   "metadata": {},
   "outputs": [],
   "source": []
  },
  {
   "cell_type": "code",
   "execution_count": null,
   "metadata": {},
   "outputs": [],
   "source": [
    "from scipy.sparse import csr_matrix"
   ]
  },
  {
   "cell_type": "code",
   "execution_count": null,
   "metadata": {},
   "outputs": [],
   "source": [
    "def test1():\n",
    "    anti_commuting_sets = anti_commuting_sets_SeqRot\n",
    "    S_key_dict = all_zero_Ps_index_dict\n",
    "    N_Qubits = n_qubits\n",
    "    atol=1e-8\n",
    "    rtol=1e-05\n",
    "    check_reduction=False\n",
    "\n",
    "\n",
    "    H_single_terms = QubitOperator()\n",
    "    gammal_Rdag_P_R_terms = QubitOperator()\n",
    "    for key in anti_commuting_sets:\n",
    "        AC_set = anti_commuting_sets[key]\n",
    "\n",
    "        if len(AC_set) < 2:\n",
    "            H_single_terms += AC_set[0]\n",
    "        else:\n",
    "            S_index = S_key_dict[key]\n",
    "\n",
    "            X_sk_theta_sk_list, full_normalised_set, Ps, gamma_l = Get_Xsk_op_list(AC_set, S_index, N_Qubits, check_reduction=check_reduction, atol=atol, rtol=rtol)\n",
    "\n",
    "            R_S = Get_Rsl_matrix_as_qubitops(X_sk_theta_sk_list)\n",
    "\n",
    "            R_dag_P_R = hermitian_conjugated(R_S) * Ps * R_S\n",
    "            R_dag_P_R = Ps * R_S\n",
    "            gammal_Rdag_P_R_terms += gamma_l*R_dag_P_R\n",
    "\n",
    "    all_symbolic_ops = H_single_terms + gammal_Rdag_P_R_terms\n",
    "    reduced_H_matrix = fast_qubit_operator_sparse(all_symbolic_ops, N_Qubits)"
   ]
  },
  {
   "cell_type": "code",
   "execution_count": null,
   "metadata": {},
   "outputs": [],
   "source": [
    "def test2():\n",
    "    anti_commuting_sets = anti_commuting_sets_SeqRot\n",
    "    S_key_dict = all_zero_Ps_index_dict\n",
    "    N_Qubits = n_qubits\n",
    "    atol=1e-8\n",
    "    rtol=1e-05\n",
    "    check_reduction=False\n",
    "\n",
    "\n",
    "    reduced_H_matrix = csr_matrix((2 ** N_Qubits, 2 ** N_Qubits), dtype=complex)\n",
    "    for key in anti_commuting_sets:\n",
    "        AC_set = anti_commuting_sets[key]\n",
    "\n",
    "        if len(AC_set) < 2:\n",
    "            CiPi = AC_set[0]\n",
    "            CiPi_matrix = fast_qubit_operator_sparse(CiPi, N_Qubits)\n",
    "            reduced_H_matrix+=CiPi_matrix\n",
    "        else:\n",
    "            S_index = S_key_dict[key]\n",
    "\n",
    "            X_sk_theta_sk_list, full_normalised_set, Ps, gamma_l = Get_Xsk_op_list(AC_set, S_index, N_Qubits, check_reduction=check_reduction, atol=atol, rtol=rtol)\n",
    "\n",
    "\n",
    "            R_S = Get_Rsl_matrix_as_qubitops(X_sk_theta_sk_list)\n",
    "\n",
    "            R_S_matrix = fast_qubit_operator_sparse(R_S, N_Qubits)\n",
    "            P_S_matrix = fast_qubit_operator_sparse(Ps, N_Qubits)\n",
    "            Rdag_P_R= R_S_matrix.conj().T @ P_S_matrix @ R_S_matrix\n",
    "            reduced_H_matrix+=gamma_l*Rdag_P_R\n"
   ]
  },
  {
   "cell_type": "code",
   "execution_count": null,
   "metadata": {},
   "outputs": [],
   "source": [
    "def test3():\n",
    "    anti_commuting_sets = anti_commuting_sets_SeqRot\n",
    "    S_key_dict = all_zero_Ps_index_dict\n",
    "    N_Qubits = n_qubits\n",
    "    atol=1e-8\n",
    "    rtol=1e-05\n",
    "    check_reduction=False\n",
    "\n",
    "\n",
    "    reduced_H_matrix = csr_matrix((2 ** N_Qubits, 2 ** N_Qubits), dtype=complex)\n",
    "    for key in anti_commuting_sets:\n",
    "        AC_set = anti_commuting_sets[key]\n",
    "\n",
    "        if len(AC_set) < 2:\n",
    "            CiPi = AC_set[0]\n",
    "            CiPi_matrix = fast_qubit_operator_sparse(CiPi, N_Qubits)\n",
    "            reduced_H_matrix+=CiPi_matrix\n",
    "        else:\n",
    "            S_index = S_key_dict[key]\n",
    "\n",
    "            X_sk_theta_sk_list, full_normalised_set, Ps, gamma_l = Get_Xsk_op_list(AC_set, S_index, N_Qubits, check_reduction=check_reduction, atol=atol, rtol=rtol)\n",
    "\n",
    "\n",
    "            R_S = Get_Rsl_matrix_as_qubitops(X_sk_theta_sk_list)\n",
    "            \n",
    "            R_dag_P_R = hermitian_conjugated(R_S) * Ps * R_S\n",
    "            R_dag_P_R_matrix = fast_qubit_operator_sparse(R_dag_P_R, N_Qubits)\n",
    "            reduced_H_matrix+=gamma_l*R_dag_P_R_matrix\n"
   ]
  },
  {
   "cell_type": "code",
   "execution_count": null,
   "metadata": {},
   "outputs": [],
   "source": [
    "%timeit test1()"
   ]
  },
  {
   "cell_type": "code",
   "execution_count": null,
   "metadata": {},
   "outputs": [],
   "source": [
    "%timeit test2()"
   ]
  },
  {
   "cell_type": "code",
   "execution_count": null,
   "metadata": {},
   "outputs": [],
   "source": [
    "%timeit test3()"
   ]
  },
  {
   "cell_type": "code",
   "execution_count": null,
   "metadata": {},
   "outputs": [],
   "source": []
  },
  {
   "cell_type": "code",
   "execution_count": null,
   "metadata": {},
   "outputs": [],
   "source": [
    "%timeit R_S_matrix.conj().T"
   ]
  },
  {
   "cell_type": "code",
   "execution_count": null,
   "metadata": {},
   "outputs": [],
   "source": [
    "%timeit fast_qubit_operator_sparse(hermitian_conjugated(R_S), N_Qubits)"
   ]
  },
  {
   "cell_type": "code",
   "execution_count": null,
   "metadata": {},
   "outputs": [],
   "source": [
    "len(list(all_symbolic_ops)) * 0.5"
   ]
  },
  {
   "cell_type": "code",
   "execution_count": null,
   "metadata": {},
   "outputs": [],
   "source": [
    "# ####### SAVE OUTPUT details\n",
    "# unique_file_time = datetime.datetime.now().strftime('%Y%b%d-%H%M%S%f')\n",
    "# working_directory = os.getcwd()\n",
    "# output_dir =os.path.join(working_directory, mol_key)\n",
    "\n",
    "# # Create target Directory if it doesn't exist\n",
    "# if not os.path.exists(output_dir):\n",
    "#     os.mkdir(output_dir)\n",
    "\n",
    "\n",
    "# # save file\n",
    "# file_name1 = 'AC_set_and_Energy_output_set_key_{}.pickle'.format(AC_set_index)\n",
    "# file_out1=os.path.join(output_dir, file_name1)\n",
    "\n",
    "# ####### SAVE OUTPUT\n",
    "# with open(file_out1, 'wb') as outfile:\n",
    "#     pickle.dump(AC_set_and_Energy_output, outfile)\n",
    "\n",
    "\n",
    "# print('pickle files dumped at: {}'.format(file_out1))\n",
    "\n",
    "# print('end time: {}'.format(datetime.datetime.now().strftime('%Y%b%d-%H%M%S%f')))"
   ]
  },
  {
   "cell_type": "code",
   "execution_count": null,
   "metadata": {},
   "outputs": [],
   "source": [
    "from quchem.Misc_functions.Misc_functions import fast_qubit_operator_sparse\n",
    "from openfermion import QubitOperator, hermitian_conjugated\n",
    "from quchem.Unitary_Partitioning.Unitary_partitioning_Seq_Rot import  Get_Xsk_op_list, Get_Rsl_matrix_as_qubitops\n",
    "from scipy.linalg import eigh\n",
    "from scipy.sparse.linalg import eigsh\n",
    "\n",
    "def SeqRot_linalg_Energy_FAST(anti_commuting_sets, S_key_dict, N_Qubits, atol=1e-8, rtol=1e-05, check_reduction=False):\n",
    "    \"\"\"\n",
    "    Function giving ground state energy of Hamiltonian given as a dictionary of anti-commuting sets. Note this uses symbolic operators and only builds sparse matrix once.\n",
    "\n",
    "\n",
    "    Args:\n",
    "        anti_commuting_sets (dict): dictionary of int keys with list of anti commuting QubitOperators sets\n",
    "        S_key_dict(dict): dictionary keys match that of anti_commuting_sets. Value gives index of P_s operator\n",
    "        N_Qubits(int): number of qubits\n",
    "\n",
    "    returns:\n",
    "        FCI_Energy(float): Ground state energy\n",
    "\n",
    "    \"\"\"\n",
    "    # TODO: could return reduced_H_matrix sparse matrix!\n",
    "\n",
    "\n",
    "    H_single_terms = QubitOperator()\n",
    "    gammal_Rdag_P_R_terms = QubitOperator()\n",
    "    for key in anti_commuting_sets:\n",
    "        AC_set = anti_commuting_sets[key]\n",
    "\n",
    "        if len(AC_set) < 2:\n",
    "            H_single_terms += AC_set[0]\n",
    "        else:\n",
    "            S_index = S_key_dict[key]\n",
    "\n",
    "            X_sk_theta_sk_list, full_normalised_set, Ps, gamma_l = Get_Xsk_op_list(AC_set, S_index, N_Qubits, check_reduction=check_reduction, atol=atol, rtol=rtol)\n",
    "\n",
    "\n",
    "            R_S = Get_Rsl_matrix_as_qubitops(X_sk_theta_sk_list)\n",
    "            R_dag_P_R = hermitian_conjugated(R_S) * Ps * R_S\n",
    "            gammal_Rdag_P_R_terms += gamma_l*R_dag_P_R\n",
    "\n",
    "    all_symbolic_ops = H_single_terms + gammal_Rdag_P_R_terms\n",
    "    reduced_H_matrix = fast_qubit_operator_sparse(all_symbolic_ops, N_Qubits)\n",
    "#     reduced_H_matrix = qubit_operator_sparse(all_symbolic_ops, n_qubits=N_Qubits)\n",
    "    # eig_values, eig_vectors = sparse_eigs(reduced_H_matrix)\n",
    "    if reduced_H_matrix.shape[0]<=64:\n",
    "        eig_values, eig_vectors = eigh(reduced_H_matrix.todense()) # NOT sparse!\n",
    "    else:\n",
    "        eig_values, eig_vectors = eigsh(reduced_H_matrix, k=1, which='SA') # < solves eigenvalue problem for a complex Hermitian matrix.\n",
    "    FCI_Energy = min(eig_values)\n",
    "    return FCI_Energy"
   ]
  },
  {
   "cell_type": "code",
   "execution_count": null,
   "metadata": {},
   "outputs": [],
   "source": []
  },
  {
   "cell_type": "code",
   "execution_count": null,
   "metadata": {},
   "outputs": [],
   "source": [
    "H_sparse = Get_reduced_H_matrix_SeqRot_matrix_FAST(anti_commuting_sets_SeqRot,\n",
    "                                 all_zero_Ps_index_dict,\n",
    "                                 n_qubits,\n",
    "                                 atol=1e-8,\n",
    "                                 rtol=1e-05,\n",
    "                                 check_reduction=check_reduction_SeqRot)"
   ]
  },
  {
   "cell_type": "code",
   "execution_count": null,
   "metadata": {},
   "outputs": [],
   "source": [
    "ground_state_ket.shape"
   ]
  },
  {
   "cell_type": "code",
   "execution_count": null,
   "metadata": {},
   "outputs": [],
   "source": [
    "denisty_mat = np.outer(ground_state_ket, ground_state_ket)\n",
    "np.trace(H_sparse @ denisty_mat)"
   ]
  },
  {
   "cell_type": "code",
   "execution_count": null,
   "metadata": {},
   "outputs": [],
   "source": [
    "ground_state_ket.conj().T @ H_sparse @ ground_state_ket"
   ]
  },
  {
   "cell_type": "code",
   "execution_count": null,
   "metadata": {},
   "outputs": [],
   "source": [
    "np.around(np.array([0.4,0.00005]),3)"
   ]
  },
  {
   "cell_type": "code",
   "execution_count": null,
   "metadata": {},
   "outputs": [],
   "source": []
  },
  {
   "cell_type": "code",
   "execution_count": null,
   "metadata": {},
   "outputs": [],
   "source": [
    "from scipy.sparse import csc_matrix"
   ]
  },
  {
   "cell_type": "code",
   "execution_count": null,
   "metadata": {},
   "outputs": [],
   "source": [
    "thresh = 10\n",
    "sparse_row = csr_matrix(np.around(ground_state_ket,thresh).reshape([ground_state_ket.shape[0],1]), dtype=complex)\n",
    "sparse_col = csc_matrix(np.around(ground_state_ket,thresh).reshape([ground_state_ket.shape[0],1]), dtype=complex)\n"
   ]
  },
  {
   "cell_type": "code",
   "execution_count": null,
   "metadata": {},
   "outputs": [],
   "source": [
    "# %timeit sparse_row.conj().T @ H_sparse @ sparse_row"
   ]
  },
  {
   "cell_type": "code",
   "execution_count": null,
   "metadata": {},
   "outputs": [],
   "source": [
    "%timeit sparse_row.conj().T @ H_sparse @ sparse_row"
   ]
  },
  {
   "cell_type": "code",
   "execution_count": null,
   "metadata": {},
   "outputs": [],
   "source": [
    "%timeit sparse_col.conj().T @ H_sparse @ sparse_col"
   ]
  },
  {
   "cell_type": "code",
   "execution_count": null,
   "metadata": {},
   "outputs": [],
   "source": [
    "%timeit ground_state_ket.conj().T @ H_sparse @ ground_state_ket"
   ]
  },
  {
   "cell_type": "code",
   "execution_count": null,
   "metadata": {},
   "outputs": [],
   "source": [
    "eig_values, eig_vectors = eigh(H_sparse.todense()) # NOT sparse!#\n",
    "min(eig_values)"
   ]
  },
  {
   "cell_type": "code",
   "execution_count": null,
   "metadata": {},
   "outputs": [],
   "source": [
    "E = sparse_col.conj().T @ H_sparse @ sparse_col\n",
    "E.todense().item(0)"
   ]
  },
  {
   "cell_type": "code",
   "execution_count": null,
   "metadata": {},
   "outputs": [],
   "source": [
    "min(eig_values) - E.todense().item(0)"
   ]
  },
  {
   "cell_type": "code",
   "execution_count": null,
   "metadata": {},
   "outputs": [],
   "source": []
  },
  {
   "cell_type": "code",
   "execution_count": null,
   "metadata": {},
   "outputs": [],
   "source": []
  },
  {
   "cell_type": "code",
   "execution_count": null,
   "metadata": {},
   "outputs": [],
   "source": []
  },
  {
   "cell_type": "code",
   "execution_count": null,
   "metadata": {},
   "outputs": [],
   "source": [
    "H_sparse = Get_reduced_H_matrix_SeqRot(anti_commuting_sets_SeqRot,\n",
    "                                 all_zero_Ps_index_dict,\n",
    "                                 n_qubits,\n",
    "                                 atol=1e-8,\n",
    "                                 rtol=1e-05,\n",
    "                                 check_reduction=check_reduction_SeqRot)"
   ]
  },
  {
   "cell_type": "code",
   "execution_count": null,
   "metadata": {},
   "outputs": [],
   "source": [
    "from scipy.sparse import csc_matrix"
   ]
  },
  {
   "cell_type": "code",
   "execution_count": null,
   "metadata": {},
   "outputs": [],
   "source": [
    "decimal_place_threshold=10\n",
    "sparse_ket = csc_matrix(np.around(ground_state_ket,decimal_place_threshold).reshape([ground_state_ket.shape[0],1]), dtype=complex)"
   ]
  },
  {
   "cell_type": "code",
   "execution_count": null,
   "metadata": {},
   "outputs": [],
   "source": [
    "E_SeqRot = sparse_ket.conj().T @ H_sparse @ sparse_ket\n",
    "E_SeqRot.todense().item(0)"
   ]
  },
  {
   "cell_type": "code",
   "execution_count": 7,
   "metadata": {},
   "outputs": [],
   "source": [
    "from functools import reduce\n",
    "from scipy.sparse import csr_matrix\n",
    "from scipy.sparse import kron\n",
    "import numpy as np\n",
    "from scipy.sparse.linalg import expm, eigsh\n",
    "\n",
    "from quchem.Misc_functions.Misc_functions import sparse_allclose\n",
    "\n",
    "from openfermion.ops import QubitOperator\n",
    "from openfermion.linalg import qubit_operator_sparse\n",
    "from openfermion import hermitian_conjugated\n",
    "from scipy.sparse import csc_matrix\n",
    "from scipy.linalg import eigh\n",
    "from openfermion.utils import hermitian_conjugated\n",
    "from quchem.Misc_functions.Misc_functions import fast_qubit_operator_sparse\n",
    "\n",
    "from tqdm.notebook import tqdm\n",
    "from quchem.Unitary_Partitioning.Unitary_partitioning_Seq_Rot import  Get_Xsk_op_list, Get_Rsl_matrix_as_qubitops\n",
    "\n",
    "def Get_reduced_H_matrix_SeqRot(anti_commuting_sets, S_key_dict, N_Qubits, atol=1e-8, rtol=1e-05, check_reduction=False):\n",
    "    \"\"\"\n",
    "    Function giving ground state energy of Hamiltonian given as a dictionary of anti-commuting sets. Note this uses symbolic operators and only builds sparse matrix once.\n",
    "\n",
    "\n",
    "    Args:\n",
    "        anti_commuting_sets (dict): dictionary of int keys with list of anti commuting QubitOperators sets\n",
    "        S_key_dict(dict): dictionary keys match that of anti_commuting_sets. Value gives index of P_s operator\n",
    "        N_Qubits(int): number of qubits\n",
    "\n",
    "    returns:\n",
    "        reduced_H_matrix(scipy.sparse_matrix): sparse Hamiltonian matrix after unitary partitioning via SeqRot\n",
    "\n",
    "    \"\"\"\n",
    "    H_single_terms = QubitOperator()\n",
    "    gammal_Rdag_P_R_terms = QubitOperator()\n",
    "    for key in tqdm(anti_commuting_sets):\n",
    "        AC_set = anti_commuting_sets[key]\n",
    "\n",
    "        if len(AC_set) < 2:\n",
    "            H_single_terms += AC_set[0]\n",
    "        else:\n",
    "            S_index = S_key_dict[key]\n",
    "\n",
    "            X_sk_theta_sk_list, full_normalised_set, Ps, gamma_l = Get_Xsk_op_list(AC_set, S_index, N_Qubits, check_reduction=check_reduction, atol=atol, rtol=rtol)\n",
    "\n",
    "\n",
    "            R_S = Get_Rsl_matrix_as_qubitops(X_sk_theta_sk_list)\n",
    "#             R_dag_P_R = hermitian_conjugated(R_S) * Ps * R_S\n",
    "#             gammal_Rdag_P_R_terms += gamma_l*R_dag_P_R\n",
    "\n",
    "    all_symbolic_ops = H_single_terms + gammal_Rdag_P_R_terms\n",
    "    # reduced_H_matrix = qubit_operator_sparse(all_symbolic_ops, n_qubits=N_Qubits)\n",
    "#     reduced_H_matrix = fast_qubit_operator_sparse(all_symbolic_ops, N_Qubits)\n",
    "    return all_symbolic_ops"
   ]
  },
  {
   "cell_type": "code",
   "execution_count": null,
   "metadata": {},
   "outputs": [],
   "source": [
    "R_S = Get_Rsl_matrix_as_qubitops(X_sk_theta_sk_list)"
   ]
  },
  {
   "cell_type": "code",
   "execution_count": null,
   "metadata": {},
   "outputs": [],
   "source": [
    "R_sk_list = []\n",
    "for X_sk_Op, theta_sk in X_sk_theta_sk_list:\n",
    "    op = np.cos(theta_sk / 2) * QubitOperator('') -1j*np.sin(theta_sk / 2) * X_sk_Op\n",
    "    R_sk_list.append(op)\n",
    "# R_sk_list"
   ]
  },
  {
   "cell_type": "code",
   "execution_count": null,
   "metadata": {},
   "outputs": [],
   "source": [
    "R_sk_list"
   ]
  },
  {
   "cell_type": "code",
   "execution_count": null,
   "metadata": {},
   "outputs": [],
   "source": [
    "reversed_list = R_sk_list[::-1]\n",
    "running_ops = reversed_list[0]\n",
    "for P_op in reversed_list[1:]:\n",
    "    running_ops = running_ops*P_op\n",
    "running_ops  \n",
    "\n",
    "# R_S_q_ops = reduce(lambda x,y: x*y, R_sk_list[::-1])"
   ]
  },
  {
   "cell_type": "code",
   "execution_count": null,
   "metadata": {},
   "outputs": [],
   "source": [
    "len(list(R_S_q_ops))"
   ]
  },
  {
   "cell_type": "code",
   "execution_count": null,
   "metadata": {},
   "outputs": [],
   "source": [
    "len(X_sk_theta_sk_list)"
   ]
  },
  {
   "cell_type": "code",
   "execution_count": null,
   "metadata": {},
   "outputs": [],
   "source": [
    "R_sk_MATRIX_list = []\n",
    "for X_sk_Op, theta_sk in X_sk_theta_sk_list:\n",
    "    op = np.cos(theta_sk / 2) * QubitOperator('') -1j*np.sin(theta_sk / 2) * X_sk_Op\n",
    "    mat_op = qubit_operator_sparse(op,n_qubits=n_qubits)\n",
    "    R_sk_MATRIX_list.append(mat_op)\n",
    "# R_sk_list"
   ]
  },
  {
   "cell_type": "code",
   "execution_count": null,
   "metadata": {},
   "outputs": [],
   "source": [
    "selected_matrix = R_sk_MATRIX_list[0]\n",
    "from scipy.sparse import find\n",
    "\n",
    "r1, c1, v1 = find(selected_matrix)  # row indices, column indices, and values of the nonzero matrix entries\n",
    "r1.shape"
   ]
  },
  {
   "cell_type": "code",
   "execution_count": null,
   "metadata": {},
   "outputs": [],
   "source": [
    "# Rs_l_matrix = reduce(np.dot, R_sk_MATRIX_list[::-1])"
   ]
  },
  {
   "cell_type": "code",
   "execution_count": null,
   "metadata": {},
   "outputs": [],
   "source": [
    "R_sk_MATRIX_list = []\n",
    "for X_sk_Op, theta_sk in tqdm(X_sk_theta_sk_list):\n",
    "    pauliword_X_sk_MATRIX = qubit_operator_sparse(QubitOperator(list(X_sk_Op.terms.keys())[0], -1j),\n",
    "                                                  n_qubits=n_qubits)\n",
    "    const_X_sk = list(X_sk_Op.terms.values())[0]\n",
    "\n",
    "    R_sk_MATRIX_list.append(expm(pauliword_X_sk_MATRIX * theta_sk / 2 * const_X_sk))\n",
    "# Rs_l_matrix = reduce(np.dot, R_sk_MATRIX_list[::-1])  # <- note reverse order!"
   ]
  },
  {
   "cell_type": "code",
   "execution_count": null,
   "metadata": {},
   "outputs": [],
   "source": [
    "# R_S_Dag = hermitian_conjugated(R_S_q_ops)\n",
    "# R_dag_P_R = R_S_Dag * Ps * R_S_q_ops\n",
    "\n",
    "# R = fast_qubit_operator_sparse(R_S_q_ops, n_qubits)\n",
    "R = qubit_operator_sparse(R_S_q_ops, n_qubits=n_qubits)\n",
    "R_dag =  R.conj().T"
   ]
  },
  {
   "cell_type": "code",
   "execution_count": null,
   "metadata": {},
   "outputs": [],
   "source": [
    "reversed_list = R_sk_list[::-1]\n",
    "new_term=QubitOperator()\n",
    "for ind, P_op in enumerate(reversed_list[:-1]):\n",
    "    I_term_A, P_term_A = R_sk_list[ind]\n",
    "    I_term_B, P_term_B = R_sk_list[ind+1]\n",
    "    \n",
    "    new_term += (I_term_A*I_term_B) + (I_term_A*P_term_B) + (P_term_A*I_term_B) + (P_term_A*I_term_B) \n",
    "\n",
    "new_term"
   ]
  },
  {
   "cell_type": "code",
   "execution_count": null,
   "metadata": {},
   "outputs": [],
   "source": [
    "R_S_q_ops = reduce(lambda x,y: x*y, R_sk_list[::-1])\n",
    "R_S_q_ops"
   ]
  },
  {
   "cell_type": "code",
   "execution_count": null,
   "metadata": {},
   "outputs": [],
   "source": [
    "I_term, P_term = R_sk_list[0]\n",
    "P_term"
   ]
  },
  {
   "cell_type": "code",
   "execution_count": null,
   "metadata": {},
   "outputs": [],
   "source": [
    "X_sk_theta_sk_list"
   ]
  },
  {
   "cell_type": "code",
   "execution_count": null,
   "metadata": {},
   "outputs": [],
   "source": [
    "def apply_Udag_P_U(X_sk_theta_sk_list, Pauli_S):\n",
    "    \n",
    "    running_term = QubitOperator()\n",
    "    for P_word, theta_sk in X_sk_theta_sk_list:\n",
    "        if P_word*Pauli_S==Pauli_S*P_word:\n",
    "            # R_dag P R = I P\n",
    "            running_term+= Pauli_S\n",
    "        else:\n",
    "            R = np.cos(theta_sk / 2) * QubitOperator('') -1j*np.sin(theta_sk / 2) * X_sk_Op\n",
    "            running_term+= np.cos(theta_sk)*Pauli_S + 1j*np.sin(theta_sk)**\n",
    "    \n",
    "    return running_term\n",
    "    "
   ]
  },
  {
   "cell_type": "code",
   "execution_count": null,
   "metadata": {},
   "outputs": [],
   "source": [
    "def apply_rotation(rotation,p):\n",
    "    \n",
    "    out = {}\n",
    "    \n",
    "    if not commute(rotation[1],p):\n",
    "        if rotation[0] == 'pi/2':\n",
    "            q = pauli_mult(rotation[1],p)\n",
    "            out[q[0]] = (1j*q[1]).real\n",
    "    \n",
    "        else:\n",
    "            out[p] = np.cos(rotation[0])\n",
    "            q = pauli_mult(rotation[1],p)\n",
    "            out[q[0]] = (1j*q[1]*np.sin(rotation[0])).real\n",
    "            \n",
    "    else:\n",
    "            out[p] = 1.\n",
    "    \n",
    "    return out"
   ]
  },
  {
   "cell_type": "code",
   "execution_count": null,
   "metadata": {},
   "outputs": [],
   "source": [
    "H_sparse = Get_reduced_H_matrix_SeqRot(anti_commuting_sets_SeqRot,\n",
    "                                 all_zero_Ps_index_dict,\n",
    "                                 n_qubits,\n",
    "                                 atol=1e-8,\n",
    "                                 rtol=1e-05,\n",
    "                                 check_reduction=check_reduction_SeqRot)"
   ]
  },
  {
   "cell_type": "code",
   "execution_count": null,
   "metadata": {},
   "outputs": [],
   "source": [
    "X_sk_theta_sk_list\n"
   ]
  },
  {
   "cell_type": "code",
   "execution_count": null,
   "metadata": {},
   "outputs": [],
   "source": []
  },
  {
   "cell_type": "code",
   "execution_count": null,
   "metadata": {},
   "outputs": [],
   "source": []
  },
  {
   "cell_type": "code",
   "execution_count": null,
   "metadata": {},
   "outputs": [],
   "source": [
    "    rotations = []\n",
    "    \n",
    "    # if there are cliques...\n",
    "    if fn_form[1] > 0:\n",
    "        # rotations to map A to a single Pauli (to be applied on left)\n",
    "        for i in range(1,fn_form[1]):\n",
    "            theta = np.arctan2(ep_state[1][i],np.sqrt(sum([ep_state[1][j]**2 for j in range(i)])))\n",
    "            if i == 1 and ep_state[1][0] < 0:\n",
    "                theta = np.pi - theta\n",
    "            generator = pauli_mult(model[1][0],model[1][i])\n",
    "            sgn = generator[1].imag\n",
    "            rotations.append( [sgn*theta, generator[0]] )\n",
    "    \n",
    "        # rotations to diagonalize G union with the new A\n",
    "        GuA = deepcopy(model[0] + [model[1][0]])\n",
    "        ep_state_trans = deepcopy(ep_state[0] + [1])"
   ]
  },
  {
   "cell_type": "code",
   "execution_count": null,
   "metadata": {},
   "outputs": [],
   "source": []
  },
  {
   "cell_type": "code",
   "execution_count": null,
   "metadata": {},
   "outputs": [],
   "source": [
    "from quchem.Unitary_Partitioning.Unitary_partitioning_Seq_Rot import Normalise_Clique\n",
    "\n",
    "out = Normalise_Clique(anti_commuting_sets_SeqRot[4])\n",
    "PWords = out['PauliWords']\n",
    "PWords"
   ]
  },
  {
   "cell_type": "code",
   "execution_count": null,
   "metadata": {},
   "outputs": [],
   "source": [
    "def Get_Xsk_op_list_NEW(anti_commuting_set, S_index, N_Qubits, check_reduction=False, atol=1e-8, rtol=1e-05):\n",
    "    \"\"\"\n",
    "    Function to give all X_sk operators from a given anti_commuting set and S_index\n",
    "\n",
    "    Args:\n",
    "        anti_commuting_set(list): list of anti commuting QubitOperators\n",
    "        S_index(int): index for Ps in anti_commuting_set list\n",
    "\n",
    "    returns:\n",
    "        X_sk_theta_sk_list(list): list of tuples containing X_sk QubitOperator and Theta_sk value\n",
    "        normalised_FULL_set(dict): 'PauliWords' key gives NORMALISED terms that make up anti_commuting set\n",
    "                                    'gamma_l' key gives normalization term\n",
    "        Ps (QubitOperator): Pauli_S operator with cofactor of 1!\n",
    "        gamma_l (float): normalization term\n",
    "\n",
    "    \"\"\"\n",
    "    # 𝛾_𝑙 ∑ 𝛽_𝑗 𝑃_𝑗\n",
    "    normalised_FULL_set = Normalise_Clique(anti_commuting_set)\n",
    "    gamma_l = normalised_FULL_set['gamma_l']\n",
    "\n",
    "    # ∑ 𝛽_𝑗 𝑃_𝑗\n",
    "    norm_FULL_set = normalised_FULL_set['PauliWords'].copy()\n",
    "    Pauli_S = norm_FULL_set.pop(S_index)  # removed from list!\n",
    "\n",
    "    PauliStr_Ps, beta_S = tuple(*Pauli_S.terms.items())\n",
    "    Ps = QubitOperator(PauliStr_Ps, 1) # new constant of 1\n",
    "\n",
    "    X_sk_theta_sk_list = []\n",
    "    for i, BetaK_Pk in enumerate(norm_FULL_set):\n",
    "        \n",
    "        Pk, BetaK = zip(*list(BetaK_Pk.terms.items()))\n",
    "        denominator = sum(list(Pword.terms.values())[0]**2 for Pword in norm_FULL_set[:(i+1)])\n",
    "        theta_sk = np.arctan2(BetaK, np.sqrt(denominator))\n",
    "        \n",
    "        Pk, BetaK = zip(*list(BetaK_Pk.terms.items()))\n",
    "        X_sk = 1j * Ps * QubitOperator(Pk[0], 1) # new constant of 1\n",
    "\n",
    "        if i == 0 and beta_S < 0:\n",
    "            theta_sk = np.pi - theta_sk\n",
    "        \n",
    "        X_sk_theta_sk_list.append((X_sk, theta_sk))\n",
    "        \n",
    "\n",
    "    ### check transformation - SYMBOLIC (cheaper than above)!\n",
    "    if check_reduction:\n",
    "        R_sk_OP_list = []\n",
    "        for X_sk_Op, theta_sk in X_sk_theta_sk_list:\n",
    "            op = np.cos(theta_sk / 2) * QubitOperator('') -1j*np.sin(theta_sk / 2) * X_sk_Op\n",
    "            R_sk_OP_list.append(op)\n",
    "\n",
    "        R_S_op = reduce(lambda x,y: x*y, R_sk_OP_list[::-1])  # <- note reverse order and is a multiplication (not an addition as LCU)!\n",
    "        R_S_matrix=qubit_operator_sparse(R_S_op,n_qubits=N_Qubits)\n",
    "\n",
    "        R_S_op_dag = hermitian_conjugated(R_S_op)\n",
    "        R_S_matrix_dag=qubit_operator_sparse(R_S_op_dag,n_qubits=N_Qubits)\n",
    "\n",
    "        Ps_mat = qubit_operator_sparse(Ps, n_qubits=N_Qubits)\n",
    "\n",
    "        H_S = QubitOperator()\n",
    "        for QubitOp in normalised_FULL_set['PauliWords']:\n",
    "            H_S += QubitOp\n",
    "        H_S_matrix = qubit_operator_sparse(H_S, n_qubits=N_Qubits)\n",
    "\n",
    "        RHR = R_S_matrix.dot(H_S_matrix.dot(R_S_matrix_dag))\n",
    "\n",
    "        if not sparse_allclose(Ps_mat, RHR, atol=atol, rtol=rtol):\n",
    "            raise ValueError('error in unitary partitioning reduction: R H_s R† != Ps')\n",
    "\n",
    "    return X_sk_theta_sk_list, normalised_FULL_set, Ps, gamma_l"
   ]
  },
  {
   "cell_type": "code",
   "execution_count": null,
   "metadata": {},
   "outputs": [],
   "source": [
    "key_larg, largest_AC_set = max(anti_commuting_sets_SeqRot.items(), key=lambda x:len(x[1])) "
   ]
  },
  {
   "cell_type": "code",
   "execution_count": null,
   "metadata": {},
   "outputs": [],
   "source": [
    "n_qubits"
   ]
  },
  {
   "cell_type": "code",
   "execution_count": null,
   "metadata": {},
   "outputs": [],
   "source": [
    "S_index=0\n",
    "check_reduction=True\n",
    "Get_Xsk_op_list_NEW(largest_AC_set, S_index, n_qubits, check_reduction=False, atol=1e-8, rtol=1e-05)"
   ]
  },
  {
   "cell_type": "code",
   "execution_count": null,
   "metadata": {},
   "outputs": [],
   "source": [
    "S_index=0\n",
    "check_reduction=True\n",
    "Get_Xsk_op_list(largest_AC_set, S_index, n_qubits, check_reduction=False, atol=1e-8, rtol=1e-05)"
   ]
  },
  {
   "cell_type": "code",
   "execution_count": null,
   "metadata": {},
   "outputs": [],
   "source": []
  },
  {
   "cell_type": "code",
   "execution_count": null,
   "metadata": {},
   "outputs": [],
   "source": []
  },
  {
   "cell_type": "code",
   "execution_count": null,
   "metadata": {},
   "outputs": [],
   "source": [
    "import concurrent.futures\n",
    "from quchem.Unitary_Partitioning.Graph import VectorPauliWord\n",
    "def fast_qubit_operator_sparse(QubitOp, n_qubits):\n",
    "\n",
    "    M = csr_matrix((2**n_qubits, 2**n_qubits), dtype=complex)\n",
    "    for CiPi in QubitOp:\n",
    "        Pi, Ci = tuple(*CiPi.terms.items())\n",
    "        p_sym = VectorPauliWord(n_qubits, CiPi).Pvec.todense()\n",
    "        M+= _fast_symplectic_qubit_operator_sparse(p_sym, Ci)\n",
    "    \n",
    "    return M"
   ]
  },
  {
   "cell_type": "code",
   "execution_count": 12,
   "metadata": {},
   "outputs": [],
   "source": [
    "import concurrent.futures\n",
    "def parallel_fast_qubit_sparse(QubitOp, n_qubits):\n",
    "    \n",
    "    qubit_op_list = list(QubitOp)\n",
    "    qubit_n_list = list([n_qubits for _ in range(len(qubit_op_list))])\n",
    "#     input_list = list(zip(qubit_op_list, qubit_n_list))\n",
    "    \n",
    "#     op_sparse = lambda q_op, N_q: qubit_operator_sparse(q_op, n_qubits=N_q)\n",
    "#     \n",
    "    with concurrent.futures.ProcessPoolExecutor() as exectuor:\n",
    "        result_list = exectuor.map(fast_qubit_operator_sparse, qubit_op_list, qubit_n_list)\n",
    "#         result_list = exectuor.map(op_sparse, qubit_op_list, qubit_n_list)\n",
    "        \n",
    "    out_matrix = reduce(lambda x,y: x+y, result_list)\n",
    "    \n",
    "    return out_matrix\n",
    "    \n"
   ]
  },
  {
   "cell_type": "code",
   "execution_count": 20,
   "metadata": {},
   "outputs": [
    {
     "data": {
      "text/plain": [
       "<1024x1024 sparse matrix of type '<class 'numpy.complex128'>'\n",
       "\twith 3072 stored elements in Compressed Sparse Row format>"
      ]
     },
     "execution_count": 20,
     "metadata": {},
     "output_type": "execute_result"
    }
   ],
   "source": [
    "OP = QubitOperator('Z1 X9', 12) + QubitOperator('X0 Z1', 1) + QubitOperator('X0 Z9', 1) + QubitOperator('Y0', 1) + QubitOperator('Y0 Y1', 1)\n",
    "out = parallel_fast_qubit_sparse(OP, 10)\n",
    "out"
   ]
  },
  {
   "cell_type": "code",
   "execution_count": 21,
   "metadata": {},
   "outputs": [
    {
     "name": "stdout",
     "output_type": "stream",
     "text": [
      "50.9 ms ± 665 µs per loop (mean ± std. dev. of 7 runs, 10 loops each)\n"
     ]
    }
   ],
   "source": [
    "%timeit parallel_fast_qubit_sparse(OP, 10)"
   ]
  },
  {
   "cell_type": "code",
   "execution_count": 22,
   "metadata": {},
   "outputs": [
    {
     "name": "stdout",
     "output_type": "stream",
     "text": [
      "5.06 ms ± 28.7 µs per loop (mean ± std. dev. of 7 runs, 100 loops each)\n"
     ]
    }
   ],
   "source": [
    "%timeit qubit_operator_sparse(OP)"
   ]
  },
  {
   "cell_type": "code",
   "execution_count": 50,
   "metadata": {},
   "outputs": [],
   "source": [
    "S_index=0\n",
    "check_reduction=True\n",
    "key_larg, largest_AC_set = max(anti_commuting_sets_SeqRot.items(), key=lambda x:len(x[1])) \n",
    "\n",
    "X_sk_theta_sk_list, full_normalised_set, Ps, gamma_l =Get_Xsk_op_list(largest_AC_set, S_index, n_qubits, check_reduction=False, atol=1e-8, rtol=1e-05)"
   ]
  },
  {
   "cell_type": "code",
   "execution_count": 32,
   "metadata": {},
   "outputs": [],
   "source": [
    "R_S_q_ops = Get_Rsl_matrix_as_qubitops(X_sk_theta_sk_list)"
   ]
  },
  {
   "cell_type": "code",
   "execution_count": 40,
   "metadata": {},
   "outputs": [
    {
     "data": {
      "text/plain": [
       "4096"
      ]
     },
     "execution_count": 40,
     "metadata": {},
     "output_type": "execute_result"
    }
   ],
   "source": [
    "len(list(R_S_q_ops))"
   ]
  },
  {
   "cell_type": "code",
   "execution_count": null,
   "metadata": {},
   "outputs": [],
   "source": []
  },
  {
   "cell_type": "code",
   "execution_count": 36,
   "metadata": {},
   "outputs": [],
   "source": [
    "R_dag_P_R = hermitian_conjugated(R_S_q_ops) * Ps * R_S_q_ops"
   ]
  },
  {
   "cell_type": "code",
   "execution_count": 38,
   "metadata": {},
   "outputs": [
    {
     "data": {
      "text/plain": [
       "4096"
      ]
     },
     "execution_count": 38,
     "metadata": {},
     "output_type": "execute_result"
    }
   ],
   "source": [
    "len(list(R_dag_P_R))"
   ]
  },
  {
   "cell_type": "code",
   "execution_count": 34,
   "metadata": {},
   "outputs": [
    {
     "name": "stdout",
     "output_type": "stream",
     "text": [
      "9.09 s ± 20.7 ms per loop (mean ± std. dev. of 7 runs, 1 loop each)\n"
     ]
    }
   ],
   "source": [
    "%timeit fast_qubit_operator_sparse(R_S_q_ops, n_qubits)"
   ]
  },
  {
   "cell_type": "code",
   "execution_count": 35,
   "metadata": {},
   "outputs": [
    {
     "name": "stdout",
     "output_type": "stream",
     "text": [
      "8.14 s ± 105 ms per loop (mean ± std. dev. of 7 runs, 1 loop each)\n"
     ]
    }
   ],
   "source": [
    "%timeit parallel_fast_qubit_sparse(R_S_q_ops, n_qubits)"
   ]
  },
  {
   "cell_type": "code",
   "execution_count": null,
   "metadata": {},
   "outputs": [],
   "source": [
    "full_mat = parallel_fast_qubit_sparse(R_S_q_ops, n_qubits)"
   ]
  },
  {
   "cell_type": "code",
   "execution_count": null,
   "metadata": {},
   "outputs": [],
   "source": []
  },
  {
   "cell_type": "code",
   "execution_count": 48,
   "metadata": {},
   "outputs": [],
   "source": [
    "def Get_Rsl_matrix_as_qubitops_correct_order(Xsk_op_list):\n",
    "\n",
    "    \"\"\"\n",
    "    Function that gives matrix of Rsl from a list of X_sk operators, theta_sks. This is the output from Get_Xsk_op_list function.\n",
    "    X_sk operators from a given anti_commuting set and S_index\n",
    "\n",
    "    Args:\n",
    "        X_sk_theta_sk_list(list): list of tuples containing X_sk QubitOperator and Theta_sk value\n",
    "\n",
    "    returns:\n",
    "        R_S_q_ops (QubitOperator)\n",
    "\n",
    "    \"\"\"\n",
    "\n",
    "    ### old SLOW method (exponentiated matrices)\n",
    "    # R_sk_list = []\n",
    "    # for X_sk_Op, theta_sk in Xsk_op_list:\n",
    "    #     pauliword_X_sk_MATRIX = qubit_operator_sparse(QubitOperator(list(X_sk_Op.terms.keys())[0], -1j),\n",
    "    #                                                   n_qubits=N_Qubits)\n",
    "    #     const_X_sk = list(X_sk_Op.terms.values())[0]\n",
    "        \n",
    "    #     R_sk_list.append(expm(pauliword_X_sk_MATRIX * theta_sk / 2 * const_X_sk))\n",
    "    # Rs_l_matrix = reduce(np.dot, R_sk_list[::-1])  # <- note reverse order!\n",
    "\n",
    "    ### new FAST method (symbolic application of rotation operators!)\n",
    "    R_sk_list = []\n",
    "    for X_sk_Op, theta_sk in Xsk_op_list:\n",
    "        op = np.cos(theta_sk / 2) * QubitOperator('') -1j*np.sin(theta_sk / 2) * X_sk_Op\n",
    "        R_sk_list.append(op)\n",
    "\n",
    "    return R_sk_list[::-1]"
   ]
  },
  {
   "cell_type": "code",
   "execution_count": 85,
   "metadata": {},
   "outputs": [],
   "source": [
    "ordered_terms = Get_Rsl_matrix_as_qubitops_correct_order(X_sk_theta_sk_list)"
   ]
  },
  {
   "cell_type": "code",
   "execution_count": 86,
   "metadata": {},
   "outputs": [],
   "source": [
    "def apply_ordered_terms(list_ordered_terms, ground_state_ket,n_qubits, decimal_place_threshold=10):\n",
    "    sparse_ket = csc_matrix(np.around(ground_state_ket,decimal_place_threshold).reshape([ground_state_ket.shape[0],1]), dtype=complex)\n",
    "    \n",
    "    for op in list_ordered_terms:\n",
    "        sparse_ket = fast_qubit_operator_sparse(ordered_terms[0], n_qubits) @ sparse_ket\n",
    "    return sparse_ket"
   ]
  },
  {
   "cell_type": "code",
   "execution_count": null,
   "metadata": {},
   "outputs": [],
   "source": []
  },
  {
   "cell_type": "code",
   "execution_count": 87,
   "metadata": {},
   "outputs": [
    {
     "data": {
      "text/plain": [
       "(-0.06266722299162544-1.4940856532829159e-27j)"
      ]
     },
     "execution_count": 87,
     "metadata": {},
     "output_type": "execute_result"
    }
   ],
   "source": [
    "new_ket = apply_ordered_terms(ordered_terms,\n",
    "                    ground_state_ket,\n",
    "                    n_qubits,\n",
    "                    decimal_place_threshold=10)\n",
    "\n",
    "en = new_ket.conj().T @ fast_qubit_operator_sparse(Ps, n_qubits) @ new_ket\n",
    "en.todense().item(0) * gamma_l"
   ]
  },
  {
   "cell_type": "code",
   "execution_count": 88,
   "metadata": {},
   "outputs": [],
   "source": [
    "H_sl = reduce(lambda x,y:x+y, largest_AC_set)"
   ]
  },
  {
   "cell_type": "code",
   "execution_count": 89,
   "metadata": {},
   "outputs": [
    {
     "data": {
      "text/plain": [
       "(-1.3865741219713452+8.654706546377954e-17j)"
      ]
     },
     "execution_count": 89,
     "metadata": {},
     "output_type": "execute_result"
    }
   ],
   "source": [
    "ket =  csc_matrix(np.around(ground_state_ket,10).reshape([ground_state_ket.shape[0],1]), dtype=complex)\n",
    "ernergy = ket.conj().T @ fast_qubit_operator_sparse(H_sl, n_qubits) @ ket\n",
    "ernergy.todense().item(0)"
   ]
  },
  {
   "cell_type": "code",
   "execution_count": 111,
   "metadata": {},
   "outputs": [
    {
     "data": {
      "text/plain": [
       "(-1.3865741219713419-5.774569190374004e-17j)"
      ]
     },
     "execution_count": 111,
     "metadata": {},
     "output_type": "execute_result"
    }
   ],
   "source": [
    "energy=0\n",
    "for op in H_sl:\n",
    "    energy+= (ket.conj().T @ fast_qubit_operator_sparse(op, n_qubits) @ ket).todense().item(0)\n",
    "energy"
   ]
  },
  {
   "cell_type": "code",
   "execution_count": null,
   "metadata": {},
   "outputs": [],
   "source": []
  },
  {
   "cell_type": "code",
   "execution_count": 128,
   "metadata": {},
   "outputs": [],
   "source": [
    "def Apply_Rsl_to_gs_ket(Xsk_op_list, ground_state_ket, n_qubits, decimal_place_threshold=14):\n",
    "\n",
    "    \"\"\"\n",
    "    Given a list of X_sk operators (in correct order), apply R_sk iteratively to ground state ket...\n",
    "    \n",
    "    Overall |ψ_out> =  R_s|ψ_ground>  =  R_sk_0 @ R_sk_1 @....|ψ_ground>\n",
    "\n",
    "    Args:\n",
    "        X_sk_theta_sk_list(list): list of tuples containing X_sk QubitOperator and Theta_sk value\n",
    "        ground_state_ket (np.array): 1D numpy array of ground state\n",
    "        n_qubits (int): number of qubits\n",
    "        decimal_place_threshold (int): d.p threshold for amplitudes of ground state\n",
    "\n",
    "    returns:\n",
    "        ket (csr_matrix): sparse vector, where Rs has been applied to ground state.\n",
    "\n",
    "    \"\"\"\n",
    "    ket =  csc_matrix(np.around(ground_state_ket,decimal_place_threshold).reshape([ground_state_ket.shape[0],1]), dtype=complex)\n",
    "\n",
    "    for X_sk_Op, theta_sk in Xsk_op_list:\n",
    "        R_sk_op = np.cos(theta_sk / 2) * QubitOperator('') -1j*np.sin(theta_sk / 2) * X_sk_Op\n",
    "\n",
    "        ket = fast_qubit_operator_sparse(R_sk_op, n_qubits) @ ket\n",
    "        \n",
    "\n",
    "    return ket"
   ]
  },
  {
   "cell_type": "code",
   "execution_count": 129,
   "metadata": {},
   "outputs": [],
   "source": [
    "def SeqRot_linalg_Energy_iterative(anti_commuting_sets, S_key_dict, N_Qubits,ground_state_ket,\n",
    "                                   atol=1e-8, rtol=1e-05, decimal_place_threshold=14):\n",
    "    \"\"\"\n",
    "    Function giving ground state energy of Hamiltonian given as a dictionary of anti-commuting sets.\n",
    "    Note this actually applies R_s to ground state vector then measures the expectation val of P_s\n",
    "\n",
    "    THIS seems faster than other matrix approaches!\n",
    "\n",
    "    Args:\n",
    "        anti_commuting_sets (dict): dictionary of int keys with list of anti commuting QubitOperators sets\n",
    "        S_key_dict(dict): dictionary keys match that of anti_commuting_sets. Value gives index of P_s operator\n",
    "        N_Qubits(int): number of qubits\n",
    "        ground_state_ket (np.array): 1D numpy array of ground state\n",
    "        decimal_place_threshold (int): d.p threshold for amplitudes of ground state\n",
    "    returns:\n",
    "        FCI_Energy(float): Ground state energy\n",
    "\n",
    "    \"\"\"\n",
    "    \n",
    "    ground_state_ket = csc_matrix(np.around(ground_state_ket,decimal_place_threshold).reshape([ground_state_ket.shape[0],1]), dtype=complex)\n",
    "    FCI_Energy=0\n",
    "    for key in anti_commuting_sets:\n",
    "        AC_set = anti_commuting_sets[key]\n",
    "\n",
    "        if len(AC_set) < 2:\n",
    "            matrix_to_measure = fast_qubit_operator_sparse(AC_set[0], n_qubits) \n",
    "            active_ket = ground_state_ket.copy()\n",
    "        else:\n",
    "            S_index = S_key_dict[key]\n",
    "\n",
    "            X_sk_theta_sk_list, full_normalised_set, Ps, gamma_l = Get_Xsk_op_list(AC_set, S_index, N_Qubits, check_reduction=check_reduction, atol=atol, rtol=rtol)\n",
    "\n",
    "            matrix_to_measure = gamma_l * fast_qubit_operator_sparse(Ps, n_qubits) \n",
    "            active_ket = Apply_Rsl_to_gs_ket(X_sk_theta_sk_list, \n",
    "                                             ground_state_ket,\n",
    "                                             N_Qubits, \n",
    "                                             decimal_place_threshold=decimal_place_threshold)\n",
    "\n",
    "        exp_val = active_ket.conj().T @ matrix_to_measure @ active_ket\n",
    "        FCI_Energy+=exp_val.todense().item(0)\n",
    "\n",
    "    return FCI_Energy"
   ]
  },
  {
   "cell_type": "code",
   "execution_count": 122,
   "metadata": {},
   "outputs": [],
   "source": [
    "E_SeqRot = SeqRot_linalg_Energy_iterative(anti_commuting_sets_SeqRot,\n",
    "                             all_zero_Ps_index_dict,\n",
    "                             n_qubits,\n",
    "                              ground_state_ket,\n",
    "                             atol=1e-8,\n",
    "                             rtol=1e-05)"
   ]
  },
  {
   "cell_type": "code",
   "execution_count": 123,
   "metadata": {},
   "outputs": [
    {
     "data": {
      "text/plain": [
       "(-133.5425660803483+6.156275230267504e-16j)"
      ]
     },
     "execution_count": 123,
     "metadata": {},
     "output_type": "execute_result"
    }
   ],
   "source": [
    "E_SeqRot"
   ]
  },
  {
   "cell_type": "code",
   "execution_count": 98,
   "metadata": {},
   "outputs": [
    {
     "data": {
      "text/plain": [
       "True"
      ]
     },
     "execution_count": 98,
     "metadata": {},
     "output_type": "execute_result"
    }
   ],
   "source": [
    "ground_state_ket.shape[0] == 2**16"
   ]
  },
  {
   "cell_type": "code",
   "execution_count": 109,
   "metadata": {},
   "outputs": [],
   "source": [
    "output_ket = Apply_Rsl_to_gs_ket(X_sk_theta_sk_list, ground_state_ket, n_qubits)"
   ]
  },
  {
   "cell_type": "code",
   "execution_count": 115,
   "metadata": {},
   "outputs": [
    {
     "data": {
      "text/plain": [
       "(-1.3865741220622214-1.5611839779520109e-28j)"
      ]
     },
     "execution_count": 115,
     "metadata": {},
     "output_type": "execute_result"
    }
   ],
   "source": [
    "en = output_ket.conj().T @ fast_qubit_operator_sparse(Ps, n_qubits) @ output_ket\n",
    "en.todense().item(0) * gamma_l"
   ]
  },
  {
   "cell_type": "code",
   "execution_count": 105,
   "metadata": {},
   "outputs": [
    {
     "data": {
      "text/plain": [
       "numpy.ndarray"
      ]
     },
     "execution_count": 105,
     "metadata": {},
     "output_type": "execute_result"
    }
   ],
   "source": [
    "type(ground_state_ket)"
   ]
  },
  {
   "cell_type": "code",
   "execution_count": null,
   "metadata": {},
   "outputs": [],
   "source": []
  },
  {
   "cell_type": "code",
   "execution_count": null,
   "metadata": {},
   "outputs": [],
   "source": []
  },
  {
   "cell_type": "code",
   "execution_count": null,
   "metadata": {},
   "outputs": [],
   "source": []
  }
 ],
 "metadata": {
  "kernelspec": {
   "display_name": "Python 3",
   "language": "python",
   "name": "python3"
  },
  "language_info": {
   "codemirror_mode": {
    "name": "ipython",
    "version": 3
   },
   "file_extension": ".py",
   "mimetype": "text/x-python",
   "name": "python",
   "nbconvert_exporter": "python",
   "pygments_lexer": "ipython3",
   "version": "3.8.5"
  }
 },
 "nbformat": 4,
 "nbformat_minor": 4
}
