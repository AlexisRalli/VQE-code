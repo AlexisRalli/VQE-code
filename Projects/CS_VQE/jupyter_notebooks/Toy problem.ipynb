{
 "cells": [
  {
   "cell_type": "code",
   "execution_count": 1,
   "metadata": {},
   "outputs": [],
   "source": [
    "import sys\n",
    "sys.path.append( '../' )"
   ]
  },
  {
   "cell_type": "code",
   "execution_count": 2,
   "metadata": {},
   "outputs": [],
   "source": [
    "import numpy as np\n",
    "import cs_vqe as c\n",
    "import ast\n",
    "import os\n",
    "\n",
    "import scipy as sp"
   ]
  },
  {
   "cell_type": "code",
   "execution_count": 3,
   "metadata": {},
   "outputs": [],
   "source": [
    "from openfermion import qubit_operator_sparse\n",
    "from quchem.Misc_functions import conversion_scripts as conv_scr\n",
    "from openfermion.ops import QubitOperator"
   ]
  },
  {
   "cell_type": "code",
   "execution_count": 4,
   "metadata": {},
   "outputs": [],
   "source": [
    "ham = {\n",
    " # noncon\n",
    " 'ZII':0.5,\n",
    " 'IXI':0.25,\n",
    " 'IYI':0.5,\n",
    " 'IZX':0.5,\n",
    " 'IZY':0.5,\n",
    " 'IZZ':0.5,\n",
    " 'ZXI':0.5,\n",
    " 'ZYI':0.5,\n",
    " 'ZZX':0.5,\n",
    " 'ZZY':0.5,\n",
    " 'ZZZ':0.25,\n",
    "\n",
    " # con\n",
    " 'IIX':0.5,\n",
    " 'IIY':0.25,\n",
    " 'IIZ':0.5,\n",
    "      }\n",
    "n_qubits = 3"
   ]
  },
  {
   "cell_type": "code",
   "execution_count": null,
   "metadata": {},
   "outputs": [],
   "source": []
  },
  {
   "cell_type": "code",
   "execution_count": 5,
   "metadata": {},
   "outputs": [],
   "source": [
    "# ham = {\n",
    "#  # noncon\n",
    "#  'ZIIX':0.15,\n",
    "#  'IXIY':0.25,\n",
    "#  'IYIZ':0.5,\n",
    "#  'IZXX':0.5,\n",
    "#  'IZYY':0.5,\n",
    "#  'IZZZ':0.5,\n",
    "#  'ZXIX':0.5,\n",
    "#  'ZYIX':0.5,\n",
    "#  'ZZXZ':0.5,\n",
    "#  'ZZYZ':0.5,\n",
    "#  'ZZZX':0.25,\n",
    "\n",
    "#  # con\n",
    "#  'IIXY':0.5,\n",
    "#  'IIYY':0.25,\n",
    "#  'IIZY':0.5,\n",
    "#       }\n",
    "# n_qubits = 4"
   ]
  },
  {
   "cell_type": "code",
   "execution_count": 6,
   "metadata": {},
   "outputs": [
    {
     "data": {
      "text/plain": [
       "{'ZII': -4.876251869647676,\n",
       " 'IXI': 5.881488492958129,\n",
       " 'IYI': -1.2892085313386747,\n",
       " 'IZX': -1.3846171400594853,\n",
       " 'IZY': -2.987278592805387,\n",
       " 'IZZ': -1.3947955347513896,\n",
       " 'ZXI': 1.325160795100755,\n",
       " 'ZYI': 4.320113689584546,\n",
       " 'ZZX': -2.5948417951637825,\n",
       " 'ZZY': -5.389555309824601,\n",
       " 'ZZZ': 3.5278514245753234,\n",
       " 'IIX': -7.072699482535942,\n",
       " 'IIY': 2.683108329914947,\n",
       " 'IIZ': -7.857755271495231}"
      ]
     },
     "execution_count": 6,
     "metadata": {},
     "output_type": "execute_result"
    }
   ],
   "source": [
    "import random\n",
    "\n",
    "for key in ham.keys():\n",
    "    ham[key] = random.uniform(-1, 1)*10\n",
    "ham"
   ]
  },
  {
   "cell_type": "code",
   "execution_count": 7,
   "metadata": {},
   "outputs": [],
   "source": [
    "# import itertools as it\n",
    "\n",
    "# # all possible Pauliwords on n_qubits!\n",
    "# n_qubits = 5\n",
    "\n",
    "# ham={}\n",
    "# for pauli_comb in it.product(['X', 'Y', 'Z', 'I'],  repeat=n_qubits):\n",
    "#     key = ('').join(pauli_comb)\n",
    "#     ham[key] = random.uniform(5, 10)\n",
    "\n",
    "# len(ham) == 4**n_qubits"
   ]
  },
  {
   "cell_type": "code",
   "execution_count": 8,
   "metadata": {},
   "outputs": [],
   "source": [
    "# ham = {\n",
    "#  # noncon\n",
    "#  'ZII':0.5,\n",
    "#  'IXI':0.25,\n",
    "#  'IYI':0.5,\n",
    "#  'IZX':0.5,\n",
    "#  'IZY':0.5,\n",
    "#  'IZZ':0.5,\n",
    "\n",
    "#  # con\n",
    "#  'IIX':0.5,\n",
    "#  'IIY':0.25,\n",
    "#  'IIZ':0.5,\n",
    "#       }\n",
    "# n_qubits = 3"
   ]
  },
  {
   "cell_type": "code",
   "execution_count": 9,
   "metadata": {},
   "outputs": [],
   "source": [
    "ham_full_open_F = conv_scr.Get_Openfermion_Hamiltonian(ham)"
   ]
  },
  {
   "cell_type": "code",
   "execution_count": null,
   "metadata": {},
   "outputs": [],
   "source": []
  },
  {
   "cell_type": "markdown",
   "metadata": {},
   "source": [
    "# Get non-contextual H"
   ]
  },
  {
   "cell_type": "code",
   "execution_count": 10,
   "metadata": {},
   "outputs": [],
   "source": [
    "nonH_guesses = c.greedy_dfs(ham, 10, criterion='weight')\n",
    "\n",
    "nonH = max(nonH_guesses, key=lambda x:len(x)) # largest nonCon part found by dfs alg"
   ]
  },
  {
   "cell_type": "code",
   "execution_count": 11,
   "metadata": {},
   "outputs": [
    {
     "name": "stdout",
     "output_type": "stream",
     "text": [
      "{'IXI': 5.881488492958129,\n",
      " 'IYI': -1.2892085313386747,\n",
      " 'ZXI': 1.325160795100755,\n",
      " 'ZYI': 4.320113689584546}\n",
      "\n",
      "{'IIX': -7.072699482535942,\n",
      " 'IIY': 2.683108329914947,\n",
      " 'IIZ': -7.857755271495231,\n",
      " 'IZX': -1.3846171400594853,\n",
      " 'IZY': -2.987278592805387,\n",
      " 'IZZ': -1.3947955347513896,\n",
      " 'ZII': -4.876251869647676,\n",
      " 'ZZX': -2.5948417951637825,\n",
      " 'ZZY': -5.389555309824601,\n",
      " 'ZZZ': 3.5278514245753234}\n"
     ]
    }
   ],
   "source": [
    "nonCon_H = {}\n",
    "Con_H = {}\n",
    "\n",
    "for P in ham:\n",
    "    if P in nonH:\n",
    "        nonCon_H[P]=ham[P]\n",
    "    else:\n",
    "        Con_H[P]=ham[P]\n",
    "\n",
    "        \n",
    "import pprint\n",
    "\n",
    "pprint.pprint(Con_H)\n",
    "print()\n",
    "pprint.pprint(nonCon_H)"
   ]
  },
  {
   "cell_type": "markdown",
   "metadata": {},
   "source": [
    "Split into:\n",
    "\n",
    "$$H = H_{c} + H_{nc}$$"
   ]
  },
  {
   "cell_type": "markdown",
   "metadata": {},
   "source": [
    "## Testing contextuality"
   ]
  },
  {
   "cell_type": "code",
   "execution_count": 12,
   "metadata": {},
   "outputs": [
    {
     "name": "stdout",
     "output_type": "stream",
     "text": [
      "Is NONcontextual correct: True\n"
     ]
    }
   ],
   "source": [
    "print('Is NONcontextual correct:', not c.contextualQ_ham(nonCon_H))"
   ]
  },
  {
   "cell_type": "markdown",
   "metadata": {},
   "source": [
    "# Classical part of problem!"
   ]
  },
  {
   "cell_type": "markdown",
   "metadata": {},
   "source": [
    "Take $H_{nc}$ and split into:\n",
    "- $Z$ = operators that completely comute with all operators in $S$\n",
    "- $T$ = remaining operators in $S$\n",
    "    - where $S = Z \\cup T$  and $S$ is set of Pauli operators in $H_{nc}$\n",
    "    \n",
    "    \n",
    "- We then split the set $T$ into cliques $C_{1}, C_{2}, ... , C_{|T|}$\n",
    "    - all ops in a clique commute\n",
    "    - ops between cliques anti-commute!"
   ]
  },
  {
   "cell_type": "code",
   "execution_count": 13,
   "metadata": {},
   "outputs": [],
   "source": [
    "bool_flag, Z_list, T_list = c.contextualQ(list(nonCon_H.keys()), verbose=True)"
   ]
  },
  {
   "cell_type": "code",
   "execution_count": 14,
   "metadata": {},
   "outputs": [
    {
     "data": {
      "text/plain": [
       "['ZII']"
      ]
     },
     "execution_count": 14,
     "metadata": {},
     "output_type": "execute_result"
    }
   ],
   "source": [
    "Z_list"
   ]
  },
  {
   "cell_type": "code",
   "execution_count": 15,
   "metadata": {},
   "outputs": [
    {
     "data": {
      "text/plain": [
       "['IZX', 'IZY', 'IZZ', 'ZZX', 'ZZY', 'ZZZ', 'IIX', 'IIY', 'IIZ']"
      ]
     },
     "execution_count": 15,
     "metadata": {},
     "output_type": "execute_result"
    }
   ],
   "source": [
    "T_list"
   ]
  },
  {
   "cell_type": "markdown",
   "metadata": {},
   "source": [
    "## Get quasi model\n",
    "\n",
    "First we define\n",
    "\n",
    "- $C_{i1}$ = first Pauli in each $C_{i}$ set\n",
    "- $A_{ij} = C_{ij}C_{1i}$\n",
    "\n",
    "\n",
    "- $G^{prime} = \\{1 P_{i} \\;| \\; i=1,2,...,|Z| \\}$\n",
    "    - aka all the completely commuting terms with coefficients set to +1!\n",
    "\n",
    "- We define G to be an independent set of $G^{prime}$\n",
    "    - where $G \\subseteq G^{prime}$\n"
   ]
  },
  {
   "cell_type": "code",
   "execution_count": 16,
   "metadata": {},
   "outputs": [],
   "source": [
    "G_list, Ci1_list, all_mappings = c.quasi_model(nonCon_H)"
   ]
  },
  {
   "cell_type": "code",
   "execution_count": 17,
   "metadata": {},
   "outputs": [
    {
     "name": "stdout",
     "output_type": "stream",
     "text": [
      "non-independent Z list: ['ZII']\n",
      "G (independent) Z list: ['ZII', 'IZI']\n"
     ]
    }
   ],
   "source": [
    "print('non-independent Z list:', Z_list)\n",
    "print('G (independent) Z list:', G_list)"
   ]
  },
  {
   "cell_type": "code",
   "execution_count": 18,
   "metadata": {},
   "outputs": [
    {
     "name": "stdout",
     "output_type": "stream",
     "text": [
      "all T list (dependent): ['IZX', 'IZY', 'IZZ', 'ZZX', 'ZZY', 'ZZZ', 'IIX', 'IIY', 'IIZ']\n",
      "all Ci1 terms (independent): ['IZZ', 'IZY', 'IZX']\n"
     ]
    }
   ],
   "source": [
    "print('all T list (dependent):', T_list)\n",
    "print('all Ci1 terms (independent):', Ci1_list)\n",
    "\n",
    "# T list can be built from Ci1 terms AND some combination of G_list!"
   ]
  },
  {
   "cell_type": "markdown",
   "metadata": {},
   "source": [
    "$$R = G \\cup \\{ C_{i1} \\;| \\; i=1,2,...,N \\}$$"
   ]
  },
  {
   "cell_type": "code",
   "execution_count": 19,
   "metadata": {},
   "outputs": [
    {
     "data": {
      "text/plain": [
       "{'ZII': [['ZII'], [], 1],\n",
       " 'IZX': [[], ['IZX'], 1],\n",
       " 'IZY': [[], ['IZY'], 1],\n",
       " 'IZZ': [[], ['IZZ'], 1],\n",
       " 'ZZX': [['ZII'], ['IZX'], 1],\n",
       " 'ZZY': [['ZII'], ['IZY'], 1],\n",
       " 'ZZZ': [['ZII'], ['IZZ'], 1],\n",
       " 'IIX': [['IZI'], ['IZX'], 1],\n",
       " 'IIY': [['IZI'], ['IZY'], 1],\n",
       " 'IIZ': [['IZI'], ['IZZ'], 1]}"
      ]
     },
     "execution_count": 19,
     "metadata": {},
     "output_type": "execute_result"
    }
   ],
   "source": [
    "# Assemble all the mappings from terms in the Hamiltonian to their products in R:\n",
    "all_mappings"
   ]
  },
  {
   "cell_type": "markdown",
   "metadata": {},
   "source": [
    "Overall $R$ is basically reduced non-contextual set\n",
    "- where everything in original non-contextual set can be found by **inference!**"
   ]
  },
  {
   "cell_type": "code",
   "execution_count": null,
   "metadata": {},
   "outputs": [],
   "source": []
  },
  {
   "cell_type": "markdown",
   "metadata": {},
   "source": [
    "# Function form\n",
    "\n",
    "$$R = G \\cup \\{ C_{i1} \\;| \\; i=1,2,...,N \\}$$\n",
    "\n",
    "- note q to do with $G$\n",
    "- note r to do with $C_{i1}$"
   ]
  },
  {
   "cell_type": "code",
   "execution_count": 20,
   "metadata": {},
   "outputs": [],
   "source": [
    "model = [G_list, Ci1_list, all_mappings]\n",
    "fn_form = c.energy_function_form(nonCon_H, model)"
   ]
  },
  {
   "cell_type": "code",
   "execution_count": 21,
   "metadata": {},
   "outputs": [
    {
     "data": {
      "text/plain": [
       "[2,\n",
       " 3,\n",
       " [[-4.876251869647676, [0], [], 'ZII'],\n",
       "  [-1.3846171400594853, [], [2], 'IZX'],\n",
       "  [-2.987278592805387, [], [1], 'IZY'],\n",
       "  [-1.3947955347513896, [], [0], 'IZZ'],\n",
       "  [-2.5948417951637825, [0], [2], 'ZZX'],\n",
       "  [-5.389555309824601, [0], [1], 'ZZY'],\n",
       "  [3.5278514245753234, [0], [0], 'ZZZ'],\n",
       "  [-7.072699482535942, [1], [2], 'IIX'],\n",
       "  [2.683108329914947, [1], [1], 'IIY'],\n",
       "  [-7.857755271495231, [1], [0], 'IIZ']]]"
      ]
     },
     "execution_count": 21,
     "metadata": {},
     "output_type": "execute_result"
    }
   ],
   "source": [
    "fn_form"
   ]
  },
  {
   "cell_type": "code",
   "execution_count": 22,
   "metadata": {},
   "outputs": [],
   "source": [
    "Energy_function = c.energy_function(fn_form)"
   ]
  },
  {
   "cell_type": "code",
   "execution_count": 23,
   "metadata": {},
   "outputs": [
    {
     "name": "stdout",
     "output_type": "stream",
     "text": [
      "-20.09816919079713\n",
      "[[1, -1], [-0.6563438070270331, 0.7265801078226785, -0.20320963041560278]]\n"
     ]
    }
   ],
   "source": [
    "model = [G_list, Ci1_list, all_mappings]\n",
    "\n",
    "lowest_eigenvalue, ground_state_params, model_copy, fn_form_copy,  = c.find_gs_noncon(nonCon_H,\n",
    "               method = 'differential_evolution',\n",
    "               model=model,\n",
    "               fn_form=fn_form) # returns:  best + [model, fn_form]\n",
    "\n",
    "print(lowest_eigenvalue)\n",
    "print(ground_state_params)"
   ]
  },
  {
   "cell_type": "code",
   "execution_count": 24,
   "metadata": {},
   "outputs": [
    {
     "data": {
      "text/plain": [
       "True"
      ]
     },
     "execution_count": 24,
     "metadata": {},
     "output_type": "execute_result"
    }
   ],
   "source": [
    "## check\n",
    "Energy_function(*ground_state_params[0],*ground_state_params[1]) == lowest_eigenvalue"
   ]
  },
  {
   "cell_type": "code",
   "execution_count": null,
   "metadata": {},
   "outputs": [],
   "source": []
  },
  {
   "cell_type": "markdown",
   "metadata": {},
   "source": [
    "# Now need to rotate Hamiltonian!"
   ]
  },
  {
   "cell_type": "markdown",
   "metadata": {},
   "source": [
    "We now have non contextual ground state: $(\\vec{q}, \\vec{r})$"
   ]
  },
  {
   "cell_type": "markdown",
   "metadata": {},
   "source": [
    "To do this we first rotate each $G_{j}$ and $\\mathcal{A} = \\sum_{i=1}^{N} r_{i}A_{i}$:"
   ]
  },
  {
   "cell_type": "code",
   "execution_count": 25,
   "metadata": {},
   "outputs": [
    {
     "name": "stdout",
     "output_type": "stream",
     "text": [
      "-0.6563438070270331 IZZ\n",
      "0.7265801078226785 IZY\n",
      "-0.20320963041560278 IZX\n"
     ]
    }
   ],
   "source": [
    "for r_i, A_i in zip(ground_state_params[1],Ci1_list):\n",
    "    print(r_i, A_i)"
   ]
  },
  {
   "cell_type": "code",
   "execution_count": null,
   "metadata": {},
   "outputs": [],
   "source": []
  },
  {
   "cell_type": "code",
   "execution_count": 26,
   "metadata": {},
   "outputs": [
    {
     "name": "stdout",
     "output_type": "stream",
     "text": [
      "['ZII', 'IZI']\n",
      "['IZZ', 'IZY', 'IZX']\n"
     ]
    }
   ],
   "source": [
    "model = [G_list, Ci1_list, all_mappings]\n",
    "\n",
    "print(G_list) # G_j terms!\n",
    "print(Ci1_list) # mathcal(A)"
   ]
  },
  {
   "cell_type": "markdown",
   "metadata": {},
   "source": [
    "to SINGLE QUBIT pauli Z operators!\n",
    "\n",
    "- to map the operators in $G$ to single qubit Pauli operators, we use $\\frac{\\pi}{2}$ rotations!\n",
    "\n",
    "- note $\\mathcal{A}$ is an anti-commuting set... therefore we can use $N-1$ rotations as in unitary partitioning's sequence of rotations to do this!\n",
    "    - $R^{\\dagger}\\mathcal{A} R = \\text{single Pauli op}$"
   ]
  },
  {
   "cell_type": "markdown",
   "metadata": {},
   "source": [
    "# Rotate full Hamiltonian to basis with diagonal noncontextual generators!"
   ]
  },
  {
   "cell_type": "markdown",
   "metadata": {},
   "source": [
    "function ```diagonalize_epistemic```:\n",
    "1. first if else statement:\n",
    "    - if cliques present:\n",
    "        - first maps A to single Pauli operator (if cliques present)\n",
    "        - then rotates to diagonlize G union with single Pauli opator of A (hence GuA name!)\n",
    "    - else if NO cliques present:\n",
    "        - gets rotations to diagonlize G\n",
    "        \n",
    "     - these rotations make up GuA term in code!\n",
    "2. NEXT code loops over terms in GuA (denoted as g in code)\n",
    "    - if g is not a single qubit $Z$:\n",
    "        - code generates code to rotate operator to make g diagonal (rotations)\n",
    "        - then constructs map of g to single Z (J rotation)\n",
    "    - Note R is applied to GuA\n",
    "    \n",
    "    \n",
    "#########\n",
    "- Note rotations are given in Appendix A of https://arxiv.org/pdf/2011.10027.pdf\n",
    "    - First code checks if g op in GuA is diagonal\n",
    "        - if so then needs to apply \"K\" rotation (involving $Y$ and $I$ operators (see pg 11 top) to make it NOT diagononal\n",
    "    - now operator will be diagnoal!\n",
    "    - next generate \"J\" rotation\n",
    "        - turns non-diagonal operator into a single qubit $Z$ operator!"
   ]
  },
  {
   "cell_type": "code",
   "execution_count": 27,
   "metadata": {},
   "outputs": [],
   "source": [
    "# Get sequence of rotations requried to diagonalize the generators for the noncontextual ground state!\n",
    "\n",
    "Rotations_list, diagonalized_generators_GuA, eigen_vals_nonC_ground_state_GuA_ops = c.diagonalize_epistemic(model,\n",
    "                                                                                                            fn_form,\n",
    "                                                                                                            ground_state_params)"
   ]
  },
  {
   "cell_type": "code",
   "execution_count": null,
   "metadata": {},
   "outputs": [],
   "source": []
  },
  {
   "cell_type": "code",
   "execution_count": 28,
   "metadata": {},
   "outputs": [
    {
     "data": {
      "text/plain": [
       "-0.20320963041560278 [Z1 X2] +\n",
       "0.7265801078226785 [Z1 Y2] +\n",
       "-0.6563438070270331 [Z1 Z2]"
      ]
     },
     "execution_count": 28,
     "metadata": {},
     "output_type": "execute_result"
    }
   ],
   "source": [
    "script_A_dict = dict(zip(Ci1_list, ground_state_params[1]))\n",
    "\n",
    "qubit_script_A_list = conv_scr.Get_Openfermion_Hamiltonian(script_A_dict)\n",
    "\n",
    "qubit_script_A_list"
   ]
  },
  {
   "cell_type": "code",
   "execution_count": 29,
   "metadata": {},
   "outputs": [],
   "source": [
    "from quchem.Unitary_Partitioning.Unitary_partitioning_Seq_Rot import Get_Xsk_op_list\n",
    "S_index=0\n",
    "N_Qubits=n_qubits\n",
    "check_reduction = True\n",
    "X_sk_theta_sk_list, normalised_FULL_set, Ps, gamma_l = Get_Xsk_op_list(qubit_script_A_list,\n",
    "                                                                        S_index,\n",
    "                                                                        N_Qubits,\n",
    "                                                                        check_reduction=check_reduction,\n",
    "                                                                        atol=1e-8,\n",
    "                                                                        rtol=1e-05)\n",
    "X_sk_theta_sk_list\n",
    "\n",
    "R_sk_OP_list = []\n",
    "for X_sk_Op, theta_sk in X_sk_theta_sk_list:\n",
    "    op = np.cos(theta_sk / 2) * QubitOperator('') -1j*np.sin(theta_sk / 2) * X_sk_Op\n",
    "    R_sk_OP_list.append(op)"
   ]
  },
  {
   "cell_type": "code",
   "execution_count": 30,
   "metadata": {},
   "outputs": [
    {
     "name": "stdout",
     "output_type": "stream",
     "text": [
      "1.5707963267948966 pi/2\n",
      "1.5707963267948966 pi/2\n"
     ]
    },
    {
     "data": {
      "text/plain": [
       "[0.7071067811865476 [] +\n",
       " -0.7071067811865475j [Y2],\n",
       " 0.7071067811865476 [] +\n",
       " -0.7071067811865475j [Z1 Y2]]"
      ]
     },
     "execution_count": 30,
     "metadata": {},
     "output_type": "execute_result"
    }
   ],
   "source": [
    "single_qubit_rot_op_list = []\n",
    "\n",
    "for ang_op in Rotations_list[len(X_sk_theta_sk_list):]:\n",
    "    angle = ang_op[0]\n",
    "    op = ang_op[1]\n",
    "    theta = np.pi/2\n",
    "    print(theta, angle)\n",
    "    P = QubitOperator((' ').join([f'{sigma_i}{q_i}' for q_i, sigma_i in enumerate(op) if sigma_i != 'I']))\n",
    "    R_op = np.cos(theta / 2) * QubitOperator('') -1j*np.sin(theta / 2) * P\n",
    "    \n",
    "    single_qubit_rot_op_list.append(R_op)\n",
    "single_qubit_rot_op_list"
   ]
  },
  {
   "cell_type": "code",
   "execution_count": 31,
   "metadata": {},
   "outputs": [],
   "source": [
    "from functools import reduce\n",
    "# print(Rotations_list)\n",
    "\n",
    "U_dag_op_full_SeqRot = [*R_sk_OP_list, *single_qubit_rot_op_list]\n",
    "U_dag_op_full_SeqRot_OPERATOR  = reduce(lambda x,y: x*y, U_dag_op_full_SeqRot) "
   ]
  },
  {
   "cell_type": "code",
   "execution_count": 32,
   "metadata": {},
   "outputs": [
    {
     "data": {
      "text/plain": [
       "[0.4059987231605702 [] +\n",
       " -0.9138736437779496j [X2],\n",
       " 0.9947701378322221 [] +\n",
       " -0.10213898803719221j [Y2],\n",
       " 0.7071067811865476 [] +\n",
       " -0.7071067811865475j [Y2],\n",
       " 0.7071067811865476 [] +\n",
       " -0.7071067811865475j [Z1 Y2]]"
      ]
     },
     "execution_count": 32,
     "metadata": {},
     "output_type": "execute_result"
    }
   ],
   "source": [
    "U_dag_op_full_SeqRot"
   ]
  },
  {
   "cell_type": "code",
   "execution_count": null,
   "metadata": {},
   "outputs": [],
   "source": []
  },
  {
   "cell_type": "code",
   "execution_count": 33,
   "metadata": {},
   "outputs": [
    {
     "data": {
      "text/plain": [
       "32"
      ]
     },
     "execution_count": 33,
     "metadata": {},
     "output_type": "execute_result"
    }
   ],
   "source": [
    "from openfermion import hermitian_conjugated\n",
    "\n",
    "H_subspace_SEQROT = U_dag_op_full_SeqRot_OPERATOR * ham_full_open_F * hermitian_conjugated(U_dag_op_full_SeqRot_OPERATOR)\n",
    "\n",
    "len(list(H_subspace_SEQROT))"
   ]
  },
  {
   "cell_type": "code",
   "execution_count": 34,
   "metadata": {},
   "outputs": [
    {
     "data": {
      "text/plain": [
       "array([-25.9149945 , -14.80919378, -14.525861  ,  -0.49741028,\n",
       "         5.05669005,  10.24991402,  16.16249076,  24.27836473])"
      ]
     },
     "execution_count": 34,
     "metadata": {},
     "output_type": "execute_result"
    }
   ],
   "source": [
    "from scipy.linalg import eigh\n",
    "ham_red_sparse = qubit_operator_sparse(H_subspace_SEQROT, n_qubits=n_qubits)\n",
    "eig_values_SEQROT, eig_vectors_SEQROT = eigh(ham_red_sparse.todense()) # NOT sparse!\n",
    "eig_values_SEQROT"
   ]
  },
  {
   "cell_type": "code",
   "execution_count": 35,
   "metadata": {},
   "outputs": [
    {
     "data": {
      "text/plain": [
       "array([-25.9149945 , -14.80919378, -14.525861  ,  -0.49741028,\n",
       "         5.05669005,  10.24991402,  16.16249076,  24.27836473])"
      ]
     },
     "execution_count": 35,
     "metadata": {},
     "output_type": "execute_result"
    }
   ],
   "source": [
    "H_full_mat = qubit_operator_sparse(ham_full_open_F, n_qubits=n_qubits)\n",
    "eig_values, eig_vectors = eigh(H_full_mat.todense()) # NOT sparse!\n",
    "eig_values"
   ]
  },
  {
   "cell_type": "code",
   "execution_count": 36,
   "metadata": {},
   "outputs": [
    {
     "data": {
      "text/plain": [
       "3.0040920018748386e-14"
      ]
     },
     "execution_count": 36,
     "metadata": {},
     "output_type": "execute_result"
    }
   ],
   "source": [
    "np.linalg.norm(eig_values_SEQROT - eig_values)"
   ]
  },
  {
   "cell_type": "markdown",
   "metadata": {},
   "source": [
    "# NEW LCU method"
   ]
  },
  {
   "cell_type": "code",
   "execution_count": 37,
   "metadata": {},
   "outputs": [
    {
     "data": {
      "text/plain": [
       "1 [Z1 Z2]"
      ]
     },
     "execution_count": 37,
     "metadata": {},
     "output_type": "execute_result"
    }
   ],
   "source": [
    "import quchem.Unitary_Partitioning.Unitary_partitioning_LCU_method as LCU_UP \n",
    "\n",
    "N_index=0\n",
    "N_Qubits=n_qubits\n",
    "R_linear_comb_list, Pn, gamma_l  = LCU_UP.Get_R_op_list(qubit_script_A_list, \n",
    "                                                 N_index, \n",
    "                                                 N_Qubits, \n",
    "                                                 check_reduction=False, \n",
    "                                                 atol=1e-8,\n",
    "                                                 rtol=1e-05)\n",
    "Pn"
   ]
  },
  {
   "cell_type": "code",
   "execution_count": 38,
   "metadata": {},
   "outputs": [
    {
     "data": {
      "text/plain": [
       "[0.41452152716895596 [],\n",
       " (-0-0.8764081720736903j) [X2],\n",
       " (-0-0.24511348277067407j) [Y2]]"
      ]
     },
     "execution_count": 38,
     "metadata": {},
     "output_type": "execute_result"
    }
   ],
   "source": [
    "R_linear_comb_list"
   ]
  },
  {
   "cell_type": "code",
   "execution_count": null,
   "metadata": {},
   "outputs": [],
   "source": []
  },
  {
   "cell_type": "code",
   "execution_count": 39,
   "metadata": {},
   "outputs": [
    {
     "data": {
      "text/plain": [
       "[0.41452152716895596 [], -0.8764081720736903j [X2], -0.24511348277067407j [Y2]]"
      ]
     },
     "execution_count": 39,
     "metadata": {},
     "output_type": "execute_result"
    }
   ],
   "source": [
    "import cs_vqe_with_LCU as c_LCU\n",
    "check_reduction=True\n",
    "N_Qubits= n_qubits\n",
    "\n",
    "R_LCU, Rotations_list, diagonalized_generators_GuA, eigen_vals_nonC_ground_state_GuA_ops = c_LCU.diagonalize_epistemic_LCU(\n",
    "                                      model,\n",
    "                                      fn_form,\n",
    "                                      ground_state_params,\n",
    "                                      check_reduction=True)\n",
    "R_LCU"
   ]
  },
  {
   "cell_type": "code",
   "execution_count": 40,
   "metadata": {},
   "outputs": [],
   "source": [
    "R_LCU_op = reduce(lambda x,y: x+y, R_LCU) "
   ]
  },
  {
   "cell_type": "code",
   "execution_count": 41,
   "metadata": {},
   "outputs": [],
   "source": [
    "U_dag_op_full_LCU = [R_LCU_op, *single_qubit_rot_op_list]\n",
    "U_dag_op_full_LCU_OPERATOR  = reduce(lambda x,y: x*y, U_dag_op_full_LCU) "
   ]
  },
  {
   "cell_type": "code",
   "execution_count": null,
   "metadata": {},
   "outputs": [],
   "source": []
  },
  {
   "cell_type": "code",
   "execution_count": 42,
   "metadata": {},
   "outputs": [
    {
     "data": {
      "text/plain": [
       "32"
      ]
     },
     "execution_count": 42,
     "metadata": {},
     "output_type": "execute_result"
    }
   ],
   "source": [
    "H_subspace_LCU = U_dag_op_full_LCU_OPERATOR * ham_full_open_F * hermitian_conjugated(U_dag_op_full_LCU_OPERATOR)\n",
    "len(list(H_subspace_LCU))"
   ]
  },
  {
   "cell_type": "code",
   "execution_count": 43,
   "metadata": {},
   "outputs": [
    {
     "data": {
      "text/plain": [
       "array([-25.9149945 , -14.80919378, -14.525861  ,  -0.49741028,\n",
       "         5.05669005,  10.24991402,  16.16249076,  24.27836473])"
      ]
     },
     "execution_count": 43,
     "metadata": {},
     "output_type": "execute_result"
    }
   ],
   "source": [
    "ham_red_sparse = qubit_operator_sparse(H_subspace_LCU, n_qubits=n_qubits)\n",
    "eig_values_LCU, eig_vectors_LCU = eigh(ham_red_sparse.todense()) # NOT sparse!\n",
    "eig_values_LCU"
   ]
  },
  {
   "cell_type": "code",
   "execution_count": 44,
   "metadata": {},
   "outputs": [
    {
     "data": {
      "text/plain": [
       "3.202372833989377e-14"
      ]
     },
     "execution_count": 44,
     "metadata": {},
     "output_type": "execute_result"
    }
   ],
   "source": [
    "np.linalg.norm(eig_values_LCU - eig_values)"
   ]
  },
  {
   "cell_type": "code",
   "execution_count": 61,
   "metadata": {},
   "outputs": [
    {
     "data": {
      "text/plain": [
       "[0.4059987231605702 [] +\n",
       " -0.9138736437779496j [X2],\n",
       " 0.9947701378322221 [] +\n",
       " -0.10213898803719221j [Y2]]"
      ]
     },
     "execution_count": 61,
     "metadata": {},
     "output_type": "execute_result"
    }
   ],
   "source": []
  },
  {
   "cell_type": "code",
   "execution_count": null,
   "metadata": {},
   "outputs": [],
   "source": []
  },
  {
   "cell_type": "code",
   "execution_count": 45,
   "metadata": {},
   "outputs": [
    {
     "name": "stdout",
     "output_type": "stream",
     "text": [
      "32\n",
      "32\n"
     ]
    },
    {
     "data": {
      "text/plain": [
       "14"
      ]
     },
     "execution_count": 45,
     "metadata": {},
     "output_type": "execute_result"
    }
   ],
   "source": [
    "print(len(list(H_subspace_LCU)))\n",
    "print(len(list(H_subspace_SEQROT)))\n",
    "\n",
    "len(ham)"
   ]
  },
  {
   "cell_type": "code",
   "execution_count": 68,
   "metadata": {},
   "outputs": [
    {
     "data": {
      "text/plain": [
       "20"
      ]
     },
     "execution_count": 68,
     "metadata": {},
     "output_type": "execute_result"
    }
   ],
   "source": [
    "# X2_Y2\n",
    "X2_counter=0\n",
    "Y2_counter=0\n",
    "\n",
    "X2=QubitOperator('X2')\n",
    "Y2=QubitOperator('Y2')\n",
    "\n",
    "for op in ham_full_open_F:\n",
    "    if op*X2  == -X2*op:\n",
    "        X2_counter+=1\n",
    "    if op*Y2  == -Y2*op:\n",
    "        Y2_counter+=1\n",
    "\n",
    "len(ham) + X2_counter + (Y2_counter-X2_counter)"
   ]
  },
  {
   "cell_type": "code",
   "execution_count": 46,
   "metadata": {},
   "outputs": [
    {
     "data": {
      "text/plain": [
       "False"
      ]
     },
     "execution_count": 46,
     "metadata": {},
     "output_type": "execute_result"
    }
   ],
   "source": [
    "H_LCU_dict = conv_scr.Openfermion_to_dict(H_subspace_LCU, n_qubits)\n",
    "H_SEQ_dict = conv_scr.Openfermion_to_dict(H_subspace_SEQROT, n_qubits)\n",
    "\n",
    "sorted(list(ham.keys()))== sorted(list(H_LCU_dict.keys()))\n",
    "sorted(list(ham.keys()))== sorted(list(H_SEQ_dict.keys()))"
   ]
  },
  {
   "cell_type": "code",
   "execution_count": 47,
   "metadata": {},
   "outputs": [],
   "source": [
    "# coutner=0\n",
    "# for P, coeff in H_LCU_dict.items():\n",
    "#     if abs(coeff.real)> 1e-9:\n",
    "#         coutner+=1\n",
    "# coutner"
   ]
  },
  {
   "cell_type": "code",
   "execution_count": 48,
   "metadata": {},
   "outputs": [],
   "source": [
    "H_LCU = qubit_operator_sparse(H_subspace_LCU, n_qubits=n_qubits).todense()\n",
    "H_Seq = qubit_operator_sparse(H_subspace_SEQROT, n_qubits=n_qubits).todense()"
   ]
  },
  {
   "cell_type": "code",
   "execution_count": 49,
   "metadata": {},
   "outputs": [
    {
     "data": {
      "text/plain": [
       "16.13861254398147"
      ]
     },
     "execution_count": 49,
     "metadata": {},
     "output_type": "execute_result"
    }
   ],
   "source": [
    "# np.around(H_LCU-H_Seq, 1)\n",
    "\n",
    "np.linalg.norm(H_LCU-H_Seq) # <- difference"
   ]
  },
  {
   "cell_type": "code",
   "execution_count": null,
   "metadata": {},
   "outputs": [],
   "source": []
  },
  {
   "cell_type": "code",
   "execution_count": 50,
   "metadata": {},
   "outputs": [
    {
     "data": {
      "text/plain": [
       "12"
      ]
     },
     "execution_count": 50,
     "metadata": {},
     "output_type": "execute_result"
    }
   ],
   "source": [
    "counter=0\n",
    "for Pword, coeff in H_subspace_SEQROT.terms.items():\n",
    "    if abs(coeff.real)<1e-9:\n",
    "        counter+=1\n",
    "counter"
   ]
  },
  {
   "cell_type": "code",
   "execution_count": 51,
   "metadata": {},
   "outputs": [
    {
     "data": {
      "text/plain": [
       "7"
      ]
     },
     "execution_count": 51,
     "metadata": {},
     "output_type": "execute_result"
    }
   ],
   "source": [
    "counter=0\n",
    "for Pword, coeff in H_subspace_LCU.terms.items():\n",
    "    if abs(coeff.real)<1e-9:\n",
    "        counter+=1\n",
    "counter"
   ]
  },
  {
   "cell_type": "code",
   "execution_count": 52,
   "metadata": {},
   "outputs": [
    {
     "data": {
      "text/plain": [
       "32"
      ]
     },
     "execution_count": 52,
     "metadata": {},
     "output_type": "execute_result"
    }
   ],
   "source": [
    "len(H_subspace_SEQROT.terms)"
   ]
  },
  {
   "cell_type": "code",
   "execution_count": 53,
   "metadata": {},
   "outputs": [
    {
     "data": {
      "text/plain": [
       "32"
      ]
     },
     "execution_count": 53,
     "metadata": {},
     "output_type": "execute_result"
    }
   ],
   "source": [
    "len(H_subspace_SEQROT.terms.values())"
   ]
  },
  {
   "cell_type": "code",
   "execution_count": 54,
   "metadata": {},
   "outputs": [
    {
     "name": "stdout",
     "output_type": "stream",
     "text": [
      "|A| = 3\n",
      "\n",
      "|R_LCU| = 3\n",
      "|R_S| = 4\n"
     ]
    }
   ],
   "source": [
    "print('|A| =', len(script_A_dict))\n",
    "\n",
    "print()\n",
    "print('|R_LCU| =', len(list(R_LCU)))\n",
    "\n",
    "R_S = reduce(lambda x,y: x*y, R_sk_OP_list) \n",
    "print('|R_S| =', len(list(R_S)))"
   ]
  },
  {
   "cell_type": "markdown",
   "metadata": {},
   "source": [
    "size of $R_{LCU} = |A|$ = size of $A$\n",
    "\n",
    "size of $R_{S}=2^{|A|-1}$"
   ]
  },
  {
   "cell_type": "code",
   "execution_count": 55,
   "metadata": {},
   "outputs": [
    {
     "name": "stdout",
     "output_type": "stream",
     "text": [
      "|R_S| = 2^{|A|-1} True\n"
     ]
    }
   ],
   "source": [
    "print('|R_S| = 2^{|A|-1}', len(list(R_S)) == 2**(len(script_A_dict)-1))"
   ]
  },
  {
   "cell_type": "code",
   "execution_count": null,
   "metadata": {},
   "outputs": [],
   "source": []
  },
  {
   "cell_type": "code",
   "execution_count": null,
   "metadata": {},
   "outputs": [],
   "source": []
  },
  {
   "cell_type": "code",
   "execution_count": null,
   "metadata": {},
   "outputs": [],
   "source": []
  },
  {
   "cell_type": "code",
   "execution_count": null,
   "metadata": {},
   "outputs": [],
   "source": []
  },
  {
   "cell_type": "code",
   "execution_count": 56,
   "metadata": {},
   "outputs": [],
   "source": [
    "H_subspace_LCU_Ronly = R_LCU_op * ham_full_open_F * hermitian_conjugated(R_LCU_op)\n",
    "\n",
    "R_SeqRot  = reduce(lambda x,y: x*y, R_sk_OP_list) \n",
    "H_subspace_SEQ_Ronly = R_SeqRot * ham_full_open_F * hermitian_conjugated(R_SeqRot)"
   ]
  },
  {
   "cell_type": "code",
   "execution_count": 57,
   "metadata": {},
   "outputs": [
    {
     "name": "stdout",
     "output_type": "stream",
     "text": [
      "SEQ 25\n",
      "LCU 26\n"
     ]
    }
   ],
   "source": [
    "counter=0\n",
    "for Pword, coeff in H_subspace_SEQ_Ronly.terms.items():\n",
    "    if coeff.real<1e-9:\n",
    "        counter+=1\n",
    "print(f'SEQ {counter}')\n",
    "\n",
    "counter=0\n",
    "for Pword, coeff in H_subspace_LCU_Ronly.terms.items():\n",
    "    if coeff.real<1e-9:\n",
    "        counter+=1\n",
    "print(f'LCU {counter}')"
   ]
  },
  {
   "cell_type": "code",
   "execution_count": 58,
   "metadata": {},
   "outputs": [],
   "source": [
    "ham_CON_open_F = conv_scr.Get_Openfermion_Hamiltonian(Con_H)\n",
    "Hcon_subspace_LCU_Ronly = R_LCU_op * ham_CON_open_F * hermitian_conjugated(R_LCU_op)\n",
    "Hcon_subspace_SEQ_Ronly = R_SeqRot * ham_CON_open_F * hermitian_conjugated(R_SeqRot)"
   ]
  },
  {
   "cell_type": "code",
   "execution_count": 59,
   "metadata": {},
   "outputs": [
    {
     "name": "stdout",
     "output_type": "stream",
     "text": [
      "SEQ 13\n",
      "16\n",
      "LCU 13\n",
      "16\n"
     ]
    }
   ],
   "source": [
    "counter=0\n",
    "for Pword, coeff in Hcon_subspace_LCU_Ronly.terms.items():\n",
    "    if coeff.real<1e-9:\n",
    "        counter+=1\n",
    "print(f'SEQ {counter}')\n",
    "print(len(list(Hcon_subspace_LCU_Ronly)))\n",
    "\n",
    "counter=0\n",
    "for Pword, coeff in Hcon_subspace_SEQ_Ronly.terms.items():\n",
    "    if coeff.real<1e-9:\n",
    "        counter+=1\n",
    "print(f'LCU {counter}')\n",
    "print(len(list(Hcon_subspace_SEQ_Ronly)))"
   ]
  },
  {
   "cell_type": "code",
   "execution_count": 60,
   "metadata": {},
   "outputs": [
    {
     "name": "stdout",
     "output_type": "stream",
     "text": [
      "14\n"
     ]
    },
    {
     "data": {
      "text/plain": [
       "4"
      ]
     },
     "execution_count": 60,
     "metadata": {},
     "output_type": "execute_result"
    }
   ],
   "source": [
    "print(len(list(ham_full_open_F)))\n",
    "len(list(ham_CON_open_F))"
   ]
  }
 ],
 "metadata": {
  "kernelspec": {
   "display_name": "Python 3",
   "language": "python",
   "name": "python3"
  },
  "language_info": {
   "codemirror_mode": {
    "name": "ipython",
    "version": 3
   },
   "file_extension": ".py",
   "mimetype": "text/x-python",
   "name": "python",
   "nbconvert_exporter": "python",
   "pygments_lexer": "ipython3",
   "version": "3.8.5"
  }
 },
 "nbformat": 4,
 "nbformat_minor": 2
}
