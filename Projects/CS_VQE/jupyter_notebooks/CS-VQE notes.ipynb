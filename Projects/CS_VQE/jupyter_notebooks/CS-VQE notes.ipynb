{
 "cells": [
  {
   "cell_type": "code",
   "execution_count": 1,
   "metadata": {},
   "outputs": [],
   "source": [
    "import numpy as np\n",
    "import cs_vqe as c\n",
    "import ast\n",
    "import os\n",
    "\n",
    "from openfermion import qubit_operator_sparse\n",
    "import conversion_scripts as conv_scr\n",
    "import scipy as sp"
   ]
  },
  {
   "cell_type": "code",
   "execution_count": 2,
   "metadata": {},
   "outputs": [],
   "source": [
    "from openfermion import qubit_operator_sparse\n",
    "import conversion_scripts as conv_scr\n",
    "from openfermion.ops import QubitOperator"
   ]
  },
  {
   "cell_type": "code",
   "execution_count": 3,
   "metadata": {},
   "outputs": [],
   "source": [
    "# with open(\"hamiltonians.txt\", 'r') as input_file:\n",
    "#     hamiltonians = ast.literal_eval(input_file.read())\n",
    "    \n",
    "working_dir = os.getcwd()\n",
    "data_dir = os.path.join(working_dir, 'data')\n",
    "data_hamiltonians_file = os.path.join(data_dir, 'hamiltonians.txt')\n",
    "\n",
    "\n",
    "with open(data_hamiltonians_file, 'r') as input_file:\n",
    "    hamiltonians = ast.literal_eval(input_file.read())"
   ]
  },
  {
   "cell_type": "code",
   "execution_count": 4,
   "metadata": {},
   "outputs": [
    {
     "name": "stdout",
     "output_type": "stream",
     "text": [
      "H2-S1_STO-3G_singlet          n_qubits:  18   \n",
      "C1-O1_STO-3G_singlet          n_qubits:  16   \n",
      "H1-Cl1_STO-3G_singlet         n_qubits:  16   \n",
      "H1-Na1_STO-3G_singlet         n_qubits:  16   \n",
      "H2-Mg1_STO-3G_singlet         n_qubits:  17   \n",
      "H1-F1_3-21G_singlet           n_qubits:  18   \n",
      "H1-Li1_3-21G_singlet          n_qubits:  18   \n",
      "Be1_STO-3G_singlet            n_qubits:  5    \n",
      "H1-F1_STO-3G_singlet          n_qubits:  8    \n",
      "H1-Li1_STO-3G_singlet         n_qubits:  8    \n",
      "Ar1_STO-3G_singlet            n_qubits:  13   \n",
      "F2_STO-3G_singlet             n_qubits:  15   \n",
      "H1-O1_STO-3G_singlet          n_qubits:  8    \n",
      "H2-Be1_STO-3G_singlet         n_qubits:  9    \n",
      "H2-O1_STO-3G_singlet          n_qubits:  10   \n",
      "H2_3-21G_singlet              n_qubits:  5    \n",
      "H2_6-31G_singlet              n_qubits:  5    \n",
      "H3-N1_STO-3G_singlet          n_qubits:  13   \n",
      "H4-C1_STO-3G_singlet          n_qubits:  14   \n",
      "Mg1_STO-3G_singlet            n_qubits:  13   \n",
      "N2_STO-3G_singlet             n_qubits:  15   \n",
      "Ne1_STO-3G_singlet            n_qubits:  5    \n",
      "O2_STO-3G_singlet             n_qubits:  15   \n",
      "H1-Li1-O1_STO-3G_singlet      n_qubits:  18   \n",
      "H1-He1_STO-3G_singlet         n_qubits:  2    \n",
      "H3_STO-3G_singlet_1+          n_qubits:  3    \n",
      "H1-He1_3-21G_singlet_1+       n_qubits:  6    \n",
      "H3_3-21G_singlet_1+           n_qubits:  9    \n",
      "H4-N1_STO-3G_singlet_1+       n_qubits:  14   \n"
     ]
    }
   ],
   "source": [
    "for key in hamiltonians.keys():\n",
    "    print(f\"{key: <25}     n_qubits:  {hamiltonians[key][1]:<5.0f}\")"
   ]
  },
  {
   "cell_type": "code",
   "execution_count": 5,
   "metadata": {},
   "outputs": [
    {
     "data": {
      "text/plain": [
       "{'IIIII': 1.5293465322243227,\n",
       " 'IIIIZ': -0.272118136451076,\n",
       " 'IIIYY': -0.054942371399896106,\n",
       " 'IIIZI': -0.272118136451076,\n",
       " 'IIIZZ': 0.27932036412726724,\n",
       " 'IIXZZ': 0.02839187635882136,\n",
       " 'IIZII': -0.4055198682337698,\n",
       " 'IIZIZ': -0.018268981063105066,\n",
       " 'IIZXZ': -0.03738940915377441,\n",
       " 'IIZZI': -0.029919945771762033,\n",
       " 'IIZZX': 0.0630080420394397,\n",
       " 'IXIYY': 0.01978010056877635,\n",
       " 'IXIZZ': -0.00039289419593739876,\n",
       " 'IXXYY': -0.019724560280490088,\n",
       " 'IXXZZ': 0.009055897238770372,\n",
       " 'IXYYI': -0.005056211084212929,\n",
       " 'IXYYX': 0.019724560280490088,\n",
       " 'IXZZI': -0.00039289419593739876,\n",
       " 'IXZZX': 0.005140813195008357,\n",
       " 'IYIIY': 0.005140813195008357,\n",
       " 'IYIXY': -0.01978010056877635,\n",
       " 'IYXIY': 0.005056211084212929,\n",
       " 'IYXXY': 0.019724560280490088,\n",
       " 'IYYII': -0.009055897238770372,\n",
       " 'IYYIX': -0.005056211084212929,\n",
       " 'IYYXI': 0.005056211084212929,\n",
       " 'IYYXX': -0.019724560280490088,\n",
       " 'IZIII': -0.4055198682337698,\n",
       " 'IZIIZ': -0.029919945771762033,\n",
       " 'IZIXZ': -0.0630080420394397,\n",
       " 'IZIZI': -0.018268981063105066,\n",
       " 'IZIZX': 0.03738940915377441,\n",
       " 'IZXIZ': -0.060204123414570605,\n",
       " 'IZXZI': -0.040031128649856855,\n",
       " 'IZXZZ': 0.051839034974121345,\n",
       " 'IZZII': 0.2826730025779857,\n",
       " 'IZZIX': 0.012196319613897683,\n",
       " 'IZZXI': -0.012196319613897683,\n",
       " 'IZZXZ': 0.08820113157758526,\n",
       " 'IZZZX': -0.08820113157758526,\n",
       " 'XIIYY': -0.03469095413076054,\n",
       " 'XIIZZ': 0.03137552498914712,\n",
       " 'XIXYY': -0.01978010056877635,\n",
       " 'XIXZZ': 0.00039289419593739876,\n",
       " 'XIYYI': 0.005140813195008357,\n",
       " 'XIYYX': 0.01978010056877635,\n",
       " 'XIZZI': 0.03137552498914712,\n",
       " 'XIZZX': -0.030674843969878216,\n",
       " 'XXIZZ': -0.028391876358821354,\n",
       " 'XXZIZ': 0.040031128649856855,\n",
       " 'XXZZI': 0.060204123414570605,\n",
       " 'XXZZZ': -0.05183903497412129,\n",
       " 'XYYII': -0.03339245931519466,\n",
       " 'XZIIZ': 0.03137552498914712,\n",
       " 'XZIXZ': 0.030674843969878216,\n",
       " 'XZXIZ': 0.00039289419593739876,\n",
       " 'XZXXZ': 0.005140813195008357,\n",
       " 'XZZII': 0.03137552498914712,\n",
       " 'XZZIX': -0.030674843969878216,\n",
       " 'XZZXI': 0.030674843969878216,\n",
       " 'XZZXX': 0.03469095413076054,\n",
       " 'YIIIY': -0.030674843969878216,\n",
       " 'YIIXY': 0.03469095413076054,\n",
       " 'YIXIY': -0.02041759246647393,\n",
       " 'YIXXY': 0.01978010056877635,\n",
       " 'YIYII': -0.00039289419593739876,\n",
       " 'YIYIX': 0.02041759246647393,\n",
       " 'YIYXI': -0.005140813195008357,\n",
       " 'YIYXX': -0.01978010056877635,\n",
       " 'YXYII': 0.03339245931519466,\n",
       " 'YYIZZ': -0.028391876358821354,\n",
       " 'YYZIZ': 0.040031128649856855,\n",
       " 'YYZZI': 0.060204123414570605,\n",
       " 'YYZZZ': -0.05183903497412129,\n",
       " 'YZIYZ': 0.030674843969878216,\n",
       " 'YZIZY': -0.030674843969878216,\n",
       " 'YZXYZ': 0.005140813195008357,\n",
       " 'YZXZY': -0.02041759246647393,\n",
       " 'YZYZI': -0.00039289419593739876,\n",
       " 'YZYZX': 0.02041759246647393,\n",
       " 'YZZYI': 0.030674843969878216,\n",
       " 'YZZYX': 0.03469095413076054,\n",
       " 'ZIIII': -1.0457075312510897,\n",
       " 'ZIIIZ': 0.07172093412363195,\n",
       " 'ZIIXZ': -0.0630080420394397,\n",
       " 'ZIIZI': 0.046085877231641814,\n",
       " 'ZIIZX': 0.03738940915377441,\n",
       " 'ZIXIZ': 0.060204123414570605,\n",
       " 'ZIXZI': 0.040031128649856855,\n",
       " 'ZIXZZ': -0.051839034974121345,\n",
       " 'ZIZII': 0.22102802962140775,\n",
       " 'ZIZIX': 0.012196319613897683,\n",
       " 'ZIZXI': -0.012196319613897683,\n",
       " 'ZIZXZ': 0.08820113157758526,\n",
       " 'ZIZZX': -0.08820113157758526,\n",
       " 'ZXIIZ': -0.00039289419593739876,\n",
       " 'ZXIXZ': -0.02041759246647393,\n",
       " 'ZXXIZ': 0.009055897238770372,\n",
       " 'ZXXXZ': -0.005056211084212929,\n",
       " 'ZXZII': -0.00039289419593739876,\n",
       " 'ZXZIX': 0.005140813195008357,\n",
       " 'ZXZXI': -0.02041759246647393,\n",
       " 'ZXZXX': -0.01978010056877635,\n",
       " 'ZYIYZ': -0.02041759246647393,\n",
       " 'ZYIZY': 0.005140813195008357,\n",
       " 'ZYXYZ': -0.005056211084212929,\n",
       " 'ZYXZY': 0.005056211084212929,\n",
       " 'ZYYZI': -0.009055897238770372,\n",
       " 'ZYYZX': -0.005056211084212929,\n",
       " 'ZYZYI': -0.02041759246647393,\n",
       " 'ZYZYX': -0.01978010056877635,\n",
       " 'ZZIII': -0.023944583946336667,\n",
       " 'ZZIIZ': 0.6881071820915262,\n",
       " 'ZZIYY': -0.054942371399896106,\n",
       " 'ZZIZI': 0.6881071820915261,\n",
       " 'ZZIZZ': -0.2665225256524458,\n",
       " 'ZZXZZ': -0.02839187635882136,\n",
       " 'ZZZII': -1.0457075312510897,\n",
       " 'ZZZIZ': 0.046085877231641814,\n",
       " 'ZZZXZ': -0.03738940915377441,\n",
       " 'ZZZZI': 0.07172093412363195,\n",
       " 'ZZZZX': 0.0630080420394397}"
      ]
     },
     "execution_count": 5,
     "metadata": {},
     "output_type": "execute_result"
    }
   ],
   "source": [
    "mol_key = 'H2_6-31G_singlet'  \n",
    "# mol_key ='H2-O1_STO-3G_singlet'\n",
    "\n",
    "\n",
    "# currently index 2 is contextual part\n",
    "# ''''''''''''''''3 is NON contextual part\n",
    "\n",
    "# join together for full Hamiltonian:\n",
    "ham = hamiltonians[mol_key][2]\n",
    "ham.update(hamiltonians[mol_key][3]) # full H \n",
    "ham"
   ]
  },
  {
   "cell_type": "code",
   "execution_count": 6,
   "metadata": {},
   "outputs": [
    {
     "name": "stdout",
     "output_type": "stream",
     "text": [
      "n_qubits:  5\n"
     ]
    }
   ],
   "source": [
    "print(f\"n_qubits:  {hamiltonians[mol_key][1]}\")"
   ]
  },
  {
   "cell_type": "markdown",
   "metadata": {},
   "source": [
    "# Get non-contextual H"
   ]
  },
  {
   "cell_type": "code",
   "execution_count": 7,
   "metadata": {},
   "outputs": [],
   "source": [
    "nonH_guesses = c.greedy_dfs(ham, 10, criterion='weight')\n",
    "\n",
    "nonH = max(nonH_guesses, key=lambda x:len(x)) # largest nonCon part found by dfs alg"
   ]
  },
  {
   "cell_type": "code",
   "execution_count": null,
   "metadata": {},
   "outputs": [],
   "source": []
  },
  {
   "cell_type": "markdown",
   "metadata": {},
   "source": [
    "Split into:\n",
    "\n",
    "$$H = H_{c} + H_{nc}$$"
   ]
  },
  {
   "cell_type": "code",
   "execution_count": 8,
   "metadata": {
    "code_folding": [
     4
    ]
   },
   "outputs": [],
   "source": [
    "nonCon_H = {}\n",
    "Con_H = {}\n",
    "\n",
    "for P in ham:\n",
    "    if P in nonH:\n",
    "        nonCon_H[P]=ham[P]\n",
    "    else:\n",
    "        Con_H[P]=ham[P]\n",
    "        "
   ]
  },
  {
   "cell_type": "markdown",
   "metadata": {},
   "source": [
    "## Testing contextuality"
   ]
  },
  {
   "cell_type": "code",
   "execution_count": 9,
   "metadata": {},
   "outputs": [
    {
     "name": "stdout",
     "output_type": "stream",
     "text": [
      "Is NONcontextual correct: True\n",
      "Is contextual correct: True\n"
     ]
    }
   ],
   "source": [
    "print('Is NONcontextual correct:', not c.contextualQ_ham(nonCon_H))\n",
    "print('Is contextual correct:',c.contextualQ_ham(Con_H))"
   ]
  },
  {
   "cell_type": "markdown",
   "metadata": {},
   "source": [
    "# Classical part of problem!"
   ]
  },
  {
   "cell_type": "markdown",
   "metadata": {},
   "source": [
    "Take $H_{nc}$ and split into:\n",
    "- $Z$ = operators that completely comute with all operators in $S$\n",
    "- $T$ = remaining operators in $S$\n",
    "    - where $S = Z \\cup T$  and $S$ is set of Pauli operators in $H_{nc}$\n",
    "    \n",
    "    \n",
    "- We then split the set $T$ into cliques $C_{1}, C_{2}, ... , C_{|T|}$\n",
    "    - all ops in a clique commute\n",
    "    - ops between cliques anti-commute!"
   ]
  },
  {
   "cell_type": "code",
   "execution_count": 10,
   "metadata": {},
   "outputs": [],
   "source": [
    "bool_flag, Z_list, T_list = c.contextualQ(list(nonCon_H.keys()), verbose=True)"
   ]
  },
  {
   "cell_type": "code",
   "execution_count": 11,
   "metadata": {},
   "outputs": [
    {
     "data": {
      "text/plain": [
       "['IIIII',\n",
       " 'IIIIZ',\n",
       " 'IIZII',\n",
       " 'IIZIZ',\n",
       " 'IZIII',\n",
       " 'IZIIZ',\n",
       " 'IZZII',\n",
       " 'ZIIII',\n",
       " 'ZIIIZ',\n",
       " 'ZIZII',\n",
       " 'ZZIII',\n",
       " 'ZZIIZ',\n",
       " 'ZZZII',\n",
       " 'ZZZIZ']"
      ]
     },
     "execution_count": 11,
     "metadata": {},
     "output_type": "execute_result"
    }
   ],
   "source": [
    "Z_list"
   ]
  },
  {
   "cell_type": "code",
   "execution_count": 12,
   "metadata": {},
   "outputs": [
    {
     "data": {
      "text/plain": [
       "['IIIZI',\n",
       " 'IIIZZ',\n",
       " 'IIZXZ',\n",
       " 'IIZZI',\n",
       " 'IZIXZ',\n",
       " 'IZIZI',\n",
       " 'IZZXI',\n",
       " 'IZZXZ',\n",
       " 'ZIIXZ',\n",
       " 'ZIIZI',\n",
       " 'ZIZXI',\n",
       " 'ZIZXZ',\n",
       " 'ZZIZI',\n",
       " 'ZZIZZ',\n",
       " 'ZZZXZ',\n",
       " 'ZZZZI']"
      ]
     },
     "execution_count": 12,
     "metadata": {},
     "output_type": "execute_result"
    }
   ],
   "source": [
    "T_list"
   ]
  },
  {
   "cell_type": "markdown",
   "metadata": {},
   "source": [
    "## Get quasi model\n",
    "\n",
    "First we define\n",
    "\n",
    "- $C_{i1}$ = first Pauli in each $C_{i}$ set\n",
    "- $A_{ij} = C_{ij}C_{1i}$\n",
    "\n",
    "\n",
    "- $G^{prime} = \\{1 P_{i} \\;| \\; i=1,2,...,|Z| \\}$\n",
    "    - aka all the completely commuting terms with coefficients set to +1!\n",
    "\n",
    "- We define G to be an independent set of $G^{prime}$\n",
    "    - where $G \\subseteq G^{prime}$\n"
   ]
  },
  {
   "cell_type": "code",
   "execution_count": 13,
   "metadata": {},
   "outputs": [],
   "source": [
    "G_list, Ci1_list, all_mappings = c.quasi_model(nonCon_H)"
   ]
  },
  {
   "cell_type": "code",
   "execution_count": 14,
   "metadata": {},
   "outputs": [
    {
     "name": "stdout",
     "output_type": "stream",
     "text": [
      "non-independent Z list: ['IIIII', 'IIIIZ', 'IIZII', 'IIZIZ', 'IZIII', 'IZIIZ', 'IZZII', 'ZIIII', 'ZIIIZ', 'ZIZII', 'ZZIII', 'ZZIIZ', 'ZZZII', 'ZZZIZ']\n",
      "G (independent) Z list: ['ZIIII', 'IZIII', 'IIZII', 'IIIIZ']\n"
     ]
    }
   ],
   "source": [
    "print('non-independent Z list:', Z_list)\n",
    "print('G (independent) Z list:', G_list)"
   ]
  },
  {
   "cell_type": "code",
   "execution_count": 15,
   "metadata": {},
   "outputs": [
    {
     "name": "stdout",
     "output_type": "stream",
     "text": [
      "all Ci1 terms: ['IIIZI', 'IIZXZ']\n"
     ]
    }
   ],
   "source": [
    "print('all Ci1 terms:', Ci1_list)"
   ]
  },
  {
   "cell_type": "markdown",
   "metadata": {},
   "source": [
    "$$R = G \\cup \\{ C_{i1} \\;| \\; i=1,2,...,N \\}$$"
   ]
  },
  {
   "cell_type": "code",
   "execution_count": 16,
   "metadata": {},
   "outputs": [
    {
     "data": {
      "text/plain": [
       "{'IIIII': [[], [], 1],\n",
       " 'IIIIZ': [['IIIIZ'], [], 1],\n",
       " 'IIIZI': [[], ['IIIZI'], 1],\n",
       " 'IIIZZ': [['IIIIZ'], ['IIIZI'], 1],\n",
       " 'IIZII': [['IIZII'], [], 1],\n",
       " 'IIZIZ': [['IIZII', 'IIIIZ'], [], 1],\n",
       " 'IIZXZ': [[], ['IIZXZ'], 1],\n",
       " 'IIZZI': [['IIZII'], ['IIIZI'], 1],\n",
       " 'IZIII': [['IZIII'], [], 1],\n",
       " 'IZIIZ': [['IZIII', 'IIIIZ'], [], 1],\n",
       " 'IZIXZ': [['IZIII', 'IIZII'], ['IIZXZ'], 1],\n",
       " 'IZIZI': [['IZIII'], ['IIIZI'], 1],\n",
       " 'IZZII': [['IZIII', 'IIZII'], [], 1],\n",
       " 'IZZXI': [['IZIII', 'IIIIZ'], ['IIZXZ'], 1],\n",
       " 'IZZXZ': [['IZIII'], ['IIZXZ'], 1],\n",
       " 'ZIIII': [['ZIIII'], [], 1],\n",
       " 'ZIIIZ': [['ZIIII', 'IIIIZ'], [], 1],\n",
       " 'ZIIXZ': [['ZIIII', 'IIZII'], ['IIZXZ'], 1],\n",
       " 'ZIIZI': [['ZIIII'], ['IIIZI'], 1],\n",
       " 'ZIZII': [['ZIIII', 'IIZII'], [], 1],\n",
       " 'ZIZXI': [['ZIIII', 'IIIIZ'], ['IIZXZ'], 1],\n",
       " 'ZIZXZ': [['ZIIII'], ['IIZXZ'], 1],\n",
       " 'ZZIII': [['ZIIII', 'IZIII'], [], 1],\n",
       " 'ZZIIZ': [['ZIIII', 'IZIII', 'IIIIZ'], [], 1],\n",
       " 'ZZIZI': [['ZIIII', 'IZIII'], ['IIIZI'], 1],\n",
       " 'ZZIZZ': [['ZIIII', 'IZIII', 'IIIIZ'], ['IIIZI'], 1],\n",
       " 'ZZZII': [['ZIIII', 'IZIII', 'IIZII'], [], 1],\n",
       " 'ZZZIZ': [['ZIIII', 'IZIII', 'IIZII', 'IIIIZ'], [], 1],\n",
       " 'ZZZXZ': [['ZIIII', 'IZIII'], ['IIZXZ'], 1],\n",
       " 'ZZZZI': [['ZIIII', 'IZIII', 'IIZII'], ['IIIZI'], 1]}"
      ]
     },
     "execution_count": 16,
     "metadata": {},
     "output_type": "execute_result"
    }
   ],
   "source": [
    "# Assemble all the mappings from terms in the Hamiltonian to their products in R:\n",
    "all_mappings"
   ]
  },
  {
   "cell_type": "markdown",
   "metadata": {},
   "source": [
    "Overall $R$ is basically reduced non-contextual set\n",
    "- where everything in original non-contextual set can be found by **inference!**"
   ]
  },
  {
   "cell_type": "code",
   "execution_count": null,
   "metadata": {},
   "outputs": [],
   "source": []
  },
  {
   "cell_type": "markdown",
   "metadata": {},
   "source": [
    "# Function form\n",
    "\n",
    "$$R = G \\cup \\{ C_{i1} \\;| \\; i=1,2,...,N \\}$$\n",
    "\n",
    "- note q to do with $G$\n",
    "- note r to do with $C_{i1}$"
   ]
  },
  {
   "cell_type": "code",
   "execution_count": 17,
   "metadata": {},
   "outputs": [],
   "source": [
    "model = [G_list, Ci1_list, all_mappings]\n",
    "\n",
    "fn_form = c.energy_function_form(nonCon_H, model)\n",
    "\n",
    "# returns [\n",
    "#            denstion of q,\n",
    "#            dimension of r,\n",
    "#            [coeff, indices of q's, indices of r's, term in Hamiltonian]\n",
    "#         ]\n"
   ]
  },
  {
   "cell_type": "code",
   "execution_count": 18,
   "metadata": {},
   "outputs": [
    {
     "data": {
      "text/plain": [
       "[4,\n",
       " 2,\n",
       " [[1.5293465322243227, [], [], 'IIIII'],\n",
       "  [-0.272118136451076, [3], [], 'IIIIZ'],\n",
       "  [-0.272118136451076, [], [0], 'IIIZI'],\n",
       "  [0.27932036412726724, [3], [0], 'IIIZZ'],\n",
       "  [-0.4055198682337698, [2], [], 'IIZII'],\n",
       "  [-0.018268981063105066, [2, 3], [], 'IIZIZ'],\n",
       "  [-0.03738940915377441, [], [1], 'IIZXZ'],\n",
       "  [-0.029919945771762033, [2], [0], 'IIZZI'],\n",
       "  [-0.4055198682337698, [1], [], 'IZIII'],\n",
       "  [-0.029919945771762033, [1, 3], [], 'IZIIZ'],\n",
       "  [-0.0630080420394397, [1, 2], [1], 'IZIXZ'],\n",
       "  [-0.018268981063105066, [1], [0], 'IZIZI'],\n",
       "  [0.2826730025779857, [1, 2], [], 'IZZII'],\n",
       "  [-0.012196319613897683, [1, 3], [1], 'IZZXI'],\n",
       "  [0.08820113157758526, [1], [1], 'IZZXZ'],\n",
       "  [-1.0457075312510897, [0], [], 'ZIIII'],\n",
       "  [0.07172093412363195, [0, 3], [], 'ZIIIZ'],\n",
       "  [-0.0630080420394397, [0, 2], [1], 'ZIIXZ'],\n",
       "  [0.046085877231641814, [0], [0], 'ZIIZI'],\n",
       "  [0.22102802962140775, [0, 2], [], 'ZIZII'],\n",
       "  [-0.012196319613897683, [0, 3], [1], 'ZIZXI'],\n",
       "  [0.08820113157758526, [0], [1], 'ZIZXZ'],\n",
       "  [-0.023944583946336667, [0, 1], [], 'ZZIII'],\n",
       "  [0.6881071820915262, [0, 1, 3], [], 'ZZIIZ'],\n",
       "  [0.6881071820915261, [0, 1], [0], 'ZZIZI'],\n",
       "  [-0.2665225256524458, [0, 1, 3], [0], 'ZZIZZ'],\n",
       "  [-1.0457075312510897, [0, 1, 2], [], 'ZZZII'],\n",
       "  [0.046085877231641814, [0, 1, 2, 3], [], 'ZZZIZ'],\n",
       "  [-0.03738940915377441, [0, 1], [1], 'ZZZXZ'],\n",
       "  [0.07172093412363195, [0, 1, 2], [0], 'ZZZZI']]]"
      ]
     },
     "execution_count": 18,
     "metadata": {},
     "output_type": "execute_result"
    }
   ],
   "source": [
    "fn_form"
   ]
  },
  {
   "cell_type": "code",
   "execution_count": 19,
   "metadata": {},
   "outputs": [],
   "source": [
    "Energy_function = c.energy_function(fn_form)"
   ]
  },
  {
   "cell_type": "code",
   "execution_count": 20,
   "metadata": {},
   "outputs": [
    {
     "data": {
      "text/plain": [
       "(1.0, -0.0, -0.0, -0.0, 0.0)"
      ]
     },
     "execution_count": 20,
     "metadata": {},
     "output_type": "execute_result"
    }
   ],
   "source": [
    "import random\n",
    "\n",
    "### now for the q terms we only have +1 or -1 assignment!\n",
    "q_variables = [random.choice([1,-1]) for _ in range(fn_form[0])]\n",
    "\n",
    "\n",
    "### r variables is anything that makes up unit vector!\n",
    "r_variables = c.angular(np.arange(0,2*np.pi, fn_form[1]))\n",
    "r_variables"
   ]
  },
  {
   "cell_type": "code",
   "execution_count": 21,
   "metadata": {},
   "outputs": [
    {
     "data": {
      "text/plain": [
       "-0.2112821266871156"
      ]
     },
     "execution_count": 21,
     "metadata": {},
     "output_type": "execute_result"
    }
   ],
   "source": [
    " Energy_function(*q_variables,*r_variables)"
   ]
  },
  {
   "cell_type": "markdown",
   "metadata": {},
   "source": [
    "find_gs_nonconfunction optimizes above steps by:\n",
    "1. brute forcing all choices of ```q_variables```\n",
    "    - ```itertools.product([1,-1],repeat=fn_form[0])```\n",
    "2. optimizing over ```r_variables``` (in code ```x```)\n",
    "    - using SciPy optimizer!"
   ]
  },
  {
   "cell_type": "code",
   "execution_count": 22,
   "metadata": {},
   "outputs": [
    {
     "name": "stdout",
     "output_type": "stream",
     "text": [
      "-1.8517678403392313\n",
      "[[1, 1, 1, -1], [-1.0, -4.388077644981462e-11]]\n"
     ]
    }
   ],
   "source": [
    "model = [G_list, Ci1_list, all_mappings]\n",
    "\n",
    "lowest_eigenvalue, ground_state_params, model_copy, fn_form_copy,  = c.find_gs_noncon(nonCon_H,\n",
    "               method = 'differential_evolution',\n",
    "               model=model,\n",
    "               fn_form=fn_form) # returns:  best + [model, fn_form]\n",
    "\n",
    "print(lowest_eigenvalue)\n",
    "print(ground_state_params)"
   ]
  },
  {
   "cell_type": "code",
   "execution_count": 23,
   "metadata": {},
   "outputs": [
    {
     "data": {
      "text/plain": [
       "True"
      ]
     },
     "execution_count": 23,
     "metadata": {},
     "output_type": "execute_result"
    }
   ],
   "source": [
    "## check\n",
    "Energy_function(*ground_state_params[0],*ground_state_params[1]) == lowest_eigenvalue"
   ]
  },
  {
   "cell_type": "code",
   "execution_count": null,
   "metadata": {},
   "outputs": [],
   "source": []
  },
  {
   "cell_type": "markdown",
   "metadata": {},
   "source": [
    "# Now need to rotate Hamiltonian!"
   ]
  },
  {
   "cell_type": "markdown",
   "metadata": {},
   "source": [
    "We now have non contextual ground state: $(\\vec{q}, \\vec{r})$"
   ]
  },
  {
   "cell_type": "code",
   "execution_count": 24,
   "metadata": {},
   "outputs": [
    {
     "data": {
      "text/plain": [
       "[[1, 1, 1, -1], [-1.0, -4.388077644981462e-11]]"
      ]
     },
     "execution_count": 24,
     "metadata": {},
     "output_type": "execute_result"
    }
   ],
   "source": [
    "ground_state_params"
   ]
  },
  {
   "cell_type": "markdown",
   "metadata": {},
   "source": [
    "We can use this result - ground state of $H_{nc}$ -  as a classical estiamte of our ground state of the full Hamiltonian ($H = H_{c} + H_{nc}$)\n",
    "\n",
    "However we can also obtain a quantum correction using $H_{c}$\n",
    "\n",
    "By minimizing theenergy of the remaining terms in the Hamiltonian over the quantum states that are **consistent with the noncon-textual ground state**."
   ]
  },
  {
   "cell_type": "code",
   "execution_count": null,
   "metadata": {},
   "outputs": [],
   "source": []
  },
  {
   "cell_type": "code",
   "execution_count": null,
   "metadata": {},
   "outputs": [],
   "source": []
  },
  {
   "cell_type": "markdown",
   "metadata": {},
   "source": [
    "To do this we first rotate each $G_{j}$ and $\\mathcal{A} = \\sum_{i=1}^{N} r_{i}A_{i}$:"
   ]
  },
  {
   "cell_type": "code",
   "execution_count": 25,
   "metadata": {},
   "outputs": [
    {
     "name": "stdout",
     "output_type": "stream",
     "text": [
      "['ZIIII', 'IZIII', 'IIZII', 'IIIIZ']\n",
      "['IIIZI', 'IIZXZ']\n"
     ]
    }
   ],
   "source": [
    "model = [G_list, Ci1_list, all_mappings]\n",
    "\n",
    "print(G_list) # G_j terms!\n",
    "print(Ci1_list) # mathcal(A)"
   ]
  },
  {
   "cell_type": "markdown",
   "metadata": {},
   "source": [
    "to SINGLE QUBIT pauli Z operators!\n",
    "\n",
    "- to map the operators in $G$ to single qubit Pauli operators, we use $\\frac{\\pi}{2}$ rotations!\n",
    "\n",
    "- note $\\mathcal{A}$ is an anti-commuting set... therefore we can use $N-1$ rotations as in unitary partitioning's sequence of rotations to do this!\n",
    "    - $R^{\\dagger}\\mathcal{A} R = \\text{single Pauli op}$"
   ]
  },
  {
   "cell_type": "code",
   "execution_count": null,
   "metadata": {},
   "outputs": [],
   "source": []
  },
  {
   "cell_type": "markdown",
   "metadata": {},
   "source": [
    "# Rotate full Hamiltonian to basis with diagonal noncontextual generators!"
   ]
  },
  {
   "cell_type": "markdown",
   "metadata": {},
   "source": [
    "function ```diagonalize_epistemic```:\n",
    "1. first if else statement:\n",
    "    - if cliques present:\n",
    "        - first maps A to single Pauli operator (if cliques present)\n",
    "        - then rotates to diagonlize G union with single Pauli opator of A (hence GuA name!)\n",
    "    - else if NO cliques present:\n",
    "        - gets rotations to diagonlize G\n",
    "        \n",
    "     - these rotations make up GuA term in code!\n",
    "2. NEXT code loops over terms in GuA (denoted as g in code)\n",
    "    - if g is not a single qubit $Z$:\n",
    "        - code generates code to rotate operator to make g diagonal (rotations)\n",
    "        - then constructs map of g to single Z (J rotation)\n",
    "    - Note R is applied to GuA\n",
    "    \n",
    "    \n",
    "#########\n",
    "- Note rotations are given in Appendix A of https://arxiv.org/pdf/2011.10027.pdf\n",
    "    - First code checks if g op in GuA is diagonal\n",
    "        - if so then needs to apply \"K\" rotation (involving $Y$ and $I$ operators (see pg 11 top) to make it NOT diagononal\n",
    "    - now operator will be diagnoal!\n",
    "    - next generate \"J\" rotation\n",
    "        - turns non-diagonal operator into a single qubit $Z$ operator!"
   ]
  },
  {
   "cell_type": "code",
   "execution_count": null,
   "metadata": {},
   "outputs": [],
   "source": [
    "# Get sequence of rotations requried to diagonalize the generators for the noncontextual ground state!\n",
    "\n",
    "Rotations_list, diagonalized_generators_GuA, eigen_vals_nonC_ground_state_GuA_ops = c.diagonalize_epistemic(model,\n",
    "                                                                                                            fn_form,\n",
    "                                                                                                            ground_state_params)"
   ]
  },
  {
   "cell_type": "code",
   "execution_count": null,
   "metadata": {},
   "outputs": [],
   "source": [
    "# rotations to map A to single Pauli operator!\n",
    "Rotations_list"
   ]
  },
  {
   "cell_type": "code",
   "execution_count": null,
   "metadata": {},
   "outputs": [],
   "source": [
    "# rotations to diagonlize G\n",
    "diagonalized_generators_GuA"
   ]
  },
  {
   "cell_type": "code",
   "execution_count": null,
   "metadata": {},
   "outputs": [],
   "source": [
    "eigen_vals_nonC_ground_state_GuA_ops"
   ]
  },
  {
   "cell_type": "markdown",
   "metadata": {},
   "source": [
    "# NEW LCU method"
   ]
  },
  {
   "cell_type": "code",
   "execution_count": null,
   "metadata": {},
   "outputs": [],
   "source": [
    "N_index=0\n",
    "check_reduction=True\n",
    "N_Qubits= hamiltonians[mol_key][1]\n",
    "R_LCU, Rotations_list, diagonalized_generators_GuA, eigen_vals_nonC_ground_state_GuA_ops= c.diagonalize_epistemic_LCU(\n",
    "                                                                                  model,\n",
    "                                                                                  fn_form,\n",
    "                                                                                  ground_state_params,\n",
    "                                                                                  N_Qubits,\n",
    "                                                                                  N_index,\n",
    "                                                                                  check_reduction=check_reduction)"
   ]
  },
  {
   "cell_type": "code",
   "execution_count": null,
   "metadata": {},
   "outputs": [],
   "source": [
    "R_LCU"
   ]
  },
  {
   "cell_type": "code",
   "execution_count": null,
   "metadata": {},
   "outputs": [],
   "source": [
    "order = list(range(hamiltonians[mol_key][1]))\n",
    "N_index=0\n",
    "check_reduction=True\n",
    "N_Qubits= hamiltonians[mol_key][1]\n",
    "\n",
    "reduced_H = c.get_reduced_hamiltonians_LCU(Con_H,\n",
    "                               model,\n",
    "                               fn_form,\n",
    "                               ground_state_params,\n",
    "                               order, \n",
    "                               N_Qubits,\n",
    "                               N_index, \n",
    "                               check_reduction=check_reduction)"
   ]
  },
  {
   "cell_type": "code",
   "execution_count": null,
   "metadata": {},
   "outputs": [],
   "source": [
    "len(reduced_H[-1])"
   ]
  },
  {
   "cell_type": "code",
   "execution_count": null,
   "metadata": {},
   "outputs": [],
   "source": [
    "reduced_H[3]"
   ]
  },
  {
   "cell_type": "code",
   "execution_count": null,
   "metadata": {},
   "outputs": [],
   "source": [
    "H = conv_scr.Get_Openfermion_Hamiltonian(reduced_H[-1])\n",
    "sparseH = qubit_operator_sparse(H, n_qubits=hamiltonians[mol_key][1])\n",
    "sp.sparse.linalg.eigsh(sparseH, which='SA', k=1)[0][0]"
   ]
  },
  {
   "cell_type": "code",
   "execution_count": null,
   "metadata": {},
   "outputs": [],
   "source": []
  },
  {
   "cell_type": "code",
   "execution_count": null,
   "metadata": {},
   "outputs": [],
   "source": [
    "## old way\n",
    "# Get sequence of rotations requried to diagonalize the generators for the noncontextual ground state!\n",
    "\n",
    "Rotations_list, diagonalized_generators_GuA, eigen_vals_nonC_ground_state_GuA_ops = c.diagonalize_epistemic(model,\n",
    "                                                                                                            fn_form,\n",
    "                                                                                                            ground_state_params)\n",
    "len(diagonalized_generators_GuA)\n",
    "Rotations_list"
   ]
  },
  {
   "cell_type": "code",
   "execution_count": null,
   "metadata": {},
   "outputs": [],
   "source": [
    "### old way\n",
    "order = list(range(hamiltonians[mol_key][1]))\n",
    "red_H = c.get_reduced_hamiltonians(ham,\n",
    "                           model,\n",
    "                           fn_form,\n",
    "                           ground_state_params,\n",
    "                           order)\n",
    "len(red_H[0])"
   ]
  },
  {
   "cell_type": "code",
   "execution_count": null,
   "metadata": {},
   "outputs": [],
   "source": [
    "len(red_H[0])\n",
    "red_H[0]"
   ]
  },
  {
   "cell_type": "code",
   "execution_count": null,
   "metadata": {},
   "outputs": [],
   "source": [
    "H = conv_scr.Get_Openfermion_Hamiltonian(red_H[-1])\n",
    "sparseH = qubit_operator_sparse(H, n_qubits=hamiltonians[mol_key][1])\n",
    "sp.sparse.linalg.eigsh(sparseH, which='SA', k=1)[0][0]"
   ]
  },
  {
   "cell_type": "code",
   "execution_count": 26,
   "metadata": {},
   "outputs": [
    {
     "ename": "NameError",
     "evalue": "name 'R_LCU' is not defined",
     "output_type": "error",
     "traceback": [
      "\u001b[0;31m---------------------------------------------------------------------------\u001b[0m",
      "\u001b[0;31mNameError\u001b[0m                                 Traceback (most recent call last)",
      "\u001b[0;32m<ipython-input-26-8df230ecf609>\u001b[0m in \u001b[0;36m<module>\u001b[0;34m\u001b[0m\n\u001b[1;32m      3\u001b[0m \u001b[0;34m\u001b[0m\u001b[0m\n\u001b[1;32m      4\u001b[0m \u001b[0mR_LCU_QubitOp\u001b[0m \u001b[0;34m=\u001b[0m \u001b[0mQubitOperator\u001b[0m\u001b[0;34m(\u001b[0m\u001b[0;34m)\u001b[0m\u001b[0;34m\u001b[0m\u001b[0;34m\u001b[0m\u001b[0m\n\u001b[0;32m----> 5\u001b[0;31m \u001b[0;32mfor\u001b[0m \u001b[0mP\u001b[0m \u001b[0;32min\u001b[0m \u001b[0mR_LCU\u001b[0m\u001b[0;34m:\u001b[0m \u001b[0mR_LCU_QubitOp\u001b[0m\u001b[0;34m+=\u001b[0m\u001b[0mP\u001b[0m\u001b[0;34m\u001b[0m\u001b[0;34m\u001b[0m\u001b[0m\n\u001b[0m\u001b[1;32m      6\u001b[0m \u001b[0mR_LCU_mat\u001b[0m \u001b[0;34m=\u001b[0m \u001b[0mqubit_operator_sparse\u001b[0m\u001b[0;34m(\u001b[0m\u001b[0mR_LCU_QubitOp\u001b[0m\u001b[0;34m,\u001b[0m \u001b[0mn_qubits\u001b[0m\u001b[0;34m=\u001b[0m\u001b[0mhamiltonians\u001b[0m\u001b[0;34m[\u001b[0m\u001b[0mmol_key\u001b[0m\u001b[0;34m]\u001b[0m\u001b[0;34m[\u001b[0m\u001b[0;36m1\u001b[0m\u001b[0;34m]\u001b[0m\u001b[0;34m)\u001b[0m\u001b[0;34m\u001b[0m\u001b[0;34m\u001b[0m\u001b[0m\n\u001b[1;32m      7\u001b[0m \u001b[0;34m\u001b[0m\u001b[0m\n",
      "\u001b[0;31mNameError\u001b[0m: name 'R_LCU' is not defined"
     ]
    }
   ],
   "source": [
    "from scipy.sparse.linalg import expm\n",
    "from Misc_functions import sparse_allclose\n",
    "\n",
    "R_LCU_QubitOp = QubitOperator()\n",
    "for P in R_LCU: R_LCU_QubitOp+=P\n",
    "R_LCU_mat = qubit_operator_sparse(R_LCU_QubitOp, n_qubits=hamiltonians[mol_key][1])\n",
    "\n",
    "\n",
    "\n",
    "R_SeqRot_QubitOp= conv_scr.convert_op_str(Rotations_list[0][1], 1)\n",
    "R_SeqRot_mat = qubit_operator_sparse(R_SeqRot_QubitOp, n_qubits=hamiltonians[mol_key][1])\n",
    "\n",
    "theta_sk=Rotations_list[0][0]\n",
    "exp_rot = expm(R_SeqRot_mat * theta_sk)# / 2)\n",
    "\n",
    "sparse_allclose(exp_rot, R_LCU_mat)"
   ]
  },
  {
   "cell_type": "markdown",
   "metadata": {},
   "source": [
    "# Restricting the Hamiltonian to a contextualsubspace"
   ]
  },
  {
   "cell_type": "markdown",
   "metadata": {},
   "source": [
    "(Section B of https://arxiv.org/pdf/2011.10027.pdf)\n",
    "\n",
    "In the rotated basis the Hamiltonian is restricted to the subspace stabilized by the noncontextual generators $G_{j}'$"
   ]
  },
  {
   "cell_type": "code",
   "execution_count": null,
   "metadata": {},
   "outputs": [],
   "source": [
    "print(diagonalized_generators_GuA) # G_j' terms!"
   ]
  },
  {
   "cell_type": "markdown",
   "metadata": {},
   "source": [
    "The quantum correction is then obtained by minimizing the expectation value of this resticted Hamiltonian!\n",
    "\n",
    "(over +1 eigenvectors of the remaining non-contextual generators $\\mathcal{A}'$)"
   ]
  },
  {
   "cell_type": "code",
   "execution_count": null,
   "metadata": {},
   "outputs": [],
   "source": [
    "print(Ci1_list) # mathcal(A)"
   ]
  },
  {
   "cell_type": "markdown",
   "metadata": {},
   "source": [
    "- $\\mathcal{H}_{1}$ denotes Hilbert space of $n_{1}$ qubits acted on by by the single qubit $G_{j}'$ terms\n",
    "- $\\mathcal{H}_{2}$ denotes Hilbert space of remaining $n_{2}$\n",
    "\n",
    "Overall full Hilbert space is: $\\mathcal{H}=\\mathcal{H}_{1} \\otimes \\mathcal{H}_{2}$\n",
    "\n",
    "The **contextual Hamiltonian** in this rotated basis is:\n",
    "\n",
    "$$H_{c}'=\\sum_{P \\in \\mathcal{S_{c}'}} h_{P}P$$\n",
    "\n",
    "The set of Pauli terms in $H_{c}'$ is $\\mathcal{S_{c}'}$, where terms in $\\mathcal{S_{c}'}$ act on both $\\mathcal{H}_{1}$ and $\\mathcal{H}_{2}$ subspaces in general!\n",
    "\n",
    "We can write $P$ terms as:\n",
    "\n",
    "$$P=P_{1}^{\\mathcal{H}_{1}} \\otimes P_{2}^{\\mathcal{H}_{2}}$$\n",
    "\n",
    "$P$ commutes with an element of $G'$ if and only if $P_{1} \\otimes \\mathcal{I}^{\\mathcal{H}_{2}}$ does\n",
    "\n",
    "As the generators $G'$ act only on $\\mathcal{H}_{1}$"
   ]
  },
  {
   "cell_type": "markdown",
   "metadata": {},
   "source": [
    "If $P$ anticommutes with any element of $G'$ then its expection value in the noncontextual state is zero\n",
    "\n",
    "Thus any $P$ must commute with all elements of $G'$ and so $P_{1} \\otimes \\mathcal{I}^{\\mathcal{H}_{2}}$ too\n",
    "\n",
    "As the elements of $G'$ are single-qubit Pauli $Z$ operators acting in $\\mathcal{H}_{1}$:"
   ]
  },
  {
   "cell_type": "code",
   "execution_count": null,
   "metadata": {},
   "outputs": [],
   "source": [
    "print(diagonalized_generators_GuA) # G_j' terms!"
   ]
  },
  {
   "cell_type": "markdown",
   "metadata": {},
   "source": [
    "$P_{1}$ must be a product of such operators!\n",
    "\n",
    "**As the exepcation value of $P_{1}$ is some $p_{1}= \\pm 1$ DETERMINED BY THE NONCONTEXTUAL GROUND STATE**"
   ]
  },
  {
   "cell_type": "code",
   "execution_count": null,
   "metadata": {},
   "outputs": [],
   "source": [
    "eigen_vals_nonC_ground_state_GuA_ops"
   ]
  },
  {
   "cell_type": "code",
   "execution_count": null,
   "metadata": {},
   "outputs": [],
   "source": []
  },
  {
   "cell_type": "markdown",
   "metadata": {},
   "source": [
    "Let $|\\psi_{(\\vec{q}, \\vec{r})} \\rangle$ be any quantum state consistent with the nonconxtual ground state $(\\vec{q}, \\vec{r})$... aka gives correct expection values of:"
   ]
  },
  {
   "cell_type": "code",
   "execution_count": null,
   "metadata": {},
   "outputs": [],
   "source": [
    "print(diagonalized_generators_GuA)\n",
    "print(eigen_vals_nonC_ground_state_GuA_ops)"
   ]
  },
  {
   "cell_type": "markdown",
   "metadata": {},
   "source": [
    "Then the action of any $P$ which allows our contextual correction has the form:\n",
    "\n",
    "$$P |\\psi_{(\\vec{q}, \\vec{r})} \\rangle = \\big( P_{1}^{\\mathcal{H}_{1}} \\otimes P_{2}^{\\mathcal{H}_{2}} \\big) |\\psi_{(\\vec{q}, \\vec{r})} \\rangle$$\n",
    "\n",
    "$$ = p_{1}\\big( \\mathcal{I}^{\\mathcal{H}_{1}} \\otimes P_{2}^{\\mathcal{H}_{2}} \\big) |\\psi_{(\\vec{q}, \\vec{r})} \\rangle$$\n",
    "\n",
    "- repeating above, but $p_{1}$ is the expectation value of $P_{1}$ determiend by the noncontextual ground state!"
   ]
  },
  {
   "cell_type": "code",
   "execution_count": null,
   "metadata": {},
   "outputs": [],
   "source": []
  },
  {
   "cell_type": "markdown",
   "metadata": {},
   "source": [
    "Thus we can denote $H_{c}' |_{(\\vec{q}, \\vec{r})}$ as the restriction of $H_{c}'$ on its action on the noncontextual ground state $(\\vec{q}, \\vec{r})$:\n",
    "\n",
    "$$H_{c}' |_{(\\vec{q}, \\vec{r})} =\\sum_{\\substack{P \\in \\mathcal{S_{c}'} \\\\ \\text{s.t.} [P, G_{i}']=0 \\\\ \\forall G'_{i} \\in G'}} p_{1}h_{P}\\big( \\mathcal{I}^{\\mathcal{H}_{1}} \\otimes P_{2}^{\\mathcal{H}_{2}} \\big) $$\n",
    "\n",
    "$$=\\mathcal{I}_{\\mathcal{H}_{1}} \\otimes H_{c}'|_{\\mathcal{H}_{2}} $$\n",
    "\n",
    "\n",
    "where we can write:\n",
    "$$H_{c}'|_{\\mathcal{H}_{2}} = \\sum_{\\substack{P \\in \\mathcal{S_{c}'} \\\\ \\text{s.t.} [P, G_{i}']=0 \\\\ \\forall G'_{i} \\in G'}} p_{1}h_{P}P_{2}^{\\mathcal{H}_{2}}$$\n",
    "\n",
    "\n",
    "\n",
    "Cleary this Hamiltonian on $n_{2}$ qubits is given by:\n",
    "\n",
    "$$n_{2} = n - |G|$$\n",
    "\n",
    "- $|G|=$ number of noncontextual generators $G_{j}$"
   ]
  },
  {
   "cell_type": "code",
   "execution_count": null,
   "metadata": {},
   "outputs": [],
   "source": []
  },
  {
   "cell_type": "code",
   "execution_count": null,
   "metadata": {},
   "outputs": [],
   "source": [
    "from copy import deepcopy\n",
    "import pprint "
   ]
  },
  {
   "cell_type": "markdown",
   "metadata": {},
   "source": [
    "```quantum_correction``` function"
   ]
  },
  {
   "cell_type": "code",
   "execution_count": null,
   "metadata": {},
   "outputs": [],
   "source": [
    "n_q = len(diagonalized_generators_GuA[0])\n",
    "\n",
    "rotated_H = deepcopy(ham) ##<-- full Hamiltonian\n",
    "\n",
    "# iteratively perform R rotation over all terms in orginal Hamiltonian\n",
    "for R in Rotations_list:\n",
    "    newly_rotated_H={}\n",
    "    for P in rotated_H.keys():\n",
    "        lin_comb_Rot_P = c.apply_rotation(R,P) # linear combination of Paulis from R rotation on P\n",
    "        \n",
    "        for P_rot in lin_comb_Rot_P:\n",
    "            \n",
    "            if P_rot in newly_rotated_H.keys():\n",
    "                newly_rotated_H[P_rot]+=lin_comb_Rot_P[P_rot]*rotated_H[P] # already in it hence +=\n",
    "            else:\n",
    "                newly_rotated_H[P_rot]=lin_comb_Rot_P[P_rot]*rotated_H[P]\n",
    "                \n",
    "    rotated_H = deepcopy(newly_rotated_H) ##<-- perform next R rotation on this H\n",
    "    \n",
    "rotated_H     "
   ]
  },
  {
   "cell_type": "markdown",
   "metadata": {},
   "source": [
    "next find where Z indices in $G'$"
   ]
  },
  {
   "cell_type": "code",
   "execution_count": null,
   "metadata": {},
   "outputs": [],
   "source": [
    "z_indices = []\n",
    "for d in diagonalized_generators_GuA:\n",
    "    for i in range(n_q):\n",
    "        if d[i] == 'Z':\n",
    "            z_indices.append(i)\n",
    "            \n",
    "print(diagonalized_generators_GuA)\n",
    "print(z_indices)"
   ]
  },
  {
   "cell_type": "code",
   "execution_count": null,
   "metadata": {},
   "outputs": [],
   "source": []
  },
  {
   "cell_type": "markdown",
   "metadata": {},
   "source": [
    "**The exepcation value of $P_{1}$ terms are $p_{1}= \\pm 1$ DETERMINED BY THE NONCONTEXTUAL GROUND STATE**"
   ]
  },
  {
   "cell_type": "code",
   "execution_count": null,
   "metadata": {},
   "outputs": [],
   "source": [
    "print(diagonalized_generators_GuA)\n",
    "print(eigen_vals_nonC_ground_state_GuA_ops)"
   ]
  },
  {
   "cell_type": "markdown",
   "metadata": {},
   "source": [
    "We need to ENFORCE the diagnal geneators assigned values in the diagonal basis to these expectation values above^^^"
   ]
  },
  {
   "cell_type": "code",
   "execution_count": null,
   "metadata": {},
   "outputs": [],
   "source": [
    "ham_red = {}\n",
    "    \n",
    "for P in rotated_H.keys():\n",
    "    sgn = 1\n",
    "    for j, z_index in enumerate(z_indices): # enforce diagonal generator's assigned values in diagonal basis\n",
    "        if P[z_index] == 'Z':\n",
    "            sgn = sgn*eigen_vals_nonC_ground_state_GuA_ops[j] #<- eigenvalue of nonC ground state!\n",
    "        elif P[z_index] != 'I':\n",
    "            sgn = 0\n",
    "\n",
    "    if sgn != 0:\n",
    "        # construct term in reduced Hilbert space\n",
    "        P_red = ''\n",
    "        for i in range(n_q):\n",
    "            if not i in z_indices:\n",
    "                P_red = P_red + P[i]\n",
    "        if P_red in ham_red.keys():\n",
    "            ham_red[P_red] = ham_red[P_red] + rotated_H[P]*sgn\n",
    "        else:\n",
    "            ham_red[P_red] = rotated_H[P]*sgn\n",
    "            \n",
    "ham_red"
   ]
  },
  {
   "cell_type": "code",
   "execution_count": null,
   "metadata": {},
   "outputs": [],
   "source": [
    "c.quantum_correction(ham, #<- full Ham\n",
    "                     model,\n",
    "                     fn_form,\n",
    "                     ground_state_params)"
   ]
  },
  {
   "cell_type": "code",
   "execution_count": null,
   "metadata": {},
   "outputs": [],
   "source": [
    "c.quantum_correction(nonCon_H,model,fn_form,ground_state_params)"
   ]
  },
  {
   "cell_type": "code",
   "execution_count": null,
   "metadata": {},
   "outputs": [],
   "source": [
    "c.get_reduced_hamiltonians(ham,\n",
    "                           model,\n",
    "                           fn_form,\n",
    "                           ground_state_params,\n",
    "                           list(range(hamiltonians[mol_key][1])))[-1] == rotated_H ### aka when considering all qubit problem it is equal to rotated H!"
   ]
  },
  {
   "cell_type": "markdown",
   "metadata": {},
   "source": [
    "For some reason it seems that when considering full Hamiltonian there is no reduction in the number of terms!\n",
    "\n",
    "Q. Do you expect any term reduction when doing CS-VQE?"
   ]
  },
  {
   "cell_type": "code",
   "execution_count": null,
   "metadata": {},
   "outputs": [],
   "source": [
    "n2 = hamiltonians[mol_key][1]-len(diagonalized_generators_GuA)\n",
    "n2"
   ]
  },
  {
   "cell_type": "code",
   "execution_count": null,
   "metadata": {},
   "outputs": [],
   "source": [
    "ham_red"
   ]
  },
  {
   "cell_type": "code",
   "execution_count": null,
   "metadata": {},
   "outputs": [],
   "source": []
  },
  {
   "cell_type": "code",
   "execution_count": null,
   "metadata": {},
   "outputs": [],
   "source": []
  },
  {
   "cell_type": "code",
   "execution_count": null,
   "metadata": {},
   "outputs": [],
   "source": []
  },
  {
   "cell_type": "code",
   "execution_count": null,
   "metadata": {},
   "outputs": [],
   "source": []
  },
  {
   "cell_type": "code",
   "execution_count": null,
   "metadata": {},
   "outputs": [],
   "source": []
  },
  {
   "cell_type": "code",
   "execution_count": null,
   "metadata": {},
   "outputs": [],
   "source": []
  },
  {
   "cell_type": "code",
   "execution_count": null,
   "metadata": {},
   "outputs": [],
   "source": []
  },
  {
   "cell_type": "code",
   "execution_count": null,
   "metadata": {},
   "outputs": [],
   "source": []
  },
  {
   "cell_type": "code",
   "execution_count": null,
   "metadata": {},
   "outputs": [],
   "source": []
  },
  {
   "cell_type": "code",
   "execution_count": null,
   "metadata": {},
   "outputs": [],
   "source": []
  },
  {
   "cell_type": "code",
   "execution_count": null,
   "metadata": {},
   "outputs": [],
   "source": []
  },
  {
   "cell_type": "code",
   "execution_count": null,
   "metadata": {},
   "outputs": [],
   "source": []
  },
  {
   "cell_type": "code",
   "execution_count": null,
   "metadata": {},
   "outputs": [],
   "source": []
  },
  {
   "cell_type": "code",
   "execution_count": null,
   "metadata": {},
   "outputs": [],
   "source": [
    "ham==Con_H"
   ]
  },
  {
   "cell_type": "code",
   "execution_count": null,
   "metadata": {},
   "outputs": [],
   "source": [
    "n_q = len(diagonalized_generators_GuA[0])\n",
    "rotated_Hcon = deepcopy(Con_H)\n",
    "\n",
    "# iteratively perform R rotation over all terms in orginal Hamiltonian\n",
    "for R in Rotations_list:\n",
    "    newly_rotated_H={}\n",
    "    for P in rotated_Hcon.keys():\n",
    "        lin_comb_Rot_P = c.apply_rotation(R,P) # linear combination of Paulis from R rotation on P\n",
    "        \n",
    "        for P_rot in lin_comb_Rot_P:\n",
    "            \n",
    "            if P_rot in newly_rotated_H.keys():\n",
    "                newly_rotated_H[P_rot]+=lin_comb_Rot_P[P_rot]*rotated_Hcon[P] # already in it hence +=\n",
    "            else:\n",
    "                newly_rotated_H[P_rot]=lin_comb_Rot_P[P_rot]*rotated_Hcon[P]\n",
    "                \n",
    "    rotated_Hcon = deepcopy(newly_rotated_H) ##<-- perform next R rotation on this H\n",
    "    \n",
    "rotated_Hcon"
   ]
  },
  {
   "cell_type": "code",
   "execution_count": null,
   "metadata": {},
   "outputs": [],
   "source": [
    "print(diagonalized_generators_GuA)\n",
    "print(eigen_vals_nonC_ground_state_GuA_ops)\n",
    "\n",
    "p1_dict = {Gener.index('Z'): p1 for Gener, p1 in zip(diagonalized_generators_GuA, eigen_vals_nonC_ground_state_GuA_ops)}\n",
    "p1_dict"
   ]
  },
  {
   "cell_type": "code",
   "execution_count": null,
   "metadata": {},
   "outputs": [],
   "source": [
    "new={}\n",
    "for P1_P2 in rotated_Hcon.keys():\n",
    "    Z_indices = [i for i, sigma in enumerate(P1_P2) if sigma=='Z']\n",
    "    \n",
    "    I1_P2=list(deepcopy(P1_P2))\n",
    "    sign=1\n",
    "    for ind in Z_indices:\n",
    "        sign*=p1_dict[ind]\n",
    "        I1_P2[ind]='I'\n",
    "    I1_P2=''.join(I1_P2)\n",
    "    \n",
    "    new[I1_P2]=rotated_Hcon[P1_P2]*sign\n",
    "    \n",
    "new    "
   ]
  },
  {
   "cell_type": "code",
   "execution_count": null,
   "metadata": {},
   "outputs": [],
   "source": [
    "len(rotated_Hcon)-len(diagonalized_generators_GuA)\n",
    "# len(new)"
   ]
  },
  {
   "cell_type": "code",
   "execution_count": null,
   "metadata": {},
   "outputs": [],
   "source": [
    "H = conv_scr.Get_Operfermion_Hamiltonian(new)\n",
    "sparseH = qubit_operator_sparse(H, n_qubits=hamiltonians[mol_key][1])\n",
    "sp.sparse.linalg.eigsh(sparseH, which='SA', k=1)[0][0]"
   ]
  },
  {
   "cell_type": "code",
   "execution_count": null,
   "metadata": {},
   "outputs": [],
   "source": []
  },
  {
   "cell_type": "code",
   "execution_count": null,
   "metadata": {},
   "outputs": [],
   "source": []
  },
  {
   "cell_type": "code",
   "execution_count": null,
   "metadata": {},
   "outputs": [],
   "source": [
    "H_reduced_subspace={}\n",
    "for P in rotated_H.keys():\n",
    "    \n",
    "    sign=1\n",
    "    for P_known, eigen_val in zip(diagonalized_generators_GuA, eigen_vals_nonC_ground_state_GuA_ops):\n",
    "        Z_index = P_known.index('Z') # Find single qubit Z in generator!\n",
    "        \n",
    "        if P[Z_index]== 'Z': # compare location in genertor to P of rotated H\n",
    "            \n",
    "            sign*=eigen_val #<- eigenvalue of nonC ground state!\n",
    "            \n",
    "        elif P[Z_index]!= 'I': \n",
    "            sign=0 # MUST anti-commute!\n",
    "    \n",
    "    # build reduced Hilbert Space\n",
    "    if sign!=0:\n",
    "        P_new = list(deepcopy(P))\n",
    "        P_new[Z_index]='I'\n",
    "        P_new= ''.join(P_new)\n",
    "        \n",
    "        if P_new in H_reduced_subspace.keys():\n",
    "            H_reduced_subspace[P_new] = H_reduced_subspace[P_new] + rotated_H[P]*sign\n",
    "        else:\n",
    "            H_reduced_subspace[P_new] = rotated_H[P]*sign\n",
    "            \n",
    "#     else:\n",
    "#         H_reduced_subspace[P]=rotated_H[P]"
   ]
  },
  {
   "cell_type": "code",
   "execution_count": null,
   "metadata": {},
   "outputs": [],
   "source": [
    "print(len(rotated_H))\n",
    "print(len(H_reduced_subspace))"
   ]
  },
  {
   "cell_type": "code",
   "execution_count": null,
   "metadata": {},
   "outputs": [],
   "source": []
  },
  {
   "cell_type": "code",
   "execution_count": null,
   "metadata": {},
   "outputs": [],
   "source": [
    "# H_reduced_subspace"
   ]
  },
  {
   "cell_type": "code",
   "execution_count": null,
   "metadata": {},
   "outputs": [],
   "source": [
    "lowest_eigenvalue"
   ]
  },
  {
   "cell_type": "code",
   "execution_count": null,
   "metadata": {},
   "outputs": [],
   "source": [
    "from openfermion import qubit_operator_sparse\n",
    "import conversion_scripts as conv_scr\n",
    "import scipy as sp\n",
    "H = conv_scr.Get_Operfermion_Hamiltonian(H_reduced_subspace)\n",
    "sparseH = qubit_operator_sparse(H, n_qubits=hamiltonians[mol_key][1])\n",
    "sp.sparse.linalg.eigsh(sparseH, which='SA', k=1)[0][0]"
   ]
  },
  {
   "cell_type": "code",
   "execution_count": null,
   "metadata": {},
   "outputs": [],
   "source": [
    "c.quantum_correction(ham, #<- full Ham\n",
    "                     model,\n",
    "                     fn_form,\n",
    "                     ground_state_params)"
   ]
  },
  {
   "cell_type": "code",
   "execution_count": null,
   "metadata": {},
   "outputs": [],
   "source": [
    "lowest_eigenvalue"
   ]
  },
  {
   "cell_type": "code",
   "execution_count": null,
   "metadata": {},
   "outputs": [],
   "source": []
  },
  {
   "cell_type": "code",
   "execution_count": null,
   "metadata": {},
   "outputs": [],
   "source": [
    "Hfull = conv_scr.Get_Operfermion_Hamiltonian(ham)\n",
    "sparseHfull = qubit_operator_sparse(Hfull, n_qubits=hamiltonians[mol_key][1])\n",
    "FCI = sp.sparse.linalg.eigsh(sparseHfull, which='SA', k=1)[0][0]\n",
    "print('FCI=', FCI)"
   ]
  },
  {
   "cell_type": "code",
   "execution_count": null,
   "metadata": {},
   "outputs": [],
   "source": [
    "sp.sparse.linalg.eigsh(sparseH, which='SA', k=1)[0][0]"
   ]
  },
  {
   "cell_type": "code",
   "execution_count": null,
   "metadata": {},
   "outputs": [],
   "source": []
  },
  {
   "cell_type": "code",
   "execution_count": null,
   "metadata": {},
   "outputs": [],
   "source": []
  },
  {
   "cell_type": "code",
   "execution_count": null,
   "metadata": {},
   "outputs": [],
   "source": []
  },
  {
   "cell_type": "code",
   "execution_count": null,
   "metadata": {},
   "outputs": [],
   "source": []
  },
  {
   "cell_type": "code",
   "execution_count": null,
   "metadata": {},
   "outputs": [],
   "source": []
  },
  {
   "cell_type": "code",
   "execution_count": null,
   "metadata": {},
   "outputs": [],
   "source": []
  },
  {
   "cell_type": "code",
   "execution_count": null,
   "metadata": {},
   "outputs": [],
   "source": []
  },
  {
   "cell_type": "code",
   "execution_count": 27,
   "metadata": {},
   "outputs": [
    {
     "ename": "NameError",
     "evalue": "name 'diagonalized_generators_GuA' is not defined",
     "output_type": "error",
     "traceback": [
      "\u001b[0;31m---------------------------------------------------------------------------\u001b[0m",
      "\u001b[0;31mNameError\u001b[0m                                 Traceback (most recent call last)",
      "\u001b[0;32m<ipython-input-27-1daa6c607a42>\u001b[0m in \u001b[0;36m<module>\u001b[0;34m\u001b[0m\n\u001b[0;32m----> 1\u001b[0;31m \u001b[0mprint\u001b[0m\u001b[0;34m(\u001b[0m\u001b[0mdiagonalized_generators_GuA\u001b[0m\u001b[0;34m)\u001b[0m\u001b[0;34m\u001b[0m\u001b[0;34m\u001b[0m\u001b[0m\n\u001b[0m\u001b[1;32m      2\u001b[0m \u001b[0mprint\u001b[0m\u001b[0;34m(\u001b[0m\u001b[0meigen_vals_nonC_ground_state_GuA_ops\u001b[0m\u001b[0;34m)\u001b[0m\u001b[0;34m\u001b[0m\u001b[0;34m\u001b[0m\u001b[0m\n\u001b[1;32m      3\u001b[0m \u001b[0;34m\u001b[0m\u001b[0m\n\u001b[1;32m      4\u001b[0m \u001b[0mp1_dict\u001b[0m \u001b[0;34m=\u001b[0m \u001b[0;34m{\u001b[0m\u001b[0mGener\u001b[0m\u001b[0;34m.\u001b[0m\u001b[0mindex\u001b[0m\u001b[0;34m(\u001b[0m\u001b[0;34m'Z'\u001b[0m\u001b[0;34m)\u001b[0m\u001b[0;34m:\u001b[0m \u001b[0mp1\u001b[0m \u001b[0;32mfor\u001b[0m \u001b[0mGener\u001b[0m\u001b[0;34m,\u001b[0m \u001b[0mp1\u001b[0m \u001b[0;32min\u001b[0m \u001b[0mzip\u001b[0m\u001b[0;34m(\u001b[0m\u001b[0mdiagonalized_generators_GuA\u001b[0m\u001b[0;34m,\u001b[0m \u001b[0meigen_vals_nonC_ground_state_GuA_ops\u001b[0m\u001b[0;34m)\u001b[0m\u001b[0;34m}\u001b[0m\u001b[0;34m\u001b[0m\u001b[0;34m\u001b[0m\u001b[0m\n\u001b[1;32m      5\u001b[0m \u001b[0mp1_dict\u001b[0m\u001b[0;34m\u001b[0m\u001b[0;34m\u001b[0m\u001b[0m\n",
      "\u001b[0;31mNameError\u001b[0m: name 'diagonalized_generators_GuA' is not defined"
     ]
    }
   ],
   "source": [
    "print(diagonalized_generators_GuA)\n",
    "print(eigen_vals_nonC_ground_state_GuA_ops)\n",
    "\n",
    "p1_dict = {Gener.index('Z'): p1 for Gener, p1 in zip(diagonalized_generators_GuA, eigen_vals_nonC_ground_state_GuA_ops)}\n",
    "p1_dict"
   ]
  },
  {
   "cell_type": "code",
   "execution_count": null,
   "metadata": {
    "code_folding": []
   },
   "outputs": [],
   "source": [
    "H_reduced_subspace={}\n",
    "for P in rotated_Hcon.keys():\n",
    "    \n",
    "    new_sign=1\n",
    "    P_new = list(P)\n",
    "    for index, sigma in enumerate(P):\n",
    "        if sigma == 'Z':\n",
    "            new_sign*=p1_dict[index]\n",
    "            P_new[index]='I'\n",
    "    \n",
    "    P_new = ''.join(P_new)\n",
    "    H_reduced_subspace[P_new] = rotated_Hcon[P]*new_sign"
   ]
  },
  {
   "cell_type": "code",
   "execution_count": null,
   "metadata": {},
   "outputs": [],
   "source": [
    "H_reduced_subspace\n",
    "\n",
    "H_con_subspace = conv_scr.Get_Operfermion_Hamiltonian(H_reduced_subspace)\n",
    "sparseH_con_subspace = qubit_operator_sparse(H_con_subspace, n_qubits=hamiltonians[mol_key][1])\n",
    "sp.sparse.linalg.eigsh(sparseH_con_subspace, which='SA', k=1)[0][0]"
   ]
  },
  {
   "cell_type": "code",
   "execution_count": null,
   "metadata": {},
   "outputs": [],
   "source": [
    "# H_reduced_subspace={}\n",
    "# for P in rotated_Hcon.keys():\n",
    "    \n",
    "#     p1=1\n",
    "#     for P_known, eigen_val in zip(diagonalized_generators_GuA, eigen_vals_nonC_ground_state_GuA_ops):\n",
    "#         Z_index = P_known.index('Z') # Find single qubit Z in generator!\n",
    "        \n",
    "#         if P[Z_index]== 'Z': # compare location in genertor to P of rotated H\n",
    "#             p1*=eigen_val #<- eigenvalue of nonC ground state!\n",
    "            \n",
    "#             P1_P2 = list(deepcopy(P))\n",
    "#             P1_P2[Z_index]='I'\n",
    "#             I1_P2= ''.join(P1_P2)\n",
    "            \n",
    "#             if I1_P2 in H_reduced_subspace.keys():\n",
    "#                 H_reduced_subspace[I1_P2] += rotated_Hcon[P]*p1\n",
    "#             else:\n",
    "#                 H_reduced_subspace[I1_P2] = rotated_Hcon[P]*p1\n",
    "            \n",
    "#         elif P[Z_index]== 'I':\n",
    "#             H_reduced_subspace[P] = rotated_Hcon[P]\n",
    "            \n",
    "#         elif P[Z_index]!= 'I': \n",
    "#             sign=0 # MUST anti-commute!\n",
    "#             H_reduced_subspace[P]=0\n",
    "    \n",
    "# #         # build reduced Hilbert Space\n",
    "# #         if sign!=0:\n",
    "# #             if P_new in H_reduced_subspace.keys():\n",
    "# #                 H_reduced_subspace[P_new] = H_reduced_subspace[P_new] + rotated_Hcon[P]*sign\n",
    "# #             else:\n",
    "# #                 H_reduced_subspace[P_new] = rotated_Hcon[P_new]*sign\n",
    "            \n",
    "# # #     else:\n",
    "# # #         H_reduced_subspace[P]=rotated_H[P]"
   ]
  },
  {
   "cell_type": "code",
   "execution_count": null,
   "metadata": {},
   "outputs": [],
   "source": [
    "H_reduced_subspace"
   ]
  },
  {
   "cell_type": "code",
   "execution_count": null,
   "metadata": {},
   "outputs": [],
   "source": [
    "nonCon_Energy = lowest_eigenvalue\n",
    "\n",
    "H_con_subspace = conv_scr.Get_Operfermion_Hamiltonian(H_reduced_subspace)\n",
    "sparseH_con_subspace = qubit_operator_sparse(H_con_subspace, n_qubits=hamiltonians[mol_key][1])\n",
    "Con_Energy = sp.sparse.linalg.eigsh(sparseH_con_subspace, which='SA', k=1)[0][0]\n",
    "\n",
    "Con_Energy+nonCon_Energy"
   ]
  },
  {
   "cell_type": "code",
   "execution_count": null,
   "metadata": {},
   "outputs": [],
   "source": [
    "FCI"
   ]
  },
  {
   "cell_type": "code",
   "execution_count": null,
   "metadata": {},
   "outputs": [],
   "source": [
    "c.quantum_correction(ham, #<- full Ham\n",
    "                     model,\n",
    "                     fn_form,\n",
    "                     ground_state_params)"
   ]
  },
  {
   "cell_type": "code",
   "execution_count": null,
   "metadata": {},
   "outputs": [],
   "source": [
    "FCI-lowest_eigenvalue"
   ]
  },
  {
   "cell_type": "code",
   "execution_count": null,
   "metadata": {},
   "outputs": [],
   "source": [
    "Con_Energy"
   ]
  },
  {
   "cell_type": "code",
   "execution_count": null,
   "metadata": {},
   "outputs": [],
   "source": []
  },
  {
   "cell_type": "code",
   "execution_count": null,
   "metadata": {},
   "outputs": [],
   "source": [
    "c.commute(P_gen, P)"
   ]
  },
  {
   "cell_type": "code",
   "execution_count": null,
   "metadata": {},
   "outputs": [],
   "source": []
  }
 ],
 "metadata": {
  "kernelspec": {
   "display_name": "Python 3",
   "language": "python",
   "name": "python3"
  },
  "language_info": {
   "codemirror_mode": {
    "name": "ipython",
    "version": 3
   },
   "file_extension": ".py",
   "mimetype": "text/x-python",
   "name": "python",
   "nbconvert_exporter": "python",
   "pygments_lexer": "ipython3",
   "version": "3.7.6"
  }
 },
 "nbformat": 4,
 "nbformat_minor": 2
}
