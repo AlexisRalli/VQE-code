{
 "cells": [
  {
   "cell_type": "code",
   "execution_count": 1,
   "metadata": {},
   "outputs": [],
   "source": [
    "import numpy as np\n",
    "import cs_vqe as c\n",
    "import ast\n",
    "import os\n",
    "\n",
    "from openfermion import qubit_operator_sparse\n",
    "import conversion_scripts as conv_scr\n",
    "import scipy as sp"
   ]
  },
  {
   "cell_type": "code",
   "execution_count": 2,
   "metadata": {},
   "outputs": [],
   "source": [
    "from openfermion import qubit_operator_sparse\n",
    "import conversion_scripts as conv_scr\n",
    "from openfermion.ops import QubitOperator"
   ]
  },
  {
   "cell_type": "code",
   "execution_count": 3,
   "metadata": {},
   "outputs": [],
   "source": [
    "# with open(\"hamiltonians.txt\", 'r') as input_file:\n",
    "#     hamiltonians = ast.literal_eval(input_file.read())\n",
    "    \n",
    "working_dir = os.getcwd()\n",
    "data_dir = os.path.join(working_dir, 'data')\n",
    "data_hamiltonians_file = os.path.join(data_dir, 'hamiltonians.txt')\n",
    "\n",
    "\n",
    "with open(data_hamiltonians_file, 'r') as input_file:\n",
    "    hamiltonians = ast.literal_eval(input_file.read())"
   ]
  },
  {
   "cell_type": "code",
   "execution_count": 4,
   "metadata": {},
   "outputs": [
    {
     "name": "stdout",
     "output_type": "stream",
     "text": [
      "H2-S1_STO-3G_singlet          n_qubits:  18   \n",
      "C1-O1_STO-3G_singlet          n_qubits:  16   \n",
      "H1-Cl1_STO-3G_singlet         n_qubits:  16   \n",
      "H1-Na1_STO-3G_singlet         n_qubits:  16   \n",
      "H2-Mg1_STO-3G_singlet         n_qubits:  17   \n",
      "H1-F1_3-21G_singlet           n_qubits:  18   \n",
      "H1-Li1_3-21G_singlet          n_qubits:  18   \n",
      "Be1_STO-3G_singlet            n_qubits:  5    \n",
      "H1-F1_STO-3G_singlet          n_qubits:  8    \n",
      "H1-Li1_STO-3G_singlet         n_qubits:  8    \n",
      "Ar1_STO-3G_singlet            n_qubits:  13   \n",
      "F2_STO-3G_singlet             n_qubits:  15   \n",
      "H1-O1_STO-3G_singlet          n_qubits:  8    \n",
      "H2-Be1_STO-3G_singlet         n_qubits:  9    \n",
      "H2-O1_STO-3G_singlet          n_qubits:  10   \n",
      "H2_3-21G_singlet              n_qubits:  5    \n",
      "H2_6-31G_singlet              n_qubits:  5    \n",
      "H3-N1_STO-3G_singlet          n_qubits:  13   \n",
      "H4-C1_STO-3G_singlet          n_qubits:  14   \n",
      "Mg1_STO-3G_singlet            n_qubits:  13   \n",
      "N2_STO-3G_singlet             n_qubits:  15   \n",
      "Ne1_STO-3G_singlet            n_qubits:  5    \n",
      "O2_STO-3G_singlet             n_qubits:  15   \n",
      "H1-Li1-O1_STO-3G_singlet      n_qubits:  18   \n",
      "H1-He1_STO-3G_singlet         n_qubits:  2    \n",
      "H3_STO-3G_singlet_1+          n_qubits:  3    \n",
      "H1-He1_3-21G_singlet_1+       n_qubits:  6    \n",
      "H3_3-21G_singlet_1+           n_qubits:  9    \n",
      "H4-N1_STO-3G_singlet_1+       n_qubits:  14   \n"
     ]
    }
   ],
   "source": [
    "for key in hamiltonians.keys():\n",
    "    print(f\"{key: <25}     n_qubits:  {hamiltonians[key][1]:<5.0f}\")"
   ]
  },
  {
   "cell_type": "code",
   "execution_count": 6,
   "metadata": {},
   "outputs": [
    {
     "data": {
      "text/plain": [
       "{'III': -1.7512307459285525,\n",
       " 'IIX': -0.023568152336180023,\n",
       " 'IIZ': -0.017109477140260287,\n",
       " 'IXI': 0.02356815233618002,\n",
       " 'IXZ': 0.02356815233617983,\n",
       " 'IYY': -0.07195737217001562,\n",
       " 'IZI': -0.017109477140260287,\n",
       " 'IZX': -0.023568152336179825,\n",
       " 'IZZ': 0.31270210682950855,\n",
       " 'XII': 0.01872992170537467,\n",
       " 'XIX': 0.023568139980123585,\n",
       " 'XIZ': 0.01872992170537467,\n",
       " 'XXI': -0.023568139980123585,\n",
       " 'XXX': 0.03597868636603963,\n",
       " 'XXZ': -0.023568139980123585,\n",
       " 'XYY': -0.03597868636603963,\n",
       " 'XZI': 0.01872992170537467,\n",
       " 'XZX': 0.023568139980123585,\n",
       " 'XZZ': 0.01872992170537467,\n",
       " 'YIY': 0.023568139980123585,\n",
       " 'YXY': 0.03597868636603963,\n",
       " 'YYI': -0.023568139980123585,\n",
       " 'YYX': 0.03597868636603963,\n",
       " 'YYZ': -0.023568139980123585,\n",
       " 'YZY': 0.023568139980123585,\n",
       " 'ZII': -0.45436486525596403,\n",
       " 'ZIX': -0.023568152336180023,\n",
       " 'ZIZ': 0.37110605476609787,\n",
       " 'ZXI': 0.02356815233618002,\n",
       " 'ZXZ': 0.02356815233617983,\n",
       " 'ZYY': -0.07195737217001562,\n",
       " 'ZZI': 0.37110605476609804,\n",
       " 'ZZX': -0.023568152336179825,\n",
       " 'ZZZ': -0.2878474382772282}"
      ]
     },
     "execution_count": 6,
     "metadata": {},
     "output_type": "execute_result"
    }
   ],
   "source": [
    "mol_key = 'H3_STO-3G_singlet_1+'  \n",
    "# mol_key = 'H1-He1_3-21G_singlet_1+'\n",
    "# mol_key = 'H3_3-21G_singlet_1+'\n",
    "# mol_key ='H2-O1_STO-3G_singlet'\n",
    "\n",
    "\n",
    "# currently index 2 is contextual part\n",
    "# ''''''''''''''''3 is NON contextual part\n",
    "\n",
    "# join together for full Hamiltonian:\n",
    "ham = hamiltonians[mol_key][2]\n",
    "ham.update(hamiltonians[mol_key][3]) # full H \n",
    "ham"
   ]
  },
  {
   "cell_type": "code",
   "execution_count": 7,
   "metadata": {},
   "outputs": [
    {
     "name": "stdout",
     "output_type": "stream",
     "text": [
      "n_qubits:  3\n"
     ]
    }
   ],
   "source": [
    "print(f\"n_qubits:  {hamiltonians[mol_key][1]}\")"
   ]
  },
  {
   "cell_type": "markdown",
   "metadata": {},
   "source": [
    "# Get non-contextual H"
   ]
  },
  {
   "cell_type": "code",
   "execution_count": 8,
   "metadata": {},
   "outputs": [],
   "source": [
    "nonH_guesses = c.greedy_dfs(ham, 10, criterion='weight')\n",
    "\n",
    "nonH = max(nonH_guesses, key=lambda x:len(x)) # largest nonCon part found by dfs alg"
   ]
  },
  {
   "cell_type": "markdown",
   "metadata": {},
   "source": [
    "Split into:\n",
    "\n",
    "$$H = H_{c} + H_{nc}$$"
   ]
  },
  {
   "cell_type": "code",
   "execution_count": 9,
   "metadata": {},
   "outputs": [],
   "source": [
    "nonCon_H = {}\n",
    "Con_H = {}\n",
    "\n",
    "for P in ham:\n",
    "    if P in nonH:\n",
    "        nonCon_H[P]=ham[P]\n",
    "    else:\n",
    "        Con_H[P]=ham[P]\n",
    "        "
   ]
  },
  {
   "cell_type": "markdown",
   "metadata": {},
   "source": [
    "## Testing contextuality"
   ]
  },
  {
   "cell_type": "code",
   "execution_count": 10,
   "metadata": {},
   "outputs": [
    {
     "name": "stdout",
     "output_type": "stream",
     "text": [
      "Is NONcontextual correct: True\n",
      "Is contextual correct: True\n"
     ]
    }
   ],
   "source": [
    "print('Is NONcontextual correct:', not c.contextualQ_ham(nonCon_H))\n",
    "print('Is contextual correct:',c.contextualQ_ham(Con_H))"
   ]
  },
  {
   "cell_type": "markdown",
   "metadata": {},
   "source": [
    "# Classical part of problem!"
   ]
  },
  {
   "cell_type": "markdown",
   "metadata": {},
   "source": [
    "Take $H_{nc}$ and split into:\n",
    "- $Z$ = operators that completely comute with all operators in $S$\n",
    "- $T$ = remaining operators in $S$\n",
    "    - where $S = Z \\cup T$  and $S$ is set of Pauli operators in $H_{nc}$\n",
    "    \n",
    "    \n",
    "- We then split the set $T$ into cliques $C_{1}, C_{2}, ... , C_{|T|}$\n",
    "    - all ops in a clique commute\n",
    "    - ops between cliques anti-commute!"
   ]
  },
  {
   "cell_type": "code",
   "execution_count": 11,
   "metadata": {},
   "outputs": [],
   "source": [
    "bool_flag, Z_list, T_list = c.contextualQ(list(nonCon_H.keys()), verbose=True)"
   ]
  },
  {
   "cell_type": "code",
   "execution_count": 12,
   "metadata": {},
   "outputs": [
    {
     "data": {
      "text/plain": [
       "['III', 'IZZ', 'ZIZ', 'ZZI']"
      ]
     },
     "execution_count": 12,
     "metadata": {},
     "output_type": "execute_result"
    }
   ],
   "source": [
    "Z_list"
   ]
  },
  {
   "cell_type": "code",
   "execution_count": 13,
   "metadata": {},
   "outputs": [
    {
     "data": {
      "text/plain": [
       "['IIZ', 'IZI', 'XXX', 'XYY', 'YXY', 'YYX', 'ZII', 'ZZZ']"
      ]
     },
     "execution_count": 13,
     "metadata": {},
     "output_type": "execute_result"
    }
   ],
   "source": [
    "T_list"
   ]
  },
  {
   "cell_type": "markdown",
   "metadata": {},
   "source": [
    "## Get quasi model\n",
    "\n",
    "First we define\n",
    "\n",
    "- $C_{i1}$ = first Pauli in each $C_{i}$ set\n",
    "- $A_{ij} = C_{ij}C_{1i}$\n",
    "\n",
    "\n",
    "- $G^{prime} = \\{1 P_{i} \\;| \\; i=1,2,...,|Z| \\}$\n",
    "    - aka all the completely commuting terms with coefficients set to +1!\n",
    "\n",
    "- We define G to be an independent set of $G^{prime}$\n",
    "    - where $G \\subseteq G^{prime}$\n"
   ]
  },
  {
   "cell_type": "code",
   "execution_count": 14,
   "metadata": {},
   "outputs": [],
   "source": [
    "G_list, Ci1_list, all_mappings = c.quasi_model(nonCon_H)"
   ]
  },
  {
   "cell_type": "code",
   "execution_count": 15,
   "metadata": {},
   "outputs": [
    {
     "name": "stdout",
     "output_type": "stream",
     "text": [
      "non-independent Z list: ['III', 'IZZ', 'ZIZ', 'ZZI']\n",
      "G (independent) Z list: ['ZIZ', 'IZZ']\n"
     ]
    }
   ],
   "source": [
    "print('non-independent Z list:', Z_list)\n",
    "print('G (independent) Z list:', G_list)"
   ]
  },
  {
   "cell_type": "code",
   "execution_count": 16,
   "metadata": {},
   "outputs": [
    {
     "name": "stdout",
     "output_type": "stream",
     "text": [
      "all Ci1 terms: ['IIZ', 'XXX']\n"
     ]
    }
   ],
   "source": [
    "print('all Ci1 terms:', Ci1_list)"
   ]
  },
  {
   "cell_type": "markdown",
   "metadata": {},
   "source": [
    "$$R = G \\cup \\{ C_{i1} \\;| \\; i=1,2,...,N \\}$$"
   ]
  },
  {
   "cell_type": "code",
   "execution_count": 17,
   "metadata": {},
   "outputs": [
    {
     "data": {
      "text/plain": [
       "{'III': [[], [], 1],\n",
       " 'IIZ': [[], ['IIZ'], 1],\n",
       " 'IZI': [['IZZ'], ['IIZ'], 1],\n",
       " 'IZZ': [['IZZ'], [], 1],\n",
       " 'XXX': [[], ['XXX'], 1],\n",
       " 'XYY': [['IZZ'], ['XXX'], (-1+0j)],\n",
       " 'YXY': [['ZIZ'], ['XXX'], (-1+0j)],\n",
       " 'YYX': [['ZIZ', 'IZZ'], ['XXX'], (-1+0j)],\n",
       " 'ZII': [['ZIZ'], ['IIZ'], 1],\n",
       " 'ZIZ': [['ZIZ'], [], 1],\n",
       " 'ZZI': [['ZIZ', 'IZZ'], [], 1],\n",
       " 'ZZZ': [['ZIZ', 'IZZ'], ['IIZ'], 1]}"
      ]
     },
     "execution_count": 17,
     "metadata": {},
     "output_type": "execute_result"
    }
   ],
   "source": [
    "# Assemble all the mappings from terms in the Hamiltonian to their products in R:\n",
    "all_mappings"
   ]
  },
  {
   "cell_type": "markdown",
   "metadata": {},
   "source": [
    "Overall $R$ is basically reduced non-contextual set\n",
    "- where everything in original non-contextual set can be found by **inference!**"
   ]
  },
  {
   "cell_type": "code",
   "execution_count": null,
   "metadata": {},
   "outputs": [],
   "source": []
  },
  {
   "cell_type": "markdown",
   "metadata": {},
   "source": [
    "# Function form\n",
    "\n",
    "$$R = G \\cup \\{ C_{i1} \\;| \\; i=1,2,...,N \\}$$\n",
    "\n",
    "- note q to do with $G$\n",
    "- note r to do with $C_{i1}$"
   ]
  },
  {
   "cell_type": "code",
   "execution_count": 18,
   "metadata": {},
   "outputs": [],
   "source": [
    "model = [G_list, Ci1_list, all_mappings]\n",
    "\n",
    "fn_form = c.energy_function_form(nonCon_H, model)\n",
    "\n",
    "# returns [\n",
    "#            denstion of q,\n",
    "#            dimension of r,\n",
    "#            [coeff, indices of q's, indices of r's, term in Hamiltonian]\n",
    "#         ]\n"
   ]
  },
  {
   "cell_type": "code",
   "execution_count": 19,
   "metadata": {},
   "outputs": [
    {
     "data": {
      "text/plain": [
       "[2,\n",
       " 2,\n",
       " [[-1.7512307459285525, [], [], 'III'],\n",
       "  [-0.017109477140260287, [], [0], 'IIZ'],\n",
       "  [-0.017109477140260287, [1], [0], 'IZI'],\n",
       "  [0.31270210682950855, [1], [], 'IZZ'],\n",
       "  [0.03597868636603963, [], [1], 'XXX'],\n",
       "  [(0.03597868636603963-0j), [1], [1], 'XYY'],\n",
       "  [(-0.03597868636603963+0j), [0], [1], 'YXY'],\n",
       "  [(-0.03597868636603963+0j), [0, 1], [1], 'YYX'],\n",
       "  [-0.45436486525596403, [0], [0], 'ZII'],\n",
       "  [0.37110605476609787, [0], [], 'ZIZ'],\n",
       "  [0.37110605476609804, [0, 1], [], 'ZZI'],\n",
       "  [-0.2878474382772282, [0, 1], [0], 'ZZZ']]]"
      ]
     },
     "execution_count": 19,
     "metadata": {},
     "output_type": "execute_result"
    }
   ],
   "source": [
    "fn_form"
   ]
  },
  {
   "cell_type": "code",
   "execution_count": 20,
   "metadata": {},
   "outputs": [],
   "source": [
    "Energy_function = c.energy_function(fn_form)"
   ]
  },
  {
   "cell_type": "code",
   "execution_count": 21,
   "metadata": {},
   "outputs": [
    {
     "data": {
      "text/plain": [
       "(1.0, -0.0, -0.0, -0.0, 0.0)"
      ]
     },
     "execution_count": 21,
     "metadata": {},
     "output_type": "execute_result"
    }
   ],
   "source": [
    "import random\n",
    "\n",
    "### now for the q terms we only have +1 or -1 assignment!\n",
    "q_variables = [random.choice([1,-1]) for _ in range(fn_form[0])]\n",
    "\n",
    "\n",
    "### r variables is anything that makes up unit vector!\n",
    "r_variables = c.angular(np.arange(0,2*np.pi, fn_form[1]))\n",
    "r_variables"
   ]
  },
  {
   "cell_type": "code",
   "execution_count": 22,
   "metadata": {},
   "outputs": [
    {
     "data": {
      "text/plain": [
       "-1.897415425779325"
      ]
     },
     "execution_count": 22,
     "metadata": {},
     "output_type": "execute_result"
    }
   ],
   "source": [
    " Energy_function(*q_variables,*r_variables)"
   ]
  },
  {
   "cell_type": "markdown",
   "metadata": {},
   "source": [
    "find_gs_nonconfunction optimizes above steps by:\n",
    "1. brute forcing all choices of ```q_variables```\n",
    "    - ```itertools.product([1,-1],repeat=fn_form[0])```\n",
    "2. optimizing over ```r_variables``` (in code ```x```)\n",
    "    - using SciPy optimizer!"
   ]
  },
  {
   "cell_type": "code",
   "execution_count": 23,
   "metadata": {},
   "outputs": [
    {
     "name": "stdout",
     "output_type": "stream",
     "text": [
      "-2.903212918716725\n",
      "[[-1, 1], [-0.9799593376325533, -0.19919763198082302]]\n"
     ]
    }
   ],
   "source": [
    "model = [G_list, Ci1_list, all_mappings]\n",
    "\n",
    "lowest_eigenvalue, ground_state_params, model_copy, fn_form_copy,  = c.find_gs_noncon(nonCon_H,\n",
    "               method = 'differential_evolution',\n",
    "               model=model,\n",
    "               fn_form=fn_form) # returns:  best + [model, fn_form]\n",
    "\n",
    "print(lowest_eigenvalue)\n",
    "print(ground_state_params)"
   ]
  },
  {
   "cell_type": "code",
   "execution_count": 24,
   "metadata": {},
   "outputs": [
    {
     "data": {
      "text/plain": [
       "True"
      ]
     },
     "execution_count": 24,
     "metadata": {},
     "output_type": "execute_result"
    }
   ],
   "source": [
    "## check\n",
    "Energy_function(*ground_state_params[0],*ground_state_params[1]) == lowest_eigenvalue"
   ]
  },
  {
   "cell_type": "code",
   "execution_count": null,
   "metadata": {},
   "outputs": [],
   "source": []
  },
  {
   "cell_type": "markdown",
   "metadata": {},
   "source": [
    "# Now need to rotate Hamiltonian!"
   ]
  },
  {
   "cell_type": "markdown",
   "metadata": {},
   "source": [
    "We now have non contextual ground state: $(\\vec{q}, \\vec{r})$"
   ]
  },
  {
   "cell_type": "code",
   "execution_count": 25,
   "metadata": {},
   "outputs": [
    {
     "data": {
      "text/plain": [
       "[[-1, 1], [-0.9799593376325533, -0.19919763198082302]]"
      ]
     },
     "execution_count": 25,
     "metadata": {},
     "output_type": "execute_result"
    }
   ],
   "source": [
    "ground_state_params"
   ]
  },
  {
   "cell_type": "markdown",
   "metadata": {},
   "source": [
    "We can use this result - ground state of $H_{nc}$ -  as a classical estiamte of our ground state of the full Hamiltonian ($H = H_{c} + H_{nc}$)\n",
    "\n",
    "However we can also obtain a quantum correction using $H_{c}$\n",
    "\n",
    "By minimizing theenergy of the remaining terms in the Hamiltonian over the quantum states that are **consistent with the noncon-textual ground state**."
   ]
  },
  {
   "cell_type": "code",
   "execution_count": null,
   "metadata": {},
   "outputs": [],
   "source": []
  },
  {
   "cell_type": "code",
   "execution_count": null,
   "metadata": {},
   "outputs": [],
   "source": []
  },
  {
   "cell_type": "markdown",
   "metadata": {},
   "source": [
    "To do this we first rotate each $G_{j}$ and $\\mathcal{A} = \\sum_{i=1}^{N} r_{i}A_{i}$:"
   ]
  },
  {
   "cell_type": "code",
   "execution_count": 140,
   "metadata": {},
   "outputs": [
    {
     "name": "stdout",
     "output_type": "stream",
     "text": [
      "['ZIZ', 'IZZ']\n",
      "['IIZ', 'XXX']\n"
     ]
    }
   ],
   "source": [
    "model = [G_list, Ci1_list, all_mappings]\n",
    "\n",
    "print(G_list) # G_j terms!\n",
    "print(Ci1_list) # mathcal(A)"
   ]
  },
  {
   "cell_type": "markdown",
   "metadata": {},
   "source": [
    "to SINGLE QUBIT pauli Z operators!\n",
    "\n",
    "- to map the operators in $G$ to single qubit Pauli operators, we use $\\frac{\\pi}{2}$ rotations!\n",
    "\n",
    "- note $\\mathcal{A}$ is an anti-commuting set... therefore we can use $N-1$ rotations as in unitary partitioning's sequence of rotations to do this!\n",
    "    - $R^{\\dagger}\\mathcal{A} R = \\text{single Pauli op}$"
   ]
  },
  {
   "cell_type": "code",
   "execution_count": null,
   "metadata": {},
   "outputs": [],
   "source": []
  },
  {
   "cell_type": "markdown",
   "metadata": {},
   "source": [
    "# Rotate full Hamiltonian to basis with diagonal noncontextual generators!"
   ]
  },
  {
   "cell_type": "markdown",
   "metadata": {},
   "source": [
    "function ```diagonalize_epistemic```:\n",
    "1. first if else statement:\n",
    "    - if cliques present:\n",
    "        - first maps A to single Pauli operator (if cliques present)\n",
    "        - then rotates to diagonlize G union with single Pauli opator of A (hence GuA name!)\n",
    "    - else if NO cliques present:\n",
    "        - gets rotations to diagonlize G\n",
    "        \n",
    "     - these rotations make up GuA term in code!\n",
    "2. NEXT code loops over terms in GuA (denoted as g in code)\n",
    "    - if g is not a single qubit $Z$:\n",
    "        - code generates code to rotate operator to make g diagonal (rotations)\n",
    "        - then constructs map of g to single Z (J rotation)\n",
    "    - Note R is applied to GuA\n",
    "    \n",
    "    \n",
    "#########\n",
    "- Note rotations are given in Appendix A of https://arxiv.org/pdf/2011.10027.pdf\n",
    "    - First code checks if g op in GuA is diagonal\n",
    "        - if so then needs to apply \"K\" rotation (involving $Y$ and $I$ operators (see pg 11 top) to make it NOT diagononal\n",
    "    - now operator will be diagnoal!\n",
    "    - next generate \"J\" rotation\n",
    "        - turns non-diagonal operator into a single qubit $Z$ operator!"
   ]
  },
  {
   "cell_type": "code",
   "execution_count": 138,
   "metadata": {},
   "outputs": [],
   "source": [
    "# Get sequence of rotations requried to diagonalize the generators for the noncontextual ground state!\n",
    "\n",
    "Rotations_list, diagonalized_generators_GuA, eigen_vals_nonC_ground_state_GuA_ops = c.diagonalize_epistemic(model,\n",
    "                                                                                                            fn_form,\n",
    "                                                                                                            ground_state_params)"
   ]
  },
  {
   "cell_type": "code",
   "execution_count": 139,
   "metadata": {},
   "outputs": [
    {
     "data": {
      "text/plain": [
       "[[3.342131729291596, 'XXY'],\n",
       " ['pi/2', 'YII'],\n",
       " ['pi/2', 'YIZ'],\n",
       " ['pi/2', 'IYI'],\n",
       " ['pi/2', 'IYZ']]"
      ]
     },
     "execution_count": 139,
     "metadata": {},
     "output_type": "execute_result"
    }
   ],
   "source": [
    "# rotations to map A to single Pauli operator!\n",
    "Rotations_list"
   ]
  },
  {
   "cell_type": "code",
   "execution_count": 29,
   "metadata": {},
   "outputs": [
    {
     "data": {
      "text/plain": [
       "['ZII', 'IZI', 'IIZ']"
      ]
     },
     "execution_count": 29,
     "metadata": {},
     "output_type": "execute_result"
    }
   ],
   "source": [
    "# rotations to diagonlize G\n",
    "diagonalized_generators_GuA"
   ]
  },
  {
   "cell_type": "code",
   "execution_count": 30,
   "metadata": {},
   "outputs": [
    {
     "data": {
      "text/plain": [
       "array([ 1., -1.,  1.])"
      ]
     },
     "execution_count": 30,
     "metadata": {},
     "output_type": "execute_result"
    }
   ],
   "source": [
    "eigen_vals_nonC_ground_state_GuA_ops"
   ]
  },
  {
   "cell_type": "markdown",
   "metadata": {},
   "source": [
    "# NEW LCU method"
   ]
  },
  {
   "cell_type": "code",
   "execution_count": 131,
   "metadata": {},
   "outputs": [],
   "source": [
    "N_index=0\n",
    "check_reduction=True\n",
    "N_Qubits= hamiltonians[mol_key][1]\n",
    "R_LCU, Rotations_list, diagonalized_generators_GuA, eigen_vals_nonC_ground_state_GuA_ops= c.diagonalize_epistemic_LCU(\n",
    "                                                                                  model,\n",
    "                                                                                  fn_form,\n",
    "                                                                                  ground_state_params,\n",
    "                                                                                  N_Qubits,\n",
    "                                                                                  N_index,\n",
    "                                                                                  check_reduction=check_reduction)"
   ]
  },
  {
   "cell_type": "markdown",
   "metadata": {},
   "source": [
    "# Restricting the Hamiltonian to a contextualsubspace"
   ]
  },
  {
   "cell_type": "markdown",
   "metadata": {},
   "source": [
    "(Section B of https://arxiv.org/pdf/2011.10027.pdf)\n",
    "\n",
    "In the rotated basis the Hamiltonian is restricted to the subspace stabilized by the noncontextual generators $G_{j}'$"
   ]
  },
  {
   "cell_type": "code",
   "execution_count": 44,
   "metadata": {},
   "outputs": [
    {
     "name": "stdout",
     "output_type": "stream",
     "text": [
      "['ZII', 'IZI', 'IIZ']\n"
     ]
    }
   ],
   "source": [
    "print(diagonalized_generators_GuA) # G_j' terms!"
   ]
  },
  {
   "cell_type": "markdown",
   "metadata": {},
   "source": [
    "The quantum correction is then obtained by minimizing the expectation value of this resticted Hamiltonian!\n",
    "\n",
    "(over +1 eigenvectors of the remaining non-contextual generators $\\mathcal{A}'$)"
   ]
  },
  {
   "cell_type": "code",
   "execution_count": 45,
   "metadata": {},
   "outputs": [
    {
     "name": "stdout",
     "output_type": "stream",
     "text": [
      "['IIZ', 'XXX']\n"
     ]
    }
   ],
   "source": [
    "print(Ci1_list) # mathcal(A)"
   ]
  },
  {
   "cell_type": "markdown",
   "metadata": {},
   "source": [
    "- $\\mathcal{H}_{1}$ denotes Hilbert space of $n_{1}$ qubits acted on by by the single qubit $G_{j}'$ terms\n",
    "- $\\mathcal{H}_{2}$ denotes Hilbert space of remaining $n_{2}$\n",
    "\n",
    "Overall full Hilbert space is: $\\mathcal{H}=\\mathcal{H}_{1} \\otimes \\mathcal{H}_{2}$\n",
    "\n",
    "The **contextual Hamiltonian** in this rotated basis is:\n",
    "\n",
    "$$H_{c}'=\\sum_{P \\in \\mathcal{S_{c}'}} h_{P}P$$\n",
    "\n",
    "The set of Pauli terms in $H_{c}'$ is $\\mathcal{S_{c}'}$, where terms in $\\mathcal{S_{c}'}$ act on both $\\mathcal{H}_{1}$ and $\\mathcal{H}_{2}$ subspaces in general!\n",
    "\n",
    "We can write $P$ terms as:\n",
    "\n",
    "$$P=P_{1}^{\\mathcal{H}_{1}} \\otimes P_{2}^{\\mathcal{H}_{2}}$$\n",
    "\n",
    "$P$ commutes with an element of $G'$ if and only if $P_{1} \\otimes \\mathcal{I}^{\\mathcal{H}_{2}}$ does\n",
    "\n",
    "As the generators $G'$ act only on $\\mathcal{H}_{1}$"
   ]
  },
  {
   "cell_type": "markdown",
   "metadata": {},
   "source": [
    "If $P$ anticommutes with any element of $G'$ then its expection value in the noncontextual state is zero\n",
    "\n",
    "Thus any $P$ must commute with all elements of $G'$ and so $P_{1} \\otimes \\mathcal{I}^{\\mathcal{H}_{2}}$ too\n",
    "\n",
    "As the elements of $G'$ are single-qubit Pauli $Z$ operators acting in $\\mathcal{H}_{1}$:"
   ]
  },
  {
   "cell_type": "code",
   "execution_count": 46,
   "metadata": {},
   "outputs": [
    {
     "name": "stdout",
     "output_type": "stream",
     "text": [
      "['ZII', 'IZI', 'IIZ']\n"
     ]
    }
   ],
   "source": [
    "print(diagonalized_generators_GuA) # G_j' terms!"
   ]
  },
  {
   "cell_type": "markdown",
   "metadata": {},
   "source": [
    "$P_{1}$ must be a product of such operators!\n",
    "\n",
    "**As the exepcation value of $P_{1}$ is some $p_{1}= \\pm 1$ DETERMINED BY THE NONCONTEXTUAL GROUND STATE**"
   ]
  },
  {
   "cell_type": "code",
   "execution_count": 47,
   "metadata": {},
   "outputs": [
    {
     "data": {
      "text/plain": [
       "array([ 1., -1.,  1.])"
      ]
     },
     "execution_count": 47,
     "metadata": {},
     "output_type": "execute_result"
    }
   ],
   "source": [
    "eigen_vals_nonC_ground_state_GuA_ops"
   ]
  },
  {
   "cell_type": "code",
   "execution_count": null,
   "metadata": {},
   "outputs": [],
   "source": []
  },
  {
   "cell_type": "markdown",
   "metadata": {},
   "source": [
    "Let $|\\psi_{(\\vec{q}, \\vec{r})} \\rangle$ be any quantum state consistent with the nonconxtual ground state $(\\vec{q}, \\vec{r})$... aka gives correct expection values of:"
   ]
  },
  {
   "cell_type": "code",
   "execution_count": 48,
   "metadata": {},
   "outputs": [
    {
     "name": "stdout",
     "output_type": "stream",
     "text": [
      "['ZII', 'IZI', 'IIZ']\n",
      "[ 1. -1.  1.]\n"
     ]
    }
   ],
   "source": [
    "print(diagonalized_generators_GuA)\n",
    "print(eigen_vals_nonC_ground_state_GuA_ops)"
   ]
  },
  {
   "cell_type": "markdown",
   "metadata": {},
   "source": [
    "Then the action of any $P$ which allows our contextual correction has the form:\n",
    "\n",
    "$$P |\\psi_{(\\vec{q}, \\vec{r})} \\rangle = \\big( P_{1}^{\\mathcal{H}_{1}} \\otimes P_{2}^{\\mathcal{H}_{2}} \\big) |\\psi_{(\\vec{q}, \\vec{r})} \\rangle$$\n",
    "\n",
    "$$ = p_{1}\\big( \\mathcal{I}^{\\mathcal{H}_{1}} \\otimes P_{2}^{\\mathcal{H}_{2}} \\big) |\\psi_{(\\vec{q}, \\vec{r})} \\rangle$$\n",
    "\n",
    "- repeating above, but $p_{1}$ is the expectation value of $P_{1}$ determiend by the noncontextual ground state!"
   ]
  },
  {
   "cell_type": "code",
   "execution_count": null,
   "metadata": {},
   "outputs": [],
   "source": []
  },
  {
   "cell_type": "markdown",
   "metadata": {},
   "source": [
    "Thus we can denote $H_{c}' |_{(\\vec{q}, \\vec{r})}$ as the restriction of $H_{c}'$ on its action on the noncontextual ground state $(\\vec{q}, \\vec{r})$:\n",
    "\n",
    "$$H_{c}' |_{(\\vec{q}, \\vec{r})} =\\sum_{\\substack{P \\in \\mathcal{S_{c}'} \\\\ \\text{s.t.} [P, G_{i}']=0 \\\\ \\forall G'_{i} \\in G'}} p_{1}h_{P}\\big( \\mathcal{I}^{\\mathcal{H}_{1}} \\otimes P_{2}^{\\mathcal{H}_{2}} \\big) $$\n",
    "\n",
    "$$=\\mathcal{I}_{\\mathcal{H}_{1}} \\otimes H_{c}'|_{\\mathcal{H}_{2}} $$\n",
    "\n",
    "\n",
    "where we can write:\n",
    "$$H_{c}'|_{\\mathcal{H}_{2}} = \\sum_{\\substack{P \\in \\mathcal{S_{c}'} \\\\ \\text{s.t.} [P, G_{i}']=0 \\\\ \\forall G'_{i} \\in G'}} p_{1}h_{P}P_{2}^{\\mathcal{H}_{2}}$$\n",
    "\n",
    "\n",
    "\n",
    "Cleary this Hamiltonian on $n_{2}$ qubits is given by:\n",
    "\n",
    "$$n_{2} = n - |G|$$\n",
    "\n",
    "- $|G|=$ number of noncontextual generators $G_{j}$"
   ]
  },
  {
   "cell_type": "code",
   "execution_count": null,
   "metadata": {},
   "outputs": [],
   "source": []
  },
  {
   "cell_type": "code",
   "execution_count": null,
   "metadata": {},
   "outputs": [],
   "source": []
  },
  {
   "cell_type": "code",
   "execution_count": 49,
   "metadata": {},
   "outputs": [],
   "source": [
    "from copy import deepcopy\n",
    "import pprint "
   ]
  },
  {
   "cell_type": "markdown",
   "metadata": {},
   "source": [
    "```quantum_correction``` function"
   ]
  },
  {
   "cell_type": "code",
   "execution_count": 79,
   "metadata": {},
   "outputs": [
    {
     "data": {
      "text/plain": [
       "50"
      ]
     },
     "execution_count": 79,
     "metadata": {},
     "output_type": "execute_result"
    }
   ],
   "source": [
    "new = R_OPER*Ham_openF\n"
   ]
  },
  {
   "cell_type": "code",
   "execution_count": 108,
   "metadata": {},
   "outputs": [
    {
     "data": {
      "text/plain": [
       "[0.9238795325112867 [], 0.3826834323650898j [X0 X1 Y2]]"
      ]
     },
     "execution_count": 108,
     "metadata": {},
     "output_type": "execute_result"
    }
   ],
   "source": [
    "R_LCU"
   ]
  },
  {
   "cell_type": "code",
   "execution_count": null,
   "metadata": {},
   "outputs": [],
   "source": []
  },
  {
   "cell_type": "code",
   "execution_count": 133,
   "metadata": {},
   "outputs": [
    {
     "data": {
      "text/plain": [
       "{'III': (0.7071067811865475+0j), 'ZZY': 0.7071067811865476j}"
      ]
     },
     "execution_count": 133,
     "metadata": {},
     "output_type": "execute_result"
    }
   ],
   "source": [
    "n_q = len(diagonalized_generators_GuA[0])\n",
    "\n",
    "# rotated_H = deepcopy(ham)  ##<-- full Hamiltonian\n",
    "\n",
    "# iteratively perform R rotation over all terms in orginal Hamiltonian\n",
    "\n",
    "\n",
    "### LCU rotation\n",
    "if R_LCU is not None:\n",
    "    Ham_openF = conv_scr.Get_Openfermion_Hamiltonian(ham)  ##<-- full Hamiltonian\n",
    "    R_openF = QubitOperator()\n",
    "    for op in R_LCU:\n",
    "        R_openF+=op\n",
    "    rotated_H = R_openF*R_openF\n",
    "\n",
    "            \n",
    "rotated_H = conv_scr.Openfermion_to_dict(rotated_H, n_q)\n",
    "\n",
    "for R in Rotations_list:\n",
    "    newly_rotated_H={}\n",
    "    for P in rotated_H.keys():\n",
    "        lin_comb_Rot_P = c.apply_rotation(R,P) # linear combination of Paulis from R rotation on P\n",
    "        \n",
    "        for P_rot in lin_comb_Rot_P:\n",
    "            \n",
    "            if P_rot in newly_rotated_H.keys():\n",
    "                newly_rotated_H[P_rot]+=lin_comb_Rot_P[P_rot]*rotated_H[P] # already in it hence +=\n",
    "            else:\n",
    "                newly_rotated_H[P_rot]=lin_comb_Rot_P[P_rot]*rotated_H[P]\n",
    "                \n",
    "    rotated_H = deepcopy(newly_rotated_H) ##<-- perform next R rotation on this H\n",
    "    \n",
    "rotated_H"
   ]
  },
  {
   "cell_type": "markdown",
   "metadata": {},
   "source": [
    "next find where Z indices in $G'$"
   ]
  },
  {
   "cell_type": "code",
   "execution_count": 134,
   "metadata": {},
   "outputs": [
    {
     "name": "stdout",
     "output_type": "stream",
     "text": [
      "['ZII', 'IZI', 'IIZ']\n",
      "[0, 1, 2]\n"
     ]
    }
   ],
   "source": [
    "z_indices = []\n",
    "for d in diagonalized_generators_GuA:\n",
    "    for i in range(n_q):\n",
    "        if d[i] == 'Z':\n",
    "            z_indices.append(i)\n",
    "            \n",
    "print(diagonalized_generators_GuA)\n",
    "print(z_indices)"
   ]
  },
  {
   "cell_type": "code",
   "execution_count": null,
   "metadata": {},
   "outputs": [],
   "source": []
  },
  {
   "cell_type": "markdown",
   "metadata": {},
   "source": [
    "**The exepcation value of $P_{1}$ terms are $p_{1}= \\pm 1$ DETERMINED BY THE NONCONTEXTUAL GROUND STATE**"
   ]
  },
  {
   "cell_type": "code",
   "execution_count": 135,
   "metadata": {},
   "outputs": [
    {
     "name": "stdout",
     "output_type": "stream",
     "text": [
      "['ZII', 'IZI', 'IIZ']\n",
      "[ 1. -1.  1.]\n"
     ]
    }
   ],
   "source": [
    "print(diagonalized_generators_GuA)\n",
    "print(eigen_vals_nonC_ground_state_GuA_ops)"
   ]
  },
  {
   "cell_type": "markdown",
   "metadata": {},
   "source": [
    "We need to ENFORCE the diagnal geneators assigned values in the diagonal basis to these expectation values above^^^"
   ]
  },
  {
   "cell_type": "code",
   "execution_count": 136,
   "metadata": {},
   "outputs": [
    {
     "data": {
      "text/plain": [
       "{'': (0.7071067811865475+0j)}"
      ]
     },
     "execution_count": 136,
     "metadata": {},
     "output_type": "execute_result"
    }
   ],
   "source": [
    "ham_red = {}\n",
    "    \n",
    "for P in rotated_H.keys():\n",
    "    sgn = 1\n",
    "    for j, z_index in enumerate(z_indices): # enforce diagonal generator's assigned values in diagonal basis\n",
    "        if P[z_index] == 'Z':\n",
    "            sgn = sgn*eigen_vals_nonC_ground_state_GuA_ops[j] #<- eigenvalue of nonC ground state!\n",
    "        elif P[z_index] != 'I':\n",
    "            sgn = 0\n",
    "\n",
    "    if sgn != 0:\n",
    "        # construct term in reduced Hilbert space\n",
    "        P_red = ''\n",
    "        for i in range(n_q):\n",
    "            if not i in z_indices:\n",
    "                P_red = P_red + P[i]\n",
    "        if P_red in ham_red.keys():\n",
    "            ham_red[P_red] = ham_red[P_red] + rotated_H[P]*sgn\n",
    "        else:\n",
    "            ham_red[P_red] = rotated_H[P]*sgn\n",
    "            \n",
    "ham_red"
   ]
  },
  {
   "cell_type": "code",
   "execution_count": 66,
   "metadata": {},
   "outputs": [
    {
     "data": {
      "text/plain": [
       "-2.903212918716725"
      ]
     },
     "execution_count": 66,
     "metadata": {},
     "output_type": "execute_result"
    }
   ],
   "source": [
    "c.quantum_correction(ham, #<- full Ham\n",
    "                     model,\n",
    "                     fn_form,\n",
    "                     ground_state_params)"
   ]
  },
  {
   "cell_type": "code",
   "execution_count": null,
   "metadata": {},
   "outputs": [],
   "source": [
    "c.quantum_correction(nonCon_H,model,fn_form,ground_state_params)"
   ]
  },
  {
   "cell_type": "code",
   "execution_count": null,
   "metadata": {},
   "outputs": [],
   "source": [
    "c.get_reduced_hamiltonians(ham,\n",
    "                           model,\n",
    "                           fn_form,\n",
    "                           ground_state_params,\n",
    "                           list(range(hamiltonians[mol_key][1])))[-1] == rotated_H ### aka when considering all qubit problem it is equal to rotated H!"
   ]
  },
  {
   "cell_type": "markdown",
   "metadata": {},
   "source": [
    "For some reason it seems that when considering full Hamiltonian there is no reduction in the number of terms!\n",
    "\n",
    "Q. Do you expect any term reduction when doing CS-VQE?"
   ]
  },
  {
   "cell_type": "code",
   "execution_count": null,
   "metadata": {},
   "outputs": [],
   "source": [
    "n2 = hamiltonians[mol_key][1]-len(diagonalized_generators_GuA)\n",
    "n2"
   ]
  },
  {
   "cell_type": "code",
   "execution_count": null,
   "metadata": {},
   "outputs": [],
   "source": [
    "ham_red"
   ]
  },
  {
   "cell_type": "code",
   "execution_count": null,
   "metadata": {},
   "outputs": [],
   "source": []
  },
  {
   "cell_type": "code",
   "execution_count": null,
   "metadata": {},
   "outputs": [],
   "source": []
  },
  {
   "cell_type": "code",
   "execution_count": null,
   "metadata": {},
   "outputs": [],
   "source": []
  },
  {
   "cell_type": "code",
   "execution_count": null,
   "metadata": {},
   "outputs": [],
   "source": []
  },
  {
   "cell_type": "code",
   "execution_count": null,
   "metadata": {},
   "outputs": [],
   "source": []
  },
  {
   "cell_type": "code",
   "execution_count": null,
   "metadata": {},
   "outputs": [],
   "source": []
  },
  {
   "cell_type": "code",
   "execution_count": null,
   "metadata": {},
   "outputs": [],
   "source": []
  },
  {
   "cell_type": "code",
   "execution_count": null,
   "metadata": {},
   "outputs": [],
   "source": []
  },
  {
   "cell_type": "code",
   "execution_count": null,
   "metadata": {},
   "outputs": [],
   "source": []
  },
  {
   "cell_type": "code",
   "execution_count": null,
   "metadata": {},
   "outputs": [],
   "source": []
  },
  {
   "cell_type": "code",
   "execution_count": null,
   "metadata": {},
   "outputs": [],
   "source": []
  },
  {
   "cell_type": "code",
   "execution_count": null,
   "metadata": {},
   "outputs": [],
   "source": []
  },
  {
   "cell_type": "code",
   "execution_count": null,
   "metadata": {},
   "outputs": [],
   "source": []
  },
  {
   "cell_type": "code",
   "execution_count": null,
   "metadata": {},
   "outputs": [],
   "source": [
    "ham==Con_H"
   ]
  },
  {
   "cell_type": "code",
   "execution_count": null,
   "metadata": {},
   "outputs": [],
   "source": [
    "n_q = len(diagonalized_generators_GuA[0])\n",
    "rotated_Hcon = deepcopy(Con_H)\n",
    "\n",
    "# iteratively perform R rotation over all terms in orginal Hamiltonian\n",
    "for R in Rotations_list:\n",
    "    newly_rotated_H={}\n",
    "    for P in rotated_Hcon.keys():\n",
    "        lin_comb_Rot_P = c.apply_rotation(R,P) # linear combination of Paulis from R rotation on P\n",
    "        \n",
    "        for P_rot in lin_comb_Rot_P:\n",
    "            \n",
    "            if P_rot in newly_rotated_H.keys():\n",
    "                newly_rotated_H[P_rot]+=lin_comb_Rot_P[P_rot]*rotated_Hcon[P] # already in it hence +=\n",
    "            else:\n",
    "                newly_rotated_H[P_rot]=lin_comb_Rot_P[P_rot]*rotated_Hcon[P]\n",
    "                \n",
    "    rotated_Hcon = deepcopy(newly_rotated_H) ##<-- perform next R rotation on this H\n",
    "    \n",
    "rotated_Hcon"
   ]
  },
  {
   "cell_type": "code",
   "execution_count": null,
   "metadata": {},
   "outputs": [],
   "source": [
    "print(diagonalized_generators_GuA)\n",
    "print(eigen_vals_nonC_ground_state_GuA_ops)\n",
    "\n",
    "p1_dict = {Gener.index('Z'): p1 for Gener, p1 in zip(diagonalized_generators_GuA, eigen_vals_nonC_ground_state_GuA_ops)}\n",
    "p1_dict"
   ]
  },
  {
   "cell_type": "code",
   "execution_count": null,
   "metadata": {},
   "outputs": [],
   "source": [
    "new={}\n",
    "for P1_P2 in rotated_Hcon.keys():\n",
    "    Z_indices = [i for i, sigma in enumerate(P1_P2) if sigma=='Z']\n",
    "    \n",
    "    I1_P2=list(deepcopy(P1_P2))\n",
    "    sign=1\n",
    "    for ind in Z_indices:\n",
    "        sign*=p1_dict[ind]\n",
    "        I1_P2[ind]='I'\n",
    "    I1_P2=''.join(I1_P2)\n",
    "    \n",
    "    new[I1_P2]=rotated_Hcon[P1_P2]*sign\n",
    "    \n",
    "new    "
   ]
  },
  {
   "cell_type": "code",
   "execution_count": null,
   "metadata": {},
   "outputs": [],
   "source": [
    "len(rotated_Hcon)-len(diagonalized_generators_GuA)\n",
    "# len(new)"
   ]
  },
  {
   "cell_type": "code",
   "execution_count": null,
   "metadata": {},
   "outputs": [],
   "source": [
    "H = conv_scr.Get_Operfermion_Hamiltonian(new)\n",
    "sparseH = qubit_operator_sparse(H, n_qubits=hamiltonians[mol_key][1])\n",
    "sp.sparse.linalg.eigsh(sparseH, which='SA', k=1)[0][0]"
   ]
  },
  {
   "cell_type": "code",
   "execution_count": null,
   "metadata": {},
   "outputs": [],
   "source": []
  },
  {
   "cell_type": "code",
   "execution_count": null,
   "metadata": {},
   "outputs": [],
   "source": []
  },
  {
   "cell_type": "code",
   "execution_count": null,
   "metadata": {},
   "outputs": [],
   "source": [
    "H_reduced_subspace={}\n",
    "for P in rotated_H.keys():\n",
    "    \n",
    "    sign=1\n",
    "    for P_known, eigen_val in zip(diagonalized_generators_GuA, eigen_vals_nonC_ground_state_GuA_ops):\n",
    "        Z_index = P_known.index('Z') # Find single qubit Z in generator!\n",
    "        \n",
    "        if P[Z_index]== 'Z': # compare location in genertor to P of rotated H\n",
    "            \n",
    "            sign*=eigen_val #<- eigenvalue of nonC ground state!\n",
    "            \n",
    "        elif P[Z_index]!= 'I': \n",
    "            sign=0 # MUST anti-commute!\n",
    "    \n",
    "    # build reduced Hilbert Space\n",
    "    if sign!=0:\n",
    "        P_new = list(deepcopy(P))\n",
    "        P_new[Z_index]='I'\n",
    "        P_new= ''.join(P_new)\n",
    "        \n",
    "        if P_new in H_reduced_subspace.keys():\n",
    "            H_reduced_subspace[P_new] = H_reduced_subspace[P_new] + rotated_H[P]*sign\n",
    "        else:\n",
    "            H_reduced_subspace[P_new] = rotated_H[P]*sign\n",
    "            \n",
    "#     else:\n",
    "#         H_reduced_subspace[P]=rotated_H[P]"
   ]
  },
  {
   "cell_type": "code",
   "execution_count": null,
   "metadata": {},
   "outputs": [],
   "source": [
    "print(len(rotated_H))\n",
    "print(len(H_reduced_subspace))"
   ]
  },
  {
   "cell_type": "code",
   "execution_count": null,
   "metadata": {},
   "outputs": [],
   "source": []
  },
  {
   "cell_type": "code",
   "execution_count": null,
   "metadata": {},
   "outputs": [],
   "source": [
    "# H_reduced_subspace"
   ]
  },
  {
   "cell_type": "code",
   "execution_count": null,
   "metadata": {},
   "outputs": [],
   "source": [
    "lowest_eigenvalue"
   ]
  },
  {
   "cell_type": "code",
   "execution_count": null,
   "metadata": {},
   "outputs": [],
   "source": [
    "from openfermion import qubit_operator_sparse\n",
    "import conversion_scripts as conv_scr\n",
    "import scipy as sp\n",
    "H = conv_scr.Get_Operfermion_Hamiltonian(H_reduced_subspace)\n",
    "sparseH = qubit_operator_sparse(H, n_qubits=hamiltonians[mol_key][1])\n",
    "sp.sparse.linalg.eigsh(sparseH, which='SA', k=1)[0][0]"
   ]
  },
  {
   "cell_type": "code",
   "execution_count": null,
   "metadata": {},
   "outputs": [],
   "source": [
    "c.quantum_correction(ham, #<- full Ham\n",
    "                     model,\n",
    "                     fn_form,\n",
    "                     ground_state_params)"
   ]
  },
  {
   "cell_type": "code",
   "execution_count": null,
   "metadata": {},
   "outputs": [],
   "source": [
    "lowest_eigenvalue"
   ]
  },
  {
   "cell_type": "code",
   "execution_count": null,
   "metadata": {},
   "outputs": [],
   "source": []
  },
  {
   "cell_type": "code",
   "execution_count": null,
   "metadata": {},
   "outputs": [],
   "source": [
    "Hfull = conv_scr.Get_Operfermion_Hamiltonian(ham)\n",
    "sparseHfull = qubit_operator_sparse(Hfull, n_qubits=hamiltonians[mol_key][1])\n",
    "FCI = sp.sparse.linalg.eigsh(sparseHfull, which='SA', k=1)[0][0]\n",
    "print('FCI=', FCI)"
   ]
  },
  {
   "cell_type": "code",
   "execution_count": null,
   "metadata": {},
   "outputs": [],
   "source": [
    "sp.sparse.linalg.eigsh(sparseH, which='SA', k=1)[0][0]"
   ]
  },
  {
   "cell_type": "code",
   "execution_count": null,
   "metadata": {},
   "outputs": [],
   "source": []
  },
  {
   "cell_type": "code",
   "execution_count": null,
   "metadata": {},
   "outputs": [],
   "source": []
  },
  {
   "cell_type": "code",
   "execution_count": null,
   "metadata": {},
   "outputs": [],
   "source": []
  },
  {
   "cell_type": "code",
   "execution_count": null,
   "metadata": {},
   "outputs": [],
   "source": []
  },
  {
   "cell_type": "code",
   "execution_count": null,
   "metadata": {},
   "outputs": [],
   "source": []
  },
  {
   "cell_type": "code",
   "execution_count": null,
   "metadata": {},
   "outputs": [],
   "source": []
  },
  {
   "cell_type": "code",
   "execution_count": null,
   "metadata": {},
   "outputs": [],
   "source": []
  },
  {
   "cell_type": "code",
   "execution_count": null,
   "metadata": {},
   "outputs": [],
   "source": [
    "print(diagonalized_generators_GuA)\n",
    "print(eigen_vals_nonC_ground_state_GuA_ops)\n",
    "\n",
    "p1_dict = {Gener.index('Z'): p1 for Gener, p1 in zip(diagonalized_generators_GuA, eigen_vals_nonC_ground_state_GuA_ops)}\n",
    "p1_dict"
   ]
  },
  {
   "cell_type": "code",
   "execution_count": null,
   "metadata": {
    "code_folding": []
   },
   "outputs": [],
   "source": [
    "H_reduced_subspace={}\n",
    "for P in rotated_Hcon.keys():\n",
    "    \n",
    "    new_sign=1\n",
    "    P_new = list(P)\n",
    "    for index, sigma in enumerate(P):\n",
    "        if sigma == 'Z':\n",
    "            new_sign*=p1_dict[index]\n",
    "            P_new[index]='I'\n",
    "    \n",
    "    P_new = ''.join(P_new)\n",
    "    H_reduced_subspace[P_new] = rotated_Hcon[P]*new_sign"
   ]
  },
  {
   "cell_type": "code",
   "execution_count": null,
   "metadata": {},
   "outputs": [],
   "source": [
    "H_reduced_subspace\n",
    "\n",
    "H_con_subspace = conv_scr.Get_Operfermion_Hamiltonian(H_reduced_subspace)\n",
    "sparseH_con_subspace = qubit_operator_sparse(H_con_subspace, n_qubits=hamiltonians[mol_key][1])\n",
    "sp.sparse.linalg.eigsh(sparseH_con_subspace, which='SA', k=1)[0][0]"
   ]
  },
  {
   "cell_type": "code",
   "execution_count": null,
   "metadata": {},
   "outputs": [],
   "source": [
    "# H_reduced_subspace={}\n",
    "# for P in rotated_Hcon.keys():\n",
    "    \n",
    "#     p1=1\n",
    "#     for P_known, eigen_val in zip(diagonalized_generators_GuA, eigen_vals_nonC_ground_state_GuA_ops):\n",
    "#         Z_index = P_known.index('Z') # Find single qubit Z in generator!\n",
    "        \n",
    "#         if P[Z_index]== 'Z': # compare location in genertor to P of rotated H\n",
    "#             p1*=eigen_val #<- eigenvalue of nonC ground state!\n",
    "            \n",
    "#             P1_P2 = list(deepcopy(P))\n",
    "#             P1_P2[Z_index]='I'\n",
    "#             I1_P2= ''.join(P1_P2)\n",
    "            \n",
    "#             if I1_P2 in H_reduced_subspace.keys():\n",
    "#                 H_reduced_subspace[I1_P2] += rotated_Hcon[P]*p1\n",
    "#             else:\n",
    "#                 H_reduced_subspace[I1_P2] = rotated_Hcon[P]*p1\n",
    "            \n",
    "#         elif P[Z_index]== 'I':\n",
    "#             H_reduced_subspace[P] = rotated_Hcon[P]\n",
    "            \n",
    "#         elif P[Z_index]!= 'I': \n",
    "#             sign=0 # MUST anti-commute!\n",
    "#             H_reduced_subspace[P]=0\n",
    "    \n",
    "# #         # build reduced Hilbert Space\n",
    "# #         if sign!=0:\n",
    "# #             if P_new in H_reduced_subspace.keys():\n",
    "# #                 H_reduced_subspace[P_new] = H_reduced_subspace[P_new] + rotated_Hcon[P]*sign\n",
    "# #             else:\n",
    "# #                 H_reduced_subspace[P_new] = rotated_Hcon[P_new]*sign\n",
    "            \n",
    "# # #     else:\n",
    "# # #         H_reduced_subspace[P]=rotated_H[P]"
   ]
  },
  {
   "cell_type": "code",
   "execution_count": null,
   "metadata": {},
   "outputs": [],
   "source": [
    "H_reduced_subspace"
   ]
  },
  {
   "cell_type": "code",
   "execution_count": null,
   "metadata": {},
   "outputs": [],
   "source": [
    "nonCon_Energy = lowest_eigenvalue\n",
    "\n",
    "H_con_subspace = conv_scr.Get_Operfermion_Hamiltonian(H_reduced_subspace)\n",
    "sparseH_con_subspace = qubit_operator_sparse(H_con_subspace, n_qubits=hamiltonians[mol_key][1])\n",
    "Con_Energy = sp.sparse.linalg.eigsh(sparseH_con_subspace, which='SA', k=1)[0][0]\n",
    "\n",
    "Con_Energy+nonCon_Energy"
   ]
  },
  {
   "cell_type": "code",
   "execution_count": null,
   "metadata": {},
   "outputs": [],
   "source": [
    "FCI"
   ]
  },
  {
   "cell_type": "code",
   "execution_count": null,
   "metadata": {},
   "outputs": [],
   "source": [
    "c.quantum_correction(ham, #<- full Ham\n",
    "                     model,\n",
    "                     fn_form,\n",
    "                     ground_state_params)"
   ]
  },
  {
   "cell_type": "code",
   "execution_count": null,
   "metadata": {},
   "outputs": [],
   "source": [
    "FCI-lowest_eigenvalue"
   ]
  },
  {
   "cell_type": "code",
   "execution_count": null,
   "metadata": {},
   "outputs": [],
   "source": [
    "Con_Energy"
   ]
  },
  {
   "cell_type": "code",
   "execution_count": null,
   "metadata": {},
   "outputs": [],
   "source": []
  },
  {
   "cell_type": "code",
   "execution_count": null,
   "metadata": {},
   "outputs": [],
   "source": [
    "c.commute(P_gen, P)"
   ]
  },
  {
   "cell_type": "code",
   "execution_count": null,
   "metadata": {},
   "outputs": [],
   "source": []
  },
  {
   "cell_type": "code",
   "execution_count": null,
   "metadata": {},
   "outputs": [],
   "source": []
  },
  {
   "cell_type": "code",
   "execution_count": 86,
   "metadata": {},
   "outputs": [
    {
     "data": {
      "text/plain": [
       "[1 [Z2], 1 [X0 X1 X2]]"
      ]
     },
     "execution_count": 86,
     "metadata": {},
     "output_type": "execute_result"
    }
   ],
   "source": [
    "script_A = model[1]\n",
    "\n",
    "qubit_script_A_list = [conv_scr.convert_op_str(op, 1) for op in script_A]\n",
    "qubit_script_A_list"
   ]
  },
  {
   "cell_type": "code",
   "execution_count": 88,
   "metadata": {},
   "outputs": [],
   "source": [
    "import Unitary_partitioning_LCU_method as LCU_UP"
   ]
  },
  {
   "cell_type": "code",
   "execution_count": 91,
   "metadata": {},
   "outputs": [
    {
     "data": {
      "text/plain": [
       "1 [Z2]"
      ]
     },
     "execution_count": 91,
     "metadata": {},
     "output_type": "execute_result"
    }
   ],
   "source": [
    "N_index=0\n",
    "N_Qubits=3\n",
    "R_linear_comb_list, Pn, gamma_l  = LCU_UP.Get_R_op_list(qubit_script_A_list, \n",
    "                                                 N_index, \n",
    "                                                 N_Qubits, \n",
    "                                                 check_reduction=False, \n",
    "                                                 atol=1e-8,\n",
    "                                                 rtol=1e-05)\n",
    "Pn"
   ]
  },
  {
   "cell_type": "code",
   "execution_count": 100,
   "metadata": {},
   "outputs": [
    {
     "data": {
      "text/plain": [
       "1.0 [X0 X1 X2] +\n",
       "1.0 [Z2]"
      ]
     },
     "execution_count": 100,
     "metadata": {},
     "output_type": "execute_result"
    }
   ],
   "source": [
    "original_A = QubitOperator()\n",
    "for op in qubit_script_A_list:\n",
    "    original_A+=op\n",
    "original_A"
   ]
  },
  {
   "cell_type": "code",
   "execution_count": 101,
   "metadata": {},
   "outputs": [
    {
     "data": {
      "text/plain": [
       "0.9238795325112867 [] +\n",
       "0.3826834323650898j [X0 X1 Y2]"
      ]
     },
     "execution_count": 101,
     "metadata": {},
     "output_type": "execute_result"
    }
   ],
   "source": [
    "R_test = QubitOperator()\n",
    "for op in R_linear_comb_list:\n",
    "    R_test+=op\n",
    "R_test"
   ]
  },
  {
   "cell_type": "code",
   "execution_count": 103,
   "metadata": {},
   "outputs": [
    {
     "data": {
      "text/plain": [
       "(0.9999999999999999+0j) [X0 X1 X2] +\n",
       "(1+0j) [Z2]"
      ]
     },
     "execution_count": 103,
     "metadata": {},
     "output_type": "execute_result"
    }
   ],
   "source": [
    "R_test*original_A*R_test"
   ]
  },
  {
   "cell_type": "code",
   "execution_count": 107,
   "metadata": {},
   "outputs": [
    {
     "data": {
      "text/plain": [
       "(1+0j) [Z2]"
      ]
     },
     "execution_count": 107,
     "metadata": {},
     "output_type": "execute_result"
    }
   ],
   "source": [
    "R_test*Pn*R_test"
   ]
  },
  {
   "cell_type": "code",
   "execution_count": 105,
   "metadata": {},
   "outputs": [
    {
     "data": {
      "text/plain": [
       "1.4142135623730951"
      ]
     },
     "execution_count": 105,
     "metadata": {},
     "output_type": "execute_result"
    }
   ],
   "source": [
    "gamma_l"
   ]
  }
 ],
 "metadata": {
  "kernelspec": {
   "display_name": "Python 3",
   "language": "python",
   "name": "python3"
  },
  "language_info": {
   "codemirror_mode": {
    "name": "ipython",
    "version": 3
   },
   "file_extension": ".py",
   "mimetype": "text/x-python",
   "name": "python",
   "nbconvert_exporter": "python",
   "pygments_lexer": "ipython3",
   "version": "3.7.6"
  }
 },
 "nbformat": 4,
 "nbformat_minor": 2
}
