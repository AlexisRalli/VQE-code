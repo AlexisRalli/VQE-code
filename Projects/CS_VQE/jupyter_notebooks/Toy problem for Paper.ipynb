{
 "cells": [
  {
   "cell_type": "code",
   "execution_count": 1,
   "metadata": {},
   "outputs": [],
   "source": [
    "import sys\n",
    "sys.path.append( '../' )"
   ]
  },
  {
   "cell_type": "code",
   "execution_count": 405,
   "metadata": {},
   "outputs": [],
   "source": [
    "import numpy as np\n",
    "import cs_vqe as c\n",
    "import ast\n",
    "import os\n",
    "\n",
    "import scipy as sp\n",
    "import matplotlib.pyplot as plt"
   ]
  },
  {
   "cell_type": "code",
   "execution_count": 205,
   "metadata": {},
   "outputs": [],
   "source": [
    "from openfermion import qubit_operator_sparse\n",
    "from quchem.Misc_functions import conversion_scripts as conv_scr\n",
    "from openfermion.ops import QubitOperator"
   ]
  },
  {
   "cell_type": "code",
   "execution_count": 464,
   "metadata": {},
   "outputs": [],
   "source": [
    "ham = {\n",
    " # noncon\n",
    " 'ZII':0.1,\n",
    " 'IXI':0.3,\n",
    " 'IYI':0.1,\n",
    " 'IZX':0.2,\n",
    " 'IZY':0.7,\n",
    " 'IZZ':0.9,\n",
    " 'ZXI':0.2,\n",
    " 'ZYI':0.1,\n",
    " 'ZZX':0.8,\n",
    " 'ZZY':0.7,\n",
    " 'ZZZ':0.6,\n",
    "\n",
    " # con\n",
    " 'IIX':0.4,\n",
    " 'IIY':0.6,\n",
    " 'IIZ':0.7,\n",
    "      }\n",
    "n_qubits = 3"
   ]
  },
  {
   "cell_type": "code",
   "execution_count": 5,
   "metadata": {},
   "outputs": [
    {
     "data": {
      "text/plain": [
       "14"
      ]
     },
     "execution_count": 5,
     "metadata": {},
     "output_type": "execute_result"
    }
   ],
   "source": [
    "len(ham)"
   ]
  },
  {
   "cell_type": "code",
   "execution_count": 465,
   "metadata": {},
   "outputs": [],
   "source": [
    "ham_full_open_F = conv_scr.Get_Openfermion_Hamiltonian(ham)"
   ]
  },
  {
   "cell_type": "code",
   "execution_count": null,
   "metadata": {},
   "outputs": [],
   "source": []
  },
  {
   "cell_type": "markdown",
   "metadata": {},
   "source": [
    "# Get non-contextual H"
   ]
  },
  {
   "cell_type": "code",
   "execution_count": 466,
   "metadata": {},
   "outputs": [],
   "source": [
    "nonH_guesses = c.greedy_dfs(ham, 10, criterion='weight') # criterion='weight' // 'size'\n",
    "\n",
    "nonH = max(nonH_guesses, key=lambda x:len(x)) # largest nonCon part found by dfs alg"
   ]
  },
  {
   "cell_type": "code",
   "execution_count": 468,
   "metadata": {},
   "outputs": [
    {
     "name": "stdout",
     "output_type": "stream",
     "text": [
      "{'IXI': 0.3, 'IYI': 0.1, 'ZXI': 0.2, 'ZYI': 0.1}\n",
      "\n",
      "{'IIX': 0.4,\n",
      " 'IIY': 0.6,\n",
      " 'IIZ': 0.7,\n",
      " 'IZX': 0.2,\n",
      " 'IZY': 0.7,\n",
      " 'IZZ': 0.9,\n",
      " 'ZII': 0.1,\n",
      " 'ZZX': 0.8,\n",
      " 'ZZY': 0.7,\n",
      " 'ZZZ': 0.6}\n"
     ]
    }
   ],
   "source": [
    "nonCon_H = {}\n",
    "Con_H = {}\n",
    "\n",
    "for P in ham:\n",
    "    if P in nonH:\n",
    "        nonCon_H[P]=ham[P]\n",
    "    else:\n",
    "        Con_H[P]=ham[P]\n",
    "\n",
    "        \n",
    "import pprint\n",
    "\n",
    "pprint.pprint(Con_H)\n",
    "print()\n",
    "pprint.pprint(nonCon_H)"
   ]
  },
  {
   "cell_type": "code",
   "execution_count": 477,
   "metadata": {},
   "outputs": [],
   "source": [
    "Con_H = {'IXI': 0.3,\n",
    "         'IYI': 0.1,\n",
    "         'ZXI': 0.2,\n",
    "         'ZYI': 0.1\n",
    "        }\n",
    "\n",
    "nonCon_H = {\n",
    "             'IIX': 0.4,\n",
    "             'IIY': 0.6,\n",
    "             'IIZ': 0.7,\n",
    "             'IZX': 0.2,\n",
    "             'IZY': 0.7,\n",
    "             'IZZ': 0.9,\n",
    "             'ZII': 0.1,\n",
    "             'ZZX': 0.8,\n",
    "             'ZZY': 0.7,\n",
    "             'ZZZ': 0.6\n",
    "}"
   ]
  },
  {
   "cell_type": "markdown",
   "metadata": {},
   "source": [
    "Split into:\n",
    "\n",
    "$$H = H_{c} + H_{nc}$$"
   ]
  },
  {
   "cell_type": "markdown",
   "metadata": {},
   "source": [
    "## Testing contextuality"
   ]
  },
  {
   "cell_type": "code",
   "execution_count": 478,
   "metadata": {},
   "outputs": [
    {
     "name": "stdout",
     "output_type": "stream",
     "text": [
      "Is NONcontextual correct: True\n"
     ]
    }
   ],
   "source": [
    "print('Is NONcontextual correct:', not c.contextualQ_ham(nonCon_H))"
   ]
  },
  {
   "cell_type": "markdown",
   "metadata": {},
   "source": [
    "# Classical part of problem!"
   ]
  },
  {
   "cell_type": "markdown",
   "metadata": {},
   "source": [
    "Take $H_{nc}$ and split into:\n",
    "- $Z$ = operators that completely comute with all operators in $S$\n",
    "- $T$ = remaining operators in $S$\n",
    "    - where $S = Z \\cup T$  and $S$ is set of Pauli operators in $H_{nc}$\n",
    "    \n",
    "    \n",
    "- We then split the set $T$ into cliques $C_{1}, C_{2}, ... , C_{|T|}$\n",
    "    - all ops in a clique commute\n",
    "    - ops between cliques anti-commute!"
   ]
  },
  {
   "cell_type": "code",
   "execution_count": 479,
   "metadata": {},
   "outputs": [],
   "source": [
    "bool_flag, Z_list, T_list = c.contextualQ(list(nonCon_H.keys()), verbose=True)"
   ]
  },
  {
   "cell_type": "code",
   "execution_count": 480,
   "metadata": {},
   "outputs": [
    {
     "data": {
      "text/plain": [
       "['ZII']"
      ]
     },
     "execution_count": 480,
     "metadata": {},
     "output_type": "execute_result"
    }
   ],
   "source": [
    "Z_list"
   ]
  },
  {
   "cell_type": "code",
   "execution_count": null,
   "metadata": {},
   "outputs": [],
   "source": []
  },
  {
   "cell_type": "markdown",
   "metadata": {},
   "source": [
    "## Get quasi model\n",
    "\n",
    "First we define\n",
    "\n",
    "- $C_{i1}$ = first Pauli in each $C_{i}$ set\n",
    "- $A_{ij} = C_{ij}C_{1i}$\n",
    "\n",
    "\n",
    "- $G^{prime} = \\{1 P_{i} \\;| \\; i=1,2,...,|Z| \\}$\n",
    "    - aka all the completely commuting terms with coefficients set to +1!\n",
    "\n",
    "- We define G to be an independent set of $G^{prime}$\n",
    "    - where $G \\subseteq G^{prime}$\n"
   ]
  },
  {
   "cell_type": "code",
   "execution_count": 474,
   "metadata": {},
   "outputs": [],
   "source": [
    "G_list, Ci1_list, all_mappings = c.quasi_model(nonCon_H)"
   ]
  },
  {
   "cell_type": "code",
   "execution_count": 482,
   "metadata": {},
   "outputs": [
    {
     "name": "stdout",
     "output_type": "stream",
     "text": [
      "non-independent Z list: ['ZII']\n",
      "G (independent) Z list: ['ZII', 'IZI']\n"
     ]
    }
   ],
   "source": [
    "print('non-independent Z list:', Z_list)\n",
    "print('G (independent) Z list:', G_list)"
   ]
  },
  {
   "cell_type": "code",
   "execution_count": 483,
   "metadata": {
    "scrolled": true
   },
   "outputs": [
    {
     "name": "stdout",
     "output_type": "stream",
     "text": [
      "all T list (dependent): ['IIX', 'IIY', 'IIZ', 'IZX', 'IZY', 'IZZ', 'ZZX', 'ZZY', 'ZZZ']\n",
      "all Ci1 terms (independent): ['IIZ', 'IIY', 'IIX']\n"
     ]
    }
   ],
   "source": [
    "print('all T list (dependent):', T_list)\n",
    "print('all Ci1 terms (independent):', Ci1_list)\n",
    "\n",
    "# T list can be built from Ci1 terms AND some combination of G_list!"
   ]
  },
  {
   "cell_type": "markdown",
   "metadata": {},
   "source": [
    "$$R = G \\cup \\{ C_{i1} \\;| \\; i=1,2,...,N \\}$$"
   ]
  },
  {
   "cell_type": "code",
   "execution_count": 271,
   "metadata": {},
   "outputs": [
    {
     "data": {
      "text/plain": [
       "{'IIX': [[], ['IIX'], 1],\n",
       " 'IIY': [[], ['IIY'], 1],\n",
       " 'IIZ': [[], ['IIZ'], 1],\n",
       " 'IZX': [['IZI'], ['IIX'], 1],\n",
       " 'IZY': [['IZI'], ['IIY'], 1],\n",
       " 'IZZ': [['IZI'], ['IIZ'], 1],\n",
       " 'ZII': [['ZII'], [], 1],\n",
       " 'ZZX': [['ZII', 'IZI'], ['IIX'], 1],\n",
       " 'ZZY': [['ZII', 'IZI'], ['IIY'], 1],\n",
       " 'ZZZ': [['ZII', 'IZI'], ['IIZ'], 1]}"
      ]
     },
     "execution_count": 271,
     "metadata": {},
     "output_type": "execute_result"
    }
   ],
   "source": [
    "# Assemble all the mappings from terms in the Hamiltonian to their products in R:\n",
    "all_mappings"
   ]
  },
  {
   "cell_type": "markdown",
   "metadata": {},
   "source": [
    "Overall $R$ is basically reduced non-contextual set\n",
    "- where everything in original non-contextual set can be found by **inference!**"
   ]
  },
  {
   "cell_type": "code",
   "execution_count": 272,
   "metadata": {},
   "outputs": [
    {
     "data": {
      "text/plain": [
       "['IIX', 'IIY', 'IIZ']"
      ]
     },
     "execution_count": 272,
     "metadata": {},
     "output_type": "execute_result"
    }
   ],
   "source": [
    "Ci1_list"
   ]
  },
  {
   "cell_type": "markdown",
   "metadata": {},
   "source": [
    "# Function form\n",
    "\n",
    "$$R = G \\cup \\{ C_{i1} \\;| \\; i=1,2,...,N \\}$$\n",
    "\n",
    "- note q to do with $G$\n",
    "- note r to do with $C_{i1}$"
   ]
  },
  {
   "cell_type": "code",
   "execution_count": 273,
   "metadata": {},
   "outputs": [],
   "source": [
    "model = [G_list, Ci1_list, all_mappings]\n",
    "fn_form = c.energy_function_form(nonCon_H, model)"
   ]
  },
  {
   "cell_type": "code",
   "execution_count": null,
   "metadata": {},
   "outputs": [],
   "source": []
  },
  {
   "cell_type": "code",
   "execution_count": 274,
   "metadata": {},
   "outputs": [
    {
     "data": {
      "text/plain": [
       "[2,\n",
       " 3,\n",
       " [[0.4, [], [0], 'IIX'],\n",
       "  [0.6, [], [1], 'IIY'],\n",
       "  [0.7, [], [2], 'IIZ'],\n",
       "  [0.2, [1], [0], 'IZX'],\n",
       "  [0.7, [1], [1], 'IZY'],\n",
       "  [0.9, [1], [2], 'IZZ'],\n",
       "  [0.1, [0], [], 'ZII'],\n",
       "  [0.8, [0, 1], [0], 'ZZX'],\n",
       "  [0.7, [0, 1], [1], 'ZZY'],\n",
       "  [0.6, [0, 1], [2], 'ZZZ']]]"
      ]
     },
     "execution_count": 274,
     "metadata": {},
     "output_type": "execute_result"
    }
   ],
   "source": [
    "fn_form"
   ]
  },
  {
   "cell_type": "code",
   "execution_count": 275,
   "metadata": {},
   "outputs": [],
   "source": [
    "Energy_function = c.energy_function(fn_form)"
   ]
  },
  {
   "cell_type": "code",
   "execution_count": 276,
   "metadata": {},
   "outputs": [
    {
     "name": "stdout",
     "output_type": "stream",
     "text": [
      "-3.186335345030996\n",
      "[[1, 1], [-0.4260064364450332, -0.6085806359213588, -0.6694386646205599]]\n"
     ]
    }
   ],
   "source": [
    "model = [G_list, Ci1_list, all_mappings]\n",
    "\n",
    "lowest_eigenvalue, ground_state_params, model_copy, fn_form_copy,  = c.find_gs_noncon(nonCon_H,\n",
    "               method = 'differential_evolution',\n",
    "               model=model,\n",
    "               fn_form=fn_form) # returns:  best + [model, fn_form]\n",
    "\n",
    "print(lowest_eigenvalue)\n",
    "print(ground_state_params)"
   ]
  },
  {
   "cell_type": "code",
   "execution_count": 277,
   "metadata": {},
   "outputs": [
    {
     "data": {
      "text/plain": [
       "True"
      ]
     },
     "execution_count": 277,
     "metadata": {},
     "output_type": "execute_result"
    }
   ],
   "source": [
    "## check\n",
    "Energy_function(*ground_state_params[0],*ground_state_params[1]) == lowest_eigenvalue"
   ]
  },
  {
   "cell_type": "code",
   "execution_count": 278,
   "metadata": {},
   "outputs": [
    {
     "data": {
      "text/plain": [
       "0.9999180000000001"
      ]
     },
     "execution_count": 278,
     "metadata": {},
     "output_type": "execute_result"
    }
   ],
   "source": [
    "sum(np.abs([-0.426, -0.609, -0.669])**2)"
   ]
  },
  {
   "cell_type": "markdown",
   "metadata": {},
   "source": [
    "# Now need to rotate Hamiltonian!"
   ]
  },
  {
   "cell_type": "markdown",
   "metadata": {},
   "source": [
    "We now have non contextual ground state: $(\\vec{q}, \\vec{r})$"
   ]
  },
  {
   "cell_type": "markdown",
   "metadata": {},
   "source": [
    "To do this we first rotate each $G_{j}$ and $\\mathcal{A} = \\sum_{i=1}^{N} r_{i}A_{i}$:"
   ]
  },
  {
   "cell_type": "code",
   "execution_count": 279,
   "metadata": {},
   "outputs": [
    {
     "name": "stdout",
     "output_type": "stream",
     "text": [
      "-0.4260064364450332 IIX\n",
      "-0.6085806359213588 IIY\n",
      "-0.6694386646205599 IIZ\n"
     ]
    }
   ],
   "source": [
    "for r_i, A_i in zip(ground_state_params[1],Ci1_list):\n",
    "    print(r_i, A_i)"
   ]
  },
  {
   "cell_type": "code",
   "execution_count": null,
   "metadata": {},
   "outputs": [],
   "source": []
  },
  {
   "cell_type": "code",
   "execution_count": 280,
   "metadata": {},
   "outputs": [
    {
     "name": "stdout",
     "output_type": "stream",
     "text": [
      "['ZII', 'IZI']\n",
      "['IIX', 'IIY', 'IIZ']\n"
     ]
    }
   ],
   "source": [
    "model = [G_list, Ci1_list, all_mappings]\n",
    "\n",
    "print(G_list) # G_j terms!\n",
    "print(Ci1_list) # mathcal(A)"
   ]
  },
  {
   "cell_type": "markdown",
   "metadata": {},
   "source": [
    "to SINGLE QUBIT pauli Z operators!\n",
    "\n",
    "- to map the operators in $G$ to single qubit Pauli operators, we use $\\frac{\\pi}{2}$ rotations!\n",
    "\n",
    "- note $\\mathcal{A}$ is an anti-commuting set... therefore we can use $N-1$ rotations as in unitary partitioning's sequence of rotations to do this!\n",
    "    - $R^{\\dagger}\\mathcal{A} R = \\text{single Pauli op}$"
   ]
  },
  {
   "cell_type": "markdown",
   "metadata": {},
   "source": [
    "# Rotate full Hamiltonian to basis with diagonal noncontextual generators!"
   ]
  },
  {
   "cell_type": "markdown",
   "metadata": {},
   "source": [
    "function ```diagonalize_epistemic```:\n",
    "1. first if else statement:\n",
    "    - if cliques present:\n",
    "        - first maps A to single Pauli operator (if cliques present)\n",
    "        - then rotates to diagonlize G union with single Pauli opator of A (hence GuA name!)\n",
    "    - else if NO cliques present:\n",
    "        - gets rotations to diagonlize G\n",
    "        \n",
    "     - these rotations make up GuA term in code!\n",
    "2. NEXT code loops over terms in GuA (denoted as g in code)\n",
    "    - if g is not a single qubit $Z$:\n",
    "        - code generates code to rotate operator to make g diagonal (rotations)\n",
    "        - then constructs map of g to single Z (J rotation)\n",
    "    - Note R is applied to GuA\n",
    "    \n",
    "    \n",
    "#########\n",
    "- Note rotations are given in Appendix A of https://arxiv.org/pdf/2011.10027.pdf\n",
    "    - First code checks if g op in GuA is diagonal\n",
    "        - if so then needs to apply \"K\" rotation (involving $Y$ and $I$ operators (see pg 11 top) to make it NOT diagononal\n",
    "    - now operator will be diagnoal!\n",
    "    - next generate \"J\" rotation\n",
    "        - turns non-diagonal operator into a single qubit $Z$ operator!"
   ]
  },
  {
   "cell_type": "code",
   "execution_count": 249,
   "metadata": {},
   "outputs": [],
   "source": [
    "# Get sequence of rotations requried to diagonalize the generators for the noncontextual ground state!\n",
    "\n",
    "Rotations_list, diagonalized_generators_GuA, eigen_vals_nonC_ground_state_GuA_ops = c.diagonalize_epistemic(model,\n",
    "                                                                                                            fn_form,\n",
    "                                                                                                            ground_state_params)"
   ]
  },
  {
   "cell_type": "code",
   "execution_count": 463,
   "metadata": {},
   "outputs": [
    {
     "data": {
      "text/plain": [
       "['IIX', 'IIY', 'IIZ']"
      ]
     },
     "execution_count": 463,
     "metadata": {},
     "output_type": "execute_result"
    }
   ],
   "source": [
    "Ci1_list"
   ]
  },
  {
   "cell_type": "code",
   "execution_count": null,
   "metadata": {},
   "outputs": [],
   "source": []
  },
  {
   "cell_type": "code",
   "execution_count": 282,
   "metadata": {},
   "outputs": [
    {
     "data": {
      "text/plain": [
       "-0.4260064364450332 [X2] +\n",
       "-0.6085806359213588 [Y2] +\n",
       "-0.6694386646205599 [Z2]"
      ]
     },
     "execution_count": 282,
     "metadata": {},
     "output_type": "execute_result"
    }
   ],
   "source": [
    "script_A_dict = dict(zip(Ci1_list, ground_state_params[1]))\n",
    "\n",
    "qubit_script_A_list = conv_scr.Get_Openfermion_Hamiltonian(script_A_dict)\n",
    "\n",
    "qubit_script_A_list"
   ]
  },
  {
   "cell_type": "code",
   "execution_count": null,
   "metadata": {},
   "outputs": [],
   "source": []
  },
  {
   "cell_type": "code",
   "execution_count": null,
   "metadata": {},
   "outputs": [],
   "source": []
  },
  {
   "cell_type": "code",
   "execution_count": 288,
   "metadata": {},
   "outputs": [
    {
     "data": {
      "text/plain": [
       "True"
      ]
     },
     "execution_count": 288,
     "metadata": {},
     "output_type": "execute_result"
    }
   ],
   "source": [
    "from openfermion import get_sparse_operator\n",
    "from scipy.linalg import expm\n",
    "X_sk_Op = QubitOperator('X0 Y1')\n",
    "theta=0.76\n",
    "mat = get_sparse_operator(X_sk_Op).todense()\n",
    "np.allclose(expm(-1j*theta/2* mat),\n",
    "            np.cos(theta/2)*np.eye(mat.shape[1]) - 1j*np.sin(theta/2)*mat)"
   ]
  },
  {
   "cell_type": "code",
   "execution_count": null,
   "metadata": {},
   "outputs": [],
   "source": []
  },
  {
   "cell_type": "code",
   "execution_count": null,
   "metadata": {},
   "outputs": [],
   "source": []
  },
  {
   "cell_type": "code",
   "execution_count": 289,
   "metadata": {},
   "outputs": [
    {
     "name": "stdout",
     "output_type": "stream",
     "text": [
      "(-1+0j) [Z2] 2.0508315127948626\n",
      "(1-0j) [Y2] -0.3667264482598517\n"
     ]
    },
    {
     "data": {
      "text/plain": [
       "[-0.4618103850589453 [] +\n",
       " 0.8869786740681586j [Z2],\n",
       " 0.9335061148471899 [] +\n",
       " 0.358561478052098j [Y2]]"
      ]
     },
     "execution_count": 289,
     "metadata": {},
     "output_type": "execute_result"
    }
   ],
   "source": [
    "from quchem.Unitary_Partitioning.Unitary_partitioning_Seq_Rot import Get_Xsk_op_list\n",
    "S_index=0\n",
    "N_Qubits=n_qubits\n",
    "check_reduction = True\n",
    "X_sk_theta_sk_list, normalised_FULL_set, Ps, gamma_l = Get_Xsk_op_list(qubit_script_A_list,\n",
    "                                                                        S_index,\n",
    "                                                                        N_Qubits,\n",
    "                                                                        check_reduction=check_reduction,\n",
    "                                                                        atol=1e-8,\n",
    "                                                                        rtol=1e-05)\n",
    "X_sk_theta_sk_list\n",
    "\n",
    "R_sk_OP_list = []\n",
    "for X_sk_Op, theta_sk in X_sk_theta_sk_list:\n",
    "    op = np.cos(theta_sk / 2) * QubitOperator('') -1j*np.sin(theta_sk / 2) * X_sk_Op\n",
    "    R_sk_OP_list.append(op)\n",
    "    print(X_sk_Op, theta_sk/2)\n",
    "    \n",
    "R_sk_OP_list"
   ]
  },
  {
   "cell_type": "code",
   "execution_count": 254,
   "metadata": {},
   "outputs": [
    {
     "data": {
      "text/plain": [
       "1 [X2]"
      ]
     },
     "execution_count": 254,
     "metadata": {},
     "output_type": "execute_result"
    }
   ],
   "source": [
    "Ps"
   ]
  },
  {
   "cell_type": "code",
   "execution_count": 290,
   "metadata": {},
   "outputs": [
    {
     "data": {
      "text/plain": [
       "[]"
      ]
     },
     "execution_count": 290,
     "metadata": {},
     "output_type": "execute_result"
    }
   ],
   "source": [
    "single_qubit_rot_op_list = []\n",
    "\n",
    "for ang_op in Rotations_list[len(X_sk_theta_sk_list):]:\n",
    "    angle = ang_op[0]\n",
    "    op = ang_op[1]\n",
    "    theta = np.pi/2\n",
    "    P = QubitOperator((' ').join([f'{sigma_i}{q_i}' for q_i, sigma_i in enumerate(op) if sigma_i != 'I']))\n",
    "    R_op = np.cos(theta / 2) * QubitOperator('') -1j*np.sin(theta / 2) * P\n",
    "    print(theta, angle, P)\n",
    "    \n",
    "    single_qubit_rot_op_list.append(R_op)\n",
    "single_qubit_rot_op_list"
   ]
  },
  {
   "cell_type": "code",
   "execution_count": 291,
   "metadata": {},
   "outputs": [],
   "source": [
    "from functools import reduce\n",
    "# print(Rotations_list)\n",
    "\n",
    "U_dag_op_full_SeqRot = [*R_sk_OP_list, *single_qubit_rot_op_list]\n",
    "U_dag_op_full_SeqRot_OPERATOR  = reduce(lambda x,y: x*y, U_dag_op_full_SeqRot) "
   ]
  },
  {
   "cell_type": "code",
   "execution_count": 292,
   "metadata": {},
   "outputs": [
    {
     "data": {
      "text/plain": [
       "[-0.4618103850589453 [] +\n",
       " 0.8869786740681586j [Z2],\n",
       " 0.9335061148471899 [] +\n",
       " 0.358561478052098j [Y2]]"
      ]
     },
     "execution_count": 292,
     "metadata": {},
     "output_type": "execute_result"
    }
   ],
   "source": [
    "U_dag_op_full_SeqRot"
   ]
  },
  {
   "cell_type": "code",
   "execution_count": 293,
   "metadata": {},
   "outputs": [
    {
     "data": {
      "text/plain": [
       "18"
      ]
     },
     "execution_count": 293,
     "metadata": {},
     "output_type": "execute_result"
    }
   ],
   "source": [
    "from copy import deepcopy\n",
    "\n",
    "ham_full = list(deepcopy(ham_full_open_F))\n",
    "counter=0\n",
    "for q_op in qubit_script_A_list:\n",
    "    for ind in range(len(ham_full)):\n",
    "        op = ham_full[ind]\n",
    "        if op*q_op==q_op*op:\n",
    "            continue\n",
    "        else:\n",
    "            ham_full[ind] = q_op*op\n",
    "            counter+=1\n",
    "counter"
   ]
  },
  {
   "cell_type": "code",
   "execution_count": null,
   "metadata": {},
   "outputs": [],
   "source": []
  },
  {
   "cell_type": "code",
   "execution_count": 294,
   "metadata": {},
   "outputs": [
    {
     "data": {
      "text/plain": [
       "56"
      ]
     },
     "execution_count": 294,
     "metadata": {},
     "output_type": "execute_result"
    }
   ],
   "source": [
    "14 + 14*len(list(qubit_script_A_list))"
   ]
  },
  {
   "cell_type": "code",
   "execution_count": 295,
   "metadata": {},
   "outputs": [
    {
     "data": {
      "text/plain": [
       "32"
      ]
     },
     "execution_count": 295,
     "metadata": {},
     "output_type": "execute_result"
    }
   ],
   "source": [
    "from openfermion import hermitian_conjugated\n",
    "\n",
    "H_subspace_SEQROT = U_dag_op_full_SeqRot_OPERATOR * ham_full_open_F * hermitian_conjugated(U_dag_op_full_SeqRot_OPERATOR)\n",
    "\n",
    "len(list(H_subspace_SEQROT))"
   ]
  },
  {
   "cell_type": "code",
   "execution_count": 309,
   "metadata": {},
   "outputs": [
    {
     "data": {
      "text/plain": [
       "(0.10000000000000002+0j) [Z0] +\n",
       "(0.20000000000000004+0j) [Z0 X1] +\n",
       "(0.10000000000000002+0j) [Z0 Y1] +\n",
       "(-0.6839287809152911+0j) [Z0 Z1 X2] +\n",
       "(-0.24361444275731284+0j) [Z0 Z1 Y2] +\n",
       "(0.9812713314449617+0j) [Z0 Z1 Z2] +\n",
       "(0.30000000000000004+0j) [X1] +\n",
       "(0.10000000000000002+0j) [Y1] +\n",
       "(-0.31315556082056084+0j) [Z1 X2] +\n",
       "(-0.7732904822811322+0j) [Z1 Y2] +\n",
       "(0.8024683325468829+0j) [Z1 Z2] +\n",
       "(-0.3932132276592766+0j) [X2] +\n",
       "(-0.48454301613251594+0j) [Y2] +\n",
       "(0.7877825988881568+0j) [Z2]"
      ]
     },
     "execution_count": 309,
     "metadata": {},
     "output_type": "execute_result"
    }
   ],
   "source": [
    "H_subspace_SEQROT"
   ]
  },
  {
   "cell_type": "code",
   "execution_count": 296,
   "metadata": {},
   "outputs": [
    {
     "data": {
      "text/plain": [
       "array([-3.24905452, -1.39605624, -1.24306881, -1.22260333,  1.02260333,\n",
       "        1.19605624,  1.44306881,  3.44905452])"
      ]
     },
     "execution_count": 296,
     "metadata": {},
     "output_type": "execute_result"
    }
   ],
   "source": [
    "from scipy.linalg import eigh\n",
    "ham_red_sparse = qubit_operator_sparse(H_subspace_SEQROT, n_qubits=n_qubits)\n",
    "eig_values_SEQROT, eig_vectors_SEQROT = eigh(ham_red_sparse.todense()) # NOT sparse!\n",
    "eig_values_SEQROT"
   ]
  },
  {
   "cell_type": "code",
   "execution_count": 297,
   "metadata": {},
   "outputs": [
    {
     "data": {
      "text/plain": [
       "array([-3.24905452, -1.39605624, -1.24306881, -1.22260333,  1.02260333,\n",
       "        1.19605624,  1.44306881,  3.44905452])"
      ]
     },
     "execution_count": 297,
     "metadata": {},
     "output_type": "execute_result"
    }
   ],
   "source": [
    "H_full_mat = qubit_operator_sparse(ham_full_open_F, n_qubits=n_qubits)\n",
    "eig_values, eig_vectors = eigh(H_full_mat.todense()) # NOT sparse!\n",
    "eig_values"
   ]
  },
  {
   "cell_type": "code",
   "execution_count": 298,
   "metadata": {},
   "outputs": [
    {
     "data": {
      "text/plain": [
       "3.0847422370805075e-15"
      ]
     },
     "execution_count": 298,
     "metadata": {},
     "output_type": "execute_result"
    }
   ],
   "source": [
    "np.linalg.norm(eig_values_SEQROT - eig_values)"
   ]
  },
  {
   "cell_type": "markdown",
   "metadata": {},
   "source": [
    "# NEW LCU method"
   ]
  },
  {
   "cell_type": "code",
   "execution_count": 299,
   "metadata": {},
   "outputs": [
    {
     "data": {
      "text/plain": [
       "1 [X2]"
      ]
     },
     "execution_count": 299,
     "metadata": {},
     "output_type": "execute_result"
    }
   ],
   "source": [
    "import quchem.Unitary_Partitioning.Unitary_partitioning_LCU_method as LCU_UP \n",
    "\n",
    "N_index=0\n",
    "N_Qubits=n_qubits\n",
    "R_linear_comb_list, Pn, gamma_l  = LCU_UP.Get_R_op_list(qubit_script_A_list, \n",
    "                                                 N_index, \n",
    "                                                 N_Qubits, \n",
    "                                                 check_reduction=False, \n",
    "                                                 atol=1e-8,\n",
    "                                                 rtol=1e-05)\n",
    "Pn"
   ]
  },
  {
   "cell_type": "code",
   "execution_count": 301,
   "metadata": {},
   "outputs": [
    {
     "data": {
      "text/plain": [
       "[0.5357208058097832 [],\n",
       " (-0-0.5680016804662293j) [Z2],\n",
       " 0.6248018159465095j [Y2]]"
      ]
     },
     "execution_count": 301,
     "metadata": {},
     "output_type": "execute_result"
    }
   ],
   "source": [
    "R_linear_comb_list"
   ]
  },
  {
   "cell_type": "code",
   "execution_count": null,
   "metadata": {},
   "outputs": [],
   "source": []
  },
  {
   "cell_type": "code",
   "execution_count": 302,
   "metadata": {},
   "outputs": [
    {
     "data": {
      "text/plain": [
       "[0.5357208058097832 [], -0.5680016804662293j [Z2], 0.6248018159465095j [Y2]]"
      ]
     },
     "execution_count": 302,
     "metadata": {},
     "output_type": "execute_result"
    }
   ],
   "source": [
    "import cs_vqe_with_LCU as c_LCU\n",
    "check_reduction=True\n",
    "N_Qubits= n_qubits\n",
    "\n",
    "R_LCU, Rotations_list, diagonalized_generators_GuA, eigen_vals_nonC_ground_state_GuA_ops = c_LCU.diagonalize_epistemic_LCU(\n",
    "                                      model,\n",
    "                                      fn_form,\n",
    "                                      ground_state_params,\n",
    "                                      check_reduction=True)\n",
    "R_LCU"
   ]
  },
  {
   "cell_type": "code",
   "execution_count": 303,
   "metadata": {},
   "outputs": [],
   "source": [
    "R_LCU_op = reduce(lambda x,y: x+y, R_LCU) "
   ]
  },
  {
   "cell_type": "code",
   "execution_count": 304,
   "metadata": {},
   "outputs": [],
   "source": [
    "U_dag_op_full_LCU = [R_LCU_op, *single_qubit_rot_op_list]\n",
    "U_dag_op_full_LCU_OPERATOR  = reduce(lambda x,y: x*y, U_dag_op_full_LCU) "
   ]
  },
  {
   "cell_type": "code",
   "execution_count": null,
   "metadata": {},
   "outputs": [],
   "source": []
  },
  {
   "cell_type": "code",
   "execution_count": 305,
   "metadata": {},
   "outputs": [
    {
     "data": {
      "text/plain": [
       "32"
      ]
     },
     "execution_count": 305,
     "metadata": {},
     "output_type": "execute_result"
    }
   ],
   "source": [
    "H_subspace_LCU = U_dag_op_full_LCU_OPERATOR * ham_full_open_F * hermitian_conjugated(U_dag_op_full_LCU_OPERATOR)\n",
    "len(list(H_subspace_LCU))"
   ]
  },
  {
   "cell_type": "code",
   "execution_count": 306,
   "metadata": {},
   "outputs": [
    {
     "data": {
      "text/plain": [
       "array([-3.24905452, -1.39605624, -1.24306881, -1.22260333,  1.02260333,\n",
       "        1.19605624,  1.44306881,  3.44905452])"
      ]
     },
     "execution_count": 306,
     "metadata": {},
     "output_type": "execute_result"
    }
   ],
   "source": [
    "ham_red_sparse = qubit_operator_sparse(H_subspace_LCU, n_qubits=n_qubits)\n",
    "eig_values_LCU, eig_vectors_LCU = eigh(ham_red_sparse.todense()) # NOT sparse!\n",
    "eig_values_LCU"
   ]
  },
  {
   "cell_type": "code",
   "execution_count": 307,
   "metadata": {},
   "outputs": [
    {
     "data": {
      "text/plain": [
       "1.1851858290408151e-14"
      ]
     },
     "execution_count": 307,
     "metadata": {},
     "output_type": "execute_result"
    }
   ],
   "source": [
    "np.linalg.norm(eig_values_LCU - eig_values)"
   ]
  },
  {
   "cell_type": "code",
   "execution_count": 308,
   "metadata": {},
   "outputs": [
    {
     "name": "stdout",
     "output_type": "stream",
     "text": [
      "(0.09999999999999999+0j) [Z0]\n",
      "(0.29999999999999993+0j) [X1]\n",
      "(0.09999999999999999+0j) [Y1]\n",
      "(-1.1137025305924615+0j) [Z1 X2]\n",
      "(-0.26875941198191744+0j) [Z1 Y2]\n",
      "(-0.1656352976363455+0j) [Z1 Z2]\n",
      "(0.19999999999999998+0j) [Z0 X1]\n",
      "(0.09999999999999999+0j) [Z0 Y1]\n",
      "(-1.1684747930733135+0j) [Z0 Z1 X2]\n",
      "(0.3093220584204793+0j) [Z0 Z1 Y2]\n",
      "(0.17025428666202394+0j) [Z0 Z1 Z2]\n",
      "(-1.0041580213652201+0j) [X2]\n",
      "(-0.04056271042876597+0j) [Y2]\n",
      "(-0.004618944745017398+0j) [Z2]\n"
     ]
    }
   ],
   "source": [
    "for op in H_subspace_LCU:\n",
    "    coeff = list(op.terms.values())[0]\n",
    "    if abs(coeff.real)>1e-9:\n",
    "        print(op)"
   ]
  },
  {
   "cell_type": "code",
   "execution_count": null,
   "metadata": {},
   "outputs": [],
   "source": []
  },
  {
   "cell_type": "code",
   "execution_count": 50,
   "metadata": {},
   "outputs": [
    {
     "name": "stdout",
     "output_type": "stream",
     "text": [
      "32\n",
      "32\n"
     ]
    },
    {
     "data": {
      "text/plain": [
       "14"
      ]
     },
     "execution_count": 50,
     "metadata": {},
     "output_type": "execute_result"
    }
   ],
   "source": [
    "print(len(list(H_subspace_LCU)))\n",
    "print(len(list(H_subspace_SEQROT)))\n",
    "\n",
    "len(ham)"
   ]
  },
  {
   "cell_type": "code",
   "execution_count": 51,
   "metadata": {},
   "outputs": [],
   "source": [
    "H_LCU = qubit_operator_sparse(H_subspace_LCU, n_qubits=n_qubits).todense()\n",
    "H_Seq = qubit_operator_sparse(H_subspace_SEQROT, n_qubits=n_qubits).todense()"
   ]
  },
  {
   "cell_type": "code",
   "execution_count": 52,
   "metadata": {},
   "outputs": [
    {
     "data": {
      "text/plain": [
       "4.182441699337676"
      ]
     },
     "execution_count": 52,
     "metadata": {},
     "output_type": "execute_result"
    }
   ],
   "source": [
    "# np.around(H_LCU-H_Seq, 1)\n",
    "\n",
    "np.linalg.norm(H_LCU-H_Seq) # <- difference"
   ]
  },
  {
   "cell_type": "code",
   "execution_count": null,
   "metadata": {},
   "outputs": [],
   "source": [
    "{\n",
    " # noncon\n",
    " 'ZII':0.1,\n",
    " 'IXI':0.3,\n",
    " 'IYI':0.1,\n",
    " 'IZX':0.2,\n",
    " 'IZY':0.7,\n",
    " 'IZZ':0.9,\n",
    " 'ZXI':0.2,\n",
    " 'ZYI':0.1,\n",
    " 'ZZX':0.8,\n",
    " 'ZZY':0.7,\n",
    " 'ZZZ':0.6,\n",
    "\n",
    " # con\n",
    " 'IIX':0.4,\n",
    " 'IIY':0.6,\n",
    " 'IIZ':0.7,\n",
    "      }"
   ]
  },
  {
   "cell_type": "code",
   "execution_count": 53,
   "metadata": {},
   "outputs": [
    {
     "data": {
      "text/plain": [
       "18"
      ]
     },
     "execution_count": 53,
     "metadata": {},
     "output_type": "execute_result"
    }
   ],
   "source": [
    "counter=0\n",
    "for Pword, coeff in H_subspace_SEQROT.terms.items():\n",
    "    if abs(coeff.real)<1e-11:\n",
    "        counter+=1\n",
    "counter"
   ]
  },
  {
   "cell_type": "code",
   "execution_count": null,
   "metadata": {},
   "outputs": [],
   "source": []
  },
  {
   "cell_type": "code",
   "execution_count": 54,
   "metadata": {},
   "outputs": [
    {
     "name": "stdout",
     "output_type": "stream",
     "text": [
      "((0, 'Z'), (2, 'X')) 0.0\n",
      "((0, 'Z'), (2, 'Y')) 0.0\n",
      "((1, 'X'), (2, 'X')) 0.0\n",
      "((1, 'X'), (2, 'Y')) 0.0\n",
      "((1, 'Y'), (2, 'X')) 0.0\n",
      "((1, 'Y'), (2, 'Y')) 0.0\n",
      "((1, 'Z'),) 0.0\n",
      "((0, 'Z'), (1, 'X'), (2, 'X')) 0.0\n",
      "((0, 'Z'), (1, 'X'), (2, 'Y')) 0.0\n",
      "((0, 'Z'), (1, 'Y'), (2, 'X')) 0.0\n",
      "((0, 'Z'), (1, 'Y'), (2, 'Y')) 0.0\n",
      "((0, 'Z'), (1, 'Z')) 0.0\n",
      "() 0.0\n",
      "((0, 'Z'), (2, 'Z')) 0.0\n",
      "((1, 'X'), (2, 'Z')) 0.0\n",
      "((1, 'Y'), (2, 'Z')) 0.0\n",
      "((0, 'Z'), (1, 'X'), (2, 'Z')) 0.0\n",
      "((0, 'Z'), (1, 'Y'), (2, 'Z')) 0.0\n"
     ]
    },
    {
     "data": {
      "text/plain": [
       "14"
      ]
     },
     "execution_count": 54,
     "metadata": {},
     "output_type": "execute_result"
    }
   ],
   "source": [
    "counter=0\n",
    "for Pword, coeff in H_subspace_LCU.terms.items():\n",
    "    if abs(coeff.real)>1e-11:\n",
    "#         print(QubitOperator(Pword, coeff.real))\n",
    "        counter+=1\n",
    "    else:\n",
    "        print(Pword, coeff.real)\n",
    "counter"
   ]
  },
  {
   "cell_type": "code",
   "execution_count": 55,
   "metadata": {},
   "outputs": [
    {
     "data": {
      "text/plain": [
       "32"
      ]
     },
     "execution_count": 55,
     "metadata": {},
     "output_type": "execute_result"
    }
   ],
   "source": [
    "len(H_subspace_SEQROT.terms)"
   ]
  },
  {
   "cell_type": "code",
   "execution_count": 56,
   "metadata": {},
   "outputs": [
    {
     "data": {
      "text/plain": [
       "32"
      ]
     },
     "execution_count": 56,
     "metadata": {},
     "output_type": "execute_result"
    }
   ],
   "source": [
    "len(H_subspace_SEQROT.terms.values())"
   ]
  },
  {
   "cell_type": "code",
   "execution_count": 57,
   "metadata": {},
   "outputs": [
    {
     "name": "stdout",
     "output_type": "stream",
     "text": [
      "|A| = 3\n",
      "\n",
      "|R_LCU| = 3\n",
      "|R_S| = 4\n"
     ]
    }
   ],
   "source": [
    "print('|A| =', len(script_A_dict))\n",
    "\n",
    "print()\n",
    "print('|R_LCU| =', len(list(R_LCU)))\n",
    "\n",
    "R_S = reduce(lambda x,y: x*y, R_sk_OP_list) \n",
    "print('|R_S| =', len(list(R_S)))"
   ]
  },
  {
   "cell_type": "markdown",
   "metadata": {},
   "source": [
    "size of $R_{LCU} = |A|$ = size of $A$\n",
    "\n",
    "size of $R_{S}=2^{|A|-1}$"
   ]
  },
  {
   "cell_type": "code",
   "execution_count": 58,
   "metadata": {},
   "outputs": [
    {
     "name": "stdout",
     "output_type": "stream",
     "text": [
      "|R_S| = 2^{|A|-1} True\n"
     ]
    }
   ],
   "source": [
    "print('|R_S| = 2^{|A|-1}', len(list(R_S)) == 2**(len(script_A_dict)-1))"
   ]
  },
  {
   "cell_type": "code",
   "execution_count": null,
   "metadata": {},
   "outputs": [],
   "source": []
  },
  {
   "cell_type": "code",
   "execution_count": null,
   "metadata": {},
   "outputs": [],
   "source": []
  },
  {
   "cell_type": "code",
   "execution_count": null,
   "metadata": {},
   "outputs": [],
   "source": []
  },
  {
   "cell_type": "code",
   "execution_count": null,
   "metadata": {},
   "outputs": [],
   "source": []
  },
  {
   "cell_type": "code",
   "execution_count": 59,
   "metadata": {},
   "outputs": [],
   "source": [
    "H_subspace_LCU_Ronly = R_LCU_op * ham_full_open_F * hermitian_conjugated(R_LCU_op)\n",
    "\n",
    "R_SeqRot  = reduce(lambda x,y: x*y, R_sk_OP_list) \n",
    "H_subspace_SEQ_Ronly = R_SeqRot * ham_full_open_F * hermitian_conjugated(R_SeqRot)"
   ]
  },
  {
   "cell_type": "code",
   "execution_count": 60,
   "metadata": {},
   "outputs": [
    {
     "name": "stdout",
     "output_type": "stream",
     "text": [
      "SEQ 24\n",
      "LCU 23\n"
     ]
    }
   ],
   "source": [
    "counter=0\n",
    "for Pword, coeff in H_subspace_SEQ_Ronly.terms.items():\n",
    "    if coeff.real<1e-9:\n",
    "        counter+=1\n",
    "print(f'SEQ {counter}')\n",
    "\n",
    "counter=0\n",
    "for Pword, coeff in H_subspace_LCU_Ronly.terms.items():\n",
    "    if coeff.real<1e-9:\n",
    "        counter+=1\n",
    "print(f'LCU {counter}')"
   ]
  },
  {
   "cell_type": "code",
   "execution_count": 61,
   "metadata": {},
   "outputs": [],
   "source": [
    "ham_CON_open_F = conv_scr.Get_Openfermion_Hamiltonian(Con_H)\n",
    "Hcon_subspace_LCU_Ronly = R_LCU_op * ham_CON_open_F * hermitian_conjugated(R_LCU_op)\n",
    "Hcon_subspace_SEQ_Ronly = R_SeqRot * ham_CON_open_F * hermitian_conjugated(R_SeqRot)"
   ]
  },
  {
   "cell_type": "code",
   "execution_count": 62,
   "metadata": {},
   "outputs": [
    {
     "name": "stdout",
     "output_type": "stream",
     "text": [
      "SEQ 12\n",
      "16\n",
      "LCU 12\n",
      "16\n"
     ]
    }
   ],
   "source": [
    "counter=0\n",
    "for Pword, coeff in Hcon_subspace_LCU_Ronly.terms.items():\n",
    "    if coeff.real<1e-9:\n",
    "        counter+=1\n",
    "print(f'SEQ {counter}')\n",
    "print(len(list(Hcon_subspace_LCU_Ronly)))\n",
    "\n",
    "counter=0\n",
    "for Pword, coeff in Hcon_subspace_SEQ_Ronly.terms.items():\n",
    "    if coeff.real<1e-9:\n",
    "        counter+=1\n",
    "print(f'LCU {counter}')\n",
    "print(len(list(Hcon_subspace_SEQ_Ronly)))"
   ]
  },
  {
   "cell_type": "code",
   "execution_count": 63,
   "metadata": {},
   "outputs": [
    {
     "name": "stdout",
     "output_type": "stream",
     "text": [
      "14\n"
     ]
    },
    {
     "data": {
      "text/plain": [
       "4"
      ]
     },
     "execution_count": 63,
     "metadata": {},
     "output_type": "execute_result"
    }
   ],
   "source": [
    "print(len(list(ham_full_open_F)))\n",
    "len(list(ham_CON_open_F))"
   ]
  },
  {
   "cell_type": "code",
   "execution_count": null,
   "metadata": {},
   "outputs": [],
   "source": []
  },
  {
   "cell_type": "code",
   "execution_count": 64,
   "metadata": {},
   "outputs": [
    {
     "data": {
      "text/plain": [
       "{'IIX': 0.4,\n",
       " 'IIY': 0.6,\n",
       " 'IIZ': 0.7,\n",
       " 'IZX': 0.2,\n",
       " 'IZY': 0.7,\n",
       " 'IZZ': 0.9,\n",
       " 'ZII': 0.1,\n",
       " 'ZZX': 0.8,\n",
       " 'ZZY': 0.7,\n",
       " 'ZZZ': 0.6}"
      ]
     },
     "execution_count": 64,
     "metadata": {},
     "output_type": "execute_result"
    }
   ],
   "source": [
    "nonCon_H"
   ]
  },
  {
   "cell_type": "code",
   "execution_count": 392,
   "metadata": {},
   "outputs": [
    {
     "data": {
      "text/plain": [
       "-3.2490545185039963"
      ]
     },
     "execution_count": 392,
     "metadata": {},
     "output_type": "execute_result"
    }
   ],
   "source": [
    "ham_noncon = deepcopy(nonCon_H)\n",
    "\n",
    "ham_full_sparse = qubit_operator_sparse(ham_full_open_F, n_qubits=n_qubits)\n",
    "eig_values, eig_vectors = eigh(ham_full_sparse.todense()) # NOT sparse!\n",
    "true_gs = min(eig_values)\n",
    "true_gs"
   ]
  },
  {
   "cell_type": "code",
   "execution_count": 394,
   "metadata": {},
   "outputs": [
    {
     "ename": "AttributeError",
     "evalue": "'numpy.float64' object has no attribute 'csvqe_approximations_heuristic'",
     "output_type": "error",
     "traceback": [
      "\u001b[0;31m---------------------------------------------------------------------------\u001b[0m",
      "\u001b[0;31mAttributeError\u001b[0m                            Traceback (most recent call last)",
      "\u001b[0;32m<ipython-input-394-968c55a60ef0>\u001b[0m in \u001b[0;36m<module>\u001b[0;34m\u001b[0m\n\u001b[0;32m----> 1\u001b[0;31m \u001b[0moutput\u001b[0m \u001b[0;34m=\u001b[0m \u001b[0mc\u001b[0m\u001b[0;34m.\u001b[0m\u001b[0mcsvqe_approximations_heuristic\u001b[0m\u001b[0;34m(\u001b[0m\u001b[0mham\u001b[0m\u001b[0;34m,\u001b[0m \u001b[0mham_noncon\u001b[0m\u001b[0;34m,\u001b[0m \u001b[0mn_qubits\u001b[0m\u001b[0;34m,\u001b[0m \u001b[0mtrue_gs\u001b[0m\u001b[0;34m)\u001b[0m\u001b[0;34m\u001b[0m\u001b[0;34m\u001b[0m\u001b[0m\n\u001b[0m",
      "\u001b[0;31mAttributeError\u001b[0m: 'numpy.float64' object has no attribute 'csvqe_approximations_heuristic'"
     ]
    }
   ],
   "source": [
    "output = c.csvqe_approximations_heuristic(ham, ham_noncon, n_qubits, true_gs)"
   ]
  },
  {
   "cell_type": "code",
   "execution_count": 395,
   "metadata": {},
   "outputs": [
    {
     "data": {
      "text/plain": [
       "[-3.2490545185039963,\n",
       " [-3.1863353450278415,\n",
       "  -3.2490105390464383,\n",
       "  -3.249054518503999,\n",
       "  -3.249054518503999],\n",
       " [0.06271917347615474,\n",
       "  4.3979457557963286e-05,\n",
       "  -2.6645352591003757e-15,\n",
       "  -2.6645352591003757e-15],\n",
       " [1, 2, 0]]"
      ]
     },
     "execution_count": 395,
     "metadata": {},
     "output_type": "execute_result"
    }
   ],
   "source": [
    "output"
   ]
  },
  {
   "cell_type": "code",
   "execution_count": null,
   "metadata": {},
   "outputs": [],
   "source": []
  },
  {
   "cell_type": "code",
   "execution_count": 443,
   "metadata": {},
   "outputs": [
    {
     "data": {
      "text/plain": [
       "[1, 2, 0]"
      ]
     },
     "execution_count": 443,
     "metadata": {},
     "output_type": "execute_result"
    }
   ],
   "source": [
    "output[-1]"
   ]
  },
  {
   "cell_type": "code",
   "execution_count": 397,
   "metadata": {},
   "outputs": [
    {
     "data": {
      "text/plain": [
       "['ZII', 'IZI', 'IIZ']"
      ]
     },
     "execution_count": 397,
     "metadata": {},
     "output_type": "execute_result"
    }
   ],
   "source": [
    "diagonalized_generators_GuA"
   ]
  },
  {
   "cell_type": "code",
   "execution_count": 398,
   "metadata": {},
   "outputs": [
    {
     "data": {
      "text/plain": [
       "{'ZII': 0.1,\n",
       " 'IXI': 0.3,\n",
       " 'IYI': 0.1,\n",
       " 'IZX': 0.2,\n",
       " 'IZY': 0.7,\n",
       " 'IZZ': 0.9,\n",
       " 'ZXI': 0.2,\n",
       " 'ZYI': 0.1,\n",
       " 'ZZX': 0.8,\n",
       " 'ZZY': 0.7,\n",
       " 'ZZZ': 0.6,\n",
       " 'IIX': 0.4,\n",
       " 'IIY': 0.6,\n",
       " 'IIZ': 0.7}"
      ]
     },
     "execution_count": 398,
     "metadata": {},
     "output_type": "execute_result"
    }
   ],
   "source": [
    "ham"
   ]
  },
  {
   "cell_type": "code",
   "execution_count": 70,
   "metadata": {},
   "outputs": [
    {
     "data": {
      "text/plain": [
       "[1, 2, 0]"
      ]
     },
     "execution_count": 70,
     "metadata": {},
     "output_type": "execute_result"
    }
   ],
   "source": [
    "output[-1]"
   ]
  },
  {
   "cell_type": "code",
   "execution_count": null,
   "metadata": {},
   "outputs": [],
   "source": []
  },
  {
   "cell_type": "code",
   "execution_count": 444,
   "metadata": {},
   "outputs": [
    {
     "data": {
      "text/plain": [
       "[{'': -3.1863353450309955},\n",
       " {'I': -0.9041580213652204, 'X': 0.5, 'Y': 0.2, 'Z': -2.282177323665775},\n",
       " {'II': 0.1,\n",
       "  'XI': 0.5,\n",
       "  'YI': 0.2,\n",
       "  'ZZ': -2.282177323665775,\n",
       "  'ZX': 0.03739259858576721,\n",
       "  'ZY': 0.016384654916194064,\n",
       "  'IZ': -1.0041580213652204,\n",
       "  'IX': -0.03739267279431158,\n",
       "  'IY': -0.01638463149365904},\n",
       " {'ZII': 0.1,\n",
       "  'IXI': 0.3,\n",
       "  'IYI': 0.1,\n",
       "  'IZZ': -1.1137025305924615,\n",
       "  'IZX': -0.20790315887195499,\n",
       "  'IZY': -0.23757725034819643,\n",
       "  'ZXI': 0.2,\n",
       "  'ZYI': 0.1,\n",
       "  'ZZZ': -1.1684747930733135,\n",
       "  'ZZX': 0.2452957574577222,\n",
       "  'ZZY': 0.2539619052643905,\n",
       "  'IIZ': -1.0041580213652204,\n",
       "  'IIX': -0.03739267279431158,\n",
       "  'IIY': -0.01638463149365904}]"
      ]
     },
     "execution_count": 444,
     "metadata": {},
     "output_type": "execute_result"
    }
   ],
   "source": [
    "order_copy = deepcopy(output[-1])\n",
    "reduced_Hs = c.get_reduced_hamiltonians(ham,\n",
    "                                        model,\n",
    "                                        fn_form,\n",
    "                                        ground_state_params,\n",
    "                                        order_copy)\n",
    "\n",
    "reduced_Hs"
   ]
  },
  {
   "cell_type": "code",
   "execution_count": 445,
   "metadata": {},
   "outputs": [
    {
     "data": {
      "text/plain": [
       "[{'': -3.186335345030995},\n",
       " {'I': -0.9041580213652202,\n",
       "  'X': 0.4999999999999999,\n",
       "  'Y': 0.19999999999999998,\n",
       "  'Z': -2.282177323665775},\n",
       " {'II': 0.09999999999999999,\n",
       "  'XI': 0.4999999999999999,\n",
       "  'YI': 0.19999999999999998,\n",
       "  'ZZ': -2.282177323665775,\n",
       "  'ZY': 0.040562646438561833,\n",
       "  'ZX': -0.004618989025678449,\n",
       "  'IZ': -1.0041580213652201,\n",
       "  'IY': -0.04056271042876597,\n",
       "  'IX': 0.004618944745017398},\n",
       " {'ZII': 0.09999999999999999,\n",
       "  'IXI': 0.29999999999999993,\n",
       "  'IYI': 0.09999999999999999,\n",
       "  'IZZ': -1.1137025305924615,\n",
       "  'IZY': -0.26875941198191744,\n",
       "  'IZX': 0.1656352976363455,\n",
       "  'ZXI': 0.19999999999999998,\n",
       "  'ZYI': 0.09999999999999999,\n",
       "  'ZZZ': -1.1684747930733135,\n",
       "  'ZZY': 0.3093220584204793,\n",
       "  'ZZX': -0.17025428666202394,\n",
       "  'IIZ': -1.0041580213652201,\n",
       "  'IIY': -0.04056271042876597,\n",
       "  'IIX': 0.004618944745017398}]"
      ]
     },
     "execution_count": 445,
     "metadata": {},
     "output_type": "execute_result"
    }
   ],
   "source": [
    "LCU_reduced_H"
   ]
  },
  {
   "cell_type": "code",
   "execution_count": 446,
   "metadata": {},
   "outputs": [],
   "source": [
    "string_list = []\n",
    "for dic in reduced_Hs[1:]:\n",
    "    string_out=''\n",
    "    counter=0\n",
    "    for P, ci in dic.items():\n",
    "        if ci<0:\n",
    "            string_out+= f'{ci} \\:{P} '\n",
    "        else:\n",
    "            string_out+= f'+{ci}\\:{P} '\n",
    "        if counter in [2,5,8,11]:\n",
    "            string_out+= '\\n'\n",
    "        counter+=1\n",
    "    string_list.append(string_out)"
   ]
  },
  {
   "cell_type": "code",
   "execution_count": 460,
   "metadata": {},
   "outputs": [
    {
     "name": "stdout",
     "output_type": "stream",
     "text": [
      "+0.1\\:ZII +0.3\\:IXI +0.1\\:IYI \n",
      "-1.1137025305924615 \\:IZZ -0.20790315887195499 \\:IZX -0.23757725034819643 \\:IZY \n",
      "+0.2\\:ZXI +0.1\\:ZYI -1.1684747930733135 \\:ZZZ \n",
      "+0.2452957574577222\\:ZZX +0.2539619052643905\\:ZZY -1.0041580213652204 \\:IIZ \n",
      "-0.03739267279431158 \\:IIX -0.01638463149365904 \\:IIY \n"
     ]
    }
   ],
   "source": [
    "# print(string_list[2])"
   ]
  },
  {
   "cell_type": "code",
   "execution_count": 461,
   "metadata": {},
   "outputs": [
    {
     "name": "stdout",
     "output_type": "stream",
     "text": [
      "+0.09999999999999999\\:ZII +0.29999999999999993\\:IXI +0.09999999999999999\\:IYI \n",
      "-1.1137025305924615 \\:IZZ -0.26875941198191744 \\:IZY +0.1656352976363455\\:IZX \n",
      "+0.19999999999999998\\:ZXI +0.09999999999999999\\:ZYI -1.1684747930733135 \\:ZZZ \n",
      "+0.3093220584204793\\:ZZY -0.17025428666202394 \\:ZZX -1.0041580213652201 \\:IIZ \n",
      "-0.04056271042876597 \\:IIY +0.004618944745017398\\:IIX \n"
     ]
    }
   ],
   "source": [
    "# print(string_list2[2])"
   ]
  },
  {
   "cell_type": "code",
   "execution_count": 456,
   "metadata": {},
   "outputs": [
    {
     "name": "stdout",
     "output_type": "stream",
     "text": [
      "+0.09999999999999999\\:II +0.4999999999999999\\:XI +0.19999999999999998\\:YI \n",
      "-2.282177323665775 \\:ZZ +0.040562646438561833\\:ZY -0.004618989025678449 \\:ZX \n",
      "-1.0041580213652201 \\:IZ -0.04056271042876597 \\:IY +0.004618944745017398\\:IX \n",
      "\n"
     ]
    }
   ],
   "source": [
    "# print(string_list2[1])"
   ]
  },
  {
   "cell_type": "code",
   "execution_count": null,
   "metadata": {},
   "outputs": [],
   "source": [
    "+0.1\\:ZII +0.3\\:IXI +0.1\\:IYI \n",
    "-1.1137025305924615 \\:IZZ -0.26875941198191744 \\:IZY +0.1656352976363455\\:IZX \n",
    "+0.19999999999999998\\:ZXI +0.09999999999999999\\:ZYI -1.1684747930733135 \\:ZZZ \n",
    "+0.3093220584204793\\:ZZY -0.17025428666202394 \\:ZZX -1.0041580213652201 \\:IIZ \n",
    "-0.04056271042876597 \\:IIY +0.004618944745017398\\:IIX \n"
   ]
  },
  {
   "cell_type": "code",
   "execution_count": 438,
   "metadata": {},
   "outputs": [
    {
     "data": {
      "text/plain": [
       "[{'': -3.186335345030995},\n",
       " {'I': -0.9041580213652202,\n",
       "  'X': 0.4999999999999999,\n",
       "  'Y': 0.19999999999999998,\n",
       "  'Z': -2.282177323665775},\n",
       " {'II': 0.09999999999999999,\n",
       "  'XI': 0.4999999999999999,\n",
       "  'YI': 0.19999999999999998,\n",
       "  'ZZ': -2.282177323665775,\n",
       "  'ZY': 0.040562646438561833,\n",
       "  'ZX': -0.004618989025678449,\n",
       "  'IZ': -1.0041580213652201,\n",
       "  'IY': -0.04056271042876597,\n",
       "  'IX': 0.004618944745017398},\n",
       " {'ZII': 0.09999999999999999,\n",
       "  'IXI': 0.29999999999999993,\n",
       "  'IYI': 0.09999999999999999,\n",
       "  'IZZ': -1.1137025305924615,\n",
       "  'IZY': -0.26875941198191744,\n",
       "  'IZX': 0.1656352976363455,\n",
       "  'ZXI': 0.19999999999999998,\n",
       "  'ZYI': 0.09999999999999999,\n",
       "  'ZZZ': -1.1684747930733135,\n",
       "  'ZZY': 0.3093220584204793,\n",
       "  'ZZX': -0.17025428666202394,\n",
       "  'IIZ': -1.0041580213652201,\n",
       "  'IIY': -0.04056271042876597,\n",
       "  'IIX': 0.004618944745017398}]"
      ]
     },
     "execution_count": 438,
     "metadata": {},
     "output_type": "execute_result"
    }
   ],
   "source": [
    "order_copy = deepcopy(output[-1])\n",
    "LCU_reduced_H = c_LCU.get_reduced_hamiltonians_LCU(ham,\n",
    "                                    model,\n",
    "                                    fn_form,\n",
    "                                    ground_state_params,\n",
    "                                    order_copy)\n",
    "LCU_reduced_H"
   ]
  },
  {
   "cell_type": "code",
   "execution_count": 451,
   "metadata": {},
   "outputs": [],
   "source": [
    "string_list2 = []\n",
    "for dic in LCU_reduced_H[1:]:\n",
    "    string_out=''\n",
    "    counter=0\n",
    "    for P, ci in dic.items():\n",
    "        if ci<0:\n",
    "            string_out+= f'{ci} \\:{P} '\n",
    "        else:\n",
    "            string_out+= f'+{ci}\\:{P} '\n",
    "        if counter in [2,5,8,11]:\n",
    "            string_out+= '\\n'\n",
    "        counter+=1\n",
    "    string_list2.append(string_out)"
   ]
  },
  {
   "cell_type": "code",
   "execution_count": null,
   "metadata": {},
   "outputs": [],
   "source": []
  },
  {
   "cell_type": "code",
   "execution_count": 489,
   "metadata": {},
   "outputs": [],
   "source": [
    "def get_ground_state_q_op(h_dic):\n",
    "    openf_H = conv_scr.Get_Openfermion_Hamiltonian(h_dic)\n",
    "    eig_values, eig_vectors = eigh((qubit_operator_sparse(openf_H).todense())) # NOT sparse!\n",
    "    gs = min(eig_values)\n",
    "    return gs\n",
    "    "
   ]
  },
  {
   "cell_type": "code",
   "execution_count": 490,
   "metadata": {},
   "outputs": [
    {
     "data": {
      "text/plain": [
       "-3.186335345030995"
      ]
     },
     "execution_count": 490,
     "metadata": {},
     "output_type": "execute_result"
    }
   ],
   "source": [
    "get_ground_state_q_op(LCU_reduced_H[0])"
   ]
  },
  {
   "cell_type": "code",
   "execution_count": 534,
   "metadata": {},
   "outputs": [],
   "source": [
    "true_gs = output[0]\n",
    "\n",
    "E_LCU =np.array([get_ground_state_q_op(H_op) for H_op in LCU_reduced_H])\n",
    "Error_LCU = np.abs(E_LCU- true_gs) \n",
    "\n",
    "Error_S = output[2]"
   ]
  },
  {
   "cell_type": "code",
   "execution_count": 567,
   "metadata": {},
   "outputs": [],
   "source": [
    "H_LCU_size = [len(H_op)-1 for H_op in LCU_reduced_H]\n",
    "H_SeqRot_size = [len(H_op)-1 for H_op in reduced_Hs]"
   ]
  },
  {
   "cell_type": "code",
   "execution_count": 573,
   "metadata": {},
   "outputs": [
    {
     "data": {
      "text/plain": [
       "[3, 8, 13]"
      ]
     },
     "execution_count": 573,
     "metadata": {},
     "output_type": "execute_result"
    }
   ],
   "source": [
    "list()"
   ]
  },
  {
   "cell_type": "code",
   "execution_count": 587,
   "metadata": {},
   "outputs": [
    {
     "data": {
      "image/png": "[encoded data removed]",
      "text/plain": [
       "<Figure size 1800x1200 with 2 Axes>"
      ]
     },
     "metadata": {
      "needs_background": "light"
     },
     "output_type": "display_data"
    }
   ],
   "source": [
    "dpi=300\n",
    "width = 0.2  # the width of the bars\n",
    "offset = -0.1 # offset on x axis\n",
    "\n",
    "\n",
    "fig, ax = plt.subplots(dpi=dpi)\n",
    "\n",
    "n_qubits = np.array([i for i in range(4)]) # labels\n",
    "rects1 = ax.bar(n_qubits - (offset+width), H_SeqRot_size, width, label='$|H_{S}|$',color=\"yellowgreen\")\n",
    "rects2 = ax.bar(n_qubits - offset, H_LCU_size, width, label='$|H_{LCU}|$',color=\"royalblue\")\n",
    "\n",
    "\n",
    "####  second y axis!    \n",
    "ax2=ax.twinx()\n",
    "# make a plot with different y-axis using second axis object\n",
    "ax2.plot(n_qubits,Error_S,color=\"orange\",marker=\"s\", label='CS-VQE SeqRot error')#, markersize=12)\n",
    "ax2.plot(n_qubits,Error_LCU,color=\"r\",marker=\"x\", linestyle='', label='CS-VQE LCU error')\n",
    "\n",
    "ax2.set_ylabel(\"$\\Delta E $\",color=\"black\",fontsize=14)\n",
    "ax.set_yticks(np.array(list(range(3,14,5))) )\n",
    "ax.set_yticklabels(np.array(range(3,14,5)) )\n",
    "\n",
    "ax2.axhline(y=1.6e-3, color='black', linestyle='-', label=r'$\\epsilon=1 \\times 10^{-3}$')\n",
    "\n",
    "    \n",
    "# change left and right y axis (as want error on LHS as more important!)\n",
    "ax.yaxis.tick_right()\n",
    "ax.yaxis.set_label_position(\"right\")\n",
    "ax2.yaxis.tick_left()\n",
    "ax2.yaxis.set_label_position(\"left\")\n",
    "\n",
    "ax.set_ylabel('Number of terms')\n",
    "ax.set_xlabel('Number of qubits')\n",
    "\n",
    "ax.set_xticks(np.array([i for i in range(4)]) )\n",
    "ax.set_xticklabels(np.array([i for i in range(4)]) )\n",
    "fig.tight_layout()\n",
    "\n",
    "ax.legend(loc = 'center left')\n",
    "ax2.legend(loc= 'upper center')\n",
    "\n",
    "\n",
    "fig.savefig('toy_example_plot.png',\n",
    "            format='png',\n",
    "            dpi=dpi,\n",
    "            bbox_inches='tight')\n",
    "plt.show()"
   ]
  },
  {
   "cell_type": "code",
   "execution_count": null,
   "metadata": {},
   "outputs": [],
   "source": []
  },
  {
   "cell_type": "markdown",
   "metadata": {},
   "source": [
    "# Experiment"
   ]
  },
  {
   "cell_type": "code",
   "execution_count": 96,
   "metadata": {},
   "outputs": [],
   "source": [
    "import random\n",
    "import cs_vqe_with_LCU as c_LCU"
   ]
  },
  {
   "cell_type": "code",
   "execution_count": 97,
   "metadata": {},
   "outputs": [],
   "source": [
    "def generate_random_H():\n",
    "    H_keys = ['ZII','IXI','IYI','IZX','IZY','IZZ','ZXI','ZYI','ZZX','ZZY','ZZZ','IIX','IIY','IIZ']\n",
    "    random_coeffs = [random.uniform(-1,1) for _ in range(len(H_keys))]\n",
    "    return dict(zip(H_keys, random_coeffs))\n",
    "# generate_random_H()"
   ]
  },
  {
   "cell_type": "code",
   "execution_count": 267,
   "metadata": {},
   "outputs": [],
   "source": [
    "Z_list = ['ZII']\n",
    "G_list = ['ZII', 'IZI']\n",
    "\n",
    "T_list = ['IIX', 'IIY', 'IIZ', 'IZX', 'IZY', 'IZZ', 'ZZX', 'ZZY', 'ZZZ']\n",
    "Ci1_list = ['IIX', 'IIY', 'IIZ']\n",
    "\n",
    "all_mappings = {\n",
    "                 'IIX': [[], ['IIX'], 1],\n",
    "                 'IIY': [[], ['IIY'], 1],\n",
    "                 'IIZ': [[], ['IIZ'], 1],\n",
    "                 'IZX': [['IZI'], ['IIX'], 1],\n",
    "                 'IZY': [['IZI'], ['IIY'], 1],\n",
    "                 'IZZ': [['IZI'], ['IIZ'], 1],\n",
    "                 'ZII': [['ZII'], [], 1],\n",
    "                 'ZZX': [['ZII', 'IZI'], ['IIX'], 1],\n",
    "                 'ZZY': [['ZII', 'IZI'], ['IIY'], 1],\n",
    "                 'ZZZ': [['ZII', 'IZI'], ['IIZ'], 1]\n",
    "}\n",
    "\n",
    "model = [G_list, Ci1_list, all_mappings]\n",
    "fn_form = c.energy_function_form(nonCon_H, model)"
   ]
  },
  {
   "cell_type": "code",
   "execution_count": 102,
   "metadata": {},
   "outputs": [],
   "source": [
    "H_con_keys = ['IXI', 'IYI', 'ZXI', 'ZYI']\n",
    "H_noncon_keys = ['IIX', 'IIY','IIZ', 'IZX','IZY','IZZ','ZII','ZZX','ZZY', 'ZZZ']"
   ]
  },
  {
   "cell_type": "code",
   "execution_count": 137,
   "metadata": {},
   "outputs": [],
   "source": [
    "N_experiments = 50\n",
    "\n",
    "SeqRot_results=[]\n",
    "LCU_results = []\n",
    "for i in range(N_experiments):\n",
    "    \n",
    "    # generate random H\n",
    "    ham_dict = generate_random_H()\n",
    "    openF_H = conv_scr.Get_Openfermion_Hamiltonian(ham_dict)\n",
    "    eig_values, eig_vectors = eigh((qubit_operator_sparse(openF_H, n_qubits=n_qubits)).todense()) # NOT sparse!\n",
    "    true_gs = min(eig_values)\n",
    "    \n",
    "    ham_noncon_dict = {key: ham_dict[key] for key in H_noncon_keys}\n",
    "    \n",
    "    # solve noncon problem\n",
    "    fn_form = c.energy_function_form(ham_noncon_dict, model)\n",
    "    lowest_eigenvalue, noncon_ground_state_params, _ , _  = c.find_gs_noncon(ham_noncon_dict,\n",
    "                                                   method = 'differential_evolution',\n",
    "                                                   model=model,\n",
    "                                                   fn_form=fn_form) # returns:  best + [model, fn_form]\n",
    "    \n",
    "    # SeqRot\n",
    "    exp_SeqRot = c.csvqe_approximations_heuristic(ham_dict, ham_noncon_dict, n_qubits, true_gs)\n",
    "    order_copy = deepcopy(exp_SeqRot[-1])\n",
    "    SeqRot_reduced_H = c.get_reduced_hamiltonians(ham_dict,\n",
    "                                        model,\n",
    "                                        fn_form,\n",
    "                                        noncon_ground_state_params,\n",
    "                                        order_copy)\n",
    "#     SeqRot_results.append({'exp': exp_SeqRot,\n",
    "#                            'reduced_H': SeqRot_reduced_H} )\n",
    "    SeqRot_results.append({'exp': exp_SeqRot,\n",
    "                           'reduced_H_size': [len(H_red)-1 for H_red in SeqRot_reduced_H ]} )\n",
    "    \n",
    "    ## LCU\n",
    "    exp_LCU = c_LCU.csvqe_approximations_heuristic_LCU(ham_dict, ham_noncon_dict, n_qubits, true_gs)\n",
    "    order_copy2 = deepcopy(exp_LCU[-1])\n",
    "    LCU_reduced_H = c_LCU.get_reduced_hamiltonians_LCU(ham_dict,\n",
    "                                        model,\n",
    "                                        fn_form,\n",
    "                                        noncon_ground_state_params,\n",
    "                                        order_copy2)\n",
    "#     LCU_results.append({'exp': exp_LCU,\n",
    "#                         'reduced_H': LCU_reduced_H} )\n",
    "    LCU_results.append({'exp': exp_LCU,\n",
    "                    'reduced_H_size':[len(H_red)-1 for H_red in LCU_reduced_H] } )\n",
    "\n",
    "    "
   ]
  },
  {
   "cell_type": "code",
   "execution_count": null,
   "metadata": {},
   "outputs": [],
   "source": []
  },
  {
   "cell_type": "code",
   "execution_count": 156,
   "metadata": {},
   "outputs": [
    {
     "data": {
      "text/plain": [
       "{'exp': [-2.5621494900605635,\n",
       "  [-2.1132856107170994,\n",
       "   -2.3306996241021185,\n",
       "   -2.5621494900605666,\n",
       "   -2.5621494900605666],\n",
       "  [0.44886387934346406,\n",
       "   0.23144986595844497,\n",
       "   -3.1086244689504383e-15,\n",
       "   -3.1086244689504383e-15],\n",
       "  [1, 2, 0]],\n",
       " 'reduced_H_size': [0, 3, 8, 13]}"
      ]
     },
     "execution_count": 156,
     "metadata": {},
     "output_type": "execute_result"
    }
   ],
   "source": [
    "SeqRot_results[-1]"
   ]
  },
  {
   "cell_type": "code",
   "execution_count": 157,
   "metadata": {},
   "outputs": [
    {
     "data": {
      "text/plain": [
       "{'exp': [-2.5621494900605635,\n",
       "  [-2.11328561073639,\n",
       "   -2.330699282145538,\n",
       "   -2.562149490060566,\n",
       "   -2.5621494900605644],\n",
       "  [0.44886387932417326,\n",
       "   0.23145020791502535,\n",
       "   -2.6645352591003757e-15,\n",
       "   -8.881784197001252e-16],\n",
       "  [1, 2, 0]],\n",
       " 'reduced_H_size': [0, 3, 8, 13]}"
      ]
     },
     "execution_count": 157,
     "metadata": {},
     "output_type": "execute_result"
    }
   ],
   "source": [
    "LCU_results[-1]"
   ]
  },
  {
   "cell_type": "code",
   "execution_count": null,
   "metadata": {},
   "outputs": [],
   "source": []
  },
  {
   "cell_type": "code",
   "execution_count": 196,
   "metadata": {},
   "outputs": [],
   "source": [
    "E_seqRot_error_array = np.zeros((N_experiments,4))\n",
    "E_LCU_error_array  = np.zeros_like(E_seqRot_error_array)\n",
    "\n",
    "Seq_Rot_H_size_Array = np.zeros_like(E_seqRot_error_array)\n",
    "LCU_H_size_Array = np.zeros_like(E_seqRot_error_array)\n",
    "\n",
    "ind=0\n",
    "for SeqRot_result, LCU_result in zip(SeqRot_results, LCU_results):\n",
    "    \n",
    "    true_gs_E = SeqRot_result['exp'][0]\n",
    "    \n",
    "    # get errors \n",
    "    E_seqRot_error_array[ind,:] = np.array(SeqRot_result['exp'][2])\n",
    "    E_LCU_error_array[ind,:] = np.array(LCU_result['exp'][2])\n",
    "    \n",
    "    # get H sizes\n",
    "    Seq_Rot_H_size_Array[ind,:] = np.array(SeqRot_result['reduced_H_size'])\n",
    "    LCU_H_size_Array[ind,:] = np.array(LCU_result['reduced_H_size'])\n",
    "    \n",
    "#     if (SeqRot_result['reduced_H_size'] != [0, 3, 8, 13]) and (LCU_result['reduced_H_size'] != [0, 3, 8, 13]):\n",
    "#         print(SeqRot_result['reduced_H_size'])\n",
    "#         print(LCU_result['reduced_H_size'])\n",
    "#         raise ValueError()\n",
    "    \n",
    "    ind+=1"
   ]
  },
  {
   "cell_type": "code",
   "execution_count": 200,
   "metadata": {},
   "outputs": [
    {
     "data": {
      "text/plain": [
       "array([[ 0.,  3.,  8., 13.],\n",
       "       [ 0.,  3.,  8., 13.],\n",
       "       [ 0.,  3.,  8., 13.],\n",
       "       [ 0.,  3.,  8., 13.],\n",
       "       [ 0.,  3.,  8., 13.],\n",
       "       [ 0.,  3.,  8., 13.],\n",
       "       [ 0.,  3.,  7., 13.],\n",
       "       [ 0.,  3.,  8., 13.],\n",
       "       [ 0.,  3.,  8., 13.],\n",
       "       [ 0.,  3.,  8., 13.],\n",
       "       [ 0.,  3.,  8., 13.],\n",
       "       [ 0.,  3.,  8., 13.],\n",
       "       [ 0.,  3.,  8., 13.],\n",
       "       [ 0.,  3.,  8., 13.],\n",
       "       [ 0.,  3.,  8., 13.],\n",
       "       [ 0.,  3.,  8., 13.],\n",
       "       [ 0.,  3.,  8., 13.],\n",
       "       [ 0.,  3.,  8., 13.],\n",
       "       [ 0.,  3.,  7., 13.],\n",
       "       [ 0.,  3.,  8., 13.],\n",
       "       [ 0.,  3.,  8., 13.],\n",
       "       [ 0.,  3.,  8., 13.],\n",
       "       [ 0.,  3.,  8., 13.],\n",
       "       [ 0.,  3.,  8., 13.],\n",
       "       [ 0.,  3.,  8., 13.],\n",
       "       [ 0.,  3.,  8., 13.],\n",
       "       [ 0.,  3.,  8., 13.],\n",
       "       [ 0.,  3.,  8., 13.],\n",
       "       [ 0.,  3.,  8., 13.],\n",
       "       [ 0.,  3.,  8., 13.],\n",
       "       [ 0.,  3.,  8., 13.],\n",
       "       [ 0.,  3.,  8., 13.],\n",
       "       [ 0.,  3.,  8., 13.],\n",
       "       [ 0.,  3.,  8., 13.],\n",
       "       [ 0.,  3.,  8., 13.],\n",
       "       [ 0.,  3.,  8., 13.],\n",
       "       [ 0.,  3.,  8., 13.],\n",
       "       [ 0.,  3.,  8., 13.],\n",
       "       [ 0.,  3.,  8., 13.],\n",
       "       [ 0.,  3.,  7., 13.],\n",
       "       [ 0.,  3.,  8., 13.],\n",
       "       [ 0.,  3.,  8., 13.],\n",
       "       [ 0.,  3.,  8., 13.],\n",
       "       [ 0.,  3.,  8., 13.],\n",
       "       [ 0.,  3.,  8., 13.],\n",
       "       [ 0.,  3.,  7., 13.],\n",
       "       [ 0.,  3.,  8., 13.],\n",
       "       [ 0.,  3.,  8., 13.],\n",
       "       [ 0.,  3.,  8., 13.],\n",
       "       [ 0.,  3.,  8., 13.]])"
      ]
     },
     "execution_count": 200,
     "metadata": {},
     "output_type": "execute_result"
    }
   ],
   "source": [
    "LCU_H_size_Array"
   ]
  },
  {
   "cell_type": "code",
   "execution_count": 165,
   "metadata": {},
   "outputs": [
    {
     "data": {
      "text/plain": [
       "array([-1.77635684e-15, -8.88178420e-15, -4.44089210e-15,  2.66453526e-15,\n",
       "        2.22044605e-15, -4.44089210e-15,  6.18477643e-01, -8.88178420e-16,\n",
       "        8.88178420e-16, -7.54951657e-15,  0.00000000e+00,  3.55271368e-15,\n",
       "        1.77635684e-15, -1.33226763e-15, -8.88178420e-16, -8.88178420e-16,\n",
       "       -2.66453526e-15, -8.88178420e-16,  2.27377384e-01, -1.77635684e-15,\n",
       "        8.88178420e-16,  3.64207446e-01, -8.88178420e-16,  2.88452323e-01,\n",
       "        8.88178420e-16, -3.10862447e-15, -6.21724894e-15,  2.22044605e-15,\n",
       "       -8.88178420e-16, -6.66133815e-15, -3.55271368e-15, -1.77635684e-15,\n",
       "        1.33226763e-15,  0.00000000e+00, -8.88178420e-16, -3.55271368e-15,\n",
       "       -3.55271368e-15, -4.44089210e-16, -4.44089210e-15,  2.62963875e-01,\n",
       "       -4.44089210e-16, -2.66453526e-15,  0.00000000e+00, -6.21724894e-15,\n",
       "        4.44089210e-16,  6.37412134e-02,  1.33226763e-15,  8.88178420e-16,\n",
       "       -5.77315973e-15, -2.66453526e-15])"
      ]
     },
     "execution_count": 165,
     "metadata": {},
     "output_type": "execute_result"
    }
   ],
   "source": [
    "E_LCU_error_array[:,2]"
   ]
  },
  {
   "cell_type": "code",
   "execution_count": 170,
   "metadata": {},
   "outputs": [
    {
     "data": {
      "text/plain": [
       "(array([ 6, 18, 21, 23, 39, 45]),)"
      ]
     },
     "execution_count": 170,
     "metadata": {},
     "output_type": "execute_result"
    }
   ],
   "source": [
    "np.where(np.abs(E_seqRot_error_array[:,2])>1e-8)"
   ]
  },
  {
   "cell_type": "code",
   "execution_count": 199,
   "metadata": {},
   "outputs": [
    {
     "data": {
      "image/png": "[encoded data removed]",
      "text/plain": [
       "<Figure size 432x288 with 1 Axes>"
      ]
     },
     "metadata": {
      "needs_background": "light"
     },
     "output_type": "display_data"
    }
   ],
   "source": [
    "x = range(N_experiments)\n",
    "plt.plot(x, E_seqRot_error_array[:,2], linestyle='dotted', label='SeqRot', marker='o')\n",
    "plt.plot(x, E_LCU_error_array[:,2], label='LCU', marker='x')\n",
    "plt.ylabel('E Error')\n",
    "plt.xlabel('experiment')\n",
    "plt.legend()\n",
    "plt.show()"
   ]
  }
 ],
 "metadata": {
  "kernelspec": {
   "display_name": "Python 3",
   "language": "python",
   "name": "python3"
  },
  "language_info": {
   "codemirror_mode": {
    "name": "ipython",
    "version": 3
   },
   "file_extension": ".py",
   "mimetype": "text/x-python",
   "name": "python",
   "nbconvert_exporter": "python",
   "pygments_lexer": "ipython3",
   "version": "3.7.3"
  }
 },
 "nbformat": 4,
 "nbformat_minor": 2
}
