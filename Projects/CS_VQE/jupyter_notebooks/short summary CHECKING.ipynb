{
 "cells": [
  {
   "cell_type": "code",
   "execution_count": 1,
   "metadata": {},
   "outputs": [],
   "source": [
    "import sys\n",
    "sys.path.append( '../' )"
   ]
  },
  {
   "cell_type": "code",
   "execution_count": 2,
   "metadata": {},
   "outputs": [],
   "source": [
    "import numpy as np\n",
    "import cs_vqe as c\n",
    "import ast\n",
    "import os\n",
    "import scipy as sp\n",
    "from copy import deepcopy"
   ]
  },
  {
   "cell_type": "code",
   "execution_count": 3,
   "metadata": {},
   "outputs": [],
   "source": [
    "from openfermion import qubit_operator_sparse\n",
    "import quchem.Misc_functions.conversion_scripts as conv_scr\n",
    "from openfermion.ops import QubitOperator"
   ]
  },
  {
   "cell_type": "code",
   "execution_count": 4,
   "metadata": {},
   "outputs": [],
   "source": [
    "# with open(\"hamiltonians.txt\", 'r') as input_file:\n",
    "#     hamiltonians = ast.literal_eval(input_file.read())\n",
    "    \n",
    "cwd = os.getcwd()\n",
    "working_dir = os.path.dirname(cwd)\n",
    "data_dir = os.path.join(working_dir, 'data')\n",
    "data_hamiltonians_file = os.path.join(data_dir, 'hamiltonians.txt')\n",
    "\n",
    "\n",
    "with open(data_hamiltonians_file, 'r') as input_file:\n",
    "    hamiltonians = ast.literal_eval(input_file.read())"
   ]
  },
  {
   "cell_type": "code",
   "execution_count": 5,
   "metadata": {},
   "outputs": [
    {
     "name": "stdout",
     "output_type": "stream",
     "text": [
      "H2-S1_STO-3G_singlet          n_qubits:  18   \n",
      "C1-O1_STO-3G_singlet          n_qubits:  16   \n",
      "H1-Cl1_STO-3G_singlet         n_qubits:  16   \n",
      "H1-Na1_STO-3G_singlet         n_qubits:  16   \n",
      "H2-Mg1_STO-3G_singlet         n_qubits:  17   \n",
      "H1-F1_3-21G_singlet           n_qubits:  18   \n",
      "H1-Li1_3-21G_singlet          n_qubits:  18   \n",
      "Be1_STO-3G_singlet            n_qubits:  5    \n",
      "H1-F1_STO-3G_singlet          n_qubits:  8    \n",
      "H1-Li1_STO-3G_singlet         n_qubits:  8    \n",
      "Ar1_STO-3G_singlet            n_qubits:  13   \n",
      "F2_STO-3G_singlet             n_qubits:  15   \n",
      "H1-O1_STO-3G_singlet          n_qubits:  8    \n",
      "H2-Be1_STO-3G_singlet         n_qubits:  9    \n",
      "H2-O1_STO-3G_singlet          n_qubits:  10   \n",
      "H2_3-21G_singlet              n_qubits:  5    \n",
      "H2_6-31G_singlet              n_qubits:  5    \n",
      "H3-N1_STO-3G_singlet          n_qubits:  13   \n",
      "H4-C1_STO-3G_singlet          n_qubits:  14   \n",
      "Mg1_STO-3G_singlet            n_qubits:  13   \n",
      "N2_STO-3G_singlet             n_qubits:  15   \n",
      "Ne1_STO-3G_singlet            n_qubits:  5    \n",
      "O2_STO-3G_singlet             n_qubits:  15   \n",
      "H1-Li1-O1_STO-3G_singlet      n_qubits:  18   \n",
      "H1-He1_STO-3G_singlet         n_qubits:  2    \n",
      "H3_STO-3G_singlet_1+          n_qubits:  3    \n",
      "H1-He1_3-21G_singlet_1+       n_qubits:  6    \n",
      "H3_3-21G_singlet_1+           n_qubits:  9    \n",
      "H4-N1_STO-3G_singlet_1+       n_qubits:  14   \n"
     ]
    }
   ],
   "source": [
    "for key in hamiltonians.keys():\n",
    "    print(f\"{key: <25}     n_qubits:  {hamiltonians[key][1]:<5.0f}\")"
   ]
  },
  {
   "cell_type": "code",
   "execution_count": 6,
   "metadata": {},
   "outputs": [
    {
     "name": "stdout",
     "output_type": "stream",
     "text": [
      "H3_STO-3G_singlet_1+          n_qubits:  3    \n",
      "Be1_STO-3G_singlet            n_qubits:  5    \n",
      "H2_3-21G_singlet              n_qubits:  5    \n",
      "H2_6-31G_singlet              n_qubits:  5    \n",
      "H1-He1_3-21G_singlet_1+       n_qubits:  6    \n",
      "H1-F1_STO-3G_singlet          n_qubits:  8    \n",
      "H1-Li1_STO-3G_singlet         n_qubits:  8    \n",
      "H1-O1_STO-3G_singlet          n_qubits:  8    \n",
      "H2-Be1_STO-3G_singlet         n_qubits:  9    \n",
      "H3_3-21G_singlet_1+           n_qubits:  9    \n",
      "H2-O1_STO-3G_singlet          n_qubits:  10   \n",
      "H3-N1_STO-3G_singlet          n_qubits:  13   \n",
      "Mg1_STO-3G_singlet            n_qubits:  13   \n",
      "H4-C1_STO-3G_singlet          n_qubits:  14   \n",
      "H4-N1_STO-3G_singlet_1+       n_qubits:  14   \n",
      "F2_STO-3G_singlet             n_qubits:  15   \n",
      "N2_STO-3G_singlet             n_qubits:  15   \n",
      "O2_STO-3G_singlet             n_qubits:  15   \n",
      "C1-O1_STO-3G_singlet          n_qubits:  16   \n",
      "H1-Cl1_STO-3G_singlet         n_qubits:  16   \n",
      "H1-Na1_STO-3G_singlet         n_qubits:  16   \n",
      "H2-Mg1_STO-3G_singlet         n_qubits:  17   \n",
      "H1-F1_3-21G_singlet           n_qubits:  18   \n",
      "H1-Li1_3-21G_singlet          n_qubits:  18   \n",
      "H1-Li1-O1_STO-3G_singlet      n_qubits:  18   \n",
      "H2-S1_STO-3G_singlet          n_qubits:  18   \n"
     ]
    }
   ],
   "source": [
    "data_csvqe_results_file = os.path.join(data_dir, 'csvqe_results.txt')\n",
    "with open(data_csvqe_results_file, 'r') as input_file:\n",
    "    csvqe_results = ast.literal_eval(input_file.read())\n",
    "\n",
    "for key in csvqe_results.keys():\n",
    "    print(f\"{key: <25}     n_qubits:  {hamiltonians[key][1]:<5.0f}\")"
   ]
  },
  {
   "cell_type": "code",
   "execution_count": 7,
   "metadata": {},
   "outputs": [],
   "source": [
    "# mol_k\n",
    "mol_key ='H3_STO-3G_singlet_1+'\n",
    "# mol_key ='H2-Be1_STO-3G_singlet'\n",
    "# mol_key = 'H1-Li1_STO-3G_singlet'\n"
   ]
  },
  {
   "cell_type": "code",
   "execution_count": 8,
   "metadata": {},
   "outputs": [
    {
     "name": "stdout",
     "output_type": "stream",
     "text": [
      "n_qubits:  3\n"
     ]
    }
   ],
   "source": [
    "print(f\"n_qubits:  {hamiltonians[mol_key][1]}\")"
   ]
  },
  {
   "cell_type": "markdown",
   "metadata": {},
   "source": [
    "# Get non-contextual H"
   ]
  },
  {
   "cell_type": "code",
   "execution_count": 9,
   "metadata": {},
   "outputs": [
    {
     "data": {
      "text/plain": [
       "{'III': -1.7512307459285525,\n",
       " 'IIX': -0.023568152336180023,\n",
       " 'IIZ': -0.017109477140260287,\n",
       " 'IXI': 0.02356815233618002,\n",
       " 'IXZ': 0.02356815233617983,\n",
       " 'IYY': -0.07195737217001562,\n",
       " 'IZI': -0.017109477140260287,\n",
       " 'IZX': -0.023568152336179825,\n",
       " 'IZZ': 0.31270210682950855,\n",
       " 'XII': 0.01872992170537467,\n",
       " 'XIX': 0.023568139980123585,\n",
       " 'XIZ': 0.01872992170537467,\n",
       " 'XXI': -0.023568139980123585,\n",
       " 'XXX': 0.03597868636603963,\n",
       " 'XXZ': -0.023568139980123585,\n",
       " 'XYY': -0.03597868636603963,\n",
       " 'XZI': 0.01872992170537467,\n",
       " 'XZX': 0.023568139980123585,\n",
       " 'XZZ': 0.01872992170537467,\n",
       " 'YIY': 0.023568139980123585,\n",
       " 'YXY': 0.03597868636603963,\n",
       " 'YYI': -0.023568139980123585,\n",
       " 'YYX': 0.03597868636603963,\n",
       " 'YYZ': -0.023568139980123585,\n",
       " 'YZY': 0.023568139980123585,\n",
       " 'ZII': -0.45436486525596403,\n",
       " 'ZIX': -0.023568152336180023,\n",
       " 'ZIZ': 0.37110605476609787,\n",
       " 'ZXI': 0.02356815233618002,\n",
       " 'ZXZ': 0.02356815233617983,\n",
       " 'ZYY': -0.07195737217001562,\n",
       " 'ZZI': 0.37110605476609804,\n",
       " 'ZZX': -0.023568152336179825,\n",
       " 'ZZZ': -0.2878474382772282}"
      ]
     },
     "execution_count": 9,
     "metadata": {},
     "output_type": "execute_result"
    }
   ],
   "source": [
    "ham = hamiltonians[mol_key][2]\n",
    "ham"
   ]
  },
  {
   "cell_type": "code",
   "execution_count": 10,
   "metadata": {
    "code_folding": [
     4
    ]
   },
   "outputs": [],
   "source": [
    "n_qubits = hamiltonians[mol_key][1]\n",
    "\n",
    "ham_noncon = hamiltonians[mol_key][3]\n",
    "Con_H = {}\n",
    "\n",
    "for P in ham:\n",
    "    if P in ham_noncon:\n",
    "        continue\n",
    "    else:\n",
    "        Con_H[P]=ham[P]\n",
    "        "
   ]
  },
  {
   "cell_type": "markdown",
   "metadata": {},
   "source": [
    "## Testing contextuality"
   ]
  },
  {
   "cell_type": "code",
   "execution_count": 11,
   "metadata": {},
   "outputs": [
    {
     "name": "stdout",
     "output_type": "stream",
     "text": [
      "Is NONcontextual correct: True\n",
      "Is contextual correct: True\n"
     ]
    }
   ],
   "source": [
    "print('Is NONcontextual correct:', not c.contextualQ_ham(ham_noncon))\n",
    "print('Is contextual correct:',c.contextualQ_ham(Con_H))"
   ]
  },
  {
   "cell_type": "markdown",
   "metadata": {},
   "source": [
    "# Classical part of problem!"
   ]
  },
  {
   "cell_type": "markdown",
   "metadata": {},
   "source": [
    "Take $H_{nc}$ and split into:\n",
    "- $Z$ = operators that completely comute with all operators in $S$\n",
    "- $T$ = remaining operators in $S$\n",
    "    - where $S = Z \\cup T$  and $S$ is set of Pauli operators in $H_{nc}$\n",
    "    \n",
    "    \n",
    "- We then split the set $T$ into cliques $C_{1}, C_{2}, ... , C_{|T|}$\n",
    "    - all ops in a clique commute\n",
    "    - ops between cliques anti-commute!"
   ]
  },
  {
   "cell_type": "code",
   "execution_count": 12,
   "metadata": {},
   "outputs": [],
   "source": [
    "model = c.quasi_model(ham_noncon)\n",
    "fn_form = c.energy_function_form(ham_noncon, model)"
   ]
  },
  {
   "cell_type": "markdown",
   "metadata": {},
   "source": [
    "# Function form\n",
    "\n",
    "$$R = G \\cup \\{ C_{i1} \\;| \\; i=1,2,...,N \\}$$\n",
    "\n",
    "- note q to do with $G$\n",
    "- note r to do with $C_{i1}$"
   ]
  },
  {
   "cell_type": "code",
   "execution_count": 13,
   "metadata": {},
   "outputs": [],
   "source": [
    "Energy_function = c.energy_function(fn_form)"
   ]
  },
  {
   "cell_type": "code",
   "execution_count": 14,
   "metadata": {},
   "outputs": [
    {
     "data": {
      "text/plain": [
       "[[-1, 1], [0.9799593338761482, -0.19919765046058108]]"
      ]
     },
     "execution_count": 14,
     "metadata": {},
     "output_type": "execute_result"
    }
   ],
   "source": [
    "ground_state_params = [list(hamiltonians[mol_key][5][1]), list(hamiltonians[mol_key][5][2])]\n",
    "ground_state_params"
   ]
  },
  {
   "cell_type": "code",
   "execution_count": 15,
   "metadata": {},
   "outputs": [
    {
     "data": {
      "text/plain": [
       "True"
      ]
     },
     "execution_count": 15,
     "metadata": {},
     "output_type": "execute_result"
    }
   ],
   "source": [
    "## check\n",
    "\n",
    "H_symbolic = conv_scr.Get_Openfermion_Hamiltonian(ham_noncon)\n",
    "sparseH = qubit_operator_sparse(H_symbolic, n_qubits=n_qubits)\n",
    "\n",
    "if sparseH.shape[0]<128:\n",
    "    eig_vals, eig_vecs = sp.linalg.eigh(sparseH.todense())\n",
    "    lowest_eigenvalue = min(eig_vals)\n",
    "else:\n",
    "    lowest_eigenvalue = sp.sparse.linalg.eigsh(sparseH, which='SA', k=1)[0][0]\n",
    "    \n",
    "np.isclose(Energy_function(*ground_state_params[0],*ground_state_params[1]),\n",
    "           lowest_eigenvalue)"
   ]
  },
  {
   "cell_type": "code",
   "execution_count": null,
   "metadata": {},
   "outputs": [],
   "source": []
  },
  {
   "cell_type": "markdown",
   "metadata": {},
   "source": [
    "# Now need to rotate Hamiltonian!"
   ]
  },
  {
   "cell_type": "markdown",
   "metadata": {},
   "source": [
    "We now have non contextual ground state: $(\\vec{q}, \\vec{r})$"
   ]
  },
  {
   "cell_type": "code",
   "execution_count": 16,
   "metadata": {},
   "outputs": [
    {
     "data": {
      "text/plain": [
       "[[-1, 1], [0.9799593338761482, -0.19919765046058108]]"
      ]
     },
     "execution_count": 16,
     "metadata": {},
     "output_type": "execute_result"
    }
   ],
   "source": [
    "ground_state_params"
   ]
  },
  {
   "cell_type": "markdown",
   "metadata": {},
   "source": [
    "We can use this result - ground state of $H_{nc}$ -  as a classical estiamte of our ground state of the full Hamiltonian ($H = H_{c} + H_{nc}$)\n",
    "\n",
    "However we can also obtain a quantum correction using $H_{c}$\n",
    "\n",
    "By minimizing theenergy of the remaining terms in the Hamiltonian over the quantum states that are **consistent with the noncon-textual ground state**."
   ]
  },
  {
   "cell_type": "code",
   "execution_count": null,
   "metadata": {},
   "outputs": [],
   "source": []
  },
  {
   "cell_type": "code",
   "execution_count": null,
   "metadata": {},
   "outputs": [],
   "source": []
  },
  {
   "cell_type": "markdown",
   "metadata": {},
   "source": [
    "To do this we first rotate each $G_{j}$ and $\\mathcal{A} = \\sum_{i=1}^{N} r_{i}A_{i}$:"
   ]
  },
  {
   "cell_type": "code",
   "execution_count": 17,
   "metadata": {},
   "outputs": [
    {
     "data": {
      "text/plain": [
       "-2.916018490268454"
      ]
     },
     "execution_count": 17,
     "metadata": {},
     "output_type": "execute_result"
    }
   ],
   "source": [
    "true_gs = hamiltonians[mol_key][4]\n",
    "true_gs"
   ]
  },
  {
   "cell_type": "code",
   "execution_count": null,
   "metadata": {},
   "outputs": [],
   "source": []
  },
  {
   "cell_type": "code",
   "execution_count": 18,
   "metadata": {},
   "outputs": [
    {
     "data": {
      "text/plain": [
       "[0, 2, 1]"
      ]
     },
     "execution_count": 18,
     "metadata": {},
     "output_type": "execute_result"
    }
   ],
   "source": [
    "order = csvqe_results[mol_key][-1] # <-- order specified from greedy run by Will\n",
    "qubit_removal_order=deepcopy(order)\n",
    "qubit_removal_order"
   ]
  },
  {
   "cell_type": "markdown",
   "metadata": {},
   "source": [
    "# Rotate full Hamiltonian to basis with diagonal noncontextual generators!"
   ]
  },
  {
   "cell_type": "code",
   "execution_count": 19,
   "metadata": {},
   "outputs": [],
   "source": [
    "from cs_vqe_with_SeqRot import diagonalize_epistemic_dictionary_generator"
   ]
  },
  {
   "cell_type": "code",
   "execution_count": 20,
   "metadata": {},
   "outputs": [],
   "source": [
    "(mapping_GuA_to_singleZ_with_ep_exp_vals, \n",
    " R_sk_OP_list,\n",
    "GuA_full_rotated) = diagonalize_epistemic_dictionary_generator(model, \n",
    "                                                            fn_form, \n",
    "                                                            ground_state_params, \n",
    "                                                            check_reduction=False)"
   ]
  },
  {
   "cell_type": "code",
   "execution_count": 21,
   "metadata": {},
   "outputs": [
    {
     "data": {
      "text/plain": [
       "[0, 2, 1]"
      ]
     },
     "execution_count": 21,
     "metadata": {},
     "output_type": "execute_result"
    }
   ],
   "source": [
    "from cs_vqe_with_SeqRot import get_wills_order\n",
    "\n",
    "qubit_removal_order=deepcopy(order)\n",
    "\n",
    "actual_qubit_removal_order = get_wills_order(GuA_full_rotated, qubit_removal_order)\n",
    "actual_qubit_removal_order"
   ]
  },
  {
   "cell_type": "code",
   "execution_count": 22,
   "metadata": {},
   "outputs": [
    {
     "data": {
      "text/plain": [
       "{'ZZI': {'single_Z': 'ZII', 'noncon_gs_exp_val': -1, 'do_unitary_part': False},\n",
       " 'IZZ': {'single_Z': 'IZI', 'noncon_gs_exp_val': 1, 'do_unitary_part': False},\n",
       " 'ZII': {'single_Z': 'IIZ', 'noncon_gs_exp_val': 1, 'do_unitary_part': True}}"
      ]
     },
     "execution_count": 22,
     "metadata": {},
     "output_type": "execute_result"
    }
   ],
   "source": [
    "mapping_GuA_to_singleZ_with_ep_exp_vals"
   ]
  },
  {
   "cell_type": "code",
   "execution_count": 23,
   "metadata": {},
   "outputs": [],
   "source": [
    "from cs_vqe_with_SeqRot import diagonalize_epistemic_SeqRot"
   ]
  },
  {
   "cell_type": "code",
   "execution_count": 24,
   "metadata": {},
   "outputs": [
    {
     "data": {
      "text/plain": [
       "['ZII']"
      ]
     },
     "execution_count": 24,
     "metadata": {},
     "output_type": "execute_result"
    }
   ],
   "source": [
    "(rotations, \n",
    " do_unitary_part, \n",
    " ep_state_trans,\n",
    " GuA) = diagonalize_epistemic_SeqRot(model, mapping_GuA_to_singleZ_with_ep_exp_vals, [2])\n",
    "GuA"
   ]
  },
  {
   "cell_type": "code",
   "execution_count": null,
   "metadata": {},
   "outputs": [],
   "source": []
  },
  {
   "cell_type": "code",
   "execution_count": 25,
   "metadata": {},
   "outputs": [],
   "source": [
    "from cs_vqe_with_SeqRot import get_reduced_hamiltonian_by_qubits_fixed"
   ]
  },
  {
   "cell_type": "code",
   "execution_count": 26,
   "metadata": {},
   "outputs": [],
   "source": [
    "H_reduced = get_reduced_hamiltonian_by_qubits_fixed(ham,\n",
    "                                             model, \n",
    "                                             mapping_GuA_to_singleZ_with_ep_exp_vals,\n",
    "                                             [0],\n",
    "                                             R_sk_OP_list)\n",
    "# H_reduced"
   ]
  },
  {
   "cell_type": "code",
   "execution_count": null,
   "metadata": {},
   "outputs": [],
   "source": []
  },
  {
   "cell_type": "code",
   "execution_count": 27,
   "metadata": {},
   "outputs": [
    {
     "data": {
      "text/plain": [
       "[{'': (-2.9032129187167244+0j)},\n",
       " {'I': (-2.1802002532456592+0j),\n",
       "  'Z': (0.7230126654710651+0j),\n",
       "  'X': (-0.1350107578751797+0j)},\n",
       " {'II': (-1.438528639099044+0j),\n",
       "  'IZ': (-0.034218954280520575+0j),\n",
       "  'IX': -0.07195737217001562,\n",
       "  'XI': (0.03745984341074934+0j),\n",
       "  'XZ': (0.03745984341074934+0j),\n",
       "  'XX': (-0.07195737273207926+0j),\n",
       "  'YY': (-0.07195737273207926+0j),\n",
       "  'ZI': (-0.7422123035331922+0j),\n",
       "  'ZZ': (0.7422121095321959+0j),\n",
       "  'ZX': -0.07195737217001562},\n",
       " {'III': -1.7512307459285525,\n",
       "  'IIX': -0.023568152336180023,\n",
       "  'IIZ': -0.017109477140260287,\n",
       "  'IXI': 0.02356815233618002,\n",
       "  'IXZ': 0.02356815233617983,\n",
       "  'IYY': -0.07195737217001562,\n",
       "  'IZI': -0.017109477140260287,\n",
       "  'IZX': -0.023568152336179825,\n",
       "  'IZZ': 0.31270210682950855,\n",
       "  'XII': 0.01872992170537467,\n",
       "  'XIX': 0.023568139980123585,\n",
       "  'XIZ': 0.01872992170537467,\n",
       "  'XXI': -0.023568139980123585,\n",
       "  'XXX': 0.03597868636603963,\n",
       "  'XXZ': -0.023568139980123585,\n",
       "  'XYY': -0.03597868636603963,\n",
       "  'XZI': 0.01872992170537467,\n",
       "  'XZX': 0.023568139980123585,\n",
       "  'XZZ': 0.01872992170537467,\n",
       "  'YIY': 0.023568139980123585,\n",
       "  'YXY': 0.03597868636603963,\n",
       "  'YYI': -0.023568139980123585,\n",
       "  'YYX': 0.03597868636603963,\n",
       "  'YYZ': -0.023568139980123585,\n",
       "  'YZY': 0.023568139980123585,\n",
       "  'ZII': -0.45436486525596403,\n",
       "  'ZIX': -0.023568152336180023,\n",
       "  'ZIZ': 0.37110605476609787,\n",
       "  'ZXI': 0.02356815233618002,\n",
       "  'ZXZ': 0.02356815233617983,\n",
       "  'ZYY': -0.07195737217001562,\n",
       "  'ZZI': 0.37110605476609804,\n",
       "  'ZZX': -0.023568152336179825,\n",
       "  'ZZZ': -0.2878474382772282}]"
      ]
     },
     "execution_count": 27,
     "metadata": {},
     "output_type": "execute_result"
    }
   ],
   "source": [
    "from cs_vqe_with_SeqRot import get_reduced_hamiltonians_by_order \n",
    "\n",
    "\n",
    "H_reduced_list = get_reduced_hamiltonians_by_order(ham,\n",
    "                                             model, \n",
    "                                             mapping_GuA_to_singleZ_with_ep_exp_vals,\n",
    "                                             actual_qubit_removal_order, # <-- actual GOOD order!\n",
    "                                             R_sk_OP_list)\n",
    "H_reduced_list"
   ]
  },
  {
   "cell_type": "code",
   "execution_count": 28,
   "metadata": {},
   "outputs": [
    {
     "name": "stdout",
     "output_type": "stream",
     "text": [
      "[0, 2, 1]\n",
      "\n"
     ]
    },
    {
     "data": {
      "text/plain": [
       "[{'': -2.903212918716724},\n",
       " {'I': -2.180200253245659,\n",
       "  'Z': -0.7230126654710651,\n",
       "  'X': -0.13501075787517966},\n",
       " {'II': -1.438528639099044,\n",
       "  'ZZ': -0.01919944406113084,\n",
       "  'ZX': -0.07733163434390385,\n",
       "  'XI': -0.07195737217001562,\n",
       "  'XX': 0.051042862665487465,\n",
       "  'XZ': 0.06305338570516404,\n",
       "  'YY': -0.03745984341074934,\n",
       "  'IX': 0.07733164795674143,\n",
       "  'IZ': 0.7416716141466151,\n",
       "  'ZI': -0.7422121095321959},\n",
       " {'III': -1.7512307459285525,\n",
       "  'ZXI': 0.023568152336180023,\n",
       "  'ZZZ': 0.00959972203056542,\n",
       "  'ZZX': 0.03866581717195192,\n",
       "  'YYI': -0.02356815233618002,\n",
       "  'XXZ': -0.027790548973821074,\n",
       "  'XXX': 0.018401098184557648,\n",
       "  'XII': -0.07195737217001562,\n",
       "  'ZIZ': -0.00959972203056542,\n",
       "  'ZIX': -0.03866581717195192,\n",
       "  'IXZ': 0.02779054897382107,\n",
       "  'IXX': -0.018401098184557648,\n",
       "  'IZI': -0.31270210682950855,\n",
       "  'XZX': -0.01835456159795137,\n",
       "  'XZZ': 0.003730956397021274,\n",
       "  'YYX': 0.02779053932668584,\n",
       "  'YYZ': 0.018401112754287855,\n",
       "  'YIY': -0.01872992170537467,\n",
       "  'ZXX': -0.02779053932668584,\n",
       "  'ZXZ': -0.01840111275428786,\n",
       "  'IIX': 0.05525076408582349,\n",
       "  'IIZ': 0.45242596048373357,\n",
       "  'IYY': -0.023568139980123585,\n",
       "  'IZX': -0.022080883870917938,\n",
       "  'IZZ': -0.28924565366288146,\n",
       "  'YZY': 0.01872992170537467,\n",
       "  'XYY': 0.023568139980123585,\n",
       "  'XIX': 0.03268830106753609,\n",
       "  'XIZ': 0.06678434210218531,\n",
       "  'ZYY': -0.023568139980123585,\n",
       "  'YXY': -0.023568139980123585,\n",
       "  'ZZI': 0.37110605476609787,\n",
       "  'XXI': 0.02356815233617983,\n",
       "  'ZII': -0.37110605476609804,\n",
       "  'IXI': -0.023568152336179825}]"
      ]
     },
     "execution_count": 28,
     "metadata": {},
     "output_type": "execute_result"
    }
   ],
   "source": [
    "qubit_removal_order=deepcopy(order)\n",
    "qubit_removal_order\n",
    "print(qubit_removal_order)\n",
    "print()\n",
    "\n",
    "red_Hs = c.get_reduced_hamiltonians(ham,\n",
    "                           model,\n",
    "                           fn_form,\n",
    "                           ground_state_params,\n",
    "                           qubit_removal_order)\n",
    "red_Hs"
   ]
  },
  {
   "cell_type": "code",
   "execution_count": null,
   "metadata": {},
   "outputs": [],
   "source": []
  },
  {
   "cell_type": "code",
   "execution_count": 29,
   "metadata": {},
   "outputs": [
    {
     "data": {
      "text/plain": [
       "True"
      ]
     },
     "execution_count": 29,
     "metadata": {},
     "output_type": "execute_result"
    }
   ],
   "source": [
    "len(H_reduced_list) == len(red_Hs)"
   ]
  },
  {
   "cell_type": "code",
   "execution_count": 30,
   "metadata": {},
   "outputs": [
    {
     "name": "stdout",
     "output_type": "stream",
     "text": [
      "-2.9032129187167244\n",
      "1\n",
      "\n",
      "-2.9157104293639815\n",
      "3\n",
      "\n",
      "-2.9160184902684563\n",
      "10\n",
      "\n",
      "-2.916018490268449\n",
      "35\n",
      "\n"
     ]
    }
   ],
   "source": [
    "E_list_one =[]\n",
    "for H in red_Hs:\n",
    "    H = {P_key: coeff.real for P_key, coeff in H.items() if not np.isclose(coeff.real,0)}\n",
    "    \n",
    "    H_mat = conv_scr.Get_Openfermion_Hamiltonian(H)\n",
    "    sparseH = qubit_operator_sparse(H_mat, n_qubits=hamiltonians[mol_key][1])\n",
    "    E = sp.sparse.linalg.eigsh(sparseH, which='SA', k=1)[0][0]\n",
    "    print(E)\n",
    "    print(len(H))\n",
    "    print()\n",
    "    E_list_one.append(E)"
   ]
  },
  {
   "cell_type": "code",
   "execution_count": 31,
   "metadata": {},
   "outputs": [
    {
     "name": "stdout",
     "output_type": "stream",
     "text": [
      "-2.9032129187167244\n",
      "1\n",
      "\n",
      "-2.915710429363982\n",
      "3\n",
      "\n",
      "-2.9160184902684527\n",
      "10\n",
      "\n",
      "-2.9160184902684523\n",
      "34\n",
      "\n"
     ]
    }
   ],
   "source": [
    "E_list_two =[]\n",
    "for H in H_reduced_list:\n",
    "    H = {P_key: coeff.real for P_key, coeff in H.items() if not np.isclose(coeff.real,0)}\n",
    "    H_mat = conv_scr.Get_Openfermion_Hamiltonian(H)\n",
    "    sparseH = qubit_operator_sparse(H_mat, n_qubits=hamiltonians[mol_key][1])\n",
    "    E = sp.sparse.linalg.eigsh(sparseH, which='SA', k=1)[0][0]\n",
    "    print(E)\n",
    "    print(len(H))\n",
    "    print()\n",
    "    E_list_two.append(E)"
   ]
  },
  {
   "cell_type": "code",
   "execution_count": 32,
   "metadata": {},
   "outputs": [
    {
     "data": {
      "text/plain": [
       "array([ 0.00000000e+00, -4.44089210e-16,  3.55271368e-15, -3.10862447e-15])"
      ]
     },
     "execution_count": 32,
     "metadata": {},
     "output_type": "execute_result"
    }
   ],
   "source": [
    "np.array(E_list_two) - np.array(E_list_one)"
   ]
  },
  {
   "cell_type": "code",
   "execution_count": null,
   "metadata": {},
   "outputs": [],
   "source": []
  },
  {
   "cell_type": "code",
   "execution_count": 33,
   "metadata": {},
   "outputs": [
    {
     "data": {
      "text/plain": [
       "array([1.28055716e-02, 3.08060904e-04, 1.33226763e-15, 1.77635684e-15])"
      ]
     },
     "execution_count": 33,
     "metadata": {},
     "output_type": "execute_result"
    }
   ],
   "source": [
    "# cs_VQE new\n",
    "np.array(E_list_two) - true_gs"
   ]
  },
  {
   "cell_type": "code",
   "execution_count": 34,
   "metadata": {},
   "outputs": [
    {
     "data": {
      "text/plain": [
       "array([ 1.28055716e-02,  3.08060904e-04, -2.22044605e-15,  4.88498131e-15])"
      ]
     },
     "execution_count": 34,
     "metadata": {},
     "output_type": "execute_result"
    }
   ],
   "source": [
    "# cs_VQE will\n",
    "np.array(E_list_one) - true_gs"
   ]
  },
  {
   "cell_type": "code",
   "execution_count": null,
   "metadata": {},
   "outputs": [],
   "source": []
  },
  {
   "cell_type": "code",
   "execution_count": null,
   "metadata": {},
   "outputs": [],
   "source": []
  },
  {
   "cell_type": "code",
   "execution_count": 35,
   "metadata": {},
   "outputs": [
    {
     "data": {
      "text/plain": [
       "{'ZZI': {'single_Z': 'ZII', 'noncon_gs_exp_val': -1, 'do_unitary_part': False},\n",
       " 'IZZ': {'single_Z': 'IZI', 'noncon_gs_exp_val': 1, 'do_unitary_part': False},\n",
       " 'ZII': {'single_Z': 'IIZ', 'noncon_gs_exp_val': 1, 'do_unitary_part': True}}"
      ]
     },
     "execution_count": 35,
     "metadata": {},
     "output_type": "execute_result"
    }
   ],
   "source": [
    "# look for: do_unitary_part=TRUE\n",
    "mapping_GuA_to_singleZ_with_ep_exp_vals\n"
   ]
  },
  {
   "cell_type": "code",
   "execution_count": 36,
   "metadata": {},
   "outputs": [
    {
     "data": {
      "text/plain": [
       "8"
      ]
     },
     "execution_count": 36,
     "metadata": {},
     "output_type": "execute_result"
    }
   ],
   "source": [
    "'IIIIIIIIZ'.index('Z')"
   ]
  },
  {
   "cell_type": "code",
   "execution_count": 37,
   "metadata": {},
   "outputs": [
    {
     "data": {
      "text/plain": [
       "[0, 2, 1]"
      ]
     },
     "execution_count": 37,
     "metadata": {},
     "output_type": "execute_result"
    }
   ],
   "source": [
    "actual_qubit_removal_order"
   ]
  },
  {
   "cell_type": "code",
   "execution_count": null,
   "metadata": {},
   "outputs": [],
   "source": []
  }
 ],
 "metadata": {
  "kernelspec": {
   "display_name": "Python 3 (ipykernel)",
   "language": "python",
   "name": "python3"
  },
  "language_info": {
   "codemirror_mode": {
    "name": "ipython",
    "version": 3
   },
   "file_extension": ".py",
   "mimetype": "text/x-python",
   "name": "python",
   "nbconvert_exporter": "python",
   "pygments_lexer": "ipython3",
   "version": "3.8.12"
  }
 },
 "nbformat": 4,
 "nbformat_minor": 2
}
