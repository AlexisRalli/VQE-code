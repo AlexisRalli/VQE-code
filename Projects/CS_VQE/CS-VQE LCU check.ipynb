{
 "cells": [
  {
   "cell_type": "code",
   "execution_count": 3,
   "metadata": {},
   "outputs": [],
   "source": [
    "import numpy as np\n",
    "import cs_vqe as c\n",
    "import ast\n",
    "import os\n",
    "\n",
    "from openfermion import qubit_operator_sparse\n",
    "import conversion_scripts as conv_scr\n",
    "import scipy as sp"
   ]
  },
  {
   "cell_type": "code",
   "execution_count": 4,
   "metadata": {},
   "outputs": [],
   "source": [
    "from openfermion import qubit_operator_sparse\n",
    "import conversion_scripts as conv_scr\n",
    "from openfermion.ops import QubitOperator"
   ]
  },
  {
   "cell_type": "code",
   "execution_count": 5,
   "metadata": {},
   "outputs": [],
   "source": [
    "# with open(\"hamiltonians.txt\", 'r') as input_file:\n",
    "#     hamiltonians = ast.literal_eval(input_file.read())\n",
    "    \n",
    "working_dir = os.getcwd()\n",
    "data_dir = os.path.join(working_dir, 'data')\n",
    "data_hamiltonians_file = os.path.join(data_dir, 'hamiltonians.txt')\n",
    "\n",
    "\n",
    "with open(data_hamiltonians_file, 'r') as input_file:\n",
    "    hamiltonians = ast.literal_eval(input_file.read())"
   ]
  },
  {
   "cell_type": "code",
   "execution_count": 6,
   "metadata": {},
   "outputs": [
    {
     "name": "stdout",
     "output_type": "stream",
     "text": [
      "H2-S1_STO-3G_singlet          n_qubits:  18   \n",
      "C1-O1_STO-3G_singlet          n_qubits:  16   \n",
      "H1-Cl1_STO-3G_singlet         n_qubits:  16   \n",
      "H1-Na1_STO-3G_singlet         n_qubits:  16   \n",
      "H2-Mg1_STO-3G_singlet         n_qubits:  17   \n",
      "H1-F1_3-21G_singlet           n_qubits:  18   \n",
      "H1-Li1_3-21G_singlet          n_qubits:  18   \n",
      "Be1_STO-3G_singlet            n_qubits:  5    \n",
      "H1-F1_STO-3G_singlet          n_qubits:  8    \n",
      "H1-Li1_STO-3G_singlet         n_qubits:  8    \n",
      "Ar1_STO-3G_singlet            n_qubits:  13   \n",
      "F2_STO-3G_singlet             n_qubits:  15   \n",
      "H1-O1_STO-3G_singlet          n_qubits:  8    \n",
      "H2-Be1_STO-3G_singlet         n_qubits:  9    \n",
      "H2-O1_STO-3G_singlet          n_qubits:  10   \n",
      "H2_3-21G_singlet              n_qubits:  5    \n",
      "H2_6-31G_singlet              n_qubits:  5    \n",
      "H3-N1_STO-3G_singlet          n_qubits:  13   \n",
      "H4-C1_STO-3G_singlet          n_qubits:  14   \n",
      "Mg1_STO-3G_singlet            n_qubits:  13   \n",
      "N2_STO-3G_singlet             n_qubits:  15   \n",
      "Ne1_STO-3G_singlet            n_qubits:  5    \n",
      "O2_STO-3G_singlet             n_qubits:  15   \n",
      "H1-Li1-O1_STO-3G_singlet      n_qubits:  18   \n",
      "H1-He1_STO-3G_singlet         n_qubits:  2    \n",
      "H3_STO-3G_singlet_1+          n_qubits:  3    \n",
      "H1-He1_3-21G_singlet_1+       n_qubits:  6    \n",
      "H3_3-21G_singlet_1+           n_qubits:  9    \n",
      "H4-N1_STO-3G_singlet_1+       n_qubits:  14   \n"
     ]
    }
   ],
   "source": [
    "for key in hamiltonians.keys():\n",
    "    print(f\"{key: <25}     n_qubits:  {hamiltonians[key][1]:<5.0f}\")"
   ]
  },
  {
   "cell_type": "code",
   "execution_count": 7,
   "metadata": {},
   "outputs": [
    {
     "data": {
      "text/plain": [
       "{'IIIIIIII': -65.32093253713555,\n",
       " 'IIIIIIIX': 0.002402667690835772,\n",
       " 'IIIIIIIZ': 16.180098271882343,\n",
       " 'IIIIIIXI': -0.040871854698728574,\n",
       " 'IIIIIIXZ': -0.05737873582321127,\n",
       " 'IIIIIIYY': -0.006360598179958599,\n",
       " 'IIIIIIZI': 16.180098271882343,\n",
       " 'IIIIIIZZ': 1.340646573147166,\n",
       " 'IIIIIXIX': -0.12644597509546893,\n",
       " 'IIIIIXXI': 0.0039802291595885655,\n",
       " 'IIIIIXYY': 0.006623525971099688,\n",
       " 'IIIIIXZX': -0.16768107055914974,\n",
       " 'IIIIIXZZ': -0.01659011980304869,\n",
       " 'IIIIIYIY': -0.12644597509546893,\n",
       " 'IIIIIYYX': -0.006623525971099688,\n",
       " 'IIIIIYZY': -0.16768107055914974,\n",
       " 'IIIIIZII': 2.3357257902560375,\n",
       " 'IIIIIZIZ': 0.28161764927929583,\n",
       " 'IIIIIZXZ': -0.0001048259582169446,\n",
       " 'IIIIIZZI': 0.30048077113694405,\n",
       " 'IIIIXIXI': -0.004988548097378894,\n",
       " 'IIIIXIZZ': -0.031703692461981056,\n",
       " 'IIIIXXIX': -0.001323027644611646,\n",
       " 'IIIIXXYY': -0.01886312185764844,\n",
       " 'IIIIXYIY': -0.001323027644611646,\n",
       " 'IIIIXYYX': 0.01886312185764844,\n",
       " 'IIIIXZIZ': -0.053180628872309704,\n",
       " 'IIIIXZXI': -0.16768107055914966,\n",
       " 'IIIIXZXZ': -0.12644597509546893,\n",
       " 'IIIIXZZI': -0.059804154843409396,\n",
       " 'IIIIXZZZ': -0.2742303467906421,\n",
       " 'IIIIYIYI': -0.004988548097378894,\n",
       " 'IIIIYXXY': 0.01886312185764844,\n",
       " 'IIIIYYII': -0.024143967630404047,\n",
       " 'IIIIYYXX': -0.01886312185764844,\n",
       " 'IIIIYZYI': -0.16768107055914966,\n",
       " 'IIIIYZYZ': -0.12644597509546893,\n",
       " 'IIIIYZZY': 0.0039802291595885655,\n",
       " 'IIIIZIII': 2.3357257902560375,\n",
       " 'IIIIZIIZ': 0.30048077113694405,\n",
       " 'IIIIZIXZ': 0.0012182016863946988,\n",
       " 'IIIIZIZI': 0.28161764927929583,\n",
       " 'IIIIZXZX': -0.004988548097378894,\n",
       " 'IIIIZYZY': -0.004988548097378894,\n",
       " 'IIIIZZII': 0.21432034653989088,\n",
       " 'IIIXIIII': -0.030527327562793125,\n",
       " 'IIIXIXII': -0.005414296683623315,\n",
       " 'IIIXIZZX': -0.0032170083003367285,\n",
       " 'IIIXXIII': 0.01397947449104697,\n",
       " 'IIIXXIXX': -0.005406033263372699,\n",
       " 'IIIXXYYI': -0.0021110529666980918,\n",
       " 'IIIXYIIY': 0.005055655968448458,\n",
       " 'IIIXYIYX': -0.005406033263372699,\n",
       " 'IIIXYYXI': 0.0021110529666980918,\n",
       " 'IIIXYYZZ': -0.011969882984304655,\n",
       " 'IIIXZIZX': -0.0011059553336386378,\n",
       " 'IIIXZXII': -0.16079755039322927,\n",
       " 'IIIXZXIZ': -0.030630690579266248,\n",
       " 'IIIXZXXZ': 0.006254443886792958,\n",
       " 'IIIXZXZI': -0.03603672384263893,\n",
       " 'IIIXZZIX': -0.03936501959423931,\n",
       " 'IIIXZZXI': 0.0015916161613780096,\n",
       " 'IIIXZZYY': -0.002183984336365342,\n",
       " 'IIIXZZZX': -0.04316761680576476,\n",
       " 'IIIXZZZZ': 0.003769886535509768,\n",
       " 'IIIYIYII': -0.005414296683623315,\n",
       " 'IIIYIZZY': -0.0032170083003367285,\n",
       " 'IIIYXIXY': -0.005406033263372699,\n",
       " 'IIIYXXYI': 0.0021110529666980918,\n",
       " 'IIIYYIIX': -0.005055655968448458,\n",
       " 'IIIYYIYY': -0.005406033263372699,\n",
       " 'IIIYYXXI': -0.0021110529666980918,\n",
       " 'IIIYYXZZ': 0.011969882984304655,\n",
       " 'IIIYZIZY': -0.0011059553336386378,\n",
       " 'IIIYZYII': -0.16079755039322927,\n",
       " 'IIIYZYIZ': -0.030630690579266248,\n",
       " 'IIIYZYXZ': 0.006254443886792958,\n",
       " 'IIIYZYZI': -0.03603672384263893,\n",
       " 'IIIYZZIY': -0.03936501959423931,\n",
       " 'IIIYZZYX': 0.002183984336365342,\n",
       " 'IIIYZZZY': -0.04316761680576476,\n",
       " 'IIIZIIII': 1.7429834522356595,\n",
       " 'IIIZIIIZ': 0.24332642530783588,\n",
       " 'IIIZIIXZ': -0.0030113187139707495,\n",
       " 'IIIZIIZI': 0.2490134432861977,\n",
       " 'IIIZIXZX': -0.007962424357087673,\n",
       " 'IIIZIYZY': -0.007962424357087673,\n",
       " 'IIIZIZII': 0.14867454863350857,\n",
       " 'IIIZXZXI': -0.0027270851561756178,\n",
       " 'IIIZXZZZ': -0.009168770434289254,\n",
       " 'IIIZYZYI': -0.0027270851561756178,\n",
       " 'IIIZZIII': 0.1877966636992112,\n",
       " 'IIIZZXII': 0.009168770434289254,\n",
       " 'IIIZZZZX': 0.0030113187139707495,\n",
       " 'IIXIIIII': -0.003769886535509768,\n",
       " 'IIXIIIXX': -0.002183984336365342,\n",
       " 'IIXIIYYI': 0.005055655968448458,\n",
       " 'IIXIXIII': -0.011649163305327318,\n",
       " 'IIXIXXII': -0.011969882984304655,\n",
       " 'IIXIXZZX': 0.006254443886792958,\n",
       " 'IIXIZZXI': 0.0013164092539251176,\n",
       " 'IIXIZZZZ': 0.030527327562793125,\n",
       " 'IIXXIIIX': -0.0005502030355428914,\n",
       " 'IIXXIIYY': -0.005687017978361812,\n",
       " 'IIXXIXXI': 0.0052353392009120555,\n",
       " 'IIXXIXZZ': 0.023581930910983318,\n",
       " 'IIXXYYII': -0.039122115065702553,\n",
       " 'IIXXYZZY': 0.0052353392009120555,\n",
       " 'IIXYIIIY': -0.0005502030355428914,\n",
       " 'IIXYIIYX': 0.005687017978361812,\n",
       " 'IIXYIYXI': 0.0052353392009120555,\n",
       " 'IIXYIYZZ': 0.023581930910983318,\n",
       " 'IIXYYIII': -0.023581930910983318,\n",
       " 'IIXYYXII': 0.039122115065702553,\n",
       " 'IIXYYZZX': -0.0052353392009120555,\n",
       " 'IIXYZZYI': 0.0005502030355428914,\n",
       " 'IIXZIZXI': -0.0011059553336386378,\n",
       " 'IIXZIZZZ': 0.030492590951318014,\n",
       " 'IIXZXIII': -0.16079755039322927,\n",
       " 'IIXZXIIZ': -0.03603672384263893,\n",
       " 'IIXZXIXZ': 0.0078291834129838,\n",
       " 'IIXZXIZI': -0.030630690579266248,\n",
       " 'IIXZXXZX': 0.0021110529666980918,\n",
       " 'IIXZXYZY': 0.0021110529666980918,\n",
       " 'IIXZXZII': -0.005414296683623315,\n",
       " 'IIXZYIYZ': 0.0066303954946393,\n",
       " 'IIXZZIXI': -0.0032170083003367285,\n",
       " 'IIXZZIZZ': 0.04246247393562265,\n",
       " 'IIXZZXIX': 0.0015747395261908395,\n",
       " 'IIXZZXYY': -0.0054060332633727014,\n",
       " 'IIXZZYIY': 0.0015747395261908395,\n",
       " 'IIXZZYYX': 0.0054060332633727014,\n",
       " 'IIXZZZIZ': 0.08792735055124197,\n",
       " 'IIXZZZXI': -0.04316761680576476,\n",
       " 'IIXZZZXZ': -0.03936501959423931,\n",
       " 'IIXZZZZI': 0.09011133488760732,\n",
       " 'IIXZZZZZ': 0.46939342993326066,\n",
       " 'IIYIIIIY': 0.0015916161613780096,\n",
       " 'IIYIIIYX': -0.002183984336365342,\n",
       " 'IIYIIYXI': -0.005055655968448458,\n",
       " 'IIYIIYZZ': 0.01397947449104697,\n",
       " 'IIYIYIII': -0.011649163305327318,\n",
       " 'IIYIYXII': -0.011969882984304655,\n",
       " 'IIYIYZZX': 0.006254443886792958,\n",
       " 'IIYIZZYI': 0.0013164092539251176,\n",
       " 'IIYXIIXY': 0.005687017978361812,\n",
       " 'IIYXIXYI': 0.0052353392009120555,\n",
       " 'IIYXXYII': 0.039122115065702553,\n",
       " 'IIYXXZZY': -0.0052353392009120555,\n",
       " 'IIYYIIII': -0.04494611618617746,\n",
       " 'IIYYIIXX': -0.005687017978361812,\n",
       " 'IIYYIYYI': 0.0052353392009120555,\n",
       " 'IIYYXIII': 0.023581930910983318,\n",
       " 'IIYYXXII': -0.039122115065702553,\n",
       " 'IIYYXZZX': 0.0052353392009120555,\n",
       " 'IIYYZZXI': -0.0005502030355428914,\n",
       " 'IIYYZZZZ': -0.04494611618617746,\n",
       " 'IIYZIZYI': -0.0011059553336386378,\n",
       " 'IIYZYIII': -0.16079755039322927,\n",
       " 'IIYZYIIZ': -0.03603672384263893,\n",
       " 'IIYZYIXZ': 0.0011987879183444979,\n",
       " 'IIYZYIZI': -0.030630690579266248,\n",
       " 'IIYZYXZX': 0.0021110529666980918,\n",
       " 'IIYZYYZY': 0.0021110529666980918,\n",
       " 'IIYZYZII': -0.005414296683623315,\n",
       " 'IIYZZIYI': -0.0032170083003367285,\n",
       " 'IIYZZXXY': 0.0054060332633727014,\n",
       " 'IIYZZYII': 0.01397947449104697,\n",
       " 'IIYZZYXX': -0.0054060332633727014,\n",
       " 'IIYZZZYI': -0.04316761680576476,\n",
       " 'IIYZZZYZ': -0.03936501959423931,\n",
       " 'IIYZZZZY': 0.0015916161613780096,\n",
       " 'IIZIIIII': 1.7429834522356595,\n",
       " 'IIZIIIIZ': 0.2490134432861977,\n",
       " 'IIZIIIXZ': -0.002461115678427856,\n",
       " 'IIZIIIZI': 0.24332642530783588,\n",
       " 'IIZIIXZX': -0.0027270851561756178,\n",
       " 'IIZIIYZY': -0.0027270851561756178,\n",
       " 'IIZIIZII': 0.1877966636992112,\n",
       " 'IIZIXZXI': -0.007962424357087673,\n",
       " 'IIZIXZZZ': -0.032750701345272575,\n",
       " 'IIZIYZYI': -0.007962424357087673,\n",
       " 'IIZIZIII': 0.14867454863350857,\n",
       " 'IIZIZXII': 0.032750701345272575,\n",
       " 'IIZIZZZX': 0.002461115678427856,\n",
       " 'IIZXIIII': -0.46939342993326066,\n",
       " 'IIZXIIIZ': -0.08792735055124197,\n",
       " 'IIZXIIXZ': 0.0015916161613780096,\n",
       " 'IIZXIIZI': -0.09011133488760732,\n",
       " 'IIZXIXZX': 0.0078291834129838,\n",
       " 'IIZXIYZY': 0.0066303954946393,\n",
       " 'IIZXIZII': -0.030492590951318014,\n",
       " 'IIZXXZXI': 0.0015747395261908395,\n",
       " 'IIZXXZZZ': 0.01397947449104697,\n",
       " 'IIZXYZYI': 0.0015747395261908395,\n",
       " 'IIZXZIII': -0.04246247393562265,\n",
       " 'IIZXZXII': -0.011649163305327318,\n",
       " 'IIZXZZZX': 0.001316409253925117,\n",
       " 'IIZYIYZX': 0.0011987879183444979,\n",
       " 'IIZYZYII': -0.011649163305327318,\n",
       " 'IIZYZZZY': 0.001316409253925117,\n",
       " 'IIZZIIII': 0.19028508518964982,\n",
       " 'IIZZIXII': 0.031703692461981056,\n",
       " 'IIZZIZZX': 0.0001048259582169446,\n",
       " 'IIZZXIII': 0.01659011980304869,\n",
       " 'IIZZXIXX': 0.006623525971099688,\n",
       " 'IIZZXYYI': 0.001323027644611646,\n",
       " 'IIZZYIIY': 0.0039802291595885655,\n",
       " 'IIZZYIYX': 0.006623525971099688,\n",
       " 'IIZZYYXI': -0.001323027644611646,\n",
       " 'IIZZYYZZ': -0.024143967630404047,\n",
       " 'IIZZZIZX': -0.0012182016863946988,\n",
       " 'IIZZZXII': 0.2742303467906421,\n",
       " 'IIZZZXIZ': 0.053180628872309704,\n",
       " 'IIZZZXXZ': 0.0039802291595885655,\n",
       " 'IIZZZXZI': 0.059804154843409396,\n",
       " 'IIZZZZIX': 0.040871854698728574,\n",
       " 'IIZZZZXI': -0.002402667690835772,\n",
       " 'IIZZZZYY': -0.006360598179958599,\n",
       " 'IIZZZZZX': 0.05737873582321121,\n",
       " 'IIZZZZZZ': 0.17804581532234526,\n",
       " 'IXIIIIII': 0.007848595838896936,\n",
       " 'IXIIIIIX': 0.002626940209341342,\n",
       " 'IXIIIIXX': 0.0073999031993811385,\n",
       " 'IXIIIIYY': -0.0073999031993811385,\n",
       " 'IXIIIXXI': 0.009781210683319452,\n",
       " 'IXIIIXZZ': -0.010399569905232666,\n",
       " 'IXIIIYYI': -0.009781210683319452,\n",
       " 'IXIIXXII': 0.04533484190118487,\n",
       " 'IXIIXZZX': -0.009781210683319452,\n",
       " 'IXIIYYII': -0.04533484190118487,\n",
       " 'IXIIYZZY': 0.009781210683319452,\n",
       " 'IXIXXIII': -0.010508672740551062,\n",
       " 'IXIXZZXI': 0.0028024172319871814,\n",
       " 'IXIXZZZZ': 0.0037738143264465173,\n",
       " 'IXIYYIII': 0.010508672740551062,\n",
       " 'IXIYZZYI': -0.0028024172319871814,\n",
       " 'IXXIIIII': -0.0037738143264465164,\n",
       " 'IXXXIIII': 0.011806885850170666,\n",
       " 'IXXZZXII': 0.010508672740551062,\n",
       " 'IXXZZZZX': -0.0028024172319871814,\n",
       " 'IXYYIIII': -0.011806885850170666,\n",
       " 'IXYZZYII': -0.010508672740551062,\n",
       " 'IXYZZZZY': 0.0028024172319871814,\n",
       " 'IXZZXIII': 0.010399569905232666,\n",
       " 'IXZZZZXI': -0.002626940209341342,\n",
       " 'IXZZZZZZ': 0.007848595838896936,\n",
       " 'IYIIIIIY': 0.002626940209341342,\n",
       " 'IYIIIIXY': 0.0073999031993811385,\n",
       " 'IYIIIIYX': 0.0073999031993811385,\n",
       " 'IYIIIXYI': 0.009781210683319452,\n",
       " 'IYIIIYXI': 0.009781210683319452,\n",
       " 'IYIIIYZZ': -0.010399569905232666,\n",
       " 'IYIIXYII': 0.04533484190118487,\n",
       " 'IYIIXZZY': -0.009781210683319452,\n",
       " 'IYIIYXII': 0.04533484190118487,\n",
       " 'IYIIYZZX': -0.009781210683319452,\n",
       " 'IYIXYIII': -0.010508672740551062,\n",
       " 'IYIXZZYI': 0.0028024172319871814,\n",
       " 'IYIYXIII': -0.010508672740551062,\n",
       " 'IYIYZZXI': 0.0028024172319871814,\n",
       " 'IYIYZZZZ': 0.0037738143264465173,\n",
       " 'IYXYIIII': 0.011806885850170666,\n",
       " 'IYXZZYII': 0.010508672740551062,\n",
       " 'IYXZZZZY': -0.0028024172319871814,\n",
       " 'IYYIIIII': -0.0037738143264465164,\n",
       " 'IYYXIIII': 0.011806885850170666,\n",
       " 'IYYZZXII': 0.010508672740551062,\n",
       " 'IYYZZZZX': -0.0028024172319871814,\n",
       " 'IYZZYIII': 0.010399569905232666,\n",
       " 'IYZZZZYI': -0.002626940209341342,\n",
       " 'IZIIIIII': 3.955007454812702,\n",
       " 'IZIIIIIZ': 0.6246038402090355,\n",
       " 'IZIIIIXZ': -0.004872577383169669,\n",
       " 'IZIIIIZI': 0.6246038402090355,\n",
       " 'IZIIIXZX': -0.017017505130435324,\n",
       " 'IZIIIYZY': -0.017017505130435324,\n",
       " 'IZIIIZII': 0.3943002713984388,\n",
       " 'IZIIXZXI': -0.017017505130435324,\n",
       " 'IZIIXZZZ': -0.05210625931753983,\n",
       " 'IZIIYZYI': -0.017017505130435324,\n",
       " 'IZIIZIII': 0.3943002713984388,\n",
       " 'IZIXZXII': -0.02814435206789922,\n",
       " 'IZIXZZZX': -0.005091403133958716,\n",
       " 'IZIYZYII': -0.02814435206789922,\n",
       " 'IZIYZZZY': -0.005091403133958716,\n",
       " 'IZIZIIII': 0.36330089122451004,\n",
       " 'IZIZIZIZ': -0.31718328388103284,\n",
       " 'IZXZIZIZ': 0.09582111927794104,\n",
       " 'IZXZXIII': -0.02814435206789922,\n",
       " 'IZXZZZXI': -0.005091403133958716,\n",
       " 'IZXZZZZZ': 0.09582111927794104,\n",
       " 'IZYZYIII': -0.02814435206789922,\n",
       " 'IZYZZZYI': -0.005091403133958716,\n",
       " 'IZZIIIII': 0.36330089122451004,\n",
       " 'IZZIXZIZ': -0.05210625931753983,\n",
       " 'IZZIZIXZ': -0.004872577383169669,\n",
       " 'IZZIZIZI': -0.31718328388103284,\n",
       " 'IZZIZIZX': 0.004872577383169669,\n",
       " 'IZZIZXIZ': 0.05210625931753983,\n",
       " 'IZZXIIII': -0.09582111927794104,\n",
       " 'IZZXIZIZ': -0.09582111927794104,\n",
       " 'IZZZZXII': 0.05210625931753983,\n",
       " 'IZZZZZZX': 0.004872577383169669,\n",
       " 'XIIIIIII': 0.007848595838896936,\n",
       " 'XIIIIIIX': 0.002626940209341342,\n",
       " 'XIIIIIXX': 0.0073999031993811385,\n",
       " 'XIIIIIYY': -0.0073999031993811385,\n",
       " 'XIIIIXXI': 0.009781210683319452,\n",
       " 'XIIIIXZZ': -0.010399569905232666,\n",
       " 'XIIIIYYI': -0.009781210683319452,\n",
       " 'XIIIXXII': 0.04533484190118487,\n",
       " 'XIIIXZZX': -0.009781210683319452,\n",
       " 'XIIIYYII': -0.04533484190118487,\n",
       " 'XIIIYZZY': 0.009781210683319452,\n",
       " 'XIIXXIII': -0.010508672740551062,\n",
       " 'XIIXZZXI': 0.0028024172319871814,\n",
       " 'XIIXZZZZ': 0.0037738143264465173,\n",
       " 'XIIYYIII': 0.010508672740551062,\n",
       " 'XIIYZZYI': -0.0028024172319871814,\n",
       " 'XIXIIIII': -0.0037738143264465164,\n",
       " 'XIXXIIII': 0.011806885850170666,\n",
       " 'XIXZZXII': 0.010508672740551062,\n",
       " 'XIXZZZZX': -0.0028024172319871814,\n",
       " 'XIYYIIII': -0.011806885850170666,\n",
       " 'XIYZZYII': -0.010508672740551062,\n",
       " 'XIYZZZZY': 0.0028024172319871814,\n",
       " 'XIZZXIII': 0.010399569905232666,\n",
       " 'XIZZZZXI': -0.002626940209341342,\n",
       " 'XIZZZZZZ': 0.007848595838896936,\n",
       " 'XXIIIIII': 0.026885185049119246,\n",
       " 'XZIZIZIZ': 0.007848595838896936,\n",
       " 'XZXZIZIZ': -0.0037738143264465164,\n",
       " 'XZZIXZIZ': 0.010399569905232666,\n",
       " 'XZZIZIXZ': -0.002626940209341342,\n",
       " 'XZZIZIZI': 0.007848595838896936,\n",
       " 'XZZIZIZX': 0.002626940209341342,\n",
       " 'XZZIZXIZ': -0.010399569905232666,\n",
       " 'XZZXIZIZ': 0.0037738143264465173,\n",
       " 'YIIIIIIY': 0.002626940209341342,\n",
       " 'YIIIIIXY': 0.0073999031993811385,\n",
       " 'YIIIIIYX': 0.0073999031993811385,\n",
       " 'YIIIIXYI': 0.009781210683319452,\n",
       " 'YIIIIYXI': 0.009781210683319452,\n",
       " 'YIIIIYZZ': -0.010399569905232666,\n",
       " 'YIIIXYII': 0.04533484190118487,\n",
       " 'YIIIXZZY': -0.009781210683319452,\n",
       " 'YIIIYXII': 0.04533484190118487,\n",
       " 'YIIIYZZX': -0.009781210683319452,\n",
       " 'YIIXYIII': -0.010508672740551062,\n",
       " 'YIIXZZYI': 0.0028024172319871814,\n",
       " 'YIIYXIII': -0.010508672740551062,\n",
       " 'YIIYZZXI': 0.0028024172319871814,\n",
       " 'YIIYZZZZ': 0.0037738143264465173,\n",
       " 'YIXYIIII': 0.011806885850170666,\n",
       " 'YIXZZYII': 0.010508672740551062,\n",
       " 'YIXZZZZY': -0.0028024172319871814,\n",
       " 'YIYIIIII': -0.0037738143264465164,\n",
       " 'YIYXIIII': 0.011806885850170666,\n",
       " 'YIYZZXII': 0.010508672740551062,\n",
       " 'YIYZZZZX': -0.0028024172319871814,\n",
       " 'YIZZYIII': 0.010399569905232666,\n",
       " 'YIZZZZYI': -0.002626940209341342,\n",
       " 'YYIIIIII': 0.026885185049119246,\n",
       " 'YZYZIZIZ': -0.0037738143264465164,\n",
       " 'YZZIYZIZ': 0.010399569905232666,\n",
       " 'YZZIZIYZ': -0.002626940209341342,\n",
       " 'YZZIZIZY': 0.002626940209341342,\n",
       " 'YZZIZYIZ': -0.010399569905232666,\n",
       " 'YZZYIZIZ': 0.0037738143264465173,\n",
       " 'ZIIIIIII': 3.9550074548127014,\n",
       " 'ZIIIIIIZ': 0.6246038402090355,\n",
       " 'ZIIIIIXZ': -0.004872577383169669,\n",
       " 'ZIIIIIZI': 0.6246038402090355,\n",
       " 'ZIIIIXZX': -0.017017505130435324,\n",
       " 'ZIIIIYZY': -0.017017505130435324,\n",
       " 'ZIIIIZII': 0.3943002713984388,\n",
       " 'ZIIIXZXI': -0.017017505130435324,\n",
       " 'ZIIIXZZZ': -0.05210625931753983,\n",
       " 'ZIIIYZYI': -0.017017505130435324,\n",
       " 'ZIIIZIII': 0.3943002713984388,\n",
       " 'ZIIXZXII': -0.02814435206789922,\n",
       " 'ZIIXZZZX': -0.005091403133958716,\n",
       " 'ZIIYZYII': -0.02814435206789922,\n",
       " 'ZIIYZZZY': -0.005091403133958716,\n",
       " 'ZIIZIIII': 0.36330089122451004,\n",
       " 'ZIIZIZIZ': -0.31718328388103284,\n",
       " 'ZIXZIZIZ': 0.09582111927794104,\n",
       " 'ZIXZXIII': -0.02814435206789922,\n",
       " 'ZIXZZZXI': -0.005091403133958716,\n",
       " 'ZIXZZZZZ': 0.09582111927794104,\n",
       " 'ZIYZYIII': -0.02814435206789922,\n",
       " 'ZIYZZZYI': -0.005091403133958716,\n",
       " 'ZIZIIIII': 0.36330089122451004,\n",
       " 'ZIZIXZIZ': -0.05210625931753983,\n",
       " 'ZIZIZIXZ': -0.004872577383169669,\n",
       " 'ZIZIZIZI': -0.31718328388103284,\n",
       " 'ZIZIZIZX': 0.004872577383169669,\n",
       " 'ZIZIZXIZ': 0.05210625931753983,\n",
       " 'ZIZXIIII': -0.09582111927794104,\n",
       " 'ZIZXIZIZ': -0.09582111927794104,\n",
       " 'ZIZZZXII': 0.05210625931753983,\n",
       " 'ZIZZZZZX': 0.004872577383169669,\n",
       " 'ZXIZIZIZ': 0.007848595838896936,\n",
       " 'ZXXZIZIZ': -0.0037738143264465164,\n",
       " 'ZXZIXZIZ': 0.010399569905232666,\n",
       " 'ZXZIZIXZ': -0.002626940209341342,\n",
       " 'ZXZIZIZI': 0.007848595838896936,\n",
       " 'ZXZIZIZX': 0.002626940209341342,\n",
       " 'ZXZIZXIZ': -0.010399569905232666,\n",
       " 'ZXZXIZIZ': 0.0037738143264465173,\n",
       " 'ZYYZIZIZ': -0.0037738143264465164,\n",
       " 'ZYZIYZIZ': 0.010399569905232666,\n",
       " 'ZYZIZIYZ': -0.002626940209341342,\n",
       " 'ZYZIZIZY': 0.002626940209341342,\n",
       " 'ZYZIZYIZ': -0.010399569905232666,\n",
       " 'ZYZYIZIZ': 0.0037738143264465173,\n",
       " 'ZZIIIIII': 0.8630877006840619,\n",
       " 'ZZIIIZIZ': -0.12229736548821418,\n",
       " 'ZZIIXZIZ': -0.032750701345272575,\n",
       " 'ZZIIZIXZ': -0.002461115678427856,\n",
       " 'ZZIIZIZI': -0.12229736548821418,\n",
       " 'ZZIIZIZX': 0.0030113187139707495,\n",
       " 'ZZIIZXIZ': 0.009168770434289254,\n",
       " 'ZZIXIZIZ': -0.030527327562793125,\n",
       " 'ZZIXXZIZ': 0.01397947449104697,\n",
       " 'ZZIXZIXZ': 0.0015916161613780096,\n",
       " 'ZZIXZIZI': 0.003769886535509768,\n",
       " 'ZZIXZIZX': -0.005489189796241055,\n",
       " 'ZZIXZXIZ': 0.0033992486767796207,\n",
       " 'ZZIYZIZY': -0.005489189796241055,\n",
       " 'ZZIYZYIZ': 0.0033992486767796207,\n",
       " 'ZZIZIIIZ': -0.14577461983818804,\n",
       " 'ZZIZIXXZ': 0.0039802291595885655,\n",
       " 'ZZIZIXZI': -0.01659011980304869,\n",
       " 'ZZIZIXZX': -0.006229100783477239,\n",
       " 'ZZIZIYZY': -0.006229100783477239,\n",
       " 'ZZIZIZII': -0.2147933463051999,\n",
       " 'ZZIZIZIX': 0.002402667690835772,\n",
       " 'ZZIZIZIZ': -1.2025911189107286,\n",
       " 'ZZIZIZXI': -0.002402667690835772,\n",
       " 'ZZIZIZYY': -0.006360598179958599,\n",
       " 'ZZIZIZZZ': -0.22115394448515865,\n",
       " 'ZZIZXIXZ': 0.002248871623888676,\n",
       " 'ZZIZXIZI': 0.01659011980304869,\n",
       " 'ZZIZYIYZ': 0.002248871623888676,\n",
       " 'ZZIZYIZY': 0.0039802291595885655,\n",
       " 'ZZIZYYIZ': -0.024143967630404047,\n",
       " 'ZZIZZZIZ': -0.16991858746859204,\n",
       " 'ZZXIIZIZ': 0.030527327562793125,\n",
       " 'ZZXIXZIZ': -0.017378723167826578,\n",
       " 'ZZXIZIXZ': 0.0038975736348630455,\n",
       " 'ZZXIZIZI': -0.003769886535509768,\n",
       " 'ZZXXZIZX': -0.0005502030355428914,\n",
       " 'ZZXXZXIZ': 0.023581930910983318,\n",
       " 'ZZXYYZIZ': -0.023581930910983318,\n",
       " 'ZZXYZIYZ': 0.0005502030355428914,\n",
       " 'ZZXYZIZY': -0.0005502030355428914,\n",
       " 'ZZXYZYIZ': 0.023581930910983318,\n",
       " 'ZZXZIIIZ': 0.04246247393562265,\n",
       " 'ZZXZIXZX': 0.0015747395261908395,\n",
       " 'ZZXZIYYZ': 0.005055655968448458,\n",
       " 'ZZXZIYZY': 0.0015747395261908395,\n",
       " 'ZZXZIZII': 0.09011133488760732,\n",
       " 'ZZXZIZIZ': 0.46939342993326066,\n",
       " 'ZZXZIZXI': -0.005489189796241055,\n",
       " 'ZZXZIZXX': -0.002183984336365342,\n",
       " 'ZZXZIZZZ': 0.08792735055124197,\n",
       " 'ZZXZXIXZ': -0.0078291834129838,\n",
       " 'ZZXZXIZI': 0.0033992486767796207,\n",
       " 'ZZXZXIZX': 0.006254443886792958,\n",
       " 'ZZXZXXIZ': -0.011969882984304655,\n",
       " 'ZZXZYIYZ': -0.0066303954946393,\n",
       " 'ZZXZZZIZ': 0.030492590951318014,\n",
       " 'ZZYIYZIZ': -0.017378723167826578,\n",
       " 'ZZYIZIYZ': 0.0038975736348630455,\n",
       " 'ZZYIZIZY': 0.0015916161613780096,\n",
       " 'ZZYIZYIZ': 0.01397947449104697,\n",
       " 'ZZYYIZIZ': -0.04494611618617746,\n",
       " 'ZZYYXZIZ': 0.023581930910983318,\n",
       " 'ZZYYZIXZ': -0.0005502030355428914,\n",
       " 'ZZYYZIZI': -0.04494611618617746,\n",
       " 'ZZYZIYXZ': -0.005055655968448458,\n",
       " 'ZZYZIYZI': 0.01397947449104697,\n",
       " 'ZZYZIZIY': 0.0015916161613780096,\n",
       " 'ZZYZIZYI': -0.005489189796241055,\n",
       " 'ZZYZIZYX': -0.002183984336365342,\n",
       " 'ZZYZYIXZ': -0.0011987879183444979,\n",
       " 'ZZYZYIZI': 0.0033992486767796207,\n",
       " 'ZZYZYIZX': 0.006254443886792958,\n",
       " 'ZZYZYXIZ': -0.011969882984304655,\n",
       " 'ZZZIIIXZ': 0.0012182016863946988,\n",
       " 'ZZZIIIZI': -0.14577461983818804,\n",
       " 'ZZZIIIZX': 0.0001048259582169446,\n",
       " 'ZZZIIXIZ': 0.031703692461981056,\n",
       " 'ZZZIXIIZ': -0.031703692461981056,\n",
       " 'ZZZIXXZX': -0.001323027644611646,\n",
       " 'ZZZIXYYZ': 0.001323027644611646,\n",
       " 'ZZZIXYZY': -0.001323027644611646,\n",
       " 'ZZZIXZII': -0.059804154843409396,\n",
       " 'ZZZIXZIZ': -0.2742303467906421,\n",
       " 'ZZZIXZXI': -0.006229100783477239,\n",
       " 'ZZZIXZXX': 0.006623525971099688,\n",
       " 'ZZZIXZZZ': -0.053180628872309704,\n",
       " 'ZZZIYYXZ': -0.001323027644611646,\n",
       " 'ZZZIYYZI': -0.024143967630404047,\n",
       " 'ZZZIYZIY': 0.0039802291595885655,\n",
       " 'ZZZIYZYI': -0.006229100783477239,\n",
       " 'ZZZIYZYX': 0.006623525971099688,\n",
       " 'ZZZIZIII': -0.2147933463051999,\n",
       " 'ZZZIZIIX': 0.040871854698728574,\n",
       " 'ZZZIZIXI': -0.040871854698728574,\n",
       " 'ZZZIZIXZ': -0.05737873582321127,\n",
       " 'ZZZIZIYY': -0.006360598179958599,\n",
       " 'ZZZIZIZI': -1.2025911189107283,\n",
       " 'ZZZIZIZX': 0.05737873582321121,\n",
       " 'ZZZIZIZZ': -0.22115394448515865,\n",
       " 'ZZZIZXII': 0.053180628872309704,\n",
       " 'ZZZIZXIX': 0.002248871623888676,\n",
       " 'ZZZIZXIZ': 0.2742303467906421,\n",
       " 'ZZZIZXXI': 0.0039802291595885655,\n",
       " 'ZZZIZXYY': 0.006623525971099688,\n",
       " 'ZZZIZXZZ': 0.059804154843409396,\n",
       " 'ZZZIZYIY': 0.002248871623888676,\n",
       " 'ZZZIZYYX': -0.006623525971099688,\n",
       " 'ZZZIZZXZ': -0.0001048259582169446,\n",
       " 'ZZZIZZZI': -0.16991858746859204,\n",
       " 'ZZZIZZZX': -0.0012182016863946988,\n",
       " 'ZZZXIIIZ': -0.030492590951318014,\n",
       " 'ZZZXIXXZ': 0.006254443886792958,\n",
       " 'ZZZXIXZI': -0.017378723167826578,\n",
       " 'ZZZXIXZX': -0.0078291834129838,\n",
       " 'ZZZXIYZY': -0.0066303954946393,\n",
       " 'ZZZXIZII': -0.08792735055124197,\n",
       " 'ZZZXIZIX': 0.0038975736348630455,\n",
       " 'ZZZXIZIZ': -0.46939342993326066,\n",
       " 'ZZZXIZXI': 0.0015916161613780096,\n",
       " 'ZZZXIZYY': -0.002183984336365342,\n",
       " 'ZZZXIZZZ': -0.09011133488760732,\n",
       " 'ZZZXXIXZ': 0.0015747395261908395,\n",
       " 'ZZZXXIZI': 0.01397947449104697,\n",
       " 'ZZZXYIYZ': 0.0015747395261908395,\n",
       " 'ZZZXYIZY': 0.005055655968448458,\n",
       " 'ZZZXYYIZ': -0.011969882984304655,\n",
       " 'ZZZXZZIZ': -0.04246247393562265,\n",
       " 'ZZZYIYXZ': 0.006254443886792958,\n",
       " 'ZZZYIYZI': -0.017378723167826578,\n",
       " 'ZZZYIYZX': -0.0011987879183444979,\n",
       " 'ZZZYIZIY': 0.0038975736348630455,\n",
       " 'ZZZYIZYX': 0.002183984336365342,\n",
       " 'ZZZYYIZX': -0.005055655968448458,\n",
       " 'ZZZYYXIZ': 0.011969882984304655,\n",
       " 'ZZZZIZIZ': -0.16724348167439154,\n",
       " 'ZZZZXZIZ': -0.009168770434289254,\n",
       " 'ZZZZZIXZ': -0.0030113187139707495,\n",
       " 'ZZZZZIZI': -0.16724348167439154,\n",
       " 'ZZZZZIZX': 0.002461115678427856,\n",
       " 'ZZZZZXIZ': 0.032750701345272575}"
      ]
     },
     "execution_count": 7,
     "metadata": {},
     "output_type": "execute_result"
    }
   ],
   "source": [
    "# mol_key = 'H2_6-31G_singlet'  \n",
    "# mol_key ='H2-O1_STO-3G_singlet'\n",
    "mol_key = 'H1-F1_STO-3G_singlet'\n",
    "\n",
    "\n",
    "# currently index 2 is contextual part\n",
    "# ''''''''''''''''3 is NON contextual part\n",
    "\n",
    "# join together for full Hamiltonian:\n",
    "ham = hamiltonians[mol_key][2]\n",
    "ham.update(hamiltonians[mol_key][3]) # full H \n",
    "ham"
   ]
  },
  {
   "cell_type": "code",
   "execution_count": 6,
   "metadata": {},
   "outputs": [
    {
     "name": "stdout",
     "output_type": "stream",
     "text": [
      "n_qubits:  8\n"
     ]
    }
   ],
   "source": [
    "print(f\"n_qubits:  {hamiltonians[mol_key][1]}\")"
   ]
  },
  {
   "cell_type": "markdown",
   "metadata": {},
   "source": [
    "# Get non-contextual H"
   ]
  },
  {
   "cell_type": "code",
   "execution_count": 7,
   "metadata": {},
   "outputs": [],
   "source": [
    "nonH_guesses = c.greedy_dfs(ham, 10, criterion='weight')\n",
    "\n",
    "nonH = max(nonH_guesses, key=lambda x:len(x)) # largest nonCon part found by dfs alg"
   ]
  },
  {
   "cell_type": "code",
   "execution_count": null,
   "metadata": {},
   "outputs": [],
   "source": []
  },
  {
   "cell_type": "markdown",
   "metadata": {},
   "source": [
    "Split into:\n",
    "\n",
    "$$H = H_{c} + H_{nc}$$"
   ]
  },
  {
   "cell_type": "code",
   "execution_count": 8,
   "metadata": {
    "code_folding": [
     4
    ]
   },
   "outputs": [],
   "source": [
    "nonCon_H = {}\n",
    "Con_H = {}\n",
    "\n",
    "for P in ham:\n",
    "    if P in nonH:\n",
    "        nonCon_H[P]=ham[P]\n",
    "    else:\n",
    "        Con_H[P]=ham[P]\n",
    "        "
   ]
  },
  {
   "cell_type": "markdown",
   "metadata": {},
   "source": [
    "## Testing contextuality"
   ]
  },
  {
   "cell_type": "code",
   "execution_count": 9,
   "metadata": {},
   "outputs": [
    {
     "name": "stdout",
     "output_type": "stream",
     "text": [
      "Is NONcontextual correct: True\n",
      "Is contextual correct: True\n"
     ]
    }
   ],
   "source": [
    "print('Is NONcontextual correct:', not c.contextualQ_ham(nonCon_H))\n",
    "print('Is contextual correct:',c.contextualQ_ham(Con_H))"
   ]
  },
  {
   "cell_type": "markdown",
   "metadata": {},
   "source": [
    "# Classical part of problem!"
   ]
  },
  {
   "cell_type": "markdown",
   "metadata": {},
   "source": [
    "Take $H_{nc}$ and split into:\n",
    "- $Z$ = operators that completely comute with all operators in $S$\n",
    "- $T$ = remaining operators in $S$\n",
    "    - where $S = Z \\cup T$  and $S$ is set of Pauli operators in $H_{nc}$\n",
    "    \n",
    "    \n",
    "- We then split the set $T$ into cliques $C_{1}, C_{2}, ... , C_{|T|}$\n",
    "    - all ops in a clique commute\n",
    "    - ops between cliques anti-commute!"
   ]
  },
  {
   "cell_type": "code",
   "execution_count": 10,
   "metadata": {},
   "outputs": [],
   "source": [
    "bool_flag, Z_list, T_list = c.contextualQ(list(nonCon_H.keys()), verbose=True)"
   ]
  },
  {
   "cell_type": "code",
   "execution_count": 11,
   "metadata": {},
   "outputs": [
    {
     "data": {
      "text/plain": [
       "['IIIIIIII',\n",
       " 'IIIIIIIZ',\n",
       " 'IIIIIIZI',\n",
       " 'IIIIIIZZ',\n",
       " 'IIIIIZII',\n",
       " 'IIIIIZIZ',\n",
       " 'IIIIIZZI',\n",
       " 'IIIIZIII',\n",
       " 'IIIIZIIZ',\n",
       " 'IIIIZIZI',\n",
       " 'IIIIZZII',\n",
       " 'IIIZIIII',\n",
       " 'IIIZIIIZ',\n",
       " 'IIIZIIZI',\n",
       " 'IIIZIZII',\n",
       " 'IIIZZIII',\n",
       " 'IZIIIIII',\n",
       " 'IZIIIIIZ',\n",
       " 'IZIIIIZI',\n",
       " 'IZIIIZII',\n",
       " 'IZIIZIII',\n",
       " 'IZIZIIII',\n",
       " 'IZIZIZIZ',\n",
       " 'ZIIIIIII',\n",
       " 'ZIIIIIIZ',\n",
       " 'ZIIIIIZI',\n",
       " 'ZIIIIZII',\n",
       " 'ZIIIZIII',\n",
       " 'ZIIZIIII',\n",
       " 'ZIIZIZIZ',\n",
       " 'ZZIIIIII',\n",
       " 'ZZIIIZIZ',\n",
       " 'ZZIIZIZI',\n",
       " 'ZZIZIIIZ',\n",
       " 'ZZIZIZII',\n",
       " 'ZZIZIZIZ',\n",
       " 'ZZIZIZZZ',\n",
       " 'ZZIZZZIZ']"
      ]
     },
     "execution_count": 11,
     "metadata": {},
     "output_type": "execute_result"
    }
   ],
   "source": [
    "Z_list"
   ]
  },
  {
   "cell_type": "code",
   "execution_count": 12,
   "metadata": {},
   "outputs": [
    {
     "data": {
      "text/plain": [
       "['IIXIIIII',\n",
       " 'IIXIZZZZ',\n",
       " 'IIXZIZZZ',\n",
       " 'IIXZZIZZ',\n",
       " 'IIXZZZIZ',\n",
       " 'IIXZZZZI',\n",
       " 'IIXZZZZZ',\n",
       " 'IIZIIIII',\n",
       " 'IIZIIIIZ',\n",
       " 'IIZIIIZI',\n",
       " 'IIZIIZII',\n",
       " 'IIZIZIII',\n",
       " 'IIZZIIII',\n",
       " 'IIZZZZZZ',\n",
       " 'IZXZIZIZ',\n",
       " 'IZXZZZZZ',\n",
       " 'IZZIIIII',\n",
       " 'IZZIZIZI',\n",
       " 'ZIXZIZIZ',\n",
       " 'ZIXZZZZZ',\n",
       " 'ZIZIIIII',\n",
       " 'ZIZIZIZI',\n",
       " 'ZZXIIZIZ',\n",
       " 'ZZXIZIZI',\n",
       " 'ZZXZIIIZ',\n",
       " 'ZZXZIZII',\n",
       " 'ZZXZIZIZ',\n",
       " 'ZZXZIZZZ',\n",
       " 'ZZXZZZIZ',\n",
       " 'ZZZIIIZI',\n",
       " 'ZZZIZIII',\n",
       " 'ZZZIZIZI',\n",
       " 'ZZZIZIZZ',\n",
       " 'ZZZIZZZI',\n",
       " 'ZZZZIZIZ',\n",
       " 'ZZZZZIZI']"
      ]
     },
     "execution_count": 12,
     "metadata": {},
     "output_type": "execute_result"
    }
   ],
   "source": [
    "T_list"
   ]
  },
  {
   "cell_type": "markdown",
   "metadata": {},
   "source": [
    "## Get quasi model\n",
    "\n",
    "First we define\n",
    "\n",
    "- $C_{i1}$ = first Pauli in each $C_{i}$ set\n",
    "- $A_{ij} = C_{ij}C_{1i}$\n",
    "\n",
    "\n",
    "- $G^{prime} = \\{1 P_{i} \\;| \\; i=1,2,...,|Z| \\}$\n",
    "    - aka all the completely commuting terms with coefficients set to +1!\n",
    "\n",
    "- We define G to be an independent set of $G^{prime}$\n",
    "    - where $G \\subseteq G^{prime}$\n"
   ]
  },
  {
   "cell_type": "code",
   "execution_count": 13,
   "metadata": {},
   "outputs": [],
   "source": [
    "G_list, Ci1_list, all_mappings = c.quasi_model(nonCon_H)"
   ]
  },
  {
   "cell_type": "code",
   "execution_count": 14,
   "metadata": {},
   "outputs": [
    {
     "name": "stdout",
     "output_type": "stream",
     "text": [
      "non-independent Z list: ['IIIIIIII', 'IIIIIIIZ', 'IIIIIIZI', 'IIIIIIZZ', 'IIIIIZII', 'IIIIIZIZ', 'IIIIIZZI', 'IIIIZIII', 'IIIIZIIZ', 'IIIIZIZI', 'IIIIZZII', 'IIIZIIII', 'IIIZIIIZ', 'IIIZIIZI', 'IIIZIZII', 'IIIZZIII', 'IZIIIIII', 'IZIIIIIZ', 'IZIIIIZI', 'IZIIIZII', 'IZIIZIII', 'IZIZIIII', 'IZIZIZIZ', 'ZIIIIIII', 'ZIIIIIIZ', 'ZIIIIIZI', 'ZIIIIZII', 'ZIIIZIII', 'ZIIZIIII', 'ZIIZIZIZ', 'ZZIIIIII', 'ZZIIIZIZ', 'ZZIIZIZI', 'ZZIZIIIZ', 'ZZIZIZII', 'ZZIZIZIZ', 'ZZIZIZZZ', 'ZZIZZZIZ']\n",
      "G (independent) Z list: ['ZIIIIIII', 'IZIIIIII', 'IIIZIIII', 'IIIIZIII', 'IIIIIZII', 'IIIIIIZI', 'IIIIIIIZ']\n"
     ]
    }
   ],
   "source": [
    "print('non-independent Z list:', Z_list)\n",
    "print('G (independent) Z list:', G_list)"
   ]
  },
  {
   "cell_type": "code",
   "execution_count": 15,
   "metadata": {},
   "outputs": [
    {
     "name": "stdout",
     "output_type": "stream",
     "text": [
      "all Ci1 terms: ['IIZIIIII', 'IIXIIIII']\n"
     ]
    }
   ],
   "source": [
    "print('all Ci1 terms:', Ci1_list)"
   ]
  },
  {
   "cell_type": "markdown",
   "metadata": {},
   "source": [
    "$$R = G \\cup \\{ C_{i1} \\;| \\; i=1,2,...,N \\}$$"
   ]
  },
  {
   "cell_type": "code",
   "execution_count": 16,
   "metadata": {},
   "outputs": [
    {
     "data": {
      "text/plain": [
       "{'IIIIIIII': [[], [], 1],\n",
       " 'IIIIIIIZ': [['IIIIIIIZ'], [], 1],\n",
       " 'IIIIIIZI': [['IIIIIIZI'], [], 1],\n",
       " 'IIIIIIZZ': [['IIIIIIZI', 'IIIIIIIZ'], [], 1],\n",
       " 'IIIIIZII': [['IIIIIZII'], [], 1],\n",
       " 'IIIIIZIZ': [['IIIIIZII', 'IIIIIIIZ'], [], 1],\n",
       " 'IIIIIZZI': [['IIIIIZII', 'IIIIIIZI'], [], 1],\n",
       " 'IIIIZIII': [['IIIIZIII'], [], 1],\n",
       " 'IIIIZIIZ': [['IIIIZIII', 'IIIIIIIZ'], [], 1],\n",
       " 'IIIIZIZI': [['IIIIZIII', 'IIIIIIZI'], [], 1],\n",
       " 'IIIIZZII': [['IIIIZIII', 'IIIIIZII'], [], 1],\n",
       " 'IIIZIIII': [['IIIZIIII'], [], 1],\n",
       " 'IIIZIIIZ': [['IIIZIIII', 'IIIIIIIZ'], [], 1],\n",
       " 'IIIZIIZI': [['IIIZIIII', 'IIIIIIZI'], [], 1],\n",
       " 'IIIZIZII': [['IIIZIIII', 'IIIIIZII'], [], 1],\n",
       " 'IIIZZIII': [['IIIZIIII', 'IIIIZIII'], [], 1],\n",
       " 'IIXIIIII': [[], ['IIXIIIII'], 1],\n",
       " 'IIXIZZZZ': [['IIIIZIII', 'IIIIIZII', 'IIIIIIZI', 'IIIIIIIZ'],\n",
       "  ['IIXIIIII'],\n",
       "  1],\n",
       " 'IIXZIZZZ': [['IIIZIIII', 'IIIIIZII', 'IIIIIIZI', 'IIIIIIIZ'],\n",
       "  ['IIXIIIII'],\n",
       "  1],\n",
       " 'IIXZZIZZ': [['IIIZIIII', 'IIIIZIII', 'IIIIIIZI', 'IIIIIIIZ'],\n",
       "  ['IIXIIIII'],\n",
       "  1],\n",
       " 'IIXZZZIZ': [['IIIZIIII', 'IIIIZIII', 'IIIIIZII', 'IIIIIIIZ'],\n",
       "  ['IIXIIIII'],\n",
       "  1],\n",
       " 'IIXZZZZI': [['IIIZIIII', 'IIIIZIII', 'IIIIIZII', 'IIIIIIZI'],\n",
       "  ['IIXIIIII'],\n",
       "  1],\n",
       " 'IIXZZZZZ': [['IIIZIIII', 'IIIIZIII', 'IIIIIZII', 'IIIIIIZI', 'IIIIIIIZ'],\n",
       "  ['IIXIIIII'],\n",
       "  1],\n",
       " 'IIZIIIII': [[], ['IIZIIIII'], 1],\n",
       " 'IIZIIIIZ': [['IIIIIIIZ'], ['IIZIIIII'], 1],\n",
       " 'IIZIIIZI': [['IIIIIIZI'], ['IIZIIIII'], 1],\n",
       " 'IIZIIZII': [['IIIIIZII'], ['IIZIIIII'], 1],\n",
       " 'IIZIZIII': [['IIIIZIII'], ['IIZIIIII'], 1],\n",
       " 'IIZZIIII': [['IIIZIIII'], ['IIZIIIII'], 1],\n",
       " 'IIZZZZZZ': [['IIIZIIII', 'IIIIZIII', 'IIIIIZII', 'IIIIIIZI', 'IIIIIIIZ'],\n",
       "  ['IIZIIIII'],\n",
       "  1],\n",
       " 'IZIIIIII': [['IZIIIIII'], [], 1],\n",
       " 'IZIIIIIZ': [['IZIIIIII', 'IIIIIIIZ'], [], 1],\n",
       " 'IZIIIIZI': [['IZIIIIII', 'IIIIIIZI'], [], 1],\n",
       " 'IZIIIZII': [['IZIIIIII', 'IIIIIZII'], [], 1],\n",
       " 'IZIIZIII': [['IZIIIIII', 'IIIIZIII'], [], 1],\n",
       " 'IZIZIIII': [['IZIIIIII', 'IIIZIIII'], [], 1],\n",
       " 'IZIZIZIZ': [['IZIIIIII', 'IIIZIIII', 'IIIIIZII', 'IIIIIIIZ'], [], 1],\n",
       " 'IZXZIZIZ': [['IZIIIIII', 'IIIZIIII', 'IIIIIZII', 'IIIIIIIZ'],\n",
       "  ['IIXIIIII'],\n",
       "  1],\n",
       " 'IZXZZZZZ': [['IZIIIIII',\n",
       "   'IIIZIIII',\n",
       "   'IIIIZIII',\n",
       "   'IIIIIZII',\n",
       "   'IIIIIIZI',\n",
       "   'IIIIIIIZ'],\n",
       "  ['IIXIIIII'],\n",
       "  1],\n",
       " 'IZZIIIII': [['IZIIIIII'], ['IIZIIIII'], 1],\n",
       " 'IZZIZIZI': [['IZIIIIII', 'IIIIZIII', 'IIIIIIZI'], ['IIZIIIII'], 1],\n",
       " 'ZIIIIIII': [['ZIIIIIII'], [], 1],\n",
       " 'ZIIIIIIZ': [['ZIIIIIII', 'IIIIIIIZ'], [], 1],\n",
       " 'ZIIIIIZI': [['ZIIIIIII', 'IIIIIIZI'], [], 1],\n",
       " 'ZIIIIZII': [['ZIIIIIII', 'IIIIIZII'], [], 1],\n",
       " 'ZIIIZIII': [['ZIIIIIII', 'IIIIZIII'], [], 1],\n",
       " 'ZIIZIIII': [['ZIIIIIII', 'IIIZIIII'], [], 1],\n",
       " 'ZIIZIZIZ': [['ZIIIIIII', 'IIIZIIII', 'IIIIIZII', 'IIIIIIIZ'], [], 1],\n",
       " 'ZIXZIZIZ': [['ZIIIIIII', 'IIIZIIII', 'IIIIIZII', 'IIIIIIIZ'],\n",
       "  ['IIXIIIII'],\n",
       "  1],\n",
       " 'ZIXZZZZZ': [['ZIIIIIII',\n",
       "   'IIIZIIII',\n",
       "   'IIIIZIII',\n",
       "   'IIIIIZII',\n",
       "   'IIIIIIZI',\n",
       "   'IIIIIIIZ'],\n",
       "  ['IIXIIIII'],\n",
       "  1],\n",
       " 'ZIZIIIII': [['ZIIIIIII'], ['IIZIIIII'], 1],\n",
       " 'ZIZIZIZI': [['ZIIIIIII', 'IIIIZIII', 'IIIIIIZI'], ['IIZIIIII'], 1],\n",
       " 'ZZIIIIII': [['ZIIIIIII', 'IZIIIIII'], [], 1],\n",
       " 'ZZIIIZIZ': [['ZIIIIIII', 'IZIIIIII', 'IIIIIZII', 'IIIIIIIZ'], [], 1],\n",
       " 'ZZIIZIZI': [['ZIIIIIII', 'IZIIIIII', 'IIIIZIII', 'IIIIIIZI'], [], 1],\n",
       " 'ZZIZIIIZ': [['ZIIIIIII', 'IZIIIIII', 'IIIZIIII', 'IIIIIIIZ'], [], 1],\n",
       " 'ZZIZIZII': [['ZIIIIIII', 'IZIIIIII', 'IIIZIIII', 'IIIIIZII'], [], 1],\n",
       " 'ZZIZIZIZ': [['ZIIIIIII', 'IZIIIIII', 'IIIZIIII', 'IIIIIZII', 'IIIIIIIZ'],\n",
       "  [],\n",
       "  1],\n",
       " 'ZZIZIZZZ': [['ZIIIIIII',\n",
       "   'IZIIIIII',\n",
       "   'IIIZIIII',\n",
       "   'IIIIIZII',\n",
       "   'IIIIIIZI',\n",
       "   'IIIIIIIZ'],\n",
       "  [],\n",
       "  1],\n",
       " 'ZZIZZZIZ': [['ZIIIIIII',\n",
       "   'IZIIIIII',\n",
       "   'IIIZIIII',\n",
       "   'IIIIZIII',\n",
       "   'IIIIIZII',\n",
       "   'IIIIIIIZ'],\n",
       "  [],\n",
       "  1],\n",
       " 'ZZXIIZIZ': [['ZIIIIIII', 'IZIIIIII', 'IIIIIZII', 'IIIIIIIZ'],\n",
       "  ['IIXIIIII'],\n",
       "  1],\n",
       " 'ZZXIZIZI': [['ZIIIIIII', 'IZIIIIII', 'IIIIZIII', 'IIIIIIZI'],\n",
       "  ['IIXIIIII'],\n",
       "  1],\n",
       " 'ZZXZIIIZ': [['ZIIIIIII', 'IZIIIIII', 'IIIZIIII', 'IIIIIIIZ'],\n",
       "  ['IIXIIIII'],\n",
       "  1],\n",
       " 'ZZXZIZII': [['ZIIIIIII', 'IZIIIIII', 'IIIZIIII', 'IIIIIZII'],\n",
       "  ['IIXIIIII'],\n",
       "  1],\n",
       " 'ZZXZIZIZ': [['ZIIIIIII', 'IZIIIIII', 'IIIZIIII', 'IIIIIZII', 'IIIIIIIZ'],\n",
       "  ['IIXIIIII'],\n",
       "  1],\n",
       " 'ZZXZIZZZ': [['ZIIIIIII',\n",
       "   'IZIIIIII',\n",
       "   'IIIZIIII',\n",
       "   'IIIIIZII',\n",
       "   'IIIIIIZI',\n",
       "   'IIIIIIIZ'],\n",
       "  ['IIXIIIII'],\n",
       "  1],\n",
       " 'ZZXZZZIZ': [['ZIIIIIII',\n",
       "   'IZIIIIII',\n",
       "   'IIIZIIII',\n",
       "   'IIIIZIII',\n",
       "   'IIIIIZII',\n",
       "   'IIIIIIIZ'],\n",
       "  ['IIXIIIII'],\n",
       "  1],\n",
       " 'ZZZIIIZI': [['ZIIIIIII', 'IZIIIIII', 'IIIIIIZI'], ['IIZIIIII'], 1],\n",
       " 'ZZZIZIII': [['ZIIIIIII', 'IZIIIIII', 'IIIIZIII'], ['IIZIIIII'], 1],\n",
       " 'ZZZIZIZI': [['ZIIIIIII', 'IZIIIIII', 'IIIIZIII', 'IIIIIIZI'],\n",
       "  ['IIZIIIII'],\n",
       "  1],\n",
       " 'ZZZIZIZZ': [['ZIIIIIII', 'IZIIIIII', 'IIIIZIII', 'IIIIIIZI', 'IIIIIIIZ'],\n",
       "  ['IIZIIIII'],\n",
       "  1],\n",
       " 'ZZZIZZZI': [['ZIIIIIII', 'IZIIIIII', 'IIIIZIII', 'IIIIIZII', 'IIIIIIZI'],\n",
       "  ['IIZIIIII'],\n",
       "  1],\n",
       " 'ZZZZIZIZ': [['ZIIIIIII', 'IZIIIIII', 'IIIZIIII', 'IIIIIZII', 'IIIIIIIZ'],\n",
       "  ['IIZIIIII'],\n",
       "  1],\n",
       " 'ZZZZZIZI': [['ZIIIIIII', 'IZIIIIII', 'IIIZIIII', 'IIIIZIII', 'IIIIIIZI'],\n",
       "  ['IIZIIIII'],\n",
       "  1]}"
      ]
     },
     "execution_count": 16,
     "metadata": {},
     "output_type": "execute_result"
    }
   ],
   "source": [
    "# Assemble all the mappings from terms in the Hamiltonian to their products in R:\n",
    "all_mappings"
   ]
  },
  {
   "cell_type": "markdown",
   "metadata": {},
   "source": [
    "Overall $R$ is basically reduced non-contextual set\n",
    "- where everything in original non-contextual set can be found by **inference!**"
   ]
  },
  {
   "cell_type": "code",
   "execution_count": null,
   "metadata": {},
   "outputs": [],
   "source": []
  },
  {
   "cell_type": "markdown",
   "metadata": {},
   "source": [
    "# Function form\n",
    "\n",
    "$$R = G \\cup \\{ C_{i1} \\;| \\; i=1,2,...,N \\}$$\n",
    "\n",
    "- note q to do with $G$\n",
    "- note r to do with $C_{i1}$"
   ]
  },
  {
   "cell_type": "code",
   "execution_count": 17,
   "metadata": {},
   "outputs": [],
   "source": [
    "model = [G_list, Ci1_list, all_mappings]\n",
    "\n",
    "fn_form = c.energy_function_form(nonCon_H, model)\n",
    "\n",
    "# returns [\n",
    "#            denstion of q,\n",
    "#            dimension of r,\n",
    "#            [coeff, indices of q's, indices of r's, term in Hamiltonian]\n",
    "#         ]\n"
   ]
  },
  {
   "cell_type": "code",
   "execution_count": 18,
   "metadata": {},
   "outputs": [
    {
     "data": {
      "text/plain": [
       "[7,\n",
       " 2,\n",
       " [[-65.32093253713555, [], [], 'IIIIIIII'],\n",
       "  [16.180098271882343, [6], [], 'IIIIIIIZ'],\n",
       "  [16.180098271882343, [5], [], 'IIIIIIZI'],\n",
       "  [1.340646573147166, [5, 6], [], 'IIIIIIZZ'],\n",
       "  [2.3357257902560375, [4], [], 'IIIIIZII'],\n",
       "  [0.28161764927929583, [4, 6], [], 'IIIIIZIZ'],\n",
       "  [0.30048077113694405, [4, 5], [], 'IIIIIZZI'],\n",
       "  [2.3357257902560375, [3], [], 'IIIIZIII'],\n",
       "  [0.30048077113694405, [3, 6], [], 'IIIIZIIZ'],\n",
       "  [0.28161764927929583, [3, 5], [], 'IIIIZIZI'],\n",
       "  [0.21432034653989088, [3, 4], [], 'IIIIZZII'],\n",
       "  [1.7429834522356595, [2], [], 'IIIZIIII'],\n",
       "  [0.24332642530783588, [2, 6], [], 'IIIZIIIZ'],\n",
       "  [0.2490134432861977, [2, 5], [], 'IIIZIIZI'],\n",
       "  [0.14867454863350857, [2, 4], [], 'IIIZIZII'],\n",
       "  [0.1877966636992112, [2, 3], [], 'IIIZZIII'],\n",
       "  [-0.003769886535509768, [], [1], 'IIXIIIII'],\n",
       "  [0.030527327562793125, [3, 4, 5, 6], [1], 'IIXIZZZZ'],\n",
       "  [0.030492590951318014, [2, 4, 5, 6], [1], 'IIXZIZZZ'],\n",
       "  [0.04246247393562265, [2, 3, 5, 6], [1], 'IIXZZIZZ'],\n",
       "  [0.08792735055124197, [2, 3, 4, 6], [1], 'IIXZZZIZ'],\n",
       "  [0.09011133488760732, [2, 3, 4, 5], [1], 'IIXZZZZI'],\n",
       "  [0.46939342993326066, [2, 3, 4, 5, 6], [1], 'IIXZZZZZ'],\n",
       "  [1.7429834522356595, [], [0], 'IIZIIIII'],\n",
       "  [0.2490134432861977, [6], [0], 'IIZIIIIZ'],\n",
       "  [0.24332642530783588, [5], [0], 'IIZIIIZI'],\n",
       "  [0.1877966636992112, [4], [0], 'IIZIIZII'],\n",
       "  [0.14867454863350857, [3], [0], 'IIZIZIII'],\n",
       "  [0.19028508518964982, [2], [0], 'IIZZIIII'],\n",
       "  [0.17804581532234526, [2, 3, 4, 5, 6], [0], 'IIZZZZZZ'],\n",
       "  [3.955007454812702, [1], [], 'IZIIIIII'],\n",
       "  [0.6246038402090355, [1, 6], [], 'IZIIIIIZ'],\n",
       "  [0.6246038402090355, [1, 5], [], 'IZIIIIZI'],\n",
       "  [0.3943002713984388, [1, 4], [], 'IZIIIZII'],\n",
       "  [0.3943002713984388, [1, 3], [], 'IZIIZIII'],\n",
       "  [0.36330089122451004, [1, 2], [], 'IZIZIIII'],\n",
       "  [-0.31718328388103284, [1, 2, 4, 6], [], 'IZIZIZIZ'],\n",
       "  [0.09582111927794104, [1, 2, 4, 6], [1], 'IZXZIZIZ'],\n",
       "  [0.09582111927794104, [1, 2, 3, 4, 5, 6], [1], 'IZXZZZZZ'],\n",
       "  [0.36330089122451004, [1], [0], 'IZZIIIII'],\n",
       "  [-0.31718328388103284, [1, 3, 5], [0], 'IZZIZIZI'],\n",
       "  [3.9550074548127014, [0], [], 'ZIIIIIII'],\n",
       "  [0.6246038402090355, [0, 6], [], 'ZIIIIIIZ'],\n",
       "  [0.6246038402090355, [0, 5], [], 'ZIIIIIZI'],\n",
       "  [0.3943002713984388, [0, 4], [], 'ZIIIIZII'],\n",
       "  [0.3943002713984388, [0, 3], [], 'ZIIIZIII'],\n",
       "  [0.36330089122451004, [0, 2], [], 'ZIIZIIII'],\n",
       "  [-0.31718328388103284, [0, 2, 4, 6], [], 'ZIIZIZIZ'],\n",
       "  [0.09582111927794104, [0, 2, 4, 6], [1], 'ZIXZIZIZ'],\n",
       "  [0.09582111927794104, [0, 2, 3, 4, 5, 6], [1], 'ZIXZZZZZ'],\n",
       "  [0.36330089122451004, [0], [0], 'ZIZIIIII'],\n",
       "  [-0.31718328388103284, [0, 3, 5], [0], 'ZIZIZIZI'],\n",
       "  [0.8630877006840619, [0, 1], [], 'ZZIIIIII'],\n",
       "  [-0.12229736548821418, [0, 1, 4, 6], [], 'ZZIIIZIZ'],\n",
       "  [-0.12229736548821418, [0, 1, 3, 5], [], 'ZZIIZIZI'],\n",
       "  [-0.14577461983818804, [0, 1, 2, 6], [], 'ZZIZIIIZ'],\n",
       "  [-0.2147933463051999, [0, 1, 2, 4], [], 'ZZIZIZII'],\n",
       "  [-1.2025911189107286, [0, 1, 2, 4, 6], [], 'ZZIZIZIZ'],\n",
       "  [-0.22115394448515865, [0, 1, 2, 4, 5, 6], [], 'ZZIZIZZZ'],\n",
       "  [-0.16991858746859204, [0, 1, 2, 3, 4, 6], [], 'ZZIZZZIZ'],\n",
       "  [0.030527327562793125, [0, 1, 4, 6], [1], 'ZZXIIZIZ'],\n",
       "  [-0.003769886535509768, [0, 1, 3, 5], [1], 'ZZXIZIZI'],\n",
       "  [0.04246247393562265, [0, 1, 2, 6], [1], 'ZZXZIIIZ'],\n",
       "  [0.09011133488760732, [0, 1, 2, 4], [1], 'ZZXZIZII'],\n",
       "  [0.46939342993326066, [0, 1, 2, 4, 6], [1], 'ZZXZIZIZ'],\n",
       "  [0.08792735055124197, [0, 1, 2, 4, 5, 6], [1], 'ZZXZIZZZ'],\n",
       "  [0.030492590951318014, [0, 1, 2, 3, 4, 6], [1], 'ZZXZZZIZ'],\n",
       "  [-0.14577461983818804, [0, 1, 5], [0], 'ZZZIIIZI'],\n",
       "  [-0.2147933463051999, [0, 1, 3], [0], 'ZZZIZIII'],\n",
       "  [-1.2025911189107283, [0, 1, 3, 5], [0], 'ZZZIZIZI'],\n",
       "  [-0.22115394448515865, [0, 1, 3, 5, 6], [0], 'ZZZIZIZZ'],\n",
       "  [-0.16991858746859204, [0, 1, 3, 4, 5], [0], 'ZZZIZZZI'],\n",
       "  [-0.16724348167439154, [0, 1, 2, 4, 6], [0], 'ZZZZIZIZ'],\n",
       "  [-0.16724348167439154, [0, 1, 2, 3, 5], [0], 'ZZZZZIZI']]]"
      ]
     },
     "execution_count": 18,
     "metadata": {},
     "output_type": "execute_result"
    }
   ],
   "source": [
    "fn_form"
   ]
  },
  {
   "cell_type": "code",
   "execution_count": 19,
   "metadata": {},
   "outputs": [],
   "source": [
    "Energy_function = c.energy_function(fn_form)"
   ]
  },
  {
   "cell_type": "code",
   "execution_count": 20,
   "metadata": {},
   "outputs": [
    {
     "data": {
      "text/plain": [
       "(1.0, -0.0, -0.0, -0.0, 0.0)"
      ]
     },
     "execution_count": 20,
     "metadata": {},
     "output_type": "execute_result"
    }
   ],
   "source": [
    "import random\n",
    "\n",
    "### now for the q terms we only have +1 or -1 assignment!\n",
    "q_variables = [random.choice([1,-1]) for _ in range(fn_form[0])]\n",
    "\n",
    "\n",
    "### r variables is anything that makes up unit vector!\n",
    "r_variables = c.angular(np.arange(0,2*np.pi, fn_form[1]))\n",
    "r_variables"
   ]
  },
  {
   "cell_type": "code",
   "execution_count": 21,
   "metadata": {},
   "outputs": [
    {
     "data": {
      "text/plain": [
       "-92.68319039493649"
      ]
     },
     "execution_count": 21,
     "metadata": {},
     "output_type": "execute_result"
    }
   ],
   "source": [
    " Energy_function(*q_variables,*r_variables)"
   ]
  },
  {
   "cell_type": "markdown",
   "metadata": {},
   "source": [
    "find_gs_nonconfunction optimizes above steps by:\n",
    "1. brute forcing all choices of ```q_variables```\n",
    "    - ```itertools.product([1,-1],repeat=fn_form[0])```\n",
    "2. optimizing over ```r_variables``` (in code ```x```)\n",
    "    - using SciPy optimizer!"
   ]
  },
  {
   "cell_type": "code",
   "execution_count": 22,
   "metadata": {},
   "outputs": [
    {
     "name": "stdout",
     "output_type": "stream",
     "text": [
      "-103.55745152883416\n",
      "[[-1, -1, -1, -1, -1, -1, -1], [-0.9999999999999752, 2.223729144271766e-07]]\n"
     ]
    }
   ],
   "source": [
    "model = [G_list, Ci1_list, all_mappings]\n",
    "\n",
    "lowest_eigenvalue, ground_state_params, model_copy, fn_form_copy,  = c.find_gs_noncon(nonCon_H,\n",
    "               method = 'differential_evolution',\n",
    "               model=model,\n",
    "               fn_form=fn_form) # returns:  best + [model, fn_form]\n",
    "\n",
    "print(lowest_eigenvalue)\n",
    "print(ground_state_params)"
   ]
  },
  {
   "cell_type": "code",
   "execution_count": 23,
   "metadata": {},
   "outputs": [
    {
     "data": {
      "text/plain": [
       "True"
      ]
     },
     "execution_count": 23,
     "metadata": {},
     "output_type": "execute_result"
    }
   ],
   "source": [
    "## check\n",
    "Energy_function(*ground_state_params[0],*ground_state_params[1]) == lowest_eigenvalue"
   ]
  },
  {
   "cell_type": "code",
   "execution_count": null,
   "metadata": {},
   "outputs": [],
   "source": []
  },
  {
   "cell_type": "markdown",
   "metadata": {},
   "source": [
    "# Now need to rotate Hamiltonian!"
   ]
  },
  {
   "cell_type": "markdown",
   "metadata": {},
   "source": [
    "We now have non contextual ground state: $(\\vec{q}, \\vec{r})$"
   ]
  },
  {
   "cell_type": "code",
   "execution_count": 24,
   "metadata": {},
   "outputs": [
    {
     "data": {
      "text/plain": [
       "[[-1, -1, -1, -1, -1, -1, -1], [-0.9999999999999752, 2.223729144271766e-07]]"
      ]
     },
     "execution_count": 24,
     "metadata": {},
     "output_type": "execute_result"
    }
   ],
   "source": [
    "ground_state_params"
   ]
  },
  {
   "cell_type": "markdown",
   "metadata": {},
   "source": [
    "We can use this result - ground state of $H_{nc}$ -  as a classical estiamte of our ground state of the full Hamiltonian ($H = H_{c} + H_{nc}$)\n",
    "\n",
    "However we can also obtain a quantum correction using $H_{c}$\n",
    "\n",
    "By minimizing theenergy of the remaining terms in the Hamiltonian over the quantum states that are **consistent with the noncon-textual ground state**."
   ]
  },
  {
   "cell_type": "code",
   "execution_count": null,
   "metadata": {},
   "outputs": [],
   "source": []
  },
  {
   "cell_type": "markdown",
   "metadata": {},
   "source": [
    "To do this we first rotate each $G_{j}$ and $\\mathcal{A} = \\sum_{i=1}^{N} r_{i}A_{i}$:"
   ]
  },
  {
   "cell_type": "code",
   "execution_count": 25,
   "metadata": {},
   "outputs": [
    {
     "name": "stdout",
     "output_type": "stream",
     "text": [
      "['ZIIIIIII', 'IZIIIIII', 'IIIZIIII', 'IIIIZIII', 'IIIIIZII', 'IIIIIIZI', 'IIIIIIIZ']\n",
      "['IIZIIIII', 'IIXIIIII']\n"
     ]
    }
   ],
   "source": [
    "model = [G_list, Ci1_list, all_mappings]\n",
    "\n",
    "print(G_list) # G_j terms!\n",
    "print(Ci1_list) # mathcal(A)"
   ]
  },
  {
   "cell_type": "markdown",
   "metadata": {},
   "source": [
    "to SINGLE QUBIT pauli Z operators!\n",
    "\n",
    "- to map the operators in $G$ to single qubit Pauli operators, we use $\\frac{\\pi}{2}$ rotations!\n",
    "\n",
    "- note $\\mathcal{A}$ is an anti-commuting set... therefore we can use $N-1$ rotations as in unitary partitioning's sequence of rotations to do this!\n",
    "    - $R^{\\dagger}\\mathcal{A} R = \\text{single Pauli op}$"
   ]
  },
  {
   "cell_type": "code",
   "execution_count": null,
   "metadata": {},
   "outputs": [],
   "source": []
  },
  {
   "cell_type": "markdown",
   "metadata": {},
   "source": [
    "# Rotate full Hamiltonian to basis with diagonal noncontextual generators!"
   ]
  },
  {
   "cell_type": "markdown",
   "metadata": {},
   "source": [
    "function ```diagonalize_epistemic```:\n",
    "1. first if else statement:\n",
    "    - if cliques present:\n",
    "        - first maps A to single Pauli operator (if cliques present)\n",
    "        - then rotates to diagonlize G union with single Pauli opator of A (hence GuA name!)\n",
    "    - else if NO cliques present:\n",
    "        - gets rotations to diagonlize G\n",
    "        \n",
    "     - these rotations make up GuA term in code!\n",
    "2. NEXT code loops over terms in GuA (denoted as g in code)\n",
    "    - if g is not a single qubit $Z$:\n",
    "        - code generates code to rotate operator to make g diagonal (rotations)\n",
    "        - then constructs map of g to single Z (J rotation)\n",
    "    - Note R is applied to GuA\n",
    "    \n",
    "    \n",
    "#########\n",
    "- Note rotations are given in Appendix A of https://arxiv.org/pdf/2011.10027.pdf\n",
    "    - First code checks if g op in GuA is diagonal\n",
    "        - if so then needs to apply \"K\" rotation (involving $Y$ and $I$ operators (see pg 11 top) to make it NOT diagononal\n",
    "    - now operator will be diagnoal!\n",
    "    - next generate \"J\" rotation\n",
    "        - turns non-diagonal operator into a single qubit $Z$ operator!"
   ]
  },
  {
   "cell_type": "markdown",
   "metadata": {},
   "source": [
    "# NEW LCU method"
   ]
  },
  {
   "cell_type": "code",
   "execution_count": 26,
   "metadata": {},
   "outputs": [],
   "source": [
    "N_index=0\n",
    "check_reduction=True\n",
    "N_Qubits= hamiltonians[mol_key][1]\n",
    "R_LCU, Rotations_list, diagonalized_generators_GuA, eigen_vals_nonC_ground_state_GuA_ops= c.diagonalize_epistemic_LCU(\n",
    "                                                                                  model,\n",
    "                                                                                  fn_form,\n",
    "                                                                                  ground_state_params,\n",
    "                                                                                  N_Qubits,\n",
    "                                                                                  N_index,\n",
    "                                                                                  check_reduction=check_reduction)"
   ]
  },
  {
   "cell_type": "code",
   "execution_count": 27,
   "metadata": {},
   "outputs": [
    {
     "data": {
      "text/plain": [
       "[0.9238795325112867 [], 0.3826834323650898j [Y2]]"
      ]
     },
     "execution_count": 27,
     "metadata": {},
     "output_type": "execute_result"
    }
   ],
   "source": [
    "R_LCU"
   ]
  },
  {
   "cell_type": "code",
   "execution_count": 28,
   "metadata": {},
   "outputs": [
    {
     "data": {
      "text/plain": [
       "['ZIIIIIII',\n",
       " 'IZIIIIII',\n",
       " 'IIIZIIII',\n",
       " 'IIIIZIII',\n",
       " 'IIIIIZII',\n",
       " 'IIIIIIZI',\n",
       " 'IIIIIIIZ',\n",
       " 'IIZIIIII']"
      ]
     },
     "execution_count": 28,
     "metadata": {},
     "output_type": "execute_result"
    }
   ],
   "source": [
    "diagonalized_generators_GuA"
   ]
  },
  {
   "cell_type": "code",
   "execution_count": 29,
   "metadata": {},
   "outputs": [
    {
     "data": {
      "text/plain": [
       "['ZIIIIIII',\n",
       " 'IZIIIIII',\n",
       " 'IIIZIIII',\n",
       " 'IIIIZIII',\n",
       " 'IIIIIZII',\n",
       " 'IIIIIIZI',\n",
       " 'IIIIIIIZ',\n",
       " 'IIZIIIII']"
      ]
     },
     "execution_count": 29,
     "metadata": {},
     "output_type": "execute_result"
    }
   ],
   "source": [
    "diagonalized_generators_GuA"
   ]
  },
  {
   "cell_type": "code",
   "execution_count": null,
   "metadata": {},
   "outputs": [],
   "source": []
  },
  {
   "cell_type": "code",
   "execution_count": 30,
   "metadata": {},
   "outputs": [
    {
     "name": "stdout",
     "output_type": "stream",
     "text": [
      "ZIIIIIII IIIIIIII 1\n",
      "ZIIIIIII IIYIIIII 1\n",
      "##\n",
      "IZIIIIII IIIIIIII 1\n",
      "IZIIIIII IIYIIIII 1\n",
      "##\n",
      "IIIZIIII IIIIIIII 1\n",
      "IIIZIIII IIYIIIII 1\n",
      "##\n",
      "IIIIZIII IIIIIIII 1\n",
      "IIIIZIII IIYIIIII 1\n",
      "##\n",
      "IIIIIZII IIIIIIII 1\n",
      "IIIIIZII IIYIIIII 1\n",
      "##\n",
      "IIIIIIZI IIIIIIII 1\n",
      "IIIIIIZI IIYIIIII 1\n",
      "##\n",
      "IIIIIIIZ IIIIIIII 1\n",
      "IIIIIIIZ IIYIIIII 1\n",
      "##\n"
     ]
    }
   ],
   "source": [
    "R_LCU_str = conv_scr.Openfermion_to_dict(R_LCU, N_Qubits)\n",
    "for op1 in diagonalized_generators_GuA[:-1]:\n",
    "    for op2 in R_LCU_str:\n",
    "        print(op1, op2, c.commute(op1, op2))\n",
    "    print('##')\n",
    "# should commute with everything BAR script A term (last check) (hence slice ending at [:-1] !!!)"
   ]
  },
  {
   "cell_type": "code",
   "execution_count": 31,
   "metadata": {},
   "outputs": [
    {
     "data": {
      "text/plain": [
       "array([-1, -1, -1, -1, -1, -1, -1,  1])"
      ]
     },
     "execution_count": 31,
     "metadata": {},
     "output_type": "execute_result"
    }
   ],
   "source": [
    "eigen_vals_nonC_ground_state_GuA_ops"
   ]
  },
  {
   "cell_type": "code",
   "execution_count": null,
   "metadata": {},
   "outputs": [],
   "source": []
  },
  {
   "cell_type": "code",
   "execution_count": 32,
   "metadata": {},
   "outputs": [],
   "source": [
    "order = list(range(hamiltonians[mol_key][1])) # [4, 3, 1, 2, 0]#\n",
    "N_index=0\n",
    "check_reduction=True\n",
    "N_Qubits= hamiltonians[mol_key][1]\n",
    "\n",
    "reduced_H_LCU_list = c.get_reduced_hamiltonians_LCU(ham, # Con_H,\n",
    "                               model,\n",
    "                               fn_form,\n",
    "                               ground_state_params,\n",
    "                               order, \n",
    "                               N_Qubits,\n",
    "                               N_index, \n",
    "                               check_reduction=check_reduction)"
   ]
  },
  {
   "cell_type": "code",
   "execution_count": 33,
   "metadata": {},
   "outputs": [
    {
     "data": {
      "text/plain": [
       "{'IIIIIIII': -65.32093253713555,\n",
       " 'IIIIIIIX': 0.0024026676908357717,\n",
       " 'IIIIIIIZ': 16.180098271882343,\n",
       " 'IIIIIIXI': -0.04087185469872857,\n",
       " 'IIIIIIXZ': -0.05737873582321127,\n",
       " 'IIIIIIYY': -0.006360598179958599,\n",
       " 'IIIIIIZI': 16.180098271882343,\n",
       " 'IIIIIIZZ': 1.340646573147166,\n",
       " 'IIIIIXIX': -0.12644597509546893,\n",
       " 'IIIIIXXI': 0.0039802291595885655,\n",
       " 'IIIIIXYY': 0.006623525971099688,\n",
       " 'IIIIIXZX': -0.16768107055914974,\n",
       " 'IIIIIXZZ': -0.01659011980304869,\n",
       " 'IIIIIYIY': -0.12644597509546893,\n",
       " 'IIIIIYYX': -0.006623525971099688,\n",
       " 'IIIIIYZY': -0.16768107055914974,\n",
       " 'IIIIIZII': 2.3357257902560375,\n",
       " 'IIIIIZIZ': 0.2816176492792958,\n",
       " 'IIIIIZXZ': -0.00010482595821694459,\n",
       " 'IIIIIZZI': 0.30048077113694405,\n",
       " 'IIIIXIXI': -0.004988548097378894,\n",
       " 'IIIIXIZZ': -0.031703692461981056,\n",
       " 'IIIIXXIX': -0.001323027644611646,\n",
       " 'IIIIXXYY': -0.01886312185764844,\n",
       " 'IIIIXYIY': -0.001323027644611646,\n",
       " 'IIIIXYYX': 0.01886312185764844,\n",
       " 'IIIIXZIZ': -0.0531806288723097,\n",
       " 'IIIIXZXI': -0.16768107055914966,\n",
       " 'IIIIXZXZ': -0.12644597509546893,\n",
       " 'IIIIXZZI': -0.059804154843409396,\n",
       " 'IIIIXZZZ': -0.2742303467906421,\n",
       " 'IIIIYIYI': -0.004988548097378894,\n",
       " 'IIIIYXXY': 0.01886312185764844,\n",
       " 'IIIIYYII': -0.02414396763040405,\n",
       " 'IIIIYYXX': -0.01886312185764844,\n",
       " 'IIIIYZYI': -0.16768107055914966,\n",
       " 'IIIIYZYZ': -0.12644597509546893,\n",
       " 'IIIIYZZY': 0.0039802291595885655,\n",
       " 'IIIIZIII': 2.3357257902560375,\n",
       " 'IIIIZIIZ': 0.30048077113694405,\n",
       " 'IIIIZIXZ': 0.0012182016863946988,\n",
       " 'IIIIZIZI': 0.2816176492792958,\n",
       " 'IIIIZXZX': -0.004988548097378894,\n",
       " 'IIIIZYZY': -0.004988548097378894,\n",
       " 'IIIIZZII': 0.21432034653989085,\n",
       " 'IIIXIIII': -0.030527327562793125,\n",
       " 'IIIXIXII': -0.005414296683623315,\n",
       " 'IIIXIZZX': -0.003217008300336728,\n",
       " 'IIIXXIII': 0.01397947449104697,\n",
       " 'IIIXXIXX': -0.005406033263372699,\n",
       " 'IIIXXYYI': -0.0021110529666980918,\n",
       " 'IIIXYIIY': 0.005055655968448458,\n",
       " 'IIIXYIYX': -0.005406033263372699,\n",
       " 'IIIXYYXI': 0.0021110529666980918,\n",
       " 'IIIXYYZZ': -0.011969882984304653,\n",
       " 'IIIXZIZX': -0.0011059553336386378,\n",
       " 'IIIXZXII': -0.16079755039322924,\n",
       " 'IIIXZXIZ': -0.030630690579266245,\n",
       " 'IIIXZXXZ': 0.006254443886792958,\n",
       " 'IIIXZXZI': -0.03603672384263893,\n",
       " 'IIIXZZIX': -0.03936501959423931,\n",
       " 'IIIXZZXI': 0.0015916161613780096,\n",
       " 'IIIXZZYY': -0.0021839843363653418,\n",
       " 'IIIXZZZX': -0.04316761680576476,\n",
       " 'IIIXZZZZ': 0.003769886535509768,\n",
       " 'IIIYIYII': -0.005414296683623315,\n",
       " 'IIIYIZZY': -0.003217008300336728,\n",
       " 'IIIYXIXY': -0.005406033263372699,\n",
       " 'IIIYXXYI': 0.0021110529666980918,\n",
       " 'IIIYYIIX': -0.005055655968448458,\n",
       " 'IIIYYIYY': -0.005406033263372699,\n",
       " 'IIIYYXXI': -0.0021110529666980918,\n",
       " 'IIIYYXZZ': 0.011969882984304653,\n",
       " 'IIIYZIZY': -0.0011059553336386378,\n",
       " 'IIIYZYII': -0.16079755039322924,\n",
       " 'IIIYZYIZ': -0.030630690579266245,\n",
       " 'IIIYZYXZ': 0.006254443886792958,\n",
       " 'IIIYZYZI': -0.03603672384263893,\n",
       " 'IIIYZZIY': -0.03936501959423931,\n",
       " 'IIIYZZYX': 0.0021839843363653418,\n",
       " 'IIIYZZZY': -0.04316761680576476,\n",
       " 'IIIZIIII': 1.7429834522356593,\n",
       " 'IIIZIIIZ': 0.24332642530783588,\n",
       " 'IIIZIIXZ': -0.0030113187139707495,\n",
       " 'IIIZIIZI': 0.24901344328619773,\n",
       " 'IIIZIXZX': -0.007962424357087673,\n",
       " 'IIIZIYZY': -0.007962424357087673,\n",
       " 'IIIZIZII': 0.14867454863350854,\n",
       " 'IIIZXZXI': -0.0027270851561756178,\n",
       " 'IIIZXZZZ': -0.009168770434289254,\n",
       " 'IIIZYZYI': -0.0027270851561756178,\n",
       " 'IIIZZIII': 0.18779666369921116,\n",
       " 'IIIZZXII': 0.009168770434289254,\n",
       " 'IIIZZZZX': 0.0030113187139707495,\n",
       " 'IIXIIIII': -1.2351411309053364,\n",
       " 'IIZIIIII': 1.229809706238211,\n",
       " 'IIXIIIXX': -0.001544310134249135,\n",
       " 'IIZIIIXX': -0.0015443101342491352,\n",
       " 'IIXIIYYI': 0.003574888618636147,\n",
       " 'IIZIIYYI': 0.0035748886186361467,\n",
       " 'IIXIXIII': -0.008237202368346441,\n",
       " 'IIZIXIII': -0.008237202368346443,\n",
       " 'IIXIXXII': -0.00846398542821129,\n",
       " 'IIZIXXII': -0.00846398542821129,\n",
       " 'IIXIXZZX': 0.004422559684902047,\n",
       " 'IIZIXZZX': 0.004422559684902048,\n",
       " 'IIXIZZXI': 0.0009308419102671742,\n",
       " 'IIZIZZXI': 0.0009308419102671745,\n",
       " 'IIXIZZZZ': 0.021586080331154014,\n",
       " 'IIZIZZZZ': 0.02158608033115402,\n",
       " 'IIXXIIIX': -0.0003890522974618016,\n",
       " 'IIZXIIIX': -0.0003890522974618016,\n",
       " 'IIXXIIYY': -0.004021328977229447,\n",
       " 'IIZXIIYY': -0.004021328977229448,\n",
       " 'IIXXIXXI': 0.0037019438507766753,\n",
       " 'IIZXIXXI': 0.0037019438507766753,\n",
       " 'IIXXIXZZ': 0.01667494326062896,\n",
       " 'IIZXIXZZ': 0.01667494326062896,\n",
       " 'IIXXYYII': -0.027663512857318672,\n",
       " 'IIZXYYII': -0.02766351285731867,\n",
       " 'IIXXYZZY': 0.0037019438507766753,\n",
       " 'IIZXYZZY': 0.0037019438507766753,\n",
       " 'IIXYIIIY': -0.0003890522974618016,\n",
       " 'IIZYIIIY': -0.0003890522974618016,\n",
       " 'IIXYIIYX': 0.004021328977229447,\n",
       " 'IIZYIIYX': 0.004021328977229448,\n",
       " 'IIXYIYXI': 0.0037019438507766753,\n",
       " 'IIZYIYXI': 0.0037019438507766753,\n",
       " 'IIXYIYZZ': 0.01667494326062896,\n",
       " 'IIZYIYZZ': 0.01667494326062896,\n",
       " 'IIXYYIII': -0.01667494326062896,\n",
       " 'IIZYYIII': -0.01667494326062896,\n",
       " 'IIXYYXII': 0.027663512857318672,\n",
       " 'IIZYYXII': 0.02766351285731867,\n",
       " 'IIXYYZZX': -0.0037019438507766753,\n",
       " 'IIZYYZZX': -0.0037019438507766753,\n",
       " 'IIXYZZYI': 0.0003890522974618016,\n",
       " 'IIZYZZYI': 0.0003890522974618016,\n",
       " 'IIXZIZXI': -0.0007820285161053114,\n",
       " 'IIZZIZXI': -0.0007820285161053114,\n",
       " 'IIXZIZZZ': 0.021561517837624524,\n",
       " 'IIZZIZZZ': 0.021561517837624528,\n",
       " 'IIXZXIII': -0.12543202449467097,\n",
       " 'IIZZXIII': -0.10197005206780507,\n",
       " 'IIXZXIIZ': -0.025481811800876927,\n",
       " 'IIZZXIIZ': -0.025481811800876927,\n",
       " 'IIXZXIXZ': 0.005536068682474082,\n",
       " 'IIZZXIXZ': 0.005536068682474083,\n",
       " 'IIXZXIZI': -0.02165916902102606,\n",
       " 'IIZZXIZI': -0.021659169021026062,\n",
       " 'IIXZXXZX': 0.0014927398681961995,\n",
       " 'IIZZXXZX': 0.0014927398681961995,\n",
       " 'IIXZXYZY': 0.0014927398681961995,\n",
       " 'IIZZXYZY': 0.0014927398681961995,\n",
       " 'IIXZXZII': -0.003828485900345881,\n",
       " 'IIZZXZII': -0.003828485900345881,\n",
       " 'IIXZYIYZ': 0.004688397616208182,\n",
       " 'IIZZYIYZ': 0.004688397616208182,\n",
       " 'IIXZZIXI': -0.00227476838430151,\n",
       " 'IIZZZIXI': -0.0022747683843015102,\n",
       " 'IIXZZIZZ': 0.0300255032658358,\n",
       " 'IIZZZIZZ': 0.0300255032658358,\n",
       " 'IIXZZXIX': 0.0011135089975720333,\n",
       " 'IIZZZXIX': 0.0011135089975720335,\n",
       " 'IIXZZXYY': -0.003822642779850878,\n",
       " 'IIZZZXYY': -0.0038226427798508785,\n",
       " 'IIXZZYIY': 0.0011135089975720333,\n",
       " 'IIZZZYIY': 0.0011135089975720335,\n",
       " 'IIXZZYYX': 0.003822642779850878,\n",
       " 'IIZZZYYX': 0.0038226427798508785,\n",
       " 'IIXZZZIZ': 0.06217402582654992,\n",
       " 'IIZZZZIZ': 0.06217402582654992,\n",
       " 'IIXZZZXI': -0.028825171953890835,\n",
       " 'IIZZZZXI': -0.03222305718814643,\n",
       " 'IIXZZZXZ': -0.027835272296627935,\n",
       " 'IIZZZZXZ': -0.02783527229662793,\n",
       " 'IIXZZZZI': 0.06371833596079905,\n",
       " 'IIZZZZZI': 0.06371833596079907,\n",
       " 'IIXZZZZZ': 0.20601387397390317,\n",
       " 'IIZZZZZZ': 0.45780868072653924,\n",
       " 'IIYIIIIY': 0.0015916161613780096,\n",
       " 'IIYIIIYX': -0.0021839843363653418,\n",
       " 'IIYIIYXI': -0.005055655968448458,\n",
       " 'IIYIIYZZ': 0.01397947449104697,\n",
       " 'IIYIYIII': -0.011649163305327318,\n",
       " 'IIYIYXII': -0.011969882984304653,\n",
       " 'IIYIYZZX': 0.006254443886792958,\n",
       " 'IIYIZZYI': 0.0013164092539251174,\n",
       " 'IIYXIIXY': 0.005687017978361812,\n",
       " 'IIYXIXYI': 0.0052353392009120555,\n",
       " 'IIYXXYII': 0.039122115065702553,\n",
       " 'IIYXXZZY': -0.0052353392009120555,\n",
       " 'IIYYIIII': -0.04494611618617746,\n",
       " 'IIYYIIXX': -0.005687017978361812,\n",
       " 'IIYYIYYI': 0.0052353392009120555,\n",
       " 'IIYYXIII': 0.023581930910983318,\n",
       " 'IIYYXXII': -0.039122115065702553,\n",
       " 'IIYYXZZX': 0.0052353392009120555,\n",
       " 'IIYYZZXI': -0.0005502030355428914,\n",
       " 'IIYYZZZZ': -0.04494611618617746,\n",
       " 'IIYZIZYI': -0.0011059553336386378,\n",
       " 'IIYZYIII': -0.16079755039322924,\n",
       " 'IIYZYIIZ': -0.03603672384263893,\n",
       " 'IIYZYIXZ': 0.0011987879183444979,\n",
       " 'IIYZYIZI': -0.030630690579266245,\n",
       " 'IIYZYXZX': 0.0021110529666980918,\n",
       " 'IIYZYYZY': 0.0021110529666980918,\n",
       " 'IIYZYZII': -0.005414296683623315,\n",
       " 'IIYZZIYI': -0.003217008300336728,\n",
       " 'IIYZZXXY': 0.0054060332633727014,\n",
       " 'IIYZZYII': 0.01397947449104697,\n",
       " 'IIYZZYXX': -0.0054060332633727014,\n",
       " 'IIYZZZYI': -0.04316761680576476,\n",
       " 'IIYZZZYZ': -0.03936501959423931,\n",
       " 'IIYZZZZY': 0.0015916161613780096,\n",
       " 'IIZIIIIZ': 0.17607909435428215,\n",
       " 'IIXIIIIZ': -0.17607909435428218,\n",
       " 'IIZIIIXZ': -0.001740271585500867,\n",
       " 'IIXIIIXZ': 0.0017402715855008672,\n",
       " 'IIZIIIZI': 0.1720577653770527,\n",
       " 'IIXIIIZI': -0.1720577653770527,\n",
       " 'IIZIIXZX': -0.0019283404068049545,\n",
       " 'IIXIIXZX': 0.0019283404068049545,\n",
       " 'IIZIIYZY': -0.0019283404068049545,\n",
       " 'IIXIIYZY': 0.0019283404068049545,\n",
       " 'IIZIIZII': 0.13279229438592177,\n",
       " 'IIXIIZII': -0.13279229438592177,\n",
       " 'IIZIXZXI': -0.005630284257581629,\n",
       " 'IIXIXZXI': 0.005630284257581629,\n",
       " 'IIZIXZZZ': -0.02315824300985762,\n",
       " 'IIXIXZZZ': 0.023158243009857624,\n",
       " 'IIZIYZYI': -0.005630284257581629,\n",
       " 'IIXIYZYI': 0.005630284257581629,\n",
       " 'IIZIZIII': 0.10512878152860304,\n",
       " 'IIXIZIII': -0.10512878152860305,\n",
       " 'IIZIZXII': 0.02315824300985762,\n",
       " 'IIXIZXII': -0.023158243009857624,\n",
       " 'IIZIZZZX': 0.001740271585500867,\n",
       " 'IIXIZZZX': -0.0017402715855008672,\n",
       " 'IIZXIIII': -0.3319112773502212,\n",
       " 'IIXXIIII': 0.3319112773502212,\n",
       " 'IIZXIIIZ': -0.06217402582654992,\n",
       " 'IIXXIIIZ': 0.06217402582654992,\n",
       " 'IIZXIIXZ': 0.0011254425807564932,\n",
       " 'IIXXIIXZ': -0.001125442580756493,\n",
       " 'IIZXIIZI': -0.06371833596079905,\n",
       " 'IIXXIIZI': 0.06371833596079907,\n",
       " 'IIZXIXZX': 0.005536068682474082,\n",
       " 'IIXXIXZX': -0.005536068682474083,\n",
       " 'IIZXIYZY': 0.004688397616208182,\n",
       " 'IIXXIYZY': -0.004688397616208182,\n",
       " 'IIZXIZII': -0.021561517837624524,\n",
       " 'IIXXIZII': 0.021561517837624528,\n",
       " 'IIZXXZXI': 0.0011135089975720333,\n",
       " 'IIXXXZXI': -0.0011135089975720335,\n",
       " 'IIZXXZZZ': 0.009884981210043673,\n",
       " 'IIXXXZZZ': -0.009884981210043674,\n",
       " 'IIZXYZYI': 0.0011135089975720333,\n",
       " 'IIXXYZYI': -0.0011135089975720335,\n",
       " 'IIZXZIII': -0.0300255032658358,\n",
       " 'IIXXZIII': 0.0300255032658358,\n",
       " 'IIZXZXII': -0.008237202368346441,\n",
       " 'IIXXZXII': 0.008237202368346443,\n",
       " 'IIZXZZZX': 0.0009308419102671739,\n",
       " 'IIXXZZZX': -0.0009308419102671739,\n",
       " 'IIZYIYZX': 0.0008476710662658997,\n",
       " 'IIXYIYZX': -0.0008476710662658996,\n",
       " 'IIZYZYII': -0.008237202368346441,\n",
       " 'IIXYZYII': 0.008237202368346443,\n",
       " 'IIZYZZZY': 0.0009308419102671739,\n",
       " 'IIXYZZZY': -0.0009308419102671739,\n",
       " 'IIZZIIII': 0.13455187409626126,\n",
       " 'IIXZIIII': -0.1345518740962613,\n",
       " 'IIZZIXII': 0.022417895928519633,\n",
       " 'IIXZIXII': -0.022417895928519633,\n",
       " 'IIZZIZZX': 7.412314589957921e-05,\n",
       " 'IIXZIZZX': -7.412314589957922e-05,\n",
       " 'IIZZXIXX': 0.004683540129529802,\n",
       " 'IIXZXIXX': -0.004683540129529802,\n",
       " 'IIZZXYYI': 0.0009355218192021607,\n",
       " 'IIXZXYYI': -0.0009355218192021605,\n",
       " 'IIZZYIIY': 0.002814447029421508,\n",
       " 'IIXZYIIY': -0.002814447029421508,\n",
       " 'IIZZYIYX': 0.004683540129529802,\n",
       " 'IIXZYIYX': -0.004683540129529802,\n",
       " 'IIZZYYXI': -0.0009355218192021607,\n",
       " 'IIXZYYXI': 0.0009355218192021605,\n",
       " 'IIZZYYZZ': -0.0170723632362072,\n",
       " 'IIXZYYZZ': 0.0170723632362072,\n",
       " 'IIZZZIZX': -0.0008613986733025794,\n",
       " 'IIXZZIZX': 0.0008613986733025795,\n",
       " 'IIZZZXII': 0.19391013782280164,\n",
       " 'IIXZZXII': -0.19391013782280164,\n",
       " 'IIZZZXIZ': 0.03760438330337528,\n",
       " 'IIXZZXIZ': -0.03760438330337529,\n",
       " 'IIZZZXXZ': 0.002814447029421508,\n",
       " 'IIXZZXXZ': -0.002814447029421508,\n",
       " 'IIZZZXZI': 0.04228792343290509,\n",
       " 'IIXZZXZI': -0.04228792343290509,\n",
       " 'IIZZZZIX': 0.028900765617142225,\n",
       " 'IIXZZZIX': -0.028900765617142228,\n",
       " 'IIZZZZYY': -0.004497622105451538,\n",
       " 'IIXZZZYY': 0.004497622105451538,\n",
       " 'IIZZZZZX': 0.04057289319650412,\n",
       " 'IIXZZZZX': -0.040572893196504124,\n",
       " 'IXIIIIII': 0.007848595838896936,\n",
       " 'IXIIIIIX': 0.002626940209341342,\n",
       " 'IXIIIIXX': 0.0073999031993811385,\n",
       " 'IXIIIIYY': -0.0073999031993811385,\n",
       " 'IXIIIXXI': 0.009781210683319452,\n",
       " 'IXIIIXZZ': -0.010399569905232666,\n",
       " 'IXIIIYYI': -0.009781210683319452,\n",
       " 'IXIIXXII': 0.04533484190118487,\n",
       " 'IXIIXZZX': -0.009781210683319452,\n",
       " 'IXIIYYII': -0.04533484190118487,\n",
       " 'IXIIYZZY': 0.009781210683319452,\n",
       " 'IXIXXIII': -0.010508672740551062,\n",
       " 'IXIXZZXI': 0.0028024172319871814,\n",
       " 'IXIXZZZZ': 0.0037738143264465173,\n",
       " 'IXIYYIII': 0.010508672740551062,\n",
       " 'IXIYZZYI': -0.0028024172319871814,\n",
       " 'IXXIIIII': -0.002668489701169275,\n",
       " 'IXZIIIII': -0.002668489701169275,\n",
       " 'IXXXIIII': 0.008348729049351175,\n",
       " 'IXZXIIII': 0.008348729049351173,\n",
       " 'IXXZZXII': 0.0074307537561138755,\n",
       " 'IXZZZXII': 0.007430753756113876,\n",
       " 'IXXZZZZX': -0.00198160822845217,\n",
       " 'IXZZZZZX': -0.00198160822845217,\n",
       " 'IXYYIIII': -0.011806885850170666,\n",
       " 'IXYZZYII': -0.010508672740551062,\n",
       " 'IXYZZZZY': 0.0028024172319871814,\n",
       " 'IXZZXIII': 0.007353606401413559,\n",
       " 'IXXZXIII': -0.007353606401413559,\n",
       " 'IXZZZZXI': -0.0018575272357968715,\n",
       " 'IXXZZZXI': 0.0018575272357968715,\n",
       " 'IXZZZZZZ': 0.0055497953404765425,\n",
       " 'IXXZZZZZ': -0.005549795340476543,\n",
       " 'IYIIIIIY': 0.002626940209341342,\n",
       " 'IYIIIIXY': 0.0073999031993811385,\n",
       " 'IYIIIIYX': 0.0073999031993811385,\n",
       " 'IYIIIXYI': 0.009781210683319452,\n",
       " 'IYIIIYXI': 0.009781210683319452,\n",
       " 'IYIIIYZZ': -0.010399569905232666,\n",
       " 'IYIIXYII': 0.04533484190118487,\n",
       " 'IYIIXZZY': -0.009781210683319452,\n",
       " 'IYIIYXII': 0.04533484190118487,\n",
       " 'IYIIYZZX': -0.009781210683319452,\n",
       " 'IYIXYIII': -0.010508672740551062,\n",
       " 'IYIXZZYI': 0.0028024172319871814,\n",
       " 'IYIYXIII': -0.010508672740551062,\n",
       " 'IYIYZZXI': 0.0028024172319871814,\n",
       " 'IYIYZZZZ': 0.0037738143264465173,\n",
       " 'IYXYIIII': 0.008348729049351175,\n",
       " 'IYZYIIII': 0.008348729049351173,\n",
       " 'IYXZZYII': 0.0074307537561138755,\n",
       " 'IYZZZYII': 0.007430753756113876,\n",
       " 'IYXZZZZY': -0.00198160822845217,\n",
       " 'IYZZZZZY': -0.00198160822845217,\n",
       " 'IYYIIIII': -0.003773814326446516,\n",
       " 'IYYXIIII': 0.011806885850170666,\n",
       " 'IYYZZXII': 0.010508672740551062,\n",
       " 'IYYZZZZX': -0.0028024172319871814,\n",
       " 'IYZZYIII': 0.007353606401413559,\n",
       " 'IYXZYIII': -0.007353606401413559,\n",
       " 'IYZZZZYI': -0.0018575272357968715,\n",
       " 'IYXZZZYI': 0.0018575272357968715,\n",
       " 'IZIIIIII': 3.9550074548127014,\n",
       " 'IZIIIIIZ': 0.6246038402090355,\n",
       " 'IZIIIIXZ': -0.004872577383169669,\n",
       " 'IZIIIIZI': 0.6246038402090355,\n",
       " 'IZIIIXZX': -0.017017505130435324,\n",
       " 'IZIIIYZY': -0.017017505130435324,\n",
       " 'IZIIIZII': 0.39430027139843876,\n",
       " 'IZIIXZXI': -0.017017505130435324,\n",
       " 'IZIIXZZZ': -0.05210625931753984,\n",
       " 'IZIIYZYI': -0.017017505130435324,\n",
       " 'IZIIZIII': 0.39430027139843876,\n",
       " 'IZIXZXII': -0.02814435206789922,\n",
       " 'IZIXZZZX': -0.005091403133958717,\n",
       " 'IZIYZYII': -0.02814435206789922,\n",
       " 'IZIYZZZY': -0.005091403133958717,\n",
       " 'IZIZIIII': 0.36330089122451004,\n",
       " 'IZIZIZIZ': -0.31718328388103284,\n",
       " 'IZXZIZIZ': 0.06775576322231712,\n",
       " 'IZZZIZIZ': 0.06775576322231712,\n",
       " 'IZXZXIII': -0.019901062199313167,\n",
       " 'IZZZXIII': -0.019901062199313167,\n",
       " 'IZXZZZXI': -0.0036001656817766484,\n",
       " 'IZZZZZXI': -0.0036001656817766484,\n",
       " 'IZXZZZZZ': 0.06775576322231712,\n",
       " 'IZZZZZZZ': 0.06775576322231712,\n",
       " 'IZYZYIII': -0.02814435206789922,\n",
       " 'IZYZZZYI': -0.005091403133958717,\n",
       " 'IZZIIIII': 0.2568925237959673,\n",
       " 'IZXIIIII': -0.25689252379596733,\n",
       " 'IZZIXZIZ': -0.03684468930569714,\n",
       " 'IZXIXZIZ': 0.03684468930569714,\n",
       " 'IZZIZIXZ': -0.0034454325094954753,\n",
       " 'IZXIZIXZ': 0.0034454325094954753,\n",
       " 'IZZIZIZI': -0.2242824509112961,\n",
       " 'IZXIZIZI': 0.2242824509112961,\n",
       " 'IZZIZIZX': 0.0034454325094954753,\n",
       " 'IZXIZIZX': -0.0034454325094954753,\n",
       " 'IZZIZXIZ': 0.03684468930569714,\n",
       " 'IZXIZXIZ': -0.03684468930569714,\n",
       " 'IZZXIIII': -0.06775576322231712,\n",
       " 'IZXXIIII': 0.06775576322231712,\n",
       " 'IZZXIZIZ': -0.06775576322231712,\n",
       " 'IZXXIZIZ': 0.06775576322231712,\n",
       " 'IZZZZXII': 0.03684468930569714,\n",
       " 'IZXZZXII': -0.03684468930569714,\n",
       " 'IZZZZZZX': 0.0034454325094954753,\n",
       " 'IZXZZZZX': -0.0034454325094954753,\n",
       " 'XIIIIIII': 0.007848595838896936,\n",
       " 'XIIIIIIX': 0.002626940209341342,\n",
       " 'XIIIIIXX': 0.0073999031993811385,\n",
       " 'XIIIIIYY': -0.0073999031993811385,\n",
       " 'XIIIIXXI': 0.009781210683319452,\n",
       " 'XIIIIXZZ': -0.010399569905232666,\n",
       " 'XIIIIYYI': -0.009781210683319452,\n",
       " 'XIIIXXII': 0.04533484190118487,\n",
       " 'XIIIXZZX': -0.009781210683319452,\n",
       " 'XIIIYYII': -0.04533484190118487,\n",
       " 'XIIIYZZY': 0.009781210683319452,\n",
       " 'XIIXXIII': -0.010508672740551062,\n",
       " 'XIIXZZXI': 0.0028024172319871814,\n",
       " 'XIIXZZZZ': 0.0037738143264465173,\n",
       " 'XIIYYIII': 0.010508672740551062,\n",
       " 'XIIYZZYI': -0.0028024172319871814,\n",
       " 'XIXIIIII': -0.002668489701169275,\n",
       " 'XIZIIIII': -0.002668489701169275,\n",
       " 'XIXXIIII': 0.008348729049351175,\n",
       " 'XIZXIIII': 0.008348729049351173,\n",
       " 'XIXZZXII': 0.0074307537561138755,\n",
       " 'XIZZZXII': 0.007430753756113876,\n",
       " 'XIXZZZZX': -0.00198160822845217,\n",
       " 'XIZZZZZX': -0.00198160822845217,\n",
       " 'XIYYIIII': -0.011806885850170666,\n",
       " 'XIYZZYII': -0.010508672740551062,\n",
       " 'XIYZZZZY': 0.0028024172319871814,\n",
       " 'XIZZXIII': 0.007353606401413559,\n",
       " 'XIXZXIII': -0.007353606401413559,\n",
       " 'XIZZZZXI': -0.0018575272357968715,\n",
       " 'XIXZZZXI': 0.0018575272357968715,\n",
       " 'XIZZZZZZ': 0.0055497953404765425,\n",
       " 'XIXZZZZZ': -0.005549795340476543,\n",
       " 'XXIIIIII': 0.026885185049119246,\n",
       " 'XZIZIZIZ': 0.007848595838896936,\n",
       " 'XZXZIZIZ': -0.002668489701169275,\n",
       " 'XZZZIZIZ': -0.002668489701169275,\n",
       " 'XZZIXZIZ': 0.007353606401413559,\n",
       " 'XZXIXZIZ': -0.007353606401413559,\n",
       " 'XZZIZIXZ': -0.0018575272357968715,\n",
       " 'XZXIZIXZ': 0.0018575272357968715,\n",
       " 'XZZIZIZI': 0.0055497953404765425,\n",
       " 'XZXIZIZI': -0.005549795340476543,\n",
       " 'XZZIZIZX': 0.0018575272357968715,\n",
       " 'XZXIZIZX': -0.0018575272357968715,\n",
       " 'XZZIZXIZ': -0.007353606401413559,\n",
       " 'XZXIZXIZ': 0.007353606401413559,\n",
       " 'XZZXIZIZ': 0.0026684897011692754,\n",
       " 'XZXXIZIZ': -0.002668489701169276,\n",
       " 'YIIIIIIY': 0.002626940209341342,\n",
       " 'YIIIIIXY': 0.0073999031993811385,\n",
       " 'YIIIIIYX': 0.0073999031993811385,\n",
       " 'YIIIIXYI': 0.009781210683319452,\n",
       " 'YIIIIYXI': 0.009781210683319452,\n",
       " 'YIIIIYZZ': -0.010399569905232666,\n",
       " 'YIIIXYII': 0.04533484190118487,\n",
       " 'YIIIXZZY': -0.009781210683319452,\n",
       " 'YIIIYXII': 0.04533484190118487,\n",
       " 'YIIIYZZX': -0.009781210683319452,\n",
       " 'YIIXYIII': -0.010508672740551062,\n",
       " 'YIIXZZYI': 0.0028024172319871814,\n",
       " 'YIIYXIII': -0.010508672740551062,\n",
       " 'YIIYZZXI': 0.0028024172319871814,\n",
       " 'YIIYZZZZ': 0.0037738143264465173,\n",
       " 'YIXYIIII': 0.008348729049351175,\n",
       " 'YIZYIIII': 0.008348729049351173,\n",
       " 'YIXZZYII': 0.0074307537561138755,\n",
       " 'YIZZZYII': 0.007430753756113876,\n",
       " 'YIXZZZZY': -0.00198160822845217,\n",
       " 'YIZZZZZY': -0.00198160822845217,\n",
       " 'YIYIIIII': -0.003773814326446516,\n",
       " 'YIYXIIII': 0.011806885850170666,\n",
       " 'YIYZZXII': 0.010508672740551062,\n",
       " 'YIYZZZZX': -0.0028024172319871814,\n",
       " 'YIZZYIII': 0.007353606401413559,\n",
       " 'YIXZYIII': -0.007353606401413559,\n",
       " 'YIZZZZYI': -0.0018575272357968715,\n",
       " 'YIXZZZYI': 0.0018575272357968715,\n",
       " 'YYIIIIII': 0.026885185049119246,\n",
       " 'YZYZIZIZ': -0.003773814326446516,\n",
       " 'YZZIYZIZ': 0.007353606401413559,\n",
       " 'YZXIYZIZ': -0.007353606401413559,\n",
       " 'YZZIZIYZ': -0.0018575272357968715,\n",
       " 'YZXIZIYZ': 0.0018575272357968715,\n",
       " 'YZZIZIZY': 0.0018575272357968715,\n",
       " 'YZXIZIZY': -0.0018575272357968715,\n",
       " 'YZZIZYIZ': -0.007353606401413559,\n",
       " 'YZXIZYIZ': 0.007353606401413559,\n",
       " 'YZZYIZIZ': 0.0026684897011692754,\n",
       " 'YZXYIZIZ': -0.002668489701169276,\n",
       " 'ZIIIIIII': 3.955007454812701,\n",
       " 'ZIIIIIIZ': 0.6246038402090355,\n",
       " 'ZIIIIIXZ': -0.004872577383169669,\n",
       " 'ZIIIIIZI': 0.6246038402090355,\n",
       " 'ZIIIIXZX': -0.017017505130435324,\n",
       " 'ZIIIIYZY': -0.017017505130435324,\n",
       " 'ZIIIIZII': 0.39430027139843876,\n",
       " 'ZIIIXZXI': -0.017017505130435324,\n",
       " 'ZIIIXZZZ': -0.05210625931753984,\n",
       " 'ZIIIYZYI': -0.017017505130435324,\n",
       " 'ZIIIZIII': 0.39430027139843876,\n",
       " 'ZIIXZXII': -0.02814435206789922,\n",
       " 'ZIIXZZZX': -0.005091403133958717,\n",
       " 'ZIIYZYII': -0.02814435206789922,\n",
       " 'ZIIYZZZY': -0.005091403133958717,\n",
       " 'ZIIZIIII': 0.36330089122451004,\n",
       " 'ZIIZIZIZ': -0.31718328388103284,\n",
       " 'ZIXZIZIZ': 0.06775576322231712,\n",
       " 'ZIZZIZIZ': 0.06775576322231712,\n",
       " 'ZIXZXIII': -0.019901062199313167,\n",
       " 'ZIZZXIII': -0.019901062199313167,\n",
       " 'ZIXZZZXI': -0.0036001656817766484,\n",
       " 'ZIZZZZXI': -0.0036001656817766484,\n",
       " 'ZIXZZZZZ': 0.06775576322231712,\n",
       " 'ZIZZZZZZ': 0.06775576322231712,\n",
       " 'ZIYZYIII': -0.02814435206789922,\n",
       " 'ZIYZZZYI': -0.005091403133958717,\n",
       " 'ZIZIIIII': 0.2568925237959673,\n",
       " 'ZIXIIIII': -0.25689252379596733,\n",
       " 'ZIZIXZIZ': -0.03684468930569714,\n",
       " 'ZIXIXZIZ': 0.03684468930569714,\n",
       " 'ZIZIZIXZ': -0.0034454325094954753,\n",
       " 'ZIXIZIXZ': 0.0034454325094954753,\n",
       " 'ZIZIZIZI': -0.2242824509112961,\n",
       " 'ZIXIZIZI': 0.2242824509112961,\n",
       " 'ZIZIZIZX': 0.0034454325094954753,\n",
       " 'ZIXIZIZX': -0.0034454325094954753,\n",
       " 'ZIZIZXIZ': 0.03684468930569714,\n",
       " 'ZIXIZXIZ': -0.03684468930569714,\n",
       " 'ZIZXIIII': -0.06775576322231712,\n",
       " 'ZIXXIIII': 0.06775576322231712,\n",
       " 'ZIZXIZIZ': -0.06775576322231712,\n",
       " 'ZIXXIZIZ': 0.06775576322231712,\n",
       " 'ZIZZZXII': 0.03684468930569714,\n",
       " 'ZIXZZXII': -0.03684468930569714,\n",
       " 'ZIZZZZZX': 0.0034454325094954753,\n",
       " 'ZIXZZZZX': -0.0034454325094954753,\n",
       " 'ZXIZIZIZ': 0.007848595838896936,\n",
       " 'ZXXZIZIZ': -0.002668489701169275,\n",
       " 'ZXZZIZIZ': -0.002668489701169275,\n",
       " 'ZXZIXZIZ': 0.007353606401413559,\n",
       " 'ZXXIXZIZ': -0.007353606401413559,\n",
       " 'ZXZIZIXZ': -0.0018575272357968715,\n",
       " 'ZXXIZIXZ': 0.0018575272357968715,\n",
       " 'ZXZIZIZI': 0.0055497953404765425,\n",
       " 'ZXXIZIZI': -0.005549795340476543,\n",
       " 'ZXZIZIZX': 0.0018575272357968715,\n",
       " 'ZXXIZIZX': -0.0018575272357968715,\n",
       " 'ZXZIZXIZ': -0.007353606401413559,\n",
       " 'ZXXIZXIZ': 0.007353606401413559,\n",
       " 'ZXZXIZIZ': 0.0026684897011692754,\n",
       " 'ZXXXIZIZ': -0.002668489701169276,\n",
       " 'ZYYZIZIZ': -0.003773814326446516,\n",
       " 'ZYZIYZIZ': 0.007353606401413559,\n",
       " 'ZYXIYZIZ': -0.007353606401413559,\n",
       " 'ZYZIZIYZ': -0.0018575272357968715,\n",
       " 'ZYXIZIYZ': 0.0018575272357968715,\n",
       " 'ZYZIZIZY': 0.0018575272357968715,\n",
       " 'ZYXIZIZY': -0.0018575272357968715,\n",
       " 'ZYZIZYIZ': -0.007353606401413559,\n",
       " 'ZYXIZYIZ': 0.007353606401413559,\n",
       " 'ZYZYIZIZ': 0.0026684897011692754,\n",
       " 'ZYXYIZIZ': -0.002668489701169276,\n",
       " 'ZZIIIIII': 0.8630877006840618,\n",
       " 'ZZIIIZIZ': -0.12229736548821417,\n",
       " 'ZZIIXZIZ': -0.032750701345272575,\n",
       " 'ZZIIZIXZ': -0.0024611156784278554,\n",
       " 'ZZIIZIZI': -0.12229736548821417,\n",
       " 'ZZIIZIZX': 0.0030113187139707495,\n",
       " 'ZZIIZXIZ': 0.009168770434289254,\n",
       " 'ZZIXIZIZ': -0.030527327562793125,\n",
       " 'ZZIXXZIZ': 0.01397947449104697,\n",
       " 'ZZIXZIXZ': 0.0015916161613780096,\n",
       " 'ZZIXZIZI': 0.003769886535509768,\n",
       " 'ZZIXZIZX': -0.005489189796241055,\n",
       " 'ZZIXZXIZ': 0.0033992486767796207,\n",
       " 'ZZIYZIZY': -0.005489189796241055,\n",
       " 'ZZIYZYIZ': 0.0033992486767796207,\n",
       " 'ZZIZIIIZ': -0.14577461983818804,\n",
       " 'ZZIZIXXZ': 0.0039802291595885655,\n",
       " 'ZZIZIXZI': -0.01659011980304869,\n",
       " 'ZZIZIXZX': -0.006229100783477238,\n",
       " 'ZZIZIYZY': -0.006229100783477238,\n",
       " 'ZZIZIZII': -0.2147933463051999,\n",
       " 'ZZIZIZIX': 0.0024026676908357717,\n",
       " 'ZZIZIZIZ': -1.2025911189107283,\n",
       " 'ZZIZIZXI': -0.0024026676908357717,\n",
       " 'ZZIZIZYY': -0.006360598179958599,\n",
       " 'ZZIZIZZZ': -0.22115394448515863,\n",
       " 'ZZIZXIXZ': 0.002248871623888676,\n",
       " 'ZZIZXIZI': 0.01659011980304869,\n",
       " 'ZZIZYIYZ': 0.002248871623888676,\n",
       " 'ZZIZYIZY': 0.0039802291595885655,\n",
       " 'ZZIZYYIZ': -0.02414396763040405,\n",
       " 'ZZIZZZIZ': -0.16991858746859204,\n",
       " 'ZZXIIZIZ': 0.021586080331154014,\n",
       " 'ZZZIIZIZ': 0.02158608033115402,\n",
       " 'ZZXIXZIZ': 0.18162152482246768,\n",
       " 'ZZZIXZIZ': -0.20619875082313555,\n",
       " 'ZZXIZIXZ': 0.043328893943889724,\n",
       " 'ZZZIZIXZ': -0.03781689244911861,\n",
       " 'ZZXIZIZI': 0.847694622842931,\n",
       " 'ZZZIZIZI': -0.8530260475100564,\n",
       " 'ZZXXZIZX': -0.0003890522974618016,\n",
       " 'ZZZXZIZX': -0.0003890522974618016,\n",
       " 'ZZXXZXIZ': 0.01667494326062896,\n",
       " 'ZZZXZXIZ': 0.01667494326062896,\n",
       " 'ZZXYYZIZ': -0.01667494326062896,\n",
       " 'ZZZYYZIZ': -0.01667494326062896,\n",
       " 'ZZXYZIYZ': 0.0003890522974618016,\n",
       " 'ZZZYZIYZ': 0.0003890522974618016,\n",
       " 'ZZXYZIZY': -0.0003890522974618016,\n",
       " 'ZZZYZIZY': -0.0003890522974618016,\n",
       " 'ZZXYZYIZ': 0.01667494326062896,\n",
       " 'ZZZYZYIZ': 0.01667494326062896,\n",
       " 'ZZXZIIIZ': 0.0300255032658358,\n",
       " 'ZZZZIIIZ': 0.0300255032658358,\n",
       " 'ZZXZIXZX': 0.0011135089975720333,\n",
       " 'ZZZZIXZX': 0.0011135089975720335,\n",
       " 'ZZXZIYYZ': 0.003574888618636147,\n",
       " 'ZZZZIYYZ': 0.0035748886186361467,\n",
       " 'ZZXZIYZY': 0.0011135089975720333,\n",
       " 'ZZZZIYZY': 0.0011135089975720335,\n",
       " 'ZZXZIZII': 0.06371833596079905,\n",
       " 'ZZZZIZII': 0.06371833596079907,\n",
       " 'ZZXZIZIZ': 0.4501702773514315,\n",
       " 'ZZZZIZIZ': 0.21365227734901085,\n",
       " 'ZZXZIZXI': -0.0038814433281420526,\n",
       " 'ZZZZIZXI': -0.003881443328142053,\n",
       " 'ZZXZIZXX': -0.001544310134249135,\n",
       " 'ZZZZIZXX': -0.0015443101342491352,\n",
       " 'ZZXZIZZZ': 0.06217402582654992,\n",
       " 'ZZZZIZZZ': 0.06217402582654992,\n",
       " 'ZZXZXIXZ': -0.005536068682474082,\n",
       " 'ZZZZXIXZ': -0.005536068682474083,\n",
       " 'ZZXZXIZI': 0.002403631790290268,\n",
       " 'ZZZZXIZI': 0.0024036317902902684,\n",
       " 'ZZXZXIZX': 0.004422559684902047,\n",
       " 'ZZZZXIZX': 0.004422559684902048,\n",
       " 'ZZXZXXIZ': -0.00846398542821129,\n",
       " 'ZZZZXXIZ': -0.00846398542821129,\n",
       " 'ZZXZYIYZ': -0.004688397616208182,\n",
       " 'ZZZZYIYZ': -0.004688397616208182,\n",
       " 'ZZXZZZIZ': 0.021561517837624524,\n",
       " 'ZZZZZZIZ': 0.021561517837624528,\n",
       " 'ZZYIYZIZ': -0.017378723167826574,\n",
       " 'ZZYIZIYZ': 0.0038975736348630455,\n",
       " 'ZZYIZIZY': 0.0015916161613780096,\n",
       " 'ZZYIZYIZ': 0.01397947449104697,\n",
       " 'ZZYYIZIZ': -0.04494611618617746,\n",
       " 'ZZYYXZIZ': 0.023581930910983318,\n",
       " 'ZZYYZIXZ': -0.0005502030355428914,\n",
       " 'ZZYYZIZI': -0.04494611618617746,\n",
       " 'ZZYZIYXZ': -0.005055655968448458,\n",
       " 'ZZYZIYZI': 0.01397947449104697,\n",
       " 'ZZYZIZIY': 0.0015916161613780096,\n",
       " 'ZZYZIZYI': -0.005489189796241055,\n",
       " 'ZZYZIZYX': -0.0021839843363653418,\n",
       " 'ZZYZYIXZ': -0.0011987879183444979,\n",
       " 'ZZYZYIZI': 0.0033992486767796207,\n",
       " 'ZZYZYIZX': 0.006254443886792958,\n",
       " 'ZZYZYXIZ': -0.011969882984304653,\n",
       " 'ZZZIIIXZ': 0.0008613986733025794,\n",
       " 'ZZXIIIXZ': -0.0008613986733025795,\n",
       " 'ZZZIIIZI': -0.10307822221247377,\n",
       " 'ZZXIIIZI': 0.10307822221247379,\n",
       " 'ZZZIIIZX': 7.412314589957921e-05,\n",
       " 'ZZXIIIZX': -7.412314589957922e-05,\n",
       " 'ZZZIIXIZ': 0.022417895928519633,\n",
       " 'ZZXIIXIZ': -0.022417895928519633,\n",
       " 'ZZZIXIIZ': -0.022417895928519633,\n",
       " 'ZZXIXIIZ': 0.022417895928519633,\n",
       " 'ZZZIXXZX': -0.0009355218192021607,\n",
       " 'ZZXIXXZX': 0.0009355218192021605,\n",
       " 'ZZZIXYYZ': 0.0009355218192021607,\n",
       " 'ZZXIXYYZ': -0.0009355218192021605,\n",
       " 'ZZZIXYZY': -0.0009355218192021607,\n",
       " 'ZZXIXYZY': 0.0009355218192021605,\n",
       " 'ZZZIXZII': -0.04228792343290509,\n",
       " 'ZZXIXZII': 0.04228792343290509,\n",
       " 'ZZZIXZXI': -0.004404639404691191,\n",
       " 'ZZXIXZXI': 0.004404639404691192,\n",
       " 'ZZZIXZXX': 0.004683540129529802,\n",
       " 'ZZXIXZXX': -0.004683540129529802,\n",
       " 'ZZZIXZZZ': -0.03760438330337528,\n",
       " 'ZZXIXZZZ': 0.03760438330337529,\n",
       " 'ZZZIYYXZ': -0.0009355218192021607,\n",
       " 'ZZXIYYXZ': 0.0009355218192021605,\n",
       " 'ZZZIYYZI': -0.0170723632362072,\n",
       " 'ZZXIYYZI': 0.0170723632362072,\n",
       " 'ZZZIYZIY': 0.002814447029421508,\n",
       " 'ZZXIYZIY': -0.002814447029421508,\n",
       " 'ZZZIYZYI': -0.004404639404691191,\n",
       " 'ZZXIYZYI': 0.004404639404691192,\n",
       " 'ZZZIYZYX': 0.004683540129529802,\n",
       " 'ZZXIYZYX': -0.004683540129529802,\n",
       " 'ZZZIZIII': -0.1518818317261573,\n",
       " 'ZZXIZIII': 0.1518818317261573,\n",
       " 'ZZZIZIIX': 0.028900765617142225,\n",
       " 'ZZXIZIIX': -0.028900765617142228,\n",
       " 'ZZZIZIXI': -0.028900765617142225,\n",
       " 'ZZXIZIXI': 0.028900765617142228,\n",
       " 'ZZZIZIYY': -0.004497622105451538,\n",
       " 'ZZXIZIYY': 0.004497622105451538,\n",
       " 'ZZZIZIZX': 0.04057289319650412,\n",
       " 'ZZXIZIZX': -0.040572893196504124,\n",
       " 'ZZZIZIZZ': -0.15637945383160895,\n",
       " 'ZZXIZIZZ': 0.15637945383160895,\n",
       " 'ZZZIZXII': 0.03760438330337528,\n",
       " 'ZZXIZXII': -0.03760438330337529,\n",
       " 'ZZZIZXIX': 0.0015901923752696858,\n",
       " 'ZZXIZXIX': -0.0015901923752696858,\n",
       " 'ZZZIZXIZ': 0.19391013782280164,\n",
       " 'ZZXIZXIZ': -0.19391013782280164,\n",
       " 'ZZZIZXXI': 0.002814447029421508,\n",
       " 'ZZXIZXXI': -0.002814447029421508,\n",
       " 'ZZZIZXYY': 0.004683540129529802,\n",
       " 'ZZXIZXYY': -0.004683540129529802,\n",
       " 'ZZZIZXZZ': 0.04228792343290509,\n",
       " 'ZZXIZXZZ': -0.04228792343290509,\n",
       " 'ZZZIZYIY': 0.0015901923752696858,\n",
       " 'ZZXIZYIY': -0.0015901923752696858,\n",
       " 'ZZZIZYYX': -0.004683540129529802,\n",
       " 'ZZXIZYYX': 0.004683540129529802,\n",
       " 'ZZZIZZXZ': -7.412314589957921e-05,\n",
       " 'ZZXIZZXZ': 7.412314589957922e-05,\n",
       " 'ZZZIZZZI': -0.12015058544868093,\n",
       " 'ZZXIZZZI': 0.12015058544868094,\n",
       " 'ZZZIZZZX': -0.0008613986733025794,\n",
       " 'ZZXIZZZX': 0.0008613986733025795,\n",
       " 'ZZZXIIIZ': -0.021561517837624524,\n",
       " 'ZZXXIIIZ': 0.021561517837624528,\n",
       " 'ZZZXIXXZ': 0.004422559684902047,\n",
       " 'ZZXXIXXZ': -0.004422559684902048,\n",
       " 'ZZZXIXZI': -0.01228861300033393,\n",
       " 'ZZXXIXZI': 0.012288613000333931,\n",
       " 'ZZZXIXZX': -0.005536068682474082,\n",
       " 'ZZXXIXZX': 0.005536068682474083,\n",
       " 'ZZZXIYZY': -0.004688397616208182,\n",
       " 'ZZXXIYZY': 0.004688397616208182,\n",
       " 'ZZZXIZII': -0.06217402582654992,\n",
       " 'ZZXXIZII': 0.06217402582654992,\n",
       " 'ZZZXIZIX': 0.0027560007473855603,\n",
       " 'ZZXXIZIX': -0.0027560007473855603,\n",
       " 'ZZZXIZIZ': -0.3319112773502212,\n",
       " 'ZZXXIZIZ': 0.3319112773502212,\n",
       " 'ZZZXIZXI': 0.0011254425807564932,\n",
       " 'ZZXXIZXI': -0.001125442580756493,\n",
       " 'ZZZXIZYY': -0.001544310134249135,\n",
       " 'ZZXXIZYY': 0.0015443101342491352,\n",
       " 'ZZZXIZZZ': -0.06371833596079905,\n",
       " 'ZZXXIZZZ': 0.06371833596079907,\n",
       " 'ZZZXXIXZ': 0.0011135089975720333,\n",
       " 'ZZXXXIXZ': -0.0011135089975720335,\n",
       " 'ZZZXXIZI': 0.009884981210043673,\n",
       " 'ZZXXXIZI': -0.009884981210043674,\n",
       " 'ZZZXYIYZ': 0.0011135089975720333,\n",
       " 'ZZXXYIYZ': -0.0011135089975720335,\n",
       " 'ZZZXYIZY': 0.003574888618636147,\n",
       " 'ZZXXYIZY': -0.0035748886186361467,\n",
       " 'ZZZXYYIZ': -0.00846398542821129,\n",
       " 'ZZXXYYIZ': 0.00846398542821129,\n",
       " 'ZZZXZZIZ': -0.0300255032658358,\n",
       " 'ZZXXZZIZ': 0.0300255032658358,\n",
       " 'ZZZYIYXZ': 0.004422559684902047,\n",
       " 'ZZXYIYXZ': -0.004422559684902048,\n",
       " 'ZZZYIYZI': -0.01228861300033393,\n",
       " 'ZZXYIYZI': 0.012288613000333931,\n",
       " 'ZZZYIYZX': -0.0008476710662658997,\n",
       " 'ZZXYIYZX': 0.0008476710662658996,\n",
       " 'ZZZYIZIY': 0.0027560007473855603,\n",
       " 'ZZXYIZIY': -0.0027560007473855603,\n",
       " 'ZZZYIZYX': 0.001544310134249135,\n",
       " 'ZZXYIZYX': -0.0015443101342491352,\n",
       " 'ZZZYYIZX': -0.003574888618636147,\n",
       " 'ZZXYYIZX': 0.0035748886186361467,\n",
       " 'ZZZYYXIZ': 0.00846398542821129,\n",
       " 'ZZXYYXIZ': -0.00846398542821129,\n",
       " 'ZZZZXZIZ': -0.006483299749228657,\n",
       " 'ZZXZXZIZ': 0.006483299749228658,\n",
       " 'ZZZZZIXZ': -0.0021293238829626707,\n",
       " 'ZZXZZIXZ': 0.0021293238829626707,\n",
       " 'ZZZZZIZI': -0.11825900000121034,\n",
       " 'ZZXZZIZI': 0.11825900000121034,\n",
       " 'ZZZZZIZX': 0.001740271585500867,\n",
       " 'ZZXZZIZX': -0.0017402715855008672,\n",
       " 'ZZZZZXIZ': 0.02315824300985762,\n",
       " 'ZZXZZXIZ': -0.023158243009857624}"
      ]
     },
     "execution_count": 33,
     "metadata": {},
     "output_type": "execute_result"
    }
   ],
   "source": [
    "reduced_H_LCU_list[-1]"
   ]
  },
  {
   "cell_type": "code",
   "execution_count": 34,
   "metadata": {},
   "outputs": [
    {
     "data": {
      "text/plain": [
       "-103.58635295327144"
      ]
     },
     "execution_count": 34,
     "metadata": {},
     "output_type": "execute_result"
    }
   ],
   "source": [
    "H = conv_scr.Get_Openfermion_Hamiltonian(reduced_H_LCU_list[-1])\n",
    "sparseH = qubit_operator_sparse(H, n_qubits=hamiltonians[mol_key][1])\n",
    "sp.sparse.linalg.eigsh(sparseH, which='SA', k=1)[0][0]"
   ]
  },
  {
   "cell_type": "markdown",
   "metadata": {},
   "source": [
    "# Compare to old way!"
   ]
  },
  {
   "cell_type": "code",
   "execution_count": 35,
   "metadata": {},
   "outputs": [
    {
     "data": {
      "text/plain": [
       "1"
      ]
     },
     "execution_count": 35,
     "metadata": {},
     "output_type": "execute_result"
    }
   ],
   "source": [
    "### old way\n",
    "order = list(range(hamiltonians[mol_key][1]))\n",
    "reduced_H_standard_list = c.get_reduced_hamiltonians(ham, # Con_H,\n",
    "                           model,\n",
    "                           fn_form,\n",
    "                           ground_state_params,\n",
    "                           order)\n",
    "len(reduced_H_standard_list[0])"
   ]
  },
  {
   "cell_type": "code",
   "execution_count": 36,
   "metadata": {},
   "outputs": [
    {
     "name": "stdout",
     "output_type": "stream",
     "text": [
      "802 802\n"
     ]
    }
   ],
   "source": [
    "print(len(reduced_H_LCU_list[-1]), len(reduced_H_standard_list[-1]))"
   ]
  },
  {
   "cell_type": "code",
   "execution_count": 37,
   "metadata": {},
   "outputs": [
    {
     "data": {
      "text/plain": [
       "False"
      ]
     },
     "execution_count": 37,
     "metadata": {},
     "output_type": "execute_result"
    }
   ],
   "source": [
    "from Misc_functions import sparse_allclose\n",
    "\n",
    "H1=conv_scr.Get_Openfermion_Hamiltonian(reduced_H_LCU_list[-1])\n",
    "H2=conv_scr.Get_Openfermion_Hamiltonian(reduced_H_standard_list[-1])\n",
    "\n",
    "H1_mat =  qubit_operator_sparse(H1, n_qubits=hamiltonians[mol_key][1])\n",
    "H2_mat =  qubit_operator_sparse(H2, n_qubits=hamiltonians[mol_key][1])\n",
    "\n",
    "sparse_allclose(H1_mat, H2_mat)"
   ]
  },
  {
   "cell_type": "code",
   "execution_count": 38,
   "metadata": {},
   "outputs": [
    {
     "data": {
      "text/plain": [
       "-103.56310577850297"
      ]
     },
     "execution_count": 38,
     "metadata": {},
     "output_type": "execute_result"
    }
   ],
   "source": [
    "H = conv_scr.Get_Openfermion_Hamiltonian(reduced_H_standard_list[-4])\n",
    "sparseH = qubit_operator_sparse(H, n_qubits=hamiltonians[mol_key][1])\n",
    "sp.sparse.linalg.eigsh(sparseH, which='SA', k=1)[0][0]"
   ]
  },
  {
   "cell_type": "code",
   "execution_count": null,
   "metadata": {},
   "outputs": [],
   "source": []
  },
  {
   "cell_type": "code",
   "execution_count": 39,
   "metadata": {},
   "outputs": [
    {
     "ename": "IndexError",
     "evalue": "list index out of range",
     "output_type": "error",
     "traceback": [
      "\u001b[0;31m---------------------------------------------------------------------------\u001b[0m",
      "\u001b[0;31mIndexError\u001b[0m                                Traceback (most recent call last)",
      "\u001b[0;32m<ipython-input-39-8df230ecf609>\u001b[0m in \u001b[0;36m<module>\u001b[0;34m\u001b[0m\n\u001b[1;32m      8\u001b[0m \u001b[0;34m\u001b[0m\u001b[0m\n\u001b[1;32m      9\u001b[0m \u001b[0;34m\u001b[0m\u001b[0m\n\u001b[0;32m---> 10\u001b[0;31m \u001b[0mR_SeqRot_QubitOp\u001b[0m\u001b[0;34m=\u001b[0m \u001b[0mconv_scr\u001b[0m\u001b[0;34m.\u001b[0m\u001b[0mconvert_op_str\u001b[0m\u001b[0;34m(\u001b[0m\u001b[0mRotations_list\u001b[0m\u001b[0;34m[\u001b[0m\u001b[0;36m0\u001b[0m\u001b[0;34m]\u001b[0m\u001b[0;34m[\u001b[0m\u001b[0;36m1\u001b[0m\u001b[0;34m]\u001b[0m\u001b[0;34m,\u001b[0m \u001b[0;36m1\u001b[0m\u001b[0;34m)\u001b[0m\u001b[0;34m\u001b[0m\u001b[0;34m\u001b[0m\u001b[0m\n\u001b[0m\u001b[1;32m     11\u001b[0m \u001b[0mR_SeqRot_mat\u001b[0m \u001b[0;34m=\u001b[0m \u001b[0mqubit_operator_sparse\u001b[0m\u001b[0;34m(\u001b[0m\u001b[0mR_SeqRot_QubitOp\u001b[0m\u001b[0;34m,\u001b[0m \u001b[0mn_qubits\u001b[0m\u001b[0;34m=\u001b[0m\u001b[0mhamiltonians\u001b[0m\u001b[0;34m[\u001b[0m\u001b[0mmol_key\u001b[0m\u001b[0;34m]\u001b[0m\u001b[0;34m[\u001b[0m\u001b[0;36m1\u001b[0m\u001b[0;34m]\u001b[0m\u001b[0;34m)\u001b[0m\u001b[0;34m\u001b[0m\u001b[0;34m\u001b[0m\u001b[0m\n\u001b[1;32m     12\u001b[0m \u001b[0;34m\u001b[0m\u001b[0m\n",
      "\u001b[0;31mIndexError\u001b[0m: list index out of range"
     ]
    }
   ],
   "source": [
    "from scipy.sparse.linalg import expm\n",
    "from Misc_functions import sparse_allclose\n",
    "\n",
    "R_LCU_QubitOp = QubitOperator()\n",
    "for P in R_LCU: R_LCU_QubitOp+=P\n",
    "R_LCU_mat = qubit_operator_sparse(R_LCU_QubitOp, n_qubits=hamiltonians[mol_key][1])\n",
    "\n",
    "\n",
    "\n",
    "R_SeqRot_QubitOp= conv_scr.convert_op_str(Rotations_list[0][1], 1)\n",
    "R_SeqRot_mat = qubit_operator_sparse(R_SeqRot_QubitOp, n_qubits=hamiltonians[mol_key][1])\n",
    "\n",
    "theta_sk=Rotations_list[0][0]\n",
    "exp_rot = expm(R_SeqRot_mat * theta_sk)# / 2)\n",
    "\n",
    "sparse_allclose(exp_rot, R_LCU_mat)"
   ]
  },
  {
   "cell_type": "markdown",
   "metadata": {},
   "source": [
    "# Restricting the Hamiltonian to a contextualsubspace"
   ]
  },
  {
   "cell_type": "markdown",
   "metadata": {},
   "source": [
    "(Section B of https://arxiv.org/pdf/2011.10027.pdf)\n",
    "\n",
    "In the rotated basis the Hamiltonian is restricted to the subspace stabilized by the noncontextual generators $G_{j}'$"
   ]
  },
  {
   "cell_type": "code",
   "execution_count": null,
   "metadata": {},
   "outputs": [],
   "source": [
    "print(diagonalized_generators_GuA) # G_j' terms!"
   ]
  },
  {
   "cell_type": "markdown",
   "metadata": {},
   "source": [
    "The quantum correction is then obtained by minimizing the expectation value of this resticted Hamiltonian!\n",
    "\n",
    "(over +1 eigenvectors of the remaining non-contextual generators $\\mathcal{A}'$)"
   ]
  },
  {
   "cell_type": "code",
   "execution_count": null,
   "metadata": {},
   "outputs": [],
   "source": [
    "print(Ci1_list) # mathcal(A)"
   ]
  },
  {
   "cell_type": "markdown",
   "metadata": {},
   "source": [
    "- $\\mathcal{H}_{1}$ denotes Hilbert space of $n_{1}$ qubits acted on by by the single qubit $G_{j}'$ terms\n",
    "- $\\mathcal{H}_{2}$ denotes Hilbert space of remaining $n_{2}$\n",
    "\n",
    "Overall full Hilbert space is: $\\mathcal{H}=\\mathcal{H}_{1} \\otimes \\mathcal{H}_{2}$\n",
    "\n",
    "The **contextual Hamiltonian** in this rotated basis is:\n",
    "\n",
    "$$H_{c}'=\\sum_{P \\in \\mathcal{S_{c}'}} h_{P}P$$\n",
    "\n",
    "The set of Pauli terms in $H_{c}'$ is $\\mathcal{S_{c}'}$, where terms in $\\mathcal{S_{c}'}$ act on both $\\mathcal{H}_{1}$ and $\\mathcal{H}_{2}$ subspaces in general!\n",
    "\n",
    "We can write $P$ terms as:\n",
    "\n",
    "$$P=P_{1}^{\\mathcal{H}_{1}} \\otimes P_{2}^{\\mathcal{H}_{2}}$$\n",
    "\n",
    "$P$ commutes with an element of $G'$ if and only if $P_{1} \\otimes \\mathcal{I}^{\\mathcal{H}_{2}}$ does\n",
    "\n",
    "As the generators $G'$ act only on $\\mathcal{H}_{1}$"
   ]
  },
  {
   "cell_type": "markdown",
   "metadata": {},
   "source": [
    "If $P$ anticommutes with any element of $G'$ then its expection value in the noncontextual state is zero\n",
    "\n",
    "Thus any $P$ must commute with all elements of $G'$ and so $P_{1} \\otimes \\mathcal{I}^{\\mathcal{H}_{2}}$ too\n",
    "\n",
    "As the elements of $G'$ are single-qubit Pauli $Z$ operators acting in $\\mathcal{H}_{1}$:"
   ]
  },
  {
   "cell_type": "code",
   "execution_count": null,
   "metadata": {},
   "outputs": [],
   "source": [
    "print(diagonalized_generators_GuA) # G_j' terms!"
   ]
  },
  {
   "cell_type": "markdown",
   "metadata": {},
   "source": [
    "$P_{1}$ must be a product of such operators!\n",
    "\n",
    "**As the exepcation value of $P_{1}$ is some $p_{1}= \\pm 1$ DETERMINED BY THE NONCONTEXTUAL GROUND STATE**"
   ]
  },
  {
   "cell_type": "code",
   "execution_count": null,
   "metadata": {},
   "outputs": [],
   "source": [
    "eigen_vals_nonC_ground_state_GuA_ops"
   ]
  },
  {
   "cell_type": "code",
   "execution_count": null,
   "metadata": {},
   "outputs": [],
   "source": []
  },
  {
   "cell_type": "markdown",
   "metadata": {},
   "source": [
    "Let $|\\psi_{(\\vec{q}, \\vec{r})} \\rangle$ be any quantum state consistent with the nonconxtual ground state $(\\vec{q}, \\vec{r})$... aka gives correct expection values of:"
   ]
  },
  {
   "cell_type": "code",
   "execution_count": null,
   "metadata": {},
   "outputs": [],
   "source": [
    "print(diagonalized_generators_GuA)\n",
    "print(eigen_vals_nonC_ground_state_GuA_ops)"
   ]
  },
  {
   "cell_type": "markdown",
   "metadata": {},
   "source": [
    "Then the action of any $P$ which allows our contextual correction has the form:\n",
    "\n",
    "$$P |\\psi_{(\\vec{q}, \\vec{r})} \\rangle = \\big( P_{1}^{\\mathcal{H}_{1}} \\otimes P_{2}^{\\mathcal{H}_{2}} \\big) |\\psi_{(\\vec{q}, \\vec{r})} \\rangle$$\n",
    "\n",
    "$$ = p_{1}\\big( \\mathcal{I}^{\\mathcal{H}_{1}} \\otimes P_{2}^{\\mathcal{H}_{2}} \\big) |\\psi_{(\\vec{q}, \\vec{r})} \\rangle$$\n",
    "\n",
    "- repeating above, but $p_{1}$ is the expectation value of $P_{1}$ determiend by the noncontextual ground state!"
   ]
  },
  {
   "cell_type": "code",
   "execution_count": null,
   "metadata": {},
   "outputs": [],
   "source": []
  },
  {
   "cell_type": "markdown",
   "metadata": {},
   "source": [
    "Thus we can denote $H_{c}' |_{(\\vec{q}, \\vec{r})}$ as the restriction of $H_{c}'$ on its action on the noncontextual ground state $(\\vec{q}, \\vec{r})$:\n",
    "\n",
    "$$H_{c}' |_{(\\vec{q}, \\vec{r})} =\\sum_{\\substack{P \\in \\mathcal{S_{c}'} \\\\ \\text{s.t.} [P, G_{i}']=0 \\\\ \\forall G'_{i} \\in G'}} p_{1}h_{P}\\big( \\mathcal{I}^{\\mathcal{H}_{1}} \\otimes P_{2}^{\\mathcal{H}_{2}} \\big) $$\n",
    "\n",
    "$$=\\mathcal{I}_{\\mathcal{H}_{1}} \\otimes H_{c}'|_{\\mathcal{H}_{2}} $$\n",
    "\n",
    "\n",
    "where we can write:\n",
    "$$H_{c}'|_{\\mathcal{H}_{2}} = \\sum_{\\substack{P \\in \\mathcal{S_{c}'} \\\\ \\text{s.t.} [P, G_{i}']=0 \\\\ \\forall G'_{i} \\in G'}} p_{1}h_{P}P_{2}^{\\mathcal{H}_{2}}$$\n",
    "\n",
    "\n",
    "\n",
    "Cleary this Hamiltonian on $n_{2}$ qubits is given by:\n",
    "\n",
    "$$n_{2} = n - |G|$$\n",
    "\n",
    "- $|G|=$ number of noncontextual generators $G_{j}$"
   ]
  },
  {
   "cell_type": "code",
   "execution_count": null,
   "metadata": {},
   "outputs": [],
   "source": []
  },
  {
   "cell_type": "code",
   "execution_count": null,
   "metadata": {},
   "outputs": [],
   "source": [
    "from copy import deepcopy\n",
    "import pprint "
   ]
  },
  {
   "cell_type": "markdown",
   "metadata": {},
   "source": [
    "```quantum_correction``` function"
   ]
  },
  {
   "cell_type": "code",
   "execution_count": null,
   "metadata": {},
   "outputs": [],
   "source": [
    "n_q = len(diagonalized_generators_GuA[0])\n",
    "\n",
    "rotated_H = deepcopy(ham) ##<-- full Hamiltonian\n",
    "\n",
    "# iteratively perform R rotation over all terms in orginal Hamiltonian\n",
    "for R in Rotations_list:\n",
    "    newly_rotated_H={}\n",
    "    for P in rotated_H.keys():\n",
    "        lin_comb_Rot_P = c.apply_rotation(R,P) # linear combination of Paulis from R rotation on P\n",
    "        \n",
    "        for P_rot in lin_comb_Rot_P:\n",
    "            \n",
    "            if P_rot in newly_rotated_H.keys():\n",
    "                newly_rotated_H[P_rot]+=lin_comb_Rot_P[P_rot]*rotated_H[P] # already in it hence +=\n",
    "            else:\n",
    "                newly_rotated_H[P_rot]=lin_comb_Rot_P[P_rot]*rotated_H[P]\n",
    "                \n",
    "    rotated_H = deepcopy(newly_rotated_H) ##<-- perform next R rotation on this H\n",
    "    \n",
    "rotated_H     "
   ]
  },
  {
   "cell_type": "markdown",
   "metadata": {},
   "source": [
    "next find where Z indices in $G'$"
   ]
  },
  {
   "cell_type": "code",
   "execution_count": null,
   "metadata": {},
   "outputs": [],
   "source": [
    "z_indices = []\n",
    "for d in diagonalized_generators_GuA:\n",
    "    for i in range(n_q):\n",
    "        if d[i] == 'Z':\n",
    "            z_indices.append(i)\n",
    "            \n",
    "print(diagonalized_generators_GuA)\n",
    "print(z_indices)"
   ]
  },
  {
   "cell_type": "code",
   "execution_count": null,
   "metadata": {},
   "outputs": [],
   "source": []
  },
  {
   "cell_type": "markdown",
   "metadata": {},
   "source": [
    "**The exepcation value of $P_{1}$ terms are $p_{1}= \\pm 1$ DETERMINED BY THE NONCONTEXTUAL GROUND STATE**"
   ]
  },
  {
   "cell_type": "code",
   "execution_count": null,
   "metadata": {},
   "outputs": [],
   "source": [
    "print(diagonalized_generators_GuA)\n",
    "print(eigen_vals_nonC_ground_state_GuA_ops)"
   ]
  },
  {
   "cell_type": "markdown",
   "metadata": {},
   "source": [
    "We need to ENFORCE the diagnal geneators assigned values in the diagonal basis to these expectation values above^^^"
   ]
  },
  {
   "cell_type": "code",
   "execution_count": null,
   "metadata": {},
   "outputs": [],
   "source": [
    "ham_red = {}\n",
    "    \n",
    "for P in rotated_H.keys():\n",
    "    sgn = 1\n",
    "    for j, z_index in enumerate(z_indices): # enforce diagonal generator's assigned values in diagonal basis\n",
    "        if P[z_index] == 'Z':\n",
    "            sgn = sgn*eigen_vals_nonC_ground_state_GuA_ops[j] #<- eigenvalue of nonC ground state!\n",
    "        elif P[z_index] != 'I':\n",
    "            sgn = 0\n",
    "\n",
    "    if sgn != 0:\n",
    "        # construct term in reduced Hilbert space\n",
    "        P_red = ''\n",
    "        for i in range(n_q):\n",
    "            if not i in z_indices:\n",
    "                P_red = P_red + P[i]\n",
    "        if P_red in ham_red.keys():\n",
    "            ham_red[P_red] = ham_red[P_red] + rotated_H[P]*sgn\n",
    "        else:\n",
    "            ham_red[P_red] = rotated_H[P]*sgn\n",
    "            \n",
    "ham_red"
   ]
  },
  {
   "cell_type": "code",
   "execution_count": null,
   "metadata": {},
   "outputs": [],
   "source": [
    "c.quantum_correction(ham, #<- full Ham\n",
    "                     model,\n",
    "                     fn_form,\n",
    "                     ground_state_params)"
   ]
  },
  {
   "cell_type": "code",
   "execution_count": null,
   "metadata": {},
   "outputs": [],
   "source": [
    "c.quantum_correction(nonCon_H,model,fn_form,ground_state_params)"
   ]
  },
  {
   "cell_type": "code",
   "execution_count": null,
   "metadata": {},
   "outputs": [],
   "source": [
    "c.get_reduced_hamiltonians(ham,\n",
    "                           model,\n",
    "                           fn_form,\n",
    "                           ground_state_params,\n",
    "                           list(range(hamiltonians[mol_key][1])))[-1] == rotated_H ### aka when considering all qubit problem it is equal to rotated H!"
   ]
  },
  {
   "cell_type": "markdown",
   "metadata": {},
   "source": [
    "For some reason it seems that when considering full Hamiltonian there is no reduction in the number of terms!\n",
    "\n",
    "Q. Do you expect any term reduction when doing CS-VQE?"
   ]
  },
  {
   "cell_type": "code",
   "execution_count": null,
   "metadata": {},
   "outputs": [],
   "source": [
    "n2 = hamiltonians[mol_key][1]-len(diagonalized_generators_GuA)\n",
    "n2"
   ]
  },
  {
   "cell_type": "code",
   "execution_count": null,
   "metadata": {},
   "outputs": [],
   "source": [
    "ham_red"
   ]
  },
  {
   "cell_type": "code",
   "execution_count": null,
   "metadata": {},
   "outputs": [],
   "source": []
  },
  {
   "cell_type": "code",
   "execution_count": null,
   "metadata": {},
   "outputs": [],
   "source": []
  },
  {
   "cell_type": "code",
   "execution_count": null,
   "metadata": {},
   "outputs": [],
   "source": []
  },
  {
   "cell_type": "code",
   "execution_count": null,
   "metadata": {},
   "outputs": [],
   "source": []
  },
  {
   "cell_type": "code",
   "execution_count": null,
   "metadata": {},
   "outputs": [],
   "source": []
  },
  {
   "cell_type": "code",
   "execution_count": null,
   "metadata": {},
   "outputs": [],
   "source": []
  },
  {
   "cell_type": "code",
   "execution_count": null,
   "metadata": {},
   "outputs": [],
   "source": []
  },
  {
   "cell_type": "code",
   "execution_count": null,
   "metadata": {},
   "outputs": [],
   "source": []
  },
  {
   "cell_type": "code",
   "execution_count": null,
   "metadata": {},
   "outputs": [],
   "source": []
  },
  {
   "cell_type": "code",
   "execution_count": null,
   "metadata": {},
   "outputs": [],
   "source": []
  },
  {
   "cell_type": "code",
   "execution_count": null,
   "metadata": {},
   "outputs": [],
   "source": []
  },
  {
   "cell_type": "code",
   "execution_count": null,
   "metadata": {},
   "outputs": [],
   "source": []
  },
  {
   "cell_type": "code",
   "execution_count": null,
   "metadata": {},
   "outputs": [],
   "source": []
  },
  {
   "cell_type": "code",
   "execution_count": null,
   "metadata": {},
   "outputs": [],
   "source": [
    "ham==Con_H"
   ]
  },
  {
   "cell_type": "code",
   "execution_count": null,
   "metadata": {},
   "outputs": [],
   "source": [
    "n_q = len(diagonalized_generators_GuA[0])\n",
    "rotated_Hcon = deepcopy(Con_H)\n",
    "\n",
    "# iteratively perform R rotation over all terms in orginal Hamiltonian\n",
    "for R in Rotations_list:\n",
    "    newly_rotated_H={}\n",
    "    for P in rotated_Hcon.keys():\n",
    "        lin_comb_Rot_P = c.apply_rotation(R,P) # linear combination of Paulis from R rotation on P\n",
    "        \n",
    "        for P_rot in lin_comb_Rot_P:\n",
    "            \n",
    "            if P_rot in newly_rotated_H.keys():\n",
    "                newly_rotated_H[P_rot]+=lin_comb_Rot_P[P_rot]*rotated_Hcon[P] # already in it hence +=\n",
    "            else:\n",
    "                newly_rotated_H[P_rot]=lin_comb_Rot_P[P_rot]*rotated_Hcon[P]\n",
    "                \n",
    "    rotated_Hcon = deepcopy(newly_rotated_H) ##<-- perform next R rotation on this H\n",
    "    \n",
    "rotated_Hcon"
   ]
  },
  {
   "cell_type": "code",
   "execution_count": null,
   "metadata": {},
   "outputs": [],
   "source": [
    "print(diagonalized_generators_GuA)\n",
    "print(eigen_vals_nonC_ground_state_GuA_ops)\n",
    "\n",
    "p1_dict = {Gener.index('Z'): p1 for Gener, p1 in zip(diagonalized_generators_GuA, eigen_vals_nonC_ground_state_GuA_ops)}\n",
    "p1_dict"
   ]
  },
  {
   "cell_type": "code",
   "execution_count": null,
   "metadata": {},
   "outputs": [],
   "source": [
    "new={}\n",
    "for P1_P2 in rotated_Hcon.keys():\n",
    "    Z_indices = [i for i, sigma in enumerate(P1_P2) if sigma=='Z']\n",
    "    \n",
    "    I1_P2=list(deepcopy(P1_P2))\n",
    "    sign=1\n",
    "    for ind in Z_indices:\n",
    "        sign*=p1_dict[ind]\n",
    "        I1_P2[ind]='I'\n",
    "    I1_P2=''.join(I1_P2)\n",
    "    \n",
    "    new[I1_P2]=rotated_Hcon[P1_P2]*sign\n",
    "    \n",
    "new    "
   ]
  },
  {
   "cell_type": "code",
   "execution_count": null,
   "metadata": {},
   "outputs": [],
   "source": [
    "len(rotated_Hcon)-len(diagonalized_generators_GuA)\n",
    "# len(new)"
   ]
  },
  {
   "cell_type": "code",
   "execution_count": null,
   "metadata": {},
   "outputs": [],
   "source": [
    "H = conv_scr.Get_Openfermion_Hamiltonian(new)\n",
    "sparseH = qubit_operator_sparse(H, n_qubits=hamiltonians[mol_key][1])\n",
    "sp.sparse.linalg.eigsh(sparseH, which='SA', k=1)[0][0]"
   ]
  },
  {
   "cell_type": "code",
   "execution_count": null,
   "metadata": {},
   "outputs": [],
   "source": []
  },
  {
   "cell_type": "code",
   "execution_count": null,
   "metadata": {},
   "outputs": [],
   "source": []
  },
  {
   "cell_type": "code",
   "execution_count": null,
   "metadata": {},
   "outputs": [],
   "source": [
    "H_reduced_subspace={}\n",
    "for P in rotated_H.keys():\n",
    "    \n",
    "    sign=1\n",
    "    for P_known, eigen_val in zip(diagonalized_generators_GuA, eigen_vals_nonC_ground_state_GuA_ops):\n",
    "        Z_index = P_known.index('Z') # Find single qubit Z in generator!\n",
    "        \n",
    "        if P[Z_index]== 'Z': # compare location in genertor to P of rotated H\n",
    "            \n",
    "            sign*=eigen_val #<- eigenvalue of nonC ground state!\n",
    "            \n",
    "        elif P[Z_index]!= 'I': \n",
    "            sign=0 # MUST anti-commute!\n",
    "    \n",
    "    # build reduced Hilbert Space\n",
    "    if sign!=0:\n",
    "        P_new = list(deepcopy(P))\n",
    "        P_new[Z_index]='I'\n",
    "        P_new= ''.join(P_new)\n",
    "        \n",
    "        if P_new in H_reduced_subspace.keys():\n",
    "            H_reduced_subspace[P_new] = H_reduced_subspace[P_new] + rotated_H[P]*sign\n",
    "        else:\n",
    "            H_reduced_subspace[P_new] = rotated_H[P]*sign\n",
    "            \n",
    "#     else:\n",
    "#         H_reduced_subspace[P]=rotated_H[P]"
   ]
  },
  {
   "cell_type": "code",
   "execution_count": null,
   "metadata": {},
   "outputs": [],
   "source": [
    "print(len(rotated_H))\n",
    "print(len(H_reduced_subspace))"
   ]
  },
  {
   "cell_type": "code",
   "execution_count": null,
   "metadata": {},
   "outputs": [],
   "source": []
  },
  {
   "cell_type": "code",
   "execution_count": null,
   "metadata": {},
   "outputs": [],
   "source": [
    "# H_reduced_subspace"
   ]
  },
  {
   "cell_type": "code",
   "execution_count": null,
   "metadata": {},
   "outputs": [],
   "source": [
    "lowest_eigenvalue"
   ]
  },
  {
   "cell_type": "code",
   "execution_count": null,
   "metadata": {},
   "outputs": [],
   "source": [
    "from openfermion import qubit_operator_sparse\n",
    "import conversion_scripts as conv_scr\n",
    "import scipy as sp\n",
    "H = conv_scr.Get_Openfermion_Hamiltonian(H_reduced_subspace)\n",
    "sparseH = qubit_operator_sparse(H, n_qubits=hamiltonians[mol_key][1])\n",
    "sp.sparse.linalg.eigsh(sparseH, which='SA', k=1)[0][0]"
   ]
  },
  {
   "cell_type": "code",
   "execution_count": null,
   "metadata": {},
   "outputs": [],
   "source": [
    "c.quantum_correction(ham, #<- full Ham\n",
    "                     model,\n",
    "                     fn_form,\n",
    "                     ground_state_params)"
   ]
  },
  {
   "cell_type": "code",
   "execution_count": null,
   "metadata": {},
   "outputs": [],
   "source": [
    "lowest_eigenvalue"
   ]
  },
  {
   "cell_type": "code",
   "execution_count": null,
   "metadata": {},
   "outputs": [],
   "source": []
  },
  {
   "cell_type": "code",
   "execution_count": null,
   "metadata": {},
   "outputs": [],
   "source": [
    "Hfull = conv_scr.Get_Openfermion_Hamiltonian(ham)\n",
    "sparseHfull = qubit_operator_sparse(Hfull, n_qubits=hamiltonians[mol_key][1])\n",
    "FCI = sp.sparse.linalg.eigsh(sparseHfull, which='SA', k=1)[0][0]\n",
    "print('FCI=', FCI)"
   ]
  },
  {
   "cell_type": "code",
   "execution_count": null,
   "metadata": {},
   "outputs": [],
   "source": [
    "sp.sparse.linalg.eigsh(sparseH, which='SA', k=1)[0][0]"
   ]
  },
  {
   "cell_type": "code",
   "execution_count": null,
   "metadata": {},
   "outputs": [],
   "source": []
  },
  {
   "cell_type": "code",
   "execution_count": null,
   "metadata": {},
   "outputs": [],
   "source": []
  },
  {
   "cell_type": "code",
   "execution_count": null,
   "metadata": {},
   "outputs": [],
   "source": []
  },
  {
   "cell_type": "code",
   "execution_count": null,
   "metadata": {},
   "outputs": [],
   "source": []
  },
  {
   "cell_type": "code",
   "execution_count": null,
   "metadata": {},
   "outputs": [],
   "source": []
  },
  {
   "cell_type": "code",
   "execution_count": null,
   "metadata": {},
   "outputs": [],
   "source": []
  },
  {
   "cell_type": "code",
   "execution_count": null,
   "metadata": {},
   "outputs": [],
   "source": []
  },
  {
   "cell_type": "code",
   "execution_count": null,
   "metadata": {},
   "outputs": [],
   "source": [
    "print(diagonalized_generators_GuA)\n",
    "print(eigen_vals_nonC_ground_state_GuA_ops)\n",
    "\n",
    "p1_dict = {Gener.index('Z'): p1 for Gener, p1 in zip(diagonalized_generators_GuA, eigen_vals_nonC_ground_state_GuA_ops)}\n",
    "p1_dict"
   ]
  },
  {
   "cell_type": "code",
   "execution_count": null,
   "metadata": {
    "code_folding": []
   },
   "outputs": [],
   "source": [
    "H_reduced_subspace={}\n",
    "for P in rotated_Hcon.keys():\n",
    "    \n",
    "    new_sign=1\n",
    "    P_new = list(P)\n",
    "    for index, sigma in enumerate(P):\n",
    "        if sigma == 'Z':\n",
    "            new_sign*=p1_dict[index]\n",
    "            P_new[index]='I'\n",
    "    \n",
    "    P_new = ''.join(P_new)\n",
    "    H_reduced_subspace[P_new] = rotated_Hcon[P]*new_sign"
   ]
  },
  {
   "cell_type": "code",
   "execution_count": null,
   "metadata": {},
   "outputs": [],
   "source": [
    "H_reduced_subspace\n",
    "\n",
    "H_con_subspace = conv_scr.Get_Operfermion_Hamiltonian(H_reduced_subspace)\n",
    "sparseH_con_subspace = qubit_operator_sparse(H_con_subspace, n_qubits=hamiltonians[mol_key][1])\n",
    "sp.sparse.linalg.eigsh(sparseH_con_subspace, which='SA', k=1)[0][0]"
   ]
  },
  {
   "cell_type": "code",
   "execution_count": null,
   "metadata": {},
   "outputs": [],
   "source": [
    "# H_reduced_subspace={}\n",
    "# for P in rotated_Hcon.keys():\n",
    "    \n",
    "#     p1=1\n",
    "#     for P_known, eigen_val in zip(diagonalized_generators_GuA, eigen_vals_nonC_ground_state_GuA_ops):\n",
    "#         Z_index = P_known.index('Z') # Find single qubit Z in generator!\n",
    "        \n",
    "#         if P[Z_index]== 'Z': # compare location in genertor to P of rotated H\n",
    "#             p1*=eigen_val #<- eigenvalue of nonC ground state!\n",
    "            \n",
    "#             P1_P2 = list(deepcopy(P))\n",
    "#             P1_P2[Z_index]='I'\n",
    "#             I1_P2= ''.join(P1_P2)\n",
    "            \n",
    "#             if I1_P2 in H_reduced_subspace.keys():\n",
    "#                 H_reduced_subspace[I1_P2] += rotated_Hcon[P]*p1\n",
    "#             else:\n",
    "#                 H_reduced_subspace[I1_P2] = rotated_Hcon[P]*p1\n",
    "            \n",
    "#         elif P[Z_index]== 'I':\n",
    "#             H_reduced_subspace[P] = rotated_Hcon[P]\n",
    "            \n",
    "#         elif P[Z_index]!= 'I': \n",
    "#             sign=0 # MUST anti-commute!\n",
    "#             H_reduced_subspace[P]=0\n",
    "    \n",
    "# #         # build reduced Hilbert Space\n",
    "# #         if sign!=0:\n",
    "# #             if P_new in H_reduced_subspace.keys():\n",
    "# #                 H_reduced_subspace[P_new] = H_reduced_subspace[P_new] + rotated_Hcon[P]*sign\n",
    "# #             else:\n",
    "# #                 H_reduced_subspace[P_new] = rotated_Hcon[P_new]*sign\n",
    "            \n",
    "# # #     else:\n",
    "# # #         H_reduced_subspace[P]=rotated_H[P]"
   ]
  },
  {
   "cell_type": "code",
   "execution_count": null,
   "metadata": {},
   "outputs": [],
   "source": [
    "H_reduced_subspace"
   ]
  },
  {
   "cell_type": "code",
   "execution_count": null,
   "metadata": {},
   "outputs": [],
   "source": [
    "nonCon_Energy = lowest_eigenvalue\n",
    "\n",
    "H_con_subspace = conv_scr.Get_Operfermion_Hamiltonian(H_reduced_subspace)\n",
    "sparseH_con_subspace = qubit_operator_sparse(H_con_subspace, n_qubits=hamiltonians[mol_key][1])\n",
    "Con_Energy = sp.sparse.linalg.eigsh(sparseH_con_subspace, which='SA', k=1)[0][0]\n",
    "\n",
    "Con_Energy+nonCon_Energy"
   ]
  },
  {
   "cell_type": "code",
   "execution_count": null,
   "metadata": {},
   "outputs": [],
   "source": [
    "FCI"
   ]
  },
  {
   "cell_type": "code",
   "execution_count": null,
   "metadata": {},
   "outputs": [],
   "source": [
    "c.quantum_correction(ham, #<- full Ham\n",
    "                     model,\n",
    "                     fn_form,\n",
    "                     ground_state_params)"
   ]
  },
  {
   "cell_type": "code",
   "execution_count": null,
   "metadata": {},
   "outputs": [],
   "source": [
    "FCI-lowest_eigenvalue"
   ]
  },
  {
   "cell_type": "code",
   "execution_count": null,
   "metadata": {},
   "outputs": [],
   "source": [
    "Con_Energy"
   ]
  },
  {
   "cell_type": "code",
   "execution_count": null,
   "metadata": {},
   "outputs": [],
   "source": []
  },
  {
   "cell_type": "code",
   "execution_count": null,
   "metadata": {},
   "outputs": [],
   "source": [
    "c.commute(P_gen, P)"
   ]
  },
  {
   "cell_type": "code",
   "execution_count": null,
   "metadata": {},
   "outputs": [],
   "source": []
  },
  {
   "cell_type": "code",
   "execution_count": null,
   "metadata": {},
   "outputs": [],
   "source": [
    "rotated_H"
   ]
  },
  {
   "cell_type": "code",
   "execution_count": null,
   "metadata": {},
   "outputs": [],
   "source": []
  },
  {
   "cell_type": "code",
   "execution_count": null,
   "metadata": {},
   "outputs": [],
   "source": [
    "# Ham_openF = conv_scr.Get_Openfermion_Hamiltonian(ham)\n",
    "Ham_openF = conv_scr.Get_Openfermion_Hamiltonian(Con_H)\n",
    "rotated_H = QubitOperator()\n",
    "for P_Rop in R_LCU:\n",
    "    for P_ham in Ham_openF:\n",
    "        # left multiply by R\n",
    "        new_P = P_Rop*P_ham\n",
    "        rotated_H+=new_P\n",
    "\n",
    "post_LCU_rot_ham = conv_scr.Openfermion_to_dict(rotated_H,  hamiltonians[mol_key][1])\n",
    "post_LCU_rot_ham"
   ]
  },
  {
   "cell_type": "code",
   "execution_count": null,
   "metadata": {},
   "outputs": [],
   "source": [
    "len(post_LCU_rot_ham)"
   ]
  },
  {
   "cell_type": "code",
   "execution_count": null,
   "metadata": {},
   "outputs": [],
   "source": [
    "from scipy.linalg import eig\n",
    "from scipy.linalg import eigh"
   ]
  },
  {
   "cell_type": "code",
   "execution_count": null,
   "metadata": {},
   "outputs": [],
   "source": [
    "Ham_LCU = conv_scr.Get_Openfermion_Hamiltonian(post_LCU_rot_ham)\n",
    "print(len(list(Ham_LCU)))\n",
    "\n",
    "\n",
    "sparseH_LCU = qubit_operator_sparse(Ham_LCU, n_qubits=hamiltonians[mol_key][1])\n",
    "sp.sparse.linalg.eigsh(sparseH_LCU, which='SA', k=1)[0][0]"
   ]
  },
  {
   "cell_type": "code",
   "execution_count": null,
   "metadata": {},
   "outputs": [],
   "source": [
    "eig_values, eig_vectors = eig(sparseH_LCU.todense())\n",
    "min(eig_values)"
   ]
  },
  {
   "cell_type": "code",
   "execution_count": null,
   "metadata": {},
   "outputs": [],
   "source": [
    "from Misc_functions import sparse_allclose\n",
    "\n",
    "sparse_allclose(sparseH_LCU, sparseH_LCU.conjugate().T)"
   ]
  },
  {
   "cell_type": "code",
   "execution_count": null,
   "metadata": {},
   "outputs": [],
   "source": [
    "# Ham_openF = conv_scr.Get_Openfermion_Hamiltonian(ham)\n",
    "newH = {}\n",
    "\n",
    "HH = Con_H # <--------\n",
    "\n",
    "for P_ham in HH: # <--------\n",
    "    # left multiply by R\n",
    "\n",
    "    rotated_out = c.apply_rotation(Rotations_list[0],P_ham)\n",
    "\n",
    "    for P_out in rotated_out.keys():\n",
    "        if P_out in newH.keys():\n",
    "            newH[P_out] = rotated_out[P_out] + rotated_out[P_out]*HH[P_ham]\n",
    "        else:\n",
    "            newH[P_out] = rotated_out[P_out]*HH[P_ham]\n"
   ]
  },
  {
   "cell_type": "code",
   "execution_count": null,
   "metadata": {},
   "outputs": [],
   "source": [
    "Ham_SEQROT = conv_scr.Get_Openfermion_Hamiltonian(newH)\n",
    "\n",
    "sparse_SEQROT = qubit_operator_sparse(Ham_SEQROT, n_qubits=hamiltonians[mol_key][1])\n",
    "sp.sparse.linalg.eigsh(sparse_SEQROT, which='SA', k=1)[0][0]\n",
    "\n",
    "eig_values, eig_vectors = eigh(sparse_SEQROT.todense())\n",
    "min(eig_values)"
   ]
  },
  {
   "cell_type": "code",
   "execution_count": null,
   "metadata": {},
   "outputs": [],
   "source": [
    "Rotations_list[0]"
   ]
  },
  {
   "cell_type": "code",
   "execution_count": null,
   "metadata": {},
   "outputs": [],
   "source": []
  },
  {
   "cell_type": "code",
   "execution_count": null,
   "metadata": {},
   "outputs": [],
   "source": [
    "from Misc_functions import sparse_allclose\n",
    "\n",
    "print(sparse_allclose(sparse_SEQROT, sparse_SEQROT.conj().T))\n",
    "print(sparse_allclose(sparse_SEQROT, sparseH_LCU))"
   ]
  },
  {
   "cell_type": "code",
   "execution_count": null,
   "metadata": {},
   "outputs": [],
   "source": [
    "np.allclose(sparse_SEQROT.todense(), sparseH_LCU.todense())"
   ]
  },
  {
   "cell_type": "code",
   "execution_count": null,
   "metadata": {},
   "outputs": [],
   "source": []
  },
  {
   "cell_type": "code",
   "execution_count": null,
   "metadata": {},
   "outputs": [],
   "source": [
    "from scipy.linalg import eigh\n",
    "eig_values, eig_vectors = eigh(sparse_SEQROT.todense())\n",
    "FCI_Energy = min(eig_values)\n",
    "FCI_Energy"
   ]
  },
  {
   "cell_type": "code",
   "execution_count": null,
   "metadata": {},
   "outputs": [],
   "source": [
    "eig_values, eig_vectors = eigh(sparseH_LCU.todense())\n",
    "FCI_Energy = min(eig_values)\n",
    "FCI_Energy"
   ]
  },
  {
   "cell_type": "code",
   "execution_count": null,
   "metadata": {},
   "outputs": [],
   "source": [
    "from scipy.linalg import eig\n",
    "eig_values, eig_vectors = eig(sparseH_LCU.todense())\n",
    "FCI_Energy = min(eig_values)\n",
    "np.abs(FCI_Energy)"
   ]
  },
  {
   "cell_type": "code",
   "execution_count": null,
   "metadata": {},
   "outputs": [],
   "source": []
  },
  {
   "cell_type": "code",
   "execution_count": null,
   "metadata": {},
   "outputs": [],
   "source": [
    "R_LCU_str = conv_scr.Openfermion_to_dict(R_LCU, N_Qubits)\n",
    "for op1 in Con_H:\n",
    "    op2 = list(R_LCU_str.keys())[1]\n",
    "    print(op1, op2, c.commute(op1, op2))\n",
    "    print('')\n",
    "# should commute with everything BAR script A term (last check)"
   ]
  },
  {
   "cell_type": "code",
   "execution_count": null,
   "metadata": {},
   "outputs": [],
   "source": []
  },
  {
   "cell_type": "code",
   "execution_count": null,
   "metadata": {},
   "outputs": [],
   "source": [
    "RotOp = QubitOperator()\n",
    "for R_Rop in R_LCU:\n",
    "    RotOp+=R_Rop\n",
    "    \n",
    "sparseH_RotOp = qubit_operator_sparse(RotOp, n_qubits=hamiltonians[mol_key][1])\n",
    "\n",
    "from Misc_functions import sparse_allclose\n",
    "sparse_allclose(sparseH_RotOp, sparseH_RotOp.conjugate().T)"
   ]
  },
  {
   "cell_type": "code",
   "execution_count": null,
   "metadata": {},
   "outputs": [],
   "source": [
    "rot_Hconj= sparseH_RotOp.conjugate().T.todense()\n",
    "rot_normal = sparseH_RotOp.todense()\n",
    "\n",
    "np.where(rot_normal!=rot_Hconj)"
   ]
  },
  {
   "cell_type": "code",
   "execution_count": null,
   "metadata": {},
   "outputs": [],
   "source": [
    "i,j = [1,1]\n",
    "print(rot_Hconj[i,j], rot_normal[i,j])"
   ]
  },
  {
   "cell_type": "code",
   "execution_count": null,
   "metadata": {},
   "outputs": [],
   "source": [
    "rot_Hconj[0,0]\n",
    "rot_normal[0,0]"
   ]
  },
  {
   "cell_type": "code",
   "execution_count": null,
   "metadata": {},
   "outputs": [],
   "source": []
  },
  {
   "cell_type": "code",
   "execution_count": null,
   "metadata": {},
   "outputs": [],
   "source": []
  },
  {
   "cell_type": "code",
   "execution_count": null,
   "metadata": {},
   "outputs": [],
   "source": []
  },
  {
   "cell_type": "code",
   "execution_count": null,
   "metadata": {},
   "outputs": [],
   "source": []
  },
  {
   "cell_type": "code",
   "execution_count": null,
   "metadata": {},
   "outputs": [],
   "source": [
    "# Ham_openF = conv_scr.Get_Openfermion_Hamiltonian(ham)\n",
    "Ham_openF = conv_scr.Get_Openfermion_Hamiltonian(Con_H)\n",
    "\n",
    "\n",
    "manual_rot_H = QubitOperator()\n",
    "ROP = QubitOperator()\n",
    "for P_Rop in R_LCU:\n",
    "    ROP+=P_Rop\n",
    "    for P_ham in Ham_openF:\n",
    "        # left multiply by R\n",
    "        new_P = P_Rop*P_ham\n",
    "        manual_rot_H+=new_P\n",
    "\n",
    "openF_rot_H = ROP*Ham_openF\n",
    "\n",
    "manual_rot_H==openF_rot_H"
   ]
  },
  {
   "cell_type": "code",
   "execution_count": null,
   "metadata": {},
   "outputs": [],
   "source": [
    "Ham_openF*openF_rot_H == openF_rot_H*Ham_openF"
   ]
  },
  {
   "cell_type": "code",
   "execution_count": null,
   "metadata": {},
   "outputs": [],
   "source": [
    "Ham_openF*openF_rot_H == -1*openF_rot_H*Ham_openF"
   ]
  },
  {
   "cell_type": "code",
   "execution_count": null,
   "metadata": {},
   "outputs": [],
   "source": [
    "QubitOperator('Z0')*QubitOperator('X0')"
   ]
  },
  {
   "cell_type": "code",
   "execution_count": null,
   "metadata": {},
   "outputs": [],
   "source": []
  },
  {
   "cell_type": "code",
   "execution_count": null,
   "metadata": {},
   "outputs": [],
   "source": [
    "AC_set = QubitOperator()\n",
    "for op_str in Ci1_list:\n",
    "    AC_set+=conv_scr.convert_op_str(op_str, 1)\n",
    "AC_set.renormalize() #<--- need to renormalize!\n",
    "AC_set"
   ]
  },
  {
   "cell_type": "code",
   "execution_count": null,
   "metadata": {},
   "outputs": [],
   "source": [
    "from openfermion.utils import hermitian_conjugated\n",
    "print(ROP)\n",
    "hermitian_conjugated(ROP)"
   ]
  },
  {
   "cell_type": "code",
   "execution_count": null,
   "metadata": {},
   "outputs": [],
   "source": [
    "ROP*AC_set*hermitian_conjugated(ROP)"
   ]
  },
  {
   "cell_type": "code",
   "execution_count": null,
   "metadata": {},
   "outputs": [],
   "source": [
    "R_mat = qubit_operator_sparse(ROP)\n",
    "\n",
    "out=R_mat.dot(R_mat.conj().T)\n",
    "np.allclose(out.todense(), np.eye(2**N_Qubits))"
   ]
  },
  {
   "cell_type": "code",
   "execution_count": null,
   "metadata": {},
   "outputs": [],
   "source": [
    "ROP*hermitian_conjugated(ROP)"
   ]
  },
  {
   "cell_type": "code",
   "execution_count": null,
   "metadata": {},
   "outputs": [],
   "source": []
  },
  {
   "cell_type": "code",
   "execution_count": null,
   "metadata": {},
   "outputs": [],
   "source": [
    "l1_norm = sum([abs(list(op.terms.values())[0]) for op in R_LCU])\n",
    "ROP_l1_norm = QubitOperator()\n",
    "for op in ROP:\n",
    "    PauliStr, const = tuple(*op.terms.items())#\n",
    "    new_coeff = np.sqrt(const/l1_norm)\n",
    "    ROP_l1_norm+=QubitOperator(PauliStr, new_coeff)\n",
    "ROP_l1_norm   "
   ]
  },
  {
   "cell_type": "code",
   "execution_count": null,
   "metadata": {},
   "outputs": [],
   "source": [
    "rot_H_l1_norm = ROP_l1_norm*Ham_openF\n",
    "\n",
    "l1_H_mat_sparse = qubit_operator_sparse(rot_H_l1_norm)\n",
    "\n",
    "sparse_allclose(l1_H_mat_sparse, l1_H_mat_sparse.conj().T)"
   ]
  },
  {
   "cell_type": "code",
   "execution_count": null,
   "metadata": {},
   "outputs": [],
   "source": [
    "ROP*hermitian_conjugated(ROP)"
   ]
  },
  {
   "cell_type": "code",
   "execution_count": null,
   "metadata": {},
   "outputs": [],
   "source": [
    "from openfermion.utils import hermitian_conjugated\n",
    "\n",
    "Ham_openF = conv_scr.Get_Openfermion_Hamiltonian(Con_H)\n",
    "Ham_openF==hermitian_conjugated(Ham_openF)"
   ]
  },
  {
   "cell_type": "code",
   "execution_count": null,
   "metadata": {},
   "outputs": [],
   "source": []
  },
  {
   "cell_type": "code",
   "execution_count": null,
   "metadata": {},
   "outputs": [],
   "source": [
    "test= ROP*Ham_openF*hermitian_conjugated(ROP)\n",
    "test==hermitian_conjugated(test)"
   ]
  },
  {
   "cell_type": "code",
   "execution_count": null,
   "metadata": {},
   "outputs": [],
   "source": []
  },
  {
   "cell_type": "code",
   "execution_count": null,
   "metadata": {},
   "outputs": [],
   "source": []
  },
  {
   "cell_type": "code",
   "execution_count": null,
   "metadata": {},
   "outputs": [],
   "source": []
  },
  {
   "cell_type": "code",
   "execution_count": null,
   "metadata": {},
   "outputs": [],
   "source": []
  },
  {
   "cell_type": "code",
   "execution_count": 9,
   "metadata": {},
   "outputs": [],
   "source": [
    "data_csvqe_results_file = os.path.join(data_dir, 'csvqe_results.txt')\n",
    "with open(data_csvqe_results_file, 'r') as input_file:\n",
    "    csvqe_results = ast.literal_eval(input_file.read())"
   ]
  },
  {
   "cell_type": "code",
   "execution_count": 1,
   "metadata": {},
   "outputs": [
    {
     "ename": "NameError",
     "evalue": "name 'csvqe_results' is not defined",
     "output_type": "error",
     "traceback": [
      "\u001b[0;31m---------------------------------------------------------------------------\u001b[0m",
      "\u001b[0;31mNameError\u001b[0m                                 Traceback (most recent call last)",
      "\u001b[0;32m<ipython-input-1-4a07cbb979cd>\u001b[0m in \u001b[0;36m<module>\u001b[0;34m\u001b[0m\n\u001b[0;32m----> 1\u001b[0;31m \u001b[0mcsvqe_results\u001b[0m\u001b[0;34m[\u001b[0m\u001b[0mmol_key\u001b[0m\u001b[0;34m]\u001b[0m\u001b[0;34m\u001b[0m\u001b[0;34m\u001b[0m\u001b[0m\n\u001b[0m",
      "\u001b[0;31mNameError\u001b[0m: name 'csvqe_results' is not defined"
     ]
    }
   ],
   "source": [
    "csvqe_results[mol_key]"
   ]
  },
  {
   "cell_type": "code",
   "execution_count": 42,
   "metadata": {},
   "outputs": [
    {
     "data": {
      "text/plain": [
       "[-103.58635295327042,\n",
       " [-102.98191311249451,\n",
       "  -103.55745152883412,\n",
       "  -103.57929641696622,\n",
       "  -103.58146150133092,\n",
       "  -103.58552552170987,\n",
       "  -103.58594133415892,\n",
       "  -103.58633261280683,\n",
       "  -103.586338665326,\n",
       "  -103.58635295327052],\n",
       " [0.6044398407759104,\n",
       "  0.02890142443629884,\n",
       "  0.007056536304204997,\n",
       "  0.004891451939499802,\n",
       "  0.0008274315605518723,\n",
       "  0.00041161911150311425,\n",
       "  2.034046359256081e-05,\n",
       "  1.4287944424040688e-05,\n",
       "  -9.947598300641403e-14],\n",
       " [7, 2, 4, 3, 0, 1, 6, 5]]"
      ]
     },
     "execution_count": 42,
     "metadata": {},
     "output_type": "execute_result"
    }
   ],
   "source": [
    "### find optimal LCU qubit removal order!\n",
    "\n",
    "N_index = 0\n",
    "check_reduction= True\n",
    "n_qubits= hamiltonians[mol_key][1]\n",
    "true_gs= csvqe_results[mol_key][0]\n",
    "\n",
    "c.csvqe_approximations_heuristic_LCU(ham,\n",
    "                                   nonCon_H,\n",
    "                                   n_qubits, \n",
    "                                   true_gs, \n",
    "                                   N_index, \n",
    "                                   check_reduction=check_reduction)"
   ]
  }
 ],
 "metadata": {
  "kernelspec": {
   "display_name": "Python 3",
   "language": "python",
   "name": "python3"
  },
  "language_info": {
   "codemirror_mode": {
    "name": "ipython",
    "version": 3
   },
   "file_extension": ".py",
   "mimetype": "text/x-python",
   "name": "python",
   "nbconvert_exporter": "python",
   "pygments_lexer": "ipython3",
   "version": "3.8.5"
  }
 },
 "nbformat": 4,
 "nbformat_minor": 2
}
