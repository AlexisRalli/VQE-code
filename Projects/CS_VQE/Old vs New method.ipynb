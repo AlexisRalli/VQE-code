{
 "cells": [
  {
   "cell_type": "code",
   "execution_count": 1,
   "metadata": {},
   "outputs": [],
   "source": [
    "import numpy as np\n",
    "import cs_vqe as c\n",
    "import ast\n",
    "import os\n",
    "\n",
    "import cs_vqe_with_LCU as c_LCU\n",
    "import quchem.Misc_functions.conversion_scripts as conv_scr "
   ]
  },
  {
   "cell_type": "code",
   "execution_count": 2,
   "metadata": {},
   "outputs": [],
   "source": [
    "# with open(\"hamiltonians.txt\", 'r') as input_file:\n",
    "#     hamiltonians = ast.literal_eval(input_file.read())\n",
    "    \n",
    "working_dir = os.getcwd()\n",
    "data_dir = os.path.join(working_dir, 'data')\n",
    "data_hamiltonians_file = os.path.join(data_dir, 'hamiltonians.txt')\n",
    "\n",
    "\n",
    "with open(data_hamiltonians_file, 'r') as input_file:\n",
    "    hamiltonians = ast.literal_eval(input_file.read())"
   ]
  },
  {
   "cell_type": "code",
   "execution_count": 3,
   "metadata": {
    "scrolled": false
   },
   "outputs": [
    {
     "name": "stdout",
     "output_type": "stream",
     "text": [
      "H2-S1_STO-3G_singlet          n_qubits:  18   \n",
      "C1-O1_STO-3G_singlet          n_qubits:  16   \n",
      "H1-Cl1_STO-3G_singlet         n_qubits:  16   \n",
      "H1-Na1_STO-3G_singlet         n_qubits:  16   \n",
      "H2-Mg1_STO-3G_singlet         n_qubits:  17   \n",
      "H1-F1_3-21G_singlet           n_qubits:  18   \n",
      "H1-Li1_3-21G_singlet          n_qubits:  18   \n",
      "Be1_STO-3G_singlet            n_qubits:  5    \n",
      "H1-F1_STO-3G_singlet          n_qubits:  8    \n",
      "H1-Li1_STO-3G_singlet         n_qubits:  8    \n",
      "Ar1_STO-3G_singlet            n_qubits:  13   \n",
      "F2_STO-3G_singlet             n_qubits:  15   \n",
      "H1-O1_STO-3G_singlet          n_qubits:  8    \n",
      "H2-Be1_STO-3G_singlet         n_qubits:  9    \n",
      "H2-O1_STO-3G_singlet          n_qubits:  10   \n",
      "H2_3-21G_singlet              n_qubits:  5    \n",
      "H2_6-31G_singlet              n_qubits:  5    \n",
      "H3-N1_STO-3G_singlet          n_qubits:  13   \n",
      "H4-C1_STO-3G_singlet          n_qubits:  14   \n",
      "Mg1_STO-3G_singlet            n_qubits:  13   \n",
      "N2_STO-3G_singlet             n_qubits:  15   \n",
      "Ne1_STO-3G_singlet            n_qubits:  5    \n",
      "O2_STO-3G_singlet             n_qubits:  15   \n",
      "H1-Li1-O1_STO-3G_singlet      n_qubits:  18   \n",
      "H1-He1_STO-3G_singlet         n_qubits:  2    \n",
      "H3_STO-3G_singlet_1+          n_qubits:  3    \n",
      "H1-He1_3-21G_singlet_1+       n_qubits:  6    \n",
      "H3_3-21G_singlet_1+           n_qubits:  9    \n",
      "H4-N1_STO-3G_singlet_1+       n_qubits:  14   \n"
     ]
    }
   ],
   "source": [
    "for key in hamiltonians.keys():\n",
    "    print(f\"{key: <25}     n_qubits:  {hamiltonians[key][1]:<5.0f}\")"
   ]
  },
  {
   "cell_type": "code",
   "execution_count": 4,
   "metadata": {},
   "outputs": [],
   "source": [
    "allowed = ['H3_STO-3G_singlet_1+', 'H1-He1_STO-3G_singlet', 'Be1_STO-3G_singlet']\n",
    "new={}\n",
    "for key in hamiltonians:\n",
    "    if key in allowed:\n",
    "        new[key]=hamiltonians[key]"
   ]
  },
  {
   "cell_type": "code",
   "execution_count": 5,
   "metadata": {},
   "outputs": [],
   "source": [
    "hamiltonians= new"
   ]
  },
  {
   "cell_type": "code",
   "execution_count": 6,
   "metadata": {},
   "outputs": [
    {
     "name": "stdout",
     "output_type": "stream",
     "text": [
      "Be1_STO-3G_singlet 5\n",
      "  best order: [0, 1, 2, 4, 3]\n",
      "  resulting errors: [0.05177463186566733, 0.030864204200307555, 0.014216038765239247, 0.00032650598434535993, 0.00017597890167131425, 1.2434497875801753e-14] \n",
      "\n",
      "H1-He1_STO-3G_singlet 2\n",
      "  best order: [0, 1]\n",
      "  resulting errors: [0.008225908649643454, 0.008225908649643898, -8.881784197001252e-16] \n",
      "\n",
      "H3_STO-3G_singlet_1+ 3\n",
      "  best order: [0, 2, 1]\n",
      "  resulting errors: [0.012805571551730122, 0.0003080609044734395, -1.3322676295501878e-15, 8.881784197001252e-16] \n",
      "\n"
     ]
    }
   ],
   "source": [
    "##### OLD WAY #### \n",
    "csvqe_results = {}\n",
    "for speciesname in hamiltonians.keys():\n",
    "\n",
    "    n_qubits = hamiltonians[speciesname][1]\n",
    "    ham = hamiltonians[speciesname][2]\n",
    "    ham_noncon = hamiltonians[speciesname][3]\n",
    "    true_gs = hamiltonians[speciesname][4]\n",
    "\n",
    "    print(speciesname,n_qubits)\n",
    "    \n",
    "    csvqe_out = c.csvqe_approximations_heuristic(ham, ham_noncon, n_qubits, true_gs)\n",
    "    csvqe_results[speciesname] = csvqe_out\n",
    "    print('  best order:',csvqe_out[3])\n",
    "    print('  resulting errors:',csvqe_out[2],'\\n')"
   ]
  },
  {
   "cell_type": "markdown",
   "metadata": {},
   "source": [
    "# uses LCU for script A term"
   ]
  },
  {
   "cell_type": "code",
   "execution_count": 7,
   "metadata": {},
   "outputs": [
    {
     "name": "stdout",
     "output_type": "stream",
     "text": [
      "Be1_STO-3G_singlet 5\n",
      "  best order: [4, 0, 1, 2, 3]\n",
      "  resulting errors: [4.545706091061804, 0.05177463186566733, 0.030817198613574348, 0.014118514241499014, 0.00017597890166243246, 1.4210854715202004e-14] \n",
      "\n",
      "H1-He1_STO-3G_singlet 2\n",
      "  best order: [1, 0]\n",
      "  resulting errors: [0.6777747691328706, 0.008225908649643898, 6.217248937900877e-15] \n",
      "\n",
      "H3_STO-3G_singlet_1+ 3\n",
      "  best order: [2, 0, 1]\n",
      "  resulting errors: [0.33641393577611733, 0.01280557155173101, 3.552713678800501e-15, -2.220446049250313e-15] \n",
      "\n"
     ]
    }
   ],
   "source": [
    "##### NEW IMPLEMENTATION #### \n",
    "N_index=0\n",
    "csvqe_results_NEW = {}\n",
    "\n",
    "for speciesname in hamiltonians.keys():\n",
    "\n",
    "    n_qubits = hamiltonians[speciesname][1]\n",
    "    ham = hamiltonians[speciesname][2]\n",
    "    ham_noncon = hamiltonians[speciesname][3]\n",
    "    true_gs = hamiltonians[speciesname][4]\n",
    "\n",
    "    print(speciesname,n_qubits)\n",
    "    \n",
    "    csvqe_out = c_LCU.csvqe_approximations_heuristic_LCU(\n",
    "                               ham,\n",
    "                               ham_noncon,\n",
    "                               n_qubits, \n",
    "                               true_gs, \n",
    "                               N_index, \n",
    "                               check_reduction=False) ### <--- change for paper!\n",
    "\n",
    "    csvqe_results_NEW[speciesname] = csvqe_out\n",
    "    print('  best order:',csvqe_out[3])\n",
    "    print('  resulting errors:',csvqe_out[2],'\\n')"
   ]
  },
  {
   "cell_type": "code",
   "execution_count": null,
   "metadata": {},
   "outputs": [],
   "source": []
  }
 ],
 "metadata": {
  "kernelspec": {
   "display_name": "Python 3",
   "language": "python",
   "name": "python3"
  },
  "language_info": {
   "codemirror_mode": {
    "name": "ipython",
    "version": 3
   },
   "file_extension": ".py",
   "mimetype": "text/x-python",
   "name": "python",
   "nbconvert_exporter": "python",
   "pygments_lexer": "ipython3",
   "version": "3.8.5"
  }
 },
 "nbformat": 4,
 "nbformat_minor": 2
}
