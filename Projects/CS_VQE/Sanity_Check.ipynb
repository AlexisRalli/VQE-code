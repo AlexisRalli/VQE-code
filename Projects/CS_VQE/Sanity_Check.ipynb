{
 "cells": [
  {
   "cell_type": "code",
   "execution_count": 1,
   "metadata": {},
   "outputs": [],
   "source": [
    "import numpy as np\n",
    "import cs_vqe as c\n",
    "from copy import deepcopy as copy\n",
    "\n",
    "import ast\n",
    "import matplotlib.pyplot as plt\n",
    "import os\n",
    "\n",
    "import pickle\n",
    "import datetime"
   ]
  },
  {
   "cell_type": "code",
   "execution_count": 2,
   "metadata": {},
   "outputs": [],
   "source": [
    "working_dir = os.getcwd()\n",
    "data_dir = os.path.join(working_dir, 'Pickle_out')\n",
    "\n",
    "data_H_dir = os.path.join(working_dir, 'data')\n",
    "data_hamiltonians_file = os.path.join(data_H_dir, 'hamiltonians.txt')"
   ]
  },
  {
   "cell_type": "code",
   "execution_count": 3,
   "metadata": {},
   "outputs": [],
   "source": [
    "file_name = 'EXP_ordering_anticommuting_vs_standard_conH_2021Mar30-110555019968.pickle'\n",
    "file_path = os.path.join(data_dir, file_name)\n",
    "with open(file_path, 'rb') as infile:\n",
    "    unitary_paritioning_of_Con_H = pickle.load(infile)\n",
    "    \n",
    "\n",
    "file_name2 = 'EXP_ordering_updated_hamiltonians_2021Mar30-110555019968.pickle'\n",
    "file_path2 = os.path.join(data_dir, file_name2)\n",
    "with open(file_path2, 'rb') as infile:\n",
    "    updated_hamiltonians = pickle.load(infile)"
   ]
  },
  {
   "cell_type": "code",
   "execution_count": 4,
   "metadata": {},
   "outputs": [],
   "source": [
    "data_csvqe_results_file = os.path.join(data_H_dir, 'csvqe_results.txt')\n",
    "with open(data_csvqe_results_file, 'r') as input_file:\n",
    "    csvqe_results = ast.literal_eval(input_file.read())"
   ]
  },
  {
   "cell_type": "code",
   "execution_count": null,
   "metadata": {},
   "outputs": [],
   "source": []
  },
  {
   "cell_type": "code",
   "execution_count": 13,
   "metadata": {},
   "outputs": [],
   "source": [
    "import Unitary_partitioning_LCU_method as LCU_UP\n",
    "from copy import deepcopy as copy"
   ]
  },
  {
   "cell_type": "code",
   "execution_count": 6,
   "metadata": {},
   "outputs": [],
   "source": [
    "# LCU check\n",
    "E_LCU_dict ={}\n",
    "for mol_name in unitary_paritioning_of_Con_H:\n",
    "    \n",
    "    N_Qubits= updated_hamiltonians[mol_name]['n_qubits']\n",
    "    \n",
    "    if N_Qubits>10:\n",
    "        continue\n",
    "\n",
    "    true_gs_energy = csvqe_results[mol_name][0]\n",
    "    \n",
    "    E_list=[]\n",
    "    error_list=[]\n",
    "    for n_qubits, tuple_fullH_ACset in enumerate(unitary_paritioning_of_Con_H[mol_name]):\n",
    "\n",
    "        AC_set = tuple_fullH_ACset[1]\n",
    "        if n_qubits == 0:\n",
    "            Energy_I = list(AC_set[0][0].terms.values())[0] # <- no qubits!\n",
    "            E_list.append(Energy_I) \n",
    "            error_list.append(abs(true_gs_energy-Energy_I))\n",
    "        else:\n",
    "\n",
    "            N_dict = {key:0 for key in AC_set}\n",
    "            E_LCU = LCU_UP.LCU_linalg_Energy(AC_set,\n",
    "                                      N_dict,\n",
    "                                      n_qubits,\n",
    "                                      atol=1e-8,\n",
    "                                      rtol=1e-05,\n",
    "                                      check_reduction=True) ### <--- change for paper!\n",
    "            E_list.append(copy(E_LCU))\n",
    "            error_list.append(abs(true_gs_energy-E_LCU))\n",
    "            del E_LCU\n",
    "    E_LCU_dict[mol_name] = {'Energy_list': E_list,\n",
    "                            'Error_list': error_list}"
   ]
  },
  {
   "cell_type": "code",
   "execution_count": null,
   "metadata": {},
   "outputs": [],
   "source": [
    "AC_set"
   ]
  },
  {
   "cell_type": "code",
   "execution_count": 7,
   "metadata": {},
   "outputs": [
    {
     "name": "stdout",
     "output_type": "stream",
     "text": [
      "[0.012805571551730122, 0.0003080609044734395, 2.220446049250313e-15, 3.552713678800501e-15]\n",
      "\n",
      "[0.05177463186564246, 0.030864204200282686, 0.014216038765219707, 0.00032650598432049094, 0.0001759789016606561, 7.030820370346191e-11]\n",
      "\n",
      "[0.024765804413788395, 0.01794527467613216, 0.017943621134969723, 0.012216134976930304, 0.007884547381673768, 4.440892098500626e-16]\n",
      "\n",
      "[0.024692363259258387, 0.019275277658154844, 0.019273258881908895, 0.013363995296319153, 0.00809672421514751, 6.439293542825908e-15]\n",
      "\n",
      "[0.023508175699287648, 0.01882399499271248, 0.01549232114093435, 0.014469429665340705, 0.002205439536466791, 0.00043708987844315317, 2.6645352591003757e-15]\n",
      "\n",
      "[0.028901424436270418, 0.02890142443629884, 0.00705653630426184, 0.004891451939514013, 0.0008274315610492522, 0.0004116191125831392, 2.0340464061519015e-05, 1.4287944395618979e-05, 1.4210854715202004e-14]\n",
      "\n",
      "[0.019144837831428063, 0.01914483783142984, 0.017308996341892424, 0.0036894902683179964, 0.0013358883065048843, 0.0007708111407414009, 0.00022271486098013327, 0.00017041636175818553, 5.284773507696627e-09]\n",
      "\n",
      "[0.16328234952072762, 0.10908479991525155, 0.09240473181100128, 0.08623692031804353, 0.044960286692457885, 0.020447355964236635, 2.7337857417819578e-05, 1.665217021695753e-05, 4.263256414560601e-13]\n",
      "\n",
      "[0.033393338015908824, 0.027624806161327342, 0.02420468699639855, 0.02412114794260134, 0.017163973571530988, 0.005762914109968875, 0.0029919313339910047, 0.0003361582628542692, 0.00022863810172424337, 2.0104806708332035e-11]\n",
      "\n",
      "[0.02973928022270611, 0.024347064903351257, 0.024339757504073134, 0.019225706859846703, 0.016084702641191218, 0.016083580684220777, 0.010103116646088317, 0.007210303322346068, 0.0017721378070225668, 1.2878587085651816e-14]\n",
      "\n",
      "[0.0544785811308941, 0.0544785811308941, 0.04910409508163127, 0.045544008268564085, 0.030848913886458718, 0.016643589582727714, 0.010571168731900116, 0.0010854422345403236, 7.410423675935363e-05, 4.894071767580499e-05, 1.2789769243681803e-13]\n",
      "\n"
     ]
    }
   ],
   "source": [
    "for mol_name in E_LCU_dict:\n",
    "    print(E_LCU_dict[mol_name]['Error_list'])\n",
    "    print('')"
   ]
  },
  {
   "cell_type": "code",
   "execution_count": 29,
   "metadata": {},
   "outputs": [],
   "source": []
  },
  {
   "cell_type": "code",
   "execution_count": 46,
   "metadata": {},
   "outputs": [],
   "source": [
    "### checking if R_LCU is unitary!\n",
    "\n",
    "# import Unitary_partitioning_LCU_method as LCU_UP\n",
    "# from openfermion.utils import hermitian_conjugated\n",
    "# from openfermion.ops import QubitOperator\n",
    "\n",
    "# mol_name = 'H2-O1_STO-3G_singlet'\n",
    "# # mol_name = 'H3-N1_STO-3G_singlet'\n",
    "# longest_key, largest_AC_set = max(unitary_paritioning_of_Con_H[mol_name][-1][1].items(), key = lambda x: len(x[1]))\n",
    "# N_Qubits = updated_hamiltonians[mol_name]['n_qubits']\n",
    "# N_index=0\n",
    "# check_reduction=True\n",
    "\n",
    "# R_LCU_list, Pn, gamma_l = LCU_UP.Get_R_op_list(largest_AC_set,\n",
    "#                                                N_index,\n",
    "#                                                N_Qubits,\n",
    "#                                                check_reduction=check_reduction,\n",
    "#                                                atol=1e-8, \n",
    "#                                                rtol=1e-05)\n",
    "\n",
    "\n",
    "# R_LCU = QubitOperator()\n",
    "# for op in R_LCU_list:\n",
    "#     R_LCU+=op\n",
    "# # R_LCU.renormalize()\n",
    "\n",
    "# unitary_check = R_LCU*hermitian_conjugated(R_LCU)\n",
    "# print(unitary_check)\n",
    "# if unitary_check != QubitOperator('', 1):\n",
    "#     raise ValueError('R_LCU is not unitary!')\n",
    "# R_LCU = list(R_LCU)"
   ]
  },
  {
   "cell_type": "code",
   "execution_count": null,
   "metadata": {},
   "outputs": [],
   "source": []
  }
 ],
 "metadata": {
  "kernelspec": {
   "display_name": "Python 3",
   "language": "python",
   "name": "python3"
  },
  "language_info": {
   "codemirror_mode": {
    "name": "ipython",
    "version": 3
   },
   "file_extension": ".py",
   "mimetype": "text/x-python",
   "name": "python",
   "nbconvert_exporter": "python",
   "pygments_lexer": "ipython3",
   "version": "3.7.6"
  }
 },
 "nbformat": 4,
 "nbformat_minor": 4
}
