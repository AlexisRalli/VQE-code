{
 "cells": [
  {
   "cell_type": "code",
   "execution_count": 61,
   "metadata": {},
   "outputs": [],
   "source": [
    "from openfermion import QubitOperator\n",
    "import cirq\n",
    "import numpy as np "
   ]
  },
  {
   "cell_type": "code",
   "execution_count": 29,
   "metadata": {},
   "outputs": [
    {
     "data": {
      "text/plain": [
       "0.1 [X0 Z1 Z2] +\n",
       "0.3 [X0 X2] +\n",
       "0.1 [Z0 Z1]"
      ]
     },
     "execution_count": 29,
     "metadata": {},
     "output_type": "execute_result"
    }
   ],
   "source": [
    "H = QubitOperator()\n",
    "\n",
    "H+= QubitOperator('X0 Z1 Z2', 0.1)\n",
    "H+= QubitOperator('X0 X2', 0.3)\n",
    "H+= QubitOperator('Z0 Z1', 0.1)\n",
    "\n",
    "H"
   ]
  },
  {
   "cell_type": "code",
   "execution_count": 76,
   "metadata": {},
   "outputs": [
    {
     "data": {
      "text/html": [
       "<pre style=\"overflow: auto; white-space: pre;\">0: ───I───\n",
       "\n",
       "1: ───H───\n",
       "\n",
       "2: ───I───</pre>"
      ],
      "text/plain": [
       "0: ───I───\n",
       "\n",
       "1: ───H───\n",
       "\n",
       "2: ───I───"
      ]
     },
     "execution_count": 76,
     "metadata": {},
     "output_type": "execute_result"
    }
   ],
   "source": [
    "qubits = list(cirq.LineQubit.range(3))\n",
    "ansatz_circuit = cirq.Circuit(\n",
    "*[cirq.I.on(qubits[0]), cirq.H.on(qubits[1]), cirq.I.on(qubits[2])]\n",
    ")\n",
    "ansatz_circuit"
   ]
  },
  {
   "cell_type": "code",
   "execution_count": 253,
   "metadata": {},
   "outputs": [
    {
     "data": {
      "text/plain": [
       "array([ 0.70710678+0.j,  0.        +0.j,  0.70710678+0.j, -0.        +0.j,\n",
       "        0.        +0.j,  0.        +0.j, -0.        +0.j, -0.        +0.j])"
      ]
     },
     "execution_count": 253,
     "metadata": {},
     "output_type": "execute_result"
    }
   ],
   "source": [
    "measure_ZZI_statevector = ansatz_circuit.final_state_vector()\n",
    "measure_ZZI_statevector"
   ]
  },
  {
   "cell_type": "code",
   "execution_count": 78,
   "metadata": {},
   "outputs": [
    {
     "data": {
      "text/html": [
       "<pre style=\"overflow: auto; white-space: pre;\">0: ───I───H───\n",
       "\n",
       "1: ───H───────\n",
       "\n",
       "2: ───I───────</pre>"
      ],
      "text/plain": [
       "0: ───I───H───\n",
       "\n",
       "1: ───H───────\n",
       "\n",
       "2: ───I───────"
      ]
     },
     "execution_count": 78,
     "metadata": {},
     "output_type": "execute_result"
    }
   ],
   "source": [
    "measure_XZZ_circuit = ansatz_circuit.copy()\n",
    "\n",
    "measure_XZZ_circuit.append([cirq.H.on(qubits[0])])\n",
    "measure_XZZ_circuit"
   ]
  },
  {
   "cell_type": "code",
   "execution_count": 79,
   "metadata": {},
   "outputs": [
    {
     "data": {
      "text/plain": [
       "array([ 0.5+0.j,  0. +0.j,  0.5+0.j,  0. +0.j,  0.5+0.j, -0. +0.j,\n",
       "        0.5+0.j, -0. +0.j])"
      ]
     },
     "execution_count": 79,
     "metadata": {},
     "output_type": "execute_result"
    }
   ],
   "source": [
    "measure_XZZ_statevector = measure_XZZ_circuit.final_state_vector()\n",
    "measure_XZZ_statevector"
   ]
  },
  {
   "cell_type": "code",
   "execution_count": null,
   "metadata": {},
   "outputs": [],
   "source": []
  },
  {
   "cell_type": "code",
   "execution_count": 38,
   "metadata": {},
   "outputs": [
    {
     "data": {
      "text/html": [
       "<pre style=\"overflow: auto; white-space: pre;\">0: ───I───H───\n",
       "\n",
       "1: ───H───────\n",
       "\n",
       "2: ───I───H───</pre>"
      ],
      "text/plain": [
       "0: ───I───H───\n",
       "\n",
       "1: ───H───────\n",
       "\n",
       "2: ───I───H───"
      ]
     },
     "execution_count": 38,
     "metadata": {},
     "output_type": "execute_result"
    }
   ],
   "source": [
    "measure_XIX_circuit = ansatz_circuit.copy()\n",
    "\n",
    "measure_XIX_circuit.append([cirq.H.on(qubits[0]), cirq.H.on(qubits[2])])\n",
    "measure_XIX_circuit"
   ]
  },
  {
   "cell_type": "code",
   "execution_count": 39,
   "metadata": {},
   "outputs": [
    {
     "data": {
      "text/plain": [
       "array([0.35355339+0.j, 0.35355339+0.j, 0.35355339+0.j, 0.35355339+0.j,\n",
       "       0.35355339+0.j, 0.35355339+0.j, 0.35355339+0.j, 0.35355339+0.j])"
      ]
     },
     "execution_count": 39,
     "metadata": {},
     "output_type": "execute_result"
    }
   ],
   "source": [
    "measure_XIX_statevector = measure_XIX_circuit.final_state_vector()\n",
    "measure_XIX_statevector"
   ]
  },
  {
   "cell_type": "code",
   "execution_count": null,
   "metadata": {},
   "outputs": [],
   "source": []
  },
  {
   "cell_type": "code",
   "execution_count": 176,
   "metadata": {},
   "outputs": [],
   "source": [
    "N_shots=int(1e6)"
   ]
  },
  {
   "cell_type": "code",
   "execution_count": 177,
   "metadata": {},
   "outputs": [],
   "source": [
    "XZZ_measurements = cirq.sim.sample_state_vector(\n",
    "    state_vector= measure_XZZ_statevector,\n",
    "    indices=[0, 1, 2],\n",
    "    repetitions=N_shots\n",
    "    )"
   ]
  },
  {
   "cell_type": "code",
   "execution_count": 178,
   "metadata": {},
   "outputs": [],
   "source": [
    "XIX_measurements = cirq.sim.sample_state_vector(\n",
    "    state_vector= measure_XIX_statevector,\n",
    "    indices=[0,2],\n",
    "    repetitions=N_shots\n",
    "    )"
   ]
  },
  {
   "cell_type": "code",
   "execution_count": 179,
   "metadata": {},
   "outputs": [
    {
     "data": {
      "text/plain": [
       "array([[0, 1],\n",
       "       [0, 0],\n",
       "       [0, 0],\n",
       "       ...,\n",
       "       [0, 1],\n",
       "       [0, 1],\n",
       "       [0, 0]], dtype=uint8)"
      ]
     },
     "execution_count": 179,
     "metadata": {},
     "output_type": "execute_result"
    }
   ],
   "source": [
    "ZZI_measurements = cirq.sim.sample_state_vector(\n",
    "    state_vector= measure_ZZI_statevector,\n",
    "    indices=[0,1],\n",
    "    repetitions=N_shots\n",
    "    )\n",
    "ZZI_measurements"
   ]
  },
  {
   "cell_type": "code",
   "execution_count": null,
   "metadata": {},
   "outputs": [],
   "source": []
  },
  {
   "cell_type": "code",
   "execution_count": 180,
   "metadata": {},
   "outputs": [
    {
     "data": {
      "text/plain": [
       "[0.1 [X0 Z1 Z2], 0.3 [X0 X2], 0.1 [Z0 Z1]]"
      ]
     },
     "execution_count": 180,
     "metadata": {},
     "output_type": "execute_result"
    }
   ],
   "source": [
    "H_list = list(H)\n",
    "H_list"
   ]
  },
  {
   "cell_type": "code",
   "execution_count": 181,
   "metadata": {},
   "outputs": [
    {
     "data": {
      "text/plain": [
       "[0.1 [X0 Z1 Z2], 0.3 [X0 X2], 0.1 [Z0 Z1]]"
      ]
     },
     "execution_count": 181,
     "metadata": {},
     "output_type": "execute_result"
    }
   ],
   "source": [
    "combined_measurements = [XZZ_measurements, XIX_measurements, ZZI_measurements]\n",
    "\n",
    "parity_results =[]\n",
    "for res in combined_measurements:\n",
    "    sum_rows = np.sum(res, axis=1)%2\n",
    "    parity_results.append(sum_rows)\n",
    "H_list"
   ]
  },
  {
   "cell_type": "code",
   "execution_count": null,
   "metadata": {},
   "outputs": [],
   "source": []
  },
  {
   "cell_type": "code",
   "execution_count": 182,
   "metadata": {},
   "outputs": [],
   "source": [
    "H_exp_results=[]\n",
    "for res_ind in range(N_shots):\n",
    "    H_exp_val=0\n",
    "    for ind, Pword in enumerate(H_list):\n",
    "        P_word, coeff = tuple(*Pword.terms.items())\n",
    "        \n",
    "        parity_instance = parity_results[ind][res_ind]\n",
    "        if parity_instance==0:\n",
    "            H_exp_val+=coeff*+1\n",
    "        else:\n",
    "            H_exp_val+=coeff*-1\n",
    "    H_exp_results.append(H_exp_val)\n",
    "            "
   ]
  },
  {
   "cell_type": "code",
   "execution_count": 200,
   "metadata": {},
   "outputs": [
    {
     "data": {
      "text/plain": [
       "Counter({-0.5: 125330,\n",
       "         -0.30000000000000004: 124529,\n",
       "         -0.09999999999999998: 125422,\n",
       "         0.30000000000000004: 124783,\n",
       "         -0.3: 125356,\n",
       "         0.5: 125198,\n",
       "         0.09999999999999998: 124938,\n",
       "         0.3: 124444})"
      ]
     },
     "execution_count": 200,
     "metadata": {},
     "output_type": "execute_result"
    }
   ],
   "source": [
    "from collections import Counter\n",
    "\n",
    "result_counted = Counter(H_exp_results)\n",
    "\n",
    "## numerical accuracy means some terms are the same but not added!\n",
    "result_counted       "
   ]
  },
  {
   "cell_type": "code",
   "execution_count": 204,
   "metadata": {},
   "outputs": [
    {
     "data": {
      "text/plain": [
       "{-0.30000000000000004: -0.3, 0.30000000000000004: 0.3}"
      ]
     },
     "execution_count": 204,
     "metadata": {},
     "output_type": "execute_result"
    }
   ],
   "source": [
    "conv_dict = {}\n",
    "\n",
    "list_keys = list(result_counted.keys())\n",
    "for i, key in enumerate(list_keys):\n",
    "    for j in range(i, len(list_keys)):\n",
    "        k = list_keys[j]\n",
    "        if key == k:\n",
    "            continue\n",
    "        else:\n",
    "            if np.isclose(key, k):\n",
    "                conv_dict[key]=k\n",
    "conv_dict"
   ]
  },
  {
   "cell_type": "code",
   "execution_count": 236,
   "metadata": {},
   "outputs": [
    {
     "data": {
      "text/plain": [
       "{-0.5: 125330,\n",
       " -0.3: 249885,\n",
       " -0.09999999999999998: 125422,\n",
       " 0.3: 249227,\n",
       " 0.5: 125198,\n",
       " 0.09999999999999998: 124938}"
      ]
     },
     "execution_count": 236,
     "metadata": {},
     "output_type": "execute_result"
    }
   ],
   "source": [
    "corrected_counter = {}\n",
    "for key in result_counted.keys():\n",
    "    if key in conv_dict.keys():\n",
    "        new_key = conv_dict[key]\n",
    "        val = result_counted[key]\n",
    "        corrected_counter[new_key] = result_counted[key]\n",
    "    else:\n",
    "        corrected_counter[key] = corrected_counter.get(key, 0) + result_counted[key]\n",
    "corrected_counter"
   ]
  },
  {
   "cell_type": "code",
   "execution_count": 243,
   "metadata": {},
   "outputs": [],
   "source": [
    "results_sorted = sorted(list(corrected_counter.items()), key= lambda x: x[0])\n",
    "X, Y = zip(*results_sorted)"
   ]
  },
  {
   "cell_type": "code",
   "execution_count": null,
   "metadata": {},
   "outputs": [],
   "source": []
  },
  {
   "cell_type": "code",
   "execution_count": 244,
   "metadata": {},
   "outputs": [
    {
     "data": {
      "image/png": "[encoded data removed]",
      "text/plain": [
       "<Figure size 432x288 with 1 Axes>"
      ]
     },
     "metadata": {
      "needs_background": "light"
     },
     "output_type": "display_data"
    }
   ],
   "source": [
    "import matplotlib.pyplot as plt\n",
    "%matplotlib inline\n",
    "\n",
    "plt.scatter(X, Y)\n",
    "plt.show()"
   ]
  },
  {
   "cell_type": "code",
   "execution_count": null,
   "metadata": {},
   "outputs": [],
   "source": []
  },
  {
   "cell_type": "code",
   "execution_count": 118,
   "metadata": {},
   "outputs": [],
   "source": [
    "def Get_meas_prob(measurement_array):\n",
    "    \n",
    "    N_shots = measurement_array.shape[0]\n",
    "    \n",
    "    sum_rows = np.sum(measurement_array, axis=1)%2\n",
    "\n",
    "    number_ones = sum(sum_rows)\n",
    "    number_zeros = N_shots - number_ones\n",
    "    \n",
    "    exp_dict = {-1: number_ones/N_shots, +1: number_zeros/N_shots}\n",
    "    \n",
    "    return exp_dict"
   ]
  },
  {
   "cell_type": "code",
   "execution_count": 187,
   "metadata": {},
   "outputs": [],
   "source": [
    "XZZ_dict = Get_meas_prob(XZZ_measurements)\n",
    "XIX_dict = Get_meas_prob(XIX_measurements)\n",
    "ZZI_dict = Get_meas_prob(ZZI_measurements)"
   ]
  },
  {
   "cell_type": "code",
   "execution_count": null,
   "metadata": {},
   "outputs": [],
   "source": []
  },
  {
   "cell_type": "code",
   "execution_count": null,
   "metadata": {},
   "outputs": [],
   "source": []
  },
  {
   "cell_type": "code",
   "execution_count": 290,
   "metadata": {},
   "outputs": [
    {
     "data": {
      "text/html": [
       "<pre style=\"overflow: auto; white-space: pre;\">0: ───I───Rx(0.5π)───@────────────────@───Rx(-0.5π)───Rx(0.5π)───@────────────────────────@───Rx(-0.5π)───M───\n",
       "                     │                │                          │                        │               │\n",
       "1: ───H──────────────┼────────────────┼──────────────────────────X───@────────────────@───X───────────────M───\n",
       "                     │                │                              │                │\n",
       "2: ───I──────────────X───Rz(-0.25π)───X───H──────────────────────────X───Rz(-0.36π)───X───H───────────────────</pre>"
      ],
      "text/plain": [
       "0: ───I───Rx(0.5π)───@────────────────@───Rx(-0.5π)───Rx(0.5π)───@────────────────────────@───Rx(-0.5π)───M───\n",
       "                     │                │                          │                        │               │\n",
       "1: ───H──────────────┼────────────────┼──────────────────────────X───@────────────────@───X───────────────M───\n",
       "                     │                │                              │                │\n",
       "2: ───I──────────────X───Rz(-0.25π)───X───H──────────────────────────X───Rz(-0.36π)───X───H───────────────────"
      ]
     },
     "execution_count": 290,
     "metadata": {},
     "output_type": "execute_result"
    }
   ],
   "source": [
    "from quchem.Unitary_Partitioning.Seq_Rot_circuit_functions import Full_SeqRot_Rl_Circuit\n",
    "\n",
    "S_index=2\n",
    "check_reduction_lin_alg = True\n",
    "AC_set = anti_commuting_sets[0]\n",
    "\n",
    "full_circuit, Ps, gamma_l = Full_SeqRot_Rl_Circuit(ansatz_circuit,\n",
    "                                                   AC_set,\n",
    "                                                   S_index,\n",
    "                                                   N_qubits,\n",
    "                                                   check_reduction_lin_alg=check_reduction_lin_alg)\n",
    "full_circuit"
   ]
  },
  {
   "cell_type": "code",
   "execution_count": 291,
   "metadata": {},
   "outputs": [
    {
     "data": {
      "text/plain": [
       "1 [Z0 Z1]"
      ]
     },
     "execution_count": 291,
     "metadata": {},
     "output_type": "execute_result"
    }
   ],
   "source": [
    "Ps"
   ]
  },
  {
   "cell_type": "code",
   "execution_count": 292,
   "metadata": {},
   "outputs": [
    {
     "data": {
      "text/plain": [
       "(0, 1)"
      ]
     },
     "execution_count": 292,
     "metadata": {},
     "output_type": "execute_result"
    }
   ],
   "source": [
    "Ps_word, coeff = tuple(*Ps.terms.items())\n",
    "Ps_QNo, PS_Pstr = zip(*P_word)\n",
    "Ps_QNo"
   ]
  },
  {
   "cell_type": "code",
   "execution_count": 302,
   "metadata": {},
   "outputs": [
    {
     "data": {
      "text/plain": [
       "array([[1, 0],\n",
       "       [0, 1],\n",
       "       [1, 1],\n",
       "       ...,\n",
       "       [0, 0],\n",
       "       [0, 0],\n",
       "       [0, 1]], dtype=uint8)"
      ]
     },
     "execution_count": 302,
     "metadata": {},
     "output_type": "execute_result"
    }
   ],
   "source": [
    "final_state = full_circuit.final_state_vector(ignore_terminal_measurements=True)\n",
    "\n",
    "Ps_measurements = cirq.sim.sample_state_vector(\n",
    "    state_vector= final_state,\n",
    "    indices=Ps_QNo,\n",
    "    repetitions=N_shots\n",
    "    )\n",
    "Ps_measurements"
   ]
  },
  {
   "cell_type": "code",
   "execution_count": null,
   "metadata": {},
   "outputs": [],
   "source": []
  },
  {
   "cell_type": "code",
   "execution_count": 305,
   "metadata": {},
   "outputs": [],
   "source": [
    "parity_results_Ps  = np.sum(Ps_measurements, axis=1)%2\n",
    "\n",
    "H_exp_UP = [1*gamma_l if res ==0 else -1*gamma_l for res in parity_results_Ps]\n",
    "result_counted_UP = Counter(H_exp_UP)\n",
    "\n",
    "\n",
    "results_sorted_UP = sorted(list(result_counted_UP.items()), key= lambda x: x[0])\n",
    "X_UP, Y_UP = zip(*results_sorted_UP)"
   ]
  },
  {
   "cell_type": "code",
   "execution_count": 309,
   "metadata": {},
   "outputs": [
    {
     "data": {
      "text/plain": [
       "(500075, 499925)"
      ]
     },
     "execution_count": 309,
     "metadata": {},
     "output_type": "execute_result"
    }
   ],
   "source": [
    "Y_UP"
   ]
  },
  {
   "cell_type": "code",
   "execution_count": 310,
   "metadata": {},
   "outputs": [
    {
     "data": {
      "image/png": "[encoded data removed]",
      "text/plain": [
       "<Figure size 432x288 with 1 Axes>"
      ]
     },
     "metadata": {
      "needs_background": "light"
     },
     "output_type": "display_data"
    }
   ],
   "source": [
    "import matplotlib.pyplot as plt\n",
    "%matplotlib inline\n",
    "\n",
    "plt.scatter(X_UP, Y_UP)\n",
    "plt.show()"
   ]
  },
  {
   "cell_type": "code",
   "execution_count": null,
   "metadata": {},
   "outputs": [],
   "source": []
  },
  {
   "cell_type": "code",
   "execution_count": 311,
   "metadata": {},
   "outputs": [
    {
     "data": {
      "image/png": "[encoded data removed]",
      "text/plain": [
       "<Figure size 432x288 with 1 Axes>"
      ]
     },
     "metadata": {
      "needs_background": "light"
     },
     "output_type": "display_data"
    }
   ],
   "source": [
    "%matplotlib inline\n",
    "\n",
    "plt.plot()\n",
    "plt.plot(X, Y, color = 'red')\n",
    "plt.scatter(X_UP, Y_UP, color = 'blue')\n",
    "plt.show()"
   ]
  },
  {
   "cell_type": "code",
   "execution_count": 312,
   "metadata": {},
   "outputs": [
    {
     "data": {
      "text/plain": [
       "0j"
      ]
     },
     "execution_count": 312,
     "metadata": {},
     "output_type": "execute_result"
    }
   ],
   "source": [
    "from openfermion import get_sparse_operator\n",
    "\n",
    "psi = ansatz_circuit.final_state_vector()\n",
    "rho = np.outer(psi, psi)\n",
    "\n",
    "H_mat = get_sparse_operator(H).todense()\n",
    "\n",
    "np.einsum('ij,ij', rho, H_mat)"
   ]
  },
  {
   "cell_type": "code",
   "execution_count": 313,
   "metadata": {},
   "outputs": [
    {
     "data": {
      "text/plain": [
       "0j"
      ]
     },
     "execution_count": 313,
     "metadata": {},
     "output_type": "execute_result"
    }
   ],
   "source": [
    "np.trace(H_mat.dot(rho))"
   ]
  },
  {
   "cell_type": "code",
   "execution_count": 317,
   "metadata": {},
   "outputs": [
    {
     "data": {
      "text/plain": [
       "-4.974937185533106"
      ]
     },
     "execution_count": 317,
     "metadata": {},
     "output_type": "execute_result"
    }
   ],
   "source": [
    "np.mean(H_exp_UP)"
   ]
  },
  {
   "cell_type": "code",
   "execution_count": 318,
   "metadata": {},
   "outputs": [
    {
     "data": {
      "text/plain": [
       "-0.0003118000000000002"
      ]
     },
     "execution_count": 318,
     "metadata": {},
     "output_type": "execute_result"
    }
   ],
   "source": [
    "np.mean(H_exp_results)"
   ]
  }
 ],
 "metadata": {
  "kernelspec": {
   "display_name": "Python 3",
   "language": "python",
   "name": "python3"
  },
  "language_info": {
   "codemirror_mode": {
    "name": "ipython",
    "version": 3
   },
   "file_extension": ".py",
   "mimetype": "text/x-python",
   "name": "python",
   "nbconvert_exporter": "python",
   "pygments_lexer": "ipython3",
   "version": "3.8.5"
  }
 },
 "nbformat": 4,
 "nbformat_minor": 4
}
