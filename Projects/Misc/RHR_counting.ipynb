{
 "cells": [
  {
   "cell_type": "code",
   "execution_count": 1,
   "metadata": {},
   "outputs": [],
   "source": [
    "from openfermion import hermitian_conjugated, QubitOperator"
   ]
  },
  {
   "cell_type": "code",
   "execution_count": 2,
   "metadata": {},
   "outputs": [
    {
     "data": {
      "text/plain": [
       "0.7250957503591403 [] +\n",
       "0.6850066491388216j [Y0 X2] +\n",
       "0.054241956789800254j [Z0 Y1] +\n",
       "0.035531648304549975j [X1 Y2] +\n",
       "-0.02823748464530462j [Z1 Y2]"
      ]
     },
     "execution_count": 2,
     "metadata": {},
     "output_type": "execute_result"
    }
   ],
   "source": [
    "R=QubitOperator('0.7250957503591403 [] +\\n0.6850066491388216j [Y0 X2] +\\n0.054241956789800254j [Z0 Y1] +\\n0.035531648304549975j [X1 Y2] +\\n-0.02823748464530462j [Z1 Y2]')\n",
    "R"
   ]
  },
  {
   "cell_type": "code",
   "execution_count": 3,
   "metadata": {},
   "outputs": [
    {
     "name": "stdout",
     "output_type": "stream",
     "text": [
      "4\n",
      "5\n",
      "36\n"
     ]
    }
   ],
   "source": [
    "R_dag = hermitian_conjugated(R)\n",
    "\n",
    "H_test = QubitOperator('Z1 Z2') + QubitOperator('Z0 Z2') + QubitOperator('X0 X2') + QubitOperator('Y0 Y1 Y2')  \n",
    "\n",
    "new = R*H_test*R_dag\n",
    "\n",
    "\n",
    "print(len(list(H_test)))\n",
    "print(len(list(R)))\n",
    "print(len(list(new)))"
   ]
  },
  {
   "cell_type": "code",
   "execution_count": 4,
   "metadata": {},
   "outputs": [
    {
     "data": {
      "text/plain": [
       "44"
      ]
     },
     "execution_count": 4,
     "metadata": {},
     "output_type": "execute_result"
    }
   ],
   "source": [
    "H_size = len(list(H_test))\n",
    "R_size = len(list(R))\n",
    "I_term = H_size\n",
    "\n",
    "# exclude I term in R\n",
    "equal_term = (R_size-1)*(H_size)\n",
    "\n",
    "remaining =  (R_size-1)*(H_size)*(R_size-1)\n",
    "\n",
    "# equal_term + I_term\n",
    "remaining - I_term - equal_term"
   ]
  },
  {
   "cell_type": "code",
   "execution_count": 5,
   "metadata": {},
   "outputs": [
    {
     "data": {
      "text/plain": [
       "25"
      ]
     },
     "execution_count": 5,
     "metadata": {},
     "output_type": "execute_result"
    }
   ],
   "source": [
    "max_poss = len(list(R))*len(list(H_test))*len(list(R))\n",
    "reduced = len(list(R))*(len(list(H_test))-1)*len(list(R))\n",
    "max_poss - reduced"
   ]
  }
 ],
 "metadata": {
  "kernelspec": {
   "display_name": "Python 3",
   "language": "python",
   "name": "python3"
  },
  "language_info": {
   "codemirror_mode": {
    "name": "ipython",
    "version": 3
   },
   "file_extension": ".py",
   "mimetype": "text/x-python",
   "name": "python",
   "nbconvert_exporter": "python",
   "pygments_lexer": "ipython3",
   "version": "3.8.5"
  }
 },
 "nbformat": 4,
 "nbformat_minor": 4
}
