{
 "cells": [
  {
   "cell_type": "code",
   "execution_count": null,
   "metadata": {},
   "outputs": [],
   "source": []
  },
  {
   "cell_type": "code",
   "execution_count": 136,
   "metadata": {},
   "outputs": [
    {
     "data": {
      "text/plain": [
       "4"
      ]
     },
     "execution_count": 136,
     "metadata": {},
     "output_type": "execute_result"
    }
   ],
   "source": [
    "from quchem.Hamiltonian_PySCF import *\n",
    "from quchem.Graph import *\n",
    "### HAMILTONIAN start\n",
    "Molecule = 'H2'\n",
    "geometry = None # [('H', (0., 0., 0.)), ('H', (0., 0., 0.74))]\n",
    "# basis = 'cc-pvtz'\n",
    "basis = 'STO-3G'\n",
    "\n",
    "\n",
    "### Get Hamiltonian\n",
    "Hamilt = Hamiltonian(Molecule,\n",
    "                     run_scf=1, run_mp2=1, run_cisd=1, run_ccsd=1, run_fci=1,\n",
    "                     basis=basis,\n",
    "                     multiplicity=1,\n",
    "                     geometry=geometry)  # normally None!\n",
    "\n",
    "QubitHamiltonian = Hamilt.Get_Qubit_Hamiltonian(threshold=None, transformation='BK')\n",
    "\n",
    "# # if basis = 'cc-pvtz' \n",
    "# Hamilt.Run_PySCF()\n",
    "Hamilt.molecule.n_qubits"
   ]
  },
  {
   "cell_type": "code",
   "execution_count": 137,
   "metadata": {},
   "outputs": [
    {
     "data": {
      "text/plain": [
       "(-0.32760818967480887+0j) [] +\n",
       "(0.049197645871367594+0j) [X0 Z1 X2] +\n",
       "(0.049197645871367594+0j) [X0 Z1 X2 Z3] +\n",
       "(0.049197645871367594+0j) [Y0 Z1 Y2] +\n",
       "(0.049197645871367594+0j) [Y0 Z1 Y2 Z3] +\n",
       "(0.13716572937099492+0j) [Z0] +\n",
       "(0.13716572937099492+0j) [Z0 Z1] +\n",
       "(0.15542669077992843+0j) [Z0 Z1 Z2] +\n",
       "(0.15542669077992843+0j) [Z0 Z1 Z2 Z3] +\n",
       "(0.10622904490856086+0j) [Z0 Z2] +\n",
       "(0.10622904490856086+0j) [Z0 Z2 Z3] +\n",
       "(0.15660062488237958+0j) [Z1] +\n",
       "(-0.13036292057109136+0j) [Z1 Z2 Z3] +\n",
       "(0.16326768673564357+0j) [Z1 Z3] +\n",
       "(-0.1303629205710914+0j) [Z2]"
      ]
     },
     "execution_count": 137,
     "metadata": {},
     "output_type": "execute_result"
    }
   ],
   "source": [
    "QubitHamiltonian"
   ]
  },
  {
   "cell_type": "code",
   "execution_count": 78,
   "metadata": {},
   "outputs": [],
   "source": [
    "F_Ham = Hamilt.Get_Fermionic_Hamiltonian()"
   ]
  },
  {
   "cell_type": "code",
   "execution_count": 79,
   "metadata": {},
   "outputs": [
    {
     "data": {
      "text/plain": [
       "(-0.32760818967480887+0j) [] +\n",
       "(0.049197645871367594+0j) [X0 Z1 X2] +\n",
       "(0.049197645871367594+0j) [X0 Z1 X2 Z3] +\n",
       "(0.049197645871367594+0j) [Y0 Z1 Y2] +\n",
       "(0.049197645871367594+0j) [Y0 Z1 Y2 Z3] +\n",
       "(0.13716572937099492+0j) [Z0] +\n",
       "(0.13716572937099492+0j) [Z0 Z1] +\n",
       "(0.15542669077992843+0j) [Z0 Z1 Z2] +\n",
       "(0.15542669077992843+0j) [Z0 Z1 Z2 Z3] +\n",
       "(0.10622904490856086+0j) [Z0 Z2] +\n",
       "(0.10622904490856086+0j) [Z0 Z2 Z3] +\n",
       "(0.15660062488237958+0j) [Z1] +\n",
       "(-0.13036292057109136+0j) [Z1 Z2 Z3] +\n",
       "(0.16326768673564357+0j) [Z1 Z3] +\n",
       "(-0.1303629205710914+0j) [Z2]"
      ]
     },
     "execution_count": 79,
     "metadata": {},
     "output_type": "execute_result"
    }
   ],
   "source": [
    "from openfermion.transforms import bravyi_kitaev\n",
    "Hello = bravyi_kitaev(F_Ham)\n",
    "Hello"
   ]
  },
  {
   "cell_type": "code",
   "execution_count": 80,
   "metadata": {},
   "outputs": [],
   "source": [
    "Hamilt.Get_CCSD_Amplitudes()"
   ]
  },
  {
   "cell_type": "code",
   "execution_count": 81,
   "metadata": {},
   "outputs": [
    {
     "data": {
      "text/plain": [
       "0.52917721092 [] +\n",
       "-1.1108441798837276 [0^ 0] +\n",
       "0.31320124976475916 [0^ 0^ 0 0] +\n",
       "0.09839529174273517 [0^ 0^ 2 2] +\n",
       "0.31320124976475916 [0^ 1^ 1 0] +\n",
       "0.09839529174273517 [0^ 1^ 3 2] +\n",
       "0.09839529174273517 [0^ 2^ 0 2] +\n",
       "0.31085338155985687 [0^ 2^ 2 0] +\n",
       "0.09839529174273517 [0^ 3^ 1 2] +\n",
       "0.31085338155985687 [0^ 3^ 3 0] +\n",
       "0.31320124976475916 [1^ 0^ 0 1] +\n",
       "0.09839529174273517 [1^ 0^ 2 3] +\n",
       "-1.1108441798837276 [1^ 1] +\n",
       "0.31320124976475916 [1^ 1^ 1 1] +\n",
       "0.09839529174273517 [1^ 1^ 3 3] +\n",
       "0.09839529174273517 [1^ 2^ 0 3] +\n",
       "0.31085338155985687 [1^ 2^ 2 1] +\n",
       "0.09839529174273517 [1^ 3^ 1 3] +\n",
       "0.31085338155985687 [1^ 3^ 3 1] +\n",
       "0.3108533815598569 [2^ 0^ 0 2] +\n",
       "0.09839529174273517 [2^ 0^ 2 0] +\n",
       "0.3108533815598569 [2^ 1^ 1 2] +\n",
       "0.09839529174273517 [2^ 1^ 3 0] +\n",
       "-0.589121003706083 [2^ 2] +\n",
       "0.09839529174273517 [2^ 2^ 0 0] +\n",
       "0.32653537347128714 [2^ 2^ 2 2] +\n",
       "0.09839529174273517 [2^ 3^ 1 0] +\n",
       "0.32653537347128714 [2^ 3^ 3 2] +\n",
       "0.3108533815598569 [3^ 0^ 0 3] +\n",
       "0.09839529174273517 [3^ 0^ 2 1] +\n",
       "0.3108533815598569 [3^ 1^ 1 3] +\n",
       "0.09839529174273517 [3^ 1^ 3 1] +\n",
       "0.09839529174273517 [3^ 2^ 0 1] +\n",
       "0.32653537347128714 [3^ 2^ 2 3] +\n",
       "-0.589121003706083 [3^ 3] +\n",
       "0.09839529174273517 [3^ 3^ 1 1] +\n",
       "0.32653537347128714 [3^ 3^ 3 3]"
      ]
     },
     "execution_count": 81,
     "metadata": {},
     "output_type": "execute_result"
    }
   ],
   "source": [
    "F_Ham"
   ]
  },
  {
   "cell_type": "code",
   "execution_count": 82,
   "metadata": {},
   "outputs": [],
   "source": [
    "def Convert_fermion_Operator(HAMILTONIAN, n_orbitals):\n",
    "    from openfermion.ops._fermion_operator import  FermionOperator\n",
    "    \n",
    "    odd_adding_term = int(n_orbitals/ 2)\n",
    "    \n",
    "    new_Ham = FermionOperator()    \n",
    "    for term in HAMILTONIAN:\n",
    "        for Op, const in term.terms.items():\n",
    "\n",
    "            if Op == ():\n",
    "                new_Ham += term\n",
    "            else:\n",
    "                indices, creat_ann_indices = zip(*Op)\n",
    "\n",
    "                new_indices=[]\n",
    "                for i in indices:\n",
    "                    if i%2:\n",
    "                        new_index = int((i-1)/2 + odd_adding_term)\n",
    "                    else:\n",
    "                        new_index = int(i/2)\n",
    "                    new_indices.append(new_index)\n",
    "\n",
    "                new_Op = (FermionOperator(list(zip(new_indices, creat_ann_indices)), const))\n",
    "                new_Ham += new_Op\n",
    "    return new_Ham"
   ]
  },
  {
   "cell_type": "code",
   "execution_count": null,
   "metadata": {},
   "outputs": [],
   "source": [
    "F_Ham"
   ]
  },
  {
   "cell_type": "code",
   "execution_count": 124,
   "metadata": {},
   "outputs": [
    {
     "data": {
      "text/plain": [
       "0.52917721092 [] +\n",
       "-1.1108441798837276 [0^ 0] +\n",
       "0.31320124976475916 [0^ 0^ 0 0] +\n",
       "0.09839529174273517 [0^ 0^ 2 2] +\n",
       "0.31320124976475916 [0^ 1^ 1 0] +\n",
       "0.09839529174273517 [0^ 1^ 3 2] +\n",
       "0.09839529174273517 [0^ 2^ 0 2] +\n",
       "0.31085338155985687 [0^ 2^ 2 0] +\n",
       "0.09839529174273517 [0^ 3^ 1 2] +\n",
       "0.31085338155985687 [0^ 3^ 3 0] +\n",
       "0.31320124976475916 [1^ 0^ 0 1] +\n",
       "0.09839529174273517 [1^ 0^ 2 3] +\n",
       "-1.1108441798837276 [1^ 1] +\n",
       "0.31320124976475916 [1^ 1^ 1 1] +\n",
       "0.09839529174273517 [1^ 1^ 3 3] +\n",
       "0.09839529174273517 [1^ 2^ 0 3] +\n",
       "0.31085338155985687 [1^ 2^ 2 1] +\n",
       "0.09839529174273517 [1^ 3^ 1 3] +\n",
       "0.31085338155985687 [1^ 3^ 3 1] +\n",
       "0.3108533815598569 [2^ 0^ 0 2] +\n",
       "0.09839529174273517 [2^ 0^ 2 0] +\n",
       "0.3108533815598569 [2^ 1^ 1 2] +\n",
       "0.09839529174273517 [2^ 1^ 3 0] +\n",
       "-0.589121003706083 [2^ 2] +\n",
       "0.09839529174273517 [2^ 2^ 0 0] +\n",
       "0.32653537347128714 [2^ 2^ 2 2] +\n",
       "0.09839529174273517 [2^ 3^ 1 0] +\n",
       "0.32653537347128714 [2^ 3^ 3 2] +\n",
       "0.3108533815598569 [3^ 0^ 0 3] +\n",
       "0.09839529174273517 [3^ 0^ 2 1] +\n",
       "0.3108533815598569 [3^ 1^ 1 3] +\n",
       "0.09839529174273517 [3^ 1^ 3 1] +\n",
       "0.09839529174273517 [3^ 2^ 0 1] +\n",
       "0.32653537347128714 [3^ 2^ 2 3] +\n",
       "-0.589121003706083 [3^ 3] +\n",
       "0.09839529174273517 [3^ 3^ 1 1] +\n",
       "0.32653537347128714 [3^ 3^ 3 3]"
      ]
     },
     "execution_count": 124,
     "metadata": {},
     "output_type": "execute_result"
    }
   ],
   "source": [
    "F_Ham"
   ]
  },
  {
   "cell_type": "code",
   "execution_count": 125,
   "metadata": {
    "scrolled": true
   },
   "outputs": [
    {
     "data": {
      "text/plain": [
       "0.52917721092 [] +\n",
       "-1.1108441798837276 [0^ 0] +\n",
       "0.31320124976475916 [0^ 0^ 0 0] +\n",
       "0.09839529174273517 [0^ 0^ 1 1] +\n",
       "0.09839529174273517 [0^ 1^ 0 1] +\n",
       "0.31085338155985687 [0^ 1^ 1 0] +\n",
       "0.31320124976475916 [0^ 2^ 2 0] +\n",
       "0.09839529174273517 [0^ 2^ 3 1] +\n",
       "0.09839529174273517 [0^ 3^ 2 1] +\n",
       "0.31085338155985687 [0^ 3^ 3 0] +\n",
       "0.3108533815598569 [1^ 0^ 0 1] +\n",
       "0.09839529174273517 [1^ 0^ 1 0] +\n",
       "-0.589121003706083 [1^ 1] +\n",
       "0.09839529174273517 [1^ 1^ 0 0] +\n",
       "0.32653537347128714 [1^ 1^ 1 1] +\n",
       "0.3108533815598569 [1^ 2^ 2 1] +\n",
       "0.09839529174273517 [1^ 2^ 3 0] +\n",
       "0.09839529174273517 [1^ 3^ 2 0] +\n",
       "0.32653537347128714 [1^ 3^ 3 1] +\n",
       "0.31320124976475916 [2^ 0^ 0 2] +\n",
       "0.09839529174273517 [2^ 0^ 1 3] +\n",
       "0.09839529174273517 [2^ 1^ 0 3] +\n",
       "0.31085338155985687 [2^ 1^ 1 2] +\n",
       "-1.1108441798837276 [2^ 2] +\n",
       "0.31320124976475916 [2^ 2^ 2 2] +\n",
       "0.09839529174273517 [2^ 2^ 3 3] +\n",
       "0.09839529174273517 [2^ 3^ 2 3] +\n",
       "0.31085338155985687 [2^ 3^ 3 2] +\n",
       "0.3108533815598569 [3^ 0^ 0 3] +\n",
       "0.09839529174273517 [3^ 0^ 1 2] +\n",
       "0.09839529174273517 [3^ 1^ 0 2] +\n",
       "0.32653537347128714 [3^ 1^ 1 3] +\n",
       "0.3108533815598569 [3^ 2^ 2 3] +\n",
       "0.09839529174273517 [3^ 2^ 3 2] +\n",
       "-0.589121003706083 [3^ 3] +\n",
       "0.09839529174273517 [3^ 3^ 2 2] +\n",
       "0.32653537347128714 [3^ 3^ 3 3]"
      ]
     },
     "execution_count": 125,
     "metadata": {},
     "output_type": "execute_result"
    }
   ],
   "source": [
    "Convert_fermion_Operator(F_Ham, Hamilt.molecule.n_qubits)"
   ]
  },
  {
   "cell_type": "code",
   "execution_count": 126,
   "metadata": {},
   "outputs": [
    {
     "data": {
      "text/plain": [
       "(-0.32760818967480887+0j) [] +\n",
       "(-0.049197645871367594+0j) [X0 Z1 X2] +\n",
       "(-0.049197645871367594+0j) [X0 Z1 X2 Z3] +\n",
       "(0.049197645871367594+0j) [X0 X2] +\n",
       "(0.049197645871367594+0j) [X0 X2 Z3] +\n",
       "(0.13716572937099492+0j) [Z0] +\n",
       "(-0.1303629205710914+0j) [Z0 Z1] +\n",
       "(0.15542669077992843+0j) [Z0 Z1 Z2] +\n",
       "(0.15542669077992843+0j) [Z0 Z1 Z2 Z3] +\n",
       "(0.15660062488237958+0j) [Z0 Z2] +\n",
       "(0.16326768673564357+0j) [Z0 Z2 Z3] +\n",
       "(0.10622904490856086+0j) [Z1] +\n",
       "(-0.13036292057109136+0j) [Z1 Z2 Z3] +\n",
       "(0.10622904490856086+0j) [Z1 Z3] +\n",
       "(0.13716572937099492+0j) [Z2]"
      ]
     },
     "execution_count": 126,
     "metadata": {},
     "output_type": "execute_result"
    }
   ],
   "source": [
    "from openfermion.transforms import bravyi_kitaev\n",
    "bravyi_kitaev(Convert_fermion_Operator(F_Ham, Hamilt.molecule.n_qubits))"
   ]
  },
  {
   "cell_type": "code",
   "execution_count": 92,
   "metadata": {},
   "outputs": [
    {
     "data": {
      "text/plain": [
       "(-0.32760818967480887+0j) [] +\n",
       "(0.049197645871367594+0j) [X0 Z1 X2] +\n",
       "(0.049197645871367594+0j) [X0 Z1 X2 Z3] +\n",
       "(0.049197645871367594+0j) [Y0 Z1 Y2] +\n",
       "(0.049197645871367594+0j) [Y0 Z1 Y2 Z3] +\n",
       "(0.13716572937099492+0j) [Z0] +\n",
       "(0.13716572937099492+0j) [Z0 Z1] +\n",
       "(0.15542669077992843+0j) [Z0 Z1 Z2] +\n",
       "(0.15542669077992843+0j) [Z0 Z1 Z2 Z3] +\n",
       "(0.10622904490856086+0j) [Z0 Z2] +\n",
       "(0.10622904490856086+0j) [Z0 Z2 Z3] +\n",
       "(0.15660062488237958+0j) [Z1] +\n",
       "(-0.13036292057109136+0j) [Z1 Z2 Z3] +\n",
       "(0.16326768673564357+0j) [Z1 Z3] +\n",
       "(-0.1303629205710914+0j) [Z2]"
      ]
     },
     "execution_count": 92,
     "metadata": {},
     "output_type": "execute_result"
    }
   ],
   "source": [
    "bravyi_kitaev(F_Ham)"
   ]
  },
  {
   "cell_type": "code",
   "execution_count": 127,
   "metadata": {},
   "outputs": [
    {
     "name": "stdout",
     "output_type": "stream",
     "text": [
      "tree method\n"
     ]
    },
    {
     "data": {
      "text/plain": [
       "(-0.32760818967480887+0j) [] +\n",
       "(-0.049197645871367594+0j) [X0 Z1 X2] +\n",
       "(-0.049197645871367594+0j) [X0 Z1 X2 Z3] +\n",
       "(0.049197645871367594+0j) [X0 X2] +\n",
       "(0.049197645871367594+0j) [X0 X2 Z3] +\n",
       "(0.13716572937099492+0j) [Z0] +\n",
       "(-0.1303629205710914+0j) [Z0 Z1] +\n",
       "(0.15542669077992843+0j) [Z0 Z1 Z2] +\n",
       "(0.15542669077992843+0j) [Z0 Z1 Z2 Z3] +\n",
       "(0.15660062488237958+0j) [Z0 Z2] +\n",
       "(0.16326768673564357+0j) [Z0 Z2 Z3] +\n",
       "(0.10622904490856086+0j) [Z1] +\n",
       "(-0.13036292057109136+0j) [Z1 Z2 Z3] +\n",
       "(0.10622904490856086+0j) [Z1 Z3] +\n",
       "(0.13716572937099492+0j) [Z2]"
      ]
     },
     "execution_count": 127,
     "metadata": {},
     "output_type": "execute_result"
    }
   ],
   "source": [
    "print('tree method')\n",
    "from openfermion.transforms import bravyi_kitaev_tree\n",
    "bravyi_kitaev_tree(Convert_fermion_Operator(F_Ham, Hamilt.molecule.n_qubits))"
   ]
  },
  {
   "cell_type": "code",
   "execution_count": 128,
   "metadata": {},
   "outputs": [
    {
     "name": "stdout",
     "output_type": "stream",
     "text": [
      "(-0.13036292057109136+0j) [Z1 Z2 Z3] --> ((2, 'Z'),)\n",
      "(0.049197645871367594+0j) [X0 X2 Z3] --> ((0, 'X'), (2, 'X'))\n",
      "(-0.049197645871367594+0j) [X0 Z1 X2 Z3] --> ((0, 'X'), (2, 'X'))\n",
      "(0.15542669077992843+0j) [Z0 Z1 Z2 Z3] --> ((0, 'Z'), (2, 'Z'))\n",
      "(0.10622904490856086+0j) [Z1 Z3] --> ()\n",
      "(0.16326768673564357+0j) [Z0 Z2 Z3] --> ((0, 'Z'), (2, 'Z'))\n"
     ]
    },
    {
     "data": {
      "text/plain": [
       "(-0.5400662794919306+0j) [] +\n",
       "(0.19679058348547038+0j) [X0 X2] +\n",
       "(0.2675286499420863+0j) [Z0] +\n",
       "(0.009014930058166282+0j) [Z0 Z2] +\n",
       "(0.26752864994208625+0j) [Z2]"
      ]
     },
     "execution_count": 128,
     "metadata": {},
     "output_type": "execute_result"
    }
   ],
   "source": [
    "from openfermion.ops import QubitOperator\n",
    "HAM = bravyi_kitaev(Convert_fermion_Operator(F_Ham, Hamilt.molecule.n_qubits))\n",
    "\n",
    "n_orbitals = 4\n",
    "\n",
    "new_Hamiltonian = QubitOperator()\n",
    "\n",
    "for Op in HAM:\n",
    "    for PauliWord, const in Op.terms.items():\n",
    "        if PauliWord == ():\n",
    "            new_Hamiltonian += Op\n",
    "        else:\n",
    "            QubitNo_list, PauliStr_list = zip(*PauliWord)\n",
    "            QubitNo_list=list(QubitNo_list)\n",
    "            PauliStr_list=list(PauliStr_list)\n",
    "            \n",
    "            # max_even_qubit = max(i for i in QubitNo_list if not i % 2)\n",
    "            if (n_orbitals/2 -1) in QubitNo_list:\n",
    "                del_index= QubitNo_list.index((n_orbitals/2 -1))\n",
    "                QubitNo_list.pop(del_index)\n",
    "                PauliStr_list.pop(del_index)\n",
    "                \n",
    "#                 print(Op, '-->', tuple(zip(QubitNo_list, PauliStr_list)))\n",
    "                \n",
    "                const = const * -1\n",
    "            \n",
    "            if (n_orbitals -1) in QubitNo_list:\n",
    "                del_index= QubitNo_list.index((n_orbitals -1))\n",
    "                QubitNo_list.pop(del_index)\n",
    "                PauliStr_list.pop(del_index)\n",
    "                \n",
    "                print(Op, '-->', tuple(zip(QubitNo_list, PauliStr_list)))\n",
    "                \n",
    "\n",
    "            pauli_list = tuple(zip(QubitNo_list, PauliStr_list))\n",
    "            new_QubitOp = QubitOperator(pauli_list, const)\n",
    "            new_Hamiltonian += new_QubitOp\n",
    "new_Hamiltonian"
   ]
  },
  {
   "cell_type": "code",
   "execution_count": 96,
   "metadata": {},
   "outputs": [
    {
     "data": {
      "text/plain": [
       "(-0.32760818967480887+0j) [] +\n",
       "(0.049197645871367594+0j) [X0 X1] +\n",
       "(-0.049197645871367594+0j) [X0 X1 Z2] +\n",
       "(-0.049197645871367594+0j) [X0 X1 Z2 Z3] +\n",
       "(0.049197645871367594+0j) [X0 X1 Z3] +\n",
       "(0.13716572937099492+0j) [Z0] +\n",
       "(0.15660062488237958+0j) [Z0 Z1] +\n",
       "(0.15542669077992843+0j) [Z0 Z1 Z2] +\n",
       "(0.15542669077992843+0j) [Z0 Z1 Z2 Z3] +\n",
       "(0.16326768673564357+0j) [Z0 Z1 Z3] +\n",
       "(-0.1303629205710914+0j) [Z0 Z2] +\n",
       "(0.13716572937099492+0j) [Z1] +\n",
       "(-0.13036292057109136+0j) [Z1 Z2 Z3] +\n",
       "(0.10622904490856086+0j) [Z2] +\n",
       "(0.10622904490856086+0j) [Z2 Z3]"
      ]
     },
     "execution_count": 96,
     "metadata": {},
     "output_type": "execute_result"
    }
   ],
   "source": [
    "from openfermion.ops import QubitOperator\n",
    "HAM = bravyi_kitaev(F_Ham)\n",
    "\n",
    "n_orbitals = 4\n",
    "\n",
    "new_Hamiltonian = QubitOperator()\n",
    "\n",
    "for Op in HAM:\n",
    "    for PauliWord, const in Op.terms.items():\n",
    "        if PauliWord == ():\n",
    "            new_Hamiltonian += Op\n",
    "        else:\n",
    "            QubitNo_list, PauliStr_list = zip(*PauliWord)\n",
    "\n",
    "            # max_even_qubit = max(i for i in QubitNo_list if not i % 2)\n",
    "            max_even_qubit = int(n_orbitals / 2)\n",
    "\n",
    "            pauli_list = []\n",
    "            for index, qubitNo in enumerate(QubitNo_list):\n",
    "                if qubitNo % 2:\n",
    "                    new_qubitNo = int(max_even_qubit + (qubitNo / 2))\n",
    "                else:\n",
    "                    new_qubitNo = int(qubitNo / 2)\n",
    "                pauli_list.append('{}{}'.format(PauliStr_list[index], new_qubitNo))\n",
    "\n",
    "            new_QubitOp = QubitOperator(' '.join(pauli_list), const)\n",
    "            new_Hamiltonian += new_QubitOp\n",
    "new_Hamiltonian"
   ]
  },
  {
   "cell_type": "code",
   "execution_count": 129,
   "metadata": {},
   "outputs": [
    {
     "data": {
      "text/html": [
       "<pre style=\"overflow: auto; white-space: pre;\">0: ───X───Rx(0.5π)───@──────────────@───Rx(-0.5π)───\n",
       "                     │              │\n",
       "1: ───H──────────────X───Rz(0.2π)───X───H───────────</pre>"
      ],
      "text/plain": [
       "0: ───X───Rx(0.5π)───@──────────────@───Rx(-0.5π)───\n",
       "                     │              │\n",
       "1: ───H──────────────X───Rz(0.2π)───X───H───────────"
      ]
     },
     "execution_count": 129,
     "metadata": {},
     "output_type": "execute_result"
    }
   ],
   "source": [
    "from quchem.Simulating_Quantum_Circuit import *\n",
    "from quchem.Ansatz_Generator_Functions import *\n",
    "from openfermion.ops import QubitOperator\n",
    "\n",
    "def H2_ansatz_BK(theta):\n",
    "    \n",
    "    HF_circ = [cirq.X.on(cirq.LineQubit(0))]\n",
    "    full_exp_circ_obj = full_exponentiated_PauliWord_circuit(QubitOperator('Y0 X1', -1j), theta)\n",
    "        \n",
    "    UCCSD_circ = cirq.Circuit(cirq.decompose_once((full_exp_circ_obj(*cirq.LineQubit.range(full_exp_circ_obj.num_qubits())))))\n",
    "    full_circuit = cirq.Circuit([*HF_circ, *UCCSD_circ.all_operations()])\n",
    "    \n",
    "    return full_circuit\n",
    "    \n",
    "circuit_form = H2_ansatz_BK(np.pi/10)    \n",
    "circuit_form"
   ]
  },
  {
   "cell_type": "code",
   "execution_count": 133,
   "metadata": {},
   "outputs": [],
   "source": [
    "from quchem.Simulating_Quantum_Circuit import *\n",
    "n_shots= 10000\n",
    "\n",
    "\n",
    "def VQE_experiment_ENERGY(THETA):\n",
    "    ansatz_cirq_circuit = H2_ansatz_BK(THETA)\n",
    "    VQE_exp = VQE_Experiment(new_Hamiltonian, ansatz_cirq_circuit, n_shots)\n",
    "    return VQE_exp.Calc_Energy().real"
   ]
  },
  {
   "cell_type": "code",
   "execution_count": 134,
   "metadata": {},
   "outputs": [],
   "source": [
    "import random\n",
    "\n",
    "theta_random_input = random.uniform(0, 2*np.pi) "
   ]
  },
  {
   "cell_type": "code",
   "execution_count": 135,
   "metadata": {},
   "outputs": [
    {
     "name": "stdout",
     "output_type": "stream",
     "text": [
      "0: Input_to_Funct: [3.97115212]: Output: -0.24441953043217998\n",
      "1: Input_to_Funct: [3.08867387]: Output: -0.5509217299983877\n",
      "2: Input_to_Funct: [3.08867387]: Output: -0.5510845771577833\n",
      "3: Input_to_Funct: [3.08867387]: Output: -0.5518460077394729\n",
      "4: Input_to_Funct: [3.08867387]: Output: -0.5479518784213186\n",
      "5: Input_to_Funct: [3.14382876]: Output: -0.5464442157313917\n",
      "6: Input_to_Funct: [3.1714062]: Output: -0.5498719522898773\n",
      "7: Input_to_Funct: [3.1714062]: Output: -0.5515795414188365\n",
      "8: Input_to_Funct: [3.18519493]: Output: -0.5498451895090766\n",
      "9: Input_to_Funct: [3.18519493]: Output: -0.5478960427219\n",
      "10: Input_to_Funct: [3.18519493]: Output: -0.5447541211166619\n",
      "11: Input_to_Funct: [3.18519493]: Output: -0.546331769747195\n",
      "12: Input_to_Funct: [3.18519493]: Output: -0.548759112840861\n",
      "13: Input_to_Funct: [3.18519493]: Output: -0.548000766982348\n",
      "14: Input_to_Funct: [3.18519493]: Output: -0.5477707877285192\n",
      "15: Input_to_Funct: [3.18519493]: Output: -0.5485062473184844\n",
      "16: Input_to_Funct: [3.18519493]: Output: -0.5526244569843433\n",
      "17: Input_to_Funct: [3.18519493]: Output: -0.5458993517123735\n",
      "18: Input_to_Funct: [3.18519493]: Output: -0.5493165721957757\n",
      "19: Input_to_Funct: [3.18519493]: Output: -0.5458638502763163\n",
      "20: Input_to_Funct: [3.18519493]: Output: -0.545642609677744\n",
      "21: Input_to_Funct: [3.18519493]: Output: -0.5471047844678456\n",
      "22: Input_to_Funct: [3.18519493]: Output: -0.5488347386165061\n",
      "23: Input_to_Funct: [3.18519493]: Output: -0.5437909694723967\n",
      "24: Input_to_Funct: [3.18519493]: Output: -0.5503859007410403\n",
      "25: Input_to_Funct: [3.18519493]: Output: -0.5459003571747368\n",
      "26: Input_to_Funct: [3.18519493]: Output: -0.5495815060706303\n",
      "27: Input_to_Funct: [3.18519493]: Output: -0.549154736233316\n",
      "28: Input_to_Funct: [3.18519493]: Output: -0.5521819815217707\n",
      "29: Input_to_Funct: [3.18519493]: Output: -0.5491740535651697\n",
      "30: Input_to_Funct: [3.18519493]: Output: -0.5480969918270122\n",
      "31: Input_to_Funct: [3.18519493]: Output: -0.5470855041713212\n",
      "32: Input_to_Funct: [3.18519493]: Output: -0.5491110116562767\n",
      "33: Input_to_Funct: [3.18519493]: Output: -0.5476843383022322\n",
      "34: Input_to_Funct: [3.18519493]: Output: -0.5440299636562836\n",
      "35: Input_to_Funct: [3.18519493]: Output: -0.5520551372156659\n",
      "36: Input_to_Funct: [3.18519493]: Output: -0.5490701268283698\n",
      "37: Input_to_Funct: [3.18519493]: Output: -0.546321994328818\n",
      "38: Input_to_Funct: [3.18519493]: Output: -0.5471996962745874\n",
      "39: Input_to_Funct: [3.18519493]: Output: -0.5464405899277556\n",
      "40: Input_to_Funct: [3.18519493]: Output: -0.5534231664219168\n",
      "41: Input_to_Funct: [3.18519493]: Output: -0.5471732040340163\n",
      "42: Input_to_Funct: [3.18519493]: Output: -0.5454452978454121\n",
      "43: Input_to_Funct: [3.18519493]: Output: -0.5492828680111581\n",
      "44: Input_to_Funct: [3.18519493]: Output: -0.5506398030265376\n",
      "45: Input_to_Funct: [3.18519493]: Output: -0.5453874199205094\n",
      "46: Input_to_Funct: [3.18519493]: Output: -0.5480895036081639\n",
      "47: Input_to_Funct: [3.18519493]: Output: -0.5491177023514769\n",
      "48: Input_to_Funct: [3.18519493]: Output: -0.5492579024817971\n",
      "Warning: Maximum number of iterations has been exceeded.\n",
      "Reason for termination is Maximum number of iterations has been exceeded.\n"
     ]
    },
    {
     "data": {
      "image/png": "[encoded data removed]",
      "text/plain": [
       "<Figure size 432x288 with 1 Axes>"
      ]
     },
     "metadata": {
      "needs_background": "light"
     },
     "output_type": "display_data"
    }
   ],
   "source": [
    "### optimizer\n",
    "from quchem.Scipy_Optimizer import *\n",
    "\n",
    "GG = Optimizer(VQE_experiment_ENERGY, theta_random_input, 'Nelder-Mead', store_values=True, display_iter_steps=True,\n",
    "               tol=1e-5,\n",
    "               display_convergence_message=True)\n",
    "GG.get_env(50)\n",
    "GG.plot_convergence()\n",
    "plt.show()"
   ]
  },
  {
   "cell_type": "code",
   "execution_count": null,
   "metadata": {},
   "outputs": [],
   "source": []
  },
  {
   "cell_type": "code",
   "execution_count": null,
   "metadata": {},
   "outputs": [],
   "source": []
  },
  {
   "cell_type": "code",
   "execution_count": 48,
   "metadata": {},
   "outputs": [
    {
     "name": "stdout",
     "output_type": "stream",
     "text": [
      "1.0 [2^ 3]\n"
     ]
    }
   ],
   "source": [
    "n_orbitals=4\n",
    "odd_adding_term = int(n_orbitals/ 2)\n",
    "\n",
    "x = FermionOperator('1^ 3')\n",
    "for Op, const in x.terms.items():\n",
    "    indices, creat_ann_indices = zip(*Op)\n",
    "    \n",
    "    new_indices=[]\n",
    "    for i in indices:\n",
    "        if i%2:\n",
    "            new_index = int((i-1)/2 + odd_adding_term)\n",
    "        else:\n",
    "            new_index = int(i/2)\n",
    "        new_indices.append(new_index)\n",
    "        \n",
    "    new_Op = list(zip(new_indices, creat_ann_indices))\n",
    "    print(FermionOperator(new_Op, const))"
   ]
  },
  {
   "cell_type": "code",
   "execution_count": 40,
   "metadata": {},
   "outputs": [
    {
     "data": {
      "text/plain": [
       "(0, 3)"
      ]
     },
     "execution_count": 40,
     "metadata": {},
     "output_type": "execute_result"
    }
   ],
   "source": [
    "indices"
   ]
  },
  {
   "cell_type": "code",
   "execution_count": null,
   "metadata": {},
   "outputs": [],
   "source": [
    " FermionOperator('3^ 0', 0.5)"
   ]
  },
  {
   "cell_type": "code",
   "execution_count": 33,
   "metadata": {},
   "outputs": [],
   "source": [
    "indices, creat_ann_indices = zip(*Op)"
   ]
  }
 ],
 "metadata": {
  "kernelspec": {
   "display_name": "Python 3",
   "language": "python",
   "name": "python3"
  },
  "language_info": {
   "codemirror_mode": {
    "name": "ipython",
    "version": 3
   },
   "file_extension": ".py",
   "mimetype": "text/x-python",
   "name": "python",
   "nbconvert_exporter": "python",
   "pygments_lexer": "ipython3",
   "version": "3.7.6"
  }
 },
 "nbformat": 4,
 "nbformat_minor": 4
}
