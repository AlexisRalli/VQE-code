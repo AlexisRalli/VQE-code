{
 "cells": [
  {
   "cell_type": "code",
   "execution_count": 2,
   "metadata": {},
   "outputs": [
    {
     "data": {
      "text/plain": [
       "(-0.09706626861762624+0j) [] +\n",
       "(-0.04530261550868928+0j) [X0 X1 Y2 Y3] +\n",
       "(0.04530261550868928+0j) [X0 Y1 Y2 X3] +\n",
       "(0.04530261550868928+0j) [Y0 X1 X2 Y3] +\n",
       "(-0.04530261550868928+0j) [Y0 Y1 X2 X3] +\n",
       "(0.17141282639402405+0j) [Z0] +\n",
       "(0.1686889816869329+0j) [Z0 Z1] +\n",
       "(0.12062523481381837+0j) [Z0 Z2] +\n",
       "(0.16592785032250768+0j) [Z0 Z3] +\n",
       "(0.171412826394024+0j) [Z1] +\n",
       "(0.16592785032250768+0j) [Z1 Z2] +\n",
       "(0.12062523481381837+0j) [Z1 Z3] +\n",
       "(-0.2234315367466397+0j) [Z2] +\n",
       "(0.174412876106516+0j) [Z2 Z3] +\n",
       "(-0.2234315367466397+0j) [Z3]"
      ]
     },
     "execution_count": 2,
     "metadata": {},
     "output_type": "execute_result"
    }
   ],
   "source": [
    "from quchem.Hamiltonian_Generator_Functions import *\n",
    "from quchem.Graph import *\n",
    "### HAMILTONIAN start\n",
    "Molecule = 'H2'#'LiH'\n",
    "geometry = [('H', (0., 0., 0.)), ('H', (0., 0., 0.74))]#[('Li', (0., 0., 0.)), ('H', (0., 0., 1.45))]\n",
    "num_shots = 10000\n",
    "basis = 'sto-3g'\n",
    "\n",
    "\n",
    "### Get Hamiltonian\n",
    "Hamilt = Hamiltonian(Molecule,\n",
    "                     run_scf=1, run_mp2=1, run_cisd=1, run_ccsd=1, run_fci=1,\n",
    "                     basis=basis,\n",
    "                     multiplicity=1,\n",
    "                     geometry=geometry)  # normally None!\n",
    "QubitHamiltonian = Hamilt.Get_Qubit_Hamiltonian(threshold=None, transformation='JW')\n",
    "### HAMILTONIAN end\n",
    "QubitHamiltonian"
   ]
  },
  {
   "cell_type": "code",
   "execution_count": 3,
   "metadata": {},
   "outputs": [
    {
     "name": "stderr",
     "output_type": "stream",
     "text": [
      "Building Graph Edges: 100%|##########| 15/15 [00:00<00:00, 1359.29it/s]\n"
     ]
    },
    {
     "data": {
      "text/plain": [
       "{0: [(0.1686889816869329+0j) [Z0 Z1]],\n",
       " 1: [(0.12062523481381837+0j) [Z0 Z2]],\n",
       " 2: [(0.12062523481381837+0j) [Z1 Z3]],\n",
       " 3: [(0.16592785032250768+0j) [Z0 Z3]],\n",
       " 4: [(0.16592785032250768+0j) [Z1 Z2]],\n",
       " 5: [(0.174412876106516+0j) [Z2 Z3]],\n",
       " 6: [(-0.09706626861762624+0j) []],\n",
       " 7: [(0.171412826394024+0j) [Z1], (0.04530261550868928+0j) [Y0 X1 X2 Y3]],\n",
       " 8: [(-0.2234315367466397+0j) [Z2], (-0.04530261550868928+0j) [Y0 Y1 X2 X3]],\n",
       " 9: [(0.04530261550868928+0j) [X0 Y1 Y2 X3], (-0.2234315367466397+0j) [Z3]],\n",
       " 10: [(0.17141282639402405+0j) [Z0], (-0.04530261550868928+0j) [X0 X1 Y2 Y3]]}"
      ]
     },
     "execution_count": 3,
     "metadata": {},
     "output_type": "execute_result"
    }
   ],
   "source": [
    "################## get sets for UP\n",
    "\n",
    "Hamiltonian_graph_obj = Openfermion_Hamiltonian_Graph(QubitHamiltonian)\n",
    "\n",
    "commutativity_flag = 'AC' ## <- defines relationship between sets!!!\n",
    "plot_graph = False\n",
    "Graph_colouring_strategy='largest_first'\n",
    "anti_commuting_sets = Hamiltonian_graph_obj.Get_Clique_Cover_as_QubitOp(commutativity_flag, Graph_colouring_strategy=Graph_colouring_strategy, plot_graph=plot_graph)\n",
    "anti_commuting_sets"
   ]
  },
  {
   "cell_type": "code",
   "execution_count": 4,
   "metadata": {},
   "outputs": [
    {
     "data": {
      "text/html": [
       "<pre style=\"overflow: auto; white-space: pre;\">0: ───X───Rx(0.5π)───@──────────────────────────────@───Rx(-0.5π)───\n",
       "                     │                              │\n",
       "1: ───X───H──────────X───@──────────────────────@───X───H───────────\n",
       "                         │                      │\n",
       "2: ───H──────────────────X───@──────────────@───X───H───────────────\n",
       "                             │              │\n",
       "3: ───H──────────────────────X───Rz(2.0π)───X───H───────────────────</pre>"
      ],
      "text/plain": [
       "0: ───X───Rx(0.5π)───@──────────────────────────────@───Rx(-0.5π)───\n",
       "                     │                              │\n",
       "1: ───X───H──────────X───@──────────────────────@───X───H───────────\n",
       "                         │                      │\n",
       "2: ───H──────────────────X───@──────────────@───X───H───────────────\n",
       "                             │              │\n",
       "3: ───H──────────────────────X───Rz(2.0π)───X───H───────────────────"
      ]
     },
     "execution_count": 4,
     "metadata": {},
     "output_type": "execute_result"
    }
   ],
   "source": [
    "######### Ansatz circuit\n",
    "\n",
    "from quchem.Simulating_Quantum_Circuit import *\n",
    "from quchem.Ansatz_Generator_Functions import *\n",
    "from openfermion.ops import QubitOperator\n",
    "\n",
    "def H2_ansatz(theta):\n",
    "    HF_circ = [cirq.X.on(cirq.LineQubit(0)), cirq.X.on(cirq.LineQubit(1))]\n",
    "    \n",
    "    full_exp_circ_obj = full_exponentiated_PauliWord_circuit(QubitOperator('Y0 X1 X2 X3', -1j), theta)\n",
    "    UCCSD_circ = cirq.Circuit(cirq.decompose_once((full_exp_circ_obj(*cirq.LineQubit.range(full_exp_circ_obj.num_qubits())))))\n",
    "    full_circuit = cirq.Circuit([*HF_circ, *UCCSD_circ.all_operations()])\n",
    "    \n",
    "    return full_circuit\n",
    "    \n",
    "H2_ansatz(np.pi)  "
   ]
  },
  {
   "cell_type": "code",
   "execution_count": null,
   "metadata": {},
   "outputs": [],
   "source": []
  },
  {
   "cell_type": "code",
   "execution_count": 61,
   "metadata": {},
   "outputs": [
    {
     "data": {
      "text/html": [
       "<pre style=\"overflow: auto; white-space: pre;\">0: ───X──────────────────Rx(0.5π)───@──────────────────────────────@───Rx(-0.5π)───1*I0───1j*X0───Ry(-0.5π)──────────M───\n",
       "                                    │                              │               │      │                          │\n",
       "1: ───X──────────────────H──────────X───@──────────────────────@───X───H───────────┼──────Y1──────Rx(0.5π)───────────M───\n",
       "                                        │                      │                   │      │                          │\n",
       "2: ───H─────────────────────────────────X───@──────────────@───X───H───────────────┼──────Y2──────Rx(0.5π)───────────M───\n",
       "                                            │              │                       │      │                          │\n",
       "3: ───H─────────────────────────────────────X───Rz(2.0π)───X───H───────────────────┼──────Y3──────Ry(-0.5π)──────────M───\n",
       "                                                                                   │      │                          │\n",
       "4: ─── U = 0.7351 rad ─────────────────────────────────────────────────────────────(0)────@─────── U = 0.7351 rad ───M───</pre>"
      ],
      "text/plain": [
       "0: ───X──────────────────Rx(0.5π)───@──────────────────────────────@───Rx(-0.5π)───1*I0───1j*X0───Ry(-0.5π)──────────M───\n",
       "                                    │                              │               │      │                          │\n",
       "1: ───X──────────────────H──────────X───@──────────────────────@───X───H───────────┼──────Y1──────Rx(0.5π)───────────M───\n",
       "                                        │                      │                   │      │                          │\n",
       "2: ───H─────────────────────────────────X───@──────────────@───X───H───────────────┼──────Y2──────Rx(0.5π)───────────M───\n",
       "                                            │              │                       │      │                          │\n",
       "3: ───H─────────────────────────────────────X───Rz(2.0π)───X───H───────────────────┼──────Y3──────Ry(-0.5π)──────────M───\n",
       "                                                                                   │      │                          │\n",
       "4: ─── U = 0.7351 rad ─────────────────────────────────────────────────────────────(0)────@─────── U = 0.7351 rad ───M───"
      ]
     },
     "execution_count": 61,
     "metadata": {},
     "output_type": "execute_result"
    }
   ],
   "source": [
    "### LCU method ###\n",
    "from quchem.LCU_method import *\n",
    "\n",
    "R_uncorrected, Pn, gamma_l = Get_R_linear_combination(anti_commuting_sets[9], 0)\n",
    "R_corrected_Op_list, R_corr_list, ancilla_amplitudes, l1 = absorb_complex_phases(R_uncorrected)\n",
    "\n",
    "ansatz_circuit = H2_ansatz(np.pi) \n",
    "\n",
    "LCU_Q_circuit = Full_Q_Circuit(Pn, R_corrected_Op_list, R_corr_list, ancilla_amplitudes, Hamilt.molecule.n_qubits, ansatz_circuit)\n",
    "LCU_Q_circuit"
   ]
  },
  {
   "cell_type": "code",
   "execution_count": null,
   "metadata": {},
   "outputs": [],
   "source": []
  },
  {
   "cell_type": "code",
   "execution_count": 60,
   "metadata": {},
   "outputs": [
    {
     "data": {
      "text/html": [
       "<pre style=\"overflow: auto; white-space: pre;\">0: ───X───Rx(0.5π)───@──────────────────────────────@──────────Rx(-0.5π)───H──────────@────────────────────────────────────────────────────────────@───────────H───────────Ry(-0.5π)───M───\n",
       "                     │                              │                                 │                                                            │                                   │\n",
       "1: ───X───H──────────X───@──────────────────────@───X──────────H───────────Rx(0.5π)───X───@────────────────────────────────────────────@───────────X───────────Rx(-0.5π)───Rx(0.5π)────M───\n",
       "                         │                      │                                         │                                            │                                               │\n",
       "2: ───H──────────────────X───@──────────────@───X───H──────────Rx(0.5π)───────────────────X───@────────────────────────────────────@───X───────────Rx(-0.5π)───Rx(0.5π)────────────────M───\n",
       "                             │              │                                                 │                                    │                                                   │\n",
       "3: ───H──────────────────────X───Rz(2.0π)───X───H───Rx(0.5π)──────────────────────────────────X───Rz((-0.43632324301344744+0j)π)───X───Rx(-0.5π)───Ry(-0.5π)───────────────────────────M───</pre>"
      ],
      "text/plain": [
       "0: ───X───Rx(0.5π)───@──────────────────────────────@──────────Rx(-0.5π)───H──────────@────────────────────────────────────────────────────────────@───────────H───────────Ry(-0.5π)───M───\n",
       "                     │                              │                                 │                                                            │                                   │\n",
       "1: ───X───H──────────X───@──────────────────────@───X──────────H───────────Rx(0.5π)───X───@────────────────────────────────────────────@───────────X───────────Rx(-0.5π)───Rx(0.5π)────M───\n",
       "                         │                      │                                         │                                            │                                               │\n",
       "2: ───H──────────────────X───@──────────────@───X───H──────────Rx(0.5π)───────────────────X───@────────────────────────────────────@───X───────────Rx(-0.5π)───Rx(0.5π)────────────────M───\n",
       "                             │              │                                                 │                                    │                                                   │\n",
       "3: ───H──────────────────────X───Rz(2.0π)───X───H───Rx(0.5π)──────────────────────────────────X───Rz((-0.43632324301344744+0j)π)───X───Rx(-0.5π)───Ry(-0.5π)───────────────────────────M───"
      ]
     },
     "execution_count": 60,
     "metadata": {},
     "output_type": "execute_result"
    }
   ],
   "source": [
    "## conjugation method\n",
    "from quchem.Unitary_partitioning import * \n",
    "\n",
    "S_index=0\n",
    "\n",
    "normalised_set = Get_beta_j_cofactors(anti_commuting_sets[9])\n",
    "\n",
    "X_sk_dict = Get_X_sk_operators(normalised_set, S=S_index)\n",
    "\n",
    "ansatz_circuit = H2_ansatz(np.pi) \n",
    "Conj_Q_circuit = Generate_Full_Q_Circuit_unitary_part(ansatz_circuit, X_sk_dict)\n",
    "\n",
    "Ps = anti_commuting_sets[9][S_index]\n",
    "Conj_Q_circuit"
   ]
  },
  {
   "cell_type": "code",
   "execution_count": null,
   "metadata": {},
   "outputs": [],
   "source": []
  },
  {
   "cell_type": "code",
   "execution_count": 26,
   "metadata": {},
   "outputs": [
    {
     "name": "stdout",
     "output_type": "stream",
     "text": [
      "0: ───X───Rx(0.5π)───@──────────────────────────────@───────────Rx(-0.5π)───Ry(-0.5π)───M───\n",
      "                     │                              │                                   │\n",
      "1: ───X───H──────────X───@──────────────────────@───X───────────H───────────Rx(0.5π)────M───\n",
      "                         │                      │                                       │\n",
      "2: ───H──────────────────X───@──────────────@───X───H───────────Rx(0.5π)────────────────M───\n",
      "                             │              │                                           │\n",
      "3: ───H──────────────────────X───Rz(2.0π)───X───H───Ry(-0.5π)───────────────────────────M───\n",
      "\n",
      "##\n",
      "\n",
      "0: ───X───Rx(0.5π)───@──────────────────────────────@───Rx(-0.5π)───\n",
      "                     │                              │\n",
      "1: ───X───H──────────X───@──────────────────────@───X───H───────────\n",
      "                         │                      │\n",
      "2: ───H──────────────────X───@──────────────@───X───H───────────────\n",
      "                             │              │\n",
      "3: ───H──────────────────────X───Rz(2.0π)───X───H───M───────────────\n"
     ]
    }
   ],
   "source": [
    "## standard method\n",
    "\n",
    "from quchem.quantum_circuit_functions import *\n",
    "\n",
    "ansatz_circuit = H2_ansatz(np.pi) \n",
    "\n",
    "circuit_1 = Generate_Full_Q_Circuit(ansatz_circuit, anti_commuting_sets[9][0])\n",
    "print(circuit_1.to_text_diagram(transpose=False)) \n",
    "\n",
    "print('')\n",
    "print('##')\n",
    "print('')\n",
    "\n",
    "circuit_2 = Generate_Full_Q_Circuit(ansatz_circuit, anti_commuting_sets[9][1])\n",
    "print(circuit_2.to_text_diagram(transpose=False)) "
   ]
  },
  {
   "cell_type": "code",
   "execution_count": null,
   "metadata": {},
   "outputs": [],
   "source": []
  },
  {
   "cell_type": "code",
   "execution_count": 64,
   "metadata": {},
   "outputs": [],
   "source": [
    "from quchem.Simulating_Quantum_Circuit import *\n",
    "\n",
    "def Calc_Energy_term(qubitOp, Q_circuit, n_shots, method, gamma_l = None, N_system_qubits=Hamilt.molecule.n_qubits\n",
    "                    , ancilla_amplitudes=None, l1_norm=None):\n",
    "    \n",
    "    if method == 'standard':\n",
    "        \n",
    "        const = list(qubitOp.terms.values())[0]\n",
    "        \n",
    "        hist_key_str = Get_Histogram_key(qubitOp)\n",
    "        int_state_counter = Simulate_Quantum_Circuit(Q_circuit, n_shots, hist_key_str)\n",
    "        binary_state_counter = Return_as_binary(int_state_counter, hist_key_str)\n",
    "        exp_result = expectation_value_by_parity(binary_state_counter)\n",
    "        \n",
    "        return (exp_result*const)\n",
    "    \n",
    "    elif method == 'conj':\n",
    "        \n",
    "        const = list(qubitOp.terms.values())[0]\n",
    "        \n",
    "        hist_key_str = Get_Histogram_key(qubitOp)\n",
    "        int_state_counter = Simulate_Quantum_Circuit(Q_circuit, n_shots, hist_key_str)\n",
    "        binary_state_counter = Return_as_binary(int_state_counter, hist_key_str)\n",
    "        exp_result = expectation_value_by_parity(binary_state_counter)\n",
    "        \n",
    "        return (exp_result * gamma_l)\n",
    "\n",
    "    elif method == 'LCU':\n",
    "        output_bin_dict = Get_binary_dict_project(Q_circuit, qubitOp, n_shots, N_system_qubits, ancilla_amplitudes, l1_norm)\n",
    "        \n",
    "        exp_result = expectation_value_by_parity(output_bin_dict)\n",
    "        \n",
    "        return (exp_result * gamma_l)\n",
    "    \n",
    "    else:\n",
    "        raise ValueError('Unknown method')\n"
   ]
  },
  {
   "cell_type": "code",
   "execution_count": 68,
   "metadata": {},
   "outputs": [
    {
     "data": {
      "text/plain": [
       "(-0.22797802215321797+0j)"
      ]
     },
     "execution_count": 68,
     "metadata": {},
     "output_type": "execute_result"
    }
   ],
   "source": [
    "Calc_Energy_term(Ps, Conj_Q_circuit, 100, 'conj', gamma_l = X_sk_dict['gamma_l'])"
   ]
  },
  {
   "cell_type": "code",
   "execution_count": 69,
   "metadata": {},
   "outputs": [
    {
     "name": "stdout",
     "output_type": "stream",
     "text": [
      "(-0.2234315367466397+0j)\n"
     ]
    }
   ],
   "source": [
    "a1=Calc_Energy_term(anti_commuting_sets[9][0], circuit_1, 100, 'standard')\n",
    "a2=Calc_Energy_term(anti_commuting_sets[9][1], circuit_2, 100, 'standard')\n",
    "print(a1+a2)"
   ]
  },
  {
   "cell_type": "code",
   "execution_count": 70,
   "metadata": {},
   "outputs": [
    {
     "data": {
      "text/plain": [
       "(-0.22797802215321797+0j)"
      ]
     },
     "execution_count": 70,
     "metadata": {},
     "output_type": "execute_result"
    }
   ],
   "source": [
    "Calc_Energy_term(Pn, LCU_Q_circuit, 100, 'LCU', ancilla_amplitudes=ancilla_amplitudes, l1_norm=l1, gamma_l=gamma_l)"
   ]
  },
  {
   "cell_type": "code",
   "execution_count": 71,
   "metadata": {},
   "outputs": [
    {
     "data": {
      "text/plain": [
       "{'X_sk_and_theta_terms': [{'X_sk': (1+0j) [X0 Y1 Y2 Y3],\n",
       "   'theta_sk_over2': (-0.6853749474207602+0j)}],\n",
       " 'PauliWord_S': 1 [X0 Y1 Y2 X3],\n",
       " 'gamma_l': (0.22797802215321797+0j)}"
      ]
     },
     "execution_count": 71,
     "metadata": {},
     "output_type": "execute_result"
    }
   ],
   "source": []
  }
 ],
 "metadata": {
  "kernelspec": {
   "display_name": "Python 3",
   "language": "python",
   "name": "python3"
  },
  "language_info": {
   "codemirror_mode": {
    "name": "ipython",
    "version": 3
   },
   "file_extension": ".py",
   "mimetype": "text/x-python",
   "name": "python",
   "nbconvert_exporter": "python",
   "pygments_lexer": "ipython3",
   "version": "3.7.6"
  }
 },
 "nbformat": 4,
 "nbformat_minor": 4
}
