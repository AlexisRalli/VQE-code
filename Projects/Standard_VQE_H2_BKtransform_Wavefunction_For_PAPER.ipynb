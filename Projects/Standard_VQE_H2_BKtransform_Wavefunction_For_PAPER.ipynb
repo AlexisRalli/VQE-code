{
 "cells": [
  {
   "cell_type": "code",
   "execution_count": 1,
   "metadata": {},
   "outputs": [
    {
     "name": "stdout",
     "output_type": "stream",
     "text": [
      "(-0.09706626816762878+0j) [] +\n",
      "(0.045302615503799264+0j) [X0 Z1 X2] +\n",
      "(0.045302615503799264+0j) [X0 Z1 X2 Z3] +\n",
      "(0.045302615503799264+0j) [Y0 Z1 Y2] +\n",
      "(0.045302615503799264+0j) [Y0 Z1 Y2 Z3] +\n",
      "(0.1714128264477689+0j) [Z0] +\n",
      "(0.17141282644776892+0j) [Z0 Z1] +\n",
      "(0.1659278503377034+0j) [Z0 Z1 Z2] +\n",
      "(0.1659278503377034+0j) [Z0 Z1 Z2 Z3] +\n",
      "(0.12062523483390414+0j) [Z0 Z2] +\n",
      "(0.12062523483390414+0j) [Z0 Z2 Z3] +\n",
      "(0.16868898170361207+0j) [Z1] +\n",
      "(-0.22343153690813558+0j) [Z1 Z2 Z3] +\n",
      "(0.1744128761226159+0j) [Z1 Z3] +\n",
      "(-0.22343153690813564+0j) [Z2]\n",
      "[(), ((0, 'Z'),), ((0, 'Z'), (1, 'Z')), ((2, 'Z'),), ((1, 'Z'), (2, 'Z'), (3, 'Z')), ((1, 'Z'),), ((0, 'Y'), (1, 'Z'), (2, 'Y'), (3, 'Z')), ((0, 'X'), (1, 'Z'), (2, 'X')), ((0, 'X'), (1, 'Z'), (2, 'X'), (3, 'Z')), ((0, 'Y'), (1, 'Z'), (2, 'Y')), ((0, 'Z'), (2, 'Z')), ((0, 'Z'), (1, 'Z'), (2, 'Z'), (3, 'Z')), ((0, 'Z'), (1, 'Z'), (2, 'Z')), ((0, 'Z'), (2, 'Z'), (3, 'Z')), ((1, 'Z'), (3, 'Z'))]\n",
      "\n",
      "[(-0.09706626816762878+0j), (0.1714128264477689+0j), (0.17141282644776892+0j), (-0.22343153690813564+0j), (-0.22343153690813558+0j), (0.16868898170361207+0j), (0.045302615503799264+0j), (0.045302615503799264+0j), (0.045302615503799264+0j), (0.045302615503799264+0j), (0.12062523483390414+0j), (0.1659278503377034+0j), (0.1659278503377034+0j), (0.12062523483390414+0j), (0.1744128761226159+0j)]\n",
      "-1.137283834488502\n"
     ]
    }
   ],
   "source": [
    "# from quchem.Hamiltonian_Generator_Functions import *\n",
    "# from quchem.Graph import *\n",
    "# ### HAMILTONIAN start\n",
    "# Molecule = 'H2'\n",
    "# geometry = [('H', (0., 0., 0.)), ('H', (0., 0., 0.74))]\n",
    "# basis = 'sto-3g'\n",
    "\n",
    "\n",
    "# ### Get Hamiltonian\n",
    "# Hamilt = Hamiltonian_PySCF(Molecule,\n",
    "#                      run_scf=1, run_mp2=1, run_cisd=1, run_ccsd=1, run_fci=1,\n",
    "#                      basis=basis,\n",
    "#                      multiplicity=1,\n",
    "#                      geometry=geometry)  # normally None!\n",
    "# QubitHamiltonian = Hamilt.Get_Qubit_Hamiltonian(threshold=None, transformation='BK')\n",
    "# ### HAMILTONIAN end\n",
    "\n",
    "# #####################################\n",
    "\n",
    "# print(QubitHamiltonian)\n",
    "\n",
    "# const_list=[]\n",
    "# P_list=[]\n",
    "# for Pauli, Const in QubitHamiltonian.terms.items():\n",
    "#     P_list.append(Pauli)\n",
    "#     const_list.append(Const)\n",
    "    \n",
    "# print(P_list)\n",
    "# print('')\n",
    "# print(const_list)\n",
    "# fci_energy = Hamilt.molecule.fci_energy\n",
    "# print(fci_energy)"
   ]
  },
  {
   "cell_type": "code",
   "execution_count": null,
   "metadata": {},
   "outputs": [],
   "source": []
  },
  {
   "cell_type": "code",
   "execution_count": 4,
   "metadata": {
    "code_folding": [
     2,
     18,
     37
    ]
   },
   "outputs": [
    {
     "data": {
      "text/plain": [
       "(-0.09706626816762878+0j) [] +\n",
       "(0.045302615503799264+0j) [X0 Z1 X2] +\n",
       "(0.045302615503799264+0j) [X0 Z1 X2 Z3] +\n",
       "(0.045302615503799264+0j) [Y0 Z1 Y2] +\n",
       "(0.045302615503799264+0j) [Y0 Z1 Y2 Z3] +\n",
       "(0.1714128264477689+0j) [Z0] +\n",
       "(0.17141282644776892+0j) [Z0 Z1] +\n",
       "(0.1659278503377034+0j) [Z0 Z1 Z2] +\n",
       "(0.1659278503377034+0j) [Z0 Z1 Z2 Z3] +\n",
       "(0.12062523483390414+0j) [Z0 Z2] +\n",
       "(0.12062523483390414+0j) [Z0 Z2 Z3] +\n",
       "(0.16868898170361207+0j) [Z1] +\n",
       "(-0.22343153690813558+0j) [Z1 Z2 Z3] +\n",
       "(0.1744128761226159+0j) [Z1 Z3] +\n",
       "(-0.22343153690813564+0j) [Z2]"
      ]
     },
     "execution_count": 4,
     "metadata": {},
     "output_type": "execute_result"
    }
   ],
   "source": [
    "fci_energy = -1.137283834488502\n",
    "\n",
    "P_list = [(),\n",
    " ((0, 'Z'),),\n",
    " ((0, 'Z'), (1, 'Z')),\n",
    " ((2, 'Z'),),\n",
    " ((1, 'Z'), (2, 'Z'), (3, 'Z')),\n",
    " ((1, 'Z'),),\n",
    " ((0, 'Y'), (1, 'Z'), (2, 'Y'), (3, 'Z')),\n",
    " ((0, 'X'), (1, 'Z'), (2, 'X')),\n",
    " ((0, 'X'), (1, 'Z'), (2, 'X'), (3, 'Z')),\n",
    " ((0, 'Y'), (1, 'Z'), (2, 'Y')),\n",
    " ((0, 'Z'), (2, 'Z')),\n",
    " ((0, 'Z'), (1, 'Z'), (2, 'Z'), (3, 'Z')),\n",
    " ((0, 'Z'), (1, 'Z'), (2, 'Z')),\n",
    " ((0, 'Z'), (2, 'Z'), (3, 'Z')),\n",
    " ((1, 'Z'), (3, 'Z'))]\n",
    "\n",
    "const_list = [(-0.09706626816762878+0j),\n",
    " (0.1714128264477689+0j),\n",
    " (0.17141282644776892+0j),\n",
    " (-0.22343153690813564+0j),\n",
    " (-0.22343153690813558+0j),\n",
    " (0.16868898170361207+0j),\n",
    " (0.045302615503799264+0j),\n",
    " (0.045302615503799264+0j),\n",
    " (0.045302615503799264+0j),\n",
    " (0.045302615503799264+0j),\n",
    " (0.12062523483390414+0j),\n",
    " (0.1659278503377034+0j),\n",
    " (0.1659278503377034+0j),\n",
    " (0.12062523483390414+0j),\n",
    " (0.1744128761226159+0j)]\n",
    "\n",
    "from openfermion.ops import QubitOperator\n",
    "QubitHamiltonian = QubitOperator()\n",
    "\n",
    "for P_word, const in zip(P_list, const_list):\n",
    "    QubitHamiltonian+=QubitOperator(P_word, const)\n",
    "QubitHamiltonian"
   ]
  },
  {
   "cell_type": "code",
   "execution_count": 5,
   "metadata": {},
   "outputs": [
    {
     "data": {
      "text/plain": [
       "[(-0.09706626816762878+0j),\n",
       " (0.1714128264477689+0j),\n",
       " (0.17141282644776892+0j),\n",
       " (-0.22343153690813564+0j),\n",
       " (-0.22343153690813558+0j),\n",
       " (0.16868898170361207+0j),\n",
       " (0.045302615503799264+0j),\n",
       " (0.045302615503799264+0j),\n",
       " (0.045302615503799264+0j),\n",
       " (0.045302615503799264+0j),\n",
       " (0.12062523483390414+0j),\n",
       " (0.1659278503377034+0j),\n",
       " (0.1659278503377034+0j),\n",
       " (0.12062523483390414+0j),\n",
       " (0.1744128761226159+0j)]"
      ]
     },
     "execution_count": 5,
     "metadata": {},
     "output_type": "execute_result"
    }
   ],
   "source": [
    "const_list"
   ]
  },
  {
   "cell_type": "markdown",
   "metadata": {},
   "source": [
    "From Helgaker, T., P. Jorgensen,and J. Olsen (2014),Molecularelectronic-structure theory(John Wiley & Sons)\n",
    "we known\n",
    "\n",
    "$$H_{2}^{ground} = 0.9939| 1100\\rangle - 0.1106| 0011\\rangle$$\n",
    "\n",
    "From group theory we know only double excitation terms are important!\n",
    "We can see this from our ijab operators that qubits 1 and 3 are only acted on by $Z$ therefore experience no population changes... Can even see this from the answer if we write it in BK basis:\n",
    "\n",
    "$$H_{2}^{BK} = 0.9939| 1000\\rangle - 0.1106| 0010\\rangle$$\n",
    "\n",
    "See how qubits 1 and 3 always remain at 0!\n",
    "\n",
    "therefore can **remove** these measurements from Hamiltonian... as we know what expectation values they should give!\n",
    "\n",
    "In the case for this Hamiltonian only $I$ and $Z$ act on these qubits! So even easier to remove (expectation values = +1 (as act on $| 0\\rangle$ state!), so just remove and add to relivent H terms!"
   ]
  },
  {
   "cell_type": "markdown",
   "metadata": {},
   "source": [
    "LOOK at:\n",
    "\n",
    "PHYS. REV. X, **8**, 031022 (2018)"
   ]
  },
  {
   "cell_type": "markdown",
   "metadata": {},
   "source": [
    "### Can remove these terms from Hamiltonian"
   ]
  },
  {
   "cell_type": "code",
   "execution_count": 6,
   "metadata": {},
   "outputs": [
    {
     "ename": "NameError",
     "evalue": "name 'BK_Qubit_Reduction' is not defined",
     "output_type": "error",
     "traceback": [
      "\u001b[0;31m---------------------------------------------------------------------------\u001b[0m",
      "\u001b[0;31mNameError\u001b[0m                                 Traceback (most recent call last)",
      "\u001b[0;32m<ipython-input-6-5e4d1076165d>\u001b[0m in \u001b[0;36m<module>\u001b[0;34m\u001b[0m\n\u001b[1;32m      3\u001b[0m \u001b[0mn_qubits\u001b[0m\u001b[0;34m=\u001b[0m\u001b[0;36m4\u001b[0m\u001b[0;34m\u001b[0m\u001b[0;34m\u001b[0m\u001b[0m\n\u001b[1;32m      4\u001b[0m \u001b[0;34m\u001b[0m\u001b[0m\n\u001b[0;32m----> 5\u001b[0;31m ansatz_obj = BK_Qubit_Reduction(QubitHamiltonian,\n\u001b[0m\u001b[1;32m      6\u001b[0m                              \u001b[0mn_electrons\u001b[0m\u001b[0;34m,\u001b[0m\u001b[0;34m\u001b[0m\u001b[0;34m\u001b[0m\u001b[0m\n\u001b[1;32m      7\u001b[0m                              n_qubits)\n",
      "\u001b[0;31mNameError\u001b[0m: name 'BK_Qubit_Reduction' is not defined"
     ]
    }
   ],
   "source": [
    "from quchem.Ansatz_Generator_Functions import *\n",
    "n_electrons=2\n",
    "n_qubits=4\n",
    "\n",
    "ansatz_obj = BK_Qubit_Reduction(QubitHamiltonian,\n",
    "                             n_electrons,\n",
    "                             n_qubits)\n",
    "\n",
    "indices_to_Remove = np.array([1,3])\n",
    "print('qubit indices:', indices_to_Remove, 'only acted on by I or Z')\n",
    "\n",
    "reduced_Qubit_Hamiltonian = ansatz_obj.Remove_indices_from_Hamiltonian(indices_to_Remove)\n",
    "reduced_Qubit_Hamiltonian"
   ]
  },
  {
   "cell_type": "markdown",
   "metadata": {},
   "source": [
    "### Can remove these terms from Anstz"
   ]
  },
  {
   "cell_type": "markdown",
   "metadata": {},
   "source": [
    "# NEXT need to re-label everything"
   ]
  },
  {
   "cell_type": "code",
   "execution_count": 5,
   "metadata": {},
   "outputs": [
    {
     "name": "stdout",
     "output_type": "stream",
     "text": [
      "qubit relabelling dict =  {0: 0, 2: 1}\n"
     ]
    },
    {
     "data": {
      "text/plain": [
       "(0.2460355896585992+0j) [] +\n",
       "(0.09060523100759853+0j) [X0 X1] +\n",
       "(0.09060523100759853+0j) [Y0 Y1] +\n",
       "(0.3428256528955378+0j) [Z0] +\n",
       "(0.5731061703432151+0j) [Z0 Z1] +\n",
       "(-0.4468630738162712+0j) [Z1]"
      ]
     },
     "execution_count": 5,
     "metadata": {},
     "output_type": "execute_result"
    }
   ],
   "source": [
    "relabel_dict, relabelled_reduced_Qubit_Hamiltonian = ansatz_obj.Re_label_Hamiltonian(reduced_Qubit_Hamiltonian)\n",
    "\n",
    "print('qubit relabelling dict = ', relabel_dict)\n",
    "\n",
    "relabelled_reduced_Qubit_Hamiltonian"
   ]
  },
  {
   "cell_type": "markdown",
   "metadata": {},
   "source": [
    "## Find New input state"
   ]
  },
  {
   "cell_type": "code",
   "execution_count": 6,
   "metadata": {},
   "outputs": [
    {
     "name": "stdout",
     "output_type": "stream",
     "text": [
      "old input =  [1. 0. 0. 0.]\n",
      "BUT following indices removed: [1 3]\n"
     ]
    },
    {
     "data": {
      "text/plain": [
       "array([1., 0.])"
      ]
     },
     "execution_count": 6,
     "metadata": {},
     "output_type": "execute_result"
    }
   ],
   "source": [
    "print('old input = ', ansatz_obj.Get_BK_HF_state_in_OCC_basis())\n",
    "print('BUT following indices removed:', indices_to_Remove)\n",
    "ansatz_obj.New_BK_HF_state(indices_to_Remove)"
   ]
  },
  {
   "cell_type": "markdown",
   "metadata": {},
   "source": [
    "# Find what new FCI energy is\n",
    "- here should be the same as true answer!"
   ]
  },
  {
   "cell_type": "code",
   "execution_count": 7,
   "metadata": {},
   "outputs": [
    {
     "ename": "NameError",
     "evalue": "name 'relabelled_reduced_Qubit_Hamiltonian' is not defined",
     "output_type": "error",
     "traceback": [
      "\u001b[0;31m---------------------------------------------------------------------------\u001b[0m",
      "\u001b[0;31mNameError\u001b[0m                                 Traceback (most recent call last)",
      "\u001b[0;32m<ipython-input-7-dedee0f87d96>\u001b[0m in \u001b[0;36m<module>\u001b[0;34m\u001b[0m\n\u001b[1;32m      1\u001b[0m \u001b[0;32mfrom\u001b[0m \u001b[0mopenfermion\u001b[0m \u001b[0;32mimport\u001b[0m \u001b[0mqubit_operator_sparse\u001b[0m\u001b[0;34m\u001b[0m\u001b[0;34m\u001b[0m\u001b[0m\n\u001b[0;32m----> 2\u001b[0;31m \u001b[0mnew_Molecular_H_MATRIX\u001b[0m \u001b[0;34m=\u001b[0m  \u001b[0mqubit_operator_sparse\u001b[0m\u001b[0;34m(\u001b[0m\u001b[0mrelabelled_reduced_Qubit_Hamiltonian\u001b[0m\u001b[0;34m)\u001b[0m\u001b[0;34m\u001b[0m\u001b[0;34m\u001b[0m\u001b[0m\n\u001b[0m\u001b[1;32m      3\u001b[0m \u001b[0;34m\u001b[0m\u001b[0m\n\u001b[1;32m      4\u001b[0m \u001b[0;32mfrom\u001b[0m \u001b[0mscipy\u001b[0m\u001b[0;34m.\u001b[0m\u001b[0mlinalg\u001b[0m \u001b[0;32mimport\u001b[0m \u001b[0meig\u001b[0m\u001b[0;34m\u001b[0m\u001b[0;34m\u001b[0m\u001b[0m\n\u001b[1;32m      5\u001b[0m \u001b[0meig_values\u001b[0m\u001b[0;34m,\u001b[0m \u001b[0meig_vectors\u001b[0m \u001b[0;34m=\u001b[0m \u001b[0meig\u001b[0m\u001b[0;34m(\u001b[0m\u001b[0mnew_Molecular_H_MATRIX\u001b[0m\u001b[0;34m.\u001b[0m\u001b[0mtodense\u001b[0m\u001b[0;34m(\u001b[0m\u001b[0;34m)\u001b[0m\u001b[0;34m)\u001b[0m\u001b[0;34m\u001b[0m\u001b[0;34m\u001b[0m\u001b[0m\n",
      "\u001b[0;31mNameError\u001b[0m: name 'relabelled_reduced_Qubit_Hamiltonian' is not defined"
     ]
    }
   ],
   "source": [
    "from openfermion import qubit_operator_sparse\n",
    "new_Molecular_H_MATRIX =  qubit_operator_sparse(relabelled_reduced_Qubit_Hamiltonian)\n",
    "\n",
    "from scipy.linalg import eig\n",
    "eig_values, eig_vectors = eig(new_Molecular_H_MATRIX.todense())\n",
    "new_FCI_Energy = min(eig_values)\n",
    "\n",
    "\n",
    "print('new_FCI = ', new_FCI_Energy, 'VS old FCI:', fci_energy)"
   ]
  },
  {
   "cell_type": "code",
   "execution_count": 8,
   "metadata": {},
   "outputs": [
    {
     "data": {
      "text/plain": [
       "0.36982006102093123"
      ]
     },
     "execution_count": 8,
     "metadata": {},
     "output_type": "execute_result"
    }
   ],
   "source": [
    "(-1.136914014427481+1.137283834488502)*1000"
   ]
  },
  {
   "cell_type": "markdown",
   "metadata": {},
   "source": [
    "# Anstaz"
   ]
  },
  {
   "cell_type": "markdown",
   "metadata": {},
   "source": [
    "\n",
    "From PHYS. REV. X, **8**, 031022 (2018):\n",
    "\n",
    "$$U = e^{-i \\theta Y_{0} X_{1}}$$\n",
    "\n",
    "- when acting on $| 10 \\rangle_{HF-BK-STATE}$ \n",
    "\n",
    "$$U | \\psi_{HF}\\rangle = | \\psi_{UCCSD}\\rangle$$\n",
    "\n",
    "overall we get:\n",
    "\n",
    "$\\begin{aligned} U|01\\rangle &=\\left(\\cos (\\theta) I-i \\sin (\\theta) Y_{0} X_{1}\\right)|10\\rangle \\\\ &=\\cos (\\theta)|10\\rangle-\\sin (\\theta)|11\\rangle \\end{aligned}$\n",
    "\n",
    "- note $Y|1\\rangle = -i|1\\rangle$\n",
    "\n",
    "to do this in Q.C the following circuit is employed:"
   ]
  },
  {
   "cell_type": "code",
   "execution_count": 9,
   "metadata": {},
   "outputs": [],
   "source": [
    "# from quchem.Ansatz_Generator_Functions import *\n",
    "# # n_electrons=Hamilt.molecule.n_electrons\n",
    "# # n_qubits= Hamilt.molecule.n_qubit\n",
    "# n_electrons=2\n",
    "# n_qubits= 4\n",
    "\n",
    "# ansatz_obj = Ansatz(n_electrons, n_qubits)\n",
    "\n",
    "\n",
    "\n",
    "# Sec_Quant_CC_ops_ia, Sec_Quant_CC_ops_ijab, theta_parameters_ia, theta_parameters_ijab=ansatz_obj.Get_ia_and_ijab_terms(single_cc_amplitudes=None, \n",
    "#                                                                                                              double_cc_amplitudes=None, \n",
    "#                                                                                                              singles_hamiltonian=None,\n",
    "#                                                                                                              doubles_hamiltonian=None, \n",
    "#                                                                                                              tol_filter_small_terms = None)\n",
    "\n",
    "# Qubit_Op_list_Second_Quant_CC_Ops_ia, Qubit_Op_list_Second_Quant_CC_Ops_ijab = ansatz_obj.UCCSD_single_trotter_step(Sec_Quant_CC_ops_ia,\n",
    "#                                                                                                                     Sec_Quant_CC_ops_ijab,\n",
    "#                                                                                                                    transformation='BK')\n"
   ]
  },
  {
   "cell_type": "code",
   "execution_count": 10,
   "metadata": {},
   "outputs": [],
   "source": [
    "# input_state = ansatz_obj.Get_BK_HF_state_in_OCC_basis()\n",
    "# print(input_state)\n",
    "\n",
    "# UCCSD_ansatz_Q_Circ_obj = Ansatz_Circuit(input_state,\n",
    "#                                      Qubit_Op_list_Second_Quant_CC_Ops_ia, \n",
    "#                                      Qubit_Op_list_Second_Quant_CC_Ops_ijab)\n",
    "\n",
    "# UCCSD_ansatz_Q_Circ =UCCSD_ansatz_Q_Circ_obj.Get_Full_HF_UCCSD_QC(Theta_param_list_ia=theta_parameters_ia, \n",
    "#                                          Theta_param_list_ijab=theta_parameters_ijab,\n",
    "#                                          ia_first=True)\n",
    "# UCCSD_ansatz_Q_Circ"
   ]
  },
  {
   "cell_type": "code",
   "execution_count": 11,
   "metadata": {},
   "outputs": [],
   "source": [
    "# Qubit_Op_list_Second_Quant_CC_Ops_ijab"
   ]
  },
  {
   "cell_type": "code",
   "execution_count": 12,
   "metadata": {},
   "outputs": [],
   "source": [
    "# print('double e- operators:')\n",
    "# print(Qubit_Op_list_Second_Quant_CC_Ops_ijab)\n",
    "\n",
    "# ansatz_obj = BK_Qubit_Reduction(QubitHamiltonian,\n",
    "#                              n_electrons,\n",
    "#                              n_qubits)\n",
    "\n",
    "# indices_to_Remove = ansatz_obj.Find_Qubits_only_acted_on_by_I_or_Z(Qubit_Op_list_Second_Quant_CC_Ops_ijab)\n",
    "# print('')\n",
    "# print('qubit indices:', indices_to_Remove, 'only acted on by I or Z')"
   ]
  },
  {
   "cell_type": "code",
   "execution_count": null,
   "metadata": {},
   "outputs": [],
   "source": []
  },
  {
   "cell_type": "code",
   "execution_count": 13,
   "metadata": {},
   "outputs": [],
   "source": [
    "# reduced_ijab_CC = ansatz_obj.Remove_indices_from_CC_qubit_operators(Qubit_Op_list_Second_Quant_CC_Ops_ijab,\n",
    "#                                                              indices_to_Remove)\n",
    "# reduced_ijab_CC"
   ]
  },
  {
   "cell_type": "code",
   "execution_count": 14,
   "metadata": {},
   "outputs": [],
   "source": [
    "# relabelled_reduced_ijab_CC = ansatz_obj.Re_label_CC_qubit_operators(relabel_dict, reduced_ijab_CC)\n",
    "# relabelled_reduced_ijab_CC"
   ]
  },
  {
   "cell_type": "code",
   "execution_count": 8,
   "metadata": {},
   "outputs": [
    {
     "data": {
      "text/html": [
       "<pre style=\"overflow: auto; white-space: pre;\">0: ───X───Rx(0.5π)───@──────────────@───Rx(-0.5π)───\n",
       "                     │              │\n",
       "1: ───H──────────────X───Rz(0.2π)───X───H───────────</pre>"
      ],
      "text/plain": [
       "0: ───X───Rx(0.5π)───@──────────────@───Rx(-0.5π)───\n",
       "                     │              │\n",
       "1: ───H──────────────X───Rz(0.2π)───X───H───────────"
      ]
     },
     "execution_count": 8,
     "metadata": {},
     "output_type": "execute_result"
    }
   ],
   "source": [
    "from quchem.Simulating_Quantum_Circuit import *\n",
    "from quchem.Ansatz_Generator_Functions import *\n",
    "from openfermion.ops import QubitOperator\n",
    "\n",
    "def H2_ansatz_BK(theta):\n",
    "    \n",
    "    HF_circ = [cirq.X.on(cirq.LineQubit(0))]\n",
    "    full_exp_circ_obj = full_exponentiated_PauliWord_circuit(QubitOperator('Y0 X1', -1j), theta)\n",
    "        \n",
    "    UCCSD_circ = cirq.Circuit(cirq.decompose_once((full_exp_circ_obj(*cirq.LineQubit.range(full_exp_circ_obj.num_qubits())))))\n",
    "    full_circuit = cirq.Circuit([*HF_circ, *UCCSD_circ.all_operations()])\n",
    "    \n",
    "    return full_circuit\n",
    "    \n",
    "circuit_form = H2_ansatz_BK(np.pi/10)    \n",
    "circuit_form"
   ]
  },
  {
   "cell_type": "code",
   "execution_count": null,
   "metadata": {},
   "outputs": [],
   "source": []
  },
  {
   "cell_type": "code",
   "execution_count": null,
   "metadata": {},
   "outputs": [],
   "source": []
  },
  {
   "cell_type": "markdown",
   "metadata": {},
   "source": [
    "# Unitary Partitioning"
   ]
  },
  {
   "cell_type": "code",
   "execution_count": 14,
   "metadata": {},
   "outputs": [],
   "source": [
    "from quchem.LCU_method import *"
   ]
  },
  {
   "cell_type": "code",
   "execution_count": 17,
   "metadata": {},
   "outputs": [],
   "source": [
    "# Hamiltonian_graph_obj = Openfermion_Hamiltonian_Graph(relabelled_reduced_Qubit_Hamiltonian)\n",
    "\n",
    "# commutativity_flag = 'AC' ## <- defines relationship between sets!!!\n",
    "# plot_graph = False\n",
    "# Graph_colouring_strategy='largest_first'\n",
    "# anti_commuting_sets = Hamiltonian_graph_obj.Get_Clique_Cover_as_QubitOp(commutativity_flag, Graph_colouring_strategy=Graph_colouring_strategy, plot_graph=plot_graph)\n",
    "# anti_commuting_sets\n",
    "\n",
    "# Graph_sets_dict={}\n",
    "# for key in anti_commuting_sets:\n",
    "#     terms=[]\n",
    "#     for QubitOp in anti_commuting_sets[key]:\n",
    "#         terms.append(*tuple(QubitOp.terms.items()))\n",
    "#     Graph_sets_dict[key]=(terms)\n",
    "# Graph_sets_dict"
   ]
  },
  {
   "cell_type": "code",
   "execution_count": 9,
   "metadata": {},
   "outputs": [
    {
     "data": {
      "text/plain": [
       "{0: [(0.5731061703432151+0j) [Z0 Z1]],\n",
       " 1: [(0.2460355896585992+0j) []],\n",
       " 2: [(0.09060523100759853+0j) [Y0 Y1], (0.3428256528955378+0j) [Z0]],\n",
       " 3: [(-0.4468630738162712+0j) [Z1], (0.09060523100759853+0j) [X0 X1]]}"
      ]
     },
     "execution_count": 9,
     "metadata": {},
     "output_type": "execute_result"
    }
   ],
   "source": [
    "Graph_sets_dict = {0: [(((0, 'Z'), (1, 'Z')), (0.5731061703432151+0j))],\n",
    " 1: [((), (0.2460355896585992+0j))],\n",
    " 2: [(((0, 'Y'), (1, 'Y')), (0.09060523100759853+0j)),\n",
    "  (((0, 'Z'),), (0.3428256528955378+0j))],\n",
    " 3: [(((1, 'Z'),), (-0.4468630738162712+0j)),\n",
    "  (((0, 'X'), (1, 'X')), (0.09060523100759853+0j))]}\n",
    "\n",
    "\n",
    "anti_commuting_sets={}\n",
    "for key in Graph_sets_dict:\n",
    "    terms=[]\n",
    "    for PauliWord, const in Graph_sets_dict[key]:\n",
    "        terms.append(QubitOperator(PauliWord, const))\n",
    "    anti_commuting_sets[key]=terms\n",
    "anti_commuting_sets"
   ]
  },
  {
   "cell_type": "code",
   "execution_count": null,
   "metadata": {},
   "outputs": [],
   "source": []
  },
  {
   "cell_type": "markdown",
   "metadata": {},
   "source": [
    "## Sequence of Rotations method"
   ]
  },
  {
   "cell_type": "code",
   "execution_count": 10,
   "metadata": {},
   "outputs": [],
   "source": [
    "from quchem.Unitary_partitioning import *"
   ]
  },
  {
   "cell_type": "code",
   "execution_count": 20,
   "metadata": {},
   "outputs": [
    {
     "data": {
      "text/html": [
       "<pre style=\"overflow: auto; white-space: pre;\">0: ───H──────────@───────────────────────────────────@───H───────────\n",
       "                 │                                   │\n",
       "1: ───Rx(0.5π)───X───Rz((-0.4177545302280244+0j)π)───X───Rx(-0.5π)───</pre>"
      ],
      "text/plain": [
       "0: ───H──────────@───────────────────────────────────@───H───────────\n",
       "                 │                                   │\n",
       "1: ───Rx(0.5π)───X───Rz((-0.4177545302280244+0j)π)───X───Rx(-0.5π)───"
      ]
     },
     "execution_count": 20,
     "metadata": {},
     "output_type": "execute_result"
    }
   ],
   "source": [
    "set_index=2\n",
    "S_index=0\n",
    "\n",
    "Reduction_circuit_circ, Ps, gamma_l = Build_reduction_circuit(anti_commuting_sets[set_index], S_index,\n",
    "                                                                  check_reduction=True)\n",
    "Reduction_circuit_circ"
   ]
  },
  {
   "cell_type": "code",
   "execution_count": 21,
   "metadata": {},
   "outputs": [],
   "source": [
    "import random\n",
    "# theta_ijab= random.uniform(0, 2*np.pi)\n",
    "theta_ijab=1"
   ]
  },
  {
   "cell_type": "code",
   "execution_count": 22,
   "metadata": {},
   "outputs": [
    {
     "data": {
      "text/html": [
       "<pre style=\"overflow: auto; white-space: pre;\">0: ───X───Rx(0.5π)───@────────────────@───Rx(-0.5π)───H──────────@───────────────────────────────────@───H───────────\n",
       "                     │                │                          │                                   │\n",
       "1: ───H──────────────X───Rz(0.637π)───X───H───────────Rx(0.5π)───X───Rz((-0.4177545302280244+0j)π)───X───Rx(-0.5π)───</pre>"
      ],
      "text/plain": [
       "0: ───X───Rx(0.5π)───@────────────────@───Rx(-0.5π)───H──────────@───────────────────────────────────@───H───────────\n",
       "                     │                │                          │                                   │\n",
       "1: ───H──────────────X───Rz(0.637π)───X───H───────────Rx(0.5π)───X───Rz((-0.4177545302280244+0j)π)───X───Rx(-0.5π)───"
      ]
     },
     "execution_count": 22,
     "metadata": {},
     "output_type": "execute_result"
    }
   ],
   "source": [
    "## example circuit\n",
    "set_index=2\n",
    "S_index=0\n",
    "\n",
    "ansatz_cirq_circuit = H2_ansatz_BK(theta_ijab)\n",
    "full_circuit, Ps, gamma_l = Generate_Full_Q_Circuit_Conj_NO_M_gates(ansatz_cirq_circuit, \n",
    "                                                         anti_commuting_sets[set_index], \n",
    "                                                         S_index, \n",
    "                                                         check_reduction=True)\n",
    "full_circuit"
   ]
  },
  {
   "cell_type": "code",
   "execution_count": null,
   "metadata": {},
   "outputs": [],
   "source": []
  },
  {
   "cell_type": "code",
   "execution_count": 23,
   "metadata": {},
   "outputs": [],
   "source": [
    "def GIVE_ENERGY_lin_alg_ROTATIONS(theta_ijab):\n",
    "    \n",
    "\n",
    "    ansatz_cirq_circuit = H2_ansatz_BK(theta_ijab)\n",
    "\n",
    "    \n",
    "    VQE_exp_CONJ_lin_alg = VQE_Experiment_Conj_UP_lin_alg(\n",
    "                 anti_commuting_sets,\n",
    "                 ansatz_cirq_circuit,\n",
    "                 S_key_dict=None)\n",
    "\n",
    "    \n",
    "    energy = VQE_exp_CONJ_lin_alg.Calc_Energy()\n",
    "    \n",
    "    return energy"
   ]
  },
  {
   "cell_type": "code",
   "execution_count": 24,
   "metadata": {},
   "outputs": [
    {
     "data": {
      "text/plain": [
       "-0.1632183220308672"
      ]
     },
     "execution_count": 24,
     "metadata": {},
     "output_type": "execute_result"
    }
   ],
   "source": [
    "GIVE_ENERGY_lin_alg_ROTATIONS(theta_ijab)"
   ]
  },
  {
   "cell_type": "code",
   "execution_count": 25,
   "metadata": {},
   "outputs": [],
   "source": [
    "def GIVE_ENERGY_Q_CIRC_ROTATIONS(theta_ijab, n_shots):\n",
    "    \n",
    "\n",
    "    ansatz_cirq_circuit = H2_ansatz_BK(theta_ijab)\n",
    "\n",
    "    \n",
    "    VQE_exp_ROT = VQE_Experiment_Conj_UP(\n",
    "                  anti_commuting_sets, \n",
    "                    ansatz_cirq_circuit,\n",
    "                    n_shots,\n",
    "                    S_key_dict=None)\n",
    "    \n",
    "    energy = VQE_exp_ROT.Calc_Energy()\n",
    "    \n",
    "    return energy"
   ]
  },
  {
   "cell_type": "markdown",
   "metadata": {},
   "source": [
    "# optimizing"
   ]
  },
  {
   "cell_type": "code",
   "execution_count": 26,
   "metadata": {},
   "outputs": [],
   "source": [
    "from openfermion.transforms import get_sparse_operator\n",
    "\n",
    "def Analytical_Gradient_H2(theta_ijab, n_shots_FILLER):#, QubitHamiltonian=relabelled_reduced_Qubit_Hamiltonian):\n",
    "    \n",
    "    QubitHamiltonian=relabelled_reduced_Qubit_Hamiltonian\n",
    "    \n",
    "    H_matrix = get_sparse_operator(QubitHamiltonian).todense()   \n",
    "    input_ket = np.array([[1],[0],[0],[0]])\n",
    "    \n",
    "    theta_ijab_plus = theta_ijab + np.pi/4\n",
    "    ansatz_cirq_circuit_plus = H2_ansatz_BK(theta_ijab_plus)\n",
    "\n",
    "    circuit_matrix_plus = ansatz_cirq_circuit_plus.unitary()\n",
    "    ket_plus = circuit_matrix_plus.dot(input_ket)\n",
    "    exp_plus= ket_plus.transpose().conj().dot(H_matrix.dot(ket_plus))\n",
    "    \n",
    "    theta_ijab_minus = theta_ijab - np.pi/4\n",
    "    ansatz_cirq_circuit_minus = H2_ansatz_BK(theta_ijab_minus)\n",
    "    circuit_matrix_minus = ansatz_cirq_circuit_minus.unitary()\n",
    "    ket_minus = circuit_matrix_minus.dot(input_ket)\n",
    "    exp_minus= ket_minus.transpose().conj().dot(H_matrix.dot(ket_minus))\n",
    "\n",
    "    gradient = (exp_plus - exp_minus).real\n",
    "    \n",
    "    return np.ravel(gradient)"
   ]
  },
  {
   "cell_type": "code",
   "execution_count": 27,
   "metadata": {},
   "outputs": [],
   "source": [
    "from quchem.Scipy_Optimizer import Optimizer, Custom_Adam"
   ]
  },
  {
   "cell_type": "code",
   "execution_count": 28,
   "metadata": {},
   "outputs": [
    {
     "name": "stdout",
     "output_type": "stream",
     "text": [
      "0: Input_to_Funct: [0.9]: Output: -0.32600536942196984\n",
      "1: Input_to_Funct: [0.79995105]: Output: -0.48545146553831214\n",
      "2: Input_to_Funct: [0.69995307]: Output: -0.645819577382953\n",
      "3: Input_to_Funct: [0.60026329]: Output: -0.7839576292143237\n",
      "4: Input_to_Funct: [0.50135444]: Output: -0.9038489509806449\n",
      "5: Input_to_Funct: [0.40398468]: Output: -1.0050770319782123\n",
      "6: Input_to_Funct: [0.30926984]: Output: -1.0772366168941492\n",
      "7: Input_to_Funct: [0.21873061]: Output: -1.119152517494559\n",
      "8: Input_to_Funct: [0.13426643]: Output: -1.136346530667115\n",
      "9: Input_to_Funct: [0.05800225]: Output: -1.1330031545402124\n",
      "10: Input_to_Funct: [-0.00800394]: Output: -1.1120403785707182\n",
      "11: Input_to_Funct: [-0.06211535]: Output: -1.0871565098461906\n",
      "12: Input_to_Funct: [-0.10338758]: Output: -1.058746947191266\n",
      "13: Input_to_Funct: [-0.13164962]: Output: -1.0437011084766654\n",
      "14: Input_to_Funct: [-0.14740276]: Output: -1.0315629617368125\n",
      "15: Input_to_Funct: [-0.15162872]: Output: -1.0248047732517187\n",
      "16: Input_to_Funct: [-0.1455984]: Output: -1.02894872759518\n",
      "17: Input_to_Funct: [-0.1307287]: Output: -1.0423634866456175\n",
      "18: Input_to_Funct: [-0.10849428]: Output: -1.0554538954165842\n",
      "19: Input_to_Funct: [-0.08038264]: Output: -1.0787673709256411\n",
      "20: Input_to_Funct: [-0.04787566]: Output: -1.095950957387371\n",
      "21: Input_to_Funct: [-0.01244299]: Output: -1.1129218505140828\n",
      "22: Input_to_Funct: [0.02446449]: Output: -1.126002091031639\n",
      "23: Input_to_Funct: [0.06142953]: Output: -1.1337630597431294\n",
      "24: Input_to_Funct: [0.09709649]: Output: -1.1367519039020997\n",
      "25: Input_to_Funct: [0.13021265]: Output: -1.137258442756357\n",
      "26: Input_to_Funct: [0.15967826]: Output: -1.1327495943484909\n",
      "27: Input_to_Funct: [0.18459662]: Output: -1.1296897662587098\n",
      "28: Input_to_Funct: [0.20431412]: Output: -1.1238030753066317\n",
      "29: Input_to_Funct: [0.21844287]: Output: -1.1166903548536053\n",
      "30: Input_to_Funct: [0.22686271]: Output: -1.1171665827906931\n",
      "31: Input_to_Funct: [0.22970499]: Output: -1.1140358353844548\n",
      "32: Input_to_Funct: [0.22732323]: Output: -1.115991265328089\n",
      "33: Input_to_Funct: [0.22025684]: Output: -1.1185547874313773\n",
      "34: Input_to_Funct: [0.20919251]: Output: -1.1224149998946555\n",
      "35: Input_to_Funct: [0.19492602]: Output: -1.1269440555806347\n",
      "36: Input_to_Funct: [0.17832532]: Output: -1.1311589292405533\n",
      "37: Input_to_Funct: [0.16029444]: Output: -1.1340769186974202\n",
      "38: Input_to_Funct: [0.14173767]: Output: -1.135698088565589\n",
      "39: Input_to_Funct: [0.12352364]: Output: -1.1366201042938877\n",
      "40: Input_to_Funct: [0.10645028]: Output: -1.1372686110097674\n",
      "41: Input_to_Funct: [0.09121221]: Output: -1.1366809845856423\n",
      "42: Input_to_Funct: [0.07837293]: Output: -1.1358603283196784\n",
      "43: Input_to_Funct: [0.06834436]: Output: -1.1336313247492713\n",
      "44: Input_to_Funct: [0.0613752]: Output: -1.1315138488946095\n",
      "45: Input_to_Funct: [0.05754897]: Output: -1.1325674703880584\n",
      "46: Input_to_Funct: [0.05679111]: Output: -1.1322027701667154\n",
      "47: Input_to_Funct: [0.05888378]: Output: -1.132324336907163\n",
      "48: Input_to_Funct: [0.06348675]: Output: -1.132932364452463\n",
      "49: Input_to_Funct: [0.07016243]: Output: -1.13493831259138\n",
      "Optimization terminated successfully.\n"
     ]
    },
    {
     "data": {
      "text/plain": [
       "     fun: -1.1328106684833075\n",
       " message: 'Optimization terminated successfully.'\n",
       "    nfev: 50\n",
       "     nit: 50\n",
       "    njev: 50\n",
       "  status: 0\n",
       " success: True\n",
       "       x: array([0.07016243])"
      ]
     },
     "execution_count": 28,
     "metadata": {},
     "output_type": "execute_result"
    },
    {
     "data": {
      "image/png": "[encoded data removed]",
      "text/plain": [
       "<Figure size 432x288 with 1 Axes>"
      ]
     },
     "metadata": {
      "needs_background": "light"
     },
     "output_type": "display_data"
    }
   ],
   "source": [
    "# circuit simulation sequence of Rotations\n",
    "\n",
    "# theta_ijab_random_input= random.uniform(0, 2*np.pi)\n",
    "theta_ijab_random_input=1\n",
    "n_shots=10000\n",
    "\n",
    "custom_optimizer_DICT = {'learning_rate': 0.1, 'beta_1': 0.9, 'beta_2': 0.999, 'epsilon': 1e-8,\n",
    "                           'maxfev': 15000}\n",
    "\n",
    "\n",
    "ROT_optimization = Optimizer(GIVE_ENERGY_Q_CIRC_ROTATIONS,\n",
    "                   theta_ijab_random_input,\n",
    "                   args=(n_shots,),\n",
    "                   method=Custom_Adam, \n",
    "                   jac=Analytical_Gradient_H2,\n",
    "                   hess=None,\n",
    "                   hessp=None,\n",
    "                      bounds=None,\n",
    "                   constraints=None,\n",
    "                   tol=1e-4, \n",
    "                   display_convergence_message=True,\n",
    "                   display_steps=True,\n",
    "                   custom_optimizer_DICT=custom_optimizer_DICT)\n",
    "\n",
    "ROT_optimization.get_env(50)\n",
    "ROT_optimization.plot_convergence()\n",
    "ROT_optimization.optimized_result"
   ]
  },
  {
   "cell_type": "code",
   "execution_count": 29,
   "metadata": {},
   "outputs": [
    {
     "name": "stdout",
     "output_type": "stream",
     "text": [
      "number of iterations:  50\n",
      "number of fn evals:  50\n",
      "total no. of measurements:  1500000\n"
     ]
    }
   ],
   "source": [
    "print('number of iterations: ', ROT_optimization.optimized_result.nit)\n",
    "print('number of fn evals: ', ROT_optimization.optimized_result.nfev)\n",
    "print('total no. of measurements: ', ROT_optimization.optimized_result.nfev*n_shots*3)"
   ]
  },
  {
   "cell_type": "code",
   "execution_count": null,
   "metadata": {},
   "outputs": [],
   "source": []
  },
  {
   "cell_type": "markdown",
   "metadata": {},
   "source": [
    "## LCU method"
   ]
  },
  {
   "cell_type": "code",
   "execution_count": 11,
   "metadata": {
    "code_folding": [
     0
    ]
   },
   "outputs": [],
   "source": [
    "def manual_LCU_circuit(Pn, R_corrected_Op_list, R_correction_list, ancilla_amplitudes, N_system_qubits, ansatz_circ, include_M_gates=True):\n",
    "    \"\"\"\n",
    "    single qubit case only!\n",
    "    \n",
    "    theta_sk = 2*arccos(ancilla_amplitudes[0])\n",
    "    \"\"\"\n",
    "    \n",
    "    N_ancilla_qubits = int(np.ceil(np.log2(len(ancilla_amplitudes))))\n",
    "    \n",
    "    G_qubit = cirq.LineQubit(N_ancilla_qubits+N_system_qubits-1)\n",
    "\n",
    "    theta_sk = 2*np.arccos(ancilla_amplitudes[0])\n",
    "    G_circ = cirq.ry(theta_sk).on(G_qubit)\n",
    "    G_circ_dagger = cirq.ry(-1*theta_sk).on(G_qubit)\n",
    "    \n",
    "    R_circ_obj = LCU_R_gate(N_ancilla_qubits, N_system_qubits, R_corrected_Op_list, R_correction_list, Pn)\n",
    "    R_circ_circ = cirq.Circuit(\n",
    "        cirq.decompose_once((R_circ_obj(*cirq.LineQubit.range(R_circ_obj.num_qubits())))))\n",
    "\n",
    "    change_to_Z_basis_obj = Change_PauliWord_measurement_to_Z_basis(Pn)\n",
    "    change_to_Z_basis_circ = cirq.Circuit(\n",
    "        cirq.decompose_once((change_to_Z_basis_obj(*cirq.LineQubit.range(change_to_Z_basis_obj.num_qubits())))))\n",
    "\n",
    "    measure_obj = Measure_system_and_ancilla(Pn, N_ancilla_qubits, N_system_qubits)\n",
    "\n",
    "    measure_obj_circ = cirq.Circuit(\n",
    "        cirq.decompose_once((measure_obj(*cirq.LineQubit.range(measure_obj.num_qubits())))))\n",
    "\n",
    "    if include_M_gates:\n",
    "        full_Q_circ = cirq.Circuit([\n",
    "            *ansatz_circ.all_operations(),\n",
    "            G_circ,\n",
    "            *R_circ_circ.all_operations(),\n",
    "            G_circ_dagger,\n",
    "            *change_to_Z_basis_circ.all_operations(),\n",
    "            *measure_obj_circ\n",
    "        ])\n",
    "    else:\n",
    "        full_Q_circ = cirq.Circuit([\n",
    "            *ansatz_circ.all_operations(),\n",
    "            G_circ,\n",
    "            *R_circ_circ.all_operations(),\n",
    "            G_circ_dagger,\n",
    "        ])\n",
    "    return full_Q_circ"
   ]
  },
  {
   "cell_type": "code",
   "execution_count": 12,
   "metadata": {
    "code_folding": []
   },
   "outputs": [
    {
     "ename": "NameError",
     "evalue": "name 'theta_ijab' is not defined",
     "output_type": "error",
     "traceback": [
      "\u001b[0;31m---------------------------------------------------------------------------\u001b[0m",
      "\u001b[0;31mNameError\u001b[0m                                 Traceback (most recent call last)",
      "\u001b[0;32m<ipython-input-12-93151a166611>\u001b[0m in \u001b[0;36m<module>\u001b[0;34m\u001b[0m\n\u001b[1;32m      4\u001b[0m \u001b[0mn_qubits\u001b[0m\u001b[0;34m=\u001b[0m\u001b[0;36m2\u001b[0m\u001b[0;34m\u001b[0m\u001b[0;34m\u001b[0m\u001b[0m\n\u001b[1;32m      5\u001b[0m \u001b[0;34m\u001b[0m\u001b[0m\n\u001b[0;32m----> 6\u001b[0;31m \u001b[0mansatz_cirq_circuit\u001b[0m \u001b[0;34m=\u001b[0m \u001b[0mH2_ansatz_BK\u001b[0m\u001b[0;34m(\u001b[0m\u001b[0mtheta_ijab\u001b[0m\u001b[0;34m)\u001b[0m\u001b[0;34m\u001b[0m\u001b[0;34m\u001b[0m\u001b[0m\n\u001b[0m\u001b[1;32m      7\u001b[0m \u001b[0;34m\u001b[0m\u001b[0m\n\u001b[1;32m      8\u001b[0m \u001b[0mR_uncorrected\u001b[0m\u001b[0;34m,\u001b[0m \u001b[0mPn\u001b[0m\u001b[0;34m,\u001b[0m \u001b[0mgamma_l\u001b[0m \u001b[0;34m=\u001b[0m \u001b[0mGet_R_op_list\u001b[0m\u001b[0;34m(\u001b[0m\u001b[0manti_commuting_sets\u001b[0m\u001b[0;34m[\u001b[0m\u001b[0mset_index\u001b[0m\u001b[0;34m]\u001b[0m\u001b[0;34m,\u001b[0m \u001b[0mN_index\u001b[0m\u001b[0;34m)\u001b[0m\u001b[0;34m\u001b[0m\u001b[0;34m\u001b[0m\u001b[0m\n",
      "\u001b[0;31mNameError\u001b[0m: name 'theta_ijab' is not defined"
     ]
    }
   ],
   "source": [
    "## example circuit\n",
    "set_index=2\n",
    "N_index=0\n",
    "n_qubits=2\n",
    "\n",
    "ansatz_cirq_circuit = H2_ansatz_BK(theta_ijab)\n",
    "\n",
    "R_uncorrected, Pn, gamma_l = Get_R_op_list(anti_commuting_sets[set_index], N_index)\n",
    "R_corrected_Op_list, R_corr_list, ancilla_amplitudes, l1 = absorb_complex_phases(R_uncorrected)\n",
    "                                                                            \n",
    "full_Q_circuit = manual_LCU_circuit(Pn,\n",
    "                                   R_corrected_Op_list,\n",
    "                                   R_corr_list,\n",
    "                                   ancilla_amplitudes,\n",
    "                                   n_qubits , \n",
    "                                   ansatz_cirq_circuit,\n",
    "                                   include_M_gates=True)\n",
    "\n",
    "print(Pn)\n",
    "full_Q_circuit"
   ]
  },
  {
   "cell_type": "code",
   "execution_count": null,
   "metadata": {},
   "outputs": [],
   "source": []
  },
  {
   "cell_type": "code",
   "execution_count": null,
   "metadata": {
    "code_folding": [
     0,
     4,
     18,
     25,
     32
    ]
   },
   "outputs": [],
   "source": [
    "class VQE_Experiment_LCU_UP_single_qubit_only_CIRCUIT():\n",
    "    \"\"\"\n",
    "    TODO doc_string\n",
    "    \"\"\"\n",
    "    def __init__(self,\n",
    "                 anti_commuting_sets,\n",
    "                 ansatz_circuit,\n",
    "                 n_shots,\n",
    "                 N_system_qubits,\n",
    "                 N_indices_dict=None):\n",
    "\n",
    "        self.anti_commuting_sets = anti_commuting_sets\n",
    "        self.ansatz_circuit = ansatz_circuit\n",
    "        self.n_shots = n_shots\n",
    "\n",
    "        self.N_system_qubits = N_system_qubits\n",
    "        self.N_indices_dict = N_indices_dict\n",
    "\n",
    "    def Get_Histogram_key_ancilla_system(self, qubitOperator, N_ancilla_qubits):\n",
    "\n",
    "        qubit_No, PauliStr = zip(*list(*qubitOperator.terms.keys()))\n",
    "        histogram_string = ','.join([str(i) for i in (qubit_No)] + [str(i) for i in range(self.N_system_qubits,\n",
    "                                                                                          self.N_system_qubits + N_ancilla_qubits)])\n",
    "        return histogram_string\n",
    "\n",
    "    def simulate_probabilistic_Q_circuit(self, probability_of_success, Quantum_circuit):\n",
    "        simulator = cirq.Simulator()\n",
    "        raw_result = simulator.run(Quantum_circuit, repetitions=self.n_shots * int(np.ceil(1 / probability_of_success)))\n",
    "        # TODO note extra 1000 here in no.  of shots (due to only certain exp results taken when projected)\n",
    "        # TODO could make an optional parameter\n",
    "        return raw_result\n",
    "\n",
    "    def Get_binary_dict_project(self, Quantum_circuit, qubitOperator, ancilla_amplitudes, l1_norm):\n",
    "        N_system_terms_measured = len(list(qubitOperator.terms.keys())[0])\n",
    "        N_ancilla_qubits = int(np.ceil(np.log2(len(ancilla_amplitudes))))\n",
    "        correct_ancilla_state = np.zeros([N_ancilla_qubits])\n",
    "\n",
    "        P_success = (1 / l1_norm) ** 2\n",
    "\n",
    "        total_number_repeats=0\n",
    "        n_success_shots = 0\n",
    "        binary_results_dict = {}\n",
    "        while n_success_shots != self.n_shots:\n",
    "            hist_key = Get_Histogram_key_ancilla_system(qubitOperator, self.N_system_qubits, N_ancilla_qubits)\n",
    "            raw_result = simulate_probabilistic_Q_circuit(P_success, Quantum_circuit, self.n_shots)\n",
    "\n",
    "            M_results = raw_result.measurements[hist_key]\n",
    "            for result in M_results:\n",
    "                \n",
    "                total_number_repeats+=1\n",
    "                if np.array_equal(result[N_system_terms_measured::],\n",
    "                                  correct_ancilla_state):  # Checks if all zero ancilla measured!\n",
    "                    seperator = ''\n",
    "                    state_key_binary = seperator.join(\n",
    "                        map(str, result[:N_system_terms_measured]))  # Gets rid of ancilla part!!!\n",
    "                    if state_key_binary not in binary_results_dict.keys():\n",
    "                        binary_results_dict[state_key_binary] = 1\n",
    "                    else:\n",
    "                        binary_results_dict[state_key_binary] += 1\n",
    "                    n_success_shots += 1\n",
    "\n",
    "                if n_success_shots == self.n_shots:\n",
    "                    break\n",
    "        return binary_results_dict, total_number_repeats\n",
    "\n",
    "    def Calc_Energy(self, check_LCU_reduction=False):\n",
    "\n",
    "        E_list = []\n",
    "        number_of_circuit_evals={}\n",
    "        for set_key in self.anti_commuting_sets:\n",
    "            if len(self.anti_commuting_sets[set_key]) > 1:\n",
    "\n",
    "                if self.N_indices_dict is None:\n",
    "                    R_uncorrected, Pn, gamma_l = Get_R_op_list(self.anti_commuting_sets[set_key], 0,\n",
    "                                                               check_operator=check_LCU_reduction)\n",
    "                    R_corrected_Op_list, R_corr_list, ancilla_amplitudes, l1_norm = absorb_complex_phases(R_uncorrected)\n",
    "                else:\n",
    "                    R_uncorrected, Pn, gamma_l = Get_R_op_list(self.anti_commuting_sets[set_key],\n",
    "                                                                          self.N_indices_dict[set_key],\n",
    "                                                               check_operator=check_LCU_reduction)\n",
    "                    R_corrected_Op_list, R_corr_list, ancilla_amplitudes, l1_norm = absorb_complex_phases(R_uncorrected)\n",
    "\n",
    "                Q_circuit = manual_LCU_circuit(Pn,\n",
    "                                               R_corrected_Op_list,\n",
    "                                               R_corr_list, \n",
    "                                               ancilla_amplitudes,\n",
    "                                               self.N_system_qubits, \n",
    "                                               self.ansatz_circuit)\n",
    "\n",
    "                binary_state_counter, total_no_measurements = self.Get_binary_dict_project(Q_circuit, Pn, ancilla_amplitudes, l1_norm)\n",
    "                exp_result = expectation_value_by_parity(binary_state_counter)\n",
    "\n",
    "                E_list.append(exp_result * gamma_l)\n",
    "                number_of_circuit_evals[set_key]=total_no_measurements\n",
    "                #print(Pn, gamma_l, exp_result, l1_norm)\n",
    "\n",
    "            else:\n",
    "                single_PauliOp = self.anti_commuting_sets[set_key][0]\n",
    "                if list(single_PauliOp.terms.keys())[0] == ():\n",
    "                    E_list.append(list(single_PauliOp.terms.values())[0])\n",
    "                else:\n",
    "                    Q_circuit = Generate_Full_Q_Circuit(self.ansatz_circuit, single_PauliOp)\n",
    "                    hist_key_str = Get_Histogram_key(single_PauliOp)\n",
    "                    int_state_counter = Simulate_Quantum_Circuit(Q_circuit, self.n_shots, hist_key_str)\n",
    "                    binary_state_counter = Return_as_binary(int_state_counter, hist_key_str)\n",
    "                    exp_result = expectation_value_by_parity(binary_state_counter)\n",
    "                    E_list.append(exp_result * list(single_PauliOp.terms.values())[0])\n",
    "                    #print(single_PauliOp, exp_result * list(single_PauliOp.terms.values())[0])\n",
    "\n",
    "        #         print(Q_circuit.to_text_diagram(transpose=True))\n",
    "        return sum(E_list), number_of_circuit_evals\n",
    "\n",
    "    def Get_wavefunction_of_state(self, sig_figs=3):\n",
    "        return Get_wavefunction(self.ansatz_circuit, sig_figs=sig_figs)"
   ]
  },
  {
   "cell_type": "code",
   "execution_count": null,
   "metadata": {
    "code_folding": [
     3
    ]
   },
   "outputs": [],
   "source": [
    "N_system_qubits=2\n",
    "n_shots=1000\n",
    "\n",
    "def GIVE_ENERGY_Q_CIRC_LCU_CIRCUIT(theta_ijab, n_shots):\n",
    "    \n",
    "\n",
    "    ansatz_cirq_circuit = H2_ansatz_BK(theta_ijab)\n",
    "\n",
    "    \n",
    "    VQE_exp_LCU = VQE_Experiment_LCU_UP_single_qubit_only_CIRCUIT(\n",
    "                                        anti_commuting_sets,\n",
    "                                         ansatz_cirq_circuit,\n",
    "                                         n_shots,\n",
    "                                         N_system_qubits,\n",
    "                                         N_indices_dict=None)\n",
    "    \n",
    "    energy, circuit_evals = VQE_exp_LCU.Calc_Energy()\n",
    "    \n",
    "#     print(circuit_evals)\n",
    "    return energy.real\n",
    "GIVE_ENERGY_Q_CIRC_LCU_CIRCUIT(theta_ijab, n_shots)\n",
    "# GIVE_ENERGY_Q_CIRC_LCU_CIRCUIT(0.9)"
   ]
  },
  {
   "cell_type": "code",
   "execution_count": null,
   "metadata": {
    "code_folding": [
     5
    ]
   },
   "outputs": [],
   "source": [
    "N_system_qubits=2\n",
    "n_shots=1000\n",
    "\n",
    "\n",
    "# class means we can record total no of circuit evaluations in optimization!\n",
    "class GIVE_ENERGY_Q_CIRC_LCU_CIRCUIT_class():\n",
    "    def __init__(self):\n",
    "        self.n_circuit_eval_steps=[]\n",
    "    def GIVE_ENERGY_Q_CIRC_LCU_CIRCUIT(self, theta_ijab, n_shots):\n",
    "        ansatz_cirq_circuit = H2_ansatz_BK(theta_ijab)\n",
    "\n",
    "\n",
    "        VQE_exp_LCU = VQE_Experiment_LCU_UP_single_qubit_only_CIRCUIT(\n",
    "                                            anti_commuting_sets,\n",
    "                                             ansatz_cirq_circuit,\n",
    "                                             n_shots,\n",
    "                                             N_system_qubits,\n",
    "                                             N_indices_dict=None)\n",
    "        \n",
    "        energy, circuit_evals = VQE_exp_LCU.Calc_Energy()\n",
    "        \n",
    "        self.n_circuit_eval_steps.append(circuit_evals)\n",
    "        \n",
    "        return energy.real"
   ]
  },
  {
   "cell_type": "code",
   "execution_count": null,
   "metadata": {},
   "outputs": [],
   "source": [
    "class_method = GIVE_ENERGY_Q_CIRC_LCU_CIRCUIT_class()\n",
    "E=class_method.GIVE_ENERGY_Q_CIRC_LCU_CIRCUIT(theta_ijab, n_shots)\n",
    "print(E)"
   ]
  },
  {
   "cell_type": "code",
   "execution_count": null,
   "metadata": {
    "code_folding": [
     2,
     6,
     20,
     34,
     59,
     110
    ]
   },
   "outputs": [],
   "source": [
    "# same as before BUT NO extra shots to account for fails allowed!\n",
    "\n",
    "class VQE_Experiment_LCU_UP_single_qubit_only_CIRCUIT_limited_M():\n",
    "    \"\"\"\n",
    "    TODO doc_string\n",
    "    \"\"\"\n",
    "    def __init__(self,\n",
    "                 anti_commuting_sets,\n",
    "                 ansatz_circuit,\n",
    "                 n_shots,\n",
    "                 N_system_qubits,\n",
    "                 N_indices_dict=None):\n",
    "\n",
    "        self.anti_commuting_sets = anti_commuting_sets\n",
    "        self.ansatz_circuit = ansatz_circuit\n",
    "        self.n_shots = n_shots\n",
    "\n",
    "        self.N_system_qubits = N_system_qubits\n",
    "        self.N_indices_dict = N_indices_dict\n",
    "\n",
    "    def Get_Histogram_key_ancilla_system(self, qubitOperator, N_ancilla_qubits):\n",
    "\n",
    "        qubit_No, PauliStr = zip(*list(*qubitOperator.terms.keys()))\n",
    "        histogram_string = ','.join([str(i) for i in (qubit_No)] + [str(i) for i in range(self.N_system_qubits,\n",
    "                                                                                          self.N_system_qubits + N_ancilla_qubits)])\n",
    "        return histogram_string\n",
    "\n",
    "    def simulate_probabilistic_Q_circuit(self, Quantum_circuit):\n",
    "        simulator = cirq.Simulator()\n",
    "        raw_result = simulator.run(Quantum_circuit, repetitions=self.n_shots)\n",
    "        # TODO note extra 1000 here in no.  of shots (due to only certain exp results taken when projected)\n",
    "        # TODO could make an optional parameter\n",
    "        return raw_result\n",
    "\n",
    "    def Get_binary_dict_project(self, Quantum_circuit, qubitOperator, ancilla_amplitudes):\n",
    "        \n",
    "        N_system_terms_measured = len(list(qubitOperator.terms.keys())[0])\n",
    "        N_ancilla_qubits = int(np.ceil(np.log2(len(ancilla_amplitudes))))\n",
    "        correct_ancilla_state = np.zeros([N_ancilla_qubits])\n",
    "\n",
    "        binary_results_dict = {}\n",
    "\n",
    "        hist_key = Get_Histogram_key_ancilla_system(qubitOperator, self.N_system_qubits, N_ancilla_qubits)\n",
    "        raw_result = self.simulate_probabilistic_Q_circuit(Quantum_circuit)\n",
    "\n",
    "        M_results = raw_result.measurements[hist_key]\n",
    "        for result in M_results:\n",
    "            if np.array_equal(result[N_system_terms_measured::],\n",
    "                              correct_ancilla_state):  # Checks if all zero ancilla measured!\n",
    "                seperator = ''\n",
    "                state_key_binary = seperator.join(\n",
    "                    map(str, result[:N_system_terms_measured]))  # Gets rid of ancilla part!!!\n",
    "                if state_key_binary not in binary_results_dict.keys():\n",
    "                    binary_results_dict[state_key_binary] = 1\n",
    "                else:\n",
    "                    binary_results_dict[state_key_binary] += 1\n",
    "\n",
    "        return binary_results_dict\n",
    "\n",
    "    def Calc_Energy(self, check_LCU_reduction=False):\n",
    "\n",
    "        E_list = []\n",
    "        number_of_circuit_evals={}\n",
    "        for set_key in self.anti_commuting_sets:\n",
    "            if len(self.anti_commuting_sets[set_key]) > 1:\n",
    "\n",
    "                if self.N_indices_dict is None:\n",
    "                    R_uncorrected, Pn, gamma_l = Get_R_op_list(self.anti_commuting_sets[set_key], 0,\n",
    "                                                               check_operator=check_LCU_reduction)\n",
    "                    R_corrected_Op_list, R_corr_list, ancilla_amplitudes, l1_norm = absorb_complex_phases(R_uncorrected)\n",
    "                else:\n",
    "                    R_uncorrected, Pn, gamma_l = Get_R_op_list(self.anti_commuting_sets[set_key],\n",
    "                                                                          self.N_indices_dict[set_key],\n",
    "                                                               check_operator=check_LCU_reduction)\n",
    "                    R_corrected_Op_list, R_corr_list, ancilla_amplitudes, l1_norm = absorb_complex_phases(R_uncorrected)\n",
    "\n",
    "                Q_circuit = manual_LCU_circuit(Pn,\n",
    "                                               R_corrected_Op_list,\n",
    "                                               R_corr_list, \n",
    "                                               ancilla_amplitudes,\n",
    "                                               self.N_system_qubits, \n",
    "                                               self.ansatz_circuit)\n",
    "\n",
    "                binary_state_counter = self.Get_binary_dict_project(Q_circuit, Pn, ancilla_amplitudes)\n",
    "                exp_result = expectation_value_by_parity(binary_state_counter)\n",
    "\n",
    "                E_list.append(exp_result * gamma_l)\n",
    "                #print(Pn, gamma_l, exp_result, l1_norm)\n",
    "\n",
    "            else:\n",
    "                single_PauliOp = self.anti_commuting_sets[set_key][0]\n",
    "                if list(single_PauliOp.terms.keys())[0] == ():\n",
    "                    E_list.append(list(single_PauliOp.terms.values())[0])\n",
    "                else:\n",
    "                    Q_circuit = Generate_Full_Q_Circuit(self.ansatz_circuit, single_PauliOp)\n",
    "                    hist_key_str = Get_Histogram_key(single_PauliOp)\n",
    "                    int_state_counter = Simulate_Quantum_Circuit(Q_circuit, self.n_shots, hist_key_str)\n",
    "                    binary_state_counter = Return_as_binary(int_state_counter, hist_key_str)\n",
    "                    exp_result = expectation_value_by_parity(binary_state_counter)\n",
    "                    E_list.append(exp_result * list(single_PauliOp.terms.values())[0])\n",
    "                    #print(single_PauliOp, exp_result * list(single_PauliOp.terms.values())[0])\n",
    "\n",
    "        #         print(Q_circuit.to_text_diagram(transpose=True))\n",
    "        return sum(E_list)\n",
    "\n",
    "    def Get_wavefunction_of_state(self, sig_figs=3):\n",
    "        return Get_wavefunction(self.ansatz_circuit, sig_figs=sig_figs)\n",
    "\n",
    "    \n",
    "def GIVE_ENERGY_Q_CIRC_LCU_CIRCUIT_class_LIMITED_M(theta_ijab, n_shots):\n",
    "    ansatz_cirq_circuit = H2_ansatz_BK(theta_ijab)\n",
    "\n",
    "\n",
    "    VQE_exp_LCU = VQE_Experiment_LCU_UP_single_qubit_only_CIRCUIT_limited_M(\n",
    "                                        anti_commuting_sets,\n",
    "                                         ansatz_cirq_circuit,\n",
    "                                         n_shots,\n",
    "                                         N_system_qubits,\n",
    "                                         N_indices_dict=None)\n",
    "\n",
    "    energy = VQE_exp_LCU.Calc_Energy()\n",
    "\n",
    "    return energy.real"
   ]
  },
  {
   "cell_type": "code",
   "execution_count": null,
   "metadata": {},
   "outputs": [],
   "source": [
    "GIVE_ENERGY_Q_CIRC_LCU_CIRCUIT_class_LIMITED_M(theta_ijab, n_shots)"
   ]
  },
  {
   "cell_type": "code",
   "execution_count": null,
   "metadata": {},
   "outputs": [],
   "source": [
    "ansatz_cirq_circuit = H2_ansatz_BK(theta_ijab)\n",
    "\n",
    "\n",
    "VQE_exp_LCU_limited_M = VQE_Experiment_LCU_UP_single_qubit_only_CIRCUIT_limited_M(\n",
    "                                    anti_commuting_sets,\n",
    "                                     ansatz_cirq_circuit,\n",
    "                                     n_shots,\n",
    "                                     N_system_qubits,\n",
    "                                     N_indices_dict=None)\n",
    "    \n",
    "energy = VQE_exp_LCU_limited_M.Calc_Energy()\n",
    "print(energy)"
   ]
  },
  {
   "cell_type": "code",
   "execution_count": null,
   "metadata": {
    "code_folding": [
     0
    ]
   },
   "outputs": [],
   "source": [
    "# def Get_parital_system_density_matrix(Q_circuit_no_M_gates, n_system_qubits, n_ancilla_qubits):\n",
    "#         zero_state = np.array([[1],[0]])\n",
    "    \n",
    "#         input_state = [zero_state for _ in range(len(Q_circuit_no_M_gates.all_qubits()))]\n",
    "#         input_ket = reduce(kron, input_state)\n",
    "#         circuit_matrix = Q_circuit_no_M_gates.unitary()\n",
    "\n",
    "#         ansatz_state_ket = circuit_matrix.dot(input_ket.todense())\n",
    "\n",
    "#         full_density_matrix = np.outer(ansatz_state_ket, ansatz_state_ket)\n",
    "\n",
    "\n",
    "#         ## First project state onto all zero ancilla state using POVM\n",
    "#         I_system_operator = np.eye((2**n_system_qubits))\n",
    "\n",
    "#         ancilla_0_state_list = [zero_state for _ in range(n_ancilla_qubits)]\n",
    "#         ancilla_0_state = reduce(np.kron, ancilla_0_state_list)\n",
    "#         ancilla_0_projector = np.outer(ancilla_0_state, ancilla_0_state)\n",
    "\n",
    "#         POVM_0_ancilla = np.kron(I_system_operator, ancilla_0_projector)\n",
    "#         Kraus_Op_0 = POVM_0_ancilla.copy()\n",
    "\n",
    "#         term = Kraus_Op_0.dot(full_density_matrix.dot(Kraus_Op_0.transpose().conj()))\n",
    "#         projected_density_matrix = term/np.trace(term) # projected into correct space using POVM ancilla measurement!\n",
    "\n",
    "#         ## Next get partial density matrix over system qubits # aka partial trace!\n",
    "#         # https://scicomp.stackexchange.com/questions/27496/calculating-partial-trace-of-array-in-numpy\n",
    "#         # reshape to do the partial trace easily using np.einsum\n",
    "#         reshaped_dm = projected_density_matrix.reshape([2 ** n_system_qubits, 2 ** n_ancilla_qubits,\n",
    "#                                                         2 ** n_system_qubits, 2 ** n_ancilla_qubits])\n",
    "#         reduced_dm = np.einsum('jiki->jk', reshaped_dm)\n",
    "\n",
    "#         # ### taking partial trace ### manual method!\n",
    "#         # # p_a = sum_{b} (I_{a}*<b|) p_{ab} (I_{a}*|b>)\n",
    "#         # basis_ancilla = np.eye((2 ** n_ancilla))\n",
    "#         # reduced_dm = np.zeros((2 ** self.N_system_qubits, 2 ** self.N_system_qubits), dtype=complex)\n",
    "#         # for b in range(basis_ancilla.shape[0]):\n",
    "#         #     b_ket = basis_ancilla[b, :].reshape([2 ** n_ancilla, 1])\n",
    "#         #     I_a_b_ket = np.kron(I_system_operator, b_ket)\n",
    "#         #     I_a_b_bra = I_a_b_ket.transpose().conj()\n",
    "#         #\n",
    "#         #     term = I_a_b_bra.dot(projected_density_matrix.dot(I_a_b_ket))\n",
    "#         #     reduced_dm += term\n",
    "\n",
    "#         if not np.isclose(np.trace(reduced_dm), 1):\n",
    "#             raise ValueError('partial density matrix is not normalised properly {}'.format(np.trace(reduced_dm)))\n",
    "\n",
    "#         return reduced_dm"
   ]
  },
  {
   "cell_type": "code",
   "execution_count": null,
   "metadata": {
    "code_folding": [
     0,
     4
    ]
   },
   "outputs": [],
   "source": [
    "# pauliDict=   {'X':np.array([[0,1],[1,0]]),\n",
    "#                           'Y':np.array([[0,-1j],[1j,0]]),\n",
    "#                           'Z':np.array([[1,0],[0,-1]]),\n",
    "#                           'I': np.eye(2)}\n",
    "# def Get_pauli_matrix(PauliOp):\n",
    "#     list_Q_nos, list_P_strs = list(zip(*[Paulistrs for Paulistrs, const in PauliOp.terms.items()][0]))\n",
    "#     list_of_ops = []\n",
    "#     for i in range(N_system_qubits):\n",
    "#         if i in list_Q_nos:\n",
    "#             index = list_Q_nos.index(i)\n",
    "#             list_of_ops.append(pauliDict[list_P_strs[index]])\n",
    "#         else:\n",
    "#             list_of_ops.append(pauliDict['I'])\n",
    "#     matrix = reduce(kron, list_of_ops)\n",
    "#     return matrix"
   ]
  },
  {
   "cell_type": "code",
   "execution_count": null,
   "metadata": {
    "code_folding": [
     0
    ]
   },
   "outputs": [],
   "source": [
    "# LCU manual\n",
    "# set_index=3\n",
    "# N_index=1\n",
    "# n_qubits=2\n",
    "\n",
    "# ansatz_cirq_circuit = H2_ansatz_BK(theta_ijab)\n",
    "\n",
    "# R_uncorrected, Pn, gamma_l = Get_R_op_list(anti_commuting_sets[set_index], N_index)\n",
    "# R_corrected_Op_list, R_corr_list, ancilla_amplitudes, l1 = absorb_complex_phases(R_uncorrected)\n",
    "\n",
    "\n",
    "# full_Q_circuit = manual_LCU_circuit(Pn,\n",
    "#                                    R_corrected_Op_list,\n",
    "#                                    R_corr_list,\n",
    "#                                    ancilla_amplitudes,\n",
    "#                                    n_qubits , \n",
    "#                                    ansatz_cirq_circuit,\n",
    "#                                    include_M_gates=False)\n",
    "\n",
    "\n",
    "# partial_density_matrix = Get_parital_system_density_matrix(full_Q_circuit, 2, 1)\n",
    "\n",
    "# H_sub_term_matrix = Get_pauli_matrix(Pn)\n",
    "\n",
    "# # E= Tr(Pn rho)\n",
    "# energy = np.trace(partial_density_matrix.dot(H_sub_term_matrix.todense()))\n",
    "# # energy = np.trace(H_sub_term_matrix.dot(partial_density_matrix))\n",
    "# (energy * gamma_l).real"
   ]
  },
  {
   "cell_type": "code",
   "execution_count": null,
   "metadata": {
    "code_folding": [
     0
    ]
   },
   "outputs": [],
   "source": [
    "# ## ROT test\n",
    "# set_index=3\n",
    "# S_index=1\n",
    "\n",
    "# ansatz_cirq_circuit = H2_ansatz_BK(theta_ijab)\n",
    "# full_circuit, Ps, gamma_l = Generate_Full_Q_Circuit_Conj_NO_M_gates(ansatz_cirq_circuit, \n",
    "#                                                          anti_commuting_sets[set_index], \n",
    "#                                                          S_index, \n",
    "#                                                          check_reduction=True)\n",
    "\n",
    "# H_sub_term_matrix = Get_pauli_matrix(Ps)\n",
    "# input_state=reduce(np.kron, [np.array([[1], [0]]), np.array([[1], [0]])])\n",
    "# UCC_state = full_circuit._unitary_().dot(input_state)\n",
    "\n",
    "# ((UCC_state.conj().transpose().dot(H_sub_term_matrix.todense().dot(UCC_state))).item(0)*gamma_l).real"
   ]
  },
  {
   "cell_type": "code",
   "execution_count": null,
   "metadata": {
    "code_folding": [
     0,
     4,
     24,
     80,
     92,
     111
    ]
   },
   "outputs": [],
   "source": [
    "class VQE_Experiment_LCU_UP_single_qubit_only_lin_alg():\n",
    "    \"\"\"\n",
    "    TODO doc_string\n",
    "    \"\"\"\n",
    "    def __init__(self,\n",
    "                 anti_commuting_sets,\n",
    "                 ansatz_circuit,\n",
    "                 N_system_qubits,\n",
    "                 N_indices_dict=None):\n",
    "\n",
    "        self.anti_commuting_sets = anti_commuting_sets\n",
    "        self.ansatz_circuit = ansatz_circuit\n",
    "\n",
    "        self.N_system_qubits = N_system_qubits\n",
    "        self.N_indices_dict = N_indices_dict\n",
    "\n",
    "        self.pauliDict=   {'X':np.array([[0,1],[1,0]]),\n",
    "                          'Y':np.array([[0,-1j],[1j,0]]),\n",
    "                          'Z':np.array([[1,0],[0,-1]]),\n",
    "                          'I': np.eye(2)}\n",
    "\n",
    "        self.zero_state = np.array([[1], [0]])\n",
    "\n",
    "\n",
    "    def Get_parital_system_density_matrix(self, Q_circuit_no_M_gates):\n",
    "\n",
    "        input_state = [self.zero_state for _ in range(len(Q_circuit_no_M_gates.all_qubits()))]\n",
    "        input_ket = reduce(kron, input_state)\n",
    "        circuit_matrix = Q_circuit_no_M_gates.unitary()\n",
    "\n",
    "        ansatz_state_ket = circuit_matrix.dot(input_ket.todense())\n",
    "\n",
    "        full_density_matrix = np.outer(ansatz_state_ket, ansatz_state_ket)\n",
    "\n",
    "        # simulator = cirq.Simulator()\n",
    "        # output_ket = simulator.compute_amplitudes(Q_circuit_no_M_gates,\n",
    "        #                                       bitstrings=[i for i in range(2 ** len(Q_circuit_no_M_gates.all_qubits()))])\n",
    "        #\n",
    "        # full_density_matrix = np.outer(output_ket, output_ket)\n",
    "\n",
    "        ## First project state onto all zero ancilla state using POVM\n",
    "        n_qubits = len(Q_circuit_no_M_gates.all_qubits())\n",
    "        n_ancilla = n_qubits - self.N_system_qubits\n",
    "\n",
    "        I_system_operator = np.eye((2**self.N_system_qubits))\n",
    "\n",
    "        ancilla_0_state_list = [self.zero_state for _ in range(n_ancilla)]\n",
    "        ancilla_0_state = reduce(np.kron, ancilla_0_state_list)\n",
    "        ancilla_0_projector = np.outer(ancilla_0_state, ancilla_0_state)\n",
    "\n",
    "        POVM_0_ancilla = np.kron(I_system_operator, ancilla_0_projector)\n",
    "        Kraus_Op_0 = POVM_0_ancilla.copy()\n",
    "\n",
    "        term = Kraus_Op_0.dot(full_density_matrix.dot(Kraus_Op_0.transpose().conj()))\n",
    "        projected_density_matrix = term/np.trace(term) # projected into correct space using POVM ancilla measurement!\n",
    "\n",
    "        ## Next get partial density matrix over system qubits # aka partial trace!\n",
    "        # https://scicomp.stackexchange.com/questions/27496/calculating-partial-trace-of-array-in-numpy\n",
    "        # reshape to do the partial trace easily using np.einsum\n",
    "        reshaped_dm = projected_density_matrix.reshape([2 ** self.N_system_qubits, 2 ** n_ancilla,\n",
    "                                                        2 ** self.N_system_qubits, 2 ** n_ancilla])\n",
    "        reduced_dm = np.einsum('jiki->jk', reshaped_dm)\n",
    "\n",
    "        # ### taking partial trace ### manual method!\n",
    "        # # p_a = sum_{b} (I_{a}*<b|) p_{ab} (I_{a}*|b>)\n",
    "        # basis_ancilla = np.eye((2 ** n_ancilla))\n",
    "        # reduced_dm = np.zeros((2 ** self.N_system_qubits, 2 ** self.N_system_qubits), dtype=complex)\n",
    "        # for b in range(basis_ancilla.shape[0]):\n",
    "        #     b_ket = basis_ancilla[b, :].reshape([2 ** n_ancilla, 1])\n",
    "        #     I_a_b_ket = np.kron(I_system_operator, b_ket)\n",
    "        #     I_a_b_bra = I_a_b_ket.transpose().conj()\n",
    "        #\n",
    "        #     term = I_a_b_bra.dot(projected_density_matrix.dot(I_a_b_ket))\n",
    "        #     reduced_dm += term\n",
    "\n",
    "        if not np.isclose(np.trace(reduced_dm), 1):\n",
    "            raise ValueError('partial density matrix is not normalised properly {}'.format(np.trace(reduced_dm)))\n",
    "\n",
    "        return reduced_dm\n",
    "\n",
    "    def Get_standard_ket(self):\n",
    "        input_state = [self.zero_state for _ in range(self.N_system_qubits)]\n",
    "        input_ket = reduce(kron, input_state)\n",
    "        circuit_matrix = self.ansatz_circuit.unitary()\n",
    "\n",
    "        ansatz_state_ket = circuit_matrix.dot(input_ket.todense())\n",
    "\n",
    "        if not np.isclose(sum([np.abs(i)**2 for i in ansatz_state_ket]), 1):\n",
    "            raise ValueError('output ket is not normalised properly {}'.format(sum([np.abs(i)**2 for i in ansatz_state_ket])))\n",
    "\n",
    "        return np.array(ansatz_state_ket) #.reshape([(2 ** len(self.ansatz_circuit.all_qubits())), 1])\n",
    "\n",
    "    def Get_pauli_matrix(self, PauliOp):\n",
    "        list_Q_nos, list_P_strs = list(zip(*[Paulistrs for Paulistrs, const in PauliOp.terms.items()][0]))\n",
    "\n",
    "        list_of_ops = []\n",
    "        # list_of_ops_print=[]\n",
    "        for i in range(self.N_system_qubits):\n",
    "            if i in list_Q_nos:\n",
    "                index = list_Q_nos.index(i)\n",
    "                list_of_ops.append(self.pauliDict[list_P_strs[index]])\n",
    "                # list_of_ops_print.append('{}{}'.format(list_P_strs[index], i))\n",
    "            else:\n",
    "                list_of_ops.append(self.pauliDict['I'])\n",
    "                # list_of_ops_print.append('I{}'.format(i))\n",
    "\n",
    "        # print(list_of_ops_print, PauliOp)\n",
    "        matrix = reduce(kron, list_of_ops)\n",
    "\n",
    "        return matrix\n",
    "\n",
    "    def Calc_Energy(self, check_LCU_reduction=False):\n",
    "        # from openfermion.transforms import get_sparse_operator\n",
    "\n",
    "        E_list = []\n",
    "        for set_key in self.anti_commuting_sets:\n",
    "            if len(self.anti_commuting_sets[set_key]) > 1:\n",
    "\n",
    "                if self.N_indices_dict is None:\n",
    "                    R_uncorrected, Pn, gamma_l = Get_R_op_list(self.anti_commuting_sets[set_key], 0,\n",
    "                                                               check_operator=check_LCU_reduction)\n",
    "                    R_corrected_Op_list, R_corr_list, ancilla_amplitudes, l1_norm = absorb_complex_phases(R_uncorrected)\n",
    "                else:\n",
    "                    R_uncorrected, Pn, gamma_l = Get_R_op_list(self.anti_commuting_sets[set_key],\n",
    "                                                                          self.N_indices_dict[set_key],\n",
    "                                                               check_operator=check_LCU_reduction)\n",
    "                    R_corrected_Op_list, R_corr_list, ancilla_amplitudes, l1_norm = absorb_complex_phases(R_uncorrected)\n",
    "\n",
    "\n",
    "                # gives R|ψ〉\n",
    "                Q_circuit = manual_LCU_circuit(Pn,\n",
    "                                               R_corrected_Op_list,\n",
    "                                               R_corr_list, \n",
    "                                               ancilla_amplitudes,\n",
    "                                               self.N_system_qubits, \n",
    "                                               self.ansatz_circuit,\n",
    "                                               include_M_gates=False)\n",
    "                \n",
    "\n",
    "\n",
    "\n",
    "                partial_density_matrix = self.Get_parital_system_density_matrix(Q_circuit)\n",
    "\n",
    "                H_sub_term_matrix = self.Get_pauli_matrix(Pn)\n",
    "                # H_sub_term_matrix = get_sparse_operator(Pn, n_qubits=self.N_system_qubits)\n",
    "                # # E=〈ψ | H | ψ〉= ∑_j  αj〈ψA | R† Pn R | ψA〉 #### where RQR = Pn\n",
    "\n",
    "                # E= Tr(Pn rho)\n",
    "                energy = np.trace(partial_density_matrix.dot(H_sub_term_matrix.todense()))\n",
    "                # energy = np.trace(H_sub_term_matrix.dot(partial_density_matrix))\n",
    "                E_list.append((energy * gamma_l).real)\n",
    "\n",
    "            else:\n",
    "                single_PauliOp = self.anti_commuting_sets[set_key][0]\n",
    "                if list(single_PauliOp.terms.keys())[0] == ():\n",
    "                    E_list.append(list(single_PauliOp.terms.values())[0])\n",
    "                else:\n",
    "                    ansatz_state_ket = self.Get_standard_ket()\n",
    "                    ansatz_state_bra = ansatz_state_ket.transpose().conj()\n",
    "                    # H_sub_term_matrix = get_sparse_operator(single_PauliOp, n_qubits=self.N_system_qubits)\n",
    "\n",
    "                    # E=〈ψ | H | ψ〉= ∑_j  αj〈ψ | Pj | ψ〉\n",
    "                    H_sub_term_matrix = self.Get_pauli_matrix(single_PauliOp)\n",
    "                    # H_sub_term_matrix = get_sparse_operator(single_PauliOp, n_qubits=self.N_system_qubits)\n",
    "                    energy = ansatz_state_bra.dot(H_sub_term_matrix.todense().dot(ansatz_state_ket))\n",
    "                    E_list.append(energy.item(0) * list(single_PauliOp.terms.values())[0])\n",
    "        return sum(E_list)\n",
    "\n",
    "    def Get_wavefunction_of_ansatz_state(self, sig_figs=3):\n",
    "        return Get_wavefunction(self.ansatz_circuit, sig_figs=sig_figs)"
   ]
  },
  {
   "cell_type": "code",
   "execution_count": null,
   "metadata": {
    "code_folding": [
     1
    ]
   },
   "outputs": [],
   "source": [
    "N_system_qubits=2\n",
    "def GIVE_ENERGY_Q_CIRC_LCU_lin_alg(theta_ijab):\n",
    "    \n",
    "\n",
    "    ansatz_cirq_circuit = H2_ansatz_BK(theta_ijab)\n",
    "\n",
    "    \n",
    "    VQE_exp_LCU_lin_alg = VQE_Experiment_LCU_UP_single_qubit_only_lin_alg(\n",
    "                                        anti_commuting_sets,\n",
    "                                         ansatz_cirq_circuit,\n",
    "                                         N_system_qubits,\n",
    "                                         N_indices_dict=None)\n",
    "    \n",
    "    energy = VQE_exp_LCU_lin_alg.Calc_Energy()\n",
    "    \n",
    "    return energy.real\n",
    "\n",
    "\n",
    "GIVE_ENERGY_Q_CIRC_LCU_lin_alg(theta_ijab)"
   ]
  },
  {
   "cell_type": "code",
   "execution_count": null,
   "metadata": {},
   "outputs": [],
   "source": []
  },
  {
   "cell_type": "markdown",
   "metadata": {},
   "source": [
    "## Optimizing"
   ]
  },
  {
   "cell_type": "code",
   "execution_count": null,
   "metadata": {},
   "outputs": [],
   "source": [
    "# circuit simulation LCU \n",
    "# stores no. of circuit evals\n",
    "class_method = GIVE_ENERGY_Q_CIRC_LCU_CIRCUIT_class()\n",
    "\n",
    "theta_ijab_random_input= 1#random.uniform(0, 2*np.pi)\n",
    "n_shots=1000\n",
    "\n",
    "custom_optimizer_DICT = {'learning_rate': 0.1, 'beta_1': 0.9, 'beta_2': 0.999, 'epsilon': 1e-8,\n",
    "                           'maxfev': 15000}\n",
    "\n",
    "\n",
    "LCU_optimization = Optimizer(class_method.GIVE_ENERGY_Q_CIRC_LCU_CIRCUIT,\n",
    "                   theta_ijab_random_input,\n",
    "                   args=(n_shots,),\n",
    "                   method=Custom_Adam, \n",
    "                   jac=Analytical_Gradient_H2,\n",
    "                   hess=None,\n",
    "                   hessp=None,\n",
    "                      bounds=None,\n",
    "                   constraints=None,\n",
    "                   tol=1e-4, \n",
    "                   display_convergence_message=True,\n",
    "                   display_steps=True,\n",
    "                   custom_optimizer_DICT=custom_optimizer_DICT)\n",
    "\n",
    "LCU_optimization.get_env(50)\n",
    "LCU_optimization.plot_convergence()\n",
    "LCU_optimization.optimized_result"
   ]
  },
  {
   "cell_type": "code",
   "execution_count": null,
   "metadata": {},
   "outputs": [],
   "source": [
    "print('number of iterations: ', LCU_optimization.optimized_result.nit)\n",
    "print('number of fn evals: ', LCU_optimization.optimized_result.nfev)\n",
    "\n",
    "t_measurmets_list=[n_shots if i not in m_dict else m_dict[i]\n",
    "                  for m_dict in class_method.n_circuit_eval_steps for i in [0,2,3]]\n",
    "print('total no. of measurements: ', sum(t_measurmets_list))"
   ]
  },
  {
   "cell_type": "code",
   "execution_count": null,
   "metadata": {},
   "outputs": [],
   "source": []
  },
  {
   "cell_type": "code",
   "execution_count": null,
   "metadata": {},
   "outputs": [],
   "source": [
    "# # circuit simulation LCU\n",
    "\n",
    "# theta_ijab_random_input= 1#random.uniform(0, 2*np.pi)\n",
    "\n",
    "# GG = Optimizer(GIVE_ENERGY_Q_CIRC_LCU_CIRCUIT,\n",
    "#                    theta_ijab_random_input,\n",
    "#                    args=(),\n",
    "#                    method='Nelder-Mead',\n",
    "#                    jac=None,\n",
    "#                    hess=None,\n",
    "#                    hessp=None,\n",
    "#                       bounds=None,\n",
    "#                    constraints=None,\n",
    "#                    tol=1e-8, \n",
    "#                    display_convergence_message=True,\n",
    "#                    display_steps=True)\n",
    "# GG.get_env(100)\n",
    "# GG.plot_convergence()"
   ]
  },
  {
   "cell_type": "code",
   "execution_count": null,
   "metadata": {},
   "outputs": [],
   "source": [
    "# lin alg LCU\n",
    "theta_ijab_random_input= 1#random.uniform(0, 2*np.pi)\n",
    "\n",
    "GG = Optimizer(GIVE_ENERGY_Q_CIRC_LCU_lin_alg,\n",
    "                   theta_ijab_random_input,\n",
    "                   args=(),\n",
    "                   method='Nelder-Mead',\n",
    "                   jac=None,\n",
    "                   hess=None,\n",
    "                   hessp=None,\n",
    "                      bounds=None,\n",
    "                   constraints=None,\n",
    "                   tol=1e-8, \n",
    "                   display_convergence_message=True,\n",
    "                   display_steps=True)\n",
    "GG.get_env(100)\n",
    "GG.plot_convergence()"
   ]
  },
  {
   "cell_type": "code",
   "execution_count": null,
   "metadata": {},
   "outputs": [],
   "source": []
  },
  {
   "cell_type": "code",
   "execution_count": null,
   "metadata": {},
   "outputs": [],
   "source": []
  },
  {
   "cell_type": "markdown",
   "metadata": {},
   "source": [
    "## STANDARD VQE"
   ]
  },
  {
   "cell_type": "code",
   "execution_count": null,
   "metadata": {
    "code_folding": [
     0,
     19
    ]
   },
   "outputs": [],
   "source": [
    "def Get_pauli_matrix(PauliOp):\n",
    "    pauliDict=   {'X':np.array([[0,1],[1,0]]),\n",
    "                          'Y':np.array([[0,-1j],[1j,0]]),\n",
    "                          'Z':np.array([[1,0],[0,-1]]),\n",
    "                          'I': np.eye(2)}\n",
    "    list_Q_nos, list_P_strs = list(zip(*[Paulistrs for Paulistrs, const in PauliOp.terms.items()][0]))\n",
    "\n",
    "    list_of_ops = []\n",
    "    for i in range(N_system_qubits):\n",
    "        if i in list_Q_nos:\n",
    "            index = list_Q_nos.index(i)\n",
    "            list_of_ops.append(pauliDict[list_P_strs[index]])\n",
    "        else:\n",
    "            list_of_ops.append(pauliDict['I'])\n",
    "\n",
    "    matrix = reduce(kron, list_of_ops)\n",
    "\n",
    "    return matrix\n",
    "\n",
    "def Lin_alg_standard_VQE(theta_ijab):\n",
    "    zero_input = np.kron(np.array([[1],[0]]), np.array([[1],[0]])) # |00〉\n",
    "    \n",
    "    ansatz_cirq_circuit = H2_ansatz_BK(theta_ijab) # note this contains HF circuit!\n",
    "    ansatz_mat = ansatz_cirq_circuit.unitary()\n",
    "    \n",
    "    ansatz_state_ket=ansatz_mat.dot(zero_input)\n",
    "    ansatz_state_bra = ansatz_state_ket.transpose().conj()\n",
    "    \n",
    "    E_list=[]\n",
    "    for H_sl in anti_commuting_sets.values():\n",
    "        for P_op in H_sl:\n",
    "            for Pauli, const in P_op.terms.items():\n",
    "                if Pauli:\n",
    "                    H_sub_term_matrix = Get_pauli_matrix(P_op)\n",
    "                    energy = ansatz_state_bra.dot(H_sub_term_matrix.todense().dot(ansatz_state_ket))\n",
    "                    E_list.append(energy.item(0) * const)\n",
    "                else:\n",
    "                    E_list.append(const)  \n",
    "    return sum(E_list).real"
   ]
  },
  {
   "cell_type": "code",
   "execution_count": null,
   "metadata": {},
   "outputs": [],
   "source": [
    "Lin_alg_standard_VQE(theta_ijab)"
   ]
  },
  {
   "cell_type": "code",
   "execution_count": null,
   "metadata": {},
   "outputs": [],
   "source": [
    "# # lin alg LCU\n",
    "# theta_ijab_random_input= 1#random.uniform(0, 2*np.pi)\n",
    "\n",
    "# GG = Optimizer(Lin_alg_standard_VQE,\n",
    "#                    theta_ijab_random_input,\n",
    "#                    args=(),\n",
    "#                    method='Nelder-Mead',\n",
    "#                    jac=None,\n",
    "#                    hess=None,\n",
    "#                    hessp=None,\n",
    "#                       bounds=None,\n",
    "#                    constraints=None,\n",
    "#                    tol=1e-8, \n",
    "#                    display_convergence_message=True,\n",
    "#                    display_steps=True)\n",
    "# GG.get_env(100)\n",
    "# GG.plot_convergence()"
   ]
  },
  {
   "cell_type": "code",
   "execution_count": null,
   "metadata": {},
   "outputs": [],
   "source": []
  },
  {
   "cell_type": "code",
   "execution_count": null,
   "metadata": {},
   "outputs": [],
   "source": [
    "def Calc_Energy_circuit_STANDARD_VQE(theta_ijab, n_shots):\n",
    "    \n",
    "    ansatz_cirq_circuit = H2_ansatz_BK(theta_ijab)\n",
    "    \n",
    "    E_list = []\n",
    "    for set_key in anti_commuting_sets:\n",
    "        for PauliOp in anti_commuting_sets[set_key]:\n",
    "            if list(PauliOp.terms.keys())[0] == ():\n",
    "                E_list.append(list(PauliOp.terms.values())[0])\n",
    "            else:\n",
    "                Q_circuit = Generate_Full_Q_Circuit(ansatz_cirq_circuit, PauliOp)\n",
    "                hist_key_str = Get_Histogram_key(PauliOp)\n",
    "                int_state_counter = Simulate_Quantum_Circuit(Q_circuit, n_shots, hist_key_str)\n",
    "                binary_state_counter = Return_as_binary(int_state_counter, hist_key_str)\n",
    "                exp_result = expectation_value_by_parity(binary_state_counter)\n",
    "                E_list.append(exp_result * list(PauliOp.terms.values())[0])\n",
    "                \n",
    "    return sum(E_list).real"
   ]
  },
  {
   "cell_type": "code",
   "execution_count": null,
   "metadata": {},
   "outputs": [],
   "source": []
  },
  {
   "cell_type": "code",
   "execution_count": null,
   "metadata": {},
   "outputs": [],
   "source": [
    "# circuit simulation LCU \n",
    "# stores no. of circuit evals\n",
    "theta_ijab_random_input= 1#random.uniform(0, 2*np.pi)\n",
    "n_shots=1000\n",
    "\n",
    "custom_optimizer_DICT = {'learning_rate': 0.1, 'beta_1': 0.9, 'beta_2': 0.999, 'epsilon': 1e-8,\n",
    "                           'maxfev': 15000}\n",
    "\n",
    "\n",
    "standard_VQE_optimization = Optimizer(Calc_Energy_circuit_STANDARD_VQE,\n",
    "                   theta_ijab_random_input,\n",
    "                   args=(n_shots,),\n",
    "                   method=Custom_Adam, \n",
    "                   jac=Analytical_Gradient_H2,\n",
    "                   hess=None,\n",
    "                   hessp=None,\n",
    "                      bounds=None,\n",
    "                   constraints=None,\n",
    "                   tol=1e-4, \n",
    "                   display_convergence_message=True,\n",
    "                   display_steps=True,\n",
    "                   custom_optimizer_DICT=custom_optimizer_DICT)\n",
    "\n",
    "standard_VQE_optimization.get_env(50)\n",
    "standard_VQE_optimization.plot_convergence()\n",
    "standard_VQE_optimization.optimized_result"
   ]
  },
  {
   "cell_type": "code",
   "execution_count": null,
   "metadata": {},
   "outputs": [],
   "source": [
    "print('number of iterations: ', standard_VQE_optimization.optimized_result.nit)\n",
    "print('number of fn evals: ', standard_VQE_optimization.optimized_result.nfev)\n",
    "print('total no. of measurements: ', standard_VQE_optimization.optimized_result.nfev*n_shots*5)"
   ]
  },
  {
   "cell_type": "code",
   "execution_count": null,
   "metadata": {},
   "outputs": [],
   "source": [
    "anti_commuting_sets"
   ]
  },
  {
   "cell_type": "code",
   "execution_count": null,
   "metadata": {},
   "outputs": [],
   "source": [
    "len(anti_commuting_sets)-1"
   ]
  },
  {
   "cell_type": "markdown",
   "metadata": {},
   "source": [
    "## Comparing total_N_samples and E"
   ]
  },
  {
   "cell_type": "code",
   "execution_count": null,
   "metadata": {},
   "outputs": [],
   "source": [
    "## common multiple\n",
    "(len(anti_commuting_sets)-1)*(len([_ for key in anti_commuting_sets \\\n",
    "                                               for term in anti_commuting_sets[key]])-1)\n",
    "\n"
   ]
  },
  {
   "cell_type": "code",
   "execution_count": null,
   "metadata": {},
   "outputs": [],
   "source": [
    "from tqdm import tqdm"
   ]
  },
  {
   "cell_type": "code",
   "execution_count": null,
   "metadata": {},
   "outputs": [],
   "source": [
    "optimum_ansatz_param=0.11278284\n",
    "start_shots=15000 #1500\n",
    "max_shots= 1_005_000#201_150\n",
    "shot_step=15000#1500\n",
    "\n",
    "\n",
    "### STORE RESULTS\n",
    "E_list_ROT=np.array([])\n",
    "\n",
    "E_list_LCU_success_only=np.array([])\n",
    "E_list_LCU_raw=np.array([])\n",
    "\n",
    "Total_M_unitary_P=np.array([])\n",
    "\n",
    "E_list_standard=np.array([])\n",
    "Total_M_standard=np.array([])\n",
    "####\n",
    "\n",
    "for n_shots in tqdm(np.arange(start_shots,max_shots,shot_step), ascii=True, desc='running VQE at different N samples'):\n",
    "    \n",
    "    # even distribution of n_shots\n",
    "    n_shots_UP=int(np.floor(n_shots/(len(anti_commuting_sets)-1)))\n",
    "    n_shots_STANDARD=int(np.floor((n_shots/(len([_ for key in anti_commuting_sets for term in anti_commuting_sets[key]])-1))))\n",
    "\n",
    "    ####\n",
    "    \n",
    "    E_ROT= GIVE_ENERGY_Q_CIRC_ROTATIONS(optimum_ansatz_param, n_shots_UP)\n",
    "    \n",
    "    ####\n",
    "    \n",
    "    class_method = GIVE_ENERGY_Q_CIRC_LCU_CIRCUIT_class()\n",
    "    E_LCU_success_only = class_method.GIVE_ENERGY_Q_CIRC_LCU_CIRCUIT(optimum_ansatz_param, n_shots_UP)\n",
    "    \n",
    "    \n",
    "    E_LCU_raw = GIVE_ENERGY_Q_CIRC_LCU_CIRCUIT_class_LIMITED_M(optimum_ansatz_param, n_shots)\n",
    "#     t_measurmets_list=[n_shots_UP if i not in m_dict else m_dict[i]\n",
    "#                   for m_dict in class_method.n_circuit_eval_steps for i in [0,2,3]]\n",
    "    \n",
    "#     total_N_M_LCU = sum(t_measurmets_list)\n",
    "#     num_failed_shots_LCU=total_N_M_LCU-(n_shots_UP*(len(anti_commuting_sets)-1))\n",
    "    \n",
    "    ####\n",
    "    Total_M_UP = n_shots_UP*(len(anti_commuting_sets)-1)\n",
    "    ####\n",
    "    \n",
    "    \n",
    "    E_standard = Calc_Energy_circuit_STANDARD_VQE(optimum_ansatz_param, n_shots_STANDARD)\n",
    "    total_N_M_standard_VQE = n_shots_STANDARD*(len([_ for key in anti_commuting_sets \\\n",
    "                                                    for term in anti_commuting_sets[key]])-1)\n",
    "\n",
    "    \n",
    "    E_list_ROT= np.hstack((E_list_ROT,E_ROT))\n",
    "\n",
    "    E_list_LCU_success_only= np.hstack((E_list_LCU_success_only, E_LCU_success_only))\n",
    "    E_list_LCU_raw = np.hstack((E_list_LCU_raw, E_LCU_raw))\n",
    "    \n",
    "    Total_M_unitary_P =  np.hstack((Total_M_standard,Total_M_UP))\n",
    "\n",
    "    E_list_standard= np.hstack((E_list_standard,E_standard))\n",
    "    Total_M_standard= np.hstack((Total_M_standard,total_N_M_standard_VQE))\n",
    "    "
   ]
  },
  {
   "cell_type": "code",
   "execution_count": null,
   "metadata": {},
   "outputs": [],
   "source": [
    "import matplotlib.pyplot as plt"
   ]
  },
  {
   "cell_type": "code",
   "execution_count": null,
   "metadata": {},
   "outputs": [],
   "source": [
    "%matplotlib notebook\n",
    "fig, ax = plt.subplots()\n",
    "\n",
    "\n",
    "\n",
    "ax.plot(Total_M_standard, np.abs(E_list_standard-new_FCI_Energy), color='k', label='standard VQE', linestyle='-')\n",
    "ax.plot(Total_M_unitary_P, np.abs(E_list_ROT-new_FCI_Energy), color='b', label='circuit rotations method')\n",
    "\n",
    "# note using Total_M_ROT here as I am counting 'successful' shots (rather than Total_M_LCU)\n",
    "ax.plot(Total_M_unitary_P, np.abs(E_list_LCU_success_only-new_FCI_Energy), color='r', label='circuit LCU method (successful shots only)', linestyle='-')\n",
    "ax.plot(Total_M_unitary_P, np.abs(E_list_LCU_raw-new_FCI_Energy), color='g', label='circuit LCU method (no extra shots)', linestyle='-')\n",
    "\n",
    "# plt.fill_between([150, max([*Total_M_ROT, *Total_M_LCU, *Total_M_standard])],[1.6e-3, 1.6e-3] , color='#539ecd', label='chemical accuracy')\n",
    "plt.fill_between([start_shots, max([*Total_M_unitary_P, *Total_M_standard])],[1.6e-3, 1.6e-3] , color='#539ecd', label='chemical accuracy')\n",
    "\n",
    "\n",
    "ax.set(xlabel='Total number of circuit shots', ylabel='$|\\Delta $E| / Ha')\n",
    "#                                         ,title='Scaling of methods')\n",
    "ax.grid()\n",
    "plt.legend()\n",
    "plt.show()"
   ]
  },
  {
   "cell_type": "code",
   "execution_count": null,
   "metadata": {},
   "outputs": [],
   "source": []
  },
  {
   "cell_type": "code",
   "execution_count": null,
   "metadata": {},
   "outputs": [],
   "source": [
    "%matplotlib notebook\n",
    "fig, ax = plt.subplots()\n",
    "\n",
    "\n",
    "\n",
    "ax.plot(Total_M_unitary_P, np.abs(E_list_ROT-new_FCI_Energy), color='b', label='circuit rotations method')\n",
    "ax.plot(Total_M_unitary_P, np.abs(E_list_LCU_success_only-new_FCI_Energy), color='r', label='circuit LCU method (successful shots only)', linestyle='-')\n",
    "ax.plot(Total_M_unitary_P, np.abs(E_list_LCU_raw-new_FCI_Energy), color='g', label='circuit LCU method (no extra shots)', linestyle='-')\n",
    "\n",
    "\n",
    "# plt.fill_between([150, max([*Total_M_ROT, *Total_M_LCU, *Total_M_standard])],[1.6e-3, 1.6e-3] , color='#539ecd', label='chemical accuracy')\n",
    "plt.fill_between([start_shots, max([*Total_M_unitary_P])],[1.6e-3, 1.6e-3] , color='#539ecd', label='chemical accuracy')\n",
    "\n",
    "\n",
    "ax.set(xlabel='Total number of circuit shots', ylabel='$\\Delta $E / Ha')\n",
    "#                                         ,title='Scaling of methods')\n",
    "ax.grid()\n",
    "plt.legend()\n",
    "plt.show()"
   ]
  },
  {
   "cell_type": "code",
   "execution_count": null,
   "metadata": {},
   "outputs": [],
   "source": [
    "100_000/5"
   ]
  },
  {
   "cell_type": "code",
   "execution_count": null,
   "metadata": {},
   "outputs": [],
   "source": []
  },
  {
   "cell_type": "code",
   "execution_count": null,
   "metadata": {},
   "outputs": [],
   "source": [
    "ijab_angles=np.arange(0,2*pi,0.1)\n",
    "\n",
    "energies_rot_circuit=[GIVE_ENERGY_Q_CIRC_ROTATIONS(theta) for theta in ijab_angles]\n",
    "n_ROT_circuit_M = [n_shots*3 for _ in range(len(energies_rot_circuit))]\n",
    "\n",
    "# energies_lcu_circuit=[GIVE_ENERGY_Q_CIRC_LCU_CIRCUIT(theta) for theta in ijab_angles]\n",
    "LCU_method_record_no_M = GIVE_ENERGY_Q_CIRC_LCU_CIRCUIT_class()\n",
    "energies_lcu_circuit=[LCU_method_record_no_M.GIVE_ENERGY_Q_CIRC_LCU_CIRCUIT(theta) for theta in ijab_angles]\n",
    "n_LCU_circuit_M=[sum([n_shots if i not in m_dict else m_dict[i] for i in [0,2,3]]) for m_dict in LCU_method_record_no_M.n_circuit_eval_steps]\n",
    "\n",
    "energies_standard_VQE_circuit=[Calc_Energy_circuit_STANDARD_VQE(theta, anti_commuting_sets, n_shots) for theta in ijab_angles]\n",
    "n_VQE_standard_circuit_M = [n_shots*5 for _ in range(len(energies_standard_VQE_circuit))]\n",
    "\n",
    "energies_rot_LinAlg=[GIVE_ENERGY_lin_alg_ROTATIONS(theta) for theta in ijab_angles]\n",
    "energies_lcu_LinAlg=[GIVE_ENERGY_Q_CIRC_LCU_lin_alg(theta) for theta in ijab_angles]"
   ]
  },
  {
   "cell_type": "code",
   "execution_count": null,
   "metadata": {},
   "outputs": [],
   "source": [
    "%matplotlib notebook\n",
    "fig, ax = plt.subplots()\n",
    "\n",
    "ax.plot(ijab_angles, energies_rot_circuit, color='b', label='circuit rotations method')\n",
    "ax.plot(ijab_angles, energies_lcu_circuit, color='r', label='circuit LCU method', linestyle='--')\n",
    "ax.plot(ijab_angles, energies_standard_VQE_circuit, color='k', label='standard VQE', linestyle='--')\n",
    "\n",
    "# ax.plot(ijab_angles, energies_rot_LinAlg, color='g', label='Lin Alg ROT')\n",
    "# ax.plot(ijab_angles, energies_lcu_LinAlg, color='k', label='Lin Alg LCU', linestyle='--')\n",
    "\n",
    "\n",
    "ax.set(xlabel='Angle', ylabel='Energy')\n",
    "#                                         ,title='Scaling of methods')\n",
    "ax.grid()\n",
    "plt.legend()"
   ]
  },
  {
   "cell_type": "code",
   "execution_count": null,
   "metadata": {},
   "outputs": [],
   "source": [
    "N"
   ]
  },
  {
   "cell_type": "code",
   "execution_count": null,
   "metadata": {},
   "outputs": [],
   "source": [
    "# %matplotlib notebook\n",
    "# # https://stackoverflow.com/questions/32474434/trying-to-plot-a-line-plot-on-a-bar-plot-using-matplotlib\n",
    "\n",
    "# plt.figure()          \n",
    "# N = len(n_ROT_circuit_M)\n",
    "# width = 0.35       # the width of the bars\n",
    "\n",
    "# ind = np.arange(0, N)\n",
    "# plt.ylim(0.0, max(n_LCU_circuit_M))\n",
    "# plt.bar(ind, n_LCU_circuit_M, width, color='r', label='LCU measurments')\n",
    "\n",
    "# plt.bar(ind+width, n_ROT_circuit_M, width, color='b', label='ROT measurements')\n",
    "# plt.ylabel('Bar plot')      \n",
    "\n",
    "\n",
    "\n",
    "\n",
    "# axes2 = plt.twinx()\n",
    "# axes2.plot(ind, energies_rot_circuit, color='g', label='circuit rotations method')\n",
    "# axes2.plot(ind, energies_lcu_circuit, color='k', label='circuit LCU method', linestyle='--')\n",
    "# axes2.set_ylabel('Energy')\n",
    "\n",
    "# plt.show()"
   ]
  },
  {
   "cell_type": "code",
   "execution_count": null,
   "metadata": {},
   "outputs": [],
   "source": [
    "%matplotlib notebook\n",
    "# https://stackoverflow.com/questions/32474434/trying-to-plot-a-line-plot-on-a-bar-plot-using-matplotlib\n",
    "# https://matplotlib.org/3.1.1/gallery/lines_bars_and_markers/bar_stacked.html\n",
    "\n",
    "# plt.figure()          \n",
    "plt.figure(figsize=(10, 5))\n",
    "\n",
    "N = len(n_ROT_circuit_M)\n",
    "width = 0.35       # the width of the bars\n",
    "\n",
    "ind = np.arange(0, N)\n",
    "plt.ylim(0.0, max(n_VQE_standard_circuit_M))\n",
    "  \n",
    "\n",
    "plt.bar(ind, n_ROT_circuit_M, width, color='b', label='No. of Rotation circuit measurements')\n",
    "plt.bar(ind, n_LCU_circuit_M, width, color='r', label='No. of LCU circuit measurements', bottom=n_ROT_circuit_M)\n",
    "plt.bar(ind, n_VQE_standard_circuit_M, width, color='k', label='No. of LCU circuit measurements', bottom=n_LCU_circuit_M)\n",
    "\n",
    "plt.ylabel('Number of Measurements - bars')   \n",
    "plt.legend()\n",
    "\n",
    "axes2 = plt.twinx()\n",
    "axes2.plot(ind, energies_rot_circuit, color='g', label='circuit rotations method')\n",
    "axes2.plot(ind, energies_lcu_circuit, color='k', label='circuit LCU method', linestyle='--')\n",
    "axes2.plot(ind, energies_standard_VQE_circuit, color='m', label='standard VQE', linestyle='--')\n",
    "# axes2.set_ylabel('Energy - line')\n",
    "axes2.set(xlabel='Angle', ylabel='Energy - line')\n",
    "\n",
    "plt.legend()\n",
    "plt.show()"
   ]
  },
  {
   "cell_type": "code",
   "execution_count": null,
   "metadata": {},
   "outputs": [],
   "source": []
  },
  {
   "cell_type": "code",
   "execution_count": null,
   "metadata": {},
   "outputs": [],
   "source": [
    "from quchem.latex_tables import *"
   ]
  },
  {
   "cell_type": "code",
   "execution_count": null,
   "metadata": {},
   "outputs": [],
   "source": [
    "latex_table_Hamiltonian(anti_commuting_sets, 'Latex_table1')\n",
    "latex_table_seq_rot(anti_commuting_sets, 'Latex_table2', 0)\n",
    "latex_table_LCU(anti_commuting_sets, 'Latex_table3', 0)\n",
    "latex_table_LCU_R_op(anti_commuting_sets, 'Latex_table4', 0)"
   ]
  },
  {
   "cell_type": "code",
   "execution_count": null,
   "metadata": {},
   "outputs": [],
   "source": []
  },
  {
   "cell_type": "code",
   "execution_count": null,
   "metadata": {},
   "outputs": [],
   "source": []
  },
  {
   "cell_type": "code",
   "execution_count": 15,
   "metadata": {},
   "outputs": [
    {
     "data": {
      "text/plain": [
       "{2: 1.0021254557254915, 3: 1.1265860009274382}"
      ]
     },
     "execution_count": 15,
     "metadata": {},
     "output_type": "execute_result"
    }
   ],
   "source": [
    "### increased cost of ALCU vs LCU\n",
    "\n",
    "w_l={}\n",
    "for set_key in anti_commuting_sets:\n",
    "    if len(anti_commuting_sets[set_key])>1:\n",
    "        R_uncorrected, _, _ = Get_R_op_list(anti_commuting_sets[set_key], N_index)\n",
    "        _, _, ancilla_amplitudes, _ = absorb_complex_phases(R_uncorrected)\n",
    "        w_l[set_key]=ancilla_amplitudes\n",
    "\n",
    "        \n",
    "ALCU_cost={}\n",
    "for key, wl_list in w_l.items():\n",
    "    \n",
    "    numerator = np.sqrt(sum(np.array(wl_list)**2)/len(wl_list))\n",
    "    \n",
    "    denominator = sum(np.array(wl_list))/len(wl_list)\n",
    "    \n",
    "    ALCU_cost[key] = numerator/denominator\n",
    "ALCU_cost"
   ]
  }
 ],
 "metadata": {
  "kernelspec": {
   "display_name": "Python 3",
   "language": "python",
   "name": "python3"
  },
  "language_info": {
   "codemirror_mode": {
    "name": "ipython",
    "version": 3
   },
   "file_extension": ".py",
   "mimetype": "text/x-python",
   "name": "python",
   "nbconvert_exporter": "python",
   "pygments_lexer": "ipython3",
   "version": "3.7.3"
  }
 },
 "nbformat": 4,
 "nbformat_minor": 4
}
