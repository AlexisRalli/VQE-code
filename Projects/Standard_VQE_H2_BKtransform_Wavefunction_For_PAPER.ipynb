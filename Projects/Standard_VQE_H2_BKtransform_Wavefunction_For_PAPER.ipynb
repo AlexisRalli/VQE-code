{
 "cells": [
  {
   "cell_type": "code",
   "execution_count": 1,
   "metadata": {},
   "outputs": [],
   "source": [
    "# from quchem.Hamiltonian_Generator_Functions import *\n",
    "# from quchem.Graph import *\n",
    "# ### HAMILTONIAN start\n",
    "# Molecule = 'H2'\n",
    "# geometry = [('H', (0., 0., 0.)), ('H', (0., 0., 0.74))]\n",
    "# basis = 'sto-3g'\n",
    "\n",
    "\n",
    "# ### Get Hamiltonian\n",
    "# Hamilt = Hamiltonian_PySCF(Molecule,\n",
    "#                      run_scf=1, run_mp2=1, run_cisd=1, run_ccsd=1, run_fci=1,\n",
    "#                      basis=basis,\n",
    "#                      multiplicity=1,\n",
    "#                      geometry=geometry)  # normally None!\n",
    "# QubitHamiltonian = Hamilt.Get_Qubit_Hamiltonian(threshold=None, transformation='BK')\n",
    "# ### HAMILTONIAN end\n",
    "\n",
    "# #####################################\n",
    "\n",
    "# print(QubitHamiltonian)\n",
    "\n",
    "# const_list=[]\n",
    "# P_list=[]\n",
    "# for Pauli, Const in QubitHamiltonian.terms.items():\n",
    "#     P_list.append(Pauli)\n",
    "#     const_list.append(Const)\n",
    "    \n",
    "# print(P_list)\n",
    "# print('')\n",
    "# print(const_list)\n",
    "# fci_energy = Hamilt.molecule.fci_energy\n",
    "# print(fci_energy)"
   ]
  },
  {
   "cell_type": "code",
   "execution_count": null,
   "metadata": {},
   "outputs": [],
   "source": []
  },
  {
   "cell_type": "code",
   "execution_count": 2,
   "metadata": {},
   "outputs": [
    {
     "data": {
      "text/plain": [
       "(-0.09706626816762878+0j) [] +\n",
       "(0.045302615503799264+0j) [X0 Z1 X2] +\n",
       "(0.045302615503799264+0j) [X0 Z1 X2 Z3] +\n",
       "(0.045302615503799264+0j) [Y0 Z1 Y2] +\n",
       "(0.045302615503799264+0j) [Y0 Z1 Y2 Z3] +\n",
       "(0.1714128264477689+0j) [Z0] +\n",
       "(0.17141282644776892+0j) [Z0 Z1] +\n",
       "(0.1659278503377034+0j) [Z0 Z1 Z2] +\n",
       "(0.1659278503377034+0j) [Z0 Z1 Z2 Z3] +\n",
       "(0.12062523483390414+0j) [Z0 Z2] +\n",
       "(0.12062523483390414+0j) [Z0 Z2 Z3] +\n",
       "(0.16868898170361207+0j) [Z1] +\n",
       "(-0.22343153690813558+0j) [Z1 Z2 Z3] +\n",
       "(0.1744128761226159+0j) [Z1 Z3] +\n",
       "(-0.22343153690813564+0j) [Z2]"
      ]
     },
     "execution_count": 2,
     "metadata": {},
     "output_type": "execute_result"
    }
   ],
   "source": [
    "fci_energy = -1.137283834488502\n",
    "\n",
    "P_list = [(),\n",
    " ((0, 'Z'),),\n",
    " ((0, 'Z'), (1, 'Z')),\n",
    " ((2, 'Z'),),\n",
    " ((1, 'Z'), (2, 'Z'), (3, 'Z')),\n",
    " ((1, 'Z'),),\n",
    " ((0, 'Y'), (1, 'Z'), (2, 'Y'), (3, 'Z')),\n",
    " ((0, 'X'), (1, 'Z'), (2, 'X')),\n",
    " ((0, 'X'), (1, 'Z'), (2, 'X'), (3, 'Z')),\n",
    " ((0, 'Y'), (1, 'Z'), (2, 'Y')),\n",
    " ((0, 'Z'), (2, 'Z')),\n",
    " ((0, 'Z'), (1, 'Z'), (2, 'Z'), (3, 'Z')),\n",
    " ((0, 'Z'), (1, 'Z'), (2, 'Z')),\n",
    " ((0, 'Z'), (2, 'Z'), (3, 'Z')),\n",
    " ((1, 'Z'), (3, 'Z'))]\n",
    "\n",
    "const_list = [(-0.09706626816762878+0j),\n",
    " (0.1714128264477689+0j),\n",
    " (0.17141282644776892+0j),\n",
    " (-0.22343153690813564+0j),\n",
    " (-0.22343153690813558+0j),\n",
    " (0.16868898170361207+0j),\n",
    " (0.045302615503799264+0j),\n",
    " (0.045302615503799264+0j),\n",
    " (0.045302615503799264+0j),\n",
    " (0.045302615503799264+0j),\n",
    " (0.12062523483390414+0j),\n",
    " (0.1659278503377034+0j),\n",
    " (0.1659278503377034+0j),\n",
    " (0.12062523483390414+0j),\n",
    " (0.1744128761226159+0j)]\n",
    "\n",
    "from openfermion.ops import QubitOperator\n",
    "QubitHamiltonian = QubitOperator()\n",
    "\n",
    "for P_word, const in zip(P_list, const_list):\n",
    "    QubitHamiltonian+=QubitOperator(P_word, const)\n",
    "QubitHamiltonian"
   ]
  },
  {
   "cell_type": "code",
   "execution_count": 3,
   "metadata": {},
   "outputs": [
    {
     "data": {
      "text/plain": [
       "[(-0.09706626816762878+0j),\n",
       " (0.1714128264477689+0j),\n",
       " (0.17141282644776892+0j),\n",
       " (-0.22343153690813564+0j),\n",
       " (-0.22343153690813558+0j),\n",
       " (0.16868898170361207+0j),\n",
       " (0.045302615503799264+0j),\n",
       " (0.045302615503799264+0j),\n",
       " (0.045302615503799264+0j),\n",
       " (0.045302615503799264+0j),\n",
       " (0.12062523483390414+0j),\n",
       " (0.1659278503377034+0j),\n",
       " (0.1659278503377034+0j),\n",
       " (0.12062523483390414+0j),\n",
       " (0.1744128761226159+0j)]"
      ]
     },
     "execution_count": 3,
     "metadata": {},
     "output_type": "execute_result"
    }
   ],
   "source": [
    "const_list"
   ]
  },
  {
   "cell_type": "code",
   "execution_count": 4,
   "metadata": {},
   "outputs": [],
   "source": [
    "from quchem.Ansatz_Generator_Functions import *\n",
    "# n_electrons=Hamilt.molecule.n_electrons\n",
    "# n_qubits= Hamilt.molecule.n_qubit\n",
    "n_electrons=2\n",
    "n_qubits= 4\n",
    "\n",
    "ansatz_obj = Ansatz(n_electrons, n_qubits)\n",
    "\n",
    "\n",
    "\n",
    "Sec_Quant_CC_ops_ia, Sec_Quant_CC_ops_ijab, theta_parameters_ia, theta_parameters_ijab=ansatz_obj.Get_ia_and_ijab_terms(single_cc_amplitudes=None, \n",
    "                                                                                                             double_cc_amplitudes=None, \n",
    "                                                                                                             singles_hamiltonian=None,\n",
    "                                                                                                             doubles_hamiltonian=None, \n",
    "                                                                                                             tol_filter_small_terms = None)\n",
    "\n",
    "Qubit_Op_list_Second_Quant_CC_Ops_ia, Qubit_Op_list_Second_Quant_CC_Ops_ijab = ansatz_obj.UCCSD_single_trotter_step(Sec_Quant_CC_ops_ia,\n",
    "                                                                                                                    Sec_Quant_CC_ops_ijab,\n",
    "                                                                                                                   transformation='BK')\n"
   ]
  },
  {
   "cell_type": "code",
   "execution_count": 5,
   "metadata": {},
   "outputs": [
    {
     "name": "stdout",
     "output_type": "stream",
     "text": [
      "[1. 0. 0. 0.]\n"
     ]
    },
    {
     "data": {
      "text/html": [
       "<pre style=\"overflow: auto; white-space: pre;\">                                                                                                                                                                                  ┌─────────┐   ┌──────────┐              ┌──────────┐\n",
       "0: ───X───H──────────@───────────────────────@───H───────────Rx(0.5π)───@───────────────────────@───────────Rx(-0.5π)──────────────@───────────────────────@──────────H────────────────────@───────────────────@───────────H─────────────H───────────@───────────────────────@───────────H───Rx(0.5π)───@──────────────@───Rx(-0.5π)───Rx(0.5π)───@──────────────────────@───Rx(-0.5π)───Rx(0.5π)───@──────────────────────────────@───Rx(-0.5π)───Rx(0.5π)───@──────────────────────@───Rx(-0.5π)───H──────────@───────────────────────────────@───────────H──────────H───@───────────────────────@───H───────────\n",
       "                     │                       │                          │                       │                                  │                       │                               │                   │                                     │                       │                          │              │                          │                      │                          │                              │                          │                      │                          │                               │                          │                       │\n",
       "1: ───I───Rx(0.5π)───X───@───────────────@───X───Rx(-0.5π)───Rx(0.5π)───X───@───────────────@───X───────────Rx(-0.5π)───Rx(0.5π)───X───@───────────────@───X──────────Rx(-0.5π)────Rx(0.5π)┼─────@─────────────┼───────────@─────────────Rx(-0.5π)───X───@───────────────@───X──────────────────────────┼──────────────┼──────────────────────────X───@──────────────@───X──────────────────────────X───@──────────────────────@───X──────────────────────────┼──────────────────────┼──────────────────────────X───@───────────────────────@───X──────────────────────────┼───────────────────────┼───────────────\n",
       "                         │               │                                  │               │                                          │               │                                   │     │             │           │                             │               │                              │              │                              │              │                                  │                      │                              │                      │                              │                       │                              │                       │\n",
       "2: ───I───H──────────────X───Rz(-0.0π)───X───H───Rx(0.5π)───────────────────X───Rz(-0.0π)───X───Rx(-0.5π)──────────────────────────────X───Rz(-0.0π)───X───Rx(0.5π)────────────────────────X─────┼Rz(-0.0π)────X───────────┼Rx(-0.5π)────Rx(0.5π)────────X───Rz(-0.0π)───X───Rx(-0.5π)───H──────────────X───Rz(0.0π)───X───H───────────H──────────────X───Rz(0.0π)───X───H───H──────────────────────────X───@──────────────@───X───H───H──────────────────────X───@──────────────@───X───H───────────Rx(0.5π)───────X───@───────────────@───X───Rx(-0.5π)───Rx(0.5π)───────X───@───────────────@───X───Rx(-0.5π)───\n",
       "                                                                                                                                                                                                 │                         │                                                                                                                                                                                │              │                                      │              │                                      │               │                                      │               │\n",
       "3: ───I──────────────────────────────────────────────────────────────────────────────────────────────────────────────────────────────────────────────────────────────────────────────────────────X─────────────Rz(0.0π)────X────────────────────────────────────────────────────────────────────────────────────────────────────────────────────────────────────────────────────────────────────────────────X───Rz(0.0π)───X──────────────────────────────────────X───Rz(0.0π)───X──────────────────────────────────────X───Rz(-0.0π)───X──────────────────────────────────────X───Rz(-0.0π)───X───────────────────\n",
       "                                                                                                                                                                                  └─────────┘   └──────────┘              └──────────┘</pre>"
      ],
      "text/plain": [
       "                                                                                                                                                                                  ┌─────────┐   ┌──────────┐              ┌──────────┐\n",
       "0: ───X───H──────────@───────────────────────@───H───────────Rx(0.5π)───@───────────────────────@───────────Rx(-0.5π)──────────────@───────────────────────@──────────H────────────────────@───────────────────@───────────H─────────────H───────────@───────────────────────@───────────H───Rx(0.5π)───@──────────────@───Rx(-0.5π)───Rx(0.5π)───@──────────────────────@───Rx(-0.5π)───Rx(0.5π)───@──────────────────────────────@───Rx(-0.5π)───Rx(0.5π)───@──────────────────────@───Rx(-0.5π)───H──────────@───────────────────────────────@───────────H──────────H───@───────────────────────@───H───────────\n",
       "                     │                       │                          │                       │                                  │                       │                               │                   │                                     │                       │                          │              │                          │                      │                          │                              │                          │                      │                          │                               │                          │                       │\n",
       "1: ───I───Rx(0.5π)───X───@───────────────@───X───Rx(-0.5π)───Rx(0.5π)───X───@───────────────@───X───────────Rx(-0.5π)───Rx(0.5π)───X───@───────────────@───X──────────Rx(-0.5π)────Rx(0.5π)┼─────@─────────────┼───────────@─────────────Rx(-0.5π)───X───@───────────────@───X──────────────────────────┼──────────────┼──────────────────────────X───@──────────────@───X──────────────────────────X───@──────────────────────@───X──────────────────────────┼──────────────────────┼──────────────────────────X───@───────────────────────@───X──────────────────────────┼───────────────────────┼───────────────\n",
       "                         │               │                                  │               │                                          │               │                                   │     │             │           │                             │               │                              │              │                              │              │                                  │                      │                              │                      │                              │                       │                              │                       │\n",
       "2: ───I───H──────────────X───Rz(-0.0π)───X───H───Rx(0.5π)───────────────────X───Rz(-0.0π)───X───Rx(-0.5π)──────────────────────────────X───Rz(-0.0π)───X───Rx(0.5π)────────────────────────X─────┼Rz(-0.0π)────X───────────┼Rx(-0.5π)────Rx(0.5π)────────X───Rz(-0.0π)───X───Rx(-0.5π)───H──────────────X───Rz(0.0π)───X───H───────────H──────────────X───Rz(0.0π)───X───H───H──────────────────────────X───@──────────────@───X───H───H──────────────────────X───@──────────────@───X───H───────────Rx(0.5π)───────X───@───────────────@───X───Rx(-0.5π)───Rx(0.5π)───────X───@───────────────@───X───Rx(-0.5π)───\n",
       "                                                                                                                                                                                                 │                         │                                                                                                                                                                                │              │                                      │              │                                      │               │                                      │               │\n",
       "3: ───I──────────────────────────────────────────────────────────────────────────────────────────────────────────────────────────────────────────────────────────────────────────────────────────X─────────────Rz(0.0π)────X────────────────────────────────────────────────────────────────────────────────────────────────────────────────────────────────────────────────────────────────────────────────X───Rz(0.0π)───X──────────────────────────────────────X───Rz(0.0π)───X──────────────────────────────────────X───Rz(-0.0π)───X──────────────────────────────────────X───Rz(-0.0π)───X───────────────────\n",
       "                                                                                                                                                                                  └─────────┘   └──────────┘              └──────────┘"
      ]
     },
     "execution_count": 5,
     "metadata": {},
     "output_type": "execute_result"
    }
   ],
   "source": [
    "input_state = ansatz_obj.Get_BK_HF_state_in_OCC_basis()\n",
    "print(input_state)\n",
    "\n",
    "UCCSD_ansatz_Q_Circ_obj = Ansatz_Circuit(input_state,\n",
    "                                     Qubit_Op_list_Second_Quant_CC_Ops_ia, \n",
    "                                     Qubit_Op_list_Second_Quant_CC_Ops_ijab)\n",
    "\n",
    "UCCSD_ansatz_Q_Circ =UCCSD_ansatz_Q_Circ_obj.Get_Full_HF_UCCSD_QC(Theta_param_list_ia=theta_parameters_ia, \n",
    "                                         Theta_param_list_ijab=theta_parameters_ijab,\n",
    "                                         ia_first=True)\n",
    "UCCSD_ansatz_Q_Circ"
   ]
  },
  {
   "cell_type": "code",
   "execution_count": 6,
   "metadata": {},
   "outputs": [
    {
     "data": {
      "text/plain": [
       "[0.125j [X0 Z1 Y2] +\n",
       " 0.125j [X0 Z1 Y2 Z3] +\n",
       " 0.125j [X0 Y2] +\n",
       " 0.125j [X0 Y2 Z3] +\n",
       " -0.125j [Y0 Z1 X2] +\n",
       " -0.125j [Y0 Z1 X2 Z3] +\n",
       " -0.125j [Y0 X2] +\n",
       " -0.125j [Y0 X2 Z3]]"
      ]
     },
     "execution_count": 6,
     "metadata": {},
     "output_type": "execute_result"
    }
   ],
   "source": [
    "Qubit_Op_list_Second_Quant_CC_Ops_ijab"
   ]
  },
  {
   "cell_type": "markdown",
   "metadata": {},
   "source": [
    "From Helgaker, T., P. Jorgensen,and J. Olsen (2014),Molecularelectronic-structure theory(John Wiley & Sons)\n",
    "we known\n",
    "\n",
    "$$H_{2}^{ground} = 0.9939| 1100\\rangle - 0.1106| 0011\\rangle$$\n",
    "\n",
    "From group theory we know only double excitation terms are important!\n",
    "We can see this from our ijab operators that qubits 1 and 3 are only acted on by $Z$ therefore experience no population changes... Can even see this from the answer if we write it in BK basis:\n",
    "\n",
    "$$H_{2}^{BK} = 0.9939| 1000\\rangle - 0.1106| 0010\\rangle$$\n",
    "\n",
    "See how qubits 1 and 3 always remain at 0!\n",
    "\n",
    "therefore can **remove** these measurements from Hamiltonian... as we know what expectation values they should give!\n",
    "\n",
    "In the case for this Hamiltonian only $I$ and $Z$ act on these qubits! So even easier to remove (expectation values = +1 (as act on $| 0\\rangle$ state!), so just remove and add to relivent H terms!"
   ]
  },
  {
   "cell_type": "markdown",
   "metadata": {},
   "source": [
    "LOOK at:\n",
    "\n",
    "PHYS. REV. X, **8**, 031022 (2018)"
   ]
  },
  {
   "cell_type": "code",
   "execution_count": 7,
   "metadata": {},
   "outputs": [
    {
     "name": "stdout",
     "output_type": "stream",
     "text": [
      "double e- operators:\n",
      "[0.125j [X0 Z1 Y2] +\n",
      "0.125j [X0 Z1 Y2 Z3] +\n",
      "0.125j [X0 Y2] +\n",
      "0.125j [X0 Y2 Z3] +\n",
      "-0.125j [Y0 Z1 X2] +\n",
      "-0.125j [Y0 Z1 X2 Z3] +\n",
      "-0.125j [Y0 X2] +\n",
      "-0.125j [Y0 X2 Z3]]\n",
      "\n",
      "qubit indices: [1 3] only acted on by I or Z\n"
     ]
    }
   ],
   "source": [
    "print('double e- operators:')\n",
    "print(Qubit_Op_list_Second_Quant_CC_Ops_ijab)\n",
    "\n",
    "ansatz_obj = BK_Qubit_Reduction(QubitHamiltonian,\n",
    "                             n_electrons,\n",
    "                             n_qubits)\n",
    "\n",
    "indices_to_Remove = ansatz_obj.Find_Qubits_only_acted_on_by_I_or_Z(Qubit_Op_list_Second_Quant_CC_Ops_ijab)\n",
    "print('')\n",
    "print('qubit indices:', indices_to_Remove, 'only acted on by I or Z')"
   ]
  },
  {
   "cell_type": "code",
   "execution_count": 8,
   "metadata": {
    "scrolled": true
   },
   "outputs": [
    {
     "data": {
      "text/plain": [
       "[(-0.09706626816762878+0j) [],\n",
       " (0.1714128264477689+0j) [Z0],\n",
       " (0.17141282644776892+0j) [Z0 Z1],\n",
       " (-0.22343153690813564+0j) [Z2],\n",
       " (-0.22343153690813558+0j) [Z1 Z2 Z3],\n",
       " (0.16868898170361207+0j) [Z1],\n",
       " (0.045302615503799264+0j) [Y0 Z1 Y2 Z3],\n",
       " (0.045302615503799264+0j) [X0 Z1 X2],\n",
       " (0.045302615503799264+0j) [X0 Z1 X2 Z3],\n",
       " (0.045302615503799264+0j) [Y0 Z1 Y2],\n",
       " (0.12062523483390414+0j) [Z0 Z2],\n",
       " (0.1659278503377034+0j) [Z0 Z1 Z2 Z3],\n",
       " (0.1659278503377034+0j) [Z0 Z1 Z2],\n",
       " (0.12062523483390414+0j) [Z0 Z2 Z3],\n",
       " (0.1744128761226159+0j) [Z1 Z3]]"
      ]
     },
     "execution_count": 8,
     "metadata": {},
     "output_type": "execute_result"
    }
   ],
   "source": [
    "list(QubitHamiltonian)"
   ]
  },
  {
   "cell_type": "markdown",
   "metadata": {},
   "source": [
    "### Can remove these terms from Hamiltonian"
   ]
  },
  {
   "cell_type": "code",
   "execution_count": 9,
   "metadata": {},
   "outputs": [
    {
     "data": {
      "text/plain": [
       "(0.2460355896585992+0j) [] +\n",
       "(0.09060523100759853+0j) [X0 X2] +\n",
       "(0.09060523100759853+0j) [Y0 Y2] +\n",
       "(0.3428256528955378+0j) [Z0] +\n",
       "(0.5731061703432151+0j) [Z0 Z2] +\n",
       "(-0.4468630738162712+0j) [Z2]"
      ]
     },
     "execution_count": 9,
     "metadata": {},
     "output_type": "execute_result"
    }
   ],
   "source": [
    "reduced_Qubit_Hamiltonian = ansatz_obj.Remove_indices_from_Hamiltonian(indices_to_Remove)\n",
    "reduced_Qubit_Hamiltonian"
   ]
  },
  {
   "cell_type": "markdown",
   "metadata": {},
   "source": [
    "### Can remove these terms from Anstz"
   ]
  },
  {
   "cell_type": "code",
   "execution_count": 10,
   "metadata": {},
   "outputs": [
    {
     "data": {
      "text/plain": [
       "[0.5j [X0 Y2] +\n",
       " -0.5j [Y0 X2]]"
      ]
     },
     "execution_count": 10,
     "metadata": {},
     "output_type": "execute_result"
    }
   ],
   "source": [
    "reduced_ijab_CC = ansatz_obj.Remove_indices_from_CC_qubit_operators(Qubit_Op_list_Second_Quant_CC_Ops_ijab,\n",
    "                                                             indices_to_Remove)\n",
    "reduced_ijab_CC"
   ]
  },
  {
   "cell_type": "markdown",
   "metadata": {},
   "source": [
    "# NEXT need to re-label everything"
   ]
  },
  {
   "cell_type": "code",
   "execution_count": 11,
   "metadata": {},
   "outputs": [
    {
     "name": "stdout",
     "output_type": "stream",
     "text": [
      "qubit relabelling dict =  {0: 0, 2: 1}\n"
     ]
    },
    {
     "data": {
      "text/plain": [
       "(0.2460355896585992+0j) [] +\n",
       "(0.09060523100759853+0j) [X0 X1] +\n",
       "(0.09060523100759853+0j) [Y0 Y1] +\n",
       "(0.3428256528955378+0j) [Z0] +\n",
       "(0.5731061703432151+0j) [Z0 Z1] +\n",
       "(-0.4468630738162712+0j) [Z1]"
      ]
     },
     "execution_count": 11,
     "metadata": {},
     "output_type": "execute_result"
    }
   ],
   "source": [
    "relabel_dict, relabelled_reduced_Qubit_Hamiltonian = ansatz_obj.Re_label_Hamiltonian(reduced_Qubit_Hamiltonian)\n",
    "\n",
    "print('qubit relabelling dict = ', relabel_dict)\n",
    "\n",
    "relabelled_reduced_Qubit_Hamiltonian"
   ]
  },
  {
   "cell_type": "code",
   "execution_count": 12,
   "metadata": {},
   "outputs": [
    {
     "data": {
      "text/plain": [
       "[0.5j [X0 Y1] +\n",
       " -0.5j [Y0 X1]]"
      ]
     },
     "execution_count": 12,
     "metadata": {},
     "output_type": "execute_result"
    }
   ],
   "source": [
    "relabelled_reduced_ijab_CC = ansatz_obj.Re_label_CC_qubit_operators(relabel_dict, reduced_ijab_CC)\n",
    "relabelled_reduced_ijab_CC"
   ]
  },
  {
   "cell_type": "markdown",
   "metadata": {},
   "source": [
    "## Find New input state"
   ]
  },
  {
   "cell_type": "code",
   "execution_count": 13,
   "metadata": {},
   "outputs": [
    {
     "name": "stdout",
     "output_type": "stream",
     "text": [
      "old input =  [1. 0. 0. 0.]\n",
      "BUT following indices removed: [1 3]\n"
     ]
    },
    {
     "data": {
      "text/plain": [
       "array([1., 0.])"
      ]
     },
     "execution_count": 13,
     "metadata": {},
     "output_type": "execute_result"
    }
   ],
   "source": [
    "print('old input = ', ansatz_obj.Get_BK_HF_state_in_OCC_basis())\n",
    "print('BUT following indices removed:', indices_to_Remove)\n",
    "ansatz_obj.New_BK_HF_state(indices_to_Remove)"
   ]
  },
  {
   "cell_type": "markdown",
   "metadata": {},
   "source": [
    "# Find what new FCI energy is\n",
    "- here should be the same as true answer!"
   ]
  },
  {
   "cell_type": "code",
   "execution_count": 14,
   "metadata": {},
   "outputs": [
    {
     "name": "stdout",
     "output_type": "stream",
     "text": [
      "new_FCI =  (-1.1372838344885006+0j) VS old FCI: -1.137283834488502\n"
     ]
    }
   ],
   "source": [
    "from openfermion import qubit_operator_sparse\n",
    "new_Molecular_H_MATRIX =  qubit_operator_sparse(relabelled_reduced_Qubit_Hamiltonian)\n",
    "\n",
    "from scipy.linalg import eig\n",
    "eig_values, eig_vectors = eig(new_Molecular_H_MATRIX.todense())\n",
    "new_FCI_Energy = min(eig_values)\n",
    "\n",
    "\n",
    "print('new_FCI = ', new_FCI_Energy, 'VS old FCI:', fci_energy)"
   ]
  },
  {
   "cell_type": "code",
   "execution_count": 15,
   "metadata": {},
   "outputs": [],
   "source": [
    "from quchem.LCU_method import *"
   ]
  },
  {
   "cell_type": "code",
   "execution_count": 16,
   "metadata": {},
   "outputs": [],
   "source": [
    "# Hamiltonian_graph_obj = Openfermion_Hamiltonian_Graph(relabelled_reduced_Qubit_Hamiltonian)\n",
    "\n",
    "# commutativity_flag = 'AC' ## <- defines relationship between sets!!!\n",
    "# plot_graph = False\n",
    "# Graph_colouring_strategy='largest_first'\n",
    "# anti_commuting_sets = Hamiltonian_graph_obj.Get_Clique_Cover_as_QubitOp(commutativity_flag, Graph_colouring_strategy=Graph_colouring_strategy, plot_graph=plot_graph)\n",
    "# anti_commuting_sets\n",
    "\n",
    "# Graph_sets_dict={}\n",
    "# for key in anti_commuting_sets:\n",
    "#     terms=[]\n",
    "#     for QubitOp in anti_commuting_sets[key]:\n",
    "#         terms.append(*tuple(QubitOp.terms.items()))\n",
    "#     Graph_sets_dict[key]=(terms)\n",
    "# Graph_sets_dict"
   ]
  },
  {
   "cell_type": "code",
   "execution_count": 17,
   "metadata": {},
   "outputs": [
    {
     "data": {
      "text/plain": [
       "{0: [(0.5731061703432151+0j) [Z0 Z1]],\n",
       " 1: [(0.2460355896585992+0j) []],\n",
       " 2: [(0.09060523100759853+0j) [Y0 Y1], (0.3428256528955378+0j) [Z0]],\n",
       " 3: [(-0.4468630738162712+0j) [Z1], (0.09060523100759853+0j) [X0 X1]]}"
      ]
     },
     "execution_count": 17,
     "metadata": {},
     "output_type": "execute_result"
    }
   ],
   "source": [
    "Graph_sets_dict = {0: [(((0, 'Z'), (1, 'Z')), (0.5731061703432151+0j))],\n",
    " 1: [((), (0.2460355896585992+0j))],\n",
    " 2: [(((0, 'Y'), (1, 'Y')), (0.09060523100759853+0j)),\n",
    "  (((0, 'Z'),), (0.3428256528955378+0j))],\n",
    " 3: [(((1, 'Z'),), (-0.4468630738162712+0j)),\n",
    "  (((0, 'X'), (1, 'X')), (0.09060523100759853+0j))]}\n",
    "\n",
    "\n",
    "anti_commuting_sets={}\n",
    "for key in Graph_sets_dict:\n",
    "    terms=[]\n",
    "    for PauliWord, const in Graph_sets_dict[key]:\n",
    "        terms.append(QubitOperator(PauliWord, const))\n",
    "    anti_commuting_sets[key]=terms\n",
    "anti_commuting_sets"
   ]
  },
  {
   "cell_type": "code",
   "execution_count": null,
   "metadata": {},
   "outputs": [],
   "source": []
  },
  {
   "cell_type": "code",
   "execution_count": null,
   "metadata": {},
   "outputs": [],
   "source": []
  },
  {
   "cell_type": "code",
   "execution_count": null,
   "metadata": {},
   "outputs": [],
   "source": []
  },
  {
   "cell_type": "code",
   "execution_count": null,
   "metadata": {},
   "outputs": [],
   "source": []
  },
  {
   "cell_type": "code",
   "execution_count": 18,
   "metadata": {},
   "outputs": [],
   "source": [
    "from quchem.latex_tables import *"
   ]
  },
  {
   "cell_type": "code",
   "execution_count": 19,
   "metadata": {},
   "outputs": [
    {
     "name": "stdout",
     "output_type": "stream",
     "text": [
      "\\begin{tabular}{rl}\n",
      "\\toprule\n",
      " l index &                                                        \\$H\\_\\{S\\_\\{l\\}\\}\\$ \\\\\n",
      "\\midrule\n",
      "       0 &                                  [(0.5731061703432151+0j) [Z0 Z1]] \\\\\n",
      "       1 &                                       [(0.2460355896585992+0j) []] \\\\\n",
      "       2 &   [(0.09060523100759853+0j) [Y0 Y1], (0.3428256528955378+0j) [Z0]] \\\\\n",
      "       3 &  [(-0.4468630738162712+0j) [Z1], (0.09060523100759853+0j) [X0 X1]] \\\\\n",
      "\\bottomrule\n",
      "\\end{tabular}\n",
      "\n",
      "\\begin{tabular}{rrllll}\n",
      "\\toprule\n",
      " l index &  \\$\\textbackslash gamma\\_\\{l\\}\\$ &                                    \\$\f",
      "rac\\{H\\_\\{S\\_\\{l\\}\\}\\}\\{\\textbackslash gamma\\_\\{l\\}\\}\\$ &         Pn & \\$\\textbackslash mathcal\\{X\\_\\{nk\\}\\}\\$ &        \\$\\textbackslash theta\\_\\{nk\\}\\}\\$ \\\\\n",
      "\\midrule\n",
      "       2 &      0.354597 &  [(0.2555163685543363+0j) [Y0 Y1], (0.9668047297157811+0j) [Z0]] &  1 [Y0 Y1] &  [(-1+0j) [X0 Y1]] &  [1.3124145631682165] \\\\\n",
      "       3 &      0.455956 &  [(-0.9800573522118143+0j) [Z1], (0.198714836827973+0j) [X0 X1]] &     1 [Z1] &  [(-1+0j) [X0 Y1]] &   [2.941546221798205] \\\\\n",
      "\\bottomrule\n",
      "\\end{tabular}\n",
      "\n",
      "\\begin{tabular}{rrllrlrl}\n",
      "\\toprule\n",
      " l index &  \\$\\textbackslash gamma\\_\\{l\\}\\$ &                                    \\$\f",
      "rac\\{H\\_\\{S\\_\\{l\\}\\}\\}\\{\\textbackslash gamma\\_\\{l\\}\\}\\$ &                 \\$\beta\\_\\{n\\}P\\_\\{n\\}\\}\\$ &  \\$\\textbackslash Omega\\_\\{l\\}\\$ & \\$\\textbackslash sum \\textbackslash delta\\_\\{j\\}\\textasciicircum \\{(l)\\}P\\_\\{j\\}\\textasciicircum \\{(l)\\}\\$ &     alpha &         Bk\\_Pkn \\\\\n",
      "\\midrule\n",
      "       2 &      0.354597 &  [(0.2555163685543363+0j) [Y0 Y1], (0.9668047297157811+0j) [Z0]] &  (0.2555163685543363+0j) [Y0 Y1] &      0.966805 &                      [(1+0j) [Z0]] &  1.312415 &  [-1j [X0 Y1]] \\\\\n",
      "       3 &      0.455956 &  [(-0.9800573522118143+0j) [Z1], (0.198714836827973+0j) [X0 X1]] &    (-0.9800573522118143+0j) [Z1] &      0.198715 &                   [(1+0j) [X0 X1]] &  2.941546 &  [-1j [X0 Y1]] \\\\\n",
      "\\bottomrule\n",
      "\\end{tabular}\n",
      "\n",
      "\\begin{tabular}{rlrlll}\n",
      "\\toprule\n",
      " l index &                                                         \\$R\\$ &   l1 norm &                                               R real & phase correction &                        ancilla amplitudes \\\\\n",
      "\\midrule\n",
      "       2 &   [(0.7923119235990129+0j) [], 0.6101162313222226j [X0 Y1]] &  1.402428 &  [0.7516363672131344 [], 0.6595777220939487 [X0 Y1]] &          [1, 1j] &  [0.7516363672131344, 0.6595777220939487] \\\\\n",
      "       3 &  [(0.09985651653293749+0j) [], 0.9950018472876858j [X0 Y1]] &  1.094858 &  [0.3020015943219478 [], 0.9533074199999713 [X0 Y1]] &          [1, 1j] &  [0.3020015943219478, 0.9533074199999713] \\\\\n",
      "\\bottomrule\n",
      "\\end{tabular}\n",
      "\n"
     ]
    }
   ],
   "source": [
    "latex_table_Hamiltonian(anti_commuting_sets, 'Latex_table1')\n",
    "latex_table_seq_rot(anti_commuting_sets, 'Latex_table2', 0)\n",
    "latex_table_LCU(anti_commuting_sets, 'Latex_table3', 0)\n",
    "latex_table_LCU_R_op(anti_commuting_sets, 'Latex_table4', 0)"
   ]
  }
 ],
 "metadata": {
  "kernelspec": {
   "display_name": "Python 3",
   "language": "python",
   "name": "python3"
  },
  "language_info": {
   "codemirror_mode": {
    "name": "ipython",
    "version": 3
   },
   "file_extension": ".py",
   "mimetype": "text/x-python",
   "name": "python",
   "nbconvert_exporter": "python",
   "pygments_lexer": "ipython3",
   "version": "3.7.6"
  }
 },
 "nbformat": 4,
 "nbformat_minor": 4
}
