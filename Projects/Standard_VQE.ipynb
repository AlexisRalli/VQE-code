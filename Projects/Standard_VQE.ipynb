{
 "cells": [
  {
   "cell_type": "code",
   "execution_count": 1,
   "metadata": {},
   "outputs": [
    {
     "data": {
      "text/plain": [
       "(-0.32760818995565577+0j) [] +\n",
       "(-0.04919764587885283+0j) [X0 X1 Y2 Y3] +\n",
       "(0.04919764587885283+0j) [X0 Y1 Y2 X3] +\n",
       "(0.04919764587885283+0j) [Y0 X1 X2 Y3] +\n",
       "(-0.04919764587885283+0j) [Y0 Y1 X2 X3] +\n",
       "(0.1371657293179602+0j) [Z0] +\n",
       "(0.15660062486143395+0j) [Z0 Z1] +\n",
       "(0.10622904488350779+0j) [Z0 Z2] +\n",
       "(0.15542669076236065+0j) [Z0 Z3] +\n",
       "(0.1371657293179602+0j) [Z1] +\n",
       "(0.15542669076236065+0j) [Z1 Z2] +\n",
       "(0.10622904488350779+0j) [Z1 Z3] +\n",
       "(-0.13036292044009176+0j) [Z2] +\n",
       "(0.1632676867167479+0j) [Z2 Z3] +\n",
       "(-0.13036292044009176+0j) [Z3]"
      ]
     },
     "execution_count": 1,
     "metadata": {},
     "output_type": "execute_result"
    }
   ],
   "source": [
    "from quchem.Hamiltonian_Generator_Functions import *\n",
    "from quchem.Graph import *\n",
    "### HAMILTONIAN start\n",
    "Molecule = 'H2'\n",
    "geometry = None # [('H', (0., 0., 0.)), ('H', (0., 0., 0.74))]\n",
    "basis = 'sto-3g'\n",
    "\n",
    "\n",
    "### Get Hamiltonian\n",
    "Hamilt = Hamiltonian(Molecule,\n",
    "                     run_scf=1, run_mp2=1, run_cisd=1, run_ccsd=1, run_fci=1,\n",
    "                     basis=basis,\n",
    "                     multiplicity=1,\n",
    "                     geometry=geometry)  # normally None!\n",
    "QubitHamiltonian = Hamilt.Get_Qubit_Hamiltonian(threshold=None, transformation='JW')\n",
    "### HAMILTONIAN end\n",
    "\n",
    "#####################################\n",
    "\n",
    "QubitHamiltonian"
   ]
  },
  {
   "cell_type": "code",
   "execution_count": 2,
   "metadata": {},
   "outputs": [
    {
     "name": "stdout",
     "output_type": "stream",
     "text": [
      "0         1         2         3\n",
      "│         │         │         │\n",
      "X         X         H         H\n",
      "│         │         │         │\n",
      "Rx(0.5π)  │         │         │\n",
      "│         │         │         │\n",
      "@─────────X         │         │\n",
      "│         │         │         │\n",
      "│         @─────────X         │\n",
      "│         │         │         │\n",
      "│         │         Rz(-0.0π) │\n",
      "│         │         │         │\n",
      "│         @─────────X         │\n",
      "│         │         │         │\n",
      "@─────────X         H         │\n",
      "│         │         │         │\n",
      "Rx(-0.5π) │         Rx(0.5π)  │\n",
      "│         │         │         │\n",
      "H         │         │         │\n",
      "│         │         │         │\n",
      "@─────────X         │         │\n",
      "│         │         │         │\n",
      "│         @─────────X         │\n",
      "│         │         │         │\n",
      "│         │         Rz(0.0π)  │\n",
      "│         │         │         │\n",
      "│         @─────────X         │\n",
      "│         │         │         │\n",
      "@─────────X         Rx(-0.5π) │\n",
      "│         │         │         │\n",
      "H         Rx(0.5π)  │         │\n",
      "│         │         │         │\n",
      "H         @─────────X         │\n",
      "│         │         │         │\n",
      "│         │         @─────────X\n",
      "│         │         │         │\n",
      "│         │         │         Rz(-0.0π)\n",
      "│         │         │         │\n",
      "│         │         @─────────X\n",
      "│         │         │         │\n",
      "│         @─────────X         H\n",
      "│         │         │         │\n",
      "│         Rx(-0.5π) │         Rx(0.5π)\n",
      "│         │         │         │\n",
      "│         H         │         │\n",
      "│         │         │         │\n",
      "│         @─────────X         │\n",
      "│         │         │         │\n",
      "│         │         @─────────X\n",
      "│         │         │         │\n",
      "│         │         │         Rz(0.0π)\n",
      "│         │         │         │\n",
      "│         │         @─────────X\n",
      "│         │         │         │\n",
      "│         @─────────X         Rx(-0.5π)\n",
      "│         │         │         │\n",
      "│         H         Rx(0.5π)  H\n",
      "│         │         │         │\n",
      "│         H         │         │\n",
      "│         │         │         │\n",
      "@─────────X         │         │\n",
      "│         │         │         │\n",
      "│         @─────────X         │\n",
      "│         │         │         │\n",
      "│         │         @─────────X\n",
      "│         │         │         │\n",
      "│         │         │         Rz(-0.0π)\n",
      "│         │         │         │\n",
      "│         │         @─────────X\n",
      "│         │         │         │\n",
      "│         @─────────X         H\n",
      "│         │         │         │\n",
      "@─────────X         Rx(-0.5π) H\n",
      "│         │         │         │\n",
      "H         H         Rx(0.5π)  │\n",
      "│         │         │         │\n",
      "Rx(0.5π)  Rx(0.5π)  │         │\n",
      "│         │         │         │\n",
      "@─────────X         │         │\n",
      "│         │         │         │\n",
      "│         @─────────X         │\n",
      "│         │         │         │\n",
      "│         │         @─────────X\n",
      "│         │         │         │\n",
      "│         │         │         Rz(0.0π)\n",
      "│         │         │         │\n",
      "│         │         @─────────X\n",
      "│         │         │         │\n",
      "│         @─────────X         H\n",
      "│         │         │         │\n",
      "@─────────X         Rx(-0.5π) H\n",
      "│         │         │         │\n",
      "Rx(-0.5π) Rx(-0.5π) H         │\n",
      "│         │         │         │\n",
      "Rx(0.5π)  H         │         │\n",
      "│         │         │         │\n",
      "@─────────X         │         │\n",
      "│         │         │         │\n",
      "│         @─────────X         │\n",
      "│         │         │         │\n",
      "│         │         @─────────X\n",
      "│         │         │         │\n",
      "│         │         │         Rz(0.0π)\n",
      "│         │         │         │\n",
      "│         │         @─────────X\n",
      "│         │         │         │\n",
      "│         @─────────X         H\n",
      "│         │         │         │\n",
      "@─────────X         H         H\n",
      "│         │         │         │\n",
      "Rx(-0.5π) H         H         │\n",
      "│         │         │         │\n",
      "H         Rx(0.5π)  │         │\n",
      "│         │         │         │\n",
      "@─────────X         │         │\n",
      "│         │         │         │\n",
      "│         @─────────X         │\n",
      "│         │         │         │\n",
      "│         │         @─────────X\n",
      "│         │         │         │\n",
      "│         │         │         Rz(0.0π)\n",
      "│         │         │         │\n",
      "│         │         @─────────X\n",
      "│         │         │         │\n",
      "│         @─────────X         H\n",
      "│         │         │         │\n",
      "@─────────X         H         Rx(0.5π)\n",
      "│         │         │         │\n",
      "H         Rx(-0.5π) Rx(0.5π)  │\n",
      "│         │         │         │\n",
      "Rx(0.5π)  H         │         │\n",
      "│         │         │         │\n",
      "@─────────X         │         │\n",
      "│         │         │         │\n",
      "│         @─────────X         │\n",
      "│         │         │         │\n",
      "│         │         @─────────X\n",
      "│         │         │         │\n",
      "│         │         │         Rz(-0.0π)\n",
      "│         │         │         │\n",
      "│         │         @─────────X\n",
      "│         │         │         │\n",
      "│         @─────────X         Rx(-0.5π)\n",
      "│         │         │         │\n",
      "@─────────X         Rx(-0.5π) Rx(0.5π)\n",
      "│         │         │         │\n",
      "Rx(-0.5π) H         Rx(0.5π)  │\n",
      "│         │         │         │\n",
      "H         Rx(0.5π)  │         │\n",
      "│         │         │         │\n",
      "@─────────X         │         │\n",
      "│         │         │         │\n",
      "│         @─────────X         │\n",
      "│         │         │         │\n",
      "│         │         @─────────X\n",
      "│         │         │         │\n",
      "│         │         │         Rz(-0.0π)\n",
      "│         │         │         │\n",
      "│         │         @─────────X\n",
      "│         │         │         │\n",
      "│         @─────────X         Rx(-0.5π)\n",
      "│         │         │         │\n",
      "@─────────X         Rx(-0.5π) Rx(0.5π)\n",
      "│         │         │         │\n",
      "H         Rx(-0.5π) H         │\n",
      "│         │         │         │\n",
      "H         H         │         │\n",
      "│         │         │         │\n",
      "@─────────X         │         │\n",
      "│         │         │         │\n",
      "│         @─────────X         │\n",
      "│         │         │         │\n",
      "│         │         @─────────X\n",
      "│         │         │         │\n",
      "│         │         │         Rz(-0.0π)\n",
      "│         │         │         │\n",
      "│         │         @─────────X\n",
      "│         │         │         │\n",
      "│         @─────────X         Rx(-0.5π)\n",
      "│         │         │         │\n",
      "@─────────X         H         Rx(0.5π)\n",
      "│         │         │         │\n",
      "H         H         H         │\n",
      "│         │         │         │\n",
      "Rx(0.5π)  Rx(0.5π)  │         │\n",
      "│         │         │         │\n",
      "@─────────X         │         │\n",
      "│         │         │         │\n",
      "│         @─────────X         │\n",
      "│         │         │         │\n",
      "│         │         @─────────X\n",
      "│         │         │         │\n",
      "│         │         │         Rz(0.0π)\n",
      "│         │         │         │\n",
      "│         │         @─────────X\n",
      "│         │         │         │\n",
      "│         @─────────X         Rx(-0.5π)\n",
      "│         │         │         │\n",
      "@─────────X         H         │\n",
      "│         │         │         │\n",
      "Rx(-0.5π) Rx(-0.5π) │         │\n",
      "│         │         │         │\n"
     ]
    }
   ],
   "source": [
    "from quchem.Ansatz_Generator_Functions import *\n",
    "\n",
    "\n",
    "ansatz_obj = Ansatz(Hamilt.molecule.n_electrons, Hamilt.molecule.n_qubits)\n",
    "\n",
    "\n",
    "\n",
    "Sec_Quant_CC_ops_ia, Sec_Quant_CC_ops_ijab, theta_parameters_ia, theta_parameters_ijab=ansatz_obj.Get_ia_and_ijab_terms(single_cc_amplitudes=None, \n",
    "                                                                                                             double_cc_amplitudes=None, \n",
    "                                                                                                             singles_hamiltonian=None,\n",
    "                                                                                                             doubles_hamiltonian=None, \n",
    "                                                                                                             tol_filter_small_terms = None)\n",
    "\n",
    "Qubit_Op_list_Second_Quant_CC_Ops_ia, Qubit_Op_list_Second_Quant_CC_Ops_ijab = ansatz_obj.UCCSD_single_trotter_step(Sec_Quant_CC_ops_ia,\n",
    "                                                                                                                    Sec_Quant_CC_ops_ijab)\n",
    "full_ansatz_Q_Circ = Ansatz_Circuit(Qubit_Op_list_Second_Quant_CC_Ops_ia, Qubit_Op_list_Second_Quant_CC_Ops_ijab,\n",
    "             Hamilt.molecule.n_qubits, Hamilt.molecule.n_electrons)\n",
    "\n",
    "ansatz_cirq_circuit = full_ansatz_Q_Circ.Get_Full_HF_UCCSD_QC(theta_parameters_ia, \n",
    "                                                              theta_parameters_ijab)\n",
    "\n",
    "print(ansatz_cirq_circuit.to_text_diagram(transpose=True)) "
   ]
  },
  {
   "cell_type": "code",
   "execution_count": null,
   "metadata": {},
   "outputs": [],
   "source": []
  },
  {
   "cell_type": "code",
   "execution_count": 3,
   "metadata": {},
   "outputs": [],
   "source": [
    "from quchem.Simulating_Quantum_Circuit import *"
   ]
  },
  {
   "cell_type": "code",
   "execution_count": 4,
   "metadata": {},
   "outputs": [],
   "source": [
    "n_shots= 1000\n",
    "\n",
    "\n",
    "def VQE_experiment_ENERGY(theta_ia_ijab_combined_list):\n",
    "    theta_params_ia = [theta_ia_ijab_combined_list[0], theta_ia_ijab_combined_list[1]]\n",
    "    theta_params_ijab = [theta_ia_ijab_combined_list[2]]\n",
    "    \n",
    "    \n",
    "    ansatz_cirq_circuit = full_ansatz_Q_Circ.Get_Full_HF_UCCSD_QC(theta_params_ia, \n",
    "                                                              theta_params_ijab)\n",
    "    \n",
    "\n",
    "    VQE_exp = VQE_Experiment(QubitHamiltonian, ansatz_cirq_circuit, n_shots)\n",
    "    return VQE_exp.Calc_Energy().real"
   ]
  },
  {
   "cell_type": "code",
   "execution_count": 5,
   "metadata": {},
   "outputs": [
    {
     "data": {
      "text/plain": [
       "-0.3918590464423547"
      ]
     },
     "execution_count": 5,
     "metadata": {},
     "output_type": "execute_result"
    }
   ],
   "source": [
    "theta_combined = [1,2, np.pi]\n",
    "\n",
    "VQE_experiment_ENERGY(theta_combined)"
   ]
  },
  {
   "cell_type": "code",
   "execution_count": null,
   "metadata": {},
   "outputs": [],
   "source": []
  },
  {
   "cell_type": "code",
   "execution_count": 6,
   "metadata": {},
   "outputs": [],
   "source": [
    "import random\n",
    "\n",
    "theta_ia_random_input = [random.uniform(0, 2*np.pi) for _ in range(len(Sec_Quant_CC_ops_ia))]\n",
    "theta_ijab_random_input = [random.uniform(0, 2*np.pi) for _ in range(len(Sec_Quant_CC_ops_ijab))]\n",
    "\n",
    "theta_combined_random_input = [*theta_ia_random_input, *theta_ijab_random_input]"
   ]
  },
  {
   "cell_type": "code",
   "execution_count": 7,
   "metadata": {},
   "outputs": [
    {
     "name": "stdout",
     "output_type": "stream",
     "text": [
      "0: Input_to_Funct: [2.79722954 4.33557658 2.20133307]: Output: -0.6883303539341481\n",
      "1: Input_to_Funct: [2.79722954 4.33557658 2.20133307]: Output: -0.6913302344263443\n",
      "2: Input_to_Funct: [2.79722954 4.33557658 2.20133307]: Output: -0.6773837918623729\n",
      "3: Input_to_Funct: [2.53247119 4.54967913 2.29839361]: Output: -0.720361691995495\n",
      "4: Input_to_Funct: [2.2907353  4.66437692 2.18192096]: Output: -0.7732813487360645\n",
      "5: Input_to_Funct: [2.09504435 4.37380918 2.37215962]: Output: -0.8547429896604166\n",
      "6: Input_to_Funct: [2.09504435 4.37380918 2.37215962]: Output: -0.8244395525819261\n",
      "7: Input_to_Funct: [2.09504435 4.37380918 2.37215962]: Output: -0.8167217083924571\n",
      "8: Input_to_Funct: [2.02981403 4.34577194 2.19097995]: Output: -0.9376171272714114\n",
      "9: Input_to_Funct: [2.02981403 4.34577194 2.19097995]: Output: -0.94767316670615\n",
      "10: Input_to_Funct: [2.02981403 4.34577194 2.19097995]: Output: -0.9471483888311469\n",
      "11: Input_to_Funct: [2.02981403 4.34577194 2.19097995]: Output: -0.9541480135301404\n",
      "12: Input_to_Funct: [2.02981403 4.34577194 2.19097995]: Output: -0.936961482650243\n",
      "13: Input_to_Funct: [2.02981403 4.34577194 2.19097995]: Output: -0.9569807897945828\n",
      "14: Input_to_Funct: [2.02981403 4.34577194 2.19097995]: Output: -0.9393595919321537\n",
      "15: Input_to_Funct: [1.78930453 4.37488605 1.92013   ]: Output: -1.0420404360083428\n",
      "16: Input_to_Funct: [1.78930453 4.37488605 1.92013   ]: Output: -1.0433874947274275\n",
      "17: Input_to_Funct: [1.49087745 4.88729144 1.79153669]: Output: -1.097484761856558\n",
      "18: Input_to_Funct: [1.49087745 4.88729144 1.79153669]: Output: -1.0905831173133065\n",
      "19: Input_to_Funct: [1.49087745 4.88729144 1.79153669]: Output: -1.0877071994545133\n",
      "20: Input_to_Funct: [1.49087745 4.88729144 1.79153669]: Output: -1.0875777504718716\n",
      "21: Input_to_Funct: [1.41607336 4.70853135 1.73603137]: Output: -1.0940881398936309\n",
      "22: Input_to_Funct: [1.46833034 4.80605973 1.73808753]: Output: -1.1033440197938404\n",
      "23: Input_to_Funct: [1.53869929 4.67581823 1.80064508]: Output: -1.1001731021530732\n",
      "24: Input_to_Funct: [1.48262256 4.80871394 1.77489568]: Output: -1.0964851087130056\n",
      "25: Input_to_Funct: [1.48262256 4.80871394 1.77489568]: Output: -1.0882729463130256\n",
      "26: Input_to_Funct: [1.48357749 4.75110792 1.78081899]: Output: -1.0942060936723421\n",
      "27: Input_to_Funct: [1.48357749 4.75110792 1.78081899]: Output: -1.1004325700317736\n",
      "28: Input_to_Funct: [1.48357749 4.75110792 1.78081899]: Output: -1.0951878310762193\n",
      "29: Input_to_Funct: [1.48357749 4.75110792 1.78081899]: Output: -1.0971208234839616\n",
      "30: Input_to_Funct: [1.48357749 4.75110792 1.78081899]: Output: -1.098642312902597\n",
      "31: Input_to_Funct: [1.48357749 4.75110792 1.78081899]: Output: -1.0996400458845492\n",
      "32: Input_to_Funct: [1.48357749 4.75110792 1.78081899]: Output: -1.0971369126647539\n",
      "33: Input_to_Funct: [1.48357749 4.75110792 1.78081899]: Output: -1.0970835403212327\n",
      "34: Input_to_Funct: [1.48357749 4.75110792 1.78081899]: Output: -1.0987248527782076\n",
      "35: Input_to_Funct: [1.48357749 4.75110792 1.78081899]: Output: -1.0860209423831724\n",
      "36: Input_to_Funct: [1.48357749 4.75110792 1.78081899]: Output: -1.0914427557616506\n",
      "37: Input_to_Funct: [1.48357749 4.75110792 1.78081899]: Output: -1.0970935511577016\n",
      "38: Input_to_Funct: [1.48357749 4.75110792 1.78081899]: Output: -1.087091723914866\n",
      "39: Input_to_Funct: [1.48357749 4.75110792 1.78081899]: Output: -1.0972239842050115\n",
      "40: Input_to_Funct: [1.48357749 4.75110792 1.78081899]: Output: -1.0909096339744113\n",
      "41: Input_to_Funct: [1.48357749 4.75110792 1.78081899]: Output: -1.0941953106896505\n",
      "42: Input_to_Funct: [1.4838294  4.75275358 1.78064236]: Output: -1.0979215150073955\n",
      "43: Input_to_Funct: [1.4838294  4.75275358 1.78064236]: Output: -1.1003824899086385\n",
      "44: Input_to_Funct: [1.4838294  4.75275358 1.78064236]: Output: -1.099561302538578\n",
      "45: Input_to_Funct: [1.4838294  4.75275358 1.78064236]: Output: -1.096482773175754\n",
      "46: Input_to_Funct: [1.4838294  4.75275358 1.78064236]: Output: -1.0956108393418473\n",
      "47: Input_to_Funct: [1.4838294  4.75275358 1.78064236]: Output: -1.1017318017890545\n",
      "48: Input_to_Funct: [1.4838294  4.75275358 1.78064236]: Output: -1.103896999206834\n",
      "Warning: Maximum number of iterations has been exceeded.\n",
      "Reason for termination is Maximum number of iterations has been exceeded.\n"
     ]
    },
    {
     "data": {
      "image/png": "[encoded data removed]",
      "text/plain": [
       "<Figure size 432x288 with 1 Axes>"
      ]
     },
     "metadata": {
      "needs_background": "light"
     },
     "output_type": "display_data"
    }
   ],
   "source": [
    "### optimizer\n",
    "from quchem.Scipy_Optimizer import *\n",
    "\n",
    "GG = Optimizer(VQE_experiment_ENERGY, theta_combined_random_input, 'Nelder-Mead', store_values=True, display_iter_steps=True,\n",
    "               tol=1e-5,\n",
    "               display_convergence_message=True)\n",
    "GG.get_env(50)\n",
    "GG.plot_convergence()\n",
    "plt.show()"
   ]
  },
  {
   "cell_type": "code",
   "execution_count": null,
   "metadata": {},
   "outputs": [],
   "source": []
  },
  {
   "cell_type": "code",
   "execution_count": 8,
   "metadata": {},
   "outputs": [
    {
     "data": {
      "text/plain": [
       "array(-1.10115033)"
      ]
     },
     "execution_count": 8,
     "metadata": {},
     "output_type": "execute_result"
    }
   ],
   "source": [
    "Hamilt.molecule.fci_energy"
   ]
  },
  {
   "cell_type": "code",
   "execution_count": null,
   "metadata": {},
   "outputs": [],
   "source": []
  },
  {
   "cell_type": "markdown",
   "metadata": {},
   "source": [
    "### Tensorflow"
   ]
  },
  {
   "cell_type": "code",
   "execution_count": null,
   "metadata": {},
   "outputs": [],
   "source": [
    "from quchem.TensorFlow_Opt import *"
   ]
  },
  {
   "cell_type": "markdown",
   "metadata": {},
   "source": [
    "**gradient is given by**\n",
    "\n",
    "https://arxiv.org/pdf/1906.08728.pdf\n",
    "\n",
    "$$\\frac{\\partial O(\\theta)}{\\partial \\theta}=\\left\\langle\\overrightarrow{0}\\left|\\hat{U}^{\\dagger} \\hat{R}_{y}^{C \\dagger}(\\theta+\\pi / 4) \\hat{V}^{\\dagger} \\hat{O} \\hat{V} \\hat{R}_{y}^{C}(\\theta+\\pi / 4) \\hat{U}\\right| \\overrightarrow{0}\\right\\rangle -\\left\\langle\\overrightarrow{0}\\left|\\hat{U}^{\\dagger} \\hat{R}_{y}^{C \\dagger}(\\theta-\\pi / 4) \\hat{V}^{\\dagger} \\hat{O} \\hat{V} \\hat{R}_{y}^{C}(\\theta-\\pi / 4) \\hat{U}\\right| \\overrightarrow{0}\\right\\rangle$$\n",
    "\n",
    "$$\\frac{\\partial O(\\theta)}{\\partial \\theta} =O(\\theta+\\pi / 4)-O(\\theta-\\pi / 4)$$"
   ]
  },
  {
   "cell_type": "code",
   "execution_count": null,
   "metadata": {},
   "outputs": [],
   "source": [
    "def calc_gradient(theta_ia_theta_jab_list):\n",
    "    \n",
    "    grad_list=[]\n",
    "    \n",
    "    for index, theta in enumerate(theta_ia_theta_jab_list):\n",
    "        \n",
    "        new_theta_list = theta_ia_theta_jab_list.copy()\n",
    "        new_theta_list[index] = theta + np.pi/4\n",
    "        \n",
    "        Obs_PLUS = VQE_experiment_ENERGY(new_theta_list)\n",
    "               \n",
    "        \n",
    "        new_theta_list[index] = theta - np.pi/4\n",
    "        Obs_MINUS = VQE_experiment_ENERGY(new_theta_list)\n",
    "        \n",
    "        gradient = Obs_PLUS - Obs_MINUS\n",
    "        \n",
    "        grad_list.append((gradient, theta))\n",
    "        \n",
    "\n",
    "    return grad_list"
   ]
  },
  {
   "cell_type": "markdown",
   "metadata": {},
   "source": [
    "note:\n",
    "this is very SLOW as it has to run a separate experiment TWICE for each parameter before taking a step!"
   ]
  },
  {
   "cell_type": "code",
   "execution_count": null,
   "metadata": {},
   "outputs": [],
   "source": []
  },
  {
   "cell_type": "code",
   "execution_count": null,
   "metadata": {},
   "outputs": [],
   "source": [
    "X0 = [random.uniform(0, 2*np.pi) for _ in range(len(Sec_Quant_CC_ops_ia) + len(Sec_Quant_CC_ops_ijab))]\n",
    "\n",
    "tf_opt = Tensor_Flow_Optimizer(VQE_experiment_ENERGY, X0, 'Adam', calc_gradient, learning_rate=0.1, beta1=0.9,\n",
    "                            beta2=0.999, store_values=True, display_iter_steps=True)\n",
    "tf_opt.optimize(50)\n",
    "tf_opt.plot_convergence()"
   ]
  },
  {
   "cell_type": "code",
   "execution_count": null,
   "metadata": {},
   "outputs": [],
   "source": []
  },
  {
   "cell_type": "code",
   "execution_count": null,
   "metadata": {},
   "outputs": [],
   "source": [
    "from quchem.Adam_Optimizer import *"
   ]
  },
  {
   "cell_type": "code",
   "execution_count": null,
   "metadata": {},
   "outputs": [],
   "source": [
    "def calc_gradient_ADAM(theta_ia_theta_jab_list):\n",
    "    \n",
    "    grad_list=[]\n",
    "    \n",
    "    for index, theta in enumerate(theta_ia_theta_jab_list):\n",
    "        \n",
    "        new_theta_list = theta_ia_theta_jab_list.copy()\n",
    "        new_theta_list[index] = theta + np.pi/4\n",
    "        \n",
    "        Obs_PLUS = VQE_experiment_ENERGY(new_theta_list)\n",
    "               \n",
    "        \n",
    "        new_theta_list[index] = theta - np.pi/4\n",
    "        Obs_MINUS = VQE_experiment_ENERGY(new_theta_list)\n",
    "        \n",
    "        gradient = Obs_PLUS - Obs_MINUS\n",
    "        \n",
    "        grad_list.append(gradient)\n",
    "        \n",
    "\n",
    "    return np.array(grad_list)"
   ]
  },
  {
   "cell_type": "code",
   "execution_count": null,
   "metadata": {},
   "outputs": [],
   "source": [
    "X0 = np.array([random.uniform(0, 2*np.pi) for _ in range(len(Sec_Quant_CC_ops_ia) + len(Sec_Quant_CC_ops_ijab))])\n",
    "\n",
    "opt_params, list_of_inputs, list_of_outputs = Adam_Opt(X0, VQE_experiment_ENERGY,\n",
    "                                                       calc_gradient_ADAM, \n",
    "                                                       learning_rate=0.1, \n",
    "                                                       beta_1=0.9, \n",
    "                                                       beta_2=0.999, \n",
    "                                                       epsilon=1e-8,\n",
    "                                                       max_iter=50,\n",
    "                                                       disp=True,\n",
    "                                                       tolerance=1e-3,\n",
    "                                                       store_steps=True)\n",
    "\n",
    "VQE_experiment_ENERGY(opt_params)"
   ]
  },
  {
   "cell_type": "code",
   "execution_count": null,
   "metadata": {},
   "outputs": [],
   "source": [
    "import matplotlib.pyplot as plt\n",
    "# % matplotlib inline\n",
    "plt.figure()\n",
    "plt.plot(list_of_outputs)\n",
    "plt.xlabel('iterations')\n",
    "plt.ylabel('objective function value')\n",
    "plt.show()"
   ]
  },
  {
   "cell_type": "code",
   "execution_count": null,
   "metadata": {},
   "outputs": [],
   "source": []
  },
  {
   "cell_type": "code",
   "execution_count": null,
   "metadata": {},
   "outputs": [],
   "source": []
  },
  {
   "cell_type": "code",
   "execution_count": null,
   "metadata": {},
   "outputs": [],
   "source": []
  },
  {
   "cell_type": "code",
   "execution_count": null,
   "metadata": {},
   "outputs": [],
   "source": []
  }
 ],
 "metadata": {
  "kernelspec": {
   "display_name": "Python 3",
   "language": "python",
   "name": "python3"
  },
  "language_info": {
   "codemirror_mode": {
    "name": "ipython",
    "version": 3
   },
   "file_extension": ".py",
   "mimetype": "text/x-python",
   "name": "python",
   "nbconvert_exporter": "python",
   "pygments_lexer": "ipython3",
   "version": "3.7.6"
  }
 },
 "nbformat": 4,
 "nbformat_minor": 4
}
