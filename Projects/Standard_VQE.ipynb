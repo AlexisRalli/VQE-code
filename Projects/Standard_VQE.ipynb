{
 "cells": [
  {
   "cell_type": "code",
   "execution_count": 1,
   "metadata": {},
   "outputs": [
    {
     "data": {
      "text/plain": [
       "(-0.32760818995565577+0j) [] +\n",
       "(-0.04919764587885283+0j) [X0 X1 Y2 Y3] +\n",
       "(0.04919764587885283+0j) [X0 Y1 Y2 X3] +\n",
       "(0.04919764587885283+0j) [Y0 X1 X2 Y3] +\n",
       "(-0.04919764587885283+0j) [Y0 Y1 X2 X3] +\n",
       "(0.1371657293179602+0j) [Z0] +\n",
       "(0.15660062486143395+0j) [Z0 Z1] +\n",
       "(0.10622904488350779+0j) [Z0 Z2] +\n",
       "(0.15542669076236065+0j) [Z0 Z3] +\n",
       "(0.1371657293179602+0j) [Z1] +\n",
       "(0.15542669076236065+0j) [Z1 Z2] +\n",
       "(0.10622904488350779+0j) [Z1 Z3] +\n",
       "(-0.13036292044009176+0j) [Z2] +\n",
       "(0.1632676867167479+0j) [Z2 Z3] +\n",
       "(-0.13036292044009176+0j) [Z3]"
      ]
     },
     "execution_count": 1,
     "metadata": {},
     "output_type": "execute_result"
    }
   ],
   "source": [
    "from quchem.Hamiltonian_Generator_Functions import *\n",
    "from quchem.Graph import *\n",
    "### HAMILTONIAN start\n",
    "Molecule = 'H2'\n",
    "geometry = None # [('H', (0., 0., 0.)), ('H', (0., 0., 0.74))]\n",
    "basis = 'sto-3g'\n",
    "\n",
    "\n",
    "### Get Hamiltonian\n",
    "Hamilt = Hamiltonian(Molecule,\n",
    "                     run_scf=1, run_mp2=1, run_cisd=1, run_ccsd=1, run_fci=1,\n",
    "                     basis=basis,\n",
    "                     multiplicity=1,\n",
    "                     geometry=geometry)  # normally None!\n",
    "QubitHamiltonian = Hamilt.Get_Qubit_Hamiltonian(threshold=None, transformation='JW')\n",
    "### HAMILTONIAN end\n",
    "\n",
    "#####################################\n",
    "\n",
    "QubitHamiltonian"
   ]
  },
  {
   "cell_type": "code",
   "execution_count": 2,
   "metadata": {},
   "outputs": [
    {
     "name": "stdout",
     "output_type": "stream",
     "text": [
      "0         1         2         3\n",
      "│         │         │         │\n",
      "X         X         H         H\n",
      "│         │         │         │\n",
      "Rx(0.5π)  │         │         │\n",
      "│         │         │         │\n",
      "@─────────X         │         │\n",
      "│         │         │         │\n",
      "│         @─────────X         │\n",
      "│         │         │         │\n",
      "│         │         Rz(-0.0π) │\n",
      "│         │         │         │\n",
      "│         @─────────X         │\n",
      "│         │         │         │\n",
      "@─────────X         H         │\n",
      "│         │         │         │\n",
      "Rx(-0.5π) │         Rx(0.5π)  │\n",
      "│         │         │         │\n",
      "H         │         │         │\n",
      "│         │         │         │\n",
      "@─────────X         │         │\n",
      "│         │         │         │\n",
      "│         @─────────X         │\n",
      "│         │         │         │\n",
      "│         │         Rz(0.0π)  │\n",
      "│         │         │         │\n",
      "│         @─────────X         │\n",
      "│         │         │         │\n",
      "@─────────X         Rx(-0.5π) │\n",
      "│         │         │         │\n",
      "H         Rx(0.5π)  │         │\n",
      "│         │         │         │\n",
      "H         @─────────X         │\n",
      "│         │         │         │\n",
      "│         │         @─────────X\n",
      "│         │         │         │\n",
      "│         │         │         Rz(-0.0π)\n",
      "│         │         │         │\n",
      "│         │         @─────────X\n",
      "│         │         │         │\n",
      "│         @─────────X         H\n",
      "│         │         │         │\n",
      "│         Rx(-0.5π) │         Rx(0.5π)\n",
      "│         │         │         │\n",
      "│         H         │         │\n",
      "│         │         │         │\n",
      "│         @─────────X         │\n",
      "│         │         │         │\n",
      "│         │         @─────────X\n",
      "│         │         │         │\n",
      "│         │         │         Rz(0.0π)\n",
      "│         │         │         │\n",
      "│         │         @─────────X\n",
      "│         │         │         │\n",
      "│         @─────────X         Rx(-0.5π)\n",
      "│         │         │         │\n",
      "│         H         Rx(0.5π)  H\n",
      "│         │         │         │\n",
      "│         H         │         │\n",
      "│         │         │         │\n",
      "@─────────X         │         │\n",
      "│         │         │         │\n",
      "│         @─────────X         │\n",
      "│         │         │         │\n",
      "│         │         @─────────X\n",
      "│         │         │         │\n",
      "│         │         │         Rz(-0.0π)\n",
      "│         │         │         │\n",
      "│         │         @─────────X\n",
      "│         │         │         │\n",
      "│         @─────────X         H\n",
      "│         │         │         │\n",
      "@─────────X         Rx(-0.5π) H\n",
      "│         │         │         │\n",
      "H         H         Rx(0.5π)  │\n",
      "│         │         │         │\n",
      "Rx(0.5π)  Rx(0.5π)  │         │\n",
      "│         │         │         │\n",
      "@─────────X         │         │\n",
      "│         │         │         │\n",
      "│         @─────────X         │\n",
      "│         │         │         │\n",
      "│         │         @─────────X\n",
      "│         │         │         │\n",
      "│         │         │         Rz(0.0π)\n",
      "│         │         │         │\n",
      "│         │         @─────────X\n",
      "│         │         │         │\n",
      "│         @─────────X         H\n",
      "│         │         │         │\n",
      "@─────────X         Rx(-0.5π) H\n",
      "│         │         │         │\n",
      "Rx(-0.5π) Rx(-0.5π) H         │\n",
      "│         │         │         │\n",
      "Rx(0.5π)  H         │         │\n",
      "│         │         │         │\n",
      "@─────────X         │         │\n",
      "│         │         │         │\n",
      "│         @─────────X         │\n",
      "│         │         │         │\n",
      "│         │         @─────────X\n",
      "│         │         │         │\n",
      "│         │         │         Rz(0.0π)\n",
      "│         │         │         │\n",
      "│         │         @─────────X\n",
      "│         │         │         │\n",
      "│         @─────────X         H\n",
      "│         │         │         │\n",
      "@─────────X         H         H\n",
      "│         │         │         │\n",
      "Rx(-0.5π) H         H         │\n",
      "│         │         │         │\n",
      "H         Rx(0.5π)  │         │\n",
      "│         │         │         │\n",
      "@─────────X         │         │\n",
      "│         │         │         │\n",
      "│         @─────────X         │\n",
      "│         │         │         │\n",
      "│         │         @─────────X\n",
      "│         │         │         │\n",
      "│         │         │         Rz(0.0π)\n",
      "│         │         │         │\n",
      "│         │         @─────────X\n",
      "│         │         │         │\n",
      "│         @─────────X         H\n",
      "│         │         │         │\n",
      "@─────────X         H         Rx(0.5π)\n",
      "│         │         │         │\n",
      "H         Rx(-0.5π) Rx(0.5π)  │\n",
      "│         │         │         │\n",
      "Rx(0.5π)  H         │         │\n",
      "│         │         │         │\n",
      "@─────────X         │         │\n",
      "│         │         │         │\n",
      "│         @─────────X         │\n",
      "│         │         │         │\n",
      "│         │         @─────────X\n",
      "│         │         │         │\n",
      "│         │         │         Rz(-0.0π)\n",
      "│         │         │         │\n",
      "│         │         @─────────X\n",
      "│         │         │         │\n",
      "│         @─────────X         Rx(-0.5π)\n",
      "│         │         │         │\n",
      "@─────────X         Rx(-0.5π) Rx(0.5π)\n",
      "│         │         │         │\n",
      "Rx(-0.5π) H         Rx(0.5π)  │\n",
      "│         │         │         │\n",
      "H         Rx(0.5π)  │         │\n",
      "│         │         │         │\n",
      "@─────────X         │         │\n",
      "│         │         │         │\n",
      "│         @─────────X         │\n",
      "│         │         │         │\n",
      "│         │         @─────────X\n",
      "│         │         │         │\n",
      "│         │         │         Rz(-0.0π)\n",
      "│         │         │         │\n",
      "│         │         @─────────X\n",
      "│         │         │         │\n",
      "│         @─────────X         Rx(-0.5π)\n",
      "│         │         │         │\n",
      "@─────────X         Rx(-0.5π) Rx(0.5π)\n",
      "│         │         │         │\n",
      "H         Rx(-0.5π) H         │\n",
      "│         │         │         │\n",
      "H         H         │         │\n",
      "│         │         │         │\n",
      "@─────────X         │         │\n",
      "│         │         │         │\n",
      "│         @─────────X         │\n",
      "│         │         │         │\n",
      "│         │         @─────────X\n",
      "│         │         │         │\n",
      "│         │         │         Rz(-0.0π)\n",
      "│         │         │         │\n",
      "│         │         @─────────X\n",
      "│         │         │         │\n",
      "│         @─────────X         Rx(-0.5π)\n",
      "│         │         │         │\n",
      "@─────────X         H         Rx(0.5π)\n",
      "│         │         │         │\n",
      "H         H         H         │\n",
      "│         │         │         │\n",
      "Rx(0.5π)  Rx(0.5π)  │         │\n",
      "│         │         │         │\n",
      "@─────────X         │         │\n",
      "│         │         │         │\n",
      "│         @─────────X         │\n",
      "│         │         │         │\n",
      "│         │         @─────────X\n",
      "│         │         │         │\n",
      "│         │         │         Rz(0.0π)\n",
      "│         │         │         │\n",
      "│         │         @─────────X\n",
      "│         │         │         │\n",
      "│         @─────────X         Rx(-0.5π)\n",
      "│         │         │         │\n",
      "@─────────X         H         │\n",
      "│         │         │         │\n",
      "Rx(-0.5π) Rx(-0.5π) │         │\n",
      "│         │         │         │\n"
     ]
    }
   ],
   "source": [
    "from quchem.Ansatz_Generator_Functions import *\n",
    "\n",
    "\n",
    "ansatz_obj = Ansatz(Hamilt.molecule.n_electrons, Hamilt.molecule.n_qubits)\n",
    "\n",
    "\n",
    "\n",
    "Sec_Quant_CC_ops_ia, Sec_Quant_CC_ops_ijab, theta_parameters_ia, theta_parameters_ijab=ansatz_obj.Get_ia_and_ijab_terms(single_cc_amplitudes=None, \n",
    "                                                                                                             double_cc_amplitudes=None, \n",
    "                                                                                                             singles_hamiltonian=None,\n",
    "                                                                                                             doubles_hamiltonian=None, \n",
    "                                                                                                             tol_filter_small_terms = None)\n",
    "\n",
    "Qubit_Op_list_Second_Quant_CC_Ops_ia, Qubit_Op_list_Second_Quant_CC_Ops_ijab = ansatz_obj.UCCSD_single_trotter_step(Sec_Quant_CC_ops_ia,\n",
    "                                                                                                                    Sec_Quant_CC_ops_ijab)\n",
    "full_ansatz_Q_Circ = Ansatz_Circuit(Qubit_Op_list_Second_Quant_CC_Ops_ia, Qubit_Op_list_Second_Quant_CC_Ops_ijab,\n",
    "             Hamilt.molecule.n_qubits, Hamilt.molecule.n_electrons)\n",
    "\n",
    "ansatz_cirq_circuit = full_ansatz_Q_Circ.Get_Full_HF_UCCSD_QC(theta_parameters_ia, \n",
    "                                                              theta_parameters_ijab)\n",
    "\n",
    "print(ansatz_cirq_circuit.to_text_diagram(transpose=True)) "
   ]
  },
  {
   "cell_type": "code",
   "execution_count": null,
   "metadata": {},
   "outputs": [],
   "source": []
  },
  {
   "cell_type": "code",
   "execution_count": 3,
   "metadata": {},
   "outputs": [],
   "source": [
    "from quchem.Simulating_Quantum_Circuit import *"
   ]
  },
  {
   "cell_type": "code",
   "execution_count": 4,
   "metadata": {},
   "outputs": [],
   "source": [
    "n_shots= 1000\n",
    "\n",
    "\n",
    "def VQE_experiment_ENERGY(theta_ia_ijab_combined_list):\n",
    "    theta_params_ia = [theta_ia_ijab_combined_list[0], theta_ia_ijab_combined_list[1]]\n",
    "    theta_params_ijab = [theta_ia_ijab_combined_list[2]]\n",
    "    \n",
    "    \n",
    "    ansatz_cirq_circuit = full_ansatz_Q_Circ.Get_Full_HF_UCCSD_QC(theta_params_ia, \n",
    "                                                              theta_params_ijab)\n",
    "    \n",
    "\n",
    "    VQE_exp = VQE_Experiment(QubitHamiltonian, ansatz_cirq_circuit, n_shots)\n",
    "    return VQE_exp.Calc_Energy().real"
   ]
  },
  {
   "cell_type": "code",
   "execution_count": 6,
   "metadata": {},
   "outputs": [
    {
     "data": {
      "text/plain": [
       "-0.4192587105497233"
      ]
     },
     "execution_count": 6,
     "metadata": {},
     "output_type": "execute_result"
    }
   ],
   "source": [
    "theta_combined = [1,2, np.pi]\n",
    "\n",
    "VQE_experiment_ENERGY(theta_combined)"
   ]
  },
  {
   "cell_type": "code",
   "execution_count": null,
   "metadata": {},
   "outputs": [],
   "source": []
  },
  {
   "cell_type": "code",
   "execution_count": 7,
   "metadata": {},
   "outputs": [],
   "source": [
    "import random\n",
    "\n",
    "theta_ia_random_input = [random.uniform(0, 2*np.pi) for _ in range(len(Sec_Quant_CC_ops_ia))]\n",
    "theta_ijab_random_input = [random.uniform(0, 2*np.pi) for _ in range(len(Sec_Quant_CC_ops_ijab))]\n",
    "\n",
    "theta_combined_random_input = [*theta_ia_random_input, *theta_ijab_random_input]"
   ]
  },
  {
   "cell_type": "code",
   "execution_count": null,
   "metadata": {},
   "outputs": [],
   "source": [
    "### optimizer\n",
    "from quchem.Scipy_Optimizer import *\n",
    "\n",
    "GG = Optimizer(VQE_experiment_ENERGY, theta_combined_random_input, 'Nelder-Mead', store_values=True, display_iter_steps=True,\n",
    "               tol=1e-5,\n",
    "               display_convergence_message=True)\n",
    "GG.get_env(50)\n",
    "GG.plot_convergence()\n",
    "plt.show()"
   ]
  },
  {
   "cell_type": "code",
   "execution_count": null,
   "metadata": {},
   "outputs": [],
   "source": []
  },
  {
   "cell_type": "code",
   "execution_count": 8,
   "metadata": {},
   "outputs": [
    {
     "data": {
      "text/plain": [
       "array(-1.10115033)"
      ]
     },
     "execution_count": 8,
     "metadata": {},
     "output_type": "execute_result"
    }
   ],
   "source": [
    "Hamilt.molecule.fci_energy"
   ]
  },
  {
   "cell_type": "code",
   "execution_count": null,
   "metadata": {},
   "outputs": [],
   "source": []
  },
  {
   "cell_type": "markdown",
   "metadata": {},
   "source": [
    "### Tensorflow"
   ]
  },
  {
   "cell_type": "code",
   "execution_count": null,
   "metadata": {},
   "outputs": [],
   "source": [
    "from quchem.TensorFlow_Opt import *"
   ]
  },
  {
   "cell_type": "markdown",
   "metadata": {},
   "source": [
    "**gradient is given by**\n",
    "\n",
    "https://arxiv.org/pdf/1906.08728.pdf\n",
    "\n",
    "$$\\frac{\\partial O(\\theta)}{\\partial \\theta}=\\left\\langle\\overrightarrow{0}\\left|\\hat{U}^{\\dagger} \\hat{R}_{y}^{C \\dagger}(\\theta+\\pi / 4) \\hat{V}^{\\dagger} \\hat{O} \\hat{V} \\hat{R}_{y}^{C}(\\theta+\\pi / 4) \\hat{U}\\right| \\overrightarrow{0}\\right\\rangle -\\left\\langle\\overrightarrow{0}\\left|\\hat{U}^{\\dagger} \\hat{R}_{y}^{C \\dagger}(\\theta-\\pi / 4) \\hat{V}^{\\dagger} \\hat{O} \\hat{V} \\hat{R}_{y}^{C}(\\theta-\\pi / 4) \\hat{U}\\right| \\overrightarrow{0}\\right\\rangle$$\n",
    "\n",
    "$$\\frac{\\partial O(\\theta)}{\\partial \\theta} =O(\\theta+\\pi / 4)-O(\\theta-\\pi / 4)$$"
   ]
  },
  {
   "cell_type": "code",
   "execution_count": 9,
   "metadata": {},
   "outputs": [],
   "source": [
    "def calc_gradient(theta_ia_theta_jab_list):\n",
    "    \n",
    "    grad_list=[]\n",
    "    \n",
    "    for index, theta in enumerate(theta_ia_theta_jab_list):\n",
    "        \n",
    "        new_theta_list = theta_ia_theta_jab_list.copy()\n",
    "        new_theta_list[index] = theta + np.pi/4\n",
    "        \n",
    "        Obs_PLUS = VQE_experiment_ENERGY(new_theta_list)\n",
    "               \n",
    "        \n",
    "        new_theta_list[index] = theta - np.pi/4\n",
    "        Obs_MINUS = VQE_experiment_ENERGY(new_theta_list)\n",
    "        \n",
    "        gradient = Obs_PLUS - Obs_MINUS\n",
    "        \n",
    "        grad_list.append((gradient, theta))\n",
    "        \n",
    "\n",
    "    return grad_list"
   ]
  },
  {
   "cell_type": "markdown",
   "metadata": {},
   "source": [
    "note:\n",
    "this is very SLOW as it has to run a separate experiment TWICE for each parameter before taking a step!"
   ]
  },
  {
   "cell_type": "code",
   "execution_count": null,
   "metadata": {},
   "outputs": [],
   "source": []
  },
  {
   "cell_type": "code",
   "execution_count": null,
   "metadata": {},
   "outputs": [],
   "source": [
    "X0 = [random.uniform(0, 2*np.pi) for _ in range(len(Sec_Quant_CC_ops_ia) + len(Sec_Quant_CC_ops_ijab))]\n",
    "\n",
    "tf_opt = Tensor_Flow_Optimizer(VQE_experiment_ENERGY, X0, 'Adam', calc_gradient, learning_rate=0.1, beta1=0.9,\n",
    "                            beta2=0.999, store_values=True, display_iter_steps=True)\n",
    "tf_opt.optimize(50)\n",
    "tf_opt.plot_convergence()"
   ]
  },
  {
   "cell_type": "code",
   "execution_count": null,
   "metadata": {},
   "outputs": [],
   "source": []
  },
  {
   "cell_type": "code",
   "execution_count": 10,
   "metadata": {},
   "outputs": [],
   "source": [
    "from quchem.Adam_Optimizer import *"
   ]
  },
  {
   "cell_type": "code",
   "execution_count": 11,
   "metadata": {},
   "outputs": [],
   "source": [
    "def calc_gradient_ADAM(theta_ia_theta_jab_list):\n",
    "    \n",
    "    grad_list=[]\n",
    "    \n",
    "    for index, theta in enumerate(theta_ia_theta_jab_list):\n",
    "        \n",
    "        new_theta_list = theta_ia_theta_jab_list.copy()\n",
    "        new_theta_list[index] = theta + np.pi/4\n",
    "        \n",
    "        Obs_PLUS = VQE_experiment_ENERGY(new_theta_list)\n",
    "               \n",
    "        \n",
    "        new_theta_list[index] = theta - np.pi/4\n",
    "        Obs_MINUS = VQE_experiment_ENERGY(new_theta_list)\n",
    "        \n",
    "        gradient = Obs_PLUS - Obs_MINUS\n",
    "        \n",
    "        grad_list.append(gradient)\n",
    "        \n",
    "\n",
    "    return np.array(grad_list)"
   ]
  },
  {
   "cell_type": "code",
   "execution_count": 20,
   "metadata": {},
   "outputs": [
    {
     "name": "stdout",
     "output_type": "stream",
     "text": [
      "step: 1 input:[5.34838964 2.38042962 4.17773515] obj_funct: -0.7361500371946121\n",
      "step: 2 input:[5.41830539 2.34409598 4.26187567] obj_funct: -0.7309642751156499\n",
      "step: 3 input:[5.43036157 2.27682934 4.30999359] obj_funct: -0.7251806943822224\n",
      "step: 4 input:[5.40744033 2.19687149 4.33950771] obj_funct: -0.7513334104136756\n",
      "step: 5 input:[5.36337877 2.11140872 4.36432415] obj_funct: -0.7916771852727561\n",
      "step: 6 input:[5.30505119 2.02319371 4.39819458] obj_funct: -0.8101456435944844\n",
      "step: 7 input:[5.23713748 1.93505978 4.44741195] obj_funct: -0.8252587888734563\n",
      "step: 8 input:[5.16084903 1.84729763 4.51164241] obj_funct: -0.9066659541102285\n",
      "step: 9 input:[5.07876648 1.75861772 4.58641273] obj_funct: -0.9342753022165969\n",
      "step: 10 input:[4.99137929 1.67120394 4.66850561] obj_funct: -1.006316987319821\n",
      "step: 11 input:[4.90113331 1.58406864 4.75559475] obj_funct: -1.0605533542985568\n",
      "step: 12 input:[4.80993403 1.50540305 4.84460678] obj_funct: -1.0989840633592842\n",
      "step: 13 input:[4.72265879 1.44380613 4.92960602] obj_funct: -1.082979240247127\n",
      "step: 14 input:[4.64692554 1.40703173 5.00065667] obj_funct: -1.0701612027848246\n",
      "step: 15 input:[4.59195514 1.39689694 5.04937539] obj_funct: -1.037352760454482\n",
      "step: 16 input:[4.56357716 1.41086779 5.07401988] obj_funct: -1.0084475238791677\n",
      "step: 17 input:[4.55643233 1.44472373 5.07536824] obj_funct: -1.0222960979329823\n",
      "step: 18 input:[4.56539956 1.49220627 5.05929989] obj_funct: -1.0451367914051182\n",
      "step: 19 input:[4.58421867 1.54581937 5.03007202] obj_funct: -1.0663595758784594\n",
      "step: 20 input:[4.60936941 1.60243329 4.99170876] obj_funct: -1.093687173320076\n",
      "step: 21 input:[4.63717574 1.65460673 4.94905163] obj_funct: -1.0994142483238238\n",
      "step: 22 input:[4.66387797 1.69658347 4.90530729] obj_funct: -1.0921864398710763\n",
      "step: 23 input:[4.68574118 1.72514925 4.86482805] obj_funct: -1.0883318252550604\n",
      "step: 24 input:[4.70473571 1.7390665  4.8299977 ] obj_funct: -1.0825514048190994\n",
      "step: 25 input:[4.71932897 1.73809244 4.80333449] obj_funct: -1.080281203911185\n",
      "step: 26 input:[4.73010315 1.72285793 4.78725779] obj_funct: -1.0702544805587135\n",
      "step: 27 input:[4.7364448  1.69728423 4.78200549] obj_funct: -1.0805896401769886\n",
      "step: 28 input:[4.73916381 1.66411718 4.78577824] obj_funct: -1.0789488926869018\n",
      "step: 29 input:[4.74067334 1.62581358 4.79786999] obj_funct: -1.092524387731706\n",
      "step: 30 input:[4.73996178 1.58615354 4.81642403] obj_funct: -1.096025980648441\n",
      "step: 31 input:[4.7347655  1.54767206 4.84040413] obj_funct: -1.0931227208800038\n",
      "step: 32 input:[4.7296128  1.51391943 4.8660607 ] obj_funct: -1.0962662116231114\n",
      "step: 33 input:[4.72420816 1.48784173 4.89139294] obj_funct: -1.1049720886721073\n",
      "step: 34 input:[4.72194643 1.47055376 4.91509985] obj_funct: -1.0962429365753559\n",
      "step: 35 input:[4.72194839 1.46270432 4.9350122 ] obj_funct: -1.095363340500197\n",
      "step: 36 input:[4.72394483 1.46523952 4.9492732 ] obj_funct: -1.0974112273342373\n",
      "step: 37 input:[4.72949772 1.47677003 4.95620884] obj_funct: -1.102476474015556\n",
      "step: 38 input:[4.73699875 1.49522819 4.95640391] obj_funct: -1.0934843388703681\n",
      "step: 39 input:[4.7441089  1.51681536 4.95070323] obj_funct: -1.0974343284765427\n",
      "step: 40 input:[4.74813421 1.53777246 4.93937615] obj_funct: -1.0954732001181127\n",
      "step: 41 input:[4.74924381 1.55824633 4.92324361] obj_funct: -1.1045053237839153\n",
      "step: 42 input:[4.74590462 1.57622691 4.90462204] obj_funct: -1.0965536339130204\n",
      "step: 43 input:[4.73679351 1.5896087  4.88570049] obj_funct: -1.0985808646478332\n",
      "step: 44 input:[4.72527478 1.59932129 4.86925528] obj_funct: -1.100296953032868\n",
      "step: 45 input:[4.71345708 1.60570768 4.85674205] obj_funct: -1.096237086047351\n",
      "step: 46 input:[4.70114257 1.60922069 4.84861511] obj_funct: -1.0934648136454803\n",
      "step: 47 input:[4.69120963 1.60850019 4.84451183] obj_funct: -1.096622381812166\n",
      "step: 48 input:[4.68099691 1.60180449 4.8458087 ] obj_funct: -1.1013795264793156\n",
      "step: 49 input:[4.67415907 1.59351681 4.85158958] obj_funct: -1.0973510000428792\n",
      "step: 50 input:[4.66959478 1.58295632 4.86055807] obj_funct: -1.0996034575322362\n"
     ]
    },
    {
     "data": {
      "text/plain": [
       "-1.1020643695727401"
      ]
     },
     "execution_count": 20,
     "metadata": {},
     "output_type": "execute_result"
    }
   ],
   "source": [
    "X0 = np.array([random.uniform(0, 2*np.pi) for _ in range(len(Sec_Quant_CC_ops_ia) + len(Sec_Quant_CC_ops_ijab))])\n",
    "\n",
    "opt_params, list_of_inputs, list_of_outputs = Adam_Opt(X0, VQE_experiment_ENERGY,\n",
    "                                                       calc_gradient_ADAM, \n",
    "                                                       learning_rate=0.1, \n",
    "                                                       beta_1=0.9, \n",
    "                                                       beta_2=0.999, \n",
    "                                                       epsilon=1e-8,\n",
    "                                                       max_iter=50,\n",
    "                                                       disp=True,\n",
    "                                                       tolerance=1e-3,\n",
    "                                                       store_steps=True)\n",
    "\n",
    "VQE_experiment_ENERGY(opt_params)"
   ]
  },
  {
   "cell_type": "code",
   "execution_count": 21,
   "metadata": {},
   "outputs": [
    {
     "data": {
      "image/png": "[encoded data removed]",
      "text/plain": [
       "<Figure size 432x288 with 1 Axes>"
      ]
     },
     "metadata": {
      "needs_background": "light"
     },
     "output_type": "display_data"
    }
   ],
   "source": [
    "import matplotlib.pyplot as plt\n",
    "# % matplotlib inline\n",
    "plt.figure()\n",
    "plt.plot(list_of_outputs)\n",
    "plt.xlabel('iterations')\n",
    "plt.ylabel('objective function value')\n",
    "plt.show()"
   ]
  },
  {
   "cell_type": "code",
   "execution_count": null,
   "metadata": {},
   "outputs": [],
   "source": []
  },
  {
   "cell_type": "code",
   "execution_count": null,
   "metadata": {},
   "outputs": [],
   "source": []
  },
  {
   "cell_type": "code",
   "execution_count": null,
   "metadata": {},
   "outputs": [],
   "source": []
  },
  {
   "cell_type": "code",
   "execution_count": null,
   "metadata": {},
   "outputs": [],
   "source": []
  }
 ],
 "metadata": {
  "kernelspec": {
   "display_name": "Python 3",
   "language": "python",
   "name": "python3"
  },
  "language_info": {
   "codemirror_mode": {
    "name": "ipython",
    "version": 3
   },
   "file_extension": ".py",
   "mimetype": "text/x-python",
   "name": "python",
   "nbconvert_exporter": "python",
   "pygments_lexer": "ipython3",
   "version": "3.7.6"
  }
 },
 "nbformat": 4,
 "nbformat_minor": 4
}
