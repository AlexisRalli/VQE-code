{
 "cells": [
  {
   "cell_type": "code",
   "execution_count": 1,
   "metadata": {},
   "outputs": [
    {
     "data": {
      "text/plain": [
       "(-0.32760818995565577+0j) [] +\n",
       "(0.04919764587885283+0j) [X0 Z1 X2] +\n",
       "(0.04919764587885283+0j) [X0 Z1 X2 Z3] +\n",
       "(0.04919764587885283+0j) [Y0 Z1 Y2] +\n",
       "(0.04919764587885283+0j) [Y0 Z1 Y2 Z3] +\n",
       "(0.1371657293179602+0j) [Z0] +\n",
       "(0.1371657293179602+0j) [Z0 Z1] +\n",
       "(0.15542669076236065+0j) [Z0 Z1 Z2] +\n",
       "(0.15542669076236065+0j) [Z0 Z1 Z2 Z3] +\n",
       "(0.10622904488350779+0j) [Z0 Z2] +\n",
       "(0.10622904488350779+0j) [Z0 Z2 Z3] +\n",
       "(0.15660062486143395+0j) [Z1] +\n",
       "(-0.13036292044009176+0j) [Z1 Z2 Z3] +\n",
       "(0.1632676867167479+0j) [Z1 Z3] +\n",
       "(-0.13036292044009176+0j) [Z2]"
      ]
     },
     "execution_count": 1,
     "metadata": {},
     "output_type": "execute_result"
    }
   ],
   "source": [
    "from quchem.Hamiltonian_Generator_Functions import *\n",
    "from quchem.Graph import *\n",
    "### HAMILTONIAN start\n",
    "Molecule = 'H2'\n",
    "geometry = None # [('H', (0., 0., 0.)), ('H', (0., 0., 0.74))]\n",
    "basis = 'sto-3g'\n",
    "\n",
    "\n",
    "### Get Hamiltonian\n",
    "Hamilt = Hamiltonian(Molecule,\n",
    "                     run_scf=1, run_mp2=1, run_cisd=1, run_ccsd=1, run_fci=1,\n",
    "                     basis=basis,\n",
    "                     multiplicity=1,\n",
    "                     geometry=geometry)  # normally None!\n",
    "QubitHamiltonian = Hamilt.Get_Qubit_Hamiltonian(threshold=None, transformation='BK')\n",
    "### HAMILTONIAN end\n",
    "\n",
    "#####################################\n",
    "\n",
    "QubitHamiltonian"
   ]
  },
  {
   "cell_type": "code",
   "execution_count": 2,
   "metadata": {},
   "outputs": [],
   "source": [
    "from quchem.Ansatz_Generator_Functions import *\n",
    "\n",
    "\n",
    "ansatz_obj = Ansatz(Hamilt.molecule.n_electrons, Hamilt.molecule.n_qubits)\n",
    "\n",
    "\n",
    "\n",
    "Sec_Quant_CC_ops_ia, Sec_Quant_CC_ops_ijab, theta_parameters_ia, theta_parameters_ijab=ansatz_obj.Get_ia_and_ijab_terms(single_cc_amplitudes=None, \n",
    "                                                                                                             double_cc_amplitudes=None, \n",
    "                                                                                                             singles_hamiltonian=None,\n",
    "                                                                                                             doubles_hamiltonian=None, \n",
    "                                                                                                             tol_filter_small_terms = None)\n",
    "\n",
    "Qubit_Op_list_Second_Quant_CC_Ops_ia, Qubit_Op_list_Second_Quant_CC_Ops_ijab = ansatz_obj.UCCSD_single_trotter_step(Sec_Quant_CC_ops_ia,\n",
    "                                                                                                                    Sec_Quant_CC_ops_ijab,\n",
    "                                                                                                                   transformation='BK')\n"
   ]
  },
  {
   "cell_type": "code",
   "execution_count": 3,
   "metadata": {},
   "outputs": [
    {
     "name": "stdout",
     "output_type": "stream",
     "text": [
      "[1. 0. 0. 0.]\n"
     ]
    },
    {
     "data": {
      "text/html": [
       "<pre style=\"overflow: auto; white-space: pre;\">                                                                                                                                                                                  ┌─────────┐   ┌──────────┐              ┌──────────┐\n",
       "0: ───X───H──────────@───────────────────────@───H───────────Rx(0.5π)───@───────────────────────@───────────Rx(-0.5π)──────────────@───────────────────────@──────────H────────────────────@───────────────────@───────────H─────────────H───────────@───────────────────────@───────────H───Rx(0.5π)───@──────────────@───Rx(-0.5π)───Rx(0.5π)───@──────────────────────@───Rx(-0.5π)───Rx(0.5π)───@──────────────────────────────@───Rx(-0.5π)───Rx(0.5π)───@──────────────────────@───Rx(-0.5π)───H──────────@───────────────────────────────@───────────H──────────H───@───────────────────────@───H───────────\n",
       "                     │                       │                          │                       │                                  │                       │                               │                   │                                     │                       │                          │              │                          │                      │                          │                              │                          │                      │                          │                               │                          │                       │\n",
       "1: ───I───Rx(0.5π)───X───@───────────────@───X───Rx(-0.5π)───Rx(0.5π)───X───@───────────────@───X───────────Rx(-0.5π)───Rx(0.5π)───X───@───────────────@───X──────────Rx(-0.5π)────Rx(0.5π)┼─────@─────────────┼───────────@─────────────Rx(-0.5π)───X───@───────────────@───X──────────────────────────┼──────────────┼──────────────────────────X───@──────────────@───X──────────────────────────X───@──────────────────────@───X──────────────────────────┼──────────────────────┼──────────────────────────X───@───────────────────────@───X──────────────────────────┼───────────────────────┼───────────────\n",
       "                         │               │                                  │               │                                          │               │                                   │     │             │           │                             │               │                              │              │                              │              │                                  │                      │                              │                      │                              │                       │                              │                       │\n",
       "2: ───I───H──────────────X───Rz(-0.0π)───X───H───Rx(0.5π)───────────────────X───Rz(-0.0π)───X───Rx(-0.5π)──────────────────────────────X───Rz(-0.0π)───X───Rx(0.5π)────────────────────────X─────┼Rz(-0.0π)────X───────────┼Rx(-0.5π)────Rx(0.5π)────────X───Rz(-0.0π)───X───Rx(-0.5π)───H──────────────X───Rz(0.0π)───X───H───────────H──────────────X───Rz(0.0π)───X───H───H──────────────────────────X───@──────────────@───X───H───H──────────────────────X───@──────────────@───X───H───────────Rx(0.5π)───────X───@───────────────@───X───Rx(-0.5π)───Rx(0.5π)───────X───@───────────────@───X───Rx(-0.5π)───\n",
       "                                                                                                                                                                                                 │                         │                                                                                                                                                                                │              │                                      │              │                                      │               │                                      │               │\n",
       "3: ───I──────────────────────────────────────────────────────────────────────────────────────────────────────────────────────────────────────────────────────────────────────────────────────────X─────────────Rz(0.0π)────X────────────────────────────────────────────────────────────────────────────────────────────────────────────────────────────────────────────────────────────────────────────────X───Rz(0.0π)───X──────────────────────────────────────X───Rz(0.0π)───X──────────────────────────────────────X───Rz(-0.0π)───X──────────────────────────────────────X───Rz(-0.0π)───X───────────────────\n",
       "                                                                                                                                                                                  └─────────┘   └──────────┘              └──────────┘</pre>"
      ],
      "text/plain": [
       "                                                                                                                                                                                  ┌─────────┐   ┌──────────┐              ┌──────────┐\n",
       "0: ───X───H──────────@───────────────────────@───H───────────Rx(0.5π)───@───────────────────────@───────────Rx(-0.5π)──────────────@───────────────────────@──────────H────────────────────@───────────────────@───────────H─────────────H───────────@───────────────────────@───────────H───Rx(0.5π)───@──────────────@───Rx(-0.5π)───Rx(0.5π)───@──────────────────────@───Rx(-0.5π)───Rx(0.5π)───@──────────────────────────────@───Rx(-0.5π)───Rx(0.5π)───@──────────────────────@───Rx(-0.5π)───H──────────@───────────────────────────────@───────────H──────────H───@───────────────────────@───H───────────\n",
       "                     │                       │                          │                       │                                  │                       │                               │                   │                                     │                       │                          │              │                          │                      │                          │                              │                          │                      │                          │                               │                          │                       │\n",
       "1: ───I───Rx(0.5π)───X───@───────────────@───X───Rx(-0.5π)───Rx(0.5π)───X───@───────────────@───X───────────Rx(-0.5π)───Rx(0.5π)───X───@───────────────@───X──────────Rx(-0.5π)────Rx(0.5π)┼─────@─────────────┼───────────@─────────────Rx(-0.5π)───X───@───────────────@───X──────────────────────────┼──────────────┼──────────────────────────X───@──────────────@───X──────────────────────────X───@──────────────────────@───X──────────────────────────┼──────────────────────┼──────────────────────────X───@───────────────────────@───X──────────────────────────┼───────────────────────┼───────────────\n",
       "                         │               │                                  │               │                                          │               │                                   │     │             │           │                             │               │                              │              │                              │              │                                  │                      │                              │                      │                              │                       │                              │                       │\n",
       "2: ───I───H──────────────X───Rz(-0.0π)───X───H───Rx(0.5π)───────────────────X───Rz(-0.0π)───X───Rx(-0.5π)──────────────────────────────X───Rz(-0.0π)───X───Rx(0.5π)────────────────────────X─────┼Rz(-0.0π)────X───────────┼Rx(-0.5π)────Rx(0.5π)────────X───Rz(-0.0π)───X───Rx(-0.5π)───H──────────────X───Rz(0.0π)───X───H───────────H──────────────X───Rz(0.0π)───X───H───H──────────────────────────X───@──────────────@───X───H───H──────────────────────X───@──────────────@───X───H───────────Rx(0.5π)───────X───@───────────────@───X───Rx(-0.5π)───Rx(0.5π)───────X───@───────────────@───X───Rx(-0.5π)───\n",
       "                                                                                                                                                                                                 │                         │                                                                                                                                                                                │              │                                      │              │                                      │               │                                      │               │\n",
       "3: ───I──────────────────────────────────────────────────────────────────────────────────────────────────────────────────────────────────────────────────────────────────────────────────────────X─────────────Rz(0.0π)────X────────────────────────────────────────────────────────────────────────────────────────────────────────────────────────────────────────────────────────────────────────────────X───Rz(0.0π)───X──────────────────────────────────────X───Rz(0.0π)───X──────────────────────────────────────X───Rz(-0.0π)───X──────────────────────────────────────X───Rz(-0.0π)───X───────────────────\n",
       "                                                                                                                                                                                  └─────────┘   └──────────┘              └──────────┘"
      ]
     },
     "execution_count": 3,
     "metadata": {},
     "output_type": "execute_result"
    }
   ],
   "source": [
    "input_state = ansatz_obj.Get_BK_HF_state_in_OCC_basis()\n",
    "print(input_state)\n",
    "\n",
    "UCCSD_ansatz_Q_Circ_obj = Ansatz_Circuit(input_state,\n",
    "                                     Qubit_Op_list_Second_Quant_CC_Ops_ia, \n",
    "                                     Qubit_Op_list_Second_Quant_CC_Ops_ijab)\n",
    "\n",
    "UCCSD_ansatz_Q_Circ =UCCSD_ansatz_Q_Circ_obj.Get_Full_HF_UCCSD_QC(Theta_param_list_ia=theta_parameters_ia, \n",
    "                                         Theta_param_list_ijab=theta_parameters_ijab,\n",
    "                                         ia_first=True)\n",
    "UCCSD_ansatz_Q_Circ"
   ]
  },
  {
   "cell_type": "code",
   "execution_count": 4,
   "metadata": {},
   "outputs": [
    {
     "data": {
      "text/plain": [
       "[0.125j [X0 Z1 Y2] +\n",
       " 0.125j [X0 Z1 Y2 Z3] +\n",
       " 0.125j [X0 Y2] +\n",
       " 0.125j [X0 Y2 Z3] +\n",
       " -0.125j [Y0 Z1 X2] +\n",
       " -0.125j [Y0 Z1 X2 Z3] +\n",
       " -0.125j [Y0 X2] +\n",
       " -0.125j [Y0 X2 Z3]]"
      ]
     },
     "execution_count": 4,
     "metadata": {},
     "output_type": "execute_result"
    }
   ],
   "source": [
    "Qubit_Op_list_Second_Quant_CC_Ops_ijab"
   ]
  },
  {
   "cell_type": "markdown",
   "metadata": {},
   "source": [
    "From Helgaker, T., P. Jorgensen,and J. Olsen (2014),Molecularelectronic-structure theory(John Wiley & Sons)\n",
    "we known\n",
    "\n",
    "$$H_{2}^{ground} = 0.9939| 1100\\rangle - 0.1106| 0011\\rangle$$\n",
    "\n",
    "From group theory we know only double excitation terms are important!\n",
    "We can see this from our ijab operators that qubits 1 and 3 are only acted on by $Z$ therefore experience no population changes... Can even see this from the answer if we write it in BK basis:\n",
    "\n",
    "$$H_{2}^{BK} = 0.9939| 1000\\rangle - 0.1106| 0010\\rangle$$\n",
    "\n",
    "See how qubits 1 and 3 always remain at 0!\n",
    "\n",
    "therefore can **remove** these measurements from Hamiltonian... as we know what expectation values they should give!\n",
    "\n",
    "In the case for this Hamiltonian only $I$ and $Z$ act on these qubits! So even easier to remove (expectation values = +1 (as act on $| 0\\rangle$ state!), so just remove and add to relivent H terms!"
   ]
  },
  {
   "cell_type": "markdown",
   "metadata": {},
   "source": [
    "LOOK at:\n",
    "\n",
    "PHYS. REV. X, **8**, 031022 (2018)"
   ]
  },
  {
   "cell_type": "code",
   "execution_count": 5,
   "metadata": {},
   "outputs": [
    {
     "name": "stdout",
     "output_type": "stream",
     "text": [
      "double e- operators:\n",
      "[0.125j [X0 Z1 Y2] +\n",
      "0.125j [X0 Z1 Y2 Z3] +\n",
      "0.125j [X0 Y2] +\n",
      "0.125j [X0 Y2 Z3] +\n",
      "-0.125j [Y0 Z1 X2] +\n",
      "-0.125j [Y0 Z1 X2 Z3] +\n",
      "-0.125j [Y0 X2] +\n",
      "-0.125j [Y0 X2 Z3]]\n",
      "\n",
      "qubit indices: [1 3] only acted on by I or Z\n"
     ]
    }
   ],
   "source": [
    "print('double e- operators:')\n",
    "print(Qubit_Op_list_Second_Quant_CC_Ops_ijab)\n",
    "\n",
    "ansatz_obj = BK_Qubit_Reduction(QubitHamiltonian,\n",
    "                             Hamilt.molecule.n_electrons,\n",
    "                             Hamilt.molecule.n_qubits)\n",
    "\n",
    "indices_to_Remove = ansatz_obj.Find_Qubits_only_acted_on_by_I_or_Z(Qubit_Op_list_Second_Quant_CC_Ops_ijab)\n",
    "print('')\n",
    "print('qubit indices:', indices_to_Remove, 'only acted on by I or Z')"
   ]
  },
  {
   "cell_type": "code",
   "execution_count": 6,
   "metadata": {
    "scrolled": true
   },
   "outputs": [
    {
     "data": {
      "text/plain": [
       "[(-0.32760818995565577+0j) [],\n",
       " (0.1371657293179602+0j) [Z0],\n",
       " (0.1371657293179602+0j) [Z0 Z1],\n",
       " (-0.13036292044009176+0j) [Z2],\n",
       " (-0.13036292044009176+0j) [Z1 Z2 Z3],\n",
       " (0.15660062486143395+0j) [Z1],\n",
       " (0.04919764587885283+0j) [Y0 Z1 Y2 Z3],\n",
       " (0.04919764587885283+0j) [X0 Z1 X2],\n",
       " (0.04919764587885283+0j) [X0 Z1 X2 Z3],\n",
       " (0.04919764587885283+0j) [Y0 Z1 Y2],\n",
       " (0.10622904488350779+0j) [Z0 Z2],\n",
       " (0.15542669076236065+0j) [Z0 Z1 Z2 Z3],\n",
       " (0.15542669076236065+0j) [Z0 Z1 Z2],\n",
       " (0.10622904488350779+0j) [Z0 Z2 Z3],\n",
       " (0.1632676867167479+0j) [Z1 Z3]]"
      ]
     },
     "execution_count": 6,
     "metadata": {},
     "output_type": "execute_result"
    }
   ],
   "source": [
    "list(QubitHamiltonian)"
   ]
  },
  {
   "cell_type": "markdown",
   "metadata": {},
   "source": [
    "### Can remove these terms from Hamiltonian"
   ]
  },
  {
   "cell_type": "code",
   "execution_count": 7,
   "metadata": {},
   "outputs": [
    {
     "data": {
      "text/plain": [
       "(-0.007739878377473919+0j) [] +\n",
       "(0.09839529175770566+0j) [X0 X2] +\n",
       "(0.09839529175770566+0j) [Y0 Y2] +\n",
       "(0.2743314586359204+0j) [Z0] +\n",
       "(0.5233114712917368+0j) [Z0 Z2] +\n",
       "(-0.2607258408801835+0j) [Z2]"
      ]
     },
     "execution_count": 7,
     "metadata": {},
     "output_type": "execute_result"
    }
   ],
   "source": [
    "reduced_Qubit_Hamiltonian = ansatz_obj.Remove_indices_from_Hamiltonian(indices_to_Remove)\n",
    "reduced_Qubit_Hamiltonian"
   ]
  },
  {
   "cell_type": "markdown",
   "metadata": {},
   "source": [
    "### Can remove these terms from Anstz"
   ]
  },
  {
   "cell_type": "code",
   "execution_count": 8,
   "metadata": {},
   "outputs": [
    {
     "data": {
      "text/plain": [
       "[0.5j [X0 Y2] +\n",
       " -0.5j [Y0 X2]]"
      ]
     },
     "execution_count": 8,
     "metadata": {},
     "output_type": "execute_result"
    }
   ],
   "source": [
    "reduced_ijab_CC = ansatz_obj.Remove_indices_from_CC_qubit_operators(Qubit_Op_list_Second_Quant_CC_Ops_ijab,\n",
    "                                                             indices_to_Remove)\n",
    "reduced_ijab_CC"
   ]
  },
  {
   "cell_type": "markdown",
   "metadata": {},
   "source": [
    "# NEXT need to re-label everything"
   ]
  },
  {
   "cell_type": "code",
   "execution_count": 9,
   "metadata": {},
   "outputs": [
    {
     "name": "stdout",
     "output_type": "stream",
     "text": [
      "qubit relabelling dict =  {0: 0, 2: 1}\n"
     ]
    },
    {
     "data": {
      "text/plain": [
       "(-0.007739878377473919+0j) [] +\n",
       "(0.09839529175770566+0j) [X0 X1] +\n",
       "(0.09839529175770566+0j) [Y0 Y1] +\n",
       "(0.2743314586359204+0j) [Z0] +\n",
       "(0.5233114712917368+0j) [Z0 Z1] +\n",
       "(-0.2607258408801835+0j) [Z1]"
      ]
     },
     "execution_count": 9,
     "metadata": {},
     "output_type": "execute_result"
    }
   ],
   "source": [
    "relabel_dict, relabelled_reduced_Qubit_Hamiltonian = ansatz_obj.Re_label_Hamiltonian(reduced_Qubit_Hamiltonian)\n",
    "\n",
    "print('qubit relabelling dict = ', relabel_dict)\n",
    "\n",
    "relabelled_reduced_Qubit_Hamiltonian"
   ]
  },
  {
   "cell_type": "code",
   "execution_count": 10,
   "metadata": {},
   "outputs": [
    {
     "data": {
      "text/plain": [
       "[0.5j [X0 Y1] +\n",
       " -0.5j [Y0 X1]]"
      ]
     },
     "execution_count": 10,
     "metadata": {},
     "output_type": "execute_result"
    }
   ],
   "source": [
    "relabelled_reduced_ijab_CC = ansatz_obj.Re_label_CC_qubit_operators(relabel_dict, reduced_ijab_CC)\n",
    "relabelled_reduced_ijab_CC"
   ]
  },
  {
   "cell_type": "markdown",
   "metadata": {},
   "source": [
    "## Find New input state"
   ]
  },
  {
   "cell_type": "code",
   "execution_count": 11,
   "metadata": {},
   "outputs": [
    {
     "name": "stdout",
     "output_type": "stream",
     "text": [
      "old input =  [1. 0. 0. 0.]\n",
      "BUT following indices removed: [1 3]\n"
     ]
    },
    {
     "data": {
      "text/plain": [
       "array([1., 0.])"
      ]
     },
     "execution_count": 11,
     "metadata": {},
     "output_type": "execute_result"
    }
   ],
   "source": [
    "print('old input = ', ansatz_obj.Get_BK_HF_state_in_OCC_basis())\n",
    "print('BUT following indices removed:', indices_to_Remove)\n",
    "ansatz_obj.New_BK_HF_state(indices_to_Remove)"
   ]
  },
  {
   "cell_type": "markdown",
   "metadata": {},
   "source": [
    "# Find what new FCI energy is\n",
    "- here should be the same as true answer!"
   ]
  },
  {
   "cell_type": "code",
   "execution_count": 12,
   "metadata": {},
   "outputs": [
    {
     "name": "stdout",
     "output_type": "stream",
     "text": [
      "new_FCI =  (-1.1011503301329562+0j) VS old FCI: -1.1011503301329562\n"
     ]
    }
   ],
   "source": [
    "new_Molecular_H_MATRIX = Hamilt.Get_sparse_Qubit_Hamiltonian_matrix(relabelled_reduced_Qubit_Hamiltonian)\n",
    "\n",
    "\n",
    "from scipy.linalg import eig\n",
    "eig_values, eig_vectors = eig(new_Molecular_H_MATRIX.todense())\n",
    "new_FCI_Energy = min(eig_values)\n",
    "\n",
    "\n",
    "print('new_FCI = ', new_FCI_Energy, 'VS old FCI:', Hamilt.molecule.fci_energy)"
   ]
  },
  {
   "cell_type": "code",
   "execution_count": 13,
   "metadata": {},
   "outputs": [],
   "source": [
    "from quchem.LCU_method import *"
   ]
  },
  {
   "cell_type": "code",
   "execution_count": 14,
   "metadata": {},
   "outputs": [
    {
     "name": "stderr",
     "output_type": "stream",
     "text": [
      "Building Graph Edges: 100%|##########| 6/6 [00:00<00:00, 2922.86it/s]\n"
     ]
    },
    {
     "data": {
      "text/plain": [
       "{0: [(0.5233114712917368+0j) [Z0 Z1]],\n",
       " 1: [(-0.007739878377473919+0j) []],\n",
       " 2: [(-0.2607258408801835+0j) [Z1], (0.09839529175770566+0j) [Y0 Y1]],\n",
       " 3: [(0.2743314586359204+0j) [Z0], (0.09839529175770566+0j) [X0 X1]]}"
      ]
     },
     "execution_count": 14,
     "metadata": {},
     "output_type": "execute_result"
    }
   ],
   "source": [
    "Hamiltonian_graph_obj = Openfermion_Hamiltonian_Graph(relabelled_reduced_Qubit_Hamiltonian)\n",
    "\n",
    "commutativity_flag = 'AC' ## <- defines relationship between sets!!!\n",
    "plot_graph = False\n",
    "Graph_colouring_strategy='largest_first'\n",
    "anti_commuting_sets = Hamiltonian_graph_obj.Get_Clique_Cover_as_QubitOp(commutativity_flag, Graph_colouring_strategy=Graph_colouring_strategy, plot_graph=plot_graph)\n",
    "anti_commuting_sets"
   ]
  },
  {
   "cell_type": "code",
   "execution_count": 15,
   "metadata": {},
   "outputs": [],
   "source": [
    "# {0: [(0.5233114712917368+0j) [Z0 Z1]],\n",
    "#  1: [(-0.007739878377473919+0j) []],\n",
    "#  2: [(0.09839529175770566+0j) [X0 X1], (-0.2607258408801835+0j) [Z1]],\n",
    "#  3: [(0.09839529175770566+0j) [Y0 Y1], (0.2743314586359204+0j) [Z0]]}"
   ]
  },
  {
   "cell_type": "code",
   "execution_count": 31,
   "metadata": {},
   "outputs": [
    {
     "data": {
      "text/plain": [
       "[0.4179333748297839]"
      ]
     },
     "execution_count": 31,
     "metadata": {},
     "output_type": "execute_result"
    }
   ],
   "source": [
    "import random\n",
    "theta_ijab_random_input = [random.uniform(0, 2*np.pi) for _ in range(len(relabelled_reduced_ijab_CC))]\n",
    "theta_ijab_random_input"
   ]
  },
  {
   "cell_type": "code",
   "execution_count": 17,
   "metadata": {},
   "outputs": [
    {
     "data": {
      "text/html": [
       "<pre style=\"overflow: auto; white-space: pre;\">0: ───X───H──────────@────────────────@───H───────────Rx(0.5π)───@───────────────@───Rx(-0.5π)───\n",
       "                     │                │                          │               │\n",
       "1: ───I───Rx(0.5π)───X───Rz(-0.96π)───X───Rx(-0.5π)───H──────────X───Rz(0.96π)───X───H───────────</pre>"
      ],
      "text/plain": [
       "0: ───X───H──────────@────────────────@───H───────────Rx(0.5π)───@───────────────@───Rx(-0.5π)───\n",
       "                     │                │                          │               │\n",
       "1: ───I───Rx(0.5π)───X───Rz(-0.96π)───X───Rx(-0.5π)───H──────────X───Rz(0.96π)───X───H───────────"
      ]
     },
     "execution_count": 17,
     "metadata": {},
     "output_type": "execute_result"
    }
   ],
   "source": [
    "new_BK_state = ansatz_obj.New_BK_HF_state(indices_to_Remove)\n",
    "\n",
    "\n",
    "UCCSD_ansatz_Q_Circ_obj = Ansatz_Circuit(new_BK_state,\n",
    "                                     [], \n",
    "                                     relabelled_reduced_ijab_CC)\n",
    "\n",
    "UCCSD_ansatz_Q_Circ = UCCSD_ansatz_Q_Circ_obj.Get_Full_HF_UCCSD_QC(\n",
    "                                        Theta_param_list_ia=None, \n",
    "                                         Theta_param_list_ijab=theta_ijab_random_input,\n",
    "                                         ia_first=True)\n",
    "UCCSD_ansatz_Q_Circ"
   ]
  },
  {
   "cell_type": "code",
   "execution_count": 18,
   "metadata": {},
   "outputs": [
    {
     "data": {
      "text/html": [
       "<pre style=\"overflow: auto; white-space: pre;\">0: ───X──────────────────H──────────@────────────────@───H───────────Rx(0.5π)───@───────────────@───Rx(-0.5π)───1*I0───(-0-1j)*Y0──────────────────────\n",
       "                                    │                │                          │               │               │      │\n",
       "1: ───I──────────────────Rx(0.5π)───X───Rz(-0.96π)───X───Rx(-0.5π)───H──────────X───Rz(0.96π)───X───H───────────┼──────X1──────────────────────────────\n",
       "                                                                                                                │      │\n",
       "2: ─── U = 0.3951 rad ──────────────────────────────────────────────────────────────────────────────────────────(0)────@──────────── U = 0.3951 rad ───</pre>"
      ],
      "text/plain": [
       "0: ───X──────────────────H──────────@────────────────@───H───────────Rx(0.5π)───@───────────────@───Rx(-0.5π)───1*I0───(-0-1j)*Y0──────────────────────\n",
       "                                    │                │                          │               │               │      │\n",
       "1: ───I──────────────────Rx(0.5π)───X───Rz(-0.96π)───X───Rx(-0.5π)───H──────────X───Rz(0.96π)───X───H───────────┼──────X1──────────────────────────────\n",
       "                                                                                                                │      │\n",
       "2: ─── U = 0.3951 rad ──────────────────────────────────────────────────────────────────────────────────────────(0)────@──────────── U = 0.3951 rad ───"
      ]
     },
     "execution_count": 18,
     "metadata": {},
     "output_type": "execute_result"
    }
   ],
   "source": [
    "SET_index = 3\n",
    "N_index = 0\n",
    "\n",
    "\n",
    "R_uncorrected, Pn, gamma_l = Get_R_linear_combination(anti_commuting_sets[SET_index], N_index)\n",
    "R_corrected_Op_list, R_corr_list, ancilla_amplitudes, l1 = absorb_complex_phases(R_uncorrected)\n",
    "###\n",
    "\n",
    "\n",
    "N_QUBITS = Hamilt.molecule.n_qubits - len(indices_to_Remove)\n",
    "\n",
    "full_Q_circuit = Full_Ansatz_and_Quantum_R_circuit(Pn,\n",
    "                                                   R_corrected_Op_list,\n",
    "                                                   R_corr_list,\n",
    "                                                   ancilla_amplitudes,\n",
    "                                                   N_QUBITS, \n",
    "                                                   UCCSD_ansatz_Q_Circ)\n",
    "full_Q_circuit"
   ]
  },
  {
   "cell_type": "code",
   "execution_count": 29,
   "metadata": {},
   "outputs": [],
   "source": [
    "input_state = [np.array([[1], [0]]) for _ in range(len(full_Q_circuit.all_qubits()))]\n",
    "input_ket = reduce(kron, input_state)\n",
    "circuit_matrix = full_Q_circuit.unitary()\n",
    "\n",
    "ansatz_state_ket = circuit_matrix.dot(input_ket.todense())\n",
    "full_density_matrix = np.outer(ansatz_state_ket, ansatz_state_ket)\n",
    "# full_density_matrix"
   ]
  },
  {
   "cell_type": "code",
   "execution_count": 20,
   "metadata": {},
   "outputs": [],
   "source": [
    "N_QUBITS = Hamilt.molecule.n_qubits - len(indices_to_Remove)\n",
    "\n",
    "def GIVE_ENERGY_lin_alg(theta_ijab):\n",
    "    \n",
    "    ansatz_cirq_circuit = UCCSD_ansatz_Q_Circ_obj.Get_Full_HF_UCCSD_QC(\n",
    "                                        Theta_param_list_ia=None, \n",
    "                                         Theta_param_list_ijab=theta_ijab,\n",
    "                                         ia_first=True)\n",
    "\n",
    "\n",
    "    VQE_exp_LCU_lin_alg = VQE_Experiment_LCU_UP_lin_alg(anti_commuting_sets,\n",
    "                 ansatz_cirq_circuit,\n",
    "                 N_QUBITS,                     # <--- NOTE THIS\n",
    "                 N_indices_dict=None)#{2:1, 3:1}) \n",
    "    \n",
    "    energy = VQE_exp_LCU_lin_alg.Calc_Energy()\n",
    "    return np.array(energy)[0][0].real"
   ]
  },
  {
   "cell_type": "code",
   "execution_count": 32,
   "metadata": {},
   "outputs": [
    {
     "data": {
      "text/plain": [
       "-0.7438313491440823"
      ]
     },
     "execution_count": 32,
     "metadata": {},
     "output_type": "execute_result"
    }
   ],
   "source": [
    "GIVE_ENERGY_lin_alg(theta_ijab_random_input)"
   ]
  },
  {
   "cell_type": "code",
   "execution_count": null,
   "metadata": {},
   "outputs": [],
   "source": []
  },
  {
   "cell_type": "code",
   "execution_count": 22,
   "metadata": {},
   "outputs": [
    {
     "data": {
      "text/plain": [
       "-0.33426075222865764"
      ]
     },
     "execution_count": 22,
     "metadata": {},
     "output_type": "execute_result"
    }
   ],
   "source": [
    "GIVE_ENERGY_lin_alg([3.92699083])"
   ]
  },
  {
   "cell_type": "markdown",
   "metadata": {},
   "source": [
    "## Optimizing"
   ]
  },
  {
   "cell_type": "code",
   "execution_count": 33,
   "metadata": {},
   "outputs": [],
   "source": [
    "from quchem.Scipy_Optimizer import _minimize_Adam, Optimizer"
   ]
  },
  {
   "cell_type": "code",
   "execution_count": 34,
   "metadata": {},
   "outputs": [
    {
     "name": "stdout",
     "output_type": "stream",
     "text": [
      "0: Input_to_Funct: [0.37614004]: Output: -0.7872461766255278\n",
      "1: Input_to_Funct: [0.29255336]: Output: -0.8684184036348072\n",
      "2: Input_to_Funct: [0.12538001]: Output: -1.000542583720395\n",
      "3: Input_to_Funct: [-0.20896669]: Output: -1.0999279951410021\n",
      "4: Input_to_Funct: [-0.20896669]: Output: -1.0999279951410021\n",
      "5: Input_to_Funct: [-0.20896669]: Output: -1.0999279951410021\n",
      "6: Input_to_Funct: [-0.16717335]: Output: -1.101057040449003\n",
      "7: Input_to_Funct: [-0.16717335]: Output: -1.101057040449003\n",
      "8: Input_to_Funct: [-0.17762168]: Output: -1.1011480862900713\n",
      "9: Input_to_Funct: [-0.17762168]: Output: -1.1011480862900713\n",
      "10: Input_to_Funct: [-0.1750096]: Output: -1.1011486628394425\n",
      "11: Input_to_Funct: [-0.17631564]: Output: -1.1011503194507832\n",
      "12: Input_to_Funct: [-0.17631564]: Output: -1.1011503194507832\n",
      "13: Input_to_Funct: [-0.17631564]: Output: -1.1011503194507832\n",
      "14: Input_to_Funct: [-0.17615239]: Output: -1.1011503250962984\n",
      "15: Input_to_Funct: [-0.17623401]: Output: -1.1011503298707561\n",
      "16: Input_to_Funct: [-0.17623401]: Output: -1.1011503298707561\n",
      "17: Input_to_Funct: [-0.17621361]: Output: -1.1011503301016197\n",
      "18: Input_to_Funct: [-0.17622381]: Output: -1.1011503301048946\n",
      "19: Input_to_Funct: [-0.17621871]: Output: -1.101150330132934\n",
      "20: Input_to_Funct: [-0.17621871]: Output: -1.101150330132934\n",
      "21: Input_to_Funct: [-0.17621871]: Output: -1.101150330132934\n",
      "22: Input_to_Funct: [-0.17621871]: Output: -1.101150330132934\n",
      "23: Input_to_Funct: [-0.17621871]: Output: -1.101150330132934\n",
      "24: Input_to_Funct: [-0.17621887]: Output: -1.1011503301329562\n",
      "25: Input_to_Funct: [-0.17621887]: Output: -1.1011503301329562\n",
      "26: Input_to_Funct: [-0.17621887]: Output: -1.1011503301329562\n",
      "27: Input_to_Funct: [-0.17621885]: Output: -1.1011503301329566\n",
      "28: Input_to_Funct: [-0.17621885]: Output: -1.1011503301329566\n",
      "Optimization terminated successfully.\n",
      "         Current function value: -1.101150\n",
      "         Iterations: 30\n",
      "         Function evaluations: 61\n",
      "Optimization terminated successfully.\n"
     ]
    },
    {
     "data": {
      "image/png": "[encoded data removed]",
      "text/plain": [
       "<Figure size 432x288 with 1 Axes>"
      ]
     },
     "metadata": {
      "needs_background": "light"
     },
     "output_type": "display_data"
    }
   ],
   "source": [
    "GG = Optimizer(GIVE_ENERGY_lin_alg,\n",
    "                   [theta_ijab_random_input],\n",
    "                   args=(),\n",
    "                   method='Nelder-Mead',\n",
    "                   jac=None,\n",
    "                   hess=None,\n",
    "                   hessp=None,\n",
    "                      bounds=None,\n",
    "                   constraints=None,\n",
    "                   tol=1e-8, \n",
    "                   display_convergence_message=True,\n",
    "                   display_steps=True)\n",
    "GG.get_env(100)\n",
    "GG.plot_convergence()\n",
    "plt.show()"
   ]
  },
  {
   "cell_type": "code",
   "execution_count": 35,
   "metadata": {},
   "outputs": [],
   "source": [
    "### optimizer\n",
    "\n",
    "def calc_gradient_ADAM(theta_ijab_list):\n",
    "    \n",
    "    grad_list=[]\n",
    "    \n",
    "    for index, theta in enumerate(theta_ijab_list):\n",
    "        \n",
    "        new_theta_list = theta_ijab_list.copy()\n",
    "        new_theta_list[index] = theta + np.pi/4\n",
    "        \n",
    "        Obs_PLUS = GIVE_ENERGY_lin_alg(new_theta_list)\n",
    "               \n",
    "        \n",
    "        new_theta_list[index] = theta - np.pi/4\n",
    "        Obs_MINUS = GIVE_ENERGY_lin_alg(new_theta_list)\n",
    "        \n",
    "        gradient = Obs_PLUS - Obs_MINUS\n",
    "        \n",
    "        grad_list.append(gradient)\n",
    "        \n",
    "\n",
    "    return np.array(grad_list)"
   ]
  },
  {
   "cell_type": "code",
   "execution_count": 36,
   "metadata": {},
   "outputs": [
    {
     "name": "stdout",
     "output_type": "stream",
     "text": [
      "0: Input_to_Funct: [0.31793338]: Output: -0.8446665574715108\n",
      "1: Input_to_Funct: [0.21834479]: Output: -0.9326661199616655\n",
      "2: Input_to_Funct: [0.11984276]: Output: -1.004095272297188\n",
      "3: Input_to_Funct: [0.02357453]: Output: -1.0562389785451085\n",
      "4: Input_to_Funct: [-0.0686847]: Output: -1.088016288208225\n",
      "5: Input_to_Funct: [-0.15445301]: Output: -1.1006102448020803\n",
      "6: Input_to_Funct: [-0.23070436]: Output: -1.0977688060252215\n",
      "7: Input_to_Funct: [-0.29440606]: Output: -1.0852978154206099\n",
      "8: Input_to_Funct: [-0.34329296]: Output: -1.0696181582821345\n",
      "9: Input_to_Funct: [-0.37643274]: Output: -1.0560522635749112\n",
      "10: Input_to_Funct: [-0.39425446]: Output: -1.0477993828764924\n",
      "11: Input_to_Funct: [-0.39816219]: Output: -1.0459016643530537\n",
      "12: Input_to_Funct: [-0.39007064]: Output: -1.0497961910388285\n",
      "13: Input_to_Funct: [-0.3720724]: Output: -1.0579702866142688\n",
      "14: Input_to_Funct: [-0.34626682]: Output: -1.0684965820562797\n",
      "15: Input_to_Funct: [-0.31470091]: Output: -1.0794238540393222\n",
      "16: Input_to_Funct: [-0.27936567]: Output: -1.0890624216312355\n",
      "17: Input_to_Funct: [-0.2422054]: Output: -1.0961928533169925\n",
      "18: Input_to_Funct: [-0.20511194]: Output: -1.1001987453366526\n",
      "19: Input_to_Funct: [-0.16988739]: Output: -1.1011046232183979\n",
      "20: Input_to_Funct: [-0.13817239]: Output: -1.0995006522543764\n",
      "21: Input_to_Funct: [-0.11135231]: Output: -1.0963594806560057\n",
      "22: Input_to_Funct: [-0.09046613]: Output: -1.0927863835142215\n",
      "23: Input_to_Funct: [-0.07614482]: Output: -1.0897695300256152\n",
      "24: Input_to_Funct: [-0.06859475]: Output: -1.0879943897153876\n",
      "25: Input_to_Funct: [-0.06762496]: Output: -1.087757164687269\n",
      "26: Input_to_Funct: [-0.07270399]: Output: -1.0889763122196294\n",
      "27: Input_to_Funct: [-0.08302922]: Output: -1.0912771316569478\n",
      "28: Input_to_Funct: [-0.09759624]: Output: -1.094116690401243\n",
      "29: Input_to_Funct: [-0.11526294]: Output: -1.096919028875857\n",
      "30: Input_to_Funct: [-0.13480918]: Output: -1.0991962808146336\n",
      "31: Input_to_Funct: [-0.15499532]: Output: -1.100636818488327\n",
      "32: Input_to_Funct: [-0.1746225]: Output: -1.1011474245436768\n",
      "33: Input_to_Funct: [-0.19259473]: Output: -1.1008445912196034\n",
      "34: Input_to_Funct: [-0.20797888]: Output: -1.1000005997966447\n",
      "35: Input_to_Funct: [-0.22005616]: Output: -1.0989606035871402\n",
      "36: Input_to_Funct: [-0.22835809]: Output: -1.0980535088522965\n",
      "37: Input_to_Funct: [-0.2326824]: Output: -1.0975190900902405\n",
      "38: Input_to_Funct: [-0.2330881]: Output: -1.0974667765492705\n",
      "39: Input_to_Funct: [-0.2298726]: Output: -1.0978711623946924\n",
      "40: Input_to_Funct: [-0.22353526]: Output: -1.098599511180948\n",
      "41: Input_to_Funct: [-0.2147322]: Output: -1.0994599351171468\n",
      "42: Input_to_Funct: [-0.20422603]: Output: -1.100256190075625\n",
      "43: Input_to_Funct: [-0.19283287]: Output: -1.1008356353985889\n",
      "44: Input_to_Funct: [-0.18136885]: Output: -1.101120089552821\n",
      "45: Input_to_Funct: [-0.17059831]: Output: -1.1011143110847827\n",
      "46: Input_to_Funct: [-0.1611865]: Output: -1.1008926972236162\n",
      "47: Input_to_Funct: [-0.15366029]: Output: -1.1005701945923394\n",
      "48: Input_to_Funct: [-0.14838002]: Output: -1.1002669045400102\n",
      "49: Input_to_Funct: [-0.14552484]: Output: -1.1000764614776584\n",
      "50: Input_to_Funct: [-0.14509206]: Output: -1.1000459755263248\n",
      "51: Input_to_Funct: [-0.14690987]: Output: -1.1001711621044867\n",
      "52: Input_to_Funct: [-0.15066114]: Output: -1.1004057186265528\n",
      "53: Input_to_Funct: [-0.15591578]: Output: -1.1006803883113305\n",
      "54: Input_to_Funct: [-0.16216881]: Output: -1.1009252658282696\n",
      "55: Input_to_Funct: [-0.16888122]: Output: -1.1010889420616317\n",
      "56: Input_to_Funct: [-0.17552094]: Output: -1.101149774765521\n",
      "57: Input_to_Funct: [-0.18160121]: Output: -1.1011172991013654\n",
      "58: Input_to_Funct: [-0.18671367]: Output: -1.101024751939561\n",
      "59: Input_to_Funct: [-0.19055375]: Output: -1.100916047744155\n",
      "60: Input_to_Funct: [-0.19293677]: Output: -1.1008316870597064\n",
      "61: Input_to_Funct: [-0.19380379]: Output: -1.100797783081323\n",
      "62: Input_to_Funct: [-0.1932172]: Output: -1.1008209087898326\n",
      "63: Input_to_Funct: [-0.19134729]: Output: -1.1008893931755463\n",
      "64: Input_to_Funct: [-0.18845127]: Output: -1.100979728521912\n",
      "65: Input_to_Funct: [-0.18484685]: Output: -1.1010654531203456\n",
      "66: Input_to_Funct: [-0.18088298]: Output: -1.101125526306487\n",
      "67: Input_to_Funct: [-0.17690983]: Output: -1.1011497857427595\n",
      "68: Input_to_Funct: [-0.17325066]: Output: -1.1011402848194414\n",
      "69: Input_to_Funct: [-0.17017756]: Output: -1.1011087166158418\n",
      "70: Input_to_Funct: [-0.16789293]: Output: -1.1010712923846022\n",
      "71: Input_to_Funct: [-0.16651786]: Output: -1.1010430302861656\n",
      "72: Input_to_Funct: [-0.16608803]: Output: -1.1010333117060906\n",
      "73: Input_to_Funct: [-0.16655712]: Output: -1.1010438971316776\n",
      "74: Input_to_Funct: [-0.16780674]: Output: -1.1010696475962267\n",
      "75: Input_to_Funct: [-0.16966188]: Output: -1.1011013092840987\n",
      "76: Input_to_Funct: [-0.17190999]: Output: -1.1011291610770646\n",
      "77: Input_to_Funct: [-0.17432207]: Output: -1.1011462279668818\n",
      "78: Input_to_Funct: [-0.17667358]: Output: -1.1011500943646901\n",
      "79: Input_to_Funct: [-0.17876365]: Output: -1.1011429462015758\n",
      "80: Input_to_Funct: [-0.18043088]: Output: -1.1011301017878914\n",
      "81: Input_to_Funct: [-0.18156452]: Output: -1.101117747942335\n",
      "82: Input_to_Funct: [-0.18211047]: Output: -1.1011107530185718\n",
      "83: Input_to_Funct: [-0.18207172]: Output: -1.1011112718242515\n",
      "84: Input_to_Funct: [-0.18150373]: Output: -1.1011184847853055\n",
      "85: Input_to_Funct: [-0.18050529]: Output: -1.1011293807802092\n",
      "86: Input_to_Funct: [-0.17920624]: Output: -1.1011401544929247\n",
      "87: Input_to_Funct: [-0.17775315]: Output: -1.1011476460304341\n",
      "88: Input_to_Funct: [-0.17629455]: Output: -1.1011503235988007\n",
      "89: Input_to_Funct: [-0.17496704]: Output: -1.101148543399064\n",
      "90: Input_to_Funct: [-0.17388346]: Output: -1.1011441114638167\n",
      "91: Input_to_Funct: [-0.17312426]: Output: -1.1011394110837271\n",
      "92: Input_to_Funct: [-0.17273241]: Output: -1.1011364707689821\n",
      "93: Input_to_Funct: [-0.17271232]: Output: -1.10113631059425\n",
      "94: Input_to_Funct: [-0.17303249]: Output: -1.1011387538636885\n",
      "95: Input_to_Funct: [-0.17363137]: Output: -1.1011426964787363\n",
      "96: Input_to_Funct: [-0.17442571]: Output: -1.1011466639981091\n",
      "97: Input_to_Funct: [-0.17532033]: Output: -1.1011494096118932\n",
      "98: Input_to_Funct: [-0.17621839]: Output: -1.1011503301327115\n",
      "99: Input_to_Funct: [-0.17703096]: Output: -1.1011495781508465\n",
      "Warning: Maximum number of iterations has been exceeded.\n",
      "Maximum number of iterations has been exceeded.\n"
     ]
    },
    {
     "data": {
      "image/png": "[encoded data removed]",
      "text/plain": [
       "<Figure size 432x288 with 1 Axes>"
      ]
     },
     "metadata": {
      "needs_background": "light"
     },
     "output_type": "display_data"
    }
   ],
   "source": [
    "custom_optimizer_DICT = {'learning_rate': 0.1, 'beta_1': 0.9, 'beta_2': 0.999, 'epsilon': 1e-8,\n",
    "                           'delta': 1e-8, 'maxfev': 15000}\n",
    "\n",
    "GG = Optimizer(GIVE_ENERGY_lin_alg,\n",
    "                   theta_ijab_random_input,\n",
    "                   args=(),\n",
    "                   method=_minimize_Adam,\n",
    "                   jac=calc_gradient_ADAM,\n",
    "                   hess=None,\n",
    "                   hessp=None,\n",
    "                      bounds=None,\n",
    "                   constraints=None,\n",
    "                   tol=1e-20, \n",
    "                   display_convergence_message=True,\n",
    "                   display_steps=True, \n",
    "                   custom_optimizer_DICT=custom_optimizer_DICT)\n",
    "GG.get_env(100)\n",
    "GG.plot_convergence()\n",
    "plt.show()"
   ]
  },
  {
   "cell_type": "markdown",
   "metadata": {},
   "source": [
    "# Reduced Ansatz"
   ]
  },
  {
   "cell_type": "markdown",
   "metadata": {},
   "source": [
    "\n",
    "From PHYS. REV. X, **8**, 031022 (2018):\n",
    "\n",
    "$$U = e^{-i \\theta Y_{0} X_{1}}$$\n",
    "\n",
    "- when acting on $| 10 \\rangle_{HF-BK-STATE}$ \n",
    "\n",
    "$$U | \\psi_{HF}\\rangle = | \\psi_{UCCSD}\\rangle$$\n",
    "\n",
    "overall we get:\n",
    "\n",
    "$\\begin{aligned} U|01\\rangle &=\\left(\\cos (\\theta) I-i \\sin (\\theta) Y_{0} X_{1}\\right)|10\\rangle \\\\ &=\\cos (\\theta)|10\\rangle-\\sin (\\theta)|11\\rangle \\end{aligned}$\n",
    "\n",
    "- note $Y|1\\rangle = -i|1\\rangle$\n",
    "\n",
    "to do this in Q.C the following circuit is employed:"
   ]
  },
  {
   "cell_type": "code",
   "execution_count": 27,
   "metadata": {},
   "outputs": [
    {
     "data": {
      "text/html": [
       "<pre style=\"overflow: auto; white-space: pre;\">0: ───X───Rx(0.5π)───@──────────────@───Rx(-0.5π)───\n",
       "                     │              │\n",
       "1: ───H──────────────X───Rz(0.2π)───X───H───────────</pre>"
      ],
      "text/plain": [
       "0: ───X───Rx(0.5π)───@──────────────@───Rx(-0.5π)───\n",
       "                     │              │\n",
       "1: ───H──────────────X───Rz(0.2π)───X───H───────────"
      ]
     },
     "execution_count": 27,
     "metadata": {},
     "output_type": "execute_result"
    }
   ],
   "source": [
    "from quchem.Simulating_Quantum_Circuit import *\n",
    "from quchem.Ansatz_Generator_Functions import *\n",
    "from openfermion.ops import QubitOperator\n",
    "\n",
    "def H2_ansatz_BK(theta):\n",
    "    \n",
    "    HF_circ = [cirq.X.on(cirq.LineQubit(0))]\n",
    "    full_exp_circ_obj = full_exponentiated_PauliWord_circuit(QubitOperator('Y0 X1', -1j), theta)\n",
    "        \n",
    "    UCCSD_circ = cirq.Circuit(cirq.decompose_once((full_exp_circ_obj(*cirq.LineQubit.range(full_exp_circ_obj.num_qubits())))))\n",
    "    full_circuit = cirq.Circuit([*HF_circ, *UCCSD_circ.all_operations()])\n",
    "    \n",
    "    return full_circuit\n",
    "    \n",
    "circuit_form = H2_ansatz_BK(np.pi/10)    \n",
    "circuit_form"
   ]
  },
  {
   "cell_type": "markdown",
   "metadata": {},
   "source": []
  },
  {
   "cell_type": "code",
   "execution_count": null,
   "metadata": {},
   "outputs": [],
   "source": []
  },
  {
   "cell_type": "code",
   "execution_count": null,
   "metadata": {},
   "outputs": [],
   "source": []
  },
  {
   "cell_type": "code",
   "execution_count": null,
   "metadata": {},
   "outputs": [],
   "source": []
  },
  {
   "cell_type": "code",
   "execution_count": null,
   "metadata": {},
   "outputs": [],
   "source": []
  },
  {
   "cell_type": "code",
   "execution_count": null,
   "metadata": {},
   "outputs": [],
   "source": []
  },
  {
   "cell_type": "code",
   "execution_count": null,
   "metadata": {},
   "outputs": [],
   "source": []
  },
  {
   "cell_type": "code",
   "execution_count": null,
   "metadata": {},
   "outputs": [],
   "source": []
  },
  {
   "cell_type": "code",
   "execution_count": null,
   "metadata": {},
   "outputs": [],
   "source": []
  },
  {
   "cell_type": "code",
   "execution_count": 28,
   "metadata": {},
   "outputs": [
    {
     "ename": "NameError",
     "evalue": "name 'printt' is not defined",
     "output_type": "error",
     "traceback": [
      "\u001b[0;31m---------------------------------------------------------------------------\u001b[0m",
      "\u001b[0;31mNameError\u001b[0m                                 Traceback (most recent call last)",
      "\u001b[0;32m<ipython-input-28-81227d7e9a02>\u001b[0m in \u001b[0;36m<module>\u001b[0;34m\u001b[0m\n\u001b[0;32m----> 1\u001b[0;31m \u001b[0mprintt\u001b[0m\u001b[0;34m(\u001b[0m\u001b[0;34m'old stuff below!'\u001b[0m\u001b[0;34m)\u001b[0m\u001b[0;34m\u001b[0m\u001b[0;34m\u001b[0m\u001b[0m\n\u001b[0m",
      "\u001b[0;31mNameError\u001b[0m: name 'printt' is not defined"
     ]
    }
   ],
   "source": [
    "printt('old stuff below!')"
   ]
  },
  {
   "cell_type": "code",
   "execution_count": null,
   "metadata": {},
   "outputs": [],
   "source": [
    "Qubit_Hamiltonian_reduction = BK_Qubit_Reduction(QubitHamiltonian,\n",
    "                             Hamilt.molecule.n_electrons,\n",
    "                             Hamilt.molecule.n_qubits)\n",
    "\n",
    "list_of_qubit_indices_to_remove = [1,3]\n",
    "\n",
    "# manual removal\n",
    "# list_of_correction_vals=[1,1]\n",
    "# reduced_Qubit_Hamiltonian = Qubit_Hamiltonian_reduction.Remove_indices_from_Hamiltonian_manual(list_of_qubit_indices_to_remove, list_of_correction_vals)\n",
    "# reduced_Qubit_Hamiltonian\n",
    "\n",
    "new_BK_state = Qubit_Hamiltonian_reduction.New_BK_HF_state(list_of_qubit_indices_to_remove)\n",
    "print(new_BK_state)\n",
    "\n",
    "reduced_Qubit_Hamiltonian = Qubit_Hamiltonian_reduction.Remove_indices_from_Hamiltonian(list_of_qubit_indices_to_remove)\n",
    "reduced_Qubit_Hamiltonian"
   ]
  },
  {
   "cell_type": "code",
   "execution_count": null,
   "metadata": {},
   "outputs": [],
   "source": [
    "qubit_re_label_dict, reduced_RE_LABELLED_Qubit_Hamiltonian = Qubit_Hamiltonian_reduction.Re_label_Hamiltonian(reduced_Qubit_Hamiltonian)\n",
    "reduced_RE_LABELLED_Qubit_Hamiltonian"
   ]
  },
  {
   "cell_type": "code",
   "execution_count": null,
   "metadata": {},
   "outputs": [],
   "source": [
    "def Find_Qubits_only_acted_on_by_I_or_Z(N_system_Qubits, qubit_operator_list):\n",
    "    \n",
    "    #qubit_operator_list is intended to be either list of ia_CC_terms or ijab_CC_terms\n",
    "    \n",
    "    \n",
    "    # Generate list of qubits\n",
    "    qubits_to_remove = np.arange(1,N_system_Qubits,1)\n",
    "    \n",
    "    for term in qubit_operator_list:\n",
    "        for op in term:\n",
    "            for PauliWord, const in op.terms.items():\n",
    "                qubitNos, PauliStrs = list(zip(*PauliWord))\n",
    "                \n",
    "                # find where non I or Z terms are\n",
    "                indices_to_remove = np.where(np.isin(PauliStrs, ['X','Y']) == True)[0]\n",
    "                qubitNo_to_remove = np.take(qubitNos, indices_to_remove)\n",
    "                \n",
    "                i_remove = np.where(np.isin(qubits_to_remove, qubitNo_to_remove) == True)[0]\n",
    "                qubits_to_remove = np.delete(qubits_to_remove, i_remove)\n",
    "                \n",
    "    return qubits_to_remove\n",
    "    "
   ]
  },
  {
   "cell_type": "code",
   "execution_count": null,
   "metadata": {},
   "outputs": [],
   "source": [
    "Find_Qubits_only_acted_on_by_I_or_Z(4,Qubit_Op_list_Second_Quant_CC_Ops_ijab)"
   ]
  },
  {
   "cell_type": "code",
   "execution_count": null,
   "metadata": {},
   "outputs": [],
   "source": [
    "Qubit_Op_list_Second_Quant_CC_Ops_ia"
   ]
  },
  {
   "cell_type": "code",
   "execution_count": null,
   "metadata": {},
   "outputs": [],
   "source": [
    "Remove_Qubit_Terms(4, Qubit_Op_list_Second_Quant_CC_Ops_ia, Qubit_Op_list_Second_Quant_CC_Ops_ijab)"
   ]
  },
  {
   "cell_type": "code",
   "execution_count": null,
   "metadata": {},
   "outputs": [],
   "source": [
    "x=np.array(['X','X','Z', 'Y','Y'])\n",
    "np.where( x== 1 or x==3)"
   ]
  },
  {
   "cell_type": "code",
   "execution_count": null,
   "metadata": {},
   "outputs": [],
   "source": [
    "np.isin(x, ['X','Y'])"
   ]
  },
  {
   "cell_type": "markdown",
   "metadata": {},
   "source": [
    "# New FCI energy"
   ]
  },
  {
   "cell_type": "code",
   "execution_count": null,
   "metadata": {},
   "outputs": [],
   "source": [
    "new_Molecular_H_MATRIX = Hamilt.Get_sparse_Qubit_Hamiltonian_matrix(reduced_RE_LABELLED_Qubit_Hamiltonian)\n",
    "\n",
    "\n",
    "from scipy.linalg import eig\n",
    "eig_values, eig_vectors = eig(new_Molecular_H_MATRIX.todense())\n",
    "new_FCI_Energy = min(eig_values)\n",
    "\n",
    "\n",
    "print('new_FCI = ', new_FCI_Energy, 'VS old FCI:', Hamilt.molecule.fci_energy)"
   ]
  },
  {
   "cell_type": "code",
   "execution_count": null,
   "metadata": {},
   "outputs": [],
   "source": [
    "def Remove_Qubit_Terms(indicies_removed, qubit_operators_list, qubit_relabel_dict):\n",
    "    \n",
    "    # This ignores any qubit operators that contain any overlap with indicies_removed\n",
    "    \n",
    "    from openfermion.ops import QubitOperator\n",
    "    \n",
    "    new_operator_list=[]\n",
    "    for term in qubit_operators_list:\n",
    "        new_qubitOp_term = QubitOperator()\n",
    "        for op in term:\n",
    "            for PauliWord, const in op.terms.items():\n",
    "                qubitNos, PauliStrs = list(zip(*PauliWord))\n",
    "                \n",
    "                if np.isin(qubitNos, indicies_removed).any():\n",
    "                    continue\n",
    "                else:\n",
    "                    indices_to_remove = np.where(np.isin(qubitNos, indicies_removed) == True)[0]\n",
    "                    qubitNo_reduced = np.delete(qubitNos, indices_to_remove)\n",
    "                    \n",
    "                    qubitNo_relabelled = [qubit_relabel_dict[qNo] for qNo in qubitNo_reduced]\n",
    "                    new_PauliStrs = np.delete(PauliStrs, indices_to_remove)\n",
    "                    \n",
    "                    new_qubit_op = list(zip(qubitNo_relabelled, new_PauliStrs.tolist()))\n",
    "                    \n",
    "                    if qubitNo_relabelled:\n",
    "                        new_qubitOp_term+=QubitOperator(new_qubit_op, const)\n",
    "\n",
    "        if new_qubitOp_term !=  QubitOperator():\n",
    "            new_operator_list.append(new_qubitOp_term)\n",
    "    return new_operator_list\n",
    "    "
   ]
  },
  {
   "cell_type": "code",
   "execution_count": null,
   "metadata": {},
   "outputs": [],
   "source": [
    "def Remove_Qubit_Terms(indicies_removed, qubit_operators_list, qubit_relabel_dict):\n",
    "    \n",
    "    # This ignores any qubit operators that contain any overlap with indicies_removed\n",
    "    \n",
    "    from openfermion.ops import QubitOperator\n",
    "    \n",
    "    new_operator_list=[]\n",
    "    for term in qubit_operators_list:\n",
    "        new_qubitOp_term = QubitOperator()\n",
    "        for op in term:\n",
    "            for PauliWord, const in op.terms.items():\n",
    "                qubitNos, PauliStrs = list(zip(*PauliWord))\n",
    "                \n",
    "#                 if np.isin(qubitNos, indicies_removed).any():\n",
    "#                     continue\n",
    "#                 else:\n",
    "                indices_to_remove = np.where(np.isin(qubitNos, indicies_removed) == True)[0]\n",
    "                qubitNo_reduced = np.delete(qubitNos, indices_to_remove)\n",
    "\n",
    "                qubitNo_relabelled = [qubit_relabel_dict[qNo] for qNo in qubitNo_reduced]\n",
    "                new_PauliStrs = np.delete(PauliStrs, indices_to_remove)\n",
    "\n",
    "                new_qubit_op = list(zip(qubitNo_relabelled, new_PauliStrs.tolist()))\n",
    "\n",
    "#                 if qubitNo_relabelled:\n",
    "                new_qubitOp_term+=QubitOperator(new_qubit_op, const)\n",
    "\n",
    "        if new_qubitOp_term !=  QubitOperator():\n",
    "            new_operator_list.append(new_qubitOp_term)\n",
    "    return new_operator_list\n",
    "    "
   ]
  },
  {
   "cell_type": "code",
   "execution_count": null,
   "metadata": {},
   "outputs": [],
   "source": [
    "Remove_Qubit_Terms([1,3], Qubit_Op_list_Second_Quant_CC_Ops_ijab, {0:0, 2:1})"
   ]
  },
  {
   "cell_type": "code",
   "execution_count": null,
   "metadata": {},
   "outputs": [],
   "source": [
    "Qubit_Op_list_Second_Quant_CC_Ops_ia"
   ]
  },
  {
   "cell_type": "code",
   "execution_count": null,
   "metadata": {},
   "outputs": [],
   "source": [
    "Remove_Qubit_Terms([1,3], Qubit_Op_list_Second_Quant_CC_Ops_ia, {0:0, 2:1})"
   ]
  },
  {
   "cell_type": "code",
   "execution_count": null,
   "metadata": {},
   "outputs": [],
   "source": [
    "new_reduced_CC_ia = Remove_Qubit_Terms([1,3], Qubit_Op_list_Second_Quant_CC_Ops_ia, {0:0, 2:1})\n",
    "reduced_RE_LABELLED_CC_ijab =  Remove_Qubit_Terms([1,3], Qubit_Op_list_Second_Quant_CC_Ops_ijab, {0:0, 2:1})"
   ]
  },
  {
   "cell_type": "code",
   "execution_count": null,
   "metadata": {},
   "outputs": [],
   "source": [
    "test = BK_Qubit_Reduction(Qubit_Op_list_Second_Quant_CC_Ops_ijab,\n",
    "                             Hamilt.molecule.n_electrons,\n",
    "                             Hamilt.molecule.n_qubits)\n",
    "\n",
    "t = test.Remove_indices_from_Hamiltonian(list_of_qubit_indices_to_remove)\n",
    "t\n",
    "qubit_re_label_dict, rr = test.Re_label_Hamiltonian(t)\n",
    "rr"
   ]
  },
  {
   "cell_type": "code",
   "execution_count": null,
   "metadata": {},
   "outputs": [],
   "source": [
    "test = BK_Qubit_Reduction(Qubit_Op_list_Second_Quant_CC_Ops_ia,\n",
    "                             Hamilt.molecule.n_electrons,\n",
    "                             Hamilt.molecule.n_qubits)\n",
    "\n",
    "t = test.Remove_indices_from_Hamiltonian(list_of_qubit_indices_to_remove)\n",
    "t\n",
    "qubit_re_label_dict, rr = test.Re_label_Hamiltonian(t)\n",
    "rr"
   ]
  },
  {
   "cell_type": "code",
   "execution_count": null,
   "metadata": {},
   "outputs": [],
   "source": [
    "reduced_CC_ijab = Qubit_Hamiltonian_reduction.Remove_indices_from_CC_qubit_operators(Qubit_Op_list_Second_Quant_CC_Ops_ijab, list_of_qubit_indices_to_remove)\n",
    "\n",
    "print(Qubit_Op_list_Second_Quant_CC_Ops_ijab)\n",
    "\n",
    "print('removing:', list_of_qubit_indices_to_remove, 'therefore becomes:')\n",
    "\n",
    "reduced_CC_ijab"
   ]
  },
  {
   "cell_type": "code",
   "execution_count": null,
   "metadata": {},
   "outputs": [],
   "source": [
    "reduced_RE_LABELLED_CC_ijab = Qubit_Hamiltonian_reduction.Re_label_CC_qubit_operators( qubit_re_label_dict, \n",
    "                                                                   reduced_CC_ijab)\n",
    "reduced_RE_LABELLED_CC_ijab"
   ]
  },
  {
   "cell_type": "code",
   "execution_count": null,
   "metadata": {},
   "outputs": [],
   "source": [
    "reduced_CC_ia = Qubit_Hamiltonian_reduction.Remove_indices_from_CC_qubit_operators(Qubit_Op_list_Second_Quant_CC_Ops_ia, list_of_qubit_indices_to_remove)\n",
    "\n",
    "print(Qubit_Op_list_Second_Quant_CC_Ops_ia)\n",
    "\n",
    "print('removing:', list_of_qubit_indices_to_remove, 'therefore becomes:')\n",
    "\n",
    "reduced_CC_ia"
   ]
  },
  {
   "cell_type": "code",
   "execution_count": null,
   "metadata": {},
   "outputs": [],
   "source": [
    "reduced_RE_LABELLED_CC_ia = Qubit_Hamiltonian_reduction.Re_label_CC_qubit_operators( qubit_re_label_dict, \n",
    "                                                                   reduced_CC_ia)\n",
    "reduced_RE_LABELLED_CC_ia"
   ]
  },
  {
   "cell_type": "code",
   "execution_count": null,
   "metadata": {},
   "outputs": [],
   "source": [
    "from scipy.linalg import expm\n",
    "\n",
    "expm(-1j*1/2*np.eye(2))"
   ]
  },
  {
   "cell_type": "code",
   "execution_count": null,
   "metadata": {},
   "outputs": [],
   "source": [
    "Z = np.array([[1,0],[0,-1]])\n",
    "\n",
    "Z.transpose().conj().dot(expm(-1j*1/2*np.eye(2)).dot(Z))"
   ]
  },
  {
   "cell_type": "code",
   "execution_count": null,
   "metadata": {},
   "outputs": [],
   "source": [
    "H=cirq.H._unitary_()\n",
    "X=cirq.X._unitary_()\n",
    "H.dot(X.dot(H))"
   ]
  },
  {
   "cell_type": "code",
   "execution_count": null,
   "metadata": {},
   "outputs": [],
   "source": [
    "I=cirq.I._unitary_()\n",
    "Z=cirq.Z._unitary_()\n",
    "X.dot((-1*Z).dot(X))"
   ]
  },
  {
   "cell_type": "code",
   "execution_count": null,
   "metadata": {},
   "outputs": [],
   "source": [
    "Z.dot(np.eye(2).dot(Z))"
   ]
  },
  {
   "cell_type": "code",
   "execution_count": null,
   "metadata": {},
   "outputs": [],
   "source": []
  },
  {
   "cell_type": "code",
   "execution_count": null,
   "metadata": {},
   "outputs": [],
   "source": [
    "cirq.H._unitary_().dot(expm(-1j*1/2*np.array([[0,1],[1,0]])).dot(cirq.H._unitary_()))\n"
   ]
  },
  {
   "cell_type": "code",
   "execution_count": null,
   "metadata": {},
   "outputs": [],
   "source": [
    "# Remove Identity term!\n",
    "new_reduced_CC_ia= QubitOperator()\n",
    "for op in reduced_RE_LABELLED_CC_ia:\n",
    "    for PauliWord, Const in op.terms.items():\n",
    "        if len(PauliWord)>0:\n",
    "            new_reduced_CC_ia+=QubitOperator(PauliWord, Const)\n",
    "        else:\n",
    "            new_reduced_CC_ia+=QubitOperator('Z0 Z1', Const)\n",
    "new_reduced_CC_ia = list(new_reduced_CC_ia)\n",
    "new_reduced_CC_ia"
   ]
  },
  {
   "cell_type": "code",
   "execution_count": null,
   "metadata": {},
   "outputs": [],
   "source": []
  },
  {
   "cell_type": "code",
   "execution_count": null,
   "metadata": {},
   "outputs": [],
   "source": [
    "import random\n",
    "theta_ia_random_input = [random.uniform(0, 2*np.pi) for _ in range(len(new_reduced_CC_ia))]\n",
    "theta_ijab_random_input = [random.uniform(0, 2*np.pi) for _ in range(len(reduced_CC_ijab))]"
   ]
  },
  {
   "cell_type": "code",
   "execution_count": null,
   "metadata": {},
   "outputs": [],
   "source": [
    "print(new_BK_state)\n",
    "\n",
    "UCCSD_ansatz_Q_Circ_obj = Ansatz_Circuit(new_BK_state,\n",
    "                                     new_reduced_CC_ia, \n",
    "                                     reduced_RE_LABELLED_CC_ijab)\n",
    "\n",
    "UCCSD_ansatz_Q_Circ = UCCSD_ansatz_Q_Circ_obj.Get_Full_HF_UCCSD_QC(Theta_param_list_ia=theta_ia_random_input, \n",
    "                                         Theta_param_list_ijab=theta_ijab_random_input,\n",
    "                                         ia_first=True)\n",
    "UCCSD_ansatz_Q_Circ"
   ]
  },
  {
   "cell_type": "code",
   "execution_count": null,
   "metadata": {},
   "outputs": [],
   "source": []
  },
  {
   "cell_type": "code",
   "execution_count": null,
   "metadata": {},
   "outputs": [],
   "source": []
  },
  {
   "cell_type": "code",
   "execution_count": null,
   "metadata": {},
   "outputs": [],
   "source": [
    "x = [0,1,2,500,3]\n",
    "y=[1,500]\n",
    "\n",
    "list(set(x).intersection(y))"
   ]
  },
  {
   "cell_type": "code",
   "execution_count": null,
   "metadata": {},
   "outputs": [],
   "source": [
    "print(Sec_Quant_CC_ops_ia, Sec_Quant_CC_ops_ijab)"
   ]
  },
  {
   "cell_type": "code",
   "execution_count": null,
   "metadata": {},
   "outputs": [],
   "source": [
    "list_of_qubit_indices_to_remove=[1]\n",
    "\n",
    "for i in Sec_Quant_CC_ops_ia[1]:\n",
    "    for C_A_op, const in i.terms.items():\n",
    "        qubitNos, Crea_Annih = list(zip(*C_A_op))\n",
    "        indices_to_remove = np.where(np.isin(qubitNos, list_of_qubit_indices_to_remove) == True)[0]\n",
    "        new_qubitNos = np.delete(qubitNos, indices_to_remove)\n",
    "        new_Crea_Annih =   np.delete(Crea_Annih, indices_to_remove)\n",
    "        \n",
    "        new_fermi_op = list(zip(new_qubitNos.tolist(), new_Crea_Annih.tolist()))\n",
    "        \n",
    "        print(FermionOperator(new_fermi_op, const))\n",
    "        \n",
    "        "
   ]
  },
  {
   "cell_type": "code",
   "execution_count": null,
   "metadata": {},
   "outputs": [],
   "source": [
    "def Remove_fermionic_terms(indicies_removed, fermionic_operators_list, qubit_relabel_dict):\n",
    "    from openfermion.ops import FermionOperator\n",
    "    \n",
    "    new_operator_list=[]\n",
    "    for term in fermionic_operators_list:\n",
    "        new_fermi_term = FermionOperator()\n",
    "        for op in term:\n",
    "            for C_A_op, const in op.terms.items():\n",
    "                qubitNos, Crea_Annih = list(zip(*C_A_op))\n",
    "                indices_to_remove = np.where(np.isin(qubitNos, indicies_removed) == True)[0]\n",
    "                \n",
    "                qubitNo_reduced = np.delete(qubitNos, indices_to_remove)\n",
    "                qubitNo_relabelled = [qubit_relabel_dict[qNo] for qNo in qubitNo_reduced]\n",
    "                \n",
    "                new_Crea_Annih = np.delete(Crea_Annih, indices_to_remove)\n",
    "            \n",
    "                new_fermi_op = list(zip(qubitNo_relabelled, new_Crea_Annih.tolist()))\n",
    "                \n",
    "            if qubitNo_relabelled:\n",
    "                new_fermi_term+=FermionOperator(new_fermi_op, const)\n",
    "        if new_fermi_term !=  FermionOperator():\n",
    "            new_operator_list.append(new_fermi_term)\n",
    "    return new_operator_list\n",
    "    "
   ]
  },
  {
   "cell_type": "code",
   "execution_count": null,
   "metadata": {},
   "outputs": [],
   "source": [
    "Remove_fermionic_terms([1,3], Sec_Quant_CC_ops_ia, {0:0, 2:1})"
   ]
  },
  {
   "cell_type": "code",
   "execution_count": null,
   "metadata": {},
   "outputs": [],
   "source": [
    "# CC_ia_ops = Remove_fermionic_terms([1], Sec_Quant_CC_ops_ia, {0:0, 2:1, 3:2})\n",
    "# CC_ijab_ops = Remove_fermionic_terms([1], Sec_Quant_CC_ops_ijab, {0:0, 2:1, 3:2})\n",
    "# print(CC_ia_ops, CC_ijab_ops)"
   ]
  },
  {
   "cell_type": "code",
   "execution_count": null,
   "metadata": {},
   "outputs": [],
   "source": [
    "CC_ia_ops = Remove_fermionic_terms([1,3], Sec_Quant_CC_ops_ia, {0:0, 2:1})\n",
    "CC_ijab_ops = Remove_fermionic_terms([1,3], Sec_Quant_CC_ops_ijab, {0:0, 2:1})\n",
    "print(CC_ia_ops, CC_ijab_ops)"
   ]
  },
  {
   "cell_type": "code",
   "execution_count": null,
   "metadata": {},
   "outputs": [],
   "source": [
    "CC_ia_ops[0]==CC_ijab_ops[0]"
   ]
  },
  {
   "cell_type": "code",
   "execution_count": null,
   "metadata": {},
   "outputs": [],
   "source": [
    "Qubit_Op_list_Second_Quant_CC_Ops_ia, Qubit_Op_list_Second_Quant_CC_Ops_ijab = ansatz_obj.UCCSD_single_trotter_step(CC_ia_ops,\n",
    "                                                                                                                    CC_ijab_ops,\n",
    "                                                                                                                   transformation='BK')\n",
    "print(Qubit_Op_list_Second_Quant_CC_Ops_ia)\n",
    "print(Qubit_Op_list_Second_Quant_CC_Ops_ijab)"
   ]
  },
  {
   "cell_type": "code",
   "execution_count": null,
   "metadata": {},
   "outputs": [],
   "source": [
    "def new_ia_ijab_terms(n_orbitals, n_electrons, qubits_indices_KEPT, qubit_relabel_dict):\n",
    "    from openfermion.ops import FermionOperator\n",
    "\n",
    "    orbitals_index = range(0, n_orbitals)\n",
    "    alph_occs = list(set([k for k in orbitals_index if k % 2 == 0 and k < n_electrons]).intersection(qubits_indices_KEPT)) # spin up occupied\n",
    "    beta_occs = list(set([k for k in orbitals_index if k % 2 == 1 and k < n_electrons]).intersection(qubits_indices_KEPT)) # spin down UN-occupied\n",
    "    alph_noccs = list(set([k for k in orbitals_index if k % 2 == 0 and k >= n_electrons]).intersection(qubits_indices_KEPT)) # spin down occupied\n",
    "    beta_noccs = list(set([k for k in orbitals_index if k % 2 == 1 and k >= n_electrons]).intersection(qubits_indices_KEPT)) # spin up UN-occupied\n",
    "        \n",
    "    alph_occs=[qubit_relabel_dict[q_index] for q_index in alph_occs]\n",
    "    beta_occs=[qubit_relabel_dict[q_index] for q_index in beta_occs]\n",
    "    alph_noccs=[qubit_relabel_dict[q_index] for q_index in alph_noccs]\n",
    "    beta_noccs=[qubit_relabel_dict[q_index] for q_index in beta_noccs]\n",
    "    \n",
    "    tol_filter_small_terms=None\n",
    "    singles_hamiltonian=None\n",
    "    doubles_hamiltonian=None\n",
    "    double_cc_amplitudes=None\n",
    "    single_cc_amplitudes=None\n",
    "\n",
    "    Sec_Quant_CC_ia_ops = [] # second quantised single e- CC operators\n",
    "    theta_parameters_ia = []\n",
    "    Sec_Quant_CC_ijab_ops =[] # second quantised two e- CC operators\n",
    "    theta_parameters_ijab =[]\n",
    "\n",
    "\n",
    "    # SINGLE electron excitation: spin UP transition\n",
    "    for i in alph_occs:\n",
    "        for a in alph_noccs:\n",
    "            if tol_filter_small_terms:\n",
    "                if abs(singles_hamiltonian[i][a]) > tol_filter_small_terms or abs(singles_hamiltonian[a][i]) > tol_filter_small_terms:\n",
    "                    one_elec = FermionOperator(((a, 1), (i, 0))) - FermionOperator(((i, 1), (a, 0)))\n",
    "                    if single_cc_amplitudes is not None:\n",
    "                        theta_parameters_ia.append(single_cc_amplitudes[a][i])\n",
    "                    else:\n",
    "                        theta_parameters_ia.append(0)\n",
    "\n",
    "                    Sec_Quant_CC_ia_ops.append(one_elec)\n",
    "            else:\n",
    "                # NO filtering\n",
    "                one_elec = FermionOperator(((a, 1), (i, 0))) - FermionOperator(((i, 1), (a, 0)))\n",
    "                if single_cc_amplitudes is not None:\n",
    "                    theta_parameters_ia.append(single_cc_amplitudes[a][i])\n",
    "                else:\n",
    "                    theta_parameters_ia.append(0)\n",
    "\n",
    "                Sec_Quant_CC_ia_ops.append(one_elec)\n",
    "\n",
    "    # SINGLE electron excitation: spin DOWN transition\n",
    "    for i in beta_occs:\n",
    "        for a in beta_noccs:\n",
    "            if tol_filter_small_terms:\n",
    "                # uses Hamiltonian to ignore small terms!\n",
    "                if abs(singles_hamiltonian[i][a]) > tol_filter_small_terms or abs(singles_hamiltonian[a][i]) > tol_filter_small_terms:\n",
    "                    one_elec = FermionOperator(((a, 1), (i, 0))) - FermionOperator(((i, 1), (a, 0)))\n",
    "                    if single_cc_amplitudes is not None:\n",
    "                        theta_parameters_ia.append(single_cc_amplitudes[a][i])\n",
    "                    else:\n",
    "                        theta_parameters_ia.append(0)\n",
    "\n",
    "                    Sec_Quant_CC_ia_ops.append(one_elec)\n",
    "            else:\n",
    "                # NO filtering\n",
    "                one_elec = FermionOperator(((a, 1), (i, 0))) - FermionOperator(((i, 1), (a, 0)))\n",
    "                if single_cc_amplitudes is not None:\n",
    "                    theta_parameters_ia.append(single_cc_amplitudes[a][i])\n",
    "                else:\n",
    "                    theta_parameters_ia.append(0)\n",
    "\n",
    "                Sec_Quant_CC_ia_ops.append(one_elec)\n",
    "\n",
    "    # DOUBLE excitation: UP + UP\n",
    "    for i in alph_occs:\n",
    "        for j in [k for k in alph_occs if k > i]:\n",
    "            for a in alph_noccs:\n",
    "                for b in [k for k in alph_noccs if k > a]:\n",
    "\n",
    "                    if tol_filter_small_terms:\n",
    "                        # uses Hamiltonian to ignore small terms!\n",
    "                        if abs(doubles_hamiltonian[j][i][a][b]) > tol_filter_small_terms or abs(doubles_hamiltonian[b][a][i][j]) > tol_filter_small_terms:\n",
    "                            two_elec = FermionOperator(((b, 1), (a, 1), (j, 0), (i, 0))) - \\\n",
    "                                       FermionOperator(((i, 1), (j, 1), (a, 0), (b, 0)))\n",
    "                            if double_cc_amplitudes is not None:\n",
    "                                theta_parameters_ijab.append(double_cc_amplitudes[a][i][b][j])\n",
    "                            else:\n",
    "                                theta_parameters_ijab.append(0)\n",
    "                        Sec_Quant_CC_ijab_ops.append(two_elec)\n",
    "                    else:\n",
    "                        # NO filtering\n",
    "                        two_elec = FermionOperator(((b, 1), (a, 1), (j, 0), (i, 0))) - \\\n",
    "                                   FermionOperator(((i, 1), (j, 1), (a, 0), (b, 0)))\n",
    "\n",
    "                        if double_cc_amplitudes is not None:\n",
    "                            theta_parameters_ijab.append(double_cc_amplitudes[b][a][j][i])\n",
    "                        else:\n",
    "                            theta_parameters_ijab.append(0)\n",
    "\n",
    "                        Sec_Quant_CC_ijab_ops.append(two_elec)\n",
    "\n",
    "    # DOUBLE excitation: DOWN + DOWN\n",
    "    for i in beta_occs:\n",
    "        for j in [k for k in beta_occs if k > i]:\n",
    "            for a in beta_noccs:\n",
    "                for b in [k for k in beta_noccs if k > a]:\n",
    "\n",
    "                    if tol_filter_small_terms:\n",
    "                        # uses Hamiltonian to ignore small terms!\n",
    "                        if abs(doubles_hamiltonian[j][i][a][b]) > tol_filter_small_terms or abs(doubles_hamiltonian[b][a][i][j]) > tol_filter_small_terms:\n",
    "                            two_elec = FermionOperator(((b, 1), (a, 1), (j, 0), (i, 0))) - \\\n",
    "                                       FermionOperator(((i, 1), (j, 1), (a, 0), (b, 0)))\n",
    "                            if double_cc_amplitudes is not None:\n",
    "                                theta_parameters_ijab.append(double_cc_amplitudes[a][i][b][j])\n",
    "                            else:\n",
    "                                theta_parameters_ijab.append(0)\n",
    "                        Sec_Quant_CC_ijab_ops.append(two_elec)\n",
    "                    else:\n",
    "                        # NO filtering\n",
    "                        two_elec = FermionOperator(((b, 1), (a, 1), (j, 0), (i, 0))) - \\\n",
    "                                   FermionOperator(((i, 1), (j, 1), (a, 0), (b, 0)))\n",
    "\n",
    "                        if double_cc_amplitudes is not None:\n",
    "                            theta_parameters_ijab.append(double_cc_amplitudes[a][i][b][j])\n",
    "                        else:\n",
    "                            theta_parameters_ijab.append(0)\n",
    "\n",
    "                        Sec_Quant_CC_ijab_ops.append(two_elec)\n",
    "\n",
    "    # DOUBLE excitation: up + DOWN\n",
    "    for i in alph_occs:\n",
    "        for j in [k for k in beta_occs if k > i]:\n",
    "            for a in alph_noccs:\n",
    "                for b in [k for k in beta_noccs if k > a]:\n",
    "\n",
    "                    if tol_filter_small_terms:\n",
    "                        # uses Hamiltonian to ignore small terms!\n",
    "                        if abs(doubles_hamiltonian[j][i][a][b]) > tol_filter_small_terms or abs(doubles_hamiltonian[b][a][i][j]) > tol_filter_small_terms:\n",
    "                            two_elec = FermionOperator(((b, 1), (a, 1), (j, 0), (i, 0))) - \\\n",
    "                                       FermionOperator(((i, 1), (j, 1), (a, 0), (b, 0)))\n",
    "                            if double_cc_amplitudes is not None:\n",
    "                                theta_parameters_ijab.append(double_cc_amplitudes[a][i][b][j])\n",
    "                            else:\n",
    "                                theta_parameters_ijab.append(0)\n",
    "                        Sec_Quant_CC_ijab_ops.append(two_elec)\n",
    "                    else:\n",
    "                        # NO filtering\n",
    "                        two_elec = FermionOperator(((b, 1), (a, 1), (j, 0), (i, 0))) - \\\n",
    "                                   FermionOperator(((i, 1), (j, 1), (a, 0), (b, 0)))\n",
    "\n",
    "                        if double_cc_amplitudes is not None:\n",
    "                            theta_parameters_ijab.append(double_cc_amplitudes[a][i][b][j])\n",
    "                        else:\n",
    "                            theta_parameters_ijab.append(0)\n",
    "\n",
    "                        Sec_Quant_CC_ijab_ops.append(two_elec)\n",
    "\n",
    "    return Sec_Quant_CC_ia_ops, Sec_Quant_CC_ijab_ops, theta_parameters_ia, theta_parameters_ijab"
   ]
  },
  {
   "cell_type": "code",
   "execution_count": null,
   "metadata": {},
   "outputs": [],
   "source": [
    "CC_ia_ops, CC_ijab_ops, theta_ia, theta_ijab= new_ia_ijab_terms(4,2,[0,2],{0:0, 2:1})\n",
    "print(CC_ia_ops, CC_ijab_ops, theta_ia, theta_ijab)"
   ]
  },
  {
   "cell_type": "code",
   "execution_count": null,
   "metadata": {},
   "outputs": [],
   "source": [
    "Qubit_Op_list_Second_Quant_CC_Ops_ia, Qubit_Op_list_Second_Quant_CC_Ops_ijab = ansatz_obj.UCCSD_single_trotter_step(CC_ia_ops,\n",
    "                                                                                                                    CC_ijab_ops,\n",
    "                                                                                                                   transformation='BK')\n",
    "print(Qubit_Op_list_Second_Quant_CC_Ops_ia)\n",
    "print(Qubit_Op_list_Second_Quant_CC_Ops_ijab)"
   ]
  },
  {
   "cell_type": "code",
   "execution_count": null,
   "metadata": {},
   "outputs": [],
   "source": [
    "\n",
    "\n",
    "from openfermion.transforms import bravyi_kitaev\n",
    "Op1 = FermionOperator(((1, 1), (0, 0)), 1)\n",
    "Op2 = FermionOperator(((0, 1), (1, 0)), 1)\n",
    "print(Op1,Op2)\n",
    "\n",
    "overall_Op =  Op2 - Op1\n",
    "\n",
    "bravyi_kitaev(overall_Op)\n",
    "# bravyi_kitaev(Op1)"
   ]
  },
  {
   "cell_type": "markdown",
   "metadata": {},
   "source": [
    "# Ansatz"
   ]
  },
  {
   "cell_type": "markdown",
   "metadata": {},
   "source": [
    "\n",
    "From PHYS. REV. X, **8**, 031022 (2018):\n",
    "\n",
    "$$U = e^{-i \\theta Y_{0} X_{1}}$$\n",
    "\n",
    "- when acting on $| 10 \\rangle_{HF-BK-STATE}$ \n",
    "\n",
    "$$U | \\psi_{HF}\\rangle = | \\psi_{UCCSD}\\rangle$$\n",
    "\n",
    "overall we get:\n",
    "\n",
    "$\\begin{aligned} U|01\\rangle &=\\left(\\cos (\\theta) I-i \\sin (\\theta) Y_{0} X_{1}\\right)|10\\rangle \\\\ &=\\cos (\\theta)|10\\rangle-\\sin (\\theta)|11\\rangle \\end{aligned}$\n",
    "\n",
    "- note $Y|1\\rangle = -i|1\\rangle$\n",
    "\n",
    "to do this in Q.C the following circuit is employed:"
   ]
  },
  {
   "cell_type": "code",
   "execution_count": null,
   "metadata": {},
   "outputs": [],
   "source": [
    "from quchem.Simulating_Quantum_Circuit import *\n",
    "from quchem.Ansatz_Generator_Functions import *\n",
    "from openfermion.ops import QubitOperator\n",
    "\n",
    "def H2_ansatz_BK(theta):\n",
    "    \n",
    "    HF_circ = [cirq.X.on(cirq.LineQubit(0))]\n",
    "    full_exp_circ_obj = full_exponentiated_PauliWord_circuit(QubitOperator('Y0 X1', -1j), theta)\n",
    "        \n",
    "    UCCSD_circ = cirq.Circuit(cirq.decompose_once((full_exp_circ_obj(*cirq.LineQubit.range(full_exp_circ_obj.num_qubits())))))\n",
    "    full_circuit = cirq.Circuit([*HF_circ, *UCCSD_circ.all_operations()])\n",
    "    \n",
    "    return full_circuit\n",
    "    \n",
    "circuit_form = H2_ansatz_BK(np.pi/10)    \n",
    "circuit_form"
   ]
  },
  {
   "cell_type": "code",
   "execution_count": null,
   "metadata": {},
   "outputs": [],
   "source": []
  },
  {
   "cell_type": "markdown",
   "metadata": {},
   "source": [
    "# Running Example"
   ]
  },
  {
   "cell_type": "code",
   "execution_count": null,
   "metadata": {},
   "outputs": [],
   "source": [
    "from quchem.LCU_method import *"
   ]
  },
  {
   "cell_type": "code",
   "execution_count": null,
   "metadata": {},
   "outputs": [],
   "source": [
    "Hamiltonian_graph_obj = Openfermion_Hamiltonian_Graph(reduced_RE_LABELLED_Qubit_Hamiltonian)\n",
    "\n",
    "commutativity_flag = 'AC' ## <- defines relationship between sets!!!\n",
    "plot_graph = False\n",
    "Graph_colouring_strategy='largest_first'\n",
    "anti_commuting_sets = Hamiltonian_graph_obj.Get_Clique_Cover_as_QubitOp(commutativity_flag, Graph_colouring_strategy=Graph_colouring_strategy, plot_graph=plot_graph)\n",
    "anti_commuting_sets"
   ]
  },
  {
   "cell_type": "code",
   "execution_count": null,
   "metadata": {},
   "outputs": [],
   "source": [
    "print(Qubit_Op_list_Second_Quant_CC_Ops_ia)\n",
    "print(Qubit_Op_list_Second_Quant_CC_Ops_ijab)"
   ]
  },
  {
   "cell_type": "code",
   "execution_count": null,
   "metadata": {},
   "outputs": [],
   "source": [
    "print(new_reduced_CC_ia)\n",
    "print(reduced_RE_LABELLED_CC_ijab)"
   ]
  },
  {
   "cell_type": "code",
   "execution_count": null,
   "metadata": {},
   "outputs": [],
   "source": []
  },
  {
   "cell_type": "code",
   "execution_count": null,
   "metadata": {},
   "outputs": [],
   "source": []
  },
  {
   "cell_type": "code",
   "execution_count": null,
   "metadata": {},
   "outputs": [],
   "source": []
  },
  {
   "cell_type": "code",
   "execution_count": null,
   "metadata": {},
   "outputs": [],
   "source": [
    "import random\n",
    "theta_ia_random_input = [random.uniform(0, 2*np.pi) for _ in range(len(new_reduced_CC_ia))]\n",
    "theta_ijab_random_input = [random.uniform(0, 2*np.pi) for _ in range(len(reduced_RE_LABELLED_CC_ijab))]\n"
   ]
  },
  {
   "cell_type": "code",
   "execution_count": null,
   "metadata": {},
   "outputs": [],
   "source": [
    "print(new_BK_state)\n",
    "\n",
    "UCCSD_ansatz_Q_Circ_obj = Ansatz_Circuit(new_BK_state,\n",
    "                                     new_reduced_CC_ia, \n",
    "                                     reduced_RE_LABELLED_CC_ijab)\n",
    "\n",
    "UCCSD_ansatz_Q_Circ = UCCSD_ansatz_Q_Circ_obj.Get_Full_HF_UCCSD_QC(Theta_param_list_ia=theta_ia_random_input, \n",
    "                                         Theta_param_list_ijab=theta_ijab_random_input,\n",
    "                                         ia_first=True)\n",
    "UCCSD_ansatz_Q_Circ"
   ]
  },
  {
   "cell_type": "code",
   "execution_count": null,
   "metadata": {},
   "outputs": [],
   "source": [
    "# input_state = ansatz_obj.Get_BK_HF_state_in_OCC_basis()\n",
    "# print(input_state)\n",
    "\n",
    "# UCCSD_ansatz_Q_Circ_obj = Ansatz_Circuit(input_state,\n",
    "#                                      Qubit_Op_list_Second_Quant_CC_Ops_ia, \n",
    "#                                      Qubit_Op_list_Second_Quant_CC_Ops_ijab)\n",
    "\n",
    "# UCCSD_ansatz_Q_Circ =UCCSD_ansatz_Q_Circ_obj.Get_Full_HF_UCCSD_QC(Theta_param_list_ia=theta_parameters_ia, \n",
    "#                                          Theta_param_list_ijab=theta_parameters_ijab,\n",
    "#                                          ia_first=True)\n",
    "# UCCSD_ansatz_Q_Circ\n",
    "\n",
    "# N_QUBITS=4\n",
    "# def GIVE_ENERGY_lin_alg(theta_ia_ijab):\n",
    "    \n",
    "#     theta_ia= theta_ia_ijab[:(len(Qubit_Op_list_Second_Quant_CC_Ops_ia))]\n",
    "#     theta_ijab=theta_ia_ijab[(len(Qubit_Op_list_Second_Quant_CC_Ops_ia)):]\n",
    "   \n",
    "#     ansatz_cirq_circuit =UCCSD_ansatz_Q_Circ_obj.Get_Full_HF_UCCSD_QC(\n",
    "#                                         Theta_param_list_ia=theta_ia, \n",
    "#                                          Theta_param_list_ijab=theta_ijab,\n",
    "#                                          ia_first=True)\n",
    "\n",
    "#     VQE_exp_LCU_lin_alg = VQE_Experiment_LCU_UP_lin_alg(anti_commuting_sets,\n",
    "#                  ansatz_cirq_circuit,\n",
    "#                  N_QUBITS,                     # <--- NOTE THIS\n",
    "#                  N_indices_dict=None) \n",
    "    \n",
    "#     return VQE_exp_LCU_lin_alg.Calc_Energy().real"
   ]
  },
  {
   "cell_type": "code",
   "execution_count": null,
   "metadata": {},
   "outputs": [],
   "source": [
    "N_QUBITS = Hamilt.molecule.n_qubits - len(list_of_qubit_indices_to_remove)\n",
    "\n",
    "def GIVE_ENERGY_lin_alg(theta_ia_ijab):\n",
    "    \n",
    "    theta_ia= theta_ia_ijab[:len(new_reduced_CC_ia)]\n",
    "    theta_ijab=theta_ia_ijab[len(new_reduced_CC_ia):]\n",
    "    \n",
    "    ansatz_cirq_circuit = UCCSD_ansatz_Q_Circ_obj.Get_Full_HF_UCCSD_QC(\n",
    "                                        Theta_param_list_ia=theta_ia, \n",
    "                                         Theta_param_list_ijab=theta_ijab,\n",
    "                                         ia_first=True)\n",
    "\n",
    "    \n",
    "    VQE_exp_LCU_lin_alg = VQE_Experiment_LCU_UP_lin_alg(anti_commuting_sets,\n",
    "                 ansatz_cirq_circuit,\n",
    "                 N_QUBITS,                     # <--- NOTE THIS\n",
    "                 N_indices_dict=None) \n",
    "    \n",
    "    return VQE_exp_LCU_lin_alg.Calc_Energy().real"
   ]
  },
  {
   "cell_type": "code",
   "execution_count": null,
   "metadata": {},
   "outputs": [],
   "source": [
    "import random\n",
    "theta_ia_random_input = [random.uniform(0, 2*np.pi) for _ in range(len(new_reduced_CC_ia))]\n",
    "theta_ijab_random_input = [random.uniform(0, 2*np.pi) for _ in range(len(reduced_RE_LABELLED_CC_ijab))]\n",
    "\n",
    "theta_combined_random_input = [*theta_ia_random_input, *theta_ijab_random_input]"
   ]
  },
  {
   "cell_type": "code",
   "execution_count": null,
   "metadata": {},
   "outputs": [],
   "source": [
    "GIVE_ENERGY_lin_alg(theta_combined_random_input)"
   ]
  },
  {
   "cell_type": "code",
   "execution_count": null,
   "metadata": {},
   "outputs": [],
   "source": []
  },
  {
   "cell_type": "code",
   "execution_count": null,
   "metadata": {},
   "outputs": [],
   "source": [
    "### optimizer\n",
    "from quchem.Scipy_Optimizer import _minimize_Adam, Optimizer"
   ]
  },
  {
   "cell_type": "code",
   "execution_count": null,
   "metadata": {},
   "outputs": [],
   "source": [
    "def calc_gradient_ADAM(theta_ia_theta_jab_list):\n",
    "    \n",
    "    grad_list=[]\n",
    "    \n",
    "    for index, theta in enumerate(theta_ia_theta_jab_list):\n",
    "        \n",
    "        new_theta_list = theta_ia_theta_jab_list.copy()\n",
    "        new_theta_list[index] = theta + np.pi/4\n",
    "        \n",
    "        Obs_PLUS = GIVE_ENERGY_lin_alg(new_theta_list)\n",
    "               \n",
    "        \n",
    "        new_theta_list[index] = theta - np.pi/4\n",
    "        Obs_MINUS = GIVE_ENERGY_lin_alg(new_theta_list)\n",
    "        \n",
    "        gradient = Obs_PLUS - Obs_MINUS\n",
    "        \n",
    "        grad_list.append(gradient)\n",
    "        \n",
    "\n",
    "    return np.array(grad_list)"
   ]
  },
  {
   "cell_type": "code",
   "execution_count": null,
   "metadata": {},
   "outputs": [],
   "source": [
    "custom_optimizer_DICT = {'learning_rate': 0.1, 'beta_1': 0.9, 'beta_2': 0.999, 'epsilon': 1e-8,\n",
    "                           'delta': 1e-8, 'maxfev': 15000}\n",
    "\n",
    "GG = Optimizer(GIVE_ENERGY_lin_alg,\n",
    "                   theta_combined_random_input,\n",
    "                   args=(),\n",
    "                   method=_minimize_Adam,\n",
    "                   jac=calc_gradient_ADAM,\n",
    "                   hess=None,\n",
    "                   hessp=None,\n",
    "                      bounds=None,\n",
    "                   constraints=None,\n",
    "                   tol=1e-20, \n",
    "                   display_convergence_message=True,\n",
    "                   display_steps=True, \n",
    "                   custom_optimizer_DICT=custom_optimizer_DICT)\n",
    "GG.get_env(100)\n",
    "GG.plot_convergence()\n",
    "plt.show()"
   ]
  },
  {
   "cell_type": "code",
   "execution_count": null,
   "metadata": {},
   "outputs": [],
   "source": [
    "Hamilt.molecule.fci_energy"
   ]
  },
  {
   "cell_type": "code",
   "execution_count": null,
   "metadata": {},
   "outputs": [],
   "source": [
    "from quchem.Adam_Optimizer import *"
   ]
  },
  {
   "cell_type": "code",
   "execution_count": null,
   "metadata": {},
   "outputs": [],
   "source": [
    "def calc_gradient_ADAM(THETA):      \n",
    "\n",
    "    Obs_PLUS = VQE_experiment_ENERGY(THETA + np.pi/4)\n",
    "    Obs_MINUS = VQE_experiment_ENERGY(THETA - np.pi/4)\n",
    "    \n",
    "    gradient = Obs_PLUS - Obs_MINUS\n",
    "        \n",
    "    return gradient"
   ]
  },
  {
   "cell_type": "code",
   "execution_count": null,
   "metadata": {},
   "outputs": [],
   "source": [
    "X0 = random.uniform(0, 2*np.pi)\n",
    "\n",
    "opt_params, list_of_inputs, list_of_outputs = Adam_Opt(X0, VQE_experiment_ENERGY,\n",
    "                                                       calc_gradient_ADAM, \n",
    "                                                       learning_rate=0.05, \n",
    "                                                       beta_1=0.9, \n",
    "                                                       beta_2=0.999, \n",
    "                                                       epsilon=1e-8,\n",
    "                                                       max_iter=50,\n",
    "                                                       disp=True,\n",
    "                                                       tolerance=1e-3,\n",
    "                                                       store_steps=True)\n",
    "\n",
    "VQE_experiment_ENERGY(opt_params)"
   ]
  },
  {
   "cell_type": "code",
   "execution_count": null,
   "metadata": {},
   "outputs": [],
   "source": [
    "import matplotlib.pyplot as plt\n",
    "# % matplotlib inline\n",
    "plt.figure()\n",
    "plt.plot(list_of_outputs)\n",
    "plt.xlabel('iterations')\n",
    "plt.ylabel('objective function value')\n",
    "plt.show()"
   ]
  },
  {
   "cell_type": "code",
   "execution_count": null,
   "metadata": {},
   "outputs": [],
   "source": []
  },
  {
   "cell_type": "code",
   "execution_count": null,
   "metadata": {},
   "outputs": [],
   "source": []
  },
  {
   "cell_type": "code",
   "execution_count": null,
   "metadata": {},
   "outputs": [],
   "source": []
  },
  {
   "cell_type": "code",
   "execution_count": null,
   "metadata": {},
   "outputs": [],
   "source": []
  }
 ],
 "metadata": {
  "kernelspec": {
   "display_name": "Python 3",
   "language": "python",
   "name": "python3"
  },
  "language_info": {
   "codemirror_mode": {
    "name": "ipython",
    "version": 3
   },
   "file_extension": ".py",
   "mimetype": "text/x-python",
   "name": "python",
   "nbconvert_exporter": "python",
   "pygments_lexer": "ipython3",
   "version": "3.7.6"
  }
 },
 "nbformat": 4,
 "nbformat_minor": 4
}
