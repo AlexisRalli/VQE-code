{
 "cells": [
  {
   "cell_type": "code",
   "execution_count": 1,
   "metadata": {},
   "outputs": [
    {
     "data": {
      "text/plain": [
       "(-0.32760818995565577+0j) [] +\n",
       "(0.04919764587885283+0j) [X0 Z1 X2] +\n",
       "(0.04919764587885283+0j) [X0 Z1 X2 Z3] +\n",
       "(0.04919764587885283+0j) [Y0 Z1 Y2] +\n",
       "(0.04919764587885283+0j) [Y0 Z1 Y2 Z3] +\n",
       "(0.1371657293179602+0j) [Z0] +\n",
       "(0.1371657293179602+0j) [Z0 Z1] +\n",
       "(0.15542669076236065+0j) [Z0 Z1 Z2] +\n",
       "(0.15542669076236065+0j) [Z0 Z1 Z2 Z3] +\n",
       "(0.10622904488350779+0j) [Z0 Z2] +\n",
       "(0.10622904488350779+0j) [Z0 Z2 Z3] +\n",
       "(0.15660062486143395+0j) [Z1] +\n",
       "(-0.13036292044009176+0j) [Z1 Z2 Z3] +\n",
       "(0.1632676867167479+0j) [Z1 Z3] +\n",
       "(-0.13036292044009176+0j) [Z2]"
      ]
     },
     "execution_count": 1,
     "metadata": {},
     "output_type": "execute_result"
    }
   ],
   "source": [
    "from quchem.Hamiltonian_Generator_Functions import *\n",
    "from quchem.Graph import *\n",
    "### HAMILTONIAN start\n",
    "Molecule = 'H2'\n",
    "geometry = None # [('H', (0., 0., 0.)), ('H', (0., 0., 0.74))]\n",
    "basis = 'sto-3g'\n",
    "\n",
    "\n",
    "### Get Hamiltonian\n",
    "Hamilt = Hamiltonian(Molecule,\n",
    "                     run_scf=1, run_mp2=1, run_cisd=1, run_ccsd=1, run_fci=1,\n",
    "                     basis=basis,\n",
    "                     multiplicity=1,\n",
    "                     geometry=geometry)  # normally None!\n",
    "QubitHamiltonian = Hamilt.Get_Qubit_Hamiltonian(threshold=None, transformation='BK')\n",
    "### HAMILTONIAN end\n",
    "\n",
    "#####################################\n",
    "\n",
    "QubitHamiltonian"
   ]
  },
  {
   "cell_type": "code",
   "execution_count": 2,
   "metadata": {},
   "outputs": [],
   "source": [
    "from quchem.Ansatz_Generator_Functions import *\n",
    "\n",
    "\n",
    "ansatz_obj = Ansatz(Hamilt.molecule.n_electrons, Hamilt.molecule.n_qubits)\n",
    "\n",
    "\n",
    "\n",
    "Sec_Quant_CC_ops_ia, Sec_Quant_CC_ops_ijab, theta_parameters_ia, theta_parameters_ijab=ansatz_obj.Get_ia_and_ijab_terms(single_cc_amplitudes=None, \n",
    "                                                                                                             double_cc_amplitudes=None, \n",
    "                                                                                                             singles_hamiltonian=None,\n",
    "                                                                                                             doubles_hamiltonian=None, \n",
    "                                                                                                             tol_filter_small_terms = None)\n",
    "\n",
    "Qubit_Op_list_Second_Quant_CC_Ops_ia, Qubit_Op_list_Second_Quant_CC_Ops_ijab = ansatz_obj.UCCSD_single_trotter_step(Sec_Quant_CC_ops_ia,\n",
    "                                                                                                                    Sec_Quant_CC_ops_ijab,\n",
    "                                                                                                                   transformation='BK')\n",
    "full_ansatz_Q_Circ = Ansatz_Circuit(Qubit_Op_list_Second_Quant_CC_Ops_ia, Qubit_Op_list_Second_Quant_CC_Ops_ijab,\n",
    "             Hamilt.molecule.n_qubits, Hamilt.molecule.n_electrons)\n",
    "\n",
    "ansatz_cirq_circuit = full_ansatz_Q_Circ.Get_Full_HF_UCCSD_QC(theta_parameters_ia, \n",
    "                                                              theta_parameters_ijab,\n",
    "                                                              transformation='BK')\n",
    "\n",
    "# print(ansatz_cirq_circuit.to_text_diagram(transpose=True)) "
   ]
  },
  {
   "cell_type": "code",
   "execution_count": null,
   "metadata": {},
   "outputs": [],
   "source": []
  },
  {
   "cell_type": "markdown",
   "metadata": {},
   "source": [
    "LOOK at:\n",
    "\n",
    "PHYS. REV. X, **8**, 031022 (2018)"
   ]
  },
  {
   "cell_type": "code",
   "execution_count": 3,
   "metadata": {},
   "outputs": [
    {
     "data": {
      "text/plain": [
       "(-0.007739878377473919+0j) [] +\n",
       "(0.09839529175770566+0j) [X0 X1] +\n",
       "(0.09839529175770566+0j) [Y0 Y1] +\n",
       "(0.2743314586359204+0j) [Z0] +\n",
       "(0.5233114712917368+0j) [Z0 Z1] +\n",
       "(-0.2607258408801835+0j) [Z1]"
      ]
     },
     "execution_count": 3,
     "metadata": {},
     "output_type": "execute_result"
    }
   ],
   "source": [
    "new_BK = BK_Qubit_Reordering(\n",
    "                QubitHamiltonian,\n",
    "                 Qubit_Op_list_Second_Quant_CC_Ops_ia,\n",
    "                 Qubit_Op_list_Second_Quant_CC_Ops_ijab,\n",
    "                 Hamilt.molecule.n_qubits,\n",
    "                ansatz_obj.Get_BK_HF_state_in_OCC_basis(),\n",
    "                Hamilt.molecule.n_electrons)\n",
    "\n",
    "NEW_Qubit_Molecular_Hamiltonian = new_BK.Get_Reordered_Hamiltonian_2_qubits_removed()\n",
    "NEW_Qubit_Molecular_Hamiltonian"
   ]
  },
  {
   "cell_type": "code",
   "execution_count": 4,
   "metadata": {},
   "outputs": [
    {
     "data": {
      "text/plain": [
       "[0.5j [X0 Y1] +\n",
       " -0.5j [Y0 X1]]"
      ]
     },
     "execution_count": 4,
     "metadata": {},
     "output_type": "execute_result"
    }
   ],
   "source": [
    "NEW_ijab_terms = new_BK.Get_Reordered_CC_qubit_terms_2_qubits_removed() #ijab terms!\n",
    "NEW_ijab_terms"
   ]
  },
  {
   "cell_type": "markdown",
   "metadata": {},
   "source": [
    "## Ansatz"
   ]
  },
  {
   "cell_type": "code",
   "execution_count": null,
   "metadata": {},
   "outputs": [],
   "source": [
    "-1j*-1j"
   ]
  },
  {
   "cell_type": "markdown",
   "metadata": {},
   "source": [
    "\n",
    "From PHYS. REV. X, **8**, 031022 (2018):\n",
    "\n",
    "$$U = e^{-i \\theta Y_{0} X_{1}}$$\n",
    "\n",
    "- when acting on $| 01 \\rangle_{HF-BK-STATE}$ \n",
    "\n",
    "$$U | \\psi_{HF}\\rangle = | \\psi_{UCCSD}\\rangle$$\n",
    "\n",
    "overall we get:\n",
    "\n",
    "$\\begin{aligned} U|01\\rangle &=\\left(\\cos (\\theta) I-i \\sin (\\theta) Y_{0} X_{1}\\right)|10\\rangle \\\\ &=\\cos (\\theta)|10\\rangle-\\sin (\\theta)|11\\rangle \\end{aligned}$\n",
    "\n",
    "- note $Y|1\\rangle = -i|1\\rangle$\n",
    "\n",
    "to do this in Q.C the following circuit is employed:"
   ]
  },
  {
   "cell_type": "code",
   "execution_count": 5,
   "metadata": {},
   "outputs": [
    {
     "data": {
      "text/html": [
       "<pre style=\"overflow: auto; white-space: pre;\">0: ───X───Rx(0.5π)───@──────────────@───Rx(-0.5π)───\n",
       "                     │              │\n",
       "1: ───H──────────────X───Rz(0.2π)───X───H───────────</pre>"
      ],
      "text/plain": [
       "0: ───X───Rx(0.5π)───@──────────────@───Rx(-0.5π)───\n",
       "                     │              │\n",
       "1: ───H──────────────X───Rz(0.2π)───X───H───────────"
      ]
     },
     "execution_count": 5,
     "metadata": {},
     "output_type": "execute_result"
    }
   ],
   "source": [
    "from quchem.Simulating_Quantum_Circuit import *\n",
    "from quchem.Ansatz_Generator_Functions import *\n",
    "from openfermion.ops import QubitOperator\n",
    "\n",
    "def H2_ansatz_BK(theta):\n",
    "    \n",
    "    HF_circ = [cirq.X.on(cirq.LineQubit(0))]\n",
    "    full_exp_circ_obj = full_exponentiated_PauliWord_circuit(QubitOperator('Y0 X1', -1j), theta)\n",
    "        \n",
    "    UCCSD_circ = cirq.Circuit(cirq.decompose_once((full_exp_circ_obj(*cirq.LineQubit.range(full_exp_circ_obj.num_qubits())))))\n",
    "    full_circuit = cirq.Circuit([*HF_circ, *UCCSD_circ.all_operations()])\n",
    "    \n",
    "    return full_circuit\n",
    "    \n",
    "circuit_form = H2_ansatz_BK(np.pi/10)    \n",
    "circuit_form"
   ]
  },
  {
   "cell_type": "code",
   "execution_count": null,
   "metadata": {},
   "outputs": [],
   "source": [
    "from quchem.Simulating_Quantum_Circuit import *"
   ]
  },
  {
   "cell_type": "code",
   "execution_count": 10,
   "metadata": {},
   "outputs": [],
   "source": [
    "n_shots= 10000\n",
    "\n",
    "\n",
    "def VQE_experiment_ENERGY(THETA):\n",
    "    ansatz_cirq_circuit = H2_ansatz_BK(THETA)\n",
    "    VQE_exp = VQE_Experiment(NEW_Qubit_Molecular_Hamiltonian, ansatz_cirq_circuit, n_shots)\n",
    "    return VQE_exp.Calc_Energy().real"
   ]
  },
  {
   "cell_type": "code",
   "execution_count": 11,
   "metadata": {},
   "outputs": [
    {
     "data": {
      "text/plain": [
       "-1.0689424335879365"
      ]
     },
     "execution_count": 11,
     "metadata": {},
     "output_type": "execute_result"
    }
   ],
   "source": [
    "theta_val = np.pi\n",
    "\n",
    "VQE_experiment_ENERGY(theta_val)"
   ]
  },
  {
   "cell_type": "code",
   "execution_count": null,
   "metadata": {},
   "outputs": [],
   "source": []
  },
  {
   "cell_type": "code",
   "execution_count": 12,
   "metadata": {},
   "outputs": [],
   "source": [
    "import random\n",
    "\n",
    "theta_random_input = random.uniform(0, 2*np.pi) "
   ]
  },
  {
   "cell_type": "code",
   "execution_count": 13,
   "metadata": {},
   "outputs": [
    {
     "name": "stdout",
     "output_type": "stream",
     "text": [
      "0: Input_to_Funct: [3.92711139]: Output: -0.7227906255807615\n",
      "1: Input_to_Funct: [3.49076568]: Output: -1.0693956350062188\n",
      "2: Input_to_Funct: [3.27259283]: Output: -1.097274226069493\n",
      "3: Input_to_Funct: [3.27259283]: Output: -1.0994670210654918\n",
      "4: Input_to_Funct: [3.32713604]: Output: -1.1018196666239275\n",
      "5: Input_to_Funct: [3.32713604]: Output: -1.100381901752813\n",
      "6: Input_to_Funct: [3.32713604]: Output: -1.102956689114011\n",
      "7: Input_to_Funct: [3.32031814]: Output: -1.1013256187878377\n",
      "8: Input_to_Funct: [3.32372709]: Output: -1.0990899851848681\n",
      "9: Input_to_Funct: [3.32713604]: Output: -1.104564225643698\n",
      "10: Input_to_Funct: [3.32713604]: Output: -1.0999974945336968\n",
      "11: Input_to_Funct: [3.32713604]: Output: -1.101790553130738\n",
      "12: Input_to_Funct: [3.32713604]: Output: -1.10112763429328\n",
      "13: Input_to_Funct: [3.32756216]: Output: -1.103815328458566\n",
      "14: Input_to_Funct: [3.32756216]: Output: -1.1008598516644967\n",
      "15: Input_to_Funct: [3.32756216]: Output: -1.1029299445905587\n",
      "16: Input_to_Funct: [3.32756216]: Output: -1.1018007971550707\n",
      "17: Input_to_Funct: [3.32758879]: Output: -1.0999267453213672\n",
      "18: Input_to_Funct: [3.32758879]: Output: -1.1031916856468893\n",
      "19: Input_to_Funct: [3.32760211]: Output: -1.1025944123134959\n",
      "20: Input_to_Funct: [3.32760211]: Output: -1.1065038498673319\n",
      "21: Input_to_Funct: [3.32760211]: Output: -1.1010474729382869\n",
      "22: Input_to_Funct: [3.32760211]: Output: -1.1023987239741322\n",
      "23: Input_to_Funct: [3.32760211]: Output: -1.1015885030347206\n",
      "24: Input_to_Funct: [3.32760211]: Output: -1.1030048464330502\n",
      "25: Input_to_Funct: [3.32760211]: Output: -1.1036511777426874\n",
      "26: Input_to_Funct: [3.32760211]: Output: -1.1030424803884862\n",
      "27: Input_to_Funct: [3.32760211]: Output: -1.1022603260567914\n",
      "28: Input_to_Funct: [3.32760211]: Output: -1.0999133270764005\n",
      "29: Input_to_Funct: [3.32760211]: Output: -1.1007770469382754\n",
      "30: Input_to_Funct: [3.32760211]: Output: -1.1024043173872822\n",
      "31: Input_to_Funct: [3.32760211]: Output: -1.1010909973001282\n",
      "32: Input_to_Funct: [3.32760211]: Output: -1.098112631619513\n",
      "33: Input_to_Funct: [3.32760211]: Output: -1.1004726096623552\n",
      "34: Input_to_Funct: [3.32760211]: Output: -1.102841180682397\n",
      "35: Input_to_Funct: [3.32760211]: Output: -1.0970401752806973\n",
      "36: Input_to_Funct: [3.32760211]: Output: -1.0992504131767222\n",
      "37: Input_to_Funct: [3.32760211]: Output: -1.1014969130207302\n",
      "38: Input_to_Funct: [3.32760211]: Output: -1.098695923690801\n",
      "39: Input_to_Funct: [3.32760211]: Output: -1.102533454627597\n",
      "40: Input_to_Funct: [3.32760211]: Output: -1.102363258000667\n",
      "41: Input_to_Funct: [3.32760211]: Output: -1.0972449508388649\n",
      "42: Input_to_Funct: [3.32760211]: Output: -1.1004009499172613\n",
      "43: Input_to_Funct: [3.32760211]: Output: -1.1030487504782496\n",
      "44: Input_to_Funct: [3.32760211]: Output: -1.1019093590184288\n",
      "45: Input_to_Funct: [3.32760211]: Output: -1.1027054943126386\n",
      "46: Input_to_Funct: [3.32760211]: Output: -1.0980535166921352\n",
      "47: Input_to_Funct: [3.32760211]: Output: -1.1013481605598192\n",
      "48: Input_to_Funct: [3.32760211]: Output: -1.1024955462706703\n",
      "Warning: Maximum number of iterations has been exceeded.\n",
      "Reason for termination is Maximum number of iterations has been exceeded.\n"
     ]
    },
    {
     "data": {
      "image/png": "[encoded data removed]",
      "text/plain": [
       "<Figure size 432x288 with 1 Axes>"
      ]
     },
     "metadata": {
      "needs_background": "light"
     },
     "output_type": "display_data"
    }
   ],
   "source": [
    "### optimizer\n",
    "from quchem.Scipy_Optimizer import *\n",
    "\n",
    "GG = Optimizer(VQE_experiment_ENERGY, theta_random_input, 'Nelder-Mead', store_values=True, display_iter_steps=True,\n",
    "               tol=1e-5,\n",
    "               display_convergence_message=True)\n",
    "GG.get_env(50)\n",
    "GG.plot_convergence()\n",
    "plt.show()"
   ]
  },
  {
   "cell_type": "code",
   "execution_count": null,
   "metadata": {},
   "outputs": [],
   "source": []
  },
  {
   "cell_type": "code",
   "execution_count": 14,
   "metadata": {},
   "outputs": [
    {
     "data": {
      "text/plain": [
       "array(-1.10115033)"
      ]
     },
     "execution_count": 14,
     "metadata": {},
     "output_type": "execute_result"
    }
   ],
   "source": [
    "Hamilt.molecule.fci_energy"
   ]
  },
  {
   "cell_type": "code",
   "execution_count": null,
   "metadata": {},
   "outputs": [],
   "source": []
  },
  {
   "cell_type": "code",
   "execution_count": 26,
   "metadata": {},
   "outputs": [],
   "source": [
    "from quchem.TensorFlow_Opt import *"
   ]
  },
  {
   "cell_type": "markdown",
   "metadata": {},
   "source": [
    "**gradient is given by**\n",
    "\n",
    "https://arxiv.org/pdf/1906.08728.pdf\n",
    "\n",
    "$$\\frac{\\partial O(\\theta)}{\\partial \\theta}=\\left\\langle\\overrightarrow{0}\\left|\\hat{U}^{\\dagger} \\hat{R}_{y}^{C \\dagger}(\\theta+\\pi / 4) \\hat{V}^{\\dagger} \\hat{O} \\hat{V} \\hat{R}_{y}^{C}(\\theta+\\pi / 4) \\hat{U}\\right| \\overrightarrow{0}\\right\\rangle -\\left\\langle\\overrightarrow{0}\\left|\\hat{U}^{\\dagger} \\hat{R}_{y}^{C \\dagger}(\\theta-\\pi / 4) \\hat{V}^{\\dagger} \\hat{O} \\hat{V} \\hat{R}_{y}^{C}(\\theta-\\pi / 4) \\hat{U}\\right| \\overrightarrow{0}\\right\\rangle$$\n",
    "\n",
    "$$\\frac{\\partial O(\\theta)}{\\partial \\theta} =O(\\theta+\\pi / 4)-O(\\theta-\\pi / 4)$$"
   ]
  },
  {
   "cell_type": "code",
   "execution_count": 33,
   "metadata": {},
   "outputs": [],
   "source": [
    "def VQE_experiment_ENERGY_TF(THETA):\n",
    "    ansatz_cirq_circuit = H2_ansatz_BK(THETA[0])\n",
    "    VQE_exp = VQE_Experiment(NEW_Qubit_Molecular_Hamiltonian, ansatz_cirq_circuit, n_shots)\n",
    "    return VQE_exp.Calc_Energy().real"
   ]
  },
  {
   "cell_type": "code",
   "execution_count": 27,
   "metadata": {},
   "outputs": [],
   "source": [
    "def calc_gradient_TF(THETA):      \n",
    "\n",
    "    Obs_PLUS = VQE_experiment_ENERGY(THETA[0] + np.pi/4)\n",
    "    Obs_MINUS = VQE_experiment_ENERGY(THETA[0] - np.pi/4)\n",
    "    \n",
    "    gradient = Obs_PLUS - Obs_MINUS\n",
    "        \n",
    "    return [(gradient, theta)]"
   ]
  },
  {
   "cell_type": "markdown",
   "metadata": {},
   "source": [
    "note:\n",
    "this is very SLOW as it has to run a separate experiment TWICE for each parameter before taking a step!"
   ]
  },
  {
   "cell_type": "code",
   "execution_count": null,
   "metadata": {},
   "outputs": [],
   "source": []
  },
  {
   "cell_type": "code",
   "execution_count": 34,
   "metadata": {},
   "outputs": [
    {
     "name": "stdout",
     "output_type": "stream",
     "text": [
      "WARNING:tensorflow:From /home/lex/Documents/PhD/VQE-code/quchem/TensorFlow_Opt.py:79: The name tf.placeholder is deprecated. Please use tf.compat.v1.placeholder instead.\n",
      "\n"
     ]
    },
    {
     "name": "stderr",
     "output_type": "stream",
     "text": [
      "WARNING:tensorflow:From /home/lex/Documents/PhD/VQE-code/quchem/TensorFlow_Opt.py:79: The name tf.placeholder is deprecated. Please use tf.compat.v1.placeholder instead.\n",
      "\n"
     ]
    },
    {
     "name": "stdout",
     "output_type": "stream",
     "text": [
      "starting input: [3.836605558845308] obj funct out: -0.8221815646786668\n"
     ]
    },
    {
     "ename": "TypeError",
     "evalue": "can only concatenate list (not \"float\") to list",
     "output_type": "error",
     "traceback": [
      "\u001b[0;31m---------------------------------------------------------------------------\u001b[0m",
      "\u001b[0;31mTypeError\u001b[0m                                 Traceback (most recent call last)",
      "\u001b[0;32m<ipython-input-34-ffd7d3b63a59>\u001b[0m in \u001b[0;36m<module>\u001b[0;34m\u001b[0m\n\u001b[1;32m      3\u001b[0m tf_opt = Tensor_Flow_Optimizer(VQE_experiment_ENERGY_TF, X0, 'Adam', calc_gradient, learning_rate=0.1, beta1=0.9,\n\u001b[1;32m      4\u001b[0m                             beta2=0.999, store_values=True, display_iter_steps=True)\n\u001b[0;32m----> 5\u001b[0;31m \u001b[0mtf_opt\u001b[0m\u001b[0;34m.\u001b[0m\u001b[0moptimize\u001b[0m\u001b[0;34m(\u001b[0m\u001b[0;36m50\u001b[0m\u001b[0;34m)\u001b[0m\u001b[0;34m\u001b[0m\u001b[0;34m\u001b[0m\u001b[0m\n\u001b[0m\u001b[1;32m      6\u001b[0m \u001b[0mtf_opt\u001b[0m\u001b[0;34m.\u001b[0m\u001b[0mplot_convergence\u001b[0m\u001b[0;34m(\u001b[0m\u001b[0;34m)\u001b[0m\u001b[0;34m\u001b[0m\u001b[0;34m\u001b[0m\u001b[0m\n",
      "\u001b[0;32m~/Documents/PhD/VQE-code/quchem/TensorFlow_Opt.py\u001b[0m in \u001b[0;36moptimize\u001b[0;34m(self, max_iter)\u001b[0m\n\u001b[1;32m    150\u001b[0m             \u001b[0;32mfor\u001b[0m \u001b[0mstep\u001b[0m \u001b[0;32min\u001b[0m \u001b[0mrange\u001b[0m\u001b[0;34m(\u001b[0m\u001b[0mmax_iter\u001b[0m\u001b[0;34m)\u001b[0m\u001b[0;34m:\u001b[0m\u001b[0;34m\u001b[0m\u001b[0;34m\u001b[0m\u001b[0m\n\u001b[1;32m    151\u001b[0m                 \u001b[0minput_vect\u001b[0m \u001b[0;34m=\u001b[0m \u001b[0;34m[\u001b[0m\u001b[0msession\u001b[0m\u001b[0;34m.\u001b[0m\u001b[0mrun\u001b[0m\u001b[0;34m(\u001b[0m\u001b[0mtheta_tensor\u001b[0m\u001b[0;34m)\u001b[0m \u001b[0;32mfor\u001b[0m \u001b[0mtheta_tensor\u001b[0m \u001b[0;32min\u001b[0m \u001b[0mInput_TENSOR_vector\u001b[0m\u001b[0;34m]\u001b[0m\u001b[0;34m\u001b[0m\u001b[0;34m\u001b[0m\u001b[0m\n\u001b[0;32m--> 152\u001b[0;31m                 \u001b[0mgrads_and_vars\u001b[0m \u001b[0;34m=\u001b[0m \u001b[0mself\u001b[0m\u001b[0;34m.\u001b[0m\u001b[0mgrad_funct\u001b[0m\u001b[0;34m(\u001b[0m\u001b[0minput_vect\u001b[0m\u001b[0;34m)\u001b[0m\u001b[0;34m\u001b[0m\u001b[0;34m\u001b[0m\u001b[0m\n\u001b[0m\u001b[1;32m    153\u001b[0m                 \u001b[0mgrad_sub_dict\u001b[0m \u001b[0;34m=\u001b[0m \u001b[0mself\u001b[0m\u001b[0;34m.\u001b[0m\u001b[0mFeed_dictionary\u001b[0m\u001b[0;34m(\u001b[0m\u001b[0mplace_holder_list\u001b[0m\u001b[0;34m,\u001b[0m \u001b[0mgrads_and_vars\u001b[0m\u001b[0;34m)\u001b[0m\u001b[0;34m\u001b[0m\u001b[0;34m\u001b[0m\u001b[0m\n\u001b[1;32m    154\u001b[0m                 \u001b[0mtrain_step\u001b[0m\u001b[0;34m.\u001b[0m\u001b[0mrun\u001b[0m\u001b[0;34m(\u001b[0m\u001b[0mfeed_dict\u001b[0m\u001b[0;34m=\u001b[0m\u001b[0mgrad_sub_dict\u001b[0m\u001b[0;34m)\u001b[0m\u001b[0;34m\u001b[0m\u001b[0;34m\u001b[0m\u001b[0m\n",
      "\u001b[0;32m<ipython-input-27-e3d3c00a9fec>\u001b[0m in \u001b[0;36mcalc_gradient\u001b[0;34m(THETA)\u001b[0m\n\u001b[1;32m      1\u001b[0m \u001b[0;32mdef\u001b[0m \u001b[0mcalc_gradient\u001b[0m\u001b[0;34m(\u001b[0m\u001b[0mTHETA\u001b[0m\u001b[0;34m)\u001b[0m\u001b[0;34m:\u001b[0m\u001b[0;34m\u001b[0m\u001b[0;34m\u001b[0m\u001b[0m\n\u001b[1;32m      2\u001b[0m \u001b[0;34m\u001b[0m\u001b[0m\n\u001b[0;32m----> 3\u001b[0;31m     \u001b[0mObs_PLUS\u001b[0m \u001b[0;34m=\u001b[0m \u001b[0mVQE_experiment_ENERGY\u001b[0m\u001b[0;34m(\u001b[0m\u001b[0mTHETA\u001b[0m \u001b[0;34m+\u001b[0m \u001b[0mnp\u001b[0m\u001b[0;34m.\u001b[0m\u001b[0mpi\u001b[0m\u001b[0;34m/\u001b[0m\u001b[0;36m4\u001b[0m\u001b[0;34m)\u001b[0m\u001b[0;34m\u001b[0m\u001b[0;34m\u001b[0m\u001b[0m\n\u001b[0m\u001b[1;32m      4\u001b[0m     \u001b[0mObs_MINUS\u001b[0m \u001b[0;34m=\u001b[0m \u001b[0mVQE_experiment_ENERGY\u001b[0m\u001b[0;34m(\u001b[0m\u001b[0mTHETA\u001b[0m \u001b[0;34m-\u001b[0m \u001b[0mnp\u001b[0m\u001b[0;34m.\u001b[0m\u001b[0mpi\u001b[0m\u001b[0;34m/\u001b[0m\u001b[0;36m4\u001b[0m\u001b[0;34m)\u001b[0m\u001b[0;34m\u001b[0m\u001b[0;34m\u001b[0m\u001b[0m\n\u001b[1;32m      5\u001b[0m \u001b[0;34m\u001b[0m\u001b[0m\n",
      "\u001b[0;31mTypeError\u001b[0m: can only concatenate list (not \"float\") to list"
     ]
    }
   ],
   "source": [
    "X0 = [random.uniform(0, 2*np.pi)]\n",
    "\n",
    "tf_opt = Tensor_Flow_Optimizer(VQE_experiment_ENERGY_TF, X0, 'Adam', calc_gradient_TF, learning_rate=0.1, beta1=0.9,\n",
    "                            beta2=0.999, store_values=True, display_iter_steps=True)\n",
    "tf_opt.optimize(50)\n",
    "tf_opt.plot_convergence()"
   ]
  },
  {
   "cell_type": "code",
   "execution_count": null,
   "metadata": {},
   "outputs": [],
   "source": []
  },
  {
   "cell_type": "code",
   "execution_count": 18,
   "metadata": {},
   "outputs": [],
   "source": [
    "from quchem.Adam_Optimizer import *"
   ]
  },
  {
   "cell_type": "code",
   "execution_count": 20,
   "metadata": {},
   "outputs": [],
   "source": [
    "def calc_gradient_ADAM(THETA):      \n",
    "\n",
    "    Obs_PLUS = VQE_experiment_ENERGY(THETA + np.pi/4)\n",
    "    Obs_MINUS = VQE_experiment_ENERGY(THETA - np.pi/4)\n",
    "    \n",
    "    gradient = Obs_PLUS - Obs_MINUS\n",
    "        \n",
    "    return gradient"
   ]
  },
  {
   "cell_type": "code",
   "execution_count": 22,
   "metadata": {},
   "outputs": [
    {
     "name": "stdout",
     "output_type": "stream",
     "text": [
      "step: 1 input:1.5019773776656529 obj_funct: -0.029795112892471\n",
      "step: 2 input:1.4919681094498642 obj_funct: -0.03157702590920336\n",
      "step: 3 input:1.4819469279785955 obj_funct: -0.04039026677881813\n",
      "step: 4 input:1.4719064479300166 obj_funct: -0.0476788681110385\n",
      "step: 5 input:1.4618486508247939 obj_funct: -0.05276297542578079\n",
      "step: 6 input:1.451763049919435 obj_funct: -0.057933244421978225\n",
      "step: 7 input:1.4416451117726856 obj_funct: -0.06319708867953677\n",
      "step: 8 input:1.4314900301116842 obj_funct: -0.07003056978705285\n",
      "step: 9 input:1.4212933678075048 obj_funct: -0.07849677256746568\n",
      "step: 10 input:1.4110569372728228 obj_funct: -0.08378192373956306\n",
      "step: 11 input:1.4007852561906138 obj_funct: -0.09290206342049734\n",
      "step: 12 input:1.390471582810515 obj_funct: -0.09990131846189026\n",
      "step: 13 input:1.3801145029317246 obj_funct: -0.1081926737045995\n",
      "step: 14 input:1.3697123041363801 obj_funct: -0.1181140431116311\n",
      "step: 15 input:1.3592627946965503 obj_funct: -0.12739460120845086\n",
      "step: 16 input:1.3487636306319117 obj_funct: -0.13137750909816787\n",
      "step: 17 input:1.3382055394420695 obj_funct: -0.14436703258580513\n",
      "step: 18 input:1.3275979020857558 obj_funct: -0.1503666533759654\n",
      "step: 19 input:1.3169395992098143 obj_funct: -0.1598352483370845\n",
      "step: 20 input:1.3062281300445213 obj_funct: -0.16989145831763774\n",
      "step: 21 input:1.2954622275885213 obj_funct: -0.1775323203441701\n",
      "step: 22 input:1.284642810165219 obj_funct: -0.18629271233716216\n",
      "step: 23 input:1.2737657906701754 obj_funct: -0.19703028041830256\n",
      "step: 24 input:1.2628329219277388 obj_funct: -0.2118546986107066\n",
      "step: 25 input:1.2518486421238606 obj_funct: -0.2126808078095606\n",
      "step: 26 input:1.2408103793020235 obj_funct: -0.23227613798297175\n",
      "step: 27 input:1.2297268283761322 obj_funct: -0.24554960172107587\n",
      "step: 28 input:1.2185973786840436 obj_funct: -0.2559435382918459\n",
      "step: 29 input:1.2074147538177205 obj_funct: -0.26419976509968607\n",
      "step: 30 input:1.1961828954175766 obj_funct: -0.27433307243424604\n",
      "step: 31 input:1.1849014244860585 obj_funct: -0.2857889784865611\n",
      "step: 32 input:1.1735791071327624 obj_funct: -0.2979911569055364\n",
      "step: 33 input:1.1622133649772317 obj_funct: -0.30357433397330247\n",
      "step: 34 input:1.1508067446430361 obj_funct: -0.3217151064214138\n",
      "step: 35 input:1.13936199292908 obj_funct: -0.33470896617258383\n",
      "step: 36 input:1.1278793107608733 obj_funct: -0.3433954891925202\n",
      "step: 37 input:1.1163634367280255 obj_funct: -0.35517687490936295\n",
      "step: 38 input:1.1048161464869863 obj_funct: -0.3739591945438663\n",
      "step: 39 input:1.093243717345621 obj_funct: -0.3867071137687962\n",
      "step: 40 input:1.0816464314458165 obj_funct: -0.3924172375031415\n",
      "step: 41 input:1.0700261591403968 obj_funct: -0.40268178098486224\n",
      "step: 42 input:1.0583823549552527 obj_funct: -0.42395845716185887\n",
      "step: 43 input:1.0467166524360114 obj_funct: -0.42926466837654886\n",
      "step: 44 input:1.0350344636444584 obj_funct: -0.4471436402691727\n",
      "step: 45 input:1.0233327968660872 obj_funct: -0.458440691324853\n",
      "step: 46 input:1.0116191618216877 obj_funct: -0.4731494778502\n",
      "step: 47 input:0.9998976987746907 obj_funct: -0.4821957309040934\n",
      "step: 48 input:0.9881712766987011 obj_funct: -0.5021566309954977\n",
      "step: 49 input:0.9764430214675595 obj_funct: -0.5232776676424842\n",
      "step: 50 input:0.9647185197387942 obj_funct: -0.5283503063520701\n"
     ]
    },
    {
     "data": {
      "text/plain": [
       "-0.5304054472834554"
      ]
     },
     "execution_count": 22,
     "metadata": {},
     "output_type": "execute_result"
    }
   ],
   "source": [
    "X0 = random.uniform(0, 2*np.pi)\n",
    "\n",
    "opt_params, list_of_inputs, list_of_outputs = Adam_Opt(X0, VQE_experiment_ENERGY,\n",
    "                                                       calc_gradient_ADAM, \n",
    "                                                       learning_rate=0.01, \n",
    "                                                       beta_1=0.9, \n",
    "                                                       beta_2=0.999, \n",
    "                                                       epsilon=1e-8,\n",
    "                                                       max_iter=50,\n",
    "                                                       disp=True,\n",
    "                                                       tolerance=1e-3,\n",
    "                                                       store_steps=True)\n",
    "\n",
    "VQE_experiment_ENERGY(opt_params)"
   ]
  },
  {
   "cell_type": "code",
   "execution_count": null,
   "metadata": {},
   "outputs": [],
   "source": [
    "import matplotlib.pyplot as plt\n",
    "# % matplotlib inline\n",
    "plt.figure()\n",
    "plt.plot(list_of_outputs)\n",
    "plt.xlabel('iterations')\n",
    "plt.ylabel('objective function value')\n",
    "plt.show()"
   ]
  },
  {
   "cell_type": "code",
   "execution_count": null,
   "metadata": {},
   "outputs": [],
   "source": []
  },
  {
   "cell_type": "code",
   "execution_count": null,
   "metadata": {},
   "outputs": [],
   "source": []
  },
  {
   "cell_type": "code",
   "execution_count": null,
   "metadata": {},
   "outputs": [],
   "source": []
  },
  {
   "cell_type": "code",
   "execution_count": null,
   "metadata": {},
   "outputs": [],
   "source": []
  }
 ],
 "metadata": {
  "kernelspec": {
   "display_name": "Python 3",
   "language": "python",
   "name": "python3"
  },
  "language_info": {
   "codemirror_mode": {
    "name": "ipython",
    "version": 3
   },
   "file_extension": ".py",
   "mimetype": "text/x-python",
   "name": "python",
   "nbconvert_exporter": "python",
   "pygments_lexer": "ipython3",
   "version": "3.7.6"
  }
 },
 "nbformat": 4,
 "nbformat_minor": 4
}
