{
 "cells": [
  {
   "cell_type": "code",
   "execution_count": 1,
   "metadata": {},
   "outputs": [
    {
     "data": {
      "text/plain": [
       "(-0.32760818995565577+0j) [] +\n",
       "(0.04919764587885283+0j) [X0 Z1 X2] +\n",
       "(0.04919764587885283+0j) [X0 Z1 X2 Z3] +\n",
       "(0.04919764587885283+0j) [Y0 Z1 Y2] +\n",
       "(0.04919764587885283+0j) [Y0 Z1 Y2 Z3] +\n",
       "(0.1371657293179602+0j) [Z0] +\n",
       "(0.1371657293179602+0j) [Z0 Z1] +\n",
       "(0.15542669076236065+0j) [Z0 Z1 Z2] +\n",
       "(0.15542669076236065+0j) [Z0 Z1 Z2 Z3] +\n",
       "(0.10622904488350779+0j) [Z0 Z2] +\n",
       "(0.10622904488350779+0j) [Z0 Z2 Z3] +\n",
       "(0.15660062486143395+0j) [Z1] +\n",
       "(-0.13036292044009176+0j) [Z1 Z2 Z3] +\n",
       "(0.1632676867167479+0j) [Z1 Z3] +\n",
       "(-0.13036292044009176+0j) [Z2]"
      ]
     },
     "execution_count": 1,
     "metadata": {},
     "output_type": "execute_result"
    }
   ],
   "source": [
    "from quchem.Hamiltonian_Generator_Functions import *\n",
    "from quchem.Graph import *\n",
    "### HAMILTONIAN start\n",
    "Molecule = 'H2'\n",
    "geometry = None # [('H', (0., 0., 0.)), ('H', (0., 0., 0.74))]\n",
    "basis = 'sto-3g'\n",
    "\n",
    "\n",
    "### Get Hamiltonian\n",
    "Hamilt = Hamiltonian(Molecule,\n",
    "                     run_scf=1, run_mp2=1, run_cisd=1, run_ccsd=1, run_fci=1,\n",
    "                     basis=basis,\n",
    "                     multiplicity=1,\n",
    "                     geometry=geometry)  # normally None!\n",
    "QubitHamiltonian = Hamilt.Get_Qubit_Hamiltonian(threshold=None, transformation='BK')\n",
    "### HAMILTONIAN end\n",
    "\n",
    "#####################################\n",
    "\n",
    "QubitHamiltonian"
   ]
  },
  {
   "cell_type": "code",
   "execution_count": 2,
   "metadata": {},
   "outputs": [],
   "source": [
    "from quchem.Ansatz_Generator_Functions import *\n",
    "\n",
    "\n",
    "ansatz_obj = Ansatz(Hamilt.molecule.n_electrons, Hamilt.molecule.n_qubits)\n",
    "\n",
    "\n",
    "\n",
    "Sec_Quant_CC_ops_ia, Sec_Quant_CC_ops_ijab, theta_parameters_ia, theta_parameters_ijab=ansatz_obj.Get_ia_and_ijab_terms(single_cc_amplitudes=None, \n",
    "                                                                                                             double_cc_amplitudes=None, \n",
    "                                                                                                             singles_hamiltonian=None,\n",
    "                                                                                                             doubles_hamiltonian=None, \n",
    "                                                                                                             tol_filter_small_terms = None)\n",
    "\n",
    "Qubit_Op_list_Second_Quant_CC_Ops_ia, Qubit_Op_list_Second_Quant_CC_Ops_ijab = ansatz_obj.UCCSD_single_trotter_step(Sec_Quant_CC_ops_ia,\n",
    "                                                                                                                    Sec_Quant_CC_ops_ijab,\n",
    "                                                                                                                   transformation='BK')\n",
    "full_ansatz_Q_Circ = Ansatz_Circuit(Qubit_Op_list_Second_Quant_CC_Ops_ia, Qubit_Op_list_Second_Quant_CC_Ops_ijab,\n",
    "             Hamilt.molecule.n_qubits, Hamilt.molecule.n_electrons)\n",
    "\n",
    "ansatz_cirq_circuit = full_ansatz_Q_Circ.Get_Full_HF_UCCSD_QC(theta_parameters_ia, \n",
    "                                                              theta_parameters_ijab,\n",
    "                                                              transformation='BK')\n",
    "\n",
    "# print(ansatz_cirq_circuit.to_text_diagram(transpose=True)) "
   ]
  },
  {
   "cell_type": "code",
   "execution_count": 3,
   "metadata": {},
   "outputs": [
    {
     "data": {
      "text/plain": [
       "[0.125j [X0 Z1 Y2] +\n",
       " 0.125j [X0 Z1 Y2 Z3] +\n",
       " 0.125j [X0 Y2] +\n",
       " 0.125j [X0 Y2 Z3] +\n",
       " -0.125j [Y0 Z1 X2] +\n",
       " -0.125j [Y0 Z1 X2 Z3] +\n",
       " -0.125j [Y0 X2] +\n",
       " -0.125j [Y0 X2 Z3]]"
      ]
     },
     "execution_count": 3,
     "metadata": {},
     "output_type": "execute_result"
    }
   ],
   "source": [
    "Qubit_Op_list_Second_Quant_CC_Ops_ijab"
   ]
  },
  {
   "cell_type": "markdown",
   "metadata": {},
   "source": [
    "From Helgaker, T., P. Jorgensen,and J. Olsen (2014),Molecularelectronic-structure theory(John Wiley & Sons)\n",
    "we known\n",
    "\n",
    "$$H_{2}^{ground} = 0.9939| 1100\\rangle - 0.1106| 0011\\rangle$$\n",
    "\n",
    "From group theory we know only double excitation terms are important!\n",
    "We can see this from our ijab operators that qubits 1 and 3 are only acted on by $Z$ therefore experience no population changes... Can even see this from the answer if we write it in BK basis:\n",
    "\n",
    "$$H_{2}^{BK} = 0.9939| 1000\\rangle - 0.1106| 0010\\rangle$$\n",
    "\n",
    "See how qubits 1 and 3 always remain at 0!\n",
    "\n",
    "therefore can **remove** these measurements from Hamiltonian... as we know what expectation values they should give!\n",
    "\n",
    "In the case for this Hamiltonian only $I$ and $Z$ act on these qubits! So even easier to remove (expectation values = +1 (as act on $| 0\\rangle$ state!), so just remove and add to relivent H terms!"
   ]
  },
  {
   "cell_type": "markdown",
   "metadata": {},
   "source": [
    "LOOK at:\n",
    "\n",
    "PHYS. REV. X, **8**, 031022 (2018)"
   ]
  },
  {
   "cell_type": "code",
   "execution_count": 4,
   "metadata": {
    "scrolled": true
   },
   "outputs": [
    {
     "data": {
      "text/plain": [
       "[(-0.32760818995565577+0j) [],\n",
       " (0.1371657293179602+0j) [Z0],\n",
       " (0.1371657293179602+0j) [Z0 Z1],\n",
       " (-0.13036292044009176+0j) [Z2],\n",
       " (-0.13036292044009176+0j) [Z1 Z2 Z3],\n",
       " (0.15660062486143395+0j) [Z1],\n",
       " (0.04919764587885283+0j) [Y0 Z1 Y2 Z3],\n",
       " (0.04919764587885283+0j) [X0 Z1 X2],\n",
       " (0.04919764587885283+0j) [X0 Z1 X2 Z3],\n",
       " (0.04919764587885283+0j) [Y0 Z1 Y2],\n",
       " (0.10622904488350779+0j) [Z0 Z2],\n",
       " (0.15542669076236065+0j) [Z0 Z1 Z2 Z3],\n",
       " (0.15542669076236065+0j) [Z0 Z1 Z2],\n",
       " (0.10622904488350779+0j) [Z0 Z2 Z3],\n",
       " (0.1632676867167479+0j) [Z1 Z3]]"
      ]
     },
     "execution_count": 4,
     "metadata": {},
     "output_type": "execute_result"
    }
   ],
   "source": [
    "list(QubitHamiltonian)"
   ]
  },
  {
   "cell_type": "code",
   "execution_count": 5,
   "metadata": {},
   "outputs": [
    {
     "data": {
      "text/plain": [
       "(-0.007739878377473919+0j) [] +\n",
       "(0.09839529175770566+0j) [X0 X2] +\n",
       "(0.09839529175770566+0j) [Y0 Y2] +\n",
       "(0.2743314586359204+0j) [Z0] +\n",
       "(0.5233114712917368+0j) [Z0 Z2] +\n",
       "(-0.2607258408801835+0j) [Z2]"
      ]
     },
     "execution_count": 5,
     "metadata": {},
     "output_type": "execute_result"
    }
   ],
   "source": [
    "Qubit_Hamiltonian_reduction = BK_Qubit_Reduction(QubitHamiltonian,\n",
    "                             Hamilt.molecule.n_electrons,\n",
    "                             Hamilt.molecule.n_qubits)\n",
    "\n",
    "list_of_qubit_indices_to_remove = [1,3]\n",
    "list_of_correction_vals=[1,1]\n",
    "reduced_Qubit_Hamiltonian = Qubit_Hamiltonian_reduction.Remove_indices_from_Hamiltonian(list_of_qubit_indices_to_remove, list_of_correction_vals)\n",
    "reduced_Qubit_Hamiltonian"
   ]
  },
  {
   "cell_type": "code",
   "execution_count": 6,
   "metadata": {},
   "outputs": [
    {
     "data": {
      "text/plain": [
       "array([1., 0.])"
      ]
     },
     "execution_count": 6,
     "metadata": {},
     "output_type": "execute_result"
    }
   ],
   "source": [
    "new_BK_state = Qubit_Hamiltonian_reduction.New_BK_HF_state(list_of_qubit_indices_to_remove)\n",
    "new_BK_state"
   ]
  },
  {
   "cell_type": "code",
   "execution_count": 7,
   "metadata": {},
   "outputs": [
    {
     "data": {
      "text/plain": [
       "(-0.007739878377473919+0j) [] +\n",
       "(0.09839529175770566+0j) [X0 X1] +\n",
       "(0.09839529175770566+0j) [Y0 Y1] +\n",
       "(0.2743314586359204+0j) [Z0] +\n",
       "(0.5233114712917368+0j) [Z0 Z1] +\n",
       "(-0.2607258408801835+0j) [Z1]"
      ]
     },
     "execution_count": 7,
     "metadata": {},
     "output_type": "execute_result"
    }
   ],
   "source": [
    "qubit_re_label_dict, reduced_RE_LABELLED_Qubit_Hamiltonian = Qubit_Hamiltonian_reduction.Re_label_Hamiltonian(reduced_Qubit_Hamiltonian)\n",
    "reduced_RE_LABELLED_Qubit_Hamiltonian"
   ]
  },
  {
   "cell_type": "code",
   "execution_count": 12,
   "metadata": {},
   "outputs": [
    {
     "data": {
      "text/plain": [
       "[0.5j [X0 Y2] +\n",
       " -0.5j [Y0 X2]]"
      ]
     },
     "execution_count": 12,
     "metadata": {},
     "output_type": "execute_result"
    }
   ],
   "source": [
    "reduced_CC_ijab = Qubit_Hamiltonian_reduction.Remove_indices_from_CC_qubit_operators(Qubit_Op_list_Second_Quant_CC_Ops_ijab, list_of_qubit_indices_to_remove)\n",
    "reduced_CC_ijab"
   ]
  },
  {
   "cell_type": "code",
   "execution_count": 13,
   "metadata": {},
   "outputs": [
    {
     "data": {
      "text/plain": [
       "[0.5j [X0 Y1] +\n",
       " -0.5j [Y0 X1]]"
      ]
     },
     "execution_count": 13,
     "metadata": {},
     "output_type": "execute_result"
    }
   ],
   "source": [
    "reduced_RE_LABELLED_CC_ijab = Qubit_Hamiltonian_reduction.Re_label_CC_qubit_operators( qubit_re_label_dict, \n",
    "                                                                                      reduced_CC_ijab)\n",
    "reduced_RE_LABELLED_CC_ijab"
   ]
  },
  {
   "cell_type": "code",
   "execution_count": null,
   "metadata": {},
   "outputs": [],
   "source": []
  },
  {
   "cell_type": "markdown",
   "metadata": {},
   "source": [
    "# Ansatz"
   ]
  },
  {
   "cell_type": "markdown",
   "metadata": {},
   "source": [
    "\n",
    "From PHYS. REV. X, **8**, 031022 (2018):\n",
    "\n",
    "$$U = e^{-i \\theta Y_{0} X_{1}}$$\n",
    "\n",
    "- when acting on $| 10 \\rangle_{HF-BK-STATE}$ \n",
    "\n",
    "$$U | \\psi_{HF}\\rangle = | \\psi_{UCCSD}\\rangle$$\n",
    "\n",
    "overall we get:\n",
    "\n",
    "$\\begin{aligned} U|01\\rangle &=\\left(\\cos (\\theta) I-i \\sin (\\theta) Y_{0} X_{1}\\right)|10\\rangle \\\\ &=\\cos (\\theta)|10\\rangle-\\sin (\\theta)|11\\rangle \\end{aligned}$\n",
    "\n",
    "- note $Y|1\\rangle = -i|1\\rangle$\n",
    "\n",
    "to do this in Q.C the following circuit is employed:"
   ]
  },
  {
   "cell_type": "code",
   "execution_count": 14,
   "metadata": {},
   "outputs": [
    {
     "data": {
      "text/html": [
       "<pre style=\"overflow: auto; white-space: pre;\">0: ───X───Rx(0.5π)───@──────────────@───Rx(-0.5π)───\n",
       "                     │              │\n",
       "1: ───H──────────────X───Rz(0.2π)───X───H───────────</pre>"
      ],
      "text/plain": [
       "0: ───X───Rx(0.5π)───@──────────────@───Rx(-0.5π)───\n",
       "                     │              │\n",
       "1: ───H──────────────X───Rz(0.2π)───X───H───────────"
      ]
     },
     "execution_count": 14,
     "metadata": {},
     "output_type": "execute_result"
    }
   ],
   "source": [
    "from quchem.Simulating_Quantum_Circuit import *\n",
    "from quchem.Ansatz_Generator_Functions import *\n",
    "from openfermion.ops import QubitOperator\n",
    "\n",
    "def H2_ansatz_BK(theta):\n",
    "    \n",
    "    HF_circ = [cirq.X.on(cirq.LineQubit(0))]\n",
    "    full_exp_circ_obj = full_exponentiated_PauliWord_circuit(QubitOperator('Y0 X1', -1j), theta)\n",
    "        \n",
    "    UCCSD_circ = cirq.Circuit(cirq.decompose_once((full_exp_circ_obj(*cirq.LineQubit.range(full_exp_circ_obj.num_qubits())))))\n",
    "    full_circuit = cirq.Circuit([*HF_circ, *UCCSD_circ.all_operations()])\n",
    "    \n",
    "    return full_circuit\n",
    "    \n",
    "circuit_form = H2_ansatz_BK(np.pi/10)    \n",
    "circuit_form"
   ]
  },
  {
   "cell_type": "code",
   "execution_count": null,
   "metadata": {},
   "outputs": [],
   "source": []
  },
  {
   "cell_type": "markdown",
   "metadata": {},
   "source": [
    "# Running Example"
   ]
  },
  {
   "cell_type": "code",
   "execution_count": 15,
   "metadata": {},
   "outputs": [],
   "source": [
    "from quchem.Simulating_Quantum_Circuit import *"
   ]
  },
  {
   "cell_type": "code",
   "execution_count": 19,
   "metadata": {},
   "outputs": [],
   "source": [
    "n_shots= 10000\n",
    "\n",
    "\n",
    "def VQE_experiment_ENERGY(THETA):\n",
    "    ansatz_cirq_circuit = H2_ansatz_BK(THETA)\n",
    "    VQE_exp = VQE_Experiment(reduced_RE_LABELLED_Qubit_Hamiltonian, ansatz_cirq_circuit, n_shots)\n",
    "    return VQE_exp.Calc_Energy().real"
   ]
  },
  {
   "cell_type": "code",
   "execution_count": 20,
   "metadata": {},
   "outputs": [],
   "source": [
    "import random\n",
    "\n",
    "theta_random_input = random.uniform(0, 2*np.pi) "
   ]
  },
  {
   "cell_type": "code",
   "execution_count": 21,
   "metadata": {},
   "outputs": [
    {
     "name": "stdout",
     "output_type": "stream",
     "text": [
      "0: Input_to_Funct: [0.22219525]: Output: -1.095141133957529\n",
      "1: Input_to_Funct: [0.21664037]: Output: -1.1008181971944793\n",
      "2: Input_to_Funct: [0.21664037]: Output: -1.1000115431748552\n",
      "3: Input_to_Funct: [0.21386293]: Output: -1.1006149035638215\n",
      "4: Input_to_Funct: [0.21386293]: Output: -1.0987629543195843\n",
      "5: Input_to_Funct: [0.21455729]: Output: -1.1002530340776786\n",
      "6: Input_to_Funct: [0.21455729]: Output: -1.0985002212387491\n",
      "7: Input_to_Funct: [0.21455729]: Output: -1.100667753039625\n",
      "8: Input_to_Funct: [0.21473088]: Output: -1.0980638200175044\n",
      "9: Input_to_Funct: [0.21473088]: Output: -1.1014522902556247\n",
      "10: Input_to_Funct: [0.21473088]: Output: -1.101453753630378\n",
      "11: Input_to_Funct: [0.21473088]: Output: -1.0974337602886157\n",
      "12: Input_to_Funct: [0.21473088]: Output: -1.0994346859743551\n",
      "13: Input_to_Funct: [0.21473088]: Output: -1.0988851952144223\n",
      "14: Input_to_Funct: [0.21473088]: Output: -1.0991887182181612\n",
      "15: Input_to_Funct: [0.21473088]: Output: -1.0976126830037478\n",
      "16: Input_to_Funct: [0.21473088]: Output: -1.0982394219841445\n",
      "17: Input_to_Funct: [0.21473088]: Output: -1.1013546265014484\n",
      "18: Input_to_Funct: [0.21473088]: Output: -1.0999122289727268\n",
      "19: Input_to_Funct: [0.21473088]: Output: -1.0964705707199662\n",
      "20: Input_to_Funct: [0.21473088]: Output: -1.1031833338065546\n",
      "21: Input_to_Funct: [0.21473088]: Output: -1.1026865373173695\n",
      "22: Input_to_Funct: [0.21473088]: Output: -1.0992785338481055\n",
      "23: Input_to_Funct: [0.21473088]: Output: -1.0972856665507424\n",
      "24: Input_to_Funct: [0.21473088]: Output: -1.1021503963264583\n",
      "25: Input_to_Funct: [0.21473088]: Output: -1.0958439002155145\n",
      "26: Input_to_Funct: [0.21473088]: Output: -1.0980040689588537\n",
      "27: Input_to_Funct: [0.21473088]: Output: -1.1004524494796655\n",
      "28: Input_to_Funct: [0.21473088]: Output: -1.100843968246183\n",
      "29: Input_to_Funct: [0.21473088]: Output: -1.1002834189346427\n",
      "30: Input_to_Funct: [0.21473088]: Output: -1.0968442987712428\n",
      "31: Input_to_Funct: [0.21473088]: Output: -1.1003997691234852\n",
      "32: Input_to_Funct: [0.21473088]: Output: -1.0977563085654478\n",
      "33: Input_to_Funct: [0.21473088]: Output: -1.0981976171453809\n",
      "34: Input_to_Funct: [0.21473088]: Output: -1.1001729594517962\n",
      "35: Input_to_Funct: [0.21473088]: Output: -1.0992519401911105\n",
      "36: Input_to_Funct: [0.21473088]: Output: -1.0991253364019666\n",
      "37: Input_to_Funct: [0.21473088]: Output: -1.0992978335226893\n",
      "38: Input_to_Funct: [0.21473088]: Output: -1.0988085506579075\n",
      "39: Input_to_Funct: [0.21473088]: Output: -1.0974556897194505\n",
      "40: Input_to_Funct: [0.21473088]: Output: -1.1002853261301002\n",
      "41: Input_to_Funct: [0.21473088]: Output: -1.095346764887902\n",
      "42: Input_to_Funct: [0.21473088]: Output: -1.0976291057505438\n",
      "43: Input_to_Funct: [0.21473088]: Output: -1.098127238340031\n",
      "44: Input_to_Funct: [0.21473088]: Output: -1.097560076061292\n",
      "45: Input_to_Funct: [0.21473088]: Output: -1.099896990561004\n",
      "46: Input_to_Funct: [0.21473088]: Output: -1.096550649384857\n",
      "47: Input_to_Funct: [0.21473088]: Output: -1.0990609393703221\n",
      "48: Input_to_Funct: [0.21473088]: Output: -1.0941083286896638\n",
      "Warning: Maximum number of iterations has been exceeded.\n",
      "Reason for termination is Maximum number of iterations has been exceeded.\n"
     ]
    },
    {
     "data": {
      "image/png": "[encoded data removed]",
      "text/plain": [
       "<Figure size 432x288 with 1 Axes>"
      ]
     },
     "metadata": {
      "needs_background": "light"
     },
     "output_type": "display_data"
    }
   ],
   "source": [
    "### optimizer\n",
    "from quchem.Scipy_Optimizer import *\n",
    "\n",
    "GG = Optimizer(VQE_experiment_ENERGY, theta_random_input, 'Nelder-Mead', store_values=True, display_iter_steps=True,\n",
    "               tol=1e-5,\n",
    "               display_convergence_message=True)\n",
    "GG.get_env(50)\n",
    "GG.plot_convergence()\n",
    "plt.show()"
   ]
  },
  {
   "cell_type": "code",
   "execution_count": null,
   "metadata": {},
   "outputs": [],
   "source": []
  },
  {
   "cell_type": "code",
   "execution_count": null,
   "metadata": {},
   "outputs": [],
   "source": []
  },
  {
   "cell_type": "code",
   "execution_count": 22,
   "metadata": {},
   "outputs": [],
   "source": [
    "from quchem.Adam_Optimizer import *"
   ]
  },
  {
   "cell_type": "code",
   "execution_count": 23,
   "metadata": {},
   "outputs": [],
   "source": [
    "def calc_gradient_ADAM(THETA):      \n",
    "\n",
    "    Obs_PLUS = VQE_experiment_ENERGY(THETA + np.pi/4)\n",
    "    Obs_MINUS = VQE_experiment_ENERGY(THETA - np.pi/4)\n",
    "    \n",
    "    gradient = Obs_PLUS - Obs_MINUS\n",
    "        \n",
    "    return gradient"
   ]
  },
  {
   "cell_type": "code",
   "execution_count": 26,
   "metadata": {},
   "outputs": [
    {
     "name": "stdout",
     "output_type": "stream",
     "text": [
      "step: 1 input:4.958856814359481 obj_funct: 0.032627822205021695\n",
      "step: 2 input:5.003923046751713 obj_funct: 0.02193098325261511\n",
      "step: 3 input:5.04930598278612 obj_funct: 0.009311674360952038\n",
      "step: 4 input:5.095670309048297 obj_funct: -0.00787322588998729\n",
      "step: 5 input:5.142784568621824 obj_funct: -0.030761185009352432\n",
      "step: 6 input:5.190639711737854 obj_funct: -0.06331206933631445\n",
      "step: 7 input:5.23923794056492 obj_funct: -0.09336496202464095\n",
      "step: 8 input:5.288606492637213 obj_funct: -0.13581929302928347\n",
      "step: 9 input:5.338721239700234 obj_funct: -0.17256300605797686\n",
      "step: 10 input:5.389560506466312 obj_funct: -0.2199098173008593\n",
      "step: 11 input:5.441104098993535 obj_funct: -0.27613387304519643\n",
      "step: 12 input:5.493323315666643 obj_funct: -0.33312173582458005\n",
      "step: 13 input:5.546182070074136 obj_funct: -0.39008718450749363\n",
      "step: 14 input:5.599631654538628 obj_funct: -0.450006595488173\n",
      "step: 15 input:5.653619700183844 obj_funct: -0.5104813105835178\n",
      "step: 16 input:5.708074024393649 obj_funct: -0.5723030949555805\n",
      "step: 17 input:5.762909540823638 obj_funct: -0.6314731606932946\n",
      "step: 18 input:5.818018487373659 obj_funct: -0.6889872894497541\n",
      "step: 19 input:5.8732696806602664 obj_funct: -0.7579468792464293\n",
      "step: 20 input:5.928529814781484 obj_funct: -0.8087133730308159\n",
      "step: 21 input:5.9836159800652995 obj_funct: -0.8572080165492492\n",
      "step: 22 input:6.038326880042375 obj_funct: -0.915125883869431\n",
      "step: 23 input:6.092461763275515 obj_funct: -0.9570480828309303\n",
      "step: 24 input:6.1457650901604355 obj_funct: -0.9915156919235892\n",
      "step: 25 input:6.197916066697522 obj_funct: -1.0238684440345922\n",
      "step: 26 input:6.248587128839556 obj_funct: -1.0500652179028203\n",
      "step: 27 input:6.297414490748324 obj_funct: -1.0716128904791518\n",
      "step: 28 input:6.344005163751972 obj_funct: -1.0825866018250199\n",
      "step: 29 input:6.3881182158482215 obj_funct: -1.0980261741383457\n",
      "step: 30 input:6.429357530304855 obj_funct: -1.10235193048306\n",
      "step: 31 input:6.467338276740371 obj_funct: -1.1002020922950437\n",
      "step: 32 input:6.501777739954441 obj_funct: -1.0999532790829636\n",
      "step: 33 input:6.532473276726316 obj_funct: -1.0939762592643514\n",
      "step: 34 input:6.559254224796172 obj_funct: -1.0870105535264667\n",
      "step: 35 input:6.58201314187299 obj_funct: -1.0830613779744487\n",
      "step: 36 input:6.600746015818336 obj_funct: -1.0778000025330043\n",
      "step: 37 input:6.615544446821171 obj_funct: -1.0772721751800227\n",
      "step: 38 input:6.626475323809612 obj_funct: -1.0713524965039234\n",
      "step: 39 input:6.633722208236447 obj_funct: -1.0691657242280301\n",
      "step: 40 input:6.637502779332608 obj_funct: -1.0600962480873526\n",
      "step: 41 input:6.638039966299307 obj_funct: -1.0646854063096196\n"
     ]
    },
    {
     "data": {
      "text/plain": [
       "-1.0648543411487437"
      ]
     },
     "execution_count": 26,
     "metadata": {},
     "output_type": "execute_result"
    }
   ],
   "source": [
    "X0 = random.uniform(0, 2*np.pi)\n",
    "\n",
    "opt_params, list_of_inputs, list_of_outputs = Adam_Opt(X0, VQE_experiment_ENERGY,\n",
    "                                                       calc_gradient_ADAM, \n",
    "                                                       learning_rate=0.05, \n",
    "                                                       beta_1=0.9, \n",
    "                                                       beta_2=0.999, \n",
    "                                                       epsilon=1e-8,\n",
    "                                                       max_iter=50,\n",
    "                                                       disp=True,\n",
    "                                                       tolerance=1e-3,\n",
    "                                                       store_steps=True)\n",
    "\n",
    "VQE_experiment_ENERGY(opt_params)"
   ]
  },
  {
   "cell_type": "code",
   "execution_count": 27,
   "metadata": {},
   "outputs": [
    {
     "data": {
      "image/png": "[encoded data removed]",
      "text/plain": [
       "<Figure size 432x288 with 1 Axes>"
      ]
     },
     "metadata": {
      "needs_background": "light"
     },
     "output_type": "display_data"
    }
   ],
   "source": [
    "import matplotlib.pyplot as plt\n",
    "# % matplotlib inline\n",
    "plt.figure()\n",
    "plt.plot(list_of_outputs)\n",
    "plt.xlabel('iterations')\n",
    "plt.ylabel('objective function value')\n",
    "plt.show()"
   ]
  },
  {
   "cell_type": "code",
   "execution_count": null,
   "metadata": {},
   "outputs": [],
   "source": []
  },
  {
   "cell_type": "code",
   "execution_count": null,
   "metadata": {},
   "outputs": [],
   "source": []
  },
  {
   "cell_type": "code",
   "execution_count": null,
   "metadata": {},
   "outputs": [],
   "source": []
  },
  {
   "cell_type": "code",
   "execution_count": null,
   "metadata": {},
   "outputs": [],
   "source": []
  }
 ],
 "metadata": {
  "kernelspec": {
   "display_name": "Python 3",
   "language": "python",
   "name": "python3"
  },
  "language_info": {
   "codemirror_mode": {
    "name": "ipython",
    "version": 3
   },
   "file_extension": ".py",
   "mimetype": "text/x-python",
   "name": "python",
   "nbconvert_exporter": "python",
   "pygments_lexer": "ipython3",
   "version": "3.7.6"
  }
 },
 "nbformat": 4,
 "nbformat_minor": 4
}
