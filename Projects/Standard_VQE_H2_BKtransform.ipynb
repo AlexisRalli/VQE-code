{
 "cells": [
  {
   "cell_type": "code",
   "execution_count": 1,
   "metadata": {},
   "outputs": [
    {
     "data": {
      "text/plain": [
       "(-0.32760818995565577+0j) [] +\n",
       "(0.04919764587885283+0j) [X0 Z1 X2] +\n",
       "(0.04919764587885283+0j) [X0 Z1 X2 Z3] +\n",
       "(0.04919764587885283+0j) [Y0 Z1 Y2] +\n",
       "(0.04919764587885283+0j) [Y0 Z1 Y2 Z3] +\n",
       "(0.1371657293179602+0j) [Z0] +\n",
       "(0.1371657293179602+0j) [Z0 Z1] +\n",
       "(0.15542669076236065+0j) [Z0 Z1 Z2] +\n",
       "(0.15542669076236065+0j) [Z0 Z1 Z2 Z3] +\n",
       "(0.10622904488350779+0j) [Z0 Z2] +\n",
       "(0.10622904488350779+0j) [Z0 Z2 Z3] +\n",
       "(0.15660062486143395+0j) [Z1] +\n",
       "(-0.13036292044009176+0j) [Z1 Z2 Z3] +\n",
       "(0.1632676867167479+0j) [Z1 Z3] +\n",
       "(-0.13036292044009176+0j) [Z2]"
      ]
     },
     "execution_count": 1,
     "metadata": {},
     "output_type": "execute_result"
    }
   ],
   "source": [
    "from quchem.Hamiltonian_Generator_Functions import *\n",
    "from quchem.Graph import *\n",
    "### HAMILTONIAN start\n",
    "Molecule = 'H2'\n",
    "geometry = None # [('H', (0., 0., 0.)), ('H', (0., 0., 0.74))]\n",
    "basis = 'sto-3g'\n",
    "\n",
    "\n",
    "### Get Hamiltonian\n",
    "Hamilt = Hamiltonian(Molecule,\n",
    "                     run_scf=1, run_mp2=1, run_cisd=1, run_ccsd=1, run_fci=1,\n",
    "                     basis=basis,\n",
    "                     multiplicity=1,\n",
    "                     geometry=geometry)  # normally None!\n",
    "QubitHamiltonian = Hamilt.Get_Qubit_Hamiltonian(threshold=None, transformation='BK')\n",
    "### HAMILTONIAN end\n",
    "\n",
    "#####################################\n",
    "\n",
    "QubitHamiltonian"
   ]
  },
  {
   "cell_type": "code",
   "execution_count": 2,
   "metadata": {},
   "outputs": [],
   "source": [
    "from quchem.Ansatz_Generator_Functions import *\n",
    "\n",
    "\n",
    "ansatz_obj = Ansatz(Hamilt.molecule.n_electrons, Hamilt.molecule.n_qubits)\n",
    "\n",
    "\n",
    "\n",
    "Sec_Quant_CC_ops_ia, Sec_Quant_CC_ops_ijab, theta_parameters_ia, theta_parameters_ijab=ansatz_obj.Get_ia_and_ijab_terms(single_cc_amplitudes=None, \n",
    "                                                                                                             double_cc_amplitudes=None, \n",
    "                                                                                                             singles_hamiltonian=None,\n",
    "                                                                                                             doubles_hamiltonian=None, \n",
    "                                                                                                             tol_filter_small_terms = None)\n",
    "\n",
    "Qubit_Op_list_Second_Quant_CC_Ops_ia, Qubit_Op_list_Second_Quant_CC_Ops_ijab = ansatz_obj.UCCSD_single_trotter_step(Sec_Quant_CC_ops_ia,\n",
    "                                                                                                                    Sec_Quant_CC_ops_ijab,\n",
    "                                                                                                                   transformation='BK')\n",
    "full_ansatz_Q_Circ = Ansatz_Circuit(Qubit_Op_list_Second_Quant_CC_Ops_ia, Qubit_Op_list_Second_Quant_CC_Ops_ijab,\n",
    "             Hamilt.molecule.n_qubits, Hamilt.molecule.n_electrons)\n",
    "\n",
    "ansatz_cirq_circuit = full_ansatz_Q_Circ.Get_Full_HF_UCCSD_QC(theta_parameters_ia, \n",
    "                                                              theta_parameters_ijab,\n",
    "                                                              transformation='BK')\n",
    "\n",
    "# print(ansatz_cirq_circuit.to_text_diagram(transpose=True)) "
   ]
  },
  {
   "cell_type": "code",
   "execution_count": 3,
   "metadata": {},
   "outputs": [
    {
     "data": {
      "text/plain": [
       "[0.125j [X0 Z1 Y2] +\n",
       " 0.125j [X0 Z1 Y2 Z3] +\n",
       " 0.125j [X0 Y2] +\n",
       " 0.125j [X0 Y2 Z3] +\n",
       " -0.125j [Y0 Z1 X2] +\n",
       " -0.125j [Y0 Z1 X2 Z3] +\n",
       " -0.125j [Y0 X2] +\n",
       " -0.125j [Y0 X2 Z3]]"
      ]
     },
     "execution_count": 3,
     "metadata": {},
     "output_type": "execute_result"
    }
   ],
   "source": [
    "Qubit_Op_list_Second_Quant_CC_Ops_ijab"
   ]
  },
  {
   "cell_type": "markdown",
   "metadata": {},
   "source": [
    "From Helgaker, T., P. Jorgensen,and J. Olsen (2014),Molecularelectronic-structure theory(John Wiley & Sons)\n",
    "we known\n",
    "\n",
    "$$H_{2}^{ground} = 0.9939| 1100\\rangle - 0.1106| 0011\\rangle$$\n",
    "\n",
    "From group theory we know only double excitation terms are important!\n",
    "We can see this from our ijab operators that qubits 1 and 3 are only acted on by $Z$ therefore experience no population changes... Can even see this from the answer if we write it in BK basis:\n",
    "\n",
    "$$H_{2}^{BK} = 0.9939| 1000\\rangle - 0.1106| 0010\\rangle$$\n",
    "\n",
    "See how qubits 1 and 3 always remain at 0!\n",
    "\n",
    "therefore can **remove** these measurements from Hamiltonian... as we know what expectation values they should give!\n",
    "\n",
    "In the case for this Hamiltonian only $I$ and $Z$ act on these qubits! So even easier to remove (expectation values = +1 (as act on $| 0\\rangle$ state!), so just remove and add to relivent H terms!"
   ]
  },
  {
   "cell_type": "markdown",
   "metadata": {},
   "source": [
    "LOOK at:\n",
    "\n",
    "PHYS. REV. X, **8**, 031022 (2018)"
   ]
  },
  {
   "cell_type": "code",
   "execution_count": 4,
   "metadata": {
    "scrolled": true
   },
   "outputs": [
    {
     "data": {
      "text/plain": [
       "[(-0.32760818995565577+0j) [],\n",
       " (0.1371657293179602+0j) [Z0],\n",
       " (0.1371657293179602+0j) [Z0 Z1],\n",
       " (-0.13036292044009176+0j) [Z2],\n",
       " (-0.13036292044009176+0j) [Z1 Z2 Z3],\n",
       " (0.15660062486143395+0j) [Z1],\n",
       " (0.04919764587885283+0j) [Y0 Z1 Y2 Z3],\n",
       " (0.04919764587885283+0j) [X0 Z1 X2],\n",
       " (0.04919764587885283+0j) [X0 Z1 X2 Z3],\n",
       " (0.04919764587885283+0j) [Y0 Z1 Y2],\n",
       " (0.10622904488350779+0j) [Z0 Z2],\n",
       " (0.15542669076236065+0j) [Z0 Z1 Z2 Z3],\n",
       " (0.15542669076236065+0j) [Z0 Z1 Z2],\n",
       " (0.10622904488350779+0j) [Z0 Z2 Z3],\n",
       " (0.1632676867167479+0j) [Z1 Z3]]"
      ]
     },
     "execution_count": 4,
     "metadata": {},
     "output_type": "execute_result"
    }
   ],
   "source": [
    "list(QubitHamiltonian)"
   ]
  },
  {
   "cell_type": "code",
   "execution_count": 7,
   "metadata": {},
   "outputs": [
    {
     "name": "stdout",
     "output_type": "stream",
     "text": [
      "[1. 0. 0. 0.]\n"
     ]
    },
    {
     "data": {
      "text/plain": [
       "(-0.007739878377473919+0j) [] +\n",
       "(0.09839529175770566+0j) [X0 X2] +\n",
       "(0.09839529175770566+0j) [Y0 Y2] +\n",
       "(0.2743314586359204+0j) [Z0] +\n",
       "(0.5233114712917368+0j) [Z0 Z2] +\n",
       "(-0.2607258408801835+0j) [Z2]"
      ]
     },
     "execution_count": 7,
     "metadata": {},
     "output_type": "execute_result"
    }
   ],
   "source": [
    "Qubit_Hamiltonian_reduction = BK_Qubit_Reduction(QubitHamiltonian,\n",
    "                             Hamilt.molecule.n_electrons,\n",
    "                             Hamilt.molecule.n_qubits)\n",
    "\n",
    "list_of_qubit_indices_to_remove = [1,3]\n",
    "\n",
    "# manual removal\n",
    "# list_of_correction_vals=[1,1]\n",
    "# reduced_Qubit_Hamiltonian = Qubit_Hamiltonian_reduction.Remove_indices_from_Hamiltonian_manual(list_of_qubit_indices_to_remove, list_of_correction_vals)\n",
    "# reduced_Qubit_Hamiltonian\n",
    "\n",
    "BK_state = Qubit_Hamiltonian_reduction.Get_BK_HF_state_in_OCC_basis()\n",
    "print(BK_state)\n",
    "reduced_Qubit_Hamiltonian = Qubit_Hamiltonian_reduction.Remove_indices_from_Hamiltonian(list_of_qubit_indices_to_remove)\n",
    "reduced_Qubit_Hamiltonian"
   ]
  },
  {
   "cell_type": "code",
   "execution_count": null,
   "metadata": {},
   "outputs": [],
   "source": []
  },
  {
   "cell_type": "code",
   "execution_count": 8,
   "metadata": {},
   "outputs": [
    {
     "data": {
      "text/plain": [
       "array([1., 0.])"
      ]
     },
     "execution_count": 8,
     "metadata": {},
     "output_type": "execute_result"
    }
   ],
   "source": [
    "new_BK_state = Qubit_Hamiltonian_reduction.New_BK_HF_state(list_of_qubit_indices_to_remove)\n",
    "new_BK_state"
   ]
  },
  {
   "cell_type": "code",
   "execution_count": 9,
   "metadata": {},
   "outputs": [
    {
     "data": {
      "text/plain": [
       "(-0.007739878377473919+0j) [] +\n",
       "(0.09839529175770566+0j) [X0 X1] +\n",
       "(0.09839529175770566+0j) [Y0 Y1] +\n",
       "(0.2743314586359204+0j) [Z0] +\n",
       "(0.5233114712917368+0j) [Z0 Z1] +\n",
       "(-0.2607258408801835+0j) [Z1]"
      ]
     },
     "execution_count": 9,
     "metadata": {},
     "output_type": "execute_result"
    }
   ],
   "source": [
    "qubit_re_label_dict, reduced_RE_LABELLED_Qubit_Hamiltonian = Qubit_Hamiltonian_reduction.Re_label_Hamiltonian(reduced_Qubit_Hamiltonian)\n",
    "reduced_RE_LABELLED_Qubit_Hamiltonian"
   ]
  },
  {
   "cell_type": "code",
   "execution_count": null,
   "metadata": {},
   "outputs": [],
   "source": []
  },
  {
   "cell_type": "code",
   "execution_count": 12,
   "metadata": {},
   "outputs": [
    {
     "data": {
      "text/plain": [
       "[0.5j [X0 Y2] +\n",
       " -0.5j [Y0 X2]]"
      ]
     },
     "execution_count": 12,
     "metadata": {},
     "output_type": "execute_result"
    }
   ],
   "source": [
    "reduced_CC_ijab = Qubit_Hamiltonian_reduction.Remove_indices_from_CC_qubit_operators(Qubit_Op_list_Second_Quant_CC_Ops_ijab, list_of_qubit_indices_to_remove)\n",
    "reduced_CC_ijab"
   ]
  },
  {
   "cell_type": "code",
   "execution_count": 11,
   "metadata": {},
   "outputs": [
    {
     "data": {
      "text/plain": [
       "[0.5j [X0 Y1] +\n",
       " -0.5j [Y0 X1]]"
      ]
     },
     "execution_count": 11,
     "metadata": {},
     "output_type": "execute_result"
    }
   ],
   "source": [
    "reduced_RE_LABELLED_CC_ijab = Qubit_Hamiltonian_reduction.Re_label_CC_qubit_operators( qubit_re_label_dict, \n",
    "                                                                                      reduced_CC_ijab)\n",
    "reduced_RE_LABELLED_CC_ijab"
   ]
  },
  {
   "cell_type": "code",
   "execution_count": null,
   "metadata": {},
   "outputs": [],
   "source": []
  },
  {
   "cell_type": "markdown",
   "metadata": {},
   "source": [
    "# Ansatz"
   ]
  },
  {
   "cell_type": "markdown",
   "metadata": {},
   "source": [
    "\n",
    "From PHYS. REV. X, **8**, 031022 (2018):\n",
    "\n",
    "$$U = e^{-i \\theta Y_{0} X_{1}}$$\n",
    "\n",
    "- when acting on $| 10 \\rangle_{HF-BK-STATE}$ \n",
    "\n",
    "$$U | \\psi_{HF}\\rangle = | \\psi_{UCCSD}\\rangle$$\n",
    "\n",
    "overall we get:\n",
    "\n",
    "$\\begin{aligned} U|01\\rangle &=\\left(\\cos (\\theta) I-i \\sin (\\theta) Y_{0} X_{1}\\right)|10\\rangle \\\\ &=\\cos (\\theta)|10\\rangle-\\sin (\\theta)|11\\rangle \\end{aligned}$\n",
    "\n",
    "- note $Y|1\\rangle = -i|1\\rangle$\n",
    "\n",
    "to do this in Q.C the following circuit is employed:"
   ]
  },
  {
   "cell_type": "code",
   "execution_count": null,
   "metadata": {},
   "outputs": [],
   "source": [
    "from quchem.Simulating_Quantum_Circuit import *\n",
    "from quchem.Ansatz_Generator_Functions import *\n",
    "from openfermion.ops import QubitOperator\n",
    "\n",
    "def H2_ansatz_BK(theta):\n",
    "    \n",
    "    HF_circ = [cirq.X.on(cirq.LineQubit(0))]\n",
    "    full_exp_circ_obj = full_exponentiated_PauliWord_circuit(QubitOperator('Y0 X1', -1j), theta)\n",
    "        \n",
    "    UCCSD_circ = cirq.Circuit(cirq.decompose_once((full_exp_circ_obj(*cirq.LineQubit.range(full_exp_circ_obj.num_qubits())))))\n",
    "    full_circuit = cirq.Circuit([*HF_circ, *UCCSD_circ.all_operations()])\n",
    "    \n",
    "    return full_circuit\n",
    "    \n",
    "circuit_form = H2_ansatz_BK(np.pi/10)    \n",
    "circuit_form"
   ]
  },
  {
   "cell_type": "code",
   "execution_count": null,
   "metadata": {},
   "outputs": [],
   "source": []
  },
  {
   "cell_type": "markdown",
   "metadata": {},
   "source": [
    "# Running Example"
   ]
  },
  {
   "cell_type": "code",
   "execution_count": null,
   "metadata": {},
   "outputs": [],
   "source": [
    "from quchem.Simulating_Quantum_Circuit import *"
   ]
  },
  {
   "cell_type": "code",
   "execution_count": null,
   "metadata": {},
   "outputs": [],
   "source": [
    "n_shots= 10000\n",
    "\n",
    "\n",
    "def VQE_experiment_ENERGY(THETA):\n",
    "    ansatz_cirq_circuit = H2_ansatz_BK(THETA)\n",
    "    VQE_exp = VQE_Experiment(reduced_RE_LABELLED_Qubit_Hamiltonian, ansatz_cirq_circuit, n_shots)\n",
    "    return VQE_exp.Calc_Energy().real"
   ]
  },
  {
   "cell_type": "code",
   "execution_count": null,
   "metadata": {},
   "outputs": [],
   "source": [
    "import random\n",
    "\n",
    "theta_random_input = random.uniform(0, 2*np.pi) "
   ]
  },
  {
   "cell_type": "code",
   "execution_count": null,
   "metadata": {},
   "outputs": [],
   "source": [
    "### optimizer\n",
    "from quchem.Scipy_Optimizer import *\n",
    "\n",
    "GG = Optimizer(VQE_experiment_ENERGY, theta_random_input, 'Nelder-Mead', store_values=True, display_iter_steps=True,\n",
    "               tol=1e-5,\n",
    "               display_convergence_message=True)\n",
    "GG.get_env(50)\n",
    "GG.plot_convergence()\n",
    "plt.show()"
   ]
  },
  {
   "cell_type": "code",
   "execution_count": null,
   "metadata": {},
   "outputs": [],
   "source": []
  },
  {
   "cell_type": "code",
   "execution_count": null,
   "metadata": {},
   "outputs": [],
   "source": []
  },
  {
   "cell_type": "code",
   "execution_count": null,
   "metadata": {},
   "outputs": [],
   "source": [
    "from quchem.Adam_Optimizer import *"
   ]
  },
  {
   "cell_type": "code",
   "execution_count": null,
   "metadata": {},
   "outputs": [],
   "source": [
    "def calc_gradient_ADAM(THETA):      \n",
    "\n",
    "    Obs_PLUS = VQE_experiment_ENERGY(THETA + np.pi/4)\n",
    "    Obs_MINUS = VQE_experiment_ENERGY(THETA - np.pi/4)\n",
    "    \n",
    "    gradient = Obs_PLUS - Obs_MINUS\n",
    "        \n",
    "    return gradient"
   ]
  },
  {
   "cell_type": "code",
   "execution_count": null,
   "metadata": {},
   "outputs": [],
   "source": [
    "X0 = random.uniform(0, 2*np.pi)\n",
    "\n",
    "opt_params, list_of_inputs, list_of_outputs = Adam_Opt(X0, VQE_experiment_ENERGY,\n",
    "                                                       calc_gradient_ADAM, \n",
    "                                                       learning_rate=0.05, \n",
    "                                                       beta_1=0.9, \n",
    "                                                       beta_2=0.999, \n",
    "                                                       epsilon=1e-8,\n",
    "                                                       max_iter=50,\n",
    "                                                       disp=True,\n",
    "                                                       tolerance=1e-3,\n",
    "                                                       store_steps=True)\n",
    "\n",
    "VQE_experiment_ENERGY(opt_params)"
   ]
  },
  {
   "cell_type": "code",
   "execution_count": null,
   "metadata": {},
   "outputs": [],
   "source": [
    "import matplotlib.pyplot as plt\n",
    "# % matplotlib inline\n",
    "plt.figure()\n",
    "plt.plot(list_of_outputs)\n",
    "plt.xlabel('iterations')\n",
    "plt.ylabel('objective function value')\n",
    "plt.show()"
   ]
  },
  {
   "cell_type": "code",
   "execution_count": null,
   "metadata": {},
   "outputs": [],
   "source": []
  },
  {
   "cell_type": "code",
   "execution_count": null,
   "metadata": {},
   "outputs": [],
   "source": []
  },
  {
   "cell_type": "code",
   "execution_count": null,
   "metadata": {},
   "outputs": [],
   "source": []
  },
  {
   "cell_type": "code",
   "execution_count": null,
   "metadata": {},
   "outputs": [],
   "source": []
  }
 ],
 "metadata": {
  "kernelspec": {
   "display_name": "Python 3",
   "language": "python",
   "name": "python3"
  },
  "language_info": {
   "codemirror_mode": {
    "name": "ipython",
    "version": 3
   },
   "file_extension": ".py",
   "mimetype": "text/x-python",
   "name": "python",
   "nbconvert_exporter": "python",
   "pygments_lexer": "ipython3",
   "version": "3.7.6"
  }
 },
 "nbformat": 4,
 "nbformat_minor": 4
}
