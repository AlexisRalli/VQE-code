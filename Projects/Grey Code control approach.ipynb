{
 "cells": [
  {
   "cell_type": "code",
   "execution_count": 1,
   "metadata": {},
   "outputs": [],
   "source": [
    "import cirq\n",
    "import numpy as np"
   ]
  },
  {
   "cell_type": "code",
   "execution_count": 2,
   "metadata": {},
   "outputs": [],
   "source": [
    "def int_to_Gray(base_10_num, n_qubits):\n",
    "    # https://en.wikipedia.org/wiki/Gray_code\n",
    "\n",
    "    # print(np.binary_repr(num, n_qubits)) # standard binary form!\n",
    "\n",
    "    # The operator >> is shift right. The operator ^ is exclusive or\n",
    "    gray_int = base_10_num ^ (base_10_num >> 1)\n",
    "\n",
    "    return np.binary_repr(gray_int, n_qubits)"
   ]
  },
  {
   "cell_type": "code",
   "execution_count": 3,
   "metadata": {},
   "outputs": [
    {
     "name": "stdout",
     "output_type": "stream",
     "text": [
      "[ 0  1  2  3  4  5  6  7  8  9 10 11 12 13 14 15]\n",
      "['0000' '0001' '0011' '0010' '0110' '0111' '0101' '0100' '1100' '1101'\n",
      " '1111' '1110' '1010' '1011' '1001' '1000']\n"
     ]
    }
   ],
   "source": [
    "n_qubits=4\n",
    "\n",
    "state_array = np.arange(0,2**n_qubits,1)\n",
    "print(state_array)\n",
    "\n",
    "grey_state=np.array([int_to_Gray(i, n_qubits) for i in state_array])\n",
    "print(grey_state)"
   ]
  },
  {
   "cell_type": "code",
   "execution_count": 4,
   "metadata": {},
   "outputs": [],
   "source": [
    "start_index = np.where(grey_state==''.join(['1' for _ in range(n_qubits)]))[0][0]"
   ]
  },
  {
   "cell_type": "code",
   "execution_count": 5,
   "metadata": {},
   "outputs": [
    {
     "data": {
      "text/plain": [
       "array(['1111', '1110', '1010', '1011', '1001', '1000', '0000', '0001',\n",
       "       '0011', '0010', '0110', '0111', '0101', '0100', '1100', '1101'],\n",
       "      dtype='<U4')"
      ]
     },
     "execution_count": 5,
     "metadata": {},
     "output_type": "execute_result"
    }
   ],
   "source": [
    "np.hstack((grey_state[start_index::], grey_state[:start_index]))"
   ]
  },
  {
   "cell_type": "code",
   "execution_count": 6,
   "metadata": {},
   "outputs": [],
   "source": [
    "def control_circuit(n_ancilla_qubits): # list_system_qubits\n",
    "    ancilla_qubits = list(cirq.LineQubit.range(n_ancilla_qubits))\n",
    "    \n",
    "    n_work_qubits = n_ancilla_qubits-1\n",
    "    work_qubits = list(cirq.LineQubit.range(n_ancilla_qubits, n_work_qubits+n_ancilla_qubits))\n",
    "    \n",
    "    system_qubit = cirq.LineQubit(n_work_qubits+n_ancilla_qubits) #need to change this when doing properly!\n",
    "    \n",
    "    state_array = np.arange(0,2**n_ancilla_qubits,1)\n",
    "    grey_state_array =np.array([int_to_Gray(i, n_ancilla_qubits) for i in state_array])\n",
    "    \n",
    "#     start_index = np.where(grey_state_array==''.join(['1' for _ in range(n_ancilla_qubits)]))[0][0] # find all '11...1' state\n",
    "    \n",
    "#     control_states_in_order = np.hstack((grey_state_array[start_index::], grey_state_array[:start_index]))\n",
    "    control_states_in_order=grey_state_array\n",
    "    \n",
    "    control_circuit_list=[]\n",
    "    for control_str in control_states_in_order:\n",
    "        control_int_list = [int(bit) for bit in control_str]\n",
    "#         print(control_int_list)\n",
    "        circuit_list=[]\n",
    "        for index, work_bit in enumerate(work_qubits):\n",
    "            if index ==0:\n",
    "                circuit_list.append(cirq.Circuit(cirq.X.controlled(num_controls=2,\n",
    "                                               control_values=control_int_list[:2]\n",
    "                                              ).on(*ancilla_qubits[:2], work_bit)))\n",
    "                \n",
    "            elif index<n_work_qubits-1:\n",
    "                circuit_list.append(cirq.Circuit(cirq.X.controlled(num_controls=2,\n",
    "                                               control_values= [control_int_list[1+index], 1] \n",
    "                                              ).on(ancilla_qubits[1+index], work_qubits[index-1], work_qubits[index])))\n",
    "            else:\n",
    "                circuit_list.append(cirq.Circuit(cirq.X.controlled(num_controls=2,\n",
    "                                               control_values= [control_int_list[1+index], 1] \n",
    "                                              ).on(ancilla_qubits[1+index], work_qubits[index-1], work_qubits[index])))\n",
    "        \n",
    "        control_P = cirq.Circuit(cirq.Y.controlled(num_controls=1,\n",
    "                                               control_values= [1] \n",
    "                                              ).on(work_qubits[-1], system_qubit))\n",
    "        \n",
    "        full_circuit=[circuit_list, control_P, circuit_list[::-1]]\n",
    "        \n",
    "#         print(cirq.Circuit(full_circuit))\n",
    "#         print('')\n",
    "        control_circuit_list.append(cirq.Circuit(full_circuit))\n",
    "        \n",
    "    return control_circuit_list\n",
    "        \n",
    "\n",
    "unsimplified_gate_seq = control_circuit(3)"
   ]
  },
  {
   "cell_type": "code",
   "execution_count": 7,
   "metadata": {},
   "outputs": [
    {
     "data": {
      "text/html": [
       "<pre style=\"overflow: auto; white-space: pre;\">0: ───(0)───────────────────(0)───\n",
       "      │                     │\n",
       "1: ───(0)───────────────────(0)───\n",
       "      │                     │\n",
       "2: ───┼─────(0)───────(0)───┼─────\n",
       "      │     │         │     │\n",
       "3: ───X─────@─────────@─────X─────\n",
       "            │         │\n",
       "4: ─────────X─────@───X───────────\n",
       "                  │\n",
       "5: ───────────────Y───────────────</pre>"
      ],
      "text/plain": [
       "0: ───(0)───────────────────(0)───\n",
       "      │                     │\n",
       "1: ───(0)───────────────────(0)───\n",
       "      │                     │\n",
       "2: ───┼─────(0)───────(0)───┼─────\n",
       "      │     │         │     │\n",
       "3: ───X─────@─────────@─────X─────\n",
       "            │         │\n",
       "4: ─────────X─────@───X───────────\n",
       "                  │\n",
       "5: ───────────────Y───────────────"
      ]
     },
     "execution_count": 7,
     "metadata": {},
     "output_type": "execute_result"
    }
   ],
   "source": [
    "unsimplified_gate_seq[0]"
   ]
  },
  {
   "cell_type": "code",
   "execution_count": 8,
   "metadata": {},
   "outputs": [
    {
     "data": {
      "text/plain": [
       "cirq.ControlledGate(sub_gate=cirq.X, control_values=((0,), (0,)),control_qid_shape=(2, 2))"
      ]
     },
     "execution_count": 8,
     "metadata": {},
     "output_type": "execute_result"
    }
   ],
   "source": [
    "list(unsimplified_gate_seq[0].all_operations())[-1].gate\n",
    "# list(unsimplified_gate_seq[0].all_operations())[-1].gate.sub_gate\n",
    "# list(unsimplified_gate_seq[0].all_operations())[-1].qubits\n",
    "# list(unsimplified_gate_seq[0].all_operations())[-1].control_values"
   ]
  },
  {
   "cell_type": "code",
   "execution_count": 9,
   "metadata": {},
   "outputs": [
    {
     "data": {
      "text/plain": [
       "2"
      ]
     },
     "execution_count": 9,
     "metadata": {},
     "output_type": "execute_result"
    }
   ],
   "source": [
    "circuit_1_ops = list(unsimplified_gate_seq[0].all_operations())\n",
    "circuit_2_ops = list(unsimplified_gate_seq[1].all_operations())\n",
    "len(circuit_1_ops[0].control_values)"
   ]
  },
  {
   "cell_type": "code",
   "execution_count": 10,
   "metadata": {
    "code_folding": []
   },
   "outputs": [],
   "source": [
    "def recursive_simplification(circuit_1_ops, circuit_2_ops):\n",
    "    if (circuit_1_ops[-1] == circuit_2_ops[0]) and (len(circuit_1_ops[-1].control_values)==2):\n",
    "        circuit_1_ops.pop(-1)\n",
    "        circuit_2_ops.pop(0)\n",
    "        \n",
    "        return recursive_simplification(circuit_1_ops, circuit_2_ops)\n",
    "    else:\n",
    "        return circuit_1_ops, circuit_2_ops\n",
    "        \n",
    "# circuit_1_ops = list(unsimplified_gate_seq[0].all_operations())\n",
    "# circuit_2_ops = list(unsimplified_gate_seq[1].all_operations())\n",
    "# c1, c2 = recursive_simplification(circuit_1_ops, circuit_2_ops)\n",
    "# print(cirq.Circuit(c1))\n",
    "# print(cirq.Circuit(c2))"
   ]
  },
  {
   "cell_type": "code",
   "execution_count": 11,
   "metadata": {},
   "outputs": [
    {
     "data": {
      "text/plain": [
       "[0: ───(0)───────────────────\n",
       "      │\n",
       "1: ───(0)───────────────────\n",
       "      │\n",
       "2: ───┼─────(0)───────(0)───\n",
       "      │     │         │\n",
       "3: ───X─────@─────────@─────\n",
       "            │         │\n",
       "4: ─────────X─────@───X─────\n",
       "                  │\n",
       "5: ───────────────Y─────────,\n",
       " 0: ───────────────(0)───\n",
       "                  │\n",
       "1: ───────────────(0)───\n",
       "                  │\n",
       "2: ───@───────@───┼─────\n",
       "      │       │   │\n",
       "3: ───@───────@───X─────\n",
       "      │       │\n",
       "4: ───X───@───X─────────\n",
       "          │\n",
       "5: ───────Y─────────────,\n",
       " 0: ───(0)───────────────\n",
       "      │\n",
       "1: ───@─────────────────\n",
       "      │\n",
       "2: ───┼─────@───────@───\n",
       "      │     │       │\n",
       "3: ───X─────@───────@───\n",
       "            │       │\n",
       "4: ─────────X───@───X───\n",
       "                │\n",
       "5: ─────────────Y───────,\n",
       " 0: ───────────────────(0)───\n",
       "                      │\n",
       "1: ───────────────────@─────\n",
       "                      │\n",
       "2: ───(0)───────(0)───┼─────\n",
       "      │         │     │\n",
       "3: ───@─────────@─────X─────\n",
       "      │         │\n",
       "4: ───X─────@───X───────────\n",
       "            │\n",
       "5: ─────────Y───────────────,\n",
       " 0: ───@───────────────────\n",
       "      │\n",
       "1: ───@───────────────────\n",
       "      │\n",
       "2: ───┼───(0)───────(0)───\n",
       "      │   │         │\n",
       "3: ───X───@─────────@─────\n",
       "          │         │\n",
       "4: ───────X─────@───X─────\n",
       "                │\n",
       "5: ─────────────Y─────────,\n",
       " 0: ───────────────@───\n",
       "                  │\n",
       "1: ───────────────@───\n",
       "                  │\n",
       "2: ───@───────@───┼───\n",
       "      │       │   │\n",
       "3: ───@───────@───X───\n",
       "      │       │\n",
       "4: ───X───@───X───────\n",
       "          │\n",
       "5: ───────Y───────────,\n",
       " 0: ───@─────────────────\n",
       "      │\n",
       "1: ───(0)───────────────\n",
       "      │\n",
       "2: ───┼─────@───────@───\n",
       "      │     │       │\n",
       "3: ───X─────@───────@───\n",
       "            │       │\n",
       "4: ─────────X───@───X───\n",
       "                │\n",
       "5: ─────────────Y───────,\n",
       " 0: ───────────────────@─────\n",
       "                      │\n",
       "1: ───────────────────(0)───\n",
       "                      │\n",
       "2: ───(0)───────(0)───┼─────\n",
       "      │         │     │\n",
       "3: ───@─────────@─────X─────\n",
       "      │         │\n",
       "4: ───X─────@───X───────────\n",
       "            │\n",
       "5: ─────────Y───────────────]"
      ]
     },
     "execution_count": 11,
     "metadata": {},
     "output_type": "execute_result"
    }
   ],
   "source": [
    "simple_gate_cancel_list=unsimplified_gate_seq.copy()\n",
    "\n",
    "for index in range(len(simple_gate_cancel_list)-1):\n",
    "    circuit_1_ops = list(simple_gate_cancel_list[index].all_operations())\n",
    "    circuit_2_ops = list(simple_gate_cancel_list[index+1].all_operations())\n",
    "    c1_new, c2_new = recursive_simplification(circuit_1_ops, circuit_2_ops)\n",
    "                                                                                               \n",
    "    simple_gate_cancel_list[index] = cirq.Circuit(c1_new)\n",
    "    simple_gate_cancel_list[index+1] = cirq.Circuit(c2_new)\n",
    "    \n",
    "simple_gate_cancel_list"
   ]
  },
  {
   "cell_type": "code",
   "execution_count": 12,
   "metadata": {},
   "outputs": [
    {
     "data": {
      "text/plain": [
       "[0: ───(0)───────────────────\n",
       "      │\n",
       "1: ───(0)───────────────────\n",
       "      │\n",
       "2: ───┼─────(0)───────(0)───\n",
       "      │     │         │\n",
       "3: ───X─────@─────────@─────\n",
       "            │         │\n",
       "4: ─────────X─────@───X─────\n",
       "                  │\n",
       "5: ───────────────Y─────────,\n",
       " 0: ───────────────(0)───\n",
       "                  │\n",
       "1: ───────────────(0)───\n",
       "                  │\n",
       "2: ───@───────@───┼─────\n",
       "      │       │   │\n",
       "3: ───@───────@───X─────\n",
       "      │       │\n",
       "4: ───X───@───X─────────\n",
       "          │\n",
       "5: ───────Y─────────────,\n",
       " 0: ───(0)───────────────\n",
       "      │\n",
       "1: ───@─────────────────\n",
       "      │\n",
       "2: ───┼─────@───────@───\n",
       "      │     │       │\n",
       "3: ───X─────@───────@───\n",
       "            │       │\n",
       "4: ─────────X───@───X───\n",
       "                │\n",
       "5: ─────────────Y───────,\n",
       " 0: ───────────────────(0)───\n",
       "                      │\n",
       "1: ───────────────────@─────\n",
       "                      │\n",
       "2: ───(0)───────(0)───┼─────\n",
       "      │         │     │\n",
       "3: ───@─────────@─────X─────\n",
       "      │         │\n",
       "4: ───X─────@───X───────────\n",
       "            │\n",
       "5: ─────────Y───────────────,\n",
       " 0: ───@───────────────────\n",
       "      │\n",
       "1: ───@───────────────────\n",
       "      │\n",
       "2: ───┼───(0)───────(0)───\n",
       "      │   │         │\n",
       "3: ───X───@─────────@─────\n",
       "          │         │\n",
       "4: ───────X─────@───X─────\n",
       "                │\n",
       "5: ─────────────Y─────────,\n",
       " 0: ───────────────@───\n",
       "                  │\n",
       "1: ───────────────@───\n",
       "                  │\n",
       "2: ───@───────@───┼───\n",
       "      │       │   │\n",
       "3: ───@───────@───X───\n",
       "      │       │\n",
       "4: ───X───@───X───────\n",
       "          │\n",
       "5: ───────Y───────────,\n",
       " 0: ───@─────────────────\n",
       "      │\n",
       "1: ───(0)───────────────\n",
       "      │\n",
       "2: ───┼─────@───────@───\n",
       "      │     │       │\n",
       "3: ───X─────@───────@───\n",
       "            │       │\n",
       "4: ─────────X───@───X───\n",
       "                │\n",
       "5: ─────────────Y───────,\n",
       " 0: ───────────────────@─────\n",
       "                      │\n",
       "1: ───────────────────(0)───\n",
       "                      │\n",
       "2: ───(0)───────(0)───┼─────\n",
       "      │         │     │\n",
       "3: ───@─────────@─────X─────\n",
       "      │         │\n",
       "4: ───X─────@───X───────────\n",
       "            │\n",
       "5: ─────────Y───────────────]"
      ]
     },
     "execution_count": 12,
     "metadata": {},
     "output_type": "execute_result"
    }
   ],
   "source": [
    "def cancel_double_T_gates(list_of_Q_circuits):\n",
    "    # takes in list of circuits and simplifies repeated Toffoli gates \n",
    "    simplified_circuit_list=list_of_Q_circuits.copy()\n",
    "    for index in range(len(simplified_circuit_list)-1):\n",
    "        circuit_1_ops = list(simplified_circuit_list[index].all_operations())\n",
    "        circuit_2_ops = list(simplified_circuit_list[index+1].all_operations())\n",
    "        c1_new, c2_new = recursive_simplification(circuit_1_ops, circuit_2_ops)\n",
    "\n",
    "        simplified_circuit_list[index] = cirq.Circuit(c1_new)\n",
    "        simplified_circuit_list[index+1] = cirq.Circuit(c2_new)\n",
    "    return simplified_circuit_list\n",
    "simple_gate_cancel_list=cancel_double_T_gates(unsimplified_gate_seq)\n",
    "simple_gate_cancel_list"
   ]
  },
  {
   "cell_type": "code",
   "execution_count": 13,
   "metadata": {},
   "outputs": [],
   "source": [
    "def simplify_T_controls_differing_by_one_bit(list_of_Q_circuits):\n",
    "    \n",
    "    # simplifies Tofolli gates that differ by one bit\n",
    "    \"\"\"\n",
    "        0: ───@─────@────        . 0: ───@───\n",
    "              │     │            .       │    \n",
    "        1: ───@────(0)───        . 1: ───│───\n",
    "              │     │        ==> .       │   \n",
    "        2: ───┼─────┼────        . 2: ───┼─── \n",
    "              │     │            .       │   \n",
    "        3: ───┼─────┼────        . 3: ───┼─── \n",
    "              │     │            .       │   \n",
    "        4: ───X─────X────        . 4: ───X─── \n",
    "                 \n",
    "    \"\"\"\n",
    "    \n",
    "    simplified_circuit_list=list_of_Q_circuits.copy()\n",
    "    for index in range(len(simplified_circuit_list)-1):\n",
    "        circuit_1_ops = list(simplified_circuit_list[index].all_operations())\n",
    "        circuit_2_ops = list(simplified_circuit_list[index+1].all_operations())\n",
    "        \n",
    "        \n",
    "        if (circuit_1_ops[-1].qubits==circuit_2_ops[0].qubits):\n",
    "            cirq_1_control=np.array(circuit_1_ops[-1].control_values).reshape([len(circuit_1_ops[-1].control_values)])\n",
    "            cirq_2_control= np.array(circuit_2_ops[0].control_values).reshape([len(circuit_1_ops[-1].control_values)])\n",
    "            diff = cirq_1_control - cirq_2_control\n",
    "            if np.abs(sum(diff))==1:\n",
    "#                 print(cirq_1_control, cirq_2_control)\n",
    "#                 print(index)\n",
    "                index_to_keep = np.where(cirq_1_control==cirq_2_control)[0][0]\n",
    "                active_qubits = circuit_1_ops[-1].qubits\n",
    "#                 new_gate = cirq.CNOT(active_qubits[index_to_keep], active_qubits[-1])\n",
    "            \n",
    "                new_gate= cirq.Circuit(cirq.X.controlled(num_controls=1,\n",
    "                                               control_values= [int(cirq_1_control[index_to_keep])] \n",
    "                                              ).on(active_qubits[index_to_keep], active_qubits[-1]))\n",
    "            \n",
    "                \n",
    "                new_list=list(simplified_circuit_list[index].all_operations())\n",
    "                new_list.pop(-1)\n",
    "                new_list.append(new_gate)\n",
    "                simplified_circuit_list[index]=cirq.Circuit(new_list)\n",
    "                \n",
    "                \n",
    "                new2=list(simplified_circuit_list[index+1].all_operations())\n",
    "                new2.pop(0)\n",
    "                simplified_circuit_list[index+1]=cirq.Circuit(new2)\n",
    "    return simplified_circuit_list\n",
    "    \n",
    "    \n",
    "cancel_simple_T = simplify_T_controls_differing_by_one_bit(simple_gate_cancel_list)"
   ]
  },
  {
   "cell_type": "code",
   "execution_count": 14,
   "metadata": {},
   "outputs": [
    {
     "name": "stdout",
     "output_type": "stream",
     "text": [
      "1: ─────────────@───\n",
      "                │\n",
      "2: ───────(0)───┼───\n",
      "          │     │\n",
      "3: ───────@─────X───\n",
      "          │\n",
      "4: ───@───X─────────\n",
      "      │\n",
      "5: ───Y─────────────\n",
      "\n",
      "\n",
      "2: ───(0)───────────\n",
      "      │\n",
      "3: ───@─────────@───\n",
      "      │         │\n",
      "4: ───X─────@───X───\n",
      "            │\n",
      "5: ─────────Y───────\n"
     ]
    }
   ],
   "source": [
    "ii=3\n",
    "\n",
    "print(cancel_simple_T[ii])\n",
    "print('')\n",
    "print('')\n",
    "print(cancel_simple_T[ii+1])"
   ]
  },
  {
   "cell_type": "code",
   "execution_count": 15,
   "metadata": {},
   "outputs": [],
   "source": [
    "# list(cancel_simple_T[0].all_operations())[-1].qubits\n",
    "\n",
    "# qubits = set(list(cancel_simple_T[-1].all_operations())[-1].qubits, list(cancel_simple_T[0].all_operations())[-1].qubits)"
   ]
  },
  {
   "cell_type": "code",
   "execution_count": 16,
   "metadata": {},
   "outputs": [
    {
     "data": {
      "text/plain": [
       "((0,), (0,))"
      ]
     },
     "execution_count": 16,
     "metadata": {},
     "output_type": "execute_result"
    }
   ],
   "source": [
    "# list(unsimplified_gate_seq[0].all_operations())[-1].gate.sub_gate\n",
    "list(cancel_simple_T[0].all_operations())[-1].qubits\n",
    "list(unsimplified_gate_seq[0].all_operations())[-1].control_values"
   ]
  },
  {
   "cell_type": "code",
   "execution_count": 17,
   "metadata": {},
   "outputs": [
    {
     "data": {
      "text/plain": [
       "{cirq.LineQubit(3), cirq.LineQubit(4), cirq.LineQubit(5)}"
      ]
     },
     "execution_count": 17,
     "metadata": {},
     "output_type": "execute_result"
    }
   ],
   "source": [
    "# list(cancel_simple_T[0].all_operations())\n",
    "# list(cancel_simple_T[1].all_operations())\n",
    "\n",
    "list(cancel_simple_T[0].all_operations())[-2].qubits == list(cancel_simple_T[0].all_operations())\n",
    "\n",
    "set((*list(cancel_simple_T[0].all_operations())[-2].qubits, \n",
    "     *list(cancel_simple_T[0].all_operations())[-1].qubits))"
   ]
  },
  {
   "cell_type": "code",
   "execution_count": 18,
   "metadata": {},
   "outputs": [
    {
     "data": {
      "text/plain": [
       "(cirq.LineQubit(2), cirq.LineQubit(3), cirq.LineQubit(4))"
      ]
     },
     "execution_count": 18,
     "metadata": {},
     "output_type": "execute_result"
    }
   ],
   "source": [
    "list(cancel_simple_T[1].all_operations())[1].qubits"
   ]
  },
  {
   "cell_type": "code",
   "execution_count": 19,
   "metadata": {},
   "outputs": [],
   "source": [
    "# def simplify_T_X_T(list_of_Q_circuits):\n",
    "    \n",
    "#     simplified_circuit_list=list_of_Q_circuits.copy()\n",
    "#     for index in range(len(simplified_circuit_list)-1):\n",
    "#         circuit_1_ops = list(simplified_circuit_list[index].all_operations())\n",
    "#         circuit_2_ops = list(simplified_circuit_list[index+1].all_operations())\n",
    "        \n",
    "#         if (circuit_1_ops[-2].qubits==circuit_2_ops[0].qubits) and (circuit_1_ops[-1].gate.sub_gate == cirq.X):\n",
    "#             if len(circuit_1_ops[-2].qubits)==3:\n",
    "#                 if circuit_1_ops[-2].control_values==circuit_1_ops[-2].control_values:\n",
    "#                     cirq_2_control= np.array(circuit_2_ops[0].control_values).reshape([len(circuit_1_ops[-2].control_values)])\n",
    "\n",
    "#                     cnot_control_val = circuit_1_ops[-1].control_values[0][0]\n",
    "#                     cnot_c_qubit = circuit_1_ops[-1].qubits[0]\n",
    "#                     qubits = set((*circuit_1_ops[-1].qubits, *circuit_1_ops[-2].qubits))\n",
    "#                     qubits.remove(circuit_1_ops[-1].qubits[0]) #remove CNOT qubit\n",
    "#                     qubits.remove(circuit_1_ops[-1].qubits[1]) #remove CNOT qubit\n",
    "\n",
    "#                     T_remaining_index = circuit_1_ops[-2].qubits.index(list(qubits)[0])\n",
    "# #                     print(circuit_1_ops[-2].qubits[T_remaining_index])\n",
    "# #                     print(circuit_1_ops[-2].control_values[T_remaining_index])\n",
    "#                     print(circuit_1_ops[-1].qubits)\n",
    "#                     print(cnot_c_qubit)\n",
    "#                     print(circuit_1_ops[-2].qubits)\n",
    "#                     print(circuit_1_ops[-2].control_values)\n",
    "                    \n",
    "#                     remaining_T_control_val= int(circuit_1_ops[-2].control_values[T_remaining_index][0])\n",
    "                    \n",
    "#                     new_gate= cirq.Circuit(cirq.X.controlled(num_controls=2,\n",
    "#                                                control_values= [cnot_control_val, remaining_T_control_val] \n",
    "#                                               ).on(cnot_c_qubit, *qubits))\n",
    "                    \n",
    "\n",
    "   \n",
    "                \n",
    "#                     circuit_1_ops.pop(-2)\n",
    "#                     circuit_1_ops.append(new_gate)\n",
    "                \n",
    "#                     circuit_2_ops.pop(0)\n",
    "\n",
    "#                     simplified_circuit_list[index]=cirq.Circuit(circuit_1_ops)\n",
    "#                     simplified_circuit_list[index+1]=cirq.Circuit(circuit_2_ops)\n",
    "\n",
    "                \n",
    "#     return simplified_circuit_list\n",
    "    \n",
    "    \n",
    "# final_circ_list = simplify_T_X_T(cancel_simple_T)"
   ]
  },
  {
   "cell_type": "code",
   "execution_count": 20,
   "metadata": {},
   "outputs": [],
   "source": [
    "def simplify_T_X_T(list_of_Q_circuits):\n",
    "        # simplifies Tofolli NOT Toffoli gates where Tofolli gates have same controls\n",
    "    \"\"\"\n",
    "    0: ───────(0)───────         .0: ───(0)───(0)───\n",
    "              │                  .      │     │\n",
    "    1: ───@───┼─────@───         .1: ───┼─────@─────\n",
    "          │   │     │      ===>  .      │     │\n",
    "    2: ───@───X─────@───         .2: ───X─────┼─────\n",
    "          │         │            .            │\n",
    "    3: ───X─────────X───         .3: ─────────X─────\n",
    "    \n",
    "    \"\"\"\n",
    "    simplified_circuit_list=list_of_Q_circuits.copy()\n",
    "    for index in range(len(simplified_circuit_list)-1):\n",
    "        circuit_1_ops = list(simplified_circuit_list[index].all_operations())\n",
    "        circuit_2_ops = list(simplified_circuit_list[index+1].all_operations())\n",
    "        \n",
    "        if (circuit_1_ops[-2].qubits==circuit_2_ops[0].qubits) and (circuit_1_ops[-1].gate.sub_gate == cirq.X):\n",
    "            if len(circuit_1_ops[-2].qubits)==3:\n",
    "                if circuit_1_ops[-2].control_values==circuit_1_ops[-2].control_values:\n",
    "                    cirq_2_control= np.array(circuit_2_ops[0].control_values).reshape([len(circuit_1_ops[-2].control_values)])\n",
    "\n",
    "                    cnot_control_val = circuit_1_ops[-1].control_values[0][0]\n",
    "                    cnot_c_qubit = circuit_1_ops[-1].qubits[0]\n",
    "                    \n",
    "                    qubit_to_remove_index=circuit_1_ops[-2].qubits.index(circuit_1_ops[-1].qubits[-1])\n",
    "                    control_list= list(int(bit) for control in circuit_1_ops[-2].control_values for bit in control)\n",
    "                    control_list.pop(qubit_to_remove_index)\n",
    "                    \n",
    "                    qubits = list(circuit_1_ops[-2].qubits)\n",
    "                    qubits.pop(qubit_to_remove_index)\n",
    "                    \n",
    "                    new_gate= cirq.Circuit(cirq.X.controlled(num_controls=2,\n",
    "                                               control_values= [cnot_control_val, *control_list] \n",
    "                                              ).on(cnot_c_qubit, *qubits))\n",
    "                    \n",
    "\n",
    "   \n",
    "                \n",
    "                    circuit_1_ops.pop(-2)\n",
    "                    circuit_1_ops.append(new_gate)\n",
    "                \n",
    "                    circuit_2_ops.pop(0)\n",
    "\n",
    "                    simplified_circuit_list[index]=cirq.Circuit(circuit_1_ops)\n",
    "                    simplified_circuit_list[index+1]=cirq.Circuit(circuit_2_ops)\n",
    "\n",
    "                \n",
    "    return simplified_circuit_list\n",
    "    \n",
    "    \n",
    "final_circ_list = simplify_T_X_T(cancel_simple_T)"
   ]
  },
  {
   "cell_type": "code",
   "execution_count": 21,
   "metadata": {},
   "outputs": [
    {
     "data": {
      "text/html": [
       "<pre style=\"overflow: auto; white-space: pre;\">0: ───(0)─────────────────────(0)───(0)─────────────────────────────────────@───@─────────────────────@─────\n",
       "      │                       │     │                                       │   │                     │\n",
       "1: ───(0)─────────────────────┼─────┼─────────────────@───@─────────────────┼───┼─────────────────────(0)───\n",
       "      │                       │     │                 │   │                 │   │                     │\n",
       "2: ───┼─────(0)───────────────┼─────@─────────────────┼───(0)───────────────┼───@───────────────(0)───┼─────\n",
       "      │     │                 │     │                 │   │                 │   │               │     │\n",
       "3: ───X─────@─────────@───────X─────┼─────────@───────X───┼─────────@───────X───┼───────@───────@─────X─────\n",
       "            │         │             │         │           │         │           │       │       │\n",
       "4: ─────────X─────@───X───@─────────X─────@───X───@───────X─────@───X───@───────X───@───X───@───X───────────\n",
       "                  │       │               │       │             │       │           │       │\n",
       "5: ───────────────Y───────Y───────────────Y───────Y─────────────Y───────Y───────────Y───────Y───────────────</pre>"
      ],
      "text/plain": [
       "0: ───(0)─────────────────────(0)───(0)─────────────────────────────────────@───@─────────────────────@─────\n",
       "      │                       │     │                                       │   │                     │\n",
       "1: ───(0)─────────────────────┼─────┼─────────────────@───@─────────────────┼───┼─────────────────────(0)───\n",
       "      │                       │     │                 │   │                 │   │                     │\n",
       "2: ───┼─────(0)───────────────┼─────@─────────────────┼───(0)───────────────┼───@───────────────(0)───┼─────\n",
       "      │     │                 │     │                 │   │                 │   │               │     │\n",
       "3: ───X─────@─────────@───────X─────┼─────────@───────X───┼─────────@───────X───┼───────@───────@─────X─────\n",
       "            │         │             │         │           │         │           │       │       │\n",
       "4: ─────────X─────@───X───@─────────X─────@───X───@───────X─────@───X───@───────X───@───X───@───X───────────\n",
       "                  │       │               │       │             │       │           │       │\n",
       "5: ───────────────Y───────Y───────────────Y───────Y─────────────Y───────Y───────────Y───────Y───────────────"
      ]
     },
     "execution_count": 21,
     "metadata": {},
     "output_type": "execute_result"
    }
   ],
   "source": [
    "from cirq.circuits import InsertStrategy\n",
    "\n",
    "overall_circuit = cirq.Circuit()\n",
    "for circuit in final_circ_list:\n",
    "    overall_circuit.append(circuit.all_operations(), strategy=InsertStrategy.NEW)\n",
    "overall_circuit"
   ]
  },
  {
   "cell_type": "code",
   "execution_count": 23,
   "metadata": {},
   "outputs": [
    {
     "data": {
      "text/plain": [
       "40"
      ]
     },
     "execution_count": 23,
     "metadata": {},
     "output_type": "execute_result"
    }
   ],
   "source": [
    "NN=3\n",
    "\n",
    "N_gates_no_reduction=(2**NN)*(2*NN-1)\n",
    "N_gates_no_reduction"
   ]
  },
  {
   "cell_type": "code",
   "execution_count": 24,
   "metadata": {},
   "outputs": [
    {
     "data": {
      "text/plain": [
       "8"
      ]
     },
     "execution_count": 24,
     "metadata": {},
     "output_type": "execute_result"
    }
   ],
   "source": [
    "N_full_reductions=2**(NN-2)*2\n",
    "N_semi_reduction=2**(NN-1)*2\n",
    "N_semi_reduction"
   ]
  },
  {
   "cell_type": "code",
   "execution_count": 25,
   "metadata": {},
   "outputs": [
    {
     "data": {
      "text/plain": [
       "28"
      ]
     },
     "execution_count": 25,
     "metadata": {},
     "output_type": "execute_result"
    }
   ],
   "source": [
    "N_gates_no_reduction-N_full_reductions-N_semi_reduction"
   ]
  },
  {
   "cell_type": "code",
   "execution_count": null,
   "metadata": {},
   "outputs": [],
   "source": []
  },
  {
   "cell_type": "code",
   "execution_count": 26,
   "metadata": {},
   "outputs": [
    {
     "name": "stdout",
     "output_type": "stream",
     "text": [
      "[0 1 2 3 4 5 6 7]\n",
      "['000' '001' '011' '010' '110' '111' '101' '100']\n"
     ]
    }
   ],
   "source": [
    "n_qubits=3\n",
    "\n",
    "state_array = np.arange(0,2**n_qubits,1)\n",
    "print(state_array)\n",
    "\n",
    "grey_state=np.array([int_to_Gray(i, n_qubits) for i in state_array])\n",
    "print(grey_state)"
   ]
  },
  {
   "cell_type": "code",
   "execution_count": 27,
   "metadata": {},
   "outputs": [
    {
     "data": {
      "text/plain": [
       "96.0"
      ]
     },
     "execution_count": 27,
     "metadata": {},
     "output_type": "execute_result"
    }
   ],
   "source": [
    "NN=4\n",
    "((2**NN)/(2**(NN-1)) + (2**NN)/(2**(NN-2)))*(2**NN)"
   ]
  },
  {
   "cell_type": "markdown",
   "metadata": {},
   "source": [
    "### OVERALL"
   ]
  },
  {
   "cell_type": "code",
   "execution_count": null,
   "metadata": {},
   "outputs": [],
   "source": [
    "# # BAD print\n",
    "# overall_circuit = cirq.Circuit([circuit.all_operations() for circuit in final_circ_list])\n",
    "# overall_circuit"
   ]
  },
  {
   "cell_type": "code",
   "execution_count": 28,
   "metadata": {},
   "outputs": [
    {
     "data": {
      "text/html": [
       "<pre style=\"overflow: auto; white-space: pre;\">0: ───(0)─────────────────────(0)───(0)─────────────────────────────────────@───@─────────────────────@─────\n",
       "      │                       │     │                                       │   │                     │\n",
       "1: ───(0)─────────────────────┼─────┼─────────────────@───@─────────────────┼───┼─────────────────────(0)───\n",
       "      │                       │     │                 │   │                 │   │                     │\n",
       "2: ───┼─────(0)───────────────┼─────@─────────────────┼───(0)───────────────┼───@───────────────(0)───┼─────\n",
       "      │     │                 │     │                 │   │                 │   │               │     │\n",
       "3: ───X─────@─────────@───────X─────┼─────────@───────X───┼─────────@───────X───┼───────@───────@─────X─────\n",
       "            │         │             │         │           │         │           │       │       │\n",
       "4: ─────────X─────@───X───@─────────X─────@───X───@───────X─────@───X───@───────X───@───X───@───X───────────\n",
       "                  │       │               │       │             │       │           │       │\n",
       "5: ───────────────Y───────Y───────────────Y───────Y─────────────Y───────Y───────────Y───────Y───────────────</pre>"
      ],
      "text/plain": [
       "0: ───(0)─────────────────────(0)───(0)─────────────────────────────────────@───@─────────────────────@─────\n",
       "      │                       │     │                                       │   │                     │\n",
       "1: ───(0)─────────────────────┼─────┼─────────────────@───@─────────────────┼───┼─────────────────────(0)───\n",
       "      │                       │     │                 │   │                 │   │                     │\n",
       "2: ───┼─────(0)───────────────┼─────@─────────────────┼───(0)───────────────┼───@───────────────(0)───┼─────\n",
       "      │     │                 │     │                 │   │                 │   │               │     │\n",
       "3: ───X─────@─────────@───────X─────┼─────────@───────X───┼─────────@───────X───┼───────@───────@─────X─────\n",
       "            │         │             │         │           │         │           │       │       │\n",
       "4: ─────────X─────@───X───@─────────X─────@───X───@───────X─────@───X───@───────X───@───X───@───X───────────\n",
       "                  │       │               │       │             │       │           │       │\n",
       "5: ───────────────Y───────Y───────────────Y───────Y─────────────Y───────Y───────────Y───────Y───────────────"
      ]
     },
     "execution_count": 28,
     "metadata": {},
     "output_type": "execute_result"
    }
   ],
   "source": [
    "N_ancilla= 3\n",
    "\n",
    "unsimplified_gate_seq = control_circuit(N_ancilla)\n",
    "simple_gate_cancel_list=cancel_double_T_gates(unsimplified_gate_seq)\n",
    "\n",
    "cancel_simple_T = simplify_T_controls_differing_by_one_bit(simple_gate_cancel_list)\n",
    "\n",
    "cancel_T_X_T = simplify_T_X_T(cancel_simple_T)\n",
    "\n",
    "from cirq.circuits import InsertStrategy\n",
    "overall_circuit = cirq.Circuit()\n",
    "for circuit in cancel_T_X_T:\n",
    "    overall_circuit.append(circuit.all_operations(), strategy=InsertStrategy.NEW)\n",
    "overall_circuit"
   ]
  },
  {
   "cell_type": "code",
   "execution_count": 29,
   "metadata": {},
   "outputs": [
    {
     "data": {
      "text/plain": [
       "22"
      ]
     },
     "execution_count": 29,
     "metadata": {},
     "output_type": "execute_result"
    }
   ],
   "source": [
    "len(list(overall_circuit.all_operations()))"
   ]
  },
  {
   "cell_type": "code",
   "execution_count": null,
   "metadata": {},
   "outputs": [],
   "source": [
    "# N_ancilla= 3\n",
    "\n",
    "# unsimplified_gate_seq = control_circuit(N_ancilla)\n",
    "# simple_gate_cancel_list=cancel_double_T_gates(unsimplified_gate_seq)\n",
    "\n",
    "# cancel_simple_T = simplify_T_controls_differing_by_one_bit(simple_gate_cancel_list)\n",
    "\n",
    "# # cancel_T_X_T = simplify_T_X_T(cancel_simple_T) ## <- missing this part for comparison!\n",
    "\n",
    "# from cirq.circuits import InsertStrategy\n",
    "# overall_circuit_no_X_T = cirq.Circuit()\n",
    "# for circuit in cancel_simple_T:\n",
    "#     overall_circuit.append(circuit.all_operations(), strategy=InsertStrategy.NEW)\n",
    "# overall_circuit"
   ]
  },
  {
   "cell_type": "code",
   "execution_count": 30,
   "metadata": {},
   "outputs": [
    {
     "data": {
      "text/html": [
       "<pre style=\"overflow: auto; white-space: pre;\">0: ───(0)───────────────────(0)───(0)───────────────(0)───(0)───────────────(0)───(0)───────────────────(0)───@───────────────────@───@───────────────@───@─────────────────@─────@─────────────────────@─────\n",
       "      │                     │     │                 │     │                 │     │                     │     │                   │   │               │   │                 │     │                     │\n",
       "1: ───(0)───────────────────(0)───(0)───────────────(0)───@─────────────────@─────@─────────────────────@─────@───────────────────@───@───────────────@───(0)───────────────(0)───(0)───────────────────(0)───\n",
       "      │                     │     │                 │     │                 │     │                     │     │                   │   │               │   │                 │     │                     │\n",
       "2: ───┼─────(0)───────(0)───┼─────┼─────@───────@───┼─────┼─────@───────@───┼─────┼─────(0)───────(0)───┼─────┼───(0)───────(0)───┼───┼───@───────@───┼───┼─────@───────@───┼─────┼─────(0)───────(0)───┼─────\n",
       "      │     │         │     │     │     │       │   │     │     │       │   │     │     │         │     │     │   │         │     │   │   │       │   │   │     │       │   │     │     │         │     │\n",
       "3: ───X─────@─────────@─────X─────X─────@───────@───X─────X─────@───────@───X─────X─────@─────────@─────X─────X───@─────────@─────X───X───@───────@───X───X─────@───────@───X─────X─────@─────────@─────X─────\n",
       "            │         │                 │       │               │       │               │         │               │         │             │       │             │       │               │         │\n",
       "4: ─────────X─────@───X─────────────────X───@───X───────────────X───@───X───────────────X─────@───X───────────────X─────@───X─────────────X───@───X─────────────X───@───X───────────────X─────@───X───────────\n",
       "                  │                         │                       │                         │                         │                     │                     │                         │\n",
       "5: ───────────────Y─────────────────────────Y───────────────────────Y─────────────────────────Y─────────────────────────Y─────────────────────Y─────────────────────Y─────────────────────────Y───────────────</pre>"
      ],
      "text/plain": [
       "0: ───(0)───────────────────(0)───(0)───────────────(0)───(0)───────────────(0)───(0)───────────────────(0)───@───────────────────@───@───────────────@───@─────────────────@─────@─────────────────────@─────\n",
       "      │                     │     │                 │     │                 │     │                     │     │                   │   │               │   │                 │     │                     │\n",
       "1: ───(0)───────────────────(0)───(0)───────────────(0)───@─────────────────@─────@─────────────────────@─────@───────────────────@───@───────────────@───(0)───────────────(0)───(0)───────────────────(0)───\n",
       "      │                     │     │                 │     │                 │     │                     │     │                   │   │               │   │                 │     │                     │\n",
       "2: ───┼─────(0)───────(0)───┼─────┼─────@───────@───┼─────┼─────@───────@───┼─────┼─────(0)───────(0)───┼─────┼───(0)───────(0)───┼───┼───@───────@───┼───┼─────@───────@───┼─────┼─────(0)───────(0)───┼─────\n",
       "      │     │         │     │     │     │       │   │     │     │       │   │     │     │         │     │     │   │         │     │   │   │       │   │   │     │       │   │     │     │         │     │\n",
       "3: ───X─────@─────────@─────X─────X─────@───────@───X─────X─────@───────@───X─────X─────@─────────@─────X─────X───@─────────@─────X───X───@───────@───X───X─────@───────@───X─────X─────@─────────@─────X─────\n",
       "            │         │                 │       │               │       │               │         │               │         │             │       │             │       │               │         │\n",
       "4: ─────────X─────@───X─────────────────X───@───X───────────────X───@───X───────────────X─────@───X───────────────X─────@───X─────────────X───@───X─────────────X───@───X───────────────X─────@───X───────────\n",
       "                  │                         │                       │                         │                         │                     │                     │                         │\n",
       "5: ───────────────Y─────────────────────────Y───────────────────────Y─────────────────────────Y─────────────────────────Y─────────────────────Y─────────────────────Y─────────────────────────Y───────────────"
      ]
     },
     "execution_count": 30,
     "metadata": {},
     "output_type": "execute_result"
    }
   ],
   "source": [
    "from cirq.circuits import InsertStrategy\n",
    "non_simplified = cirq.Circuit()\n",
    "for circuit in unsimplified_gate_seq:\n",
    "    \n",
    "    \n",
    "    non_simplified.append(circuit.all_operations(), strategy=InsertStrategy.NEW)\n",
    "non_simplified"
   ]
  },
  {
   "cell_type": "code",
   "execution_count": null,
   "metadata": {},
   "outputs": [],
   "source": [
    "np.array_equal(non_simplified.unitary(), overall_circuit.unitary())"
   ]
  },
  {
   "cell_type": "code",
   "execution_count": null,
   "metadata": {},
   "outputs": [],
   "source": [
    "len(list(non_simplified.all_operations()))"
   ]
  },
  {
   "cell_type": "code",
   "execution_count": null,
   "metadata": {},
   "outputs": [],
   "source": []
  },
  {
   "cell_type": "code",
   "execution_count": 35,
   "metadata": {},
   "outputs": [],
   "source": [
    "with open('Grey_Circuit_non_reduced.txt', 'w') as outfile:\n",
    "    outfile.writelines(non_simplified.to_text_diagram(transpose=False))\n",
    "    \n",
    "with open('Grey_Circuit_REDUCED.txt', 'w') as outfile:\n",
    "    outfile.writelines(overall_circuit.to_text_diagram(transpose=False))"
   ]
  },
  {
   "cell_type": "code",
   "execution_count": 36,
   "metadata": {},
   "outputs": [],
   "source": [
    "# non_simplified.to_text_diagram(transpose=False)"
   ]
  },
  {
   "cell_type": "code",
   "execution_count": null,
   "metadata": {},
   "outputs": [],
   "source": []
  },
  {
   "cell_type": "code",
   "execution_count": null,
   "metadata": {},
   "outputs": [],
   "source": [
    "state_array = np.arange(0,2**Na,1)\n",
    "grey_state_array =np.array([int_to_Gray(i, Na) for i in state_array])\n",
    "grey_state_array[1:]"
   ]
  },
  {
   "cell_type": "code",
   "execution_count": null,
   "metadata": {},
   "outputs": [],
   "source": [
    "def reduction(n_ancilla_qubits):\n",
    "    \n",
    "    state_array = np.arange(0,2**n_ancilla_qubits,1)\n",
    "    grey_state_array =np.array([int_to_Gray(i, n_ancilla_qubits) for i in state_array])\n",
    "    \n",
    "    num_T_removed=0\n",
    "    num_X_added=0\n",
    "    for state_1_index, state_1 in enumerate(grey_state_array[:-1]):\n",
    "        state_2=grey_state_array[state_1_index+1]\n",
    "        \n",
    "        if state_1[0] == state_2[0]:\n",
    "            n_common_bits=0\n",
    "            for bit_1_index, state_1_bit in enumerate(state_1[1:]):\n",
    "                state_2_bit = state_2[1:][bit_1_index]\n",
    "                if state_1_bit==state_2_bit:\n",
    "                    n_common_bits+=1\n",
    "                else:\n",
    "                    break\n",
    "                    \n",
    "            if n_common_bits==0:\n",
    "                ## c-T*c-T = X\n",
    "                num_T_removed-=2\n",
    "                num_X_added+=1\n",
    "            \n",
    "                # TXT = XT\n",
    "                num_T_removed-=1\n",
    "                \n",
    "            elif n_common_bits==n_ancilla_qubits-2:\n",
    "                # TT = I\n",
    "                num_T_removed-=2*n_common_bits\n",
    "                \n",
    "                # c-T c-T = X\n",
    "                num_T_removed-=2\n",
    "                num_X_added+=1\n",
    "                \n",
    "            else:\n",
    "                # TT = I\n",
    "                num_T_removed-=2*n_common_bits\n",
    "                \n",
    "                # c-T c-T = X\n",
    "                num_T_removed-=2\n",
    "                num_X_added+=1\n",
    "                \n",
    "                # TXT = XT\n",
    "                num_T_removed-=1\n",
    "                \n",
    "                \n",
    "        else:\n",
    "            ## c-T*c-T = X\n",
    "            num_T_removed-=2\n",
    "            num_X_added+=1\n",
    "            \n",
    "            # TXT = XT\n",
    "            num_T_removed-=1\n",
    "    \n",
    "    \n",
    "    N_gates_no_reduction= (2**n_ancilla_qubits)*(2*n_ancilla_qubits-1) # 2^{Na} * (2Na-1)\n",
    "    Num_T_no_reduction = (2**n_ancilla_qubits)*(2*n_ancilla_qubits-2) # 2^{Na}  * (2Na-2)\n",
    "    #\n",
    "    No_reduction_CNOTs = Num_T_no_reduction*6\n",
    "    No_reductions_single_G = Num_T_no_reduction*9\n",
    "    \n",
    "    # https://arxiv.org/abs/1710.07345\n",
    "    # pg 18\n",
    "    new_gate_count = N_gates_no_reduction + num_T_removed + num_X_added\n",
    "    reduced_CNOTs=(Num_T_no_reduction+ num_T_removed)*6\n",
    "    reduced_single_G=(Num_T_no_reduction+ num_T_removed)*9\n",
    "    \n",
    "    print(N_gates_no_reduction, new_gate_count)\n",
    "    \n",
    "    return num_T_removed, num_X_added, No_reduction_CNOTs, No_reductions_single_G,reduced_CNOTs, reduced_single_G\n",
    "        \n",
    "\n",
    "reduction(7)"
   ]
  },
  {
   "cell_type": "code",
   "execution_count": null,
   "metadata": {},
   "outputs": [],
   "source": []
  },
  {
   "cell_type": "code",
   "execution_count": null,
   "metadata": {},
   "outputs": [],
   "source": [
    "max_Na=21\n",
    "\n",
    "old_CNOT=[]\n",
    "old_single_G=[]\n",
    "\n",
    "new_CNOT=[]\n",
    "new_single_G=[]\n",
    "\n",
    "N_ancilla= [Na for Na in range(3,max_Na,1)]\n",
    "for Na in N_ancilla:\n",
    "    _, _, No_reduction_CNOTs, No_reductions_single_G,reduced_CNOTs, reduced_single_G = reduction(Na)\n",
    "    old_CNOT.append(No_reduction_CNOTs)\n",
    "    old_single_G.append(No_reductions_single_G)\n",
    "    new_CNOT.append(reduced_CNOTs)\n",
    "    new_single_G.append(reduced_single_G)"
   ]
  },
  {
   "cell_type": "code",
   "execution_count": null,
   "metadata": {},
   "outputs": [],
   "source": [
    "%matplotlib notebook\n",
    "import matplotlib.pyplot as plt\n",
    "\n",
    "fig, ax = plt.subplots()\n",
    "\n",
    "ax.plot(N_ancilla, old_CNOT, color='b', label='old method CNOT')\n",
    "ax.plot(N_ancilla, old_single_G, color='b', label='old method single Q gates', linestyle='--')\n",
    "\n",
    "ax.plot(N_ancilla, new_CNOT, color='r', label='new method CNOT')\n",
    "ax.plot(N_ancilla, new_single_G, color='r', label='new method single Q gates', linestyle='--')\n",
    "\n",
    "ax.set(xlabel='No. Ancilla', ylabel='No. gates')\n",
    "#                                         ,title='Scaling of methods')\n",
    "\n",
    "ax.set_xticks(N_ancilla)\n",
    "\n",
    "ax.grid()\n",
    "plt.legend()"
   ]
  },
  {
   "cell_type": "code",
   "execution_count": null,
   "metadata": {},
   "outputs": [],
   "source": [
    "%matplotlib notebook\n",
    "import matplotlib.pyplot as plt\n",
    "\n",
    "fig, ax = plt.subplots()\n",
    "ax.plot(N_ancilla, new_CNOT, color='r', label='new method CNOT')\n",
    "ax.plot(N_ancilla, new_single_G, color='r', label='new method single Q gates', linestyle='--')\n",
    "\n",
    "ax.set(xlabel='No. Ancilla', ylabel='No. gates')\n",
    "ax.set_xticks(N_ancilla)\n",
    "ax.grid()\n",
    "plt.legend()"
   ]
  },
  {
   "cell_type": "code",
   "execution_count": null,
   "metadata": {},
   "outputs": [],
   "source": [
    "# def reduction(n_ancilla_qubits):\n",
    "    \n",
    "#     state_array = np.arange(0,2**n_ancilla_qubits,1)\n",
    "#     grey_state_array =np.array([int_to_Gray(i, n_ancilla_qubits) for i in state_array])\n",
    "    \n",
    "\n",
    "#     for state_1_index, state_1 in enumerate(grey_state_array[:-1]):\n",
    "#         state_2=grey_state_array[state_1_index+1]\n",
    "        \n",
    "#         if state_1[0] == state_2[0]:\n",
    "#             n_common_bits=0\n",
    "#             for bit_1_index, state_1_bit in enumerate(state_1[1:]):\n",
    "#                 state_2_bit = state_2[1:][bit_1_index]\n",
    "#                 if state_1_bit==state_2_bit:\n",
    "#                     n_common_bits+=1\n",
    "#                 else:\n",
    "#                     break\n",
    "                    \n",
    "#             if n_common_bits==0:\n",
    "#                 ## c-T*c-T = X\n",
    "#                 num_T_removed=2\n",
    "#                 num_X_added=1\n",
    "            \n",
    "#                 # TXT = XT\n",
    "#                 num_T_removed+=1\n",
    "                \n",
    "#             elif n_common_bits==n_ancilla_qubits-2:\n",
    "#                 # TT = I\n",
    "#                 num_T_removed=2*n_common_bits\n",
    "                \n",
    "#                 # c-T c-T = X\n",
    "#                 num_T_removed+=2\n",
    "#                 num_X_added=1\n",
    "                \n",
    "#             else:\n",
    "#                 # TT = I\n",
    "#                 num_T_removed=2*n_common_bits\n",
    "                \n",
    "#                 # c-T c-T = X\n",
    "#                 num_T_removed+=2\n",
    "#                 num_X_added=1\n",
    "                \n",
    "#                 # TXT = XT\n",
    "#                 num_T_removed+=1\n",
    "                \n",
    "                \n",
    "#         else:\n",
    "#             ## c-T*c-T = X\n",
    "#             num_T_removed=2\n",
    "#             num_X_added=1\n",
    "            \n",
    "#             # TXT = XT\n",
    "#             num_T_removed+=1\n",
    "        \n",
    "#         print(state_1, ' vs ', state_2)\n",
    "#         if (state_1[0] == state_2[0]) and (n_common_bits!=n_ancilla_qubits-2):\n",
    "#             print('No. common bits = ', n_common_bits)\n",
    "#         print('T removed = ',num_T_removed)\n",
    "#         print('X added   = ',num_X_added)\n",
    "#         print('###')\n",
    "#     return num_T_removed, num_X_added\n",
    "        \n",
    "\n",
    "# reduction(5)"
   ]
  },
  {
   "cell_type": "code",
   "execution_count": null,
   "metadata": {},
   "outputs": [],
   "source": []
  },
  {
   "cell_type": "code",
   "execution_count": null,
   "metadata": {},
   "outputs": [],
   "source": []
  },
  {
   "cell_type": "code",
   "execution_count": null,
   "metadata": {},
   "outputs": [],
   "source": [
    "cirq.Circuit(cirq.X.controlled(num_controls=2,control_values= [1, 1]).on(qubits[1], qubits[2],  qubits[3]))"
   ]
  },
  {
   "cell_type": "code",
   "execution_count": null,
   "metadata": {},
   "outputs": [],
   "source": [
    "qubits = list(cirq.LineQubit.range(4))\n",
    "circuit = cirq.Circuit(\n",
    "cirq.Circuit(cirq.X.controlled(num_controls=2,control_values= [1, 1]).on(qubits[1], qubits[2],  qubits[3])),\n",
    "cirq.Circuit(cirq.X.controlled(num_controls=1,control_values= [0]).on(qubits[0], qubits[2])),\n",
    "cirq.Circuit(cirq.X.controlled(num_controls=2,control_values= [1, 1]).on(qubits[1], qubits[2],  qubits[3])) \n",
    ")\n",
    "circuit"
   ]
  },
  {
   "cell_type": "code",
   "execution_count": null,
   "metadata": {},
   "outputs": [],
   "source": [
    "qubits = list(cirq.LineQubit.range(4))\n",
    "circuit2 = cirq.Circuit(\n",
    "cirq.Circuit(cirq.X.controlled(num_controls=1,control_values= [0]).on(qubits[0], qubits[2])),\n",
    "cirq.Circuit(cirq.X.controlled(num_controls=2,control_values= [0, 1]).on(qubits[0], qubits[1],  qubits[3])) \n",
    ")\n",
    "circuit2"
   ]
  },
  {
   "cell_type": "code",
   "execution_count": null,
   "metadata": {},
   "outputs": [],
   "source": [
    "np.array_equal(circuit.unitary(), circuit2.unitary())"
   ]
  },
  {
   "cell_type": "code",
   "execution_count": null,
   "metadata": {},
   "outputs": [],
   "source": []
  },
  {
   "cell_type": "code",
   "execution_count": null,
   "metadata": {},
   "outputs": [],
   "source": []
  },
  {
   "cell_type": "code",
   "execution_count": 39,
   "metadata": {},
   "outputs": [],
   "source": [
    "qubits = list(cirq.LineQubit.range(4))\n",
    "circuit = cirq.Circuit(\n",
    "cirq.Circuit(cirq.Y.controlled(num_controls=3, control_values=[0,0,0]).on(qubits[0],qubits[1],qubits[2],qubits[3])),\n",
    "cirq.Circuit(cirq.Y.controlled(num_controls=3, control_values=[1,0,0]).on(qubits[0],qubits[1],qubits[2],qubits[3])),\n",
    "cirq.Circuit(cirq.Y.controlled(num_controls=3, control_values=[1,1,0]).on(qubits[0],qubits[1],qubits[2],qubits[3])),\n",
    "cirq.Circuit(cirq.Y.controlled(num_controls=3, control_values=[0,1,0]).on(qubits[0],qubits[1],qubits[2],qubits[3])),\n",
    "cirq.Circuit(cirq.Y.controlled(num_controls=3, control_values=[0,1,1]).on(qubits[0],qubits[1],qubits[2],qubits[3])),\n",
    "cirq.Circuit(cirq.Y.controlled(num_controls=3, control_values=[1,1,1]).on(qubits[0],qubits[1],qubits[2],qubits[3])),\n",
    "cirq.Circuit(cirq.Y.controlled(num_controls=3, control_values=[1,0,1]).on(qubits[0],qubits[1],qubits[2],qubits[3])),\n",
    "cirq.Circuit(cirq.Y.controlled(num_controls=3, control_values=[0,0,1]).on(qubits[0],qubits[1],qubits[2],qubits[3])),\n",
    ")\n",
    "circuit\n",
    "\n",
    "with open('control_seq.txt', 'w') as outfile:\n",
    "    outfile.writelines(circuit.to_text_diagram(transpose=False))"
   ]
  },
  {
   "cell_type": "code",
   "execution_count": null,
   "metadata": {},
   "outputs": [],
   "source": [
    "qubits = list(cirq.LineQubit.range(4))\n",
    "circuit2 = cirq.Circuit(\n",
    "    cirq.I.on(qubits[0]),\n",
    "    cirq.I.on(qubits[1]),\n",
    "    cirq.I.on(qubits[2]),\n",
    "    cirq.X.on(qubits[3]),)\n",
    "circuit2"
   ]
  },
  {
   "cell_type": "code",
   "execution_count": null,
   "metadata": {},
   "outputs": [],
   "source": [
    "np.array_equal(circuit.unitary(), circuit2.unitary())"
   ]
  },
  {
   "cell_type": "code",
   "execution_count": null,
   "metadata": {},
   "outputs": [],
   "source": []
  },
  {
   "cell_type": "code",
   "execution_count": null,
   "metadata": {},
   "outputs": [],
   "source": []
  },
  {
   "cell_type": "code",
   "execution_count": null,
   "metadata": {},
   "outputs": [],
   "source": [
    "qubits = list(cirq.LineQubit.range(4))\n",
    "circuit = cirq.Circuit(\n",
    "cirq.Circuit(cirq.X.controlled(num_controls=3, control_values=[0,0,0]).on(qubits[0],qubits[1],qubits[2],qubits[3])),\n",
    "cirq.Circuit(cirq.X.controlled(num_controls=3, control_values=[1,0,0]).on(qubits[0],qubits[1],qubits[2],qubits[3]))\n",
    ")\n",
    "circuit"
   ]
  },
  {
   "cell_type": "code",
   "execution_count": null,
   "metadata": {},
   "outputs": [],
   "source": [
    "qubits = list(cirq.LineQubit.range(4))\n",
    "circuit2 = cirq.Circuit(\n",
    "cirq.I.on(qubits[0]),\n",
    "cirq.Circuit(cirq.X.controlled(num_controls=2, control_values=[0,0]).on(qubits[1],qubits[2],qubits[3])),\n",
    ")\n",
    "circuit2"
   ]
  },
  {
   "cell_type": "code",
   "execution_count": null,
   "metadata": {},
   "outputs": [],
   "source": [
    "np.array_equal(circuit.unitary(), circuit2.unitary())"
   ]
  },
  {
   "cell_type": "code",
   "execution_count": null,
   "metadata": {},
   "outputs": [],
   "source": []
  },
  {
   "cell_type": "code",
   "execution_count": null,
   "metadata": {},
   "outputs": [],
   "source": []
  },
  {
   "cell_type": "markdown",
   "metadata": {},
   "source": [
    "## cannot do"
   ]
  },
  {
   "cell_type": "code",
   "execution_count": null,
   "metadata": {},
   "outputs": [],
   "source": [
    "from openfermion.ops import QubitOperator"
   ]
  },
  {
   "cell_type": "code",
   "execution_count": null,
   "metadata": {},
   "outputs": [],
   "source": [
    "QubitOperator('X0')*QubitOperator('Y0')"
   ]
  },
  {
   "cell_type": "code",
   "execution_count": null,
   "metadata": {},
   "outputs": [],
   "source": [
    "class phase_Pauli_gate(cirq.SingleQubitGate):\n",
    "    \"\"\"\n",
    "    Description\n",
    "\n",
    "    Args:\n",
    "        theta (float): angle to rotate by in radians.\n",
    "        number_control_qubits (int): number of control qubits\n",
    "    \"\"\"\n",
    "\n",
    "    def __init__(self, phase, pauli_str):\n",
    "        self.phase = phase\n",
    "        self.pauli_str = pauli_str\n",
    "\n",
    "    def _unitary_(self):\n",
    "        if self.pauli_str == 'X':\n",
    "            return cirq.X._unitary_()*self.phase\n",
    "        elif self.pauli_str == 'Y':\n",
    "            return cirq.Y._unitary_()*self.phase\n",
    "        elif self.pauli_str == 'Z':\n",
    "            return cirq.Z._unitary_()*self.phase\n",
    "        elif self.pauli_str == 'I':\n",
    "            return cirq.I._unitary_()*self.phase\n",
    "        else:\n",
    "            raise ValueError('Not a Pauli operation')\n",
    "\n",
    "    def num_qubits(self):\n",
    "        return 1\n",
    "\n",
    "    def _circuit_diagram_info_(self, args):\n",
    "        return str(self.phase) +'*'+self.pauli_str\n",
    "\n",
    "    def __str__(self):\n",
    "        return str(self.phase) +'*'+self.pauli_str\n",
    "\n",
    "    def __repr__(self):\n",
    "        return self.__str__()"
   ]
  },
  {
   "cell_type": "code",
   "execution_count": null,
   "metadata": {},
   "outputs": [],
   "source": [
    "QubitOperator('Y0',-1)*QubitOperator('Z0', 1j)"
   ]
  },
  {
   "cell_type": "code",
   "execution_count": null,
   "metadata": {},
   "outputs": [],
   "source": [
    "qubits = list(cirq.LineQubit.range(4))\n",
    "circuit = cirq.Circuit(\n",
    "cirq.Circuit(cirq.X.controlled(num_controls=3, control_values=[0,0,0]).on(qubits[0],qubits[1],qubits[2],qubits[3])),\n",
    "cirq.Circuit(cirq.Y.controlled(num_controls=3, control_values=[1,0,0]).on(qubits[0],qubits[1],qubits[2],qubits[3]))\n",
    ")\n",
    "circuit"
   ]
  },
  {
   "cell_type": "code",
   "execution_count": null,
   "metadata": {},
   "outputs": [],
   "source": [
    "phase_Z0_gate = phase_Pauli_gate(1j, 'Z')\n",
    "phase_Y_gate = phase_Pauli_gate(-1, 'Y')\n",
    "\n",
    "qubits = list(cirq.LineQubit.range(4))\n",
    "circuit2 = cirq.Circuit(\n",
    "#     cirq.Circuit(phase_Y_gate.controlled(num_controls=1, control_values=[0]).on(qubits[0],qubits[3])),\n",
    "#     cirq.Circuit(cirq.X.controlled(num_controls=1, control_values=[1]).on(qubits[0],qubits[3])),\n",
    "    cirq.I.on(qubits[0]),\n",
    "    cirq.Circuit(phase_Z0_gate.controlled(num_controls=2, control_values=[0,0]).on(qubits[1],qubits[2],qubits[3])),\n",
    ")\n",
    "circuit2"
   ]
  },
  {
   "cell_type": "code",
   "execution_count": null,
   "metadata": {},
   "outputs": [],
   "source": [
    "np.array_equal(circuit.unitary(), circuit2.unitary())"
   ]
  },
  {
   "cell_type": "code",
   "execution_count": null,
   "metadata": {},
   "outputs": [],
   "source": []
  },
  {
   "cell_type": "code",
   "execution_count": null,
   "metadata": {},
   "outputs": [],
   "source": []
  },
  {
   "cell_type": "code",
   "execution_count": null,
   "metadata": {},
   "outputs": [],
   "source": [
    "OP1=QubitOperator('X0 I1',1)+QubitOperator('X0 Y1',1)\n",
    "\n",
    "OP2=QubitOperator('Z0 Z1',1)+QubitOperator('Y0 X1',1)"
   ]
  },
  {
   "cell_type": "code",
   "execution_count": null,
   "metadata": {},
   "outputs": [],
   "source": [
    "OP1*OP2==OP2*OP1"
   ]
  },
  {
   "cell_type": "code",
   "execution_count": null,
   "metadata": {},
   "outputs": [],
   "source": [
    "OP1=QubitOperator('X0 X1',1)+QubitOperator('Z0 Z1',1)\n",
    "\n",
    "OP2=QubitOperator('Y0 Y1',1)\n",
    "OP1*OP2==OP2*OP1"
   ]
  },
  {
   "cell_type": "code",
   "execution_count": null,
   "metadata": {},
   "outputs": [],
   "source": [
    "OP1=QubitOperator('Y0',1)\n",
    "\n",
    "OP2=QubitOperator('X0',1)\n",
    "OP1*OP2"
   ]
  },
  {
   "cell_type": "code",
   "execution_count": null,
   "metadata": {},
   "outputs": [],
   "source": [
    "1j*1j*-1j"
   ]
  }
 ],
 "metadata": {
  "kernelspec": {
   "display_name": "Python 3",
   "language": "python",
   "name": "python3"
  },
  "language_info": {
   "codemirror_mode": {
    "name": "ipython",
    "version": 3
   },
   "file_extension": ".py",
   "mimetype": "text/x-python",
   "name": "python",
   "nbconvert_exporter": "python",
   "pygments_lexer": "ipython3",
   "version": "3.7.6"
  }
 },
 "nbformat": 4,
 "nbformat_minor": 4
}
