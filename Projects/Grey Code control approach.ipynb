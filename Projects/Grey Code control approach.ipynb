{
 "cells": [
  {
   "cell_type": "code",
   "execution_count": 2,
   "metadata": {},
   "outputs": [],
   "source": [
    "import cirq\n",
    "import numpy as np"
   ]
  },
  {
   "cell_type": "code",
   "execution_count": 3,
   "metadata": {},
   "outputs": [],
   "source": [
    "def int_to_Gray(base_10_num, n_qubits):\n",
    "    # https://en.wikipedia.org/wiki/Gray_code\n",
    "\n",
    "    # print(np.binary_repr(num, n_qubits)) # standard binary form!\n",
    "\n",
    "    # The operator >> is shift right. The operator ^ is exclusive or\n",
    "    gray_int = base_10_num ^ (base_10_num >> 1)\n",
    "\n",
    "    return np.binary_repr(gray_int, n_qubits)"
   ]
  },
  {
   "cell_type": "code",
   "execution_count": 14,
   "metadata": {},
   "outputs": [
    {
     "name": "stdout",
     "output_type": "stream",
     "text": [
      "[ 0  1  2  3  4  5  6  7  8  9 10 11 12 13 14 15]\n",
      "['0000' '0001' '0011' '0010' '0110' '0111' '0101' '0100' '1100' '1101'\n",
      " '1111' '1110' '1010' '1011' '1001' '1000']\n"
     ]
    }
   ],
   "source": [
    "n_qubits=4\n",
    "\n",
    "state_array = np.arange(0,2**n_qubits,1)\n",
    "print(state_array)\n",
    "\n",
    "grey_state=np.array([int_to_Gray(i, n_qubits) for i in state_array])\n",
    "print(grey_state)"
   ]
  },
  {
   "cell_type": "code",
   "execution_count": 35,
   "metadata": {},
   "outputs": [],
   "source": [
    "start_index = np.where(grey_state==''.join(['1' for _ in range(n_qubits)]))[0][0]"
   ]
  },
  {
   "cell_type": "code",
   "execution_count": 42,
   "metadata": {},
   "outputs": [
    {
     "data": {
      "text/plain": [
       "array(['1111', '1110', '1010', '1011', '1001', '1000', '0000', '0001',\n",
       "       '0011', '0010', '0110', '0111', '0101', '0100', '1100', '1101'],\n",
       "      dtype='<U4')"
      ]
     },
     "execution_count": 42,
     "metadata": {},
     "output_type": "execute_result"
    }
   ],
   "source": [
    "np.hstack((grey_state[start_index::], grey_state[:start_index]))"
   ]
  },
  {
   "cell_type": "code",
   "execution_count": 636,
   "metadata": {},
   "outputs": [],
   "source": [
    "def control_circuit(n_ancilla_qubits): # list_system_qubits\n",
    "    ancilla_qubits = list(cirq.LineQubit.range(n_ancilla_qubits))\n",
    "    \n",
    "    n_work_qubits = n_ancilla_qubits-1\n",
    "    work_qubits = list(cirq.LineQubit.range(n_ancilla_qubits, n_work_qubits+n_ancilla_qubits))\n",
    "    \n",
    "    system_qubit = cirq.LineQubit(n_work_qubits+n_ancilla_qubits) #need to change this when doing properly!\n",
    "    \n",
    "    state_array = np.arange(0,2**n_ancilla_qubits,1)\n",
    "    grey_state_array =np.array([int_to_Gray(i, n_ancilla_qubits) for i in state_array])\n",
    "    \n",
    "    start_index = np.where(grey_state_array==''.join(['1' for _ in range(n_ancilla_qubits)]))[0][0] # find all '11...1' state\n",
    "    \n",
    "    control_states_in_order = np.hstack((grey_state_array[start_index::], grey_state_array[:start_index]))\n",
    "    \n",
    "    \n",
    "    control_circuit_list=[]\n",
    "    for control_str in control_states_in_order:\n",
    "        control_int_list = [int(bit) for bit in control_str]\n",
    "#         print(control_int_list)\n",
    "        circuit_list=[]\n",
    "        for index, work_bit in enumerate(work_qubits):\n",
    "            if index ==0:\n",
    "                circuit_list.append(cirq.Circuit(cirq.X.controlled(num_controls=2,\n",
    "                                               control_values=control_int_list[:2]\n",
    "                                              ).on(*ancilla_qubits[:2], work_bit)))\n",
    "                \n",
    "            elif index<n_work_qubits-1:\n",
    "                circuit_list.append(cirq.Circuit(cirq.X.controlled(num_controls=2,\n",
    "                                               control_values= [control_int_list[1+index], 1] \n",
    "                                              ).on(ancilla_qubits[1+index], work_qubits[index-1], work_qubits[index])))\n",
    "            else:\n",
    "                circuit_list.append(cirq.Circuit(cirq.X.controlled(num_controls=2,\n",
    "                                               control_values= [control_int_list[1+index], 1] \n",
    "                                              ).on(ancilla_qubits[1+index], work_qubits[index-1], work_qubits[index])))\n",
    "        \n",
    "        control_P = cirq.Circuit(cirq.Y.controlled(num_controls=1,\n",
    "                                               control_values= [1] \n",
    "                                              ).on(work_qubits[-1], system_qubit))\n",
    "        \n",
    "        full_circuit=[circuit_list, control_P, circuit_list[::-1]]\n",
    "        \n",
    "#         print(cirq.Circuit(full_circuit))\n",
    "#         print('')\n",
    "        control_circuit_list.append(cirq.Circuit(full_circuit))\n",
    "        \n",
    "    return control_circuit_list\n",
    "        \n",
    "\n",
    "unsimplified_gate_seq = control_circuit(4)"
   ]
  },
  {
   "cell_type": "code",
   "execution_count": 637,
   "metadata": {},
   "outputs": [
    {
     "data": {
      "text/html": [
       "<pre style=\"overflow: auto; white-space: pre;\">0: ───@───────────────────────@───\n",
       "      │                       │\n",
       "1: ───@───────────────────────@───\n",
       "      │                       │\n",
       "2: ───┼───@───────────────@───┼───\n",
       "      │   │               │   │\n",
       "3: ───┼───┼───@───────@───┼───┼───\n",
       "      │   │   │       │   │   │\n",
       "4: ───X───@───┼───────┼───@───X───\n",
       "          │   │       │   │\n",
       "5: ───────X───@───────@───X───────\n",
       "              │       │\n",
       "6: ───────────X───@───X───────────\n",
       "                  │\n",
       "7: ───────────────Y───────────────</pre>"
      ],
      "text/plain": [
       "0: ───@───────────────────────@───\n",
       "      │                       │\n",
       "1: ───@───────────────────────@───\n",
       "      │                       │\n",
       "2: ───┼───@───────────────@───┼───\n",
       "      │   │               │   │\n",
       "3: ───┼───┼───@───────@───┼───┼───\n",
       "      │   │   │       │   │   │\n",
       "4: ───X───@───┼───────┼───@───X───\n",
       "          │   │       │   │\n",
       "5: ───────X───@───────@───X───────\n",
       "              │       │\n",
       "6: ───────────X───@───X───────────\n",
       "                  │\n",
       "7: ───────────────Y───────────────"
      ]
     },
     "execution_count": 637,
     "metadata": {},
     "output_type": "execute_result"
    }
   ],
   "source": [
    "unsimplified_gate_seq[0]"
   ]
  },
  {
   "cell_type": "code",
   "execution_count": 638,
   "metadata": {},
   "outputs": [
    {
     "data": {
      "text/plain": [
       "cirq.ControlledGate(sub_gate=cirq.X, num_controls=2)"
      ]
     },
     "execution_count": 638,
     "metadata": {},
     "output_type": "execute_result"
    }
   ],
   "source": [
    "list(unsimplified_gate_seq[0].all_operations())[-1].gate\n",
    "# list(unsimplified_gate_seq[0].all_operations())[-1].gate.sub_gate\n",
    "# list(unsimplified_gate_seq[0].all_operations())[-1].qubits\n",
    "# list(unsimplified_gate_seq[0].all_operations())[-1].control_values"
   ]
  },
  {
   "cell_type": "code",
   "execution_count": 639,
   "metadata": {},
   "outputs": [
    {
     "data": {
      "text/plain": [
       "2"
      ]
     },
     "execution_count": 639,
     "metadata": {},
     "output_type": "execute_result"
    }
   ],
   "source": [
    "circuit_1_ops = list(unsimplified_gate_seq[0].all_operations())\n",
    "circuit_2_ops = list(unsimplified_gate_seq[1].all_operations())\n",
    "len(circuit_1_ops[0].control_values)"
   ]
  },
  {
   "cell_type": "code",
   "execution_count": 640,
   "metadata": {
    "code_folding": []
   },
   "outputs": [],
   "source": [
    "def recursive_simplification(circuit_1_ops, circuit_2_ops):\n",
    "    if (circuit_1_ops[-1] == circuit_2_ops[0]) and (len(circuit_1_ops[-1].control_values)==2):\n",
    "        circuit_1_ops.pop(-1)\n",
    "        circuit_2_ops.pop(0)\n",
    "        \n",
    "        return recursive_simplification(circuit_1_ops, circuit_2_ops)\n",
    "    else:\n",
    "        return circuit_1_ops, circuit_2_ops\n",
    "        \n",
    "# circuit_1_ops = list(unsimplified_gate_seq[0].all_operations())\n",
    "# circuit_2_ops = list(unsimplified_gate_seq[1].all_operations())\n",
    "# c1, c2 = recursive_simplification(circuit_1_ops, circuit_2_ops)\n",
    "# print(cirq.Circuit(c1))\n",
    "# print(cirq.Circuit(c2))"
   ]
  },
  {
   "cell_type": "code",
   "execution_count": 641,
   "metadata": {},
   "outputs": [
    {
     "data": {
      "text/plain": [
       "[0: ───@───────────────────\n",
       "      │\n",
       "1: ───@───────────────────\n",
       "      │\n",
       "2: ───┼───@───────────────\n",
       "      │   │\n",
       "3: ───┼───┼───@───────@───\n",
       "      │   │   │       │\n",
       "4: ───X───@───┼───────┼───\n",
       "          │   │       │\n",
       "5: ───────X───@───────@───\n",
       "              │       │\n",
       "6: ───────────X───@───X───\n",
       "                  │\n",
       "7: ───────────────Y───────,\n",
       " 0: ───────────────────────@───\n",
       "                          │\n",
       "1: ───────────────────────@───\n",
       "                          │\n",
       "2: ───────────────────@───┼───\n",
       "                      │   │\n",
       "3: ───(0)───────(0)───┼───┼───\n",
       "      │         │     │   │\n",
       "4: ───┼─────────┼─────@───X───\n",
       "      │         │     │\n",
       "5: ───@─────────@─────X───────\n",
       "      │         │\n",
       "6: ───X─────@───X─────────────\n",
       "            │\n",
       "7: ─────────Y─────────────────,\n",
       " 0: ───@─────────────────────────\n",
       "      │\n",
       "1: ───(0)───────────────────────\n",
       "      │\n",
       "2: ───┼─────@───────────────────\n",
       "      │     │\n",
       "3: ───┼─────┼───(0)───────(0)───\n",
       "      │     │   │         │\n",
       "4: ───X─────@───┼─────────┼─────\n",
       "            │   │         │\n",
       "5: ─────────X───@─────────@─────\n",
       "                │         │\n",
       "6: ─────────────X─────@───X─────\n",
       "                      │\n",
       "7: ───────────────────Y─────────,\n",
       " 2: ───────────────@───\n",
       "                  │\n",
       "3: ───@───────@───┼───\n",
       "      │       │   │\n",
       "4: ───┼───────┼───@───\n",
       "      │       │   │\n",
       "5: ───@───────@───X───\n",
       "      │       │\n",
       "6: ───X───@───X───────\n",
       "          │\n",
       "7: ───────Y───────────,\n",
       " 2: ───(0)───────────────\n",
       "      │\n",
       "3: ───┼─────@───────@───\n",
       "      │     │       │\n",
       "4: ───@─────┼───────┼───\n",
       "      │     │       │\n",
       "5: ───X─────@───────@───\n",
       "            │       │\n",
       "6: ─────────X───@───X───\n",
       "                │\n",
       "7: ─────────────Y───────,\n",
       " 0: ─────────────────────────@─────\n",
       "                            │\n",
       "1: ─────────────────────────(0)───\n",
       "                            │\n",
       "2: ───────────────────(0)───┼─────\n",
       "                      │     │\n",
       "3: ───(0)───────(0)───┼─────┼─────\n",
       "      │         │     │     │\n",
       "4: ───┼─────────┼─────@─────X─────\n",
       "      │         │     │\n",
       "5: ───@─────────@─────X───────────\n",
       "      │         │\n",
       "6: ───X─────@───X─────────────────\n",
       "            │\n",
       "7: ─────────Y─────────────────────,\n",
       " 0: ───(0)─────────────────────────\n",
       "      │\n",
       "1: ───(0)─────────────────────────\n",
       "      │\n",
       "2: ───┼─────(0)───────────────────\n",
       "      │     │\n",
       "3: ───┼─────┼─────(0)───────(0)───\n",
       "      │     │     │         │\n",
       "4: ───X─────@─────┼─────────┼─────\n",
       "            │     │         │\n",
       "5: ─────────X─────@─────────@─────\n",
       "                  │         │\n",
       "6: ───────────────X─────@───X─────\n",
       "                        │\n",
       "7: ─────────────────────Y─────────,\n",
       " 2: ───────────────(0)───\n",
       "                  │\n",
       "3: ───@───────@───┼─────\n",
       "      │       │   │\n",
       "4: ───┼───────┼───@─────\n",
       "      │       │   │\n",
       "5: ───@───────@───X─────\n",
       "      │       │\n",
       "6: ───X───@───X─────────\n",
       "          │\n",
       "7: ───────Y─────────────,\n",
       " 2: ───@───────────────\n",
       "      │\n",
       "3: ───┼───@───────@───\n",
       "      │   │       │\n",
       "4: ───@───┼───────┼───\n",
       "      │   │       │\n",
       "5: ───X───@───────@───\n",
       "          │       │\n",
       "6: ───────X───@───X───\n",
       "              │\n",
       "7: ───────────Y───────,\n",
       " 0: ───────────────────────(0)───\n",
       "                          │\n",
       "1: ───────────────────────(0)───\n",
       "                          │\n",
       "2: ───────────────────@───┼─────\n",
       "                      │   │\n",
       "3: ───(0)───────(0)───┼───┼─────\n",
       "      │         │     │   │\n",
       "4: ───┼─────────┼─────@───X─────\n",
       "      │         │     │\n",
       "5: ───@─────────@─────X─────────\n",
       "      │         │\n",
       "6: ───X─────@───X───────────────\n",
       "            │\n",
       "7: ─────────Y───────────────────,\n",
       " 0: ───(0)───────────────────────\n",
       "      │\n",
       "1: ───@─────────────────────────\n",
       "      │\n",
       "2: ───┼─────@───────────────────\n",
       "      │     │\n",
       "3: ───┼─────┼───(0)───────(0)───\n",
       "      │     │   │         │\n",
       "4: ───X─────@───┼─────────┼─────\n",
       "            │   │         │\n",
       "5: ─────────X───@─────────@─────\n",
       "                │         │\n",
       "6: ─────────────X─────@───X─────\n",
       "                      │\n",
       "7: ───────────────────Y─────────,\n",
       " 2: ───────────────@───\n",
       "                  │\n",
       "3: ───@───────@───┼───\n",
       "      │       │   │\n",
       "4: ───┼───────┼───@───\n",
       "      │       │   │\n",
       "5: ───@───────@───X───\n",
       "      │       │\n",
       "6: ───X───@───X───────\n",
       "          │\n",
       "7: ───────Y───────────,\n",
       " 2: ───(0)───────────────\n",
       "      │\n",
       "3: ───┼─────@───────@───\n",
       "      │     │       │\n",
       "4: ───@─────┼───────┼───\n",
       "      │     │       │\n",
       "5: ───X─────@───────@───\n",
       "            │       │\n",
       "6: ─────────X───@───X───\n",
       "                │\n",
       "7: ─────────────Y───────,\n",
       " 0: ─────────────────────────(0)───\n",
       "                            │\n",
       "1: ─────────────────────────@─────\n",
       "                            │\n",
       "2: ───────────────────(0)───┼─────\n",
       "                      │     │\n",
       "3: ───(0)───────(0)───┼─────┼─────\n",
       "      │         │     │     │\n",
       "4: ───┼─────────┼─────@─────X─────\n",
       "      │         │     │\n",
       "5: ───@─────────@─────X───────────\n",
       "      │         │\n",
       "6: ───X─────@───X─────────────────\n",
       "            │\n",
       "7: ─────────Y─────────────────────,\n",
       " 0: ───@─────────────────────────\n",
       "      │\n",
       "1: ───@─────────────────────────\n",
       "      │\n",
       "2: ───┼───(0)───────────────────\n",
       "      │   │\n",
       "3: ───┼───┼─────(0)───────(0)───\n",
       "      │   │     │         │\n",
       "4: ───X───@─────┼─────────┼─────\n",
       "          │     │         │\n",
       "5: ───────X─────@─────────@─────\n",
       "                │         │\n",
       "6: ─────────────X─────@───X─────\n",
       "                      │\n",
       "7: ───────────────────Y─────────,\n",
       " 0: ─────────────────────@───\n",
       "                        │\n",
       "1: ─────────────────────@───\n",
       "                        │\n",
       "2: ───────────────(0)───┼───\n",
       "                  │     │\n",
       "3: ───@───────@───┼─────┼───\n",
       "      │       │   │     │\n",
       "4: ───┼───────┼───@─────X───\n",
       "      │       │   │\n",
       "5: ───@───────@───X─────────\n",
       "      │       │\n",
       "6: ───X───@───X─────────────\n",
       "          │\n",
       "7: ───────Y─────────────────]"
      ]
     },
     "execution_count": 641,
     "metadata": {},
     "output_type": "execute_result"
    }
   ],
   "source": [
    "simple_gate_cancel_list=unsimplified_gate_seq.copy()\n",
    "\n",
    "for index in range(len(simple_gate_cancel_list)-1):\n",
    "    circuit_1_ops = list(simple_gate_cancel_list[index].all_operations())\n",
    "    circuit_2_ops = list(simple_gate_cancel_list[index+1].all_operations())\n",
    "    c1_new, c2_new = recursive_simplification(circuit_1_ops, circuit_2_ops)\n",
    "                                                                                               \n",
    "    simple_gate_cancel_list[index] = cirq.Circuit(c1_new)\n",
    "    simple_gate_cancel_list[index+1] = cirq.Circuit(c2_new)\n",
    "    \n",
    "simple_gate_cancel_list"
   ]
  },
  {
   "cell_type": "code",
   "execution_count": 182,
   "metadata": {},
   "outputs": [
    {
     "data": {
      "text/plain": [
       "[0: ───@───────────────────\n",
       "      │\n",
       "1: ───@───────────────────\n",
       "      │\n",
       "2: ───┼───@───────────────\n",
       "      │   │\n",
       "3: ───┼───┼───@───────@───\n",
       "      │   │   │       │\n",
       "4: ───X───@───┼───────┼───\n",
       "          │   │       │\n",
       "5: ───────X───@───────@───\n",
       "              │       │\n",
       "6: ───────────X───@───X───\n",
       "                  │\n",
       "7: ───────────────Y───────,\n",
       " 0: ───────────────────────@───\n",
       "                          │\n",
       "1: ───────────────────────@───\n",
       "                          │\n",
       "2: ───────────────────@───┼───\n",
       "                      │   │\n",
       "3: ───(0)───────(0)───┼───┼───\n",
       "      │         │     │   │\n",
       "4: ───┼─────────┼─────@───X───\n",
       "      │         │     │\n",
       "5: ───@─────────@─────X───────\n",
       "      │         │\n",
       "6: ───X─────@───X─────────────\n",
       "            │\n",
       "7: ─────────Y─────────────────,\n",
       " 0: ───@─────────────────────────\n",
       "      │\n",
       "1: ───(0)───────────────────────\n",
       "      │\n",
       "2: ───┼─────@───────────────────\n",
       "      │     │\n",
       "3: ───┼─────┼───(0)───────(0)───\n",
       "      │     │   │         │\n",
       "4: ───X─────@───┼─────────┼─────\n",
       "            │   │         │\n",
       "5: ─────────X───@─────────@─────\n",
       "                │         │\n",
       "6: ─────────────X─────@───X─────\n",
       "                      │\n",
       "7: ───────────────────Y─────────,\n",
       " 2: ───────────────@───\n",
       "                  │\n",
       "3: ───@───────@───┼───\n",
       "      │       │   │\n",
       "4: ───┼───────┼───@───\n",
       "      │       │   │\n",
       "5: ───@───────@───X───\n",
       "      │       │\n",
       "6: ───X───@───X───────\n",
       "          │\n",
       "7: ───────Y───────────,\n",
       " 2: ───(0)───────────────\n",
       "      │\n",
       "3: ───┼─────@───────@───\n",
       "      │     │       │\n",
       "4: ───@─────┼───────┼───\n",
       "      │     │       │\n",
       "5: ───X─────@───────@───\n",
       "            │       │\n",
       "6: ─────────X───@───X───\n",
       "                │\n",
       "7: ─────────────Y───────,\n",
       " 0: ─────────────────────────@─────\n",
       "                            │\n",
       "1: ─────────────────────────(0)───\n",
       "                            │\n",
       "2: ───────────────────(0)───┼─────\n",
       "                      │     │\n",
       "3: ───(0)───────(0)───┼─────┼─────\n",
       "      │         │     │     │\n",
       "4: ───┼─────────┼─────@─────X─────\n",
       "      │         │     │\n",
       "5: ───@─────────@─────X───────────\n",
       "      │         │\n",
       "6: ───X─────@───X─────────────────\n",
       "            │\n",
       "7: ─────────Y─────────────────────,\n",
       " 0: ───(0)─────────────────────────\n",
       "      │\n",
       "1: ───(0)─────────────────────────\n",
       "      │\n",
       "2: ───┼─────(0)───────────────────\n",
       "      │     │\n",
       "3: ───┼─────┼─────(0)───────(0)───\n",
       "      │     │     │         │\n",
       "4: ───X─────@─────┼─────────┼─────\n",
       "            │     │         │\n",
       "5: ─────────X─────@─────────@─────\n",
       "                  │         │\n",
       "6: ───────────────X─────@───X─────\n",
       "                        │\n",
       "7: ─────────────────────Y─────────,\n",
       " 2: ───────────────(0)───\n",
       "                  │\n",
       "3: ───@───────@───┼─────\n",
       "      │       │   │\n",
       "4: ───┼───────┼───@─────\n",
       "      │       │   │\n",
       "5: ───@───────@───X─────\n",
       "      │       │\n",
       "6: ───X───@───X─────────\n",
       "          │\n",
       "7: ───────Y─────────────,\n",
       " 2: ───@───────────────\n",
       "      │\n",
       "3: ───┼───@───────@───\n",
       "      │   │       │\n",
       "4: ───@───┼───────┼───\n",
       "      │   │       │\n",
       "5: ───X───@───────@───\n",
       "          │       │\n",
       "6: ───────X───@───X───\n",
       "              │\n",
       "7: ───────────Y───────,\n",
       " 0: ───────────────────────(0)───\n",
       "                          │\n",
       "1: ───────────────────────(0)───\n",
       "                          │\n",
       "2: ───────────────────@───┼─────\n",
       "                      │   │\n",
       "3: ───(0)───────(0)───┼───┼─────\n",
       "      │         │     │   │\n",
       "4: ───┼─────────┼─────@───X─────\n",
       "      │         │     │\n",
       "5: ───@─────────@─────X─────────\n",
       "      │         │\n",
       "6: ───X─────@───X───────────────\n",
       "            │\n",
       "7: ─────────Y───────────────────,\n",
       " 0: ───(0)───────────────────────\n",
       "      │\n",
       "1: ───@─────────────────────────\n",
       "      │\n",
       "2: ───┼─────@───────────────────\n",
       "      │     │\n",
       "3: ───┼─────┼───(0)───────(0)───\n",
       "      │     │   │         │\n",
       "4: ───X─────@───┼─────────┼─────\n",
       "            │   │         │\n",
       "5: ─────────X───@─────────@─────\n",
       "                │         │\n",
       "6: ─────────────X─────@───X─────\n",
       "                      │\n",
       "7: ───────────────────Y─────────,\n",
       " 2: ───────────────@───\n",
       "                  │\n",
       "3: ───@───────@───┼───\n",
       "      │       │   │\n",
       "4: ───┼───────┼───@───\n",
       "      │       │   │\n",
       "5: ───@───────@───X───\n",
       "      │       │\n",
       "6: ───X───@───X───────\n",
       "          │\n",
       "7: ───────Y───────────,\n",
       " 2: ───(0)───────────────\n",
       "      │\n",
       "3: ───┼─────@───────@───\n",
       "      │     │       │\n",
       "4: ───@─────┼───────┼───\n",
       "      │     │       │\n",
       "5: ───X─────@───────@───\n",
       "            │       │\n",
       "6: ─────────X───@───X───\n",
       "                │\n",
       "7: ─────────────Y───────,\n",
       " 0: ─────────────────────────(0)───\n",
       "                            │\n",
       "1: ─────────────────────────@─────\n",
       "                            │\n",
       "2: ───────────────────(0)───┼─────\n",
       "                      │     │\n",
       "3: ───(0)───────(0)───┼─────┼─────\n",
       "      │         │     │     │\n",
       "4: ───┼─────────┼─────@─────X─────\n",
       "      │         │     │\n",
       "5: ───@─────────@─────X───────────\n",
       "      │         │\n",
       "6: ───X─────@───X─────────────────\n",
       "            │\n",
       "7: ─────────Y─────────────────────,\n",
       " 0: ───@─────────────────────────\n",
       "      │\n",
       "1: ───@─────────────────────────\n",
       "      │\n",
       "2: ───┼───(0)───────────────────\n",
       "      │   │\n",
       "3: ───┼───┼─────(0)───────(0)───\n",
       "      │   │     │         │\n",
       "4: ───X───@─────┼─────────┼─────\n",
       "          │     │         │\n",
       "5: ───────X─────@─────────@─────\n",
       "                │         │\n",
       "6: ─────────────X─────@───X─────\n",
       "                      │\n",
       "7: ───────────────────Y─────────,\n",
       " 0: ─────────────────────@───\n",
       "                        │\n",
       "1: ─────────────────────@───\n",
       "                        │\n",
       "2: ───────────────(0)───┼───\n",
       "                  │     │\n",
       "3: ───@───────@───┼─────┼───\n",
       "      │       │   │     │\n",
       "4: ───┼───────┼───@─────X───\n",
       "      │       │   │\n",
       "5: ───@───────@───X─────────\n",
       "      │       │\n",
       "6: ───X───@───X─────────────\n",
       "          │\n",
       "7: ───────Y─────────────────]"
      ]
     },
     "execution_count": 182,
     "metadata": {},
     "output_type": "execute_result"
    }
   ],
   "source": [
    "def cancel_double_T_gates(list_of_Q_circuits):\n",
    "    # takes in list of circuits and simplifies repeated Toffoli gates \n",
    "    simplified_circuit_list=list_of_Q_circuits.copy()\n",
    "    for index in range(len(simplified_circuit_list)-1):\n",
    "        circuit_1_ops = list(simplified_circuit_list[index].all_operations())\n",
    "        circuit_2_ops = list(simplified_circuit_list[index+1].all_operations())\n",
    "        c1_new, c2_new = recursive_simplification(circuit_1_ops, circuit_2_ops)\n",
    "\n",
    "        simplified_circuit_list[index] = cirq.Circuit(c1_new)\n",
    "        simplified_circuit_list[index+1] = cirq.Circuit(c2_new)\n",
    "    return simplified_circuit_list\n",
    "simple_gate_cancel_list=cancel_double_T_gates(unsimplified_gate_seq)\n",
    "simple_gate_cancel_list"
   ]
  },
  {
   "cell_type": "code",
   "execution_count": 642,
   "metadata": {},
   "outputs": [],
   "source": [
    "def simplify_T_controls_differing_by_one_bit(list_of_Q_circuits):\n",
    "    \n",
    "    # simplifies Tofolli gates that differ by one bit\n",
    "    \"\"\"\n",
    "        0: ───@─────@────        . 0: ───@───\n",
    "              │     │            .       │    \n",
    "        1: ───@────(0)───        . 1: ───│───\n",
    "              │     │        ==> .       │   \n",
    "        2: ───┼─────┼────        . 2: ───┼─── \n",
    "              │     │            .       │   \n",
    "        3: ───┼─────┼────        . 3: ───┼─── \n",
    "              │     │            .       │   \n",
    "        4: ───X─────X────        . 4: ───X─── \n",
    "                 \n",
    "    \"\"\"\n",
    "    \n",
    "    simplified_circuit_list=list_of_Q_circuits.copy()\n",
    "    for index in range(len(simplified_circuit_list)-1):\n",
    "        circuit_1_ops = list(simplified_circuit_list[index].all_operations())\n",
    "        circuit_2_ops = list(simplified_circuit_list[index+1].all_operations())\n",
    "        \n",
    "        \n",
    "        if (circuit_1_ops[-1].qubits==circuit_2_ops[0].qubits):\n",
    "            cirq_1_control=np.array(circuit_1_ops[-1].control_values).reshape([len(circuit_1_ops[-1].control_values)])\n",
    "            cirq_2_control= np.array(circuit_2_ops[0].control_values).reshape([len(circuit_1_ops[-1].control_values)])\n",
    "            diff = cirq_1_control - cirq_2_control\n",
    "            if np.abs(sum(diff))==1:\n",
    "#                 print(cirq_1_control, cirq_2_control)\n",
    "#                 print(index)\n",
    "                index_to_keep = np.where(cirq_1_control==cirq_2_control)[0][0]\n",
    "                active_qubits = circuit_1_ops[-1].qubits\n",
    "#                 new_gate = cirq.CNOT(active_qubits[index_to_keep], active_qubits[-1])\n",
    "            \n",
    "                new_gate= cirq.Circuit(cirq.X.controlled(num_controls=1,\n",
    "                                               control_values= [int(cirq_1_control[index_to_keep])] \n",
    "                                              ).on(active_qubits[index_to_keep], active_qubits[-1]))\n",
    "            \n",
    "                \n",
    "                new_list=list(simplified_circuit_list[index].all_operations())\n",
    "                new_list.pop(-1)\n",
    "                new_list.append(new_gate)\n",
    "                simplified_circuit_list[index]=cirq.Circuit(new_list)\n",
    "                \n",
    "                \n",
    "                new2=list(simplified_circuit_list[index+1].all_operations())\n",
    "                new2.pop(0)\n",
    "                simplified_circuit_list[index+1]=cirq.Circuit(new2)\n",
    "    return simplified_circuit_list\n",
    "    \n",
    "    \n",
    "cancel_simple_T = simplify_T_controls_differing_by_one_bit(simple_gate_cancel_list)"
   ]
  },
  {
   "cell_type": "code",
   "execution_count": 643,
   "metadata": {},
   "outputs": [
    {
     "name": "stdout",
     "output_type": "stream",
     "text": [
      "3: ───────@───────\n",
      "          │\n",
      "4: ───────┼───@───\n",
      "          │   │\n",
      "5: ───────@───X───\n",
      "          │\n",
      "6: ───@───X───────\n",
      "      │\n",
      "7: ───Y───────────\n",
      "\n",
      "\n",
      "3: ───@───────────\n",
      "      │\n",
      "5: ───@───────@───\n",
      "      │       │\n",
      "6: ───X───@───X───\n",
      "          │\n",
      "7: ───────Y───────\n"
     ]
    }
   ],
   "source": [
    "ii=3\n",
    "\n",
    "print(cancel_simple_T[ii])\n",
    "print('')\n",
    "print('')\n",
    "print(cancel_simple_T[ii+1])"
   ]
  },
  {
   "cell_type": "code",
   "execution_count": 332,
   "metadata": {},
   "outputs": [
    {
     "ename": "TypeError",
     "evalue": "set expected at most 1 arguments, got 2",
     "output_type": "error",
     "traceback": [
      "\u001b[0;31m---------------------------------------------------------------------------\u001b[0m",
      "\u001b[0;31mTypeError\u001b[0m                                 Traceback (most recent call last)",
      "\u001b[0;32m<ipython-input-332-75156d4e86f2>\u001b[0m in \u001b[0;36m<module>\u001b[0;34m\u001b[0m\n\u001b[1;32m      1\u001b[0m \u001b[0mlist\u001b[0m\u001b[0;34m(\u001b[0m\u001b[0mcancel_simple_T\u001b[0m\u001b[0;34m[\u001b[0m\u001b[0;36m0\u001b[0m\u001b[0;34m]\u001b[0m\u001b[0;34m.\u001b[0m\u001b[0mall_operations\u001b[0m\u001b[0;34m(\u001b[0m\u001b[0;34m)\u001b[0m\u001b[0;34m)\u001b[0m\u001b[0;34m[\u001b[0m\u001b[0;34m-\u001b[0m\u001b[0;36m1\u001b[0m\u001b[0;34m]\u001b[0m\u001b[0;34m.\u001b[0m\u001b[0mqubits\u001b[0m\u001b[0;34m\u001b[0m\u001b[0;34m\u001b[0m\u001b[0m\n\u001b[1;32m      2\u001b[0m \u001b[0;34m\u001b[0m\u001b[0m\n\u001b[0;32m----> 3\u001b[0;31m \u001b[0mqubits\u001b[0m \u001b[0;34m=\u001b[0m \u001b[0mset\u001b[0m\u001b[0;34m(\u001b[0m\u001b[0mlist\u001b[0m\u001b[0;34m(\u001b[0m\u001b[0mcancel_simple_T\u001b[0m\u001b[0;34m[\u001b[0m\u001b[0;34m-\u001b[0m\u001b[0;36m1\u001b[0m\u001b[0;34m]\u001b[0m\u001b[0;34m.\u001b[0m\u001b[0mall_operations\u001b[0m\u001b[0;34m(\u001b[0m\u001b[0;34m)\u001b[0m\u001b[0;34m)\u001b[0m\u001b[0;34m[\u001b[0m\u001b[0;34m-\u001b[0m\u001b[0;36m1\u001b[0m\u001b[0;34m]\u001b[0m\u001b[0;34m.\u001b[0m\u001b[0mqubits\u001b[0m\u001b[0;34m,\u001b[0m \u001b[0mlist\u001b[0m\u001b[0;34m(\u001b[0m\u001b[0mcancel_simple_T\u001b[0m\u001b[0;34m[\u001b[0m\u001b[0;36m0\u001b[0m\u001b[0;34m]\u001b[0m\u001b[0;34m.\u001b[0m\u001b[0mall_operations\u001b[0m\u001b[0;34m(\u001b[0m\u001b[0;34m)\u001b[0m\u001b[0;34m)\u001b[0m\u001b[0;34m[\u001b[0m\u001b[0;34m-\u001b[0m\u001b[0;36m1\u001b[0m\u001b[0;34m]\u001b[0m\u001b[0;34m.\u001b[0m\u001b[0mqubits\u001b[0m\u001b[0;34m)\u001b[0m\u001b[0;34m\u001b[0m\u001b[0;34m\u001b[0m\u001b[0m\n\u001b[0m",
      "\u001b[0;31mTypeError\u001b[0m: set expected at most 1 arguments, got 2"
     ]
    }
   ],
   "source": [
    "list(cancel_simple_T[0].all_operations())[-1].qubits\n",
    "\n",
    "qubits = set(list(cancel_simple_T[-1].all_operations())[-1].qubits, list(cancel_simple_T[0].all_operations())[-1].qubits)"
   ]
  },
  {
   "cell_type": "code",
   "execution_count": 326,
   "metadata": {},
   "outputs": [
    {
     "data": {
      "text/plain": [
       "((1,), (1,))"
      ]
     },
     "execution_count": 326,
     "metadata": {},
     "output_type": "execute_result"
    }
   ],
   "source": [
    "# list(unsimplified_gate_seq[0].all_operations())[-1].gate.sub_gate\n",
    "list(cancel_simple_T[0].all_operations())[-1].qubits\n",
    "list(unsimplified_gate_seq[0].all_operations())[-1].control_values"
   ]
  },
  {
   "cell_type": "code",
   "execution_count": 341,
   "metadata": {},
   "outputs": [
    {
     "data": {
      "text/plain": [
       "{cirq.LineQubit(5), cirq.LineQubit(6), cirq.LineQubit(7)}"
      ]
     },
     "execution_count": 341,
     "metadata": {},
     "output_type": "execute_result"
    }
   ],
   "source": [
    "# list(cancel_simple_T[0].all_operations())\n",
    "# list(cancel_simple_T[1].all_operations())\n",
    "\n",
    "list(cancel_simple_T[0].all_operations())[-2].qubits == list(cancel_simple_T[0].all_operations())\n",
    "\n",
    "set((*list(cancel_simple_T[0].all_operations())[-2].qubits, \n",
    "     *list(cancel_simple_T[0].all_operations())[-1].qubits))"
   ]
  },
  {
   "cell_type": "code",
   "execution_count": 390,
   "metadata": {},
   "outputs": [
    {
     "data": {
      "text/plain": [
       "(cirq.LineQubit(3), cirq.LineQubit(5), cirq.LineQubit(6))"
      ]
     },
     "execution_count": 390,
     "metadata": {},
     "output_type": "execute_result"
    }
   ],
   "source": [
    "list(cancel_simple_T[1].all_operations())[1].qubits"
   ]
  },
  {
   "cell_type": "code",
   "execution_count": 398,
   "metadata": {},
   "outputs": [
    {
     "ename": "TypeError",
     "evalue": "pop() takes at most 1 argument (2 given)",
     "output_type": "error",
     "traceback": [
      "\u001b[0;31m---------------------------------------------------------------------------\u001b[0m",
      "\u001b[0;31mTypeError\u001b[0m                                 Traceback (most recent call last)",
      "\u001b[0;32m<ipython-input-398-63b1113806d7>\u001b[0m in \u001b[0;36m<module>\u001b[0;34m\u001b[0m\n\u001b[1;32m      1\u001b[0m \u001b[0manimals\u001b[0m\u001b[0;34m=\u001b[0m\u001b[0;34m[\u001b[0m\u001b[0;34m'cat'\u001b[0m\u001b[0;34m,\u001b[0m \u001b[0;34m'dog'\u001b[0m\u001b[0;34m,\u001b[0m \u001b[0;34m'wolf'\u001b[0m\u001b[0;34m,\u001b[0m \u001b[0;34m'pig'\u001b[0m\u001b[0;34m]\u001b[0m\u001b[0;34m\u001b[0m\u001b[0;34m\u001b[0m\u001b[0m\n\u001b[0;32m----> 2\u001b[0;31m \u001b[0manimals\u001b[0m\u001b[0;34m.\u001b[0m\u001b[0mpop\u001b[0m\u001b[0;34m(\u001b[0m\u001b[0;34m*\u001b[0m\u001b[0;34m[\u001b[0m\u001b[0;36m1\u001b[0m\u001b[0;34m,\u001b[0m\u001b[0;36m2\u001b[0m\u001b[0;34m]\u001b[0m\u001b[0;34m)\u001b[0m\u001b[0;34m\u001b[0m\u001b[0;34m\u001b[0m\u001b[0m\n\u001b[0m",
      "\u001b[0;31mTypeError\u001b[0m: pop() takes at most 1 argument (2 given)"
     ]
    }
   ],
   "source": [
    "animals=['cat', 'dog', 'wolf', 'pig']\n",
    "animals.pop(*[1,2])"
   ]
  },
  {
   "cell_type": "code",
   "execution_count": 644,
   "metadata": {},
   "outputs": [],
   "source": [
    "# def simplify_T_X_T(list_of_Q_circuits):\n",
    "    \n",
    "#     simplified_circuit_list=list_of_Q_circuits.copy()\n",
    "#     for index in range(len(simplified_circuit_list)-1):\n",
    "#         circuit_1_ops = list(simplified_circuit_list[index].all_operations())\n",
    "#         circuit_2_ops = list(simplified_circuit_list[index+1].all_operations())\n",
    "        \n",
    "#         if (circuit_1_ops[-2].qubits==circuit_2_ops[0].qubits) and (circuit_1_ops[-1].gate.sub_gate == cirq.X):\n",
    "#             if len(circuit_1_ops[-2].qubits)==3:\n",
    "#                 if circuit_1_ops[-2].control_values==circuit_1_ops[-2].control_values:\n",
    "#                     cirq_2_control= np.array(circuit_2_ops[0].control_values).reshape([len(circuit_1_ops[-2].control_values)])\n",
    "\n",
    "#                     cnot_control_val = circuit_1_ops[-1].control_values[0][0]\n",
    "#                     cnot_c_qubit = circuit_1_ops[-1].qubits[0]\n",
    "#                     qubits = set((*circuit_1_ops[-1].qubits, *circuit_1_ops[-2].qubits))\n",
    "#                     qubits.remove(circuit_1_ops[-1].qubits[0]) #remove CNOT qubit\n",
    "#                     qubits.remove(circuit_1_ops[-1].qubits[1]) #remove CNOT qubit\n",
    "\n",
    "#                     T_remaining_index = circuit_1_ops[-2].qubits.index(list(qubits)[0])\n",
    "# #                     print(circuit_1_ops[-2].qubits[T_remaining_index])\n",
    "# #                     print(circuit_1_ops[-2].control_values[T_remaining_index])\n",
    "#                     print(circuit_1_ops[-1].qubits)\n",
    "#                     print(cnot_c_qubit)\n",
    "#                     print(circuit_1_ops[-2].qubits)\n",
    "#                     print(circuit_1_ops[-2].control_values)\n",
    "                    \n",
    "#                     remaining_T_control_val= int(circuit_1_ops[-2].control_values[T_remaining_index][0])\n",
    "                    \n",
    "#                     new_gate= cirq.Circuit(cirq.X.controlled(num_controls=2,\n",
    "#                                                control_values= [cnot_control_val, remaining_T_control_val] \n",
    "#                                               ).on(cnot_c_qubit, *qubits))\n",
    "                    \n",
    "\n",
    "   \n",
    "                \n",
    "#                     circuit_1_ops.pop(-2)\n",
    "#                     circuit_1_ops.append(new_gate)\n",
    "                \n",
    "#                     circuit_2_ops.pop(0)\n",
    "\n",
    "#                     simplified_circuit_list[index]=cirq.Circuit(circuit_1_ops)\n",
    "#                     simplified_circuit_list[index+1]=cirq.Circuit(circuit_2_ops)\n",
    "\n",
    "                \n",
    "#     return simplified_circuit_list\n",
    "    \n",
    "    \n",
    "# final_circ_list = simplify_T_X_T(cancel_simple_T)"
   ]
  },
  {
   "cell_type": "code",
   "execution_count": 645,
   "metadata": {},
   "outputs": [],
   "source": [
    "def simplify_T_X_T(list_of_Q_circuits):\n",
    "        # simplifies Tofolli NOT Toffoli gates where Tofolli gates have same controls\n",
    "    \"\"\"\n",
    "    0: ───────(0)───────         .0: ───(0)───(0)───\n",
    "              │                  .      │     │\n",
    "    1: ───@───┼─────@───         .1: ───┼─────@─────\n",
    "          │   │     │      ===>  .      │     │\n",
    "    2: ───@───X─────@───         .2: ───X─────┼─────\n",
    "          │         │            .            │\n",
    "    3: ───X─────────X───         .3: ─────────X─────\n",
    "    \n",
    "    \"\"\"\n",
    "    simplified_circuit_list=list_of_Q_circuits.copy()\n",
    "    for index in range(len(simplified_circuit_list)-1):\n",
    "        circuit_1_ops = list(simplified_circuit_list[index].all_operations())\n",
    "        circuit_2_ops = list(simplified_circuit_list[index+1].all_operations())\n",
    "        \n",
    "        if (circuit_1_ops[-2].qubits==circuit_2_ops[0].qubits) and (circuit_1_ops[-1].gate.sub_gate == cirq.X):\n",
    "            if len(circuit_1_ops[-2].qubits)==3:\n",
    "                if circuit_1_ops[-2].control_values==circuit_1_ops[-2].control_values:\n",
    "                    cirq_2_control= np.array(circuit_2_ops[0].control_values).reshape([len(circuit_1_ops[-2].control_values)])\n",
    "\n",
    "                    cnot_control_val = circuit_1_ops[-1].control_values[0][0]\n",
    "                    cnot_c_qubit = circuit_1_ops[-1].qubits[0]\n",
    "                    \n",
    "                    qubit_to_remove_index=circuit_1_ops[-2].qubits.index(circuit_1_ops[-1].qubits[-1])\n",
    "                    control_list= list(int(bit) for control in circuit_1_ops[-2].control_values for bit in control)\n",
    "                    control_list.pop(qubit_to_remove_index)\n",
    "                    \n",
    "                    qubits = list(circuit_1_ops[-2].qubits)\n",
    "                    qubits.pop(qubit_to_remove_index)\n",
    "                    \n",
    "                    new_gate= cirq.Circuit(cirq.X.controlled(num_controls=2,\n",
    "                                               control_values= [cnot_control_val, *control_list] \n",
    "                                              ).on(cnot_c_qubit, *qubits))\n",
    "                    \n",
    "\n",
    "   \n",
    "                \n",
    "                    circuit_1_ops.pop(-2)\n",
    "                    circuit_1_ops.append(new_gate)\n",
    "                \n",
    "                    circuit_2_ops.pop(0)\n",
    "\n",
    "                    simplified_circuit_list[index]=cirq.Circuit(circuit_1_ops)\n",
    "                    simplified_circuit_list[index+1]=cirq.Circuit(circuit_2_ops)\n",
    "\n",
    "                \n",
    "    return simplified_circuit_list\n",
    "    \n",
    "    \n",
    "final_circ_list = simplify_T_X_T(cancel_simple_T)"
   ]
  },
  {
   "cell_type": "code",
   "execution_count": 647,
   "metadata": {},
   "outputs": [
    {
     "data": {
      "text/html": [
       "<pre style=\"overflow: auto; white-space: pre;\">0: ───@───────────────────────@─────────@─────────────────────────────────────────────────────────────────────────────────────────────────(0)─────────(0)─────────────────────────────────────────────────────────────────────────────────────@───\n",
       "      │                       │         │                                                                                                 │           │                                                                                       │\n",
       "1: ───@───────────────────────┼─────────┼─────────────────────────────────────────(0)─────────(0)─────────────────────────────────────────┼───────────┼───────────────────────────────────────────@─────────@─────────────────────────────────@───\n",
       "      │                       │         │                                         │           │                                           │           │                                           │         │                                 │\n",
       "2: ───┼───@───────────────────┼─────────@─────────────────────────────────────────┼───────────(0)─────────────────────────────────────────┼───────────@───────────────────────────────────────────┼─────────(0)─────────────────────────(0)───┼───\n",
       "      │   │                   │         │                                         │           │                                           │           │                                           │         │                           │     │\n",
       "3: ───┼───┼───@───────────────┼───(0)───┼───(0)───────────────────@───────────────┼─────(0)───┼─────(0)───────────────────@───────────────┼─────(0)───┼─────(0)───────────────────@───────────────┼───(0)───┼─────(0)───────────────@───┼─────┼───\n",
       "      │   │   │               │   │     │   │                     │               │     │     │     │                     │               │     │     │     │                     │               │   │     │     │                 │   │     │\n",
       "4: ───X───@───┼───────────────X───┼─────┼───┼─────────────────@───@───────────────X─────┼─────┼─────┼─────────────────@───@───────────────X─────┼─────┼─────┼─────────────────@───@───────────────X───┼─────┼─────┼─────────────────┼───@─────X───\n",
       "          │   │                   │     │   │                 │   │                     │     │     │                 │   │                     │     │     │                 │   │                   │     │     │                 │   │\n",
       "5: ───────X───@───────@───────────@─────X───@─────────@───────X───┼───────@─────────────@─────X─────@─────────@───────X───┼───────@─────────────@─────X─────@─────────@───────X───┼───────@───────────@─────X─────@─────────@───────@───X─────────\n",
       "              │       │           │         │         │           │       │             │           │         │           │       │             │           │         │           │       │           │           │         │       │\n",
       "6: ───────────X───@───X───@───────X─────────X─────@───X───@───────X───@───X───@─────────X───────────X─────@───X───@───────X───@───X───@─────────X───────────X─────@───X───@───────X───@───X───@───────X───────────X─────@───X───@───X─────────────\n",
       "                  │       │                       │       │           │       │                           │       │           │       │                           │       │           │       │                         │       │\n",
       "7: ───────────────Y───────Y───────────────────────Y───────Y───────────Y───────Y───────────────────────────Y───────Y───────────Y───────Y───────────────────────────Y───────Y───────────Y───────Y─────────────────────────Y───────Y─────────────────</pre>"
      ],
      "text/plain": [
       "0: ───@───────────────────────@─────────@─────────────────────────────────────────────────────────────────────────────────────────────────(0)─────────(0)─────────────────────────────────────────────────────────────────────────────────────@───\n",
       "      │                       │         │                                                                                                 │           │                                                                                       │\n",
       "1: ───@───────────────────────┼─────────┼─────────────────────────────────────────(0)─────────(0)─────────────────────────────────────────┼───────────┼───────────────────────────────────────────@─────────@─────────────────────────────────@───\n",
       "      │                       │         │                                         │           │                                           │           │                                           │         │                                 │\n",
       "2: ───┼───@───────────────────┼─────────@─────────────────────────────────────────┼───────────(0)─────────────────────────────────────────┼───────────@───────────────────────────────────────────┼─────────(0)─────────────────────────(0)───┼───\n",
       "      │   │                   │         │                                         │           │                                           │           │                                           │         │                           │     │\n",
       "3: ───┼───┼───@───────────────┼───(0)───┼───(0)───────────────────@───────────────┼─────(0)───┼─────(0)───────────────────@───────────────┼─────(0)───┼─────(0)───────────────────@───────────────┼───(0)───┼─────(0)───────────────@───┼─────┼───\n",
       "      │   │   │               │   │     │   │                     │               │     │     │     │                     │               │     │     │     │                     │               │   │     │     │                 │   │     │\n",
       "4: ───X───@───┼───────────────X───┼─────┼───┼─────────────────@───@───────────────X─────┼─────┼─────┼─────────────────@───@───────────────X─────┼─────┼─────┼─────────────────@───@───────────────X───┼─────┼─────┼─────────────────┼───@─────X───\n",
       "          │   │                   │     │   │                 │   │                     │     │     │                 │   │                     │     │     │                 │   │                   │     │     │                 │   │\n",
       "5: ───────X───@───────@───────────@─────X───@─────────@───────X───┼───────@─────────────@─────X─────@─────────@───────X───┼───────@─────────────@─────X─────@─────────@───────X───┼───────@───────────@─────X─────@─────────@───────@───X─────────\n",
       "              │       │           │         │         │           │       │             │           │         │           │       │             │           │         │           │       │           │           │         │       │\n",
       "6: ───────────X───@───X───@───────X─────────X─────@───X───@───────X───@───X───@─────────X───────────X─────@───X───@───────X───@───X───@─────────X───────────X─────@───X───@───────X───@───X───@───────X───────────X─────@───X───@───X─────────────\n",
       "                  │       │                       │       │           │       │                           │       │           │       │                           │       │           │       │                         │       │\n",
       "7: ───────────────Y───────Y───────────────────────Y───────Y───────────Y───────Y───────────────────────────Y───────Y───────────Y───────Y───────────────────────────Y───────Y───────────Y───────Y─────────────────────────Y───────Y─────────────────"
      ]
     },
     "execution_count": 647,
     "metadata": {},
     "output_type": "execute_result"
    }
   ],
   "source": [
    "from cirq.circuits import InsertStrategy\n",
    "\n",
    "overall_circuit = cirq.Circuit()\n",
    "for circuit in final_circ_list:\n",
    "    overall_circuit.append(circuit.all_operations(), strategy=InsertStrategy.NEW)\n",
    "overall_circuit"
   ]
  },
  {
   "cell_type": "code",
   "execution_count": 264,
   "metadata": {},
   "outputs": [],
   "source": []
  },
  {
   "cell_type": "code",
   "execution_count": null,
   "metadata": {},
   "outputs": [],
   "source": []
  },
  {
   "cell_type": "markdown",
   "metadata": {},
   "source": [
    "### OVERALL"
   ]
  },
  {
   "cell_type": "code",
   "execution_count": 651,
   "metadata": {},
   "outputs": [],
   "source": [
    "# # BAD print\n",
    "# overall_circuit = cirq.Circuit([circuit.all_operations() for circuit in final_circ_list])\n",
    "# overall_circuit"
   ]
  },
  {
   "cell_type": "code",
   "execution_count": 655,
   "metadata": {},
   "outputs": [
    {
     "data": {
      "text/html": [
       "<pre style=\"overflow: auto; white-space: pre;\">0: ───@───────────@───@───────────────────────────────────────(0)───(0)───────────────────────────────────@───\n",
       "      │           │   │                                       │     │                                     │\n",
       "1: ───@───────────┼───┼───────────────(0)───(0)───────────────┼─────┼─────────────────@───@───────────────@───\n",
       "      │           │   │               │     │                 │     │                 │   │               │\n",
       "2: ───┼───@───────┼───@───────────────┼─────(0)───────────────┼─────@─────────────────┼───(0)───────(0)───┼───\n",
       "      │   │       │   │               │     │                 │     │                 │   │         │     │\n",
       "3: ───X───@───────X───┼───────@───────X─────┼─────────@───────X─────┼─────────@───────X───┼─────────@─────X───\n",
       "          │           │       │             │         │             │         │           │         │\n",
       "4: ───────X───@───────X───@───X───@─────────X─────@───X───@─────────X─────@───X───@───────X─────@───X─────────\n",
       "              │           │       │               │       │               │       │             │\n",
       "5: ───────────Y───────────Y───────Y───────────────Y───────Y───────────────Y───────Y─────────────Y─────────────</pre>"
      ],
      "text/plain": [
       "0: ───@───────────@───@───────────────────────────────────────(0)───(0)───────────────────────────────────@───\n",
       "      │           │   │                                       │     │                                     │\n",
       "1: ───@───────────┼───┼───────────────(0)───(0)───────────────┼─────┼─────────────────@───@───────────────@───\n",
       "      │           │   │               │     │                 │     │                 │   │               │\n",
       "2: ───┼───@───────┼───@───────────────┼─────(0)───────────────┼─────@─────────────────┼───(0)───────(0)───┼───\n",
       "      │   │       │   │               │     │                 │     │                 │   │         │     │\n",
       "3: ───X───@───────X───┼───────@───────X─────┼─────────@───────X─────┼─────────@───────X───┼─────────@─────X───\n",
       "          │           │       │             │         │             │         │           │         │\n",
       "4: ───────X───@───────X───@───X───@─────────X─────@───X───@─────────X─────@───X───@───────X─────@───X─────────\n",
       "              │           │       │               │       │               │       │             │\n",
       "5: ───────────Y───────────Y───────Y───────────────Y───────Y───────────────Y───────Y─────────────Y─────────────"
      ]
     },
     "execution_count": 655,
     "metadata": {},
     "output_type": "execute_result"
    }
   ],
   "source": [
    "N_ancilla= 3\n",
    "\n",
    "unsimplified_gate_seq = control_circuit(N_ancilla)\n",
    "simple_gate_cancel_list=cancel_double_T_gates(unsimplified_gate_seq)\n",
    "\n",
    "cancel_simple_T = simplify_T_controls_differing_by_one_bit(simple_gate_cancel_list)\n",
    "\n",
    "cancel_T_X_T = simplify_T_X_T(cancel_simple_T)\n",
    "\n",
    "from cirq.circuits import InsertStrategy\n",
    "overall_circuit = cirq.Circuit()\n",
    "for circuit in cancel_T_X_T:\n",
    "    overall_circuit.append(circuit.all_operations(), strategy=InsertStrategy.NEW)\n",
    "overall_circuit"
   ]
  },
  {
   "cell_type": "code",
   "execution_count": 606,
   "metadata": {},
   "outputs": [],
   "source": [
    "# N_ancilla= 3\n",
    "\n",
    "# unsimplified_gate_seq = control_circuit(N_ancilla)\n",
    "# simple_gate_cancel_list=cancel_double_T_gates(unsimplified_gate_seq)\n",
    "\n",
    "# cancel_simple_T = simplify_T_controls_differing_by_one_bit(simple_gate_cancel_list)\n",
    "\n",
    "# # cancel_T_X_T = simplify_T_X_T(cancel_simple_T) ## <- missing this part for comparison!\n",
    "\n",
    "# from cirq.circuits import InsertStrategy\n",
    "# overall_circuit_no_X_T = cirq.Circuit()\n",
    "# for circuit in cancel_simple_T:\n",
    "#     overall_circuit.append(circuit.all_operations(), strategy=InsertStrategy.NEW)\n",
    "# overall_circuit"
   ]
  },
  {
   "cell_type": "code",
   "execution_count": 656,
   "metadata": {},
   "outputs": [
    {
     "data": {
      "text/html": [
       "<pre style=\"overflow: auto; white-space: pre;\">0: ───@───────────────@───@─────────────────@─────@─────────────────────@─────(0)───────────────────(0)───(0)───────────────(0)───(0)───────────────(0)───(0)───────────────────(0)───@───────────────────@───\n",
       "      │               │   │                 │     │                     │     │                     │     │                 │     │                 │     │                     │     │                   │\n",
       "1: ───@───────────────@───(0)───────────────(0)───(0)───────────────────(0)───(0)───────────────────(0)───(0)───────────────(0)───@─────────────────@─────@─────────────────────@─────@───────────────────@───\n",
       "      │               │   │                 │     │                     │     │                     │     │                 │     │                 │     │                     │     │                   │\n",
       "2: ───┼───@───────@───┼───┼─────@───────@───┼─────┼─────(0)───────(0)───┼─────┼─────(0)───────(0)───┼─────┼─────@───────@───┼─────┼─────@───────@───┼─────┼─────(0)───────(0)───┼─────┼───(0)───────(0)───┼───\n",
       "      │   │       │   │   │     │       │   │     │     │         │     │     │     │         │     │     │     │       │   │     │     │       │   │     │     │         │     │     │   │         │     │\n",
       "3: ───X───@───────@───X───X─────@───────@───X─────X─────@─────────@─────X─────X─────@─────────@─────X─────X─────@───────@───X─────X─────@───────@───X─────X─────@─────────@─────X─────X───@─────────@─────X───\n",
       "          │       │             │       │               │         │                 │         │                 │       │               │       │               │         │               │         │\n",
       "4: ───────X───@───X─────────────X───@───X───────────────X─────@───X─────────────────X─────@───X─────────────────X───@───X───────────────X───@───X───────────────X─────@───X───────────────X─────@───X─────────\n",
       "              │                     │                         │                           │                         │                       │                         │                         │\n",
       "5: ───────────Y─────────────────────Y─────────────────────────Y───────────────────────────Y─────────────────────────Y───────────────────────Y─────────────────────────Y─────────────────────────Y─────────────</pre>"
      ],
      "text/plain": [
       "0: ───@───────────────@───@─────────────────@─────@─────────────────────@─────(0)───────────────────(0)───(0)───────────────(0)───(0)───────────────(0)───(0)───────────────────(0)───@───────────────────@───\n",
       "      │               │   │                 │     │                     │     │                     │     │                 │     │                 │     │                     │     │                   │\n",
       "1: ───@───────────────@───(0)───────────────(0)───(0)───────────────────(0)───(0)───────────────────(0)───(0)───────────────(0)───@─────────────────@─────@─────────────────────@─────@───────────────────@───\n",
       "      │               │   │                 │     │                     │     │                     │     │                 │     │                 │     │                     │     │                   │\n",
       "2: ───┼───@───────@───┼───┼─────@───────@───┼─────┼─────(0)───────(0)───┼─────┼─────(0)───────(0)───┼─────┼─────@───────@───┼─────┼─────@───────@───┼─────┼─────(0)───────(0)───┼─────┼───(0)───────(0)───┼───\n",
       "      │   │       │   │   │     │       │   │     │     │         │     │     │     │         │     │     │     │       │   │     │     │       │   │     │     │         │     │     │   │         │     │\n",
       "3: ───X───@───────@───X───X─────@───────@───X─────X─────@─────────@─────X─────X─────@─────────@─────X─────X─────@───────@───X─────X─────@───────@───X─────X─────@─────────@─────X─────X───@─────────@─────X───\n",
       "          │       │             │       │               │         │                 │         │                 │       │               │       │               │         │               │         │\n",
       "4: ───────X───@───X─────────────X───@───X───────────────X─────@───X─────────────────X─────@───X─────────────────X───@───X───────────────X───@───X───────────────X─────@───X───────────────X─────@───X─────────\n",
       "              │                     │                         │                           │                         │                       │                         │                         │\n",
       "5: ───────────Y─────────────────────Y─────────────────────────Y───────────────────────────Y─────────────────────────Y───────────────────────Y─────────────────────────Y─────────────────────────Y─────────────"
      ]
     },
     "execution_count": 656,
     "metadata": {},
     "output_type": "execute_result"
    }
   ],
   "source": [
    "from cirq.circuits import InsertStrategy\n",
    "non_simplified = cirq.Circuit()\n",
    "for circuit in unsimplified_gate_seq:\n",
    "    non_simplified.append(circuit.all_operations(), strategy=InsertStrategy.NEW)\n",
    "non_simplified"
   ]
  },
  {
   "cell_type": "code",
   "execution_count": 654,
   "metadata": {},
   "outputs": [
    {
     "data": {
      "text/plain": [
       "True"
      ]
     },
     "execution_count": 654,
     "metadata": {},
     "output_type": "execute_result"
    }
   ],
   "source": [
    "np.array_equal(non_simplified.unitary(), overall_circuit.unitary())"
   ]
  },
  {
   "cell_type": "code",
   "execution_count": null,
   "metadata": {},
   "outputs": [],
   "source": []
  },
  {
   "cell_type": "code",
   "execution_count": null,
   "metadata": {},
   "outputs": [],
   "source": []
  },
  {
   "cell_type": "code",
   "execution_count": null,
   "metadata": {},
   "outputs": [],
   "source": []
  },
  {
   "cell_type": "code",
   "execution_count": null,
   "metadata": {},
   "outputs": [],
   "source": []
  },
  {
   "cell_type": "code",
   "execution_count": null,
   "metadata": {},
   "outputs": [],
   "source": []
  },
  {
   "cell_type": "code",
   "execution_count": null,
   "metadata": {},
   "outputs": [],
   "source": []
  },
  {
   "cell_type": "code",
   "execution_count": null,
   "metadata": {},
   "outputs": [],
   "source": []
  },
  {
   "cell_type": "code",
   "execution_count": null,
   "metadata": {},
   "outputs": [],
   "source": []
  },
  {
   "cell_type": "code",
   "execution_count": null,
   "metadata": {},
   "outputs": [],
   "source": []
  },
  {
   "cell_type": "code",
   "execution_count": null,
   "metadata": {},
   "outputs": [],
   "source": [
    "cirq.Circuit(cirq.X.controlled(num_controls=2,control_values= [1, 1]).on(qubits[1], qubits[2],  qubits[3]))"
   ]
  },
  {
   "cell_type": "code",
   "execution_count": 462,
   "metadata": {},
   "outputs": [
    {
     "data": {
      "text/html": [
       "<pre style=\"overflow: auto; white-space: pre;\">0: ───────(0)───────\n",
       "          │\n",
       "1: ───@───┼─────@───\n",
       "      │   │     │\n",
       "2: ───@───X─────@───\n",
       "      │         │\n",
       "3: ───X─────────X───</pre>"
      ],
      "text/plain": [
       "0: ───────(0)───────\n",
       "          │\n",
       "1: ───@───┼─────@───\n",
       "      │   │     │\n",
       "2: ───@───X─────@───\n",
       "      │         │\n",
       "3: ───X─────────X───"
      ]
     },
     "execution_count": 462,
     "metadata": {},
     "output_type": "execute_result"
    }
   ],
   "source": [
    "qubits = list(cirq.LineQubit.range(4))\n",
    "circuit = cirq.Circuit(\n",
    "cirq.Circuit(cirq.X.controlled(num_controls=2,control_values= [1, 1]).on(qubits[1], qubits[2],  qubits[3])),\n",
    "cirq.Circuit(cirq.X.controlled(num_controls=1,control_values= [0]).on(qubits[0], qubits[2])),\n",
    "cirq.Circuit(cirq.X.controlled(num_controls=2,control_values= [1, 1]).on(qubits[1], qubits[2],  qubits[3])) \n",
    ")\n",
    "circuit"
   ]
  },
  {
   "cell_type": "code",
   "execution_count": 463,
   "metadata": {},
   "outputs": [
    {
     "data": {
      "text/html": [
       "<pre style=\"overflow: auto; white-space: pre;\">0: ───(0)───(0)───\n",
       "      │     │\n",
       "1: ───┼─────@─────\n",
       "      │     │\n",
       "2: ───X─────┼─────\n",
       "            │\n",
       "3: ─────────X─────</pre>"
      ],
      "text/plain": [
       "0: ───(0)───(0)───\n",
       "      │     │\n",
       "1: ───┼─────@─────\n",
       "      │     │\n",
       "2: ───X─────┼─────\n",
       "            │\n",
       "3: ─────────X─────"
      ]
     },
     "execution_count": 463,
     "metadata": {},
     "output_type": "execute_result"
    }
   ],
   "source": [
    "qubits = list(cirq.LineQubit.range(4))\n",
    "circuit2 = cirq.Circuit(\n",
    "cirq.Circuit(cirq.X.controlled(num_controls=1,control_values= [0]).on(qubits[0], qubits[2])),\n",
    "cirq.Circuit(cirq.X.controlled(num_controls=2,control_values= [0, 1]).on(qubits[0], qubits[1],  qubits[3])) \n",
    ")\n",
    "circuit2"
   ]
  },
  {
   "cell_type": "code",
   "execution_count": 464,
   "metadata": {},
   "outputs": [
    {
     "data": {
      "text/plain": [
       "True"
      ]
     },
     "execution_count": 464,
     "metadata": {},
     "output_type": "execute_result"
    }
   ],
   "source": [
    "np.array_equal(circuit.unitary(), circuit2.unitary())"
   ]
  },
  {
   "cell_type": "code",
   "execution_count": null,
   "metadata": {},
   "outputs": [],
   "source": []
  },
  {
   "cell_type": "code",
   "execution_count": null,
   "metadata": {},
   "outputs": [],
   "source": []
  },
  {
   "cell_type": "code",
   "execution_count": null,
   "metadata": {},
   "outputs": [],
   "source": [
    "qubits = list(cirq.LineQubit.range(4))\n",
    "circuit = cirq.Circuit(\n",
    "cirq.Circuit(cirq.X.controlled(num_controls=3, control_values=[0,0,0]).on(qubits[0],qubits[1],qubits[2],qubits[3])),\n",
    "cirq.Circuit(cirq.X.controlled(num_controls=3, control_values=[1,0,0]).on(qubits[0],qubits[1],qubits[2],qubits[3])),\n",
    "cirq.Circuit(cirq.X.controlled(num_controls=3, control_values=[1,1,0]).on(qubits[0],qubits[1],qubits[2],qubits[3])),\n",
    "cirq.Circuit(cirq.X.controlled(num_controls=3, control_values=[0,1,0]).on(qubits[0],qubits[1],qubits[2],qubits[3])),\n",
    "cirq.Circuit(cirq.X.controlled(num_controls=3, control_values=[0,1,1]).on(qubits[0],qubits[1],qubits[2],qubits[3])),\n",
    "cirq.Circuit(cirq.X.controlled(num_controls=3, control_values=[1,1,1]).on(qubits[0],qubits[1],qubits[2],qubits[3])),\n",
    "cirq.Circuit(cirq.X.controlled(num_controls=3, control_values=[1,0,1]).on(qubits[0],qubits[1],qubits[2],qubits[3])),\n",
    "cirq.Circuit(cirq.X.controlled(num_controls=3, control_values=[0,0,1]).on(qubits[0],qubits[1],qubits[2],qubits[3])),\n",
    ")\n",
    "circuit"
   ]
  },
  {
   "cell_type": "code",
   "execution_count": null,
   "metadata": {},
   "outputs": [],
   "source": [
    "qubits = list(cirq.LineQubit.range(4))\n",
    "circuit2 = cirq.Circuit(\n",
    "    cirq.I.on(qubits[0]),\n",
    "    cirq.I.on(qubits[1]),\n",
    "    cirq.I.on(qubits[2]),\n",
    "    cirq.X.on(qubits[3]),)\n",
    "circuit2"
   ]
  },
  {
   "cell_type": "code",
   "execution_count": null,
   "metadata": {},
   "outputs": [],
   "source": [
    "np.array_equal(circuit.unitary(), circuit2.unitary())"
   ]
  },
  {
   "cell_type": "code",
   "execution_count": null,
   "metadata": {},
   "outputs": [],
   "source": []
  },
  {
   "cell_type": "code",
   "execution_count": null,
   "metadata": {},
   "outputs": [],
   "source": []
  },
  {
   "cell_type": "code",
   "execution_count": 617,
   "metadata": {},
   "outputs": [
    {
     "data": {
      "text/html": [
       "<pre style=\"overflow: auto; white-space: pre;\">0: ───(0)───@─────\n",
       "      │     │\n",
       "1: ───(0)───(0)───\n",
       "      │     │\n",
       "2: ───(0)───(0)───\n",
       "      │     │\n",
       "3: ───X─────X─────</pre>"
      ],
      "text/plain": [
       "0: ───(0)───@─────\n",
       "      │     │\n",
       "1: ───(0)───(0)───\n",
       "      │     │\n",
       "2: ───(0)───(0)───\n",
       "      │     │\n",
       "3: ───X─────X─────"
      ]
     },
     "execution_count": 617,
     "metadata": {},
     "output_type": "execute_result"
    }
   ],
   "source": [
    "qubits = list(cirq.LineQubit.range(4))\n",
    "circuit = cirq.Circuit(\n",
    "cirq.Circuit(cirq.X.controlled(num_controls=3, control_values=[0,0,0]).on(qubits[0],qubits[1],qubits[2],qubits[3])),\n",
    "cirq.Circuit(cirq.X.controlled(num_controls=3, control_values=[1,0,0]).on(qubits[0],qubits[1],qubits[2],qubits[3]))\n",
    ")\n",
    "circuit"
   ]
  },
  {
   "cell_type": "code",
   "execution_count": 618,
   "metadata": {},
   "outputs": [
    {
     "data": {
      "text/html": [
       "<pre style=\"overflow: auto; white-space: pre;\">0: ───I─────────\n",
       "\n",
       "1: ───────(0)───\n",
       "          │\n",
       "2: ───────(0)───\n",
       "          │\n",
       "3: ───────X─────</pre>"
      ],
      "text/plain": [
       "0: ───I─────────\n",
       "\n",
       "1: ───────(0)───\n",
       "          │\n",
       "2: ───────(0)───\n",
       "          │\n",
       "3: ───────X─────"
      ]
     },
     "execution_count": 618,
     "metadata": {},
     "output_type": "execute_result"
    }
   ],
   "source": [
    "qubits = list(cirq.LineQubit.range(4))\n",
    "circuit2 = cirq.Circuit(\n",
    "cirq.I.on(qubits[0]),\n",
    "cirq.Circuit(cirq.X.controlled(num_controls=2, control_values=[0,0]).on(qubits[1],qubits[2],qubits[3])),\n",
    ")\n",
    "circuit2"
   ]
  },
  {
   "cell_type": "code",
   "execution_count": 619,
   "metadata": {},
   "outputs": [
    {
     "data": {
      "text/plain": [
       "True"
      ]
     },
     "execution_count": 619,
     "metadata": {},
     "output_type": "execute_result"
    }
   ],
   "source": [
    "np.array_equal(circuit.unitary(), circuit2.unitary())"
   ]
  },
  {
   "cell_type": "code",
   "execution_count": null,
   "metadata": {},
   "outputs": [],
   "source": []
  },
  {
   "cell_type": "code",
   "execution_count": null,
   "metadata": {},
   "outputs": [],
   "source": []
  },
  {
   "cell_type": "markdown",
   "metadata": {},
   "source": [
    "## cannot do"
   ]
  },
  {
   "cell_type": "code",
   "execution_count": 622,
   "metadata": {},
   "outputs": [],
   "source": [
    "from openfermion.ops import QubitOperator"
   ]
  },
  {
   "cell_type": "code",
   "execution_count": 623,
   "metadata": {},
   "outputs": [
    {
     "data": {
      "text/plain": [
       "1j [Z0]"
      ]
     },
     "execution_count": 623,
     "metadata": {},
     "output_type": "execute_result"
    }
   ],
   "source": [
    "QubitOperator('X0')*QubitOperator('Y0')"
   ]
  },
  {
   "cell_type": "code",
   "execution_count": 625,
   "metadata": {},
   "outputs": [],
   "source": [
    "class phase_Pauli_gate(cirq.SingleQubitGate):\n",
    "    \"\"\"\n",
    "    Description\n",
    "\n",
    "    Args:\n",
    "        theta (float): angle to rotate by in radians.\n",
    "        number_control_qubits (int): number of control qubits\n",
    "    \"\"\"\n",
    "\n",
    "    def __init__(self, phase, pauli_str):\n",
    "        self.phase = phase\n",
    "        self.pauli_str = pauli_str\n",
    "\n",
    "    def _unitary_(self):\n",
    "        if self.pauli_str == 'X':\n",
    "            return cirq.X._unitary_()*self.phase\n",
    "        elif self.pauli_str == 'Y':\n",
    "            return cirq.Y._unitary_()*self.phase\n",
    "        elif self.pauli_str == 'Z':\n",
    "            return cirq.Z._unitary_()*self.phase\n",
    "        elif self.pauli_str == 'I':\n",
    "            return cirq.I._unitary_()*self.phase\n",
    "        else:\n",
    "            raise ValueError('Not a Pauli operation')\n",
    "\n",
    "    def num_qubits(self):\n",
    "        return 1\n",
    "\n",
    "    def _circuit_diagram_info_(self, args):\n",
    "        return str(self.phase) +'*'+self.pauli_str\n",
    "\n",
    "    def __str__(self):\n",
    "        return str(self.phase) +'*'+self.pauli_str\n",
    "\n",
    "    def __repr__(self):\n",
    "        return self.__str__()"
   ]
  },
  {
   "cell_type": "code",
   "execution_count": 626,
   "metadata": {},
   "outputs": [
    {
     "data": {
      "text/plain": [
       "(1-0j) [X0]"
      ]
     },
     "execution_count": 626,
     "metadata": {},
     "output_type": "execute_result"
    }
   ],
   "source": [
    "QubitOperator('Y0',-1)*QubitOperator('Z0', 1j)"
   ]
  },
  {
   "cell_type": "code",
   "execution_count": 628,
   "metadata": {},
   "outputs": [
    {
     "data": {
      "text/html": [
       "<pre style=\"overflow: auto; white-space: pre;\">0: ───(0)───@─────\n",
       "      │     │\n",
       "1: ───(0)───(0)───\n",
       "      │     │\n",
       "2: ───(0)───(0)───\n",
       "      │     │\n",
       "3: ───X─────Y─────</pre>"
      ],
      "text/plain": [
       "0: ───(0)───@─────\n",
       "      │     │\n",
       "1: ───(0)───(0)───\n",
       "      │     │\n",
       "2: ───(0)───(0)───\n",
       "      │     │\n",
       "3: ───X─────Y─────"
      ]
     },
     "execution_count": 628,
     "metadata": {},
     "output_type": "execute_result"
    }
   ],
   "source": [
    "qubits = list(cirq.LineQubit.range(4))\n",
    "circuit = cirq.Circuit(\n",
    "cirq.Circuit(cirq.X.controlled(num_controls=3, control_values=[0,0,0]).on(qubits[0],qubits[1],qubits[2],qubits[3])),\n",
    "cirq.Circuit(cirq.Y.controlled(num_controls=3, control_values=[1,0,0]).on(qubits[0],qubits[1],qubits[2],qubits[3]))\n",
    ")\n",
    "circuit"
   ]
  },
  {
   "cell_type": "code",
   "execution_count": 631,
   "metadata": {},
   "outputs": [
    {
     "data": {
      "text/html": [
       "<pre style=\"overflow: auto; white-space: pre;\">0: ───I──────────\n",
       "\n",
       "1: ───────(0)────\n",
       "          │\n",
       "2: ───────(0)────\n",
       "          │\n",
       "3: ───────1j*Z───</pre>"
      ],
      "text/plain": [
       "0: ───I──────────\n",
       "\n",
       "1: ───────(0)────\n",
       "          │\n",
       "2: ───────(0)────\n",
       "          │\n",
       "3: ───────1j*Z───"
      ]
     },
     "execution_count": 631,
     "metadata": {},
     "output_type": "execute_result"
    }
   ],
   "source": [
    "phase_Z0_gate = phase_Pauli_gate(1j, 'Z')\n",
    "phase_Y_gate = phase_Pauli_gate(-1, 'Y')\n",
    "\n",
    "qubits = list(cirq.LineQubit.range(4))\n",
    "circuit2 = cirq.Circuit(\n",
    "#     cirq.Circuit(phase_Y_gate.controlled(num_controls=1, control_values=[0]).on(qubits[0],qubits[3])),\n",
    "#     cirq.Circuit(cirq.X.controlled(num_controls=1, control_values=[1]).on(qubits[0],qubits[3])),\n",
    "    cirq.I.on(qubits[0]),\n",
    "    cirq.Circuit(phase_Z0_gate.controlled(num_controls=2, control_values=[0,0]).on(qubits[1],qubits[2],qubits[3])),\n",
    ")\n",
    "circuit2"
   ]
  },
  {
   "cell_type": "code",
   "execution_count": 632,
   "metadata": {},
   "outputs": [
    {
     "data": {
      "text/plain": [
       "False"
      ]
     },
     "execution_count": 632,
     "metadata": {},
     "output_type": "execute_result"
    }
   ],
   "source": [
    "np.array_equal(circuit.unitary(), circuit2.unitary())"
   ]
  }
 ],
 "metadata": {
  "kernelspec": {
   "display_name": "Python 3",
   "language": "python",
   "name": "python3"
  },
  "language_info": {
   "codemirror_mode": {
    "name": "ipython",
    "version": 3
   },
   "file_extension": ".py",
   "mimetype": "text/x-python",
   "name": "python",
   "nbconvert_exporter": "python",
   "pygments_lexer": "ipython3",
   "version": "3.7.6"
  }
 },
 "nbformat": 4,
 "nbformat_minor": 4
}
