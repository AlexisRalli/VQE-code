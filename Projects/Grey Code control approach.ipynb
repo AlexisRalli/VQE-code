{
 "cells": [
  {
   "cell_type": "code",
   "execution_count": 1,
   "metadata": {},
   "outputs": [],
   "source": [
    "import cirq\n",
    "import numpy as np"
   ]
  },
  {
   "cell_type": "code",
   "execution_count": 2,
   "metadata": {},
   "outputs": [],
   "source": [
    "def int_to_Gray(base_10_num, n_qubits):\n",
    "    # https://en.wikipedia.org/wiki/Gray_code\n",
    "\n",
    "    # print(np.binary_repr(num, n_qubits)) # standard binary form!\n",
    "\n",
    "    # The operator >> is shift right. The operator ^ is exclusive or\n",
    "    gray_int = base_10_num ^ (base_10_num >> 1)\n",
    "\n",
    "    return np.binary_repr(gray_int, n_qubits)"
   ]
  },
  {
   "cell_type": "code",
   "execution_count": 260,
   "metadata": {},
   "outputs": [
    {
     "name": "stdout",
     "output_type": "stream",
     "text": [
      "[ 0  1  2  3  4  5  6  7  8  9 10 11 12 13 14 15]\n",
      "['0000' '0001' '0011' '0010' '0110' '0111' '0101' '0100' '1100' '1101'\n",
      " '1111' '1110' '1010' '1011' '1001' '1000']\n"
     ]
    }
   ],
   "source": [
    "n_qubits=4\n",
    "\n",
    "state_array = np.arange(0,2**n_qubits,1)\n",
    "print(state_array)\n",
    "\n",
    "grey_state=np.array([int_to_Gray(i, n_qubits) for i in state_array])\n",
    "print(grey_state)"
   ]
  },
  {
   "cell_type": "code",
   "execution_count": 29,
   "metadata": {},
   "outputs": [],
   "source": [
    "start_index = np.where(grey_state==''.join(['1' for _ in range(n_qubits)]))[0][0]"
   ]
  },
  {
   "cell_type": "code",
   "execution_count": 30,
   "metadata": {},
   "outputs": [
    {
     "data": {
      "text/plain": [
       "array(['111', '101', '100', '000', '001', '011', '010', '110'],\n",
       "      dtype='<U3')"
      ]
     },
     "execution_count": 30,
     "metadata": {},
     "output_type": "execute_result"
    }
   ],
   "source": [
    "np.hstack((grey_state[start_index::], grey_state[:start_index]))"
   ]
  },
  {
   "cell_type": "code",
   "execution_count": 32,
   "metadata": {},
   "outputs": [],
   "source": [
    "def control_circuit(n_ancilla_qubits): # list_system_qubits\n",
    "    ancilla_qubits = list(cirq.LineQubit.range(n_ancilla_qubits))\n",
    "    \n",
    "    n_work_qubits = n_ancilla_qubits-1\n",
    "    work_qubits = list(cirq.LineQubit.range(n_ancilla_qubits, n_work_qubits+n_ancilla_qubits))\n",
    "    \n",
    "    system_qubit = cirq.LineQubit(n_work_qubits+n_ancilla_qubits) #need to change this when doing properly!\n",
    "    \n",
    "    state_array = np.arange(0,2**n_ancilla_qubits,1)\n",
    "    grey_state_array =np.array([int_to_Gray(i, n_ancilla_qubits) for i in state_array])\n",
    "    \n",
    "#     start_index = np.where(grey_state_array==''.join(['1' for _ in range(n_ancilla_qubits)]))[0][0] # find all '11...1' state\n",
    "    \n",
    "#     control_states_in_order = np.hstack((grey_state_array[start_index::], grey_state_array[:start_index]))\n",
    "    control_states_in_order=grey_state_array\n",
    "    \n",
    "    control_circuit_list=[]\n",
    "    for control_str in control_states_in_order:\n",
    "        control_int_list = [int(bit) for bit in control_str]\n",
    "#         print(control_int_list)\n",
    "        circuit_list=[]\n",
    "        for index, work_bit in enumerate(work_qubits):\n",
    "            if index ==0:\n",
    "                circuit_list.append(cirq.Circuit(cirq.X.controlled(num_controls=2,\n",
    "                                               control_values=control_int_list[:2]\n",
    "                                              ).on(*ancilla_qubits[:2], work_bit)))\n",
    "                \n",
    "            elif index<n_work_qubits-1:\n",
    "                circuit_list.append(cirq.Circuit(cirq.X.controlled(num_controls=2,\n",
    "                                               control_values= [control_int_list[1+index], 1] \n",
    "                                              ).on(ancilla_qubits[1+index], work_qubits[index-1], work_qubits[index])))\n",
    "            else:\n",
    "                circuit_list.append(cirq.Circuit(cirq.X.controlled(num_controls=2,\n",
    "                                               control_values= [control_int_list[1+index], 1] \n",
    "                                              ).on(ancilla_qubits[1+index], work_qubits[index-1], work_qubits[index])))\n",
    "        \n",
    "        control_P = cirq.Circuit(cirq.Y.controlled(num_controls=1,\n",
    "                                               control_values= [1] \n",
    "                                              ).on(work_qubits[-1], system_qubit))\n",
    "        \n",
    "        full_circuit=[circuit_list, control_P, circuit_list[::-1]]\n",
    "        \n",
    "#         print(cirq.Circuit(full_circuit))\n",
    "#         print('')\n",
    "        control_circuit_list.append(cirq.Circuit(full_circuit))\n",
    "        \n",
    "    return control_circuit_list\n",
    "        \n",
    "\n",
    "unsimplified_gate_seq = control_circuit(3)"
   ]
  },
  {
   "cell_type": "code",
   "execution_count": 33,
   "metadata": {},
   "outputs": [
    {
     "data": {
      "text/html": [
       "<pre style=\"overflow: auto; white-space: pre;\">0: ───(0)───────────────────(0)───\n",
       "      │                     │\n",
       "1: ───(0)───────────────────(0)───\n",
       "      │                     │\n",
       "2: ───┼─────(0)───────(0)───┼─────\n",
       "      │     │         │     │\n",
       "3: ───X─────@─────────@─────X─────\n",
       "            │         │\n",
       "4: ─────────X─────@───X───────────\n",
       "                  │\n",
       "5: ───────────────Y───────────────</pre>"
      ],
      "text/plain": [
       "0: ───(0)───────────────────(0)───\n",
       "      │                     │\n",
       "1: ───(0)───────────────────(0)───\n",
       "      │                     │\n",
       "2: ───┼─────(0)───────(0)───┼─────\n",
       "      │     │         │     │\n",
       "3: ───X─────@─────────@─────X─────\n",
       "            │         │\n",
       "4: ─────────X─────@───X───────────\n",
       "                  │\n",
       "5: ───────────────Y───────────────"
      ]
     },
     "execution_count": 33,
     "metadata": {},
     "output_type": "execute_result"
    }
   ],
   "source": [
    "unsimplified_gate_seq[0]"
   ]
  },
  {
   "cell_type": "code",
   "execution_count": 34,
   "metadata": {},
   "outputs": [
    {
     "data": {
      "text/plain": [
       "cirq.ControlledGate(sub_gate=cirq.X, control_values=((0,), (0,)),control_qid_shape=(2, 2))"
      ]
     },
     "execution_count": 34,
     "metadata": {},
     "output_type": "execute_result"
    }
   ],
   "source": [
    "list(unsimplified_gate_seq[0].all_operations())[-1].gate\n",
    "# list(unsimplified_gate_seq[0].all_operations())[-1].gate.sub_gate\n",
    "# list(unsimplified_gate_seq[0].all_operations())[-1].qubits\n",
    "# list(unsimplified_gate_seq[0].all_operations())[-1].control_values"
   ]
  },
  {
   "cell_type": "code",
   "execution_count": 35,
   "metadata": {},
   "outputs": [
    {
     "data": {
      "text/plain": [
       "2"
      ]
     },
     "execution_count": 35,
     "metadata": {},
     "output_type": "execute_result"
    }
   ],
   "source": [
    "circuit_1_ops = list(unsimplified_gate_seq[0].all_operations())\n",
    "circuit_2_ops = list(unsimplified_gate_seq[1].all_operations())\n",
    "len(circuit_1_ops[0].control_values)"
   ]
  },
  {
   "cell_type": "code",
   "execution_count": 36,
   "metadata": {
    "code_folding": []
   },
   "outputs": [],
   "source": [
    "def recursive_simplification(circuit_1_ops, circuit_2_ops):\n",
    "    if (circuit_1_ops[-1] == circuit_2_ops[0]) and (len(circuit_1_ops[-1].control_values)==2):\n",
    "        circuit_1_ops.pop(-1)\n",
    "        circuit_2_ops.pop(0)\n",
    "        \n",
    "        return recursive_simplification(circuit_1_ops, circuit_2_ops)\n",
    "    else:\n",
    "        return circuit_1_ops, circuit_2_ops\n",
    "        \n",
    "# circuit_1_ops = list(unsimplified_gate_seq[0].all_operations())\n",
    "# circuit_2_ops = list(unsimplified_gate_seq[1].all_operations())\n",
    "# c1, c2 = recursive_simplification(circuit_1_ops, circuit_2_ops)\n",
    "# print(cirq.Circuit(c1))\n",
    "# print(cirq.Circuit(c2))"
   ]
  },
  {
   "cell_type": "code",
   "execution_count": 37,
   "metadata": {},
   "outputs": [
    {
     "data": {
      "text/plain": [
       "[0: ───(0)───────────────────\n",
       "      │\n",
       "1: ───(0)───────────────────\n",
       "      │\n",
       "2: ───┼─────(0)───────(0)───\n",
       "      │     │         │\n",
       "3: ───X─────@─────────@─────\n",
       "            │         │\n",
       "4: ─────────X─────@───X─────\n",
       "                  │\n",
       "5: ───────────────Y─────────,\n",
       " 0: ───────────────(0)───\n",
       "                  │\n",
       "1: ───────────────(0)───\n",
       "                  │\n",
       "2: ───@───────@───┼─────\n",
       "      │       │   │\n",
       "3: ───@───────@───X─────\n",
       "      │       │\n",
       "4: ───X───@───X─────────\n",
       "          │\n",
       "5: ───────Y─────────────,\n",
       " 0: ───(0)───────────────\n",
       "      │\n",
       "1: ───@─────────────────\n",
       "      │\n",
       "2: ───┼─────@───────@───\n",
       "      │     │       │\n",
       "3: ───X─────@───────@───\n",
       "            │       │\n",
       "4: ─────────X───@───X───\n",
       "                │\n",
       "5: ─────────────Y───────,\n",
       " 0: ───────────────────(0)───\n",
       "                      │\n",
       "1: ───────────────────@─────\n",
       "                      │\n",
       "2: ───(0)───────(0)───┼─────\n",
       "      │         │     │\n",
       "3: ───@─────────@─────X─────\n",
       "      │         │\n",
       "4: ───X─────@───X───────────\n",
       "            │\n",
       "5: ─────────Y───────────────,\n",
       " 0: ───@───────────────────\n",
       "      │\n",
       "1: ───@───────────────────\n",
       "      │\n",
       "2: ───┼───(0)───────(0)───\n",
       "      │   │         │\n",
       "3: ───X───@─────────@─────\n",
       "          │         │\n",
       "4: ───────X─────@───X─────\n",
       "                │\n",
       "5: ─────────────Y─────────,\n",
       " 0: ───────────────@───\n",
       "                  │\n",
       "1: ───────────────@───\n",
       "                  │\n",
       "2: ───@───────@───┼───\n",
       "      │       │   │\n",
       "3: ───@───────@───X───\n",
       "      │       │\n",
       "4: ───X───@───X───────\n",
       "          │\n",
       "5: ───────Y───────────,\n",
       " 0: ───@─────────────────\n",
       "      │\n",
       "1: ───(0)───────────────\n",
       "      │\n",
       "2: ───┼─────@───────@───\n",
       "      │     │       │\n",
       "3: ───X─────@───────@───\n",
       "            │       │\n",
       "4: ─────────X───@───X───\n",
       "                │\n",
       "5: ─────────────Y───────,\n",
       " 0: ───────────────────@─────\n",
       "                      │\n",
       "1: ───────────────────(0)───\n",
       "                      │\n",
       "2: ───(0)───────(0)───┼─────\n",
       "      │         │     │\n",
       "3: ───@─────────@─────X─────\n",
       "      │         │\n",
       "4: ───X─────@───X───────────\n",
       "            │\n",
       "5: ─────────Y───────────────]"
      ]
     },
     "execution_count": 37,
     "metadata": {},
     "output_type": "execute_result"
    }
   ],
   "source": [
    "simple_gate_cancel_list=unsimplified_gate_seq.copy()\n",
    "\n",
    "for index in range(len(simple_gate_cancel_list)-1):\n",
    "    circuit_1_ops = list(simple_gate_cancel_list[index].all_operations())\n",
    "    circuit_2_ops = list(simple_gate_cancel_list[index+1].all_operations())\n",
    "    c1_new, c2_new = recursive_simplification(circuit_1_ops, circuit_2_ops)\n",
    "                                                                                               \n",
    "    simple_gate_cancel_list[index] = cirq.Circuit(c1_new)\n",
    "    simple_gate_cancel_list[index+1] = cirq.Circuit(c2_new)\n",
    "    \n",
    "simple_gate_cancel_list"
   ]
  },
  {
   "cell_type": "code",
   "execution_count": 38,
   "metadata": {},
   "outputs": [
    {
     "data": {
      "text/plain": [
       "[0: ───(0)───────────────────\n",
       "      │\n",
       "1: ───(0)───────────────────\n",
       "      │\n",
       "2: ───┼─────(0)───────(0)───\n",
       "      │     │         │\n",
       "3: ───X─────@─────────@─────\n",
       "            │         │\n",
       "4: ─────────X─────@───X─────\n",
       "                  │\n",
       "5: ───────────────Y─────────,\n",
       " 0: ───────────────(0)───\n",
       "                  │\n",
       "1: ───────────────(0)───\n",
       "                  │\n",
       "2: ───@───────@───┼─────\n",
       "      │       │   │\n",
       "3: ───@───────@───X─────\n",
       "      │       │\n",
       "4: ───X───@───X─────────\n",
       "          │\n",
       "5: ───────Y─────────────,\n",
       " 0: ───(0)───────────────\n",
       "      │\n",
       "1: ───@─────────────────\n",
       "      │\n",
       "2: ───┼─────@───────@───\n",
       "      │     │       │\n",
       "3: ───X─────@───────@───\n",
       "            │       │\n",
       "4: ─────────X───@───X───\n",
       "                │\n",
       "5: ─────────────Y───────,\n",
       " 0: ───────────────────(0)───\n",
       "                      │\n",
       "1: ───────────────────@─────\n",
       "                      │\n",
       "2: ───(0)───────(0)───┼─────\n",
       "      │         │     │\n",
       "3: ───@─────────@─────X─────\n",
       "      │         │\n",
       "4: ───X─────@───X───────────\n",
       "            │\n",
       "5: ─────────Y───────────────,\n",
       " 0: ───@───────────────────\n",
       "      │\n",
       "1: ───@───────────────────\n",
       "      │\n",
       "2: ───┼───(0)───────(0)───\n",
       "      │   │         │\n",
       "3: ───X───@─────────@─────\n",
       "          │         │\n",
       "4: ───────X─────@───X─────\n",
       "                │\n",
       "5: ─────────────Y─────────,\n",
       " 0: ───────────────@───\n",
       "                  │\n",
       "1: ───────────────@───\n",
       "                  │\n",
       "2: ───@───────@───┼───\n",
       "      │       │   │\n",
       "3: ───@───────@───X───\n",
       "      │       │\n",
       "4: ───X───@───X───────\n",
       "          │\n",
       "5: ───────Y───────────,\n",
       " 0: ───@─────────────────\n",
       "      │\n",
       "1: ───(0)───────────────\n",
       "      │\n",
       "2: ───┼─────@───────@───\n",
       "      │     │       │\n",
       "3: ───X─────@───────@───\n",
       "            │       │\n",
       "4: ─────────X───@───X───\n",
       "                │\n",
       "5: ─────────────Y───────,\n",
       " 0: ───────────────────@─────\n",
       "                      │\n",
       "1: ───────────────────(0)───\n",
       "                      │\n",
       "2: ───(0)───────(0)───┼─────\n",
       "      │         │     │\n",
       "3: ───@─────────@─────X─────\n",
       "      │         │\n",
       "4: ───X─────@───X───────────\n",
       "            │\n",
       "5: ─────────Y───────────────]"
      ]
     },
     "execution_count": 38,
     "metadata": {},
     "output_type": "execute_result"
    }
   ],
   "source": [
    "def cancel_double_T_gates(list_of_Q_circuits):\n",
    "    # takes in list of circuits and simplifies repeated Toffoli gates \n",
    "    simplified_circuit_list=list_of_Q_circuits.copy()\n",
    "    for index in range(len(simplified_circuit_list)-1):\n",
    "        circuit_1_ops = list(simplified_circuit_list[index].all_operations())\n",
    "        circuit_2_ops = list(simplified_circuit_list[index+1].all_operations())\n",
    "        c1_new, c2_new = recursive_simplification(circuit_1_ops, circuit_2_ops)\n",
    "\n",
    "        simplified_circuit_list[index] = cirq.Circuit(c1_new)\n",
    "        simplified_circuit_list[index+1] = cirq.Circuit(c2_new)\n",
    "    return simplified_circuit_list\n",
    "simple_gate_cancel_list=cancel_double_T_gates(unsimplified_gate_seq)\n",
    "simple_gate_cancel_list"
   ]
  },
  {
   "cell_type": "code",
   "execution_count": 39,
   "metadata": {},
   "outputs": [],
   "source": [
    "def simplify_T_controls_differing_by_one_bit(list_of_Q_circuits):\n",
    "    \n",
    "    # simplifies Tofolli gates that differ by one bit\n",
    "    \"\"\"\n",
    "        0: ───@─────@────        . 0: ───@───\n",
    "              │     │            .       │    \n",
    "        1: ───@────(0)───        . 1: ───│───\n",
    "              │     │        ==> .       │   \n",
    "        2: ───┼─────┼────        . 2: ───┼─── \n",
    "              │     │            .       │   \n",
    "        3: ───┼─────┼────        . 3: ───┼─── \n",
    "              │     │            .       │   \n",
    "        4: ───X─────X────        . 4: ───X─── \n",
    "                 \n",
    "    \"\"\"\n",
    "    \n",
    "    simplified_circuit_list=list_of_Q_circuits.copy()\n",
    "    for index in range(len(simplified_circuit_list)-1):\n",
    "        circuit_1_ops = list(simplified_circuit_list[index].all_operations())\n",
    "        circuit_2_ops = list(simplified_circuit_list[index+1].all_operations())\n",
    "        \n",
    "        \n",
    "        if (circuit_1_ops[-1].qubits==circuit_2_ops[0].qubits):\n",
    "            cirq_1_control=np.array(circuit_1_ops[-1].control_values).reshape([len(circuit_1_ops[-1].control_values)])\n",
    "            cirq_2_control= np.array(circuit_2_ops[0].control_values).reshape([len(circuit_1_ops[-1].control_values)])\n",
    "            diff = cirq_1_control - cirq_2_control\n",
    "            if np.abs(sum(diff))==1:\n",
    "#                 print(cirq_1_control, cirq_2_control)\n",
    "#                 print(index)\n",
    "                index_to_keep = np.where(cirq_1_control==cirq_2_control)[0][0]\n",
    "                active_qubits = circuit_1_ops[-1].qubits\n",
    "#                 new_gate = cirq.CNOT(active_qubits[index_to_keep], active_qubits[-1])\n",
    "            \n",
    "                new_gate= cirq.Circuit(cirq.X.controlled(num_controls=1,\n",
    "                                               control_values= [int(cirq_1_control[index_to_keep])] \n",
    "                                              ).on(active_qubits[index_to_keep], active_qubits[-1]))\n",
    "            \n",
    "                \n",
    "                new_list=list(simplified_circuit_list[index].all_operations())\n",
    "                new_list.pop(-1)\n",
    "                new_list.append(new_gate)\n",
    "                simplified_circuit_list[index]=cirq.Circuit(new_list)\n",
    "                \n",
    "                \n",
    "                new2=list(simplified_circuit_list[index+1].all_operations())\n",
    "                new2.pop(0)\n",
    "                simplified_circuit_list[index+1]=cirq.Circuit(new2)\n",
    "    return simplified_circuit_list\n",
    "    \n",
    "    \n",
    "cancel_simple_T = simplify_T_controls_differing_by_one_bit(simple_gate_cancel_list)"
   ]
  },
  {
   "cell_type": "code",
   "execution_count": 40,
   "metadata": {},
   "outputs": [
    {
     "name": "stdout",
     "output_type": "stream",
     "text": [
      "1: ─────────────@───\n",
      "                │\n",
      "2: ───────(0)───┼───\n",
      "          │     │\n",
      "3: ───────@─────X───\n",
      "          │\n",
      "4: ───@───X─────────\n",
      "      │\n",
      "5: ───Y─────────────\n",
      "\n",
      "\n",
      "2: ───(0)───────────\n",
      "      │\n",
      "3: ───@─────────@───\n",
      "      │         │\n",
      "4: ───X─────@───X───\n",
      "            │\n",
      "5: ─────────Y───────\n"
     ]
    }
   ],
   "source": [
    "ii=3\n",
    "\n",
    "print(cancel_simple_T[ii])\n",
    "print('')\n",
    "print('')\n",
    "print(cancel_simple_T[ii+1])"
   ]
  },
  {
   "cell_type": "code",
   "execution_count": 16,
   "metadata": {},
   "outputs": [],
   "source": [
    "# list(cancel_simple_T[0].all_operations())[-1].qubits\n",
    "\n",
    "# qubits = set(list(cancel_simple_T[-1].all_operations())[-1].qubits, list(cancel_simple_T[0].all_operations())[-1].qubits)"
   ]
  },
  {
   "cell_type": "code",
   "execution_count": 41,
   "metadata": {},
   "outputs": [
    {
     "data": {
      "text/plain": [
       "((0,), (0,))"
      ]
     },
     "execution_count": 41,
     "metadata": {},
     "output_type": "execute_result"
    }
   ],
   "source": [
    "# list(unsimplified_gate_seq[0].all_operations())[-1].gate.sub_gate\n",
    "list(cancel_simple_T[0].all_operations())[-1].qubits\n",
    "list(unsimplified_gate_seq[0].all_operations())[-1].control_values"
   ]
  },
  {
   "cell_type": "code",
   "execution_count": 42,
   "metadata": {},
   "outputs": [
    {
     "data": {
      "text/plain": [
       "{cirq.LineQubit(3), cirq.LineQubit(4), cirq.LineQubit(5)}"
      ]
     },
     "execution_count": 42,
     "metadata": {},
     "output_type": "execute_result"
    }
   ],
   "source": [
    "# list(cancel_simple_T[0].all_operations())\n",
    "# list(cancel_simple_T[1].all_operations())\n",
    "\n",
    "list(cancel_simple_T[0].all_operations())[-2].qubits == list(cancel_simple_T[0].all_operations())\n",
    "\n",
    "set((*list(cancel_simple_T[0].all_operations())[-2].qubits, \n",
    "     *list(cancel_simple_T[0].all_operations())[-1].qubits))"
   ]
  },
  {
   "cell_type": "code",
   "execution_count": 43,
   "metadata": {},
   "outputs": [
    {
     "data": {
      "text/plain": [
       "(cirq.LineQubit(2), cirq.LineQubit(3), cirq.LineQubit(4))"
      ]
     },
     "execution_count": 43,
     "metadata": {},
     "output_type": "execute_result"
    }
   ],
   "source": [
    "list(cancel_simple_T[1].all_operations())[1].qubits"
   ]
  },
  {
   "cell_type": "code",
   "execution_count": null,
   "metadata": {},
   "outputs": [],
   "source": [
    "# def simplify_T_X_T(list_of_Q_circuits):\n",
    "    \n",
    "#     simplified_circuit_list=list_of_Q_circuits.copy()\n",
    "#     for index in range(len(simplified_circuit_list)-1):\n",
    "#         circuit_1_ops = list(simplified_circuit_list[index].all_operations())\n",
    "#         circuit_2_ops = list(simplified_circuit_list[index+1].all_operations())\n",
    "        \n",
    "#         if (circuit_1_ops[-2].qubits==circuit_2_ops[0].qubits) and (circuit_1_ops[-1].gate.sub_gate == cirq.X):\n",
    "#             if len(circuit_1_ops[-2].qubits)==3:\n",
    "#                 if circuit_1_ops[-2].control_values==circuit_1_ops[-2].control_values:\n",
    "#                     cirq_2_control= np.array(circuit_2_ops[0].control_values).reshape([len(circuit_1_ops[-2].control_values)])\n",
    "\n",
    "#                     cnot_control_val = circuit_1_ops[-1].control_values[0][0]\n",
    "#                     cnot_c_qubit = circuit_1_ops[-1].qubits[0]\n",
    "#                     qubits = set((*circuit_1_ops[-1].qubits, *circuit_1_ops[-2].qubits))\n",
    "#                     qubits.remove(circuit_1_ops[-1].qubits[0]) #remove CNOT qubit\n",
    "#                     qubits.remove(circuit_1_ops[-1].qubits[1]) #remove CNOT qubit\n",
    "\n",
    "#                     T_remaining_index = circuit_1_ops[-2].qubits.index(list(qubits)[0])\n",
    "# #                     print(circuit_1_ops[-2].qubits[T_remaining_index])\n",
    "# #                     print(circuit_1_ops[-2].control_values[T_remaining_index])\n",
    "#                     print(circuit_1_ops[-1].qubits)\n",
    "#                     print(cnot_c_qubit)\n",
    "#                     print(circuit_1_ops[-2].qubits)\n",
    "#                     print(circuit_1_ops[-2].control_values)\n",
    "                    \n",
    "#                     remaining_T_control_val= int(circuit_1_ops[-2].control_values[T_remaining_index][0])\n",
    "                    \n",
    "#                     new_gate= cirq.Circuit(cirq.X.controlled(num_controls=2,\n",
    "#                                                control_values= [cnot_control_val, remaining_T_control_val] \n",
    "#                                               ).on(cnot_c_qubit, *qubits))\n",
    "                    \n",
    "\n",
    "   \n",
    "                \n",
    "#                     circuit_1_ops.pop(-2)\n",
    "#                     circuit_1_ops.append(new_gate)\n",
    "                \n",
    "#                     circuit_2_ops.pop(0)\n",
    "\n",
    "#                     simplified_circuit_list[index]=cirq.Circuit(circuit_1_ops)\n",
    "#                     simplified_circuit_list[index+1]=cirq.Circuit(circuit_2_ops)\n",
    "\n",
    "                \n",
    "#     return simplified_circuit_list\n",
    "    \n",
    "    \n",
    "# final_circ_list = simplify_T_X_T(cancel_simple_T)"
   ]
  },
  {
   "cell_type": "code",
   "execution_count": 44,
   "metadata": {},
   "outputs": [],
   "source": [
    "def simplify_T_X_T(list_of_Q_circuits):\n",
    "        # simplifies Tofolli NOT Toffoli gates where Tofolli gates have same controls\n",
    "    \"\"\"\n",
    "    0: ───────(0)───────         .0: ───(0)───(0)───\n",
    "              │                  .      │     │\n",
    "    1: ───@───┼─────@───         .1: ───┼─────@─────\n",
    "          │   │     │      ===>  .      │     │\n",
    "    2: ───@───X─────@───         .2: ───X─────┼─────\n",
    "          │         │            .            │\n",
    "    3: ───X─────────X───         .3: ─────────X─────\n",
    "    \n",
    "    \"\"\"\n",
    "    simplified_circuit_list=list_of_Q_circuits.copy()\n",
    "    for index in range(len(simplified_circuit_list)-1):\n",
    "        circuit_1_ops = list(simplified_circuit_list[index].all_operations())\n",
    "        circuit_2_ops = list(simplified_circuit_list[index+1].all_operations())\n",
    "        \n",
    "        if (circuit_1_ops[-2].qubits==circuit_2_ops[0].qubits) and (circuit_1_ops[-1].gate.sub_gate == cirq.X):\n",
    "            if len(circuit_1_ops[-2].qubits)==3:\n",
    "                if circuit_1_ops[-2].control_values==circuit_1_ops[-2].control_values:\n",
    "                    cirq_2_control= np.array(circuit_2_ops[0].control_values).reshape([len(circuit_1_ops[-2].control_values)])\n",
    "\n",
    "                    cnot_control_val = circuit_1_ops[-1].control_values[0][0]\n",
    "                    cnot_c_qubit = circuit_1_ops[-1].qubits[0]\n",
    "                    \n",
    "                    qubit_to_remove_index=circuit_1_ops[-2].qubits.index(circuit_1_ops[-1].qubits[-1])\n",
    "                    control_list= list(int(bit) for control in circuit_1_ops[-2].control_values for bit in control)\n",
    "                    control_list.pop(qubit_to_remove_index)\n",
    "                    \n",
    "                    qubits = list(circuit_1_ops[-2].qubits)\n",
    "                    qubits.pop(qubit_to_remove_index)\n",
    "                    \n",
    "                    new_gate= cirq.Circuit(cirq.X.controlled(num_controls=2,\n",
    "                                               control_values= [cnot_control_val, *control_list] \n",
    "                                              ).on(cnot_c_qubit, *qubits))\n",
    "                    \n",
    "\n",
    "   \n",
    "                \n",
    "                    circuit_1_ops.pop(-2)\n",
    "                    circuit_1_ops.append(new_gate)\n",
    "                \n",
    "                    circuit_2_ops.pop(0)\n",
    "\n",
    "                    simplified_circuit_list[index]=cirq.Circuit(circuit_1_ops)\n",
    "                    simplified_circuit_list[index+1]=cirq.Circuit(circuit_2_ops)\n",
    "\n",
    "                \n",
    "    return simplified_circuit_list\n",
    "    \n",
    "    \n",
    "final_circ_list = simplify_T_X_T(cancel_simple_T)"
   ]
  },
  {
   "cell_type": "code",
   "execution_count": 45,
   "metadata": {},
   "outputs": [
    {
     "data": {
      "text/html": [
       "<pre style=\"overflow: auto; white-space: pre;\">0: ───(0)─────────────────────(0)───(0)─────────────────────────────────────@───@─────────────────────@─────\n",
       "      │                       │     │                                       │   │                     │\n",
       "1: ───(0)─────────────────────┼─────┼─────────────────@───@─────────────────┼───┼─────────────────────(0)───\n",
       "      │                       │     │                 │   │                 │   │                     │\n",
       "2: ───┼─────(0)───────────────┼─────@─────────────────┼───(0)───────────────┼───@───────────────(0)───┼─────\n",
       "      │     │                 │     │                 │   │                 │   │               │     │\n",
       "3: ───X─────@─────────@───────X─────┼─────────@───────X───┼─────────@───────X───┼───────@───────@─────X─────\n",
       "            │         │             │         │           │         │           │       │       │\n",
       "4: ─────────X─────@───X───@─────────X─────@───X───@───────X─────@───X───@───────X───@───X───@───X───────────\n",
       "                  │       │               │       │             │       │           │       │\n",
       "5: ───────────────Y───────Y───────────────Y───────Y─────────────Y───────Y───────────Y───────Y───────────────</pre>"
      ],
      "text/plain": [
       "0: ───(0)─────────────────────(0)───(0)─────────────────────────────────────@───@─────────────────────@─────\n",
       "      │                       │     │                                       │   │                     │\n",
       "1: ───(0)─────────────────────┼─────┼─────────────────@───@─────────────────┼───┼─────────────────────(0)───\n",
       "      │                       │     │                 │   │                 │   │                     │\n",
       "2: ───┼─────(0)───────────────┼─────@─────────────────┼───(0)───────────────┼───@───────────────(0)───┼─────\n",
       "      │     │                 │     │                 │   │                 │   │               │     │\n",
       "3: ───X─────@─────────@───────X─────┼─────────@───────X───┼─────────@───────X───┼───────@───────@─────X─────\n",
       "            │         │             │         │           │         │           │       │       │\n",
       "4: ─────────X─────@───X───@─────────X─────@───X───@───────X─────@───X───@───────X───@───X───@───X───────────\n",
       "                  │       │               │       │             │       │           │       │\n",
       "5: ───────────────Y───────Y───────────────Y───────Y─────────────Y───────Y───────────Y───────Y───────────────"
      ]
     },
     "execution_count": 45,
     "metadata": {},
     "output_type": "execute_result"
    }
   ],
   "source": [
    "from cirq.circuits import InsertStrategy\n",
    "\n",
    "overall_circuit = cirq.Circuit()\n",
    "for circuit in final_circ_list:\n",
    "    overall_circuit.append(circuit.all_operations(), strategy=InsertStrategy.NEW)\n",
    "overall_circuit"
   ]
  },
  {
   "cell_type": "code",
   "execution_count": 234,
   "metadata": {},
   "outputs": [
    {
     "data": {
      "text/plain": [
       "94"
      ]
     },
     "execution_count": 234,
     "metadata": {},
     "output_type": "execute_result"
    }
   ],
   "source": [
    "40-4-(2**NN-1)-(2**NN-1)"
   ]
  },
  {
   "cell_type": "code",
   "execution_count": 237,
   "metadata": {},
   "outputs": [
    {
     "data": {
      "text/plain": [
       "40"
      ]
     },
     "execution_count": 237,
     "metadata": {},
     "output_type": "execute_result"
    }
   ],
   "source": [
    "NN=3\n",
    "\n",
    "N_gates_no_reduction=(2**NN)*(2*NN-1)\n",
    "N_gates_no_reduction"
   ]
  },
  {
   "cell_type": "code",
   "execution_count": 250,
   "metadata": {},
   "outputs": [
    {
     "data": {
      "text/plain": [
       "8"
      ]
     },
     "execution_count": 250,
     "metadata": {},
     "output_type": "execute_result"
    }
   ],
   "source": [
    "N_full_reductions=2**(NN-2)*2\n",
    "N_semi_reduction=2**(NN-1)*2\n",
    "N_semi_reduction"
   ]
  },
  {
   "cell_type": "code",
   "execution_count": 249,
   "metadata": {},
   "outputs": [
    {
     "data": {
      "text/plain": [
       "34"
      ]
     },
     "execution_count": 249,
     "metadata": {},
     "output_type": "execute_result"
    }
   ],
   "source": [
    "N_gates_no_reduction-N_full_reductions-N_semi_reduction"
   ]
  },
  {
   "cell_type": "code",
   "execution_count": null,
   "metadata": {},
   "outputs": [],
   "source": []
  },
  {
   "cell_type": "code",
   "execution_count": 178,
   "metadata": {},
   "outputs": [
    {
     "name": "stdout",
     "output_type": "stream",
     "text": [
      "[0 1 2 3 4 5 6 7]\n",
      "['000' '001' '011' '010' '110' '111' '101' '100']\n"
     ]
    }
   ],
   "source": [
    "n_qubits=3\n",
    "\n",
    "state_array = np.arange(0,2**n_qubits,1)\n",
    "print(state_array)\n",
    "\n",
    "grey_state=np.array([int_to_Gray(i, n_qubits) for i in state_array])\n",
    "print(grey_state)"
   ]
  },
  {
   "cell_type": "code",
   "execution_count": 199,
   "metadata": {},
   "outputs": [
    {
     "data": {
      "text/plain": [
       "96.0"
      ]
     },
     "execution_count": 199,
     "metadata": {},
     "output_type": "execute_result"
    }
   ],
   "source": [
    "NN=4\n",
    "((2**NN)/(2**(NN-1)) + (2**NN)/(2**(NN-2)))*(2**NN)"
   ]
  },
  {
   "cell_type": "markdown",
   "metadata": {},
   "source": [
    "### OVERALL"
   ]
  },
  {
   "cell_type": "code",
   "execution_count": 23,
   "metadata": {},
   "outputs": [],
   "source": [
    "# # BAD print\n",
    "# overall_circuit = cirq.Circuit([circuit.all_operations() for circuit in final_circ_list])\n",
    "# overall_circuit"
   ]
  },
  {
   "cell_type": "code",
   "execution_count": 370,
   "metadata": {},
   "outputs": [
    {
     "data": {
      "text/html": [
       "<pre style=\"overflow: auto; white-space: pre;\">0: ───(0)───────────────────────────────────────────────(0)─────────(0)───────────────────────────────────────────────────────────────────────────────────────────────@─────────@─────────────────────────────────────────────────────@─────\n",
       "      │                                                 │           │                                                                                                 │         │                                                     │\n",
       "1: ───(0)───────────────────────────────────────────────┼───────────┼───────────────────────────────────────────@─────────@───────────────────────────────────────────┼─────────┼─────────────────────────────────────────────────────(0)───\n",
       "      │                                                 │           │                                           │         │                                           │         │                                                     │\n",
       "2: ───┼─────(0)─────────────────────────────────────────┼───────────@───────────────────────────────────────────┼─────────(0)─────────────────────────────────────────┼─────────@───────────────────────────────────────────────(0)───┼─────\n",
       "      │     │                                           │           │                                           │         │                                           │         │                                               │     │\n",
       "3: ───┼─────┼─────(0)───────────────────@───────────────┼─────(0)───┼─────(0)───────────────────@───────────────┼───(0)───┼─────(0)───────────────────@───────────────┼───(0)───┼───(0)───────────────────@───────────────(0)───┼─────┼─────\n",
       "      │     │     │                     │               │     │     │     │                     │               │   │     │     │                     │               │   │     │   │                     │               │     │     │\n",
       "4: ───X─────@─────┼─────────────────@───@───────────────X─────┼─────┼─────┼─────────────────@───@───────────────X───┼─────┼─────┼─────────────────@───@───────────────X───┼─────┼───┼─────────────────@───@───────────────┼─────@─────X─────\n",
       "            │     │                 │   │                     │     │     │                 │   │                   │     │     │                 │   │                   │     │   │                 │   │               │     │\n",
       "5: ─────────X─────@─────────@───────X───┼───────@─────────────@─────X─────@─────────@───────X───┼───────@───────────@─────X─────@─────────@───────X───┼───────@───────────@─────X───@─────────@───────X───┼───────@───────@─────X───────────\n",
       "                  │         │           │       │             │           │         │           │       │           │           │         │           │       │           │         │         │           │       │       │\n",
       "6: ───────────────X─────@───X───@───────X───@───X───@─────────X───────────X─────@───X───@───────X───@───X───@───────X───────────X─────@───X───@───────X───@───X───@───────X─────────X─────@───X───@───────X───@───X───@───X─────────────────\n",
       "                        │       │           │       │                           │       │           │       │                         │       │           │       │                       │       │           │       │\n",
       "7: ─────────────────────Y───────Y───────────Y───────Y───────────────────────────Y───────Y───────────Y───────Y─────────────────────────Y───────Y───────────Y───────Y───────────────────────Y───────Y───────────Y───────Y─────────────────────</pre>"
      ],
      "text/plain": [
       "0: ───(0)───────────────────────────────────────────────(0)─────────(0)───────────────────────────────────────────────────────────────────────────────────────────────@─────────@─────────────────────────────────────────────────────@─────\n",
       "      │                                                 │           │                                                                                                 │         │                                                     │\n",
       "1: ───(0)───────────────────────────────────────────────┼───────────┼───────────────────────────────────────────@─────────@───────────────────────────────────────────┼─────────┼─────────────────────────────────────────────────────(0)───\n",
       "      │                                                 │           │                                           │         │                                           │         │                                                     │\n",
       "2: ───┼─────(0)─────────────────────────────────────────┼───────────@───────────────────────────────────────────┼─────────(0)─────────────────────────────────────────┼─────────@───────────────────────────────────────────────(0)───┼─────\n",
       "      │     │                                           │           │                                           │         │                                           │         │                                               │     │\n",
       "3: ───┼─────┼─────(0)───────────────────@───────────────┼─────(0)───┼─────(0)───────────────────@───────────────┼───(0)───┼─────(0)───────────────────@───────────────┼───(0)───┼───(0)───────────────────@───────────────(0)───┼─────┼─────\n",
       "      │     │     │                     │               │     │     │     │                     │               │   │     │     │                     │               │   │     │   │                     │               │     │     │\n",
       "4: ───X─────@─────┼─────────────────@───@───────────────X─────┼─────┼─────┼─────────────────@───@───────────────X───┼─────┼─────┼─────────────────@───@───────────────X───┼─────┼───┼─────────────────@───@───────────────┼─────@─────X─────\n",
       "            │     │                 │   │                     │     │     │                 │   │                   │     │     │                 │   │                   │     │   │                 │   │               │     │\n",
       "5: ─────────X─────@─────────@───────X───┼───────@─────────────@─────X─────@─────────@───────X───┼───────@───────────@─────X─────@─────────@───────X───┼───────@───────────@─────X───@─────────@───────X───┼───────@───────@─────X───────────\n",
       "                  │         │           │       │             │           │         │           │       │           │           │         │           │       │           │         │         │           │       │       │\n",
       "6: ───────────────X─────@───X───@───────X───@───X───@─────────X───────────X─────@───X───@───────X───@───X───@───────X───────────X─────@───X───@───────X───@───X───@───────X─────────X─────@───X───@───────X───@───X───@───X─────────────────\n",
       "                        │       │           │       │                           │       │           │       │                         │       │           │       │                       │       │           │       │\n",
       "7: ─────────────────────Y───────Y───────────Y───────Y───────────────────────────Y───────Y───────────Y───────Y─────────────────────────Y───────Y───────────Y───────Y───────────────────────Y───────Y───────────Y───────Y─────────────────────"
      ]
     },
     "execution_count": 370,
     "metadata": {},
     "output_type": "execute_result"
    }
   ],
   "source": [
    "N_ancilla= 4\n",
    "\n",
    "unsimplified_gate_seq = control_circuit(N_ancilla)\n",
    "simple_gate_cancel_list=cancel_double_T_gates(unsimplified_gate_seq)\n",
    "\n",
    "cancel_simple_T = simplify_T_controls_differing_by_one_bit(simple_gate_cancel_list)\n",
    "\n",
    "cancel_T_X_T = simplify_T_X_T(cancel_simple_T)\n",
    "\n",
    "from cirq.circuits import InsertStrategy\n",
    "overall_circuit = cirq.Circuit()\n",
    "for circuit in cancel_T_X_T:\n",
    "    overall_circuit.append(circuit.all_operations(), strategy=InsertStrategy.NEW)\n",
    "overall_circuit"
   ]
  },
  {
   "cell_type": "code",
   "execution_count": 299,
   "metadata": {},
   "outputs": [
    {
     "data": {
      "text/plain": [
       "22"
      ]
     },
     "execution_count": 299,
     "metadata": {},
     "output_type": "execute_result"
    }
   ],
   "source": [
    "len(list(overall_circuit.all_operations()))"
   ]
  },
  {
   "cell_type": "code",
   "execution_count": 289,
   "metadata": {},
   "outputs": [],
   "source": [
    "# N_ancilla= 3\n",
    "\n",
    "# unsimplified_gate_seq = control_circuit(N_ancilla)\n",
    "# simple_gate_cancel_list=cancel_double_T_gates(unsimplified_gate_seq)\n",
    "\n",
    "# cancel_simple_T = simplify_T_controls_differing_by_one_bit(simple_gate_cancel_list)\n",
    "\n",
    "# # cancel_T_X_T = simplify_T_X_T(cancel_simple_T) ## <- missing this part for comparison!\n",
    "\n",
    "# from cirq.circuits import InsertStrategy\n",
    "# overall_circuit_no_X_T = cirq.Circuit()\n",
    "# for circuit in cancel_simple_T:\n",
    "#     overall_circuit.append(circuit.all_operations(), strategy=InsertStrategy.NEW)\n",
    "# overall_circuit"
   ]
  },
  {
   "cell_type": "code",
   "execution_count": 371,
   "metadata": {},
   "outputs": [
    {
     "data": {
      "text/html": [
       "<pre style=\"overflow: auto; white-space: pre;\">0: ───(0)───────────────────────────────(0)───(0)───────────────────────────(0)───(0)───────────────────────(0)───(0)───────────────────────────(0)───(0)───────────────────────────(0)───(0)───────────────────────(0)───(0)───────────────────────────(0)───(0)───────────────────────────────(0)───@───────────────────────────────@───@───────────────────────────@───@───────────────────────@───@───────────────────────────@───@─────────────────────────────@─────@─────────────────────────@─────@─────────────────────────────@─────@─────────────────────────────────@─────\n",
       "      │                                 │     │                             │     │                         │     │                             │     │                             │     │                         │     │                             │     │                                 │     │                               │   │                           │   │                       │   │                           │   │                             │     │                         │     │                             │     │                                 │\n",
       "1: ───(0)───────────────────────────────(0)───(0)───────────────────────────(0)───(0)───────────────────────(0)───(0)───────────────────────────(0)───@─────────────────────────────@─────@─────────────────────────@─────@─────────────────────────────@─────@─────────────────────────────────@─────@───────────────────────────────@───@───────────────────────────@───@───────────────────────@───@───────────────────────────@───(0)───────────────────────────(0)───(0)───────────────────────(0)───(0)───────────────────────────(0)───(0)───────────────────────────────(0)───\n",
       "      │                                 │     │                             │     │                         │     │                             │     │                             │     │                         │     │                             │     │                                 │     │                               │   │                           │   │                       │   │                           │   │                             │     │                         │     │                             │     │                                 │\n",
       "2: ───┼─────(0)───────────────────(0)───┼─────┼─────(0)───────────────(0)───┼─────┼─────@───────────────@───┼─────┼─────@───────────────────@───┼─────┼─────@───────────────────@───┼─────┼─────@───────────────@───┼─────┼─────(0)───────────────(0)───┼─────┼─────(0)───────────────────(0)───┼─────┼───(0)───────────────────(0)───┼───┼───(0)───────────────(0)───┼───┼───@───────────────@───┼───┼───@───────────────────@───┼───┼─────@───────────────────@───┼─────┼─────@───────────────@───┼─────┼─────(0)───────────────(0)───┼─────┼─────(0)───────────────────(0)───┼─────\n",
       "      │     │                     │     │     │     │                 │     │     │     │               │   │     │     │                   │   │     │     │                   │   │     │     │               │   │     │     │                 │     │     │     │                     │     │     │   │                     │     │   │   │                 │     │   │   │               │   │   │   │                   │   │   │     │                   │   │     │     │               │   │     │     │                 │     │     │     │                     │     │\n",
       "3: ───┼─────┼─────(0)───────(0)───┼─────┼─────┼─────┼─────@───────@───┼─────┼─────┼─────┼───@───────@───┼───┼─────┼─────┼───(0)───────(0)───┼───┼─────┼─────┼───(0)───────(0)───┼───┼─────┼─────┼───@───────@───┼───┼─────┼─────┼─────@───────@───┼─────┼─────┼─────┼─────(0)───────(0)───┼─────┼─────┼───┼─────(0)───────(0)───┼─────┼───┼───┼─────@───────@───┼─────┼───┼───┼───@───────@───┼───┼───┼───┼───(0)───────(0)───┼───┼───┼─────┼───(0)───────(0)───┼───┼─────┼─────┼───@───────@───┼───┼─────┼─────┼─────@───────@───┼─────┼─────┼─────┼─────(0)───────(0)───┼─────┼─────\n",
       "      │     │     │         │     │     │     │     │     │       │   │     │     │     │   │       │   │   │     │     │   │         │     │   │     │     │   │         │     │   │     │     │   │       │   │   │     │     │     │       │   │     │     │     │     │         │     │     │     │   │     │         │     │     │   │   │     │       │   │     │   │   │   │       │   │   │   │   │   │         │     │   │   │     │   │         │     │   │     │     │   │       │   │   │     │     │     │       │   │     │     │     │     │         │     │     │\n",
       "4: ───X─────@─────┼─────────┼─────@─────X─────X─────@─────┼───────┼───@─────X─────X─────@───┼───────┼───@───X─────X─────@───┼─────────┼─────@───X─────X─────@───┼─────────┼─────@───X─────X─────@───┼───────┼───@───X─────X─────@─────┼───────┼───@─────X─────X─────@─────┼─────────┼─────@─────X─────X───@─────┼─────────┼─────@─────X───X───@─────┼───────┼───@─────X───X───@───┼───────┼───@───X───X───@───┼─────────┼─────@───X───X─────@───┼─────────┼─────@───X─────X─────@───┼───────┼───@───X─────X─────@─────┼───────┼───@─────X─────X─────@─────┼─────────┼─────@─────X─────\n",
       "            │     │         │     │                 │     │       │   │                 │   │       │   │               │   │         │     │               │   │         │     │               │   │       │   │               │     │       │   │                 │     │         │     │               │     │         │     │             │     │       │   │             │   │       │   │           │   │         │     │             │   │         │     │               │   │       │   │               │     │       │   │                 │     │         │     │\n",
       "5: ─────────X─────@─────────@─────X─────────────────X─────@───────@───X─────────────────X───@───────@───X───────────────X───@─────────@─────X───────────────X───@─────────@─────X───────────────X───@───────@───X───────────────X─────@───────@───X─────────────────X─────@─────────@─────X───────────────X─────@─────────@─────X─────────────X─────@───────@───X─────────────X───@───────@───X───────────X───@─────────@─────X─────────────X───@─────────@─────X───────────────X───@───────@───X───────────────X─────@───────@───X─────────────────X─────@─────────@─────X───────────\n",
       "                  │         │                             │       │                         │       │                       │         │                         │         │                         │       │                         │       │                           │         │                           │         │                         │       │                     │       │                   │         │                       │         │                         │       │                         │       │                           │         │\n",
       "6: ───────────────X─────@───X─────────────────────────────X───@───X─────────────────────────X───@───X───────────────────────X─────@───X─────────────────────────X─────@───X─────────────────────────X───@───X─────────────────────────X───@───X───────────────────────────X─────@───X───────────────────────────X─────@───X─────────────────────────X───@───X─────────────────────X───@───X───────────────────X─────@───X───────────────────────X─────@───X─────────────────────────X───@───X─────────────────────────X───@───X───────────────────────────X─────@───X─────────────────\n",
       "                        │                                     │                                 │                                 │                                   │                                 │                                 │                                     │                                     │                                 │                             │                             │                                 │                                 │                                 │                                     │\n",
       "7: ─────────────────────Y─────────────────────────────────────Y─────────────────────────────────Y─────────────────────────────────Y───────────────────────────────────Y─────────────────────────────────Y─────────────────────────────────Y─────────────────────────────────────Y─────────────────────────────────────Y─────────────────────────────────Y─────────────────────────────Y─────────────────────────────Y─────────────────────────────────Y─────────────────────────────────Y─────────────────────────────────Y─────────────────────────────────────Y─────────────────────</pre>"
      ],
      "text/plain": [
       "0: ───(0)───────────────────────────────(0)───(0)───────────────────────────(0)───(0)───────────────────────(0)───(0)───────────────────────────(0)───(0)───────────────────────────(0)───(0)───────────────────────(0)───(0)───────────────────────────(0)───(0)───────────────────────────────(0)───@───────────────────────────────@───@───────────────────────────@───@───────────────────────@───@───────────────────────────@───@─────────────────────────────@─────@─────────────────────────@─────@─────────────────────────────@─────@─────────────────────────────────@─────\n",
       "      │                                 │     │                             │     │                         │     │                             │     │                             │     │                         │     │                             │     │                                 │     │                               │   │                           │   │                       │   │                           │   │                             │     │                         │     │                             │     │                                 │\n",
       "1: ───(0)───────────────────────────────(0)───(0)───────────────────────────(0)───(0)───────────────────────(0)───(0)───────────────────────────(0)───@─────────────────────────────@─────@─────────────────────────@─────@─────────────────────────────@─────@─────────────────────────────────@─────@───────────────────────────────@───@───────────────────────────@───@───────────────────────@───@───────────────────────────@───(0)───────────────────────────(0)───(0)───────────────────────(0)───(0)───────────────────────────(0)───(0)───────────────────────────────(0)───\n",
       "      │                                 │     │                             │     │                         │     │                             │     │                             │     │                         │     │                             │     │                                 │     │                               │   │                           │   │                       │   │                           │   │                             │     │                         │     │                             │     │                                 │\n",
       "2: ───┼─────(0)───────────────────(0)───┼─────┼─────(0)───────────────(0)───┼─────┼─────@───────────────@───┼─────┼─────@───────────────────@───┼─────┼─────@───────────────────@───┼─────┼─────@───────────────@───┼─────┼─────(0)───────────────(0)───┼─────┼─────(0)───────────────────(0)───┼─────┼───(0)───────────────────(0)───┼───┼───(0)───────────────(0)───┼───┼───@───────────────@───┼───┼───@───────────────────@───┼───┼─────@───────────────────@───┼─────┼─────@───────────────@───┼─────┼─────(0)───────────────(0)───┼─────┼─────(0)───────────────────(0)───┼─────\n",
       "      │     │                     │     │     │     │                 │     │     │     │               │   │     │     │                   │   │     │     │                   │   │     │     │               │   │     │     │                 │     │     │     │                     │     │     │   │                     │     │   │   │                 │     │   │   │               │   │   │   │                   │   │   │     │                   │   │     │     │               │   │     │     │                 │     │     │     │                     │     │\n",
       "3: ───┼─────┼─────(0)───────(0)───┼─────┼─────┼─────┼─────@───────@───┼─────┼─────┼─────┼───@───────@───┼───┼─────┼─────┼───(0)───────(0)───┼───┼─────┼─────┼───(0)───────(0)───┼───┼─────┼─────┼───@───────@───┼───┼─────┼─────┼─────@───────@───┼─────┼─────┼─────┼─────(0)───────(0)───┼─────┼─────┼───┼─────(0)───────(0)───┼─────┼───┼───┼─────@───────@───┼─────┼───┼───┼───@───────@───┼───┼───┼───┼───(0)───────(0)───┼───┼───┼─────┼───(0)───────(0)───┼───┼─────┼─────┼───@───────@───┼───┼─────┼─────┼─────@───────@───┼─────┼─────┼─────┼─────(0)───────(0)───┼─────┼─────\n",
       "      │     │     │         │     │     │     │     │     │       │   │     │     │     │   │       │   │   │     │     │   │         │     │   │     │     │   │         │     │   │     │     │   │       │   │   │     │     │     │       │   │     │     │     │     │         │     │     │     │   │     │         │     │     │   │   │     │       │   │     │   │   │   │       │   │   │   │   │   │         │     │   │   │     │   │         │     │   │     │     │   │       │   │   │     │     │     │       │   │     │     │     │     │         │     │     │\n",
       "4: ───X─────@─────┼─────────┼─────@─────X─────X─────@─────┼───────┼───@─────X─────X─────@───┼───────┼───@───X─────X─────@───┼─────────┼─────@───X─────X─────@───┼─────────┼─────@───X─────X─────@───┼───────┼───@───X─────X─────@─────┼───────┼───@─────X─────X─────@─────┼─────────┼─────@─────X─────X───@─────┼─────────┼─────@─────X───X───@─────┼───────┼───@─────X───X───@───┼───────┼───@───X───X───@───┼─────────┼─────@───X───X─────@───┼─────────┼─────@───X─────X─────@───┼───────┼───@───X─────X─────@─────┼───────┼───@─────X─────X─────@─────┼─────────┼─────@─────X─────\n",
       "            │     │         │     │                 │     │       │   │                 │   │       │   │               │   │         │     │               │   │         │     │               │   │       │   │               │     │       │   │                 │     │         │     │               │     │         │     │             │     │       │   │             │   │       │   │           │   │         │     │             │   │         │     │               │   │       │   │               │     │       │   │                 │     │         │     │\n",
       "5: ─────────X─────@─────────@─────X─────────────────X─────@───────@───X─────────────────X───@───────@───X───────────────X───@─────────@─────X───────────────X───@─────────@─────X───────────────X───@───────@───X───────────────X─────@───────@───X─────────────────X─────@─────────@─────X───────────────X─────@─────────@─────X─────────────X─────@───────@───X─────────────X───@───────@───X───────────X───@─────────@─────X─────────────X───@─────────@─────X───────────────X───@───────@───X───────────────X─────@───────@───X─────────────────X─────@─────────@─────X───────────\n",
       "                  │         │                             │       │                         │       │                       │         │                         │         │                         │       │                         │       │                           │         │                           │         │                         │       │                     │       │                   │         │                       │         │                         │       │                         │       │                           │         │\n",
       "6: ───────────────X─────@───X─────────────────────────────X───@───X─────────────────────────X───@───X───────────────────────X─────@───X─────────────────────────X─────@───X─────────────────────────X───@───X─────────────────────────X───@───X───────────────────────────X─────@───X───────────────────────────X─────@───X─────────────────────────X───@───X─────────────────────X───@───X───────────────────X─────@───X───────────────────────X─────@───X─────────────────────────X───@───X─────────────────────────X───@───X───────────────────────────X─────@───X─────────────────\n",
       "                        │                                     │                                 │                                 │                                   │                                 │                                 │                                     │                                     │                                 │                             │                             │                                 │                                 │                                 │                                     │\n",
       "7: ─────────────────────Y─────────────────────────────────────Y─────────────────────────────────Y─────────────────────────────────Y───────────────────────────────────Y─────────────────────────────────Y─────────────────────────────────Y─────────────────────────────────────Y─────────────────────────────────────Y─────────────────────────────────Y─────────────────────────────Y─────────────────────────────Y─────────────────────────────────Y─────────────────────────────────Y─────────────────────────────────Y─────────────────────────────────────Y─────────────────────"
      ]
     },
     "execution_count": 371,
     "metadata": {},
     "output_type": "execute_result"
    }
   ],
   "source": [
    "from cirq.circuits import InsertStrategy\n",
    "non_simplified = cirq.Circuit()\n",
    "for circuit in unsimplified_gate_seq:\n",
    "    \n",
    "    \n",
    "    non_simplified.append(circuit.all_operations(), strategy=InsertStrategy.NEW)\n",
    "non_simplified"
   ]
  },
  {
   "cell_type": "code",
   "execution_count": 62,
   "metadata": {},
   "outputs": [
    {
     "data": {
      "text/plain": [
       "True"
      ]
     },
     "execution_count": 62,
     "metadata": {},
     "output_type": "execute_result"
    }
   ],
   "source": [
    "np.array_equal(non_simplified.unitary(), overall_circuit.unitary())"
   ]
  },
  {
   "cell_type": "code",
   "execution_count": 134,
   "metadata": {},
   "outputs": [
    {
     "data": {
      "text/plain": [
       "1664"
      ]
     },
     "execution_count": 134,
     "metadata": {},
     "output_type": "execute_result"
    }
   ],
   "source": [
    "len(list(non_simplified.all_operations()))"
   ]
  },
  {
   "cell_type": "code",
   "execution_count": 367,
   "metadata": {},
   "outputs": [
    {
     "data": {
      "text/plain": [
       "8"
      ]
     },
     "execution_count": 367,
     "metadata": {},
     "output_type": "execute_result"
    }
   ],
   "source": [
    "2**3"
   ]
  },
  {
   "cell_type": "code",
   "execution_count": null,
   "metadata": {},
   "outputs": [],
   "source": []
  },
  {
   "cell_type": "code",
   "execution_count": 375,
   "metadata": {},
   "outputs": [
    {
     "data": {
      "text/plain": [
       "32"
      ]
     },
     "execution_count": 375,
     "metadata": {},
     "output_type": "execute_result"
    }
   ],
   "source": []
  },
  {
   "cell_type": "code",
   "execution_count": 273,
   "metadata": {},
   "outputs": [
    {
     "data": {
      "text/plain": [
       "array(['001', '011', '010', '110', '111', '101', '100'], dtype='<U3')"
      ]
     },
     "execution_count": 273,
     "metadata": {},
     "output_type": "execute_result"
    }
   ],
   "source": [
    "state_array = np.arange(0,2**Na,1)\n",
    "grey_state_array =np.array([int_to_Gray(i, Na) for i in state_array])\n",
    "grey_state_array[1:]"
   ]
  },
  {
   "cell_type": "code",
   "execution_count": 377,
   "metadata": {},
   "outputs": [
    {
     "name": "stdout",
     "output_type": "stream",
     "text": [
      "1664 442\n"
     ]
    },
    {
     "data": {
      "text/plain": [
       "(-1349, 127, 9216, 13824, 1122, 1683)"
      ]
     },
     "execution_count": 377,
     "metadata": {},
     "output_type": "execute_result"
    }
   ],
   "source": [
    "def reduction(n_ancilla_qubits):\n",
    "    \n",
    "    state_array = np.arange(0,2**n_ancilla_qubits,1)\n",
    "    grey_state_array =np.array([int_to_Gray(i, n_ancilla_qubits) for i in state_array])\n",
    "    \n",
    "    num_T_removed=0\n",
    "    num_X_added=0\n",
    "    for state_1_index, state_1 in enumerate(grey_state_array[:-1]):\n",
    "        state_2=grey_state_array[state_1_index+1]\n",
    "        \n",
    "        if state_1[0] == state_2[0]:\n",
    "            n_common_bits=0\n",
    "            for bit_1_index, state_1_bit in enumerate(state_1[1:]):\n",
    "                state_2_bit = state_2[1:][bit_1_index]\n",
    "                if state_1_bit==state_2_bit:\n",
    "                    n_common_bits+=1\n",
    "                else:\n",
    "                    break\n",
    "                    \n",
    "            if n_common_bits==0:\n",
    "                ## c-T*c-T = X\n",
    "                num_T_removed-=2\n",
    "                num_X_added+=1\n",
    "            \n",
    "                # TXT = XT\n",
    "                num_T_removed-=1\n",
    "                \n",
    "            elif n_common_bits==n_ancilla_qubits-2:\n",
    "                # TT = I\n",
    "                num_T_removed-=2*n_common_bits\n",
    "                \n",
    "                # c-T c-T = X\n",
    "                num_T_removed-=2\n",
    "                num_X_added+=1\n",
    "                \n",
    "            else:\n",
    "                # TT = I\n",
    "                num_T_removed-=2*n_common_bits\n",
    "                \n",
    "                # c-T c-T = X\n",
    "                num_T_removed-=2\n",
    "                num_X_added+=1\n",
    "                \n",
    "                # TXT = XT\n",
    "                num_T_removed-=1\n",
    "                \n",
    "                \n",
    "        else:\n",
    "            ## c-T*c-T = X\n",
    "            num_T_removed-=2\n",
    "            num_X_added+=1\n",
    "            \n",
    "            # TXT = XT\n",
    "            num_T_removed-=1\n",
    "    \n",
    "    \n",
    "    N_gates_no_reduction= (2**n_ancilla_qubits)*(2*n_ancilla_qubits-1) # 2^{Na} * (2Na-1)\n",
    "    Num_T_no_reduction = (2**n_ancilla_qubits)*(2*n_ancilla_qubits-2) # 2^{Na}  * (2Na-2)\n",
    "    #\n",
    "    No_reduction_CNOTs = Num_T_no_reduction*6\n",
    "    No_reductions_single_G = Num_T_no_reduction*9\n",
    "    \n",
    "    \n",
    "    new_gate_count = N_gates_no_reduction + num_T_removed + num_X_added\n",
    "    reduced_CNOTs=(Num_T_no_reduction+ num_T_removed)*6\n",
    "    reduced_single_G=(Num_T_no_reduction+ num_T_removed)*9\n",
    "    \n",
    "    print(N_gates_no_reduction, new_gate_count)\n",
    "    \n",
    "    return num_T_removed, num_X_added, No_reduction_CNOTs, No_reductions_single_G,reduced_CNOTs, reduced_single_G\n",
    "        \n",
    "\n",
    "reduction(7)"
   ]
  },
  {
   "cell_type": "code",
   "execution_count": null,
   "metadata": {},
   "outputs": [],
   "source": []
  },
  {
   "cell_type": "code",
   "execution_count": 381,
   "metadata": {},
   "outputs": [
    {
     "name": "stdout",
     "output_type": "stream",
     "text": [
      "40 22\n",
      "112 50\n",
      "288 106\n",
      "704 218\n",
      "1664 442\n",
      "3840 890\n",
      "8704 1786\n",
      "19456 3578\n",
      "43008 7162\n",
      "94208 14330\n",
      "204800 28666\n",
      "442368 57338\n",
      "950272 114682\n",
      "2031616 229370\n",
      "4325376 458746\n",
      "9175040 917498\n",
      "19398656 1835002\n",
      "40894464 3670010\n"
     ]
    }
   ],
   "source": [
    "max_Na=21\n",
    "\n",
    "old_CNOT=[]\n",
    "old_single_G=[]\n",
    "\n",
    "new_CNOT=[]\n",
    "new_single_G=[]\n",
    "\n",
    "N_ancilla= [Na for Na in range(3,max_Na,1)]\n",
    "for Na in N_ancilla:\n",
    "    _, _, No_reduction_CNOTs, No_reductions_single_G,reduced_CNOTs, reduced_single_G = reduction(Na)\n",
    "    old_CNOT.append(No_reduction_CNOTs)\n",
    "    old_single_G.append(No_reductions_single_G)\n",
    "    new_CNOT.append(reduced_CNOTs)\n",
    "    new_single_G.append(reduced_single_G)"
   ]
  },
  {
   "cell_type": "code",
   "execution_count": 382,
   "metadata": {},
   "outputs": [
    {
     "data": {
      "application/javascript": [
       "/* Put everything inside the global mpl namespace */\n",
       "window.mpl = {};\n",
       "\n",
       "\n",
       "mpl.get_websocket_type = function() {\n",
       "    if (typeof(WebSocket) !== 'undefined') {\n",
       "        return WebSocket;\n",
       "    } else if (typeof(MozWebSocket) !== 'undefined') {\n",
       "        return MozWebSocket;\n",
       "    } else {\n",
       "        alert('Your browser does not have WebSocket support. ' +\n",
       "              'Please try Chrome, Safari or Firefox ≥ 6. ' +\n",
       "              'Firefox 4 and 5 are also supported but you ' +\n",
       "              'have to enable WebSockets in about:config.');\n",
       "    };\n",
       "}\n",
       "\n",
       "mpl.figure = function(figure_id, websocket, ondownload, parent_element) {\n",
       "    this.id = figure_id;\n",
       "\n",
       "    this.ws = websocket;\n",
       "\n",
       "    this.supports_binary = (this.ws.binaryType != undefined);\n",
       "\n",
       "    if (!this.supports_binary) {\n",
       "        var warnings = document.getElementById(\"mpl-warnings\");\n",
       "        if (warnings) {\n",
       "            warnings.style.display = 'block';\n",
       "            warnings.textContent = (\n",
       "                \"This browser does not support binary websocket messages. \" +\n",
       "                    \"Performance may be slow.\");\n",
       "        }\n",
       "    }\n",
       "\n",
       "    this.imageObj = new Image();\n",
       "\n",
       "    this.context = undefined;\n",
       "    this.message = undefined;\n",
       "    this.canvas = undefined;\n",
       "    this.rubberband_canvas = undefined;\n",
       "    this.rubberband_context = undefined;\n",
       "    this.format_dropdown = undefined;\n",
       "\n",
       "    this.image_mode = 'full';\n",
       "\n",
       "    this.root = $('<div/>');\n",
       "    this._root_extra_style(this.root)\n",
       "    this.root.attr('style', 'display: inline-block');\n",
       "\n",
       "    $(parent_element).append(this.root);\n",
       "\n",
       "    this._init_header(this);\n",
       "    this._init_canvas(this);\n",
       "    this._init_toolbar(this);\n",
       "\n",
       "    var fig = this;\n",
       "\n",
       "    this.waiting = false;\n",
       "\n",
       "    this.ws.onopen =  function () {\n",
       "            fig.send_message(\"supports_binary\", {value: fig.supports_binary});\n",
       "            fig.send_message(\"send_image_mode\", {});\n",
       "            if (mpl.ratio != 1) {\n",
       "                fig.send_message(\"set_dpi_ratio\", {'dpi_ratio': mpl.ratio});\n",
       "            }\n",
       "            fig.send_message(\"refresh\", {});\n",
       "        }\n",
       "\n",
       "    this.imageObj.onload = function() {\n",
       "            if (fig.image_mode == 'full') {\n",
       "                // Full images could contain transparency (where diff images\n",
       "                // almost always do), so we need to clear the canvas so that\n",
       "                // there is no ghosting.\n",
       "                fig.context.clearRect(0, 0, fig.canvas.width, fig.canvas.height);\n",
       "            }\n",
       "            fig.context.drawImage(fig.imageObj, 0, 0);\n",
       "        };\n",
       "\n",
       "    this.imageObj.onunload = function() {\n",
       "        fig.ws.close();\n",
       "    }\n",
       "\n",
       "    this.ws.onmessage = this._make_on_message_function(this);\n",
       "\n",
       "    this.ondownload = ondownload;\n",
       "}\n",
       "\n",
       "mpl.figure.prototype._init_header = function() {\n",
       "    var titlebar = $(\n",
       "        '<div class=\"ui-dialog-titlebar ui-widget-header ui-corner-all ' +\n",
       "        'ui-helper-clearfix\"/>');\n",
       "    var titletext = $(\n",
       "        '<div class=\"ui-dialog-title\" style=\"width: 100%; ' +\n",
       "        'text-align: center; padding: 3px;\"/>');\n",
       "    titlebar.append(titletext)\n",
       "    this.root.append(titlebar);\n",
       "    this.header = titletext[0];\n",
       "}\n",
       "\n",
       "\n",
       "\n",
       "mpl.figure.prototype._canvas_extra_style = function(canvas_div) {\n",
       "\n",
       "}\n",
       "\n",
       "\n",
       "mpl.figure.prototype._root_extra_style = function(canvas_div) {\n",
       "\n",
       "}\n",
       "\n",
       "mpl.figure.prototype._init_canvas = function() {\n",
       "    var fig = this;\n",
       "\n",
       "    var canvas_div = $('<div/>');\n",
       "\n",
       "    canvas_div.attr('style', 'position: relative; clear: both; outline: 0');\n",
       "\n",
       "    function canvas_keyboard_event(event) {\n",
       "        return fig.key_event(event, event['data']);\n",
       "    }\n",
       "\n",
       "    canvas_div.keydown('key_press', canvas_keyboard_event);\n",
       "    canvas_div.keyup('key_release', canvas_keyboard_event);\n",
       "    this.canvas_div = canvas_div\n",
       "    this._canvas_extra_style(canvas_div)\n",
       "    this.root.append(canvas_div);\n",
       "\n",
       "    var canvas = $('<canvas/>');\n",
       "    canvas.addClass('mpl-canvas');\n",
       "    canvas.attr('style', \"left: 0; top: 0; z-index: 0; outline: 0\")\n",
       "\n",
       "    this.canvas = canvas[0];\n",
       "    this.context = canvas[0].getContext(\"2d\");\n",
       "\n",
       "    var backingStore = this.context.backingStorePixelRatio ||\n",
       "\tthis.context.webkitBackingStorePixelRatio ||\n",
       "\tthis.context.mozBackingStorePixelRatio ||\n",
       "\tthis.context.msBackingStorePixelRatio ||\n",
       "\tthis.context.oBackingStorePixelRatio ||\n",
       "\tthis.context.backingStorePixelRatio || 1;\n",
       "\n",
       "    mpl.ratio = (window.devicePixelRatio || 1) / backingStore;\n",
       "\n",
       "    var rubberband = $('<canvas/>');\n",
       "    rubberband.attr('style', \"position: absolute; left: 0; top: 0; z-index: 1;\")\n",
       "\n",
       "    var pass_mouse_events = true;\n",
       "\n",
       "    canvas_div.resizable({\n",
       "        start: function(event, ui) {\n",
       "            pass_mouse_events = false;\n",
       "        },\n",
       "        resize: function(event, ui) {\n",
       "            fig.request_resize(ui.size.width, ui.size.height);\n",
       "        },\n",
       "        stop: function(event, ui) {\n",
       "            pass_mouse_events = true;\n",
       "            fig.request_resize(ui.size.width, ui.size.height);\n",
       "        },\n",
       "    });\n",
       "\n",
       "    function mouse_event_fn(event) {\n",
       "        if (pass_mouse_events)\n",
       "            return fig.mouse_event(event, event['data']);\n",
       "    }\n",
       "\n",
       "    rubberband.mousedown('button_press', mouse_event_fn);\n",
       "    rubberband.mouseup('button_release', mouse_event_fn);\n",
       "    // Throttle sequential mouse events to 1 every 20ms.\n",
       "    rubberband.mousemove('motion_notify', mouse_event_fn);\n",
       "\n",
       "    rubberband.mouseenter('figure_enter', mouse_event_fn);\n",
       "    rubberband.mouseleave('figure_leave', mouse_event_fn);\n",
       "\n",
       "    canvas_div.on(\"wheel\", function (event) {\n",
       "        event = event.originalEvent;\n",
       "        event['data'] = 'scroll'\n",
       "        if (event.deltaY < 0) {\n",
       "            event.step = 1;\n",
       "        } else {\n",
       "            event.step = -1;\n",
       "        }\n",
       "        mouse_event_fn(event);\n",
       "    });\n",
       "\n",
       "    canvas_div.append(canvas);\n",
       "    canvas_div.append(rubberband);\n",
       "\n",
       "    this.rubberband = rubberband;\n",
       "    this.rubberband_canvas = rubberband[0];\n",
       "    this.rubberband_context = rubberband[0].getContext(\"2d\");\n",
       "    this.rubberband_context.strokeStyle = \"#000000\";\n",
       "\n",
       "    this._resize_canvas = function(width, height) {\n",
       "        // Keep the size of the canvas, canvas container, and rubber band\n",
       "        // canvas in synch.\n",
       "        canvas_div.css('width', width)\n",
       "        canvas_div.css('height', height)\n",
       "\n",
       "        canvas.attr('width', width * mpl.ratio);\n",
       "        canvas.attr('height', height * mpl.ratio);\n",
       "        canvas.attr('style', 'width: ' + width + 'px; height: ' + height + 'px;');\n",
       "\n",
       "        rubberband.attr('width', width);\n",
       "        rubberband.attr('height', height);\n",
       "    }\n",
       "\n",
       "    // Set the figure to an initial 600x600px, this will subsequently be updated\n",
       "    // upon first draw.\n",
       "    this._resize_canvas(600, 600);\n",
       "\n",
       "    // Disable right mouse context menu.\n",
       "    $(this.rubberband_canvas).bind(\"contextmenu\",function(e){\n",
       "        return false;\n",
       "    });\n",
       "\n",
       "    function set_focus () {\n",
       "        canvas.focus();\n",
       "        canvas_div.focus();\n",
       "    }\n",
       "\n",
       "    window.setTimeout(set_focus, 100);\n",
       "}\n",
       "\n",
       "mpl.figure.prototype._init_toolbar = function() {\n",
       "    var fig = this;\n",
       "\n",
       "    var nav_element = $('<div/>');\n",
       "    nav_element.attr('style', 'width: 100%');\n",
       "    this.root.append(nav_element);\n",
       "\n",
       "    // Define a callback function for later on.\n",
       "    function toolbar_event(event) {\n",
       "        return fig.toolbar_button_onclick(event['data']);\n",
       "    }\n",
       "    function toolbar_mouse_event(event) {\n",
       "        return fig.toolbar_button_onmouseover(event['data']);\n",
       "    }\n",
       "\n",
       "    for(var toolbar_ind in mpl.toolbar_items) {\n",
       "        var name = mpl.toolbar_items[toolbar_ind][0];\n",
       "        var tooltip = mpl.toolbar_items[toolbar_ind][1];\n",
       "        var image = mpl.toolbar_items[toolbar_ind][2];\n",
       "        var method_name = mpl.toolbar_items[toolbar_ind][3];\n",
       "\n",
       "        if (!name) {\n",
       "            // put a spacer in here.\n",
       "            continue;\n",
       "        }\n",
       "        var button = $('<button/>');\n",
       "        button.addClass('ui-button ui-widget ui-state-default ui-corner-all ' +\n",
       "                        'ui-button-icon-only');\n",
       "        button.attr('role', 'button');\n",
       "        button.attr('aria-disabled', 'false');\n",
       "        button.click(method_name, toolbar_event);\n",
       "        button.mouseover(tooltip, toolbar_mouse_event);\n",
       "\n",
       "        var icon_img = $('<span/>');\n",
       "        icon_img.addClass('ui-button-icon-primary ui-icon');\n",
       "        icon_img.addClass(image);\n",
       "        icon_img.addClass('ui-corner-all');\n",
       "\n",
       "        var tooltip_span = $('<span/>');\n",
       "        tooltip_span.addClass('ui-button-text');\n",
       "        tooltip_span.html(tooltip);\n",
       "\n",
       "        button.append(icon_img);\n",
       "        button.append(tooltip_span);\n",
       "\n",
       "        nav_element.append(button);\n",
       "    }\n",
       "\n",
       "    var fmt_picker_span = $('<span/>');\n",
       "\n",
       "    var fmt_picker = $('<select/>');\n",
       "    fmt_picker.addClass('mpl-toolbar-option ui-widget ui-widget-content');\n",
       "    fmt_picker_span.append(fmt_picker);\n",
       "    nav_element.append(fmt_picker_span);\n",
       "    this.format_dropdown = fmt_picker[0];\n",
       "\n",
       "    for (var ind in mpl.extensions) {\n",
       "        var fmt = mpl.extensions[ind];\n",
       "        var option = $(\n",
       "            '<option/>', {selected: fmt === mpl.default_extension}).html(fmt);\n",
       "        fmt_picker.append(option);\n",
       "    }\n",
       "\n",
       "    // Add hover states to the ui-buttons\n",
       "    $( \".ui-button\" ).hover(\n",
       "        function() { $(this).addClass(\"ui-state-hover\");},\n",
       "        function() { $(this).removeClass(\"ui-state-hover\");}\n",
       "    );\n",
       "\n",
       "    var status_bar = $('<span class=\"mpl-message\"/>');\n",
       "    nav_element.append(status_bar);\n",
       "    this.message = status_bar[0];\n",
       "}\n",
       "\n",
       "mpl.figure.prototype.request_resize = function(x_pixels, y_pixels) {\n",
       "    // Request matplotlib to resize the figure. Matplotlib will then trigger a resize in the client,\n",
       "    // which will in turn request a refresh of the image.\n",
       "    this.send_message('resize', {'width': x_pixels, 'height': y_pixels});\n",
       "}\n",
       "\n",
       "mpl.figure.prototype.send_message = function(type, properties) {\n",
       "    properties['type'] = type;\n",
       "    properties['figure_id'] = this.id;\n",
       "    this.ws.send(JSON.stringify(properties));\n",
       "}\n",
       "\n",
       "mpl.figure.prototype.send_draw_message = function() {\n",
       "    if (!this.waiting) {\n",
       "        this.waiting = true;\n",
       "        this.ws.send(JSON.stringify({type: \"draw\", figure_id: this.id}));\n",
       "    }\n",
       "}\n",
       "\n",
       "\n",
       "mpl.figure.prototype.handle_save = function(fig, msg) {\n",
       "    var format_dropdown = fig.format_dropdown;\n",
       "    var format = format_dropdown.options[format_dropdown.selectedIndex].value;\n",
       "    fig.ondownload(fig, format);\n",
       "}\n",
       "\n",
       "\n",
       "mpl.figure.prototype.handle_resize = function(fig, msg) {\n",
       "    var size = msg['size'];\n",
       "    if (size[0] != fig.canvas.width || size[1] != fig.canvas.height) {\n",
       "        fig._resize_canvas(size[0], size[1]);\n",
       "        fig.send_message(\"refresh\", {});\n",
       "    };\n",
       "}\n",
       "\n",
       "mpl.figure.prototype.handle_rubberband = function(fig, msg) {\n",
       "    var x0 = msg['x0'] / mpl.ratio;\n",
       "    var y0 = (fig.canvas.height - msg['y0']) / mpl.ratio;\n",
       "    var x1 = msg['x1'] / mpl.ratio;\n",
       "    var y1 = (fig.canvas.height - msg['y1']) / mpl.ratio;\n",
       "    x0 = Math.floor(x0) + 0.5;\n",
       "    y0 = Math.floor(y0) + 0.5;\n",
       "    x1 = Math.floor(x1) + 0.5;\n",
       "    y1 = Math.floor(y1) + 0.5;\n",
       "    var min_x = Math.min(x0, x1);\n",
       "    var min_y = Math.min(y0, y1);\n",
       "    var width = Math.abs(x1 - x0);\n",
       "    var height = Math.abs(y1 - y0);\n",
       "\n",
       "    fig.rubberband_context.clearRect(\n",
       "        0, 0, fig.canvas.width / mpl.ratio, fig.canvas.height / mpl.ratio);\n",
       "\n",
       "    fig.rubberband_context.strokeRect(min_x, min_y, width, height);\n",
       "}\n",
       "\n",
       "mpl.figure.prototype.handle_figure_label = function(fig, msg) {\n",
       "    // Updates the figure title.\n",
       "    fig.header.textContent = msg['label'];\n",
       "}\n",
       "\n",
       "mpl.figure.prototype.handle_cursor = function(fig, msg) {\n",
       "    var cursor = msg['cursor'];\n",
       "    switch(cursor)\n",
       "    {\n",
       "    case 0:\n",
       "        cursor = 'pointer';\n",
       "        break;\n",
       "    case 1:\n",
       "        cursor = 'default';\n",
       "        break;\n",
       "    case 2:\n",
       "        cursor = 'crosshair';\n",
       "        break;\n",
       "    case 3:\n",
       "        cursor = 'move';\n",
       "        break;\n",
       "    }\n",
       "    fig.rubberband_canvas.style.cursor = cursor;\n",
       "}\n",
       "\n",
       "mpl.figure.prototype.handle_message = function(fig, msg) {\n",
       "    fig.message.textContent = msg['message'];\n",
       "}\n",
       "\n",
       "mpl.figure.prototype.handle_draw = function(fig, msg) {\n",
       "    // Request the server to send over a new figure.\n",
       "    fig.send_draw_message();\n",
       "}\n",
       "\n",
       "mpl.figure.prototype.handle_image_mode = function(fig, msg) {\n",
       "    fig.image_mode = msg['mode'];\n",
       "}\n",
       "\n",
       "mpl.figure.prototype.updated_canvas_event = function() {\n",
       "    // Called whenever the canvas gets updated.\n",
       "    this.send_message(\"ack\", {});\n",
       "}\n",
       "\n",
       "// A function to construct a web socket function for onmessage handling.\n",
       "// Called in the figure constructor.\n",
       "mpl.figure.prototype._make_on_message_function = function(fig) {\n",
       "    return function socket_on_message(evt) {\n",
       "        if (evt.data instanceof Blob) {\n",
       "            /* FIXME: We get \"Resource interpreted as Image but\n",
       "             * transferred with MIME type text/plain:\" errors on\n",
       "             * Chrome.  But how to set the MIME type?  It doesn't seem\n",
       "             * to be part of the websocket stream */\n",
       "            evt.data.type = \"image/png\";\n",
       "\n",
       "            /* Free the memory for the previous frames */\n",
       "            if (fig.imageObj.src) {\n",
       "                (window.URL || window.webkitURL).revokeObjectURL(\n",
       "                    fig.imageObj.src);\n",
       "            }\n",
       "\n",
       "            fig.imageObj.src = (window.URL || window.webkitURL).createObjectURL(\n",
       "                evt.data);\n",
       "            fig.updated_canvas_event();\n",
       "            fig.waiting = false;\n",
       "            return;\n",
       "        }\n",
       "        else if (typeof evt.data === 'string' && evt.data.slice(0, 21) == \"data:image/png;base64\") {\n",
       "            fig.imageObj.src = evt.data;\n",
       "            fig.updated_canvas_event();\n",
       "            fig.waiting = false;\n",
       "            return;\n",
       "        }\n",
       "\n",
       "        var msg = JSON.parse(evt.data);\n",
       "        var msg_type = msg['type'];\n",
       "\n",
       "        // Call the  \"handle_{type}\" callback, which takes\n",
       "        // the figure and JSON message as its only arguments.\n",
       "        try {\n",
       "            var callback = fig[\"handle_\" + msg_type];\n",
       "        } catch (e) {\n",
       "            console.log(\"No handler for the '\" + msg_type + \"' message type: \", msg);\n",
       "            return;\n",
       "        }\n",
       "\n",
       "        if (callback) {\n",
       "            try {\n",
       "                // console.log(\"Handling '\" + msg_type + \"' message: \", msg);\n",
       "                callback(fig, msg);\n",
       "            } catch (e) {\n",
       "                console.log(\"Exception inside the 'handler_\" + msg_type + \"' callback:\", e, e.stack, msg);\n",
       "            }\n",
       "        }\n",
       "    };\n",
       "}\n",
       "\n",
       "// from http://stackoverflow.com/questions/1114465/getting-mouse-location-in-canvas\n",
       "mpl.findpos = function(e) {\n",
       "    //this section is from http://www.quirksmode.org/js/events_properties.html\n",
       "    var targ;\n",
       "    if (!e)\n",
       "        e = window.event;\n",
       "    if (e.target)\n",
       "        targ = e.target;\n",
       "    else if (e.srcElement)\n",
       "        targ = e.srcElement;\n",
       "    if (targ.nodeType == 3) // defeat Safari bug\n",
       "        targ = targ.parentNode;\n",
       "\n",
       "    // jQuery normalizes the pageX and pageY\n",
       "    // pageX,Y are the mouse positions relative to the document\n",
       "    // offset() returns the position of the element relative to the document\n",
       "    var x = e.pageX - $(targ).offset().left;\n",
       "    var y = e.pageY - $(targ).offset().top;\n",
       "\n",
       "    return {\"x\": x, \"y\": y};\n",
       "};\n",
       "\n",
       "/*\n",
       " * return a copy of an object with only non-object keys\n",
       " * we need this to avoid circular references\n",
       " * http://stackoverflow.com/a/24161582/3208463\n",
       " */\n",
       "function simpleKeys (original) {\n",
       "  return Object.keys(original).reduce(function (obj, key) {\n",
       "    if (typeof original[key] !== 'object')\n",
       "        obj[key] = original[key]\n",
       "    return obj;\n",
       "  }, {});\n",
       "}\n",
       "\n",
       "mpl.figure.prototype.mouse_event = function(event, name) {\n",
       "    var canvas_pos = mpl.findpos(event)\n",
       "\n",
       "    if (name === 'button_press')\n",
       "    {\n",
       "        this.canvas.focus();\n",
       "        this.canvas_div.focus();\n",
       "    }\n",
       "\n",
       "    var x = canvas_pos.x * mpl.ratio;\n",
       "    var y = canvas_pos.y * mpl.ratio;\n",
       "\n",
       "    this.send_message(name, {x: x, y: y, button: event.button,\n",
       "                             step: event.step,\n",
       "                             guiEvent: simpleKeys(event)});\n",
       "\n",
       "    /* This prevents the web browser from automatically changing to\n",
       "     * the text insertion cursor when the button is pressed.  We want\n",
       "     * to control all of the cursor setting manually through the\n",
       "     * 'cursor' event from matplotlib */\n",
       "    event.preventDefault();\n",
       "    return false;\n",
       "}\n",
       "\n",
       "mpl.figure.prototype._key_event_extra = function(event, name) {\n",
       "    // Handle any extra behaviour associated with a key event\n",
       "}\n",
       "\n",
       "mpl.figure.prototype.key_event = function(event, name) {\n",
       "\n",
       "    // Prevent repeat events\n",
       "    if (name == 'key_press')\n",
       "    {\n",
       "        if (event.which === this._key)\n",
       "            return;\n",
       "        else\n",
       "            this._key = event.which;\n",
       "    }\n",
       "    if (name == 'key_release')\n",
       "        this._key = null;\n",
       "\n",
       "    var value = '';\n",
       "    if (event.ctrlKey && event.which != 17)\n",
       "        value += \"ctrl+\";\n",
       "    if (event.altKey && event.which != 18)\n",
       "        value += \"alt+\";\n",
       "    if (event.shiftKey && event.which != 16)\n",
       "        value += \"shift+\";\n",
       "\n",
       "    value += 'k';\n",
       "    value += event.which.toString();\n",
       "\n",
       "    this._key_event_extra(event, name);\n",
       "\n",
       "    this.send_message(name, {key: value,\n",
       "                             guiEvent: simpleKeys(event)});\n",
       "    return false;\n",
       "}\n",
       "\n",
       "mpl.figure.prototype.toolbar_button_onclick = function(name) {\n",
       "    if (name == 'download') {\n",
       "        this.handle_save(this, null);\n",
       "    } else {\n",
       "        this.send_message(\"toolbar_button\", {name: name});\n",
       "    }\n",
       "};\n",
       "\n",
       "mpl.figure.prototype.toolbar_button_onmouseover = function(tooltip) {\n",
       "    this.message.textContent = tooltip;\n",
       "};\n",
       "mpl.toolbar_items = [[\"Home\", \"Reset original view\", \"fa fa-home icon-home\", \"home\"], [\"Back\", \"Back to previous view\", \"fa fa-arrow-left icon-arrow-left\", \"back\"], [\"Forward\", \"Forward to next view\", \"fa fa-arrow-right icon-arrow-right\", \"forward\"], [\"\", \"\", \"\", \"\"], [\"Pan\", \"Pan axes with left mouse, zoom with right\", \"fa fa-arrows icon-move\", \"pan\"], [\"Zoom\", \"Zoom to rectangle\", \"fa fa-square-o icon-check-empty\", \"zoom\"], [\"\", \"\", \"\", \"\"], [\"Download\", \"Download plot\", \"fa fa-floppy-o icon-save\", \"download\"]];\n",
       "\n",
       "mpl.extensions = [\"eps\", \"jpeg\", \"pdf\", \"png\", \"ps\", \"raw\", \"svg\", \"tif\"];\n",
       "\n",
       "mpl.default_extension = \"png\";var comm_websocket_adapter = function(comm) {\n",
       "    // Create a \"websocket\"-like object which calls the given IPython comm\n",
       "    // object with the appropriate methods. Currently this is a non binary\n",
       "    // socket, so there is still some room for performance tuning.\n",
       "    var ws = {};\n",
       "\n",
       "    ws.close = function() {\n",
       "        comm.close()\n",
       "    };\n",
       "    ws.send = function(m) {\n",
       "        //console.log('sending', m);\n",
       "        comm.send(m);\n",
       "    };\n",
       "    // Register the callback with on_msg.\n",
       "    comm.on_msg(function(msg) {\n",
       "        //console.log('receiving', msg['content']['data'], msg);\n",
       "        // Pass the mpl event to the overridden (by mpl) onmessage function.\n",
       "        ws.onmessage(msg['content']['data'])\n",
       "    });\n",
       "    return ws;\n",
       "}\n",
       "\n",
       "mpl.mpl_figure_comm = function(comm, msg) {\n",
       "    // This is the function which gets called when the mpl process\n",
       "    // starts-up an IPython Comm through the \"matplotlib\" channel.\n",
       "\n",
       "    var id = msg.content.data.id;\n",
       "    // Get hold of the div created by the display call when the Comm\n",
       "    // socket was opened in Python.\n",
       "    var element = $(\"#\" + id);\n",
       "    var ws_proxy = comm_websocket_adapter(comm)\n",
       "\n",
       "    function ondownload(figure, format) {\n",
       "        window.open(figure.imageObj.src);\n",
       "    }\n",
       "\n",
       "    var fig = new mpl.figure(id, ws_proxy,\n",
       "                           ondownload,\n",
       "                           element.get(0));\n",
       "\n",
       "    // Call onopen now - mpl needs it, as it is assuming we've passed it a real\n",
       "    // web socket which is closed, not our websocket->open comm proxy.\n",
       "    ws_proxy.onopen();\n",
       "\n",
       "    fig.parent_element = element.get(0);\n",
       "    fig.cell_info = mpl.find_output_cell(\"<div id='\" + id + \"'></div>\");\n",
       "    if (!fig.cell_info) {\n",
       "        console.error(\"Failed to find cell for figure\", id, fig);\n",
       "        return;\n",
       "    }\n",
       "\n",
       "    var output_index = fig.cell_info[2]\n",
       "    var cell = fig.cell_info[0];\n",
       "\n",
       "};\n",
       "\n",
       "mpl.figure.prototype.handle_close = function(fig, msg) {\n",
       "    var width = fig.canvas.width/mpl.ratio\n",
       "    fig.root.unbind('remove')\n",
       "\n",
       "    // Update the output cell to use the data from the current canvas.\n",
       "    fig.push_to_output();\n",
       "    var dataURL = fig.canvas.toDataURL();\n",
       "    // Re-enable the keyboard manager in IPython - without this line, in FF,\n",
       "    // the notebook keyboard shortcuts fail.\n",
       "    IPython.keyboard_manager.enable()\n",
       "    $(fig.parent_element).html('<img src=\"' + dataURL + '\" width=\"' + width + '\">');\n",
       "    fig.close_ws(fig, msg);\n",
       "}\n",
       "\n",
       "mpl.figure.prototype.close_ws = function(fig, msg){\n",
       "    fig.send_message('closing', msg);\n",
       "    // fig.ws.close()\n",
       "}\n",
       "\n",
       "mpl.figure.prototype.push_to_output = function(remove_interactive) {\n",
       "    // Turn the data on the canvas into data in the output cell.\n",
       "    var width = this.canvas.width/mpl.ratio\n",
       "    var dataURL = this.canvas.toDataURL();\n",
       "    this.cell_info[1]['text/html'] = '<img src=\"' + dataURL + '\" width=\"' + width + '\">';\n",
       "}\n",
       "\n",
       "mpl.figure.prototype.updated_canvas_event = function() {\n",
       "    // Tell IPython that the notebook contents must change.\n",
       "    IPython.notebook.set_dirty(true);\n",
       "    this.send_message(\"ack\", {});\n",
       "    var fig = this;\n",
       "    // Wait a second, then push the new image to the DOM so\n",
       "    // that it is saved nicely (might be nice to debounce this).\n",
       "    setTimeout(function () { fig.push_to_output() }, 1000);\n",
       "}\n",
       "\n",
       "mpl.figure.prototype._init_toolbar = function() {\n",
       "    var fig = this;\n",
       "\n",
       "    var nav_element = $('<div/>');\n",
       "    nav_element.attr('style', 'width: 100%');\n",
       "    this.root.append(nav_element);\n",
       "\n",
       "    // Define a callback function for later on.\n",
       "    function toolbar_event(event) {\n",
       "        return fig.toolbar_button_onclick(event['data']);\n",
       "    }\n",
       "    function toolbar_mouse_event(event) {\n",
       "        return fig.toolbar_button_onmouseover(event['data']);\n",
       "    }\n",
       "\n",
       "    for(var toolbar_ind in mpl.toolbar_items){\n",
       "        var name = mpl.toolbar_items[toolbar_ind][0];\n",
       "        var tooltip = mpl.toolbar_items[toolbar_ind][1];\n",
       "        var image = mpl.toolbar_items[toolbar_ind][2];\n",
       "        var method_name = mpl.toolbar_items[toolbar_ind][3];\n",
       "\n",
       "        if (!name) { continue; };\n",
       "\n",
       "        var button = $('<button class=\"btn btn-default\" href=\"#\" title=\"' + name + '\"><i class=\"fa ' + image + ' fa-lg\"></i></button>');\n",
       "        button.click(method_name, toolbar_event);\n",
       "        button.mouseover(tooltip, toolbar_mouse_event);\n",
       "        nav_element.append(button);\n",
       "    }\n",
       "\n",
       "    // Add the status bar.\n",
       "    var status_bar = $('<span class=\"mpl-message\" style=\"text-align:right; float: right;\"/>');\n",
       "    nav_element.append(status_bar);\n",
       "    this.message = status_bar[0];\n",
       "\n",
       "    // Add the close button to the window.\n",
       "    var buttongrp = $('<div class=\"btn-group inline pull-right\"></div>');\n",
       "    var button = $('<button class=\"btn btn-mini btn-primary\" href=\"#\" title=\"Stop Interaction\"><i class=\"fa fa-power-off icon-remove icon-large\"></i></button>');\n",
       "    button.click(function (evt) { fig.handle_close(fig, {}); } );\n",
       "    button.mouseover('Stop Interaction', toolbar_mouse_event);\n",
       "    buttongrp.append(button);\n",
       "    var titlebar = this.root.find($('.ui-dialog-titlebar'));\n",
       "    titlebar.prepend(buttongrp);\n",
       "}\n",
       "\n",
       "mpl.figure.prototype._root_extra_style = function(el){\n",
       "    var fig = this\n",
       "    el.on(\"remove\", function(){\n",
       "\tfig.close_ws(fig, {});\n",
       "    });\n",
       "}\n",
       "\n",
       "mpl.figure.prototype._canvas_extra_style = function(el){\n",
       "    // this is important to make the div 'focusable\n",
       "    el.attr('tabindex', 0)\n",
       "    // reach out to IPython and tell the keyboard manager to turn it's self\n",
       "    // off when our div gets focus\n",
       "\n",
       "    // location in version 3\n",
       "    if (IPython.notebook.keyboard_manager) {\n",
       "        IPython.notebook.keyboard_manager.register_events(el);\n",
       "    }\n",
       "    else {\n",
       "        // location in version 2\n",
       "        IPython.keyboard_manager.register_events(el);\n",
       "    }\n",
       "\n",
       "}\n",
       "\n",
       "mpl.figure.prototype._key_event_extra = function(event, name) {\n",
       "    var manager = IPython.notebook.keyboard_manager;\n",
       "    if (!manager)\n",
       "        manager = IPython.keyboard_manager;\n",
       "\n",
       "    // Check for shift+enter\n",
       "    if (event.shiftKey && event.which == 13) {\n",
       "        this.canvas_div.blur();\n",
       "        // select the cell after this one\n",
       "        var index = IPython.notebook.find_cell_index(this.cell_info[0]);\n",
       "        IPython.notebook.select(index + 1);\n",
       "    }\n",
       "}\n",
       "\n",
       "mpl.figure.prototype.handle_save = function(fig, msg) {\n",
       "    fig.ondownload(fig, null);\n",
       "}\n",
       "\n",
       "\n",
       "mpl.find_output_cell = function(html_output) {\n",
       "    // Return the cell and output element which can be found *uniquely* in the notebook.\n",
       "    // Note - this is a bit hacky, but it is done because the \"notebook_saving.Notebook\"\n",
       "    // IPython event is triggered only after the cells have been serialised, which for\n",
       "    // our purposes (turning an active figure into a static one), is too late.\n",
       "    var cells = IPython.notebook.get_cells();\n",
       "    var ncells = cells.length;\n",
       "    for (var i=0; i<ncells; i++) {\n",
       "        var cell = cells[i];\n",
       "        if (cell.cell_type === 'code'){\n",
       "            for (var j=0; j<cell.output_area.outputs.length; j++) {\n",
       "                var data = cell.output_area.outputs[j];\n",
       "                if (data.data) {\n",
       "                    // IPython >= 3 moved mimebundle to data attribute of output\n",
       "                    data = data.data;\n",
       "                }\n",
       "                if (data['text/html'] == html_output) {\n",
       "                    return [cell, data, j];\n",
       "                }\n",
       "            }\n",
       "        }\n",
       "    }\n",
       "}\n",
       "\n",
       "// Register the function which deals with the matplotlib target/channel.\n",
       "// The kernel may be null if the page has been refreshed.\n",
       "if (IPython.notebook.kernel != null) {\n",
       "    IPython.notebook.kernel.comm_manager.register_target('matplotlib', mpl.mpl_figure_comm);\n",
       "}\n"
      ],
      "text/plain": [
       "<IPython.core.display.Javascript object>"
      ]
     },
     "metadata": {},
     "output_type": "display_data"
    },
    {
     "data": {
      "text/html": [
       "<img src=\"data:image/png;base64,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\" width=\"640\">"
      ],
      "text/plain": [
       "<IPython.core.display.HTML object>"
      ]
     },
     "metadata": {},
     "output_type": "display_data"
    },
    {
     "data": {
      "text/plain": [
       "<matplotlib.legend.Legend at 0x7f07e9acff10>"
      ]
     },
     "execution_count": 382,
     "metadata": {},
     "output_type": "execute_result"
    }
   ],
   "source": [
    "%matplotlib notebook\n",
    "import matplotlib.pyplot as plt\n",
    "\n",
    "fig, ax = plt.subplots()\n",
    "\n",
    "ax.plot(N_ancilla, old_CNOT, color='b', label='old method CNOT')\n",
    "ax.plot(N_ancilla, old_single_G, color='b', label='old method single Q gates', linestyle='--')\n",
    "\n",
    "ax.plot(N_ancilla, new_CNOT, color='r', label='new method CNOT')\n",
    "ax.plot(N_ancilla, new_single_G, color='r', label='new method single Q gates', linestyle='--')\n",
    "\n",
    "ax.set(xlabel='No. Ancilla', ylabel='No. gates')\n",
    "#                                         ,title='Scaling of methods')\n",
    "\n",
    "ax.set_xticks(N_ancilla)\n",
    "\n",
    "ax.grid()\n",
    "plt.legend()"
   ]
  },
  {
   "cell_type": "code",
   "execution_count": null,
   "metadata": {},
   "outputs": [],
   "source": []
  },
  {
   "cell_type": "code",
   "execution_count": 383,
   "metadata": {},
   "outputs": [],
   "source": [
    "# def reduction(n_ancilla_qubits):\n",
    "    \n",
    "#     state_array = np.arange(0,2**n_ancilla_qubits,1)\n",
    "#     grey_state_array =np.array([int_to_Gray(i, n_ancilla_qubits) for i in state_array])\n",
    "    \n",
    "\n",
    "#     for state_1_index, state_1 in enumerate(grey_state_array[:-1]):\n",
    "#         state_2=grey_state_array[state_1_index+1]\n",
    "        \n",
    "#         if state_1[0] == state_2[0]:\n",
    "#             n_common_bits=0\n",
    "#             for bit_1_index, state_1_bit in enumerate(state_1[1:]):\n",
    "#                 state_2_bit = state_2[1:][bit_1_index]\n",
    "#                 if state_1_bit==state_2_bit:\n",
    "#                     n_common_bits+=1\n",
    "#                 else:\n",
    "#                     break\n",
    "                    \n",
    "#             if n_common_bits==0:\n",
    "#                 ## c-T*c-T = X\n",
    "#                 num_T_removed=2\n",
    "#                 num_X_added=1\n",
    "            \n",
    "#                 # TXT = XT\n",
    "#                 num_T_removed+=1\n",
    "                \n",
    "#             elif n_common_bits==n_ancilla_qubits-2:\n",
    "#                 # TT = I\n",
    "#                 num_T_removed=2*n_common_bits\n",
    "                \n",
    "#                 # c-T c-T = X\n",
    "#                 num_T_removed+=2\n",
    "#                 num_X_added=1\n",
    "                \n",
    "#             else:\n",
    "#                 # TT = I\n",
    "#                 num_T_removed=2*n_common_bits\n",
    "                \n",
    "#                 # c-T c-T = X\n",
    "#                 num_T_removed+=2\n",
    "#                 num_X_added=1\n",
    "                \n",
    "#                 # TXT = XT\n",
    "#                 num_T_removed+=1\n",
    "                \n",
    "                \n",
    "#         else:\n",
    "#             ## c-T*c-T = X\n",
    "#             num_T_removed=2\n",
    "#             num_X_added=1\n",
    "            \n",
    "#             # TXT = XT\n",
    "#             num_T_removed+=1\n",
    "        \n",
    "#         print(state_1, ' vs ', state_2)\n",
    "#         if (state_1[0] == state_2[0]) and (n_common_bits!=n_ancilla_qubits-2):\n",
    "#             print('No. common bits = ', n_common_bits)\n",
    "#         print('T removed = ',num_T_removed)\n",
    "#         print('X added   = ',num_X_added)\n",
    "#         print('###')\n",
    "#     return num_T_removed, num_X_added\n",
    "        \n",
    "\n",
    "# reduction(5)"
   ]
  },
  {
   "cell_type": "code",
   "execution_count": null,
   "metadata": {},
   "outputs": [],
   "source": []
  },
  {
   "cell_type": "code",
   "execution_count": null,
   "metadata": {},
   "outputs": [],
   "source": []
  },
  {
   "cell_type": "code",
   "execution_count": null,
   "metadata": {},
   "outputs": [],
   "source": [
    "cirq.Circuit(cirq.X.controlled(num_controls=2,control_values= [1, 1]).on(qubits[1], qubits[2],  qubits[3]))"
   ]
  },
  {
   "cell_type": "code",
   "execution_count": null,
   "metadata": {},
   "outputs": [],
   "source": [
    "qubits = list(cirq.LineQubit.range(4))\n",
    "circuit = cirq.Circuit(\n",
    "cirq.Circuit(cirq.X.controlled(num_controls=2,control_values= [1, 1]).on(qubits[1], qubits[2],  qubits[3])),\n",
    "cirq.Circuit(cirq.X.controlled(num_controls=1,control_values= [0]).on(qubits[0], qubits[2])),\n",
    "cirq.Circuit(cirq.X.controlled(num_controls=2,control_values= [1, 1]).on(qubits[1], qubits[2],  qubits[3])) \n",
    ")\n",
    "circuit"
   ]
  },
  {
   "cell_type": "code",
   "execution_count": null,
   "metadata": {},
   "outputs": [],
   "source": [
    "qubits = list(cirq.LineQubit.range(4))\n",
    "circuit2 = cirq.Circuit(\n",
    "cirq.Circuit(cirq.X.controlled(num_controls=1,control_values= [0]).on(qubits[0], qubits[2])),\n",
    "cirq.Circuit(cirq.X.controlled(num_controls=2,control_values= [0, 1]).on(qubits[0], qubits[1],  qubits[3])) \n",
    ")\n",
    "circuit2"
   ]
  },
  {
   "cell_type": "code",
   "execution_count": null,
   "metadata": {},
   "outputs": [],
   "source": [
    "np.array_equal(circuit.unitary(), circuit2.unitary())"
   ]
  },
  {
   "cell_type": "code",
   "execution_count": null,
   "metadata": {},
   "outputs": [],
   "source": []
  },
  {
   "cell_type": "code",
   "execution_count": null,
   "metadata": {},
   "outputs": [],
   "source": []
  },
  {
   "cell_type": "code",
   "execution_count": null,
   "metadata": {},
   "outputs": [],
   "source": [
    "qubits = list(cirq.LineQubit.range(4))\n",
    "circuit = cirq.Circuit(\n",
    "cirq.Circuit(cirq.X.controlled(num_controls=3, control_values=[0,0,0]).on(qubits[0],qubits[1],qubits[2],qubits[3])),\n",
    "cirq.Circuit(cirq.X.controlled(num_controls=3, control_values=[1,0,0]).on(qubits[0],qubits[1],qubits[2],qubits[3])),\n",
    "cirq.Circuit(cirq.X.controlled(num_controls=3, control_values=[1,1,0]).on(qubits[0],qubits[1],qubits[2],qubits[3])),\n",
    "cirq.Circuit(cirq.X.controlled(num_controls=3, control_values=[0,1,0]).on(qubits[0],qubits[1],qubits[2],qubits[3])),\n",
    "cirq.Circuit(cirq.X.controlled(num_controls=3, control_values=[0,1,1]).on(qubits[0],qubits[1],qubits[2],qubits[3])),\n",
    "cirq.Circuit(cirq.X.controlled(num_controls=3, control_values=[1,1,1]).on(qubits[0],qubits[1],qubits[2],qubits[3])),\n",
    "cirq.Circuit(cirq.X.controlled(num_controls=3, control_values=[1,0,1]).on(qubits[0],qubits[1],qubits[2],qubits[3])),\n",
    "cirq.Circuit(cirq.X.controlled(num_controls=3, control_values=[0,0,1]).on(qubits[0],qubits[1],qubits[2],qubits[3])),\n",
    ")\n",
    "circuit"
   ]
  },
  {
   "cell_type": "code",
   "execution_count": null,
   "metadata": {},
   "outputs": [],
   "source": [
    "qubits = list(cirq.LineQubit.range(4))\n",
    "circuit2 = cirq.Circuit(\n",
    "    cirq.I.on(qubits[0]),\n",
    "    cirq.I.on(qubits[1]),\n",
    "    cirq.I.on(qubits[2]),\n",
    "    cirq.X.on(qubits[3]),)\n",
    "circuit2"
   ]
  },
  {
   "cell_type": "code",
   "execution_count": null,
   "metadata": {},
   "outputs": [],
   "source": [
    "np.array_equal(circuit.unitary(), circuit2.unitary())"
   ]
  },
  {
   "cell_type": "code",
   "execution_count": null,
   "metadata": {},
   "outputs": [],
   "source": []
  },
  {
   "cell_type": "code",
   "execution_count": null,
   "metadata": {},
   "outputs": [],
   "source": []
  },
  {
   "cell_type": "code",
   "execution_count": null,
   "metadata": {},
   "outputs": [],
   "source": [
    "qubits = list(cirq.LineQubit.range(4))\n",
    "circuit = cirq.Circuit(\n",
    "cirq.Circuit(cirq.X.controlled(num_controls=3, control_values=[0,0,0]).on(qubits[0],qubits[1],qubits[2],qubits[3])),\n",
    "cirq.Circuit(cirq.X.controlled(num_controls=3, control_values=[1,0,0]).on(qubits[0],qubits[1],qubits[2],qubits[3]))\n",
    ")\n",
    "circuit"
   ]
  },
  {
   "cell_type": "code",
   "execution_count": null,
   "metadata": {},
   "outputs": [],
   "source": [
    "qubits = list(cirq.LineQubit.range(4))\n",
    "circuit2 = cirq.Circuit(\n",
    "cirq.I.on(qubits[0]),\n",
    "cirq.Circuit(cirq.X.controlled(num_controls=2, control_values=[0,0]).on(qubits[1],qubits[2],qubits[3])),\n",
    ")\n",
    "circuit2"
   ]
  },
  {
   "cell_type": "code",
   "execution_count": null,
   "metadata": {},
   "outputs": [],
   "source": [
    "np.array_equal(circuit.unitary(), circuit2.unitary())"
   ]
  },
  {
   "cell_type": "code",
   "execution_count": null,
   "metadata": {},
   "outputs": [],
   "source": []
  },
  {
   "cell_type": "code",
   "execution_count": null,
   "metadata": {},
   "outputs": [],
   "source": []
  },
  {
   "cell_type": "markdown",
   "metadata": {},
   "source": [
    "## cannot do"
   ]
  },
  {
   "cell_type": "code",
   "execution_count": 67,
   "metadata": {},
   "outputs": [],
   "source": [
    "from openfermion.ops import QubitOperator"
   ]
  },
  {
   "cell_type": "code",
   "execution_count": null,
   "metadata": {},
   "outputs": [],
   "source": [
    "QubitOperator('X0')*QubitOperator('Y0')"
   ]
  },
  {
   "cell_type": "code",
   "execution_count": null,
   "metadata": {},
   "outputs": [],
   "source": [
    "class phase_Pauli_gate(cirq.SingleQubitGate):\n",
    "    \"\"\"\n",
    "    Description\n",
    "\n",
    "    Args:\n",
    "        theta (float): angle to rotate by in radians.\n",
    "        number_control_qubits (int): number of control qubits\n",
    "    \"\"\"\n",
    "\n",
    "    def __init__(self, phase, pauli_str):\n",
    "        self.phase = phase\n",
    "        self.pauli_str = pauli_str\n",
    "\n",
    "    def _unitary_(self):\n",
    "        if self.pauli_str == 'X':\n",
    "            return cirq.X._unitary_()*self.phase\n",
    "        elif self.pauli_str == 'Y':\n",
    "            return cirq.Y._unitary_()*self.phase\n",
    "        elif self.pauli_str == 'Z':\n",
    "            return cirq.Z._unitary_()*self.phase\n",
    "        elif self.pauli_str == 'I':\n",
    "            return cirq.I._unitary_()*self.phase\n",
    "        else:\n",
    "            raise ValueError('Not a Pauli operation')\n",
    "\n",
    "    def num_qubits(self):\n",
    "        return 1\n",
    "\n",
    "    def _circuit_diagram_info_(self, args):\n",
    "        return str(self.phase) +'*'+self.pauli_str\n",
    "\n",
    "    def __str__(self):\n",
    "        return str(self.phase) +'*'+self.pauli_str\n",
    "\n",
    "    def __repr__(self):\n",
    "        return self.__str__()"
   ]
  },
  {
   "cell_type": "code",
   "execution_count": null,
   "metadata": {},
   "outputs": [],
   "source": [
    "QubitOperator('Y0',-1)*QubitOperator('Z0', 1j)"
   ]
  },
  {
   "cell_type": "code",
   "execution_count": null,
   "metadata": {},
   "outputs": [],
   "source": [
    "qubits = list(cirq.LineQubit.range(4))\n",
    "circuit = cirq.Circuit(\n",
    "cirq.Circuit(cirq.X.controlled(num_controls=3, control_values=[0,0,0]).on(qubits[0],qubits[1],qubits[2],qubits[3])),\n",
    "cirq.Circuit(cirq.Y.controlled(num_controls=3, control_values=[1,0,0]).on(qubits[0],qubits[1],qubits[2],qubits[3]))\n",
    ")\n",
    "circuit"
   ]
  },
  {
   "cell_type": "code",
   "execution_count": null,
   "metadata": {},
   "outputs": [],
   "source": [
    "phase_Z0_gate = phase_Pauli_gate(1j, 'Z')\n",
    "phase_Y_gate = phase_Pauli_gate(-1, 'Y')\n",
    "\n",
    "qubits = list(cirq.LineQubit.range(4))\n",
    "circuit2 = cirq.Circuit(\n",
    "#     cirq.Circuit(phase_Y_gate.controlled(num_controls=1, control_values=[0]).on(qubits[0],qubits[3])),\n",
    "#     cirq.Circuit(cirq.X.controlled(num_controls=1, control_values=[1]).on(qubits[0],qubits[3])),\n",
    "    cirq.I.on(qubits[0]),\n",
    "    cirq.Circuit(phase_Z0_gate.controlled(num_controls=2, control_values=[0,0]).on(qubits[1],qubits[2],qubits[3])),\n",
    ")\n",
    "circuit2"
   ]
  },
  {
   "cell_type": "code",
   "execution_count": null,
   "metadata": {},
   "outputs": [],
   "source": [
    "np.array_equal(circuit.unitary(), circuit2.unitary())"
   ]
  },
  {
   "cell_type": "code",
   "execution_count": null,
   "metadata": {},
   "outputs": [],
   "source": []
  },
  {
   "cell_type": "code",
   "execution_count": null,
   "metadata": {},
   "outputs": [],
   "source": []
  },
  {
   "cell_type": "code",
   "execution_count": 93,
   "metadata": {},
   "outputs": [],
   "source": [
    "OP1=QubitOperator('X0 I1',1)+QubitOperator('X0 Y1',1)\n",
    "\n",
    "OP2=QubitOperator('Z0 Z1',1)+QubitOperator('Y0 X1',1)"
   ]
  },
  {
   "cell_type": "code",
   "execution_count": 94,
   "metadata": {},
   "outputs": [
    {
     "data": {
      "text/plain": [
       "False"
      ]
     },
     "execution_count": 94,
     "metadata": {},
     "output_type": "execute_result"
    }
   ],
   "source": [
    "OP1*OP2==OP2*OP1"
   ]
  },
  {
   "cell_type": "code",
   "execution_count": 85,
   "metadata": {},
   "outputs": [
    {
     "data": {
      "text/plain": [
       "True"
      ]
     },
     "execution_count": 85,
     "metadata": {},
     "output_type": "execute_result"
    }
   ],
   "source": [
    "OP1=QubitOperator('X0 X1',1)+QubitOperator('Z0 Z1',1)\n",
    "\n",
    "OP2=QubitOperator('Y0 Y1',1)\n",
    "OP1*OP2==OP2*OP1"
   ]
  },
  {
   "cell_type": "code",
   "execution_count": 202,
   "metadata": {},
   "outputs": [
    {
     "data": {
      "text/plain": [
       "-1j [Z0]"
      ]
     },
     "execution_count": 202,
     "metadata": {},
     "output_type": "execute_result"
    }
   ],
   "source": [
    "OP1=QubitOperator('Y0',1)\n",
    "\n",
    "OP2=QubitOperator('X0',1)\n",
    "OP1*OP2"
   ]
  },
  {
   "cell_type": "code",
   "execution_count": 203,
   "metadata": {},
   "outputs": [
    {
     "data": {
      "text/plain": [
       "1j"
      ]
     },
     "execution_count": 203,
     "metadata": {},
     "output_type": "execute_result"
    }
   ],
   "source": [
    "1j*1j*-1j"
   ]
  }
 ],
 "metadata": {
  "kernelspec": {
   "display_name": "Python 3",
   "language": "python",
   "name": "python3"
  },
  "language_info": {
   "codemirror_mode": {
    "name": "ipython",
    "version": 3
   },
   "file_extension": ".py",
   "mimetype": "text/x-python",
   "name": "python",
   "nbconvert_exporter": "python",
   "pygments_lexer": "ipython3",
   "version": "3.7.6"
  }
 },
 "nbformat": 4,
 "nbformat_minor": 4
}
